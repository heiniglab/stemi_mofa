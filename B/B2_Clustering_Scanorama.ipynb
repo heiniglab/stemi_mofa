{
 "cells": [
  {
   "cell_type": "code",
   "execution_count": 107,
   "id": "cf789a81-88c1-4a99-9c9f-cd73014f08cc",
   "metadata": {},
   "outputs": [],
   "source": [
    "### Clustering Data only for Scanorama"
   ]
  },
  {
   "cell_type": "code",
   "execution_count": 108,
   "id": "efa743cd-c1b6-4985-805f-ab39be65394d",
   "metadata": {
    "tags": []
   },
   "outputs": [],
   "source": [
    "### TBD check out clusters + differences on complete data"
   ]
  },
  {
   "cell_type": "markdown",
   "id": "dbcd130f-5664-4096-86ba-24a61adb780b",
   "metadata": {
    "tags": []
   },
   "source": [
    "# Load Libraries"
   ]
  },
  {
   "cell_type": "markdown",
   "id": "9a032e6c-144f-4fd4-b0cb-5da84dc4ca51",
   "metadata": {},
   "source": [
    "## External libraries"
   ]
  },
  {
   "cell_type": "code",
   "execution_count": 109,
   "id": "e7b901c5-81d1-43ca-affc-af247830be54",
   "metadata": {},
   "outputs": [],
   "source": [
    "import scanpy as sc\n",
    "import anndata as an\n",
    "import pandas as pd\n",
    "import numpy as np\n",
    "import matplotlib as mpl\n",
    "import matplotlib.pyplot as plt\n",
    "import seaborn as sns\n",
    "import scanorama\n",
    "import os\n",
    "import multiprocessing\n",
    "import random\n",
    "import time\n",
    "import git\n",
    "import sys\n",
    "from datetime import date"
   ]
  },
  {
   "cell_type": "markdown",
   "id": "23a62e2c-99f2-4fa5-a323-297609f3235a",
   "metadata": {},
   "source": [
    "## Own functions"
   ]
  },
  {
   "cell_type": "code",
   "execution_count": 110,
   "id": "7be21805-15d0-4387-9957-cdbc2a3c6142",
   "metadata": {},
   "outputs": [],
   "source": [
    "import MS1_Clustering"
   ]
  },
  {
   "cell_type": "code",
   "execution_count": 111,
   "id": "4a7b60f7-e776-4e59-8e0c-346a1c1db79f",
   "metadata": {},
   "outputs": [],
   "source": [
    "from MS1_Clustering import *"
   ]
  },
  {
   "cell_type": "markdown",
   "id": "da83bf5b-412b-4e13-88c3-ec0e1cf90ac1",
   "metadata": {},
   "source": [
    "# Load Data"
   ]
  },
  {
   "cell_type": "markdown",
   "id": "722838f1-e76c-464d-931a-69382c26c226",
   "metadata": {
    "tags": []
   },
   "source": [
    "## Configurations"
   ]
  },
  {
   "cell_type": "markdown",
   "id": "02513ed6-67e9-4ac0-8cd0-89f0993f51b1",
   "metadata": {},
   "source": [
    "### Technical configurations"
   ]
  },
  {
   "cell_type": "code",
   "execution_count": 112,
   "id": "689fd1e6-a6a6-44b3-94ba-d56310c5fa8f",
   "metadata": {},
   "outputs": [
    {
     "data": {
      "text/plain": [
       "48"
      ]
     },
     "execution_count": 112,
     "metadata": {},
     "output_type": "execute_result"
    }
   ],
   "source": [
    "multiprocessing.cpu_count()  ### total amount of cpu on the used core"
   ]
  },
  {
   "cell_type": "code",
   "execution_count": 113,
   "id": "4bb09cc3-4e23-40ef-be90-a82b628f8a7a",
   "metadata": {},
   "outputs": [
    {
     "data": {
      "text/plain": [
       "24"
      ]
     },
     "execution_count": 113,
     "metadata": {},
     "output_type": "execute_result"
    }
   ],
   "source": [
    "len(os.sched_getaffinity(0)) ### amount of available cpus"
   ]
  },
  {
   "cell_type": "code",
   "execution_count": 114,
   "id": "f53740f8-e42e-47aa-ac23-732c14750c23",
   "metadata": {},
   "outputs": [
    {
     "data": {
      "text/plain": [
       "1"
      ]
     },
     "execution_count": 114,
     "metadata": {},
     "output_type": "execute_result"
    }
   ],
   "source": [
    "sc.settings.n_jobs   # default number of CPUs to use for parallel computing"
   ]
  },
  {
   "cell_type": "code",
   "execution_count": 115,
   "id": "324ac160-39c9-4232-aed2-5ad56d3dcce8",
   "metadata": {},
   "outputs": [
    {
     "data": {
      "text/plain": [
       "15"
      ]
     },
     "execution_count": 115,
     "metadata": {},
     "output_type": "execute_result"
    }
   ],
   "source": [
    "sc.settings.max_memory  # maximum memory to use in GB"
   ]
  },
  {
   "cell_type": "code",
   "execution_count": 116,
   "id": "c96896ae-d2fb-48f5-a8f0-c5d121fd2dde",
   "metadata": {},
   "outputs": [],
   "source": [
    "random.seed(0)"
   ]
  },
  {
   "cell_type": "code",
   "execution_count": 117,
   "id": "881210e4-fc3e-434e-af4f-561ae30c057d",
   "metadata": {},
   "outputs": [],
   "source": [
    "ncore = '24'"
   ]
  },
  {
   "cell_type": "code",
   "execution_count": 118,
   "id": "9a033202-dd1a-4a70-8ebc-b4a1a8efee47",
   "metadata": {},
   "outputs": [],
   "source": [
    "random_state_var = 0"
   ]
  },
  {
   "cell_type": "code",
   "execution_count": 119,
   "id": "aa4a0b81-6cf9-45c4-9f69-df99f54c9b17",
   "metadata": {},
   "outputs": [],
   "source": [
    "os.environ[\"OMP_NUM_THREADS\"] = ncore\n",
    "os.environ[\"OPENBLAS_NUM_THREADS\"] = ncore\n",
    "os.environ[\"MKL_NUM_THREADS\"] = ncore\n",
    "os.environ[\"VECLIB_MAXIMUM_THREADS\"] = ncore\n",
    "os.environ[\"NUMEXPR_NUM_THREADS\"] = ncore"
   ]
  },
  {
   "cell_type": "code",
   "execution_count": 120,
   "id": "6af62785-f4a4-4b5f-aaca-f881c9bb5e20",
   "metadata": {
    "tags": []
   },
   "outputs": [
    {
     "name": "stdout",
     "output_type": "stream",
     "text": [
      "The `sinfo` package has changed name and is now called `session_info` to become more discoverable and self-explanatory. The `sinfo` PyPI package will be kept around to avoid breaking old installs and you can downgrade to 0.3.2 if you want to use it without seeing this message. For the latest features and bug fixes, please install `session_info` instead. The usage and defaults also changed slightly, so please review the latest README at https://gitlab.com/joelostblom/session_info.\n",
      "-----\n",
      "anndata     0.7.6\n",
      "scanpy      1.8.1\n",
      "sinfo       0.3.4\n",
      "-----\n",
      "MS1_Clustering      NA\n",
      "PIL                 8.3.1\n",
      "annoy               NA\n",
      "anyio               NA\n",
      "attr                21.2.0\n",
      "babel               2.9.1\n",
      "backcall            0.2.0\n",
      "beta_ufunc          NA\n",
      "binom_ufunc         NA\n",
      "brotli              NA\n",
      "certifi             2021.05.30\n",
      "cffi                1.14.6\n",
      "chardet             4.0.0\n",
      "charset_normalizer  2.0.0\n",
      "cycler              0.10.0\n",
      "cython_runtime      NA\n",
      "dateutil            2.8.2\n",
      "decorator           5.0.9\n",
      "defusedxml          0.7.1\n",
      "entrypoints         0.3\n",
      "fbpca               NA\n",
      "git                 3.1.23\n",
      "gitdb               4.0.7\n",
      "google              NA\n",
      "h5py                3.3.0\n",
      "idna                3.1\n",
      "igraph              0.9.6\n",
      "intervaltree        NA\n",
      "ipykernel           6.2.0\n",
      "ipython_genutils    0.2.0\n",
      "jedi                0.18.0\n",
      "jinja2              3.0.1\n",
      "joblib              1.0.1\n",
      "json5               NA\n",
      "jsonschema          3.2.0\n",
      "jupyter_server      1.10.2\n",
      "jupyterlab_server   2.7.1\n",
      "kiwisolver          1.3.1\n",
      "leidenalg           0.8.7\n",
      "llvmlite            0.36.0\n",
      "markupsafe          2.0.1\n",
      "matplotlib          3.4.3\n",
      "matplotlib_inline   NA\n",
      "mpl_toolkits        NA\n",
      "natsort             7.1.1\n",
      "nbclassic           NA\n",
      "nbformat            5.1.3\n",
      "nbinom_ufunc        NA\n",
      "numba               0.53.1\n",
      "numexpr             2.7.3\n",
      "numpy               1.21.2\n",
      "packaging           21.0\n",
      "pandas              1.3.2\n",
      "parso               0.8.2\n",
      "pexpect             4.8.0\n",
      "pickleshare         0.7.5\n",
      "pkg_resources       NA\n",
      "prometheus_client   NA\n",
      "prompt_toolkit      3.0.19\n",
      "ptyprocess          0.7.0\n",
      "pvectorc            NA\n",
      "pyexpat             NA\n",
      "pygments            2.10.0\n",
      "pyparsing           2.4.7\n",
      "pyrsistent          NA\n",
      "pytz                2021.1\n",
      "requests            2.26.0\n",
      "scanorama           1.7.1\n",
      "scipy               1.7.1\n",
      "seaborn             0.11.2\n",
      "send2trash          NA\n",
      "six                 1.16.0\n",
      "sklearn             0.24.2\n",
      "smmap               3.0.5\n",
      "sniffio             1.2.0\n",
      "socks               1.7.1\n",
      "sortedcontainers    2.4.0\n",
      "statsmodels         0.12.2\n",
      "storemagic          NA\n",
      "tables              3.6.1\n",
      "terminado           0.10.1\n",
      "texttable           1.6.4\n",
      "tornado             6.1\n",
      "traitlets           5.0.5\n",
      "typing_extensions   NA\n",
      "urllib3             1.26.6\n",
      "wcwidth             0.2.5\n",
      "websocket           0.57.0\n",
      "zmq                 22.2.1\n",
      "-----\n",
      "IPython             7.26.0\n",
      "jupyter_client      6.1.12\n",
      "jupyter_core        4.7.1\n",
      "jupyterlab          3.1.7\n",
      "notebook            6.4.3\n",
      "-----\n",
      "Python 3.9.6 | packaged by conda-forge | (default, Jul 11 2021, 03:39:48) [GCC 9.3.0]\n",
      "Linux-3.10.0-1160.71.1.el7.x86_64-x86_64-with-glibc2.17\n",
      "48 logical CPU cores, x86_64\n",
      "-----\n",
      "Session information updated at 2023-01-21 09:21\n",
      "\n"
     ]
    }
   ],
   "source": [
    "sc.logging.print_versions()\n",
    "sc.set_figure_params(facecolor=\"white\", figsize=(8, 8))\n",
    "sc.settings.verbosity = 0"
   ]
  },
  {
   "cell_type": "code",
   "execution_count": 121,
   "id": "d92701fd-48a4-4e75-bb5c-92ca11b63c72",
   "metadata": {},
   "outputs": [],
   "source": [
    "file_name = 'B2_Clustering_Scanorama.ipynb'"
   ]
  },
  {
   "cell_type": "code",
   "execution_count": 122,
   "id": "81a9e217-ef4d-4690-af0e-814fb5c42ef2",
   "metadata": {},
   "outputs": [],
   "source": [
    "repo = git.Repo('stark-stemi')"
   ]
  },
  {
   "cell_type": "markdown",
   "id": "7262de01-d1f1-4010-9b67-aa1c019e7500",
   "metadata": {},
   "source": [
    "### Parameters"
   ]
  },
  {
   "cell_type": "code",
   "execution_count": 123,
   "id": "8a435759-5ac0-42e6-ae38-ba8b0fc0de1d",
   "metadata": {},
   "outputs": [],
   "source": [
    "data_path = '../data/current'"
   ]
  },
  {
   "cell_type": "code",
   "execution_count": 124,
   "id": "7338e5b5-3c75-4c39-8a0f-4b0a082bcb48",
   "metadata": {},
   "outputs": [
    {
     "data": {
      "text/plain": [
       "'../data/current'"
      ]
     },
     "execution_count": 124,
     "metadata": {},
     "output_type": "execute_result"
    }
   ],
   "source": [
    "data_path"
   ]
  },
  {
   "cell_type": "code",
   "execution_count": 125,
   "id": "62baf030-af44-4b3d-9ae4-49274b349568",
   "metadata": {},
   "outputs": [],
   "source": [
    "variants = ['Scanorama']"
   ]
  },
  {
   "cell_type": "markdown",
   "id": "73dfc97e-682b-4b5a-ae4a-d95112e937b7",
   "metadata": {},
   "source": [
    "## Meta-Data File"
   ]
  },
  {
   "cell_type": "code",
   "execution_count": 126,
   "id": "c89fa992-2000-4d28-8cb1-7a6b4f0958c9",
   "metadata": {},
   "outputs": [
    {
     "name": "stdout",
     "output_type": "stream",
     "text": [
      "Last modifiedThu Sep  2 13:17:03 2021\n"
     ]
    }
   ],
   "source": [
    "data_set_path = data_path + \"/preprocessed-data/meta-data/Mapping_Hashtag_Sample.csv\"\n",
    "library_hashtag_mapping = pd.read_csv(data_set_path) \n",
    "print('Last modified' + time.ctime(os.path.getmtime(data_set_path)))"
   ]
  },
  {
   "cell_type": "code",
   "execution_count": 127,
   "id": "66d50f17-c487-422c-897b-09ce612724f5",
   "metadata": {
    "tags": []
   },
   "outputs": [],
   "source": [
    "#library_hashtag_mapping"
   ]
  },
  {
   "cell_type": "markdown",
   "id": "f049a3f9-1cb0-4e88-bbde-1e786d05d197",
   "metadata": {},
   "source": [
    "## Combined data from B1"
   ]
  },
  {
   "cell_type": "markdown",
   "id": "d6db7767-07f3-4fa6-b01b-cad4acedfb6a",
   "metadata": {},
   "source": [
    "### Scanorama Data"
   ]
  },
  {
   "cell_type": "code",
   "execution_count": 128,
   "id": "b0ed5d94-cee8-45aa-a326-87022e2e2284",
   "metadata": {},
   "outputs": [],
   "source": [
    "data_name = '/analysis/B/B1_Integrated_Scanorama_processed_rna.h5ad'\n",
    "#_backup_23_12_2022"
   ]
  },
  {
   "cell_type": "code",
   "execution_count": 129,
   "id": "ccfbd2f2-9a00-46d9-9310-c2112db53867",
   "metadata": {},
   "outputs": [],
   "source": [
    "anndata_dict = dict.fromkeys(variants)"
   ]
  },
  {
   "cell_type": "code",
   "execution_count": 130,
   "id": "c0f91ccb-ef7d-4f96-9cd1-7f8bb45d1e00",
   "metadata": {},
   "outputs": [
    {
     "name": "stdout",
     "output_type": "stream",
     "text": [
      "../data/current//analysis/B/B1_Integrated_Scanorama_processed_rna.h5ad\n",
      "Last modifiedSat Jan 21 00:19:44 2023\n"
     ]
    }
   ],
   "source": [
    "for key in anndata_dict:\n",
    "    dataset_path = data_path + '/' + data_name\n",
    "    \n",
    "    print(dataset_path)\n",
    "    print('Last modified' + time.ctime(os.path.getmtime(dataset_path)))\n",
    "    \n",
    "    adata_orig = sc.read_h5ad(dataset_path)\n",
    "  \n",
    "    anndata_dict[key]= adata_orig # save anndata in dictionary\n",
    "    anndata_dict[key].uns['data_load_time'] = time.ctime(os.path.getmtime(dataset_path))  # save the last modified timestamp of the data loaded\n",
    "    anndata_dict[key].uns['data_load_name'] = dataset_path # save the data path of the data loaded \n",
    "    "
   ]
  },
  {
   "cell_type": "code",
   "execution_count": 131,
   "id": "d0eae9cc-59de-4208-92bd-831d31fd49e0",
   "metadata": {
    "tags": []
   },
   "outputs": [],
   "source": [
    "# anndata_dict  # cells have been filtered based on QC metrics; only 2000 highly variable genes that have been integrate"
   ]
  },
  {
   "cell_type": "markdown",
   "id": "dfa52026-47ab-4766-b8d9-fd4e7bc65cdb",
   "metadata": {},
   "source": [
    "# Prepare data for clustering (different variants)"
   ]
  },
  {
   "cell_type": "markdown",
   "id": "dd63517f-2f88-4657-8004-0c06cf1c6e35",
   "metadata": {},
   "source": [
    "## Complete"
   ]
  },
  {
   "cell_type": "code",
   "execution_count": 132,
   "id": "b4c88ac6-0da2-4536-8df8-04dab6c184b9",
   "metadata": {},
   "outputs": [],
   "source": [
    "anndata_dict_all = dict.fromkeys(variants)"
   ]
  },
  {
   "cell_type": "code",
   "execution_count": 133,
   "id": "cb918cad-bc4d-40a2-a9c3-0d43cf15a24d",
   "metadata": {},
   "outputs": [],
   "source": [
    "for key in anndata_dict:\n",
    "    anndata_dict_all[key] = anndata_dict[key]"
   ]
  },
  {
   "cell_type": "code",
   "execution_count": 134,
   "id": "53cbb8fa-7e5c-4e42-bf8e-bd98f57775bc",
   "metadata": {},
   "outputs": [
    {
     "data": {
      "text/plain": [
       "{'Scanorama': AnnData object with n_obs × n_vars = 289075 × 2000\n",
       "     obs: 'nCount_HTO', 'nFeature_HTO', 'nCount_RNA', 'nFeature_RNA', 'percent_mt', 'HTO_maxID', 'HTO_secondID', 'HTO_margin', 'HTO_classification', 'HTO_classification.global', 'hash.ID', 'HTO_classification_final', 'name', 'library', 'id', 'read', 'pattern', 'sequence', 'feature_type', 'Unnamed: 7', 'in_sample', 'display_name', 'group', 'HTO_Doublet_Classification', 'doublet_score', 'predicted_doublet', 'A5_scrublet_predicted_doublet_lib0.1', 'A5_scrublet_doublet_score_lib_0.1', 'A5_scrublet_predicted_doublet_lib0.2', 'A5_scrublet_doublet_score_lib_0.2', 'A5_scrublet_predicted_doublet_lib', 'A5_scrublet_doublet_score_lib', 'n_genes', 'n_genes_by_counts', 'total_counts', 'total_counts_mt', 'pct_counts_mt', 'valid_cell_filter_dying', 'valid_cell_filter_doublet', 'A7_PCA_50_10_neighbors_cluster', 'A7_PCA_100_10_neighbors_cluster', 'A7_PCA_100_50_neighbors_cluster', 'A7_PCA_500_50_neighbors_cluster', 'A7_Singlet_PCA_50_10_neighbors_cluster', 'A7_Singlet_PCA_100_10_neighbors_cluster', 'A7_Singlet_RB_MT_PCA_50_10_neighbors_cluster', 'A7_Singlet_RB_MT_PCA_100_10_neighbors_cluster', 'library_id'\n",
       "     var: 'gene_ids', 'feature_types', 'genome', 'mt', 'rb', 'n_cells-L1', 'n_cells_by_counts-L1', 'mean_counts-L1', 'pct_dropout_by_counts-L1', 'total_counts-L1', 'highly_variable-L1', 'means-L1', 'dispersions-L1', 'dispersions_norm-L1', 'n_cells-L10', 'n_cells_by_counts-L10', 'mean_counts-L10', 'pct_dropout_by_counts-L10', 'total_counts-L10', 'highly_variable-L10', 'means-L10', 'dispersions-L10', 'dispersions_norm-L10', 'n_cells-L11', 'n_cells_by_counts-L11', 'mean_counts-L11', 'pct_dropout_by_counts-L11', 'total_counts-L11', 'highly_variable-L11', 'means-L11', 'dispersions-L11', 'dispersions_norm-L11', 'n_cells-L12', 'n_cells_by_counts-L12', 'mean_counts-L12', 'pct_dropout_by_counts-L12', 'total_counts-L12', 'highly_variable-L12', 'means-L12', 'dispersions-L12', 'dispersions_norm-L12', 'n_cells-L13', 'n_cells_by_counts-L13', 'mean_counts-L13', 'pct_dropout_by_counts-L13', 'total_counts-L13', 'highly_variable-L13', 'means-L13', 'dispersions-L13', 'dispersions_norm-L13', 'n_cells-L14', 'n_cells_by_counts-L14', 'mean_counts-L14', 'pct_dropout_by_counts-L14', 'total_counts-L14', 'highly_variable-L14', 'means-L14', 'dispersions-L14', 'dispersions_norm-L14', 'n_cells-L2', 'n_cells_by_counts-L2', 'mean_counts-L2', 'pct_dropout_by_counts-L2', 'total_counts-L2', 'highly_variable-L2', 'means-L2', 'dispersions-L2', 'dispersions_norm-L2', 'n_cells-L3', 'n_cells_by_counts-L3', 'mean_counts-L3', 'pct_dropout_by_counts-L3', 'total_counts-L3', 'highly_variable-L3', 'means-L3', 'dispersions-L3', 'dispersions_norm-L3', 'n_cells-L4', 'n_cells_by_counts-L4', 'mean_counts-L4', 'pct_dropout_by_counts-L4', 'total_counts-L4', 'highly_variable-L4', 'means-L4', 'dispersions-L4', 'dispersions_norm-L4', 'n_cells-L5', 'n_cells_by_counts-L5', 'mean_counts-L5', 'pct_dropout_by_counts-L5', 'total_counts-L5', 'highly_variable-L5', 'means-L5', 'dispersions-L5', 'dispersions_norm-L5', 'n_cells-L6', 'n_cells_by_counts-L6', 'mean_counts-L6', 'pct_dropout_by_counts-L6', 'total_counts-L6', 'highly_variable-L6', 'means-L6', 'dispersions-L6', 'dispersions_norm-L6', 'n_cells-L7', 'n_cells_by_counts-L7', 'mean_counts-L7', 'pct_dropout_by_counts-L7', 'total_counts-L7', 'highly_variable-L7', 'means-L7', 'dispersions-L7', 'dispersions_norm-L7', 'n_cells-L8', 'n_cells_by_counts-L8', 'mean_counts-L8', 'pct_dropout_by_counts-L8', 'total_counts-L8', 'highly_variable-L8', 'means-L8', 'dispersions-L8', 'dispersions_norm-L8', 'n_cells-L9', 'n_cells_by_counts-L9', 'mean_counts-L9', 'pct_dropout_by_counts-L9', 'total_counts-L9', 'highly_variable-L9', 'means-L9', 'dispersions-L9', 'dispersions_norm-L9'\n",
       "     uns: 'data_save_name', 'data_save_time', 'hvg', 'scrublet', 'data_load_time', 'data_load_name'\n",
       "     obsm: 'A6_only_highly_variable', 'Lib_X_pca', 'X_scanorama', 'X_scanorama_rb_mt', 'X_umapA7_PCA_100_10_neighbors', 'X_umapA7_PCA_100_50_neighbors', 'X_umapA7_PCA_500_50_neighbors', 'X_umapA7_PCA_50_10_neighbors'}"
      ]
     },
     "execution_count": 134,
     "metadata": {},
     "output_type": "execute_result"
    }
   ],
   "source": [
    "anndata_dict_all"
   ]
  },
  {
   "cell_type": "markdown",
   "id": "5eb3c007-cb9b-43bd-8386-6e514dc9f201",
   "metadata": {},
   "source": [
    "## Only singlets"
   ]
  },
  {
   "cell_type": "code",
   "execution_count": 135,
   "id": "2f8c5c48-def3-46ff-8499-5fb0e812e466",
   "metadata": {},
   "outputs": [],
   "source": [
    "anndata_dict_singlet = dict.fromkeys(variants)"
   ]
  },
  {
   "cell_type": "code",
   "execution_count": 136,
   "id": "1d4360be-e1f2-41dd-a70e-a92e2cf9e23b",
   "metadata": {},
   "outputs": [
    {
     "name": "stdout",
     "output_type": "stream",
     "text": [
      "Scanorama\n"
     ]
    }
   ],
   "source": [
    "for key in anndata_dict:\n",
    "    print(key)\n",
    "    anndata_dict_singlet[key] = anndata_dict[key][anndata_dict[key].obs['HTO_classification.global']=='Singlet']"
   ]
  },
  {
   "cell_type": "code",
   "execution_count": 137,
   "id": "98835c6f-e31b-421a-8b32-a8247277d7a4",
   "metadata": {},
   "outputs": [
    {
     "data": {
      "text/plain": [
       "{'Scanorama': View of AnnData object with n_obs × n_vars = 148275 × 2000\n",
       "     obs: 'nCount_HTO', 'nFeature_HTO', 'nCount_RNA', 'nFeature_RNA', 'percent_mt', 'HTO_maxID', 'HTO_secondID', 'HTO_margin', 'HTO_classification', 'HTO_classification.global', 'hash.ID', 'HTO_classification_final', 'name', 'library', 'id', 'read', 'pattern', 'sequence', 'feature_type', 'Unnamed: 7', 'in_sample', 'display_name', 'group', 'HTO_Doublet_Classification', 'doublet_score', 'predicted_doublet', 'A5_scrublet_predicted_doublet_lib0.1', 'A5_scrublet_doublet_score_lib_0.1', 'A5_scrublet_predicted_doublet_lib0.2', 'A5_scrublet_doublet_score_lib_0.2', 'A5_scrublet_predicted_doublet_lib', 'A5_scrublet_doublet_score_lib', 'n_genes', 'n_genes_by_counts', 'total_counts', 'total_counts_mt', 'pct_counts_mt', 'valid_cell_filter_dying', 'valid_cell_filter_doublet', 'A7_PCA_50_10_neighbors_cluster', 'A7_PCA_100_10_neighbors_cluster', 'A7_PCA_100_50_neighbors_cluster', 'A7_PCA_500_50_neighbors_cluster', 'A7_Singlet_PCA_50_10_neighbors_cluster', 'A7_Singlet_PCA_100_10_neighbors_cluster', 'A7_Singlet_RB_MT_PCA_50_10_neighbors_cluster', 'A7_Singlet_RB_MT_PCA_100_10_neighbors_cluster', 'library_id'\n",
       "     var: 'gene_ids', 'feature_types', 'genome', 'mt', 'rb', 'n_cells-L1', 'n_cells_by_counts-L1', 'mean_counts-L1', 'pct_dropout_by_counts-L1', 'total_counts-L1', 'highly_variable-L1', 'means-L1', 'dispersions-L1', 'dispersions_norm-L1', 'n_cells-L10', 'n_cells_by_counts-L10', 'mean_counts-L10', 'pct_dropout_by_counts-L10', 'total_counts-L10', 'highly_variable-L10', 'means-L10', 'dispersions-L10', 'dispersions_norm-L10', 'n_cells-L11', 'n_cells_by_counts-L11', 'mean_counts-L11', 'pct_dropout_by_counts-L11', 'total_counts-L11', 'highly_variable-L11', 'means-L11', 'dispersions-L11', 'dispersions_norm-L11', 'n_cells-L12', 'n_cells_by_counts-L12', 'mean_counts-L12', 'pct_dropout_by_counts-L12', 'total_counts-L12', 'highly_variable-L12', 'means-L12', 'dispersions-L12', 'dispersions_norm-L12', 'n_cells-L13', 'n_cells_by_counts-L13', 'mean_counts-L13', 'pct_dropout_by_counts-L13', 'total_counts-L13', 'highly_variable-L13', 'means-L13', 'dispersions-L13', 'dispersions_norm-L13', 'n_cells-L14', 'n_cells_by_counts-L14', 'mean_counts-L14', 'pct_dropout_by_counts-L14', 'total_counts-L14', 'highly_variable-L14', 'means-L14', 'dispersions-L14', 'dispersions_norm-L14', 'n_cells-L2', 'n_cells_by_counts-L2', 'mean_counts-L2', 'pct_dropout_by_counts-L2', 'total_counts-L2', 'highly_variable-L2', 'means-L2', 'dispersions-L2', 'dispersions_norm-L2', 'n_cells-L3', 'n_cells_by_counts-L3', 'mean_counts-L3', 'pct_dropout_by_counts-L3', 'total_counts-L3', 'highly_variable-L3', 'means-L3', 'dispersions-L3', 'dispersions_norm-L3', 'n_cells-L4', 'n_cells_by_counts-L4', 'mean_counts-L4', 'pct_dropout_by_counts-L4', 'total_counts-L4', 'highly_variable-L4', 'means-L4', 'dispersions-L4', 'dispersions_norm-L4', 'n_cells-L5', 'n_cells_by_counts-L5', 'mean_counts-L5', 'pct_dropout_by_counts-L5', 'total_counts-L5', 'highly_variable-L5', 'means-L5', 'dispersions-L5', 'dispersions_norm-L5', 'n_cells-L6', 'n_cells_by_counts-L6', 'mean_counts-L6', 'pct_dropout_by_counts-L6', 'total_counts-L6', 'highly_variable-L6', 'means-L6', 'dispersions-L6', 'dispersions_norm-L6', 'n_cells-L7', 'n_cells_by_counts-L7', 'mean_counts-L7', 'pct_dropout_by_counts-L7', 'total_counts-L7', 'highly_variable-L7', 'means-L7', 'dispersions-L7', 'dispersions_norm-L7', 'n_cells-L8', 'n_cells_by_counts-L8', 'mean_counts-L8', 'pct_dropout_by_counts-L8', 'total_counts-L8', 'highly_variable-L8', 'means-L8', 'dispersions-L8', 'dispersions_norm-L8', 'n_cells-L9', 'n_cells_by_counts-L9', 'mean_counts-L9', 'pct_dropout_by_counts-L9', 'total_counts-L9', 'highly_variable-L9', 'means-L9', 'dispersions-L9', 'dispersions_norm-L9'\n",
       "     uns: 'data_save_name', 'data_save_time', 'hvg', 'scrublet', 'data_load_time', 'data_load_name'\n",
       "     obsm: 'A6_only_highly_variable', 'Lib_X_pca', 'X_scanorama', 'X_scanorama_rb_mt', 'X_umapA7_PCA_100_10_neighbors', 'X_umapA7_PCA_100_50_neighbors', 'X_umapA7_PCA_500_50_neighbors', 'X_umapA7_PCA_50_10_neighbors'}"
      ]
     },
     "execution_count": 137,
     "metadata": {},
     "output_type": "execute_result"
    }
   ],
   "source": [
    "anndata_dict_singlet"
   ]
  },
  {
   "cell_type": "code",
   "execution_count": 138,
   "id": "9280c778-005d-4d9e-8101-cd2ff2c06456",
   "metadata": {},
   "outputs": [
    {
     "data": {
      "text/plain": [
       "matrix([[21.065617],\n",
       "        [25.584118],\n",
       "        [21.224699],\n",
       "        ...,\n",
       "        [22.754984],\n",
       "        [29.788113],\n",
       "        [23.377083]], dtype=float32)"
      ]
     },
     "execution_count": 138,
     "metadata": {},
     "output_type": "execute_result"
    }
   ],
   "source": [
    "anndata_dict_singlet[key].X.sum(axis = 1)"
   ]
  },
  {
   "cell_type": "markdown",
   "id": "48fbfc8c-c477-40f5-8b1c-bd5cd238797c",
   "metadata": {},
   "source": [
    "## Only singlets - without ribosomal / mitochondrial RNA"
   ]
  },
  {
   "cell_type": "code",
   "execution_count": 139,
   "id": "cebd4f76-1142-4de2-b12a-8b677f75a1d9",
   "metadata": {},
   "outputs": [],
   "source": [
    "anndata_dict_singlet_rb_mt = dict.fromkeys(variants)"
   ]
  },
  {
   "cell_type": "code",
   "execution_count": 140,
   "id": "3beb8eba-7a7b-4623-b0fc-4a94326b991d",
   "metadata": {
    "tags": []
   },
   "outputs": [
    {
     "name": "stdout",
     "output_type": "stream",
     "text": [
      "Scanorama\n"
     ]
    }
   ],
   "source": [
    "for key in anndata_dict:\n",
    "    print(key)\n",
    "    anndata_dict_singlet_rb_mt[key] = anndata_dict[key][anndata_dict[key].obs['HTO_classification.global']=='Singlet']\n",
    "    anndata_dict_singlet_rb_mt[key] = anndata_dict_singlet_rb_mt[key][:,np.logical_and(anndata_dict[key].var['rb'] == False , anndata_dict[key].var['mt'] == False)]"
   ]
  },
  {
   "cell_type": "code",
   "execution_count": 141,
   "id": "dd6beb3b-5e4c-49fd-ac7b-96121e8b5f84",
   "metadata": {},
   "outputs": [
    {
     "data": {
      "text/plain": [
       "{'Scanorama': View of AnnData object with n_obs × n_vars = 148275 × 2000\n",
       "     obs: 'nCount_HTO', 'nFeature_HTO', 'nCount_RNA', 'nFeature_RNA', 'percent_mt', 'HTO_maxID', 'HTO_secondID', 'HTO_margin', 'HTO_classification', 'HTO_classification.global', 'hash.ID', 'HTO_classification_final', 'name', 'library', 'id', 'read', 'pattern', 'sequence', 'feature_type', 'Unnamed: 7', 'in_sample', 'display_name', 'group', 'HTO_Doublet_Classification', 'doublet_score', 'predicted_doublet', 'A5_scrublet_predicted_doublet_lib0.1', 'A5_scrublet_doublet_score_lib_0.1', 'A5_scrublet_predicted_doublet_lib0.2', 'A5_scrublet_doublet_score_lib_0.2', 'A5_scrublet_predicted_doublet_lib', 'A5_scrublet_doublet_score_lib', 'n_genes', 'n_genes_by_counts', 'total_counts', 'total_counts_mt', 'pct_counts_mt', 'valid_cell_filter_dying', 'valid_cell_filter_doublet', 'A7_PCA_50_10_neighbors_cluster', 'A7_PCA_100_10_neighbors_cluster', 'A7_PCA_100_50_neighbors_cluster', 'A7_PCA_500_50_neighbors_cluster', 'A7_Singlet_PCA_50_10_neighbors_cluster', 'A7_Singlet_PCA_100_10_neighbors_cluster', 'A7_Singlet_RB_MT_PCA_50_10_neighbors_cluster', 'A7_Singlet_RB_MT_PCA_100_10_neighbors_cluster', 'library_id'\n",
       "     var: 'gene_ids', 'feature_types', 'genome', 'mt', 'rb', 'n_cells-L1', 'n_cells_by_counts-L1', 'mean_counts-L1', 'pct_dropout_by_counts-L1', 'total_counts-L1', 'highly_variable-L1', 'means-L1', 'dispersions-L1', 'dispersions_norm-L1', 'n_cells-L10', 'n_cells_by_counts-L10', 'mean_counts-L10', 'pct_dropout_by_counts-L10', 'total_counts-L10', 'highly_variable-L10', 'means-L10', 'dispersions-L10', 'dispersions_norm-L10', 'n_cells-L11', 'n_cells_by_counts-L11', 'mean_counts-L11', 'pct_dropout_by_counts-L11', 'total_counts-L11', 'highly_variable-L11', 'means-L11', 'dispersions-L11', 'dispersions_norm-L11', 'n_cells-L12', 'n_cells_by_counts-L12', 'mean_counts-L12', 'pct_dropout_by_counts-L12', 'total_counts-L12', 'highly_variable-L12', 'means-L12', 'dispersions-L12', 'dispersions_norm-L12', 'n_cells-L13', 'n_cells_by_counts-L13', 'mean_counts-L13', 'pct_dropout_by_counts-L13', 'total_counts-L13', 'highly_variable-L13', 'means-L13', 'dispersions-L13', 'dispersions_norm-L13', 'n_cells-L14', 'n_cells_by_counts-L14', 'mean_counts-L14', 'pct_dropout_by_counts-L14', 'total_counts-L14', 'highly_variable-L14', 'means-L14', 'dispersions-L14', 'dispersions_norm-L14', 'n_cells-L2', 'n_cells_by_counts-L2', 'mean_counts-L2', 'pct_dropout_by_counts-L2', 'total_counts-L2', 'highly_variable-L2', 'means-L2', 'dispersions-L2', 'dispersions_norm-L2', 'n_cells-L3', 'n_cells_by_counts-L3', 'mean_counts-L3', 'pct_dropout_by_counts-L3', 'total_counts-L3', 'highly_variable-L3', 'means-L3', 'dispersions-L3', 'dispersions_norm-L3', 'n_cells-L4', 'n_cells_by_counts-L4', 'mean_counts-L4', 'pct_dropout_by_counts-L4', 'total_counts-L4', 'highly_variable-L4', 'means-L4', 'dispersions-L4', 'dispersions_norm-L4', 'n_cells-L5', 'n_cells_by_counts-L5', 'mean_counts-L5', 'pct_dropout_by_counts-L5', 'total_counts-L5', 'highly_variable-L5', 'means-L5', 'dispersions-L5', 'dispersions_norm-L5', 'n_cells-L6', 'n_cells_by_counts-L6', 'mean_counts-L6', 'pct_dropout_by_counts-L6', 'total_counts-L6', 'highly_variable-L6', 'means-L6', 'dispersions-L6', 'dispersions_norm-L6', 'n_cells-L7', 'n_cells_by_counts-L7', 'mean_counts-L7', 'pct_dropout_by_counts-L7', 'total_counts-L7', 'highly_variable-L7', 'means-L7', 'dispersions-L7', 'dispersions_norm-L7', 'n_cells-L8', 'n_cells_by_counts-L8', 'mean_counts-L8', 'pct_dropout_by_counts-L8', 'total_counts-L8', 'highly_variable-L8', 'means-L8', 'dispersions-L8', 'dispersions_norm-L8', 'n_cells-L9', 'n_cells_by_counts-L9', 'mean_counts-L9', 'pct_dropout_by_counts-L9', 'total_counts-L9', 'highly_variable-L9', 'means-L9', 'dispersions-L9', 'dispersions_norm-L9'\n",
       "     uns: 'data_save_name', 'data_save_time', 'hvg', 'scrublet', 'data_load_time', 'data_load_name'\n",
       "     obsm: 'A6_only_highly_variable', 'Lib_X_pca', 'X_scanorama', 'X_scanorama_rb_mt', 'X_umapA7_PCA_100_10_neighbors', 'X_umapA7_PCA_100_50_neighbors', 'X_umapA7_PCA_500_50_neighbors', 'X_umapA7_PCA_50_10_neighbors'}"
      ]
     },
     "execution_count": 141,
     "metadata": {},
     "output_type": "execute_result"
    }
   ],
   "source": [
    "anndata_dict_singlet_rb_mt"
   ]
  },
  {
   "cell_type": "code",
   "execution_count": 142,
   "id": "6d066683-7f7f-4308-9cda-856c82e14437",
   "metadata": {},
   "outputs": [
    {
     "data": {
      "text/plain": [
       "matrix([[21.065617],\n",
       "        [25.584118],\n",
       "        [21.224699],\n",
       "        ...,\n",
       "        [22.754984],\n",
       "        [29.788113],\n",
       "        [23.377083]], dtype=float32)"
      ]
     },
     "execution_count": 142,
     "metadata": {},
     "output_type": "execute_result"
    }
   ],
   "source": [
    "anndata_dict_singlet_rb_mt[key].X.sum(axis = 1)"
   ]
  },
  {
   "cell_type": "markdown",
   "id": "2306de4a-1d60-4d93-86d6-8af2230f16cc",
   "metadata": {},
   "source": [
    "## Only singlets - without ribosomal / mitochondrial RNA - stronger QC"
   ]
  },
  {
   "cell_type": "code",
   "execution_count": 143,
   "id": "e6f479a3-a8f1-4ebb-9ed9-005126cc3f4d",
   "metadata": {},
   "outputs": [],
   "source": [
    "anndata_dict_singlet_qc_rb_mt = dict.fromkeys(variants)"
   ]
  },
  {
   "cell_type": "code",
   "execution_count": 144,
   "id": "729ff8ee-3ecd-4c90-bd4d-ddec55fa325f",
   "metadata": {
    "tags": []
   },
   "outputs": [
    {
     "name": "stdout",
     "output_type": "stream",
     "text": [
      "Scanorama\n"
     ]
    }
   ],
   "source": [
    "for key in anndata_dict:\n",
    "    print(key)\n",
    "    anndata_dict_singlet_qc_rb_mt[key] = anndata_dict[key][anndata_dict[key].obs['HTO_classification.global']=='Singlet']\n",
    "    anndata_dict_singlet_qc_rb_mt[key] = anndata_dict_singlet_qc_rb_mt[key][anndata_dict_singlet_qc_rb_mt[key].obs['pct_counts_mt'] < 10]\n",
    "    anndata_dict_singlet_qc_rb_mt[key] = anndata_dict_singlet_qc_rb_mt[key][:,np.logical_and(anndata_dict_singlet_qc_rb_mt[key].var['rb'] == False , anndata_dict_singlet_qc_rb_mt[key].var['mt'] == False)]"
   ]
  },
  {
   "cell_type": "code",
   "execution_count": 145,
   "id": "d9ccedc2-83d5-48ff-855b-2499de92b86a",
   "metadata": {},
   "outputs": [
    {
     "data": {
      "text/plain": [
       "{'Scanorama': View of AnnData object with n_obs × n_vars = 143033 × 2000\n",
       "     obs: 'nCount_HTO', 'nFeature_HTO', 'nCount_RNA', 'nFeature_RNA', 'percent_mt', 'HTO_maxID', 'HTO_secondID', 'HTO_margin', 'HTO_classification', 'HTO_classification.global', 'hash.ID', 'HTO_classification_final', 'name', 'library', 'id', 'read', 'pattern', 'sequence', 'feature_type', 'Unnamed: 7', 'in_sample', 'display_name', 'group', 'HTO_Doublet_Classification', 'doublet_score', 'predicted_doublet', 'A5_scrublet_predicted_doublet_lib0.1', 'A5_scrublet_doublet_score_lib_0.1', 'A5_scrublet_predicted_doublet_lib0.2', 'A5_scrublet_doublet_score_lib_0.2', 'A5_scrublet_predicted_doublet_lib', 'A5_scrublet_doublet_score_lib', 'n_genes', 'n_genes_by_counts', 'total_counts', 'total_counts_mt', 'pct_counts_mt', 'valid_cell_filter_dying', 'valid_cell_filter_doublet', 'A7_PCA_50_10_neighbors_cluster', 'A7_PCA_100_10_neighbors_cluster', 'A7_PCA_100_50_neighbors_cluster', 'A7_PCA_500_50_neighbors_cluster', 'A7_Singlet_PCA_50_10_neighbors_cluster', 'A7_Singlet_PCA_100_10_neighbors_cluster', 'A7_Singlet_RB_MT_PCA_50_10_neighbors_cluster', 'A7_Singlet_RB_MT_PCA_100_10_neighbors_cluster', 'library_id'\n",
       "     var: 'gene_ids', 'feature_types', 'genome', 'mt', 'rb', 'n_cells-L1', 'n_cells_by_counts-L1', 'mean_counts-L1', 'pct_dropout_by_counts-L1', 'total_counts-L1', 'highly_variable-L1', 'means-L1', 'dispersions-L1', 'dispersions_norm-L1', 'n_cells-L10', 'n_cells_by_counts-L10', 'mean_counts-L10', 'pct_dropout_by_counts-L10', 'total_counts-L10', 'highly_variable-L10', 'means-L10', 'dispersions-L10', 'dispersions_norm-L10', 'n_cells-L11', 'n_cells_by_counts-L11', 'mean_counts-L11', 'pct_dropout_by_counts-L11', 'total_counts-L11', 'highly_variable-L11', 'means-L11', 'dispersions-L11', 'dispersions_norm-L11', 'n_cells-L12', 'n_cells_by_counts-L12', 'mean_counts-L12', 'pct_dropout_by_counts-L12', 'total_counts-L12', 'highly_variable-L12', 'means-L12', 'dispersions-L12', 'dispersions_norm-L12', 'n_cells-L13', 'n_cells_by_counts-L13', 'mean_counts-L13', 'pct_dropout_by_counts-L13', 'total_counts-L13', 'highly_variable-L13', 'means-L13', 'dispersions-L13', 'dispersions_norm-L13', 'n_cells-L14', 'n_cells_by_counts-L14', 'mean_counts-L14', 'pct_dropout_by_counts-L14', 'total_counts-L14', 'highly_variable-L14', 'means-L14', 'dispersions-L14', 'dispersions_norm-L14', 'n_cells-L2', 'n_cells_by_counts-L2', 'mean_counts-L2', 'pct_dropout_by_counts-L2', 'total_counts-L2', 'highly_variable-L2', 'means-L2', 'dispersions-L2', 'dispersions_norm-L2', 'n_cells-L3', 'n_cells_by_counts-L3', 'mean_counts-L3', 'pct_dropout_by_counts-L3', 'total_counts-L3', 'highly_variable-L3', 'means-L3', 'dispersions-L3', 'dispersions_norm-L3', 'n_cells-L4', 'n_cells_by_counts-L4', 'mean_counts-L4', 'pct_dropout_by_counts-L4', 'total_counts-L4', 'highly_variable-L4', 'means-L4', 'dispersions-L4', 'dispersions_norm-L4', 'n_cells-L5', 'n_cells_by_counts-L5', 'mean_counts-L5', 'pct_dropout_by_counts-L5', 'total_counts-L5', 'highly_variable-L5', 'means-L5', 'dispersions-L5', 'dispersions_norm-L5', 'n_cells-L6', 'n_cells_by_counts-L6', 'mean_counts-L6', 'pct_dropout_by_counts-L6', 'total_counts-L6', 'highly_variable-L6', 'means-L6', 'dispersions-L6', 'dispersions_norm-L6', 'n_cells-L7', 'n_cells_by_counts-L7', 'mean_counts-L7', 'pct_dropout_by_counts-L7', 'total_counts-L7', 'highly_variable-L7', 'means-L7', 'dispersions-L7', 'dispersions_norm-L7', 'n_cells-L8', 'n_cells_by_counts-L8', 'mean_counts-L8', 'pct_dropout_by_counts-L8', 'total_counts-L8', 'highly_variable-L8', 'means-L8', 'dispersions-L8', 'dispersions_norm-L8', 'n_cells-L9', 'n_cells_by_counts-L9', 'mean_counts-L9', 'pct_dropout_by_counts-L9', 'total_counts-L9', 'highly_variable-L9', 'means-L9', 'dispersions-L9', 'dispersions_norm-L9'\n",
       "     uns: 'data_save_name', 'data_save_time', 'hvg', 'scrublet', 'data_load_time', 'data_load_name'\n",
       "     obsm: 'A6_only_highly_variable', 'Lib_X_pca', 'X_scanorama', 'X_scanorama_rb_mt', 'X_umapA7_PCA_100_10_neighbors', 'X_umapA7_PCA_100_50_neighbors', 'X_umapA7_PCA_500_50_neighbors', 'X_umapA7_PCA_50_10_neighbors'}"
      ]
     },
     "execution_count": 145,
     "metadata": {},
     "output_type": "execute_result"
    }
   ],
   "source": [
    "anndata_dict_singlet_qc_rb_mt"
   ]
  },
  {
   "cell_type": "markdown",
   "id": "9c24689c-3d2e-4053-a700-3ef2d1a9953b",
   "metadata": {},
   "source": [
    "# Clustering and UMAP"
   ]
  },
  {
   "cell_type": "markdown",
   "id": "2e0e13a4-ff34-4280-a1de-d84a1475a84f",
   "metadata": {},
   "source": [
    "## Complete data"
   ]
  },
  {
   "cell_type": "code",
   "execution_count": 146,
   "id": "36e35452-d97d-4884-88f1-fcad902aa3e5",
   "metadata": {},
   "outputs": [
    {
     "name": "stderr",
     "output_type": "stream",
     "text": [
      "2023-01-21 09:22:42.617006: W tensorflow/stream_executor/platform/default/dso_loader.cc:64] Could not load dynamic library 'libcudart.so.11.0'; dlerror: libcudart.so.11.0: cannot open shared object file: No such file or directory\n",
      "2023-01-21 09:22:42.617062: I tensorflow/stream_executor/cuda/cudart_stub.cc:29] Ignore above cudart dlerror if you do not have a GPU set up on your machine.\n"
     ]
    },
    {
     "name": "stdout",
     "output_type": "stream",
     "text": [
      "Calculated neighborhood graph\n",
      "Clustered cells\n",
      "ScanoramaB2_Scanorama variant finished\n"
     ]
    }
   ],
   "source": [
    "anndata_result = MS1_Clustering.neighbors_and_cluster( 'B2_Scanorama' ,anndata_dict, anndata_dict_all, use_rep_var = \"X_scanorama\" , random_state_var = random_state_var, n_neighbors_var =10, n_pcs_var = 50)"
   ]
  },
  {
   "cell_type": "code",
   "execution_count": 147,
   "id": "77446634-6167-4957-9486-1984a693eb37",
   "metadata": {},
   "outputs": [],
   "source": [
    "### Store the result in anndata_dict"
   ]
  },
  {
   "cell_type": "code",
   "execution_count": 148,
   "id": "dcc7e3e0-69ab-49ca-8217-56a704d5f77f",
   "metadata": {
    "tags": []
   },
   "outputs": [],
   "source": [
    "anndata_dict = anndata_result[0]"
   ]
  },
  {
   "cell_type": "markdown",
   "id": "57b9aa9d-8a5c-4873-a489-f49a6a2b481b",
   "metadata": {},
   "source": [
    "## Only singlets"
   ]
  },
  {
   "cell_type": "code",
   "execution_count": 149,
   "id": "c8994302-07ac-4616-97b8-5ea57d0ddf8a",
   "metadata": {},
   "outputs": [
    {
     "name": "stdout",
     "output_type": "stream",
     "text": [
      "Calculated neighborhood graph\n",
      "Clustered cells\n",
      "ScanoramaB2_Scanorama_Singlet variant finished\n"
     ]
    }
   ],
   "source": [
    "anndata_result = MS1_Clustering.neighbors_and_cluster( 'B2_Scanorama_Singlet' ,anndata_dict_singlet, anndata_dict_singlet, use_rep_var = \"X_scanorama\" , random_state_var = random_state_var, n_neighbors_var =10, n_pcs_var = 50)"
   ]
  },
  {
   "cell_type": "code",
   "execution_count": 150,
   "id": "b1ae888f-0fdf-453b-bd08-12990b40760c",
   "metadata": {},
   "outputs": [],
   "source": [
    "### Store the result in anndata_dict"
   ]
  },
  {
   "cell_type": "code",
   "execution_count": 151,
   "id": "51e38dfc-94ad-47b6-b3e4-35b80bb975b3",
   "metadata": {},
   "outputs": [],
   "source": [
    "anndata_dict_singlet = anndata_result[0]"
   ]
  },
  {
   "cell_type": "markdown",
   "id": "02ad49ba-d2ac-470b-9739-77e8cdfa1c19",
   "metadata": {},
   "source": [
    "## Singlets - without ribosomal / mitochondrial RNA"
   ]
  },
  {
   "cell_type": "code",
   "execution_count": 152,
   "id": "1ee60a5d-ef31-4f09-b7f7-164aaf1fa120",
   "metadata": {
    "tags": []
   },
   "outputs": [
    {
     "name": "stdout",
     "output_type": "stream",
     "text": [
      "Calculated neighborhood graph\n",
      "Clustered cells\n",
      "ScanoramaB2_Scanorama_Singlet_rb_mt variant finished\n"
     ]
    }
   ],
   "source": [
    "anndata_result = MS1_Clustering.neighbors_and_cluster( 'B2_Scanorama_Singlet_rb_mt' ,anndata_dict_singlet, anndata_dict_singlet_rb_mt, use_rep_var = 'X_scanorama_rb_mt', random_state_var = random_state_var, n_neighbors_var =10, n_pcs_var = 50)"
   ]
  },
  {
   "cell_type": "code",
   "execution_count": 153,
   "id": "244e1630-847e-4fe7-8e36-82bc6e39a897",
   "metadata": {},
   "outputs": [],
   "source": [
    "### Store the result in anndata_dict"
   ]
  },
  {
   "cell_type": "code",
   "execution_count": 154,
   "id": "cfb062b6-0953-48ae-b6ba-01a372aaa861",
   "metadata": {},
   "outputs": [],
   "source": [
    "anndata_dict_singlet = anndata_result[0]"
   ]
  },
  {
   "cell_type": "markdown",
   "id": "25cd1abe-c2db-4429-b183-1ec5e2ef25ad",
   "metadata": {},
   "source": [
    "## Singlets - without ribosomal / mitochondrial RNA - stronger QC"
   ]
  },
  {
   "cell_type": "code",
   "execution_count": 155,
   "id": "9435c6f2-201e-456c-a3fa-6c0754ad05ec",
   "metadata": {
    "tags": []
   },
   "outputs": [
    {
     "name": "stdout",
     "output_type": "stream",
     "text": [
      "Calculated neighborhood graph\n",
      "Clustered cells\n",
      "ScanoramaB2_Scanorama_Singlet_qc_rb_mt variant finished\n"
     ]
    }
   ],
   "source": [
    "anndata_result = MS1_Clustering.neighbors_and_cluster( 'B2_Scanorama_Singlet_qc_rb_mt' ,anndata_dict_singlet_qc_rb_mt, anndata_dict_singlet_qc_rb_mt, use_rep_var = 'X_scanorama_rb_mt', random_state_var = random_state_var, n_neighbors_var =10, n_pcs_var = 50)"
   ]
  },
  {
   "cell_type": "code",
   "execution_count": 156,
   "id": "9bf49b05-715c-4e6f-8bc7-682fe6ad35ed",
   "metadata": {},
   "outputs": [],
   "source": [
    "### Store the result in anndata_dict"
   ]
  },
  {
   "cell_type": "code",
   "execution_count": 157,
   "id": "22557de4-398a-4c1b-9efc-ee3018a1c028",
   "metadata": {},
   "outputs": [],
   "source": [
    "anndata_dict_singlet_qc_rb_mt = anndata_result[0]"
   ]
  },
  {
   "cell_type": "markdown",
   "id": "81730fb9-c0a1-477f-b416-fb80af7867f1",
   "metadata": {},
   "source": [
    "# Saving"
   ]
  },
  {
   "cell_type": "code",
   "execution_count": 158,
   "id": "023e0e49-2f22-4914-844a-560309ff47d5",
   "metadata": {
    "tags": []
   },
   "outputs": [
    {
     "data": {
      "text/plain": [
       "{'Scanorama': AnnData object with n_obs × n_vars = 148275 × 2000\n",
       "     obs: 'nCount_HTO', 'nFeature_HTO', 'nCount_RNA', 'nFeature_RNA', 'percent_mt', 'HTO_maxID', 'HTO_secondID', 'HTO_margin', 'HTO_classification', 'HTO_classification.global', 'hash.ID', 'HTO_classification_final', 'name', 'library', 'id', 'read', 'pattern', 'sequence', 'feature_type', 'Unnamed: 7', 'in_sample', 'display_name', 'group', 'HTO_Doublet_Classification', 'doublet_score', 'predicted_doublet', 'A5_scrublet_predicted_doublet_lib0.1', 'A5_scrublet_doublet_score_lib_0.1', 'A5_scrublet_predicted_doublet_lib0.2', 'A5_scrublet_doublet_score_lib_0.2', 'A5_scrublet_predicted_doublet_lib', 'A5_scrublet_doublet_score_lib', 'n_genes', 'n_genes_by_counts', 'total_counts', 'total_counts_mt', 'pct_counts_mt', 'valid_cell_filter_dying', 'valid_cell_filter_doublet', 'A7_PCA_50_10_neighbors_cluster', 'A7_PCA_100_10_neighbors_cluster', 'A7_PCA_100_50_neighbors_cluster', 'A7_PCA_500_50_neighbors_cluster', 'A7_Singlet_PCA_50_10_neighbors_cluster', 'A7_Singlet_PCA_100_10_neighbors_cluster', 'A7_Singlet_RB_MT_PCA_50_10_neighbors_cluster', 'A7_Singlet_RB_MT_PCA_100_10_neighbors_cluster', 'library_id', 'B2_Scanorama_Singlet_cluster', 'B2_Scanorama_Singlet_rb_mt_cluster'\n",
       "     var: 'gene_ids', 'feature_types', 'genome', 'mt', 'rb', 'n_cells-L1', 'n_cells_by_counts-L1', 'mean_counts-L1', 'pct_dropout_by_counts-L1', 'total_counts-L1', 'highly_variable-L1', 'means-L1', 'dispersions-L1', 'dispersions_norm-L1', 'n_cells-L10', 'n_cells_by_counts-L10', 'mean_counts-L10', 'pct_dropout_by_counts-L10', 'total_counts-L10', 'highly_variable-L10', 'means-L10', 'dispersions-L10', 'dispersions_norm-L10', 'n_cells-L11', 'n_cells_by_counts-L11', 'mean_counts-L11', 'pct_dropout_by_counts-L11', 'total_counts-L11', 'highly_variable-L11', 'means-L11', 'dispersions-L11', 'dispersions_norm-L11', 'n_cells-L12', 'n_cells_by_counts-L12', 'mean_counts-L12', 'pct_dropout_by_counts-L12', 'total_counts-L12', 'highly_variable-L12', 'means-L12', 'dispersions-L12', 'dispersions_norm-L12', 'n_cells-L13', 'n_cells_by_counts-L13', 'mean_counts-L13', 'pct_dropout_by_counts-L13', 'total_counts-L13', 'highly_variable-L13', 'means-L13', 'dispersions-L13', 'dispersions_norm-L13', 'n_cells-L14', 'n_cells_by_counts-L14', 'mean_counts-L14', 'pct_dropout_by_counts-L14', 'total_counts-L14', 'highly_variable-L14', 'means-L14', 'dispersions-L14', 'dispersions_norm-L14', 'n_cells-L2', 'n_cells_by_counts-L2', 'mean_counts-L2', 'pct_dropout_by_counts-L2', 'total_counts-L2', 'highly_variable-L2', 'means-L2', 'dispersions-L2', 'dispersions_norm-L2', 'n_cells-L3', 'n_cells_by_counts-L3', 'mean_counts-L3', 'pct_dropout_by_counts-L3', 'total_counts-L3', 'highly_variable-L3', 'means-L3', 'dispersions-L3', 'dispersions_norm-L3', 'n_cells-L4', 'n_cells_by_counts-L4', 'mean_counts-L4', 'pct_dropout_by_counts-L4', 'total_counts-L4', 'highly_variable-L4', 'means-L4', 'dispersions-L4', 'dispersions_norm-L4', 'n_cells-L5', 'n_cells_by_counts-L5', 'mean_counts-L5', 'pct_dropout_by_counts-L5', 'total_counts-L5', 'highly_variable-L5', 'means-L5', 'dispersions-L5', 'dispersions_norm-L5', 'n_cells-L6', 'n_cells_by_counts-L6', 'mean_counts-L6', 'pct_dropout_by_counts-L6', 'total_counts-L6', 'highly_variable-L6', 'means-L6', 'dispersions-L6', 'dispersions_norm-L6', 'n_cells-L7', 'n_cells_by_counts-L7', 'mean_counts-L7', 'pct_dropout_by_counts-L7', 'total_counts-L7', 'highly_variable-L7', 'means-L7', 'dispersions-L7', 'dispersions_norm-L7', 'n_cells-L8', 'n_cells_by_counts-L8', 'mean_counts-L8', 'pct_dropout_by_counts-L8', 'total_counts-L8', 'highly_variable-L8', 'means-L8', 'dispersions-L8', 'dispersions_norm-L8', 'n_cells-L9', 'n_cells_by_counts-L9', 'mean_counts-L9', 'pct_dropout_by_counts-L9', 'total_counts-L9', 'highly_variable-L9', 'means-L9', 'dispersions-L9', 'dispersions_norm-L9'\n",
       "     uns: 'data_save_name', 'data_save_time', 'hvg', 'scrublet', 'data_load_time', 'data_load_name', 'B2_Scanorama_Singlet', 'leiden', 'umap'\n",
       "     obsm: 'A6_only_highly_variable', 'Lib_X_pca', 'X_scanorama', 'X_scanorama_rb_mt', 'X_umapA7_PCA_100_10_neighbors', 'X_umapA7_PCA_100_50_neighbors', 'X_umapA7_PCA_500_50_neighbors', 'X_umapA7_PCA_50_10_neighbors', 'X_umap', 'X_umapB2_Scanorama', 'X_umapB2_Scanorama_Singlet', 'X_umapB2_Scanorama_Singlet_rb_mt'\n",
       "     obsp: 'B2_Scanorama_distances', 'B2_Scanorama_connectivities', 'B2_Scanorama_Singlet_distances', 'B2_Scanorama_Singlet_connectivities', 'B2_Scanorama_Singlet_rb_mt_distances', 'B2_Scanorama_Singlet_rb_mt_connectivities'}"
      ]
     },
     "execution_count": 158,
     "metadata": {},
     "output_type": "execute_result"
    }
   ],
   "source": [
    "anndata_dict_singlet"
   ]
  },
  {
   "cell_type": "markdown",
   "id": "28df2c21-bf32-4675-9cb3-b2d0be05322a",
   "metadata": {},
   "source": [
    "## Combine both datasets"
   ]
  },
  {
   "cell_type": "code",
   "execution_count": 159,
   "id": "b3e5f97b-3cf2-402c-bf91-fa720e5b36ba",
   "metadata": {},
   "outputs": [
    {
     "name": "stdout",
     "output_type": "stream",
     "text": [
      "Scanorama\n"
     ]
    }
   ],
   "source": [
    "for key in anndata_dict:\n",
    "    print(key)\n",
    "    anndata_dict[key].obs = pd.merge(anndata_dict[key].obs ,anndata_dict_singlet[key].obs[['B2_Scanorama_Singlet_cluster', 'B2_Scanorama_Singlet_rb_mt_cluster']], how='left', left_index = True, right_index = True)\n",
    "## TBD: add keys of added clusters"
   ]
  },
  {
   "cell_type": "code",
   "execution_count": 160,
   "id": "449a7ca0-d9ec-4399-8ab9-a84eea7337bf",
   "metadata": {},
   "outputs": [
    {
     "data": {
      "text/plain": [
       "{'Scanorama': AnnData object with n_obs × n_vars = 289075 × 2000\n",
       "     obs: 'nCount_HTO', 'nFeature_HTO', 'nCount_RNA', 'nFeature_RNA', 'percent_mt', 'HTO_maxID', 'HTO_secondID', 'HTO_margin', 'HTO_classification', 'HTO_classification.global', 'hash.ID', 'HTO_classification_final', 'name', 'library', 'id', 'read', 'pattern', 'sequence', 'feature_type', 'Unnamed: 7', 'in_sample', 'display_name', 'group', 'HTO_Doublet_Classification', 'doublet_score', 'predicted_doublet', 'A5_scrublet_predicted_doublet_lib0.1', 'A5_scrublet_doublet_score_lib_0.1', 'A5_scrublet_predicted_doublet_lib0.2', 'A5_scrublet_doublet_score_lib_0.2', 'A5_scrublet_predicted_doublet_lib', 'A5_scrublet_doublet_score_lib', 'n_genes', 'n_genes_by_counts', 'total_counts', 'total_counts_mt', 'pct_counts_mt', 'valid_cell_filter_dying', 'valid_cell_filter_doublet', 'A7_PCA_50_10_neighbors_cluster', 'A7_PCA_100_10_neighbors_cluster', 'A7_PCA_100_50_neighbors_cluster', 'A7_PCA_500_50_neighbors_cluster', 'A7_Singlet_PCA_50_10_neighbors_cluster', 'A7_Singlet_PCA_100_10_neighbors_cluster', 'A7_Singlet_RB_MT_PCA_50_10_neighbors_cluster', 'A7_Singlet_RB_MT_PCA_100_10_neighbors_cluster', 'library_id', 'B2_Scanorama_cluster', 'B2_Scanorama_Singlet_cluster', 'B2_Scanorama_Singlet_rb_mt_cluster'\n",
       "     var: 'gene_ids', 'feature_types', 'genome', 'mt', 'rb', 'n_cells-L1', 'n_cells_by_counts-L1', 'mean_counts-L1', 'pct_dropout_by_counts-L1', 'total_counts-L1', 'highly_variable-L1', 'means-L1', 'dispersions-L1', 'dispersions_norm-L1', 'n_cells-L10', 'n_cells_by_counts-L10', 'mean_counts-L10', 'pct_dropout_by_counts-L10', 'total_counts-L10', 'highly_variable-L10', 'means-L10', 'dispersions-L10', 'dispersions_norm-L10', 'n_cells-L11', 'n_cells_by_counts-L11', 'mean_counts-L11', 'pct_dropout_by_counts-L11', 'total_counts-L11', 'highly_variable-L11', 'means-L11', 'dispersions-L11', 'dispersions_norm-L11', 'n_cells-L12', 'n_cells_by_counts-L12', 'mean_counts-L12', 'pct_dropout_by_counts-L12', 'total_counts-L12', 'highly_variable-L12', 'means-L12', 'dispersions-L12', 'dispersions_norm-L12', 'n_cells-L13', 'n_cells_by_counts-L13', 'mean_counts-L13', 'pct_dropout_by_counts-L13', 'total_counts-L13', 'highly_variable-L13', 'means-L13', 'dispersions-L13', 'dispersions_norm-L13', 'n_cells-L14', 'n_cells_by_counts-L14', 'mean_counts-L14', 'pct_dropout_by_counts-L14', 'total_counts-L14', 'highly_variable-L14', 'means-L14', 'dispersions-L14', 'dispersions_norm-L14', 'n_cells-L2', 'n_cells_by_counts-L2', 'mean_counts-L2', 'pct_dropout_by_counts-L2', 'total_counts-L2', 'highly_variable-L2', 'means-L2', 'dispersions-L2', 'dispersions_norm-L2', 'n_cells-L3', 'n_cells_by_counts-L3', 'mean_counts-L3', 'pct_dropout_by_counts-L3', 'total_counts-L3', 'highly_variable-L3', 'means-L3', 'dispersions-L3', 'dispersions_norm-L3', 'n_cells-L4', 'n_cells_by_counts-L4', 'mean_counts-L4', 'pct_dropout_by_counts-L4', 'total_counts-L4', 'highly_variable-L4', 'means-L4', 'dispersions-L4', 'dispersions_norm-L4', 'n_cells-L5', 'n_cells_by_counts-L5', 'mean_counts-L5', 'pct_dropout_by_counts-L5', 'total_counts-L5', 'highly_variable-L5', 'means-L5', 'dispersions-L5', 'dispersions_norm-L5', 'n_cells-L6', 'n_cells_by_counts-L6', 'mean_counts-L6', 'pct_dropout_by_counts-L6', 'total_counts-L6', 'highly_variable-L6', 'means-L6', 'dispersions-L6', 'dispersions_norm-L6', 'n_cells-L7', 'n_cells_by_counts-L7', 'mean_counts-L7', 'pct_dropout_by_counts-L7', 'total_counts-L7', 'highly_variable-L7', 'means-L7', 'dispersions-L7', 'dispersions_norm-L7', 'n_cells-L8', 'n_cells_by_counts-L8', 'mean_counts-L8', 'pct_dropout_by_counts-L8', 'total_counts-L8', 'highly_variable-L8', 'means-L8', 'dispersions-L8', 'dispersions_norm-L8', 'n_cells-L9', 'n_cells_by_counts-L9', 'mean_counts-L9', 'pct_dropout_by_counts-L9', 'total_counts-L9', 'highly_variable-L9', 'means-L9', 'dispersions-L9', 'dispersions_norm-L9'\n",
       "     uns: 'data_save_name', 'data_save_time', 'hvg', 'scrublet', 'data_load_time', 'data_load_name', 'B2_Scanorama', 'leiden', 'umap'\n",
       "     obsm: 'A6_only_highly_variable', 'Lib_X_pca', 'X_scanorama', 'X_scanorama_rb_mt', 'X_umapA7_PCA_100_10_neighbors', 'X_umapA7_PCA_100_50_neighbors', 'X_umapA7_PCA_500_50_neighbors', 'X_umapA7_PCA_50_10_neighbors', 'X_umap', 'X_umapB2_Scanorama'\n",
       "     obsp: 'B2_Scanorama_distances', 'B2_Scanorama_connectivities'}"
      ]
     },
     "execution_count": 160,
     "metadata": {},
     "output_type": "execute_result"
    }
   ],
   "source": [
    "anndata_dict"
   ]
  },
  {
   "cell_type": "markdown",
   "id": "7faedeae-2a1b-458b-bfef-4a980d31d26b",
   "metadata": {},
   "source": [
    "## Save data"
   ]
  },
  {
   "cell_type": "code",
   "execution_count": 161,
   "id": "09ae965c-0085-4ac9-82ad-f69b9faab82a",
   "metadata": {},
   "outputs": [
    {
     "name": "stdout",
     "output_type": "stream",
     "text": [
      "Scanorama\n",
      "../data/current/analysis/B/B2_Integrated_Scanorama_processed_rna.h5ad\n",
      "Last modified01/21/2023, 00:00:00\n",
      "701facdcaf664e5a5b0599ffcf4d1d129f2b6264\n"
     ]
    }
   ],
   "source": [
    "for key in anndata_dict:\n",
    "    ##### Complete data\n",
    "    \n",
    "    data_name = data_path +  '/analysis/B/B2_Integrated_Scanorama_processed_rna.h5ad'\n",
    "    \n",
    "    print(key)\n",
    "    print(data_name)\n",
    "    print('Last modified' + date.today().strftime(\"%m/%d/%Y, %H:%M:%S\"))\n",
    "    \n",
    "    anndata_dict[key].uns['data_save_time'] = date.today().strftime(\"%m/%d/%Y, %H:%M:%S\") # save the last modified timestamp of the data saved\n",
    "    anndata_dict[key].uns['data_save_name'] = data_name # save the data path of the data loaded \n",
    "    \n",
    "    \n",
    "    working_directory = os.getcwd()\n",
    "    repo.index.add([working_directory + '/' + file_name])\n",
    "    commit = repo.index.commit('Save data '+ data_name + ' '+ date.today().strftime(\"%m/%d/%Y, %H:%M:%S\") )\n",
    "    print(commit)\n",
    "    \n",
    "    anndata_dict[key].write(data_name)\n",
    "    \n",
    "    ##### Singlet data\n",
    "    \n",
    "    data_name = data_path + '/analysis/B/B2_Integrated_Scanorama_Singlet_processed_rna.h5ad'\n",
    "    \n",
    "    \n",
    "    anndata_dict_singlet[key].uns['data_save_time'] = date.today().strftime(\"%m/%d/%Y, %H:%M:%S\") # save the last modified timestamp of the data saved\n",
    "    anndata_dict_singlet[key].uns['data_save_name'] = data_name # save the data path of the data loaded \n",
    "    \n",
    "    anndata_dict_singlet[key].write(data_name)\n",
    "    \n",
    "    \n",
    "    anndata_dict_singlet_qc_rb_mt[key].write( data_path + '/analysis/B/B2_Integrated_Scanorama_Singlet_QC_processed_rna.h5ad')"
   ]
  },
  {
   "cell_type": "code",
   "execution_count": null,
   "id": "5fcab814-45f5-485c-8110-04bf929fccc4",
   "metadata": {},
   "outputs": [],
   "source": []
  },
  {
   "cell_type": "code",
   "execution_count": null,
   "id": "3599adeb-7edd-4586-b450-59956cb70bf8",
   "metadata": {},
   "outputs": [],
   "source": []
  }
 ],
 "metadata": {
  "kernelspec": {
   "display_name": "Python 3 (ipykernel)",
   "language": "python",
   "name": "python3"
  },
  "language_info": {
   "codemirror_mode": {
    "name": "ipython",
    "version": 3
   },
   "file_extension": ".py",
   "mimetype": "text/x-python",
   "name": "python",
   "nbconvert_exporter": "python",
   "pygments_lexer": "ipython3",
   "version": "3.9.7"
  },
  "toc-autonumbering": true,
  "toc-showcode": true
 },
 "nbformat": 4,
 "nbformat_minor": 5
}

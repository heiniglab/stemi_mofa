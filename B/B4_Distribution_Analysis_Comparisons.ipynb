{
 "cells": [
  {
   "cell_type": "markdown",
   "id": "fde97a0b-5163-43b3-a6d1-530faacb944b",
   "metadata": {
    "jp-MarkdownHeadingCollapsed": true,
    "tags": []
   },
   "source": [
    "#############################################\n",
    "# Prerequisites - Load Libraries"
   ]
  },
  {
   "cell_type": "code",
   "execution_count": 1,
   "id": "43983f5d-6100-469a-b6d0-5f4d9afbc3af",
   "metadata": {
    "tags": []
   },
   "outputs": [],
   "source": [
    "source('MS0_Libraries.r')"
   ]
  },
  {
   "cell_type": "code",
   "execution_count": 14,
   "id": "f4717640-937d-4a83-8ffb-641d7e4b41c2",
   "metadata": {
    "tags": []
   },
   "outputs": [
    {
     "name": "stderr",
     "output_type": "stream",
     "text": [
      "Warning message:\n",
      "“\u001b[1m\u001b[22mThe `size` argument of `element_line()` is deprecated as of ggplot2 3.4.0.\n",
      "\u001b[36mℹ\u001b[39m Please use the `linewidth` argument instead.”\n"
     ]
    }
   ],
   "source": [
    "source('MS4_Plot_Config.r')"
   ]
  },
  {
   "cell_type": "code",
   "execution_count": null,
   "id": "86b053b6-edfc-4d5f-88fb-3c42f8efb79d",
   "metadata": {},
   "outputs": [],
   "source": []
  },
  {
   "cell_type": "code",
   "execution_count": null,
   "id": "cfceb854-058f-4ce6-b158-7ad0214c2c2c",
   "metadata": {},
   "outputs": [],
   "source": []
  },
  {
   "cell_type": "code",
   "execution_count": null,
   "id": "3b8130c9-e47e-4c0d-bf6a-5222a8f24f2e",
   "metadata": {},
   "outputs": [],
   "source": []
  },
  {
   "cell_type": "code",
   "execution_count": null,
   "id": "fc9f8b81-59a2-4053-bbfe-633e98a4d054",
   "metadata": {},
   "outputs": [],
   "source": []
  },
  {
   "cell_type": "markdown",
   "id": "35147ee6-a982-4956-907b-53679310d55f",
   "metadata": {
    "tags": []
   },
   "source": [
    "###############################################\n",
    "# Preqrequisites Configurations & Parameters"
   ]
  },
  {
   "cell_type": "code",
   "execution_count": 15,
   "id": "90e73b7a-8788-4ed8-b815-345401798f63",
   "metadata": {},
   "outputs": [],
   "source": [
    "data_path =  '../data/current'"
   ]
  },
  {
   "cell_type": "code",
   "execution_count": 16,
   "id": "c48ca305-f644-4f96-87a1-d78de85a7414",
   "metadata": {},
   "outputs": [],
   "source": [
    "result_path =  '../results/current'"
   ]
  },
  {
   "cell_type": "code",
   "execution_count": 18,
   "id": "b587b652-154f-4b5b-a43c-31a6d80c93fd",
   "metadata": {},
   "outputs": [],
   "source": [
    "libraries = c('L1', 'L2', 'L3', 'L4', 'L5', 'L6', 'L7', 'L8', 'L9', 'L10','L11', 'L12', 'L13', 'L14')"
   ]
  },
  {
   "cell_type": "code",
   "execution_count": 19,
   "id": "794a4481-bf94-4e84-b101-073e4a47fe63",
   "metadata": {},
   "outputs": [],
   "source": [
    "### Data Frame for saving rand index"
   ]
  },
  {
   "cell_type": "code",
   "execution_count": 20,
   "id": "44c4192d-873a-4cea-8733-dd33736db015",
   "metadata": {
    "tags": []
   },
   "outputs": [],
   "source": [
    "\n",
    "rand_index_results= data.frame()"
   ]
  },
  {
   "cell_type": "markdown",
   "id": "3912b9f8-52ae-4b79-9b4a-54d6661788ea",
   "metadata": {},
   "source": [
    "########################################\n",
    "# Prerequisites Data Loading"
   ]
  },
  {
   "cell_type": "markdown",
   "id": "483a479e-bcd3-42fd-80f5-11a6e054fd0e",
   "metadata": {},
   "source": [
    "## Data from obs matrices"
   ]
  },
  {
   "cell_type": "code",
   "execution_count": 21,
   "id": "263ae875-84ef-4c89-8b6c-e8e989e7fdd9",
   "metadata": {},
   "outputs": [],
   "source": [
    "data_for_analysis_list = list()"
   ]
  },
  {
   "cell_type": "code",
   "execution_count": 22,
   "id": "14a50cc3-1587-4425-910f-54e620b6597f",
   "metadata": {},
   "outputs": [],
   "source": [
    "variants = c('V1_Singlet')"
   ]
  },
  {
   "cell_type": "code",
   "execution_count": 23,
   "id": "cacd136c-f091-4d04-97d2-8d5e14912ee5",
   "metadata": {},
   "outputs": [
    {
     "name": "stdout",
     "output_type": "stream",
     "text": [
      "[1] \"/groups/umcg-franke-scrna/tmp01/users/umcg-closert/stemi/data/results//analysis/B/B3_Obs_Singlet_processed_rna.csv\"\n",
      "[1] \"2023-07-06 14:08:20 UTC\"\n"
     ]
    }
   ],
   "source": [
    "for (i in variants){\n",
    "    data_name = paste ( data_path, '/analysis/B/B3_Obs_Singlet_processed_rna.csv', sep = '')\n",
    "    print(data_name)\n",
    "    print(tail(file.info(data_name)$ctime))\n",
    "    data_for_analysis_list[[i]] = read.csv ( data_name)\n",
    "    }"
   ]
  },
  {
   "cell_type": "code",
   "execution_count": 24,
   "id": "86ee6e44-3855-41ff-894c-7ed046de2dd8",
   "metadata": {
    "tags": []
   },
   "outputs": [],
   "source": [
    "#data_for_analysis"
   ]
  },
  {
   "cell_type": "code",
   "execution_count": 25,
   "id": "68ece1f0-814e-4d02-9fe9-fa0cd909ea86",
   "metadata": {},
   "outputs": [
    {
     "data": {
      "text/html": [
       "<table class=\"dataframe\">\n",
       "<caption>A data.frame: 6 × 77</caption>\n",
       "<thead>\n",
       "\t<tr><th></th><th scope=col>X</th><th scope=col>nCount_HTO</th><th scope=col>nFeature_HTO</th><th scope=col>nCount_RNA</th><th scope=col>nFeature_RNA</th><th scope=col>percent_mt</th><th scope=col>HTO_maxID</th><th scope=col>HTO_secondID</th><th scope=col>HTO_margin</th><th scope=col>HTO_classification</th><th scope=col>⋯</th><th scope=col>measurement_y</th><th scope=col>delta_ef_value_group</th><th scope=col>delta_ef_value</th><th scope=col>sample_y</th><th scope=col>cell_type_concat..</th><th scope=col>cluster_cell_type_concat..</th><th scope=col>B2_Scanorama_Singlet_cluster</th><th scope=col>B2_Scanorama_Singlet_rb_mt_cluster</th><th scope=col>cell_type_Scanorama</th><th scope=col>cluster_cell_type_Scanorama</th></tr>\n",
       "\t<tr><th></th><th scope=col>&lt;chr&gt;</th><th scope=col>&lt;dbl&gt;</th><th scope=col>&lt;int&gt;</th><th scope=col>&lt;dbl&gt;</th><th scope=col>&lt;int&gt;</th><th scope=col>&lt;dbl&gt;</th><th scope=col>&lt;chr&gt;</th><th scope=col>&lt;chr&gt;</th><th scope=col>&lt;dbl&gt;</th><th scope=col>&lt;chr&gt;</th><th scope=col>⋯</th><th scope=col>&lt;chr&gt;</th><th scope=col>&lt;chr&gt;</th><th scope=col>&lt;dbl&gt;</th><th scope=col>&lt;dbl&gt;</th><th scope=col>&lt;chr&gt;</th><th scope=col>&lt;chr&gt;</th><th scope=col>&lt;int&gt;</th><th scope=col>&lt;int&gt;</th><th scope=col>&lt;chr&gt;</th><th scope=col>&lt;chr&gt;</th></tr>\n",
       "</thead>\n",
       "<tbody>\n",
       "\t<tr><th scope=row>1</th><td>AAACCCACATACAGGG-1-L1</td><td>1574</td><td>7</td><td> 3947</td><td>1232</td><td>7.980745</td><td>9.1</td><td>1.1</td><td>2.2530478</td><td>9.1</td><td>⋯</td><td>TP1</td><td>x_greater_1</td><td>14.30</td><td>9.1</td><td>B-cell                 </td><td>6_B-cell                 </td><td> 8</td><td> 8</td><td>B-cell                 </td><td>8_B-cell                 </td></tr>\n",
       "\t<tr><th scope=row>2</th><td>AAACCCACATGACTTG-1-L1</td><td> 379</td><td>7</td><td> 5871</td><td>1890</td><td>7.256004</td><td>9.1</td><td>7.1</td><td>0.9431934</td><td>9.1</td><td>⋯</td><td>TP1</td><td>x_greater_1</td><td>14.30</td><td>9.1</td><td>Monocytes - CD16_FCGR3A</td><td>7_Monocytes - CD16_FCGR3A</td><td> 9</td><td> 9</td><td>Monocytes - CD16_FCGR3A</td><td>9_Monocytes - CD16_FCGR3A</td></tr>\n",
       "\t<tr><th scope=row>3</th><td>AAACCCAGTCATCAGT-1-L1</td><td> 421</td><td>7</td><td> 3889</td><td>1297</td><td>4.551299</td><td>7.1</td><td>1.1</td><td>2.2652894</td><td>7.1</td><td>⋯</td><td>TP1</td><td>x_smaller_1</td><td> 0.75</td><td>7.1</td><td>T-cell-CD4             </td><td>0_T-cell-CD4             </td><td> 5</td><td> 5</td><td>T-cell-CD4             </td><td>5_T-cell-CD4             </td></tr>\n",
       "\t<tr><th scope=row>4</th><td>AAACCCAGTGGTAATA-1-L1</td><td> 478</td><td>7</td><td> 5094</td><td>1327</td><td>6.340793</td><td>9.1</td><td>8.1</td><td>1.3197352</td><td>9.1</td><td>⋯</td><td>TP1</td><td>x_greater_1</td><td>14.30</td><td>9.1</td><td>T-cell-CD4             </td><td>1_T-cell-CD4             </td><td> 0</td><td> 0</td><td>T-cell-CD4             </td><td>0_T-cell-CD4             </td></tr>\n",
       "\t<tr><th scope=row>5</th><td>AAACCCATCATCACAG-1-L1</td><td> 851</td><td>7</td><td>17480</td><td>2363</td><td>2.665904</td><td>9.1</td><td>5.1</td><td>1.6295940</td><td>9.1</td><td>⋯</td><td>TP1</td><td>x_greater_1</td><td>14.30</td><td>9.1</td><td>Plasma Blast           </td><td>17_Plasma Blast          </td><td>16</td><td>16</td><td>Plasma Blast           </td><td>16_Plasma Blast          </td></tr>\n",
       "\t<tr><th scope=row>6</th><td>AAACCCATCGATGGAG-1-L1</td><td> 473</td><td>7</td><td> 4839</td><td>1511</td><td>5.435007</td><td>8.1</td><td>5.1</td><td>1.9195456</td><td>8.1</td><td>⋯</td><td>   </td><td>           </td><td>   NA</td><td> NA</td><td>T-cell-CD4             </td><td>1_T-cell-CD4             </td><td> 0</td><td> 0</td><td>T-cell-CD4             </td><td>0_T-cell-CD4             </td></tr>\n",
       "</tbody>\n",
       "</table>\n"
      ],
      "text/latex": [
       "A data.frame: 6 × 77\n",
       "\\begin{tabular}{r|lllllllllllllllllllll}\n",
       "  & X & nCount\\_HTO & nFeature\\_HTO & nCount\\_RNA & nFeature\\_RNA & percent\\_mt & HTO\\_maxID & HTO\\_secondID & HTO\\_margin & HTO\\_classification & ⋯ & measurement\\_y & delta\\_ef\\_value\\_group & delta\\_ef\\_value & sample\\_y & cell\\_type\\_concat.. & cluster\\_cell\\_type\\_concat.. & B2\\_Scanorama\\_Singlet\\_cluster & B2\\_Scanorama\\_Singlet\\_rb\\_mt\\_cluster & cell\\_type\\_Scanorama & cluster\\_cell\\_type\\_Scanorama\\\\\n",
       "  & <chr> & <dbl> & <int> & <dbl> & <int> & <dbl> & <chr> & <chr> & <dbl> & <chr> & ⋯ & <chr> & <chr> & <dbl> & <dbl> & <chr> & <chr> & <int> & <int> & <chr> & <chr>\\\\\n",
       "\\hline\n",
       "\t1 & AAACCCACATACAGGG-1-L1 & 1574 & 7 &  3947 & 1232 & 7.980745 & 9.1 & 1.1 & 2.2530478 & 9.1 & ⋯ & TP1 & x\\_greater\\_1 & 14.30 & 9.1 & B-cell                  & 6\\_B-cell                  &  8 &  8 & B-cell                  & 8\\_B-cell                 \\\\\n",
       "\t2 & AAACCCACATGACTTG-1-L1 &  379 & 7 &  5871 & 1890 & 7.256004 & 9.1 & 7.1 & 0.9431934 & 9.1 & ⋯ & TP1 & x\\_greater\\_1 & 14.30 & 9.1 & Monocytes - CD16\\_FCGR3A & 7\\_Monocytes - CD16\\_FCGR3A &  9 &  9 & Monocytes - CD16\\_FCGR3A & 9\\_Monocytes - CD16\\_FCGR3A\\\\\n",
       "\t3 & AAACCCAGTCATCAGT-1-L1 &  421 & 7 &  3889 & 1297 & 4.551299 & 7.1 & 1.1 & 2.2652894 & 7.1 & ⋯ & TP1 & x\\_smaller\\_1 &  0.75 & 7.1 & T-cell-CD4              & 0\\_T-cell-CD4              &  5 &  5 & T-cell-CD4              & 5\\_T-cell-CD4             \\\\\n",
       "\t4 & AAACCCAGTGGTAATA-1-L1 &  478 & 7 &  5094 & 1327 & 6.340793 & 9.1 & 8.1 & 1.3197352 & 9.1 & ⋯ & TP1 & x\\_greater\\_1 & 14.30 & 9.1 & T-cell-CD4              & 1\\_T-cell-CD4              &  0 &  0 & T-cell-CD4              & 0\\_T-cell-CD4             \\\\\n",
       "\t5 & AAACCCATCATCACAG-1-L1 &  851 & 7 & 17480 & 2363 & 2.665904 & 9.1 & 5.1 & 1.6295940 & 9.1 & ⋯ & TP1 & x\\_greater\\_1 & 14.30 & 9.1 & Plasma Blast            & 17\\_Plasma Blast           & 16 & 16 & Plasma Blast            & 16\\_Plasma Blast          \\\\\n",
       "\t6 & AAACCCATCGATGGAG-1-L1 &  473 & 7 &  4839 & 1511 & 5.435007 & 8.1 & 5.1 & 1.9195456 & 8.1 & ⋯ &     &             &    NA &  NA & T-cell-CD4              & 1\\_T-cell-CD4              &  0 &  0 & T-cell-CD4              & 0\\_T-cell-CD4             \\\\\n",
       "\\end{tabular}\n"
      ],
      "text/markdown": [
       "\n",
       "A data.frame: 6 × 77\n",
       "\n",
       "| <!--/--> | X &lt;chr&gt; | nCount_HTO &lt;dbl&gt; | nFeature_HTO &lt;int&gt; | nCount_RNA &lt;dbl&gt; | nFeature_RNA &lt;int&gt; | percent_mt &lt;dbl&gt; | HTO_maxID &lt;chr&gt; | HTO_secondID &lt;chr&gt; | HTO_margin &lt;dbl&gt; | HTO_classification &lt;chr&gt; | ⋯ ⋯ | measurement_y &lt;chr&gt; | delta_ef_value_group &lt;chr&gt; | delta_ef_value &lt;dbl&gt; | sample_y &lt;dbl&gt; | cell_type_concat.. &lt;chr&gt; | cluster_cell_type_concat.. &lt;chr&gt; | B2_Scanorama_Singlet_cluster &lt;int&gt; | B2_Scanorama_Singlet_rb_mt_cluster &lt;int&gt; | cell_type_Scanorama &lt;chr&gt; | cluster_cell_type_Scanorama &lt;chr&gt; |\n",
       "|---|---|---|---|---|---|---|---|---|---|---|---|---|---|---|---|---|---|---|---|---|---|\n",
       "| 1 | AAACCCACATACAGGG-1-L1 | 1574 | 7 |  3947 | 1232 | 7.980745 | 9.1 | 1.1 | 2.2530478 | 9.1 | ⋯ | TP1 | x_greater_1 | 14.30 | 9.1 | B-cell                  | 6_B-cell                  |  8 |  8 | B-cell                  | 8_B-cell                  |\n",
       "| 2 | AAACCCACATGACTTG-1-L1 |  379 | 7 |  5871 | 1890 | 7.256004 | 9.1 | 7.1 | 0.9431934 | 9.1 | ⋯ | TP1 | x_greater_1 | 14.30 | 9.1 | Monocytes - CD16_FCGR3A | 7_Monocytes - CD16_FCGR3A |  9 |  9 | Monocytes - CD16_FCGR3A | 9_Monocytes - CD16_FCGR3A |\n",
       "| 3 | AAACCCAGTCATCAGT-1-L1 |  421 | 7 |  3889 | 1297 | 4.551299 | 7.1 | 1.1 | 2.2652894 | 7.1 | ⋯ | TP1 | x_smaller_1 |  0.75 | 7.1 | T-cell-CD4              | 0_T-cell-CD4              |  5 |  5 | T-cell-CD4              | 5_T-cell-CD4              |\n",
       "| 4 | AAACCCAGTGGTAATA-1-L1 |  478 | 7 |  5094 | 1327 | 6.340793 | 9.1 | 8.1 | 1.3197352 | 9.1 | ⋯ | TP1 | x_greater_1 | 14.30 | 9.1 | T-cell-CD4              | 1_T-cell-CD4              |  0 |  0 | T-cell-CD4              | 0_T-cell-CD4              |\n",
       "| 5 | AAACCCATCATCACAG-1-L1 |  851 | 7 | 17480 | 2363 | 2.665904 | 9.1 | 5.1 | 1.6295940 | 9.1 | ⋯ | TP1 | x_greater_1 | 14.30 | 9.1 | Plasma Blast            | 17_Plasma Blast           | 16 | 16 | Plasma Blast            | 16_Plasma Blast           |\n",
       "| 6 | AAACCCATCGATGGAG-1-L1 |  473 | 7 |  4839 | 1511 | 5.435007 | 8.1 | 5.1 | 1.9195456 | 8.1 | ⋯ | <!----> | <!----> |    NA |  NA | T-cell-CD4              | 1_T-cell-CD4              |  0 |  0 | T-cell-CD4              | 0_T-cell-CD4              |\n",
       "\n"
      ],
      "text/plain": [
       "  X                     nCount_HTO nFeature_HTO nCount_RNA nFeature_RNA\n",
       "1 AAACCCACATACAGGG-1-L1 1574       7             3947      1232        \n",
       "2 AAACCCACATGACTTG-1-L1  379       7             5871      1890        \n",
       "3 AAACCCAGTCATCAGT-1-L1  421       7             3889      1297        \n",
       "4 AAACCCAGTGGTAATA-1-L1  478       7             5094      1327        \n",
       "5 AAACCCATCATCACAG-1-L1  851       7            17480      2363        \n",
       "6 AAACCCATCGATGGAG-1-L1  473       7             4839      1511        \n",
       "  percent_mt HTO_maxID HTO_secondID HTO_margin HTO_classification ⋯\n",
       "1 7.980745   9.1       1.1          2.2530478  9.1                ⋯\n",
       "2 7.256004   9.1       7.1          0.9431934  9.1                ⋯\n",
       "3 4.551299   7.1       1.1          2.2652894  7.1                ⋯\n",
       "4 6.340793   9.1       8.1          1.3197352  9.1                ⋯\n",
       "5 2.665904   9.1       5.1          1.6295940  9.1                ⋯\n",
       "6 5.435007   8.1       5.1          1.9195456  8.1                ⋯\n",
       "  measurement_y delta_ef_value_group delta_ef_value sample_y\n",
       "1 TP1           x_greater_1          14.30          9.1     \n",
       "2 TP1           x_greater_1          14.30          9.1     \n",
       "3 TP1           x_smaller_1           0.75          7.1     \n",
       "4 TP1           x_greater_1          14.30          9.1     \n",
       "5 TP1           x_greater_1          14.30          9.1     \n",
       "6                                       NA           NA     \n",
       "  cell_type_concat..      cluster_cell_type_concat..\n",
       "1 B-cell                  6_B-cell                  \n",
       "2 Monocytes - CD16_FCGR3A 7_Monocytes - CD16_FCGR3A \n",
       "3 T-cell-CD4              0_T-cell-CD4              \n",
       "4 T-cell-CD4              1_T-cell-CD4              \n",
       "5 Plasma Blast            17_Plasma Blast           \n",
       "6 T-cell-CD4              1_T-cell-CD4              \n",
       "  B2_Scanorama_Singlet_cluster B2_Scanorama_Singlet_rb_mt_cluster\n",
       "1  8                            8                                \n",
       "2  9                            9                                \n",
       "3  5                            5                                \n",
       "4  0                            0                                \n",
       "5 16                           16                                \n",
       "6  0                            0                                \n",
       "  cell_type_Scanorama     cluster_cell_type_Scanorama\n",
       "1 B-cell                  8_B-cell                   \n",
       "2 Monocytes - CD16_FCGR3A 9_Monocytes - CD16_FCGR3A  \n",
       "3 T-cell-CD4              5_T-cell-CD4               \n",
       "4 T-cell-CD4              0_T-cell-CD4               \n",
       "5 Plasma Blast            16_Plasma Blast            \n",
       "6 T-cell-CD4              0_T-cell-CD4               "
      ]
     },
     "metadata": {},
     "output_type": "display_data"
    }
   ],
   "source": [
    "head(data_for_analysis_list[[1]])"
   ]
  },
  {
   "cell_type": "code",
   "execution_count": 26,
   "id": "d1eb465b-ce43-4b7c-9e57-dcf4e43b12bf",
   "metadata": {},
   "outputs": [
    {
     "data": {
      "text/html": [
       "<style>\n",
       ".list-inline {list-style: none; margin:0; padding: 0}\n",
       ".list-inline>li {display: inline-block}\n",
       ".list-inline>li:not(:last-child)::after {content: \"\\00b7\"; padding: 0 .5ex}\n",
       "</style>\n",
       "<ol class=list-inline><li>'X'</li><li>'nCount_HTO'</li><li>'nFeature_HTO'</li><li>'nCount_RNA'</li><li>'nFeature_RNA'</li><li>'percent_mt'</li><li>'HTO_maxID'</li><li>'HTO_secondID'</li><li>'HTO_margin'</li><li>'HTO_classification'</li><li>'HTO_classification.global'</li><li>'hash.ID'</li><li>'HTO_classification_final'</li><li>'name'</li><li>'library'</li><li>'id'</li><li>'read'</li><li>'pattern'</li><li>'sequence'</li><li>'feature_type'</li><li>'Unnamed..7'</li><li>'in_sample'</li><li>'display_name'</li><li>'group_x'</li><li>'HTO_Doublet_Classification'</li><li>'doublet_score'</li><li>'predicted_doublet'</li><li>'A5_scrublet_predicted_doublet_lib0.1'</li><li>'A5_scrublet_doublet_score_lib_0.1'</li><li>'A5_scrublet_predicted_doublet_lib0.2'</li><li>'A5_scrublet_doublet_score_lib_0.2'</li><li>'A5_scrublet_predicted_doublet_lib'</li><li>'A5_scrublet_doublet_score_lib'</li><li>'n_genes'</li><li>'n_genes_by_counts'</li><li>'total_counts'</li><li>'total_counts_mt'</li><li>'pct_counts_mt'</li><li>'valid_cell_filter_dying'</li><li>'valid_cell_filter_doublet'</li><li>'A7_PCA_50_10_neighbors_cluster'</li><li>'A7_PCA_100_10_neighbors_cluster'</li><li>'A7_PCA_100_50_neighbors_cluster'</li><li>'A7_PCA_500_50_neighbors_cluster'</li><li>'A7_Singlet_PCA_50_10_neighbors_cluster'</li><li>'A7_Singlet_PCA_100_10_neighbors_cluster'</li><li>'A7_Singlet_RB_MT_PCA_50_10_neighbors_cluster'</li><li>'A7_Singlet_RB_MT_PCA_100_10_neighbors_cluster'</li><li>'library_id'</li><li>'B2_Concat_Singlet_PCA_50_10_neighbors_cluster'</li><li>'B2_Concat_Singlet_PCA_100_10_neighbors_cluster'</li><li>'B2_Concat_Singlet_RB_MT_PCA_50_10_neighbors_cluster'</li><li>'B2_Concat_Singlet_RB_MT_PCA_100_10_neighbors_cluster'</li><li>'leiden'</li><li>'cell_type'</li><li>'cluster_cell_type'</li><li>'library.hashtag_x'</li><li>'age'</li><li>'sex'</li><li>'m_x'</li><li>'classification'</li><li>'group_y'</li><li>'measurement_x'</li><li>'sample_x'</li><li>'Unnamed..0'</li><li>'library.hashtag_y'</li><li>'m_y'</li><li>'measurement_y'</li><li>'delta_ef_value_group'</li><li>'delta_ef_value'</li><li>'sample_y'</li><li>'cell_type_concat..'</li><li>'cluster_cell_type_concat..'</li><li>'B2_Scanorama_Singlet_cluster'</li><li>'B2_Scanorama_Singlet_rb_mt_cluster'</li><li>'cell_type_Scanorama'</li><li>'cluster_cell_type_Scanorama'</li></ol>\n"
      ],
      "text/latex": [
       "\\begin{enumerate*}\n",
       "\\item 'X'\n",
       "\\item 'nCount\\_HTO'\n",
       "\\item 'nFeature\\_HTO'\n",
       "\\item 'nCount\\_RNA'\n",
       "\\item 'nFeature\\_RNA'\n",
       "\\item 'percent\\_mt'\n",
       "\\item 'HTO\\_maxID'\n",
       "\\item 'HTO\\_secondID'\n",
       "\\item 'HTO\\_margin'\n",
       "\\item 'HTO\\_classification'\n",
       "\\item 'HTO\\_classification.global'\n",
       "\\item 'hash.ID'\n",
       "\\item 'HTO\\_classification\\_final'\n",
       "\\item 'name'\n",
       "\\item 'library'\n",
       "\\item 'id'\n",
       "\\item 'read'\n",
       "\\item 'pattern'\n",
       "\\item 'sequence'\n",
       "\\item 'feature\\_type'\n",
       "\\item 'Unnamed..7'\n",
       "\\item 'in\\_sample'\n",
       "\\item 'display\\_name'\n",
       "\\item 'group\\_x'\n",
       "\\item 'HTO\\_Doublet\\_Classification'\n",
       "\\item 'doublet\\_score'\n",
       "\\item 'predicted\\_doublet'\n",
       "\\item 'A5\\_scrublet\\_predicted\\_doublet\\_lib0.1'\n",
       "\\item 'A5\\_scrublet\\_doublet\\_score\\_lib\\_0.1'\n",
       "\\item 'A5\\_scrublet\\_predicted\\_doublet\\_lib0.2'\n",
       "\\item 'A5\\_scrublet\\_doublet\\_score\\_lib\\_0.2'\n",
       "\\item 'A5\\_scrublet\\_predicted\\_doublet\\_lib'\n",
       "\\item 'A5\\_scrublet\\_doublet\\_score\\_lib'\n",
       "\\item 'n\\_genes'\n",
       "\\item 'n\\_genes\\_by\\_counts'\n",
       "\\item 'total\\_counts'\n",
       "\\item 'total\\_counts\\_mt'\n",
       "\\item 'pct\\_counts\\_mt'\n",
       "\\item 'valid\\_cell\\_filter\\_dying'\n",
       "\\item 'valid\\_cell\\_filter\\_doublet'\n",
       "\\item 'A7\\_PCA\\_50\\_10\\_neighbors\\_cluster'\n",
       "\\item 'A7\\_PCA\\_100\\_10\\_neighbors\\_cluster'\n",
       "\\item 'A7\\_PCA\\_100\\_50\\_neighbors\\_cluster'\n",
       "\\item 'A7\\_PCA\\_500\\_50\\_neighbors\\_cluster'\n",
       "\\item 'A7\\_Singlet\\_PCA\\_50\\_10\\_neighbors\\_cluster'\n",
       "\\item 'A7\\_Singlet\\_PCA\\_100\\_10\\_neighbors\\_cluster'\n",
       "\\item 'A7\\_Singlet\\_RB\\_MT\\_PCA\\_50\\_10\\_neighbors\\_cluster'\n",
       "\\item 'A7\\_Singlet\\_RB\\_MT\\_PCA\\_100\\_10\\_neighbors\\_cluster'\n",
       "\\item 'library\\_id'\n",
       "\\item 'B2\\_Concat\\_Singlet\\_PCA\\_50\\_10\\_neighbors\\_cluster'\n",
       "\\item 'B2\\_Concat\\_Singlet\\_PCA\\_100\\_10\\_neighbors\\_cluster'\n",
       "\\item 'B2\\_Concat\\_Singlet\\_RB\\_MT\\_PCA\\_50\\_10\\_neighbors\\_cluster'\n",
       "\\item 'B2\\_Concat\\_Singlet\\_RB\\_MT\\_PCA\\_100\\_10\\_neighbors\\_cluster'\n",
       "\\item 'leiden'\n",
       "\\item 'cell\\_type'\n",
       "\\item 'cluster\\_cell\\_type'\n",
       "\\item 'library.hashtag\\_x'\n",
       "\\item 'age'\n",
       "\\item 'sex'\n",
       "\\item 'm\\_x'\n",
       "\\item 'classification'\n",
       "\\item 'group\\_y'\n",
       "\\item 'measurement\\_x'\n",
       "\\item 'sample\\_x'\n",
       "\\item 'Unnamed..0'\n",
       "\\item 'library.hashtag\\_y'\n",
       "\\item 'm\\_y'\n",
       "\\item 'measurement\\_y'\n",
       "\\item 'delta\\_ef\\_value\\_group'\n",
       "\\item 'delta\\_ef\\_value'\n",
       "\\item 'sample\\_y'\n",
       "\\item 'cell\\_type\\_concat..'\n",
       "\\item 'cluster\\_cell\\_type\\_concat..'\n",
       "\\item 'B2\\_Scanorama\\_Singlet\\_cluster'\n",
       "\\item 'B2\\_Scanorama\\_Singlet\\_rb\\_mt\\_cluster'\n",
       "\\item 'cell\\_type\\_Scanorama'\n",
       "\\item 'cluster\\_cell\\_type\\_Scanorama'\n",
       "\\end{enumerate*}\n"
      ],
      "text/markdown": [
       "1. 'X'\n",
       "2. 'nCount_HTO'\n",
       "3. 'nFeature_HTO'\n",
       "4. 'nCount_RNA'\n",
       "5. 'nFeature_RNA'\n",
       "6. 'percent_mt'\n",
       "7. 'HTO_maxID'\n",
       "8. 'HTO_secondID'\n",
       "9. 'HTO_margin'\n",
       "10. 'HTO_classification'\n",
       "11. 'HTO_classification.global'\n",
       "12. 'hash.ID'\n",
       "13. 'HTO_classification_final'\n",
       "14. 'name'\n",
       "15. 'library'\n",
       "16. 'id'\n",
       "17. 'read'\n",
       "18. 'pattern'\n",
       "19. 'sequence'\n",
       "20. 'feature_type'\n",
       "21. 'Unnamed..7'\n",
       "22. 'in_sample'\n",
       "23. 'display_name'\n",
       "24. 'group_x'\n",
       "25. 'HTO_Doublet_Classification'\n",
       "26. 'doublet_score'\n",
       "27. 'predicted_doublet'\n",
       "28. 'A5_scrublet_predicted_doublet_lib0.1'\n",
       "29. 'A5_scrublet_doublet_score_lib_0.1'\n",
       "30. 'A5_scrublet_predicted_doublet_lib0.2'\n",
       "31. 'A5_scrublet_doublet_score_lib_0.2'\n",
       "32. 'A5_scrublet_predicted_doublet_lib'\n",
       "33. 'A5_scrublet_doublet_score_lib'\n",
       "34. 'n_genes'\n",
       "35. 'n_genes_by_counts'\n",
       "36. 'total_counts'\n",
       "37. 'total_counts_mt'\n",
       "38. 'pct_counts_mt'\n",
       "39. 'valid_cell_filter_dying'\n",
       "40. 'valid_cell_filter_doublet'\n",
       "41. 'A7_PCA_50_10_neighbors_cluster'\n",
       "42. 'A7_PCA_100_10_neighbors_cluster'\n",
       "43. 'A7_PCA_100_50_neighbors_cluster'\n",
       "44. 'A7_PCA_500_50_neighbors_cluster'\n",
       "45. 'A7_Singlet_PCA_50_10_neighbors_cluster'\n",
       "46. 'A7_Singlet_PCA_100_10_neighbors_cluster'\n",
       "47. 'A7_Singlet_RB_MT_PCA_50_10_neighbors_cluster'\n",
       "48. 'A7_Singlet_RB_MT_PCA_100_10_neighbors_cluster'\n",
       "49. 'library_id'\n",
       "50. 'B2_Concat_Singlet_PCA_50_10_neighbors_cluster'\n",
       "51. 'B2_Concat_Singlet_PCA_100_10_neighbors_cluster'\n",
       "52. 'B2_Concat_Singlet_RB_MT_PCA_50_10_neighbors_cluster'\n",
       "53. 'B2_Concat_Singlet_RB_MT_PCA_100_10_neighbors_cluster'\n",
       "54. 'leiden'\n",
       "55. 'cell_type'\n",
       "56. 'cluster_cell_type'\n",
       "57. 'library.hashtag_x'\n",
       "58. 'age'\n",
       "59. 'sex'\n",
       "60. 'm_x'\n",
       "61. 'classification'\n",
       "62. 'group_y'\n",
       "63. 'measurement_x'\n",
       "64. 'sample_x'\n",
       "65. 'Unnamed..0'\n",
       "66. 'library.hashtag_y'\n",
       "67. 'm_y'\n",
       "68. 'measurement_y'\n",
       "69. 'delta_ef_value_group'\n",
       "70. 'delta_ef_value'\n",
       "71. 'sample_y'\n",
       "72. 'cell_type_concat..'\n",
       "73. 'cluster_cell_type_concat..'\n",
       "74. 'B2_Scanorama_Singlet_cluster'\n",
       "75. 'B2_Scanorama_Singlet_rb_mt_cluster'\n",
       "76. 'cell_type_Scanorama'\n",
       "77. 'cluster_cell_type_Scanorama'\n",
       "\n",
       "\n"
      ],
      "text/plain": [
       " [1] \"X\"                                                   \n",
       " [2] \"nCount_HTO\"                                          \n",
       " [3] \"nFeature_HTO\"                                        \n",
       " [4] \"nCount_RNA\"                                          \n",
       " [5] \"nFeature_RNA\"                                        \n",
       " [6] \"percent_mt\"                                          \n",
       " [7] \"HTO_maxID\"                                           \n",
       " [8] \"HTO_secondID\"                                        \n",
       " [9] \"HTO_margin\"                                          \n",
       "[10] \"HTO_classification\"                                  \n",
       "[11] \"HTO_classification.global\"                           \n",
       "[12] \"hash.ID\"                                             \n",
       "[13] \"HTO_classification_final\"                            \n",
       "[14] \"name\"                                                \n",
       "[15] \"library\"                                             \n",
       "[16] \"id\"                                                  \n",
       "[17] \"read\"                                                \n",
       "[18] \"pattern\"                                             \n",
       "[19] \"sequence\"                                            \n",
       "[20] \"feature_type\"                                        \n",
       "[21] \"Unnamed..7\"                                          \n",
       "[22] \"in_sample\"                                           \n",
       "[23] \"display_name\"                                        \n",
       "[24] \"group_x\"                                             \n",
       "[25] \"HTO_Doublet_Classification\"                          \n",
       "[26] \"doublet_score\"                                       \n",
       "[27] \"predicted_doublet\"                                   \n",
       "[28] \"A5_scrublet_predicted_doublet_lib0.1\"                \n",
       "[29] \"A5_scrublet_doublet_score_lib_0.1\"                   \n",
       "[30] \"A5_scrublet_predicted_doublet_lib0.2\"                \n",
       "[31] \"A5_scrublet_doublet_score_lib_0.2\"                   \n",
       "[32] \"A5_scrublet_predicted_doublet_lib\"                   \n",
       "[33] \"A5_scrublet_doublet_score_lib\"                       \n",
       "[34] \"n_genes\"                                             \n",
       "[35] \"n_genes_by_counts\"                                   \n",
       "[36] \"total_counts\"                                        \n",
       "[37] \"total_counts_mt\"                                     \n",
       "[38] \"pct_counts_mt\"                                       \n",
       "[39] \"valid_cell_filter_dying\"                             \n",
       "[40] \"valid_cell_filter_doublet\"                           \n",
       "[41] \"A7_PCA_50_10_neighbors_cluster\"                      \n",
       "[42] \"A7_PCA_100_10_neighbors_cluster\"                     \n",
       "[43] \"A7_PCA_100_50_neighbors_cluster\"                     \n",
       "[44] \"A7_PCA_500_50_neighbors_cluster\"                     \n",
       "[45] \"A7_Singlet_PCA_50_10_neighbors_cluster\"              \n",
       "[46] \"A7_Singlet_PCA_100_10_neighbors_cluster\"             \n",
       "[47] \"A7_Singlet_RB_MT_PCA_50_10_neighbors_cluster\"        \n",
       "[48] \"A7_Singlet_RB_MT_PCA_100_10_neighbors_cluster\"       \n",
       "[49] \"library_id\"                                          \n",
       "[50] \"B2_Concat_Singlet_PCA_50_10_neighbors_cluster\"       \n",
       "[51] \"B2_Concat_Singlet_PCA_100_10_neighbors_cluster\"      \n",
       "[52] \"B2_Concat_Singlet_RB_MT_PCA_50_10_neighbors_cluster\" \n",
       "[53] \"B2_Concat_Singlet_RB_MT_PCA_100_10_neighbors_cluster\"\n",
       "[54] \"leiden\"                                              \n",
       "[55] \"cell_type\"                                           \n",
       "[56] \"cluster_cell_type\"                                   \n",
       "[57] \"library.hashtag_x\"                                   \n",
       "[58] \"age\"                                                 \n",
       "[59] \"sex\"                                                 \n",
       "[60] \"m_x\"                                                 \n",
       "[61] \"classification\"                                      \n",
       "[62] \"group_y\"                                             \n",
       "[63] \"measurement_x\"                                       \n",
       "[64] \"sample_x\"                                            \n",
       "[65] \"Unnamed..0\"                                          \n",
       "[66] \"library.hashtag_y\"                                   \n",
       "[67] \"m_y\"                                                 \n",
       "[68] \"measurement_y\"                                       \n",
       "[69] \"delta_ef_value_group\"                                \n",
       "[70] \"delta_ef_value\"                                      \n",
       "[71] \"sample_y\"                                            \n",
       "[72] \"cell_type_concat..\"                                  \n",
       "[73] \"cluster_cell_type_concat..\"                          \n",
       "[74] \"B2_Scanorama_Singlet_cluster\"                        \n",
       "[75] \"B2_Scanorama_Singlet_rb_mt_cluster\"                  \n",
       "[76] \"cell_type_Scanorama\"                                 \n",
       "[77] \"cluster_cell_type_Scanorama\"                         "
      ]
     },
     "metadata": {},
     "output_type": "display_data"
    }
   ],
   "source": [
    "colnames(data_for_analysis_list[[1]])"
   ]
  },
  {
   "cell_type": "code",
   "execution_count": 27,
   "id": "4595398b-896a-4f6b-978c-cac3d61cc934",
   "metadata": {},
   "outputs": [],
   "source": [
    "#data_for_analysis_list[[1]]$display_name"
   ]
  },
  {
   "cell_type": "code",
   "execution_count": 28,
   "id": "78219ce0-9f66-4655-8455-0251093770cc",
   "metadata": {},
   "outputs": [
    {
     "data": {
      "text/html": [
       "148275"
      ],
      "text/latex": [
       "148275"
      ],
      "text/markdown": [
       "148275"
      ],
      "text/plain": [
       "[1] 148275"
      ]
     },
     "metadata": {},
     "output_type": "display_data"
    }
   ],
   "source": [
    "nrow(data_for_analysis_list[[1]])  # 148275 --> only singlet variant"
   ]
  },
  {
   "cell_type": "markdown",
   "id": "30f3d08c-4044-4974-92a7-87ca687eec79",
   "metadata": {},
   "source": [
    "## Parameters"
   ]
  },
  {
   "cell_type": "code",
   "execution_count": 29,
   "id": "19838f39-eec7-4a16-8615-06c29c99ba14",
   "metadata": {},
   "outputs": [],
   "source": [
    "variant = 'V1_Singlet'"
   ]
  },
  {
   "cell_type": "code",
   "execution_count": 30,
   "id": "a89e3bc1-7c8e-4967-ba4f-bcecb9208a9d",
   "metadata": {},
   "outputs": [],
   "source": [
    "used_clustering = 'B2_Scanorama_Singlet_rb_mt_cluster'\n",
    "# used_clustering =  'B2_Scanorama_Singlet_rb_mt_cluster'"
   ]
  },
  {
   "cell_type": "code",
   "execution_count": 31,
   "id": "7ca0f7c0-8c71-47a2-b769-53884f41a671",
   "metadata": {},
   "outputs": [],
   "source": [
    "used_annotation = 'cell_type_Scanorama'"
   ]
  },
  {
   "cell_type": "code",
   "execution_count": null,
   "id": "d60e2c3f-82f4-40ef-8ff0-cc1ed6c8dca3",
   "metadata": {},
   "outputs": [],
   "source": []
  },
  {
   "cell_type": "code",
   "execution_count": 32,
   "id": "20cfb8d5-e732-4a57-926d-4fcc017641d3",
   "metadata": {},
   "outputs": [],
   "source": [
    "data_for_analysis = data_for_analysis_list[[variant]]"
   ]
  },
  {
   "cell_type": "code",
   "execution_count": 33,
   "id": "01214c76-5f27-4d11-839d-3f67b6b11085",
   "metadata": {},
   "outputs": [],
   "source": [
    "data_for_analysis$cell_type = data_for_analysis[,used_annotation]"
   ]
  },
  {
   "cell_type": "code",
   "execution_count": 34,
   "id": "361fea4f-5d54-4790-8b55-6c820ce736e7",
   "metadata": {},
   "outputs": [
    {
     "data": {
      "text/html": [
       "<style>\n",
       ".list-inline {list-style: none; margin:0; padding: 0}\n",
       ".list-inline>li {display: inline-block}\n",
       ".list-inline>li:not(:last-child)::after {content: \"\\00b7\"; padding: 0 .5ex}\n",
       "</style>\n",
       "<ol class=list-inline><li>'B-cell'</li><li>'Monocytes - CD16_FCGR3A'</li><li>'T-cell-CD4'</li><li>'Plasma Blast'</li><li>'T-cell-CD8'</li><li>'Monocytes - CD14'</li><li>'Other'</li><li>'NK'</li><li>'Dendritic'</li><li>'Progenitor'</li><li>'Megakaryocytes'</li></ol>\n"
      ],
      "text/latex": [
       "\\begin{enumerate*}\n",
       "\\item 'B-cell'\n",
       "\\item 'Monocytes - CD16\\_FCGR3A'\n",
       "\\item 'T-cell-CD4'\n",
       "\\item 'Plasma Blast'\n",
       "\\item 'T-cell-CD8'\n",
       "\\item 'Monocytes - CD14'\n",
       "\\item 'Other'\n",
       "\\item 'NK'\n",
       "\\item 'Dendritic'\n",
       "\\item 'Progenitor'\n",
       "\\item 'Megakaryocytes'\n",
       "\\end{enumerate*}\n"
      ],
      "text/markdown": [
       "1. 'B-cell'\n",
       "2. 'Monocytes - CD16_FCGR3A'\n",
       "3. 'T-cell-CD4'\n",
       "4. 'Plasma Blast'\n",
       "5. 'T-cell-CD8'\n",
       "6. 'Monocytes - CD14'\n",
       "7. 'Other'\n",
       "8. 'NK'\n",
       "9. 'Dendritic'\n",
       "10. 'Progenitor'\n",
       "11. 'Megakaryocytes'\n",
       "\n",
       "\n"
      ],
      "text/plain": [
       " [1] \"B-cell\"                  \"Monocytes - CD16_FCGR3A\"\n",
       " [3] \"T-cell-CD4\"              \"Plasma Blast\"           \n",
       " [5] \"T-cell-CD8\"              \"Monocytes - CD14\"       \n",
       " [7] \"Other\"                   \"NK\"                     \n",
       " [9] \"Dendritic\"               \"Progenitor\"             \n",
       "[11] \"Megakaryocytes\"         "
      ]
     },
     "metadata": {},
     "output_type": "display_data"
    }
   ],
   "source": [
    "unique(data_for_analysis[,used_annotation])"
   ]
  },
  {
   "cell_type": "code",
   "execution_count": 35,
   "id": "5dd1c69e-8122-41db-a445-f3630fd94096",
   "metadata": {},
   "outputs": [
    {
     "data": {
      "text/html": [
       "<style>\n",
       ".list-inline {list-style: none; margin:0; padding: 0}\n",
       ".list-inline>li {display: inline-block}\n",
       ".list-inline>li:not(:last-child)::after {content: \"\\00b7\"; padding: 0 .5ex}\n",
       "</style>\n",
       "<ol class=list-inline><li>8</li><li>9</li><li>5</li><li>0</li><li>16</li><li>1</li><li>6</li><li>2</li><li>4</li><li>14</li><li>11</li><li>3</li><li>7</li><li>13</li><li>10</li><li>17</li><li>12</li><li>15</li><li>18</li></ol>\n"
      ],
      "text/latex": [
       "\\begin{enumerate*}\n",
       "\\item 8\n",
       "\\item 9\n",
       "\\item 5\n",
       "\\item 0\n",
       "\\item 16\n",
       "\\item 1\n",
       "\\item 6\n",
       "\\item 2\n",
       "\\item 4\n",
       "\\item 14\n",
       "\\item 11\n",
       "\\item 3\n",
       "\\item 7\n",
       "\\item 13\n",
       "\\item 10\n",
       "\\item 17\n",
       "\\item 12\n",
       "\\item 15\n",
       "\\item 18\n",
       "\\end{enumerate*}\n"
      ],
      "text/markdown": [
       "1. 8\n",
       "2. 9\n",
       "3. 5\n",
       "4. 0\n",
       "5. 16\n",
       "6. 1\n",
       "7. 6\n",
       "8. 2\n",
       "9. 4\n",
       "10. 14\n",
       "11. 11\n",
       "12. 3\n",
       "13. 7\n",
       "14. 13\n",
       "15. 10\n",
       "16. 17\n",
       "17. 12\n",
       "18. 15\n",
       "19. 18\n",
       "\n",
       "\n"
      ],
      "text/plain": [
       " [1]  8  9  5  0 16  1  6  2  4 14 11  3  7 13 10 17 12 15 18"
      ]
     },
     "metadata": {},
     "output_type": "display_data"
    }
   ],
   "source": [
    "unique(data_for_analysis[,used_clustering])"
   ]
  },
  {
   "cell_type": "markdown",
   "id": "cfd5d8c5-dc23-44d2-bc05-04faa57cca3d",
   "metadata": {},
   "source": [
    "## Join Meta-Data for cell-type assignemts"
   ]
  },
  {
   "cell_type": "code",
   "execution_count": 36,
   "id": "a4ba3cd8-cefb-42dc-b68e-e0cfa9476609",
   "metadata": {},
   "outputs": [
    {
     "name": "stdout",
     "output_type": "stream",
     "text": [
      "[1] \"2023-07-06 14:12:39 UTC\"\n"
     ]
    }
   ],
   "source": [
    "path =  paste ( data_path, \"/preprocessed-data/meta-data/Annotations_Mapping.csv\", sep = '')\n",
    "meta_cell_types = read.csv( path )\n",
    "print(file.info(path)$mtime)\n",
    "meta_cell_types$cell_type = meta_cell_types$Cat3"
   ]
  },
  {
   "cell_type": "code",
   "execution_count": 37,
   "id": "d59e444d-69b0-4f70-b090-bd1b2454143e",
   "metadata": {},
   "outputs": [
    {
     "data": {
      "text/html": [
       "<style>\n",
       ".list-inline {list-style: none; margin:0; padding: 0}\n",
       ".list-inline>li {display: inline-block}\n",
       ".list-inline>li:not(:last-child)::after {content: \"\\00b7\"; padding: 0 .5ex}\n",
       "</style>\n",
       "<ol class=list-inline><li>'T-cell-CD4'</li><li>'T-cell-CD8'</li><li>'NK'</li><li>'B-cell'</li><li>'T-cell'</li><li>'Monocytes - CD14'</li><li>'Monocytes - FCGR3A'</li><li>'Dendritic'</li><li>'Other'</li></ol>\n"
      ],
      "text/latex": [
       "\\begin{enumerate*}\n",
       "\\item 'T-cell-CD4'\n",
       "\\item 'T-cell-CD8'\n",
       "\\item 'NK'\n",
       "\\item 'B-cell'\n",
       "\\item 'T-cell'\n",
       "\\item 'Monocytes - CD14'\n",
       "\\item 'Monocytes - FCGR3A'\n",
       "\\item 'Dendritic'\n",
       "\\item 'Other'\n",
       "\\end{enumerate*}\n"
      ],
      "text/markdown": [
       "1. 'T-cell-CD4'\n",
       "2. 'T-cell-CD8'\n",
       "3. 'NK'\n",
       "4. 'B-cell'\n",
       "5. 'T-cell'\n",
       "6. 'Monocytes - CD14'\n",
       "7. 'Monocytes - FCGR3A'\n",
       "8. 'Dendritic'\n",
       "9. 'Other'\n",
       "\n",
       "\n"
      ],
      "text/plain": [
       "[1] \"T-cell-CD4\"         \"T-cell-CD8\"         \"NK\"                \n",
       "[4] \"B-cell\"             \"T-cell\"             \"Monocytes - CD14\"  \n",
       "[7] \"Monocytes - FCGR3A\" \"Dendritic\"          \"Other\"             "
      ]
     },
     "metadata": {},
     "output_type": "display_data"
    }
   ],
   "source": [
    "unique(meta_cell_types$cell_type)"
   ]
  },
  {
   "cell_type": "code",
   "execution_count": 38,
   "id": "ad0bcab2-8127-48f3-8c48-cacd39f5aaaf",
   "metadata": {},
   "outputs": [],
   "source": [
    "data_for_analysis = merge(data_for_analysis, meta_cell_types, all.x = TRUE)"
   ]
  },
  {
   "cell_type": "code",
   "execution_count": 39,
   "id": "8d21dda4-4dfe-4365-80b1-98c1c79955f4",
   "metadata": {},
   "outputs": [],
   "source": [
    "#data_for_analysis[is.na(data_for_analysis$Cat1),]$cell_type"
   ]
  },
  {
   "cell_type": "code",
   "execution_count": 40,
   "id": "3f5f260e-b6e4-4d3c-99fa-5f3653e3e6ef",
   "metadata": {},
   "outputs": [],
   "source": [
    "#head(data_for_analysis_list[[i]])"
   ]
  },
  {
   "cell_type": "code",
   "execution_count": 41,
   "id": "590f719c-f3c3-4586-84ca-4e8bd8846360",
   "metadata": {},
   "outputs": [
    {
     "data": {
      "text/html": [
       "148275"
      ],
      "text/latex": [
       "148275"
      ],
      "text/markdown": [
       "148275"
      ],
      "text/plain": [
       "[1] 148275"
      ]
     },
     "metadata": {},
     "output_type": "display_data"
    }
   ],
   "source": [
    "nrow(data_for_analysis) # one row per cell; only Singlets"
   ]
  },
  {
   "cell_type": "markdown",
   "id": "72ec7e43-468a-451c-89c7-005a6c5be8ee",
   "metadata": {},
   "source": [
    "## FACS frequencies"
   ]
  },
  {
   "cell_type": "code",
   "execution_count": 52,
   "id": "654c415a-b33f-4abc-b97d-8ebf404b28ab",
   "metadata": {},
   "outputs": [
    {
     "name": "stdout",
     "output_type": "stream",
     "text": [
      "[1] \"2023-08-01 08:01:47 UTC\"\n"
     ]
    }
   ],
   "source": [
    "path =  paste ( data_path, \"/preprocessed-data/meta-data/FACS_percentages_clean.csv\", sep = '')\n",
    "facs_data = read.csv( path )\n",
    "print(file.info(path)$mtime)"
   ]
  },
  {
   "cell_type": "code",
   "execution_count": 53,
   "id": "37424883-3d73-49cd-ae60-67b0f1950976",
   "metadata": {},
   "outputs": [
    {
     "data": {
      "text/html": [
       "<table class=\"dataframe\">\n",
       "<caption>A data.frame: 2 × 5</caption>\n",
       "<thead>\n",
       "\t<tr><th></th><th scope=col>sample</th><th scope=col>TP</th><th scope=col>type</th><th scope=col>percentage</th><th scope=col>perc_cor</th></tr>\n",
       "\t<tr><th></th><th scope=col>&lt;chr&gt;</th><th scope=col>&lt;chr&gt;</th><th scope=col>&lt;chr&gt;</th><th scope=col>&lt;chr&gt;</th><th scope=col>&lt;chr&gt;</th></tr>\n",
       "</thead>\n",
       "<tbody>\n",
       "\t<tr><th scope=row>1</th><td>K2</td><td>TP0</td><td>pDCs</td><td>0,27 %</td><td>0.27</td></tr>\n",
       "\t<tr><th scope=row>2</th><td>K4</td><td>TP0</td><td>pDCs</td><td>0,79 %</td><td>0.79</td></tr>\n",
       "</tbody>\n",
       "</table>\n"
      ],
      "text/latex": [
       "A data.frame: 2 × 5\n",
       "\\begin{tabular}{r|lllll}\n",
       "  & sample & TP & type & percentage & perc\\_cor\\\\\n",
       "  & <chr> & <chr> & <chr> & <chr> & <chr>\\\\\n",
       "\\hline\n",
       "\t1 & K2 & TP0 & pDCs & 0,27 \\% & 0.27\\\\\n",
       "\t2 & K4 & TP0 & pDCs & 0,79 \\% & 0.79\\\\\n",
       "\\end{tabular}\n"
      ],
      "text/markdown": [
       "\n",
       "A data.frame: 2 × 5\n",
       "\n",
       "| <!--/--> | sample &lt;chr&gt; | TP &lt;chr&gt; | type &lt;chr&gt; | percentage &lt;chr&gt; | perc_cor &lt;chr&gt; |\n",
       "|---|---|---|---|---|---|\n",
       "| 1 | K2 | TP0 | pDCs | 0,27 % | 0.27 |\n",
       "| 2 | K4 | TP0 | pDCs | 0,79 % | 0.79 |\n",
       "\n"
      ],
      "text/plain": [
       "  sample TP  type percentage perc_cor\n",
       "1 K2     TP0 pDCs 0,27 %     0.27    \n",
       "2 K4     TP0 pDCs 0,79 %     0.79    "
      ]
     },
     "metadata": {},
     "output_type": "display_data"
    }
   ],
   "source": [
    "head(facs_data,2)"
   ]
  },
  {
   "cell_type": "code",
   "execution_count": 54,
   "id": "09e98468-d9a9-4b10-88a6-06f689ebae84",
   "metadata": {},
   "outputs": [
    {
     "name": "stderr",
     "output_type": "stream",
     "text": [
      "Warning message in eval(expr, envir, enclos):\n",
      "“NAs introduced by coercion”\n"
     ]
    }
   ],
   "source": [
    "facs_data$perc_cor = as.numeric(facs_data$perc_cor)"
   ]
  },
  {
   "cell_type": "code",
   "execution_count": 55,
   "id": "6e46e113-a2f1-4ac7-bcba-73100792e3ed",
   "metadata": {},
   "outputs": [],
   "source": [
    "facs_data$sample = str_replace(facs_data$sample, ' ', '')\n",
    "facs_data$TP = str_replace(facs_data$TP, ' ', '')"
   ]
  },
  {
   "cell_type": "code",
   "execution_count": 56,
   "id": "56c146fe-258c-4f6c-bc9e-98f17438f522",
   "metadata": {},
   "outputs": [],
   "source": [
    "facs_data$sample_id = paste0(str_replace(facs_data$sample, ' ', ''), '_', str_replace(facs_data$TP, ' ', ''))"
   ]
  },
  {
   "cell_type": "code",
   "execution_count": 57,
   "id": "4c7ef62c-03de-4b80-a4ea-8b0632efb33e",
   "metadata": {},
   "outputs": [
    {
     "data": {
      "text/html": [
       "<style>\n",
       ".list-inline {list-style: none; margin:0; padding: 0}\n",
       ".list-inline>li {display: inline-block}\n",
       ".list-inline>li:not(:last-child)::after {content: \"\\00b7\"; padding: 0 .5ex}\n",
       "</style>\n",
       "<ol class=list-inline><li>'pDCs'</li><li>'mDCs'</li><li>'HLADR+'</li><li>'CD56+d'</li><li>'CD56+b'</li><li>'CD56+'</li><li>'nonclassicalM'</li><li>'intermediateM'</li><li>'classicalM'</li><li>'CD14+'</li><li>'CD19+'</li><li>'CD8+_CD4+'</li><li>'CD8-_CD4-'</li><li>'CD8+'</li><li>'CD4+'</li><li>'CD3+'</li></ol>\n"
      ],
      "text/latex": [
       "\\begin{enumerate*}\n",
       "\\item 'pDCs'\n",
       "\\item 'mDCs'\n",
       "\\item 'HLADR+'\n",
       "\\item 'CD56+d'\n",
       "\\item 'CD56+b'\n",
       "\\item 'CD56+'\n",
       "\\item 'nonclassicalM'\n",
       "\\item 'intermediateM'\n",
       "\\item 'classicalM'\n",
       "\\item 'CD14+'\n",
       "\\item 'CD19+'\n",
       "\\item 'CD8+\\_CD4+'\n",
       "\\item 'CD8-\\_CD4-'\n",
       "\\item 'CD8+'\n",
       "\\item 'CD4+'\n",
       "\\item 'CD3+'\n",
       "\\end{enumerate*}\n"
      ],
      "text/markdown": [
       "1. 'pDCs'\n",
       "2. 'mDCs'\n",
       "3. 'HLADR+'\n",
       "4. 'CD56+d'\n",
       "5. 'CD56+b'\n",
       "6. 'CD56+'\n",
       "7. 'nonclassicalM'\n",
       "8. 'intermediateM'\n",
       "9. 'classicalM'\n",
       "10. 'CD14+'\n",
       "11. 'CD19+'\n",
       "12. 'CD8+_CD4+'\n",
       "13. 'CD8-_CD4-'\n",
       "14. 'CD8+'\n",
       "15. 'CD4+'\n",
       "16. 'CD3+'\n",
       "\n",
       "\n"
      ],
      "text/plain": [
       " [1] \"pDCs\"          \"mDCs\"          \"HLADR+\"        \"CD56+d\"       \n",
       " [5] \"CD56+b\"        \"CD56+\"         \"nonclassicalM\" \"intermediateM\"\n",
       " [9] \"classicalM\"    \"CD14+\"         \"CD19+\"         \"CD8+_CD4+\"    \n",
       "[13] \"CD8-_CD4-\"     \"CD8+\"          \"CD4+\"          \"CD3+\"         "
      ]
     },
     "metadata": {},
     "output_type": "display_data"
    }
   ],
   "source": [
    "unique(facs_data$type)"
   ]
  },
  {
   "cell_type": "code",
   "execution_count": 58,
   "id": "13895a35-75ae-4fa0-9832-e4f37624a1d7",
   "metadata": {},
   "outputs": [
    {
     "data": {
      "text/html": [
       "<table class=\"dataframe\">\n",
       "<caption>A data.frame: 7 × 6</caption>\n",
       "<thead>\n",
       "\t<tr><th></th><th scope=col>sample</th><th scope=col>TP</th><th scope=col>type</th><th scope=col>percentage</th><th scope=col>perc_cor</th><th scope=col>sample_id</th></tr>\n",
       "\t<tr><th></th><th scope=col>&lt;chr&gt;</th><th scope=col>&lt;chr&gt;</th><th scope=col>&lt;chr&gt;</th><th scope=col>&lt;chr&gt;</th><th scope=col>&lt;dbl&gt;</th><th scope=col>&lt;chr&gt;</th></tr>\n",
       "</thead>\n",
       "<tbody>\n",
       "\t<tr><th scope=row>430</th><td>M1</td><td>TP1</td><td>HLADR+   </td><td>0.0075</td><td> 0.75</td><td>M1_TP1</td></tr>\n",
       "\t<tr><th scope=row>1448</th><td>M1</td><td>TP1</td><td>CD14+    </td><td>0.0751</td><td> 7.51</td><td>M1_TP1</td></tr>\n",
       "\t<tr><th scope=row>1882</th><td>M1</td><td>TP1</td><td>CD8-_CD4-</td><td>0.0288</td><td> 2.80</td><td>M1_TP1</td></tr>\n",
       "\t<tr><th scope=row>2237</th><td>M8</td><td>TP4</td><td>CD3+     </td><td>0.552 </td><td>55.20</td><td>M8_TP4</td></tr>\n",
       "\t<tr><th scope=row>2265</th><td>M8</td><td>TP3</td><td>CD3+     </td><td>0.536 </td><td>53.60</td><td>M8_TP3</td></tr>\n",
       "\t<tr><th scope=row>2293</th><td>M8</td><td>TP2</td><td>CD3+     </td><td>0.55  </td><td>55.00</td><td>M8_TP2</td></tr>\n",
       "\t<tr><th scope=row>2321</th><td>M8</td><td>TP1</td><td>CD3+     </td><td>0.537 </td><td>53.70</td><td>M8_TP1</td></tr>\n",
       "</tbody>\n",
       "</table>\n"
      ],
      "text/latex": [
       "A data.frame: 7 × 6\n",
       "\\begin{tabular}{r|llllll}\n",
       "  & sample & TP & type & percentage & perc\\_cor & sample\\_id\\\\\n",
       "  & <chr> & <chr> & <chr> & <chr> & <dbl> & <chr>\\\\\n",
       "\\hline\n",
       "\t430 & M1 & TP1 & HLADR+    & 0.0075 &  0.75 & M1\\_TP1\\\\\n",
       "\t1448 & M1 & TP1 & CD14+     & 0.0751 &  7.51 & M1\\_TP1\\\\\n",
       "\t1882 & M1 & TP1 & CD8-\\_CD4- & 0.0288 &  2.80 & M1\\_TP1\\\\\n",
       "\t2237 & M8 & TP4 & CD3+      & 0.552  & 55.20 & M8\\_TP4\\\\\n",
       "\t2265 & M8 & TP3 & CD3+      & 0.536  & 53.60 & M8\\_TP3\\\\\n",
       "\t2293 & M8 & TP2 & CD3+      & 0.55   & 55.00 & M8\\_TP2\\\\\n",
       "\t2321 & M8 & TP1 & CD3+      & 0.537  & 53.70 & M8\\_TP1\\\\\n",
       "\\end{tabular}\n"
      ],
      "text/markdown": [
       "\n",
       "A data.frame: 7 × 6\n",
       "\n",
       "| <!--/--> | sample &lt;chr&gt; | TP &lt;chr&gt; | type &lt;chr&gt; | percentage &lt;chr&gt; | perc_cor &lt;dbl&gt; | sample_id &lt;chr&gt; |\n",
       "|---|---|---|---|---|---|---|\n",
       "| 430 | M1 | TP1 | HLADR+    | 0.0075 |  0.75 | M1_TP1 |\n",
       "| 1448 | M1 | TP1 | CD14+     | 0.0751 |  7.51 | M1_TP1 |\n",
       "| 1882 | M1 | TP1 | CD8-_CD4- | 0.0288 |  2.80 | M1_TP1 |\n",
       "| 2237 | M8 | TP4 | CD3+      | 0.552  | 55.20 | M8_TP4 |\n",
       "| 2265 | M8 | TP3 | CD3+      | 0.536  | 53.60 | M8_TP3 |\n",
       "| 2293 | M8 | TP2 | CD3+      | 0.55   | 55.00 | M8_TP2 |\n",
       "| 2321 | M8 | TP1 | CD3+      | 0.537  | 53.70 | M8_TP1 |\n",
       "\n"
      ],
      "text/plain": [
       "     sample TP  type      percentage perc_cor sample_id\n",
       "430  M1     TP1 HLADR+    0.0075      0.75    M1_TP1   \n",
       "1448 M1     TP1 CD14+     0.0751      7.51    M1_TP1   \n",
       "1882 M1     TP1 CD8-_CD4- 0.0288      2.80    M1_TP1   \n",
       "2237 M8     TP4 CD3+      0.552      55.20    M8_TP4   \n",
       "2265 M8     TP3 CD3+      0.536      53.60    M8_TP3   \n",
       "2293 M8     TP2 CD3+      0.55       55.00    M8_TP2   \n",
       "2321 M8     TP1 CD3+      0.537      53.70    M8_TP1   "
      ]
     },
     "metadata": {},
     "output_type": "display_data"
    }
   ],
   "source": [
    "facs_data[(is.na(str_extract(facs_data$percentage, '%'))) & (is.na(str_extract(facs_data$percentage, '/'))) & (facs_data$percentage != ''),]"
   ]
  },
  {
   "cell_type": "code",
   "execution_count": null,
   "id": "b4e8a056-5056-42fd-b3d1-a56545d58dbe",
   "metadata": {},
   "outputs": [],
   "source": []
  },
  {
   "cell_type": "code",
   "execution_count": 59,
   "id": "9d970261-b14c-4d0a-af37-05acc8a328f6",
   "metadata": {},
   "outputs": [],
   "source": [
    "## subdivide according to different FACS granularities\n",
    "facs_gran1 = c('CD3+', 'CD19+', 'CD14+', 'CD56+', 'HLADR+')\n",
    "facs_gran2 = c('CD4+', 'CD8+', 'CD8+_CD4+', 'CD8-_CD4-', 'CD19+', 'classicalM', 'nonclassicalM', 'intermediateM', 'CD56+d','CD56+b',  'mDCs' , 'pDCs')"
   ]
  },
  {
   "cell_type": "code",
   "execution_count": 60,
   "id": "508546e6-6179-4859-b609-cba0112e46c4",
   "metadata": {},
   "outputs": [],
   "source": [
    "facs_data_gran1 = facs_data[facs_data$type %in% facs_gran1,]\n",
    "facs_data_gran2 = facs_data[facs_data$type %in% facs_gran2,]"
   ]
  },
  {
   "cell_type": "code",
   "execution_count": 61,
   "id": "ad3038ea-64ff-4b59-800f-97e80b8aeb3f",
   "metadata": {},
   "outputs": [],
   "source": [
    "## summarise and investigate percentages per person"
   ]
  },
  {
   "cell_type": "code",
   "execution_count": 62,
   "id": "46d12f23-2006-43df-ae43-76431999d541",
   "metadata": {},
   "outputs": [
    {
     "name": "stderr",
     "output_type": "stream",
     "text": [
      "\u001b[1m\u001b[22m`summarise()` has grouped output by 'sample', 'TP'. You can override using the `.groups` argument.\n",
      "\u001b[1m\u001b[22m`summarise()` has grouped output by 'sample', 'TP'. You can override using the `.groups` argument.\n"
     ]
    }
   ],
   "source": [
    "facs_data_gran1_sum = facs_data_gran1 %>% group_by(sample, TP, sample_id) %>% summarise(sum_perc = sum(perc_cor))\n",
    "facs_data_gran2_sum = facs_data_gran2 %>% group_by(sample, TP, sample_id) %>% summarise(sum_perc_gran2 = sum(perc_cor))"
   ]
  },
  {
   "cell_type": "code",
   "execution_count": 63,
   "id": "2a4c6ce9-2ea8-4287-9281-68ab1f78600a",
   "metadata": {},
   "outputs": [
    {
     "data": {
      "text/html": [
       "<table class=\"dataframe\">\n",
       "<caption>A grouped_df: 2 × 4</caption>\n",
       "<thead>\n",
       "\t<tr><th scope=col>sample</th><th scope=col>TP</th><th scope=col>sample_id</th><th scope=col>sum_perc_gran2</th></tr>\n",
       "\t<tr><th scope=col>&lt;chr&gt;</th><th scope=col>&lt;chr&gt;</th><th scope=col>&lt;chr&gt;</th><th scope=col>&lt;dbl&gt;</th></tr>\n",
       "</thead>\n",
       "<tbody>\n",
       "\t<tr><td>K1 </td><td>TP0</td><td>K1_TP0 </td><td>  NA</td></tr>\n",
       "\t<tr><td>K10</td><td>TP0</td><td>K10_TP0</td><td>96.7</td></tr>\n",
       "</tbody>\n",
       "</table>\n"
      ],
      "text/latex": [
       "A grouped\\_df: 2 × 4\n",
       "\\begin{tabular}{llll}\n",
       " sample & TP & sample\\_id & sum\\_perc\\_gran2\\\\\n",
       " <chr> & <chr> & <chr> & <dbl>\\\\\n",
       "\\hline\n",
       "\t K1  & TP0 & K1\\_TP0  &   NA\\\\\n",
       "\t K10 & TP0 & K10\\_TP0 & 96.7\\\\\n",
       "\\end{tabular}\n"
      ],
      "text/markdown": [
       "\n",
       "A grouped_df: 2 × 4\n",
       "\n",
       "| sample &lt;chr&gt; | TP &lt;chr&gt; | sample_id &lt;chr&gt; | sum_perc_gran2 &lt;dbl&gt; |\n",
       "|---|---|---|---|\n",
       "| K1  | TP0 | K1_TP0  |   NA |\n",
       "| K10 | TP0 | K10_TP0 | 96.7 |\n",
       "\n"
      ],
      "text/plain": [
       "  sample TP  sample_id sum_perc_gran2\n",
       "1 K1     TP0 K1_TP0      NA          \n",
       "2 K10    TP0 K10_TP0   96.7          "
      ]
     },
     "metadata": {},
     "output_type": "display_data"
    }
   ],
   "source": [
    "head(facs_data_gran2_sum,2)"
   ]
  },
  {
   "cell_type": "code",
   "execution_count": 64,
   "id": "de08fcde-3686-4935-91b7-c238f273f90e",
   "metadata": {},
   "outputs": [
    {
     "data": {
      "text/html": [],
      "text/latex": [],
      "text/markdown": [],
      "text/plain": [
       "character(0)"
      ]
     },
     "metadata": {},
     "output_type": "display_data"
    }
   ],
   "source": [
    "unique(facs_data_gran2_sum$sample_id)[!unique(facs_data_gran2_sum$sample_id) %in% unique(facs_data_gran1_sum$sample_id)]"
   ]
  },
  {
   "cell_type": "code",
   "execution_count": 65,
   "id": "3812fd14-3c33-4c76-802f-ebfcd9d0e4f8",
   "metadata": {},
   "outputs": [
    {
     "data": {
      "text/html": [
       "146"
      ],
      "text/latex": [
       "146"
      ],
      "text/markdown": [
       "146"
      ],
      "text/plain": [
       "[1] 146"
      ]
     },
     "metadata": {},
     "output_type": "display_data"
    },
    {
     "data": {
      "text/html": [
       "146"
      ],
      "text/latex": [
       "146"
      ],
      "text/markdown": [
       "146"
      ],
      "text/plain": [
       "[1] 146"
      ]
     },
     "metadata": {},
     "output_type": "display_data"
    }
   ],
   "source": [
    "nrow(facs_data_gran1_sum)\n",
    "nrow(facs_data_gran2_sum)"
   ]
  },
  {
   "cell_type": "code",
   "execution_count": 66,
   "id": "0d10457a-715d-4dc2-8a39-97a5dbf0ab3a",
   "metadata": {},
   "outputs": [],
   "source": [
    "#facs_data[facs_data$sample == 'M26',]"
   ]
  },
  {
   "cell_type": "code",
   "execution_count": 67,
   "id": "83e64ff2-d48a-4c94-9f6d-e90f10326b61",
   "metadata": {},
   "outputs": [],
   "source": [
    "facs_data_sum = merge(facs_data_gran1_sum, facs_data_gran2_sum, all.x = TRUE)"
   ]
  },
  {
   "cell_type": "code",
   "execution_count": 68,
   "id": "d042fb00-d2ea-432c-ab98-2547d2a8ca0a",
   "metadata": {},
   "outputs": [
    {
     "data": {
      "text/html": [
       "<table class=\"dataframe\">\n",
       "<caption>A data.frame: 2 × 5</caption>\n",
       "<thead>\n",
       "\t<tr><th></th><th scope=col>sample</th><th scope=col>TP</th><th scope=col>sample_id</th><th scope=col>sum_perc</th><th scope=col>sum_perc_gran2</th></tr>\n",
       "\t<tr><th></th><th scope=col>&lt;chr&gt;</th><th scope=col>&lt;chr&gt;</th><th scope=col>&lt;chr&gt;</th><th scope=col>&lt;dbl&gt;</th><th scope=col>&lt;dbl&gt;</th></tr>\n",
       "</thead>\n",
       "<tbody>\n",
       "\t<tr><th scope=row>1</th><td>K1 </td><td>TP0</td><td>K1_TP0 </td><td>   NA</td><td>  NA</td></tr>\n",
       "\t<tr><th scope=row>2</th><td>K10</td><td>TP0</td><td>K10_TP0</td><td>96.91</td><td>96.7</td></tr>\n",
       "</tbody>\n",
       "</table>\n"
      ],
      "text/latex": [
       "A data.frame: 2 × 5\n",
       "\\begin{tabular}{r|lllll}\n",
       "  & sample & TP & sample\\_id & sum\\_perc & sum\\_perc\\_gran2\\\\\n",
       "  & <chr> & <chr> & <chr> & <dbl> & <dbl>\\\\\n",
       "\\hline\n",
       "\t1 & K1  & TP0 & K1\\_TP0  &    NA &   NA\\\\\n",
       "\t2 & K10 & TP0 & K10\\_TP0 & 96.91 & 96.7\\\\\n",
       "\\end{tabular}\n"
      ],
      "text/markdown": [
       "\n",
       "A data.frame: 2 × 5\n",
       "\n",
       "| <!--/--> | sample &lt;chr&gt; | TP &lt;chr&gt; | sample_id &lt;chr&gt; | sum_perc &lt;dbl&gt; | sum_perc_gran2 &lt;dbl&gt; |\n",
       "|---|---|---|---|---|---|\n",
       "| 1 | K1  | TP0 | K1_TP0  |    NA |   NA |\n",
       "| 2 | K10 | TP0 | K10_TP0 | 96.91 | 96.7 |\n",
       "\n"
      ],
      "text/plain": [
       "  sample TP  sample_id sum_perc sum_perc_gran2\n",
       "1 K1     TP0 K1_TP0       NA      NA          \n",
       "2 K10    TP0 K10_TP0   96.91    96.7          "
      ]
     },
     "metadata": {},
     "output_type": "display_data"
    }
   ],
   "source": [
    "head(facs_data_sum,2)"
   ]
  },
  {
   "cell_type": "code",
   "execution_count": 69,
   "id": "b7059e13-2a54-4ac9-9a46-fce1c658a344",
   "metadata": {},
   "outputs": [],
   "source": [
    "#facs_data_sum[is.na(facs_data_sum$sum_perc_gran2),]   # samples for which no data was measured\n",
    "remove_samples = facs_data_sum$sample_id[is.na(facs_data_sum$sum_perc_gran2)]"
   ]
  },
  {
   "cell_type": "code",
   "execution_count": 70,
   "id": "42564f1d-b138-4454-8f3b-ca11abdbfea3",
   "metadata": {},
   "outputs": [],
   "source": [
    "## remove:\n",
    "facs_data_sum = facs_data_sum[! (facs_data_sum$sample_id %in% remove_samples),]\n",
    "facs_data_gran1 = facs_data_gran1[! (facs_data_gran1$sample_id %in% remove_samples),]\n",
    "facs_data_gran2 = facs_data_gran2[! (facs_data_gran2$sample_id %in% remove_samples),]"
   ]
  },
  {
   "cell_type": "code",
   "execution_count": 71,
   "id": "16cb07e6-7008-4878-9f77-fbadeda3694e",
   "metadata": {},
   "outputs": [
    {
     "data": {
      "text/html": [
       "<table class=\"dataframe\">\n",
       "<caption>A data.frame: 2 × 5</caption>\n",
       "<thead>\n",
       "\t<tr><th></th><th scope=col>sample</th><th scope=col>TP</th><th scope=col>sample_id</th><th scope=col>sum_perc</th><th scope=col>sum_perc_gran2</th></tr>\n",
       "\t<tr><th></th><th scope=col>&lt;chr&gt;</th><th scope=col>&lt;chr&gt;</th><th scope=col>&lt;chr&gt;</th><th scope=col>&lt;dbl&gt;</th><th scope=col>&lt;dbl&gt;</th></tr>\n",
       "</thead>\n",
       "<tbody>\n",
       "\t<tr><th scope=row>2</th><td>K10</td><td>TP0</td><td>K10_TP0</td><td>96.91</td><td>96.700</td></tr>\n",
       "\t<tr><th scope=row>3</th><td>K11</td><td>TP0</td><td>K11_TP0</td><td>95.00</td><td>94.877</td></tr>\n",
       "</tbody>\n",
       "</table>\n"
      ],
      "text/latex": [
       "A data.frame: 2 × 5\n",
       "\\begin{tabular}{r|lllll}\n",
       "  & sample & TP & sample\\_id & sum\\_perc & sum\\_perc\\_gran2\\\\\n",
       "  & <chr> & <chr> & <chr> & <dbl> & <dbl>\\\\\n",
       "\\hline\n",
       "\t2 & K10 & TP0 & K10\\_TP0 & 96.91 & 96.700\\\\\n",
       "\t3 & K11 & TP0 & K11\\_TP0 & 95.00 & 94.877\\\\\n",
       "\\end{tabular}\n"
      ],
      "text/markdown": [
       "\n",
       "A data.frame: 2 × 5\n",
       "\n",
       "| <!--/--> | sample &lt;chr&gt; | TP &lt;chr&gt; | sample_id &lt;chr&gt; | sum_perc &lt;dbl&gt; | sum_perc_gran2 &lt;dbl&gt; |\n",
       "|---|---|---|---|---|---|\n",
       "| 2 | K10 | TP0 | K10_TP0 | 96.91 | 96.700 |\n",
       "| 3 | K11 | TP0 | K11_TP0 | 95.00 | 94.877 |\n",
       "\n"
      ],
      "text/plain": [
       "  sample TP  sample_id sum_perc sum_perc_gran2\n",
       "2 K10    TP0 K10_TP0   96.91    96.700        \n",
       "3 K11    TP0 K11_TP0   95.00    94.877        "
      ]
     },
     "metadata": {},
     "output_type": "display_data"
    }
   ],
   "source": [
    "### check out facs_data_sum\n",
    "head(facs_data_sum,2)"
   ]
  },
  {
   "cell_type": "code",
   "execution_count": 72,
   "id": "eeee6e39-3367-4179-877c-933bfd380fcf",
   "metadata": {},
   "outputs": [
    {
     "data": {
      "text/html": [
       "122"
      ],
      "text/latex": [
       "122"
      ],
      "text/markdown": [
       "122"
      ],
      "text/plain": [
       "[1] 122"
      ]
     },
     "metadata": {},
     "output_type": "display_data"
    }
   ],
   "source": [
    "length(unique(facs_data_sum$sample_id))"
   ]
  },
  {
   "cell_type": "code",
   "execution_count": 73,
   "id": "7b413a3e-2952-4e64-8019-dbdb4e483c67",
   "metadata": {},
   "outputs": [],
   "source": [
    "## check and visualized diff\n",
    "facs_data_sum_plot1 = facs_data_sum\n",
    "facs_data_sum_plot1$diff = facs_data_sum_plot1$sum_perc - facs_data_sum_plot1$sum_perc_gran2"
   ]
  },
  {
   "cell_type": "code",
   "execution_count": 74,
   "id": "7ed5cf77-6be5-4564-8f55-4decc81d0f6e",
   "metadata": {},
   "outputs": [
    {
     "data": {
      "image/png": "[encoded data removed]",
      "text/plain": [
       "plot without title"
      ]
     },
     "metadata": {
      "image/png": {
       "height": 600,
       "width": 1800
      }
     },
     "output_type": "display_data"
    }
   ],
   "source": [
    "options(repr.plot.width=30, repr.plot.height=10)\n",
    "ggplot(facs_data_sum_plot1, aes( y=diff, x= sample_id)) + \n",
    "    geom_bar(position=\"dodge\", stat=\"identity\") + theme(axis.text.x = element_text(angle = 90, size = 15))"
   ]
  },
  {
   "cell_type": "code",
   "execution_count": 75,
   "id": "ae4dc20e-7372-4595-8102-9590d6857565",
   "metadata": {},
   "outputs": [
    {
     "data": {
      "text/html": [
       "<table class=\"dataframe\">\n",
       "<caption>A data.frame: 4 × 6</caption>\n",
       "<thead>\n",
       "\t<tr><th></th><th scope=col>sample</th><th scope=col>TP</th><th scope=col>sample_id</th><th scope=col>sum_perc</th><th scope=col>sum_perc_gran2</th><th scope=col>diff</th></tr>\n",
       "\t<tr><th></th><th scope=col>&lt;chr&gt;</th><th scope=col>&lt;chr&gt;</th><th scope=col>&lt;chr&gt;</th><th scope=col>&lt;dbl&gt;</th><th scope=col>&lt;dbl&gt;</th><th scope=col>&lt;dbl&gt;</th></tr>\n",
       "</thead>\n",
       "<tbody>\n",
       "\t<tr><th scope=row>2</th><td>K10</td><td>TP0</td><td>K10_TP0</td><td>96.91</td><td>96.700</td><td>0.210</td></tr>\n",
       "\t<tr><th scope=row>3</th><td>K11</td><td>TP0</td><td>K11_TP0</td><td>95.00</td><td>94.877</td><td>0.123</td></tr>\n",
       "\t<tr><th scope=row>4</th><td>K12</td><td>TP0</td><td>K12_TP0</td><td>87.70</td><td>87.530</td><td>0.170</td></tr>\n",
       "\t<tr><th scope=row>5</th><td>K13</td><td>TP0</td><td>K13_TP0</td><td>95.09</td><td>94.780</td><td>0.310</td></tr>\n",
       "</tbody>\n",
       "</table>\n"
      ],
      "text/latex": [
       "A data.frame: 4 × 6\n",
       "\\begin{tabular}{r|llllll}\n",
       "  & sample & TP & sample\\_id & sum\\_perc & sum\\_perc\\_gran2 & diff\\\\\n",
       "  & <chr> & <chr> & <chr> & <dbl> & <dbl> & <dbl>\\\\\n",
       "\\hline\n",
       "\t2 & K10 & TP0 & K10\\_TP0 & 96.91 & 96.700 & 0.210\\\\\n",
       "\t3 & K11 & TP0 & K11\\_TP0 & 95.00 & 94.877 & 0.123\\\\\n",
       "\t4 & K12 & TP0 & K12\\_TP0 & 87.70 & 87.530 & 0.170\\\\\n",
       "\t5 & K13 & TP0 & K13\\_TP0 & 95.09 & 94.780 & 0.310\\\\\n",
       "\\end{tabular}\n"
      ],
      "text/markdown": [
       "\n",
       "A data.frame: 4 × 6\n",
       "\n",
       "| <!--/--> | sample &lt;chr&gt; | TP &lt;chr&gt; | sample_id &lt;chr&gt; | sum_perc &lt;dbl&gt; | sum_perc_gran2 &lt;dbl&gt; | diff &lt;dbl&gt; |\n",
       "|---|---|---|---|---|---|---|\n",
       "| 2 | K10 | TP0 | K10_TP0 | 96.91 | 96.700 | 0.210 |\n",
       "| 3 | K11 | TP0 | K11_TP0 | 95.00 | 94.877 | 0.123 |\n",
       "| 4 | K12 | TP0 | K12_TP0 | 87.70 | 87.530 | 0.170 |\n",
       "| 5 | K13 | TP0 | K13_TP0 | 95.09 | 94.780 | 0.310 |\n",
       "\n"
      ],
      "text/plain": [
       "  sample TP  sample_id sum_perc sum_perc_gran2 diff \n",
       "2 K10    TP0 K10_TP0   96.91    96.700         0.210\n",
       "3 K11    TP0 K11_TP0   95.00    94.877         0.123\n",
       "4 K12    TP0 K12_TP0   87.70    87.530         0.170\n",
       "5 K13    TP0 K13_TP0   95.09    94.780         0.310"
      ]
     },
     "metadata": {},
     "output_type": "display_data"
    }
   ],
   "source": [
    "head(facs_data_sum_plot1,4)"
   ]
  },
  {
   "cell_type": "code",
   "execution_count": 76,
   "id": "d55af7c6-8330-4c79-9e68-051709788b53",
   "metadata": {},
   "outputs": [],
   "source": [
    "### Prepare mapping NA cell amount"
   ]
  },
  {
   "cell_type": "code",
   "execution_count": 77,
   "id": "f3615788-100d-4197-915a-33f7fc5e02d0",
   "metadata": {},
   "outputs": [],
   "source": [
    "facs_data_sum$NA_cat_gran1 = 100 - facs_data_sum$sum_perc\n",
    "facs_data_sum$NA_cat_gran2 = 100 - facs_data_sum$sum_perc_gran2"
   ]
  },
  {
   "cell_type": "code",
   "execution_count": 78,
   "id": "4308f092-5c81-4fee-8130-89a54eaa5b2b",
   "metadata": {},
   "outputs": [
    {
     "data": {
      "text/html": [
       "<table class=\"dataframe\">\n",
       "<caption>A data.frame: 2 × 7</caption>\n",
       "<thead>\n",
       "\t<tr><th></th><th scope=col>sample</th><th scope=col>TP</th><th scope=col>sample_id</th><th scope=col>sum_perc</th><th scope=col>sum_perc_gran2</th><th scope=col>NA_cat_gran1</th><th scope=col>NA_cat_gran2</th></tr>\n",
       "\t<tr><th></th><th scope=col>&lt;chr&gt;</th><th scope=col>&lt;chr&gt;</th><th scope=col>&lt;chr&gt;</th><th scope=col>&lt;dbl&gt;</th><th scope=col>&lt;dbl&gt;</th><th scope=col>&lt;dbl&gt;</th><th scope=col>&lt;dbl&gt;</th></tr>\n",
       "</thead>\n",
       "<tbody>\n",
       "\t<tr><th scope=row>2</th><td>K10</td><td>TP0</td><td>K10_TP0</td><td>96.91</td><td>96.700</td><td>3.09</td><td>3.300</td></tr>\n",
       "\t<tr><th scope=row>3</th><td>K11</td><td>TP0</td><td>K11_TP0</td><td>95.00</td><td>94.877</td><td>5.00</td><td>5.123</td></tr>\n",
       "</tbody>\n",
       "</table>\n"
      ],
      "text/latex": [
       "A data.frame: 2 × 7\n",
       "\\begin{tabular}{r|lllllll}\n",
       "  & sample & TP & sample\\_id & sum\\_perc & sum\\_perc\\_gran2 & NA\\_cat\\_gran1 & NA\\_cat\\_gran2\\\\\n",
       "  & <chr> & <chr> & <chr> & <dbl> & <dbl> & <dbl> & <dbl>\\\\\n",
       "\\hline\n",
       "\t2 & K10 & TP0 & K10\\_TP0 & 96.91 & 96.700 & 3.09 & 3.300\\\\\n",
       "\t3 & K11 & TP0 & K11\\_TP0 & 95.00 & 94.877 & 5.00 & 5.123\\\\\n",
       "\\end{tabular}\n"
      ],
      "text/markdown": [
       "\n",
       "A data.frame: 2 × 7\n",
       "\n",
       "| <!--/--> | sample &lt;chr&gt; | TP &lt;chr&gt; | sample_id &lt;chr&gt; | sum_perc &lt;dbl&gt; | sum_perc_gran2 &lt;dbl&gt; | NA_cat_gran1 &lt;dbl&gt; | NA_cat_gran2 &lt;dbl&gt; |\n",
       "|---|---|---|---|---|---|---|---|\n",
       "| 2 | K10 | TP0 | K10_TP0 | 96.91 | 96.700 | 3.09 | 3.300 |\n",
       "| 3 | K11 | TP0 | K11_TP0 | 95.00 | 94.877 | 5.00 | 5.123 |\n",
       "\n"
      ],
      "text/plain": [
       "  sample TP  sample_id sum_perc sum_perc_gran2 NA_cat_gran1 NA_cat_gran2\n",
       "2 K10    TP0 K10_TP0   96.91    96.700         3.09         3.300       \n",
       "3 K11    TP0 K11_TP0   95.00    94.877         5.00         5.123       "
      ]
     },
     "metadata": {},
     "output_type": "display_data"
    }
   ],
   "source": [
    "head(facs_data_sum,2)"
   ]
  },
  {
   "cell_type": "code",
   "execution_count": 79,
   "id": "8b265f10-97f0-407d-83af-5691d6caa857",
   "metadata": {},
   "outputs": [],
   "source": [
    "facs_data_sum_add1 =  facs_data_sum[,c('sample', 'TP', 'sample_id', 'NA_cat_gran1')]\n",
    "colnames(facs_data_sum_add1) = c('sample', 'TP', 'sample_id', 'percentage')\n",
    "facs_data_sum_add1$perc_cor = facs_data_sum_add1$percentage\n",
    "facs_data_sum_add1$type = 'NA_assigned'\n",
    "\n",
    "facs_data_sum_add2 =  facs_data_sum[,c('sample', 'TP', 'sample_id', 'NA_cat_gran2')]\n",
    "colnames(facs_data_sum_add2) = c('sample', 'TP', 'sample_id', 'percentage')\n",
    "facs_data_sum_add2$perc_cor = facs_data_sum_add2$percentage\n",
    "facs_data_sum_add2$type = 'NA_assigned'"
   ]
  },
  {
   "cell_type": "code",
   "execution_count": 80,
   "id": "6f722a73-bc2d-481f-8a44-dca8eb89e2e5",
   "metadata": {},
   "outputs": [
    {
     "data": {
      "text/html": [
       "<table class=\"dataframe\">\n",
       "<caption>A data.frame: 2 × 6</caption>\n",
       "<thead>\n",
       "\t<tr><th></th><th scope=col>sample</th><th scope=col>TP</th><th scope=col>sample_id</th><th scope=col>percentage</th><th scope=col>perc_cor</th><th scope=col>type</th></tr>\n",
       "\t<tr><th></th><th scope=col>&lt;chr&gt;</th><th scope=col>&lt;chr&gt;</th><th scope=col>&lt;chr&gt;</th><th scope=col>&lt;dbl&gt;</th><th scope=col>&lt;dbl&gt;</th><th scope=col>&lt;chr&gt;</th></tr>\n",
       "</thead>\n",
       "<tbody>\n",
       "\t<tr><th scope=row>2</th><td>K10</td><td>TP0</td><td>K10_TP0</td><td>3.09</td><td>3.09</td><td>NA_assigned</td></tr>\n",
       "\t<tr><th scope=row>3</th><td>K11</td><td>TP0</td><td>K11_TP0</td><td>5.00</td><td>5.00</td><td>NA_assigned</td></tr>\n",
       "</tbody>\n",
       "</table>\n"
      ],
      "text/latex": [
       "A data.frame: 2 × 6\n",
       "\\begin{tabular}{r|llllll}\n",
       "  & sample & TP & sample\\_id & percentage & perc\\_cor & type\\\\\n",
       "  & <chr> & <chr> & <chr> & <dbl> & <dbl> & <chr>\\\\\n",
       "\\hline\n",
       "\t2 & K10 & TP0 & K10\\_TP0 & 3.09 & 3.09 & NA\\_assigned\\\\\n",
       "\t3 & K11 & TP0 & K11\\_TP0 & 5.00 & 5.00 & NA\\_assigned\\\\\n",
       "\\end{tabular}\n"
      ],
      "text/markdown": [
       "\n",
       "A data.frame: 2 × 6\n",
       "\n",
       "| <!--/--> | sample &lt;chr&gt; | TP &lt;chr&gt; | sample_id &lt;chr&gt; | percentage &lt;dbl&gt; | perc_cor &lt;dbl&gt; | type &lt;chr&gt; |\n",
       "|---|---|---|---|---|---|---|\n",
       "| 2 | K10 | TP0 | K10_TP0 | 3.09 | 3.09 | NA_assigned |\n",
       "| 3 | K11 | TP0 | K11_TP0 | 5.00 | 5.00 | NA_assigned |\n",
       "\n"
      ],
      "text/plain": [
       "  sample TP  sample_id percentage perc_cor type       \n",
       "2 K10    TP0 K10_TP0   3.09       3.09     NA_assigned\n",
       "3 K11    TP0 K11_TP0   5.00       5.00     NA_assigned"
      ]
     },
     "metadata": {},
     "output_type": "display_data"
    }
   ],
   "source": [
    "head(facs_data_sum_add1,2)"
   ]
  },
  {
   "cell_type": "code",
   "execution_count": 81,
   "id": "5ddcb940-290f-47cc-b037-d22d4a4dfa6f",
   "metadata": {},
   "outputs": [
    {
     "data": {
      "text/html": [
       "<table class=\"dataframe\">\n",
       "<caption>A data.frame: 2 × 6</caption>\n",
       "<thead>\n",
       "\t<tr><th></th><th scope=col>sample</th><th scope=col>TP</th><th scope=col>type</th><th scope=col>percentage</th><th scope=col>perc_cor</th><th scope=col>sample_id</th></tr>\n",
       "\t<tr><th></th><th scope=col>&lt;chr&gt;</th><th scope=col>&lt;chr&gt;</th><th scope=col>&lt;chr&gt;</th><th scope=col>&lt;chr&gt;</th><th scope=col>&lt;dbl&gt;</th><th scope=col>&lt;chr&gt;</th></tr>\n",
       "</thead>\n",
       "<tbody>\n",
       "\t<tr><th scope=row>293</th><td>K2</td><td>TP0</td><td>HLADR+</td><td>0,97 %</td><td>0.97</td><td>K2_TP0</td></tr>\n",
       "\t<tr><th scope=row>294</th><td>K4</td><td>TP0</td><td>HLADR+</td><td>3,38 %</td><td>3.38</td><td>K4_TP0</td></tr>\n",
       "</tbody>\n",
       "</table>\n"
      ],
      "text/latex": [
       "A data.frame: 2 × 6\n",
       "\\begin{tabular}{r|llllll}\n",
       "  & sample & TP & type & percentage & perc\\_cor & sample\\_id\\\\\n",
       "  & <chr> & <chr> & <chr> & <chr> & <dbl> & <chr>\\\\\n",
       "\\hline\n",
       "\t293 & K2 & TP0 & HLADR+ & 0,97 \\% & 0.97 & K2\\_TP0\\\\\n",
       "\t294 & K4 & TP0 & HLADR+ & 3,38 \\% & 3.38 & K4\\_TP0\\\\\n",
       "\\end{tabular}\n"
      ],
      "text/markdown": [
       "\n",
       "A data.frame: 2 × 6\n",
       "\n",
       "| <!--/--> | sample &lt;chr&gt; | TP &lt;chr&gt; | type &lt;chr&gt; | percentage &lt;chr&gt; | perc_cor &lt;dbl&gt; | sample_id &lt;chr&gt; |\n",
       "|---|---|---|---|---|---|---|\n",
       "| 293 | K2 | TP0 | HLADR+ | 0,97 % | 0.97 | K2_TP0 |\n",
       "| 294 | K4 | TP0 | HLADR+ | 3,38 % | 3.38 | K4_TP0 |\n",
       "\n"
      ],
      "text/plain": [
       "    sample TP  type   percentage perc_cor sample_id\n",
       "293 K2     TP0 HLADR+ 0,97 %     0.97     K2_TP0   \n",
       "294 K4     TP0 HLADR+ 3,38 %     3.38     K4_TP0   "
      ]
     },
     "metadata": {},
     "output_type": "display_data"
    }
   ],
   "source": [
    "head(facs_data_gran1,2)\n",
    "facs_data_gran1 = rbind(facs_data_gran1, facs_data_sum_add1)\n",
    "facs_data_gran2 = rbind( facs_data_gran2, facs_data_sum_add2)"
   ]
  },
  {
   "cell_type": "code",
   "execution_count": 82,
   "id": "bca00e67-6fdc-4417-8f7f-28d8078b5b0d",
   "metadata": {},
   "outputs": [],
   "source": [
    "### check\n",
    "#facs_data_gran1 %>% group_by(sample_id) %>% summarise(sum_perc = sum(perc_cor))\n",
    "#facs_data_gran2 %>% group_by(sample_id) %>% summarise(sum_perc = sum(perc_cor))"
   ]
  },
  {
   "cell_type": "code",
   "execution_count": null,
   "id": "1f6f7a5c-7a94-48a8-bcd0-88fa4fe4e72e",
   "metadata": {},
   "outputs": [],
   "source": []
  },
  {
   "cell_type": "markdown",
   "id": "5dcea366-86c4-4b83-b6f0-10eefb27e8a0",
   "metadata": {
    "tags": []
   },
   "source": [
    "# Data Adaptions"
   ]
  },
  {
   "cell_type": "code",
   "execution_count": 83,
   "id": "5423b7c9-e150-4b87-9437-520e2d24384d",
   "metadata": {},
   "outputs": [],
   "source": [
    "### Generate new columns"
   ]
  },
  {
   "cell_type": "code",
   "execution_count": 84,
   "id": "f6f3ca19-a0bc-4874-9f86-48ed524ef788",
   "metadata": {},
   "outputs": [],
   "source": [
    "for (i in variants){\n",
    "    data_for_analysis_list[[i]]$classification_measurement = paste(data_for_analysis_list[[i]]$classification, '_',  data_for_analysis_list[[i]]$measurement_y, sep = '')\n",
    "    }"
   ]
  },
  {
   "cell_type": "markdown",
   "id": "34c60999-66bc-45d3-9dc3-cc6b435e9554",
   "metadata": {
    "tags": []
   },
   "source": [
    "# Analyze Samples"
   ]
  },
  {
   "cell_type": "code",
   "execution_count": 85,
   "id": "2618fe70-d63c-4539-8600-022bbaf8572c",
   "metadata": {},
   "outputs": [
    {
     "data": {
      "text/html": [
       "<table class=\"dataframe\">\n",
       "<caption>A data.frame: 2 × 80</caption>\n",
       "<thead>\n",
       "\t<tr><th></th><th scope=col>cell_type</th><th scope=col>X</th><th scope=col>nCount_HTO</th><th scope=col>nFeature_HTO</th><th scope=col>nCount_RNA</th><th scope=col>nFeature_RNA</th><th scope=col>percent_mt</th><th scope=col>HTO_maxID</th><th scope=col>HTO_secondID</th><th scope=col>HTO_margin</th><th scope=col>⋯</th><th scope=col>sample_y</th><th scope=col>cell_type_concat..</th><th scope=col>cluster_cell_type_concat..</th><th scope=col>B2_Scanorama_Singlet_cluster</th><th scope=col>B2_Scanorama_Singlet_rb_mt_cluster</th><th scope=col>cell_type_Scanorama</th><th scope=col>cluster_cell_type_Scanorama</th><th scope=col>Cat1</th><th scope=col>Cat2</th><th scope=col>Cat3</th></tr>\n",
       "\t<tr><th></th><th scope=col>&lt;chr&gt;</th><th scope=col>&lt;chr&gt;</th><th scope=col>&lt;dbl&gt;</th><th scope=col>&lt;int&gt;</th><th scope=col>&lt;dbl&gt;</th><th scope=col>&lt;int&gt;</th><th scope=col>&lt;dbl&gt;</th><th scope=col>&lt;chr&gt;</th><th scope=col>&lt;chr&gt;</th><th scope=col>&lt;dbl&gt;</th><th scope=col>⋯</th><th scope=col>&lt;dbl&gt;</th><th scope=col>&lt;chr&gt;</th><th scope=col>&lt;chr&gt;</th><th scope=col>&lt;int&gt;</th><th scope=col>&lt;int&gt;</th><th scope=col>&lt;chr&gt;</th><th scope=col>&lt;chr&gt;</th><th scope=col>&lt;chr&gt;</th><th scope=col>&lt;chr&gt;</th><th scope=col>&lt;chr&gt;</th></tr>\n",
       "</thead>\n",
       "<tbody>\n",
       "\t<tr><th scope=row>1</th><td>B-cell</td><td>TGTACAGCAACGATTC-1-L2</td><td>1509</td><td>8</td><td>3183</td><td> 988</td><td>4.241282</td><td>16.1</td><td>17.1</td><td>1.961109</td><td>⋯</td><td>16.1</td><td>B-cell</td><td>6_B-cell</td><td>8</td><td>8</td><td>B-cell</td><td>8_B-cell</td><td>Lymphocytes</td><td>B-Cell</td><td>B-cell</td></tr>\n",
       "\t<tr><th scope=row>2</th><td>B-cell</td><td>TATACCTGTTCGTACA-1-L7</td><td> 787</td><td>9</td><td>3967</td><td>1513</td><td>5.747416</td><td>2.3 </td><td>5.3 </td><td>2.348906</td><td>⋯</td><td> 2.3</td><td>B-cell</td><td>6_B-cell</td><td>8</td><td>8</td><td>B-cell</td><td>8_B-cell</td><td>Lymphocytes</td><td>B-Cell</td><td>B-cell</td></tr>\n",
       "</tbody>\n",
       "</table>\n"
      ],
      "text/latex": [
       "A data.frame: 2 × 80\n",
       "\\begin{tabular}{r|lllllllllllllllllllll}\n",
       "  & cell\\_type & X & nCount\\_HTO & nFeature\\_HTO & nCount\\_RNA & nFeature\\_RNA & percent\\_mt & HTO\\_maxID & HTO\\_secondID & HTO\\_margin & ⋯ & sample\\_y & cell\\_type\\_concat.. & cluster\\_cell\\_type\\_concat.. & B2\\_Scanorama\\_Singlet\\_cluster & B2\\_Scanorama\\_Singlet\\_rb\\_mt\\_cluster & cell\\_type\\_Scanorama & cluster\\_cell\\_type\\_Scanorama & Cat1 & Cat2 & Cat3\\\\\n",
       "  & <chr> & <chr> & <dbl> & <int> & <dbl> & <int> & <dbl> & <chr> & <chr> & <dbl> & ⋯ & <dbl> & <chr> & <chr> & <int> & <int> & <chr> & <chr> & <chr> & <chr> & <chr>\\\\\n",
       "\\hline\n",
       "\t1 & B-cell & TGTACAGCAACGATTC-1-L2 & 1509 & 8 & 3183 &  988 & 4.241282 & 16.1 & 17.1 & 1.961109 & ⋯ & 16.1 & B-cell & 6\\_B-cell & 8 & 8 & B-cell & 8\\_B-cell & Lymphocytes & B-Cell & B-cell\\\\\n",
       "\t2 & B-cell & TATACCTGTTCGTACA-1-L7 &  787 & 9 & 3967 & 1513 & 5.747416 & 2.3  & 5.3  & 2.348906 & ⋯ &  2.3 & B-cell & 6\\_B-cell & 8 & 8 & B-cell & 8\\_B-cell & Lymphocytes & B-Cell & B-cell\\\\\n",
       "\\end{tabular}\n"
      ],
      "text/markdown": [
       "\n",
       "A data.frame: 2 × 80\n",
       "\n",
       "| <!--/--> | cell_type &lt;chr&gt; | X &lt;chr&gt; | nCount_HTO &lt;dbl&gt; | nFeature_HTO &lt;int&gt; | nCount_RNA &lt;dbl&gt; | nFeature_RNA &lt;int&gt; | percent_mt &lt;dbl&gt; | HTO_maxID &lt;chr&gt; | HTO_secondID &lt;chr&gt; | HTO_margin &lt;dbl&gt; | ⋯ ⋯ | sample_y &lt;dbl&gt; | cell_type_concat.. &lt;chr&gt; | cluster_cell_type_concat.. &lt;chr&gt; | B2_Scanorama_Singlet_cluster &lt;int&gt; | B2_Scanorama_Singlet_rb_mt_cluster &lt;int&gt; | cell_type_Scanorama &lt;chr&gt; | cluster_cell_type_Scanorama &lt;chr&gt; | Cat1 &lt;chr&gt; | Cat2 &lt;chr&gt; | Cat3 &lt;chr&gt; |\n",
       "|---|---|---|---|---|---|---|---|---|---|---|---|---|---|---|---|---|---|---|---|---|---|\n",
       "| 1 | B-cell | TGTACAGCAACGATTC-1-L2 | 1509 | 8 | 3183 |  988 | 4.241282 | 16.1 | 17.1 | 1.961109 | ⋯ | 16.1 | B-cell | 6_B-cell | 8 | 8 | B-cell | 8_B-cell | Lymphocytes | B-Cell | B-cell |\n",
       "| 2 | B-cell | TATACCTGTTCGTACA-1-L7 |  787 | 9 | 3967 | 1513 | 5.747416 | 2.3  | 5.3  | 2.348906 | ⋯ |  2.3 | B-cell | 6_B-cell | 8 | 8 | B-cell | 8_B-cell | Lymphocytes | B-Cell | B-cell |\n",
       "\n"
      ],
      "text/plain": [
       "  cell_type X                     nCount_HTO nFeature_HTO nCount_RNA\n",
       "1 B-cell    TGTACAGCAACGATTC-1-L2 1509       8            3183      \n",
       "2 B-cell    TATACCTGTTCGTACA-1-L7  787       9            3967      \n",
       "  nFeature_RNA percent_mt HTO_maxID HTO_secondID HTO_margin ⋯ sample_y\n",
       "1  988         4.241282   16.1      17.1         1.961109   ⋯ 16.1    \n",
       "2 1513         5.747416   2.3       5.3          2.348906   ⋯  2.3    \n",
       "  cell_type_concat.. cluster_cell_type_concat.. B2_Scanorama_Singlet_cluster\n",
       "1 B-cell             6_B-cell                   8                           \n",
       "2 B-cell             6_B-cell                   8                           \n",
       "  B2_Scanorama_Singlet_rb_mt_cluster cell_type_Scanorama\n",
       "1 8                                  B-cell             \n",
       "2 8                                  B-cell             \n",
       "  cluster_cell_type_Scanorama Cat1        Cat2   Cat3  \n",
       "1 8_B-cell                    Lymphocytes B-Cell B-cell\n",
       "2 8_B-cell                    Lymphocytes B-Cell B-cell"
      ]
     },
     "metadata": {},
     "output_type": "display_data"
    }
   ],
   "source": [
    "head(data_for_analysis,2)"
   ]
  },
  {
   "cell_type": "code",
   "execution_count": 86,
   "id": "5e4e251a-dc9c-44d6-8ae8-fa2f9159bc2f",
   "metadata": {},
   "outputs": [
    {
     "data": {
      "text/html": [
       "<style>\n",
       ".list-inline {list-style: none; margin:0; padding: 0}\n",
       ".list-inline>li {display: inline-block}\n",
       ".list-inline>li:not(:last-child)::after {content: \"\\00b7\"; padding: 0 .5ex}\n",
       "</style>\n",
       "<ol class=list-inline><li>'cell_type'</li><li>'X'</li><li>'nCount_HTO'</li><li>'nFeature_HTO'</li><li>'nCount_RNA'</li><li>'nFeature_RNA'</li><li>'percent_mt'</li><li>'HTO_maxID'</li><li>'HTO_secondID'</li><li>'HTO_margin'</li><li>'HTO_classification'</li><li>'HTO_classification.global'</li><li>'hash.ID'</li><li>'HTO_classification_final'</li><li>'name'</li><li>'library'</li><li>'id'</li><li>'read'</li><li>'pattern'</li><li>'sequence'</li><li>'feature_type'</li><li>'Unnamed..7'</li><li>'in_sample'</li><li>'display_name'</li><li>'group_x'</li><li>'HTO_Doublet_Classification'</li><li>'doublet_score'</li><li>'predicted_doublet'</li><li>'A5_scrublet_predicted_doublet_lib0.1'</li><li>'A5_scrublet_doublet_score_lib_0.1'</li><li>'A5_scrublet_predicted_doublet_lib0.2'</li><li>'A5_scrublet_doublet_score_lib_0.2'</li><li>'A5_scrublet_predicted_doublet_lib'</li><li>'A5_scrublet_doublet_score_lib'</li><li>'n_genes'</li><li>'n_genes_by_counts'</li><li>'total_counts'</li><li>'total_counts_mt'</li><li>'pct_counts_mt'</li><li>'valid_cell_filter_dying'</li><li>'valid_cell_filter_doublet'</li><li>'A7_PCA_50_10_neighbors_cluster'</li><li>'A7_PCA_100_10_neighbors_cluster'</li><li>'A7_PCA_100_50_neighbors_cluster'</li><li>'A7_PCA_500_50_neighbors_cluster'</li><li>'A7_Singlet_PCA_50_10_neighbors_cluster'</li><li>'A7_Singlet_PCA_100_10_neighbors_cluster'</li><li>'A7_Singlet_RB_MT_PCA_50_10_neighbors_cluster'</li><li>'A7_Singlet_RB_MT_PCA_100_10_neighbors_cluster'</li><li>'library_id'</li><li>'B2_Concat_Singlet_PCA_50_10_neighbors_cluster'</li><li>'B2_Concat_Singlet_PCA_100_10_neighbors_cluster'</li><li>'B2_Concat_Singlet_RB_MT_PCA_50_10_neighbors_cluster'</li><li>'B2_Concat_Singlet_RB_MT_PCA_100_10_neighbors_cluster'</li><li>'leiden'</li><li>'cluster_cell_type'</li><li>'library.hashtag_x'</li><li>'age'</li><li>'sex'</li><li>'m_x'</li><li>'classification'</li><li>'group_y'</li><li>'measurement_x'</li><li>'sample_x'</li><li>'Unnamed..0'</li><li>'library.hashtag_y'</li><li>'m_y'</li><li>'measurement_y'</li><li>'delta_ef_value_group'</li><li>'delta_ef_value'</li><li>'sample_y'</li><li>'cell_type_concat..'</li><li>'cluster_cell_type_concat..'</li><li>'B2_Scanorama_Singlet_cluster'</li><li>'B2_Scanorama_Singlet_rb_mt_cluster'</li><li>'cell_type_Scanorama'</li><li>'cluster_cell_type_Scanorama'</li><li>'Cat1'</li><li>'Cat2'</li><li>'Cat3'</li></ol>\n"
      ],
      "text/latex": [
       "\\begin{enumerate*}\n",
       "\\item 'cell\\_type'\n",
       "\\item 'X'\n",
       "\\item 'nCount\\_HTO'\n",
       "\\item 'nFeature\\_HTO'\n",
       "\\item 'nCount\\_RNA'\n",
       "\\item 'nFeature\\_RNA'\n",
       "\\item 'percent\\_mt'\n",
       "\\item 'HTO\\_maxID'\n",
       "\\item 'HTO\\_secondID'\n",
       "\\item 'HTO\\_margin'\n",
       "\\item 'HTO\\_classification'\n",
       "\\item 'HTO\\_classification.global'\n",
       "\\item 'hash.ID'\n",
       "\\item 'HTO\\_classification\\_final'\n",
       "\\item 'name'\n",
       "\\item 'library'\n",
       "\\item 'id'\n",
       "\\item 'read'\n",
       "\\item 'pattern'\n",
       "\\item 'sequence'\n",
       "\\item 'feature\\_type'\n",
       "\\item 'Unnamed..7'\n",
       "\\item 'in\\_sample'\n",
       "\\item 'display\\_name'\n",
       "\\item 'group\\_x'\n",
       "\\item 'HTO\\_Doublet\\_Classification'\n",
       "\\item 'doublet\\_score'\n",
       "\\item 'predicted\\_doublet'\n",
       "\\item 'A5\\_scrublet\\_predicted\\_doublet\\_lib0.1'\n",
       "\\item 'A5\\_scrublet\\_doublet\\_score\\_lib\\_0.1'\n",
       "\\item 'A5\\_scrublet\\_predicted\\_doublet\\_lib0.2'\n",
       "\\item 'A5\\_scrublet\\_doublet\\_score\\_lib\\_0.2'\n",
       "\\item 'A5\\_scrublet\\_predicted\\_doublet\\_lib'\n",
       "\\item 'A5\\_scrublet\\_doublet\\_score\\_lib'\n",
       "\\item 'n\\_genes'\n",
       "\\item 'n\\_genes\\_by\\_counts'\n",
       "\\item 'total\\_counts'\n",
       "\\item 'total\\_counts\\_mt'\n",
       "\\item 'pct\\_counts\\_mt'\n",
       "\\item 'valid\\_cell\\_filter\\_dying'\n",
       "\\item 'valid\\_cell\\_filter\\_doublet'\n",
       "\\item 'A7\\_PCA\\_50\\_10\\_neighbors\\_cluster'\n",
       "\\item 'A7\\_PCA\\_100\\_10\\_neighbors\\_cluster'\n",
       "\\item 'A7\\_PCA\\_100\\_50\\_neighbors\\_cluster'\n",
       "\\item 'A7\\_PCA\\_500\\_50\\_neighbors\\_cluster'\n",
       "\\item 'A7\\_Singlet\\_PCA\\_50\\_10\\_neighbors\\_cluster'\n",
       "\\item 'A7\\_Singlet\\_PCA\\_100\\_10\\_neighbors\\_cluster'\n",
       "\\item 'A7\\_Singlet\\_RB\\_MT\\_PCA\\_50\\_10\\_neighbors\\_cluster'\n",
       "\\item 'A7\\_Singlet\\_RB\\_MT\\_PCA\\_100\\_10\\_neighbors\\_cluster'\n",
       "\\item 'library\\_id'\n",
       "\\item 'B2\\_Concat\\_Singlet\\_PCA\\_50\\_10\\_neighbors\\_cluster'\n",
       "\\item 'B2\\_Concat\\_Singlet\\_PCA\\_100\\_10\\_neighbors\\_cluster'\n",
       "\\item 'B2\\_Concat\\_Singlet\\_RB\\_MT\\_PCA\\_50\\_10\\_neighbors\\_cluster'\n",
       "\\item 'B2\\_Concat\\_Singlet\\_RB\\_MT\\_PCA\\_100\\_10\\_neighbors\\_cluster'\n",
       "\\item 'leiden'\n",
       "\\item 'cluster\\_cell\\_type'\n",
       "\\item 'library.hashtag\\_x'\n",
       "\\item 'age'\n",
       "\\item 'sex'\n",
       "\\item 'm\\_x'\n",
       "\\item 'classification'\n",
       "\\item 'group\\_y'\n",
       "\\item 'measurement\\_x'\n",
       "\\item 'sample\\_x'\n",
       "\\item 'Unnamed..0'\n",
       "\\item 'library.hashtag\\_y'\n",
       "\\item 'm\\_y'\n",
       "\\item 'measurement\\_y'\n",
       "\\item 'delta\\_ef\\_value\\_group'\n",
       "\\item 'delta\\_ef\\_value'\n",
       "\\item 'sample\\_y'\n",
       "\\item 'cell\\_type\\_concat..'\n",
       "\\item 'cluster\\_cell\\_type\\_concat..'\n",
       "\\item 'B2\\_Scanorama\\_Singlet\\_cluster'\n",
       "\\item 'B2\\_Scanorama\\_Singlet\\_rb\\_mt\\_cluster'\n",
       "\\item 'cell\\_type\\_Scanorama'\n",
       "\\item 'cluster\\_cell\\_type\\_Scanorama'\n",
       "\\item 'Cat1'\n",
       "\\item 'Cat2'\n",
       "\\item 'Cat3'\n",
       "\\end{enumerate*}\n"
      ],
      "text/markdown": [
       "1. 'cell_type'\n",
       "2. 'X'\n",
       "3. 'nCount_HTO'\n",
       "4. 'nFeature_HTO'\n",
       "5. 'nCount_RNA'\n",
       "6. 'nFeature_RNA'\n",
       "7. 'percent_mt'\n",
       "8. 'HTO_maxID'\n",
       "9. 'HTO_secondID'\n",
       "10. 'HTO_margin'\n",
       "11. 'HTO_classification'\n",
       "12. 'HTO_classification.global'\n",
       "13. 'hash.ID'\n",
       "14. 'HTO_classification_final'\n",
       "15. 'name'\n",
       "16. 'library'\n",
       "17. 'id'\n",
       "18. 'read'\n",
       "19. 'pattern'\n",
       "20. 'sequence'\n",
       "21. 'feature_type'\n",
       "22. 'Unnamed..7'\n",
       "23. 'in_sample'\n",
       "24. 'display_name'\n",
       "25. 'group_x'\n",
       "26. 'HTO_Doublet_Classification'\n",
       "27. 'doublet_score'\n",
       "28. 'predicted_doublet'\n",
       "29. 'A5_scrublet_predicted_doublet_lib0.1'\n",
       "30. 'A5_scrublet_doublet_score_lib_0.1'\n",
       "31. 'A5_scrublet_predicted_doublet_lib0.2'\n",
       "32. 'A5_scrublet_doublet_score_lib_0.2'\n",
       "33. 'A5_scrublet_predicted_doublet_lib'\n",
       "34. 'A5_scrublet_doublet_score_lib'\n",
       "35. 'n_genes'\n",
       "36. 'n_genes_by_counts'\n",
       "37. 'total_counts'\n",
       "38. 'total_counts_mt'\n",
       "39. 'pct_counts_mt'\n",
       "40. 'valid_cell_filter_dying'\n",
       "41. 'valid_cell_filter_doublet'\n",
       "42. 'A7_PCA_50_10_neighbors_cluster'\n",
       "43. 'A7_PCA_100_10_neighbors_cluster'\n",
       "44. 'A7_PCA_100_50_neighbors_cluster'\n",
       "45. 'A7_PCA_500_50_neighbors_cluster'\n",
       "46. 'A7_Singlet_PCA_50_10_neighbors_cluster'\n",
       "47. 'A7_Singlet_PCA_100_10_neighbors_cluster'\n",
       "48. 'A7_Singlet_RB_MT_PCA_50_10_neighbors_cluster'\n",
       "49. 'A7_Singlet_RB_MT_PCA_100_10_neighbors_cluster'\n",
       "50. 'library_id'\n",
       "51. 'B2_Concat_Singlet_PCA_50_10_neighbors_cluster'\n",
       "52. 'B2_Concat_Singlet_PCA_100_10_neighbors_cluster'\n",
       "53. 'B2_Concat_Singlet_RB_MT_PCA_50_10_neighbors_cluster'\n",
       "54. 'B2_Concat_Singlet_RB_MT_PCA_100_10_neighbors_cluster'\n",
       "55. 'leiden'\n",
       "56. 'cluster_cell_type'\n",
       "57. 'library.hashtag_x'\n",
       "58. 'age'\n",
       "59. 'sex'\n",
       "60. 'm_x'\n",
       "61. 'classification'\n",
       "62. 'group_y'\n",
       "63. 'measurement_x'\n",
       "64. 'sample_x'\n",
       "65. 'Unnamed..0'\n",
       "66. 'library.hashtag_y'\n",
       "67. 'm_y'\n",
       "68. 'measurement_y'\n",
       "69. 'delta_ef_value_group'\n",
       "70. 'delta_ef_value'\n",
       "71. 'sample_y'\n",
       "72. 'cell_type_concat..'\n",
       "73. 'cluster_cell_type_concat..'\n",
       "74. 'B2_Scanorama_Singlet_cluster'\n",
       "75. 'B2_Scanorama_Singlet_rb_mt_cluster'\n",
       "76. 'cell_type_Scanorama'\n",
       "77. 'cluster_cell_type_Scanorama'\n",
       "78. 'Cat1'\n",
       "79. 'Cat2'\n",
       "80. 'Cat3'\n",
       "\n",
       "\n"
      ],
      "text/plain": [
       " [1] \"cell_type\"                                           \n",
       " [2] \"X\"                                                   \n",
       " [3] \"nCount_HTO\"                                          \n",
       " [4] \"nFeature_HTO\"                                        \n",
       " [5] \"nCount_RNA\"                                          \n",
       " [6] \"nFeature_RNA\"                                        \n",
       " [7] \"percent_mt\"                                          \n",
       " [8] \"HTO_maxID\"                                           \n",
       " [9] \"HTO_secondID\"                                        \n",
       "[10] \"HTO_margin\"                                          \n",
       "[11] \"HTO_classification\"                                  \n",
       "[12] \"HTO_classification.global\"                           \n",
       "[13] \"hash.ID\"                                             \n",
       "[14] \"HTO_classification_final\"                            \n",
       "[15] \"name\"                                                \n",
       "[16] \"library\"                                             \n",
       "[17] \"id\"                                                  \n",
       "[18] \"read\"                                                \n",
       "[19] \"pattern\"                                             \n",
       "[20] \"sequence\"                                            \n",
       "[21] \"feature_type\"                                        \n",
       "[22] \"Unnamed..7\"                                          \n",
       "[23] \"in_sample\"                                           \n",
       "[24] \"display_name\"                                        \n",
       "[25] \"group_x\"                                             \n",
       "[26] \"HTO_Doublet_Classification\"                          \n",
       "[27] \"doublet_score\"                                       \n",
       "[28] \"predicted_doublet\"                                   \n",
       "[29] \"A5_scrublet_predicted_doublet_lib0.1\"                \n",
       "[30] \"A5_scrublet_doublet_score_lib_0.1\"                   \n",
       "[31] \"A5_scrublet_predicted_doublet_lib0.2\"                \n",
       "[32] \"A5_scrublet_doublet_score_lib_0.2\"                   \n",
       "[33] \"A5_scrublet_predicted_doublet_lib\"                   \n",
       "[34] \"A5_scrublet_doublet_score_lib\"                       \n",
       "[35] \"n_genes\"                                             \n",
       "[36] \"n_genes_by_counts\"                                   \n",
       "[37] \"total_counts\"                                        \n",
       "[38] \"total_counts_mt\"                                     \n",
       "[39] \"pct_counts_mt\"                                       \n",
       "[40] \"valid_cell_filter_dying\"                             \n",
       "[41] \"valid_cell_filter_doublet\"                           \n",
       "[42] \"A7_PCA_50_10_neighbors_cluster\"                      \n",
       "[43] \"A7_PCA_100_10_neighbors_cluster\"                     \n",
       "[44] \"A7_PCA_100_50_neighbors_cluster\"                     \n",
       "[45] \"A7_PCA_500_50_neighbors_cluster\"                     \n",
       "[46] \"A7_Singlet_PCA_50_10_neighbors_cluster\"              \n",
       "[47] \"A7_Singlet_PCA_100_10_neighbors_cluster\"             \n",
       "[48] \"A7_Singlet_RB_MT_PCA_50_10_neighbors_cluster\"        \n",
       "[49] \"A7_Singlet_RB_MT_PCA_100_10_neighbors_cluster\"       \n",
       "[50] \"library_id\"                                          \n",
       "[51] \"B2_Concat_Singlet_PCA_50_10_neighbors_cluster\"       \n",
       "[52] \"B2_Concat_Singlet_PCA_100_10_neighbors_cluster\"      \n",
       "[53] \"B2_Concat_Singlet_RB_MT_PCA_50_10_neighbors_cluster\" \n",
       "[54] \"B2_Concat_Singlet_RB_MT_PCA_100_10_neighbors_cluster\"\n",
       "[55] \"leiden\"                                              \n",
       "[56] \"cluster_cell_type\"                                   \n",
       "[57] \"library.hashtag_x\"                                   \n",
       "[58] \"age\"                                                 \n",
       "[59] \"sex\"                                                 \n",
       "[60] \"m_x\"                                                 \n",
       "[61] \"classification\"                                      \n",
       "[62] \"group_y\"                                             \n",
       "[63] \"measurement_x\"                                       \n",
       "[64] \"sample_x\"                                            \n",
       "[65] \"Unnamed..0\"                                          \n",
       "[66] \"library.hashtag_y\"                                   \n",
       "[67] \"m_y\"                                                 \n",
       "[68] \"measurement_y\"                                       \n",
       "[69] \"delta_ef_value_group\"                                \n",
       "[70] \"delta_ef_value\"                                      \n",
       "[71] \"sample_y\"                                            \n",
       "[72] \"cell_type_concat..\"                                  \n",
       "[73] \"cluster_cell_type_concat..\"                          \n",
       "[74] \"B2_Scanorama_Singlet_cluster\"                        \n",
       "[75] \"B2_Scanorama_Singlet_rb_mt_cluster\"                  \n",
       "[76] \"cell_type_Scanorama\"                                 \n",
       "[77] \"cluster_cell_type_Scanorama\"                         \n",
       "[78] \"Cat1\"                                                \n",
       "[79] \"Cat2\"                                                \n",
       "[80] \"Cat3\"                                                "
      ]
     },
     "metadata": {},
     "output_type": "display_data"
    }
   ],
   "source": [
    "colnames(data_for_analysis)"
   ]
  },
  {
   "cell_type": "code",
   "execution_count": 87,
   "id": "9e0c3505-f4f7-4364-b2cb-8f7c57b1d10e",
   "metadata": {},
   "outputs": [
    {
     "data": {
      "text/html": [
       "148275"
      ],
      "text/latex": [
       "148275"
      ],
      "text/markdown": [
       "148275"
      ],
      "text/plain": [
       "[1] 148275"
      ]
     },
     "metadata": {},
     "output_type": "display_data"
    }
   ],
   "source": [
    "nrow(data_for_analysis)"
   ]
  },
  {
   "cell_type": "code",
   "execution_count": 88,
   "id": "a251dfef-25fe-4eef-adb9-9458229be25d",
   "metadata": {},
   "outputs": [
    {
     "data": {
      "text/html": [
       "61"
      ],
      "text/latex": [
       "61"
      ],
      "text/markdown": [
       "61"
      ],
      "text/plain": [
       "[1] 61"
      ]
     },
     "metadata": {},
     "output_type": "display_data"
    }
   ],
   "source": [
    "length(unique(data_for_analysis$m_x))   # 61 Samples "
   ]
  },
  {
   "cell_type": "code",
   "execution_count": 89,
   "id": "3167da37-0b19-43e5-90c4-0b1a7ae9f8f6",
   "metadata": {},
   "outputs": [
    {
     "data": {
      "text/html": [
       "<table class=\"dataframe\">\n",
       "<caption>A grouped_df: 3 × 2</caption>\n",
       "<thead>\n",
       "\t<tr><th scope=col>group_y</th><th scope=col>n</th></tr>\n",
       "\t<tr><th scope=col>&lt;chr&gt;</th><th scope=col>&lt;int&gt;</th></tr>\n",
       "</thead>\n",
       "<tbody>\n",
       "\t<tr><td>acs   </td><td>28</td></tr>\n",
       "\t<tr><td>ccs   </td><td>16</td></tr>\n",
       "\t<tr><td>no_ccs</td><td>17</td></tr>\n",
       "</tbody>\n",
       "</table>\n"
      ],
      "text/latex": [
       "A grouped\\_df: 3 × 2\n",
       "\\begin{tabular}{ll}\n",
       " group\\_y & n\\\\\n",
       " <chr> & <int>\\\\\n",
       "\\hline\n",
       "\t acs    & 28\\\\\n",
       "\t ccs    & 16\\\\\n",
       "\t no\\_ccs & 17\\\\\n",
       "\\end{tabular}\n"
      ],
      "text/markdown": [
       "\n",
       "A grouped_df: 3 × 2\n",
       "\n",
       "| group_y &lt;chr&gt; | n &lt;int&gt; |\n",
       "|---|---|\n",
       "| acs    | 28 |\n",
       "| ccs    | 16 |\n",
       "| no_ccs | 17 |\n",
       "\n"
      ],
      "text/plain": [
       "  group_y n \n",
       "1 acs     28\n",
       "2 ccs     16\n",
       "3 no_ccs  17"
      ]
     },
     "metadata": {},
     "output_type": "display_data"
    }
   ],
   "source": [
    "unique(data_for_analysis[,c('m_x', 'group_y')]) %>% group_by(group_y) %>% count()"
   ]
  },
  {
   "cell_type": "markdown",
   "id": "064943a9-efe1-422d-b18b-95aff00b5e2d",
   "metadata": {
    "tags": []
   },
   "source": [
    "# Analyze cell type and cluster distributions"
   ]
  },
  {
   "cell_type": "markdown",
   "id": "d072fcf3-a1c2-489a-b154-954cb27ece8d",
   "metadata": {
    "tags": []
   },
   "source": [
    "## Functions for analysis"
   ]
  },
  {
   "cell_type": "code",
   "execution_count": 97,
   "id": "7e0bd306-6da9-4025-b893-3aabb5a2b16f",
   "metadata": {},
   "outputs": [],
   "source": [
    "### Calculate distribution"
   ]
  },
  {
   "cell_type": "code",
   "execution_count": 98,
   "id": "d897180e-f048-4081-b94e-533938b2bd66",
   "metadata": {},
   "outputs": [],
   "source": [
    "calculate_distribution = function(totalgroup, grouping, data_for_analysis){\n",
    "    \n",
    "    grouped =  data_for_analysis %>% group_by(.dots = c(grouping, totalgroup)) %>% count()\n",
    "    \n",
    "    total = data_for_analysis %>% group_by(.dots =grouping) %>% count()\n",
    "    \n",
    "    total$total_amount = total$n\n",
    "    total = subset(total, select= -c(n))\n",
    "\n",
    "    grouped$grouped_amount = grouped$n\n",
    "    grouped = subset(grouped, select = -c(n))\n",
    "\n",
    "    distribution = merge(total, grouped)\n",
    "\n",
    "    distribution$percentage = round(distribution$grouped_amount / distribution$total_amount,2)\n",
    "    \n",
    "    return(distribution)\n",
    "    }"
   ]
  },
  {
   "cell_type": "code",
   "execution_count": 99,
   "id": "25c12be2-e79a-418e-8410-88f52fc0bd63",
   "metadata": {},
   "outputs": [],
   "source": [
    "### Function for visualization of distribution"
   ]
  },
  {
   "cell_type": "code",
   "execution_count": 100,
   "id": "e22f14ca-6196-44df-befb-c2ea3c2db37f",
   "metadata": {},
   "outputs": [],
   "source": [
    "calculate_and_plot_distribution = function(totalgroup, grouping, data_for_analysis, plot_width= 40, plot_height = 8, percentage = TRUE, text_size = 3, axis_text = 15, save = FALSE, save_name = 'None'){\n",
    "    \n",
    "    if( save == TRUE){\n",
    "        pdf( paste('figures/B4/', save_name, '.pdf', sep = '') , width=plot_width, height=plot_height)\n",
    "    }\n",
    "    \n",
    "    grouped =  data_for_analysis %>% group_by(.dots = c(grouping, totalgroup)) %>% count()\n",
    "    total = data_for_analysis %>% group_by(.dots =grouping) %>% count()\n",
    "    \n",
    "    total$total_amount = total$n\n",
    "    \n",
    "    grouped$grouped_amount = grouped$n\n",
    "    grouped = grouped[,-3]\n",
    "    \n",
    "    distribution = merge(total, grouped)\n",
    "    \n",
    "    distribution$percentage = round(distribution$grouped_amount / distribution$total_amount,2)\n",
    "    \n",
    "    all = data_for_analysis %>% group_by(.dots =totalgroup) %>% count()\n",
    "    all$percentage = round( all$n / nrow(data_for_analysis),2)\n",
    "    all$total_amount = nrow(data_for_analysis)\n",
    "    all[grouping] = 'all'\n",
    "    all['grouped_amount'] = all$n\n",
    "    all = as.data.frame(all)\n",
    "    \n",
    "    options(repr.plot.width=plot_width, repr.plot.height=plot_height)\n",
    "    \n",
    "    if(percentage == TRUE){\n",
    "        distribution = rbind(all, distribution)\n",
    "        p = ggplot(distribution, aes(fill=as.character(distribution[,totalgroup]), y=percentage, x=as.character(distribution[,grouping]), label = percentage)) + geom_bar(position=\"stack\", stat=\"identity\")   + geom_text( size = text_size, position = position_stack(vjust = 0.5))  + ylab ('Percentage of cells')+ xlab(grouping) +  labs(fill = totalgroup) +  scale_fill_hue(c=45, l=80) +  theme( axis.title=element_text(size=axis_text), axis.text =element_text(size=axis_text) )\n",
    "    }\n",
    "    else{\n",
    "        p = ggplot(distribution, aes(fill=as.character(distribution[,totalgroup]), y=grouped_amount, x=as.character(distribution[,grouping]), label = grouped_amount)) + geom_bar(position=\"stack\", stat=\"identity\")   + geom_text( size = text_size, position = position_stack(vjust = 0.5))  + ylab ('Amount of cells')+ xlab(grouping) +  labs(fill = totalgroup) +  scale_fill_hue(c=45, l=80)+  theme( axis.title=element_text(size=axis_text), axis.text =element_text(size=axis_text))\n",
    "        }\n",
    "    print(p)\n",
    "    \n",
    "    if (save == TRUE){\n",
    "        dev.off()\n",
    "        }\n",
    "    \n",
    "    if (save == TRUE){\n",
    "        distribution = distribution[,-2]\n",
    "        write.csv(distribution, paste(result_path ,'/B-Analysis/',  save_name, '.csv' , sep = ''))\n",
    "        }\n",
    "\n",
    "    return(distribution)\n",
    "    \n",
    "    ## TBD: adapt to adjust text-sized:\n",
    "    ##+ geom_text( size = 5, position = position_stack(vjust = 0.5))  + ylab ('Percentage of cells')+   scale_fill_hue(c=45, l=80)  + theme(axis.text=element_text(size=30),\n",
    "    ##    axis.title=element_text(size=30))\n",
    "}"
   ]
  },
  {
   "cell_type": "code",
   "execution_count": 101,
   "id": "cf277039-1f86-451c-b09f-bf62ac960e7b",
   "metadata": {},
   "outputs": [],
   "source": [
    "### Function for visualization of confusion matrix"
   ]
  },
  {
   "cell_type": "markdown",
   "id": "5aa0980f-5766-4465-974d-0631c5522eda",
   "metadata": {},
   "source": [
    "## Calculate distributions and add CLR transformation"
   ]
  },
  {
   "cell_type": "markdown",
   "id": "404bdda9-3878-4121-98fc-2ea41dc991d5",
   "metadata": {},
   "source": [
    "### Per sample and cell-type cluster"
   ]
  },
  {
   "cell_type": "code",
   "execution_count": 103,
   "id": "d77210d4-cd13-461f-b967-1493223e4307",
   "metadata": {},
   "outputs": [
    {
     "data": {
      "text/html": [
       "<style>\n",
       ".list-inline {list-style: none; margin:0; padding: 0}\n",
       ".list-inline>li {display: inline-block}\n",
       ".list-inline>li:not(:last-child)::after {content: \"\\00b7\"; padding: 0 .5ex}\n",
       "</style>\n",
       "<ol class=list-inline><li>'cell_type'</li><li>'X'</li><li>'nCount_HTO'</li><li>'nFeature_HTO'</li><li>'nCount_RNA'</li><li>'nFeature_RNA'</li><li>'percent_mt'</li><li>'HTO_maxID'</li><li>'HTO_secondID'</li><li>'HTO_margin'</li><li>'HTO_classification'</li><li>'HTO_classification.global'</li><li>'hash.ID'</li><li>'HTO_classification_final'</li><li>'name'</li><li>'library'</li><li>'id'</li><li>'read'</li><li>'pattern'</li><li>'sequence'</li><li>'feature_type'</li><li>'Unnamed..7'</li><li>'in_sample'</li><li>'display_name'</li><li>'group_x'</li><li>'HTO_Doublet_Classification'</li><li>'doublet_score'</li><li>'predicted_doublet'</li><li>'A5_scrublet_predicted_doublet_lib0.1'</li><li>'A5_scrublet_doublet_score_lib_0.1'</li><li>'A5_scrublet_predicted_doublet_lib0.2'</li><li>'A5_scrublet_doublet_score_lib_0.2'</li><li>'A5_scrublet_predicted_doublet_lib'</li><li>'A5_scrublet_doublet_score_lib'</li><li>'n_genes'</li><li>'n_genes_by_counts'</li><li>'total_counts'</li><li>'total_counts_mt'</li><li>'pct_counts_mt'</li><li>'valid_cell_filter_dying'</li><li>'valid_cell_filter_doublet'</li><li>'A7_PCA_50_10_neighbors_cluster'</li><li>'A7_PCA_100_10_neighbors_cluster'</li><li>'A7_PCA_100_50_neighbors_cluster'</li><li>'A7_PCA_500_50_neighbors_cluster'</li><li>'A7_Singlet_PCA_50_10_neighbors_cluster'</li><li>'A7_Singlet_PCA_100_10_neighbors_cluster'</li><li>'A7_Singlet_RB_MT_PCA_50_10_neighbors_cluster'</li><li>'A7_Singlet_RB_MT_PCA_100_10_neighbors_cluster'</li><li>'library_id'</li><li>'B2_Concat_Singlet_PCA_50_10_neighbors_cluster'</li><li>'B2_Concat_Singlet_PCA_100_10_neighbors_cluster'</li><li>'B2_Concat_Singlet_RB_MT_PCA_50_10_neighbors_cluster'</li><li>'B2_Concat_Singlet_RB_MT_PCA_100_10_neighbors_cluster'</li><li>'leiden'</li><li>'cluster_cell_type'</li><li>'library.hashtag_x'</li><li>'age'</li><li>'sex'</li><li>'m_x'</li><li>'classification'</li><li>'group_y'</li><li>'measurement_x'</li><li>'sample_x'</li><li>'Unnamed..0'</li><li>'library.hashtag_y'</li><li>'m_y'</li><li>'measurement_y'</li><li>'delta_ef_value_group'</li><li>'delta_ef_value'</li><li>'sample_y'</li><li>'cell_type_concat..'</li><li>'cluster_cell_type_concat..'</li><li>'B2_Scanorama_Singlet_cluster'</li><li>'B2_Scanorama_Singlet_rb_mt_cluster'</li><li>'cell_type_Scanorama'</li><li>'cluster_cell_type_Scanorama'</li><li>'Cat1'</li><li>'Cat2'</li><li>'Cat3'</li></ol>\n"
      ],
      "text/latex": [
       "\\begin{enumerate*}\n",
       "\\item 'cell\\_type'\n",
       "\\item 'X'\n",
       "\\item 'nCount\\_HTO'\n",
       "\\item 'nFeature\\_HTO'\n",
       "\\item 'nCount\\_RNA'\n",
       "\\item 'nFeature\\_RNA'\n",
       "\\item 'percent\\_mt'\n",
       "\\item 'HTO\\_maxID'\n",
       "\\item 'HTO\\_secondID'\n",
       "\\item 'HTO\\_margin'\n",
       "\\item 'HTO\\_classification'\n",
       "\\item 'HTO\\_classification.global'\n",
       "\\item 'hash.ID'\n",
       "\\item 'HTO\\_classification\\_final'\n",
       "\\item 'name'\n",
       "\\item 'library'\n",
       "\\item 'id'\n",
       "\\item 'read'\n",
       "\\item 'pattern'\n",
       "\\item 'sequence'\n",
       "\\item 'feature\\_type'\n",
       "\\item 'Unnamed..7'\n",
       "\\item 'in\\_sample'\n",
       "\\item 'display\\_name'\n",
       "\\item 'group\\_x'\n",
       "\\item 'HTO\\_Doublet\\_Classification'\n",
       "\\item 'doublet\\_score'\n",
       "\\item 'predicted\\_doublet'\n",
       "\\item 'A5\\_scrublet\\_predicted\\_doublet\\_lib0.1'\n",
       "\\item 'A5\\_scrublet\\_doublet\\_score\\_lib\\_0.1'\n",
       "\\item 'A5\\_scrublet\\_predicted\\_doublet\\_lib0.2'\n",
       "\\item 'A5\\_scrublet\\_doublet\\_score\\_lib\\_0.2'\n",
       "\\item 'A5\\_scrublet\\_predicted\\_doublet\\_lib'\n",
       "\\item 'A5\\_scrublet\\_doublet\\_score\\_lib'\n",
       "\\item 'n\\_genes'\n",
       "\\item 'n\\_genes\\_by\\_counts'\n",
       "\\item 'total\\_counts'\n",
       "\\item 'total\\_counts\\_mt'\n",
       "\\item 'pct\\_counts\\_mt'\n",
       "\\item 'valid\\_cell\\_filter\\_dying'\n",
       "\\item 'valid\\_cell\\_filter\\_doublet'\n",
       "\\item 'A7\\_PCA\\_50\\_10\\_neighbors\\_cluster'\n",
       "\\item 'A7\\_PCA\\_100\\_10\\_neighbors\\_cluster'\n",
       "\\item 'A7\\_PCA\\_100\\_50\\_neighbors\\_cluster'\n",
       "\\item 'A7\\_PCA\\_500\\_50\\_neighbors\\_cluster'\n",
       "\\item 'A7\\_Singlet\\_PCA\\_50\\_10\\_neighbors\\_cluster'\n",
       "\\item 'A7\\_Singlet\\_PCA\\_100\\_10\\_neighbors\\_cluster'\n",
       "\\item 'A7\\_Singlet\\_RB\\_MT\\_PCA\\_50\\_10\\_neighbors\\_cluster'\n",
       "\\item 'A7\\_Singlet\\_RB\\_MT\\_PCA\\_100\\_10\\_neighbors\\_cluster'\n",
       "\\item 'library\\_id'\n",
       "\\item 'B2\\_Concat\\_Singlet\\_PCA\\_50\\_10\\_neighbors\\_cluster'\n",
       "\\item 'B2\\_Concat\\_Singlet\\_PCA\\_100\\_10\\_neighbors\\_cluster'\n",
       "\\item 'B2\\_Concat\\_Singlet\\_RB\\_MT\\_PCA\\_50\\_10\\_neighbors\\_cluster'\n",
       "\\item 'B2\\_Concat\\_Singlet\\_RB\\_MT\\_PCA\\_100\\_10\\_neighbors\\_cluster'\n",
       "\\item 'leiden'\n",
       "\\item 'cluster\\_cell\\_type'\n",
       "\\item 'library.hashtag\\_x'\n",
       "\\item 'age'\n",
       "\\item 'sex'\n",
       "\\item 'm\\_x'\n",
       "\\item 'classification'\n",
       "\\item 'group\\_y'\n",
       "\\item 'measurement\\_x'\n",
       "\\item 'sample\\_x'\n",
       "\\item 'Unnamed..0'\n",
       "\\item 'library.hashtag\\_y'\n",
       "\\item 'm\\_y'\n",
       "\\item 'measurement\\_y'\n",
       "\\item 'delta\\_ef\\_value\\_group'\n",
       "\\item 'delta\\_ef\\_value'\n",
       "\\item 'sample\\_y'\n",
       "\\item 'cell\\_type\\_concat..'\n",
       "\\item 'cluster\\_cell\\_type\\_concat..'\n",
       "\\item 'B2\\_Scanorama\\_Singlet\\_cluster'\n",
       "\\item 'B2\\_Scanorama\\_Singlet\\_rb\\_mt\\_cluster'\n",
       "\\item 'cell\\_type\\_Scanorama'\n",
       "\\item 'cluster\\_cell\\_type\\_Scanorama'\n",
       "\\item 'Cat1'\n",
       "\\item 'Cat2'\n",
       "\\item 'Cat3'\n",
       "\\end{enumerate*}\n"
      ],
      "text/markdown": [
       "1. 'cell_type'\n",
       "2. 'X'\n",
       "3. 'nCount_HTO'\n",
       "4. 'nFeature_HTO'\n",
       "5. 'nCount_RNA'\n",
       "6. 'nFeature_RNA'\n",
       "7. 'percent_mt'\n",
       "8. 'HTO_maxID'\n",
       "9. 'HTO_secondID'\n",
       "10. 'HTO_margin'\n",
       "11. 'HTO_classification'\n",
       "12. 'HTO_classification.global'\n",
       "13. 'hash.ID'\n",
       "14. 'HTO_classification_final'\n",
       "15. 'name'\n",
       "16. 'library'\n",
       "17. 'id'\n",
       "18. 'read'\n",
       "19. 'pattern'\n",
       "20. 'sequence'\n",
       "21. 'feature_type'\n",
       "22. 'Unnamed..7'\n",
       "23. 'in_sample'\n",
       "24. 'display_name'\n",
       "25. 'group_x'\n",
       "26. 'HTO_Doublet_Classification'\n",
       "27. 'doublet_score'\n",
       "28. 'predicted_doublet'\n",
       "29. 'A5_scrublet_predicted_doublet_lib0.1'\n",
       "30. 'A5_scrublet_doublet_score_lib_0.1'\n",
       "31. 'A5_scrublet_predicted_doublet_lib0.2'\n",
       "32. 'A5_scrublet_doublet_score_lib_0.2'\n",
       "33. 'A5_scrublet_predicted_doublet_lib'\n",
       "34. 'A5_scrublet_doublet_score_lib'\n",
       "35. 'n_genes'\n",
       "36. 'n_genes_by_counts'\n",
       "37. 'total_counts'\n",
       "38. 'total_counts_mt'\n",
       "39. 'pct_counts_mt'\n",
       "40. 'valid_cell_filter_dying'\n",
       "41. 'valid_cell_filter_doublet'\n",
       "42. 'A7_PCA_50_10_neighbors_cluster'\n",
       "43. 'A7_PCA_100_10_neighbors_cluster'\n",
       "44. 'A7_PCA_100_50_neighbors_cluster'\n",
       "45. 'A7_PCA_500_50_neighbors_cluster'\n",
       "46. 'A7_Singlet_PCA_50_10_neighbors_cluster'\n",
       "47. 'A7_Singlet_PCA_100_10_neighbors_cluster'\n",
       "48. 'A7_Singlet_RB_MT_PCA_50_10_neighbors_cluster'\n",
       "49. 'A7_Singlet_RB_MT_PCA_100_10_neighbors_cluster'\n",
       "50. 'library_id'\n",
       "51. 'B2_Concat_Singlet_PCA_50_10_neighbors_cluster'\n",
       "52. 'B2_Concat_Singlet_PCA_100_10_neighbors_cluster'\n",
       "53. 'B2_Concat_Singlet_RB_MT_PCA_50_10_neighbors_cluster'\n",
       "54. 'B2_Concat_Singlet_RB_MT_PCA_100_10_neighbors_cluster'\n",
       "55. 'leiden'\n",
       "56. 'cluster_cell_type'\n",
       "57. 'library.hashtag_x'\n",
       "58. 'age'\n",
       "59. 'sex'\n",
       "60. 'm_x'\n",
       "61. 'classification'\n",
       "62. 'group_y'\n",
       "63. 'measurement_x'\n",
       "64. 'sample_x'\n",
       "65. 'Unnamed..0'\n",
       "66. 'library.hashtag_y'\n",
       "67. 'm_y'\n",
       "68. 'measurement_y'\n",
       "69. 'delta_ef_value_group'\n",
       "70. 'delta_ef_value'\n",
       "71. 'sample_y'\n",
       "72. 'cell_type_concat..'\n",
       "73. 'cluster_cell_type_concat..'\n",
       "74. 'B2_Scanorama_Singlet_cluster'\n",
       "75. 'B2_Scanorama_Singlet_rb_mt_cluster'\n",
       "76. 'cell_type_Scanorama'\n",
       "77. 'cluster_cell_type_Scanorama'\n",
       "78. 'Cat1'\n",
       "79. 'Cat2'\n",
       "80. 'Cat3'\n",
       "\n",
       "\n"
      ],
      "text/plain": [
       " [1] \"cell_type\"                                           \n",
       " [2] \"X\"                                                   \n",
       " [3] \"nCount_HTO\"                                          \n",
       " [4] \"nFeature_HTO\"                                        \n",
       " [5] \"nCount_RNA\"                                          \n",
       " [6] \"nFeature_RNA\"                                        \n",
       " [7] \"percent_mt\"                                          \n",
       " [8] \"HTO_maxID\"                                           \n",
       " [9] \"HTO_secondID\"                                        \n",
       "[10] \"HTO_margin\"                                          \n",
       "[11] \"HTO_classification\"                                  \n",
       "[12] \"HTO_classification.global\"                           \n",
       "[13] \"hash.ID\"                                             \n",
       "[14] \"HTO_classification_final\"                            \n",
       "[15] \"name\"                                                \n",
       "[16] \"library\"                                             \n",
       "[17] \"id\"                                                  \n",
       "[18] \"read\"                                                \n",
       "[19] \"pattern\"                                             \n",
       "[20] \"sequence\"                                            \n",
       "[21] \"feature_type\"                                        \n",
       "[22] \"Unnamed..7\"                                          \n",
       "[23] \"in_sample\"                                           \n",
       "[24] \"display_name\"                                        \n",
       "[25] \"group_x\"                                             \n",
       "[26] \"HTO_Doublet_Classification\"                          \n",
       "[27] \"doublet_score\"                                       \n",
       "[28] \"predicted_doublet\"                                   \n",
       "[29] \"A5_scrublet_predicted_doublet_lib0.1\"                \n",
       "[30] \"A5_scrublet_doublet_score_lib_0.1\"                   \n",
       "[31] \"A5_scrublet_predicted_doublet_lib0.2\"                \n",
       "[32] \"A5_scrublet_doublet_score_lib_0.2\"                   \n",
       "[33] \"A5_scrublet_predicted_doublet_lib\"                   \n",
       "[34] \"A5_scrublet_doublet_score_lib\"                       \n",
       "[35] \"n_genes\"                                             \n",
       "[36] \"n_genes_by_counts\"                                   \n",
       "[37] \"total_counts\"                                        \n",
       "[38] \"total_counts_mt\"                                     \n",
       "[39] \"pct_counts_mt\"                                       \n",
       "[40] \"valid_cell_filter_dying\"                             \n",
       "[41] \"valid_cell_filter_doublet\"                           \n",
       "[42] \"A7_PCA_50_10_neighbors_cluster\"                      \n",
       "[43] \"A7_PCA_100_10_neighbors_cluster\"                     \n",
       "[44] \"A7_PCA_100_50_neighbors_cluster\"                     \n",
       "[45] \"A7_PCA_500_50_neighbors_cluster\"                     \n",
       "[46] \"A7_Singlet_PCA_50_10_neighbors_cluster\"              \n",
       "[47] \"A7_Singlet_PCA_100_10_neighbors_cluster\"             \n",
       "[48] \"A7_Singlet_RB_MT_PCA_50_10_neighbors_cluster\"        \n",
       "[49] \"A7_Singlet_RB_MT_PCA_100_10_neighbors_cluster\"       \n",
       "[50] \"library_id\"                                          \n",
       "[51] \"B2_Concat_Singlet_PCA_50_10_neighbors_cluster\"       \n",
       "[52] \"B2_Concat_Singlet_PCA_100_10_neighbors_cluster\"      \n",
       "[53] \"B2_Concat_Singlet_RB_MT_PCA_50_10_neighbors_cluster\" \n",
       "[54] \"B2_Concat_Singlet_RB_MT_PCA_100_10_neighbors_cluster\"\n",
       "[55] \"leiden\"                                              \n",
       "[56] \"cluster_cell_type\"                                   \n",
       "[57] \"library.hashtag_x\"                                   \n",
       "[58] \"age\"                                                 \n",
       "[59] \"sex\"                                                 \n",
       "[60] \"m_x\"                                                 \n",
       "[61] \"classification\"                                      \n",
       "[62] \"group_y\"                                             \n",
       "[63] \"measurement_x\"                                       \n",
       "[64] \"sample_x\"                                            \n",
       "[65] \"Unnamed..0\"                                          \n",
       "[66] \"library.hashtag_y\"                                   \n",
       "[67] \"m_y\"                                                 \n",
       "[68] \"measurement_y\"                                       \n",
       "[69] \"delta_ef_value_group\"                                \n",
       "[70] \"delta_ef_value\"                                      \n",
       "[71] \"sample_y\"                                            \n",
       "[72] \"cell_type_concat..\"                                  \n",
       "[73] \"cluster_cell_type_concat..\"                          \n",
       "[74] \"B2_Scanorama_Singlet_cluster\"                        \n",
       "[75] \"B2_Scanorama_Singlet_rb_mt_cluster\"                  \n",
       "[76] \"cell_type_Scanorama\"                                 \n",
       "[77] \"cluster_cell_type_Scanorama\"                         \n",
       "[78] \"Cat1\"                                                \n",
       "[79] \"Cat2\"                                                \n",
       "[80] \"Cat3\"                                                "
      ]
     },
     "metadata": {},
     "output_type": "display_data"
    }
   ],
   "source": [
    "colnames(data_for_analysis)"
   ]
  },
  {
   "cell_type": "code",
   "execution_count": 104,
   "id": "5a88a846-4e63-4036-b5d7-bd4b083d858c",
   "metadata": {},
   "outputs": [
    {
     "data": {
      "text/html": [
       "<table class=\"dataframe\">\n",
       "<caption>A data.frame: 19 × 2</caption>\n",
       "<thead>\n",
       "\t<tr><th></th><th scope=col>B2_Scanorama_Singlet_rb_mt_cluster</th><th scope=col>cell_type_Scanorama</th></tr>\n",
       "\t<tr><th></th><th scope=col>&lt;int&gt;</th><th scope=col>&lt;chr&gt;</th></tr>\n",
       "</thead>\n",
       "<tbody>\n",
       "\t<tr><th scope=row>1</th><td> 8</td><td>B-cell                 </td></tr>\n",
       "\t<tr><th scope=row>4</th><td>10</td><td>B-cell                 </td></tr>\n",
       "\t<tr><th scope=row>10297</th><td>13</td><td>Dendritic              </td></tr>\n",
       "\t<tr><th scope=row>11662</th><td>18</td><td>Megakaryocytes         </td></tr>\n",
       "\t<tr><th scope=row>11761</th><td> 4</td><td>Monocytes - CD14       </td></tr>\n",
       "\t<tr><th scope=row>11764</th><td> 7</td><td>Monocytes - CD14       </td></tr>\n",
       "\t<tr><th scope=row>11765</th><td> 6</td><td>Monocytes - CD14       </td></tr>\n",
       "\t<tr><th scope=row>45424</th><td> 9</td><td>Monocytes - CD16_FCGR3A</td></tr>\n",
       "\t<tr><th scope=row>45429</th><td>12</td><td>Monocytes - CD16_FCGR3A</td></tr>\n",
       "\t<tr><th scope=row>50472</th><td> 3</td><td>NK                     </td></tr>\n",
       "\t<tr><th scope=row>66142</th><td>14</td><td>Other                  </td></tr>\n",
       "\t<tr><th scope=row>67487</th><td>15</td><td>Plasma Blast           </td></tr>\n",
       "\t<tr><th scope=row>67488</th><td>16</td><td>Plasma Blast           </td></tr>\n",
       "\t<tr><th scope=row>69032</th><td>17</td><td>Progenitor             </td></tr>\n",
       "\t<tr><th scope=row>69362</th><td> 2</td><td>T-cell-CD4             </td></tr>\n",
       "\t<tr><th scope=row>69363</th><td> 0</td><td>T-cell-CD4             </td></tr>\n",
       "\t<tr><th scope=row>69364</th><td> 5</td><td>T-cell-CD4             </td></tr>\n",
       "\t<tr><th scope=row>69406</th><td>11</td><td>T-cell-CD4             </td></tr>\n",
       "\t<tr><th scope=row>128522</th><td> 1</td><td>T-cell-CD8             </td></tr>\n",
       "</tbody>\n",
       "</table>\n"
      ],
      "text/latex": [
       "A data.frame: 19 × 2\n",
       "\\begin{tabular}{r|ll}\n",
       "  & B2\\_Scanorama\\_Singlet\\_rb\\_mt\\_cluster & cell\\_type\\_Scanorama\\\\\n",
       "  & <int> & <chr>\\\\\n",
       "\\hline\n",
       "\t1 &  8 & B-cell                 \\\\\n",
       "\t4 & 10 & B-cell                 \\\\\n",
       "\t10297 & 13 & Dendritic              \\\\\n",
       "\t11662 & 18 & Megakaryocytes         \\\\\n",
       "\t11761 &  4 & Monocytes - CD14       \\\\\n",
       "\t11764 &  7 & Monocytes - CD14       \\\\\n",
       "\t11765 &  6 & Monocytes - CD14       \\\\\n",
       "\t45424 &  9 & Monocytes - CD16\\_FCGR3A\\\\\n",
       "\t45429 & 12 & Monocytes - CD16\\_FCGR3A\\\\\n",
       "\t50472 &  3 & NK                     \\\\\n",
       "\t66142 & 14 & Other                  \\\\\n",
       "\t67487 & 15 & Plasma Blast           \\\\\n",
       "\t67488 & 16 & Plasma Blast           \\\\\n",
       "\t69032 & 17 & Progenitor             \\\\\n",
       "\t69362 &  2 & T-cell-CD4             \\\\\n",
       "\t69363 &  0 & T-cell-CD4             \\\\\n",
       "\t69364 &  5 & T-cell-CD4             \\\\\n",
       "\t69406 & 11 & T-cell-CD4             \\\\\n",
       "\t128522 &  1 & T-cell-CD8             \\\\\n",
       "\\end{tabular}\n"
      ],
      "text/markdown": [
       "\n",
       "A data.frame: 19 × 2\n",
       "\n",
       "| <!--/--> | B2_Scanorama_Singlet_rb_mt_cluster &lt;int&gt; | cell_type_Scanorama &lt;chr&gt; |\n",
       "|---|---|---|\n",
       "| 1 |  8 | B-cell                  |\n",
       "| 4 | 10 | B-cell                  |\n",
       "| 10297 | 13 | Dendritic               |\n",
       "| 11662 | 18 | Megakaryocytes          |\n",
       "| 11761 |  4 | Monocytes - CD14        |\n",
       "| 11764 |  7 | Monocytes - CD14        |\n",
       "| 11765 |  6 | Monocytes - CD14        |\n",
       "| 45424 |  9 | Monocytes - CD16_FCGR3A |\n",
       "| 45429 | 12 | Monocytes - CD16_FCGR3A |\n",
       "| 50472 |  3 | NK                      |\n",
       "| 66142 | 14 | Other                   |\n",
       "| 67487 | 15 | Plasma Blast            |\n",
       "| 67488 | 16 | Plasma Blast            |\n",
       "| 69032 | 17 | Progenitor              |\n",
       "| 69362 |  2 | T-cell-CD4              |\n",
       "| 69363 |  0 | T-cell-CD4              |\n",
       "| 69364 |  5 | T-cell-CD4              |\n",
       "| 69406 | 11 | T-cell-CD4              |\n",
       "| 128522 |  1 | T-cell-CD8              |\n",
       "\n"
      ],
      "text/plain": [
       "       B2_Scanorama_Singlet_rb_mt_cluster cell_type_Scanorama    \n",
       "1       8                                 B-cell                 \n",
       "4      10                                 B-cell                 \n",
       "10297  13                                 Dendritic              \n",
       "11662  18                                 Megakaryocytes         \n",
       "11761   4                                 Monocytes - CD14       \n",
       "11764   7                                 Monocytes - CD14       \n",
       "11765   6                                 Monocytes - CD14       \n",
       "45424   9                                 Monocytes - CD16_FCGR3A\n",
       "45429  12                                 Monocytes - CD16_FCGR3A\n",
       "50472   3                                 NK                     \n",
       "66142  14                                 Other                  \n",
       "67487  15                                 Plasma Blast           \n",
       "67488  16                                 Plasma Blast           \n",
       "69032  17                                 Progenitor             \n",
       "69362   2                                 T-cell-CD4             \n",
       "69363   0                                 T-cell-CD4             \n",
       "69364   5                                 T-cell-CD4             \n",
       "69406  11                                 T-cell-CD4             \n",
       "128522  1                                 T-cell-CD8             "
      ]
     },
     "metadata": {},
     "output_type": "display_data"
    }
   ],
   "source": [
    "unique(data_for_analysis[,c('B2_Scanorama_Singlet_rb_mt_cluster', 'cell_type_Scanorama')])"
   ]
  },
  {
   "cell_type": "code",
   "execution_count": 105,
   "id": "5626c982-0327-4fa4-ab3d-a768935e3c14",
   "metadata": {},
   "outputs": [
    {
     "name": "stderr",
     "output_type": "stream",
     "text": [
      "Warning message:\n",
      "“\u001b[1m\u001b[22mThe `.dots` argument of `group_by()` is deprecated as of dplyr 1.0.0.\n",
      "\u001b[36mℹ\u001b[39m The deprecated feature was likely used in the \u001b[34mdplyr\u001b[39m package.\n",
      "  Please report the issue at \u001b[3m\u001b[34m<https://github.com/tidyverse/dplyr/issues>\u001b[39m\u001b[23m.”\n"
     ]
    }
   ],
   "source": [
    "sample_distribution = calculate_distribution (totalgroup = 'B2_Scanorama_Singlet_rb_mt_cluster', grouping= c('display_name', 'classification'), data_for_analysis = data_for_analysis)"
   ]
  },
  {
   "cell_type": "code",
   "execution_count": 106,
   "id": "3b6de753-4ee0-4a23-bc14-d8cdc4c1c7e1",
   "metadata": {},
   "outputs": [
    {
     "data": {
      "text/html": [
       "<table class=\"dataframe\">\n",
       "<caption>A data.frame: 2 × 6</caption>\n",
       "<thead>\n",
       "\t<tr><th></th><th scope=col>display_name</th><th scope=col>classification</th><th scope=col>total_amount</th><th scope=col>B2_Scanorama_Singlet_rb_mt_cluster</th><th scope=col>grouped_amount</th><th scope=col>percentage</th></tr>\n",
       "\t<tr><th></th><th scope=col>&lt;dbl&gt;</th><th scope=col>&lt;chr&gt;</th><th scope=col>&lt;int&gt;</th><th scope=col>&lt;int&gt;</th><th scope=col>&lt;int&gt;</th><th scope=col>&lt;dbl&gt;</th></tr>\n",
       "</thead>\n",
       "<tbody>\n",
       "\t<tr><th scope=row>1</th><td>1.1</td><td>acs_subacute</td><td>2126</td><td>0</td><td>398</td><td>0.19</td></tr>\n",
       "\t<tr><th scope=row>2</th><td>1.1</td><td>acs_subacute</td><td>2126</td><td>1</td><td>156</td><td>0.07</td></tr>\n",
       "</tbody>\n",
       "</table>\n"
      ],
      "text/latex": [
       "A data.frame: 2 × 6\n",
       "\\begin{tabular}{r|llllll}\n",
       "  & display\\_name & classification & total\\_amount & B2\\_Scanorama\\_Singlet\\_rb\\_mt\\_cluster & grouped\\_amount & percentage\\\\\n",
       "  & <dbl> & <chr> & <int> & <int> & <int> & <dbl>\\\\\n",
       "\\hline\n",
       "\t1 & 1.1 & acs\\_subacute & 2126 & 0 & 398 & 0.19\\\\\n",
       "\t2 & 1.1 & acs\\_subacute & 2126 & 1 & 156 & 0.07\\\\\n",
       "\\end{tabular}\n"
      ],
      "text/markdown": [
       "\n",
       "A data.frame: 2 × 6\n",
       "\n",
       "| <!--/--> | display_name &lt;dbl&gt; | classification &lt;chr&gt; | total_amount &lt;int&gt; | B2_Scanorama_Singlet_rb_mt_cluster &lt;int&gt; | grouped_amount &lt;int&gt; | percentage &lt;dbl&gt; |\n",
       "|---|---|---|---|---|---|---|\n",
       "| 1 | 1.1 | acs_subacute | 2126 | 0 | 398 | 0.19 |\n",
       "| 2 | 1.1 | acs_subacute | 2126 | 1 | 156 | 0.07 |\n",
       "\n"
      ],
      "text/plain": [
       "  display_name classification total_amount B2_Scanorama_Singlet_rb_mt_cluster\n",
       "1 1.1          acs_subacute   2126         0                                 \n",
       "2 1.1          acs_subacute   2126         1                                 \n",
       "  grouped_amount percentage\n",
       "1 398            0.19      \n",
       "2 156            0.07      "
      ]
     },
     "metadata": {},
     "output_type": "display_data"
    }
   ],
   "source": [
    "head(sample_distribution,2)"
   ]
  },
  {
   "cell_type": "code",
   "execution_count": 107,
   "id": "e700afc9-957f-471c-aa0d-3e28510eb455",
   "metadata": {},
   "outputs": [],
   "source": [
    "for ( i in unique(sample_distribution$display_name)){\n",
    "    clr_data = sample_distribution[sample_distribution$display_name == i,]\n",
    "    percentage_clr = clr(clr_data$percentage)\n",
    "    \n",
    "    sample_distribution[sample_distribution$display_name == i,'percentage_clr'] = percentage_clr\n",
    "    }"
   ]
  },
  {
   "cell_type": "code",
   "execution_count": 108,
   "id": "aec2f74a-9c03-49d6-887b-aa00279b1bb7",
   "metadata": {},
   "outputs": [
    {
     "data": {
      "text/html": [
       "<table class=\"dataframe\">\n",
       "<caption>A data.frame: 2 × 7</caption>\n",
       "<thead>\n",
       "\t<tr><th></th><th scope=col>display_name</th><th scope=col>classification</th><th scope=col>total_amount</th><th scope=col>B2_Scanorama_Singlet_rb_mt_cluster</th><th scope=col>grouped_amount</th><th scope=col>percentage</th><th scope=col>percentage_clr</th></tr>\n",
       "\t<tr><th></th><th scope=col>&lt;dbl&gt;</th><th scope=col>&lt;chr&gt;</th><th scope=col>&lt;int&gt;</th><th scope=col>&lt;int&gt;</th><th scope=col>&lt;int&gt;</th><th scope=col>&lt;dbl&gt;</th><th scope=col>&lt;dbl&gt;</th></tr>\n",
       "</thead>\n",
       "<tbody>\n",
       "\t<tr><th scope=row>1</th><td>1.1</td><td>acs_subacute</td><td>2126</td><td>0</td><td>398</td><td>0.19</td><td>1.4807037</td></tr>\n",
       "\t<tr><th scope=row>2</th><td>1.1</td><td>acs_subacute</td><td>2126</td><td>1</td><td>156</td><td>0.07</td><td>0.4821749</td></tr>\n",
       "</tbody>\n",
       "</table>\n"
      ],
      "text/latex": [
       "A data.frame: 2 × 7\n",
       "\\begin{tabular}{r|lllllll}\n",
       "  & display\\_name & classification & total\\_amount & B2\\_Scanorama\\_Singlet\\_rb\\_mt\\_cluster & grouped\\_amount & percentage & percentage\\_clr\\\\\n",
       "  & <dbl> & <chr> & <int> & <int> & <int> & <dbl> & <dbl>\\\\\n",
       "\\hline\n",
       "\t1 & 1.1 & acs\\_subacute & 2126 & 0 & 398 & 0.19 & 1.4807037\\\\\n",
       "\t2 & 1.1 & acs\\_subacute & 2126 & 1 & 156 & 0.07 & 0.4821749\\\\\n",
       "\\end{tabular}\n"
      ],
      "text/markdown": [
       "\n",
       "A data.frame: 2 × 7\n",
       "\n",
       "| <!--/--> | display_name &lt;dbl&gt; | classification &lt;chr&gt; | total_amount &lt;int&gt; | B2_Scanorama_Singlet_rb_mt_cluster &lt;int&gt; | grouped_amount &lt;int&gt; | percentage &lt;dbl&gt; | percentage_clr &lt;dbl&gt; |\n",
       "|---|---|---|---|---|---|---|---|\n",
       "| 1 | 1.1 | acs_subacute | 2126 | 0 | 398 | 0.19 | 1.4807037 |\n",
       "| 2 | 1.1 | acs_subacute | 2126 | 1 | 156 | 0.07 | 0.4821749 |\n",
       "\n"
      ],
      "text/plain": [
       "  display_name classification total_amount B2_Scanorama_Singlet_rb_mt_cluster\n",
       "1 1.1          acs_subacute   2126         0                                 \n",
       "2 1.1          acs_subacute   2126         1                                 \n",
       "  grouped_amount percentage percentage_clr\n",
       "1 398            0.19       1.4807037     \n",
       "2 156            0.07       0.4821749     "
      ]
     },
     "metadata": {},
     "output_type": "display_data"
    }
   ],
   "source": [
    "head(sample_distribution[sample_distribution$display_name == '1.1',], 2)"
   ]
  },
  {
   "cell_type": "code",
   "execution_count": 109,
   "id": "f53ff20e-fcd1-4b57-ae1d-3500f0088a04",
   "metadata": {},
   "outputs": [],
   "source": [
    "save_name = 'B4_Distribution_Cluster_Sample_cell_type_Scanorama_clr'"
   ]
  },
  {
   "cell_type": "code",
   "execution_count": 110,
   "id": "a8de42d6-77c1-4e39-bad4-b071b816fd1f",
   "metadata": {},
   "outputs": [],
   "source": [
    "write.csv(sample_distribution, paste(result_path ,'/B-Analysis/',  save_name, '.csv' , sep = ''))"
   ]
  },
  {
   "cell_type": "code",
   "execution_count": 111,
   "id": "78cd4872-b224-4d69-8964-3e7b795b795b",
   "metadata": {},
   "outputs": [],
   "source": [
    "### Prepare as supplementary table"
   ]
  },
  {
   "cell_type": "code",
   "execution_count": 112,
   "id": "9fd57e2c-572a-4132-bea5-5d105b5e9a72",
   "metadata": {},
   "outputs": [],
   "source": [
    "colnames(sample_distribution) = c('sample_id', 'group', 'amount_cells_total', 'cell_type_cluster', 'amount_cells_cluster', 'percentage_cells_cluster', 'percentage_cells_cluster_clr')"
   ]
  },
  {
   "cell_type": "code",
   "execution_count": 113,
   "id": "26807e02-3dba-4191-a006-0e4214c0593a",
   "metadata": {},
   "outputs": [],
   "source": [
    "sample_distribution$sample = str_replace(sample_distribution$sample_id, '\\\\..*', '')\n",
    "sample_distribution$TP = str_extract(sample_distribution$sample_id, '\\\\..*')\n",
    "sample_distribution$sample[is.na(sample_distribution$TP)] = paste0('K', sample_distribution$sample[is.na(sample_distribution$TP)])\n",
    "sample_distribution$sample[!is.na(sample_distribution$TP)] = paste0('M', sample_distribution$sample[!is.na(sample_distribution$TP)])\n",
    "\n",
    "sample_distribution$TP[is.na(sample_distribution$TP)] = '.0'"
   ]
  },
  {
   "cell_type": "code",
   "execution_count": 114,
   "id": "089353ad-016c-4aaf-8290-c1b197d73c5d",
   "metadata": {},
   "outputs": [],
   "source": [
    "sample_distribution$TP = str_replace(sample_distribution$TP , '\\\\.', '')"
   ]
  },
  {
   "cell_type": "code",
   "execution_count": 115,
   "id": "1835c791-894b-48f5-aecb-687f49bc54ba",
   "metadata": {},
   "outputs": [],
   "source": [
    "sample_distribution$TP  = paste0('TP', sample_distribution$TP )"
   ]
  },
  {
   "cell_type": "code",
   "execution_count": 116,
   "id": "6e4e89e8-eb82-4604-8b6d-2e904f9d3779",
   "metadata": {},
   "outputs": [
    {
     "data": {
      "text/html": [
       "<table class=\"dataframe\">\n",
       "<caption>A data.frame: 2 × 9</caption>\n",
       "<thead>\n",
       "\t<tr><th></th><th scope=col>sample_id</th><th scope=col>group</th><th scope=col>amount_cells_total</th><th scope=col>cell_type_cluster</th><th scope=col>amount_cells_cluster</th><th scope=col>percentage_cells_cluster</th><th scope=col>percentage_cells_cluster_clr</th><th scope=col>sample</th><th scope=col>TP</th></tr>\n",
       "\t<tr><th></th><th scope=col>&lt;dbl&gt;</th><th scope=col>&lt;chr&gt;</th><th scope=col>&lt;int&gt;</th><th scope=col>&lt;int&gt;</th><th scope=col>&lt;int&gt;</th><th scope=col>&lt;dbl&gt;</th><th scope=col>&lt;dbl&gt;</th><th scope=col>&lt;chr&gt;</th><th scope=col>&lt;chr&gt;</th></tr>\n",
       "</thead>\n",
       "<tbody>\n",
       "\t<tr><th scope=row>1</th><td>1.1</td><td>acs_subacute</td><td>2126</td><td>0</td><td>398</td><td>0.19</td><td>1.4807037</td><td>M1</td><td>TP1</td></tr>\n",
       "\t<tr><th scope=row>2</th><td>1.1</td><td>acs_subacute</td><td>2126</td><td>1</td><td>156</td><td>0.07</td><td>0.4821749</td><td>M1</td><td>TP1</td></tr>\n",
       "</tbody>\n",
       "</table>\n"
      ],
      "text/latex": [
       "A data.frame: 2 × 9\n",
       "\\begin{tabular}{r|lllllllll}\n",
       "  & sample\\_id & group & amount\\_cells\\_total & cell\\_type\\_cluster & amount\\_cells\\_cluster & percentage\\_cells\\_cluster & percentage\\_cells\\_cluster\\_clr & sample & TP\\\\\n",
       "  & <dbl> & <chr> & <int> & <int> & <int> & <dbl> & <dbl> & <chr> & <chr>\\\\\n",
       "\\hline\n",
       "\t1 & 1.1 & acs\\_subacute & 2126 & 0 & 398 & 0.19 & 1.4807037 & M1 & TP1\\\\\n",
       "\t2 & 1.1 & acs\\_subacute & 2126 & 1 & 156 & 0.07 & 0.4821749 & M1 & TP1\\\\\n",
       "\\end{tabular}\n"
      ],
      "text/markdown": [
       "\n",
       "A data.frame: 2 × 9\n",
       "\n",
       "| <!--/--> | sample_id &lt;dbl&gt; | group &lt;chr&gt; | amount_cells_total &lt;int&gt; | cell_type_cluster &lt;int&gt; | amount_cells_cluster &lt;int&gt; | percentage_cells_cluster &lt;dbl&gt; | percentage_cells_cluster_clr &lt;dbl&gt; | sample &lt;chr&gt; | TP &lt;chr&gt; |\n",
       "|---|---|---|---|---|---|---|---|---|---|\n",
       "| 1 | 1.1 | acs_subacute | 2126 | 0 | 398 | 0.19 | 1.4807037 | M1 | TP1 |\n",
       "| 2 | 1.1 | acs_subacute | 2126 | 1 | 156 | 0.07 | 0.4821749 | M1 | TP1 |\n",
       "\n"
      ],
      "text/plain": [
       "  sample_id group        amount_cells_total cell_type_cluster\n",
       "1 1.1       acs_subacute 2126               0                \n",
       "2 1.1       acs_subacute 2126               1                \n",
       "  amount_cells_cluster percentage_cells_cluster percentage_cells_cluster_clr\n",
       "1 398                  0.19                     1.4807037                   \n",
       "2 156                  0.07                     0.4821749                   \n",
       "  sample TP \n",
       "1 M1     TP1\n",
       "2 M1     TP1"
      ]
     },
     "metadata": {},
     "output_type": "display_data"
    }
   ],
   "source": [
    "head(sample_distribution,2)"
   ]
  },
  {
   "cell_type": "code",
   "execution_count": 117,
   "id": "94d28096-1aa2-4284-9c90-cdc1b16e64e2",
   "metadata": {},
   "outputs": [
    {
     "data": {
      "text/html": [
       "<style>\n",
       ".list-inline {list-style: none; margin:0; padding: 0}\n",
       ".list-inline>li {display: inline-block}\n",
       ".list-inline>li:not(:last-child)::after {content: \"\\00b7\"; padding: 0 .5ex}\n",
       "</style>\n",
       "<ol class=list-inline><li>'TP1'</li><li>'TP0'</li><li>'TP2'</li><li>'TP3'</li><li>'TP4'</li></ol>\n"
      ],
      "text/latex": [
       "\\begin{enumerate*}\n",
       "\\item 'TP1'\n",
       "\\item 'TP0'\n",
       "\\item 'TP2'\n",
       "\\item 'TP3'\n",
       "\\item 'TP4'\n",
       "\\end{enumerate*}\n"
      ],
      "text/markdown": [
       "1. 'TP1'\n",
       "2. 'TP0'\n",
       "3. 'TP2'\n",
       "4. 'TP3'\n",
       "5. 'TP4'\n",
       "\n",
       "\n"
      ],
      "text/plain": [
       "[1] \"TP1\" \"TP0\" \"TP2\" \"TP3\" \"TP4\""
      ]
     },
     "metadata": {},
     "output_type": "display_data"
    }
   ],
   "source": [
    "unique(sample_distribution$TP)"
   ]
  },
  {
   "cell_type": "code",
   "execution_count": 118,
   "id": "40a4ddc9-cf51-41a5-9777-c243b6e024ea",
   "metadata": {},
   "outputs": [],
   "source": [
    "save_name = 'B4_Distribution_Cluster_Sample_cell_type_Scanorama_clr'"
   ]
  },
  {
   "cell_type": "code",
   "execution_count": 119,
   "id": "8dfb39b0-68a7-4b59-a476-bb2affac4b33",
   "metadata": {},
   "outputs": [],
   "source": [
    "write.csv(sample_distribution, paste(result_path ,'/Supplementary/',  save_name, '.csv' , sep = ''))"
   ]
  },
  {
   "cell_type": "markdown",
   "id": "7d8685bd-6ad7-4cbb-9842-bd1344cc0b94",
   "metadata": {},
   "source": [
    "### for FACS DATA"
   ]
  },
  {
   "cell_type": "code",
   "execution_count": 121,
   "id": "77fc6207-d826-41ed-9ea8-e675130ed3de",
   "metadata": {},
   "outputs": [],
   "source": [
    "# Granularity Level 1"
   ]
  },
  {
   "cell_type": "code",
   "execution_count": 122,
   "id": "9c1a2f60-37b9-4905-827d-facf6ca794d3",
   "metadata": {},
   "outputs": [
    {
     "data": {
      "text/html": [
       "<table class=\"dataframe\">\n",
       "<caption>A data.frame: 2 × 6</caption>\n",
       "<thead>\n",
       "\t<tr><th></th><th scope=col>sample</th><th scope=col>TP</th><th scope=col>type</th><th scope=col>percentage</th><th scope=col>perc_cor</th><th scope=col>sample_id</th></tr>\n",
       "\t<tr><th></th><th scope=col>&lt;chr&gt;</th><th scope=col>&lt;chr&gt;</th><th scope=col>&lt;chr&gt;</th><th scope=col>&lt;chr&gt;</th><th scope=col>&lt;dbl&gt;</th><th scope=col>&lt;chr&gt;</th></tr>\n",
       "</thead>\n",
       "<tbody>\n",
       "\t<tr><th scope=row>293</th><td>K2</td><td>TP0</td><td>HLADR+</td><td>0,97 %</td><td>0.97</td><td>K2_TP0</td></tr>\n",
       "\t<tr><th scope=row>294</th><td>K4</td><td>TP0</td><td>HLADR+</td><td>3,38 %</td><td>3.38</td><td>K4_TP0</td></tr>\n",
       "</tbody>\n",
       "</table>\n"
      ],
      "text/latex": [
       "A data.frame: 2 × 6\n",
       "\\begin{tabular}{r|llllll}\n",
       "  & sample & TP & type & percentage & perc\\_cor & sample\\_id\\\\\n",
       "  & <chr> & <chr> & <chr> & <chr> & <dbl> & <chr>\\\\\n",
       "\\hline\n",
       "\t293 & K2 & TP0 & HLADR+ & 0,97 \\% & 0.97 & K2\\_TP0\\\\\n",
       "\t294 & K4 & TP0 & HLADR+ & 3,38 \\% & 3.38 & K4\\_TP0\\\\\n",
       "\\end{tabular}\n"
      ],
      "text/markdown": [
       "\n",
       "A data.frame: 2 × 6\n",
       "\n",
       "| <!--/--> | sample &lt;chr&gt; | TP &lt;chr&gt; | type &lt;chr&gt; | percentage &lt;chr&gt; | perc_cor &lt;dbl&gt; | sample_id &lt;chr&gt; |\n",
       "|---|---|---|---|---|---|---|\n",
       "| 293 | K2 | TP0 | HLADR+ | 0,97 % | 0.97 | K2_TP0 |\n",
       "| 294 | K4 | TP0 | HLADR+ | 3,38 % | 3.38 | K4_TP0 |\n",
       "\n"
      ],
      "text/plain": [
       "    sample TP  type   percentage perc_cor sample_id\n",
       "293 K2     TP0 HLADR+ 0,97 %     0.97     K2_TP0   \n",
       "294 K4     TP0 HLADR+ 3,38 %     3.38     K4_TP0   "
      ]
     },
     "metadata": {},
     "output_type": "display_data"
    }
   ],
   "source": [
    "head(facs_data_gran1,2)"
   ]
  },
  {
   "cell_type": "code",
   "execution_count": 123,
   "id": "f8d97ba0-318f-4718-9008-4b72007438ef",
   "metadata": {},
   "outputs": [],
   "source": [
    "for ( i in unique(facs_data_gran1$sample_id)){\n",
    "    clr_data = facs_data_gran1[facs_data_gran1$sample_id == i,]\n",
    "    percentage_clr = clr(clr_data$perc_cor)\n",
    "    \n",
    "    facs_data_gran1[facs_data_gran1$sample_id == i,'percentage_clr'] = percentage_clr\n",
    "    }"
   ]
  },
  {
   "cell_type": "code",
   "execution_count": 124,
   "id": "bbb1aa9e-afe0-476b-9c1a-6b112415dc14",
   "metadata": {},
   "outputs": [
    {
     "data": {
      "text/html": [
       "<table class=\"dataframe\">\n",
       "<caption>A data.frame: 6 × 7</caption>\n",
       "<thead>\n",
       "\t<tr><th></th><th scope=col>sample</th><th scope=col>TP</th><th scope=col>type</th><th scope=col>percentage</th><th scope=col>perc_cor</th><th scope=col>sample_id</th><th scope=col>percentage_clr</th></tr>\n",
       "\t<tr><th></th><th scope=col>&lt;chr&gt;</th><th scope=col>&lt;chr&gt;</th><th scope=col>&lt;chr&gt;</th><th scope=col>&lt;chr&gt;</th><th scope=col>&lt;dbl&gt;</th><th scope=col>&lt;chr&gt;</th><th scope=col>&lt;dbl&gt;</th></tr>\n",
       "</thead>\n",
       "<tbody>\n",
       "\t<tr><th scope=row>294</th><td>K4</td><td>TP0</td><td>HLADR+     </td><td>3,38 %</td><td> 3.38</td><td>K4_TP0</td><td>-1.1392778</td></tr>\n",
       "\t<tr><th scope=row>728</th><td>K4</td><td>TP0</td><td>CD56+      </td><td>19,6 %</td><td>19.60</td><td>K4_TP0</td><td> 0.6183761</td></tr>\n",
       "\t<tr><th scope=row>1312</th><td>K4</td><td>TP0</td><td>CD14+      </td><td>26,6 %</td><td>26.60</td><td>K4_TP0</td><td> 0.9237578</td></tr>\n",
       "\t<tr><th scope=row>1458</th><td>K4</td><td>TP0</td><td>CD19+      </td><td>4,00 %</td><td> 4.00</td><td>K4_TP0</td><td>-0.9708591</td></tr>\n",
       "\t<tr><th scope=row>2184</th><td>K4</td><td>TP0</td><td>CD3+       </td><td>41,7 %</td><td>41.70</td><td>K4_TP0</td><td> 1.3733477</td></tr>\n",
       "\t<tr><th scope=row>29</th><td>K4</td><td>TP0</td><td>NA_assigned</td><td>4.72  </td><td> 4.72</td><td>K4_TP0</td><td>-0.8053447</td></tr>\n",
       "</tbody>\n",
       "</table>\n"
      ],
      "text/latex": [
       "A data.frame: 6 × 7\n",
       "\\begin{tabular}{r|lllllll}\n",
       "  & sample & TP & type & percentage & perc\\_cor & sample\\_id & percentage\\_clr\\\\\n",
       "  & <chr> & <chr> & <chr> & <chr> & <dbl> & <chr> & <dbl>\\\\\n",
       "\\hline\n",
       "\t294 & K4 & TP0 & HLADR+      & 3,38 \\% &  3.38 & K4\\_TP0 & -1.1392778\\\\\n",
       "\t728 & K4 & TP0 & CD56+       & 19,6 \\% & 19.60 & K4\\_TP0 &  0.6183761\\\\\n",
       "\t1312 & K4 & TP0 & CD14+       & 26,6 \\% & 26.60 & K4\\_TP0 &  0.9237578\\\\\n",
       "\t1458 & K4 & TP0 & CD19+       & 4,00 \\% &  4.00 & K4\\_TP0 & -0.9708591\\\\\n",
       "\t2184 & K4 & TP0 & CD3+        & 41,7 \\% & 41.70 & K4\\_TP0 &  1.3733477\\\\\n",
       "\t29 & K4 & TP0 & NA\\_assigned & 4.72   &  4.72 & K4\\_TP0 & -0.8053447\\\\\n",
       "\\end{tabular}\n"
      ],
      "text/markdown": [
       "\n",
       "A data.frame: 6 × 7\n",
       "\n",
       "| <!--/--> | sample &lt;chr&gt; | TP &lt;chr&gt; | type &lt;chr&gt; | percentage &lt;chr&gt; | perc_cor &lt;dbl&gt; | sample_id &lt;chr&gt; | percentage_clr &lt;dbl&gt; |\n",
       "|---|---|---|---|---|---|---|---|\n",
       "| 294 | K4 | TP0 | HLADR+      | 3,38 % |  3.38 | K4_TP0 | -1.1392778 |\n",
       "| 728 | K4 | TP0 | CD56+       | 19,6 % | 19.60 | K4_TP0 |  0.6183761 |\n",
       "| 1312 | K4 | TP0 | CD14+       | 26,6 % | 26.60 | K4_TP0 |  0.9237578 |\n",
       "| 1458 | K4 | TP0 | CD19+       | 4,00 % |  4.00 | K4_TP0 | -0.9708591 |\n",
       "| 2184 | K4 | TP0 | CD3+        | 41,7 % | 41.70 | K4_TP0 |  1.3733477 |\n",
       "| 29 | K4 | TP0 | NA_assigned | 4.72   |  4.72 | K4_TP0 | -0.8053447 |\n",
       "\n"
      ],
      "text/plain": [
       "     sample TP  type        percentage perc_cor sample_id percentage_clr\n",
       "294  K4     TP0 HLADR+      3,38 %      3.38    K4_TP0    -1.1392778    \n",
       "728  K4     TP0 CD56+       19,6 %     19.60    K4_TP0     0.6183761    \n",
       "1312 K4     TP0 CD14+       26,6 %     26.60    K4_TP0     0.9237578    \n",
       "1458 K4     TP0 CD19+       4,00 %      4.00    K4_TP0    -0.9708591    \n",
       "2184 K4     TP0 CD3+        41,7 %     41.70    K4_TP0     1.3733477    \n",
       "29   K4     TP0 NA_assigned 4.72        4.72    K4_TP0    -0.8053447    "
      ]
     },
     "metadata": {},
     "output_type": "display_data"
    }
   ],
   "source": [
    "head(facs_data_gran1[facs_data_gran1$sample == 'K4',], 10)"
   ]
  },
  {
   "cell_type": "code",
   "execution_count": 125,
   "id": "88d1482a-df7e-4d93-8bd8-0dc3036976e4",
   "metadata": {},
   "outputs": [],
   "source": [
    "### Prepare as supplementary table"
   ]
  },
  {
   "cell_type": "code",
   "execution_count": 126,
   "id": "7b0ebbed-9cb3-4a16-aae1-2206df67d81d",
   "metadata": {},
   "outputs": [],
   "source": [
    "colnames(facs_data_gran1) = c('sample', 'TP', 'cell_type_facs_granularity1', 'percentage', 'percentage_numeric', 'sample_id', 'percentage_clr')"
   ]
  },
  {
   "cell_type": "code",
   "execution_count": 127,
   "id": "913a49ae-a7f4-4bf4-be85-a71aafccd74b",
   "metadata": {},
   "outputs": [],
   "source": [
    "save_name = 'B4_FACS_Distribution_Sample_cell_type_granularity1_clr'"
   ]
  },
  {
   "cell_type": "code",
   "execution_count": 128,
   "id": "821785fb-8421-44aa-bc49-53dd801051b3",
   "metadata": {},
   "outputs": [],
   "source": [
    "write.csv(facs_data_gran1, paste(result_path ,'/Supplementary/',  save_name, '.csv' , sep = ''))"
   ]
  },
  {
   "cell_type": "code",
   "execution_count": 129,
   "id": "ee7fd74a-c5f3-45d7-b96c-e322ca111f52",
   "metadata": {},
   "outputs": [
    {
     "data": {
      "text/html": [
       "<table class=\"dataframe\">\n",
       "<caption>A data.frame: 2 × 7</caption>\n",
       "<thead>\n",
       "\t<tr><th></th><th scope=col>sample</th><th scope=col>TP</th><th scope=col>cell_type_facs_granularity1</th><th scope=col>percentage</th><th scope=col>percentage_numeric</th><th scope=col>sample_id</th><th scope=col>percentage_clr</th></tr>\n",
       "\t<tr><th></th><th scope=col>&lt;chr&gt;</th><th scope=col>&lt;chr&gt;</th><th scope=col>&lt;chr&gt;</th><th scope=col>&lt;chr&gt;</th><th scope=col>&lt;dbl&gt;</th><th scope=col>&lt;chr&gt;</th><th scope=col>&lt;dbl&gt;</th></tr>\n",
       "</thead>\n",
       "<tbody>\n",
       "\t<tr><th scope=row>293</th><td>K2</td><td>TP0</td><td>HLADR+</td><td>0,97 %</td><td>0.97</td><td>K2_TP0</td><td>-1.953017</td></tr>\n",
       "\t<tr><th scope=row>294</th><td>K4</td><td>TP0</td><td>HLADR+</td><td>3,38 %</td><td>3.38</td><td>K4_TP0</td><td>-1.139278</td></tr>\n",
       "</tbody>\n",
       "</table>\n"
      ],
      "text/latex": [
       "A data.frame: 2 × 7\n",
       "\\begin{tabular}{r|lllllll}\n",
       "  & sample & TP & cell\\_type\\_facs\\_granularity1 & percentage & percentage\\_numeric & sample\\_id & percentage\\_clr\\\\\n",
       "  & <chr> & <chr> & <chr> & <chr> & <dbl> & <chr> & <dbl>\\\\\n",
       "\\hline\n",
       "\t293 & K2 & TP0 & HLADR+ & 0,97 \\% & 0.97 & K2\\_TP0 & -1.953017\\\\\n",
       "\t294 & K4 & TP0 & HLADR+ & 3,38 \\% & 3.38 & K4\\_TP0 & -1.139278\\\\\n",
       "\\end{tabular}\n"
      ],
      "text/markdown": [
       "\n",
       "A data.frame: 2 × 7\n",
       "\n",
       "| <!--/--> | sample &lt;chr&gt; | TP &lt;chr&gt; | cell_type_facs_granularity1 &lt;chr&gt; | percentage &lt;chr&gt; | percentage_numeric &lt;dbl&gt; | sample_id &lt;chr&gt; | percentage_clr &lt;dbl&gt; |\n",
       "|---|---|---|---|---|---|---|---|\n",
       "| 293 | K2 | TP0 | HLADR+ | 0,97 % | 0.97 | K2_TP0 | -1.953017 |\n",
       "| 294 | K4 | TP0 | HLADR+ | 3,38 % | 3.38 | K4_TP0 | -1.139278 |\n",
       "\n"
      ],
      "text/plain": [
       "    sample TP  cell_type_facs_granularity1 percentage percentage_numeric\n",
       "293 K2     TP0 HLADR+                      0,97 %     0.97              \n",
       "294 K4     TP0 HLADR+                      3,38 %     3.38              \n",
       "    sample_id percentage_clr\n",
       "293 K2_TP0    -1.953017     \n",
       "294 K4_TP0    -1.139278     "
      ]
     },
     "metadata": {},
     "output_type": "display_data"
    }
   ],
   "source": [
    "head(facs_data_gran1,2)"
   ]
  },
  {
   "cell_type": "code",
   "execution_count": 130,
   "id": "d86ff9d8-5f26-411f-b91f-128bf004b958",
   "metadata": {},
   "outputs": [],
   "source": [
    "# Granularity Level 2"
   ]
  },
  {
   "cell_type": "code",
   "execution_count": 131,
   "id": "c31d14a6-b26e-4bd4-aab5-5e18adfaedfa",
   "metadata": {},
   "outputs": [
    {
     "data": {
      "text/html": [
       "<table class=\"dataframe\">\n",
       "<caption>A data.frame: 2 × 6</caption>\n",
       "<thead>\n",
       "\t<tr><th></th><th scope=col>sample</th><th scope=col>TP</th><th scope=col>type</th><th scope=col>percentage</th><th scope=col>perc_cor</th><th scope=col>sample_id</th></tr>\n",
       "\t<tr><th></th><th scope=col>&lt;chr&gt;</th><th scope=col>&lt;chr&gt;</th><th scope=col>&lt;chr&gt;</th><th scope=col>&lt;chr&gt;</th><th scope=col>&lt;dbl&gt;</th><th scope=col>&lt;chr&gt;</th></tr>\n",
       "</thead>\n",
       "<tbody>\n",
       "\t<tr><th scope=row>1</th><td>K2</td><td>TP0</td><td>pDCs</td><td>0,27 %</td><td>0.27</td><td>K2_TP0</td></tr>\n",
       "\t<tr><th scope=row>2</th><td>K4</td><td>TP0</td><td>pDCs</td><td>0,79 %</td><td>0.79</td><td>K4_TP0</td></tr>\n",
       "</tbody>\n",
       "</table>\n"
      ],
      "text/latex": [
       "A data.frame: 2 × 6\n",
       "\\begin{tabular}{r|llllll}\n",
       "  & sample & TP & type & percentage & perc\\_cor & sample\\_id\\\\\n",
       "  & <chr> & <chr> & <chr> & <chr> & <dbl> & <chr>\\\\\n",
       "\\hline\n",
       "\t1 & K2 & TP0 & pDCs & 0,27 \\% & 0.27 & K2\\_TP0\\\\\n",
       "\t2 & K4 & TP0 & pDCs & 0,79 \\% & 0.79 & K4\\_TP0\\\\\n",
       "\\end{tabular}\n"
      ],
      "text/markdown": [
       "\n",
       "A data.frame: 2 × 6\n",
       "\n",
       "| <!--/--> | sample &lt;chr&gt; | TP &lt;chr&gt; | type &lt;chr&gt; | percentage &lt;chr&gt; | perc_cor &lt;dbl&gt; | sample_id &lt;chr&gt; |\n",
       "|---|---|---|---|---|---|---|\n",
       "| 1 | K2 | TP0 | pDCs | 0,27 % | 0.27 | K2_TP0 |\n",
       "| 2 | K4 | TP0 | pDCs | 0,79 % | 0.79 | K4_TP0 |\n",
       "\n"
      ],
      "text/plain": [
       "  sample TP  type percentage perc_cor sample_id\n",
       "1 K2     TP0 pDCs 0,27 %     0.27     K2_TP0   \n",
       "2 K4     TP0 pDCs 0,79 %     0.79     K4_TP0   "
      ]
     },
     "metadata": {},
     "output_type": "display_data"
    }
   ],
   "source": [
    "head(facs_data_gran2,2)"
   ]
  },
  {
   "cell_type": "code",
   "execution_count": 132,
   "id": "8ff1faaf-6d59-40fa-ae87-0ec147241c2f",
   "metadata": {},
   "outputs": [],
   "source": [
    "for ( i in unique(facs_data_gran2$sample_id)){\n",
    "    clr_data = facs_data_gran2[facs_data_gran2$sample_id == i,]\n",
    "    percentage_clr = clr(clr_data$perc_cor)\n",
    "    \n",
    "    facs_data_gran2[facs_data_gran2$sample_id == i,'percentage_clr'] = percentage_clr\n",
    "    }"
   ]
  },
  {
   "cell_type": "code",
   "execution_count": 133,
   "id": "d44e3570-48fa-468e-beeb-8d7c73d033b4",
   "metadata": {},
   "outputs": [
    {
     "data": {
      "text/html": [
       "<table class=\"dataframe\">\n",
       "<caption>A data.frame: 5 × 7</caption>\n",
       "<thead>\n",
       "\t<tr><th></th><th scope=col>sample</th><th scope=col>TP</th><th scope=col>type</th><th scope=col>percentage</th><th scope=col>perc_cor</th><th scope=col>sample_id</th><th scope=col>percentage_clr</th></tr>\n",
       "\t<tr><th></th><th scope=col>&lt;chr&gt;</th><th scope=col>&lt;chr&gt;</th><th scope=col>&lt;chr&gt;</th><th scope=col>&lt;chr&gt;</th><th scope=col>&lt;dbl&gt;</th><th scope=col>&lt;chr&gt;</th><th scope=col>&lt;dbl&gt;</th></tr>\n",
       "</thead>\n",
       "<tbody>\n",
       "\t<tr><th scope=row>2</th><td>K4</td><td>TP0</td><td>pDCs         </td><td>0,79 %</td><td> 0.79</td><td>K4_TP0</td><td>-1.22209015</td></tr>\n",
       "\t<tr><th scope=row>148</th><td>K4</td><td>TP0</td><td>mDCs         </td><td>2,59 %</td><td> 2.59</td><td>K4_TP0</td><td>-0.03470994</td></tr>\n",
       "\t<tr><th scope=row>440</th><td>K4</td><td>TP0</td><td>CD56+d       </td><td>19,0 %</td><td>19.00</td><td>K4_TP0</td><td> 1.95807116</td></tr>\n",
       "\t<tr><th scope=row>582</th><td>K4</td><td>TP0</td><td>CD56+b       </td><td>0,63 %</td><td> 0.63</td><td>K4_TP0</td><td>-1.44840328</td></tr>\n",
       "\t<tr><th scope=row>874</th><td>K4</td><td>TP0</td><td>nonclassicalM</td><td>0,30 %</td><td> 0.30</td><td>K4_TP0</td><td>-2.19034062</td></tr>\n",
       "</tbody>\n",
       "</table>\n"
      ],
      "text/latex": [
       "A data.frame: 5 × 7\n",
       "\\begin{tabular}{r|lllllll}\n",
       "  & sample & TP & type & percentage & perc\\_cor & sample\\_id & percentage\\_clr\\\\\n",
       "  & <chr> & <chr> & <chr> & <chr> & <dbl> & <chr> & <dbl>\\\\\n",
       "\\hline\n",
       "\t2 & K4 & TP0 & pDCs          & 0,79 \\% &  0.79 & K4\\_TP0 & -1.22209015\\\\\n",
       "\t148 & K4 & TP0 & mDCs          & 2,59 \\% &  2.59 & K4\\_TP0 & -0.03470994\\\\\n",
       "\t440 & K4 & TP0 & CD56+d        & 19,0 \\% & 19.00 & K4\\_TP0 &  1.95807116\\\\\n",
       "\t582 & K4 & TP0 & CD56+b        & 0,63 \\% &  0.63 & K4\\_TP0 & -1.44840328\\\\\n",
       "\t874 & K4 & TP0 & nonclassicalM & 0,30 \\% &  0.30 & K4\\_TP0 & -2.19034062\\\\\n",
       "\\end{tabular}\n"
      ],
      "text/markdown": [
       "\n",
       "A data.frame: 5 × 7\n",
       "\n",
       "| <!--/--> | sample &lt;chr&gt; | TP &lt;chr&gt; | type &lt;chr&gt; | percentage &lt;chr&gt; | perc_cor &lt;dbl&gt; | sample_id &lt;chr&gt; | percentage_clr &lt;dbl&gt; |\n",
       "|---|---|---|---|---|---|---|---|\n",
       "| 2 | K4 | TP0 | pDCs          | 0,79 % |  0.79 | K4_TP0 | -1.22209015 |\n",
       "| 148 | K4 | TP0 | mDCs          | 2,59 % |  2.59 | K4_TP0 | -0.03470994 |\n",
       "| 440 | K4 | TP0 | CD56+d        | 19,0 % | 19.00 | K4_TP0 |  1.95807116 |\n",
       "| 582 | K4 | TP0 | CD56+b        | 0,63 % |  0.63 | K4_TP0 | -1.44840328 |\n",
       "| 874 | K4 | TP0 | nonclassicalM | 0,30 % |  0.30 | K4_TP0 | -2.19034062 |\n",
       "\n"
      ],
      "text/plain": [
       "    sample TP  type          percentage perc_cor sample_id percentage_clr\n",
       "2   K4     TP0 pDCs          0,79 %      0.79    K4_TP0    -1.22209015   \n",
       "148 K4     TP0 mDCs          2,59 %      2.59    K4_TP0    -0.03470994   \n",
       "440 K4     TP0 CD56+d        19,0 %     19.00    K4_TP0     1.95807116   \n",
       "582 K4     TP0 CD56+b        0,63 %      0.63    K4_TP0    -1.44840328   \n",
       "874 K4     TP0 nonclassicalM 0,30 %      0.30    K4_TP0    -2.19034062   "
      ]
     },
     "metadata": {},
     "output_type": "display_data"
    }
   ],
   "source": [
    "head(facs_data_gran2[facs_data_gran2$sample == 'K4',], 5)"
   ]
  },
  {
   "cell_type": "code",
   "execution_count": 135,
   "id": "dc3d8623-0b8d-49a6-8e4f-f788530c11b6",
   "metadata": {},
   "outputs": [],
   "source": [
    "### Prepare as supplementary table"
   ]
  },
  {
   "cell_type": "code",
   "execution_count": 136,
   "id": "b2f11d25-c50c-4909-8533-05082b0817e0",
   "metadata": {},
   "outputs": [],
   "source": [
    "colnames(facs_data_gran2) = c('sample', 'TP', 'cell_type_facs_granularity2', 'percentage', 'percentage_numeric', 'sample_id', 'percentage_clr')"
   ]
  },
  {
   "cell_type": "code",
   "execution_count": 137,
   "id": "b67e1e2d-eadf-43f9-83a4-d8512e6b1e5e",
   "metadata": {},
   "outputs": [],
   "source": [
    "save_name = 'B4_FACS_Distribution_Sample_cell_type_granularity2_clr'"
   ]
  },
  {
   "cell_type": "code",
   "execution_count": 138,
   "id": "5f2c504c-bd7b-4a5d-acde-e66a3646685c",
   "metadata": {},
   "outputs": [],
   "source": [
    "write.csv(facs_data_gran2, paste(result_path ,'/Supplementary/',  save_name, '.csv' , sep = ''))"
   ]
  },
  {
   "cell_type": "code",
   "execution_count": 139,
   "id": "e5d1122d-40eb-47b2-af3a-e1c6c22f8ed3",
   "metadata": {},
   "outputs": [
    {
     "data": {
      "text/html": [
       "'/groups/umcg-franke-scrna/tmp01/users/umcg-closert/stemi/data/results/'"
      ],
      "text/latex": [
       "'/groups/umcg-franke-scrna/tmp01/users/umcg-closert/stemi/data/results/'"
      ],
      "text/markdown": [
       "'/groups/umcg-franke-scrna/tmp01/users/umcg-closert/stemi/data/results/'"
      ],
      "text/plain": [
       "[1] \"/groups/umcg-franke-scrna/tmp01/users/umcg-closert/stemi/data/results/\""
      ]
     },
     "metadata": {},
     "output_type": "display_data"
    }
   ],
   "source": [
    "result_path"
   ]
  },
  {
   "cell_type": "code",
   "execution_count": 140,
   "id": "31932f69-4d37-40e6-a1b6-808b870f66d2",
   "metadata": {},
   "outputs": [
    {
     "data": {
      "text/html": [
       "<table class=\"dataframe\">\n",
       "<caption>A data.frame: 2 × 7</caption>\n",
       "<thead>\n",
       "\t<tr><th></th><th scope=col>sample</th><th scope=col>TP</th><th scope=col>cell_type_facs_granularity2</th><th scope=col>percentage</th><th scope=col>percentage_numeric</th><th scope=col>sample_id</th><th scope=col>percentage_clr</th></tr>\n",
       "\t<tr><th></th><th scope=col>&lt;chr&gt;</th><th scope=col>&lt;chr&gt;</th><th scope=col>&lt;chr&gt;</th><th scope=col>&lt;chr&gt;</th><th scope=col>&lt;dbl&gt;</th><th scope=col>&lt;chr&gt;</th><th scope=col>&lt;dbl&gt;</th></tr>\n",
       "</thead>\n",
       "<tbody>\n",
       "\t<tr><th scope=row>1</th><td>K2</td><td>TP0</td><td>pDCs</td><td>0,27 %</td><td>0.27</td><td>K2_TP0</td><td>-2.215574</td></tr>\n",
       "\t<tr><th scope=row>2</th><td>K4</td><td>TP0</td><td>pDCs</td><td>0,79 %</td><td>0.79</td><td>K4_TP0</td><td>-1.222090</td></tr>\n",
       "</tbody>\n",
       "</table>\n"
      ],
      "text/latex": [
       "A data.frame: 2 × 7\n",
       "\\begin{tabular}{r|lllllll}\n",
       "  & sample & TP & cell\\_type\\_facs\\_granularity2 & percentage & percentage\\_numeric & sample\\_id & percentage\\_clr\\\\\n",
       "  & <chr> & <chr> & <chr> & <chr> & <dbl> & <chr> & <dbl>\\\\\n",
       "\\hline\n",
       "\t1 & K2 & TP0 & pDCs & 0,27 \\% & 0.27 & K2\\_TP0 & -2.215574\\\\\n",
       "\t2 & K4 & TP0 & pDCs & 0,79 \\% & 0.79 & K4\\_TP0 & -1.222090\\\\\n",
       "\\end{tabular}\n"
      ],
      "text/markdown": [
       "\n",
       "A data.frame: 2 × 7\n",
       "\n",
       "| <!--/--> | sample &lt;chr&gt; | TP &lt;chr&gt; | cell_type_facs_granularity2 &lt;chr&gt; | percentage &lt;chr&gt; | percentage_numeric &lt;dbl&gt; | sample_id &lt;chr&gt; | percentage_clr &lt;dbl&gt; |\n",
       "|---|---|---|---|---|---|---|---|\n",
       "| 1 | K2 | TP0 | pDCs | 0,27 % | 0.27 | K2_TP0 | -2.215574 |\n",
       "| 2 | K4 | TP0 | pDCs | 0,79 % | 0.79 | K4_TP0 | -1.222090 |\n",
       "\n"
      ],
      "text/plain": [
       "  sample TP  cell_type_facs_granularity2 percentage percentage_numeric\n",
       "1 K2     TP0 pDCs                        0,27 %     0.27              \n",
       "2 K4     TP0 pDCs                        0,79 %     0.79              \n",
       "  sample_id percentage_clr\n",
       "1 K2_TP0    -2.215574     \n",
       "2 K4_TP0    -1.222090     "
      ]
     },
     "metadata": {},
     "output_type": "display_data"
    }
   ],
   "source": [
    "head(facs_data_gran2,2)"
   ]
  }
 ],
 "metadata": {
  "kernelspec": {
   "display_name": "R",
   "language": "R",
   "name": "ir"
  },
  "language_info": {
   "codemirror_mode": "r",
   "file_extension": ".r",
   "mimetype": "text/x-r-source",
   "name": "R",
   "pygments_lexer": "r",
   "version": "4.1.1"
  },
  "toc-autonumbering": true,
  "toc-showcode": false,
  "toc-showmarkdowntxt": false
 },
 "nbformat": 4,
 "nbformat_minor": 5
}

{
 "cells": [
  {
   "cell_type": "code",
   "execution_count": 108,
   "id": "72b8dda6-11d7-44fe-9e3a-ad17c684179c",
   "metadata": {},
   "outputs": [],
   "source": [
    "### Data Preparation for MOFA analysis in R (adjust some columns + delete some layers)"
   ]
  },
  {
   "cell_type": "markdown",
   "id": "6bf2180c-7146-492f-b9f1-02b6002f54df",
   "metadata": {},
   "source": [
    "# Load Libraries"
   ]
  },
  {
   "cell_type": "code",
   "execution_count": 109,
   "id": "47341232-2bc4-4c95-949a-64a6f342f17e",
   "metadata": {},
   "outputs": [],
   "source": [
    "import scanpy as sc\n",
    "import anndata as an\n",
    "import pandas as pd\n",
    "import numpy as np\n",
    "import matplotlib as mpl\n",
    "import matplotlib.pyplot as plt\n",
    "import seaborn as sns\n",
    "import scanorama\n",
    "import os\n",
    "import multiprocessing\n",
    "import random\n",
    "import time\n",
    "import git\n",
    "import sys\n",
    "from datetime import date\n",
    "from matplotlib.backends.backend_pdf import PdfPages"
   ]
  },
  {
   "cell_type": "markdown",
   "id": "d1f3453d-8be8-40bf-8042-1be4774bd7be",
   "metadata": {},
   "source": [
    "# Load Data"
   ]
  },
  {
   "cell_type": "markdown",
   "id": "2f574efe-0317-41e2-886a-633e20e4f457",
   "metadata": {},
   "source": [
    "## Configurations"
   ]
  },
  {
   "cell_type": "markdown",
   "id": "8e38eaca-8226-4a3c-8ab6-59fba6f9cc45",
   "metadata": {},
   "source": [
    "### Technical configurations"
   ]
  },
  {
   "cell_type": "code",
   "execution_count": 110,
   "id": "dbbbbb92-8c1a-4870-a56f-db867bcd1e2e",
   "metadata": {},
   "outputs": [
    {
     "data": {
      "text/plain": [
       "64"
      ]
     },
     "execution_count": 110,
     "metadata": {},
     "output_type": "execute_result"
    }
   ],
   "source": [
    "multiprocessing.cpu_count()  ### total amount of cpu on the used core"
   ]
  },
  {
   "cell_type": "code",
   "execution_count": 111,
   "id": "d2eb65f0-1168-40c4-a24d-93c22ac4d61c",
   "metadata": {},
   "outputs": [
    {
     "data": {
      "text/plain": [
       "24"
      ]
     },
     "execution_count": 111,
     "metadata": {},
     "output_type": "execute_result"
    }
   ],
   "source": [
    "len(os.sched_getaffinity(0)) ### amount of available cpus"
   ]
  },
  {
   "cell_type": "code",
   "execution_count": 112,
   "id": "7bbded3e-467f-4060-b9ab-363d98dfcfec",
   "metadata": {},
   "outputs": [
    {
     "data": {
      "text/plain": [
       "1"
      ]
     },
     "execution_count": 112,
     "metadata": {},
     "output_type": "execute_result"
    }
   ],
   "source": [
    "sc.settings.n_jobs   # default number of CPUs to use for parallel computing"
   ]
  },
  {
   "cell_type": "code",
   "execution_count": 113,
   "id": "88a150b9-5b43-4bc0-9f82-b2917b2ddc63",
   "metadata": {},
   "outputs": [
    {
     "data": {
      "text/plain": [
       "15"
      ]
     },
     "execution_count": 113,
     "metadata": {},
     "output_type": "execute_result"
    }
   ],
   "source": [
    "sc.settings.max_memory  # maximum memory to use in GB"
   ]
  },
  {
   "cell_type": "code",
   "execution_count": 114,
   "id": "5152dcd7-d1fa-4a87-a653-2a3ddbe9e79c",
   "metadata": {},
   "outputs": [],
   "source": [
    "random.seed(7)"
   ]
  },
  {
   "cell_type": "code",
   "execution_count": 115,
   "id": "5e9f33f5-7e5e-4713-acd1-c766b22ca6ba",
   "metadata": {},
   "outputs": [],
   "source": [
    "ncore = '24'"
   ]
  },
  {
   "cell_type": "code",
   "execution_count": 116,
   "id": "e670d511-f96c-4a51-9c23-d5ae7a09ce90",
   "metadata": {},
   "outputs": [],
   "source": [
    "random_state_var = 7"
   ]
  },
  {
   "cell_type": "code",
   "execution_count": 117,
   "id": "7332e1fd-df07-44e0-a52c-b26e4c66b9c5",
   "metadata": {},
   "outputs": [],
   "source": [
    "n_jobs_var = 24"
   ]
  },
  {
   "cell_type": "code",
   "execution_count": 118,
   "id": "de4ed9f5-e485-4494-8630-38a0c0d4491a",
   "metadata": {},
   "outputs": [],
   "source": [
    "os.environ[\"OMP_NUM_THREADS\"] = ncore\n",
    "os.environ[\"OPENBLAS_NUM_THREADS\"] = ncore\n",
    "os.environ[\"MKL_NUM_THREADS\"] = ncore\n",
    "os.environ[\"VECLIB_MAXIMUM_THREADS\"] = ncore\n",
    "os.environ[\"NUMEXPR_NUM_THREADS\"] = ncore"
   ]
  },
  {
   "cell_type": "code",
   "execution_count": 119,
   "id": "12c6b68c-a67a-489b-a235-8ed25bbb78f9",
   "metadata": {
    "tags": []
   },
   "outputs": [
    {
     "name": "stdout",
     "output_type": "stream",
     "text": [
      "The `sinfo` package has changed name and is now called `session_info` to become more discoverable and self-explanatory. The `sinfo` PyPI package will be kept around to avoid breaking old installs and you can downgrade to 0.3.2 if you want to use it without seeing this message. For the latest features and bug fixes, please install `session_info` instead. The usage and defaults also changed slightly, so please review the latest README at https://gitlab.com/joelostblom/session_info.\n",
      "-----\n",
      "anndata     0.7.6\n",
      "scanpy      1.8.1\n",
      "sinfo       0.3.4\n",
      "-----\n",
      "PIL                 8.3.1\n",
      "annoy               NA\n",
      "anyio               NA\n",
      "attr                21.2.0\n",
      "babel               2.9.1\n",
      "backcall            0.2.0\n",
      "beta_ufunc          NA\n",
      "binom_ufunc         NA\n",
      "brotli              NA\n",
      "certifi             2021.05.30\n",
      "cffi                1.14.6\n",
      "chardet             4.0.0\n",
      "charset_normalizer  2.0.0\n",
      "cycler              0.10.0\n",
      "cython_runtime      NA\n",
      "dateutil            2.8.2\n",
      "decorator           5.0.9\n",
      "defusedxml          0.7.1\n",
      "entrypoints         0.3\n",
      "fbpca               NA\n",
      "git                 3.1.23\n",
      "gitdb               4.0.7\n",
      "google              NA\n",
      "h5py                3.3.0\n",
      "idna                3.1\n",
      "igraph              0.9.6\n",
      "intervaltree        NA\n",
      "ipykernel           6.2.0\n",
      "ipython_genutils    0.2.0\n",
      "jedi                0.18.0\n",
      "jinja2              3.0.1\n",
      "joblib              1.0.1\n",
      "json5               NA\n",
      "jsonschema          3.2.0\n",
      "jupyter_server      1.10.2\n",
      "jupyterlab_server   2.7.1\n",
      "kiwisolver          1.3.1\n",
      "leidenalg           0.8.7\n",
      "llvmlite            0.36.0\n",
      "markupsafe          2.0.1\n",
      "matplotlib          3.4.3\n",
      "matplotlib_inline   NA\n",
      "mpl_toolkits        NA\n",
      "natsort             7.1.1\n",
      "nbclassic           NA\n",
      "nbformat            5.1.3\n",
      "nbinom_ufunc        NA\n",
      "numba               0.53.1\n",
      "numexpr             2.7.3\n",
      "numpy               1.21.2\n",
      "packaging           21.0\n",
      "pandas              1.3.2\n",
      "parso               0.8.2\n",
      "pexpect             4.8.0\n",
      "pickleshare         0.7.5\n",
      "pkg_resources       NA\n",
      "prometheus_client   NA\n",
      "prompt_toolkit      3.0.19\n",
      "ptyprocess          0.7.0\n",
      "pvectorc            NA\n",
      "pyexpat             NA\n",
      "pygments            2.10.0\n",
      "pyparsing           2.4.7\n",
      "pyrsistent          NA\n",
      "pytz                2021.1\n",
      "requests            2.26.0\n",
      "scanorama           1.7.1\n",
      "scipy               1.7.1\n",
      "seaborn             0.11.2\n",
      "send2trash          NA\n",
      "six                 1.16.0\n",
      "sklearn             0.24.2\n",
      "smmap               3.0.5\n",
      "sniffio             1.2.0\n",
      "socks               1.7.1\n",
      "sortedcontainers    2.4.0\n",
      "statsmodels         0.12.2\n",
      "storemagic          NA\n",
      "tables              3.6.1\n",
      "terminado           0.10.1\n",
      "texttable           1.6.4\n",
      "tornado             6.1\n",
      "traitlets           5.0.5\n",
      "typing_extensions   NA\n",
      "urllib3             1.26.6\n",
      "wcwidth             0.2.5\n",
      "websocket           0.57.0\n",
      "zmq                 22.2.1\n",
      "-----\n",
      "IPython             7.26.0\n",
      "jupyter_client      6.1.12\n",
      "jupyter_core        4.7.1\n",
      "jupyterlab          3.1.7\n",
      "notebook            6.4.3\n",
      "-----\n",
      "Python 3.9.6 | packaged by conda-forge | (default, Jul 11 2021, 03:39:48) [GCC 9.3.0]\n",
      "Linux-4.18.0-513.11.1.el8_9.x86_64-x86_64-with-glibc2.28\n",
      "64 logical CPU cores, x86_64\n",
      "-----\n",
      "Session information updated at 2024-03-04 16:52\n",
      "\n"
     ]
    }
   ],
   "source": [
    "sc.logging.print_versions()\n",
    "sc.set_figure_params(facecolor=\"white\", figsize=(8, 8))\n",
    "sc.settings.verbosity = 0"
   ]
  },
  {
   "cell_type": "code",
   "execution_count": 120,
   "id": "01e0422f-d035-4aaf-a503-9e615e2044f6",
   "metadata": {},
   "outputs": [
    {
     "data": {
      "text/plain": [
       "<Verbosity.error: 0>"
      ]
     },
     "execution_count": 120,
     "metadata": {},
     "output_type": "execute_result"
    }
   ],
   "source": [
    "sc.settings.verbosity"
   ]
  },
  {
   "cell_type": "code",
   "execution_count": 121,
   "id": "e92ab3ab-0cb0-4e65-9d3f-3da1c6b0cef4",
   "metadata": {},
   "outputs": [],
   "source": [
    "import warnings\n",
    "warnings.filterwarnings(\"ignore\")"
   ]
  },
  {
   "cell_type": "markdown",
   "id": "647d835f-6513-4c86-92a1-de488c397e8d",
   "metadata": {},
   "source": [
    "### Parameters"
   ]
  },
  {
   "cell_type": "code",
   "execution_count": 122,
   "id": "82a26dfb-fef7-4c70-b02d-d5b33e6b8ab8",
   "metadata": {},
   "outputs": [],
   "source": [
    "data_path = '../data/current'"
   ]
  },
  {
   "cell_type": "code",
   "execution_count": 123,
   "id": "8773cd78-9694-43c4-8cd2-627467dbfbd9",
   "metadata": {},
   "outputs": [
    {
     "data": {
      "text/plain": [
       "'../data/current'"
      ]
     },
     "execution_count": 123,
     "metadata": {},
     "output_type": "execute_result"
    }
   ],
   "source": [
    "data_path"
   ]
  },
  {
   "cell_type": "code",
   "execution_count": 124,
   "id": "66a94ff8-05c9-4fbe-9ccb-d29c99493ec9",
   "metadata": {},
   "outputs": [],
   "source": [
    "variant = 'Singlets'"
   ]
  },
  {
   "cell_type": "code",
   "execution_count": 125,
   "id": "3da2c77a-6387-4bc8-8153-c87b658d5d49",
   "metadata": {},
   "outputs": [],
   "source": [
    "variants = [variant]"
   ]
  },
  {
   "cell_type": "code",
   "execution_count": 126,
   "id": "8b1ec9e5-01ec-4576-b4e8-786fa2f7511f",
   "metadata": {},
   "outputs": [],
   "source": [
    "result_path = '../results/current'"
   ]
  },
  {
   "cell_type": "code",
   "execution_count": 127,
   "id": "ab2feaa5-ab49-4435-a74d-e6afdc44474e",
   "metadata": {},
   "outputs": [],
   "source": [
    "### Dataset storing annotations"
   ]
  },
  {
   "cell_type": "code",
   "execution_count": 128,
   "id": "73327894-2da4-419a-a8f7-e211cbf93856",
   "metadata": {},
   "outputs": [
    {
     "name": "stdout",
     "output_type": "stream",
     "text": [
      "Last modifiedMon Mar  4 14:49:42 2024\n"
     ]
    }
   ],
   "source": [
    "path = result_path + '/B-Analysis/saved_annotations.csv'\n",
    "saved_annotations = pd.read_csv(path)\n",
    "print('Last modified' + time.ctime(os.path.getmtime(path)))"
   ]
  },
  {
   "cell_type": "code",
   "execution_count": 129,
   "id": "30124971-578a-4612-b22a-bec25ba66417",
   "metadata": {},
   "outputs": [],
   "source": [
    "save_path = '_B5_' + variant + '_Annotations.pdf'"
   ]
  },
  {
   "cell_type": "markdown",
   "id": "a5480407-c64e-4fd0-8130-dbcd682e0a1a",
   "metadata": {},
   "source": [
    "## Clustered and combined data from B3"
   ]
  },
  {
   "cell_type": "code",
   "execution_count": 130,
   "id": "d154a7ff-59f1-48e1-85ae-1dc0f1090464",
   "metadata": {},
   "outputs": [],
   "source": [
    "anndata_dict = dict.fromkeys(variants)"
   ]
  },
  {
   "cell_type": "code",
   "execution_count": 131,
   "id": "4c65b362-69ef-457d-bdd9-f42db61ac3de",
   "metadata": {},
   "outputs": [],
   "source": [
    "anndata_dict_subset = dict.fromkeys(variants)"
   ]
  },
  {
   "cell_type": "code",
   "execution_count": 132,
   "id": "2c8ae0d5-f2d3-45d8-8ffb-ddef4debb8e7",
   "metadata": {},
   "outputs": [
    {
     "name": "stdout",
     "output_type": "stream",
     "text": [
      "../data/current/analysis/B/B3_Integrated_Singlet_processed_rna.h5ad\n",
      "Last modifiedMon Mar  4 15:18:28 2024\n"
     ]
    }
   ],
   "source": [
    "for key in anndata_dict:\n",
    "    dataset_path = data_path + '/analysis/B/B3_Integrated_Singlet_processed_rna.h5ad'\n",
    "    \n",
    "    print(dataset_path)\n",
    "    print('Last modified' + time.ctime(os.path.getmtime(dataset_path)))\n",
    "    \n",
    "    adata_orig = sc.read_h5ad(dataset_path)\n",
    "    anndata_dict[key]= adata_orig # save anndata in dictionary\n",
    "    \n",
    "    anndata_dict[key].uns['data_load_time'] = time.ctime(os.path.getmtime(dataset_path))  # save the last modified timestamp of the data loaded\n",
    "    anndata_dict[key].uns['data_load_name'] = dataset_path # save the data path of the data loaded \n",
    "    "
   ]
  },
  {
   "cell_type": "code",
   "execution_count": 133,
   "id": "0189c028-8f9a-4d33-8fa1-9b2e3c55d98b",
   "metadata": {},
   "outputs": [],
   "source": [
    "### Short data check"
   ]
  },
  {
   "cell_type": "code",
   "execution_count": 134,
   "id": "d96963dc-136b-485f-bdcd-57836b55a975",
   "metadata": {},
   "outputs": [],
   "source": [
    "# anndata_dict['V1_All']  # cells have been filtered only on singlets"
   ]
  },
  {
   "cell_type": "code",
   "execution_count": 135,
   "id": "3b26ecc7-b200-4f6a-b544-7b5b1c18ab8e",
   "metadata": {},
   "outputs": [
    {
     "data": {
      "text/plain": [
       "array([-105.86096 ,    9.41081 , -116.85063 , ...,  249.01207 ,\n",
       "        106.5417  ,   49.693195], dtype=float32)"
      ]
     },
     "execution_count": 135,
     "metadata": {},
     "output_type": "execute_result"
    }
   ],
   "source": [
    "anndata_dict[key].X.sum(axis=1) # data was normalized and log-transformed, scaled\n"
   ]
  },
  {
   "cell_type": "code",
   "execution_count": 136,
   "id": "dab299eb-a0e4-4011-b589-ba1a0259868a",
   "metadata": {},
   "outputs": [
    {
     "data": {
      "text/plain": [
       "matrix([[ 3947.],\n",
       "        [ 5870.],\n",
       "        [ 3888.],\n",
       "        ...,\n",
       "        [ 4079.],\n",
       "        [17619.],\n",
       "        [ 3231.]], dtype=float32)"
      ]
     },
     "execution_count": 136,
     "metadata": {},
     "output_type": "execute_result"
    }
   ],
   "source": [
    "anndata_dict[key].raw.X.sum(axis=1) # raw count values\n"
   ]
  },
  {
   "cell_type": "code",
   "execution_count": 137,
   "id": "19eb2df3-f02e-4bbf-8c0e-8ce6947eae31",
   "metadata": {},
   "outputs": [
    {
     "data": {
      "text/plain": [
       "matrix([[21.065617],\n",
       "        [25.584118],\n",
       "        [21.224699],\n",
       "        ...,\n",
       "        [22.754984],\n",
       "        [29.788113],\n",
       "        [23.377083]], dtype=float32)"
      ]
     },
     "execution_count": 137,
     "metadata": {},
     "output_type": "execute_result"
    }
   ],
   "source": [
    "anndata_dict[key].obsm['X_corected_Scanorama'].sum(axis = 1)"
   ]
  },
  {
   "cell_type": "code",
   "execution_count": 138,
   "id": "8959b4bd-a9ed-4259-992e-1d5cfc1fb857",
   "metadata": {},
   "outputs": [
    {
     "data": {
      "text/plain": [
       "array([ 0.10920271, -0.17586301,  0.15258163, ..., -0.56758383,\n",
       "       -0.5215452 ,  0.21703739])"
      ]
     },
     "execution_count": 138,
     "metadata": {},
     "output_type": "execute_result"
    }
   ],
   "source": [
    "anndata_dict[key].obsm['X_scanorama_rb_mt'].sum(axis= 1)"
   ]
  },
  {
   "cell_type": "code",
   "execution_count": 139,
   "id": "c111eeca-111e-4b94-806a-71f04b6eda08",
   "metadata": {},
   "outputs": [
    {
     "data": {
      "text/plain": [
       "(20,)"
      ]
     },
     "execution_count": 139,
     "metadata": {},
     "output_type": "execute_result"
    }
   ],
   "source": [
    "np.shape(anndata_dict[key].obsm)"
   ]
  },
  {
   "cell_type": "code",
   "execution_count": 140,
   "id": "d432644f-a35f-4a93-8d68-956a43797df5",
   "metadata": {},
   "outputs": [
    {
     "data": {
      "text/plain": [
       "(148275, 2000)"
      ]
     },
     "execution_count": 140,
     "metadata": {},
     "output_type": "execute_result"
    }
   ],
   "source": [
    "np.shape(anndata_dict[key].obsm['X_corected_Scanorama'])"
   ]
  },
  {
   "cell_type": "code",
   "execution_count": 141,
   "id": "0b7b9046-9f1e-4236-a407-fed230d1fa93",
   "metadata": {
    "tags": []
   },
   "outputs": [],
   "source": [
    "# sorted(anndata_dict[key].var.columns)"
   ]
  },
  {
   "cell_type": "code",
   "execution_count": 142,
   "id": "cd0fe67b-df2b-49b4-9e83-744a8065acde",
   "metadata": {
    "tags": []
   },
   "outputs": [
    {
     "data": {
      "text/plain": [
       "AnnData object with n_obs × n_vars = 148275 × 1393\n",
       "    obs: 'nCount_HTO', 'nFeature_HTO', 'nCount_RNA', 'nFeature_RNA', 'percent_mt', 'HTO_maxID', 'HTO_secondID', 'HTO_margin', 'HTO_classification', 'HTO_classification.global', 'hash.ID', 'HTO_classification_final', 'name', 'library', 'id', 'read', 'pattern', 'sequence', 'feature_type', 'Unnamed: 7', 'in_sample', 'display_name', 'group_x', 'HTO_Doublet_Classification', 'doublet_score', 'predicted_doublet', 'A5_scrublet_predicted_doublet_lib0.1', 'A5_scrublet_doublet_score_lib_0.1', 'A5_scrublet_predicted_doublet_lib0.2', 'A5_scrublet_doublet_score_lib_0.2', 'A5_scrublet_predicted_doublet_lib', 'A5_scrublet_doublet_score_lib', 'n_genes', 'n_genes_by_counts', 'total_counts', 'total_counts_mt', 'pct_counts_mt', 'valid_cell_filter_dying', 'valid_cell_filter_doublet', 'A7_PCA_50_10_neighbors_cluster', 'A7_PCA_100_10_neighbors_cluster', 'A7_PCA_100_50_neighbors_cluster', 'A7_PCA_500_50_neighbors_cluster', 'A7_Singlet_PCA_50_10_neighbors_cluster', 'A7_Singlet_PCA_100_10_neighbors_cluster', 'A7_Singlet_RB_MT_PCA_50_10_neighbors_cluster', 'A7_Singlet_RB_MT_PCA_100_10_neighbors_cluster', 'library_id', 'B2_Concat_Singlet_PCA_50_10_neighbors_cluster', 'B2_Concat_Singlet_PCA_100_10_neighbors_cluster', 'B2_Concat_Singlet_RB_MT_PCA_50_10_neighbors_cluster', 'B2_Concat_Singlet_RB_MT_PCA_100_10_neighbors_cluster', 'leiden', 'cell_type', 'cluster_cell_type', 'library.hashtag_x', 'age', 'sex', 'm_x', 'classification', 'group_y', 'measurement_x', 'sample_x', 'Unnamed: 0', 'library.hashtag_y', 'm_y', 'measurement_y', 'delta_ef_value_group', 'delta_ef_value', 'sample_y', 'cell_type_concat = ', 'cluster_cell_type_concat = ', 'B2_Scanorama_Singlet_cluster', 'B2_Scanorama_Singlet_rb_mt_cluster', 'cell_type_Scanorama', 'cluster_cell_type_Scanorama'\n",
       "    var: 'gene_ids', 'feature_types', 'genome', 'mt', 'rb', 'n_cells-L1', 'n_cells_by_counts-L1', 'mean_counts-L1', 'pct_dropout_by_counts-L1', 'total_counts-L1', 'highly_variable-L1', 'means-L1', 'dispersions-L1', 'dispersions_norm-L1', 'n_cells-L10', 'n_cells_by_counts-L10', 'mean_counts-L10', 'pct_dropout_by_counts-L10', 'total_counts-L10', 'highly_variable-L10', 'means-L10', 'dispersions-L10', 'dispersions_norm-L10', 'n_cells-L11', 'n_cells_by_counts-L11', 'mean_counts-L11', 'pct_dropout_by_counts-L11', 'total_counts-L11', 'highly_variable-L11', 'means-L11', 'dispersions-L11', 'dispersions_norm-L11', 'n_cells-L12', 'n_cells_by_counts-L12', 'mean_counts-L12', 'pct_dropout_by_counts-L12', 'total_counts-L12', 'highly_variable-L12', 'means-L12', 'dispersions-L12', 'dispersions_norm-L12', 'n_cells-L13', 'n_cells_by_counts-L13', 'mean_counts-L13', 'pct_dropout_by_counts-L13', 'total_counts-L13', 'highly_variable-L13', 'means-L13', 'dispersions-L13', 'dispersions_norm-L13', 'n_cells-L14', 'n_cells_by_counts-L14', 'mean_counts-L14', 'pct_dropout_by_counts-L14', 'total_counts-L14', 'highly_variable-L14', 'means-L14', 'dispersions-L14', 'dispersions_norm-L14', 'n_cells-L2', 'n_cells_by_counts-L2', 'mean_counts-L2', 'pct_dropout_by_counts-L2', 'total_counts-L2', 'highly_variable-L2', 'means-L2', 'dispersions-L2', 'dispersions_norm-L2', 'n_cells-L3', 'n_cells_by_counts-L3', 'mean_counts-L3', 'pct_dropout_by_counts-L3', 'total_counts-L3', 'highly_variable-L3', 'means-L3', 'dispersions-L3', 'dispersions_norm-L3', 'n_cells-L4', 'n_cells_by_counts-L4', 'mean_counts-L4', 'pct_dropout_by_counts-L4', 'total_counts-L4', 'highly_variable-L4', 'means-L4', 'dispersions-L4', 'dispersions_norm-L4', 'n_cells-L5', 'n_cells_by_counts-L5', 'mean_counts-L5', 'pct_dropout_by_counts-L5', 'total_counts-L5', 'highly_variable-L5', 'means-L5', 'dispersions-L5', 'dispersions_norm-L5', 'n_cells-L6', 'n_cells_by_counts-L6', 'mean_counts-L6', 'pct_dropout_by_counts-L6', 'total_counts-L6', 'highly_variable-L6', 'means-L6', 'dispersions-L6', 'dispersions_norm-L6', 'n_cells-L7', 'n_cells_by_counts-L7', 'mean_counts-L7', 'pct_dropout_by_counts-L7', 'total_counts-L7', 'highly_variable-L7', 'means-L7', 'dispersions-L7', 'dispersions_norm-L7', 'n_cells-L8', 'n_cells_by_counts-L8', 'mean_counts-L8', 'pct_dropout_by_counts-L8', 'total_counts-L8', 'highly_variable-L8', 'means-L8', 'dispersions-L8', 'dispersions_norm-L8', 'n_cells-L9', 'n_cells_by_counts-L9', 'mean_counts-L9', 'pct_dropout_by_counts-L9', 'total_counts-L9', 'highly_variable-L9', 'means-L9', 'dispersions-L9', 'dispersions_norm-L9', 'highly_variable', 'means', 'dispersions', 'dispersions_norm', 'mean', 'std'\n",
       "    uns: 'A5_scrublet_predicted_doublet_lib_colors', 'B2_Concat_Singlet_PCA_100_10_neighbors', 'B2_Concat_Singlet_PCA_50_10_neighbors', 'B2_Concat_Singlet_RB_MT_PCA_100_10_neighbors_cluster_colors', 'HTO_classification.global_colors', 'cell_type_colors', 'data_load_name', 'data_load_time', 'data_save_name', 'data_save_time', 'dendrogram_cell_type', 'dendrogram_cluster_cell_type', 'dendrogram_leiden', 'group_colors', 'hvg', 'leiden', 'leiden_colors', 'library_id_colors', 'pca', 'scrublet', 'umap'\n",
       "    obsm: 'A6_only_highly_variable', 'B2_Concat_Singlet_RB_MT_X_pca', 'B2_Concat_Singlet_X_pca', 'Lib_X_pca', 'X_corected_Scanorama', 'X_pca', 'X_scanorama', 'X_scanorama_rb_mt', 'X_umap', 'X_umapA7_PCA_100_10_neighbors', 'X_umapA7_PCA_100_50_neighbors', 'X_umapA7_PCA_500_50_neighbors', 'X_umapA7_PCA_50_10_neighbors', 'X_umapB2_Concat_Singlet_PCA_100_10_neighbors', 'X_umapB2_Concat_Singlet_PCA_50_10_neighbors', 'X_umapB2_Concat_Singlet_RB_MT_PCA_100_10_neighbors', 'X_umapB2_Concat_Singlet_RB_MT_PCA_50_10_neighbors', 'X_umapB2_Scanorama', 'X_umapB2_Scanorama_Singlet', 'X_umapB2_Scanorama_Singlet_rb_mt'\n",
       "    varm: 'PCs'\n",
       "    layers: 'A6_normalized', 'A6_normalized_log'\n",
       "    obsp: 'B2_Concat_Singlet_PCA_100_10_neighbors_connectivities', 'B2_Concat_Singlet_PCA_100_10_neighbors_distances', 'B2_Concat_Singlet_PCA_50_10_neighbors_connectivities', 'B2_Concat_Singlet_PCA_50_10_neighbors_distances', 'B2_Concat_Singlet_RB_MT_PCA_100_10_neighbors_connectivities', 'B2_Concat_Singlet_RB_MT_PCA_100_10_neighbors_distances', 'B2_Concat_Singlet_RB_MT_PCA_50_10_neighbors_connectivities', 'B2_Concat_Singlet_RB_MT_PCA_50_10_neighbors_distances'"
      ]
     },
     "execution_count": 142,
     "metadata": {},
     "output_type": "execute_result"
    }
   ],
   "source": [
    "anndata_dict[key]"
   ]
  },
  {
   "cell_type": "code",
   "execution_count": 143,
   "id": "d6a73e3a-428a-4d90-8710-cf6c86a79151",
   "metadata": {},
   "outputs": [
    {
     "data": {
      "text/plain": [
       "(148275, 2000)"
      ]
     },
     "execution_count": 143,
     "metadata": {},
     "output_type": "execute_result"
    }
   ],
   "source": [
    "anndata_dict[key].obsm['X_corected_Scanorama'].shape"
   ]
  },
  {
   "cell_type": "markdown",
   "id": "8a43a091-8d8e-4c07-a81d-b8cad617f294",
   "metadata": {},
   "source": [
    "# Data Adaptions"
   ]
  },
  {
   "cell_type": "code",
   "execution_count": 144,
   "id": "f8975c42-2e8f-4e8e-86a2-e335e8168bff",
   "metadata": {
    "tags": []
   },
   "outputs": [
    {
     "data": {
      "text/plain": [
       "Index(['nCount_HTO', 'nFeature_HTO', 'nCount_RNA', 'nFeature_RNA',\n",
       "       'percent_mt', 'HTO_maxID', 'HTO_secondID', 'HTO_margin',\n",
       "       'HTO_classification', 'HTO_classification.global', 'hash.ID',\n",
       "       'HTO_classification_final', 'name', 'library', 'id', 'read', 'pattern',\n",
       "       'sequence', 'feature_type', 'Unnamed: 7', 'in_sample', 'display_name',\n",
       "       'group_x', 'HTO_Doublet_Classification', 'doublet_score',\n",
       "       'predicted_doublet', 'A5_scrublet_predicted_doublet_lib0.1',\n",
       "       'A5_scrublet_doublet_score_lib_0.1',\n",
       "       'A5_scrublet_predicted_doublet_lib0.2',\n",
       "       'A5_scrublet_doublet_score_lib_0.2',\n",
       "       'A5_scrublet_predicted_doublet_lib', 'A5_scrublet_doublet_score_lib',\n",
       "       'n_genes', 'n_genes_by_counts', 'total_counts', 'total_counts_mt',\n",
       "       'pct_counts_mt', 'valid_cell_filter_dying', 'valid_cell_filter_doublet',\n",
       "       'A7_PCA_50_10_neighbors_cluster', 'A7_PCA_100_10_neighbors_cluster',\n",
       "       'A7_PCA_100_50_neighbors_cluster', 'A7_PCA_500_50_neighbors_cluster',\n",
       "       'A7_Singlet_PCA_50_10_neighbors_cluster',\n",
       "       'A7_Singlet_PCA_100_10_neighbors_cluster',\n",
       "       'A7_Singlet_RB_MT_PCA_50_10_neighbors_cluster',\n",
       "       'A7_Singlet_RB_MT_PCA_100_10_neighbors_cluster', 'library_id',\n",
       "       'B2_Concat_Singlet_PCA_50_10_neighbors_cluster',\n",
       "       'B2_Concat_Singlet_PCA_100_10_neighbors_cluster',\n",
       "       'B2_Concat_Singlet_RB_MT_PCA_50_10_neighbors_cluster',\n",
       "       'B2_Concat_Singlet_RB_MT_PCA_100_10_neighbors_cluster', 'leiden',\n",
       "       'cell_type', 'cluster_cell_type', 'library.hashtag_x', 'age', 'sex',\n",
       "       'm_x', 'classification', 'group_y', 'measurement_x', 'sample_x',\n",
       "       'Unnamed: 0', 'library.hashtag_y', 'm_y', 'measurement_y',\n",
       "       'delta_ef_value_group', 'delta_ef_value', 'sample_y',\n",
       "       'cell_type_concat = ', 'cluster_cell_type_concat = ',\n",
       "       'B2_Scanorama_Singlet_cluster', 'B2_Scanorama_Singlet_rb_mt_cluster',\n",
       "       'cell_type_Scanorama', 'cluster_cell_type_Scanorama'],\n",
       "      dtype='object')"
      ]
     },
     "execution_count": 144,
     "metadata": {},
     "output_type": "execute_result"
    }
   ],
   "source": [
    "anndata_dict[key].obs.columns"
   ]
  },
  {
   "cell_type": "markdown",
   "id": "7dd3ca34-55c6-44d1-9f5b-523a17900986",
   "metadata": {},
   "source": [
    "## Adapt to remove rb & mt genes"
   ]
  },
  {
   "cell_type": "code",
   "execution_count": 145,
   "id": "aa820ada-f517-4508-90ca-72dacb3c245b",
   "metadata": {},
   "outputs": [],
   "source": [
    "for key in anndata_dict:\n",
    "    anndata_dict[key]  = anndata_dict[key][:,np.logical_and(anndata_dict[key].var['rb'] == False , anndata_dict[key].var['mt'] == False)].copy()"
   ]
  },
  {
   "cell_type": "code",
   "execution_count": 146,
   "id": "f85550e2-d462-4ee9-9a14-77b26d6f6df9",
   "metadata": {},
   "outputs": [
    {
     "data": {
      "text/plain": [
       "0"
      ]
     },
     "execution_count": 146,
     "metadata": {},
     "output_type": "execute_result"
    }
   ],
   "source": [
    "sum(anndata_dict[key].var_names.str.startswith('RPS12'))"
   ]
  },
  {
   "cell_type": "code",
   "execution_count": 147,
   "id": "7537beaf-0a0f-4fea-8850-48f7485847d9",
   "metadata": {},
   "outputs": [
    {
     "data": {
      "text/plain": [
       "Index(['HES4', 'ISG15', 'TNFRSF18', 'TNFRSF4', 'AL645728.1', 'MIB2', 'MMP23B',\n",
       "       'PLCH2', 'UTS2', 'TNFRSF9',\n",
       "       ...\n",
       "       'SLC5A3', 'KCNE1', 'AP000692.2', 'HLCS', 'MX1', 'AIRE', 'COL6A2',\n",
       "       'PCNT', 'DIP2A', 'S100B'],\n",
       "      dtype='object', length=1392)"
      ]
     },
     "execution_count": 147,
     "metadata": {},
     "output_type": "execute_result"
    }
   ],
   "source": [
    "anndata_dict[key].var_names"
   ]
  },
  {
   "cell_type": "code",
   "execution_count": 148,
   "id": "1976b2e8-7863-4998-abff-a732b29a17de",
   "metadata": {},
   "outputs": [
    {
     "data": {
      "text/plain": [
       "<anndata._core.raw.Raw at 0x7f54b5464850>"
      ]
     },
     "execution_count": 148,
     "metadata": {},
     "output_type": "execute_result"
    }
   ],
   "source": [
    "anndata_dict[key].raw"
   ]
  },
  {
   "cell_type": "code",
   "execution_count": 149,
   "id": "c3b0f509-c033-4b04-a2a7-2ce09877f594",
   "metadata": {},
   "outputs": [
    {
     "data": {
      "text/plain": [
       "Layers with keys: A6_normalized, A6_normalized_log"
      ]
     },
     "execution_count": 149,
     "metadata": {},
     "output_type": "execute_result"
    }
   ],
   "source": [
    "anndata_dict[key].layers"
   ]
  },
  {
   "cell_type": "code",
   "execution_count": 150,
   "id": "640cdef5-9311-4539-b423-11ebe61574dd",
   "metadata": {},
   "outputs": [
    {
     "data": {
      "text/plain": [
       "matrix([[21.065617],\n",
       "        [25.584118],\n",
       "        [21.224699],\n",
       "        ...,\n",
       "        [22.754984],\n",
       "        [29.788113],\n",
       "        [23.377083]], dtype=float32)"
      ]
     },
     "execution_count": 150,
     "metadata": {},
     "output_type": "execute_result"
    }
   ],
   "source": [
    "anndata_dict[key].obsm['X_corected_Scanorama'].sum(axis = 1)"
   ]
  },
  {
   "cell_type": "markdown",
   "id": "9f6771b6-8a67-4356-8420-9d7574db8a15",
   "metadata": {},
   "source": [
    "## Generate new columns"
   ]
  },
  {
   "cell_type": "code",
   "execution_count": 151,
   "id": "4aba6a82-08d4-4f93-b310-db531f12c91c",
   "metadata": {},
   "outputs": [],
   "source": [
    "for key in anndata_dict:\n",
    "    anndata_dict[key].obs['classification_measurement'] = anndata_dict[key].obs['classification'].astype('string') + '_' + anndata_dict[key].obs['measurement_x'].astype('string')\n",
    "    anndata_dict[key].obs['delta_ef_value_group_measurement'] = anndata_dict[key].obs['delta_ef_value_group'].astype('string') + '_' + anndata_dict[key].obs['measurement_x'].astype('string')"
   ]
  },
  {
   "cell_type": "code",
   "execution_count": 152,
   "id": "85521923-a3fd-43da-8cb8-ed25c925eca6",
   "metadata": {},
   "outputs": [],
   "source": [
    "for key in anndata_dict:\n",
    "    anndata_dict[key].obs['classification_measurement'] = anndata_dict[key].obs['classification_measurement'].astype('category')\n",
    "    anndata_dict[key].obs['delta_ef_value_group_measurement'] = anndata_dict[key].obs['delta_ef_value_group_measurement'].astype('category')"
   ]
  },
  {
   "cell_type": "markdown",
   "id": "97858e6f-27a3-47b1-b4be-cef826f1f32a",
   "metadata": {},
   "source": [
    "# Save dataset for MOFA analysis in R"
   ]
  },
  {
   "cell_type": "code",
   "execution_count": 153,
   "id": "bab37b9a-e929-4604-925b-6dece0ff27f2",
   "metadata": {},
   "outputs": [],
   "source": [
    "### Test saving reduced version for conversion"
   ]
  },
  {
   "cell_type": "code",
   "execution_count": 154,
   "id": "a83c89a2-67a2-46af-a9eb-7d21262dbb69",
   "metadata": {},
   "outputs": [],
   "source": [
    "anndata_reduced = anndata_dict[key]"
   ]
  },
  {
   "cell_type": "code",
   "execution_count": 155,
   "id": "36a06c7c-141f-4cc8-9ce1-6a0576d58c16",
   "metadata": {},
   "outputs": [],
   "source": [
    "del anndata_reduced.layers"
   ]
  },
  {
   "cell_type": "code",
   "execution_count": 156,
   "id": "4a532608-8825-4914-8776-760b964318e1",
   "metadata": {},
   "outputs": [],
   "source": [
    "# del anndata_reduced.obs"
   ]
  },
  {
   "cell_type": "code",
   "execution_count": 157,
   "id": "95355274-f5a5-4e43-8b8a-cff99ff0ba87",
   "metadata": {},
   "outputs": [],
   "source": [
    "#del anndata_reduced.obsm"
   ]
  },
  {
   "cell_type": "code",
   "execution_count": 158,
   "id": "d35ead27-6caf-450d-a886-c392911c4d7e",
   "metadata": {},
   "outputs": [],
   "source": [
    "del anndata_reduced.varm"
   ]
  },
  {
   "cell_type": "code",
   "execution_count": 159,
   "id": "df4a8a14-2bd6-45ab-b7b0-baf25fb9b92e",
   "metadata": {},
   "outputs": [],
   "source": [
    "del anndata_reduced.obsp"
   ]
  },
  {
   "cell_type": "code",
   "execution_count": 160,
   "id": "a6e2a54e-9e54-4c81-b5a9-2dff438f2b40",
   "metadata": {},
   "outputs": [],
   "source": [
    "del anndata_reduced.uns"
   ]
  },
  {
   "cell_type": "code",
   "execution_count": 161,
   "id": "09f65393-3e17-4d60-9838-e3a1f51db533",
   "metadata": {},
   "outputs": [
    {
     "data": {
      "text/plain": [
       "AnnData object with n_obs × n_vars = 148275 × 1392\n",
       "    obs: 'nCount_HTO', 'nFeature_HTO', 'nCount_RNA', 'nFeature_RNA', 'percent_mt', 'HTO_maxID', 'HTO_secondID', 'HTO_margin', 'HTO_classification', 'HTO_classification.global', 'hash.ID', 'HTO_classification_final', 'name', 'library', 'id', 'read', 'pattern', 'sequence', 'feature_type', 'Unnamed: 7', 'in_sample', 'display_name', 'group_x', 'HTO_Doublet_Classification', 'doublet_score', 'predicted_doublet', 'A5_scrublet_predicted_doublet_lib0.1', 'A5_scrublet_doublet_score_lib_0.1', 'A5_scrublet_predicted_doublet_lib0.2', 'A5_scrublet_doublet_score_lib_0.2', 'A5_scrublet_predicted_doublet_lib', 'A5_scrublet_doublet_score_lib', 'n_genes', 'n_genes_by_counts', 'total_counts', 'total_counts_mt', 'pct_counts_mt', 'valid_cell_filter_dying', 'valid_cell_filter_doublet', 'A7_PCA_50_10_neighbors_cluster', 'A7_PCA_100_10_neighbors_cluster', 'A7_PCA_100_50_neighbors_cluster', 'A7_PCA_500_50_neighbors_cluster', 'A7_Singlet_PCA_50_10_neighbors_cluster', 'A7_Singlet_PCA_100_10_neighbors_cluster', 'A7_Singlet_RB_MT_PCA_50_10_neighbors_cluster', 'A7_Singlet_RB_MT_PCA_100_10_neighbors_cluster', 'library_id', 'B2_Concat_Singlet_PCA_50_10_neighbors_cluster', 'B2_Concat_Singlet_PCA_100_10_neighbors_cluster', 'B2_Concat_Singlet_RB_MT_PCA_50_10_neighbors_cluster', 'B2_Concat_Singlet_RB_MT_PCA_100_10_neighbors_cluster', 'leiden', 'cell_type', 'cluster_cell_type', 'library.hashtag_x', 'age', 'sex', 'm_x', 'classification', 'group_y', 'measurement_x', 'sample_x', 'Unnamed: 0', 'library.hashtag_y', 'm_y', 'measurement_y', 'delta_ef_value_group', 'delta_ef_value', 'sample_y', 'cell_type_concat = ', 'cluster_cell_type_concat = ', 'B2_Scanorama_Singlet_cluster', 'B2_Scanorama_Singlet_rb_mt_cluster', 'cell_type_Scanorama', 'cluster_cell_type_Scanorama', 'classification_measurement', 'delta_ef_value_group_measurement'\n",
       "    var: 'gene_ids', 'feature_types', 'genome', 'mt', 'rb', 'n_cells-L1', 'n_cells_by_counts-L1', 'mean_counts-L1', 'pct_dropout_by_counts-L1', 'total_counts-L1', 'highly_variable-L1', 'means-L1', 'dispersions-L1', 'dispersions_norm-L1', 'n_cells-L10', 'n_cells_by_counts-L10', 'mean_counts-L10', 'pct_dropout_by_counts-L10', 'total_counts-L10', 'highly_variable-L10', 'means-L10', 'dispersions-L10', 'dispersions_norm-L10', 'n_cells-L11', 'n_cells_by_counts-L11', 'mean_counts-L11', 'pct_dropout_by_counts-L11', 'total_counts-L11', 'highly_variable-L11', 'means-L11', 'dispersions-L11', 'dispersions_norm-L11', 'n_cells-L12', 'n_cells_by_counts-L12', 'mean_counts-L12', 'pct_dropout_by_counts-L12', 'total_counts-L12', 'highly_variable-L12', 'means-L12', 'dispersions-L12', 'dispersions_norm-L12', 'n_cells-L13', 'n_cells_by_counts-L13', 'mean_counts-L13', 'pct_dropout_by_counts-L13', 'total_counts-L13', 'highly_variable-L13', 'means-L13', 'dispersions-L13', 'dispersions_norm-L13', 'n_cells-L14', 'n_cells_by_counts-L14', 'mean_counts-L14', 'pct_dropout_by_counts-L14', 'total_counts-L14', 'highly_variable-L14', 'means-L14', 'dispersions-L14', 'dispersions_norm-L14', 'n_cells-L2', 'n_cells_by_counts-L2', 'mean_counts-L2', 'pct_dropout_by_counts-L2', 'total_counts-L2', 'highly_variable-L2', 'means-L2', 'dispersions-L2', 'dispersions_norm-L2', 'n_cells-L3', 'n_cells_by_counts-L3', 'mean_counts-L3', 'pct_dropout_by_counts-L3', 'total_counts-L3', 'highly_variable-L3', 'means-L3', 'dispersions-L3', 'dispersions_norm-L3', 'n_cells-L4', 'n_cells_by_counts-L4', 'mean_counts-L4', 'pct_dropout_by_counts-L4', 'total_counts-L4', 'highly_variable-L4', 'means-L4', 'dispersions-L4', 'dispersions_norm-L4', 'n_cells-L5', 'n_cells_by_counts-L5', 'mean_counts-L5', 'pct_dropout_by_counts-L5', 'total_counts-L5', 'highly_variable-L5', 'means-L5', 'dispersions-L5', 'dispersions_norm-L5', 'n_cells-L6', 'n_cells_by_counts-L6', 'mean_counts-L6', 'pct_dropout_by_counts-L6', 'total_counts-L6', 'highly_variable-L6', 'means-L6', 'dispersions-L6', 'dispersions_norm-L6', 'n_cells-L7', 'n_cells_by_counts-L7', 'mean_counts-L7', 'pct_dropout_by_counts-L7', 'total_counts-L7', 'highly_variable-L7', 'means-L7', 'dispersions-L7', 'dispersions_norm-L7', 'n_cells-L8', 'n_cells_by_counts-L8', 'mean_counts-L8', 'pct_dropout_by_counts-L8', 'total_counts-L8', 'highly_variable-L8', 'means-L8', 'dispersions-L8', 'dispersions_norm-L8', 'n_cells-L9', 'n_cells_by_counts-L9', 'mean_counts-L9', 'pct_dropout_by_counts-L9', 'total_counts-L9', 'highly_variable-L9', 'means-L9', 'dispersions-L9', 'dispersions_norm-L9', 'highly_variable', 'means', 'dispersions', 'dispersions_norm', 'mean', 'std'\n",
       "    obsm: 'A6_only_highly_variable', 'B2_Concat_Singlet_RB_MT_X_pca', 'B2_Concat_Singlet_X_pca', 'Lib_X_pca', 'X_corected_Scanorama', 'X_pca', 'X_scanorama', 'X_scanorama_rb_mt', 'X_umap', 'X_umapA7_PCA_100_10_neighbors', 'X_umapA7_PCA_100_50_neighbors', 'X_umapA7_PCA_500_50_neighbors', 'X_umapA7_PCA_50_10_neighbors', 'X_umapB2_Concat_Singlet_PCA_100_10_neighbors', 'X_umapB2_Concat_Singlet_PCA_50_10_neighbors', 'X_umapB2_Concat_Singlet_RB_MT_PCA_100_10_neighbors', 'X_umapB2_Concat_Singlet_RB_MT_PCA_50_10_neighbors', 'X_umapB2_Scanorama', 'X_umapB2_Scanorama_Singlet', 'X_umapB2_Scanorama_Singlet_rb_mt'"
      ]
     },
     "execution_count": 161,
     "metadata": {},
     "output_type": "execute_result"
    }
   ],
   "source": [
    "anndata_reduced"
   ]
  },
  {
   "cell_type": "code",
   "execution_count": 162,
   "id": "c3cb794f-c245-4bb7-8f0b-ba95b9284625",
   "metadata": {},
   "outputs": [],
   "source": [
    "anndata_reduced.obs = anndata_reduced.obs[['nCount_HTO','B2_Scanorama_Singlet_cluster', 'B2_Scanorama_Singlet_rb_mt_cluster', 'cell_type_Scanorama', 'cluster_cell_type_Scanorama', 'classification_measurement', 'delta_ef_value_group_measurement', 'm_y', 'measurement_y', 'delta_ef_value_group', 'delta_ef_value', 'sample_y','age', 'sex', 'm_x', 'classification', 'group_y', 'measurement_x', 'sample_x', 'library', 'id', 'read', 'pattern', 'sequence', 'feature_type','in_sample', 'display_name', 'group_x']]"
   ]
  },
  {
   "cell_type": "code",
   "execution_count": 163,
   "id": "e1c89d17-811a-465d-8c38-ecf6423b3d28",
   "metadata": {},
   "outputs": [
    {
     "data": {
      "text/html": [
       "<div>\n",
       "<style scoped>\n",
       "    .dataframe tbody tr th:only-of-type {\n",
       "        vertical-align: middle;\n",
       "    }\n",
       "\n",
       "    .dataframe tbody tr th {\n",
       "        vertical-align: top;\n",
       "    }\n",
       "\n",
       "    .dataframe thead th {\n",
       "        text-align: right;\n",
       "    }\n",
       "</style>\n",
       "<table border=\"1\" class=\"dataframe\">\n",
       "  <thead>\n",
       "    <tr style=\"text-align: right;\">\n",
       "      <th></th>\n",
       "      <th>nCount_HTO</th>\n",
       "      <th>B2_Scanorama_Singlet_cluster</th>\n",
       "      <th>B2_Scanorama_Singlet_rb_mt_cluster</th>\n",
       "      <th>cell_type_Scanorama</th>\n",
       "      <th>cluster_cell_type_Scanorama</th>\n",
       "      <th>classification_measurement</th>\n",
       "      <th>delta_ef_value_group_measurement</th>\n",
       "      <th>m_y</th>\n",
       "      <th>measurement_y</th>\n",
       "      <th>delta_ef_value_group</th>\n",
       "      <th>...</th>\n",
       "      <th>sample_x</th>\n",
       "      <th>library</th>\n",
       "      <th>id</th>\n",
       "      <th>read</th>\n",
       "      <th>pattern</th>\n",
       "      <th>sequence</th>\n",
       "      <th>feature_type</th>\n",
       "      <th>in_sample</th>\n",
       "      <th>display_name</th>\n",
       "      <th>group_x</th>\n",
       "    </tr>\n",
       "  </thead>\n",
       "  <tbody>\n",
       "    <tr>\n",
       "      <th>AAACCCACATACAGGG-1-L1</th>\n",
       "      <td>1574.0</td>\n",
       "      <td>8</td>\n",
       "      <td>8</td>\n",
       "      <td>B-cell</td>\n",
       "      <td>8_B-cell</td>\n",
       "      <td>acs_w_o_infection_TP1</td>\n",
       "      <td>x_greater_1_TP1</td>\n",
       "      <td>M9 (14,3)</td>\n",
       "      <td>TP1</td>\n",
       "      <td>x_greater_1</td>\n",
       "      <td>...</td>\n",
       "      <td>9.1</td>\n",
       "      <td>L1</td>\n",
       "      <td>HTO_B0259</td>\n",
       "      <td>R2</td>\n",
       "      <td>5PNNNNNNNNNN(BC)</td>\n",
       "      <td>CAGTAGTCACGGTCA</td>\n",
       "      <td>Antibody Capture</td>\n",
       "      <td>1.0</td>\n",
       "      <td>9.1</td>\n",
       "      <td>TP1</td>\n",
       "    </tr>\n",
       "    <tr>\n",
       "      <th>AAACCCACATGACTTG-1-L1</th>\n",
       "      <td>379.0</td>\n",
       "      <td>9</td>\n",
       "      <td>9</td>\n",
       "      <td>Monocytes - CD16_FCGR3A</td>\n",
       "      <td>9_Monocytes - CD16_FCGR3A</td>\n",
       "      <td>acs_w_o_infection_TP1</td>\n",
       "      <td>x_greater_1_TP1</td>\n",
       "      <td>M9 (14,3)</td>\n",
       "      <td>TP1</td>\n",
       "      <td>x_greater_1</td>\n",
       "      <td>...</td>\n",
       "      <td>9.1</td>\n",
       "      <td>L1</td>\n",
       "      <td>HTO_B0259</td>\n",
       "      <td>R2</td>\n",
       "      <td>5PNNNNNNNNNN(BC)</td>\n",
       "      <td>CAGTAGTCACGGTCA</td>\n",
       "      <td>Antibody Capture</td>\n",
       "      <td>1.0</td>\n",
       "      <td>9.1</td>\n",
       "      <td>TP1</td>\n",
       "    </tr>\n",
       "    <tr>\n",
       "      <th>AAACCCAGTCATCAGT-1-L1</th>\n",
       "      <td>421.0</td>\n",
       "      <td>5</td>\n",
       "      <td>5</td>\n",
       "      <td>T-cell-CD4</td>\n",
       "      <td>5_T-cell-CD4</td>\n",
       "      <td>acs_w_o_infection_TP1</td>\n",
       "      <td>x_smaller_1_TP1</td>\n",
       "      <td>M7 (0,75)</td>\n",
       "      <td>TP1</td>\n",
       "      <td>x_smaller_1</td>\n",
       "      <td>...</td>\n",
       "      <td>7.1</td>\n",
       "      <td>L1</td>\n",
       "      <td>HTO_B0257</td>\n",
       "      <td>R2</td>\n",
       "      <td>5PNNNNNNNNNN(BC)</td>\n",
       "      <td>TGTCTTTCCTGCCAG</td>\n",
       "      <td>Antibody Capture</td>\n",
       "      <td>1.0</td>\n",
       "      <td>7.1</td>\n",
       "      <td>TP1</td>\n",
       "    </tr>\n",
       "    <tr>\n",
       "      <th>AAACCCAGTGGTAATA-1-L1</th>\n",
       "      <td>478.0</td>\n",
       "      <td>0</td>\n",
       "      <td>0</td>\n",
       "      <td>T-cell-CD4</td>\n",
       "      <td>0_T-cell-CD4</td>\n",
       "      <td>acs_w_o_infection_TP1</td>\n",
       "      <td>x_greater_1_TP1</td>\n",
       "      <td>M9 (14,3)</td>\n",
       "      <td>TP1</td>\n",
       "      <td>x_greater_1</td>\n",
       "      <td>...</td>\n",
       "      <td>9.1</td>\n",
       "      <td>L1</td>\n",
       "      <td>HTO_B0259</td>\n",
       "      <td>R2</td>\n",
       "      <td>5PNNNNNNNNNN(BC)</td>\n",
       "      <td>CAGTAGTCACGGTCA</td>\n",
       "      <td>Antibody Capture</td>\n",
       "      <td>1.0</td>\n",
       "      <td>9.1</td>\n",
       "      <td>TP1</td>\n",
       "    </tr>\n",
       "    <tr>\n",
       "      <th>AAACCCATCATCACAG-1-L1</th>\n",
       "      <td>851.0</td>\n",
       "      <td>16</td>\n",
       "      <td>16</td>\n",
       "      <td>Plasma Blast</td>\n",
       "      <td>16_Plasma Blast</td>\n",
       "      <td>acs_w_o_infection_TP1</td>\n",
       "      <td>x_greater_1_TP1</td>\n",
       "      <td>M9 (14,3)</td>\n",
       "      <td>TP1</td>\n",
       "      <td>x_greater_1</td>\n",
       "      <td>...</td>\n",
       "      <td>9.1</td>\n",
       "      <td>L1</td>\n",
       "      <td>HTO_B0259</td>\n",
       "      <td>R2</td>\n",
       "      <td>5PNNNNNNNNNN(BC)</td>\n",
       "      <td>CAGTAGTCACGGTCA</td>\n",
       "      <td>Antibody Capture</td>\n",
       "      <td>1.0</td>\n",
       "      <td>9.1</td>\n",
       "      <td>TP1</td>\n",
       "    </tr>\n",
       "    <tr>\n",
       "      <th>...</th>\n",
       "      <td>...</td>\n",
       "      <td>...</td>\n",
       "      <td>...</td>\n",
       "      <td>...</td>\n",
       "      <td>...</td>\n",
       "      <td>...</td>\n",
       "      <td>...</td>\n",
       "      <td>...</td>\n",
       "      <td>...</td>\n",
       "      <td>...</td>\n",
       "      <td>...</td>\n",
       "      <td>...</td>\n",
       "      <td>...</td>\n",
       "      <td>...</td>\n",
       "      <td>...</td>\n",
       "      <td>...</td>\n",
       "      <td>...</td>\n",
       "      <td>...</td>\n",
       "      <td>...</td>\n",
       "      <td>...</td>\n",
       "      <td>...</td>\n",
       "    </tr>\n",
       "    <tr>\n",
       "      <th>TTTGTTGCAGGTTCGC-1-L14</th>\n",
       "      <td>1666.0</td>\n",
       "      <td>10</td>\n",
       "      <td>10</td>\n",
       "      <td>B-cell</td>\n",
       "      <td>10_B-cell</td>\n",
       "      <td>acs_w_o_infection_TP4</td>\n",
       "      <td>x_smaller_1_TP4</td>\n",
       "      <td>M26 (0,3)</td>\n",
       "      <td>TP4</td>\n",
       "      <td>x_smaller_1</td>\n",
       "      <td>...</td>\n",
       "      <td>26.4</td>\n",
       "      <td>L14</td>\n",
       "      <td>HTO_B0256</td>\n",
       "      <td>R2</td>\n",
       "      <td>5PNNNNNNNNNN(BC)</td>\n",
       "      <td>GGTTGCCAGATGTCA</td>\n",
       "      <td>Antibody Capture</td>\n",
       "      <td>1.0</td>\n",
       "      <td>26.4</td>\n",
       "      <td>TP4</td>\n",
       "    </tr>\n",
       "    <tr>\n",
       "      <th>TTTGTTGGTACCTAGT-1-L14</th>\n",
       "      <td>810.0</td>\n",
       "      <td>0</td>\n",
       "      <td>0</td>\n",
       "      <td>T-cell-CD4</td>\n",
       "      <td>0_T-cell-CD4</td>\n",
       "      <td>acs_w_o_infection_TP4</td>\n",
       "      <td>x_smaller_1_TP4</td>\n",
       "      <td>M22 (0,067)</td>\n",
       "      <td>TP4</td>\n",
       "      <td>x_smaller_1</td>\n",
       "      <td>...</td>\n",
       "      <td>22.4</td>\n",
       "      <td>L14</td>\n",
       "      <td>HTO_B0253</td>\n",
       "      <td>R2</td>\n",
       "      <td>5PNNNNNNNNNN(BC)</td>\n",
       "      <td>TTCCGCCTCTCTTTG</td>\n",
       "      <td>Antibody Capture</td>\n",
       "      <td>1.0</td>\n",
       "      <td>22.4</td>\n",
       "      <td>TP4</td>\n",
       "    </tr>\n",
       "    <tr>\n",
       "      <th>TTTGTTGGTACGTTCA-1-L14</th>\n",
       "      <td>883.0</td>\n",
       "      <td>6</td>\n",
       "      <td>6</td>\n",
       "      <td>Monocytes - CD14</td>\n",
       "      <td>6_Monocytes - CD14</td>\n",
       "      <td>acs_w_o_infection_TP4</td>\n",
       "      <td>x_smaller_1_TP4</td>\n",
       "      <td>M23 (0)</td>\n",
       "      <td>TP4</td>\n",
       "      <td>x_smaller_1</td>\n",
       "      <td>...</td>\n",
       "      <td>23.4</td>\n",
       "      <td>L14</td>\n",
       "      <td>HTO_B0254</td>\n",
       "      <td>R2</td>\n",
       "      <td>5PNNNNNNNNNN(BC)</td>\n",
       "      <td>AGTAAGTTCAGCGTA</td>\n",
       "      <td>Antibody Capture</td>\n",
       "      <td>1.0</td>\n",
       "      <td>23.4</td>\n",
       "      <td>TP4</td>\n",
       "    </tr>\n",
       "    <tr>\n",
       "      <th>TTTGTTGGTGGACCAA-1-L14</th>\n",
       "      <td>1159.0</td>\n",
       "      <td>4</td>\n",
       "      <td>4</td>\n",
       "      <td>Monocytes - CD14</td>\n",
       "      <td>4_Monocytes - CD14</td>\n",
       "      <td>acs_w_o_infection_TP4</td>\n",
       "      <td>x_greater_1_TP4</td>\n",
       "      <td>M28 (2,25)</td>\n",
       "      <td>TP4</td>\n",
       "      <td>x_greater_1</td>\n",
       "      <td>...</td>\n",
       "      <td>28.4</td>\n",
       "      <td>L14</td>\n",
       "      <td>HTO_B0257</td>\n",
       "      <td>R2</td>\n",
       "      <td>5PNNNNNNNNNN(BC)</td>\n",
       "      <td>TGTCTTTCCTGCCAG</td>\n",
       "      <td>Antibody Capture</td>\n",
       "      <td>1.0</td>\n",
       "      <td>28.4</td>\n",
       "      <td>TP4</td>\n",
       "    </tr>\n",
       "    <tr>\n",
       "      <th>TTTGTTGTCGAAGAAT-1-L14</th>\n",
       "      <td>767.0</td>\n",
       "      <td>1</td>\n",
       "      <td>1</td>\n",
       "      <td>T-cell-CD8</td>\n",
       "      <td>1_T-cell-CD8</td>\n",
       "      <td>acs_w_o_infection_TP4</td>\n",
       "      <td>x_smaller_1_TP4</td>\n",
       "      <td>M23 (0)</td>\n",
       "      <td>TP4</td>\n",
       "      <td>x_smaller_1</td>\n",
       "      <td>...</td>\n",
       "      <td>23.4</td>\n",
       "      <td>L14</td>\n",
       "      <td>HTO_B0254</td>\n",
       "      <td>R2</td>\n",
       "      <td>5PNNNNNNNNNN(BC)</td>\n",
       "      <td>AGTAAGTTCAGCGTA</td>\n",
       "      <td>Antibody Capture</td>\n",
       "      <td>1.0</td>\n",
       "      <td>23.4</td>\n",
       "      <td>TP4</td>\n",
       "    </tr>\n",
       "  </tbody>\n",
       "</table>\n",
       "<p>148275 rows × 28 columns</p>\n",
       "</div>"
      ],
      "text/plain": [
       "                        nCount_HTO B2_Scanorama_Singlet_cluster  \\\n",
       "AAACCCACATACAGGG-1-L1       1574.0                            8   \n",
       "AAACCCACATGACTTG-1-L1        379.0                            9   \n",
       "AAACCCAGTCATCAGT-1-L1        421.0                            5   \n",
       "AAACCCAGTGGTAATA-1-L1        478.0                            0   \n",
       "AAACCCATCATCACAG-1-L1        851.0                           16   \n",
       "...                            ...                          ...   \n",
       "TTTGTTGCAGGTTCGC-1-L14      1666.0                           10   \n",
       "TTTGTTGGTACCTAGT-1-L14       810.0                            0   \n",
       "TTTGTTGGTACGTTCA-1-L14       883.0                            6   \n",
       "TTTGTTGGTGGACCAA-1-L14      1159.0                            4   \n",
       "TTTGTTGTCGAAGAAT-1-L14       767.0                            1   \n",
       "\n",
       "                       B2_Scanorama_Singlet_rb_mt_cluster  \\\n",
       "AAACCCACATACAGGG-1-L1                                   8   \n",
       "AAACCCACATGACTTG-1-L1                                   9   \n",
       "AAACCCAGTCATCAGT-1-L1                                   5   \n",
       "AAACCCAGTGGTAATA-1-L1                                   0   \n",
       "AAACCCATCATCACAG-1-L1                                  16   \n",
       "...                                                   ...   \n",
       "TTTGTTGCAGGTTCGC-1-L14                                 10   \n",
       "TTTGTTGGTACCTAGT-1-L14                                  0   \n",
       "TTTGTTGGTACGTTCA-1-L14                                  6   \n",
       "TTTGTTGGTGGACCAA-1-L14                                  4   \n",
       "TTTGTTGTCGAAGAAT-1-L14                                  1   \n",
       "\n",
       "                            cell_type_Scanorama cluster_cell_type_Scanorama  \\\n",
       "AAACCCACATACAGGG-1-L1                    B-cell                    8_B-cell   \n",
       "AAACCCACATGACTTG-1-L1   Monocytes - CD16_FCGR3A   9_Monocytes - CD16_FCGR3A   \n",
       "AAACCCAGTCATCAGT-1-L1                T-cell-CD4                5_T-cell-CD4   \n",
       "AAACCCAGTGGTAATA-1-L1                T-cell-CD4                0_T-cell-CD4   \n",
       "AAACCCATCATCACAG-1-L1              Plasma Blast             16_Plasma Blast   \n",
       "...                                         ...                         ...   \n",
       "TTTGTTGCAGGTTCGC-1-L14                   B-cell                   10_B-cell   \n",
       "TTTGTTGGTACCTAGT-1-L14               T-cell-CD4                0_T-cell-CD4   \n",
       "TTTGTTGGTACGTTCA-1-L14         Monocytes - CD14          6_Monocytes - CD14   \n",
       "TTTGTTGGTGGACCAA-1-L14         Monocytes - CD14          4_Monocytes - CD14   \n",
       "TTTGTTGTCGAAGAAT-1-L14               T-cell-CD8                1_T-cell-CD8   \n",
       "\n",
       "                       classification_measurement  \\\n",
       "AAACCCACATACAGGG-1-L1       acs_w_o_infection_TP1   \n",
       "AAACCCACATGACTTG-1-L1       acs_w_o_infection_TP1   \n",
       "AAACCCAGTCATCAGT-1-L1       acs_w_o_infection_TP1   \n",
       "AAACCCAGTGGTAATA-1-L1       acs_w_o_infection_TP1   \n",
       "AAACCCATCATCACAG-1-L1       acs_w_o_infection_TP1   \n",
       "...                                           ...   \n",
       "TTTGTTGCAGGTTCGC-1-L14      acs_w_o_infection_TP4   \n",
       "TTTGTTGGTACCTAGT-1-L14      acs_w_o_infection_TP4   \n",
       "TTTGTTGGTACGTTCA-1-L14      acs_w_o_infection_TP4   \n",
       "TTTGTTGGTGGACCAA-1-L14      acs_w_o_infection_TP4   \n",
       "TTTGTTGTCGAAGAAT-1-L14      acs_w_o_infection_TP4   \n",
       "\n",
       "                       delta_ef_value_group_measurement           m_y  \\\n",
       "AAACCCACATACAGGG-1-L1                   x_greater_1_TP1    M9 (14,3)    \n",
       "AAACCCACATGACTTG-1-L1                   x_greater_1_TP1    M9 (14,3)    \n",
       "AAACCCAGTCATCAGT-1-L1                   x_smaller_1_TP1     M7 (0,75)   \n",
       "AAACCCAGTGGTAATA-1-L1                   x_greater_1_TP1    M9 (14,3)    \n",
       "AAACCCATCATCACAG-1-L1                   x_greater_1_TP1    M9 (14,3)    \n",
       "...                                                 ...           ...   \n",
       "TTTGTTGCAGGTTCGC-1-L14                  x_smaller_1_TP4    M26 (0,3)    \n",
       "TTTGTTGGTACCTAGT-1-L14                  x_smaller_1_TP4  M22 (0,067)    \n",
       "TTTGTTGGTACGTTCA-1-L14                  x_smaller_1_TP4      M23 (0)    \n",
       "TTTGTTGGTGGACCAA-1-L14                  x_greater_1_TP4   M28 (2,25)    \n",
       "TTTGTTGTCGAAGAAT-1-L14                  x_smaller_1_TP4      M23 (0)    \n",
       "\n",
       "                       measurement_y delta_ef_value_group  ...  sample_x  \\\n",
       "AAACCCACATACAGGG-1-L1            TP1          x_greater_1  ...       9.1   \n",
       "AAACCCACATGACTTG-1-L1            TP1          x_greater_1  ...       9.1   \n",
       "AAACCCAGTCATCAGT-1-L1            TP1          x_smaller_1  ...       7.1   \n",
       "AAACCCAGTGGTAATA-1-L1            TP1          x_greater_1  ...       9.1   \n",
       "AAACCCATCATCACAG-1-L1            TP1          x_greater_1  ...       9.1   \n",
       "...                              ...                  ...  ...       ...   \n",
       "TTTGTTGCAGGTTCGC-1-L14           TP4          x_smaller_1  ...      26.4   \n",
       "TTTGTTGGTACCTAGT-1-L14           TP4          x_smaller_1  ...      22.4   \n",
       "TTTGTTGGTACGTTCA-1-L14           TP4          x_smaller_1  ...      23.4   \n",
       "TTTGTTGGTGGACCAA-1-L14           TP4          x_greater_1  ...      28.4   \n",
       "TTTGTTGTCGAAGAAT-1-L14           TP4          x_smaller_1  ...      23.4   \n",
       "\n",
       "                       library         id read           pattern  \\\n",
       "AAACCCACATACAGGG-1-L1       L1  HTO_B0259   R2  5PNNNNNNNNNN(BC)   \n",
       "AAACCCACATGACTTG-1-L1       L1  HTO_B0259   R2  5PNNNNNNNNNN(BC)   \n",
       "AAACCCAGTCATCAGT-1-L1       L1  HTO_B0257   R2  5PNNNNNNNNNN(BC)   \n",
       "AAACCCAGTGGTAATA-1-L1       L1  HTO_B0259   R2  5PNNNNNNNNNN(BC)   \n",
       "AAACCCATCATCACAG-1-L1       L1  HTO_B0259   R2  5PNNNNNNNNNN(BC)   \n",
       "...                        ...        ...  ...               ...   \n",
       "TTTGTTGCAGGTTCGC-1-L14     L14  HTO_B0256   R2  5PNNNNNNNNNN(BC)   \n",
       "TTTGTTGGTACCTAGT-1-L14     L14  HTO_B0253   R2  5PNNNNNNNNNN(BC)   \n",
       "TTTGTTGGTACGTTCA-1-L14     L14  HTO_B0254   R2  5PNNNNNNNNNN(BC)   \n",
       "TTTGTTGGTGGACCAA-1-L14     L14  HTO_B0257   R2  5PNNNNNNNNNN(BC)   \n",
       "TTTGTTGTCGAAGAAT-1-L14     L14  HTO_B0254   R2  5PNNNNNNNNNN(BC)   \n",
       "\n",
       "                               sequence      feature_type in_sample  \\\n",
       "AAACCCACATACAGGG-1-L1   CAGTAGTCACGGTCA  Antibody Capture       1.0   \n",
       "AAACCCACATGACTTG-1-L1   CAGTAGTCACGGTCA  Antibody Capture       1.0   \n",
       "AAACCCAGTCATCAGT-1-L1   TGTCTTTCCTGCCAG  Antibody Capture       1.0   \n",
       "AAACCCAGTGGTAATA-1-L1   CAGTAGTCACGGTCA  Antibody Capture       1.0   \n",
       "AAACCCATCATCACAG-1-L1   CAGTAGTCACGGTCA  Antibody Capture       1.0   \n",
       "...                                 ...               ...       ...   \n",
       "TTTGTTGCAGGTTCGC-1-L14  GGTTGCCAGATGTCA  Antibody Capture       1.0   \n",
       "TTTGTTGGTACCTAGT-1-L14  TTCCGCCTCTCTTTG  Antibody Capture       1.0   \n",
       "TTTGTTGGTACGTTCA-1-L14  AGTAAGTTCAGCGTA  Antibody Capture       1.0   \n",
       "TTTGTTGGTGGACCAA-1-L14  TGTCTTTCCTGCCAG  Antibody Capture       1.0   \n",
       "TTTGTTGTCGAAGAAT-1-L14  AGTAAGTTCAGCGTA  Antibody Capture       1.0   \n",
       "\n",
       "                       display_name group_x  \n",
       "AAACCCACATACAGGG-1-L1           9.1     TP1  \n",
       "AAACCCACATGACTTG-1-L1           9.1     TP1  \n",
       "AAACCCAGTCATCAGT-1-L1           7.1     TP1  \n",
       "AAACCCAGTGGTAATA-1-L1           9.1     TP1  \n",
       "AAACCCATCATCACAG-1-L1           9.1     TP1  \n",
       "...                             ...     ...  \n",
       "TTTGTTGCAGGTTCGC-1-L14         26.4     TP4  \n",
       "TTTGTTGGTACCTAGT-1-L14         22.4     TP4  \n",
       "TTTGTTGGTACGTTCA-1-L14         23.4     TP4  \n",
       "TTTGTTGGTGGACCAA-1-L14         28.4     TP4  \n",
       "TTTGTTGTCGAAGAAT-1-L14         23.4     TP4  \n",
       "\n",
       "[148275 rows x 28 columns]"
      ]
     },
     "execution_count": 163,
     "metadata": {},
     "output_type": "execute_result"
    }
   ],
   "source": [
    "anndata_reduced.obs"
   ]
  },
  {
   "cell_type": "code",
   "execution_count": 164,
   "id": "b4f9a1ba-1ceb-4571-a3f4-21a027bb0adf",
   "metadata": {},
   "outputs": [],
   "source": [
    "for col in anndata_reduced.obs.columns:\n",
    "    if pd.api.types.is_categorical_dtype(anndata_reduced.obs[col]):\n",
    "        anndata_reduced.obs[col]=anndata_reduced.obs[col].cat.add_categories(\"missing\").fillna('missing')"
   ]
  },
  {
   "cell_type": "code",
   "execution_count": 165,
   "id": "f8af9bf2-953a-4cb8-a18a-566cbf15f1f5",
   "metadata": {},
   "outputs": [],
   "source": [
    "obsm = anndata_reduced.obsm['X_corected_Scanorama'] "
   ]
  },
  {
   "cell_type": "code",
   "execution_count": 166,
   "id": "0317852d-7ed3-4f08-845d-b16a27451be3",
   "metadata": {},
   "outputs": [
    {
     "data": {
      "text/plain": [
       "matrix([[21.065617],\n",
       "        [25.584118],\n",
       "        [21.224699],\n",
       "        ...,\n",
       "        [22.754984],\n",
       "        [29.788113],\n",
       "        [23.377083]], dtype=float32)"
      ]
     },
     "execution_count": 166,
     "metadata": {},
     "output_type": "execute_result"
    }
   ],
   "source": [
    "obsm.sum(axis = 1)"
   ]
  },
  {
   "cell_type": "code",
   "execution_count": 167,
   "id": "f2633adf-3c23-41a2-8d0b-ffde78e52830",
   "metadata": {},
   "outputs": [],
   "source": [
    "anndata_scanorama = sc.AnnData(X=anndata_reduced.obsm['X_corected_Scanorama'], obs = anndata_reduced.obs)"
   ]
  },
  {
   "cell_type": "code",
   "execution_count": 168,
   "id": "ad3fce4e-633c-4a73-9258-04f669a112a3",
   "metadata": {},
   "outputs": [
    {
     "data": {
      "text/plain": [
       "AnnData object with n_obs × n_vars = 148275 × 2000\n",
       "    obs: 'nCount_HTO', 'B2_Scanorama_Singlet_cluster', 'B2_Scanorama_Singlet_rb_mt_cluster', 'cell_type_Scanorama', 'cluster_cell_type_Scanorama', 'classification_measurement', 'delta_ef_value_group_measurement', 'm_y', 'measurement_y', 'delta_ef_value_group', 'delta_ef_value', 'sample_y', 'age', 'sex', 'm_x', 'classification', 'group_y', 'measurement_x', 'sample_x', 'library', 'id', 'read', 'pattern', 'sequence', 'feature_type', 'in_sample', 'display_name', 'group_x'"
      ]
     },
     "execution_count": 168,
     "metadata": {},
     "output_type": "execute_result"
    }
   ],
   "source": [
    "anndata_scanorama"
   ]
  },
  {
   "cell_type": "code",
   "execution_count": 169,
   "id": "2a84fca0-71ba-4a13-bd97-29e95bfd8066",
   "metadata": {},
   "outputs": [
    {
     "data": {
      "text/plain": [
       "matrix([[21.065617],\n",
       "        [25.584118],\n",
       "        [21.224699],\n",
       "        ...,\n",
       "        [22.754984],\n",
       "        [29.788113],\n",
       "        [23.377083]], dtype=float32)"
      ]
     },
     "execution_count": 169,
     "metadata": {},
     "output_type": "execute_result"
    }
   ],
   "source": [
    "anndata_scanorama.X.sum(axis = 1)"
   ]
  },
  {
   "cell_type": "code",
   "execution_count": 170,
   "id": "544b87df-9a80-4935-b274-d28b72939017",
   "metadata": {},
   "outputs": [],
   "source": [
    "#anndata_scanorama.raw.X.sum(axis=1)"
   ]
  },
  {
   "cell_type": "code",
   "execution_count": 171,
   "id": "8ba3aa1c-bf05-4269-be35-ecbf4f4ff71b",
   "metadata": {},
   "outputs": [],
   "source": [
    "#anndata"
   ]
  },
  {
   "cell_type": "code",
   "execution_count": 172,
   "id": "2ee6369d-0c40-4d07-b5ad-5eb8cdb42869",
   "metadata": {},
   "outputs": [],
   "source": [
    "del anndata_reduced.obsm"
   ]
  },
  {
   "cell_type": "code",
   "execution_count": 173,
   "id": "4b37b0c1-52d8-4257-94ca-4d07fc8d7672",
   "metadata": {},
   "outputs": [
    {
     "data": {
      "text/plain": [
       "AnnData object with n_obs × n_vars = 148275 × 1392\n",
       "    obs: 'nCount_HTO', 'B2_Scanorama_Singlet_cluster', 'B2_Scanorama_Singlet_rb_mt_cluster', 'cell_type_Scanorama', 'cluster_cell_type_Scanorama', 'classification_measurement', 'delta_ef_value_group_measurement', 'm_y', 'measurement_y', 'delta_ef_value_group', 'delta_ef_value', 'sample_y', 'age', 'sex', 'm_x', 'classification', 'group_y', 'measurement_x', 'sample_x', 'library', 'id', 'read', 'pattern', 'sequence', 'feature_type', 'in_sample', 'display_name', 'group_x'\n",
       "    var: 'gene_ids', 'feature_types', 'genome', 'mt', 'rb', 'n_cells-L1', 'n_cells_by_counts-L1', 'mean_counts-L1', 'pct_dropout_by_counts-L1', 'total_counts-L1', 'highly_variable-L1', 'means-L1', 'dispersions-L1', 'dispersions_norm-L1', 'n_cells-L10', 'n_cells_by_counts-L10', 'mean_counts-L10', 'pct_dropout_by_counts-L10', 'total_counts-L10', 'highly_variable-L10', 'means-L10', 'dispersions-L10', 'dispersions_norm-L10', 'n_cells-L11', 'n_cells_by_counts-L11', 'mean_counts-L11', 'pct_dropout_by_counts-L11', 'total_counts-L11', 'highly_variable-L11', 'means-L11', 'dispersions-L11', 'dispersions_norm-L11', 'n_cells-L12', 'n_cells_by_counts-L12', 'mean_counts-L12', 'pct_dropout_by_counts-L12', 'total_counts-L12', 'highly_variable-L12', 'means-L12', 'dispersions-L12', 'dispersions_norm-L12', 'n_cells-L13', 'n_cells_by_counts-L13', 'mean_counts-L13', 'pct_dropout_by_counts-L13', 'total_counts-L13', 'highly_variable-L13', 'means-L13', 'dispersions-L13', 'dispersions_norm-L13', 'n_cells-L14', 'n_cells_by_counts-L14', 'mean_counts-L14', 'pct_dropout_by_counts-L14', 'total_counts-L14', 'highly_variable-L14', 'means-L14', 'dispersions-L14', 'dispersions_norm-L14', 'n_cells-L2', 'n_cells_by_counts-L2', 'mean_counts-L2', 'pct_dropout_by_counts-L2', 'total_counts-L2', 'highly_variable-L2', 'means-L2', 'dispersions-L2', 'dispersions_norm-L2', 'n_cells-L3', 'n_cells_by_counts-L3', 'mean_counts-L3', 'pct_dropout_by_counts-L3', 'total_counts-L3', 'highly_variable-L3', 'means-L3', 'dispersions-L3', 'dispersions_norm-L3', 'n_cells-L4', 'n_cells_by_counts-L4', 'mean_counts-L4', 'pct_dropout_by_counts-L4', 'total_counts-L4', 'highly_variable-L4', 'means-L4', 'dispersions-L4', 'dispersions_norm-L4', 'n_cells-L5', 'n_cells_by_counts-L5', 'mean_counts-L5', 'pct_dropout_by_counts-L5', 'total_counts-L5', 'highly_variable-L5', 'means-L5', 'dispersions-L5', 'dispersions_norm-L5', 'n_cells-L6', 'n_cells_by_counts-L6', 'mean_counts-L6', 'pct_dropout_by_counts-L6', 'total_counts-L6', 'highly_variable-L6', 'means-L6', 'dispersions-L6', 'dispersions_norm-L6', 'n_cells-L7', 'n_cells_by_counts-L7', 'mean_counts-L7', 'pct_dropout_by_counts-L7', 'total_counts-L7', 'highly_variable-L7', 'means-L7', 'dispersions-L7', 'dispersions_norm-L7', 'n_cells-L8', 'n_cells_by_counts-L8', 'mean_counts-L8', 'pct_dropout_by_counts-L8', 'total_counts-L8', 'highly_variable-L8', 'means-L8', 'dispersions-L8', 'dispersions_norm-L8', 'n_cells-L9', 'n_cells_by_counts-L9', 'mean_counts-L9', 'pct_dropout_by_counts-L9', 'total_counts-L9', 'highly_variable-L9', 'means-L9', 'dispersions-L9', 'dispersions_norm-L9', 'highly_variable', 'means', 'dispersions', 'dispersions_norm', 'mean', 'std'"
      ]
     },
     "execution_count": 173,
     "metadata": {},
     "output_type": "execute_result"
    }
   ],
   "source": [
    "anndata_reduced"
   ]
  },
  {
   "cell_type": "code",
   "execution_count": 174,
   "id": "fc40e0ea-ada7-4a16-b219-677ab8e1acf1",
   "metadata": {},
   "outputs": [],
   "source": [
    "data_name = data_path + '/analysis/B/B6_DE_Integrated_Singlet_processed_rna.h5ad'"
   ]
  },
  {
   "cell_type": "code",
   "execution_count": 175,
   "id": "a51456ec-682e-446f-8246-48fe4a99ede7",
   "metadata": {},
   "outputs": [],
   "source": [
    "data_name_scano = data_path + '/analysis/B/B6_DE_Integrated_Singlet_processed_scanorama_rna.h5ad'"
   ]
  },
  {
   "cell_type": "code",
   "execution_count": 176,
   "id": "e7b01a22-f65a-4d19-93e7-4653fcfc1585",
   "metadata": {},
   "outputs": [
    {
     "data": {
      "text/plain": [
       "AnnData object with n_obs × n_vars = 148275 × 1392\n",
       "    obs: 'nCount_HTO', 'B2_Scanorama_Singlet_cluster', 'B2_Scanorama_Singlet_rb_mt_cluster', 'cell_type_Scanorama', 'cluster_cell_type_Scanorama', 'classification_measurement', 'delta_ef_value_group_measurement', 'm_y', 'measurement_y', 'delta_ef_value_group', 'delta_ef_value', 'sample_y', 'age', 'sex', 'm_x', 'classification', 'group_y', 'measurement_x', 'sample_x', 'library', 'id', 'read', 'pattern', 'sequence', 'feature_type', 'in_sample', 'display_name', 'group_x'\n",
       "    var: 'gene_ids', 'feature_types', 'genome', 'mt', 'rb', 'n_cells-L1', 'n_cells_by_counts-L1', 'mean_counts-L1', 'pct_dropout_by_counts-L1', 'total_counts-L1', 'highly_variable-L1', 'means-L1', 'dispersions-L1', 'dispersions_norm-L1', 'n_cells-L10', 'n_cells_by_counts-L10', 'mean_counts-L10', 'pct_dropout_by_counts-L10', 'total_counts-L10', 'highly_variable-L10', 'means-L10', 'dispersions-L10', 'dispersions_norm-L10', 'n_cells-L11', 'n_cells_by_counts-L11', 'mean_counts-L11', 'pct_dropout_by_counts-L11', 'total_counts-L11', 'highly_variable-L11', 'means-L11', 'dispersions-L11', 'dispersions_norm-L11', 'n_cells-L12', 'n_cells_by_counts-L12', 'mean_counts-L12', 'pct_dropout_by_counts-L12', 'total_counts-L12', 'highly_variable-L12', 'means-L12', 'dispersions-L12', 'dispersions_norm-L12', 'n_cells-L13', 'n_cells_by_counts-L13', 'mean_counts-L13', 'pct_dropout_by_counts-L13', 'total_counts-L13', 'highly_variable-L13', 'means-L13', 'dispersions-L13', 'dispersions_norm-L13', 'n_cells-L14', 'n_cells_by_counts-L14', 'mean_counts-L14', 'pct_dropout_by_counts-L14', 'total_counts-L14', 'highly_variable-L14', 'means-L14', 'dispersions-L14', 'dispersions_norm-L14', 'n_cells-L2', 'n_cells_by_counts-L2', 'mean_counts-L2', 'pct_dropout_by_counts-L2', 'total_counts-L2', 'highly_variable-L2', 'means-L2', 'dispersions-L2', 'dispersions_norm-L2', 'n_cells-L3', 'n_cells_by_counts-L3', 'mean_counts-L3', 'pct_dropout_by_counts-L3', 'total_counts-L3', 'highly_variable-L3', 'means-L3', 'dispersions-L3', 'dispersions_norm-L3', 'n_cells-L4', 'n_cells_by_counts-L4', 'mean_counts-L4', 'pct_dropout_by_counts-L4', 'total_counts-L4', 'highly_variable-L4', 'means-L4', 'dispersions-L4', 'dispersions_norm-L4', 'n_cells-L5', 'n_cells_by_counts-L5', 'mean_counts-L5', 'pct_dropout_by_counts-L5', 'total_counts-L5', 'highly_variable-L5', 'means-L5', 'dispersions-L5', 'dispersions_norm-L5', 'n_cells-L6', 'n_cells_by_counts-L6', 'mean_counts-L6', 'pct_dropout_by_counts-L6', 'total_counts-L6', 'highly_variable-L6', 'means-L6', 'dispersions-L6', 'dispersions_norm-L6', 'n_cells-L7', 'n_cells_by_counts-L7', 'mean_counts-L7', 'pct_dropout_by_counts-L7', 'total_counts-L7', 'highly_variable-L7', 'means-L7', 'dispersions-L7', 'dispersions_norm-L7', 'n_cells-L8', 'n_cells_by_counts-L8', 'mean_counts-L8', 'pct_dropout_by_counts-L8', 'total_counts-L8', 'highly_variable-L8', 'means-L8', 'dispersions-L8', 'dispersions_norm-L8', 'n_cells-L9', 'n_cells_by_counts-L9', 'mean_counts-L9', 'pct_dropout_by_counts-L9', 'total_counts-L9', 'highly_variable-L9', 'means-L9', 'dispersions-L9', 'dispersions_norm-L9', 'highly_variable', 'means', 'dispersions', 'dispersions_norm', 'mean', 'std'"
      ]
     },
     "execution_count": 176,
     "metadata": {},
     "output_type": "execute_result"
    }
   ],
   "source": [
    "anndata_reduced"
   ]
  },
  {
   "cell_type": "code",
   "execution_count": 177,
   "id": "8ad85ea2-c130-48a4-a5e7-a4d194ad513d",
   "metadata": {},
   "outputs": [],
   "source": [
    "## Select obs columns to keep "
   ]
  },
  {
   "cell_type": "code",
   "execution_count": 178,
   "id": "e971e99e-4d86-46f6-97b3-85429a855853",
   "metadata": {},
   "outputs": [],
   "source": [
    "anndata_reduced.obs = anndata_reduced.obs[['nCount_HTO', 'B2_Scanorama_Singlet_rb_mt_cluster', 'cell_type_Scanorama', 'cluster_cell_type_Scanorama', 'library', 'in_sample', 'display_name', 'classification']]"
   ]
  },
  {
   "cell_type": "code",
   "execution_count": 186,
   "id": "6315abd9-ee7e-4817-92a6-39693d8cb17a",
   "metadata": {},
   "outputs": [
    {
     "data": {
      "text/plain": [
       "['9.1', '7.1', '8.1', '4.1', '1.1', ..., '21.4', '28.4', '26.4', '4.4', '23.4']\n",
       "Length: 119\n",
       "Categories (120, object): ['1.1', '2', '2.1', '2.2', ..., '32', '33', '34', 'missing']"
      ]
     },
     "execution_count": 186,
     "metadata": {},
     "output_type": "execute_result"
    }
   ],
   "source": [
    "pd.unique(anndata_reduced.obs['display_name'])"
   ]
  },
  {
   "cell_type": "code",
   "execution_count": 187,
   "id": "0168f1d7-4f84-4591-b04c-093513ea14ec",
   "metadata": {},
   "outputs": [
    {
     "data": {
      "text/plain": [
       "['acs_w_o_infection', 'acs_subacute', 'acs_w_infection', 'koronarsklerose', 'vollstaendiger_ausschluss', 'ccs']\n",
       "Categories (7, object): ['acs_subacute', 'acs_w_infection', 'acs_w_o_infection', 'ccs', 'koronarsklerose', 'vollstaendiger_ausschluss', 'missing']"
      ]
     },
     "execution_count": 187,
     "metadata": {},
     "output_type": "execute_result"
    }
   ],
   "source": [
    "pd.unique(anndata_reduced.obs['classification'])"
   ]
  },
  {
   "cell_type": "code",
   "execution_count": 208,
   "id": "f3da3990-97fc-452e-9aa5-3ffca3ec6918",
   "metadata": {},
   "outputs": [],
   "source": [
    "anndata_reduced.obs['sample_id'] = anndata_reduced.obs['display_name']"
   ]
  },
  {
   "cell_type": "code",
   "execution_count": 209,
   "id": "5026d9b3-2ef4-4499-8d80-a9c859003517",
   "metadata": {},
   "outputs": [],
   "source": [
    "anndata_reduced.obs['sample_id'] = anndata_reduced.obs['sample_id'].astype('string')"
   ]
  },
  {
   "cell_type": "code",
   "execution_count": 210,
   "id": "9a294362-ab33-42fe-90bb-a0a89f5815bf",
   "metadata": {},
   "outputs": [],
   "source": [
    "#anndata_reduced.obs['sample_id'][anndata_reduced.obs['classification'].isin(['ccs', 'vollstaendiger_ausschluss', 'koronarsklerose'])].astype('string')"
   ]
  },
  {
   "cell_type": "code",
   "execution_count": 211,
   "id": "f4264b86-468f-4880-8f25-ac4eab013e31",
   "metadata": {},
   "outputs": [],
   "source": [
    "anndata_reduced.obs['sample_id'][anndata_reduced.obs['classification'].isin(['ccs', 'vollstaendiger_ausschluss', 'koronarsklerose'])] = 'k'  + anndata_reduced.obs['sample_id'][anndata_reduced.obs['classification'].isin(['ccs', 'vollstaendiger_ausschluss', 'koronarsklerose'])].astype('string')\n",
    "anndata_reduced.obs['sample_id'][anndata_reduced.obs['classification'].isin(['acs_subacute', 'acs_w_infection', 'acs_w_o_infection'])] = 'm'  + anndata_reduced.obs['sample_id'][anndata_reduced.obs['classification'].isin(['acs_subacute', 'acs_w_infection', 'acs_w_o_infection'])].astype('string')"
   ]
  },
  {
   "cell_type": "code",
   "execution_count": 212,
   "id": "fa51de09-454f-4042-b651-daa141774ee9",
   "metadata": {},
   "outputs": [],
   "source": [
    "anndata_reduced.var = anndata_reduced.var[['gene_ids',  'highly_variable', 'means', 'dispersions', 'dispersions_norm', 'mean', 'std']]"
   ]
  },
  {
   "cell_type": "code",
   "execution_count": 213,
   "id": "30cafbe9-4770-4464-b1b7-9ed72c702289",
   "metadata": {},
   "outputs": [
    {
     "data": {
      "text/plain": [
       "<StringArray>\n",
       "[ 'm9.1',  'm7.1',  'm8.1',  'm4.1',  'm1.1',  'm2.1',  'm5.1', 'm13.1',\n",
       " 'm15.1', 'm18.1',\n",
       " ...\n",
       "   'k31',    'k6', 'm24.4', 'm20.4', 'm22.4', 'm21.4', 'm28.4', 'm26.4',\n",
       "  'm4.4', 'm23.4']\n",
       "Length: 119, dtype: string"
      ]
     },
     "execution_count": 213,
     "metadata": {},
     "output_type": "execute_result"
    }
   ],
   "source": [
    "pd.unique(anndata_reduced.obs['sample_id'])"
   ]
  },
  {
   "cell_type": "code",
   "execution_count": null,
   "id": "1cbe4d20-e497-428a-ab99-84b8c0b945f6",
   "metadata": {},
   "outputs": [],
   "source": []
  },
  {
   "cell_type": "code",
   "execution_count": 214,
   "id": "ae568af9-8aa3-46bf-8907-4bcf7008abe6",
   "metadata": {},
   "outputs": [],
   "source": [
    "#anndata_reduced.uns"
   ]
  },
  {
   "cell_type": "code",
   "execution_count": 215,
   "id": "dbebe30f-2edb-4d63-b5a7-5191b9803470",
   "metadata": {},
   "outputs": [
    {
     "name": "stderr",
     "output_type": "stream",
     "text": [
      "... storing 'sample_id' as categorical\n"
     ]
    }
   ],
   "source": [
    "anndata_reduced.write(data_name)"
   ]
  },
  {
   "cell_type": "code",
   "execution_count": 227,
   "id": "949e7dc5-aa55-43e5-9e8b-98ed3c6bb2fc",
   "metadata": {},
   "outputs": [
    {
     "data": {
      "text/plain": [
       "'../data/current/analysis/B/B6_DE_Integrated_Singlet_processed_rna.h5ad'"
      ]
     },
     "execution_count": 227,
     "metadata": {},
     "output_type": "execute_result"
    }
   ],
   "source": [
    "data_name"
   ]
  },
  {
   "cell_type": "code",
   "execution_count": null,
   "id": "ff1aece9-0b00-4241-bda0-c77f6d361bb4",
   "metadata": {},
   "outputs": [],
   "source": []
  },
  {
   "cell_type": "code",
   "execution_count": null,
   "id": "a161576a-c4f7-4a54-84b1-1a857550b87b",
   "metadata": {},
   "outputs": [],
   "source": []
  },
  {
   "cell_type": "code",
   "execution_count": 216,
   "id": "ec50f593-3d85-4981-b94f-682d7d90fdfa",
   "metadata": {},
   "outputs": [],
   "source": [
    "anndata_scanorama.write(data_name_scano)"
   ]
  },
  {
   "cell_type": "code",
   "execution_count": null,
   "id": "8d4fd4b5-3029-4d6b-a073-44afb9aafee9",
   "metadata": {},
   "outputs": [],
   "source": []
  },
  {
   "cell_type": "markdown",
   "id": "c77be610-ae68-4156-a63f-751d6575f61b",
   "metadata": {},
   "source": [
    "# Save dataset to share via zenodo"
   ]
  },
  {
   "cell_type": "code",
   "execution_count": 217,
   "id": "01167ecb-21e5-4c91-bd6e-44a06184813e",
   "metadata": {},
   "outputs": [
    {
     "data": {
      "text/plain": [
       "matrix([[ 3947.],\n",
       "        [ 5870.],\n",
       "        [ 3888.],\n",
       "        ...,\n",
       "        [ 4079.],\n",
       "        [17619.],\n",
       "        [ 3231.]], dtype=float32)"
      ]
     },
     "execution_count": 217,
     "metadata": {},
     "output_type": "execute_result"
    }
   ],
   "source": [
    "anndata_reduced.raw.X.sum(axis=1)  # contains the raw values"
   ]
  },
  {
   "cell_type": "code",
   "execution_count": 218,
   "id": "06eaaa78-5d2c-4b88-893f-d515ca1fd433",
   "metadata": {},
   "outputs": [],
   "source": [
    "## Remove some columns from # obs that are not needed"
   ]
  },
  {
   "cell_type": "code",
   "execution_count": 220,
   "id": "074867bb-b8c8-4d7a-8ba5-0c1823ba3f61",
   "metadata": {},
   "outputs": [
    {
     "data": {
      "text/plain": [
       "AnnData object with n_obs × n_vars = 148275 × 1392\n",
       "    obs: 'nCount_HTO', 'B2_Scanorama_Singlet_rb_mt_cluster', 'cell_type_Scanorama', 'cluster_cell_type_Scanorama', 'library', 'in_sample', 'display_name', 'classification', 'sample_id'\n",
       "    var: 'gene_ids', 'highly_variable', 'means', 'dispersions', 'dispersions_norm', 'mean', 'std'"
      ]
     },
     "execution_count": 220,
     "metadata": {},
     "output_type": "execute_result"
    }
   ],
   "source": [
    "anndata_reduced"
   ]
  },
  {
   "cell_type": "code",
   "execution_count": 221,
   "id": "754a237b-0f23-4bf7-aeda-1125bea09fd5",
   "metadata": {},
   "outputs": [
    {
     "data": {
      "text/plain": [
       "['8', '9', '5', '0', '16', ..., '10', '17', '12', '15', '18']\n",
       "Length: 19\n",
       "Categories (20, object): ['0', '1', '2', '3', ..., '16', '17', '18', 'missing']"
      ]
     },
     "execution_count": 221,
     "metadata": {},
     "output_type": "execute_result"
    }
   ],
   "source": [
    "pd.unique(anndata_reduced.obs['B2_Scanorama_Singlet_rb_mt_cluster'])"
   ]
  },
  {
   "cell_type": "code",
   "execution_count": 226,
   "id": "ff4f3e5d-ad9d-48d6-bf7a-ccac7ad98b6b",
   "metadata": {},
   "outputs": [
    {
     "data": {
      "text/plain": [
       "['8_B-cell', '9_Monocytes - CD16_FCGR3A', '5_T-cell-CD4', '0_T-cell-CD4', '16_Plasma Blast', ..., '10_B-cell', '17_Progenitor', '12_Monocytes - CD16_FCGR3A', '15_Plasma Blast', '18_Megakaryocytes']\n",
       "Length: 19\n",
       "Categories (20, object): ['0_T-cell-CD4', '1_T-cell-CD8', '2_T-cell-CD4', '3_NK', ..., '16_Plasma Blast', '17_Progenitor', '18_Megakaryocytes', 'missing']"
      ]
     },
     "execution_count": 226,
     "metadata": {},
     "output_type": "execute_result"
    }
   ],
   "source": [
    "\n",
    "pd.unique(anndata_reduced.obs['cluster_cell_type_Scanorama'])"
   ]
  },
  {
   "cell_type": "code",
   "execution_count": 228,
   "id": "b2df9353-d796-4071-9b45-0870bd12be92",
   "metadata": {},
   "outputs": [],
   "source": [
    "anndata_reduced.write(result_path + '/Submission/Prepared_sc_Data.h5ad')"
   ]
  },
  {
   "cell_type": "code",
   "execution_count": null,
   "id": "766e108c-5105-46f2-9d05-08469b9f74de",
   "metadata": {},
   "outputs": [],
   "source": []
  }
 ],
 "metadata": {
  "kernelspec": {
   "display_name": "Python 3 (ipykernel)",
   "language": "python",
   "name": "python3"
  },
  "language_info": {
   "codemirror_mode": {
    "name": "ipython",
    "version": 3
   },
   "file_extension": ".py",
   "mimetype": "text/x-python",
   "name": "python",
   "nbconvert_exporter": "python",
   "pygments_lexer": "ipython3",
   "version": "3.9.6"
  },
  "toc-autonumbering": true,
  "toc-showcode": false,
  "toc-showmarkdowntxt": false
 },
 "nbformat": 4,
 "nbformat_minor": 5
}

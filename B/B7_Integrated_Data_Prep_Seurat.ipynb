{
 "cells": [
  {
   "cell_type": "code",
   "execution_count": 47,
   "id": "1632f901-cdb4-4ffc-8498-bb899c6bca6a",
   "metadata": {},
   "outputs": [],
   "source": [
    "##### Convert anndata to h5seurat to use in subsequent MOFA analysis"
   ]
  },
  {
   "cell_type": "markdown",
   "id": "786deb58-19af-4a6f-8565-9a368611f105",
   "metadata": {
    "tags": []
   },
   "source": [
    "#############################################\n",
    "# Prerequisites - Load Libraries"
   ]
  },
  {
   "cell_type": "markdown",
   "id": "c3a69055-91cc-426c-ad97-55b55a4a35e3",
   "metadata": {
    "tags": []
   },
   "source": [
    "## External Libraries"
   ]
  },
  {
   "cell_type": "code",
   "execution_count": 48,
   "id": "b6786ea6-420b-41c2-b4d0-f0862c223e34",
   "metadata": {
    "tags": []
   },
   "outputs": [
    {
     "name": "stderr",
     "output_type": "stream",
     "text": [
      "Warning message in read.table(file = file, header = header, sep = sep, quote = quote, :\n",
      "“incomplete final line found by readTableHeader on '../conda_environment/Environment_Configs.csv'”\n"
     ]
    },
    {
     "name": "stdout",
     "output_type": "stream",
     "text": [
      "[1] \"/home/icb/corinna.losert/miniconda3/envs/stark_stemi_R_Env_4_1//lib/R/library\"\n"
     ]
    }
   ],
   "source": [
    "source('MS0_Libraries.r')"
   ]
  },
  {
   "cell_type": "markdown",
   "id": "372814ca-7f2b-4f60-810e-664ce4208695",
   "metadata": {
    "tags": []
   },
   "source": [
    "###############################################\n",
    "# Preqrequisites Configurations & Parameters"
   ]
  },
  {
   "cell_type": "code",
   "execution_count": 49,
   "id": "2d4149a6-4ce5-4d39-bf24-2961d1723d4a",
   "metadata": {},
   "outputs": [],
   "source": [
    "data_path = '../data/current'"
   ]
  },
  {
   "cell_type": "code",
   "execution_count": 50,
   "id": "ec4afaf2-c5a3-47a6-8103-4b4c0ff38496",
   "metadata": {},
   "outputs": [],
   "source": [
    "result_path = '../results/current'"
   ]
  },
  {
   "cell_type": "code",
   "execution_count": 51,
   "id": "4cf8589f-4c50-4746-8fbe-778067b891c3",
   "metadata": {},
   "outputs": [
    {
     "data": {
      "text/html": [
       "'../data/current'"
      ],
      "text/latex": [
       "'../data/current'"
      ],
      "text/markdown": [
       "'../data/current'"
      ],
      "text/plain": [
       "[1] \"../data/current\""
      ]
     },
     "metadata": {},
     "output_type": "display_data"
    }
   ],
   "source": [
    "data_path"
   ]
  },
  {
   "cell_type": "code",
   "execution_count": 52,
   "id": "2651b465-ce87-4d85-bd0a-e26cfe2a6173",
   "metadata": {},
   "outputs": [],
   "source": [
    "libraries = c('L1', 'L2', 'L3', 'L4', 'L5', 'L6', 'L7', 'L8', 'L9', 'L10','L11', 'L12', 'L13', 'L14')"
   ]
  },
  {
   "cell_type": "code",
   "execution_count": 53,
   "id": "ec12ab19-a40e-4c21-a85d-0eddc6fd9808",
   "metadata": {},
   "outputs": [],
   "source": [
    "### Data Frame for saving rand index"
   ]
  },
  {
   "cell_type": "markdown",
   "id": "5dea8679-c933-48ea-af8b-cf9d2cfc5b15",
   "metadata": {
    "tags": []
   },
   "source": [
    "# Load Data "
   ]
  },
  {
   "cell_type": "markdown",
   "id": "b482d672-8838-4e12-84ee-bdad01e1f734",
   "metadata": {},
   "source": [
    "## Convert h5ad to Seurat"
   ]
  },
  {
   "cell_type": "code",
   "execution_count": 54,
   "id": "d6d860b3-20b4-47fc-82b7-42665d4250f8",
   "metadata": {
    "tags": []
   },
   "outputs": [
    {
     "name": "stdout",
     "output_type": "stream",
     "text": [
      "[1] \"2024-03-04 17:14:04 CET\"\n"
     ]
    },
    {
     "name": "stderr",
     "output_type": "stream",
     "text": [
      "Warning message:\n",
      "“Unknown file type: h5ad”\n",
      "Creating h5Seurat file for version 3.1.5.9900\n",
      "\n",
      "Adding X as scale.data\n",
      "\n",
      "Adding raw/X as data\n",
      "\n",
      "Adding raw/X as counts\n",
      "\n",
      "Adding meta.features from raw/var\n",
      "\n",
      "Adding dispersions from scaled feature-level metadata\n",
      "\n",
      "Adding dispersions_norm from scaled feature-level metadata\n",
      "\n",
      "Adding gene_ids from scaled feature-level metadata\n",
      "\n",
      "Adding highly_variable from scaled feature-level metadata\n",
      "\n",
      "Adding mean from scaled feature-level metadata\n",
      "\n",
      "Adding means from scaled feature-level metadata\n",
      "\n",
      "Adding std from scaled feature-level metadata\n",
      "\n"
     ]
    }
   ],
   "source": [
    "###### Convert h5ad to a seurat object\n",
    "\n",
    "source_text = paste( data_path, '/analysis/B/B6_DE_Integrated_Singlet_processed_rna.h5ad', sep = '')\n",
    "print(file.info(source_text)$mtime)\n",
    "Convert(source= source_text, dest = 'h5seurat', assay = 'RNA', overwrite = TRUE)\n",
    "\n",
    "## only executed once for data generation"
   ]
  },
  {
   "cell_type": "markdown",
   "id": "b42a9566-612f-4e1f-b658-676b22e5e69e",
   "metadata": {},
   "source": [
    "## Load Seurat object (to check)"
   ]
  },
  {
   "cell_type": "code",
   "execution_count": 55,
   "id": "342956a0-0375-4eb0-9286-143e403ff3b8",
   "metadata": {
    "tags": []
   },
   "outputs": [
    {
     "name": "stdout",
     "output_type": "stream",
     "text": [
      "[1] \"../data/current/analysis/B/B6_DE_Integrated_Singlet_processed_rna.h5seurat\"\n",
      "[1] \"2024-03-04 17:24:53 CET\"\n"
     ]
    },
    {
     "name": "stderr",
     "output_type": "stream",
     "text": [
      "Validating h5Seurat file\n",
      "\n",
      "Initializing RNA with data\n",
      "\n",
      "Adding counts for RNA\n",
      "\n",
      "Adding scale.data for RNA\n",
      "\n",
      "Adding feature-level metadata for RNA\n",
      "\n",
      "Adding command information\n",
      "\n",
      "Adding cell-level metadata\n",
      "\n"
     ]
    }
   ],
   "source": [
    "###### Load the generated seurat objects\n",
    "\n",
    "source_text = paste( data_path, '/analysis/B/B6_DE_Integrated_Singlet_processed_rna.h5seurat', sep = '')\n",
    "print(source_text)\n",
    "print(file.info(source_text)$mtime)\n",
    "rna_seurat_data = LoadH5Seurat(source_text, assays = \"RNA\", quietly = TRUE )"
   ]
  },
  {
   "cell_type": "code",
   "execution_count": 56,
   "id": "7972da61-663c-4f49-b4a8-93b08c4ae9aa",
   "metadata": {},
   "outputs": [
    {
     "data": {
      "text/plain": [
       "An object of class Seurat \n",
       "19221 features across 148275 samples within 1 assay \n",
       "Active assay: RNA (19221 features, 0 variable features)\n",
       " 3 layers present: counts, data, scale.data"
      ]
     },
     "metadata": {},
     "output_type": "display_data"
    }
   ],
   "source": [
    "rna_seurat_data"
   ]
  },
  {
   "cell_type": "code",
   "execution_count": 57,
   "id": "7a311fd6-d4e7-47e2-aefe-cf06f38f6692",
   "metadata": {},
   "outputs": [
    {
     "data": {
      "text/html": [
       "<style>\n",
       ".dl-inline {width: auto; margin:0; padding: 0}\n",
       ".dl-inline>dt, .dl-inline>dd {float: none; width: auto; display: inline-block}\n",
       ".dl-inline>dt::after {content: \":\\0020\"; padding-right: .5ex}\n",
       ".dl-inline>dt:not(:first-of-type) {padding-left: .5ex}\n",
       "</style><dl class=dl-inline><dt>AAACCCACATACAGGG-1-L1</dt><dd>3947</dd><dt>AAACCCACATGACTTG-1-L1</dt><dd>5870</dd><dt>AAACCCAGTCATCAGT-1-L1</dt><dd>3888</dd><dt>AAACCCAGTGGTAATA-1-L1</dt><dd>5094</dd><dt>AAACCCATCATCACAG-1-L1</dt><dd>17310</dd><dt>AAACCCATCGATGGAG-1-L1</dt><dd>4839</dd></dl>\n"
      ],
      "text/latex": [
       "\\begin{description*}\n",
       "\\item[AAACCCACATACAGGG-1-L1] 3947\n",
       "\\item[AAACCCACATGACTTG-1-L1] 5870\n",
       "\\item[AAACCCAGTCATCAGT-1-L1] 3888\n",
       "\\item[AAACCCAGTGGTAATA-1-L1] 5094\n",
       "\\item[AAACCCATCATCACAG-1-L1] 17310\n",
       "\\item[AAACCCATCGATGGAG-1-L1] 4839\n",
       "\\end{description*}\n"
      ],
      "text/markdown": [
       "AAACCCACATACAGGG-1-L1\n",
       ":   3947AAACCCACATGACTTG-1-L1\n",
       ":   5870AAACCCAGTCATCAGT-1-L1\n",
       ":   3888AAACCCAGTGGTAATA-1-L1\n",
       ":   5094AAACCCATCATCACAG-1-L1\n",
       ":   17310AAACCCATCGATGGAG-1-L1\n",
       ":   4839\n",
       "\n"
      ],
      "text/plain": [
       "AAACCCACATACAGGG-1-L1 AAACCCACATGACTTG-1-L1 AAACCCAGTCATCAGT-1-L1 \n",
       "                 3947                  5870                  3888 \n",
       "AAACCCAGTGGTAATA-1-L1 AAACCCATCATCACAG-1-L1 AAACCCATCGATGGAG-1-L1 \n",
       "                 5094                 17310                  4839 "
      ]
     },
     "metadata": {},
     "output_type": "display_data"
    }
   ],
   "source": [
    "head(colSums(x = rna_seurat_data, slot = \"counts\") )  # raw count values from original matrix"
   ]
  },
  {
   "cell_type": "code",
   "execution_count": 58,
   "id": "2f35ba7c-825a-41fc-a638-d0f986681bbc",
   "metadata": {
    "tags": []
   },
   "outputs": [],
   "source": [
    "# str(rna_seurat_data)"
   ]
  },
  {
   "cell_type": "code",
   "execution_count": 59,
   "id": "211d5ab2-560f-452e-b350-96c188f7c7c5",
   "metadata": {},
   "outputs": [
    {
     "data": {
      "text/html": [
       "<style>\n",
       ".dl-inline {width: auto; margin:0; padding: 0}\n",
       ".dl-inline>dt, .dl-inline>dd {float: none; width: auto; display: inline-block}\n",
       ".dl-inline>dt::after {content: \":\\0020\"; padding-right: .5ex}\n",
       ".dl-inline>dt:not(:first-of-type) {padding-left: .5ex}\n",
       "</style><dl class=dl-inline><dt>AAACCCACATACAGGG-1-L1</dt><dd>1574</dd><dt>AAACCCACATGACTTG-1-L1</dt><dd>379</dd><dt>AAACCCAGTCATCAGT-1-L1</dt><dd>421</dd><dt>AAACCCAGTGGTAATA-1-L1</dt><dd>478</dd><dt>AAACCCATCATCACAG-1-L1</dt><dd>851</dd><dt>AAACCCATCGATGGAG-1-L1</dt><dd>473</dd></dl>\n"
      ],
      "text/latex": [
       "\\begin{description*}\n",
       "\\item[AAACCCACATACAGGG-1-L1] 1574\n",
       "\\item[AAACCCACATGACTTG-1-L1] 379\n",
       "\\item[AAACCCAGTCATCAGT-1-L1] 421\n",
       "\\item[AAACCCAGTGGTAATA-1-L1] 478\n",
       "\\item[AAACCCATCATCACAG-1-L1] 851\n",
       "\\item[AAACCCATCGATGGAG-1-L1] 473\n",
       "\\end{description*}\n"
      ],
      "text/markdown": [
       "AAACCCACATACAGGG-1-L1\n",
       ":   1574AAACCCACATGACTTG-1-L1\n",
       ":   379AAACCCAGTCATCAGT-1-L1\n",
       ":   421AAACCCAGTGGTAATA-1-L1\n",
       ":   478AAACCCATCATCACAG-1-L1\n",
       ":   851AAACCCATCGATGGAG-1-L1\n",
       ":   473\n",
       "\n"
      ],
      "text/plain": [
       "AAACCCACATACAGGG-1-L1 AAACCCACATGACTTG-1-L1 AAACCCAGTCATCAGT-1-L1 \n",
       "                 1574                   379                   421 \n",
       "AAACCCAGTGGTAATA-1-L1 AAACCCATCATCACAG-1-L1 AAACCCATCGATGGAG-1-L1 \n",
       "                  478                   851                   473 "
      ]
     },
     "metadata": {},
     "output_type": "display_data"
    }
   ],
   "source": [
    "head(rna_seurat_data$nCount_HTO) # get a column of the observation matrix"
   ]
  },
  {
   "cell_type": "code",
   "execution_count": 60,
   "id": "b9565581-2df7-452a-bc37-b3eaf21453a1",
   "metadata": {},
   "outputs": [],
   "source": [
    "#head(rna_seurat_data$classification) # get a column of the observation matrix"
   ]
  },
  {
   "cell_type": "code",
   "execution_count": 61,
   "id": "1c6fcae9-cd3a-4e8d-8d5b-8a35d2a10029",
   "metadata": {},
   "outputs": [
    {
     "data": {
      "text/html": [
       "<style>\n",
       ".list-inline {list-style: none; margin:0; padding: 0}\n",
       ".list-inline>li {display: inline-block}\n",
       ".list-inline>li:not(:last-child)::after {content: \"\\00b7\"; padding: 0 .5ex}\n",
       "</style>\n",
       "<ol class=list-inline><li>'nCount_HTO'</li><li>'B2_Scanorama_Singlet_rb_mt_cluster'</li><li>'cell_type_Scanorama'</li><li>'cluster_cell_type_Scanorama'</li><li>'library'</li><li>'in_sample'</li><li>'display_name'</li><li>'classification'</li><li>'sample_id'</li></ol>\n"
      ],
      "text/latex": [
       "\\begin{enumerate*}\n",
       "\\item 'nCount\\_HTO'\n",
       "\\item 'B2\\_Scanorama\\_Singlet\\_rb\\_mt\\_cluster'\n",
       "\\item 'cell\\_type\\_Scanorama'\n",
       "\\item 'cluster\\_cell\\_type\\_Scanorama'\n",
       "\\item 'library'\n",
       "\\item 'in\\_sample'\n",
       "\\item 'display\\_name'\n",
       "\\item 'classification'\n",
       "\\item 'sample\\_id'\n",
       "\\end{enumerate*}\n"
      ],
      "text/markdown": [
       "1. 'nCount_HTO'\n",
       "2. 'B2_Scanorama_Singlet_rb_mt_cluster'\n",
       "3. 'cell_type_Scanorama'\n",
       "4. 'cluster_cell_type_Scanorama'\n",
       "5. 'library'\n",
       "6. 'in_sample'\n",
       "7. 'display_name'\n",
       "8. 'classification'\n",
       "9. 'sample_id'\n",
       "\n",
       "\n"
      ],
      "text/plain": [
       "[1] \"nCount_HTO\"                         \"B2_Scanorama_Singlet_rb_mt_cluster\"\n",
       "[3] \"cell_type_Scanorama\"                \"cluster_cell_type_Scanorama\"       \n",
       "[5] \"library\"                            \"in_sample\"                         \n",
       "[7] \"display_name\"                       \"classification\"                    \n",
       "[9] \"sample_id\"                         "
      ]
     },
     "metadata": {},
     "output_type": "display_data"
    }
   ],
   "source": [
    "colnames(rna_seurat_data[[]])"
   ]
  },
  {
   "cell_type": "code",
   "execution_count": null,
   "id": "c7362190-60c8-4083-abdf-9fd0b54f5d5f",
   "metadata": {},
   "outputs": [],
   "source": []
  }
 ],
 "metadata": {
  "kernelspec": {
   "display_name": "R",
   "language": "R",
   "name": "ir"
  },
  "language_info": {
   "codemirror_mode": "r",
   "file_extension": ".r",
   "mimetype": "text/x-r-source",
   "name": "R",
   "pygments_lexer": "r",
   "version": "4.1.1"
  },
  "toc-autonumbering": true,
  "toc-showcode": false,
  "toc-showmarkdowntxt": false,
  "toc-showtags": false
 },
 "nbformat": 4,
 "nbformat_minor": 5
}

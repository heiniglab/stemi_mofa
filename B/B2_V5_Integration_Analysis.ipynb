{
 "cells": [
  {
   "cell_type": "code",
   "execution_count": 1,
   "id": "ce45d31d-d7ea-4fd0-97eb-80086509c322",
   "metadata": {
    "tags": []
   },
   "outputs": [],
   "source": [
    "### Calculate LISI Index to evaluate integration after scanorama"
   ]
  },
  {
   "cell_type": "markdown",
   "id": "f4d2589f-58ba-4532-93e1-618bae33468c",
   "metadata": {
    "jp-MarkdownHeadingCollapsed": true,
    "tags": []
   },
   "source": [
    "#############################################\n",
    "# Prerequisites - Load Libraries"
   ]
  },
  {
   "cell_type": "code",
   "execution_count": 2,
   "id": "11361dd5-449a-4150-bfeb-6b5ca81deaff",
   "metadata": {
    "tags": []
   },
   "outputs": [],
   "source": [
    "source('MS0_Libraries.r')"
   ]
  },
  {
   "cell_type": "code",
   "execution_count": 13,
   "id": "3b2f6599-0af3-4dc2-9a09-0f6c93d25ce9",
   "metadata": {
    "tags": []
   },
   "outputs": [
    {
     "name": "stderr",
     "output_type": "stream",
     "text": [
      "Warning message:\n",
      "“\u001b[1m\u001b[22mThe `size` argument of `element_line()` is deprecated as of ggplot2 3.4.0.\n",
      "\u001b[36mℹ\u001b[39m Please use the `linewidth` argument instead.”\n"
     ]
    }
   ],
   "source": [
    "source('MS4_Plot_Config.r')"
   ]
  },
  {
   "cell_type": "markdown",
   "id": "86e49489-2d82-450a-858c-f022cc0953f7",
   "metadata": {
    "jp-MarkdownHeadingCollapsed": true,
    "tags": []
   },
   "source": [
    "###############################################\n",
    "# Preqrequisites Configurations & Parameters"
   ]
  },
  {
   "cell_type": "code",
   "execution_count": 14,
   "id": "512ff311-bb45-407e-9445-abc85a9227a7",
   "metadata": {},
   "outputs": [],
   "source": [
    "data_path =  '../data/current'"
   ]
  },
  {
   "cell_type": "code",
   "execution_count": 15,
   "id": "542fab7c-a499-44b3-95d3-2223167ccfb6",
   "metadata": {},
   "outputs": [],
   "source": [
    "result_path =  '../results/current'"
   ]
  },
  {
   "cell_type": "markdown",
   "id": "47ddb1fb-f498-4d82-9349-bec12f66ae2f",
   "metadata": {},
   "source": [
    "# Data"
   ]
  },
  {
   "cell_type": "code",
   "execution_count": 17,
   "id": "6504d96f-c012-4979-8d79-6f639d3db134",
   "metadata": {},
   "outputs": [],
   "source": [
    "## Data after scanorama integration"
   ]
  },
  {
   "cell_type": "code",
   "execution_count": 18,
   "id": "33bb00fb-d227-440f-9e8e-fc5871f502b8",
   "metadata": {},
   "outputs": [],
   "source": [
    "library_annotation_scanorama = read.csv(paste0(data_path, 'B-Analysis/', 'B2_Scanorama_Annotations.csv'))"
   ]
  },
  {
   "cell_type": "code",
   "execution_count": 19,
   "id": "4d3738f1-6076-4475-9f9d-10055768ff33",
   "metadata": {},
   "outputs": [],
   "source": [
    "umap_embedding_scanorama =  read.csv(paste0(data_path, 'B-Analysis/', 'B2_Scanorama_UMAP_Embedding.csv'))"
   ]
  },
  {
   "cell_type": "code",
   "execution_count": 20,
   "id": "18d800d5-7fb9-4a9a-87d7-6ca1fce11e02",
   "metadata": {},
   "outputs": [],
   "source": [
    "rownames(library_annotation_scanorama) = library_annotation_scanorama$X\n",
    "library_annotation_scanorama$X = NULL"
   ]
  },
  {
   "cell_type": "code",
   "execution_count": 21,
   "id": "c6d401e5-e8f2-4bc1-b67b-7b46c5b8b725",
   "metadata": {},
   "outputs": [
    {
     "data": {
      "text/html": [
       "<table class=\"dataframe\">\n",
       "<caption>A data.frame: 2 × 1</caption>\n",
       "<thead>\n",
       "\t<tr><th></th><th scope=col>library_id</th></tr>\n",
       "\t<tr><th></th><th scope=col>&lt;chr&gt;</th></tr>\n",
       "</thead>\n",
       "<tbody>\n",
       "\t<tr><th scope=row>AAACCCACATACAGGG-1-L1</th><td>L1</td></tr>\n",
       "\t<tr><th scope=row>AAACCCACATGACTTG-1-L1</th><td>L1</td></tr>\n",
       "</tbody>\n",
       "</table>\n"
      ],
      "text/latex": [
       "A data.frame: 2 × 1\n",
       "\\begin{tabular}{r|l}\n",
       "  & library\\_id\\\\\n",
       "  & <chr>\\\\\n",
       "\\hline\n",
       "\tAAACCCACATACAGGG-1-L1 & L1\\\\\n",
       "\tAAACCCACATGACTTG-1-L1 & L1\\\\\n",
       "\\end{tabular}\n"
      ],
      "text/markdown": [
       "\n",
       "A data.frame: 2 × 1\n",
       "\n",
       "| <!--/--> | library_id &lt;chr&gt; |\n",
       "|---|---|\n",
       "| AAACCCACATACAGGG-1-L1 | L1 |\n",
       "| AAACCCACATGACTTG-1-L1 | L1 |\n",
       "\n"
      ],
      "text/plain": [
       "                      library_id\n",
       "AAACCCACATACAGGG-1-L1 L1        \n",
       "AAACCCACATGACTTG-1-L1 L1        "
      ]
     },
     "metadata": {},
     "output_type": "display_data"
    }
   ],
   "source": [
    "head(library_annotation_scanorama,2)"
   ]
  },
  {
   "cell_type": "code",
   "execution_count": 22,
   "id": "7a91b374-0b16-4a15-a715-a7ef9ce8e9ec",
   "metadata": {},
   "outputs": [],
   "source": [
    "rownames(umap_embedding_scanorama) = umap_embedding_scanorama$X\n",
    "umap_embedding_scanorama$X = NULL"
   ]
  },
  {
   "cell_type": "code",
   "execution_count": 23,
   "id": "ff4831ff-e4e1-438a-ba4d-d6da8f24c466",
   "metadata": {},
   "outputs": [
    {
     "data": {
      "text/html": [
       "<table class=\"dataframe\">\n",
       "<caption>A data.frame: 2 × 2</caption>\n",
       "<thead>\n",
       "\t<tr><th></th><th scope=col>X1</th><th scope=col>X2</th></tr>\n",
       "\t<tr><th></th><th scope=col>&lt;dbl&gt;</th><th scope=col>&lt;dbl&gt;</th></tr>\n",
       "</thead>\n",
       "<tbody>\n",
       "\t<tr><th scope=row>AAACCCACATACAGGG-1-L1</th><td> 3.746732</td><td>-1.571113</td></tr>\n",
       "\t<tr><th scope=row>AAACCCACATGACTTG-1-L1</th><td>17.418547</td><td> 5.574673</td></tr>\n",
       "</tbody>\n",
       "</table>\n"
      ],
      "text/latex": [
       "A data.frame: 2 × 2\n",
       "\\begin{tabular}{r|ll}\n",
       "  & X1 & X2\\\\\n",
       "  & <dbl> & <dbl>\\\\\n",
       "\\hline\n",
       "\tAAACCCACATACAGGG-1-L1 &  3.746732 & -1.571113\\\\\n",
       "\tAAACCCACATGACTTG-1-L1 & 17.418547 &  5.574673\\\\\n",
       "\\end{tabular}\n"
      ],
      "text/markdown": [
       "\n",
       "A data.frame: 2 × 2\n",
       "\n",
       "| <!--/--> | X1 &lt;dbl&gt; | X2 &lt;dbl&gt; |\n",
       "|---|---|---|\n",
       "| AAACCCACATACAGGG-1-L1 |  3.746732 | -1.571113 |\n",
       "| AAACCCACATGACTTG-1-L1 | 17.418547 |  5.574673 |\n",
       "\n"
      ],
      "text/plain": [
       "                      X1        X2       \n",
       "AAACCCACATACAGGG-1-L1  3.746732 -1.571113\n",
       "AAACCCACATGACTTG-1-L1 17.418547  5.574673"
      ]
     },
     "metadata": {},
     "output_type": "display_data"
    }
   ],
   "source": [
    "head(umap_embedding_scanorama,2)"
   ]
  },
  {
   "cell_type": "code",
   "execution_count": 24,
   "id": "a11c2a0c-3bb1-4b86-a7b4-3c94dbd48e95",
   "metadata": {},
   "outputs": [],
   "source": [
    "## Data before scanorama integration"
   ]
  },
  {
   "cell_type": "code",
   "execution_count": 25,
   "id": "47108a21-4f35-4112-b34b-37603e8cc945",
   "metadata": {},
   "outputs": [],
   "source": [
    "library_annotation_concat = read.csv(paste0(data_path, 'B-Analysis/', 'B2_Concat_Annotations.csv'))"
   ]
  },
  {
   "cell_type": "code",
   "execution_count": 26,
   "id": "6dad10f3-536a-43d1-8ac4-cd24667a81c9",
   "metadata": {},
   "outputs": [],
   "source": [
    "umap_embedding_concat =  read.csv(paste0(data_path, 'B-Analysis/', 'B2_Concat_UMAP_Embedding.csv'))"
   ]
  },
  {
   "cell_type": "code",
   "execution_count": 27,
   "id": "0ae79b95-620d-4a1f-b0a7-fbfc8d40055a",
   "metadata": {},
   "outputs": [],
   "source": [
    "rownames(library_annotation_concat) = library_annotation_concat$X\n",
    "library_annotation_concat$X = NULL"
   ]
  },
  {
   "cell_type": "code",
   "execution_count": 28,
   "id": "a588e2fe-51bb-4279-837d-5c5bb6789be1",
   "metadata": {},
   "outputs": [
    {
     "data": {
      "text/html": [
       "<table class=\"dataframe\">\n",
       "<caption>A data.frame: 2 × 1</caption>\n",
       "<thead>\n",
       "\t<tr><th></th><th scope=col>library_id</th></tr>\n",
       "\t<tr><th></th><th scope=col>&lt;chr&gt;</th></tr>\n",
       "</thead>\n",
       "<tbody>\n",
       "\t<tr><th scope=row>AAACCCACATACAGGG-1-L1</th><td>L1</td></tr>\n",
       "\t<tr><th scope=row>AAACCCACATGACTTG-1-L1</th><td>L1</td></tr>\n",
       "</tbody>\n",
       "</table>\n"
      ],
      "text/latex": [
       "A data.frame: 2 × 1\n",
       "\\begin{tabular}{r|l}\n",
       "  & library\\_id\\\\\n",
       "  & <chr>\\\\\n",
       "\\hline\n",
       "\tAAACCCACATACAGGG-1-L1 & L1\\\\\n",
       "\tAAACCCACATGACTTG-1-L1 & L1\\\\\n",
       "\\end{tabular}\n"
      ],
      "text/markdown": [
       "\n",
       "A data.frame: 2 × 1\n",
       "\n",
       "| <!--/--> | library_id &lt;chr&gt; |\n",
       "|---|---|\n",
       "| AAACCCACATACAGGG-1-L1 | L1 |\n",
       "| AAACCCACATGACTTG-1-L1 | L1 |\n",
       "\n"
      ],
      "text/plain": [
       "                      library_id\n",
       "AAACCCACATACAGGG-1-L1 L1        \n",
       "AAACCCACATGACTTG-1-L1 L1        "
      ]
     },
     "metadata": {},
     "output_type": "display_data"
    }
   ],
   "source": [
    "head(library_annotation_concat,2)"
   ]
  },
  {
   "cell_type": "code",
   "execution_count": 29,
   "id": "3a5bae00-f8ad-47e5-8bbc-7150afd3590c",
   "metadata": {},
   "outputs": [],
   "source": [
    "rownames(umap_embedding_concat ) = umap_embedding_concat$X\n",
    "umap_embedding_concat $X = NULL"
   ]
  },
  {
   "cell_type": "code",
   "execution_count": 30,
   "id": "8497a307-f26f-4fda-bbd0-cae2a1f6e8e6",
   "metadata": {},
   "outputs": [
    {
     "data": {
      "text/html": [
       "<table class=\"dataframe\">\n",
       "<caption>A data.frame: 2 × 2</caption>\n",
       "<thead>\n",
       "\t<tr><th></th><th scope=col>X1</th><th scope=col>X2</th></tr>\n",
       "\t<tr><th></th><th scope=col>&lt;dbl&gt;</th><th scope=col>&lt;dbl&gt;</th></tr>\n",
       "</thead>\n",
       "<tbody>\n",
       "\t<tr><th scope=row>AAACCCACATACAGGG-1-L1</th><td>-3.006969</td><td>10.431176</td></tr>\n",
       "\t<tr><th scope=row>AAACCCACATGACTTG-1-L1</th><td> 9.068130</td><td> 7.331071</td></tr>\n",
       "</tbody>\n",
       "</table>\n"
      ],
      "text/latex": [
       "A data.frame: 2 × 2\n",
       "\\begin{tabular}{r|ll}\n",
       "  & X1 & X2\\\\\n",
       "  & <dbl> & <dbl>\\\\\n",
       "\\hline\n",
       "\tAAACCCACATACAGGG-1-L1 & -3.006969 & 10.431176\\\\\n",
       "\tAAACCCACATGACTTG-1-L1 &  9.068130 &  7.331071\\\\\n",
       "\\end{tabular}\n"
      ],
      "text/markdown": [
       "\n",
       "A data.frame: 2 × 2\n",
       "\n",
       "| <!--/--> | X1 &lt;dbl&gt; | X2 &lt;dbl&gt; |\n",
       "|---|---|---|\n",
       "| AAACCCACATACAGGG-1-L1 | -3.006969 | 10.431176 |\n",
       "| AAACCCACATGACTTG-1-L1 |  9.068130 |  7.331071 |\n",
       "\n"
      ],
      "text/plain": [
       "                      X1        X2       \n",
       "AAACCCACATACAGGG-1-L1 -3.006969 10.431176\n",
       "AAACCCACATGACTTG-1-L1  9.068130  7.331071"
      ]
     },
     "metadata": {},
     "output_type": "display_data"
    }
   ],
   "source": [
    "head(umap_embedding_concat ,2)"
   ]
  },
  {
   "cell_type": "code",
   "execution_count": null,
   "id": "905abae3-21c7-48f2-a5bc-1f406d8741d8",
   "metadata": {},
   "outputs": [],
   "source": []
  },
  {
   "cell_type": "code",
   "execution_count": null,
   "id": "2af78773-da66-4fcd-90ae-b931ed0379ed",
   "metadata": {},
   "outputs": [],
   "source": []
  },
  {
   "cell_type": "code",
   "execution_count": null,
   "id": "96b9bd1d-af38-4eb2-87a7-1badcd3aed9c",
   "metadata": {},
   "outputs": [],
   "source": []
  },
  {
   "cell_type": "markdown",
   "id": "2b6a6f9e-bb0a-4e82-96bf-bc1d0ffb7636",
   "metadata": {},
   "source": [
    "# LISI calculation"
   ]
  },
  {
   "cell_type": "code",
   "execution_count": 86,
   "id": "54e5ad0c-5d44-4787-bcb3-c294eb030529",
   "metadata": {},
   "outputs": [],
   "source": [
    "perplexity_param = 30"
   ]
  },
  {
   "cell_type": "code",
   "execution_count": 87,
   "id": "9496badd-d1bf-450e-a2b4-e124fa9aa740",
   "metadata": {},
   "outputs": [],
   "source": [
    "### For scanorama embedding"
   ]
  },
  {
   "cell_type": "code",
   "execution_count": 88,
   "id": "bc1def8d-34b8-4c86-af16-0b5f0df03f7e",
   "metadata": {},
   "outputs": [
    {
     "data": {
      "text/html": [
       "<style>\n",
       ".list-inline {list-style: none; margin:0; padding: 0}\n",
       ".list-inline>li {display: inline-block}\n",
       ".list-inline>li:not(:last-child)::after {content: \"\\00b7\"; padding: 0 .5ex}\n",
       "</style>\n",
       "<ol class=list-inline><li>'L1'</li><li>'L2'</li><li>'L3'</li><li>'L4'</li><li>'L5'</li><li>'L6'</li><li>'L7'</li><li>'L8'</li><li>'L9'</li><li>'L10'</li><li>'L11'</li><li>'L12'</li><li>'L13'</li><li>'L14'</li></ol>\n"
      ],
      "text/latex": [
       "\\begin{enumerate*}\n",
       "\\item 'L1'\n",
       "\\item 'L2'\n",
       "\\item 'L3'\n",
       "\\item 'L4'\n",
       "\\item 'L5'\n",
       "\\item 'L6'\n",
       "\\item 'L7'\n",
       "\\item 'L8'\n",
       "\\item 'L9'\n",
       "\\item 'L10'\n",
       "\\item 'L11'\n",
       "\\item 'L12'\n",
       "\\item 'L13'\n",
       "\\item 'L14'\n",
       "\\end{enumerate*}\n"
      ],
      "text/markdown": [
       "1. 'L1'\n",
       "2. 'L2'\n",
       "3. 'L3'\n",
       "4. 'L4'\n",
       "5. 'L5'\n",
       "6. 'L6'\n",
       "7. 'L7'\n",
       "8. 'L8'\n",
       "9. 'L9'\n",
       "10. 'L10'\n",
       "11. 'L11'\n",
       "12. 'L12'\n",
       "13. 'L13'\n",
       "14. 'L14'\n",
       "\n",
       "\n"
      ],
      "text/plain": [
       " [1] \"L1\"  \"L2\"  \"L3\"  \"L4\"  \"L5\"  \"L6\"  \"L7\"  \"L8\"  \"L9\"  \"L10\" \"L11\" \"L12\"\n",
       "[13] \"L13\" \"L14\""
      ]
     },
     "metadata": {},
     "output_type": "display_data"
    }
   ],
   "source": [
    "unique(library_annotation_scanorama$library_id)"
   ]
  },
  {
   "cell_type": "code",
   "execution_count": 89,
   "id": "4deb0316-cc2e-4861-85e8-fe734fcae38d",
   "metadata": {},
   "outputs": [],
   "source": [
    "res = compute_lisi(umap_embedding_scanorama, library_annotation_scanorama, c('library_id'), perplexity = perplexity_param)"
   ]
  },
  {
   "cell_type": "code",
   "execution_count": 90,
   "id": "2314a950-5af2-4164-b82f-3ac3d24957d3",
   "metadata": {},
   "outputs": [
    {
     "data": {
      "text/html": [
       "<table class=\"dataframe\">\n",
       "<caption>A data.frame: 2 × 1</caption>\n",
       "<thead>\n",
       "\t<tr><th></th><th scope=col>library_id</th></tr>\n",
       "\t<tr><th></th><th scope=col>&lt;dbl&gt;</th></tr>\n",
       "</thead>\n",
       "<tbody>\n",
       "\t<tr><th scope=row>AAACCCACATACAGGG-1-L1</th><td>5.515944</td></tr>\n",
       "\t<tr><th scope=row>AAACCCACATGACTTG-1-L1</th><td>6.362144</td></tr>\n",
       "</tbody>\n",
       "</table>\n"
      ],
      "text/latex": [
       "A data.frame: 2 × 1\n",
       "\\begin{tabular}{r|l}\n",
       "  & library\\_id\\\\\n",
       "  & <dbl>\\\\\n",
       "\\hline\n",
       "\tAAACCCACATACAGGG-1-L1 & 5.515944\\\\\n",
       "\tAAACCCACATGACTTG-1-L1 & 6.362144\\\\\n",
       "\\end{tabular}\n"
      ],
      "text/markdown": [
       "\n",
       "A data.frame: 2 × 1\n",
       "\n",
       "| <!--/--> | library_id &lt;dbl&gt; |\n",
       "|---|---|\n",
       "| AAACCCACATACAGGG-1-L1 | 5.515944 |\n",
       "| AAACCCACATGACTTG-1-L1 | 6.362144 |\n",
       "\n"
      ],
      "text/plain": [
       "                      library_id\n",
       "AAACCCACATACAGGG-1-L1 5.515944  \n",
       "AAACCCACATGACTTG-1-L1 6.362144  "
      ]
     },
     "metadata": {},
     "output_type": "display_data"
    }
   ],
   "source": [
    "head(res,2)"
   ]
  },
  {
   "cell_type": "code",
   "execution_count": 91,
   "id": "ba8521ba-9c93-45a5-b371-2364aeea38d7",
   "metadata": {},
   "outputs": [
    {
     "data": {
      "image/png": "[encoded data removed]",
      "text/plain": [
       "Plot with title “Histogram of res$library_id”"
      ]
     },
     "metadata": {
      "image/png": {
       "height": 600,
       "width": 900
      }
     },
     "output_type": "display_data"
    }
   ],
   "source": [
    "hist(res$library_id)"
   ]
  },
  {
   "cell_type": "code",
   "execution_count": 92,
   "id": "69d8d2cc-057f-4c88-8efc-1f5591edbc64",
   "metadata": {},
   "outputs": [
    {
     "data": {
      "text/html": [
       "6.99152764307122"
      ],
      "text/latex": [
       "6.99152764307122"
      ],
      "text/markdown": [
       "6.99152764307122"
      ],
      "text/plain": [
       "[1] 6.991528"
      ]
     },
     "metadata": {},
     "output_type": "display_data"
    }
   ],
   "source": [
    "mean(res$library_id)"
   ]
  },
  {
   "cell_type": "code",
   "execution_count": 93,
   "id": "b2ee2cb5-ddc5-475e-998c-234c41975d15",
   "metadata": {},
   "outputs": [],
   "source": [
    "### For concat embedding"
   ]
  },
  {
   "cell_type": "code",
   "execution_count": 94,
   "id": "4f0cd2fb-f9c3-4898-af42-851f314e1f32",
   "metadata": {},
   "outputs": [
    {
     "data": {
      "text/html": [
       "<style>\n",
       ".list-inline {list-style: none; margin:0; padding: 0}\n",
       ".list-inline>li {display: inline-block}\n",
       ".list-inline>li:not(:last-child)::after {content: \"\\00b7\"; padding: 0 .5ex}\n",
       "</style>\n",
       "<ol class=list-inline><li>'L1'</li><li>'L2'</li><li>'L3'</li><li>'L4'</li><li>'L5'</li><li>'L6'</li><li>'L7'</li><li>'L8'</li><li>'L9'</li><li>'L10'</li><li>'L11'</li><li>'L12'</li><li>'L13'</li><li>'L14'</li></ol>\n"
      ],
      "text/latex": [
       "\\begin{enumerate*}\n",
       "\\item 'L1'\n",
       "\\item 'L2'\n",
       "\\item 'L3'\n",
       "\\item 'L4'\n",
       "\\item 'L5'\n",
       "\\item 'L6'\n",
       "\\item 'L7'\n",
       "\\item 'L8'\n",
       "\\item 'L9'\n",
       "\\item 'L10'\n",
       "\\item 'L11'\n",
       "\\item 'L12'\n",
       "\\item 'L13'\n",
       "\\item 'L14'\n",
       "\\end{enumerate*}\n"
      ],
      "text/markdown": [
       "1. 'L1'\n",
       "2. 'L2'\n",
       "3. 'L3'\n",
       "4. 'L4'\n",
       "5. 'L5'\n",
       "6. 'L6'\n",
       "7. 'L7'\n",
       "8. 'L8'\n",
       "9. 'L9'\n",
       "10. 'L10'\n",
       "11. 'L11'\n",
       "12. 'L12'\n",
       "13. 'L13'\n",
       "14. 'L14'\n",
       "\n",
       "\n"
      ],
      "text/plain": [
       " [1] \"L1\"  \"L2\"  \"L3\"  \"L4\"  \"L5\"  \"L6\"  \"L7\"  \"L8\"  \"L9\"  \"L10\" \"L11\" \"L12\"\n",
       "[13] \"L13\" \"L14\""
      ]
     },
     "metadata": {},
     "output_type": "display_data"
    }
   ],
   "source": [
    "unique(library_annotation_concat$library_id)"
   ]
  },
  {
   "cell_type": "code",
   "execution_count": 95,
   "id": "618b5649-12ae-455b-9aef-539550fa13e2",
   "metadata": {},
   "outputs": [],
   "source": [
    "res_concat = compute_lisi(umap_embedding_concat, library_annotation_concat, c('library_id'), perplexity = perplexity_param)"
   ]
  },
  {
   "cell_type": "code",
   "execution_count": 96,
   "id": "f5d1c458-2818-4fa3-8ea3-9f8b4622cb97",
   "metadata": {},
   "outputs": [
    {
     "data": {
      "text/html": [
       "<table class=\"dataframe\">\n",
       "<caption>A data.frame: 2 × 1</caption>\n",
       "<thead>\n",
       "\t<tr><th></th><th scope=col>library_id</th></tr>\n",
       "\t<tr><th></th><th scope=col>&lt;dbl&gt;</th></tr>\n",
       "</thead>\n",
       "<tbody>\n",
       "\t<tr><th scope=row>AAACCCACATACAGGG-1-L1</th><td>9.519807</td></tr>\n",
       "\t<tr><th scope=row>AAACCCACATGACTTG-1-L1</th><td>5.534970</td></tr>\n",
       "</tbody>\n",
       "</table>\n"
      ],
      "text/latex": [
       "A data.frame: 2 × 1\n",
       "\\begin{tabular}{r|l}\n",
       "  & library\\_id\\\\\n",
       "  & <dbl>\\\\\n",
       "\\hline\n",
       "\tAAACCCACATACAGGG-1-L1 & 9.519807\\\\\n",
       "\tAAACCCACATGACTTG-1-L1 & 5.534970\\\\\n",
       "\\end{tabular}\n"
      ],
      "text/markdown": [
       "\n",
       "A data.frame: 2 × 1\n",
       "\n",
       "| <!--/--> | library_id &lt;dbl&gt; |\n",
       "|---|---|\n",
       "| AAACCCACATACAGGG-1-L1 | 9.519807 |\n",
       "| AAACCCACATGACTTG-1-L1 | 5.534970 |\n",
       "\n"
      ],
      "text/plain": [
       "                      library_id\n",
       "AAACCCACATACAGGG-1-L1 9.519807  \n",
       "AAACCCACATGACTTG-1-L1 5.534970  "
      ]
     },
     "metadata": {},
     "output_type": "display_data"
    }
   ],
   "source": [
    "head(res_concat,2)"
   ]
  },
  {
   "cell_type": "code",
   "execution_count": 97,
   "id": "bbdd1e16-6ae3-45bb-8481-672c064c4e89",
   "metadata": {},
   "outputs": [
    {
     "data": {
      "text/html": [
       "6.82557353282392"
      ],
      "text/latex": [
       "6.82557353282392"
      ],
      "text/markdown": [
       "6.82557353282392"
      ],
      "text/plain": [
       "[1] 6.825574"
      ]
     },
     "metadata": {},
     "output_type": "display_data"
    }
   ],
   "source": [
    "mean(res_concat$library_id)"
   ]
  },
  {
   "cell_type": "code",
   "execution_count": 98,
   "id": "df0d377c-f1ea-4409-8b22-94016d7b3ff1",
   "metadata": {},
   "outputs": [
    {
     "data": {
      "image/png": "[encoded data removed]",
      "text/plain": [
       "Plot with title “Histogram of res_concat$library_id”"
      ]
     },
     "metadata": {
      "image/png": {
       "height": 600,
       "width": 900
      }
     },
     "output_type": "display_data"
    }
   ],
   "source": [
    "hist(res_concat$library_id)"
   ]
  },
  {
   "cell_type": "code",
   "execution_count": 99,
   "id": "226e2dff-50f2-4461-bfc8-e594865644bd",
   "metadata": {},
   "outputs": [],
   "source": [
    "### Combine and plot"
   ]
  },
  {
   "cell_type": "code",
   "execution_count": 100,
   "id": "638c1cf3-58d6-4ef4-ad53-e06a13a9022c",
   "metadata": {},
   "outputs": [],
   "source": [
    "res$type = 'scanorama_embedding'\n",
    "res_concat$type = 'concat_embedding'"
   ]
  },
  {
   "cell_type": "code",
   "execution_count": 101,
   "id": "b6bd3c74-8196-4f1f-aa66-3a2b2e43b95d",
   "metadata": {},
   "outputs": [],
   "source": [
    "res_combined = rbind(res, res_concat)"
   ]
  },
  {
   "cell_type": "code",
   "execution_count": 102,
   "id": "5000e6fb-6b8d-4372-aa6d-68cde7e27cd8",
   "metadata": {},
   "outputs": [],
   "source": [
    "figure_name = \"SUPP9_B2_LISI_Comparison\""
   ]
  },
  {
   "cell_type": "code",
   "execution_count": 103,
   "id": "dff406a4-a2c6-42cc-af4b-50b001202fc7",
   "metadata": {},
   "outputs": [],
   "source": [
    "# Sizes of the plot\n",
    "width_par = 5\n",
    "height_par = 3"
   ]
  },
  {
   "cell_type": "code",
   "execution_count": 104,
   "id": "e11605c0-e86a-4765-b8ac-d06f262e17d0",
   "metadata": {},
   "outputs": [
    {
     "data": {
      "text/html": [
       "<strong>png:</strong> 2"
      ],
      "text/latex": [
       "\\textbf{png:} 2"
      ],
      "text/markdown": [
       "**png:** 2"
      ],
      "text/plain": [
       "png \n",
       "  2 "
      ]
     },
     "metadata": {},
     "output_type": "display_data"
    },
    {
     "data": {
      "image/png": "[encoded data removed]",
      "text/plain": [
       "plot without title"
      ]
     },
     "metadata": {
      "image/png": {
       "height": 600,
       "width": 900
      }
     },
     "output_type": "display_data"
    }
   ],
   "source": [
    "options(repr.plot.width=15, repr.plot.height=10)\n",
    "pdf(paste0('figures/Supplementary_Figures/', figure_name,'.pdf'), width =width_par, height = height_par)\n",
    "g =  ggplot(res_combined, aes(x =library_id, fill = type)) + geom_histogram(position = \"identity\", alpha = 0.4, bins = 50) +plot_config + xlab('LISI')\n",
    "print(g)\n",
    "dev.off()\n",
    "\n",
    "g"
   ]
  },
  {
   "cell_type": "code",
   "execution_count": null,
   "id": "90dd085e-80cd-4579-b4b7-8b802198013e",
   "metadata": {},
   "outputs": [],
   "source": []
  }
 ],
 "metadata": {
  "kernelspec": {
   "display_name": "R",
   "language": "R",
   "name": "ir"
  },
  "language_info": {
   "codemirror_mode": "r",
   "file_extension": ".r",
   "mimetype": "text/x-r-source",
   "name": "R",
   "pygments_lexer": "r",
   "version": "4.1.1"
  }
 },
 "nbformat": 4,
 "nbformat_minor": 5
}

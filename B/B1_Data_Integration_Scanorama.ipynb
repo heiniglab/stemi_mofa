{
 "cells": [
  {
   "cell_type": "code",
   "execution_count": 1,
   "id": "21864583-d49d-4a19-897c-b2397f294da5",
   "metadata": {},
   "outputs": [],
   "source": [
    "## Script for integrating the seperate processed datasets with scanorama\n"
   ]
  },
  {
   "cell_type": "markdown",
   "id": "f8289f20-1d3d-453e-88d4-4b9c6b383e38",
   "metadata": {},
   "source": [
    "# Load Libraries"
   ]
  },
  {
   "cell_type": "code",
   "execution_count": null,
   "id": "9f62b1da-9f3a-4367-8501-27b97be02969",
   "metadata": {},
   "outputs": [],
   "source": [
    "import scanpy as sc\n",
    "import anndata as an\n",
    "import pandas as pd\n",
    "import numpy as np\n",
    "import matplotlib as mpl\n",
    "import matplotlib.pyplot as plt\n",
    "import seaborn as sns\n",
    "import scanorama\n",
    "import os\n",
    "import multiprocessing\n",
    "import random\n",
    "import time\n",
    "import git\n",
    "import sys\n",
    "from datetime import date\n",
    "from datetime import datetime"
   ]
  },
  {
   "cell_type": "code",
   "execution_count": null,
   "id": "f3a9a306-9201-4352-a344-1f5cb591b574",
   "metadata": {},
   "outputs": [],
   "source": [
    "#### Check whether multi-processing works\n",
    "size = 10000\n",
    "a = np.random.random_sample((size, size))\n",
    "b = np.random.random_sample((size, size))\n",
    "n = np.dot(a,b)\n",
    "### this test works --> multiprocessing for numpy does not seem to be a problem"
   ]
  },
  {
   "cell_type": "markdown",
   "id": "cbb1e03c-8f7f-43d9-9a1e-99a187d2932d",
   "metadata": {},
   "source": [
    "# Load Data"
   ]
  },
  {
   "cell_type": "markdown",
   "id": "8f87ca54-58d9-4820-b666-7e6584c2f600",
   "metadata": {
    "tags": []
   },
   "source": [
    "## Configurations"
   ]
  },
  {
   "cell_type": "markdown",
   "id": "591005a3-e48d-483b-8b66-94e1c283e4a9",
   "metadata": {},
   "source": [
    "### Technical configurations"
   ]
  },
  {
   "cell_type": "code",
   "execution_count": null,
   "id": "a7420b3f-9f40-40e1-82f1-e5ff7da91ec1",
   "metadata": {},
   "outputs": [],
   "source": [
    "multiprocessing.cpu_count()  ### total amount of cpu on the used core"
   ]
  },
  {
   "cell_type": "code",
   "execution_count": null,
   "id": "57fcbf35-7a21-454b-bd19-f11e9c8528c4",
   "metadata": {},
   "outputs": [],
   "source": [
    "len(os.sched_getaffinity(0)) ### amount of available cpus"
   ]
  },
  {
   "cell_type": "code",
   "execution_count": null,
   "id": "3e990105-d930-46db-b5c0-3b69c48eee1e",
   "metadata": {},
   "outputs": [],
   "source": [
    "sc.settings.n_jobs   # default number of CPUs to use for parallel computing"
   ]
  },
  {
   "cell_type": "code",
   "execution_count": null,
   "id": "527fa26b-ae5b-4422-ba09-ee66f512242c",
   "metadata": {},
   "outputs": [],
   "source": [
    "sc.settings.max_memory  # maximum memory to use in GB"
   ]
  },
  {
   "cell_type": "code",
   "execution_count": null,
   "id": "16532b05-10a4-4827-b0a8-3a5a3674f69c",
   "metadata": {},
   "outputs": [],
   "source": [
    "random.seed(7)"
   ]
  },
  {
   "cell_type": "code",
   "execution_count": null,
   "id": "4e486809-a695-44a4-9802-7f685b222cd2",
   "metadata": {},
   "outputs": [],
   "source": [
    "ncore = '24'"
   ]
  },
  {
   "cell_type": "code",
   "execution_count": null,
   "id": "9d5d09b9-b8a9-45cc-b799-bac4f76c8693",
   "metadata": {},
   "outputs": [],
   "source": [
    "random_state_var = 0"
   ]
  },
  {
   "cell_type": "code",
   "execution_count": null,
   "id": "ac859276-1d5b-414f-aa7c-1d79bd0d5696",
   "metadata": {},
   "outputs": [],
   "source": [
    "os.environ[\"OMP_NUM_THREADS\"] = ncore\n",
    "os.environ[\"OPENBLAS_NUM_THREADS\"] = ncore\n",
    "os.environ[\"MKL_NUM_THREADS\"] = ncore\n",
    "os.environ[\"VECLIB_MAXIMUM_THREADS\"] = ncore\n",
    "os.environ[\"NUMEXPR_NUM_THREADS\"] = ncore"
   ]
  },
  {
   "cell_type": "code",
   "execution_count": null,
   "id": "a3c9d702-e8f9-4310-aed9-e5e5b3ea5a3f",
   "metadata": {
    "tags": []
   },
   "outputs": [],
   "source": [
    "sc.logging.print_versions()\n",
    "sc.set_figure_params(facecolor=\"white\", figsize=(8, 8))\n",
    "sc.settings.verbosity = 0"
   ]
  },
  {
   "cell_type": "code",
   "execution_count": null,
   "id": "1881c0f0-cc28-4158-8d1f-2bc64f59d26c",
   "metadata": {
    "tags": []
   },
   "outputs": [],
   "source": [
    "file_name = 'B1_Data_Integration_Scanorama.ipynb'"
   ]
  },
  {
   "cell_type": "code",
   "execution_count": null,
   "id": "ba36883f-294b-49dc-b722-d1863e7a456d",
   "metadata": {},
   "outputs": [],
   "source": [
    "repo = git.Repo('stark-stemi')"
   ]
  },
  {
   "cell_type": "markdown",
   "id": "c29c8785-09a1-4668-8eaf-c6adc03fb06c",
   "metadata": {},
   "source": [
    "### Parameters"
   ]
  },
  {
   "cell_type": "code",
   "execution_count": null,
   "id": "5a911fa6-2794-4fd7-9ad8-2286c5296c54",
   "metadata": {},
   "outputs": [],
   "source": [
    "data_path = '../data/current'"
   ]
  },
  {
   "cell_type": "code",
   "execution_count": null,
   "id": "a4af0361-8ab5-484f-959d-1f808a4fb40d",
   "metadata": {},
   "outputs": [],
   "source": [
    "data_path"
   ]
  },
  {
   "cell_type": "code",
   "execution_count": null,
   "id": "6926fe77-6c5e-43e6-8056-37c96468c420",
   "metadata": {},
   "outputs": [],
   "source": [
    "# libraries =['0001', '0002']\n",
    "libraries =['0001', '0002', '0003', '0004', '0005', '0006', '0007', '0008', '0009', '0010', '0011', '0012', '0013', '0014'] # reduced to only 4 libraries for testing # reduced to only 4 libraries for testing"
   ]
  },
  {
   "cell_type": "code",
   "execution_count": null,
   "id": "2f036e7e-ba41-4dfd-9e91-cbb2eff02d0e",
   "metadata": {},
   "outputs": [],
   "source": [
    "# libraries_text = ['L1', 'L2']\n",
    "libraries_text = ['L1', 'L2', 'L3', 'L4', 'L5', 'L6', 'L7', 'L8', 'L9', 'L10', 'L11', 'L12', 'L13', 'L14']"
   ]
  },
  {
   "cell_type": "code",
   "execution_count": null,
   "id": "1fb23b51-1227-40eb-ba7e-062d4726478b",
   "metadata": {},
   "outputs": [],
   "source": [
    "libraries_dict = {'0001': 'L1', '0002': 'L2', '0003': 'L3', '0004': 'L4', '0005': 'L5',  '0006': 'L6', '0007': 'L7', '0008': 'L8', '0009': 'L9', '0010': 'L10', '0011': 'L11', '0012': 'L12', '0013': 'L13', '0014': 'L14'}"
   ]
  },
  {
   "cell_type": "code",
   "execution_count": null,
   "id": "aaf14e7d-7929-4fbb-a732-bdeee6343128",
   "metadata": {},
   "outputs": [],
   "source": [
    "#libraries_dict = {'0001': 'L1', '0002': 'L2'}"
   ]
  },
  {
   "cell_type": "code",
   "execution_count": null,
   "id": "b6e9ae10-4909-4a26-aadc-6009e708ad3c",
   "metadata": {},
   "outputs": [],
   "source": [
    "save_name = 'B1_DE_Integrated_Singlet_processed'"
   ]
  },
  {
   "cell_type": "markdown",
   "id": "db6a2c65-9bd9-4108-9eb4-8b18ffdb480c",
   "metadata": {},
   "source": [
    "## RNA Data from A7"
   ]
  },
  {
   "cell_type": "code",
   "execution_count": null,
   "id": "5203a406-215d-46f7-8f5a-2fdc6eeedb6b",
   "metadata": {},
   "outputs": [],
   "source": [
    "anndata_dict = dict.fromkeys(libraries_text)"
   ]
  },
  {
   "cell_type": "code",
   "execution_count": null,
   "id": "1cde11e0-3959-4b4c-89f7-915c4e5906dc",
   "metadata": {},
   "outputs": [],
   "source": [
    "anndata_dict_raw = dict.fromkeys(libraries_text)   # get a dictionary containing the original raw data "
   ]
  },
  {
   "cell_type": "code",
   "execution_count": null,
   "id": "b9f61310-55d6-4ac2-8285-4a6d7ce866e4",
   "metadata": {
    "tags": []
   },
   "outputs": [],
   "source": [
    "for key in anndata_dict:\n",
    "    dataset_path = data_path + \"/analysis/A/A7_Processed_\" + key + '_rna_Final.h5ad'\n",
    "    \n",
    "    print(dataset_path)\n",
    "    print('Last modified' + time.ctime(os.path.getmtime(dataset_path)))\n",
    "    \n",
    "    adata_orig = sc.read_h5ad(dataset_path)\n",
    "    anndata_dict[key]= adata_orig # save anndata in dictionary\n",
    "    anndata_dict_raw[key] = anndata_dict[key].raw.to_adata()\n",
    "    \n",
    "    anndata_dict[key].uns['data_load_time'] = time.ctime(os.path.getmtime(dataset_path))  # save the last modified timestamp of the data loaded\n",
    "    anndata_dict[key].uns['data_load_name'] = dataset_path # save the data path of the data loaded \n",
    "    "
   ]
  },
  {
   "cell_type": "code",
   "execution_count": null,
   "id": "2aea2de9-a89a-4a24-b49b-aa3a6105a229",
   "metadata": {},
   "outputs": [],
   "source": [
    "### Short data check"
   ]
  },
  {
   "cell_type": "code",
   "execution_count": null,
   "id": "794634ae-be55-42fc-9812-bd270145469c",
   "metadata": {
    "tags": []
   },
   "outputs": [],
   "source": [
    "anndata_dict[key]  # cells have been filtered based on QC metrics"
   ]
  },
  {
   "cell_type": "code",
   "execution_count": null,
   "id": "a79ae56d-8851-4f60-a73b-d7d9ed78bc66",
   "metadata": {},
   "outputs": [],
   "source": [
    "anndata_dict[key].X.sum(axis=1) # data was normalized and log-transformed\n"
   ]
  },
  {
   "cell_type": "code",
   "execution_count": null,
   "id": "36d2d0b0-c825-4cb4-b3f9-4b51a21a3007",
   "metadata": {},
   "outputs": [],
   "source": [
    "anndata_dict_raw[key].X.sum(axis=1) # original raw count data"
   ]
  },
  {
   "cell_type": "markdown",
   "id": "6980c8ef-3598-40d4-bd1e-2150de5f1dfa",
   "metadata": {},
   "source": [
    "# Data Integration"
   ]
  },
  {
   "cell_type": "markdown",
   "id": "a6627455-68c3-4f31-9f38-55360ef14d24",
   "metadata": {},
   "source": [
    "## Put all in one anndata list"
   ]
  },
  {
   "cell_type": "code",
   "execution_count": null,
   "id": "2e1a043e-ee6a-4b21-ab45-abccfbf38eeb",
   "metadata": {},
   "outputs": [],
   "source": [
    "anndata = list(anndata_dict.values())"
   ]
  },
  {
   "cell_type": "code",
   "execution_count": null,
   "id": "8439df15-526f-40cf-afde-c6ffcba0ed9e",
   "metadata": {},
   "outputs": [],
   "source": []
  },
  {
   "cell_type": "markdown",
   "id": "4eaea6a4-8eff-4e29-9bee-680ea1bed20d",
   "metadata": {
    "tags": []
   },
   "source": [
    "## Correct counts with sanorama on complete data"
   ]
  },
  {
   "cell_type": "code",
   "execution_count": null,
   "id": "c9915201-0129-48bd-82b1-ea448f2a65f2",
   "metadata": {
    "tags": []
   },
   "outputs": [],
   "source": [
    "#### Use list containing all libraries\n",
    "# anndata"
   ]
  },
  {
   "cell_type": "code",
   "execution_count": null,
   "id": "b1ab04e8-c3d7-4c21-90cd-c95b76140911",
   "metadata": {},
   "outputs": [],
   "source": [
    "print(datetime.now())  # check out duration"
   ]
  },
  {
   "cell_type": "code",
   "execution_count": null,
   "id": "c782ef58-d6d9-442f-af68-16ae56dec35b",
   "metadata": {
    "tags": []
   },
   "outputs": [],
   "source": [
    "adatas_cor = scanorama.correct_scanpy(anndata, return_dimred=True, batch_size = 2000, hvg = 2000)\n"
   ]
  },
  {
   "cell_type": "code",
   "execution_count": null,
   "id": "898d8bc5-025d-40ac-b20a-c9916f09f536",
   "metadata": {},
   "outputs": [],
   "source": [
    "print(datetime.now())"
   ]
  },
  {
   "cell_type": "code",
   "execution_count": null,
   "id": "bc5aa682-d83b-4a6b-9ef6-0f96d4ae2a6f",
   "metadata": {
    "tags": []
   },
   "outputs": [],
   "source": [
    "adatas_cor"
   ]
  },
  {
   "cell_type": "code",
   "execution_count": null,
   "id": "70aa46aa-8958-4ff2-b41d-c00ebba4fce6",
   "metadata": {
    "tags": []
   },
   "outputs": [],
   "source": [
    "adatas_cor[0].uns"
   ]
  },
  {
   "cell_type": "code",
   "execution_count": null,
   "id": "3afbf505-b408-4836-a2cd-ed0ee8e6f420",
   "metadata": {},
   "outputs": [],
   "source": [
    "adata_complete_cor = adatas_cor[0].concatenate(\n",
    "    adatas_cor[1:14],\n",
    "    batch_key=\"library_id\",\n",
    "    batch_categories = anndata_dict.keys(),\n",
    "    uns_merge=\"unique\"\n",
    ")"
   ]
  },
  {
   "cell_type": "code",
   "execution_count": null,
   "id": "ac280a5f-7b7f-4874-b6fc-9441a719dc9d",
   "metadata": {
    "tags": []
   },
   "outputs": [],
   "source": [
    "#adata_complete_cor"
   ]
  },
  {
   "cell_type": "code",
   "execution_count": null,
   "id": "ae433e26-1084-4889-bfaa-fcaecc1b2f04",
   "metadata": {},
   "outputs": [],
   "source": [
    "#adata_complete_cor.X.sum(axis=1)"
   ]
  },
  {
   "cell_type": "markdown",
   "id": "c6d683a7-1cbd-4775-9a5d-cc4d01f5d298",
   "metadata": {
    "tags": []
   },
   "source": [
    "## Correct counts with sanorama on complete data (without rb + mt genes)"
   ]
  },
  {
   "cell_type": "code",
   "execution_count": null,
   "id": "055b5619-0046-4897-8981-79333b877096",
   "metadata": {},
   "outputs": [],
   "source": [
    "anndata_dict_rb_mt = dict.fromkeys(libraries_text)"
   ]
  },
  {
   "cell_type": "code",
   "execution_count": null,
   "id": "d4db38a9-7050-41ec-aac3-d27d11ac9916",
   "metadata": {},
   "outputs": [],
   "source": [
    "for key in anndata_dict:\n",
    "    print(key)\n",
    "    # anndata_dict_singlet_rb_mt[key] = anndata_dict[key][anndata_dict[key].obs['HTO_classification.global']=='Singlet']\n",
    "    \n",
    "    anndata_dict_rb_mt[key] = anndata_dict[key][:,np.logical_and(anndata_dict[key].var['rb'] == False , anndata_dict[key].var['mt'] == False)]\n",
    "    \n",
    "    if save_name == 'B6_DE_Integrated_Singlet_processed_rna_MOFA':\n",
    "        anndata_dict_rb_mt[key] = anndata_dict_rb_mt[key][:, genes_filter]  # ONLY FOR COMPARISON TO MOFA remove again --> FILTER ON SELECTED GENES"
   ]
  },
  {
   "cell_type": "code",
   "execution_count": null,
   "id": "9acfa4b7-a27d-4a70-8c85-31f44633c3ab",
   "metadata": {},
   "outputs": [],
   "source": [
    "anndata_dict_rb_mt[key]"
   ]
  },
  {
   "cell_type": "code",
   "execution_count": null,
   "id": "69837da5-7397-4c75-94fd-93920d1db96b",
   "metadata": {},
   "outputs": [],
   "source": []
  },
  {
   "cell_type": "code",
   "execution_count": null,
   "id": "6d956fd0-2ab1-4a13-a213-3738a9e0ef6d",
   "metadata": {},
   "outputs": [],
   "source": [
    "anndata_rb_mt = list(anndata_dict_rb_mt.values())"
   ]
  },
  {
   "cell_type": "code",
   "execution_count": null,
   "id": "ad88860c-23ad-4dfa-b47a-2b6fe2470dcd",
   "metadata": {},
   "outputs": [],
   "source": [
    "anndata_rb_mt[1]"
   ]
  },
  {
   "cell_type": "code",
   "execution_count": null,
   "id": "4bafcef7-4079-4523-938f-44a7cfc8b21c",
   "metadata": {},
   "outputs": [],
   "source": [
    "print(datetime.now())  # check out duration"
   ]
  },
  {
   "cell_type": "code",
   "execution_count": null,
   "id": "2613a2c7-c259-4d5b-b797-f3336ecaf88a",
   "metadata": {},
   "outputs": [],
   "source": [
    "save_name != 'B6_DE_Integrated_Singlet_processed_rna_MOFA'"
   ]
  },
  {
   "cell_type": "code",
   "execution_count": null,
   "id": "02fd545e-1004-4e9b-96ff-0920be3aec3e",
   "metadata": {
    "tags": []
   },
   "outputs": [],
   "source": [
    "if save_name != 'B6_DE_Integrated_Singlet_processed_rna_MOFA':\n",
    "    adatas_cor_rb_mt = scanorama.correct_scanpy(anndata_rb_mt, return_dimred=True, batch_size = 2000, hvg = 2000)\n"
   ]
  },
  {
   "cell_type": "code",
   "execution_count": null,
   "id": "54ce4b0b-d302-42f4-81dc-2266eea94d3c",
   "metadata": {},
   "outputs": [],
   "source": [
    " print(datetime.now())"
   ]
  },
  {
   "cell_type": "code",
   "execution_count": null,
   "id": "340624c4-39d2-498a-ac17-27b2dc057d53",
   "metadata": {},
   "outputs": [],
   "source": []
  },
  {
   "cell_type": "code",
   "execution_count": null,
   "id": "2e127b31-f331-4aed-a711-f7b1f3fe5e02",
   "metadata": {},
   "outputs": [],
   "source": []
  },
  {
   "cell_type": "code",
   "execution_count": null,
   "id": "2fb32a6d-cb6b-47f9-b936-28d2cd3a1916",
   "metadata": {
    "tags": []
   },
   "outputs": [],
   "source": [
    "# adatas_cor"
   ]
  },
  {
   "cell_type": "code",
   "execution_count": null,
   "id": "1917383a-22b2-4d61-b990-d638d245007b",
   "metadata": {
    "tags": []
   },
   "outputs": [],
   "source": [
    "# adatas_cor[0].uns"
   ]
  },
  {
   "cell_type": "code",
   "execution_count": null,
   "id": "ed726685-e734-4e02-9f14-8d87cbbfd9bc",
   "metadata": {},
   "outputs": [],
   "source": [
    "adata_complete_cor_rb_mt = adatas_cor_rb_mt[0].concatenate(\n",
    "    adatas_cor_rb_mt[1:14],\n",
    "    batch_key=\"library_id\",\n",
    "    batch_categories = anndata_dict.keys(),\n",
    "    uns_merge=\"unique\"\n",
    ")"
   ]
  },
  {
   "cell_type": "code",
   "execution_count": null,
   "id": "b4e12c5b-f057-4ee3-9be9-91e91d815f0e",
   "metadata": {
    "tags": []
   },
   "outputs": [],
   "source": [
    "adata_complete_cor_rb_mt"
   ]
  },
  {
   "cell_type": "code",
   "execution_count": null,
   "id": "4f177331-b67e-4083-9c35-8b16393c08e7",
   "metadata": {},
   "outputs": [],
   "source": [
    "adata_complete_cor_rb_mt[adata_complete_cor_rb_mt.obs['HTO_classification.global']=='Singlet'].X.sum(axis=1)"
   ]
  },
  {
   "cell_type": "code",
   "execution_count": null,
   "id": "8b068bc8-7020-48b7-8f7d-a443d169cae5",
   "metadata": {},
   "outputs": [],
   "source": [
    "adata_complete_cor_rb_mt[adata_complete_cor_rb_mt.obs['HTO_classification.global']=='Singlet'].obsm['X_scanorama']  # alignment confirmed with B3"
   ]
  },
  {
   "cell_type": "code",
   "execution_count": null,
   "id": "56cd7291-0192-48ce-a999-207363c5189e",
   "metadata": {},
   "outputs": [],
   "source": [
    "adata_complete_cor_rb_mt.obsm['X_scanorama']"
   ]
  },
  {
   "cell_type": "code",
   "execution_count": null,
   "id": "d2cadff7-d134-4bbc-b031-a8497087acb2",
   "metadata": {},
   "outputs": [],
   "source": [
    "adata_complete_cor_rb_mt.X.sum(axis=1)"
   ]
  },
  {
   "cell_type": "code",
   "execution_count": null,
   "id": "ad209dd1-ede1-4398-b090-0f0a0d068179",
   "metadata": {},
   "outputs": [],
   "source": [
    "adata_complete_cor_rb_mt.obsm['X_scanorama'].sum(axis=1)"
   ]
  },
  {
   "cell_type": "code",
   "execution_count": null,
   "id": "375fd63b-f811-467e-bfa2-a9725fa08e4c",
   "metadata": {},
   "outputs": [],
   "source": [
    "np.shape(adata_complete_cor_rb_mt.X)"
   ]
  },
  {
   "cell_type": "code",
   "execution_count": null,
   "id": "1ebef57b-f7f9-43e0-b932-64ab8b9551d1",
   "metadata": {},
   "outputs": [],
   "source": [
    "np.shape(adata_complete_cor_rb_mt.obsm['X_scanorama'])"
   ]
  },
  {
   "cell_type": "markdown",
   "id": "8a5a2088-7f6f-4522-bb2b-ac7e524b53d3",
   "metadata": {},
   "source": [
    "# Save the result"
   ]
  },
  {
   "cell_type": "markdown",
   "id": "5e6f5370-0b7f-4907-987d-fa8560c1c1ef",
   "metadata": {},
   "source": [
    "## Combine different variants"
   ]
  },
  {
   "cell_type": "code",
   "execution_count": null,
   "id": "af2cdf10-92c0-4e40-a222-552c71e9d56b",
   "metadata": {},
   "outputs": [],
   "source": [
    "#adata_complete_cor.obsm['X_scanorama_rb_mt'] = adata_complete_cor_rb_mt.obsm['X_scanorama']"
   ]
  },
  {
   "cell_type": "code",
   "execution_count": null,
   "id": "8c19ee89-a5a9-4a04-9940-cfc57dedebd3",
   "metadata": {},
   "outputs": [],
   "source": [
    "#adata_complete_cor"
   ]
  },
  {
   "cell_type": "code",
   "execution_count": null,
   "id": "7e758234-449c-4b24-b261-760578e033b3",
   "metadata": {},
   "outputs": [],
   "source": [
    "### only for NEW:\n",
    "adata_complete_cor_rb_mt.obsm['X_scanorama_rb_mt'] = adata_complete_cor_rb_mt.obsm['X_scanorama']"
   ]
  },
  {
   "cell_type": "code",
   "execution_count": null,
   "id": "508fbf1f-d146-43c2-a28a-cec33c797091",
   "metadata": {},
   "outputs": [],
   "source": []
  },
  {
   "cell_type": "markdown",
   "id": "baf0095f-010e-4832-88ba-7c93ef63e67a",
   "metadata": {},
   "source": [
    "## Do some data format adaptions"
   ]
  },
  {
   "cell_type": "code",
   "execution_count": null,
   "id": "a8e677cc-759a-4f17-a242-a1813d1b658e",
   "metadata": {
    "tags": []
   },
   "outputs": [],
   "source": [
    "### convert column to right format"
   ]
  },
  {
   "cell_type": "code",
   "execution_count": null,
   "id": "f632d002-0786-4a5c-ad55-dc99133d6854",
   "metadata": {},
   "outputs": [],
   "source": [
    "#adata_complete_cor.obs['A5_scrublet_predicted_doublet_lib0.2'] =adata_complete_cor.obs['A5_scrublet_predicted_doublet_lib0.2'].apply(str)"
   ]
  },
  {
   "cell_type": "code",
   "execution_count": null,
   "id": "fc469580-324b-46ad-bcf4-fae31df8c6d5",
   "metadata": {},
   "outputs": [],
   "source": [
    "### only for NEW:\n",
    "\n",
    "adata_complete_cor_rb_mt.obs['A5_scrublet_predicted_doublet_lib0.2'] =adata_complete_cor_rb_mt.obs['A5_scrublet_predicted_doublet_lib0.2'].apply(str)"
   ]
  },
  {
   "cell_type": "markdown",
   "id": "55765cf1-5925-48a4-99de-e6460d1d9fab",
   "metadata": {
    "tags": []
   },
   "source": [
    "## Save"
   ]
  },
  {
   "cell_type": "code",
   "execution_count": null,
   "id": "0ba1efb2-25f0-4caa-9e38-fe6c27ba19b0",
   "metadata": {
    "tags": []
   },
   "outputs": [],
   "source": [
    "data_name = data_path + '/analysis/B/' +  'B1_Integrated_Scanorama_processed_rna.h5ad'\n",
    "\n",
    "print(data_name)\n",
    "print('Last modified' + date.today().strftime(\"%m/%d/%Y, %H:%M:%S\"))\n",
    "\n",
    "\n",
    "adata_complete_cor_rb_mt.uns['data_save_time'] = date.today().strftime(\"%m/%d/%Y, %H:%M:%S\") # save the last modified timestamp of the data saved\n",
    "adata_complete_cor_rb_mt.uns['data_save_name'] = data_name # save the data path of the data loaded \n",
    "\n",
    "\n",
    "working_directory = os.getcwd()\n",
    "repo.index.add([working_directory + '/' + file_name])\n",
    "commit = repo.index.commit('Save data '+ data_name + ' '+ date.today().strftime(\"%m/%d/%Y, %H:%M:%S\") )\n",
    "print(commit)\n",
    "\n",
    "\n",
    "adata_complete_cor_rb_mt.write(data_name)"
   ]
  }
 ],
 "metadata": {
  "kernelspec": {
   "display_name": "Python 3 (ipykernel)",
   "language": "python",
   "name": "python3"
  },
  "language_info": {
   "codemirror_mode": {
    "name": "ipython",
    "version": 3
   },
   "file_extension": ".py",
   "mimetype": "text/x-python",
   "name": "python",
   "nbconvert_exporter": "python",
   "pygments_lexer": "ipython3",
   "version": "3.9.7"
  },
  "toc-autonumbering": true
 },
 "nbformat": 4,
 "nbformat_minor": 5
}

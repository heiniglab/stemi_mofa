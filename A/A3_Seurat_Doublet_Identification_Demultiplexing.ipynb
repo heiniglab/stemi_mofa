{
 "cells": [
  {
   "cell_type": "markdown",
   "id": "6eea0e2c-6e5e-4134-bd16-8e44f63a3f8d",
   "metadata": {
    "tags": []
   },
   "source": [
    "#############################################\n",
    "# Prerequisites - Load Libraries"
   ]
  },
  {
   "cell_type": "code",
   "execution_count": 7,
   "id": "75a84bcf-11af-4b36-91e2-e1f4e62d01c7",
   "metadata": {
    "tags": []
   },
   "outputs": [],
   "source": [
    "source('MS0_Libraries.r')"
   ]
  },
  {
   "cell_type": "markdown",
   "id": "8754c787-286a-494c-81e8-2d2c0dbec7b6",
   "metadata": {
    "tags": []
   },
   "source": [
    "###############################################\n",
    "# Preqrequisites Configurations & Parameters"
   ]
  },
  {
   "cell_type": "code",
   "execution_count": 8,
   "id": "a5648ece-0e91-4980-ab3a-76f68f0857d6",
   "metadata": {},
   "outputs": [],
   "source": [
    "data_path = '../data/current'"
   ]
  },
  {
   "cell_type": "code",
   "execution_count": 9,
   "id": "4c09f007-ffd1-4ead-bed4-bb7cda59ea8d",
   "metadata": {},
   "outputs": [
    {
     "data": {
      "text/html": [
       "'../data/current'"
      ],
      "text/latex": [
       "'../data/current'"
      ],
      "text/markdown": [
       "'../data/current'"
      ],
      "text/plain": [
       "[1] \"../data/current\""
      ]
     },
     "metadata": {},
     "output_type": "display_data"
    }
   ],
   "source": [
    "data_path"
   ]
  },
  {
   "cell_type": "code",
   "execution_count": 10,
   "id": "83d5f3b3-e93f-44e6-9ca1-3e2dc24a772b",
   "metadata": {
    "tags": []
   },
   "outputs": [],
   "source": [
    "libraries = c('L1', 'L2', 'L3', 'L4', 'L5', 'L6', 'L7', 'L8', 'L9', 'L10','L11', 'L12', 'L13', 'L14')"
   ]
  },
  {
   "cell_type": "code",
   "execution_count": 11,
   "id": "a371cfb5-48af-44e6-9dba-06999c3868c5",
   "metadata": {},
   "outputs": [],
   "source": [
    "scriptname = 'A3_R_Doublet_Identification_Clustering_with_Seurat'"
   ]
  },
  {
   "cell_type": "code",
   "execution_count": 12,
   "id": "f568f7d2-0769-499b-8be5-2b977bd13700",
   "metadata": {},
   "outputs": [
    {
     "name": "stdout",
     "output_type": "stream",
     "text": [
      "##------ Fri Jan 20 10:29:11 2023 ------##\n"
     ]
    }
   ],
   "source": [
    "execution_date = timestamp()"
   ]
  },
  {
   "cell_type": "markdown",
   "id": "60e85a96-211b-4f59-9dd5-c1a93d656701",
   "metadata": {},
   "source": [
    "########################################\n",
    "# Prerequisites Data Loading"
   ]
  },
  {
   "cell_type": "markdown",
   "id": "800f6ce6-9a03-4193-b189-a437d995ddd0",
   "metadata": {},
   "source": [
    "## Meta-Data File"
   ]
  },
  {
   "cell_type": "code",
   "execution_count": 13,
   "id": "14cd0df3-e167-4b3e-b90c-398b12dee375",
   "metadata": {},
   "outputs": [
    {
     "name": "stdout",
     "output_type": "stream",
     "text": [
      "[1] \"2021-09-02 13:17:03 CEST\"\n"
     ]
    }
   ],
   "source": [
    "path = paste0(data_path, \"/preprocessed-data/meta-data/Mapping_Hashtag_Sample.csv\")\n",
    "library_hashtag_mapping = read.csv(path)\n",
    "print(file.info(path)$mtime)"
   ]
  },
  {
   "cell_type": "markdown",
   "id": "c4c79083-f4f1-4901-b0b4-76382ce44121",
   "metadata": {},
   "source": [
    "## Hashtag Library Reads (Protein.RDS)"
   ]
  },
  {
   "cell_type": "code",
   "execution_count": 14,
   "id": "70984552-226a-4c7c-96fd-a09f5cb78bf3",
   "metadata": {},
   "outputs": [
    {
     "name": "stdout",
     "output_type": "stream",
     "text": [
      "[1] \"2023-01-20 10:05:25 CET\"\n",
      "[1] \"2023-01-20 10:05:26 CET\"\n",
      "[1] \"2023-01-20 10:05:26 CET\"\n",
      "[1] \"2023-01-20 10:05:27 CET\"\n",
      "[1] \"2023-01-20 10:05:28 CET\"\n",
      "[1] \"2023-01-20 10:05:28 CET\"\n",
      "[1] \"2023-01-20 10:05:29 CET\"\n",
      "[1] \"2023-01-20 10:05:30 CET\"\n",
      "[1] \"2023-01-20 10:05:30 CET\"\n",
      "[1] \"2023-01-20 10:05:31 CET\"\n",
      "[1] \"2023-01-20 10:05:31 CET\"\n",
      "[1] \"2023-01-20 10:05:32 CET\"\n",
      "[1] \"2023-01-20 10:05:33 CET\"\n",
      "[1] \"2023-01-20 10:05:33 CET\"\n"
     ]
    }
   ],
   "source": [
    "protein_rds = list()\n",
    "\n",
    "for(i in libraries){\n",
    "    data_name = paste(data_path,'/analysis/A/A1_', i ,'_protein_Final.rds', sep = '')\n",
    "    protein_rds[[i]] = readRDS(data_name)\n",
    "    print(file.info(data_name)$mtime)\n",
    "}"
   ]
  },
  {
   "cell_type": "code",
   "execution_count": 15,
   "id": "f41b0ccf-564e-49ce-a48f-3287a127b142",
   "metadata": {},
   "outputs": [
    {
     "data": {
      "text/html": [
       "<style>\n",
       ".list-inline {list-style: none; margin:0; padding: 0}\n",
       ".list-inline>li {display: inline-block}\n",
       ".list-inline>li:not(:last-child)::after {content: \"\\00b7\"; padding: 0 .5ex}\n",
       "</style>\n",
       "<ol class=list-inline><li>'AAACCCAAGACATAAC-1'</li><li>'AAACCCAAGAGCAACC-1'</li><li>'AAACCCAAGAGCATTA-1'</li><li>'AAACCCACACGTTCGG-1'</li><li>'AAACCCACACTGCACG-1'</li><li>'AAACCCACAGAGACTG-1'</li></ol>\n"
      ],
      "text/latex": [
       "\\begin{enumerate*}\n",
       "\\item 'AAACCCAAGACATAAC-1'\n",
       "\\item 'AAACCCAAGAGCAACC-1'\n",
       "\\item 'AAACCCAAGAGCATTA-1'\n",
       "\\item 'AAACCCACACGTTCGG-1'\n",
       "\\item 'AAACCCACACTGCACG-1'\n",
       "\\item 'AAACCCACAGAGACTG-1'\n",
       "\\end{enumerate*}\n"
      ],
      "text/markdown": [
       "1. 'AAACCCAAGACATAAC-1'\n",
       "2. 'AAACCCAAGAGCAACC-1'\n",
       "3. 'AAACCCAAGAGCATTA-1'\n",
       "4. 'AAACCCACACGTTCGG-1'\n",
       "5. 'AAACCCACACTGCACG-1'\n",
       "6. 'AAACCCACAGAGACTG-1'\n",
       "\n",
       "\n"
      ],
      "text/plain": [
       "[1] \"AAACCCAAGACATAAC-1\" \"AAACCCAAGAGCAACC-1\" \"AAACCCAAGAGCATTA-1\"\n",
       "[4] \"AAACCCACACGTTCGG-1\" \"AAACCCACACTGCACG-1\" \"AAACCCACAGAGACTG-1\""
      ]
     },
     "metadata": {},
     "output_type": "display_data"
    }
   ],
   "source": [
    "##### test succcess of oparation - check out elements\n",
    "head(rownames(protein_rds[['L3']]))   # cells"
   ]
  },
  {
   "cell_type": "code",
   "execution_count": 16,
   "id": "be63d8a7-6929-4292-8cd9-36e3087ea707",
   "metadata": {},
   "outputs": [
    {
     "data": {
      "text/html": [
       "<style>\n",
       ".list-inline {list-style: none; margin:0; padding: 0}\n",
       ".list-inline>li {display: inline-block}\n",
       ".list-inline>li:not(:last-child)::after {content: \"\\00b7\"; padding: 0 .5ex}\n",
       "</style>\n",
       "<ol class=list-inline><li>'Ch-CCS-22'</li><li>'Ch-CCS-23'</li><li>'Ch-CCS-27'</li><li>'Ch-CCS-29'</li><li>'Ch-CCS-30'</li><li>'Ch-CCS-32'</li><li>'C-CCS-17'</li><li>'C-CCS-19'</li><li>'C-CCS-24'</li><li>'C-CCS-25'</li></ol>\n"
      ],
      "text/latex": [
       "\\begin{enumerate*}\n",
       "\\item 'Ch-CCS-22'\n",
       "\\item 'Ch-CCS-23'\n",
       "\\item 'Ch-CCS-27'\n",
       "\\item 'Ch-CCS-29'\n",
       "\\item 'Ch-CCS-30'\n",
       "\\item 'Ch-CCS-32'\n",
       "\\item 'C-CCS-17'\n",
       "\\item 'C-CCS-19'\n",
       "\\item 'C-CCS-24'\n",
       "\\item 'C-CCS-25'\n",
       "\\end{enumerate*}\n"
      ],
      "text/markdown": [
       "1. 'Ch-CCS-22'\n",
       "2. 'Ch-CCS-23'\n",
       "3. 'Ch-CCS-27'\n",
       "4. 'Ch-CCS-29'\n",
       "5. 'Ch-CCS-30'\n",
       "6. 'Ch-CCS-32'\n",
       "7. 'C-CCS-17'\n",
       "8. 'C-CCS-19'\n",
       "9. 'C-CCS-24'\n",
       "10. 'C-CCS-25'\n",
       "\n",
       "\n"
      ],
      "text/plain": [
       " [1] \"Ch-CCS-22\" \"Ch-CCS-23\" \"Ch-CCS-27\" \"Ch-CCS-29\" \"Ch-CCS-30\" \"Ch-CCS-32\"\n",
       " [7] \"C-CCS-17\"  \"C-CCS-19\"  \"C-CCS-24\"  \"C-CCS-25\" "
      ]
     },
     "metadata": {},
     "output_type": "display_data"
    }
   ],
   "source": [
    "colnames(protein_rds[['L12']])   # hashtags"
   ]
  },
  {
   "cell_type": "code",
   "execution_count": 17,
   "id": "0dda5024-0022-4031-9b29-709c8d9e787d",
   "metadata": {},
   "outputs": [],
   "source": [
    "#### Filter to use only valid barcodes\n",
    "\n",
    "valid_samples = library_hashtag_mapping[library_hashtag_mapping$in_sample ==1, ]\n"
   ]
  },
  {
   "cell_type": "code",
   "execution_count": 18,
   "id": "5fb3db77-654b-47e7-b3f7-5da047591048",
   "metadata": {},
   "outputs": [],
   "source": [
    "for(i in libraries){\n",
    "    protein_rds[[i]] = protein_rds[[i]][,intersect(colnames(protein_rds[[i]]) , valid_samples[valid_samples$library == i,]$name)]\n",
    "    }"
   ]
  },
  {
   "cell_type": "code",
   "execution_count": 19,
   "id": "a6aa1c9a-4843-45df-b38f-f2859e68492a",
   "metadata": {},
   "outputs": [],
   "source": [
    "##### needs to be transposed"
   ]
  },
  {
   "cell_type": "code",
   "execution_count": 20,
   "id": "f9ce7658-30c5-4fd1-bed2-5a480a775989",
   "metadata": {},
   "outputs": [],
   "source": [
    "for(i in libraries){\n",
    "    protein_rds[[i]] = t(protein_rds[[i]])\n",
    "    }"
   ]
  },
  {
   "cell_type": "code",
   "execution_count": 21,
   "id": "d35ed9f3-a8e5-4965-b025-da66b4af3d32",
   "metadata": {},
   "outputs": [
    {
     "data": {
      "text/html": [
       "<style>\n",
       ".list-inline {list-style: none; margin:0; padding: 0}\n",
       ".list-inline>li {display: inline-block}\n",
       ".list-inline>li:not(:last-child)::after {content: \"\\00b7\"; padding: 0 .5ex}\n",
       "</style>\n",
       "<ol class=list-inline><li>'1.1'</li><li>'2.1'</li><li>'4.1'</li><li>'5.1'</li><li>'7.1'</li><li>'8.1'</li><li>'9.1'</li></ol>\n"
      ],
      "text/latex": [
       "\\begin{enumerate*}\n",
       "\\item '1.1'\n",
       "\\item '2.1'\n",
       "\\item '4.1'\n",
       "\\item '5.1'\n",
       "\\item '7.1'\n",
       "\\item '8.1'\n",
       "\\item '9.1'\n",
       "\\end{enumerate*}\n"
      ],
      "text/markdown": [
       "1. '1.1'\n",
       "2. '2.1'\n",
       "3. '4.1'\n",
       "4. '5.1'\n",
       "5. '7.1'\n",
       "6. '8.1'\n",
       "7. '9.1'\n",
       "\n",
       "\n"
      ],
      "text/plain": [
       "[1] \"1.1\" \"2.1\" \"4.1\" \"5.1\" \"7.1\" \"8.1\" \"9.1\""
      ]
     },
     "metadata": {},
     "output_type": "display_data"
    }
   ],
   "source": [
    "rownames(protein_rds[['L1']]) # hashtags"
   ]
  },
  {
   "cell_type": "code",
   "execution_count": 22,
   "id": "e546602a-6e6f-4dfb-817d-7ba7aac05095",
   "metadata": {},
   "outputs": [
    {
     "data": {
      "text/html": [
       "<style>\n",
       ".list-inline {list-style: none; margin:0; padding: 0}\n",
       ".list-inline>li {display: inline-block}\n",
       ".list-inline>li:not(:last-child)::after {content: \"\\00b7\"; padding: 0 .5ex}\n",
       "</style>\n",
       "<ol class=list-inline><li>'AAACCCAAGACATAAC-1'</li><li>'AAACCCAAGAGCAACC-1'</li><li>'AAACCCAAGAGCATTA-1'</li><li>'AAACCCACACGTTCGG-1'</li><li>'AAACCCACACTGCACG-1'</li><li>'AAACCCACAGAGACTG-1'</li></ol>\n"
      ],
      "text/latex": [
       "\\begin{enumerate*}\n",
       "\\item 'AAACCCAAGACATAAC-1'\n",
       "\\item 'AAACCCAAGAGCAACC-1'\n",
       "\\item 'AAACCCAAGAGCATTA-1'\n",
       "\\item 'AAACCCACACGTTCGG-1'\n",
       "\\item 'AAACCCACACTGCACG-1'\n",
       "\\item 'AAACCCACAGAGACTG-1'\n",
       "\\end{enumerate*}\n"
      ],
      "text/markdown": [
       "1. 'AAACCCAAGACATAAC-1'\n",
       "2. 'AAACCCAAGAGCAACC-1'\n",
       "3. 'AAACCCAAGAGCATTA-1'\n",
       "4. 'AAACCCACACGTTCGG-1'\n",
       "5. 'AAACCCACACTGCACG-1'\n",
       "6. 'AAACCCACAGAGACTG-1'\n",
       "\n",
       "\n"
      ],
      "text/plain": [
       "[1] \"AAACCCAAGACATAAC-1\" \"AAACCCAAGAGCAACC-1\" \"AAACCCAAGAGCATTA-1\"\n",
       "[4] \"AAACCCACACGTTCGG-1\" \"AAACCCACACTGCACG-1\" \"AAACCCACAGAGACTG-1\""
      ]
     },
     "metadata": {},
     "output_type": "display_data"
    }
   ],
   "source": [
    "head(colnames(protein_rds[['L3']])) # cells"
   ]
  },
  {
   "cell_type": "markdown",
   "id": "c62781c3-c2c5-42ab-8937-b6a7e04543af",
   "metadata": {},
   "source": [
    "## RNA Data Reads as Seurat Object"
   ]
  },
  {
   "cell_type": "code",
   "execution_count": 23,
   "id": "aa9a4df7-4575-4f01-9dc7-ebe7906bdf85",
   "metadata": {
    "collapsed": true,
    "jupyter": {
     "outputs_hidden": true
    },
    "tags": []
   },
   "outputs": [
    {
     "name": "stderr",
     "output_type": "stream",
     "text": [
      "Warning message:\n",
      "“Unknown file type: h5ad”\n",
      "Creating h5Seurat file for version 3.1.5.9900\n",
      "\n",
      "Adding X as data\n",
      "\n",
      "Adding X as counts\n",
      "\n",
      "Adding meta.features from var\n",
      "\n",
      "Warning message:\n",
      "“Unknown file type: h5ad”\n",
      "Creating h5Seurat file for version 3.1.5.9900\n",
      "\n",
      "Adding X as data\n",
      "\n",
      "Adding X as counts\n",
      "\n",
      "Adding meta.features from var\n",
      "\n",
      "Warning message:\n",
      "“Unknown file type: h5ad”\n",
      "Creating h5Seurat file for version 3.1.5.9900\n",
      "\n",
      "Adding X as data\n",
      "\n",
      "Adding X as counts\n",
      "\n",
      "Adding meta.features from var\n",
      "\n",
      "Warning message:\n",
      "“Unknown file type: h5ad”\n",
      "Creating h5Seurat file for version 3.1.5.9900\n",
      "\n",
      "Adding X as data\n",
      "\n",
      "Adding X as counts\n",
      "\n",
      "Adding meta.features from var\n",
      "\n",
      "Warning message:\n",
      "“Unknown file type: h5ad”\n",
      "Creating h5Seurat file for version 3.1.5.9900\n",
      "\n",
      "Adding X as data\n",
      "\n",
      "Adding X as counts\n",
      "\n",
      "Adding meta.features from var\n",
      "\n",
      "Warning message:\n",
      "“Unknown file type: h5ad”\n",
      "Creating h5Seurat file for version 3.1.5.9900\n",
      "\n",
      "Adding X as data\n",
      "\n",
      "Adding X as counts\n",
      "\n",
      "Adding meta.features from var\n",
      "\n",
      "Warning message:\n",
      "“Unknown file type: h5ad”\n",
      "Creating h5Seurat file for version 3.1.5.9900\n",
      "\n",
      "Adding X as data\n",
      "\n",
      "Adding X as counts\n",
      "\n",
      "Adding meta.features from var\n",
      "\n",
      "Warning message:\n",
      "“Unknown file type: h5ad”\n",
      "Creating h5Seurat file for version 3.1.5.9900\n",
      "\n",
      "Adding X as data\n",
      "\n",
      "Adding X as counts\n",
      "\n",
      "Adding meta.features from var\n",
      "\n",
      "Warning message:\n",
      "“Unknown file type: h5ad”\n",
      "Creating h5Seurat file for version 3.1.5.9900\n",
      "\n",
      "Adding X as data\n",
      "\n",
      "Adding X as counts\n",
      "\n",
      "Adding meta.features from var\n",
      "\n",
      "Warning message:\n",
      "“Unknown file type: h5ad”\n",
      "Creating h5Seurat file for version 3.1.5.9900\n",
      "\n",
      "Adding X as data\n",
      "\n",
      "Adding X as counts\n",
      "\n",
      "Adding meta.features from var\n",
      "\n",
      "Warning message:\n",
      "“Unknown file type: h5ad”\n",
      "Creating h5Seurat file for version 3.1.5.9900\n",
      "\n",
      "Adding X as data\n",
      "\n",
      "Adding X as counts\n",
      "\n",
      "Adding meta.features from var\n",
      "\n",
      "Warning message:\n",
      "“Unknown file type: h5ad”\n",
      "Creating h5Seurat file for version 3.1.5.9900\n",
      "\n",
      "Adding X as data\n",
      "\n",
      "Adding X as counts\n",
      "\n",
      "Adding meta.features from var\n",
      "\n",
      "Warning message:\n",
      "“Unknown file type: h5ad”\n",
      "Creating h5Seurat file for version 3.1.5.9900\n",
      "\n",
      "Adding X as data\n",
      "\n",
      "Adding X as counts\n",
      "\n",
      "Adding meta.features from var\n",
      "\n",
      "Warning message:\n",
      "“Unknown file type: h5ad”\n",
      "Creating h5Seurat file for version 3.1.5.9900\n",
      "\n",
      "Adding X as data\n",
      "\n",
      "Adding X as counts\n",
      "\n",
      "Adding meta.features from var\n",
      "\n"
     ]
    }
   ],
   "source": [
    "###### Convert h5ad to a seurat object\n",
    "\n",
    "#for(i in libraries){\n",
    "#    source_text = paste( data_path, '/analysis/A/A1_', i, '_rna_Final.h5ad', sep = '')\n",
    "#    Convert(source= source_text, dest = 'h5seurat', assay = 'RNA', overwrite = TRUE)\n",
    "#   }\n",
    "\n",
    "## only executed once for data generation"
   ]
  },
  {
   "cell_type": "code",
   "execution_count": 24,
   "id": "fd135961-a7ac-4eb9-b6ae-098ab495cc77",
   "metadata": {
    "collapsed": true,
    "jupyter": {
     "outputs_hidden": true
    },
    "tags": []
   },
   "outputs": [
    {
     "name": "stdout",
     "output_type": "stream",
     "text": [
      "[1] \"../data/current/analysis/A/A1_L1_rna_Final.h5seurat\"\n",
      "[1] \"2023-01-20 10:29:58 CET\"\n"
     ]
    },
    {
     "name": "stderr",
     "output_type": "stream",
     "text": [
      "Validating h5Seurat file\n",
      "\n",
      "Initializing RNA with data\n",
      "\n",
      "Adding counts for RNA\n",
      "\n",
      "Adding feature-level metadata for RNA\n",
      "\n",
      "Adding command information\n",
      "\n",
      "Adding cell-level metadata\n",
      "\n"
     ]
    },
    {
     "name": "stdout",
     "output_type": "stream",
     "text": [
      "[1] \"../data/current/analysis/A/A1_L2_rna_Final.h5seurat\"\n",
      "[1] \"2023-01-20 10:30:02 CET\"\n"
     ]
    },
    {
     "name": "stderr",
     "output_type": "stream",
     "text": [
      "Validating h5Seurat file\n",
      "\n",
      "Initializing RNA with data\n",
      "\n",
      "Adding counts for RNA\n",
      "\n",
      "Adding feature-level metadata for RNA\n",
      "\n",
      "Adding command information\n",
      "\n",
      "Adding cell-level metadata\n",
      "\n"
     ]
    },
    {
     "name": "stdout",
     "output_type": "stream",
     "text": [
      "[1] \"../data/current/analysis/A/A1_L3_rna_Final.h5seurat\"\n",
      "[1] \"2023-01-20 10:30:05 CET\"\n"
     ]
    },
    {
     "name": "stderr",
     "output_type": "stream",
     "text": [
      "Validating h5Seurat file\n",
      "\n",
      "Initializing RNA with data\n",
      "\n",
      "Adding counts for RNA\n",
      "\n",
      "Adding feature-level metadata for RNA\n",
      "\n",
      "Adding command information\n",
      "\n",
      "Adding cell-level metadata\n",
      "\n"
     ]
    },
    {
     "name": "stdout",
     "output_type": "stream",
     "text": [
      "[1] \"../data/current/analysis/A/A1_L4_rna_Final.h5seurat\"\n",
      "[1] \"2023-01-20 10:30:08 CET\"\n"
     ]
    },
    {
     "name": "stderr",
     "output_type": "stream",
     "text": [
      "Validating h5Seurat file\n",
      "\n",
      "Initializing RNA with data\n",
      "\n",
      "Adding counts for RNA\n",
      "\n",
      "Adding feature-level metadata for RNA\n",
      "\n",
      "Adding command information\n",
      "\n",
      "Adding cell-level metadata\n",
      "\n"
     ]
    },
    {
     "name": "stdout",
     "output_type": "stream",
     "text": [
      "[1] \"../data/current/analysis/A/A1_L5_rna_Final.h5seurat\"\n",
      "[1] \"2023-01-20 10:30:12 CET\"\n"
     ]
    },
    {
     "name": "stderr",
     "output_type": "stream",
     "text": [
      "Validating h5Seurat file\n",
      "\n",
      "Initializing RNA with data\n",
      "\n",
      "Adding counts for RNA\n",
      "\n",
      "Adding feature-level metadata for RNA\n",
      "\n",
      "Adding command information\n",
      "\n",
      "Adding cell-level metadata\n",
      "\n"
     ]
    },
    {
     "name": "stdout",
     "output_type": "stream",
     "text": [
      "[1] \"../data/current/analysis/A/A1_L6_rna_Final.h5seurat\"\n",
      "[1] \"2023-01-20 10:30:16 CET\"\n"
     ]
    },
    {
     "name": "stderr",
     "output_type": "stream",
     "text": [
      "Validating h5Seurat file\n",
      "\n",
      "Initializing RNA with data\n",
      "\n",
      "Adding counts for RNA\n",
      "\n",
      "Adding feature-level metadata for RNA\n",
      "\n",
      "Adding command information\n",
      "\n",
      "Adding cell-level metadata\n",
      "\n"
     ]
    },
    {
     "name": "stdout",
     "output_type": "stream",
     "text": [
      "[1] \"../data/current/analysis/A/A1_L7_rna_Final.h5seurat\"\n",
      "[1] \"2023-01-20 10:30:19 CET\"\n"
     ]
    },
    {
     "name": "stderr",
     "output_type": "stream",
     "text": [
      "Validating h5Seurat file\n",
      "\n",
      "Initializing RNA with data\n",
      "\n",
      "Adding counts for RNA\n",
      "\n",
      "Adding feature-level metadata for RNA\n",
      "\n",
      "Adding command information\n",
      "\n",
      "Adding cell-level metadata\n",
      "\n"
     ]
    },
    {
     "name": "stdout",
     "output_type": "stream",
     "text": [
      "[1] \"../data/current/analysis/A/A1_L8_rna_Final.h5seurat\"\n",
      "[1] \"2023-01-20 10:30:23 CET\"\n"
     ]
    },
    {
     "name": "stderr",
     "output_type": "stream",
     "text": [
      "Validating h5Seurat file\n",
      "\n",
      "Initializing RNA with data\n",
      "\n",
      "Adding counts for RNA\n",
      "\n",
      "Adding feature-level metadata for RNA\n",
      "\n",
      "Adding command information\n",
      "\n",
      "Adding cell-level metadata\n",
      "\n"
     ]
    },
    {
     "name": "stdout",
     "output_type": "stream",
     "text": [
      "[1] \"../data/current/analysis/A/A1_L9_rna_Final.h5seurat\"\n",
      "[1] \"2023-01-20 10:30:26 CET\"\n"
     ]
    },
    {
     "name": "stderr",
     "output_type": "stream",
     "text": [
      "Validating h5Seurat file\n",
      "\n",
      "Initializing RNA with data\n",
      "\n",
      "Adding counts for RNA\n",
      "\n",
      "Adding feature-level metadata for RNA\n",
      "\n",
      "Adding command information\n",
      "\n",
      "Adding cell-level metadata\n",
      "\n"
     ]
    },
    {
     "name": "stdout",
     "output_type": "stream",
     "text": [
      "[1] \"../data/current/analysis/A/A1_L10_rna_Final.h5seurat\"\n",
      "[1] \"2023-01-20 10:30:30 CET\"\n"
     ]
    },
    {
     "name": "stderr",
     "output_type": "stream",
     "text": [
      "Validating h5Seurat file\n",
      "\n",
      "Initializing RNA with data\n",
      "\n",
      "Adding counts for RNA\n",
      "\n",
      "Adding feature-level metadata for RNA\n",
      "\n",
      "Adding command information\n",
      "\n",
      "Adding cell-level metadata\n",
      "\n"
     ]
    },
    {
     "name": "stdout",
     "output_type": "stream",
     "text": [
      "[1] \"../data/current/analysis/A/A1_L11_rna_Final.h5seurat\"\n",
      "[1] \"2023-01-20 10:30:34 CET\"\n"
     ]
    },
    {
     "name": "stderr",
     "output_type": "stream",
     "text": [
      "Validating h5Seurat file\n",
      "\n",
      "Initializing RNA with data\n",
      "\n",
      "Adding counts for RNA\n",
      "\n",
      "Adding feature-level metadata for RNA\n",
      "\n",
      "Adding command information\n",
      "\n",
      "Adding cell-level metadata\n",
      "\n"
     ]
    },
    {
     "name": "stdout",
     "output_type": "stream",
     "text": [
      "[1] \"../data/current/analysis/A/A1_L12_rna_Final.h5seurat\"\n",
      "[1] \"2023-01-20 10:30:37 CET\"\n"
     ]
    },
    {
     "name": "stderr",
     "output_type": "stream",
     "text": [
      "Validating h5Seurat file\n",
      "\n",
      "Initializing RNA with data\n",
      "\n",
      "Adding counts for RNA\n",
      "\n",
      "Adding feature-level metadata for RNA\n",
      "\n",
      "Adding command information\n",
      "\n",
      "Adding cell-level metadata\n",
      "\n"
     ]
    },
    {
     "name": "stdout",
     "output_type": "stream",
     "text": [
      "[1] \"../data/current/analysis/A/A1_L13_rna_Final.h5seurat\"\n",
      "[1] \"2023-01-20 10:30:41 CET\"\n"
     ]
    },
    {
     "name": "stderr",
     "output_type": "stream",
     "text": [
      "Validating h5Seurat file\n",
      "\n",
      "Initializing RNA with data\n",
      "\n",
      "Adding counts for RNA\n",
      "\n",
      "Adding feature-level metadata for RNA\n",
      "\n",
      "Adding command information\n",
      "\n",
      "Adding cell-level metadata\n",
      "\n"
     ]
    },
    {
     "name": "stdout",
     "output_type": "stream",
     "text": [
      "[1] \"../data/current/analysis/A/A1_L14_rna_Final.h5seurat\"\n",
      "[1] \"2023-01-20 10:30:45 CET\"\n"
     ]
    },
    {
     "name": "stderr",
     "output_type": "stream",
     "text": [
      "Validating h5Seurat file\n",
      "\n",
      "Initializing RNA with data\n",
      "\n",
      "Adding counts for RNA\n",
      "\n",
      "Adding feature-level metadata for RNA\n",
      "\n",
      "Adding command information\n",
      "\n",
      "Adding cell-level metadata\n",
      "\n"
     ]
    }
   ],
   "source": [
    "###### Load the generated seurat objects\n",
    "rna_seurat_data = list()\n",
    "\n",
    "for(i in libraries){\n",
    "    source_text = paste( data_path, '/analysis/A/A1_', i, '_rna_Final.h5seurat', sep = '')\n",
    "    print(source_text)\n",
    "    print(file.info(source_text)$mtime)\n",
    "    rna_seurat_data[[i]] = LoadH5Seurat(source_text, assays = \"RNA\", quietly = TRUE )\n",
    "    }"
   ]
  },
  {
   "cell_type": "code",
   "execution_count": 25,
   "id": "c41f0d43-ac2f-4293-b1c4-0e10e6bbd73a",
   "metadata": {
    "tags": []
   },
   "outputs": [
    {
     "data": {
      "text/plain": [
       "$L1\n",
       "An object of class Seurat \n",
       "24253 features across 20572 samples within 1 assay \n",
       "Active assay: RNA (24253 features, 0 variable features)\n",
       "\n",
       "$L2\n",
       "An object of class Seurat \n",
       "24083 features across 18667 samples within 1 assay \n",
       "Active assay: RNA (24083 features, 0 variable features)\n",
       "\n",
       "$L3\n",
       "An object of class Seurat \n",
       "24322 features across 17837 samples within 1 assay \n",
       "Active assay: RNA (24322 features, 0 variable features)\n",
       "\n",
       "$L4\n",
       "An object of class Seurat \n",
       "24219 features across 23187 samples within 1 assay \n",
       "Active assay: RNA (24219 features, 0 variable features)\n",
       "\n",
       "$L5\n",
       "An object of class Seurat \n",
       "24971 features across 30388 samples within 1 assay \n",
       "Active assay: RNA (24971 features, 0 variable features)\n",
       "\n",
       "$L6\n",
       "An object of class Seurat \n",
       "24841 features across 22541 samples within 1 assay \n",
       "Active assay: RNA (24841 features, 0 variable features)\n",
       "\n",
       "$L7\n",
       "An object of class Seurat \n",
       "24032 features across 18870 samples within 1 assay \n",
       "Active assay: RNA (24032 features, 0 variable features)\n",
       "\n",
       "$L8\n",
       "An object of class Seurat \n",
       "24750 features across 22824 samples within 1 assay \n",
       "Active assay: RNA (24750 features, 0 variable features)\n",
       "\n",
       "$L9\n",
       "An object of class Seurat \n",
       "24555 features across 18072 samples within 1 assay \n",
       "Active assay: RNA (24555 features, 0 variable features)\n",
       "\n",
       "$L10\n",
       "An object of class Seurat \n",
       "24615 features across 19972 samples within 1 assay \n",
       "Active assay: RNA (24615 features, 0 variable features)\n",
       "\n",
       "$L11\n",
       "An object of class Seurat \n",
       "24593 features across 21986 samples within 1 assay \n",
       "Active assay: RNA (24593 features, 0 variable features)\n",
       "\n",
       "$L12\n",
       "An object of class Seurat \n",
       "23797 features across 20707 samples within 1 assay \n",
       "Active assay: RNA (23797 features, 0 variable features)\n",
       "\n",
       "$L13\n",
       "An object of class Seurat \n",
       "25431 features across 33736 samples within 1 assay \n",
       "Active assay: RNA (25431 features, 0 variable features)\n",
       "\n",
       "$L14\n",
       "An object of class Seurat \n",
       "25298 features across 29200 samples within 1 assay \n",
       "Active assay: RNA (25298 features, 0 variable features)\n"
      ]
     },
     "metadata": {},
     "output_type": "display_data"
    }
   ],
   "source": [
    "rna_seurat_data"
   ]
  },
  {
   "cell_type": "markdown",
   "id": "4a7a38f5-a8e3-4b09-9079-1904153218a2",
   "metadata": {},
   "source": [
    "## Add HTO/ Hashtag data as independent assay to RNA seurat object"
   ]
  },
  {
   "cell_type": "markdown",
   "id": "e2eae3ea-9d5b-48f4-b40f-eccb161c0adb",
   "metadata": {},
   "source": [
    "# Data Processing & Combination"
   ]
  },
  {
   "cell_type": "markdown",
   "id": "9893f163-6094-4a02-867b-0ee0d084f09d",
   "metadata": {},
   "source": [
    "## Normalize HTO data"
   ]
  },
  {
   "cell_type": "code",
   "execution_count": 26,
   "id": "bcd159b6-3cac-4ffb-94c3-0ef5a1012877",
   "metadata": {
    "tags": []
   },
   "outputs": [],
   "source": [
    "for(i in libraries){\n",
    "    rna_seurat_data[[i]][['HTO']] = CreateAssayObject(counts = protein_rds[[i]])\n",
    "    }"
   ]
  },
  {
   "cell_type": "markdown",
   "id": "8abcb143-1c19-4687-90ed-2a404b284fbb",
   "metadata": {},
   "source": [
    "## Add QC features to RNA data"
   ]
  },
  {
   "cell_type": "code",
   "execution_count": 27,
   "id": "41427d79-10a6-4b79-bcd5-9f78a90239b1",
   "metadata": {
    "tags": []
   },
   "outputs": [
    {
     "name": "stderr",
     "output_type": "stream",
     "text": [
      "Normalizing across features\n",
      "\n",
      "Normalizing across features\n",
      "\n",
      "Normalizing across features\n",
      "\n",
      "Normalizing across features\n",
      "\n",
      "Normalizing across features\n",
      "\n",
      "Normalizing across features\n",
      "\n",
      "Normalizing across features\n",
      "\n",
      "Normalizing across features\n",
      "\n",
      "Normalizing across features\n",
      "\n",
      "Normalizing across features\n",
      "\n",
      "Normalizing across features\n",
      "\n",
      "Normalizing across features\n",
      "\n",
      "Normalizing across features\n",
      "\n",
      "Normalizing across features\n",
      "\n"
     ]
    }
   ],
   "source": [
    "##### use centered log-ratio (CLR) transformation\n",
    "\n",
    "for(i in libraries){\n",
    "    rna_seurat_data[[i]] = NormalizeData(rna_seurat_data[[i]], assay = 'HTO', normalization.method = 'CLR')\n",
    "    }"
   ]
  },
  {
   "cell_type": "markdown",
   "id": "49935733-f0f0-4dcf-a4ca-f1e189765a66",
   "metadata": {},
   "source": [
    "## Add nCount_RNA Feature to object"
   ]
  },
  {
   "cell_type": "code",
   "execution_count": 28,
   "id": "8ae48340-0896-41f6-a4a8-10b6ae4fdef7",
   "metadata": {},
   "outputs": [],
   "source": [
    "## Add nCount_RNA Feature to object\n",
    "\n",
    "for(i in libraries){\n",
    "    nCount_RNA = colSums(x = rna_seurat_data[[i]], slot = \"counts\")  # nCount_RNA; count amount of reads per cell over all features\n",
    "    nFeature = colSums(x = GetAssayData(object = rna_seurat_data[[i]], slot = \"counts\") > 0)  # for each cell number of features where count > 0 \n",
    "    rna_seurat_data[[i]]$nCount_RNA = nCount_RNA\n",
    "    rna_seurat_data[[i]]$nFeature_RNA = nFeature\n",
    "    }"
   ]
  },
  {
   "cell_type": "code",
   "execution_count": 29,
   "id": "70f18f07-1c4b-4e4b-bdd0-ae7f97e79fe2",
   "metadata": {},
   "outputs": [],
   "source": [
    "## Add mitochondrial counts\n",
    "for(i in libraries){\n",
    "    rna_seurat_data[[i]]$percent_mt = PercentageFeatureSet(rna_seurat_data[[i]], pattern = \"^MT-\")\n",
    "    }"
   ]
  },
  {
   "cell_type": "code",
   "execution_count": 30,
   "id": "caad4d06-fd31-47fc-aea4-3b8eb545463c",
   "metadata": {
    "jupyter": {
     "source_hidden": true
    },
    "tags": []
   },
   "outputs": [],
   "source": [
    "######## Alternative ? directly from 10X\n",
    "\n",
    "#data = Read10X('/storage/groups/epigenereg01/datasets/stark-stemi/preprocessed-data/cellranger-results/L1/Complete/count_matrices/filtered_feature_bc_matrix/')\n",
    "\n",
    "#rna_seurat_data_test = CreateSeuratObject(counts=data, project='stark-stemi', min.cells=3, min.features=200)\n",
    "\n",
    "### not working currently"
   ]
  },
  {
   "cell_type": "code",
   "execution_count": 31,
   "id": "075b4459-f2db-4362-aa4b-8346e1b4ac57",
   "metadata": {
    "tags": []
   },
   "outputs": [],
   "source": [
    "########################################\n",
    "########## Analysis as in Demultiplexing with hashtags oligos tut"
   ]
  },
  {
   "cell_type": "code",
   "execution_count": 32,
   "id": "c9d76f0d-449a-4174-8dea-168d1c1200df",
   "metadata": {
    "tags": []
   },
   "outputs": [],
   "source": [
    "######\n",
    "### RNA seurat object\n",
    "# View(rna_seurat_data)"
   ]
  },
  {
   "cell_type": "markdown",
   "id": "3f2bd95c-179f-4895-a80a-5eac6daa82d7",
   "metadata": {},
   "source": [
    "## Pre-Filter cells based on RNA inspection"
   ]
  },
  {
   "cell_type": "code",
   "execution_count": 33,
   "id": "8f429a41-2203-4dd7-8a58-6fdabb164694",
   "metadata": {},
   "outputs": [
    {
     "data": {
      "text/plain": [
       "An object of class Seurat \n",
       "24260 features across 20572 samples within 2 assays \n",
       "Active assay: RNA (24253 features, 0 variable features)\n",
       " 1 other assay present: HTO"
      ]
     },
     "metadata": {},
     "output_type": "display_data"
    }
   ],
   "source": [
    "#### Example number of genes the cell has counts on\n",
    "rna_seurat_data[['L1']]"
   ]
  },
  {
   "cell_type": "code",
   "execution_count": 34,
   "id": "caa90a95-ccbb-43b7-9a5c-bc6c412951c3",
   "metadata": {},
   "outputs": [],
   "source": [
    "test = subset(rna_seurat_data[['L1']], subset = percent_mt <= 15)"
   ]
  },
  {
   "cell_type": "code",
   "execution_count": 35,
   "id": "e696dfef-7e04-407d-b0b5-82325ca9c958",
   "metadata": {},
   "outputs": [
    {
     "data": {
      "text/plain": [
       "An object of class Seurat \n",
       "24260 features across 19227 samples within 2 assays \n",
       "Active assay: RNA (24253 features, 0 variable features)\n",
       " 1 other assay present: HTO"
      ]
     },
     "metadata": {},
     "output_type": "display_data"
    }
   ],
   "source": [
    "test"
   ]
  },
  {
   "cell_type": "code",
   "execution_count": 36,
   "id": "2e3c413e-3764-4a9e-a155-ea48eaa08237",
   "metadata": {},
   "outputs": [],
   "source": [
    "#### Filtering for all libraries (optional!!!)"
   ]
  },
  {
   "cell_type": "code",
   "execution_count": 37,
   "id": "186f2e51-a222-4b4e-a9cd-6eb8cb970bf8",
   "metadata": {},
   "outputs": [],
   "source": [
    "#for(i in libraries){\n",
    "#    rna_seurat_data[[i]] =  subset(rna_seurat_data[[i]], subset = nFeature_RNA >= 200)\n",
    "#    rna_seurat_data[[i]] =  subset(rna_seurat_data[[i]], subset = (nCount_RNA < 20000 & nFeature_RNA < 5000 ))\n",
    "#    rna_seurat_data[[i]] =  subset(rna_seurat_data[[i]], subset = (percent_mt <= 15 & nFeature_RNA > 500 ))\n",
    "#   }"
   ]
  },
  {
   "cell_type": "code",
   "execution_count": 38,
   "id": "f901558c-273d-4612-a4b4-b8519bc27740",
   "metadata": {},
   "outputs": [],
   "source": [
    "### TBD - further filter criteria"
   ]
  },
  {
   "cell_type": "code",
   "execution_count": 39,
   "id": "02c82df4-98ab-41c0-ac42-45c95cdf5061",
   "metadata": {},
   "outputs": [
    {
     "data": {
      "text/plain": [
       "An object of class Seurat \n",
       "24260 features across 20572 samples within 2 assays \n",
       "Active assay: RNA (24253 features, 0 variable features)\n",
       " 1 other assay present: HTO"
      ]
     },
     "metadata": {},
     "output_type": "display_data"
    }
   ],
   "source": [
    "rna_seurat_data[['L1']]"
   ]
  },
  {
   "cell_type": "markdown",
   "id": "eba01071-4b2c-4afa-81a5-28f6148649b7",
   "metadata": {
    "tags": []
   },
   "source": [
    "## Normalize RNA data with log normalization"
   ]
  },
  {
   "cell_type": "code",
   "execution_count": 40,
   "id": "7b8dbe5f-2ac6-4e48-936a-664bcffd9eef",
   "metadata": {},
   "outputs": [],
   "source": [
    "#for(i in libraries){\n",
    "#    rna_seurat_data[[i]] = NormalizeData(rna_seurat_data[[i]])\n",
    "#    }\n",
    "\n",
    "####  employ a global-scaling normalization method “LogNormalize” that normalizes the feature expression measurements for each cell by the total expression, multiplies this by a scale factor (10,000 by default), and log-transforms the result. Normalized values are stored in pbmc[[\"RNA\"]]@data\n",
    "\n",
    "# not needed for HTO Demultiplex"
   ]
  },
  {
   "cell_type": "markdown",
   "id": "cb384118-5a11-47d7-85aa-04015edd79dd",
   "metadata": {},
   "source": [
    "## Find and scale variable features"
   ]
  },
  {
   "cell_type": "code",
   "execution_count": 41,
   "id": "aa618e0a-fc89-4cf2-893e-9f8e93e7df76",
   "metadata": {
    "tags": []
   },
   "outputs": [],
   "source": [
    "#for(i in libraries){\n",
    "#    rna_seurat_data[[i]] = FindVariableFeatures(rna_seurat_data[[i]], selection.method = \"mean.var.plot\")\n",
    "#    rna_seurat_data[[i]] <- ScaleData(rna_seurat_data[[i]], features = VariableFeatures(rna_seurat_data[[i]]))\n",
    "#    }\n",
    "\n",
    "#### Find Variable Features: t calculate a subset of features that exhibit high cell-to-cell variation in the dataset (i.e, they are highly expressed in some cells, and lowly expressed in others)\n",
    "\n",
    "##### Scale Data: Shifts the expression of each gene, so that the mean expression across cells is 0\n",
    "##### Scales the expression of each gene, so that the variance across cells is 1\n",
    "##### The results of this are stored in pbmc[[\"RNA\"]]@scale.data\n",
    "\n",
    "# not needed for HTO Demultiplex"
   ]
  },
  {
   "cell_type": "markdown",
   "id": "242006b3-7eca-4556-8164-24d4e179ccf7",
   "metadata": {},
   "source": [
    "## Demultiplexing of cells based on HTO enrichment"
   ]
  },
  {
   "cell_type": "code",
   "execution_count": 42,
   "id": "24ee81f1-b117-4855-82c7-237c7b1ce621",
   "metadata": {
    "collapsed": true,
    "jupyter": {
     "outputs_hidden": true
    },
    "tags": []
   },
   "outputs": [
    {
     "name": "stderr",
     "output_type": "stream",
     "text": [
      "Cutoff for 1.1 : 39 reads\n",
      "\n",
      "Cutoff for 2.1 : 78 reads\n",
      "\n",
      "Cutoff for 4.1 : 137 reads\n",
      "\n",
      "Cutoff for 5.1 : 101 reads\n",
      "\n",
      "Cutoff for 7.1 : 31 reads\n",
      "\n",
      "Cutoff for 8.1 : 78 reads\n",
      "\n",
      "Cutoff for 9.1 : 229 reads\n",
      "\n",
      "Cutoff for 12.1 : 23 reads\n",
      "\n",
      "Cutoff for 13.1 : 66 reads\n",
      "\n",
      "Cutoff for 14.1 : 58 reads\n",
      "\n",
      "Cutoff for 15.1 : 69 reads\n",
      "\n",
      "Cutoff for 16.1 : 453 reads\n",
      "\n",
      "Cutoff for 17.1 : 22 reads\n",
      "\n",
      "Cutoff for 18.1 : 51 reads\n",
      "\n",
      "Cutoff for 19.1 : 29 reads\n",
      "\n",
      "Cutoff for 21.1 : 237 reads\n",
      "\n",
      "Cutoff for 22.1 : 74 reads\n",
      "\n",
      "Cutoff for 23.1 : 89 reads\n",
      "\n",
      "Cutoff for 25.1 : 163 reads\n",
      "\n",
      "Cutoff for 26.1 : 384 reads\n",
      "\n",
      "Cutoff for 27.1 : 177 reads\n",
      "\n",
      "Cutoff for 6.1 : 15 reads\n",
      "\n",
      "Cutoff for 2.2 : 22 reads\n",
      "\n",
      "Cutoff for 3.2 : 97 reads\n",
      "\n",
      "Cutoff for 4.2 : 279 reads\n",
      "\n",
      "Cutoff for 6.2 : 142 reads\n",
      "\n",
      "Cutoff for 8.2 : 487 reads\n",
      "\n",
      "Cutoff for 9.2 : 65 reads\n",
      "\n",
      "Cutoff for 10.2 : 81 reads\n",
      "\n",
      "Cutoff for 11.2 : 124 reads\n",
      "\n",
      "Cutoff for 12.2 : 218 reads\n",
      "\n",
      "Cutoff for 13.2 : 116 reads\n",
      "\n",
      "Cutoff for 14.2 : 671 reads\n",
      "\n",
      "Cutoff for 15.2 : 113 reads\n",
      "\n",
      "Cutoff for 16.2 : 163 reads\n",
      "\n",
      "Cutoff for 7.2 : 136 reads\n",
      "\n",
      "Cutoff for 18.2 : 160 reads\n",
      "\n",
      "Cutoff for 19.2 : 19 reads\n",
      "\n",
      "Cutoff for 21.2 : 35 reads\n",
      "\n",
      "Cutoff for 22.2 : 28 reads\n",
      "\n",
      "Cutoff for 23.2 : 249 reads\n",
      "\n",
      "Cutoff for 24.2 : 75 reads\n",
      "\n",
      "Cutoff for 25.2 : 58 reads\n",
      "\n",
      "Cutoff for 26.2 : 302 reads\n",
      "\n",
      "Cutoff for 27.2 : 106 reads\n",
      "\n",
      "Cutoff for 28.2 : 43 reads\n",
      "\n",
      "Cutoff for 13.2 : 153 reads\n",
      "\n",
      "Cutoff for 11.3 : 242 reads\n",
      "\n",
      "Cutoff for 2.3 : 67 reads\n",
      "\n",
      "Cutoff for 3.3 : 80 reads\n",
      "\n",
      "Cutoff for 4.3 : 294 reads\n",
      "\n",
      "Cutoff for 5.3 : 111 reads\n",
      "\n",
      "Cutoff for 6.3 : 156 reads\n",
      "\n",
      "Cutoff for 7.3 : 65 reads\n",
      "\n",
      "Cutoff for 8.3 : 68 reads\n",
      "\n",
      "Cutoff for 9.3 : 115 reads\n",
      "\n",
      "Cutoff for 13.3 : 109 reads\n",
      "\n",
      "Cutoff for 15.3 : 81 reads\n",
      "\n",
      "Cutoff for 18.3 : 172 reads\n",
      "\n",
      "Cutoff for 19.3 : 115 reads\n",
      "\n",
      "Cutoff for 20.3 : 73 reads\n",
      "\n",
      "Cutoff for 21.3 : 210 reads\n",
      "\n",
      "Cutoff for 22.3 : 38 reads\n",
      "\n",
      "Cutoff for 23.3 : 338 reads\n",
      "\n",
      "Cutoff for 24.3 : 108 reads\n",
      "\n",
      "Cutoff for 25.3 : 81 reads\n",
      "\n",
      "Cutoff for 26.3 : 78 reads\n",
      "\n",
      "Cutoff for 27.3 : 125 reads\n",
      "\n",
      "Cutoff for 28.3 : 51 reads\n",
      "\n",
      "Cutoff for 26 : 76 reads\n",
      "\n",
      "Cutoff for 28 : 251 reads\n",
      "\n",
      "Cutoff for 33 : 182 reads\n",
      "\n",
      "Cutoff for 34 : 197 reads\n",
      "\n",
      "Cutoff for 10.3 : 171 reads\n",
      "\n",
      "Cutoff for 2.4 : 22 reads\n",
      "\n",
      "Cutoff for 3.4 : 79 reads\n",
      "\n",
      "Cutoff for 5.4 : 42 reads\n",
      "\n",
      "Cutoff for 6.4 : 118 reads\n",
      "\n",
      "Cutoff for 7.4 : 395 reads\n",
      "\n",
      "Cutoff for 8.4 : 132 reads\n",
      "\n",
      "Cutoff for 11.4 : 47 reads\n",
      "\n",
      "Cutoff for 13.4 : 49 reads\n",
      "\n",
      "Cutoff for 15.4 : 25 reads\n",
      "\n",
      "Cutoff for Ch-CCS-2 : 80 reads\n",
      "\n",
      "Cutoff for Ch-CCS-4 : 19 reads\n",
      "\n",
      "Cutoff for Ch-CCS-5 : 44 reads\n",
      "\n",
      "Cutoff for Ch-CCS-7 : 65 reads\n",
      "\n",
      "Cutoff for Ch-CCS-8 : 229 reads\n",
      "\n",
      "Cutoff for Ch-CCS-10 : 591 reads\n",
      "\n",
      "Cutoff for Ch-CCS-14 : 83 reads\n",
      "\n",
      "Cutoff for Ch-CCS-15 : 61 reads\n",
      "\n",
      "Cutoff for Ch-CCS-16 : 61 reads\n",
      "\n",
      "Cutoff for Ch-CCS-21 : 120 reads\n",
      "\n",
      "Cutoff for Ch-CCS-22 : 264 reads\n",
      "\n",
      "Cutoff for Ch-CCS-23 : 39 reads\n",
      "\n",
      "Cutoff for Ch-CCS-27 : 415 reads\n",
      "\n",
      "Cutoff for Ch-CCS-29 : 85 reads\n",
      "\n",
      "Cutoff for Ch-CCS-30 : 48 reads\n",
      "\n",
      "Cutoff for Ch-CCS-32 : 90 reads\n",
      "\n",
      "Cutoff for C-CCS-17 : 31 reads\n",
      "\n",
      "Cutoff for C-CCS-19 : 60 reads\n",
      "\n",
      "Cutoff for C-CCS-24 : 53 reads\n",
      "\n",
      "Cutoff for C-CCS-25 : 99 reads\n",
      "\n",
      "Cutoff for No-CCS-3 : 93 reads\n",
      "\n",
      "Cutoff for No-CCS-6 : 59 reads\n",
      "\n",
      "Cutoff for No-CCS-9 : 188 reads\n",
      "\n",
      "Cutoff for No-CCS-11 : 46 reads\n",
      "\n",
      "Cutoff for No-CCS-12 : 660 reads\n",
      "\n",
      "Cutoff for No-CCS-13 : 170 reads\n",
      "\n",
      "Cutoff for No-CCS-18 : 84 reads\n",
      "\n",
      "Cutoff for No-CCS-20 : 196 reads\n",
      "\n",
      "Cutoff for No-CCS-31 : 26 reads\n",
      "\n",
      "Cutoff for 20.4 : 34 reads\n",
      "\n",
      "Cutoff for 21.4 : 57 reads\n",
      "\n",
      "Cutoff for 22.4 : 92 reads\n",
      "\n",
      "Cutoff for 23.4 : 361 reads\n",
      "\n",
      "Cutoff for 24.4 : 85 reads\n",
      "\n",
      "Cutoff for 26.4 : 172 reads\n",
      "\n",
      "Cutoff for 28.4 : 123 reads\n",
      "\n",
      "Cutoff for 4.4 : 46 reads\n",
      "\n",
      "Cutoff for 6.4 : 61 reads\n",
      "\n"
     ]
    }
   ],
   "source": [
    "for(i in libraries){\n",
    "    rna_seurat_data[[i]] = HTODemux(rna_seurat_data[[i]], assay = \"HTO\", positive.quantile = 0.99)\n",
    "    }"
   ]
  },
  {
   "cell_type": "code",
   "execution_count": 43,
   "id": "8135c750-92bf-4202-a1f1-79eecf07784b",
   "metadata": {},
   "outputs": [],
   "source": [
    "# rna_seurat_data_demultiplexed = rna_seurat_data"
   ]
  },
  {
   "cell_type": "markdown",
   "id": "786ddbae-d6ed-4c5f-a42e-80dba956c1b3",
   "metadata": {
    "tags": []
   },
   "source": [
    "## Classify Cells based on demultiplexing"
   ]
  },
  {
   "cell_type": "code",
   "execution_count": 44,
   "id": "170eb88a-51d3-42fc-aad3-9b5d26e3f327",
   "metadata": {
    "tags": []
   },
   "outputs": [],
   "source": [
    "####### Generate a global feature that identifies a cell to the maxID or as Doublet, Negative\n",
    "\n",
    "for (i in libraries){\n",
    "    rna_seurat_data[[i]]$HTO_classification_final = rna_seurat_data[[i]]$HTO_classification.global\n",
    "    rna_seurat_data[[i]]$HTO_classification_final[which(rna_seurat_data[[i]]$HTO_classification.global=='Singlet')] = rna_seurat_data[[i]]$HTO_maxID[which(rna_seurat_data[[i]]$HTO_classification.global=='Singlet')]\n",
    "    rna_seurat_data[[i]]$HTO_classification_final[which(rna_seurat_data[[i]]$HTO_classification.global=='Doublet')] = 'Doublet'\n",
    "    rna_seurat_data[[i]]$HTO_classification_final[which(rna_seurat_data[[i]]$HTO_classification.global=='Negative')] = 'Negative'\n",
    "}"
   ]
  },
  {
   "cell_type": "markdown",
   "id": "d87ceec3-1503-4181-82d0-25f144765408",
   "metadata": {
    "tags": []
   },
   "source": [
    "## Save Demultiplexing Results and convert to anndata"
   ]
  },
  {
   "cell_type": "code",
   "execution_count": 45,
   "id": "1ea24972-6562-45c8-82bf-597c4bbe97b7",
   "metadata": {},
   "outputs": [],
   "source": [
    "#### Save the adapted h5seurat files"
   ]
  },
  {
   "cell_type": "code",
   "execution_count": 46,
   "id": "7c37080f-89ce-447a-9e6a-d992d10ccc0d",
   "metadata": {
    "collapsed": true,
    "jupyter": {
     "outputs_hidden": true
    },
    "tags": []
   },
   "outputs": [
    {
     "name": "stderr",
     "output_type": "stream",
     "text": [
      "Creating h5Seurat file for version 3.1.5.9900\n",
      "\n",
      "Adding counts for RNA\n",
      "\n",
      "Adding data for RNA\n",
      "\n",
      "No variable features found for RNA\n",
      "\n",
      "Adding feature-level metadata for RNA\n",
      "\n",
      "Adding counts for HTO\n",
      "\n",
      "Adding data for HTO\n",
      "\n",
      "No variable features found for HTO\n",
      "\n",
      "No feature-level metadata found for HTO\n",
      "\n",
      "Creating h5Seurat file for version 3.1.5.9900\n",
      "\n",
      "Adding counts for RNA\n",
      "\n",
      "Adding data for RNA\n",
      "\n",
      "No variable features found for RNA\n",
      "\n",
      "Adding feature-level metadata for RNA\n",
      "\n",
      "Adding counts for HTO\n",
      "\n",
      "Adding data for HTO\n",
      "\n",
      "No variable features found for HTO\n",
      "\n",
      "No feature-level metadata found for HTO\n",
      "\n",
      "Creating h5Seurat file for version 3.1.5.9900\n",
      "\n",
      "Adding counts for RNA\n",
      "\n",
      "Adding data for RNA\n",
      "\n",
      "No variable features found for RNA\n",
      "\n",
      "Adding feature-level metadata for RNA\n",
      "\n",
      "Adding counts for HTO\n",
      "\n",
      "Adding data for HTO\n",
      "\n",
      "No variable features found for HTO\n",
      "\n",
      "No feature-level metadata found for HTO\n",
      "\n",
      "Creating h5Seurat file for version 3.1.5.9900\n",
      "\n",
      "Adding counts for RNA\n",
      "\n",
      "Adding data for RNA\n",
      "\n",
      "No variable features found for RNA\n",
      "\n",
      "Adding feature-level metadata for RNA\n",
      "\n",
      "Adding counts for HTO\n",
      "\n",
      "Adding data for HTO\n",
      "\n",
      "No variable features found for HTO\n",
      "\n",
      "No feature-level metadata found for HTO\n",
      "\n",
      "Creating h5Seurat file for version 3.1.5.9900\n",
      "\n",
      "Adding counts for RNA\n",
      "\n",
      "Adding data for RNA\n",
      "\n",
      "No variable features found for RNA\n",
      "\n",
      "Adding feature-level metadata for RNA\n",
      "\n",
      "Adding counts for HTO\n",
      "\n",
      "Adding data for HTO\n",
      "\n",
      "No variable features found for HTO\n",
      "\n",
      "No feature-level metadata found for HTO\n",
      "\n",
      "Creating h5Seurat file for version 3.1.5.9900\n",
      "\n",
      "Adding counts for RNA\n",
      "\n",
      "Adding data for RNA\n",
      "\n",
      "No variable features found for RNA\n",
      "\n",
      "Adding feature-level metadata for RNA\n",
      "\n",
      "Adding counts for HTO\n",
      "\n",
      "Adding data for HTO\n",
      "\n",
      "No variable features found for HTO\n",
      "\n",
      "No feature-level metadata found for HTO\n",
      "\n",
      "Creating h5Seurat file for version 3.1.5.9900\n",
      "\n",
      "Adding counts for RNA\n",
      "\n",
      "Adding data for RNA\n",
      "\n",
      "No variable features found for RNA\n",
      "\n",
      "Adding feature-level metadata for RNA\n",
      "\n",
      "Adding counts for HTO\n",
      "\n",
      "Adding data for HTO\n",
      "\n",
      "No variable features found for HTO\n",
      "\n",
      "No feature-level metadata found for HTO\n",
      "\n",
      "Creating h5Seurat file for version 3.1.5.9900\n",
      "\n",
      "Adding counts for RNA\n",
      "\n",
      "Adding data for RNA\n",
      "\n",
      "No variable features found for RNA\n",
      "\n",
      "Adding feature-level metadata for RNA\n",
      "\n",
      "Adding counts for HTO\n",
      "\n",
      "Adding data for HTO\n",
      "\n",
      "No variable features found for HTO\n",
      "\n",
      "No feature-level metadata found for HTO\n",
      "\n",
      "Creating h5Seurat file for version 3.1.5.9900\n",
      "\n",
      "Adding counts for RNA\n",
      "\n",
      "Adding data for RNA\n",
      "\n",
      "No variable features found for RNA\n",
      "\n",
      "Adding feature-level metadata for RNA\n",
      "\n",
      "Adding counts for HTO\n",
      "\n",
      "Adding data for HTO\n",
      "\n",
      "No variable features found for HTO\n",
      "\n",
      "No feature-level metadata found for HTO\n",
      "\n",
      "Creating h5Seurat file for version 3.1.5.9900\n",
      "\n",
      "Adding counts for RNA\n",
      "\n",
      "Adding data for RNA\n",
      "\n",
      "No variable features found for RNA\n",
      "\n",
      "Adding feature-level metadata for RNA\n",
      "\n",
      "Adding counts for HTO\n",
      "\n",
      "Adding data for HTO\n",
      "\n",
      "No variable features found for HTO\n",
      "\n",
      "No feature-level metadata found for HTO\n",
      "\n",
      "Creating h5Seurat file for version 3.1.5.9900\n",
      "\n",
      "Adding counts for RNA\n",
      "\n",
      "Adding data for RNA\n",
      "\n",
      "No variable features found for RNA\n",
      "\n",
      "Adding feature-level metadata for RNA\n",
      "\n",
      "Adding counts for HTO\n",
      "\n",
      "Adding data for HTO\n",
      "\n",
      "No variable features found for HTO\n",
      "\n",
      "No feature-level metadata found for HTO\n",
      "\n",
      "Creating h5Seurat file for version 3.1.5.9900\n",
      "\n",
      "Adding counts for RNA\n",
      "\n",
      "Adding data for RNA\n",
      "\n",
      "No variable features found for RNA\n",
      "\n",
      "Adding feature-level metadata for RNA\n",
      "\n",
      "Adding counts for HTO\n",
      "\n",
      "Adding data for HTO\n",
      "\n",
      "No variable features found for HTO\n",
      "\n",
      "No feature-level metadata found for HTO\n",
      "\n",
      "Creating h5Seurat file for version 3.1.5.9900\n",
      "\n",
      "Adding counts for RNA\n",
      "\n",
      "Adding data for RNA\n",
      "\n",
      "No variable features found for RNA\n",
      "\n",
      "Adding feature-level metadata for RNA\n",
      "\n",
      "Adding counts for HTO\n",
      "\n",
      "Adding data for HTO\n",
      "\n",
      "No variable features found for HTO\n",
      "\n",
      "No feature-level metadata found for HTO\n",
      "\n",
      "Creating h5Seurat file for version 3.1.5.9900\n",
      "\n",
      "Adding counts for RNA\n",
      "\n",
      "Adding data for RNA\n",
      "\n",
      "No variable features found for RNA\n",
      "\n",
      "Adding feature-level metadata for RNA\n",
      "\n",
      "Adding counts for HTO\n",
      "\n",
      "Adding data for HTO\n",
      "\n",
      "No variable features found for HTO\n",
      "\n",
      "No feature-level metadata found for HTO\n",
      "\n"
     ]
    }
   ],
   "source": [
    "for(i in libraries){\n",
    "    save_file = paste(data_path, \"/analysis/A/A3_Processed_\", i, \"_rna_Final.h5seurat\", sep ='')\n",
    "    SaveH5Seurat(rna_seurat_data[[i]], save_file, overwrite = TRUE)\n",
    "    }"
   ]
  },
  {
   "cell_type": "code",
   "execution_count": 47,
   "id": "e30f4ebd-1e3d-4d5d-9d23-bbceb6c2fb68",
   "metadata": {
    "collapsed": true,
    "jupyter": {
     "outputs_hidden": true
    },
    "tags": []
   },
   "outputs": [
    {
     "name": "stderr",
     "output_type": "stream",
     "text": [
      "Validating h5Seurat file\n",
      "\n",
      "Adding data from RNA as X\n",
      "\n",
      "Transfering meta.features to var\n",
      "\n",
      "Adding counts from RNA as raw\n",
      "\n",
      "Transfering meta.features to raw/var\n",
      "\n",
      "Transfering meta.data to obs\n",
      "\n",
      "Validating h5Seurat file\n",
      "\n",
      "Adding data from RNA as X\n",
      "\n",
      "Transfering meta.features to var\n",
      "\n",
      "Adding counts from RNA as raw\n",
      "\n",
      "Transfering meta.features to raw/var\n",
      "\n",
      "Transfering meta.data to obs\n",
      "\n",
      "Validating h5Seurat file\n",
      "\n",
      "Adding data from RNA as X\n",
      "\n",
      "Transfering meta.features to var\n",
      "\n",
      "Adding counts from RNA as raw\n",
      "\n",
      "Transfering meta.features to raw/var\n",
      "\n",
      "Transfering meta.data to obs\n",
      "\n",
      "Validating h5Seurat file\n",
      "\n",
      "Adding data from RNA as X\n",
      "\n",
      "Transfering meta.features to var\n",
      "\n",
      "Adding counts from RNA as raw\n",
      "\n",
      "Transfering meta.features to raw/var\n",
      "\n",
      "Transfering meta.data to obs\n",
      "\n",
      "Validating h5Seurat file\n",
      "\n",
      "Adding data from RNA as X\n",
      "\n",
      "Transfering meta.features to var\n",
      "\n",
      "Adding counts from RNA as raw\n",
      "\n",
      "Transfering meta.features to raw/var\n",
      "\n",
      "Transfering meta.data to obs\n",
      "\n",
      "Validating h5Seurat file\n",
      "\n",
      "Adding data from RNA as X\n",
      "\n",
      "Transfering meta.features to var\n",
      "\n",
      "Adding counts from RNA as raw\n",
      "\n",
      "Transfering meta.features to raw/var\n",
      "\n",
      "Transfering meta.data to obs\n",
      "\n",
      "Validating h5Seurat file\n",
      "\n",
      "Adding data from RNA as X\n",
      "\n",
      "Transfering meta.features to var\n",
      "\n",
      "Adding counts from RNA as raw\n",
      "\n",
      "Transfering meta.features to raw/var\n",
      "\n",
      "Transfering meta.data to obs\n",
      "\n",
      "Validating h5Seurat file\n",
      "\n",
      "Adding data from RNA as X\n",
      "\n",
      "Transfering meta.features to var\n",
      "\n",
      "Adding counts from RNA as raw\n",
      "\n",
      "Transfering meta.features to raw/var\n",
      "\n",
      "Transfering meta.data to obs\n",
      "\n",
      "Validating h5Seurat file\n",
      "\n",
      "Adding data from RNA as X\n",
      "\n",
      "Transfering meta.features to var\n",
      "\n",
      "Adding counts from RNA as raw\n",
      "\n",
      "Transfering meta.features to raw/var\n",
      "\n",
      "Transfering meta.data to obs\n",
      "\n",
      "Validating h5Seurat file\n",
      "\n",
      "Adding data from RNA as X\n",
      "\n",
      "Transfering meta.features to var\n",
      "\n",
      "Adding counts from RNA as raw\n",
      "\n",
      "Transfering meta.features to raw/var\n",
      "\n",
      "Transfering meta.data to obs\n",
      "\n",
      "Validating h5Seurat file\n",
      "\n",
      "Adding data from RNA as X\n",
      "\n",
      "Transfering meta.features to var\n",
      "\n",
      "Adding counts from RNA as raw\n",
      "\n",
      "Transfering meta.features to raw/var\n",
      "\n",
      "Transfering meta.data to obs\n",
      "\n",
      "Validating h5Seurat file\n",
      "\n",
      "Adding data from RNA as X\n",
      "\n",
      "Transfering meta.features to var\n",
      "\n",
      "Adding counts from RNA as raw\n",
      "\n",
      "Transfering meta.features to raw/var\n",
      "\n",
      "Transfering meta.data to obs\n",
      "\n",
      "Validating h5Seurat file\n",
      "\n",
      "Adding data from RNA as X\n",
      "\n",
      "Transfering meta.features to var\n",
      "\n",
      "Adding counts from RNA as raw\n",
      "\n",
      "Transfering meta.features to raw/var\n",
      "\n",
      "Transfering meta.data to obs\n",
      "\n",
      "Validating h5Seurat file\n",
      "\n",
      "Adding data from RNA as X\n",
      "\n",
      "Transfering meta.features to var\n",
      "\n",
      "Adding counts from RNA as raw\n",
      "\n",
      "Transfering meta.features to raw/var\n",
      "\n",
      "Transfering meta.data to obs\n",
      "\n"
     ]
    }
   ],
   "source": [
    "#### Convert to anndata for further analysis in Python\n",
    "\n",
    "for(i in libraries){\n",
    "    convert_file = paste(data_path, '/analysis/A/A3_Processed_', i, '_rna_Final.h5seurat', sep = '')\n",
    "    Convert(convert_file, dest = \"h5ad\", overwrite = TRUE)\n",
    "    }"
   ]
  },
  {
   "cell_type": "code",
   "execution_count": null,
   "id": "7dadc974-485e-45e8-98dc-4e37bab2a2b6",
   "metadata": {},
   "outputs": [],
   "source": []
  }
 ],
 "metadata": {
  "kernelspec": {
   "display_name": "R",
   "language": "R",
   "name": "ir"
  },
  "language_info": {
   "codemirror_mode": "r",
   "file_extension": ".r",
   "mimetype": "text/x-r-source",
   "name": "R",
   "pygments_lexer": "r",
   "version": "4.1.1"
  }
 },
 "nbformat": 4,
 "nbformat_minor": 5
}

{
 "cells": [
  {
   "cell_type": "code",
   "execution_count": 1,
   "id": "c7ecb657-0cb7-45fa-9e22-69a52b2d5615",
   "metadata": {},
   "outputs": [],
   "source": [
    "#######\n",
    "#### Inspect results from cellranger run for all libraries + prepare for further processing"
   ]
  },
  {
   "cell_type": "markdown",
   "id": "e6e58717-2d39-4432-88e9-90789c9a230f",
   "metadata": {},
   "source": [
    "# Load libraries"
   ]
  },
  {
   "cell_type": "code",
   "execution_count": 2,
   "id": "b89d47c7-9355-427a-bea8-ef543e207690",
   "metadata": {},
   "outputs": [],
   "source": [
    "import numpy as np"
   ]
  },
  {
   "cell_type": "code",
   "execution_count": 3,
   "id": "0731cbf8-b209-4d87-9576-d30391da15dd",
   "metadata": {},
   "outputs": [],
   "source": [
    "import pandas as pd "
   ]
  },
  {
   "cell_type": "code",
   "execution_count": 4,
   "id": "09087747-5b4b-4b44-ae3e-f8512fdc7e5a",
   "metadata": {},
   "outputs": [],
   "source": [
    "import scanpy as sc"
   ]
  },
  {
   "cell_type": "code",
   "execution_count": 5,
   "id": "e46aaa14-3136-4767-a5cb-19e8cdd5f74f",
   "metadata": {},
   "outputs": [],
   "source": [
    "from numpy import savetxt "
   ]
  },
  {
   "cell_type": "code",
   "execution_count": 6,
   "id": "806e66da-8dde-4607-a15d-00e8c8623280",
   "metadata": {},
   "outputs": [],
   "source": [
    "import scanpy.external as sce"
   ]
  },
  {
   "cell_type": "code",
   "execution_count": 7,
   "id": "786d1339-590d-416c-bb00-71c4bb3934fe",
   "metadata": {},
   "outputs": [],
   "source": [
    "import matplotlib as matplotlib"
   ]
  },
  {
   "cell_type": "code",
   "execution_count": 8,
   "id": "889574f5-8dfe-438b-9b4f-2247cb0c2943",
   "metadata": {},
   "outputs": [],
   "source": [
    "import sys as sys"
   ]
  },
  {
   "cell_type": "code",
   "execution_count": 9,
   "id": "012dd071-d936-4017-b27d-0d82a4e4818b",
   "metadata": {},
   "outputs": [],
   "source": [
    "import rpy2 as rpy2\n",
    "import rpy2.robjects as ro\n",
    "from rpy2.robjects import r, pandas2ri\n",
    "from rpy2.robjects.conversion import localconverter"
   ]
  },
  {
   "cell_type": "code",
   "execution_count": 10,
   "id": "f0858434-6098-4e4c-9550-45db78f39998",
   "metadata": {},
   "outputs": [],
   "source": [
    "import os\n",
    "import multiprocessing\n",
    "import random\n",
    "import time\n",
    "import git\n",
    "import sys\n",
    "from datetime import date"
   ]
  },
  {
   "cell_type": "markdown",
   "id": "980f965b-5eaf-4ed9-b972-47c10be75901",
   "metadata": {},
   "source": [
    "# Load Data"
   ]
  },
  {
   "cell_type": "markdown",
   "id": "a19bd78b-dd37-40e1-8702-a7188ff2b941",
   "metadata": {
    "tags": []
   },
   "source": [
    "## Configurations"
   ]
  },
  {
   "cell_type": "code",
   "execution_count": 11,
   "id": "664d3779-b9b6-4c2b-ba7e-51b776a3972d",
   "metadata": {},
   "outputs": [],
   "source": [
    "data_path = '../data/current'"
   ]
  },
  {
   "cell_type": "code",
   "execution_count": 12,
   "id": "41de8b61-5f43-4e16-b40c-cb93b5fb4763",
   "metadata": {},
   "outputs": [
    {
     "data": {
      "text/plain": [
       "'../data/current'"
      ]
     },
     "execution_count": 12,
     "metadata": {},
     "output_type": "execute_result"
    }
   ],
   "source": [
    "data_path"
   ]
  },
  {
   "cell_type": "code",
   "execution_count": 13,
   "id": "de58752a-7ab5-43e8-8ac6-28bf0fdeb898",
   "metadata": {},
   "outputs": [],
   "source": [
    "libraries = ['0001', '0002', '0003', '0004', '0005', '0006', '0007', '0008', '0009', '0010', '0011', '0012', '0013', '0014']"
   ]
  },
  {
   "cell_type": "code",
   "execution_count": 14,
   "id": "463e7391-3a41-4a11-8860-d5d5e45025d9",
   "metadata": {},
   "outputs": [],
   "source": [
    "libraries_text = ['L1', 'L2', 'L3', 'L4', 'L5', 'L6', 'L7', 'L8', 'L9', 'L10', 'L11', 'L12', 'L13', 'L14']"
   ]
  },
  {
   "cell_type": "code",
   "execution_count": 15,
   "id": "055fb52c-7974-45d5-8b42-ff51558ce636",
   "metadata": {},
   "outputs": [],
   "source": [
    "libraries_dict = {'0001': 'L1', '0002': 'L2', '0003': 'L3', '0004': 'L4', '0005': 'L5',  '0006': 'L6', '0007': 'L7', '0008': 'L8', '0009': 'L9', '0010': 'L10', '0011': 'L11', '0012': 'L12', '0013': 'L13', '0014': 'L14'}"
   ]
  },
  {
   "cell_type": "markdown",
   "id": "07586fcb-f4e8-4378-820b-a0ae5f753292",
   "metadata": {
    "tags": []
   },
   "source": [
    "## Cellranger raw data"
   ]
  },
  {
   "cell_type": "code",
   "execution_count": 16,
   "id": "76257f5b-36f7-4424-9ffe-1deda6d7566d",
   "metadata": {},
   "outputs": [],
   "source": [
    "anndata_dict = dict.fromkeys(libraries)"
   ]
  },
  {
   "cell_type": "code",
   "execution_count": 17,
   "id": "5749d428-05d7-430c-b089-8f23dd1cc811",
   "metadata": {
    "collapsed": true,
    "jupyter": {
     "outputs_hidden": true
    },
    "tags": []
   },
   "outputs": [
    {
     "name": "stdout",
     "output_type": "stream",
     "text": [
      "../data/current/preprocessed-data/pipelinerun_v21068-0001/cellranger/21068-0001/count_matrices/filtered_feature_bc_matrix.h5\n"
     ]
    },
    {
     "name": "stderr",
     "output_type": "stream",
     "text": [
      "Variable names are not unique. To make them unique, call `.var_names_make_unique`.\n"
     ]
    },
    {
     "name": "stdout",
     "output_type": "stream",
     "text": [
      "../data/current/preprocessed-data/pipelinerun_v21068-0002/cellranger/21068-0002/count_matrices/filtered_feature_bc_matrix.h5\n"
     ]
    },
    {
     "name": "stderr",
     "output_type": "stream",
     "text": [
      "Variable names are not unique. To make them unique, call `.var_names_make_unique`.\n"
     ]
    },
    {
     "name": "stdout",
     "output_type": "stream",
     "text": [
      "../data/current/preprocessed-data/pipelinerun_v21068-0003/cellranger/21068-0003/count_matrices/filtered_feature_bc_matrix.h5\n"
     ]
    },
    {
     "name": "stderr",
     "output_type": "stream",
     "text": [
      "Variable names are not unique. To make them unique, call `.var_names_make_unique`.\n"
     ]
    },
    {
     "name": "stdout",
     "output_type": "stream",
     "text": [
      "../data/current/preprocessed-data/pipelinerun_v21068-0004/cellranger/21068-0004/count_matrices/filtered_feature_bc_matrix.h5\n"
     ]
    },
    {
     "name": "stderr",
     "output_type": "stream",
     "text": [
      "Variable names are not unique. To make them unique, call `.var_names_make_unique`.\n"
     ]
    },
    {
     "name": "stdout",
     "output_type": "stream",
     "text": [
      "../data/current/preprocessed-data/pipelinerun_v21068-0005/cellranger/21068-0005/count_matrices/filtered_feature_bc_matrix.h5\n"
     ]
    },
    {
     "name": "stderr",
     "output_type": "stream",
     "text": [
      "Variable names are not unique. To make them unique, call `.var_names_make_unique`.\n"
     ]
    },
    {
     "name": "stdout",
     "output_type": "stream",
     "text": [
      "../data/current/preprocessed-data/pipelinerun_v21068-0006/cellranger/21068-0006/count_matrices/filtered_feature_bc_matrix.h5\n"
     ]
    },
    {
     "name": "stderr",
     "output_type": "stream",
     "text": [
      "Variable names are not unique. To make them unique, call `.var_names_make_unique`.\n"
     ]
    },
    {
     "name": "stdout",
     "output_type": "stream",
     "text": [
      "../data/current/preprocessed-data/pipelinerun_v21068-0007/cellranger/21068-0007/count_matrices/filtered_feature_bc_matrix.h5\n"
     ]
    },
    {
     "name": "stderr",
     "output_type": "stream",
     "text": [
      "Variable names are not unique. To make them unique, call `.var_names_make_unique`.\n"
     ]
    },
    {
     "name": "stdout",
     "output_type": "stream",
     "text": [
      "../data/current/preprocessed-data/pipelinerun_v21068-0008/cellranger/21068-0008/count_matrices/filtered_feature_bc_matrix.h5\n"
     ]
    },
    {
     "name": "stderr",
     "output_type": "stream",
     "text": [
      "Variable names are not unique. To make them unique, call `.var_names_make_unique`.\n"
     ]
    },
    {
     "name": "stdout",
     "output_type": "stream",
     "text": [
      "../data/current/preprocessed-data/pipelinerun_v21068-0009/cellranger/21068-0009/count_matrices/filtered_feature_bc_matrix.h5\n"
     ]
    },
    {
     "name": "stderr",
     "output_type": "stream",
     "text": [
      "Variable names are not unique. To make them unique, call `.var_names_make_unique`.\n"
     ]
    },
    {
     "name": "stdout",
     "output_type": "stream",
     "text": [
      "../data/current/preprocessed-data/pipelinerun_v21068-0010/cellranger/21068-0010/count_matrices/filtered_feature_bc_matrix.h5\n"
     ]
    },
    {
     "name": "stderr",
     "output_type": "stream",
     "text": [
      "Variable names are not unique. To make them unique, call `.var_names_make_unique`.\n"
     ]
    },
    {
     "name": "stdout",
     "output_type": "stream",
     "text": [
      "../data/current/preprocessed-data/pipelinerun_v21068-0011/cellranger/21068-0011/count_matrices/filtered_feature_bc_matrix.h5\n"
     ]
    },
    {
     "name": "stderr",
     "output_type": "stream",
     "text": [
      "Variable names are not unique. To make them unique, call `.var_names_make_unique`.\n"
     ]
    },
    {
     "name": "stdout",
     "output_type": "stream",
     "text": [
      "../data/current/preprocessed-data/pipelinerun_v21068-0012/cellranger/21068-0012/count_matrices/filtered_feature_bc_matrix.h5\n"
     ]
    },
    {
     "name": "stderr",
     "output_type": "stream",
     "text": [
      "Variable names are not unique. To make them unique, call `.var_names_make_unique`.\n"
     ]
    },
    {
     "name": "stdout",
     "output_type": "stream",
     "text": [
      "../data/current/preprocessed-data/pipelinerun_v21068-0013/cellranger/21068-0013/count_matrices/filtered_feature_bc_matrix.h5\n"
     ]
    },
    {
     "name": "stderr",
     "output_type": "stream",
     "text": [
      "Variable names are not unique. To make them unique, call `.var_names_make_unique`.\n"
     ]
    },
    {
     "name": "stdout",
     "output_type": "stream",
     "text": [
      "../data/current/preprocessed-data/pipelinerun_v21068-0014/cellranger/21068-0014/count_matrices/filtered_feature_bc_matrix.h5\n"
     ]
    },
    {
     "name": "stderr",
     "output_type": "stream",
     "text": [
      "Variable names are not unique. To make them unique, call `.var_names_make_unique`.\n"
     ]
    }
   ],
   "source": [
    "for key in anndata_dict:\n",
    "    dataset_path = data_path + '/preprocessed-data/pipelinerun_v21068-' + key + '/cellranger/21068-' + key +'/count_matrices/filtered_feature_bc_matrix.h5'\n",
    "    print(dataset_path)\n",
    "    adata_orig = sc.read_10x_h5(dataset_path, gex_only = False)\n",
    "    adata_orig.var_names_make_unique()  # make variable names unique\n",
    "    sc.pp.filter_genes(adata_orig, min_cells=1)  # filter genes\n",
    "    anndata_dict[key]= adata_orig # save anndata in dictionary"
   ]
  },
  {
   "cell_type": "code",
   "execution_count": 18,
   "id": "6b2dd398-76a8-4d09-b057-03ee9354a0ce",
   "metadata": {},
   "outputs": [],
   "source": [
    "### Short data check"
   ]
  },
  {
   "cell_type": "code",
   "execution_count": 19,
   "id": "b45b70c8-f783-41dd-9ae6-f69e30ef5e8a",
   "metadata": {},
   "outputs": [
    {
     "data": {
      "text/plain": [
       "AnnData object with n_obs × n_vars = 20572 × 24263\n",
       "    var: 'gene_ids', 'feature_types', 'genome', 'n_cells'"
      ]
     },
     "execution_count": 19,
     "metadata": {},
     "output_type": "execute_result"
    }
   ],
   "source": [
    "anndata_dict['0001']"
   ]
  },
  {
   "cell_type": "code",
   "execution_count": 20,
   "id": "bf073872-bd11-410b-a1aa-b977928ad0d1",
   "metadata": {},
   "outputs": [
    {
     "data": {
      "text/plain": [
       "matrix([[7099.],\n",
       "        [3393.],\n",
       "        [8508.],\n",
       "        ...,\n",
       "        [4355.],\n",
       "        [4553.],\n",
       "        [8805.]], dtype=float32)"
      ]
     },
     "execution_count": 20,
     "metadata": {},
     "output_type": "execute_result"
    }
   ],
   "source": [
    "anndata_dict['0001'].X.sum(axis=1)"
   ]
  },
  {
   "cell_type": "code",
   "execution_count": 21,
   "id": "c7d1c40c-3140-4a93-858a-efa1fd0088e0",
   "metadata": {},
   "outputs": [],
   "source": [
    "anndata_dict = dict((libraries_dict[key], value) for (key, value) in anndata_dict.items())"
   ]
  },
  {
   "cell_type": "code",
   "execution_count": 22,
   "id": "18b9c082-80f4-47cb-84d4-a7234a3e5d8f",
   "metadata": {},
   "outputs": [
    {
     "data": {
      "text/plain": [
       "AnnData object with n_obs × n_vars = 17837 × 24329\n",
       "    var: 'gene_ids', 'feature_types', 'genome', 'n_cells'"
      ]
     },
     "execution_count": 22,
     "metadata": {},
     "output_type": "execute_result"
    }
   ],
   "source": [
    "anndata_dict['L3']"
   ]
  },
  {
   "cell_type": "code",
   "execution_count": 23,
   "id": "9a89d953-fe06-42f3-a0ba-f948f40b2d29",
   "metadata": {},
   "outputs": [
    {
     "data": {
      "text/plain": [
       "640"
      ]
     },
     "execution_count": 23,
     "metadata": {},
     "output_type": "execute_result"
    }
   ],
   "source": [
    "sys.getsizeof(anndata_dict)"
   ]
  },
  {
   "cell_type": "code",
   "execution_count": 24,
   "id": "70f43e2d-c50e-40aa-871c-4ffa240eb130",
   "metadata": {},
   "outputs": [],
   "source": [
    "#### Check out structure of all anndata objects (Nr Cells + Features)"
   ]
  },
  {
   "cell_type": "code",
   "execution_count": 25,
   "id": "a2f86ece-dcd5-4fdc-804b-18465b580a24",
   "metadata": {},
   "outputs": [
    {
     "name": "stdout",
     "output_type": "stream",
     "text": [
      "AnnData object with n_obs × n_vars = 20572 × 24263\n",
      "    var: 'gene_ids', 'feature_types', 'genome', 'n_cells'\n",
      "AnnData object with n_obs × n_vars = 18667 × 24091\n",
      "    var: 'gene_ids', 'feature_types', 'genome', 'n_cells'\n",
      "AnnData object with n_obs × n_vars = 17837 × 24329\n",
      "    var: 'gene_ids', 'feature_types', 'genome', 'n_cells'\n",
      "AnnData object with n_obs × n_vars = 23187 × 24229\n",
      "    var: 'gene_ids', 'feature_types', 'genome', 'n_cells'\n",
      "AnnData object with n_obs × n_vars = 30388 × 24981\n",
      "    var: 'gene_ids', 'feature_types', 'genome', 'n_cells'\n",
      "AnnData object with n_obs × n_vars = 22541 × 24851\n",
      "    var: 'gene_ids', 'feature_types', 'genome', 'n_cells'\n",
      "AnnData object with n_obs × n_vars = 18870 × 24042\n",
      "    var: 'gene_ids', 'feature_types', 'genome', 'n_cells'\n",
      "AnnData object with n_obs × n_vars = 22824 × 24760\n",
      "    var: 'gene_ids', 'feature_types', 'genome', 'n_cells'\n",
      "AnnData object with n_obs × n_vars = 18072 × 24565\n",
      "    var: 'gene_ids', 'feature_types', 'genome', 'n_cells'\n",
      "AnnData object with n_obs × n_vars = 19972 × 24625\n",
      "    var: 'gene_ids', 'feature_types', 'genome', 'n_cells'\n",
      "AnnData object with n_obs × n_vars = 21986 × 24603\n",
      "    var: 'gene_ids', 'feature_types', 'genome', 'n_cells'\n",
      "AnnData object with n_obs × n_vars = 20707 × 23807\n",
      "    var: 'gene_ids', 'feature_types', 'genome', 'n_cells'\n",
      "AnnData object with n_obs × n_vars = 33736 × 25441\n",
      "    var: 'gene_ids', 'feature_types', 'genome', 'n_cells'\n",
      "AnnData object with n_obs × n_vars = 29200 × 25308\n",
      "    var: 'gene_ids', 'feature_types', 'genome', 'n_cells'\n"
     ]
    }
   ],
   "source": [
    "for key in anndata_dict:\n",
    "    print(anndata_dict[key])"
   ]
  },
  {
   "cell_type": "code",
   "execution_count": 26,
   "id": "2091d34c-7f9b-4f23-b19e-8efc781715c2",
   "metadata": {},
   "outputs": [],
   "source": [
    "#### Check out features of all anndata objects for each library"
   ]
  },
  {
   "cell_type": "code",
   "execution_count": 27,
   "id": "450b1def-56b9-421c-b746-b9fca2cd613a",
   "metadata": {},
   "outputs": [
    {
     "name": "stdout",
     "output_type": "stream",
     "text": [
      "L1\n",
      "AL627309.1    ENSG00000238009\n",
      "AL627309.3    ENSG00000239945\n",
      "AL627309.4    ENSG00000241599\n",
      "AL669831.2    ENSG00000229905\n",
      "AL669831.5    ENSG00000237491\n",
      "                   ...       \n",
      "6.1                 HTO_B0256\n",
      "7.1                 HTO_B0257\n",
      "8.1                 HTO_B0258\n",
      "9.1                 HTO_B0259\n",
      "10.1                HTO_B0260\n",
      "Name: gene_ids, Length: 24263, dtype: object\n",
      "L2\n",
      "AL627309.1    ENSG00000238009\n",
      "AL627309.3    ENSG00000239945\n",
      "AL627309.4    ENSG00000241599\n",
      "AL669831.2    ENSG00000229905\n",
      "AL669831.5    ENSG00000237491\n",
      "                   ...       \n",
      "15.1                HTO_B0255\n",
      "16.1                HTO_B0256\n",
      "17.1                HTO_B0257\n",
      "18.1                HTO_B0258\n",
      "19.1                HTO_B0259\n",
      "Name: gene_ids, Length: 24091, dtype: object\n",
      "L3\n",
      "AL627309.1    ENSG00000238009\n",
      "AL627309.4    ENSG00000241599\n",
      "AL669831.2    ENSG00000229905\n",
      "AL669831.5    ENSG00000237491\n",
      "FAM87B        ENSG00000177757\n",
      "                   ...       \n",
      "23.1                HTO_B0253\n",
      "25.1                HTO_B0255\n",
      "26.1                HTO_B0256\n",
      "27.1                HTO_B0257\n",
      "6.1                 HTO_B0259\n",
      "Name: gene_ids, Length: 24329, dtype: object\n",
      "L4\n",
      "OR4F5         ENSG00000186092\n",
      "AL627309.1    ENSG00000238009\n",
      "AL627309.3    ENSG00000239945\n",
      "AL627309.4    ENSG00000241599\n",
      "AL669831.2    ENSG00000229905\n",
      "                   ...       \n",
      "6.2                 HTO_B0256\n",
      "S7                  HTO_B0257\n",
      "8.2                 HTO_B0258\n",
      "9.2                 HTO_B0259\n",
      "10.2                HTO_B0260\n",
      "Name: gene_ids, Length: 24229, dtype: object\n",
      "L5\n",
      "MIR1302-2HG    ENSG00000243485\n",
      "OR4F5          ENSG00000186092\n",
      "AL627309.1     ENSG00000238009\n",
      "AL627309.3     ENSG00000239945\n",
      "AL627309.4     ENSG00000241599\n",
      "                    ...       \n",
      "16.2                 HTO_B0256\n",
      "7.2                  HTO_B0257\n",
      "18.2                 HTO_B0258\n",
      "19.2                 HTO_B0259\n",
      "20.2                 HTO_B0260\n",
      "Name: gene_ids, Length: 24981, dtype: object\n",
      "L6\n",
      "AL627309.1    ENSG00000238009\n",
      "AL627309.3    ENSG00000239945\n",
      "AL627309.4    ENSG00000241599\n",
      "AL669831.2    ENSG00000229905\n",
      "AL669831.5    ENSG00000237491\n",
      "                   ...       \n",
      "26.2                HTO_B0256\n",
      "27.2                HTO_B0257\n",
      "28.2                HTO_B0258\n",
      "S9                  HTO_B0259\n",
      "13.2                HTO_B0260\n",
      "Name: gene_ids, Length: 24851, dtype: object\n",
      "L7\n",
      "OR4F5         ENSG00000186092\n",
      "AL627309.1    ENSG00000238009\n",
      "AL627309.3    ENSG00000239945\n",
      "AL627309.4    ENSG00000241599\n",
      "AL669831.2    ENSG00000229905\n",
      "                   ...       \n",
      "6.3                 HTO_B0256\n",
      "7.3                 HTO_B0257\n",
      "8.3                 HTO_B0258\n",
      "9.3                 HTO_B0259\n",
      "S10                 HTO_B0260\n",
      "Name: gene_ids, Length: 24042, dtype: object\n",
      "L8\n",
      "OR4F5         ENSG00000186092\n",
      "AL627309.1    ENSG00000238009\n",
      "AL627309.3    ENSG00000239945\n",
      "AL627309.4    ENSG00000241599\n",
      "AL669831.2    ENSG00000229905\n",
      "                   ...       \n",
      "21.3                HTO_B0256\n",
      "22.3                HTO_B0257\n",
      "23.3                HTO_B0258\n",
      "24.3                HTO_B0259\n",
      "25.3                HTO_B0260\n",
      "Name: gene_ids, Length: 24760, dtype: object\n",
      "L9\n",
      "MIR1302-2HG    ENSG00000243485\n",
      "AL627309.1     ENSG00000238009\n",
      "AL627309.3     ENSG00000239945\n",
      "AL627309.4     ENSG00000241599\n",
      "AL669831.2     ENSG00000229905\n",
      "                    ...       \n",
      "33                   HTO_B0256\n",
      "34                   HTO_B0257\n",
      "10.3                 HTO_B0258\n",
      "S9                   HTO_B0259\n",
      "S10                  HTO_B0260\n",
      "Name: gene_ids, Length: 24565, dtype: object\n",
      "L10\n",
      "AL627309.1    ENSG00000238009\n",
      "AL627309.3    ENSG00000239945\n",
      "AL627309.4    ENSG00000241599\n",
      "AL669831.2    ENSG00000229905\n",
      "AL669831.5    ENSG00000237491\n",
      "                   ...       \n",
      "7.4                 HTO_B0256\n",
      "8.4                 HTO_B0257\n",
      "11.4                HTO_B0258\n",
      "13.4                HTO_B0259\n",
      "15.4                HTO_B0260\n",
      "Name: gene_ids, Length: 24625, dtype: object\n",
      "L11\n",
      "AL627309.1    ENSG00000238009\n",
      "AL627309.3    ENSG00000239945\n",
      "AL627309.4    ENSG00000241599\n",
      "AL669831.2    ENSG00000229905\n",
      "AL669831.5    ENSG00000237491\n",
      "                   ...       \n",
      "Ch-CCS-10           HTO_B0256\n",
      "Ch-CCS-14           HTO_B0257\n",
      "Ch-CCS-15           HTO_B0258\n",
      "Ch-CCS-16           HTO_B0259\n",
      "Ch-CCS-21           HTO_B0260\n",
      "Name: gene_ids, Length: 24603, dtype: object\n",
      "L12\n",
      "AL627309.1    ENSG00000238009\n",
      "AL627309.4    ENSG00000241599\n",
      "AL669831.2    ENSG00000229905\n",
      "AL669831.5    ENSG00000237491\n",
      "FAM87B        ENSG00000177757\n",
      "                   ...       \n",
      "Ch-CCS-32           HTO_B0256\n",
      "C-CCS-17            HTO_B0257\n",
      "C-CCS-19            HTO_B0258\n",
      "C-CCS-24            HTO_B0259\n",
      "C-CCS-25            HTO_B0260\n",
      "Name: gene_ids, Length: 23807, dtype: object\n",
      "L13\n",
      "AL627309.1    ENSG00000238009\n",
      "AL627309.3    ENSG00000239945\n",
      "AL627309.4    ENSG00000241599\n",
      "AL669831.2    ENSG00000229905\n",
      "AL669831.5    ENSG00000237491\n",
      "                   ...       \n",
      "No-CCS-12           HTO_B0256\n",
      "No-CCS-13           HTO_B0257\n",
      "No-CCS-18           HTO_B0258\n",
      "No-CCS-20           HTO_B0259\n",
      "No-CCS-31           HTO_B0260\n",
      "Name: gene_ids, Length: 25441, dtype: object\n",
      "L14\n",
      "AL627309.1    ENSG00000238009\n",
      "AL627309.3    ENSG00000239945\n",
      "AL627309.4    ENSG00000241599\n",
      "AL669831.2    ENSG00000229905\n",
      "AL669831.5    ENSG00000237491\n",
      "                   ...       \n",
      "26.4                HTO_B0256\n",
      "28.4                HTO_B0257\n",
      "4.4                 HTO_B0258\n",
      "6.4                 HTO_B0259\n",
      "S10                 HTO_B0260\n",
      "Name: gene_ids, Length: 25308, dtype: object\n"
     ]
    }
   ],
   "source": [
    "for key in anndata_dict:\n",
    "    print(key)\n",
    "    print(anndata_dict[key].var['gene_ids'])"
   ]
  },
  {
   "cell_type": "code",
   "execution_count": 28,
   "id": "b873ac30-9caa-4ead-b13c-9924216c8e8b",
   "metadata": {},
   "outputs": [],
   "source": [
    "#### Get Value counts for each anndata object"
   ]
  },
  {
   "cell_type": "code",
   "execution_count": 29,
   "id": "aa273932-4d13-44dc-bcf6-adc698664fb4",
   "metadata": {},
   "outputs": [
    {
     "name": "stdout",
     "output_type": "stream",
     "text": [
      "L1\n",
      "Gene Expression     24253\n",
      "Antibody Capture       10\n",
      "Name: feature_types, dtype: int64\n",
      "L2\n",
      "Gene Expression     24083\n",
      "Antibody Capture        8\n",
      "Name: feature_types, dtype: int64\n",
      "L3\n",
      "Gene Expression     24322\n",
      "Antibody Capture        7\n",
      "Name: feature_types, dtype: int64\n",
      "L4\n",
      "Gene Expression     24219\n",
      "Antibody Capture       10\n",
      "Name: feature_types, dtype: int64\n",
      "L5\n",
      "Gene Expression     24971\n",
      "Antibody Capture       10\n",
      "Name: feature_types, dtype: int64\n",
      "L6\n",
      "Gene Expression     24841\n",
      "Antibody Capture       10\n",
      "Name: feature_types, dtype: int64\n",
      "L7\n",
      "Gene Expression     24032\n",
      "Antibody Capture       10\n",
      "Name: feature_types, dtype: int64\n",
      "L8\n",
      "Gene Expression     24750\n",
      "Antibody Capture       10\n",
      "Name: feature_types, dtype: int64\n",
      "L9\n",
      "Gene Expression     24555\n",
      "Antibody Capture       10\n",
      "Name: feature_types, dtype: int64\n",
      "L10\n",
      "Gene Expression     24615\n",
      "Antibody Capture       10\n",
      "Name: feature_types, dtype: int64\n",
      "L11\n",
      "Gene Expression     24593\n",
      "Antibody Capture       10\n",
      "Name: feature_types, dtype: int64\n",
      "L12\n",
      "Gene Expression     23797\n",
      "Antibody Capture       10\n",
      "Name: feature_types, dtype: int64\n",
      "L13\n",
      "Gene Expression     25431\n",
      "Antibody Capture       10\n",
      "Name: feature_types, dtype: int64\n",
      "L14\n",
      "Gene Expression     25298\n",
      "Antibody Capture       10\n",
      "Name: feature_types, dtype: int64\n"
     ]
    }
   ],
   "source": [
    "for key in anndata_dict:\n",
    "    print(key)\n",
    "    print(anndata_dict[key].var[\"feature_types\"].value_counts())"
   ]
  },
  {
   "cell_type": "markdown",
   "id": "57235787-5024-48f5-88e9-5c083b0f3a47",
   "metadata": {},
   "source": [
    "## Seperate RNA and protein data "
   ]
  },
  {
   "cell_type": "code",
   "execution_count": 30,
   "id": "409dda06-003c-43e0-888b-fe7476e25771",
   "metadata": {},
   "outputs": [],
   "source": [
    "protein_dict = {}"
   ]
  },
  {
   "cell_type": "code",
   "execution_count": 31,
   "id": "13bdb962-dc12-4068-ac1a-3d7454cb5b8c",
   "metadata": {},
   "outputs": [],
   "source": [
    "rna_dict = {}"
   ]
  },
  {
   "cell_type": "code",
   "execution_count": 32,
   "id": "fadfe953-732e-472d-ad84-330e3be26d6e",
   "metadata": {},
   "outputs": [],
   "source": [
    "for key in anndata_dict:\n",
    "    protein_dict[key] = anndata_dict[key][:, anndata_dict[key].var[\"feature_types\"] == \"Antibody Capture\"].copy()"
   ]
  },
  {
   "cell_type": "code",
   "execution_count": 33,
   "id": "be2ba76f-6b4f-4aba-bf34-116fe663a481",
   "metadata": {},
   "outputs": [],
   "source": [
    "for key in anndata_dict:\n",
    "    rna_dict[key] = anndata_dict[key][:, anndata_dict[key].var[\"feature_types\"] == \"Gene Expression\"].copy()"
   ]
  },
  {
   "cell_type": "code",
   "execution_count": 34,
   "id": "47d488a3-8bda-4dd1-ada2-bc3059875977",
   "metadata": {},
   "outputs": [
    {
     "data": {
      "text/plain": [
       "{'L1': AnnData object with n_obs × n_vars = 20572 × 10\n",
       "     var: 'gene_ids', 'feature_types', 'genome', 'n_cells',\n",
       " 'L2': AnnData object with n_obs × n_vars = 18667 × 8\n",
       "     var: 'gene_ids', 'feature_types', 'genome', 'n_cells',\n",
       " 'L3': AnnData object with n_obs × n_vars = 17837 × 7\n",
       "     var: 'gene_ids', 'feature_types', 'genome', 'n_cells',\n",
       " 'L4': AnnData object with n_obs × n_vars = 23187 × 10\n",
       "     var: 'gene_ids', 'feature_types', 'genome', 'n_cells',\n",
       " 'L5': AnnData object with n_obs × n_vars = 30388 × 10\n",
       "     var: 'gene_ids', 'feature_types', 'genome', 'n_cells',\n",
       " 'L6': AnnData object with n_obs × n_vars = 22541 × 10\n",
       "     var: 'gene_ids', 'feature_types', 'genome', 'n_cells',\n",
       " 'L7': AnnData object with n_obs × n_vars = 18870 × 10\n",
       "     var: 'gene_ids', 'feature_types', 'genome', 'n_cells',\n",
       " 'L8': AnnData object with n_obs × n_vars = 22824 × 10\n",
       "     var: 'gene_ids', 'feature_types', 'genome', 'n_cells',\n",
       " 'L9': AnnData object with n_obs × n_vars = 18072 × 10\n",
       "     var: 'gene_ids', 'feature_types', 'genome', 'n_cells',\n",
       " 'L10': AnnData object with n_obs × n_vars = 19972 × 10\n",
       "     var: 'gene_ids', 'feature_types', 'genome', 'n_cells',\n",
       " 'L11': AnnData object with n_obs × n_vars = 21986 × 10\n",
       "     var: 'gene_ids', 'feature_types', 'genome', 'n_cells',\n",
       " 'L12': AnnData object with n_obs × n_vars = 20707 × 10\n",
       "     var: 'gene_ids', 'feature_types', 'genome', 'n_cells',\n",
       " 'L13': AnnData object with n_obs × n_vars = 33736 × 10\n",
       "     var: 'gene_ids', 'feature_types', 'genome', 'n_cells',\n",
       " 'L14': AnnData object with n_obs × n_vars = 29200 × 10\n",
       "     var: 'gene_ids', 'feature_types', 'genome', 'n_cells'}"
      ]
     },
     "execution_count": 34,
     "metadata": {},
     "output_type": "execute_result"
    }
   ],
   "source": [
    "protein_dict"
   ]
  },
  {
   "cell_type": "code",
   "execution_count": 35,
   "id": "cc285a93-d6ca-4ba2-9041-70f0893d14a2",
   "metadata": {},
   "outputs": [
    {
     "data": {
      "text/plain": [
       "{'L1': AnnData object with n_obs × n_vars = 20572 × 24253\n",
       "     var: 'gene_ids', 'feature_types', 'genome', 'n_cells',\n",
       " 'L2': AnnData object with n_obs × n_vars = 18667 × 24083\n",
       "     var: 'gene_ids', 'feature_types', 'genome', 'n_cells',\n",
       " 'L3': AnnData object with n_obs × n_vars = 17837 × 24322\n",
       "     var: 'gene_ids', 'feature_types', 'genome', 'n_cells',\n",
       " 'L4': AnnData object with n_obs × n_vars = 23187 × 24219\n",
       "     var: 'gene_ids', 'feature_types', 'genome', 'n_cells',\n",
       " 'L5': AnnData object with n_obs × n_vars = 30388 × 24971\n",
       "     var: 'gene_ids', 'feature_types', 'genome', 'n_cells',\n",
       " 'L6': AnnData object with n_obs × n_vars = 22541 × 24841\n",
       "     var: 'gene_ids', 'feature_types', 'genome', 'n_cells',\n",
       " 'L7': AnnData object with n_obs × n_vars = 18870 × 24032\n",
       "     var: 'gene_ids', 'feature_types', 'genome', 'n_cells',\n",
       " 'L8': AnnData object with n_obs × n_vars = 22824 × 24750\n",
       "     var: 'gene_ids', 'feature_types', 'genome', 'n_cells',\n",
       " 'L9': AnnData object with n_obs × n_vars = 18072 × 24555\n",
       "     var: 'gene_ids', 'feature_types', 'genome', 'n_cells',\n",
       " 'L10': AnnData object with n_obs × n_vars = 19972 × 24615\n",
       "     var: 'gene_ids', 'feature_types', 'genome', 'n_cells',\n",
       " 'L11': AnnData object with n_obs × n_vars = 21986 × 24593\n",
       "     var: 'gene_ids', 'feature_types', 'genome', 'n_cells',\n",
       " 'L12': AnnData object with n_obs × n_vars = 20707 × 23797\n",
       "     var: 'gene_ids', 'feature_types', 'genome', 'n_cells',\n",
       " 'L13': AnnData object with n_obs × n_vars = 33736 × 25431\n",
       "     var: 'gene_ids', 'feature_types', 'genome', 'n_cells',\n",
       " 'L14': AnnData object with n_obs × n_vars = 29200 × 25298\n",
       "     var: 'gene_ids', 'feature_types', 'genome', 'n_cells'}"
      ]
     },
     "execution_count": 35,
     "metadata": {},
     "output_type": "execute_result"
    }
   ],
   "source": [
    "rna_dict"
   ]
  },
  {
   "cell_type": "code",
   "execution_count": 36,
   "id": "f37fc2b4-b7e6-44e3-a9f7-0546968a174e",
   "metadata": {},
   "outputs": [],
   "source": [
    "##### For each library check out names of features / hashtags"
   ]
  },
  {
   "cell_type": "code",
   "execution_count": 37,
   "id": "87f62c22-3c28-4d52-b267-cd29a06cc6e3",
   "metadata": {},
   "outputs": [
    {
     "name": "stdout",
     "output_type": "stream",
     "text": [
      "Index(['1.1', '2.1', 'S3', '4.1', '5.1', '6.1', '7.1', '8.1', '9.1', '10.1'], dtype='object')\n",
      "Index(['12.1', '13.1', '14.1', '15.1', '16.1', '17.1', '18.1', '19.1'], dtype='object')\n",
      "Index(['21.1', '22.1', '23.1', '25.1', '26.1', '27.1', '6.1'], dtype='object')\n",
      "Index(['S1', '2.2', '3.2', '4.2', 'S5', '6.2', 'S7', '8.2', '9.2', '10.2'], dtype='object')\n",
      "Index(['11.2', '12.2', '13.2', '14.2', '15.2', '16.2', '7.2', '18.2', '19.2',\n",
      "       '20.2'],\n",
      "      dtype='object')\n",
      "Index(['21.2', '22.2', '23.2', '24.2', '25.2', '26.2', '27.2', '28.2', 'S9',\n",
      "       '13.2'],\n",
      "      dtype='object')\n",
      "Index(['11.3', '2.3', '3.3', '4.3', '5.3', '6.3', '7.3', '8.3', '9.3', 'S10'], dtype='object')\n",
      "Index(['13.3', '15.3', '18.3', '19.3', '20.3', '21.3', '22.3', '23.3', '24.3',\n",
      "       '25.3'],\n",
      "      dtype='object')\n",
      "Index(['26.3', '27.3', '28.3', '26', '28', '33', '34', '10.3', 'S9', 'S10'], dtype='object')\n",
      "Index(['2.4', '3.4', 'S3', '5.4', '6.4', '7.4', '8.4', '11.4', '13.4', '15.4'], dtype='object')\n",
      "Index(['Ch-CCS-2', 'Ch-CCS-4', 'Ch-CCS-5', 'Ch-CCS-7', 'Ch-CCS-8', 'Ch-CCS-10',\n",
      "       'Ch-CCS-14', 'Ch-CCS-15', 'Ch-CCS-16', 'Ch-CCS-21'],\n",
      "      dtype='object')\n",
      "Index(['Ch-CCS-22', 'Ch-CCS-23', 'Ch-CCS-27', 'Ch-CCS-29', 'Ch-CCS-30',\n",
      "       'Ch-CCS-32', 'C-CCS-17', 'C-CCS-19', 'C-CCS-24', 'C-CCS-25'],\n",
      "      dtype='object')\n",
      "Index(['No-CCS-1', 'No-CCS-3', 'No-CCS-6', 'No-CCS-9', 'No-CCS-11',\n",
      "       'No-CCS-12', 'No-CCS-13', 'No-CCS-18', 'No-CCS-20', 'No-CCS-31'],\n",
      "      dtype='object')\n",
      "Index(['20.4', '21.4', '22.4', '23.4', '24.4', '26.4', '28.4', '4.4', '6.4',\n",
      "       'S10'],\n",
      "      dtype='object')\n"
     ]
    }
   ],
   "source": [
    "for key in protein_dict:\n",
    "    print(protein_dict[key].var_names)"
   ]
  },
  {
   "cell_type": "code",
   "execution_count": 38,
   "id": "bc2156db-418e-4daa-b6ef-c5ec13f31ac4",
   "metadata": {},
   "outputs": [],
   "source": [
    "##### For each library add counts to protein dic as layers"
   ]
  },
  {
   "cell_type": "code",
   "execution_count": 39,
   "id": "fca3fe7a-5193-4d58-8d4c-2cf5761e7274",
   "metadata": {},
   "outputs": [],
   "source": [
    "for key in protein_dict:\n",
    "    protein_dict[key].layers[\"counts\"] = protein_dict[key].X.copy()"
   ]
  },
  {
   "cell_type": "code",
   "execution_count": 40,
   "id": "e9a78af8-d54a-46d6-9aba-16ec2598b441",
   "metadata": {},
   "outputs": [],
   "source": [
    "##### For each library convert protein anndatas to pandas dataframe"
   ]
  },
  {
   "cell_type": "code",
   "execution_count": 41,
   "id": "765c2e39-2a11-46bf-a5de-057367c4397c",
   "metadata": {},
   "outputs": [],
   "source": [
    "protein_dict_pd= {}"
   ]
  },
  {
   "cell_type": "code",
   "execution_count": 42,
   "id": "c2503d98-5325-42e6-9d95-97cde041bf4d",
   "metadata": {},
   "outputs": [],
   "source": [
    "for key in protein_dict:\n",
    "    protein_dict_pd[key] = protein_dict[key].to_df()"
   ]
  },
  {
   "cell_type": "markdown",
   "id": "a9e6ea9e-c633-404f-a197-2c067b34a323",
   "metadata": {},
   "source": [
    "# Export the rna and protein data to do further analysis"
   ]
  },
  {
   "cell_type": "markdown",
   "id": "f099c90a-e3df-4a64-b296-69e084ebcb4d",
   "metadata": {},
   "source": [
    "##  Save protein dataset as csv for analysis in A2"
   ]
  },
  {
   "cell_type": "code",
   "execution_count": 43,
   "id": "d68a6419-7d76-4aeb-b797-323877442976",
   "metadata": {},
   "outputs": [],
   "source": [
    "for key in protein_dict_pd:\n",
    "    data_name = data_path + '/analysis/A/' + 'A1_' + key + '_Hashtags_Barcodes_Matrix_Final.csv'\n",
    "    protein_dict_pd[key].to_csv(data_name, sep = ',')"
   ]
  },
  {
   "cell_type": "markdown",
   "id": "8a45995c-1182-4f6a-a06a-7cd1f31bdc5f",
   "metadata": {},
   "source": [
    "##  Save protein dataset as h5ad"
   ]
  },
  {
   "cell_type": "code",
   "execution_count": 44,
   "id": "92347b01-1f9f-46b1-b66d-d238052c17ec",
   "metadata": {},
   "outputs": [
    {
     "data": {
      "text/plain": [
       "AnnData object with n_obs × n_vars = 20572 × 10\n",
       "    var: 'gene_ids', 'feature_types', 'genome', 'n_cells'\n",
       "    layers: 'counts'"
      ]
     },
     "execution_count": 44,
     "metadata": {},
     "output_type": "execute_result"
    }
   ],
   "source": [
    "protein_dict['L1']"
   ]
  },
  {
   "cell_type": "code",
   "execution_count": 45,
   "id": "ceb22b3c-103d-44ce-85c0-9ad68e2b9d54",
   "metadata": {
    "collapsed": true,
    "jupyter": {
     "outputs_hidden": true
    },
    "tags": []
   },
   "outputs": [
    {
     "name": "stderr",
     "output_type": "stream",
     "text": [
      "/home/icb/corinna.losert/miniconda3/envs/stark_stemi_Python/lib/python3.9/site-packages/anndata/_core/anndata.py:1220: FutureWarning: The `inplace` parameter in pandas.Categorical.reorder_categories is deprecated and will be removed in a future version. Removing unused categories will always return a new Categorical object.\n",
      "  c.reorder_categories(natsorted(c.categories), inplace=True)\n",
      "... storing 'feature_types' as categorical\n",
      "/home/icb/corinna.losert/miniconda3/envs/stark_stemi_Python/lib/python3.9/site-packages/anndata/_core/anndata.py:1220: FutureWarning: The `inplace` parameter in pandas.Categorical.reorder_categories is deprecated and will be removed in a future version. Removing unused categories will always return a new Categorical object.\n",
      "  c.reorder_categories(natsorted(c.categories), inplace=True)\n",
      "... storing 'genome' as categorical\n",
      "/home/icb/corinna.losert/miniconda3/envs/stark_stemi_Python/lib/python3.9/site-packages/anndata/_core/anndata.py:1220: FutureWarning: The `inplace` parameter in pandas.Categorical.reorder_categories is deprecated and will be removed in a future version. Removing unused categories will always return a new Categorical object.\n",
      "  c.reorder_categories(natsorted(c.categories), inplace=True)\n",
      "... storing 'feature_types' as categorical\n",
      "/home/icb/corinna.losert/miniconda3/envs/stark_stemi_Python/lib/python3.9/site-packages/anndata/_core/anndata.py:1220: FutureWarning: The `inplace` parameter in pandas.Categorical.reorder_categories is deprecated and will be removed in a future version. Removing unused categories will always return a new Categorical object.\n",
      "  c.reorder_categories(natsorted(c.categories), inplace=True)\n",
      "... storing 'genome' as categorical\n",
      "/home/icb/corinna.losert/miniconda3/envs/stark_stemi_Python/lib/python3.9/site-packages/anndata/_core/anndata.py:1220: FutureWarning: The `inplace` parameter in pandas.Categorical.reorder_categories is deprecated and will be removed in a future version. Removing unused categories will always return a new Categorical object.\n",
      "  c.reorder_categories(natsorted(c.categories), inplace=True)\n",
      "... storing 'feature_types' as categorical\n",
      "/home/icb/corinna.losert/miniconda3/envs/stark_stemi_Python/lib/python3.9/site-packages/anndata/_core/anndata.py:1220: FutureWarning: The `inplace` parameter in pandas.Categorical.reorder_categories is deprecated and will be removed in a future version. Removing unused categories will always return a new Categorical object.\n",
      "  c.reorder_categories(natsorted(c.categories), inplace=True)\n",
      "... storing 'genome' as categorical\n",
      "/home/icb/corinna.losert/miniconda3/envs/stark_stemi_Python/lib/python3.9/site-packages/anndata/_core/anndata.py:1220: FutureWarning: The `inplace` parameter in pandas.Categorical.reorder_categories is deprecated and will be removed in a future version. Removing unused categories will always return a new Categorical object.\n",
      "  c.reorder_categories(natsorted(c.categories), inplace=True)\n",
      "... storing 'feature_types' as categorical\n",
      "/home/icb/corinna.losert/miniconda3/envs/stark_stemi_Python/lib/python3.9/site-packages/anndata/_core/anndata.py:1220: FutureWarning: The `inplace` parameter in pandas.Categorical.reorder_categories is deprecated and will be removed in a future version. Removing unused categories will always return a new Categorical object.\n",
      "  c.reorder_categories(natsorted(c.categories), inplace=True)\n",
      "... storing 'genome' as categorical\n",
      "/home/icb/corinna.losert/miniconda3/envs/stark_stemi_Python/lib/python3.9/site-packages/anndata/_core/anndata.py:1220: FutureWarning: The `inplace` parameter in pandas.Categorical.reorder_categories is deprecated and will be removed in a future version. Removing unused categories will always return a new Categorical object.\n",
      "  c.reorder_categories(natsorted(c.categories), inplace=True)\n",
      "... storing 'feature_types' as categorical\n",
      "/home/icb/corinna.losert/miniconda3/envs/stark_stemi_Python/lib/python3.9/site-packages/anndata/_core/anndata.py:1220: FutureWarning: The `inplace` parameter in pandas.Categorical.reorder_categories is deprecated and will be removed in a future version. Removing unused categories will always return a new Categorical object.\n",
      "  c.reorder_categories(natsorted(c.categories), inplace=True)\n",
      "... storing 'genome' as categorical\n",
      "/home/icb/corinna.losert/miniconda3/envs/stark_stemi_Python/lib/python3.9/site-packages/anndata/_core/anndata.py:1220: FutureWarning: The `inplace` parameter in pandas.Categorical.reorder_categories is deprecated and will be removed in a future version. Removing unused categories will always return a new Categorical object.\n",
      "  c.reorder_categories(natsorted(c.categories), inplace=True)\n",
      "... storing 'feature_types' as categorical\n",
      "/home/icb/corinna.losert/miniconda3/envs/stark_stemi_Python/lib/python3.9/site-packages/anndata/_core/anndata.py:1220: FutureWarning: The `inplace` parameter in pandas.Categorical.reorder_categories is deprecated and will be removed in a future version. Removing unused categories will always return a new Categorical object.\n",
      "  c.reorder_categories(natsorted(c.categories), inplace=True)\n",
      "... storing 'genome' as categorical\n",
      "/home/icb/corinna.losert/miniconda3/envs/stark_stemi_Python/lib/python3.9/site-packages/anndata/_core/anndata.py:1220: FutureWarning: The `inplace` parameter in pandas.Categorical.reorder_categories is deprecated and will be removed in a future version. Removing unused categories will always return a new Categorical object.\n",
      "  c.reorder_categories(natsorted(c.categories), inplace=True)\n",
      "... storing 'feature_types' as categorical\n",
      "/home/icb/corinna.losert/miniconda3/envs/stark_stemi_Python/lib/python3.9/site-packages/anndata/_core/anndata.py:1220: FutureWarning: The `inplace` parameter in pandas.Categorical.reorder_categories is deprecated and will be removed in a future version. Removing unused categories will always return a new Categorical object.\n",
      "  c.reorder_categories(natsorted(c.categories), inplace=True)\n",
      "... storing 'genome' as categorical\n",
      "/home/icb/corinna.losert/miniconda3/envs/stark_stemi_Python/lib/python3.9/site-packages/anndata/_core/anndata.py:1220: FutureWarning: The `inplace` parameter in pandas.Categorical.reorder_categories is deprecated and will be removed in a future version. Removing unused categories will always return a new Categorical object.\n",
      "  c.reorder_categories(natsorted(c.categories), inplace=True)\n",
      "... storing 'feature_types' as categorical\n",
      "/home/icb/corinna.losert/miniconda3/envs/stark_stemi_Python/lib/python3.9/site-packages/anndata/_core/anndata.py:1220: FutureWarning: The `inplace` parameter in pandas.Categorical.reorder_categories is deprecated and will be removed in a future version. Removing unused categories will always return a new Categorical object.\n",
      "  c.reorder_categories(natsorted(c.categories), inplace=True)\n",
      "... storing 'genome' as categorical\n",
      "/home/icb/corinna.losert/miniconda3/envs/stark_stemi_Python/lib/python3.9/site-packages/anndata/_core/anndata.py:1220: FutureWarning: The `inplace` parameter in pandas.Categorical.reorder_categories is deprecated and will be removed in a future version. Removing unused categories will always return a new Categorical object.\n",
      "  c.reorder_categories(natsorted(c.categories), inplace=True)\n",
      "... storing 'feature_types' as categorical\n",
      "/home/icb/corinna.losert/miniconda3/envs/stark_stemi_Python/lib/python3.9/site-packages/anndata/_core/anndata.py:1220: FutureWarning: The `inplace` parameter in pandas.Categorical.reorder_categories is deprecated and will be removed in a future version. Removing unused categories will always return a new Categorical object.\n",
      "  c.reorder_categories(natsorted(c.categories), inplace=True)\n",
      "... storing 'genome' as categorical\n",
      "/home/icb/corinna.losert/miniconda3/envs/stark_stemi_Python/lib/python3.9/site-packages/anndata/_core/anndata.py:1220: FutureWarning: The `inplace` parameter in pandas.Categorical.reorder_categories is deprecated and will be removed in a future version. Removing unused categories will always return a new Categorical object.\n",
      "  c.reorder_categories(natsorted(c.categories), inplace=True)\n",
      "... storing 'feature_types' as categorical\n",
      "/home/icb/corinna.losert/miniconda3/envs/stark_stemi_Python/lib/python3.9/site-packages/anndata/_core/anndata.py:1220: FutureWarning: The `inplace` parameter in pandas.Categorical.reorder_categories is deprecated and will be removed in a future version. Removing unused categories will always return a new Categorical object.\n",
      "  c.reorder_categories(natsorted(c.categories), inplace=True)\n",
      "... storing 'genome' as categorical\n",
      "/home/icb/corinna.losert/miniconda3/envs/stark_stemi_Python/lib/python3.9/site-packages/anndata/_core/anndata.py:1220: FutureWarning: The `inplace` parameter in pandas.Categorical.reorder_categories is deprecated and will be removed in a future version. Removing unused categories will always return a new Categorical object.\n",
      "  c.reorder_categories(natsorted(c.categories), inplace=True)\n",
      "... storing 'feature_types' as categorical\n",
      "/home/icb/corinna.losert/miniconda3/envs/stark_stemi_Python/lib/python3.9/site-packages/anndata/_core/anndata.py:1220: FutureWarning: The `inplace` parameter in pandas.Categorical.reorder_categories is deprecated and will be removed in a future version. Removing unused categories will always return a new Categorical object.\n",
      "  c.reorder_categories(natsorted(c.categories), inplace=True)\n",
      "... storing 'genome' as categorical\n",
      "/home/icb/corinna.losert/miniconda3/envs/stark_stemi_Python/lib/python3.9/site-packages/anndata/_core/anndata.py:1220: FutureWarning: The `inplace` parameter in pandas.Categorical.reorder_categories is deprecated and will be removed in a future version. Removing unused categories will always return a new Categorical object.\n",
      "  c.reorder_categories(natsorted(c.categories), inplace=True)\n",
      "... storing 'feature_types' as categorical\n",
      "/home/icb/corinna.losert/miniconda3/envs/stark_stemi_Python/lib/python3.9/site-packages/anndata/_core/anndata.py:1220: FutureWarning: The `inplace` parameter in pandas.Categorical.reorder_categories is deprecated and will be removed in a future version. Removing unused categories will always return a new Categorical object.\n",
      "  c.reorder_categories(natsorted(c.categories), inplace=True)\n",
      "... storing 'genome' as categorical\n",
      "/home/icb/corinna.losert/miniconda3/envs/stark_stemi_Python/lib/python3.9/site-packages/anndata/_core/anndata.py:1220: FutureWarning: The `inplace` parameter in pandas.Categorical.reorder_categories is deprecated and will be removed in a future version. Removing unused categories will always return a new Categorical object.\n",
      "  c.reorder_categories(natsorted(c.categories), inplace=True)\n",
      "... storing 'feature_types' as categorical\n",
      "/home/icb/corinna.losert/miniconda3/envs/stark_stemi_Python/lib/python3.9/site-packages/anndata/_core/anndata.py:1220: FutureWarning: The `inplace` parameter in pandas.Categorical.reorder_categories is deprecated and will be removed in a future version. Removing unused categories will always return a new Categorical object.\n",
      "  c.reorder_categories(natsorted(c.categories), inplace=True)\n",
      "... storing 'genome' as categorical\n",
      "/home/icb/corinna.losert/miniconda3/envs/stark_stemi_Python/lib/python3.9/site-packages/anndata/_core/anndata.py:1220: FutureWarning: The `inplace` parameter in pandas.Categorical.reorder_categories is deprecated and will be removed in a future version. Removing unused categories will always return a new Categorical object.\n",
      "  c.reorder_categories(natsorted(c.categories), inplace=True)\n",
      "... storing 'feature_types' as categorical\n",
      "/home/icb/corinna.losert/miniconda3/envs/stark_stemi_Python/lib/python3.9/site-packages/anndata/_core/anndata.py:1220: FutureWarning: The `inplace` parameter in pandas.Categorical.reorder_categories is deprecated and will be removed in a future version. Removing unused categories will always return a new Categorical object.\n",
      "  c.reorder_categories(natsorted(c.categories), inplace=True)\n",
      "... storing 'genome' as categorical\n"
     ]
    }
   ],
   "source": [
    "for key in protein_dict:\n",
    "    data_name = data_path + '/analysis/A/' +  'A1_' + key + '_protein_Final.h5ad'\n",
    "    protein_dict[key].write(data_name)"
   ]
  },
  {
   "cell_type": "markdown",
   "id": "d3fd4b1a-26ca-4e18-8eef-d389f8df8b56",
   "metadata": {},
   "source": [
    "##  Save rna dataset as h5ad"
   ]
  },
  {
   "cell_type": "code",
   "execution_count": 46,
   "id": "baa1312a-90d2-4293-8fb2-2ae421242146",
   "metadata": {},
   "outputs": [
    {
     "data": {
      "text/plain": [
       "AnnData object with n_obs × n_vars = 20572 × 24253\n",
       "    var: 'gene_ids', 'feature_types', 'genome', 'n_cells'"
      ]
     },
     "execution_count": 46,
     "metadata": {},
     "output_type": "execute_result"
    }
   ],
   "source": [
    "rna_dict['L1']"
   ]
  },
  {
   "cell_type": "code",
   "execution_count": 47,
   "id": "3c6d70eb-bb7d-4087-9b6f-c4602c20480d",
   "metadata": {
    "collapsed": true,
    "jupyter": {
     "outputs_hidden": true
    },
    "tags": []
   },
   "outputs": [
    {
     "name": "stderr",
     "output_type": "stream",
     "text": [
      "/home/icb/corinna.losert/miniconda3/envs/stark_stemi_Python/lib/python3.9/site-packages/anndata/_core/anndata.py:1220: FutureWarning: The `inplace` parameter in pandas.Categorical.reorder_categories is deprecated and will be removed in a future version. Removing unused categories will always return a new Categorical object.\n",
      "  c.reorder_categories(natsorted(c.categories), inplace=True)\n",
      "... storing 'feature_types' as categorical\n",
      "/home/icb/corinna.losert/miniconda3/envs/stark_stemi_Python/lib/python3.9/site-packages/anndata/_core/anndata.py:1220: FutureWarning: The `inplace` parameter in pandas.Categorical.reorder_categories is deprecated and will be removed in a future version. Removing unused categories will always return a new Categorical object.\n",
      "  c.reorder_categories(natsorted(c.categories), inplace=True)\n",
      "... storing 'genome' as categorical\n",
      "/home/icb/corinna.losert/miniconda3/envs/stark_stemi_Python/lib/python3.9/site-packages/anndata/_core/anndata.py:1220: FutureWarning: The `inplace` parameter in pandas.Categorical.reorder_categories is deprecated and will be removed in a future version. Removing unused categories will always return a new Categorical object.\n",
      "  c.reorder_categories(natsorted(c.categories), inplace=True)\n",
      "... storing 'feature_types' as categorical\n",
      "/home/icb/corinna.losert/miniconda3/envs/stark_stemi_Python/lib/python3.9/site-packages/anndata/_core/anndata.py:1220: FutureWarning: The `inplace` parameter in pandas.Categorical.reorder_categories is deprecated and will be removed in a future version. Removing unused categories will always return a new Categorical object.\n",
      "  c.reorder_categories(natsorted(c.categories), inplace=True)\n",
      "... storing 'genome' as categorical\n",
      "/home/icb/corinna.losert/miniconda3/envs/stark_stemi_Python/lib/python3.9/site-packages/anndata/_core/anndata.py:1220: FutureWarning: The `inplace` parameter in pandas.Categorical.reorder_categories is deprecated and will be removed in a future version. Removing unused categories will always return a new Categorical object.\n",
      "  c.reorder_categories(natsorted(c.categories), inplace=True)\n",
      "... storing 'feature_types' as categorical\n",
      "/home/icb/corinna.losert/miniconda3/envs/stark_stemi_Python/lib/python3.9/site-packages/anndata/_core/anndata.py:1220: FutureWarning: The `inplace` parameter in pandas.Categorical.reorder_categories is deprecated and will be removed in a future version. Removing unused categories will always return a new Categorical object.\n",
      "  c.reorder_categories(natsorted(c.categories), inplace=True)\n",
      "... storing 'genome' as categorical\n",
      "/home/icb/corinna.losert/miniconda3/envs/stark_stemi_Python/lib/python3.9/site-packages/anndata/_core/anndata.py:1220: FutureWarning: The `inplace` parameter in pandas.Categorical.reorder_categories is deprecated and will be removed in a future version. Removing unused categories will always return a new Categorical object.\n",
      "  c.reorder_categories(natsorted(c.categories), inplace=True)\n",
      "... storing 'feature_types' as categorical\n",
      "/home/icb/corinna.losert/miniconda3/envs/stark_stemi_Python/lib/python3.9/site-packages/anndata/_core/anndata.py:1220: FutureWarning: The `inplace` parameter in pandas.Categorical.reorder_categories is deprecated and will be removed in a future version. Removing unused categories will always return a new Categorical object.\n",
      "  c.reorder_categories(natsorted(c.categories), inplace=True)\n",
      "... storing 'genome' as categorical\n",
      "/home/icb/corinna.losert/miniconda3/envs/stark_stemi_Python/lib/python3.9/site-packages/anndata/_core/anndata.py:1220: FutureWarning: The `inplace` parameter in pandas.Categorical.reorder_categories is deprecated and will be removed in a future version. Removing unused categories will always return a new Categorical object.\n",
      "  c.reorder_categories(natsorted(c.categories), inplace=True)\n",
      "... storing 'feature_types' as categorical\n",
      "/home/icb/corinna.losert/miniconda3/envs/stark_stemi_Python/lib/python3.9/site-packages/anndata/_core/anndata.py:1220: FutureWarning: The `inplace` parameter in pandas.Categorical.reorder_categories is deprecated and will be removed in a future version. Removing unused categories will always return a new Categorical object.\n",
      "  c.reorder_categories(natsorted(c.categories), inplace=True)\n",
      "... storing 'genome' as categorical\n",
      "/home/icb/corinna.losert/miniconda3/envs/stark_stemi_Python/lib/python3.9/site-packages/anndata/_core/anndata.py:1220: FutureWarning: The `inplace` parameter in pandas.Categorical.reorder_categories is deprecated and will be removed in a future version. Removing unused categories will always return a new Categorical object.\n",
      "  c.reorder_categories(natsorted(c.categories), inplace=True)\n",
      "... storing 'feature_types' as categorical\n",
      "/home/icb/corinna.losert/miniconda3/envs/stark_stemi_Python/lib/python3.9/site-packages/anndata/_core/anndata.py:1220: FutureWarning: The `inplace` parameter in pandas.Categorical.reorder_categories is deprecated and will be removed in a future version. Removing unused categories will always return a new Categorical object.\n",
      "  c.reorder_categories(natsorted(c.categories), inplace=True)\n",
      "... storing 'genome' as categorical\n",
      "/home/icb/corinna.losert/miniconda3/envs/stark_stemi_Python/lib/python3.9/site-packages/anndata/_core/anndata.py:1220: FutureWarning: The `inplace` parameter in pandas.Categorical.reorder_categories is deprecated and will be removed in a future version. Removing unused categories will always return a new Categorical object.\n",
      "  c.reorder_categories(natsorted(c.categories), inplace=True)\n",
      "... storing 'feature_types' as categorical\n",
      "/home/icb/corinna.losert/miniconda3/envs/stark_stemi_Python/lib/python3.9/site-packages/anndata/_core/anndata.py:1220: FutureWarning: The `inplace` parameter in pandas.Categorical.reorder_categories is deprecated and will be removed in a future version. Removing unused categories will always return a new Categorical object.\n",
      "  c.reorder_categories(natsorted(c.categories), inplace=True)\n",
      "... storing 'genome' as categorical\n",
      "/home/icb/corinna.losert/miniconda3/envs/stark_stemi_Python/lib/python3.9/site-packages/anndata/_core/anndata.py:1220: FutureWarning: The `inplace` parameter in pandas.Categorical.reorder_categories is deprecated and will be removed in a future version. Removing unused categories will always return a new Categorical object.\n",
      "  c.reorder_categories(natsorted(c.categories), inplace=True)\n",
      "... storing 'feature_types' as categorical\n",
      "/home/icb/corinna.losert/miniconda3/envs/stark_stemi_Python/lib/python3.9/site-packages/anndata/_core/anndata.py:1220: FutureWarning: The `inplace` parameter in pandas.Categorical.reorder_categories is deprecated and will be removed in a future version. Removing unused categories will always return a new Categorical object.\n",
      "  c.reorder_categories(natsorted(c.categories), inplace=True)\n",
      "... storing 'genome' as categorical\n",
      "/home/icb/corinna.losert/miniconda3/envs/stark_stemi_Python/lib/python3.9/site-packages/anndata/_core/anndata.py:1220: FutureWarning: The `inplace` parameter in pandas.Categorical.reorder_categories is deprecated and will be removed in a future version. Removing unused categories will always return a new Categorical object.\n",
      "  c.reorder_categories(natsorted(c.categories), inplace=True)\n",
      "... storing 'feature_types' as categorical\n",
      "/home/icb/corinna.losert/miniconda3/envs/stark_stemi_Python/lib/python3.9/site-packages/anndata/_core/anndata.py:1220: FutureWarning: The `inplace` parameter in pandas.Categorical.reorder_categories is deprecated and will be removed in a future version. Removing unused categories will always return a new Categorical object.\n",
      "  c.reorder_categories(natsorted(c.categories), inplace=True)\n",
      "... storing 'genome' as categorical\n",
      "/home/icb/corinna.losert/miniconda3/envs/stark_stemi_Python/lib/python3.9/site-packages/anndata/_core/anndata.py:1220: FutureWarning: The `inplace` parameter in pandas.Categorical.reorder_categories is deprecated and will be removed in a future version. Removing unused categories will always return a new Categorical object.\n",
      "  c.reorder_categories(natsorted(c.categories), inplace=True)\n",
      "... storing 'feature_types' as categorical\n",
      "/home/icb/corinna.losert/miniconda3/envs/stark_stemi_Python/lib/python3.9/site-packages/anndata/_core/anndata.py:1220: FutureWarning: The `inplace` parameter in pandas.Categorical.reorder_categories is deprecated and will be removed in a future version. Removing unused categories will always return a new Categorical object.\n",
      "  c.reorder_categories(natsorted(c.categories), inplace=True)\n",
      "... storing 'genome' as categorical\n",
      "/home/icb/corinna.losert/miniconda3/envs/stark_stemi_Python/lib/python3.9/site-packages/anndata/_core/anndata.py:1220: FutureWarning: The `inplace` parameter in pandas.Categorical.reorder_categories is deprecated and will be removed in a future version. Removing unused categories will always return a new Categorical object.\n",
      "  c.reorder_categories(natsorted(c.categories), inplace=True)\n",
      "... storing 'feature_types' as categorical\n",
      "/home/icb/corinna.losert/miniconda3/envs/stark_stemi_Python/lib/python3.9/site-packages/anndata/_core/anndata.py:1220: FutureWarning: The `inplace` parameter in pandas.Categorical.reorder_categories is deprecated and will be removed in a future version. Removing unused categories will always return a new Categorical object.\n",
      "  c.reorder_categories(natsorted(c.categories), inplace=True)\n",
      "... storing 'genome' as categorical\n",
      "/home/icb/corinna.losert/miniconda3/envs/stark_stemi_Python/lib/python3.9/site-packages/anndata/_core/anndata.py:1220: FutureWarning: The `inplace` parameter in pandas.Categorical.reorder_categories is deprecated and will be removed in a future version. Removing unused categories will always return a new Categorical object.\n",
      "  c.reorder_categories(natsorted(c.categories), inplace=True)\n",
      "... storing 'feature_types' as categorical\n",
      "/home/icb/corinna.losert/miniconda3/envs/stark_stemi_Python/lib/python3.9/site-packages/anndata/_core/anndata.py:1220: FutureWarning: The `inplace` parameter in pandas.Categorical.reorder_categories is deprecated and will be removed in a future version. Removing unused categories will always return a new Categorical object.\n",
      "  c.reorder_categories(natsorted(c.categories), inplace=True)\n",
      "... storing 'genome' as categorical\n",
      "/home/icb/corinna.losert/miniconda3/envs/stark_stemi_Python/lib/python3.9/site-packages/anndata/_core/anndata.py:1220: FutureWarning: The `inplace` parameter in pandas.Categorical.reorder_categories is deprecated and will be removed in a future version. Removing unused categories will always return a new Categorical object.\n",
      "  c.reorder_categories(natsorted(c.categories), inplace=True)\n",
      "... storing 'feature_types' as categorical\n",
      "/home/icb/corinna.losert/miniconda3/envs/stark_stemi_Python/lib/python3.9/site-packages/anndata/_core/anndata.py:1220: FutureWarning: The `inplace` parameter in pandas.Categorical.reorder_categories is deprecated and will be removed in a future version. Removing unused categories will always return a new Categorical object.\n",
      "  c.reorder_categories(natsorted(c.categories), inplace=True)\n",
      "... storing 'genome' as categorical\n",
      "/home/icb/corinna.losert/miniconda3/envs/stark_stemi_Python/lib/python3.9/site-packages/anndata/_core/anndata.py:1220: FutureWarning: The `inplace` parameter in pandas.Categorical.reorder_categories is deprecated and will be removed in a future version. Removing unused categories will always return a new Categorical object.\n",
      "  c.reorder_categories(natsorted(c.categories), inplace=True)\n",
      "... storing 'feature_types' as categorical\n",
      "/home/icb/corinna.losert/miniconda3/envs/stark_stemi_Python/lib/python3.9/site-packages/anndata/_core/anndata.py:1220: FutureWarning: The `inplace` parameter in pandas.Categorical.reorder_categories is deprecated and will be removed in a future version. Removing unused categories will always return a new Categorical object.\n",
      "  c.reorder_categories(natsorted(c.categories), inplace=True)\n",
      "... storing 'genome' as categorical\n"
     ]
    }
   ],
   "source": [
    "for key in rna_dict:\n",
    "    data_name = data_path + '/analysis/A/' +  'A1_' + key + '_rna_Final.h5ad'\n",
    "    rna_dict[key].write(data_name)"
   ]
  },
  {
   "cell_type": "markdown",
   "id": "c531e8b6-3f23-4c2b-a105-d0e3fca694d9",
   "metadata": {},
   "source": [
    "## Save protein data as .RDS object"
   ]
  },
  {
   "cell_type": "code",
   "execution_count": 48,
   "id": "5bc8e8c9-ebd5-4bc2-9f16-c791289c205d",
   "metadata": {},
   "outputs": [],
   "source": [
    "pandas2ri.activate()"
   ]
  },
  {
   "cell_type": "code",
   "execution_count": 49,
   "id": "3c5cbaa4-35d1-4011-a29b-d7bbeaea28eb",
   "metadata": {},
   "outputs": [],
   "source": [
    "saveRDS = ro.r['saveRDS']"
   ]
  },
  {
   "cell_type": "code",
   "execution_count": 50,
   "id": "4e36cb45-4937-4be0-9cd4-c0a761129b18",
   "metadata": {},
   "outputs": [],
   "source": [
    "for key in protein_dict_pd:\n",
    "    with localconverter(ro.default_converter + pandas2ri.converter):\n",
    "        r_from_pd_df = ro.conversion.py2rpy(protein_dict_pd[key])"
   ]
  },
  {
   "cell_type": "code",
   "execution_count": 51,
   "id": "a01b2a83-87c3-4655-a059-650633c6369b",
   "metadata": {},
   "outputs": [],
   "source": [
    "for key in protein_dict_pd:\n",
    "    data_name = data_path + '/analysis/A/' +  'A1_' + key + '_protein_Final.rds'\n",
    "    saveRDS(protein_dict_pd[key], data_name)"
   ]
  },
  {
   "cell_type": "code",
   "execution_count": null,
   "id": "4807622b-4f7e-4ebe-8735-fd0a02f07078",
   "metadata": {},
   "outputs": [],
   "source": []
  },
  {
   "cell_type": "code",
   "execution_count": null,
   "id": "7b204e4b-a736-4f87-9f95-3471f40ef13d",
   "metadata": {},
   "outputs": [],
   "source": []
  }
 ],
 "metadata": {
  "kernelspec": {
   "display_name": "Python 3 (ipykernel)",
   "language": "python",
   "name": "python3"
  },
  "language_info": {
   "codemirror_mode": {
    "name": "ipython",
    "version": 3
   },
   "file_extension": ".py",
   "mimetype": "text/x-python",
   "name": "python",
   "nbconvert_exporter": "python",
   "pygments_lexer": "ipython3",
   "version": "3.9.7"
  },
  "toc-showcode": false,
  "toc-showmarkdowntxt": true
 },
 "nbformat": 4,
 "nbformat_minor": 5
}

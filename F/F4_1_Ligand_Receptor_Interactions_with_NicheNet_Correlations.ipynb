{
 "cells": [
  {
   "cell_type": "code",
   "execution_count": 285,
   "id": "a5af7905-9b65-4d41-b747-0c795477d895",
   "metadata": {
    "tags": []
   },
   "outputs": [],
   "source": [
    "### Check out correlations between ligand, receptors and targets and combine with nichenet data"
   ]
  },
  {
   "cell_type": "markdown",
   "id": "7ad3b8fc-2638-401d-8299-974e2612bdfd",
   "metadata": {
    "tags": []
   },
   "source": [
    "#############################################\n",
    "# Prerequisites - Load Libraries"
   ]
  },
  {
   "cell_type": "code",
   "execution_count": 286,
   "id": "8bc0aa68-a56c-4954-b7f1-c940eed22535",
   "metadata": {
    "tags": []
   },
   "outputs": [
    {
     "name": "stderr",
     "output_type": "stream",
     "text": [
      "Warning message in read.table(file = file, header = header, sep = sep, quote = quote, :\n",
      "“incomplete final line found by readTableHeader on '../conda_environment/Environment_Configs.csv'”\n"
     ]
    },
    {
     "name": "stdout",
     "output_type": "stream",
     "text": [
      "[1] \"/home/icb/corinna.losert/miniconda3/envs/stark_stemi_R_Env_4_1//lib/R/library\"\n"
     ]
    }
   ],
   "source": [
    "source('MS0_Libraries.r')"
   ]
  },
  {
   "cell_type": "code",
   "execution_count": 287,
   "id": "a1fe13f0-3991-4bcf-8a72-1e57f5de3639",
   "metadata": {},
   "outputs": [],
   "source": [
    "source('MS4_Plot_Config.r')"
   ]
  },
  {
   "cell_type": "markdown",
   "id": "c0d8f19c-38da-490a-904c-ead6cbd8fada",
   "metadata": {
    "tags": []
   },
   "source": [
    "###############################################\n",
    "# Preqrequisites Configurations & Parameters"
   ]
  },
  {
   "cell_type": "code",
   "execution_count": 288,
   "id": "32a08c89-f24e-4022-bcf8-70120b317e3b",
   "metadata": {},
   "outputs": [],
   "source": [
    "data_path = '../data/current'"
   ]
  },
  {
   "cell_type": "code",
   "execution_count": 289,
   "id": "41b26d19-d26f-4917-bf53-88d39efe056c",
   "metadata": {},
   "outputs": [],
   "source": [
    "result_path = '../results/current'"
   ]
  },
  {
   "cell_type": "code",
   "execution_count": 290,
   "id": "61a059d8-eb1d-4224-84dd-a61292c1b6c8",
   "metadata": {},
   "outputs": [
    {
     "data": {
      "text/html": [
       "'../data/current'"
      ],
      "text/latex": [
       "'../data/current'"
      ],
      "text/markdown": [
       "'../data/current'"
      ],
      "text/plain": [
       "[1] \"../data/current\""
      ]
     },
     "metadata": {},
     "output_type": "display_data"
    }
   ],
   "source": [
    "data_path"
   ]
  },
  {
   "cell_type": "code",
   "execution_count": 291,
   "id": "434926b9-50d3-42e5-8d6c-2e98586db31b",
   "metadata": {},
   "outputs": [],
   "source": [
    "### Version of the pre-processed data to load"
   ]
  },
  {
   "cell_type": "code",
   "execution_count": 292,
   "id": "55ae9b4e-d653-4f50-82ce-c45e566e4bf3",
   "metadata": {},
   "outputs": [],
   "source": [
    "name = 'V_FINAL'  \n",
    "# of dataset to load, prepared and combined data of E1 - skip E2 step "
   ]
  },
  {
   "cell_type": "code",
   "execution_count": 293,
   "id": "98f9d1fb-733a-41a7-8432-96ca94d08820",
   "metadata": {},
   "outputs": [],
   "source": [
    "filter_samples = 'all'  # decide whether to select only a subset of samples; 'all'  = not filtering\n",
    "#filter_samples = 'acs_w_o_infection_ccs'\n",
    "#filter_samples = 'no_ccs_ccs'"
   ]
  },
  {
   "cell_type": "markdown",
   "id": "4d78b773-c356-43bd-a1b7-988fd621712b",
   "metadata": {
    "tags": []
   },
   "source": [
    "# Load Data "
   ]
  },
  {
   "cell_type": "markdown",
   "id": "88d6ff01-805b-4e59-bfbc-122177418d3c",
   "metadata": {
    "tags": []
   },
   "source": [
    "## Sample Data"
   ]
  },
  {
   "cell_type": "code",
   "execution_count": 294,
   "id": "d3c14685-c0dd-444c-ab8a-dccd9cfbddbc",
   "metadata": {},
   "outputs": [],
   "source": [
    "## sample meta and clinical data"
   ]
  },
  {
   "cell_type": "code",
   "execution_count": 295,
   "id": "b5d4992b-aefd-4b17-8114-bc765b0700f0",
   "metadata": {},
   "outputs": [],
   "source": [
    "sample_data = read.csv(paste0(result_path, '/00_Data_Overview/Merged_Sample_Meta_Data.csv'))"
   ]
  },
  {
   "cell_type": "markdown",
   "id": "248e225a-e54f-4535-b981-a3e7955c616c",
   "metadata": {
    "tags": []
   },
   "source": [
    "## Prepared combined data"
   ]
  },
  {
   "cell_type": "code",
   "execution_count": 296,
   "id": "f9d4e05a-0aa9-444b-887e-484ba2d665af",
   "metadata": {},
   "outputs": [],
   "source": [
    "### Select and load pre-processed and combined data"
   ]
  },
  {
   "cell_type": "code",
   "execution_count": 297,
   "id": "ae3feb85-f2b2-4b90-a67c-151d3cf87723",
   "metadata": {},
   "outputs": [
    {
     "name": "stdout",
     "output_type": "stream",
     "text": [
      "[1] \"../results/current/E-Analysis/Combined_Data_V_FINAL.csv\"\n",
      "[1] \"2024-01-03 14:22:52 CET\"\n"
     ]
    }
   ],
   "source": [
    "path = paste0(result_path, '/E-Analysis/Combined_Data_',name,'.csv')\n",
    "print(path)\n",
    "data_long = read.csv(path)\n",
    "print(file.info(path)$mtime)"
   ]
  },
  {
   "cell_type": "code",
   "execution_count": 298,
   "id": "126a3bfb-1256-4c6b-b778-aeb0c6f1a343",
   "metadata": {},
   "outputs": [
    {
     "data": {
      "text/html": [
       "<table class=\"dataframe\">\n",
       "<caption>A data.frame: 2 × 6</caption>\n",
       "<thead>\n",
       "\t<tr><th></th><th scope=col>X</th><th scope=col>sample_id</th><th scope=col>type</th><th scope=col>variable</th><th scope=col>value</th><th scope=col>config</th></tr>\n",
       "\t<tr><th></th><th scope=col>&lt;int&gt;</th><th scope=col>&lt;chr&gt;</th><th scope=col>&lt;chr&gt;</th><th scope=col>&lt;chr&gt;</th><th scope=col>&lt;dbl&gt;</th><th scope=col>&lt;chr&gt;</th></tr>\n",
       "</thead>\n",
       "<tbody>\n",
       "\t<tr><th scope=row>1</th><td>1</td><td>k10</td><td>single_cell</td><td>X0_T.cell.CD4__SSU72</td><td>0.5896835</td><td>FALSE-FALSE-TRUE-0.2-FALSE-TRUE-</td></tr>\n",
       "\t<tr><th scope=row>2</th><td>2</td><td>k10</td><td>single_cell</td><td>X0_T.cell.CD4__PARK7</td><td>0.8587511</td><td>FALSE-FALSE-TRUE-0.2-FALSE-TRUE-</td></tr>\n",
       "</tbody>\n",
       "</table>\n"
      ],
      "text/latex": [
       "A data.frame: 2 × 6\n",
       "\\begin{tabular}{r|llllll}\n",
       "  & X & sample\\_id & type & variable & value & config\\\\\n",
       "  & <int> & <chr> & <chr> & <chr> & <dbl> & <chr>\\\\\n",
       "\\hline\n",
       "\t1 & 1 & k10 & single\\_cell & X0\\_T.cell.CD4\\_\\_SSU72 & 0.5896835 & FALSE-FALSE-TRUE-0.2-FALSE-TRUE-\\\\\n",
       "\t2 & 2 & k10 & single\\_cell & X0\\_T.cell.CD4\\_\\_PARK7 & 0.8587511 & FALSE-FALSE-TRUE-0.2-FALSE-TRUE-\\\\\n",
       "\\end{tabular}\n"
      ],
      "text/markdown": [
       "\n",
       "A data.frame: 2 × 6\n",
       "\n",
       "| <!--/--> | X &lt;int&gt; | sample_id &lt;chr&gt; | type &lt;chr&gt; | variable &lt;chr&gt; | value &lt;dbl&gt; | config &lt;chr&gt; |\n",
       "|---|---|---|---|---|---|---|\n",
       "| 1 | 1 | k10 | single_cell | X0_T.cell.CD4__SSU72 | 0.5896835 | FALSE-FALSE-TRUE-0.2-FALSE-TRUE- |\n",
       "| 2 | 2 | k10 | single_cell | X0_T.cell.CD4__PARK7 | 0.8587511 | FALSE-FALSE-TRUE-0.2-FALSE-TRUE- |\n",
       "\n"
      ],
      "text/plain": [
       "  X sample_id type        variable             value    \n",
       "1 1 k10       single_cell X0_T.cell.CD4__SSU72 0.5896835\n",
       "2 2 k10       single_cell X0_T.cell.CD4__PARK7 0.8587511\n",
       "  config                          \n",
       "1 FALSE-FALSE-TRUE-0.2-FALSE-TRUE-\n",
       "2 FALSE-FALSE-TRUE-0.2-FALSE-TRUE-"
      ]
     },
     "metadata": {},
     "output_type": "display_data"
    }
   ],
   "source": [
    "head(data_long,2)"
   ]
  },
  {
   "cell_type": "code",
   "execution_count": 299,
   "id": "5fc8233d-b29a-41cc-b9e7-06ffddb55a22",
   "metadata": {},
   "outputs": [
    {
     "data": {
      "text/html": [
       "1557939"
      ],
      "text/latex": [
       "1557939"
      ],
      "text/markdown": [
       "1557939"
      ],
      "text/plain": [
       "[1] 1557939"
      ]
     },
     "metadata": {},
     "output_type": "display_data"
    }
   ],
   "source": [
    "nrow(data_long)"
   ]
  },
  {
   "cell_type": "code",
   "execution_count": 300,
   "id": "db789d09-2390-4ab9-aba9-d0e2730752dc",
   "metadata": {},
   "outputs": [
    {
     "data": {
      "text/html": [
       "13289"
      ],
      "text/latex": [
       "13289"
      ],
      "text/markdown": [
       "13289"
      ],
      "text/plain": [
       "[1] 13289"
      ]
     },
     "metadata": {},
     "output_type": "display_data"
    }
   ],
   "source": [
    "length(unique(data_long$variable))"
   ]
  },
  {
   "cell_type": "markdown",
   "id": "0a077569-b065-469d-9d21-df4d73ecf422",
   "metadata": {
    "tags": []
   },
   "source": [
    "## Ligand Receptor Data"
   ]
  },
  {
   "cell_type": "code",
   "execution_count": 301,
   "id": "7c7fb68c-e0da-4d4a-b15a-cf9c6c97e7b4",
   "metadata": {},
   "outputs": [],
   "source": [
    "## Load ligand receptor interactions from nichenet "
   ]
  },
  {
   "cell_type": "code",
   "execution_count": 302,
   "id": "9699012a-a3f6-4e2b-86a1-0c98b182a8e7",
   "metadata": {},
   "outputs": [],
   "source": [
    "lr_network = readRDS(url(\"https://zenodo.org/record/3260758/files/lr_network.rds\")) # ligand receptor interactions"
   ]
  },
  {
   "cell_type": "code",
   "execution_count": 303,
   "id": "0439aa90-4c14-4714-81de-86753c5ba3cf",
   "metadata": {},
   "outputs": [
    {
     "data": {
      "text/html": [
       "<table class=\"dataframe\">\n",
       "<caption>A tibble: 2 × 4</caption>\n",
       "<thead>\n",
       "\t<tr><th scope=col>from</th><th scope=col>to</th><th scope=col>source</th><th scope=col>database</th></tr>\n",
       "\t<tr><th scope=col>&lt;chr&gt;</th><th scope=col>&lt;chr&gt;</th><th scope=col>&lt;chr&gt;</th><th scope=col>&lt;chr&gt;</th></tr>\n",
       "</thead>\n",
       "<tbody>\n",
       "\t<tr><td>CXCL1</td><td>CXCR2</td><td>kegg_cytokines</td><td>kegg</td></tr>\n",
       "\t<tr><td>CXCL2</td><td>CXCR2</td><td>kegg_cytokines</td><td>kegg</td></tr>\n",
       "</tbody>\n",
       "</table>\n"
      ],
      "text/latex": [
       "A tibble: 2 × 4\n",
       "\\begin{tabular}{llll}\n",
       " from & to & source & database\\\\\n",
       " <chr> & <chr> & <chr> & <chr>\\\\\n",
       "\\hline\n",
       "\t CXCL1 & CXCR2 & kegg\\_cytokines & kegg\\\\\n",
       "\t CXCL2 & CXCR2 & kegg\\_cytokines & kegg\\\\\n",
       "\\end{tabular}\n"
      ],
      "text/markdown": [
       "\n",
       "A tibble: 2 × 4\n",
       "\n",
       "| from &lt;chr&gt; | to &lt;chr&gt; | source &lt;chr&gt; | database &lt;chr&gt; |\n",
       "|---|---|---|---|\n",
       "| CXCL1 | CXCR2 | kegg_cytokines | kegg |\n",
       "| CXCL2 | CXCR2 | kegg_cytokines | kegg |\n",
       "\n"
      ],
      "text/plain": [
       "  from  to    source         database\n",
       "1 CXCL1 CXCR2 kegg_cytokines kegg    \n",
       "2 CXCL2 CXCR2 kegg_cytokines kegg    "
      ]
     },
     "metadata": {},
     "output_type": "display_data"
    }
   ],
   "source": [
    "head(lr_network,2)"
   ]
  },
  {
   "cell_type": "code",
   "execution_count": 304,
   "id": "76be70e6-58f7-4229-9096-1b6e36acccf7",
   "metadata": {},
   "outputs": [],
   "source": [
    "## Summarise to have only ligand or receptor assignment not double"
   ]
  },
  {
   "cell_type": "code",
   "execution_count": 305,
   "id": "9372b74d-318f-4838-867d-328b7941248a",
   "metadata": {},
   "outputs": [],
   "source": [
    "ligand_receptor_interactions = lr_network %>% group_by(from,to) %>% count()"
   ]
  },
  {
   "cell_type": "code",
   "execution_count": 306,
   "id": "33767995-6fba-4c90-9e4f-4bb8b237c489",
   "metadata": {},
   "outputs": [],
   "source": [
    "colnames(ligand_receptor_interactions) = c('Ligand', 'Receptor', 'amount_sources')"
   ]
  },
  {
   "cell_type": "code",
   "execution_count": 307,
   "id": "f6174978-a76f-40d8-9c71-2698e688f7b4",
   "metadata": {},
   "outputs": [
    {
     "data": {
      "text/html": [
       "<table class=\"dataframe\">\n",
       "<caption>A grouped_df: 2 × 3</caption>\n",
       "<thead>\n",
       "\t<tr><th scope=col>Ligand</th><th scope=col>Receptor</th><th scope=col>amount_sources</th></tr>\n",
       "\t<tr><th scope=col>&lt;chr&gt;</th><th scope=col>&lt;chr&gt;</th><th scope=col>&lt;int&gt;</th></tr>\n",
       "</thead>\n",
       "<tbody>\n",
       "\t<tr><td>A2M</td><td>LRP1    </td><td>1</td></tr>\n",
       "\t<tr><td>A2M</td><td>TNFRSF14</td><td>1</td></tr>\n",
       "</tbody>\n",
       "</table>\n"
      ],
      "text/latex": [
       "A grouped\\_df: 2 × 3\n",
       "\\begin{tabular}{lll}\n",
       " Ligand & Receptor & amount\\_sources\\\\\n",
       " <chr> & <chr> & <int>\\\\\n",
       "\\hline\n",
       "\t A2M & LRP1     & 1\\\\\n",
       "\t A2M & TNFRSF14 & 1\\\\\n",
       "\\end{tabular}\n"
      ],
      "text/markdown": [
       "\n",
       "A grouped_df: 2 × 3\n",
       "\n",
       "| Ligand &lt;chr&gt; | Receptor &lt;chr&gt; | amount_sources &lt;int&gt; |\n",
       "|---|---|---|\n",
       "| A2M | LRP1     | 1 |\n",
       "| A2M | TNFRSF14 | 1 |\n",
       "\n"
      ],
      "text/plain": [
       "  Ligand Receptor amount_sources\n",
       "1 A2M    LRP1     1             \n",
       "2 A2M    TNFRSF14 1             "
      ]
     },
     "metadata": {},
     "output_type": "display_data"
    }
   ],
   "source": [
    "head(ligand_receptor_interactions,2)"
   ]
  },
  {
   "cell_type": "code",
   "execution_count": 308,
   "id": "9eb4c6a2-e588-408f-b6fc-0f7c86abac85",
   "metadata": {},
   "outputs": [],
   "source": [
    "### Aggregate to contain only unique ligand-receptor interactions across different data sources"
   ]
  },
  {
   "cell_type": "code",
   "execution_count": 309,
   "id": "e3ffd5fa-677c-476d-9082-babe75735e35",
   "metadata": {},
   "outputs": [],
   "source": [
    "ligand_amounts = ligand_receptor_interactions %>% group_by(Ligand) %>% summarise(amount_l = sum(amount_sources))"
   ]
  },
  {
   "cell_type": "code",
   "execution_count": 310,
   "id": "a7aa8dff-aaae-4410-bef7-2aaae9366e09",
   "metadata": {},
   "outputs": [],
   "source": [
    "receptor_amounts = ligand_receptor_interactions %>% group_by(Receptor) %>% summarise(amount_r = sum(amount_sources))"
   ]
  },
  {
   "cell_type": "code",
   "execution_count": 311,
   "id": "4ea1be21-be31-4f73-b456-37169478be6e",
   "metadata": {},
   "outputs": [],
   "source": [
    "l_r_merged = merge(ligand_amounts, receptor_amounts, by.x = 'Ligand', by.y = 'Receptor')"
   ]
  },
  {
   "cell_type": "code",
   "execution_count": 312,
   "id": "8a79dc18-b5dd-4e67-aa55-b6136397c473",
   "metadata": {},
   "outputs": [],
   "source": [
    "ligand = l_r_merged$Ligand[l_r_merged$amount_l >= l_r_merged$amount_r]"
   ]
  },
  {
   "cell_type": "code",
   "execution_count": 313,
   "id": "2e77c390-00da-4e46-bbcd-7250f7f686b2",
   "metadata": {},
   "outputs": [],
   "source": [
    "receptor = l_r_merged$Ligand[l_r_merged$amount_l < l_r_merged$amount_r]"
   ]
  },
  {
   "cell_type": "code",
   "execution_count": 314,
   "id": "379fd38a-a70e-44db-a833-73b96112fb9f",
   "metadata": {},
   "outputs": [
    {
     "data": {
      "text/html": [
       "115"
      ],
      "text/latex": [
       "115"
      ],
      "text/markdown": [
       "115"
      ],
      "text/plain": [
       "[1] 115"
      ]
     },
     "metadata": {},
     "output_type": "display_data"
    }
   ],
   "source": [
    "nrow(l_r_merged)"
   ]
  },
  {
   "cell_type": "code",
   "execution_count": 315,
   "id": "07eeea0f-f1d5-4888-9262-7e8328f6db06",
   "metadata": {},
   "outputs": [
    {
     "data": {
      "text/html": [
       "<table class=\"dataframe\">\n",
       "<caption>A data.frame: 2 × 3</caption>\n",
       "<thead>\n",
       "\t<tr><th></th><th scope=col>Ligand</th><th scope=col>amount_l</th><th scope=col>amount_r</th></tr>\n",
       "\t<tr><th></th><th scope=col>&lt;chr&gt;</th><th scope=col>&lt;int&gt;</th><th scope=col>&lt;int&gt;</th></tr>\n",
       "</thead>\n",
       "<tbody>\n",
       "\t<tr><th scope=row>1</th><td>ALCAM </td><td>3</td><td>2</td></tr>\n",
       "\t<tr><th scope=row>2</th><td>AMIGO1</td><td>2</td><td>1</td></tr>\n",
       "</tbody>\n",
       "</table>\n"
      ],
      "text/latex": [
       "A data.frame: 2 × 3\n",
       "\\begin{tabular}{r|lll}\n",
       "  & Ligand & amount\\_l & amount\\_r\\\\\n",
       "  & <chr> & <int> & <int>\\\\\n",
       "\\hline\n",
       "\t1 & ALCAM  & 3 & 2\\\\\n",
       "\t2 & AMIGO1 & 2 & 1\\\\\n",
       "\\end{tabular}\n"
      ],
      "text/markdown": [
       "\n",
       "A data.frame: 2 × 3\n",
       "\n",
       "| <!--/--> | Ligand &lt;chr&gt; | amount_l &lt;int&gt; | amount_r &lt;int&gt; |\n",
       "|---|---|---|---|\n",
       "| 1 | ALCAM  | 3 | 2 |\n",
       "| 2 | AMIGO1 | 2 | 1 |\n",
       "\n"
      ],
      "text/plain": [
       "  Ligand amount_l amount_r\n",
       "1 ALCAM  3        2       \n",
       "2 AMIGO1 2        1       "
      ]
     },
     "metadata": {},
     "output_type": "display_data"
    }
   ],
   "source": [
    "head(l_r_merged,2)"
   ]
  },
  {
   "cell_type": "code",
   "execution_count": 316,
   "id": "677019a5-f8a9-4b83-9e27-2aeab665e012",
   "metadata": {},
   "outputs": [
    {
     "data": {
      "text/html": [
       "84"
      ],
      "text/latex": [
       "84"
      ],
      "text/markdown": [
       "84"
      ],
      "text/plain": [
       "[1] 84"
      ]
     },
     "metadata": {},
     "output_type": "display_data"
    }
   ],
   "source": [
    "length(ligand)  # amount ligands"
   ]
  },
  {
   "cell_type": "code",
   "execution_count": 317,
   "id": "bb368b72-cce0-458a-a4e4-dd2e6224193b",
   "metadata": {},
   "outputs": [
    {
     "data": {
      "text/html": [
       "31"
      ],
      "text/latex": [
       "31"
      ],
      "text/markdown": [
       "31"
      ],
      "text/plain": [
       "[1] 31"
      ]
     },
     "metadata": {},
     "output_type": "display_data"
    }
   ],
   "source": [
    "length(receptor)  # amount receptors"
   ]
  },
  {
   "cell_type": "code",
   "execution_count": 318,
   "id": "40ff416e-fea0-4356-a36a-b4c7eb8a5dd3",
   "metadata": {},
   "outputs": [],
   "source": [
    "### Filter out and decide whether it is a receptor or ligand"
   ]
  },
  {
   "cell_type": "code",
   "execution_count": 319,
   "id": "cbdb333d-637b-42fe-b26d-5add4a7b28cb",
   "metadata": {},
   "outputs": [
    {
     "data": {
      "text/html": [
       "<table class=\"dataframe\">\n",
       "<caption>A grouped_df: 2 × 3</caption>\n",
       "<thead>\n",
       "\t<tr><th scope=col>Ligand</th><th scope=col>Receptor</th><th scope=col>amount_sources</th></tr>\n",
       "\t<tr><th scope=col>&lt;chr&gt;</th><th scope=col>&lt;chr&gt;</th><th scope=col>&lt;int&gt;</th></tr>\n",
       "</thead>\n",
       "<tbody>\n",
       "\t<tr><td>A2M</td><td>LRP1    </td><td>1</td></tr>\n",
       "\t<tr><td>A2M</td><td>TNFRSF14</td><td>1</td></tr>\n",
       "</tbody>\n",
       "</table>\n"
      ],
      "text/latex": [
       "A grouped\\_df: 2 × 3\n",
       "\\begin{tabular}{lll}\n",
       " Ligand & Receptor & amount\\_sources\\\\\n",
       " <chr> & <chr> & <int>\\\\\n",
       "\\hline\n",
       "\t A2M & LRP1     & 1\\\\\n",
       "\t A2M & TNFRSF14 & 1\\\\\n",
       "\\end{tabular}\n"
      ],
      "text/markdown": [
       "\n",
       "A grouped_df: 2 × 3\n",
       "\n",
       "| Ligand &lt;chr&gt; | Receptor &lt;chr&gt; | amount_sources &lt;int&gt; |\n",
       "|---|---|---|\n",
       "| A2M | LRP1     | 1 |\n",
       "| A2M | TNFRSF14 | 1 |\n",
       "\n"
      ],
      "text/plain": [
       "  Ligand Receptor amount_sources\n",
       "1 A2M    LRP1     1             \n",
       "2 A2M    TNFRSF14 1             "
      ]
     },
     "metadata": {},
     "output_type": "display_data"
    }
   ],
   "source": [
    "head(ligand_receptor_interactions,2)"
   ]
  },
  {
   "cell_type": "code",
   "execution_count": 320,
   "id": "3b097b9b-9cbe-4b26-85db-7cf5c6fb1c1a",
   "metadata": {},
   "outputs": [],
   "source": [
    "ligand_receptor_interactions = ligand_receptor_interactions[!ligand_receptor_interactions$Receptor %in% ligand,]"
   ]
  },
  {
   "cell_type": "code",
   "execution_count": 321,
   "id": "8c6a6b28-81aa-4e80-85cf-9352224bc7d5",
   "metadata": {},
   "outputs": [],
   "source": [
    "ligand_receptor_interactions = ligand_receptor_interactions[!ligand_receptor_interactions$Ligand %in% receptor,]"
   ]
  },
  {
   "cell_type": "code",
   "execution_count": 322,
   "id": "40e083b4-3b56-4061-970b-4d1588665a55",
   "metadata": {},
   "outputs": [
    {
     "data": {
      "text/html": [
       "11639"
      ],
      "text/latex": [
       "11639"
      ],
      "text/markdown": [
       "11639"
      ],
      "text/plain": [
       "[1] 11639"
      ]
     },
     "metadata": {},
     "output_type": "display_data"
    }
   ],
   "source": [
    "nrow(ligand_receptor_interactions)"
   ]
  },
  {
   "cell_type": "code",
   "execution_count": 323,
   "id": "bbe47f2a-c4dc-4b6d-9b0a-695feae2a384",
   "metadata": {},
   "outputs": [],
   "source": [
    "## Generate a dataset specifying ligand and receptor genes"
   ]
  },
  {
   "cell_type": "code",
   "execution_count": 324,
   "id": "8c36e108-4550-47f3-a239-bac3a03f6e34",
   "metadata": {
    "tags": []
   },
   "outputs": [],
   "source": [
    "ligand_receptor_vars = rbind(data.frame(gene = ligand_receptor_interactions$Ligand, interaction_type = 'Ligand'), data.frame(gene = ligand_receptor_interactions$Receptor, interaction_type = 'Receptor'))"
   ]
  },
  {
   "cell_type": "code",
   "execution_count": 325,
   "id": "56fdf875-b311-4d7e-97c9-dc1f7ebd52d2",
   "metadata": {},
   "outputs": [],
   "source": [
    "ligand_receptor_vars = unique(ligand_receptor_vars)"
   ]
  },
  {
   "cell_type": "code",
   "execution_count": 326,
   "id": "33fd1c26-aa15-4f7f-b93c-40e17576d4b8",
   "metadata": {},
   "outputs": [
    {
     "data": {
      "text/html": [
       "<table class=\"dataframe\">\n",
       "<caption>A data.frame: 2 × 2</caption>\n",
       "<thead>\n",
       "\t<tr><th></th><th scope=col>gene</th><th scope=col>interaction_type</th></tr>\n",
       "\t<tr><th></th><th scope=col>&lt;chr&gt;</th><th scope=col>&lt;chr&gt;</th></tr>\n",
       "</thead>\n",
       "<tbody>\n",
       "\t<tr><th scope=row>1</th><td>A2M  </td><td>Ligand</td></tr>\n",
       "\t<tr><th scope=row>4</th><td>AANAT</td><td>Ligand</td></tr>\n",
       "</tbody>\n",
       "</table>\n"
      ],
      "text/latex": [
       "A data.frame: 2 × 2\n",
       "\\begin{tabular}{r|ll}\n",
       "  & gene & interaction\\_type\\\\\n",
       "  & <chr> & <chr>\\\\\n",
       "\\hline\n",
       "\t1 & A2M   & Ligand\\\\\n",
       "\t4 & AANAT & Ligand\\\\\n",
       "\\end{tabular}\n"
      ],
      "text/markdown": [
       "\n",
       "A data.frame: 2 × 2\n",
       "\n",
       "| <!--/--> | gene &lt;chr&gt; | interaction_type &lt;chr&gt; |\n",
       "|---|---|---|\n",
       "| 1 | A2M   | Ligand |\n",
       "| 4 | AANAT | Ligand |\n",
       "\n"
      ],
      "text/plain": [
       "  gene  interaction_type\n",
       "1 A2M   Ligand          \n",
       "4 AANAT Ligand          "
      ]
     },
     "metadata": {},
     "output_type": "display_data"
    }
   ],
   "source": [
    "head(ligand_receptor_vars,2)"
   ]
  },
  {
   "cell_type": "code",
   "execution_count": 327,
   "id": "c9129614-bfe8-447b-8aff-fd43415ac148",
   "metadata": {},
   "outputs": [
    {
     "data": {
      "text/html": [
       "1414"
      ],
      "text/latex": [
       "1414"
      ],
      "text/markdown": [
       "1414"
      ],
      "text/plain": [
       "[1] 1414"
      ]
     },
     "metadata": {},
     "output_type": "display_data"
    }
   ],
   "source": [
    "nrow(ligand_receptor_vars)"
   ]
  },
  {
   "cell_type": "code",
   "execution_count": 328,
   "id": "d91a51dd-0332-4e24-b8d6-d60b4d1bf653",
   "metadata": {},
   "outputs": [],
   "source": [
    "# remove empty spaces\n",
    "ligand_receptor_vars$gene = str_replace(ligand_receptor_vars$gene, ' ', '')"
   ]
  },
  {
   "cell_type": "markdown",
   "id": "7f977280-9d12-4b5b-b3c9-4c715443bbac",
   "metadata": {
    "tags": []
   },
   "source": [
    "## Available ligand receptor potential + transcription factor datasets from  nichenet"
   ]
  },
  {
   "cell_type": "code",
   "execution_count": 329,
   "id": "e489e0dc-7a6b-48c0-a6d4-b87dd5456fdb",
   "metadata": {},
   "outputs": [],
   "source": [
    "## Weighted networks"
   ]
  },
  {
   "cell_type": "code",
   "execution_count": 330,
   "id": "b5b53376-5c56-43fd-85b9-694972d38e02",
   "metadata": {},
   "outputs": [],
   "source": [
    "weighted_networks = readRDS(url(\"https://zenodo.org/record/3260758/files/weighted_networks.rds\")) # integrated weighted ligand-signaling and gene regulatory network"
   ]
  },
  {
   "cell_type": "code",
   "execution_count": 331,
   "id": "98be6e73-1cc4-443f-834b-46408c899c8c",
   "metadata": {},
   "outputs": [],
   "source": [
    "## Prepared influential matrices"
   ]
  },
  {
   "cell_type": "code",
   "execution_count": 332,
   "id": "218857a4-9abf-4155-b1d0-b220a9a84f6c",
   "metadata": {},
   "outputs": [],
   "source": [
    "ligand_target_matrix = readRDS(url(\"https://zenodo.org/record/3260758/files/ligand_target_matrix.rds\"))  # gene-gene regulatory scores\n",
    "# gives the regulatory potential of a target gene based on the ligand-tf & tf- target-gene links and weights of the signaling and gr network (multiply PPR of each ligand -tf  pair with the weights of the gr network)"
   ]
  },
  {
   "cell_type": "code",
   "execution_count": 333,
   "id": "fb475f82-0f33-43cb-a614-ea5428142561",
   "metadata": {},
   "outputs": [],
   "source": [
    "### Generate data in long format"
   ]
  },
  {
   "cell_type": "code",
   "execution_count": 334,
   "id": "fb089af0-96e9-469c-9e64-debf11e69b6c",
   "metadata": {},
   "outputs": [],
   "source": [
    "ligand_target_matrix_long = melt(ligand_target_matrix)"
   ]
  },
  {
   "cell_type": "code",
   "execution_count": 335,
   "id": "a27dddb7-4c9d-4f91-b8a9-522d1a2a9aac",
   "metadata": {},
   "outputs": [],
   "source": [
    "colnames(ligand_target_matrix_long) = c('target', 'ligand', 'regulatory_potential')"
   ]
  },
  {
   "cell_type": "code",
   "execution_count": 336,
   "id": "80e5fe18-967f-403e-a487-ea20378bc381",
   "metadata": {},
   "outputs": [
    {
     "data": {
      "text/html": [
       "<table class=\"dataframe\">\n",
       "<caption>A data.frame: 2 × 3</caption>\n",
       "<thead>\n",
       "\t<tr><th></th><th scope=col>target</th><th scope=col>ligand</th><th scope=col>regulatory_potential</th></tr>\n",
       "\t<tr><th></th><th scope=col>&lt;fct&gt;</th><th scope=col>&lt;fct&gt;</th><th scope=col>&lt;dbl&gt;</th></tr>\n",
       "</thead>\n",
       "<tbody>\n",
       "\t<tr><th scope=row>1</th><td>A1BG    </td><td>CXCL1</td><td>0.0003534343</td></tr>\n",
       "\t<tr><th scope=row>2</th><td>A1BG-AS1</td><td>CXCL1</td><td>0.0001650894</td></tr>\n",
       "</tbody>\n",
       "</table>\n"
      ],
      "text/latex": [
       "A data.frame: 2 × 3\n",
       "\\begin{tabular}{r|lll}\n",
       "  & target & ligand & regulatory\\_potential\\\\\n",
       "  & <fct> & <fct> & <dbl>\\\\\n",
       "\\hline\n",
       "\t1 & A1BG     & CXCL1 & 0.0003534343\\\\\n",
       "\t2 & A1BG-AS1 & CXCL1 & 0.0001650894\\\\\n",
       "\\end{tabular}\n"
      ],
      "text/markdown": [
       "\n",
       "A data.frame: 2 × 3\n",
       "\n",
       "| <!--/--> | target &lt;fct&gt; | ligand &lt;fct&gt; | regulatory_potential &lt;dbl&gt; |\n",
       "|---|---|---|---|\n",
       "| 1 | A1BG     | CXCL1 | 0.0003534343 |\n",
       "| 2 | A1BG-AS1 | CXCL1 | 0.0001650894 |\n",
       "\n"
      ],
      "text/plain": [
       "  target   ligand regulatory_potential\n",
       "1 A1BG     CXCL1  0.0003534343        \n",
       "2 A1BG-AS1 CXCL1  0.0001650894        "
      ]
     },
     "metadata": {},
     "output_type": "display_data"
    }
   ],
   "source": [
    "head(ligand_target_matrix_long,2)"
   ]
  },
  {
   "cell_type": "code",
   "execution_count": 337,
   "id": "d871bfeb-4931-4970-b0c6-bf0808c4965a",
   "metadata": {},
   "outputs": [
    {
     "data": {
      "text/html": [
       "688"
      ],
      "text/latex": [
       "688"
      ],
      "text/markdown": [
       "688"
      ],
      "text/plain": [
       "[1] 688"
      ]
     },
     "metadata": {},
     "output_type": "display_data"
    }
   ],
   "source": [
    "length(unique(ligand_target_matrix_long$ligand))"
   ]
  },
  {
   "cell_type": "markdown",
   "id": "e6ec2a5a-ee0f-498c-b2a3-217cbef10b92",
   "metadata": {
    "tags": []
   },
   "source": [
    "## Cell Gene Expression Data (percentage of cells expressing gene)"
   ]
  },
  {
   "cell_type": "code",
   "execution_count": 338,
   "id": "1ba1c9b9-bc3b-43ef-9480-0e73a4667e93",
   "metadata": {},
   "outputs": [],
   "source": [
    "## Load information about how many cells express a gene generated in C0 Script"
   ]
  },
  {
   "cell_type": "code",
   "execution_count": 339,
   "id": "66aff71b-4ad6-4196-a424-8d8ccf873e23",
   "metadata": {},
   "outputs": [
    {
     "name": "stdout",
     "output_type": "stream",
     "text": [
      "[1] \"2024-01-03 14:10:30 CET\"\n"
     ]
    }
   ],
   "source": [
    "path = paste0(result_path, '/C-Analysis/C0_Filter_Genes_Input_Correlations_Perc_Values.csv')\n",
    "cell_perc_cluster = read.csv( path) # cluster alternative\n",
    "print(file.info(path)$mtime)"
   ]
  },
  {
   "cell_type": "code",
   "execution_count": 340,
   "id": "637602d5-8dfa-4a03-a4ab-04b53cb37679",
   "metadata": {},
   "outputs": [],
   "source": [
    "### Filter on relevant cell types (clusters with low amount of cells per sample; similar to MOFA analysis)"
   ]
  },
  {
   "cell_type": "code",
   "execution_count": 341,
   "id": "e248ad84-cbca-4ca3-bf2f-8e4b2f894b1d",
   "metadata": {},
   "outputs": [],
   "source": [
    "cell_perc_cluster = cell_perc_cluster[!(cell_perc_cluster$cluster %in% c('16_Plasma Blast', '14_Other', '17_Progenitor', '15_Plasma Blast', '18_Megakaryocytes' ,'Plasma Blast', 'Other', 'Progenitor', 'Plasma Blast', 'Megakaryocytes' )),]"
   ]
  },
  {
   "cell_type": "code",
   "execution_count": 342,
   "id": "6cb18288-4fb6-4865-8158-81ab077ad6a5",
   "metadata": {},
   "outputs": [
    {
     "data": {
      "text/html": [
       "<style>\n",
       ".list-inline {list-style: none; margin:0; padding: 0}\n",
       ".list-inline>li {display: inline-block}\n",
       ".list-inline>li:not(:last-child)::after {content: \"\\00b7\"; padding: 0 .5ex}\n",
       "</style>\n",
       "<ol class=list-inline><li>'8_B-cell'</li><li>'9_Monocytes - CD16_FCGR3A'</li><li>'5_T-cell-CD4'</li><li>'0_T-cell-CD4'</li><li>'1_T-cell-CD8'</li><li>'6_Monocytes - CD14'</li><li>'2_T-cell-CD4'</li><li>'4_Monocytes - CD14'</li><li>'11_T-cell-CD4'</li><li>'3_NK'</li><li>'7_Monocytes - CD14'</li><li>'13_Dendritic'</li><li>'10_B-cell'</li><li>'12_Monocytes - CD16_FCGR3A'</li></ol>\n"
      ],
      "text/latex": [
       "\\begin{enumerate*}\n",
       "\\item '8\\_B-cell'\n",
       "\\item '9\\_Monocytes - CD16\\_FCGR3A'\n",
       "\\item '5\\_T-cell-CD4'\n",
       "\\item '0\\_T-cell-CD4'\n",
       "\\item '1\\_T-cell-CD8'\n",
       "\\item '6\\_Monocytes - CD14'\n",
       "\\item '2\\_T-cell-CD4'\n",
       "\\item '4\\_Monocytes - CD14'\n",
       "\\item '11\\_T-cell-CD4'\n",
       "\\item '3\\_NK'\n",
       "\\item '7\\_Monocytes - CD14'\n",
       "\\item '13\\_Dendritic'\n",
       "\\item '10\\_B-cell'\n",
       "\\item '12\\_Monocytes - CD16\\_FCGR3A'\n",
       "\\end{enumerate*}\n"
      ],
      "text/markdown": [
       "1. '8_B-cell'\n",
       "2. '9_Monocytes - CD16_FCGR3A'\n",
       "3. '5_T-cell-CD4'\n",
       "4. '0_T-cell-CD4'\n",
       "5. '1_T-cell-CD8'\n",
       "6. '6_Monocytes - CD14'\n",
       "7. '2_T-cell-CD4'\n",
       "8. '4_Monocytes - CD14'\n",
       "9. '11_T-cell-CD4'\n",
       "10. '3_NK'\n",
       "11. '7_Monocytes - CD14'\n",
       "12. '13_Dendritic'\n",
       "13. '10_B-cell'\n",
       "14. '12_Monocytes - CD16_FCGR3A'\n",
       "\n",
       "\n"
      ],
      "text/plain": [
       " [1] \"8_B-cell\"                   \"9_Monocytes - CD16_FCGR3A\" \n",
       " [3] \"5_T-cell-CD4\"               \"0_T-cell-CD4\"              \n",
       " [5] \"1_T-cell-CD8\"               \"6_Monocytes - CD14\"        \n",
       " [7] \"2_T-cell-CD4\"               \"4_Monocytes - CD14\"        \n",
       " [9] \"11_T-cell-CD4\"              \"3_NK\"                      \n",
       "[11] \"7_Monocytes - CD14\"         \"13_Dendritic\"              \n",
       "[13] \"10_B-cell\"                  \"12_Monocytes - CD16_FCGR3A\""
      ]
     },
     "metadata": {},
     "output_type": "display_data"
    }
   ],
   "source": [
    "unique(cell_perc_cluster$cluster)"
   ]
  },
  {
   "cell_type": "code",
   "execution_count": 343,
   "id": "ab758f80-4568-4fc0-b6ab-8ba007523410",
   "metadata": {},
   "outputs": [
    {
     "data": {
      "text/html": [
       "<table class=\"dataframe\">\n",
       "<caption>A data.frame: 2 × 5</caption>\n",
       "<thead>\n",
       "\t<tr><th></th><th scope=col>X</th><th scope=col>perc_cells_expressing_gene</th><th scope=col>total_amount_cells_expressing_gene</th><th scope=col>gene</th><th scope=col>cluster</th></tr>\n",
       "\t<tr><th></th><th scope=col>&lt;chr&gt;</th><th scope=col>&lt;dbl&gt;</th><th scope=col>&lt;int&gt;</th><th scope=col>&lt;chr&gt;</th><th scope=col>&lt;chr&gt;</th></tr>\n",
       "</thead>\n",
       "<tbody>\n",
       "\t<tr><th scope=row>1</th><td>AL627309.1</td><td>0.24327612</td><td>18</td><td>AL627309.1</td><td>8_B-cell</td></tr>\n",
       "\t<tr><th scope=row>2</th><td>AL627309.4</td><td>0.05406136</td><td> 4</td><td>AL627309.4</td><td>8_B-cell</td></tr>\n",
       "</tbody>\n",
       "</table>\n"
      ],
      "text/latex": [
       "A data.frame: 2 × 5\n",
       "\\begin{tabular}{r|lllll}\n",
       "  & X & perc\\_cells\\_expressing\\_gene & total\\_amount\\_cells\\_expressing\\_gene & gene & cluster\\\\\n",
       "  & <chr> & <dbl> & <int> & <chr> & <chr>\\\\\n",
       "\\hline\n",
       "\t1 & AL627309.1 & 0.24327612 & 18 & AL627309.1 & 8\\_B-cell\\\\\n",
       "\t2 & AL627309.4 & 0.05406136 &  4 & AL627309.4 & 8\\_B-cell\\\\\n",
       "\\end{tabular}\n"
      ],
      "text/markdown": [
       "\n",
       "A data.frame: 2 × 5\n",
       "\n",
       "| <!--/--> | X &lt;chr&gt; | perc_cells_expressing_gene &lt;dbl&gt; | total_amount_cells_expressing_gene &lt;int&gt; | gene &lt;chr&gt; | cluster &lt;chr&gt; |\n",
       "|---|---|---|---|---|---|\n",
       "| 1 | AL627309.1 | 0.24327612 | 18 | AL627309.1 | 8_B-cell |\n",
       "| 2 | AL627309.4 | 0.05406136 |  4 | AL627309.4 | 8_B-cell |\n",
       "\n"
      ],
      "text/plain": [
       "  X          perc_cells_expressing_gene total_amount_cells_expressing_gene\n",
       "1 AL627309.1 0.24327612                 18                                \n",
       "2 AL627309.4 0.05406136                  4                                \n",
       "  gene       cluster \n",
       "1 AL627309.1 8_B-cell\n",
       "2 AL627309.4 8_B-cell"
      ]
     },
     "metadata": {},
     "output_type": "display_data"
    }
   ],
   "source": [
    "head(cell_perc_cluster,2)"
   ]
  },
  {
   "cell_type": "markdown",
   "id": "663e9dbc-c818-4c80-bc91-5757eb1da480",
   "metadata": {
    "tags": []
   },
   "source": [
    "# Data Preparations"
   ]
  },
  {
   "cell_type": "markdown",
   "id": "7f795ec1-31e8-4b45-815b-81fe4e0c0853",
   "metadata": {
    "tags": []
   },
   "source": [
    "## Prepare list of cytokines in data"
   ]
  },
  {
   "cell_type": "code",
   "execution_count": 344,
   "id": "9b4a14f3-2995-443e-9f9b-8d7be93fa2fe",
   "metadata": {},
   "outputs": [],
   "source": [
    "## determine all cytokines in input data"
   ]
  },
  {
   "cell_type": "code",
   "execution_count": 345,
   "id": "057902db-f598-4038-b934-a1c665ac62d8",
   "metadata": {},
   "outputs": [
    {
     "data": {
      "text/html": [
       "<table class=\"dataframe\">\n",
       "<caption>A data.frame: 2 × 6</caption>\n",
       "<thead>\n",
       "\t<tr><th></th><th scope=col>X</th><th scope=col>sample_id</th><th scope=col>type</th><th scope=col>variable</th><th scope=col>value</th><th scope=col>config</th></tr>\n",
       "\t<tr><th></th><th scope=col>&lt;int&gt;</th><th scope=col>&lt;chr&gt;</th><th scope=col>&lt;chr&gt;</th><th scope=col>&lt;chr&gt;</th><th scope=col>&lt;dbl&gt;</th><th scope=col>&lt;chr&gt;</th></tr>\n",
       "</thead>\n",
       "<tbody>\n",
       "\t<tr><th scope=row>1</th><td>1</td><td>k10</td><td>single_cell</td><td>X0_T.cell.CD4__SSU72</td><td>0.5896835</td><td>FALSE-FALSE-TRUE-0.2-FALSE-TRUE-</td></tr>\n",
       "\t<tr><th scope=row>2</th><td>2</td><td>k10</td><td>single_cell</td><td>X0_T.cell.CD4__PARK7</td><td>0.8587511</td><td>FALSE-FALSE-TRUE-0.2-FALSE-TRUE-</td></tr>\n",
       "</tbody>\n",
       "</table>\n"
      ],
      "text/latex": [
       "A data.frame: 2 × 6\n",
       "\\begin{tabular}{r|llllll}\n",
       "  & X & sample\\_id & type & variable & value & config\\\\\n",
       "  & <int> & <chr> & <chr> & <chr> & <dbl> & <chr>\\\\\n",
       "\\hline\n",
       "\t1 & 1 & k10 & single\\_cell & X0\\_T.cell.CD4\\_\\_SSU72 & 0.5896835 & FALSE-FALSE-TRUE-0.2-FALSE-TRUE-\\\\\n",
       "\t2 & 2 & k10 & single\\_cell & X0\\_T.cell.CD4\\_\\_PARK7 & 0.8587511 & FALSE-FALSE-TRUE-0.2-FALSE-TRUE-\\\\\n",
       "\\end{tabular}\n"
      ],
      "text/markdown": [
       "\n",
       "A data.frame: 2 × 6\n",
       "\n",
       "| <!--/--> | X &lt;int&gt; | sample_id &lt;chr&gt; | type &lt;chr&gt; | variable &lt;chr&gt; | value &lt;dbl&gt; | config &lt;chr&gt; |\n",
       "|---|---|---|---|---|---|---|\n",
       "| 1 | 1 | k10 | single_cell | X0_T.cell.CD4__SSU72 | 0.5896835 | FALSE-FALSE-TRUE-0.2-FALSE-TRUE- |\n",
       "| 2 | 2 | k10 | single_cell | X0_T.cell.CD4__PARK7 | 0.8587511 | FALSE-FALSE-TRUE-0.2-FALSE-TRUE- |\n",
       "\n"
      ],
      "text/plain": [
       "  X sample_id type        variable             value    \n",
       "1 1 k10       single_cell X0_T.cell.CD4__SSU72 0.5896835\n",
       "2 2 k10       single_cell X0_T.cell.CD4__PARK7 0.8587511\n",
       "  config                          \n",
       "1 FALSE-FALSE-TRUE-0.2-FALSE-TRUE-\n",
       "2 FALSE-FALSE-TRUE-0.2-FALSE-TRUE-"
      ]
     },
     "metadata": {},
     "output_type": "display_data"
    }
   ],
   "source": [
    "head(data_long,2)"
   ]
  },
  {
   "cell_type": "code",
   "execution_count": 346,
   "id": "15f87b86-6183-4aa3-94dd-dfc3cd2eef43",
   "metadata": {},
   "outputs": [],
   "source": [
    "cytokines = unique(data_long$variable[data_long$type == 'cytokine'])"
   ]
  },
  {
   "cell_type": "code",
   "execution_count": 347,
   "id": "9a0e272a-a40f-440a-ba1a-a2dd078806e4",
   "metadata": {},
   "outputs": [
    {
     "data": {
      "text/html": [
       "<style>\n",
       ".list-inline {list-style: none; margin:0; padding: 0}\n",
       ".list-inline>li {display: inline-block}\n",
       ".list-inline>li:not(:last-child)::after {content: \"\\00b7\"; padding: 0 .5ex}\n",
       "</style>\n",
       "<ol class=list-inline><li>'BCA1__CXCL13'</li><li>'CTACK__CCL27'</li><li>'EGF__EGF'</li><li>'ENA78__CXCL5'</li><li>'Eotaxin__CCL11'</li><li>'Eotaxin2__CCL24'</li></ol>\n"
      ],
      "text/latex": [
       "\\begin{enumerate*}\n",
       "\\item 'BCA1\\_\\_CXCL13'\n",
       "\\item 'CTACK\\_\\_CCL27'\n",
       "\\item 'EGF\\_\\_EGF'\n",
       "\\item 'ENA78\\_\\_CXCL5'\n",
       "\\item 'Eotaxin\\_\\_CCL11'\n",
       "\\item 'Eotaxin2\\_\\_CCL24'\n",
       "\\end{enumerate*}\n"
      ],
      "text/markdown": [
       "1. 'BCA1__CXCL13'\n",
       "2. 'CTACK__CCL27'\n",
       "3. 'EGF__EGF'\n",
       "4. 'ENA78__CXCL5'\n",
       "5. 'Eotaxin__CCL11'\n",
       "6. 'Eotaxin2__CCL24'\n",
       "\n",
       "\n"
      ],
      "text/plain": [
       "[1] \"BCA1__CXCL13\"    \"CTACK__CCL27\"    \"EGF__EGF\"        \"ENA78__CXCL5\"   \n",
       "[5] \"Eotaxin__CCL11\"  \"Eotaxin2__CCL24\""
      ]
     },
     "metadata": {},
     "output_type": "display_data"
    }
   ],
   "source": [
    "head(cytokines)"
   ]
  },
  {
   "cell_type": "code",
   "execution_count": 348,
   "id": "796d030c-fed8-49eb-ab76-8ffaeeeb1d94",
   "metadata": {},
   "outputs": [],
   "source": [
    "cytokines = str_replace(cytokines, '.*__', '') # extract gene code from cytokines"
   ]
  },
  {
   "cell_type": "code",
   "execution_count": 349,
   "id": "33a0a3b2-876e-4bd5-89a3-6161b21d414e",
   "metadata": {},
   "outputs": [
    {
     "data": {
      "text/html": [
       "<style>\n",
       ".list-inline {list-style: none; margin:0; padding: 0}\n",
       ".list-inline>li {display: inline-block}\n",
       ".list-inline>li:not(:last-child)::after {content: \"\\00b7\"; padding: 0 .5ex}\n",
       "</style>\n",
       "<ol class=list-inline><li>'CXCL13'</li><li>'CCL27'</li><li>'EGF'</li><li>'CXCL5'</li><li>'CCL11'</li><li>'CCL24'</li></ol>\n"
      ],
      "text/latex": [
       "\\begin{enumerate*}\n",
       "\\item 'CXCL13'\n",
       "\\item 'CCL27'\n",
       "\\item 'EGF'\n",
       "\\item 'CXCL5'\n",
       "\\item 'CCL11'\n",
       "\\item 'CCL24'\n",
       "\\end{enumerate*}\n"
      ],
      "text/markdown": [
       "1. 'CXCL13'\n",
       "2. 'CCL27'\n",
       "3. 'EGF'\n",
       "4. 'CXCL5'\n",
       "5. 'CCL11'\n",
       "6. 'CCL24'\n",
       "\n",
       "\n"
      ],
      "text/plain": [
       "[1] \"CXCL13\" \"CCL27\"  \"EGF\"    \"CXCL5\"  \"CCL11\"  \"CCL24\" "
      ]
     },
     "metadata": {},
     "output_type": "display_data"
    }
   ],
   "source": [
    "head(cytokines)"
   ]
  },
  {
   "cell_type": "code",
   "execution_count": 350,
   "id": "63d66c8c-9338-4670-98b9-5c8e3da23694",
   "metadata": {},
   "outputs": [
    {
     "data": {
      "text/html": [
       "1236"
      ],
      "text/latex": [
       "1236"
      ],
      "text/markdown": [
       "1236"
      ],
      "text/plain": [
       "[1] 1236"
      ]
     },
     "metadata": {},
     "output_type": "display_data"
    }
   ],
   "source": [
    "nrow(ligand_receptor_interactions[ligand_receptor_interactions$Ligand %in% cytokines,])  # check how many ligand receptor interactions contain cytokine ligand"
   ]
  },
  {
   "cell_type": "markdown",
   "id": "45e5085a-e03e-4220-b5ac-e24bb59ce434",
   "metadata": {
    "tags": []
   },
   "source": [
    "## Adjustments on input data"
   ]
  },
  {
   "cell_type": "markdown",
   "id": "a89f9812-3b9f-49a4-8377-967f37c2d635",
   "metadata": {},
   "source": [
    "### Filter samples (optional)"
   ]
  },
  {
   "cell_type": "code",
   "execution_count": 351,
   "id": "c66b8840-471e-426a-9427-a97d3b6f28cc",
   "metadata": {},
   "outputs": [],
   "source": [
    "## filter out some samples if specified in the beginning"
   ]
  },
  {
   "cell_type": "code",
   "execution_count": 352,
   "id": "c02dca7f-62b6-450f-948c-bbe80f51499e",
   "metadata": {},
   "outputs": [
    {
     "data": {
      "text/html": [
       "<table class=\"dataframe\">\n",
       "<caption>A data.frame: 2 × 6</caption>\n",
       "<thead>\n",
       "\t<tr><th></th><th scope=col>X</th><th scope=col>sample_id</th><th scope=col>type</th><th scope=col>variable</th><th scope=col>value</th><th scope=col>config</th></tr>\n",
       "\t<tr><th></th><th scope=col>&lt;int&gt;</th><th scope=col>&lt;chr&gt;</th><th scope=col>&lt;chr&gt;</th><th scope=col>&lt;chr&gt;</th><th scope=col>&lt;dbl&gt;</th><th scope=col>&lt;chr&gt;</th></tr>\n",
       "</thead>\n",
       "<tbody>\n",
       "\t<tr><th scope=row>1</th><td>1</td><td>k10</td><td>single_cell</td><td>X0_T.cell.CD4__SSU72</td><td>0.5896835</td><td>FALSE-FALSE-TRUE-0.2-FALSE-TRUE-</td></tr>\n",
       "\t<tr><th scope=row>2</th><td>2</td><td>k10</td><td>single_cell</td><td>X0_T.cell.CD4__PARK7</td><td>0.8587511</td><td>FALSE-FALSE-TRUE-0.2-FALSE-TRUE-</td></tr>\n",
       "</tbody>\n",
       "</table>\n"
      ],
      "text/latex": [
       "A data.frame: 2 × 6\n",
       "\\begin{tabular}{r|llllll}\n",
       "  & X & sample\\_id & type & variable & value & config\\\\\n",
       "  & <int> & <chr> & <chr> & <chr> & <dbl> & <chr>\\\\\n",
       "\\hline\n",
       "\t1 & 1 & k10 & single\\_cell & X0\\_T.cell.CD4\\_\\_SSU72 & 0.5896835 & FALSE-FALSE-TRUE-0.2-FALSE-TRUE-\\\\\n",
       "\t2 & 2 & k10 & single\\_cell & X0\\_T.cell.CD4\\_\\_PARK7 & 0.8587511 & FALSE-FALSE-TRUE-0.2-FALSE-TRUE-\\\\\n",
       "\\end{tabular}\n"
      ],
      "text/markdown": [
       "\n",
       "A data.frame: 2 × 6\n",
       "\n",
       "| <!--/--> | X &lt;int&gt; | sample_id &lt;chr&gt; | type &lt;chr&gt; | variable &lt;chr&gt; | value &lt;dbl&gt; | config &lt;chr&gt; |\n",
       "|---|---|---|---|---|---|---|\n",
       "| 1 | 1 | k10 | single_cell | X0_T.cell.CD4__SSU72 | 0.5896835 | FALSE-FALSE-TRUE-0.2-FALSE-TRUE- |\n",
       "| 2 | 2 | k10 | single_cell | X0_T.cell.CD4__PARK7 | 0.8587511 | FALSE-FALSE-TRUE-0.2-FALSE-TRUE- |\n",
       "\n"
      ],
      "text/plain": [
       "  X sample_id type        variable             value    \n",
       "1 1 k10       single_cell X0_T.cell.CD4__SSU72 0.5896835\n",
       "2 2 k10       single_cell X0_T.cell.CD4__PARK7 0.8587511\n",
       "  config                          \n",
       "1 FALSE-FALSE-TRUE-0.2-FALSE-TRUE-\n",
       "2 FALSE-FALSE-TRUE-0.2-FALSE-TRUE-"
      ]
     },
     "metadata": {},
     "output_type": "display_data"
    }
   ],
   "source": [
    "head(data_long,2)"
   ]
  },
  {
   "cell_type": "code",
   "execution_count": 353,
   "id": "cde8fd1c-8200-49d2-bf72-e01d33bd77e9",
   "metadata": {},
   "outputs": [
    {
     "data": {
      "text/html": [
       "<style>\n",
       ".list-inline {list-style: none; margin:0; padding: 0}\n",
       ".list-inline>li {display: inline-block}\n",
       ".list-inline>li:not(:last-child)::after {content: \"\\00b7\"; padding: 0 .5ex}\n",
       "</style>\n",
       "<ol class=list-inline><li>'vollstaendiger_ausschluss'</li><li>'ccs'</li><li>'koronarsklerose'</li><li>'acs_subacute'</li><li>'acs_w_infection'</li><li>'acs_w_o_infection'</li></ol>\n"
      ],
      "text/latex": [
       "\\begin{enumerate*}\n",
       "\\item 'vollstaendiger\\_ausschluss'\n",
       "\\item 'ccs'\n",
       "\\item 'koronarsklerose'\n",
       "\\item 'acs\\_subacute'\n",
       "\\item 'acs\\_w\\_infection'\n",
       "\\item 'acs\\_w\\_o\\_infection'\n",
       "\\end{enumerate*}\n"
      ],
      "text/markdown": [
       "1. 'vollstaendiger_ausschluss'\n",
       "2. 'ccs'\n",
       "3. 'koronarsklerose'\n",
       "4. 'acs_subacute'\n",
       "5. 'acs_w_infection'\n",
       "6. 'acs_w_o_infection'\n",
       "\n",
       "\n"
      ],
      "text/plain": [
       "[1] \"vollstaendiger_ausschluss\" \"ccs\"                      \n",
       "[3] \"koronarsklerose\"           \"acs_subacute\"             \n",
       "[5] \"acs_w_infection\"           \"acs_w_o_infection\"        "
      ]
     },
     "metadata": {},
     "output_type": "display_data"
    }
   ],
   "source": [
    "unique(sample_data$classification)"
   ]
  },
  {
   "cell_type": "code",
   "execution_count": 354,
   "id": "7c5c9e60-e52a-46ad-8e93-5ad018306922",
   "metadata": {},
   "outputs": [],
   "source": [
    "if(filter_samples == 'all'){\n",
    "    filter = unique(sample_data$sample_id)\n",
    "    }\n",
    "\n",
    "\n",
    "if(filter_samples == 'acs_w_o_infection_ccs'){\n",
    "    filter =unique(sample_data$sample_id[sample_data$classification %in% c('ccs', 'acs_w_o_infection')])\n",
    "    \n",
    "    }\n",
    "\n",
    "if(filter_samples == 'no_ccs_ccs'){\n",
    "    filter =unique(sample_data$sample_id[sample_data$classification %in% c('vollstaendiger_ausschluss','ccs','koronarsklerose')])\n",
    "    \n",
    "    }"
   ]
  },
  {
   "cell_type": "code",
   "execution_count": 355,
   "id": "6715853e-8f7b-4b25-a8fb-b9458ee0bc21",
   "metadata": {},
   "outputs": [
    {
     "data": {
      "text/html": [
       "146"
      ],
      "text/latex": [
       "146"
      ],
      "text/markdown": [
       "146"
      ],
      "text/plain": [
       "[1] 146"
      ]
     },
     "metadata": {},
     "output_type": "display_data"
    }
   ],
   "source": [
    "length(filter)"
   ]
  },
  {
   "cell_type": "code",
   "execution_count": 356,
   "id": "a2e20c9f-7c75-4119-a9f3-b430b6a2d72c",
   "metadata": {},
   "outputs": [],
   "source": [
    "#filter"
   ]
  },
  {
   "cell_type": "code",
   "execution_count": 357,
   "id": "9242c888-c0b6-4a94-ab4d-dd9415b698d0",
   "metadata": {},
   "outputs": [
    {
     "data": {
      "text/html": [
       "1557939"
      ],
      "text/latex": [
       "1557939"
      ],
      "text/markdown": [
       "1557939"
      ],
      "text/plain": [
       "[1] 1557939"
      ]
     },
     "metadata": {},
     "output_type": "display_data"
    }
   ],
   "source": [
    "nrow(data_long)"
   ]
  },
  {
   "cell_type": "code",
   "execution_count": 358,
   "id": "a9378624-840d-4fc5-b03b-c73cc06873c0",
   "metadata": {},
   "outputs": [],
   "source": [
    "data_long = data_long[data_long$sample_id %in% filter,]"
   ]
  },
  {
   "cell_type": "code",
   "execution_count": 359,
   "id": "bd1bedae-c7fe-4315-a6cb-c7ccab913490",
   "metadata": {},
   "outputs": [
    {
     "data": {
      "text/html": [
       "<table class=\"dataframe\">\n",
       "<caption>A data.frame: 2 × 6</caption>\n",
       "<thead>\n",
       "\t<tr><th></th><th scope=col>X</th><th scope=col>sample_id</th><th scope=col>type</th><th scope=col>variable</th><th scope=col>value</th><th scope=col>config</th></tr>\n",
       "\t<tr><th></th><th scope=col>&lt;int&gt;</th><th scope=col>&lt;chr&gt;</th><th scope=col>&lt;chr&gt;</th><th scope=col>&lt;chr&gt;</th><th scope=col>&lt;dbl&gt;</th><th scope=col>&lt;chr&gt;</th></tr>\n",
       "</thead>\n",
       "<tbody>\n",
       "\t<tr><th scope=row>1</th><td>1</td><td>k10</td><td>single_cell</td><td>X0_T.cell.CD4__SSU72</td><td>0.5896835</td><td>FALSE-FALSE-TRUE-0.2-FALSE-TRUE-</td></tr>\n",
       "\t<tr><th scope=row>2</th><td>2</td><td>k10</td><td>single_cell</td><td>X0_T.cell.CD4__PARK7</td><td>0.8587511</td><td>FALSE-FALSE-TRUE-0.2-FALSE-TRUE-</td></tr>\n",
       "</tbody>\n",
       "</table>\n"
      ],
      "text/latex": [
       "A data.frame: 2 × 6\n",
       "\\begin{tabular}{r|llllll}\n",
       "  & X & sample\\_id & type & variable & value & config\\\\\n",
       "  & <int> & <chr> & <chr> & <chr> & <dbl> & <chr>\\\\\n",
       "\\hline\n",
       "\t1 & 1 & k10 & single\\_cell & X0\\_T.cell.CD4\\_\\_SSU72 & 0.5896835 & FALSE-FALSE-TRUE-0.2-FALSE-TRUE-\\\\\n",
       "\t2 & 2 & k10 & single\\_cell & X0\\_T.cell.CD4\\_\\_PARK7 & 0.8587511 & FALSE-FALSE-TRUE-0.2-FALSE-TRUE-\\\\\n",
       "\\end{tabular}\n"
      ],
      "text/markdown": [
       "\n",
       "A data.frame: 2 × 6\n",
       "\n",
       "| <!--/--> | X &lt;int&gt; | sample_id &lt;chr&gt; | type &lt;chr&gt; | variable &lt;chr&gt; | value &lt;dbl&gt; | config &lt;chr&gt; |\n",
       "|---|---|---|---|---|---|---|\n",
       "| 1 | 1 | k10 | single_cell | X0_T.cell.CD4__SSU72 | 0.5896835 | FALSE-FALSE-TRUE-0.2-FALSE-TRUE- |\n",
       "| 2 | 2 | k10 | single_cell | X0_T.cell.CD4__PARK7 | 0.8587511 | FALSE-FALSE-TRUE-0.2-FALSE-TRUE- |\n",
       "\n"
      ],
      "text/plain": [
       "  X sample_id type        variable             value    \n",
       "1 1 k10       single_cell X0_T.cell.CD4__SSU72 0.5896835\n",
       "2 2 k10       single_cell X0_T.cell.CD4__PARK7 0.8587511\n",
       "  config                          \n",
       "1 FALSE-FALSE-TRUE-0.2-FALSE-TRUE-\n",
       "2 FALSE-FALSE-TRUE-0.2-FALSE-TRUE-"
      ]
     },
     "metadata": {},
     "output_type": "display_data"
    }
   ],
   "source": [
    "head(data_long,2)"
   ]
  },
  {
   "cell_type": "code",
   "execution_count": 360,
   "id": "cb94911c-51a9-481b-9f4d-fc62e6cd83e4",
   "metadata": {},
   "outputs": [
    {
     "data": {
      "text/html": [
       "1557939"
      ],
      "text/latex": [
       "1557939"
      ],
      "text/markdown": [
       "1557939"
      ],
      "text/plain": [
       "[1] 1557939"
      ]
     },
     "metadata": {},
     "output_type": "display_data"
    }
   ],
   "source": [
    "nrow(data_long)"
   ]
  },
  {
   "cell_type": "markdown",
   "id": "2489aedb-b0e5-4551-824d-32022ccce2af",
   "metadata": {
    "tags": []
   },
   "source": [
    "### Filter on expression"
   ]
  },
  {
   "cell_type": "code",
   "execution_count": 361,
   "id": "e5a1f65c-ac3f-4a86-b1c6-35bc90759e34",
   "metadata": {},
   "outputs": [],
   "source": [
    "## Filter out features with low expression (as in E2 script)"
   ]
  },
  {
   "cell_type": "code",
   "execution_count": 362,
   "id": "3e943b19-a354-4993-89f4-cfa3c4808fd9",
   "metadata": {},
   "outputs": [],
   "source": [
    "data_long$expression = TRUE"
   ]
  },
  {
   "cell_type": "code",
   "execution_count": 363,
   "id": "d26209ca-574b-44e5-a3d3-9e4fb09b7479",
   "metadata": {},
   "outputs": [],
   "source": [
    "data_long$expression[data_long$value == 0] = FALSE"
   ]
  },
  {
   "cell_type": "code",
   "execution_count": 364,
   "id": "bdb68a11-5c3f-4f8a-9df7-df078e36f206",
   "metadata": {},
   "outputs": [
    {
     "name": "stderr",
     "output_type": "stream",
     "text": [
      "\u001b[1m\u001b[22m`summarise()` has grouped output by 'type'. You can override using the\n",
      "`.groups` argument.\n"
     ]
    }
   ],
   "source": [
    "expression_filter = data_long %>% group_by(type, variable) %>% summarise(perc_expression = sum(expression)  )"
   ]
  },
  {
   "cell_type": "code",
   "execution_count": 365,
   "id": "e956950f-2cf0-4ce5-b4a1-50d07c754ec2",
   "metadata": {},
   "outputs": [],
   "source": [
    "expression_filter$perc_expression = expression_filter$perc_expression / length(unique(data_long$sample_id))"
   ]
  },
  {
   "cell_type": "code",
   "execution_count": 366,
   "id": "ebe460c4-3b93-481e-b49c-464a01495ccb",
   "metadata": {},
   "outputs": [],
   "source": [
    "filtered_out = expression_filter[expression_filter$perc_expression <= 0.2,]  # threshold: minimum expression in 20% of samples"
   ]
  },
  {
   "cell_type": "code",
   "execution_count": 367,
   "id": "617706f1-e0b5-4967-9701-ab15051148fa",
   "metadata": {},
   "outputs": [],
   "source": [
    "expression_filter = expression_filter[expression_filter$perc_expression > 0.2,]"
   ]
  },
  {
   "cell_type": "code",
   "execution_count": 368,
   "id": "ea3e17bf-f2e1-4d5f-9386-4b03edc590aa",
   "metadata": {},
   "outputs": [
    {
     "data": {
      "text/html": [
       "13283"
      ],
      "text/latex": [
       "13283"
      ],
      "text/markdown": [
       "13283"
      ],
      "text/plain": [
       "[1] 13283"
      ]
     },
     "metadata": {},
     "output_type": "display_data"
    }
   ],
   "source": [
    "nrow(expression_filter)"
   ]
  },
  {
   "cell_type": "code",
   "execution_count": 369,
   "id": "d2049aa5-cbd2-4b79-9d5c-856755e7921e",
   "metadata": {},
   "outputs": [
    {
     "data": {
      "text/html": [
       "<table class=\"dataframe\">\n",
       "<caption>A grouped_df: 6 × 3</caption>\n",
       "<thead>\n",
       "\t<tr><th scope=col>type</th><th scope=col>variable</th><th scope=col>perc_expression</th></tr>\n",
       "\t<tr><th scope=col>&lt;chr&gt;</th><th scope=col>&lt;chr&gt;</th><th scope=col>&lt;dbl&gt;</th></tr>\n",
       "</thead>\n",
       "<tbody>\n",
       "\t<tr><td>cytokine</td><td>IL16__IL16 </td><td>0.0890411</td></tr>\n",
       "\t<tr><td>cytokine</td><td>IL21__IL21 </td><td>0.1575342</td></tr>\n",
       "\t<tr><td>cytokine</td><td>IL23__IL23 </td><td>0.1506849</td></tr>\n",
       "\t<tr><td>cytokine</td><td>IL28A__IL28</td><td>0.1027397</td></tr>\n",
       "\t<tr><td>cytokine</td><td>IL33__IL33 </td><td>0.1643836</td></tr>\n",
       "\t<tr><td>cytokine</td><td>TSLP__TSLP </td><td>0.1780822</td></tr>\n",
       "</tbody>\n",
       "</table>\n"
      ],
      "text/latex": [
       "A grouped\\_df: 6 × 3\n",
       "\\begin{tabular}{lll}\n",
       " type & variable & perc\\_expression\\\\\n",
       " <chr> & <chr> & <dbl>\\\\\n",
       "\\hline\n",
       "\t cytokine & IL16\\_\\_IL16  & 0.0890411\\\\\n",
       "\t cytokine & IL21\\_\\_IL21  & 0.1575342\\\\\n",
       "\t cytokine & IL23\\_\\_IL23  & 0.1506849\\\\\n",
       "\t cytokine & IL28A\\_\\_IL28 & 0.1027397\\\\\n",
       "\t cytokine & IL33\\_\\_IL33  & 0.1643836\\\\\n",
       "\t cytokine & TSLP\\_\\_TSLP  & 0.1780822\\\\\n",
       "\\end{tabular}\n"
      ],
      "text/markdown": [
       "\n",
       "A grouped_df: 6 × 3\n",
       "\n",
       "| type &lt;chr&gt; | variable &lt;chr&gt; | perc_expression &lt;dbl&gt; |\n",
       "|---|---|---|\n",
       "| cytokine | IL16__IL16  | 0.0890411 |\n",
       "| cytokine | IL21__IL21  | 0.1575342 |\n",
       "| cytokine | IL23__IL23  | 0.1506849 |\n",
       "| cytokine | IL28A__IL28 | 0.1027397 |\n",
       "| cytokine | IL33__IL33  | 0.1643836 |\n",
       "| cytokine | TSLP__TSLP  | 0.1780822 |\n",
       "\n"
      ],
      "text/plain": [
       "  type     variable    perc_expression\n",
       "1 cytokine IL16__IL16  0.0890411      \n",
       "2 cytokine IL21__IL21  0.1575342      \n",
       "3 cytokine IL23__IL23  0.1506849      \n",
       "4 cytokine IL28A__IL28 0.1027397      \n",
       "5 cytokine IL33__IL33  0.1643836      \n",
       "6 cytokine TSLP__TSLP  0.1780822      "
      ]
     },
     "metadata": {},
     "output_type": "display_data"
    }
   ],
   "source": [
    "filtered_out   # features that are filtered out because of too low expression"
   ]
  },
  {
   "cell_type": "code",
   "execution_count": 370,
   "id": "89c6e156-d4f6-4a7b-8456-ee97d5e43dcd",
   "metadata": {
    "tags": []
   },
   "outputs": [],
   "source": [
    "# filter the data\n",
    "data_long = merge(data_long, expression_filter[,c('type', 'variable')], by.x = c('type', 'variable'), by.y = c('type', 'variable'))   "
   ]
  },
  {
   "cell_type": "code",
   "execution_count": 371,
   "id": "4d945e56-3ccf-43bc-9d3d-e1d910234fe0",
   "metadata": {},
   "outputs": [
    {
     "data": {
      "text/html": [
       "<style>\n",
       ".list-inline {list-style: none; margin:0; padding: 0}\n",
       ".list-inline>li {display: inline-block}\n",
       ".list-inline>li:not(:last-child)::after {content: \"\\00b7\"; padding: 0 .5ex}\n",
       "</style>\n",
       "<ol class=list-inline><li>'clinical_data'</li><li>'cytokine'</li><li>'neutrophil'</li><li>'proteomics'</li><li>'single_cell'</li></ol>\n"
      ],
      "text/latex": [
       "\\begin{enumerate*}\n",
       "\\item 'clinical\\_data'\n",
       "\\item 'cytokine'\n",
       "\\item 'neutrophil'\n",
       "\\item 'proteomics'\n",
       "\\item 'single\\_cell'\n",
       "\\end{enumerate*}\n"
      ],
      "text/markdown": [
       "1. 'clinical_data'\n",
       "2. 'cytokine'\n",
       "3. 'neutrophil'\n",
       "4. 'proteomics'\n",
       "5. 'single_cell'\n",
       "\n",
       "\n"
      ],
      "text/plain": [
       "[1] \"clinical_data\" \"cytokine\"      \"neutrophil\"    \"proteomics\"   \n",
       "[5] \"single_cell\"  "
      ]
     },
     "metadata": {},
     "output_type": "display_data"
    }
   ],
   "source": [
    "unique(data_long$type)"
   ]
  },
  {
   "cell_type": "code",
   "execution_count": 372,
   "id": "1d60252e-15ac-4313-ab12-aab0dcf2ceae",
   "metadata": {},
   "outputs": [
    {
     "data": {
      "text/html": [
       "1557183"
      ],
      "text/latex": [
       "1557183"
      ],
      "text/markdown": [
       "1557183"
      ],
      "text/plain": [
       "[1] 1557183"
      ]
     },
     "metadata": {},
     "output_type": "display_data"
    }
   ],
   "source": [
    "nrow(data_long)"
   ]
  },
  {
   "cell_type": "code",
   "execution_count": 374,
   "id": "6e3a9573-dd28-4c93-b328-c640a59028af",
   "metadata": {},
   "outputs": [],
   "source": [
    "data_long$ident = paste0(data_long$type, '_0_', data_long$variable)"
   ]
  },
  {
   "cell_type": "markdown",
   "id": "d35c4176-5c09-480e-b03f-de43b6b3ad75",
   "metadata": {},
   "source": [
    "### Extract gene format"
   ]
  },
  {
   "cell_type": "code",
   "execution_count": 381,
   "id": "d4507413-08ee-437d-a8c0-a269dd01cec8",
   "metadata": {},
   "outputs": [],
   "source": [
    "## Extract gene codes from variables"
   ]
  },
  {
   "cell_type": "code",
   "execution_count": 382,
   "id": "e0c25d9c-f1e4-4a37-b0c0-51995cb353ae",
   "metadata": {},
   "outputs": [],
   "source": [
    "data_long$gene = str_replace(data_long$variable, '.*__', '')"
   ]
  },
  {
   "cell_type": "code",
   "execution_count": 383,
   "id": "f8f45fe2-b433-4337-b511-a54e75450808",
   "metadata": {},
   "outputs": [],
   "source": [
    "data_long$gene[data_long$type == 'proteomics'] = str_replace(data_long$gene[data_long$type == 'proteomics'], '_.*', '')"
   ]
  },
  {
   "cell_type": "markdown",
   "id": "0dd83fb4-7d0a-43d8-bf7b-fb2a46e35d52",
   "metadata": {},
   "source": [
    "### Data filtered for ligands and receptors"
   ]
  },
  {
   "cell_type": "code",
   "execution_count": 398,
   "id": "ebfcee7e-5738-4cab-b43d-f09621524114",
   "metadata": {},
   "outputs": [],
   "source": [
    "### Filter dataset on ligand and receptor variables"
   ]
  },
  {
   "cell_type": "code",
   "execution_count": 399,
   "id": "0adc55fc-0a2b-4364-9d61-db00ccf0ad8e",
   "metadata": {},
   "outputs": [],
   "source": [
    "data_long_lig_rec = merge(data_long, ligand_receptor_vars)"
   ]
  },
  {
   "cell_type": "code",
   "execution_count": 400,
   "id": "77a7905c-4a37-4438-9c4b-2299987a87ca",
   "metadata": {},
   "outputs": [
    {
     "data": {
      "text/html": [
       "<table class=\"dataframe\">\n",
       "<caption>A grouped_df: 7 × 3</caption>\n",
       "<thead>\n",
       "\t<tr><th scope=col>type</th><th scope=col>interaction_type</th><th scope=col>n</th></tr>\n",
       "\t<tr><th scope=col>&lt;chr&gt;</th><th scope=col>&lt;chr&gt;</th><th scope=col>&lt;int&gt;</th></tr>\n",
       "</thead>\n",
       "<tbody>\n",
       "\t<tr><td>cytokine   </td><td>Ligand  </td><td>61</td></tr>\n",
       "\t<tr><td>neutrophil </td><td>Ligand  </td><td>24</td></tr>\n",
       "\t<tr><td>neutrophil </td><td>Receptor</td><td>43</td></tr>\n",
       "\t<tr><td>proteomics </td><td>Ligand  </td><td>53</td></tr>\n",
       "\t<tr><td>proteomics </td><td>Receptor</td><td>19</td></tr>\n",
       "\t<tr><td>single_cell</td><td>Ligand  </td><td>53</td></tr>\n",
       "\t<tr><td>single_cell</td><td>Receptor</td><td>75</td></tr>\n",
       "</tbody>\n",
       "</table>\n"
      ],
      "text/latex": [
       "A grouped\\_df: 7 × 3\n",
       "\\begin{tabular}{lll}\n",
       " type & interaction\\_type & n\\\\\n",
       " <chr> & <chr> & <int>\\\\\n",
       "\\hline\n",
       "\t cytokine    & Ligand   & 61\\\\\n",
       "\t neutrophil  & Ligand   & 24\\\\\n",
       "\t neutrophil  & Receptor & 43\\\\\n",
       "\t proteomics  & Ligand   & 53\\\\\n",
       "\t proteomics  & Receptor & 19\\\\\n",
       "\t single\\_cell & Ligand   & 53\\\\\n",
       "\t single\\_cell & Receptor & 75\\\\\n",
       "\\end{tabular}\n"
      ],
      "text/markdown": [
       "\n",
       "A grouped_df: 7 × 3\n",
       "\n",
       "| type &lt;chr&gt; | interaction_type &lt;chr&gt; | n &lt;int&gt; |\n",
       "|---|---|---|\n",
       "| cytokine    | Ligand   | 61 |\n",
       "| neutrophil  | Ligand   | 24 |\n",
       "| neutrophil  | Receptor | 43 |\n",
       "| proteomics  | Ligand   | 53 |\n",
       "| proteomics  | Receptor | 19 |\n",
       "| single_cell | Ligand   | 53 |\n",
       "| single_cell | Receptor | 75 |\n",
       "\n"
      ],
      "text/plain": [
       "  type        interaction_type n \n",
       "1 cytokine    Ligand           61\n",
       "2 neutrophil  Ligand           24\n",
       "3 neutrophil  Receptor         43\n",
       "4 proteomics  Ligand           53\n",
       "5 proteomics  Receptor         19\n",
       "6 single_cell Ligand           53\n",
       "7 single_cell Receptor         75"
      ]
     },
     "metadata": {},
     "output_type": "display_data"
    }
   ],
   "source": [
    "# overview amount of ligands and receptors measured per dimension \n",
    "unique(data_long_lig_rec[,c('type', 'interaction_type', 'gene')]) %>% group_by(type, interaction_type) %>% count()"
   ]
  },
  {
   "cell_type": "code",
   "execution_count": 401,
   "id": "a4785708-163c-402c-8d8a-08d8d5555c0a",
   "metadata": {},
   "outputs": [],
   "source": [
    "## generate a variable defining type: cell-type cluster or view"
   ]
  },
  {
   "cell_type": "code",
   "execution_count": 402,
   "id": "2e9fcade-c699-4646-a6e3-e6bccfb23b72",
   "metadata": {},
   "outputs": [],
   "source": [
    "data_long_lig_rec$cluster = data_long_lig_rec$type"
   ]
  },
  {
   "cell_type": "code",
   "execution_count": 403,
   "id": "dd28dd33-1a4f-441c-9ff0-84b7271e1bfc",
   "metadata": {},
   "outputs": [],
   "source": [
    "data_long_lig_rec$cluster[data_long_lig_rec$type == 'single_cell'] = str_replace(data_long_lig_rec$variable[data_long_lig_rec$type == 'single_cell'] , '__.*', '')"
   ]
  },
  {
   "cell_type": "code",
   "execution_count": 404,
   "id": "7b95d801-9a91-46c2-82f7-962036fe2254",
   "metadata": {},
   "outputs": [
    {
     "data": {
      "text/html": [
       "<style>\n",
       ".list-inline {list-style: none; margin:0; padding: 0}\n",
       ".list-inline>li {display: inline-block}\n",
       ".list-inline>li:not(:last-child)::after {content: \"\\00b7\"; padding: 0 .5ex}\n",
       "</style>\n",
       "<ol class=list-inline><li>'proteomics'</li><li>'neutrophil'</li><li>'X6_Monocytes...CD14'</li><li>'X4_Monocytes...CD14'</li><li>'X7_Monocytes...CD14'</li><li>'X3_NK'</li><li>'X10_B.cell'</li><li>'X0_T.cell.CD4'</li><li>'X13_Dendritic'</li><li>'X1_T.cell.CD8'</li><li>'X11_T.cell.CD4'</li><li>'X5_T.cell.CD4'</li><li>'X12_Monocytes...CD16_FCGR3A'</li><li>'X2_T.cell.CD4'</li><li>'X9_Monocytes...CD16_FCGR3A'</li><li>'X8_B.cell'</li><li>'cytokine'</li></ol>\n"
      ],
      "text/latex": [
       "\\begin{enumerate*}\n",
       "\\item 'proteomics'\n",
       "\\item 'neutrophil'\n",
       "\\item 'X6\\_Monocytes...CD14'\n",
       "\\item 'X4\\_Monocytes...CD14'\n",
       "\\item 'X7\\_Monocytes...CD14'\n",
       "\\item 'X3\\_NK'\n",
       "\\item 'X10\\_B.cell'\n",
       "\\item 'X0\\_T.cell.CD4'\n",
       "\\item 'X13\\_Dendritic'\n",
       "\\item 'X1\\_T.cell.CD8'\n",
       "\\item 'X11\\_T.cell.CD4'\n",
       "\\item 'X5\\_T.cell.CD4'\n",
       "\\item 'X12\\_Monocytes...CD16\\_FCGR3A'\n",
       "\\item 'X2\\_T.cell.CD4'\n",
       "\\item 'X9\\_Monocytes...CD16\\_FCGR3A'\n",
       "\\item 'X8\\_B.cell'\n",
       "\\item 'cytokine'\n",
       "\\end{enumerate*}\n"
      ],
      "text/markdown": [
       "1. 'proteomics'\n",
       "2. 'neutrophil'\n",
       "3. 'X6_Monocytes...CD14'\n",
       "4. 'X4_Monocytes...CD14'\n",
       "5. 'X7_Monocytes...CD14'\n",
       "6. 'X3_NK'\n",
       "7. 'X10_B.cell'\n",
       "8. 'X0_T.cell.CD4'\n",
       "9. 'X13_Dendritic'\n",
       "10. 'X1_T.cell.CD8'\n",
       "11. 'X11_T.cell.CD4'\n",
       "12. 'X5_T.cell.CD4'\n",
       "13. 'X12_Monocytes...CD16_FCGR3A'\n",
       "14. 'X2_T.cell.CD4'\n",
       "15. 'X9_Monocytes...CD16_FCGR3A'\n",
       "16. 'X8_B.cell'\n",
       "17. 'cytokine'\n",
       "\n",
       "\n"
      ],
      "text/plain": [
       " [1] \"proteomics\"                  \"neutrophil\"                 \n",
       " [3] \"X6_Monocytes...CD14\"         \"X4_Monocytes...CD14\"        \n",
       " [5] \"X7_Monocytes...CD14\"         \"X3_NK\"                      \n",
       " [7] \"X10_B.cell\"                  \"X0_T.cell.CD4\"              \n",
       " [9] \"X13_Dendritic\"               \"X1_T.cell.CD8\"              \n",
       "[11] \"X11_T.cell.CD4\"              \"X5_T.cell.CD4\"              \n",
       "[13] \"X12_Monocytes...CD16_FCGR3A\" \"X2_T.cell.CD4\"              \n",
       "[15] \"X9_Monocytes...CD16_FCGR3A\"  \"X8_B.cell\"                  \n",
       "[17] \"cytokine\"                   "
      ]
     },
     "metadata": {},
     "output_type": "display_data"
    }
   ],
   "source": [
    "unique(data_long_lig_rec$cluster)"
   ]
  },
  {
   "cell_type": "code",
   "execution_count": 405,
   "id": "9a581d85-11e0-4a7b-a3f0-532f858c6ca4",
   "metadata": {},
   "outputs": [
    {
     "data": {
      "text/html": [
       "<style>\n",
       ".list-inline {list-style: none; margin:0; padding: 0}\n",
       ".list-inline>li {display: inline-block}\n",
       ".list-inline>li:not(:last-child)::after {content: \"\\00b7\"; padding: 0 .5ex}\n",
       "</style>\n",
       "<ol class=list-inline><li>'proteomics'</li><li>'neutrophil'</li><li>'single_cell'</li><li>'cytokine'</li></ol>\n"
      ],
      "text/latex": [
       "\\begin{enumerate*}\n",
       "\\item 'proteomics'\n",
       "\\item 'neutrophil'\n",
       "\\item 'single\\_cell'\n",
       "\\item 'cytokine'\n",
       "\\end{enumerate*}\n"
      ],
      "text/markdown": [
       "1. 'proteomics'\n",
       "2. 'neutrophil'\n",
       "3. 'single_cell'\n",
       "4. 'cytokine'\n",
       "\n",
       "\n"
      ],
      "text/plain": [
       "[1] \"proteomics\"  \"neutrophil\"  \"single_cell\" \"cytokine\"   "
      ]
     },
     "metadata": {},
     "output_type": "display_data"
    }
   ],
   "source": [
    "unique(data_long_lig_rec$type)"
   ]
  },
  {
   "cell_type": "code",
   "execution_count": 406,
   "id": "be0fb4a4-1639-4844-b8ab-ef1d08374d84",
   "metadata": {},
   "outputs": [
    {
     "data": {
      "text/html": [
       "<table class=\"dataframe\">\n",
       "<caption>A data.frame: 2 × 11</caption>\n",
       "<thead>\n",
       "\t<tr><th></th><th scope=col>gene</th><th scope=col>type</th><th scope=col>variable</th><th scope=col>X</th><th scope=col>sample_id</th><th scope=col>value</th><th scope=col>config</th><th scope=col>expression</th><th scope=col>ident</th><th scope=col>interaction_type</th><th scope=col>cluster</th></tr>\n",
       "\t<tr><th></th><th scope=col>&lt;chr&gt;</th><th scope=col>&lt;chr&gt;</th><th scope=col>&lt;chr&gt;</th><th scope=col>&lt;int&gt;</th><th scope=col>&lt;chr&gt;</th><th scope=col>&lt;dbl&gt;</th><th scope=col>&lt;chr&gt;</th><th scope=col>&lt;lgl&gt;</th><th scope=col>&lt;chr&gt;</th><th scope=col>&lt;chr&gt;</th><th scope=col>&lt;chr&gt;</th></tr>\n",
       "</thead>\n",
       "<tbody>\n",
       "\t<tr><th scope=row>1</th><td>A2M</td><td>proteomics</td><td>A2M_P01023</td><td>1439494</td><td>k27</td><td>9.138038</td><td>FALSE-FALSE-TRUE-0.2-FALSE-TRUE-</td><td>TRUE</td><td>proteomics_0_A2M_P01023</td><td>Ligand</td><td>proteomics</td></tr>\n",
       "\t<tr><th scope=row>2</th><td>A2M</td><td>proteomics</td><td>A2M_P01023</td><td>1439557</td><td>k21</td><td>9.022400</td><td>FALSE-FALSE-TRUE-0.2-FALSE-TRUE-</td><td>TRUE</td><td>proteomics_0_A2M_P01023</td><td>Ligand</td><td>proteomics</td></tr>\n",
       "</tbody>\n",
       "</table>\n"
      ],
      "text/latex": [
       "A data.frame: 2 × 11\n",
       "\\begin{tabular}{r|lllllllllll}\n",
       "  & gene & type & variable & X & sample\\_id & value & config & expression & ident & interaction\\_type & cluster\\\\\n",
       "  & <chr> & <chr> & <chr> & <int> & <chr> & <dbl> & <chr> & <lgl> & <chr> & <chr> & <chr>\\\\\n",
       "\\hline\n",
       "\t1 & A2M & proteomics & A2M\\_P01023 & 1439494 & k27 & 9.138038 & FALSE-FALSE-TRUE-0.2-FALSE-TRUE- & TRUE & proteomics\\_0\\_A2M\\_P01023 & Ligand & proteomics\\\\\n",
       "\t2 & A2M & proteomics & A2M\\_P01023 & 1439557 & k21 & 9.022400 & FALSE-FALSE-TRUE-0.2-FALSE-TRUE- & TRUE & proteomics\\_0\\_A2M\\_P01023 & Ligand & proteomics\\\\\n",
       "\\end{tabular}\n"
      ],
      "text/markdown": [
       "\n",
       "A data.frame: 2 × 11\n",
       "\n",
       "| <!--/--> | gene &lt;chr&gt; | type &lt;chr&gt; | variable &lt;chr&gt; | X &lt;int&gt; | sample_id &lt;chr&gt; | value &lt;dbl&gt; | config &lt;chr&gt; | expression &lt;lgl&gt; | ident &lt;chr&gt; | interaction_type &lt;chr&gt; | cluster &lt;chr&gt; |\n",
       "|---|---|---|---|---|---|---|---|---|---|---|---|\n",
       "| 1 | A2M | proteomics | A2M_P01023 | 1439494 | k27 | 9.138038 | FALSE-FALSE-TRUE-0.2-FALSE-TRUE- | TRUE | proteomics_0_A2M_P01023 | Ligand | proteomics |\n",
       "| 2 | A2M | proteomics | A2M_P01023 | 1439557 | k21 | 9.022400 | FALSE-FALSE-TRUE-0.2-FALSE-TRUE- | TRUE | proteomics_0_A2M_P01023 | Ligand | proteomics |\n",
       "\n"
      ],
      "text/plain": [
       "  gene type       variable   X       sample_id value   \n",
       "1 A2M  proteomics A2M_P01023 1439494 k27       9.138038\n",
       "2 A2M  proteomics A2M_P01023 1439557 k21       9.022400\n",
       "  config                           expression ident                  \n",
       "1 FALSE-FALSE-TRUE-0.2-FALSE-TRUE- TRUE       proteomics_0_A2M_P01023\n",
       "2 FALSE-FALSE-TRUE-0.2-FALSE-TRUE- TRUE       proteomics_0_A2M_P01023\n",
       "  interaction_type cluster   \n",
       "1 Ligand           proteomics\n",
       "2 Ligand           proteomics"
      ]
     },
     "metadata": {},
     "output_type": "display_data"
    }
   ],
   "source": [
    "head(data_long_lig_rec,2)"
   ]
  },
  {
   "cell_type": "code",
   "execution_count": null,
   "id": "2153557b-7a0a-4586-976a-6195d0f0c140",
   "metadata": {},
   "outputs": [],
   "source": []
  },
  {
   "cell_type": "markdown",
   "id": "1ac46b83-0218-4cee-8740-526b4ab7b4f1",
   "metadata": {},
   "source": [
    "#### Add information about percentage of cells expressing gene"
   ]
  },
  {
   "cell_type": "code",
   "execution_count": 407,
   "id": "c7ddcd66-db2e-4d0c-b227-a18a949c66a7",
   "metadata": {},
   "outputs": [],
   "source": [
    "## add to the ligand receptor dataset"
   ]
  },
  {
   "cell_type": "code",
   "execution_count": 408,
   "id": "869492eb-1f28-4c31-8635-6779d74dfb42",
   "metadata": {},
   "outputs": [],
   "source": [
    "data_long_lig_rec$X = NULL"
   ]
  },
  {
   "cell_type": "code",
   "execution_count": 409,
   "id": "1935e668-890d-4234-8cf4-a56b5e797af0",
   "metadata": {},
   "outputs": [],
   "source": [
    "cell_perc_cluster$cluster = make.names(cell_perc_cluster$cluster)"
   ]
  },
  {
   "cell_type": "code",
   "execution_count": 410,
   "id": "4fdcb4c4-abd1-4f64-905f-302dc0e91506",
   "metadata": {},
   "outputs": [
    {
     "data": {
      "text/html": [
       "95246"
      ],
      "text/latex": [
       "95246"
      ],
      "text/markdown": [
       "95246"
      ],
      "text/plain": [
       "[1] 95246"
      ]
     },
     "metadata": {},
     "output_type": "display_data"
    }
   ],
   "source": [
    "nrow(data_long_lig_rec)"
   ]
  },
  {
   "cell_type": "code",
   "execution_count": 411,
   "id": "4227a815-0b5a-4cb5-8c4f-56b58704c83c",
   "metadata": {},
   "outputs": [
    {
     "data": {
      "text/html": [
       "<table class=\"dataframe\">\n",
       "<caption>A data.frame: 2 × 5</caption>\n",
       "<thead>\n",
       "\t<tr><th></th><th scope=col>X</th><th scope=col>perc_cells_expressing_gene</th><th scope=col>total_amount_cells_expressing_gene</th><th scope=col>gene</th><th scope=col>cluster</th></tr>\n",
       "\t<tr><th></th><th scope=col>&lt;chr&gt;</th><th scope=col>&lt;dbl&gt;</th><th scope=col>&lt;int&gt;</th><th scope=col>&lt;chr&gt;</th><th scope=col>&lt;chr&gt;</th></tr>\n",
       "</thead>\n",
       "<tbody>\n",
       "\t<tr><th scope=row>1</th><td>AL627309.1</td><td>0.24327612</td><td>18</td><td>AL627309.1</td><td>X8_B.cell</td></tr>\n",
       "\t<tr><th scope=row>2</th><td>AL627309.4</td><td>0.05406136</td><td> 4</td><td>AL627309.4</td><td>X8_B.cell</td></tr>\n",
       "</tbody>\n",
       "</table>\n"
      ],
      "text/latex": [
       "A data.frame: 2 × 5\n",
       "\\begin{tabular}{r|lllll}\n",
       "  & X & perc\\_cells\\_expressing\\_gene & total\\_amount\\_cells\\_expressing\\_gene & gene & cluster\\\\\n",
       "  & <chr> & <dbl> & <int> & <chr> & <chr>\\\\\n",
       "\\hline\n",
       "\t1 & AL627309.1 & 0.24327612 & 18 & AL627309.1 & X8\\_B.cell\\\\\n",
       "\t2 & AL627309.4 & 0.05406136 &  4 & AL627309.4 & X8\\_B.cell\\\\\n",
       "\\end{tabular}\n"
      ],
      "text/markdown": [
       "\n",
       "A data.frame: 2 × 5\n",
       "\n",
       "| <!--/--> | X &lt;chr&gt; | perc_cells_expressing_gene &lt;dbl&gt; | total_amount_cells_expressing_gene &lt;int&gt; | gene &lt;chr&gt; | cluster &lt;chr&gt; |\n",
       "|---|---|---|---|---|---|\n",
       "| 1 | AL627309.1 | 0.24327612 | 18 | AL627309.1 | X8_B.cell |\n",
       "| 2 | AL627309.4 | 0.05406136 |  4 | AL627309.4 | X8_B.cell |\n",
       "\n"
      ],
      "text/plain": [
       "  X          perc_cells_expressing_gene total_amount_cells_expressing_gene\n",
       "1 AL627309.1 0.24327612                 18                                \n",
       "2 AL627309.4 0.05406136                  4                                \n",
       "  gene       cluster  \n",
       "1 AL627309.1 X8_B.cell\n",
       "2 AL627309.4 X8_B.cell"
      ]
     },
     "metadata": {},
     "output_type": "display_data"
    }
   ],
   "source": [
    "head(cell_perc_cluster,2)"
   ]
  },
  {
   "cell_type": "code",
   "execution_count": 412,
   "id": "8778b21e-f755-4555-afc0-d102aabe82b0",
   "metadata": {},
   "outputs": [
    {
     "data": {
      "text/html": [
       "<table class=\"dataframe\">\n",
       "<caption>A data.frame: 2 × 10</caption>\n",
       "<thead>\n",
       "\t<tr><th></th><th scope=col>gene</th><th scope=col>type</th><th scope=col>variable</th><th scope=col>sample_id</th><th scope=col>value</th><th scope=col>config</th><th scope=col>expression</th><th scope=col>ident</th><th scope=col>interaction_type</th><th scope=col>cluster</th></tr>\n",
       "\t<tr><th></th><th scope=col>&lt;chr&gt;</th><th scope=col>&lt;chr&gt;</th><th scope=col>&lt;chr&gt;</th><th scope=col>&lt;chr&gt;</th><th scope=col>&lt;dbl&gt;</th><th scope=col>&lt;chr&gt;</th><th scope=col>&lt;lgl&gt;</th><th scope=col>&lt;chr&gt;</th><th scope=col>&lt;chr&gt;</th><th scope=col>&lt;chr&gt;</th></tr>\n",
       "</thead>\n",
       "<tbody>\n",
       "\t<tr><th scope=row>1</th><td>A2M</td><td>proteomics</td><td>A2M_P01023</td><td>k27</td><td>9.138038</td><td>FALSE-FALSE-TRUE-0.2-FALSE-TRUE-</td><td>TRUE</td><td>proteomics_0_A2M_P01023</td><td>Ligand</td><td>proteomics</td></tr>\n",
       "\t<tr><th scope=row>2</th><td>A2M</td><td>proteomics</td><td>A2M_P01023</td><td>k21</td><td>9.022400</td><td>FALSE-FALSE-TRUE-0.2-FALSE-TRUE-</td><td>TRUE</td><td>proteomics_0_A2M_P01023</td><td>Ligand</td><td>proteomics</td></tr>\n",
       "</tbody>\n",
       "</table>\n"
      ],
      "text/latex": [
       "A data.frame: 2 × 10\n",
       "\\begin{tabular}{r|llllllllll}\n",
       "  & gene & type & variable & sample\\_id & value & config & expression & ident & interaction\\_type & cluster\\\\\n",
       "  & <chr> & <chr> & <chr> & <chr> & <dbl> & <chr> & <lgl> & <chr> & <chr> & <chr>\\\\\n",
       "\\hline\n",
       "\t1 & A2M & proteomics & A2M\\_P01023 & k27 & 9.138038 & FALSE-FALSE-TRUE-0.2-FALSE-TRUE- & TRUE & proteomics\\_0\\_A2M\\_P01023 & Ligand & proteomics\\\\\n",
       "\t2 & A2M & proteomics & A2M\\_P01023 & k21 & 9.022400 & FALSE-FALSE-TRUE-0.2-FALSE-TRUE- & TRUE & proteomics\\_0\\_A2M\\_P01023 & Ligand & proteomics\\\\\n",
       "\\end{tabular}\n"
      ],
      "text/markdown": [
       "\n",
       "A data.frame: 2 × 10\n",
       "\n",
       "| <!--/--> | gene &lt;chr&gt; | type &lt;chr&gt; | variable &lt;chr&gt; | sample_id &lt;chr&gt; | value &lt;dbl&gt; | config &lt;chr&gt; | expression &lt;lgl&gt; | ident &lt;chr&gt; | interaction_type &lt;chr&gt; | cluster &lt;chr&gt; |\n",
       "|---|---|---|---|---|---|---|---|---|---|---|\n",
       "| 1 | A2M | proteomics | A2M_P01023 | k27 | 9.138038 | FALSE-FALSE-TRUE-0.2-FALSE-TRUE- | TRUE | proteomics_0_A2M_P01023 | Ligand | proteomics |\n",
       "| 2 | A2M | proteomics | A2M_P01023 | k21 | 9.022400 | FALSE-FALSE-TRUE-0.2-FALSE-TRUE- | TRUE | proteomics_0_A2M_P01023 | Ligand | proteomics |\n",
       "\n"
      ],
      "text/plain": [
       "  gene type       variable   sample_id value   \n",
       "1 A2M  proteomics A2M_P01023 k27       9.138038\n",
       "2 A2M  proteomics A2M_P01023 k21       9.022400\n",
       "  config                           expression ident                  \n",
       "1 FALSE-FALSE-TRUE-0.2-FALSE-TRUE- TRUE       proteomics_0_A2M_P01023\n",
       "2 FALSE-FALSE-TRUE-0.2-FALSE-TRUE- TRUE       proteomics_0_A2M_P01023\n",
       "  interaction_type cluster   \n",
       "1 Ligand           proteomics\n",
       "2 Ligand           proteomics"
      ]
     },
     "metadata": {},
     "output_type": "display_data"
    }
   ],
   "source": [
    "head(data_long_lig_rec,2)"
   ]
  },
  {
   "cell_type": "code",
   "execution_count": 413,
   "id": "9bf63eae-93cc-48e5-9da8-b7d0bd2da112",
   "metadata": {},
   "outputs": [
    {
     "data": {
      "text/html": [
       "<style>\n",
       ".list-inline {list-style: none; margin:0; padding: 0}\n",
       ".list-inline>li {display: inline-block}\n",
       ".list-inline>li:not(:last-child)::after {content: \"\\00b7\"; padding: 0 .5ex}\n",
       "</style>\n",
       "<ol class=list-inline><li>'proteomics'</li><li>'neutrophil'</li><li>'X6_Monocytes...CD14'</li><li>'X4_Monocytes...CD14'</li><li>'X7_Monocytes...CD14'</li><li>'X3_NK'</li><li>'X10_B.cell'</li><li>'X0_T.cell.CD4'</li><li>'X13_Dendritic'</li><li>'X1_T.cell.CD8'</li><li>'X11_T.cell.CD4'</li><li>'X5_T.cell.CD4'</li><li>'X12_Monocytes...CD16_FCGR3A'</li><li>'X2_T.cell.CD4'</li><li>'X9_Monocytes...CD16_FCGR3A'</li><li>'X8_B.cell'</li><li>'cytokine'</li></ol>\n"
      ],
      "text/latex": [
       "\\begin{enumerate*}\n",
       "\\item 'proteomics'\n",
       "\\item 'neutrophil'\n",
       "\\item 'X6\\_Monocytes...CD14'\n",
       "\\item 'X4\\_Monocytes...CD14'\n",
       "\\item 'X7\\_Monocytes...CD14'\n",
       "\\item 'X3\\_NK'\n",
       "\\item 'X10\\_B.cell'\n",
       "\\item 'X0\\_T.cell.CD4'\n",
       "\\item 'X13\\_Dendritic'\n",
       "\\item 'X1\\_T.cell.CD8'\n",
       "\\item 'X11\\_T.cell.CD4'\n",
       "\\item 'X5\\_T.cell.CD4'\n",
       "\\item 'X12\\_Monocytes...CD16\\_FCGR3A'\n",
       "\\item 'X2\\_T.cell.CD4'\n",
       "\\item 'X9\\_Monocytes...CD16\\_FCGR3A'\n",
       "\\item 'X8\\_B.cell'\n",
       "\\item 'cytokine'\n",
       "\\end{enumerate*}\n"
      ],
      "text/markdown": [
       "1. 'proteomics'\n",
       "2. 'neutrophil'\n",
       "3. 'X6_Monocytes...CD14'\n",
       "4. 'X4_Monocytes...CD14'\n",
       "5. 'X7_Monocytes...CD14'\n",
       "6. 'X3_NK'\n",
       "7. 'X10_B.cell'\n",
       "8. 'X0_T.cell.CD4'\n",
       "9. 'X13_Dendritic'\n",
       "10. 'X1_T.cell.CD8'\n",
       "11. 'X11_T.cell.CD4'\n",
       "12. 'X5_T.cell.CD4'\n",
       "13. 'X12_Monocytes...CD16_FCGR3A'\n",
       "14. 'X2_T.cell.CD4'\n",
       "15. 'X9_Monocytes...CD16_FCGR3A'\n",
       "16. 'X8_B.cell'\n",
       "17. 'cytokine'\n",
       "\n",
       "\n"
      ],
      "text/plain": [
       " [1] \"proteomics\"                  \"neutrophil\"                 \n",
       " [3] \"X6_Monocytes...CD14\"         \"X4_Monocytes...CD14\"        \n",
       " [5] \"X7_Monocytes...CD14\"         \"X3_NK\"                      \n",
       " [7] \"X10_B.cell\"                  \"X0_T.cell.CD4\"              \n",
       " [9] \"X13_Dendritic\"               \"X1_T.cell.CD8\"              \n",
       "[11] \"X11_T.cell.CD4\"              \"X5_T.cell.CD4\"              \n",
       "[13] \"X12_Monocytes...CD16_FCGR3A\" \"X2_T.cell.CD4\"              \n",
       "[15] \"X9_Monocytes...CD16_FCGR3A\"  \"X8_B.cell\"                  \n",
       "[17] \"cytokine\"                   "
      ]
     },
     "metadata": {},
     "output_type": "display_data"
    }
   ],
   "source": [
    "unique(data_long_lig_rec$cluster)  # check to have same cluster names in both"
   ]
  },
  {
   "cell_type": "code",
   "execution_count": 414,
   "id": "b5640704-df29-4d66-9006-eb1c0debc903",
   "metadata": {},
   "outputs": [
    {
     "data": {
      "text/html": [
       "<style>\n",
       ".list-inline {list-style: none; margin:0; padding: 0}\n",
       ".list-inline>li {display: inline-block}\n",
       ".list-inline>li:not(:last-child)::after {content: \"\\00b7\"; padding: 0 .5ex}\n",
       "</style>\n",
       "<ol class=list-inline><li>'X8_B.cell'</li><li>'X9_Monocytes...CD16_FCGR3A'</li><li>'X5_T.cell.CD4'</li><li>'X0_T.cell.CD4'</li><li>'X1_T.cell.CD8'</li><li>'X6_Monocytes...CD14'</li><li>'X2_T.cell.CD4'</li><li>'X4_Monocytes...CD14'</li><li>'X11_T.cell.CD4'</li><li>'X3_NK'</li><li>'X7_Monocytes...CD14'</li><li>'X13_Dendritic'</li><li>'X10_B.cell'</li><li>'X12_Monocytes...CD16_FCGR3A'</li></ol>\n"
      ],
      "text/latex": [
       "\\begin{enumerate*}\n",
       "\\item 'X8\\_B.cell'\n",
       "\\item 'X9\\_Monocytes...CD16\\_FCGR3A'\n",
       "\\item 'X5\\_T.cell.CD4'\n",
       "\\item 'X0\\_T.cell.CD4'\n",
       "\\item 'X1\\_T.cell.CD8'\n",
       "\\item 'X6\\_Monocytes...CD14'\n",
       "\\item 'X2\\_T.cell.CD4'\n",
       "\\item 'X4\\_Monocytes...CD14'\n",
       "\\item 'X11\\_T.cell.CD4'\n",
       "\\item 'X3\\_NK'\n",
       "\\item 'X7\\_Monocytes...CD14'\n",
       "\\item 'X13\\_Dendritic'\n",
       "\\item 'X10\\_B.cell'\n",
       "\\item 'X12\\_Monocytes...CD16\\_FCGR3A'\n",
       "\\end{enumerate*}\n"
      ],
      "text/markdown": [
       "1. 'X8_B.cell'\n",
       "2. 'X9_Monocytes...CD16_FCGR3A'\n",
       "3. 'X5_T.cell.CD4'\n",
       "4. 'X0_T.cell.CD4'\n",
       "5. 'X1_T.cell.CD8'\n",
       "6. 'X6_Monocytes...CD14'\n",
       "7. 'X2_T.cell.CD4'\n",
       "8. 'X4_Monocytes...CD14'\n",
       "9. 'X11_T.cell.CD4'\n",
       "10. 'X3_NK'\n",
       "11. 'X7_Monocytes...CD14'\n",
       "12. 'X13_Dendritic'\n",
       "13. 'X10_B.cell'\n",
       "14. 'X12_Monocytes...CD16_FCGR3A'\n",
       "\n",
       "\n"
      ],
      "text/plain": [
       " [1] \"X8_B.cell\"                   \"X9_Monocytes...CD16_FCGR3A\" \n",
       " [3] \"X5_T.cell.CD4\"               \"X0_T.cell.CD4\"              \n",
       " [5] \"X1_T.cell.CD8\"               \"X6_Monocytes...CD14\"        \n",
       " [7] \"X2_T.cell.CD4\"               \"X4_Monocytes...CD14\"        \n",
       " [9] \"X11_T.cell.CD4\"              \"X3_NK\"                      \n",
       "[11] \"X7_Monocytes...CD14\"         \"X13_Dendritic\"              \n",
       "[13] \"X10_B.cell\"                  \"X12_Monocytes...CD16_FCGR3A\""
      ]
     },
     "metadata": {},
     "output_type": "display_data"
    }
   ],
   "source": [
    "unique(cell_perc_cluster$cluster)"
   ]
  },
  {
   "cell_type": "code",
   "execution_count": 415,
   "id": "51ee18fa-f610-44c4-8220-6a1bd90709ca",
   "metadata": {},
   "outputs": [],
   "source": [
    "## merge the data\n",
    "data_long_lig_rec = merge(data_long_lig_rec, cell_perc_cluster, all.x = TRUE) # also keep cytokine, proteomics dimension where no cell expression is available"
   ]
  },
  {
   "cell_type": "code",
   "execution_count": 416,
   "id": "e4a5aac7-2226-4f13-9151-cf6ed7d778f1",
   "metadata": {},
   "outputs": [
    {
     "data": {
      "text/html": [
       "<table class=\"dataframe\">\n",
       "<caption>A data.frame: 2 × 13</caption>\n",
       "<thead>\n",
       "\t<tr><th></th><th scope=col>gene</th><th scope=col>cluster</th><th scope=col>type</th><th scope=col>variable</th><th scope=col>sample_id</th><th scope=col>value</th><th scope=col>config</th><th scope=col>expression</th><th scope=col>ident</th><th scope=col>interaction_type</th><th scope=col>X</th><th scope=col>perc_cells_expressing_gene</th><th scope=col>total_amount_cells_expressing_gene</th></tr>\n",
       "\t<tr><th></th><th scope=col>&lt;chr&gt;</th><th scope=col>&lt;chr&gt;</th><th scope=col>&lt;chr&gt;</th><th scope=col>&lt;chr&gt;</th><th scope=col>&lt;chr&gt;</th><th scope=col>&lt;dbl&gt;</th><th scope=col>&lt;chr&gt;</th><th scope=col>&lt;lgl&gt;</th><th scope=col>&lt;chr&gt;</th><th scope=col>&lt;chr&gt;</th><th scope=col>&lt;chr&gt;</th><th scope=col>&lt;dbl&gt;</th><th scope=col>&lt;int&gt;</th></tr>\n",
       "</thead>\n",
       "<tbody>\n",
       "\t<tr><th scope=row>1</th><td>A2M</td><td>proteomics</td><td>proteomics</td><td>A2M_P01023</td><td>k27</td><td>9.138038</td><td>FALSE-FALSE-TRUE-0.2-FALSE-TRUE-</td><td>TRUE</td><td>proteomics_0_A2M_P01023</td><td>Ligand</td><td>NA</td><td>NA</td><td>NA</td></tr>\n",
       "\t<tr><th scope=row>2</th><td>A2M</td><td>proteomics</td><td>proteomics</td><td>A2M_P01023</td><td>k21</td><td>9.022400</td><td>FALSE-FALSE-TRUE-0.2-FALSE-TRUE-</td><td>TRUE</td><td>proteomics_0_A2M_P01023</td><td>Ligand</td><td>NA</td><td>NA</td><td>NA</td></tr>\n",
       "</tbody>\n",
       "</table>\n"
      ],
      "text/latex": [
       "A data.frame: 2 × 13\n",
       "\\begin{tabular}{r|lllllllllllll}\n",
       "  & gene & cluster & type & variable & sample\\_id & value & config & expression & ident & interaction\\_type & X & perc\\_cells\\_expressing\\_gene & total\\_amount\\_cells\\_expressing\\_gene\\\\\n",
       "  & <chr> & <chr> & <chr> & <chr> & <chr> & <dbl> & <chr> & <lgl> & <chr> & <chr> & <chr> & <dbl> & <int>\\\\\n",
       "\\hline\n",
       "\t1 & A2M & proteomics & proteomics & A2M\\_P01023 & k27 & 9.138038 & FALSE-FALSE-TRUE-0.2-FALSE-TRUE- & TRUE & proteomics\\_0\\_A2M\\_P01023 & Ligand & NA & NA & NA\\\\\n",
       "\t2 & A2M & proteomics & proteomics & A2M\\_P01023 & k21 & 9.022400 & FALSE-FALSE-TRUE-0.2-FALSE-TRUE- & TRUE & proteomics\\_0\\_A2M\\_P01023 & Ligand & NA & NA & NA\\\\\n",
       "\\end{tabular}\n"
      ],
      "text/markdown": [
       "\n",
       "A data.frame: 2 × 13\n",
       "\n",
       "| <!--/--> | gene &lt;chr&gt; | cluster &lt;chr&gt; | type &lt;chr&gt; | variable &lt;chr&gt; | sample_id &lt;chr&gt; | value &lt;dbl&gt; | config &lt;chr&gt; | expression &lt;lgl&gt; | ident &lt;chr&gt; | interaction_type &lt;chr&gt; | X &lt;chr&gt; | perc_cells_expressing_gene &lt;dbl&gt; | total_amount_cells_expressing_gene &lt;int&gt; |\n",
       "|---|---|---|---|---|---|---|---|---|---|---|---|---|---|\n",
       "| 1 | A2M | proteomics | proteomics | A2M_P01023 | k27 | 9.138038 | FALSE-FALSE-TRUE-0.2-FALSE-TRUE- | TRUE | proteomics_0_A2M_P01023 | Ligand | NA | NA | NA |\n",
       "| 2 | A2M | proteomics | proteomics | A2M_P01023 | k21 | 9.022400 | FALSE-FALSE-TRUE-0.2-FALSE-TRUE- | TRUE | proteomics_0_A2M_P01023 | Ligand | NA | NA | NA |\n",
       "\n"
      ],
      "text/plain": [
       "  gene cluster    type       variable   sample_id value   \n",
       "1 A2M  proteomics proteomics A2M_P01023 k27       9.138038\n",
       "2 A2M  proteomics proteomics A2M_P01023 k21       9.022400\n",
       "  config                           expression ident                  \n",
       "1 FALSE-FALSE-TRUE-0.2-FALSE-TRUE- TRUE       proteomics_0_A2M_P01023\n",
       "2 FALSE-FALSE-TRUE-0.2-FALSE-TRUE- TRUE       proteomics_0_A2M_P01023\n",
       "  interaction_type X  perc_cells_expressing_gene\n",
       "1 Ligand           NA NA                        \n",
       "2 Ligand           NA NA                        \n",
       "  total_amount_cells_expressing_gene\n",
       "1 NA                                \n",
       "2 NA                                "
      ]
     },
     "metadata": {},
     "output_type": "display_data"
    }
   ],
   "source": [
    "head(data_long_lig_rec,2)"
   ]
  },
  {
   "cell_type": "code",
   "execution_count": 417,
   "id": "ade437c8-39b7-4f46-8b61-71720b4070d8",
   "metadata": {},
   "outputs": [],
   "source": [
    "# Set dummy mean expression for proteomic/ cytokine data etc. where no mean cell expression values are available\n",
    "data_long_lig_rec$perc_cells_expressing_gene[is.na(data_long_lig_rec$perc_cells_expressing_gene)] = mean(data_long_lig_rec$perc_cells_expressing_gene, na.rm = TRUE)"
   ]
  },
  {
   "cell_type": "code",
   "execution_count": 418,
   "id": "982485cc-c310-47b3-9a8c-7c3a4d6aaba8",
   "metadata": {},
   "outputs": [
    {
     "data": {
      "text/html": [
       "<style>\n",
       ".list-inline {list-style: none; margin:0; padding: 0}\n",
       ".list-inline>li {display: inline-block}\n",
       ".list-inline>li:not(:last-child)::after {content: \"\\00b7\"; padding: 0 .5ex}\n",
       "</style>\n",
       "<ol class=list-inline><li>'proteomics'</li><li>'neutrophil'</li><li>'single_cell'</li><li>'cytokine'</li></ol>\n"
      ],
      "text/latex": [
       "\\begin{enumerate*}\n",
       "\\item 'proteomics'\n",
       "\\item 'neutrophil'\n",
       "\\item 'single\\_cell'\n",
       "\\item 'cytokine'\n",
       "\\end{enumerate*}\n"
      ],
      "text/markdown": [
       "1. 'proteomics'\n",
       "2. 'neutrophil'\n",
       "3. 'single_cell'\n",
       "4. 'cytokine'\n",
       "\n",
       "\n"
      ],
      "text/plain": [
       "[1] \"proteomics\"  \"neutrophil\"  \"single_cell\" \"cytokine\"   "
      ]
     },
     "metadata": {},
     "output_type": "display_data"
    }
   ],
   "source": [
    "unique(data_long_lig_rec$type)"
   ]
  },
  {
   "cell_type": "markdown",
   "id": "f2bbce85-8549-4b83-ad5f-a2c238c7a6fc",
   "metadata": {
    "tags": []
   },
   "source": [
    "#### Aggregate expression across samples (mean expression etc.)"
   ]
  },
  {
   "cell_type": "code",
   "execution_count": 419,
   "id": "6ebcecc9-c345-4ca2-85ae-7dc54bfe19bc",
   "metadata": {},
   "outputs": [],
   "source": [
    "## for ligand- receptor data"
   ]
  },
  {
   "cell_type": "code",
   "execution_count": 420,
   "id": "7701529a-4b65-4741-8704-7bf7fd3539b1",
   "metadata": {},
   "outputs": [
    {
     "name": "stderr",
     "output_type": "stream",
     "text": [
      "\u001b[1m\u001b[22m`summarise()` has grouped output by 'type', 'interaction_type', 'gene',\n",
      "'cluster', 'perc_cells_expressing_gene', 'total_amount_cells_expressing_gene'.\n",
      "You can override using the `.groups` argument.\n"
     ]
    }
   ],
   "source": [
    "### Calculate variance and mean expression per cell-type across samples for single cell data\n",
    "\n",
    "analyze_expr_cluster = data_long_lig_rec %>% group_by(type, interaction_type, gene, cluster, perc_cells_expressing_gene, total_amount_cells_expressing_gene, ident) %>% \n",
    "summarise(#mean_expr_norm = mean(value_norm, na.rm = TRUE),\n",
    "          mean_expr = mean(value, na.rm = TRUE), \n",
    "          var_expression = var(value, na.rm = TRUE))"
   ]
  },
  {
   "cell_type": "code",
   "execution_count": 421,
   "id": "ee80fe61-1eea-4e55-923c-3bf097e95292",
   "metadata": {},
   "outputs": [],
   "source": [
    "### Generate cell type columns\n",
    "analyze_expr_cluster$cell_type = str_replace(analyze_expr_cluster$cluster, 'X.*_', '')"
   ]
  },
  {
   "cell_type": "code",
   "execution_count": 422,
   "id": "6fb55d7a-38ad-463b-967b-aa8f30cf1a46",
   "metadata": {},
   "outputs": [
    {
     "data": {
      "text/html": [
       "<table class=\"dataframe\">\n",
       "<caption>A grouped_df: 2 × 10</caption>\n",
       "<thead>\n",
       "\t<tr><th scope=col>type</th><th scope=col>interaction_type</th><th scope=col>gene</th><th scope=col>cluster</th><th scope=col>perc_cells_expressing_gene</th><th scope=col>total_amount_cells_expressing_gene</th><th scope=col>ident</th><th scope=col>mean_expr</th><th scope=col>var_expression</th><th scope=col>cell_type</th></tr>\n",
       "\t<tr><th scope=col>&lt;chr&gt;</th><th scope=col>&lt;chr&gt;</th><th scope=col>&lt;chr&gt;</th><th scope=col>&lt;chr&gt;</th><th scope=col>&lt;dbl&gt;</th><th scope=col>&lt;int&gt;</th><th scope=col>&lt;chr&gt;</th><th scope=col>&lt;dbl&gt;</th><th scope=col>&lt;dbl&gt;</th><th scope=col>&lt;chr&gt;</th></tr>\n",
       "</thead>\n",
       "<tbody>\n",
       "\t<tr><td>cytokine</td><td>Ligand</td><td>CCL1 </td><td>cytokine</td><td>69.10381</td><td>NA</td><td>cytokine_0_I309__CCL1    </td><td>1.457331</td><td>0.4209982</td><td>cytokine</td></tr>\n",
       "\t<tr><td>cytokine</td><td>Ligand</td><td>CCL11</td><td>cytokine</td><td>69.10381</td><td>NA</td><td>cytokine_0_Eotaxin__CCL11</td><td>7.408225</td><td>3.1654144</td><td>cytokine</td></tr>\n",
       "</tbody>\n",
       "</table>\n"
      ],
      "text/latex": [
       "A grouped\\_df: 2 × 10\n",
       "\\begin{tabular}{llllllllll}\n",
       " type & interaction\\_type & gene & cluster & perc\\_cells\\_expressing\\_gene & total\\_amount\\_cells\\_expressing\\_gene & ident & mean\\_expr & var\\_expression & cell\\_type\\\\\n",
       " <chr> & <chr> & <chr> & <chr> & <dbl> & <int> & <chr> & <dbl> & <dbl> & <chr>\\\\\n",
       "\\hline\n",
       "\t cytokine & Ligand & CCL1  & cytokine & 69.10381 & NA & cytokine\\_0\\_I309\\_\\_CCL1     & 1.457331 & 0.4209982 & cytokine\\\\\n",
       "\t cytokine & Ligand & CCL11 & cytokine & 69.10381 & NA & cytokine\\_0\\_Eotaxin\\_\\_CCL11 & 7.408225 & 3.1654144 & cytokine\\\\\n",
       "\\end{tabular}\n"
      ],
      "text/markdown": [
       "\n",
       "A grouped_df: 2 × 10\n",
       "\n",
       "| type &lt;chr&gt; | interaction_type &lt;chr&gt; | gene &lt;chr&gt; | cluster &lt;chr&gt; | perc_cells_expressing_gene &lt;dbl&gt; | total_amount_cells_expressing_gene &lt;int&gt; | ident &lt;chr&gt; | mean_expr &lt;dbl&gt; | var_expression &lt;dbl&gt; | cell_type &lt;chr&gt; |\n",
       "|---|---|---|---|---|---|---|---|---|---|\n",
       "| cytokine | Ligand | CCL1  | cytokine | 69.10381 | NA | cytokine_0_I309__CCL1     | 1.457331 | 0.4209982 | cytokine |\n",
       "| cytokine | Ligand | CCL11 | cytokine | 69.10381 | NA | cytokine_0_Eotaxin__CCL11 | 7.408225 | 3.1654144 | cytokine |\n",
       "\n"
      ],
      "text/plain": [
       "  type     interaction_type gene  cluster  perc_cells_expressing_gene\n",
       "1 cytokine Ligand           CCL1  cytokine 69.10381                  \n",
       "2 cytokine Ligand           CCL11 cytokine 69.10381                  \n",
       "  total_amount_cells_expressing_gene ident                     mean_expr\n",
       "1 NA                                 cytokine_0_I309__CCL1     1.457331 \n",
       "2 NA                                 cytokine_0_Eotaxin__CCL11 7.408225 \n",
       "  var_expression cell_type\n",
       "1 0.4209982      cytokine \n",
       "2 3.1654144      cytokine "
      ]
     },
     "metadata": {},
     "output_type": "display_data"
    }
   ],
   "source": [
    "head(analyze_expr_cluster,2)"
   ]
  },
  {
   "cell_type": "code",
   "execution_count": 423,
   "id": "7f2587e7-cee6-4c31-895d-7ed39d2d7ef2",
   "metadata": {},
   "outputs": [
    {
     "data": {
      "text/html": [
       "<style>\n",
       ".list-inline {list-style: none; margin:0; padding: 0}\n",
       ".list-inline>li {display: inline-block}\n",
       ".list-inline>li:not(:last-child)::after {content: \"\\00b7\"; padding: 0 .5ex}\n",
       "</style>\n",
       "<ol class=list-inline><li>'cytokine'</li><li>'neutrophil'</li><li>'proteomics'</li><li>'Monocytes...CD14'</li><li>'T.cell.CD4'</li><li>'B.cell'</li><li>'FCGR3A'</li><li>'Dendritic'</li><li>'T.cell.CD8'</li><li>'NK'</li></ol>\n"
      ],
      "text/latex": [
       "\\begin{enumerate*}\n",
       "\\item 'cytokine'\n",
       "\\item 'neutrophil'\n",
       "\\item 'proteomics'\n",
       "\\item 'Monocytes...CD14'\n",
       "\\item 'T.cell.CD4'\n",
       "\\item 'B.cell'\n",
       "\\item 'FCGR3A'\n",
       "\\item 'Dendritic'\n",
       "\\item 'T.cell.CD8'\n",
       "\\item 'NK'\n",
       "\\end{enumerate*}\n"
      ],
      "text/markdown": [
       "1. 'cytokine'\n",
       "2. 'neutrophil'\n",
       "3. 'proteomics'\n",
       "4. 'Monocytes...CD14'\n",
       "5. 'T.cell.CD4'\n",
       "6. 'B.cell'\n",
       "7. 'FCGR3A'\n",
       "8. 'Dendritic'\n",
       "9. 'T.cell.CD8'\n",
       "10. 'NK'\n",
       "\n",
       "\n"
      ],
      "text/plain": [
       " [1] \"cytokine\"         \"neutrophil\"       \"proteomics\"       \"Monocytes...CD14\"\n",
       " [5] \"T.cell.CD4\"       \"B.cell\"           \"FCGR3A\"           \"Dendritic\"       \n",
       " [9] \"T.cell.CD8\"       \"NK\"              "
      ]
     },
     "metadata": {},
     "output_type": "display_data"
    }
   ],
   "source": [
    "unique(analyze_expr_cluster$cell_type)"
   ]
  },
  {
   "cell_type": "markdown",
   "id": "ed5aea70-1f5c-432e-98ee-99e80c8641ce",
   "metadata": {},
   "source": [
    "#### Cluster similar receptors and ligand (expressed in same cell-types)"
   ]
  },
  {
   "cell_type": "code",
   "execution_count": 424,
   "id": "8cdd93f0-b703-4cf4-a10a-44a0884192a4",
   "metadata": {},
   "outputs": [],
   "source": [
    "### Cluster Receptors"
   ]
  },
  {
   "cell_type": "code",
   "execution_count": 425,
   "id": "ded6a527-4718-410c-8281-b1982a1f5b3b",
   "metadata": {},
   "outputs": [],
   "source": [
    "filter_type_vis = c('cytokine', 'proteomics', 'neutrophil')  # only for sc data exclude other types"
   ]
  },
  {
   "cell_type": "code",
   "execution_count": 426,
   "id": "ac7abeab-0bfc-441c-a65b-c469fd1dad26",
   "metadata": {},
   "outputs": [],
   "source": [
    "cluster_data = analyze_expr_cluster[(analyze_expr_cluster$interaction_type == 'Receptor') & (!analyze_expr_cluster$type %in% filter_type_vis),] %>% dcast(gene ~ cluster, value.var = 'mean_expr')\n",
    "# value_var = mean_expression"
   ]
  },
  {
   "cell_type": "code",
   "execution_count": 427,
   "id": "859e5482-9eea-4485-ae31-2f29b7334f19",
   "metadata": {},
   "outputs": [],
   "source": [
    "cluster_data[is.na(cluster_data)] = 0"
   ]
  },
  {
   "cell_type": "code",
   "execution_count": 428,
   "id": "070733f8-8fad-48f4-b13c-8c52c4e25060",
   "metadata": {},
   "outputs": [],
   "source": [
    "rownames(cluster_data) = cluster_data$gene"
   ]
  },
  {
   "cell_type": "code",
   "execution_count": 429,
   "id": "d7906ced-45c6-42bb-be39-91af494bacfe",
   "metadata": {},
   "outputs": [],
   "source": [
    "cluster_data$gene = NULL"
   ]
  },
  {
   "cell_type": "code",
   "execution_count": 430,
   "id": "9d37fc1e-3734-4b84-bd56-4e0f224bfff0",
   "metadata": {},
   "outputs": [
    {
     "data": {
      "text/html": [
       "<table class=\"dataframe\">\n",
       "<caption>A data.frame: 2 × 14</caption>\n",
       "<thead>\n",
       "\t<tr><th></th><th scope=col>X0_T.cell.CD4</th><th scope=col>X1_T.cell.CD8</th><th scope=col>X10_B.cell</th><th scope=col>X11_T.cell.CD4</th><th scope=col>X12_Monocytes...CD16_FCGR3A</th><th scope=col>X13_Dendritic</th><th scope=col>X2_T.cell.CD4</th><th scope=col>X3_NK</th><th scope=col>X4_Monocytes...CD14</th><th scope=col>X5_T.cell.CD4</th><th scope=col>X6_Monocytes...CD14</th><th scope=col>X7_Monocytes...CD14</th><th scope=col>X8_B.cell</th><th scope=col>X9_Monocytes...CD16_FCGR3A</th></tr>\n",
       "\t<tr><th></th><th scope=col>&lt;dbl&gt;</th><th scope=col>&lt;dbl&gt;</th><th scope=col>&lt;dbl&gt;</th><th scope=col>&lt;dbl&gt;</th><th scope=col>&lt;dbl&gt;</th><th scope=col>&lt;dbl&gt;</th><th scope=col>&lt;dbl&gt;</th><th scope=col>&lt;dbl&gt;</th><th scope=col>&lt;dbl&gt;</th><th scope=col>&lt;dbl&gt;</th><th scope=col>&lt;dbl&gt;</th><th scope=col>&lt;dbl&gt;</th><th scope=col>&lt;dbl&gt;</th><th scope=col>&lt;dbl&gt;</th></tr>\n",
       "</thead>\n",
       "<tbody>\n",
       "\t<tr><th scope=row>AGTRAP</th><td>0</td><td>0</td><td>0</td><td>0</td><td>0</td><td>0</td><td>0</td><td>0</td><td>1.2045378</td><td>0</td><td>1.158767</td><td>1.183921</td><td>0</td><td>0</td></tr>\n",
       "\t<tr><th scope=row>ANXA6</th><td>0</td><td>0</td><td>0</td><td>0</td><td>0</td><td>0</td><td>0</td><td>0</td><td>0.7138537</td><td>0</td><td>0.000000</td><td>0.000000</td><td>0</td><td>0</td></tr>\n",
       "</tbody>\n",
       "</table>\n"
      ],
      "text/latex": [
       "A data.frame: 2 × 14\n",
       "\\begin{tabular}{r|llllllllllllll}\n",
       "  & X0\\_T.cell.CD4 & X1\\_T.cell.CD8 & X10\\_B.cell & X11\\_T.cell.CD4 & X12\\_Monocytes...CD16\\_FCGR3A & X13\\_Dendritic & X2\\_T.cell.CD4 & X3\\_NK & X4\\_Monocytes...CD14 & X5\\_T.cell.CD4 & X6\\_Monocytes...CD14 & X7\\_Monocytes...CD14 & X8\\_B.cell & X9\\_Monocytes...CD16\\_FCGR3A\\\\\n",
       "  & <dbl> & <dbl> & <dbl> & <dbl> & <dbl> & <dbl> & <dbl> & <dbl> & <dbl> & <dbl> & <dbl> & <dbl> & <dbl> & <dbl>\\\\\n",
       "\\hline\n",
       "\tAGTRAP & 0 & 0 & 0 & 0 & 0 & 0 & 0 & 0 & 1.2045378 & 0 & 1.158767 & 1.183921 & 0 & 0\\\\\n",
       "\tANXA6 & 0 & 0 & 0 & 0 & 0 & 0 & 0 & 0 & 0.7138537 & 0 & 0.000000 & 0.000000 & 0 & 0\\\\\n",
       "\\end{tabular}\n"
      ],
      "text/markdown": [
       "\n",
       "A data.frame: 2 × 14\n",
       "\n",
       "| <!--/--> | X0_T.cell.CD4 &lt;dbl&gt; | X1_T.cell.CD8 &lt;dbl&gt; | X10_B.cell &lt;dbl&gt; | X11_T.cell.CD4 &lt;dbl&gt; | X12_Monocytes...CD16_FCGR3A &lt;dbl&gt; | X13_Dendritic &lt;dbl&gt; | X2_T.cell.CD4 &lt;dbl&gt; | X3_NK &lt;dbl&gt; | X4_Monocytes...CD14 &lt;dbl&gt; | X5_T.cell.CD4 &lt;dbl&gt; | X6_Monocytes...CD14 &lt;dbl&gt; | X7_Monocytes...CD14 &lt;dbl&gt; | X8_B.cell &lt;dbl&gt; | X9_Monocytes...CD16_FCGR3A &lt;dbl&gt; |\n",
       "|---|---|---|---|---|---|---|---|---|---|---|---|---|---|---|\n",
       "| AGTRAP | 0 | 0 | 0 | 0 | 0 | 0 | 0 | 0 | 1.2045378 | 0 | 1.158767 | 1.183921 | 0 | 0 |\n",
       "| ANXA6 | 0 | 0 | 0 | 0 | 0 | 0 | 0 | 0 | 0.7138537 | 0 | 0.000000 | 0.000000 | 0 | 0 |\n",
       "\n"
      ],
      "text/plain": [
       "       X0_T.cell.CD4 X1_T.cell.CD8 X10_B.cell X11_T.cell.CD4\n",
       "AGTRAP 0             0             0          0             \n",
       "ANXA6  0             0             0          0             \n",
       "       X12_Monocytes...CD16_FCGR3A X13_Dendritic X2_T.cell.CD4 X3_NK\n",
       "AGTRAP 0                           0             0             0    \n",
       "ANXA6  0                           0             0             0    \n",
       "       X4_Monocytes...CD14 X5_T.cell.CD4 X6_Monocytes...CD14\n",
       "AGTRAP 1.2045378           0             1.158767           \n",
       "ANXA6  0.7138537           0             0.000000           \n",
       "       X7_Monocytes...CD14 X8_B.cell X9_Monocytes...CD16_FCGR3A\n",
       "AGTRAP 1.183921            0         0                         \n",
       "ANXA6  0.000000            0         0                         "
      ]
     },
     "metadata": {},
     "output_type": "display_data"
    }
   ],
   "source": [
    "head(cluster_data,2)"
   ]
  },
  {
   "cell_type": "code",
   "execution_count": 431,
   "id": "b7af832d-95de-4015-8f5d-fc5a7529bd48",
   "metadata": {},
   "outputs": [],
   "source": [
    "# cluster the receptors based on mean expression\n",
    "cluster_result = kmeans(cluster_data, centers = 7, iter.max = 10, nstart = 1)"
   ]
  },
  {
   "cell_type": "code",
   "execution_count": 432,
   "id": "dd1ebc31-6fc7-4f29-a452-fa550c35364e",
   "metadata": {},
   "outputs": [],
   "source": [
    "cluster_result = data.frame(cluster= cluster_result$cluster, gene = names(cluster_result$cluster))"
   ]
  },
  {
   "cell_type": "code",
   "execution_count": 433,
   "id": "28195c83-8107-4619-a9d5-c322b19e1a82",
   "metadata": {},
   "outputs": [],
   "source": [
    "cluster_result$interaction_type = 'Receptor'"
   ]
  },
  {
   "cell_type": "code",
   "execution_count": 434,
   "id": "864601da-4b75-437b-8462-208ee56aa293",
   "metadata": {},
   "outputs": [
    {
     "data": {
      "text/html": [
       "<table class=\"dataframe\">\n",
       "<caption>A data.frame: 2 × 3</caption>\n",
       "<thead>\n",
       "\t<tr><th></th><th scope=col>cluster</th><th scope=col>gene</th><th scope=col>interaction_type</th></tr>\n",
       "\t<tr><th></th><th scope=col>&lt;int&gt;</th><th scope=col>&lt;chr&gt;</th><th scope=col>&lt;chr&gt;</th></tr>\n",
       "</thead>\n",
       "<tbody>\n",
       "\t<tr><th scope=row>AGTRAP</th><td>7</td><td>AGTRAP</td><td>Receptor</td></tr>\n",
       "\t<tr><th scope=row>ANXA6</th><td>7</td><td>ANXA6 </td><td>Receptor</td></tr>\n",
       "</tbody>\n",
       "</table>\n"
      ],
      "text/latex": [
       "A data.frame: 2 × 3\n",
       "\\begin{tabular}{r|lll}\n",
       "  & cluster & gene & interaction\\_type\\\\\n",
       "  & <int> & <chr> & <chr>\\\\\n",
       "\\hline\n",
       "\tAGTRAP & 7 & AGTRAP & Receptor\\\\\n",
       "\tANXA6 & 7 & ANXA6  & Receptor\\\\\n",
       "\\end{tabular}\n"
      ],
      "text/markdown": [
       "\n",
       "A data.frame: 2 × 3\n",
       "\n",
       "| <!--/--> | cluster &lt;int&gt; | gene &lt;chr&gt; | interaction_type &lt;chr&gt; |\n",
       "|---|---|---|---|\n",
       "| AGTRAP | 7 | AGTRAP | Receptor |\n",
       "| ANXA6 | 7 | ANXA6  | Receptor |\n",
       "\n"
      ],
      "text/plain": [
       "       cluster gene   interaction_type\n",
       "AGTRAP 7       AGTRAP Receptor        \n",
       "ANXA6  7       ANXA6  Receptor        "
      ]
     },
     "metadata": {},
     "output_type": "display_data"
    }
   ],
   "source": [
    "head(cluster_result,2)"
   ]
  },
  {
   "cell_type": "code",
   "execution_count": 435,
   "id": "56c0d1db-3f77-4357-97b5-3bba7019b2ad",
   "metadata": {},
   "outputs": [],
   "source": [
    "### Cluster Ligands"
   ]
  },
  {
   "cell_type": "code",
   "execution_count": 436,
   "id": "b842f333-8966-4101-a319-3db57fdb4e72",
   "metadata": {},
   "outputs": [],
   "source": [
    "# Filter to only do for sc data\n",
    "cluster_data = analyze_expr_cluster[analyze_expr_cluster$interaction_type == 'Ligand' & (!analyze_expr_cluster$type %in% filter_type_vis),] %>% dcast(gene ~ cluster, value.var = 'mean_expr')"
   ]
  },
  {
   "cell_type": "code",
   "execution_count": 437,
   "id": "17894073-80b5-4ae0-ae58-3ad3daf27421",
   "metadata": {},
   "outputs": [],
   "source": [
    "cluster_data[is.na(cluster_data)] = 0"
   ]
  },
  {
   "cell_type": "code",
   "execution_count": 438,
   "id": "521010d4-2180-4b2e-b371-182f605bdb57",
   "metadata": {},
   "outputs": [],
   "source": [
    "rownames(cluster_data) = cluster_data$gene"
   ]
  },
  {
   "cell_type": "code",
   "execution_count": 439,
   "id": "51297eb4-f420-4d09-a0c0-92c84e5e205b",
   "metadata": {},
   "outputs": [],
   "source": [
    "cluster_data$gene = NULL"
   ]
  },
  {
   "cell_type": "code",
   "execution_count": 440,
   "id": "38b70111-7188-48b7-8c09-37f45d268345",
   "metadata": {},
   "outputs": [
    {
     "data": {
      "text/html": [
       "<table class=\"dataframe\">\n",
       "<caption>A data.frame: 2 × 14</caption>\n",
       "<thead>\n",
       "\t<tr><th></th><th scope=col>X0_T.cell.CD4</th><th scope=col>X1_T.cell.CD8</th><th scope=col>X10_B.cell</th><th scope=col>X11_T.cell.CD4</th><th scope=col>X12_Monocytes...CD16_FCGR3A</th><th scope=col>X13_Dendritic</th><th scope=col>X2_T.cell.CD4</th><th scope=col>X3_NK</th><th scope=col>X4_Monocytes...CD14</th><th scope=col>X5_T.cell.CD4</th><th scope=col>X6_Monocytes...CD14</th><th scope=col>X7_Monocytes...CD14</th><th scope=col>X8_B.cell</th><th scope=col>X9_Monocytes...CD16_FCGR3A</th></tr>\n",
       "\t<tr><th></th><th scope=col>&lt;dbl&gt;</th><th scope=col>&lt;dbl&gt;</th><th scope=col>&lt;dbl&gt;</th><th scope=col>&lt;dbl&gt;</th><th scope=col>&lt;dbl&gt;</th><th scope=col>&lt;dbl&gt;</th><th scope=col>&lt;dbl&gt;</th><th scope=col>&lt;dbl&gt;</th><th scope=col>&lt;dbl&gt;</th><th scope=col>&lt;dbl&gt;</th><th scope=col>&lt;dbl&gt;</th><th scope=col>&lt;dbl&gt;</th><th scope=col>&lt;dbl&gt;</th><th scope=col>&lt;dbl&gt;</th></tr>\n",
       "</thead>\n",
       "<tbody>\n",
       "\t<tr><th scope=row>ADAM17</th><td>0</td><td>0</td><td>0</td><td>0</td><td>0</td><td>0</td><td>0</td><td>0</td><td>0.8383966</td><td>0</td><td>0.8149382</td><td>0</td><td>0</td><td>0</td></tr>\n",
       "\t<tr><th scope=row>AIMP1</th><td>0</td><td>0</td><td>0</td><td>0</td><td>0</td><td>0</td><td>0</td><td>0</td><td>0.7533036</td><td>0</td><td>0.0000000</td><td>0</td><td>0</td><td>0</td></tr>\n",
       "</tbody>\n",
       "</table>\n"
      ],
      "text/latex": [
       "A data.frame: 2 × 14\n",
       "\\begin{tabular}{r|llllllllllllll}\n",
       "  & X0\\_T.cell.CD4 & X1\\_T.cell.CD8 & X10\\_B.cell & X11\\_T.cell.CD4 & X12\\_Monocytes...CD16\\_FCGR3A & X13\\_Dendritic & X2\\_T.cell.CD4 & X3\\_NK & X4\\_Monocytes...CD14 & X5\\_T.cell.CD4 & X6\\_Monocytes...CD14 & X7\\_Monocytes...CD14 & X8\\_B.cell & X9\\_Monocytes...CD16\\_FCGR3A\\\\\n",
       "  & <dbl> & <dbl> & <dbl> & <dbl> & <dbl> & <dbl> & <dbl> & <dbl> & <dbl> & <dbl> & <dbl> & <dbl> & <dbl> & <dbl>\\\\\n",
       "\\hline\n",
       "\tADAM17 & 0 & 0 & 0 & 0 & 0 & 0 & 0 & 0 & 0.8383966 & 0 & 0.8149382 & 0 & 0 & 0\\\\\n",
       "\tAIMP1 & 0 & 0 & 0 & 0 & 0 & 0 & 0 & 0 & 0.7533036 & 0 & 0.0000000 & 0 & 0 & 0\\\\\n",
       "\\end{tabular}\n"
      ],
      "text/markdown": [
       "\n",
       "A data.frame: 2 × 14\n",
       "\n",
       "| <!--/--> | X0_T.cell.CD4 &lt;dbl&gt; | X1_T.cell.CD8 &lt;dbl&gt; | X10_B.cell &lt;dbl&gt; | X11_T.cell.CD4 &lt;dbl&gt; | X12_Monocytes...CD16_FCGR3A &lt;dbl&gt; | X13_Dendritic &lt;dbl&gt; | X2_T.cell.CD4 &lt;dbl&gt; | X3_NK &lt;dbl&gt; | X4_Monocytes...CD14 &lt;dbl&gt; | X5_T.cell.CD4 &lt;dbl&gt; | X6_Monocytes...CD14 &lt;dbl&gt; | X7_Monocytes...CD14 &lt;dbl&gt; | X8_B.cell &lt;dbl&gt; | X9_Monocytes...CD16_FCGR3A &lt;dbl&gt; |\n",
       "|---|---|---|---|---|---|---|---|---|---|---|---|---|---|---|\n",
       "| ADAM17 | 0 | 0 | 0 | 0 | 0 | 0 | 0 | 0 | 0.8383966 | 0 | 0.8149382 | 0 | 0 | 0 |\n",
       "| AIMP1 | 0 | 0 | 0 | 0 | 0 | 0 | 0 | 0 | 0.7533036 | 0 | 0.0000000 | 0 | 0 | 0 |\n",
       "\n"
      ],
      "text/plain": [
       "       X0_T.cell.CD4 X1_T.cell.CD8 X10_B.cell X11_T.cell.CD4\n",
       "ADAM17 0             0             0          0             \n",
       "AIMP1  0             0             0          0             \n",
       "       X12_Monocytes...CD16_FCGR3A X13_Dendritic X2_T.cell.CD4 X3_NK\n",
       "ADAM17 0                           0             0             0    \n",
       "AIMP1  0                           0             0             0    \n",
       "       X4_Monocytes...CD14 X5_T.cell.CD4 X6_Monocytes...CD14\n",
       "ADAM17 0.8383966           0             0.8149382          \n",
       "AIMP1  0.7533036           0             0.0000000          \n",
       "       X7_Monocytes...CD14 X8_B.cell X9_Monocytes...CD16_FCGR3A\n",
       "ADAM17 0                   0         0                         \n",
       "AIMP1  0                   0         0                         "
      ]
     },
     "metadata": {},
     "output_type": "display_data"
    }
   ],
   "source": [
    "head(cluster_data,2)"
   ]
  },
  {
   "cell_type": "code",
   "execution_count": 441,
   "id": "f544a15c-c755-4960-9ead-db78f294cc00",
   "metadata": {},
   "outputs": [],
   "source": [
    "# cluster the data\n",
    "cluster_result_l = kmeans(cluster_data, centers = 10, iter.max = 10, nstart = 1)"
   ]
  },
  {
   "cell_type": "code",
   "execution_count": 442,
   "id": "aa3722fb-4328-4a06-923d-67d2d2346023",
   "metadata": {},
   "outputs": [],
   "source": [
    "cluster_result_l = data.frame(cluster= cluster_result_l$cluster, gene = names(cluster_result_l$cluster))"
   ]
  },
  {
   "cell_type": "code",
   "execution_count": 443,
   "id": "8579532e-c742-4872-8024-84706fe18628",
   "metadata": {},
   "outputs": [],
   "source": [
    "cluster_result_l$interaction_type = 'Ligand'"
   ]
  },
  {
   "cell_type": "code",
   "execution_count": 444,
   "id": "c11d4605-0a1d-495c-b483-c3372dcf44f9",
   "metadata": {},
   "outputs": [
    {
     "data": {
      "text/html": [
       "<table class=\"dataframe\">\n",
       "<caption>A data.frame: 2 × 3</caption>\n",
       "<thead>\n",
       "\t<tr><th></th><th scope=col>cluster</th><th scope=col>gene</th><th scope=col>interaction_type</th></tr>\n",
       "\t<tr><th></th><th scope=col>&lt;int&gt;</th><th scope=col>&lt;chr&gt;</th><th scope=col>&lt;chr&gt;</th></tr>\n",
       "</thead>\n",
       "<tbody>\n",
       "\t<tr><th scope=row>ADAM17</th><td>3</td><td>ADAM17</td><td>Ligand</td></tr>\n",
       "\t<tr><th scope=row>AIMP1</th><td>3</td><td>AIMP1 </td><td>Ligand</td></tr>\n",
       "</tbody>\n",
       "</table>\n"
      ],
      "text/latex": [
       "A data.frame: 2 × 3\n",
       "\\begin{tabular}{r|lll}\n",
       "  & cluster & gene & interaction\\_type\\\\\n",
       "  & <int> & <chr> & <chr>\\\\\n",
       "\\hline\n",
       "\tADAM17 & 3 & ADAM17 & Ligand\\\\\n",
       "\tAIMP1 & 3 & AIMP1  & Ligand\\\\\n",
       "\\end{tabular}\n"
      ],
      "text/markdown": [
       "\n",
       "A data.frame: 2 × 3\n",
       "\n",
       "| <!--/--> | cluster &lt;int&gt; | gene &lt;chr&gt; | interaction_type &lt;chr&gt; |\n",
       "|---|---|---|---|\n",
       "| ADAM17 | 3 | ADAM17 | Ligand |\n",
       "| AIMP1 | 3 | AIMP1  | Ligand |\n",
       "\n"
      ],
      "text/plain": [
       "       cluster gene   interaction_type\n",
       "ADAM17 3       ADAM17 Ligand          \n",
       "AIMP1  3       AIMP1  Ligand          "
      ]
     },
     "metadata": {},
     "output_type": "display_data"
    }
   ],
   "source": [
    "head(cluster_result_l,2)"
   ]
  },
  {
   "cell_type": "code",
   "execution_count": 445,
   "id": "e7498d6f-f850-4910-9f06-4f60e645b8ee",
   "metadata": {},
   "outputs": [],
   "source": [
    "### Merge both cluster results"
   ]
  },
  {
   "cell_type": "code",
   "execution_count": 446,
   "id": "e5b018b1-10ed-4e29-a995-b72a912b04c7",
   "metadata": {},
   "outputs": [],
   "source": [
    "cluster_result = rbind(cluster_result, cluster_result_l)"
   ]
  },
  {
   "cell_type": "code",
   "execution_count": 447,
   "id": "11193070-1bd5-4d94-8c66-cf158c6a3c44",
   "metadata": {},
   "outputs": [],
   "source": [
    "colnames(cluster_result) = c('cluster_vis', 'gene', 'interaction_type')"
   ]
  },
  {
   "cell_type": "code",
   "execution_count": 448,
   "id": "2af9f027-63ca-4690-b460-d156fb20042d",
   "metadata": {},
   "outputs": [],
   "source": [
    "#### Add clustering result to mean expression values and save the data "
   ]
  },
  {
   "cell_type": "code",
   "execution_count": 449,
   "id": "ca176bce-d1c7-4ca9-aa61-dd4dd44c2e76",
   "metadata": {},
   "outputs": [],
   "source": [
    "analyze_expr_cluster = merge(analyze_expr_cluster, cluster_result, all.x = TRUE)"
   ]
  },
  {
   "cell_type": "code",
   "execution_count": 450,
   "id": "d942e4a0-9326-4822-bf16-c7509c4e4e63",
   "metadata": {},
   "outputs": [
    {
     "data": {
      "text/html": [
       "<table class=\"dataframe\">\n",
       "<caption>A data.frame: 2 × 11</caption>\n",
       "<thead>\n",
       "\t<tr><th></th><th scope=col>interaction_type</th><th scope=col>gene</th><th scope=col>type</th><th scope=col>cluster</th><th scope=col>perc_cells_expressing_gene</th><th scope=col>total_amount_cells_expressing_gene</th><th scope=col>ident</th><th scope=col>mean_expr</th><th scope=col>var_expression</th><th scope=col>cell_type</th><th scope=col>cluster_vis</th></tr>\n",
       "\t<tr><th></th><th scope=col>&lt;chr&gt;</th><th scope=col>&lt;chr&gt;</th><th scope=col>&lt;chr&gt;</th><th scope=col>&lt;chr&gt;</th><th scope=col>&lt;dbl&gt;</th><th scope=col>&lt;int&gt;</th><th scope=col>&lt;chr&gt;</th><th scope=col>&lt;dbl&gt;</th><th scope=col>&lt;dbl&gt;</th><th scope=col>&lt;chr&gt;</th><th scope=col>&lt;int&gt;</th></tr>\n",
       "</thead>\n",
       "<tbody>\n",
       "\t<tr><th scope=row>1</th><td>Ligand</td><td>A2M   </td><td>proteomics </td><td>proteomics         </td><td>69.10381</td><td>  NA</td><td>proteomics_0_A2M_P01023                  </td><td>8.7445302</td><td>0.32468578</td><td>proteomics      </td><td>NA</td></tr>\n",
       "\t<tr><th scope=row>2</th><td>Ligand</td><td>ADAM17</td><td>single_cell</td><td>X4_Monocytes...CD14</td><td>49.68889</td><td>7267</td><td>single_cell_0_X4_Monocytes...CD14__ADAM17</td><td>0.8383966</td><td>0.03136488</td><td>Monocytes...CD14</td><td> 3</td></tr>\n",
       "</tbody>\n",
       "</table>\n"
      ],
      "text/latex": [
       "A data.frame: 2 × 11\n",
       "\\begin{tabular}{r|lllllllllll}\n",
       "  & interaction\\_type & gene & type & cluster & perc\\_cells\\_expressing\\_gene & total\\_amount\\_cells\\_expressing\\_gene & ident & mean\\_expr & var\\_expression & cell\\_type & cluster\\_vis\\\\\n",
       "  & <chr> & <chr> & <chr> & <chr> & <dbl> & <int> & <chr> & <dbl> & <dbl> & <chr> & <int>\\\\\n",
       "\\hline\n",
       "\t1 & Ligand & A2M    & proteomics  & proteomics          & 69.10381 &   NA & proteomics\\_0\\_A2M\\_P01023                   & 8.7445302 & 0.32468578 & proteomics       & NA\\\\\n",
       "\t2 & Ligand & ADAM17 & single\\_cell & X4\\_Monocytes...CD14 & 49.68889 & 7267 & single\\_cell\\_0\\_X4\\_Monocytes...CD14\\_\\_ADAM17 & 0.8383966 & 0.03136488 & Monocytes...CD14 &  3\\\\\n",
       "\\end{tabular}\n"
      ],
      "text/markdown": [
       "\n",
       "A data.frame: 2 × 11\n",
       "\n",
       "| <!--/--> | interaction_type &lt;chr&gt; | gene &lt;chr&gt; | type &lt;chr&gt; | cluster &lt;chr&gt; | perc_cells_expressing_gene &lt;dbl&gt; | total_amount_cells_expressing_gene &lt;int&gt; | ident &lt;chr&gt; | mean_expr &lt;dbl&gt; | var_expression &lt;dbl&gt; | cell_type &lt;chr&gt; | cluster_vis &lt;int&gt; |\n",
       "|---|---|---|---|---|---|---|---|---|---|---|---|\n",
       "| 1 | Ligand | A2M    | proteomics  | proteomics          | 69.10381 |   NA | proteomics_0_A2M_P01023                   | 8.7445302 | 0.32468578 | proteomics       | NA |\n",
       "| 2 | Ligand | ADAM17 | single_cell | X4_Monocytes...CD14 | 49.68889 | 7267 | single_cell_0_X4_Monocytes...CD14__ADAM17 | 0.8383966 | 0.03136488 | Monocytes...CD14 |  3 |\n",
       "\n"
      ],
      "text/plain": [
       "  interaction_type gene   type        cluster            \n",
       "1 Ligand           A2M    proteomics  proteomics         \n",
       "2 Ligand           ADAM17 single_cell X4_Monocytes...CD14\n",
       "  perc_cells_expressing_gene total_amount_cells_expressing_gene\n",
       "1 69.10381                     NA                              \n",
       "2 49.68889                   7267                              \n",
       "  ident                                     mean_expr var_expression\n",
       "1 proteomics_0_A2M_P01023                   8.7445302 0.32468578    \n",
       "2 single_cell_0_X4_Monocytes...CD14__ADAM17 0.8383966 0.03136488    \n",
       "  cell_type        cluster_vis\n",
       "1 proteomics       NA         \n",
       "2 Monocytes...CD14  3         "
      ]
     },
     "metadata": {},
     "output_type": "display_data"
    }
   ],
   "source": [
    "head(analyze_expr_cluster,2)"
   ]
  },
  {
   "cell_type": "code",
   "execution_count": 451,
   "id": "85b7acc6-47d6-46d6-b8d4-656d3055b4d9",
   "metadata": {},
   "outputs": [],
   "source": [
    "write.table(analyze_expr_cluster,gzfile(paste0(result_path, '/F-Analysis/' ,'F4_Ligand_Receptor_Data_Expression', name, filter_samples,  '.gz')))"
   ]
  },
  {
   "cell_type": "markdown",
   "id": "7efac83d-87b6-43d5-a4ac-37a087f4d6b5",
   "metadata": {},
   "source": [
    "# Ligand Receptor Data"
   ]
  },
  {
   "cell_type": "markdown",
   "id": "4225d21f-ddaf-412c-bcf3-d3d503552069",
   "metadata": {
    "tags": []
   },
   "source": [
    "## Calculate ligand receptor correlations"
   ]
  },
  {
   "cell_type": "code",
   "execution_count": 452,
   "id": "de1533c6-c539-477d-8c80-0c29c0f10a24",
   "metadata": {},
   "outputs": [
    {
     "data": {
      "text/html": [
       "<table class=\"dataframe\">\n",
       "<caption>A data.frame: 2 × 13</caption>\n",
       "<thead>\n",
       "\t<tr><th></th><th scope=col>gene</th><th scope=col>cluster</th><th scope=col>type</th><th scope=col>variable</th><th scope=col>sample_id</th><th scope=col>value</th><th scope=col>config</th><th scope=col>expression</th><th scope=col>ident</th><th scope=col>interaction_type</th><th scope=col>X</th><th scope=col>perc_cells_expressing_gene</th><th scope=col>total_amount_cells_expressing_gene</th></tr>\n",
       "\t<tr><th></th><th scope=col>&lt;chr&gt;</th><th scope=col>&lt;chr&gt;</th><th scope=col>&lt;chr&gt;</th><th scope=col>&lt;chr&gt;</th><th scope=col>&lt;chr&gt;</th><th scope=col>&lt;dbl&gt;</th><th scope=col>&lt;chr&gt;</th><th scope=col>&lt;lgl&gt;</th><th scope=col>&lt;chr&gt;</th><th scope=col>&lt;chr&gt;</th><th scope=col>&lt;chr&gt;</th><th scope=col>&lt;dbl&gt;</th><th scope=col>&lt;int&gt;</th></tr>\n",
       "</thead>\n",
       "<tbody>\n",
       "\t<tr><th scope=row>1</th><td>A2M</td><td>proteomics</td><td>proteomics</td><td>A2M_P01023</td><td>k27</td><td>9.138038</td><td>FALSE-FALSE-TRUE-0.2-FALSE-TRUE-</td><td>TRUE</td><td>proteomics_0_A2M_P01023</td><td>Ligand</td><td>NA</td><td>69.10381</td><td>NA</td></tr>\n",
       "\t<tr><th scope=row>2</th><td>A2M</td><td>proteomics</td><td>proteomics</td><td>A2M_P01023</td><td>k21</td><td>9.022400</td><td>FALSE-FALSE-TRUE-0.2-FALSE-TRUE-</td><td>TRUE</td><td>proteomics_0_A2M_P01023</td><td>Ligand</td><td>NA</td><td>69.10381</td><td>NA</td></tr>\n",
       "</tbody>\n",
       "</table>\n"
      ],
      "text/latex": [
       "A data.frame: 2 × 13\n",
       "\\begin{tabular}{r|lllllllllllll}\n",
       "  & gene & cluster & type & variable & sample\\_id & value & config & expression & ident & interaction\\_type & X & perc\\_cells\\_expressing\\_gene & total\\_amount\\_cells\\_expressing\\_gene\\\\\n",
       "  & <chr> & <chr> & <chr> & <chr> & <chr> & <dbl> & <chr> & <lgl> & <chr> & <chr> & <chr> & <dbl> & <int>\\\\\n",
       "\\hline\n",
       "\t1 & A2M & proteomics & proteomics & A2M\\_P01023 & k27 & 9.138038 & FALSE-FALSE-TRUE-0.2-FALSE-TRUE- & TRUE & proteomics\\_0\\_A2M\\_P01023 & Ligand & NA & 69.10381 & NA\\\\\n",
       "\t2 & A2M & proteomics & proteomics & A2M\\_P01023 & k21 & 9.022400 & FALSE-FALSE-TRUE-0.2-FALSE-TRUE- & TRUE & proteomics\\_0\\_A2M\\_P01023 & Ligand & NA & 69.10381 & NA\\\\\n",
       "\\end{tabular}\n"
      ],
      "text/markdown": [
       "\n",
       "A data.frame: 2 × 13\n",
       "\n",
       "| <!--/--> | gene &lt;chr&gt; | cluster &lt;chr&gt; | type &lt;chr&gt; | variable &lt;chr&gt; | sample_id &lt;chr&gt; | value &lt;dbl&gt; | config &lt;chr&gt; | expression &lt;lgl&gt; | ident &lt;chr&gt; | interaction_type &lt;chr&gt; | X &lt;chr&gt; | perc_cells_expressing_gene &lt;dbl&gt; | total_amount_cells_expressing_gene &lt;int&gt; |\n",
       "|---|---|---|---|---|---|---|---|---|---|---|---|---|---|\n",
       "| 1 | A2M | proteomics | proteomics | A2M_P01023 | k27 | 9.138038 | FALSE-FALSE-TRUE-0.2-FALSE-TRUE- | TRUE | proteomics_0_A2M_P01023 | Ligand | NA | 69.10381 | NA |\n",
       "| 2 | A2M | proteomics | proteomics | A2M_P01023 | k21 | 9.022400 | FALSE-FALSE-TRUE-0.2-FALSE-TRUE- | TRUE | proteomics_0_A2M_P01023 | Ligand | NA | 69.10381 | NA |\n",
       "\n"
      ],
      "text/plain": [
       "  gene cluster    type       variable   sample_id value   \n",
       "1 A2M  proteomics proteomics A2M_P01023 k27       9.138038\n",
       "2 A2M  proteomics proteomics A2M_P01023 k21       9.022400\n",
       "  config                           expression ident                  \n",
       "1 FALSE-FALSE-TRUE-0.2-FALSE-TRUE- TRUE       proteomics_0_A2M_P01023\n",
       "2 FALSE-FALSE-TRUE-0.2-FALSE-TRUE- TRUE       proteomics_0_A2M_P01023\n",
       "  interaction_type X  perc_cells_expressing_gene\n",
       "1 Ligand           NA 69.10381                  \n",
       "2 Ligand           NA 69.10381                  \n",
       "  total_amount_cells_expressing_gene\n",
       "1 NA                                \n",
       "2 NA                                "
      ]
     },
     "metadata": {},
     "output_type": "display_data"
    }
   ],
   "source": [
    "head(data_long_lig_rec,2)"
   ]
  },
  {
   "cell_type": "code",
   "execution_count": 453,
   "id": "ac39a62d-5c25-4fb4-9776-9f901cd37568",
   "metadata": {},
   "outputs": [],
   "source": [
    "### Transform to wide format"
   ]
  },
  {
   "cell_type": "code",
   "execution_count": 454,
   "id": "cff8f016-0a38-4605-a5bf-821696b06f4c",
   "metadata": {},
   "outputs": [],
   "source": [
    "ligand_receptor_expression = data_long_lig_rec %>% dcast(sample_id ~ ident, value.var = 'value')"
   ]
  },
  {
   "cell_type": "code",
   "execution_count": 455,
   "id": "88f250d6-3469-4c22-97ea-dda08174f226",
   "metadata": {},
   "outputs": [],
   "source": [
    "rownames(ligand_receptor_expression) = ligand_receptor_expression$sample_id"
   ]
  },
  {
   "cell_type": "code",
   "execution_count": 456,
   "id": "03f6c3de-0107-477c-ab3b-b014723193a1",
   "metadata": {},
   "outputs": [],
   "source": [
    "ligand_receptor_expression$sample_id = NULL"
   ]
  },
  {
   "cell_type": "code",
   "execution_count": 457,
   "id": "1561fff6-70c0-4c00-b073-628333d6e68f",
   "metadata": {},
   "outputs": [
    {
     "data": {
      "text/html": [
       "<table class=\"dataframe\">\n",
       "<caption>A data.frame: 2 × 812</caption>\n",
       "<thead>\n",
       "\t<tr><th></th><th scope=col>cytokine_0_BCA1__CXCL13</th><th scope=col>cytokine_0_CTACK__CCL27</th><th scope=col>cytokine_0_EGF__EGF</th><th scope=col>cytokine_0_ENA78__CXCL5</th><th scope=col>cytokine_0_Eotaxin__CCL11</th><th scope=col>cytokine_0_Eotaxin2__CCL24</th><th scope=col>cytokine_0_Eotaxin3__CCL26</th><th scope=col>cytokine_0_FGF2__FGF2</th><th scope=col>cytokine_0_FLT3L__FLT3LG</th><th scope=col>cytokine_0_Fractalkine__CX3CL1</th><th scope=col>⋯</th><th scope=col>single_cell_0_X9_Monocytes...CD16_FCGR3A__RTN4</th><th scope=col>single_cell_0_X9_Monocytes...CD16_FCGR3A__SELPLG</th><th scope=col>single_cell_0_X9_Monocytes...CD16_FCGR3A__SERPINA1</th><th scope=col>single_cell_0_X9_Monocytes...CD16_FCGR3A__SPN</th><th scope=col>single_cell_0_X9_Monocytes...CD16_FCGR3A__TGFB1</th><th scope=col>single_cell_0_X9_Monocytes...CD16_FCGR3A__TIMP1</th><th scope=col>single_cell_0_X9_Monocytes...CD16_FCGR3A__TNFRSF14</th><th scope=col>single_cell_0_X9_Monocytes...CD16_FCGR3A__TNFRSF1B</th><th scope=col>single_cell_0_X9_Monocytes...CD16_FCGR3A__TNFSF10</th><th scope=col>single_cell_0_X9_Monocytes...CD16_FCGR3A__TNFSF13B</th></tr>\n",
       "\t<tr><th></th><th scope=col>&lt;dbl&gt;</th><th scope=col>&lt;dbl&gt;</th><th scope=col>&lt;dbl&gt;</th><th scope=col>&lt;dbl&gt;</th><th scope=col>&lt;dbl&gt;</th><th scope=col>&lt;dbl&gt;</th><th scope=col>&lt;dbl&gt;</th><th scope=col>&lt;dbl&gt;</th><th scope=col>&lt;dbl&gt;</th><th scope=col>&lt;dbl&gt;</th><th scope=col>⋯</th><th scope=col>&lt;dbl&gt;</th><th scope=col>&lt;dbl&gt;</th><th scope=col>&lt;dbl&gt;</th><th scope=col>&lt;dbl&gt;</th><th scope=col>&lt;dbl&gt;</th><th scope=col>&lt;dbl&gt;</th><th scope=col>&lt;dbl&gt;</th><th scope=col>&lt;dbl&gt;</th><th scope=col>&lt;dbl&gt;</th><th scope=col>&lt;dbl&gt;</th></tr>\n",
       "</thead>\n",
       "<tbody>\n",
       "\t<tr><th scope=row>k1</th><td>5.696550</td><td>9.821662</td><td>5.045268</td><td>10.562366</td><td>7.42341</td><td>8.755388</td><td>8.820594</td><td>6.734845</td><td>5.200065</td><td>7.552054</td><td>⋯</td><td>      NA</td><td>       NA</td><td>      NA</td><td>     NA</td><td>       NA</td><td>      NA</td><td>       NA</td><td>   NA</td><td>      NA</td><td>      NA</td></tr>\n",
       "\t<tr><th scope=row>k10</th><td>4.697663</td><td>9.701220</td><td>1.922198</td><td> 7.724173</td><td>9.19842</td><td>9.728363</td><td>5.598127</td><td>5.791293</td><td>3.737687</td><td>5.874305</td><td>⋯</td><td>1.343136</td><td>0.6540153</td><td>2.677473</td><td>1.21784</td><td>0.8279207</td><td>2.885468</td><td>0.8118693</td><td>2.711</td><td>1.428577</td><td>1.190677</td></tr>\n",
       "</tbody>\n",
       "</table>\n"
      ],
      "text/latex": [
       "A data.frame: 2 × 812\n",
       "\\begin{tabular}{r|lllllllllllllllllllll}\n",
       "  & cytokine\\_0\\_BCA1\\_\\_CXCL13 & cytokine\\_0\\_CTACK\\_\\_CCL27 & cytokine\\_0\\_EGF\\_\\_EGF & cytokine\\_0\\_ENA78\\_\\_CXCL5 & cytokine\\_0\\_Eotaxin\\_\\_CCL11 & cytokine\\_0\\_Eotaxin2\\_\\_CCL24 & cytokine\\_0\\_Eotaxin3\\_\\_CCL26 & cytokine\\_0\\_FGF2\\_\\_FGF2 & cytokine\\_0\\_FLT3L\\_\\_FLT3LG & cytokine\\_0\\_Fractalkine\\_\\_CX3CL1 & ⋯ & single\\_cell\\_0\\_X9\\_Monocytes...CD16\\_FCGR3A\\_\\_RTN4 & single\\_cell\\_0\\_X9\\_Monocytes...CD16\\_FCGR3A\\_\\_SELPLG & single\\_cell\\_0\\_X9\\_Monocytes...CD16\\_FCGR3A\\_\\_SERPINA1 & single\\_cell\\_0\\_X9\\_Monocytes...CD16\\_FCGR3A\\_\\_SPN & single\\_cell\\_0\\_X9\\_Monocytes...CD16\\_FCGR3A\\_\\_TGFB1 & single\\_cell\\_0\\_X9\\_Monocytes...CD16\\_FCGR3A\\_\\_TIMP1 & single\\_cell\\_0\\_X9\\_Monocytes...CD16\\_FCGR3A\\_\\_TNFRSF14 & single\\_cell\\_0\\_X9\\_Monocytes...CD16\\_FCGR3A\\_\\_TNFRSF1B & single\\_cell\\_0\\_X9\\_Monocytes...CD16\\_FCGR3A\\_\\_TNFSF10 & single\\_cell\\_0\\_X9\\_Monocytes...CD16\\_FCGR3A\\_\\_TNFSF13B\\\\\n",
       "  & <dbl> & <dbl> & <dbl> & <dbl> & <dbl> & <dbl> & <dbl> & <dbl> & <dbl> & <dbl> & ⋯ & <dbl> & <dbl> & <dbl> & <dbl> & <dbl> & <dbl> & <dbl> & <dbl> & <dbl> & <dbl>\\\\\n",
       "\\hline\n",
       "\tk1 & 5.696550 & 9.821662 & 5.045268 & 10.562366 & 7.42341 & 8.755388 & 8.820594 & 6.734845 & 5.200065 & 7.552054 & ⋯ &       NA &        NA &       NA &      NA &        NA &       NA &        NA &    NA &       NA &       NA\\\\\n",
       "\tk10 & 4.697663 & 9.701220 & 1.922198 &  7.724173 & 9.19842 & 9.728363 & 5.598127 & 5.791293 & 3.737687 & 5.874305 & ⋯ & 1.343136 & 0.6540153 & 2.677473 & 1.21784 & 0.8279207 & 2.885468 & 0.8118693 & 2.711 & 1.428577 & 1.190677\\\\\n",
       "\\end{tabular}\n"
      ],
      "text/markdown": [
       "\n",
       "A data.frame: 2 × 812\n",
       "\n",
       "| <!--/--> | cytokine_0_BCA1__CXCL13 &lt;dbl&gt; | cytokine_0_CTACK__CCL27 &lt;dbl&gt; | cytokine_0_EGF__EGF &lt;dbl&gt; | cytokine_0_ENA78__CXCL5 &lt;dbl&gt; | cytokine_0_Eotaxin__CCL11 &lt;dbl&gt; | cytokine_0_Eotaxin2__CCL24 &lt;dbl&gt; | cytokine_0_Eotaxin3__CCL26 &lt;dbl&gt; | cytokine_0_FGF2__FGF2 &lt;dbl&gt; | cytokine_0_FLT3L__FLT3LG &lt;dbl&gt; | cytokine_0_Fractalkine__CX3CL1 &lt;dbl&gt; | ⋯ ⋯ | single_cell_0_X9_Monocytes...CD16_FCGR3A__RTN4 &lt;dbl&gt; | single_cell_0_X9_Monocytes...CD16_FCGR3A__SELPLG &lt;dbl&gt; | single_cell_0_X9_Monocytes...CD16_FCGR3A__SERPINA1 &lt;dbl&gt; | single_cell_0_X9_Monocytes...CD16_FCGR3A__SPN &lt;dbl&gt; | single_cell_0_X9_Monocytes...CD16_FCGR3A__TGFB1 &lt;dbl&gt; | single_cell_0_X9_Monocytes...CD16_FCGR3A__TIMP1 &lt;dbl&gt; | single_cell_0_X9_Monocytes...CD16_FCGR3A__TNFRSF14 &lt;dbl&gt; | single_cell_0_X9_Monocytes...CD16_FCGR3A__TNFRSF1B &lt;dbl&gt; | single_cell_0_X9_Monocytes...CD16_FCGR3A__TNFSF10 &lt;dbl&gt; | single_cell_0_X9_Monocytes...CD16_FCGR3A__TNFSF13B &lt;dbl&gt; |\n",
       "|---|---|---|---|---|---|---|---|---|---|---|---|---|---|---|---|---|---|---|---|---|---|\n",
       "| k1 | 5.696550 | 9.821662 | 5.045268 | 10.562366 | 7.42341 | 8.755388 | 8.820594 | 6.734845 | 5.200065 | 7.552054 | ⋯ |       NA |        NA |       NA |      NA |        NA |       NA |        NA |    NA |       NA |       NA |\n",
       "| k10 | 4.697663 | 9.701220 | 1.922198 |  7.724173 | 9.19842 | 9.728363 | 5.598127 | 5.791293 | 3.737687 | 5.874305 | ⋯ | 1.343136 | 0.6540153 | 2.677473 | 1.21784 | 0.8279207 | 2.885468 | 0.8118693 | 2.711 | 1.428577 | 1.190677 |\n",
       "\n"
      ],
      "text/plain": [
       "    cytokine_0_BCA1__CXCL13 cytokine_0_CTACK__CCL27 cytokine_0_EGF__EGF\n",
       "k1  5.696550                9.821662                5.045268           \n",
       "k10 4.697663                9.701220                1.922198           \n",
       "    cytokine_0_ENA78__CXCL5 cytokine_0_Eotaxin__CCL11\n",
       "k1  10.562366               7.42341                  \n",
       "k10  7.724173               9.19842                  \n",
       "    cytokine_0_Eotaxin2__CCL24 cytokine_0_Eotaxin3__CCL26 cytokine_0_FGF2__FGF2\n",
       "k1  8.755388                   8.820594                   6.734845             \n",
       "k10 9.728363                   5.598127                   5.791293             \n",
       "    cytokine_0_FLT3L__FLT3LG cytokine_0_Fractalkine__CX3CL1 ⋯\n",
       "k1  5.200065                 7.552054                       ⋯\n",
       "k10 3.737687                 5.874305                       ⋯\n",
       "    single_cell_0_X9_Monocytes...CD16_FCGR3A__RTN4\n",
       "k1        NA                                      \n",
       "k10 1.343136                                      \n",
       "    single_cell_0_X9_Monocytes...CD16_FCGR3A__SELPLG\n",
       "k1         NA                                       \n",
       "k10 0.6540153                                       \n",
       "    single_cell_0_X9_Monocytes...CD16_FCGR3A__SERPINA1\n",
       "k1        NA                                          \n",
       "k10 2.677473                                          \n",
       "    single_cell_0_X9_Monocytes...CD16_FCGR3A__SPN\n",
       "k1       NA                                      \n",
       "k10 1.21784                                      \n",
       "    single_cell_0_X9_Monocytes...CD16_FCGR3A__TGFB1\n",
       "k1         NA                                      \n",
       "k10 0.8279207                                      \n",
       "    single_cell_0_X9_Monocytes...CD16_FCGR3A__TIMP1\n",
       "k1        NA                                       \n",
       "k10 2.885468                                       \n",
       "    single_cell_0_X9_Monocytes...CD16_FCGR3A__TNFRSF14\n",
       "k1         NA                                         \n",
       "k10 0.8118693                                         \n",
       "    single_cell_0_X9_Monocytes...CD16_FCGR3A__TNFRSF1B\n",
       "k1     NA                                             \n",
       "k10 2.711                                             \n",
       "    single_cell_0_X9_Monocytes...CD16_FCGR3A__TNFSF10\n",
       "k1        NA                                         \n",
       "k10 1.428577                                         \n",
       "    single_cell_0_X9_Monocytes...CD16_FCGR3A__TNFSF13B\n",
       "k1        NA                                          \n",
       "k10 1.190677                                          "
      ]
     },
     "metadata": {},
     "output_type": "display_data"
    }
   ],
   "source": [
    "head(ligand_receptor_expression,2)"
   ]
  },
  {
   "cell_type": "code",
   "execution_count": 458,
   "id": "482976fe-9fde-497b-aa0f-952b9ec58f4c",
   "metadata": {},
   "outputs": [],
   "source": [
    "### Define Ligands and Receptors"
   ]
  },
  {
   "cell_type": "code",
   "execution_count": 459,
   "id": "ecd17d9e-af13-4175-be76-156c2cf8eb13",
   "metadata": {},
   "outputs": [],
   "source": [
    "ligands = unique(data_long_lig_rec$ident[data_long_lig_rec$interaction_type == 'Ligand'])"
   ]
  },
  {
   "cell_type": "code",
   "execution_count": 460,
   "id": "2115d5d7-db36-4946-a802-b311f6eef889",
   "metadata": {},
   "outputs": [
    {
     "data": {
      "text/html": [
       "445"
      ],
      "text/latex": [
       "445"
      ],
      "text/markdown": [
       "445"
      ],
      "text/plain": [
       "[1] 445"
      ]
     },
     "metadata": {},
     "output_type": "display_data"
    }
   ],
   "source": [
    "length(ligands)"
   ]
  },
  {
   "cell_type": "code",
   "execution_count": 461,
   "id": "b0203c53-2283-4a70-ab53-810c0d4e0187",
   "metadata": {},
   "outputs": [],
   "source": [
    "receptors = unique(data_long_lig_rec$ident[data_long_lig_rec$interaction_type == 'Receptor'])"
   ]
  },
  {
   "cell_type": "code",
   "execution_count": 462,
   "id": "14faf058-8aa4-461d-acb5-c12228f4c0e0",
   "metadata": {},
   "outputs": [
    {
     "data": {
      "text/html": [
       "367"
      ],
      "text/latex": [
       "367"
      ],
      "text/markdown": [
       "367"
      ],
      "text/plain": [
       "[1] 367"
      ]
     },
     "metadata": {},
     "output_type": "display_data"
    }
   ],
   "source": [
    "length(receptors)"
   ]
  },
  {
   "cell_type": "code",
   "execution_count": 463,
   "id": "f96c84b8-ef54-4b0a-9963-c19fbd0b464a",
   "metadata": {},
   "outputs": [
    {
     "data": {
      "text/html": [
       "812"
      ],
      "text/latex": [
       "812"
      ],
      "text/markdown": [
       "812"
      ],
      "text/plain": [
       "[1] 812"
      ]
     },
     "metadata": {},
     "output_type": "display_data"
    }
   ],
   "source": [
    "ncol(ligand_receptor_expression)"
   ]
  },
  {
   "cell_type": "code",
   "execution_count": 464,
   "id": "fe2cfbc7-6b96-4331-a6d0-520d111dec39",
   "metadata": {},
   "outputs": [],
   "source": [
    "#### Calculate correlations between ligands and receptors"
   ]
  },
  {
   "cell_type": "code",
   "execution_count": 465,
   "id": "5994a6d0-cf95-4995-ae88-cae800919f69",
   "metadata": {},
   "outputs": [],
   "source": [
    "ligand_receptor_correlations = cor(ligand_receptor_expression[,colnames(ligand_receptor_expression) %in%ligands], ligand_receptor_expression[,colnames(ligand_receptor_expression) %in% receptors], method = 'spearman', use = 'pairwise.complete.obs')\n",
    "# currently calculated with spearman!"
   ]
  },
  {
   "cell_type": "code",
   "execution_count": 466,
   "id": "e521389b-5f8a-4cb8-a185-bae9e6d5540f",
   "metadata": {},
   "outputs": [],
   "source": [
    "#### Adjust format of calculated correlations"
   ]
  },
  {
   "cell_type": "code",
   "execution_count": 467,
   "id": "1db15612-0c3d-473b-844d-d4bcf64acb5f",
   "metadata": {},
   "outputs": [],
   "source": [
    "ligand_receptor_correlations = melt(ligand_receptor_correlations)"
   ]
  },
  {
   "cell_type": "code",
   "execution_count": 468,
   "id": "75f9fbbb-d239-4978-b82c-8b3fecec9a5f",
   "metadata": {},
   "outputs": [],
   "source": [
    "colnames(ligand_receptor_correlations) = c('ligand', 'receptor', 'correlation')"
   ]
  },
  {
   "cell_type": "code",
   "execution_count": 469,
   "id": "9a343b45-c3e8-48d9-a3f1-08c04f807bf9",
   "metadata": {},
   "outputs": [
    {
     "data": {
      "text/html": [
       "<table class=\"dataframe\">\n",
       "<caption>A data.frame: 2 × 3</caption>\n",
       "<thead>\n",
       "\t<tr><th></th><th scope=col>ligand</th><th scope=col>receptor</th><th scope=col>correlation</th></tr>\n",
       "\t<tr><th></th><th scope=col>&lt;fct&gt;</th><th scope=col>&lt;fct&gt;</th><th scope=col>&lt;dbl&gt;</th></tr>\n",
       "</thead>\n",
       "<tbody>\n",
       "\t<tr><th scope=row>1</th><td>cytokine_0_BCA1__CXCL13</td><td>neutrophil_0_ABCA7</td><td>0.09543501</td></tr>\n",
       "\t<tr><th scope=row>2</th><td>cytokine_0_CTACK__CCL27</td><td>neutrophil_0_ABCA7</td><td>0.05916357</td></tr>\n",
       "</tbody>\n",
       "</table>\n"
      ],
      "text/latex": [
       "A data.frame: 2 × 3\n",
       "\\begin{tabular}{r|lll}\n",
       "  & ligand & receptor & correlation\\\\\n",
       "  & <fct> & <fct> & <dbl>\\\\\n",
       "\\hline\n",
       "\t1 & cytokine\\_0\\_BCA1\\_\\_CXCL13 & neutrophil\\_0\\_ABCA7 & 0.09543501\\\\\n",
       "\t2 & cytokine\\_0\\_CTACK\\_\\_CCL27 & neutrophil\\_0\\_ABCA7 & 0.05916357\\\\\n",
       "\\end{tabular}\n"
      ],
      "text/markdown": [
       "\n",
       "A data.frame: 2 × 3\n",
       "\n",
       "| <!--/--> | ligand &lt;fct&gt; | receptor &lt;fct&gt; | correlation &lt;dbl&gt; |\n",
       "|---|---|---|---|\n",
       "| 1 | cytokine_0_BCA1__CXCL13 | neutrophil_0_ABCA7 | 0.09543501 |\n",
       "| 2 | cytokine_0_CTACK__CCL27 | neutrophil_0_ABCA7 | 0.05916357 |\n",
       "\n"
      ],
      "text/plain": [
       "  ligand                  receptor           correlation\n",
       "1 cytokine_0_BCA1__CXCL13 neutrophil_0_ABCA7 0.09543501 \n",
       "2 cytokine_0_CTACK__CCL27 neutrophil_0_ABCA7 0.05916357 "
      ]
     },
     "metadata": {},
     "output_type": "display_data"
    }
   ],
   "source": [
    "head(ligand_receptor_correlations,2)"
   ]
  },
  {
   "cell_type": "code",
   "execution_count": 470,
   "id": "266f760d-f838-4d9d-b9f8-440ee073303e",
   "metadata": {},
   "outputs": [
    {
     "data": {
      "image/png": "[encoded data removed]",
      "text/plain": [
       "Plot with title “Histogram of ligand_receptor_correlations$correlation”"
      ]
     },
     "metadata": {
      "image/png": {
       "height": 300,
       "width": 1800
      }
     },
     "output_type": "display_data"
    }
   ],
   "source": [
    "### Distribution of calculated correlations\n",
    "options(repr.plot.width=30, repr.plot.height=5)\n",
    "hist(ligand_receptor_correlations$correlation)"
   ]
  },
  {
   "cell_type": "markdown",
   "id": "d88a1d4d-d554-4d8b-9317-18cc7181c3b4",
   "metadata": {
    "tags": []
   },
   "source": [
    "## Combine nichenet interaction potential and expression of ligands/receptors"
   ]
  },
  {
   "cell_type": "code",
   "execution_count": 471,
   "id": "fb94f6d7-7a75-4e65-99e0-a13f552cae1c",
   "metadata": {},
   "outputs": [],
   "source": [
    "## Add nichenet interaction potential to ligand receptor expression"
   ]
  },
  {
   "cell_type": "code",
   "execution_count": 472,
   "id": "b5308b81-87f5-47e2-9ae3-c6d6107048fb",
   "metadata": {},
   "outputs": [
    {
     "data": {
      "text/html": [
       "<table class=\"dataframe\">\n",
       "<caption>A grouped_df: 2 × 3</caption>\n",
       "<thead>\n",
       "\t<tr><th scope=col>Ligand</th><th scope=col>Receptor</th><th scope=col>amount_sources</th></tr>\n",
       "\t<tr><th scope=col>&lt;chr&gt;</th><th scope=col>&lt;chr&gt;</th><th scope=col>&lt;int&gt;</th></tr>\n",
       "</thead>\n",
       "<tbody>\n",
       "\t<tr><td>A2M</td><td>LRP1    </td><td>1</td></tr>\n",
       "\t<tr><td>A2M</td><td>TNFRSF14</td><td>1</td></tr>\n",
       "</tbody>\n",
       "</table>\n"
      ],
      "text/latex": [
       "A grouped\\_df: 2 × 3\n",
       "\\begin{tabular}{lll}\n",
       " Ligand & Receptor & amount\\_sources\\\\\n",
       " <chr> & <chr> & <int>\\\\\n",
       "\\hline\n",
       "\t A2M & LRP1     & 1\\\\\n",
       "\t A2M & TNFRSF14 & 1\\\\\n",
       "\\end{tabular}\n"
      ],
      "text/markdown": [
       "\n",
       "A grouped_df: 2 × 3\n",
       "\n",
       "| Ligand &lt;chr&gt; | Receptor &lt;chr&gt; | amount_sources &lt;int&gt; |\n",
       "|---|---|---|\n",
       "| A2M | LRP1     | 1 |\n",
       "| A2M | TNFRSF14 | 1 |\n",
       "\n"
      ],
      "text/plain": [
       "  Ligand Receptor amount_sources\n",
       "1 A2M    LRP1     1             \n",
       "2 A2M    TNFRSF14 1             "
      ]
     },
     "metadata": {},
     "output_type": "display_data"
    }
   ],
   "source": [
    "head(ligand_receptor_interactions,2)"
   ]
  },
  {
   "cell_type": "code",
   "execution_count": 473,
   "id": "38a05c1f-6155-4441-a5b5-c37585f4e114",
   "metadata": {},
   "outputs": [
    {
     "data": {
      "text/html": [
       "<table class=\"dataframe\">\n",
       "<caption>A tibble: 2 × 3</caption>\n",
       "<thead>\n",
       "\t<tr><th scope=col>from</th><th scope=col>to</th><th scope=col>weight</th></tr>\n",
       "\t<tr><th scope=col>&lt;chr&gt;</th><th scope=col>&lt;chr&gt;</th><th scope=col>&lt;dbl&gt;</th></tr>\n",
       "</thead>\n",
       "<tbody>\n",
       "\t<tr><td>A1BG</td><td>ABCC6</td><td>0.4216439</td></tr>\n",
       "\t<tr><td>A1BG</td><td>ACE2 </td><td>0.1007411</td></tr>\n",
       "</tbody>\n",
       "</table>\n"
      ],
      "text/latex": [
       "A tibble: 2 × 3\n",
       "\\begin{tabular}{lll}\n",
       " from & to & weight\\\\\n",
       " <chr> & <chr> & <dbl>\\\\\n",
       "\\hline\n",
       "\t A1BG & ABCC6 & 0.4216439\\\\\n",
       "\t A1BG & ACE2  & 0.1007411\\\\\n",
       "\\end{tabular}\n"
      ],
      "text/markdown": [
       "\n",
       "A tibble: 2 × 3\n",
       "\n",
       "| from &lt;chr&gt; | to &lt;chr&gt; | weight &lt;dbl&gt; |\n",
       "|---|---|---|\n",
       "| A1BG | ABCC6 | 0.4216439 |\n",
       "| A1BG | ACE2  | 0.1007411 |\n",
       "\n"
      ],
      "text/plain": [
       "  from to    weight   \n",
       "1 A1BG ABCC6 0.4216439\n",
       "2 A1BG ACE2  0.1007411"
      ]
     },
     "metadata": {},
     "output_type": "display_data"
    }
   ],
   "source": [
    "head(weighted_networks$lr_sig,2) # interaction potential from nichenet"
   ]
  },
  {
   "cell_type": "code",
   "execution_count": 474,
   "id": "790487df-a457-4376-ad3a-7a45bc39e1d5",
   "metadata": {},
   "outputs": [],
   "source": [
    "ligand_receptor_interactions =merge( ligand_receptor_interactions, weighted_networks$lr_sig, by.x = c('Ligand', 'Receptor'), by.y = c('from','to'))"
   ]
  },
  {
   "cell_type": "code",
   "execution_count": 475,
   "id": "52b72696-4a7c-45c4-bbf2-6c32ef3b82cb",
   "metadata": {},
   "outputs": [
    {
     "data": {
      "text/html": [
       "11639"
      ],
      "text/latex": [
       "11639"
      ],
      "text/markdown": [
       "11639"
      ],
      "text/plain": [
       "[1] 11639"
      ]
     },
     "metadata": {},
     "output_type": "display_data"
    }
   ],
   "source": [
    "nrow(ligand_receptor_interactions)"
   ]
  },
  {
   "cell_type": "code",
   "execution_count": 476,
   "id": "5a671e36-a121-4654-a3dc-90334cce4a6d",
   "metadata": {},
   "outputs": [
    {
     "data": {
      "text/html": [
       "<table class=\"dataframe\">\n",
       "<caption>A data.frame: 2 × 4</caption>\n",
       "<thead>\n",
       "\t<tr><th></th><th scope=col>Ligand</th><th scope=col>Receptor</th><th scope=col>amount_sources</th><th scope=col>weight</th></tr>\n",
       "\t<tr><th></th><th scope=col>&lt;chr&gt;</th><th scope=col>&lt;chr&gt;</th><th scope=col>&lt;int&gt;</th><th scope=col>&lt;dbl&gt;</th></tr>\n",
       "</thead>\n",
       "<tbody>\n",
       "\t<tr><th scope=row>1</th><td>A2M</td><td>LRP1    </td><td>1</td><td>0.4678977</td></tr>\n",
       "\t<tr><th scope=row>2</th><td>A2M</td><td>TNFRSF14</td><td>1</td><td>0.6990671</td></tr>\n",
       "</tbody>\n",
       "</table>\n"
      ],
      "text/latex": [
       "A data.frame: 2 × 4\n",
       "\\begin{tabular}{r|llll}\n",
       "  & Ligand & Receptor & amount\\_sources & weight\\\\\n",
       "  & <chr> & <chr> & <int> & <dbl>\\\\\n",
       "\\hline\n",
       "\t1 & A2M & LRP1     & 1 & 0.4678977\\\\\n",
       "\t2 & A2M & TNFRSF14 & 1 & 0.6990671\\\\\n",
       "\\end{tabular}\n"
      ],
      "text/markdown": [
       "\n",
       "A data.frame: 2 × 4\n",
       "\n",
       "| <!--/--> | Ligand &lt;chr&gt; | Receptor &lt;chr&gt; | amount_sources &lt;int&gt; | weight &lt;dbl&gt; |\n",
       "|---|---|---|---|---|\n",
       "| 1 | A2M | LRP1     | 1 | 0.4678977 |\n",
       "| 2 | A2M | TNFRSF14 | 1 | 0.6990671 |\n",
       "\n"
      ],
      "text/plain": [
       "  Ligand Receptor amount_sources weight   \n",
       "1 A2M    LRP1     1              0.4678977\n",
       "2 A2M    TNFRSF14 1              0.6990671"
      ]
     },
     "metadata": {},
     "output_type": "display_data"
    }
   ],
   "source": [
    "head(ligand_receptor_interactions,2)"
   ]
  },
  {
   "cell_type": "code",
   "execution_count": 477,
   "id": "b80b8cc8-5ee1-424a-bd13-3657b1da6e9e",
   "metadata": {},
   "outputs": [
    {
     "data": {
      "image/png": "[encoded data removed]",
      "text/plain": [
       "Plot with title “Histogram of ligand_receptor_interactions$weight”"
      ]
     },
     "metadata": {
      "image/png": {
       "height": 300,
       "width": 1800
      }
     },
     "output_type": "display_data"
    }
   ],
   "source": [
    "hist(ligand_receptor_interactions$weight)"
   ]
  },
  {
   "cell_type": "code",
   "execution_count": 478,
   "id": "36033e6e-1ca2-4b40-92cc-f4149450897b",
   "metadata": {},
   "outputs": [],
   "source": [
    "#### Add expression data of ligands and receptors"
   ]
  },
  {
   "cell_type": "code",
   "execution_count": 479,
   "id": "c077fa5b-ae17-4fd7-a3b6-abc50cb8c559",
   "metadata": {},
   "outputs": [
    {
     "data": {
      "text/html": [
       "<style>\n",
       ".list-inline {list-style: none; margin:0; padding: 0}\n",
       ".list-inline>li {display: inline-block}\n",
       ".list-inline>li:not(:last-child)::after {content: \"\\00b7\"; padding: 0 .5ex}\n",
       "</style>\n",
       "<ol class=list-inline><li>'proteomics'</li><li>'single_cell'</li><li>'neutrophil'</li><li>'cytokine'</li></ol>\n"
      ],
      "text/latex": [
       "\\begin{enumerate*}\n",
       "\\item 'proteomics'\n",
       "\\item 'single\\_cell'\n",
       "\\item 'neutrophil'\n",
       "\\item 'cytokine'\n",
       "\\end{enumerate*}\n"
      ],
      "text/markdown": [
       "1. 'proteomics'\n",
       "2. 'single_cell'\n",
       "3. 'neutrophil'\n",
       "4. 'cytokine'\n",
       "\n",
       "\n"
      ],
      "text/plain": [
       "[1] \"proteomics\"  \"single_cell\" \"neutrophil\"  \"cytokine\"   "
      ]
     },
     "metadata": {},
     "output_type": "display_data"
    }
   ],
   "source": [
    "unique(analyze_expr_cluster$type)"
   ]
  },
  {
   "cell_type": "code",
   "execution_count": 480,
   "id": "e361930a-1928-48a0-8edb-ca9bd0429f1e",
   "metadata": {},
   "outputs": [
    {
     "data": {
      "text/html": [
       "<table class=\"dataframe\">\n",
       "<caption>A data.frame: 2 × 11</caption>\n",
       "<thead>\n",
       "\t<tr><th></th><th scope=col>interaction_type</th><th scope=col>gene</th><th scope=col>type</th><th scope=col>cluster</th><th scope=col>perc_cells_expressing_gene</th><th scope=col>total_amount_cells_expressing_gene</th><th scope=col>ident</th><th scope=col>mean_expr</th><th scope=col>var_expression</th><th scope=col>cell_type</th><th scope=col>cluster_vis</th></tr>\n",
       "\t<tr><th></th><th scope=col>&lt;chr&gt;</th><th scope=col>&lt;chr&gt;</th><th scope=col>&lt;chr&gt;</th><th scope=col>&lt;chr&gt;</th><th scope=col>&lt;dbl&gt;</th><th scope=col>&lt;int&gt;</th><th scope=col>&lt;chr&gt;</th><th scope=col>&lt;dbl&gt;</th><th scope=col>&lt;dbl&gt;</th><th scope=col>&lt;chr&gt;</th><th scope=col>&lt;int&gt;</th></tr>\n",
       "</thead>\n",
       "<tbody>\n",
       "\t<tr><th scope=row>1</th><td>Ligand</td><td>A2M   </td><td>proteomics </td><td>proteomics         </td><td>69.10381</td><td>  NA</td><td>proteomics_0_A2M_P01023                  </td><td>8.7445302</td><td>0.32468578</td><td>proteomics      </td><td>NA</td></tr>\n",
       "\t<tr><th scope=row>2</th><td>Ligand</td><td>ADAM17</td><td>single_cell</td><td>X4_Monocytes...CD14</td><td>49.68889</td><td>7267</td><td>single_cell_0_X4_Monocytes...CD14__ADAM17</td><td>0.8383966</td><td>0.03136488</td><td>Monocytes...CD14</td><td> 3</td></tr>\n",
       "</tbody>\n",
       "</table>\n"
      ],
      "text/latex": [
       "A data.frame: 2 × 11\n",
       "\\begin{tabular}{r|lllllllllll}\n",
       "  & interaction\\_type & gene & type & cluster & perc\\_cells\\_expressing\\_gene & total\\_amount\\_cells\\_expressing\\_gene & ident & mean\\_expr & var\\_expression & cell\\_type & cluster\\_vis\\\\\n",
       "  & <chr> & <chr> & <chr> & <chr> & <dbl> & <int> & <chr> & <dbl> & <dbl> & <chr> & <int>\\\\\n",
       "\\hline\n",
       "\t1 & Ligand & A2M    & proteomics  & proteomics          & 69.10381 &   NA & proteomics\\_0\\_A2M\\_P01023                   & 8.7445302 & 0.32468578 & proteomics       & NA\\\\\n",
       "\t2 & Ligand & ADAM17 & single\\_cell & X4\\_Monocytes...CD14 & 49.68889 & 7267 & single\\_cell\\_0\\_X4\\_Monocytes...CD14\\_\\_ADAM17 & 0.8383966 & 0.03136488 & Monocytes...CD14 &  3\\\\\n",
       "\\end{tabular}\n"
      ],
      "text/markdown": [
       "\n",
       "A data.frame: 2 × 11\n",
       "\n",
       "| <!--/--> | interaction_type &lt;chr&gt; | gene &lt;chr&gt; | type &lt;chr&gt; | cluster &lt;chr&gt; | perc_cells_expressing_gene &lt;dbl&gt; | total_amount_cells_expressing_gene &lt;int&gt; | ident &lt;chr&gt; | mean_expr &lt;dbl&gt; | var_expression &lt;dbl&gt; | cell_type &lt;chr&gt; | cluster_vis &lt;int&gt; |\n",
       "|---|---|---|---|---|---|---|---|---|---|---|---|\n",
       "| 1 | Ligand | A2M    | proteomics  | proteomics          | 69.10381 |   NA | proteomics_0_A2M_P01023                   | 8.7445302 | 0.32468578 | proteomics       | NA |\n",
       "| 2 | Ligand | ADAM17 | single_cell | X4_Monocytes...CD14 | 49.68889 | 7267 | single_cell_0_X4_Monocytes...CD14__ADAM17 | 0.8383966 | 0.03136488 | Monocytes...CD14 |  3 |\n",
       "\n"
      ],
      "text/plain": [
       "  interaction_type gene   type        cluster            \n",
       "1 Ligand           A2M    proteomics  proteomics         \n",
       "2 Ligand           ADAM17 single_cell X4_Monocytes...CD14\n",
       "  perc_cells_expressing_gene total_amount_cells_expressing_gene\n",
       "1 69.10381                     NA                              \n",
       "2 49.68889                   7267                              \n",
       "  ident                                     mean_expr var_expression\n",
       "1 proteomics_0_A2M_P01023                   8.7445302 0.32468578    \n",
       "2 single_cell_0_X4_Monocytes...CD14__ADAM17 0.8383966 0.03136488    \n",
       "  cell_type        cluster_vis\n",
       "1 proteomics       NA         \n",
       "2 Monocytes...CD14  3         "
      ]
     },
     "metadata": {},
     "output_type": "display_data"
    }
   ],
   "source": [
    "head(analyze_expr_cluster,2)"
   ]
  },
  {
   "cell_type": "code",
   "execution_count": 481,
   "id": "a443e8bf-7bf6-45fe-a294-b4339e14e55b",
   "metadata": {},
   "outputs": [],
   "source": [
    "analyze_expr_cluster$variable = paste0(analyze_expr_cluster$cluster, '_0_', analyze_expr_cluster$gene)"
   ]
  },
  {
   "cell_type": "code",
   "execution_count": 482,
   "id": "1ba9b4ea-be0c-4e5e-9d3b-4c2818fdaa58",
   "metadata": {},
   "outputs": [
    {
     "data": {
      "text/html": [
       "11639"
      ],
      "text/latex": [
       "11639"
      ],
      "text/markdown": [
       "11639"
      ],
      "text/plain": [
       "[1] 11639"
      ]
     },
     "metadata": {},
     "output_type": "display_data"
    }
   ],
   "source": [
    "nrow(ligand_receptor_interactions)"
   ]
  },
  {
   "cell_type": "code",
   "execution_count": 483,
   "id": "471e600a-eefb-402d-8c8b-c6592f6c4c99",
   "metadata": {},
   "outputs": [],
   "source": [
    "#### Add data for ligands\n",
    "data  = merge(ligand_receptor_interactions, analyze_expr_cluster[analyze_expr_cluster$interaction_type == 'Ligand',], by.x = c('Ligand'), by.y = c('gene'),  suffixes = c(\"\",\"_L\"))"
   ]
  },
  {
   "cell_type": "code",
   "execution_count": 484,
   "id": "85ca594a-a361-4c85-bf34-5abd5daddd89",
   "metadata": {},
   "outputs": [],
   "source": [
    "#### Add data for Receptors\n",
    "data  = merge(data, analyze_expr_cluster[analyze_expr_cluster$interaction_type == 'Receptor',], by.x = c('Receptor'), by.y = c('gene'),  suffixes = c(\"\",\"_R\"))"
   ]
  },
  {
   "cell_type": "code",
   "execution_count": 485,
   "id": "47c9edaf-8194-400b-a3ca-e0a9e8fb4a4a",
   "metadata": {},
   "outputs": [
    {
     "data": {
      "text/html": [
       "<table class=\"dataframe\">\n",
       "<caption>A data.frame: 2 × 26</caption>\n",
       "<thead>\n",
       "\t<tr><th></th><th scope=col>Receptor</th><th scope=col>Ligand</th><th scope=col>amount_sources</th><th scope=col>weight</th><th scope=col>interaction_type</th><th scope=col>type</th><th scope=col>cluster</th><th scope=col>perc_cells_expressing_gene</th><th scope=col>total_amount_cells_expressing_gene</th><th scope=col>ident</th><th scope=col>⋯</th><th scope=col>type_R</th><th scope=col>cluster_R</th><th scope=col>perc_cells_expressing_gene_R</th><th scope=col>total_amount_cells_expressing_gene_R</th><th scope=col>ident_R</th><th scope=col>mean_expr_R</th><th scope=col>var_expression_R</th><th scope=col>cell_type_R</th><th scope=col>cluster_vis_R</th><th scope=col>variable_R</th></tr>\n",
       "\t<tr><th></th><th scope=col>&lt;chr&gt;</th><th scope=col>&lt;chr&gt;</th><th scope=col>&lt;int&gt;</th><th scope=col>&lt;dbl&gt;</th><th scope=col>&lt;chr&gt;</th><th scope=col>&lt;chr&gt;</th><th scope=col>&lt;chr&gt;</th><th scope=col>&lt;dbl&gt;</th><th scope=col>&lt;int&gt;</th><th scope=col>&lt;chr&gt;</th><th scope=col>⋯</th><th scope=col>&lt;chr&gt;</th><th scope=col>&lt;chr&gt;</th><th scope=col>&lt;dbl&gt;</th><th scope=col>&lt;int&gt;</th><th scope=col>&lt;chr&gt;</th><th scope=col>&lt;dbl&gt;</th><th scope=col>&lt;dbl&gt;</th><th scope=col>&lt;chr&gt;</th><th scope=col>&lt;int&gt;</th><th scope=col>&lt;chr&gt;</th></tr>\n",
       "</thead>\n",
       "<tbody>\n",
       "\t<tr><th scope=row>1</th><td>ABCA7  </td><td>APOA1 </td><td>1</td><td>0.4572367</td><td>Ligand</td><td>proteomics</td><td>proteomics</td><td>69.10381</td><td>NA</td><td>proteomics_0_APOA1_P02647 </td><td>⋯</td><td>neutrophil</td><td>neutrophil</td><td>69.10381</td><td>NA</td><td>neutrophil_0_ABCA7  </td><td>1.387586</td><td>0.8848451</td><td>neutrophil</td><td>NA</td><td>neutrophil_0_ABCA7  </td></tr>\n",
       "\t<tr><th scope=row>2</th><td>ADIPOR1</td><td>ADIPOQ</td><td>1</td><td>0.7307022</td><td>Ligand</td><td>proteomics</td><td>proteomics</td><td>69.10381</td><td>NA</td><td>proteomics_0_ADIPOQ_Q15848</td><td>⋯</td><td>neutrophil</td><td>neutrophil</td><td>69.10381</td><td>NA</td><td>neutrophil_0_ADIPOR1</td><td>2.269589</td><td>0.8178776</td><td>neutrophil</td><td>NA</td><td>neutrophil_0_ADIPOR1</td></tr>\n",
       "</tbody>\n",
       "</table>\n"
      ],
      "text/latex": [
       "A data.frame: 2 × 26\n",
       "\\begin{tabular}{r|lllllllllllllllllllll}\n",
       "  & Receptor & Ligand & amount\\_sources & weight & interaction\\_type & type & cluster & perc\\_cells\\_expressing\\_gene & total\\_amount\\_cells\\_expressing\\_gene & ident & ⋯ & type\\_R & cluster\\_R & perc\\_cells\\_expressing\\_gene\\_R & total\\_amount\\_cells\\_expressing\\_gene\\_R & ident\\_R & mean\\_expr\\_R & var\\_expression\\_R & cell\\_type\\_R & cluster\\_vis\\_R & variable\\_R\\\\\n",
       "  & <chr> & <chr> & <int> & <dbl> & <chr> & <chr> & <chr> & <dbl> & <int> & <chr> & ⋯ & <chr> & <chr> & <dbl> & <int> & <chr> & <dbl> & <dbl> & <chr> & <int> & <chr>\\\\\n",
       "\\hline\n",
       "\t1 & ABCA7   & APOA1  & 1 & 0.4572367 & Ligand & proteomics & proteomics & 69.10381 & NA & proteomics\\_0\\_APOA1\\_P02647  & ⋯ & neutrophil & neutrophil & 69.10381 & NA & neutrophil\\_0\\_ABCA7   & 1.387586 & 0.8848451 & neutrophil & NA & neutrophil\\_0\\_ABCA7  \\\\\n",
       "\t2 & ADIPOR1 & ADIPOQ & 1 & 0.7307022 & Ligand & proteomics & proteomics & 69.10381 & NA & proteomics\\_0\\_ADIPOQ\\_Q15848 & ⋯ & neutrophil & neutrophil & 69.10381 & NA & neutrophil\\_0\\_ADIPOR1 & 2.269589 & 0.8178776 & neutrophil & NA & neutrophil\\_0\\_ADIPOR1\\\\\n",
       "\\end{tabular}\n"
      ],
      "text/markdown": [
       "\n",
       "A data.frame: 2 × 26\n",
       "\n",
       "| <!--/--> | Receptor &lt;chr&gt; | Ligand &lt;chr&gt; | amount_sources &lt;int&gt; | weight &lt;dbl&gt; | interaction_type &lt;chr&gt; | type &lt;chr&gt; | cluster &lt;chr&gt; | perc_cells_expressing_gene &lt;dbl&gt; | total_amount_cells_expressing_gene &lt;int&gt; | ident &lt;chr&gt; | ⋯ ⋯ | type_R &lt;chr&gt; | cluster_R &lt;chr&gt; | perc_cells_expressing_gene_R &lt;dbl&gt; | total_amount_cells_expressing_gene_R &lt;int&gt; | ident_R &lt;chr&gt; | mean_expr_R &lt;dbl&gt; | var_expression_R &lt;dbl&gt; | cell_type_R &lt;chr&gt; | cluster_vis_R &lt;int&gt; | variable_R &lt;chr&gt; |\n",
       "|---|---|---|---|---|---|---|---|---|---|---|---|---|---|---|---|---|---|---|---|---|---|\n",
       "| 1 | ABCA7   | APOA1  | 1 | 0.4572367 | Ligand | proteomics | proteomics | 69.10381 | NA | proteomics_0_APOA1_P02647  | ⋯ | neutrophil | neutrophil | 69.10381 | NA | neutrophil_0_ABCA7   | 1.387586 | 0.8848451 | neutrophil | NA | neutrophil_0_ABCA7   |\n",
       "| 2 | ADIPOR1 | ADIPOQ | 1 | 0.7307022 | Ligand | proteomics | proteomics | 69.10381 | NA | proteomics_0_ADIPOQ_Q15848 | ⋯ | neutrophil | neutrophil | 69.10381 | NA | neutrophil_0_ADIPOR1 | 2.269589 | 0.8178776 | neutrophil | NA | neutrophil_0_ADIPOR1 |\n",
       "\n"
      ],
      "text/plain": [
       "  Receptor Ligand amount_sources weight    interaction_type type      \n",
       "1 ABCA7    APOA1  1              0.4572367 Ligand           proteomics\n",
       "2 ADIPOR1  ADIPOQ 1              0.7307022 Ligand           proteomics\n",
       "  cluster    perc_cells_expressing_gene total_amount_cells_expressing_gene\n",
       "1 proteomics 69.10381                   NA                                \n",
       "2 proteomics 69.10381                   NA                                \n",
       "  ident                      ⋯ type_R     cluster_R \n",
       "1 proteomics_0_APOA1_P02647  ⋯ neutrophil neutrophil\n",
       "2 proteomics_0_ADIPOQ_Q15848 ⋯ neutrophil neutrophil\n",
       "  perc_cells_expressing_gene_R total_amount_cells_expressing_gene_R\n",
       "1 69.10381                     NA                                  \n",
       "2 69.10381                     NA                                  \n",
       "  ident_R              mean_expr_R var_expression_R cell_type_R cluster_vis_R\n",
       "1 neutrophil_0_ABCA7   1.387586    0.8848451        neutrophil  NA           \n",
       "2 neutrophil_0_ADIPOR1 2.269589    0.8178776        neutrophil  NA           \n",
       "  variable_R          \n",
       "1 neutrophil_0_ABCA7  \n",
       "2 neutrophil_0_ADIPOR1"
      ]
     },
     "metadata": {},
     "output_type": "display_data"
    }
   ],
   "source": [
    "head(data,2)"
   ]
  },
  {
   "cell_type": "code",
   "execution_count": 486,
   "id": "515c5f77-f33d-448b-92cc-49f5192cfe72",
   "metadata": {},
   "outputs": [
    {
     "data": {
      "text/html": [
       "<style>\n",
       ".list-inline {list-style: none; margin:0; padding: 0}\n",
       ".list-inline>li {display: inline-block}\n",
       ".list-inline>li:not(:last-child)::after {content: \"\\00b7\"; padding: 0 .5ex}\n",
       "</style>\n",
       "<ol class=list-inline><li>'Receptor'</li><li>'Ligand'</li><li>'amount_sources'</li><li>'weight'</li><li>'interaction_type'</li><li>'type'</li><li>'cluster'</li><li>'perc_cells_expressing_gene'</li><li>'total_amount_cells_expressing_gene'</li><li>'ident'</li><li>'mean_expr'</li><li>'var_expression'</li><li>'cell_type'</li><li>'cluster_vis'</li><li>'variable'</li><li>'interaction_type_R'</li><li>'type_R'</li><li>'cluster_R'</li><li>'perc_cells_expressing_gene_R'</li><li>'total_amount_cells_expressing_gene_R'</li><li>'ident_R'</li><li>'mean_expr_R'</li><li>'var_expression_R'</li><li>'cell_type_R'</li><li>'cluster_vis_R'</li><li>'variable_R'</li></ol>\n"
      ],
      "text/latex": [
       "\\begin{enumerate*}\n",
       "\\item 'Receptor'\n",
       "\\item 'Ligand'\n",
       "\\item 'amount\\_sources'\n",
       "\\item 'weight'\n",
       "\\item 'interaction\\_type'\n",
       "\\item 'type'\n",
       "\\item 'cluster'\n",
       "\\item 'perc\\_cells\\_expressing\\_gene'\n",
       "\\item 'total\\_amount\\_cells\\_expressing\\_gene'\n",
       "\\item 'ident'\n",
       "\\item 'mean\\_expr'\n",
       "\\item 'var\\_expression'\n",
       "\\item 'cell\\_type'\n",
       "\\item 'cluster\\_vis'\n",
       "\\item 'variable'\n",
       "\\item 'interaction\\_type\\_R'\n",
       "\\item 'type\\_R'\n",
       "\\item 'cluster\\_R'\n",
       "\\item 'perc\\_cells\\_expressing\\_gene\\_R'\n",
       "\\item 'total\\_amount\\_cells\\_expressing\\_gene\\_R'\n",
       "\\item 'ident\\_R'\n",
       "\\item 'mean\\_expr\\_R'\n",
       "\\item 'var\\_expression\\_R'\n",
       "\\item 'cell\\_type\\_R'\n",
       "\\item 'cluster\\_vis\\_R'\n",
       "\\item 'variable\\_R'\n",
       "\\end{enumerate*}\n"
      ],
      "text/markdown": [
       "1. 'Receptor'\n",
       "2. 'Ligand'\n",
       "3. 'amount_sources'\n",
       "4. 'weight'\n",
       "5. 'interaction_type'\n",
       "6. 'type'\n",
       "7. 'cluster'\n",
       "8. 'perc_cells_expressing_gene'\n",
       "9. 'total_amount_cells_expressing_gene'\n",
       "10. 'ident'\n",
       "11. 'mean_expr'\n",
       "12. 'var_expression'\n",
       "13. 'cell_type'\n",
       "14. 'cluster_vis'\n",
       "15. 'variable'\n",
       "16. 'interaction_type_R'\n",
       "17. 'type_R'\n",
       "18. 'cluster_R'\n",
       "19. 'perc_cells_expressing_gene_R'\n",
       "20. 'total_amount_cells_expressing_gene_R'\n",
       "21. 'ident_R'\n",
       "22. 'mean_expr_R'\n",
       "23. 'var_expression_R'\n",
       "24. 'cell_type_R'\n",
       "25. 'cluster_vis_R'\n",
       "26. 'variable_R'\n",
       "\n",
       "\n"
      ],
      "text/plain": [
       " [1] \"Receptor\"                            \n",
       " [2] \"Ligand\"                              \n",
       " [3] \"amount_sources\"                      \n",
       " [4] \"weight\"                              \n",
       " [5] \"interaction_type\"                    \n",
       " [6] \"type\"                                \n",
       " [7] \"cluster\"                             \n",
       " [8] \"perc_cells_expressing_gene\"          \n",
       " [9] \"total_amount_cells_expressing_gene\"  \n",
       "[10] \"ident\"                               \n",
       "[11] \"mean_expr\"                           \n",
       "[12] \"var_expression\"                      \n",
       "[13] \"cell_type\"                           \n",
       "[14] \"cluster_vis\"                         \n",
       "[15] \"variable\"                            \n",
       "[16] \"interaction_type_R\"                  \n",
       "[17] \"type_R\"                              \n",
       "[18] \"cluster_R\"                           \n",
       "[19] \"perc_cells_expressing_gene_R\"        \n",
       "[20] \"total_amount_cells_expressing_gene_R\"\n",
       "[21] \"ident_R\"                             \n",
       "[22] \"mean_expr_R\"                         \n",
       "[23] \"var_expression_R\"                    \n",
       "[24] \"cell_type_R\"                         \n",
       "[25] \"cluster_vis_R\"                       \n",
       "[26] \"variable_R\"                          "
      ]
     },
     "metadata": {},
     "output_type": "display_data"
    }
   ],
   "source": [
    "colnames(data)"
   ]
  },
  {
   "cell_type": "code",
   "execution_count": 487,
   "id": "cf52413f-7332-4e0b-89f1-8e7ca86bd238",
   "metadata": {},
   "outputs": [
    {
     "data": {
      "text/html": [
       "5835"
      ],
      "text/latex": [
       "5835"
      ],
      "text/markdown": [
       "5835"
      ],
      "text/plain": [
       "[1] 5835"
      ]
     },
     "metadata": {},
     "output_type": "display_data"
    }
   ],
   "source": [
    "nrow(data)"
   ]
  },
  {
   "cell_type": "code",
   "execution_count": 488,
   "id": "29b387e7-62ba-4524-a95d-cd6abeed4572",
   "metadata": {},
   "outputs": [
    {
     "data": {
      "text/html": [
       "<style>\n",
       ".list-inline {list-style: none; margin:0; padding: 0}\n",
       ".list-inline>li {display: inline-block}\n",
       ".list-inline>li:not(:last-child)::after {content: \"\\00b7\"; padding: 0 .5ex}\n",
       "</style>\n",
       "<ol class=list-inline><li>'proteomics'</li><li>'single_cell'</li><li>'neutrophil'</li><li>'cytokine'</li></ol>\n"
      ],
      "text/latex": [
       "\\begin{enumerate*}\n",
       "\\item 'proteomics'\n",
       "\\item 'single\\_cell'\n",
       "\\item 'neutrophil'\n",
       "\\item 'cytokine'\n",
       "\\end{enumerate*}\n"
      ],
      "text/markdown": [
       "1. 'proteomics'\n",
       "2. 'single_cell'\n",
       "3. 'neutrophil'\n",
       "4. 'cytokine'\n",
       "\n",
       "\n"
      ],
      "text/plain": [
       "[1] \"proteomics\"  \"single_cell\" \"neutrophil\"  \"cytokine\"   "
      ]
     },
     "metadata": {},
     "output_type": "display_data"
    }
   ],
   "source": [
    "unique(data$type)"
   ]
  },
  {
   "cell_type": "code",
   "execution_count": 489,
   "id": "3044cb11-4e12-4354-8496-e28d8e6e8bb9",
   "metadata": {},
   "outputs": [],
   "source": [
    "#### Remove same type links (ligands to receptors of same type)"
   ]
  },
  {
   "cell_type": "code",
   "execution_count": 490,
   "id": "fdcbeaeb-214f-4f7c-b707-e22d27c3981f",
   "metadata": {},
   "outputs": [],
   "source": [
    "data = data[data$cell_type != data$cell_type_R,]"
   ]
  },
  {
   "cell_type": "code",
   "execution_count": 491,
   "id": "f4fd0a82-e0ef-49d5-96a5-4f06e59f83fa",
   "metadata": {},
   "outputs": [
    {
     "data": {
      "text/html": [
       "4930"
      ],
      "text/latex": [
       "4930"
      ],
      "text/markdown": [
       "4930"
      ],
      "text/plain": [
       "[1] 4930"
      ]
     },
     "metadata": {},
     "output_type": "display_data"
    }
   ],
   "source": [
    "nrow(data)"
   ]
  },
  {
   "cell_type": "code",
   "execution_count": 492,
   "id": "f17e0a8b-9e45-48e5-b72e-0302f9f3f313",
   "metadata": {},
   "outputs": [
    {
     "data": {
      "text/html": [
       "<style>\n",
       ".list-inline {list-style: none; margin:0; padding: 0}\n",
       ".list-inline>li {display: inline-block}\n",
       ".list-inline>li:not(:last-child)::after {content: \"\\00b7\"; padding: 0 .5ex}\n",
       "</style>\n",
       "<ol class=list-inline><li>'proteomics'</li><li>'single_cell'</li><li>'neutrophil'</li><li>'cytokine'</li></ol>\n"
      ],
      "text/latex": [
       "\\begin{enumerate*}\n",
       "\\item 'proteomics'\n",
       "\\item 'single\\_cell'\n",
       "\\item 'neutrophil'\n",
       "\\item 'cytokine'\n",
       "\\end{enumerate*}\n"
      ],
      "text/markdown": [
       "1. 'proteomics'\n",
       "2. 'single_cell'\n",
       "3. 'neutrophil'\n",
       "4. 'cytokine'\n",
       "\n",
       "\n"
      ],
      "text/plain": [
       "[1] \"proteomics\"  \"single_cell\" \"neutrophil\"  \"cytokine\"   "
      ]
     },
     "metadata": {},
     "output_type": "display_data"
    }
   ],
   "source": [
    "unique(data$type)"
   ]
  },
  {
   "cell_type": "markdown",
   "id": "344dde5b-e2fa-478c-9adc-f3ded4c0943a",
   "metadata": {
    "tags": []
   },
   "source": [
    "## Combine expression data and interaction potential with correlations"
   ]
  },
  {
   "cell_type": "code",
   "execution_count": 493,
   "id": "c5537ee5-4e56-4884-8b88-2233063a353c",
   "metadata": {},
   "outputs": [
    {
     "data": {
      "text/html": [
       "<table class=\"dataframe\">\n",
       "<caption>A data.frame: 2 × 3</caption>\n",
       "<thead>\n",
       "\t<tr><th></th><th scope=col>ligand</th><th scope=col>receptor</th><th scope=col>correlation</th></tr>\n",
       "\t<tr><th></th><th scope=col>&lt;fct&gt;</th><th scope=col>&lt;fct&gt;</th><th scope=col>&lt;dbl&gt;</th></tr>\n",
       "</thead>\n",
       "<tbody>\n",
       "\t<tr><th scope=row>1</th><td>cytokine_0_BCA1__CXCL13</td><td>neutrophil_0_ABCA7</td><td>0.09543501</td></tr>\n",
       "\t<tr><th scope=row>2</th><td>cytokine_0_CTACK__CCL27</td><td>neutrophil_0_ABCA7</td><td>0.05916357</td></tr>\n",
       "</tbody>\n",
       "</table>\n"
      ],
      "text/latex": [
       "A data.frame: 2 × 3\n",
       "\\begin{tabular}{r|lll}\n",
       "  & ligand & receptor & correlation\\\\\n",
       "  & <fct> & <fct> & <dbl>\\\\\n",
       "\\hline\n",
       "\t1 & cytokine\\_0\\_BCA1\\_\\_CXCL13 & neutrophil\\_0\\_ABCA7 & 0.09543501\\\\\n",
       "\t2 & cytokine\\_0\\_CTACK\\_\\_CCL27 & neutrophil\\_0\\_ABCA7 & 0.05916357\\\\\n",
       "\\end{tabular}\n"
      ],
      "text/markdown": [
       "\n",
       "A data.frame: 2 × 3\n",
       "\n",
       "| <!--/--> | ligand &lt;fct&gt; | receptor &lt;fct&gt; | correlation &lt;dbl&gt; |\n",
       "|---|---|---|---|\n",
       "| 1 | cytokine_0_BCA1__CXCL13 | neutrophil_0_ABCA7 | 0.09543501 |\n",
       "| 2 | cytokine_0_CTACK__CCL27 | neutrophil_0_ABCA7 | 0.05916357 |\n",
       "\n"
      ],
      "text/plain": [
       "  ligand                  receptor           correlation\n",
       "1 cytokine_0_BCA1__CXCL13 neutrophil_0_ABCA7 0.09543501 \n",
       "2 cytokine_0_CTACK__CCL27 neutrophil_0_ABCA7 0.05916357 "
      ]
     },
     "metadata": {},
     "output_type": "display_data"
    }
   ],
   "source": [
    "head(ligand_receptor_correlations,2)"
   ]
  },
  {
   "cell_type": "code",
   "execution_count": 494,
   "id": "f12703f0-81c2-4639-b183-7cdd32171749",
   "metadata": {},
   "outputs": [
    {
     "data": {
      "text/html": [
       "<table class=\"dataframe\">\n",
       "<caption>A data.frame: 2 × 26</caption>\n",
       "<thead>\n",
       "\t<tr><th></th><th scope=col>Receptor</th><th scope=col>Ligand</th><th scope=col>amount_sources</th><th scope=col>weight</th><th scope=col>interaction_type</th><th scope=col>type</th><th scope=col>cluster</th><th scope=col>perc_cells_expressing_gene</th><th scope=col>total_amount_cells_expressing_gene</th><th scope=col>ident</th><th scope=col>⋯</th><th scope=col>type_R</th><th scope=col>cluster_R</th><th scope=col>perc_cells_expressing_gene_R</th><th scope=col>total_amount_cells_expressing_gene_R</th><th scope=col>ident_R</th><th scope=col>mean_expr_R</th><th scope=col>var_expression_R</th><th scope=col>cell_type_R</th><th scope=col>cluster_vis_R</th><th scope=col>variable_R</th></tr>\n",
       "\t<tr><th></th><th scope=col>&lt;chr&gt;</th><th scope=col>&lt;chr&gt;</th><th scope=col>&lt;int&gt;</th><th scope=col>&lt;dbl&gt;</th><th scope=col>&lt;chr&gt;</th><th scope=col>&lt;chr&gt;</th><th scope=col>&lt;chr&gt;</th><th scope=col>&lt;dbl&gt;</th><th scope=col>&lt;int&gt;</th><th scope=col>&lt;chr&gt;</th><th scope=col>⋯</th><th scope=col>&lt;chr&gt;</th><th scope=col>&lt;chr&gt;</th><th scope=col>&lt;dbl&gt;</th><th scope=col>&lt;int&gt;</th><th scope=col>&lt;chr&gt;</th><th scope=col>&lt;dbl&gt;</th><th scope=col>&lt;dbl&gt;</th><th scope=col>&lt;chr&gt;</th><th scope=col>&lt;int&gt;</th><th scope=col>&lt;chr&gt;</th></tr>\n",
       "</thead>\n",
       "<tbody>\n",
       "\t<tr><th scope=row>1</th><td>ABCA7  </td><td>APOA1 </td><td>1</td><td>0.4572367</td><td>Ligand</td><td>proteomics</td><td>proteomics</td><td>69.10381</td><td>NA</td><td>proteomics_0_APOA1_P02647 </td><td>⋯</td><td>neutrophil</td><td>neutrophil</td><td>69.10381</td><td>NA</td><td>neutrophil_0_ABCA7  </td><td>1.387586</td><td>0.8848451</td><td>neutrophil</td><td>NA</td><td>neutrophil_0_ABCA7  </td></tr>\n",
       "\t<tr><th scope=row>2</th><td>ADIPOR1</td><td>ADIPOQ</td><td>1</td><td>0.7307022</td><td>Ligand</td><td>proteomics</td><td>proteomics</td><td>69.10381</td><td>NA</td><td>proteomics_0_ADIPOQ_Q15848</td><td>⋯</td><td>neutrophil</td><td>neutrophil</td><td>69.10381</td><td>NA</td><td>neutrophil_0_ADIPOR1</td><td>2.269589</td><td>0.8178776</td><td>neutrophil</td><td>NA</td><td>neutrophil_0_ADIPOR1</td></tr>\n",
       "</tbody>\n",
       "</table>\n"
      ],
      "text/latex": [
       "A data.frame: 2 × 26\n",
       "\\begin{tabular}{r|lllllllllllllllllllll}\n",
       "  & Receptor & Ligand & amount\\_sources & weight & interaction\\_type & type & cluster & perc\\_cells\\_expressing\\_gene & total\\_amount\\_cells\\_expressing\\_gene & ident & ⋯ & type\\_R & cluster\\_R & perc\\_cells\\_expressing\\_gene\\_R & total\\_amount\\_cells\\_expressing\\_gene\\_R & ident\\_R & mean\\_expr\\_R & var\\_expression\\_R & cell\\_type\\_R & cluster\\_vis\\_R & variable\\_R\\\\\n",
       "  & <chr> & <chr> & <int> & <dbl> & <chr> & <chr> & <chr> & <dbl> & <int> & <chr> & ⋯ & <chr> & <chr> & <dbl> & <int> & <chr> & <dbl> & <dbl> & <chr> & <int> & <chr>\\\\\n",
       "\\hline\n",
       "\t1 & ABCA7   & APOA1  & 1 & 0.4572367 & Ligand & proteomics & proteomics & 69.10381 & NA & proteomics\\_0\\_APOA1\\_P02647  & ⋯ & neutrophil & neutrophil & 69.10381 & NA & neutrophil\\_0\\_ABCA7   & 1.387586 & 0.8848451 & neutrophil & NA & neutrophil\\_0\\_ABCA7  \\\\\n",
       "\t2 & ADIPOR1 & ADIPOQ & 1 & 0.7307022 & Ligand & proteomics & proteomics & 69.10381 & NA & proteomics\\_0\\_ADIPOQ\\_Q15848 & ⋯ & neutrophil & neutrophil & 69.10381 & NA & neutrophil\\_0\\_ADIPOR1 & 2.269589 & 0.8178776 & neutrophil & NA & neutrophil\\_0\\_ADIPOR1\\\\\n",
       "\\end{tabular}\n"
      ],
      "text/markdown": [
       "\n",
       "A data.frame: 2 × 26\n",
       "\n",
       "| <!--/--> | Receptor &lt;chr&gt; | Ligand &lt;chr&gt; | amount_sources &lt;int&gt; | weight &lt;dbl&gt; | interaction_type &lt;chr&gt; | type &lt;chr&gt; | cluster &lt;chr&gt; | perc_cells_expressing_gene &lt;dbl&gt; | total_amount_cells_expressing_gene &lt;int&gt; | ident &lt;chr&gt; | ⋯ ⋯ | type_R &lt;chr&gt; | cluster_R &lt;chr&gt; | perc_cells_expressing_gene_R &lt;dbl&gt; | total_amount_cells_expressing_gene_R &lt;int&gt; | ident_R &lt;chr&gt; | mean_expr_R &lt;dbl&gt; | var_expression_R &lt;dbl&gt; | cell_type_R &lt;chr&gt; | cluster_vis_R &lt;int&gt; | variable_R &lt;chr&gt; |\n",
       "|---|---|---|---|---|---|---|---|---|---|---|---|---|---|---|---|---|---|---|---|---|---|\n",
       "| 1 | ABCA7   | APOA1  | 1 | 0.4572367 | Ligand | proteomics | proteomics | 69.10381 | NA | proteomics_0_APOA1_P02647  | ⋯ | neutrophil | neutrophil | 69.10381 | NA | neutrophil_0_ABCA7   | 1.387586 | 0.8848451 | neutrophil | NA | neutrophil_0_ABCA7   |\n",
       "| 2 | ADIPOR1 | ADIPOQ | 1 | 0.7307022 | Ligand | proteomics | proteomics | 69.10381 | NA | proteomics_0_ADIPOQ_Q15848 | ⋯ | neutrophil | neutrophil | 69.10381 | NA | neutrophil_0_ADIPOR1 | 2.269589 | 0.8178776 | neutrophil | NA | neutrophil_0_ADIPOR1 |\n",
       "\n"
      ],
      "text/plain": [
       "  Receptor Ligand amount_sources weight    interaction_type type      \n",
       "1 ABCA7    APOA1  1              0.4572367 Ligand           proteomics\n",
       "2 ADIPOR1  ADIPOQ 1              0.7307022 Ligand           proteomics\n",
       "  cluster    perc_cells_expressing_gene total_amount_cells_expressing_gene\n",
       "1 proteomics 69.10381                   NA                                \n",
       "2 proteomics 69.10381                   NA                                \n",
       "  ident                      ⋯ type_R     cluster_R \n",
       "1 proteomics_0_APOA1_P02647  ⋯ neutrophil neutrophil\n",
       "2 proteomics_0_ADIPOQ_Q15848 ⋯ neutrophil neutrophil\n",
       "  perc_cells_expressing_gene_R total_amount_cells_expressing_gene_R\n",
       "1 69.10381                     NA                                  \n",
       "2 69.10381                     NA                                  \n",
       "  ident_R              mean_expr_R var_expression_R cell_type_R cluster_vis_R\n",
       "1 neutrophil_0_ABCA7   1.387586    0.8848451        neutrophil  NA           \n",
       "2 neutrophil_0_ADIPOR1 2.269589    0.8178776        neutrophil  NA           \n",
       "  variable_R          \n",
       "1 neutrophil_0_ABCA7  \n",
       "2 neutrophil_0_ADIPOR1"
      ]
     },
     "metadata": {},
     "output_type": "display_data"
    }
   ],
   "source": [
    "head(data,2)"
   ]
  },
  {
   "cell_type": "code",
   "execution_count": 495,
   "id": "6635545d-bc10-44df-94d6-5c224fd231c3",
   "metadata": {},
   "outputs": [
    {
     "data": {
      "text/html": [
       "4930"
      ],
      "text/latex": [
       "4930"
      ],
      "text/markdown": [
       "4930"
      ],
      "text/plain": [
       "[1] 4930"
      ]
     },
     "metadata": {},
     "output_type": "display_data"
    }
   ],
   "source": [
    "nrow(data)"
   ]
  },
  {
   "cell_type": "code",
   "execution_count": 496,
   "id": "69497364-7065-492d-ae1e-9d5f47386ce3",
   "metadata": {},
   "outputs": [
    {
     "data": {
      "text/html": [
       "163315"
      ],
      "text/latex": [
       "163315"
      ],
      "text/markdown": [
       "163315"
      ],
      "text/plain": [
       "[1] 163315"
      ]
     },
     "metadata": {},
     "output_type": "display_data"
    }
   ],
   "source": [
    "nrow(ligand_receptor_correlations)"
   ]
  },
  {
   "cell_type": "code",
   "execution_count": 497,
   "id": "d3ee5c37-08e4-4fad-9066-d4463b444a10",
   "metadata": {},
   "outputs": [],
   "source": [
    "data = merge(data, ligand_receptor_correlations, by.x = c('ident', 'ident_R'), by.y = c('ligand', 'receptor'))"
   ]
  },
  {
   "cell_type": "code",
   "execution_count": 498,
   "id": "d280e13f-bfed-4f8d-8575-3751c666d9c9",
   "metadata": {},
   "outputs": [
    {
     "data": {
      "text/html": [
       "4930"
      ],
      "text/latex": [
       "4930"
      ],
      "text/markdown": [
       "4930"
      ],
      "text/plain": [
       "[1] 4930"
      ]
     },
     "metadata": {},
     "output_type": "display_data"
    }
   ],
   "source": [
    "nrow(data)"
   ]
  },
  {
   "cell_type": "code",
   "execution_count": 499,
   "id": "1e14e57c-1ab0-47c6-8dd9-1cc06746a4ce",
   "metadata": {},
   "outputs": [
    {
     "data": {
      "text/html": [
       "'all'"
      ],
      "text/latex": [
       "'all'"
      ],
      "text/markdown": [
       "'all'"
      ],
      "text/plain": [
       "[1] \"all\""
      ]
     },
     "metadata": {},
     "output_type": "display_data"
    }
   ],
   "source": [
    "filter_samples"
   ]
  },
  {
   "cell_type": "code",
   "execution_count": 500,
   "id": "78e10b39-0a5b-4ba6-a68c-2444567db07b",
   "metadata": {},
   "outputs": [],
   "source": [
    "## save the data"
   ]
  },
  {
   "cell_type": "code",
   "execution_count": 501,
   "id": "8c4a960e-142b-4881-997f-392f7056f953",
   "metadata": {},
   "outputs": [],
   "source": [
    "write.table(data,gzfile(paste0(result_path, '/F-Analysis/' ,'F4_Ligand_Receptor_Data', name, filter_samples,'.gz')))"
   ]
  },
  {
   "cell_type": "markdown",
   "id": "05d5e645-60c4-42da-a581-9578200fcd0e",
   "metadata": {
    "tags": []
   },
   "source": [
    "## Define expressed ligands and potential ligand - target combinations based on expressed receptors"
   ]
  },
  {
   "cell_type": "code",
   "execution_count": 502,
   "id": "14202f35-ea65-4cd2-8c31-f7a2594f4bff",
   "metadata": {},
   "outputs": [],
   "source": [
    "### Define minimum amount of expression of receptor in receiving cell to be able to react to ligand"
   ]
  },
  {
   "cell_type": "code",
   "execution_count": 503,
   "id": "61e16fac-4041-46d6-9942-b1946de77de0",
   "metadata": {},
   "outputs": [
    {
     "data": {
      "text/html": [
       "<table class=\"dataframe\">\n",
       "<caption>A data.frame: 2 × 4</caption>\n",
       "<thead>\n",
       "\t<tr><th></th><th scope=col>Ligand</th><th scope=col>Receptor</th><th scope=col>amount_sources</th><th scope=col>weight</th></tr>\n",
       "\t<tr><th></th><th scope=col>&lt;chr&gt;</th><th scope=col>&lt;chr&gt;</th><th scope=col>&lt;int&gt;</th><th scope=col>&lt;dbl&gt;</th></tr>\n",
       "</thead>\n",
       "<tbody>\n",
       "\t<tr><th scope=row>1</th><td>A2M</td><td>LRP1    </td><td>1</td><td>0.4678977</td></tr>\n",
       "\t<tr><th scope=row>2</th><td>A2M</td><td>TNFRSF14</td><td>1</td><td>0.6990671</td></tr>\n",
       "</tbody>\n",
       "</table>\n"
      ],
      "text/latex": [
       "A data.frame: 2 × 4\n",
       "\\begin{tabular}{r|llll}\n",
       "  & Ligand & Receptor & amount\\_sources & weight\\\\\n",
       "  & <chr> & <chr> & <int> & <dbl>\\\\\n",
       "\\hline\n",
       "\t1 & A2M & LRP1     & 1 & 0.4678977\\\\\n",
       "\t2 & A2M & TNFRSF14 & 1 & 0.6990671\\\\\n",
       "\\end{tabular}\n"
      ],
      "text/markdown": [
       "\n",
       "A data.frame: 2 × 4\n",
       "\n",
       "| <!--/--> | Ligand &lt;chr&gt; | Receptor &lt;chr&gt; | amount_sources &lt;int&gt; | weight &lt;dbl&gt; |\n",
       "|---|---|---|---|---|\n",
       "| 1 | A2M | LRP1     | 1 | 0.4678977 |\n",
       "| 2 | A2M | TNFRSF14 | 1 | 0.6990671 |\n",
       "\n"
      ],
      "text/plain": [
       "  Ligand Receptor amount_sources weight   \n",
       "1 A2M    LRP1     1              0.4678977\n",
       "2 A2M    TNFRSF14 1              0.6990671"
      ]
     },
     "metadata": {},
     "output_type": "display_data"
    }
   ],
   "source": [
    "head(ligand_receptor_interactions,2) # all potential ligand receptor interactions"
   ]
  },
  {
   "cell_type": "code",
   "execution_count": 504,
   "id": "0f8f3c06-73da-492b-aa33-c83e36465e45",
   "metadata": {},
   "outputs": [
    {
     "data": {
      "text/html": [
       "<table class=\"dataframe\">\n",
       "<caption>A data.frame: 2 × 5</caption>\n",
       "<thead>\n",
       "\t<tr><th></th><th scope=col>X</th><th scope=col>perc_cells_expressing_gene</th><th scope=col>total_amount_cells_expressing_gene</th><th scope=col>gene</th><th scope=col>cluster</th></tr>\n",
       "\t<tr><th></th><th scope=col>&lt;chr&gt;</th><th scope=col>&lt;dbl&gt;</th><th scope=col>&lt;int&gt;</th><th scope=col>&lt;chr&gt;</th><th scope=col>&lt;chr&gt;</th></tr>\n",
       "</thead>\n",
       "<tbody>\n",
       "\t<tr><th scope=row>1</th><td>AL627309.1</td><td>0.24327612</td><td>18</td><td>AL627309.1</td><td>X8_B.cell</td></tr>\n",
       "\t<tr><th scope=row>2</th><td>AL627309.4</td><td>0.05406136</td><td> 4</td><td>AL627309.4</td><td>X8_B.cell</td></tr>\n",
       "</tbody>\n",
       "</table>\n"
      ],
      "text/latex": [
       "A data.frame: 2 × 5\n",
       "\\begin{tabular}{r|lllll}\n",
       "  & X & perc\\_cells\\_expressing\\_gene & total\\_amount\\_cells\\_expressing\\_gene & gene & cluster\\\\\n",
       "  & <chr> & <dbl> & <int> & <chr> & <chr>\\\\\n",
       "\\hline\n",
       "\t1 & AL627309.1 & 0.24327612 & 18 & AL627309.1 & X8\\_B.cell\\\\\n",
       "\t2 & AL627309.4 & 0.05406136 &  4 & AL627309.4 & X8\\_B.cell\\\\\n",
       "\\end{tabular}\n"
      ],
      "text/markdown": [
       "\n",
       "A data.frame: 2 × 5\n",
       "\n",
       "| <!--/--> | X &lt;chr&gt; | perc_cells_expressing_gene &lt;dbl&gt; | total_amount_cells_expressing_gene &lt;int&gt; | gene &lt;chr&gt; | cluster &lt;chr&gt; |\n",
       "|---|---|---|---|---|---|\n",
       "| 1 | AL627309.1 | 0.24327612 | 18 | AL627309.1 | X8_B.cell |\n",
       "| 2 | AL627309.4 | 0.05406136 |  4 | AL627309.4 | X8_B.cell |\n",
       "\n"
      ],
      "text/plain": [
       "  X          perc_cells_expressing_gene total_amount_cells_expressing_gene\n",
       "1 AL627309.1 0.24327612                 18                                \n",
       "2 AL627309.4 0.05406136                  4                                \n",
       "  gene       cluster  \n",
       "1 AL627309.1 X8_B.cell\n",
       "2 AL627309.4 X8_B.cell"
      ]
     },
     "metadata": {},
     "output_type": "display_data"
    }
   ],
   "source": [
    "head(cell_perc_cluster,2)   # expression of the genes in cells"
   ]
  },
  {
   "cell_type": "code",
   "execution_count": 505,
   "id": "d60b6d7f-93e4-4337-88b1-0305c5fb5cce",
   "metadata": {},
   "outputs": [],
   "source": [
    "### Set threshold to filter out receptors that are to low expressed\n",
    "cell_perc_cluster_filtered =  cell_perc_cluster[((cell_perc_cluster$perc_cells > 30) & (cell_perc_cluster$total_amount_cells_expressing_gene > 600)) | ((cell_perc_cluster$perc_cells > 10) & (cell_perc_cluster$total_amount_cells_expressing_gene > 1200)),]"
   ]
  },
  {
   "cell_type": "code",
   "execution_count": 506,
   "id": "bd54a0d2-ac92-49bf-900b-4f38e529d313",
   "metadata": {},
   "outputs": [],
   "source": [
    "### Define all potential ligand receptor interactions based on expression\n",
    "potential_ligand_target_types_comb = merge(ligand_receptor_interactions, cell_perc_cluster_filtered, by.x = 'Receptor', by.y = 'gene')"
   ]
  },
  {
   "cell_type": "code",
   "execution_count": 507,
   "id": "8892c6ea-aa4f-4514-9237-6e8648a94242",
   "metadata": {},
   "outputs": [
    {
     "data": {
      "text/html": [
       "<table class=\"dataframe\">\n",
       "<caption>A data.frame: 2 × 8</caption>\n",
       "<thead>\n",
       "\t<tr><th></th><th scope=col>Receptor</th><th scope=col>Ligand</th><th scope=col>amount_sources</th><th scope=col>weight</th><th scope=col>X</th><th scope=col>perc_cells_expressing_gene</th><th scope=col>total_amount_cells_expressing_gene</th><th scope=col>cluster</th></tr>\n",
       "\t<tr><th></th><th scope=col>&lt;chr&gt;</th><th scope=col>&lt;chr&gt;</th><th scope=col>&lt;int&gt;</th><th scope=col>&lt;dbl&gt;</th><th scope=col>&lt;chr&gt;</th><th scope=col>&lt;dbl&gt;</th><th scope=col>&lt;int&gt;</th><th scope=col>&lt;chr&gt;</th></tr>\n",
       "</thead>\n",
       "<tbody>\n",
       "\t<tr><th scope=row>1</th><td>ABCA1</td><td>APOA1</td><td>1</td><td>0.8194814</td><td>ABCA19</td><td>15.74701</td><td>2303</td><td>X4_Monocytes...CD14</td></tr>\n",
       "\t<tr><th scope=row>2</th><td>ABCA1</td><td>APOA1</td><td>1</td><td>0.8194814</td><td>ABCA17</td><td>16.46135</td><td>1844</td><td>X6_Monocytes...CD14</td></tr>\n",
       "</tbody>\n",
       "</table>\n"
      ],
      "text/latex": [
       "A data.frame: 2 × 8\n",
       "\\begin{tabular}{r|llllllll}\n",
       "  & Receptor & Ligand & amount\\_sources & weight & X & perc\\_cells\\_expressing\\_gene & total\\_amount\\_cells\\_expressing\\_gene & cluster\\\\\n",
       "  & <chr> & <chr> & <int> & <dbl> & <chr> & <dbl> & <int> & <chr>\\\\\n",
       "\\hline\n",
       "\t1 & ABCA1 & APOA1 & 1 & 0.8194814 & ABCA19 & 15.74701 & 2303 & X4\\_Monocytes...CD14\\\\\n",
       "\t2 & ABCA1 & APOA1 & 1 & 0.8194814 & ABCA17 & 16.46135 & 1844 & X6\\_Monocytes...CD14\\\\\n",
       "\\end{tabular}\n"
      ],
      "text/markdown": [
       "\n",
       "A data.frame: 2 × 8\n",
       "\n",
       "| <!--/--> | Receptor &lt;chr&gt; | Ligand &lt;chr&gt; | amount_sources &lt;int&gt; | weight &lt;dbl&gt; | X &lt;chr&gt; | perc_cells_expressing_gene &lt;dbl&gt; | total_amount_cells_expressing_gene &lt;int&gt; | cluster &lt;chr&gt; |\n",
       "|---|---|---|---|---|---|---|---|---|\n",
       "| 1 | ABCA1 | APOA1 | 1 | 0.8194814 | ABCA19 | 15.74701 | 2303 | X4_Monocytes...CD14 |\n",
       "| 2 | ABCA1 | APOA1 | 1 | 0.8194814 | ABCA17 | 16.46135 | 1844 | X6_Monocytes...CD14 |\n",
       "\n"
      ],
      "text/plain": [
       "  Receptor Ligand amount_sources weight    X      perc_cells_expressing_gene\n",
       "1 ABCA1    APOA1  1              0.8194814 ABCA19 15.74701                  \n",
       "2 ABCA1    APOA1  1              0.8194814 ABCA17 16.46135                  \n",
       "  total_amount_cells_expressing_gene cluster            \n",
       "1 2303                               X4_Monocytes...CD14\n",
       "2 1844                               X6_Monocytes...CD14"
      ]
     },
     "metadata": {},
     "output_type": "display_data"
    }
   ],
   "source": [
    "head(potential_ligand_target_types_comb,2)"
   ]
  },
  {
   "cell_type": "code",
   "execution_count": 508,
   "id": "742e810d-442f-4f78-a259-90b8b73e5f42",
   "metadata": {},
   "outputs": [],
   "source": [
    "### Define potential ligand interactions with target cell-types (minimum one receptor that can interact with the ligand on the cell-type)\n",
    "potential_ligand_target_types_comb = unique(potential_ligand_target_types_comb[,c('Ligand', 'cluster')] )"
   ]
  },
  {
   "cell_type": "code",
   "execution_count": 509,
   "id": "524ede29-4dc4-48f9-aa42-2fe7c1991182",
   "metadata": {},
   "outputs": [],
   "source": [
    "colnames(potential_ligand_target_types_comb) = c('Ligand', 'cluster_R')"
   ]
  },
  {
   "cell_type": "code",
   "execution_count": 510,
   "id": "f8338a36-14f7-4430-b9eb-db2e060ffa83",
   "metadata": {},
   "outputs": [
    {
     "data": {
      "text/html": [
       "<table class=\"dataframe\">\n",
       "<caption>A data.frame: 2 × 2</caption>\n",
       "<thead>\n",
       "\t<tr><th></th><th scope=col>Ligand</th><th scope=col>cluster_R</th></tr>\n",
       "\t<tr><th></th><th scope=col>&lt;chr&gt;</th><th scope=col>&lt;chr&gt;</th></tr>\n",
       "</thead>\n",
       "<tbody>\n",
       "\t<tr><th scope=row>1</th><td>APOA1</td><td>X4_Monocytes...CD14</td></tr>\n",
       "\t<tr><th scope=row>2</th><td>APOA1</td><td>X6_Monocytes...CD14</td></tr>\n",
       "</tbody>\n",
       "</table>\n"
      ],
      "text/latex": [
       "A data.frame: 2 × 2\n",
       "\\begin{tabular}{r|ll}\n",
       "  & Ligand & cluster\\_R\\\\\n",
       "  & <chr> & <chr>\\\\\n",
       "\\hline\n",
       "\t1 & APOA1 & X4\\_Monocytes...CD14\\\\\n",
       "\t2 & APOA1 & X6\\_Monocytes...CD14\\\\\n",
       "\\end{tabular}\n"
      ],
      "text/markdown": [
       "\n",
       "A data.frame: 2 × 2\n",
       "\n",
       "| <!--/--> | Ligand &lt;chr&gt; | cluster_R &lt;chr&gt; |\n",
       "|---|---|---|\n",
       "| 1 | APOA1 | X4_Monocytes...CD14 |\n",
       "| 2 | APOA1 | X6_Monocytes...CD14 |\n",
       "\n"
      ],
      "text/plain": [
       "  Ligand cluster_R          \n",
       "1 APOA1  X4_Monocytes...CD14\n",
       "2 APOA1  X6_Monocytes...CD14"
      ]
     },
     "metadata": {},
     "output_type": "display_data"
    }
   ],
   "source": [
    "head(potential_ligand_target_types_comb,2) # ligands and the cluster-cell types they can affect"
   ]
  },
  {
   "cell_type": "code",
   "execution_count": 511,
   "id": "4c061112-0e85-451d-9a8d-75d56732928d",
   "metadata": {},
   "outputs": [
    {
     "data": {
      "text/html": [
       "<style>\n",
       ".list-inline {list-style: none; margin:0; padding: 0}\n",
       ".list-inline>li {display: inline-block}\n",
       ".list-inline>li:not(:last-child)::after {content: \"\\00b7\"; padding: 0 .5ex}\n",
       "</style>\n",
       "<ol class=list-inline><li>'X4_Monocytes...CD14'</li><li>'X6_Monocytes...CD14'</li><li>'X2_T.cell.CD4'</li><li>'X1_T.cell.CD8'</li><li>'X7_Monocytes...CD14'</li><li>'X0_T.cell.CD4'</li><li>'X12_Monocytes...CD16_FCGR3A'</li><li>'X3_NK'</li><li>'X9_Monocytes...CD16_FCGR3A'</li><li>'X8_B.cell'</li><li>'X11_T.cell.CD4'</li><li>'X10_B.cell'</li><li>'X5_T.cell.CD4'</li><li>'X13_Dendritic'</li></ol>\n"
      ],
      "text/latex": [
       "\\begin{enumerate*}\n",
       "\\item 'X4\\_Monocytes...CD14'\n",
       "\\item 'X6\\_Monocytes...CD14'\n",
       "\\item 'X2\\_T.cell.CD4'\n",
       "\\item 'X1\\_T.cell.CD8'\n",
       "\\item 'X7\\_Monocytes...CD14'\n",
       "\\item 'X0\\_T.cell.CD4'\n",
       "\\item 'X12\\_Monocytes...CD16\\_FCGR3A'\n",
       "\\item 'X3\\_NK'\n",
       "\\item 'X9\\_Monocytes...CD16\\_FCGR3A'\n",
       "\\item 'X8\\_B.cell'\n",
       "\\item 'X11\\_T.cell.CD4'\n",
       "\\item 'X10\\_B.cell'\n",
       "\\item 'X5\\_T.cell.CD4'\n",
       "\\item 'X13\\_Dendritic'\n",
       "\\end{enumerate*}\n"
      ],
      "text/markdown": [
       "1. 'X4_Monocytes...CD14'\n",
       "2. 'X6_Monocytes...CD14'\n",
       "3. 'X2_T.cell.CD4'\n",
       "4. 'X1_T.cell.CD8'\n",
       "5. 'X7_Monocytes...CD14'\n",
       "6. 'X0_T.cell.CD4'\n",
       "7. 'X12_Monocytes...CD16_FCGR3A'\n",
       "8. 'X3_NK'\n",
       "9. 'X9_Monocytes...CD16_FCGR3A'\n",
       "10. 'X8_B.cell'\n",
       "11. 'X11_T.cell.CD4'\n",
       "12. 'X10_B.cell'\n",
       "13. 'X5_T.cell.CD4'\n",
       "14. 'X13_Dendritic'\n",
       "\n",
       "\n"
      ],
      "text/plain": [
       " [1] \"X4_Monocytes...CD14\"         \"X6_Monocytes...CD14\"        \n",
       " [3] \"X2_T.cell.CD4\"               \"X1_T.cell.CD8\"              \n",
       " [5] \"X7_Monocytes...CD14\"         \"X0_T.cell.CD4\"              \n",
       " [7] \"X12_Monocytes...CD16_FCGR3A\" \"X3_NK\"                      \n",
       " [9] \"X9_Monocytes...CD16_FCGR3A\"  \"X8_B.cell\"                  \n",
       "[11] \"X11_T.cell.CD4\"              \"X10_B.cell\"                 \n",
       "[13] \"X5_T.cell.CD4\"               \"X13_Dendritic\"              "
      ]
     },
     "metadata": {},
     "output_type": "display_data"
    }
   ],
   "source": [
    "unique(potential_ligand_target_types_comb$cluster_R)"
   ]
  },
  {
   "cell_type": "code",
   "execution_count": 512,
   "id": "c89f95e5-12fc-404a-96a1-3f0b9121aa5c",
   "metadata": {},
   "outputs": [
    {
     "data": {
      "text/html": [
       "<table class=\"dataframe\">\n",
       "<caption>A grouped_df: 19 × 2</caption>\n",
       "<thead>\n",
       "\t<tr><th scope=col>Ligand</th><th scope=col>n</th></tr>\n",
       "\t<tr><th scope=col>&lt;chr&gt;</th><th scope=col>&lt;int&gt;</th></tr>\n",
       "</thead>\n",
       "<tbody>\n",
       "\t<tr><td>ARTN   </td><td>1</td></tr>\n",
       "\t<tr><td>CNTN2  </td><td>1</td></tr>\n",
       "\t<tr><td>DEFB4A </td><td>1</td></tr>\n",
       "\t<tr><td>DEFB4B </td><td>1</td></tr>\n",
       "\t<tr><td>DHH    </td><td>1</td></tr>\n",
       "\t<tr><td>FLT3LG </td><td>1</td></tr>\n",
       "\t<tr><td>GPHA2  </td><td>1</td></tr>\n",
       "\t<tr><td>IHH    </td><td>1</td></tr>\n",
       "\t<tr><td>IL18   </td><td>1</td></tr>\n",
       "\t<tr><td>IL23A  </td><td>1</td></tr>\n",
       "\t<tr><td>LIPH   </td><td>1</td></tr>\n",
       "\t<tr><td>NRG1   </td><td>1</td></tr>\n",
       "\t<tr><td>NRTN   </td><td>1</td></tr>\n",
       "\t<tr><td>PSPN   </td><td>1</td></tr>\n",
       "\t<tr><td>SEMA3A </td><td>1</td></tr>\n",
       "\t<tr><td>SEMA3F </td><td>1</td></tr>\n",
       "\t<tr><td>SEMA6D </td><td>1</td></tr>\n",
       "\t<tr><td>TNFSF18</td><td>1</td></tr>\n",
       "\t<tr><td>TNFSF4 </td><td>1</td></tr>\n",
       "</tbody>\n",
       "</table>\n"
      ],
      "text/latex": [
       "A grouped\\_df: 19 × 2\n",
       "\\begin{tabular}{ll}\n",
       " Ligand & n\\\\\n",
       " <chr> & <int>\\\\\n",
       "\\hline\n",
       "\t ARTN    & 1\\\\\n",
       "\t CNTN2   & 1\\\\\n",
       "\t DEFB4A  & 1\\\\\n",
       "\t DEFB4B  & 1\\\\\n",
       "\t DHH     & 1\\\\\n",
       "\t FLT3LG  & 1\\\\\n",
       "\t GPHA2   & 1\\\\\n",
       "\t IHH     & 1\\\\\n",
       "\t IL18    & 1\\\\\n",
       "\t IL23A   & 1\\\\\n",
       "\t LIPH    & 1\\\\\n",
       "\t NRG1    & 1\\\\\n",
       "\t NRTN    & 1\\\\\n",
       "\t PSPN    & 1\\\\\n",
       "\t SEMA3A  & 1\\\\\n",
       "\t SEMA3F  & 1\\\\\n",
       "\t SEMA6D  & 1\\\\\n",
       "\t TNFSF18 & 1\\\\\n",
       "\t TNFSF4  & 1\\\\\n",
       "\\end{tabular}\n"
      ],
      "text/markdown": [
       "\n",
       "A grouped_df: 19 × 2\n",
       "\n",
       "| Ligand &lt;chr&gt; | n &lt;int&gt; |\n",
       "|---|---|\n",
       "| ARTN    | 1 |\n",
       "| CNTN2   | 1 |\n",
       "| DEFB4A  | 1 |\n",
       "| DEFB4B  | 1 |\n",
       "| DHH     | 1 |\n",
       "| FLT3LG  | 1 |\n",
       "| GPHA2   | 1 |\n",
       "| IHH     | 1 |\n",
       "| IL18    | 1 |\n",
       "| IL23A   | 1 |\n",
       "| LIPH    | 1 |\n",
       "| NRG1    | 1 |\n",
       "| NRTN    | 1 |\n",
       "| PSPN    | 1 |\n",
       "| SEMA3A  | 1 |\n",
       "| SEMA3F  | 1 |\n",
       "| SEMA6D  | 1 |\n",
       "| TNFSF18 | 1 |\n",
       "| TNFSF4  | 1 |\n",
       "\n"
      ],
      "text/plain": [
       "   Ligand  n\n",
       "1  ARTN    1\n",
       "2  CNTN2   1\n",
       "3  DEFB4A  1\n",
       "4  DEFB4B  1\n",
       "5  DHH     1\n",
       "6  FLT3LG  1\n",
       "7  GPHA2   1\n",
       "8  IHH     1\n",
       "9  IL18    1\n",
       "10 IL23A   1\n",
       "11 LIPH    1\n",
       "12 NRG1    1\n",
       "13 NRTN    1\n",
       "14 PSPN    1\n",
       "15 SEMA3A  1\n",
       "16 SEMA3F  1\n",
       "17 SEMA6D  1\n",
       "18 TNFSF18 1\n",
       "19 TNFSF4  1"
      ]
     },
     "metadata": {},
     "output_type": "display_data"
    }
   ],
   "source": [
    "# Below: ligands where receptors are only expressed in very low amount of targets  (removed ligands)\n",
    "unique(potential_ligand_target_types_comb[,c('Ligand', 'cluster_R')]) %>% group_by(Ligand) %>% count() %>% filter(n == 1)\n"
   ]
  },
  {
   "cell_type": "code",
   "execution_count": 513,
   "id": "48c2e0f9-0c42-4c9d-9d72-5454f1a5a42b",
   "metadata": {},
   "outputs": [],
   "source": [
    "## get all expressed ligands per cluster"
   ]
  },
  {
   "cell_type": "code",
   "execution_count": 514,
   "id": "49003b10-bc5a-45a8-9c06-0909157616ab",
   "metadata": {},
   "outputs": [],
   "source": [
    "expressed_ligand_types = unique(data[,c('Ligand', 'cluster', 'mean_expr', 'type', 'variable', 'ident')])"
   ]
  },
  {
   "cell_type": "code",
   "execution_count": null,
   "id": "8de04252-820d-4d43-893f-aa6f8f5ddda2",
   "metadata": {},
   "outputs": [],
   "source": []
  },
  {
   "cell_type": "markdown",
   "id": "dc74a9fe-4037-4e1b-b030-80964257adfb",
   "metadata": {},
   "source": [
    "# Ligand Target Data"
   ]
  },
  {
   "cell_type": "markdown",
   "id": "408f8793-3437-4325-b517-d589dc3cf3de",
   "metadata": {
    "tags": []
   },
   "source": [
    "## Calculate ligand - target correlations"
   ]
  },
  {
   "cell_type": "code",
   "execution_count": 515,
   "id": "f0bf8c31-a78e-4ccd-b2a8-d185d659016b",
   "metadata": {},
   "outputs": [
    {
     "data": {
      "text/html": [
       "<table class=\"dataframe\">\n",
       "<caption>A data.frame: 2 × 6</caption>\n",
       "<thead>\n",
       "\t<tr><th></th><th scope=col>Ligand</th><th scope=col>cluster</th><th scope=col>mean_expr</th><th scope=col>type</th><th scope=col>variable</th><th scope=col>ident</th></tr>\n",
       "\t<tr><th></th><th scope=col>&lt;chr&gt;</th><th scope=col>&lt;chr&gt;</th><th scope=col>&lt;dbl&gt;</th><th scope=col>&lt;chr&gt;</th><th scope=col>&lt;chr&gt;</th><th scope=col>&lt;chr&gt;</th></tr>\n",
       "</thead>\n",
       "<tbody>\n",
       "\t<tr><th scope=row>1</th><td>CXCL13</td><td>cytokine</td><td>5.429313</td><td>cytokine</td><td>cytokine_0_CXCL13</td><td>cytokine_0_BCA1__CXCL13</td></tr>\n",
       "\t<tr><th scope=row>30</th><td>CCL27 </td><td>cytokine</td><td>9.723839</td><td>cytokine</td><td>cytokine_0_CCL27 </td><td>cytokine_0_CTACK__CCL27</td></tr>\n",
       "</tbody>\n",
       "</table>\n"
      ],
      "text/latex": [
       "A data.frame: 2 × 6\n",
       "\\begin{tabular}{r|llllll}\n",
       "  & Ligand & cluster & mean\\_expr & type & variable & ident\\\\\n",
       "  & <chr> & <chr> & <dbl> & <chr> & <chr> & <chr>\\\\\n",
       "\\hline\n",
       "\t1 & CXCL13 & cytokine & 5.429313 & cytokine & cytokine\\_0\\_CXCL13 & cytokine\\_0\\_BCA1\\_\\_CXCL13\\\\\n",
       "\t30 & CCL27  & cytokine & 9.723839 & cytokine & cytokine\\_0\\_CCL27  & cytokine\\_0\\_CTACK\\_\\_CCL27\\\\\n",
       "\\end{tabular}\n"
      ],
      "text/markdown": [
       "\n",
       "A data.frame: 2 × 6\n",
       "\n",
       "| <!--/--> | Ligand &lt;chr&gt; | cluster &lt;chr&gt; | mean_expr &lt;dbl&gt; | type &lt;chr&gt; | variable &lt;chr&gt; | ident &lt;chr&gt; |\n",
       "|---|---|---|---|---|---|---|\n",
       "| 1 | CXCL13 | cytokine | 5.429313 | cytokine | cytokine_0_CXCL13 | cytokine_0_BCA1__CXCL13 |\n",
       "| 30 | CCL27  | cytokine | 9.723839 | cytokine | cytokine_0_CCL27  | cytokine_0_CTACK__CCL27 |\n",
       "\n"
      ],
      "text/plain": [
       "   Ligand cluster  mean_expr type     variable          ident                  \n",
       "1  CXCL13 cytokine 5.429313  cytokine cytokine_0_CXCL13 cytokine_0_BCA1__CXCL13\n",
       "30 CCL27  cytokine 9.723839  cytokine cytokine_0_CCL27  cytokine_0_CTACK__CCL27"
      ]
     },
     "metadata": {},
     "output_type": "display_data"
    }
   ],
   "source": [
    "### expressed ligands per cluster\n",
    "head(expressed_ligand_types,2)"
   ]
  },
  {
   "cell_type": "code",
   "execution_count": 516,
   "id": "ae1073d9-f2e1-41f2-9cc3-68b353fb24d7",
   "metadata": {},
   "outputs": [],
   "source": [
    "#### Determine expressed ligands in single-cell data\n",
    "expressed_ligand_types$variable[expressed_ligand_types$type == 'single_cell'] = paste0(expressed_ligand_types$type[expressed_ligand_types$type == 'single_cell'], '_0_',expressed_ligand_types$cluster[expressed_ligand_types$type == 'single_cell'], '__', expressed_ligand_types$Ligand[expressed_ligand_types$type == 'single_cell'] )"
   ]
  },
  {
   "cell_type": "code",
   "execution_count": 517,
   "id": "0ad0a10a-42bd-40c2-b6d0-e5d30c7cf3d2",
   "metadata": {},
   "outputs": [],
   "source": [
    "expressed_ligands = unique(expressed_ligand_types$ident)"
   ]
  },
  {
   "cell_type": "code",
   "execution_count": 518,
   "id": "6a71d50b-d417-4283-a751-5f8aa4fd2af4",
   "metadata": {},
   "outputs": [
    {
     "data": {
      "text/html": [
       "344"
      ],
      "text/latex": [
       "344"
      ],
      "text/markdown": [
       "344"
      ],
      "text/plain": [
       "[1] 344"
      ]
     },
     "metadata": {},
     "output_type": "display_data"
    }
   ],
   "source": [
    "length(expressed_ligands)"
   ]
  },
  {
   "cell_type": "code",
   "execution_count": 519,
   "id": "938631c6-3a2f-4844-a2c3-05a59b0a6479",
   "metadata": {},
   "outputs": [],
   "source": [
    "### Transform data_long to matrix format"
   ]
  },
  {
   "cell_type": "code",
   "execution_count": 520,
   "id": "dbf9a48b-08c1-471e-9abb-c2d5c923608d",
   "metadata": {},
   "outputs": [
    {
     "data": {
      "text/html": [
       "<table class=\"dataframe\">\n",
       "<caption>A data.frame: 2 × 9</caption>\n",
       "<thead>\n",
       "\t<tr><th></th><th scope=col>type</th><th scope=col>variable</th><th scope=col>X</th><th scope=col>sample_id</th><th scope=col>value</th><th scope=col>config</th><th scope=col>expression</th><th scope=col>ident</th><th scope=col>gene</th></tr>\n",
       "\t<tr><th></th><th scope=col>&lt;chr&gt;</th><th scope=col>&lt;chr&gt;</th><th scope=col>&lt;int&gt;</th><th scope=col>&lt;chr&gt;</th><th scope=col>&lt;dbl&gt;</th><th scope=col>&lt;chr&gt;</th><th scope=col>&lt;lgl&gt;</th><th scope=col>&lt;chr&gt;</th><th scope=col>&lt;chr&gt;</th></tr>\n",
       "</thead>\n",
       "<tbody>\n",
       "\t<tr><th scope=row>1</th><td>clinical_data</td><td>CK</td><td>1557210</td><td>k1 </td><td>5.459432</td><td>FALSE-FALSE-TRUE-0.2-FALSE-TRUE-</td><td>TRUE</td><td>clinical_data_0_CK</td><td>CK</td></tr>\n",
       "\t<tr><th scope=row>2</th><td>clinical_data</td><td>CK</td><td>1557211</td><td>k10</td><td>      NA</td><td>FALSE-FALSE-TRUE-0.2-FALSE-TRUE-</td><td>TRUE</td><td>clinical_data_0_CK</td><td>CK</td></tr>\n",
       "</tbody>\n",
       "</table>\n"
      ],
      "text/latex": [
       "A data.frame: 2 × 9\n",
       "\\begin{tabular}{r|lllllllll}\n",
       "  & type & variable & X & sample\\_id & value & config & expression & ident & gene\\\\\n",
       "  & <chr> & <chr> & <int> & <chr> & <dbl> & <chr> & <lgl> & <chr> & <chr>\\\\\n",
       "\\hline\n",
       "\t1 & clinical\\_data & CK & 1557210 & k1  & 5.459432 & FALSE-FALSE-TRUE-0.2-FALSE-TRUE- & TRUE & clinical\\_data\\_0\\_CK & CK\\\\\n",
       "\t2 & clinical\\_data & CK & 1557211 & k10 &       NA & FALSE-FALSE-TRUE-0.2-FALSE-TRUE- & TRUE & clinical\\_data\\_0\\_CK & CK\\\\\n",
       "\\end{tabular}\n"
      ],
      "text/markdown": [
       "\n",
       "A data.frame: 2 × 9\n",
       "\n",
       "| <!--/--> | type &lt;chr&gt; | variable &lt;chr&gt; | X &lt;int&gt; | sample_id &lt;chr&gt; | value &lt;dbl&gt; | config &lt;chr&gt; | expression &lt;lgl&gt; | ident &lt;chr&gt; | gene &lt;chr&gt; |\n",
       "|---|---|---|---|---|---|---|---|---|---|\n",
       "| 1 | clinical_data | CK | 1557210 | k1  | 5.459432 | FALSE-FALSE-TRUE-0.2-FALSE-TRUE- | TRUE | clinical_data_0_CK | CK |\n",
       "| 2 | clinical_data | CK | 1557211 | k10 |       NA | FALSE-FALSE-TRUE-0.2-FALSE-TRUE- | TRUE | clinical_data_0_CK | CK |\n",
       "\n"
      ],
      "text/plain": [
       "  type          variable X       sample_id value   \n",
       "1 clinical_data CK       1557210 k1        5.459432\n",
       "2 clinical_data CK       1557211 k10             NA\n",
       "  config                           expression ident              gene\n",
       "1 FALSE-FALSE-TRUE-0.2-FALSE-TRUE- TRUE       clinical_data_0_CK CK  \n",
       "2 FALSE-FALSE-TRUE-0.2-FALSE-TRUE- TRUE       clinical_data_0_CK CK  "
      ]
     },
     "metadata": {},
     "output_type": "display_data"
    }
   ],
   "source": [
    "head(data_long,2)"
   ]
  },
  {
   "cell_type": "code",
   "execution_count": 521,
   "id": "e5b42efe-5ab0-43c8-a3a8-d1526dfefa15",
   "metadata": {},
   "outputs": [],
   "source": [
    "expression_data = data_long %>% dcast(sample_id ~ ident, value.var = 'value')"
   ]
  },
  {
   "cell_type": "code",
   "execution_count": 522,
   "id": "099dab7a-bf4a-4dba-9f18-0068c7642efe",
   "metadata": {},
   "outputs": [],
   "source": [
    "rownames(expression_data) = expression_data$sample_id"
   ]
  },
  {
   "cell_type": "code",
   "execution_count": 523,
   "id": "62386c1c-2e61-4eef-ace9-ad42e732e1f9",
   "metadata": {},
   "outputs": [],
   "source": [
    "expression_data$sample_id = NULL"
   ]
  },
  {
   "cell_type": "code",
   "execution_count": 524,
   "id": "6bcaf00a-2aa3-47b5-8250-6d51291e71bc",
   "metadata": {},
   "outputs": [
    {
     "data": {
      "text/html": [
       "<table class=\"dataframe\">\n",
       "<caption>A data.frame: 2 × 13283</caption>\n",
       "<thead>\n",
       "\t<tr><th></th><th scope=col>clinical_data_0_CK</th><th scope=col>clinical_data_0_CK_MB</th><th scope=col>clinical_data_0_CRP</th><th scope=col>clinical_data_0_delta_ef_value</th><th scope=col>clinical_data_0_Troponin</th><th scope=col>cytokine_0_BCA1__CXCL13</th><th scope=col>cytokine_0_CTACK__CCL27</th><th scope=col>cytokine_0_EGF__EGF</th><th scope=col>cytokine_0_ENA78__CXCL5</th><th scope=col>cytokine_0_Eotaxin__CCL11</th><th scope=col>⋯</th><th scope=col>single_cell_0_X9_Monocytes...CD16_FCGR3A__ZEB2</th><th scope=col>single_cell_0_X9_Monocytes...CD16_FCGR3A__ZFAND5</th><th scope=col>single_cell_0_X9_Monocytes...CD16_FCGR3A__ZFAS1</th><th scope=col>single_cell_0_X9_Monocytes...CD16_FCGR3A__ZFP36</th><th scope=col>single_cell_0_X9_Monocytes...CD16_FCGR3A__ZFP36L1</th><th scope=col>single_cell_0_X9_Monocytes...CD16_FCGR3A__ZFP36L2</th><th scope=col>single_cell_0_X9_Monocytes...CD16_FCGR3A__ZNF106</th><th scope=col>single_cell_0_X9_Monocytes...CD16_FCGR3A__ZNF207</th><th scope=col>single_cell_0_X9_Monocytes...CD16_FCGR3A__ZNF706</th><th scope=col>single_cell_0_X9_Monocytes...CD16_FCGR3A__ZYX</th></tr>\n",
       "\t<tr><th></th><th scope=col>&lt;dbl&gt;</th><th scope=col>&lt;dbl&gt;</th><th scope=col>&lt;dbl&gt;</th><th scope=col>&lt;dbl&gt;</th><th scope=col>&lt;dbl&gt;</th><th scope=col>&lt;dbl&gt;</th><th scope=col>&lt;dbl&gt;</th><th scope=col>&lt;dbl&gt;</th><th scope=col>&lt;dbl&gt;</th><th scope=col>&lt;dbl&gt;</th><th scope=col>⋯</th><th scope=col>&lt;dbl&gt;</th><th scope=col>&lt;dbl&gt;</th><th scope=col>&lt;dbl&gt;</th><th scope=col>&lt;dbl&gt;</th><th scope=col>&lt;dbl&gt;</th><th scope=col>&lt;dbl&gt;</th><th scope=col>&lt;dbl&gt;</th><th scope=col>&lt;dbl&gt;</th><th scope=col>&lt;dbl&gt;</th><th scope=col>&lt;dbl&gt;</th></tr>\n",
       "</thead>\n",
       "<tbody>\n",
       "\t<tr><th scope=row>k1</th><td>5.459432</td><td>NA</td><td>0.4854268</td><td>NA</td><td>0.01863417</td><td>5.696550</td><td>9.821662</td><td>5.045268</td><td>10.562366</td><td>7.42341</td><td>⋯</td><td>      NA</td><td>      NA</td><td>      NA</td><td>      NA</td><td>      NA</td><td>      NA</td><td>      NA</td><td>       NA</td><td>      NA</td><td>       NA</td></tr>\n",
       "\t<tr><th scope=row>k10</th><td>      NA</td><td>NA</td><td>0.2630344</td><td>NA</td><td>        NA</td><td>4.697663</td><td>9.701220</td><td>1.922198</td><td> 7.724173</td><td>9.19842</td><td>⋯</td><td>2.461054</td><td>2.157169</td><td>1.975326</td><td>3.139595</td><td>2.078417</td><td>1.843355</td><td>1.343136</td><td>0.6540153</td><td>1.190677</td><td>0.8572279</td></tr>\n",
       "</tbody>\n",
       "</table>\n"
      ],
      "text/latex": [
       "A data.frame: 2 × 13283\n",
       "\\begin{tabular}{r|lllllllllllllllllllll}\n",
       "  & clinical\\_data\\_0\\_CK & clinical\\_data\\_0\\_CK\\_MB & clinical\\_data\\_0\\_CRP & clinical\\_data\\_0\\_delta\\_ef\\_value & clinical\\_data\\_0\\_Troponin & cytokine\\_0\\_BCA1\\_\\_CXCL13 & cytokine\\_0\\_CTACK\\_\\_CCL27 & cytokine\\_0\\_EGF\\_\\_EGF & cytokine\\_0\\_ENA78\\_\\_CXCL5 & cytokine\\_0\\_Eotaxin\\_\\_CCL11 & ⋯ & single\\_cell\\_0\\_X9\\_Monocytes...CD16\\_FCGR3A\\_\\_ZEB2 & single\\_cell\\_0\\_X9\\_Monocytes...CD16\\_FCGR3A\\_\\_ZFAND5 & single\\_cell\\_0\\_X9\\_Monocytes...CD16\\_FCGR3A\\_\\_ZFAS1 & single\\_cell\\_0\\_X9\\_Monocytes...CD16\\_FCGR3A\\_\\_ZFP36 & single\\_cell\\_0\\_X9\\_Monocytes...CD16\\_FCGR3A\\_\\_ZFP36L1 & single\\_cell\\_0\\_X9\\_Monocytes...CD16\\_FCGR3A\\_\\_ZFP36L2 & single\\_cell\\_0\\_X9\\_Monocytes...CD16\\_FCGR3A\\_\\_ZNF106 & single\\_cell\\_0\\_X9\\_Monocytes...CD16\\_FCGR3A\\_\\_ZNF207 & single\\_cell\\_0\\_X9\\_Monocytes...CD16\\_FCGR3A\\_\\_ZNF706 & single\\_cell\\_0\\_X9\\_Monocytes...CD16\\_FCGR3A\\_\\_ZYX\\\\\n",
       "  & <dbl> & <dbl> & <dbl> & <dbl> & <dbl> & <dbl> & <dbl> & <dbl> & <dbl> & <dbl> & ⋯ & <dbl> & <dbl> & <dbl> & <dbl> & <dbl> & <dbl> & <dbl> & <dbl> & <dbl> & <dbl>\\\\\n",
       "\\hline\n",
       "\tk1 & 5.459432 & NA & 0.4854268 & NA & 0.01863417 & 5.696550 & 9.821662 & 5.045268 & 10.562366 & 7.42341 & ⋯ &       NA &       NA &       NA &       NA &       NA &       NA &       NA &        NA &       NA &        NA\\\\\n",
       "\tk10 &       NA & NA & 0.2630344 & NA &         NA & 4.697663 & 9.701220 & 1.922198 &  7.724173 & 9.19842 & ⋯ & 2.461054 & 2.157169 & 1.975326 & 3.139595 & 2.078417 & 1.843355 & 1.343136 & 0.6540153 & 1.190677 & 0.8572279\\\\\n",
       "\\end{tabular}\n"
      ],
      "text/markdown": [
       "\n",
       "A data.frame: 2 × 13283\n",
       "\n",
       "| <!--/--> | clinical_data_0_CK &lt;dbl&gt; | clinical_data_0_CK_MB &lt;dbl&gt; | clinical_data_0_CRP &lt;dbl&gt; | clinical_data_0_delta_ef_value &lt;dbl&gt; | clinical_data_0_Troponin &lt;dbl&gt; | cytokine_0_BCA1__CXCL13 &lt;dbl&gt; | cytokine_0_CTACK__CCL27 &lt;dbl&gt; | cytokine_0_EGF__EGF &lt;dbl&gt; | cytokine_0_ENA78__CXCL5 &lt;dbl&gt; | cytokine_0_Eotaxin__CCL11 &lt;dbl&gt; | ⋯ ⋯ | single_cell_0_X9_Monocytes...CD16_FCGR3A__ZEB2 &lt;dbl&gt; | single_cell_0_X9_Monocytes...CD16_FCGR3A__ZFAND5 &lt;dbl&gt; | single_cell_0_X9_Monocytes...CD16_FCGR3A__ZFAS1 &lt;dbl&gt; | single_cell_0_X9_Monocytes...CD16_FCGR3A__ZFP36 &lt;dbl&gt; | single_cell_0_X9_Monocytes...CD16_FCGR3A__ZFP36L1 &lt;dbl&gt; | single_cell_0_X9_Monocytes...CD16_FCGR3A__ZFP36L2 &lt;dbl&gt; | single_cell_0_X9_Monocytes...CD16_FCGR3A__ZNF106 &lt;dbl&gt; | single_cell_0_X9_Monocytes...CD16_FCGR3A__ZNF207 &lt;dbl&gt; | single_cell_0_X9_Monocytes...CD16_FCGR3A__ZNF706 &lt;dbl&gt; | single_cell_0_X9_Monocytes...CD16_FCGR3A__ZYX &lt;dbl&gt; |\n",
       "|---|---|---|---|---|---|---|---|---|---|---|---|---|---|---|---|---|---|---|---|---|---|\n",
       "| k1 | 5.459432 | NA | 0.4854268 | NA | 0.01863417 | 5.696550 | 9.821662 | 5.045268 | 10.562366 | 7.42341 | ⋯ |       NA |       NA |       NA |       NA |       NA |       NA |       NA |        NA |       NA |        NA |\n",
       "| k10 |       NA | NA | 0.2630344 | NA |         NA | 4.697663 | 9.701220 | 1.922198 |  7.724173 | 9.19842 | ⋯ | 2.461054 | 2.157169 | 1.975326 | 3.139595 | 2.078417 | 1.843355 | 1.343136 | 0.6540153 | 1.190677 | 0.8572279 |\n",
       "\n"
      ],
      "text/plain": [
       "    clinical_data_0_CK clinical_data_0_CK_MB clinical_data_0_CRP\n",
       "k1  5.459432           NA                    0.4854268          \n",
       "k10       NA           NA                    0.2630344          \n",
       "    clinical_data_0_delta_ef_value clinical_data_0_Troponin\n",
       "k1  NA                             0.01863417              \n",
       "k10 NA                                     NA              \n",
       "    cytokine_0_BCA1__CXCL13 cytokine_0_CTACK__CCL27 cytokine_0_EGF__EGF\n",
       "k1  5.696550                9.821662                5.045268           \n",
       "k10 4.697663                9.701220                1.922198           \n",
       "    cytokine_0_ENA78__CXCL5 cytokine_0_Eotaxin__CCL11 ⋯\n",
       "k1  10.562366               7.42341                   ⋯\n",
       "k10  7.724173               9.19842                   ⋯\n",
       "    single_cell_0_X9_Monocytes...CD16_FCGR3A__ZEB2\n",
       "k1        NA                                      \n",
       "k10 2.461054                                      \n",
       "    single_cell_0_X9_Monocytes...CD16_FCGR3A__ZFAND5\n",
       "k1        NA                                        \n",
       "k10 2.157169                                        \n",
       "    single_cell_0_X9_Monocytes...CD16_FCGR3A__ZFAS1\n",
       "k1        NA                                       \n",
       "k10 1.975326                                       \n",
       "    single_cell_0_X9_Monocytes...CD16_FCGR3A__ZFP36\n",
       "k1        NA                                       \n",
       "k10 3.139595                                       \n",
       "    single_cell_0_X9_Monocytes...CD16_FCGR3A__ZFP36L1\n",
       "k1        NA                                         \n",
       "k10 2.078417                                         \n",
       "    single_cell_0_X9_Monocytes...CD16_FCGR3A__ZFP36L2\n",
       "k1        NA                                         \n",
       "k10 1.843355                                         \n",
       "    single_cell_0_X9_Monocytes...CD16_FCGR3A__ZNF106\n",
       "k1        NA                                        \n",
       "k10 1.343136                                        \n",
       "    single_cell_0_X9_Monocytes...CD16_FCGR3A__ZNF207\n",
       "k1         NA                                       \n",
       "k10 0.6540153                                       \n",
       "    single_cell_0_X9_Monocytes...CD16_FCGR3A__ZNF706\n",
       "k1        NA                                        \n",
       "k10 1.190677                                        \n",
       "    single_cell_0_X9_Monocytes...CD16_FCGR3A__ZYX\n",
       "k1         NA                                    \n",
       "k10 0.8572279                                    "
      ]
     },
     "metadata": {},
     "output_type": "display_data"
    }
   ],
   "source": [
    "head(expression_data,2)"
   ]
  },
  {
   "cell_type": "code",
   "execution_count": 525,
   "id": "dc74d19d-d14c-40cb-8913-8d718d4b6334",
   "metadata": {},
   "outputs": [],
   "source": [
    "### Calculate all correlations between ligands and targets"
   ]
  },
  {
   "cell_type": "code",
   "execution_count": 526,
   "id": "5494afdd-6628-4711-9beb-739f43ad13a1",
   "metadata": {
    "collapsed": true,
    "jupyter": {
     "outputs_hidden": true
    },
    "tags": []
   },
   "outputs": [
    {
     "name": "stderr",
     "output_type": "stream",
     "text": [
      "Warning message in stats::cor(x, y, use, method):\n",
      "“the standard deviation is zero”\n",
      "Warning message in stats::cor(x, y, use, method):\n",
      "“the standard deviation is zero”\n",
      "Warning message in stats::cor(x, y, use, method):\n",
      "“the standard deviation is zero”\n",
      "Warning message in stats::cor(x, y, use, method):\n",
      "“the standard deviation is zero”\n",
      "Warning message in stats::cor(x, y, use, method):\n",
      "“the standard deviation is zero”\n",
      "Warning message in stats::cor(x, y, use, method):\n",
      "“the standard deviation is zero”\n",
      "Warning message in stats::cor(x, y, use, method):\n",
      "“the standard deviation is zero”\n",
      "Warning message in stats::cor(x, y, use, method):\n",
      "“the standard deviation is zero”\n",
      "Warning message in stats::cor(x, y, use, method):\n",
      "“the standard deviation is zero”\n",
      "Warning message in stats::cor(x, y, use, method):\n",
      "“the standard deviation is zero”\n",
      "Warning message in stats::cor(x, y, use, method):\n",
      "“the standard deviation is zero”\n",
      "Warning message in stats::cor(x, y, use, method):\n",
      "“the standard deviation is zero”\n",
      "Warning message in stats::cor(x, y, use, method):\n",
      "“the standard deviation is zero”\n",
      "Warning message in stats::cor(x, y, use, method):\n",
      "“the standard deviation is zero”\n",
      "Warning message in stats::cor(x, y, use, method):\n",
      "“the standard deviation is zero”\n",
      "Warning message in stats::cor(x, y, use, method):\n",
      "“the standard deviation is zero”\n",
      "Warning message in stats::cor(x, y, use, method):\n",
      "“the standard deviation is zero”\n",
      "Warning message in stats::cor(x, y, use, method):\n",
      "“the standard deviation is zero”\n",
      "Warning message in stats::cor(x, y, use, method):\n",
      "“the standard deviation is zero”\n",
      "Warning message in stats::cor(x, y, use, method):\n",
      "“the standard deviation is zero”\n",
      "Warning message in stats::cor(x, y, use, method):\n",
      "“the standard deviation is zero”\n",
      "Warning message in stats::cor(x, y, use, method):\n",
      "“the standard deviation is zero”\n",
      "Warning message in stats::cor(x, y, use, method):\n",
      "“the standard deviation is zero”\n",
      "Warning message in stats::cor(x, y, use, method):\n",
      "“the standard deviation is zero”\n",
      "Warning message in stats::cor(x, y, use, method):\n",
      "“the standard deviation is zero”\n",
      "Warning message in stats::cor(x, y, use, method):\n",
      "“the standard deviation is zero”\n",
      "Warning message in stats::cor(x, y, use, method):\n",
      "“the standard deviation is zero”\n",
      "Warning message in stats::cor(x, y, use, method):\n",
      "“the standard deviation is zero”\n",
      "Warning message in stats::cor(x, y, use, method):\n",
      "“the standard deviation is zero”\n",
      "Warning message in stats::cor(x, y, use, method):\n",
      "“the standard deviation is zero”\n",
      "Warning message in stats::cor(x, y, use, method):\n",
      "“the standard deviation is zero”\n",
      "Warning message in stats::cor(x, y, use, method):\n",
      "“the standard deviation is zero”\n",
      "Warning message in stats::cor(x, y, use, method):\n",
      "“the standard deviation is zero”\n",
      "Warning message in stats::cor(x, y, use, method):\n",
      "“the standard deviation is zero”\n",
      "Warning message in stats::cor(x, y, use, method):\n",
      "“the standard deviation is zero”\n",
      "Warning message in stats::cor(x, y, use, method):\n",
      "“the standard deviation is zero”\n",
      "Warning message in stats::cor(x, y, use, method):\n",
      "“the standard deviation is zero”\n",
      "Warning message in stats::cor(x, y, use, method):\n",
      "“the standard deviation is zero”\n",
      "Warning message in stats::cor(x, y, use, method):\n",
      "“the standard deviation is zero”\n",
      "Warning message in stats::cor(x, y, use, method):\n",
      "“the standard deviation is zero”\n",
      "Warning message in stats::cor(x, y, use, method):\n",
      "“the standard deviation is zero”\n",
      "Warning message in stats::cor(x, y, use, method):\n",
      "“the standard deviation is zero”\n",
      "Warning message in stats::cor(x, y, use, method):\n",
      "“the standard deviation is zero”\n",
      "Warning message in stats::cor(x, y, use, method):\n",
      "“the standard deviation is zero”\n",
      "Warning message in stats::cor(x, y, use, method):\n",
      "“the standard deviation is zero”\n",
      "Warning message in stats::cor(x, y, use, method):\n",
      "“the standard deviation is zero”\n",
      "Warning message in stats::cor(x, y, use, method):\n",
      "“the standard deviation is zero”\n",
      "Warning message in stats::cor(x, y, use, method):\n",
      "“the standard deviation is zero”\n",
      "Warning message in stats::cor(x, y, use, method):\n",
      "“the standard deviation is zero”\n",
      "Warning message in stats::cor(x, y, use, method):\n",
      "“the standard deviation is zero”\n",
      "Warning message in stats::cor(x, y, use, method):\n",
      "“the standard deviation is zero”\n",
      "Warning message in stats::cor(x, y, use, method):\n",
      "“the standard deviation is zero”\n",
      "Warning message in stats::cor(x, y, use, method):\n",
      "“the standard deviation is zero”\n",
      "Warning message in stats::cor(x, y, use, method):\n",
      "“the standard deviation is zero”\n",
      "Warning message in stats::cor(x, y, use, method):\n",
      "“the standard deviation is zero”\n",
      "Warning message in stats::cor(x, y, use, method):\n",
      "“the standard deviation is zero”\n",
      "Warning message in stats::cor(x, y, use, method):\n",
      "“the standard deviation is zero”\n",
      "Warning message in stats::cor(x, y, use, method):\n",
      "“the standard deviation is zero”\n",
      "Warning message in stats::cor(x, y, use, method):\n",
      "“the standard deviation is zero”\n",
      "Warning message in stats::cor(x, y, use, method):\n",
      "“the standard deviation is zero”\n",
      "Warning message in stats::cor(x, y, use, method):\n",
      "“the standard deviation is zero”\n",
      "Warning message in stats::cor(x, y, use, method):\n",
      "“the standard deviation is zero”\n",
      "Warning message in stats::cor(x, y, use, method):\n",
      "“the standard deviation is zero”\n",
      "Warning message in stats::cor(x, y, use, method):\n",
      "“the standard deviation is zero”\n",
      "Warning message in stats::cor(x, y, use, method):\n",
      "“the standard deviation is zero”\n",
      "Warning message in stats::cor(x, y, use, method):\n",
      "“the standard deviation is zero”\n",
      "Warning message in stats::cor(x, y, use, method):\n",
      "“the standard deviation is zero”\n",
      "Warning message in stats::cor(x, y, use, method):\n",
      "“the standard deviation is zero”\n",
      "Warning message in stats::cor(x, y, use, method):\n",
      "“the standard deviation is zero”\n",
      "Warning message in stats::cor(x, y, use, method):\n",
      "“the standard deviation is zero”\n",
      "Warning message in stats::cor(x, y, use, method):\n",
      "“the standard deviation is zero”\n",
      "Warning message in stats::cor(x, y, use, method):\n",
      "“the standard deviation is zero”\n",
      "Warning message in stats::cor(x, y, use, method):\n",
      "“the standard deviation is zero”\n",
      "Warning message in stats::cor(x, y, use, method):\n",
      "“the standard deviation is zero”\n",
      "Warning message in stats::cor(x, y, use, method):\n",
      "“the standard deviation is zero”\n",
      "Warning message in stats::cor(x, y, use, method):\n",
      "“the standard deviation is zero”\n",
      "Warning message in stats::cor(x, y, use, method):\n",
      "“the standard deviation is zero”\n",
      "Warning message in stats::cor(x, y, use, method):\n",
      "“the standard deviation is zero”\n",
      "Warning message in stats::cor(x, y, use, method):\n",
      "“the standard deviation is zero”\n",
      "Warning message in stats::cor(x, y, use, method):\n",
      "“the standard deviation is zero”\n",
      "Warning message in stats::cor(x, y, use, method):\n",
      "“the standard deviation is zero”\n",
      "Warning message in stats::cor(x, y, use, method):\n",
      "“the standard deviation is zero”\n",
      "Warning message in stats::cor(x, y, use, method):\n",
      "“the standard deviation is zero”\n",
      "Warning message in stats::cor(x, y, use, method):\n",
      "“the standard deviation is zero”\n",
      "Warning message in stats::cor(x, y, use, method):\n",
      "“the standard deviation is zero”\n",
      "Warning message in stats::cor(x, y, use, method):\n",
      "“the standard deviation is zero”\n",
      "Warning message in stats::cor(x, y, use, method):\n",
      "“the standard deviation is zero”\n",
      "Warning message in stats::cor(x, y, use, method):\n",
      "“the standard deviation is zero”\n",
      "Warning message in stats::cor(x, y, use, method):\n",
      "“the standard deviation is zero”\n",
      "Warning message in stats::cor(x, y, use, method):\n",
      "“the standard deviation is zero”\n",
      "Warning message in stats::cor(x, y, use, method):\n",
      "“the standard deviation is zero”\n",
      "Warning message in stats::cor(x, y, use, method):\n",
      "“the standard deviation is zero”\n",
      "Warning message in stats::cor(x, y, use, method):\n",
      "“the standard deviation is zero”\n",
      "Warning message in stats::cor(x, y, use, method):\n",
      "“the standard deviation is zero”\n",
      "Warning message in stats::cor(x, y, use, method):\n",
      "“the standard deviation is zero”\n",
      "Warning message in stats::cor(x, y, use, method):\n",
      "“the standard deviation is zero”\n",
      "Warning message in stats::cor(x, y, use, method):\n",
      "“the standard deviation is zero”\n",
      "Warning message in stats::cor(x, y, use, method):\n",
      "“the standard deviation is zero”\n",
      "Warning message in stats::cor(x, y, use, method):\n",
      "“the standard deviation is zero”\n",
      "Warning message in stats::cor(x, y, use, method):\n",
      "“the standard deviation is zero”\n",
      "Warning message in stats::cor(x, y, use, method):\n",
      "“the standard deviation is zero”\n",
      "Warning message in stats::cor(x, y, use, method):\n",
      "“the standard deviation is zero”\n",
      "Warning message in stats::cor(x, y, use, method):\n",
      "“the standard deviation is zero”\n",
      "Warning message in stats::cor(x, y, use, method):\n",
      "“the standard deviation is zero”\n",
      "Warning message in stats::cor(x, y, use, method):\n",
      "“the standard deviation is zero”\n",
      "Warning message in stats::cor(x, y, use, method):\n",
      "“the standard deviation is zero”\n",
      "Warning message in stats::cor(x, y, use, method):\n",
      "“the standard deviation is zero”\n",
      "Warning message in stats::cor(x, y, use, method):\n",
      "“the standard deviation is zero”\n",
      "Warning message in stats::cor(x, y, use, method):\n",
      "“the standard deviation is zero”\n",
      "Warning message in stats::cor(x, y, use, method):\n",
      "“the standard deviation is zero”\n",
      "Warning message in stats::cor(x, y, use, method):\n",
      "“the standard deviation is zero”\n",
      "Warning message in stats::cor(x, y, use, method):\n",
      "“the standard deviation is zero”\n",
      "Warning message in stats::cor(x, y, use, method):\n",
      "“the standard deviation is zero”\n",
      "Warning message in stats::cor(x, y, use, method):\n",
      "“the standard deviation is zero”\n",
      "Warning message in stats::cor(x, y, use, method):\n",
      "“the standard deviation is zero”\n",
      "Warning message in stats::cor(x, y, use, method):\n",
      "“the standard deviation is zero”\n",
      "Warning message in stats::cor(x, y, use, method):\n",
      "“the standard deviation is zero”\n",
      "Warning message in stats::cor(x, y, use, method):\n",
      "“the standard deviation is zero”\n",
      "Warning message in stats::cor(x, y, use, method):\n",
      "“the standard deviation is zero”\n",
      "Warning message in stats::cor(x, y, use, method):\n",
      "“the standard deviation is zero”\n",
      "Warning message in stats::cor(x, y, use, method):\n",
      "“the standard deviation is zero”\n",
      "Warning message in stats::cor(x, y, use, method):\n",
      "“the standard deviation is zero”\n",
      "Warning message in stats::cor(x, y, use, method):\n",
      "“the standard deviation is zero”\n",
      "Warning message in stats::cor(x, y, use, method):\n",
      "“the standard deviation is zero”\n",
      "Warning message in stats::cor(x, y, use, method):\n",
      "“the standard deviation is zero”\n",
      "Warning message in stats::cor(x, y, use, method):\n",
      "“the standard deviation is zero”\n",
      "Warning message in stats::cor(x, y, use, method):\n",
      "“the standard deviation is zero”\n",
      "Warning message in stats::cor(x, y, use, method):\n",
      "“the standard deviation is zero”\n",
      "Warning message in stats::cor(x, y, use, method):\n",
      "“the standard deviation is zero”\n",
      "Warning message in stats::cor(x, y, use, method):\n",
      "“the standard deviation is zero”\n",
      "Warning message in stats::cor(x, y, use, method):\n",
      "“the standard deviation is zero”\n",
      "Warning message in stats::cor(x, y, use, method):\n",
      "“the standard deviation is zero”\n",
      "Warning message in stats::cor(x, y, use, method):\n",
      "“the standard deviation is zero”\n",
      "Warning message in stats::cor(x, y, use, method):\n",
      "“the standard deviation is zero”\n",
      "Warning message in stats::cor(x, y, use, method):\n",
      "“the standard deviation is zero”\n",
      "Warning message in stats::cor(x, y, use, method):\n",
      "“the standard deviation is zero”\n",
      "Warning message in stats::cor(x, y, use, method):\n",
      "“the standard deviation is zero”\n",
      "Warning message in stats::cor(x, y, use, method):\n",
      "“the standard deviation is zero”\n",
      "Warning message in stats::cor(x, y, use, method):\n",
      "“the standard deviation is zero”\n",
      "Warning message in stats::cor(x, y, use, method):\n",
      "“the standard deviation is zero”\n",
      "Warning message in stats::cor(x, y, use, method):\n",
      "“the standard deviation is zero”\n",
      "Warning message in stats::cor(x, y, use, method):\n",
      "“the standard deviation is zero”\n",
      "Warning message in stats::cor(x, y, use, method):\n",
      "“the standard deviation is zero”\n",
      "Warning message in stats::cor(x, y, use, method):\n",
      "“the standard deviation is zero”\n",
      "Warning message in stats::cor(x, y, use, method):\n",
      "“the standard deviation is zero”\n",
      "Warning message in stats::cor(x, y, use, method):\n",
      "“the standard deviation is zero”\n",
      "Warning message in stats::cor(x, y, use, method):\n",
      "“the standard deviation is zero”\n",
      "Warning message in stats::cor(x, y, use, method):\n",
      "“the standard deviation is zero”\n",
      "Warning message in stats::cor(x, y, use, method):\n",
      "“the standard deviation is zero”\n",
      "Warning message in stats::cor(x, y, use, method):\n",
      "“the standard deviation is zero”\n",
      "Warning message in stats::cor(x, y, use, method):\n",
      "“the standard deviation is zero”\n",
      "Warning message in stats::cor(x, y, use, method):\n",
      "“the standard deviation is zero”\n",
      "Warning message in stats::cor(x, y, use, method):\n",
      "“the standard deviation is zero”\n",
      "Warning message in stats::cor(x, y, use, method):\n",
      "“the standard deviation is zero”\n",
      "Warning message in stats::cor(x, y, use, method):\n",
      "“the standard deviation is zero”\n",
      "Warning message in stats::cor(x, y, use, method):\n",
      "“the standard deviation is zero”\n",
      "Warning message in stats::cor(x, y, use, method):\n",
      "“the standard deviation is zero”\n",
      "Warning message in stats::cor(x, y, use, method):\n",
      "“the standard deviation is zero”\n",
      "Warning message in stats::cor(x, y, use, method):\n",
      "“the standard deviation is zero”\n",
      "Warning message in stats::cor(x, y, use, method):\n",
      "“the standard deviation is zero”\n",
      "Warning message in stats::cor(x, y, use, method):\n",
      "“the standard deviation is zero”\n",
      "Warning message in stats::cor(x, y, use, method):\n",
      "“the standard deviation is zero”\n",
      "Warning message in stats::cor(x, y, use, method):\n",
      "“the standard deviation is zero”\n",
      "Warning message in stats::cor(x, y, use, method):\n",
      "“the standard deviation is zero”\n",
      "Warning message in stats::cor(x, y, use, method):\n",
      "“the standard deviation is zero”\n",
      "Warning message in stats::cor(x, y, use, method):\n",
      "“the standard deviation is zero”\n",
      "Warning message in stats::cor(x, y, use, method):\n",
      "“the standard deviation is zero”\n",
      "Warning message in stats::cor(x, y, use, method):\n",
      "“the standard deviation is zero”\n",
      "Warning message in stats::cor(x, y, use, method):\n",
      "“the standard deviation is zero”\n",
      "Warning message in stats::cor(x, y, use, method):\n",
      "“the standard deviation is zero”\n",
      "Warning message in stats::cor(x, y, use, method):\n",
      "“the standard deviation is zero”\n",
      "Warning message in stats::cor(x, y, use, method):\n",
      "“the standard deviation is zero”\n",
      "Warning message in stats::cor(x, y, use, method):\n",
      "“the standard deviation is zero”\n",
      "Warning message in stats::cor(x, y, use, method):\n",
      "“the standard deviation is zero”\n",
      "Warning message in stats::cor(x, y, use, method):\n",
      "“the standard deviation is zero”\n",
      "Warning message in stats::cor(x, y, use, method):\n",
      "“the standard deviation is zero”\n",
      "Warning message in stats::cor(x, y, use, method):\n",
      "“the standard deviation is zero”\n",
      "Warning message in stats::cor(x, y, use, method):\n",
      "“the standard deviation is zero”\n",
      "Warning message in stats::cor(x, y, use, method):\n",
      "“the standard deviation is zero”\n",
      "Warning message in stats::cor(x, y, use, method):\n",
      "“the standard deviation is zero”\n",
      "Warning message in stats::cor(x, y, use, method):\n",
      "“the standard deviation is zero”\n",
      "Warning message in stats::cor(x, y, use, method):\n",
      "“the standard deviation is zero”\n",
      "Warning message in stats::cor(x, y, use, method):\n",
      "“the standard deviation is zero”\n",
      "Warning message in stats::cor(x, y, use, method):\n",
      "“the standard deviation is zero”\n",
      "Warning message in stats::cor(x, y, use, method):\n",
      "“the standard deviation is zero”\n",
      "Warning message in stats::cor(x, y, use, method):\n",
      "“the standard deviation is zero”\n",
      "Warning message in stats::cor(x, y, use, method):\n",
      "“the standard deviation is zero”\n",
      "Warning message in stats::cor(x, y, use, method):\n",
      "“the standard deviation is zero”\n",
      "Warning message in stats::cor(x, y, use, method):\n",
      "“the standard deviation is zero”\n",
      "Warning message in stats::cor(x, y, use, method):\n",
      "“the standard deviation is zero”\n",
      "Warning message in stats::cor(x, y, use, method):\n",
      "“the standard deviation is zero”\n",
      "Warning message in stats::cor(x, y, use, method):\n",
      "“the standard deviation is zero”\n",
      "Warning message in stats::cor(x, y, use, method):\n",
      "“the standard deviation is zero”\n",
      "Warning message in stats::cor(x, y, use, method):\n",
      "“the standard deviation is zero”\n",
      "Warning message in stats::cor(x, y, use, method):\n",
      "“the standard deviation is zero”\n",
      "Warning message in stats::cor(x, y, use, method):\n",
      "“the standard deviation is zero”\n",
      "Warning message in stats::cor(x, y, use, method):\n",
      "“the standard deviation is zero”\n",
      "Warning message in stats::cor(x, y, use, method):\n",
      "“the standard deviation is zero”\n",
      "Warning message in stats::cor(x, y, use, method):\n",
      "“the standard deviation is zero”\n",
      "Warning message in stats::cor(x, y, use, method):\n",
      "“the standard deviation is zero”\n",
      "Warning message in stats::cor(x, y, use, method):\n",
      "“the standard deviation is zero”\n",
      "Warning message in stats::cor(x, y, use, method):\n",
      "“the standard deviation is zero”\n",
      "Warning message in stats::cor(x, y, use, method):\n",
      "“the standard deviation is zero”\n",
      "Warning message in stats::cor(x, y, use, method):\n",
      "“the standard deviation is zero”\n",
      "Warning message in stats::cor(x, y, use, method):\n",
      "“the standard deviation is zero”\n",
      "Warning message in stats::cor(x, y, use, method):\n",
      "“the standard deviation is zero”\n",
      "Warning message in stats::cor(x, y, use, method):\n",
      "“the standard deviation is zero”\n",
      "Warning message in stats::cor(x, y, use, method):\n",
      "“the standard deviation is zero”\n",
      "Warning message in stats::cor(x, y, use, method):\n",
      "“the standard deviation is zero”\n",
      "Warning message in stats::cor(x, y, use, method):\n",
      "“the standard deviation is zero”\n",
      "Warning message in stats::cor(x, y, use, method):\n",
      "“the standard deviation is zero”\n",
      "Warning message in stats::cor(x, y, use, method):\n",
      "“the standard deviation is zero”\n",
      "Warning message in stats::cor(x, y, use, method):\n",
      "“the standard deviation is zero”\n",
      "Warning message in stats::cor(x, y, use, method):\n",
      "“the standard deviation is zero”\n",
      "Warning message in stats::cor(x, y, use, method):\n",
      "“the standard deviation is zero”\n",
      "Warning message in stats::cor(x, y, use, method):\n",
      "“the standard deviation is zero”\n",
      "Warning message in stats::cor(x, y, use, method):\n",
      "“the standard deviation is zero”\n",
      "Warning message in stats::cor(x, y, use, method):\n",
      "“the standard deviation is zero”\n",
      "Warning message in stats::cor(x, y, use, method):\n",
      "“the standard deviation is zero”\n",
      "Warning message in stats::cor(x, y, use, method):\n",
      "“the standard deviation is zero”\n",
      "Warning message in stats::cor(x, y, use, method):\n",
      "“the standard deviation is zero”\n",
      "Warning message in stats::cor(x, y, use, method):\n",
      "“the standard deviation is zero”\n",
      "Warning message in stats::cor(x, y, use, method):\n",
      "“the standard deviation is zero”\n",
      "Warning message in stats::cor(x, y, use, method):\n",
      "“the standard deviation is zero”\n",
      "Warning message in stats::cor(x, y, use, method):\n",
      "“the standard deviation is zero”\n",
      "Warning message in stats::cor(x, y, use, method):\n",
      "“the standard deviation is zero”\n",
      "Warning message in stats::cor(x, y, use, method):\n",
      "“the standard deviation is zero”\n",
      "Warning message in stats::cor(x, y, use, method):\n",
      "“the standard deviation is zero”\n",
      "Warning message in stats::cor(x, y, use, method):\n",
      "“the standard deviation is zero”\n",
      "Warning message in stats::cor(x, y, use, method):\n",
      "“the standard deviation is zero”\n",
      "Warning message in stats::cor(x, y, use, method):\n",
      "“the standard deviation is zero”\n",
      "Warning message in stats::cor(x, y, use, method):\n",
      "“the standard deviation is zero”\n",
      "Warning message in stats::cor(x, y, use, method):\n",
      "“the standard deviation is zero”\n",
      "Warning message in stats::cor(x, y, use, method):\n",
      "“the standard deviation is zero”\n",
      "Warning message in stats::cor(x, y, use, method):\n",
      "“the standard deviation is zero”\n",
      "Warning message in stats::cor(x, y, use, method):\n",
      "“the standard deviation is zero”\n",
      "Warning message in stats::cor(x, y, use, method):\n",
      "“the standard deviation is zero”\n",
      "Warning message in stats::cor(x, y, use, method):\n",
      "“the standard deviation is zero”\n",
      "Warning message in stats::cor(x, y, use, method):\n",
      "“the standard deviation is zero”\n",
      "Warning message in stats::cor(x, y, use, method):\n",
      "“the standard deviation is zero”\n",
      "Warning message in stats::cor(x, y, use, method):\n",
      "“the standard deviation is zero”\n",
      "Warning message in stats::cor(x, y, use, method):\n",
      "“the standard deviation is zero”\n",
      "Warning message in stats::cor(x, y, use, method):\n",
      "“the standard deviation is zero”\n",
      "Warning message in stats::cor(x, y, use, method):\n",
      "“the standard deviation is zero”\n",
      "Warning message in stats::cor(x, y, use, method):\n",
      "“the standard deviation is zero”\n",
      "Warning message in stats::cor(x, y, use, method):\n",
      "“the standard deviation is zero”\n",
      "Warning message in stats::cor(x, y, use, method):\n",
      "“the standard deviation is zero”\n",
      "Warning message in stats::cor(x, y, use, method):\n",
      "“the standard deviation is zero”\n",
      "Warning message in stats::cor(x, y, use, method):\n",
      "“the standard deviation is zero”\n",
      "Warning message in stats::cor(x, y, use, method):\n",
      "“the standard deviation is zero”\n",
      "Warning message in stats::cor(x, y, use, method):\n",
      "“the standard deviation is zero”\n",
      "Warning message in stats::cor(x, y, use, method):\n",
      "“the standard deviation is zero”\n",
      "Warning message in stats::cor(x, y, use, method):\n",
      "“the standard deviation is zero”\n",
      "Warning message in stats::cor(x, y, use, method):\n",
      "“the standard deviation is zero”\n",
      "Warning message in stats::cor(x, y, use, method):\n",
      "“the standard deviation is zero”\n",
      "Warning message in stats::cor(x, y, use, method):\n",
      "“the standard deviation is zero”\n",
      "Warning message in stats::cor(x, y, use, method):\n",
      "“the standard deviation is zero”\n",
      "Warning message in stats::cor(x, y, use, method):\n",
      "“the standard deviation is zero”\n",
      "Warning message in stats::cor(x, y, use, method):\n",
      "“the standard deviation is zero”\n",
      "Warning message in stats::cor(x, y, use, method):\n",
      "“the standard deviation is zero”\n",
      "Warning message in stats::cor(x, y, use, method):\n",
      "“the standard deviation is zero”\n",
      "Warning message in stats::cor(x, y, use, method):\n",
      "“the standard deviation is zero”\n",
      "Warning message in stats::cor(x, y, use, method):\n",
      "“the standard deviation is zero”\n",
      "Warning message in stats::cor(x, y, use, method):\n",
      "“the standard deviation is zero”\n",
      "Warning message in stats::cor(x, y, use, method):\n",
      "“the standard deviation is zero”\n",
      "Warning message in stats::cor(x, y, use, method):\n",
      "“the standard deviation is zero”\n",
      "Warning message in stats::cor(x, y, use, method):\n",
      "“the standard deviation is zero”\n",
      "Warning message in stats::cor(x, y, use, method):\n",
      "“the standard deviation is zero”\n",
      "Warning message in stats::cor(x, y, use, method):\n",
      "“the standard deviation is zero”\n",
      "Warning message in stats::cor(x, y, use, method):\n",
      "“the standard deviation is zero”\n",
      "Warning message in stats::cor(x, y, use, method):\n",
      "“the standard deviation is zero”\n",
      "Warning message in stats::cor(x, y, use, method):\n",
      "“the standard deviation is zero”\n",
      "Warning message in stats::cor(x, y, use, method):\n",
      "“the standard deviation is zero”\n",
      "Warning message in stats::cor(x, y, use, method):\n",
      "“the standard deviation is zero”\n",
      "Warning message in stats::cor(x, y, use, method):\n",
      "“the standard deviation is zero”\n",
      "Warning message in stats::cor(x, y, use, method):\n",
      "“the standard deviation is zero”\n",
      "Warning message in stats::cor(x, y, use, method):\n",
      "“the standard deviation is zero”\n",
      "Warning message in stats::cor(x, y, use, method):\n",
      "“the standard deviation is zero”\n",
      "Warning message in stats::cor(x, y, use, method):\n",
      "“the standard deviation is zero”\n",
      "Warning message in stats::cor(x, y, use, method):\n",
      "“the standard deviation is zero”\n",
      "Warning message in stats::cor(x, y, use, method):\n",
      "“the standard deviation is zero”\n",
      "Warning message in stats::cor(x, y, use, method):\n",
      "“the standard deviation is zero”\n",
      "Warning message in stats::cor(x, y, use, method):\n",
      "“the standard deviation is zero”\n",
      "Warning message in stats::cor(x, y, use, method):\n",
      "“the standard deviation is zero”\n",
      "Warning message in stats::cor(x, y, use, method):\n",
      "“the standard deviation is zero”\n",
      "Warning message in stats::cor(x, y, use, method):\n",
      "“the standard deviation is zero”\n",
      "Warning message in stats::cor(x, y, use, method):\n",
      "“the standard deviation is zero”\n",
      "Warning message in stats::cor(x, y, use, method):\n",
      "“the standard deviation is zero”\n",
      "Warning message in stats::cor(x, y, use, method):\n",
      "“the standard deviation is zero”\n",
      "Warning message in stats::cor(x, y, use, method):\n",
      "“the standard deviation is zero”\n",
      "Warning message in stats::cor(x, y, use, method):\n",
      "“the standard deviation is zero”\n",
      "Warning message in stats::cor(x, y, use, method):\n",
      "“the standard deviation is zero”\n",
      "Warning message in stats::cor(x, y, use, method):\n",
      "“the standard deviation is zero”\n",
      "Warning message in stats::cor(x, y, use, method):\n",
      "“the standard deviation is zero”\n",
      "Warning message in stats::cor(x, y, use, method):\n",
      "“the standard deviation is zero”\n",
      "Warning message in stats::cor(x, y, use, method):\n",
      "“the standard deviation is zero”\n",
      "Warning message in stats::cor(x, y, use, method):\n",
      "“the standard deviation is zero”\n",
      "Warning message in stats::cor(x, y, use, method):\n",
      "“the standard deviation is zero”\n",
      "Warning message in stats::cor(x, y, use, method):\n",
      "“the standard deviation is zero”\n",
      "Warning message in stats::cor(x, y, use, method):\n",
      "“the standard deviation is zero”\n",
      "Warning message in stats::cor(x, y, use, method):\n",
      "“the standard deviation is zero”\n",
      "Warning message in stats::cor(x, y, use, method):\n",
      "“the standard deviation is zero”\n",
      "Warning message in stats::cor(x, y, use, method):\n",
      "“the standard deviation is zero”\n",
      "Warning message in stats::cor(x, y, use, method):\n",
      "“the standard deviation is zero”\n",
      "Warning message in stats::cor(x, y, use, method):\n",
      "“the standard deviation is zero”\n",
      "Warning message in stats::cor(x, y, use, method):\n",
      "“the standard deviation is zero”\n",
      "Warning message in stats::cor(x, y, use, method):\n",
      "“the standard deviation is zero”\n",
      "Warning message in stats::cor(x, y, use, method):\n",
      "“the standard deviation is zero”\n",
      "Warning message in stats::cor(x, y, use, method):\n",
      "“the standard deviation is zero”\n",
      "Warning message in stats::cor(x, y, use, method):\n",
      "“the standard deviation is zero”\n",
      "Warning message in stats::cor(x, y, use, method):\n",
      "“the standard deviation is zero”\n",
      "Warning message in stats::cor(x, y, use, method):\n",
      "“the standard deviation is zero”\n",
      "Warning message in stats::cor(x, y, use, method):\n",
      "“the standard deviation is zero”\n",
      "Warning message in stats::cor(x, y, use, method):\n",
      "“the standard deviation is zero”\n",
      "Warning message in stats::cor(x, y, use, method):\n",
      "“the standard deviation is zero”\n",
      "Warning message in stats::cor(x, y, use, method):\n",
      "“the standard deviation is zero”\n",
      "Warning message in stats::cor(x, y, use, method):\n",
      "“the standard deviation is zero”\n",
      "Warning message in stats::cor(x, y, use, method):\n",
      "“the standard deviation is zero”\n",
      "Warning message in stats::cor(x, y, use, method):\n",
      "“the standard deviation is zero”\n",
      "Warning message in stats::cor(x, y, use, method):\n",
      "“the standard deviation is zero”\n",
      "Warning message in stats::cor(x, y, use, method):\n",
      "“the standard deviation is zero”\n",
      "Warning message in stats::cor(x, y, use, method):\n",
      "“the standard deviation is zero”\n",
      "Warning message in stats::cor(x, y, use, method):\n",
      "“the standard deviation is zero”\n",
      "Warning message in stats::cor(x, y, use, method):\n",
      "“the standard deviation is zero”\n",
      "Warning message in stats::cor(x, y, use, method):\n",
      "“the standard deviation is zero”\n",
      "Warning message in stats::cor(x, y, use, method):\n",
      "“the standard deviation is zero”\n",
      "Warning message in stats::cor(x, y, use, method):\n",
      "“the standard deviation is zero”\n",
      "Warning message in stats::cor(x, y, use, method):\n",
      "“the standard deviation is zero”\n",
      "Warning message in stats::cor(x, y, use, method):\n",
      "“the standard deviation is zero”\n",
      "Warning message in stats::cor(x, y, use, method):\n",
      "“the standard deviation is zero”\n",
      "Warning message in stats::cor(x, y, use, method):\n",
      "“the standard deviation is zero”\n",
      "Warning message in stats::cor(x, y, use, method):\n",
      "“the standard deviation is zero”\n",
      "Warning message in stats::cor(x, y, use, method):\n",
      "“the standard deviation is zero”\n",
      "Warning message in stats::cor(x, y, use, method):\n",
      "“the standard deviation is zero”\n",
      "Warning message in stats::cor(x, y, use, method):\n",
      "“the standard deviation is zero”\n",
      "Warning message in stats::cor(x, y, use, method):\n",
      "“the standard deviation is zero”\n",
      "Warning message in stats::cor(x, y, use, method):\n",
      "“the standard deviation is zero”\n",
      "Warning message in stats::cor(x, y, use, method):\n",
      "“the standard deviation is zero”\n",
      "Warning message in stats::cor(x, y, use, method):\n",
      "“the standard deviation is zero”\n",
      "Warning message in stats::cor(x, y, use, method):\n",
      "“the standard deviation is zero”\n",
      "Warning message in stats::cor(x, y, use, method):\n",
      "“the standard deviation is zero”\n",
      "Warning message in stats::cor(x, y, use, method):\n",
      "“the standard deviation is zero”\n",
      "Warning message in stats::cor(x, y, use, method):\n",
      "“the standard deviation is zero”\n",
      "Warning message in stats::cor(x, y, use, method):\n",
      "“the standard deviation is zero”\n",
      "Warning message in stats::cor(x, y, use, method):\n",
      "“the standard deviation is zero”\n",
      "Warning message in stats::cor(x, y, use, method):\n",
      "“the standard deviation is zero”\n",
      "Warning message in stats::cor(x, y, use, method):\n",
      "“the standard deviation is zero”\n",
      "Warning message in stats::cor(x, y, use, method):\n",
      "“the standard deviation is zero”\n",
      "Warning message in stats::cor(x, y, use, method):\n",
      "“the standard deviation is zero”\n",
      "Warning message in stats::cor(x, y, use, method):\n",
      "“the standard deviation is zero”\n",
      "Warning message in stats::cor(x, y, use, method):\n",
      "“the standard deviation is zero”\n",
      "Warning message in stats::cor(x, y, use, method):\n",
      "“the standard deviation is zero”\n",
      "Warning message in stats::cor(x, y, use, method):\n",
      "“the standard deviation is zero”\n",
      "Warning message in stats::cor(x, y, use, method):\n",
      "“the standard deviation is zero”\n",
      "Warning message in stats::cor(x, y, use, method):\n",
      "“the standard deviation is zero”\n",
      "Warning message in stats::cor(x, y, use, method):\n",
      "“the standard deviation is zero”\n",
      "Warning message in stats::cor(x, y, use, method):\n",
      "“the standard deviation is zero”\n",
      "Warning message in stats::cor(x, y, use, method):\n",
      "“the standard deviation is zero”\n",
      "Warning message in stats::cor(x, y, use, method):\n",
      "“the standard deviation is zero”\n",
      "Warning message in stats::cor(x, y, use, method):\n",
      "“the standard deviation is zero”\n",
      "Warning message in stats::cor(x, y, use, method):\n",
      "“the standard deviation is zero”\n",
      "Warning message in stats::cor(x, y, use, method):\n",
      "“the standard deviation is zero”\n",
      "Warning message in stats::cor(x, y, use, method):\n",
      "“the standard deviation is zero”\n",
      "Warning message in stats::cor(x, y, use, method):\n",
      "“the standard deviation is zero”\n",
      "Warning message in stats::cor(x, y, use, method):\n",
      "“the standard deviation is zero”\n",
      "Warning message in stats::cor(x, y, use, method):\n",
      "“the standard deviation is zero”\n",
      "Warning message in stats::cor(x, y, use, method):\n",
      "“the standard deviation is zero”\n",
      "Warning message in stats::cor(x, y, use, method):\n",
      "“the standard deviation is zero”\n",
      "Warning message in stats::cor(x, y, use, method):\n",
      "“the standard deviation is zero”\n",
      "Warning message in stats::cor(x, y, use, method):\n",
      "“the standard deviation is zero”\n",
      "Warning message in stats::cor(x, y, use, method):\n",
      "“the standard deviation is zero”\n",
      "Warning message in stats::cor(x, y, use, method):\n",
      "“the standard deviation is zero”\n",
      "Warning message in stats::cor(x, y, use, method):\n",
      "“the standard deviation is zero”\n",
      "Warning message in stats::cor(x, y, use, method):\n",
      "“the standard deviation is zero”\n",
      "Warning message in stats::cor(x, y, use, method):\n",
      "“the standard deviation is zero”\n",
      "Warning message in stats::cor(x, y, use, method):\n",
      "“the standard deviation is zero”\n",
      "Warning message in stats::cor(x, y, use, method):\n",
      "“the standard deviation is zero”\n",
      "Warning message in stats::cor(x, y, use, method):\n",
      "“the standard deviation is zero”\n",
      "Warning message in stats::cor(x, y, use, method):\n",
      "“the standard deviation is zero”\n",
      "Warning message in stats::cor(x, y, use, method):\n",
      "“the standard deviation is zero”\n",
      "Warning message in stats::cor(x, y, use, method):\n",
      "“the standard deviation is zero”\n",
      "Warning message in stats::cor(x, y, use, method):\n",
      "“the standard deviation is zero”\n",
      "Warning message in stats::cor(x, y, use, method):\n",
      "“the standard deviation is zero”\n",
      "Warning message in stats::cor(x, y, use, method):\n",
      "“the standard deviation is zero”\n",
      "Warning message in stats::cor(x, y, use, method):\n",
      "“the standard deviation is zero”\n",
      "Warning message in stats::cor(x, y, use, method):\n",
      "“the standard deviation is zero”\n",
      "Warning message in stats::cor(x, y, use, method):\n",
      "“the standard deviation is zero”\n",
      "Warning message in stats::cor(x, y, use, method):\n",
      "“the standard deviation is zero”\n",
      "Warning message in stats::cor(x, y, use, method):\n",
      "“the standard deviation is zero”\n",
      "Warning message in stats::cor(x, y, use, method):\n",
      "“the standard deviation is zero”\n",
      "Warning message in stats::cor(x, y, use, method):\n",
      "“the standard deviation is zero”\n",
      "Warning message in stats::cor(x, y, use, method):\n",
      "“the standard deviation is zero”\n",
      "Warning message in stats::cor(x, y, use, method):\n",
      "“the standard deviation is zero”\n",
      "Warning message in stats::cor(x, y, use, method):\n",
      "“the standard deviation is zero”\n",
      "Warning message in stats::cor(x, y, use, method):\n",
      "“the standard deviation is zero”\n",
      "Warning message in stats::cor(x, y, use, method):\n",
      "“the standard deviation is zero”\n",
      "Warning message in stats::cor(x, y, use, method):\n",
      "“the standard deviation is zero”\n",
      "Warning message in stats::cor(x, y, use, method):\n",
      "“the standard deviation is zero”\n",
      "Warning message in stats::cor(x, y, use, method):\n",
      "“the standard deviation is zero”\n",
      "Warning message in stats::cor(x, y, use, method):\n",
      "“the standard deviation is zero”\n",
      "Warning message in stats::cor(x, y, use, method):\n",
      "“the standard deviation is zero”\n",
      "Warning message in stats::cor(x, y, use, method):\n",
      "“the standard deviation is zero”\n",
      "Warning message in stats::cor(x, y, use, method):\n",
      "“the standard deviation is zero”\n",
      "Warning message in stats::cor(x, y, use, method):\n",
      "“the standard deviation is zero”\n",
      "Warning message in stats::cor(x, y, use, method):\n",
      "“the standard deviation is zero”\n",
      "Warning message in stats::cor(x, y, use, method):\n",
      "“the standard deviation is zero”\n",
      "Warning message in stats::cor(x, y, use, method):\n",
      "“the standard deviation is zero”\n",
      "Warning message in stats::cor(x, y, use, method):\n",
      "“the standard deviation is zero”\n",
      "Warning message in stats::cor(x, y, use, method):\n",
      "“the standard deviation is zero”\n",
      "Warning message in stats::cor(x, y, use, method):\n",
      "“the standard deviation is zero”\n",
      "Warning message in stats::cor(x, y, use, method):\n",
      "“the standard deviation is zero”\n",
      "Warning message in stats::cor(x, y, use, method):\n",
      "“the standard deviation is zero”\n",
      "Warning message in stats::cor(x, y, use, method):\n",
      "“the standard deviation is zero”\n",
      "Warning message in stats::cor(x, y, use, method):\n",
      "“the standard deviation is zero”\n",
      "Warning message in stats::cor(x, y, use, method):\n",
      "“the standard deviation is zero”\n",
      "Warning message in stats::cor(x, y, use, method):\n",
      "“the standard deviation is zero”\n",
      "Warning message in stats::cor(x, y, use, method):\n",
      "“the standard deviation is zero”\n",
      "Warning message in stats::cor(x, y, use, method):\n",
      "“the standard deviation is zero”\n",
      "Warning message in stats::cor(x, y, use, method):\n",
      "“the standard deviation is zero”\n",
      "Warning message in stats::cor(x, y, use, method):\n",
      "“the standard deviation is zero”\n",
      "Warning message in stats::cor(x, y, use, method):\n",
      "“the standard deviation is zero”\n",
      "Warning message in stats::cor(x, y, use, method):\n",
      "“the standard deviation is zero”\n",
      "Warning message in stats::cor(x, y, use, method):\n",
      "“the standard deviation is zero”\n",
      "Warning message in stats::cor(x, y, use, method):\n",
      "“the standard deviation is zero”\n",
      "Warning message in stats::cor(x, y, use, method):\n",
      "“the standard deviation is zero”\n",
      "Warning message in stats::cor(x, y, use, method):\n",
      "“the standard deviation is zero”\n",
      "Warning message in stats::cor(x, y, use, method):\n",
      "“the standard deviation is zero”\n",
      "Warning message in stats::cor(x, y, use, method):\n",
      "“the standard deviation is zero”\n",
      "Warning message in stats::cor(x, y, use, method):\n",
      "“the standard deviation is zero”\n",
      "Warning message in stats::cor(x, y, use, method):\n",
      "“the standard deviation is zero”\n",
      "Warning message in stats::cor(x, y, use, method):\n",
      "“the standard deviation is zero”\n",
      "Warning message in stats::cor(x, y, use, method):\n",
      "“the standard deviation is zero”\n",
      "Warning message in stats::cor(x, y, use, method):\n",
      "“the standard deviation is zero”\n",
      "Warning message in stats::cor(x, y, use, method):\n",
      "“the standard deviation is zero”\n",
      "Warning message in stats::cor(x, y, use, method):\n",
      "“the standard deviation is zero”\n",
      "Warning message in stats::cor(x, y, use, method):\n",
      "“the standard deviation is zero”\n",
      "Warning message in stats::cor(x, y, use, method):\n",
      "“the standard deviation is zero”\n",
      "Warning message in stats::cor(x, y, use, method):\n",
      "“the standard deviation is zero”\n",
      "Warning message in stats::cor(x, y, use, method):\n",
      "“the standard deviation is zero”\n",
      "Warning message in stats::cor(x, y, use, method):\n",
      "“the standard deviation is zero”\n",
      "Warning message in stats::cor(x, y, use, method):\n",
      "“the standard deviation is zero”\n",
      "Warning message in stats::cor(x, y, use, method):\n",
      "“the standard deviation is zero”\n",
      "Warning message in stats::cor(x, y, use, method):\n",
      "“the standard deviation is zero”\n",
      "Warning message in stats::cor(x, y, use, method):\n",
      "“the standard deviation is zero”\n",
      "Warning message in stats::cor(x, y, use, method):\n",
      "“the standard deviation is zero”\n",
      "Warning message in stats::cor(x, y, use, method):\n",
      "“the standard deviation is zero”\n",
      "Warning message in stats::cor(x, y, use, method):\n",
      "“the standard deviation is zero”\n",
      "Warning message in stats::cor(x, y, use, method):\n",
      "“the standard deviation is zero”\n",
      "Warning message in stats::cor(x, y, use, method):\n",
      "“the standard deviation is zero”\n",
      "Warning message in stats::cor(x, y, use, method):\n",
      "“the standard deviation is zero”\n",
      "Warning message in stats::cor(x, y, use, method):\n",
      "“the standard deviation is zero”\n",
      "Warning message in stats::cor(x, y, use, method):\n",
      "“the standard deviation is zero”\n",
      "Warning message in stats::cor(x, y, use, method):\n",
      "“the standard deviation is zero”\n",
      "Warning message in stats::cor(x, y, use, method):\n",
      "“the standard deviation is zero”\n",
      "Warning message in stats::cor(x, y, use, method):\n",
      "“the standard deviation is zero”\n",
      "Warning message in stats::cor(x, y, use, method):\n",
      "“the standard deviation is zero”\n",
      "Warning message in stats::cor(x, y, use, method):\n",
      "“the standard deviation is zero”\n",
      "Warning message in stats::cor(x, y, use, method):\n",
      "“the standard deviation is zero”\n",
      "Warning message in stats::cor(x, y, use, method):\n",
      "“the standard deviation is zero”\n",
      "Warning message in stats::cor(x, y, use, method):\n",
      "“the standard deviation is zero”\n",
      "Warning message in stats::cor(x, y, use, method):\n",
      "“the standard deviation is zero”\n",
      "Warning message in stats::cor(x, y, use, method):\n",
      "“the standard deviation is zero”\n",
      "Warning message in stats::cor(x, y, use, method):\n",
      "“the standard deviation is zero”\n",
      "Warning message in stats::cor(x, y, use, method):\n",
      "“the standard deviation is zero”\n",
      "Warning message in stats::cor(x, y, use, method):\n",
      "“the standard deviation is zero”\n",
      "Warning message in stats::cor(x, y, use, method):\n",
      "“the standard deviation is zero”\n",
      "Warning message in stats::cor(x, y, use, method):\n",
      "“the standard deviation is zero”\n",
      "Warning message in stats::cor(x, y, use, method):\n",
      "“the standard deviation is zero”\n",
      "Warning message in stats::cor(x, y, use, method):\n",
      "“the standard deviation is zero”\n",
      "Warning message in stats::cor(x, y, use, method):\n",
      "“the standard deviation is zero”\n",
      "Warning message in stats::cor(x, y, use, method):\n",
      "“the standard deviation is zero”\n",
      "Warning message in stats::cor(x, y, use, method):\n",
      "“the standard deviation is zero”\n",
      "Warning message in stats::cor(x, y, use, method):\n",
      "“the standard deviation is zero”\n",
      "Warning message in stats::cor(x, y, use, method):\n",
      "“the standard deviation is zero”\n",
      "Warning message in stats::cor(x, y, use, method):\n",
      "“the standard deviation is zero”\n",
      "Warning message in stats::cor(x, y, use, method):\n",
      "“the standard deviation is zero”\n",
      "Warning message in stats::cor(x, y, use, method):\n",
      "“the standard deviation is zero”\n",
      "Warning message in stats::cor(x, y, use, method):\n",
      "“the standard deviation is zero”\n",
      "Warning message in stats::cor(x, y, use, method):\n",
      "“the standard deviation is zero”\n",
      "Warning message in stats::cor(x, y, use, method):\n",
      "“the standard deviation is zero”\n",
      "Warning message in stats::cor(x, y, use, method):\n",
      "“the standard deviation is zero”\n",
      "Warning message in stats::cor(x, y, use, method):\n",
      "“the standard deviation is zero”\n",
      "Warning message in stats::cor(x, y, use, method):\n",
      "“the standard deviation is zero”\n",
      "Warning message in stats::cor(x, y, use, method):\n",
      "“the standard deviation is zero”\n",
      "Warning message in stats::cor(x, y, use, method):\n",
      "“the standard deviation is zero”\n",
      "Warning message in stats::cor(x, y, use, method):\n",
      "“the standard deviation is zero”\n",
      "Warning message in stats::cor(x, y, use, method):\n",
      "“the standard deviation is zero”\n",
      "Warning message in stats::cor(x, y, use, method):\n",
      "“the standard deviation is zero”\n",
      "Warning message in stats::cor(x, y, use, method):\n",
      "“the standard deviation is zero”\n",
      "Warning message in stats::cor(x, y, use, method):\n",
      "“the standard deviation is zero”\n",
      "Warning message in stats::cor(x, y, use, method):\n",
      "“the standard deviation is zero”\n",
      "Warning message in stats::cor(x, y, use, method):\n",
      "“the standard deviation is zero”\n",
      "Warning message in stats::cor(x, y, use, method):\n",
      "“the standard deviation is zero”\n",
      "Warning message in stats::cor(x, y, use, method):\n",
      "“the standard deviation is zero”\n",
      "Warning message in stats::cor(x, y, use, method):\n",
      "“the standard deviation is zero”\n",
      "Warning message in stats::cor(x, y, use, method):\n",
      "“the standard deviation is zero”\n",
      "Warning message in stats::cor(x, y, use, method):\n",
      "“the standard deviation is zero”\n",
      "Warning message in stats::cor(x, y, use, method):\n",
      "“the standard deviation is zero”\n",
      "Warning message in stats::cor(x, y, use, method):\n",
      "“the standard deviation is zero”\n",
      "Warning message in stats::cor(x, y, use, method):\n",
      "“the standard deviation is zero”\n",
      "Warning message in stats::cor(x, y, use, method):\n",
      "“the standard deviation is zero”\n",
      "Warning message in stats::cor(x, y, use, method):\n",
      "“the standard deviation is zero”\n",
      "Warning message in stats::cor(x, y, use, method):\n",
      "“the standard deviation is zero”\n",
      "Warning message in stats::cor(x, y, use, method):\n",
      "“the standard deviation is zero”\n",
      "Warning message in stats::cor(x, y, use, method):\n",
      "“the standard deviation is zero”\n",
      "Warning message in stats::cor(x, y, use, method):\n",
      "“the standard deviation is zero”\n",
      "Warning message in stats::cor(x, y, use, method):\n",
      "“the standard deviation is zero”\n",
      "Warning message in stats::cor(x, y, use, method):\n",
      "“the standard deviation is zero”\n",
      "Warning message in stats::cor(x, y, use, method):\n",
      "“the standard deviation is zero”\n",
      "Warning message in stats::cor(x, y, use, method):\n",
      "“the standard deviation is zero”\n",
      "Warning message in stats::cor(x, y, use, method):\n",
      "“the standard deviation is zero”\n",
      "Warning message in stats::cor(x, y, use, method):\n",
      "“the standard deviation is zero”\n",
      "Warning message in stats::cor(x, y, use, method):\n",
      "“the standard deviation is zero”\n",
      "Warning message in stats::cor(x, y, use, method):\n",
      "“the standard deviation is zero”\n",
      "Warning message in stats::cor(x, y, use, method):\n",
      "“the standard deviation is zero”\n",
      "Warning message in stats::cor(x, y, use, method):\n",
      "“the standard deviation is zero”\n",
      "Warning message in stats::cor(x, y, use, method):\n",
      "“the standard deviation is zero”\n",
      "Warning message in stats::cor(x, y, use, method):\n",
      "“the standard deviation is zero”\n",
      "Warning message in stats::cor(x, y, use, method):\n",
      "“the standard deviation is zero”\n",
      "Warning message in stats::cor(x, y, use, method):\n",
      "“the standard deviation is zero”\n",
      "Warning message in stats::cor(x, y, use, method):\n",
      "“the standard deviation is zero”\n",
      "Warning message in stats::cor(x, y, use, method):\n",
      "“the standard deviation is zero”\n",
      "Warning message in stats::cor(x, y, use, method):\n",
      "“the standard deviation is zero”\n",
      "Warning message in stats::cor(x, y, use, method):\n",
      "“the standard deviation is zero”\n",
      "Warning message in stats::cor(x, y, use, method):\n",
      "“the standard deviation is zero”\n",
      "Warning message in stats::cor(x, y, use, method):\n",
      "“the standard deviation is zero”\n",
      "Warning message in stats::cor(x, y, use, method):\n",
      "“the standard deviation is zero”\n",
      "Warning message in stats::cor(x, y, use, method):\n",
      "“the standard deviation is zero”\n",
      "Warning message in stats::cor(x, y, use, method):\n",
      "“the standard deviation is zero”\n",
      "Warning message in stats::cor(x, y, use, method):\n",
      "“the standard deviation is zero”\n",
      "Warning message in stats::cor(x, y, use, method):\n",
      "“the standard deviation is zero”\n",
      "Warning message in stats::cor(x, y, use, method):\n",
      "“the standard deviation is zero”\n",
      "Warning message in stats::cor(x, y, use, method):\n",
      "“the standard deviation is zero”\n",
      "Warning message in stats::cor(x, y, use, method):\n",
      "“the standard deviation is zero”\n",
      "Warning message in stats::cor(x, y, use, method):\n",
      "“the standard deviation is zero”\n",
      "Warning message in stats::cor(x, y, use, method):\n",
      "“the standard deviation is zero”\n",
      "Warning message in stats::cor(x, y, use, method):\n",
      "“the standard deviation is zero”\n",
      "Warning message in stats::cor(x, y, use, method):\n",
      "“the standard deviation is zero”\n",
      "Warning message in stats::cor(x, y, use, method):\n",
      "“the standard deviation is zero”\n",
      "Warning message in stats::cor(x, y, use, method):\n",
      "“the standard deviation is zero”\n",
      "Warning message in stats::cor(x, y, use, method):\n",
      "“the standard deviation is zero”\n",
      "Warning message in stats::cor(x, y, use, method):\n",
      "“the standard deviation is zero”\n",
      "Warning message in stats::cor(x, y, use, method):\n",
      "“the standard deviation is zero”\n",
      "Warning message in stats::cor(x, y, use, method):\n",
      "“the standard deviation is zero”\n",
      "Warning message in stats::cor(x, y, use, method):\n",
      "“the standard deviation is zero”\n",
      "Warning message in stats::cor(x, y, use, method):\n",
      "“the standard deviation is zero”\n",
      "Warning message in stats::cor(x, y, use, method):\n",
      "“the standard deviation is zero”\n",
      "Warning message in stats::cor(x, y, use, method):\n",
      "“the standard deviation is zero”\n",
      "Warning message in stats::cor(x, y, use, method):\n",
      "“the standard deviation is zero”\n",
      "Warning message in stats::cor(x, y, use, method):\n",
      "“the standard deviation is zero”\n",
      "Warning message in stats::cor(x, y, use, method):\n",
      "“the standard deviation is zero”\n",
      "Warning message in stats::cor(x, y, use, method):\n",
      "“the standard deviation is zero”\n",
      "Warning message in stats::cor(x, y, use, method):\n",
      "“the standard deviation is zero”\n",
      "Warning message in stats::cor(x, y, use, method):\n",
      "“the standard deviation is zero”\n",
      "Warning message in stats::cor(x, y, use, method):\n",
      "“the standard deviation is zero”\n",
      "Warning message in stats::cor(x, y, use, method):\n",
      "“the standard deviation is zero”\n",
      "Warning message in stats::cor(x, y, use, method):\n",
      "“the standard deviation is zero”\n",
      "Warning message in stats::cor(x, y, use, method):\n",
      "“the standard deviation is zero”\n",
      "Warning message in stats::cor(x, y, use, method):\n",
      "“the standard deviation is zero”\n",
      "Warning message in stats::cor(x, y, use, method):\n",
      "“the standard deviation is zero”\n",
      "Warning message in stats::cor(x, y, use, method):\n",
      "“the standard deviation is zero”\n",
      "Warning message in stats::cor(x, y, use, method):\n",
      "“the standard deviation is zero”\n",
      "Warning message in stats::cor(x, y, use, method):\n",
      "“the standard deviation is zero”\n",
      "Warning message in stats::cor(x, y, use, method):\n",
      "“the standard deviation is zero”\n",
      "Warning message in stats::cor(x, y, use, method):\n",
      "“the standard deviation is zero”\n",
      "Warning message in stats::cor(x, y, use, method):\n",
      "“the standard deviation is zero”\n",
      "Warning message in stats::cor(x, y, use, method):\n",
      "“the standard deviation is zero”\n",
      "Warning message in stats::cor(x, y, use, method):\n",
      "“the standard deviation is zero”\n",
      "Warning message in stats::cor(x, y, use, method):\n",
      "“the standard deviation is zero”\n",
      "Warning message in stats::cor(x, y, use, method):\n",
      "“the standard deviation is zero”\n",
      "Warning message in stats::cor(x, y, use, method):\n",
      "“the standard deviation is zero”\n",
      "Warning message in stats::cor(x, y, use, method):\n",
      "“the standard deviation is zero”\n",
      "Warning message in stats::cor(x, y, use, method):\n",
      "“the standard deviation is zero”\n",
      "Warning message in stats::cor(x, y, use, method):\n",
      "“the standard deviation is zero”\n",
      "Warning message in stats::cor(x, y, use, method):\n",
      "“the standard deviation is zero”\n",
      "Warning message in stats::cor(x, y, use, method):\n",
      "“the standard deviation is zero”\n",
      "Warning message in stats::cor(x, y, use, method):\n",
      "“the standard deviation is zero”\n",
      "Warning message in stats::cor(x, y, use, method):\n",
      "“the standard deviation is zero”\n",
      "Warning message in stats::cor(x, y, use, method):\n",
      "“the standard deviation is zero”\n",
      "Warning message in stats::cor(x, y, use, method):\n",
      "“the standard deviation is zero”\n",
      "Warning message in stats::cor(x, y, use, method):\n",
      "“the standard deviation is zero”\n",
      "Warning message in stats::cor(x, y, use, method):\n",
      "“the standard deviation is zero”\n",
      "Warning message in stats::cor(x, y, use, method):\n",
      "“the standard deviation is zero”\n",
      "Warning message in stats::cor(x, y, use, method):\n",
      "“the standard deviation is zero”\n",
      "Warning message in stats::cor(x, y, use, method):\n",
      "“the standard deviation is zero”\n",
      "Warning message in stats::cor(x, y, use, method):\n",
      "“the standard deviation is zero”\n",
      "Warning message in stats::cor(x, y, use, method):\n",
      "“the standard deviation is zero”\n",
      "Warning message in stats::cor(x, y, use, method):\n",
      "“the standard deviation is zero”\n",
      "Warning message in stats::cor(x, y, use, method):\n",
      "“the standard deviation is zero”\n",
      "Warning message in stats::cor(x, y, use, method):\n",
      "“the standard deviation is zero”\n",
      "Warning message in stats::cor(x, y, use, method):\n",
      "“the standard deviation is zero”\n",
      "Warning message in stats::cor(x, y, use, method):\n",
      "“the standard deviation is zero”\n",
      "Warning message in stats::cor(x, y, use, method):\n",
      "“the standard deviation is zero”\n",
      "Warning message in stats::cor(x, y, use, method):\n",
      "“the standard deviation is zero”\n",
      "Warning message in stats::cor(x, y, use, method):\n",
      "“the standard deviation is zero”\n",
      "Warning message in stats::cor(x, y, use, method):\n",
      "“the standard deviation is zero”\n",
      "Warning message in stats::cor(x, y, use, method):\n",
      "“the standard deviation is zero”\n",
      "Warning message in stats::cor(x, y, use, method):\n",
      "“the standard deviation is zero”\n",
      "Warning message in stats::cor(x, y, use, method):\n",
      "“the standard deviation is zero”\n",
      "Warning message in stats::cor(x, y, use, method):\n",
      "“the standard deviation is zero”\n",
      "Warning message in stats::cor(x, y, use, method):\n",
      "“the standard deviation is zero”\n",
      "Warning message in stats::cor(x, y, use, method):\n",
      "“the standard deviation is zero”\n",
      "Warning message in stats::cor(x, y, use, method):\n",
      "“the standard deviation is zero”\n",
      "Warning message in stats::cor(x, y, use, method):\n",
      "“the standard deviation is zero”\n",
      "Warning message in stats::cor(x, y, use, method):\n",
      "“the standard deviation is zero”\n",
      "Warning message in stats::cor(x, y, use, method):\n",
      "“the standard deviation is zero”\n",
      "Warning message in stats::cor(x, y, use, method):\n",
      "“the standard deviation is zero”\n",
      "Warning message in stats::cor(x, y, use, method):\n",
      "“the standard deviation is zero”\n",
      "Warning message in stats::cor(x, y, use, method):\n",
      "“the standard deviation is zero”\n",
      "Warning message in stats::cor(x, y, use, method):\n",
      "“the standard deviation is zero”\n",
      "Warning message in stats::cor(x, y, use, method):\n",
      "“the standard deviation is zero”\n",
      "Warning message in stats::cor(x, y, use, method):\n",
      "“the standard deviation is zero”\n",
      "Warning message in stats::cor(x, y, use, method):\n",
      "“the standard deviation is zero”\n",
      "Warning message in stats::cor(x, y, use, method):\n",
      "“the standard deviation is zero”\n",
      "Warning message in stats::cor(x, y, use, method):\n",
      "“the standard deviation is zero”\n",
      "Warning message in stats::cor(x, y, use, method):\n",
      "“the standard deviation is zero”\n",
      "Warning message in stats::cor(x, y, use, method):\n",
      "“the standard deviation is zero”\n",
      "Warning message in stats::cor(x, y, use, method):\n",
      "“the standard deviation is zero”\n",
      "Warning message in stats::cor(x, y, use, method):\n",
      "“the standard deviation is zero”\n",
      "Warning message in stats::cor(x, y, use, method):\n",
      "“the standard deviation is zero”\n",
      "Warning message in stats::cor(x, y, use, method):\n",
      "“the standard deviation is zero”\n",
      "Warning message in stats::cor(x, y, use, method):\n",
      "“the standard deviation is zero”\n",
      "Warning message in stats::cor(x, y, use, method):\n",
      "“the standard deviation is zero”\n",
      "Warning message in stats::cor(x, y, use, method):\n",
      "“the standard deviation is zero”\n",
      "Warning message in stats::cor(x, y, use, method):\n",
      "“the standard deviation is zero”\n",
      "Warning message in stats::cor(x, y, use, method):\n",
      "“the standard deviation is zero”\n",
      "Warning message in stats::cor(x, y, use, method):\n",
      "“the standard deviation is zero”\n",
      "Warning message in stats::cor(x, y, use, method):\n",
      "“the standard deviation is zero”\n",
      "Warning message in stats::cor(x, y, use, method):\n",
      "“the standard deviation is zero”\n",
      "Warning message in stats::cor(x, y, use, method):\n",
      "“the standard deviation is zero”\n",
      "Warning message in stats::cor(x, y, use, method):\n",
      "“the standard deviation is zero”\n",
      "Warning message in stats::cor(x, y, use, method):\n",
      "“the standard deviation is zero”\n",
      "Warning message in stats::cor(x, y, use, method):\n",
      "“the standard deviation is zero”\n",
      "Warning message in stats::cor(x, y, use, method):\n",
      "“the standard deviation is zero”\n",
      "Warning message in stats::cor(x, y, use, method):\n",
      "“the standard deviation is zero”\n",
      "Warning message in stats::cor(x, y, use, method):\n",
      "“the standard deviation is zero”\n",
      "Warning message in stats::cor(x, y, use, method):\n",
      "“the standard deviation is zero”\n",
      "Warning message in stats::cor(x, y, use, method):\n",
      "“the standard deviation is zero”\n",
      "Warning message in stats::cor(x, y, use, method):\n",
      "“the standard deviation is zero”\n",
      "Warning message in stats::cor(x, y, use, method):\n",
      "“the standard deviation is zero”\n",
      "Warning message in stats::cor(x, y, use, method):\n",
      "“the standard deviation is zero”\n",
      "Warning message in stats::cor(x, y, use, method):\n",
      "“the standard deviation is zero”\n",
      "Warning message in stats::cor(x, y, use, method):\n",
      "“the standard deviation is zero”\n",
      "Warning message in stats::cor(x, y, use, method):\n",
      "“the standard deviation is zero”\n",
      "Warning message in stats::cor(x, y, use, method):\n",
      "“the standard deviation is zero”\n",
      "Warning message in stats::cor(x, y, use, method):\n",
      "“the standard deviation is zero”\n",
      "Warning message in stats::cor(x, y, use, method):\n",
      "“the standard deviation is zero”\n",
      "Warning message in stats::cor(x, y, use, method):\n",
      "“the standard deviation is zero”\n",
      "Warning message in stats::cor(x, y, use, method):\n",
      "“the standard deviation is zero”\n",
      "Warning message in stats::cor(x, y, use, method):\n",
      "“the standard deviation is zero”\n",
      "Warning message in stats::cor(x, y, use, method):\n",
      "“the standard deviation is zero”\n",
      "Warning message in stats::cor(x, y, use, method):\n",
      "“the standard deviation is zero”\n",
      "Warning message in stats::cor(x, y, use, method):\n",
      "“the standard deviation is zero”\n",
      "Warning message in stats::cor(x, y, use, method):\n",
      "“the standard deviation is zero”\n",
      "Warning message in stats::cor(x, y, use, method):\n",
      "“the standard deviation is zero”\n",
      "Warning message in stats::cor(x, y, use, method):\n",
      "“the standard deviation is zero”\n",
      "Warning message in stats::cor(x, y, use, method):\n",
      "“the standard deviation is zero”\n",
      "Warning message in stats::cor(x, y, use, method):\n",
      "“the standard deviation is zero”\n",
      "Warning message in stats::cor(x, y, use, method):\n",
      "“the standard deviation is zero”\n",
      "Warning message in stats::cor(x, y, use, method):\n",
      "“the standard deviation is zero”\n",
      "Warning message in stats::cor(x, y, use, method):\n",
      "“the standard deviation is zero”\n",
      "Warning message in stats::cor(x, y, use, method):\n",
      "“the standard deviation is zero”\n",
      "Warning message in stats::cor(x, y, use, method):\n",
      "“the standard deviation is zero”\n",
      "Warning message in stats::cor(x, y, use, method):\n",
      "“the standard deviation is zero”\n",
      "Warning message in stats::cor(x, y, use, method):\n",
      "“the standard deviation is zero”\n",
      "Warning message in stats::cor(x, y, use, method):\n",
      "“the standard deviation is zero”\n",
      "Warning message in stats::cor(x, y, use, method):\n",
      "“the standard deviation is zero”\n",
      "Warning message in stats::cor(x, y, use, method):\n",
      "“the standard deviation is zero”\n",
      "Warning message in stats::cor(x, y, use, method):\n",
      "“the standard deviation is zero”\n",
      "Warning message in stats::cor(x, y, use, method):\n",
      "“the standard deviation is zero”\n",
      "Warning message in stats::cor(x, y, use, method):\n",
      "“the standard deviation is zero”\n",
      "Warning message in stats::cor(x, y, use, method):\n",
      "“the standard deviation is zero”\n",
      "Warning message in stats::cor(x, y, use, method):\n",
      "“the standard deviation is zero”\n",
      "Warning message in stats::cor(x, y, use, method):\n",
      "“the standard deviation is zero”\n",
      "Warning message in stats::cor(x, y, use, method):\n",
      "“the standard deviation is zero”\n",
      "Warning message in stats::cor(x, y, use, method):\n",
      "“the standard deviation is zero”\n",
      "Warning message in stats::cor(x, y, use, method):\n",
      "“the standard deviation is zero”\n",
      "Warning message in stats::cor(x, y, use, method):\n",
      "“the standard deviation is zero”\n",
      "Warning message in stats::cor(x, y, use, method):\n",
      "“the standard deviation is zero”\n",
      "Warning message in stats::cor(x, y, use, method):\n",
      "“the standard deviation is zero”\n",
      "Warning message in stats::cor(x, y, use, method):\n",
      "“the standard deviation is zero”\n",
      "Warning message in stats::cor(x, y, use, method):\n",
      "“the standard deviation is zero”\n",
      "Warning message in stats::cor(x, y, use, method):\n",
      "“the standard deviation is zero”\n",
      "Warning message in stats::cor(x, y, use, method):\n",
      "“the standard deviation is zero”\n",
      "Warning message in stats::cor(x, y, use, method):\n",
      "“the standard deviation is zero”\n",
      "Warning message in stats::cor(x, y, use, method):\n",
      "“the standard deviation is zero”\n",
      "Warning message in stats::cor(x, y, use, method):\n",
      "“the standard deviation is zero”\n",
      "Warning message in stats::cor(x, y, use, method):\n",
      "“the standard deviation is zero”\n",
      "Warning message in stats::cor(x, y, use, method):\n",
      "“the standard deviation is zero”\n",
      "Warning message in stats::cor(x, y, use, method):\n",
      "“the standard deviation is zero”\n",
      "Warning message in stats::cor(x, y, use, method):\n",
      "“the standard deviation is zero”\n",
      "Warning message in stats::cor(x, y, use, method):\n",
      "“the standard deviation is zero”\n",
      "Warning message in stats::cor(x, y, use, method):\n",
      "“the standard deviation is zero”\n",
      "Warning message in stats::cor(x, y, use, method):\n",
      "“the standard deviation is zero”\n",
      "Warning message in stats::cor(x, y, use, method):\n",
      "“the standard deviation is zero”\n",
      "Warning message in stats::cor(x, y, use, method):\n",
      "“the standard deviation is zero”\n",
      "Warning message in stats::cor(x, y, use, method):\n",
      "“the standard deviation is zero”\n",
      "Warning message in stats::cor(x, y, use, method):\n",
      "“the standard deviation is zero”\n",
      "Warning message in stats::cor(x, y, use, method):\n",
      "“the standard deviation is zero”\n",
      "Warning message in stats::cor(x, y, use, method):\n",
      "“the standard deviation is zero”\n",
      "Warning message in stats::cor(x, y, use, method):\n",
      "“the standard deviation is zero”\n",
      "Warning message in stats::cor(x, y, use, method):\n",
      "“the standard deviation is zero”\n",
      "Warning message in stats::cor(x, y, use, method):\n",
      "“the standard deviation is zero”\n",
      "Warning message in stats::cor(x, y, use, method):\n",
      "“the standard deviation is zero”\n",
      "Warning message in stats::cor(x, y, use, method):\n",
      "“the standard deviation is zero”\n",
      "Warning message in stats::cor(x, y, use, method):\n",
      "“the standard deviation is zero”\n",
      "Warning message in stats::cor(x, y, use, method):\n",
      "“the standard deviation is zero”\n",
      "Warning message in stats::cor(x, y, use, method):\n",
      "“the standard deviation is zero”\n",
      "Warning message in stats::cor(x, y, use, method):\n",
      "“the standard deviation is zero”\n",
      "Warning message in stats::cor(x, y, use, method):\n",
      "“the standard deviation is zero”\n",
      "Warning message in stats::cor(x, y, use, method):\n",
      "“the standard deviation is zero”\n",
      "Warning message in stats::cor(x, y, use, method):\n",
      "“the standard deviation is zero”\n",
      "Warning message in stats::cor(x, y, use, method):\n",
      "“the standard deviation is zero”\n",
      "Warning message in stats::cor(x, y, use, method):\n",
      "“the standard deviation is zero”\n",
      "Warning message in stats::cor(x, y, use, method):\n",
      "“the standard deviation is zero”\n",
      "Warning message in stats::cor(x, y, use, method):\n",
      "“the standard deviation is zero”\n",
      "Warning message in stats::cor(x, y, use, method):\n",
      "“the standard deviation is zero”\n",
      "Warning message in stats::cor(x, y, use, method):\n",
      "“the standard deviation is zero”\n",
      "Warning message in stats::cor(x, y, use, method):\n",
      "“the standard deviation is zero”\n",
      "Warning message in stats::cor(x, y, use, method):\n",
      "“the standard deviation is zero”\n",
      "Warning message in stats::cor(x, y, use, method):\n",
      "“the standard deviation is zero”\n",
      "Warning message in stats::cor(x, y, use, method):\n",
      "“the standard deviation is zero”\n",
      "Warning message in stats::cor(x, y, use, method):\n",
      "“the standard deviation is zero”\n",
      "Warning message in stats::cor(x, y, use, method):\n",
      "“the standard deviation is zero”\n",
      "Warning message in stats::cor(x, y, use, method):\n",
      "“the standard deviation is zero”\n",
      "Warning message in stats::cor(x, y, use, method):\n",
      "“the standard deviation is zero”\n",
      "Warning message in stats::cor(x, y, use, method):\n",
      "“the standard deviation is zero”\n",
      "Warning message in stats::cor(x, y, use, method):\n",
      "“the standard deviation is zero”\n",
      "Warning message in stats::cor(x, y, use, method):\n",
      "“the standard deviation is zero”\n",
      "Warning message in stats::cor(x, y, use, method):\n",
      "“the standard deviation is zero”\n",
      "Warning message in stats::cor(x, y, use, method):\n",
      "“the standard deviation is zero”\n",
      "Warning message in stats::cor(x, y, use, method):\n",
      "“the standard deviation is zero”\n",
      "Warning message in stats::cor(x, y, use, method):\n",
      "“the standard deviation is zero”\n",
      "Warning message in stats::cor(x, y, use, method):\n",
      "“the standard deviation is zero”\n",
      "Warning message in stats::cor(x, y, use, method):\n",
      "“the standard deviation is zero”\n",
      "Warning message in stats::cor(x, y, use, method):\n",
      "“the standard deviation is zero”\n",
      "Warning message in stats::cor(x, y, use, method):\n",
      "“the standard deviation is zero”\n",
      "Warning message in stats::cor(x, y, use, method):\n",
      "“the standard deviation is zero”\n",
      "Warning message in stats::cor(x, y, use, method):\n",
      "“the standard deviation is zero”\n",
      "Warning message in stats::cor(x, y, use, method):\n",
      "“the standard deviation is zero”\n",
      "Warning message in stats::cor(x, y, use, method):\n",
      "“the standard deviation is zero”\n",
      "Warning message in stats::cor(x, y, use, method):\n",
      "“the standard deviation is zero”\n",
      "Warning message in stats::cor(x, y, use, method):\n",
      "“the standard deviation is zero”\n",
      "Warning message in stats::cor(x, y, use, method):\n",
      "“the standard deviation is zero”\n",
      "Warning message in stats::cor(x, y, use, method):\n",
      "“the standard deviation is zero”\n",
      "Warning message in stats::cor(x, y, use, method):\n",
      "“the standard deviation is zero”\n",
      "Warning message in stats::cor(x, y, use, method):\n",
      "“the standard deviation is zero”\n",
      "Warning message in stats::cor(x, y, use, method):\n",
      "“the standard deviation is zero”\n",
      "Warning message in stats::cor(x, y, use, method):\n",
      "“the standard deviation is zero”\n",
      "Warning message in stats::cor(x, y, use, method):\n",
      "“the standard deviation is zero”\n",
      "Warning message in stats::cor(x, y, use, method):\n",
      "“the standard deviation is zero”\n",
      "Warning message in stats::cor(x, y, use, method):\n",
      "“the standard deviation is zero”\n",
      "Warning message in stats::cor(x, y, use, method):\n",
      "“the standard deviation is zero”\n",
      "Warning message in stats::cor(x, y, use, method):\n",
      "“the standard deviation is zero”\n",
      "Warning message in stats::cor(x, y, use, method):\n",
      "“the standard deviation is zero”\n",
      "Warning message in stats::cor(x, y, use, method):\n",
      "“the standard deviation is zero”\n",
      "Warning message in stats::cor(x, y, use, method):\n",
      "“the standard deviation is zero”\n",
      "Warning message in stats::cor(x, y, use, method):\n",
      "“the standard deviation is zero”\n",
      "Warning message in stats::cor(x, y, use, method):\n",
      "“the standard deviation is zero”\n",
      "Warning message in stats::cor(x, y, use, method):\n",
      "“the standard deviation is zero”\n",
      "Warning message in stats::cor(x, y, use, method):\n",
      "“the standard deviation is zero”\n",
      "Warning message in stats::cor(x, y, use, method):\n",
      "“the standard deviation is zero”\n",
      "Warning message in stats::cor(x, y, use, method):\n",
      "“the standard deviation is zero”\n",
      "Warning message in stats::cor(x, y, use, method):\n",
      "“the standard deviation is zero”\n",
      "Warning message in stats::cor(x, y, use, method):\n",
      "“the standard deviation is zero”\n",
      "Warning message in stats::cor(x, y, use, method):\n",
      "“the standard deviation is zero”\n",
      "Warning message in stats::cor(x, y, use, method):\n",
      "“the standard deviation is zero”\n",
      "Warning message in stats::cor(x, y, use, method):\n",
      "“the standard deviation is zero”\n",
      "Warning message in stats::cor(x, y, use, method):\n",
      "“the standard deviation is zero”\n",
      "Warning message in stats::cor(x, y, use, method):\n",
      "“the standard deviation is zero”\n",
      "Warning message in stats::cor(x, y, use, method):\n",
      "“the standard deviation is zero”\n",
      "Warning message in stats::cor(x, y, use, method):\n",
      "“the standard deviation is zero”\n",
      "Warning message in stats::cor(x, y, use, method):\n",
      "“the standard deviation is zero”\n",
      "Warning message in stats::cor(x, y, use, method):\n",
      "“the standard deviation is zero”\n",
      "Warning message in stats::cor(x, y, use, method):\n",
      "“the standard deviation is zero”\n",
      "Warning message in stats::cor(x, y, use, method):\n",
      "“the standard deviation is zero”\n",
      "Warning message in stats::cor(x, y, use, method):\n",
      "“the standard deviation is zero”\n",
      "Warning message in stats::cor(x, y, use, method):\n",
      "“the standard deviation is zero”\n",
      "Warning message in stats::cor(x, y, use, method):\n",
      "“the standard deviation is zero”\n",
      "Warning message in stats::cor(x, y, use, method):\n",
      "“the standard deviation is zero”\n",
      "Warning message in stats::cor(x, y, use, method):\n",
      "“the standard deviation is zero”\n",
      "Warning message in stats::cor(x, y, use, method):\n",
      "“the standard deviation is zero”\n",
      "Warning message in stats::cor(x, y, use, method):\n",
      "“the standard deviation is zero”\n",
      "Warning message in stats::cor(x, y, use, method):\n",
      "“the standard deviation is zero”\n",
      "Warning message in stats::cor(x, y, use, method):\n",
      "“the standard deviation is zero”\n",
      "Warning message in stats::cor(x, y, use, method):\n",
      "“the standard deviation is zero”\n",
      "Warning message in stats::cor(x, y, use, method):\n",
      "“the standard deviation is zero”\n",
      "Warning message in stats::cor(x, y, use, method):\n",
      "“the standard deviation is zero”\n",
      "Warning message in stats::cor(x, y, use, method):\n",
      "“the standard deviation is zero”\n",
      "Warning message in stats::cor(x, y, use, method):\n",
      "“the standard deviation is zero”\n",
      "Warning message in stats::cor(x, y, use, method):\n",
      "“the standard deviation is zero”\n",
      "Warning message in stats::cor(x, y, use, method):\n",
      "“the standard deviation is zero”\n",
      "Warning message in stats::cor(x, y, use, method):\n",
      "“the standard deviation is zero”\n",
      "Warning message in stats::cor(x, y, use, method):\n",
      "“the standard deviation is zero”\n",
      "Warning message in stats::cor(x, y, use, method):\n",
      "“the standard deviation is zero”\n",
      "Warning message in stats::cor(x, y, use, method):\n",
      "“the standard deviation is zero”\n",
      "Warning message in stats::cor(x, y, use, method):\n",
      "“the standard deviation is zero”\n",
      "Warning message in stats::cor(x, y, use, method):\n",
      "“the standard deviation is zero”\n",
      "Warning message in stats::cor(x, y, use, method):\n",
      "“the standard deviation is zero”\n",
      "Warning message in stats::cor(x, y, use, method):\n",
      "“the standard deviation is zero”\n",
      "Warning message in stats::cor(x, y, use, method):\n",
      "“the standard deviation is zero”\n",
      "Warning message in stats::cor(x, y, use, method):\n",
      "“the standard deviation is zero”\n",
      "Warning message in stats::cor(x, y, use, method):\n",
      "“the standard deviation is zero”\n",
      "Warning message in stats::cor(x, y, use, method):\n",
      "“the standard deviation is zero”\n",
      "Warning message in stats::cor(x, y, use, method):\n",
      "“the standard deviation is zero”\n",
      "Warning message in stats::cor(x, y, use, method):\n",
      "“the standard deviation is zero”\n",
      "Warning message in stats::cor(x, y, use, method):\n",
      "“the standard deviation is zero”\n",
      "Warning message in stats::cor(x, y, use, method):\n",
      "“the standard deviation is zero”\n",
      "Warning message in stats::cor(x, y, use, method):\n",
      "“the standard deviation is zero”\n",
      "Warning message in stats::cor(x, y, use, method):\n",
      "“the standard deviation is zero”\n",
      "Warning message in stats::cor(x, y, use, method):\n",
      "“the standard deviation is zero”\n",
      "Warning message in stats::cor(x, y, use, method):\n",
      "“the standard deviation is zero”\n",
      "Warning message in stats::cor(x, y, use, method):\n",
      "“the standard deviation is zero”\n",
      "Warning message in stats::cor(x, y, use, method):\n",
      "“the standard deviation is zero”\n",
      "Warning message in stats::cor(x, y, use, method):\n",
      "“the standard deviation is zero”\n",
      "Warning message in stats::cor(x, y, use, method):\n",
      "“the standard deviation is zero”\n",
      "Warning message in stats::cor(x, y, use, method):\n",
      "“the standard deviation is zero”\n",
      "Warning message in stats::cor(x, y, use, method):\n",
      "“the standard deviation is zero”\n",
      "Warning message in stats::cor(x, y, use, method):\n",
      "“the standard deviation is zero”\n",
      "Warning message in stats::cor(x, y, use, method):\n",
      "“the standard deviation is zero”\n",
      "Warning message in stats::cor(x, y, use, method):\n",
      "“the standard deviation is zero”\n",
      "Warning message in stats::cor(x, y, use, method):\n",
      "“the standard deviation is zero”\n",
      "Warning message in stats::cor(x, y, use, method):\n",
      "“the standard deviation is zero”\n",
      "Warning message in stats::cor(x, y, use, method):\n",
      "“the standard deviation is zero”\n",
      "Warning message in stats::cor(x, y, use, method):\n",
      "“the standard deviation is zero”\n",
      "Warning message in stats::cor(x, y, use, method):\n",
      "“the standard deviation is zero”\n",
      "Warning message in stats::cor(x, y, use, method):\n",
      "“the standard deviation is zero”\n",
      "Warning message in stats::cor(x, y, use, method):\n",
      "“the standard deviation is zero”\n",
      "Warning message in stats::cor(x, y, use, method):\n",
      "“the standard deviation is zero”\n",
      "Warning message in stats::cor(x, y, use, method):\n",
      "“the standard deviation is zero”\n",
      "Warning message in stats::cor(x, y, use, method):\n",
      "“the standard deviation is zero”\n",
      "Warning message in stats::cor(x, y, use, method):\n",
      "“the standard deviation is zero”\n",
      "Warning message in stats::cor(x, y, use, method):\n",
      "“the standard deviation is zero”\n",
      "Warning message in stats::cor(x, y, use, method):\n",
      "“the standard deviation is zero”\n",
      "Warning message in stats::cor(x, y, use, method):\n",
      "“the standard deviation is zero”\n",
      "Warning message in stats::cor(x, y, use, method):\n",
      "“the standard deviation is zero”\n",
      "Warning message in stats::cor(x, y, use, method):\n",
      "“the standard deviation is zero”\n",
      "Warning message in stats::cor(x, y, use, method):\n",
      "“the standard deviation is zero”\n",
      "Warning message in stats::cor(x, y, use, method):\n",
      "“the standard deviation is zero”\n",
      "Warning message in stats::cor(x, y, use, method):\n",
      "“the standard deviation is zero”\n",
      "Warning message in stats::cor(x, y, use, method):\n",
      "“the standard deviation is zero”\n",
      "Warning message in stats::cor(x, y, use, method):\n",
      "“the standard deviation is zero”\n",
      "Warning message in stats::cor(x, y, use, method):\n",
      "“the standard deviation is zero”\n",
      "Warning message in stats::cor(x, y, use, method):\n",
      "“the standard deviation is zero”\n",
      "Warning message in stats::cor(x, y, use, method):\n",
      "“the standard deviation is zero”\n",
      "Warning message in stats::cor(x, y, use, method):\n",
      "“the standard deviation is zero”\n",
      "Warning message in stats::cor(x, y, use, method):\n",
      "“the standard deviation is zero”\n",
      "Warning message in stats::cor(x, y, use, method):\n",
      "“the standard deviation is zero”\n",
      "Warning message in stats::cor(x, y, use, method):\n",
      "“the standard deviation is zero”\n",
      "Warning message in stats::cor(x, y, use, method):\n",
      "“the standard deviation is zero”\n",
      "Warning message in stats::cor(x, y, use, method):\n",
      "“the standard deviation is zero”\n",
      "Warning message in stats::cor(x, y, use, method):\n",
      "“the standard deviation is zero”\n",
      "Warning message in stats::cor(x, y, use, method):\n",
      "“the standard deviation is zero”\n",
      "Warning message in stats::cor(x, y, use, method):\n",
      "“the standard deviation is zero”\n",
      "Warning message in stats::cor(x, y, use, method):\n",
      "“the standard deviation is zero”\n",
      "Warning message in stats::cor(x, y, use, method):\n",
      "“the standard deviation is zero”\n",
      "Warning message in stats::cor(x, y, use, method):\n",
      "“the standard deviation is zero”\n",
      "Warning message in stats::cor(x, y, use, method):\n",
      "“the standard deviation is zero”\n",
      "Warning message in stats::cor(x, y, use, method):\n",
      "“the standard deviation is zero”\n",
      "Warning message in stats::cor(x, y, use, method):\n",
      "“the standard deviation is zero”\n",
      "Warning message in stats::cor(x, y, use, method):\n",
      "“the standard deviation is zero”\n",
      "Warning message in stats::cor(x, y, use, method):\n",
      "“the standard deviation is zero”\n",
      "Warning message in stats::cor(x, y, use, method):\n",
      "“the standard deviation is zero”\n",
      "Warning message in stats::cor(x, y, use, method):\n",
      "“the standard deviation is zero”\n",
      "Warning message in stats::cor(x, y, use, method):\n",
      "“the standard deviation is zero”\n",
      "Warning message in stats::cor(x, y, use, method):\n",
      "“the standard deviation is zero”\n",
      "Warning message in stats::cor(x, y, use, method):\n",
      "“the standard deviation is zero”\n",
      "Warning message in stats::cor(x, y, use, method):\n",
      "“the standard deviation is zero”\n",
      "Warning message in stats::cor(x, y, use, method):\n",
      "“the standard deviation is zero”\n",
      "Warning message in stats::cor(x, y, use, method):\n",
      "“the standard deviation is zero”\n",
      "Warning message in stats::cor(x, y, use, method):\n",
      "“the standard deviation is zero”\n",
      "Warning message in stats::cor(x, y, use, method):\n",
      "“the standard deviation is zero”\n",
      "Warning message in stats::cor(x, y, use, method):\n",
      "“the standard deviation is zero”\n",
      "Warning message in stats::cor(x, y, use, method):\n",
      "“the standard deviation is zero”\n",
      "Warning message in stats::cor(x, y, use, method):\n",
      "“the standard deviation is zero”\n",
      "Warning message in stats::cor(x, y, use, method):\n",
      "“the standard deviation is zero”\n",
      "Warning message in stats::cor(x, y, use, method):\n",
      "“the standard deviation is zero”\n",
      "Warning message in stats::cor(x, y, use, method):\n",
      "“the standard deviation is zero”\n",
      "Warning message in stats::cor(x, y, use, method):\n",
      "“the standard deviation is zero”\n",
      "Warning message in stats::cor(x, y, use, method):\n",
      "“the standard deviation is zero”\n",
      "Warning message in stats::cor(x, y, use, method):\n",
      "“the standard deviation is zero”\n",
      "Warning message in stats::cor(x, y, use, method):\n",
      "“the standard deviation is zero”\n",
      "Warning message in stats::cor(x, y, use, method):\n",
      "“the standard deviation is zero”\n",
      "Warning message in stats::cor(x, y, use, method):\n",
      "“the standard deviation is zero”\n",
      "Warning message in stats::cor(x, y, use, method):\n",
      "“the standard deviation is zero”\n",
      "Warning message in stats::cor(x, y, use, method):\n",
      "“the standard deviation is zero”\n",
      "Warning message in stats::cor(x, y, use, method):\n",
      "“the standard deviation is zero”\n",
      "Warning message in stats::cor(x, y, use, method):\n",
      "“the standard deviation is zero”\n",
      "Warning message in stats::cor(x, y, use, method):\n",
      "“the standard deviation is zero”\n",
      "Warning message in stats::cor(x, y, use, method):\n",
      "“the standard deviation is zero”\n",
      "Warning message in stats::cor(x, y, use, method):\n",
      "“the standard deviation is zero”\n",
      "Warning message in stats::cor(x, y, use, method):\n",
      "“the standard deviation is zero”\n",
      "Warning message in stats::cor(x, y, use, method):\n",
      "“the standard deviation is zero”\n",
      "Warning message in stats::cor(x, y, use, method):\n",
      "“the standard deviation is zero”\n",
      "Warning message in stats::cor(x, y, use, method):\n",
      "“the standard deviation is zero”\n",
      "Warning message in stats::cor(x, y, use, method):\n",
      "“the standard deviation is zero”\n",
      "Warning message in stats::cor(x, y, use, method):\n",
      "“the standard deviation is zero”\n",
      "Warning message in stats::cor(x, y, use, method):\n",
      "“the standard deviation is zero”\n",
      "Warning message in stats::cor(x, y, use, method):\n",
      "“the standard deviation is zero”\n",
      "Warning message in stats::cor(x, y, use, method):\n",
      "“the standard deviation is zero”\n",
      "Warning message in stats::cor(x, y, use, method):\n",
      "“the standard deviation is zero”\n",
      "Warning message in stats::cor(x, y, use, method):\n",
      "“the standard deviation is zero”\n",
      "Warning message in stats::cor(x, y, use, method):\n",
      "“the standard deviation is zero”\n",
      "Warning message in stats::cor(x, y, use, method):\n",
      "“the standard deviation is zero”\n",
      "Warning message in stats::cor(x, y, use, method):\n",
      "“the standard deviation is zero”\n",
      "Warning message in stats::cor(x, y, use, method):\n",
      "“the standard deviation is zero”\n",
      "Warning message in stats::cor(x, y, use, method):\n",
      "“the standard deviation is zero”\n",
      "Warning message in stats::cor(x, y, use, method):\n",
      "“the standard deviation is zero”\n",
      "Warning message in stats::cor(x, y, use, method):\n",
      "“the standard deviation is zero”\n",
      "Warning message in stats::cor(x, y, use, method):\n",
      "“the standard deviation is zero”\n",
      "Warning message in stats::cor(x, y, use, method):\n",
      "“the standard deviation is zero”\n",
      "Warning message in stats::cor(x, y, use, method):\n",
      "“the standard deviation is zero”\n",
      "Warning message in stats::cor(x, y, use, method):\n",
      "“the standard deviation is zero”\n",
      "Warning message in stats::cor(x, y, use, method):\n",
      "“the standard deviation is zero”\n",
      "Warning message in stats::cor(x, y, use, method):\n",
      "“the standard deviation is zero”\n",
      "Warning message in stats::cor(x, y, use, method):\n",
      "“the standard deviation is zero”\n",
      "Warning message in stats::cor(x, y, use, method):\n",
      "“the standard deviation is zero”\n",
      "Warning message in stats::cor(x, y, use, method):\n",
      "“the standard deviation is zero”\n",
      "Warning message in stats::cor(x, y, use, method):\n",
      "“the standard deviation is zero”\n",
      "Warning message in stats::cor(x, y, use, method):\n",
      "“the standard deviation is zero”\n",
      "Warning message in stats::cor(x, y, use, method):\n",
      "“the standard deviation is zero”\n",
      "Warning message in stats::cor(x, y, use, method):\n",
      "“the standard deviation is zero”\n",
      "Warning message in stats::cor(x, y, use, method):\n",
      "“the standard deviation is zero”\n",
      "Warning message in stats::cor(x, y, use, method):\n",
      "“the standard deviation is zero”\n",
      "Warning message in stats::cor(x, y, use, method):\n",
      "“the standard deviation is zero”\n",
      "Warning message in stats::cor(x, y, use, method):\n",
      "“the standard deviation is zero”\n",
      "Warning message in stats::cor(x, y, use, method):\n",
      "“the standard deviation is zero”\n",
      "Warning message in stats::cor(x, y, use, method):\n",
      "“the standard deviation is zero”\n",
      "Warning message in stats::cor(x, y, use, method):\n",
      "“the standard deviation is zero”\n",
      "Warning message in stats::cor(x, y, use, method):\n",
      "“the standard deviation is zero”\n",
      "Warning message in stats::cor(x, y, use, method):\n",
      "“the standard deviation is zero”\n",
      "Warning message in stats::cor(x, y, use, method):\n",
      "“the standard deviation is zero”\n",
      "Warning message in stats::cor(x, y, use, method):\n",
      "“the standard deviation is zero”\n",
      "Warning message in stats::cor(x, y, use, method):\n",
      "“the standard deviation is zero”\n",
      "Warning message in stats::cor(x, y, use, method):\n",
      "“the standard deviation is zero”\n",
      "Warning message in stats::cor(x, y, use, method):\n",
      "“the standard deviation is zero”\n",
      "Warning message in stats::cor(x, y, use, method):\n",
      "“the standard deviation is zero”\n",
      "Warning message in stats::cor(x, y, use, method):\n",
      "“the standard deviation is zero”\n",
      "Warning message in stats::cor(x, y, use, method):\n",
      "“the standard deviation is zero”\n",
      "Warning message in stats::cor(x, y, use, method):\n",
      "“the standard deviation is zero”\n",
      "Warning message in stats::cor(x, y, use, method):\n",
      "“the standard deviation is zero”\n",
      "Warning message in stats::cor(x, y, use, method):\n",
      "“the standard deviation is zero”\n",
      "Warning message in stats::cor(x, y, use, method):\n",
      "“the standard deviation is zero”\n",
      "Warning message in stats::cor(x, y, use, method):\n",
      "“the standard deviation is zero”\n",
      "Warning message in stats::cor(x, y, use, method):\n",
      "“the standard deviation is zero”\n",
      "Warning message in stats::cor(x, y, use, method):\n",
      "“the standard deviation is zero”\n",
      "Warning message in stats::cor(x, y, use, method):\n",
      "“the standard deviation is zero”\n",
      "Warning message in stats::cor(x, y, use, method):\n",
      "“the standard deviation is zero”\n",
      "Warning message in stats::cor(x, y, use, method):\n",
      "“the standard deviation is zero”\n",
      "Warning message in stats::cor(x, y, use, method):\n",
      "“the standard deviation is zero”\n",
      "Warning message in stats::cor(x, y, use, method):\n",
      "“the standard deviation is zero”\n",
      "Warning message in stats::cor(x, y, use, method):\n",
      "“the standard deviation is zero”\n",
      "Warning message in stats::cor(x, y, use, method):\n",
      "“the standard deviation is zero”\n",
      "Warning message in stats::cor(x, y, use, method):\n",
      "“the standard deviation is zero”\n",
      "Warning message in stats::cor(x, y, use, method):\n",
      "“the standard deviation is zero”\n",
      "Warning message in stats::cor(x, y, use, method):\n",
      "“the standard deviation is zero”\n",
      "Warning message in stats::cor(x, y, use, method):\n",
      "“the standard deviation is zero”\n",
      "Warning message in stats::cor(x, y, use, method):\n",
      "“the standard deviation is zero”\n",
      "Warning message in stats::cor(x, y, use, method):\n",
      "“the standard deviation is zero”\n",
      "Warning message in stats::cor(x, y, use, method):\n",
      "“the standard deviation is zero”\n",
      "Warning message in stats::cor(x, y, use, method):\n",
      "“the standard deviation is zero”\n",
      "Warning message in stats::cor(x, y, use, method):\n",
      "“the standard deviation is zero”\n",
      "Warning message in stats::cor(x, y, use, method):\n",
      "“the standard deviation is zero”\n",
      "Warning message in stats::cor(x, y, use, method):\n",
      "“the standard deviation is zero”\n",
      "Warning message in stats::cor(x, y, use, method):\n",
      "“the standard deviation is zero”\n",
      "Warning message in stats::cor(x, y, use, method):\n",
      "“the standard deviation is zero”\n",
      "Warning message in stats::cor(x, y, use, method):\n",
      "“the standard deviation is zero”\n",
      "Warning message in stats::cor(x, y, use, method):\n",
      "“the standard deviation is zero”\n",
      "Warning message in stats::cor(x, y, use, method):\n",
      "“the standard deviation is zero”\n",
      "Warning message in stats::cor(x, y, use, method):\n",
      "“the standard deviation is zero”\n",
      "Warning message in stats::cor(x, y, use, method):\n",
      "“the standard deviation is zero”\n",
      "Warning message in stats::cor(x, y, use, method):\n",
      "“the standard deviation is zero”\n",
      "Warning message in stats::cor(x, y, use, method):\n",
      "“the standard deviation is zero”\n",
      "Warning message in stats::cor(x, y, use, method):\n",
      "“the standard deviation is zero”\n",
      "Warning message in stats::cor(x, y, use, method):\n",
      "“the standard deviation is zero”\n",
      "Warning message in stats::cor(x, y, use, method):\n",
      "“the standard deviation is zero”\n",
      "Warning message in stats::cor(x, y, use, method):\n",
      "“the standard deviation is zero”\n",
      "Warning message in stats::cor(x, y, use, method):\n",
      "“the standard deviation is zero”\n",
      "Warning message in stats::cor(x, y, use, method):\n",
      "“the standard deviation is zero”\n",
      "Warning message in stats::cor(x, y, use, method):\n",
      "“the standard deviation is zero”\n",
      "Warning message in stats::cor(x, y, use, method):\n",
      "“the standard deviation is zero”\n",
      "Warning message in stats::cor(x, y, use, method):\n",
      "“the standard deviation is zero”\n",
      "Warning message in stats::cor(x, y, use, method):\n",
      "“the standard deviation is zero”\n",
      "Warning message in stats::cor(x, y, use, method):\n",
      "“the standard deviation is zero”\n",
      "Warning message in stats::cor(x, y, use, method):\n",
      "“the standard deviation is zero”\n",
      "Warning message in stats::cor(x, y, use, method):\n",
      "“the standard deviation is zero”\n",
      "Warning message in stats::cor(x, y, use, method):\n",
      "“the standard deviation is zero”\n",
      "Warning message in stats::cor(x, y, use, method):\n",
      "“the standard deviation is zero”\n",
      "Warning message in stats::cor(x, y, use, method):\n",
      "“the standard deviation is zero”\n",
      "Warning message in stats::cor(x, y, use, method):\n",
      "“the standard deviation is zero”\n",
      "Warning message in stats::cor(x, y, use, method):\n",
      "“the standard deviation is zero”\n",
      "Warning message in stats::cor(x, y, use, method):\n",
      "“the standard deviation is zero”\n",
      "Warning message in stats::cor(x, y, use, method):\n",
      "“the standard deviation is zero”\n",
      "Warning message in stats::cor(x, y, use, method):\n",
      "“the standard deviation is zero”\n",
      "Warning message in stats::cor(x, y, use, method):\n",
      "“the standard deviation is zero”\n",
      "Warning message in stats::cor(x, y, use, method):\n",
      "“the standard deviation is zero”\n",
      "Warning message in stats::cor(x, y, use, method):\n",
      "“the standard deviation is zero”\n",
      "Warning message in stats::cor(x, y, use, method):\n",
      "“the standard deviation is zero”\n",
      "Warning message in stats::cor(x, y, use, method):\n",
      "“the standard deviation is zero”\n",
      "Warning message in stats::cor(x, y, use, method):\n",
      "“the standard deviation is zero”\n",
      "Warning message in stats::cor(x, y, use, method):\n",
      "“the standard deviation is zero”\n",
      "Warning message in stats::cor(x, y, use, method):\n",
      "“the standard deviation is zero”\n",
      "Warning message in stats::cor(x, y, use, method):\n",
      "“the standard deviation is zero”\n",
      "Warning message in stats::cor(x, y, use, method):\n",
      "“the standard deviation is zero”\n",
      "Warning message in stats::cor(x, y, use, method):\n",
      "“the standard deviation is zero”\n",
      "Warning message in stats::cor(x, y, use, method):\n",
      "“the standard deviation is zero”\n",
      "Warning message in stats::cor(x, y, use, method):\n",
      "“the standard deviation is zero”\n",
      "Warning message in stats::cor(x, y, use, method):\n",
      "“the standard deviation is zero”\n",
      "Warning message in stats::cor(x, y, use, method):\n",
      "“the standard deviation is zero”\n",
      "Warning message in stats::cor(x, y, use, method):\n",
      "“the standard deviation is zero”\n",
      "Warning message in stats::cor(x, y, use, method):\n",
      "“the standard deviation is zero”\n",
      "Warning message in stats::cor(x, y, use, method):\n",
      "“the standard deviation is zero”\n",
      "Warning message in stats::cor(x, y, use, method):\n",
      "“the standard deviation is zero”\n",
      "Warning message in stats::cor(x, y, use, method):\n",
      "“the standard deviation is zero”\n",
      "Warning message in stats::cor(x, y, use, method):\n",
      "“the standard deviation is zero”\n",
      "Warning message in stats::cor(x, y, use, method):\n",
      "“the standard deviation is zero”\n",
      "Warning message in stats::cor(x, y, use, method):\n",
      "“the standard deviation is zero”\n",
      "Warning message in stats::cor(x, y, use, method):\n",
      "“the standard deviation is zero”\n",
      "Warning message in stats::cor(x, y, use, method):\n",
      "“the standard deviation is zero”\n",
      "Warning message in stats::cor(x, y, use, method):\n",
      "“the standard deviation is zero”\n",
      "Warning message in stats::cor(x, y, use, method):\n",
      "“the standard deviation is zero”\n",
      "Warning message in stats::cor(x, y, use, method):\n",
      "“the standard deviation is zero”\n",
      "Warning message in stats::cor(x, y, use, method):\n",
      "“the standard deviation is zero”\n",
      "Warning message in stats::cor(x, y, use, method):\n",
      "“the standard deviation is zero”\n",
      "Warning message in stats::cor(x, y, use, method):\n",
      "“the standard deviation is zero”\n",
      "Warning message in stats::cor(x, y, use, method):\n",
      "“the standard deviation is zero”\n",
      "Warning message in stats::cor(x, y, use, method):\n",
      "“the standard deviation is zero”\n",
      "Warning message in stats::cor(x, y, use, method):\n",
      "“the standard deviation is zero”\n",
      "Warning message in stats::cor(x, y, use, method):\n",
      "“the standard deviation is zero”\n",
      "Warning message in stats::cor(x, y, use, method):\n",
      "“the standard deviation is zero”\n",
      "Warning message in stats::cor(x, y, use, method):\n",
      "“the standard deviation is zero”\n",
      "Warning message in stats::cor(x, y, use, method):\n",
      "“the standard deviation is zero”\n",
      "Warning message in stats::cor(x, y, use, method):\n",
      "“the standard deviation is zero”\n",
      "Warning message in stats::cor(x, y, use, method):\n",
      "“the standard deviation is zero”\n",
      "Warning message in stats::cor(x, y, use, method):\n",
      "“the standard deviation is zero”\n",
      "Warning message in stats::cor(x, y, use, method):\n",
      "“the standard deviation is zero”\n",
      "Warning message in stats::cor(x, y, use, method):\n",
      "“the standard deviation is zero”\n",
      "Warning message in stats::cor(x, y, use, method):\n",
      "“the standard deviation is zero”\n",
      "Warning message in stats::cor(x, y, use, method):\n",
      "“the standard deviation is zero”\n",
      "Warning message in stats::cor(x, y, use, method):\n",
      "“the standard deviation is zero”\n",
      "Warning message in stats::cor(x, y, use, method):\n",
      "“the standard deviation is zero”\n",
      "Warning message in stats::cor(x, y, use, method):\n",
      "“the standard deviation is zero”\n",
      "Warning message in stats::cor(x, y, use, method):\n",
      "“the standard deviation is zero”\n",
      "Warning message in stats::cor(x, y, use, method):\n",
      "“the standard deviation is zero”\n",
      "Warning message in stats::cor(x, y, use, method):\n",
      "“the standard deviation is zero”\n",
      "Warning message in stats::cor(x, y, use, method):\n",
      "“the standard deviation is zero”\n",
      "Warning message in stats::cor(x, y, use, method):\n",
      "“the standard deviation is zero”\n",
      "Warning message in stats::cor(x, y, use, method):\n",
      "“the standard deviation is zero”\n",
      "Warning message in stats::cor(x, y, use, method):\n",
      "“the standard deviation is zero”\n",
      "Warning message in stats::cor(x, y, use, method):\n",
      "“the standard deviation is zero”\n",
      "Warning message in stats::cor(x, y, use, method):\n",
      "“the standard deviation is zero”\n",
      "Warning message in stats::cor(x, y, use, method):\n",
      "“the standard deviation is zero”\n",
      "Warning message in stats::cor(x, y, use, method):\n",
      "“the standard deviation is zero”\n",
      "Warning message in stats::cor(x, y, use, method):\n",
      "“the standard deviation is zero”\n",
      "Warning message in stats::cor(x, y, use, method):\n",
      "“the standard deviation is zero”\n",
      "Warning message in stats::cor(x, y, use, method):\n",
      "“the standard deviation is zero”\n",
      "Warning message in stats::cor(x, y, use, method):\n",
      "“the standard deviation is zero”\n",
      "Warning message in stats::cor(x, y, use, method):\n",
      "“the standard deviation is zero”\n",
      "Warning message in stats::cor(x, y, use, method):\n",
      "“the standard deviation is zero”\n",
      "Warning message in stats::cor(x, y, use, method):\n",
      "“the standard deviation is zero”\n",
      "Warning message in stats::cor(x, y, use, method):\n",
      "“the standard deviation is zero”\n",
      "Warning message in stats::cor(x, y, use, method):\n",
      "“the standard deviation is zero”\n",
      "Warning message in stats::cor(x, y, use, method):\n",
      "“the standard deviation is zero”\n",
      "Warning message in stats::cor(x, y, use, method):\n",
      "“the standard deviation is zero”\n",
      "Warning message in stats::cor(x, y, use, method):\n",
      "“the standard deviation is zero”\n",
      "Warning message in stats::cor(x, y, use, method):\n",
      "“the standard deviation is zero”\n",
      "Warning message in stats::cor(x, y, use, method):\n",
      "“the standard deviation is zero”\n",
      "Warning message in stats::cor(x, y, use, method):\n",
      "“the standard deviation is zero”\n",
      "Warning message in stats::cor(x, y, use, method):\n",
      "“the standard deviation is zero”\n",
      "Warning message in stats::cor(x, y, use, method):\n",
      "“the standard deviation is zero”\n",
      "Warning message in stats::cor(x, y, use, method):\n",
      "“the standard deviation is zero”\n",
      "Warning message in stats::cor(x, y, use, method):\n",
      "“the standard deviation is zero”\n",
      "Warning message in stats::cor(x, y, use, method):\n",
      "“the standard deviation is zero”\n",
      "Warning message in stats::cor(x, y, use, method):\n",
      "“the standard deviation is zero”\n",
      "Warning message in stats::cor(x, y, use, method):\n",
      "“the standard deviation is zero”\n",
      "Warning message in stats::cor(x, y, use, method):\n",
      "“the standard deviation is zero”\n",
      "Warning message in stats::cor(x, y, use, method):\n",
      "“the standard deviation is zero”\n",
      "Warning message in stats::cor(x, y, use, method):\n",
      "“the standard deviation is zero”\n",
      "Warning message in stats::cor(x, y, use, method):\n",
      "“the standard deviation is zero”\n",
      "Warning message in stats::cor(x, y, use, method):\n",
      "“the standard deviation is zero”\n",
      "Warning message in stats::cor(x, y, use, method):\n",
      "“the standard deviation is zero”\n",
      "Warning message in stats::cor(x, y, use, method):\n",
      "“the standard deviation is zero”\n",
      "Warning message in stats::cor(x, y, use, method):\n",
      "“the standard deviation is zero”\n",
      "Warning message in stats::cor(x, y, use, method):\n",
      "“the standard deviation is zero”\n",
      "Warning message in stats::cor(x, y, use, method):\n",
      "“the standard deviation is zero”\n",
      "Warning message in stats::cor(x, y, use, method):\n",
      "“the standard deviation is zero”\n",
      "Warning message in stats::cor(x, y, use, method):\n",
      "“the standard deviation is zero”\n",
      "Warning message in stats::cor(x, y, use, method):\n",
      "“the standard deviation is zero”\n",
      "Warning message in stats::cor(x, y, use, method):\n",
      "“the standard deviation is zero”\n",
      "Warning message in stats::cor(x, y, use, method):\n",
      "“the standard deviation is zero”\n",
      "Warning message in stats::cor(x, y, use, method):\n",
      "“the standard deviation is zero”\n",
      "Warning message in stats::cor(x, y, use, method):\n",
      "“the standard deviation is zero”\n",
      "Warning message in stats::cor(x, y, use, method):\n",
      "“the standard deviation is zero”\n",
      "Warning message in stats::cor(x, y, use, method):\n",
      "“the standard deviation is zero”\n",
      "Warning message in stats::cor(x, y, use, method):\n",
      "“the standard deviation is zero”\n",
      "Warning message in stats::cor(x, y, use, method):\n",
      "“the standard deviation is zero”\n",
      "Warning message in stats::cor(x, y, use, method):\n",
      "“the standard deviation is zero”\n",
      "Warning message in stats::cor(x, y, use, method):\n",
      "“the standard deviation is zero”\n",
      "Warning message in stats::cor(x, y, use, method):\n",
      "“the standard deviation is zero”\n",
      "Warning message in stats::cor(x, y, use, method):\n",
      "“the standard deviation is zero”\n",
      "Warning message in stats::cor(x, y, use, method):\n",
      "“the standard deviation is zero”\n",
      "Warning message in stats::cor(x, y, use, method):\n",
      "“the standard deviation is zero”\n",
      "Warning message in stats::cor(x, y, use, method):\n",
      "“the standard deviation is zero”\n",
      "Warning message in stats::cor(x, y, use, method):\n",
      "“the standard deviation is zero”\n",
      "Warning message in stats::cor(x, y, use, method):\n",
      "“the standard deviation is zero”\n",
      "Warning message in stats::cor(x, y, use, method):\n",
      "“the standard deviation is zero”\n",
      "Warning message in stats::cor(x, y, use, method):\n",
      "“the standard deviation is zero”\n",
      "Warning message in stats::cor(x, y, use, method):\n",
      "“the standard deviation is zero”\n",
      "Warning message in stats::cor(x, y, use, method):\n",
      "“the standard deviation is zero”\n",
      "Warning message in stats::cor(x, y, use, method):\n",
      "“the standard deviation is zero”\n",
      "Warning message in stats::cor(x, y, use, method):\n",
      "“the standard deviation is zero”\n",
      "Warning message in stats::cor(x, y, use, method):\n",
      "“the standard deviation is zero”\n",
      "Warning message in stats::cor(x, y, use, method):\n",
      "“the standard deviation is zero”\n",
      "Warning message in stats::cor(x, y, use, method):\n",
      "“the standard deviation is zero”\n",
      "Warning message in stats::cor(x, y, use, method):\n",
      "“the standard deviation is zero”\n",
      "Warning message in stats::cor(x, y, use, method):\n",
      "“the standard deviation is zero”\n",
      "Warning message in stats::cor(x, y, use, method):\n",
      "“the standard deviation is zero”\n",
      "Warning message in stats::cor(x, y, use, method):\n",
      "“the standard deviation is zero”\n",
      "Warning message in stats::cor(x, y, use, method):\n",
      "“the standard deviation is zero”\n",
      "Warning message in stats::cor(x, y, use, method):\n",
      "“the standard deviation is zero”\n",
      "Warning message in stats::cor(x, y, use, method):\n",
      "“the standard deviation is zero”\n",
      "Warning message in stats::cor(x, y, use, method):\n",
      "“the standard deviation is zero”\n",
      "Warning message in stats::cor(x, y, use, method):\n",
      "“the standard deviation is zero”\n",
      "Warning message in stats::cor(x, y, use, method):\n",
      "“the standard deviation is zero”\n",
      "Warning message in stats::cor(x, y, use, method):\n",
      "“the standard deviation is zero”\n",
      "Warning message in stats::cor(x, y, use, method):\n",
      "“the standard deviation is zero”\n",
      "Warning message in stats::cor(x, y, use, method):\n",
      "“the standard deviation is zero”\n",
      "Warning message in stats::cor(x, y, use, method):\n",
      "“the standard deviation is zero”\n",
      "Warning message in stats::cor(x, y, use, method):\n",
      "“the standard deviation is zero”\n",
      "Warning message in stats::cor(x, y, use, method):\n",
      "“the standard deviation is zero”\n",
      "Warning message in stats::cor(x, y, use, method):\n",
      "“the standard deviation is zero”\n",
      "Warning message in stats::cor(x, y, use, method):\n",
      "“the standard deviation is zero”\n",
      "Warning message in stats::cor(x, y, use, method):\n",
      "“the standard deviation is zero”\n",
      "Warning message in stats::cor(x, y, use, method):\n",
      "“the standard deviation is zero”\n",
      "Warning message in stats::cor(x, y, use, method):\n",
      "“the standard deviation is zero”\n",
      "Warning message in stats::cor(x, y, use, method):\n",
      "“the standard deviation is zero”\n",
      "Warning message in stats::cor(x, y, use, method):\n",
      "“the standard deviation is zero”\n",
      "Warning message in stats::cor(x, y, use, method):\n",
      "“the standard deviation is zero”\n",
      "Warning message in stats::cor(x, y, use, method):\n",
      "“the standard deviation is zero”\n",
      "Warning message in stats::cor(x, y, use, method):\n",
      "“the standard deviation is zero”\n",
      "Warning message in stats::cor(x, y, use, method):\n",
      "“the standard deviation is zero”\n",
      "Warning message in stats::cor(x, y, use, method):\n",
      "“the standard deviation is zero”\n",
      "Warning message in stats::cor(x, y, use, method):\n",
      "“the standard deviation is zero”\n",
      "Warning message in stats::cor(x, y, use, method):\n",
      "“the standard deviation is zero”\n",
      "Warning message in stats::cor(x, y, use, method):\n",
      "“the standard deviation is zero”\n",
      "Warning message in stats::cor(x, y, use, method):\n",
      "“the standard deviation is zero”\n",
      "Warning message in stats::cor(x, y, use, method):\n",
      "“the standard deviation is zero”\n",
      "Warning message in stats::cor(x, y, use, method):\n",
      "“the standard deviation is zero”\n",
      "Warning message in stats::cor(x, y, use, method):\n",
      "“the standard deviation is zero”\n",
      "Warning message in stats::cor(x, y, use, method):\n",
      "“the standard deviation is zero”\n",
      "Warning message in stats::cor(x, y, use, method):\n",
      "“the standard deviation is zero”\n",
      "Warning message in stats::cor(x, y, use, method):\n",
      "“the standard deviation is zero”\n",
      "Warning message in stats::cor(x, y, use, method):\n",
      "“the standard deviation is zero”\n",
      "Warning message in stats::cor(x, y, use, method):\n",
      "“the standard deviation is zero”\n",
      "Warning message in stats::cor(x, y, use, method):\n",
      "“the standard deviation is zero”\n",
      "Warning message in stats::cor(x, y, use, method):\n",
      "“the standard deviation is zero”\n",
      "Warning message in stats::cor(x, y, use, method):\n",
      "“the standard deviation is zero”\n",
      "Warning message in stats::cor(x, y, use, method):\n",
      "“the standard deviation is zero”\n",
      "Warning message in stats::cor(x, y, use, method):\n",
      "“the standard deviation is zero”\n",
      "Warning message in stats::cor(x, y, use, method):\n",
      "“the standard deviation is zero”\n",
      "Warning message in stats::cor(x, y, use, method):\n",
      "“the standard deviation is zero”\n",
      "Warning message in stats::cor(x, y, use, method):\n",
      "“the standard deviation is zero”\n",
      "Warning message in stats::cor(x, y, use, method):\n",
      "“the standard deviation is zero”\n",
      "Warning message in stats::cor(x, y, use, method):\n",
      "“the standard deviation is zero”\n",
      "Warning message in stats::cor(x, y, use, method):\n",
      "“the standard deviation is zero”\n",
      "Warning message in stats::cor(x, y, use, method):\n",
      "“the standard deviation is zero”\n",
      "Warning message in stats::cor(x, y, use, method):\n",
      "“the standard deviation is zero”\n",
      "Warning message in stats::cor(x, y, use, method):\n",
      "“the standard deviation is zero”\n",
      "Warning message in stats::cor(x, y, use, method):\n",
      "“the standard deviation is zero”\n",
      "Warning message in stats::cor(x, y, use, method):\n",
      "“the standard deviation is zero”\n",
      "Warning message in stats::cor(x, y, use, method):\n",
      "“the standard deviation is zero”\n",
      "Warning message in stats::cor(x, y, use, method):\n",
      "“the standard deviation is zero”\n",
      "Warning message in stats::cor(x, y, use, method):\n",
      "“the standard deviation is zero”\n",
      "Warning message in stats::cor(x, y, use, method):\n",
      "“the standard deviation is zero”\n",
      "Warning message in stats::cor(x, y, use, method):\n",
      "“the standard deviation is zero”\n",
      "Warning message in stats::cor(x, y, use, method):\n",
      "“the standard deviation is zero”\n",
      "Warning message in stats::cor(x, y, use, method):\n",
      "“the standard deviation is zero”\n",
      "Warning message in stats::cor(x, y, use, method):\n",
      "“the standard deviation is zero”\n",
      "Warning message in stats::cor(x, y, use, method):\n",
      "“the standard deviation is zero”\n",
      "Warning message in stats::cor(x, y, use, method):\n",
      "“the standard deviation is zero”\n",
      "Warning message in stats::cor(x, y, use, method):\n",
      "“the standard deviation is zero”\n",
      "Warning message in stats::cor(x, y, use, method):\n",
      "“the standard deviation is zero”\n",
      "Warning message in stats::cor(x, y, use, method):\n",
      "“the standard deviation is zero”\n",
      "Warning message in stats::cor(x, y, use, method):\n",
      "“the standard deviation is zero”\n",
      "Warning message in stats::cor(x, y, use, method):\n",
      "“the standard deviation is zero”\n",
      "Warning message in stats::cor(x, y, use, method):\n",
      "“the standard deviation is zero”\n",
      "Warning message in stats::cor(x, y, use, method):\n",
      "“the standard deviation is zero”\n",
      "Warning message in stats::cor(x, y, use, method):\n",
      "“the standard deviation is zero”\n",
      "Warning message in stats::cor(x, y, use, method):\n",
      "“the standard deviation is zero”\n",
      "Warning message in stats::cor(x, y, use, method):\n",
      "“the standard deviation is zero”\n",
      "Warning message in stats::cor(x, y, use, method):\n",
      "“the standard deviation is zero”\n",
      "Warning message in stats::cor(x, y, use, method):\n",
      "“the standard deviation is zero”\n",
      "Warning message in stats::cor(x, y, use, method):\n",
      "“the standard deviation is zero”\n",
      "Warning message in stats::cor(x, y, use, method):\n",
      "“the standard deviation is zero”\n",
      "Warning message in stats::cor(x, y, use, method):\n",
      "“the standard deviation is zero”\n",
      "Warning message in stats::cor(x, y, use, method):\n",
      "“the standard deviation is zero”\n",
      "Warning message in stats::cor(x, y, use, method):\n",
      "“the standard deviation is zero”\n",
      "Warning message in stats::cor(x, y, use, method):\n",
      "“the standard deviation is zero”\n",
      "Warning message in stats::cor(x, y, use, method):\n",
      "“the standard deviation is zero”\n",
      "Warning message in stats::cor(x, y, use, method):\n",
      "“the standard deviation is zero”\n",
      "Warning message in stats::cor(x, y, use, method):\n",
      "“the standard deviation is zero”\n",
      "Warning message in stats::cor(x, y, use, method):\n",
      "“the standard deviation is zero”\n",
      "Warning message in stats::cor(x, y, use, method):\n",
      "“the standard deviation is zero”\n",
      "Warning message in stats::cor(x, y, use, method):\n",
      "“the standard deviation is zero”\n",
      "Warning message in stats::cor(x, y, use, method):\n",
      "“the standard deviation is zero”\n",
      "Warning message in stats::cor(x, y, use, method):\n",
      "“the standard deviation is zero”\n",
      "Warning message in stats::cor(x, y, use, method):\n",
      "“the standard deviation is zero”\n",
      "Warning message in stats::cor(x, y, use, method):\n",
      "“the standard deviation is zero”\n",
      "Warning message in stats::cor(x, y, use, method):\n",
      "“the standard deviation is zero”\n",
      "Warning message in stats::cor(x, y, use, method):\n",
      "“the standard deviation is zero”\n",
      "Warning message in stats::cor(x, y, use, method):\n",
      "“the standard deviation is zero”\n",
      "Warning message in stats::cor(x, y, use, method):\n",
      "“the standard deviation is zero”\n",
      "Warning message in stats::cor(x, y, use, method):\n",
      "“the standard deviation is zero”\n",
      "Warning message in stats::cor(x, y, use, method):\n",
      "“the standard deviation is zero”\n",
      "Warning message in stats::cor(x, y, use, method):\n",
      "“the standard deviation is zero”\n",
      "Warning message in stats::cor(x, y, use, method):\n",
      "“the standard deviation is zero”\n",
      "Warning message in stats::cor(x, y, use, method):\n",
      "“the standard deviation is zero”\n",
      "Warning message in stats::cor(x, y, use, method):\n",
      "“the standard deviation is zero”\n",
      "Warning message in stats::cor(x, y, use, method):\n",
      "“the standard deviation is zero”\n",
      "Warning message in stats::cor(x, y, use, method):\n",
      "“the standard deviation is zero”\n",
      "Warning message in stats::cor(x, y, use, method):\n",
      "“the standard deviation is zero”\n",
      "Warning message in stats::cor(x, y, use, method):\n",
      "“the standard deviation is zero”\n",
      "Warning message in stats::cor(x, y, use, method):\n",
      "“the standard deviation is zero”\n",
      "Warning message in stats::cor(x, y, use, method):\n",
      "“the standard deviation is zero”\n",
      "Warning message in stats::cor(x, y, use, method):\n",
      "“the standard deviation is zero”\n",
      "Warning message in stats::cor(x, y, use, method):\n",
      "“the standard deviation is zero”\n",
      "Warning message in stats::cor(x, y, use, method):\n",
      "“the standard deviation is zero”\n",
      "Warning message in stats::cor(x, y, use, method):\n",
      "“the standard deviation is zero”\n",
      "Warning message in stats::cor(x, y, use, method):\n",
      "“the standard deviation is zero”\n",
      "Warning message in stats::cor(x, y, use, method):\n",
      "“the standard deviation is zero”\n",
      "Warning message in stats::cor(x, y, use, method):\n",
      "“the standard deviation is zero”\n",
      "Warning message in stats::cor(x, y, use, method):\n",
      "“the standard deviation is zero”\n",
      "Warning message in stats::cor(x, y, use, method):\n",
      "“the standard deviation is zero”\n",
      "Warning message in stats::cor(x, y, use, method):\n",
      "“the standard deviation is zero”\n",
      "Warning message in stats::cor(x, y, use, method):\n",
      "“the standard deviation is zero”\n",
      "Warning message in stats::cor(x, y, use, method):\n",
      "“the standard deviation is zero”\n",
      "Warning message in stats::cor(x, y, use, method):\n",
      "“the standard deviation is zero”\n",
      "Warning message in stats::cor(x, y, use, method):\n",
      "“the standard deviation is zero”\n",
      "Warning message in stats::cor(x, y, use, method):\n",
      "“the standard deviation is zero”\n",
      "Warning message in stats::cor(x, y, use, method):\n",
      "“the standard deviation is zero”\n",
      "Warning message in stats::cor(x, y, use, method):\n",
      "“the standard deviation is zero”\n",
      "Warning message in stats::cor(x, y, use, method):\n",
      "“the standard deviation is zero”\n",
      "Warning message in stats::cor(x, y, use, method):\n",
      "“the standard deviation is zero”\n",
      "Warning message in stats::cor(x, y, use, method):\n",
      "“the standard deviation is zero”\n",
      "Warning message in stats::cor(x, y, use, method):\n",
      "“the standard deviation is zero”\n",
      "Warning message in stats::cor(x, y, use, method):\n",
      "“the standard deviation is zero”\n",
      "Warning message in stats::cor(x, y, use, method):\n",
      "“the standard deviation is zero”\n",
      "Warning message in stats::cor(x, y, use, method):\n",
      "“the standard deviation is zero”\n",
      "Warning message in stats::cor(x, y, use, method):\n",
      "“the standard deviation is zero”\n",
      "Warning message in stats::cor(x, y, use, method):\n",
      "“the standard deviation is zero”\n",
      "Warning message in stats::cor(x, y, use, method):\n",
      "“the standard deviation is zero”\n",
      "Warning message in stats::cor(x, y, use, method):\n",
      "“the standard deviation is zero”\n",
      "Warning message in stats::cor(x, y, use, method):\n",
      "“the standard deviation is zero”\n",
      "Warning message in stats::cor(x, y, use, method):\n",
      "“the standard deviation is zero”\n",
      "Warning message in stats::cor(x, y, use, method):\n",
      "“the standard deviation is zero”\n",
      "Warning message in stats::cor(x, y, use, method):\n",
      "“the standard deviation is zero”\n",
      "Warning message in stats::cor(x, y, use, method):\n",
      "“the standard deviation is zero”\n",
      "Warning message in stats::cor(x, y, use, method):\n",
      "“the standard deviation is zero”\n",
      "Warning message in stats::cor(x, y, use, method):\n",
      "“the standard deviation is zero”\n",
      "Warning message in stats::cor(x, y, use, method):\n",
      "“the standard deviation is zero”\n",
      "Warning message in stats::cor(x, y, use, method):\n",
      "“the standard deviation is zero”\n",
      "Warning message in stats::cor(x, y, use, method):\n",
      "“the standard deviation is zero”\n",
      "Warning message in stats::cor(x, y, use, method):\n",
      "“the standard deviation is zero”\n",
      "Warning message in stats::cor(x, y, use, method):\n",
      "“the standard deviation is zero”\n",
      "Warning message in stats::cor(x, y, use, method):\n",
      "“the standard deviation is zero”\n",
      "Warning message in stats::cor(x, y, use, method):\n",
      "“the standard deviation is zero”\n",
      "Warning message in stats::cor(x, y, use, method):\n",
      "“the standard deviation is zero”\n",
      "Warning message in stats::cor(x, y, use, method):\n",
      "“the standard deviation is zero”\n",
      "Warning message in stats::cor(x, y, use, method):\n",
      "“the standard deviation is zero”\n",
      "Warning message in stats::cor(x, y, use, method):\n",
      "“the standard deviation is zero”\n",
      "Warning message in stats::cor(x, y, use, method):\n",
      "“the standard deviation is zero”\n",
      "Warning message in stats::cor(x, y, use, method):\n",
      "“the standard deviation is zero”\n",
      "Warning message in stats::cor(x, y, use, method):\n",
      "“the standard deviation is zero”\n",
      "Warning message in stats::cor(x, y, use, method):\n",
      "“the standard deviation is zero”\n",
      "Warning message in stats::cor(x, y, use, method):\n",
      "“the standard deviation is zero”\n",
      "Warning message in stats::cor(x, y, use, method):\n",
      "“the standard deviation is zero”\n",
      "Warning message in stats::cor(x, y, use, method):\n",
      "“the standard deviation is zero”\n",
      "Warning message in stats::cor(x, y, use, method):\n",
      "“the standard deviation is zero”\n",
      "Warning message in stats::cor(x, y, use, method):\n",
      "“the standard deviation is zero”\n",
      "Warning message in stats::cor(x, y, use, method):\n",
      "“the standard deviation is zero”\n",
      "Warning message in stats::cor(x, y, use, method):\n",
      "“the standard deviation is zero”\n",
      "Warning message in stats::cor(x, y, use, method):\n",
      "“the standard deviation is zero”\n",
      "Warning message in stats::cor(x, y, use, method):\n",
      "“the standard deviation is zero”\n",
      "Warning message in stats::cor(x, y, use, method):\n",
      "“the standard deviation is zero”\n",
      "Warning message in stats::cor(x, y, use, method):\n",
      "“the standard deviation is zero”\n",
      "Warning message in stats::cor(x, y, use, method):\n",
      "“the standard deviation is zero”\n",
      "Warning message in stats::cor(x, y, use, method):\n",
      "“the standard deviation is zero”\n",
      "Warning message in stats::cor(x, y, use, method):\n",
      "“the standard deviation is zero”\n",
      "Warning message in stats::cor(x, y, use, method):\n",
      "“the standard deviation is zero”\n",
      "Warning message in stats::cor(x, y, use, method):\n",
      "“the standard deviation is zero”\n",
      "Warning message in stats::cor(x, y, use, method):\n",
      "“the standard deviation is zero”\n",
      "Warning message in stats::cor(x, y, use, method):\n",
      "“the standard deviation is zero”\n",
      "Warning message in stats::cor(x, y, use, method):\n",
      "“the standard deviation is zero”\n",
      "Warning message in stats::cor(x, y, use, method):\n",
      "“the standard deviation is zero”\n",
      "Warning message in stats::cor(x, y, use, method):\n",
      "“the standard deviation is zero”\n",
      "Warning message in stats::cor(x, y, use, method):\n",
      "“the standard deviation is zero”\n",
      "Warning message in stats::cor(x, y, use, method):\n",
      "“the standard deviation is zero”\n",
      "Warning message in stats::cor(x, y, use, method):\n",
      "“the standard deviation is zero”\n",
      "Warning message in stats::cor(x, y, use, method):\n",
      "“the standard deviation is zero”\n",
      "Warning message in stats::cor(x, y, use, method):\n",
      "“the standard deviation is zero”\n",
      "Warning message in stats::cor(x, y, use, method):\n",
      "“the standard deviation is zero”\n",
      "Warning message in stats::cor(x, y, use, method):\n",
      "“the standard deviation is zero”\n",
      "Warning message in stats::cor(x, y, use, method):\n",
      "“the standard deviation is zero”\n",
      "Warning message in stats::cor(x, y, use, method):\n",
      "“the standard deviation is zero”\n",
      "Warning message in stats::cor(x, y, use, method):\n",
      "“the standard deviation is zero”\n",
      "Warning message in stats::cor(x, y, use, method):\n",
      "“the standard deviation is zero”\n",
      "Warning message in stats::cor(x, y, use, method):\n",
      "“the standard deviation is zero”\n",
      "Warning message in stats::cor(x, y, use, method):\n",
      "“the standard deviation is zero”\n",
      "Warning message in stats::cor(x, y, use, method):\n",
      "“the standard deviation is zero”\n",
      "Warning message in stats::cor(x, y, use, method):\n",
      "“the standard deviation is zero”\n",
      "Warning message in stats::cor(x, y, use, method):\n",
      "“the standard deviation is zero”\n",
      "Warning message in stats::cor(x, y, use, method):\n",
      "“the standard deviation is zero”\n",
      "Warning message in stats::cor(x, y, use, method):\n",
      "“the standard deviation is zero”\n",
      "Warning message in stats::cor(x, y, use, method):\n",
      "“the standard deviation is zero”\n",
      "Warning message in stats::cor(x, y, use, method):\n",
      "“the standard deviation is zero”\n",
      "Warning message in stats::cor(x, y, use, method):\n",
      "“the standard deviation is zero”\n",
      "Warning message in stats::cor(x, y, use, method):\n",
      "“the standard deviation is zero”\n",
      "Warning message in stats::cor(x, y, use, method):\n",
      "“the standard deviation is zero”\n",
      "Warning message in stats::cor(x, y, use, method):\n",
      "“the standard deviation is zero”\n",
      "Warning message in stats::cor(x, y, use, method):\n",
      "“the standard deviation is zero”\n",
      "Warning message in stats::cor(x, y, use, method):\n",
      "“the standard deviation is zero”\n",
      "Warning message in stats::cor(x, y, use, method):\n",
      "“the standard deviation is zero”\n",
      "Warning message in stats::cor(x, y, use, method):\n",
      "“the standard deviation is zero”\n",
      "Warning message in stats::cor(x, y, use, method):\n",
      "“the standard deviation is zero”\n",
      "Warning message in stats::cor(x, y, use, method):\n",
      "“the standard deviation is zero”\n",
      "Warning message in stats::cor(x, y, use, method):\n",
      "“the standard deviation is zero”\n",
      "Warning message in stats::cor(x, y, use, method):\n",
      "“the standard deviation is zero”\n",
      "Warning message in stats::cor(x, y, use, method):\n",
      "“the standard deviation is zero”\n",
      "Warning message in stats::cor(x, y, use, method):\n",
      "“the standard deviation is zero”\n",
      "Warning message in stats::cor(x, y, use, method):\n",
      "“the standard deviation is zero”\n",
      "Warning message in stats::cor(x, y, use, method):\n",
      "“the standard deviation is zero”\n",
      "Warning message in stats::cor(x, y, use, method):\n",
      "“the standard deviation is zero”\n",
      "Warning message in stats::cor(x, y, use, method):\n",
      "“the standard deviation is zero”\n",
      "Warning message in stats::cor(x, y, use, method):\n",
      "“the standard deviation is zero”\n",
      "Warning message in stats::cor(x, y, use, method):\n",
      "“the standard deviation is zero”\n",
      "Warning message in stats::cor(x, y, use, method):\n",
      "“the standard deviation is zero”\n",
      "Warning message in stats::cor(x, y, use, method):\n",
      "“the standard deviation is zero”\n",
      "Warning message in stats::cor(x, y, use, method):\n",
      "“the standard deviation is zero”\n",
      "Warning message in stats::cor(x, y, use, method):\n",
      "“the standard deviation is zero”\n",
      "Warning message in stats::cor(x, y, use, method):\n",
      "“the standard deviation is zero”\n",
      "Warning message in stats::cor(x, y, use, method):\n",
      "“the standard deviation is zero”\n",
      "Warning message in stats::cor(x, y, use, method):\n",
      "“the standard deviation is zero”\n",
      "Warning message in stats::cor(x, y, use, method):\n",
      "“the standard deviation is zero”\n",
      "Warning message in stats::cor(x, y, use, method):\n",
      "“the standard deviation is zero”\n",
      "Warning message in stats::cor(x, y, use, method):\n",
      "“the standard deviation is zero”\n",
      "Warning message in stats::cor(x, y, use, method):\n",
      "“the standard deviation is zero”\n",
      "Warning message in stats::cor(x, y, use, method):\n",
      "“the standard deviation is zero”\n",
      "Warning message in stats::cor(x, y, use, method):\n",
      "“the standard deviation is zero”\n",
      "Warning message in stats::cor(x, y, use, method):\n",
      "“the standard deviation is zero”\n",
      "Warning message in stats::cor(x, y, use, method):\n",
      "“the standard deviation is zero”\n",
      "Warning message in stats::cor(x, y, use, method):\n",
      "“the standard deviation is zero”\n",
      "Warning message in stats::cor(x, y, use, method):\n",
      "“the standard deviation is zero”\n",
      "Warning message in stats::cor(x, y, use, method):\n",
      "“the standard deviation is zero”\n",
      "Warning message in stats::cor(x, y, use, method):\n",
      "“the standard deviation is zero”\n",
      "Warning message in stats::cor(x, y, use, method):\n",
      "“the standard deviation is zero”\n",
      "Warning message in stats::cor(x, y, use, method):\n",
      "“the standard deviation is zero”\n",
      "Warning message in stats::cor(x, y, use, method):\n",
      "“the standard deviation is zero”\n",
      "Warning message in stats::cor(x, y, use, method):\n",
      "“the standard deviation is zero”\n",
      "Warning message in stats::cor(x, y, use, method):\n",
      "“the standard deviation is zero”\n",
      "Warning message in stats::cor(x, y, use, method):\n",
      "“the standard deviation is zero”\n",
      "Warning message in stats::cor(x, y, use, method):\n",
      "“the standard deviation is zero”\n",
      "Warning message in stats::cor(x, y, use, method):\n",
      "“the standard deviation is zero”\n",
      "Warning message in stats::cor(x, y, use, method):\n",
      "“the standard deviation is zero”\n",
      "Warning message in stats::cor(x, y, use, method):\n",
      "“the standard deviation is zero”\n",
      "Warning message in stats::cor(x, y, use, method):\n",
      "“the standard deviation is zero”\n",
      "Warning message in stats::cor(x, y, use, method):\n",
      "“the standard deviation is zero”\n",
      "Warning message in stats::cor(x, y, use, method):\n",
      "“the standard deviation is zero”\n",
      "Warning message in stats::cor(x, y, use, method):\n",
      "“the standard deviation is zero”\n",
      "Warning message in stats::cor(x, y, use, method):\n",
      "“the standard deviation is zero”\n",
      "Warning message in stats::cor(x, y, use, method):\n",
      "“the standard deviation is zero”\n",
      "Warning message in stats::cor(x, y, use, method):\n",
      "“the standard deviation is zero”\n",
      "Warning message in stats::cor(x, y, use, method):\n",
      "“the standard deviation is zero”\n",
      "Warning message in stats::cor(x, y, use, method):\n",
      "“the standard deviation is zero”\n",
      "Warning message in stats::cor(x, y, use, method):\n",
      "“the standard deviation is zero”\n",
      "Warning message in stats::cor(x, y, use, method):\n",
      "“the standard deviation is zero”\n",
      "Warning message in stats::cor(x, y, use, method):\n",
      "“the standard deviation is zero”\n",
      "Warning message in stats::cor(x, y, use, method):\n",
      "“the standard deviation is zero”\n",
      "Warning message in stats::cor(x, y, use, method):\n",
      "“the standard deviation is zero”\n",
      "Warning message in stats::cor(x, y, use, method):\n",
      "“the standard deviation is zero”\n",
      "Warning message in stats::cor(x, y, use, method):\n",
      "“the standard deviation is zero”\n",
      "Warning message in stats::cor(x, y, use, method):\n",
      "“the standard deviation is zero”\n",
      "Warning message in stats::cor(x, y, use, method):\n",
      "“the standard deviation is zero”\n",
      "Warning message in stats::cor(x, y, use, method):\n",
      "“the standard deviation is zero”\n",
      "Warning message in stats::cor(x, y, use, method):\n",
      "“the standard deviation is zero”\n",
      "Warning message in stats::cor(x, y, use, method):\n",
      "“the standard deviation is zero”\n",
      "Warning message in stats::cor(x, y, use, method):\n",
      "“the standard deviation is zero”\n",
      "Warning message in stats::cor(x, y, use, method):\n",
      "“the standard deviation is zero”\n",
      "Warning message in stats::cor(x, y, use, method):\n",
      "“the standard deviation is zero”\n",
      "Warning message in stats::cor(x, y, use, method):\n",
      "“the standard deviation is zero”\n",
      "Warning message in stats::cor(x, y, use, method):\n",
      "“the standard deviation is zero”\n",
      "Warning message in stats::cor(x, y, use, method):\n",
      "“the standard deviation is zero”\n",
      "Warning message in stats::cor(x, y, use, method):\n",
      "“the standard deviation is zero”\n",
      "Warning message in stats::cor(x, y, use, method):\n",
      "“the standard deviation is zero”\n",
      "Warning message in stats::cor(x, y, use, method):\n",
      "“the standard deviation is zero”\n",
      "Warning message in stats::cor(x, y, use, method):\n",
      "“the standard deviation is zero”\n",
      "Warning message in stats::cor(x, y, use, method):\n",
      "“the standard deviation is zero”\n",
      "Warning message in stats::cor(x, y, use, method):\n",
      "“the standard deviation is zero”\n",
      "Warning message in stats::cor(x, y, use, method):\n",
      "“the standard deviation is zero”\n",
      "Warning message in stats::cor(x, y, use, method):\n",
      "“the standard deviation is zero”\n",
      "Warning message in stats::cor(x, y, use, method):\n",
      "“the standard deviation is zero”\n",
      "Warning message in stats::cor(x, y, use, method):\n",
      "“the standard deviation is zero”\n",
      "Warning message in stats::cor(x, y, use, method):\n",
      "“the standard deviation is zero”\n",
      "Warning message in stats::cor(x, y, use, method):\n",
      "“the standard deviation is zero”\n",
      "Warning message in stats::cor(x, y, use, method):\n",
      "“the standard deviation is zero”\n",
      "Warning message in stats::cor(x, y, use, method):\n",
      "“the standard deviation is zero”\n",
      "Warning message in stats::cor(x, y, use, method):\n",
      "“the standard deviation is zero”\n",
      "Warning message in stats::cor(x, y, use, method):\n",
      "“the standard deviation is zero”\n",
      "Warning message in stats::cor(x, y, use, method):\n",
      "“the standard deviation is zero”\n",
      "Warning message in stats::cor(x, y, use, method):\n",
      "“the standard deviation is zero”\n",
      "Warning message in stats::cor(x, y, use, method):\n",
      "“the standard deviation is zero”\n",
      "Warning message in stats::cor(x, y, use, method):\n",
      "“the standard deviation is zero”\n",
      "Warning message in stats::cor(x, y, use, method):\n",
      "“the standard deviation is zero”\n",
      "Warning message in stats::cor(x, y, use, method):\n",
      "“the standard deviation is zero”\n",
      "Warning message in stats::cor(x, y, use, method):\n",
      "“the standard deviation is zero”\n",
      "Warning message in stats::cor(x, y, use, method):\n",
      "“the standard deviation is zero”\n",
      "Warning message in stats::cor(x, y, use, method):\n",
      "“the standard deviation is zero”\n",
      "Warning message in stats::cor(x, y, use, method):\n",
      "“the standard deviation is zero”\n",
      "Warning message in stats::cor(x, y, use, method):\n",
      "“the standard deviation is zero”\n",
      "Warning message in stats::cor(x, y, use, method):\n",
      "“the standard deviation is zero”\n",
      "Warning message in stats::cor(x, y, use, method):\n",
      "“the standard deviation is zero”\n",
      "Warning message in stats::cor(x, y, use, method):\n",
      "“the standard deviation is zero”\n",
      "Warning message in stats::cor(x, y, use, method):\n",
      "“the standard deviation is zero”\n",
      "Warning message in stats::cor(x, y, use, method):\n",
      "“the standard deviation is zero”\n",
      "Warning message in stats::cor(x, y, use, method):\n",
      "“the standard deviation is zero”\n",
      "Warning message in stats::cor(x, y, use, method):\n",
      "“the standard deviation is zero”\n",
      "Warning message in stats::cor(x, y, use, method):\n",
      "“the standard deviation is zero”\n",
      "Warning message in stats::cor(x, y, use, method):\n",
      "“the standard deviation is zero”\n",
      "Warning message in stats::cor(x, y, use, method):\n",
      "“the standard deviation is zero”\n",
      "Warning message in stats::cor(x, y, use, method):\n",
      "“the standard deviation is zero”\n",
      "Warning message in stats::cor(x, y, use, method):\n",
      "“the standard deviation is zero”\n",
      "Warning message in stats::cor(x, y, use, method):\n",
      "“the standard deviation is zero”\n",
      "Warning message in stats::cor(x, y, use, method):\n",
      "“the standard deviation is zero”\n",
      "Warning message in stats::cor(x, y, use, method):\n",
      "“the standard deviation is zero”\n",
      "Warning message in stats::cor(x, y, use, method):\n",
      "“the standard deviation is zero”\n",
      "Warning message in stats::cor(x, y, use, method):\n",
      "“the standard deviation is zero”\n",
      "Warning message in stats::cor(x, y, use, method):\n",
      "“the standard deviation is zero”\n",
      "Warning message in stats::cor(x, y, use, method):\n",
      "“the standard deviation is zero”\n",
      "Warning message in stats::cor(x, y, use, method):\n",
      "“the standard deviation is zero”\n",
      "Warning message in stats::cor(x, y, use, method):\n",
      "“the standard deviation is zero”\n",
      "Warning message in stats::cor(x, y, use, method):\n",
      "“the standard deviation is zero”\n",
      "Warning message in stats::cor(x, y, use, method):\n",
      "“the standard deviation is zero”\n",
      "Warning message in stats::cor(x, y, use, method):\n",
      "“the standard deviation is zero”\n",
      "Warning message in stats::cor(x, y, use, method):\n",
      "“the standard deviation is zero”\n",
      "Warning message in stats::cor(x, y, use, method):\n",
      "“the standard deviation is zero”\n",
      "Warning message in stats::cor(x, y, use, method):\n",
      "“the standard deviation is zero”\n",
      "Warning message in stats::cor(x, y, use, method):\n",
      "“the standard deviation is zero”\n",
      "Warning message in stats::cor(x, y, use, method):\n",
      "“the standard deviation is zero”\n",
      "Warning message in stats::cor(x, y, use, method):\n",
      "“the standard deviation is zero”\n",
      "Warning message in stats::cor(x, y, use, method):\n",
      "“the standard deviation is zero”\n",
      "Warning message in stats::cor(x, y, use, method):\n",
      "“the standard deviation is zero”\n",
      "Warning message in stats::cor(x, y, use, method):\n",
      "“the standard deviation is zero”\n",
      "Warning message in stats::cor(x, y, use, method):\n",
      "“the standard deviation is zero”\n",
      "Warning message in stats::cor(x, y, use, method):\n",
      "“the standard deviation is zero”\n",
      "Warning message in stats::cor(x, y, use, method):\n",
      "“the standard deviation is zero”\n",
      "Warning message in stats::cor(x, y, use, method):\n",
      "“the standard deviation is zero”\n",
      "Warning message in stats::cor(x, y, use, method):\n",
      "“the standard deviation is zero”\n",
      "Warning message in stats::cor(x, y, use, method):\n",
      "“the standard deviation is zero”\n",
      "Warning message in stats::cor(x, y, use, method):\n",
      "“the standard deviation is zero”\n",
      "Warning message in stats::cor(x, y, use, method):\n",
      "“the standard deviation is zero”\n",
      "Warning message in stats::cor(x, y, use, method):\n",
      "“the standard deviation is zero”\n",
      "Warning message in stats::cor(x, y, use, method):\n",
      "“the standard deviation is zero”\n",
      "Warning message in stats::cor(x, y, use, method):\n",
      "“the standard deviation is zero”\n",
      "Warning message in stats::cor(x, y, use, method):\n",
      "“the standard deviation is zero”\n",
      "Warning message in stats::cor(x, y, use, method):\n",
      "“the standard deviation is zero”\n",
      "Warning message in stats::cor(x, y, use, method):\n",
      "“the standard deviation is zero”\n",
      "Warning message in stats::cor(x, y, use, method):\n",
      "“the standard deviation is zero”\n",
      "Warning message in stats::cor(x, y, use, method):\n",
      "“the standard deviation is zero”\n",
      "Warning message in stats::cor(x, y, use, method):\n",
      "“the standard deviation is zero”\n",
      "Warning message in stats::cor(x, y, use, method):\n",
      "“the standard deviation is zero”\n",
      "Warning message in stats::cor(x, y, use, method):\n",
      "“the standard deviation is zero”\n",
      "Warning message in stats::cor(x, y, use, method):\n",
      "“the standard deviation is zero”\n",
      "Warning message in stats::cor(x, y, use, method):\n",
      "“the standard deviation is zero”\n",
      "Warning message in stats::cor(x, y, use, method):\n",
      "“the standard deviation is zero”\n",
      "Warning message in stats::cor(x, y, use, method):\n",
      "“the standard deviation is zero”\n",
      "Warning message in stats::cor(x, y, use, method):\n",
      "“the standard deviation is zero”\n",
      "Warning message in stats::cor(x, y, use, method):\n",
      "“the standard deviation is zero”\n",
      "Warning message in stats::cor(x, y, use, method):\n",
      "“the standard deviation is zero”\n",
      "Warning message in stats::cor(x, y, use, method):\n",
      "“the standard deviation is zero”\n",
      "Warning message in stats::cor(x, y, use, method):\n",
      "“the standard deviation is zero”\n",
      "Warning message in stats::cor(x, y, use, method):\n",
      "“the standard deviation is zero”\n",
      "Warning message in stats::cor(x, y, use, method):\n",
      "“the standard deviation is zero”\n",
      "Warning message in stats::cor(x, y, use, method):\n",
      "“the standard deviation is zero”\n",
      "Warning message in stats::cor(x, y, use, method):\n",
      "“the standard deviation is zero”\n",
      "Warning message in stats::cor(x, y, use, method):\n",
      "“the standard deviation is zero”\n",
      "Warning message in stats::cor(x, y, use, method):\n",
      "“the standard deviation is zero”\n",
      "Warning message in stats::cor(x, y, use, method):\n",
      "“the standard deviation is zero”\n",
      "Warning message in stats::cor(x, y, use, method):\n",
      "“the standard deviation is zero”\n",
      "Warning message in stats::cor(x, y, use, method):\n",
      "“the standard deviation is zero”\n",
      "Warning message in stats::cor(x, y, use, method):\n",
      "“the standard deviation is zero”\n",
      "Warning message in stats::cor(x, y, use, method):\n",
      "“the standard deviation is zero”\n",
      "Warning message in stats::cor(x, y, use, method):\n",
      "“the standard deviation is zero”\n",
      "Warning message in stats::cor(x, y, use, method):\n",
      "“the standard deviation is zero”\n",
      "Warning message in stats::cor(x, y, use, method):\n",
      "“the standard deviation is zero”\n",
      "Warning message in stats::cor(x, y, use, method):\n",
      "“the standard deviation is zero”\n",
      "Warning message in stats::cor(x, y, use, method):\n",
      "“the standard deviation is zero”\n",
      "Warning message in stats::cor(x, y, use, method):\n",
      "“the standard deviation is zero”\n",
      "Warning message in stats::cor(x, y, use, method):\n",
      "“the standard deviation is zero”\n",
      "Warning message in stats::cor(x, y, use, method):\n",
      "“the standard deviation is zero”\n",
      "Warning message in stats::cor(x, y, use, method):\n",
      "“the standard deviation is zero”\n",
      "Warning message in stats::cor(x, y, use, method):\n",
      "“the standard deviation is zero”\n",
      "Warning message in stats::cor(x, y, use, method):\n",
      "“the standard deviation is zero”\n",
      "Warning message in stats::cor(x, y, use, method):\n",
      "“the standard deviation is zero”\n",
      "Warning message in stats::cor(x, y, use, method):\n",
      "“the standard deviation is zero”\n",
      "Warning message in stats::cor(x, y, use, method):\n",
      "“the standard deviation is zero”\n",
      "Warning message in stats::cor(x, y, use, method):\n",
      "“the standard deviation is zero”\n",
      "Warning message in stats::cor(x, y, use, method):\n",
      "“the standard deviation is zero”\n",
      "Warning message in stats::cor(x, y, use, method):\n",
      "“the standard deviation is zero”\n",
      "Warning message in stats::cor(x, y, use, method):\n",
      "“the standard deviation is zero”\n",
      "Warning message in stats::cor(x, y, use, method):\n",
      "“the standard deviation is zero”\n",
      "Warning message in stats::cor(x, y, use, method):\n",
      "“the standard deviation is zero”\n",
      "Warning message in stats::cor(x, y, use, method):\n",
      "“the standard deviation is zero”\n",
      "Warning message in stats::cor(x, y, use, method):\n",
      "“the standard deviation is zero”\n",
      "Warning message in stats::cor(x, y, use, method):\n",
      "“the standard deviation is zero”\n",
      "Warning message in stats::cor(x, y, use, method):\n",
      "“the standard deviation is zero”\n",
      "Warning message in stats::cor(x, y, use, method):\n",
      "“the standard deviation is zero”\n",
      "Warning message in stats::cor(x, y, use, method):\n",
      "“the standard deviation is zero”\n",
      "Warning message in stats::cor(x, y, use, method):\n",
      "“the standard deviation is zero”\n",
      "Warning message in stats::cor(x, y, use, method):\n",
      "“the standard deviation is zero”\n",
      "Warning message in stats::cor(x, y, use, method):\n",
      "“the standard deviation is zero”\n",
      "Warning message in stats::cor(x, y, use, method):\n",
      "“the standard deviation is zero”\n",
      "Warning message in stats::cor(x, y, use, method):\n",
      "“the standard deviation is zero”\n",
      "Warning message in stats::cor(x, y, use, method):\n",
      "“the standard deviation is zero”\n",
      "Warning message in stats::cor(x, y, use, method):\n",
      "“the standard deviation is zero”\n",
      "Warning message in stats::cor(x, y, use, method):\n",
      "“the standard deviation is zero”\n",
      "Warning message in stats::cor(x, y, use, method):\n",
      "“the standard deviation is zero”\n",
      "Warning message in stats::cor(x, y, use, method):\n",
      "“the standard deviation is zero”\n",
      "Warning message in stats::cor(x, y, use, method):\n",
      "“the standard deviation is zero”\n",
      "Warning message in stats::cor(x, y, use, method):\n",
      "“the standard deviation is zero”\n",
      "Warning message in stats::cor(x, y, use, method):\n",
      "“the standard deviation is zero”\n",
      "Warning message in stats::cor(x, y, use, method):\n",
      "“the standard deviation is zero”\n",
      "Warning message in stats::cor(x, y, use, method):\n",
      "“the standard deviation is zero”\n",
      "Warning message in stats::cor(x, y, use, method):\n",
      "“the standard deviation is zero”\n",
      "Warning message in stats::cor(x, y, use, method):\n",
      "“the standard deviation is zero”\n",
      "Warning message in stats::cor(x, y, use, method):\n",
      "“the standard deviation is zero”\n",
      "Warning message in stats::cor(x, y, use, method):\n",
      "“the standard deviation is zero”\n",
      "Warning message in stats::cor(x, y, use, method):\n",
      "“the standard deviation is zero”\n",
      "Warning message in stats::cor(x, y, use, method):\n",
      "“the standard deviation is zero”\n",
      "Warning message in stats::cor(x, y, use, method):\n",
      "“the standard deviation is zero”\n",
      "Warning message in stats::cor(x, y, use, method):\n",
      "“the standard deviation is zero”\n",
      "Warning message in stats::cor(x, y, use, method):\n",
      "“the standard deviation is zero”\n",
      "Warning message in stats::cor(x, y, use, method):\n",
      "“the standard deviation is zero”\n",
      "Warning message in stats::cor(x, y, use, method):\n",
      "“the standard deviation is zero”\n",
      "Warning message in stats::cor(x, y, use, method):\n",
      "“the standard deviation is zero”\n",
      "Warning message in stats::cor(x, y, use, method):\n",
      "“the standard deviation is zero”\n",
      "Warning message in stats::cor(x, y, use, method):\n",
      "“the standard deviation is zero”\n",
      "Warning message in stats::cor(x, y, use, method):\n",
      "“the standard deviation is zero”\n",
      "Warning message in stats::cor(x, y, use, method):\n",
      "“the standard deviation is zero”\n",
      "Warning message in stats::cor(x, y, use, method):\n",
      "“the standard deviation is zero”\n",
      "Warning message in stats::cor(x, y, use, method):\n",
      "“the standard deviation is zero”\n",
      "Warning message in stats::cor(x, y, use, method):\n",
      "“the standard deviation is zero”\n",
      "Warning message in stats::cor(x, y, use, method):\n",
      "“the standard deviation is zero”\n",
      "Warning message in stats::cor(x, y, use, method):\n",
      "“the standard deviation is zero”\n",
      "Warning message in stats::cor(x, y, use, method):\n",
      "“the standard deviation is zero”\n",
      "Warning message in stats::cor(x, y, use, method):\n",
      "“the standard deviation is zero”\n",
      "Warning message in stats::cor(x, y, use, method):\n",
      "“the standard deviation is zero”\n",
      "Warning message in stats::cor(x, y, use, method):\n",
      "“the standard deviation is zero”\n",
      "Warning message in stats::cor(x, y, use, method):\n",
      "“the standard deviation is zero”\n",
      "Warning message in stats::cor(x, y, use, method):\n",
      "“the standard deviation is zero”\n",
      "Warning message in stats::cor(x, y, use, method):\n",
      "“the standard deviation is zero”\n",
      "Warning message in stats::cor(x, y, use, method):\n",
      "“the standard deviation is zero”\n",
      "Warning message in stats::cor(x, y, use, method):\n",
      "“the standard deviation is zero”\n",
      "Warning message in stats::cor(x, y, use, method):\n",
      "“the standard deviation is zero”\n",
      "Warning message in stats::cor(x, y, use, method):\n",
      "“the standard deviation is zero”\n",
      "Warning message in stats::cor(x, y, use, method):\n",
      "“the standard deviation is zero”\n",
      "Warning message in stats::cor(x, y, use, method):\n",
      "“the standard deviation is zero”\n",
      "Warning message in stats::cor(x, y, use, method):\n",
      "“the standard deviation is zero”\n",
      "Warning message in stats::cor(x, y, use, method):\n",
      "“the standard deviation is zero”\n",
      "Warning message in stats::cor(x, y, use, method):\n",
      "“the standard deviation is zero”\n",
      "Warning message in stats::cor(x, y, use, method):\n",
      "“the standard deviation is zero”\n",
      "Warning message in stats::cor(x, y, use, method):\n",
      "“the standard deviation is zero”\n",
      "Warning message in stats::cor(x, y, use, method):\n",
      "“the standard deviation is zero”\n",
      "Warning message in stats::cor(x, y, use, method):\n",
      "“the standard deviation is zero”\n",
      "Warning message in stats::cor(x, y, use, method):\n",
      "“the standard deviation is zero”\n",
      "Warning message in stats::cor(x, y, use, method):\n",
      "“the standard deviation is zero”\n",
      "Warning message in stats::cor(x, y, use, method):\n",
      "“the standard deviation is zero”\n",
      "Warning message in stats::cor(x, y, use, method):\n",
      "“the standard deviation is zero”\n",
      "Warning message in stats::cor(x, y, use, method):\n",
      "“the standard deviation is zero”\n",
      "Warning message in stats::cor(x, y, use, method):\n",
      "“the standard deviation is zero”\n",
      "Warning message in stats::cor(x, y, use, method):\n",
      "“the standard deviation is zero”\n",
      "Warning message in stats::cor(x, y, use, method):\n",
      "“the standard deviation is zero”\n",
      "Warning message in stats::cor(x, y, use, method):\n",
      "“the standard deviation is zero”\n",
      "Warning message in stats::cor(x, y, use, method):\n",
      "“the standard deviation is zero”\n",
      "Warning message in stats::cor(x, y, use, method):\n",
      "“the standard deviation is zero”\n",
      "Warning message in stats::cor(x, y, use, method):\n",
      "“the standard deviation is zero”\n",
      "Warning message in stats::cor(x, y, use, method):\n",
      "“the standard deviation is zero”\n",
      "Warning message in stats::cor(x, y, use, method):\n",
      "“the standard deviation is zero”\n",
      "Warning message in stats::cor(x, y, use, method):\n",
      "“the standard deviation is zero”\n",
      "Warning message in stats::cor(x, y, use, method):\n",
      "“the standard deviation is zero”\n",
      "Warning message in stats::cor(x, y, use, method):\n",
      "“the standard deviation is zero”\n",
      "Warning message in stats::cor(x, y, use, method):\n",
      "“the standard deviation is zero”\n",
      "Warning message in stats::cor(x, y, use, method):\n",
      "“the standard deviation is zero”\n",
      "Warning message in stats::cor(x, y, use, method):\n",
      "“the standard deviation is zero”\n",
      "Warning message in stats::cor(x, y, use, method):\n",
      "“the standard deviation is zero”\n",
      "Warning message in stats::cor(x, y, use, method):\n",
      "“the standard deviation is zero”\n",
      "Warning message in stats::cor(x, y, use, method):\n",
      "“the standard deviation is zero”\n",
      "Warning message in stats::cor(x, y, use, method):\n",
      "“the standard deviation is zero”\n",
      "Warning message in stats::cor(x, y, use, method):\n",
      "“the standard deviation is zero”\n",
      "Warning message in stats::cor(x, y, use, method):\n",
      "“the standard deviation is zero”\n",
      "Warning message in stats::cor(x, y, use, method):\n",
      "“the standard deviation is zero”\n",
      "Warning message in stats::cor(x, y, use, method):\n",
      "“the standard deviation is zero”\n",
      "Warning message in stats::cor(x, y, use, method):\n",
      "“the standard deviation is zero”\n",
      "Warning message in stats::cor(x, y, use, method):\n",
      "“the standard deviation is zero”\n",
      "Warning message in stats::cor(x, y, use, method):\n",
      "“the standard deviation is zero”\n",
      "Warning message in stats::cor(x, y, use, method):\n",
      "“the standard deviation is zero”\n",
      "Warning message in stats::cor(x, y, use, method):\n",
      "“the standard deviation is zero”\n",
      "Warning message in stats::cor(x, y, use, method):\n",
      "“the standard deviation is zero”\n",
      "Warning message in stats::cor(x, y, use, method):\n",
      "“the standard deviation is zero”\n",
      "Warning message in stats::cor(x, y, use, method):\n",
      "“the standard deviation is zero”\n",
      "Warning message in stats::cor(x, y, use, method):\n",
      "“the standard deviation is zero”\n",
      "Warning message in stats::cor(x, y, use, method):\n",
      "“the standard deviation is zero”\n",
      "Warning message in stats::cor(x, y, use, method):\n",
      "“the standard deviation is zero”\n",
      "Warning message in stats::cor(x, y, use, method):\n",
      "“the standard deviation is zero”\n",
      "Warning message in stats::cor(x, y, use, method):\n",
      "“the standard deviation is zero”\n",
      "Warning message in stats::cor(x, y, use, method):\n",
      "“the standard deviation is zero”\n",
      "Warning message in stats::cor(x, y, use, method):\n",
      "“the standard deviation is zero”\n",
      "Warning message in stats::cor(x, y, use, method):\n",
      "“the standard deviation is zero”\n",
      "Warning message in stats::cor(x, y, use, method):\n",
      "“the standard deviation is zero”\n",
      "Warning message in stats::cor(x, y, use, method):\n",
      "“the standard deviation is zero”\n",
      "Warning message in stats::cor(x, y, use, method):\n",
      "“the standard deviation is zero”\n",
      "Warning message in stats::cor(x, y, use, method):\n",
      "“the standard deviation is zero”\n",
      "Warning message in stats::cor(x, y, use, method):\n",
      "“the standard deviation is zero”\n",
      "Warning message in stats::cor(x, y, use, method):\n",
      "“the standard deviation is zero”\n",
      "Warning message in stats::cor(x, y, use, method):\n",
      "“the standard deviation is zero”\n",
      "Warning message in stats::cor(x, y, use, method):\n",
      "“the standard deviation is zero”\n",
      "Warning message in stats::cor(x, y, use, method):\n",
      "“the standard deviation is zero”\n",
      "Warning message in stats::cor(x, y, use, method):\n",
      "“the standard deviation is zero”\n",
      "Warning message in stats::cor(x, y, use, method):\n",
      "“the standard deviation is zero”\n",
      "Warning message in stats::cor(x, y, use, method):\n",
      "“the standard deviation is zero”\n",
      "Warning message in stats::cor(x, y, use, method):\n",
      "“the standard deviation is zero”\n",
      "Warning message in stats::cor(x, y, use, method):\n",
      "“the standard deviation is zero”\n",
      "Warning message in stats::cor(x, y, use, method):\n",
      "“the standard deviation is zero”\n",
      "Warning message in stats::cor(x, y, use, method):\n",
      "“the standard deviation is zero”\n",
      "Warning message in stats::cor(x, y, use, method):\n",
      "“the standard deviation is zero”\n",
      "Warning message in stats::cor(x, y, use, method):\n",
      "“the standard deviation is zero”\n",
      "Warning message in stats::cor(x, y, use, method):\n",
      "“the standard deviation is zero”\n",
      "Warning message in stats::cor(x, y, use, method):\n",
      "“the standard deviation is zero”\n",
      "Warning message in stats::cor(x, y, use, method):\n",
      "“the standard deviation is zero”\n",
      "Warning message in stats::cor(x, y, use, method):\n",
      "“the standard deviation is zero”\n",
      "Warning message in stats::cor(x, y, use, method):\n",
      "“the standard deviation is zero”\n",
      "Warning message in stats::cor(x, y, use, method):\n",
      "“the standard deviation is zero”\n",
      "Warning message in stats::cor(x, y, use, method):\n",
      "“the standard deviation is zero”\n",
      "Warning message in stats::cor(x, y, use, method):\n",
      "“the standard deviation is zero”\n",
      "Warning message in stats::cor(x, y, use, method):\n",
      "“the standard deviation is zero”\n",
      "Warning message in stats::cor(x, y, use, method):\n",
      "“the standard deviation is zero”\n",
      "Warning message in stats::cor(x, y, use, method):\n",
      "“the standard deviation is zero”\n",
      "Warning message in stats::cor(x, y, use, method):\n",
      "“the standard deviation is zero”\n",
      "Warning message in stats::cor(x, y, use, method):\n",
      "“the standard deviation is zero”\n",
      "Warning message in stats::cor(x, y, use, method):\n",
      "“the standard deviation is zero”\n",
      "Warning message in stats::cor(x, y, use, method):\n",
      "“the standard deviation is zero”\n",
      "Warning message in stats::cor(x, y, use, method):\n",
      "“the standard deviation is zero”\n",
      "Warning message in stats::cor(x, y, use, method):\n",
      "“the standard deviation is zero”\n",
      "Warning message in stats::cor(x, y, use, method):\n",
      "“the standard deviation is zero”\n",
      "Warning message in stats::cor(x, y, use, method):\n",
      "“the standard deviation is zero”\n",
      "Warning message in stats::cor(x, y, use, method):\n",
      "“the standard deviation is zero”\n",
      "Warning message in stats::cor(x, y, use, method):\n",
      "“the standard deviation is zero”\n",
      "Warning message in stats::cor(x, y, use, method):\n",
      "“the standard deviation is zero”\n",
      "Warning message in stats::cor(x, y, use, method):\n",
      "“the standard deviation is zero”\n",
      "Warning message in stats::cor(x, y, use, method):\n",
      "“the standard deviation is zero”\n",
      "Warning message in stats::cor(x, y, use, method):\n",
      "“the standard deviation is zero”\n",
      "Warning message in stats::cor(x, y, use, method):\n",
      "“the standard deviation is zero”\n",
      "Warning message in stats::cor(x, y, use, method):\n",
      "“the standard deviation is zero”\n",
      "Warning message in stats::cor(x, y, use, method):\n",
      "“the standard deviation is zero”\n",
      "Warning message in stats::cor(x, y, use, method):\n",
      "“the standard deviation is zero”\n",
      "Warning message in stats::cor(x, y, use, method):\n",
      "“the standard deviation is zero”\n",
      "Warning message in stats::cor(x, y, use, method):\n",
      "“the standard deviation is zero”\n",
      "Warning message in stats::cor(x, y, use, method):\n",
      "“the standard deviation is zero”\n",
      "Warning message in stats::cor(x, y, use, method):\n",
      "“the standard deviation is zero”\n",
      "Warning message in stats::cor(x, y, use, method):\n",
      "“the standard deviation is zero”\n",
      "Warning message in stats::cor(x, y, use, method):\n",
      "“the standard deviation is zero”\n",
      "Warning message in stats::cor(x, y, use, method):\n",
      "“the standard deviation is zero”\n",
      "Warning message in stats::cor(x, y, use, method):\n",
      "“the standard deviation is zero”\n",
      "Warning message in stats::cor(x, y, use, method):\n",
      "“the standard deviation is zero”\n",
      "Warning message in stats::cor(x, y, use, method):\n",
      "“the standard deviation is zero”\n",
      "Warning message in stats::cor(x, y, use, method):\n",
      "“the standard deviation is zero”\n",
      "Warning message in stats::cor(x, y, use, method):\n",
      "“the standard deviation is zero”\n",
      "Warning message in stats::cor(x, y, use, method):\n",
      "“the standard deviation is zero”\n",
      "Warning message in stats::cor(x, y, use, method):\n",
      "“the standard deviation is zero”\n",
      "Warning message in stats::cor(x, y, use, method):\n",
      "“the standard deviation is zero”\n",
      "Warning message in stats::cor(x, y, use, method):\n",
      "“the standard deviation is zero”\n",
      "Warning message in stats::cor(x, y, use, method):\n",
      "“the standard deviation is zero”\n",
      "Warning message in stats::cor(x, y, use, method):\n",
      "“the standard deviation is zero”\n",
      "Warning message in stats::cor(x, y, use, method):\n",
      "“the standard deviation is zero”\n",
      "Warning message in stats::cor(x, y, use, method):\n",
      "“the standard deviation is zero”\n",
      "Warning message in stats::cor(x, y, use, method):\n",
      "“the standard deviation is zero”\n",
      "Warning message in stats::cor(x, y, use, method):\n",
      "“the standard deviation is zero”\n",
      "Warning message in stats::cor(x, y, use, method):\n",
      "“the standard deviation is zero”\n",
      "Warning message in stats::cor(x, y, use, method):\n",
      "“the standard deviation is zero”\n",
      "Warning message in stats::cor(x, y, use, method):\n",
      "“the standard deviation is zero”\n",
      "Warning message in stats::cor(x, y, use, method):\n",
      "“the standard deviation is zero”\n",
      "Warning message in stats::cor(x, y, use, method):\n",
      "“the standard deviation is zero”\n",
      "Warning message in stats::cor(x, y, use, method):\n",
      "“the standard deviation is zero”\n",
      "Warning message in stats::cor(x, y, use, method):\n",
      "“the standard deviation is zero”\n",
      "Warning message in stats::cor(x, y, use, method):\n",
      "“the standard deviation is zero”\n",
      "Warning message in stats::cor(x, y, use, method):\n",
      "“the standard deviation is zero”\n",
      "Warning message in stats::cor(x, y, use, method):\n",
      "“the standard deviation is zero”\n",
      "Warning message in stats::cor(x, y, use, method):\n",
      "“the standard deviation is zero”\n",
      "Warning message in stats::cor(x, y, use, method):\n",
      "“the standard deviation is zero”\n",
      "Warning message in stats::cor(x, y, use, method):\n",
      "“the standard deviation is zero”\n",
      "Warning message in stats::cor(x, y, use, method):\n",
      "“the standard deviation is zero”\n",
      "Warning message in stats::cor(x, y, use, method):\n",
      "“the standard deviation is zero”\n",
      "Warning message in stats::cor(x, y, use, method):\n",
      "“the standard deviation is zero”\n",
      "Warning message in stats::cor(x, y, use, method):\n",
      "“the standard deviation is zero”\n",
      "Warning message in stats::cor(x, y, use, method):\n",
      "“the standard deviation is zero”\n",
      "Warning message in stats::cor(x, y, use, method):\n",
      "“the standard deviation is zero”\n",
      "Warning message in stats::cor(x, y, use, method):\n",
      "“the standard deviation is zero”\n",
      "Warning message in stats::cor(x, y, use, method):\n",
      "“the standard deviation is zero”\n",
      "Warning message in stats::cor(x, y, use, method):\n",
      "“the standard deviation is zero”\n",
      "Warning message in stats::cor(x, y, use, method):\n",
      "“the standard deviation is zero”\n",
      "Warning message in stats::cor(x, y, use, method):\n",
      "“the standard deviation is zero”\n",
      "Warning message in stats::cor(x, y, use, method):\n",
      "“the standard deviation is zero”\n",
      "Warning message in stats::cor(x, y, use, method):\n",
      "“the standard deviation is zero”\n",
      "Warning message in stats::cor(x, y, use, method):\n",
      "“the standard deviation is zero”\n",
      "Warning message in stats::cor(x, y, use, method):\n",
      "“the standard deviation is zero”\n",
      "Warning message in stats::cor(x, y, use, method):\n",
      "“the standard deviation is zero”\n",
      "Warning message in stats::cor(x, y, use, method):\n",
      "“the standard deviation is zero”\n",
      "Warning message in stats::cor(x, y, use, method):\n",
      "“the standard deviation is zero”\n",
      "Warning message in stats::cor(x, y, use, method):\n",
      "“the standard deviation is zero”\n",
      "Warning message in stats::cor(x, y, use, method):\n",
      "“the standard deviation is zero”\n",
      "Warning message in stats::cor(x, y, use, method):\n",
      "“the standard deviation is zero”\n",
      "Warning message in stats::cor(x, y, use, method):\n",
      "“the standard deviation is zero”\n",
      "Warning message in stats::cor(x, y, use, method):\n",
      "“the standard deviation is zero”\n",
      "Warning message in stats::cor(x, y, use, method):\n",
      "“the standard deviation is zero”\n",
      "Warning message in stats::cor(x, y, use, method):\n",
      "“the standard deviation is zero”\n",
      "Warning message in stats::cor(x, y, use, method):\n",
      "“the standard deviation is zero”\n",
      "Warning message in stats::cor(x, y, use, method):\n",
      "“the standard deviation is zero”\n",
      "Warning message in stats::cor(x, y, use, method):\n",
      "“the standard deviation is zero”\n",
      "Warning message in stats::cor(x, y, use, method):\n",
      "“the standard deviation is zero”\n",
      "Warning message in stats::cor(x, y, use, method):\n",
      "“the standard deviation is zero”\n",
      "Warning message in stats::cor(x, y, use, method):\n",
      "“the standard deviation is zero”\n",
      "Warning message in stats::cor(x, y, use, method):\n",
      "“the standard deviation is zero”\n",
      "Warning message in stats::cor(x, y, use, method):\n",
      "“the standard deviation is zero”\n",
      "Warning message in stats::cor(x, y, use, method):\n",
      "“the standard deviation is zero”\n",
      "Warning message in stats::cor(x, y, use, method):\n",
      "“the standard deviation is zero”\n",
      "Warning message in stats::cor(x, y, use, method):\n",
      "“the standard deviation is zero”\n",
      "Warning message in stats::cor(x, y, use, method):\n",
      "“the standard deviation is zero”\n",
      "Warning message in stats::cor(x, y, use, method):\n",
      "“the standard deviation is zero”\n",
      "Warning message in stats::cor(x, y, use, method):\n",
      "“the standard deviation is zero”\n",
      "Warning message in stats::cor(x, y, use, method):\n",
      "“the standard deviation is zero”\n",
      "Warning message in stats::cor(x, y, use, method):\n",
      "“the standard deviation is zero”\n",
      "Warning message in stats::cor(x, y, use, method):\n",
      "“the standard deviation is zero”\n",
      "Warning message in stats::cor(x, y, use, method):\n",
      "“the standard deviation is zero”\n",
      "Warning message in stats::cor(x, y, use, method):\n",
      "“the standard deviation is zero”\n",
      "Warning message in stats::cor(x, y, use, method):\n",
      "“the standard deviation is zero”\n",
      "Warning message in stats::cor(x, y, use, method):\n",
      "“the standard deviation is zero”\n",
      "Warning message in stats::cor(x, y, use, method):\n",
      "“the standard deviation is zero”\n",
      "Warning message in stats::cor(x, y, use, method):\n",
      "“the standard deviation is zero”\n",
      "Warning message in stats::cor(x, y, use, method):\n",
      "“the standard deviation is zero”\n",
      "Warning message in stats::cor(x, y, use, method):\n",
      "“the standard deviation is zero”\n",
      "Warning message in stats::cor(x, y, use, method):\n",
      "“the standard deviation is zero”\n",
      "Warning message in stats::cor(x, y, use, method):\n",
      "“the standard deviation is zero”\n",
      "Warning message in stats::cor(x, y, use, method):\n",
      "“the standard deviation is zero”\n",
      "Warning message in stats::cor(x, y, use, method):\n",
      "“the standard deviation is zero”\n",
      "Warning message in stats::cor(x, y, use, method):\n",
      "“the standard deviation is zero”\n",
      "Warning message in stats::cor(x, y, use, method):\n",
      "“the standard deviation is zero”\n",
      "Warning message in stats::cor(x, y, use, method):\n",
      "“the standard deviation is zero”\n",
      "Warning message in stats::cor(x, y, use, method):\n",
      "“the standard deviation is zero”\n",
      "Warning message in stats::cor(x, y, use, method):\n",
      "“the standard deviation is zero”\n",
      "Warning message in stats::cor(x, y, use, method):\n",
      "“the standard deviation is zero”\n",
      "Warning message in stats::cor(x, y, use, method):\n",
      "“the standard deviation is zero”\n",
      "Warning message in stats::cor(x, y, use, method):\n",
      "“the standard deviation is zero”\n",
      "Warning message in stats::cor(x, y, use, method):\n",
      "“the standard deviation is zero”\n",
      "Warning message in stats::cor(x, y, use, method):\n",
      "“the standard deviation is zero”\n",
      "Warning message in stats::cor(x, y, use, method):\n",
      "“the standard deviation is zero”\n",
      "Warning message in stats::cor(x, y, use, method):\n",
      "“the standard deviation is zero”\n",
      "Warning message in stats::cor(x, y, use, method):\n",
      "“the standard deviation is zero”\n",
      "Warning message in stats::cor(x, y, use, method):\n",
      "“the standard deviation is zero”\n",
      "Warning message in stats::cor(x, y, use, method):\n",
      "“the standard deviation is zero”\n",
      "Warning message in stats::cor(x, y, use, method):\n",
      "“the standard deviation is zero”\n",
      "Warning message in stats::cor(x, y, use, method):\n",
      "“the standard deviation is zero”\n",
      "Warning message in stats::cor(x, y, use, method):\n",
      "“the standard deviation is zero”\n",
      "Warning message in stats::cor(x, y, use, method):\n",
      "“the standard deviation is zero”\n",
      "Warning message in stats::cor(x, y, use, method):\n",
      "“the standard deviation is zero”\n",
      "Warning message in stats::cor(x, y, use, method):\n",
      "“the standard deviation is zero”\n",
      "Warning message in stats::cor(x, y, use, method):\n",
      "“the standard deviation is zero”\n",
      "Warning message in stats::cor(x, y, use, method):\n",
      "“the standard deviation is zero”\n",
      "Warning message in stats::cor(x, y, use, method):\n",
      "“the standard deviation is zero”\n",
      "Warning message in stats::cor(x, y, use, method):\n",
      "“the standard deviation is zero”\n",
      "Warning message in stats::cor(x, y, use, method):\n",
      "“the standard deviation is zero”\n",
      "Warning message in stats::cor(x, y, use, method):\n",
      "“the standard deviation is zero”\n",
      "Warning message in stats::cor(x, y, use, method):\n",
      "“the standard deviation is zero”\n",
      "Warning message in stats::cor(x, y, use, method):\n",
      "“the standard deviation is zero”\n",
      "Warning message in stats::cor(x, y, use, method):\n",
      "“the standard deviation is zero”\n",
      "Warning message in stats::cor(x, y, use, method):\n",
      "“the standard deviation is zero”\n",
      "Warning message in stats::cor(x, y, use, method):\n",
      "“the standard deviation is zero”\n",
      "Warning message in stats::cor(x, y, use, method):\n",
      "“the standard deviation is zero”\n",
      "Warning message in stats::cor(x, y, use, method):\n",
      "“the standard deviation is zero”\n",
      "Warning message in stats::cor(x, y, use, method):\n",
      "“the standard deviation is zero”\n",
      "Warning message in stats::cor(x, y, use, method):\n",
      "“the standard deviation is zero”\n",
      "Warning message in stats::cor(x, y, use, method):\n",
      "“the standard deviation is zero”\n",
      "Warning message in stats::cor(x, y, use, method):\n",
      "“the standard deviation is zero”\n",
      "Warning message in stats::cor(x, y, use, method):\n",
      "“the standard deviation is zero”\n",
      "Warning message in stats::cor(x, y, use, method):\n",
      "“the standard deviation is zero”\n",
      "Warning message in stats::cor(x, y, use, method):\n",
      "“the standard deviation is zero”\n",
      "Warning message in stats::cor(x, y, use, method):\n",
      "“the standard deviation is zero”\n",
      "Warning message in stats::cor(x, y, use, method):\n",
      "“the standard deviation is zero”\n",
      "Warning message in stats::cor(x, y, use, method):\n",
      "“the standard deviation is zero”\n",
      "Warning message in stats::cor(x, y, use, method):\n",
      "“the standard deviation is zero”\n",
      "Warning message in stats::cor(x, y, use, method):\n",
      "“the standard deviation is zero”\n",
      "Warning message in stats::cor(x, y, use, method):\n",
      "“the standard deviation is zero”\n",
      "Warning message in stats::cor(x, y, use, method):\n",
      "“the standard deviation is zero”\n",
      "Warning message in stats::cor(x, y, use, method):\n",
      "“the standard deviation is zero”\n",
      "Warning message in stats::cor(x, y, use, method):\n",
      "“the standard deviation is zero”\n",
      "Warning message in stats::cor(x, y, use, method):\n",
      "“the standard deviation is zero”\n",
      "Warning message in stats::cor(x, y, use, method):\n",
      "“the standard deviation is zero”\n",
      "Warning message in stats::cor(x, y, use, method):\n",
      "“the standard deviation is zero”\n",
      "Warning message in stats::cor(x, y, use, method):\n",
      "“the standard deviation is zero”\n",
      "Warning message in stats::cor(x, y, use, method):\n",
      "“the standard deviation is zero”\n",
      "Warning message in stats::cor(x, y, use, method):\n",
      "“the standard deviation is zero”\n",
      "Warning message in stats::cor(x, y, use, method):\n",
      "“the standard deviation is zero”\n",
      "Warning message in stats::cor(x, y, use, method):\n",
      "“the standard deviation is zero”\n",
      "Warning message in stats::cor(x, y, use, method):\n",
      "“the standard deviation is zero”\n",
      "Warning message in stats::cor(x, y, use, method):\n",
      "“the standard deviation is zero”\n",
      "Warning message in stats::cor(x, y, use, method):\n",
      "“the standard deviation is zero”\n",
      "Warning message in stats::cor(x, y, use, method):\n",
      "“the standard deviation is zero”\n",
      "Warning message in stats::cor(x, y, use, method):\n",
      "“the standard deviation is zero”\n",
      "Warning message in stats::cor(x, y, use, method):\n",
      "“the standard deviation is zero”\n",
      "Warning message in stats::cor(x, y, use, method):\n",
      "“the standard deviation is zero”\n",
      "Warning message in stats::cor(x, y, use, method):\n",
      "“the standard deviation is zero”\n",
      "Warning message in stats::cor(x, y, use, method):\n",
      "“the standard deviation is zero”\n",
      "Warning message in stats::cor(x, y, use, method):\n",
      "“the standard deviation is zero”\n",
      "Warning message in stats::cor(x, y, use, method):\n",
      "“the standard deviation is zero”\n",
      "Warning message in stats::cor(x, y, use, method):\n",
      "“the standard deviation is zero”\n",
      "Warning message in stats::cor(x, y, use, method):\n",
      "“the standard deviation is zero”\n",
      "Warning message in stats::cor(x, y, use, method):\n",
      "“the standard deviation is zero”\n",
      "Warning message in stats::cor(x, y, use, method):\n",
      "“the standard deviation is zero”\n",
      "Warning message in stats::cor(x, y, use, method):\n",
      "“the standard deviation is zero”\n",
      "Warning message in stats::cor(x, y, use, method):\n",
      "“the standard deviation is zero”\n",
      "Warning message in stats::cor(x, y, use, method):\n",
      "“the standard deviation is zero”\n",
      "Warning message in stats::cor(x, y, use, method):\n",
      "“the standard deviation is zero”\n",
      "Warning message in stats::cor(x, y, use, method):\n",
      "“the standard deviation is zero”\n",
      "Warning message in stats::cor(x, y, use, method):\n",
      "“the standard deviation is zero”\n",
      "Warning message in stats::cor(x, y, use, method):\n",
      "“the standard deviation is zero”\n",
      "Warning message in stats::cor(x, y, use, method):\n",
      "“the standard deviation is zero”\n",
      "Warning message in stats::cor(x, y, use, method):\n",
      "“the standard deviation is zero”\n",
      "Warning message in stats::cor(x, y, use, method):\n",
      "“the standard deviation is zero”\n",
      "Warning message in stats::cor(x, y, use, method):\n",
      "“the standard deviation is zero”\n",
      "Warning message in stats::cor(x, y, use, method):\n",
      "“the standard deviation is zero”\n",
      "Warning message in stats::cor(x, y, use, method):\n",
      "“the standard deviation is zero”\n",
      "Warning message in stats::cor(x, y, use, method):\n",
      "“the standard deviation is zero”\n",
      "Warning message in stats::cor(x, y, use, method):\n",
      "“the standard deviation is zero”\n",
      "Warning message in stats::cor(x, y, use, method):\n",
      "“the standard deviation is zero”\n",
      "Warning message in stats::cor(x, y, use, method):\n",
      "“the standard deviation is zero”\n",
      "Warning message in stats::cor(x, y, use, method):\n",
      "“the standard deviation is zero”\n",
      "Warning message in stats::cor(x, y, use, method):\n",
      "“the standard deviation is zero”\n",
      "Warning message in stats::cor(x, y, use, method):\n",
      "“the standard deviation is zero”\n",
      "Warning message in stats::cor(x, y, use, method):\n",
      "“the standard deviation is zero”\n",
      "Warning message in stats::cor(x, y, use, method):\n",
      "“the standard deviation is zero”\n",
      "Warning message in stats::cor(x, y, use, method):\n",
      "“the standard deviation is zero”\n",
      "Warning message in stats::cor(x, y, use, method):\n",
      "“the standard deviation is zero”\n",
      "Warning message in stats::cor(x, y, use, method):\n",
      "“the standard deviation is zero”\n",
      "Warning message in stats::cor(x, y, use, method):\n",
      "“the standard deviation is zero”\n",
      "Warning message in stats::cor(x, y, use, method):\n",
      "“the standard deviation is zero”\n",
      "Warning message in stats::cor(x, y, use, method):\n",
      "“the standard deviation is zero”\n",
      "Warning message in stats::cor(x, y, use, method):\n",
      "“the standard deviation is zero”\n",
      "Warning message in stats::cor(x, y, use, method):\n",
      "“the standard deviation is zero”\n",
      "Warning message in stats::cor(x, y, use, method):\n",
      "“the standard deviation is zero”\n",
      "Warning message in stats::cor(x, y, use, method):\n",
      "“the standard deviation is zero”\n",
      "Warning message in stats::cor(x, y, use, method):\n",
      "“the standard deviation is zero”\n",
      "Warning message in stats::cor(x, y, use, method):\n",
      "“the standard deviation is zero”\n",
      "Warning message in stats::cor(x, y, use, method):\n",
      "“the standard deviation is zero”\n",
      "Warning message in stats::cor(x, y, use, method):\n",
      "“the standard deviation is zero”\n",
      "Warning message in stats::cor(x, y, use, method):\n",
      "“the standard deviation is zero”\n",
      "Warning message in stats::cor(x, y, use, method):\n",
      "“the standard deviation is zero”\n",
      "Warning message in stats::cor(x, y, use, method):\n",
      "“the standard deviation is zero”\n",
      "Warning message in stats::cor(x, y, use, method):\n",
      "“the standard deviation is zero”\n",
      "Warning message in stats::cor(x, y, use, method):\n",
      "“the standard deviation is zero”\n",
      "Warning message in stats::cor(x, y, use, method):\n",
      "“the standard deviation is zero”\n",
      "Warning message in stats::cor(x, y, use, method):\n",
      "“the standard deviation is zero”\n",
      "Warning message in stats::cor(x, y, use, method):\n",
      "“the standard deviation is zero”\n",
      "Warning message in stats::cor(x, y, use, method):\n",
      "“the standard deviation is zero”\n",
      "Warning message in stats::cor(x, y, use, method):\n",
      "“the standard deviation is zero”\n",
      "Warning message in stats::cor(x, y, use, method):\n",
      "“the standard deviation is zero”\n",
      "Warning message in stats::cor(x, y, use, method):\n",
      "“the standard deviation is zero”\n",
      "Warning message in stats::cor(x, y, use, method):\n",
      "“the standard deviation is zero”\n",
      "Warning message in stats::cor(x, y, use, method):\n",
      "“the standard deviation is zero”\n",
      "Warning message in stats::cor(x, y, use, method):\n",
      "“the standard deviation is zero”\n",
      "Warning message in stats::cor(x, y, use, method):\n",
      "“the standard deviation is zero”\n",
      "Warning message in stats::cor(x, y, use, method):\n",
      "“the standard deviation is zero”\n",
      "Warning message in stats::cor(x, y, use, method):\n",
      "“the standard deviation is zero”\n",
      "Warning message in stats::cor(x, y, use, method):\n",
      "“the standard deviation is zero”\n",
      "Warning message in stats::cor(x, y, use, method):\n",
      "“the standard deviation is zero”\n",
      "Warning message in stats::cor(x, y, use, method):\n",
      "“the standard deviation is zero”\n",
      "Warning message in stats::cor(x, y, use, method):\n",
      "“the standard deviation is zero”\n",
      "Warning message in stats::cor(x, y, use, method):\n",
      "“the standard deviation is zero”\n",
      "Warning message in stats::cor(x, y, use, method):\n",
      "“the standard deviation is zero”\n",
      "Warning message in stats::cor(x, y, use, method):\n",
      "“the standard deviation is zero”\n",
      "Warning message in stats::cor(x, y, use, method):\n",
      "“the standard deviation is zero”\n",
      "Warning message in stats::cor(x, y, use, method):\n",
      "“the standard deviation is zero”\n",
      "Warning message in stats::cor(x, y, use, method):\n",
      "“the standard deviation is zero”\n",
      "Warning message in stats::cor(x, y, use, method):\n",
      "“the standard deviation is zero”\n",
      "Warning message in stats::cor(x, y, use, method):\n",
      "“the standard deviation is zero”\n",
      "Warning message in stats::cor(x, y, use, method):\n",
      "“the standard deviation is zero”\n",
      "Warning message in stats::cor(x, y, use, method):\n",
      "“the standard deviation is zero”\n",
      "Warning message in stats::cor(x, y, use, method):\n",
      "“the standard deviation is zero”\n",
      "Warning message in stats::cor(x, y, use, method):\n",
      "“the standard deviation is zero”\n",
      "Warning message in stats::cor(x, y, use, method):\n",
      "“the standard deviation is zero”\n",
      "Warning message in stats::cor(x, y, use, method):\n",
      "“the standard deviation is zero”\n",
      "Warning message in stats::cor(x, y, use, method):\n",
      "“the standard deviation is zero”\n",
      "Warning message in stats::cor(x, y, use, method):\n",
      "“the standard deviation is zero”\n",
      "Warning message in stats::cor(x, y, use, method):\n",
      "“the standard deviation is zero”\n",
      "Warning message in stats::cor(x, y, use, method):\n",
      "“the standard deviation is zero”\n",
      "Warning message in stats::cor(x, y, use, method):\n",
      "“the standard deviation is zero”\n",
      "Warning message in stats::cor(x, y, use, method):\n",
      "“the standard deviation is zero”\n",
      "Warning message in stats::cor(x, y, use, method):\n",
      "“the standard deviation is zero”\n",
      "Warning message in stats::cor(x, y, use, method):\n",
      "“the standard deviation is zero”\n",
      "Warning message in stats::cor(x, y, use, method):\n",
      "“the standard deviation is zero”\n",
      "Warning message in stats::cor(x, y, use, method):\n",
      "“the standard deviation is zero”\n",
      "Warning message in stats::cor(x, y, use, method):\n",
      "“the standard deviation is zero”\n",
      "Warning message in stats::cor(x, y, use, method):\n",
      "“the standard deviation is zero”\n",
      "Warning message in stats::cor(x, y, use, method):\n",
      "“the standard deviation is zero”\n",
      "Warning message in stats::cor(x, y, use, method):\n",
      "“the standard deviation is zero”\n",
      "Warning message in stats::cor(x, y, use, method):\n",
      "“the standard deviation is zero”\n",
      "Warning message in stats::cor(x, y, use, method):\n",
      "“the standard deviation is zero”\n",
      "Warning message in stats::cor(x, y, use, method):\n",
      "“the standard deviation is zero”\n",
      "Warning message in stats::cor(x, y, use, method):\n",
      "“the standard deviation is zero”\n",
      "Warning message in stats::cor(x, y, use, method):\n",
      "“the standard deviation is zero”\n",
      "Warning message in stats::cor(x, y, use, method):\n",
      "“the standard deviation is zero”\n",
      "Warning message in stats::cor(x, y, use, method):\n",
      "“the standard deviation is zero”\n",
      "Warning message in stats::cor(x, y, use, method):\n",
      "“the standard deviation is zero”\n",
      "Warning message in stats::cor(x, y, use, method):\n",
      "“the standard deviation is zero”\n",
      "Warning message in stats::cor(x, y, use, method):\n",
      "“the standard deviation is zero”\n",
      "Warning message in stats::cor(x, y, use, method):\n",
      "“the standard deviation is zero”\n",
      "Warning message in stats::cor(x, y, use, method):\n",
      "“the standard deviation is zero”\n",
      "Warning message in stats::cor(x, y, use, method):\n",
      "“the standard deviation is zero”\n",
      "Warning message in stats::cor(x, y, use, method):\n",
      "“the standard deviation is zero”\n",
      "Warning message in stats::cor(x, y, use, method):\n",
      "“the standard deviation is zero”\n",
      "Warning message in stats::cor(x, y, use, method):\n",
      "“the standard deviation is zero”\n",
      "Warning message in stats::cor(x, y, use, method):\n",
      "“the standard deviation is zero”\n",
      "Warning message in stats::cor(x, y, use, method):\n",
      "“the standard deviation is zero”\n",
      "Warning message in stats::cor(x, y, use, method):\n",
      "“the standard deviation is zero”\n",
      "Warning message in stats::cor(x, y, use, method):\n",
      "“the standard deviation is zero”\n",
      "Warning message in stats::cor(x, y, use, method):\n",
      "“the standard deviation is zero”\n",
      "Warning message in stats::cor(x, y, use, method):\n",
      "“the standard deviation is zero”\n",
      "Warning message in stats::cor(x, y, use, method):\n",
      "“the standard deviation is zero”\n",
      "Warning message in stats::cor(x, y, use, method):\n",
      "“the standard deviation is zero”\n",
      "Warning message in stats::cor(x, y, use, method):\n",
      "“the standard deviation is zero”\n",
      "Warning message in stats::cor(x, y, use, method):\n",
      "“the standard deviation is zero”\n",
      "Warning message in stats::cor(x, y, use, method):\n",
      "“the standard deviation is zero”\n",
      "Warning message in stats::cor(x, y, use, method):\n",
      "“the standard deviation is zero”\n",
      "Warning message in stats::cor(x, y, use, method):\n",
      "“the standard deviation is zero”\n",
      "Warning message in stats::cor(x, y, use, method):\n",
      "“the standard deviation is zero”\n",
      "Warning message in stats::cor(x, y, use, method):\n",
      "“the standard deviation is zero”\n",
      "Warning message in stats::cor(x, y, use, method):\n",
      "“the standard deviation is zero”\n",
      "Warning message in stats::cor(x, y, use, method):\n",
      "“the standard deviation is zero”\n",
      "Warning message in stats::cor(x, y, use, method):\n",
      "“the standard deviation is zero”\n",
      "Warning message in stats::cor(x, y, use, method):\n",
      "“the standard deviation is zero”\n",
      "Warning message in stats::cor(x, y, use, method):\n",
      "“the standard deviation is zero”\n",
      "Warning message in stats::cor(x, y, use, method):\n",
      "“the standard deviation is zero”\n",
      "Warning message in stats::cor(x, y, use, method):\n",
      "“the standard deviation is zero”\n",
      "Warning message in stats::cor(x, y, use, method):\n",
      "“the standard deviation is zero”\n",
      "Warning message in stats::cor(x, y, use, method):\n",
      "“the standard deviation is zero”\n",
      "Warning message in stats::cor(x, y, use, method):\n",
      "“the standard deviation is zero”\n",
      "Warning message in stats::cor(x, y, use, method):\n",
      "“the standard deviation is zero”\n",
      "Warning message in stats::cor(x, y, use, method):\n",
      "“the standard deviation is zero”\n",
      "Warning message in stats::cor(x, y, use, method):\n",
      "“the standard deviation is zero”\n",
      "Warning message in stats::cor(x, y, use, method):\n",
      "“the standard deviation is zero”\n",
      "Warning message in stats::cor(x, y, use, method):\n",
      "“the standard deviation is zero”\n",
      "Warning message in stats::cor(x, y, use, method):\n",
      "“the standard deviation is zero”\n",
      "Warning message in stats::cor(x, y, use, method):\n",
      "“the standard deviation is zero”\n",
      "Warning message in stats::cor(x, y, use, method):\n",
      "“the standard deviation is zero”\n",
      "Warning message in stats::cor(x, y, use, method):\n",
      "“the standard deviation is zero”\n",
      "Warning message in stats::cor(x, y, use, method):\n",
      "“the standard deviation is zero”\n",
      "Warning message in stats::cor(x, y, use, method):\n",
      "“the standard deviation is zero”\n",
      "Warning message in stats::cor(x, y, use, method):\n",
      "“the standard deviation is zero”\n",
      "Warning message in stats::cor(x, y, use, method):\n",
      "“the standard deviation is zero”\n",
      "Warning message in stats::cor(x, y, use, method):\n",
      "“the standard deviation is zero”\n",
      "Warning message in stats::cor(x, y, use, method):\n",
      "“the standard deviation is zero”\n",
      "Warning message in stats::cor(x, y, use, method):\n",
      "“the standard deviation is zero”\n",
      "Warning message in stats::cor(x, y, use, method):\n",
      "“the standard deviation is zero”\n",
      "Warning message in stats::cor(x, y, use, method):\n",
      "“the standard deviation is zero”\n",
      "Warning message in stats::cor(x, y, use, method):\n",
      "“the standard deviation is zero”\n",
      "Warning message in stats::cor(x, y, use, method):\n",
      "“the standard deviation is zero”\n",
      "Warning message in stats::cor(x, y, use, method):\n",
      "“the standard deviation is zero”\n",
      "Warning message in stats::cor(x, y, use, method):\n",
      "“the standard deviation is zero”\n",
      "Warning message in stats::cor(x, y, use, method):\n",
      "“the standard deviation is zero”\n",
      "Warning message in stats::cor(x, y, use, method):\n",
      "“the standard deviation is zero”\n",
      "Warning message in stats::cor(x, y, use, method):\n",
      "“the standard deviation is zero”\n",
      "Warning message in stats::cor(x, y, use, method):\n",
      "“the standard deviation is zero”\n",
      "Warning message in stats::cor(x, y, use, method):\n",
      "“the standard deviation is zero”\n",
      "Warning message in stats::cor(x, y, use, method):\n",
      "“the standard deviation is zero”\n",
      "Warning message in stats::cor(x, y, use, method):\n",
      "“the standard deviation is zero”\n",
      "Warning message in stats::cor(x, y, use, method):\n",
      "“the standard deviation is zero”\n",
      "Warning message in stats::cor(x, y, use, method):\n",
      "“the standard deviation is zero”\n",
      "Warning message in stats::cor(x, y, use, method):\n",
      "“the standard deviation is zero”\n",
      "Warning message in stats::cor(x, y, use, method):\n",
      "“the standard deviation is zero”\n",
      "Warning message in stats::cor(x, y, use, method):\n",
      "“the standard deviation is zero”\n",
      "Warning message in stats::cor(x, y, use, method):\n",
      "“the standard deviation is zero”\n",
      "Warning message in stats::cor(x, y, use, method):\n",
      "“the standard deviation is zero”\n",
      "Warning message in stats::cor(x, y, use, method):\n",
      "“the standard deviation is zero”\n",
      "Warning message in stats::cor(x, y, use, method):\n",
      "“the standard deviation is zero”\n",
      "Warning message in stats::cor(x, y, use, method):\n",
      "“the standard deviation is zero”\n",
      "Warning message in stats::cor(x, y, use, method):\n",
      "“the standard deviation is zero”\n",
      "Warning message in stats::cor(x, y, use, method):\n",
      "“the standard deviation is zero”\n",
      "Warning message in stats::cor(x, y, use, method):\n",
      "“the standard deviation is zero”\n",
      "Warning message in stats::cor(x, y, use, method):\n",
      "“the standard deviation is zero”\n",
      "Warning message in stats::cor(x, y, use, method):\n",
      "“the standard deviation is zero”\n",
      "Warning message in stats::cor(x, y, use, method):\n",
      "“the standard deviation is zero”\n",
      "Warning message in stats::cor(x, y, use, method):\n",
      "“the standard deviation is zero”\n",
      "Warning message in stats::cor(x, y, use, method):\n",
      "“the standard deviation is zero”\n",
      "Warning message in stats::cor(x, y, use, method):\n",
      "“the standard deviation is zero”\n",
      "Warning message in stats::cor(x, y, use, method):\n",
      "“the standard deviation is zero”\n",
      "Warning message in stats::cor(x, y, use, method):\n",
      "“the standard deviation is zero”\n",
      "Warning message in stats::cor(x, y, use, method):\n",
      "“the standard deviation is zero”\n",
      "Warning message in stats::cor(x, y, use, method):\n",
      "“the standard deviation is zero”\n",
      "Warning message in stats::cor(x, y, use, method):\n",
      "“the standard deviation is zero”\n",
      "Warning message in stats::cor(x, y, use, method):\n",
      "“the standard deviation is zero”\n",
      "Warning message in stats::cor(x, y, use, method):\n",
      "“the standard deviation is zero”\n",
      "Warning message in stats::cor(x, y, use, method):\n",
      "“the standard deviation is zero”\n",
      "Warning message in stats::cor(x, y, use, method):\n",
      "“the standard deviation is zero”\n",
      "Warning message in stats::cor(x, y, use, method):\n",
      "“the standard deviation is zero”\n",
      "Warning message in stats::cor(x, y, use, method):\n",
      "“the standard deviation is zero”\n",
      "Warning message in stats::cor(x, y, use, method):\n",
      "“the standard deviation is zero”\n",
      "Warning message in stats::cor(x, y, use, method):\n",
      "“the standard deviation is zero”\n",
      "Warning message in stats::cor(x, y, use, method):\n",
      "“the standard deviation is zero”\n",
      "Warning message in stats::cor(x, y, use, method):\n",
      "“the standard deviation is zero”\n",
      "Warning message in stats::cor(x, y, use, method):\n",
      "“the standard deviation is zero”\n",
      "Warning message in stats::cor(x, y, use, method):\n",
      "“the standard deviation is zero”\n",
      "Warning message in stats::cor(x, y, use, method):\n",
      "“the standard deviation is zero”\n",
      "Warning message in stats::cor(x, y, use, method):\n",
      "“the standard deviation is zero”\n",
      "Warning message in stats::cor(x, y, use, method):\n",
      "“the standard deviation is zero”\n",
      "Warning message in stats::cor(x, y, use, method):\n",
      "“the standard deviation is zero”\n",
      "Warning message in stats::cor(x, y, use, method):\n",
      "“the standard deviation is zero”\n",
      "Warning message in stats::cor(x, y, use, method):\n",
      "“the standard deviation is zero”\n",
      "Warning message in stats::cor(x, y, use, method):\n",
      "“the standard deviation is zero”\n",
      "Warning message in stats::cor(x, y, use, method):\n",
      "“the standard deviation is zero”\n",
      "Warning message in stats::cor(x, y, use, method):\n",
      "“the standard deviation is zero”\n",
      "Warning message in stats::cor(x, y, use, method):\n",
      "“the standard deviation is zero”\n",
      "Warning message in stats::cor(x, y, use, method):\n",
      "“the standard deviation is zero”\n",
      "Warning message in stats::cor(x, y, use, method):\n",
      "“the standard deviation is zero”\n",
      "Warning message in stats::cor(x, y, use, method):\n",
      "“the standard deviation is zero”\n",
      "Warning message in stats::cor(x, y, use, method):\n",
      "“the standard deviation is zero”\n",
      "Warning message in stats::cor(x, y, use, method):\n",
      "“the standard deviation is zero”\n",
      "Warning message in stats::cor(x, y, use, method):\n",
      "“the standard deviation is zero”\n",
      "Warning message in stats::cor(x, y, use, method):\n",
      "“the standard deviation is zero”\n",
      "Warning message in stats::cor(x, y, use, method):\n",
      "“the standard deviation is zero”\n",
      "Warning message in stats::cor(x, y, use, method):\n",
      "“the standard deviation is zero”\n",
      "Warning message in stats::cor(x, y, use, method):\n",
      "“the standard deviation is zero”\n",
      "Warning message in stats::cor(x, y, use, method):\n",
      "“the standard deviation is zero”\n",
      "Warning message in stats::cor(x, y, use, method):\n",
      "“the standard deviation is zero”\n",
      "Warning message in stats::cor(x, y, use, method):\n",
      "“the standard deviation is zero”\n",
      "Warning message in stats::cor(x, y, use, method):\n",
      "“the standard deviation is zero”\n",
      "Warning message in stats::cor(x, y, use, method):\n",
      "“the standard deviation is zero”\n",
      "Warning message in stats::cor(x, y, use, method):\n",
      "“the standard deviation is zero”\n",
      "Warning message in stats::cor(x, y, use, method):\n",
      "“the standard deviation is zero”\n",
      "Warning message in stats::cor(x, y, use, method):\n",
      "“the standard deviation is zero”\n",
      "Warning message in stats::cor(x, y, use, method):\n",
      "“the standard deviation is zero”\n",
      "Warning message in stats::cor(x, y, use, method):\n",
      "“the standard deviation is zero”\n",
      "Warning message in stats::cor(x, y, use, method):\n",
      "“the standard deviation is zero”\n",
      "Warning message in stats::cor(x, y, use, method):\n",
      "“the standard deviation is zero”\n",
      "Warning message in stats::cor(x, y, use, method):\n",
      "“the standard deviation is zero”\n",
      "Warning message in stats::cor(x, y, use, method):\n",
      "“the standard deviation is zero”\n",
      "Warning message in stats::cor(x, y, use, method):\n",
      "“the standard deviation is zero”\n",
      "Warning message in stats::cor(x, y, use, method):\n",
      "“the standard deviation is zero”\n",
      "Warning message in stats::cor(x, y, use, method):\n",
      "“the standard deviation is zero”\n",
      "Warning message in stats::cor(x, y, use, method):\n",
      "“the standard deviation is zero”\n",
      "Warning message in stats::cor(x, y, use, method):\n",
      "“the standard deviation is zero”\n",
      "Warning message in stats::cor(x, y, use, method):\n",
      "“the standard deviation is zero”\n",
      "Warning message in stats::cor(x, y, use, method):\n",
      "“the standard deviation is zero”\n",
      "Warning message in stats::cor(x, y, use, method):\n",
      "“the standard deviation is zero”\n",
      "Warning message in stats::cor(x, y, use, method):\n",
      "“the standard deviation is zero”\n",
      "Warning message in stats::cor(x, y, use, method):\n",
      "“the standard deviation is zero”\n",
      "Warning message in stats::cor(x, y, use, method):\n",
      "“the standard deviation is zero”\n",
      "Warning message in stats::cor(x, y, use, method):\n",
      "“the standard deviation is zero”\n",
      "Warning message in stats::cor(x, y, use, method):\n",
      "“the standard deviation is zero”\n",
      "Warning message in stats::cor(x, y, use, method):\n",
      "“the standard deviation is zero”\n",
      "Warning message in stats::cor(x, y, use, method):\n",
      "“the standard deviation is zero”\n",
      "Warning message in stats::cor(x, y, use, method):\n",
      "“the standard deviation is zero”\n",
      "Warning message in stats::cor(x, y, use, method):\n",
      "“the standard deviation is zero”\n",
      "Warning message in stats::cor(x, y, use, method):\n",
      "“the standard deviation is zero”\n",
      "Warning message in stats::cor(x, y, use, method):\n",
      "“the standard deviation is zero”\n",
      "Warning message in stats::cor(x, y, use, method):\n",
      "“the standard deviation is zero”\n",
      "Warning message in stats::cor(x, y, use, method):\n",
      "“the standard deviation is zero”\n",
      "Warning message in stats::cor(x, y, use, method):\n",
      "“the standard deviation is zero”\n",
      "Warning message in stats::cor(x, y, use, method):\n",
      "“the standard deviation is zero”\n",
      "Warning message in stats::cor(x, y, use, method):\n",
      "“the standard deviation is zero”\n",
      "Warning message in stats::cor(x, y, use, method):\n",
      "“the standard deviation is zero”\n",
      "Warning message in stats::cor(x, y, use, method):\n",
      "“the standard deviation is zero”\n",
      "Warning message in stats::cor(x, y, use, method):\n",
      "“the standard deviation is zero”\n",
      "Warning message in stats::cor(x, y, use, method):\n",
      "“the standard deviation is zero”\n",
      "Warning message in stats::cor(x, y, use, method):\n",
      "“the standard deviation is zero”\n",
      "Warning message in stats::cor(x, y, use, method):\n",
      "“the standard deviation is zero”\n",
      "Warning message in stats::cor(x, y, use, method):\n",
      "“the standard deviation is zero”\n",
      "Warning message in stats::cor(x, y, use, method):\n",
      "“the standard deviation is zero”\n",
      "Warning message in stats::cor(x, y, use, method):\n",
      "“the standard deviation is zero”\n",
      "Warning message in stats::cor(x, y, use, method):\n",
      "“the standard deviation is zero”\n",
      "Warning message in stats::cor(x, y, use, method):\n",
      "“the standard deviation is zero”\n",
      "Warning message in stats::cor(x, y, use, method):\n",
      "“the standard deviation is zero”\n",
      "Warning message in stats::cor(x, y, use, method):\n",
      "“the standard deviation is zero”\n",
      "Warning message in stats::cor(x, y, use, method):\n",
      "“the standard deviation is zero”\n",
      "Warning message in stats::cor(x, y, use, method):\n",
      "“the standard deviation is zero”\n"
     ]
    }
   ],
   "source": [
    "ligand_target_correlations = cor(expression_data[,colnames(expression_data) %in% expressed_ligands], expression_data[,!colnames(expression_data) %in% expressed_ligands], method = 'spearman', use = 'pairwise.complete.obs') "
   ]
  },
  {
   "cell_type": "code",
   "execution_count": 527,
   "id": "1aeb596e-d579-45c9-836a-929524e508b1",
   "metadata": {},
   "outputs": [
    {
     "data": {
      "text/html": [
       "<table class=\"dataframe\">\n",
       "<caption>A matrix: 2 × 12939 of type dbl</caption>\n",
       "<thead>\n",
       "\t<tr><th></th><th scope=col>clinical_data_0_CK</th><th scope=col>clinical_data_0_CK_MB</th><th scope=col>clinical_data_0_CRP</th><th scope=col>clinical_data_0_delta_ef_value</th><th scope=col>clinical_data_0_Troponin</th><th scope=col>cytokine_0_Eotaxin__CCL11</th><th scope=col>cytokine_0_Eotaxin2__CCL24</th><th scope=col>cytokine_0_FLT3L__FLT3LG</th><th scope=col>cytokine_0_GROalpha__CXCL1</th><th scope=col>cytokine_0_IL12p40__IL12B</th><th scope=col>⋯</th><th scope=col>single_cell_0_X9_Monocytes...CD16_FCGR3A__ZEB2</th><th scope=col>single_cell_0_X9_Monocytes...CD16_FCGR3A__ZFAND5</th><th scope=col>single_cell_0_X9_Monocytes...CD16_FCGR3A__ZFAS1</th><th scope=col>single_cell_0_X9_Monocytes...CD16_FCGR3A__ZFP36</th><th scope=col>single_cell_0_X9_Monocytes...CD16_FCGR3A__ZFP36L1</th><th scope=col>single_cell_0_X9_Monocytes...CD16_FCGR3A__ZFP36L2</th><th scope=col>single_cell_0_X9_Monocytes...CD16_FCGR3A__ZNF106</th><th scope=col>single_cell_0_X9_Monocytes...CD16_FCGR3A__ZNF207</th><th scope=col>single_cell_0_X9_Monocytes...CD16_FCGR3A__ZNF706</th><th scope=col>single_cell_0_X9_Monocytes...CD16_FCGR3A__ZYX</th></tr>\n",
       "</thead>\n",
       "<tbody>\n",
       "\t<tr><th scope=row>cytokine_0_BCA1__CXCL13</th><td> 0.04568048</td><td> 0.1841583</td><td>0.03474096</td><td>-0.263390374</td><td> 0.08664079</td><td>-0.4042097</td><td>0.07479910</td><td>-0.12506712</td><td>-0.20342629</td><td>-0.06320019</td><td>⋯</td><td> 0.14780538</td><td> 0.06469496</td><td>-0.033172594</td><td> 0.02807027</td><td> 0.006225096</td><td> 0.08782851</td><td>-0.06057393</td><td> 0.1023231</td><td> 0.20825309</td><td>-0.02657856</td></tr>\n",
       "\t<tr><th scope=row>cytokine_0_CTACK__CCL27</th><td>-0.19761446</td><td>-0.3175698</td><td>0.01813627</td><td>-0.008483006</td><td>-0.09251747</td><td> 0.1002265</td><td>0.07672164</td><td>-0.02487356</td><td>-0.03717696</td><td> 0.30506995</td><td>⋯</td><td>-0.02130075</td><td>-0.15482846</td><td> 0.004267636</td><td>-0.11350619</td><td>-0.029636124</td><td>-0.04159127</td><td> 0.08755046</td><td>-0.1470658</td><td>-0.01133356</td><td>-0.05600466</td></tr>\n",
       "</tbody>\n",
       "</table>\n"
      ],
      "text/latex": [
       "A matrix: 2 × 12939 of type dbl\n",
       "\\begin{tabular}{r|lllllllllllllllllllll}\n",
       "  & clinical\\_data\\_0\\_CK & clinical\\_data\\_0\\_CK\\_MB & clinical\\_data\\_0\\_CRP & clinical\\_data\\_0\\_delta\\_ef\\_value & clinical\\_data\\_0\\_Troponin & cytokine\\_0\\_Eotaxin\\_\\_CCL11 & cytokine\\_0\\_Eotaxin2\\_\\_CCL24 & cytokine\\_0\\_FLT3L\\_\\_FLT3LG & cytokine\\_0\\_GROalpha\\_\\_CXCL1 & cytokine\\_0\\_IL12p40\\_\\_IL12B & ⋯ & single\\_cell\\_0\\_X9\\_Monocytes...CD16\\_FCGR3A\\_\\_ZEB2 & single\\_cell\\_0\\_X9\\_Monocytes...CD16\\_FCGR3A\\_\\_ZFAND5 & single\\_cell\\_0\\_X9\\_Monocytes...CD16\\_FCGR3A\\_\\_ZFAS1 & single\\_cell\\_0\\_X9\\_Monocytes...CD16\\_FCGR3A\\_\\_ZFP36 & single\\_cell\\_0\\_X9\\_Monocytes...CD16\\_FCGR3A\\_\\_ZFP36L1 & single\\_cell\\_0\\_X9\\_Monocytes...CD16\\_FCGR3A\\_\\_ZFP36L2 & single\\_cell\\_0\\_X9\\_Monocytes...CD16\\_FCGR3A\\_\\_ZNF106 & single\\_cell\\_0\\_X9\\_Monocytes...CD16\\_FCGR3A\\_\\_ZNF207 & single\\_cell\\_0\\_X9\\_Monocytes...CD16\\_FCGR3A\\_\\_ZNF706 & single\\_cell\\_0\\_X9\\_Monocytes...CD16\\_FCGR3A\\_\\_ZYX\\\\\n",
       "\\hline\n",
       "\tcytokine\\_0\\_BCA1\\_\\_CXCL13 &  0.04568048 &  0.1841583 & 0.03474096 & -0.263390374 &  0.08664079 & -0.4042097 & 0.07479910 & -0.12506712 & -0.20342629 & -0.06320019 & ⋯ &  0.14780538 &  0.06469496 & -0.033172594 &  0.02807027 &  0.006225096 &  0.08782851 & -0.06057393 &  0.1023231 &  0.20825309 & -0.02657856\\\\\n",
       "\tcytokine\\_0\\_CTACK\\_\\_CCL27 & -0.19761446 & -0.3175698 & 0.01813627 & -0.008483006 & -0.09251747 &  0.1002265 & 0.07672164 & -0.02487356 & -0.03717696 &  0.30506995 & ⋯ & -0.02130075 & -0.15482846 &  0.004267636 & -0.11350619 & -0.029636124 & -0.04159127 &  0.08755046 & -0.1470658 & -0.01133356 & -0.05600466\\\\\n",
       "\\end{tabular}\n"
      ],
      "text/markdown": [
       "\n",
       "A matrix: 2 × 12939 of type dbl\n",
       "\n",
       "| <!--/--> | clinical_data_0_CK | clinical_data_0_CK_MB | clinical_data_0_CRP | clinical_data_0_delta_ef_value | clinical_data_0_Troponin | cytokine_0_Eotaxin__CCL11 | cytokine_0_Eotaxin2__CCL24 | cytokine_0_FLT3L__FLT3LG | cytokine_0_GROalpha__CXCL1 | cytokine_0_IL12p40__IL12B | ⋯ | single_cell_0_X9_Monocytes...CD16_FCGR3A__ZEB2 | single_cell_0_X9_Monocytes...CD16_FCGR3A__ZFAND5 | single_cell_0_X9_Monocytes...CD16_FCGR3A__ZFAS1 | single_cell_0_X9_Monocytes...CD16_FCGR3A__ZFP36 | single_cell_0_X9_Monocytes...CD16_FCGR3A__ZFP36L1 | single_cell_0_X9_Monocytes...CD16_FCGR3A__ZFP36L2 | single_cell_0_X9_Monocytes...CD16_FCGR3A__ZNF106 | single_cell_0_X9_Monocytes...CD16_FCGR3A__ZNF207 | single_cell_0_X9_Monocytes...CD16_FCGR3A__ZNF706 | single_cell_0_X9_Monocytes...CD16_FCGR3A__ZYX |\n",
       "|---|---|---|---|---|---|---|---|---|---|---|---|---|---|---|---|---|---|---|---|---|---|\n",
       "| cytokine_0_BCA1__CXCL13 |  0.04568048 |  0.1841583 | 0.03474096 | -0.263390374 |  0.08664079 | -0.4042097 | 0.07479910 | -0.12506712 | -0.20342629 | -0.06320019 | ⋯ |  0.14780538 |  0.06469496 | -0.033172594 |  0.02807027 |  0.006225096 |  0.08782851 | -0.06057393 |  0.1023231 |  0.20825309 | -0.02657856 |\n",
       "| cytokine_0_CTACK__CCL27 | -0.19761446 | -0.3175698 | 0.01813627 | -0.008483006 | -0.09251747 |  0.1002265 | 0.07672164 | -0.02487356 | -0.03717696 |  0.30506995 | ⋯ | -0.02130075 | -0.15482846 |  0.004267636 | -0.11350619 | -0.029636124 | -0.04159127 |  0.08755046 | -0.1470658 | -0.01133356 | -0.05600466 |\n",
       "\n"
      ],
      "text/plain": [
       "                        clinical_data_0_CK clinical_data_0_CK_MB\n",
       "cytokine_0_BCA1__CXCL13  0.04568048         0.1841583           \n",
       "cytokine_0_CTACK__CCL27 -0.19761446        -0.3175698           \n",
       "                        clinical_data_0_CRP clinical_data_0_delta_ef_value\n",
       "cytokine_0_BCA1__CXCL13 0.03474096          -0.263390374                  \n",
       "cytokine_0_CTACK__CCL27 0.01813627          -0.008483006                  \n",
       "                        clinical_data_0_Troponin cytokine_0_Eotaxin__CCL11\n",
       "cytokine_0_BCA1__CXCL13  0.08664079              -0.4042097               \n",
       "cytokine_0_CTACK__CCL27 -0.09251747               0.1002265               \n",
       "                        cytokine_0_Eotaxin2__CCL24 cytokine_0_FLT3L__FLT3LG\n",
       "cytokine_0_BCA1__CXCL13 0.07479910                 -0.12506712             \n",
       "cytokine_0_CTACK__CCL27 0.07672164                 -0.02487356             \n",
       "                        cytokine_0_GROalpha__CXCL1 cytokine_0_IL12p40__IL12B ⋯\n",
       "cytokine_0_BCA1__CXCL13 -0.20342629                -0.06320019               ⋯\n",
       "cytokine_0_CTACK__CCL27 -0.03717696                 0.30506995               ⋯\n",
       "                        single_cell_0_X9_Monocytes...CD16_FCGR3A__ZEB2\n",
       "cytokine_0_BCA1__CXCL13  0.14780538                                   \n",
       "cytokine_0_CTACK__CCL27 -0.02130075                                   \n",
       "                        single_cell_0_X9_Monocytes...CD16_FCGR3A__ZFAND5\n",
       "cytokine_0_BCA1__CXCL13  0.06469496                                     \n",
       "cytokine_0_CTACK__CCL27 -0.15482846                                     \n",
       "                        single_cell_0_X9_Monocytes...CD16_FCGR3A__ZFAS1\n",
       "cytokine_0_BCA1__CXCL13 -0.033172594                                   \n",
       "cytokine_0_CTACK__CCL27  0.004267636                                   \n",
       "                        single_cell_0_X9_Monocytes...CD16_FCGR3A__ZFP36\n",
       "cytokine_0_BCA1__CXCL13  0.02807027                                    \n",
       "cytokine_0_CTACK__CCL27 -0.11350619                                    \n",
       "                        single_cell_0_X9_Monocytes...CD16_FCGR3A__ZFP36L1\n",
       "cytokine_0_BCA1__CXCL13  0.006225096                                     \n",
       "cytokine_0_CTACK__CCL27 -0.029636124                                     \n",
       "                        single_cell_0_X9_Monocytes...CD16_FCGR3A__ZFP36L2\n",
       "cytokine_0_BCA1__CXCL13  0.08782851                                      \n",
       "cytokine_0_CTACK__CCL27 -0.04159127                                      \n",
       "                        single_cell_0_X9_Monocytes...CD16_FCGR3A__ZNF106\n",
       "cytokine_0_BCA1__CXCL13 -0.06057393                                     \n",
       "cytokine_0_CTACK__CCL27  0.08755046                                     \n",
       "                        single_cell_0_X9_Monocytes...CD16_FCGR3A__ZNF207\n",
       "cytokine_0_BCA1__CXCL13  0.1023231                                      \n",
       "cytokine_0_CTACK__CCL27 -0.1470658                                      \n",
       "                        single_cell_0_X9_Monocytes...CD16_FCGR3A__ZNF706\n",
       "cytokine_0_BCA1__CXCL13  0.20825309                                     \n",
       "cytokine_0_CTACK__CCL27 -0.01133356                                     \n",
       "                        single_cell_0_X9_Monocytes...CD16_FCGR3A__ZYX\n",
       "cytokine_0_BCA1__CXCL13 -0.02657856                                  \n",
       "cytokine_0_CTACK__CCL27 -0.05600466                                  "
      ]
     },
     "metadata": {},
     "output_type": "display_data"
    }
   ],
   "source": [
    "head(ligand_target_correlations,2)"
   ]
  },
  {
   "cell_type": "code",
   "execution_count": 528,
   "id": "88ae81b8-96d5-4fed-9a7d-a7f55c51df6b",
   "metadata": {},
   "outputs": [],
   "source": [
    "### Transform to long format"
   ]
  },
  {
   "cell_type": "code",
   "execution_count": 529,
   "id": "f7fd06cc-1689-4038-83aa-420d6e2f7119",
   "metadata": {},
   "outputs": [],
   "source": [
    "ligand_target_correlations = melt(ligand_target_correlations)"
   ]
  },
  {
   "cell_type": "code",
   "execution_count": 530,
   "id": "d64d14aa-8de6-435d-aeba-7a246ce5c438",
   "metadata": {},
   "outputs": [],
   "source": [
    "colnames(ligand_target_correlations) = c('Ligand', 'Target', 'correlation')"
   ]
  },
  {
   "cell_type": "code",
   "execution_count": 531,
   "id": "dbb19653-a67b-4c21-b10d-3bcc9667532d",
   "metadata": {},
   "outputs": [],
   "source": [
    "### Adjust format and extract certain columns"
   ]
  },
  {
   "cell_type": "code",
   "execution_count": 532,
   "id": "d99fd456-355e-40ad-9c1f-fcc15088ec1f",
   "metadata": {},
   "outputs": [],
   "source": [
    "ligand_target_correlations$Target_Gene = str_replace(ligand_target_correlations$Target, '.*_0_', '')"
   ]
  },
  {
   "cell_type": "code",
   "execution_count": 533,
   "id": "345aa6c1-90b5-447c-a0e8-2cf6f6c1701b",
   "metadata": {},
   "outputs": [],
   "source": [
    "ligand_target_correlations$Target_Gene = str_replace(ligand_target_correlations$Target_Gene, '.*__', '')"
   ]
  },
  {
   "cell_type": "code",
   "execution_count": 534,
   "id": "12bd9b23-45c6-47de-bf05-d845c1959994",
   "metadata": {},
   "outputs": [],
   "source": [
    "ligand_target_correlations$Ligand_Gene = str_replace(ligand_target_correlations$Ligand, '.*_0_', '')"
   ]
  },
  {
   "cell_type": "code",
   "execution_count": 535,
   "id": "429f3bf9-d4cb-497d-ab13-380473e818e3",
   "metadata": {},
   "outputs": [],
   "source": [
    "ligand_target_correlations$Ligand_Gene = str_replace(ligand_target_correlations$Ligand_Gene, '.*__', '')"
   ]
  },
  {
   "cell_type": "code",
   "execution_count": 536,
   "id": "5dc6497b-6389-4f82-bfdc-bafe74421b29",
   "metadata": {},
   "outputs": [],
   "source": [
    "ligand_target_correlations$Target_Type = str_replace(ligand_target_correlations$Target, '_0_.*', '')"
   ]
  },
  {
   "cell_type": "code",
   "execution_count": 537,
   "id": "e28db9c1-7f65-443b-9eae-35c4a5b2325b",
   "metadata": {},
   "outputs": [],
   "source": [
    "ligand_target_correlations$Target_Type[ligand_target_correlations$Target_Type == 'single_cell']  = str_replace(ligand_target_correlations$Target[ligand_target_correlations$Target_Type == 'single_cell'] , '__.*', '')"
   ]
  },
  {
   "cell_type": "code",
   "execution_count": 538,
   "id": "49e1e65e-9f94-4255-8a65-75e55e27120c",
   "metadata": {},
   "outputs": [],
   "source": [
    "###  Adapt target gene format for proteomics\n",
    "ligand_target_correlations$Target_Gene[ligand_target_correlations$Target_Type == 'proteomics'] = str_replace(ligand_target_correlations$Target_Gene[ligand_target_correlations$Target_Type == 'proteomics'], '_.*', '')\n",
    "ligand_target_correlations$Ligand_Gene[ligand_target_correlations$Ligand_Type == 'proteomics'] = str_replace(ligand_target_correlations$Ligand_Gene[ligand_target_correlations$Ligand_Type == 'proteomics'], '_.*', '')"
   ]
  },
  {
   "cell_type": "code",
   "execution_count": 539,
   "id": "f93e38f2-6b42-4968-8986-b41ae12195b5",
   "metadata": {},
   "outputs": [],
   "source": [
    "ligand_target_correlations$Ligand_Type = str_replace(ligand_target_correlations$Ligand, '_0_.*', '')"
   ]
  },
  {
   "cell_type": "code",
   "execution_count": 540,
   "id": "3c4c5166-477f-451a-a631-cc8703201ee3",
   "metadata": {},
   "outputs": [],
   "source": [
    "ligand_target_correlations$Ligand_Type[ligand_target_correlations$Ligand_Type == 'single_cell']  = str_replace(ligand_target_correlations$Ligand[ligand_target_correlations$Ligand_Type == 'single_cell'] , '__.*', '')"
   ]
  },
  {
   "cell_type": "code",
   "execution_count": 541,
   "id": "62fee583-2df2-4bbf-83d9-a1d86b1d02c1",
   "metadata": {},
   "outputs": [
    {
     "data": {
      "text/html": [
       "<style>\n",
       ".list-inline {list-style: none; margin:0; padding: 0}\n",
       ".list-inline>li {display: inline-block}\n",
       ".list-inline>li:not(:last-child)::after {content: \"\\00b7\"; padding: 0 .5ex}\n",
       "</style>\n",
       "<ol class=list-inline><li>cytokine_0_BCA1__CXCL13</li><li>cytokine_0_CTACK__CCL27</li><li>cytokine_0_EGF__EGF</li><li>cytokine_0_ENA78__CXCL5</li><li>cytokine_0_Eotaxin3__CCL26</li><li>cytokine_0_FGF2__FGF2</li></ol>\n",
       "\n",
       "<details>\n",
       "\t<summary style=display:list-item;cursor:pointer>\n",
       "\t\t<strong>Levels</strong>:\n",
       "\t</summary>\n",
       "\t<style>\n",
       "\t.list-inline {list-style: none; margin:0; padding: 0}\n",
       "\t.list-inline>li {display: inline-block}\n",
       "\t.list-inline>li:not(:last-child)::after {content: \"\\00b7\"; padding: 0 .5ex}\n",
       "\t</style>\n",
       "\t<ol class=list-inline><li>'cytokine_0_BCA1__CXCL13'</li><li>'cytokine_0_CTACK__CCL27'</li><li>'cytokine_0_EGF__EGF'</li><li>'cytokine_0_ENA78__CXCL5'</li><li>'cytokine_0_Eotaxin3__CCL26'</li><li>'cytokine_0_FGF2__FGF2'</li><li>'cytokine_0_Fractalkine__CX3CL1'</li><li>'cytokine_0_GCSF__CSF3'</li><li>'cytokine_0_GMCSF__CSF2'</li><li>'cytokine_0_I309__CCL1'</li><li>'cytokine_0_IFNalpha2__IFNA2'</li><li>'cytokine_0_IFNgamma__IFNG'</li><li>'cytokine_0_IL10__IL10'</li><li>'cytokine_0_IL12p70__IL12A'</li><li>'cytokine_0_IL13__IL13'</li><li>'cytokine_0_IL15__IL15'</li><li>'cytokine_0_IL17A__IL17A'</li><li>'cytokine_0_IL17E_IL25__IL25'</li><li>'cytokine_0_IL17F__IL17F'</li><li>'cytokine_0_IL1alpha__IL1A'</li><li>'cytokine_0_IL1beta__IL1B'</li><li>'cytokine_0_IL1RA__IL1RN'</li><li>'cytokine_0_IL2__IL2'</li><li>'cytokine_0_IL22__IL22'</li><li>'cytokine_0_IL27__IL27'</li><li>'cytokine_0_IL4__IL4'</li><li>'cytokine_0_IL5__IL5'</li><li>'cytokine_0_IL6__IL6'</li><li>'cytokine_0_IL7__IL7'</li><li>'cytokine_0_IL9__IL9'</li><li>'cytokine_0_IP10__CXCL10'</li><li>'cytokine_0_LIF__LIF'</li><li>'cytokine_0_MCP1__CCL2'</li><li>'cytokine_0_MCP2__CCL8'</li><li>'cytokine_0_MCP3__CCL7'</li><li>'cytokine_0_MCP4__CCL13'</li><li>'cytokine_0_MCSF__CSF1'</li><li>'cytokine_0_MDC__CCL22'</li><li>'cytokine_0_MIG_CXCL9__CXCL9'</li><li>'cytokine_0_MIP1alpha__CCL3'</li><li>'cytokine_0_MIP1beta__CCL4'</li><li>'cytokine_0_MIP1delta__CCL15'</li><li>'cytokine_0_RANTES__CCL5'</li><li>'cytokine_0_SCF__KITLG'</li><li>'cytokine_0_SDF1alpha_beta__CXCL12'</li><li>'cytokine_0_TARC__CCL17'</li><li>'cytokine_0_TNFalpha__TNF'</li><li>'cytokine_0_TNFbeta__LTA'</li><li>'cytokine_0_VEGFA__VEGFA'</li><li>'cytokine_0_X6CKine__CCL21'</li><li>'neutrophil_0_ADM'</li><li>'neutrophil_0_FBRS'</li><li>'neutrophil_0_GRN'</li><li>'neutrophil_0_HMGB1'</li><li>'neutrophil_0_HMGB2'</li><li>'neutrophil_0_IL16'</li><li>'neutrophil_0_MMP9'</li><li>'neutrophil_0_PGLYRP1'</li><li>'neutrophil_0_RTN4'</li><li>'neutrophil_0_SECTM1'</li><li>'neutrophil_0_TGFB1'</li><li>'neutrophil_0_TIMP1'</li><li>'neutrophil_0_TNFSF13B'</li><li>'proteomics_0_A2M_P01023'</li><li>'proteomics_0_ADIPOQ_Q15848'</li><li>'proteomics_0_AGT_P01019'</li><li>'proteomics_0_APOA1_P02647'</li><li>'proteomics_0_APOB_P04114'</li><li>'proteomics_0_APOE_P02649'</li><li>'proteomics_0_C3_M0R1Q1'</li><li>'proteomics_0_C3_P01024'</li><li>'proteomics_0_C5_P01031'</li><li>'proteomics_0_CAMP_J3KNB4'</li><li>'proteomics_0_CDH5_P33151'</li><li>'proteomics_0_CEACAM1_P13688'</li><li>'proteomics_0_CFH_P08603'</li><li>'proteomics_0_COL18A1_P39060'</li><li>'proteomics_0_COMP_G3XAP6'</li><li>'proteomics_0_DSG2_Q14126'</li><li>'proteomics_0_F2_P00734'</li><li>'proteomics_0_F9_P00740'</li><li>'proteomics_0_FGA_P02671'</li><li>'proteomics_0_FN1_H0Y4K8'</li><li>'proteomics_0_FN1_P02751'</li><li>'proteomics_0_GSTP1_P09211'</li><li>'proteomics_0_HSP90B1_P14625'</li><li>'proteomics_0_HSPG2_P98160'</li><li>'proteomics_0_ICAM1_P05362'</li><li>'proteomics_0_ICAM2_J3QQR8'</li><li>'proteomics_0_IGF2_P01344'</li><li>'proteomics_0_KNG1_P01042'</li><li>'proteomics_0_KNG1_P01042.2'</li><li>'proteomics_0_LTF_E7EQB2'</li><li>'proteomics_0_MMP9_P14780'</li><li>'proteomics_0_NID1_P14543'</li><li>'proteomics_0_PF4_P02776'</li><li>'proteomics_0_PLG_P00747'</li><li>'proteomics_0_PPBP_P02775'</li><li>'proteomics_0_SAA1_P0DJI8'</li><li>'proteomics_0_SELL_P14151'</li><li>'proteomics_0_SERPINA1_A0A024R6I7'</li><li>'proteomics_0_SERPINA1_P01009'</li><li>'proteomics_0_SERPINC1_P01008'</li><li>'proteomics_0_SERPING1_P05155'</li><li>'proteomics_0_TF_P02787'</li><li>'proteomics_0_THBS1_P07996'</li><li>'proteomics_0_TIMP1_P01033'</li><li>'proteomics_0_TTR_P02766'</li><li>'proteomics_0_VTN_P04004'</li><li>'single_cell_0_X0_T.cell.CD4__ANXA1'</li><li>'single_cell_0_X0_T.cell.CD4__ARF1'</li><li>'single_cell_0_X0_T.cell.CD4__CALM1'</li><li>'single_cell_0_X0_T.cell.CD4__CALR'</li><li>'single_cell_0_X0_T.cell.CD4__CD2'</li><li>'single_cell_0_X0_T.cell.CD4__HMGB1'</li><li>'single_cell_0_X0_T.cell.CD4__HMGB2'</li><li>'single_cell_0_X0_T.cell.CD4__HSP90B1'</li><li>'single_cell_0_X0_T.cell.CD4__ICAM3'</li><li>'single_cell_0_X0_T.cell.CD4__LTB'</li><li>'single_cell_0_X0_T.cell.CD4__MIF'</li><li>'single_cell_0_X0_T.cell.CD4__PTPRC'</li><li>'single_cell_0_X0_T.cell.CD4__SELL'</li><li>'single_cell_0_X1_T.cell.CD8__ANXA1'</li><li>'single_cell_0_X1_T.cell.CD8__ARF1'</li><li>'single_cell_0_X1_T.cell.CD8__CALM1'</li><li>'single_cell_0_X1_T.cell.CD8__CALR'</li><li>'single_cell_0_X1_T.cell.CD8__CCL4'</li><li>'single_cell_0_X1_T.cell.CD8__CCL5'</li><li>'single_cell_0_X1_T.cell.CD8__CD2'</li><li>'single_cell_0_X1_T.cell.CD8__GSTP1'</li><li>'single_cell_0_X1_T.cell.CD8__GZMB'</li><li>'single_cell_0_X1_T.cell.CD8__HMGB1'</li><li>'single_cell_0_X1_T.cell.CD8__HMGB2'</li><li>'single_cell_0_X1_T.cell.CD8__HSP90B1'</li><li>'single_cell_0_X1_T.cell.CD8__ICAM3'</li><li>'single_cell_0_X1_T.cell.CD8__LTB'</li><li>'single_cell_0_X1_T.cell.CD8__PTPRC'</li><li>'single_cell_0_X1_T.cell.CD8__TGFB1'</li><li>'single_cell_0_X10_B.cell__ANXA1'</li><li>'single_cell_0_X10_B.cell__ARF1'</li><li>'single_cell_0_X10_B.cell__CALM1'</li><li>'single_cell_0_X10_B.cell__CALR'</li><li>'single_cell_0_X10_B.cell__CD2'</li><li>'single_cell_0_X10_B.cell__GSTP1'</li><li>'single_cell_0_X10_B.cell__HMGB1'</li><li>'single_cell_0_X10_B.cell__HMGB2'</li><li>'single_cell_0_X10_B.cell__HSP90B1'</li><li>'single_cell_0_X10_B.cell__ICAM3'</li><li>'single_cell_0_X10_B.cell__LTB'</li><li>'single_cell_0_X10_B.cell__PTPRC'</li><li>'single_cell_0_X10_B.cell__SELL'</li><li>'single_cell_0_X10_B.cell__TGFB1'</li><li>'single_cell_0_X11_T.cell.CD4__ANXA1'</li><li>'single_cell_0_X11_T.cell.CD4__ARF1'</li><li>'single_cell_0_X11_T.cell.CD4__CALM1'</li><li>'single_cell_0_X11_T.cell.CD4__CALR'</li><li>'single_cell_0_X11_T.cell.CD4__CD2'</li><li>'single_cell_0_X11_T.cell.CD4__HMGB1'</li><li>'single_cell_0_X11_T.cell.CD4__HMGB2'</li><li>'single_cell_0_X11_T.cell.CD4__HSP90B1'</li><li>'single_cell_0_X11_T.cell.CD4__ICAM3'</li><li>'single_cell_0_X11_T.cell.CD4__LTB'</li><li>'single_cell_0_X11_T.cell.CD4__PTPRC'</li><li>'single_cell_0_X11_T.cell.CD4__SELL'</li><li>'single_cell_0_X11_T.cell.CD4__TGFB1'</li><li>'single_cell_0_X12_Monocytes...CD16_FCGR3A__ANXA1'</li><li>'single_cell_0_X12_Monocytes...CD16_FCGR3A__ARF1'</li><li>'single_cell_0_X12_Monocytes...CD16_FCGR3A__CALM1'</li><li>'single_cell_0_X12_Monocytes...CD16_FCGR3A__CALR'</li><li>'single_cell_0_X12_Monocytes...CD16_FCGR3A__GSTP1'</li><li>'single_cell_0_X12_Monocytes...CD16_FCGR3A__HMGB1'</li><li>'single_cell_0_X12_Monocytes...CD16_FCGR3A__HMGB2'</li><li>'single_cell_0_X12_Monocytes...CD16_FCGR3A__HSP90B1'</li><li>'single_cell_0_X12_Monocytes...CD16_FCGR3A__ICAM3'</li><li>'single_cell_0_X12_Monocytes...CD16_FCGR3A__IL1B'</li><li>'single_cell_0_X12_Monocytes...CD16_FCGR3A__LGALS3'</li><li>'single_cell_0_X12_Monocytes...CD16_FCGR3A__LTB'</li><li>'single_cell_0_X12_Monocytes...CD16_FCGR3A__NAMPT'</li><li>'single_cell_0_X12_Monocytes...CD16_FCGR3A__PECAM1'</li><li>'single_cell_0_X12_Monocytes...CD16_FCGR3A__PSAP'</li><li>'single_cell_0_X12_Monocytes...CD16_FCGR3A__PTPRC'</li><li>'single_cell_0_X12_Monocytes...CD16_FCGR3A__RTN4'</li><li>'single_cell_0_X12_Monocytes...CD16_FCGR3A__SERPINA1'</li><li>'single_cell_0_X12_Monocytes...CD16_FCGR3A__TGFB1'</li><li>'single_cell_0_X12_Monocytes...CD16_FCGR3A__TIMP1'</li><li>'single_cell_0_X13_Dendritic__ANXA1'</li><li>'single_cell_0_X13_Dendritic__CALM1'</li><li>'single_cell_0_X13_Dendritic__CALR'</li><li>'single_cell_0_X13_Dendritic__GRN'</li><li>'single_cell_0_X13_Dendritic__GSTP1'</li><li>'single_cell_0_X13_Dendritic__HMGB1'</li><li>'single_cell_0_X13_Dendritic__HSP90B1'</li><li>'single_cell_0_X13_Dendritic__NAMPT'</li><li>'single_cell_0_X13_Dendritic__PSAP'</li><li>'single_cell_0_X13_Dendritic__PTPRC'</li><li>'single_cell_0_X13_Dendritic__RTN4'</li><li>'single_cell_0_X13_Dendritic__TIMP1'</li><li>'single_cell_0_X2_T.cell.CD4__ANXA1'</li><li>'single_cell_0_X2_T.cell.CD4__ARF1'</li><li>'single_cell_0_X2_T.cell.CD4__CALM1'</li><li>'single_cell_0_X2_T.cell.CD4__CALR'</li><li>'single_cell_0_X2_T.cell.CD4__CD2'</li><li>'single_cell_0_X2_T.cell.CD4__HMGB1'</li><li>'single_cell_0_X2_T.cell.CD4__HMGB2'</li><li>'single_cell_0_X2_T.cell.CD4__HSP90B1'</li><li>'single_cell_0_X2_T.cell.CD4__LTB'</li><li>'single_cell_0_X2_T.cell.CD4__PTPRC'</li><li>'single_cell_0_X2_T.cell.CD4__SELL'</li><li>'single_cell_0_X3_NK__ANXA1'</li><li>'single_cell_0_X3_NK__ARF1'</li><li>'single_cell_0_X3_NK__CALM1'</li><li>'single_cell_0_X3_NK__CALR'</li><li>'single_cell_0_X3_NK__CCL4'</li><li>'single_cell_0_X3_NK__CCL5'</li><li>'single_cell_0_X3_NK__GSTP1'</li><li>'single_cell_0_X3_NK__GZMB'</li><li>'single_cell_0_X3_NK__HMGB1'</li><li>'single_cell_0_X3_NK__HMGB2'</li><li>'single_cell_0_X3_NK__HSP90B1'</li><li>'single_cell_0_X3_NK__PTPRC'</li><li>'single_cell_0_X3_NK__TGFB1'</li><li>'single_cell_0_X4_Monocytes...CD14__ADAM17'</li><li>'single_cell_0_X4_Monocytes...CD14__AIMP1'</li><li>'single_cell_0_X4_Monocytes...CD14__ALOX5AP'</li><li>'single_cell_0_X4_Monocytes...CD14__ANXA1'</li><li>'single_cell_0_X4_Monocytes...CD14__ARF1'</li><li>'single_cell_0_X4_Monocytes...CD14__CALM1'</li><li>'single_cell_0_X4_Monocytes...CD14__CALR'</li><li>'single_cell_0_X4_Monocytes...CD14__CCL5'</li><li>'single_cell_0_X4_Monocytes...CD14__COPA'</li><li>'single_cell_0_X4_Monocytes...CD14__CXCL2'</li><li>'single_cell_0_X4_Monocytes...CD14__GRN'</li><li>'single_cell_0_X4_Monocytes...CD14__GSTP1'</li><li>'single_cell_0_X4_Monocytes...CD14__HDGF'</li><li>'single_cell_0_X4_Monocytes...CD14__HMGB1'</li><li>'single_cell_0_X4_Monocytes...CD14__HMGB2'</li><li>'single_cell_0_X4_Monocytes...CD14__HSP90B1'</li><li>'single_cell_0_X4_Monocytes...CD14__ICAM1'</li><li>'single_cell_0_X4_Monocytes...CD14__ICAM3'</li><li>'single_cell_0_X4_Monocytes...CD14__IL1B'</li><li>'single_cell_0_X4_Monocytes...CD14__LGALS3'</li><li>'single_cell_0_X4_Monocytes...CD14__LRPAP1'</li><li>'single_cell_0_X4_Monocytes...CD14__LTB'</li><li>'single_cell_0_X4_Monocytes...CD14__MIF'</li><li>'single_cell_0_X4_Monocytes...CD14__PECAM1'</li><li>'single_cell_0_X4_Monocytes...CD14__PSAP'</li><li>'single_cell_0_X4_Monocytes...CD14__PSEN1'</li><li>'single_cell_0_X4_Monocytes...CD14__PTPRC'</li><li>'single_cell_0_X4_Monocytes...CD14__RTN4'</li><li>'single_cell_0_X4_Monocytes...CD14__SERPINA1'</li><li>'single_cell_0_X4_Monocytes...CD14__TGFB1'</li><li>'single_cell_0_X4_Monocytes...CD14__TIMP1'</li><li>'single_cell_0_X4_Monocytes...CD14__TNFSF10'</li><li>'single_cell_0_X4_Monocytes...CD14__TNFSF13B'</li><li>'single_cell_0_X5_T.cell.CD4__ANXA1'</li><li>'single_cell_0_X5_T.cell.CD4__CALM1'</li><li>'single_cell_0_X5_T.cell.CD4__CD2'</li><li>'single_cell_0_X5_T.cell.CD4__HMGB1'</li><li>'single_cell_0_X5_T.cell.CD4__HMGB2'</li><li>'single_cell_0_X5_T.cell.CD4__HSP90B1'</li><li>'single_cell_0_X5_T.cell.CD4__ICAM3'</li><li>'single_cell_0_X5_T.cell.CD4__LTB'</li><li>'single_cell_0_X5_T.cell.CD4__PTPRC'</li><li>'single_cell_0_X5_T.cell.CD4__SELL'</li><li>'single_cell_0_X6_Monocytes...CD14__ADAM17'</li><li>'single_cell_0_X6_Monocytes...CD14__ANXA1'</li><li>'single_cell_0_X6_Monocytes...CD14__ARF1'</li><li>'single_cell_0_X6_Monocytes...CD14__CALM1'</li><li>'single_cell_0_X6_Monocytes...CD14__CALR'</li><li>'single_cell_0_X6_Monocytes...CD14__CXCL2'</li><li>'single_cell_0_X6_Monocytes...CD14__GRN'</li><li>'single_cell_0_X6_Monocytes...CD14__GSTP1'</li><li>'single_cell_0_X6_Monocytes...CD14__HMGB1'</li><li>'single_cell_0_X6_Monocytes...CD14__HMGB2'</li><li>'single_cell_0_X6_Monocytes...CD14__HSP90B1'</li><li>'single_cell_0_X6_Monocytes...CD14__ICAM1'</li><li>'single_cell_0_X6_Monocytes...CD14__ICAM3'</li><li>'single_cell_0_X6_Monocytes...CD14__IL1B'</li><li>'single_cell_0_X6_Monocytes...CD14__LGALS3'</li><li>'single_cell_0_X6_Monocytes...CD14__LRPAP1'</li><li>'single_cell_0_X6_Monocytes...CD14__PECAM1'</li><li>'single_cell_0_X6_Monocytes...CD14__PSAP'</li><li>'single_cell_0_X6_Monocytes...CD14__PSEN1'</li><li>'single_cell_0_X6_Monocytes...CD14__PTPRC'</li><li>'single_cell_0_X6_Monocytes...CD14__RTN4'</li><li>'single_cell_0_X6_Monocytes...CD14__SERPINA1'</li><li>'single_cell_0_X6_Monocytes...CD14__TGFB1'</li><li>'single_cell_0_X6_Monocytes...CD14__THBS1'</li><li>'single_cell_0_X6_Monocytes...CD14__TIMP1'</li><li>'single_cell_0_X6_Monocytes...CD14__TNFSF10'</li><li>'single_cell_0_X6_Monocytes...CD14__TNFSF13B'</li><li>'single_cell_0_X7_Monocytes...CD14__ANXA1'</li><li>'single_cell_0_X7_Monocytes...CD14__ARF1'</li><li>'single_cell_0_X7_Monocytes...CD14__CALM1'</li><li>'single_cell_0_X7_Monocytes...CD14__CALR'</li><li>'single_cell_0_X7_Monocytes...CD14__GRN'</li><li>'single_cell_0_X7_Monocytes...CD14__GSTP1'</li><li>'single_cell_0_X7_Monocytes...CD14__HMGB1'</li><li>'single_cell_0_X7_Monocytes...CD14__HMGB2'</li><li>'single_cell_0_X7_Monocytes...CD14__HSP90B1'</li><li>'single_cell_0_X7_Monocytes...CD14__ICAM3'</li><li>'single_cell_0_X7_Monocytes...CD14__IL1B'</li><li>'single_cell_0_X7_Monocytes...CD14__LGALS3'</li><li>'single_cell_0_X7_Monocytes...CD14__LRPAP1'</li><li>'single_cell_0_X7_Monocytes...CD14__PECAM1'</li><li>'single_cell_0_X7_Monocytes...CD14__PSAP'</li><li>'single_cell_0_X7_Monocytes...CD14__PTPRC'</li><li>'single_cell_0_X7_Monocytes...CD14__RTN4'</li><li>'single_cell_0_X7_Monocytes...CD14__SERPINA1'</li><li>'single_cell_0_X7_Monocytes...CD14__TGFB1'</li><li>'single_cell_0_X7_Monocytes...CD14__TIMP1'</li><li>'single_cell_0_X7_Monocytes...CD14__TNFSF10'</li><li>'single_cell_0_X7_Monocytes...CD14__TNFSF13B'</li><li>'single_cell_0_X8_B.cell__CALM1'</li><li>'single_cell_0_X8_B.cell__CALR'</li><li>'single_cell_0_X8_B.cell__HMGB1'</li><li>'single_cell_0_X8_B.cell__HMGB2'</li><li>'single_cell_0_X8_B.cell__HSP90B1'</li><li>'single_cell_0_X8_B.cell__LTB'</li><li>'single_cell_0_X8_B.cell__PTPRC'</li><li>'single_cell_0_X8_B.cell__SELL'</li><li>'single_cell_0_X9_Monocytes...CD16_FCGR3A__ANXA1'</li><li>'single_cell_0_X9_Monocytes...CD16_FCGR3A__ARF1'</li><li>'single_cell_0_X9_Monocytes...CD16_FCGR3A__CALM1'</li><li>'single_cell_0_X9_Monocytes...CD16_FCGR3A__CALR'</li><li>'single_cell_0_X9_Monocytes...CD16_FCGR3A__CXCL16'</li><li>'single_cell_0_X9_Monocytes...CD16_FCGR3A__GRN'</li><li>'single_cell_0_X9_Monocytes...CD16_FCGR3A__GSTP1'</li><li>'single_cell_0_X9_Monocytes...CD16_FCGR3A__HMGB1'</li><li>'single_cell_0_X9_Monocytes...CD16_FCGR3A__HMGB2'</li><li>'single_cell_0_X9_Monocytes...CD16_FCGR3A__HSP90B1'</li><li>'single_cell_0_X9_Monocytes...CD16_FCGR3A__ICAM3'</li><li>'single_cell_0_X9_Monocytes...CD16_FCGR3A__IL1B'</li><li>'single_cell_0_X9_Monocytes...CD16_FCGR3A__LGALS3'</li><li>'single_cell_0_X9_Monocytes...CD16_FCGR3A__NAMPT'</li><li>'single_cell_0_X9_Monocytes...CD16_FCGR3A__PECAM1'</li><li>'single_cell_0_X9_Monocytes...CD16_FCGR3A__PSAP'</li><li>'single_cell_0_X9_Monocytes...CD16_FCGR3A__PTPRC'</li><li>'single_cell_0_X9_Monocytes...CD16_FCGR3A__RTN4'</li><li>'single_cell_0_X9_Monocytes...CD16_FCGR3A__SERPINA1'</li><li>'single_cell_0_X9_Monocytes...CD16_FCGR3A__TGFB1'</li><li>'single_cell_0_X9_Monocytes...CD16_FCGR3A__TIMP1'</li><li>'single_cell_0_X9_Monocytes...CD16_FCGR3A__TNFSF10'</li><li>'single_cell_0_X9_Monocytes...CD16_FCGR3A__TNFSF13B'</li></ol>\n",
       "</details>"
      ],
      "text/latex": [
       "\\begin{enumerate*}\n",
       "\\item cytokine\\_0\\_BCA1\\_\\_CXCL13\n",
       "\\item cytokine\\_0\\_CTACK\\_\\_CCL27\n",
       "\\item cytokine\\_0\\_EGF\\_\\_EGF\n",
       "\\item cytokine\\_0\\_ENA78\\_\\_CXCL5\n",
       "\\item cytokine\\_0\\_Eotaxin3\\_\\_CCL26\n",
       "\\item cytokine\\_0\\_FGF2\\_\\_FGF2\n",
       "\\end{enumerate*}\n",
       "\n",
       "\\emph{Levels}: \\begin{enumerate*}\n",
       "\\item 'cytokine\\_0\\_BCA1\\_\\_CXCL13'\n",
       "\\item 'cytokine\\_0\\_CTACK\\_\\_CCL27'\n",
       "\\item 'cytokine\\_0\\_EGF\\_\\_EGF'\n",
       "\\item 'cytokine\\_0\\_ENA78\\_\\_CXCL5'\n",
       "\\item 'cytokine\\_0\\_Eotaxin3\\_\\_CCL26'\n",
       "\\item 'cytokine\\_0\\_FGF2\\_\\_FGF2'\n",
       "\\item 'cytokine\\_0\\_Fractalkine\\_\\_CX3CL1'\n",
       "\\item 'cytokine\\_0\\_GCSF\\_\\_CSF3'\n",
       "\\item 'cytokine\\_0\\_GMCSF\\_\\_CSF2'\n",
       "\\item 'cytokine\\_0\\_I309\\_\\_CCL1'\n",
       "\\item 'cytokine\\_0\\_IFNalpha2\\_\\_IFNA2'\n",
       "\\item 'cytokine\\_0\\_IFNgamma\\_\\_IFNG'\n",
       "\\item 'cytokine\\_0\\_IL10\\_\\_IL10'\n",
       "\\item 'cytokine\\_0\\_IL12p70\\_\\_IL12A'\n",
       "\\item 'cytokine\\_0\\_IL13\\_\\_IL13'\n",
       "\\item 'cytokine\\_0\\_IL15\\_\\_IL15'\n",
       "\\item 'cytokine\\_0\\_IL17A\\_\\_IL17A'\n",
       "\\item 'cytokine\\_0\\_IL17E\\_IL25\\_\\_IL25'\n",
       "\\item 'cytokine\\_0\\_IL17F\\_\\_IL17F'\n",
       "\\item 'cytokine\\_0\\_IL1alpha\\_\\_IL1A'\n",
       "\\item 'cytokine\\_0\\_IL1beta\\_\\_IL1B'\n",
       "\\item 'cytokine\\_0\\_IL1RA\\_\\_IL1RN'\n",
       "\\item 'cytokine\\_0\\_IL2\\_\\_IL2'\n",
       "\\item 'cytokine\\_0\\_IL22\\_\\_IL22'\n",
       "\\item 'cytokine\\_0\\_IL27\\_\\_IL27'\n",
       "\\item 'cytokine\\_0\\_IL4\\_\\_IL4'\n",
       "\\item 'cytokine\\_0\\_IL5\\_\\_IL5'\n",
       "\\item 'cytokine\\_0\\_IL6\\_\\_IL6'\n",
       "\\item 'cytokine\\_0\\_IL7\\_\\_IL7'\n",
       "\\item 'cytokine\\_0\\_IL9\\_\\_IL9'\n",
       "\\item 'cytokine\\_0\\_IP10\\_\\_CXCL10'\n",
       "\\item 'cytokine\\_0\\_LIF\\_\\_LIF'\n",
       "\\item 'cytokine\\_0\\_MCP1\\_\\_CCL2'\n",
       "\\item 'cytokine\\_0\\_MCP2\\_\\_CCL8'\n",
       "\\item 'cytokine\\_0\\_MCP3\\_\\_CCL7'\n",
       "\\item 'cytokine\\_0\\_MCP4\\_\\_CCL13'\n",
       "\\item 'cytokine\\_0\\_MCSF\\_\\_CSF1'\n",
       "\\item 'cytokine\\_0\\_MDC\\_\\_CCL22'\n",
       "\\item 'cytokine\\_0\\_MIG\\_CXCL9\\_\\_CXCL9'\n",
       "\\item 'cytokine\\_0\\_MIP1alpha\\_\\_CCL3'\n",
       "\\item 'cytokine\\_0\\_MIP1beta\\_\\_CCL4'\n",
       "\\item 'cytokine\\_0\\_MIP1delta\\_\\_CCL15'\n",
       "\\item 'cytokine\\_0\\_RANTES\\_\\_CCL5'\n",
       "\\item 'cytokine\\_0\\_SCF\\_\\_KITLG'\n",
       "\\item 'cytokine\\_0\\_SDF1alpha\\_beta\\_\\_CXCL12'\n",
       "\\item 'cytokine\\_0\\_TARC\\_\\_CCL17'\n",
       "\\item 'cytokine\\_0\\_TNFalpha\\_\\_TNF'\n",
       "\\item 'cytokine\\_0\\_TNFbeta\\_\\_LTA'\n",
       "\\item 'cytokine\\_0\\_VEGFA\\_\\_VEGFA'\n",
       "\\item 'cytokine\\_0\\_X6CKine\\_\\_CCL21'\n",
       "\\item 'neutrophil\\_0\\_ADM'\n",
       "\\item 'neutrophil\\_0\\_FBRS'\n",
       "\\item 'neutrophil\\_0\\_GRN'\n",
       "\\item 'neutrophil\\_0\\_HMGB1'\n",
       "\\item 'neutrophil\\_0\\_HMGB2'\n",
       "\\item 'neutrophil\\_0\\_IL16'\n",
       "\\item 'neutrophil\\_0\\_MMP9'\n",
       "\\item 'neutrophil\\_0\\_PGLYRP1'\n",
       "\\item 'neutrophil\\_0\\_RTN4'\n",
       "\\item 'neutrophil\\_0\\_SECTM1'\n",
       "\\item 'neutrophil\\_0\\_TGFB1'\n",
       "\\item 'neutrophil\\_0\\_TIMP1'\n",
       "\\item 'neutrophil\\_0\\_TNFSF13B'\n",
       "\\item 'proteomics\\_0\\_A2M\\_P01023'\n",
       "\\item 'proteomics\\_0\\_ADIPOQ\\_Q15848'\n",
       "\\item 'proteomics\\_0\\_AGT\\_P01019'\n",
       "\\item 'proteomics\\_0\\_APOA1\\_P02647'\n",
       "\\item 'proteomics\\_0\\_APOB\\_P04114'\n",
       "\\item 'proteomics\\_0\\_APOE\\_P02649'\n",
       "\\item 'proteomics\\_0\\_C3\\_M0R1Q1'\n",
       "\\item 'proteomics\\_0\\_C3\\_P01024'\n",
       "\\item 'proteomics\\_0\\_C5\\_P01031'\n",
       "\\item 'proteomics\\_0\\_CAMP\\_J3KNB4'\n",
       "\\item 'proteomics\\_0\\_CDH5\\_P33151'\n",
       "\\item 'proteomics\\_0\\_CEACAM1\\_P13688'\n",
       "\\item 'proteomics\\_0\\_CFH\\_P08603'\n",
       "\\item 'proteomics\\_0\\_COL18A1\\_P39060'\n",
       "\\item 'proteomics\\_0\\_COMP\\_G3XAP6'\n",
       "\\item 'proteomics\\_0\\_DSG2\\_Q14126'\n",
       "\\item 'proteomics\\_0\\_F2\\_P00734'\n",
       "\\item 'proteomics\\_0\\_F9\\_P00740'\n",
       "\\item 'proteomics\\_0\\_FGA\\_P02671'\n",
       "\\item 'proteomics\\_0\\_FN1\\_H0Y4K8'\n",
       "\\item 'proteomics\\_0\\_FN1\\_P02751'\n",
       "\\item 'proteomics\\_0\\_GSTP1\\_P09211'\n",
       "\\item 'proteomics\\_0\\_HSP90B1\\_P14625'\n",
       "\\item 'proteomics\\_0\\_HSPG2\\_P98160'\n",
       "\\item 'proteomics\\_0\\_ICAM1\\_P05362'\n",
       "\\item 'proteomics\\_0\\_ICAM2\\_J3QQR8'\n",
       "\\item 'proteomics\\_0\\_IGF2\\_P01344'\n",
       "\\item 'proteomics\\_0\\_KNG1\\_P01042'\n",
       "\\item 'proteomics\\_0\\_KNG1\\_P01042.2'\n",
       "\\item 'proteomics\\_0\\_LTF\\_E7EQB2'\n",
       "\\item 'proteomics\\_0\\_MMP9\\_P14780'\n",
       "\\item 'proteomics\\_0\\_NID1\\_P14543'\n",
       "\\item 'proteomics\\_0\\_PF4\\_P02776'\n",
       "\\item 'proteomics\\_0\\_PLG\\_P00747'\n",
       "\\item 'proteomics\\_0\\_PPBP\\_P02775'\n",
       "\\item 'proteomics\\_0\\_SAA1\\_P0DJI8'\n",
       "\\item 'proteomics\\_0\\_SELL\\_P14151'\n",
       "\\item 'proteomics\\_0\\_SERPINA1\\_A0A024R6I7'\n",
       "\\item 'proteomics\\_0\\_SERPINA1\\_P01009'\n",
       "\\item 'proteomics\\_0\\_SERPINC1\\_P01008'\n",
       "\\item 'proteomics\\_0\\_SERPING1\\_P05155'\n",
       "\\item 'proteomics\\_0\\_TF\\_P02787'\n",
       "\\item 'proteomics\\_0\\_THBS1\\_P07996'\n",
       "\\item 'proteomics\\_0\\_TIMP1\\_P01033'\n",
       "\\item 'proteomics\\_0\\_TTR\\_P02766'\n",
       "\\item 'proteomics\\_0\\_VTN\\_P04004'\n",
       "\\item 'single\\_cell\\_0\\_X0\\_T.cell.CD4\\_\\_ANXA1'\n",
       "\\item 'single\\_cell\\_0\\_X0\\_T.cell.CD4\\_\\_ARF1'\n",
       "\\item 'single\\_cell\\_0\\_X0\\_T.cell.CD4\\_\\_CALM1'\n",
       "\\item 'single\\_cell\\_0\\_X0\\_T.cell.CD4\\_\\_CALR'\n",
       "\\item 'single\\_cell\\_0\\_X0\\_T.cell.CD4\\_\\_CD2'\n",
       "\\item 'single\\_cell\\_0\\_X0\\_T.cell.CD4\\_\\_HMGB1'\n",
       "\\item 'single\\_cell\\_0\\_X0\\_T.cell.CD4\\_\\_HMGB2'\n",
       "\\item 'single\\_cell\\_0\\_X0\\_T.cell.CD4\\_\\_HSP90B1'\n",
       "\\item 'single\\_cell\\_0\\_X0\\_T.cell.CD4\\_\\_ICAM3'\n",
       "\\item 'single\\_cell\\_0\\_X0\\_T.cell.CD4\\_\\_LTB'\n",
       "\\item 'single\\_cell\\_0\\_X0\\_T.cell.CD4\\_\\_MIF'\n",
       "\\item 'single\\_cell\\_0\\_X0\\_T.cell.CD4\\_\\_PTPRC'\n",
       "\\item 'single\\_cell\\_0\\_X0\\_T.cell.CD4\\_\\_SELL'\n",
       "\\item 'single\\_cell\\_0\\_X1\\_T.cell.CD8\\_\\_ANXA1'\n",
       "\\item 'single\\_cell\\_0\\_X1\\_T.cell.CD8\\_\\_ARF1'\n",
       "\\item 'single\\_cell\\_0\\_X1\\_T.cell.CD8\\_\\_CALM1'\n",
       "\\item 'single\\_cell\\_0\\_X1\\_T.cell.CD8\\_\\_CALR'\n",
       "\\item 'single\\_cell\\_0\\_X1\\_T.cell.CD8\\_\\_CCL4'\n",
       "\\item 'single\\_cell\\_0\\_X1\\_T.cell.CD8\\_\\_CCL5'\n",
       "\\item 'single\\_cell\\_0\\_X1\\_T.cell.CD8\\_\\_CD2'\n",
       "\\item 'single\\_cell\\_0\\_X1\\_T.cell.CD8\\_\\_GSTP1'\n",
       "\\item 'single\\_cell\\_0\\_X1\\_T.cell.CD8\\_\\_GZMB'\n",
       "\\item 'single\\_cell\\_0\\_X1\\_T.cell.CD8\\_\\_HMGB1'\n",
       "\\item 'single\\_cell\\_0\\_X1\\_T.cell.CD8\\_\\_HMGB2'\n",
       "\\item 'single\\_cell\\_0\\_X1\\_T.cell.CD8\\_\\_HSP90B1'\n",
       "\\item 'single\\_cell\\_0\\_X1\\_T.cell.CD8\\_\\_ICAM3'\n",
       "\\item 'single\\_cell\\_0\\_X1\\_T.cell.CD8\\_\\_LTB'\n",
       "\\item 'single\\_cell\\_0\\_X1\\_T.cell.CD8\\_\\_PTPRC'\n",
       "\\item 'single\\_cell\\_0\\_X1\\_T.cell.CD8\\_\\_TGFB1'\n",
       "\\item 'single\\_cell\\_0\\_X10\\_B.cell\\_\\_ANXA1'\n",
       "\\item 'single\\_cell\\_0\\_X10\\_B.cell\\_\\_ARF1'\n",
       "\\item 'single\\_cell\\_0\\_X10\\_B.cell\\_\\_CALM1'\n",
       "\\item 'single\\_cell\\_0\\_X10\\_B.cell\\_\\_CALR'\n",
       "\\item 'single\\_cell\\_0\\_X10\\_B.cell\\_\\_CD2'\n",
       "\\item 'single\\_cell\\_0\\_X10\\_B.cell\\_\\_GSTP1'\n",
       "\\item 'single\\_cell\\_0\\_X10\\_B.cell\\_\\_HMGB1'\n",
       "\\item 'single\\_cell\\_0\\_X10\\_B.cell\\_\\_HMGB2'\n",
       "\\item 'single\\_cell\\_0\\_X10\\_B.cell\\_\\_HSP90B1'\n",
       "\\item 'single\\_cell\\_0\\_X10\\_B.cell\\_\\_ICAM3'\n",
       "\\item 'single\\_cell\\_0\\_X10\\_B.cell\\_\\_LTB'\n",
       "\\item 'single\\_cell\\_0\\_X10\\_B.cell\\_\\_PTPRC'\n",
       "\\item 'single\\_cell\\_0\\_X10\\_B.cell\\_\\_SELL'\n",
       "\\item 'single\\_cell\\_0\\_X10\\_B.cell\\_\\_TGFB1'\n",
       "\\item 'single\\_cell\\_0\\_X11\\_T.cell.CD4\\_\\_ANXA1'\n",
       "\\item 'single\\_cell\\_0\\_X11\\_T.cell.CD4\\_\\_ARF1'\n",
       "\\item 'single\\_cell\\_0\\_X11\\_T.cell.CD4\\_\\_CALM1'\n",
       "\\item 'single\\_cell\\_0\\_X11\\_T.cell.CD4\\_\\_CALR'\n",
       "\\item 'single\\_cell\\_0\\_X11\\_T.cell.CD4\\_\\_CD2'\n",
       "\\item 'single\\_cell\\_0\\_X11\\_T.cell.CD4\\_\\_HMGB1'\n",
       "\\item 'single\\_cell\\_0\\_X11\\_T.cell.CD4\\_\\_HMGB2'\n",
       "\\item 'single\\_cell\\_0\\_X11\\_T.cell.CD4\\_\\_HSP90B1'\n",
       "\\item 'single\\_cell\\_0\\_X11\\_T.cell.CD4\\_\\_ICAM3'\n",
       "\\item 'single\\_cell\\_0\\_X11\\_T.cell.CD4\\_\\_LTB'\n",
       "\\item 'single\\_cell\\_0\\_X11\\_T.cell.CD4\\_\\_PTPRC'\n",
       "\\item 'single\\_cell\\_0\\_X11\\_T.cell.CD4\\_\\_SELL'\n",
       "\\item 'single\\_cell\\_0\\_X11\\_T.cell.CD4\\_\\_TGFB1'\n",
       "\\item 'single\\_cell\\_0\\_X12\\_Monocytes...CD16\\_FCGR3A\\_\\_ANXA1'\n",
       "\\item 'single\\_cell\\_0\\_X12\\_Monocytes...CD16\\_FCGR3A\\_\\_ARF1'\n",
       "\\item 'single\\_cell\\_0\\_X12\\_Monocytes...CD16\\_FCGR3A\\_\\_CALM1'\n",
       "\\item 'single\\_cell\\_0\\_X12\\_Monocytes...CD16\\_FCGR3A\\_\\_CALR'\n",
       "\\item 'single\\_cell\\_0\\_X12\\_Monocytes...CD16\\_FCGR3A\\_\\_GSTP1'\n",
       "\\item 'single\\_cell\\_0\\_X12\\_Monocytes...CD16\\_FCGR3A\\_\\_HMGB1'\n",
       "\\item 'single\\_cell\\_0\\_X12\\_Monocytes...CD16\\_FCGR3A\\_\\_HMGB2'\n",
       "\\item 'single\\_cell\\_0\\_X12\\_Monocytes...CD16\\_FCGR3A\\_\\_HSP90B1'\n",
       "\\item 'single\\_cell\\_0\\_X12\\_Monocytes...CD16\\_FCGR3A\\_\\_ICAM3'\n",
       "\\item 'single\\_cell\\_0\\_X12\\_Monocytes...CD16\\_FCGR3A\\_\\_IL1B'\n",
       "\\item 'single\\_cell\\_0\\_X12\\_Monocytes...CD16\\_FCGR3A\\_\\_LGALS3'\n",
       "\\item 'single\\_cell\\_0\\_X12\\_Monocytes...CD16\\_FCGR3A\\_\\_LTB'\n",
       "\\item 'single\\_cell\\_0\\_X12\\_Monocytes...CD16\\_FCGR3A\\_\\_NAMPT'\n",
       "\\item 'single\\_cell\\_0\\_X12\\_Monocytes...CD16\\_FCGR3A\\_\\_PECAM1'\n",
       "\\item 'single\\_cell\\_0\\_X12\\_Monocytes...CD16\\_FCGR3A\\_\\_PSAP'\n",
       "\\item 'single\\_cell\\_0\\_X12\\_Monocytes...CD16\\_FCGR3A\\_\\_PTPRC'\n",
       "\\item 'single\\_cell\\_0\\_X12\\_Monocytes...CD16\\_FCGR3A\\_\\_RTN4'\n",
       "\\item 'single\\_cell\\_0\\_X12\\_Monocytes...CD16\\_FCGR3A\\_\\_SERPINA1'\n",
       "\\item 'single\\_cell\\_0\\_X12\\_Monocytes...CD16\\_FCGR3A\\_\\_TGFB1'\n",
       "\\item 'single\\_cell\\_0\\_X12\\_Monocytes...CD16\\_FCGR3A\\_\\_TIMP1'\n",
       "\\item 'single\\_cell\\_0\\_X13\\_Dendritic\\_\\_ANXA1'\n",
       "\\item 'single\\_cell\\_0\\_X13\\_Dendritic\\_\\_CALM1'\n",
       "\\item 'single\\_cell\\_0\\_X13\\_Dendritic\\_\\_CALR'\n",
       "\\item 'single\\_cell\\_0\\_X13\\_Dendritic\\_\\_GRN'\n",
       "\\item 'single\\_cell\\_0\\_X13\\_Dendritic\\_\\_GSTP1'\n",
       "\\item 'single\\_cell\\_0\\_X13\\_Dendritic\\_\\_HMGB1'\n",
       "\\item 'single\\_cell\\_0\\_X13\\_Dendritic\\_\\_HSP90B1'\n",
       "\\item 'single\\_cell\\_0\\_X13\\_Dendritic\\_\\_NAMPT'\n",
       "\\item 'single\\_cell\\_0\\_X13\\_Dendritic\\_\\_PSAP'\n",
       "\\item 'single\\_cell\\_0\\_X13\\_Dendritic\\_\\_PTPRC'\n",
       "\\item 'single\\_cell\\_0\\_X13\\_Dendritic\\_\\_RTN4'\n",
       "\\item 'single\\_cell\\_0\\_X13\\_Dendritic\\_\\_TIMP1'\n",
       "\\item 'single\\_cell\\_0\\_X2\\_T.cell.CD4\\_\\_ANXA1'\n",
       "\\item 'single\\_cell\\_0\\_X2\\_T.cell.CD4\\_\\_ARF1'\n",
       "\\item 'single\\_cell\\_0\\_X2\\_T.cell.CD4\\_\\_CALM1'\n",
       "\\item 'single\\_cell\\_0\\_X2\\_T.cell.CD4\\_\\_CALR'\n",
       "\\item 'single\\_cell\\_0\\_X2\\_T.cell.CD4\\_\\_CD2'\n",
       "\\item 'single\\_cell\\_0\\_X2\\_T.cell.CD4\\_\\_HMGB1'\n",
       "\\item 'single\\_cell\\_0\\_X2\\_T.cell.CD4\\_\\_HMGB2'\n",
       "\\item 'single\\_cell\\_0\\_X2\\_T.cell.CD4\\_\\_HSP90B1'\n",
       "\\item 'single\\_cell\\_0\\_X2\\_T.cell.CD4\\_\\_LTB'\n",
       "\\item 'single\\_cell\\_0\\_X2\\_T.cell.CD4\\_\\_PTPRC'\n",
       "\\item 'single\\_cell\\_0\\_X2\\_T.cell.CD4\\_\\_SELL'\n",
       "\\item 'single\\_cell\\_0\\_X3\\_NK\\_\\_ANXA1'\n",
       "\\item 'single\\_cell\\_0\\_X3\\_NK\\_\\_ARF1'\n",
       "\\item 'single\\_cell\\_0\\_X3\\_NK\\_\\_CALM1'\n",
       "\\item 'single\\_cell\\_0\\_X3\\_NK\\_\\_CALR'\n",
       "\\item 'single\\_cell\\_0\\_X3\\_NK\\_\\_CCL4'\n",
       "\\item 'single\\_cell\\_0\\_X3\\_NK\\_\\_CCL5'\n",
       "\\item 'single\\_cell\\_0\\_X3\\_NK\\_\\_GSTP1'\n",
       "\\item 'single\\_cell\\_0\\_X3\\_NK\\_\\_GZMB'\n",
       "\\item 'single\\_cell\\_0\\_X3\\_NK\\_\\_HMGB1'\n",
       "\\item 'single\\_cell\\_0\\_X3\\_NK\\_\\_HMGB2'\n",
       "\\item 'single\\_cell\\_0\\_X3\\_NK\\_\\_HSP90B1'\n",
       "\\item 'single\\_cell\\_0\\_X3\\_NK\\_\\_PTPRC'\n",
       "\\item 'single\\_cell\\_0\\_X3\\_NK\\_\\_TGFB1'\n",
       "\\item 'single\\_cell\\_0\\_X4\\_Monocytes...CD14\\_\\_ADAM17'\n",
       "\\item 'single\\_cell\\_0\\_X4\\_Monocytes...CD14\\_\\_AIMP1'\n",
       "\\item 'single\\_cell\\_0\\_X4\\_Monocytes...CD14\\_\\_ALOX5AP'\n",
       "\\item 'single\\_cell\\_0\\_X4\\_Monocytes...CD14\\_\\_ANXA1'\n",
       "\\item 'single\\_cell\\_0\\_X4\\_Monocytes...CD14\\_\\_ARF1'\n",
       "\\item 'single\\_cell\\_0\\_X4\\_Monocytes...CD14\\_\\_CALM1'\n",
       "\\item 'single\\_cell\\_0\\_X4\\_Monocytes...CD14\\_\\_CALR'\n",
       "\\item 'single\\_cell\\_0\\_X4\\_Monocytes...CD14\\_\\_CCL5'\n",
       "\\item 'single\\_cell\\_0\\_X4\\_Monocytes...CD14\\_\\_COPA'\n",
       "\\item 'single\\_cell\\_0\\_X4\\_Monocytes...CD14\\_\\_CXCL2'\n",
       "\\item 'single\\_cell\\_0\\_X4\\_Monocytes...CD14\\_\\_GRN'\n",
       "\\item 'single\\_cell\\_0\\_X4\\_Monocytes...CD14\\_\\_GSTP1'\n",
       "\\item 'single\\_cell\\_0\\_X4\\_Monocytes...CD14\\_\\_HDGF'\n",
       "\\item 'single\\_cell\\_0\\_X4\\_Monocytes...CD14\\_\\_HMGB1'\n",
       "\\item 'single\\_cell\\_0\\_X4\\_Monocytes...CD14\\_\\_HMGB2'\n",
       "\\item 'single\\_cell\\_0\\_X4\\_Monocytes...CD14\\_\\_HSP90B1'\n",
       "\\item 'single\\_cell\\_0\\_X4\\_Monocytes...CD14\\_\\_ICAM1'\n",
       "\\item 'single\\_cell\\_0\\_X4\\_Monocytes...CD14\\_\\_ICAM3'\n",
       "\\item 'single\\_cell\\_0\\_X4\\_Monocytes...CD14\\_\\_IL1B'\n",
       "\\item 'single\\_cell\\_0\\_X4\\_Monocytes...CD14\\_\\_LGALS3'\n",
       "\\item 'single\\_cell\\_0\\_X4\\_Monocytes...CD14\\_\\_LRPAP1'\n",
       "\\item 'single\\_cell\\_0\\_X4\\_Monocytes...CD14\\_\\_LTB'\n",
       "\\item 'single\\_cell\\_0\\_X4\\_Monocytes...CD14\\_\\_MIF'\n",
       "\\item 'single\\_cell\\_0\\_X4\\_Monocytes...CD14\\_\\_PECAM1'\n",
       "\\item 'single\\_cell\\_0\\_X4\\_Monocytes...CD14\\_\\_PSAP'\n",
       "\\item 'single\\_cell\\_0\\_X4\\_Monocytes...CD14\\_\\_PSEN1'\n",
       "\\item 'single\\_cell\\_0\\_X4\\_Monocytes...CD14\\_\\_PTPRC'\n",
       "\\item 'single\\_cell\\_0\\_X4\\_Monocytes...CD14\\_\\_RTN4'\n",
       "\\item 'single\\_cell\\_0\\_X4\\_Monocytes...CD14\\_\\_SERPINA1'\n",
       "\\item 'single\\_cell\\_0\\_X4\\_Monocytes...CD14\\_\\_TGFB1'\n",
       "\\item 'single\\_cell\\_0\\_X4\\_Monocytes...CD14\\_\\_TIMP1'\n",
       "\\item 'single\\_cell\\_0\\_X4\\_Monocytes...CD14\\_\\_TNFSF10'\n",
       "\\item 'single\\_cell\\_0\\_X4\\_Monocytes...CD14\\_\\_TNFSF13B'\n",
       "\\item 'single\\_cell\\_0\\_X5\\_T.cell.CD4\\_\\_ANXA1'\n",
       "\\item 'single\\_cell\\_0\\_X5\\_T.cell.CD4\\_\\_CALM1'\n",
       "\\item 'single\\_cell\\_0\\_X5\\_T.cell.CD4\\_\\_CD2'\n",
       "\\item 'single\\_cell\\_0\\_X5\\_T.cell.CD4\\_\\_HMGB1'\n",
       "\\item 'single\\_cell\\_0\\_X5\\_T.cell.CD4\\_\\_HMGB2'\n",
       "\\item 'single\\_cell\\_0\\_X5\\_T.cell.CD4\\_\\_HSP90B1'\n",
       "\\item 'single\\_cell\\_0\\_X5\\_T.cell.CD4\\_\\_ICAM3'\n",
       "\\item 'single\\_cell\\_0\\_X5\\_T.cell.CD4\\_\\_LTB'\n",
       "\\item 'single\\_cell\\_0\\_X5\\_T.cell.CD4\\_\\_PTPRC'\n",
       "\\item 'single\\_cell\\_0\\_X5\\_T.cell.CD4\\_\\_SELL'\n",
       "\\item 'single\\_cell\\_0\\_X6\\_Monocytes...CD14\\_\\_ADAM17'\n",
       "\\item 'single\\_cell\\_0\\_X6\\_Monocytes...CD14\\_\\_ANXA1'\n",
       "\\item 'single\\_cell\\_0\\_X6\\_Monocytes...CD14\\_\\_ARF1'\n",
       "\\item 'single\\_cell\\_0\\_X6\\_Monocytes...CD14\\_\\_CALM1'\n",
       "\\item 'single\\_cell\\_0\\_X6\\_Monocytes...CD14\\_\\_CALR'\n",
       "\\item 'single\\_cell\\_0\\_X6\\_Monocytes...CD14\\_\\_CXCL2'\n",
       "\\item 'single\\_cell\\_0\\_X6\\_Monocytes...CD14\\_\\_GRN'\n",
       "\\item 'single\\_cell\\_0\\_X6\\_Monocytes...CD14\\_\\_GSTP1'\n",
       "\\item 'single\\_cell\\_0\\_X6\\_Monocytes...CD14\\_\\_HMGB1'\n",
       "\\item 'single\\_cell\\_0\\_X6\\_Monocytes...CD14\\_\\_HMGB2'\n",
       "\\item 'single\\_cell\\_0\\_X6\\_Monocytes...CD14\\_\\_HSP90B1'\n",
       "\\item 'single\\_cell\\_0\\_X6\\_Monocytes...CD14\\_\\_ICAM1'\n",
       "\\item 'single\\_cell\\_0\\_X6\\_Monocytes...CD14\\_\\_ICAM3'\n",
       "\\item 'single\\_cell\\_0\\_X6\\_Monocytes...CD14\\_\\_IL1B'\n",
       "\\item 'single\\_cell\\_0\\_X6\\_Monocytes...CD14\\_\\_LGALS3'\n",
       "\\item 'single\\_cell\\_0\\_X6\\_Monocytes...CD14\\_\\_LRPAP1'\n",
       "\\item 'single\\_cell\\_0\\_X6\\_Monocytes...CD14\\_\\_PECAM1'\n",
       "\\item 'single\\_cell\\_0\\_X6\\_Monocytes...CD14\\_\\_PSAP'\n",
       "\\item 'single\\_cell\\_0\\_X6\\_Monocytes...CD14\\_\\_PSEN1'\n",
       "\\item 'single\\_cell\\_0\\_X6\\_Monocytes...CD14\\_\\_PTPRC'\n",
       "\\item 'single\\_cell\\_0\\_X6\\_Monocytes...CD14\\_\\_RTN4'\n",
       "\\item 'single\\_cell\\_0\\_X6\\_Monocytes...CD14\\_\\_SERPINA1'\n",
       "\\item 'single\\_cell\\_0\\_X6\\_Monocytes...CD14\\_\\_TGFB1'\n",
       "\\item 'single\\_cell\\_0\\_X6\\_Monocytes...CD14\\_\\_THBS1'\n",
       "\\item 'single\\_cell\\_0\\_X6\\_Monocytes...CD14\\_\\_TIMP1'\n",
       "\\item 'single\\_cell\\_0\\_X6\\_Monocytes...CD14\\_\\_TNFSF10'\n",
       "\\item 'single\\_cell\\_0\\_X6\\_Monocytes...CD14\\_\\_TNFSF13B'\n",
       "\\item 'single\\_cell\\_0\\_X7\\_Monocytes...CD14\\_\\_ANXA1'\n",
       "\\item 'single\\_cell\\_0\\_X7\\_Monocytes...CD14\\_\\_ARF1'\n",
       "\\item 'single\\_cell\\_0\\_X7\\_Monocytes...CD14\\_\\_CALM1'\n",
       "\\item 'single\\_cell\\_0\\_X7\\_Monocytes...CD14\\_\\_CALR'\n",
       "\\item 'single\\_cell\\_0\\_X7\\_Monocytes...CD14\\_\\_GRN'\n",
       "\\item 'single\\_cell\\_0\\_X7\\_Monocytes...CD14\\_\\_GSTP1'\n",
       "\\item 'single\\_cell\\_0\\_X7\\_Monocytes...CD14\\_\\_HMGB1'\n",
       "\\item 'single\\_cell\\_0\\_X7\\_Monocytes...CD14\\_\\_HMGB2'\n",
       "\\item 'single\\_cell\\_0\\_X7\\_Monocytes...CD14\\_\\_HSP90B1'\n",
       "\\item 'single\\_cell\\_0\\_X7\\_Monocytes...CD14\\_\\_ICAM3'\n",
       "\\item 'single\\_cell\\_0\\_X7\\_Monocytes...CD14\\_\\_IL1B'\n",
       "\\item 'single\\_cell\\_0\\_X7\\_Monocytes...CD14\\_\\_LGALS3'\n",
       "\\item 'single\\_cell\\_0\\_X7\\_Monocytes...CD14\\_\\_LRPAP1'\n",
       "\\item 'single\\_cell\\_0\\_X7\\_Monocytes...CD14\\_\\_PECAM1'\n",
       "\\item 'single\\_cell\\_0\\_X7\\_Monocytes...CD14\\_\\_PSAP'\n",
       "\\item 'single\\_cell\\_0\\_X7\\_Monocytes...CD14\\_\\_PTPRC'\n",
       "\\item 'single\\_cell\\_0\\_X7\\_Monocytes...CD14\\_\\_RTN4'\n",
       "\\item 'single\\_cell\\_0\\_X7\\_Monocytes...CD14\\_\\_SERPINA1'\n",
       "\\item 'single\\_cell\\_0\\_X7\\_Monocytes...CD14\\_\\_TGFB1'\n",
       "\\item 'single\\_cell\\_0\\_X7\\_Monocytes...CD14\\_\\_TIMP1'\n",
       "\\item 'single\\_cell\\_0\\_X7\\_Monocytes...CD14\\_\\_TNFSF10'\n",
       "\\item 'single\\_cell\\_0\\_X7\\_Monocytes...CD14\\_\\_TNFSF13B'\n",
       "\\item 'single\\_cell\\_0\\_X8\\_B.cell\\_\\_CALM1'\n",
       "\\item 'single\\_cell\\_0\\_X8\\_B.cell\\_\\_CALR'\n",
       "\\item 'single\\_cell\\_0\\_X8\\_B.cell\\_\\_HMGB1'\n",
       "\\item 'single\\_cell\\_0\\_X8\\_B.cell\\_\\_HMGB2'\n",
       "\\item 'single\\_cell\\_0\\_X8\\_B.cell\\_\\_HSP90B1'\n",
       "\\item 'single\\_cell\\_0\\_X8\\_B.cell\\_\\_LTB'\n",
       "\\item 'single\\_cell\\_0\\_X8\\_B.cell\\_\\_PTPRC'\n",
       "\\item 'single\\_cell\\_0\\_X8\\_B.cell\\_\\_SELL'\n",
       "\\item 'single\\_cell\\_0\\_X9\\_Monocytes...CD16\\_FCGR3A\\_\\_ANXA1'\n",
       "\\item 'single\\_cell\\_0\\_X9\\_Monocytes...CD16\\_FCGR3A\\_\\_ARF1'\n",
       "\\item 'single\\_cell\\_0\\_X9\\_Monocytes...CD16\\_FCGR3A\\_\\_CALM1'\n",
       "\\item 'single\\_cell\\_0\\_X9\\_Monocytes...CD16\\_FCGR3A\\_\\_CALR'\n",
       "\\item 'single\\_cell\\_0\\_X9\\_Monocytes...CD16\\_FCGR3A\\_\\_CXCL16'\n",
       "\\item 'single\\_cell\\_0\\_X9\\_Monocytes...CD16\\_FCGR3A\\_\\_GRN'\n",
       "\\item 'single\\_cell\\_0\\_X9\\_Monocytes...CD16\\_FCGR3A\\_\\_GSTP1'\n",
       "\\item 'single\\_cell\\_0\\_X9\\_Monocytes...CD16\\_FCGR3A\\_\\_HMGB1'\n",
       "\\item 'single\\_cell\\_0\\_X9\\_Monocytes...CD16\\_FCGR3A\\_\\_HMGB2'\n",
       "\\item 'single\\_cell\\_0\\_X9\\_Monocytes...CD16\\_FCGR3A\\_\\_HSP90B1'\n",
       "\\item 'single\\_cell\\_0\\_X9\\_Monocytes...CD16\\_FCGR3A\\_\\_ICAM3'\n",
       "\\item 'single\\_cell\\_0\\_X9\\_Monocytes...CD16\\_FCGR3A\\_\\_IL1B'\n",
       "\\item 'single\\_cell\\_0\\_X9\\_Monocytes...CD16\\_FCGR3A\\_\\_LGALS3'\n",
       "\\item 'single\\_cell\\_0\\_X9\\_Monocytes...CD16\\_FCGR3A\\_\\_NAMPT'\n",
       "\\item 'single\\_cell\\_0\\_X9\\_Monocytes...CD16\\_FCGR3A\\_\\_PECAM1'\n",
       "\\item 'single\\_cell\\_0\\_X9\\_Monocytes...CD16\\_FCGR3A\\_\\_PSAP'\n",
       "\\item 'single\\_cell\\_0\\_X9\\_Monocytes...CD16\\_FCGR3A\\_\\_PTPRC'\n",
       "\\item 'single\\_cell\\_0\\_X9\\_Monocytes...CD16\\_FCGR3A\\_\\_RTN4'\n",
       "\\item 'single\\_cell\\_0\\_X9\\_Monocytes...CD16\\_FCGR3A\\_\\_SERPINA1'\n",
       "\\item 'single\\_cell\\_0\\_X9\\_Monocytes...CD16\\_FCGR3A\\_\\_TGFB1'\n",
       "\\item 'single\\_cell\\_0\\_X9\\_Monocytes...CD16\\_FCGR3A\\_\\_TIMP1'\n",
       "\\item 'single\\_cell\\_0\\_X9\\_Monocytes...CD16\\_FCGR3A\\_\\_TNFSF10'\n",
       "\\item 'single\\_cell\\_0\\_X9\\_Monocytes...CD16\\_FCGR3A\\_\\_TNFSF13B'\n",
       "\\end{enumerate*}\n"
      ],
      "text/markdown": [
       "1. cytokine_0_BCA1__CXCL13\n",
       "2. cytokine_0_CTACK__CCL27\n",
       "3. cytokine_0_EGF__EGF\n",
       "4. cytokine_0_ENA78__CXCL5\n",
       "5. cytokine_0_Eotaxin3__CCL26\n",
       "6. cytokine_0_FGF2__FGF2\n",
       "\n",
       "\n",
       "\n",
       "**Levels**: 1. 'cytokine_0_BCA1__CXCL13'\n",
       "2. 'cytokine_0_CTACK__CCL27'\n",
       "3. 'cytokine_0_EGF__EGF'\n",
       "4. 'cytokine_0_ENA78__CXCL5'\n",
       "5. 'cytokine_0_Eotaxin3__CCL26'\n",
       "6. 'cytokine_0_FGF2__FGF2'\n",
       "7. 'cytokine_0_Fractalkine__CX3CL1'\n",
       "8. 'cytokine_0_GCSF__CSF3'\n",
       "9. 'cytokine_0_GMCSF__CSF2'\n",
       "10. 'cytokine_0_I309__CCL1'\n",
       "11. 'cytokine_0_IFNalpha2__IFNA2'\n",
       "12. 'cytokine_0_IFNgamma__IFNG'\n",
       "13. 'cytokine_0_IL10__IL10'\n",
       "14. 'cytokine_0_IL12p70__IL12A'\n",
       "15. 'cytokine_0_IL13__IL13'\n",
       "16. 'cytokine_0_IL15__IL15'\n",
       "17. 'cytokine_0_IL17A__IL17A'\n",
       "18. 'cytokine_0_IL17E_IL25__IL25'\n",
       "19. 'cytokine_0_IL17F__IL17F'\n",
       "20. 'cytokine_0_IL1alpha__IL1A'\n",
       "21. 'cytokine_0_IL1beta__IL1B'\n",
       "22. 'cytokine_0_IL1RA__IL1RN'\n",
       "23. 'cytokine_0_IL2__IL2'\n",
       "24. 'cytokine_0_IL22__IL22'\n",
       "25. 'cytokine_0_IL27__IL27'\n",
       "26. 'cytokine_0_IL4__IL4'\n",
       "27. 'cytokine_0_IL5__IL5'\n",
       "28. 'cytokine_0_IL6__IL6'\n",
       "29. 'cytokine_0_IL7__IL7'\n",
       "30. 'cytokine_0_IL9__IL9'\n",
       "31. 'cytokine_0_IP10__CXCL10'\n",
       "32. 'cytokine_0_LIF__LIF'\n",
       "33. 'cytokine_0_MCP1__CCL2'\n",
       "34. 'cytokine_0_MCP2__CCL8'\n",
       "35. 'cytokine_0_MCP3__CCL7'\n",
       "36. 'cytokine_0_MCP4__CCL13'\n",
       "37. 'cytokine_0_MCSF__CSF1'\n",
       "38. 'cytokine_0_MDC__CCL22'\n",
       "39. 'cytokine_0_MIG_CXCL9__CXCL9'\n",
       "40. 'cytokine_0_MIP1alpha__CCL3'\n",
       "41. 'cytokine_0_MIP1beta__CCL4'\n",
       "42. 'cytokine_0_MIP1delta__CCL15'\n",
       "43. 'cytokine_0_RANTES__CCL5'\n",
       "44. 'cytokine_0_SCF__KITLG'\n",
       "45. 'cytokine_0_SDF1alpha_beta__CXCL12'\n",
       "46. 'cytokine_0_TARC__CCL17'\n",
       "47. 'cytokine_0_TNFalpha__TNF'\n",
       "48. 'cytokine_0_TNFbeta__LTA'\n",
       "49. 'cytokine_0_VEGFA__VEGFA'\n",
       "50. 'cytokine_0_X6CKine__CCL21'\n",
       "51. 'neutrophil_0_ADM'\n",
       "52. 'neutrophil_0_FBRS'\n",
       "53. 'neutrophil_0_GRN'\n",
       "54. 'neutrophil_0_HMGB1'\n",
       "55. 'neutrophil_0_HMGB2'\n",
       "56. 'neutrophil_0_IL16'\n",
       "57. 'neutrophil_0_MMP9'\n",
       "58. 'neutrophil_0_PGLYRP1'\n",
       "59. 'neutrophil_0_RTN4'\n",
       "60. 'neutrophil_0_SECTM1'\n",
       "61. 'neutrophil_0_TGFB1'\n",
       "62. 'neutrophil_0_TIMP1'\n",
       "63. 'neutrophil_0_TNFSF13B'\n",
       "64. 'proteomics_0_A2M_P01023'\n",
       "65. 'proteomics_0_ADIPOQ_Q15848'\n",
       "66. 'proteomics_0_AGT_P01019'\n",
       "67. 'proteomics_0_APOA1_P02647'\n",
       "68. 'proteomics_0_APOB_P04114'\n",
       "69. 'proteomics_0_APOE_P02649'\n",
       "70. 'proteomics_0_C3_M0R1Q1'\n",
       "71. 'proteomics_0_C3_P01024'\n",
       "72. 'proteomics_0_C5_P01031'\n",
       "73. 'proteomics_0_CAMP_J3KNB4'\n",
       "74. 'proteomics_0_CDH5_P33151'\n",
       "75. 'proteomics_0_CEACAM1_P13688'\n",
       "76. 'proteomics_0_CFH_P08603'\n",
       "77. 'proteomics_0_COL18A1_P39060'\n",
       "78. 'proteomics_0_COMP_G3XAP6'\n",
       "79. 'proteomics_0_DSG2_Q14126'\n",
       "80. 'proteomics_0_F2_P00734'\n",
       "81. 'proteomics_0_F9_P00740'\n",
       "82. 'proteomics_0_FGA_P02671'\n",
       "83. 'proteomics_0_FN1_H0Y4K8'\n",
       "84. 'proteomics_0_FN1_P02751'\n",
       "85. 'proteomics_0_GSTP1_P09211'\n",
       "86. 'proteomics_0_HSP90B1_P14625'\n",
       "87. 'proteomics_0_HSPG2_P98160'\n",
       "88. 'proteomics_0_ICAM1_P05362'\n",
       "89. 'proteomics_0_ICAM2_J3QQR8'\n",
       "90. 'proteomics_0_IGF2_P01344'\n",
       "91. 'proteomics_0_KNG1_P01042'\n",
       "92. 'proteomics_0_KNG1_P01042.2'\n",
       "93. 'proteomics_0_LTF_E7EQB2'\n",
       "94. 'proteomics_0_MMP9_P14780'\n",
       "95. 'proteomics_0_NID1_P14543'\n",
       "96. 'proteomics_0_PF4_P02776'\n",
       "97. 'proteomics_0_PLG_P00747'\n",
       "98. 'proteomics_0_PPBP_P02775'\n",
       "99. 'proteomics_0_SAA1_P0DJI8'\n",
       "100. 'proteomics_0_SELL_P14151'\n",
       "101. 'proteomics_0_SERPINA1_A0A024R6I7'\n",
       "102. 'proteomics_0_SERPINA1_P01009'\n",
       "103. 'proteomics_0_SERPINC1_P01008'\n",
       "104. 'proteomics_0_SERPING1_P05155'\n",
       "105. 'proteomics_0_TF_P02787'\n",
       "106. 'proteomics_0_THBS1_P07996'\n",
       "107. 'proteomics_0_TIMP1_P01033'\n",
       "108. 'proteomics_0_TTR_P02766'\n",
       "109. 'proteomics_0_VTN_P04004'\n",
       "110. 'single_cell_0_X0_T.cell.CD4__ANXA1'\n",
       "111. 'single_cell_0_X0_T.cell.CD4__ARF1'\n",
       "112. 'single_cell_0_X0_T.cell.CD4__CALM1'\n",
       "113. 'single_cell_0_X0_T.cell.CD4__CALR'\n",
       "114. 'single_cell_0_X0_T.cell.CD4__CD2'\n",
       "115. 'single_cell_0_X0_T.cell.CD4__HMGB1'\n",
       "116. 'single_cell_0_X0_T.cell.CD4__HMGB2'\n",
       "117. 'single_cell_0_X0_T.cell.CD4__HSP90B1'\n",
       "118. 'single_cell_0_X0_T.cell.CD4__ICAM3'\n",
       "119. 'single_cell_0_X0_T.cell.CD4__LTB'\n",
       "120. 'single_cell_0_X0_T.cell.CD4__MIF'\n",
       "121. 'single_cell_0_X0_T.cell.CD4__PTPRC'\n",
       "122. 'single_cell_0_X0_T.cell.CD4__SELL'\n",
       "123. 'single_cell_0_X1_T.cell.CD8__ANXA1'\n",
       "124. 'single_cell_0_X1_T.cell.CD8__ARF1'\n",
       "125. 'single_cell_0_X1_T.cell.CD8__CALM1'\n",
       "126. 'single_cell_0_X1_T.cell.CD8__CALR'\n",
       "127. 'single_cell_0_X1_T.cell.CD8__CCL4'\n",
       "128. 'single_cell_0_X1_T.cell.CD8__CCL5'\n",
       "129. 'single_cell_0_X1_T.cell.CD8__CD2'\n",
       "130. 'single_cell_0_X1_T.cell.CD8__GSTP1'\n",
       "131. 'single_cell_0_X1_T.cell.CD8__GZMB'\n",
       "132. 'single_cell_0_X1_T.cell.CD8__HMGB1'\n",
       "133. 'single_cell_0_X1_T.cell.CD8__HMGB2'\n",
       "134. 'single_cell_0_X1_T.cell.CD8__HSP90B1'\n",
       "135. 'single_cell_0_X1_T.cell.CD8__ICAM3'\n",
       "136. 'single_cell_0_X1_T.cell.CD8__LTB'\n",
       "137. 'single_cell_0_X1_T.cell.CD8__PTPRC'\n",
       "138. 'single_cell_0_X1_T.cell.CD8__TGFB1'\n",
       "139. 'single_cell_0_X10_B.cell__ANXA1'\n",
       "140. 'single_cell_0_X10_B.cell__ARF1'\n",
       "141. 'single_cell_0_X10_B.cell__CALM1'\n",
       "142. 'single_cell_0_X10_B.cell__CALR'\n",
       "143. 'single_cell_0_X10_B.cell__CD2'\n",
       "144. 'single_cell_0_X10_B.cell__GSTP1'\n",
       "145. 'single_cell_0_X10_B.cell__HMGB1'\n",
       "146. 'single_cell_0_X10_B.cell__HMGB2'\n",
       "147. 'single_cell_0_X10_B.cell__HSP90B1'\n",
       "148. 'single_cell_0_X10_B.cell__ICAM3'\n",
       "149. 'single_cell_0_X10_B.cell__LTB'\n",
       "150. 'single_cell_0_X10_B.cell__PTPRC'\n",
       "151. 'single_cell_0_X10_B.cell__SELL'\n",
       "152. 'single_cell_0_X10_B.cell__TGFB1'\n",
       "153. 'single_cell_0_X11_T.cell.CD4__ANXA1'\n",
       "154. 'single_cell_0_X11_T.cell.CD4__ARF1'\n",
       "155. 'single_cell_0_X11_T.cell.CD4__CALM1'\n",
       "156. 'single_cell_0_X11_T.cell.CD4__CALR'\n",
       "157. 'single_cell_0_X11_T.cell.CD4__CD2'\n",
       "158. 'single_cell_0_X11_T.cell.CD4__HMGB1'\n",
       "159. 'single_cell_0_X11_T.cell.CD4__HMGB2'\n",
       "160. 'single_cell_0_X11_T.cell.CD4__HSP90B1'\n",
       "161. 'single_cell_0_X11_T.cell.CD4__ICAM3'\n",
       "162. 'single_cell_0_X11_T.cell.CD4__LTB'\n",
       "163. 'single_cell_0_X11_T.cell.CD4__PTPRC'\n",
       "164. 'single_cell_0_X11_T.cell.CD4__SELL'\n",
       "165. 'single_cell_0_X11_T.cell.CD4__TGFB1'\n",
       "166. 'single_cell_0_X12_Monocytes...CD16_FCGR3A__ANXA1'\n",
       "167. 'single_cell_0_X12_Monocytes...CD16_FCGR3A__ARF1'\n",
       "168. 'single_cell_0_X12_Monocytes...CD16_FCGR3A__CALM1'\n",
       "169. 'single_cell_0_X12_Monocytes...CD16_FCGR3A__CALR'\n",
       "170. 'single_cell_0_X12_Monocytes...CD16_FCGR3A__GSTP1'\n",
       "171. 'single_cell_0_X12_Monocytes...CD16_FCGR3A__HMGB1'\n",
       "172. 'single_cell_0_X12_Monocytes...CD16_FCGR3A__HMGB2'\n",
       "173. 'single_cell_0_X12_Monocytes...CD16_FCGR3A__HSP90B1'\n",
       "174. 'single_cell_0_X12_Monocytes...CD16_FCGR3A__ICAM3'\n",
       "175. 'single_cell_0_X12_Monocytes...CD16_FCGR3A__IL1B'\n",
       "176. 'single_cell_0_X12_Monocytes...CD16_FCGR3A__LGALS3'\n",
       "177. 'single_cell_0_X12_Monocytes...CD16_FCGR3A__LTB'\n",
       "178. 'single_cell_0_X12_Monocytes...CD16_FCGR3A__NAMPT'\n",
       "179. 'single_cell_0_X12_Monocytes...CD16_FCGR3A__PECAM1'\n",
       "180. 'single_cell_0_X12_Monocytes...CD16_FCGR3A__PSAP'\n",
       "181. 'single_cell_0_X12_Monocytes...CD16_FCGR3A__PTPRC'\n",
       "182. 'single_cell_0_X12_Monocytes...CD16_FCGR3A__RTN4'\n",
       "183. 'single_cell_0_X12_Monocytes...CD16_FCGR3A__SERPINA1'\n",
       "184. 'single_cell_0_X12_Monocytes...CD16_FCGR3A__TGFB1'\n",
       "185. 'single_cell_0_X12_Monocytes...CD16_FCGR3A__TIMP1'\n",
       "186. 'single_cell_0_X13_Dendritic__ANXA1'\n",
       "187. 'single_cell_0_X13_Dendritic__CALM1'\n",
       "188. 'single_cell_0_X13_Dendritic__CALR'\n",
       "189. 'single_cell_0_X13_Dendritic__GRN'\n",
       "190. 'single_cell_0_X13_Dendritic__GSTP1'\n",
       "191. 'single_cell_0_X13_Dendritic__HMGB1'\n",
       "192. 'single_cell_0_X13_Dendritic__HSP90B1'\n",
       "193. 'single_cell_0_X13_Dendritic__NAMPT'\n",
       "194. 'single_cell_0_X13_Dendritic__PSAP'\n",
       "195. 'single_cell_0_X13_Dendritic__PTPRC'\n",
       "196. 'single_cell_0_X13_Dendritic__RTN4'\n",
       "197. 'single_cell_0_X13_Dendritic__TIMP1'\n",
       "198. 'single_cell_0_X2_T.cell.CD4__ANXA1'\n",
       "199. 'single_cell_0_X2_T.cell.CD4__ARF1'\n",
       "200. 'single_cell_0_X2_T.cell.CD4__CALM1'\n",
       "201. 'single_cell_0_X2_T.cell.CD4__CALR'\n",
       "202. 'single_cell_0_X2_T.cell.CD4__CD2'\n",
       "203. 'single_cell_0_X2_T.cell.CD4__HMGB1'\n",
       "204. 'single_cell_0_X2_T.cell.CD4__HMGB2'\n",
       "205. 'single_cell_0_X2_T.cell.CD4__HSP90B1'\n",
       "206. 'single_cell_0_X2_T.cell.CD4__LTB'\n",
       "207. 'single_cell_0_X2_T.cell.CD4__PTPRC'\n",
       "208. 'single_cell_0_X2_T.cell.CD4__SELL'\n",
       "209. 'single_cell_0_X3_NK__ANXA1'\n",
       "210. 'single_cell_0_X3_NK__ARF1'\n",
       "211. 'single_cell_0_X3_NK__CALM1'\n",
       "212. 'single_cell_0_X3_NK__CALR'\n",
       "213. 'single_cell_0_X3_NK__CCL4'\n",
       "214. 'single_cell_0_X3_NK__CCL5'\n",
       "215. 'single_cell_0_X3_NK__GSTP1'\n",
       "216. 'single_cell_0_X3_NK__GZMB'\n",
       "217. 'single_cell_0_X3_NK__HMGB1'\n",
       "218. 'single_cell_0_X3_NK__HMGB2'\n",
       "219. 'single_cell_0_X3_NK__HSP90B1'\n",
       "220. 'single_cell_0_X3_NK__PTPRC'\n",
       "221. 'single_cell_0_X3_NK__TGFB1'\n",
       "222. 'single_cell_0_X4_Monocytes...CD14__ADAM17'\n",
       "223. 'single_cell_0_X4_Monocytes...CD14__AIMP1'\n",
       "224. 'single_cell_0_X4_Monocytes...CD14__ALOX5AP'\n",
       "225. 'single_cell_0_X4_Monocytes...CD14__ANXA1'\n",
       "226. 'single_cell_0_X4_Monocytes...CD14__ARF1'\n",
       "227. 'single_cell_0_X4_Monocytes...CD14__CALM1'\n",
       "228. 'single_cell_0_X4_Monocytes...CD14__CALR'\n",
       "229. 'single_cell_0_X4_Monocytes...CD14__CCL5'\n",
       "230. 'single_cell_0_X4_Monocytes...CD14__COPA'\n",
       "231. 'single_cell_0_X4_Monocytes...CD14__CXCL2'\n",
       "232. 'single_cell_0_X4_Monocytes...CD14__GRN'\n",
       "233. 'single_cell_0_X4_Monocytes...CD14__GSTP1'\n",
       "234. 'single_cell_0_X4_Monocytes...CD14__HDGF'\n",
       "235. 'single_cell_0_X4_Monocytes...CD14__HMGB1'\n",
       "236. 'single_cell_0_X4_Monocytes...CD14__HMGB2'\n",
       "237. 'single_cell_0_X4_Monocytes...CD14__HSP90B1'\n",
       "238. 'single_cell_0_X4_Monocytes...CD14__ICAM1'\n",
       "239. 'single_cell_0_X4_Monocytes...CD14__ICAM3'\n",
       "240. 'single_cell_0_X4_Monocytes...CD14__IL1B'\n",
       "241. 'single_cell_0_X4_Monocytes...CD14__LGALS3'\n",
       "242. 'single_cell_0_X4_Monocytes...CD14__LRPAP1'\n",
       "243. 'single_cell_0_X4_Monocytes...CD14__LTB'\n",
       "244. 'single_cell_0_X4_Monocytes...CD14__MIF'\n",
       "245. 'single_cell_0_X4_Monocytes...CD14__PECAM1'\n",
       "246. 'single_cell_0_X4_Monocytes...CD14__PSAP'\n",
       "247. 'single_cell_0_X4_Monocytes...CD14__PSEN1'\n",
       "248. 'single_cell_0_X4_Monocytes...CD14__PTPRC'\n",
       "249. 'single_cell_0_X4_Monocytes...CD14__RTN4'\n",
       "250. 'single_cell_0_X4_Monocytes...CD14__SERPINA1'\n",
       "251. 'single_cell_0_X4_Monocytes...CD14__TGFB1'\n",
       "252. 'single_cell_0_X4_Monocytes...CD14__TIMP1'\n",
       "253. 'single_cell_0_X4_Monocytes...CD14__TNFSF10'\n",
       "254. 'single_cell_0_X4_Monocytes...CD14__TNFSF13B'\n",
       "255. 'single_cell_0_X5_T.cell.CD4__ANXA1'\n",
       "256. 'single_cell_0_X5_T.cell.CD4__CALM1'\n",
       "257. 'single_cell_0_X5_T.cell.CD4__CD2'\n",
       "258. 'single_cell_0_X5_T.cell.CD4__HMGB1'\n",
       "259. 'single_cell_0_X5_T.cell.CD4__HMGB2'\n",
       "260. 'single_cell_0_X5_T.cell.CD4__HSP90B1'\n",
       "261. 'single_cell_0_X5_T.cell.CD4__ICAM3'\n",
       "262. 'single_cell_0_X5_T.cell.CD4__LTB'\n",
       "263. 'single_cell_0_X5_T.cell.CD4__PTPRC'\n",
       "264. 'single_cell_0_X5_T.cell.CD4__SELL'\n",
       "265. 'single_cell_0_X6_Monocytes...CD14__ADAM17'\n",
       "266. 'single_cell_0_X6_Monocytes...CD14__ANXA1'\n",
       "267. 'single_cell_0_X6_Monocytes...CD14__ARF1'\n",
       "268. 'single_cell_0_X6_Monocytes...CD14__CALM1'\n",
       "269. 'single_cell_0_X6_Monocytes...CD14__CALR'\n",
       "270. 'single_cell_0_X6_Monocytes...CD14__CXCL2'\n",
       "271. 'single_cell_0_X6_Monocytes...CD14__GRN'\n",
       "272. 'single_cell_0_X6_Monocytes...CD14__GSTP1'\n",
       "273. 'single_cell_0_X6_Monocytes...CD14__HMGB1'\n",
       "274. 'single_cell_0_X6_Monocytes...CD14__HMGB2'\n",
       "275. 'single_cell_0_X6_Monocytes...CD14__HSP90B1'\n",
       "276. 'single_cell_0_X6_Monocytes...CD14__ICAM1'\n",
       "277. 'single_cell_0_X6_Monocytes...CD14__ICAM3'\n",
       "278. 'single_cell_0_X6_Monocytes...CD14__IL1B'\n",
       "279. 'single_cell_0_X6_Monocytes...CD14__LGALS3'\n",
       "280. 'single_cell_0_X6_Monocytes...CD14__LRPAP1'\n",
       "281. 'single_cell_0_X6_Monocytes...CD14__PECAM1'\n",
       "282. 'single_cell_0_X6_Monocytes...CD14__PSAP'\n",
       "283. 'single_cell_0_X6_Monocytes...CD14__PSEN1'\n",
       "284. 'single_cell_0_X6_Monocytes...CD14__PTPRC'\n",
       "285. 'single_cell_0_X6_Monocytes...CD14__RTN4'\n",
       "286. 'single_cell_0_X6_Monocytes...CD14__SERPINA1'\n",
       "287. 'single_cell_0_X6_Monocytes...CD14__TGFB1'\n",
       "288. 'single_cell_0_X6_Monocytes...CD14__THBS1'\n",
       "289. 'single_cell_0_X6_Monocytes...CD14__TIMP1'\n",
       "290. 'single_cell_0_X6_Monocytes...CD14__TNFSF10'\n",
       "291. 'single_cell_0_X6_Monocytes...CD14__TNFSF13B'\n",
       "292. 'single_cell_0_X7_Monocytes...CD14__ANXA1'\n",
       "293. 'single_cell_0_X7_Monocytes...CD14__ARF1'\n",
       "294. 'single_cell_0_X7_Monocytes...CD14__CALM1'\n",
       "295. 'single_cell_0_X7_Monocytes...CD14__CALR'\n",
       "296. 'single_cell_0_X7_Monocytes...CD14__GRN'\n",
       "297. 'single_cell_0_X7_Monocytes...CD14__GSTP1'\n",
       "298. 'single_cell_0_X7_Monocytes...CD14__HMGB1'\n",
       "299. 'single_cell_0_X7_Monocytes...CD14__HMGB2'\n",
       "300. 'single_cell_0_X7_Monocytes...CD14__HSP90B1'\n",
       "301. 'single_cell_0_X7_Monocytes...CD14__ICAM3'\n",
       "302. 'single_cell_0_X7_Monocytes...CD14__IL1B'\n",
       "303. 'single_cell_0_X7_Monocytes...CD14__LGALS3'\n",
       "304. 'single_cell_0_X7_Monocytes...CD14__LRPAP1'\n",
       "305. 'single_cell_0_X7_Monocytes...CD14__PECAM1'\n",
       "306. 'single_cell_0_X7_Monocytes...CD14__PSAP'\n",
       "307. 'single_cell_0_X7_Monocytes...CD14__PTPRC'\n",
       "308. 'single_cell_0_X7_Monocytes...CD14__RTN4'\n",
       "309. 'single_cell_0_X7_Monocytes...CD14__SERPINA1'\n",
       "310. 'single_cell_0_X7_Monocytes...CD14__TGFB1'\n",
       "311. 'single_cell_0_X7_Monocytes...CD14__TIMP1'\n",
       "312. 'single_cell_0_X7_Monocytes...CD14__TNFSF10'\n",
       "313. 'single_cell_0_X7_Monocytes...CD14__TNFSF13B'\n",
       "314. 'single_cell_0_X8_B.cell__CALM1'\n",
       "315. 'single_cell_0_X8_B.cell__CALR'\n",
       "316. 'single_cell_0_X8_B.cell__HMGB1'\n",
       "317. 'single_cell_0_X8_B.cell__HMGB2'\n",
       "318. 'single_cell_0_X8_B.cell__HSP90B1'\n",
       "319. 'single_cell_0_X8_B.cell__LTB'\n",
       "320. 'single_cell_0_X8_B.cell__PTPRC'\n",
       "321. 'single_cell_0_X8_B.cell__SELL'\n",
       "322. 'single_cell_0_X9_Monocytes...CD16_FCGR3A__ANXA1'\n",
       "323. 'single_cell_0_X9_Monocytes...CD16_FCGR3A__ARF1'\n",
       "324. 'single_cell_0_X9_Monocytes...CD16_FCGR3A__CALM1'\n",
       "325. 'single_cell_0_X9_Monocytes...CD16_FCGR3A__CALR'\n",
       "326. 'single_cell_0_X9_Monocytes...CD16_FCGR3A__CXCL16'\n",
       "327. 'single_cell_0_X9_Monocytes...CD16_FCGR3A__GRN'\n",
       "328. 'single_cell_0_X9_Monocytes...CD16_FCGR3A__GSTP1'\n",
       "329. 'single_cell_0_X9_Monocytes...CD16_FCGR3A__HMGB1'\n",
       "330. 'single_cell_0_X9_Monocytes...CD16_FCGR3A__HMGB2'\n",
       "331. 'single_cell_0_X9_Monocytes...CD16_FCGR3A__HSP90B1'\n",
       "332. 'single_cell_0_X9_Monocytes...CD16_FCGR3A__ICAM3'\n",
       "333. 'single_cell_0_X9_Monocytes...CD16_FCGR3A__IL1B'\n",
       "334. 'single_cell_0_X9_Monocytes...CD16_FCGR3A__LGALS3'\n",
       "335. 'single_cell_0_X9_Monocytes...CD16_FCGR3A__NAMPT'\n",
       "336. 'single_cell_0_X9_Monocytes...CD16_FCGR3A__PECAM1'\n",
       "337. 'single_cell_0_X9_Monocytes...CD16_FCGR3A__PSAP'\n",
       "338. 'single_cell_0_X9_Monocytes...CD16_FCGR3A__PTPRC'\n",
       "339. 'single_cell_0_X9_Monocytes...CD16_FCGR3A__RTN4'\n",
       "340. 'single_cell_0_X9_Monocytes...CD16_FCGR3A__SERPINA1'\n",
       "341. 'single_cell_0_X9_Monocytes...CD16_FCGR3A__TGFB1'\n",
       "342. 'single_cell_0_X9_Monocytes...CD16_FCGR3A__TIMP1'\n",
       "343. 'single_cell_0_X9_Monocytes...CD16_FCGR3A__TNFSF10'\n",
       "344. 'single_cell_0_X9_Monocytes...CD16_FCGR3A__TNFSF13B'\n",
       "\n",
       "\n"
      ],
      "text/plain": [
       "[1] cytokine_0_BCA1__CXCL13    cytokine_0_CTACK__CCL27   \n",
       "[3] cytokine_0_EGF__EGF        cytokine_0_ENA78__CXCL5   \n",
       "[5] cytokine_0_Eotaxin3__CCL26 cytokine_0_FGF2__FGF2     \n",
       "344 Levels: cytokine_0_BCA1__CXCL13 ... single_cell_0_X9_Monocytes...CD16_FCGR3A__TNFSF13B"
      ]
     },
     "metadata": {},
     "output_type": "display_data"
    }
   ],
   "source": [
    "head(sort(unique(ligand_target_correlations$Ligand)))"
   ]
  },
  {
   "cell_type": "code",
   "execution_count": 542,
   "id": "6782e731-c592-4e50-874a-25682a0037c1",
   "metadata": {},
   "outputs": [
    {
     "data": {
      "text/html": [
       "<style>\n",
       ".list-inline {list-style: none; margin:0; padding: 0}\n",
       ".list-inline>li {display: inline-block}\n",
       ".list-inline>li:not(:last-child)::after {content: \"\\00b7\"; padding: 0 .5ex}\n",
       "</style>\n",
       "<ol class=list-inline><li>'clinical_data'</li><li>'cytokine'</li><li>'neutrophil'</li><li>'proteomics'</li><li>'single_cell_0_X0_T.cell.CD4'</li><li>'single_cell_0_X1_T.cell.CD8'</li><li>'single_cell_0_X10_B.cell'</li><li>'single_cell_0_X11_T.cell.CD4'</li><li>'single_cell_0_X12_Monocytes...CD16_FCGR3A'</li><li>'single_cell_0_X13_Dendritic'</li><li>'single_cell_0_X2_T.cell.CD4'</li><li>'single_cell_0_X3_NK'</li><li>'single_cell_0_X4_Monocytes...CD14'</li><li>'single_cell_0_X5_T.cell.CD4'</li><li>'single_cell_0_X6_Monocytes...CD14'</li><li>'single_cell_0_X7_Monocytes...CD14'</li><li>'single_cell_0_X8_B.cell'</li><li>'single_cell_0_X9_Monocytes...CD16_FCGR3A'</li></ol>\n"
      ],
      "text/latex": [
       "\\begin{enumerate*}\n",
       "\\item 'clinical\\_data'\n",
       "\\item 'cytokine'\n",
       "\\item 'neutrophil'\n",
       "\\item 'proteomics'\n",
       "\\item 'single\\_cell\\_0\\_X0\\_T.cell.CD4'\n",
       "\\item 'single\\_cell\\_0\\_X1\\_T.cell.CD8'\n",
       "\\item 'single\\_cell\\_0\\_X10\\_B.cell'\n",
       "\\item 'single\\_cell\\_0\\_X11\\_T.cell.CD4'\n",
       "\\item 'single\\_cell\\_0\\_X12\\_Monocytes...CD16\\_FCGR3A'\n",
       "\\item 'single\\_cell\\_0\\_X13\\_Dendritic'\n",
       "\\item 'single\\_cell\\_0\\_X2\\_T.cell.CD4'\n",
       "\\item 'single\\_cell\\_0\\_X3\\_NK'\n",
       "\\item 'single\\_cell\\_0\\_X4\\_Monocytes...CD14'\n",
       "\\item 'single\\_cell\\_0\\_X5\\_T.cell.CD4'\n",
       "\\item 'single\\_cell\\_0\\_X6\\_Monocytes...CD14'\n",
       "\\item 'single\\_cell\\_0\\_X7\\_Monocytes...CD14'\n",
       "\\item 'single\\_cell\\_0\\_X8\\_B.cell'\n",
       "\\item 'single\\_cell\\_0\\_X9\\_Monocytes...CD16\\_FCGR3A'\n",
       "\\end{enumerate*}\n"
      ],
      "text/markdown": [
       "1. 'clinical_data'\n",
       "2. 'cytokine'\n",
       "3. 'neutrophil'\n",
       "4. 'proteomics'\n",
       "5. 'single_cell_0_X0_T.cell.CD4'\n",
       "6. 'single_cell_0_X1_T.cell.CD8'\n",
       "7. 'single_cell_0_X10_B.cell'\n",
       "8. 'single_cell_0_X11_T.cell.CD4'\n",
       "9. 'single_cell_0_X12_Monocytes...CD16_FCGR3A'\n",
       "10. 'single_cell_0_X13_Dendritic'\n",
       "11. 'single_cell_0_X2_T.cell.CD4'\n",
       "12. 'single_cell_0_X3_NK'\n",
       "13. 'single_cell_0_X4_Monocytes...CD14'\n",
       "14. 'single_cell_0_X5_T.cell.CD4'\n",
       "15. 'single_cell_0_X6_Monocytes...CD14'\n",
       "16. 'single_cell_0_X7_Monocytes...CD14'\n",
       "17. 'single_cell_0_X8_B.cell'\n",
       "18. 'single_cell_0_X9_Monocytes...CD16_FCGR3A'\n",
       "\n",
       "\n"
      ],
      "text/plain": [
       " [1] \"clinical_data\"                            \n",
       " [2] \"cytokine\"                                 \n",
       " [3] \"neutrophil\"                               \n",
       " [4] \"proteomics\"                               \n",
       " [5] \"single_cell_0_X0_T.cell.CD4\"              \n",
       " [6] \"single_cell_0_X1_T.cell.CD8\"              \n",
       " [7] \"single_cell_0_X10_B.cell\"                 \n",
       " [8] \"single_cell_0_X11_T.cell.CD4\"             \n",
       " [9] \"single_cell_0_X12_Monocytes...CD16_FCGR3A\"\n",
       "[10] \"single_cell_0_X13_Dendritic\"              \n",
       "[11] \"single_cell_0_X2_T.cell.CD4\"              \n",
       "[12] \"single_cell_0_X3_NK\"                      \n",
       "[13] \"single_cell_0_X4_Monocytes...CD14\"        \n",
       "[14] \"single_cell_0_X5_T.cell.CD4\"              \n",
       "[15] \"single_cell_0_X6_Monocytes...CD14\"        \n",
       "[16] \"single_cell_0_X7_Monocytes...CD14\"        \n",
       "[17] \"single_cell_0_X8_B.cell\"                  \n",
       "[18] \"single_cell_0_X9_Monocytes...CD16_FCGR3A\" "
      ]
     },
     "metadata": {},
     "output_type": "display_data"
    }
   ],
   "source": [
    "unique(ligand_target_correlations$Target_Type)"
   ]
  },
  {
   "cell_type": "code",
   "execution_count": 543,
   "id": "fcd0583b-7e85-4d78-ab3c-fce11cf7ba5f",
   "metadata": {},
   "outputs": [],
   "source": [
    "ligand_target_correlations$cluster = str_replace(ligand_target_correlations$Target_Type, 'single_cell_0_', '')"
   ]
  },
  {
   "cell_type": "code",
   "execution_count": 544,
   "id": "3cf25a82-61f2-4a07-8d3c-a547fbd16226",
   "metadata": {},
   "outputs": [
    {
     "data": {
      "text/html": [
       "<style>\n",
       ".list-inline {list-style: none; margin:0; padding: 0}\n",
       ".list-inline>li {display: inline-block}\n",
       ".list-inline>li:not(:last-child)::after {content: \"\\00b7\"; padding: 0 .5ex}\n",
       "</style>\n",
       "<ol class=list-inline><li>'clinical_data'</li><li>'cytokine'</li><li>'neutrophil'</li><li>'proteomics'</li><li>'X0_T.cell.CD4'</li><li>'X1_T.cell.CD8'</li><li>'X10_B.cell'</li><li>'X11_T.cell.CD4'</li><li>'X12_Monocytes...CD16_FCGR3A'</li><li>'X13_Dendritic'</li><li>'X2_T.cell.CD4'</li><li>'X3_NK'</li><li>'X4_Monocytes...CD14'</li><li>'X5_T.cell.CD4'</li><li>'X6_Monocytes...CD14'</li><li>'X7_Monocytes...CD14'</li><li>'X8_B.cell'</li><li>'X9_Monocytes...CD16_FCGR3A'</li></ol>\n"
      ],
      "text/latex": [
       "\\begin{enumerate*}\n",
       "\\item 'clinical\\_data'\n",
       "\\item 'cytokine'\n",
       "\\item 'neutrophil'\n",
       "\\item 'proteomics'\n",
       "\\item 'X0\\_T.cell.CD4'\n",
       "\\item 'X1\\_T.cell.CD8'\n",
       "\\item 'X10\\_B.cell'\n",
       "\\item 'X11\\_T.cell.CD4'\n",
       "\\item 'X12\\_Monocytes...CD16\\_FCGR3A'\n",
       "\\item 'X13\\_Dendritic'\n",
       "\\item 'X2\\_T.cell.CD4'\n",
       "\\item 'X3\\_NK'\n",
       "\\item 'X4\\_Monocytes...CD14'\n",
       "\\item 'X5\\_T.cell.CD4'\n",
       "\\item 'X6\\_Monocytes...CD14'\n",
       "\\item 'X7\\_Monocytes...CD14'\n",
       "\\item 'X8\\_B.cell'\n",
       "\\item 'X9\\_Monocytes...CD16\\_FCGR3A'\n",
       "\\end{enumerate*}\n"
      ],
      "text/markdown": [
       "1. 'clinical_data'\n",
       "2. 'cytokine'\n",
       "3. 'neutrophil'\n",
       "4. 'proteomics'\n",
       "5. 'X0_T.cell.CD4'\n",
       "6. 'X1_T.cell.CD8'\n",
       "7. 'X10_B.cell'\n",
       "8. 'X11_T.cell.CD4'\n",
       "9. 'X12_Monocytes...CD16_FCGR3A'\n",
       "10. 'X13_Dendritic'\n",
       "11. 'X2_T.cell.CD4'\n",
       "12. 'X3_NK'\n",
       "13. 'X4_Monocytes...CD14'\n",
       "14. 'X5_T.cell.CD4'\n",
       "15. 'X6_Monocytes...CD14'\n",
       "16. 'X7_Monocytes...CD14'\n",
       "17. 'X8_B.cell'\n",
       "18. 'X9_Monocytes...CD16_FCGR3A'\n",
       "\n",
       "\n"
      ],
      "text/plain": [
       " [1] \"clinical_data\"               \"cytokine\"                   \n",
       " [3] \"neutrophil\"                  \"proteomics\"                 \n",
       " [5] \"X0_T.cell.CD4\"               \"X1_T.cell.CD8\"              \n",
       " [7] \"X10_B.cell\"                  \"X11_T.cell.CD4\"             \n",
       " [9] \"X12_Monocytes...CD16_FCGR3A\" \"X13_Dendritic\"              \n",
       "[11] \"X2_T.cell.CD4\"               \"X3_NK\"                      \n",
       "[13] \"X4_Monocytes...CD14\"         \"X5_T.cell.CD4\"              \n",
       "[15] \"X6_Monocytes...CD14\"         \"X7_Monocytes...CD14\"        \n",
       "[17] \"X8_B.cell\"                   \"X9_Monocytes...CD16_FCGR3A\" "
      ]
     },
     "metadata": {},
     "output_type": "display_data"
    }
   ],
   "source": [
    "unique(ligand_target_correlations$cluster)"
   ]
  },
  {
   "cell_type": "code",
   "execution_count": 545,
   "id": "4e5c2d62-0ac1-4b8c-b360-dc03df6aea14",
   "metadata": {},
   "outputs": [
    {
     "data": {
      "text/html": [
       "<table class=\"dataframe\">\n",
       "<caption>A data.frame: 2 × 8</caption>\n",
       "<thead>\n",
       "\t<tr><th></th><th scope=col>Ligand</th><th scope=col>Target</th><th scope=col>correlation</th><th scope=col>Target_Gene</th><th scope=col>Ligand_Gene</th><th scope=col>Target_Type</th><th scope=col>Ligand_Type</th><th scope=col>cluster</th></tr>\n",
       "\t<tr><th></th><th scope=col>&lt;fct&gt;</th><th scope=col>&lt;fct&gt;</th><th scope=col>&lt;dbl&gt;</th><th scope=col>&lt;chr&gt;</th><th scope=col>&lt;chr&gt;</th><th scope=col>&lt;chr&gt;</th><th scope=col>&lt;chr&gt;</th><th scope=col>&lt;chr&gt;</th></tr>\n",
       "</thead>\n",
       "<tbody>\n",
       "\t<tr><th scope=row>1</th><td>cytokine_0_BCA1__CXCL13</td><td>clinical_data_0_CK</td><td> 0.04568048</td><td>CK</td><td>CXCL13</td><td>clinical_data</td><td>cytokine</td><td>clinical_data</td></tr>\n",
       "\t<tr><th scope=row>2</th><td>cytokine_0_CTACK__CCL27</td><td>clinical_data_0_CK</td><td>-0.19761446</td><td>CK</td><td>CCL27 </td><td>clinical_data</td><td>cytokine</td><td>clinical_data</td></tr>\n",
       "</tbody>\n",
       "</table>\n"
      ],
      "text/latex": [
       "A data.frame: 2 × 8\n",
       "\\begin{tabular}{r|llllllll}\n",
       "  & Ligand & Target & correlation & Target\\_Gene & Ligand\\_Gene & Target\\_Type & Ligand\\_Type & cluster\\\\\n",
       "  & <fct> & <fct> & <dbl> & <chr> & <chr> & <chr> & <chr> & <chr>\\\\\n",
       "\\hline\n",
       "\t1 & cytokine\\_0\\_BCA1\\_\\_CXCL13 & clinical\\_data\\_0\\_CK &  0.04568048 & CK & CXCL13 & clinical\\_data & cytokine & clinical\\_data\\\\\n",
       "\t2 & cytokine\\_0\\_CTACK\\_\\_CCL27 & clinical\\_data\\_0\\_CK & -0.19761446 & CK & CCL27  & clinical\\_data & cytokine & clinical\\_data\\\\\n",
       "\\end{tabular}\n"
      ],
      "text/markdown": [
       "\n",
       "A data.frame: 2 × 8\n",
       "\n",
       "| <!--/--> | Ligand &lt;fct&gt; | Target &lt;fct&gt; | correlation &lt;dbl&gt; | Target_Gene &lt;chr&gt; | Ligand_Gene &lt;chr&gt; | Target_Type &lt;chr&gt; | Ligand_Type &lt;chr&gt; | cluster &lt;chr&gt; |\n",
       "|---|---|---|---|---|---|---|---|---|\n",
       "| 1 | cytokine_0_BCA1__CXCL13 | clinical_data_0_CK |  0.04568048 | CK | CXCL13 | clinical_data | cytokine | clinical_data |\n",
       "| 2 | cytokine_0_CTACK__CCL27 | clinical_data_0_CK | -0.19761446 | CK | CCL27  | clinical_data | cytokine | clinical_data |\n",
       "\n"
      ],
      "text/plain": [
       "  Ligand                  Target             correlation Target_Gene\n",
       "1 cytokine_0_BCA1__CXCL13 clinical_data_0_CK  0.04568048 CK         \n",
       "2 cytokine_0_CTACK__CCL27 clinical_data_0_CK -0.19761446 CK         \n",
       "  Ligand_Gene Target_Type   Ligand_Type cluster      \n",
       "1 CXCL13      clinical_data cytokine    clinical_data\n",
       "2 CCL27       clinical_data cytokine    clinical_data"
      ]
     },
     "metadata": {},
     "output_type": "display_data"
    }
   ],
   "source": [
    "head(ligand_target_correlations,2)"
   ]
  },
  {
   "cell_type": "markdown",
   "id": "34fd691d-2cd4-40ec-94ae-f69f4ac37db7",
   "metadata": {
    "tags": []
   },
   "source": [
    "## Filter on ligands with matching receptor in target"
   ]
  },
  {
   "cell_type": "code",
   "execution_count": 546,
   "id": "df075c80-9948-425e-8729-52d9441124dc",
   "metadata": {},
   "outputs": [
    {
     "data": {
      "text/html": [
       "<table class=\"dataframe\">\n",
       "<caption>A data.frame: 2 × 2</caption>\n",
       "<thead>\n",
       "\t<tr><th></th><th scope=col>Ligand</th><th scope=col>cluster_R</th></tr>\n",
       "\t<tr><th></th><th scope=col>&lt;chr&gt;</th><th scope=col>&lt;chr&gt;</th></tr>\n",
       "</thead>\n",
       "<tbody>\n",
       "\t<tr><th scope=row>1</th><td>APOA1</td><td>X4_Monocytes...CD14</td></tr>\n",
       "\t<tr><th scope=row>2</th><td>APOA1</td><td>X6_Monocytes...CD14</td></tr>\n",
       "</tbody>\n",
       "</table>\n"
      ],
      "text/latex": [
       "A data.frame: 2 × 2\n",
       "\\begin{tabular}{r|ll}\n",
       "  & Ligand & cluster\\_R\\\\\n",
       "  & <chr> & <chr>\\\\\n",
       "\\hline\n",
       "\t1 & APOA1 & X4\\_Monocytes...CD14\\\\\n",
       "\t2 & APOA1 & X6\\_Monocytes...CD14\\\\\n",
       "\\end{tabular}\n"
      ],
      "text/markdown": [
       "\n",
       "A data.frame: 2 × 2\n",
       "\n",
       "| <!--/--> | Ligand &lt;chr&gt; | cluster_R &lt;chr&gt; |\n",
       "|---|---|---|\n",
       "| 1 | APOA1 | X4_Monocytes...CD14 |\n",
       "| 2 | APOA1 | X6_Monocytes...CD14 |\n",
       "\n"
      ],
      "text/plain": [
       "  Ligand cluster_R          \n",
       "1 APOA1  X4_Monocytes...CD14\n",
       "2 APOA1  X6_Monocytes...CD14"
      ]
     },
     "metadata": {},
     "output_type": "display_data"
    }
   ],
   "source": [
    "head(potential_ligand_target_types_comb,2) # dataset with available receptor for ligands in target types"
   ]
  },
  {
   "cell_type": "code",
   "execution_count": 547,
   "id": "7a76f257-44b3-48cf-b136-139563f302be",
   "metadata": {},
   "outputs": [
    {
     "data": {
      "text/html": [
       "4451016"
      ],
      "text/latex": [
       "4451016"
      ],
      "text/markdown": [
       "4451016"
      ],
      "text/plain": [
       "[1] 4451016"
      ]
     },
     "metadata": {},
     "output_type": "display_data"
    }
   ],
   "source": [
    "nrow(ligand_target_correlations)"
   ]
  },
  {
   "cell_type": "code",
   "execution_count": 548,
   "id": "9ad3e57a-784f-4e49-baea-3c9c058ea6e7",
   "metadata": {},
   "outputs": [],
   "source": [
    "filter_matched_receptor = TRUE  # filter out ligands for which there is a receptor in the target type if true"
   ]
  },
  {
   "cell_type": "code",
   "execution_count": 549,
   "id": "d457c105-e8cd-4f72-b452-0c01a13febb4",
   "metadata": {},
   "outputs": [],
   "source": [
    "if(filter_matched_receptor == TRUE){\n",
    "    ### seperately add clinical, proteomics as target (as here no filtering based on expression is applied)\n",
    "    no_sc = ligand_target_correlations[ligand_target_correlations$Target_Type %in%  c('clinical_data', 'proteomics', 'neutrophil'),]\n",
    "    ### filter the ligands\n",
    "    ligand_target_correlations = merge(ligand_target_correlations, potential_ligand_target_types_comb[,c('Ligand', 'cluster_R')], by.x = c('Ligand_Gene', 'cluster'), by.y = c('Ligand', 'cluster_R'))\n",
    "    \n",
    "    ### add other omics data\n",
    "    ligand_target_correlations = rbind(ligand_target_correlations, no_sc)\n",
    "    \n",
    "}"
   ]
  },
  {
   "cell_type": "code",
   "execution_count": 550,
   "id": "6d24c6e9-3487-441c-b8c3-ccd5b55ccba8",
   "metadata": {},
   "outputs": [
    {
     "data": {
      "text/html": [
       "3522537"
      ],
      "text/latex": [
       "3522537"
      ],
      "text/markdown": [
       "3522537"
      ],
      "text/plain": [
       "[1] 3522537"
      ]
     },
     "metadata": {},
     "output_type": "display_data"
    }
   ],
   "source": [
    "nrow(ligand_target_correlations)"
   ]
  },
  {
   "cell_type": "markdown",
   "id": "4c3d3f22-e7e4-4719-bb86-f67014b2c53c",
   "metadata": {
    "tags": []
   },
   "source": [
    "## Add regulatory potential"
   ]
  },
  {
   "cell_type": "code",
   "execution_count": 551,
   "id": "97fc1c00-8c1c-4b73-ae0e-c898a0ed3a65",
   "metadata": {},
   "outputs": [],
   "source": [
    "## add ligand target regulatory potential score from nichenet to the data"
   ]
  },
  {
   "cell_type": "code",
   "execution_count": 552,
   "id": "58e7451a-647d-47f7-aa51-a234494a6cdb",
   "metadata": {},
   "outputs": [
    {
     "data": {
      "text/html": [
       "<table class=\"dataframe\">\n",
       "<caption>A data.frame: 2 × 3</caption>\n",
       "<thead>\n",
       "\t<tr><th></th><th scope=col>target</th><th scope=col>ligand</th><th scope=col>regulatory_potential</th></tr>\n",
       "\t<tr><th></th><th scope=col>&lt;fct&gt;</th><th scope=col>&lt;fct&gt;</th><th scope=col>&lt;dbl&gt;</th></tr>\n",
       "</thead>\n",
       "<tbody>\n",
       "\t<tr><th scope=row>1</th><td>A1BG    </td><td>CXCL1</td><td>0.0003534343</td></tr>\n",
       "\t<tr><th scope=row>2</th><td>A1BG-AS1</td><td>CXCL1</td><td>0.0001650894</td></tr>\n",
       "</tbody>\n",
       "</table>\n"
      ],
      "text/latex": [
       "A data.frame: 2 × 3\n",
       "\\begin{tabular}{r|lll}\n",
       "  & target & ligand & regulatory\\_potential\\\\\n",
       "  & <fct> & <fct> & <dbl>\\\\\n",
       "\\hline\n",
       "\t1 & A1BG     & CXCL1 & 0.0003534343\\\\\n",
       "\t2 & A1BG-AS1 & CXCL1 & 0.0001650894\\\\\n",
       "\\end{tabular}\n"
      ],
      "text/markdown": [
       "\n",
       "A data.frame: 2 × 3\n",
       "\n",
       "| <!--/--> | target &lt;fct&gt; | ligand &lt;fct&gt; | regulatory_potential &lt;dbl&gt; |\n",
       "|---|---|---|---|\n",
       "| 1 | A1BG     | CXCL1 | 0.0003534343 |\n",
       "| 2 | A1BG-AS1 | CXCL1 | 0.0001650894 |\n",
       "\n"
      ],
      "text/plain": [
       "  target   ligand regulatory_potential\n",
       "1 A1BG     CXCL1  0.0003534343        \n",
       "2 A1BG-AS1 CXCL1  0.0001650894        "
      ]
     },
     "metadata": {},
     "output_type": "display_data"
    }
   ],
   "source": [
    "head(ligand_target_matrix_long,2) # regulatory potential scores from nichenet"
   ]
  },
  {
   "cell_type": "code",
   "execution_count": 553,
   "id": "319efddf-541e-4d57-9a96-163e018913f2",
   "metadata": {},
   "outputs": [],
   "source": [
    "### Adjust target gene names for clinical data (to be included later on)\n",
    "ligand_target_correlations$Target_Gene[ligand_target_correlations$Target == 'clinical_data_0_CK'] = 'CKM'\n",
    "ligand_target_correlations$Target_Gene[ligand_target_correlations$Target == 'clinical_data_0_CK_MB'] = 'CKB'\n",
    "ligand_target_correlations$Target_Gene[ligand_target_correlations$Target == 'clinical_data_0_Troponin'] = 'TNNT2'"
   ]
  },
  {
   "cell_type": "code",
   "execution_count": 554,
   "id": "7d5ebdbd-7480-4f48-9bac-f6a343d27d47",
   "metadata": {},
   "outputs": [],
   "source": [
    "### Merge regulatory potential scores"
   ]
  },
  {
   "cell_type": "code",
   "execution_count": 555,
   "id": "42a3fc61-d2ed-42e2-bbc8-199264d61a23",
   "metadata": {},
   "outputs": [],
   "source": [
    "ligand_target_correlations = merge(ligand_target_correlations, ligand_target_matrix_long, by.x = c('Ligand_Gene', 'Target_Gene'), by.y = c('ligand', 'target'))"
   ]
  },
  {
   "cell_type": "code",
   "execution_count": 556,
   "id": "15ec68da-5550-4e2f-b0cc-062eeb2bf4b4",
   "metadata": {},
   "outputs": [
    {
     "data": {
      "text/html": [
       "3314320"
      ],
      "text/latex": [
       "3314320"
      ],
      "text/markdown": [
       "3314320"
      ],
      "text/plain": [
       "[1] 3314320"
      ]
     },
     "metadata": {},
     "output_type": "display_data"
    }
   ],
   "source": [
    "nrow(ligand_target_correlations)"
   ]
  },
  {
   "cell_type": "code",
   "execution_count": 557,
   "id": "0c050d14-2bc5-484b-b014-5294bf3e65de",
   "metadata": {},
   "outputs": [],
   "source": [
    "## scale the regulatory potential score based on max value"
   ]
  },
  {
   "cell_type": "code",
   "execution_count": 558,
   "id": "bc40ffa8-96b3-4af3-ba5e-6e22132ef518",
   "metadata": {},
   "outputs": [],
   "source": [
    "ligand_target_correlations$regulatory_potential_scaled = ligand_target_correlations$regulatory_potential/ max(ligand_target_correlations$regulatory_potential)"
   ]
  },
  {
   "cell_type": "markdown",
   "id": "6bbcfe81-c047-41ce-890c-c0752bc26ac0",
   "metadata": {
    "tags": []
   },
   "source": [
    "## Adjustments to ligand-target correlations"
   ]
  },
  {
   "cell_type": "code",
   "execution_count": 559,
   "id": "e9658dd3-77e7-41fd-8395-9906316f760d",
   "metadata": {},
   "outputs": [],
   "source": [
    "### Remove cytokines that have been calculated as targets (because not included in ligand list above)"
   ]
  },
  {
   "cell_type": "code",
   "execution_count": 560,
   "id": "66250797-eb55-4a8d-8a04-f17d9d16e1a7",
   "metadata": {},
   "outputs": [
    {
     "data": {
      "text/html": [
       "3314320"
      ],
      "text/latex": [
       "3314320"
      ],
      "text/markdown": [
       "3314320"
      ],
      "text/plain": [
       "[1] 3314320"
      ]
     },
     "metadata": {},
     "output_type": "display_data"
    }
   ],
   "source": [
    "nrow(ligand_target_correlations)"
   ]
  },
  {
   "cell_type": "code",
   "execution_count": 561,
   "id": "7fd55f4e-4e5a-4c9d-a1ed-420c1452b3b1",
   "metadata": {},
   "outputs": [],
   "source": [
    "ligand_target_correlations = ligand_target_correlations[ligand_target_correlations$Target_Type != 'cytokine',]"
   ]
  },
  {
   "cell_type": "code",
   "execution_count": 562,
   "id": "328490cd-82c4-482f-9bcb-8de1381d8c18",
   "metadata": {},
   "outputs": [
    {
     "data": {
      "text/html": [
       "3314320"
      ],
      "text/latex": [
       "3314320"
      ],
      "text/markdown": [
       "3314320"
      ],
      "text/plain": [
       "[1] 3314320"
      ]
     },
     "metadata": {},
     "output_type": "display_data"
    }
   ],
   "source": [
    "nrow(ligand_target_correlations)"
   ]
  },
  {
   "cell_type": "code",
   "execution_count": 563,
   "id": "98cb0ba0-d953-4732-97d2-ccaef93a6dfb",
   "metadata": {},
   "outputs": [],
   "source": [
    "### Only look at between cell-type communications --> remove same cell-type Links"
   ]
  },
  {
   "cell_type": "code",
   "execution_count": 564,
   "id": "4f41e8de-a4d9-4169-84dd-ee046a17b098",
   "metadata": {},
   "outputs": [],
   "source": [
    "ligand_target_correlations$Target_Cell_Type = str_replace(ligand_target_correlations$Target_Type, '.*_X\\\\d_|.*_X\\\\d\\\\d_','')"
   ]
  },
  {
   "cell_type": "code",
   "execution_count": 565,
   "id": "347e8379-2463-48dc-be1c-a3f777e112a1",
   "metadata": {},
   "outputs": [],
   "source": [
    "ligand_target_correlations$Ligand_Cell_Type = str_replace(ligand_target_correlations$Ligand_Type, '.*_X\\\\d_|.*_X\\\\d\\\\d_','')"
   ]
  },
  {
   "cell_type": "code",
   "execution_count": 566,
   "id": "ae650eda-ac47-4b64-a8c0-3c47ecc11c03",
   "metadata": {},
   "outputs": [],
   "source": [
    "ligand_target_correlations = ligand_target_correlations[ligand_target_correlations$Target_Cell_Type != ligand_target_correlations$Ligand_Cell_Type,]"
   ]
  },
  {
   "cell_type": "code",
   "execution_count": 567,
   "id": "8dfa3e4f-1719-4cf9-a02d-919a8c3435a8",
   "metadata": {},
   "outputs": [
    {
     "data": {
      "text/html": [
       "2721225"
      ],
      "text/latex": [
       "2721225"
      ],
      "text/markdown": [
       "2721225"
      ],
      "text/plain": [
       "[1] 2721225"
      ]
     },
     "metadata": {},
     "output_type": "display_data"
    }
   ],
   "source": [
    "nrow(ligand_target_correlations)"
   ]
  },
  {
   "cell_type": "markdown",
   "id": "1db9326e-d1b9-48a9-bcfc-8c4dac9e3a8b",
   "metadata": {
    "tags": []
   },
   "source": [
    "## Save the ligand target data"
   ]
  },
  {
   "cell_type": "code",
   "execution_count": 568,
   "id": "3e1a1849-eeb6-4df8-ae9b-b4af8dfef178",
   "metadata": {},
   "outputs": [
    {
     "data": {
      "text/html": [
       "'V_FINAL'"
      ],
      "text/latex": [
       "'V\\_FINAL'"
      ],
      "text/markdown": [
       "'V_FINAL'"
      ],
      "text/plain": [
       "[1] \"V_FINAL\""
      ]
     },
     "metadata": {},
     "output_type": "display_data"
    }
   ],
   "source": [
    "name"
   ]
  },
  {
   "cell_type": "code",
   "execution_count": 569,
   "id": "0e56f093-2e64-4d0b-ad60-345341f11a61",
   "metadata": {},
   "outputs": [],
   "source": [
    "write.table(ligand_target_correlations,gzfile(paste0(result_path, '/F-Analysis/' ,'F4_Ligand_Target_Data', name, filter_samples,'.gz')))"
   ]
  },
  {
   "cell_type": "code",
   "execution_count": null,
   "id": "39c8bbf2-36d5-4ba6-b0f2-492a9d6b750d",
   "metadata": {},
   "outputs": [],
   "source": []
  }
 ],
 "metadata": {
  "kernelspec": {
   "display_name": "R",
   "language": "R",
   "name": "ir"
  },
  "language_info": {
   "codemirror_mode": "r",
   "file_extension": ".r",
   "mimetype": "text/x-r-source",
   "name": "R",
   "pygments_lexer": "r",
   "version": "4.1.1"
  },
  "toc-autonumbering": true
 },
 "nbformat": 4,
 "nbformat_minor": 5
}

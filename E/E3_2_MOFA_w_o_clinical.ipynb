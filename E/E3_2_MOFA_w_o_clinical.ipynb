{
 "cells": [
  {
   "cell_type": "code",
   "execution_count": 1,
   "id": "d182c426-4d95-4dee-a099-cd923e9437d7",
   "metadata": {
    "tags": []
   },
   "outputs": [],
   "source": [
    "#### VARIANT FOR MOFA MODEL ESTIMATION Without clinical data"
   ]
  },
  {
   "cell_type": "markdown",
   "id": "213d69de-4705-4a6e-9387-b1a3413172eb",
   "metadata": {
    "jp-MarkdownHeadingCollapsed": true,
    "tags": []
   },
   "source": [
    "#############################################\n",
    "# Prerequisites - Load Libraries"
   ]
  },
  {
   "cell_type": "code",
   "execution_count": 2,
   "id": "08b2226c-fbd9-4057-90be-ffa5cba10e95",
   "metadata": {
    "tags": []
   },
   "outputs": [
    {
     "name": "stderr",
     "output_type": "stream",
     "text": [
      "Warning message in read.table(file = file, header = header, sep = sep, quote = quote, :\n",
      "“incomplete final line found by readTableHeader on '../conda_environment/Environment_Configs.csv'”\n"
     ]
    },
    {
     "name": "stdout",
     "output_type": "stream",
     "text": [
      "[1] \"/home/icb/corinna.losert/miniconda3/envs/stark_stemi_R_Env_4_1//lib/R/library\"\n"
     ]
    },
    {
     "name": "stderr",
     "output_type": "stream",
     "text": [
      "\n",
      "Attaching package: ‘igraph’\n",
      "\n",
      "\n",
      "The following objects are masked from ‘package:stats’:\n",
      "\n",
      "    decompose, spectrum\n",
      "\n",
      "\n",
      "The following object is masked from ‘package:base’:\n",
      "\n",
      "    union\n",
      "\n",
      "\n",
      "\n",
      "Attaching package: ‘MatrixGenerics’\n",
      "\n",
      "\n",
      "The following objects are masked from ‘package:matrixStats’:\n",
      "\n",
      "    colAlls, colAnyNAs, colAnys, colAvgsPerRowSet, colCollapse,\n",
      "    colCounts, colCummaxs, colCummins, colCumprods, colCumsums,\n",
      "    colDiffs, colIQRDiffs, colIQRs, colLogSumExps, colMadDiffs,\n",
      "    colMads, colMaxs, colMeans2, colMedians, colMins, colOrderStats,\n",
      "    colProds, colQuantiles, colRanges, colRanks, colSdDiffs, colSds,\n",
      "    colSums2, colTabulates, colVarDiffs, colVars, colWeightedMads,\n",
      "    colWeightedMeans, colWeightedMedians, colWeightedSds,\n",
      "    colWeightedVars, rowAlls, rowAnyNAs, rowAnys, rowAvgsPerColSet,\n",
      "    rowCollapse, rowCounts, rowCummaxs, rowCummins, rowCumprods,\n",
      "    rowCumsums, rowDiffs, rowIQRDiffs, rowIQRs, rowLogSumExps,\n",
      "    rowMadDiffs, rowMads, rowMaxs, rowMeans2, rowMedians, rowMins,\n",
      "    rowOrderStats, rowProds, rowQuantiles, rowRanges, rowRanks,\n",
      "    rowSdDiffs, rowSds, rowSums2, rowTabulates, rowVarDiffs, rowVars,\n",
      "    rowWeightedMads, rowWeightedMeans, rowWeightedMedians,\n",
      "    rowWeightedSds, rowWeightedVars\n",
      "\n",
      "\n",
      "\n",
      "Attaching package: ‘BiocGenerics’\n",
      "\n",
      "\n",
      "The following objects are masked from ‘package:parallel’:\n",
      "\n",
      "    clusterApply, clusterApplyLB, clusterCall, clusterEvalQ,\n",
      "    clusterExport, clusterMap, parApply, parCapply, parLapply,\n",
      "    parLapplyLB, parRapply, parSapply, parSapplyLB\n",
      "\n",
      "\n",
      "The following objects are masked from ‘package:igraph’:\n",
      "\n",
      "    normalize, path, union\n",
      "\n",
      "\n",
      "The following objects are masked from ‘package:stats’:\n",
      "\n",
      "    IQR, mad, sd, var, xtabs\n",
      "\n",
      "\n",
      "The following objects are masked from ‘package:base’:\n",
      "\n",
      "    anyDuplicated, append, as.data.frame, basename, cbind, colnames,\n",
      "    dirname, do.call, duplicated, eval, evalq, Filter, Find, get, grep,\n",
      "    grepl, intersect, is.unsorted, lapply, Map, mapply, match, mget,\n",
      "    order, paste, pmax, pmax.int, pmin, pmin.int, Position, rank,\n",
      "    rbind, Reduce, rownames, sapply, setdiff, sort, table, tapply,\n",
      "    union, unique, unsplit, which.max, which.min\n",
      "\n",
      "\n",
      "\n",
      "Attaching package: ‘S4Vectors’\n",
      "\n",
      "\n",
      "The following objects are masked from ‘package:base’:\n",
      "\n",
      "    expand.grid, I, unname\n",
      "\n",
      "\n",
      "Welcome to Bioconductor\n",
      "\n",
      "    Vignettes contain introductory material; view with\n",
      "    'browseVignettes()'. To cite Bioconductor, see\n",
      "    'citation(\"Biobase\")', and for packages 'citation(\"pkgname\")'.\n",
      "\n",
      "\n",
      "\n",
      "Attaching package: ‘Biobase’\n",
      "\n",
      "\n",
      "The following object is masked from ‘package:MatrixGenerics’:\n",
      "\n",
      "    rowMedians\n",
      "\n",
      "\n",
      "The following objects are masked from ‘package:matrixStats’:\n",
      "\n",
      "    anyMissing, rowMedians\n",
      "\n",
      "\n",
      "\n",
      "Attaching package: ‘sp’\n",
      "\n",
      "\n",
      "The following object is masked from ‘package:IRanges’:\n",
      "\n",
      "    %over%\n",
      "\n",
      "\n",
      "\n",
      "Attaching package: ‘SeuratObject’\n",
      "\n",
      "\n",
      "The following object is masked from ‘package:SummarizedExperiment’:\n",
      "\n",
      "    Assays\n",
      "\n",
      "\n",
      "The following object is masked from ‘package:GenomicRanges’:\n",
      "\n",
      "    intersect\n",
      "\n",
      "\n",
      "The following object is masked from ‘package:GenomeInfoDb’:\n",
      "\n",
      "    intersect\n",
      "\n",
      "\n",
      "The following object is masked from ‘package:IRanges’:\n",
      "\n",
      "    intersect\n",
      "\n",
      "\n",
      "The following object is masked from ‘package:S4Vectors’:\n",
      "\n",
      "    intersect\n",
      "\n",
      "\n",
      "The following object is masked from ‘package:BiocGenerics’:\n",
      "\n",
      "    intersect\n",
      "\n",
      "\n",
      "The following object is masked from ‘package:base’:\n",
      "\n",
      "    intersect\n",
      "\n",
      "\n",
      "\n",
      "Attaching package: ‘Seurat’\n",
      "\n",
      "\n",
      "The following object is masked from ‘package:SummarizedExperiment’:\n",
      "\n",
      "    Assays\n",
      "\n",
      "\n",
      "The following object is masked from ‘package:igraph’:\n",
      "\n",
      "    components\n",
      "\n",
      "\n",
      "\n",
      "Attaching package: ‘Matrix’\n",
      "\n",
      "\n",
      "The following object is masked from ‘package:S4Vectors’:\n",
      "\n",
      "    expand\n",
      "\n",
      "\n",
      "\n",
      "Attaching package: ‘DelayedArray’\n",
      "\n",
      "\n",
      "The following object is masked from ‘package:igraph’:\n",
      "\n",
      "    simplify\n",
      "\n",
      "\n",
      "The following objects are masked from ‘package:base’:\n",
      "\n",
      "    aperm, apply, rowsum, scale, sweep\n",
      "\n",
      "\n",
      "\n",
      "Attaching package: ‘HDF5Array’\n",
      "\n",
      "\n",
      "The following object is masked from ‘package:rhdf5’:\n",
      "\n",
      "    h5ls\n",
      "\n",
      "\n",
      "Warning message in if (is.na(desc)) {:\n",
      "“the condition has length > 1 and only the first element will be used”\n",
      "Warning message in if (is.na(desc)) {:\n",
      "“the condition has length > 1 and only the first element will be used”\n",
      "Warning message in if (is.na(desc)) {:\n",
      "“the condition has length > 1 and only the first element will be used”\n",
      "Warning message in if (is.na(desc)) {:\n",
      "“the condition has length > 1 and only the first element will be used”\n",
      "Warning message in if (is.na(desc)) {:\n",
      "“the condition has length > 1 and only the first element will be used”\n",
      "Warning message in if (is.na(desc)) {:\n",
      "“the condition has length > 1 and only the first element will be used”\n",
      "Warning message in if (is.na(desc)) {:\n",
      "“the condition has length > 1 and only the first element will be used”\n",
      "Warning message in if (is.na(desc)) {:\n",
      "“the condition has length > 1 and only the first element will be used”\n",
      "Warning message in if (is.na(desc)) {:\n",
      "“the condition has length > 1 and only the first element will be used”\n",
      "Warning message in if (is.na(desc)) {:\n",
      "“the condition has length > 1 and only the first element will be used”\n",
      "Warning message in if (is.na(desc)) {:\n",
      "“the condition has length > 1 and only the first element will be used”\n",
      "Warning message in if (is.na(desc)) {:\n",
      "“the condition has length > 1 and only the first element will be used”\n",
      "Warning message in if (is.na(desc)) {:\n",
      "“the condition has length > 1 and only the first element will be used”\n",
      "Warning message in if (is.na(desc)) {:\n",
      "“the condition has length > 1 and only the first element will be used”\n",
      "Warning message in if (is.na(desc)) {:\n",
      "“the condition has length > 1 and only the first element will be used”\n",
      "Warning message in if (is.na(desc)) {:\n",
      "“the condition has length > 1 and only the first element will be used”\n",
      "Warning message in if (is.na(desc)) {:\n",
      "“the condition has length > 1 and only the first element will be used”\n",
      "Warning message in if (is.na(desc)) {:\n",
      "“the condition has length > 1 and only the first element will be used”\n",
      "Warning message in if (is.na(desc)) {:\n",
      "“the condition has length > 1 and only the first element will be used”\n",
      "Warning message in if (is.na(desc)) {:\n",
      "“the condition has length > 1 and only the first element will be used”\n",
      "Warning message in if (is.na(desc)) {:\n",
      "“the condition has length > 1 and only the first element will be used”\n",
      "Warning message in if (is.na(desc)) {:\n",
      "“the condition has length > 1 and only the first element will be used”\n",
      "Warning message in if (is.na(desc)) {:\n",
      "“the condition has length > 1 and only the first element will be used”\n",
      "Registered S3 method overwritten by 'SeuratDisk':\n",
      "  method            from  \n",
      "  as.sparse.H5Group Seurat\n",
      "\n",
      "\n",
      "Attaching package: ‘gridExtra’\n",
      "\n",
      "\n",
      "The following object is masked from ‘package:Biobase’:\n",
      "\n",
      "    combine\n",
      "\n",
      "\n",
      "The following object is masked from ‘package:BiocGenerics’:\n",
      "\n",
      "    combine\n",
      "\n",
      "\n",
      "\n",
      "Attaching package: ‘dplyr’\n",
      "\n",
      "\n",
      "The following object is masked from ‘package:gridExtra’:\n",
      "\n",
      "    combine\n",
      "\n",
      "\n",
      "The following object is masked from ‘package:Biobase’:\n",
      "\n",
      "    combine\n",
      "\n",
      "\n",
      "The following objects are masked from ‘package:GenomicRanges’:\n",
      "\n",
      "    intersect, setdiff, union\n",
      "\n",
      "\n",
      "The following object is masked from ‘package:GenomeInfoDb’:\n",
      "\n",
      "    intersect\n",
      "\n",
      "\n",
      "The following objects are masked from ‘package:IRanges’:\n",
      "\n",
      "    collapse, desc, intersect, setdiff, slice, union\n",
      "\n",
      "\n",
      "The following objects are masked from ‘package:S4Vectors’:\n",
      "\n",
      "    first, intersect, rename, setdiff, setequal, union\n",
      "\n",
      "\n",
      "The following objects are masked from ‘package:BiocGenerics’:\n",
      "\n",
      "    combine, intersect, setdiff, union\n",
      "\n",
      "\n",
      "The following object is masked from ‘package:matrixStats’:\n",
      "\n",
      "    count\n",
      "\n",
      "\n",
      "The following objects are masked from ‘package:igraph’:\n",
      "\n",
      "    as_data_frame, groups, union\n",
      "\n",
      "\n",
      "The following objects are masked from ‘package:stats’:\n",
      "\n",
      "    filter, lag\n",
      "\n",
      "\n",
      "The following objects are masked from ‘package:base’:\n",
      "\n",
      "    intersect, setdiff, setequal, union\n",
      "\n",
      "\n",
      "\n",
      "Attaching package: ‘plotly’\n",
      "\n",
      "\n",
      "The following object is masked from ‘package:ggplot2’:\n",
      "\n",
      "    last_plot\n",
      "\n",
      "\n",
      "The following object is masked from ‘package:IRanges’:\n",
      "\n",
      "    slice\n",
      "\n",
      "\n",
      "The following object is masked from ‘package:S4Vectors’:\n",
      "\n",
      "    rename\n",
      "\n",
      "\n",
      "The following object is masked from ‘package:igraph’:\n",
      "\n",
      "    groups\n",
      "\n",
      "\n",
      "The following object is masked from ‘package:stats’:\n",
      "\n",
      "    filter\n",
      "\n",
      "\n",
      "The following object is masked from ‘package:graphics’:\n",
      "\n",
      "    layout\n",
      "\n",
      "\n",
      "Warning message in checkMatrixPackageVersion():\n",
      "“Package version inconsistency detected.\n",
      "TMB was built with Matrix version 1.5.3\n",
      "Current Matrix version is 1.6.4\n",
      "Please re-install 'TMB' from source using install.packages('TMB', type = 'source') or ask CRAN for a binary version of 'TMB' matching CRAN's 'Matrix' package”\n",
      "\n",
      "Attaching package: ‘limma’\n",
      "\n",
      "\n",
      "The following object is masked from ‘package:scater’:\n",
      "\n",
      "    plotMDS\n",
      "\n",
      "\n",
      "The following object is masked from ‘package:BiocGenerics’:\n",
      "\n",
      "    plotMA\n",
      "\n",
      "\n",
      "\n",
      "Attaching package: ‘DESeq2’\n",
      "\n",
      "\n",
      "The following object is masked from ‘package:scater’:\n",
      "\n",
      "    fpkm\n",
      "\n",
      "\n",
      "Loading required package: AnnotationDbi\n",
      "\n",
      "\n",
      "Attaching package: ‘AnnotationDbi’\n",
      "\n",
      "\n",
      "The following object is masked from ‘package:plotly’:\n",
      "\n",
      "    select\n",
      "\n",
      "\n",
      "The following object is masked from ‘package:dplyr’:\n",
      "\n",
      "    select\n",
      "\n",
      "\n",
      "\n",
      "\n",
      "\n",
      "\n",
      "Registered S3 method overwritten by 'ggtree':\n",
      "  method      from \n",
      "  identify.gg ggfun\n",
      "\n",
      "clusterProfiler v4.0.5  For help: https://yulab-smu.top/biomedical-knowledge-mining-book/\n",
      "\n",
      "If you use clusterProfiler in published research, please cite:\n",
      "T Wu, E Hu, S Xu, M Chen, P Guo, Z Dai, T Feng, L Zhou, W Tang, L Zhan, X Fu, S Liu, X Bo, and G Yu. clusterProfiler 4.0: A universal enrichment tool for interpreting omics data. The Innovation. 2021, 2(3):100141. doi: 10.1016/j.xinn.2021.100141\n",
      "\n",
      "\n",
      "Attaching package: ‘clusterProfiler’\n",
      "\n",
      "\n",
      "The following object is masked from ‘package:AnnotationDbi’:\n",
      "\n",
      "    select\n",
      "\n",
      "\n",
      "The following object is masked from ‘package:DelayedArray’:\n",
      "\n",
      "    simplify\n",
      "\n",
      "\n",
      "The following object is masked from ‘package:IRanges’:\n",
      "\n",
      "    slice\n",
      "\n",
      "\n",
      "The following object is masked from ‘package:S4Vectors’:\n",
      "\n",
      "    rename\n",
      "\n",
      "\n",
      "The following object is masked from ‘package:igraph’:\n",
      "\n",
      "    simplify\n",
      "\n",
      "\n",
      "The following object is masked from ‘package:stats’:\n",
      "\n",
      "    filter\n",
      "\n",
      "\n",
      "\n",
      "Attaching package: ‘data.table’\n",
      "\n",
      "\n",
      "The following objects are masked from ‘package:dplyr’:\n",
      "\n",
      "    between, first, last\n",
      "\n",
      "\n",
      "The following object is masked from ‘package:SummarizedExperiment’:\n",
      "\n",
      "    shift\n",
      "\n",
      "\n",
      "The following object is masked from ‘package:GenomicRanges’:\n",
      "\n",
      "    shift\n",
      "\n",
      "\n",
      "The following object is masked from ‘package:IRanges’:\n",
      "\n",
      "    shift\n",
      "\n",
      "\n",
      "The following objects are masked from ‘package:S4Vectors’:\n",
      "\n",
      "    first, second\n",
      "\n",
      "\n",
      "\n",
      "Attaching package: ‘MOFA2’\n",
      "\n",
      "\n",
      "The following object is masked from ‘package:stats’:\n",
      "\n",
      "    predict\n",
      "\n",
      "\n",
      "\n",
      "Attaching package: ‘ggraph’\n",
      "\n",
      "\n",
      "The following object is masked from ‘package:sp’:\n",
      "\n",
      "    geometry\n",
      "\n",
      "\n",
      "\n",
      "Attaching package: ‘Hmisc’\n",
      "\n",
      "\n",
      "The following object is masked from ‘package:MOFA2’:\n",
      "\n",
      "    impute\n",
      "\n",
      "\n",
      "The following object is masked from ‘package:AnnotationDbi’:\n",
      "\n",
      "    contents\n",
      "\n",
      "\n",
      "The following object is masked from ‘package:plotly’:\n",
      "\n",
      "    subplot\n",
      "\n",
      "\n",
      "The following objects are masked from ‘package:dplyr’:\n",
      "\n",
      "    src, summarize\n",
      "\n",
      "\n",
      "The following object is masked from ‘package:Seurat’:\n",
      "\n",
      "    Key\n",
      "\n",
      "\n",
      "The following object is masked from ‘package:SeuratObject’:\n",
      "\n",
      "    Key\n",
      "\n",
      "\n",
      "The following object is masked from ‘package:Biobase’:\n",
      "\n",
      "    contents\n",
      "\n",
      "\n",
      "The following objects are masked from ‘package:base’:\n",
      "\n",
      "    format.pval, units\n",
      "\n",
      "\n",
      "Registered S3 method overwritten by 'GGally':\n",
      "  method from   \n",
      "  +.gg   ggplot2\n",
      "\n",
      "\n",
      "Attaching package: ‘rstatix’\n",
      "\n",
      "\n",
      "The following object is masked from ‘package:AnnotationDbi’:\n",
      "\n",
      "    select\n",
      "\n",
      "\n",
      "The following object is masked from ‘package:IRanges’:\n",
      "\n",
      "    desc\n",
      "\n",
      "\n",
      "The following object is masked from ‘package:stats’:\n",
      "\n",
      "    filter\n",
      "\n",
      "\n",
      "corrplot 0.92 loaded\n",
      "\n",
      "\n",
      "‘network’ 1.18.1 (2023-01-24), part of the Statnet Project\n",
      "* ‘news(package=\"network\")’ for changes since last version\n",
      "* ‘citation(\"network\")’ for citation information\n",
      "* ‘https://statnet.org’ for help, support, and other information\n",
      "\n",
      "\n",
      "\n",
      "Attaching package: ‘network’\n",
      "\n",
      "\n",
      "The following object is masked from ‘package:Hmisc’:\n",
      "\n",
      "    is.discrete\n",
      "\n",
      "\n",
      "The following objects are masked from ‘package:igraph’:\n",
      "\n",
      "    %c%, %s%, add.edges, add.vertices, delete.edges, delete.vertices,\n",
      "    get.edge.attribute, get.edges, get.vertex.attribute, is.bipartite,\n",
      "    is.directed, list.edge.attributes, list.vertex.attributes,\n",
      "    set.edge.attribute, set.vertex.attribute\n",
      "\n",
      "\n",
      "\n",
      "Attaching package: ‘enrichplot’\n",
      "\n",
      "\n",
      "The following object is masked from ‘package:GGally’:\n",
      "\n",
      "    ggtable\n",
      "\n",
      "\n",
      "DOSE v3.18.3  For help: https://guangchuangyu.github.io/software/DOSE\n",
      "\n",
      "If you use DOSE in published research, please cite:\n",
      "Guangchuang Yu, Li-Gen Wang, Guang-Rong Yan, Qing-Yu He. DOSE: an R/Bioconductor package for Disease Ontology Semantic and Enrichment analysis. Bioinformatics 2015, 31(4):608-609\n",
      "\n",
      "\n",
      "\n",
      "Attaching package: ‘UpSetR’\n",
      "\n",
      "\n",
      "The following object is masked from ‘package:ComplexUpset’:\n",
      "\n",
      "    upset\n",
      "\n",
      "\n",
      "Registered S3 method overwritten by 'gdata':\n",
      "  method         from  \n",
      "  reorder.factor gplots\n",
      "\n",
      "gdata: read.xls support for 'XLS' (Excel 97-2004) files ENABLED.\n",
      "\n",
      "\n",
      "\n",
      "gdata: read.xls support for 'XLSX' (Excel 2007+) files ENABLED.\n",
      "\n",
      "\n",
      "Attaching package: ‘gdata’\n",
      "\n",
      "\n",
      "The following objects are masked from ‘package:data.table’:\n",
      "\n",
      "    first, last\n",
      "\n",
      "\n",
      "The following objects are masked from ‘package:dplyr’:\n",
      "\n",
      "    combine, first, last\n",
      "\n",
      "\n",
      "The following object is masked from ‘package:gridExtra’:\n",
      "\n",
      "    combine\n",
      "\n",
      "\n",
      "The following object is masked from ‘package:SummarizedExperiment’:\n",
      "\n",
      "    trim\n",
      "\n",
      "\n",
      "The following object is masked from ‘package:Biobase’:\n",
      "\n",
      "    combine\n",
      "\n",
      "\n",
      "The following object is masked from ‘package:GenomicRanges’:\n",
      "\n",
      "    trim\n",
      "\n",
      "\n",
      "The following objects are masked from ‘package:IRanges’:\n",
      "\n",
      "    startsWith, trim\n",
      "\n",
      "\n",
      "The following objects are masked from ‘package:S4Vectors’:\n",
      "\n",
      "    first, first<-\n",
      "\n",
      "\n",
      "The following object is masked from ‘package:BiocGenerics’:\n",
      "\n",
      "    combine\n",
      "\n",
      "\n",
      "The following object is masked from ‘package:stats4’:\n",
      "\n",
      "    nobs\n",
      "\n",
      "\n",
      "The following object is masked from ‘package:stats’:\n",
      "\n",
      "    nobs\n",
      "\n",
      "\n",
      "The following object is masked from ‘package:utils’:\n",
      "\n",
      "    object.size\n",
      "\n",
      "\n",
      "The following object is masked from ‘package:base’:\n",
      "\n",
      "    startsWith\n",
      "\n",
      "\n",
      "\n",
      "Attaching package: ‘reshape2’\n",
      "\n",
      "\n",
      "The following objects are masked from ‘package:data.table’:\n",
      "\n",
      "    dcast, melt\n",
      "\n",
      "\n",
      "ReactomePA v1.36.0  For help: https://yulab-smu.top/biomedical-knowledge-mining-book/reactomepa.html\n",
      "\n",
      "If you use ReactomePA in published research, please cite:\n",
      "Guangchuang Yu, Qing-Yu He. ReactomePA: an R/Bioconductor package for reactome pathway analysis and visualization. Molecular BioSystems 2016, 12(2):477-479\n",
      "\n",
      "Loading required package: mgcv\n",
      "\n",
      "Loading required package: nlme\n",
      "\n",
      "\n",
      "Attaching package: ‘nlme’\n",
      "\n",
      "\n",
      "The following object is masked from ‘package:dplyr’:\n",
      "\n",
      "    collapse\n",
      "\n",
      "\n",
      "The following object is masked from ‘package:IRanges’:\n",
      "\n",
      "    collapse\n",
      "\n",
      "\n",
      "This is mgcv 1.8-41. For overview type 'help(\"mgcv-package\")'.\n",
      "\n",
      "Loading required package: genefilter\n",
      "\n",
      "\n",
      "Attaching package: ‘genefilter’\n",
      "\n",
      "\n",
      "The following object is masked from ‘package:rstatix’:\n",
      "\n",
      "    Anova\n",
      "\n",
      "\n",
      "The following objects are masked from ‘package:MatrixGenerics’:\n",
      "\n",
      "    rowSds, rowVars\n",
      "\n",
      "\n",
      "The following objects are masked from ‘package:matrixStats’:\n",
      "\n",
      "    rowSds, rowVars\n",
      "\n",
      "\n",
      "Loading required package: BiocParallel\n",
      "\n",
      "\n",
      "Attaching package: ‘patchwork’\n",
      "\n",
      "\n",
      "The following object is masked from ‘package:genefilter’:\n",
      "\n",
      "    area\n",
      "\n",
      "\n",
      "The following object is masked from ‘package:cowplot’:\n",
      "\n",
      "    align_plots\n",
      "\n",
      "\n",
      "Type 'citation(\"pROC\")' for a citation.\n",
      "\n",
      "\n",
      "Attaching package: ‘pROC’\n",
      "\n",
      "\n",
      "The following object is masked from ‘package:colorspace’:\n",
      "\n",
      "    coords\n",
      "\n",
      "\n",
      "The following objects are masked from ‘package:IRanges’:\n",
      "\n",
      "    cov, var\n",
      "\n",
      "\n",
      "The following objects are masked from ‘package:S4Vectors’:\n",
      "\n",
      "    cov, var\n",
      "\n",
      "\n",
      "The following object is masked from ‘package:BiocGenerics’:\n",
      "\n",
      "    var\n",
      "\n",
      "\n",
      "The following objects are masked from ‘package:stats’:\n",
      "\n",
      "    cov, smooth, var\n",
      "\n",
      "\n",
      "Loaded glmnet 4.1-6\n",
      "\n",
      "\n",
      "Attaching package: ‘nnet’\n",
      "\n",
      "\n",
      "The following object is masked from ‘package:mgcv’:\n",
      "\n",
      "    multinom\n",
      "\n",
      "\n",
      "\n",
      "Attaching package: ‘dfidx’\n",
      "\n",
      "\n",
      "The following object is masked from ‘package:AnnotationDbi’:\n",
      "\n",
      "    select\n",
      "\n",
      "\n",
      "The following object is masked from ‘package:IRanges’:\n",
      "\n",
      "    slice\n",
      "\n",
      "\n",
      "The following object is masked from ‘package:stats’:\n",
      "\n",
      "    filter\n",
      "\n",
      "\n",
      "\n",
      "Attaching package: ‘cvAUC’\n",
      "\n",
      "\n",
      "The following object is masked from ‘package:genefilter’:\n",
      "\n",
      "    AUC\n",
      "\n",
      "\n",
      "Loading required package: maps\n",
      "\n",
      "Loading required package: shapefiles\n",
      "\n",
      "Loading required package: foreign\n",
      "\n",
      "\n",
      "Attaching package: ‘shapefiles’\n",
      "\n",
      "\n",
      "The following objects are masked from ‘package:foreign’:\n",
      "\n",
      "    read.dbf, write.dbf\n",
      "\n",
      "\n",
      "\n",
      "Attaching package: ‘plotROC’\n",
      "\n",
      "\n",
      "The following object is masked from ‘package:pROC’:\n",
      "\n",
      "    ggroc\n",
      "\n",
      "\n",
      "Welcome! Want to learn more? See two factoextra-related books at https://goo.gl/ve3WBa\n",
      "\n",
      "Loading required package: grid\n",
      "\n",
      "========================================\n",
      "ComplexHeatmap version 2.8.0\n",
      "Bioconductor page: http://bioconductor.org/packages/ComplexHeatmap/\n",
      "Github page: https://github.com/jokergoo/ComplexHeatmap\n",
      "Documentation: http://jokergoo.github.io/ComplexHeatmap-reference\n",
      "\n",
      "If you use it in published research, please cite:\n",
      "Gu, Z. Complex heatmaps reveal patterns and correlations in multidimensional \n",
      "  genomic data. Bioinformatics 2016.\n",
      "\n",
      "The new InteractiveComplexHeatmap package can directly export static \n",
      "complex heatmaps into an interactive Shiny app with zero effort. Have a try!\n",
      "\n",
      "This message can be suppressed by:\n",
      "  suppressPackageStartupMessages(library(ComplexHeatmap))\n",
      "========================================\n",
      "\n",
      "\n",
      "\n",
      "Attaching package: ‘ComplexHeatmap’\n",
      "\n",
      "\n",
      "The following object is masked from ‘package:genefilter’:\n",
      "\n",
      "    dist2\n",
      "\n",
      "\n",
      "The following object is masked from ‘package:network’:\n",
      "\n",
      "    %v%\n",
      "\n",
      "\n",
      "The following object is masked from ‘package:plotly’:\n",
      "\n",
      "    add_heatmap\n",
      "\n",
      "\n",
      "Welcome to compositions, a package for compositional data analysis.\n",
      "Find an intro with \"? compositions\"\n",
      "\n",
      "\n",
      "\n",
      "Attaching package: ‘compositions’\n",
      "\n",
      "\n",
      "The following object is masked from ‘package:glmnet’:\n",
      "\n",
      "    rmult\n",
      "\n",
      "\n",
      "The following objects are masked from ‘package:pROC’:\n",
      "\n",
      "    cov, var\n",
      "\n",
      "\n",
      "The following object is masked from ‘package:DelayedArray’:\n",
      "\n",
      "    scale\n",
      "\n",
      "\n",
      "The following object is masked from ‘package:Matrix’:\n",
      "\n",
      "    norm\n",
      "\n",
      "\n",
      "The following object is masked from ‘package:scater’:\n",
      "\n",
      "    normalize\n",
      "\n",
      "\n",
      "The following objects are masked from ‘package:IRanges’:\n",
      "\n",
      "    cor, cov, var\n",
      "\n",
      "\n",
      "The following objects are masked from ‘package:S4Vectors’:\n",
      "\n",
      "    cor, cov, var\n",
      "\n",
      "\n",
      "The following objects are masked from ‘package:BiocGenerics’:\n",
      "\n",
      "    normalize, var\n",
      "\n",
      "\n",
      "The following object is masked from ‘package:igraph’:\n",
      "\n",
      "    normalize\n",
      "\n",
      "\n",
      "The following objects are masked from ‘package:stats’:\n",
      "\n",
      "    anova, cor, cov, dist, var\n",
      "\n",
      "\n",
      "The following objects are masked from ‘package:base’:\n",
      "\n",
      "    %*%, norm, scale, scale.default\n",
      "\n",
      "\n",
      "========================================\n",
      "circlize version 0.4.15\n",
      "CRAN page: https://cran.r-project.org/package=circlize\n",
      "Github page: https://github.com/jokergoo/circlize\n",
      "Documentation: https://jokergoo.github.io/circlize_book/book/\n",
      "\n",
      "If you use it in published research, please cite:\n",
      "Gu, Z. circlize implements and enhances circular visualization\n",
      "  in R. Bioinformatics 2014.\n",
      "\n",
      "This message can be suppressed by:\n",
      "  suppressPackageStartupMessages(library(circlize))\n",
      "========================================\n",
      "\n",
      "\n",
      "\n",
      "Attaching package: ‘circlize’\n",
      "\n",
      "\n",
      "The following object is masked from ‘package:igraph’:\n",
      "\n",
      "    degree\n",
      "\n",
      "\n",
      "\n",
      "Attaching package: ‘ggpubr’\n",
      "\n",
      "\n",
      "The following object is masked from ‘package:enrichplot’:\n",
      "\n",
      "    color_palette\n",
      "\n",
      "\n",
      "The following object is masked from ‘package:cowplot’:\n",
      "\n",
      "    get_legend\n",
      "\n",
      "\n",
      "Loading required package: survival\n",
      "\n",
      "Loading required package: TH.data\n",
      "\n",
      "Loading required package: MASS\n",
      "\n",
      "\n",
      "Attaching package: ‘MASS’\n",
      "\n",
      "\n",
      "The following object is masked from ‘package:dfidx’:\n",
      "\n",
      "    select\n",
      "\n",
      "\n",
      "The following object is masked from ‘package:patchwork’:\n",
      "\n",
      "    area\n",
      "\n",
      "\n",
      "The following object is masked from ‘package:genefilter’:\n",
      "\n",
      "    area\n",
      "\n",
      "\n",
      "The following object is masked from ‘package:rstatix’:\n",
      "\n",
      "    select\n",
      "\n",
      "\n",
      "The following object is masked from ‘package:clusterProfiler’:\n",
      "\n",
      "    select\n",
      "\n",
      "\n",
      "The following object is masked from ‘package:AnnotationDbi’:\n",
      "\n",
      "    select\n",
      "\n",
      "\n",
      "The following object is masked from ‘package:plotly’:\n",
      "\n",
      "    select\n",
      "\n",
      "\n",
      "The following object is masked from ‘package:dplyr’:\n",
      "\n",
      "    select\n",
      "\n",
      "\n",
      "\n",
      "Attaching package: ‘TH.data’\n",
      "\n",
      "\n",
      "The following object is masked from ‘package:MASS’:\n",
      "\n",
      "    geyser\n",
      "\n",
      "\n"
     ]
    }
   ],
   "source": [
    "source('MS0_Libraries.r')"
   ]
  },
  {
   "cell_type": "code",
   "execution_count": 3,
   "id": "92c0a97c-85fb-4ba2-9b75-8433c6600bd6",
   "metadata": {
    "tags": []
   },
   "outputs": [
    {
     "name": "stderr",
     "output_type": "stream",
     "text": [
      "Warning message:\n",
      "“\u001b[1m\u001b[22mThe `size` argument of `element_line()` is deprecated as of ggplot2 3.4.0.\n",
      "\u001b[36mℹ\u001b[39m Please use the `linewidth` argument instead.”\n"
     ]
    }
   ],
   "source": [
    "source('MS4_Plot_Config.r')"
   ]
  },
  {
   "cell_type": "markdown",
   "id": "9d409d14-a693-4722-9648-4b6bacb4b74a",
   "metadata": {
    "tags": []
   },
   "source": [
    "###############################################\n",
    "# Preqrequisites Configurations & Parameters"
   ]
  },
  {
   "cell_type": "code",
   "execution_count": 7,
   "id": "b64f1c5a-3b86-4251-81a1-96a6ee9ae377",
   "metadata": {},
   "outputs": [],
   "source": [
    "data_path = '../data/current'"
   ]
  },
  {
   "cell_type": "code",
   "execution_count": 8,
   "id": "22415b81-130b-4ded-9fde-52c2865e4d34",
   "metadata": {},
   "outputs": [],
   "source": [
    "result_path = '../results/current'"
   ]
  },
  {
   "cell_type": "code",
   "execution_count": 9,
   "id": "17c51dce-9c0d-4c0a-bbb1-6015d1743d4f",
   "metadata": {},
   "outputs": [],
   "source": [
    "name = 'V_FINAL_INTEGRATED'  # name of dataset to load"
   ]
  },
  {
   "cell_type": "markdown",
   "id": "43e2937f-4e6d-4e90-99f2-2f7c370f9639",
   "metadata": {
    "tags": []
   },
   "source": [
    "# Load Data "
   ]
  },
  {
   "cell_type": "markdown",
   "id": "d082fa98-ad4a-46ec-90e5-2da19dd6e84a",
   "metadata": {
    "tags": []
   },
   "source": [
    "## Prepared combined data"
   ]
  },
  {
   "cell_type": "code",
   "execution_count": 10,
   "id": "17a9bed4-c561-4cb6-ada9-5f70f42a1011",
   "metadata": {},
   "outputs": [
    {
     "name": "stdout",
     "output_type": "stream",
     "text": [
      "[1] \"2024-01-03 14:26:41 CET\"\n"
     ]
    }
   ],
   "source": [
    "path = paste0(result_path, '/E-Analysis/Combined_Data_',name,'.csv')\n",
    "data_long = read.csv(path)\n",
    "print(file.info(path)$mtime)"
   ]
  },
  {
   "cell_type": "code",
   "execution_count": 12,
   "id": "282702dc-4b09-4107-b9ec-56330758a0a4",
   "metadata": {},
   "outputs": [],
   "source": [
    "#head(data_long,2)"
   ]
  },
  {
   "cell_type": "code",
   "execution_count": 13,
   "id": "2d408808-8578-4e39-b67e-6f8aac321600",
   "metadata": {},
   "outputs": [],
   "source": [
    "data_long$X = NULL"
   ]
  },
  {
   "cell_type": "code",
   "execution_count": 14,
   "id": "f6104810-0b55-49a5-96c0-5a2855771c30",
   "metadata": {},
   "outputs": [
    {
     "data": {
      "text/html": [
       "128"
      ],
      "text/latex": [
       "128"
      ],
      "text/markdown": [
       "128"
      ],
      "text/plain": [
       "[1] 128"
      ]
     },
     "metadata": {},
     "output_type": "display_data"
    }
   ],
   "source": [
    "length(unique(data_long$sample_id))"
   ]
  },
  {
   "cell_type": "markdown",
   "id": "d76baf68-703a-40b2-8c70-bd80a5fdae6f",
   "metadata": {
    "tags": []
   },
   "source": [
    "## Sample Data"
   ]
  },
  {
   "cell_type": "code",
   "execution_count": 15,
   "id": "e4cfef1b-013b-48f8-9b60-17d1c3a24fe2",
   "metadata": {},
   "outputs": [],
   "source": [
    "sample_data = read.csv(paste0(result_path, '/00_Data_Overview/Merged_Sample_Meta_Data.csv'))"
   ]
  },
  {
   "cell_type": "code",
   "execution_count": 16,
   "id": "7ab4f028-fb8e-4f5f-97b5-fd0c695da0be",
   "metadata": {},
   "outputs": [],
   "source": [
    "sample_data$CK_raw = sample_data$CK"
   ]
  },
  {
   "cell_type": "code",
   "execution_count": 17,
   "id": "371ca82f-5da3-46ae-b17d-8f332d58aa49",
   "metadata": {},
   "outputs": [],
   "source": [
    "sample_data$CK = log2(sample_data$CK+1)"
   ]
  },
  {
   "cell_type": "code",
   "execution_count": 18,
   "id": "fffd9dbb-f4bf-46d9-8404-408afb81e0f4",
   "metadata": {},
   "outputs": [],
   "source": [
    "sample_data$Troponin = log2(sample_data$Troponin+1)"
   ]
  },
  {
   "cell_type": "code",
   "execution_count": 19,
   "id": "6e31d99f-ec96-4de9-a274-7c7690adf1ba",
   "metadata": {},
   "outputs": [
    {
     "name": "stderr",
     "output_type": "stream",
     "text": [
      "Warning message in eval(expr, envir, enclos):\n",
      "“NAs introduced by coercion”\n"
     ]
    }
   ],
   "source": [
    "sample_data$CK_MB = log2(as.numeric(sample_data$CK_MB)+1)"
   ]
  },
  {
   "cell_type": "code",
   "execution_count": 20,
   "id": "ea0ccee8-a5ac-44a6-b2a4-7c4ef5b716dc",
   "metadata": {},
   "outputs": [
    {
     "name": "stderr",
     "output_type": "stream",
     "text": [
      "Warning message in eval(expr, envir, enclos):\n",
      "“NAs introduced by coercion”\n"
     ]
    }
   ],
   "source": [
    "sample_data$CRP =  log2(as.numeric(sample_data$CRP)+1)"
   ]
  },
  {
   "cell_type": "code",
   "execution_count": 21,
   "id": "c29441a9-b21b-4ef6-8953-a3b163abadff",
   "metadata": {},
   "outputs": [],
   "source": [
    "sample_data$sample_id[(sample_data$sample_id == 'm13.2')  & (sample_data$library %in%  c('L6'))] = 'm13.22'"
   ]
  },
  {
   "cell_type": "code",
   "execution_count": 22,
   "id": "bda2f8ed-1fd0-47d2-a825-28f346c32f16",
   "metadata": {},
   "outputs": [],
   "source": [
    "sample_data$sample_id[(sample_data$sample_id == 'm6.4')  & (sample_data$library %in%  c('L10'))] = 'm6.42'"
   ]
  },
  {
   "cell_type": "code",
   "execution_count": 23,
   "id": "1d494ce6-b978-43e6-8630-ae1ce4b1400f",
   "metadata": {},
   "outputs": [],
   "source": [
    "sample_data$sample_id[(sample_data$sample_id == 'm6.1')  & (sample_data$library %in%  c('L3'))] = 'm6.12'"
   ]
  },
  {
   "cell_type": "markdown",
   "id": "e4a73e5e-bf99-4bc1-88d5-38036c8d61ce",
   "metadata": {
    "tags": []
   },
   "source": [
    "# Train MOFA Model"
   ]
  },
  {
   "cell_type": "code",
   "execution_count": 24,
   "id": "cbc8c38b-c6b9-4b21-98ec-81521fdf4425",
   "metadata": {},
   "outputs": [
    {
     "data": {
      "text/html": [
       "13282"
      ],
      "text/latex": [
       "13282"
      ],
      "text/markdown": [
       "13282"
      ],
      "text/plain": [
       "[1] 13282"
      ]
     },
     "metadata": {},
     "output_type": "display_data"
    }
   ],
   "source": [
    "length(unique(data_long$variable))"
   ]
  },
  {
   "cell_type": "markdown",
   "id": "88723ba2-54ef-4643-a649-67bba3182900",
   "metadata": {},
   "source": [
    "## Remove clinical variables"
   ]
  },
  {
   "cell_type": "code",
   "execution_count": 25,
   "id": "af574aca-455a-4a48-8338-eca7e9ad394f",
   "metadata": {},
   "outputs": [],
   "source": [
    "data_long = data_long[data_long$type != 'clinical_data',]"
   ]
  },
  {
   "cell_type": "code",
   "execution_count": 26,
   "id": "3c44423a-2510-45ea-8e51-adeaa300b1f4",
   "metadata": {},
   "outputs": [
    {
     "data": {
      "text/html": [
       "13278"
      ],
      "text/latex": [
       "13278"
      ],
      "text/markdown": [
       "13278"
      ],
      "text/plain": [
       "[1] 13278"
      ]
     },
     "metadata": {},
     "output_type": "display_data"
    }
   ],
   "source": [
    "length(unique(data_long$variable))"
   ]
  },
  {
   "cell_type": "markdown",
   "id": "6a5a1bca-fd9e-4d54-9821-00f89c9289ca",
   "metadata": {
    "tags": []
   },
   "source": [
    "## Prepare data list"
   ]
  },
  {
   "cell_type": "code",
   "execution_count": 27,
   "id": "090791d5-0c56-4435-af6a-393554574a23",
   "metadata": {},
   "outputs": [
    {
     "data": {
      "text/html": [
       "128"
      ],
      "text/latex": [
       "128"
      ],
      "text/markdown": [
       "128"
      ],
      "text/plain": [
       "[1] 128"
      ]
     },
     "metadata": {},
     "output_type": "display_data"
    }
   ],
   "source": [
    "length(unique(data_long$sample_id))"
   ]
  },
  {
   "cell_type": "code",
   "execution_count": 28,
   "id": "ece6eaf9-401c-4e20-afb1-8e13b88b458f",
   "metadata": {},
   "outputs": [],
   "source": [
    "final_data_long_backup = data_long"
   ]
  },
  {
   "cell_type": "code",
   "execution_count": 29,
   "id": "f201fcc3-9761-46d4-8e86-fdca0339db47",
   "metadata": {},
   "outputs": [],
   "source": [
    "final_data_long = final_data_long_backup"
   ]
  },
  {
   "cell_type": "code",
   "execution_count": 30,
   "id": "c35eb376-df3f-4e9f-83fc-9c4c51d55deb",
   "metadata": {},
   "outputs": [],
   "source": [
    "final_data_long$cell_type = NULL"
   ]
  },
  {
   "cell_type": "code",
   "execution_count": 31,
   "id": "ad5b8c08-e7f6-43b1-b910-1a6dbf2ce61e",
   "metadata": {},
   "outputs": [],
   "source": [
    "final_data_long$variable_transformed = NULL"
   ]
  },
  {
   "cell_type": "code",
   "execution_count": 32,
   "id": "22fd1be1-b671-4e59-8e03-c1457797389f",
   "metadata": {},
   "outputs": [],
   "source": [
    "final_data_long$type[ final_data_long$type == 'single_cell'] = str_extract(final_data_long$variable[ final_data_long$type == 'single_cell'] , '.*__')"
   ]
  },
  {
   "cell_type": "code",
   "execution_count": 33,
   "id": "3a2a529e-ad9c-42f6-a121-a776d368928b",
   "metadata": {},
   "outputs": [],
   "source": [
    "final_data_long$config = NULL"
   ]
  },
  {
   "cell_type": "code",
   "execution_count": 34,
   "id": "4758782c-2877-4dfe-bb40-3d76464ca99d",
   "metadata": {},
   "outputs": [],
   "source": [
    "final_data_long$X = NULL"
   ]
  },
  {
   "cell_type": "code",
   "execution_count": 35,
   "id": "662393d2-e37b-4ac9-909d-8aeba9d9288d",
   "metadata": {},
   "outputs": [],
   "source": [
    "### Filter only samples measured across multiple TPs"
   ]
  },
  {
   "cell_type": "code",
   "execution_count": 36,
   "id": "d53aa09e-c80e-4ead-a83e-b8e1f5727bbc",
   "metadata": {},
   "outputs": [],
   "source": [
    "samples = unique(final_data_long$sample_id)"
   ]
  },
  {
   "cell_type": "code",
   "execution_count": 37,
   "id": "7be61e70-625f-4ce4-a753-666c8e93211e",
   "metadata": {},
   "outputs": [
    {
     "data": {
      "text/html": [
       "<style>\n",
       ".list-inline {list-style: none; margin:0; padding: 0}\n",
       ".list-inline>li {display: inline-block}\n",
       ".list-inline>li:not(:last-child)::after {content: \"\\00b7\"; padding: 0 .5ex}\n",
       "</style>\n",
       "<ol class=list-inline><li>'cytokine'</li><li>'neutrophil'</li><li>'proteomics'</li><li>'X0_T.cell.CD4__'</li><li>'X1_T.cell.CD8__'</li><li>'X10_B.cell__'</li><li>'X11_T.cell.CD4__'</li><li>'X12_Monocytes...CD16_FCGR3A__'</li><li>'X13_Dendritic__'</li><li>'X2_T.cell.CD4__'</li><li>'X3_NK__'</li><li>'X4_Monocytes...CD14__'</li><li>'X5_T.cell.CD4__'</li><li>'X6_Monocytes...CD14__'</li><li>'X7_Monocytes...CD14__'</li><li>'X8_B.cell__'</li><li>'X9_Monocytes...CD16_FCGR3A__'</li></ol>\n"
      ],
      "text/latex": [
       "\\begin{enumerate*}\n",
       "\\item 'cytokine'\n",
       "\\item 'neutrophil'\n",
       "\\item 'proteomics'\n",
       "\\item 'X0\\_T.cell.CD4\\_\\_'\n",
       "\\item 'X1\\_T.cell.CD8\\_\\_'\n",
       "\\item 'X10\\_B.cell\\_\\_'\n",
       "\\item 'X11\\_T.cell.CD4\\_\\_'\n",
       "\\item 'X12\\_Monocytes...CD16\\_FCGR3A\\_\\_'\n",
       "\\item 'X13\\_Dendritic\\_\\_'\n",
       "\\item 'X2\\_T.cell.CD4\\_\\_'\n",
       "\\item 'X3\\_NK\\_\\_'\n",
       "\\item 'X4\\_Monocytes...CD14\\_\\_'\n",
       "\\item 'X5\\_T.cell.CD4\\_\\_'\n",
       "\\item 'X6\\_Monocytes...CD14\\_\\_'\n",
       "\\item 'X7\\_Monocytes...CD14\\_\\_'\n",
       "\\item 'X8\\_B.cell\\_\\_'\n",
       "\\item 'X9\\_Monocytes...CD16\\_FCGR3A\\_\\_'\n",
       "\\end{enumerate*}\n"
      ],
      "text/markdown": [
       "1. 'cytokine'\n",
       "2. 'neutrophil'\n",
       "3. 'proteomics'\n",
       "4. 'X0_T.cell.CD4__'\n",
       "5. 'X1_T.cell.CD8__'\n",
       "6. 'X10_B.cell__'\n",
       "7. 'X11_T.cell.CD4__'\n",
       "8. 'X12_Monocytes...CD16_FCGR3A__'\n",
       "9. 'X13_Dendritic__'\n",
       "10. 'X2_T.cell.CD4__'\n",
       "11. 'X3_NK__'\n",
       "12. 'X4_Monocytes...CD14__'\n",
       "13. 'X5_T.cell.CD4__'\n",
       "14. 'X6_Monocytes...CD14__'\n",
       "15. 'X7_Monocytes...CD14__'\n",
       "16. 'X8_B.cell__'\n",
       "17. 'X9_Monocytes...CD16_FCGR3A__'\n",
       "\n",
       "\n"
      ],
      "text/plain": [
       " [1] \"cytokine\"                      \"neutrophil\"                   \n",
       " [3] \"proteomics\"                    \"X0_T.cell.CD4__\"              \n",
       " [5] \"X1_T.cell.CD8__\"               \"X10_B.cell__\"                 \n",
       " [7] \"X11_T.cell.CD4__\"              \"X12_Monocytes...CD16_FCGR3A__\"\n",
       " [9] \"X13_Dendritic__\"               \"X2_T.cell.CD4__\"              \n",
       "[11] \"X3_NK__\"                       \"X4_Monocytes...CD14__\"        \n",
       "[13] \"X5_T.cell.CD4__\"               \"X6_Monocytes...CD14__\"        \n",
       "[15] \"X7_Monocytes...CD14__\"         \"X8_B.cell__\"                  \n",
       "[17] \"X9_Monocytes...CD16_FCGR3A__\" "
      ]
     },
     "metadata": {},
     "output_type": "display_data"
    }
   ],
   "source": [
    "unique(final_data_long$type)"
   ]
  },
  {
   "cell_type": "code",
   "execution_count": 38,
   "id": "1c9dbead-7d14-43bf-9791-d3eaa217cdd7",
   "metadata": {},
   "outputs": [
    {
     "data": {
      "text/html": [
       "128"
      ],
      "text/latex": [
       "128"
      ],
      "text/markdown": [
       "128"
      ],
      "text/plain": [
       "[1] 128"
      ]
     },
     "metadata": {},
     "output_type": "display_data"
    }
   ],
   "source": [
    "length(samples)"
   ]
  },
  {
   "cell_type": "code",
   "execution_count": 39,
   "id": "c82c448b-4cb5-4790-bde2-0b473ff7d1a8",
   "metadata": {},
   "outputs": [],
   "source": [
    "### Prepare data list for MOFA"
   ]
  },
  {
   "cell_type": "code",
   "execution_count": 40,
   "id": "c18bb406-5a7e-4a48-ba7d-c77d75add3dc",
   "metadata": {},
   "outputs": [],
   "source": [
    "data_list = list()"
   ]
  },
  {
   "cell_type": "code",
   "execution_count": 41,
   "id": "540cd275-f11b-4154-aaf8-addcda7c596d",
   "metadata": {},
   "outputs": [
    {
     "data": {
      "text/html": [
       "<table class=\"dataframe\">\n",
       "<caption>A data.frame: 2 × 4</caption>\n",
       "<thead>\n",
       "\t<tr><th></th><th scope=col>sample_id</th><th scope=col>variable</th><th scope=col>value</th><th scope=col>type</th></tr>\n",
       "\t<tr><th></th><th scope=col>&lt;chr&gt;</th><th scope=col>&lt;chr&gt;</th><th scope=col>&lt;dbl&gt;</th><th scope=col>&lt;chr&gt;</th></tr>\n",
       "</thead>\n",
       "<tbody>\n",
       "\t<tr><th scope=row>513</th><td>k1 </td><td>BCA1__CXCL13</td><td> 0.2902127</td><td>cytokine</td></tr>\n",
       "\t<tr><th scope=row>514</th><td>k10</td><td>BCA1__CXCL13</td><td>-0.9726875</td><td>cytokine</td></tr>\n",
       "</tbody>\n",
       "</table>\n"
      ],
      "text/latex": [
       "A data.frame: 2 × 4\n",
       "\\begin{tabular}{r|llll}\n",
       "  & sample\\_id & variable & value & type\\\\\n",
       "  & <chr> & <chr> & <dbl> & <chr>\\\\\n",
       "\\hline\n",
       "\t513 & k1  & BCA1\\_\\_CXCL13 &  0.2902127 & cytokine\\\\\n",
       "\t514 & k10 & BCA1\\_\\_CXCL13 & -0.9726875 & cytokine\\\\\n",
       "\\end{tabular}\n"
      ],
      "text/markdown": [
       "\n",
       "A data.frame: 2 × 4\n",
       "\n",
       "| <!--/--> | sample_id &lt;chr&gt; | variable &lt;chr&gt; | value &lt;dbl&gt; | type &lt;chr&gt; |\n",
       "|---|---|---|---|---|\n",
       "| 513 | k1  | BCA1__CXCL13 |  0.2902127 | cytokine |\n",
       "| 514 | k10 | BCA1__CXCL13 | -0.9726875 | cytokine |\n",
       "\n"
      ],
      "text/plain": [
       "    sample_id variable     value      type    \n",
       "513 k1        BCA1__CXCL13  0.2902127 cytokine\n",
       "514 k10       BCA1__CXCL13 -0.9726875 cytokine"
      ]
     },
     "metadata": {},
     "output_type": "display_data"
    }
   ],
   "source": [
    "head(final_data_long,2)"
   ]
  },
  {
   "cell_type": "code",
   "execution_count": 42,
   "id": "caa9798e-ee87-4a92-8bf6-d0fb5fc56c27",
   "metadata": {},
   "outputs": [
    {
     "data": {
      "text/html": [
       "1699584"
      ],
      "text/latex": [
       "1699584"
      ],
      "text/markdown": [
       "1699584"
      ],
      "text/plain": [
       "[1] 1699584"
      ]
     },
     "metadata": {},
     "output_type": "display_data"
    }
   ],
   "source": [
    "nrow(final_data_long)"
   ]
  },
  {
   "cell_type": "code",
   "execution_count": 43,
   "id": "1d776764-3850-4437-938c-37fa415eb28d",
   "metadata": {},
   "outputs": [],
   "source": [
    "data_list= list()"
   ]
  },
  {
   "cell_type": "code",
   "execution_count": 44,
   "id": "5d042439-7d41-42ab-84e7-d011b6feb4cc",
   "metadata": {
    "tags": []
   },
   "outputs": [],
   "source": [
    "for(i in unique(final_data_long$type)){\n",
    "    data = final_data_long[final_data_long$type == i, ]\n",
    "    \n",
    "    data$type = NULL\n",
    "    data$cell_type = NULL\n",
    "    \n",
    "    data = data %>% dcast(variable ~ sample_id, value  = \"value\")\n",
    "    rownames(data) = data$variable\n",
    "    colnames(data) = str_replace(colnames(data), 'value\\\\.', '')\n",
    "    data$variable = NULL\n",
    "    \n",
    "    data[setdiff( samples, names(data))] = NA  # use all samples\n",
    "    \n",
    "    data = data[,order(colnames(data))]\n",
    "    data = data[,colnames(data) %in% samples]\n",
    "    \n",
    "    data_list[[i]] = as.matrix(data)\n",
    "    }"
   ]
  },
  {
   "cell_type": "code",
   "execution_count": 45,
   "id": "540008eb-3d9e-43b9-a3b9-63d281e4609e",
   "metadata": {},
   "outputs": [
    {
     "data": {
      "text/html": [
       "<style>\n",
       ".list-inline {list-style: none; margin:0; padding: 0}\n",
       ".list-inline>li {display: inline-block}\n",
       ".list-inline>li:not(:last-child)::after {content: \"\\00b7\"; padding: 0 .5ex}\n",
       "</style>\n",
       "<ol class=list-inline><li>872</li><li>128</li></ol>\n"
      ],
      "text/latex": [
       "\\begin{enumerate*}\n",
       "\\item 872\n",
       "\\item 128\n",
       "\\end{enumerate*}\n"
      ],
      "text/markdown": [
       "1. 872\n",
       "2. 128\n",
       "\n",
       "\n"
      ],
      "text/plain": [
       "[1] 872 128"
      ]
     },
     "metadata": {},
     "output_type": "display_data"
    }
   ],
   "source": [
    "dim(data)"
   ]
  },
  {
   "cell_type": "code",
   "execution_count": 46,
   "id": "cb172eca-b9b0-49f2-8763-da9b2c00053a",
   "metadata": {
    "tags": []
   },
   "outputs": [],
   "source": [
    "#str(data_list)"
   ]
  },
  {
   "cell_type": "markdown",
   "id": "c66ad1ca-77a9-4bbe-9a19-d29b6f79b03d",
   "metadata": {
    "tags": []
   },
   "source": [
    "## Create MOFA object"
   ]
  },
  {
   "cell_type": "markdown",
   "id": "c177356a-eed8-4f3a-a270-77dab57ac301",
   "metadata": {
    "tags": []
   },
   "source": [
    "### Create for own data and train"
   ]
  },
  {
   "cell_type": "code",
   "execution_count": 47,
   "id": "d39d15d4-36e8-4b8c-8d86-495470ac3371",
   "metadata": {},
   "outputs": [],
   "source": [
    "names(data_list) = str_replace_all(names(data_list) , '__|\\\\.|\\\\.\\\\.|\\\\.\\\\.\\\\.', '')"
   ]
  },
  {
   "cell_type": "code",
   "execution_count": 48,
   "id": "58887d75-5955-4344-80a0-1c22296b662e",
   "metadata": {},
   "outputs": [],
   "source": [
    "data_list_orig = data_list"
   ]
  },
  {
   "cell_type": "code",
   "execution_count": 49,
   "id": "f1c1aac8-310c-4385-9e96-c00ec4ab6bb5",
   "metadata": {},
   "outputs": [],
   "source": [
    "## Adjustments for plotting overview"
   ]
  },
  {
   "cell_type": "code",
   "execution_count": 50,
   "id": "a874c8a5-d101-4872-8c19-befae4ad85fd",
   "metadata": {},
   "outputs": [],
   "source": [
    "names(data_list) = str_replace(names(data_list), 'X0_TcellCD4', 'CD4+ T cells (Cluster 0)')\n",
    "names(data_list) = str_replace(names(data_list), 'clinical_data', 'Clinical')\n",
    "names(data_list) = str_replace(names(data_list), 'X1_TcellCD8', 'CD8+ T cells (Cluster 1)')\n",
    "names(data_list) = str_replace(names(data_list), 'X10_Bcell', 'B cells (Cluster 10)')\n",
    "names(data_list) = str_replace(names(data_list), 'X11_TcellCD4', 'CD4+ T cells (Cluster 11)')\n",
    "names(data_list) = str_replace(names(data_list), 'X12_MonocytesCD16_FCGR3A', 'FCGR3A(high) Monocytes (Cluster 12)')\n",
    "names(data_list) = str_replace(names(data_list), 'X13_Dendritic', 'Dendritic cells (Cluster 13)')\n",
    "names(data_list) = str_replace(names(data_list), 'X2_TcellCD4', 'CD4+ T cells (Cluster 2)')\n",
    "names(data_list) = str_replace(names(data_list), 'X3_NK', 'NK cells (Cluster 3)')\n",
    "names(data_list) = str_replace(names(data_list), 'X4_MonocytesCD14', 'CD14(high) Monocytes (Cluster 4)')\n",
    "names(data_list) = str_replace(names(data_list), 'X5_TcellCD4', 'CD4+ T cells (Cluster 5)')\n",
    "names(data_list) = str_replace(names(data_list), 'X6_MonocytesCD14', 'CD14(high) Monocytes (Cluster 6)')\n",
    "names(data_list) = str_replace(names(data_list), 'X7_MonocytesCD14', 'CD14(high) Monocytes (Cluster 7)')\n",
    "names(data_list) = str_replace(names(data_list), 'X8_Bcell','B cells (Cluster 8)')\n",
    "names(data_list) = str_replace(names(data_list), 'X9_MonocytesCD16_FCGR3A','FCGR3A(high) Monocytes (Cluster 9)')\n",
    "\n",
    "\n",
    "names(data_list) = str_replace(names(data_list), 'clinical','Clinical')\n",
    "names(data_list) = str_replace(names(data_list), 'cytokine','Cytokine')\n",
    "names(data_list) = str_replace(names(data_list), 'neutrophil','Neutrophil')\n",
    "names(data_list) = str_replace(names(data_list), 'proteomics','Proteomics')"
   ]
  },
  {
   "cell_type": "code",
   "execution_count": 51,
   "id": "4d9d78d4-613e-4f70-856f-3ce283280975",
   "metadata": {},
   "outputs": [
    {
     "data": {
      "text/html": [
       "<style>\n",
       ".list-inline {list-style: none; margin:0; padding: 0}\n",
       ".list-inline>li {display: inline-block}\n",
       ".list-inline>li:not(:last-child)::after {content: \"\\00b7\"; padding: 0 .5ex}\n",
       "</style>\n",
       "<ol class=list-inline><li>'Cytokine'</li><li>'Neutrophil'</li><li>'Proteomics'</li><li>'CD4+ T cells (Cluster 0)'</li><li>'CD8+ T cells (Cluster 1)'</li><li>'B cells (Cluster 10)'</li><li>'CD4+ T cells (Cluster 11)'</li><li>'FCGR3A(high) Monocytes (Cluster 12)'</li><li>'Dendritic cells (Cluster 13)'</li><li>'CD4+ T cells (Cluster 2)'</li><li>'NK cells (Cluster 3)'</li><li>'CD14(high) Monocytes (Cluster 4)'</li><li>'CD4+ T cells (Cluster 5)'</li><li>'CD14(high) Monocytes (Cluster 6)'</li><li>'CD14(high) Monocytes (Cluster 7)'</li><li>'B cells (Cluster 8)'</li><li>'FCGR3A(high) Monocytes (Cluster 9)'</li></ol>\n"
      ],
      "text/latex": [
       "\\begin{enumerate*}\n",
       "\\item 'Cytokine'\n",
       "\\item 'Neutrophil'\n",
       "\\item 'Proteomics'\n",
       "\\item 'CD4+ T cells (Cluster 0)'\n",
       "\\item 'CD8+ T cells (Cluster 1)'\n",
       "\\item 'B cells (Cluster 10)'\n",
       "\\item 'CD4+ T cells (Cluster 11)'\n",
       "\\item 'FCGR3A(high) Monocytes (Cluster 12)'\n",
       "\\item 'Dendritic cells (Cluster 13)'\n",
       "\\item 'CD4+ T cells (Cluster 2)'\n",
       "\\item 'NK cells (Cluster 3)'\n",
       "\\item 'CD14(high) Monocytes (Cluster 4)'\n",
       "\\item 'CD4+ T cells (Cluster 5)'\n",
       "\\item 'CD14(high) Monocytes (Cluster 6)'\n",
       "\\item 'CD14(high) Monocytes (Cluster 7)'\n",
       "\\item 'B cells (Cluster 8)'\n",
       "\\item 'FCGR3A(high) Monocytes (Cluster 9)'\n",
       "\\end{enumerate*}\n"
      ],
      "text/markdown": [
       "1. 'Cytokine'\n",
       "2. 'Neutrophil'\n",
       "3. 'Proteomics'\n",
       "4. 'CD4+ T cells (Cluster 0)'\n",
       "5. 'CD8+ T cells (Cluster 1)'\n",
       "6. 'B cells (Cluster 10)'\n",
       "7. 'CD4+ T cells (Cluster 11)'\n",
       "8. 'FCGR3A(high) Monocytes (Cluster 12)'\n",
       "9. 'Dendritic cells (Cluster 13)'\n",
       "10. 'CD4+ T cells (Cluster 2)'\n",
       "11. 'NK cells (Cluster 3)'\n",
       "12. 'CD14(high) Monocytes (Cluster 4)'\n",
       "13. 'CD4+ T cells (Cluster 5)'\n",
       "14. 'CD14(high) Monocytes (Cluster 6)'\n",
       "15. 'CD14(high) Monocytes (Cluster 7)'\n",
       "16. 'B cells (Cluster 8)'\n",
       "17. 'FCGR3A(high) Monocytes (Cluster 9)'\n",
       "\n",
       "\n"
      ],
      "text/plain": [
       " [1] \"Cytokine\"                            \"Neutrophil\"                         \n",
       " [3] \"Proteomics\"                          \"CD4+ T cells (Cluster 0)\"           \n",
       " [5] \"CD8+ T cells (Cluster 1)\"            \"B cells (Cluster 10)\"               \n",
       " [7] \"CD4+ T cells (Cluster 11)\"           \"FCGR3A(high) Monocytes (Cluster 12)\"\n",
       " [9] \"Dendritic cells (Cluster 13)\"        \"CD4+ T cells (Cluster 2)\"           \n",
       "[11] \"NK cells (Cluster 3)\"                \"CD14(high) Monocytes (Cluster 4)\"   \n",
       "[13] \"CD4+ T cells (Cluster 5)\"            \"CD14(high) Monocytes (Cluster 6)\"   \n",
       "[15] \"CD14(high) Monocytes (Cluster 7)\"    \"B cells (Cluster 8)\"                \n",
       "[17] \"FCGR3A(high) Monocytes (Cluster 9)\" "
      ]
     },
     "metadata": {},
     "output_type": "display_data"
    }
   ],
   "source": [
    "names(data_list)"
   ]
  },
  {
   "cell_type": "code",
   "execution_count": 52,
   "id": "72465e3c-bceb-4131-b628-14ae8f3572f3",
   "metadata": {
    "tags": []
   },
   "outputs": [],
   "source": [
    "#str(data_list)"
   ]
  },
  {
   "cell_type": "code",
   "execution_count": 53,
   "id": "23ac8014-c111-48d7-acaf-fb4ee6516a46",
   "metadata": {},
   "outputs": [
    {
     "name": "stderr",
     "output_type": "stream",
     "text": [
      "Creating MOFA object from a list of matrices (features as rows, sample as columns)...\n",
      "\n",
      "\n"
     ]
    }
   ],
   "source": [
    "MOFAobject = create_mofa(data_list)"
   ]
  },
  {
   "cell_type": "code",
   "execution_count": 54,
   "id": "6e519e8f-f8a1-471d-b431-8c0876040173",
   "metadata": {},
   "outputs": [],
   "source": [
    "### Plot Data Overview"
   ]
  },
  {
   "cell_type": "code",
   "execution_count": 55,
   "id": "d585eef7-6d34-486f-9b29-786a1ef8e3fa",
   "metadata": {},
   "outputs": [],
   "source": [
    "options(repr.plot.width=30, repr.plot.height=10)\n",
    "mofa_overview = plot_data_overview(MOFAobject)"
   ]
  },
  {
   "cell_type": "code",
   "execution_count": 56,
   "id": "25ad394d-456b-485e-8fa3-98b17b3af311",
   "metadata": {},
   "outputs": [
    {
     "data": {
      "text/html": [
       "13278"
      ],
      "text/latex": [
       "13278"
      ],
      "text/markdown": [
       "13278"
      ],
      "text/plain": [
       "[1] 13278"
      ]
     },
     "metadata": {},
     "output_type": "display_data"
    }
   ],
   "source": [
    "length(unique(data_long$variable))"
   ]
  },
  {
   "cell_type": "code",
   "execution_count": 57,
   "id": "fb111060-0f4f-475d-831c-55ba5fc46aef",
   "metadata": {},
   "outputs": [],
   "source": [
    "# Specific Text Descriptions:\n",
    "xlabel = xlab('Samples') \n",
    "ylabel = ylab('View')"
   ]
  },
  {
   "cell_type": "code",
   "execution_count": 58,
   "id": "d0e56343-8c49-4a00-b67e-31b16e067e47",
   "metadata": {},
   "outputs": [],
   "source": [
    "figure_name = \"SUPP1_MOFA_Feature_Overview_w_o_clinical\""
   ]
  },
  {
   "cell_type": "code",
   "execution_count": 59,
   "id": "71ea18e8-5ae0-497d-add7-0937b310de51",
   "metadata": {},
   "outputs": [],
   "source": [
    "# Sizes of the plot\n",
    "width_par = 8.07\n",
    "height_par =6"
   ]
  },
  {
   "cell_type": "code",
   "execution_count": null,
   "id": "9ffdf9b1-2eaa-4da4-85ef-f5d1a94e0c64",
   "metadata": {},
   "outputs": [],
   "source": []
  },
  {
   "cell_type": "code",
   "execution_count": 60,
   "id": "f833861e-61b9-4923-8b99-3bb2d1cdca04",
   "metadata": {},
   "outputs": [
    {
     "name": "stderr",
     "output_type": "stream",
     "text": [
      "\u001b[1m\u001b[22mScale for \u001b[32mfill\u001b[39m is already present.\n",
      "Adding another scale for \u001b[32mfill\u001b[39m, which will replace the existing scale.\n"
     ]
    }
   ],
   "source": [
    "mofa_overview = mofa_overview + plot_config +cell_type_colors+\n",
    "                xlabel + ylabel + theme(axis.text.x = element_blank())"
   ]
  },
  {
   "cell_type": "code",
   "execution_count": 61,
   "id": "40a7cf8f-2081-4cea-8a49-249212581a85",
   "metadata": {},
   "outputs": [
    {
     "data": {
      "image/png": "[encoded data removed]",
      "text/plain": [
       "plot without title"
      ]
     },
     "metadata": {
      "image/png": {
       "height": 600,
       "width": 1800
      }
     },
     "output_type": "display_data"
    }
   ],
   "source": [
    "mofa_overview"
   ]
  },
  {
   "cell_type": "code",
   "execution_count": 62,
   "id": "a02dc71c-6be0-47b9-bd9b-f83effa4ca03",
   "metadata": {},
   "outputs": [
    {
     "data": {
      "text/html": [
       "<strong>png:</strong> 2"
      ],
      "text/latex": [
       "\\textbf{png:} 2"
      ],
      "text/markdown": [
       "**png:** 2"
      ],
      "text/plain": [
       "png \n",
       "  2 "
      ]
     },
     "metadata": {},
     "output_type": "display_data"
    }
   ],
   "source": [
    "pdf(paste0('figures/Supplementary_Figures/', figure_name,'_', name,'.pdf'), width =width_par, height = height_par)\n",
    "print(mofa_overview)\n",
    "dev.off()"
   ]
  },
  {
   "cell_type": "code",
   "execution_count": 63,
   "id": "882e9aa1-0cd8-44c8-9464-225b36f92700",
   "metadata": {},
   "outputs": [],
   "source": [
    "### Use orig MOFA object"
   ]
  },
  {
   "cell_type": "code",
   "execution_count": 64,
   "id": "353490df-1c5c-4e7d-9138-7ac593c2d35e",
   "metadata": {},
   "outputs": [
    {
     "name": "stderr",
     "output_type": "stream",
     "text": [
      "Creating MOFA object from a list of matrices (features as rows, sample as columns)...\n",
      "\n",
      "\n"
     ]
    }
   ],
   "source": [
    "MOFAobject = create_mofa(data_list_orig)"
   ]
  },
  {
   "cell_type": "markdown",
   "id": "7b948109-3903-4b4f-a727-80471943e04c",
   "metadata": {
    "tags": []
   },
   "source": [
    "### Set data options"
   ]
  },
  {
   "cell_type": "code",
   "execution_count": 65,
   "id": "9693530f-d352-470f-9239-0ec892c961b8",
   "metadata": {},
   "outputs": [],
   "source": [
    "mefisto_opts = get_default_mefisto_options(MOFAobject)"
   ]
  },
  {
   "cell_type": "code",
   "execution_count": 66,
   "id": "112705d7-013e-4213-8886-fd69f42fea63",
   "metadata": {},
   "outputs": [],
   "source": [
    "data_opts = get_default_data_options(MOFAobject)"
   ]
  },
  {
   "cell_type": "code",
   "execution_count": 67,
   "id": "4545b8db-75b4-41d5-87b1-debe0d401d59",
   "metadata": {},
   "outputs": [
    {
     "data": {
      "text/html": [
       "<dl>\n",
       "\t<dt>$scale_views</dt>\n",
       "\t\t<dd>FALSE</dd>\n",
       "\t<dt>$scale_groups</dt>\n",
       "\t\t<dd>FALSE</dd>\n",
       "\t<dt>$center_groups</dt>\n",
       "\t\t<dd>TRUE</dd>\n",
       "\t<dt>$use_float32</dt>\n",
       "\t\t<dd>FALSE</dd>\n",
       "\t<dt>$views</dt>\n",
       "\t\t<dd><style>\n",
       ".list-inline {list-style: none; margin:0; padding: 0}\n",
       ".list-inline>li {display: inline-block}\n",
       ".list-inline>li:not(:last-child)::after {content: \"\\00b7\"; padding: 0 .5ex}\n",
       "</style>\n",
       "<ol class=list-inline><li>'cytokine'</li><li>'neutrophil'</li><li>'proteomics'</li><li>'X0_TcellCD4'</li><li>'X1_TcellCD8'</li><li>'X10_Bcell'</li><li>'X11_TcellCD4'</li><li>'X12_MonocytesCD16_FCGR3A'</li><li>'X13_Dendritic'</li><li>'X2_TcellCD4'</li><li>'X3_NK'</li><li>'X4_MonocytesCD14'</li><li>'X5_TcellCD4'</li><li>'X6_MonocytesCD14'</li><li>'X7_MonocytesCD14'</li><li>'X8_Bcell'</li><li>'X9_MonocytesCD16_FCGR3A'</li></ol>\n",
       "</dd>\n",
       "\t<dt>$groups</dt>\n",
       "\t\t<dd>'group1'</dd>\n",
       "</dl>\n"
      ],
      "text/latex": [
       "\\begin{description}\n",
       "\\item[\\$scale\\_views] FALSE\n",
       "\\item[\\$scale\\_groups] FALSE\n",
       "\\item[\\$center\\_groups] TRUE\n",
       "\\item[\\$use\\_float32] FALSE\n",
       "\\item[\\$views] \\begin{enumerate*}\n",
       "\\item 'cytokine'\n",
       "\\item 'neutrophil'\n",
       "\\item 'proteomics'\n",
       "\\item 'X0\\_TcellCD4'\n",
       "\\item 'X1\\_TcellCD8'\n",
       "\\item 'X10\\_Bcell'\n",
       "\\item 'X11\\_TcellCD4'\n",
       "\\item 'X12\\_MonocytesCD16\\_FCGR3A'\n",
       "\\item 'X13\\_Dendritic'\n",
       "\\item 'X2\\_TcellCD4'\n",
       "\\item 'X3\\_NK'\n",
       "\\item 'X4\\_MonocytesCD14'\n",
       "\\item 'X5\\_TcellCD4'\n",
       "\\item 'X6\\_MonocytesCD14'\n",
       "\\item 'X7\\_MonocytesCD14'\n",
       "\\item 'X8\\_Bcell'\n",
       "\\item 'X9\\_MonocytesCD16\\_FCGR3A'\n",
       "\\end{enumerate*}\n",
       "\n",
       "\\item[\\$groups] 'group1'\n",
       "\\end{description}\n"
      ],
      "text/markdown": [
       "$scale_views\n",
       ":   FALSE\n",
       "$scale_groups\n",
       ":   FALSE\n",
       "$center_groups\n",
       ":   TRUE\n",
       "$use_float32\n",
       ":   FALSE\n",
       "$views\n",
       ":   1. 'cytokine'\n",
       "2. 'neutrophil'\n",
       "3. 'proteomics'\n",
       "4. 'X0_TcellCD4'\n",
       "5. 'X1_TcellCD8'\n",
       "6. 'X10_Bcell'\n",
       "7. 'X11_TcellCD4'\n",
       "8. 'X12_MonocytesCD16_FCGR3A'\n",
       "9. 'X13_Dendritic'\n",
       "10. 'X2_TcellCD4'\n",
       "11. 'X3_NK'\n",
       "12. 'X4_MonocytesCD14'\n",
       "13. 'X5_TcellCD4'\n",
       "14. 'X6_MonocytesCD14'\n",
       "15. 'X7_MonocytesCD14'\n",
       "16. 'X8_Bcell'\n",
       "17. 'X9_MonocytesCD16_FCGR3A'\n",
       "\n",
       "\n",
       "\n",
       "$groups\n",
       ":   'group1'\n",
       "\n",
       "\n"
      ],
      "text/plain": [
       "$scale_views\n",
       "[1] FALSE\n",
       "\n",
       "$scale_groups\n",
       "[1] FALSE\n",
       "\n",
       "$center_groups\n",
       "[1] TRUE\n",
       "\n",
       "$use_float32\n",
       "[1] FALSE\n",
       "\n",
       "$views\n",
       " [1] \"cytokine\"                 \"neutrophil\"              \n",
       " [3] \"proteomics\"               \"X0_TcellCD4\"             \n",
       " [5] \"X1_TcellCD8\"              \"X10_Bcell\"               \n",
       " [7] \"X11_TcellCD4\"             \"X12_MonocytesCD16_FCGR3A\"\n",
       " [9] \"X13_Dendritic\"            \"X2_TcellCD4\"             \n",
       "[11] \"X3_NK\"                    \"X4_MonocytesCD14\"        \n",
       "[13] \"X5_TcellCD4\"              \"X6_MonocytesCD14\"        \n",
       "[15] \"X7_MonocytesCD14\"         \"X8_Bcell\"                \n",
       "[17] \"X9_MonocytesCD16_FCGR3A\" \n",
       "\n",
       "$groups\n",
       "[1] \"group1\"\n"
      ]
     },
     "metadata": {},
     "output_type": "display_data"
    }
   ],
   "source": [
    "data_opts"
   ]
  },
  {
   "cell_type": "code",
   "execution_count": 68,
   "id": "6b0946b0-5606-466f-87e8-c3a65a6233fc",
   "metadata": {},
   "outputs": [],
   "source": [
    "data_opts$scale_views = TRUE # decide whether to scale the data"
   ]
  },
  {
   "cell_type": "code",
   "execution_count": 69,
   "id": "e0ef44c2-9b1e-4361-873f-316c3bfa8fbf",
   "metadata": {},
   "outputs": [],
   "source": [
    "## Define model options"
   ]
  },
  {
   "cell_type": "code",
   "execution_count": 70,
   "id": "a4fb423b-9f01-4107-843f-d23d5dd4f0a3",
   "metadata": {},
   "outputs": [
    {
     "data": {
      "text/html": [
       "<dl>\n",
       "\t<dt>$likelihoods</dt>\n",
       "\t\t<dd><style>\n",
       ".dl-inline {width: auto; margin:0; padding: 0}\n",
       ".dl-inline>dt, .dl-inline>dd {float: none; width: auto; display: inline-block}\n",
       ".dl-inline>dt::after {content: \":\\0020\"; padding-right: .5ex}\n",
       ".dl-inline>dt:not(:first-of-type) {padding-left: .5ex}\n",
       "</style><dl class=dl-inline><dt>cytokine</dt><dd>'gaussian'</dd><dt>neutrophil</dt><dd>'gaussian'</dd><dt>proteomics</dt><dd>'gaussian'</dd><dt>X0_TcellCD4</dt><dd>'gaussian'</dd><dt>X1_TcellCD8</dt><dd>'gaussian'</dd><dt>X10_Bcell</dt><dd>'gaussian'</dd><dt>X11_TcellCD4</dt><dd>'gaussian'</dd><dt>X12_MonocytesCD16_FCGR3A</dt><dd>'gaussian'</dd><dt>X13_Dendritic</dt><dd>'gaussian'</dd><dt>X2_TcellCD4</dt><dd>'gaussian'</dd><dt>X3_NK</dt><dd>'gaussian'</dd><dt>X4_MonocytesCD14</dt><dd>'gaussian'</dd><dt>X5_TcellCD4</dt><dd>'gaussian'</dd><dt>X6_MonocytesCD14</dt><dd>'gaussian'</dd><dt>X7_MonocytesCD14</dt><dd>'gaussian'</dd><dt>X8_Bcell</dt><dd>'gaussian'</dd><dt>X9_MonocytesCD16_FCGR3A</dt><dd>'gaussian'</dd></dl>\n",
       "</dd>\n",
       "\t<dt>$num_factors</dt>\n",
       "\t\t<dd>15</dd>\n",
       "\t<dt>$spikeslab_factors</dt>\n",
       "\t\t<dd>FALSE</dd>\n",
       "\t<dt>$spikeslab_weights</dt>\n",
       "\t\t<dd>TRUE</dd>\n",
       "\t<dt>$ard_factors</dt>\n",
       "\t\t<dd>FALSE</dd>\n",
       "\t<dt>$ard_weights</dt>\n",
       "\t\t<dd>TRUE</dd>\n",
       "</dl>\n"
      ],
      "text/latex": [
       "\\begin{description}\n",
       "\\item[\\$likelihoods] \\begin{description*}\n",
       "\\item[cytokine] 'gaussian'\n",
       "\\item[neutrophil] 'gaussian'\n",
       "\\item[proteomics] 'gaussian'\n",
       "\\item[X0\\textbackslash{}\\_TcellCD4] 'gaussian'\n",
       "\\item[X1\\textbackslash{}\\_TcellCD8] 'gaussian'\n",
       "\\item[X10\\textbackslash{}\\_Bcell] 'gaussian'\n",
       "\\item[X11\\textbackslash{}\\_TcellCD4] 'gaussian'\n",
       "\\item[X12\\textbackslash{}\\_MonocytesCD16\\textbackslash{}\\_FCGR3A] 'gaussian'\n",
       "\\item[X13\\textbackslash{}\\_Dendritic] 'gaussian'\n",
       "\\item[X2\\textbackslash{}\\_TcellCD4] 'gaussian'\n",
       "\\item[X3\\textbackslash{}\\_NK] 'gaussian'\n",
       "\\item[X4\\textbackslash{}\\_MonocytesCD14] 'gaussian'\n",
       "\\item[X5\\textbackslash{}\\_TcellCD4] 'gaussian'\n",
       "\\item[X6\\textbackslash{}\\_MonocytesCD14] 'gaussian'\n",
       "\\item[X7\\textbackslash{}\\_MonocytesCD14] 'gaussian'\n",
       "\\item[X8\\textbackslash{}\\_Bcell] 'gaussian'\n",
       "\\item[X9\\textbackslash{}\\_MonocytesCD16\\textbackslash{}\\_FCGR3A] 'gaussian'\n",
       "\\end{description*}\n",
       "\n",
       "\\item[\\$num\\_factors] 15\n",
       "\\item[\\$spikeslab\\_factors] FALSE\n",
       "\\item[\\$spikeslab\\_weights] TRUE\n",
       "\\item[\\$ard\\_factors] FALSE\n",
       "\\item[\\$ard\\_weights] TRUE\n",
       "\\end{description}\n"
      ],
      "text/markdown": [
       "$likelihoods\n",
       ":   cytokine\n",
       ":   'gaussian'neutrophil\n",
       ":   'gaussian'proteomics\n",
       ":   'gaussian'X0_TcellCD4\n",
       ":   'gaussian'X1_TcellCD8\n",
       ":   'gaussian'X10_Bcell\n",
       ":   'gaussian'X11_TcellCD4\n",
       ":   'gaussian'X12_MonocytesCD16_FCGR3A\n",
       ":   'gaussian'X13_Dendritic\n",
       ":   'gaussian'X2_TcellCD4\n",
       ":   'gaussian'X3_NK\n",
       ":   'gaussian'X4_MonocytesCD14\n",
       ":   'gaussian'X5_TcellCD4\n",
       ":   'gaussian'X6_MonocytesCD14\n",
       ":   'gaussian'X7_MonocytesCD14\n",
       ":   'gaussian'X8_Bcell\n",
       ":   'gaussian'X9_MonocytesCD16_FCGR3A\n",
       ":   'gaussian'\n",
       "\n",
       "\n",
       "$num_factors\n",
       ":   15\n",
       "$spikeslab_factors\n",
       ":   FALSE\n",
       "$spikeslab_weights\n",
       ":   TRUE\n",
       "$ard_factors\n",
       ":   FALSE\n",
       "$ard_weights\n",
       ":   TRUE\n",
       "\n",
       "\n"
      ],
      "text/plain": [
       "$likelihoods\n",
       "                cytokine               neutrophil               proteomics \n",
       "              \"gaussian\"               \"gaussian\"               \"gaussian\" \n",
       "             X0_TcellCD4              X1_TcellCD8                X10_Bcell \n",
       "              \"gaussian\"               \"gaussian\"               \"gaussian\" \n",
       "            X11_TcellCD4 X12_MonocytesCD16_FCGR3A            X13_Dendritic \n",
       "              \"gaussian\"               \"gaussian\"               \"gaussian\" \n",
       "             X2_TcellCD4                    X3_NK         X4_MonocytesCD14 \n",
       "              \"gaussian\"               \"gaussian\"               \"gaussian\" \n",
       "             X5_TcellCD4         X6_MonocytesCD14         X7_MonocytesCD14 \n",
       "              \"gaussian\"               \"gaussian\"               \"gaussian\" \n",
       "                X8_Bcell  X9_MonocytesCD16_FCGR3A \n",
       "              \"gaussian\"               \"gaussian\" \n",
       "\n",
       "$num_factors\n",
       "[1] 15\n",
       "\n",
       "$spikeslab_factors\n",
       "[1] FALSE\n",
       "\n",
       "$spikeslab_weights\n",
       "[1] TRUE\n",
       "\n",
       "$ard_factors\n",
       "[1] FALSE\n",
       "\n",
       "$ard_weights\n",
       "[1] TRUE\n"
      ]
     },
     "metadata": {},
     "output_type": "display_data"
    }
   ],
   "source": [
    "model_opts = get_default_model_options(MOFAobject)\n",
    "model_opts"
   ]
  },
  {
   "cell_type": "code",
   "execution_count": 71,
   "id": "3732b871-8640-4c71-be2e-24c48d440d14",
   "metadata": {},
   "outputs": [],
   "source": [
    "model_opts$num_factors = 20 # define number of factors"
   ]
  },
  {
   "cell_type": "code",
   "execution_count": 72,
   "id": "03cc522a-4279-4239-9853-f2a04e539ea1",
   "metadata": {},
   "outputs": [],
   "source": [
    "#model_opts$likelihoods"
   ]
  },
  {
   "cell_type": "markdown",
   "id": "820cd5ea-6ee8-4378-9302-da93f97ddddc",
   "metadata": {
    "tags": []
   },
   "source": [
    "### Define training options"
   ]
  },
  {
   "cell_type": "code",
   "execution_count": 73,
   "id": "3ee41554-fa0f-4fee-8fd7-56613b48e44d",
   "metadata": {},
   "outputs": [
    {
     "data": {
      "text/html": [
       "<dl>\n",
       "\t<dt>$maxiter</dt>\n",
       "\t\t<dd>1000</dd>\n",
       "\t<dt>$convergence_mode</dt>\n",
       "\t\t<dd>'fast'</dd>\n",
       "\t<dt>$drop_factor_threshold</dt>\n",
       "\t\t<dd>-1</dd>\n",
       "\t<dt>$verbose</dt>\n",
       "\t\t<dd>FALSE</dd>\n",
       "\t<dt>$startELBO</dt>\n",
       "\t\t<dd>1</dd>\n",
       "\t<dt>$freqELBO</dt>\n",
       "\t\t<dd>5</dd>\n",
       "\t<dt>$stochastic</dt>\n",
       "\t\t<dd>FALSE</dd>\n",
       "\t<dt>$gpu_mode</dt>\n",
       "\t\t<dd>FALSE</dd>\n",
       "\t<dt>$seed</dt>\n",
       "\t\t<dd>42</dd>\n",
       "\t<dt>$outfile</dt>\n",
       "\t\t<dd>NULL</dd>\n",
       "\t<dt>$weight_views</dt>\n",
       "\t\t<dd>FALSE</dd>\n",
       "\t<dt>$save_interrupted</dt>\n",
       "\t\t<dd>FALSE</dd>\n",
       "</dl>\n"
      ],
      "text/latex": [
       "\\begin{description}\n",
       "\\item[\\$maxiter] 1000\n",
       "\\item[\\$convergence\\_mode] 'fast'\n",
       "\\item[\\$drop\\_factor\\_threshold] -1\n",
       "\\item[\\$verbose] FALSE\n",
       "\\item[\\$startELBO] 1\n",
       "\\item[\\$freqELBO] 5\n",
       "\\item[\\$stochastic] FALSE\n",
       "\\item[\\$gpu\\_mode] FALSE\n",
       "\\item[\\$seed] 42\n",
       "\\item[\\$outfile] NULL\n",
       "\\item[\\$weight\\_views] FALSE\n",
       "\\item[\\$save\\_interrupted] FALSE\n",
       "\\end{description}\n"
      ],
      "text/markdown": [
       "$maxiter\n",
       ":   1000\n",
       "$convergence_mode\n",
       ":   'fast'\n",
       "$drop_factor_threshold\n",
       ":   -1\n",
       "$verbose\n",
       ":   FALSE\n",
       "$startELBO\n",
       ":   1\n",
       "$freqELBO\n",
       ":   5\n",
       "$stochastic\n",
       ":   FALSE\n",
       "$gpu_mode\n",
       ":   FALSE\n",
       "$seed\n",
       ":   42\n",
       "$outfile\n",
       ":   NULL\n",
       "$weight_views\n",
       ":   FALSE\n",
       "$save_interrupted\n",
       ":   FALSE\n",
       "\n",
       "\n"
      ],
      "text/plain": [
       "$maxiter\n",
       "[1] 1000\n",
       "\n",
       "$convergence_mode\n",
       "[1] \"fast\"\n",
       "\n",
       "$drop_factor_threshold\n",
       "[1] -1\n",
       "\n",
       "$verbose\n",
       "[1] FALSE\n",
       "\n",
       "$startELBO\n",
       "[1] 1\n",
       "\n",
       "$freqELBO\n",
       "[1] 5\n",
       "\n",
       "$stochastic\n",
       "[1] FALSE\n",
       "\n",
       "$gpu_mode\n",
       "[1] FALSE\n",
       "\n",
       "$seed\n",
       "[1] 42\n",
       "\n",
       "$outfile\n",
       "NULL\n",
       "\n",
       "$weight_views\n",
       "[1] FALSE\n",
       "\n",
       "$save_interrupted\n",
       "[1] FALSE\n"
      ]
     },
     "metadata": {},
     "output_type": "display_data"
    }
   ],
   "source": [
    "train_opts  = get_default_training_options(MOFAobject)\n",
    "train_opts"
   ]
  },
  {
   "cell_type": "code",
   "execution_count": 74,
   "id": "a4b438ae-e6ee-421e-be27-179e7ea0934d",
   "metadata": {},
   "outputs": [],
   "source": [
    "train_opts$maxiter = 50000"
   ]
  },
  {
   "cell_type": "code",
   "execution_count": 75,
   "id": "5efd0ac2-2d66-49ed-b0dc-e84a83c5bf57",
   "metadata": {},
   "outputs": [],
   "source": [
    "train_opts$verbose = TRUE"
   ]
  },
  {
   "cell_type": "code",
   "execution_count": 76,
   "id": "01c419c6-d846-4995-a206-a90826c97845",
   "metadata": {},
   "outputs": [],
   "source": [
    "train_opts$seed = 42"
   ]
  },
  {
   "cell_type": "code",
   "execution_count": 77,
   "id": "2a9b65af-2b13-4891-857a-6e2526e6d30a",
   "metadata": {},
   "outputs": [],
   "source": [
    "train_opts$weight_views = FALSE"
   ]
  },
  {
   "cell_type": "markdown",
   "id": "6ef83262-70d6-4dee-9b4a-19bc1225da87",
   "metadata": {
    "tags": []
   },
   "source": [
    "### Stochastic Options"
   ]
  },
  {
   "cell_type": "code",
   "execution_count": 78,
   "id": "3bd852b5-31f7-4b29-80aa-1ae357432558",
   "metadata": {},
   "outputs": [],
   "source": [
    "stoch_options = get_default_stochastic_options(MOFAobject)"
   ]
  },
  {
   "cell_type": "code",
   "execution_count": 79,
   "id": "f3d2ed1d-44dc-4458-a331-8f00d4f34848",
   "metadata": {},
   "outputs": [
    {
     "data": {
      "text/html": [
       "<dl>\n",
       "\t<dt>$batch_size</dt>\n",
       "\t\t<dd>0.5</dd>\n",
       "\t<dt>$learning_rate</dt>\n",
       "\t\t<dd>1</dd>\n",
       "\t<dt>$forgetting_rate</dt>\n",
       "\t\t<dd>0.5</dd>\n",
       "\t<dt>$start_stochastic</dt>\n",
       "\t\t<dd>1</dd>\n",
       "</dl>\n"
      ],
      "text/latex": [
       "\\begin{description}\n",
       "\\item[\\$batch\\_size] 0.5\n",
       "\\item[\\$learning\\_rate] 1\n",
       "\\item[\\$forgetting\\_rate] 0.5\n",
       "\\item[\\$start\\_stochastic] 1\n",
       "\\end{description}\n"
      ],
      "text/markdown": [
       "$batch_size\n",
       ":   0.5\n",
       "$learning_rate\n",
       ":   1\n",
       "$forgetting_rate\n",
       ":   0.5\n",
       "$start_stochastic\n",
       ":   1\n",
       "\n",
       "\n"
      ],
      "text/plain": [
       "$batch_size\n",
       "[1] 0.5\n",
       "\n",
       "$learning_rate\n",
       "[1] 1\n",
       "\n",
       "$forgetting_rate\n",
       "[1] 0.5\n",
       "\n",
       "$start_stochastic\n",
       "[1] 1\n"
      ]
     },
     "metadata": {},
     "output_type": "display_data"
    }
   ],
   "source": [
    "stoch_options"
   ]
  },
  {
   "cell_type": "markdown",
   "id": "f0755cfb-2eb3-4734-8efe-34efee68bce8",
   "metadata": {
    "tags": []
   },
   "source": [
    "### Build and train the model"
   ]
  },
  {
   "cell_type": "code",
   "execution_count": 80,
   "id": "525aace4-69f7-4f28-94d6-62519a1abeaf",
   "metadata": {},
   "outputs": [
    {
     "name": "stderr",
     "output_type": "stream",
     "text": [
      "Checking data options...\n",
      "\n",
      "Checking training options...\n",
      "\n",
      "Checking model options...\n",
      "\n"
     ]
    }
   ],
   "source": [
    "MOFAobject = prepare_mofa(\n",
    "  object = MOFAobject,\n",
    "  data_options = data_opts,\n",
    "  model_options = model_opts,\n",
    "  mefisto_options = mefisto_opts,\n",
    "  training_options = train_opts #,\n",
    "  #stochastic_options = stoch_options\n",
    ")"
   ]
  },
  {
   "cell_type": "markdown",
   "id": "39519021-506c-47f4-9270-09814ce4a46a",
   "metadata": {
    "tags": []
   },
   "source": [
    "### Save the model"
   ]
  },
  {
   "cell_type": "code",
   "execution_count": 81,
   "id": "13b7b2d8-d4ed-42b1-95c0-5a73e6177518",
   "metadata": {},
   "outputs": [
    {
     "data": {
      "text/html": [
       "FALSE"
      ],
      "text/latex": [
       "FALSE"
      ],
      "text/markdown": [
       "FALSE"
      ],
      "text/plain": [
       "[1] FALSE"
      ]
     },
     "metadata": {},
     "output_type": "display_data"
    }
   ],
   "source": [
    "train_opts$weight_views"
   ]
  },
  {
   "cell_type": "code",
   "execution_count": 82,
   "id": "becc938d-534b-4f8c-80d8-ab11d05f807a",
   "metadata": {},
   "outputs": [],
   "source": [
    "model_name = paste0(\"MOFA_MODEL_w_o_clinical_\", name, '-', train_opts$weight_views,'.hdf5')"
   ]
  },
  {
   "cell_type": "code",
   "execution_count": 83,
   "id": "561b4506-6f56-4d08-8e35-52486b58f643",
   "metadata": {},
   "outputs": [
    {
     "data": {
      "text/html": [
       "'MOFA_MODEL_w_o_clinical_V_FINAL_INTEGRATED-FALSE.hdf5'"
      ],
      "text/latex": [
       "'MOFA\\_MODEL\\_w\\_o\\_clinical\\_V\\_FINAL\\_INTEGRATED-FALSE.hdf5'"
      ],
      "text/markdown": [
       "'MOFA_MODEL_w_o_clinical_V_FINAL_INTEGRATED-FALSE.hdf5'"
      ],
      "text/plain": [
       "[1] \"MOFA_MODEL_w_o_clinical_V_FINAL_INTEGRATED-FALSE.hdf5\""
      ]
     },
     "metadata": {},
     "output_type": "display_data"
    }
   ],
   "source": [
    "model_name\n"
   ]
  },
  {
   "cell_type": "code",
   "execution_count": 84,
   "id": "d5025df8-b455-44a0-8295-28603c93e985",
   "metadata": {},
   "outputs": [],
   "source": [
    "outfile = file.path( paste0(result_path, '/E-Analysis/',  model_name) )"
   ]
  },
  {
   "cell_type": "code",
   "execution_count": 89,
   "id": "f1e45075-3212-4eb0-a489-ccf368d12c93",
   "metadata": {},
   "outputs": [
    {
     "name": "stderr",
     "output_type": "stream",
     "text": [
      "Warning: Output file ../results/current/E-Analysis/MOFA_MODEL_w_o_clinical_V_FINAL_INTEGRATED-FALSE.hdf5 already exists, it will be replaced\n",
      "\n",
      "Connecting to the mofapy2 python package using reticulate (use_basilisk = FALSE)... \n",
      "    Please make sure to manually specify the right python binary when loading R with reticulate::use_python(..., force=TRUE) or the right conda environment with reticulate::use_condaenv(..., force=TRUE)\n",
      "    If you prefer to let us automatically install a conda environment with 'mofapy2' installed using the 'basilisk' package, please use the argument 'use_basilisk = TRUE'\n",
      "\n",
      "\n",
      "Warning message in .quality_control(object, verbose = verbose):\n",
      "“Factor(s) 9, 12, 17 are strongly correlated with the total number of expressed features for at least one of your omics. Such factors appear when there are differences in the total 'levels' between your samples, *sometimes* because of poor normalisation in the preprocessing steps.\n",
      "”\n"
     ]
    }
   ],
   "source": [
    "MOFAobject.trained = run_mofa(MOFAobject, outfile, use_basilisk = FALSE)"
   ]
  },
  {
   "cell_type": "code",
   "execution_count": 90,
   "id": "8b78e2e9-c56c-4217-954e-0ea4df8594bf",
   "metadata": {
    "tags": []
   },
   "outputs": [
    {
     "data": {
      "text/html": [
       "149"
      ],
      "text/latex": [
       "149"
      ],
      "text/markdown": [
       "149"
      ],
      "text/plain": [
       "[1] 149"
      ]
     },
     "metadata": {},
     "output_type": "display_data"
    }
   ],
   "source": [
    "nrow(sample_data)"
   ]
  },
  {
   "cell_type": "code",
   "execution_count": 91,
   "id": "f13de2dd-b857-43fb-89f3-173521daf112",
   "metadata": {},
   "outputs": [
    {
     "data": {
      "text/html": [
       "149"
      ],
      "text/latex": [
       "149"
      ],
      "text/markdown": [
       "149"
      ],
      "text/plain": [
       "[1] 149"
      ]
     },
     "metadata": {},
     "output_type": "display_data"
    }
   ],
   "source": [
    "length(unique(sample_data$sample_id))"
   ]
  },
  {
   "cell_type": "code",
   "execution_count": 92,
   "id": "7721ff8d-4407-4a34-ba20-0b05167141aa",
   "metadata": {
    "tags": []
   },
   "outputs": [
    {
     "name": "stderr",
     "output_type": "stream",
     "text": [
      "Loading data...\n",
      "\n",
      "Loading expectations for 2 nodes...\n",
      "\n",
      "Loading model options...\n",
      "\n",
      "Loading training options and statistics...\n",
      "\n",
      "Assigning names to the different dimensions...\n",
      "\n",
      "Re-ordering factors by their variance explained...\n",
      "\n",
      "Doing quality control...\n",
      "\n",
      "Checking views names...\n",
      "\n",
      "Checking groups names...\n",
      "\n",
      "Checking samples names...\n",
      "\n",
      "Checking features names...\n",
      "\n",
      "Checking dimensions...\n",
      "\n",
      "Checking there are no features with complete missing values...\n",
      "\n",
      "Checking sample covariates...\n",
      "\n",
      "Checking expectations...\n",
      "\n",
      "Checking for intercept factors...\n",
      "\n",
      "Warning message in .quality_control(object, verbose = verbose):\n",
      "“Factor(s) 9, 12, 17 are strongly correlated with the total number of expressed features for at least one of your omics. Such factors appear when there are differences in the total 'levels' between your samples, *sometimes* because of poor normalisation in the preprocessing steps.\n",
      "”\n",
      "Checking for highly correlated factors...\n",
      "\n"
     ]
    }
   ],
   "source": [
    "model <- load_model(outfile, verbose = TRUE)"
   ]
  },
  {
   "cell_type": "code",
   "execution_count": 93,
   "id": "6a1dc3ae-1259-44e2-b1cb-2e4d0105fabb",
   "metadata": {},
   "outputs": [
    {
     "data": {
      "text/html": [
       "13278"
      ],
      "text/latex": [
       "13278"
      ],
      "text/markdown": [
       "13278"
      ],
      "text/plain": [
       "[1] 13278"
      ]
     },
     "metadata": {},
     "output_type": "display_data"
    }
   ],
   "source": [
    "length(unique(data_long$variable))"
   ]
  },
  {
   "cell_type": "markdown",
   "id": "1385d8a3-c030-45e4-92d6-7e71e9450bb6",
   "metadata": {
    "tags": []
   },
   "source": [
    "# Downstream Analysis of generated model"
   ]
  },
  {
   "cell_type": "code",
   "execution_count": 94,
   "id": "400ccbb7-5ad0-4649-a411-e8bc50a62090",
   "metadata": {
    "tags": []
   },
   "outputs": [],
   "source": [
    "#str(model)"
   ]
  },
  {
   "cell_type": "code",
   "execution_count": 95,
   "id": "1c3de6ca-81b7-44c1-ba86-91f94cbe3b41",
   "metadata": {},
   "outputs": [],
   "source": [
    "#model = MOFAobject.trained"
   ]
  },
  {
   "cell_type": "code",
   "execution_count": 96,
   "id": "5b48cb27-2fd6-436b-8b4c-386f7b56df3b",
   "metadata": {},
   "outputs": [
    {
     "data": {
      "text/html": [
       "<style>\n",
       ".dl-inline {width: auto; margin:0; padding: 0}\n",
       ".dl-inline>dt, .dl-inline>dd {float: none; width: auto; display: inline-block}\n",
       ".dl-inline>dt::after {content: \":\\0020\"; padding-right: .5ex}\n",
       ".dl-inline>dt:not(:first-of-type) {padding-left: .5ex}\n",
       "</style><dl class=dl-inline><dt>cytokine</dt><dd>65</dd><dt>neutrophil</dt><dd>892</dd><dt>proteomics</dt><dd>490</dd><dt>X0_TcellCD4</dt><dd>688</dd><dt>X1_TcellCD8</dt><dd>734</dd><dt>X10_Bcell</dt><dd>796</dd><dt>X11_TcellCD4</dt><dd>674</dd><dt>X12_MonocytesCD16_FCGR3A</dt><dd>941</dd><dt>X13_Dendritic</dt><dd>315</dd><dt>X2_TcellCD4</dt><dd>646</dd><dt>X3_NK</dt><dd>465</dd><dt>X4_MonocytesCD14</dt><dd>2159</dd><dt>X5_TcellCD4</dt><dd>479</dd><dt>X6_MonocytesCD14</dt><dd>1370</dd><dt>X7_MonocytesCD14</dt><dd>1132</dd><dt>X8_Bcell</dt><dd>560</dd><dt>X9_MonocytesCD16_FCGR3A</dt><dd>872</dd></dl>\n"
      ],
      "text/latex": [
       "\\begin{description*}\n",
       "\\item[cytokine] 65\n",
       "\\item[neutrophil] 892\n",
       "\\item[proteomics] 490\n",
       "\\item[X0\\textbackslash{}\\_TcellCD4] 688\n",
       "\\item[X1\\textbackslash{}\\_TcellCD8] 734\n",
       "\\item[X10\\textbackslash{}\\_Bcell] 796\n",
       "\\item[X11\\textbackslash{}\\_TcellCD4] 674\n",
       "\\item[X12\\textbackslash{}\\_MonocytesCD16\\textbackslash{}\\_FCGR3A] 941\n",
       "\\item[X13\\textbackslash{}\\_Dendritic] 315\n",
       "\\item[X2\\textbackslash{}\\_TcellCD4] 646\n",
       "\\item[X3\\textbackslash{}\\_NK] 465\n",
       "\\item[X4\\textbackslash{}\\_MonocytesCD14] 2159\n",
       "\\item[X5\\textbackslash{}\\_TcellCD4] 479\n",
       "\\item[X6\\textbackslash{}\\_MonocytesCD14] 1370\n",
       "\\item[X7\\textbackslash{}\\_MonocytesCD14] 1132\n",
       "\\item[X8\\textbackslash{}\\_Bcell] 560\n",
       "\\item[X9\\textbackslash{}\\_MonocytesCD16\\textbackslash{}\\_FCGR3A] 872\n",
       "\\end{description*}\n"
      ],
      "text/markdown": [
       "cytokine\n",
       ":   65neutrophil\n",
       ":   892proteomics\n",
       ":   490X0_TcellCD4\n",
       ":   688X1_TcellCD8\n",
       ":   734X10_Bcell\n",
       ":   796X11_TcellCD4\n",
       ":   674X12_MonocytesCD16_FCGR3A\n",
       ":   941X13_Dendritic\n",
       ":   315X2_TcellCD4\n",
       ":   646X3_NK\n",
       ":   465X4_MonocytesCD14\n",
       ":   2159X5_TcellCD4\n",
       ":   479X6_MonocytesCD14\n",
       ":   1370X7_MonocytesCD14\n",
       ":   1132X8_Bcell\n",
       ":   560X9_MonocytesCD16_FCGR3A\n",
       ":   872\n",
       "\n"
      ],
      "text/plain": [
       "                cytokine               neutrophil               proteomics \n",
       "                      65                      892                      490 \n",
       "             X0_TcellCD4              X1_TcellCD8                X10_Bcell \n",
       "                     688                      734                      796 \n",
       "            X11_TcellCD4 X12_MonocytesCD16_FCGR3A            X13_Dendritic \n",
       "                     674                      941                      315 \n",
       "             X2_TcellCD4                    X3_NK         X4_MonocytesCD14 \n",
       "                     646                      465                     2159 \n",
       "             X5_TcellCD4         X6_MonocytesCD14         X7_MonocytesCD14 \n",
       "                     479                     1370                     1132 \n",
       "                X8_Bcell  X9_MonocytesCD16_FCGR3A \n",
       "                     560                      872 "
      ]
     },
     "metadata": {},
     "output_type": "display_data"
    }
   ],
   "source": [
    "model@dimensions$D"
   ]
  },
  {
   "cell_type": "code",
   "execution_count": 97,
   "id": "53ac3e6e-ba70-4102-b044-4554e09d9f81",
   "metadata": {},
   "outputs": [
    {
     "data": {
      "text/html": [
       "13278"
      ],
      "text/latex": [
       "13278"
      ],
      "text/markdown": [
       "13278"
      ],
      "text/plain": [
       "[1] 13278"
      ]
     },
     "metadata": {},
     "output_type": "display_data"
    }
   ],
   "source": [
    "sum(model@dimensions$D)"
   ]
  },
  {
   "cell_type": "markdown",
   "id": "6359441b-4426-4d60-b6f1-8e7afa56d123",
   "metadata": {
    "tags": []
   },
   "source": [
    "## Add metadata to model"
   ]
  },
  {
   "cell_type": "code",
   "execution_count": 98,
   "id": "3f9fb18c-02f2-4bc5-b37f-85142e3b708c",
   "metadata": {
    "tags": []
   },
   "outputs": [
    {
     "data": {
      "text/html": [
       "<table class=\"dataframe\">\n",
       "<caption>A data.frame: 3 × 2</caption>\n",
       "<thead>\n",
       "\t<tr><th></th><th scope=col>group</th><th scope=col>sample</th></tr>\n",
       "\t<tr><th></th><th scope=col>&lt;fct&gt;</th><th scope=col>&lt;chr&gt;</th></tr>\n",
       "</thead>\n",
       "<tbody>\n",
       "\t<tr><th scope=row>1</th><td>group1</td><td>k1 </td></tr>\n",
       "\t<tr><th scope=row>2</th><td>group1</td><td>k10</td></tr>\n",
       "\t<tr><th scope=row>3</th><td>group1</td><td>k11</td></tr>\n",
       "</tbody>\n",
       "</table>\n"
      ],
      "text/latex": [
       "A data.frame: 3 × 2\n",
       "\\begin{tabular}{r|ll}\n",
       "  & group & sample\\\\\n",
       "  & <fct> & <chr>\\\\\n",
       "\\hline\n",
       "\t1 & group1 & k1 \\\\\n",
       "\t2 & group1 & k10\\\\\n",
       "\t3 & group1 & k11\\\\\n",
       "\\end{tabular}\n"
      ],
      "text/markdown": [
       "\n",
       "A data.frame: 3 × 2\n",
       "\n",
       "| <!--/--> | group &lt;fct&gt; | sample &lt;chr&gt; |\n",
       "|---|---|---|\n",
       "| 1 | group1 | k1  |\n",
       "| 2 | group1 | k10 |\n",
       "| 3 | group1 | k11 |\n",
       "\n"
      ],
      "text/plain": [
       "  group  sample\n",
       "1 group1 k1    \n",
       "2 group1 k10   \n",
       "3 group1 k11   "
      ]
     },
     "metadata": {},
     "output_type": "display_data"
    }
   ],
   "source": [
    "head(model@samples_metadata, n=3)"
   ]
  },
  {
   "cell_type": "code",
   "execution_count": 99,
   "id": "b9a3095f-5c7f-40e2-b33d-71d169ecaa00",
   "metadata": {},
   "outputs": [
    {
     "data": {
      "text/html": [
       "149"
      ],
      "text/latex": [
       "149"
      ],
      "text/markdown": [
       "149"
      ],
      "text/plain": [
       "[1] 149"
      ]
     },
     "metadata": {},
     "output_type": "display_data"
    }
   ],
   "source": [
    "nrow(sample_data)"
   ]
  },
  {
   "cell_type": "code",
   "execution_count": 100,
   "id": "0dc140d1-486f-47fa-91aa-4405a8171ccc",
   "metadata": {},
   "outputs": [],
   "source": [
    "model@samples_metadata = merge(model@samples_metadata, sample_data, by.x = 'sample', by.y = 'sample_id')"
   ]
  },
  {
   "cell_type": "code",
   "execution_count": 101,
   "id": "8343602b-757d-4fdf-b2cb-321bef7f41ed",
   "metadata": {},
   "outputs": [
    {
     "data": {
      "text/html": [
       "128"
      ],
      "text/latex": [
       "128"
      ],
      "text/markdown": [
       "128"
      ],
      "text/plain": [
       "[1] 128"
      ]
     },
     "metadata": {},
     "output_type": "display_data"
    }
   ],
   "source": [
    "nrow(model@samples_metadata)"
   ]
  },
  {
   "cell_type": "markdown",
   "id": "c0c3d7ac-3c1f-4ba0-b560-837c1f7a3abb",
   "metadata": {
    "tags": []
   },
   "source": [
    "## Investigate Variance decomposition"
   ]
  },
  {
   "cell_type": "code",
   "execution_count": 102,
   "id": "1f41cb1f-0a66-477f-b162-dd9f89046efa",
   "metadata": {
    "tags": []
   },
   "outputs": [],
   "source": [
    "# Total variance explained per view and group"
   ]
  },
  {
   "cell_type": "code",
   "execution_count": 103,
   "id": "90d29b84-1caa-4e40-b338-daa01687918e",
   "metadata": {},
   "outputs": [
    {
     "data": {
      "text/html": [
       "<strong>$group1</strong> = <style>\n",
       ".dl-inline {width: auto; margin:0; padding: 0}\n",
       ".dl-inline>dt, .dl-inline>dd {float: none; width: auto; display: inline-block}\n",
       ".dl-inline>dt::after {content: \":\\0020\"; padding-right: .5ex}\n",
       ".dl-inline>dt:not(:first-of-type) {padding-left: .5ex}\n",
       "</style><dl class=dl-inline><dt>cytokine</dt><dd>22.9465391730306</dd><dt>neutrophil</dt><dd>19.1657219123259</dd><dt>proteomics</dt><dd>13.748264065255</dd><dt>X0_TcellCD4</dt><dd>49.7575031267887</dd><dt>X1_TcellCD8</dt><dd>48.6524874133219</dd><dt>X10_Bcell</dt><dd>28.2331714152431</dd><dt>X11_TcellCD4</dt><dd>23.6592699619369</dd><dt>X12_MonocytesCD16_FCGR3A</dt><dd>34.1215816425059</dd><dt>X13_Dendritic</dt><dd>30.0948980788577</dd><dt>X2_TcellCD4</dt><dd>45.0392546603755</dd><dt>X3_NK</dt><dd>42.4035268080672</dd><dt>X4_MonocytesCD14</dt><dd>50.1594351804852</dd><dt>X5_TcellCD4</dt><dd>33.0567255633398</dd><dt>X6_MonocytesCD14</dt><dd>40.6681594147969</dd><dt>X7_MonocytesCD14</dt><dd>36.000734989808</dd><dt>X8_Bcell</dt><dd>32.8897815233178</dd><dt>X9_MonocytesCD16_FCGR3A</dt><dd>34.230220864757</dd></dl>\n"
      ],
      "text/latex": [
       "\\textbf{\\$group1} = \\begin{description*}\n",
       "\\item[cytokine] 22.9465391730306\n",
       "\\item[neutrophil] 19.1657219123259\n",
       "\\item[proteomics] 13.748264065255\n",
       "\\item[X0\\textbackslash{}\\_TcellCD4] 49.7575031267887\n",
       "\\item[X1\\textbackslash{}\\_TcellCD8] 48.6524874133219\n",
       "\\item[X10\\textbackslash{}\\_Bcell] 28.2331714152431\n",
       "\\item[X11\\textbackslash{}\\_TcellCD4] 23.6592699619369\n",
       "\\item[X12\\textbackslash{}\\_MonocytesCD16\\textbackslash{}\\_FCGR3A] 34.1215816425059\n",
       "\\item[X13\\textbackslash{}\\_Dendritic] 30.0948980788577\n",
       "\\item[X2\\textbackslash{}\\_TcellCD4] 45.0392546603755\n",
       "\\item[X3\\textbackslash{}\\_NK] 42.4035268080672\n",
       "\\item[X4\\textbackslash{}\\_MonocytesCD14] 50.1594351804852\n",
       "\\item[X5\\textbackslash{}\\_TcellCD4] 33.0567255633398\n",
       "\\item[X6\\textbackslash{}\\_MonocytesCD14] 40.6681594147969\n",
       "\\item[X7\\textbackslash{}\\_MonocytesCD14] 36.000734989808\n",
       "\\item[X8\\textbackslash{}\\_Bcell] 32.8897815233178\n",
       "\\item[X9\\textbackslash{}\\_MonocytesCD16\\textbackslash{}\\_FCGR3A] 34.230220864757\n",
       "\\end{description*}\n"
      ],
      "text/markdown": [
       "**$group1** = cytokine\n",
       ":   22.9465391730306neutrophil\n",
       ":   19.1657219123259proteomics\n",
       ":   13.748264065255X0_TcellCD4\n",
       ":   49.7575031267887X1_TcellCD8\n",
       ":   48.6524874133219X10_Bcell\n",
       ":   28.2331714152431X11_TcellCD4\n",
       ":   23.6592699619369X12_MonocytesCD16_FCGR3A\n",
       ":   34.1215816425059X13_Dendritic\n",
       ":   30.0948980788577X2_TcellCD4\n",
       ":   45.0392546603755X3_NK\n",
       ":   42.4035268080672X4_MonocytesCD14\n",
       ":   50.1594351804852X5_TcellCD4\n",
       ":   33.0567255633398X6_MonocytesCD14\n",
       ":   40.6681594147969X7_MonocytesCD14\n",
       ":   36.000734989808X8_Bcell\n",
       ":   32.8897815233178X9_MonocytesCD16_FCGR3A\n",
       ":   34.230220864757\n",
       "\n"
      ],
      "text/plain": [
       "$group1\n",
       "                cytokine               neutrophil               proteomics \n",
       "                22.94654                 19.16572                 13.74826 \n",
       "             X0_TcellCD4              X1_TcellCD8                X10_Bcell \n",
       "                49.75750                 48.65249                 28.23317 \n",
       "            X11_TcellCD4 X12_MonocytesCD16_FCGR3A            X13_Dendritic \n",
       "                23.65927                 34.12158                 30.09490 \n",
       "             X2_TcellCD4                    X3_NK         X4_MonocytesCD14 \n",
       "                45.03925                 42.40353                 50.15944 \n",
       "             X5_TcellCD4         X6_MonocytesCD14         X7_MonocytesCD14 \n",
       "                33.05673                 40.66816                 36.00073 \n",
       "                X8_Bcell  X9_MonocytesCD16_FCGR3A \n",
       "                32.88978                 34.23022 \n"
      ]
     },
     "metadata": {},
     "output_type": "display_data"
    }
   ],
   "source": [
    "model@cache[[\"variance_explained\"]]$r2_total"
   ]
  },
  {
   "cell_type": "code",
   "execution_count": 104,
   "id": "32ab522c-1814-4da1-9003-cba1352e5dfb",
   "metadata": {
    "tags": []
   },
   "outputs": [
    {
     "data": {
      "text/html": [
       "<style>\n",
       ".dl-inline {width: auto; margin:0; padding: 0}\n",
       ".dl-inline>dt, .dl-inline>dd {float: none; width: auto; display: inline-block}\n",
       ".dl-inline>dt::after {content: \":\\0020\"; padding-right: .5ex}\n",
       ".dl-inline>dt:not(:first-of-type) {padding-left: .5ex}\n",
       "</style><dl class=dl-inline><dt>Factor1</dt><dd>5.6614221527327</dd><dt>Factor2</dt><dd>4.43031846968708</dd><dt>Factor3</dt><dd>3.2453929120291</dd><dt>Factor4</dt><dd>2.46165629385964</dd><dt>Factor5</dt><dd>1.94254438703169</dd><dt>Factor6</dt><dd>1.69713876563801</dd><dt>Factor7</dt><dd>1.51057535166029</dd><dt>Factor8</dt><dd>1.49506782881065</dd><dt>Factor9</dt><dd>1.34798025798314</dd><dt>Factor10</dt><dd>1.22490537140863</dd><dt>Factor11</dt><dd>1.13484013732561</dd><dt>Factor12</dt><dd>1.11137696721374</dd><dt>Factor13</dt><dd>1.07465021615764</dd><dt>Factor14</dt><dd>1.04054634974777</dd><dt>Factor15</dt><dd>1.0228209571489</dd><dt>Factor16</dt><dd>1.00564948105783</dd><dt>Factor17</dt><dd>0.9598390074248</dd><dt>Factor18</dt><dd>0.884292938928016</dd><dt>Factor19</dt><dd>0.878753965706873</dd><dt>Factor20</dt><dd>0.674196316482914</dd></dl>\n"
      ],
      "text/latex": [
       "\\begin{description*}\n",
       "\\item[Factor1] 5.6614221527327\n",
       "\\item[Factor2] 4.43031846968708\n",
       "\\item[Factor3] 3.2453929120291\n",
       "\\item[Factor4] 2.46165629385964\n",
       "\\item[Factor5] 1.94254438703169\n",
       "\\item[Factor6] 1.69713876563801\n",
       "\\item[Factor7] 1.51057535166029\n",
       "\\item[Factor8] 1.49506782881065\n",
       "\\item[Factor9] 1.34798025798314\n",
       "\\item[Factor10] 1.22490537140863\n",
       "\\item[Factor11] 1.13484013732561\n",
       "\\item[Factor12] 1.11137696721374\n",
       "\\item[Factor13] 1.07465021615764\n",
       "\\item[Factor14] 1.04054634974777\n",
       "\\item[Factor15] 1.0228209571489\n",
       "\\item[Factor16] 1.00564948105783\n",
       "\\item[Factor17] 0.9598390074248\n",
       "\\item[Factor18] 0.884292938928016\n",
       "\\item[Factor19] 0.878753965706873\n",
       "\\item[Factor20] 0.674196316482914\n",
       "\\end{description*}\n"
      ],
      "text/markdown": [
       "Factor1\n",
       ":   5.6614221527327Factor2\n",
       ":   4.43031846968708Factor3\n",
       ":   3.2453929120291Factor4\n",
       ":   2.46165629385964Factor5\n",
       ":   1.94254438703169Factor6\n",
       ":   1.69713876563801Factor7\n",
       ":   1.51057535166029Factor8\n",
       ":   1.49506782881065Factor9\n",
       ":   1.34798025798314Factor10\n",
       ":   1.22490537140863Factor11\n",
       ":   1.13484013732561Factor12\n",
       ":   1.11137696721374Factor13\n",
       ":   1.07465021615764Factor14\n",
       ":   1.04054634974777Factor15\n",
       ":   1.0228209571489Factor16\n",
       ":   1.00564948105783Factor17\n",
       ":   0.9598390074248Factor18\n",
       ":   0.884292938928016Factor19\n",
       ":   0.878753965706873Factor20\n",
       ":   0.674196316482914\n",
       "\n"
      ],
      "text/plain": [
       "  Factor1   Factor2   Factor3   Factor4   Factor5   Factor6   Factor7   Factor8 \n",
       "5.6614222 4.4303185 3.2453929 2.4616563 1.9425444 1.6971388 1.5105754 1.4950678 \n",
       "  Factor9  Factor10  Factor11  Factor12  Factor13  Factor14  Factor15  Factor16 \n",
       "1.3479803 1.2249054 1.1348401 1.1113770 1.0746502 1.0405463 1.0228210 1.0056495 \n",
       " Factor17  Factor18  Factor19  Factor20 \n",
       "0.9598390 0.8842929 0.8787540 0.6741963 "
      ]
     },
     "metadata": {},
     "output_type": "display_data"
    }
   ],
   "source": [
    "rowMeans(model@cache$variance_explained$r2_per_factor[[1]])"
   ]
  },
  {
   "cell_type": "code",
   "execution_count": 105,
   "id": "e390c327-4c2d-478b-95f3-c317f279ab54",
   "metadata": {
    "tags": []
   },
   "outputs": [],
   "source": [
    "#model@cache[[\"variance_explained\"]]"
   ]
  },
  {
   "cell_type": "code",
   "execution_count": 106,
   "id": "318371a1-7466-4369-93ae-fbb18448966a",
   "metadata": {
    "tags": []
   },
   "outputs": [
    {
     "data": {
      "text/html": [
       "34.4016044584831"
      ],
      "text/latex": [
       "34.4016044584831"
      ],
      "text/markdown": [
       "34.4016044584831"
      ],
      "text/plain": [
       "[1] 34.4016"
      ]
     },
     "metadata": {},
     "output_type": "display_data"
    }
   ],
   "source": [
    "mean(model@cache$variance_explained$r2_total[[1]])"
   ]
  },
  {
   "cell_type": "code",
   "execution_count": 107,
   "id": "b288a392-8d8e-424d-87fb-8cc7b0e80e83",
   "metadata": {},
   "outputs": [
    {
     "data": {
      "text/html": [
       "34.803968128035"
      ],
      "text/latex": [
       "34.803968128035"
      ],
      "text/markdown": [
       "34.803968128035"
      ],
      "text/plain": [
       "[1] 34.80397"
      ]
     },
     "metadata": {},
     "output_type": "display_data"
    }
   ],
   "source": [
    "mean(colSums(model@cache$variance_explained$r2_per_factor[[1]]))"
   ]
  },
  {
   "cell_type": "code",
   "execution_count": 108,
   "id": "f4aa78ca-e09c-40ab-805e-8fed94f37fd7",
   "metadata": {},
   "outputs": [
    {
     "name": "stdout",
     "output_type": "stream",
     "text": [
      "List of 2\n",
      " $ r2_total     :List of 1\n",
      "  ..$ group1: num [1:17(1d)] 22.9 19.2 13.7 49.8 48.7 ...\n",
      "  .. ..- attr(*, \"dimnames\")=List of 1\n",
      "  .. .. ..$ : chr [1:17] \"cytokine\" \"neutrophil\" \"proteomics\" \"X0_TcellCD4\" ...\n",
      " $ r2_per_factor:List of 1\n",
      "  ..$ group1: num [1:20, 1:17] 0.212 2.869 1.855 3.066 1.507 ...\n",
      "  .. ..- attr(*, \"dimnames\")=List of 2\n",
      "  .. .. ..$ : chr [1:20] \"Factor1\" \"Factor2\" \"Factor3\" \"Factor4\" ...\n",
      "  .. .. ..$ : chr [1:17] \"cytokine\" \"neutrophil\" \"proteomics\" \"X0_TcellCD4\" ...\n"
     ]
    }
   ],
   "source": [
    "str(model@cache$variance_explained)"
   ]
  },
  {
   "cell_type": "code",
   "execution_count": 109,
   "id": "7acad01c-ef60-4727-8444-8b0c905ed78e",
   "metadata": {},
   "outputs": [
    {
     "data": {
      "text/html": [
       "<strong>$group1</strong> = <style>\n",
       ".dl-inline {width: auto; margin:0; padding: 0}\n",
       ".dl-inline>dt, .dl-inline>dd {float: none; width: auto; display: inline-block}\n",
       ".dl-inline>dt::after {content: \":\\0020\"; padding-right: .5ex}\n",
       ".dl-inline>dt:not(:first-of-type) {padding-left: .5ex}\n",
       "</style><dl class=dl-inline><dt>cytokine</dt><dd>22.9465391730306</dd><dt>neutrophil</dt><dd>19.1657219123259</dd><dt>proteomics</dt><dd>13.748264065255</dd><dt>X0_TcellCD4</dt><dd>49.7575031267887</dd><dt>X1_TcellCD8</dt><dd>48.6524874133219</dd><dt>X10_Bcell</dt><dd>28.2331714152431</dd><dt>X11_TcellCD4</dt><dd>23.6592699619369</dd><dt>X12_MonocytesCD16_FCGR3A</dt><dd>34.1215816425059</dd><dt>X13_Dendritic</dt><dd>30.0948980788577</dd><dt>X2_TcellCD4</dt><dd>45.0392546603755</dd><dt>X3_NK</dt><dd>42.4035268080672</dd><dt>X4_MonocytesCD14</dt><dd>50.1594351804852</dd><dt>X5_TcellCD4</dt><dd>33.0567255633398</dd><dt>X6_MonocytesCD14</dt><dd>40.6681594147969</dd><dt>X7_MonocytesCD14</dt><dd>36.000734989808</dd><dt>X8_Bcell</dt><dd>32.8897815233178</dd><dt>X9_MonocytesCD16_FCGR3A</dt><dd>34.230220864757</dd></dl>\n"
      ],
      "text/latex": [
       "\\textbf{\\$group1} = \\begin{description*}\n",
       "\\item[cytokine] 22.9465391730306\n",
       "\\item[neutrophil] 19.1657219123259\n",
       "\\item[proteomics] 13.748264065255\n",
       "\\item[X0\\textbackslash{}\\_TcellCD4] 49.7575031267887\n",
       "\\item[X1\\textbackslash{}\\_TcellCD8] 48.6524874133219\n",
       "\\item[X10\\textbackslash{}\\_Bcell] 28.2331714152431\n",
       "\\item[X11\\textbackslash{}\\_TcellCD4] 23.6592699619369\n",
       "\\item[X12\\textbackslash{}\\_MonocytesCD16\\textbackslash{}\\_FCGR3A] 34.1215816425059\n",
       "\\item[X13\\textbackslash{}\\_Dendritic] 30.0948980788577\n",
       "\\item[X2\\textbackslash{}\\_TcellCD4] 45.0392546603755\n",
       "\\item[X3\\textbackslash{}\\_NK] 42.4035268080672\n",
       "\\item[X4\\textbackslash{}\\_MonocytesCD14] 50.1594351804852\n",
       "\\item[X5\\textbackslash{}\\_TcellCD4] 33.0567255633398\n",
       "\\item[X6\\textbackslash{}\\_MonocytesCD14] 40.6681594147969\n",
       "\\item[X7\\textbackslash{}\\_MonocytesCD14] 36.000734989808\n",
       "\\item[X8\\textbackslash{}\\_Bcell] 32.8897815233178\n",
       "\\item[X9\\textbackslash{}\\_MonocytesCD16\\textbackslash{}\\_FCGR3A] 34.230220864757\n",
       "\\end{description*}\n"
      ],
      "text/markdown": [
       "**$group1** = cytokine\n",
       ":   22.9465391730306neutrophil\n",
       ":   19.1657219123259proteomics\n",
       ":   13.748264065255X0_TcellCD4\n",
       ":   49.7575031267887X1_TcellCD8\n",
       ":   48.6524874133219X10_Bcell\n",
       ":   28.2331714152431X11_TcellCD4\n",
       ":   23.6592699619369X12_MonocytesCD16_FCGR3A\n",
       ":   34.1215816425059X13_Dendritic\n",
       ":   30.0948980788577X2_TcellCD4\n",
       ":   45.0392546603755X3_NK\n",
       ":   42.4035268080672X4_MonocytesCD14\n",
       ":   50.1594351804852X5_TcellCD4\n",
       ":   33.0567255633398X6_MonocytesCD14\n",
       ":   40.6681594147969X7_MonocytesCD14\n",
       ":   36.000734989808X8_Bcell\n",
       ":   32.8897815233178X9_MonocytesCD16_FCGR3A\n",
       ":   34.230220864757\n",
       "\n"
      ],
      "text/plain": [
       "$group1\n",
       "                cytokine               neutrophil               proteomics \n",
       "                22.94654                 19.16572                 13.74826 \n",
       "             X0_TcellCD4              X1_TcellCD8                X10_Bcell \n",
       "                49.75750                 48.65249                 28.23317 \n",
       "            X11_TcellCD4 X12_MonocytesCD16_FCGR3A            X13_Dendritic \n",
       "                23.65927                 34.12158                 30.09490 \n",
       "             X2_TcellCD4                    X3_NK         X4_MonocytesCD14 \n",
       "                45.03925                 42.40353                 50.15944 \n",
       "             X5_TcellCD4         X6_MonocytesCD14         X7_MonocytesCD14 \n",
       "                33.05673                 40.66816                 36.00073 \n",
       "                X8_Bcell  X9_MonocytesCD16_FCGR3A \n",
       "                32.88978                 34.23022 \n"
      ]
     },
     "metadata": {},
     "output_type": "display_data"
    }
   ],
   "source": [
    "model@cache$variance_explained$r2_total"
   ]
  },
  {
   "cell_type": "code",
   "execution_count": 110,
   "id": "914333cf-860e-4e4d-a52c-3b1fab532ca5",
   "metadata": {
    "tags": []
   },
   "outputs": [
    {
     "data": {
      "text/html": [
       "<table class=\"dataframe\">\n",
       "<caption>A matrix: 20 × 17 of type dbl</caption>\n",
       "<thead>\n",
       "\t<tr><th></th><th scope=col>cytokine</th><th scope=col>neutrophil</th><th scope=col>proteomics</th><th scope=col>X0_TcellCD4</th><th scope=col>X1_TcellCD8</th><th scope=col>X10_Bcell</th><th scope=col>X11_TcellCD4</th><th scope=col>X12_MonocytesCD16_FCGR3A</th><th scope=col>X13_Dendritic</th><th scope=col>X2_TcellCD4</th><th scope=col>X3_NK</th><th scope=col>X4_MonocytesCD14</th><th scope=col>X5_TcellCD4</th><th scope=col>X6_MonocytesCD14</th><th scope=col>X7_MonocytesCD14</th><th scope=col>X8_Bcell</th><th scope=col>X9_MonocytesCD16_FCGR3A</th></tr>\n",
       "</thead>\n",
       "<tbody>\n",
       "\t<tr><th scope=row>Factor1</th><td>0.212337508</td><td> 0.16055721</td><td>0.27161188</td><td>12.70568836</td><td>12.67096809</td><td>4.24244556</td><td>3.30591904</td><td>4.6571144</td><td>5.7111733</td><td>10.76763432</td><td>8.8619589</td><td>8.3574945</td><td>5.36413772</td><td>5.4173317</td><td>4.1795384</td><td>4.97233450</td><td>4.3859313</td></tr>\n",
       "\t<tr><th scope=row>Factor2</th><td>2.868848385</td><td> 1.03842878</td><td>1.09206409</td><td> 8.16529325</td><td> 7.67762048</td><td>2.20430416</td><td>3.42533553</td><td>3.4123326</td><td>3.3129352</td><td> 6.32926145</td><td>6.2550288</td><td>6.6570454</td><td>5.19739268</td><td>5.5846717</td><td>5.8405450</td><td>2.99514063</td><td>3.2591659</td></tr>\n",
       "\t<tr><th scope=row>Factor3</th><td>1.855458014</td><td> 1.02518723</td><td>1.69907533</td><td> 5.75629561</td><td> 5.24110360</td><td>1.70747995</td><td>2.24051131</td><td>2.6514218</td><td>2.6272570</td><td> 4.48598478</td><td>5.5593816</td><td>4.8065737</td><td>3.73840946</td><td>3.4736858</td><td>2.7946108</td><td>2.95575397</td><td>2.5534894</td></tr>\n",
       "\t<tr><th scope=row>Factor4</th><td>3.066370051</td><td> 0.58067971</td><td>2.87497178</td><td> 3.51910569</td><td> 3.08601126</td><td>1.08648454</td><td>1.88525005</td><td>1.8618335</td><td>1.9733166</td><td> 3.18525360</td><td>3.8275778</td><td>2.8190010</td><td>3.12481881</td><td>2.8382969</td><td>2.7905310</td><td>1.73416494</td><td>1.5944899</td></tr>\n",
       "\t<tr><th scope=row>Factor5</th><td>1.507381127</td><td> 0.57419733</td><td>1.11956105</td><td> 3.39443781</td><td> 2.38801984</td><td>1.01324048</td><td>1.27734107</td><td>1.2836089</td><td>1.3684367</td><td> 3.85407492</td><td>1.9581077</td><td>2.7897713</td><td>2.46971794</td><td>2.6389627</td><td>2.7099782</td><td>1.34998572</td><td>1.3264318</td></tr>\n",
       "\t<tr><th scope=row>Factor6</th><td>0.995716786</td><td> 0.18338008</td><td>1.40204573</td><td> 3.85706860</td><td> 3.42831732</td><td>0.71107923</td><td>1.38808465</td><td>0.8528932</td><td>1.0463359</td><td> 3.51485346</td><td>2.3220235</td><td>1.8253731</td><td>2.70952974</td><td>0.9882788</td><td>0.8449644</td><td>1.93113091</td><td>0.8502836</td></tr>\n",
       "\t<tr><th scope=row>Factor7</th><td>0.797458915</td><td> 0.23930386</td><td>0.85011267</td><td> 0.51153506</td><td> 0.60394756</td><td>0.36850062</td><td>0.19305945</td><td>1.1183668</td><td>1.4198759</td><td> 1.48218559</td><td>0.4858917</td><td>6.6761865</td><td>0.35581255</td><td>5.0333435</td><td>4.1224715</td><td>0.68409476</td><td>0.7376339</td></tr>\n",
       "\t<tr><th scope=row>Factor8</th><td>0.943764605</td><td> 0.67985678</td><td>0.07625452</td><td> 2.87932265</td><td> 4.06171317</td><td>0.79756587</td><td>2.71304390</td><td>0.8001291</td><td>1.0985333</td><td> 2.12778229</td><td>1.5563684</td><td>1.5238925</td><td>2.15190856</td><td>1.3422513</td><td>1.2531434</td><td>0.91326369</td><td>0.4973592</td></tr>\n",
       "\t<tr><th scope=row>Factor9</th><td>0.919192942</td><td> 0.48242032</td><td>0.08542771</td><td> 0.06890216</td><td> 0.36460512</td><td>8.29998260</td><td>0.54002179</td><td>1.0268669</td><td>1.5599337</td><td> 0.02937140</td><td>0.3802624</td><td>0.7275675</td><td>0.02730339</td><td>1.4625110</td><td>1.0757183</td><td>4.35280640</td><td>1.5127706</td></tr>\n",
       "\t<tr><th scope=row>Factor10</th><td>0.613455379</td><td> 0.54383808</td><td>0.71049557</td><td> 1.64403651</td><td> 1.47478601</td><td>0.78932011</td><td>0.95171731</td><td>0.9359908</td><td>0.7060371</td><td> 1.68242770</td><td>1.7878132</td><td>2.6638877</td><td>1.41747116</td><td>1.0405443</td><td>1.5587750</td><td>1.32157703</td><td>0.9812183</td></tr>\n",
       "\t<tr><th scope=row>Factor11</th><td>0.005954313</td><td>10.69013485</td><td>0.17814846</td><td> 0.01711494</td><td> 0.01816920</td><td>0.22405475</td><td>0.02451815</td><td>1.2696242</td><td>1.3198855</td><td> 0.01834181</td><td>0.6278500</td><td>1.1853764</td><td>0.02595831</td><td>1.3900977</td><td>1.3016394</td><td>0.04282766</td><td>0.9525869</td></tr>\n",
       "\t<tr><th scope=row>Factor12</th><td>0.034086193</td><td> 0.46273871</td><td>0.08913424</td><td> 0.16234305</td><td> 0.55991850</td><td>1.23649500</td><td>0.59808974</td><td>8.4088385</td><td>1.1763714</td><td> 0.23547422</td><td>1.0091001</td><td>0.9822267</td><td>0.11500776</td><td>0.6303254</td><td>0.6283615</td><td>1.01732566</td><td>1.5475717</td></tr>\n",
       "\t<tr><th scope=row>Factor13</th><td>0.948284912</td><td> 0.15284744</td><td>0.94520840</td><td> 2.12975300</td><td> 0.99864733</td><td>2.66732361</td><td>1.02098910</td><td>0.5543248</td><td>0.1921298</td><td> 1.57721664</td><td>0.5139578</td><td>0.5844290</td><td>1.09167094</td><td>0.3129090</td><td>0.6689483</td><td>3.50177284</td><td>0.4086407</td></tr>\n",
       "\t<tr><th scope=row>Factor14</th><td>0.972883646</td><td> 0.77070684</td><td>0.57426596</td><td> 1.27458575</td><td> 0.74206935</td><td>0.43137689</td><td>0.83552875</td><td>1.0591882</td><td>1.6289621</td><td> 0.79484880</td><td>0.9668866</td><td>1.3819823</td><td>0.78985194</td><td>1.5562561</td><td>1.3853621</td><td>1.50149264</td><td>1.0230400</td></tr>\n",
       "\t<tr><th scope=row>Factor15</th><td>1.614185914</td><td> 0.45329534</td><td>0.37698575</td><td> 1.01483883</td><td> 1.12318036</td><td>0.38348611</td><td>0.64340126</td><td>0.8413154</td><td>0.8719599</td><td> 1.21723432</td><td>1.0337278</td><td>1.8722204</td><td>1.08438758</td><td>2.2283042</td><td>1.0564530</td><td>0.50694110</td><td>1.0660390</td></tr>\n",
       "\t<tr><th scope=row>Factor16</th><td>2.364150096</td><td> 0.11067145</td><td>0.10946095</td><td> 1.27957880</td><td> 1.68218944</td><td>0.46369409</td><td>1.08248539</td><td>0.4951111</td><td>1.6505543</td><td> 1.83754269</td><td>1.2612191</td><td>0.8045620</td><td>0.96862120</td><td>0.9147821</td><td>0.5542047</td><td>0.90895718</td><td>0.6082566</td></tr>\n",
       "\t<tr><th scope=row>Factor17</th><td>1.206780939</td><td> 0.46928818</td><td>0.15000305</td><td> 0.08902504</td><td> 0.09847316</td><td>0.03455872</td><td>0.13466744</td><td>0.8469785</td><td>0.5285150</td><td> 0.54355911</td><td>0.3658491</td><td>0.7533104</td><td>0.04680783</td><td>0.7573265</td><td>0.9720874</td><td>0.37182637</td><td>8.9482065</td></tr>\n",
       "\t<tr><th scope=row>Factor18</th><td>1.500205793</td><td> 0.19773103</td><td>0.23052821</td><td> 0.51476755</td><td> 1.01952249</td><td>1.04380470</td><td>1.02642449</td><td>0.7501817</td><td>0.9111111</td><td> 0.36820725</td><td>0.6327361</td><td>1.2117988</td><td>1.39334005</td><td>1.4598967</td><td>0.8101549</td><td>1.10490092</td><td>0.8576682</td></tr>\n",
       "\t<tr><th scope=row>Factor19</th><td>0.202241064</td><td> 0.57548389</td><td>0.60385499</td><td> 0.97493945</td><td> 1.33317524</td><td>0.34656221</td><td>0.31873866</td><td>0.5727736</td><td>0.3306931</td><td> 0.94921290</td><td>3.1507811</td><td>1.0558130</td><td>1.06475449</td><td>1.0447893</td><td>1.0450896</td><td>0.41973758</td><td>0.9501773</td></tr>\n",
       "\t<tr><th scope=row>Factor20</th><td>0.853479001</td><td> 0.06600062</td><td>0.61839966</td><td> 0.08692858</td><td> 0.42703651</td><td>0.44538435</td><td>0.15048931</td><td>1.1464935</td><td>1.0601178</td><td> 0.32324334</td><td>0.3035061</td><td>2.8925079</td><td>0.18054703</td><td>1.2515810</td><td>0.8349753</td><td>0.37698966</td><td>0.4436578</td></tr>\n",
       "</tbody>\n",
       "</table>\n"
      ],
      "text/latex": [
       "A matrix: 20 × 17 of type dbl\n",
       "\\begin{tabular}{r|lllllllllllllllll}\n",
       "  & cytokine & neutrophil & proteomics & X0\\_TcellCD4 & X1\\_TcellCD8 & X10\\_Bcell & X11\\_TcellCD4 & X12\\_MonocytesCD16\\_FCGR3A & X13\\_Dendritic & X2\\_TcellCD4 & X3\\_NK & X4\\_MonocytesCD14 & X5\\_TcellCD4 & X6\\_MonocytesCD14 & X7\\_MonocytesCD14 & X8\\_Bcell & X9\\_MonocytesCD16\\_FCGR3A\\\\\n",
       "\\hline\n",
       "\tFactor1 & 0.212337508 &  0.16055721 & 0.27161188 & 12.70568836 & 12.67096809 & 4.24244556 & 3.30591904 & 4.6571144 & 5.7111733 & 10.76763432 & 8.8619589 & 8.3574945 & 5.36413772 & 5.4173317 & 4.1795384 & 4.97233450 & 4.3859313\\\\\n",
       "\tFactor2 & 2.868848385 &  1.03842878 & 1.09206409 &  8.16529325 &  7.67762048 & 2.20430416 & 3.42533553 & 3.4123326 & 3.3129352 &  6.32926145 & 6.2550288 & 6.6570454 & 5.19739268 & 5.5846717 & 5.8405450 & 2.99514063 & 3.2591659\\\\\n",
       "\tFactor3 & 1.855458014 &  1.02518723 & 1.69907533 &  5.75629561 &  5.24110360 & 1.70747995 & 2.24051131 & 2.6514218 & 2.6272570 &  4.48598478 & 5.5593816 & 4.8065737 & 3.73840946 & 3.4736858 & 2.7946108 & 2.95575397 & 2.5534894\\\\\n",
       "\tFactor4 & 3.066370051 &  0.58067971 & 2.87497178 &  3.51910569 &  3.08601126 & 1.08648454 & 1.88525005 & 1.8618335 & 1.9733166 &  3.18525360 & 3.8275778 & 2.8190010 & 3.12481881 & 2.8382969 & 2.7905310 & 1.73416494 & 1.5944899\\\\\n",
       "\tFactor5 & 1.507381127 &  0.57419733 & 1.11956105 &  3.39443781 &  2.38801984 & 1.01324048 & 1.27734107 & 1.2836089 & 1.3684367 &  3.85407492 & 1.9581077 & 2.7897713 & 2.46971794 & 2.6389627 & 2.7099782 & 1.34998572 & 1.3264318\\\\\n",
       "\tFactor6 & 0.995716786 &  0.18338008 & 1.40204573 &  3.85706860 &  3.42831732 & 0.71107923 & 1.38808465 & 0.8528932 & 1.0463359 &  3.51485346 & 2.3220235 & 1.8253731 & 2.70952974 & 0.9882788 & 0.8449644 & 1.93113091 & 0.8502836\\\\\n",
       "\tFactor7 & 0.797458915 &  0.23930386 & 0.85011267 &  0.51153506 &  0.60394756 & 0.36850062 & 0.19305945 & 1.1183668 & 1.4198759 &  1.48218559 & 0.4858917 & 6.6761865 & 0.35581255 & 5.0333435 & 4.1224715 & 0.68409476 & 0.7376339\\\\\n",
       "\tFactor8 & 0.943764605 &  0.67985678 & 0.07625452 &  2.87932265 &  4.06171317 & 0.79756587 & 2.71304390 & 0.8001291 & 1.0985333 &  2.12778229 & 1.5563684 & 1.5238925 & 2.15190856 & 1.3422513 & 1.2531434 & 0.91326369 & 0.4973592\\\\\n",
       "\tFactor9 & 0.919192942 &  0.48242032 & 0.08542771 &  0.06890216 &  0.36460512 & 8.29998260 & 0.54002179 & 1.0268669 & 1.5599337 &  0.02937140 & 0.3802624 & 0.7275675 & 0.02730339 & 1.4625110 & 1.0757183 & 4.35280640 & 1.5127706\\\\\n",
       "\tFactor10 & 0.613455379 &  0.54383808 & 0.71049557 &  1.64403651 &  1.47478601 & 0.78932011 & 0.95171731 & 0.9359908 & 0.7060371 &  1.68242770 & 1.7878132 & 2.6638877 & 1.41747116 & 1.0405443 & 1.5587750 & 1.32157703 & 0.9812183\\\\\n",
       "\tFactor11 & 0.005954313 & 10.69013485 & 0.17814846 &  0.01711494 &  0.01816920 & 0.22405475 & 0.02451815 & 1.2696242 & 1.3198855 &  0.01834181 & 0.6278500 & 1.1853764 & 0.02595831 & 1.3900977 & 1.3016394 & 0.04282766 & 0.9525869\\\\\n",
       "\tFactor12 & 0.034086193 &  0.46273871 & 0.08913424 &  0.16234305 &  0.55991850 & 1.23649500 & 0.59808974 & 8.4088385 & 1.1763714 &  0.23547422 & 1.0091001 & 0.9822267 & 0.11500776 & 0.6303254 & 0.6283615 & 1.01732566 & 1.5475717\\\\\n",
       "\tFactor13 & 0.948284912 &  0.15284744 & 0.94520840 &  2.12975300 &  0.99864733 & 2.66732361 & 1.02098910 & 0.5543248 & 0.1921298 &  1.57721664 & 0.5139578 & 0.5844290 & 1.09167094 & 0.3129090 & 0.6689483 & 3.50177284 & 0.4086407\\\\\n",
       "\tFactor14 & 0.972883646 &  0.77070684 & 0.57426596 &  1.27458575 &  0.74206935 & 0.43137689 & 0.83552875 & 1.0591882 & 1.6289621 &  0.79484880 & 0.9668866 & 1.3819823 & 0.78985194 & 1.5562561 & 1.3853621 & 1.50149264 & 1.0230400\\\\\n",
       "\tFactor15 & 1.614185914 &  0.45329534 & 0.37698575 &  1.01483883 &  1.12318036 & 0.38348611 & 0.64340126 & 0.8413154 & 0.8719599 &  1.21723432 & 1.0337278 & 1.8722204 & 1.08438758 & 2.2283042 & 1.0564530 & 0.50694110 & 1.0660390\\\\\n",
       "\tFactor16 & 2.364150096 &  0.11067145 & 0.10946095 &  1.27957880 &  1.68218944 & 0.46369409 & 1.08248539 & 0.4951111 & 1.6505543 &  1.83754269 & 1.2612191 & 0.8045620 & 0.96862120 & 0.9147821 & 0.5542047 & 0.90895718 & 0.6082566\\\\\n",
       "\tFactor17 & 1.206780939 &  0.46928818 & 0.15000305 &  0.08902504 &  0.09847316 & 0.03455872 & 0.13466744 & 0.8469785 & 0.5285150 &  0.54355911 & 0.3658491 & 0.7533104 & 0.04680783 & 0.7573265 & 0.9720874 & 0.37182637 & 8.9482065\\\\\n",
       "\tFactor18 & 1.500205793 &  0.19773103 & 0.23052821 &  0.51476755 &  1.01952249 & 1.04380470 & 1.02642449 & 0.7501817 & 0.9111111 &  0.36820725 & 0.6327361 & 1.2117988 & 1.39334005 & 1.4598967 & 0.8101549 & 1.10490092 & 0.8576682\\\\\n",
       "\tFactor19 & 0.202241064 &  0.57548389 & 0.60385499 &  0.97493945 &  1.33317524 & 0.34656221 & 0.31873866 & 0.5727736 & 0.3306931 &  0.94921290 & 3.1507811 & 1.0558130 & 1.06475449 & 1.0447893 & 1.0450896 & 0.41973758 & 0.9501773\\\\\n",
       "\tFactor20 & 0.853479001 &  0.06600062 & 0.61839966 &  0.08692858 &  0.42703651 & 0.44538435 & 0.15048931 & 1.1464935 & 1.0601178 &  0.32324334 & 0.3035061 & 2.8925079 & 0.18054703 & 1.2515810 & 0.8349753 & 0.37698966 & 0.4436578\\\\\n",
       "\\end{tabular}\n"
      ],
      "text/markdown": [
       "\n",
       "A matrix: 20 × 17 of type dbl\n",
       "\n",
       "| <!--/--> | cytokine | neutrophil | proteomics | X0_TcellCD4 | X1_TcellCD8 | X10_Bcell | X11_TcellCD4 | X12_MonocytesCD16_FCGR3A | X13_Dendritic | X2_TcellCD4 | X3_NK | X4_MonocytesCD14 | X5_TcellCD4 | X6_MonocytesCD14 | X7_MonocytesCD14 | X8_Bcell | X9_MonocytesCD16_FCGR3A |\n",
       "|---|---|---|---|---|---|---|---|---|---|---|---|---|---|---|---|---|---|\n",
       "| Factor1 | 0.212337508 |  0.16055721 | 0.27161188 | 12.70568836 | 12.67096809 | 4.24244556 | 3.30591904 | 4.6571144 | 5.7111733 | 10.76763432 | 8.8619589 | 8.3574945 | 5.36413772 | 5.4173317 | 4.1795384 | 4.97233450 | 4.3859313 |\n",
       "| Factor2 | 2.868848385 |  1.03842878 | 1.09206409 |  8.16529325 |  7.67762048 | 2.20430416 | 3.42533553 | 3.4123326 | 3.3129352 |  6.32926145 | 6.2550288 | 6.6570454 | 5.19739268 | 5.5846717 | 5.8405450 | 2.99514063 | 3.2591659 |\n",
       "| Factor3 | 1.855458014 |  1.02518723 | 1.69907533 |  5.75629561 |  5.24110360 | 1.70747995 | 2.24051131 | 2.6514218 | 2.6272570 |  4.48598478 | 5.5593816 | 4.8065737 | 3.73840946 | 3.4736858 | 2.7946108 | 2.95575397 | 2.5534894 |\n",
       "| Factor4 | 3.066370051 |  0.58067971 | 2.87497178 |  3.51910569 |  3.08601126 | 1.08648454 | 1.88525005 | 1.8618335 | 1.9733166 |  3.18525360 | 3.8275778 | 2.8190010 | 3.12481881 | 2.8382969 | 2.7905310 | 1.73416494 | 1.5944899 |\n",
       "| Factor5 | 1.507381127 |  0.57419733 | 1.11956105 |  3.39443781 |  2.38801984 | 1.01324048 | 1.27734107 | 1.2836089 | 1.3684367 |  3.85407492 | 1.9581077 | 2.7897713 | 2.46971794 | 2.6389627 | 2.7099782 | 1.34998572 | 1.3264318 |\n",
       "| Factor6 | 0.995716786 |  0.18338008 | 1.40204573 |  3.85706860 |  3.42831732 | 0.71107923 | 1.38808465 | 0.8528932 | 1.0463359 |  3.51485346 | 2.3220235 | 1.8253731 | 2.70952974 | 0.9882788 | 0.8449644 | 1.93113091 | 0.8502836 |\n",
       "| Factor7 | 0.797458915 |  0.23930386 | 0.85011267 |  0.51153506 |  0.60394756 | 0.36850062 | 0.19305945 | 1.1183668 | 1.4198759 |  1.48218559 | 0.4858917 | 6.6761865 | 0.35581255 | 5.0333435 | 4.1224715 | 0.68409476 | 0.7376339 |\n",
       "| Factor8 | 0.943764605 |  0.67985678 | 0.07625452 |  2.87932265 |  4.06171317 | 0.79756587 | 2.71304390 | 0.8001291 | 1.0985333 |  2.12778229 | 1.5563684 | 1.5238925 | 2.15190856 | 1.3422513 | 1.2531434 | 0.91326369 | 0.4973592 |\n",
       "| Factor9 | 0.919192942 |  0.48242032 | 0.08542771 |  0.06890216 |  0.36460512 | 8.29998260 | 0.54002179 | 1.0268669 | 1.5599337 |  0.02937140 | 0.3802624 | 0.7275675 | 0.02730339 | 1.4625110 | 1.0757183 | 4.35280640 | 1.5127706 |\n",
       "| Factor10 | 0.613455379 |  0.54383808 | 0.71049557 |  1.64403651 |  1.47478601 | 0.78932011 | 0.95171731 | 0.9359908 | 0.7060371 |  1.68242770 | 1.7878132 | 2.6638877 | 1.41747116 | 1.0405443 | 1.5587750 | 1.32157703 | 0.9812183 |\n",
       "| Factor11 | 0.005954313 | 10.69013485 | 0.17814846 |  0.01711494 |  0.01816920 | 0.22405475 | 0.02451815 | 1.2696242 | 1.3198855 |  0.01834181 | 0.6278500 | 1.1853764 | 0.02595831 | 1.3900977 | 1.3016394 | 0.04282766 | 0.9525869 |\n",
       "| Factor12 | 0.034086193 |  0.46273871 | 0.08913424 |  0.16234305 |  0.55991850 | 1.23649500 | 0.59808974 | 8.4088385 | 1.1763714 |  0.23547422 | 1.0091001 | 0.9822267 | 0.11500776 | 0.6303254 | 0.6283615 | 1.01732566 | 1.5475717 |\n",
       "| Factor13 | 0.948284912 |  0.15284744 | 0.94520840 |  2.12975300 |  0.99864733 | 2.66732361 | 1.02098910 | 0.5543248 | 0.1921298 |  1.57721664 | 0.5139578 | 0.5844290 | 1.09167094 | 0.3129090 | 0.6689483 | 3.50177284 | 0.4086407 |\n",
       "| Factor14 | 0.972883646 |  0.77070684 | 0.57426596 |  1.27458575 |  0.74206935 | 0.43137689 | 0.83552875 | 1.0591882 | 1.6289621 |  0.79484880 | 0.9668866 | 1.3819823 | 0.78985194 | 1.5562561 | 1.3853621 | 1.50149264 | 1.0230400 |\n",
       "| Factor15 | 1.614185914 |  0.45329534 | 0.37698575 |  1.01483883 |  1.12318036 | 0.38348611 | 0.64340126 | 0.8413154 | 0.8719599 |  1.21723432 | 1.0337278 | 1.8722204 | 1.08438758 | 2.2283042 | 1.0564530 | 0.50694110 | 1.0660390 |\n",
       "| Factor16 | 2.364150096 |  0.11067145 | 0.10946095 |  1.27957880 |  1.68218944 | 0.46369409 | 1.08248539 | 0.4951111 | 1.6505543 |  1.83754269 | 1.2612191 | 0.8045620 | 0.96862120 | 0.9147821 | 0.5542047 | 0.90895718 | 0.6082566 |\n",
       "| Factor17 | 1.206780939 |  0.46928818 | 0.15000305 |  0.08902504 |  0.09847316 | 0.03455872 | 0.13466744 | 0.8469785 | 0.5285150 |  0.54355911 | 0.3658491 | 0.7533104 | 0.04680783 | 0.7573265 | 0.9720874 | 0.37182637 | 8.9482065 |\n",
       "| Factor18 | 1.500205793 |  0.19773103 | 0.23052821 |  0.51476755 |  1.01952249 | 1.04380470 | 1.02642449 | 0.7501817 | 0.9111111 |  0.36820725 | 0.6327361 | 1.2117988 | 1.39334005 | 1.4598967 | 0.8101549 | 1.10490092 | 0.8576682 |\n",
       "| Factor19 | 0.202241064 |  0.57548389 | 0.60385499 |  0.97493945 |  1.33317524 | 0.34656221 | 0.31873866 | 0.5727736 | 0.3306931 |  0.94921290 | 3.1507811 | 1.0558130 | 1.06475449 | 1.0447893 | 1.0450896 | 0.41973758 | 0.9501773 |\n",
       "| Factor20 | 0.853479001 |  0.06600062 | 0.61839966 |  0.08692858 |  0.42703651 | 0.44538435 | 0.15048931 | 1.1464935 | 1.0601178 |  0.32324334 | 0.3035061 | 2.8925079 | 0.18054703 | 1.2515810 | 0.8349753 | 0.37698966 | 0.4436578 |\n",
       "\n"
      ],
      "text/plain": [
       "         cytokine    neutrophil  proteomics X0_TcellCD4 X1_TcellCD8 X10_Bcell \n",
       "Factor1  0.212337508  0.16055721 0.27161188 12.70568836 12.67096809 4.24244556\n",
       "Factor2  2.868848385  1.03842878 1.09206409  8.16529325  7.67762048 2.20430416\n",
       "Factor3  1.855458014  1.02518723 1.69907533  5.75629561  5.24110360 1.70747995\n",
       "Factor4  3.066370051  0.58067971 2.87497178  3.51910569  3.08601126 1.08648454\n",
       "Factor5  1.507381127  0.57419733 1.11956105  3.39443781  2.38801984 1.01324048\n",
       "Factor6  0.995716786  0.18338008 1.40204573  3.85706860  3.42831732 0.71107923\n",
       "Factor7  0.797458915  0.23930386 0.85011267  0.51153506  0.60394756 0.36850062\n",
       "Factor8  0.943764605  0.67985678 0.07625452  2.87932265  4.06171317 0.79756587\n",
       "Factor9  0.919192942  0.48242032 0.08542771  0.06890216  0.36460512 8.29998260\n",
       "Factor10 0.613455379  0.54383808 0.71049557  1.64403651  1.47478601 0.78932011\n",
       "Factor11 0.005954313 10.69013485 0.17814846  0.01711494  0.01816920 0.22405475\n",
       "Factor12 0.034086193  0.46273871 0.08913424  0.16234305  0.55991850 1.23649500\n",
       "Factor13 0.948284912  0.15284744 0.94520840  2.12975300  0.99864733 2.66732361\n",
       "Factor14 0.972883646  0.77070684 0.57426596  1.27458575  0.74206935 0.43137689\n",
       "Factor15 1.614185914  0.45329534 0.37698575  1.01483883  1.12318036 0.38348611\n",
       "Factor16 2.364150096  0.11067145 0.10946095  1.27957880  1.68218944 0.46369409\n",
       "Factor17 1.206780939  0.46928818 0.15000305  0.08902504  0.09847316 0.03455872\n",
       "Factor18 1.500205793  0.19773103 0.23052821  0.51476755  1.01952249 1.04380470\n",
       "Factor19 0.202241064  0.57548389 0.60385499  0.97493945  1.33317524 0.34656221\n",
       "Factor20 0.853479001  0.06600062 0.61839966  0.08692858  0.42703651 0.44538435\n",
       "         X11_TcellCD4 X12_MonocytesCD16_FCGR3A X13_Dendritic X2_TcellCD4\n",
       "Factor1  3.30591904   4.6571144                5.7111733     10.76763432\n",
       "Factor2  3.42533553   3.4123326                3.3129352      6.32926145\n",
       "Factor3  2.24051131   2.6514218                2.6272570      4.48598478\n",
       "Factor4  1.88525005   1.8618335                1.9733166      3.18525360\n",
       "Factor5  1.27734107   1.2836089                1.3684367      3.85407492\n",
       "Factor6  1.38808465   0.8528932                1.0463359      3.51485346\n",
       "Factor7  0.19305945   1.1183668                1.4198759      1.48218559\n",
       "Factor8  2.71304390   0.8001291                1.0985333      2.12778229\n",
       "Factor9  0.54002179   1.0268669                1.5599337      0.02937140\n",
       "Factor10 0.95171731   0.9359908                0.7060371      1.68242770\n",
       "Factor11 0.02451815   1.2696242                1.3198855      0.01834181\n",
       "Factor12 0.59808974   8.4088385                1.1763714      0.23547422\n",
       "Factor13 1.02098910   0.5543248                0.1921298      1.57721664\n",
       "Factor14 0.83552875   1.0591882                1.6289621      0.79484880\n",
       "Factor15 0.64340126   0.8413154                0.8719599      1.21723432\n",
       "Factor16 1.08248539   0.4951111                1.6505543      1.83754269\n",
       "Factor17 0.13466744   0.8469785                0.5285150      0.54355911\n",
       "Factor18 1.02642449   0.7501817                0.9111111      0.36820725\n",
       "Factor19 0.31873866   0.5727736                0.3306931      0.94921290\n",
       "Factor20 0.15048931   1.1464935                1.0601178      0.32324334\n",
       "         X3_NK     X4_MonocytesCD14 X5_TcellCD4 X6_MonocytesCD14\n",
       "Factor1  8.8619589 8.3574945        5.36413772  5.4173317       \n",
       "Factor2  6.2550288 6.6570454        5.19739268  5.5846717       \n",
       "Factor3  5.5593816 4.8065737        3.73840946  3.4736858       \n",
       "Factor4  3.8275778 2.8190010        3.12481881  2.8382969       \n",
       "Factor5  1.9581077 2.7897713        2.46971794  2.6389627       \n",
       "Factor6  2.3220235 1.8253731        2.70952974  0.9882788       \n",
       "Factor7  0.4858917 6.6761865        0.35581255  5.0333435       \n",
       "Factor8  1.5563684 1.5238925        2.15190856  1.3422513       \n",
       "Factor9  0.3802624 0.7275675        0.02730339  1.4625110       \n",
       "Factor10 1.7878132 2.6638877        1.41747116  1.0405443       \n",
       "Factor11 0.6278500 1.1853764        0.02595831  1.3900977       \n",
       "Factor12 1.0091001 0.9822267        0.11500776  0.6303254       \n",
       "Factor13 0.5139578 0.5844290        1.09167094  0.3129090       \n",
       "Factor14 0.9668866 1.3819823        0.78985194  1.5562561       \n",
       "Factor15 1.0337278 1.8722204        1.08438758  2.2283042       \n",
       "Factor16 1.2612191 0.8045620        0.96862120  0.9147821       \n",
       "Factor17 0.3658491 0.7533104        0.04680783  0.7573265       \n",
       "Factor18 0.6327361 1.2117988        1.39334005  1.4598967       \n",
       "Factor19 3.1507811 1.0558130        1.06475449  1.0447893       \n",
       "Factor20 0.3035061 2.8925079        0.18054703  1.2515810       \n",
       "         X7_MonocytesCD14 X8_Bcell   X9_MonocytesCD16_FCGR3A\n",
       "Factor1  4.1795384        4.97233450 4.3859313              \n",
       "Factor2  5.8405450        2.99514063 3.2591659              \n",
       "Factor3  2.7946108        2.95575397 2.5534894              \n",
       "Factor4  2.7905310        1.73416494 1.5944899              \n",
       "Factor5  2.7099782        1.34998572 1.3264318              \n",
       "Factor6  0.8449644        1.93113091 0.8502836              \n",
       "Factor7  4.1224715        0.68409476 0.7376339              \n",
       "Factor8  1.2531434        0.91326369 0.4973592              \n",
       "Factor9  1.0757183        4.35280640 1.5127706              \n",
       "Factor10 1.5587750        1.32157703 0.9812183              \n",
       "Factor11 1.3016394        0.04282766 0.9525869              \n",
       "Factor12 0.6283615        1.01732566 1.5475717              \n",
       "Factor13 0.6689483        3.50177284 0.4086407              \n",
       "Factor14 1.3853621        1.50149264 1.0230400              \n",
       "Factor15 1.0564530        0.50694110 1.0660390              \n",
       "Factor16 0.5542047        0.90895718 0.6082566              \n",
       "Factor17 0.9720874        0.37182637 8.9482065              \n",
       "Factor18 0.8101549        1.10490092 0.8576682              \n",
       "Factor19 1.0450896        0.41973758 0.9501773              \n",
       "Factor20 0.8349753        0.37698966 0.4436578              "
      ]
     },
     "metadata": {},
     "output_type": "display_data"
    }
   ],
   "source": [
    "# Variance explained for every factor in per view and group\n",
    "model@cache$variance_explained$r2_per_factor[[1]] # group 1, can be summarized per column but not per Factor"
   ]
  },
  {
   "cell_type": "code",
   "execution_count": 111,
   "id": "bd4a077f-15b7-4edb-9d53-f9d0cf4edeb4",
   "metadata": {},
   "outputs": [],
   "source": [
    "### Save the variance decompositoin (Potentially as supplementary Table)"
   ]
  },
  {
   "cell_type": "code",
   "execution_count": 112,
   "id": "39ef4f23-fd58-48fc-8e70-f678c4c69169",
   "metadata": {},
   "outputs": [],
   "source": [
    "variant = '_'"
   ]
  },
  {
   "cell_type": "code",
   "execution_count": 113,
   "id": "7fb26918-150c-4a5e-8517-71b5a59bffac",
   "metadata": {},
   "outputs": [],
   "source": [
    "write.csv(model@cache$variance_explained$r2_per_factor[[1]], paste0(result_path, '/E-Analysis/MOFA_Variance_Decomposition_w_o_clinical',name, variant, train_opts$weight_views, '.csv'))"
   ]
  },
  {
   "cell_type": "markdown",
   "id": "52ab1ab6-98fc-4b63-9971-67c781b98e11",
   "metadata": {
    "tags": []
   },
   "source": [
    "# Extract and prepare data for plots"
   ]
  },
  {
   "cell_type": "markdown",
   "id": "2cba252d-5de2-4322-9d06-a09cb8326ed4",
   "metadata": {
    "tags": []
   },
   "source": [
    "## Adjust sample data columns"
   ]
  },
  {
   "cell_type": "code",
   "execution_count": 114,
   "id": "66ab4bc2-5d2e-48d3-896c-e1af46bc9b61",
   "metadata": {},
   "outputs": [],
   "source": [
    "sample_data$class = sample_data$group"
   ]
  },
  {
   "cell_type": "code",
   "execution_count": 115,
   "id": "1575bb6a-0fa3-4753-8d35-ada309d94114",
   "metadata": {},
   "outputs": [],
   "source": [
    "sample_data$measurement2 = sample_data$measurement"
   ]
  },
  {
   "cell_type": "code",
   "execution_count": 116,
   "id": "901cf041-92b4-4fc0-8ed0-d6d5b5668d37",
   "metadata": {},
   "outputs": [],
   "source": [
    "sample_data$measurement2[sample_data$class %in% c('no_ccs', 'ccs')] = paste0(sample_data$measurement[sample_data$class %in% c('no_ccs', 'ccs')] , '_', sample_data$class[sample_data$class %in% c('no_ccs', 'ccs')])"
   ]
  },
  {
   "cell_type": "code",
   "execution_count": 117,
   "id": "b8e10e51-5055-4bd7-b88e-16eb7d59c7a2",
   "metadata": {},
   "outputs": [],
   "source": [
    "sample_data$measurement_class =  paste0(sample_data$measurement , '_', sample_data$classification)"
   ]
  },
  {
   "cell_type": "code",
   "execution_count": 118,
   "id": "830fd5e6-2d0e-48af-ab63-b4fc77d9f555",
   "metadata": {},
   "outputs": [
    {
     "data": {
      "text/html": [
       "<style>\n",
       ".list-inline {list-style: none; margin:0; padding: 0}\n",
       ".list-inline>li {display: inline-block}\n",
       ".list-inline>li:not(:last-child)::after {content: \"\\00b7\"; padding: 0 .5ex}\n",
       "</style>\n",
       "<ol class=list-inline><li>'TP0_no_ccs'</li><li>'TP0_ccs'</li><li>'TP1'</li><li>'TP2'</li><li>'TP3'</li><li>'TP4'</li></ol>\n"
      ],
      "text/latex": [
       "\\begin{enumerate*}\n",
       "\\item 'TP0\\_no\\_ccs'\n",
       "\\item 'TP0\\_ccs'\n",
       "\\item 'TP1'\n",
       "\\item 'TP2'\n",
       "\\item 'TP3'\n",
       "\\item 'TP4'\n",
       "\\end{enumerate*}\n"
      ],
      "text/markdown": [
       "1. 'TP0_no_ccs'\n",
       "2. 'TP0_ccs'\n",
       "3. 'TP1'\n",
       "4. 'TP2'\n",
       "5. 'TP3'\n",
       "6. 'TP4'\n",
       "\n",
       "\n"
      ],
      "text/plain": [
       "[1] \"TP0_no_ccs\" \"TP0_ccs\"    \"TP1\"        \"TP2\"        \"TP3\"       \n",
       "[6] \"TP4\"       "
      ]
     },
     "metadata": {},
     "output_type": "display_data"
    }
   ],
   "source": [
    "unique(sample_data$measurement2)"
   ]
  },
  {
   "cell_type": "code",
   "execution_count": 119,
   "id": "3a952ede-0745-4a01-9cb5-97ad31799be6",
   "metadata": {},
   "outputs": [
    {
     "data": {
      "text/html": [
       "<style>\n",
       ".list-inline {list-style: none; margin:0; padding: 0}\n",
       ".list-inline>li {display: inline-block}\n",
       ".list-inline>li:not(:last-child)::after {content: \"\\00b7\"; padding: 0 .5ex}\n",
       "</style>\n",
       "<ol class=list-inline><li>'TP0_vollstaendiger_ausschluss'</li><li>'TP0_ccs'</li><li>'TP0_koronarsklerose'</li><li>'TP1_acs_subacute'</li><li>'TP2_acs_subacute'</li><li>'TP3_acs_subacute'</li><li>'TP4_acs_subacute'</li><li>'TP1_acs_w_infection'</li><li>'TP2_acs_w_infection'</li><li>'TP3_acs_w_infection'</li><li>'TP4_acs_w_infection'</li><li>'TP1_acs_w_o_infection'</li><li>'TP2_acs_w_o_infection'</li><li>'TP3_acs_w_o_infection'</li><li>'TP4_acs_w_o_infection'</li></ol>\n"
      ],
      "text/latex": [
       "\\begin{enumerate*}\n",
       "\\item 'TP0\\_vollstaendiger\\_ausschluss'\n",
       "\\item 'TP0\\_ccs'\n",
       "\\item 'TP0\\_koronarsklerose'\n",
       "\\item 'TP1\\_acs\\_subacute'\n",
       "\\item 'TP2\\_acs\\_subacute'\n",
       "\\item 'TP3\\_acs\\_subacute'\n",
       "\\item 'TP4\\_acs\\_subacute'\n",
       "\\item 'TP1\\_acs\\_w\\_infection'\n",
       "\\item 'TP2\\_acs\\_w\\_infection'\n",
       "\\item 'TP3\\_acs\\_w\\_infection'\n",
       "\\item 'TP4\\_acs\\_w\\_infection'\n",
       "\\item 'TP1\\_acs\\_w\\_o\\_infection'\n",
       "\\item 'TP2\\_acs\\_w\\_o\\_infection'\n",
       "\\item 'TP3\\_acs\\_w\\_o\\_infection'\n",
       "\\item 'TP4\\_acs\\_w\\_o\\_infection'\n",
       "\\end{enumerate*}\n"
      ],
      "text/markdown": [
       "1. 'TP0_vollstaendiger_ausschluss'\n",
       "2. 'TP0_ccs'\n",
       "3. 'TP0_koronarsklerose'\n",
       "4. 'TP1_acs_subacute'\n",
       "5. 'TP2_acs_subacute'\n",
       "6. 'TP3_acs_subacute'\n",
       "7. 'TP4_acs_subacute'\n",
       "8. 'TP1_acs_w_infection'\n",
       "9. 'TP2_acs_w_infection'\n",
       "10. 'TP3_acs_w_infection'\n",
       "11. 'TP4_acs_w_infection'\n",
       "12. 'TP1_acs_w_o_infection'\n",
       "13. 'TP2_acs_w_o_infection'\n",
       "14. 'TP3_acs_w_o_infection'\n",
       "15. 'TP4_acs_w_o_infection'\n",
       "\n",
       "\n"
      ],
      "text/plain": [
       " [1] \"TP0_vollstaendiger_ausschluss\" \"TP0_ccs\"                      \n",
       " [3] \"TP0_koronarsklerose\"           \"TP1_acs_subacute\"             \n",
       " [5] \"TP2_acs_subacute\"              \"TP3_acs_subacute\"             \n",
       " [7] \"TP4_acs_subacute\"              \"TP1_acs_w_infection\"          \n",
       " [9] \"TP2_acs_w_infection\"           \"TP3_acs_w_infection\"          \n",
       "[11] \"TP4_acs_w_infection\"           \"TP1_acs_w_o_infection\"        \n",
       "[13] \"TP2_acs_w_o_infection\"         \"TP3_acs_w_o_infection\"        \n",
       "[15] \"TP4_acs_w_o_infection\"        "
      ]
     },
     "metadata": {},
     "output_type": "display_data"
    }
   ],
   "source": [
    "unique(sample_data$measurement_class)"
   ]
  },
  {
   "cell_type": "code",
   "execution_count": 120,
   "id": "c18a51a1-9c9b-4aec-b78e-0152bafb7546",
   "metadata": {},
   "outputs": [],
   "source": [
    "# Summarize good and intermediate outcome    \n",
    "sample_data$delta_ef_value_class_summarized = sample_data$delta_ef_value_class\n",
    "sample_data$delta_ef_value_class_summarized[sample_data$delta_ef_value_class %in% c('intermediate')] = 'good'"
   ]
  },
  {
   "cell_type": "code",
   "execution_count": 121,
   "id": "72b872f0-d874-463c-83b7-134bae1f709c",
   "metadata": {},
   "outputs": [
    {
     "data": {
      "text/html": [
       "<style>\n",
       ".list-inline {list-style: none; margin:0; padding: 0}\n",
       ".list-inline>li {display: inline-block}\n",
       ".list-inline>li:not(:last-child)::after {content: \"\\00b7\"; padding: 0 .5ex}\n",
       "</style>\n",
       "<ol class=list-inline><li>NA</li><li>'bad'</li><li>'good'</li></ol>\n"
      ],
      "text/latex": [
       "\\begin{enumerate*}\n",
       "\\item NA\n",
       "\\item 'bad'\n",
       "\\item 'good'\n",
       "\\end{enumerate*}\n"
      ],
      "text/markdown": [
       "1. NA\n",
       "2. 'bad'\n",
       "3. 'good'\n",
       "\n",
       "\n"
      ],
      "text/plain": [
       "[1] NA     \"bad\"  \"good\""
      ]
     },
     "metadata": {},
     "output_type": "display_data"
    }
   ],
   "source": [
    "unique(sample_data$delta_ef_value_class_summarized)"
   ]
  },
  {
   "cell_type": "code",
   "execution_count": 122,
   "id": "2d739f74-731c-425c-bb3f-7c506abab006",
   "metadata": {},
   "outputs": [],
   "source": [
    "## Concatenate outcome with class"
   ]
  },
  {
   "cell_type": "code",
   "execution_count": 123,
   "id": "b9c5e7ec-caf9-4175-9351-d6a7d48961cc",
   "metadata": {},
   "outputs": [],
   "source": [
    "sample_data$tp_outcome = paste0(sample_data$measurement, '_', sample_data$delta_ef_value_class_summarized)"
   ]
  },
  {
   "cell_type": "code",
   "execution_count": 124,
   "id": "018a68c1-0721-4d33-accf-f8df1055801b",
   "metadata": {},
   "outputs": [
    {
     "data": {
      "text/html": [
       "<style>\n",
       ".list-inline {list-style: none; margin:0; padding: 0}\n",
       ".list-inline>li {display: inline-block}\n",
       ".list-inline>li:not(:last-child)::after {content: \"\\00b7\"; padding: 0 .5ex}\n",
       "</style>\n",
       "<ol class=list-inline><li>'TP0_NA'</li><li>'TP1_NA'</li><li>'TP2_NA'</li><li>'TP3_NA'</li><li>'TP4_NA'</li><li>'TP1_bad'</li><li>'TP2_bad'</li><li>'TP3_bad'</li><li>'TP4_bad'</li><li>'TP1_good'</li><li>'TP2_good'</li><li>'TP3_good'</li><li>'TP4_good'</li></ol>\n"
      ],
      "text/latex": [
       "\\begin{enumerate*}\n",
       "\\item 'TP0\\_NA'\n",
       "\\item 'TP1\\_NA'\n",
       "\\item 'TP2\\_NA'\n",
       "\\item 'TP3\\_NA'\n",
       "\\item 'TP4\\_NA'\n",
       "\\item 'TP1\\_bad'\n",
       "\\item 'TP2\\_bad'\n",
       "\\item 'TP3\\_bad'\n",
       "\\item 'TP4\\_bad'\n",
       "\\item 'TP1\\_good'\n",
       "\\item 'TP2\\_good'\n",
       "\\item 'TP3\\_good'\n",
       "\\item 'TP4\\_good'\n",
       "\\end{enumerate*}\n"
      ],
      "text/markdown": [
       "1. 'TP0_NA'\n",
       "2. 'TP1_NA'\n",
       "3. 'TP2_NA'\n",
       "4. 'TP3_NA'\n",
       "5. 'TP4_NA'\n",
       "6. 'TP1_bad'\n",
       "7. 'TP2_bad'\n",
       "8. 'TP3_bad'\n",
       "9. 'TP4_bad'\n",
       "10. 'TP1_good'\n",
       "11. 'TP2_good'\n",
       "12. 'TP3_good'\n",
       "13. 'TP4_good'\n",
       "\n",
       "\n"
      ],
      "text/plain": [
       " [1] \"TP0_NA\"   \"TP1_NA\"   \"TP2_NA\"   \"TP3_NA\"   \"TP4_NA\"   \"TP1_bad\" \n",
       " [7] \"TP2_bad\"  \"TP3_bad\"  \"TP4_bad\"  \"TP1_good\" \"TP2_good\" \"TP3_good\"\n",
       "[13] \"TP4_good\""
      ]
     },
     "metadata": {},
     "output_type": "display_data"
    }
   ],
   "source": [
    "unique(sample_data$tp_outcome)"
   ]
  },
  {
   "cell_type": "markdown",
   "id": "705fd53f-47f4-4b44-9436-f88023fd40c1",
   "metadata": {
    "tags": []
   },
   "source": [
    "## Extract data (for potential supplementary tables)"
   ]
  },
  {
   "cell_type": "code",
   "execution_count": 125,
   "id": "d08949e4-546e-4d37-90d5-ce833a173d87",
   "metadata": {},
   "outputs": [],
   "source": [
    "### Visualization of single factors"
   ]
  },
  {
   "cell_type": "code",
   "execution_count": 126,
   "id": "ba298fa3-b66e-4943-8dd8-b2fb46d0ee93",
   "metadata": {},
   "outputs": [],
   "source": [
    "#### Extract factors and evaluate based on sample-data"
   ]
  },
  {
   "cell_type": "code",
   "execution_count": 127,
   "id": "341e66a1-0260-4b21-a80b-b0ecc6601f91",
   "metadata": {},
   "outputs": [],
   "source": [
    "factors = get_factors(model, factors = \"all\")"
   ]
  },
  {
   "cell_type": "code",
   "execution_count": 128,
   "id": "d2c3eb91-1150-4bc9-8595-506f20795b41",
   "metadata": {},
   "outputs": [],
   "source": [
    "factors = factors$group1"
   ]
  },
  {
   "cell_type": "code",
   "execution_count": 129,
   "id": "c9b8bc48-5d43-420e-93f6-73df28ea4a69",
   "metadata": {},
   "outputs": [
    {
     "data": {
      "text/html": [
       "<table class=\"dataframe\">\n",
       "<caption>A matrix: 2 × 20 of type dbl</caption>\n",
       "<thead>\n",
       "\t<tr><th></th><th scope=col>Factor1</th><th scope=col>Factor2</th><th scope=col>Factor3</th><th scope=col>Factor4</th><th scope=col>Factor5</th><th scope=col>Factor6</th><th scope=col>Factor7</th><th scope=col>Factor8</th><th scope=col>Factor9</th><th scope=col>Factor10</th><th scope=col>Factor11</th><th scope=col>Factor12</th><th scope=col>Factor13</th><th scope=col>Factor14</th><th scope=col>Factor15</th><th scope=col>Factor16</th><th scope=col>Factor17</th><th scope=col>Factor18</th><th scope=col>Factor19</th><th scope=col>Factor20</th></tr>\n",
       "</thead>\n",
       "<tbody>\n",
       "\t<tr><th scope=row>k1</th><td>0.2399255</td><td>-0.05739971</td><td>1.4907896</td><td>-0.32665242</td><td>1.267384</td><td>-0.76449296</td><td>-0.2062638</td><td>-0.4015635</td><td> 0.13934268</td><td>-0.5942366</td><td>-0.05194047</td><td> 1.3987023</td><td>-0.2781827</td><td>0.3304071</td><td>0.1524369</td><td> 0.343907604</td><td> 0.59804301</td><td>-0.63067345</td><td>-0.48486844</td><td>-0.20108153</td></tr>\n",
       "\t<tr><th scope=row>k10</th><td>0.9120340</td><td>-0.73742041</td><td>0.3457404</td><td>-0.08340577</td><td>0.397841</td><td>-0.03302189</td><td>-1.1732596</td><td> 0.6276986</td><td>-0.05103549</td><td>-0.3492411</td><td>-0.01582432</td><td>-0.1025336</td><td> 0.2056910</td><td>0.1377031</td><td>0.1219240</td><td>-0.007729483</td><td>-0.04886579</td><td> 0.07816087</td><td> 0.09603544</td><td>-0.03821721</td></tr>\n",
       "</tbody>\n",
       "</table>\n"
      ],
      "text/latex": [
       "A matrix: 2 × 20 of type dbl\n",
       "\\begin{tabular}{r|llllllllllllllllllll}\n",
       "  & Factor1 & Factor2 & Factor3 & Factor4 & Factor5 & Factor6 & Factor7 & Factor8 & Factor9 & Factor10 & Factor11 & Factor12 & Factor13 & Factor14 & Factor15 & Factor16 & Factor17 & Factor18 & Factor19 & Factor20\\\\\n",
       "\\hline\n",
       "\tk1 & 0.2399255 & -0.05739971 & 1.4907896 & -0.32665242 & 1.267384 & -0.76449296 & -0.2062638 & -0.4015635 &  0.13934268 & -0.5942366 & -0.05194047 &  1.3987023 & -0.2781827 & 0.3304071 & 0.1524369 &  0.343907604 &  0.59804301 & -0.63067345 & -0.48486844 & -0.20108153\\\\\n",
       "\tk10 & 0.9120340 & -0.73742041 & 0.3457404 & -0.08340577 & 0.397841 & -0.03302189 & -1.1732596 &  0.6276986 & -0.05103549 & -0.3492411 & -0.01582432 & -0.1025336 &  0.2056910 & 0.1377031 & 0.1219240 & -0.007729483 & -0.04886579 &  0.07816087 &  0.09603544 & -0.03821721\\\\\n",
       "\\end{tabular}\n"
      ],
      "text/markdown": [
       "\n",
       "A matrix: 2 × 20 of type dbl\n",
       "\n",
       "| <!--/--> | Factor1 | Factor2 | Factor3 | Factor4 | Factor5 | Factor6 | Factor7 | Factor8 | Factor9 | Factor10 | Factor11 | Factor12 | Factor13 | Factor14 | Factor15 | Factor16 | Factor17 | Factor18 | Factor19 | Factor20 |\n",
       "|---|---|---|---|---|---|---|---|---|---|---|---|---|---|---|---|---|---|---|---|---|\n",
       "| k1 | 0.2399255 | -0.05739971 | 1.4907896 | -0.32665242 | 1.267384 | -0.76449296 | -0.2062638 | -0.4015635 |  0.13934268 | -0.5942366 | -0.05194047 |  1.3987023 | -0.2781827 | 0.3304071 | 0.1524369 |  0.343907604 |  0.59804301 | -0.63067345 | -0.48486844 | -0.20108153 |\n",
       "| k10 | 0.9120340 | -0.73742041 | 0.3457404 | -0.08340577 | 0.397841 | -0.03302189 | -1.1732596 |  0.6276986 | -0.05103549 | -0.3492411 | -0.01582432 | -0.1025336 |  0.2056910 | 0.1377031 | 0.1219240 | -0.007729483 | -0.04886579 |  0.07816087 |  0.09603544 | -0.03821721 |\n",
       "\n"
      ],
      "text/plain": [
       "    Factor1   Factor2     Factor3   Factor4     Factor5  Factor6     Factor7   \n",
       "k1  0.2399255 -0.05739971 1.4907896 -0.32665242 1.267384 -0.76449296 -0.2062638\n",
       "k10 0.9120340 -0.73742041 0.3457404 -0.08340577 0.397841 -0.03302189 -1.1732596\n",
       "    Factor8    Factor9     Factor10   Factor11    Factor12   Factor13  \n",
       "k1  -0.4015635  0.13934268 -0.5942366 -0.05194047  1.3987023 -0.2781827\n",
       "k10  0.6276986 -0.05103549 -0.3492411 -0.01582432 -0.1025336  0.2056910\n",
       "    Factor14  Factor15  Factor16     Factor17    Factor18    Factor19   \n",
       "k1  0.3304071 0.1524369  0.343907604  0.59804301 -0.63067345 -0.48486844\n",
       "k10 0.1377031 0.1219240 -0.007729483 -0.04886579  0.07816087  0.09603544\n",
       "    Factor20   \n",
       "k1  -0.20108153\n",
       "k10 -0.03821721"
      ]
     },
     "metadata": {},
     "output_type": "display_data"
    }
   ],
   "source": [
    "head(factors,2)"
   ]
  },
  {
   "cell_type": "code",
   "execution_count": 130,
   "id": "5cbbf44c-d111-4c22-928d-d6aa9a5827c5",
   "metadata": {},
   "outputs": [],
   "source": [
    "factors = as.data.frame(factors)"
   ]
  },
  {
   "cell_type": "code",
   "execution_count": 131,
   "id": "8c528e70-1032-4fe8-8dc1-e4d03603f97e",
   "metadata": {},
   "outputs": [],
   "source": [
    "factors$sample_id = rownames(factors)"
   ]
  },
  {
   "cell_type": "code",
   "execution_count": 132,
   "id": "11e892f8-a7fa-418b-9567-a01908b04340",
   "metadata": {},
   "outputs": [
    {
     "data": {
      "text/html": [
       "'V_FINAL_INTEGRATED'"
      ],
      "text/latex": [
       "'V\\_FINAL\\_INTEGRATED'"
      ],
      "text/markdown": [
       "'V_FINAL_INTEGRATED'"
      ],
      "text/plain": [
       "[1] \"V_FINAL_INTEGRATED\""
      ]
     },
     "metadata": {},
     "output_type": "display_data"
    }
   ],
   "source": [
    "name"
   ]
  },
  {
   "cell_type": "code",
   "execution_count": 133,
   "id": "a6d77da8-e4b4-4992-9b3f-2ab3b163020e",
   "metadata": {},
   "outputs": [],
   "source": [
    "### Save Factor Data - potentially as supplementary Table"
   ]
  },
  {
   "cell_type": "code",
   "execution_count": 134,
   "id": "c98afbc1-3ba7-4c81-b1cf-cde514f34ae9",
   "metadata": {},
   "outputs": [],
   "source": [
    "write.csv(factors, paste0(result_path, '/E-Analysis/Factor_Data_w_o_clinical' , name,'_', train_opts$weight_views,  '.csv'), row.names = FALSE)"
   ]
  },
  {
   "cell_type": "code",
   "execution_count": 135,
   "id": "6287a50f-203b-4378-a12a-15710fbe16f9",
   "metadata": {},
   "outputs": [],
   "source": [
    "weights = get_weights(model, views = \"all\", factors = \"all\")"
   ]
  },
  {
   "cell_type": "code",
   "execution_count": 136,
   "id": "3d04e778-c065-4771-b261-40802d6566fc",
   "metadata": {},
   "outputs": [
    {
     "data": {
      "text/html": [
       "<table class=\"dataframe\">\n",
       "<caption>A matrix: 2 × 128 of type dbl</caption>\n",
       "<thead>\n",
       "\t<tr><th></th><th scope=col>k1</th><th scope=col>k10</th><th scope=col>k11</th><th scope=col>k12</th><th scope=col>k13</th><th scope=col>k14</th><th scope=col>k15</th><th scope=col>k16</th><th scope=col>k17</th><th scope=col>k18</th><th scope=col>⋯</th><th scope=col>m7.2</th><th scope=col>m7.3</th><th scope=col>m7.4</th><th scope=col>m8.1</th><th scope=col>m8.2</th><th scope=col>m8.3</th><th scope=col>m8.4</th><th scope=col>m9.1</th><th scope=col>m9.2</th><th scope=col>m9.3</th></tr>\n",
       "</thead>\n",
       "<tbody>\n",
       "\t<tr><th scope=row>BCA1__CXCL13</th><td> 0.29021267</td><td>-0.9726875</td><td>0.3108620</td><td>-0.1087689</td><td> 0.2289630</td><td> 1.8592471</td><td>-1.9841054</td><td> 1.004868</td><td>-0.2492730</td><td>-0.4818377</td><td>⋯</td><td> 1.108336</td><td> 0.3525718</td><td> 0.9414844</td><td> 0.1087689</td><td>-0.3525718</td><td>-1.413597</td><td>-0.643831</td><td>1.3619035</td><td>1.268206</td><td>0.5959912</td></tr>\n",
       "\t<tr><th scope=row>CTACK__CCL27</th><td>-0.08893463</td><td>-0.3316448</td><td>0.7185131</td><td> 0.1485740</td><td>-0.4818377</td><td>-0.9111721</td><td>-0.8529252</td><td>-1.530131</td><td> 0.7443035</td><td>-0.3108620</td><td>⋯</td><td>-1.984105</td><td>-1.5971323</td><td>-1.4693707</td><td>-0.7185131</td><td>-0.8816747</td><td>-0.643831</td><td>-0.668308</td><td>0.5041254</td><td>0.128646</td><td>0.5959912</td></tr>\n",
       "</tbody>\n",
       "</table>\n"
      ],
      "text/latex": [
       "A matrix: 2 × 128 of type dbl\n",
       "\\begin{tabular}{r|lllllllllllllllllllll}\n",
       "  & k1 & k10 & k11 & k12 & k13 & k14 & k15 & k16 & k17 & k18 & ⋯ & m7.2 & m7.3 & m7.4 & m8.1 & m8.2 & m8.3 & m8.4 & m9.1 & m9.2 & m9.3\\\\\n",
       "\\hline\n",
       "\tBCA1\\_\\_CXCL13 &  0.29021267 & -0.9726875 & 0.3108620 & -0.1087689 &  0.2289630 &  1.8592471 & -1.9841054 &  1.004868 & -0.2492730 & -0.4818377 & ⋯ &  1.108336 &  0.3525718 &  0.9414844 &  0.1087689 & -0.3525718 & -1.413597 & -0.643831 & 1.3619035 & 1.268206 & 0.5959912\\\\\n",
       "\tCTACK\\_\\_CCL27 & -0.08893463 & -0.3316448 & 0.7185131 &  0.1485740 & -0.4818377 & -0.9111721 & -0.8529252 & -1.530131 &  0.7443035 & -0.3108620 & ⋯ & -1.984105 & -1.5971323 & -1.4693707 & -0.7185131 & -0.8816747 & -0.643831 & -0.668308 & 0.5041254 & 0.128646 & 0.5959912\\\\\n",
       "\\end{tabular}\n"
      ],
      "text/markdown": [
       "\n",
       "A matrix: 2 × 128 of type dbl\n",
       "\n",
       "| <!--/--> | k1 | k10 | k11 | k12 | k13 | k14 | k15 | k16 | k17 | k18 | ⋯ | m7.2 | m7.3 | m7.4 | m8.1 | m8.2 | m8.3 | m8.4 | m9.1 | m9.2 | m9.3 |\n",
       "|---|---|---|---|---|---|---|---|---|---|---|---|---|---|---|---|---|---|---|---|---|---|\n",
       "| BCA1__CXCL13 |  0.29021267 | -0.9726875 | 0.3108620 | -0.1087689 |  0.2289630 |  1.8592471 | -1.9841054 |  1.004868 | -0.2492730 | -0.4818377 | ⋯ |  1.108336 |  0.3525718 |  0.9414844 |  0.1087689 | -0.3525718 | -1.413597 | -0.643831 | 1.3619035 | 1.268206 | 0.5959912 |\n",
       "| CTACK__CCL27 | -0.08893463 | -0.3316448 | 0.7185131 |  0.1485740 | -0.4818377 | -0.9111721 | -0.8529252 | -1.530131 |  0.7443035 | -0.3108620 | ⋯ | -1.984105 | -1.5971323 | -1.4693707 | -0.7185131 | -0.8816747 | -0.643831 | -0.668308 | 0.5041254 | 0.128646 | 0.5959912 |\n",
       "\n"
      ],
      "text/plain": [
       "             k1          k10        k11       k12        k13        k14       \n",
       "BCA1__CXCL13  0.29021267 -0.9726875 0.3108620 -0.1087689  0.2289630  1.8592471\n",
       "CTACK__CCL27 -0.08893463 -0.3316448 0.7185131  0.1485740 -0.4818377 -0.9111721\n",
       "             k15        k16       k17        k18        ⋯ m7.2      m7.3      \n",
       "BCA1__CXCL13 -1.9841054  1.004868 -0.2492730 -0.4818377 ⋯  1.108336  0.3525718\n",
       "CTACK__CCL27 -0.8529252 -1.530131  0.7443035 -0.3108620 ⋯ -1.984105 -1.5971323\n",
       "             m7.4       m8.1       m8.2       m8.3      m8.4      m9.1     \n",
       "BCA1__CXCL13  0.9414844  0.1087689 -0.3525718 -1.413597 -0.643831 1.3619035\n",
       "CTACK__CCL27 -1.4693707 -0.7185131 -0.8816747 -0.643831 -0.668308 0.5041254\n",
       "             m9.2     m9.3     \n",
       "BCA1__CXCL13 1.268206 0.5959912\n",
       "CTACK__CCL27 0.128646 0.5959912"
      ]
     },
     "metadata": {},
     "output_type": "display_data"
    }
   ],
   "source": [
    "head(data_list[[1]],2)"
   ]
  },
  {
   "cell_type": "code",
   "execution_count": 137,
   "id": "8ae27478-52db-4f4a-afa6-253c4775842c",
   "metadata": {},
   "outputs": [
    {
     "data": {
      "text/html": [
       "<table class=\"dataframe\">\n",
       "<caption>A matrix: 2 × 128 of type dbl</caption>\n",
       "<thead>\n",
       "\t<tr><th></th><th scope=col>k1</th><th scope=col>k10</th><th scope=col>k11</th><th scope=col>k12</th><th scope=col>k13</th><th scope=col>k14</th><th scope=col>k15</th><th scope=col>k16</th><th scope=col>k17</th><th scope=col>k18</th><th scope=col>⋯</th><th scope=col>m7.2</th><th scope=col>m7.3</th><th scope=col>m7.4</th><th scope=col>m8.1</th><th scope=col>m8.2</th><th scope=col>m8.3</th><th scope=col>m8.4</th><th scope=col>m9.1</th><th scope=col>m9.2</th><th scope=col>m9.3</th></tr>\n",
       "</thead>\n",
       "<tbody>\n",
       "\t<tr><th scope=row>BCA1__CXCL13</th><td> 0.31127582</td><td>-1.0432838</td><td>0.3334239</td><td>-0.1166632</td><td> 0.2455808</td><td> 1.9941886</td><td>-2.1281091</td><td> 1.077799</td><td>-0.267365</td><td>-0.5168089</td><td>⋯</td><td> 1.188778</td><td> 0.3781609</td><td> 1.009816</td><td> 0.1166631</td><td>-0.3781611</td><td>-1.5161938</td><td>-0.6905594</td><td>1.4607485</td><td>1.3602505</td><td>0.6392473</td></tr>\n",
       "\t<tr><th scope=row>CTACK__CCL27</th><td>-0.09538939</td><td>-0.3557151</td><td>0.7706618</td><td> 0.1593573</td><td>-0.5168088</td><td>-0.9773037</td><td>-0.9148293</td><td>-1.641186</td><td> 0.798324</td><td>-0.3334240</td><td>⋯</td><td>-2.128109</td><td>-1.7130499</td><td>-1.576016</td><td>-0.7706618</td><td>-0.9456654</td><td>-0.6905593</td><td>-0.7168129</td><td>0.5407142</td><td>0.1379829</td><td>0.6392474</td></tr>\n",
       "</tbody>\n",
       "</table>\n"
      ],
      "text/latex": [
       "A matrix: 2 × 128 of type dbl\n",
       "\\begin{tabular}{r|lllllllllllllllllllll}\n",
       "  & k1 & k10 & k11 & k12 & k13 & k14 & k15 & k16 & k17 & k18 & ⋯ & m7.2 & m7.3 & m7.4 & m8.1 & m8.2 & m8.3 & m8.4 & m9.1 & m9.2 & m9.3\\\\\n",
       "\\hline\n",
       "\tBCA1\\_\\_CXCL13 &  0.31127582 & -1.0432838 & 0.3334239 & -0.1166632 &  0.2455808 &  1.9941886 & -2.1281091 &  1.077799 & -0.267365 & -0.5168089 & ⋯ &  1.188778 &  0.3781609 &  1.009816 &  0.1166631 & -0.3781611 & -1.5161938 & -0.6905594 & 1.4607485 & 1.3602505 & 0.6392473\\\\\n",
       "\tCTACK\\_\\_CCL27 & -0.09538939 & -0.3557151 & 0.7706618 &  0.1593573 & -0.5168088 & -0.9773037 & -0.9148293 & -1.641186 &  0.798324 & -0.3334240 & ⋯ & -2.128109 & -1.7130499 & -1.576016 & -0.7706618 & -0.9456654 & -0.6905593 & -0.7168129 & 0.5407142 & 0.1379829 & 0.6392474\\\\\n",
       "\\end{tabular}\n"
      ],
      "text/markdown": [
       "\n",
       "A matrix: 2 × 128 of type dbl\n",
       "\n",
       "| <!--/--> | k1 | k10 | k11 | k12 | k13 | k14 | k15 | k16 | k17 | k18 | ⋯ | m7.2 | m7.3 | m7.4 | m8.1 | m8.2 | m8.3 | m8.4 | m9.1 | m9.2 | m9.3 |\n",
       "|---|---|---|---|---|---|---|---|---|---|---|---|---|---|---|---|---|---|---|---|---|---|\n",
       "| BCA1__CXCL13 |  0.31127582 | -1.0432838 | 0.3334239 | -0.1166632 |  0.2455808 |  1.9941886 | -2.1281091 |  1.077799 | -0.267365 | -0.5168089 | ⋯ |  1.188778 |  0.3781609 |  1.009816 |  0.1166631 | -0.3781611 | -1.5161938 | -0.6905594 | 1.4607485 | 1.3602505 | 0.6392473 |\n",
       "| CTACK__CCL27 | -0.09538939 | -0.3557151 | 0.7706618 |  0.1593573 | -0.5168088 | -0.9773037 | -0.9148293 | -1.641186 |  0.798324 | -0.3334240 | ⋯ | -2.128109 | -1.7130499 | -1.576016 | -0.7706618 | -0.9456654 | -0.6905593 | -0.7168129 | 0.5407142 | 0.1379829 | 0.6392474 |\n",
       "\n"
      ],
      "text/plain": [
       "             k1          k10        k11       k12        k13        k14       \n",
       "BCA1__CXCL13  0.31127582 -1.0432838 0.3334239 -0.1166632  0.2455808  1.9941886\n",
       "CTACK__CCL27 -0.09538939 -0.3557151 0.7706618  0.1593573 -0.5168088 -0.9773037\n",
       "             k15        k16       k17       k18        ⋯ m7.2      m7.3      \n",
       "BCA1__CXCL13 -2.1281091  1.077799 -0.267365 -0.5168089 ⋯  1.188778  0.3781609\n",
       "CTACK__CCL27 -0.9148293 -1.641186  0.798324 -0.3334240 ⋯ -2.128109 -1.7130499\n",
       "             m7.4      m8.1       m8.2       m8.3       m8.4       m9.1     \n",
       "BCA1__CXCL13  1.009816  0.1166631 -0.3781611 -1.5161938 -0.6905594 1.4607485\n",
       "CTACK__CCL27 -1.576016 -0.7706618 -0.9456654 -0.6905593 -0.7168129 0.5407142\n",
       "             m9.2      m9.3     \n",
       "BCA1__CXCL13 1.3602505 0.6392473\n",
       "CTACK__CCL27 0.1379829 0.6392474"
      ]
     },
     "metadata": {},
     "output_type": "display_data"
    }
   ],
   "source": [
    "head(get_data(model)[[1]][[1]],2)"
   ]
  },
  {
   "cell_type": "code",
   "execution_count": 138,
   "id": "3c06bd48-04f7-479f-be91-aadf93e9447f",
   "metadata": {},
   "outputs": [],
   "source": [
    "weight_data = data.frame()"
   ]
  },
  {
   "cell_type": "code",
   "execution_count": 139,
   "id": "04e7cbf4-fe8a-40ad-94f7-0c27a7717c61",
   "metadata": {},
   "outputs": [
    {
     "data": {
      "text/html": [
       "<style>\n",
       ".list-inline {list-style: none; margin:0; padding: 0}\n",
       ".list-inline>li {display: inline-block}\n",
       ".list-inline>li:not(:last-child)::after {content: \"\\00b7\"; padding: 0 .5ex}\n",
       "</style>\n",
       "<ol class=list-inline><li>'cytokine'</li><li>'neutrophil'</li><li>'proteomics'</li><li>'X0_TcellCD4'</li><li>'X1_TcellCD8'</li><li>'X10_Bcell'</li><li>'X11_TcellCD4'</li><li>'X12_MonocytesCD16_FCGR3A'</li><li>'X13_Dendritic'</li><li>'X2_TcellCD4'</li><li>'X3_NK'</li><li>'X4_MonocytesCD14'</li><li>'X5_TcellCD4'</li><li>'X6_MonocytesCD14'</li><li>'X7_MonocytesCD14'</li><li>'X8_Bcell'</li><li>'X9_MonocytesCD16_FCGR3A'</li></ol>\n"
      ],
      "text/latex": [
       "\\begin{enumerate*}\n",
       "\\item 'cytokine'\n",
       "\\item 'neutrophil'\n",
       "\\item 'proteomics'\n",
       "\\item 'X0\\_TcellCD4'\n",
       "\\item 'X1\\_TcellCD8'\n",
       "\\item 'X10\\_Bcell'\n",
       "\\item 'X11\\_TcellCD4'\n",
       "\\item 'X12\\_MonocytesCD16\\_FCGR3A'\n",
       "\\item 'X13\\_Dendritic'\n",
       "\\item 'X2\\_TcellCD4'\n",
       "\\item 'X3\\_NK'\n",
       "\\item 'X4\\_MonocytesCD14'\n",
       "\\item 'X5\\_TcellCD4'\n",
       "\\item 'X6\\_MonocytesCD14'\n",
       "\\item 'X7\\_MonocytesCD14'\n",
       "\\item 'X8\\_Bcell'\n",
       "\\item 'X9\\_MonocytesCD16\\_FCGR3A'\n",
       "\\end{enumerate*}\n"
      ],
      "text/markdown": [
       "1. 'cytokine'\n",
       "2. 'neutrophil'\n",
       "3. 'proteomics'\n",
       "4. 'X0_TcellCD4'\n",
       "5. 'X1_TcellCD8'\n",
       "6. 'X10_Bcell'\n",
       "7. 'X11_TcellCD4'\n",
       "8. 'X12_MonocytesCD16_FCGR3A'\n",
       "9. 'X13_Dendritic'\n",
       "10. 'X2_TcellCD4'\n",
       "11. 'X3_NK'\n",
       "12. 'X4_MonocytesCD14'\n",
       "13. 'X5_TcellCD4'\n",
       "14. 'X6_MonocytesCD14'\n",
       "15. 'X7_MonocytesCD14'\n",
       "16. 'X8_Bcell'\n",
       "17. 'X9_MonocytesCD16_FCGR3A'\n",
       "\n",
       "\n"
      ],
      "text/plain": [
       " [1] \"cytokine\"                 \"neutrophil\"              \n",
       " [3] \"proteomics\"               \"X0_TcellCD4\"             \n",
       " [5] \"X1_TcellCD8\"              \"X10_Bcell\"               \n",
       " [7] \"X11_TcellCD4\"             \"X12_MonocytesCD16_FCGR3A\"\n",
       " [9] \"X13_Dendritic\"            \"X2_TcellCD4\"             \n",
       "[11] \"X3_NK\"                    \"X4_MonocytesCD14\"        \n",
       "[13] \"X5_TcellCD4\"              \"X6_MonocytesCD14\"        \n",
       "[15] \"X7_MonocytesCD14\"         \"X8_Bcell\"                \n",
       "[17] \"X9_MonocytesCD16_FCGR3A\" "
      ]
     },
     "metadata": {},
     "output_type": "display_data"
    }
   ],
   "source": [
    "names(weights)"
   ]
  },
  {
   "cell_type": "code",
   "execution_count": 140,
   "id": "05613fb2-df34-48f9-a7a3-dab90a80665e",
   "metadata": {},
   "outputs": [],
   "source": [
    "for (i in names(weights)){\n",
    "    data = data.frame(weights[[i]])\n",
    "    data$type = i\n",
    "    weight_data = rbind(weight_data,data)\n",
    "    }"
   ]
  },
  {
   "cell_type": "code",
   "execution_count": 141,
   "id": "ead58a16-698e-4cd3-8c69-7fbc4dba519e",
   "metadata": {},
   "outputs": [],
   "source": [
    "weight_data$variable_name = rownames(weight_data)"
   ]
  },
  {
   "cell_type": "code",
   "execution_count": 142,
   "id": "0ae9a357-d0ba-4a9d-bfbe-02eca9803848",
   "metadata": {},
   "outputs": [
    {
     "data": {
      "text/html": [
       "<table class=\"dataframe\">\n",
       "<caption>A data.frame: 2 × 22</caption>\n",
       "<thead>\n",
       "\t<tr><th></th><th scope=col>Factor1</th><th scope=col>Factor2</th><th scope=col>Factor3</th><th scope=col>Factor4</th><th scope=col>Factor5</th><th scope=col>Factor6</th><th scope=col>Factor7</th><th scope=col>Factor8</th><th scope=col>Factor9</th><th scope=col>Factor10</th><th scope=col>⋯</th><th scope=col>Factor13</th><th scope=col>Factor14</th><th scope=col>Factor15</th><th scope=col>Factor16</th><th scope=col>Factor17</th><th scope=col>Factor18</th><th scope=col>Factor19</th><th scope=col>Factor20</th><th scope=col>type</th><th scope=col>variable_name</th></tr>\n",
       "\t<tr><th></th><th scope=col>&lt;dbl&gt;</th><th scope=col>&lt;dbl&gt;</th><th scope=col>&lt;dbl&gt;</th><th scope=col>&lt;dbl&gt;</th><th scope=col>&lt;dbl&gt;</th><th scope=col>&lt;dbl&gt;</th><th scope=col>&lt;dbl&gt;</th><th scope=col>&lt;dbl&gt;</th><th scope=col>&lt;dbl&gt;</th><th scope=col>&lt;dbl&gt;</th><th scope=col>⋯</th><th scope=col>&lt;dbl&gt;</th><th scope=col>&lt;dbl&gt;</th><th scope=col>&lt;dbl&gt;</th><th scope=col>&lt;dbl&gt;</th><th scope=col>&lt;dbl&gt;</th><th scope=col>&lt;dbl&gt;</th><th scope=col>&lt;dbl&gt;</th><th scope=col>&lt;dbl&gt;</th><th scope=col>&lt;chr&gt;</th><th scope=col>&lt;chr&gt;</th></tr>\n",
       "</thead>\n",
       "<tbody>\n",
       "\t<tr><th scope=row>BCA1__CXCL13</th><td>0.007872607</td><td> 0.01834307</td><td>-0.01672033</td><td>-0.3090944808</td><td>-0.04257815</td><td>-0.04290609</td><td>0.02036166</td><td>-0.02911915</td><td>-0.09958332</td><td>-0.15661780</td><td>⋯</td><td>0.50467277</td><td> 0.04324221</td><td>0.6661882</td><td>-0.041123314</td><td>-0.20769065</td><td>0.1357149</td><td>-0.05794182</td><td>-0.009094946</td><td>cytokine</td><td>BCA1__CXCL13</td></tr>\n",
       "\t<tr><th scope=row>CTACK__CCL27</th><td>0.016026314</td><td>-0.17902272</td><td> 0.02978679</td><td>-0.0001092699</td><td> 0.08309032</td><td>-0.05366863</td><td>0.03047595</td><td>-0.03859843</td><td>-0.26235709</td><td>-0.02720419</td><td>⋯</td><td>0.09532608</td><td>-0.05772901</td><td>0.0201950</td><td>-0.004542783</td><td> 0.03819823</td><td>0.2465448</td><td>-0.03517982</td><td> 0.198791111</td><td>cytokine</td><td>CTACK__CCL27</td></tr>\n",
       "</tbody>\n",
       "</table>\n"
      ],
      "text/latex": [
       "A data.frame: 2 × 22\n",
       "\\begin{tabular}{r|lllllllllllllllllllll}\n",
       "  & Factor1 & Factor2 & Factor3 & Factor4 & Factor5 & Factor6 & Factor7 & Factor8 & Factor9 & Factor10 & ⋯ & Factor13 & Factor14 & Factor15 & Factor16 & Factor17 & Factor18 & Factor19 & Factor20 & type & variable\\_name\\\\\n",
       "  & <dbl> & <dbl> & <dbl> & <dbl> & <dbl> & <dbl> & <dbl> & <dbl> & <dbl> & <dbl> & ⋯ & <dbl> & <dbl> & <dbl> & <dbl> & <dbl> & <dbl> & <dbl> & <dbl> & <chr> & <chr>\\\\\n",
       "\\hline\n",
       "\tBCA1\\_\\_CXCL13 & 0.007872607 &  0.01834307 & -0.01672033 & -0.3090944808 & -0.04257815 & -0.04290609 & 0.02036166 & -0.02911915 & -0.09958332 & -0.15661780 & ⋯ & 0.50467277 &  0.04324221 & 0.6661882 & -0.041123314 & -0.20769065 & 0.1357149 & -0.05794182 & -0.009094946 & cytokine & BCA1\\_\\_CXCL13\\\\\n",
       "\tCTACK\\_\\_CCL27 & 0.016026314 & -0.17902272 &  0.02978679 & -0.0001092699 &  0.08309032 & -0.05366863 & 0.03047595 & -0.03859843 & -0.26235709 & -0.02720419 & ⋯ & 0.09532608 & -0.05772901 & 0.0201950 & -0.004542783 &  0.03819823 & 0.2465448 & -0.03517982 &  0.198791111 & cytokine & CTACK\\_\\_CCL27\\\\\n",
       "\\end{tabular}\n"
      ],
      "text/markdown": [
       "\n",
       "A data.frame: 2 × 22\n",
       "\n",
       "| <!--/--> | Factor1 &lt;dbl&gt; | Factor2 &lt;dbl&gt; | Factor3 &lt;dbl&gt; | Factor4 &lt;dbl&gt; | Factor5 &lt;dbl&gt; | Factor6 &lt;dbl&gt; | Factor7 &lt;dbl&gt; | Factor8 &lt;dbl&gt; | Factor9 &lt;dbl&gt; | Factor10 &lt;dbl&gt; | ⋯ ⋯ | Factor13 &lt;dbl&gt; | Factor14 &lt;dbl&gt; | Factor15 &lt;dbl&gt; | Factor16 &lt;dbl&gt; | Factor17 &lt;dbl&gt; | Factor18 &lt;dbl&gt; | Factor19 &lt;dbl&gt; | Factor20 &lt;dbl&gt; | type &lt;chr&gt; | variable_name &lt;chr&gt; |\n",
       "|---|---|---|---|---|---|---|---|---|---|---|---|---|---|---|---|---|---|---|---|---|---|\n",
       "| BCA1__CXCL13 | 0.007872607 |  0.01834307 | -0.01672033 | -0.3090944808 | -0.04257815 | -0.04290609 | 0.02036166 | -0.02911915 | -0.09958332 | -0.15661780 | ⋯ | 0.50467277 |  0.04324221 | 0.6661882 | -0.041123314 | -0.20769065 | 0.1357149 | -0.05794182 | -0.009094946 | cytokine | BCA1__CXCL13 |\n",
       "| CTACK__CCL27 | 0.016026314 | -0.17902272 |  0.02978679 | -0.0001092699 |  0.08309032 | -0.05366863 | 0.03047595 | -0.03859843 | -0.26235709 | -0.02720419 | ⋯ | 0.09532608 | -0.05772901 | 0.0201950 | -0.004542783 |  0.03819823 | 0.2465448 | -0.03517982 |  0.198791111 | cytokine | CTACK__CCL27 |\n",
       "\n"
      ],
      "text/plain": [
       "             Factor1     Factor2     Factor3     Factor4       Factor5    \n",
       "BCA1__CXCL13 0.007872607  0.01834307 -0.01672033 -0.3090944808 -0.04257815\n",
       "CTACK__CCL27 0.016026314 -0.17902272  0.02978679 -0.0001092699  0.08309032\n",
       "             Factor6     Factor7    Factor8     Factor9     Factor10    ⋯\n",
       "BCA1__CXCL13 -0.04290609 0.02036166 -0.02911915 -0.09958332 -0.15661780 ⋯\n",
       "CTACK__CCL27 -0.05366863 0.03047595 -0.03859843 -0.26235709 -0.02720419 ⋯\n",
       "             Factor13   Factor14    Factor15  Factor16     Factor17   \n",
       "BCA1__CXCL13 0.50467277  0.04324221 0.6661882 -0.041123314 -0.20769065\n",
       "CTACK__CCL27 0.09532608 -0.05772901 0.0201950 -0.004542783  0.03819823\n",
       "             Factor18  Factor19    Factor20     type     variable_name\n",
       "BCA1__CXCL13 0.1357149 -0.05794182 -0.009094946 cytokine BCA1__CXCL13 \n",
       "CTACK__CCL27 0.2465448 -0.03517982  0.198791111 cytokine CTACK__CCL27 "
      ]
     },
     "metadata": {},
     "output_type": "display_data"
    }
   ],
   "source": [
    "head(weight_data,2)"
   ]
  },
  {
   "cell_type": "code",
   "execution_count": 143,
   "id": "ea8a7b15-e928-42a5-a5cf-c400e9138e54",
   "metadata": {},
   "outputs": [
    {
     "data": {
      "text/html": [
       "'V_FINAL_INTEGRATED'"
      ],
      "text/latex": [
       "'V\\_FINAL\\_INTEGRATED'"
      ],
      "text/markdown": [
       "'V_FINAL_INTEGRATED'"
      ],
      "text/plain": [
       "[1] \"V_FINAL_INTEGRATED\""
      ]
     },
     "metadata": {},
     "output_type": "display_data"
    }
   ],
   "source": [
    "name"
   ]
  },
  {
   "cell_type": "code",
   "execution_count": 144,
   "id": "b582bc64-420b-4140-8586-8d08e5ea8901",
   "metadata": {},
   "outputs": [],
   "source": [
    "#### Save weight data potentially as supplementary table"
   ]
  },
  {
   "cell_type": "code",
   "execution_count": 145,
   "id": "fbffed4f-8847-453f-b8ee-776df2b249ab",
   "metadata": {},
   "outputs": [],
   "source": [
    "write.csv(weight_data, paste0(result_path, '/E-Analysis/Weight_Data_w_o_clinical' , name, '_', train_opts$weight_views, '.csv'), row.names = FALSE)"
   ]
  },
  {
   "cell_type": "markdown",
   "id": "63bb29c6-9f50-46a8-bcf2-ef8781fb8bac",
   "metadata": {
    "tags": []
   },
   "source": [
    "## Merge factors and sample data"
   ]
  },
  {
   "cell_type": "code",
   "execution_count": 146,
   "id": "e2ca7f5a-6ed7-4424-9b9c-21b998dd9a2f",
   "metadata": {},
   "outputs": [
    {
     "data": {
      "text/html": [
       "<table class=\"dataframe\">\n",
       "<caption>A data.frame: 2 × 21</caption>\n",
       "<thead>\n",
       "\t<tr><th></th><th scope=col>Factor1</th><th scope=col>Factor2</th><th scope=col>Factor3</th><th scope=col>Factor4</th><th scope=col>Factor5</th><th scope=col>Factor6</th><th scope=col>Factor7</th><th scope=col>Factor8</th><th scope=col>Factor9</th><th scope=col>Factor10</th><th scope=col>⋯</th><th scope=col>Factor12</th><th scope=col>Factor13</th><th scope=col>Factor14</th><th scope=col>Factor15</th><th scope=col>Factor16</th><th scope=col>Factor17</th><th scope=col>Factor18</th><th scope=col>Factor19</th><th scope=col>Factor20</th><th scope=col>sample_id</th></tr>\n",
       "\t<tr><th></th><th scope=col>&lt;dbl&gt;</th><th scope=col>&lt;dbl&gt;</th><th scope=col>&lt;dbl&gt;</th><th scope=col>&lt;dbl&gt;</th><th scope=col>&lt;dbl&gt;</th><th scope=col>&lt;dbl&gt;</th><th scope=col>&lt;dbl&gt;</th><th scope=col>&lt;dbl&gt;</th><th scope=col>&lt;dbl&gt;</th><th scope=col>&lt;dbl&gt;</th><th scope=col>⋯</th><th scope=col>&lt;dbl&gt;</th><th scope=col>&lt;dbl&gt;</th><th scope=col>&lt;dbl&gt;</th><th scope=col>&lt;dbl&gt;</th><th scope=col>&lt;dbl&gt;</th><th scope=col>&lt;dbl&gt;</th><th scope=col>&lt;dbl&gt;</th><th scope=col>&lt;dbl&gt;</th><th scope=col>&lt;dbl&gt;</th><th scope=col>&lt;chr&gt;</th></tr>\n",
       "</thead>\n",
       "<tbody>\n",
       "\t<tr><th scope=row>k1</th><td>0.2399255</td><td>-0.05739971</td><td>1.4907896</td><td>-0.32665242</td><td>1.267384</td><td>-0.76449296</td><td>-0.2062638</td><td>-0.4015635</td><td> 0.13934268</td><td>-0.5942366</td><td>⋯</td><td> 1.3987023</td><td>-0.2781827</td><td>0.3304071</td><td>0.1524369</td><td> 0.343907604</td><td> 0.59804301</td><td>-0.63067345</td><td>-0.48486844</td><td>-0.20108153</td><td>k1 </td></tr>\n",
       "\t<tr><th scope=row>k10</th><td>0.9120340</td><td>-0.73742041</td><td>0.3457404</td><td>-0.08340577</td><td>0.397841</td><td>-0.03302189</td><td>-1.1732596</td><td> 0.6276986</td><td>-0.05103549</td><td>-0.3492411</td><td>⋯</td><td>-0.1025336</td><td> 0.2056910</td><td>0.1377031</td><td>0.1219240</td><td>-0.007729483</td><td>-0.04886579</td><td> 0.07816087</td><td> 0.09603544</td><td>-0.03821721</td><td>k10</td></tr>\n",
       "</tbody>\n",
       "</table>\n"
      ],
      "text/latex": [
       "A data.frame: 2 × 21\n",
       "\\begin{tabular}{r|lllllllllllllllllllll}\n",
       "  & Factor1 & Factor2 & Factor3 & Factor4 & Factor5 & Factor6 & Factor7 & Factor8 & Factor9 & Factor10 & ⋯ & Factor12 & Factor13 & Factor14 & Factor15 & Factor16 & Factor17 & Factor18 & Factor19 & Factor20 & sample\\_id\\\\\n",
       "  & <dbl> & <dbl> & <dbl> & <dbl> & <dbl> & <dbl> & <dbl> & <dbl> & <dbl> & <dbl> & ⋯ & <dbl> & <dbl> & <dbl> & <dbl> & <dbl> & <dbl> & <dbl> & <dbl> & <dbl> & <chr>\\\\\n",
       "\\hline\n",
       "\tk1 & 0.2399255 & -0.05739971 & 1.4907896 & -0.32665242 & 1.267384 & -0.76449296 & -0.2062638 & -0.4015635 &  0.13934268 & -0.5942366 & ⋯ &  1.3987023 & -0.2781827 & 0.3304071 & 0.1524369 &  0.343907604 &  0.59804301 & -0.63067345 & -0.48486844 & -0.20108153 & k1 \\\\\n",
       "\tk10 & 0.9120340 & -0.73742041 & 0.3457404 & -0.08340577 & 0.397841 & -0.03302189 & -1.1732596 &  0.6276986 & -0.05103549 & -0.3492411 & ⋯ & -0.1025336 &  0.2056910 & 0.1377031 & 0.1219240 & -0.007729483 & -0.04886579 &  0.07816087 &  0.09603544 & -0.03821721 & k10\\\\\n",
       "\\end{tabular}\n"
      ],
      "text/markdown": [
       "\n",
       "A data.frame: 2 × 21\n",
       "\n",
       "| <!--/--> | Factor1 &lt;dbl&gt; | Factor2 &lt;dbl&gt; | Factor3 &lt;dbl&gt; | Factor4 &lt;dbl&gt; | Factor5 &lt;dbl&gt; | Factor6 &lt;dbl&gt; | Factor7 &lt;dbl&gt; | Factor8 &lt;dbl&gt; | Factor9 &lt;dbl&gt; | Factor10 &lt;dbl&gt; | ⋯ ⋯ | Factor12 &lt;dbl&gt; | Factor13 &lt;dbl&gt; | Factor14 &lt;dbl&gt; | Factor15 &lt;dbl&gt; | Factor16 &lt;dbl&gt; | Factor17 &lt;dbl&gt; | Factor18 &lt;dbl&gt; | Factor19 &lt;dbl&gt; | Factor20 &lt;dbl&gt; | sample_id &lt;chr&gt; |\n",
       "|---|---|---|---|---|---|---|---|---|---|---|---|---|---|---|---|---|---|---|---|---|---|\n",
       "| k1 | 0.2399255 | -0.05739971 | 1.4907896 | -0.32665242 | 1.267384 | -0.76449296 | -0.2062638 | -0.4015635 |  0.13934268 | -0.5942366 | ⋯ |  1.3987023 | -0.2781827 | 0.3304071 | 0.1524369 |  0.343907604 |  0.59804301 | -0.63067345 | -0.48486844 | -0.20108153 | k1  |\n",
       "| k10 | 0.9120340 | -0.73742041 | 0.3457404 | -0.08340577 | 0.397841 | -0.03302189 | -1.1732596 |  0.6276986 | -0.05103549 | -0.3492411 | ⋯ | -0.1025336 |  0.2056910 | 0.1377031 | 0.1219240 | -0.007729483 | -0.04886579 |  0.07816087 |  0.09603544 | -0.03821721 | k10 |\n",
       "\n"
      ],
      "text/plain": [
       "    Factor1   Factor2     Factor3   Factor4     Factor5  Factor6     Factor7   \n",
       "k1  0.2399255 -0.05739971 1.4907896 -0.32665242 1.267384 -0.76449296 -0.2062638\n",
       "k10 0.9120340 -0.73742041 0.3457404 -0.08340577 0.397841 -0.03302189 -1.1732596\n",
       "    Factor8    Factor9     Factor10   ⋯ Factor12   Factor13   Factor14 \n",
       "k1  -0.4015635  0.13934268 -0.5942366 ⋯  1.3987023 -0.2781827 0.3304071\n",
       "k10  0.6276986 -0.05103549 -0.3492411 ⋯ -0.1025336  0.2056910 0.1377031\n",
       "    Factor15  Factor16     Factor17    Factor18    Factor19    Factor20   \n",
       "k1  0.1524369  0.343907604  0.59804301 -0.63067345 -0.48486844 -0.20108153\n",
       "k10 0.1219240 -0.007729483 -0.04886579  0.07816087  0.09603544 -0.03821721\n",
       "    sample_id\n",
       "k1  k1       \n",
       "k10 k10      "
      ]
     },
     "metadata": {},
     "output_type": "display_data"
    }
   ],
   "source": [
    "head(factors,2)"
   ]
  },
  {
   "cell_type": "code",
   "execution_count": 147,
   "id": "1cacbf49-1921-4368-b9c9-0c3c82ff3310",
   "metadata": {},
   "outputs": [
    {
     "data": {
      "text/html": [
       "128"
      ],
      "text/latex": [
       "128"
      ],
      "text/markdown": [
       "128"
      ],
      "text/plain": [
       "[1] 128"
      ]
     },
     "metadata": {},
     "output_type": "display_data"
    }
   ],
   "source": [
    "nrow(factors)"
   ]
  },
  {
   "cell_type": "code",
   "execution_count": 148,
   "id": "481a8ea4-c21e-4c19-9ee8-cc42e069f267",
   "metadata": {},
   "outputs": [
    {
     "data": {
      "text/html": [
       "<style>\n",
       ".list-inline {list-style: none; margin:0; padding: 0}\n",
       ".list-inline>li {display: inline-block}\n",
       ".list-inline>li:not(:last-child)::after {content: \"\\00b7\"; padding: 0 .5ex}\n",
       "</style>\n",
       "<ol class=list-inline><li>'X.1'</li><li>'sample_id'</li><li>'sample'</li><li>'id'</li><li>'measurement'</li><li>'library'</li><li>'id.y'</li><li>'name'</li><li>'read'</li><li>'pattern'</li><li>'sequence'</li><li>'feature_type'</li><li>'X'</li><li>'in_sample'</li><li>'measurement_tp'</li><li>'sc_rna_seq_data'</li><li>'age'</li><li>'sex'</li><li>'classification'</li><li>'group'</li><li>'meta_data'</li><li>'delta_ef_value_group'</li><li>'delta_ef_value'</li><li>'delta_ef_value_class'</li><li>'ef_classification_data'</li><li>'CK'</li><li>'CK_MB'</li><li>'Troponin'</li><li>'CRP'</li><li>'clinical_data'</li><li>'CK_raw'</li><li>'class'</li><li>'measurement2'</li><li>'measurement_class'</li><li>'delta_ef_value_class_summarized'</li><li>'tp_outcome'</li></ol>\n"
      ],
      "text/latex": [
       "\\begin{enumerate*}\n",
       "\\item 'X.1'\n",
       "\\item 'sample\\_id'\n",
       "\\item 'sample'\n",
       "\\item 'id'\n",
       "\\item 'measurement'\n",
       "\\item 'library'\n",
       "\\item 'id.y'\n",
       "\\item 'name'\n",
       "\\item 'read'\n",
       "\\item 'pattern'\n",
       "\\item 'sequence'\n",
       "\\item 'feature\\_type'\n",
       "\\item 'X'\n",
       "\\item 'in\\_sample'\n",
       "\\item 'measurement\\_tp'\n",
       "\\item 'sc\\_rna\\_seq\\_data'\n",
       "\\item 'age'\n",
       "\\item 'sex'\n",
       "\\item 'classification'\n",
       "\\item 'group'\n",
       "\\item 'meta\\_data'\n",
       "\\item 'delta\\_ef\\_value\\_group'\n",
       "\\item 'delta\\_ef\\_value'\n",
       "\\item 'delta\\_ef\\_value\\_class'\n",
       "\\item 'ef\\_classification\\_data'\n",
       "\\item 'CK'\n",
       "\\item 'CK\\_MB'\n",
       "\\item 'Troponin'\n",
       "\\item 'CRP'\n",
       "\\item 'clinical\\_data'\n",
       "\\item 'CK\\_raw'\n",
       "\\item 'class'\n",
       "\\item 'measurement2'\n",
       "\\item 'measurement\\_class'\n",
       "\\item 'delta\\_ef\\_value\\_class\\_summarized'\n",
       "\\item 'tp\\_outcome'\n",
       "\\end{enumerate*}\n"
      ],
      "text/markdown": [
       "1. 'X.1'\n",
       "2. 'sample_id'\n",
       "3. 'sample'\n",
       "4. 'id'\n",
       "5. 'measurement'\n",
       "6. 'library'\n",
       "7. 'id.y'\n",
       "8. 'name'\n",
       "9. 'read'\n",
       "10. 'pattern'\n",
       "11. 'sequence'\n",
       "12. 'feature_type'\n",
       "13. 'X'\n",
       "14. 'in_sample'\n",
       "15. 'measurement_tp'\n",
       "16. 'sc_rna_seq_data'\n",
       "17. 'age'\n",
       "18. 'sex'\n",
       "19. 'classification'\n",
       "20. 'group'\n",
       "21. 'meta_data'\n",
       "22. 'delta_ef_value_group'\n",
       "23. 'delta_ef_value'\n",
       "24. 'delta_ef_value_class'\n",
       "25. 'ef_classification_data'\n",
       "26. 'CK'\n",
       "27. 'CK_MB'\n",
       "28. 'Troponin'\n",
       "29. 'CRP'\n",
       "30. 'clinical_data'\n",
       "31. 'CK_raw'\n",
       "32. 'class'\n",
       "33. 'measurement2'\n",
       "34. 'measurement_class'\n",
       "35. 'delta_ef_value_class_summarized'\n",
       "36. 'tp_outcome'\n",
       "\n",
       "\n"
      ],
      "text/plain": [
       " [1] \"X.1\"                             \"sample_id\"                      \n",
       " [3] \"sample\"                          \"id\"                             \n",
       " [5] \"measurement\"                     \"library\"                        \n",
       " [7] \"id.y\"                            \"name\"                           \n",
       " [9] \"read\"                            \"pattern\"                        \n",
       "[11] \"sequence\"                        \"feature_type\"                   \n",
       "[13] \"X\"                               \"in_sample\"                      \n",
       "[15] \"measurement_tp\"                  \"sc_rna_seq_data\"                \n",
       "[17] \"age\"                             \"sex\"                            \n",
       "[19] \"classification\"                  \"group\"                          \n",
       "[21] \"meta_data\"                       \"delta_ef_value_group\"           \n",
       "[23] \"delta_ef_value\"                  \"delta_ef_value_class\"           \n",
       "[25] \"ef_classification_data\"          \"CK\"                             \n",
       "[27] \"CK_MB\"                           \"Troponin\"                       \n",
       "[29] \"CRP\"                             \"clinical_data\"                  \n",
       "[31] \"CK_raw\"                          \"class\"                          \n",
       "[33] \"measurement2\"                    \"measurement_class\"              \n",
       "[35] \"delta_ef_value_class_summarized\" \"tp_outcome\"                     "
      ]
     },
     "metadata": {},
     "output_type": "display_data"
    }
   ],
   "source": [
    "colnames(sample_data)"
   ]
  },
  {
   "cell_type": "code",
   "execution_count": 149,
   "id": "82164b09-68e0-48b8-9b1d-99fe5cd2f812",
   "metadata": {},
   "outputs": [
    {
     "data": {
      "text/html": [
       "<style>\n",
       ".list-inline {list-style: none; margin:0; padding: 0}\n",
       ".list-inline>li {display: inline-block}\n",
       ".list-inline>li:not(:last-child)::after {content: \"\\00b7\"; padding: 0 .5ex}\n",
       "</style>\n",
       "<ol class=list-inline><li>'TP0_no_ccs'</li><li>'TP0_ccs'</li><li>'TP1'</li><li>'TP2'</li><li>'TP3'</li><li>'TP4'</li></ol>\n"
      ],
      "text/latex": [
       "\\begin{enumerate*}\n",
       "\\item 'TP0\\_no\\_ccs'\n",
       "\\item 'TP0\\_ccs'\n",
       "\\item 'TP1'\n",
       "\\item 'TP2'\n",
       "\\item 'TP3'\n",
       "\\item 'TP4'\n",
       "\\end{enumerate*}\n"
      ],
      "text/markdown": [
       "1. 'TP0_no_ccs'\n",
       "2. 'TP0_ccs'\n",
       "3. 'TP1'\n",
       "4. 'TP2'\n",
       "5. 'TP3'\n",
       "6. 'TP4'\n",
       "\n",
       "\n"
      ],
      "text/plain": [
       "[1] \"TP0_no_ccs\" \"TP0_ccs\"    \"TP1\"        \"TP2\"        \"TP3\"       \n",
       "[6] \"TP4\"       "
      ]
     },
     "metadata": {},
     "output_type": "display_data"
    }
   ],
   "source": [
    "unique(sample_data$measurement2)"
   ]
  },
  {
   "cell_type": "code",
   "execution_count": 150,
   "id": "73f90019-3916-4e6b-be32-4368d85ab576",
   "metadata": {},
   "outputs": [
    {
     "data": {
      "text/html": [
       "149"
      ],
      "text/latex": [
       "149"
      ],
      "text/markdown": [
       "149"
      ],
      "text/plain": [
       "[1] 149"
      ]
     },
     "metadata": {},
     "output_type": "display_data"
    }
   ],
   "source": [
    "nrow(sample_data)"
   ]
  },
  {
   "cell_type": "code",
   "execution_count": 151,
   "id": "5703bcae-177c-4923-abc5-9a2f5e7dc428",
   "metadata": {},
   "outputs": [
    {
     "data": {
      "text/html": [
       "149"
      ],
      "text/latex": [
       "149"
      ],
      "text/markdown": [
       "149"
      ],
      "text/plain": [
       "[1] 149"
      ]
     },
     "metadata": {},
     "output_type": "display_data"
    }
   ],
   "source": [
    "length(unique(sample_data$sample_id))"
   ]
  },
  {
   "cell_type": "code",
   "execution_count": 152,
   "id": "9dfed1df-9c4e-4084-b76d-97959c75c1c4",
   "metadata": {
    "tags": []
   },
   "outputs": [],
   "source": [
    "factors_merge = data.frame(factors)"
   ]
  },
  {
   "cell_type": "code",
   "execution_count": 153,
   "id": "b0242a54-2bb7-4778-8ccd-b5fb3ced0afa",
   "metadata": {
    "tags": []
   },
   "outputs": [],
   "source": [
    "factors_merge$sample_id = rownames(factors_merge)"
   ]
  },
  {
   "cell_type": "code",
   "execution_count": 154,
   "id": "765f6506-47e8-4f50-b22d-d3bd4d1c7e33",
   "metadata": {
    "tags": []
   },
   "outputs": [],
   "source": [
    "merged_data = merge(factors_merge, sample_data, by.x = 'sample_id', by.y = 'sample_id')"
   ]
  },
  {
   "cell_type": "code",
   "execution_count": 155,
   "id": "b05ae6cd-94c2-483e-a497-cdb2f894ee16",
   "metadata": {},
   "outputs": [],
   "source": [
    "#summary(merged_data)"
   ]
  },
  {
   "cell_type": "code",
   "execution_count": 156,
   "id": "64f223d3-287c-4d03-9e89-26c30333d0cd",
   "metadata": {},
   "outputs": [
    {
     "data": {
      "text/html": [
       "128"
      ],
      "text/latex": [
       "128"
      ],
      "text/markdown": [
       "128"
      ],
      "text/plain": [
       "[1] 128"
      ]
     },
     "metadata": {},
     "output_type": "display_data"
    }
   ],
   "source": [
    "length(unique(merged_data$sample_id))"
   ]
  },
  {
   "cell_type": "code",
   "execution_count": 157,
   "id": "f602615b-ee1f-4880-8729-e0f592723439",
   "metadata": {},
   "outputs": [
    {
     "data": {
      "text/html": [
       "128"
      ],
      "text/latex": [
       "128"
      ],
      "text/markdown": [
       "128"
      ],
      "text/plain": [
       "[1] 128"
      ]
     },
     "metadata": {},
     "output_type": "display_data"
    }
   ],
   "source": [
    "nrow(merged_data)"
   ]
  },
  {
   "cell_type": "code",
   "execution_count": 158,
   "id": "222bcaa8-2e7d-4883-9fe4-9b1740ebcd9a",
   "metadata": {},
   "outputs": [],
   "source": [
    "### Prepare long format and add necessary sample columns"
   ]
  },
  {
   "cell_type": "code",
   "execution_count": 159,
   "id": "2e751414-839c-47e6-b029-45160d9c8cff",
   "metadata": {},
   "outputs": [],
   "source": [
    "merged_data$delta_ef_value = as.character(merged_data$delta_ef_value)"
   ]
  },
  {
   "cell_type": "code",
   "execution_count": 160,
   "id": "00acb4a5-9b9a-4e2a-97f4-12bf97dbcf5b",
   "metadata": {},
   "outputs": [
    {
     "name": "stderr",
     "output_type": "stream",
     "text": [
      "Using sample_id, sample, measurement, library, id.y, name, read, pattern, sequence, feature_type, X, measurement_tp, sex, classification, group, delta_ef_value_group, delta_ef_value, delta_ef_value_class, class, measurement2, measurement_class, delta_ef_value_class_summarized, tp_outcome as id variables\n",
      "\n"
     ]
    }
   ],
   "source": [
    "merged_data_long = melt(merged_data)"
   ]
  },
  {
   "cell_type": "code",
   "execution_count": 161,
   "id": "428a4745-d671-44df-9833-421d72a5a5f3",
   "metadata": {},
   "outputs": [],
   "source": [
    "merged_data_long = merged_data_long[!is.na(str_extract(merged_data_long$variable, 'Factor')),]"
   ]
  },
  {
   "cell_type": "code",
   "execution_count": 162,
   "id": "8c055c50-80d2-401c-819c-8b872d84768d",
   "metadata": {},
   "outputs": [
    {
     "data": {
      "text/html": [
       "<style>\n",
       ".list-inline {list-style: none; margin:0; padding: 0}\n",
       ".list-inline>li {display: inline-block}\n",
       ".list-inline>li:not(:last-child)::after {content: \"\\00b7\"; padding: 0 .5ex}\n",
       "</style>\n",
       "<ol class=list-inline><li>'sample_id'</li><li>'sample'</li><li>'measurement'</li><li>'library'</li><li>'id.y'</li><li>'name'</li><li>'read'</li><li>'pattern'</li><li>'sequence'</li><li>'feature_type'</li><li>'X'</li><li>'measurement_tp'</li><li>'sex'</li><li>'classification'</li><li>'group'</li><li>'delta_ef_value_group'</li><li>'delta_ef_value'</li><li>'delta_ef_value_class'</li><li>'class'</li><li>'measurement2'</li><li>'measurement_class'</li><li>'delta_ef_value_class_summarized'</li><li>'tp_outcome'</li><li>'variable'</li><li>'value'</li></ol>\n"
      ],
      "text/latex": [
       "\\begin{enumerate*}\n",
       "\\item 'sample\\_id'\n",
       "\\item 'sample'\n",
       "\\item 'measurement'\n",
       "\\item 'library'\n",
       "\\item 'id.y'\n",
       "\\item 'name'\n",
       "\\item 'read'\n",
       "\\item 'pattern'\n",
       "\\item 'sequence'\n",
       "\\item 'feature\\_type'\n",
       "\\item 'X'\n",
       "\\item 'measurement\\_tp'\n",
       "\\item 'sex'\n",
       "\\item 'classification'\n",
       "\\item 'group'\n",
       "\\item 'delta\\_ef\\_value\\_group'\n",
       "\\item 'delta\\_ef\\_value'\n",
       "\\item 'delta\\_ef\\_value\\_class'\n",
       "\\item 'class'\n",
       "\\item 'measurement2'\n",
       "\\item 'measurement\\_class'\n",
       "\\item 'delta\\_ef\\_value\\_class\\_summarized'\n",
       "\\item 'tp\\_outcome'\n",
       "\\item 'variable'\n",
       "\\item 'value'\n",
       "\\end{enumerate*}\n"
      ],
      "text/markdown": [
       "1. 'sample_id'\n",
       "2. 'sample'\n",
       "3. 'measurement'\n",
       "4. 'library'\n",
       "5. 'id.y'\n",
       "6. 'name'\n",
       "7. 'read'\n",
       "8. 'pattern'\n",
       "9. 'sequence'\n",
       "10. 'feature_type'\n",
       "11. 'X'\n",
       "12. 'measurement_tp'\n",
       "13. 'sex'\n",
       "14. 'classification'\n",
       "15. 'group'\n",
       "16. 'delta_ef_value_group'\n",
       "17. 'delta_ef_value'\n",
       "18. 'delta_ef_value_class'\n",
       "19. 'class'\n",
       "20. 'measurement2'\n",
       "21. 'measurement_class'\n",
       "22. 'delta_ef_value_class_summarized'\n",
       "23. 'tp_outcome'\n",
       "24. 'variable'\n",
       "25. 'value'\n",
       "\n",
       "\n"
      ],
      "text/plain": [
       " [1] \"sample_id\"                       \"sample\"                         \n",
       " [3] \"measurement\"                     \"library\"                        \n",
       " [5] \"id.y\"                            \"name\"                           \n",
       " [7] \"read\"                            \"pattern\"                        \n",
       " [9] \"sequence\"                        \"feature_type\"                   \n",
       "[11] \"X\"                               \"measurement_tp\"                 \n",
       "[13] \"sex\"                             \"classification\"                 \n",
       "[15] \"group\"                           \"delta_ef_value_group\"           \n",
       "[17] \"delta_ef_value\"                  \"delta_ef_value_class\"           \n",
       "[19] \"class\"                           \"measurement2\"                   \n",
       "[21] \"measurement_class\"               \"delta_ef_value_class_summarized\"\n",
       "[23] \"tp_outcome\"                      \"variable\"                       \n",
       "[25] \"value\"                          "
      ]
     },
     "metadata": {},
     "output_type": "display_data"
    }
   ],
   "source": [
    "colnames(merged_data_long)"
   ]
  },
  {
   "cell_type": "code",
   "execution_count": 163,
   "id": "49ffbcb1-8bc8-40ab-b69d-d3293d35f41e",
   "metadata": {},
   "outputs": [
    {
     "data": {
      "text/html": [
       "<style>\n",
       ".list-inline {list-style: none; margin:0; padding: 0}\n",
       ".list-inline>li {display: inline-block}\n",
       ".list-inline>li:not(:last-child)::after {content: \"\\00b7\"; padding: 0 .5ex}\n",
       "</style>\n",
       "<ol class=list-inline><li>'vollstaendiger_ausschluss'</li><li>'ccs'</li><li>'koronarsklerose'</li><li>'acs_subacute'</li><li>'acs_w_infection'</li><li>'acs_w_o_infection'</li></ol>\n"
      ],
      "text/latex": [
       "\\begin{enumerate*}\n",
       "\\item 'vollstaendiger\\_ausschluss'\n",
       "\\item 'ccs'\n",
       "\\item 'koronarsklerose'\n",
       "\\item 'acs\\_subacute'\n",
       "\\item 'acs\\_w\\_infection'\n",
       "\\item 'acs\\_w\\_o\\_infection'\n",
       "\\end{enumerate*}\n"
      ],
      "text/markdown": [
       "1. 'vollstaendiger_ausschluss'\n",
       "2. 'ccs'\n",
       "3. 'koronarsklerose'\n",
       "4. 'acs_subacute'\n",
       "5. 'acs_w_infection'\n",
       "6. 'acs_w_o_infection'\n",
       "\n",
       "\n"
      ],
      "text/plain": [
       "[1] \"vollstaendiger_ausschluss\" \"ccs\"                      \n",
       "[3] \"koronarsklerose\"           \"acs_subacute\"             \n",
       "[5] \"acs_w_infection\"           \"acs_w_o_infection\"        "
      ]
     },
     "metadata": {},
     "output_type": "display_data"
    }
   ],
   "source": [
    "unique(merged_data_long$classification)"
   ]
  },
  {
   "cell_type": "code",
   "execution_count": 164,
   "id": "daf70f82-d7b4-40cb-9797-0f8af86cae1c",
   "metadata": {},
   "outputs": [
    {
     "data": {
      "text/html": [
       "<style>\n",
       ".list-inline {list-style: none; margin:0; padding: 0}\n",
       ".list-inline>li {display: inline-block}\n",
       ".list-inline>li:not(:last-child)::after {content: \"\\00b7\"; padding: 0 .5ex}\n",
       "</style>\n",
       "<ol class=list-inline><li>'TP0'</li><li>'TP1'</li><li>'TP2'</li><li>'TP3'</li><li>'TP4'</li></ol>\n"
      ],
      "text/latex": [
       "\\begin{enumerate*}\n",
       "\\item 'TP0'\n",
       "\\item 'TP1'\n",
       "\\item 'TP2'\n",
       "\\item 'TP3'\n",
       "\\item 'TP4'\n",
       "\\end{enumerate*}\n"
      ],
      "text/markdown": [
       "1. 'TP0'\n",
       "2. 'TP1'\n",
       "3. 'TP2'\n",
       "4. 'TP3'\n",
       "5. 'TP4'\n",
       "\n",
       "\n"
      ],
      "text/plain": [
       "[1] \"TP0\" \"TP1\" \"TP2\" \"TP3\" \"TP4\""
      ]
     },
     "metadata": {},
     "output_type": "display_data"
    }
   ],
   "source": [
    "unique(merged_data_long$measurement)"
   ]
  },
  {
   "cell_type": "code",
   "execution_count": 165,
   "id": "64aa64d4-31d7-4b45-9638-c6078a48fb59",
   "metadata": {},
   "outputs": [
    {
     "data": {
      "text/html": [
       "<style>\n",
       ".list-inline {list-style: none; margin:0; padding: 0}\n",
       ".list-inline>li {display: inline-block}\n",
       ".list-inline>li:not(:last-child)::after {content: \"\\00b7\"; padding: 0 .5ex}\n",
       "</style>\n",
       "<ol class=list-inline><li>'TP0_vollstaendiger_ausschluss'</li><li>'TP0_ccs'</li><li>'TP0_koronarsklerose'</li><li>'TP1_acs_subacute'</li><li>'TP1_acs_w_infection'</li><li>'TP2_acs_w_infection'</li><li>'TP3_acs_w_infection'</li><li>'TP1_acs_w_o_infection'</li><li>'TP2_acs_w_o_infection'</li><li>'TP3_acs_w_o_infection'</li><li>'TP4_acs_w_o_infection'</li><li>'TP4_acs_w_infection'</li><li>'TP2_acs_subacute'</li><li>'TP3_acs_subacute'</li><li>'TP4_acs_subacute'</li></ol>\n"
      ],
      "text/latex": [
       "\\begin{enumerate*}\n",
       "\\item 'TP0\\_vollstaendiger\\_ausschluss'\n",
       "\\item 'TP0\\_ccs'\n",
       "\\item 'TP0\\_koronarsklerose'\n",
       "\\item 'TP1\\_acs\\_subacute'\n",
       "\\item 'TP1\\_acs\\_w\\_infection'\n",
       "\\item 'TP2\\_acs\\_w\\_infection'\n",
       "\\item 'TP3\\_acs\\_w\\_infection'\n",
       "\\item 'TP1\\_acs\\_w\\_o\\_infection'\n",
       "\\item 'TP2\\_acs\\_w\\_o\\_infection'\n",
       "\\item 'TP3\\_acs\\_w\\_o\\_infection'\n",
       "\\item 'TP4\\_acs\\_w\\_o\\_infection'\n",
       "\\item 'TP4\\_acs\\_w\\_infection'\n",
       "\\item 'TP2\\_acs\\_subacute'\n",
       "\\item 'TP3\\_acs\\_subacute'\n",
       "\\item 'TP4\\_acs\\_subacute'\n",
       "\\end{enumerate*}\n"
      ],
      "text/markdown": [
       "1. 'TP0_vollstaendiger_ausschluss'\n",
       "2. 'TP0_ccs'\n",
       "3. 'TP0_koronarsklerose'\n",
       "4. 'TP1_acs_subacute'\n",
       "5. 'TP1_acs_w_infection'\n",
       "6. 'TP2_acs_w_infection'\n",
       "7. 'TP3_acs_w_infection'\n",
       "8. 'TP1_acs_w_o_infection'\n",
       "9. 'TP2_acs_w_o_infection'\n",
       "10. 'TP3_acs_w_o_infection'\n",
       "11. 'TP4_acs_w_o_infection'\n",
       "12. 'TP4_acs_w_infection'\n",
       "13. 'TP2_acs_subacute'\n",
       "14. 'TP3_acs_subacute'\n",
       "15. 'TP4_acs_subacute'\n",
       "\n",
       "\n"
      ],
      "text/plain": [
       " [1] \"TP0_vollstaendiger_ausschluss\" \"TP0_ccs\"                      \n",
       " [3] \"TP0_koronarsklerose\"           \"TP1_acs_subacute\"             \n",
       " [5] \"TP1_acs_w_infection\"           \"TP2_acs_w_infection\"          \n",
       " [7] \"TP3_acs_w_infection\"           \"TP1_acs_w_o_infection\"        \n",
       " [9] \"TP2_acs_w_o_infection\"         \"TP3_acs_w_o_infection\"        \n",
       "[11] \"TP4_acs_w_o_infection\"         \"TP4_acs_w_infection\"          \n",
       "[13] \"TP2_acs_subacute\"              \"TP3_acs_subacute\"             \n",
       "[15] \"TP4_acs_subacute\"             "
      ]
     },
     "metadata": {},
     "output_type": "display_data"
    }
   ],
   "source": [
    "unique(merged_data_long$measurement_class)"
   ]
  },
  {
   "cell_type": "code",
   "execution_count": 166,
   "id": "2f487f73-126a-4e82-b836-3ebc2673f256",
   "metadata": {},
   "outputs": [],
   "source": [
    "merged_data_long$class_measurement = merged_data_long$group\n",
    "merged_data_long$class_measurement[merged_data_long$measurement %in% c('TP1', 'TP2', 'TP3', 'TP4')] =merged_data_long$measurement[merged_data_long$measurement %in% c('TP1', 'TP2', 'TP3', 'TP4')] "
   ]
  },
  {
   "cell_type": "code",
   "execution_count": 167,
   "id": "1a6bbaa9-67d3-42f8-a99b-bf2e2f0c8763",
   "metadata": {},
   "outputs": [
    {
     "data": {
      "text/html": [
       "<style>\n",
       ".list-inline {list-style: none; margin:0; padding: 0}\n",
       ".list-inline>li {display: inline-block}\n",
       ".list-inline>li:not(:last-child)::after {content: \"\\00b7\"; padding: 0 .5ex}\n",
       "</style>\n",
       "<ol class=list-inline><li>'no_ccs'</li><li>'ccs'</li><li>'TP1'</li><li>'TP2'</li><li>'TP3'</li><li>'TP4'</li></ol>\n"
      ],
      "text/latex": [
       "\\begin{enumerate*}\n",
       "\\item 'no\\_ccs'\n",
       "\\item 'ccs'\n",
       "\\item 'TP1'\n",
       "\\item 'TP2'\n",
       "\\item 'TP3'\n",
       "\\item 'TP4'\n",
       "\\end{enumerate*}\n"
      ],
      "text/markdown": [
       "1. 'no_ccs'\n",
       "2. 'ccs'\n",
       "3. 'TP1'\n",
       "4. 'TP2'\n",
       "5. 'TP3'\n",
       "6. 'TP4'\n",
       "\n",
       "\n"
      ],
      "text/plain": [
       "[1] \"no_ccs\" \"ccs\"    \"TP1\"    \"TP2\"    \"TP3\"    \"TP4\"   "
      ]
     },
     "metadata": {},
     "output_type": "display_data"
    }
   ],
   "source": [
    "unique(merged_data_long$class_measurement)"
   ]
  },
  {
   "cell_type": "markdown",
   "id": "54614460-8316-4de8-9b39-b15e311ed0e6",
   "metadata": {},
   "source": [
    "## Extract explained variance for plotting"
   ]
  },
  {
   "cell_type": "code",
   "execution_count": 168,
   "id": "a3da82df-255f-4649-9c90-b481b4af5324",
   "metadata": {},
   "outputs": [],
   "source": [
    "data = model@cache$variance_explained$r2_per_factor[[1]]"
   ]
  },
  {
   "cell_type": "code",
   "execution_count": 169,
   "id": "a9c774fb-2a77-4a89-bdff-3d9d373fc1e6",
   "metadata": {},
   "outputs": [],
   "source": [
    "total_variance = data.frame( view = rownames(model@cache[[\"variance_explained\"]]$r2_total$group1,2),\n",
    "                             total_variance = model@cache[[\"variance_explained\"]]$r2_total$group1)"
   ]
  },
  {
   "cell_type": "code",
   "execution_count": 170,
   "id": "04fc642d-19c0-407e-9e2a-8df639d90606",
   "metadata": {},
   "outputs": [],
   "source": [
    "total_variance_factor = data.frame(factor = names(rowMeans(model@cache$variance_explained$r2_per_factor[[1]])),\n",
    "                                   mean_variance = rowMeans(model@cache$variance_explained$r2_per_factor[[1]]))"
   ]
  },
  {
   "cell_type": "code",
   "execution_count": 171,
   "id": "c63d8320-ac5f-40f1-be93-378276b02681",
   "metadata": {},
   "outputs": [
    {
     "data": {
      "text/html": [
       "<table class=\"dataframe\">\n",
       "<caption>A data.frame: 2 × 2</caption>\n",
       "<thead>\n",
       "\t<tr><th></th><th scope=col>factor</th><th scope=col>mean_variance</th></tr>\n",
       "\t<tr><th></th><th scope=col>&lt;chr&gt;</th><th scope=col>&lt;dbl&gt;</th></tr>\n",
       "</thead>\n",
       "<tbody>\n",
       "\t<tr><th scope=row>Factor1</th><td>Factor1</td><td>5.661422</td></tr>\n",
       "\t<tr><th scope=row>Factor2</th><td>Factor2</td><td>4.430318</td></tr>\n",
       "</tbody>\n",
       "</table>\n"
      ],
      "text/latex": [
       "A data.frame: 2 × 2\n",
       "\\begin{tabular}{r|ll}\n",
       "  & factor & mean\\_variance\\\\\n",
       "  & <chr> & <dbl>\\\\\n",
       "\\hline\n",
       "\tFactor1 & Factor1 & 5.661422\\\\\n",
       "\tFactor2 & Factor2 & 4.430318\\\\\n",
       "\\end{tabular}\n"
      ],
      "text/markdown": [
       "\n",
       "A data.frame: 2 × 2\n",
       "\n",
       "| <!--/--> | factor &lt;chr&gt; | mean_variance &lt;dbl&gt; |\n",
       "|---|---|---|\n",
       "| Factor1 | Factor1 | 5.661422 |\n",
       "| Factor2 | Factor2 | 4.430318 |\n",
       "\n"
      ],
      "text/plain": [
       "        factor  mean_variance\n",
       "Factor1 Factor1 5.661422     \n",
       "Factor2 Factor2 4.430318     "
      ]
     },
     "metadata": {},
     "output_type": "display_data"
    }
   ],
   "source": [
    "head(total_variance_factor,2)"
   ]
  },
  {
   "cell_type": "code",
   "execution_count": 172,
   "id": "bd07148a-7db9-4fa2-95ed-71aa674c312e",
   "metadata": {},
   "outputs": [
    {
     "name": "stdout",
     "output_type": "stream",
     "text": [
      "List of 2\n",
      " $ r2_total     :List of 1\n",
      "  ..$ group1: num [1:17(1d)] 22.9 19.2 13.7 49.8 48.7 ...\n",
      "  .. ..- attr(*, \"dimnames\")=List of 1\n",
      "  .. .. ..$ : chr [1:17] \"cytokine\" \"neutrophil\" \"proteomics\" \"X0_TcellCD4\" ...\n",
      " $ r2_per_factor:List of 1\n",
      "  ..$ group1: num [1:20, 1:17] 0.212 2.869 1.855 3.066 1.507 ...\n",
      "  .. ..- attr(*, \"dimnames\")=List of 2\n",
      "  .. .. ..$ : chr [1:20] \"Factor1\" \"Factor2\" \"Factor3\" \"Factor4\" ...\n",
      "  .. .. ..$ : chr [1:17] \"cytokine\" \"neutrophil\" \"proteomics\" \"X0_TcellCD4\" ...\n"
     ]
    }
   ],
   "source": [
    "str(model@cache$variance_explained)"
   ]
  },
  {
   "cell_type": "code",
   "execution_count": 173,
   "id": "8410d247-978f-40c4-a964-16f9e3a7dff1",
   "metadata": {},
   "outputs": [
    {
     "data": {
      "text/html": [
       "<table class=\"dataframe\">\n",
       "<caption>A data.frame: 2 × 2</caption>\n",
       "<thead>\n",
       "\t<tr><th></th><th scope=col>view</th><th scope=col>total_variance</th></tr>\n",
       "\t<tr><th></th><th scope=col>&lt;chr&gt;</th><th scope=col>&lt;dbl&gt;</th></tr>\n",
       "</thead>\n",
       "<tbody>\n",
       "\t<tr><th scope=row>cytokine</th><td>cytokine  </td><td>22.94654</td></tr>\n",
       "\t<tr><th scope=row>neutrophil</th><td>neutrophil</td><td>19.16572</td></tr>\n",
       "</tbody>\n",
       "</table>\n"
      ],
      "text/latex": [
       "A data.frame: 2 × 2\n",
       "\\begin{tabular}{r|ll}\n",
       "  & view & total\\_variance\\\\\n",
       "  & <chr> & <dbl>\\\\\n",
       "\\hline\n",
       "\tcytokine & cytokine   & 22.94654\\\\\n",
       "\tneutrophil & neutrophil & 19.16572\\\\\n",
       "\\end{tabular}\n"
      ],
      "text/markdown": [
       "\n",
       "A data.frame: 2 × 2\n",
       "\n",
       "| <!--/--> | view &lt;chr&gt; | total_variance &lt;dbl&gt; |\n",
       "|---|---|---|\n",
       "| cytokine | cytokine   | 22.94654 |\n",
       "| neutrophil | neutrophil | 19.16572 |\n",
       "\n"
      ],
      "text/plain": [
       "           view       total_variance\n",
       "cytokine   cytokine   22.94654      \n",
       "neutrophil neutrophil 19.16572      "
      ]
     },
     "metadata": {},
     "output_type": "display_data"
    }
   ],
   "source": [
    "head(total_variance,2)"
   ]
  },
  {
   "cell_type": "code",
   "execution_count": 174,
   "id": "90428b15-e6a0-4f1c-9e77-53f39a82c3a6",
   "metadata": {},
   "outputs": [],
   "source": [
    "data = melt(data)"
   ]
  },
  {
   "cell_type": "code",
   "execution_count": 175,
   "id": "9c258597-93f4-445f-9081-588618803ee9",
   "metadata": {},
   "outputs": [],
   "source": [
    "data = merge(data, total_variance, by.x = 'Var2', by.y = 'view')"
   ]
  },
  {
   "cell_type": "code",
   "execution_count": 176,
   "id": "d5bc1e38-7522-412e-9816-88e3c41454f2",
   "metadata": {},
   "outputs": [
    {
     "data": {
      "text/html": [
       "<table class=\"dataframe\">\n",
       "<caption>A data.frame: 2 × 4</caption>\n",
       "<thead>\n",
       "\t<tr><th></th><th scope=col>Var2</th><th scope=col>Var1</th><th scope=col>value</th><th scope=col>total_variance</th></tr>\n",
       "\t<tr><th></th><th scope=col>&lt;fct&gt;</th><th scope=col>&lt;fct&gt;</th><th scope=col>&lt;dbl&gt;</th><th scope=col>&lt;dbl&gt;</th></tr>\n",
       "</thead>\n",
       "<tbody>\n",
       "\t<tr><th scope=row>1</th><td>cytokine</td><td>Factor1</td><td>0.2123375</td><td>22.94654</td></tr>\n",
       "\t<tr><th scope=row>2</th><td>cytokine</td><td>Factor2</td><td>2.8688484</td><td>22.94654</td></tr>\n",
       "</tbody>\n",
       "</table>\n"
      ],
      "text/latex": [
       "A data.frame: 2 × 4\n",
       "\\begin{tabular}{r|llll}\n",
       "  & Var2 & Var1 & value & total\\_variance\\\\\n",
       "  & <fct> & <fct> & <dbl> & <dbl>\\\\\n",
       "\\hline\n",
       "\t1 & cytokine & Factor1 & 0.2123375 & 22.94654\\\\\n",
       "\t2 & cytokine & Factor2 & 2.8688484 & 22.94654\\\\\n",
       "\\end{tabular}\n"
      ],
      "text/markdown": [
       "\n",
       "A data.frame: 2 × 4\n",
       "\n",
       "| <!--/--> | Var2 &lt;fct&gt; | Var1 &lt;fct&gt; | value &lt;dbl&gt; | total_variance &lt;dbl&gt; |\n",
       "|---|---|---|---|---|\n",
       "| 1 | cytokine | Factor1 | 0.2123375 | 22.94654 |\n",
       "| 2 | cytokine | Factor2 | 2.8688484 | 22.94654 |\n",
       "\n"
      ],
      "text/plain": [
       "  Var2     Var1    value     total_variance\n",
       "1 cytokine Factor1 0.2123375 22.94654      \n",
       "2 cytokine Factor2 2.8688484 22.94654      "
      ]
     },
     "metadata": {},
     "output_type": "display_data"
    }
   ],
   "source": [
    "head(data,2)"
   ]
  },
  {
   "cell_type": "code",
   "execution_count": 177,
   "id": "e764b8f3-df0a-49e0-afea-1ef49d286fe2",
   "metadata": {},
   "outputs": [],
   "source": [
    "#data = data[data$Var1 %in% c('Factor1', 'Factor2', 'Factor3', 'Factor4', 'Factor5'),]"
   ]
  },
  {
   "cell_type": "code",
   "execution_count": 178,
   "id": "3b8b89a0-2492-4291-928a-da1e6511e874",
   "metadata": {},
   "outputs": [],
   "source": [
    "data$Var2 = str_replace(data$Var2, 'X0_TcellCD4', 'CD4+ T cells (Cluster 0)')\n",
    "data$Var2 = str_replace(data$Var2, 'clinical_data', 'Clinical')\n",
    "data$Var2 = str_replace(data$Var2, 'X1_TcellCD8', 'CD8+ T cells (Cluster 1)')\n",
    "data$Var2 = str_replace(data$Var2, 'X10_Bcell', 'B cells (Cluster 10)')\n",
    "data$Var2 = str_replace(data$Var2, 'X11_TcellCD4', 'CD4+ T cells (Cluster 11)')\n",
    "data$Var2 = str_replace(data$Var2, 'X12_MonocytesCD16_FCGR3A', 'FCGR3A(high) Monocytes (Cluster 12)')\n",
    "data$Var2 = str_replace(data$Var2, 'X13_Dendritic', 'Dendritic cells (Cluster 13)')\n",
    "data$Var2 = str_replace(data$Var2, 'X2_TcellCD4', 'CD4+ T cells (Cluster 2)')\n",
    "data$Var2 = str_replace(data$Var2, 'X3_NK', 'NK cells (Cluster 3)')\n",
    "data$Var2 = str_replace(data$Var2, 'X4_MonocytesCD14', 'CD14(high) Monocytes (Cluster 4)')\n",
    "data$Var2 = str_replace(data$Var2, 'X5_TcellCD4', 'CD4+ T cells (Cluster 5)')\n",
    "data$Var2 = str_replace(data$Var2, 'X6_MonocytesCD14', 'CD14(high) Monocytes (Cluster 6)')\n",
    "data$Var2 = str_replace(data$Var2, 'X7_MonocytesCD14', 'CD14(high) Monocytes (Cluster 7)')\n",
    "data$Var2 = str_replace(data$Var2, 'X8_Bcell','B cells (Cluster 8)')\n",
    "data$Var2 = str_replace(data$Var2, 'X9_MonocytesCD16_FCGR3A','FCGR3A(high) Monocytes (Cluster 9)')\n",
    "\n",
    "\n",
    "data$Var2 = str_replace(data$Var2, 'clinical','Clinical')\n",
    "data$Var2 = str_replace(data$Var2, 'cytokine','Cytokine')\n",
    "data$Var2 = str_replace(data$Var2, 'neutrophil','Neutrophil')\n",
    "data$Var2 = str_replace(data$Var2, 'proteomics','Proteomics')"
   ]
  },
  {
   "cell_type": "code",
   "execution_count": 179,
   "id": "998d39b8-c91d-4894-84ea-4112bfceb5fe",
   "metadata": {},
   "outputs": [
    {
     "data": {
      "text/html": [
       "<style>\n",
       ".list-inline {list-style: none; margin:0; padding: 0}\n",
       ".list-inline>li {display: inline-block}\n",
       ".list-inline>li:not(:last-child)::after {content: \"\\00b7\"; padding: 0 .5ex}\n",
       "</style>\n",
       "<ol class=list-inline><li>'Cytokine'</li><li>'Neutrophil'</li><li>'Proteomics'</li><li>'CD4+ T cells (Cluster 0)'</li><li>'CD8+ T cells (Cluster 1)'</li><li>'B cells (Cluster 10)'</li><li>'CD4+ T cells (Cluster 11)'</li><li>'FCGR3A(high) Monocytes (Cluster 12)'</li><li>'Dendritic cells (Cluster 13)'</li><li>'CD4+ T cells (Cluster 2)'</li><li>'NK cells (Cluster 3)'</li><li>'CD14(high) Monocytes (Cluster 4)'</li><li>'CD4+ T cells (Cluster 5)'</li><li>'CD14(high) Monocytes (Cluster 6)'</li><li>'CD14(high) Monocytes (Cluster 7)'</li><li>'B cells (Cluster 8)'</li><li>'FCGR3A(high) Monocytes (Cluster 9)'</li></ol>\n"
      ],
      "text/latex": [
       "\\begin{enumerate*}\n",
       "\\item 'Cytokine'\n",
       "\\item 'Neutrophil'\n",
       "\\item 'Proteomics'\n",
       "\\item 'CD4+ T cells (Cluster 0)'\n",
       "\\item 'CD8+ T cells (Cluster 1)'\n",
       "\\item 'B cells (Cluster 10)'\n",
       "\\item 'CD4+ T cells (Cluster 11)'\n",
       "\\item 'FCGR3A(high) Monocytes (Cluster 12)'\n",
       "\\item 'Dendritic cells (Cluster 13)'\n",
       "\\item 'CD4+ T cells (Cluster 2)'\n",
       "\\item 'NK cells (Cluster 3)'\n",
       "\\item 'CD14(high) Monocytes (Cluster 4)'\n",
       "\\item 'CD4+ T cells (Cluster 5)'\n",
       "\\item 'CD14(high) Monocytes (Cluster 6)'\n",
       "\\item 'CD14(high) Monocytes (Cluster 7)'\n",
       "\\item 'B cells (Cluster 8)'\n",
       "\\item 'FCGR3A(high) Monocytes (Cluster 9)'\n",
       "\\end{enumerate*}\n"
      ],
      "text/markdown": [
       "1. 'Cytokine'\n",
       "2. 'Neutrophil'\n",
       "3. 'Proteomics'\n",
       "4. 'CD4+ T cells (Cluster 0)'\n",
       "5. 'CD8+ T cells (Cluster 1)'\n",
       "6. 'B cells (Cluster 10)'\n",
       "7. 'CD4+ T cells (Cluster 11)'\n",
       "8. 'FCGR3A(high) Monocytes (Cluster 12)'\n",
       "9. 'Dendritic cells (Cluster 13)'\n",
       "10. 'CD4+ T cells (Cluster 2)'\n",
       "11. 'NK cells (Cluster 3)'\n",
       "12. 'CD14(high) Monocytes (Cluster 4)'\n",
       "13. 'CD4+ T cells (Cluster 5)'\n",
       "14. 'CD14(high) Monocytes (Cluster 6)'\n",
       "15. 'CD14(high) Monocytes (Cluster 7)'\n",
       "16. 'B cells (Cluster 8)'\n",
       "17. 'FCGR3A(high) Monocytes (Cluster 9)'\n",
       "\n",
       "\n"
      ],
      "text/plain": [
       " [1] \"Cytokine\"                            \"Neutrophil\"                         \n",
       " [3] \"Proteomics\"                          \"CD4+ T cells (Cluster 0)\"           \n",
       " [5] \"CD8+ T cells (Cluster 1)\"            \"B cells (Cluster 10)\"               \n",
       " [7] \"CD4+ T cells (Cluster 11)\"           \"FCGR3A(high) Monocytes (Cluster 12)\"\n",
       " [9] \"Dendritic cells (Cluster 13)\"        \"CD4+ T cells (Cluster 2)\"           \n",
       "[11] \"NK cells (Cluster 3)\"                \"CD14(high) Monocytes (Cluster 4)\"   \n",
       "[13] \"CD4+ T cells (Cluster 5)\"            \"CD14(high) Monocytes (Cluster 6)\"   \n",
       "[15] \"CD14(high) Monocytes (Cluster 7)\"    \"B cells (Cluster 8)\"                \n",
       "[17] \"FCGR3A(high) Monocytes (Cluster 9)\" "
      ]
     },
     "metadata": {},
     "output_type": "display_data"
    }
   ],
   "source": [
    "unique(data$Var2)"
   ]
  },
  {
   "cell_type": "code",
   "execution_count": 180,
   "id": "f83b8c28-658c-4f0c-9178-1c246857417b",
   "metadata": {},
   "outputs": [],
   "source": [
    "data$Var2 = as.character(data$Var2)"
   ]
  },
  {
   "cell_type": "markdown",
   "id": "c92d389d-a9c5-4899-8c11-7705d59c0bf5",
   "metadata": {
    "tags": []
   },
   "source": [
    "## Prepare weight data"
   ]
  },
  {
   "cell_type": "code",
   "execution_count": 181,
   "id": "5ffb814f-fcde-4ea0-ad86-7aa6133c8f1a",
   "metadata": {},
   "outputs": [
    {
     "data": {
      "text/html": [
       "<table class=\"dataframe\">\n",
       "<caption>A data.frame: 2 × 22</caption>\n",
       "<thead>\n",
       "\t<tr><th></th><th scope=col>Factor1</th><th scope=col>Factor2</th><th scope=col>Factor3</th><th scope=col>Factor4</th><th scope=col>Factor5</th><th scope=col>Factor6</th><th scope=col>Factor7</th><th scope=col>Factor8</th><th scope=col>Factor9</th><th scope=col>Factor10</th><th scope=col>⋯</th><th scope=col>Factor13</th><th scope=col>Factor14</th><th scope=col>Factor15</th><th scope=col>Factor16</th><th scope=col>Factor17</th><th scope=col>Factor18</th><th scope=col>Factor19</th><th scope=col>Factor20</th><th scope=col>type</th><th scope=col>variable_name</th></tr>\n",
       "\t<tr><th></th><th scope=col>&lt;dbl&gt;</th><th scope=col>&lt;dbl&gt;</th><th scope=col>&lt;dbl&gt;</th><th scope=col>&lt;dbl&gt;</th><th scope=col>&lt;dbl&gt;</th><th scope=col>&lt;dbl&gt;</th><th scope=col>&lt;dbl&gt;</th><th scope=col>&lt;dbl&gt;</th><th scope=col>&lt;dbl&gt;</th><th scope=col>&lt;dbl&gt;</th><th scope=col>⋯</th><th scope=col>&lt;dbl&gt;</th><th scope=col>&lt;dbl&gt;</th><th scope=col>&lt;dbl&gt;</th><th scope=col>&lt;dbl&gt;</th><th scope=col>&lt;dbl&gt;</th><th scope=col>&lt;dbl&gt;</th><th scope=col>&lt;dbl&gt;</th><th scope=col>&lt;dbl&gt;</th><th scope=col>&lt;chr&gt;</th><th scope=col>&lt;chr&gt;</th></tr>\n",
       "</thead>\n",
       "<tbody>\n",
       "\t<tr><th scope=row>BCA1__CXCL13</th><td>0.007872607</td><td> 0.01834307</td><td>-0.01672033</td><td>-0.3090944808</td><td>-0.04257815</td><td>-0.04290609</td><td>0.02036166</td><td>-0.02911915</td><td>-0.09958332</td><td>-0.15661780</td><td>⋯</td><td>0.50467277</td><td> 0.04324221</td><td>0.6661882</td><td>-0.041123314</td><td>-0.20769065</td><td>0.1357149</td><td>-0.05794182</td><td>-0.009094946</td><td>cytokine</td><td>BCA1__CXCL13</td></tr>\n",
       "\t<tr><th scope=row>CTACK__CCL27</th><td>0.016026314</td><td>-0.17902272</td><td> 0.02978679</td><td>-0.0001092699</td><td> 0.08309032</td><td>-0.05366863</td><td>0.03047595</td><td>-0.03859843</td><td>-0.26235709</td><td>-0.02720419</td><td>⋯</td><td>0.09532608</td><td>-0.05772901</td><td>0.0201950</td><td>-0.004542783</td><td> 0.03819823</td><td>0.2465448</td><td>-0.03517982</td><td> 0.198791111</td><td>cytokine</td><td>CTACK__CCL27</td></tr>\n",
       "</tbody>\n",
       "</table>\n"
      ],
      "text/latex": [
       "A data.frame: 2 × 22\n",
       "\\begin{tabular}{r|lllllllllllllllllllll}\n",
       "  & Factor1 & Factor2 & Factor3 & Factor4 & Factor5 & Factor6 & Factor7 & Factor8 & Factor9 & Factor10 & ⋯ & Factor13 & Factor14 & Factor15 & Factor16 & Factor17 & Factor18 & Factor19 & Factor20 & type & variable\\_name\\\\\n",
       "  & <dbl> & <dbl> & <dbl> & <dbl> & <dbl> & <dbl> & <dbl> & <dbl> & <dbl> & <dbl> & ⋯ & <dbl> & <dbl> & <dbl> & <dbl> & <dbl> & <dbl> & <dbl> & <dbl> & <chr> & <chr>\\\\\n",
       "\\hline\n",
       "\tBCA1\\_\\_CXCL13 & 0.007872607 &  0.01834307 & -0.01672033 & -0.3090944808 & -0.04257815 & -0.04290609 & 0.02036166 & -0.02911915 & -0.09958332 & -0.15661780 & ⋯ & 0.50467277 &  0.04324221 & 0.6661882 & -0.041123314 & -0.20769065 & 0.1357149 & -0.05794182 & -0.009094946 & cytokine & BCA1\\_\\_CXCL13\\\\\n",
       "\tCTACK\\_\\_CCL27 & 0.016026314 & -0.17902272 &  0.02978679 & -0.0001092699 &  0.08309032 & -0.05366863 & 0.03047595 & -0.03859843 & -0.26235709 & -0.02720419 & ⋯ & 0.09532608 & -0.05772901 & 0.0201950 & -0.004542783 &  0.03819823 & 0.2465448 & -0.03517982 &  0.198791111 & cytokine & CTACK\\_\\_CCL27\\\\\n",
       "\\end{tabular}\n"
      ],
      "text/markdown": [
       "\n",
       "A data.frame: 2 × 22\n",
       "\n",
       "| <!--/--> | Factor1 &lt;dbl&gt; | Factor2 &lt;dbl&gt; | Factor3 &lt;dbl&gt; | Factor4 &lt;dbl&gt; | Factor5 &lt;dbl&gt; | Factor6 &lt;dbl&gt; | Factor7 &lt;dbl&gt; | Factor8 &lt;dbl&gt; | Factor9 &lt;dbl&gt; | Factor10 &lt;dbl&gt; | ⋯ ⋯ | Factor13 &lt;dbl&gt; | Factor14 &lt;dbl&gt; | Factor15 &lt;dbl&gt; | Factor16 &lt;dbl&gt; | Factor17 &lt;dbl&gt; | Factor18 &lt;dbl&gt; | Factor19 &lt;dbl&gt; | Factor20 &lt;dbl&gt; | type &lt;chr&gt; | variable_name &lt;chr&gt; |\n",
       "|---|---|---|---|---|---|---|---|---|---|---|---|---|---|---|---|---|---|---|---|---|---|\n",
       "| BCA1__CXCL13 | 0.007872607 |  0.01834307 | -0.01672033 | -0.3090944808 | -0.04257815 | -0.04290609 | 0.02036166 | -0.02911915 | -0.09958332 | -0.15661780 | ⋯ | 0.50467277 |  0.04324221 | 0.6661882 | -0.041123314 | -0.20769065 | 0.1357149 | -0.05794182 | -0.009094946 | cytokine | BCA1__CXCL13 |\n",
       "| CTACK__CCL27 | 0.016026314 | -0.17902272 |  0.02978679 | -0.0001092699 |  0.08309032 | -0.05366863 | 0.03047595 | -0.03859843 | -0.26235709 | -0.02720419 | ⋯ | 0.09532608 | -0.05772901 | 0.0201950 | -0.004542783 |  0.03819823 | 0.2465448 | -0.03517982 |  0.198791111 | cytokine | CTACK__CCL27 |\n",
       "\n"
      ],
      "text/plain": [
       "             Factor1     Factor2     Factor3     Factor4       Factor5    \n",
       "BCA1__CXCL13 0.007872607  0.01834307 -0.01672033 -0.3090944808 -0.04257815\n",
       "CTACK__CCL27 0.016026314 -0.17902272  0.02978679 -0.0001092699  0.08309032\n",
       "             Factor6     Factor7    Factor8     Factor9     Factor10    ⋯\n",
       "BCA1__CXCL13 -0.04290609 0.02036166 -0.02911915 -0.09958332 -0.15661780 ⋯\n",
       "CTACK__CCL27 -0.05366863 0.03047595 -0.03859843 -0.26235709 -0.02720419 ⋯\n",
       "             Factor13   Factor14    Factor15  Factor16     Factor17   \n",
       "BCA1__CXCL13 0.50467277  0.04324221 0.6661882 -0.041123314 -0.20769065\n",
       "CTACK__CCL27 0.09532608 -0.05772901 0.0201950 -0.004542783  0.03819823\n",
       "             Factor18  Factor19    Factor20     type     variable_name\n",
       "BCA1__CXCL13 0.1357149 -0.05794182 -0.009094946 cytokine BCA1__CXCL13 \n",
       "CTACK__CCL27 0.2465448 -0.03517982  0.198791111 cytokine CTACK__CCL27 "
      ]
     },
     "metadata": {},
     "output_type": "display_data"
    }
   ],
   "source": [
    "head(weight_data,2)"
   ]
  },
  {
   "cell_type": "code",
   "execution_count": 182,
   "id": "f67aee5e-d61b-4776-924d-9989419267c7",
   "metadata": {},
   "outputs": [],
   "source": [
    "weight_data$gene = weight_data$variable_name"
   ]
  },
  {
   "cell_type": "code",
   "execution_count": 183,
   "id": "8c76cf6d-0e81-4f96-9d12-9ec1e71e3628",
   "metadata": {},
   "outputs": [],
   "source": [
    "#weight_data$gene[weight_data$type == 'cytokine'] = str_extract(weight_data$variable_name[weight_data$type == 'cytokine'] , '__.*')"
   ]
  },
  {
   "cell_type": "code",
   "execution_count": 184,
   "id": "7f601ea4-d277-407c-a6bc-a405bd4c4b06",
   "metadata": {},
   "outputs": [],
   "source": [
    "#weight_data$gene[weight_data$type == 'proteomics'] = str_extract(weight_data$variable_name[weight_data$type == 'proteomics'] , '.*_')"
   ]
  },
  {
   "cell_type": "code",
   "execution_count": 185,
   "id": "edc0b9af-d161-4a07-96bd-a04a77cf71ca",
   "metadata": {},
   "outputs": [
    {
     "data": {
      "text/html": [
       "<style>\n",
       ".list-inline {list-style: none; margin:0; padding: 0}\n",
       ".list-inline>li {display: inline-block}\n",
       ".list-inline>li:not(:last-child)::after {content: \"\\00b7\"; padding: 0 .5ex}\n",
       "</style>\n",
       "<ol class=list-inline><li>'cytokine'</li><li>'neutrophil'</li><li>'proteomics'</li><li>'X0_TcellCD4'</li><li>'X1_TcellCD8'</li><li>'X10_Bcell'</li><li>'X11_TcellCD4'</li><li>'X12_MonocytesCD16_FCGR3A'</li><li>'X13_Dendritic'</li><li>'X2_TcellCD4'</li><li>'X3_NK'</li><li>'X4_MonocytesCD14'</li><li>'X5_TcellCD4'</li><li>'X6_MonocytesCD14'</li><li>'X7_MonocytesCD14'</li><li>'X8_Bcell'</li><li>'X9_MonocytesCD16_FCGR3A'</li></ol>\n"
      ],
      "text/latex": [
       "\\begin{enumerate*}\n",
       "\\item 'cytokine'\n",
       "\\item 'neutrophil'\n",
       "\\item 'proteomics'\n",
       "\\item 'X0\\_TcellCD4'\n",
       "\\item 'X1\\_TcellCD8'\n",
       "\\item 'X10\\_Bcell'\n",
       "\\item 'X11\\_TcellCD4'\n",
       "\\item 'X12\\_MonocytesCD16\\_FCGR3A'\n",
       "\\item 'X13\\_Dendritic'\n",
       "\\item 'X2\\_TcellCD4'\n",
       "\\item 'X3\\_NK'\n",
       "\\item 'X4\\_MonocytesCD14'\n",
       "\\item 'X5\\_TcellCD4'\n",
       "\\item 'X6\\_MonocytesCD14'\n",
       "\\item 'X7\\_MonocytesCD14'\n",
       "\\item 'X8\\_Bcell'\n",
       "\\item 'X9\\_MonocytesCD16\\_FCGR3A'\n",
       "\\end{enumerate*}\n"
      ],
      "text/markdown": [
       "1. 'cytokine'\n",
       "2. 'neutrophil'\n",
       "3. 'proteomics'\n",
       "4. 'X0_TcellCD4'\n",
       "5. 'X1_TcellCD8'\n",
       "6. 'X10_Bcell'\n",
       "7. 'X11_TcellCD4'\n",
       "8. 'X12_MonocytesCD16_FCGR3A'\n",
       "9. 'X13_Dendritic'\n",
       "10. 'X2_TcellCD4'\n",
       "11. 'X3_NK'\n",
       "12. 'X4_MonocytesCD14'\n",
       "13. 'X5_TcellCD4'\n",
       "14. 'X6_MonocytesCD14'\n",
       "15. 'X7_MonocytesCD14'\n",
       "16. 'X8_Bcell'\n",
       "17. 'X9_MonocytesCD16_FCGR3A'\n",
       "\n",
       "\n"
      ],
      "text/plain": [
       " [1] \"cytokine\"                 \"neutrophil\"              \n",
       " [3] \"proteomics\"               \"X0_TcellCD4\"             \n",
       " [5] \"X1_TcellCD8\"              \"X10_Bcell\"               \n",
       " [7] \"X11_TcellCD4\"             \"X12_MonocytesCD16_FCGR3A\"\n",
       " [9] \"X13_Dendritic\"            \"X2_TcellCD4\"             \n",
       "[11] \"X3_NK\"                    \"X4_MonocytesCD14\"        \n",
       "[13] \"X5_TcellCD4\"              \"X6_MonocytesCD14\"        \n",
       "[15] \"X7_MonocytesCD14\"         \"X8_Bcell\"                \n",
       "[17] \"X9_MonocytesCD16_FCGR3A\" "
      ]
     },
     "metadata": {},
     "output_type": "display_data"
    }
   ],
   "source": [
    "unique(weight_data$type)"
   ]
  },
  {
   "cell_type": "code",
   "execution_count": 186,
   "id": "c1d7ea14-dd39-4ca7-b2d6-b1c943fcb249",
   "metadata": {},
   "outputs": [],
   "source": [
    "weight_data$gene = str_replace(weight_data$variable_name, '.*__', '')"
   ]
  },
  {
   "cell_type": "code",
   "execution_count": 187,
   "id": "e3c00a84-e27c-4b0e-855d-41a38e4c473d",
   "metadata": {},
   "outputs": [],
   "source": [
    "weight_data$view = weight_data$type"
   ]
  },
  {
   "cell_type": "code",
   "execution_count": 188,
   "id": "9123e945-10be-48e0-b663-4c081cba86cb",
   "metadata": {},
   "outputs": [],
   "source": [
    "weight_data$view[!weight_data$type %in% c('cytokine','neutrophil','proteomics', 'clinical_data')] = str_replace(weight_data$variable_name[!weight_data$type %in% c('cytokine','neutrophil','proteomics', 'clinical_data')], '__.*', '')"
   ]
  },
  {
   "cell_type": "code",
   "execution_count": 189,
   "id": "29dcf169-3fbf-4864-95be-0a959b323d26",
   "metadata": {},
   "outputs": [
    {
     "data": {
      "text/html": [
       "<style>\n",
       ".list-inline {list-style: none; margin:0; padding: 0}\n",
       ".list-inline>li {display: inline-block}\n",
       ".list-inline>li:not(:last-child)::after {content: \"\\00b7\"; padding: 0 .5ex}\n",
       "</style>\n",
       "<ol class=list-inline><li>'cytokine'</li><li>'neutrophil'</li><li>'proteomics'</li><li>'X0_T.cell.CD4'</li><li>'X1_T.cell.CD8'</li><li>'X10_B.cell'</li><li>'X11_T.cell.CD4'</li><li>'X12_Monocytes...CD16_FCGR3A'</li><li>'X13_Dendritic'</li><li>'X2_T.cell.CD4'</li><li>'X3_NK'</li><li>'X4_Monocytes...CD14'</li><li>'X5_T.cell.CD4'</li><li>'X6_Monocytes...CD14'</li><li>'X7_Monocytes...CD14'</li><li>'X8_B.cell'</li><li>'X9_Monocytes...CD16_FCGR3A'</li></ol>\n"
      ],
      "text/latex": [
       "\\begin{enumerate*}\n",
       "\\item 'cytokine'\n",
       "\\item 'neutrophil'\n",
       "\\item 'proteomics'\n",
       "\\item 'X0\\_T.cell.CD4'\n",
       "\\item 'X1\\_T.cell.CD8'\n",
       "\\item 'X10\\_B.cell'\n",
       "\\item 'X11\\_T.cell.CD4'\n",
       "\\item 'X12\\_Monocytes...CD16\\_FCGR3A'\n",
       "\\item 'X13\\_Dendritic'\n",
       "\\item 'X2\\_T.cell.CD4'\n",
       "\\item 'X3\\_NK'\n",
       "\\item 'X4\\_Monocytes...CD14'\n",
       "\\item 'X5\\_T.cell.CD4'\n",
       "\\item 'X6\\_Monocytes...CD14'\n",
       "\\item 'X7\\_Monocytes...CD14'\n",
       "\\item 'X8\\_B.cell'\n",
       "\\item 'X9\\_Monocytes...CD16\\_FCGR3A'\n",
       "\\end{enumerate*}\n"
      ],
      "text/markdown": [
       "1. 'cytokine'\n",
       "2. 'neutrophil'\n",
       "3. 'proteomics'\n",
       "4. 'X0_T.cell.CD4'\n",
       "5. 'X1_T.cell.CD8'\n",
       "6. 'X10_B.cell'\n",
       "7. 'X11_T.cell.CD4'\n",
       "8. 'X12_Monocytes...CD16_FCGR3A'\n",
       "9. 'X13_Dendritic'\n",
       "10. 'X2_T.cell.CD4'\n",
       "11. 'X3_NK'\n",
       "12. 'X4_Monocytes...CD14'\n",
       "13. 'X5_T.cell.CD4'\n",
       "14. 'X6_Monocytes...CD14'\n",
       "15. 'X7_Monocytes...CD14'\n",
       "16. 'X8_B.cell'\n",
       "17. 'X9_Monocytes...CD16_FCGR3A'\n",
       "\n",
       "\n"
      ],
      "text/plain": [
       " [1] \"cytokine\"                    \"neutrophil\"                 \n",
       " [3] \"proteomics\"                  \"X0_T.cell.CD4\"              \n",
       " [5] \"X1_T.cell.CD8\"               \"X10_B.cell\"                 \n",
       " [7] \"X11_T.cell.CD4\"              \"X12_Monocytes...CD16_FCGR3A\"\n",
       " [9] \"X13_Dendritic\"               \"X2_T.cell.CD4\"              \n",
       "[11] \"X3_NK\"                       \"X4_Monocytes...CD14\"        \n",
       "[13] \"X5_T.cell.CD4\"               \"X6_Monocytes...CD14\"        \n",
       "[15] \"X7_Monocytes...CD14\"         \"X8_B.cell\"                  \n",
       "[17] \"X9_Monocytes...CD16_FCGR3A\" "
      ]
     },
     "metadata": {},
     "output_type": "display_data"
    }
   ],
   "source": [
    "unique(weight_data$view)"
   ]
  },
  {
   "cell_type": "code",
   "execution_count": 190,
   "id": "8e946abd-4556-4bf4-aa43-8ec6745d0934",
   "metadata": {},
   "outputs": [],
   "source": [
    "weight_data$view = str_replace(weight_data$view, make.names('X0_T.cell.CD4'), 'CD4+ T cells (Cluster 0)')\n",
    "weight_data$view = str_replace(weight_data$view, 'clinical_data', 'Clinical')\n",
    "weight_data$view = str_replace(weight_data$view, 'X1_T.cell.CD8', 'CD8+ T cells (Cluster 1)')\n",
    "weight_data$view = str_replace(weight_data$view, 'X10_B.cell', 'B cells (Cluster 10)')\n",
    "weight_data$view = str_replace(weight_data$view, 'X11_T.cell.CD4', 'CD4+ T cells (Cluster 11)')\n",
    "weight_data$view = str_replace(weight_data$view, 'X12_Monocytes...CD16_FCGR3A','FCGR3A(high) Monocytes (Cluster 12)')\n",
    "weight_data$view = str_replace(weight_data$view, 'X13_Dendritic',  'Dendritic cells (Cluster 13)')\n",
    "weight_data$view = str_replace(weight_data$view, 'X2_T.cell.CD4', 'CD4+ T cells (Cluster 2)')\n",
    "weight_data$view = str_replace(weight_data$view, 'X3_NK', 'NK cells (Cluster 3)')\n",
    "weight_data$view = str_replace(weight_data$view, 'X4_Monocytes...CD14', 'CD14(high) Monocytes (Cluster 4)')\n",
    "weight_data$view = str_replace(weight_data$view, 'X5_T.cell.CD4', 'CD4+ T cells (Cluster 5)')\n",
    "weight_data$view = str_replace(weight_data$view, 'X6_Monocytes...CD14','CD14(high) Monocytes (Cluster 6)')\n",
    "weight_data$view = str_replace(weight_data$view, 'X7_Monocytes...CD14', 'CD14(high) Monocytes (Cluster 7)')\n",
    "weight_data$view = str_replace(weight_data$view, 'X8_B.cell','B cells (Cluster 8)')\n",
    "weight_data$view = str_replace(weight_data$view, 'X9_Monocytes...CD16_FCGR3A','FCGR3A(high) Monocytes (Cluster 9)')\n",
    "\n",
    "weight_data$view  = str_replace(weight_data$view , 'clinical','Clinical')\n",
    "weight_data$view  = str_replace(weight_data$view , 'cytokine','Cytokine')\n",
    "weight_data$view  = str_replace(weight_data$view , 'neutrophil','Neutrophil')\n",
    "weight_data$view  = str_replace(weight_data$view , 'proteomics','Proteomics')"
   ]
  },
  {
   "cell_type": "code",
   "execution_count": 191,
   "id": "ee9ab188-9385-4156-9f55-af8bda0eda5c",
   "metadata": {},
   "outputs": [
    {
     "data": {
      "text/html": [
       "<style>\n",
       ".list-inline {list-style: none; margin:0; padding: 0}\n",
       ".list-inline>li {display: inline-block}\n",
       ".list-inline>li:not(:last-child)::after {content: \"\\00b7\"; padding: 0 .5ex}\n",
       "</style>\n",
       "<ol class=list-inline><li>'Cytokine'</li><li>'Neutrophil'</li><li>'Proteomics'</li><li>'CD4+ T cells (Cluster 0)'</li><li>'CD8+ T cells (Cluster 1)'</li><li>'B cells (Cluster 10)'</li><li>'CD4+ T cells (Cluster 11)'</li><li>'FCGR3A(high) Monocytes (Cluster 12)'</li><li>'Dendritic cells (Cluster 13)'</li><li>'CD4+ T cells (Cluster 2)'</li><li>'NK cells (Cluster 3)'</li><li>'CD14(high) Monocytes (Cluster 4)'</li><li>'CD4+ T cells (Cluster 5)'</li><li>'CD14(high) Monocytes (Cluster 6)'</li><li>'CD14(high) Monocytes (Cluster 7)'</li><li>'B cells (Cluster 8)'</li><li>'FCGR3A(high) Monocytes (Cluster 9)'</li></ol>\n"
      ],
      "text/latex": [
       "\\begin{enumerate*}\n",
       "\\item 'Cytokine'\n",
       "\\item 'Neutrophil'\n",
       "\\item 'Proteomics'\n",
       "\\item 'CD4+ T cells (Cluster 0)'\n",
       "\\item 'CD8+ T cells (Cluster 1)'\n",
       "\\item 'B cells (Cluster 10)'\n",
       "\\item 'CD4+ T cells (Cluster 11)'\n",
       "\\item 'FCGR3A(high) Monocytes (Cluster 12)'\n",
       "\\item 'Dendritic cells (Cluster 13)'\n",
       "\\item 'CD4+ T cells (Cluster 2)'\n",
       "\\item 'NK cells (Cluster 3)'\n",
       "\\item 'CD14(high) Monocytes (Cluster 4)'\n",
       "\\item 'CD4+ T cells (Cluster 5)'\n",
       "\\item 'CD14(high) Monocytes (Cluster 6)'\n",
       "\\item 'CD14(high) Monocytes (Cluster 7)'\n",
       "\\item 'B cells (Cluster 8)'\n",
       "\\item 'FCGR3A(high) Monocytes (Cluster 9)'\n",
       "\\end{enumerate*}\n"
      ],
      "text/markdown": [
       "1. 'Cytokine'\n",
       "2. 'Neutrophil'\n",
       "3. 'Proteomics'\n",
       "4. 'CD4+ T cells (Cluster 0)'\n",
       "5. 'CD8+ T cells (Cluster 1)'\n",
       "6. 'B cells (Cluster 10)'\n",
       "7. 'CD4+ T cells (Cluster 11)'\n",
       "8. 'FCGR3A(high) Monocytes (Cluster 12)'\n",
       "9. 'Dendritic cells (Cluster 13)'\n",
       "10. 'CD4+ T cells (Cluster 2)'\n",
       "11. 'NK cells (Cluster 3)'\n",
       "12. 'CD14(high) Monocytes (Cluster 4)'\n",
       "13. 'CD4+ T cells (Cluster 5)'\n",
       "14. 'CD14(high) Monocytes (Cluster 6)'\n",
       "15. 'CD14(high) Monocytes (Cluster 7)'\n",
       "16. 'B cells (Cluster 8)'\n",
       "17. 'FCGR3A(high) Monocytes (Cluster 9)'\n",
       "\n",
       "\n"
      ],
      "text/plain": [
       " [1] \"Cytokine\"                            \"Neutrophil\"                         \n",
       " [3] \"Proteomics\"                          \"CD4+ T cells (Cluster 0)\"           \n",
       " [5] \"CD8+ T cells (Cluster 1)\"            \"B cells (Cluster 10)\"               \n",
       " [7] \"CD4+ T cells (Cluster 11)\"           \"FCGR3A(high) Monocytes (Cluster 12)\"\n",
       " [9] \"Dendritic cells (Cluster 13)\"        \"CD4+ T cells (Cluster 2)\"           \n",
       "[11] \"NK cells (Cluster 3)\"                \"CD14(high) Monocytes (Cluster 4)\"   \n",
       "[13] \"CD4+ T cells (Cluster 5)\"            \"CD14(high) Monocytes (Cluster 6)\"   \n",
       "[15] \"CD14(high) Monocytes (Cluster 7)\"    \"B cells (Cluster 8)\"                \n",
       "[17] \"FCGR3A(high) Monocytes (Cluster 9)\" "
      ]
     },
     "metadata": {},
     "output_type": "display_data"
    }
   ],
   "source": [
    "unique(weight_data$view)"
   ]
  },
  {
   "cell_type": "code",
   "execution_count": 192,
   "id": "afd2db72-2435-4ffa-9a24-4f22a3168eff",
   "metadata": {
    "tags": []
   },
   "outputs": [],
   "source": [
    "#weight_data$gene = str_replace(weight_data$gene, '__', '')"
   ]
  },
  {
   "cell_type": "code",
   "execution_count": 193,
   "id": "ae3cf120-9edb-46a4-91e6-8ad90f2a75e2",
   "metadata": {},
   "outputs": [
    {
     "data": {
      "text/html": [
       "<table class=\"dataframe\">\n",
       "<caption>A data.frame: 2 × 24</caption>\n",
       "<thead>\n",
       "\t<tr><th></th><th scope=col>Factor1</th><th scope=col>Factor2</th><th scope=col>Factor3</th><th scope=col>Factor4</th><th scope=col>Factor5</th><th scope=col>Factor6</th><th scope=col>Factor7</th><th scope=col>Factor8</th><th scope=col>Factor9</th><th scope=col>Factor10</th><th scope=col>⋯</th><th scope=col>Factor15</th><th scope=col>Factor16</th><th scope=col>Factor17</th><th scope=col>Factor18</th><th scope=col>Factor19</th><th scope=col>Factor20</th><th scope=col>type</th><th scope=col>variable_name</th><th scope=col>gene</th><th scope=col>view</th></tr>\n",
       "\t<tr><th></th><th scope=col>&lt;dbl&gt;</th><th scope=col>&lt;dbl&gt;</th><th scope=col>&lt;dbl&gt;</th><th scope=col>&lt;dbl&gt;</th><th scope=col>&lt;dbl&gt;</th><th scope=col>&lt;dbl&gt;</th><th scope=col>&lt;dbl&gt;</th><th scope=col>&lt;dbl&gt;</th><th scope=col>&lt;dbl&gt;</th><th scope=col>&lt;dbl&gt;</th><th scope=col>⋯</th><th scope=col>&lt;dbl&gt;</th><th scope=col>&lt;dbl&gt;</th><th scope=col>&lt;dbl&gt;</th><th scope=col>&lt;dbl&gt;</th><th scope=col>&lt;dbl&gt;</th><th scope=col>&lt;dbl&gt;</th><th scope=col>&lt;chr&gt;</th><th scope=col>&lt;chr&gt;</th><th scope=col>&lt;chr&gt;</th><th scope=col>&lt;chr&gt;</th></tr>\n",
       "</thead>\n",
       "<tbody>\n",
       "\t<tr><th scope=row>BCA1__CXCL13</th><td>0.007872607</td><td> 0.01834307</td><td>-0.01672033</td><td>-0.3090944808</td><td>-0.04257815</td><td>-0.04290609</td><td>0.02036166</td><td>-0.02911915</td><td>-0.09958332</td><td>-0.15661780</td><td>⋯</td><td>0.6661882</td><td>-0.041123314</td><td>-0.20769065</td><td>0.1357149</td><td>-0.05794182</td><td>-0.009094946</td><td>cytokine</td><td>BCA1__CXCL13</td><td>CXCL13</td><td>Cytokine</td></tr>\n",
       "\t<tr><th scope=row>CTACK__CCL27</th><td>0.016026314</td><td>-0.17902272</td><td> 0.02978679</td><td>-0.0001092699</td><td> 0.08309032</td><td>-0.05366863</td><td>0.03047595</td><td>-0.03859843</td><td>-0.26235709</td><td>-0.02720419</td><td>⋯</td><td>0.0201950</td><td>-0.004542783</td><td> 0.03819823</td><td>0.2465448</td><td>-0.03517982</td><td> 0.198791111</td><td>cytokine</td><td>CTACK__CCL27</td><td>CCL27 </td><td>Cytokine</td></tr>\n",
       "</tbody>\n",
       "</table>\n"
      ],
      "text/latex": [
       "A data.frame: 2 × 24\n",
       "\\begin{tabular}{r|lllllllllllllllllllll}\n",
       "  & Factor1 & Factor2 & Factor3 & Factor4 & Factor5 & Factor6 & Factor7 & Factor8 & Factor9 & Factor10 & ⋯ & Factor15 & Factor16 & Factor17 & Factor18 & Factor19 & Factor20 & type & variable\\_name & gene & view\\\\\n",
       "  & <dbl> & <dbl> & <dbl> & <dbl> & <dbl> & <dbl> & <dbl> & <dbl> & <dbl> & <dbl> & ⋯ & <dbl> & <dbl> & <dbl> & <dbl> & <dbl> & <dbl> & <chr> & <chr> & <chr> & <chr>\\\\\n",
       "\\hline\n",
       "\tBCA1\\_\\_CXCL13 & 0.007872607 &  0.01834307 & -0.01672033 & -0.3090944808 & -0.04257815 & -0.04290609 & 0.02036166 & -0.02911915 & -0.09958332 & -0.15661780 & ⋯ & 0.6661882 & -0.041123314 & -0.20769065 & 0.1357149 & -0.05794182 & -0.009094946 & cytokine & BCA1\\_\\_CXCL13 & CXCL13 & Cytokine\\\\\n",
       "\tCTACK\\_\\_CCL27 & 0.016026314 & -0.17902272 &  0.02978679 & -0.0001092699 &  0.08309032 & -0.05366863 & 0.03047595 & -0.03859843 & -0.26235709 & -0.02720419 & ⋯ & 0.0201950 & -0.004542783 &  0.03819823 & 0.2465448 & -0.03517982 &  0.198791111 & cytokine & CTACK\\_\\_CCL27 & CCL27  & Cytokine\\\\\n",
       "\\end{tabular}\n"
      ],
      "text/markdown": [
       "\n",
       "A data.frame: 2 × 24\n",
       "\n",
       "| <!--/--> | Factor1 &lt;dbl&gt; | Factor2 &lt;dbl&gt; | Factor3 &lt;dbl&gt; | Factor4 &lt;dbl&gt; | Factor5 &lt;dbl&gt; | Factor6 &lt;dbl&gt; | Factor7 &lt;dbl&gt; | Factor8 &lt;dbl&gt; | Factor9 &lt;dbl&gt; | Factor10 &lt;dbl&gt; | ⋯ ⋯ | Factor15 &lt;dbl&gt; | Factor16 &lt;dbl&gt; | Factor17 &lt;dbl&gt; | Factor18 &lt;dbl&gt; | Factor19 &lt;dbl&gt; | Factor20 &lt;dbl&gt; | type &lt;chr&gt; | variable_name &lt;chr&gt; | gene &lt;chr&gt; | view &lt;chr&gt; |\n",
       "|---|---|---|---|---|---|---|---|---|---|---|---|---|---|---|---|---|---|---|---|---|---|\n",
       "| BCA1__CXCL13 | 0.007872607 |  0.01834307 | -0.01672033 | -0.3090944808 | -0.04257815 | -0.04290609 | 0.02036166 | -0.02911915 | -0.09958332 | -0.15661780 | ⋯ | 0.6661882 | -0.041123314 | -0.20769065 | 0.1357149 | -0.05794182 | -0.009094946 | cytokine | BCA1__CXCL13 | CXCL13 | Cytokine |\n",
       "| CTACK__CCL27 | 0.016026314 | -0.17902272 |  0.02978679 | -0.0001092699 |  0.08309032 | -0.05366863 | 0.03047595 | -0.03859843 | -0.26235709 | -0.02720419 | ⋯ | 0.0201950 | -0.004542783 |  0.03819823 | 0.2465448 | -0.03517982 |  0.198791111 | cytokine | CTACK__CCL27 | CCL27  | Cytokine |\n",
       "\n"
      ],
      "text/plain": [
       "             Factor1     Factor2     Factor3     Factor4       Factor5    \n",
       "BCA1__CXCL13 0.007872607  0.01834307 -0.01672033 -0.3090944808 -0.04257815\n",
       "CTACK__CCL27 0.016026314 -0.17902272  0.02978679 -0.0001092699  0.08309032\n",
       "             Factor6     Factor7    Factor8     Factor9     Factor10    ⋯\n",
       "BCA1__CXCL13 -0.04290609 0.02036166 -0.02911915 -0.09958332 -0.15661780 ⋯\n",
       "CTACK__CCL27 -0.05366863 0.03047595 -0.03859843 -0.26235709 -0.02720419 ⋯\n",
       "             Factor15  Factor16     Factor17    Factor18  Factor19   \n",
       "BCA1__CXCL13 0.6661882 -0.041123314 -0.20769065 0.1357149 -0.05794182\n",
       "CTACK__CCL27 0.0201950 -0.004542783  0.03819823 0.2465448 -0.03517982\n",
       "             Factor20     type     variable_name gene   view    \n",
       "BCA1__CXCL13 -0.009094946 cytokine BCA1__CXCL13  CXCL13 Cytokine\n",
       "CTACK__CCL27  0.198791111 cytokine CTACK__CCL27  CCL27  Cytokine"
      ]
     },
     "metadata": {},
     "output_type": "display_data"
    }
   ],
   "source": [
    "head(weight_data,2)"
   ]
  },
  {
   "cell_type": "code",
   "execution_count": 194,
   "id": "1607bf6a-45c0-4ea9-9f6d-5164b138eef1",
   "metadata": {},
   "outputs": [
    {
     "name": "stderr",
     "output_type": "stream",
     "text": [
      "Using type, variable_name, gene, view as id variables\n",
      "\n"
     ]
    }
   ],
   "source": [
    "feature_weights_long = melt(weight_data)"
   ]
  },
  {
   "cell_type": "code",
   "execution_count": 195,
   "id": "ab39002e-74f2-4668-b54b-e56b26648245",
   "metadata": {},
   "outputs": [
    {
     "data": {
      "text/html": [
       "<table class=\"dataframe\">\n",
       "<caption>A data.frame: 2 × 6</caption>\n",
       "<thead>\n",
       "\t<tr><th></th><th scope=col>type</th><th scope=col>variable_name</th><th scope=col>gene</th><th scope=col>view</th><th scope=col>variable</th><th scope=col>value</th></tr>\n",
       "\t<tr><th></th><th scope=col>&lt;chr&gt;</th><th scope=col>&lt;chr&gt;</th><th scope=col>&lt;chr&gt;</th><th scope=col>&lt;chr&gt;</th><th scope=col>&lt;fct&gt;</th><th scope=col>&lt;dbl&gt;</th></tr>\n",
       "</thead>\n",
       "<tbody>\n",
       "\t<tr><th scope=row>1</th><td>cytokine</td><td>BCA1__CXCL13</td><td>CXCL13</td><td>Cytokine</td><td>Factor1</td><td>0.007872607</td></tr>\n",
       "\t<tr><th scope=row>2</th><td>cytokine</td><td>CTACK__CCL27</td><td>CCL27 </td><td>Cytokine</td><td>Factor1</td><td>0.016026314</td></tr>\n",
       "</tbody>\n",
       "</table>\n"
      ],
      "text/latex": [
       "A data.frame: 2 × 6\n",
       "\\begin{tabular}{r|llllll}\n",
       "  & type & variable\\_name & gene & view & variable & value\\\\\n",
       "  & <chr> & <chr> & <chr> & <chr> & <fct> & <dbl>\\\\\n",
       "\\hline\n",
       "\t1 & cytokine & BCA1\\_\\_CXCL13 & CXCL13 & Cytokine & Factor1 & 0.007872607\\\\\n",
       "\t2 & cytokine & CTACK\\_\\_CCL27 & CCL27  & Cytokine & Factor1 & 0.016026314\\\\\n",
       "\\end{tabular}\n"
      ],
      "text/markdown": [
       "\n",
       "A data.frame: 2 × 6\n",
       "\n",
       "| <!--/--> | type &lt;chr&gt; | variable_name &lt;chr&gt; | gene &lt;chr&gt; | view &lt;chr&gt; | variable &lt;fct&gt; | value &lt;dbl&gt; |\n",
       "|---|---|---|---|---|---|---|\n",
       "| 1 | cytokine | BCA1__CXCL13 | CXCL13 | Cytokine | Factor1 | 0.007872607 |\n",
       "| 2 | cytokine | CTACK__CCL27 | CCL27  | Cytokine | Factor1 | 0.016026314 |\n",
       "\n"
      ],
      "text/plain": [
       "  type     variable_name gene   view     variable value      \n",
       "1 cytokine BCA1__CXCL13  CXCL13 Cytokine Factor1  0.007872607\n",
       "2 cytokine CTACK__CCL27  CCL27  Cytokine Factor1  0.016026314"
      ]
     },
     "metadata": {},
     "output_type": "display_data"
    }
   ],
   "source": [
    "head(feature_weights_long,2)"
   ]
  },
  {
   "cell_type": "code",
   "execution_count": 196,
   "id": "2fac2382-f987-46f7-802a-af73931ee3f1",
   "metadata": {},
   "outputs": [
    {
     "name": "stderr",
     "output_type": "stream",
     "text": [
      "Using sample_id as id variables\n",
      "\n"
     ]
    }
   ],
   "source": [
    "factor_data = melt(factors)"
   ]
  },
  {
   "cell_type": "code",
   "execution_count": 197,
   "id": "d36c69af-9ff9-4169-b9a3-490740101db5",
   "metadata": {},
   "outputs": [
    {
     "data": {
      "text/html": [
       "<table class=\"dataframe\">\n",
       "<caption>A data.frame: 2 × 3</caption>\n",
       "<thead>\n",
       "\t<tr><th></th><th scope=col>sample_id</th><th scope=col>variable</th><th scope=col>value</th></tr>\n",
       "\t<tr><th></th><th scope=col>&lt;chr&gt;</th><th scope=col>&lt;fct&gt;</th><th scope=col>&lt;dbl&gt;</th></tr>\n",
       "</thead>\n",
       "<tbody>\n",
       "\t<tr><th scope=row>1</th><td>k1 </td><td>Factor1</td><td>0.2399255</td></tr>\n",
       "\t<tr><th scope=row>2</th><td>k10</td><td>Factor1</td><td>0.9120340</td></tr>\n",
       "</tbody>\n",
       "</table>\n"
      ],
      "text/latex": [
       "A data.frame: 2 × 3\n",
       "\\begin{tabular}{r|lll}\n",
       "  & sample\\_id & variable & value\\\\\n",
       "  & <chr> & <fct> & <dbl>\\\\\n",
       "\\hline\n",
       "\t1 & k1  & Factor1 & 0.2399255\\\\\n",
       "\t2 & k10 & Factor1 & 0.9120340\\\\\n",
       "\\end{tabular}\n"
      ],
      "text/markdown": [
       "\n",
       "A data.frame: 2 × 3\n",
       "\n",
       "| <!--/--> | sample_id &lt;chr&gt; | variable &lt;fct&gt; | value &lt;dbl&gt; |\n",
       "|---|---|---|---|\n",
       "| 1 | k1  | Factor1 | 0.2399255 |\n",
       "| 2 | k10 | Factor1 | 0.9120340 |\n",
       "\n"
      ],
      "text/plain": [
       "  sample_id variable value    \n",
       "1 k1        Factor1  0.2399255\n",
       "2 k10       Factor1  0.9120340"
      ]
     },
     "metadata": {},
     "output_type": "display_data"
    }
   ],
   "source": [
    "head(factor_data,2)"
   ]
  },
  {
   "cell_type": "code",
   "execution_count": 198,
   "id": "e5dbf11c-2e20-48d8-9804-de8f12b8ad13",
   "metadata": {},
   "outputs": [],
   "source": [
    "colnames(factor_data) = c('sample_id', 'variable', 'value')"
   ]
  },
  {
   "cell_type": "markdown",
   "id": "a0f84b0a-6820-4eaa-9e49-8cd196e5da75",
   "metadata": {
    "tags": []
   },
   "source": [
    "## Get top features per factor and amounts for diff thresholds"
   ]
  },
  {
   "cell_type": "code",
   "execution_count": 199,
   "id": "00556823-fa42-4859-afa0-947d6cceec6c",
   "metadata": {},
   "outputs": [],
   "source": [
    "top_variable_fraction_list  = c(0.0005 ,0.001, 0.0025, 0.005, 0.025, 0.05, 0.1,0.5)"
   ]
  },
  {
   "cell_type": "code",
   "execution_count": null,
   "id": "20647b8c-0923-426c-a797-006223e0e804",
   "metadata": {},
   "outputs": [],
   "source": []
  },
  {
   "cell_type": "code",
   "execution_count": 200,
   "id": "e8f2bf9d-f005-45ac-9b27-42f54f2a83aa",
   "metadata": {},
   "outputs": [],
   "source": [
    "geneset_oi_amounts = data.frame()"
   ]
  },
  {
   "cell_type": "code",
   "execution_count": 201,
   "id": "0223eb3b-d42f-4866-9797-c81ea7e3dd23",
   "metadata": {},
   "outputs": [],
   "source": [
    "geneset_oi_per_fraction = data.frame()"
   ]
  },
  {
   "cell_type": "code",
   "execution_count": 202,
   "id": "df638647-6d36-4c08-b29d-31411190f8af",
   "metadata": {},
   "outputs": [
    {
     "data": {
      "text/html": [
       "<table class=\"dataframe\">\n",
       "<caption>A data.frame: 2 × 6</caption>\n",
       "<thead>\n",
       "\t<tr><th></th><th scope=col>type</th><th scope=col>variable_name</th><th scope=col>gene</th><th scope=col>view</th><th scope=col>variable</th><th scope=col>value</th></tr>\n",
       "\t<tr><th></th><th scope=col>&lt;chr&gt;</th><th scope=col>&lt;chr&gt;</th><th scope=col>&lt;chr&gt;</th><th scope=col>&lt;chr&gt;</th><th scope=col>&lt;fct&gt;</th><th scope=col>&lt;dbl&gt;</th></tr>\n",
       "</thead>\n",
       "<tbody>\n",
       "\t<tr><th scope=row>1</th><td>cytokine</td><td>BCA1__CXCL13</td><td>CXCL13</td><td>Cytokine</td><td>Factor1</td><td>0.007872607</td></tr>\n",
       "\t<tr><th scope=row>2</th><td>cytokine</td><td>CTACK__CCL27</td><td>CCL27 </td><td>Cytokine</td><td>Factor1</td><td>0.016026314</td></tr>\n",
       "</tbody>\n",
       "</table>\n"
      ],
      "text/latex": [
       "A data.frame: 2 × 6\n",
       "\\begin{tabular}{r|llllll}\n",
       "  & type & variable\\_name & gene & view & variable & value\\\\\n",
       "  & <chr> & <chr> & <chr> & <chr> & <fct> & <dbl>\\\\\n",
       "\\hline\n",
       "\t1 & cytokine & BCA1\\_\\_CXCL13 & CXCL13 & Cytokine & Factor1 & 0.007872607\\\\\n",
       "\t2 & cytokine & CTACK\\_\\_CCL27 & CCL27  & Cytokine & Factor1 & 0.016026314\\\\\n",
       "\\end{tabular}\n"
      ],
      "text/markdown": [
       "\n",
       "A data.frame: 2 × 6\n",
       "\n",
       "| <!--/--> | type &lt;chr&gt; | variable_name &lt;chr&gt; | gene &lt;chr&gt; | view &lt;chr&gt; | variable &lt;fct&gt; | value &lt;dbl&gt; |\n",
       "|---|---|---|---|---|---|---|\n",
       "| 1 | cytokine | BCA1__CXCL13 | CXCL13 | Cytokine | Factor1 | 0.007872607 |\n",
       "| 2 | cytokine | CTACK__CCL27 | CCL27  | Cytokine | Factor1 | 0.016026314 |\n",
       "\n"
      ],
      "text/plain": [
       "  type     variable_name gene   view     variable value      \n",
       "1 cytokine BCA1__CXCL13  CXCL13 Cytokine Factor1  0.007872607\n",
       "2 cytokine CTACK__CCL27  CCL27  Cytokine Factor1  0.016026314"
      ]
     },
     "metadata": {},
     "output_type": "display_data"
    }
   ],
   "source": [
    "head(feature_weights_long,2)"
   ]
  },
  {
   "cell_type": "code",
   "execution_count": 203,
   "id": "e1b3fa4b-af4d-4ba6-b791-d321993202fe",
   "metadata": {},
   "outputs": [],
   "source": [
    "dimensions = unique(feature_weights_long[,c('view', 'variable')])"
   ]
  },
  {
   "cell_type": "code",
   "execution_count": 204,
   "id": "b40ec156-53f0-4650-8a27-4a85afccd949",
   "metadata": {},
   "outputs": [
    {
     "data": {
      "text/html": [
       "<table class=\"dataframe\">\n",
       "<caption>A data.frame: 6 × 2</caption>\n",
       "<thead>\n",
       "\t<tr><th></th><th scope=col>view</th><th scope=col>variable</th></tr>\n",
       "\t<tr><th></th><th scope=col>&lt;chr&gt;</th><th scope=col>&lt;fct&gt;</th></tr>\n",
       "</thead>\n",
       "<tbody>\n",
       "\t<tr><th scope=row>1</th><td>Cytokine                </td><td>Factor1</td></tr>\n",
       "\t<tr><th scope=row>66</th><td>Neutrophil              </td><td>Factor1</td></tr>\n",
       "\t<tr><th scope=row>958</th><td>Proteomics              </td><td>Factor1</td></tr>\n",
       "\t<tr><th scope=row>1448</th><td>CD4+ T cells (Cluster 0)</td><td>Factor1</td></tr>\n",
       "\t<tr><th scope=row>2136</th><td>CD8+ T cells (Cluster 1)</td><td>Factor1</td></tr>\n",
       "\t<tr><th scope=row>2870</th><td>B cells (Cluster 10)    </td><td>Factor1</td></tr>\n",
       "</tbody>\n",
       "</table>\n"
      ],
      "text/latex": [
       "A data.frame: 6 × 2\n",
       "\\begin{tabular}{r|ll}\n",
       "  & view & variable\\\\\n",
       "  & <chr> & <fct>\\\\\n",
       "\\hline\n",
       "\t1 & Cytokine                 & Factor1\\\\\n",
       "\t66 & Neutrophil               & Factor1\\\\\n",
       "\t958 & Proteomics               & Factor1\\\\\n",
       "\t1448 & CD4+ T cells (Cluster 0) & Factor1\\\\\n",
       "\t2136 & CD8+ T cells (Cluster 1) & Factor1\\\\\n",
       "\t2870 & B cells (Cluster 10)     & Factor1\\\\\n",
       "\\end{tabular}\n"
      ],
      "text/markdown": [
       "\n",
       "A data.frame: 6 × 2\n",
       "\n",
       "| <!--/--> | view &lt;chr&gt; | variable &lt;fct&gt; |\n",
       "|---|---|---|\n",
       "| 1 | Cytokine                 | Factor1 |\n",
       "| 66 | Neutrophil               | Factor1 |\n",
       "| 958 | Proteomics               | Factor1 |\n",
       "| 1448 | CD4+ T cells (Cluster 0) | Factor1 |\n",
       "| 2136 | CD8+ T cells (Cluster 1) | Factor1 |\n",
       "| 2870 | B cells (Cluster 10)     | Factor1 |\n",
       "\n"
      ],
      "text/plain": [
       "     view                     variable\n",
       "1    Cytokine                 Factor1 \n",
       "66   Neutrophil               Factor1 \n",
       "958  Proteomics               Factor1 \n",
       "1448 CD4+ T cells (Cluster 0) Factor1 \n",
       "2136 CD8+ T cells (Cluster 1) Factor1 \n",
       "2870 B cells (Cluster 10)     Factor1 "
      ]
     },
     "metadata": {},
     "output_type": "display_data"
    }
   ],
   "source": [
    "head(dimensions)"
   ]
  },
  {
   "cell_type": "code",
   "execution_count": 205,
   "id": "c7707b26-0cd3-4516-a623-f1a7c79b9b9f",
   "metadata": {},
   "outputs": [
    {
     "name": "stderr",
     "output_type": "stream",
     "text": [
      "\u001b[1m\u001b[22mSelecting by value\n",
      "\u001b[1m\u001b[22mSelecting by value\n",
      "\u001b[1m\u001b[22mSelecting by value\n",
      "\u001b[1m\u001b[22mSelecting by value\n",
      "\u001b[1m\u001b[22mSelecting by value\n",
      "\u001b[1m\u001b[22mSelecting by value\n",
      "\u001b[1m\u001b[22mSelecting by value\n",
      "\u001b[1m\u001b[22mSelecting by value\n",
      "\u001b[1m\u001b[22mSelecting by value\n",
      "\u001b[1m\u001b[22mSelecting by value\n",
      "\u001b[1m\u001b[22mSelecting by value\n",
      "\u001b[1m\u001b[22mSelecting by value\n",
      "\u001b[1m\u001b[22mSelecting by value\n",
      "\u001b[1m\u001b[22mSelecting by value\n",
      "\u001b[1m\u001b[22mSelecting by value\n",
      "\u001b[1m\u001b[22mSelecting by value\n"
     ]
    }
   ],
   "source": [
    "for(i in top_variable_fraction_list){\n",
    "    ## Define amont of top genes per fraction \n",
    "    geneset_oi_pos_per_factor_analyze = feature_weights_long %>% group_by(variable) %>% arrange( desc(value),  .by_group = TRUE)  %>% top_frac(i)\n",
    "    geneset_oi_pos_per_factor_analyze$direction = 'positive'\n",
    "    \n",
    "    geneset_oi_neg_per_factor_analyze = feature_weights_long %>% group_by(variable) %>% arrange(desc(value),  .by_group = TRUE)  %>% top_frac(-i)\n",
    "    geneset_oi_neg_per_factor_analyze$direction = 'negative'\n",
    "    \n",
    "    geneset_oi_analyze = rbind(geneset_oi_pos_per_factor_analyze, geneset_oi_neg_per_factor_analyze)\n",
    "    geneset_oi_analyze$fraction = i\n",
    "    \n",
    "    geneset_oi_per_fraction = rbind(geneset_oi_per_fraction,geneset_oi_analyze)\n",
    "    \n",
    "    amount_geneset_oi_type = geneset_oi_analyze %>% group_by(type, view, variable) %>% count()\n",
    "    amount_geneset_oi_type = merge(dimensions, amount_geneset_oi_type, all.x = TRUE)\n",
    "    amount_geneset_oi_type$fraction = i\n",
    "    \n",
    "    geneset_oi_amounts = rbind(geneset_oi_amounts, amount_geneset_oi_type)\n",
    "    }"
   ]
  },
  {
   "cell_type": "code",
   "execution_count": 206,
   "id": "0661d926-917e-4cd1-919f-a7b665136ca4",
   "metadata": {},
   "outputs": [],
   "source": [
    "features_per_type = feature_weights_long %>% group_by(type, view, variable) %>% count()\n",
    "colnames(features_per_type) = c('type', 'view', 'variable', 'amount_features')"
   ]
  },
  {
   "cell_type": "code",
   "execution_count": 207,
   "id": "409eb101-879a-443a-b572-2b2be73df834",
   "metadata": {},
   "outputs": [
    {
     "data": {
      "text/html": [
       "<table class=\"dataframe\">\n",
       "<caption>A grouped_df: 2 × 4</caption>\n",
       "<thead>\n",
       "\t<tr><th scope=col>type</th><th scope=col>view</th><th scope=col>variable</th><th scope=col>amount_features</th></tr>\n",
       "\t<tr><th scope=col>&lt;chr&gt;</th><th scope=col>&lt;chr&gt;</th><th scope=col>&lt;fct&gt;</th><th scope=col>&lt;int&gt;</th></tr>\n",
       "</thead>\n",
       "<tbody>\n",
       "\t<tr><td>X0_TcellCD4</td><td>CD4+ T cells (Cluster 0)</td><td>Factor1</td><td>688</td></tr>\n",
       "\t<tr><td>X0_TcellCD4</td><td>CD4+ T cells (Cluster 0)</td><td>Factor2</td><td>688</td></tr>\n",
       "</tbody>\n",
       "</table>\n"
      ],
      "text/latex": [
       "A grouped\\_df: 2 × 4\n",
       "\\begin{tabular}{llll}\n",
       " type & view & variable & amount\\_features\\\\\n",
       " <chr> & <chr> & <fct> & <int>\\\\\n",
       "\\hline\n",
       "\t X0\\_TcellCD4 & CD4+ T cells (Cluster 0) & Factor1 & 688\\\\\n",
       "\t X0\\_TcellCD4 & CD4+ T cells (Cluster 0) & Factor2 & 688\\\\\n",
       "\\end{tabular}\n"
      ],
      "text/markdown": [
       "\n",
       "A grouped_df: 2 × 4\n",
       "\n",
       "| type &lt;chr&gt; | view &lt;chr&gt; | variable &lt;fct&gt; | amount_features &lt;int&gt; |\n",
       "|---|---|---|---|\n",
       "| X0_TcellCD4 | CD4+ T cells (Cluster 0) | Factor1 | 688 |\n",
       "| X0_TcellCD4 | CD4+ T cells (Cluster 0) | Factor2 | 688 |\n",
       "\n"
      ],
      "text/plain": [
       "  type        view                     variable amount_features\n",
       "1 X0_TcellCD4 CD4+ T cells (Cluster 0) Factor1  688            \n",
       "2 X0_TcellCD4 CD4+ T cells (Cluster 0) Factor2  688            "
      ]
     },
     "metadata": {},
     "output_type": "display_data"
    }
   ],
   "source": [
    "head(features_per_type,2)"
   ]
  },
  {
   "cell_type": "code",
   "execution_count": 208,
   "id": "da96cc9b-5d2c-4b71-be7e-02d45fb67f22",
   "metadata": {},
   "outputs": [],
   "source": [
    "geneset_oi_amounts = merge(  geneset_oi_amounts,features_per_type, all.x = TRUE)\n",
    "geneset_oi_amounts$percentage = geneset_oi_amounts$n / geneset_oi_amounts$amount_features"
   ]
  },
  {
   "cell_type": "code",
   "execution_count": 209,
   "id": "2980f9d9-9410-4683-88a4-f9a76c7124cf",
   "metadata": {},
   "outputs": [
    {
     "data": {
      "text/html": [
       "<table class=\"dataframe\">\n",
       "<caption>A grouped_df: 2 × 8</caption>\n",
       "<thead>\n",
       "\t<tr><th scope=col>type</th><th scope=col>variable_name</th><th scope=col>gene</th><th scope=col>view</th><th scope=col>variable</th><th scope=col>value</th><th scope=col>direction</th><th scope=col>fraction</th></tr>\n",
       "\t<tr><th scope=col>&lt;chr&gt;</th><th scope=col>&lt;chr&gt;</th><th scope=col>&lt;chr&gt;</th><th scope=col>&lt;chr&gt;</th><th scope=col>&lt;fct&gt;</th><th scope=col>&lt;dbl&gt;</th><th scope=col>&lt;chr&gt;</th><th scope=col>&lt;dbl&gt;</th></tr>\n",
       "</thead>\n",
       "<tbody>\n",
       "\t<tr><td>X0_TcellCD4</td><td>X0_T.cell.CD4__PFN1</td><td>PFN1</td><td>CD4+ T cells (Cluster 0)</td><td>Factor1</td><td>0.5382836</td><td>positive</td><td>5e-04</td></tr>\n",
       "\t<tr><td>X0_TcellCD4</td><td>X0_T.cell.CD4__CYBA</td><td>CYBA</td><td>CD4+ T cells (Cluster 0)</td><td>Factor1</td><td>0.5225588</td><td>positive</td><td>5e-04</td></tr>\n",
       "</tbody>\n",
       "</table>\n"
      ],
      "text/latex": [
       "A grouped\\_df: 2 × 8\n",
       "\\begin{tabular}{llllllll}\n",
       " type & variable\\_name & gene & view & variable & value & direction & fraction\\\\\n",
       " <chr> & <chr> & <chr> & <chr> & <fct> & <dbl> & <chr> & <dbl>\\\\\n",
       "\\hline\n",
       "\t X0\\_TcellCD4 & X0\\_T.cell.CD4\\_\\_PFN1 & PFN1 & CD4+ T cells (Cluster 0) & Factor1 & 0.5382836 & positive & 5e-04\\\\\n",
       "\t X0\\_TcellCD4 & X0\\_T.cell.CD4\\_\\_CYBA & CYBA & CD4+ T cells (Cluster 0) & Factor1 & 0.5225588 & positive & 5e-04\\\\\n",
       "\\end{tabular}\n"
      ],
      "text/markdown": [
       "\n",
       "A grouped_df: 2 × 8\n",
       "\n",
       "| type &lt;chr&gt; | variable_name &lt;chr&gt; | gene &lt;chr&gt; | view &lt;chr&gt; | variable &lt;fct&gt; | value &lt;dbl&gt; | direction &lt;chr&gt; | fraction &lt;dbl&gt; |\n",
       "|---|---|---|---|---|---|---|---|\n",
       "| X0_TcellCD4 | X0_T.cell.CD4__PFN1 | PFN1 | CD4+ T cells (Cluster 0) | Factor1 | 0.5382836 | positive | 5e-04 |\n",
       "| X0_TcellCD4 | X0_T.cell.CD4__CYBA | CYBA | CD4+ T cells (Cluster 0) | Factor1 | 0.5225588 | positive | 5e-04 |\n",
       "\n"
      ],
      "text/plain": [
       "  type        variable_name       gene view                     variable\n",
       "1 X0_TcellCD4 X0_T.cell.CD4__PFN1 PFN1 CD4+ T cells (Cluster 0) Factor1 \n",
       "2 X0_TcellCD4 X0_T.cell.CD4__CYBA CYBA CD4+ T cells (Cluster 0) Factor1 \n",
       "  value     direction fraction\n",
       "1 0.5382836 positive  5e-04   \n",
       "2 0.5225588 positive  5e-04   "
      ]
     },
     "metadata": {},
     "output_type": "display_data"
    }
   ],
   "source": [
    "head(geneset_oi_per_fraction,2)"
   ]
  },
  {
   "cell_type": "code",
   "execution_count": 210,
   "id": "e7ce3270-c503-48c5-a39e-5e5cb918be74",
   "metadata": {},
   "outputs": [
    {
     "data": {
      "text/html": [
       "<table class=\"dataframe\">\n",
       "<caption>A data.frame: 2 × 7</caption>\n",
       "<thead>\n",
       "\t<tr><th></th><th scope=col>view</th><th scope=col>variable</th><th scope=col>type</th><th scope=col>n</th><th scope=col>fraction</th><th scope=col>amount_features</th><th scope=col>percentage</th></tr>\n",
       "\t<tr><th></th><th scope=col>&lt;chr&gt;</th><th scope=col>&lt;fct&gt;</th><th scope=col>&lt;chr&gt;</th><th scope=col>&lt;int&gt;</th><th scope=col>&lt;dbl&gt;</th><th scope=col>&lt;int&gt;</th><th scope=col>&lt;dbl&gt;</th></tr>\n",
       "</thead>\n",
       "<tbody>\n",
       "\t<tr><th scope=row>1</th><td>B cells (Cluster 10)</td><td>Factor1</td><td>X10_Bcell</td><td> 24</td><td>0.05</td><td>796</td><td>0.03015075</td></tr>\n",
       "\t<tr><th scope=row>2</th><td>B cells (Cluster 10)</td><td>Factor1</td><td>X10_Bcell</td><td>796</td><td>0.50</td><td>796</td><td>1.00000000</td></tr>\n",
       "</tbody>\n",
       "</table>\n"
      ],
      "text/latex": [
       "A data.frame: 2 × 7\n",
       "\\begin{tabular}{r|lllllll}\n",
       "  & view & variable & type & n & fraction & amount\\_features & percentage\\\\\n",
       "  & <chr> & <fct> & <chr> & <int> & <dbl> & <int> & <dbl>\\\\\n",
       "\\hline\n",
       "\t1 & B cells (Cluster 10) & Factor1 & X10\\_Bcell &  24 & 0.05 & 796 & 0.03015075\\\\\n",
       "\t2 & B cells (Cluster 10) & Factor1 & X10\\_Bcell & 796 & 0.50 & 796 & 1.00000000\\\\\n",
       "\\end{tabular}\n"
      ],
      "text/markdown": [
       "\n",
       "A data.frame: 2 × 7\n",
       "\n",
       "| <!--/--> | view &lt;chr&gt; | variable &lt;fct&gt; | type &lt;chr&gt; | n &lt;int&gt; | fraction &lt;dbl&gt; | amount_features &lt;int&gt; | percentage &lt;dbl&gt; |\n",
       "|---|---|---|---|---|---|---|---|\n",
       "| 1 | B cells (Cluster 10) | Factor1 | X10_Bcell |  24 | 0.05 | 796 | 0.03015075 |\n",
       "| 2 | B cells (Cluster 10) | Factor1 | X10_Bcell | 796 | 0.50 | 796 | 1.00000000 |\n",
       "\n"
      ],
      "text/plain": [
       "  view                 variable type      n   fraction amount_features\n",
       "1 B cells (Cluster 10) Factor1  X10_Bcell  24 0.05     796            \n",
       "2 B cells (Cluster 10) Factor1  X10_Bcell 796 0.50     796            \n",
       "  percentage\n",
       "1 0.03015075\n",
       "2 1.00000000"
      ]
     },
     "metadata": {},
     "output_type": "display_data"
    }
   ],
   "source": [
    "head(geneset_oi_amounts,2)"
   ]
  },
  {
   "cell_type": "code",
   "execution_count": 211,
   "id": "1af8f7b8-d3c8-4004-b778-2d4d0397d692",
   "metadata": {},
   "outputs": [],
   "source": [
    "geneset_oi_amounts[is.na(geneset_oi_amounts)] = 0"
   ]
  },
  {
   "cell_type": "markdown",
   "id": "fd886024-83c4-4ef4-8c28-1e343ed2396a",
   "metadata": {},
   "source": [
    "## Prepare heatmap data (based on transformed expression values)"
   ]
  },
  {
   "cell_type": "code",
   "execution_count": 212,
   "id": "ceb97a8b-4ccd-46f7-886b-cc5e4e662cb9",
   "metadata": {},
   "outputs": [],
   "source": [
    "### Subset on a selected fraction/ set of variables"
   ]
  },
  {
   "cell_type": "code",
   "execution_count": 213,
   "id": "7850a79c-9fd4-4423-963d-af0271f81027",
   "metadata": {},
   "outputs": [
    {
     "data": {
      "text/html": [
       "<style>\n",
       ".list-inline {list-style: none; margin:0; padding: 0}\n",
       ".list-inline>li {display: inline-block}\n",
       ".list-inline>li:not(:last-child)::after {content: \"\\00b7\"; padding: 0 .5ex}\n",
       "</style>\n",
       "<ol class=list-inline><li>5e-04</li><li>0.001</li><li>0.0025</li><li>0.005</li><li>0.025</li><li>0.05</li><li>0.1</li><li>0.5</li></ol>\n"
      ],
      "text/latex": [
       "\\begin{enumerate*}\n",
       "\\item 5e-04\n",
       "\\item 0.001\n",
       "\\item 0.0025\n",
       "\\item 0.005\n",
       "\\item 0.025\n",
       "\\item 0.05\n",
       "\\item 0.1\n",
       "\\item 0.5\n",
       "\\end{enumerate*}\n"
      ],
      "text/markdown": [
       "1. 5e-04\n",
       "2. 0.001\n",
       "3. 0.0025\n",
       "4. 0.005\n",
       "5. 0.025\n",
       "6. 0.05\n",
       "7. 0.1\n",
       "8. 0.5\n",
       "\n",
       "\n"
      ],
      "text/plain": [
       "[1] 0.0005 0.0010 0.0025 0.0050 0.0250 0.0500 0.1000 0.5000"
      ]
     },
     "metadata": {},
     "output_type": "display_data"
    }
   ],
   "source": [
    "unique(geneset_oi_per_fraction$fraction)"
   ]
  },
  {
   "cell_type": "code",
   "execution_count": 214,
   "id": "dc36497e-054b-4fa9-bec3-78c0cc0f8d3c",
   "metadata": {},
   "outputs": [],
   "source": [
    "# analysis_data_subset = geneset_oi_per_fraction[geneset_oi_per_fraction$fraction == top_frac,]   #with filtering for certain fraction\n",
    "analysis_data_subset = geneset_oi_per_fraction[geneset_oi_per_fraction$variable %in% c('Factor1', 'Factor2', 'Factor4'),]"
   ]
  },
  {
   "cell_type": "code",
   "execution_count": 215,
   "id": "de6f742f-7ac2-4b17-a579-678add9b7454",
   "metadata": {},
   "outputs": [],
   "source": [
    "analysis_data_subset$direction_sign = analysis_data_subset$direction\n",
    "analysis_data_subset$direction_sign[analysis_data_subset$direction == 'positive'] = '+'\n",
    "analysis_data_subset$direction_sign[analysis_data_subset$direction == 'negative'] = '-'"
   ]
  },
  {
   "cell_type": "code",
   "execution_count": 216,
   "id": "a9e1231c-59f6-4626-9524-a50f69388e3b",
   "metadata": {},
   "outputs": [],
   "source": [
    "analysis_data_subset$cell_type = str_replace(analysis_data_subset$view, '\\\\(Cluster.*\\\\)', '')\n",
    "analysis_data_subset$cluster = str_extract(analysis_data_subset$view, '\\\\(Cluster.*\\\\)')\n",
    "analysis_data_subset$cluster = str_replace_all(analysis_data_subset$cluster, '\\\\(|\\\\)', '')"
   ]
  },
  {
   "cell_type": "code",
   "execution_count": 217,
   "id": "e3065d04-b275-4fc0-a018-2677404ade48",
   "metadata": {},
   "outputs": [],
   "source": [
    "analysis_data_subset$facet =  paste0(analysis_data_subset$direction_sign, analysis_data_subset$view)"
   ]
  },
  {
   "cell_type": "code",
   "execution_count": 218,
   "id": "f4795e22-a329-45ef-9d6d-077e90ffb604",
   "metadata": {},
   "outputs": [],
   "source": [
    "analysis_data_subset$cluster[is.na(analysis_data_subset$cluster)] = analysis_data_subset$cell_type[is.na(analysis_data_subset$cluster)]"
   ]
  },
  {
   "cell_type": "code",
   "execution_count": 219,
   "id": "bd67880a-f279-4827-a0ac-acf14e18d7c5",
   "metadata": {},
   "outputs": [
    {
     "data": {
      "text/html": [
       "<table class=\"dataframe\">\n",
       "<caption>A grouped_df: 2 × 12</caption>\n",
       "<thead>\n",
       "\t<tr><th scope=col>type</th><th scope=col>variable_name</th><th scope=col>gene</th><th scope=col>view</th><th scope=col>variable</th><th scope=col>value</th><th scope=col>direction</th><th scope=col>fraction</th><th scope=col>direction_sign</th><th scope=col>cell_type</th><th scope=col>cluster</th><th scope=col>facet</th></tr>\n",
       "\t<tr><th scope=col>&lt;chr&gt;</th><th scope=col>&lt;chr&gt;</th><th scope=col>&lt;chr&gt;</th><th scope=col>&lt;chr&gt;</th><th scope=col>&lt;fct&gt;</th><th scope=col>&lt;dbl&gt;</th><th scope=col>&lt;chr&gt;</th><th scope=col>&lt;dbl&gt;</th><th scope=col>&lt;chr&gt;</th><th scope=col>&lt;chr&gt;</th><th scope=col>&lt;chr&gt;</th><th scope=col>&lt;chr&gt;</th></tr>\n",
       "</thead>\n",
       "<tbody>\n",
       "\t<tr><td>X0_TcellCD4</td><td>X0_T.cell.CD4__PFN1</td><td>PFN1</td><td>CD4+ T cells (Cluster 0)</td><td>Factor1</td><td>0.5382836</td><td>positive</td><td>5e-04</td><td>+</td><td>CD4+ T cells </td><td>Cluster 0</td><td>+CD4+ T cells (Cluster 0)</td></tr>\n",
       "\t<tr><td>X0_TcellCD4</td><td>X0_T.cell.CD4__CYBA</td><td>CYBA</td><td>CD4+ T cells (Cluster 0)</td><td>Factor1</td><td>0.5225588</td><td>positive</td><td>5e-04</td><td>+</td><td>CD4+ T cells </td><td>Cluster 0</td><td>+CD4+ T cells (Cluster 0)</td></tr>\n",
       "</tbody>\n",
       "</table>\n"
      ],
      "text/latex": [
       "A grouped\\_df: 2 × 12\n",
       "\\begin{tabular}{llllllllllll}\n",
       " type & variable\\_name & gene & view & variable & value & direction & fraction & direction\\_sign & cell\\_type & cluster & facet\\\\\n",
       " <chr> & <chr> & <chr> & <chr> & <fct> & <dbl> & <chr> & <dbl> & <chr> & <chr> & <chr> & <chr>\\\\\n",
       "\\hline\n",
       "\t X0\\_TcellCD4 & X0\\_T.cell.CD4\\_\\_PFN1 & PFN1 & CD4+ T cells (Cluster 0) & Factor1 & 0.5382836 & positive & 5e-04 & + & CD4+ T cells  & Cluster 0 & +CD4+ T cells (Cluster 0)\\\\\n",
       "\t X0\\_TcellCD4 & X0\\_T.cell.CD4\\_\\_CYBA & CYBA & CD4+ T cells (Cluster 0) & Factor1 & 0.5225588 & positive & 5e-04 & + & CD4+ T cells  & Cluster 0 & +CD4+ T cells (Cluster 0)\\\\\n",
       "\\end{tabular}\n"
      ],
      "text/markdown": [
       "\n",
       "A grouped_df: 2 × 12\n",
       "\n",
       "| type &lt;chr&gt; | variable_name &lt;chr&gt; | gene &lt;chr&gt; | view &lt;chr&gt; | variable &lt;fct&gt; | value &lt;dbl&gt; | direction &lt;chr&gt; | fraction &lt;dbl&gt; | direction_sign &lt;chr&gt; | cell_type &lt;chr&gt; | cluster &lt;chr&gt; | facet &lt;chr&gt; |\n",
       "|---|---|---|---|---|---|---|---|---|---|---|---|\n",
       "| X0_TcellCD4 | X0_T.cell.CD4__PFN1 | PFN1 | CD4+ T cells (Cluster 0) | Factor1 | 0.5382836 | positive | 5e-04 | + | CD4+ T cells  | Cluster 0 | +CD4+ T cells (Cluster 0) |\n",
       "| X0_TcellCD4 | X0_T.cell.CD4__CYBA | CYBA | CD4+ T cells (Cluster 0) | Factor1 | 0.5225588 | positive | 5e-04 | + | CD4+ T cells  | Cluster 0 | +CD4+ T cells (Cluster 0) |\n",
       "\n"
      ],
      "text/plain": [
       "  type        variable_name       gene view                     variable\n",
       "1 X0_TcellCD4 X0_T.cell.CD4__PFN1 PFN1 CD4+ T cells (Cluster 0) Factor1 \n",
       "2 X0_TcellCD4 X0_T.cell.CD4__CYBA CYBA CD4+ T cells (Cluster 0) Factor1 \n",
       "  value     direction fraction direction_sign cell_type     cluster  \n",
       "1 0.5382836 positive  5e-04    +              CD4+ T cells  Cluster 0\n",
       "2 0.5225588 positive  5e-04    +              CD4+ T cells  Cluster 0\n",
       "  facet                    \n",
       "1 +CD4+ T cells (Cluster 0)\n",
       "2 +CD4+ T cells (Cluster 0)"
      ]
     },
     "metadata": {},
     "output_type": "display_data"
    }
   ],
   "source": [
    "head(analysis_data_subset,2)"
   ]
  },
  {
   "cell_type": "code",
   "execution_count": 220,
   "id": "9f6f1119-37eb-4ae1-8606-bf293f7d82c6",
   "metadata": {},
   "outputs": [
    {
     "data": {
      "text/html": [
       "<table class=\"dataframe\">\n",
       "<caption>A data.frame: 2 × 4</caption>\n",
       "<thead>\n",
       "\t<tr><th></th><th scope=col>sample_id</th><th scope=col>variable</th><th scope=col>value</th><th scope=col>type</th></tr>\n",
       "\t<tr><th></th><th scope=col>&lt;chr&gt;</th><th scope=col>&lt;chr&gt;</th><th scope=col>&lt;dbl&gt;</th><th scope=col>&lt;chr&gt;</th></tr>\n",
       "</thead>\n",
       "<tbody>\n",
       "\t<tr><th scope=row>513</th><td>k1 </td><td>BCA1__CXCL13</td><td> 0.2902127</td><td>cytokine</td></tr>\n",
       "\t<tr><th scope=row>514</th><td>k10</td><td>BCA1__CXCL13</td><td>-0.9726875</td><td>cytokine</td></tr>\n",
       "</tbody>\n",
       "</table>\n"
      ],
      "text/latex": [
       "A data.frame: 2 × 4\n",
       "\\begin{tabular}{r|llll}\n",
       "  & sample\\_id & variable & value & type\\\\\n",
       "  & <chr> & <chr> & <dbl> & <chr>\\\\\n",
       "\\hline\n",
       "\t513 & k1  & BCA1\\_\\_CXCL13 &  0.2902127 & cytokine\\\\\n",
       "\t514 & k10 & BCA1\\_\\_CXCL13 & -0.9726875 & cytokine\\\\\n",
       "\\end{tabular}\n"
      ],
      "text/markdown": [
       "\n",
       "A data.frame: 2 × 4\n",
       "\n",
       "| <!--/--> | sample_id &lt;chr&gt; | variable &lt;chr&gt; | value &lt;dbl&gt; | type &lt;chr&gt; |\n",
       "|---|---|---|---|---|\n",
       "| 513 | k1  | BCA1__CXCL13 |  0.2902127 | cytokine |\n",
       "| 514 | k10 | BCA1__CXCL13 | -0.9726875 | cytokine |\n",
       "\n"
      ],
      "text/plain": [
       "    sample_id variable     value      type    \n",
       "513 k1        BCA1__CXCL13  0.2902127 cytokine\n",
       "514 k10       BCA1__CXCL13 -0.9726875 cytokine"
      ]
     },
     "metadata": {},
     "output_type": "display_data"
    }
   ],
   "source": [
    "head(data_long,2)"
   ]
  },
  {
   "cell_type": "code",
   "execution_count": 221,
   "id": "5a2bca12-cf44-46d0-b983-1d27b5996ac0",
   "metadata": {},
   "outputs": [],
   "source": [
    "colnames(data_long) = c('sample_id', 'variable_name', 'expression_value', 'type')"
   ]
  },
  {
   "cell_type": "code",
   "execution_count": 222,
   "id": "fb4ab316-1bce-4c39-ad72-c0f89742371c",
   "metadata": {},
   "outputs": [],
   "source": [
    "heatmap_data = merge(data_long, analysis_data_subset, by.x = c('variable_name'), by.y = c('variable_name'))"
   ]
  },
  {
   "cell_type": "code",
   "execution_count": 223,
   "id": "0b861086-ccbd-4842-8d43-4a1e81409d08",
   "metadata": {},
   "outputs": [
    {
     "data": {
      "text/html": [
       "<style>\n",
       ".list-inline {list-style: none; margin:0; padding: 0}\n",
       ".list-inline>li {display: inline-block}\n",
       ".list-inline>li:not(:last-child)::after {content: \"\\00b7\"; padding: 0 .5ex}\n",
       "</style>\n",
       "<ol class=list-inline><li>'Proteomics'</li><li>'Neutrophil'</li><li>'Cytokine'</li><li>'CD4+ T cells (Cluster 0)'</li><li>'CD8+ T cells (Cluster 1)'</li><li>'B cells (Cluster 10)'</li><li>'CD4+ T cells (Cluster 11)'</li><li>'FCGR3A(high) Monocytes (Cluster 12)'</li><li>'Dendritic cells (Cluster 13)'</li><li>'CD4+ T cells (Cluster 2)'</li><li>'NK cells (Cluster 3)'</li><li>'CD14(high) Monocytes (Cluster 4)'</li><li>'CD4+ T cells (Cluster 5)'</li><li>'CD14(high) Monocytes (Cluster 6)'</li><li>'CD14(high) Monocytes (Cluster 7)'</li><li>'B cells (Cluster 8)'</li><li>'FCGR3A(high) Monocytes (Cluster 9)'</li></ol>\n"
      ],
      "text/latex": [
       "\\begin{enumerate*}\n",
       "\\item 'Proteomics'\n",
       "\\item 'Neutrophil'\n",
       "\\item 'Cytokine'\n",
       "\\item 'CD4+ T cells (Cluster 0)'\n",
       "\\item 'CD8+ T cells (Cluster 1)'\n",
       "\\item 'B cells (Cluster 10)'\n",
       "\\item 'CD4+ T cells (Cluster 11)'\n",
       "\\item 'FCGR3A(high) Monocytes (Cluster 12)'\n",
       "\\item 'Dendritic cells (Cluster 13)'\n",
       "\\item 'CD4+ T cells (Cluster 2)'\n",
       "\\item 'NK cells (Cluster 3)'\n",
       "\\item 'CD14(high) Monocytes (Cluster 4)'\n",
       "\\item 'CD4+ T cells (Cluster 5)'\n",
       "\\item 'CD14(high) Monocytes (Cluster 6)'\n",
       "\\item 'CD14(high) Monocytes (Cluster 7)'\n",
       "\\item 'B cells (Cluster 8)'\n",
       "\\item 'FCGR3A(high) Monocytes (Cluster 9)'\n",
       "\\end{enumerate*}\n"
      ],
      "text/markdown": [
       "1. 'Proteomics'\n",
       "2. 'Neutrophil'\n",
       "3. 'Cytokine'\n",
       "4. 'CD4+ T cells (Cluster 0)'\n",
       "5. 'CD8+ T cells (Cluster 1)'\n",
       "6. 'B cells (Cluster 10)'\n",
       "7. 'CD4+ T cells (Cluster 11)'\n",
       "8. 'FCGR3A(high) Monocytes (Cluster 12)'\n",
       "9. 'Dendritic cells (Cluster 13)'\n",
       "10. 'CD4+ T cells (Cluster 2)'\n",
       "11. 'NK cells (Cluster 3)'\n",
       "12. 'CD14(high) Monocytes (Cluster 4)'\n",
       "13. 'CD4+ T cells (Cluster 5)'\n",
       "14. 'CD14(high) Monocytes (Cluster 6)'\n",
       "15. 'CD14(high) Monocytes (Cluster 7)'\n",
       "16. 'B cells (Cluster 8)'\n",
       "17. 'FCGR3A(high) Monocytes (Cluster 9)'\n",
       "\n",
       "\n"
      ],
      "text/plain": [
       " [1] \"Proteomics\"                          \"Neutrophil\"                         \n",
       " [3] \"Cytokine\"                            \"CD4+ T cells (Cluster 0)\"           \n",
       " [5] \"CD8+ T cells (Cluster 1)\"            \"B cells (Cluster 10)\"               \n",
       " [7] \"CD4+ T cells (Cluster 11)\"           \"FCGR3A(high) Monocytes (Cluster 12)\"\n",
       " [9] \"Dendritic cells (Cluster 13)\"        \"CD4+ T cells (Cluster 2)\"           \n",
       "[11] \"NK cells (Cluster 3)\"                \"CD14(high) Monocytes (Cluster 4)\"   \n",
       "[13] \"CD4+ T cells (Cluster 5)\"            \"CD14(high) Monocytes (Cluster 6)\"   \n",
       "[15] \"CD14(high) Monocytes (Cluster 7)\"    \"B cells (Cluster 8)\"                \n",
       "[17] \"FCGR3A(high) Monocytes (Cluster 9)\" "
      ]
     },
     "metadata": {},
     "output_type": "display_data"
    }
   ],
   "source": [
    "unique(heatmap_data$view)"
   ]
  },
  {
   "cell_type": "code",
   "execution_count": 224,
   "id": "47fa3944-b871-4444-84af-03561cce03a5",
   "metadata": {},
   "outputs": [
    {
     "data": {
      "text/html": [
       "6971904"
      ],
      "text/latex": [
       "6971904"
      ],
      "text/markdown": [
       "6971904"
      ],
      "text/plain": [
       "[1] 6971904"
      ]
     },
     "metadata": {},
     "output_type": "display_data"
    }
   ],
   "source": [
    "nrow(heatmap_data)"
   ]
  },
  {
   "cell_type": "code",
   "execution_count": 225,
   "id": "f585abb3-14c3-47aa-983a-b8679bb8cef4",
   "metadata": {},
   "outputs": [
    {
     "data": {
      "text/html": [
       "<table class=\"dataframe\">\n",
       "<caption>A data.frame: 2 × 15</caption>\n",
       "<thead>\n",
       "\t<tr><th></th><th scope=col>variable_name</th><th scope=col>sample_id</th><th scope=col>expression_value</th><th scope=col>type.x</th><th scope=col>type.y</th><th scope=col>gene</th><th scope=col>view</th><th scope=col>variable</th><th scope=col>value</th><th scope=col>direction</th><th scope=col>fraction</th><th scope=col>direction_sign</th><th scope=col>cell_type</th><th scope=col>cluster</th><th scope=col>facet</th></tr>\n",
       "\t<tr><th></th><th scope=col>&lt;chr&gt;</th><th scope=col>&lt;chr&gt;</th><th scope=col>&lt;dbl&gt;</th><th scope=col>&lt;chr&gt;</th><th scope=col>&lt;chr&gt;</th><th scope=col>&lt;chr&gt;</th><th scope=col>&lt;chr&gt;</th><th scope=col>&lt;fct&gt;</th><th scope=col>&lt;dbl&gt;</th><th scope=col>&lt;chr&gt;</th><th scope=col>&lt;dbl&gt;</th><th scope=col>&lt;chr&gt;</th><th scope=col>&lt;chr&gt;</th><th scope=col>&lt;chr&gt;</th><th scope=col>&lt;chr&gt;</th></tr>\n",
       "</thead>\n",
       "<tbody>\n",
       "\t<tr><th scope=row>1</th><td>A1BG_M0R009</td><td>k1</td><td>NA</td><td>proteomics</td><td>proteomics</td><td>A1BG_M0R009</td><td>Proteomics</td><td>Factor4</td><td>0.15643382</td><td>positive</td><td>0.5</td><td>+</td><td>Proteomics</td><td>Proteomics</td><td>+Proteomics</td></tr>\n",
       "\t<tr><th scope=row>2</th><td>A1BG_M0R009</td><td>k1</td><td>NA</td><td>proteomics</td><td>proteomics</td><td>A1BG_M0R009</td><td>Proteomics</td><td>Factor1</td><td>0.00477366</td><td>negative</td><td>0.5</td><td>-</td><td>Proteomics</td><td>Proteomics</td><td>-Proteomics</td></tr>\n",
       "</tbody>\n",
       "</table>\n"
      ],
      "text/latex": [
       "A data.frame: 2 × 15\n",
       "\\begin{tabular}{r|lllllllllllllll}\n",
       "  & variable\\_name & sample\\_id & expression\\_value & type.x & type.y & gene & view & variable & value & direction & fraction & direction\\_sign & cell\\_type & cluster & facet\\\\\n",
       "  & <chr> & <chr> & <dbl> & <chr> & <chr> & <chr> & <chr> & <fct> & <dbl> & <chr> & <dbl> & <chr> & <chr> & <chr> & <chr>\\\\\n",
       "\\hline\n",
       "\t1 & A1BG\\_M0R009 & k1 & NA & proteomics & proteomics & A1BG\\_M0R009 & Proteomics & Factor4 & 0.15643382 & positive & 0.5 & + & Proteomics & Proteomics & +Proteomics\\\\\n",
       "\t2 & A1BG\\_M0R009 & k1 & NA & proteomics & proteomics & A1BG\\_M0R009 & Proteomics & Factor1 & 0.00477366 & negative & 0.5 & - & Proteomics & Proteomics & -Proteomics\\\\\n",
       "\\end{tabular}\n"
      ],
      "text/markdown": [
       "\n",
       "A data.frame: 2 × 15\n",
       "\n",
       "| <!--/--> | variable_name &lt;chr&gt; | sample_id &lt;chr&gt; | expression_value &lt;dbl&gt; | type.x &lt;chr&gt; | type.y &lt;chr&gt; | gene &lt;chr&gt; | view &lt;chr&gt; | variable &lt;fct&gt; | value &lt;dbl&gt; | direction &lt;chr&gt; | fraction &lt;dbl&gt; | direction_sign &lt;chr&gt; | cell_type &lt;chr&gt; | cluster &lt;chr&gt; | facet &lt;chr&gt; |\n",
       "|---|---|---|---|---|---|---|---|---|---|---|---|---|---|---|---|\n",
       "| 1 | A1BG_M0R009 | k1 | NA | proteomics | proteomics | A1BG_M0R009 | Proteomics | Factor4 | 0.15643382 | positive | 0.5 | + | Proteomics | Proteomics | +Proteomics |\n",
       "| 2 | A1BG_M0R009 | k1 | NA | proteomics | proteomics | A1BG_M0R009 | Proteomics | Factor1 | 0.00477366 | negative | 0.5 | - | Proteomics | Proteomics | -Proteomics |\n",
       "\n"
      ],
      "text/plain": [
       "  variable_name sample_id expression_value type.x     type.y     gene       \n",
       "1 A1BG_M0R009   k1        NA               proteomics proteomics A1BG_M0R009\n",
       "2 A1BG_M0R009   k1        NA               proteomics proteomics A1BG_M0R009\n",
       "  view       variable value      direction fraction direction_sign cell_type \n",
       "1 Proteomics Factor4  0.15643382 positive  0.5      +              Proteomics\n",
       "2 Proteomics Factor1  0.00477366 negative  0.5      -              Proteomics\n",
       "  cluster    facet      \n",
       "1 Proteomics +Proteomics\n",
       "2 Proteomics -Proteomics"
      ]
     },
     "metadata": {},
     "output_type": "display_data"
    }
   ],
   "source": [
    "head(heatmap_data,2)"
   ]
  },
  {
   "cell_type": "code",
   "execution_count": 226,
   "id": "7f1842fa-43a0-4c77-9350-0566d7f2101a",
   "metadata": {},
   "outputs": [],
   "source": [
    "### Add sample meta-data"
   ]
  },
  {
   "cell_type": "code",
   "execution_count": 227,
   "id": "bbcdbed0-da56-48ce-9e03-8c35075c0af1",
   "metadata": {},
   "outputs": [],
   "source": [
    "#colnames(sample_data)"
   ]
  },
  {
   "cell_type": "code",
   "execution_count": 228,
   "id": "96578774-835e-4ead-ab28-6923dcc16bf8",
   "metadata": {},
   "outputs": [],
   "source": [
    "heatmap_data = merge(heatmap_data, sample_data[,c('measurement', 'classification', 'sample_id', 'delta_ef_value_class', 'class', 'measurement2', 'measurement_class', 'delta_ef_value_class_summarized','tp_outcome' )], by.x = 'sample_id', by.y = 'sample_id')"
   ]
  },
  {
   "cell_type": "code",
   "execution_count": 229,
   "id": "fdc9a3b0-70db-4c91-87a3-02ceda899cbb",
   "metadata": {},
   "outputs": [
    {
     "data": {
      "text/html": [
       "<table class=\"dataframe\">\n",
       "<caption>A data.frame: 2 × 23</caption>\n",
       "<thead>\n",
       "\t<tr><th></th><th scope=col>sample_id</th><th scope=col>variable_name</th><th scope=col>expression_value</th><th scope=col>type.x</th><th scope=col>type.y</th><th scope=col>gene</th><th scope=col>view</th><th scope=col>variable</th><th scope=col>value</th><th scope=col>direction</th><th scope=col>⋯</th><th scope=col>cluster</th><th scope=col>facet</th><th scope=col>measurement</th><th scope=col>classification</th><th scope=col>delta_ef_value_class</th><th scope=col>class</th><th scope=col>measurement2</th><th scope=col>measurement_class</th><th scope=col>delta_ef_value_class_summarized</th><th scope=col>tp_outcome</th></tr>\n",
       "\t<tr><th></th><th scope=col>&lt;chr&gt;</th><th scope=col>&lt;chr&gt;</th><th scope=col>&lt;dbl&gt;</th><th scope=col>&lt;chr&gt;</th><th scope=col>&lt;chr&gt;</th><th scope=col>&lt;chr&gt;</th><th scope=col>&lt;chr&gt;</th><th scope=col>&lt;fct&gt;</th><th scope=col>&lt;dbl&gt;</th><th scope=col>&lt;chr&gt;</th><th scope=col>⋯</th><th scope=col>&lt;chr&gt;</th><th scope=col>&lt;chr&gt;</th><th scope=col>&lt;chr&gt;</th><th scope=col>&lt;chr&gt;</th><th scope=col>&lt;chr&gt;</th><th scope=col>&lt;chr&gt;</th><th scope=col>&lt;chr&gt;</th><th scope=col>&lt;chr&gt;</th><th scope=col>&lt;chr&gt;</th><th scope=col>&lt;chr&gt;</th></tr>\n",
       "</thead>\n",
       "<tbody>\n",
       "\t<tr><th scope=row>1</th><td>k1</td><td>A1BG_M0R009</td><td>NA</td><td>proteomics</td><td>proteomics</td><td>A1BG_M0R009</td><td>Proteomics</td><td>Factor4</td><td>0.15643382</td><td>positive</td><td>⋯</td><td>Proteomics</td><td>+Proteomics</td><td>TP0</td><td>vollstaendiger_ausschluss</td><td>NA</td><td>no_ccs</td><td>TP0_no_ccs</td><td>TP0_vollstaendiger_ausschluss</td><td>NA</td><td>TP0_NA</td></tr>\n",
       "\t<tr><th scope=row>2</th><td>k1</td><td>A1BG_M0R009</td><td>NA</td><td>proteomics</td><td>proteomics</td><td>A1BG_M0R009</td><td>Proteomics</td><td>Factor1</td><td>0.00477366</td><td>negative</td><td>⋯</td><td>Proteomics</td><td>-Proteomics</td><td>TP0</td><td>vollstaendiger_ausschluss</td><td>NA</td><td>no_ccs</td><td>TP0_no_ccs</td><td>TP0_vollstaendiger_ausschluss</td><td>NA</td><td>TP0_NA</td></tr>\n",
       "</tbody>\n",
       "</table>\n"
      ],
      "text/latex": [
       "A data.frame: 2 × 23\n",
       "\\begin{tabular}{r|lllllllllllllllllllll}\n",
       "  & sample\\_id & variable\\_name & expression\\_value & type.x & type.y & gene & view & variable & value & direction & ⋯ & cluster & facet & measurement & classification & delta\\_ef\\_value\\_class & class & measurement2 & measurement\\_class & delta\\_ef\\_value\\_class\\_summarized & tp\\_outcome\\\\\n",
       "  & <chr> & <chr> & <dbl> & <chr> & <chr> & <chr> & <chr> & <fct> & <dbl> & <chr> & ⋯ & <chr> & <chr> & <chr> & <chr> & <chr> & <chr> & <chr> & <chr> & <chr> & <chr>\\\\\n",
       "\\hline\n",
       "\t1 & k1 & A1BG\\_M0R009 & NA & proteomics & proteomics & A1BG\\_M0R009 & Proteomics & Factor4 & 0.15643382 & positive & ⋯ & Proteomics & +Proteomics & TP0 & vollstaendiger\\_ausschluss & NA & no\\_ccs & TP0\\_no\\_ccs & TP0\\_vollstaendiger\\_ausschluss & NA & TP0\\_NA\\\\\n",
       "\t2 & k1 & A1BG\\_M0R009 & NA & proteomics & proteomics & A1BG\\_M0R009 & Proteomics & Factor1 & 0.00477366 & negative & ⋯ & Proteomics & -Proteomics & TP0 & vollstaendiger\\_ausschluss & NA & no\\_ccs & TP0\\_no\\_ccs & TP0\\_vollstaendiger\\_ausschluss & NA & TP0\\_NA\\\\\n",
       "\\end{tabular}\n"
      ],
      "text/markdown": [
       "\n",
       "A data.frame: 2 × 23\n",
       "\n",
       "| <!--/--> | sample_id &lt;chr&gt; | variable_name &lt;chr&gt; | expression_value &lt;dbl&gt; | type.x &lt;chr&gt; | type.y &lt;chr&gt; | gene &lt;chr&gt; | view &lt;chr&gt; | variable &lt;fct&gt; | value &lt;dbl&gt; | direction &lt;chr&gt; | ⋯ ⋯ | cluster &lt;chr&gt; | facet &lt;chr&gt; | measurement &lt;chr&gt; | classification &lt;chr&gt; | delta_ef_value_class &lt;chr&gt; | class &lt;chr&gt; | measurement2 &lt;chr&gt; | measurement_class &lt;chr&gt; | delta_ef_value_class_summarized &lt;chr&gt; | tp_outcome &lt;chr&gt; |\n",
       "|---|---|---|---|---|---|---|---|---|---|---|---|---|---|---|---|---|---|---|---|---|---|\n",
       "| 1 | k1 | A1BG_M0R009 | NA | proteomics | proteomics | A1BG_M0R009 | Proteomics | Factor4 | 0.15643382 | positive | ⋯ | Proteomics | +Proteomics | TP0 | vollstaendiger_ausschluss | NA | no_ccs | TP0_no_ccs | TP0_vollstaendiger_ausschluss | NA | TP0_NA |\n",
       "| 2 | k1 | A1BG_M0R009 | NA | proteomics | proteomics | A1BG_M0R009 | Proteomics | Factor1 | 0.00477366 | negative | ⋯ | Proteomics | -Proteomics | TP0 | vollstaendiger_ausschluss | NA | no_ccs | TP0_no_ccs | TP0_vollstaendiger_ausschluss | NA | TP0_NA |\n",
       "\n"
      ],
      "text/plain": [
       "  sample_id variable_name expression_value type.x     type.y     gene       \n",
       "1 k1        A1BG_M0R009   NA               proteomics proteomics A1BG_M0R009\n",
       "2 k1        A1BG_M0R009   NA               proteomics proteomics A1BG_M0R009\n",
       "  view       variable value      direction ⋯ cluster    facet       measurement\n",
       "1 Proteomics Factor4  0.15643382 positive  ⋯ Proteomics +Proteomics TP0        \n",
       "2 Proteomics Factor1  0.00477366 negative  ⋯ Proteomics -Proteomics TP0        \n",
       "  classification            delta_ef_value_class class  measurement2\n",
       "1 vollstaendiger_ausschluss NA                   no_ccs TP0_no_ccs  \n",
       "2 vollstaendiger_ausschluss NA                   no_ccs TP0_no_ccs  \n",
       "  measurement_class             delta_ef_value_class_summarized tp_outcome\n",
       "1 TP0_vollstaendiger_ausschluss NA                              TP0_NA    \n",
       "2 TP0_vollstaendiger_ausschluss NA                              TP0_NA    "
      ]
     },
     "metadata": {},
     "output_type": "display_data"
    }
   ],
   "source": [
    "head(heatmap_data,2)"
   ]
  },
  {
   "cell_type": "code",
   "execution_count": 230,
   "id": "3cde950a-11c1-4798-82c6-24212d7e07de",
   "metadata": {},
   "outputs": [],
   "source": [
    "heatmap_data = heatmap_data[heatmap_data$sample_id %in% samples,]"
   ]
  },
  {
   "cell_type": "code",
   "execution_count": 231,
   "id": "f601ad28-5b15-4952-abc6-24b34f2a1a05",
   "metadata": {},
   "outputs": [],
   "source": [
    "#samples"
   ]
  },
  {
   "cell_type": "code",
   "execution_count": 232,
   "id": "d1baded7-375c-492a-942c-d6b09fe60245",
   "metadata": {
    "tags": []
   },
   "outputs": [],
   "source": [
    "### Prepare Plotting"
   ]
  },
  {
   "cell_type": "code",
   "execution_count": 233,
   "id": "24292dcc-88a9-4606-b852-ecd75279db9e",
   "metadata": {},
   "outputs": [
    {
     "data": {
      "text/html": [
       "128"
      ],
      "text/latex": [
       "128"
      ],
      "text/markdown": [
       "128"
      ],
      "text/plain": [
       "[1] 128"
      ]
     },
     "metadata": {},
     "output_type": "display_data"
    }
   ],
   "source": [
    "length(unique(heatmap_data$sample_id))"
   ]
  },
  {
   "cell_type": "code",
   "execution_count": 234,
   "id": "0a3a5069-3324-484f-8746-ef3e75e9aca2",
   "metadata": {},
   "outputs": [
    {
     "data": {
      "text/html": [
       "<table class=\"dataframe\">\n",
       "<caption>A data.frame: 2 × 23</caption>\n",
       "<thead>\n",
       "\t<tr><th></th><th scope=col>sample_id</th><th scope=col>variable_name</th><th scope=col>expression_value</th><th scope=col>type.x</th><th scope=col>type.y</th><th scope=col>gene</th><th scope=col>view</th><th scope=col>variable</th><th scope=col>value</th><th scope=col>direction</th><th scope=col>⋯</th><th scope=col>cluster</th><th scope=col>facet</th><th scope=col>measurement</th><th scope=col>classification</th><th scope=col>delta_ef_value_class</th><th scope=col>class</th><th scope=col>measurement2</th><th scope=col>measurement_class</th><th scope=col>delta_ef_value_class_summarized</th><th scope=col>tp_outcome</th></tr>\n",
       "\t<tr><th></th><th scope=col>&lt;chr&gt;</th><th scope=col>&lt;chr&gt;</th><th scope=col>&lt;dbl&gt;</th><th scope=col>&lt;chr&gt;</th><th scope=col>&lt;chr&gt;</th><th scope=col>&lt;chr&gt;</th><th scope=col>&lt;chr&gt;</th><th scope=col>&lt;fct&gt;</th><th scope=col>&lt;dbl&gt;</th><th scope=col>&lt;chr&gt;</th><th scope=col>⋯</th><th scope=col>&lt;chr&gt;</th><th scope=col>&lt;chr&gt;</th><th scope=col>&lt;chr&gt;</th><th scope=col>&lt;chr&gt;</th><th scope=col>&lt;chr&gt;</th><th scope=col>&lt;chr&gt;</th><th scope=col>&lt;chr&gt;</th><th scope=col>&lt;chr&gt;</th><th scope=col>&lt;chr&gt;</th><th scope=col>&lt;chr&gt;</th></tr>\n",
       "</thead>\n",
       "<tbody>\n",
       "\t<tr><th scope=row>1</th><td>k1</td><td>A1BG_M0R009</td><td>NA</td><td>proteomics</td><td>proteomics</td><td>A1BG_M0R009</td><td>Proteomics</td><td>Factor4</td><td>0.15643382</td><td>positive</td><td>⋯</td><td>Proteomics</td><td>+Proteomics</td><td>TP0</td><td>vollstaendiger_ausschluss</td><td>NA</td><td>no_ccs</td><td>TP0_no_ccs</td><td>TP0_vollstaendiger_ausschluss</td><td>NA</td><td>TP0_NA</td></tr>\n",
       "\t<tr><th scope=row>2</th><td>k1</td><td>A1BG_M0R009</td><td>NA</td><td>proteomics</td><td>proteomics</td><td>A1BG_M0R009</td><td>Proteomics</td><td>Factor1</td><td>0.00477366</td><td>negative</td><td>⋯</td><td>Proteomics</td><td>-Proteomics</td><td>TP0</td><td>vollstaendiger_ausschluss</td><td>NA</td><td>no_ccs</td><td>TP0_no_ccs</td><td>TP0_vollstaendiger_ausschluss</td><td>NA</td><td>TP0_NA</td></tr>\n",
       "</tbody>\n",
       "</table>\n"
      ],
      "text/latex": [
       "A data.frame: 2 × 23\n",
       "\\begin{tabular}{r|lllllllllllllllllllll}\n",
       "  & sample\\_id & variable\\_name & expression\\_value & type.x & type.y & gene & view & variable & value & direction & ⋯ & cluster & facet & measurement & classification & delta\\_ef\\_value\\_class & class & measurement2 & measurement\\_class & delta\\_ef\\_value\\_class\\_summarized & tp\\_outcome\\\\\n",
       "  & <chr> & <chr> & <dbl> & <chr> & <chr> & <chr> & <chr> & <fct> & <dbl> & <chr> & ⋯ & <chr> & <chr> & <chr> & <chr> & <chr> & <chr> & <chr> & <chr> & <chr> & <chr>\\\\\n",
       "\\hline\n",
       "\t1 & k1 & A1BG\\_M0R009 & NA & proteomics & proteomics & A1BG\\_M0R009 & Proteomics & Factor4 & 0.15643382 & positive & ⋯ & Proteomics & +Proteomics & TP0 & vollstaendiger\\_ausschluss & NA & no\\_ccs & TP0\\_no\\_ccs & TP0\\_vollstaendiger\\_ausschluss & NA & TP0\\_NA\\\\\n",
       "\t2 & k1 & A1BG\\_M0R009 & NA & proteomics & proteomics & A1BG\\_M0R009 & Proteomics & Factor1 & 0.00477366 & negative & ⋯ & Proteomics & -Proteomics & TP0 & vollstaendiger\\_ausschluss & NA & no\\_ccs & TP0\\_no\\_ccs & TP0\\_vollstaendiger\\_ausschluss & NA & TP0\\_NA\\\\\n",
       "\\end{tabular}\n"
      ],
      "text/markdown": [
       "\n",
       "A data.frame: 2 × 23\n",
       "\n",
       "| <!--/--> | sample_id &lt;chr&gt; | variable_name &lt;chr&gt; | expression_value &lt;dbl&gt; | type.x &lt;chr&gt; | type.y &lt;chr&gt; | gene &lt;chr&gt; | view &lt;chr&gt; | variable &lt;fct&gt; | value &lt;dbl&gt; | direction &lt;chr&gt; | ⋯ ⋯ | cluster &lt;chr&gt; | facet &lt;chr&gt; | measurement &lt;chr&gt; | classification &lt;chr&gt; | delta_ef_value_class &lt;chr&gt; | class &lt;chr&gt; | measurement2 &lt;chr&gt; | measurement_class &lt;chr&gt; | delta_ef_value_class_summarized &lt;chr&gt; | tp_outcome &lt;chr&gt; |\n",
       "|---|---|---|---|---|---|---|---|---|---|---|---|---|---|---|---|---|---|---|---|---|---|\n",
       "| 1 | k1 | A1BG_M0R009 | NA | proteomics | proteomics | A1BG_M0R009 | Proteomics | Factor4 | 0.15643382 | positive | ⋯ | Proteomics | +Proteomics | TP0 | vollstaendiger_ausschluss | NA | no_ccs | TP0_no_ccs | TP0_vollstaendiger_ausschluss | NA | TP0_NA |\n",
       "| 2 | k1 | A1BG_M0R009 | NA | proteomics | proteomics | A1BG_M0R009 | Proteomics | Factor1 | 0.00477366 | negative | ⋯ | Proteomics | -Proteomics | TP0 | vollstaendiger_ausschluss | NA | no_ccs | TP0_no_ccs | TP0_vollstaendiger_ausschluss | NA | TP0_NA |\n",
       "\n"
      ],
      "text/plain": [
       "  sample_id variable_name expression_value type.x     type.y     gene       \n",
       "1 k1        A1BG_M0R009   NA               proteomics proteomics A1BG_M0R009\n",
       "2 k1        A1BG_M0R009   NA               proteomics proteomics A1BG_M0R009\n",
       "  view       variable value      direction ⋯ cluster    facet       measurement\n",
       "1 Proteomics Factor4  0.15643382 positive  ⋯ Proteomics +Proteomics TP0        \n",
       "2 Proteomics Factor1  0.00477366 negative  ⋯ Proteomics -Proteomics TP0        \n",
       "  classification            delta_ef_value_class class  measurement2\n",
       "1 vollstaendiger_ausschluss NA                   no_ccs TP0_no_ccs  \n",
       "2 vollstaendiger_ausschluss NA                   no_ccs TP0_no_ccs  \n",
       "  measurement_class             delta_ef_value_class_summarized tp_outcome\n",
       "1 TP0_vollstaendiger_ausschluss NA                              TP0_NA    \n",
       "2 TP0_vollstaendiger_ausschluss NA                              TP0_NA    "
      ]
     },
     "metadata": {},
     "output_type": "display_data"
    }
   ],
   "source": [
    "head(heatmap_data,2)"
   ]
  },
  {
   "cell_type": "code",
   "execution_count": 235,
   "id": "f49c4dca-1b0b-490a-b641-a147fe4583de",
   "metadata": {},
   "outputs": [
    {
     "data": {
      "text/html": [
       "<style>\n",
       ".list-inline {list-style: none; margin:0; padding: 0}\n",
       ".list-inline>li {display: inline-block}\n",
       ".list-inline>li:not(:last-child)::after {content: \"\\00b7\"; padding: 0 .5ex}\n",
       "</style>\n",
       "<ol class=list-inline><li>'Proteomics'</li><li>'CD4+ T cells '</li><li>'CD14(high) Monocytes '</li><li>'Cytokine'</li><li>'B cells '</li><li>'FCGR3A(high) Monocytes '</li><li>'Dendritic cells '</li><li>'CD8+ T cells '</li><li>'Neutrophil'</li><li>'NK cells '</li></ol>\n"
      ],
      "text/latex": [
       "\\begin{enumerate*}\n",
       "\\item 'Proteomics'\n",
       "\\item 'CD4+ T cells '\n",
       "\\item 'CD14(high) Monocytes '\n",
       "\\item 'Cytokine'\n",
       "\\item 'B cells '\n",
       "\\item 'FCGR3A(high) Monocytes '\n",
       "\\item 'Dendritic cells '\n",
       "\\item 'CD8+ T cells '\n",
       "\\item 'Neutrophil'\n",
       "\\item 'NK cells '\n",
       "\\end{enumerate*}\n"
      ],
      "text/markdown": [
       "1. 'Proteomics'\n",
       "2. 'CD4+ T cells '\n",
       "3. 'CD14(high) Monocytes '\n",
       "4. 'Cytokine'\n",
       "5. 'B cells '\n",
       "6. 'FCGR3A(high) Monocytes '\n",
       "7. 'Dendritic cells '\n",
       "8. 'CD8+ T cells '\n",
       "9. 'Neutrophil'\n",
       "10. 'NK cells '\n",
       "\n",
       "\n"
      ],
      "text/plain": [
       " [1] \"Proteomics\"              \"CD4+ T cells \"          \n",
       " [3] \"CD14(high) Monocytes \"   \"Cytokine\"               \n",
       " [5] \"B cells \"                \"FCGR3A(high) Monocytes \"\n",
       " [7] \"Dendritic cells \"        \"CD8+ T cells \"          \n",
       " [9] \"Neutrophil\"              \"NK cells \"              "
      ]
     },
     "metadata": {},
     "output_type": "display_data"
    }
   ],
   "source": [
    "unique(heatmap_data$cell_type)"
   ]
  },
  {
   "cell_type": "code",
   "execution_count": 236,
   "id": "0fd36c3b-5b17-42a1-9644-46a6e77f54a6",
   "metadata": {},
   "outputs": [
    {
     "data": {
      "text/html": [
       "<style>\n",
       ".list-inline {list-style: none; margin:0; padding: 0}\n",
       ".list-inline>li {display: inline-block}\n",
       ".list-inline>li:not(:last-child)::after {content: \"\\00b7\"; padding: 0 .5ex}\n",
       "</style>\n",
       "<ol class=list-inline><li>'Proteomics'</li><li>'Cluster 2'</li><li>'Cluster 4'</li><li>'Cytokine'</li><li>'Cluster 10'</li><li>'Cluster 8'</li><li>'Cluster 0'</li><li>'Cluster 6'</li><li>'Cluster 9'</li><li>'Cluster 12'</li><li>'Cluster 13'</li><li>'Cluster 1'</li><li>'Cluster 11'</li><li>'Neutrophil'</li><li>'Cluster 3'</li><li>'Cluster 7'</li><li>'Cluster 5'</li></ol>\n"
      ],
      "text/latex": [
       "\\begin{enumerate*}\n",
       "\\item 'Proteomics'\n",
       "\\item 'Cluster 2'\n",
       "\\item 'Cluster 4'\n",
       "\\item 'Cytokine'\n",
       "\\item 'Cluster 10'\n",
       "\\item 'Cluster 8'\n",
       "\\item 'Cluster 0'\n",
       "\\item 'Cluster 6'\n",
       "\\item 'Cluster 9'\n",
       "\\item 'Cluster 12'\n",
       "\\item 'Cluster 13'\n",
       "\\item 'Cluster 1'\n",
       "\\item 'Cluster 11'\n",
       "\\item 'Neutrophil'\n",
       "\\item 'Cluster 3'\n",
       "\\item 'Cluster 7'\n",
       "\\item 'Cluster 5'\n",
       "\\end{enumerate*}\n"
      ],
      "text/markdown": [
       "1. 'Proteomics'\n",
       "2. 'Cluster 2'\n",
       "3. 'Cluster 4'\n",
       "4. 'Cytokine'\n",
       "5. 'Cluster 10'\n",
       "6. 'Cluster 8'\n",
       "7. 'Cluster 0'\n",
       "8. 'Cluster 6'\n",
       "9. 'Cluster 9'\n",
       "10. 'Cluster 12'\n",
       "11. 'Cluster 13'\n",
       "12. 'Cluster 1'\n",
       "13. 'Cluster 11'\n",
       "14. 'Neutrophil'\n",
       "15. 'Cluster 3'\n",
       "16. 'Cluster 7'\n",
       "17. 'Cluster 5'\n",
       "\n",
       "\n"
      ],
      "text/plain": [
       " [1] \"Proteomics\" \"Cluster 2\"  \"Cluster 4\"  \"Cytokine\"   \"Cluster 10\"\n",
       " [6] \"Cluster 8\"  \"Cluster 0\"  \"Cluster 6\"  \"Cluster 9\"  \"Cluster 12\"\n",
       "[11] \"Cluster 13\" \"Cluster 1\"  \"Cluster 11\" \"Neutrophil\" \"Cluster 3\" \n",
       "[16] \"Cluster 7\"  \"Cluster 5\" "
      ]
     },
     "metadata": {},
     "output_type": "display_data"
    }
   ],
   "source": [
    "unique(heatmap_data$cluster)"
   ]
  },
  {
   "cell_type": "markdown",
   "id": "4016f142-473d-4d67-b30a-31ad211a556c",
   "metadata": {},
   "source": [
    "# Plots"
   ]
  },
  {
   "cell_type": "markdown",
   "id": "b23a8144-d20d-45de-abf9-5f9200196b69",
   "metadata": {},
   "source": [
    "## Visualize Factor Patterns (Boxplot/ Lineplot)"
   ]
  },
  {
   "cell_type": "markdown",
   "id": "549c4492-4bdd-4fcc-896b-f4b16d293e0e",
   "metadata": {},
   "source": [
    "### All factors pattern visualization"
   ]
  },
  {
   "cell_type": "code",
   "execution_count": 237,
   "id": "25f994e8-bf87-4345-8d6c-c0ac524d9268",
   "metadata": {},
   "outputs": [
    {
     "data": {
      "text/html": [
       "<style>\n",
       ".list-inline {list-style: none; margin:0; padding: 0}\n",
       ".list-inline>li {display: inline-block}\n",
       ".list-inline>li:not(:last-child)::after {content: \"\\00b7\"; padding: 0 .5ex}\n",
       "</style>\n",
       "<ol class=list-inline><li>'TP0'</li><li>'TP1'</li><li>'TP2'</li><li>'TP3'</li><li>'TP4'</li></ol>\n"
      ],
      "text/latex": [
       "\\begin{enumerate*}\n",
       "\\item 'TP0'\n",
       "\\item 'TP1'\n",
       "\\item 'TP2'\n",
       "\\item 'TP3'\n",
       "\\item 'TP4'\n",
       "\\end{enumerate*}\n"
      ],
      "text/markdown": [
       "1. 'TP0'\n",
       "2. 'TP1'\n",
       "3. 'TP2'\n",
       "4. 'TP3'\n",
       "5. 'TP4'\n",
       "\n",
       "\n"
      ],
      "text/plain": [
       "[1] \"TP0\" \"TP1\" \"TP2\" \"TP3\" \"TP4\""
      ]
     },
     "metadata": {},
     "output_type": "display_data"
    }
   ],
   "source": [
    "unique(merged_data_long$measurement)"
   ]
  },
  {
   "cell_type": "code",
   "execution_count": 238,
   "id": "ac065b05-fd21-4b31-8fdb-5b3ccf39f35f",
   "metadata": {},
   "outputs": [],
   "source": [
    "merged_data_long$measurement_concat = merged_data_long$measurement\n",
    "\n",
    "merged_data_long$measurement_concat[merged_data_long$measurement == 'TP0'] = paste0(merged_data_long$measurement[merged_data_long$measurement == 'TP0'], '_',\n",
    "            merged_data_long$class[merged_data_long$measurement == 'TP0'])"
   ]
  },
  {
   "cell_type": "code",
   "execution_count": 239,
   "id": "3a73e706-979a-4809-967d-c64f24b28551",
   "metadata": {},
   "outputs": [],
   "source": [
    "merged_data_long$measurement_concat = str_replace(merged_data_long$measurement_concat, 'TP0_no_ccs', 'No CCS')\n",
    "merged_data_long$measurement_concat = str_replace(merged_data_long$measurement_concat, 'TP0_ccs', 'CCS')"
   ]
  },
  {
   "cell_type": "code",
   "execution_count": 240,
   "id": "f28ecc59-3bf1-4d11-82da-7cab0641d911",
   "metadata": {},
   "outputs": [
    {
     "data": {
      "text/html": [
       "<style>\n",
       ".list-inline {list-style: none; margin:0; padding: 0}\n",
       ".list-inline>li {display: inline-block}\n",
       ".list-inline>li:not(:last-child)::after {content: \"\\00b7\"; padding: 0 .5ex}\n",
       "</style>\n",
       "<ol class=list-inline><li>'No CCS'</li><li>'CCS'</li><li>'TP1'</li><li>'TP2'</li><li>'TP3'</li><li>'TP4'</li></ol>\n"
      ],
      "text/latex": [
       "\\begin{enumerate*}\n",
       "\\item 'No CCS'\n",
       "\\item 'CCS'\n",
       "\\item 'TP1'\n",
       "\\item 'TP2'\n",
       "\\item 'TP3'\n",
       "\\item 'TP4'\n",
       "\\end{enumerate*}\n"
      ],
      "text/markdown": [
       "1. 'No CCS'\n",
       "2. 'CCS'\n",
       "3. 'TP1'\n",
       "4. 'TP2'\n",
       "5. 'TP3'\n",
       "6. 'TP4'\n",
       "\n",
       "\n"
      ],
      "text/plain": [
       "[1] \"No CCS\" \"CCS\"    \"TP1\"    \"TP2\"    \"TP3\"    \"TP4\"   "
      ]
     },
     "metadata": {},
     "output_type": "display_data"
    }
   ],
   "source": [
    "unique(merged_data_long$measurement_concat)"
   ]
  },
  {
   "cell_type": "code",
   "execution_count": 241,
   "id": "9cd6b89b-08e9-41fc-b1b6-deb4f2dfd9c3",
   "metadata": {},
   "outputs": [],
   "source": [
    "merged_data_long$measurement_concat = factor(merged_data_long$measurement_concat, levels = c('No CCS','CCS','TP1','TP2','TP3','TP4'))"
   ]
  },
  {
   "cell_type": "code",
   "execution_count": 242,
   "id": "b710c373-b23a-4871-9f30-3d91f7c52f08",
   "metadata": {},
   "outputs": [],
   "source": [
    "# Specific Text Descriptions:\n",
    "xlabel = xlab('') \n",
    "ylabel = ylab('Factor Value')"
   ]
  },
  {
   "cell_type": "code",
   "execution_count": 243,
   "id": "392b719c-d0af-403a-be85-68b10ca5214d",
   "metadata": {},
   "outputs": [],
   "source": [
    "figure_name = \"SUPP6_Factor_Pattern_Time_MOFA_w_o_clinical\""
   ]
  },
  {
   "cell_type": "code",
   "execution_count": 244,
   "id": "92e5b591-d8fa-4930-983b-288a73cf85ee",
   "metadata": {},
   "outputs": [],
   "source": [
    "# Sizes of the plot\n",
    "width_par = 8.07\n",
    "height_par = 3.5"
   ]
  },
  {
   "cell_type": "code",
   "execution_count": 245,
   "id": "fa95ae51-4d58-435a-b50d-c21fea353fa8",
   "metadata": {},
   "outputs": [
    {
     "data": {
      "text/html": [
       "<strong>png:</strong> 2"
      ],
      "text/latex": [
       "\\textbf{png:} 2"
      ],
      "text/markdown": [
       "**png:** 2"
      ],
      "text/plain": [
       "png \n",
       "  2 "
      ]
     },
     "metadata": {},
     "output_type": "display_data"
    }
   ],
   "source": [
    "# grouped boxplot\n",
    "#options(repr.plot.width=30, repr.plot.height=10)\n",
    "\n",
    "vis_data = merged_data_long\n",
    "g = ggplot(vis_data, aes(x=variable, y=value, fill = measurement_concat))  + \n",
    "    plot_config +\n",
    "    xlabel + \n",
    "    ylabel +\n",
    "    ccs_tp_fill +\n",
    "    ggtitle('Pattern of factor values') + \n",
    "    theme(legend.position = \"bottom\", axis.text.x = element_text(angle = 90))+\n",
    "    geom_boxplot(outlier.size = 0.05)  + geom_point(position=position_jitterdodge(jitter.width = 0.05), size = 0.005)\n",
    "#print(g)\n",
    "\n",
    "pdf(paste0('figures/Supplementary_Figures/', figure_name, name, train_opts$weight_views, '.pdf'), width =width_par, height =height_par)\n",
    "print(g)\n",
    "dev.off()\n"
   ]
  },
  {
   "cell_type": "markdown",
   "id": "792ef0f5-f255-44fe-a795-c29e11783f5f",
   "metadata": {},
   "source": [
    "## Heatmap and Factor Plots"
   ]
  },
  {
   "cell_type": "markdown",
   "id": "ea472db4-7d7b-4e4c-9902-b4a1840b4776",
   "metadata": {
    "tags": []
   },
   "source": [
    "### All variables (without subsetting)"
   ]
  },
  {
   "cell_type": "code",
   "execution_count": 246,
   "id": "4904d274-dc01-4532-b95c-819b4cb45296",
   "metadata": {},
   "outputs": [],
   "source": [
    "### Supplementary Heatmaps)\n",
    "# Configs: \n",
    "\n",
    "# SUPPLEMENTARY for Factor 2"
   ]
  },
  {
   "cell_type": "code",
   "execution_count": 247,
   "id": "81f74978-8f2b-44d8-9fcc-d0fca5a65311",
   "metadata": {},
   "outputs": [],
   "source": [
    "figure_name = \"SUPP3_Heatmap_Pattern_sample_subset_w_o_clinical\""
   ]
  },
  {
   "cell_type": "code",
   "execution_count": 248,
   "id": "5d734ede-151e-4304-9e40-5ff6f7de7b98",
   "metadata": {},
   "outputs": [],
   "source": [
    "source('MS4_Plot_Config.r')"
   ]
  },
  {
   "cell_type": "code",
   "execution_count": 249,
   "id": "275301ba-d1c3-4f64-9df3-b623faf5f78a",
   "metadata": {},
   "outputs": [
    {
     "data": {
      "text/html": [
       "<style>\n",
       ".list-inline {list-style: none; margin:0; padding: 0}\n",
       ".list-inline>li {display: inline-block}\n",
       ".list-inline>li:not(:last-child)::after {content: \"\\00b7\"; padding: 0 .5ex}\n",
       "</style>\n",
       "<ol class=list-inline><li>'sample_id'</li><li>'variable_name'</li><li>'expression_value'</li><li>'type.x'</li><li>'type.y'</li><li>'gene'</li><li>'view'</li><li>'variable'</li><li>'value'</li><li>'direction'</li><li>'fraction'</li><li>'direction_sign'</li><li>'cell_type'</li><li>'cluster'</li><li>'facet'</li><li>'measurement'</li><li>'classification'</li><li>'delta_ef_value_class'</li><li>'class'</li><li>'measurement2'</li><li>'measurement_class'</li><li>'delta_ef_value_class_summarized'</li><li>'tp_outcome'</li></ol>\n"
      ],
      "text/latex": [
       "\\begin{enumerate*}\n",
       "\\item 'sample\\_id'\n",
       "\\item 'variable\\_name'\n",
       "\\item 'expression\\_value'\n",
       "\\item 'type.x'\n",
       "\\item 'type.y'\n",
       "\\item 'gene'\n",
       "\\item 'view'\n",
       "\\item 'variable'\n",
       "\\item 'value'\n",
       "\\item 'direction'\n",
       "\\item 'fraction'\n",
       "\\item 'direction\\_sign'\n",
       "\\item 'cell\\_type'\n",
       "\\item 'cluster'\n",
       "\\item 'facet'\n",
       "\\item 'measurement'\n",
       "\\item 'classification'\n",
       "\\item 'delta\\_ef\\_value\\_class'\n",
       "\\item 'class'\n",
       "\\item 'measurement2'\n",
       "\\item 'measurement\\_class'\n",
       "\\item 'delta\\_ef\\_value\\_class\\_summarized'\n",
       "\\item 'tp\\_outcome'\n",
       "\\end{enumerate*}\n"
      ],
      "text/markdown": [
       "1. 'sample_id'\n",
       "2. 'variable_name'\n",
       "3. 'expression_value'\n",
       "4. 'type.x'\n",
       "5. 'type.y'\n",
       "6. 'gene'\n",
       "7. 'view'\n",
       "8. 'variable'\n",
       "9. 'value'\n",
       "10. 'direction'\n",
       "11. 'fraction'\n",
       "12. 'direction_sign'\n",
       "13. 'cell_type'\n",
       "14. 'cluster'\n",
       "15. 'facet'\n",
       "16. 'measurement'\n",
       "17. 'classification'\n",
       "18. 'delta_ef_value_class'\n",
       "19. 'class'\n",
       "20. 'measurement2'\n",
       "21. 'measurement_class'\n",
       "22. 'delta_ef_value_class_summarized'\n",
       "23. 'tp_outcome'\n",
       "\n",
       "\n"
      ],
      "text/plain": [
       " [1] \"sample_id\"                       \"variable_name\"                  \n",
       " [3] \"expression_value\"                \"type.x\"                         \n",
       " [5] \"type.y\"                          \"gene\"                           \n",
       " [7] \"view\"                            \"variable\"                       \n",
       " [9] \"value\"                           \"direction\"                      \n",
       "[11] \"fraction\"                        \"direction_sign\"                 \n",
       "[13] \"cell_type\"                       \"cluster\"                        \n",
       "[15] \"facet\"                           \"measurement\"                    \n",
       "[17] \"classification\"                  \"delta_ef_value_class\"           \n",
       "[19] \"class\"                           \"measurement2\"                   \n",
       "[21] \"measurement_class\"               \"delta_ef_value_class_summarized\"\n",
       "[23] \"tp_outcome\"                     "
      ]
     },
     "metadata": {},
     "output_type": "display_data"
    }
   ],
   "source": [
    "colnames(heatmap_data)"
   ]
  },
  {
   "cell_type": "code",
   "execution_count": 250,
   "id": "50bf1c91-078f-42e7-8134-e1cffe016f54",
   "metadata": {},
   "outputs": [],
   "source": [
    "heatmap_data$measurement2 = str_replace(heatmap_data$measurement2, 'TP0_ccs', 'CCS')\n",
    "heatmap_data$measurement2 = str_replace(heatmap_data$measurement2, 'TP0_no_ccs', 'No CCS')"
   ]
  },
  {
   "cell_type": "code",
   "execution_count": 251,
   "id": "de1bc06b-20f8-44ac-a4d8-e1d4e5c40daf",
   "metadata": {},
   "outputs": [],
   "source": [
    "## specify faceting expression pattern heatmap\n",
    "variable = 'measurement2'\n",
    "heatmap_data$facet2 = heatmap_data[,variable]\n",
    "heatmap_data$facet = paste0(heatmap_data$direction_sign, heatmap_data$view)\n",
    "\n",
    "## specify faceting - factor value plot\n",
    "analysis_data_subset$facet = paste0(analysis_data_subset$direction_sign,analysis_data_subset$view)\n",
    "analysis_data_subset$facet2 = 'Absolute Factor Value'"
   ]
  },
  {
   "cell_type": "code",
   "execution_count": 252,
   "id": "b22b40da-0eab-43ac-b380-9367a421fd01",
   "metadata": {},
   "outputs": [
    {
     "data": {
      "text/html": [
       "<style>\n",
       ".list-inline {list-style: none; margin:0; padding: 0}\n",
       ".list-inline>li {display: inline-block}\n",
       ".list-inline>li:not(:last-child)::after {content: \"\\00b7\"; padding: 0 .5ex}\n",
       "</style>\n",
       "<ol class=list-inline><li>5e-04</li><li>0.001</li><li>0.0025</li><li>0.005</li><li>0.025</li><li>0.05</li><li>0.1</li><li>0.5</li></ol>\n"
      ],
      "text/latex": [
       "\\begin{enumerate*}\n",
       "\\item 5e-04\n",
       "\\item 0.001\n",
       "\\item 0.0025\n",
       "\\item 0.005\n",
       "\\item 0.025\n",
       "\\item 0.05\n",
       "\\item 0.1\n",
       "\\item 0.5\n",
       "\\end{enumerate*}\n"
      ],
      "text/markdown": [
       "1. 5e-04\n",
       "2. 0.001\n",
       "3. 0.0025\n",
       "4. 0.005\n",
       "5. 0.025\n",
       "6. 0.05\n",
       "7. 0.1\n",
       "8. 0.5\n",
       "\n",
       "\n"
      ],
      "text/plain": [
       "[1] 0.0005 0.0010 0.0025 0.0050 0.0250 0.0500 0.1000 0.5000"
      ]
     },
     "metadata": {},
     "output_type": "display_data"
    }
   ],
   "source": [
    "unique(analysis_data_subset$fraction)"
   ]
  },
  {
   "cell_type": "code",
   "execution_count": 253,
   "id": "47ecb010-ff10-4656-aa4e-3ebfb68bc75c",
   "metadata": {},
   "outputs": [],
   "source": [
    "top_frac = '0.005'"
   ]
  },
  {
   "cell_type": "code",
   "execution_count": 254,
   "id": "df805dd0-1764-4497-91b7-23ecafe7fee3",
   "metadata": {},
   "outputs": [],
   "source": [
    "factor_var = 'Factor2'"
   ]
  },
  {
   "cell_type": "code",
   "execution_count": 255,
   "id": "2419ff57-6f86-40f7-8aa1-b3d4a2fca70d",
   "metadata": {},
   "outputs": [],
   "source": [
    "# Specific Text Descriptions (heatmap):\n",
    "xlabel_heatmap = xlab('Samples') \n",
    "ylabel_heatmap = ylab('View')"
   ]
  },
  {
   "cell_type": "code",
   "execution_count": 256,
   "id": "d67e0979-7c28-45d3-9ebe-dcc9ae71c22d",
   "metadata": {},
   "outputs": [],
   "source": [
    "# Specific Text Descriptions (factor value plot):\n",
    "xlabel_barplot = xlab('Samples') \n",
    "ylabel_barplot = ylab('Absolute Factor Value')"
   ]
  },
  {
   "cell_type": "code",
   "execution_count": 257,
   "id": "e67ea2b6-4427-447c-9069-fcee97bb014a",
   "metadata": {},
   "outputs": [],
   "source": [
    "### Plot parameters"
   ]
  },
  {
   "cell_type": "code",
   "execution_count": 258,
   "id": "7fad0c9d-915b-49ff-9b35-c87a8f6e0adf",
   "metadata": {},
   "outputs": [],
   "source": [
    "# Sizes of the plot\n",
    "width_par = 8.07\n",
    "height_par = 11.4"
   ]
  },
  {
   "cell_type": "code",
   "execution_count": 259,
   "id": "8cbf5d3b-088c-4d80-891f-7783cb1d6682",
   "metadata": {},
   "outputs": [],
   "source": [
    "# Plot Factor values as barplot"
   ]
  },
  {
   "cell_type": "code",
   "execution_count": 260,
   "id": "2d576540-e34e-4509-a9cd-709815225f96",
   "metadata": {},
   "outputs": [],
   "source": [
    "options(repr.plot.width=10, repr.plot.height=25)\n",
    "factor_value_all_bar = ggplot(data = analysis_data_subset[(analysis_data_subset$fraction == top_frac) &\n",
    "                                                          (analysis_data_subset$variable == factor_var),] , mapping = aes(x = gene,   y= abs(value)))+\n",
    "                            plot_config_heatmap_supp  + \n",
    "                            geom_bar(stat=\"identity\", width = 0.1) + \n",
    "                            coord_flip()+\n",
    "                            xlabel_barplot +\n",
    "                            ylabel_barplot +\n",
    "                            theme( axis.text.y = element_text( hjust = 1, vjust =1))+\n",
    "                            facet_grid(facet  ~ facet2, scales = 'free', space = 'free', switch = 'y') + theme(strip.background = element_rect(color=\"black\", fill=\"white\", linetype=\"solid\"), strip.placement = \"outside\", strip.switch.pad.grid = unit(0.5, \"cm\"))+\n",
    "                            ggtitle('')\n"
   ]
  },
  {
   "cell_type": "code",
   "execution_count": 261,
   "id": "43da2b79-7bdc-4170-9df7-d79c30a03bba",
   "metadata": {
    "tags": []
   },
   "outputs": [
    {
     "data": {
      "image/png": "[encoded data removed]",
      "text/plain": [
       "plot without title"
      ]
     },
     "metadata": {
      "image/png": {
       "height": 684,
       "width": 484.2
      }
     },
     "output_type": "display_data"
    }
   ],
   "source": [
    "options(repr.plot.width=width_par, repr.plot.height=height_par)\n",
    "factor_value_all_bar"
   ]
  },
  {
   "cell_type": "code",
   "execution_count": 262,
   "id": "96d2ef7d-3865-482e-9db0-5b43835c6011",
   "metadata": {},
   "outputs": [],
   "source": [
    "### Expression level heatmap"
   ]
  },
  {
   "cell_type": "code",
   "execution_count": 263,
   "id": "8500892a-5c9f-4d39-bc2e-50a6bef04b2d",
   "metadata": {},
   "outputs": [
    {
     "data": {
      "text/html": [
       "<style>\n",
       ".list-inline {list-style: none; margin:0; padding: 0}\n",
       ".list-inline>li {display: inline-block}\n",
       ".list-inline>li:not(:last-child)::after {content: \"\\00b7\"; padding: 0 .5ex}\n",
       "</style>\n",
       "<ol class=list-inline><li>'vollstaendiger_ausschluss'</li><li>'ccs'</li><li>'koronarsklerose'</li><li>'acs_subacute'</li><li>'acs_w_infection'</li><li>'acs_w_o_infection'</li></ol>\n"
      ],
      "text/latex": [
       "\\begin{enumerate*}\n",
       "\\item 'vollstaendiger\\_ausschluss'\n",
       "\\item 'ccs'\n",
       "\\item 'koronarsklerose'\n",
       "\\item 'acs\\_subacute'\n",
       "\\item 'acs\\_w\\_infection'\n",
       "\\item 'acs\\_w\\_o\\_infection'\n",
       "\\end{enumerate*}\n"
      ],
      "text/markdown": [
       "1. 'vollstaendiger_ausschluss'\n",
       "2. 'ccs'\n",
       "3. 'koronarsklerose'\n",
       "4. 'acs_subacute'\n",
       "5. 'acs_w_infection'\n",
       "6. 'acs_w_o_infection'\n",
       "\n",
       "\n"
      ],
      "text/plain": [
       "[1] \"vollstaendiger_ausschluss\" \"ccs\"                      \n",
       "[3] \"koronarsklerose\"           \"acs_subacute\"             \n",
       "[5] \"acs_w_infection\"           \"acs_w_o_infection\"        "
      ]
     },
     "metadata": {},
     "output_type": "display_data"
    }
   ],
   "source": [
    "unique(heatmap_data$classification)"
   ]
  },
  {
   "cell_type": "code",
   "execution_count": 264,
   "id": "7edfb3f5-43b1-4dc4-b493-6d2a0556c5b6",
   "metadata": {},
   "outputs": [],
   "source": [
    "options(repr.plot.width=width_par, repr.plot.height=height_par)\n",
    "all_heatmap = ggplot(data = heatmap_data[(heatmap_data$variable == factor_var) & \n",
    "                                         (heatmap_data$fraction == top_frac) &\n",
    "                                         (heatmap_data$classification %in% c('ccs', 'acs_w_o_infection')),], # TBD whether to filter on sample subset\n",
    "                     mapping = aes(sample_id, gene,  fill= expression_value)) +\n",
    "    scale_fill_gradient2(low=\"navy\", high=\"red\", midpoint = 0) + \n",
    "    geom_tile() + \n",
    "    xlabel_heatmap +\n",
    "    ylabel_heatmap +\n",
    "    plot_config_heatmap_supp  + theme(axis.text.x = element_blank()) + \n",
    "    facet_grid(facet  ~facet2, scales = 'free', space = 'free',  switch = \"y\") + theme(strip.background = element_rect(color=\"black\", fill=\"white\", linetype=\"solid\"), strip.placement = \"outside\", strip.switch.pad.grid = unit(0.4, \"cm\"), strip.text.y.left = element_text(angle=0))+\n",
    "    theme( axis.text.y = element_text( hjust = 1, vjust =1)) + \n",
    "    ggtitle(paste0('Normalized Expression Values of top ',as.numeric(top_frac) *100 *2, '% features'))\n",
    "\n",
    "    "
   ]
  },
  {
   "cell_type": "code",
   "execution_count": 265,
   "id": "17cdd4eb-1f3d-4b4d-9234-3a70ad0a5987",
   "metadata": {
    "tags": []
   },
   "outputs": [
    {
     "data": {
      "image/png": "[encoded data removed]",
      "text/plain": [
       "plot without title"
      ]
     },
     "metadata": {
      "image/png": {
       "height": 684,
       "width": 484.2
      }
     },
     "output_type": "display_data"
    }
   ],
   "source": [
    "all_heatmap"
   ]
  },
  {
   "cell_type": "code",
   "execution_count": 266,
   "id": "769edf25-a4d3-4e3c-ad47-7a197c0df43c",
   "metadata": {},
   "outputs": [],
   "source": [
    "### Combined factor plot and heatmap"
   ]
  },
  {
   "cell_type": "code",
   "execution_count": 267,
   "id": "20af26da-a1db-422d-ad8a-d0be847990e3",
   "metadata": {},
   "outputs": [],
   "source": [
    "legend =  get_legend(all_heatmap)"
   ]
  },
  {
   "cell_type": "code",
   "execution_count": 268,
   "id": "dfe710bc-798d-4205-8190-663646d39c4f",
   "metadata": {
    "tags": []
   },
   "outputs": [],
   "source": [
    "options(repr.plot.width=width_par, repr.plot.height=height_par)\n",
    "combined = ggarrange(all_heatmap + theme(legend.position = 'none'),\n",
    "         factor_value_all_bar + \n",
    "          theme(axis.text.y = element_blank(),axis.ticks.y = element_blank(),axis.title.y = element_blank(), strip.background.y = element_blank() , strip.text.y = element_blank()),  \n",
    "         nrow=1, widths = c(4,1), align = 'h')\n",
    "combined = annotate_figure(combined, right = legend)"
   ]
  },
  {
   "cell_type": "code",
   "execution_count": 269,
   "id": "3c0213b9-deed-4409-aa2e-ba4b9b8e4cc8",
   "metadata": {},
   "outputs": [
    {
     "data": {
      "text/html": [
       "<strong>png:</strong> 2"
      ],
      "text/latex": [
       "\\textbf{png:} 2"
      ],
      "text/markdown": [
       "**png:** 2"
      ],
      "text/plain": [
       "png \n",
       "  2 "
      ]
     },
     "metadata": {},
     "output_type": "display_data"
    }
   ],
   "source": [
    "pdf(paste0('figures/Supplementary_Figures/', figure_name,factor_var, '_',  top_frac,  name, train_opts$weight_views, '.pdf'), width =width_par, height =height_par)\n",
    "print(combined)\n",
    "dev.off()"
   ]
  },
  {
   "cell_type": "code",
   "execution_count": 270,
   "id": "019bd5d6-b9b3-4ecd-9c4f-db7a6d841777",
   "metadata": {},
   "outputs": [],
   "source": [
    "### Supplementary Heatmaps)  - other with complete samples\n",
    "# Configs: \n",
    "\n",
    "# SUPPLEMENTARY for Factor 1: variable = 'measurement2'\n",
    "# SUPPLEMENTARY for Factor 4: variable = 'tp_outcome'"
   ]
  },
  {
   "cell_type": "code",
   "execution_count": null,
   "id": "18e60d6b-1e4b-4926-aa9b-d540c2c3a6b6",
   "metadata": {},
   "outputs": [],
   "source": []
  },
  {
   "cell_type": "code",
   "execution_count": null,
   "id": "a017df0d-695a-42a2-bf44-8aa8067772d8",
   "metadata": {},
   "outputs": [],
   "source": []
  }
 ],
 "metadata": {
  "kernelspec": {
   "display_name": "R",
   "language": "R",
   "name": "ir"
  },
  "language_info": {
   "codemirror_mode": "r",
   "file_extension": ".r",
   "mimetype": "text/x-r-source",
   "name": "R",
   "pygments_lexer": "r",
   "version": "4.1.1"
  },
  "toc-autonumbering": true
 },
 "nbformat": 4,
 "nbformat_minor": 5
}

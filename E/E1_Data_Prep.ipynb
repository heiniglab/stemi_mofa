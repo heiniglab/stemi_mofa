{
 "cells": [
  {
   "cell_type": "code",
   "execution_count": 1,
   "id": "30db86a6-94fa-4e7b-9f5b-11d49a6552b2",
   "metadata": {
    "tags": []
   },
   "outputs": [],
   "source": [
    "### Script to integrate and align all available data sources:\n",
    "# Single Cell RNA Seq\n",
    "# Cytokine Data\n",
    "# Neutrophil Data\n",
    "# Proteomics"
   ]
  },
  {
   "cell_type": "markdown",
   "id": "d9375846-405e-474a-9c51-836de879fc64",
   "metadata": {
    "jp-MarkdownHeadingCollapsed": true,
    "tags": []
   },
   "source": [
    "#############################################\n",
    "# Prerequisites - Load Libraries"
   ]
  },
  {
   "cell_type": "code",
   "execution_count": 2,
   "id": "78cda6a6-83a2-4aa4-ac3c-26b3641d28b5",
   "metadata": {
    "tags": []
   },
   "outputs": [
    {
     "name": "stderr",
     "output_type": "stream",
     "text": [
      "Warning message in read.table(file = file, header = header, sep = sep, quote = quote, :\n",
      "“incomplete final line found by readTableHeader on '../conda_environment/Environment_Configs.csv'”\n"
     ]
    },
    {
     "name": "stdout",
     "output_type": "stream",
     "text": [
      "[1] \"/home/icb/corinna.losert/miniconda3/envs/stark_stemi_R_Env_4_1//lib/R/library\"\n"
     ]
    },
    {
     "name": "stderr",
     "output_type": "stream",
     "text": [
      "\n",
      "Attaching package: ‘igraph’\n",
      "\n",
      "\n",
      "The following objects are masked from ‘package:stats’:\n",
      "\n",
      "    decompose, spectrum\n",
      "\n",
      "\n",
      "The following object is masked from ‘package:base’:\n",
      "\n",
      "    union\n",
      "\n",
      "\n",
      "\n",
      "Attaching package: ‘MatrixGenerics’\n",
      "\n",
      "\n",
      "The following objects are masked from ‘package:matrixStats’:\n",
      "\n",
      "    colAlls, colAnyNAs, colAnys, colAvgsPerRowSet, colCollapse,\n",
      "    colCounts, colCummaxs, colCummins, colCumprods, colCumsums,\n",
      "    colDiffs, colIQRDiffs, colIQRs, colLogSumExps, colMadDiffs,\n",
      "    colMads, colMaxs, colMeans2, colMedians, colMins, colOrderStats,\n",
      "    colProds, colQuantiles, colRanges, colRanks, colSdDiffs, colSds,\n",
      "    colSums2, colTabulates, colVarDiffs, colVars, colWeightedMads,\n",
      "    colWeightedMeans, colWeightedMedians, colWeightedSds,\n",
      "    colWeightedVars, rowAlls, rowAnyNAs, rowAnys, rowAvgsPerColSet,\n",
      "    rowCollapse, rowCounts, rowCummaxs, rowCummins, rowCumprods,\n",
      "    rowCumsums, rowDiffs, rowIQRDiffs, rowIQRs, rowLogSumExps,\n",
      "    rowMadDiffs, rowMads, rowMaxs, rowMeans2, rowMedians, rowMins,\n",
      "    rowOrderStats, rowProds, rowQuantiles, rowRanges, rowRanks,\n",
      "    rowSdDiffs, rowSds, rowSums2, rowTabulates, rowVarDiffs, rowVars,\n",
      "    rowWeightedMads, rowWeightedMeans, rowWeightedMedians,\n",
      "    rowWeightedSds, rowWeightedVars\n",
      "\n",
      "\n",
      "\n",
      "Attaching package: ‘BiocGenerics’\n",
      "\n",
      "\n",
      "The following objects are masked from ‘package:parallel’:\n",
      "\n",
      "    clusterApply, clusterApplyLB, clusterCall, clusterEvalQ,\n",
      "    clusterExport, clusterMap, parApply, parCapply, parLapply,\n",
      "    parLapplyLB, parRapply, parSapply, parSapplyLB\n",
      "\n",
      "\n",
      "The following objects are masked from ‘package:igraph’:\n",
      "\n",
      "    normalize, path, union\n",
      "\n",
      "\n",
      "The following objects are masked from ‘package:stats’:\n",
      "\n",
      "    IQR, mad, sd, var, xtabs\n",
      "\n",
      "\n",
      "The following objects are masked from ‘package:base’:\n",
      "\n",
      "    anyDuplicated, append, as.data.frame, basename, cbind, colnames,\n",
      "    dirname, do.call, duplicated, eval, evalq, Filter, Find, get, grep,\n",
      "    grepl, intersect, is.unsorted, lapply, Map, mapply, match, mget,\n",
      "    order, paste, pmax, pmax.int, pmin, pmin.int, Position, rank,\n",
      "    rbind, Reduce, rownames, sapply, setdiff, sort, table, tapply,\n",
      "    union, unique, unsplit, which.max, which.min\n",
      "\n",
      "\n",
      "\n",
      "Attaching package: ‘S4Vectors’\n",
      "\n",
      "\n",
      "The following objects are masked from ‘package:base’:\n",
      "\n",
      "    expand.grid, I, unname\n",
      "\n",
      "\n",
      "Welcome to Bioconductor\n",
      "\n",
      "    Vignettes contain introductory material; view with\n",
      "    'browseVignettes()'. To cite Bioconductor, see\n",
      "    'citation(\"Biobase\")', and for packages 'citation(\"pkgname\")'.\n",
      "\n",
      "\n",
      "\n",
      "Attaching package: ‘Biobase’\n",
      "\n",
      "\n",
      "The following object is masked from ‘package:MatrixGenerics’:\n",
      "\n",
      "    rowMedians\n",
      "\n",
      "\n",
      "The following objects are masked from ‘package:matrixStats’:\n",
      "\n",
      "    anyMissing, rowMedians\n",
      "\n",
      "\n",
      "\n",
      "Attaching package: ‘sp’\n",
      "\n",
      "\n",
      "The following object is masked from ‘package:IRanges’:\n",
      "\n",
      "    %over%\n",
      "\n",
      "\n",
      "\n",
      "Attaching package: ‘SeuratObject’\n",
      "\n",
      "\n",
      "The following object is masked from ‘package:SummarizedExperiment’:\n",
      "\n",
      "    Assays\n",
      "\n",
      "\n",
      "The following object is masked from ‘package:GenomicRanges’:\n",
      "\n",
      "    intersect\n",
      "\n",
      "\n",
      "The following object is masked from ‘package:GenomeInfoDb’:\n",
      "\n",
      "    intersect\n",
      "\n",
      "\n",
      "The following object is masked from ‘package:IRanges’:\n",
      "\n",
      "    intersect\n",
      "\n",
      "\n",
      "The following object is masked from ‘package:S4Vectors’:\n",
      "\n",
      "    intersect\n",
      "\n",
      "\n",
      "The following object is masked from ‘package:BiocGenerics’:\n",
      "\n",
      "    intersect\n",
      "\n",
      "\n",
      "The following object is masked from ‘package:base’:\n",
      "\n",
      "    intersect\n",
      "\n",
      "\n",
      "\n",
      "Attaching package: ‘Seurat’\n",
      "\n",
      "\n",
      "The following object is masked from ‘package:SummarizedExperiment’:\n",
      "\n",
      "    Assays\n",
      "\n",
      "\n",
      "The following object is masked from ‘package:igraph’:\n",
      "\n",
      "    components\n",
      "\n",
      "\n",
      "\n",
      "Attaching package: ‘Matrix’\n",
      "\n",
      "\n",
      "The following object is masked from ‘package:S4Vectors’:\n",
      "\n",
      "    expand\n",
      "\n",
      "\n",
      "\n",
      "Attaching package: ‘DelayedArray’\n",
      "\n",
      "\n",
      "The following object is masked from ‘package:igraph’:\n",
      "\n",
      "    simplify\n",
      "\n",
      "\n",
      "The following objects are masked from ‘package:base’:\n",
      "\n",
      "    aperm, apply, rowsum, scale, sweep\n",
      "\n",
      "\n",
      "\n",
      "Attaching package: ‘HDF5Array’\n",
      "\n",
      "\n",
      "The following object is masked from ‘package:rhdf5’:\n",
      "\n",
      "    h5ls\n",
      "\n",
      "\n",
      "Warning message in if (is.na(desc)) {:\n",
      "“the condition has length > 1 and only the first element will be used”\n",
      "Warning message in if (is.na(desc)) {:\n",
      "“the condition has length > 1 and only the first element will be used”\n",
      "Warning message in if (is.na(desc)) {:\n",
      "“the condition has length > 1 and only the first element will be used”\n",
      "Warning message in if (is.na(desc)) {:\n",
      "“the condition has length > 1 and only the first element will be used”\n",
      "Warning message in if (is.na(desc)) {:\n",
      "“the condition has length > 1 and only the first element will be used”\n",
      "Warning message in if (is.na(desc)) {:\n",
      "“the condition has length > 1 and only the first element will be used”\n",
      "Warning message in if (is.na(desc)) {:\n",
      "“the condition has length > 1 and only the first element will be used”\n",
      "Warning message in if (is.na(desc)) {:\n",
      "“the condition has length > 1 and only the first element will be used”\n",
      "Warning message in if (is.na(desc)) {:\n",
      "“the condition has length > 1 and only the first element will be used”\n",
      "Warning message in if (is.na(desc)) {:\n",
      "“the condition has length > 1 and only the first element will be used”\n",
      "Warning message in if (is.na(desc)) {:\n",
      "“the condition has length > 1 and only the first element will be used”\n",
      "Warning message in if (is.na(desc)) {:\n",
      "“the condition has length > 1 and only the first element will be used”\n",
      "Warning message in if (is.na(desc)) {:\n",
      "“the condition has length > 1 and only the first element will be used”\n",
      "Warning message in if (is.na(desc)) {:\n",
      "“the condition has length > 1 and only the first element will be used”\n",
      "Warning message in if (is.na(desc)) {:\n",
      "“the condition has length > 1 and only the first element will be used”\n",
      "Warning message in if (is.na(desc)) {:\n",
      "“the condition has length > 1 and only the first element will be used”\n",
      "Warning message in if (is.na(desc)) {:\n",
      "“the condition has length > 1 and only the first element will be used”\n",
      "Warning message in if (is.na(desc)) {:\n",
      "“the condition has length > 1 and only the first element will be used”\n",
      "Warning message in if (is.na(desc)) {:\n",
      "“the condition has length > 1 and only the first element will be used”\n",
      "Warning message in if (is.na(desc)) {:\n",
      "“the condition has length > 1 and only the first element will be used”\n",
      "Warning message in if (is.na(desc)) {:\n",
      "“the condition has length > 1 and only the first element will be used”\n",
      "Warning message in if (is.na(desc)) {:\n",
      "“the condition has length > 1 and only the first element will be used”\n",
      "Warning message in if (is.na(desc)) {:\n",
      "“the condition has length > 1 and only the first element will be used”\n",
      "Registered S3 method overwritten by 'SeuratDisk':\n",
      "  method            from  \n",
      "  as.sparse.H5Group Seurat\n",
      "\n",
      "\n",
      "Attaching package: ‘gridExtra’\n",
      "\n",
      "\n",
      "The following object is masked from ‘package:Biobase’:\n",
      "\n",
      "    combine\n",
      "\n",
      "\n",
      "The following object is masked from ‘package:BiocGenerics’:\n",
      "\n",
      "    combine\n",
      "\n",
      "\n",
      "\n",
      "Attaching package: ‘dplyr’\n",
      "\n",
      "\n",
      "The following object is masked from ‘package:gridExtra’:\n",
      "\n",
      "    combine\n",
      "\n",
      "\n",
      "The following object is masked from ‘package:Biobase’:\n",
      "\n",
      "    combine\n",
      "\n",
      "\n",
      "The following objects are masked from ‘package:GenomicRanges’:\n",
      "\n",
      "    intersect, setdiff, union\n",
      "\n",
      "\n",
      "The following object is masked from ‘package:GenomeInfoDb’:\n",
      "\n",
      "    intersect\n",
      "\n",
      "\n",
      "The following objects are masked from ‘package:IRanges’:\n",
      "\n",
      "    collapse, desc, intersect, setdiff, slice, union\n",
      "\n",
      "\n",
      "The following objects are masked from ‘package:S4Vectors’:\n",
      "\n",
      "    first, intersect, rename, setdiff, setequal, union\n",
      "\n",
      "\n",
      "The following objects are masked from ‘package:BiocGenerics’:\n",
      "\n",
      "    combine, intersect, setdiff, union\n",
      "\n",
      "\n",
      "The following object is masked from ‘package:matrixStats’:\n",
      "\n",
      "    count\n",
      "\n",
      "\n",
      "The following objects are masked from ‘package:igraph’:\n",
      "\n",
      "    as_data_frame, groups, union\n",
      "\n",
      "\n",
      "The following objects are masked from ‘package:stats’:\n",
      "\n",
      "    filter, lag\n",
      "\n",
      "\n",
      "The following objects are masked from ‘package:base’:\n",
      "\n",
      "    intersect, setdiff, setequal, union\n",
      "\n",
      "\n",
      "\n",
      "Attaching package: ‘plotly’\n",
      "\n",
      "\n",
      "The following object is masked from ‘package:ggplot2’:\n",
      "\n",
      "    last_plot\n",
      "\n",
      "\n",
      "The following object is masked from ‘package:IRanges’:\n",
      "\n",
      "    slice\n",
      "\n",
      "\n",
      "The following object is masked from ‘package:S4Vectors’:\n",
      "\n",
      "    rename\n",
      "\n",
      "\n",
      "The following object is masked from ‘package:igraph’:\n",
      "\n",
      "    groups\n",
      "\n",
      "\n",
      "The following object is masked from ‘package:stats’:\n",
      "\n",
      "    filter\n",
      "\n",
      "\n",
      "The following object is masked from ‘package:graphics’:\n",
      "\n",
      "    layout\n",
      "\n",
      "\n",
      "Warning message in checkMatrixPackageVersion():\n",
      "“Package version inconsistency detected.\n",
      "TMB was built with Matrix version 1.5.3\n",
      "Current Matrix version is 1.6.4\n",
      "Please re-install 'TMB' from source using install.packages('TMB', type = 'source') or ask CRAN for a binary version of 'TMB' matching CRAN's 'Matrix' package”\n",
      "\n",
      "Attaching package: ‘limma’\n",
      "\n",
      "\n",
      "The following object is masked from ‘package:scater’:\n",
      "\n",
      "    plotMDS\n",
      "\n",
      "\n",
      "The following object is masked from ‘package:BiocGenerics’:\n",
      "\n",
      "    plotMA\n",
      "\n",
      "\n",
      "\n",
      "Attaching package: ‘DESeq2’\n",
      "\n",
      "\n",
      "The following object is masked from ‘package:scater’:\n",
      "\n",
      "    fpkm\n",
      "\n",
      "\n",
      "Loading required package: AnnotationDbi\n",
      "\n",
      "\n",
      "Attaching package: ‘AnnotationDbi’\n",
      "\n",
      "\n",
      "The following object is masked from ‘package:plotly’:\n",
      "\n",
      "    select\n",
      "\n",
      "\n",
      "The following object is masked from ‘package:dplyr’:\n",
      "\n",
      "    select\n",
      "\n",
      "\n",
      "\n",
      "\n",
      "\n",
      "\n",
      "Registered S3 method overwritten by 'ggtree':\n",
      "  method      from \n",
      "  identify.gg ggfun\n",
      "\n",
      "clusterProfiler v4.0.5  For help: https://yulab-smu.top/biomedical-knowledge-mining-book/\n",
      "\n",
      "If you use clusterProfiler in published research, please cite:\n",
      "T Wu, E Hu, S Xu, M Chen, P Guo, Z Dai, T Feng, L Zhou, W Tang, L Zhan, X Fu, S Liu, X Bo, and G Yu. clusterProfiler 4.0: A universal enrichment tool for interpreting omics data. The Innovation. 2021, 2(3):100141. doi: 10.1016/j.xinn.2021.100141\n",
      "\n",
      "\n",
      "Attaching package: ‘clusterProfiler’\n",
      "\n",
      "\n",
      "The following object is masked from ‘package:AnnotationDbi’:\n",
      "\n",
      "    select\n",
      "\n",
      "\n",
      "The following object is masked from ‘package:DelayedArray’:\n",
      "\n",
      "    simplify\n",
      "\n",
      "\n",
      "The following object is masked from ‘package:IRanges’:\n",
      "\n",
      "    slice\n",
      "\n",
      "\n",
      "The following object is masked from ‘package:S4Vectors’:\n",
      "\n",
      "    rename\n",
      "\n",
      "\n",
      "The following object is masked from ‘package:igraph’:\n",
      "\n",
      "    simplify\n",
      "\n",
      "\n",
      "The following object is masked from ‘package:stats’:\n",
      "\n",
      "    filter\n",
      "\n",
      "\n",
      "\n",
      "Attaching package: ‘data.table’\n",
      "\n",
      "\n",
      "The following objects are masked from ‘package:dplyr’:\n",
      "\n",
      "    between, first, last\n",
      "\n",
      "\n",
      "The following object is masked from ‘package:SummarizedExperiment’:\n",
      "\n",
      "    shift\n",
      "\n",
      "\n",
      "The following object is masked from ‘package:GenomicRanges’:\n",
      "\n",
      "    shift\n",
      "\n",
      "\n",
      "The following object is masked from ‘package:IRanges’:\n",
      "\n",
      "    shift\n",
      "\n",
      "\n",
      "The following objects are masked from ‘package:S4Vectors’:\n",
      "\n",
      "    first, second\n",
      "\n",
      "\n",
      "\n",
      "Attaching package: ‘MOFA2’\n",
      "\n",
      "\n",
      "The following object is masked from ‘package:stats’:\n",
      "\n",
      "    predict\n",
      "\n",
      "\n",
      "\n",
      "Attaching package: ‘ggraph’\n",
      "\n",
      "\n",
      "The following object is masked from ‘package:sp’:\n",
      "\n",
      "    geometry\n",
      "\n",
      "\n",
      "\n",
      "Attaching package: ‘Hmisc’\n",
      "\n",
      "\n",
      "The following object is masked from ‘package:MOFA2’:\n",
      "\n",
      "    impute\n",
      "\n",
      "\n",
      "The following object is masked from ‘package:AnnotationDbi’:\n",
      "\n",
      "    contents\n",
      "\n",
      "\n",
      "The following object is masked from ‘package:plotly’:\n",
      "\n",
      "    subplot\n",
      "\n",
      "\n",
      "The following objects are masked from ‘package:dplyr’:\n",
      "\n",
      "    src, summarize\n",
      "\n",
      "\n",
      "The following object is masked from ‘package:Seurat’:\n",
      "\n",
      "    Key\n",
      "\n",
      "\n",
      "The following object is masked from ‘package:SeuratObject’:\n",
      "\n",
      "    Key\n",
      "\n",
      "\n",
      "The following object is masked from ‘package:Biobase’:\n",
      "\n",
      "    contents\n",
      "\n",
      "\n",
      "The following objects are masked from ‘package:base’:\n",
      "\n",
      "    format.pval, units\n",
      "\n",
      "\n",
      "Registered S3 method overwritten by 'GGally':\n",
      "  method from   \n",
      "  +.gg   ggplot2\n",
      "\n",
      "\n",
      "Attaching package: ‘rstatix’\n",
      "\n",
      "\n",
      "The following object is masked from ‘package:AnnotationDbi’:\n",
      "\n",
      "    select\n",
      "\n",
      "\n",
      "The following object is masked from ‘package:IRanges’:\n",
      "\n",
      "    desc\n",
      "\n",
      "\n",
      "The following object is masked from ‘package:stats’:\n",
      "\n",
      "    filter\n",
      "\n",
      "\n",
      "corrplot 0.92 loaded\n",
      "\n",
      "\n",
      "‘network’ 1.18.1 (2023-01-24), part of the Statnet Project\n",
      "* ‘news(package=\"network\")’ for changes since last version\n",
      "* ‘citation(\"network\")’ for citation information\n",
      "* ‘https://statnet.org’ for help, support, and other information\n",
      "\n",
      "\n",
      "\n",
      "Attaching package: ‘network’\n",
      "\n",
      "\n",
      "The following object is masked from ‘package:Hmisc’:\n",
      "\n",
      "    is.discrete\n",
      "\n",
      "\n",
      "The following objects are masked from ‘package:igraph’:\n",
      "\n",
      "    %c%, %s%, add.edges, add.vertices, delete.edges, delete.vertices,\n",
      "    get.edge.attribute, get.edges, get.vertex.attribute, is.bipartite,\n",
      "    is.directed, list.edge.attributes, list.vertex.attributes,\n",
      "    set.edge.attribute, set.vertex.attribute\n",
      "\n",
      "\n",
      "\n",
      "Attaching package: ‘enrichplot’\n",
      "\n",
      "\n",
      "The following object is masked from ‘package:GGally’:\n",
      "\n",
      "    ggtable\n",
      "\n",
      "\n",
      "DOSE v3.18.3  For help: https://guangchuangyu.github.io/software/DOSE\n",
      "\n",
      "If you use DOSE in published research, please cite:\n",
      "Guangchuang Yu, Li-Gen Wang, Guang-Rong Yan, Qing-Yu He. DOSE: an R/Bioconductor package for Disease Ontology Semantic and Enrichment analysis. Bioinformatics 2015, 31(4):608-609\n",
      "\n",
      "\n",
      "\n",
      "Attaching package: ‘UpSetR’\n",
      "\n",
      "\n",
      "The following object is masked from ‘package:ComplexUpset’:\n",
      "\n",
      "    upset\n",
      "\n",
      "\n",
      "Registered S3 method overwritten by 'gdata':\n",
      "  method         from  \n",
      "  reorder.factor gplots\n",
      "\n",
      "gdata: read.xls support for 'XLS' (Excel 97-2004) files ENABLED.\n",
      "\n",
      "\n",
      "\n",
      "gdata: read.xls support for 'XLSX' (Excel 2007+) files ENABLED.\n",
      "\n",
      "\n",
      "Attaching package: ‘gdata’\n",
      "\n",
      "\n",
      "The following objects are masked from ‘package:data.table’:\n",
      "\n",
      "    first, last\n",
      "\n",
      "\n",
      "The following objects are masked from ‘package:dplyr’:\n",
      "\n",
      "    combine, first, last\n",
      "\n",
      "\n",
      "The following object is masked from ‘package:gridExtra’:\n",
      "\n",
      "    combine\n",
      "\n",
      "\n",
      "The following object is masked from ‘package:SummarizedExperiment’:\n",
      "\n",
      "    trim\n",
      "\n",
      "\n",
      "The following object is masked from ‘package:Biobase’:\n",
      "\n",
      "    combine\n",
      "\n",
      "\n",
      "The following object is masked from ‘package:GenomicRanges’:\n",
      "\n",
      "    trim\n",
      "\n",
      "\n",
      "The following objects are masked from ‘package:IRanges’:\n",
      "\n",
      "    startsWith, trim\n",
      "\n",
      "\n",
      "The following objects are masked from ‘package:S4Vectors’:\n",
      "\n",
      "    first, first<-\n",
      "\n",
      "\n",
      "The following object is masked from ‘package:BiocGenerics’:\n",
      "\n",
      "    combine\n",
      "\n",
      "\n",
      "The following object is masked from ‘package:stats4’:\n",
      "\n",
      "    nobs\n",
      "\n",
      "\n",
      "The following object is masked from ‘package:stats’:\n",
      "\n",
      "    nobs\n",
      "\n",
      "\n",
      "The following object is masked from ‘package:utils’:\n",
      "\n",
      "    object.size\n",
      "\n",
      "\n",
      "The following object is masked from ‘package:base’:\n",
      "\n",
      "    startsWith\n",
      "\n",
      "\n",
      "\n",
      "Attaching package: ‘reshape2’\n",
      "\n",
      "\n",
      "The following objects are masked from ‘package:data.table’:\n",
      "\n",
      "    dcast, melt\n",
      "\n",
      "\n",
      "ReactomePA v1.36.0  For help: https://yulab-smu.top/biomedical-knowledge-mining-book/reactomepa.html\n",
      "\n",
      "If you use ReactomePA in published research, please cite:\n",
      "Guangchuang Yu, Qing-Yu He. ReactomePA: an R/Bioconductor package for reactome pathway analysis and visualization. Molecular BioSystems 2016, 12(2):477-479\n",
      "\n",
      "Loading required package: mgcv\n",
      "\n",
      "Loading required package: nlme\n",
      "\n",
      "\n",
      "Attaching package: ‘nlme’\n",
      "\n",
      "\n",
      "The following object is masked from ‘package:dplyr’:\n",
      "\n",
      "    collapse\n",
      "\n",
      "\n",
      "The following object is masked from ‘package:IRanges’:\n",
      "\n",
      "    collapse\n",
      "\n",
      "\n",
      "This is mgcv 1.8-41. For overview type 'help(\"mgcv-package\")'.\n",
      "\n",
      "Loading required package: genefilter\n",
      "\n",
      "\n",
      "Attaching package: ‘genefilter’\n",
      "\n",
      "\n",
      "The following object is masked from ‘package:rstatix’:\n",
      "\n",
      "    Anova\n",
      "\n",
      "\n",
      "The following objects are masked from ‘package:MatrixGenerics’:\n",
      "\n",
      "    rowSds, rowVars\n",
      "\n",
      "\n",
      "The following objects are masked from ‘package:matrixStats’:\n",
      "\n",
      "    rowSds, rowVars\n",
      "\n",
      "\n",
      "Loading required package: BiocParallel\n",
      "\n",
      "\n",
      "Attaching package: ‘patchwork’\n",
      "\n",
      "\n",
      "The following object is masked from ‘package:genefilter’:\n",
      "\n",
      "    area\n",
      "\n",
      "\n",
      "The following object is masked from ‘package:cowplot’:\n",
      "\n",
      "    align_plots\n",
      "\n",
      "\n",
      "Type 'citation(\"pROC\")' for a citation.\n",
      "\n",
      "\n",
      "Attaching package: ‘pROC’\n",
      "\n",
      "\n",
      "The following object is masked from ‘package:colorspace’:\n",
      "\n",
      "    coords\n",
      "\n",
      "\n",
      "The following objects are masked from ‘package:IRanges’:\n",
      "\n",
      "    cov, var\n",
      "\n",
      "\n",
      "The following objects are masked from ‘package:S4Vectors’:\n",
      "\n",
      "    cov, var\n",
      "\n",
      "\n",
      "The following object is masked from ‘package:BiocGenerics’:\n",
      "\n",
      "    var\n",
      "\n",
      "\n",
      "The following objects are masked from ‘package:stats’:\n",
      "\n",
      "    cov, smooth, var\n",
      "\n",
      "\n",
      "Loaded glmnet 4.1-6\n",
      "\n",
      "\n",
      "Attaching package: ‘nnet’\n",
      "\n",
      "\n",
      "The following object is masked from ‘package:mgcv’:\n",
      "\n",
      "    multinom\n",
      "\n",
      "\n",
      "\n",
      "Attaching package: ‘dfidx’\n",
      "\n",
      "\n",
      "The following object is masked from ‘package:AnnotationDbi’:\n",
      "\n",
      "    select\n",
      "\n",
      "\n",
      "The following object is masked from ‘package:IRanges’:\n",
      "\n",
      "    slice\n",
      "\n",
      "\n",
      "The following object is masked from ‘package:stats’:\n",
      "\n",
      "    filter\n",
      "\n",
      "\n",
      "\n",
      "Attaching package: ‘cvAUC’\n",
      "\n",
      "\n",
      "The following object is masked from ‘package:genefilter’:\n",
      "\n",
      "    AUC\n",
      "\n",
      "\n",
      "Loading required package: maps\n",
      "\n",
      "Loading required package: shapefiles\n",
      "\n",
      "Loading required package: foreign\n",
      "\n",
      "\n",
      "Attaching package: ‘shapefiles’\n",
      "\n",
      "\n",
      "The following objects are masked from ‘package:foreign’:\n",
      "\n",
      "    read.dbf, write.dbf\n",
      "\n",
      "\n",
      "\n",
      "Attaching package: ‘plotROC’\n",
      "\n",
      "\n",
      "The following object is masked from ‘package:pROC’:\n",
      "\n",
      "    ggroc\n",
      "\n",
      "\n",
      "Welcome! Want to learn more? See two factoextra-related books at https://goo.gl/ve3WBa\n",
      "\n",
      "Loading required package: grid\n",
      "\n",
      "========================================\n",
      "ComplexHeatmap version 2.8.0\n",
      "Bioconductor page: http://bioconductor.org/packages/ComplexHeatmap/\n",
      "Github page: https://github.com/jokergoo/ComplexHeatmap\n",
      "Documentation: http://jokergoo.github.io/ComplexHeatmap-reference\n",
      "\n",
      "If you use it in published research, please cite:\n",
      "Gu, Z. Complex heatmaps reveal patterns and correlations in multidimensional \n",
      "  genomic data. Bioinformatics 2016.\n",
      "\n",
      "The new InteractiveComplexHeatmap package can directly export static \n",
      "complex heatmaps into an interactive Shiny app with zero effort. Have a try!\n",
      "\n",
      "This message can be suppressed by:\n",
      "  suppressPackageStartupMessages(library(ComplexHeatmap))\n",
      "========================================\n",
      "\n",
      "\n",
      "\n",
      "Attaching package: ‘ComplexHeatmap’\n",
      "\n",
      "\n",
      "The following object is masked from ‘package:genefilter’:\n",
      "\n",
      "    dist2\n",
      "\n",
      "\n",
      "The following object is masked from ‘package:network’:\n",
      "\n",
      "    %v%\n",
      "\n",
      "\n",
      "The following object is masked from ‘package:plotly’:\n",
      "\n",
      "    add_heatmap\n",
      "\n",
      "\n",
      "Welcome to compositions, a package for compositional data analysis.\n",
      "Find an intro with \"? compositions\"\n",
      "\n",
      "\n",
      "\n",
      "Attaching package: ‘compositions’\n",
      "\n",
      "\n",
      "The following object is masked from ‘package:glmnet’:\n",
      "\n",
      "    rmult\n",
      "\n",
      "\n",
      "The following objects are masked from ‘package:pROC’:\n",
      "\n",
      "    cov, var\n",
      "\n",
      "\n",
      "The following object is masked from ‘package:DelayedArray’:\n",
      "\n",
      "    scale\n",
      "\n",
      "\n",
      "The following object is masked from ‘package:Matrix’:\n",
      "\n",
      "    norm\n",
      "\n",
      "\n",
      "The following object is masked from ‘package:scater’:\n",
      "\n",
      "    normalize\n",
      "\n",
      "\n",
      "The following objects are masked from ‘package:IRanges’:\n",
      "\n",
      "    cor, cov, var\n",
      "\n",
      "\n",
      "The following objects are masked from ‘package:S4Vectors’:\n",
      "\n",
      "    cor, cov, var\n",
      "\n",
      "\n",
      "The following objects are masked from ‘package:BiocGenerics’:\n",
      "\n",
      "    normalize, var\n",
      "\n",
      "\n",
      "The following object is masked from ‘package:igraph’:\n",
      "\n",
      "    normalize\n",
      "\n",
      "\n",
      "The following objects are masked from ‘package:stats’:\n",
      "\n",
      "    anova, cor, cov, dist, var\n",
      "\n",
      "\n",
      "The following objects are masked from ‘package:base’:\n",
      "\n",
      "    %*%, norm, scale, scale.default\n",
      "\n",
      "\n",
      "========================================\n",
      "circlize version 0.4.15\n",
      "CRAN page: https://cran.r-project.org/package=circlize\n",
      "Github page: https://github.com/jokergoo/circlize\n",
      "Documentation: https://jokergoo.github.io/circlize_book/book/\n",
      "\n",
      "If you use it in published research, please cite:\n",
      "Gu, Z. circlize implements and enhances circular visualization\n",
      "  in R. Bioinformatics 2014.\n",
      "\n",
      "This message can be suppressed by:\n",
      "  suppressPackageStartupMessages(library(circlize))\n",
      "========================================\n",
      "\n",
      "\n",
      "\n",
      "Attaching package: ‘circlize’\n",
      "\n",
      "\n",
      "The following object is masked from ‘package:igraph’:\n",
      "\n",
      "    degree\n",
      "\n",
      "\n",
      "\n",
      "Attaching package: ‘ggpubr’\n",
      "\n",
      "\n",
      "The following object is masked from ‘package:enrichplot’:\n",
      "\n",
      "    color_palette\n",
      "\n",
      "\n",
      "The following object is masked from ‘package:cowplot’:\n",
      "\n",
      "    get_legend\n",
      "\n",
      "\n"
     ]
    }
   ],
   "source": [
    "source('MS0_Libraries.r')"
   ]
  },
  {
   "cell_type": "code",
   "execution_count": 3,
   "id": "719c1eec-6f9e-4ddb-8449-a0d1885300e3",
   "metadata": {
    "tags": []
   },
   "outputs": [
    {
     "name": "stderr",
     "output_type": "stream",
     "text": [
      "Warning message:\n",
      "“\u001b[1m\u001b[22mThe `size` argument of `element_line()` is deprecated as of ggplot2 3.4.0.\n",
      "\u001b[36mℹ\u001b[39m Please use the `linewidth` argument instead.”\n"
     ]
    }
   ],
   "source": [
    "source('MS4_Plot_Config.r')"
   ]
  },
  {
   "cell_type": "markdown",
   "id": "e87a5cf7-d4d8-446f-8200-6049579007e3",
   "metadata": {
    "tags": []
   },
   "source": [
    "###############################################\n",
    "# Preqrequisites Configurations & Parameters"
   ]
  },
  {
   "cell_type": "code",
   "execution_count": 4,
   "id": "2620b42a-3d74-4f1b-a627-634f8fc8b9a7",
   "metadata": {},
   "outputs": [],
   "source": [
    "data_path =   '../data/current'"
   ]
  },
  {
   "cell_type": "code",
   "execution_count": 5,
   "id": "4e1f7860-7cc7-44f5-aec7-388aa7cb8817",
   "metadata": {},
   "outputs": [],
   "source": [
    "result_path = '../results/current'"
   ]
  },
  {
   "cell_type": "code",
   "execution_count": 6,
   "id": "4cb831d1-d8b4-4531-a6ba-dcedbd45e9bd",
   "metadata": {},
   "outputs": [],
   "source": [
    "### Should quantile normalization be applied?"
   ]
  },
  {
   "cell_type": "code",
   "execution_count": 7,
   "id": "b94483f9-ad07-4c7b-9e07-db67fa1ccc5f",
   "metadata": {},
   "outputs": [],
   "source": [
    "quantile_normalization_cyto = FALSE"
   ]
  },
  {
   "cell_type": "code",
   "execution_count": 8,
   "id": "306fa4cf-f569-4fbf-91da-1d4f6b1c9871",
   "metadata": {
    "tags": []
   },
   "outputs": [],
   "source": [
    "quantile_normalization_proteomics = FALSE"
   ]
  },
  {
   "cell_type": "code",
   "execution_count": 9,
   "id": "fa4999c5-e1f5-484f-a448-b9c770b76271",
   "metadata": {},
   "outputs": [],
   "source": [
    "library_adjustment_neutrophils = TRUE"
   ]
  },
  {
   "cell_type": "code",
   "execution_count": 10,
   "id": "0b53de29-354e-4b14-8c52-83c21ef9a885",
   "metadata": {},
   "outputs": [],
   "source": [
    "regress_neutrophils = FALSE"
   ]
  },
  {
   "cell_type": "code",
   "execution_count": 11,
   "id": "f54f691b-740f-4b29-87d5-9b82f1e007cb",
   "metadata": {},
   "outputs": [],
   "source": [
    "neutrophil_threshold = 0.2 # decide how many 0 are allowed on genes measured(percentage zeros)"
   ]
  },
  {
   "cell_type": "code",
   "execution_count": 12,
   "id": "becdc8ed-333f-4114-98c9-d734265db542",
   "metadata": {},
   "outputs": [],
   "source": [
    "quantile_normalization_neutrophils = TRUE"
   ]
  },
  {
   "cell_type": "code",
   "execution_count": 13,
   "id": "dd2705ef-d082-407e-9db9-8e509bb8b2fd",
   "metadata": {},
   "outputs": [],
   "source": [
    "quantile_normalization_single_cell = TRUE"
   ]
  },
  {
   "cell_type": "code",
   "execution_count": 14,
   "id": "0ff68a06-c9ee-4125-9c17-d244bc430d25",
   "metadata": {},
   "outputs": [],
   "source": [
    "align_genes = FALSE  # decide whether to take only genes of single-cell data"
   ]
  },
  {
   "cell_type": "code",
   "execution_count": 15,
   "id": "42b4ac50-b34d-4a76-b100-e2105d96a586",
   "metadata": {},
   "outputs": [],
   "source": [
    "add_duplicates = FALSE"
   ]
  },
  {
   "cell_type": "code",
   "execution_count": 16,
   "id": "5e97bb4d-0287-4907-a8b4-65b5b7836558",
   "metadata": {},
   "outputs": [],
   "source": [
    "# Name on which to Save the Data\n",
    "name = 'V_FINAL'"
   ]
  },
  {
   "cell_type": "code",
   "execution_count": null,
   "id": "82701c50-1802-40d0-8f29-87425756e9cf",
   "metadata": {},
   "outputs": [],
   "source": []
  },
  {
   "cell_type": "markdown",
   "id": "0c7d81ae-2c72-4fcb-b4fa-dc113b1acd9c",
   "metadata": {
    "tags": []
   },
   "source": [
    "# Functions"
   ]
  },
  {
   "cell_type": "code",
   "execution_count": 17,
   "id": "52736da0-d234-4fed-9008-7c1af72d5595",
   "metadata": {},
   "outputs": [],
   "source": [
    "### Function for quantile normalization\n",
    "\n",
    "quantile_normalization = function(X){\n",
    "  ranks = apply(X, 2, rank, ties.method = 'min')  # determine ranks of each entry\n",
    "  \n",
    "  sorted = data.frame(apply(X, 2, sort)) # sort the entries\n",
    "  means = apply(sorted, 1, mean) # calculate the means\n",
    "  \n",
    "  normalized_data = apply(ranks, 2 ,function(x){ means[x]}) # substitute the means into ranks matrix\n",
    "}\n"
   ]
  },
  {
   "cell_type": "code",
   "execution_count": 18,
   "id": "a98734a0-b38d-4b2b-a1dd-e59cb3afab0a",
   "metadata": {},
   "outputs": [],
   "source": [
    "### Gene wise quantile normalization\n",
    "\n",
    "\n",
    "stdnorm <- function(x) {\n",
    "  r = rank(x, ties.method=\"random\")\n",
    "  qnorm(r / (length(x) + 1))\n",
    "}"
   ]
  },
  {
   "cell_type": "markdown",
   "id": "912a0f3f-c5dd-4d9f-b211-e475afc56e42",
   "metadata": {
    "tags": []
   },
   "source": [
    "# Load Data "
   ]
  },
  {
   "cell_type": "markdown",
   "id": "6c8add5d-55f2-4a3e-a2af-bc94cf78d7ce",
   "metadata": {
    "tags": []
   },
   "source": [
    "## Sample Meta Data"
   ]
  },
  {
   "cell_type": "markdown",
   "id": "fe8f0476-2305-4eba-9c6d-5ee33434c9e4",
   "metadata": {},
   "source": [
    "### Load"
   ]
  },
  {
   "cell_type": "code",
   "execution_count": 19,
   "id": "5bb5fa63-5b25-49b9-8279-9b4017e84d4c",
   "metadata": {},
   "outputs": [
    {
     "name": "stdout",
     "output_type": "stream",
     "text": [
      "[1] \"2023-12-10 11:16:00 CET\"\n"
     ]
    }
   ],
   "source": [
    "path = paste0(result_path, '/00_Data_Overview/Available_Data_per_Sample_Overview.csv')\n",
    "all_samples_info = read.csv(path)\n",
    "print(file.info(path)$mtime)"
   ]
  },
  {
   "cell_type": "code",
   "execution_count": 20,
   "id": "4d494105-ce5b-4266-8bf5-d41504ff0310",
   "metadata": {},
   "outputs": [
    {
     "name": "stdout",
     "output_type": "stream",
     "text": [
      "[1] \"2023-12-10 11:16:00 CET\"\n"
     ]
    }
   ],
   "source": [
    "path = paste0(result_path, '/00_Data_Overview/Merged_Sample_Meta_Data.csv')\n",
    "sample_data = read.csv(path)\n",
    "print(file.info(path)$mtime)"
   ]
  },
  {
   "cell_type": "code",
   "execution_count": 21,
   "id": "07c6a601-fee0-4396-81c2-caf5ab358e0b",
   "metadata": {},
   "outputs": [],
   "source": [
    "#patients_filter = unique(sample_data$sample_id[is.na(str_extract(sample_data$sample_id, 'k'))])  # use only acs samples\n",
    "patients_filter = unique(sample_data$sample_id) #  use all samples"
   ]
  },
  {
   "cell_type": "markdown",
   "id": "a2476cc2-0232-491a-b976-dca6bcbe503f",
   "metadata": {
    "tags": []
   },
   "source": [
    "### Process Clinical Data"
   ]
  },
  {
   "cell_type": "code",
   "execution_count": 22,
   "id": "91e81627-91fd-4962-8868-00b62d6d4ca1",
   "metadata": {},
   "outputs": [],
   "source": [
    "### Select relevant columsn"
   ]
  },
  {
   "cell_type": "code",
   "execution_count": 23,
   "id": "ba5f0aa2-46c1-4eb3-9708-9651529bffd6",
   "metadata": {},
   "outputs": [],
   "source": [
    "clinical_data = sample_data[,c('sample_id', 'measurement', 'CK', 'CK_MB', 'Troponin','CRP', 'delta_ef_value', 'sample')]"
   ]
  },
  {
   "cell_type": "code",
   "execution_count": 24,
   "id": "d62413fd-926a-467b-b44a-6eff692354bd",
   "metadata": {},
   "outputs": [],
   "source": [
    "clinical_data = clinical_data[clinical_data$sample_id %in% patients_filter,]"
   ]
  },
  {
   "cell_type": "code",
   "execution_count": 25,
   "id": "de608fb3-6d28-403d-9ad3-cd8e35da5dea",
   "metadata": {},
   "outputs": [],
   "source": [
    "### Data transformations"
   ]
  },
  {
   "cell_type": "code",
   "execution_count": 26,
   "id": "7329685b-72ea-4dda-99aa-2853594cc2c4",
   "metadata": {},
   "outputs": [
    {
     "name": "stderr",
     "output_type": "stream",
     "text": [
      "Warning message in eval(expr, envir, enclos):\n",
      "“NAs introduced by coercion”\n"
     ]
    }
   ],
   "source": [
    "clinical_data$CK_MB = as.numeric(clinical_data$CK_MB)"
   ]
  },
  {
   "cell_type": "code",
   "execution_count": 27,
   "id": "038a5d9a-68a5-49b9-b215-994515f368a7",
   "metadata": {},
   "outputs": [
    {
     "name": "stderr",
     "output_type": "stream",
     "text": [
      "Warning message in eval(expr, envir, enclos):\n",
      "“NAs introduced by coercion”\n"
     ]
    }
   ],
   "source": [
    "clinical_data$CRP = as.numeric(clinical_data$CRP)"
   ]
  },
  {
   "cell_type": "code",
   "execution_count": 28,
   "id": "ea384678-ce0f-402a-bb47-cda6be5668a0",
   "metadata": {},
   "outputs": [],
   "source": [
    "clinical_data[,3:6] = log2(clinical_data[,3:6]+1)   # logarithmize"
   ]
  },
  {
   "cell_type": "code",
   "execution_count": 29,
   "id": "ee9f367a-d19b-4860-8e57-681a60000d30",
   "metadata": {},
   "outputs": [],
   "source": [
    "clinical_data = clinical_data %>% group_by(sample_id) %>% summarise(CK = mean(CK), CK_MB = mean(CK_MB), Troponin = mean(Troponin), delta_ef_value = mean(delta_ef_value), CRP =mean(CRP) )"
   ]
  },
  {
   "cell_type": "code",
   "execution_count": 30,
   "id": "4bea4af0-26d7-4077-bacc-7b9f3b29673a",
   "metadata": {},
   "outputs": [],
   "source": [
    "clinical_data = data.frame(clinical_data)"
   ]
  },
  {
   "cell_type": "code",
   "execution_count": 31,
   "id": "17f49e9f-03d1-4083-9b8e-c248f2299775",
   "metadata": {},
   "outputs": [],
   "source": [
    "### Long format to integrate in clustering"
   ]
  },
  {
   "cell_type": "code",
   "execution_count": 32,
   "id": "a778c296-ba34-4d21-ae46-a67307a004d3",
   "metadata": {},
   "outputs": [
    {
     "name": "stderr",
     "output_type": "stream",
     "text": [
      "Using sample_id as id variables\n",
      "\n"
     ]
    }
   ],
   "source": [
    "clinical_data_long = melt(clinical_data)"
   ]
  },
  {
   "cell_type": "code",
   "execution_count": 33,
   "id": "593563c5-27b3-46e8-ac38-51f923430c7c",
   "metadata": {},
   "outputs": [],
   "source": [
    "clinical_data_long$type = 'clinical_data'"
   ]
  },
  {
   "cell_type": "code",
   "execution_count": 34,
   "id": "29ce71fc-156d-44c2-9804-434d95daf04c",
   "metadata": {},
   "outputs": [],
   "source": [
    "clinical_data_dupl = clinical_data_long[clinical_data_long$sample_id %in% c('m13.2', 'm6.4'),]"
   ]
  },
  {
   "cell_type": "code",
   "execution_count": 35,
   "id": "4082bb2f-ab0e-4e7d-b72f-4d9e293ff050",
   "metadata": {},
   "outputs": [],
   "source": [
    "clinical_data_dupl$sample_id[clinical_data_dupl$sample_id == 'm13.2'] = 'm13.22'"
   ]
  },
  {
   "cell_type": "code",
   "execution_count": 36,
   "id": "9c8f8ff2-a69e-40fc-833f-028022a8eb9a",
   "metadata": {},
   "outputs": [],
   "source": [
    "clinical_data_dupl$sample_id[clinical_data_dupl$sample_id == 'm6.4'] = 'm6.42'"
   ]
  },
  {
   "cell_type": "code",
   "execution_count": 37,
   "id": "250a0940-056c-462b-a4f6-2ba23931efbd",
   "metadata": {},
   "outputs": [],
   "source": [
    "if(add_duplicates == TRUE){\n",
    "    clinical_data_long = rbind(clinical_data_long, clinical_data_dupl)\n",
    "    }"
   ]
  },
  {
   "cell_type": "code",
   "execution_count": 38,
   "id": "a2aab4a1-87c8-4e8e-8a4d-039712b74442",
   "metadata": {},
   "outputs": [
    {
     "data": {
      "text/html": [
       "<style>\n",
       ".list-inline {list-style: none; margin:0; padding: 0}\n",
       ".list-inline>li {display: inline-block}\n",
       ".list-inline>li:not(:last-child)::after {content: \"\\00b7\"; padding: 0 .5ex}\n",
       "</style>\n",
       "<ol class=list-inline><li>CK</li><li>CK_MB</li><li>Troponin</li><li>delta_ef_value</li><li>CRP</li></ol>\n",
       "\n",
       "<details>\n",
       "\t<summary style=display:list-item;cursor:pointer>\n",
       "\t\t<strong>Levels</strong>:\n",
       "\t</summary>\n",
       "\t<style>\n",
       "\t.list-inline {list-style: none; margin:0; padding: 0}\n",
       "\t.list-inline>li {display: inline-block}\n",
       "\t.list-inline>li:not(:last-child)::after {content: \"\\00b7\"; padding: 0 .5ex}\n",
       "\t</style>\n",
       "\t<ol class=list-inline><li>'CK'</li><li>'CK_MB'</li><li>'Troponin'</li><li>'delta_ef_value'</li><li>'CRP'</li></ol>\n",
       "</details>"
      ],
      "text/latex": [
       "\\begin{enumerate*}\n",
       "\\item CK\n",
       "\\item CK\\_MB\n",
       "\\item Troponin\n",
       "\\item delta\\_ef\\_value\n",
       "\\item CRP\n",
       "\\end{enumerate*}\n",
       "\n",
       "\\emph{Levels}: \\begin{enumerate*}\n",
       "\\item 'CK'\n",
       "\\item 'CK\\_MB'\n",
       "\\item 'Troponin'\n",
       "\\item 'delta\\_ef\\_value'\n",
       "\\item 'CRP'\n",
       "\\end{enumerate*}\n"
      ],
      "text/markdown": [
       "1. CK\n",
       "2. CK_MB\n",
       "3. Troponin\n",
       "4. delta_ef_value\n",
       "5. CRP\n",
       "\n",
       "\n",
       "\n",
       "**Levels**: 1. 'CK'\n",
       "2. 'CK_MB'\n",
       "3. 'Troponin'\n",
       "4. 'delta_ef_value'\n",
       "5. 'CRP'\n",
       "\n",
       "\n"
      ],
      "text/plain": [
       "[1] CK             CK_MB          Troponin       delta_ef_value CRP           \n",
       "Levels: CK CK_MB Troponin delta_ef_value CRP"
      ]
     },
     "metadata": {},
     "output_type": "display_data"
    }
   ],
   "source": [
    "unique(clinical_data_long$variable)"
   ]
  },
  {
   "cell_type": "markdown",
   "id": "fc9c4368-f0c0-451a-b432-1f908e43ce6c",
   "metadata": {
    "tags": []
   },
   "source": [
    "## Cytokine Data"
   ]
  },
  {
   "cell_type": "markdown",
   "id": "ebc3090c-9d27-4a9d-982a-054545e84b81",
   "metadata": {},
   "source": [
    "### Load"
   ]
  },
  {
   "cell_type": "code",
   "execution_count": 39,
   "id": "400591db-2f6a-46d5-8af8-4bee42352e37",
   "metadata": {},
   "outputs": [],
   "source": [
    "### Load processed cytokine data"
   ]
  },
  {
   "cell_type": "code",
   "execution_count": 40,
   "id": "97b519e1-c303-4471-8600-ec766419127e",
   "metadata": {},
   "outputs": [
    {
     "name": "stdout",
     "output_type": "stream",
     "text": [
      "[1] \"2023-12-10 11:16:00 CET\"\n"
     ]
    }
   ],
   "source": [
    "path = paste0(result_path, '/00_Data_Overview/Prepared_Cytokine_Data.csv')\n",
    "cytokines = read.csv( path)\n",
    "print(file.info(path)$mtime)"
   ]
  },
  {
   "cell_type": "code",
   "execution_count": 41,
   "id": "4c85bc86-2f05-4996-85a1-5d9c5ff7d765",
   "metadata": {},
   "outputs": [],
   "source": [
    "### Load cytokine gene mapping"
   ]
  },
  {
   "cell_type": "code",
   "execution_count": 42,
   "id": "ac6f3b66-22d7-4c35-967a-f1e2ae716fef",
   "metadata": {},
   "outputs": [
    {
     "name": "stdout",
     "output_type": "stream",
     "text": [
      "[1] \"2022-07-13 11:17:31 CEST\"\n"
     ]
    }
   ],
   "source": [
    "path = paste0(data_path, '/preprocessed-data/meta-data/Cytokine_Gene_Mapping.csv')\n",
    "cytokine_gene_mapping = read.csv( path)\n",
    "print(file.info(path)$mtime)"
   ]
  },
  {
   "cell_type": "code",
   "execution_count": 43,
   "id": "aa8d433e-99e2-42e2-bdad-d3a12800e44e",
   "metadata": {},
   "outputs": [
    {
     "data": {
      "text/html": [
       "<table class=\"dataframe\">\n",
       "<caption>A data.frame: 2 × 2</caption>\n",
       "<thead>\n",
       "\t<tr><th></th><th scope=col>cytokine</th><th scope=col>mapped_name</th></tr>\n",
       "\t<tr><th></th><th scope=col>&lt;chr&gt;</th><th scope=col>&lt;chr&gt;</th></tr>\n",
       "</thead>\n",
       "<tbody>\n",
       "\t<tr><th scope=row>1</th><td>IL8      </td><td>IL8__CXCL8     </td></tr>\n",
       "\t<tr><th scope=row>2</th><td>MIP1alpha</td><td>MIP1alpha__CCL3</td></tr>\n",
       "</tbody>\n",
       "</table>\n"
      ],
      "text/latex": [
       "A data.frame: 2 × 2\n",
       "\\begin{tabular}{r|ll}\n",
       "  & cytokine & mapped\\_name\\\\\n",
       "  & <chr> & <chr>\\\\\n",
       "\\hline\n",
       "\t1 & IL8       & IL8\\_\\_CXCL8     \\\\\n",
       "\t2 & MIP1alpha & MIP1alpha\\_\\_CCL3\\\\\n",
       "\\end{tabular}\n"
      ],
      "text/markdown": [
       "\n",
       "A data.frame: 2 × 2\n",
       "\n",
       "| <!--/--> | cytokine &lt;chr&gt; | mapped_name &lt;chr&gt; |\n",
       "|---|---|---|\n",
       "| 1 | IL8       | IL8__CXCL8      |\n",
       "| 2 | MIP1alpha | MIP1alpha__CCL3 |\n",
       "\n"
      ],
      "text/plain": [
       "  cytokine  mapped_name    \n",
       "1 IL8       IL8__CXCL8     \n",
       "2 MIP1alpha MIP1alpha__CCL3"
      ]
     },
     "metadata": {},
     "output_type": "display_data"
    }
   ],
   "source": [
    "head(cytokine_gene_mapping,2)"
   ]
  },
  {
   "cell_type": "code",
   "execution_count": 44,
   "id": "37b00f5a-5957-4677-8ba5-1d6850bfb6b3",
   "metadata": {},
   "outputs": [
    {
     "data": {
      "text/html": [
       "<table class=\"dataframe\">\n",
       "<caption>A data.frame: 1 × 2</caption>\n",
       "<thead>\n",
       "\t<tr><th></th><th scope=col>cytokine</th><th scope=col>mapped_name</th></tr>\n",
       "\t<tr><th></th><th scope=col>&lt;chr&gt;</th><th scope=col>&lt;chr&gt;</th></tr>\n",
       "</thead>\n",
       "<tbody>\n",
       "\t<tr><th scope=row>26</th><td>IL15</td><td>IL15__IL15</td></tr>\n",
       "</tbody>\n",
       "</table>\n"
      ],
      "text/latex": [
       "A data.frame: 1 × 2\n",
       "\\begin{tabular}{r|ll}\n",
       "  & cytokine & mapped\\_name\\\\\n",
       "  & <chr> & <chr>\\\\\n",
       "\\hline\n",
       "\t26 & IL15 & IL15\\_\\_IL15\\\\\n",
       "\\end{tabular}\n"
      ],
      "text/markdown": [
       "\n",
       "A data.frame: 1 × 2\n",
       "\n",
       "| <!--/--> | cytokine &lt;chr&gt; | mapped_name &lt;chr&gt; |\n",
       "|---|---|---|\n",
       "| 26 | IL15 | IL15__IL15 |\n",
       "\n"
      ],
      "text/plain": [
       "   cytokine mapped_name\n",
       "26 IL15     IL15__IL15 "
      ]
     },
     "metadata": {},
     "output_type": "display_data"
    }
   ],
   "source": [
    "cytokine_gene_mapping[cytokine_gene_mapping$cytokine == 'IL15',]"
   ]
  },
  {
   "cell_type": "code",
   "execution_count": 45,
   "id": "87ae70f5-12cd-46b5-a89b-853e173529ad",
   "metadata": {},
   "outputs": [
    {
     "data": {
      "text/html": [
       "75"
      ],
      "text/latex": [
       "75"
      ],
      "text/markdown": [
       "75"
      ],
      "text/plain": [
       "[1] 75"
      ]
     },
     "metadata": {},
     "output_type": "display_data"
    }
   ],
   "source": [
    "ncol(cytokines)  # about 75 cytokines"
   ]
  },
  {
   "cell_type": "markdown",
   "id": "16cb96d3-438f-48d0-bbca-1ea37a418d37",
   "metadata": {},
   "source": [
    "### Pre-process"
   ]
  },
  {
   "cell_type": "code",
   "execution_count": 46,
   "id": "21b12883-d037-4224-82b5-29e24667b9a7",
   "metadata": {},
   "outputs": [],
   "source": [
    "#### Set OOR values to 0"
   ]
  },
  {
   "cell_type": "code",
   "execution_count": 47,
   "id": "a3cb3cb1-3558-4213-ba41-e94e3f355593",
   "metadata": {},
   "outputs": [],
   "source": [
    "cytokines[cytokines == 'OOR <'] = 0"
   ]
  },
  {
   "cell_type": "code",
   "execution_count": 48,
   "id": "323eca68-097b-414e-be8e-6cada9be0aee",
   "metadata": {},
   "outputs": [],
   "source": [
    "cytokines[cytokines == 'OOR'] = 0"
   ]
  },
  {
   "cell_type": "code",
   "execution_count": 49,
   "id": "3bbf9068-8395-42cf-bd7f-183303b71a42",
   "metadata": {},
   "outputs": [],
   "source": [
    "cytokines[cytokines == ''] = 0"
   ]
  },
  {
   "cell_type": "code",
   "execution_count": 50,
   "id": "8d4afea7-5625-4537-89e5-5a0956164ec5",
   "metadata": {},
   "outputs": [],
   "source": [
    "rownames(cytokines) = cytokines$id"
   ]
  },
  {
   "cell_type": "code",
   "execution_count": 51,
   "id": "543f958f-0589-4fd0-9f78-9dd6f29d00a7",
   "metadata": {},
   "outputs": [],
   "source": [
    "samples = cytokines$id"
   ]
  },
  {
   "cell_type": "code",
   "execution_count": 52,
   "id": "c687705b-67ad-4371-afcb-fcd68fef0de8",
   "metadata": {},
   "outputs": [],
   "source": [
    "cytokines$id = NULL"
   ]
  },
  {
   "cell_type": "code",
   "execution_count": 53,
   "id": "4fa35094-21c8-4be0-afa2-2e6b0019d0e4",
   "metadata": {},
   "outputs": [],
   "source": [
    "cytokines$sample_id = NULL"
   ]
  },
  {
   "cell_type": "code",
   "execution_count": 54,
   "id": "ae4fb64a-42e7-4f60-be40-6e76a4a56088",
   "metadata": {},
   "outputs": [],
   "source": [
    "cytokines$X = NULL"
   ]
  },
  {
   "cell_type": "code",
   "execution_count": 55,
   "id": "315c4595-1928-4532-80b4-b6c79a519f37",
   "metadata": {},
   "outputs": [],
   "source": [
    "colnames(cytokines) = str_replace(colnames(cytokines), '\\\\.|\\\\.\\\\.|\\\\.\\\\.\\\\.', '_')"
   ]
  },
  {
   "cell_type": "code",
   "execution_count": 56,
   "id": "95131c05-3e64-4154-bc26-aa8e96baa1bc",
   "metadata": {},
   "outputs": [],
   "source": [
    "for(i in colnames(cytokines)){\n",
    "    cytokines[,i] = as.numeric(   cytokines[,i])\n",
    "    }"
   ]
  },
  {
   "cell_type": "code",
   "execution_count": 57,
   "id": "dd26b7e8-9e98-4dd9-8776-4a0cd04f8334",
   "metadata": {},
   "outputs": [],
   "source": [
    "cytokine_names = colnames(cytokines)"
   ]
  },
  {
   "cell_type": "code",
   "execution_count": 58,
   "id": "e4979f66-1cc9-4cfc-b4ae-0e19f529b3e9",
   "metadata": {
    "tags": []
   },
   "outputs": [],
   "source": [
    "cytokines_trans_adapted = cytokines"
   ]
  },
  {
   "cell_type": "code",
   "execution_count": 59,
   "id": "524d0878-ae52-45e0-8eac-cfe17d77e95d",
   "metadata": {},
   "outputs": [],
   "source": [
    "cytokines_trans_adapted = data.frame(cytokines_trans_adapted)"
   ]
  },
  {
   "cell_type": "code",
   "execution_count": 60,
   "id": "f5e6a25a-3c40-439e-9ca5-9f75b3c599af",
   "metadata": {},
   "outputs": [],
   "source": [
    "cytokines_trans_adapted$X = NULL"
   ]
  },
  {
   "cell_type": "code",
   "execution_count": 61,
   "id": "2df1d069-692a-47e1-a35f-a6aa7d70d321",
   "metadata": {},
   "outputs": [],
   "source": [
    "cytokines_trans_adapted$sample_id = NULL"
   ]
  },
  {
   "cell_type": "code",
   "execution_count": 62,
   "id": "55aae4af-aaac-4dc6-9469-e77b634c4e31",
   "metadata": {},
   "outputs": [],
   "source": [
    "#### Logarithmize the values (TBD - other transformations?)"
   ]
  },
  {
   "cell_type": "code",
   "execution_count": 63,
   "id": "3bbebd2d-b956-406a-a24f-1af3c4a2cd33",
   "metadata": {},
   "outputs": [],
   "source": [
    "cytokines_trans_adapted = log2(cytokines_trans_adapted + 1)"
   ]
  },
  {
   "cell_type": "code",
   "execution_count": 64,
   "id": "7944ea90-24d9-4312-84b7-b7a713e9b30d",
   "metadata": {},
   "outputs": [],
   "source": [
    "cytokines_trans_adapted$sample_id = samples"
   ]
  },
  {
   "cell_type": "code",
   "execution_count": 65,
   "id": "eb363d6e-ab72-4ce2-bd8d-f18c8768e20b",
   "metadata": {
    "tags": []
   },
   "outputs": [],
   "source": [
    "cytokines_trans_adapted$cytokine_data = NULL"
   ]
  },
  {
   "cell_type": "code",
   "execution_count": null,
   "id": "d2f8dd8b-ffb4-455b-bd45-58352c68a104",
   "metadata": {},
   "outputs": [],
   "source": []
  },
  {
   "cell_type": "code",
   "execution_count": 66,
   "id": "6caceb5c-d95f-47f3-a8e1-db0190f5af10",
   "metadata": {},
   "outputs": [],
   "source": [
    "#### Apply quantile normalization"
   ]
  },
  {
   "cell_type": "code",
   "execution_count": 67,
   "id": "bbefeafa-1022-4e3b-b22f-07fdb5bee777",
   "metadata": {},
   "outputs": [
    {
     "data": {
      "text/html": [
       "FALSE"
      ],
      "text/latex": [
       "FALSE"
      ],
      "text/markdown": [
       "FALSE"
      ],
      "text/plain": [
       "[1] FALSE"
      ]
     },
     "metadata": {},
     "output_type": "display_data"
    }
   ],
   "source": [
    "quantile_normalization_cyto"
   ]
  },
  {
   "cell_type": "code",
   "execution_count": 68,
   "id": "c412616b-7659-412c-a9eb-d57ce073fc99",
   "metadata": {},
   "outputs": [],
   "source": [
    "if(quantile_normalization_cyto == TRUE){\n",
    "    rownames(cytokines_trans_adapted) = cytokines_trans_adapted$sample_id\n",
    "    cytokines_trans_adapted$sample_id = NULL\n",
    "    cytokines_trans_adapted = data.frame(t(cytokines_trans_adapted))\n",
    "    cyto_names = rownames(cytokines_trans_adapted)\n",
    "    \n",
    "    \n",
    "    cytokines_trans_adapted = quantile_normalization(cytokines_trans_adapted)\n",
    "    rownames(cytokines_trans_adapted) = cyto_names\n",
    "    cytokines_trans_adapted = data.frame(t(cytokines_trans_adapted))\n",
    "    cytokines_trans_adapted$sample_id = rownames(cytokines_trans_adapted)\n",
    "    }"
   ]
  },
  {
   "cell_type": "code",
   "execution_count": 69,
   "id": "879a7295-7e42-4c86-afdc-a026057d316f",
   "metadata": {},
   "outputs": [],
   "source": [
    "#### Generate cytokine long format for visualization"
   ]
  },
  {
   "cell_type": "code",
   "execution_count": 70,
   "id": "4319cd5f-5943-44ef-a059-de84d11a17a5",
   "metadata": {},
   "outputs": [],
   "source": [
    "cytokines_trans_adapted$id = NULL"
   ]
  },
  {
   "cell_type": "code",
   "execution_count": 71,
   "id": "1bf1036b-9ed1-4b7d-b7b1-2629883f800d",
   "metadata": {},
   "outputs": [],
   "source": [
    "cytokines_trans_adapted$cytokine_data = NULL"
   ]
  },
  {
   "cell_type": "code",
   "execution_count": 72,
   "id": "20180269-6146-487d-b4ac-4c67e4e4d345",
   "metadata": {},
   "outputs": [
    {
     "name": "stderr",
     "output_type": "stream",
     "text": [
      "Using sample_id as id variables\n",
      "\n"
     ]
    }
   ],
   "source": [
    "cytokines_long = melt(cytokines_trans_adapted)"
   ]
  },
  {
   "cell_type": "code",
   "execution_count": 73,
   "id": "f71b3efc-b6e2-4fe5-816b-9799a62c6af9",
   "metadata": {},
   "outputs": [],
   "source": [
    "cytokines_long$type = 'cytokine'"
   ]
  },
  {
   "cell_type": "code",
   "execution_count": 74,
   "id": "9aef2bc2-6302-4d4b-a932-f53009e7d0e5",
   "metadata": {},
   "outputs": [],
   "source": [
    "### Adjust names for later mapping"
   ]
  },
  {
   "cell_type": "code",
   "execution_count": 75,
   "id": "7091752e-e6ae-4aa7-8944-4d0e9a85471d",
   "metadata": {},
   "outputs": [],
   "source": [
    "cytokines_long$variable = as.character(cytokines_long$variable)"
   ]
  },
  {
   "cell_type": "code",
   "execution_count": 76,
   "id": "0c05db14-a10e-43b7-a0c4-1b1216f0f992",
   "metadata": {},
   "outputs": [],
   "source": [
    "cytokines_long = merge(cytokines_long, cytokine_gene_mapping, by.x = c('variable'), by.y = c('cytokine'), all.x = TRUE)"
   ]
  },
  {
   "cell_type": "code",
   "execution_count": 77,
   "id": "154666f3-ddc4-4c6b-bd15-bb71505dcf0e",
   "metadata": {},
   "outputs": [],
   "source": [
    "cytokines_long$mapped_name[is.na(cytokines_long$mapped_name)] = cytokines_long$variable[is.na(cytokines_long$mapped_name)]"
   ]
  },
  {
   "cell_type": "code",
   "execution_count": 78,
   "id": "caebac1c-36f9-4741-8ae8-b2fa570c6037",
   "metadata": {},
   "outputs": [],
   "source": [
    "cytokines_long$variable = cytokines_long$mapped_name"
   ]
  },
  {
   "cell_type": "code",
   "execution_count": 79,
   "id": "6ea1d9dc-e7b9-4c10-b085-a7f5cf729e94",
   "metadata": {},
   "outputs": [],
   "source": [
    "cytokines_long$mapped_name = NULL"
   ]
  },
  {
   "cell_type": "code",
   "execution_count": 80,
   "id": "7fe6b6d7-ab6d-401a-b3db-1dd68ea3cd76",
   "metadata": {},
   "outputs": [
    {
     "data": {
      "text/html": [
       "<style>\n",
       ".list-inline {list-style: none; margin:0; padding: 0}\n",
       ".list-inline>li {display: inline-block}\n",
       ".list-inline>li:not(:last-child)::after {content: \"\\00b7\"; padding: 0 .5ex}\n",
       "</style>\n",
       "<ol class=list-inline><li>'sCD40L'</li><li>'EGF'</li><li>'Eotaxin'</li><li>'FGF2'</li><li>'FLT3L'</li><li>'Fractalkine'</li><li>'GCSF'</li><li>'GMCSF'</li><li>'GROalpha'</li><li>'IFNalpha2'</li><li>'IFNgamma'</li><li>'IL1alpha'</li><li>'IL1beta'</li><li>'IL1RA'</li><li>'IL2'</li><li>'IL3'</li><li>'IL4'</li><li>'IL5'</li><li>'IL6'</li><li>'IL7'</li><li>'IL8'</li><li>'IL9'</li><li>'IL10'</li><li>'IL12p40'</li><li>'IL12p70'</li><li>'IL13'</li><li>'IL15'</li><li>'IL17A'</li><li>'IL17E_IL25'</li><li>'IL17F'</li><li>'IL18'</li><li>'IL22'</li><li>'IL27'</li><li>'IP10'</li><li>'MCP1'</li><li>'MCP3'</li><li>'MCSF'</li><li>'MDC'</li><li>'MIG_CXCL9'</li><li>'MIP1alpha'</li><li>'MIP1beta'</li><li>'PDGFAA'</li><li>'PDGFAB_BB'</li><li>'RANTES'</li><li>'TGFalpha'</li><li>'TNFalpha'</li><li>'TNFbeta'</li><li>'VEGFA'</li><li>'X6CKine'</li><li>'BCA1'</li><li>'CTACK'</li><li>'ENA78'</li><li>'Eotaxin2'</li><li>'Eotaxin3'</li><li>'I309'</li><li>'IL16'</li><li>'IL20'</li><li>'IL21'</li><li>'IL23'</li><li>'IL28A'</li><li>'IL33'</li><li>'LIF'</li><li>'MCP2'</li><li>'MCP4'</li><li>'MIP1_'</li><li>'SCF'</li><li>'SDF1alpha_beta'</li><li>'TARC'</li><li>'TPO'</li><li>'TRAIL'</li><li>'TSLP'</li><li>'cytokine_data'</li></ol>\n"
      ],
      "text/latex": [
       "\\begin{enumerate*}\n",
       "\\item 'sCD40L'\n",
       "\\item 'EGF'\n",
       "\\item 'Eotaxin'\n",
       "\\item 'FGF2'\n",
       "\\item 'FLT3L'\n",
       "\\item 'Fractalkine'\n",
       "\\item 'GCSF'\n",
       "\\item 'GMCSF'\n",
       "\\item 'GROalpha'\n",
       "\\item 'IFNalpha2'\n",
       "\\item 'IFNgamma'\n",
       "\\item 'IL1alpha'\n",
       "\\item 'IL1beta'\n",
       "\\item 'IL1RA'\n",
       "\\item 'IL2'\n",
       "\\item 'IL3'\n",
       "\\item 'IL4'\n",
       "\\item 'IL5'\n",
       "\\item 'IL6'\n",
       "\\item 'IL7'\n",
       "\\item 'IL8'\n",
       "\\item 'IL9'\n",
       "\\item 'IL10'\n",
       "\\item 'IL12p40'\n",
       "\\item 'IL12p70'\n",
       "\\item 'IL13'\n",
       "\\item 'IL15'\n",
       "\\item 'IL17A'\n",
       "\\item 'IL17E\\_IL25'\n",
       "\\item 'IL17F'\n",
       "\\item 'IL18'\n",
       "\\item 'IL22'\n",
       "\\item 'IL27'\n",
       "\\item 'IP10'\n",
       "\\item 'MCP1'\n",
       "\\item 'MCP3'\n",
       "\\item 'MCSF'\n",
       "\\item 'MDC'\n",
       "\\item 'MIG\\_CXCL9'\n",
       "\\item 'MIP1alpha'\n",
       "\\item 'MIP1beta'\n",
       "\\item 'PDGFAA'\n",
       "\\item 'PDGFAB\\_BB'\n",
       "\\item 'RANTES'\n",
       "\\item 'TGFalpha'\n",
       "\\item 'TNFalpha'\n",
       "\\item 'TNFbeta'\n",
       "\\item 'VEGFA'\n",
       "\\item 'X6CKine'\n",
       "\\item 'BCA1'\n",
       "\\item 'CTACK'\n",
       "\\item 'ENA78'\n",
       "\\item 'Eotaxin2'\n",
       "\\item 'Eotaxin3'\n",
       "\\item 'I309'\n",
       "\\item 'IL16'\n",
       "\\item 'IL20'\n",
       "\\item 'IL21'\n",
       "\\item 'IL23'\n",
       "\\item 'IL28A'\n",
       "\\item 'IL33'\n",
       "\\item 'LIF'\n",
       "\\item 'MCP2'\n",
       "\\item 'MCP4'\n",
       "\\item 'MIP1\\_'\n",
       "\\item 'SCF'\n",
       "\\item 'SDF1alpha\\_beta'\n",
       "\\item 'TARC'\n",
       "\\item 'TPO'\n",
       "\\item 'TRAIL'\n",
       "\\item 'TSLP'\n",
       "\\item 'cytokine\\_data'\n",
       "\\end{enumerate*}\n"
      ],
      "text/markdown": [
       "1. 'sCD40L'\n",
       "2. 'EGF'\n",
       "3. 'Eotaxin'\n",
       "4. 'FGF2'\n",
       "5. 'FLT3L'\n",
       "6. 'Fractalkine'\n",
       "7. 'GCSF'\n",
       "8. 'GMCSF'\n",
       "9. 'GROalpha'\n",
       "10. 'IFNalpha2'\n",
       "11. 'IFNgamma'\n",
       "12. 'IL1alpha'\n",
       "13. 'IL1beta'\n",
       "14. 'IL1RA'\n",
       "15. 'IL2'\n",
       "16. 'IL3'\n",
       "17. 'IL4'\n",
       "18. 'IL5'\n",
       "19. 'IL6'\n",
       "20. 'IL7'\n",
       "21. 'IL8'\n",
       "22. 'IL9'\n",
       "23. 'IL10'\n",
       "24. 'IL12p40'\n",
       "25. 'IL12p70'\n",
       "26. 'IL13'\n",
       "27. 'IL15'\n",
       "28. 'IL17A'\n",
       "29. 'IL17E_IL25'\n",
       "30. 'IL17F'\n",
       "31. 'IL18'\n",
       "32. 'IL22'\n",
       "33. 'IL27'\n",
       "34. 'IP10'\n",
       "35. 'MCP1'\n",
       "36. 'MCP3'\n",
       "37. 'MCSF'\n",
       "38. 'MDC'\n",
       "39. 'MIG_CXCL9'\n",
       "40. 'MIP1alpha'\n",
       "41. 'MIP1beta'\n",
       "42. 'PDGFAA'\n",
       "43. 'PDGFAB_BB'\n",
       "44. 'RANTES'\n",
       "45. 'TGFalpha'\n",
       "46. 'TNFalpha'\n",
       "47. 'TNFbeta'\n",
       "48. 'VEGFA'\n",
       "49. 'X6CKine'\n",
       "50. 'BCA1'\n",
       "51. 'CTACK'\n",
       "52. 'ENA78'\n",
       "53. 'Eotaxin2'\n",
       "54. 'Eotaxin3'\n",
       "55. 'I309'\n",
       "56. 'IL16'\n",
       "57. 'IL20'\n",
       "58. 'IL21'\n",
       "59. 'IL23'\n",
       "60. 'IL28A'\n",
       "61. 'IL33'\n",
       "62. 'LIF'\n",
       "63. 'MCP2'\n",
       "64. 'MCP4'\n",
       "65. 'MIP1_'\n",
       "66. 'SCF'\n",
       "67. 'SDF1alpha_beta'\n",
       "68. 'TARC'\n",
       "69. 'TPO'\n",
       "70. 'TRAIL'\n",
       "71. 'TSLP'\n",
       "72. 'cytokine_data'\n",
       "\n",
       "\n"
      ],
      "text/plain": [
       " [1] \"sCD40L\"         \"EGF\"            \"Eotaxin\"        \"FGF2\"          \n",
       " [5] \"FLT3L\"          \"Fractalkine\"    \"GCSF\"           \"GMCSF\"         \n",
       " [9] \"GROalpha\"       \"IFNalpha2\"      \"IFNgamma\"       \"IL1alpha\"      \n",
       "[13] \"IL1beta\"        \"IL1RA\"          \"IL2\"            \"IL3\"           \n",
       "[17] \"IL4\"            \"IL5\"            \"IL6\"            \"IL7\"           \n",
       "[21] \"IL8\"            \"IL9\"            \"IL10\"           \"IL12p40\"       \n",
       "[25] \"IL12p70\"        \"IL13\"           \"IL15\"           \"IL17A\"         \n",
       "[29] \"IL17E_IL25\"     \"IL17F\"          \"IL18\"           \"IL22\"          \n",
       "[33] \"IL27\"           \"IP10\"           \"MCP1\"           \"MCP3\"          \n",
       "[37] \"MCSF\"           \"MDC\"            \"MIG_CXCL9\"      \"MIP1alpha\"     \n",
       "[41] \"MIP1beta\"       \"PDGFAA\"         \"PDGFAB_BB\"      \"RANTES\"        \n",
       "[45] \"TGFalpha\"       \"TNFalpha\"       \"TNFbeta\"        \"VEGFA\"         \n",
       "[49] \"X6CKine\"        \"BCA1\"           \"CTACK\"          \"ENA78\"         \n",
       "[53] \"Eotaxin2\"       \"Eotaxin3\"       \"I309\"           \"IL16\"          \n",
       "[57] \"IL20\"           \"IL21\"           \"IL23\"           \"IL28A\"         \n",
       "[61] \"IL33\"           \"LIF\"            \"MCP2\"           \"MCP4\"          \n",
       "[65] \"MIP1_\"          \"SCF\"            \"SDF1alpha_beta\" \"TARC\"          \n",
       "[69] \"TPO\"            \"TRAIL\"          \"TSLP\"           \"cytokine_data\" "
      ]
     },
     "metadata": {},
     "output_type": "display_data"
    }
   ],
   "source": [
    "cytokine_names"
   ]
  },
  {
   "cell_type": "code",
   "execution_count": 81,
   "id": "605007ea-e4fd-4a1a-81a9-a52cc631a8c4",
   "metadata": {},
   "outputs": [],
   "source": [
    "cytokine_names = unique(cytokines_long$variable)"
   ]
  },
  {
   "cell_type": "code",
   "execution_count": 82,
   "id": "b1333f64-d85b-4e66-8fa9-39084af16c99",
   "metadata": {},
   "outputs": [],
   "source": [
    "### Add duplicates"
   ]
  },
  {
   "cell_type": "code",
   "execution_count": 83,
   "id": "c5b12063-6968-4db0-8111-ad5e7eaf51b5",
   "metadata": {},
   "outputs": [],
   "source": [
    "cytokines_long_dupl = cytokines_long[cytokines_long$sample_id %in% c('m13.2', 'm6.4'),]"
   ]
  },
  {
   "cell_type": "code",
   "execution_count": 84,
   "id": "8e35d7aa-9db6-4715-9a28-05bf7fa252a7",
   "metadata": {},
   "outputs": [],
   "source": [
    "cytokines_long_dupl$sample_id[cytokines_long_dupl$sample_id == 'm13.2'] = 'm13.22'"
   ]
  },
  {
   "cell_type": "code",
   "execution_count": 85,
   "id": "99604c7e-3320-4f6d-8221-d856691fa663",
   "metadata": {},
   "outputs": [],
   "source": [
    "cytokines_long_dupl$sample_id[cytokines_long_dupl$sample_id == 'm6.4'] = 'm6.42'"
   ]
  },
  {
   "cell_type": "code",
   "execution_count": 86,
   "id": "40a8bcf9-5b69-44e5-938a-f47ea2f7e18b",
   "metadata": {},
   "outputs": [],
   "source": [
    "if(add_duplicates == TRUE){\n",
    "    cytokines_long = rbind(cytokines_long, cytokines_long_dupl)\n",
    "    }"
   ]
  },
  {
   "cell_type": "code",
   "execution_count": 87,
   "id": "24ca2a12-7f60-44bc-b98e-edaea3d756fb",
   "metadata": {},
   "outputs": [
    {
     "data": {
      "text/html": [
       "71"
      ],
      "text/latex": [
       "71"
      ],
      "text/markdown": [
       "71"
      ],
      "text/plain": [
       "[1] 71"
      ]
     },
     "metadata": {},
     "output_type": "display_data"
    }
   ],
   "source": [
    "length(unique(cytokines_long$variable))"
   ]
  },
  {
   "cell_type": "markdown",
   "id": "b6514594-b34a-4106-b70d-89f72800f2d5",
   "metadata": {
    "tags": []
   },
   "source": [
    "## Proteomic Data"
   ]
  },
  {
   "cell_type": "markdown",
   "id": "53863633-ee8b-4b81-a7b7-5ed2bb085788",
   "metadata": {},
   "source": [
    "### Load"
   ]
  },
  {
   "cell_type": "code",
   "execution_count": 88,
   "id": "dfde9f88-7efd-4cdc-bf95-64ac852145cb",
   "metadata": {},
   "outputs": [
    {
     "name": "stdout",
     "output_type": "stream",
     "text": [
      "[1] \"2023-12-10 11:16:09 CET\"\n"
     ]
    }
   ],
   "source": [
    "path = paste0(result_path, '/00_Data_Overview/Prepared_Proteomic_Data.csv')\n",
    "proteomics = read.csv( path)\n",
    "print(file.info(path)$mtime)"
   ]
  },
  {
   "cell_type": "markdown",
   "id": "7aef6769-8761-4bb2-96d5-e96903a5b41e",
   "metadata": {},
   "source": [
    "### Pre-Process"
   ]
  },
  {
   "cell_type": "code",
   "execution_count": 89,
   "id": "24d2cd5d-0196-4541-940c-3aa703893417",
   "metadata": {},
   "outputs": [],
   "source": [
    "rownames(proteomics) = proteomics$X"
   ]
  },
  {
   "cell_type": "code",
   "execution_count": 90,
   "id": "ed1e44f9-b166-432f-ba8e-ba4f3c01f22e",
   "metadata": {},
   "outputs": [],
   "source": [
    "proteomics$X = NULL"
   ]
  },
  {
   "cell_type": "code",
   "execution_count": 91,
   "id": "8eb328f6-1c68-45d4-b959-9a6941dbb395",
   "metadata": {},
   "outputs": [],
   "source": [
    "proteomics$proteomics_data = NULL"
   ]
  },
  {
   "cell_type": "code",
   "execution_count": 92,
   "id": "7cc6139b-824f-481f-902b-e85ed6aabf27",
   "metadata": {},
   "outputs": [
    {
     "data": {
      "text/html": [
       "491"
      ],
      "text/latex": [
       "491"
      ],
      "text/markdown": [
       "491"
      ],
      "text/plain": [
       "[1] 491"
      ]
     },
     "metadata": {},
     "output_type": "display_data"
    }
   ],
   "source": [
    "ncol(proteomics)  # about 490 proteins measured"
   ]
  },
  {
   "cell_type": "code",
   "execution_count": 93,
   "id": "bdb915ac-f774-426d-a05c-34eb171387a3",
   "metadata": {
    "tags": []
   },
   "outputs": [
    {
     "data": {
      "text/html": [
       "<style>\n",
       ".list-inline {list-style: none; margin:0; padding: 0}\n",
       ".list-inline>li {display: inline-block}\n",
       ".list-inline>li:not(:last-child)::after {content: \"\\00b7\"; padding: 0 .5ex}\n",
       "</style>\n",
       "<ol class=list-inline><li>'A1BG_M0R009'</li><li>'A1BG_P04217.2'</li><li>'A2M_P01023'</li><li>'ABI3BP_D3YTG3'</li><li>'ACTB_P60709'</li><li>'ACTC1_P68032'</li></ol>\n"
      ],
      "text/latex": [
       "\\begin{enumerate*}\n",
       "\\item 'A1BG\\_M0R009'\n",
       "\\item 'A1BG\\_P04217.2'\n",
       "\\item 'A2M\\_P01023'\n",
       "\\item 'ABI3BP\\_D3YTG3'\n",
       "\\item 'ACTB\\_P60709'\n",
       "\\item 'ACTC1\\_P68032'\n",
       "\\end{enumerate*}\n"
      ],
      "text/markdown": [
       "1. 'A1BG_M0R009'\n",
       "2. 'A1BG_P04217.2'\n",
       "3. 'A2M_P01023'\n",
       "4. 'ABI3BP_D3YTG3'\n",
       "5. 'ACTB_P60709'\n",
       "6. 'ACTC1_P68032'\n",
       "\n",
       "\n"
      ],
      "text/plain": [
       "[1] \"A1BG_M0R009\"   \"A1BG_P04217.2\" \"A2M_P01023\"    \"ABI3BP_D3YTG3\"\n",
       "[5] \"ACTB_P60709\"   \"ACTC1_P68032\" "
      ]
     },
     "metadata": {},
     "output_type": "display_data"
    }
   ],
   "source": [
    "head(sort(colnames(proteomics)))"
   ]
  },
  {
   "cell_type": "code",
   "execution_count": 94,
   "id": "15887dc1-7f76-4b19-8f39-f8d3f70a61c0",
   "metadata": {},
   "outputs": [],
   "source": [
    "proteomic_names = colnames(proteomics)"
   ]
  },
  {
   "cell_type": "raw",
   "id": "3cada6f9-70b5-4ca5-a151-c6917e98ac31",
   "metadata": {},
   "source": [
    "SERPINA1_A0A024R6I7\n",
    "\n",
    "IGLV8.61_A0A075B6I0\n",
    "IGLV4.60_A0A075B6I1\n",
    "\n",
    "# first part: 'Gene'; second part exat protein specification?\n",
    "\n",
    "--> check out saved protein database"
   ]
  },
  {
   "cell_type": "markdown",
   "id": "5fabf4e4-7228-4626-9742-cfbffe9e564a",
   "metadata": {},
   "source": [
    "#### Adjust distribution"
   ]
  },
  {
   "cell_type": "code",
   "execution_count": 95,
   "id": "20729f44-5844-4e2b-9845-d8889a9d0a5a",
   "metadata": {},
   "outputs": [],
   "source": [
    "#colMeans(proteomics)"
   ]
  },
  {
   "cell_type": "code",
   "execution_count": 96,
   "id": "4d1bf691-e82c-4dbc-94f6-697ad07796c3",
   "metadata": {},
   "outputs": [
    {
     "data": {
      "text/html": [
       "FALSE"
      ],
      "text/latex": [
       "FALSE"
      ],
      "text/markdown": [
       "FALSE"
      ],
      "text/plain": [
       "[1] FALSE"
      ]
     },
     "metadata": {},
     "output_type": "display_data"
    }
   ],
   "source": [
    "quantile_normalization_proteomics"
   ]
  },
  {
   "cell_type": "code",
   "execution_count": 97,
   "id": "ed915fad-da7e-4a6d-a274-3d68601d354d",
   "metadata": {},
   "outputs": [],
   "source": [
    "if (quantile_normalization_proteomics == TRUE){\n",
    "    rownames(proteomics) = proteomics$sample_id\n",
    "    proteomics$sample_id = NULL\n",
    "    proteomics = t(proteomics)\n",
    "    names = rownames(proteomics)\n",
    "    \n",
    "    proteomics  = quantile_normalization(proteomics )  # works on proteomics data\n",
    "    rownames(proteomics) = names\n",
    "    proteomics = data.frame(t(proteomics))\n",
    "    proteomics$sample_id = rownames(proteomics)\n",
    "    }"
   ]
  },
  {
   "cell_type": "markdown",
   "id": "f3b68f97-9cd3-4a1c-80c9-b2fbd52e7f4e",
   "metadata": {},
   "source": [
    "#### Prepare long format"
   ]
  },
  {
   "cell_type": "code",
   "execution_count": 98,
   "id": "0ff5c4b0-d2eb-4941-bf3d-42779bf6f1db",
   "metadata": {},
   "outputs": [
    {
     "name": "stderr",
     "output_type": "stream",
     "text": [
      "Using sample_id as id variables\n",
      "\n"
     ]
    }
   ],
   "source": [
    "proteomics_long =  melt(proteomics)"
   ]
  },
  {
   "cell_type": "code",
   "execution_count": 99,
   "id": "ba1e911e-3d32-4345-871f-6952aaf30d3f",
   "metadata": {},
   "outputs": [],
   "source": [
    "proteomics_long$type = 'proteomics'"
   ]
  },
  {
   "cell_type": "code",
   "execution_count": 100,
   "id": "0e9908ef-b265-4d8d-8f60-68d4945af649",
   "metadata": {},
   "outputs": [],
   "source": [
    "### Add dupl"
   ]
  },
  {
   "cell_type": "code",
   "execution_count": 101,
   "id": "d7d0c505-81c9-45cb-9ed0-af764e4c64d8",
   "metadata": {},
   "outputs": [],
   "source": [
    "proteomics_long_dupl = proteomics_long[proteomics_long$sample_id %in% c('m13.2', 'm6.4'),]"
   ]
  },
  {
   "cell_type": "code",
   "execution_count": 102,
   "id": "e1f732bf-b48f-4c89-a2b0-d4c0f1709fd3",
   "metadata": {},
   "outputs": [],
   "source": [
    "proteomics_long_dupl$sample_id[proteomics_long_dupl$sample_id == 'm13.2'] = 'm13.22'"
   ]
  },
  {
   "cell_type": "code",
   "execution_count": 103,
   "id": "5b29e1e3-4567-497b-9582-3d77c1fc687b",
   "metadata": {},
   "outputs": [],
   "source": [
    "proteomics_long_dupl$sample_id[proteomics_long_dupl$sample_id == 'm6.4'] = 'm6.42'"
   ]
  },
  {
   "cell_type": "code",
   "execution_count": 104,
   "id": "edbcd85f-ba1f-43bb-b43a-0d44f1d94671",
   "metadata": {},
   "outputs": [],
   "source": [
    "if(add_duplicates == TRUE){\n",
    "    proteomics_long = rbind(proteomics_long, proteomics_long_dupl)\n",
    "    }"
   ]
  },
  {
   "cell_type": "code",
   "execution_count": 105,
   "id": "1bcf974a-0cda-4889-b33b-ed1483c3fefa",
   "metadata": {},
   "outputs": [
    {
     "data": {
      "text/html": [
       "490"
      ],
      "text/latex": [
       "490"
      ],
      "text/markdown": [
       "490"
      ],
      "text/plain": [
       "[1] 490"
      ]
     },
     "metadata": {},
     "output_type": "display_data"
    }
   ],
   "source": [
    "length(unique(proteomics_long$variable))"
   ]
  },
  {
   "cell_type": "markdown",
   "id": "76f598c0-1457-4e69-9fa7-debfcefe8ea6",
   "metadata": {
    "tags": []
   },
   "source": [
    "## Neutrophil Data"
   ]
  },
  {
   "cell_type": "markdown",
   "id": "440ba07c-b26b-41bd-8721-78ebae27d42e",
   "metadata": {
    "tags": []
   },
   "source": [
    "### Load"
   ]
  },
  {
   "cell_type": "code",
   "execution_count": null,
   "id": "4e9e05f3-107f-4e4b-b246-35831e1c555f",
   "metadata": {},
   "outputs": [],
   "source": []
  },
  {
   "cell_type": "code",
   "execution_count": 106,
   "id": "d703d835-3007-47dc-8cd6-0cc18a340384",
   "metadata": {
    "tags": []
   },
   "outputs": [
    {
     "name": "stdout",
     "output_type": "stream",
     "text": [
      "[1] \"2023-12-10 11:16:08 CET\"\n"
     ]
    }
   ],
   "source": [
    "path = paste0(result_path, '/00_Data_Overview/Prepared_Neutrophil_Data.csv')\n",
    "neutrophils = read.csv(path)\n",
    "print(file.info(path)$mtime)"
   ]
  },
  {
   "cell_type": "code",
   "execution_count": 107,
   "id": "3df4f28a-ec4b-4c35-af9e-8c2085b8e93f",
   "metadata": {},
   "outputs": [
    {
     "data": {
      "text/html": [
       "121"
      ],
      "text/latex": [
       "121"
      ],
      "text/markdown": [
       "121"
      ],
      "text/plain": [
       "[1] 121"
      ]
     },
     "metadata": {},
     "output_type": "display_data"
    }
   ],
   "source": [
    "nrow(neutrophils)"
   ]
  },
  {
   "cell_type": "code",
   "execution_count": null,
   "id": "214bde2f-8cba-41da-b674-24abb4b3537c",
   "metadata": {},
   "outputs": [],
   "source": []
  },
  {
   "cell_type": "markdown",
   "id": "999afe56-2f55-4c9e-93f7-18e0fdc75f92",
   "metadata": {},
   "source": [
    "### Pre-Process"
   ]
  },
  {
   "cell_type": "markdown",
   "id": "98f9356b-37b2-462c-8734-4e9651d75492",
   "metadata": {
    "tags": []
   },
   "source": [
    "#### Adjust gene-names"
   ]
  },
  {
   "cell_type": "code",
   "execution_count": 108,
   "id": "04462cfe-317d-4316-9ce2-07a1c1719461",
   "metadata": {},
   "outputs": [],
   "source": [
    "rownames(neutrophils) = neutrophils$sample_id"
   ]
  },
  {
   "cell_type": "code",
   "execution_count": 109,
   "id": "0daff134-41d3-472c-bd63-5702c4ae31a8",
   "metadata": {},
   "outputs": [],
   "source": [
    "neutrophils$X = NULL"
   ]
  },
  {
   "cell_type": "code",
   "execution_count": 110,
   "id": "2a161465-3d29-451f-ad50-0121708924ce",
   "metadata": {},
   "outputs": [],
   "source": [
    "neutrophils$sample_id = NULL"
   ]
  },
  {
   "cell_type": "code",
   "execution_count": 111,
   "id": "4b93a08a-c837-4b92-995c-fc612cdea2f0",
   "metadata": {},
   "outputs": [],
   "source": [
    "neutrophils$neutrophil_data = NULL"
   ]
  },
  {
   "cell_type": "code",
   "execution_count": 112,
   "id": "ab1fbc80-e3f7-4e0c-abc7-0b10fb486ca4",
   "metadata": {},
   "outputs": [
    {
     "data": {
      "text/plain": [
       "   Min. 1st Qu.  Median    Mean 3rd Qu.    Max. \n",
       "   1840   12677   19266   24080   27994  105324 "
      ]
     },
     "metadata": {},
     "output_type": "display_data"
    }
   ],
   "source": [
    "summary(rowSums(neutrophils))"
   ]
  },
  {
   "cell_type": "code",
   "execution_count": 113,
   "id": "1f349de9-bbfe-46cc-bf1f-f51ce64b5d84",
   "metadata": {},
   "outputs": [],
   "source": [
    "genes = colnames(neutrophils)[!is.na(str_extract(colnames(neutrophils), 'ENSG'))]"
   ]
  },
  {
   "cell_type": "code",
   "execution_count": 114,
   "id": "7a38a76a-afc0-49f5-8e57-7c316c6766d3",
   "metadata": {},
   "outputs": [
    {
     "data": {
      "text/html": [
       "38146"
      ],
      "text/latex": [
       "38146"
      ],
      "text/markdown": [
       "38146"
      ],
      "text/plain": [
       "[1] 38146"
      ]
     },
     "metadata": {},
     "output_type": "display_data"
    }
   ],
   "source": [
    "length(unique(genes))"
   ]
  },
  {
   "cell_type": "code",
   "execution_count": 115,
   "id": "f232a7fc-571a-422a-a014-7b7ed9693a1e",
   "metadata": {},
   "outputs": [
    {
     "data": {
      "text/html": [
       "38146"
      ],
      "text/latex": [
       "38146"
      ],
      "text/markdown": [
       "38146"
      ],
      "text/plain": [
       "[1] 38146"
      ]
     },
     "metadata": {},
     "output_type": "display_data"
    }
   ],
   "source": [
    "length(genes)"
   ]
  },
  {
   "cell_type": "code",
   "execution_count": 116,
   "id": "289f41b6-1c9b-47c7-9d42-912c8203b83e",
   "metadata": {},
   "outputs": [
    {
     "data": {
      "text/html": [
       "<style>\n",
       ".list-inline {list-style: none; margin:0; padding: 0}\n",
       ".list-inline>li {display: inline-block}\n",
       ".list-inline>li:not(:last-child)::after {content: \"\\00b7\"; padding: 0 .5ex}\n",
       "</style>\n",
       "<ol class=list-inline><li>'ENSG00000288617.1'</li><li>'ENSG00000288621.1'</li><li>'ENSG00000288631.1'</li><li>'ENSG00000288637.1'</li><li>'ENSG00000288638.1'</li><li>'ENSG00000288642.1'</li></ol>\n"
      ],
      "text/latex": [
       "\\begin{enumerate*}\n",
       "\\item 'ENSG00000288617.1'\n",
       "\\item 'ENSG00000288621.1'\n",
       "\\item 'ENSG00000288631.1'\n",
       "\\item 'ENSG00000288637.1'\n",
       "\\item 'ENSG00000288638.1'\n",
       "\\item 'ENSG00000288642.1'\n",
       "\\end{enumerate*}\n"
      ],
      "text/markdown": [
       "1. 'ENSG00000288617.1'\n",
       "2. 'ENSG00000288621.1'\n",
       "3. 'ENSG00000288631.1'\n",
       "4. 'ENSG00000288637.1'\n",
       "5. 'ENSG00000288638.1'\n",
       "6. 'ENSG00000288642.1'\n",
       "\n",
       "\n"
      ],
      "text/plain": [
       "[1] \"ENSG00000288617.1\" \"ENSG00000288621.1\" \"ENSG00000288631.1\"\n",
       "[4] \"ENSG00000288637.1\" \"ENSG00000288638.1\" \"ENSG00000288642.1\""
      ]
     },
     "metadata": {},
     "output_type": "display_data"
    }
   ],
   "source": [
    "tail(genes)"
   ]
  },
  {
   "cell_type": "code",
   "execution_count": 117,
   "id": "8b4510f4-4e81-41b3-a06f-214b2180fc7f",
   "metadata": {},
   "outputs": [],
   "source": [
    "genes = str_replace(genes, '\\\\..*', '') ## Adjust format for mapping"
   ]
  },
  {
   "cell_type": "code",
   "execution_count": 118,
   "id": "2a3f6c52-894d-4f24-a1ab-86b1678d3e74",
   "metadata": {},
   "outputs": [
    {
     "data": {
      "text/plain": [
       "genes\n",
       "ENSG00000002586 ENSG00000124333 ENSG00000167393 ENSG00000169084 ENSG00000169093 \n",
       "              2               2               2               2               2 \n",
       "ENSG00000169100 ENSG00000182162 ENSG00000182378 ENSG00000182484 ENSG00000185291 \n",
       "              2               2               2               2               2 \n",
       "ENSG00000185960 ENSG00000196433 ENSG00000197976 ENSG00000198223 ENSG00000214717 \n",
       "              2               2               2               2               2 \n",
       "ENSG00000226179 ENSG00000236017 \n",
       "              2               2 "
      ]
     },
     "metadata": {},
     "output_type": "display_data"
    }
   ],
   "source": [
    "table(genes)[table(genes) > 1] # find duplicates caused by transformation and remove (TBD: check whether really need to be removed!)"
   ]
  },
  {
   "cell_type": "code",
   "execution_count": 119,
   "id": "16992c0f-a6aa-4c83-8a28-f137fa79c09e",
   "metadata": {},
   "outputs": [
    {
     "data": {
      "text/html": [
       "<style>\n",
       ".list-inline {list-style: none; margin:0; padding: 0}\n",
       ".list-inline>li {display: inline-block}\n",
       ".list-inline>li:not(:last-child)::after {content: \"\\00b7\"; padding: 0 .5ex}\n",
       "</style>\n",
       "<ol class=list-inline><li>'ENSG00000002586.20'</li><li>'ENSG00000002586.20_PAR_Y'</li></ol>\n"
      ],
      "text/latex": [
       "\\begin{enumerate*}\n",
       "\\item 'ENSG00000002586.20'\n",
       "\\item 'ENSG00000002586.20\\_PAR\\_Y'\n",
       "\\end{enumerate*}\n"
      ],
      "text/markdown": [
       "1. 'ENSG00000002586.20'\n",
       "2. 'ENSG00000002586.20_PAR_Y'\n",
       "\n",
       "\n"
      ],
      "text/plain": [
       "[1] \"ENSG00000002586.20\"       \"ENSG00000002586.20_PAR_Y\""
      ]
     },
     "metadata": {},
     "output_type": "display_data"
    }
   ],
   "source": [
    "colnames(neutrophils)[!is.na(str_extract(colnames(neutrophils), 'ENSG00000002586'))]  # example for duplicate!"
   ]
  },
  {
   "cell_type": "code",
   "execution_count": 120,
   "id": "6043a90f-1e2d-496a-84f0-e102c02285d0",
   "metadata": {},
   "outputs": [],
   "source": [
    "genes = genes[! genes %in% names(table(genes)[table(genes) > 1])]"
   ]
  },
  {
   "cell_type": "code",
   "execution_count": 121,
   "id": "8aad9d3e-8c1d-4d47-8088-d8842af3819d",
   "metadata": {},
   "outputs": [
    {
     "data": {
      "text/html": [
       "38112"
      ],
      "text/latex": [
       "38112"
      ],
      "text/markdown": [
       "38112"
      ],
      "text/plain": [
       "[1] 38112"
      ]
     },
     "metadata": {},
     "output_type": "display_data"
    }
   ],
   "source": [
    "length(genes)"
   ]
  },
  {
   "cell_type": "code",
   "execution_count": 122,
   "id": "6ea42097-1f3f-4aa1-a826-7278f019990f",
   "metadata": {},
   "outputs": [
    {
     "data": {
      "text/html": [
       "38112"
      ],
      "text/latex": [
       "38112"
      ],
      "text/markdown": [
       "38112"
      ],
      "text/plain": [
       "[1] 38112"
      ]
     },
     "metadata": {},
     "output_type": "display_data"
    }
   ],
   "source": [
    "length(unique(genes))"
   ]
  },
  {
   "cell_type": "code",
   "execution_count": 123,
   "id": "3b282d64-69f3-439d-9f60-d3d86dc43558",
   "metadata": {},
   "outputs": [
    {
     "data": {
      "text/html": [
       "38112"
      ],
      "text/latex": [
       "38112"
      ],
      "text/markdown": [
       "38112"
      ],
      "text/plain": [
       "[1] 38112"
      ]
     },
     "metadata": {},
     "output_type": "display_data"
    }
   ],
   "source": [
    "length(unique(genes))"
   ]
  },
  {
   "cell_type": "code",
   "execution_count": 124,
   "id": "761870e2-08b4-4b30-bccc-c90d9b3a564f",
   "metadata": {},
   "outputs": [],
   "source": [
    "### Map genes to SYMBOL"
   ]
  },
  {
   "cell_type": "code",
   "execution_count": 125,
   "id": "b66a5359-4d1e-4361-a12c-fbc503f1c34f",
   "metadata": {},
   "outputs": [
    {
     "name": "stderr",
     "output_type": "stream",
     "text": [
      "'select()' returned 1:many mapping between keys and columns\n",
      "\n",
      "Warning message in bitr(genes, fromType = \"ENSEMBL\", toType = \"SYMBOL\", OrgDb = \"org.Hs.eg.db\"):\n",
      "“33.75% of input gene IDs are fail to map...”\n"
     ]
    }
   ],
   "source": [
    "genes_mapped = bitr(genes, fromType=\"ENSEMBL\", toType=\"SYMBOL\", OrgDb = 'org.Hs.eg.db') ### Map genes to SYMBOL"
   ]
  },
  {
   "cell_type": "code",
   "execution_count": 126,
   "id": "87a7972a-cd9e-49cb-9eb0-477df0ab6ee1",
   "metadata": {},
   "outputs": [
    {
     "data": {
      "text/html": [
       "<table class=\"dataframe\">\n",
       "<caption>A data.frame: 2 × 2</caption>\n",
       "<thead>\n",
       "\t<tr><th></th><th scope=col>ENSEMBL</th><th scope=col>SYMBOL</th></tr>\n",
       "\t<tr><th></th><th scope=col>&lt;chr&gt;</th><th scope=col>&lt;chr&gt;</th></tr>\n",
       "</thead>\n",
       "<tbody>\n",
       "\t<tr><th scope=row>1</th><td>ENSG00000000003</td><td>TSPAN6</td></tr>\n",
       "\t<tr><th scope=row>2</th><td>ENSG00000000419</td><td>DPM1  </td></tr>\n",
       "</tbody>\n",
       "</table>\n"
      ],
      "text/latex": [
       "A data.frame: 2 × 2\n",
       "\\begin{tabular}{r|ll}\n",
       "  & ENSEMBL & SYMBOL\\\\\n",
       "  & <chr> & <chr>\\\\\n",
       "\\hline\n",
       "\t1 & ENSG00000000003 & TSPAN6\\\\\n",
       "\t2 & ENSG00000000419 & DPM1  \\\\\n",
       "\\end{tabular}\n"
      ],
      "text/markdown": [
       "\n",
       "A data.frame: 2 × 2\n",
       "\n",
       "| <!--/--> | ENSEMBL &lt;chr&gt; | SYMBOL &lt;chr&gt; |\n",
       "|---|---|---|\n",
       "| 1 | ENSG00000000003 | TSPAN6 |\n",
       "| 2 | ENSG00000000419 | DPM1   |\n",
       "\n"
      ],
      "text/plain": [
       "  ENSEMBL         SYMBOL\n",
       "1 ENSG00000000003 TSPAN6\n",
       "2 ENSG00000000419 DPM1  "
      ]
     },
     "metadata": {},
     "output_type": "display_data"
    }
   ],
   "source": [
    "head(genes_mapped,2)"
   ]
  },
  {
   "cell_type": "code",
   "execution_count": 127,
   "id": "3e5f7cd9-c43f-4257-bddf-1a07bde7958a",
   "metadata": {},
   "outputs": [
    {
     "data": {
      "text/html": [
       "25443"
      ],
      "text/latex": [
       "25443"
      ],
      "text/markdown": [
       "25443"
      ],
      "text/plain": [
       "[1] 25443"
      ]
     },
     "metadata": {},
     "output_type": "display_data"
    }
   ],
   "source": [
    "nrow(genes_mapped)  # 25.338 genes that can be mapped to SYMBOL!"
   ]
  },
  {
   "cell_type": "code",
   "execution_count": 128,
   "id": "19e152a5-42b1-414a-95be-8e105f68c308",
   "metadata": {},
   "outputs": [
    {
     "data": {
      "text/html": [
       "TRUE"
      ],
      "text/latex": [
       "TRUE"
      ],
      "text/markdown": [
       "TRUE"
      ],
      "text/plain": [
       "[1] TRUE"
      ]
     },
     "metadata": {},
     "output_type": "display_data"
    }
   ],
   "source": [
    "'CX3CL1' %in% genes_mapped$SYMBOL  # This is the gene coding for cytokine protein: Fractalkine - see: https://www.uniprot.org/uniprot/P78423"
   ]
  },
  {
   "cell_type": "code",
   "execution_count": 129,
   "id": "b77cdfee-1d43-4e5e-ba65-ebe351cda7f6",
   "metadata": {},
   "outputs": [
    {
     "data": {
      "text/html": [
       "TRUE"
      ],
      "text/latex": [
       "TRUE"
      ],
      "text/markdown": [
       "TRUE"
      ],
      "text/plain": [
       "[1] TRUE"
      ]
     },
     "metadata": {},
     "output_type": "display_data"
    }
   ],
   "source": [
    "'SERPINA1'  %in% genes_mapped$SYMBOL"
   ]
  },
  {
   "cell_type": "code",
   "execution_count": 130,
   "id": "5c153de8-e475-4d69-b895-175c444a6dc0",
   "metadata": {},
   "outputs": [],
   "source": [
    "### Adjust neutrophil gene names"
   ]
  },
  {
   "cell_type": "code",
   "execution_count": 131,
   "id": "e367f565-9fd4-437e-ae2f-79a9b596369c",
   "metadata": {},
   "outputs": [],
   "source": [
    "neutrophils$neutrophil_data = NULL"
   ]
  },
  {
   "cell_type": "code",
   "execution_count": 132,
   "id": "68a8524e-bbe1-44a1-ac52-db4a906e5ca1",
   "metadata": {},
   "outputs": [],
   "source": [
    "neutrophils$sample_id = NULL"
   ]
  },
  {
   "cell_type": "code",
   "execution_count": 133,
   "id": "2ca2a3c0-c114-4589-ba28-df281f79b1bb",
   "metadata": {},
   "outputs": [],
   "source": [
    "neutrophils = data.frame(t(neutrophils))"
   ]
  },
  {
   "cell_type": "code",
   "execution_count": 134,
   "id": "885b985e-e730-4b35-b6d1-494909426d81",
   "metadata": {},
   "outputs": [],
   "source": [
    "neutrophils$gene = rownames(neutrophils)"
   ]
  },
  {
   "cell_type": "code",
   "execution_count": 135,
   "id": "ae509ff1-5c95-47b3-a4dc-455cb66fb1f0",
   "metadata": {},
   "outputs": [],
   "source": [
    "neutrophils$gene = str_replace(neutrophils$gene, '\\\\..*', '')"
   ]
  },
  {
   "cell_type": "code",
   "execution_count": 136,
   "id": "95dc75e6-cb42-41a4-939c-864bc715c896",
   "metadata": {},
   "outputs": [
    {
     "data": {
      "text/html": [
       "<table class=\"dataframe\">\n",
       "<caption>A data.frame: 2 × 2</caption>\n",
       "<thead>\n",
       "\t<tr><th></th><th scope=col>ENSEMBL</th><th scope=col>SYMBOL</th></tr>\n",
       "\t<tr><th></th><th scope=col>&lt;chr&gt;</th><th scope=col>&lt;chr&gt;</th></tr>\n",
       "</thead>\n",
       "<tbody>\n",
       "\t<tr><th scope=row>1</th><td>ENSG00000000003</td><td>TSPAN6</td></tr>\n",
       "\t<tr><th scope=row>2</th><td>ENSG00000000419</td><td>DPM1  </td></tr>\n",
       "</tbody>\n",
       "</table>\n"
      ],
      "text/latex": [
       "A data.frame: 2 × 2\n",
       "\\begin{tabular}{r|ll}\n",
       "  & ENSEMBL & SYMBOL\\\\\n",
       "  & <chr> & <chr>\\\\\n",
       "\\hline\n",
       "\t1 & ENSG00000000003 & TSPAN6\\\\\n",
       "\t2 & ENSG00000000419 & DPM1  \\\\\n",
       "\\end{tabular}\n"
      ],
      "text/markdown": [
       "\n",
       "A data.frame: 2 × 2\n",
       "\n",
       "| <!--/--> | ENSEMBL &lt;chr&gt; | SYMBOL &lt;chr&gt; |\n",
       "|---|---|---|\n",
       "| 1 | ENSG00000000003 | TSPAN6 |\n",
       "| 2 | ENSG00000000419 | DPM1   |\n",
       "\n"
      ],
      "text/plain": [
       "  ENSEMBL         SYMBOL\n",
       "1 ENSG00000000003 TSPAN6\n",
       "2 ENSG00000000419 DPM1  "
      ]
     },
     "metadata": {},
     "output_type": "display_data"
    }
   ],
   "source": [
    "head(genes_mapped, 2)"
   ]
  },
  {
   "cell_type": "code",
   "execution_count": 137,
   "id": "0608c06a-f150-4155-b3d4-cc4fe972227e",
   "metadata": {},
   "outputs": [],
   "source": [
    "neutrophils = merge(neutrophils, genes_mapped, by.x = 'gene', by.y = 'ENSEMBL')"
   ]
  },
  {
   "cell_type": "code",
   "execution_count": 138,
   "id": "527a888d-b4e4-444a-ad15-3ff7ecffad2f",
   "metadata": {},
   "outputs": [
    {
     "data": {
      "text/html": [
       "25443"
      ],
      "text/latex": [
       "25443"
      ],
      "text/markdown": [
       "25443"
      ],
      "text/plain": [
       "[1] 25443"
      ]
     },
     "metadata": {},
     "output_type": "display_data"
    }
   ],
   "source": [
    "nrow(neutrophils)"
   ]
  },
  {
   "cell_type": "code",
   "execution_count": 139,
   "id": "eb858bf5-24c7-4508-8473-6f66e18287fe",
   "metadata": {},
   "outputs": [
    {
     "data": {
      "text/html": [
       "25378"
      ],
      "text/latex": [
       "25378"
      ],
      "text/markdown": [
       "25378"
      ],
      "text/plain": [
       "[1] 25378"
      ]
     },
     "metadata": {},
     "output_type": "display_data"
    }
   ],
   "source": [
    "length(unique(neutrophils$SYMBOL))"
   ]
  },
  {
   "cell_type": "code",
   "execution_count": 140,
   "id": "ff5a4849-e5c8-455d-a532-b42665315c28",
   "metadata": {},
   "outputs": [],
   "source": [
    "neutrophils = neutrophils %>% group_by(SYMBOL) %>% summarise(across(-gene, \\(x) sum(x, na.rm = TRUE)))"
   ]
  },
  {
   "cell_type": "code",
   "execution_count": 141,
   "id": "b523ab51-ea5a-4885-8ca4-e20d0278ff3a",
   "metadata": {},
   "outputs": [],
   "source": [
    "neutrophils = data.frame(neutrophils)"
   ]
  },
  {
   "cell_type": "code",
   "execution_count": 142,
   "id": "41c261bf-44d0-4a1a-afb1-397e665ff3ea",
   "metadata": {},
   "outputs": [
    {
     "data": {
      "text/html": [
       "25378"
      ],
      "text/latex": [
       "25378"
      ],
      "text/markdown": [
       "25378"
      ],
      "text/plain": [
       "[1] 25378"
      ]
     },
     "metadata": {},
     "output_type": "display_data"
    }
   ],
   "source": [
    "nrow(neutrophils)"
   ]
  },
  {
   "cell_type": "code",
   "execution_count": 143,
   "id": "5986c9b4-fd77-48bd-8a0f-274af91a547c",
   "metadata": {},
   "outputs": [],
   "source": [
    "rownames(neutrophils) = neutrophils$SYMBOL"
   ]
  },
  {
   "cell_type": "code",
   "execution_count": 144,
   "id": "c2100f56-b077-4246-9ece-0f471c370613",
   "metadata": {},
   "outputs": [],
   "source": [
    "neutrophils$SYMBOL = NULL"
   ]
  },
  {
   "cell_type": "code",
   "execution_count": 145,
   "id": "f6b1db56-6317-443d-99a4-31609cded4fb",
   "metadata": {},
   "outputs": [],
   "source": [
    "neutrophils = data.frame(t(neutrophils))"
   ]
  },
  {
   "cell_type": "code",
   "execution_count": 146,
   "id": "a59b00db-37c6-4c49-bbee-7559c4dda94e",
   "metadata": {},
   "outputs": [],
   "source": [
    "neutrophils$sample_id = rownames(neutrophils)"
   ]
  },
  {
   "cell_type": "code",
   "execution_count": 147,
   "id": "7576c0c0-3ae2-4a64-af1a-fdc24cee0fc6",
   "metadata": {},
   "outputs": [],
   "source": [
    "neutrophils$sample_id = NULL"
   ]
  },
  {
   "cell_type": "code",
   "execution_count": 148,
   "id": "38975607-5df2-4882-8439-d998faa46ccb",
   "metadata": {},
   "outputs": [],
   "source": [
    "neutrophil_names = colnames(neutrophils)"
   ]
  },
  {
   "cell_type": "code",
   "execution_count": 149,
   "id": "68ea6e7c-016f-4d2b-b0d8-ca4fac53444a",
   "metadata": {},
   "outputs": [],
   "source": [
    "neutrophil_evaluation =  neutrophils"
   ]
  },
  {
   "cell_type": "code",
   "execution_count": 150,
   "id": "aaceb7ce-a9ce-48fd-b91a-6e03ff278a86",
   "metadata": {},
   "outputs": [],
   "source": [
    "#colMeans(neutrophils)"
   ]
  },
  {
   "cell_type": "markdown",
   "id": "ef5ec1a4-0eeb-4543-873e-3096642fd2c4",
   "metadata": {},
   "source": [
    "#### Filter out ribosomal and mitochondrial genes"
   ]
  },
  {
   "cell_type": "code",
   "execution_count": 151,
   "id": "b7712083-3ee3-48c7-bfab-d02452c810cb",
   "metadata": {},
   "outputs": [
    {
     "data": {
      "text/html": [
       "<style>\n",
       ".list-inline {list-style: none; margin:0; padding: 0}\n",
       ".list-inline>li {display: inline-block}\n",
       ".list-inline>li:not(:last-child)::after {content: \"\\00b7\"; padding: 0 .5ex}\n",
       "</style>\n",
       "<ol class=list-inline><li>121</li><li>25378</li></ol>\n"
      ],
      "text/latex": [
       "\\begin{enumerate*}\n",
       "\\item 121\n",
       "\\item 25378\n",
       "\\end{enumerate*}\n"
      ],
      "text/markdown": [
       "1. 121\n",
       "2. 25378\n",
       "\n",
       "\n"
      ],
      "text/plain": [
       "[1]   121 25378"
      ]
     },
     "metadata": {},
     "output_type": "display_data"
    }
   ],
   "source": [
    "dim(neutrophils)"
   ]
  },
  {
   "cell_type": "code",
   "execution_count": 152,
   "id": "c810cdaa-cefe-4870-8e20-a3c3fda0331c",
   "metadata": {},
   "outputs": [],
   "source": [
    "neutrophils = neutrophils[,is.na(str_extract(colnames(neutrophils), '^MT.*|^RPL.*|^RPS.*'))]"
   ]
  },
  {
   "cell_type": "code",
   "execution_count": 153,
   "id": "96b2ce11-7e7f-42e5-9058-2beaa724a140",
   "metadata": {},
   "outputs": [
    {
     "data": {
      "text/html": [
       "<style>\n",
       ".list-inline {list-style: none; margin:0; padding: 0}\n",
       ".list-inline>li {display: inline-block}\n",
       ".list-inline>li:not(:last-child)::after {content: \"\\00b7\"; padding: 0 .5ex}\n",
       "</style>\n",
       "<ol class=list-inline><li>121</li><li>24151</li></ol>\n"
      ],
      "text/latex": [
       "\\begin{enumerate*}\n",
       "\\item 121\n",
       "\\item 24151\n",
       "\\end{enumerate*}\n"
      ],
      "text/markdown": [
       "1. 121\n",
       "2. 24151\n",
       "\n",
       "\n"
      ],
      "text/plain": [
       "[1]   121 24151"
      ]
     },
     "metadata": {},
     "output_type": "display_data"
    }
   ],
   "source": [
    "dim(neutrophils)"
   ]
  },
  {
   "cell_type": "markdown",
   "id": "5f8f4145-75f8-4d30-837f-2f6c5c0b6f3f",
   "metadata": {
    "tags": []
   },
   "source": [
    "#### Investigate and Adjust distribution of values"
   ]
  },
  {
   "cell_type": "code",
   "execution_count": 154,
   "id": "eee9ca37-6b9e-4936-b58c-3b11b72888b8",
   "metadata": {},
   "outputs": [],
   "source": [
    "### Check out distribution per sample"
   ]
  },
  {
   "cell_type": "code",
   "execution_count": 155,
   "id": "c1d5864a-3e8d-42f1-b762-3828da5b0d66",
   "metadata": {},
   "outputs": [],
   "source": [
    "neutrophils$sample_id = rownames(neutrophils)"
   ]
  },
  {
   "cell_type": "markdown",
   "id": "7d3a2508-764b-4aad-b710-e5d63807fecf",
   "metadata": {
    "tags": []
   },
   "source": [
    "#### Filter out low expressed genes"
   ]
  },
  {
   "cell_type": "code",
   "execution_count": 156,
   "id": "cc509530-e355-4d01-9190-eb999f308d86",
   "metadata": {},
   "outputs": [],
   "source": [
    "### genes expressed in less than 50% of samples"
   ]
  },
  {
   "cell_type": "code",
   "execution_count": 157,
   "id": "51df9f0e-88d1-4544-aa69-93ebabce0a61",
   "metadata": {},
   "outputs": [],
   "source": [
    "#head(neutrophils == 0)"
   ]
  },
  {
   "cell_type": "code",
   "execution_count": 158,
   "id": "85fa32b9-a69d-4215-aaa5-628f0d897c20",
   "metadata": {},
   "outputs": [],
   "source": [
    "neutrophils$sample_id = NULL"
   ]
  },
  {
   "cell_type": "code",
   "execution_count": 159,
   "id": "34f2fd60-ef47-4613-9dc9-8df912918530",
   "metadata": {},
   "outputs": [
    {
     "data": {
      "text/html": [
       "121"
      ],
      "text/latex": [
       "121"
      ],
      "text/markdown": [
       "121"
      ],
      "text/plain": [
       "[1] 121"
      ]
     },
     "metadata": {},
     "output_type": "display_data"
    }
   ],
   "source": [
    "nrow(neutrophils)"
   ]
  },
  {
   "cell_type": "code",
   "execution_count": 160,
   "id": "17aa6821-8824-4fee-a5f8-057b80253b05",
   "metadata": {},
   "outputs": [
    {
     "data": {
      "text/html": [
       "<style>\n",
       ".list-inline {list-style: none; margin:0; padding: 0}\n",
       ".list-inline>li {display: inline-block}\n",
       ".list-inline>li:not(:last-child)::after {content: \"\\00b7\"; padding: 0 .5ex}\n",
       "</style>\n",
       "<ol class=list-inline><li>121</li><li>24151</li></ol>\n"
      ],
      "text/latex": [
       "\\begin{enumerate*}\n",
       "\\item 121\n",
       "\\item 24151\n",
       "\\end{enumerate*}\n"
      ],
      "text/markdown": [
       "1. 121\n",
       "2. 24151\n",
       "\n",
       "\n"
      ],
      "text/plain": [
       "[1]   121 24151"
      ]
     },
     "metadata": {},
     "output_type": "display_data"
    }
   ],
   "source": [
    "dim(neutrophils)"
   ]
  },
  {
   "cell_type": "code",
   "execution_count": 161,
   "id": "e3a9ec0b-74a0-484f-af44-69b1d6f93c33",
   "metadata": {},
   "outputs": [
    {
     "data": {
      "text/html": [
       "0.2"
      ],
      "text/latex": [
       "0.2"
      ],
      "text/markdown": [
       "0.2"
      ],
      "text/plain": [
       "[1] 0.2"
      ]
     },
     "metadata": {},
     "output_type": "display_data"
    }
   ],
   "source": [
    "neutrophil_threshold"
   ]
  },
  {
   "cell_type": "code",
   "execution_count": 162,
   "id": "84ab3c45-9f5d-4d4b-ae52-c83b37b87e44",
   "metadata": {},
   "outputs": [
    {
     "data": {
      "text/html": [
       "24151"
      ],
      "text/latex": [
       "24151"
      ],
      "text/markdown": [
       "24151"
      ],
      "text/plain": [
       "[1] 24151"
      ]
     },
     "metadata": {},
     "output_type": "display_data"
    }
   ],
   "source": [
    "ncol(neutrophils)"
   ]
  },
  {
   "cell_type": "code",
   "execution_count": 163,
   "id": "d87c79dd-ceb5-4821-9770-cb6ab1bda5ca",
   "metadata": {},
   "outputs": [
    {
     "data": {
      "text/html": [
       "121"
      ],
      "text/latex": [
       "121"
      ],
      "text/markdown": [
       "121"
      ],
      "text/plain": [
       "[1] 121"
      ]
     },
     "metadata": {},
     "output_type": "display_data"
    }
   ],
   "source": [
    "nrow(neutrophils)"
   ]
  },
  {
   "cell_type": "code",
   "execution_count": 164,
   "id": "99f42dbc-43d4-4694-930e-fecd93c61d75",
   "metadata": {},
   "outputs": [],
   "source": [
    "neutrophils = neutrophils[,((colSums(neutrophils == 0))/ nrow(neutrophils)) <= neutrophil_threshold]"
   ]
  },
  {
   "cell_type": "code",
   "execution_count": 165,
   "id": "3ddabcf7-1dbe-4e73-950a-8b0c3c5d0225",
   "metadata": {},
   "outputs": [
    {
     "data": {
      "text/html": [
       "1190"
      ],
      "text/latex": [
       "1190"
      ],
      "text/markdown": [
       "1190"
      ],
      "text/plain": [
       "[1] 1190"
      ]
     },
     "metadata": {},
     "output_type": "display_data"
    }
   ],
   "source": [
    "ncol(neutrophils)"
   ]
  },
  {
   "cell_type": "code",
   "execution_count": 166,
   "id": "f161a32f-bfb8-4f67-9cd1-22c667de5235",
   "metadata": {},
   "outputs": [],
   "source": [
    "### Check out distribution per sample"
   ]
  },
  {
   "cell_type": "code",
   "execution_count": 167,
   "id": "22f7a8ab-8e29-47e7-8043-f6ef45075834",
   "metadata": {},
   "outputs": [],
   "source": [
    "neutrophils$sample_id = rownames(neutrophils)"
   ]
  },
  {
   "cell_type": "markdown",
   "id": "ffcbd436-6054-42a5-81a9-25552b602f5b",
   "metadata": {},
   "source": [
    "### Optional: remove samples with high amount of 0"
   ]
  },
  {
   "cell_type": "code",
   "execution_count": 168,
   "id": "ec140a9b-75f3-4fa6-b7b7-41a68181b514",
   "metadata": {},
   "outputs": [],
   "source": [
    "sample_perc_zero = rowSums(neutrophils==0)/ ncol(neutrophils) "
   ]
  },
  {
   "cell_type": "code",
   "execution_count": 169,
   "id": "59de15f6-5b83-4eca-bbdd-32fa089527e6",
   "metadata": {},
   "outputs": [
    {
     "data": {
      "text/html": [
       "<style>\n",
       ".dl-inline {width: auto; margin:0; padding: 0}\n",
       ".dl-inline>dt, .dl-inline>dd {float: none; width: auto; display: inline-block}\n",
       ".dl-inline>dt::after {content: \":\\0020\"; padding-right: .5ex}\n",
       ".dl-inline>dt:not(:first-of-type) {padding-left: .5ex}\n",
       "</style><dl class=dl-inline><dt>k4</dt><dd>0.127623845507976</dd><dt>m14.3</dt><dd>0.0663308144416457</dd></dl>\n"
      ],
      "text/latex": [
       "\\begin{description*}\n",
       "\\item[k4] 0.127623845507976\n",
       "\\item[m14.3] 0.0663308144416457\n",
       "\\end{description*}\n"
      ],
      "text/markdown": [
       "k4\n",
       ":   0.127623845507976m14.3\n",
       ":   0.0663308144416457\n",
       "\n"
      ],
      "text/plain": [
       "        k4      m14.3 \n",
       "0.12762385 0.06633081 "
      ]
     },
     "metadata": {},
     "output_type": "display_data"
    }
   ],
   "source": [
    "head(sample_perc_zero,2)"
   ]
  },
  {
   "cell_type": "code",
   "execution_count": 170,
   "id": "e1e4f34b-724b-4d30-b1f5-61a8682ec81e",
   "metadata": {},
   "outputs": [],
   "source": [
    "remove_samples = sample_perc_zero[sample_perc_zero > 0.1]"
   ]
  },
  {
   "cell_type": "code",
   "execution_count": 171,
   "id": "0ee650af-5707-4cc0-a449-78053942c35e",
   "metadata": {},
   "outputs": [
    {
     "data": {
      "text/html": [
       "<style>\n",
       ".list-inline {list-style: none; margin:0; padding: 0}\n",
       ".list-inline>li {display: inline-block}\n",
       ".list-inline>li:not(:last-child)::after {content: \"\\00b7\"; padding: 0 .5ex}\n",
       "</style>\n",
       "<ol class=list-inline><li>'k15'</li><li>'k18'</li><li>'k2'</li><li>'k21'</li><li>'k23'</li><li>'k24'</li><li>'k27'</li><li>'k29'</li><li>'k31'</li><li>'k4'</li><li>'k9'</li><li>'m11.1'</li><li>'m12.1'</li><li>'m13.2'</li><li>'m14.2'</li><li>'m18.2'</li><li>'m19.3'</li><li>'m2.3'</li><li>'m2.4'</li><li>'m20.1'</li><li>'m20.3'</li><li>'m22.3'</li><li>'m26.3'</li><li>'m5.2'</li><li>'m5.4'</li><li>'m6.1'</li><li>'m6.2'</li><li>'m9.1'</li><li>'m9.2'</li></ol>\n"
      ],
      "text/latex": [
       "\\begin{enumerate*}\n",
       "\\item 'k15'\n",
       "\\item 'k18'\n",
       "\\item 'k2'\n",
       "\\item 'k21'\n",
       "\\item 'k23'\n",
       "\\item 'k24'\n",
       "\\item 'k27'\n",
       "\\item 'k29'\n",
       "\\item 'k31'\n",
       "\\item 'k4'\n",
       "\\item 'k9'\n",
       "\\item 'm11.1'\n",
       "\\item 'm12.1'\n",
       "\\item 'm13.2'\n",
       "\\item 'm14.2'\n",
       "\\item 'm18.2'\n",
       "\\item 'm19.3'\n",
       "\\item 'm2.3'\n",
       "\\item 'm2.4'\n",
       "\\item 'm20.1'\n",
       "\\item 'm20.3'\n",
       "\\item 'm22.3'\n",
       "\\item 'm26.3'\n",
       "\\item 'm5.2'\n",
       "\\item 'm5.4'\n",
       "\\item 'm6.1'\n",
       "\\item 'm6.2'\n",
       "\\item 'm9.1'\n",
       "\\item 'm9.2'\n",
       "\\end{enumerate*}\n"
      ],
      "text/markdown": [
       "1. 'k15'\n",
       "2. 'k18'\n",
       "3. 'k2'\n",
       "4. 'k21'\n",
       "5. 'k23'\n",
       "6. 'k24'\n",
       "7. 'k27'\n",
       "8. 'k29'\n",
       "9. 'k31'\n",
       "10. 'k4'\n",
       "11. 'k9'\n",
       "12. 'm11.1'\n",
       "13. 'm12.1'\n",
       "14. 'm13.2'\n",
       "15. 'm14.2'\n",
       "16. 'm18.2'\n",
       "17. 'm19.3'\n",
       "18. 'm2.3'\n",
       "19. 'm2.4'\n",
       "20. 'm20.1'\n",
       "21. 'm20.3'\n",
       "22. 'm22.3'\n",
       "23. 'm26.3'\n",
       "24. 'm5.2'\n",
       "25. 'm5.4'\n",
       "26. 'm6.1'\n",
       "27. 'm6.2'\n",
       "28. 'm9.1'\n",
       "29. 'm9.2'\n",
       "\n",
       "\n"
      ],
      "text/plain": [
       " [1] \"k15\"   \"k18\"   \"k2\"    \"k21\"   \"k23\"   \"k24\"   \"k27\"   \"k29\"   \"k31\"  \n",
       "[10] \"k4\"    \"k9\"    \"m11.1\" \"m12.1\" \"m13.2\" \"m14.2\" \"m18.2\" \"m19.3\" \"m2.3\" \n",
       "[19] \"m2.4\"  \"m20.1\" \"m20.3\" \"m22.3\" \"m26.3\" \"m5.2\"  \"m5.4\"  \"m6.1\"  \"m6.2\" \n",
       "[28] \"m9.1\"  \"m9.2\" "
      ]
     },
     "metadata": {},
     "output_type": "display_data"
    }
   ],
   "source": [
    "sort(names(remove_samples))"
   ]
  },
  {
   "cell_type": "code",
   "execution_count": 172,
   "id": "989c6540-13b5-4e27-aee4-4bedecdbee7e",
   "metadata": {},
   "outputs": [
    {
     "data": {
      "text/html": [
       "29"
      ],
      "text/latex": [
       "29"
      ],
      "text/markdown": [
       "29"
      ],
      "text/plain": [
       "[1] 29"
      ]
     },
     "metadata": {},
     "output_type": "display_data"
    }
   ],
   "source": [
    "length(names(remove_samples))"
   ]
  },
  {
   "cell_type": "code",
   "execution_count": 173,
   "id": "45ebc800-c0ca-445a-85f2-b7592baec542",
   "metadata": {},
   "outputs": [],
   "source": [
    "neutrophils = neutrophils[!rownames(neutrophils) %in% names(remove_samples),]"
   ]
  },
  {
   "cell_type": "code",
   "execution_count": 174,
   "id": "3ce8fe20-a0f3-4b6c-86e7-7ad8ec1196b8",
   "metadata": {},
   "outputs": [
    {
     "data": {
      "text/html": [
       "92"
      ],
      "text/latex": [
       "92"
      ],
      "text/markdown": [
       "92"
      ],
      "text/plain": [
       "[1] 92"
      ]
     },
     "metadata": {},
     "output_type": "display_data"
    }
   ],
   "source": [
    "length(unique(rownames(neutrophils)))"
   ]
  },
  {
   "cell_type": "markdown",
   "id": "69f468d0-88ff-4b3d-8601-90222d4d5fd7",
   "metadata": {
    "tags": []
   },
   "source": [
    "### Normalization"
   ]
  },
  {
   "cell_type": "code",
   "execution_count": 175,
   "id": "7dd5a930-4589-45bb-abbd-bfb48e3a5346",
   "metadata": {},
   "outputs": [],
   "source": [
    "### Adjust for library size (10.000 counts per sample)"
   ]
  },
  {
   "cell_type": "code",
   "execution_count": 176,
   "id": "1781c12f-a2cd-4c60-a38a-8f257e3f1c18",
   "metadata": {},
   "outputs": [
    {
     "data": {
      "text/html": [
       "<style>\n",
       ".list-inline {list-style: none; margin:0; padding: 0}\n",
       ".list-inline>li {display: inline-block}\n",
       ".list-inline>li:not(:last-child)::after {content: \"\\00b7\"; padding: 0 .5ex}\n",
       "</style>\n",
       "<ol class=list-inline><li>92</li><li>1191</li></ol>\n"
      ],
      "text/latex": [
       "\\begin{enumerate*}\n",
       "\\item 92\n",
       "\\item 1191\n",
       "\\end{enumerate*}\n"
      ],
      "text/markdown": [
       "1. 92\n",
       "2. 1191\n",
       "\n",
       "\n"
      ],
      "text/plain": [
       "[1]   92 1191"
      ]
     },
     "metadata": {},
     "output_type": "display_data"
    }
   ],
   "source": [
    "dim(neutrophils)"
   ]
  },
  {
   "cell_type": "code",
   "execution_count": 177,
   "id": "cff88b2a-1752-4b42-806e-040156b4a98d",
   "metadata": {},
   "outputs": [],
   "source": [
    "neutrophils$sample_id =  NULL"
   ]
  },
  {
   "cell_type": "code",
   "execution_count": 178,
   "id": "4cceb835-b06b-405a-a933-fe905cb48cd4",
   "metadata": {},
   "outputs": [],
   "source": [
    "scaling_factor = rowSums(neutrophils) /mean(rowSums(neutrophils))"
   ]
  },
  {
   "cell_type": "code",
   "execution_count": 179,
   "id": "6e602b38-331e-4ffa-a340-f94048b1bfb7",
   "metadata": {},
   "outputs": [
    {
     "data": {
      "text/html": [
       "<style>\n",
       ".dl-inline {width: auto; margin:0; padding: 0}\n",
       ".dl-inline>dt, .dl-inline>dd {float: none; width: auto; display: inline-block}\n",
       ".dl-inline>dt::after {content: \":\\0020\"; padding-right: .5ex}\n",
       ".dl-inline>dt:not(:first-of-type) {padding-left: .5ex}\n",
       "</style><dl class=dl-inline><dt>m14.3</dt><dd>0.632337460735409</dd><dt>m26.2</dt><dd>1.53461600002246</dd><dt>m14.4</dt><dd>0.712783905096888</dd><dt>m3.3</dt><dd>1.60744392076062</dd><dt>k1</dt><dd>0.659712494771739</dd><dt>m24.4</dt><dd>1.33653438581618</dd></dl>\n"
      ],
      "text/latex": [
       "\\begin{description*}\n",
       "\\item[m14.3] 0.632337460735409\n",
       "\\item[m26.2] 1.53461600002246\n",
       "\\item[m14.4] 0.712783905096888\n",
       "\\item[m3.3] 1.60744392076062\n",
       "\\item[k1] 0.659712494771739\n",
       "\\item[m24.4] 1.33653438581618\n",
       "\\end{description*}\n"
      ],
      "text/markdown": [
       "m14.3\n",
       ":   0.632337460735409m26.2\n",
       ":   1.53461600002246m14.4\n",
       ":   0.712783905096888m3.3\n",
       ":   1.60744392076062k1\n",
       ":   0.659712494771739m24.4\n",
       ":   1.33653438581618\n",
       "\n"
      ],
      "text/plain": [
       "    m14.3     m26.2     m14.4      m3.3        k1     m24.4 \n",
       "0.6323375 1.5346160 0.7127839 1.6074439 0.6597125 1.3365344 "
      ]
     },
     "metadata": {},
     "output_type": "display_data"
    }
   ],
   "source": [
    "head(scaling_factor)"
   ]
  },
  {
   "cell_type": "code",
   "execution_count": 180,
   "id": "263d97d9-4f8e-4b97-8fdc-fb4b9265237d",
   "metadata": {},
   "outputs": [
    {
     "data": {
      "text/html": [
       "15488.5652173913"
      ],
      "text/latex": [
       "15488.5652173913"
      ],
      "text/markdown": [
       "15488.5652173913"
      ],
      "text/plain": [
       "[1] 15488.57"
      ]
     },
     "metadata": {},
     "output_type": "display_data"
    }
   ],
   "source": [
    "mean(rowSums(neutrophils))"
   ]
  },
  {
   "cell_type": "code",
   "execution_count": 181,
   "id": "38328c9e-57b2-4bca-a7a2-448571e9613e",
   "metadata": {},
   "outputs": [],
   "source": [
    "if(library_adjustment_neutrophils == TRUE){\n",
    "    neutrophils = apply(neutrophils,2, function(x){ x/scaling_factor})\n",
    "    }"
   ]
  },
  {
   "cell_type": "code",
   "execution_count": 182,
   "id": "be513ab9-da55-432a-bff5-552e6ede9e7a",
   "metadata": {},
   "outputs": [
    {
     "data": {
      "text/html": [
       "<style>\n",
       ".dl-inline {width: auto; margin:0; padding: 0}\n",
       ".dl-inline>dt, .dl-inline>dd {float: none; width: auto; display: inline-block}\n",
       ".dl-inline>dt::after {content: \":\\0020\"; padding-right: .5ex}\n",
       ".dl-inline>dt:not(:first-of-type) {padding-left: .5ex}\n",
       "</style><dl class=dl-inline><dt>m14.3</dt><dd>15488.5652173913</dd><dt>m26.2</dt><dd>15488.5652173913</dd><dt>m14.4</dt><dd>15488.5652173913</dd><dt>m3.3</dt><dd>15488.5652173913</dd><dt>k1</dt><dd>15488.5652173913</dd><dt>m24.4</dt><dd>15488.5652173913</dd></dl>\n"
      ],
      "text/latex": [
       "\\begin{description*}\n",
       "\\item[m14.3] 15488.5652173913\n",
       "\\item[m26.2] 15488.5652173913\n",
       "\\item[m14.4] 15488.5652173913\n",
       "\\item[m3.3] 15488.5652173913\n",
       "\\item[k1] 15488.5652173913\n",
       "\\item[m24.4] 15488.5652173913\n",
       "\\end{description*}\n"
      ],
      "text/markdown": [
       "m14.3\n",
       ":   15488.5652173913m26.2\n",
       ":   15488.5652173913m14.4\n",
       ":   15488.5652173913m3.3\n",
       ":   15488.5652173913k1\n",
       ":   15488.5652173913m24.4\n",
       ":   15488.5652173913\n",
       "\n"
      ],
      "text/plain": [
       "   m14.3    m26.2    m14.4     m3.3       k1    m24.4 \n",
       "15488.57 15488.57 15488.57 15488.57 15488.57 15488.57 "
      ]
     },
     "metadata": {},
     "output_type": "display_data"
    }
   ],
   "source": [
    "head(rowSums(neutrophils) ) # check out counts per sample  - TBD compare with pseudobulk RNA- DATA"
   ]
  },
  {
   "cell_type": "code",
   "execution_count": 183,
   "id": "cc02a86c-8ef4-46a9-b7b8-b9b5b17f5bfb",
   "metadata": {
    "tags": []
   },
   "outputs": [],
   "source": [
    "#### logarithmize neutrophil data (TBD)\n",
    "neutrophils = data.frame(log2(neutrophils + 1))"
   ]
  },
  {
   "cell_type": "code",
   "execution_count": 184,
   "id": "254dd8e7-5c68-4453-98f9-398072cc0ecb",
   "metadata": {},
   "outputs": [],
   "source": [
    "neutrophils = data.frame(neutrophils)"
   ]
  },
  {
   "cell_type": "code",
   "execution_count": 185,
   "id": "8de9fb48-0c30-418c-8fc6-3a443ffc022f",
   "metadata": {},
   "outputs": [],
   "source": [
    "### Inspect variance"
   ]
  },
  {
   "cell_type": "code",
   "execution_count": 186,
   "id": "83570b8a-6ea4-41d4-aa55-bafdeec7267a",
   "metadata": {},
   "outputs": [],
   "source": [
    "variance = apply(neutrophils, 2, var)"
   ]
  },
  {
   "cell_type": "code",
   "execution_count": 187,
   "id": "13a1f51a-6b3d-499f-a16b-15d7b7e2a07a",
   "metadata": {},
   "outputs": [
    {
     "data": {
      "text/html": [
       "<style>\n",
       ".dl-inline {width: auto; margin:0; padding: 0}\n",
       ".dl-inline>dt, .dl-inline>dd {float: none; width: auto; display: inline-block}\n",
       ".dl-inline>dt::after {content: \":\\0020\"; padding-right: .5ex}\n",
       ".dl-inline>dt:not(:first-of-type) {padding-left: .5ex}\n",
       "</style><dl class=dl-inline><dt>AATK</dt><dd>0.852437116967111</dd><dt>ABCA7</dt><dd>0.821048427693991</dd><dt>ABHD2</dt><dd>0.584049128620725</dd><dt>ABHD5</dt><dd>0.586782638392095</dd><dt>ABTB1</dt><dd>0.583389200022329</dd><dt>ACAP2</dt><dd>0.518538178691948</dd></dl>\n"
      ],
      "text/latex": [
       "\\begin{description*}\n",
       "\\item[AATK] 0.852437116967111\n",
       "\\item[ABCA7] 0.821048427693991\n",
       "\\item[ABHD2] 0.584049128620725\n",
       "\\item[ABHD5] 0.586782638392095\n",
       "\\item[ABTB1] 0.583389200022329\n",
       "\\item[ACAP2] 0.518538178691948\n",
       "\\end{description*}\n"
      ],
      "text/markdown": [
       "AATK\n",
       ":   0.852437116967111ABCA7\n",
       ":   0.821048427693991ABHD2\n",
       ":   0.584049128620725ABHD5\n",
       ":   0.586782638392095ABTB1\n",
       ":   0.583389200022329ACAP2\n",
       ":   0.518538178691948\n",
       "\n"
      ],
      "text/plain": [
       "     AATK     ABCA7     ABHD2     ABHD5     ABTB1     ACAP2 \n",
       "0.8524371 0.8210484 0.5840491 0.5867826 0.5833892 0.5185382 "
      ]
     },
     "metadata": {},
     "output_type": "display_data"
    }
   ],
   "source": [
    "head(variance)"
   ]
  },
  {
   "cell_type": "code",
   "execution_count": 188,
   "id": "af487c2c-2c00-43ec-9643-007916965eb4",
   "metadata": {},
   "outputs": [
    {
     "data": {
      "text/html": [
       "0.686386310839021"
      ],
      "text/latex": [
       "0.686386310839021"
      ],
      "text/markdown": [
       "0.686386310839021"
      ],
      "text/plain": [
       "[1] 0.6863863"
      ]
     },
     "metadata": {},
     "output_type": "display_data"
    }
   ],
   "source": [
    "mean(apply(neutrophils, 2, var))"
   ]
  },
  {
   "cell_type": "code",
   "execution_count": 189,
   "id": "730bac66-5210-42e7-9455-c9f28ec21bf4",
   "metadata": {},
   "outputs": [],
   "source": [
    "var_threshold = quantile(variance, probs = seq(0, 1, 0.01), na.rm = FALSE,\n",
    "         names = TRUE)['25%']"
   ]
  },
  {
   "cell_type": "code",
   "execution_count": 190,
   "id": "fe7de9a2-48c2-484c-9bc6-85c822805653",
   "metadata": {},
   "outputs": [
    {
     "data": {
      "text/html": [
       "<strong>25%:</strong> 0.449859016907459"
      ],
      "text/latex": [
       "\\textbf{25\\textbackslash{}\\%:} 0.449859016907459"
      ],
      "text/markdown": [
       "**25%:** 0.449859016907459"
      ],
      "text/plain": [
       "     25% \n",
       "0.449859 "
      ]
     },
     "metadata": {},
     "output_type": "display_data"
    }
   ],
   "source": [
    "var_threshold"
   ]
  },
  {
   "cell_type": "code",
   "execution_count": 191,
   "id": "9fbda4e4-0ead-4152-9849-164d7d09a7b8",
   "metadata": {},
   "outputs": [
    {
     "data": {
      "text/html": [
       "1190"
      ],
      "text/latex": [
       "1190"
      ],
      "text/markdown": [
       "1190"
      ],
      "text/plain": [
       "[1] 1190"
      ]
     },
     "metadata": {},
     "output_type": "display_data"
    }
   ],
   "source": [
    "length(variance)"
   ]
  },
  {
   "cell_type": "code",
   "execution_count": 192,
   "id": "5d66d54d-c1e8-4c89-af5f-2e0e9405c515",
   "metadata": {},
   "outputs": [],
   "source": [
    "keep_genes = names(variance[variance > var_threshold])"
   ]
  },
  {
   "cell_type": "code",
   "execution_count": 193,
   "id": "638d0691-6363-49dd-9575-ec74856b3617",
   "metadata": {},
   "outputs": [
    {
     "data": {
      "text/html": [
       "1190"
      ],
      "text/latex": [
       "1190"
      ],
      "text/markdown": [
       "1190"
      ],
      "text/plain": [
       "[1] 1190"
      ]
     },
     "metadata": {},
     "output_type": "display_data"
    }
   ],
   "source": [
    "ncol(neutrophils)"
   ]
  },
  {
   "cell_type": "code",
   "execution_count": 194,
   "id": "ce58bc3e-1bb6-444d-8394-631f6f7c102a",
   "metadata": {},
   "outputs": [],
   "source": [
    "neutrophils = neutrophils[, keep_genes]"
   ]
  },
  {
   "cell_type": "code",
   "execution_count": 195,
   "id": "20b2d502-66ed-4b68-8c93-942b3f7bd5ef",
   "metadata": {},
   "outputs": [
    {
     "data": {
      "text/html": [
       "892"
      ],
      "text/latex": [
       "892"
      ],
      "text/markdown": [
       "892"
      ],
      "text/plain": [
       "[1] 892"
      ]
     },
     "metadata": {},
     "output_type": "display_data"
    }
   ],
   "source": [
    "ncol(neutrophils)"
   ]
  },
  {
   "cell_type": "code",
   "execution_count": 196,
   "id": "b3660791-c7ee-4efb-bb8f-2b78304d99d1",
   "metadata": {},
   "outputs": [],
   "source": [
    "#### Regress out effect of mean expression + amount zero "
   ]
  },
  {
   "cell_type": "code",
   "execution_count": 197,
   "id": "b5a26cd7-29a7-4da0-9b8d-4e6541f4e4a1",
   "metadata": {},
   "outputs": [],
   "source": [
    "neutrophils$sample_id = rownames(neutrophils)"
   ]
  },
  {
   "cell_type": "code",
   "execution_count": 198,
   "id": "d5122027-1fa1-48a4-a89d-5c94ea8917f3",
   "metadata": {},
   "outputs": [
    {
     "name": "stderr",
     "output_type": "stream",
     "text": [
      "Using sample_id as id variables\n",
      "\n"
     ]
    }
   ],
   "source": [
    "neutrophils_long = melt(neutrophils)"
   ]
  },
  {
   "cell_type": "code",
   "execution_count": 199,
   "id": "d38d43ac-52d6-4244-9624-d0846d22108e",
   "metadata": {},
   "outputs": [],
   "source": [
    "summ_stats = neutrophils_long %>% group_by(sample_id) %>% summarise(sum_counts = mean(value), amount_zero = mean(value ==0))"
   ]
  },
  {
   "cell_type": "code",
   "execution_count": 200,
   "id": "0058352b-86da-416c-a1cd-031b1ed0a043",
   "metadata": {},
   "outputs": [
    {
     "data": {
      "text/html": [
       "<table class=\"dataframe\">\n",
       "<caption>A tibble: 2 × 3</caption>\n",
       "<thead>\n",
       "\t<tr><th scope=col>sample_id</th><th scope=col>sum_counts</th><th scope=col>amount_zero</th></tr>\n",
       "\t<tr><th scope=col>&lt;chr&gt;</th><th scope=col>&lt;dbl&gt;</th><th scope=col>&lt;dbl&gt;</th></tr>\n",
       "</thead>\n",
       "<tbody>\n",
       "\t<tr><td>k1 </td><td>2.374504</td><td>0.08520179</td></tr>\n",
       "\t<tr><td>k10</td><td>2.446978</td><td>0.03699552</td></tr>\n",
       "</tbody>\n",
       "</table>\n"
      ],
      "text/latex": [
       "A tibble: 2 × 3\n",
       "\\begin{tabular}{lll}\n",
       " sample\\_id & sum\\_counts & amount\\_zero\\\\\n",
       " <chr> & <dbl> & <dbl>\\\\\n",
       "\\hline\n",
       "\t k1  & 2.374504 & 0.08520179\\\\\n",
       "\t k10 & 2.446978 & 0.03699552\\\\\n",
       "\\end{tabular}\n"
      ],
      "text/markdown": [
       "\n",
       "A tibble: 2 × 3\n",
       "\n",
       "| sample_id &lt;chr&gt; | sum_counts &lt;dbl&gt; | amount_zero &lt;dbl&gt; |\n",
       "|---|---|---|\n",
       "| k1  | 2.374504 | 0.08520179 |\n",
       "| k10 | 2.446978 | 0.03699552 |\n",
       "\n"
      ],
      "text/plain": [
       "  sample_id sum_counts amount_zero\n",
       "1 k1        2.374504   0.08520179 \n",
       "2 k10       2.446978   0.03699552 "
      ]
     },
     "metadata": {},
     "output_type": "display_data"
    }
   ],
   "source": [
    "head(summ_stats,2)"
   ]
  },
  {
   "cell_type": "code",
   "execution_count": 201,
   "id": "d7cf2da0-9b0f-45c0-b593-cb2bafc6f2f9",
   "metadata": {},
   "outputs": [],
   "source": [
    "neutrophils = neutrophils_long %>% dcast(sample_id ~variable, value.var = \"value\")"
   ]
  },
  {
   "cell_type": "code",
   "execution_count": 202,
   "id": "eee6aeae-0962-4134-8657-1ad293ed2f00",
   "metadata": {},
   "outputs": [],
   "source": [
    "rownames(neutrophils) = neutrophils$sample_id"
   ]
  },
  {
   "cell_type": "code",
   "execution_count": 203,
   "id": "816a78c7-218f-4574-bab0-6c0e660fec8a",
   "metadata": {},
   "outputs": [],
   "source": [
    "### Check out distribution per sample"
   ]
  },
  {
   "cell_type": "code",
   "execution_count": 204,
   "id": "ca10bd20-d1f9-4971-b871-adfbaf9f3be8",
   "metadata": {},
   "outputs": [],
   "source": [
    "neutrophils$sample_id = rownames(neutrophils)"
   ]
  },
  {
   "cell_type": "code",
   "execution_count": 205,
   "id": "c31b3840-e132-4194-9ea0-6fb062e6d522",
   "metadata": {},
   "outputs": [],
   "source": [
    "### Apply quantile normalization"
   ]
  },
  {
   "cell_type": "code",
   "execution_count": 206,
   "id": "cd567de1-53a8-43d1-bfa4-fbfa164245c3",
   "metadata": {},
   "outputs": [],
   "source": [
    "neutrophils$sample_id = NULL"
   ]
  },
  {
   "cell_type": "code",
   "execution_count": 207,
   "id": "74b83a29-c0ac-44bd-b73e-51e2a1c439b1",
   "metadata": {},
   "outputs": [
    {
     "data": {
      "text/html": [
       "TRUE"
      ],
      "text/latex": [
       "TRUE"
      ],
      "text/markdown": [
       "TRUE"
      ],
      "text/plain": [
       "[1] TRUE"
      ]
     },
     "metadata": {},
     "output_type": "display_data"
    }
   ],
   "source": [
    "quantile_normalization_neutrophils"
   ]
  },
  {
   "cell_type": "code",
   "execution_count": 208,
   "id": "3332ce57-ff27-41ae-82bf-83a3f2c3f070",
   "metadata": {},
   "outputs": [],
   "source": [
    "if(quantile_normalization_neutrophils  == TRUE){\n",
    "    neutrophils = t(neutrophils)\n",
    "    genes_neutrophils = rownames(neutrophils)\n",
    "    neutrophils  = quantile_normalization(neutrophils ) \n",
    "    rownames(neutrophils) = genes_neutrophils\n",
    "    neutrophils = data.frame(t(neutrophils))\n",
    "    }"
   ]
  },
  {
   "cell_type": "code",
   "execution_count": 209,
   "id": "d7b711ad-622d-4dc9-84e8-c25dd834cb25",
   "metadata": {},
   "outputs": [],
   "source": [
    "### Check out distribution per sample"
   ]
  },
  {
   "cell_type": "code",
   "execution_count": 210,
   "id": "c34afa2d-2971-46cf-bc4f-cd487e200e91",
   "metadata": {},
   "outputs": [],
   "source": [
    "neutrophils$sample_id = rownames(neutrophils)"
   ]
  },
  {
   "cell_type": "markdown",
   "id": "70d590ba-4308-499e-acb4-dcc69024c4a6",
   "metadata": {
    "tags": []
   },
   "source": [
    "### Filter only genes that are also in single cell"
   ]
  },
  {
   "cell_type": "code",
   "execution_count": 211,
   "id": "3fe8fe75-e8a7-4f62-a936-28e9b7f28863",
   "metadata": {},
   "outputs": [
    {
     "name": "stdout",
     "output_type": "stream",
     "text": [
      "[1] \"2024-01-03 14:10:30 CET\"\n"
     ]
    }
   ],
   "source": [
    "path = paste0(result_path, '/C-Analysis/C0_Filter_Genes_Input_Correlations_Perc_Values.csv')\n",
    "genes_subset = read.csv(path) # cluster alternative\n",
    "print(file.info(path)$mtime)\n",
    "#genes_subset = read.csv(paste0(result_path, '/C-Analysis/C0_Filter_Genes_Input_Correlations_Perc_Values_cell_type_Scanorama.csv'))   # cell-type alternative"
   ]
  },
  {
   "cell_type": "code",
   "execution_count": 212,
   "id": "988aa10a-6c47-4c75-b4dd-9869cd85aafb",
   "metadata": {},
   "outputs": [
    {
     "data": {
      "text/html": [
       "<table class=\"dataframe\">\n",
       "<caption>A data.frame: 2 × 5</caption>\n",
       "<thead>\n",
       "\t<tr><th></th><th scope=col>X</th><th scope=col>perc_cells_expressing_gene</th><th scope=col>total_amount_cells_expressing_gene</th><th scope=col>gene</th><th scope=col>cluster</th></tr>\n",
       "\t<tr><th></th><th scope=col>&lt;chr&gt;</th><th scope=col>&lt;dbl&gt;</th><th scope=col>&lt;int&gt;</th><th scope=col>&lt;chr&gt;</th><th scope=col>&lt;chr&gt;</th></tr>\n",
       "</thead>\n",
       "<tbody>\n",
       "\t<tr><th scope=row>1</th><td>AL627309.1</td><td>0.24327612</td><td>18</td><td>AL627309.1</td><td>8_B-cell</td></tr>\n",
       "\t<tr><th scope=row>2</th><td>AL627309.4</td><td>0.05406136</td><td> 4</td><td>AL627309.4</td><td>8_B-cell</td></tr>\n",
       "</tbody>\n",
       "</table>\n"
      ],
      "text/latex": [
       "A data.frame: 2 × 5\n",
       "\\begin{tabular}{r|lllll}\n",
       "  & X & perc\\_cells\\_expressing\\_gene & total\\_amount\\_cells\\_expressing\\_gene & gene & cluster\\\\\n",
       "  & <chr> & <dbl> & <int> & <chr> & <chr>\\\\\n",
       "\\hline\n",
       "\t1 & AL627309.1 & 0.24327612 & 18 & AL627309.1 & 8\\_B-cell\\\\\n",
       "\t2 & AL627309.4 & 0.05406136 &  4 & AL627309.4 & 8\\_B-cell\\\\\n",
       "\\end{tabular}\n"
      ],
      "text/markdown": [
       "\n",
       "A data.frame: 2 × 5\n",
       "\n",
       "| <!--/--> | X &lt;chr&gt; | perc_cells_expressing_gene &lt;dbl&gt; | total_amount_cells_expressing_gene &lt;int&gt; | gene &lt;chr&gt; | cluster &lt;chr&gt; |\n",
       "|---|---|---|---|---|---|\n",
       "| 1 | AL627309.1 | 0.24327612 | 18 | AL627309.1 | 8_B-cell |\n",
       "| 2 | AL627309.4 | 0.05406136 |  4 | AL627309.4 | 8_B-cell |\n",
       "\n"
      ],
      "text/plain": [
       "  X          perc_cells_expressing_gene total_amount_cells_expressing_gene\n",
       "1 AL627309.1 0.24327612                 18                                \n",
       "2 AL627309.4 0.05406136                  4                                \n",
       "  gene       cluster \n",
       "1 AL627309.1 8_B-cell\n",
       "2 AL627309.4 8_B-cell"
      ]
     },
     "metadata": {},
     "output_type": "display_data"
    }
   ],
   "source": [
    "head(genes_subset,2)"
   ]
  },
  {
   "cell_type": "code",
   "execution_count": 213,
   "id": "f7539de6-a101-46bb-9f24-166b4364d691",
   "metadata": {},
   "outputs": [],
   "source": [
    "genes = unique(genes_subset$gene)"
   ]
  },
  {
   "cell_type": "code",
   "execution_count": 214,
   "id": "82333a8e-09da-41a0-850d-5dbc1f872587",
   "metadata": {},
   "outputs": [
    {
     "data": {
      "text/html": [
       "FALSE"
      ],
      "text/latex": [
       "FALSE"
      ],
      "text/markdown": [
       "FALSE"
      ],
      "text/plain": [
       "[1] FALSE"
      ]
     },
     "metadata": {},
     "output_type": "display_data"
    }
   ],
   "source": [
    "align_genes"
   ]
  },
  {
   "cell_type": "code",
   "execution_count": 215,
   "id": "416b3f0b-ae93-4ae2-a186-68d371fd6ab8",
   "metadata": {},
   "outputs": [],
   "source": [
    "if(align_genes == TRUE){\n",
    "    neutrophils = neutrophils[,colnames(neutrophils) %in% genes]\n",
    "    }"
   ]
  },
  {
   "cell_type": "code",
   "execution_count": 216,
   "id": "7c922809-2d4c-4be0-a5bd-a69a8105c1b4",
   "metadata": {},
   "outputs": [
    {
     "data": {
      "text/html": [
       "<style>\n",
       ".list-inline {list-style: none; margin:0; padding: 0}\n",
       ".list-inline>li {display: inline-block}\n",
       ".list-inline>li:not(:last-child)::after {content: \"\\00b7\"; padding: 0 .5ex}\n",
       "</style>\n",
       "<ol class=list-inline><li>92</li><li>893</li></ol>\n"
      ],
      "text/latex": [
       "\\begin{enumerate*}\n",
       "\\item 92\n",
       "\\item 893\n",
       "\\end{enumerate*}\n"
      ],
      "text/markdown": [
       "1. 92\n",
       "2. 893\n",
       "\n",
       "\n"
      ],
      "text/plain": [
       "[1]  92 893"
      ]
     },
     "metadata": {},
     "output_type": "display_data"
    }
   ],
   "source": [
    "dim(neutrophils)"
   ]
  },
  {
   "cell_type": "code",
   "execution_count": 217,
   "id": "80bb0735-559a-49f4-bd20-d29356570de4",
   "metadata": {},
   "outputs": [],
   "source": [
    "### Check out distribution per sample"
   ]
  },
  {
   "cell_type": "code",
   "execution_count": 218,
   "id": "5357cfe8-cf73-43fc-85dd-07bba3ad5a41",
   "metadata": {},
   "outputs": [],
   "source": [
    "neutrophils$sample_id = rownames(neutrophils)"
   ]
  },
  {
   "cell_type": "markdown",
   "id": "992392d3-83ac-4f47-a593-7c7da89a8c69",
   "metadata": {
    "tags": []
   },
   "source": [
    "### Prepare long format"
   ]
  },
  {
   "cell_type": "code",
   "execution_count": 219,
   "id": "bb35a88b-88eb-4983-9fad-49b83a4ff534",
   "metadata": {},
   "outputs": [],
   "source": [
    "neutrophils$sample_id = rownames(neutrophils)"
   ]
  },
  {
   "cell_type": "code",
   "execution_count": 220,
   "id": "489a5388-c5ee-4bd7-8963-51fac33d6c4c",
   "metadata": {},
   "outputs": [
    {
     "name": "stderr",
     "output_type": "stream",
     "text": [
      "Using sample_id as id variables\n",
      "\n"
     ]
    }
   ],
   "source": [
    "neutrophils_long = melt(neutrophils)"
   ]
  },
  {
   "cell_type": "code",
   "execution_count": 221,
   "id": "ab468e56-7177-49ec-a18b-c56eaa8057f1",
   "metadata": {},
   "outputs": [],
   "source": [
    "neutrophils_long$type = 'neutrophil'"
   ]
  },
  {
   "cell_type": "code",
   "execution_count": 222,
   "id": "d8bd6fd6-e1cd-475a-81af-aa8cf0ea112d",
   "metadata": {},
   "outputs": [
    {
     "data": {
      "text/html": [
       "<table class=\"dataframe\">\n",
       "<caption>A data.frame: 2 × 4</caption>\n",
       "<thead>\n",
       "\t<tr><th></th><th scope=col>sample_id</th><th scope=col>variable</th><th scope=col>value</th><th scope=col>type</th></tr>\n",
       "\t<tr><th></th><th scope=col>&lt;chr&gt;</th><th scope=col>&lt;fct&gt;</th><th scope=col>&lt;dbl&gt;</th><th scope=col>&lt;chr&gt;</th></tr>\n",
       "</thead>\n",
       "<tbody>\n",
       "\t<tr><th scope=row>1</th><td>k1 </td><td>AATK</td><td>2.746071</td><td>neutrophil</td></tr>\n",
       "\t<tr><th scope=row>2</th><td>k10</td><td>AATK</td><td>3.074688</td><td>neutrophil</td></tr>\n",
       "</tbody>\n",
       "</table>\n"
      ],
      "text/latex": [
       "A data.frame: 2 × 4\n",
       "\\begin{tabular}{r|llll}\n",
       "  & sample\\_id & variable & value & type\\\\\n",
       "  & <chr> & <fct> & <dbl> & <chr>\\\\\n",
       "\\hline\n",
       "\t1 & k1  & AATK & 2.746071 & neutrophil\\\\\n",
       "\t2 & k10 & AATK & 3.074688 & neutrophil\\\\\n",
       "\\end{tabular}\n"
      ],
      "text/markdown": [
       "\n",
       "A data.frame: 2 × 4\n",
       "\n",
       "| <!--/--> | sample_id &lt;chr&gt; | variable &lt;fct&gt; | value &lt;dbl&gt; | type &lt;chr&gt; |\n",
       "|---|---|---|---|---|\n",
       "| 1 | k1  | AATK | 2.746071 | neutrophil |\n",
       "| 2 | k10 | AATK | 3.074688 | neutrophil |\n",
       "\n"
      ],
      "text/plain": [
       "  sample_id variable value    type      \n",
       "1 k1        AATK     2.746071 neutrophil\n",
       "2 k10       AATK     3.074688 neutrophil"
      ]
     },
     "metadata": {},
     "output_type": "display_data"
    }
   ],
   "source": [
    "head(neutrophils_long,2)"
   ]
  },
  {
   "cell_type": "code",
   "execution_count": 223,
   "id": "f67df0f3-baf7-42c3-9dee-48cb844e14df",
   "metadata": {},
   "outputs": [],
   "source": [
    "### Add duplicates"
   ]
  },
  {
   "cell_type": "code",
   "execution_count": 224,
   "id": "3221de69-bf4a-45c2-9f82-d07e3baaa2ac",
   "metadata": {},
   "outputs": [],
   "source": [
    "neutrophils_long_dupl = neutrophils_long[neutrophils_long$sample_id %in% c('m13.2', 'm6.4'),]"
   ]
  },
  {
   "cell_type": "code",
   "execution_count": 225,
   "id": "fda33c5b-1676-4220-86ed-48b810526092",
   "metadata": {},
   "outputs": [],
   "source": [
    "neutrophils_long_dupl$sample_id[neutrophils_long_dupl$sample_id == 'm13.2'] = 'm13.22'"
   ]
  },
  {
   "cell_type": "code",
   "execution_count": 226,
   "id": "bd9c1aef-5f6c-494a-a7fd-1ab735b19ee6",
   "metadata": {},
   "outputs": [],
   "source": [
    "neutrophils_long_dupl$sample_id[neutrophils_long_dupl$sample_id == 'm6.4'] = 'm6.42'"
   ]
  },
  {
   "cell_type": "code",
   "execution_count": 227,
   "id": "08fecdbe-92a4-4f8c-9006-4de860ac2e1b",
   "metadata": {},
   "outputs": [
    {
     "data": {
      "text/html": [
       "<table class=\"dataframe\">\n",
       "<caption>A data.frame: 2 × 4</caption>\n",
       "<thead>\n",
       "\t<tr><th></th><th scope=col>sample_id</th><th scope=col>variable</th><th scope=col>value</th><th scope=col>type</th></tr>\n",
       "\t<tr><th></th><th scope=col>&lt;chr&gt;</th><th scope=col>&lt;fct&gt;</th><th scope=col>&lt;dbl&gt;</th><th scope=col>&lt;chr&gt;</th></tr>\n",
       "</thead>\n",
       "<tbody>\n",
       "\t<tr><th scope=row>85</th><td>m6.42</td><td>AATK </td><td>1.162339</td><td>neutrophil</td></tr>\n",
       "\t<tr><th scope=row>177</th><td>m6.42</td><td>ABCA7</td><td>1.919833</td><td>neutrophil</td></tr>\n",
       "</tbody>\n",
       "</table>\n"
      ],
      "text/latex": [
       "A data.frame: 2 × 4\n",
       "\\begin{tabular}{r|llll}\n",
       "  & sample\\_id & variable & value & type\\\\\n",
       "  & <chr> & <fct> & <dbl> & <chr>\\\\\n",
       "\\hline\n",
       "\t85 & m6.42 & AATK  & 1.162339 & neutrophil\\\\\n",
       "\t177 & m6.42 & ABCA7 & 1.919833 & neutrophil\\\\\n",
       "\\end{tabular}\n"
      ],
      "text/markdown": [
       "\n",
       "A data.frame: 2 × 4\n",
       "\n",
       "| <!--/--> | sample_id &lt;chr&gt; | variable &lt;fct&gt; | value &lt;dbl&gt; | type &lt;chr&gt; |\n",
       "|---|---|---|---|---|\n",
       "| 85 | m6.42 | AATK  | 1.162339 | neutrophil |\n",
       "| 177 | m6.42 | ABCA7 | 1.919833 | neutrophil |\n",
       "\n"
      ],
      "text/plain": [
       "    sample_id variable value    type      \n",
       "85  m6.42     AATK     1.162339 neutrophil\n",
       "177 m6.42     ABCA7    1.919833 neutrophil"
      ]
     },
     "metadata": {},
     "output_type": "display_data"
    }
   ],
   "source": [
    "head(neutrophils_long_dupl,2)"
   ]
  },
  {
   "cell_type": "code",
   "execution_count": 228,
   "id": "ba698294-9d66-4b59-90de-9b22dcb71ced",
   "metadata": {},
   "outputs": [],
   "source": [
    "if(add_duplicates == TRUE){\n",
    "    neutrophils_long = rbind(neutrophils_long, neutrophils_long_dupl)\n",
    "}"
   ]
  },
  {
   "cell_type": "code",
   "execution_count": 229,
   "id": "8a4874cb-9695-43d1-8d19-cd23e4d53e41",
   "metadata": {},
   "outputs": [
    {
     "data": {
      "text/html": [
       "892"
      ],
      "text/latex": [
       "892"
      ],
      "text/markdown": [
       "892"
      ],
      "text/plain": [
       "[1] 892"
      ]
     },
     "metadata": {},
     "output_type": "display_data"
    }
   ],
   "source": [
    "length(unique(neutrophils_long$variable))"
   ]
  },
  {
   "cell_type": "code",
   "execution_count": 230,
   "id": "875ac2cf-67cb-44be-a921-26f176656469",
   "metadata": {},
   "outputs": [
    {
     "data": {
      "text/html": [
       "92"
      ],
      "text/latex": [
       "92"
      ],
      "text/markdown": [
       "92"
      ],
      "text/plain": [
       "[1] 92"
      ]
     },
     "metadata": {},
     "output_type": "display_data"
    }
   ],
   "source": [
    "length(unique(neutrophils_long$sample_id))"
   ]
  },
  {
   "cell_type": "markdown",
   "id": "2e5a3586-e198-43f6-8ba1-6cf6fb7db885",
   "metadata": {},
   "source": [
    "## RNA-Single-Seq"
   ]
  },
  {
   "cell_type": "markdown",
   "id": "95f9a4a0-d99f-4154-9d82-d6987616e98f",
   "metadata": {},
   "source": [
    "### Load cell-expression- gene cluster info"
   ]
  },
  {
   "cell_type": "code",
   "execution_count": 231,
   "id": "aa055583-d815-4c9c-8964-59ba7b7f7168",
   "metadata": {},
   "outputs": [
    {
     "name": "stdout",
     "output_type": "stream",
     "text": [
      "[1] \"../results/current/C-Analysis/C0_Filter_Genes_Input_Correlations_Perc_Values.csv\"\n",
      "[1] \"2024-01-03 14:10:30 CET\"\n"
     ]
    }
   ],
   "source": [
    "path = paste0(result_path, '/C-Analysis/C0_Filter_Genes_Input_Correlations_Perc_Values.csv')\n",
    "cell_perc_cluster = read.csv( path) # cluster alternative\n",
    "print(path)\n",
    "print(file.info(path)$mtime)"
   ]
  },
  {
   "cell_type": "code",
   "execution_count": 232,
   "id": "6d36d442-2a5d-44dd-9fec-7919472e7471",
   "metadata": {},
   "outputs": [
    {
     "data": {
      "text/html": [
       "<table class=\"dataframe\">\n",
       "<caption>A data.frame: 2 × 5</caption>\n",
       "<thead>\n",
       "\t<tr><th></th><th scope=col>X</th><th scope=col>perc_cells_expressing_gene</th><th scope=col>total_amount_cells_expressing_gene</th><th scope=col>gene</th><th scope=col>cluster</th></tr>\n",
       "\t<tr><th></th><th scope=col>&lt;chr&gt;</th><th scope=col>&lt;dbl&gt;</th><th scope=col>&lt;int&gt;</th><th scope=col>&lt;chr&gt;</th><th scope=col>&lt;chr&gt;</th></tr>\n",
       "</thead>\n",
       "<tbody>\n",
       "\t<tr><th scope=row>1</th><td>AL627309.1</td><td>0.24327612</td><td>18</td><td>AL627309.1</td><td>8_B-cell</td></tr>\n",
       "\t<tr><th scope=row>2</th><td>AL627309.4</td><td>0.05406136</td><td> 4</td><td>AL627309.4</td><td>8_B-cell</td></tr>\n",
       "</tbody>\n",
       "</table>\n"
      ],
      "text/latex": [
       "A data.frame: 2 × 5\n",
       "\\begin{tabular}{r|lllll}\n",
       "  & X & perc\\_cells\\_expressing\\_gene & total\\_amount\\_cells\\_expressing\\_gene & gene & cluster\\\\\n",
       "  & <chr> & <dbl> & <int> & <chr> & <chr>\\\\\n",
       "\\hline\n",
       "\t1 & AL627309.1 & 0.24327612 & 18 & AL627309.1 & 8\\_B-cell\\\\\n",
       "\t2 & AL627309.4 & 0.05406136 &  4 & AL627309.4 & 8\\_B-cell\\\\\n",
       "\\end{tabular}\n"
      ],
      "text/markdown": [
       "\n",
       "A data.frame: 2 × 5\n",
       "\n",
       "| <!--/--> | X &lt;chr&gt; | perc_cells_expressing_gene &lt;dbl&gt; | total_amount_cells_expressing_gene &lt;int&gt; | gene &lt;chr&gt; | cluster &lt;chr&gt; |\n",
       "|---|---|---|---|---|---|\n",
       "| 1 | AL627309.1 | 0.24327612 | 18 | AL627309.1 | 8_B-cell |\n",
       "| 2 | AL627309.4 | 0.05406136 |  4 | AL627309.4 | 8_B-cell |\n",
       "\n"
      ],
      "text/plain": [
       "  X          perc_cells_expressing_gene total_amount_cells_expressing_gene\n",
       "1 AL627309.1 0.24327612                 18                                \n",
       "2 AL627309.4 0.05406136                  4                                \n",
       "  gene       cluster \n",
       "1 AL627309.1 8_B-cell\n",
       "2 AL627309.4 8_B-cell"
      ]
     },
     "metadata": {},
     "output_type": "display_data"
    }
   ],
   "source": [
    "head(cell_perc_cluster,2)"
   ]
  },
  {
   "cell_type": "code",
   "execution_count": 233,
   "id": "99570407-9cc1-4a60-8ef9-9f16556d496b",
   "metadata": {},
   "outputs": [
    {
     "data": {
      "text/html": [
       "365199"
      ],
      "text/latex": [
       "365199"
      ],
      "text/markdown": [
       "365199"
      ],
      "text/plain": [
       "[1] 365199"
      ]
     },
     "metadata": {},
     "output_type": "display_data"
    }
   ],
   "source": [
    "nrow(cell_perc_cluster)"
   ]
  },
  {
   "cell_type": "code",
   "execution_count": 234,
   "id": "f339b565-1fd4-49cc-9fcf-5495030204bd",
   "metadata": {},
   "outputs": [
    {
     "data": {
      "text/html": [
       "19221"
      ],
      "text/latex": [
       "19221"
      ],
      "text/markdown": [
       "19221"
      ],
      "text/plain": [
       "[1] 19221"
      ]
     },
     "metadata": {},
     "output_type": "display_data"
    }
   ],
   "source": [
    "length(unique(cell_perc_cluster$gene))"
   ]
  },
  {
   "cell_type": "code",
   "execution_count": 235,
   "id": "083db572-6e60-4131-baea-c820f0f68470",
   "metadata": {},
   "outputs": [
    {
     "data": {
      "text/html": [
       "19"
      ],
      "text/latex": [
       "19"
      ],
      "text/markdown": [
       "19"
      ],
      "text/plain": [
       "[1] 19"
      ]
     },
     "metadata": {},
     "output_type": "display_data"
    }
   ],
   "source": [
    "length(unique(cell_perc_cluster$cluster))"
   ]
  },
  {
   "cell_type": "code",
   "execution_count": 236,
   "id": "f3c3ee6d-ea95-45e1-87ca-29ae0130e455",
   "metadata": {},
   "outputs": [
    {
     "data": {
      "text/html": [
       "<table class=\"dataframe\">\n",
       "<caption>A grouped_df: 15 × 2</caption>\n",
       "<thead>\n",
       "\t<tr><th scope=col>cluster</th><th scope=col>n</th></tr>\n",
       "\t<tr><th scope=col>&lt;chr&gt;</th><th scope=col>&lt;int&gt;</th></tr>\n",
       "</thead>\n",
       "<tbody>\n",
       "\t<tr><td>0_T-cell-CD4              </td><td>3854</td></tr>\n",
       "\t<tr><td>10_B-cell                 </td><td>1220</td></tr>\n",
       "\t<tr><td>11_T-cell-CD4             </td><td> 981</td></tr>\n",
       "\t<tr><td>12_Monocytes - CD16_FCGR3A</td><td>1039</td></tr>\n",
       "\t<tr><td>13_Dendritic              </td><td> 406</td></tr>\n",
       "\t<tr><td>14_Other                  </td><td>  35</td></tr>\n",
       "\t<tr><td>1_T-cell-CD8              </td><td>4320</td></tr>\n",
       "\t<tr><td>2_T-cell-CD4              </td><td>3830</td></tr>\n",
       "\t<tr><td>3_NK                      </td><td>3357</td></tr>\n",
       "\t<tr><td>4_Monocytes - CD14        </td><td>7268</td></tr>\n",
       "\t<tr><td>5_T-cell-CD4              </td><td>3173</td></tr>\n",
       "\t<tr><td>6_Monocytes - CD14        </td><td>5211</td></tr>\n",
       "\t<tr><td>7_Monocytes - CD14        </td><td>3821</td></tr>\n",
       "\t<tr><td>8_B-cell                  </td><td>2389</td></tr>\n",
       "\t<tr><td>9_Monocytes - CD16_FCGR3A </td><td>1439</td></tr>\n",
       "</tbody>\n",
       "</table>\n"
      ],
      "text/latex": [
       "A grouped\\_df: 15 × 2\n",
       "\\begin{tabular}{ll}\n",
       " cluster & n\\\\\n",
       " <chr> & <int>\\\\\n",
       "\\hline\n",
       "\t 0\\_T-cell-CD4               & 3854\\\\\n",
       "\t 10\\_B-cell                  & 1220\\\\\n",
       "\t 11\\_T-cell-CD4              &  981\\\\\n",
       "\t 12\\_Monocytes - CD16\\_FCGR3A & 1039\\\\\n",
       "\t 13\\_Dendritic               &  406\\\\\n",
       "\t 14\\_Other                   &   35\\\\\n",
       "\t 1\\_T-cell-CD8               & 4320\\\\\n",
       "\t 2\\_T-cell-CD4               & 3830\\\\\n",
       "\t 3\\_NK                       & 3357\\\\\n",
       "\t 4\\_Monocytes - CD14         & 7268\\\\\n",
       "\t 5\\_T-cell-CD4               & 3173\\\\\n",
       "\t 6\\_Monocytes - CD14         & 5211\\\\\n",
       "\t 7\\_Monocytes - CD14         & 3821\\\\\n",
       "\t 8\\_B-cell                   & 2389\\\\\n",
       "\t 9\\_Monocytes - CD16\\_FCGR3A  & 1439\\\\\n",
       "\\end{tabular}\n"
      ],
      "text/markdown": [
       "\n",
       "A grouped_df: 15 × 2\n",
       "\n",
       "| cluster &lt;chr&gt; | n &lt;int&gt; |\n",
       "|---|---|\n",
       "| 0_T-cell-CD4               | 3854 |\n",
       "| 10_B-cell                  | 1220 |\n",
       "| 11_T-cell-CD4              |  981 |\n",
       "| 12_Monocytes - CD16_FCGR3A | 1039 |\n",
       "| 13_Dendritic               |  406 |\n",
       "| 14_Other                   |   35 |\n",
       "| 1_T-cell-CD8               | 4320 |\n",
       "| 2_T-cell-CD4               | 3830 |\n",
       "| 3_NK                       | 3357 |\n",
       "| 4_Monocytes - CD14         | 7268 |\n",
       "| 5_T-cell-CD4               | 3173 |\n",
       "| 6_Monocytes - CD14         | 5211 |\n",
       "| 7_Monocytes - CD14         | 3821 |\n",
       "| 8_B-cell                   | 2389 |\n",
       "| 9_Monocytes - CD16_FCGR3A  | 1439 |\n",
       "\n"
      ],
      "text/plain": [
       "   cluster                    n   \n",
       "1  0_T-cell-CD4               3854\n",
       "2  10_B-cell                  1220\n",
       "3  11_T-cell-CD4               981\n",
       "4  12_Monocytes - CD16_FCGR3A 1039\n",
       "5  13_Dendritic                406\n",
       "6  14_Other                     35\n",
       "7  1_T-cell-CD8               4320\n",
       "8  2_T-cell-CD4               3830\n",
       "9  3_NK                       3357\n",
       "10 4_Monocytes - CD14         7268\n",
       "11 5_T-cell-CD4               3173\n",
       "12 6_Monocytes - CD14         5211\n",
       "13 7_Monocytes - CD14         3821\n",
       "14 8_B-cell                   2389\n",
       "15 9_Monocytes - CD16_FCGR3A  1439"
      ]
     },
     "metadata": {},
     "output_type": "display_data"
    }
   ],
   "source": [
    "cell_perc_cluster[((cell_perc_cluster$perc_cells > 10) & (cell_perc_cluster$total_amount_cells_expressing_gene > 1200))  ,] %>% group_by(cluster) %>% count()  # investigate amount of genes after filtering"
   ]
  },
  {
   "cell_type": "code",
   "execution_count": 237,
   "id": "fe59c8b0-a1a4-4880-9289-bedac742476e",
   "metadata": {},
   "outputs": [
    {
     "data": {
      "text/html": [
       "'V_FINAL'"
      ],
      "text/latex": [
       "'V\\_FINAL'"
      ],
      "text/markdown": [
       "'V_FINAL'"
      ],
      "text/plain": [
       "[1] \"V_FINAL\""
      ]
     },
     "metadata": {},
     "output_type": "display_data"
    }
   ],
   "source": [
    "name"
   ]
  },
  {
   "cell_type": "code",
   "execution_count": 238,
   "id": "5451ec8f-25f5-4d7f-b25a-e29fd9c9ef79",
   "metadata": {},
   "outputs": [],
   "source": [
    "##### Decide on conditions for filtering genes out of single-cell data! (uncommented no filtering!)\n",
    "if(name %in%  c('V_FINAL', 'V29')){\n",
    "    cell_perc_cluster =  cell_perc_cluster[((cell_perc_cluster$perc_cells > 50) & (cell_perc_cluster$total_amount_cells_expressing_gene > 1200)) | ((cell_perc_cluster$perc_cells > 40) & (cell_perc_cluster$total_amount_cells_expressing_gene > 3000)) ,] \n",
    "    }\n",
    "# condition removed for complete data"
   ]
  },
  {
   "cell_type": "code",
   "execution_count": 239,
   "id": "24c88277-e45e-4400-952d-0a07aab5fbeb",
   "metadata": {},
   "outputs": [
    {
     "data": {
      "text/html": [
       "<table class=\"dataframe\">\n",
       "<caption>A data.frame: 2 × 5</caption>\n",
       "<thead>\n",
       "\t<tr><th></th><th scope=col>X</th><th scope=col>perc_cells_expressing_gene</th><th scope=col>total_amount_cells_expressing_gene</th><th scope=col>gene</th><th scope=col>cluster</th></tr>\n",
       "\t<tr><th></th><th scope=col>&lt;chr&gt;</th><th scope=col>&lt;dbl&gt;</th><th scope=col>&lt;int&gt;</th><th scope=col>&lt;chr&gt;</th><th scope=col>&lt;chr&gt;</th></tr>\n",
       "</thead>\n",
       "<tbody>\n",
       "\t<tr><th scope=row>95</th><td>RPL22</td><td>99.24314</td><td>7343</td><td>RPL22</td><td>8_B-cell</td></tr>\n",
       "\t<tr><th scope=row>119</th><td>PARK7</td><td>45.38451</td><td>3358</td><td>PARK7</td><td>8_B-cell</td></tr>\n",
       "</tbody>\n",
       "</table>\n"
      ],
      "text/latex": [
       "A data.frame: 2 × 5\n",
       "\\begin{tabular}{r|lllll}\n",
       "  & X & perc\\_cells\\_expressing\\_gene & total\\_amount\\_cells\\_expressing\\_gene & gene & cluster\\\\\n",
       "  & <chr> & <dbl> & <int> & <chr> & <chr>\\\\\n",
       "\\hline\n",
       "\t95 & RPL22 & 99.24314 & 7343 & RPL22 & 8\\_B-cell\\\\\n",
       "\t119 & PARK7 & 45.38451 & 3358 & PARK7 & 8\\_B-cell\\\\\n",
       "\\end{tabular}\n"
      ],
      "text/markdown": [
       "\n",
       "A data.frame: 2 × 5\n",
       "\n",
       "| <!--/--> | X &lt;chr&gt; | perc_cells_expressing_gene &lt;dbl&gt; | total_amount_cells_expressing_gene &lt;int&gt; | gene &lt;chr&gt; | cluster &lt;chr&gt; |\n",
       "|---|---|---|---|---|---|\n",
       "| 95 | RPL22 | 99.24314 | 7343 | RPL22 | 8_B-cell |\n",
       "| 119 | PARK7 | 45.38451 | 3358 | PARK7 | 8_B-cell |\n",
       "\n"
      ],
      "text/plain": [
       "    X     perc_cells_expressing_gene total_amount_cells_expressing_gene gene \n",
       "95  RPL22 99.24314                   7343                               RPL22\n",
       "119 PARK7 45.38451                   3358                               PARK7\n",
       "    cluster \n",
       "95  8_B-cell\n",
       "119 8_B-cell"
      ]
     },
     "metadata": {},
     "output_type": "display_data"
    }
   ],
   "source": [
    "head(cell_perc_cluster,2)"
   ]
  },
  {
   "cell_type": "code",
   "execution_count": 240,
   "id": "667cd73d-31e9-46be-878e-4a20844668ab",
   "metadata": {},
   "outputs": [
    {
     "data": {
      "text/html": [
       "13206"
      ],
      "text/latex": [
       "13206"
      ],
      "text/markdown": [
       "13206"
      ],
      "text/plain": [
       "[1] 13206"
      ]
     },
     "metadata": {},
     "output_type": "display_data"
    }
   ],
   "source": [
    "nrow(cell_perc_cluster)"
   ]
  },
  {
   "cell_type": "code",
   "execution_count": null,
   "id": "46479291-0794-4fa1-8e21-78b514c9371f",
   "metadata": {},
   "outputs": [],
   "source": []
  },
  {
   "cell_type": "code",
   "execution_count": null,
   "id": "d45e45f1-88c3-4f08-ab14-3658b95f2c08",
   "metadata": {},
   "outputs": [],
   "source": []
  },
  {
   "cell_type": "markdown",
   "id": "46876b0d-f8c4-4233-adf1-089a949b6234",
   "metadata": {
    "tags": []
   },
   "source": [
    "### Load Pseudobulk aggregated RNA data from C0"
   ]
  },
  {
   "cell_type": "code",
   "execution_count": 241,
   "id": "c5780f55-a452-4e74-b8b3-aa52ccc14c76",
   "metadata": {},
   "outputs": [
    {
     "data": {
      "text/html": [
       "'V_FINAL'"
      ],
      "text/latex": [
       "'V\\_FINAL'"
      ],
      "text/markdown": [
       "'V_FINAL'"
      ],
      "text/plain": [
       "[1] \"V_FINAL\""
      ]
     },
     "metadata": {},
     "output_type": "display_data"
    }
   ],
   "source": [
    "name"
   ]
  },
  {
   "cell_type": "code",
   "execution_count": 242,
   "id": "8efd5dfd-c21c-4442-8467-3a4204ad69e1",
   "metadata": {},
   "outputs": [
    {
     "name": "stdout",
     "output_type": "stream",
     "text": [
      "[1] \"../results/current/C-Analysis/C0_aggregated_RNA_input_correlations_all.RDS\"\n",
      "[1] \"2023-11-30 17:42:49 CET\"\n"
     ]
    }
   ],
   "source": [
    "if(name %in% c('V_FINAL')){\n",
    "    path = paste0(result_path, '/C-Analysis/C0_aggregated_RNA_input_correlations_all.RDS')\n",
    "    load(path)   \n",
    "    print(path)\n",
    "    print(file.info(path)$mtime)\n",
    "    }\n"
   ]
  },
  {
   "cell_type": "code",
   "execution_count": 243,
   "id": "9db90745-193c-4117-8c13-088a86b79bf8",
   "metadata": {},
   "outputs": [],
   "source": [
    "all_genes = rownames(pb)"
   ]
  },
  {
   "cell_type": "code",
   "execution_count": 244,
   "id": "941f62a0-bf9d-4493-986c-1f7b5744aa8a",
   "metadata": {},
   "outputs": [
    {
     "data": {
      "text/html": [
       "<style>\n",
       ".list-inline {list-style: none; margin:0; padding: 0}\n",
       ".list-inline>li {display: inline-block}\n",
       ".list-inline>li:not(:last-child)::after {content: \"\\00b7\"; padding: 0 .5ex}\n",
       "</style>\n",
       "<ol class=list-inline><li>'AL627309.1'</li><li>'AL627309.4'</li><li>'AL669831.5'</li><li>'FAM87B'</li><li>'LINC00115'</li><li>'FAM41C'</li></ol>\n"
      ],
      "text/latex": [
       "\\begin{enumerate*}\n",
       "\\item 'AL627309.1'\n",
       "\\item 'AL627309.4'\n",
       "\\item 'AL669831.5'\n",
       "\\item 'FAM87B'\n",
       "\\item 'LINC00115'\n",
       "\\item 'FAM41C'\n",
       "\\end{enumerate*}\n"
      ],
      "text/markdown": [
       "1. 'AL627309.1'\n",
       "2. 'AL627309.4'\n",
       "3. 'AL669831.5'\n",
       "4. 'FAM87B'\n",
       "5. 'LINC00115'\n",
       "6. 'FAM41C'\n",
       "\n",
       "\n"
      ],
      "text/plain": [
       "[1] \"AL627309.1\" \"AL627309.4\" \"AL669831.5\" \"FAM87B\"     \"LINC00115\" \n",
       "[6] \"FAM41C\"    "
      ]
     },
     "metadata": {},
     "output_type": "display_data"
    }
   ],
   "source": [
    "head(all_genes)"
   ]
  },
  {
   "cell_type": "code",
   "execution_count": 245,
   "id": "e8358614-1f31-415c-b721-c19f36d0a2a7",
   "metadata": {},
   "outputs": [
    {
     "data": {
      "text/html": [
       "19221"
      ],
      "text/latex": [
       "19221"
      ],
      "text/markdown": [
       "19221"
      ],
      "text/plain": [
       "[1] 19221"
      ]
     },
     "metadata": {},
     "output_type": "display_data"
    }
   ],
   "source": [
    "length(all_genes)"
   ]
  },
  {
   "cell_type": "code",
   "execution_count": 246,
   "id": "c9886d4a-e794-4302-9187-fc477eded007",
   "metadata": {},
   "outputs": [
    {
     "data": {
      "text/plain": [
       "class: SingleCellExperiment \n",
       "dim: 19221 121 \n",
       "metadata(2): experiment_info agg_pars\n",
       "assays(19): 0_T-cell-CD4 1_T-cell-CD8 ... 8_B-cell 9_Monocytes -\n",
       "  CD16_FCGR3A\n",
       "rownames(19221): AL627309.1 AL627309.4 ... AC004556.1 AC240274.1\n",
       "rowData names(0):\n",
       "colnames(121): 1.1-L1 10-L11 ... 9.2-L4 9.3-L7\n",
       "colData names(26): group_id classification_measurement ... library_char\n",
       "  ident\n",
       "reducedDimNames(0):\n",
       "mainExpName: NULL\n",
       "altExpNames(0):"
      ]
     },
     "metadata": {},
     "output_type": "display_data"
    }
   ],
   "source": [
    "pb"
   ]
  },
  {
   "cell_type": "code",
   "execution_count": 247,
   "id": "6c6bf12f-a015-4727-8a79-36e39a70d678",
   "metadata": {},
   "outputs": [
    {
     "data": {
      "text/html": [
       "<style>\n",
       ".dl-inline {width: auto; margin:0; padding: 0}\n",
       ".dl-inline>dt, .dl-inline>dd {float: none; width: auto; display: inline-block}\n",
       ".dl-inline>dt::after {content: \":\\0020\"; padding-right: .5ex}\n",
       ".dl-inline>dt:not(:first-of-type) {padding-left: .5ex}\n",
       "</style><dl class=dl-inline><dt>AL627309.1</dt><dd>0.135042928691625</dd><dt>AL627309.4</dt><dd>0.120418343613258</dd><dt>AL669831.5</dt><dd>5.15396341211745</dd><dt>FAM87B</dt><dd>0.0812306633133107</dd><dt>LINC00115</dt><dd>1.20562972816987</dd><dt>FAM41C</dt><dd>1.57305053391891</dd></dl>\n"
      ],
      "text/latex": [
       "\\begin{description*}\n",
       "\\item[AL627309.1] 0.135042928691625\n",
       "\\item[AL627309.4] 0.120418343613258\n",
       "\\item[AL669831.5] 5.15396341211745\n",
       "\\item[FAM87B] 0.0812306633133107\n",
       "\\item[LINC00115] 1.20562972816987\n",
       "\\item[FAM41C] 1.57305053391891\n",
       "\\end{description*}\n"
      ],
      "text/markdown": [
       "AL627309.1\n",
       ":   0.135042928691625AL627309.4\n",
       ":   0.120418343613258AL669831.5\n",
       ":   5.15396341211745FAM87B\n",
       ":   0.0812306633133107LINC00115\n",
       ":   1.20562972816987FAM41C\n",
       ":   1.57305053391891\n",
       "\n"
      ],
      "text/plain": [
       "AL627309.1 AL627309.4 AL669831.5     FAM87B  LINC00115     FAM41C \n",
       "0.13504293 0.12041834 5.15396341 0.08123066 1.20562973 1.57305053 "
      ]
     },
     "metadata": {},
     "output_type": "display_data"
    }
   ],
   "source": [
    "head(rowSums(assay(pb, '0_T-cell-CD4')))"
   ]
  },
  {
   "cell_type": "code",
   "execution_count": 248,
   "id": "000621ec-479f-4c37-b5c6-0748f2d9ba02",
   "metadata": {},
   "outputs": [],
   "source": [
    "#pb_check = pb"
   ]
  },
  {
   "cell_type": "code",
   "execution_count": 249,
   "id": "82d68d52-6107-4bc4-ac70-097e4d093b19",
   "metadata": {},
   "outputs": [
    {
     "data": {
      "text/plain": [
       "List of length 19\n",
       "names(19): 0_T-cell-CD4 1_T-cell-CD8 ... 8_B-cell 9_Monocytes - CD16_FCGR3A"
      ]
     },
     "metadata": {},
     "output_type": "display_data"
    }
   ],
   "source": [
    "assays(pb)"
   ]
  },
  {
   "cell_type": "code",
   "execution_count": 250,
   "id": "224c5c67-a97b-4a91-8aa0-96ee6fbe1d17",
   "metadata": {},
   "outputs": [],
   "source": [
    "#unique(sample_data[,c('id', 'sample_id')])"
   ]
  },
  {
   "cell_type": "code",
   "execution_count": 251,
   "id": "a1cdc6b2-3aeb-4f07-849b-cf4218006a1c",
   "metadata": {},
   "outputs": [],
   "source": [
    "sample_data$merge_id = paste0(sample_data$id, '-', sample_data$library)"
   ]
  },
  {
   "cell_type": "code",
   "execution_count": 252,
   "id": "5dc4df48-3233-4b9c-b7ea-8b7e179969c0",
   "metadata": {},
   "outputs": [
    {
     "data": {
      "text/html": [
       "<style>\n",
       ".list-inline {list-style: none; margin:0; padding: 0}\n",
       ".list-inline>li {display: inline-block}\n",
       ".list-inline>li:not(:last-child)::after {content: \"\\00b7\"; padding: 0 .5ex}\n",
       "</style>\n",
       "<ol class=list-inline><li>'X.1'</li><li>'sample_id'</li><li>'sample'</li><li>'id'</li><li>'measurement'</li><li>'library'</li><li>'id.y'</li><li>'name'</li><li>'read'</li><li>'pattern'</li><li>'sequence'</li><li>'feature_type'</li><li>'X'</li><li>'in_sample'</li><li>'measurement_tp'</li><li>'sc_rna_seq_data'</li><li>'age'</li><li>'sex'</li><li>'classification'</li><li>'group'</li><li>'meta_data'</li><li>'delta_ef_value_group'</li><li>'delta_ef_value'</li><li>'delta_ef_value_class'</li><li>'ef_classification_data'</li><li>'CK'</li><li>'CK_MB'</li><li>'Troponin'</li><li>'CRP'</li><li>'clinical_data'</li><li>'merge_id'</li></ol>\n"
      ],
      "text/latex": [
       "\\begin{enumerate*}\n",
       "\\item 'X.1'\n",
       "\\item 'sample\\_id'\n",
       "\\item 'sample'\n",
       "\\item 'id'\n",
       "\\item 'measurement'\n",
       "\\item 'library'\n",
       "\\item 'id.y'\n",
       "\\item 'name'\n",
       "\\item 'read'\n",
       "\\item 'pattern'\n",
       "\\item 'sequence'\n",
       "\\item 'feature\\_type'\n",
       "\\item 'X'\n",
       "\\item 'in\\_sample'\n",
       "\\item 'measurement\\_tp'\n",
       "\\item 'sc\\_rna\\_seq\\_data'\n",
       "\\item 'age'\n",
       "\\item 'sex'\n",
       "\\item 'classification'\n",
       "\\item 'group'\n",
       "\\item 'meta\\_data'\n",
       "\\item 'delta\\_ef\\_value\\_group'\n",
       "\\item 'delta\\_ef\\_value'\n",
       "\\item 'delta\\_ef\\_value\\_class'\n",
       "\\item 'ef\\_classification\\_data'\n",
       "\\item 'CK'\n",
       "\\item 'CK\\_MB'\n",
       "\\item 'Troponin'\n",
       "\\item 'CRP'\n",
       "\\item 'clinical\\_data'\n",
       "\\item 'merge\\_id'\n",
       "\\end{enumerate*}\n"
      ],
      "text/markdown": [
       "1. 'X.1'\n",
       "2. 'sample_id'\n",
       "3. 'sample'\n",
       "4. 'id'\n",
       "5. 'measurement'\n",
       "6. 'library'\n",
       "7. 'id.y'\n",
       "8. 'name'\n",
       "9. 'read'\n",
       "10. 'pattern'\n",
       "11. 'sequence'\n",
       "12. 'feature_type'\n",
       "13. 'X'\n",
       "14. 'in_sample'\n",
       "15. 'measurement_tp'\n",
       "16. 'sc_rna_seq_data'\n",
       "17. 'age'\n",
       "18. 'sex'\n",
       "19. 'classification'\n",
       "20. 'group'\n",
       "21. 'meta_data'\n",
       "22. 'delta_ef_value_group'\n",
       "23. 'delta_ef_value'\n",
       "24. 'delta_ef_value_class'\n",
       "25. 'ef_classification_data'\n",
       "26. 'CK'\n",
       "27. 'CK_MB'\n",
       "28. 'Troponin'\n",
       "29. 'CRP'\n",
       "30. 'clinical_data'\n",
       "31. 'merge_id'\n",
       "\n",
       "\n"
      ],
      "text/plain": [
       " [1] \"X.1\"                    \"sample_id\"              \"sample\"                \n",
       " [4] \"id\"                     \"measurement\"            \"library\"               \n",
       " [7] \"id.y\"                   \"name\"                   \"read\"                  \n",
       "[10] \"pattern\"                \"sequence\"               \"feature_type\"          \n",
       "[13] \"X\"                      \"in_sample\"              \"measurement_tp\"        \n",
       "[16] \"sc_rna_seq_data\"        \"age\"                    \"sex\"                   \n",
       "[19] \"classification\"         \"group\"                  \"meta_data\"             \n",
       "[22] \"delta_ef_value_group\"   \"delta_ef_value\"         \"delta_ef_value_class\"  \n",
       "[25] \"ef_classification_data\" \"CK\"                     \"CK_MB\"                 \n",
       "[28] \"Troponin\"               \"CRP\"                    \"clinical_data\"         \n",
       "[31] \"merge_id\"              "
      ]
     },
     "metadata": {},
     "output_type": "display_data"
    }
   ],
   "source": [
    "colnames(sample_data)"
   ]
  },
  {
   "cell_type": "code",
   "execution_count": null,
   "id": "e0157aa5-32ec-47fa-8669-fec7b3f9c2ee",
   "metadata": {},
   "outputs": [],
   "source": []
  },
  {
   "cell_type": "markdown",
   "id": "ea402e6c-4c11-409e-9947-c0192fcf50cc",
   "metadata": {},
   "source": [
    "### Pre-Process"
   ]
  },
  {
   "cell_type": "markdown",
   "id": "88c33417-3557-4d0b-a88d-d27eee145db5",
   "metadata": {
    "tags": []
   },
   "source": [
    "#### Remove Clusters"
   ]
  },
  {
   "cell_type": "code",
   "execution_count": 253,
   "id": "c6e43a61-0831-4d7d-ae34-96498bda6e9b",
   "metadata": {},
   "outputs": [],
   "source": [
    "### Filte pb on relevant clusters"
   ]
  },
  {
   "cell_type": "code",
   "execution_count": 254,
   "id": "2ab94567-5b05-451a-ad2a-1bc12f328e74",
   "metadata": {},
   "outputs": [
    {
     "data": {
      "text/plain": [
       "class: SingleCellExperiment \n",
       "dim: 19221 121 \n",
       "metadata(2): experiment_info agg_pars\n",
       "assays(19): 0_T-cell-CD4 1_T-cell-CD8 ... 8_B-cell 9_Monocytes -\n",
       "  CD16_FCGR3A\n",
       "rownames(19221): AL627309.1 AL627309.4 ... AC004556.1 AC240274.1\n",
       "rowData names(0):\n",
       "colnames(121): 1.1-L1 10-L11 ... 9.2-L4 9.3-L7\n",
       "colData names(26): group_id classification_measurement ... library_char\n",
       "  ident\n",
       "reducedDimNames(0):\n",
       "mainExpName: NULL\n",
       "altExpNames(0):"
      ]
     },
     "metadata": {},
     "output_type": "display_data"
    }
   ],
   "source": [
    "pb"
   ]
  },
  {
   "cell_type": "code",
   "execution_count": 255,
   "id": "c2ec746e-c721-43ce-9351-fc944bd10538",
   "metadata": {},
   "outputs": [
    {
     "data": {
      "text/html": [
       "<style>\n",
       ".list-inline {list-style: none; margin:0; padding: 0}\n",
       ".list-inline>li {display: inline-block}\n",
       ".list-inline>li:not(:last-child)::after {content: \"\\00b7\"; padding: 0 .5ex}\n",
       "</style>\n",
       "<ol class=list-inline><li>'0_T-cell-CD4'</li><li>'1_T-cell-CD8'</li><li>'10_B-cell'</li><li>'11_T-cell-CD4'</li><li>'12_Monocytes - CD16_FCGR3A'</li><li>'13_Dendritic'</li><li>'14_Other'</li><li>'15_Plasma Blast'</li><li>'16_Plasma Blast'</li><li>'17_Progenitor'</li><li>'18_Megakaryocytes'</li><li>'2_T-cell-CD4'</li><li>'3_NK'</li><li>'4_Monocytes - CD14'</li><li>'5_T-cell-CD4'</li><li>'6_Monocytes - CD14'</li><li>'7_Monocytes - CD14'</li><li>'8_B-cell'</li><li>'9_Monocytes - CD16_FCGR3A'</li></ol>\n"
      ],
      "text/latex": [
       "\\begin{enumerate*}\n",
       "\\item '0\\_T-cell-CD4'\n",
       "\\item '1\\_T-cell-CD8'\n",
       "\\item '10\\_B-cell'\n",
       "\\item '11\\_T-cell-CD4'\n",
       "\\item '12\\_Monocytes - CD16\\_FCGR3A'\n",
       "\\item '13\\_Dendritic'\n",
       "\\item '14\\_Other'\n",
       "\\item '15\\_Plasma Blast'\n",
       "\\item '16\\_Plasma Blast'\n",
       "\\item '17\\_Progenitor'\n",
       "\\item '18\\_Megakaryocytes'\n",
       "\\item '2\\_T-cell-CD4'\n",
       "\\item '3\\_NK'\n",
       "\\item '4\\_Monocytes - CD14'\n",
       "\\item '5\\_T-cell-CD4'\n",
       "\\item '6\\_Monocytes - CD14'\n",
       "\\item '7\\_Monocytes - CD14'\n",
       "\\item '8\\_B-cell'\n",
       "\\item '9\\_Monocytes - CD16\\_FCGR3A'\n",
       "\\end{enumerate*}\n"
      ],
      "text/markdown": [
       "1. '0_T-cell-CD4'\n",
       "2. '1_T-cell-CD8'\n",
       "3. '10_B-cell'\n",
       "4. '11_T-cell-CD4'\n",
       "5. '12_Monocytes - CD16_FCGR3A'\n",
       "6. '13_Dendritic'\n",
       "7. '14_Other'\n",
       "8. '15_Plasma Blast'\n",
       "9. '16_Plasma Blast'\n",
       "10. '17_Progenitor'\n",
       "11. '18_Megakaryocytes'\n",
       "12. '2_T-cell-CD4'\n",
       "13. '3_NK'\n",
       "14. '4_Monocytes - CD14'\n",
       "15. '5_T-cell-CD4'\n",
       "16. '6_Monocytes - CD14'\n",
       "17. '7_Monocytes - CD14'\n",
       "18. '8_B-cell'\n",
       "19. '9_Monocytes - CD16_FCGR3A'\n",
       "\n",
       "\n"
      ],
      "text/plain": [
       " [1] \"0_T-cell-CD4\"               \"1_T-cell-CD8\"              \n",
       " [3] \"10_B-cell\"                  \"11_T-cell-CD4\"             \n",
       " [5] \"12_Monocytes - CD16_FCGR3A\" \"13_Dendritic\"              \n",
       " [7] \"14_Other\"                   \"15_Plasma Blast\"           \n",
       " [9] \"16_Plasma Blast\"            \"17_Progenitor\"             \n",
       "[11] \"18_Megakaryocytes\"          \"2_T-cell-CD4\"              \n",
       "[13] \"3_NK\"                       \"4_Monocytes - CD14\"        \n",
       "[15] \"5_T-cell-CD4\"               \"6_Monocytes - CD14\"        \n",
       "[17] \"7_Monocytes - CD14\"         \"8_B-cell\"                  \n",
       "[19] \"9_Monocytes - CD16_FCGR3A\" "
      ]
     },
     "metadata": {},
     "output_type": "display_data"
    }
   ],
   "source": [
    "names(assays(pb))"
   ]
  },
  {
   "cell_type": "code",
   "execution_count": 256,
   "id": "880d1bfe-8a88-4bbe-8236-3fb588b08d0f",
   "metadata": {},
   "outputs": [],
   "source": [
    "assay(pb, '18_Megakaryocytes') = NULL"
   ]
  },
  {
   "cell_type": "code",
   "execution_count": 257,
   "id": "e556a823-e04c-4842-836a-16c85929bde3",
   "metadata": {},
   "outputs": [],
   "source": [
    "assay(pb, 'Megakaryocytes') = NULL"
   ]
  },
  {
   "cell_type": "code",
   "execution_count": 258,
   "id": "f273aa46-adbe-4732-8096-b41278b8a2b1",
   "metadata": {},
   "outputs": [],
   "source": [
    "assay(pb, '17_Progenitor') = NULL"
   ]
  },
  {
   "cell_type": "code",
   "execution_count": 259,
   "id": "0ec31400-05f7-439c-b1c6-09d76c5b8090",
   "metadata": {},
   "outputs": [],
   "source": [
    "assay(pb, 'Progenitor') = NULL"
   ]
  },
  {
   "cell_type": "code",
   "execution_count": 260,
   "id": "e5efddf0-b670-4962-b2cc-bcfb832ba464",
   "metadata": {},
   "outputs": [],
   "source": [
    "assay(pb, '16_Plasma Blast') = NULL"
   ]
  },
  {
   "cell_type": "code",
   "execution_count": 261,
   "id": "c389c15c-b22a-4bab-a6d0-24819f730082",
   "metadata": {},
   "outputs": [],
   "source": [
    "assay(pb, 'Plasma Blast') = NULL"
   ]
  },
  {
   "cell_type": "code",
   "execution_count": 262,
   "id": "570dfeb6-2e00-4a5e-b4d3-70d828d3434a",
   "metadata": {},
   "outputs": [],
   "source": [
    "assay(pb, '15_Plasma Blast') = NULL"
   ]
  },
  {
   "cell_type": "code",
   "execution_count": 263,
   "id": "7820b3b0-d4d0-455b-80bf-b0dbb083eaf3",
   "metadata": {},
   "outputs": [],
   "source": [
    "assay(pb, 'Plasma Blast') = NULL"
   ]
  },
  {
   "cell_type": "code",
   "execution_count": 264,
   "id": "54396915-81a1-4077-ac86-ce3e10e65246",
   "metadata": {},
   "outputs": [],
   "source": [
    "assay(pb, '14_Other') = NULL"
   ]
  },
  {
   "cell_type": "code",
   "execution_count": 265,
   "id": "d1273e46-3a6b-46bb-964c-86f017065bfa",
   "metadata": {},
   "outputs": [],
   "source": [
    "assay(pb, 'Other') = NULL"
   ]
  },
  {
   "cell_type": "code",
   "execution_count": 266,
   "id": "b6b359e8-e33c-498b-a478-e7552347b026",
   "metadata": {},
   "outputs": [
    {
     "data": {
      "text/html": [
       "14"
      ],
      "text/latex": [
       "14"
      ],
      "text/markdown": [
       "14"
      ],
      "text/plain": [
       "[1] 14"
      ]
     },
     "metadata": {},
     "output_type": "display_data"
    }
   ],
   "source": [
    "length(names(assays(pb)))"
   ]
  },
  {
   "cell_type": "markdown",
   "id": "54f466a9-8adf-411b-9bc1-2c4bee89e2c0",
   "metadata": {
    "tags": []
   },
   "source": [
    "#### Prepare gene-cluster dataframe + normalize"
   ]
  },
  {
   "cell_type": "code",
   "execution_count": 267,
   "id": "0f72167b-2470-45f5-bc32-7d09fce925be",
   "metadata": {},
   "outputs": [
    {
     "data": {
      "text/plain": [
       "List of length 14\n",
       "names(14): 0_T-cell-CD4 1_T-cell-CD8 ... 8_B-cell 9_Monocytes - CD16_FCGR3A"
      ]
     },
     "metadata": {},
     "output_type": "display_data"
    }
   ],
   "source": [
    "assays(pb)"
   ]
  },
  {
   "cell_type": "code",
   "execution_count": 268,
   "id": "8e963884-4b83-4b09-ada9-c31e07a04f73",
   "metadata": {},
   "outputs": [],
   "source": [
    "#head(assay(pb, '1_T-cell-CD8'))"
   ]
  },
  {
   "cell_type": "code",
   "execution_count": 269,
   "id": "63e8afb0-0b4e-4011-89ab-7898e71fd35b",
   "metadata": {},
   "outputs": [],
   "source": [
    "nodes = names(assays(pb))"
   ]
  },
  {
   "cell_type": "code",
   "execution_count": 270,
   "id": "75b94158-0241-49d9-a4e8-5a278d9e6945",
   "metadata": {},
   "outputs": [
    {
     "data": {
      "text/html": [
       "<style>\n",
       ".list-inline {list-style: none; margin:0; padding: 0}\n",
       ".list-inline>li {display: inline-block}\n",
       ".list-inline>li:not(:last-child)::after {content: \"\\00b7\"; padding: 0 .5ex}\n",
       "</style>\n",
       "<ol class=list-inline><li>'0_T-cell-CD4'</li><li>'1_T-cell-CD8'</li><li>'10_B-cell'</li><li>'11_T-cell-CD4'</li><li>'12_Monocytes - CD16_FCGR3A'</li><li>'13_Dendritic'</li></ol>\n"
      ],
      "text/latex": [
       "\\begin{enumerate*}\n",
       "\\item '0\\_T-cell-CD4'\n",
       "\\item '1\\_T-cell-CD8'\n",
       "\\item '10\\_B-cell'\n",
       "\\item '11\\_T-cell-CD4'\n",
       "\\item '12\\_Monocytes - CD16\\_FCGR3A'\n",
       "\\item '13\\_Dendritic'\n",
       "\\end{enumerate*}\n"
      ],
      "text/markdown": [
       "1. '0_T-cell-CD4'\n",
       "2. '1_T-cell-CD8'\n",
       "3. '10_B-cell'\n",
       "4. '11_T-cell-CD4'\n",
       "5. '12_Monocytes - CD16_FCGR3A'\n",
       "6. '13_Dendritic'\n",
       "\n",
       "\n"
      ],
      "text/plain": [
       "[1] \"0_T-cell-CD4\"               \"1_T-cell-CD8\"              \n",
       "[3] \"10_B-cell\"                  \"11_T-cell-CD4\"             \n",
       "[5] \"12_Monocytes - CD16_FCGR3A\" \"13_Dendritic\"              "
      ]
     },
     "metadata": {},
     "output_type": "display_data"
    }
   ],
   "source": [
    "head(nodes)"
   ]
  },
  {
   "cell_type": "code",
   "execution_count": 271,
   "id": "d03fa488-a573-4154-9ffe-ab407522db0c",
   "metadata": {},
   "outputs": [],
   "source": [
    "cell_types = nodes"
   ]
  },
  {
   "cell_type": "code",
   "execution_count": 272,
   "id": "0d7035e0-6fb8-40e1-aa75-12d0cedbfca2",
   "metadata": {},
   "outputs": [],
   "source": [
    "#nodes = nodes[1:3]"
   ]
  },
  {
   "cell_type": "code",
   "execution_count": 273,
   "id": "8218ee21-779c-48d9-9c6a-d4a6d70bc860",
   "metadata": {},
   "outputs": [],
   "source": [
    "final_data = data.frame(samples = colnames(pb))"
   ]
  },
  {
   "cell_type": "code",
   "execution_count": 274,
   "id": "7dd49f74-7d9d-443b-981a-e773917541c5",
   "metadata": {},
   "outputs": [],
   "source": [
    "final_data_vis = data.frame(samples = colnames(pb))"
   ]
  },
  {
   "cell_type": "code",
   "execution_count": 275,
   "id": "aacc4e05-29e6-434d-b220-bef013bc004b",
   "metadata": {},
   "outputs": [],
   "source": [
    "rownames(final_data) = final_data$samples"
   ]
  },
  {
   "cell_type": "code",
   "execution_count": 276,
   "id": "677bf8e0-d45d-4377-9617-935d682c03fc",
   "metadata": {},
   "outputs": [],
   "source": [
    "rownames(final_data_vis) = final_data_vis$samples"
   ]
  },
  {
   "cell_type": "code",
   "execution_count": 277,
   "id": "ac629724-203b-41e0-9fcb-79ada6d2baa7",
   "metadata": {},
   "outputs": [
    {
     "data": {
      "text/html": [
       "<table class=\"dataframe\">\n",
       "<caption>A data.frame: 2 × 5</caption>\n",
       "<thead>\n",
       "\t<tr><th></th><th scope=col>X</th><th scope=col>perc_cells_expressing_gene</th><th scope=col>total_amount_cells_expressing_gene</th><th scope=col>gene</th><th scope=col>cluster</th></tr>\n",
       "\t<tr><th></th><th scope=col>&lt;chr&gt;</th><th scope=col>&lt;dbl&gt;</th><th scope=col>&lt;int&gt;</th><th scope=col>&lt;chr&gt;</th><th scope=col>&lt;chr&gt;</th></tr>\n",
       "</thead>\n",
       "<tbody>\n",
       "\t<tr><th scope=row>1</th><td>AL627309.1</td><td>0.24327612</td><td>18</td><td>AL627309.1</td><td>8_B-cell</td></tr>\n",
       "\t<tr><th scope=row>2</th><td>AL627309.4</td><td>0.05406136</td><td> 4</td><td>AL627309.4</td><td>8_B-cell</td></tr>\n",
       "</tbody>\n",
       "</table>\n"
      ],
      "text/latex": [
       "A data.frame: 2 × 5\n",
       "\\begin{tabular}{r|lllll}\n",
       "  & X & perc\\_cells\\_expressing\\_gene & total\\_amount\\_cells\\_expressing\\_gene & gene & cluster\\\\\n",
       "  & <chr> & <dbl> & <int> & <chr> & <chr>\\\\\n",
       "\\hline\n",
       "\t1 & AL627309.1 & 0.24327612 & 18 & AL627309.1 & 8\\_B-cell\\\\\n",
       "\t2 & AL627309.4 & 0.05406136 &  4 & AL627309.4 & 8\\_B-cell\\\\\n",
       "\\end{tabular}\n"
      ],
      "text/markdown": [
       "\n",
       "A data.frame: 2 × 5\n",
       "\n",
       "| <!--/--> | X &lt;chr&gt; | perc_cells_expressing_gene &lt;dbl&gt; | total_amount_cells_expressing_gene &lt;int&gt; | gene &lt;chr&gt; | cluster &lt;chr&gt; |\n",
       "|---|---|---|---|---|---|\n",
       "| 1 | AL627309.1 | 0.24327612 | 18 | AL627309.1 | 8_B-cell |\n",
       "| 2 | AL627309.4 | 0.05406136 |  4 | AL627309.4 | 8_B-cell |\n",
       "\n"
      ],
      "text/plain": [
       "  X          perc_cells_expressing_gene total_amount_cells_expressing_gene\n",
       "1 AL627309.1 0.24327612                 18                                \n",
       "2 AL627309.4 0.05406136                  4                                \n",
       "  gene       cluster \n",
       "1 AL627309.1 8_B-cell\n",
       "2 AL627309.4 8_B-cell"
      ]
     },
     "metadata": {},
     "output_type": "display_data"
    }
   ],
   "source": [
    "head(genes_subset,2)"
   ]
  },
  {
   "cell_type": "code",
   "execution_count": 278,
   "id": "105d628f-b255-47cd-a599-591bd7aae547",
   "metadata": {},
   "outputs": [
    {
     "data": {
      "text/html": [
       "<style>\n",
       ".list-inline {list-style: none; margin:0; padding: 0}\n",
       ".list-inline>li {display: inline-block}\n",
       ".list-inline>li:not(:last-child)::after {content: \"\\00b7\"; padding: 0 .5ex}\n",
       "</style>\n",
       "<ol class=list-inline><li>'0_T-cell-CD4'</li><li>'1_T-cell-CD8'</li><li>'10_B-cell'</li><li>'11_T-cell-CD4'</li><li>'12_Monocytes - CD16_FCGR3A'</li><li>'13_Dendritic'</li><li>'2_T-cell-CD4'</li><li>'3_NK'</li><li>'4_Monocytes - CD14'</li><li>'5_T-cell-CD4'</li><li>'6_Monocytes - CD14'</li><li>'7_Monocytes - CD14'</li><li>'8_B-cell'</li><li>'9_Monocytes - CD16_FCGR3A'</li></ol>\n"
      ],
      "text/latex": [
       "\\begin{enumerate*}\n",
       "\\item '0\\_T-cell-CD4'\n",
       "\\item '1\\_T-cell-CD8'\n",
       "\\item '10\\_B-cell'\n",
       "\\item '11\\_T-cell-CD4'\n",
       "\\item '12\\_Monocytes - CD16\\_FCGR3A'\n",
       "\\item '13\\_Dendritic'\n",
       "\\item '2\\_T-cell-CD4'\n",
       "\\item '3\\_NK'\n",
       "\\item '4\\_Monocytes - CD14'\n",
       "\\item '5\\_T-cell-CD4'\n",
       "\\item '6\\_Monocytes - CD14'\n",
       "\\item '7\\_Monocytes - CD14'\n",
       "\\item '8\\_B-cell'\n",
       "\\item '9\\_Monocytes - CD16\\_FCGR3A'\n",
       "\\end{enumerate*}\n"
      ],
      "text/markdown": [
       "1. '0_T-cell-CD4'\n",
       "2. '1_T-cell-CD8'\n",
       "3. '10_B-cell'\n",
       "4. '11_T-cell-CD4'\n",
       "5. '12_Monocytes - CD16_FCGR3A'\n",
       "6. '13_Dendritic'\n",
       "7. '2_T-cell-CD4'\n",
       "8. '3_NK'\n",
       "9. '4_Monocytes - CD14'\n",
       "10. '5_T-cell-CD4'\n",
       "11. '6_Monocytes - CD14'\n",
       "12. '7_Monocytes - CD14'\n",
       "13. '8_B-cell'\n",
       "14. '9_Monocytes - CD16_FCGR3A'\n",
       "\n",
       "\n"
      ],
      "text/plain": [
       " [1] \"0_T-cell-CD4\"               \"1_T-cell-CD8\"              \n",
       " [3] \"10_B-cell\"                  \"11_T-cell-CD4\"             \n",
       " [5] \"12_Monocytes - CD16_FCGR3A\" \"13_Dendritic\"              \n",
       " [7] \"2_T-cell-CD4\"               \"3_NK\"                      \n",
       " [9] \"4_Monocytes - CD14\"         \"5_T-cell-CD4\"              \n",
       "[11] \"6_Monocytes - CD14\"         \"7_Monocytes - CD14\"        \n",
       "[13] \"8_B-cell\"                   \"9_Monocytes - CD16_FCGR3A\" "
      ]
     },
     "metadata": {},
     "output_type": "display_data"
    }
   ],
   "source": [
    "nodes"
   ]
  },
  {
   "cell_type": "code",
   "execution_count": 279,
   "id": "3f6e360b-8244-4d38-870d-298cf228b43e",
   "metadata": {},
   "outputs": [],
   "source": [
    "genes_subset$cluster = str_extract(genes_subset$cluster, paste0(nodes, collapse = '|'))"
   ]
  },
  {
   "cell_type": "code",
   "execution_count": 280,
   "id": "75647d01-1f0c-44da-8cc9-50bcf9715a3c",
   "metadata": {},
   "outputs": [],
   "source": [
    "genes_subset = na.omit(genes_subset)"
   ]
  },
  {
   "cell_type": "code",
   "execution_count": 281,
   "id": "f3b72622-c59a-4083-96b2-231c5a230d66",
   "metadata": {},
   "outputs": [
    {
     "data": {
      "text/html": [
       "<style>\n",
       ".list-inline {list-style: none; margin:0; padding: 0}\n",
       ".list-inline>li {display: inline-block}\n",
       ".list-inline>li:not(:last-child)::after {content: \"\\00b7\"; padding: 0 .5ex}\n",
       "</style>\n",
       "<ol class=list-inline><li>'8_B-cell'</li><li>'9_Monocytes - CD16_FCGR3A'</li><li>'5_T-cell-CD4'</li><li>'0_T-cell-CD4'</li><li>'1_T-cell-CD8'</li><li>'6_Monocytes - CD14'</li><li>'2_T-cell-CD4'</li><li>'4_Monocytes - CD14'</li><li>'11_T-cell-CD4'</li><li>'3_NK'</li><li>'7_Monocytes - CD14'</li><li>'13_Dendritic'</li><li>'10_B-cell'</li><li>'12_Monocytes - CD16_FCGR3A'</li></ol>\n"
      ],
      "text/latex": [
       "\\begin{enumerate*}\n",
       "\\item '8\\_B-cell'\n",
       "\\item '9\\_Monocytes - CD16\\_FCGR3A'\n",
       "\\item '5\\_T-cell-CD4'\n",
       "\\item '0\\_T-cell-CD4'\n",
       "\\item '1\\_T-cell-CD8'\n",
       "\\item '6\\_Monocytes - CD14'\n",
       "\\item '2\\_T-cell-CD4'\n",
       "\\item '4\\_Monocytes - CD14'\n",
       "\\item '11\\_T-cell-CD4'\n",
       "\\item '3\\_NK'\n",
       "\\item '7\\_Monocytes - CD14'\n",
       "\\item '13\\_Dendritic'\n",
       "\\item '10\\_B-cell'\n",
       "\\item '12\\_Monocytes - CD16\\_FCGR3A'\n",
       "\\end{enumerate*}\n"
      ],
      "text/markdown": [
       "1. '8_B-cell'\n",
       "2. '9_Monocytes - CD16_FCGR3A'\n",
       "3. '5_T-cell-CD4'\n",
       "4. '0_T-cell-CD4'\n",
       "5. '1_T-cell-CD8'\n",
       "6. '6_Monocytes - CD14'\n",
       "7. '2_T-cell-CD4'\n",
       "8. '4_Monocytes - CD14'\n",
       "9. '11_T-cell-CD4'\n",
       "10. '3_NK'\n",
       "11. '7_Monocytes - CD14'\n",
       "12. '13_Dendritic'\n",
       "13. '10_B-cell'\n",
       "14. '12_Monocytes - CD16_FCGR3A'\n",
       "\n",
       "\n"
      ],
      "text/plain": [
       " [1] \"8_B-cell\"                   \"9_Monocytes - CD16_FCGR3A\" \n",
       " [3] \"5_T-cell-CD4\"               \"0_T-cell-CD4\"              \n",
       " [5] \"1_T-cell-CD8\"               \"6_Monocytes - CD14\"        \n",
       " [7] \"2_T-cell-CD4\"               \"4_Monocytes - CD14\"        \n",
       " [9] \"11_T-cell-CD4\"              \"3_NK\"                      \n",
       "[11] \"7_Monocytes - CD14\"         \"13_Dendritic\"              \n",
       "[13] \"10_B-cell\"                  \"12_Monocytes - CD16_FCGR3A\""
      ]
     },
     "metadata": {},
     "output_type": "display_data"
    }
   ],
   "source": [
    "unique(genes_subset$cluster)"
   ]
  },
  {
   "cell_type": "code",
   "execution_count": 282,
   "id": "1552bb04-d3d0-4b0b-a626-f46b69d21674",
   "metadata": {},
   "outputs": [],
   "source": [
    "### Alternative define new gene_subset"
   ]
  },
  {
   "cell_type": "code",
   "execution_count": 283,
   "id": "bc06d0c0-8f1b-4e73-8815-241fe4d1914a",
   "metadata": {},
   "outputs": [],
   "source": [
    "genes_subset = cell_perc_cluster"
   ]
  },
  {
   "cell_type": "code",
   "execution_count": 284,
   "id": "dd4a37c3-d26c-4c5b-ad73-dfd47a9a7b89",
   "metadata": {},
   "outputs": [
    {
     "data": {
      "text/html": [
       "TRUE"
      ],
      "text/latex": [
       "TRUE"
      ],
      "text/markdown": [
       "TRUE"
      ],
      "text/plain": [
       "[1] TRUE"
      ]
     },
     "metadata": {},
     "output_type": "display_data"
    }
   ],
   "source": [
    "is.na(str_extract(name, 'scano'))"
   ]
  },
  {
   "cell_type": "code",
   "execution_count": 285,
   "id": "6622ed8c-ffd8-4747-a46e-88a0bbfb9fb3",
   "metadata": {
    "tags": []
   },
   "outputs": [],
   "source": [
    "\n",
    "for(i in nodes){\n",
    "    data = assay(pb, i)\n",
    "\n",
    "\n",
    "    ##### Normalize counts per sample (library size) - currently only for non-scanorama functions\n",
    "\n",
    "    if(is.na(str_extract(name, 'scano')) == TRUE){\n",
    "        scaling_factor = colSums(data) /mean(colSums(data))\n",
    "\n",
    "        for (j in 1:ncol(data)){\n",
    "            if(scaling_factor[j] != 0){\n",
    "                data[,j] = data[,j]/ scaling_factor[j]\n",
    "                }\n",
    "            }\n",
    "        }\n",
    "\n",
    "    ### Subset data on genes with minimum expression in cluster\n",
    "    data = data[rownames(data) %in% genes_subset$gene[genes_subset$cluster == i],]\n",
    "\n",
    "    ### Alternative - cluster independent subsetting\n",
    "    #data = data[rownames(data) %in% genes_subset,]\n",
    "\n",
    "    ##### TBD pre-processing stepd\n",
    "\n",
    "    if(is.na(str_extract(name, 'scano')) == TRUE){\n",
    "        data = log2(data+1) # logarithmize count values (optional!)\n",
    "        }\n",
    "\n",
    "    #### Quantile normalization (TBD maybe also on complete dataset?)\n",
    "\n",
    "    if(quantile_normalization_single_cell == TRUE){\n",
    "        data_rows = rownames(data)\n",
    "        data  = quantile_normalization(data ) \n",
    "        rownames(data) = data_rows\n",
    "        }\n",
    "\n",
    "    rownames(data) = paste0(i, '__' ,rownames(data))\n",
    "\n",
    "    data = data.frame(t(data))\n",
    "\n",
    "    expr_mean = data.frame( mean_expr = rowMeans(data))\n",
    "    colnames(expr_mean) = i\n",
    "    rownames(expr_mean) = rownames(data)\n",
    "\n",
    "    final_data = merge(final_data, data, by = 0)\n",
    "    final_data_vis = merge(final_data_vis, expr_mean, by = 0)\n",
    "\n",
    "    rownames(final_data) =  final_data$Row.names\n",
    "    rownames(final_data_vis) = final_data_vis$Row.names\n",
    "    final_data$Row.names = NULL\n",
    "    final_data_vis$Row.names = NULL\n",
    "    }\n",
    "\n",
    "   "
   ]
  },
  {
   "cell_type": "code",
   "execution_count": 286,
   "id": "d9326c7f-edcd-48bb-8259-7dc4aa848db7",
   "metadata": {},
   "outputs": [
    {
     "data": {
      "text/html": [
       "13172"
      ],
      "text/latex": [
       "13172"
      ],
      "text/markdown": [
       "13172"
      ],
      "text/plain": [
       "[1] 13172"
      ]
     },
     "metadata": {},
     "output_type": "display_data"
    }
   ],
   "source": [
    "ncol(final_data)"
   ]
  },
  {
   "cell_type": "code",
   "execution_count": 287,
   "id": "7558c7b2-ea51-4944-956e-402c4f0f0fd3",
   "metadata": {},
   "outputs": [],
   "source": [
    "### Distribution of 0 in final data"
   ]
  },
  {
   "cell_type": "code",
   "execution_count": 288,
   "id": "7036ec4d-9a87-4a57-9ae1-819768e6c0e1",
   "metadata": {},
   "outputs": [],
   "source": [
    "sample_data$sample_merge = paste0(sample_data$id, '-', sample_data$library)"
   ]
  },
  {
   "cell_type": "code",
   "execution_count": 289,
   "id": "cc1f694d-d632-424d-9d19-06bdb8231fd3",
   "metadata": {},
   "outputs": [],
   "source": [
    "#head(sample_data)"
   ]
  },
  {
   "cell_type": "code",
   "execution_count": 290,
   "id": "765c2159-c028-43d3-aa54-cb9af5a58ca4",
   "metadata": {},
   "outputs": [
    {
     "data": {
      "text/html": [
       "<style>\n",
       ".list-inline {list-style: none; margin:0; padding: 0}\n",
       ".list-inline>li {display: inline-block}\n",
       ".list-inline>li:not(:last-child)::after {content: \"\\00b7\"; padding: 0 .5ex}\n",
       "</style>\n",
       "<ol class=list-inline><li>121</li><li>13172</li></ol>\n"
      ],
      "text/latex": [
       "\\begin{enumerate*}\n",
       "\\item 121\n",
       "\\item 13172\n",
       "\\end{enumerate*}\n"
      ],
      "text/markdown": [
       "1. 121\n",
       "2. 13172\n",
       "\n",
       "\n"
      ],
      "text/plain": [
       "[1]   121 13172"
      ]
     },
     "metadata": {},
     "output_type": "display_data"
    }
   ],
   "source": [
    "dim(final_data)"
   ]
  },
  {
   "cell_type": "code",
   "execution_count": 291,
   "id": "82f43872-9831-4778-bb88-3667b27e37bf",
   "metadata": {},
   "outputs": [],
   "source": [
    "final_data = merge(final_data, sample_data[,c('sample_id', 'sample_merge')], by.x = 'samples', by.y = 'sample_merge')"
   ]
  },
  {
   "cell_type": "code",
   "execution_count": 292,
   "id": "fc46a954-31de-49f2-b115-19def41c526d",
   "metadata": {},
   "outputs": [
    {
     "data": {
      "text/html": [
       "<style>\n",
       ".list-inline {list-style: none; margin:0; padding: 0}\n",
       ".list-inline>li {display: inline-block}\n",
       ".list-inline>li:not(:last-child)::after {content: \"\\00b7\"; padding: 0 .5ex}\n",
       "</style>\n",
       "<ol class=list-inline><li>121</li><li>13173</li></ol>\n"
      ],
      "text/latex": [
       "\\begin{enumerate*}\n",
       "\\item 121\n",
       "\\item 13173\n",
       "\\end{enumerate*}\n"
      ],
      "text/markdown": [
       "1. 121\n",
       "2. 13173\n",
       "\n",
       "\n"
      ],
      "text/plain": [
       "[1]   121 13173"
      ]
     },
     "metadata": {},
     "output_type": "display_data"
    }
   ],
   "source": [
    "dim(final_data)"
   ]
  },
  {
   "cell_type": "code",
   "execution_count": 293,
   "id": "a0acac70-8922-414b-b2e6-040364860dbd",
   "metadata": {},
   "outputs": [],
   "source": [
    "rownames(final_data)  = final_data$samples"
   ]
  },
  {
   "cell_type": "code",
   "execution_count": null,
   "id": "c805da20-6931-444e-916d-81447a3f2b9d",
   "metadata": {},
   "outputs": [],
   "source": []
  },
  {
   "cell_type": "code",
   "execution_count": 294,
   "id": "5d93a37a-d90d-450b-bd25-474032dd3fe6",
   "metadata": {},
   "outputs": [],
   "source": [
    "#head(final_data_vis)"
   ]
  },
  {
   "cell_type": "code",
   "execution_count": 295,
   "id": "5c06c24a-b219-40cf-8678-681ff67d5dc9",
   "metadata": {},
   "outputs": [
    {
     "data": {
      "text/html": [
       "<style>\n",
       ".list-inline {list-style: none; margin:0; padding: 0}\n",
       ".list-inline>li {display: inline-block}\n",
       ".list-inline>li:not(:last-child)::after {content: \"\\00b7\"; padding: 0 .5ex}\n",
       "</style>\n",
       "<ol class=list-inline><li>121</li><li>13173</li></ol>\n"
      ],
      "text/latex": [
       "\\begin{enumerate*}\n",
       "\\item 121\n",
       "\\item 13173\n",
       "\\end{enumerate*}\n"
      ],
      "text/markdown": [
       "1. 121\n",
       "2. 13173\n",
       "\n",
       "\n"
      ],
      "text/plain": [
       "[1]   121 13173"
      ]
     },
     "metadata": {},
     "output_type": "display_data"
    }
   ],
   "source": [
    "dim(final_data)"
   ]
  },
  {
   "cell_type": "code",
   "execution_count": 296,
   "id": "d5a34670-0c30-4c23-8060-5eb10a67b2cf",
   "metadata": {},
   "outputs": [
    {
     "data": {
      "text/html": [
       "<style>\n",
       ".list-inline {list-style: none; margin:0; padding: 0}\n",
       ".list-inline>li {display: inline-block}\n",
       ".list-inline>li:not(:last-child)::after {content: \"\\00b7\"; padding: 0 .5ex}\n",
       "</style>\n",
       "<ol class=list-inline><li>121</li><li>15</li></ol>\n"
      ],
      "text/latex": [
       "\\begin{enumerate*}\n",
       "\\item 121\n",
       "\\item 15\n",
       "\\end{enumerate*}\n"
      ],
      "text/markdown": [
       "1. 121\n",
       "2. 15\n",
       "\n",
       "\n"
      ],
      "text/plain": [
       "[1] 121  15"
      ]
     },
     "metadata": {},
     "output_type": "display_data"
    }
   ],
   "source": [
    "dim(final_data_vis)"
   ]
  },
  {
   "cell_type": "markdown",
   "id": "2e628404-1c8a-476c-971b-ac9407503c56",
   "metadata": {
    "tags": []
   },
   "source": [
    "#### Filter genes"
   ]
  },
  {
   "cell_type": "code",
   "execution_count": 297,
   "id": "3d784b2d-67b7-47bb-8899-adb95b586664",
   "metadata": {},
   "outputs": [],
   "source": [
    "### Remove mitochondrial & ribosomal genes"
   ]
  },
  {
   "cell_type": "code",
   "execution_count": 298,
   "id": "6bf9857a-5121-4e08-b5da-15ad5fb36775",
   "metadata": {},
   "outputs": [
    {
     "data": {
      "text/html": [
       "13173"
      ],
      "text/latex": [
       "13173"
      ],
      "text/markdown": [
       "13173"
      ],
      "text/plain": [
       "[1] 13173"
      ]
     },
     "metadata": {},
     "output_type": "display_data"
    }
   ],
   "source": [
    "ncol(final_data)"
   ]
  },
  {
   "cell_type": "code",
   "execution_count": 299,
   "id": "ee3e532e-21e6-4146-8ea1-59a44a5d0d90",
   "metadata": {},
   "outputs": [],
   "source": [
    "final_data = final_data[, !colnames(final_data) %in% (colnames(final_data)[!is.na(str_extract(colnames(final_data), '__MT.*|__RPL.*|__RPS.*'))])]"
   ]
  },
  {
   "cell_type": "code",
   "execution_count": 300,
   "id": "368b9415-3ff2-40ff-83a8-fc4e3087f805",
   "metadata": {},
   "outputs": [
    {
     "data": {
      "text/html": [
       "11833"
      ],
      "text/latex": [
       "11833"
      ],
      "text/markdown": [
       "11833"
      ],
      "text/plain": [
       "[1] 11833"
      ]
     },
     "metadata": {},
     "output_type": "display_data"
    }
   ],
   "source": [
    "ncol(final_data)   "
   ]
  },
  {
   "cell_type": "code",
   "execution_count": 301,
   "id": "17e6cb1f-2c95-439e-aa9f-19f3395ab831",
   "metadata": {},
   "outputs": [],
   "source": [
    "## Genes with high variance"
   ]
  },
  {
   "cell_type": "code",
   "execution_count": 302,
   "id": "631bdd4d-8536-46e0-8afa-0fd125b6cb0c",
   "metadata": {},
   "outputs": [],
   "source": [
    "final_data$samples = NULL"
   ]
  },
  {
   "cell_type": "code",
   "execution_count": 303,
   "id": "981f0097-0508-45d6-aa9c-5325e970020a",
   "metadata": {},
   "outputs": [],
   "source": [
    "final_data$sample_id = NULL"
   ]
  },
  {
   "cell_type": "code",
   "execution_count": 304,
   "id": "50b86f08-c4e6-4719-b4d7-50048f60afca",
   "metadata": {},
   "outputs": [],
   "source": [
    "gene_variance = apply(final_data, 2, function(x) {var( x,na.rm = TRUE)})"
   ]
  },
  {
   "cell_type": "code",
   "execution_count": 305,
   "id": "36bd8cd9-a1b7-4079-b8f9-97c8cd5c1bb2",
   "metadata": {},
   "outputs": [
    {
     "data": {
      "text/html": [
       "<style>\n",
       ".dl-inline {width: auto; margin:0; padding: 0}\n",
       ".dl-inline>dt, .dl-inline>dd {float: none; width: auto; display: inline-block}\n",
       ".dl-inline>dt::after {content: \":\\0020\"; padding-right: .5ex}\n",
       ".dl-inline>dt:not(:first-of-type) {padding-left: .5ex}\n",
       "</style><dl class=dl-inline><dt>X0_T.cell.CD4__SSU72</dt><dd>0.00488679556512767</dd><dt>X0_T.cell.CD4__PARK7</dt><dd>0.00821013419143039</dd><dt>X0_T.cell.CD4__ENO1</dt><dd>0.00808753607408217</dd><dt>X0_T.cell.CD4__CAPZB</dt><dd>0.00502251626175219</dd><dt>X0_T.cell.CD4__HP1BP3</dt><dd>0.0108186236333374</dd><dt>X0_T.cell.CD4__CDC42</dt><dd>0.01336370347604</dd></dl>\n"
      ],
      "text/latex": [
       "\\begin{description*}\n",
       "\\item[X0\\textbackslash{}\\_T.cell.CD4\\textbackslash{}\\_\\textbackslash{}\\_SSU72] 0.00488679556512767\n",
       "\\item[X0\\textbackslash{}\\_T.cell.CD4\\textbackslash{}\\_\\textbackslash{}\\_PARK7] 0.00821013419143039\n",
       "\\item[X0\\textbackslash{}\\_T.cell.CD4\\textbackslash{}\\_\\textbackslash{}\\_ENO1] 0.00808753607408217\n",
       "\\item[X0\\textbackslash{}\\_T.cell.CD4\\textbackslash{}\\_\\textbackslash{}\\_CAPZB] 0.00502251626175219\n",
       "\\item[X0\\textbackslash{}\\_T.cell.CD4\\textbackslash{}\\_\\textbackslash{}\\_HP1BP3] 0.0108186236333374\n",
       "\\item[X0\\textbackslash{}\\_T.cell.CD4\\textbackslash{}\\_\\textbackslash{}\\_CDC42] 0.01336370347604\n",
       "\\end{description*}\n"
      ],
      "text/markdown": [
       "X0_T.cell.CD4__SSU72\n",
       ":   0.00488679556512767X0_T.cell.CD4__PARK7\n",
       ":   0.00821013419143039X0_T.cell.CD4__ENO1\n",
       ":   0.00808753607408217X0_T.cell.CD4__CAPZB\n",
       ":   0.00502251626175219X0_T.cell.CD4__HP1BP3\n",
       ":   0.0108186236333374X0_T.cell.CD4__CDC42\n",
       ":   0.01336370347604\n",
       "\n"
      ],
      "text/plain": [
       " X0_T.cell.CD4__SSU72  X0_T.cell.CD4__PARK7   X0_T.cell.CD4__ENO1 \n",
       "          0.004886796           0.008210134           0.008087536 \n",
       " X0_T.cell.CD4__CAPZB X0_T.cell.CD4__HP1BP3  X0_T.cell.CD4__CDC42 \n",
       "          0.005022516           0.010818624           0.013363703 "
      ]
     },
     "metadata": {},
     "output_type": "display_data"
    }
   ],
   "source": [
    "head(gene_variance)"
   ]
  },
  {
   "cell_type": "code",
   "execution_count": 306,
   "id": "46dad8f9-db5d-438d-b051-cf0e16f12ece",
   "metadata": {},
   "outputs": [],
   "source": [
    "gene_variance_per_type = data.frame(var = names(gene_variance), type = str_replace(names(gene_variance), '__.*', ''), variance = gene_variance)"
   ]
  },
  {
   "cell_type": "code",
   "execution_count": 307,
   "id": "5585bfba-0ae5-453a-98a3-1c5406f4da5b",
   "metadata": {},
   "outputs": [
    {
     "data": {
      "text/html": [
       "<table class=\"dataframe\">\n",
       "<caption>A data.frame: 2 × 3</caption>\n",
       "<thead>\n",
       "\t<tr><th></th><th scope=col>var</th><th scope=col>type</th><th scope=col>variance</th></tr>\n",
       "\t<tr><th></th><th scope=col>&lt;chr&gt;</th><th scope=col>&lt;chr&gt;</th><th scope=col>&lt;dbl&gt;</th></tr>\n",
       "</thead>\n",
       "<tbody>\n",
       "\t<tr><th scope=row>X0_T.cell.CD4__SSU72</th><td>X0_T.cell.CD4__SSU72</td><td>X0_T.cell.CD4</td><td>0.004886796</td></tr>\n",
       "\t<tr><th scope=row>X0_T.cell.CD4__PARK7</th><td>X0_T.cell.CD4__PARK7</td><td>X0_T.cell.CD4</td><td>0.008210134</td></tr>\n",
       "</tbody>\n",
       "</table>\n"
      ],
      "text/latex": [
       "A data.frame: 2 × 3\n",
       "\\begin{tabular}{r|lll}\n",
       "  & var & type & variance\\\\\n",
       "  & <chr> & <chr> & <dbl>\\\\\n",
       "\\hline\n",
       "\tX0\\_T.cell.CD4\\_\\_SSU72 & X0\\_T.cell.CD4\\_\\_SSU72 & X0\\_T.cell.CD4 & 0.004886796\\\\\n",
       "\tX0\\_T.cell.CD4\\_\\_PARK7 & X0\\_T.cell.CD4\\_\\_PARK7 & X0\\_T.cell.CD4 & 0.008210134\\\\\n",
       "\\end{tabular}\n"
      ],
      "text/markdown": [
       "\n",
       "A data.frame: 2 × 3\n",
       "\n",
       "| <!--/--> | var &lt;chr&gt; | type &lt;chr&gt; | variance &lt;dbl&gt; |\n",
       "|---|---|---|---|\n",
       "| X0_T.cell.CD4__SSU72 | X0_T.cell.CD4__SSU72 | X0_T.cell.CD4 | 0.004886796 |\n",
       "| X0_T.cell.CD4__PARK7 | X0_T.cell.CD4__PARK7 | X0_T.cell.CD4 | 0.008210134 |\n",
       "\n"
      ],
      "text/plain": [
       "                     var                  type          variance   \n",
       "X0_T.cell.CD4__SSU72 X0_T.cell.CD4__SSU72 X0_T.cell.CD4 0.004886796\n",
       "X0_T.cell.CD4__PARK7 X0_T.cell.CD4__PARK7 X0_T.cell.CD4 0.008210134"
      ]
     },
     "metadata": {},
     "output_type": "display_data"
    }
   ],
   "source": [
    "head(gene_variance_per_type,2)"
   ]
  },
  {
   "cell_type": "code",
   "execution_count": 308,
   "id": "77390501-4a43-4a87-97f8-6817239e441f",
   "metadata": {},
   "outputs": [],
   "source": [
    "var_threshold = quantile(gene_variance, probs = seq(0, 1, 0.01), na.rm = FALSE,\n",
    "         names = TRUE)['25%']"
   ]
  },
  {
   "cell_type": "code",
   "execution_count": 309,
   "id": "6769ff4d-6e8b-47e3-a9a3-4c3ead540e9d",
   "metadata": {},
   "outputs": [
    {
     "data": {
      "text/html": [
       "11831"
      ],
      "text/latex": [
       "11831"
      ],
      "text/markdown": [
       "11831"
      ],
      "text/plain": [
       "[1] 11831"
      ]
     },
     "metadata": {},
     "output_type": "display_data"
    }
   ],
   "source": [
    "length(gene_variance)"
   ]
  },
  {
   "cell_type": "code",
   "execution_count": 310,
   "id": "7ad28d36-8967-4b2f-a65c-b8f1770bd2a6",
   "metadata": {},
   "outputs": [
    {
     "data": {
      "text/html": [
       "<strong>25%:</strong> 0.020886072194515"
      ],
      "text/latex": [
       "\\textbf{25\\textbackslash{}\\%:} 0.020886072194515"
      ],
      "text/markdown": [
       "**25%:** 0.020886072194515"
      ],
      "text/plain": [
       "       25% \n",
       "0.02088607 "
      ]
     },
     "metadata": {},
     "output_type": "display_data"
    }
   ],
   "source": [
    "var_threshold"
   ]
  },
  {
   "cell_type": "code",
   "execution_count": 311,
   "id": "daf386c9-e11d-4d98-b3b0-2361e6f8f45d",
   "metadata": {},
   "outputs": [],
   "source": [
    "keep_genes = names(gene_variance[gene_variance > var_threshold])"
   ]
  },
  {
   "cell_type": "code",
   "execution_count": 312,
   "id": "446ebdf9-e802-4986-b5db-c3c0e57dac10",
   "metadata": {},
   "outputs": [
    {
     "data": {
      "text/html": [
       "11831"
      ],
      "text/latex": [
       "11831"
      ],
      "text/markdown": [
       "11831"
      ],
      "text/plain": [
       "[1] 11831"
      ]
     },
     "metadata": {},
     "output_type": "display_data"
    }
   ],
   "source": [
    "ncol(final_data)"
   ]
  },
  {
   "cell_type": "code",
   "execution_count": 313,
   "id": "d944bd0e-e43f-49e2-9da9-6db17f1ec8d3",
   "metadata": {},
   "outputs": [
    {
     "data": {
      "text/html": [
       "<style>\n",
       ".list-inline {list-style: none; margin:0; padding: 0}\n",
       ".list-inline>li {display: inline-block}\n",
       ".list-inline>li:not(:last-child)::after {content: \"\\00b7\"; padding: 0 .5ex}\n",
       "</style>\n",
       "<ol class=list-inline><li>'X0_T.cell.CD4__CD52'</li><li>'X0_T.cell.CD4__SNHG12'</li><li>'X0_T.cell.CD4__MARCKSL1'</li><li>'X0_T.cell.CD4__SMAP2'</li><li>'X0_T.cell.CD4__PRDX1'</li><li>'X0_T.cell.CD4__NASP'</li></ol>\n"
      ],
      "text/latex": [
       "\\begin{enumerate*}\n",
       "\\item 'X0\\_T.cell.CD4\\_\\_CD52'\n",
       "\\item 'X0\\_T.cell.CD4\\_\\_SNHG12'\n",
       "\\item 'X0\\_T.cell.CD4\\_\\_MARCKSL1'\n",
       "\\item 'X0\\_T.cell.CD4\\_\\_SMAP2'\n",
       "\\item 'X0\\_T.cell.CD4\\_\\_PRDX1'\n",
       "\\item 'X0\\_T.cell.CD4\\_\\_NASP'\n",
       "\\end{enumerate*}\n"
      ],
      "text/markdown": [
       "1. 'X0_T.cell.CD4__CD52'\n",
       "2. 'X0_T.cell.CD4__SNHG12'\n",
       "3. 'X0_T.cell.CD4__MARCKSL1'\n",
       "4. 'X0_T.cell.CD4__SMAP2'\n",
       "5. 'X0_T.cell.CD4__PRDX1'\n",
       "6. 'X0_T.cell.CD4__NASP'\n",
       "\n",
       "\n"
      ],
      "text/plain": [
       "[1] \"X0_T.cell.CD4__CD52\"     \"X0_T.cell.CD4__SNHG12\"  \n",
       "[3] \"X0_T.cell.CD4__MARCKSL1\" \"X0_T.cell.CD4__SMAP2\"   \n",
       "[5] \"X0_T.cell.CD4__PRDX1\"    \"X0_T.cell.CD4__NASP\"    "
      ]
     },
     "metadata": {},
     "output_type": "display_data"
    }
   ],
   "source": [
    "head(keep_genes)"
   ]
  },
  {
   "cell_type": "code",
   "execution_count": 314,
   "id": "21051e95-b62f-43f1-a336-b0e0f8921ae7",
   "metadata": {},
   "outputs": [],
   "source": [
    "remove_genes = names(gene_variance[gene_variance <= var_threshold])"
   ]
  },
  {
   "cell_type": "code",
   "execution_count": 315,
   "id": "d9de6410-530c-4d9b-8a4d-52d88600b716",
   "metadata": {},
   "outputs": [
    {
     "data": {
      "text/html": [
       "11831"
      ],
      "text/latex": [
       "11831"
      ],
      "text/markdown": [
       "11831"
      ],
      "text/plain": [
       "[1] 11831"
      ]
     },
     "metadata": {},
     "output_type": "display_data"
    }
   ],
   "source": [
    "ncol(final_data)"
   ]
  },
  {
   "cell_type": "code",
   "execution_count": 316,
   "id": "cb95742b-b2b0-4543-af77-2bafb84d71fd",
   "metadata": {},
   "outputs": [],
   "source": [
    "final_data$samples = rownames(final_data)"
   ]
  },
  {
   "cell_type": "code",
   "execution_count": 317,
   "id": "77084f25-d89d-4894-8a60-868c5bb2df5e",
   "metadata": {},
   "outputs": [],
   "source": [
    "final_data = merge(final_data, sample_data[,c('sample_id', 'sample_merge')], by.x = 'samples', by.y = 'sample_merge')"
   ]
  },
  {
   "cell_type": "code",
   "execution_count": null,
   "id": "719ca661-328f-47ec-bb03-c40541fa155c",
   "metadata": {},
   "outputs": [],
   "source": []
  },
  {
   "cell_type": "code",
   "execution_count": null,
   "id": "8cb6fb64-3873-4b36-9016-a905d92c2856",
   "metadata": {},
   "outputs": [],
   "source": []
  },
  {
   "cell_type": "markdown",
   "id": "487d00c5-5986-4ebe-aefa-203ef6d2b39d",
   "metadata": {
    "tags": []
   },
   "source": [
    "#### Prepare long format"
   ]
  },
  {
   "cell_type": "code",
   "execution_count": 318,
   "id": "eb6228f2-8a4c-4646-a044-8ae3f3b30839",
   "metadata": {},
   "outputs": [
    {
     "name": "stderr",
     "output_type": "stream",
     "text": [
      "Using samples, sample_id as id variables\n",
      "\n"
     ]
    }
   ],
   "source": [
    "final_data_long = melt(final_data)"
   ]
  },
  {
   "cell_type": "code",
   "execution_count": 319,
   "id": "279acdcf-11bb-4929-91a3-299d172c956e",
   "metadata": {},
   "outputs": [],
   "source": [
    "### Decide what to do with duplicates"
   ]
  },
  {
   "cell_type": "code",
   "execution_count": 320,
   "id": "82d4226d-8acb-40fb-84c1-16a4f8dbdc13",
   "metadata": {},
   "outputs": [
    {
     "data": {
      "text/html": [
       "<table class=\"dataframe\">\n",
       "<caption>A data.frame: 2 × 4</caption>\n",
       "<thead>\n",
       "\t<tr><th></th><th scope=col>samples</th><th scope=col>sample_id</th><th scope=col>variable</th><th scope=col>value</th></tr>\n",
       "\t<tr><th></th><th scope=col>&lt;chr&gt;</th><th scope=col>&lt;chr&gt;</th><th scope=col>&lt;fct&gt;</th><th scope=col>&lt;dbl&gt;</th></tr>\n",
       "</thead>\n",
       "<tbody>\n",
       "\t<tr><th scope=row>1</th><td>1.1-L1</td><td>m1.1</td><td>X0_T.cell.CD4__SSU72</td><td>0.5662586</td></tr>\n",
       "\t<tr><th scope=row>2</th><td>10-L11</td><td>k10 </td><td>X0_T.cell.CD4__SSU72</td><td>0.5896835</td></tr>\n",
       "</tbody>\n",
       "</table>\n"
      ],
      "text/latex": [
       "A data.frame: 2 × 4\n",
       "\\begin{tabular}{r|llll}\n",
       "  & samples & sample\\_id & variable & value\\\\\n",
       "  & <chr> & <chr> & <fct> & <dbl>\\\\\n",
       "\\hline\n",
       "\t1 & 1.1-L1 & m1.1 & X0\\_T.cell.CD4\\_\\_SSU72 & 0.5662586\\\\\n",
       "\t2 & 10-L11 & k10  & X0\\_T.cell.CD4\\_\\_SSU72 & 0.5896835\\\\\n",
       "\\end{tabular}\n"
      ],
      "text/markdown": [
       "\n",
       "A data.frame: 2 × 4\n",
       "\n",
       "| <!--/--> | samples &lt;chr&gt; | sample_id &lt;chr&gt; | variable &lt;fct&gt; | value &lt;dbl&gt; |\n",
       "|---|---|---|---|---|\n",
       "| 1 | 1.1-L1 | m1.1 | X0_T.cell.CD4__SSU72 | 0.5662586 |\n",
       "| 2 | 10-L11 | k10  | X0_T.cell.CD4__SSU72 | 0.5896835 |\n",
       "\n"
      ],
      "text/plain": [
       "  samples sample_id variable             value    \n",
       "1 1.1-L1  m1.1      X0_T.cell.CD4__SSU72 0.5662586\n",
       "2 10-L11  k10       X0_T.cell.CD4__SSU72 0.5896835"
      ]
     },
     "metadata": {},
     "output_type": "display_data"
    }
   ],
   "source": [
    "head(final_data_long,2)"
   ]
  },
  {
   "cell_type": "code",
   "execution_count": 321,
   "id": "fe10bcc7-da9f-450a-8dc8-dae6782b30fe",
   "metadata": {},
   "outputs": [
    {
     "data": {
      "text/html": [
       "FALSE"
      ],
      "text/latex": [
       "FALSE"
      ],
      "text/markdown": [
       "FALSE"
      ],
      "text/plain": [
       "[1] FALSE"
      ]
     },
     "metadata": {},
     "output_type": "display_data"
    }
   ],
   "source": [
    "add_duplicates"
   ]
  },
  {
   "cell_type": "code",
   "execution_count": 322,
   "id": "3065ac6d-31d5-4d4a-bafd-f7f4bf4541bd",
   "metadata": {},
   "outputs": [],
   "source": [
    "if(add_duplicates == TRUE){\n",
    "    final_data_long$sample_id[final_data_long$samples == '13.2-L6']  = 'm13.22'      #13.2-L5, 13.2-L6\t, 6.4-L10, 6.4-L14\t\n",
    "    final_data_long$sample_id[final_data_long$samples == '6.4-L14']  = 'm6.42'\n",
    "    }\n"
   ]
  },
  {
   "cell_type": "code",
   "execution_count": 323,
   "id": "219c03bd-7bcf-415b-9982-25876f1de2e1",
   "metadata": {},
   "outputs": [],
   "source": [
    "final_data_long$samples = NULL"
   ]
  },
  {
   "cell_type": "code",
   "execution_count": 324,
   "id": "74f9facf-b53f-45b0-9912-857e609c649c",
   "metadata": {},
   "outputs": [],
   "source": [
    "final_data_long$type = 'single_cell'"
   ]
  },
  {
   "cell_type": "code",
   "execution_count": 325,
   "id": "8218b0e2-79fc-4b3b-973e-6af51b949dc9",
   "metadata": {},
   "outputs": [
    {
     "name": "stderr",
     "output_type": "stream",
     "text": [
      "\u001b[1m\u001b[22m`summarise()` has grouped output by 'sample_id', 'type'. You can override using\n",
      "the `.groups` argument.\n"
     ]
    }
   ],
   "source": [
    "final_data_long = final_data_long %>% group_by(sample_id, type, variable) %>% summarise(value = mean(value))  # take average for samples measured twice"
   ]
  },
  {
   "cell_type": "code",
   "execution_count": 326,
   "id": "ed665109-cd9f-4a20-a9cb-7a6113dbc71e",
   "metadata": {},
   "outputs": [
    {
     "data": {
      "text/html": [
       "<style>\n",
       ".list-inline {list-style: none; margin:0; padding: 0}\n",
       ".list-inline>li {display: inline-block}\n",
       ".list-inline>li:not(:last-child)::after {content: \"\\00b7\"; padding: 0 .5ex}\n",
       "</style>\n",
       "<ol class=list-inline><li>'k10'</li><li>'k11'</li><li>'k12'</li><li>'k13'</li><li>'k14'</li><li>'k15'</li><li>'k16'</li><li>'k17'</li><li>'k18'</li><li>'k19'</li><li>'k2'</li><li>'k20'</li><li>'k21'</li><li>'k22'</li><li>'k23'</li><li>'k24'</li><li>'k25'</li><li>'k26'</li><li>'k27'</li><li>'k28'</li><li>'k29'</li><li>'k3'</li><li>'k30'</li><li>'k31'</li><li>'k32'</li><li>'k33'</li><li>'k34'</li><li>'k4'</li><li>'k5'</li><li>'k6'</li><li>'k7'</li><li>'k8'</li><li>'k9'</li><li>'m1.1'</li><li>'m10.2'</li><li>'m10.3'</li><li>'m11.2'</li><li>'m11.3'</li><li>'m11.4'</li><li>'m12.1'</li><li>'m12.2'</li><li>'m13.1'</li><li>'m13.2'</li><li>'m13.3'</li><li>'m13.4'</li><li>'m14.1'</li><li>'m14.2'</li><li>'m15.1'</li><li>'m15.2'</li><li>'m15.3'</li><li>'m15.4'</li><li>'m16.1'</li><li>'m16.2'</li><li>'m17.1'</li><li>'m18.1'</li><li>'m18.2'</li><li>'m18.3'</li><li>'m19.1'</li><li>'m19.2'</li><li>'m19.3'</li><li>'m2.1'</li><li>'m2.2'</li><li>'m2.3'</li><li>'m2.4'</li><li>'m20.3'</li><li>'m20.4'</li><li>'m21.1'</li><li>'m21.2'</li><li>'m21.3'</li><li>'m21.4'</li><li>'m22.1'</li><li>'m22.2'</li><li>'m22.3'</li><li>'m22.4'</li><li>'m23.1'</li><li>'m23.2'</li><li>'m23.3'</li><li>'m23.4'</li><li>'m24.2'</li><li>'m24.3'</li><li>'m24.4'</li><li>'m25.1'</li><li>'m25.2'</li><li>'m25.3'</li><li>'m26.1'</li><li>'m26.2'</li><li>'m26.3'</li><li>'m26.4'</li><li>'m27.1'</li><li>'m27.2'</li><li>'m27.3'</li><li>'m28.2'</li><li>'m28.3'</li><li>'m28.4'</li><li>'m3.2'</li><li>'m3.3'</li><li>'m3.4'</li><li>'m4.1'</li><li>'m4.2'</li><li>'m4.3'</li><li>'m4.4'</li><li>'m5.1'</li><li>'m5.3'</li><li>'m5.4'</li><li>'m6.1'</li><li>'m6.2'</li><li>'m6.3'</li><li>'m6.4'</li><li>'m7.1'</li><li>'m7.2'</li><li>'m7.3'</li><li>'m7.4'</li><li>'m8.1'</li><li>'m8.2'</li><li>'m8.3'</li><li>'m8.4'</li><li>'m9.1'</li><li>'m9.2'</li><li>'m9.3'</li></ol>\n"
      ],
      "text/latex": [
       "\\begin{enumerate*}\n",
       "\\item 'k10'\n",
       "\\item 'k11'\n",
       "\\item 'k12'\n",
       "\\item 'k13'\n",
       "\\item 'k14'\n",
       "\\item 'k15'\n",
       "\\item 'k16'\n",
       "\\item 'k17'\n",
       "\\item 'k18'\n",
       "\\item 'k19'\n",
       "\\item 'k2'\n",
       "\\item 'k20'\n",
       "\\item 'k21'\n",
       "\\item 'k22'\n",
       "\\item 'k23'\n",
       "\\item 'k24'\n",
       "\\item 'k25'\n",
       "\\item 'k26'\n",
       "\\item 'k27'\n",
       "\\item 'k28'\n",
       "\\item 'k29'\n",
       "\\item 'k3'\n",
       "\\item 'k30'\n",
       "\\item 'k31'\n",
       "\\item 'k32'\n",
       "\\item 'k33'\n",
       "\\item 'k34'\n",
       "\\item 'k4'\n",
       "\\item 'k5'\n",
       "\\item 'k6'\n",
       "\\item 'k7'\n",
       "\\item 'k8'\n",
       "\\item 'k9'\n",
       "\\item 'm1.1'\n",
       "\\item 'm10.2'\n",
       "\\item 'm10.3'\n",
       "\\item 'm11.2'\n",
       "\\item 'm11.3'\n",
       "\\item 'm11.4'\n",
       "\\item 'm12.1'\n",
       "\\item 'm12.2'\n",
       "\\item 'm13.1'\n",
       "\\item 'm13.2'\n",
       "\\item 'm13.3'\n",
       "\\item 'm13.4'\n",
       "\\item 'm14.1'\n",
       "\\item 'm14.2'\n",
       "\\item 'm15.1'\n",
       "\\item 'm15.2'\n",
       "\\item 'm15.3'\n",
       "\\item 'm15.4'\n",
       "\\item 'm16.1'\n",
       "\\item 'm16.2'\n",
       "\\item 'm17.1'\n",
       "\\item 'm18.1'\n",
       "\\item 'm18.2'\n",
       "\\item 'm18.3'\n",
       "\\item 'm19.1'\n",
       "\\item 'm19.2'\n",
       "\\item 'm19.3'\n",
       "\\item 'm2.1'\n",
       "\\item 'm2.2'\n",
       "\\item 'm2.3'\n",
       "\\item 'm2.4'\n",
       "\\item 'm20.3'\n",
       "\\item 'm20.4'\n",
       "\\item 'm21.1'\n",
       "\\item 'm21.2'\n",
       "\\item 'm21.3'\n",
       "\\item 'm21.4'\n",
       "\\item 'm22.1'\n",
       "\\item 'm22.2'\n",
       "\\item 'm22.3'\n",
       "\\item 'm22.4'\n",
       "\\item 'm23.1'\n",
       "\\item 'm23.2'\n",
       "\\item 'm23.3'\n",
       "\\item 'm23.4'\n",
       "\\item 'm24.2'\n",
       "\\item 'm24.3'\n",
       "\\item 'm24.4'\n",
       "\\item 'm25.1'\n",
       "\\item 'm25.2'\n",
       "\\item 'm25.3'\n",
       "\\item 'm26.1'\n",
       "\\item 'm26.2'\n",
       "\\item 'm26.3'\n",
       "\\item 'm26.4'\n",
       "\\item 'm27.1'\n",
       "\\item 'm27.2'\n",
       "\\item 'm27.3'\n",
       "\\item 'm28.2'\n",
       "\\item 'm28.3'\n",
       "\\item 'm28.4'\n",
       "\\item 'm3.2'\n",
       "\\item 'm3.3'\n",
       "\\item 'm3.4'\n",
       "\\item 'm4.1'\n",
       "\\item 'm4.2'\n",
       "\\item 'm4.3'\n",
       "\\item 'm4.4'\n",
       "\\item 'm5.1'\n",
       "\\item 'm5.3'\n",
       "\\item 'm5.4'\n",
       "\\item 'm6.1'\n",
       "\\item 'm6.2'\n",
       "\\item 'm6.3'\n",
       "\\item 'm6.4'\n",
       "\\item 'm7.1'\n",
       "\\item 'm7.2'\n",
       "\\item 'm7.3'\n",
       "\\item 'm7.4'\n",
       "\\item 'm8.1'\n",
       "\\item 'm8.2'\n",
       "\\item 'm8.3'\n",
       "\\item 'm8.4'\n",
       "\\item 'm9.1'\n",
       "\\item 'm9.2'\n",
       "\\item 'm9.3'\n",
       "\\end{enumerate*}\n"
      ],
      "text/markdown": [
       "1. 'k10'\n",
       "2. 'k11'\n",
       "3. 'k12'\n",
       "4. 'k13'\n",
       "5. 'k14'\n",
       "6. 'k15'\n",
       "7. 'k16'\n",
       "8. 'k17'\n",
       "9. 'k18'\n",
       "10. 'k19'\n",
       "11. 'k2'\n",
       "12. 'k20'\n",
       "13. 'k21'\n",
       "14. 'k22'\n",
       "15. 'k23'\n",
       "16. 'k24'\n",
       "17. 'k25'\n",
       "18. 'k26'\n",
       "19. 'k27'\n",
       "20. 'k28'\n",
       "21. 'k29'\n",
       "22. 'k3'\n",
       "23. 'k30'\n",
       "24. 'k31'\n",
       "25. 'k32'\n",
       "26. 'k33'\n",
       "27. 'k34'\n",
       "28. 'k4'\n",
       "29. 'k5'\n",
       "30. 'k6'\n",
       "31. 'k7'\n",
       "32. 'k8'\n",
       "33. 'k9'\n",
       "34. 'm1.1'\n",
       "35. 'm10.2'\n",
       "36. 'm10.3'\n",
       "37. 'm11.2'\n",
       "38. 'm11.3'\n",
       "39. 'm11.4'\n",
       "40. 'm12.1'\n",
       "41. 'm12.2'\n",
       "42. 'm13.1'\n",
       "43. 'm13.2'\n",
       "44. 'm13.3'\n",
       "45. 'm13.4'\n",
       "46. 'm14.1'\n",
       "47. 'm14.2'\n",
       "48. 'm15.1'\n",
       "49. 'm15.2'\n",
       "50. 'm15.3'\n",
       "51. 'm15.4'\n",
       "52. 'm16.1'\n",
       "53. 'm16.2'\n",
       "54. 'm17.1'\n",
       "55. 'm18.1'\n",
       "56. 'm18.2'\n",
       "57. 'm18.3'\n",
       "58. 'm19.1'\n",
       "59. 'm19.2'\n",
       "60. 'm19.3'\n",
       "61. 'm2.1'\n",
       "62. 'm2.2'\n",
       "63. 'm2.3'\n",
       "64. 'm2.4'\n",
       "65. 'm20.3'\n",
       "66. 'm20.4'\n",
       "67. 'm21.1'\n",
       "68. 'm21.2'\n",
       "69. 'm21.3'\n",
       "70. 'm21.4'\n",
       "71. 'm22.1'\n",
       "72. 'm22.2'\n",
       "73. 'm22.3'\n",
       "74. 'm22.4'\n",
       "75. 'm23.1'\n",
       "76. 'm23.2'\n",
       "77. 'm23.3'\n",
       "78. 'm23.4'\n",
       "79. 'm24.2'\n",
       "80. 'm24.3'\n",
       "81. 'm24.4'\n",
       "82. 'm25.1'\n",
       "83. 'm25.2'\n",
       "84. 'm25.3'\n",
       "85. 'm26.1'\n",
       "86. 'm26.2'\n",
       "87. 'm26.3'\n",
       "88. 'm26.4'\n",
       "89. 'm27.1'\n",
       "90. 'm27.2'\n",
       "91. 'm27.3'\n",
       "92. 'm28.2'\n",
       "93. 'm28.3'\n",
       "94. 'm28.4'\n",
       "95. 'm3.2'\n",
       "96. 'm3.3'\n",
       "97. 'm3.4'\n",
       "98. 'm4.1'\n",
       "99. 'm4.2'\n",
       "100. 'm4.3'\n",
       "101. 'm4.4'\n",
       "102. 'm5.1'\n",
       "103. 'm5.3'\n",
       "104. 'm5.4'\n",
       "105. 'm6.1'\n",
       "106. 'm6.2'\n",
       "107. 'm6.3'\n",
       "108. 'm6.4'\n",
       "109. 'm7.1'\n",
       "110. 'm7.2'\n",
       "111. 'm7.3'\n",
       "112. 'm7.4'\n",
       "113. 'm8.1'\n",
       "114. 'm8.2'\n",
       "115. 'm8.3'\n",
       "116. 'm8.4'\n",
       "117. 'm9.1'\n",
       "118. 'm9.2'\n",
       "119. 'm9.3'\n",
       "\n",
       "\n"
      ],
      "text/plain": [
       "  [1] \"k10\"   \"k11\"   \"k12\"   \"k13\"   \"k14\"   \"k15\"   \"k16\"   \"k17\"   \"k18\"  \n",
       " [10] \"k19\"   \"k2\"    \"k20\"   \"k21\"   \"k22\"   \"k23\"   \"k24\"   \"k25\"   \"k26\"  \n",
       " [19] \"k27\"   \"k28\"   \"k29\"   \"k3\"    \"k30\"   \"k31\"   \"k32\"   \"k33\"   \"k34\"  \n",
       " [28] \"k4\"    \"k5\"    \"k6\"    \"k7\"    \"k8\"    \"k9\"    \"m1.1\"  \"m10.2\" \"m10.3\"\n",
       " [37] \"m11.2\" \"m11.3\" \"m11.4\" \"m12.1\" \"m12.2\" \"m13.1\" \"m13.2\" \"m13.3\" \"m13.4\"\n",
       " [46] \"m14.1\" \"m14.2\" \"m15.1\" \"m15.2\" \"m15.3\" \"m15.4\" \"m16.1\" \"m16.2\" \"m17.1\"\n",
       " [55] \"m18.1\" \"m18.2\" \"m18.3\" \"m19.1\" \"m19.2\" \"m19.3\" \"m2.1\"  \"m2.2\"  \"m2.3\" \n",
       " [64] \"m2.4\"  \"m20.3\" \"m20.4\" \"m21.1\" \"m21.2\" \"m21.3\" \"m21.4\" \"m22.1\" \"m22.2\"\n",
       " [73] \"m22.3\" \"m22.4\" \"m23.1\" \"m23.2\" \"m23.3\" \"m23.4\" \"m24.2\" \"m24.3\" \"m24.4\"\n",
       " [82] \"m25.1\" \"m25.2\" \"m25.3\" \"m26.1\" \"m26.2\" \"m26.3\" \"m26.4\" \"m27.1\" \"m27.2\"\n",
       " [91] \"m27.3\" \"m28.2\" \"m28.3\" \"m28.4\" \"m3.2\"  \"m3.3\"  \"m3.4\"  \"m4.1\"  \"m4.2\" \n",
       "[100] \"m4.3\"  \"m4.4\"  \"m5.1\"  \"m5.3\"  \"m5.4\"  \"m6.1\"  \"m6.2\"  \"m6.3\"  \"m6.4\" \n",
       "[109] \"m7.1\"  \"m7.2\"  \"m7.3\"  \"m7.4\"  \"m8.1\"  \"m8.2\"  \"m8.3\"  \"m8.4\"  \"m9.1\" \n",
       "[118] \"m9.2\"  \"m9.3\" "
      ]
     },
     "metadata": {},
     "output_type": "display_data"
    }
   ],
   "source": [
    "sort(unique(final_data_long$sample_id))"
   ]
  },
  {
   "cell_type": "code",
   "execution_count": 327,
   "id": "32d677be-2ff8-4e80-8195-c0b653f1bac0",
   "metadata": {},
   "outputs": [
    {
     "data": {
      "text/html": [
       "11831"
      ],
      "text/latex": [
       "11831"
      ],
      "text/markdown": [
       "11831"
      ],
      "text/plain": [
       "[1] 11831"
      ]
     },
     "metadata": {},
     "output_type": "display_data"
    }
   ],
   "source": [
    "length(unique(final_data_long$variable))"
   ]
  },
  {
   "cell_type": "markdown",
   "id": "75ecfc6e-72a8-4e0d-8983-6531e7a81790",
   "metadata": {
    "tags": []
   },
   "source": [
    "# Integration of all data sources (V1 with gene-gene correletations)"
   ]
  },
  {
   "cell_type": "markdown",
   "id": "e22eb158-71ef-4639-be25-9670a86e8b65",
   "metadata": {},
   "source": [
    "## Combine all data sources"
   ]
  },
  {
   "cell_type": "code",
   "execution_count": 328,
   "id": "c9330e0d-94c7-40e4-b245-4a441bb325d1",
   "metadata": {},
   "outputs": [],
   "source": [
    "data_long = rbind(final_data_long, cytokines_long,proteomics_long, neutrophils_long, clinical_data_long )\n",
    "#data_long = rbind(final_data_long, cytokines_long,proteomics_long, neutrophils_long ) # vesion without clinical data"
   ]
  },
  {
   "cell_type": "code",
   "execution_count": 329,
   "id": "4704f9a4-89aa-48fc-be75-94aeea639f68",
   "metadata": {},
   "outputs": [
    {
     "data": {
      "text/html": [
       "11831"
      ],
      "text/latex": [
       "11831"
      ],
      "text/markdown": [
       "11831"
      ],
      "text/plain": [
       "[1] 11831"
      ]
     },
     "metadata": {},
     "output_type": "display_data"
    }
   ],
   "source": [
    "length(unique(final_data_long$variable))"
   ]
  },
  {
   "cell_type": "code",
   "execution_count": 330,
   "id": "cfde29df-575a-495b-82fe-b4b978b939ba",
   "metadata": {},
   "outputs": [
    {
     "data": {
      "text/html": [
       "<table class=\"dataframe\">\n",
       "<caption>A grouped_df: 2 × 4</caption>\n",
       "<thead>\n",
       "\t<tr><th scope=col>sample_id</th><th scope=col>type</th><th scope=col>variable</th><th scope=col>value</th></tr>\n",
       "\t<tr><th scope=col>&lt;chr&gt;</th><th scope=col>&lt;chr&gt;</th><th scope=col>&lt;chr&gt;</th><th scope=col>&lt;dbl&gt;</th></tr>\n",
       "</thead>\n",
       "<tbody>\n",
       "\t<tr><td>k10</td><td>single_cell</td><td>X0_T.cell.CD4__SSU72</td><td>0.5896835</td></tr>\n",
       "\t<tr><td>k10</td><td>single_cell</td><td>X0_T.cell.CD4__PARK7</td><td>0.8587511</td></tr>\n",
       "</tbody>\n",
       "</table>\n"
      ],
      "text/latex": [
       "A grouped\\_df: 2 × 4\n",
       "\\begin{tabular}{llll}\n",
       " sample\\_id & type & variable & value\\\\\n",
       " <chr> & <chr> & <chr> & <dbl>\\\\\n",
       "\\hline\n",
       "\t k10 & single\\_cell & X0\\_T.cell.CD4\\_\\_SSU72 & 0.5896835\\\\\n",
       "\t k10 & single\\_cell & X0\\_T.cell.CD4\\_\\_PARK7 & 0.8587511\\\\\n",
       "\\end{tabular}\n"
      ],
      "text/markdown": [
       "\n",
       "A grouped_df: 2 × 4\n",
       "\n",
       "| sample_id &lt;chr&gt; | type &lt;chr&gt; | variable &lt;chr&gt; | value &lt;dbl&gt; |\n",
       "|---|---|---|---|\n",
       "| k10 | single_cell | X0_T.cell.CD4__SSU72 | 0.5896835 |\n",
       "| k10 | single_cell | X0_T.cell.CD4__PARK7 | 0.8587511 |\n",
       "\n"
      ],
      "text/plain": [
       "  sample_id type        variable             value    \n",
       "1 k10       single_cell X0_T.cell.CD4__SSU72 0.5896835\n",
       "2 k10       single_cell X0_T.cell.CD4__PARK7 0.8587511"
      ]
     },
     "metadata": {},
     "output_type": "display_data"
    }
   ],
   "source": [
    "head(data_long,2)"
   ]
  },
  {
   "cell_type": "code",
   "execution_count": 331,
   "id": "d0f50eb3-14e4-4259-8f63-52a6d8f2bc11",
   "metadata": {},
   "outputs": [
    {
     "data": {
      "text/html": [
       "13289"
      ],
      "text/latex": [
       "13289"
      ],
      "text/markdown": [
       "13289"
      ],
      "text/plain": [
       "[1] 13289"
      ]
     },
     "metadata": {},
     "output_type": "display_data"
    }
   ],
   "source": [
    "length(unique(data_long$variable))"
   ]
  },
  {
   "cell_type": "code",
   "execution_count": 332,
   "id": "33bbd23b-f311-49e1-9813-0b0db6f5ba34",
   "metadata": {},
   "outputs": [
    {
     "data": {
      "text/html": [
       "<style>\n",
       ".list-inline {list-style: none; margin:0; padding: 0}\n",
       ".list-inline>li {display: inline-block}\n",
       ".list-inline>li:not(:last-child)::after {content: \"\\00b7\"; padding: 0 .5ex}\n",
       "</style>\n",
       "<ol class=list-inline><li>'single_cell'</li><li>'cytokine'</li><li>'proteomics'</li><li>'neutrophil'</li><li>'clinical_data'</li></ol>\n"
      ],
      "text/latex": [
       "\\begin{enumerate*}\n",
       "\\item 'single\\_cell'\n",
       "\\item 'cytokine'\n",
       "\\item 'proteomics'\n",
       "\\item 'neutrophil'\n",
       "\\item 'clinical\\_data'\n",
       "\\end{enumerate*}\n"
      ],
      "text/markdown": [
       "1. 'single_cell'\n",
       "2. 'cytokine'\n",
       "3. 'proteomics'\n",
       "4. 'neutrophil'\n",
       "5. 'clinical_data'\n",
       "\n",
       "\n"
      ],
      "text/plain": [
       "[1] \"single_cell\"   \"cytokine\"      \"proteomics\"    \"neutrophil\"   \n",
       "[5] \"clinical_data\""
      ]
     },
     "metadata": {},
     "output_type": "display_data"
    }
   ],
   "source": [
    "unique(data_long$type)"
   ]
  },
  {
   "cell_type": "code",
   "execution_count": 333,
   "id": "1bd0b705-4d32-4a17-9675-3ebde533d699",
   "metadata": {},
   "outputs": [],
   "source": [
    "data_long$config = paste0(quantile_normalization_cyto, '-', quantile_normalization_proteomics, '-', quantile_normalization_neutrophils, '-', neutrophil_threshold, '-', regress_neutrophils, '-', library_adjustment_neutrophils, '-')"
   ]
  },
  {
   "cell_type": "code",
   "execution_count": 334,
   "id": "8be00546-bd9e-4f4a-b588-e52e47a298c7",
   "metadata": {},
   "outputs": [],
   "source": [
    "write.csv(data_long, paste0(result_path, '/E-Analysis/Combined_Data_', name, '.csv'))"
   ]
  },
  {
   "cell_type": "code",
   "execution_count": null,
   "id": "d1522252-bcfb-4973-8d2b-b191f636b4b6",
   "metadata": {},
   "outputs": [],
   "source": []
  }
 ],
 "metadata": {
  "kernelspec": {
   "display_name": "R",
   "language": "R",
   "name": "ir"
  },
  "language_info": {
   "codemirror_mode": "r",
   "file_extension": ".r",
   "mimetype": "text/x-r-source",
   "name": "R",
   "pygments_lexer": "r",
   "version": "4.1.1"
  },
  "toc-autonumbering": true
 },
 "nbformat": 4,
 "nbformat_minor": 5
}

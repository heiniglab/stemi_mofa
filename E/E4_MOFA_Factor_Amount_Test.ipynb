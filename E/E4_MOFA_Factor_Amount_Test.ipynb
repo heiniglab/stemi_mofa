{
 "cells": [
  {
   "cell_type": "code",
   "execution_count": 2,
   "id": "d182c426-4d95-4dee-a099-cd923e9437d7",
   "metadata": {
    "tags": []
   },
   "outputs": [],
   "source": [
    "### Test estimating MOFA with different amount of factors to evaluate the effect of the factor amount"
   ]
  },
  {
   "cell_type": "markdown",
   "id": "213d69de-4705-4a6e-9387-b1a3413172eb",
   "metadata": {
    "jp-MarkdownHeadingCollapsed": true,
    "tags": []
   },
   "source": [
    "#############################################\n",
    "# Prerequisites - Load Libraries"
   ]
  },
  {
   "cell_type": "code",
   "execution_count": 3,
   "id": "9957e32b-eaec-4762-95cd-e089cc1cdc60",
   "metadata": {
    "tags": []
   },
   "outputs": [],
   "source": [
    "source('MS0_Libraries.r')"
   ]
  },
  {
   "cell_type": "code",
   "execution_count": 12,
   "id": "45fcc655-2176-406c-9f49-5e5b9379a275",
   "metadata": {
    "tags": []
   },
   "outputs": [
    {
     "name": "stderr",
     "output_type": "stream",
     "text": [
      "Warning message:\n",
      "“\u001b[1m\u001b[22mThe `size` argument of `element_line()` is deprecated as of ggplot2 3.4.0.\n",
      "\u001b[36mℹ\u001b[39m Please use the `linewidth` argument instead.”\n"
     ]
    }
   ],
   "source": [
    "source('MS4_Plot_Config.r')"
   ]
  },
  {
   "cell_type": "markdown",
   "id": "9d409d14-a693-4722-9648-4b6bacb4b74a",
   "metadata": {
    "tags": []
   },
   "source": [
    "###############################################\n",
    "# Preqrequisites Configurations & Parameters"
   ]
  },
  {
   "cell_type": "code",
   "execution_count": 13,
   "id": "b64f1c5a-3b86-4251-81a1-96a6ee9ae377",
   "metadata": {},
   "outputs": [],
   "source": [
    "data_path = '../data/current'"
   ]
  },
  {
   "cell_type": "code",
   "execution_count": 14,
   "id": "22415b81-130b-4ded-9fde-52c2865e4d34",
   "metadata": {},
   "outputs": [],
   "source": [
    "result_path = '../results/current'"
   ]
  },
  {
   "cell_type": "code",
   "execution_count": 16,
   "id": "17c51dce-9c0d-4c0a-bbb1-6015d1743d4f",
   "metadata": {},
   "outputs": [],
   "source": [
    "name = 'V_FINAL_INTEGRATED'  # name of dataset to load"
   ]
  },
  {
   "cell_type": "markdown",
   "id": "67bf281c-f070-4ad4-b894-6f000cd9e9c3",
   "metadata": {
    "tags": []
   },
   "source": [
    "# Functions"
   ]
  },
  {
   "cell_type": "code",
   "execution_count": 17,
   "id": "1c83032a-17e5-4dca-8e0d-b75f30fa3dd7",
   "metadata": {},
   "outputs": [],
   "source": [
    "### Function for quantile normalization\n",
    "\n",
    "quantile_normalization = function(X){\n",
    "  set.seed(42)\n",
    "  ranks = apply(X, 2, rank, ties.method = 'min')  # determine ranks of each entry\n",
    "  \n",
    "  sorted = data.frame(apply(X, 2, sort)) # sort the entries\n",
    "  means = apply(sorted, 1, mean) # calculate the means\n",
    "  \n",
    "  normalized_data = apply(ranks, 2 ,function(x){ means[x]}) # substitute the means into ranks matrix\n",
    "}\n"
   ]
  },
  {
   "cell_type": "code",
   "execution_count": 18,
   "id": "0c6f774b-82de-4fa2-a8ed-3c436fe307ae",
   "metadata": {},
   "outputs": [],
   "source": [
    "### Gene wise quantile normalization\n",
    "\n",
    "stdnorm <- function(x) {\n",
    "  set.seed(42)\n",
    "  r = rank(x[!is.na(x)], ties.method=\"average\")\n",
    "  x[!is.na(x)] = qnorm(r / (length(x[!is.na(x)]) + 1))\n",
    "  return(x)\n",
    "}"
   ]
  },
  {
   "cell_type": "code",
   "execution_count": 19,
   "id": "c4329c52-ab51-4357-be36-f0fa8359a56b",
   "metadata": {},
   "outputs": [],
   "source": [
    "### Function to calculate mean difference between two groups\n",
    "\n",
    "t_test_for_groups = function(heatmap_data, group1 = 'TP1|TP2', group2 = 'TP3|TP4', variable = 'measurement'){\n",
    "    heatmap_data$group = NA\n",
    "    heatmap_data$group[!is.na(str_extract(heatmap_data[,variable], group1))] = 'group1'\n",
    "    heatmap_data$group[!is.na(str_extract(heatmap_data[,variable], group2))] = 'group2'\n",
    "    \n",
    "    t_test_result = heatmap_data %>% group_by(variable,view) %>% t_test(value~group)\n",
    "    heatmap_data = merge(heatmap_data,t_test_result[,c('variable', 'view', 'p')])\n",
    "    heatmap_data$variable[heatmap_data$p < 0.05/nrow(heatmap_data)] = paste0(heatmap_data$variable[heatmap_data$p < 0.05/nrow(heatmap_data)], '*')\n",
    "    heatmap_data$gene[heatmap_data$p < 0.05/nrow(heatmap_data)] = paste0(heatmap_data$gene[heatmap_data$p < 0.05/nrow(heatmap_data)], '*')\n",
    "    return(heatmap_data)\n",
    "    }"
   ]
  },
  {
   "cell_type": "markdown",
   "id": "43e2937f-4e6d-4e90-99f2-2f7c370f9639",
   "metadata": {
    "tags": []
   },
   "source": [
    "# Load Data "
   ]
  },
  {
   "cell_type": "markdown",
   "id": "d082fa98-ad4a-46ec-90e5-2da19dd6e84a",
   "metadata": {
    "tags": []
   },
   "source": [
    "## Prepared combined data"
   ]
  },
  {
   "cell_type": "code",
   "execution_count": 20,
   "id": "17a9bed4-c561-4cb6-ada9-5f70f42a1011",
   "metadata": {},
   "outputs": [
    {
     "name": "stdout",
     "output_type": "stream",
     "text": [
      "[1] \"2023-10-06 16:38:54 UTC\"\n"
     ]
    }
   ],
   "source": [
    "path = paste0(result_path, '/E-Analysis/Combined_Data_',name,'.csv')\n",
    "data_long = read.csv(path)\n",
    "print(file.info(path)$mtime)"
   ]
  },
  {
   "cell_type": "code",
   "execution_count": 23,
   "id": "2d408808-8578-4e39-b67e-6f8aac321600",
   "metadata": {},
   "outputs": [],
   "source": [
    "data_long$X = NULL"
   ]
  },
  {
   "cell_type": "markdown",
   "id": "d76baf68-703a-40b2-8c70-bd80a5fdae6f",
   "metadata": {
    "tags": []
   },
   "source": [
    "## Sample Data"
   ]
  },
  {
   "cell_type": "code",
   "execution_count": 25,
   "id": "e4cfef1b-013b-48f8-9b60-17d1c3a24fe2",
   "metadata": {},
   "outputs": [],
   "source": [
    "sample_data = read.csv(paste0(result_path, '/00_Data_Overview/Merged_Sample_Meta_Data.csv'))"
   ]
  },
  {
   "cell_type": "code",
   "execution_count": 26,
   "id": "7ab4f028-fb8e-4f5f-97b5-fd0c695da0be",
   "metadata": {},
   "outputs": [],
   "source": [
    "sample_data$CK_raw = sample_data$CK"
   ]
  },
  {
   "cell_type": "code",
   "execution_count": 27,
   "id": "371ca82f-5da3-46ae-b17d-8f332d58aa49",
   "metadata": {},
   "outputs": [],
   "source": [
    "sample_data$CK = log2(sample_data$CK+1)"
   ]
  },
  {
   "cell_type": "code",
   "execution_count": 28,
   "id": "fffd9dbb-f4bf-46d9-8404-408afb81e0f4",
   "metadata": {},
   "outputs": [],
   "source": [
    "sample_data$Troponin = log2(sample_data$Troponin+1)"
   ]
  },
  {
   "cell_type": "code",
   "execution_count": 29,
   "id": "6e31d99f-ec96-4de9-a274-7c7690adf1ba",
   "metadata": {},
   "outputs": [
    {
     "name": "stderr",
     "output_type": "stream",
     "text": [
      "Warning message in eval(expr, envir, enclos):\n",
      "“NAs introduced by coercion”\n"
     ]
    }
   ],
   "source": [
    "sample_data$CK_MB = log2(as.numeric(sample_data$CK_MB)+1)"
   ]
  },
  {
   "cell_type": "code",
   "execution_count": 30,
   "id": "ea0ccee8-a5ac-44a6-b2a4-7c4ef5b716dc",
   "metadata": {},
   "outputs": [
    {
     "name": "stderr",
     "output_type": "stream",
     "text": [
      "Warning message in eval(expr, envir, enclos):\n",
      "“NAs introduced by coercion”\n"
     ]
    }
   ],
   "source": [
    "sample_data$CRP =  log2(as.numeric(sample_data$CRP)+1)"
   ]
  },
  {
   "cell_type": "code",
   "execution_count": 31,
   "id": "c29441a9-b21b-4ef6-8953-a3b163abadff",
   "metadata": {},
   "outputs": [],
   "source": [
    "sample_data$sample_id[(sample_data$sample_id == 'm13.2')  & (sample_data$library %in%  c('L6'))] = 'm13.22'"
   ]
  },
  {
   "cell_type": "code",
   "execution_count": 32,
   "id": "bda2f8ed-1fd0-47d2-a825-28f346c32f16",
   "metadata": {},
   "outputs": [],
   "source": [
    "sample_data$sample_id[(sample_data$sample_id == 'm6.4')  & (sample_data$library %in%  c('L10'))] = 'm6.42'"
   ]
  },
  {
   "cell_type": "code",
   "execution_count": 33,
   "id": "1d494ce6-b978-43e6-8630-ae1ce4b1400f",
   "metadata": {},
   "outputs": [],
   "source": [
    "sample_data$sample_id[(sample_data$sample_id == 'm6.1')  & (sample_data$library %in%  c('L3'))] = 'm6.12'"
   ]
  },
  {
   "cell_type": "markdown",
   "id": "ccdf30b3-b8e9-4770-bd02-a1798961f9fb",
   "metadata": {},
   "source": [
    "## Nichenet data (for specifying ligands)"
   ]
  },
  {
   "cell_type": "code",
   "execution_count": 34,
   "id": "e3e22d61-47dc-4b8d-b756-6eb17ed0f3c0",
   "metadata": {},
   "outputs": [],
   "source": [
    "ligand_target_matrix = readRDS(url(\"https://zenodo.org/record/3260758/files/ligand_target_matrix.rds\"))  # gene-gene regulatory scores\n",
    "# gives the regulatory potential of a target gene based on the ligand-tf & tf- target-gene links and weights of the signaling and gr network (multiply PPR of each ligand -tf  pair with the weights of the gr network)"
   ]
  },
  {
   "cell_type": "code",
   "execution_count": 35,
   "id": "0260642a-7a16-4cb5-a94e-7b17a5472a85",
   "metadata": {},
   "outputs": [],
   "source": [
    "### Generate data in long format"
   ]
  },
  {
   "cell_type": "code",
   "execution_count": 36,
   "id": "2752b0a0-c755-4376-9de1-a1642e8b91e8",
   "metadata": {},
   "outputs": [
    {
     "name": "stderr",
     "output_type": "stream",
     "text": [
      "Warning message in melt(ligand_target_matrix):\n",
      "“The melt generic in data.table has been passed a matrix and will attempt to redirect to the relevant reshape2 method; please note that reshape2 is deprecated, and this redirection is now deprecated as well. To continue using melt methods from reshape2 while both libraries are attached, e.g. melt.list, you can prepend the namespace like reshape2::melt(ligand_target_matrix). In the next version, this warning will become an error.”\n"
     ]
    }
   ],
   "source": [
    "ligand_target_matrix_long = melt(ligand_target_matrix)"
   ]
  },
  {
   "cell_type": "code",
   "execution_count": 37,
   "id": "28edb1e9-5f49-428f-85dd-7b761429de62",
   "metadata": {},
   "outputs": [],
   "source": [
    "colnames(ligand_target_matrix_long) = c('target', 'ligand', 'regulatory_potential')"
   ]
  },
  {
   "cell_type": "code",
   "execution_count": 38,
   "id": "807f51a7-d54b-4af5-8596-b4f649fc3754",
   "metadata": {},
   "outputs": [
    {
     "data": {
      "text/html": [
       "<table class=\"dataframe\">\n",
       "<caption>A data.frame: 2 × 3</caption>\n",
       "<thead>\n",
       "\t<tr><th></th><th scope=col>target</th><th scope=col>ligand</th><th scope=col>regulatory_potential</th></tr>\n",
       "\t<tr><th></th><th scope=col>&lt;fct&gt;</th><th scope=col>&lt;fct&gt;</th><th scope=col>&lt;dbl&gt;</th></tr>\n",
       "</thead>\n",
       "<tbody>\n",
       "\t<tr><th scope=row>1</th><td>A1BG    </td><td>CXCL1</td><td>0.0003534343</td></tr>\n",
       "\t<tr><th scope=row>2</th><td>A1BG-AS1</td><td>CXCL1</td><td>0.0001650894</td></tr>\n",
       "</tbody>\n",
       "</table>\n"
      ],
      "text/latex": [
       "A data.frame: 2 × 3\n",
       "\\begin{tabular}{r|lll}\n",
       "  & target & ligand & regulatory\\_potential\\\\\n",
       "  & <fct> & <fct> & <dbl>\\\\\n",
       "\\hline\n",
       "\t1 & A1BG     & CXCL1 & 0.0003534343\\\\\n",
       "\t2 & A1BG-AS1 & CXCL1 & 0.0001650894\\\\\n",
       "\\end{tabular}\n"
      ],
      "text/markdown": [
       "\n",
       "A data.frame: 2 × 3\n",
       "\n",
       "| <!--/--> | target &lt;fct&gt; | ligand &lt;fct&gt; | regulatory_potential &lt;dbl&gt; |\n",
       "|---|---|---|---|\n",
       "| 1 | A1BG     | CXCL1 | 0.0003534343 |\n",
       "| 2 | A1BG-AS1 | CXCL1 | 0.0001650894 |\n",
       "\n"
      ],
      "text/plain": [
       "  target   ligand regulatory_potential\n",
       "1 A1BG     CXCL1  0.0003534343        \n",
       "2 A1BG-AS1 CXCL1  0.0001650894        "
      ]
     },
     "metadata": {},
     "output_type": "display_data"
    }
   ],
   "source": [
    "head(ligand_target_matrix_long,2)"
   ]
  },
  {
   "cell_type": "code",
   "execution_count": 39,
   "id": "d70aa653-ea86-46b3-a009-c9ba5a2f9606",
   "metadata": {},
   "outputs": [],
   "source": [
    "ligands = unique(ligand_target_matrix_long$ligand)"
   ]
  },
  {
   "cell_type": "code",
   "execution_count": 40,
   "id": "e629046b-205e-49f5-a929-dad68446324e",
   "metadata": {},
   "outputs": [
    {
     "data": {
      "text/html": [
       "<style>\n",
       ".list-inline {list-style: none; margin:0; padding: 0}\n",
       ".list-inline>li {display: inline-block}\n",
       ".list-inline>li:not(:last-child)::after {content: \"\\00b7\"; padding: 0 .5ex}\n",
       "</style>\n",
       "<ol class=list-inline><li>CXCL1</li><li>CXCL2</li><li>CXCL3</li><li>CXCL5</li><li>PPBP</li><li>CXCL6</li></ol>\n",
       "\n",
       "<details>\n",
       "\t<summary style=display:list-item;cursor:pointer>\n",
       "\t\t<strong>Levels</strong>:\n",
       "\t</summary>\n",
       "\t<style>\n",
       "\t.list-inline {list-style: none; margin:0; padding: 0}\n",
       "\t.list-inline>li {display: inline-block}\n",
       "\t.list-inline>li:not(:last-child)::after {content: \"\\00b7\"; padding: 0 .5ex}\n",
       "\t</style>\n",
       "\t<ol class=list-inline><li>'CXCL1'</li><li>'CXCL2'</li><li>'CXCL3'</li><li>'CXCL5'</li><li>'PPBP'</li><li>'CXCL6'</li><li>'CXCL8'</li><li>'CXCL9'</li><li>'CXCL10'</li><li>'CXCL11'</li><li>'CXCL12'</li><li>'CXCL13'</li><li>'CXCL16'</li><li>'XCL1'</li><li>'XCL2'</li><li>'CX3CL1'</li><li>'CCL20'</li><li>'CCL25'</li><li>'CCL17'</li><li>'CCL22'</li><li>'CCL19'</li><li>'CCL21'</li><li>'CCL2'</li><li>'CCL4L1'</li><li>'CCL3L3'</li><li>'CCL13'</li><li>'CCL7'</li><li>'CCL5'</li><li>'CCL14'</li><li>'CCL16'</li><li>'CCL23'</li><li>'CCL15'</li><li>'CCL8'</li><li>'CCL11'</li><li>'CCL24'</li><li>'CCL26'</li><li>'CCL28'</li><li>'CCL27'</li><li>'IL6'</li><li>'IL11'</li><li>'OSM'</li><li>'LIF'</li><li>'CNTF'</li><li>'CLCF1'</li><li>'CTF1'</li><li>'CSF3'</li><li>'LEP'</li><li>'IL4'</li><li>'IL13'</li><li>'IL12A'</li><li>'IL23A'</li><li>'CSF2'</li><li>'IL3'</li><li>'IL5'</li><li>'IL2'</li><li>'IL7'</li><li>'IL9'</li><li>'IL15'</li><li>'IL21'</li><li>'TSLP'</li><li>'EPO'</li><li>'GH1'</li><li>'GH2'</li><li>'PRL'</li><li>'THPO'</li><li>'PDGFC'</li><li>'PDGFA'</li><li>'PDGFB'</li><li>'PLEKHO2'</li><li>'VEGFB'</li><li>'VEGFA'</li><li>'VEGFD'</li><li>'HGF'</li><li>'EGF'</li><li>'CSF1'</li><li>'KITLG'</li><li>'FLT3LG'</li><li>'IFNA1'</li><li>'IFNB1'</li><li>'IFNW1'</li><li>'IFNK'</li><li>'IFNE'</li><li>'IFNG'</li><li>'IL10'</li><li>'IL19'</li><li>'IL20'</li><li>'IL24'</li><li>'IL22'</li><li>'IFNL2'</li><li>'IFNL3'</li><li>'IFNL1'</li><li>'TNFSF10'</li><li>'TNFSF11'</li><li>'TNFSF12'</li><li>'TNF'</li><li>'LTA'</li><li>'LTB'</li><li>'TNFSF14'</li><li>'FASLG'</li><li>'CD40LG'</li><li>'CD70'</li><li>'TNFSF8'</li><li>'TNFSF9'</li><li>'TNFSF4'</li><li>'TNFSF18'</li><li>'TNFSF13'</li><li>'TNFSF13B'</li><li>'EDA'</li><li>'TGFB1'</li><li>'TGFB2'</li><li>'TGFB3'</li><li>'INHBA'</li><li>'INHBB'</li><li>'INHBC'</li><li>'INHBE'</li><li>'AMH'</li><li>'BMP2'</li><li>'BMP7'</li><li>'GDF5'</li><li>'IL1A'</li><li>'IL1B'</li><li>'IL18'</li><li>'CCL1'</li><li>'IL25'</li><li>'IL17A'</li><li>'IL17F'</li><li>'IL17C'</li><li>'IL17B'</li><li>'CD58'</li><li>'CD80'</li><li>'CD86'</li><li>'HLA-DMA'</li><li>'HLA-A'</li><li>'CD274'</li><li>'PDCD1LG2'</li><li>'ITGB2'</li><li>'ITGAL'</li><li>'ICAM1'</li><li>'CD28'</li><li>'ITGAM'</li><li>'ITGB1'</li><li>'ITGA4'</li><li>'ITGA9'</li><li>'SELPLG'</li><li>'PECAM1'</li><li>'PVR'</li><li>'NECTIN2'</li><li>'CDH2'</li><li>'NRXN3'</li><li>'CNTN1'</li><li>'NCAM1'</li><li>'L1CAM'</li><li>'NECTIN1'</li><li>'CDH1'</li><li>'CDH4'</li><li>'ALCAM'</li><li>'PTPRC'</li><li>'CD40'</li><li>'CLDN24'</li><li>'OCLN'</li><li>'F11R'</li><li>'JAM2'</li><li>'JAM3'</li><li>'ESAM'</li><li>'CDH5'</li><li>'CD99'</li><li>'SELP'</li><li>'ICAM2'</li><li>'ICAM3'</li><li>'VCAM1'</li><li>'MADCAM1'</li><li>'SELL'</li><li>'CD34'</li><li>'SELE'</li><li>'NECTIN3'</li><li>'CADM1'</li><li>'NEGR1'</li><li>'CADM3'</li><li>'PTPRM'</li><li>'CNTN2'</li><li>'NFASC'</li><li>'MPZ'</li><li>'MAG'</li><li>'CLDN11'</li><li>'CDH3'</li><li>'CDH15'</li><li>'LRRC4C'</li><li>'LRRC4'</li><li>'LRRC4B'</li><li>'CTSG'</li><li>'CGA'</li><li>'CSH1'</li><li>'COL1A1'</li><li>'LAMC3'</li><li>'CHAD'</li><li>'RELN'</li><li>'COMP'</li><li>'FN1'</li><li>'SPP1'</li><li>'VTN'</li><li>⋯</li><li>'PLG'</li><li>'PODXL2'</li><li>'PRND'</li><li>'PROC'</li><li>'PSEN1'</li><li>'PSPN'</li><li>'PTDSS1'</li><li>'PTGS2'</li><li>'PTH'</li><li>'PTN'</li><li>'REN'</li><li>'RGMA'</li><li>'RTN4'</li><li>'SEMA3A'</li><li>'SEMA3B'</li><li>'SEMA3C'</li><li>'SEMA3E'</li><li>'SEMA3F'</li><li>'SEMA4D'</li><li>'SEMA5A'</li><li>'SEMA6D'</li><li>'SEMA7A'</li><li>'SERPINA1'</li><li>'SERPINC1'</li><li>'SERPINE1'</li><li>'SERPINE2'</li><li>'SERPING1'</li><li>'SHH'</li><li>'SLIT1'</li><li>'SLIT2'</li><li>'SOST'</li><li>'TDGF1'</li><li>'TFPI'</li><li>'TF'</li><li>'THBS1'</li><li>'THBS2'</li><li>'TPH1'</li><li>'ULBP2'</li><li>'WNT11'</li><li>'WNT1'</li><li>'WNT3'</li><li>'WNT7A'</li><li>'WNT7B'</li><li>'ZP3'</li><li>'HLA-DRA'</li><li>'HLA-F'</li><li>'ICOSLG'</li><li>'NRXN1'</li><li>'SPN'</li><li>'ITGB7'</li><li>'CD2'</li><li>'CNTNAP1'</li><li>'GLG1'</li><li>'CD6'</li><li>'IL34'</li><li>'WNT2'</li><li>'HMGB1'</li><li>'GPNMB'</li><li>'FLRT3'</li><li>'KLK3'</li><li>'CRLF2'</li><li>'CRLF1'</li><li>'FAM3C'</li><li>'HDGF'</li><li>'VGF'</li><li>'AIMP1'</li><li>'HMGB2'</li><li>'INSL6'</li><li>'WISP2'</li><li>'GDF15'</li><li>'GMFB'</li><li>'FBRS'</li><li>'NENF'</li><li>'MANF'</li><li>'TIMP1'</li><li>'KL'</li><li>'WNT10B'</li><li>'WNT9B'</li><li>'WNT10A'</li><li>'WNT8B'</li><li>'WNT9A'</li><li>'MIF'</li><li>'LGALS3'</li><li>'WNT8A'</li><li>'GRN'</li><li>'IL33'</li><li>'APOA1'</li><li>'IL27'</li><li>'TTR'</li><li>'TG'</li><li>'TFF1'</li><li>'FBN1'</li><li>'PGLYRP1'</li><li>'GREM1'</li><li>'CXCL14'</li><li>'MSTN'</li><li>'CHGB'</li><li>'TNFRSF11B'</li><li>'BMP1'</li><li>'EBI3'</li><li>'SCGB3A1'</li><li>'HAMP'</li><li>'FLRT2'</li><li>'LEFTY1'</li><li>'WISP3'</li><li>'MAPT'</li><li>'GDF1'</li><li>'THBS4'</li><li>'SFRP2'</li><li>'FAM3D'</li><li>'SCG2'</li><li>'ANGPTL3'</li><li>'CMTM8'</li><li>'IL1F10'</li><li>'RABEP1'</li><li>'OSGIN1'</li><li>'SECTM1'</li><li>'EFEMP1'</li><li>'TXLNA'</li><li>'RABEP2'</li><li>'CMTM2'</li><li>'FGF20'</li><li>'FGF21'</li><li>'CD320'</li><li>'CMTM4'</li><li>'BMP8A'</li><li>'CMTM6'</li><li>'GDF3'</li><li>'IL36B'</li><li>'IL36G'</li><li>'IL36A'</li><li>'CARTPT'</li><li>'ROBO1'</li><li>'RET'</li><li>'PTPRF'</li><li>'DSC3'</li><li>'FAT3'</li><li>'DSG1'</li><li>'DSC1'</li><li>'PCDH7'</li><li>'DSG2'</li><li>'SDK1'</li><li>'ROBO2'</li><li>'PCDH1'</li><li>'CEACAM1'</li><li>'PKD1'</li><li>'TRO'</li><li>'PLXNB2'</li><li>'PTPRT'</li><li>'PIK3CB'</li><li>'CLSTN1'</li><li>'FAT1'</li><li>'CD200'</li><li>'DSCAM'</li><li>'SDK2'</li><li>'FAT4'</li><li>'DSG4'</li><li>'CELSR1'</li><li>'CDHR1'</li><li>'PCDH9'</li><li>'DSC2'</li><li>'PCDH10'</li><li>'PLXNB3'</li><li>'CD226'</li><li>'CDH13'</li><li>'CDH11'</li><li>'FAT2'</li><li>'PCDHGC3'</li><li>'PCDHB3'</li><li>'PCDH15'</li><li>'PCDHB8'</li><li>'NPTN'</li><li>'CADM2'</li><li>'CADM4'</li><li>'AMIGO1'</li><li>'PCDH20'</li><li>'DCHS1'</li><li>'CELSR2'</li><li>'CELSR3'</li><li>'PCDHGA11'</li><li>'TENM3'</li><li>'PCDHB15'</li><li>'CDH23'</li><li>'PCDHGA7'</li><li>'PCDHA13'</li><li>'CDHR5'</li><li>'TIGIT'</li><li>'AMIGO2'</li><li>'CRTAM'</li><li>'CDHR2'</li><li>'PCDHGB1'</li><li>'CDH6'</li><li>'CDH9'</li><li>'CDH12'</li><li>'CDH18'</li><li>'PCDHB16'</li><li>'PCDHA7'</li><li>'PCDHA6'</li><li>'PCDHA4'</li><li>'PCDHA12'</li></ol>\n",
       "</details>"
      ],
      "text/latex": [
       "\\begin{enumerate*}\n",
       "\\item CXCL1\n",
       "\\item CXCL2\n",
       "\\item CXCL3\n",
       "\\item CXCL5\n",
       "\\item PPBP\n",
       "\\item CXCL6\n",
       "\\end{enumerate*}\n",
       "\n",
       "\\emph{Levels}: \\begin{enumerate*}\n",
       "\\item 'CXCL1'\n",
       "\\item 'CXCL2'\n",
       "\\item 'CXCL3'\n",
       "\\item 'CXCL5'\n",
       "\\item 'PPBP'\n",
       "\\item 'CXCL6'\n",
       "\\item 'CXCL8'\n",
       "\\item 'CXCL9'\n",
       "\\item 'CXCL10'\n",
       "\\item 'CXCL11'\n",
       "\\item 'CXCL12'\n",
       "\\item 'CXCL13'\n",
       "\\item 'CXCL16'\n",
       "\\item 'XCL1'\n",
       "\\item 'XCL2'\n",
       "\\item 'CX3CL1'\n",
       "\\item 'CCL20'\n",
       "\\item 'CCL25'\n",
       "\\item 'CCL17'\n",
       "\\item 'CCL22'\n",
       "\\item 'CCL19'\n",
       "\\item 'CCL21'\n",
       "\\item 'CCL2'\n",
       "\\item 'CCL4L1'\n",
       "\\item 'CCL3L3'\n",
       "\\item 'CCL13'\n",
       "\\item 'CCL7'\n",
       "\\item 'CCL5'\n",
       "\\item 'CCL14'\n",
       "\\item 'CCL16'\n",
       "\\item 'CCL23'\n",
       "\\item 'CCL15'\n",
       "\\item 'CCL8'\n",
       "\\item 'CCL11'\n",
       "\\item 'CCL24'\n",
       "\\item 'CCL26'\n",
       "\\item 'CCL28'\n",
       "\\item 'CCL27'\n",
       "\\item 'IL6'\n",
       "\\item 'IL11'\n",
       "\\item 'OSM'\n",
       "\\item 'LIF'\n",
       "\\item 'CNTF'\n",
       "\\item 'CLCF1'\n",
       "\\item 'CTF1'\n",
       "\\item 'CSF3'\n",
       "\\item 'LEP'\n",
       "\\item 'IL4'\n",
       "\\item 'IL13'\n",
       "\\item 'IL12A'\n",
       "\\item 'IL23A'\n",
       "\\item 'CSF2'\n",
       "\\item 'IL3'\n",
       "\\item 'IL5'\n",
       "\\item 'IL2'\n",
       "\\item 'IL7'\n",
       "\\item 'IL9'\n",
       "\\item 'IL15'\n",
       "\\item 'IL21'\n",
       "\\item 'TSLP'\n",
       "\\item 'EPO'\n",
       "\\item 'GH1'\n",
       "\\item 'GH2'\n",
       "\\item 'PRL'\n",
       "\\item 'THPO'\n",
       "\\item 'PDGFC'\n",
       "\\item 'PDGFA'\n",
       "\\item 'PDGFB'\n",
       "\\item 'PLEKHO2'\n",
       "\\item 'VEGFB'\n",
       "\\item 'VEGFA'\n",
       "\\item 'VEGFD'\n",
       "\\item 'HGF'\n",
       "\\item 'EGF'\n",
       "\\item 'CSF1'\n",
       "\\item 'KITLG'\n",
       "\\item 'FLT3LG'\n",
       "\\item 'IFNA1'\n",
       "\\item 'IFNB1'\n",
       "\\item 'IFNW1'\n",
       "\\item 'IFNK'\n",
       "\\item 'IFNE'\n",
       "\\item 'IFNG'\n",
       "\\item 'IL10'\n",
       "\\item 'IL19'\n",
       "\\item 'IL20'\n",
       "\\item 'IL24'\n",
       "\\item 'IL22'\n",
       "\\item 'IFNL2'\n",
       "\\item 'IFNL3'\n",
       "\\item 'IFNL1'\n",
       "\\item 'TNFSF10'\n",
       "\\item 'TNFSF11'\n",
       "\\item 'TNFSF12'\n",
       "\\item 'TNF'\n",
       "\\item 'LTA'\n",
       "\\item 'LTB'\n",
       "\\item 'TNFSF14'\n",
       "\\item 'FASLG'\n",
       "\\item 'CD40LG'\n",
       "\\item 'CD70'\n",
       "\\item 'TNFSF8'\n",
       "\\item 'TNFSF9'\n",
       "\\item 'TNFSF4'\n",
       "\\item 'TNFSF18'\n",
       "\\item 'TNFSF13'\n",
       "\\item 'TNFSF13B'\n",
       "\\item 'EDA'\n",
       "\\item 'TGFB1'\n",
       "\\item 'TGFB2'\n",
       "\\item 'TGFB3'\n",
       "\\item 'INHBA'\n",
       "\\item 'INHBB'\n",
       "\\item 'INHBC'\n",
       "\\item 'INHBE'\n",
       "\\item 'AMH'\n",
       "\\item 'BMP2'\n",
       "\\item 'BMP7'\n",
       "\\item 'GDF5'\n",
       "\\item 'IL1A'\n",
       "\\item 'IL1B'\n",
       "\\item 'IL18'\n",
       "\\item 'CCL1'\n",
       "\\item 'IL25'\n",
       "\\item 'IL17A'\n",
       "\\item 'IL17F'\n",
       "\\item 'IL17C'\n",
       "\\item 'IL17B'\n",
       "\\item 'CD58'\n",
       "\\item 'CD80'\n",
       "\\item 'CD86'\n",
       "\\item 'HLA-DMA'\n",
       "\\item 'HLA-A'\n",
       "\\item 'CD274'\n",
       "\\item 'PDCD1LG2'\n",
       "\\item 'ITGB2'\n",
       "\\item 'ITGAL'\n",
       "\\item 'ICAM1'\n",
       "\\item 'CD28'\n",
       "\\item 'ITGAM'\n",
       "\\item 'ITGB1'\n",
       "\\item 'ITGA4'\n",
       "\\item 'ITGA9'\n",
       "\\item 'SELPLG'\n",
       "\\item 'PECAM1'\n",
       "\\item 'PVR'\n",
       "\\item 'NECTIN2'\n",
       "\\item 'CDH2'\n",
       "\\item 'NRXN3'\n",
       "\\item 'CNTN1'\n",
       "\\item 'NCAM1'\n",
       "\\item 'L1CAM'\n",
       "\\item 'NECTIN1'\n",
       "\\item 'CDH1'\n",
       "\\item 'CDH4'\n",
       "\\item 'ALCAM'\n",
       "\\item 'PTPRC'\n",
       "\\item 'CD40'\n",
       "\\item 'CLDN24'\n",
       "\\item 'OCLN'\n",
       "\\item 'F11R'\n",
       "\\item 'JAM2'\n",
       "\\item 'JAM3'\n",
       "\\item 'ESAM'\n",
       "\\item 'CDH5'\n",
       "\\item 'CD99'\n",
       "\\item 'SELP'\n",
       "\\item 'ICAM2'\n",
       "\\item 'ICAM3'\n",
       "\\item 'VCAM1'\n",
       "\\item 'MADCAM1'\n",
       "\\item 'SELL'\n",
       "\\item 'CD34'\n",
       "\\item 'SELE'\n",
       "\\item 'NECTIN3'\n",
       "\\item 'CADM1'\n",
       "\\item 'NEGR1'\n",
       "\\item 'CADM3'\n",
       "\\item 'PTPRM'\n",
       "\\item 'CNTN2'\n",
       "\\item 'NFASC'\n",
       "\\item 'MPZ'\n",
       "\\item 'MAG'\n",
       "\\item 'CLDN11'\n",
       "\\item 'CDH3'\n",
       "\\item 'CDH15'\n",
       "\\item 'LRRC4C'\n",
       "\\item 'LRRC4'\n",
       "\\item 'LRRC4B'\n",
       "\\item 'CTSG'\n",
       "\\item 'CGA'\n",
       "\\item 'CSH1'\n",
       "\\item 'COL1A1'\n",
       "\\item 'LAMC3'\n",
       "\\item 'CHAD'\n",
       "\\item 'RELN'\n",
       "\\item 'COMP'\n",
       "\\item 'FN1'\n",
       "\\item 'SPP1'\n",
       "\\item 'VTN'\n",
       "\\item ⋯\n",
       "\\item 'PLG'\n",
       "\\item 'PODXL2'\n",
       "\\item 'PRND'\n",
       "\\item 'PROC'\n",
       "\\item 'PSEN1'\n",
       "\\item 'PSPN'\n",
       "\\item 'PTDSS1'\n",
       "\\item 'PTGS2'\n",
       "\\item 'PTH'\n",
       "\\item 'PTN'\n",
       "\\item 'REN'\n",
       "\\item 'RGMA'\n",
       "\\item 'RTN4'\n",
       "\\item 'SEMA3A'\n",
       "\\item 'SEMA3B'\n",
       "\\item 'SEMA3C'\n",
       "\\item 'SEMA3E'\n",
       "\\item 'SEMA3F'\n",
       "\\item 'SEMA4D'\n",
       "\\item 'SEMA5A'\n",
       "\\item 'SEMA6D'\n",
       "\\item 'SEMA7A'\n",
       "\\item 'SERPINA1'\n",
       "\\item 'SERPINC1'\n",
       "\\item 'SERPINE1'\n",
       "\\item 'SERPINE2'\n",
       "\\item 'SERPING1'\n",
       "\\item 'SHH'\n",
       "\\item 'SLIT1'\n",
       "\\item 'SLIT2'\n",
       "\\item 'SOST'\n",
       "\\item 'TDGF1'\n",
       "\\item 'TFPI'\n",
       "\\item 'TF'\n",
       "\\item 'THBS1'\n",
       "\\item 'THBS2'\n",
       "\\item 'TPH1'\n",
       "\\item 'ULBP2'\n",
       "\\item 'WNT11'\n",
       "\\item 'WNT1'\n",
       "\\item 'WNT3'\n",
       "\\item 'WNT7A'\n",
       "\\item 'WNT7B'\n",
       "\\item 'ZP3'\n",
       "\\item 'HLA-DRA'\n",
       "\\item 'HLA-F'\n",
       "\\item 'ICOSLG'\n",
       "\\item 'NRXN1'\n",
       "\\item 'SPN'\n",
       "\\item 'ITGB7'\n",
       "\\item 'CD2'\n",
       "\\item 'CNTNAP1'\n",
       "\\item 'GLG1'\n",
       "\\item 'CD6'\n",
       "\\item 'IL34'\n",
       "\\item 'WNT2'\n",
       "\\item 'HMGB1'\n",
       "\\item 'GPNMB'\n",
       "\\item 'FLRT3'\n",
       "\\item 'KLK3'\n",
       "\\item 'CRLF2'\n",
       "\\item 'CRLF1'\n",
       "\\item 'FAM3C'\n",
       "\\item 'HDGF'\n",
       "\\item 'VGF'\n",
       "\\item 'AIMP1'\n",
       "\\item 'HMGB2'\n",
       "\\item 'INSL6'\n",
       "\\item 'WISP2'\n",
       "\\item 'GDF15'\n",
       "\\item 'GMFB'\n",
       "\\item 'FBRS'\n",
       "\\item 'NENF'\n",
       "\\item 'MANF'\n",
       "\\item 'TIMP1'\n",
       "\\item 'KL'\n",
       "\\item 'WNT10B'\n",
       "\\item 'WNT9B'\n",
       "\\item 'WNT10A'\n",
       "\\item 'WNT8B'\n",
       "\\item 'WNT9A'\n",
       "\\item 'MIF'\n",
       "\\item 'LGALS3'\n",
       "\\item 'WNT8A'\n",
       "\\item 'GRN'\n",
       "\\item 'IL33'\n",
       "\\item 'APOA1'\n",
       "\\item 'IL27'\n",
       "\\item 'TTR'\n",
       "\\item 'TG'\n",
       "\\item 'TFF1'\n",
       "\\item 'FBN1'\n",
       "\\item 'PGLYRP1'\n",
       "\\item 'GREM1'\n",
       "\\item 'CXCL14'\n",
       "\\item 'MSTN'\n",
       "\\item 'CHGB'\n",
       "\\item 'TNFRSF11B'\n",
       "\\item 'BMP1'\n",
       "\\item 'EBI3'\n",
       "\\item 'SCGB3A1'\n",
       "\\item 'HAMP'\n",
       "\\item 'FLRT2'\n",
       "\\item 'LEFTY1'\n",
       "\\item 'WISP3'\n",
       "\\item 'MAPT'\n",
       "\\item 'GDF1'\n",
       "\\item 'THBS4'\n",
       "\\item 'SFRP2'\n",
       "\\item 'FAM3D'\n",
       "\\item 'SCG2'\n",
       "\\item 'ANGPTL3'\n",
       "\\item 'CMTM8'\n",
       "\\item 'IL1F10'\n",
       "\\item 'RABEP1'\n",
       "\\item 'OSGIN1'\n",
       "\\item 'SECTM1'\n",
       "\\item 'EFEMP1'\n",
       "\\item 'TXLNA'\n",
       "\\item 'RABEP2'\n",
       "\\item 'CMTM2'\n",
       "\\item 'FGF20'\n",
       "\\item 'FGF21'\n",
       "\\item 'CD320'\n",
       "\\item 'CMTM4'\n",
       "\\item 'BMP8A'\n",
       "\\item 'CMTM6'\n",
       "\\item 'GDF3'\n",
       "\\item 'IL36B'\n",
       "\\item 'IL36G'\n",
       "\\item 'IL36A'\n",
       "\\item 'CARTPT'\n",
       "\\item 'ROBO1'\n",
       "\\item 'RET'\n",
       "\\item 'PTPRF'\n",
       "\\item 'DSC3'\n",
       "\\item 'FAT3'\n",
       "\\item 'DSG1'\n",
       "\\item 'DSC1'\n",
       "\\item 'PCDH7'\n",
       "\\item 'DSG2'\n",
       "\\item 'SDK1'\n",
       "\\item 'ROBO2'\n",
       "\\item 'PCDH1'\n",
       "\\item 'CEACAM1'\n",
       "\\item 'PKD1'\n",
       "\\item 'TRO'\n",
       "\\item 'PLXNB2'\n",
       "\\item 'PTPRT'\n",
       "\\item 'PIK3CB'\n",
       "\\item 'CLSTN1'\n",
       "\\item 'FAT1'\n",
       "\\item 'CD200'\n",
       "\\item 'DSCAM'\n",
       "\\item 'SDK2'\n",
       "\\item 'FAT4'\n",
       "\\item 'DSG4'\n",
       "\\item 'CELSR1'\n",
       "\\item 'CDHR1'\n",
       "\\item 'PCDH9'\n",
       "\\item 'DSC2'\n",
       "\\item 'PCDH10'\n",
       "\\item 'PLXNB3'\n",
       "\\item 'CD226'\n",
       "\\item 'CDH13'\n",
       "\\item 'CDH11'\n",
       "\\item 'FAT2'\n",
       "\\item 'PCDHGC3'\n",
       "\\item 'PCDHB3'\n",
       "\\item 'PCDH15'\n",
       "\\item 'PCDHB8'\n",
       "\\item 'NPTN'\n",
       "\\item 'CADM2'\n",
       "\\item 'CADM4'\n",
       "\\item 'AMIGO1'\n",
       "\\item 'PCDH20'\n",
       "\\item 'DCHS1'\n",
       "\\item 'CELSR2'\n",
       "\\item 'CELSR3'\n",
       "\\item 'PCDHGA11'\n",
       "\\item 'TENM3'\n",
       "\\item 'PCDHB15'\n",
       "\\item 'CDH23'\n",
       "\\item 'PCDHGA7'\n",
       "\\item 'PCDHA13'\n",
       "\\item 'CDHR5'\n",
       "\\item 'TIGIT'\n",
       "\\item 'AMIGO2'\n",
       "\\item 'CRTAM'\n",
       "\\item 'CDHR2'\n",
       "\\item 'PCDHGB1'\n",
       "\\item 'CDH6'\n",
       "\\item 'CDH9'\n",
       "\\item 'CDH12'\n",
       "\\item 'CDH18'\n",
       "\\item 'PCDHB16'\n",
       "\\item 'PCDHA7'\n",
       "\\item 'PCDHA6'\n",
       "\\item 'PCDHA4'\n",
       "\\item 'PCDHA12'\n",
       "\\end{enumerate*}\n"
      ],
      "text/markdown": [
       "1. CXCL1\n",
       "2. CXCL2\n",
       "3. CXCL3\n",
       "4. CXCL5\n",
       "5. PPBP\n",
       "6. CXCL6\n",
       "\n",
       "\n",
       "\n",
       "**Levels**: 1. 'CXCL1'\n",
       "2. 'CXCL2'\n",
       "3. 'CXCL3'\n",
       "4. 'CXCL5'\n",
       "5. 'PPBP'\n",
       "6. 'CXCL6'\n",
       "7. 'CXCL8'\n",
       "8. 'CXCL9'\n",
       "9. 'CXCL10'\n",
       "10. 'CXCL11'\n",
       "11. 'CXCL12'\n",
       "12. 'CXCL13'\n",
       "13. 'CXCL16'\n",
       "14. 'XCL1'\n",
       "15. 'XCL2'\n",
       "16. 'CX3CL1'\n",
       "17. 'CCL20'\n",
       "18. 'CCL25'\n",
       "19. 'CCL17'\n",
       "20. 'CCL22'\n",
       "21. 'CCL19'\n",
       "22. 'CCL21'\n",
       "23. 'CCL2'\n",
       "24. 'CCL4L1'\n",
       "25. 'CCL3L3'\n",
       "26. 'CCL13'\n",
       "27. 'CCL7'\n",
       "28. 'CCL5'\n",
       "29. 'CCL14'\n",
       "30. 'CCL16'\n",
       "31. 'CCL23'\n",
       "32. 'CCL15'\n",
       "33. 'CCL8'\n",
       "34. 'CCL11'\n",
       "35. 'CCL24'\n",
       "36. 'CCL26'\n",
       "37. 'CCL28'\n",
       "38. 'CCL27'\n",
       "39. 'IL6'\n",
       "40. 'IL11'\n",
       "41. 'OSM'\n",
       "42. 'LIF'\n",
       "43. 'CNTF'\n",
       "44. 'CLCF1'\n",
       "45. 'CTF1'\n",
       "46. 'CSF3'\n",
       "47. 'LEP'\n",
       "48. 'IL4'\n",
       "49. 'IL13'\n",
       "50. 'IL12A'\n",
       "51. 'IL23A'\n",
       "52. 'CSF2'\n",
       "53. 'IL3'\n",
       "54. 'IL5'\n",
       "55. 'IL2'\n",
       "56. 'IL7'\n",
       "57. 'IL9'\n",
       "58. 'IL15'\n",
       "59. 'IL21'\n",
       "60. 'TSLP'\n",
       "61. 'EPO'\n",
       "62. 'GH1'\n",
       "63. 'GH2'\n",
       "64. 'PRL'\n",
       "65. 'THPO'\n",
       "66. 'PDGFC'\n",
       "67. 'PDGFA'\n",
       "68. 'PDGFB'\n",
       "69. 'PLEKHO2'\n",
       "70. 'VEGFB'\n",
       "71. 'VEGFA'\n",
       "72. 'VEGFD'\n",
       "73. 'HGF'\n",
       "74. 'EGF'\n",
       "75. 'CSF1'\n",
       "76. 'KITLG'\n",
       "77. 'FLT3LG'\n",
       "78. 'IFNA1'\n",
       "79. 'IFNB1'\n",
       "80. 'IFNW1'\n",
       "81. 'IFNK'\n",
       "82. 'IFNE'\n",
       "83. 'IFNG'\n",
       "84. 'IL10'\n",
       "85. 'IL19'\n",
       "86. 'IL20'\n",
       "87. 'IL24'\n",
       "88. 'IL22'\n",
       "89. 'IFNL2'\n",
       "90. 'IFNL3'\n",
       "91. 'IFNL1'\n",
       "92. 'TNFSF10'\n",
       "93. 'TNFSF11'\n",
       "94. 'TNFSF12'\n",
       "95. 'TNF'\n",
       "96. 'LTA'\n",
       "97. 'LTB'\n",
       "98. 'TNFSF14'\n",
       "99. 'FASLG'\n",
       "100. 'CD40LG'\n",
       "101. 'CD70'\n",
       "102. 'TNFSF8'\n",
       "103. 'TNFSF9'\n",
       "104. 'TNFSF4'\n",
       "105. 'TNFSF18'\n",
       "106. 'TNFSF13'\n",
       "107. 'TNFSF13B'\n",
       "108. 'EDA'\n",
       "109. 'TGFB1'\n",
       "110. 'TGFB2'\n",
       "111. 'TGFB3'\n",
       "112. 'INHBA'\n",
       "113. 'INHBB'\n",
       "114. 'INHBC'\n",
       "115. 'INHBE'\n",
       "116. 'AMH'\n",
       "117. 'BMP2'\n",
       "118. 'BMP7'\n",
       "119. 'GDF5'\n",
       "120. 'IL1A'\n",
       "121. 'IL1B'\n",
       "122. 'IL18'\n",
       "123. 'CCL1'\n",
       "124. 'IL25'\n",
       "125. 'IL17A'\n",
       "126. 'IL17F'\n",
       "127. 'IL17C'\n",
       "128. 'IL17B'\n",
       "129. 'CD58'\n",
       "130. 'CD80'\n",
       "131. 'CD86'\n",
       "132. 'HLA-DMA'\n",
       "133. 'HLA-A'\n",
       "134. 'CD274'\n",
       "135. 'PDCD1LG2'\n",
       "136. 'ITGB2'\n",
       "137. 'ITGAL'\n",
       "138. 'ICAM1'\n",
       "139. 'CD28'\n",
       "140. 'ITGAM'\n",
       "141. 'ITGB1'\n",
       "142. 'ITGA4'\n",
       "143. 'ITGA9'\n",
       "144. 'SELPLG'\n",
       "145. 'PECAM1'\n",
       "146. 'PVR'\n",
       "147. 'NECTIN2'\n",
       "148. 'CDH2'\n",
       "149. 'NRXN3'\n",
       "150. 'CNTN1'\n",
       "151. 'NCAM1'\n",
       "152. 'L1CAM'\n",
       "153. 'NECTIN1'\n",
       "154. 'CDH1'\n",
       "155. 'CDH4'\n",
       "156. 'ALCAM'\n",
       "157. 'PTPRC'\n",
       "158. 'CD40'\n",
       "159. 'CLDN24'\n",
       "160. 'OCLN'\n",
       "161. 'F11R'\n",
       "162. 'JAM2'\n",
       "163. 'JAM3'\n",
       "164. 'ESAM'\n",
       "165. 'CDH5'\n",
       "166. 'CD99'\n",
       "167. 'SELP'\n",
       "168. 'ICAM2'\n",
       "169. 'ICAM3'\n",
       "170. 'VCAM1'\n",
       "171. 'MADCAM1'\n",
       "172. 'SELL'\n",
       "173. 'CD34'\n",
       "174. 'SELE'\n",
       "175. 'NECTIN3'\n",
       "176. 'CADM1'\n",
       "177. 'NEGR1'\n",
       "178. 'CADM3'\n",
       "179. 'PTPRM'\n",
       "180. 'CNTN2'\n",
       "181. 'NFASC'\n",
       "182. 'MPZ'\n",
       "183. 'MAG'\n",
       "184. 'CLDN11'\n",
       "185. 'CDH3'\n",
       "186. 'CDH15'\n",
       "187. 'LRRC4C'\n",
       "188. 'LRRC4'\n",
       "189. 'LRRC4B'\n",
       "190. 'CTSG'\n",
       "191. 'CGA'\n",
       "192. 'CSH1'\n",
       "193. 'COL1A1'\n",
       "194. 'LAMC3'\n",
       "195. 'CHAD'\n",
       "196. 'RELN'\n",
       "197. 'COMP'\n",
       "198. 'FN1'\n",
       "199. 'SPP1'\n",
       "200. 'VTN'\n",
       "201. ⋯\n",
       "202. 'PLG'\n",
       "203. 'PODXL2'\n",
       "204. 'PRND'\n",
       "205. 'PROC'\n",
       "206. 'PSEN1'\n",
       "207. 'PSPN'\n",
       "208. 'PTDSS1'\n",
       "209. 'PTGS2'\n",
       "210. 'PTH'\n",
       "211. 'PTN'\n",
       "212. 'REN'\n",
       "213. 'RGMA'\n",
       "214. 'RTN4'\n",
       "215. 'SEMA3A'\n",
       "216. 'SEMA3B'\n",
       "217. 'SEMA3C'\n",
       "218. 'SEMA3E'\n",
       "219. 'SEMA3F'\n",
       "220. 'SEMA4D'\n",
       "221. 'SEMA5A'\n",
       "222. 'SEMA6D'\n",
       "223. 'SEMA7A'\n",
       "224. 'SERPINA1'\n",
       "225. 'SERPINC1'\n",
       "226. 'SERPINE1'\n",
       "227. 'SERPINE2'\n",
       "228. 'SERPING1'\n",
       "229. 'SHH'\n",
       "230. 'SLIT1'\n",
       "231. 'SLIT2'\n",
       "232. 'SOST'\n",
       "233. 'TDGF1'\n",
       "234. 'TFPI'\n",
       "235. 'TF'\n",
       "236. 'THBS1'\n",
       "237. 'THBS2'\n",
       "238. 'TPH1'\n",
       "239. 'ULBP2'\n",
       "240. 'WNT11'\n",
       "241. 'WNT1'\n",
       "242. 'WNT3'\n",
       "243. 'WNT7A'\n",
       "244. 'WNT7B'\n",
       "245. 'ZP3'\n",
       "246. 'HLA-DRA'\n",
       "247. 'HLA-F'\n",
       "248. 'ICOSLG'\n",
       "249. 'NRXN1'\n",
       "250. 'SPN'\n",
       "251. 'ITGB7'\n",
       "252. 'CD2'\n",
       "253. 'CNTNAP1'\n",
       "254. 'GLG1'\n",
       "255. 'CD6'\n",
       "256. 'IL34'\n",
       "257. 'WNT2'\n",
       "258. 'HMGB1'\n",
       "259. 'GPNMB'\n",
       "260. 'FLRT3'\n",
       "261. 'KLK3'\n",
       "262. 'CRLF2'\n",
       "263. 'CRLF1'\n",
       "264. 'FAM3C'\n",
       "265. 'HDGF'\n",
       "266. 'VGF'\n",
       "267. 'AIMP1'\n",
       "268. 'HMGB2'\n",
       "269. 'INSL6'\n",
       "270. 'WISP2'\n",
       "271. 'GDF15'\n",
       "272. 'GMFB'\n",
       "273. 'FBRS'\n",
       "274. 'NENF'\n",
       "275. 'MANF'\n",
       "276. 'TIMP1'\n",
       "277. 'KL'\n",
       "278. 'WNT10B'\n",
       "279. 'WNT9B'\n",
       "280. 'WNT10A'\n",
       "281. 'WNT8B'\n",
       "282. 'WNT9A'\n",
       "283. 'MIF'\n",
       "284. 'LGALS3'\n",
       "285. 'WNT8A'\n",
       "286. 'GRN'\n",
       "287. 'IL33'\n",
       "288. 'APOA1'\n",
       "289. 'IL27'\n",
       "290. 'TTR'\n",
       "291. 'TG'\n",
       "292. 'TFF1'\n",
       "293. 'FBN1'\n",
       "294. 'PGLYRP1'\n",
       "295. 'GREM1'\n",
       "296. 'CXCL14'\n",
       "297. 'MSTN'\n",
       "298. 'CHGB'\n",
       "299. 'TNFRSF11B'\n",
       "300. 'BMP1'\n",
       "301. 'EBI3'\n",
       "302. 'SCGB3A1'\n",
       "303. 'HAMP'\n",
       "304. 'FLRT2'\n",
       "305. 'LEFTY1'\n",
       "306. 'WISP3'\n",
       "307. 'MAPT'\n",
       "308. 'GDF1'\n",
       "309. 'THBS4'\n",
       "310. 'SFRP2'\n",
       "311. 'FAM3D'\n",
       "312. 'SCG2'\n",
       "313. 'ANGPTL3'\n",
       "314. 'CMTM8'\n",
       "315. 'IL1F10'\n",
       "316. 'RABEP1'\n",
       "317. 'OSGIN1'\n",
       "318. 'SECTM1'\n",
       "319. 'EFEMP1'\n",
       "320. 'TXLNA'\n",
       "321. 'RABEP2'\n",
       "322. 'CMTM2'\n",
       "323. 'FGF20'\n",
       "324. 'FGF21'\n",
       "325. 'CD320'\n",
       "326. 'CMTM4'\n",
       "327. 'BMP8A'\n",
       "328. 'CMTM6'\n",
       "329. 'GDF3'\n",
       "330. 'IL36B'\n",
       "331. 'IL36G'\n",
       "332. 'IL36A'\n",
       "333. 'CARTPT'\n",
       "334. 'ROBO1'\n",
       "335. 'RET'\n",
       "336. 'PTPRF'\n",
       "337. 'DSC3'\n",
       "338. 'FAT3'\n",
       "339. 'DSG1'\n",
       "340. 'DSC1'\n",
       "341. 'PCDH7'\n",
       "342. 'DSG2'\n",
       "343. 'SDK1'\n",
       "344. 'ROBO2'\n",
       "345. 'PCDH1'\n",
       "346. 'CEACAM1'\n",
       "347. 'PKD1'\n",
       "348. 'TRO'\n",
       "349. 'PLXNB2'\n",
       "350. 'PTPRT'\n",
       "351. 'PIK3CB'\n",
       "352. 'CLSTN1'\n",
       "353. 'FAT1'\n",
       "354. 'CD200'\n",
       "355. 'DSCAM'\n",
       "356. 'SDK2'\n",
       "357. 'FAT4'\n",
       "358. 'DSG4'\n",
       "359. 'CELSR1'\n",
       "360. 'CDHR1'\n",
       "361. 'PCDH9'\n",
       "362. 'DSC2'\n",
       "363. 'PCDH10'\n",
       "364. 'PLXNB3'\n",
       "365. 'CD226'\n",
       "366. 'CDH13'\n",
       "367. 'CDH11'\n",
       "368. 'FAT2'\n",
       "369. 'PCDHGC3'\n",
       "370. 'PCDHB3'\n",
       "371. 'PCDH15'\n",
       "372. 'PCDHB8'\n",
       "373. 'NPTN'\n",
       "374. 'CADM2'\n",
       "375. 'CADM4'\n",
       "376. 'AMIGO1'\n",
       "377. 'PCDH20'\n",
       "378. 'DCHS1'\n",
       "379. 'CELSR2'\n",
       "380. 'CELSR3'\n",
       "381. 'PCDHGA11'\n",
       "382. 'TENM3'\n",
       "383. 'PCDHB15'\n",
       "384. 'CDH23'\n",
       "385. 'PCDHGA7'\n",
       "386. 'PCDHA13'\n",
       "387. 'CDHR5'\n",
       "388. 'TIGIT'\n",
       "389. 'AMIGO2'\n",
       "390. 'CRTAM'\n",
       "391. 'CDHR2'\n",
       "392. 'PCDHGB1'\n",
       "393. 'CDH6'\n",
       "394. 'CDH9'\n",
       "395. 'CDH12'\n",
       "396. 'CDH18'\n",
       "397. 'PCDHB16'\n",
       "398. 'PCDHA7'\n",
       "399. 'PCDHA6'\n",
       "400. 'PCDHA4'\n",
       "401. 'PCDHA12'\n",
       "\n",
       "\n"
      ],
      "text/plain": [
       "[1] CXCL1 CXCL2 CXCL3 CXCL5 PPBP  CXCL6\n",
       "688 Levels: CXCL1 CXCL2 CXCL3 CXCL5 PPBP CXCL6 CXCL8 CXCL9 CXCL10 ... PCDHA12"
      ]
     },
     "metadata": {},
     "output_type": "display_data"
    }
   ],
   "source": [
    "head(ligands)"
   ]
  },
  {
   "cell_type": "markdown",
   "id": "e4a73e5e-bf99-4bc1-88d5-38036c8d61ce",
   "metadata": {
    "tags": []
   },
   "source": [
    "# Train MOFA Model"
   ]
  },
  {
   "cell_type": "code",
   "execution_count": 41,
   "id": "cbc8c38b-c6b9-4b21-98ec-81521fdf4425",
   "metadata": {},
   "outputs": [
    {
     "data": {
      "text/html": [
       "13282"
      ],
      "text/latex": [
       "13282"
      ],
      "text/markdown": [
       "13282"
      ],
      "text/plain": [
       "[1] 13282"
      ]
     },
     "metadata": {},
     "output_type": "display_data"
    }
   ],
   "source": [
    "length(unique(data_long$variable))"
   ]
  },
  {
   "cell_type": "markdown",
   "id": "6a5a1bca-fd9e-4d54-9821-00f89c9289ca",
   "metadata": {
    "tags": []
   },
   "source": [
    "## Prepare data list"
   ]
  },
  {
   "cell_type": "code",
   "execution_count": 42,
   "id": "090791d5-0c56-4435-af6a-393554574a23",
   "metadata": {},
   "outputs": [
    {
     "data": {
      "text/html": [
       "128"
      ],
      "text/latex": [
       "128"
      ],
      "text/markdown": [
       "128"
      ],
      "text/plain": [
       "[1] 128"
      ]
     },
     "metadata": {},
     "output_type": "display_data"
    }
   ],
   "source": [
    "length(unique(data_long$sample_id))"
   ]
  },
  {
   "cell_type": "code",
   "execution_count": 43,
   "id": "ece6eaf9-401c-4e20-afb1-8e13b88b458f",
   "metadata": {},
   "outputs": [],
   "source": [
    "final_data_long_backup = data_long"
   ]
  },
  {
   "cell_type": "code",
   "execution_count": 44,
   "id": "f201fcc3-9761-46d4-8e86-fdca0339db47",
   "metadata": {},
   "outputs": [],
   "source": [
    "final_data_long = final_data_long_backup"
   ]
  },
  {
   "cell_type": "code",
   "execution_count": 45,
   "id": "c35eb376-df3f-4e9f-83fc-9c4c51d55deb",
   "metadata": {},
   "outputs": [],
   "source": [
    "final_data_long$cell_type = NULL"
   ]
  },
  {
   "cell_type": "code",
   "execution_count": 46,
   "id": "ad5b8c08-e7f6-43b1-b910-1a6dbf2ce61e",
   "metadata": {},
   "outputs": [],
   "source": [
    "final_data_long$variable_transformed = NULL"
   ]
  },
  {
   "cell_type": "code",
   "execution_count": 47,
   "id": "22fd1be1-b671-4e59-8e03-c1457797389f",
   "metadata": {},
   "outputs": [],
   "source": [
    "final_data_long$type[ final_data_long$type == 'single_cell'] = str_extract(final_data_long$variable[ final_data_long$type == 'single_cell'] , '.*__')"
   ]
  },
  {
   "cell_type": "code",
   "execution_count": 48,
   "id": "3a2a529e-ad9c-42f6-a121-a776d368928b",
   "metadata": {},
   "outputs": [],
   "source": [
    "final_data_long$config = NULL"
   ]
  },
  {
   "cell_type": "code",
   "execution_count": 49,
   "id": "4758782c-2877-4dfe-bb40-3d76464ca99d",
   "metadata": {},
   "outputs": [],
   "source": [
    "final_data_long$X = NULL"
   ]
  },
  {
   "cell_type": "code",
   "execution_count": 50,
   "id": "ab15d009-6494-41d4-b740-5a374108cf15",
   "metadata": {},
   "outputs": [
    {
     "data": {
      "text/html": [
       "<table class=\"dataframe\">\n",
       "<caption>A data.frame: 2 × 4</caption>\n",
       "<thead>\n",
       "\t<tr><th></th><th scope=col>sample_id</th><th scope=col>variable</th><th scope=col>value</th><th scope=col>type</th></tr>\n",
       "\t<tr><th></th><th scope=col>&lt;chr&gt;</th><th scope=col>&lt;chr&gt;</th><th scope=col>&lt;dbl&gt;</th><th scope=col>&lt;chr&gt;</th></tr>\n",
       "</thead>\n",
       "<tbody>\n",
       "\t<tr><th scope=row>1</th><td>k1 </td><td>CK</td><td>-2.397022</td><td>clinical_data</td></tr>\n",
       "\t<tr><th scope=row>2</th><td>k10</td><td>CK</td><td>       NA</td><td>clinical_data</td></tr>\n",
       "</tbody>\n",
       "</table>\n"
      ],
      "text/latex": [
       "A data.frame: 2 × 4\n",
       "\\begin{tabular}{r|llll}\n",
       "  & sample\\_id & variable & value & type\\\\\n",
       "  & <chr> & <chr> & <dbl> & <chr>\\\\\n",
       "\\hline\n",
       "\t1 & k1  & CK & -2.397022 & clinical\\_data\\\\\n",
       "\t2 & k10 & CK &        NA & clinical\\_data\\\\\n",
       "\\end{tabular}\n"
      ],
      "text/markdown": [
       "\n",
       "A data.frame: 2 × 4\n",
       "\n",
       "| <!--/--> | sample_id &lt;chr&gt; | variable &lt;chr&gt; | value &lt;dbl&gt; | type &lt;chr&gt; |\n",
       "|---|---|---|---|---|\n",
       "| 1 | k1  | CK | -2.397022 | clinical_data |\n",
       "| 2 | k10 | CK |        NA | clinical_data |\n",
       "\n"
      ],
      "text/plain": [
       "  sample_id variable value     type         \n",
       "1 k1        CK       -2.397022 clinical_data\n",
       "2 k10       CK              NA clinical_data"
      ]
     },
     "metadata": {},
     "output_type": "display_data"
    }
   ],
   "source": [
    "head(final_data_long,2)"
   ]
  },
  {
   "cell_type": "code",
   "execution_count": 51,
   "id": "662393d2-e37b-4ac9-909d-8aeba9d9288d",
   "metadata": {},
   "outputs": [],
   "source": [
    "### Filter only samples measured across multiple TPs"
   ]
  },
  {
   "cell_type": "code",
   "execution_count": 52,
   "id": "d53aa09e-c80e-4ead-a83e-b8e1f5727bbc",
   "metadata": {},
   "outputs": [],
   "source": [
    "samples = unique(final_data_long$sample_id)"
   ]
  },
  {
   "cell_type": "code",
   "execution_count": 53,
   "id": "7be61e70-625f-4ce4-a753-666c8e93211e",
   "metadata": {},
   "outputs": [
    {
     "data": {
      "text/html": [
       "<style>\n",
       ".list-inline {list-style: none; margin:0; padding: 0}\n",
       ".list-inline>li {display: inline-block}\n",
       ".list-inline>li:not(:last-child)::after {content: \"\\00b7\"; padding: 0 .5ex}\n",
       "</style>\n",
       "<ol class=list-inline><li>'clinical_data'</li><li>'cytokine'</li><li>'neutrophil'</li><li>'proteomics'</li><li>'X0_T.cell.CD4__'</li><li>'X1_T.cell.CD8__'</li><li>'X10_B.cell__'</li><li>'X11_T.cell.CD4__'</li><li>'X12_Monocytes...CD16_FCGR3A__'</li><li>'X13_Dendritic__'</li><li>'X2_T.cell.CD4__'</li><li>'X3_NK__'</li><li>'X4_Monocytes...CD14__'</li><li>'X5_T.cell.CD4__'</li><li>'X6_Monocytes...CD14__'</li><li>'X7_Monocytes...CD14__'</li><li>'X8_B.cell__'</li><li>'X9_Monocytes...CD16_FCGR3A__'</li></ol>\n"
      ],
      "text/latex": [
       "\\begin{enumerate*}\n",
       "\\item 'clinical\\_data'\n",
       "\\item 'cytokine'\n",
       "\\item 'neutrophil'\n",
       "\\item 'proteomics'\n",
       "\\item 'X0\\_T.cell.CD4\\_\\_'\n",
       "\\item 'X1\\_T.cell.CD8\\_\\_'\n",
       "\\item 'X10\\_B.cell\\_\\_'\n",
       "\\item 'X11\\_T.cell.CD4\\_\\_'\n",
       "\\item 'X12\\_Monocytes...CD16\\_FCGR3A\\_\\_'\n",
       "\\item 'X13\\_Dendritic\\_\\_'\n",
       "\\item 'X2\\_T.cell.CD4\\_\\_'\n",
       "\\item 'X3\\_NK\\_\\_'\n",
       "\\item 'X4\\_Monocytes...CD14\\_\\_'\n",
       "\\item 'X5\\_T.cell.CD4\\_\\_'\n",
       "\\item 'X6\\_Monocytes...CD14\\_\\_'\n",
       "\\item 'X7\\_Monocytes...CD14\\_\\_'\n",
       "\\item 'X8\\_B.cell\\_\\_'\n",
       "\\item 'X9\\_Monocytes...CD16\\_FCGR3A\\_\\_'\n",
       "\\end{enumerate*}\n"
      ],
      "text/markdown": [
       "1. 'clinical_data'\n",
       "2. 'cytokine'\n",
       "3. 'neutrophil'\n",
       "4. 'proteomics'\n",
       "5. 'X0_T.cell.CD4__'\n",
       "6. 'X1_T.cell.CD8__'\n",
       "7. 'X10_B.cell__'\n",
       "8. 'X11_T.cell.CD4__'\n",
       "9. 'X12_Monocytes...CD16_FCGR3A__'\n",
       "10. 'X13_Dendritic__'\n",
       "11. 'X2_T.cell.CD4__'\n",
       "12. 'X3_NK__'\n",
       "13. 'X4_Monocytes...CD14__'\n",
       "14. 'X5_T.cell.CD4__'\n",
       "15. 'X6_Monocytes...CD14__'\n",
       "16. 'X7_Monocytes...CD14__'\n",
       "17. 'X8_B.cell__'\n",
       "18. 'X9_Monocytes...CD16_FCGR3A__'\n",
       "\n",
       "\n"
      ],
      "text/plain": [
       " [1] \"clinical_data\"                 \"cytokine\"                     \n",
       " [3] \"neutrophil\"                    \"proteomics\"                   \n",
       " [5] \"X0_T.cell.CD4__\"               \"X1_T.cell.CD8__\"              \n",
       " [7] \"X10_B.cell__\"                  \"X11_T.cell.CD4__\"             \n",
       " [9] \"X12_Monocytes...CD16_FCGR3A__\" \"X13_Dendritic__\"              \n",
       "[11] \"X2_T.cell.CD4__\"               \"X3_NK__\"                      \n",
       "[13] \"X4_Monocytes...CD14__\"         \"X5_T.cell.CD4__\"              \n",
       "[15] \"X6_Monocytes...CD14__\"         \"X7_Monocytes...CD14__\"        \n",
       "[17] \"X8_B.cell__\"                   \"X9_Monocytes...CD16_FCGR3A__\" "
      ]
     },
     "metadata": {},
     "output_type": "display_data"
    }
   ],
   "source": [
    "unique(final_data_long$type)"
   ]
  },
  {
   "cell_type": "code",
   "execution_count": null,
   "id": "2b5122e0-29d7-4d05-9356-a7da1159fe7e",
   "metadata": {},
   "outputs": [],
   "source": []
  },
  {
   "cell_type": "code",
   "execution_count": 54,
   "id": "1c9dbead-7d14-43bf-9791-d3eaa217cdd7",
   "metadata": {},
   "outputs": [
    {
     "data": {
      "text/html": [
       "128"
      ],
      "text/latex": [
       "128"
      ],
      "text/markdown": [
       "128"
      ],
      "text/plain": [
       "[1] 128"
      ]
     },
     "metadata": {},
     "output_type": "display_data"
    }
   ],
   "source": [
    "length(samples)"
   ]
  },
  {
   "cell_type": "code",
   "execution_count": 55,
   "id": "c82c448b-4cb5-4790-bde2-0b473ff7d1a8",
   "metadata": {},
   "outputs": [],
   "source": [
    "### Prepare data list for MOFA"
   ]
  },
  {
   "cell_type": "code",
   "execution_count": 56,
   "id": "c18bb406-5a7e-4a48-ba7d-c77d75add3dc",
   "metadata": {},
   "outputs": [],
   "source": [
    "data_list = list()"
   ]
  },
  {
   "cell_type": "code",
   "execution_count": 57,
   "id": "540cd275-f11b-4154-aaf8-addcda7c596d",
   "metadata": {
    "collapsed": true,
    "jupyter": {
     "outputs_hidden": true
    },
    "tags": []
   },
   "outputs": [
    {
     "data": {
      "text/html": [
       "<table class=\"dataframe\">\n",
       "<caption>A data.frame: 2 × 4</caption>\n",
       "<thead>\n",
       "\t<tr><th></th><th scope=col>sample_id</th><th scope=col>variable</th><th scope=col>value</th><th scope=col>type</th></tr>\n",
       "\t<tr><th></th><th scope=col>&lt;chr&gt;</th><th scope=col>&lt;chr&gt;</th><th scope=col>&lt;dbl&gt;</th><th scope=col>&lt;chr&gt;</th></tr>\n",
       "</thead>\n",
       "<tbody>\n",
       "\t<tr><th scope=row>1</th><td>k1 </td><td>CK</td><td>-2.397022</td><td>clinical_data</td></tr>\n",
       "\t<tr><th scope=row>2</th><td>k10</td><td>CK</td><td>       NA</td><td>clinical_data</td></tr>\n",
       "</tbody>\n",
       "</table>\n"
      ],
      "text/latex": [
       "A data.frame: 2 × 4\n",
       "\\begin{tabular}{r|llll}\n",
       "  & sample\\_id & variable & value & type\\\\\n",
       "  & <chr> & <chr> & <dbl> & <chr>\\\\\n",
       "\\hline\n",
       "\t1 & k1  & CK & -2.397022 & clinical\\_data\\\\\n",
       "\t2 & k10 & CK &        NA & clinical\\_data\\\\\n",
       "\\end{tabular}\n"
      ],
      "text/markdown": [
       "\n",
       "A data.frame: 2 × 4\n",
       "\n",
       "| <!--/--> | sample_id &lt;chr&gt; | variable &lt;chr&gt; | value &lt;dbl&gt; | type &lt;chr&gt; |\n",
       "|---|---|---|---|---|\n",
       "| 1 | k1  | CK | -2.397022 | clinical_data |\n",
       "| 2 | k10 | CK |        NA | clinical_data |\n",
       "\n"
      ],
      "text/plain": [
       "  sample_id variable value     type         \n",
       "1 k1        CK       -2.397022 clinical_data\n",
       "2 k10       CK              NA clinical_data"
      ]
     },
     "metadata": {},
     "output_type": "display_data"
    }
   ],
   "source": [
    "head(final_data_long,2)"
   ]
  },
  {
   "cell_type": "code",
   "execution_count": 58,
   "id": "6bb733d9-11ff-4a4b-871f-25040b2e3be7",
   "metadata": {},
   "outputs": [
    {
     "data": {
      "text/html": [
       "1700096"
      ],
      "text/latex": [
       "1700096"
      ],
      "text/markdown": [
       "1700096"
      ],
      "text/plain": [
       "[1] 1700096"
      ]
     },
     "metadata": {},
     "output_type": "display_data"
    }
   ],
   "source": [
    "nrow(final_data_long)"
   ]
  },
  {
   "cell_type": "code",
   "execution_count": null,
   "id": "c6c743a2-74b5-4190-afec-8a658186641b",
   "metadata": {},
   "outputs": [],
   "source": []
  },
  {
   "cell_type": "code",
   "execution_count": 59,
   "id": "1d776764-3850-4437-938c-37fa415eb28d",
   "metadata": {},
   "outputs": [],
   "source": [
    "data_list= list()"
   ]
  },
  {
   "cell_type": "code",
   "execution_count": 60,
   "id": "5d042439-7d41-42ab-84e7-d011b6feb4cc",
   "metadata": {
    "collapsed": true,
    "jupyter": {
     "outputs_hidden": true
    },
    "tags": []
   },
   "outputs": [
    {
     "name": "stderr",
     "output_type": "stream",
     "text": [
      "Warning message in dcast(., variable ~ sample_id, value = \"value\"):\n",
      "“The dcast generic in data.table has been passed a data.frame and will attempt to redirect to the reshape2::dcast; please note that reshape2 is deprecated, and this redirection is now deprecated as well. Please do this redirection yourself like reshape2::dcast(.). In the next version, this warning will become an error.”\n",
      "Warning message in dcast(., variable ~ sample_id, value = \"value\"):\n",
      "“The dcast generic in data.table has been passed a data.frame and will attempt to redirect to the reshape2::dcast; please note that reshape2 is deprecated, and this redirection is now deprecated as well. Please do this redirection yourself like reshape2::dcast(.). In the next version, this warning will become an error.”\n",
      "Warning message in dcast(., variable ~ sample_id, value = \"value\"):\n",
      "“The dcast generic in data.table has been passed a data.frame and will attempt to redirect to the reshape2::dcast; please note that reshape2 is deprecated, and this redirection is now deprecated as well. Please do this redirection yourself like reshape2::dcast(.). In the next version, this warning will become an error.”\n",
      "Warning message in dcast(., variable ~ sample_id, value = \"value\"):\n",
      "“The dcast generic in data.table has been passed a data.frame and will attempt to redirect to the reshape2::dcast; please note that reshape2 is deprecated, and this redirection is now deprecated as well. Please do this redirection yourself like reshape2::dcast(.). In the next version, this warning will become an error.”\n",
      "Warning message in dcast(., variable ~ sample_id, value = \"value\"):\n",
      "“The dcast generic in data.table has been passed a data.frame and will attempt to redirect to the reshape2::dcast; please note that reshape2 is deprecated, and this redirection is now deprecated as well. Please do this redirection yourself like reshape2::dcast(.). In the next version, this warning will become an error.”\n",
      "Warning message in dcast(., variable ~ sample_id, value = \"value\"):\n",
      "“The dcast generic in data.table has been passed a data.frame and will attempt to redirect to the reshape2::dcast; please note that reshape2 is deprecated, and this redirection is now deprecated as well. Please do this redirection yourself like reshape2::dcast(.). In the next version, this warning will become an error.”\n",
      "Warning message in dcast(., variable ~ sample_id, value = \"value\"):\n",
      "“The dcast generic in data.table has been passed a data.frame and will attempt to redirect to the reshape2::dcast; please note that reshape2 is deprecated, and this redirection is now deprecated as well. Please do this redirection yourself like reshape2::dcast(.). In the next version, this warning will become an error.”\n",
      "Warning message in dcast(., variable ~ sample_id, value = \"value\"):\n",
      "“The dcast generic in data.table has been passed a data.frame and will attempt to redirect to the reshape2::dcast; please note that reshape2 is deprecated, and this redirection is now deprecated as well. Please do this redirection yourself like reshape2::dcast(.). In the next version, this warning will become an error.”\n",
      "Warning message in dcast(., variable ~ sample_id, value = \"value\"):\n",
      "“The dcast generic in data.table has been passed a data.frame and will attempt to redirect to the reshape2::dcast; please note that reshape2 is deprecated, and this redirection is now deprecated as well. Please do this redirection yourself like reshape2::dcast(.). In the next version, this warning will become an error.”\n",
      "Warning message in dcast(., variable ~ sample_id, value = \"value\"):\n",
      "“The dcast generic in data.table has been passed a data.frame and will attempt to redirect to the reshape2::dcast; please note that reshape2 is deprecated, and this redirection is now deprecated as well. Please do this redirection yourself like reshape2::dcast(.). In the next version, this warning will become an error.”\n",
      "Warning message in dcast(., variable ~ sample_id, value = \"value\"):\n",
      "“The dcast generic in data.table has been passed a data.frame and will attempt to redirect to the reshape2::dcast; please note that reshape2 is deprecated, and this redirection is now deprecated as well. Please do this redirection yourself like reshape2::dcast(.). In the next version, this warning will become an error.”\n",
      "Warning message in dcast(., variable ~ sample_id, value = \"value\"):\n",
      "“The dcast generic in data.table has been passed a data.frame and will attempt to redirect to the reshape2::dcast; please note that reshape2 is deprecated, and this redirection is now deprecated as well. Please do this redirection yourself like reshape2::dcast(.). In the next version, this warning will become an error.”\n",
      "Warning message in dcast(., variable ~ sample_id, value = \"value\"):\n",
      "“The dcast generic in data.table has been passed a data.frame and will attempt to redirect to the reshape2::dcast; please note that reshape2 is deprecated, and this redirection is now deprecated as well. Please do this redirection yourself like reshape2::dcast(.). In the next version, this warning will become an error.”\n",
      "Warning message in dcast(., variable ~ sample_id, value = \"value\"):\n",
      "“The dcast generic in data.table has been passed a data.frame and will attempt to redirect to the reshape2::dcast; please note that reshape2 is deprecated, and this redirection is now deprecated as well. Please do this redirection yourself like reshape2::dcast(.). In the next version, this warning will become an error.”\n",
      "Warning message in dcast(., variable ~ sample_id, value = \"value\"):\n",
      "“The dcast generic in data.table has been passed a data.frame and will attempt to redirect to the reshape2::dcast; please note that reshape2 is deprecated, and this redirection is now deprecated as well. Please do this redirection yourself like reshape2::dcast(.). In the next version, this warning will become an error.”\n",
      "Warning message in dcast(., variable ~ sample_id, value = \"value\"):\n",
      "“The dcast generic in data.table has been passed a data.frame and will attempt to redirect to the reshape2::dcast; please note that reshape2 is deprecated, and this redirection is now deprecated as well. Please do this redirection yourself like reshape2::dcast(.). In the next version, this warning will become an error.”\n",
      "Warning message in dcast(., variable ~ sample_id, value = \"value\"):\n",
      "“The dcast generic in data.table has been passed a data.frame and will attempt to redirect to the reshape2::dcast; please note that reshape2 is deprecated, and this redirection is now deprecated as well. Please do this redirection yourself like reshape2::dcast(.). In the next version, this warning will become an error.”\n",
      "Warning message in dcast(., variable ~ sample_id, value = \"value\"):\n",
      "“The dcast generic in data.table has been passed a data.frame and will attempt to redirect to the reshape2::dcast; please note that reshape2 is deprecated, and this redirection is now deprecated as well. Please do this redirection yourself like reshape2::dcast(.). In the next version, this warning will become an error.”\n"
     ]
    }
   ],
   "source": [
    "for(i in unique(final_data_long$type)){\n",
    "    data = final_data_long[final_data_long$type == i, ]\n",
    "    \n",
    "    data$type = NULL\n",
    "    data$cell_type = NULL\n",
    "    \n",
    "    data = data %>% dcast(variable ~ sample_id, value  = \"value\")\n",
    "    rownames(data) = data$variable\n",
    "    colnames(data) = str_replace(colnames(data), 'value\\\\.', '')\n",
    "    data$variable = NULL\n",
    "    \n",
    "    data[setdiff( samples, names(data))] = NA  # use all samples\n",
    "    \n",
    "    data = data[,order(colnames(data))]\n",
    "    data = data[,colnames(data) %in% samples]\n",
    "    \n",
    "    data_list[[i]] = as.matrix(data)\n",
    "    }"
   ]
  },
  {
   "cell_type": "code",
   "execution_count": 61,
   "id": "540008eb-3d9e-43b9-a3b9-63d281e4609e",
   "metadata": {},
   "outputs": [
    {
     "data": {
      "text/html": [
       "<style>\n",
       ".list-inline {list-style: none; margin:0; padding: 0}\n",
       ".list-inline>li {display: inline-block}\n",
       ".list-inline>li:not(:last-child)::after {content: \"\\00b7\"; padding: 0 .5ex}\n",
       "</style>\n",
       "<ol class=list-inline><li>872</li><li>128</li></ol>\n"
      ],
      "text/latex": [
       "\\begin{enumerate*}\n",
       "\\item 872\n",
       "\\item 128\n",
       "\\end{enumerate*}\n"
      ],
      "text/markdown": [
       "1. 872\n",
       "2. 128\n",
       "\n",
       "\n"
      ],
      "text/plain": [
       "[1] 872 128"
      ]
     },
     "metadata": {},
     "output_type": "display_data"
    }
   ],
   "source": [
    "dim(data)"
   ]
  },
  {
   "cell_type": "code",
   "execution_count": 62,
   "id": "cb172eca-b9b0-49f2-8763-da9b2c00053a",
   "metadata": {
    "tags": []
   },
   "outputs": [],
   "source": [
    "#str(data_list)"
   ]
  },
  {
   "cell_type": "markdown",
   "id": "c66ad1ca-77a9-4bbe-9a19-d29b6f79b03d",
   "metadata": {
    "tags": []
   },
   "source": [
    "## Create MOFA object"
   ]
  },
  {
   "cell_type": "markdown",
   "id": "c177356a-eed8-4f3a-a270-77dab57ac301",
   "metadata": {
    "tags": []
   },
   "source": [
    "### Create for own data and train"
   ]
  },
  {
   "cell_type": "code",
   "execution_count": 64,
   "id": "d39d15d4-36e8-4b8c-8d86-495470ac3371",
   "metadata": {},
   "outputs": [],
   "source": [
    "names(data_list) = str_replace_all(names(data_list) , '__|\\\\.|\\\\.\\\\.|\\\\.\\\\.\\\\.', '')"
   ]
  },
  {
   "cell_type": "code",
   "execution_count": 65,
   "id": "58887d75-5955-4344-80a0-1c22296b662e",
   "metadata": {},
   "outputs": [],
   "source": [
    "data_list_orig = data_list"
   ]
  },
  {
   "cell_type": "code",
   "execution_count": 66,
   "id": "f1c1aac8-310c-4385-9e96-c00ec4ab6bb5",
   "metadata": {},
   "outputs": [],
   "source": [
    "## Adjustments for plotting overview"
   ]
  },
  {
   "cell_type": "code",
   "execution_count": 67,
   "id": "a874c8a5-d101-4872-8c19-befae4ad85fd",
   "metadata": {},
   "outputs": [],
   "source": [
    "names(data_list) = str_replace(names(data_list), 'X0_TcellCD4', 'CD4+ T cells (Cluster 0)')\n",
    "names(data_list) = str_replace(names(data_list), 'clinical_data', 'Clinical')\n",
    "names(data_list) = str_replace(names(data_list), 'X1_TcellCD8', 'CD8+ T cells (Cluster 1)')\n",
    "names(data_list) = str_replace(names(data_list), 'X10_Bcell', 'B cells (Cluster 10)')\n",
    "names(data_list) = str_replace(names(data_list), 'X11_TcellCD4', 'CD4+ T cells (Cluster 11)')\n",
    "names(data_list) = str_replace(names(data_list), 'X12_MonocytesCD16_FCGR3A', 'FCGR3A(high) Monocytes (Cluster 12)')\n",
    "names(data_list) = str_replace(names(data_list), 'X13_Dendritic', 'Dendritic cells (Cluster 13)')\n",
    "names(data_list) = str_replace(names(data_list), 'X2_TcellCD4', 'CD4+ T cells (Cluster 2)')\n",
    "names(data_list) = str_replace(names(data_list), 'X3_NK', 'NK cells (Cluster 3)')\n",
    "names(data_list) = str_replace(names(data_list), 'X4_MonocytesCD14', 'CD14(high) Monocytes (Cluster 4)')\n",
    "names(data_list) = str_replace(names(data_list), 'X5_TcellCD4', 'CD4+ T cells (Cluster 5)')\n",
    "names(data_list) = str_replace(names(data_list), 'X6_MonocytesCD14', 'CD14(high) Monocytes (Cluster 6)')\n",
    "names(data_list) = str_replace(names(data_list), 'X7_MonocytesCD14', 'CD14(high) Monocytes (Cluster 7)')\n",
    "names(data_list) = str_replace(names(data_list), 'X8_Bcell','B cells (Cluster 8)')\n",
    "names(data_list) = str_replace(names(data_list), 'X9_MonocytesCD16_FCGR3A','FCGR3A(high) Monocytes (Cluster 9)')\n",
    "\n",
    "\n",
    "names(data_list) = str_replace(names(data_list), 'clinical','Clinical')\n",
    "names(data_list) = str_replace(names(data_list), 'cytokine','Cytokine')\n",
    "names(data_list) = str_replace(names(data_list), 'neutrophil','Neutrophil')\n",
    "names(data_list) = str_replace(names(data_list), 'proteomics','Proteomics')"
   ]
  },
  {
   "cell_type": "code",
   "execution_count": 68,
   "id": "4d9d78d4-613e-4f70-856f-3ce283280975",
   "metadata": {},
   "outputs": [
    {
     "data": {
      "text/html": [
       "<style>\n",
       ".list-inline {list-style: none; margin:0; padding: 0}\n",
       ".list-inline>li {display: inline-block}\n",
       ".list-inline>li:not(:last-child)::after {content: \"\\00b7\"; padding: 0 .5ex}\n",
       "</style>\n",
       "<ol class=list-inline><li>'Clinical'</li><li>'Cytokine'</li><li>'Neutrophil'</li><li>'Proteomics'</li><li>'CD4+ T cells (Cluster 0)'</li><li>'CD8+ T cells (Cluster 1)'</li><li>'B cells (Cluster 10)'</li><li>'CD4+ T cells (Cluster 11)'</li><li>'FCGR3A(high) Monocytes (Cluster 12)'</li><li>'Dendritic cells (Cluster 13)'</li><li>'CD4+ T cells (Cluster 2)'</li><li>'NK cells (Cluster 3)'</li><li>'CD14(high) Monocytes (Cluster 4)'</li><li>'CD4+ T cells (Cluster 5)'</li><li>'CD14(high) Monocytes (Cluster 6)'</li><li>'CD14(high) Monocytes (Cluster 7)'</li><li>'B cells (Cluster 8)'</li><li>'FCGR3A(high) Monocytes (Cluster 9)'</li></ol>\n"
      ],
      "text/latex": [
       "\\begin{enumerate*}\n",
       "\\item 'Clinical'\n",
       "\\item 'Cytokine'\n",
       "\\item 'Neutrophil'\n",
       "\\item 'Proteomics'\n",
       "\\item 'CD4+ T cells (Cluster 0)'\n",
       "\\item 'CD8+ T cells (Cluster 1)'\n",
       "\\item 'B cells (Cluster 10)'\n",
       "\\item 'CD4+ T cells (Cluster 11)'\n",
       "\\item 'FCGR3A(high) Monocytes (Cluster 12)'\n",
       "\\item 'Dendritic cells (Cluster 13)'\n",
       "\\item 'CD4+ T cells (Cluster 2)'\n",
       "\\item 'NK cells (Cluster 3)'\n",
       "\\item 'CD14(high) Monocytes (Cluster 4)'\n",
       "\\item 'CD4+ T cells (Cluster 5)'\n",
       "\\item 'CD14(high) Monocytes (Cluster 6)'\n",
       "\\item 'CD14(high) Monocytes (Cluster 7)'\n",
       "\\item 'B cells (Cluster 8)'\n",
       "\\item 'FCGR3A(high) Monocytes (Cluster 9)'\n",
       "\\end{enumerate*}\n"
      ],
      "text/markdown": [
       "1. 'Clinical'\n",
       "2. 'Cytokine'\n",
       "3. 'Neutrophil'\n",
       "4. 'Proteomics'\n",
       "5. 'CD4+ T cells (Cluster 0)'\n",
       "6. 'CD8+ T cells (Cluster 1)'\n",
       "7. 'B cells (Cluster 10)'\n",
       "8. 'CD4+ T cells (Cluster 11)'\n",
       "9. 'FCGR3A(high) Monocytes (Cluster 12)'\n",
       "10. 'Dendritic cells (Cluster 13)'\n",
       "11. 'CD4+ T cells (Cluster 2)'\n",
       "12. 'NK cells (Cluster 3)'\n",
       "13. 'CD14(high) Monocytes (Cluster 4)'\n",
       "14. 'CD4+ T cells (Cluster 5)'\n",
       "15. 'CD14(high) Monocytes (Cluster 6)'\n",
       "16. 'CD14(high) Monocytes (Cluster 7)'\n",
       "17. 'B cells (Cluster 8)'\n",
       "18. 'FCGR3A(high) Monocytes (Cluster 9)'\n",
       "\n",
       "\n"
      ],
      "text/plain": [
       " [1] \"Clinical\"                            \"Cytokine\"                           \n",
       " [3] \"Neutrophil\"                          \"Proteomics\"                         \n",
       " [5] \"CD4+ T cells (Cluster 0)\"            \"CD8+ T cells (Cluster 1)\"           \n",
       " [7] \"B cells (Cluster 10)\"                \"CD4+ T cells (Cluster 11)\"          \n",
       " [9] \"FCGR3A(high) Monocytes (Cluster 12)\" \"Dendritic cells (Cluster 13)\"       \n",
       "[11] \"CD4+ T cells (Cluster 2)\"            \"NK cells (Cluster 3)\"               \n",
       "[13] \"CD14(high) Monocytes (Cluster 4)\"    \"CD4+ T cells (Cluster 5)\"           \n",
       "[15] \"CD14(high) Monocytes (Cluster 6)\"    \"CD14(high) Monocytes (Cluster 7)\"   \n",
       "[17] \"B cells (Cluster 8)\"                 \"FCGR3A(high) Monocytes (Cluster 9)\" "
      ]
     },
     "metadata": {},
     "output_type": "display_data"
    }
   ],
   "source": [
    "names(data_list)"
   ]
  },
  {
   "cell_type": "code",
   "execution_count": 69,
   "id": "6e236407-9843-4293-b413-2ca5f3aa1609",
   "metadata": {},
   "outputs": [
    {
     "data": {
      "text/html": [
       "<table class=\"dataframe\">\n",
       "<caption>A matrix: 4 × 128 of type dbl</caption>\n",
       "<thead>\n",
       "\t<tr><th></th><th scope=col>k1</th><th scope=col>k10</th><th scope=col>k11</th><th scope=col>k12</th><th scope=col>k13</th><th scope=col>k14</th><th scope=col>k15</th><th scope=col>k16</th><th scope=col>k17</th><th scope=col>k18</th><th scope=col>⋯</th><th scope=col>m7.2</th><th scope=col>m7.3</th><th scope=col>m7.4</th><th scope=col>m8.1</th><th scope=col>m8.2</th><th scope=col>m8.3</th><th scope=col>m8.4</th><th scope=col>m9.1</th><th scope=col>m9.2</th><th scope=col>m9.3</th></tr>\n",
       "</thead>\n",
       "<tbody>\n",
       "\t<tr><th scope=row>CK</th><td>-2.3970221</td><td>        NA</td><td>-1.443924</td><td>-0.8775918</td><td>-1.5053606</td><td>-0.3268231</td><td>-0.6941258</td><td>-1.648873</td><td>-1.335178</td><td>-0.9402147</td><td>⋯</td><td>1.2402687</td><td> 0.4383163</td><td>-0.6941258</td><td>-0.5921965</td><td>-0.9897138</td><td>-1.078094</td><td>      NA</td><td> 0.8775918</td><td>1.0417650</td><td> 0.05181301</td></tr>\n",
       "\t<tr><th scope=row>CK_MB</th><td>        NA</td><td>        NA</td><td>       NA</td><td>        NA</td><td>        NA</td><td>        NA</td><td>        NA</td><td>       NA</td><td>       NA</td><td>        NA</td><td>⋯</td><td>0.9766002</td><td>-0.5602008</td><td>        NA</td><td>        NA</td><td>        NA</td><td>       NA</td><td>      NA</td><td> 0.5204647</td><td>0.6853063</td><td>-0.50090447</td></tr>\n",
       "\t<tr><th scope=row>CRP</th><td>-0.3186394</td><td>-0.8871466</td><td>-1.574445</td><td>        NA</td><td>-0.3186394</td><td> 0.2683089</td><td>-1.5744450</td><td>       NA</td><td>-1.574445</td><td>        NA</td><td>⋯</td><td>       NA</td><td> 0.9051525</td><td> 0.3827258</td><td> 0.7050659</td><td> 1.2760918</td><td> 1.663793</td><td>1.426077</td><td>-0.5024022</td><td>       NA</td><td> 0.38272581</td></tr>\n",
       "\t<tr><th scope=row>Troponin</th><td>-1.2864792</td><td>        NA</td><td>-1.286479</td><td>-1.2864792</td><td>-1.2864792</td><td>-0.8172368</td><td>-1.2864792</td><td>-1.286479</td><td>-1.286479</td><td>-1.2864792</td><td>⋯</td><td>0.6744898</td><td> 0.4585578</td><td>        NA</td><td>-0.6211776</td><td>-0.5951785</td><td>       NA</td><td>      NA</td><td>-0.5194481</td><td>0.6211776</td><td> 0.21779838</td></tr>\n",
       "</tbody>\n",
       "</table>\n"
      ],
      "text/latex": [
       "A matrix: 4 × 128 of type dbl\n",
       "\\begin{tabular}{r|lllllllllllllllllllll}\n",
       "  & k1 & k10 & k11 & k12 & k13 & k14 & k15 & k16 & k17 & k18 & ⋯ & m7.2 & m7.3 & m7.4 & m8.1 & m8.2 & m8.3 & m8.4 & m9.1 & m9.2 & m9.3\\\\\n",
       "\\hline\n",
       "\tCK & -2.3970221 &         NA & -1.443924 & -0.8775918 & -1.5053606 & -0.3268231 & -0.6941258 & -1.648873 & -1.335178 & -0.9402147 & ⋯ & 1.2402687 &  0.4383163 & -0.6941258 & -0.5921965 & -0.9897138 & -1.078094 &       NA &  0.8775918 & 1.0417650 &  0.05181301\\\\\n",
       "\tCK\\_MB &         NA &         NA &        NA &         NA &         NA &         NA &         NA &        NA &        NA &         NA & ⋯ & 0.9766002 & -0.5602008 &         NA &         NA &         NA &        NA &       NA &  0.5204647 & 0.6853063 & -0.50090447\\\\\n",
       "\tCRP & -0.3186394 & -0.8871466 & -1.574445 &         NA & -0.3186394 &  0.2683089 & -1.5744450 &        NA & -1.574445 &         NA & ⋯ &        NA &  0.9051525 &  0.3827258 &  0.7050659 &  1.2760918 &  1.663793 & 1.426077 & -0.5024022 &        NA &  0.38272581\\\\\n",
       "\tTroponin & -1.2864792 &         NA & -1.286479 & -1.2864792 & -1.2864792 & -0.8172368 & -1.2864792 & -1.286479 & -1.286479 & -1.2864792 & ⋯ & 0.6744898 &  0.4585578 &         NA & -0.6211776 & -0.5951785 &        NA &       NA & -0.5194481 & 0.6211776 &  0.21779838\\\\\n",
       "\\end{tabular}\n"
      ],
      "text/markdown": [
       "\n",
       "A matrix: 4 × 128 of type dbl\n",
       "\n",
       "| <!--/--> | k1 | k10 | k11 | k12 | k13 | k14 | k15 | k16 | k17 | k18 | ⋯ | m7.2 | m7.3 | m7.4 | m8.1 | m8.2 | m8.3 | m8.4 | m9.1 | m9.2 | m9.3 |\n",
       "|---|---|---|---|---|---|---|---|---|---|---|---|---|---|---|---|---|---|---|---|---|---|\n",
       "| CK | -2.3970221 |         NA | -1.443924 | -0.8775918 | -1.5053606 | -0.3268231 | -0.6941258 | -1.648873 | -1.335178 | -0.9402147 | ⋯ | 1.2402687 |  0.4383163 | -0.6941258 | -0.5921965 | -0.9897138 | -1.078094 |       NA |  0.8775918 | 1.0417650 |  0.05181301 |\n",
       "| CK_MB |         NA |         NA |        NA |         NA |         NA |         NA |         NA |        NA |        NA |         NA | ⋯ | 0.9766002 | -0.5602008 |         NA |         NA |         NA |        NA |       NA |  0.5204647 | 0.6853063 | -0.50090447 |\n",
       "| CRP | -0.3186394 | -0.8871466 | -1.574445 |         NA | -0.3186394 |  0.2683089 | -1.5744450 |        NA | -1.574445 |         NA | ⋯ |        NA |  0.9051525 |  0.3827258 |  0.7050659 |  1.2760918 |  1.663793 | 1.426077 | -0.5024022 |        NA |  0.38272581 |\n",
       "| Troponin | -1.2864792 |         NA | -1.286479 | -1.2864792 | -1.2864792 | -0.8172368 | -1.2864792 | -1.286479 | -1.286479 | -1.2864792 | ⋯ | 0.6744898 |  0.4585578 |         NA | -0.6211776 | -0.5951785 |        NA |       NA | -0.5194481 | 0.6211776 |  0.21779838 |\n",
       "\n"
      ],
      "text/plain": [
       "         k1         k10        k11       k12        k13        k14       \n",
       "CK       -2.3970221         NA -1.443924 -0.8775918 -1.5053606 -0.3268231\n",
       "CK_MB            NA         NA        NA         NA         NA         NA\n",
       "CRP      -0.3186394 -0.8871466 -1.574445         NA -0.3186394  0.2683089\n",
       "Troponin -1.2864792         NA -1.286479 -1.2864792 -1.2864792 -0.8172368\n",
       "         k15        k16       k17       k18        ⋯ m7.2      m7.3      \n",
       "CK       -0.6941258 -1.648873 -1.335178 -0.9402147 ⋯ 1.2402687  0.4383163\n",
       "CK_MB            NA        NA        NA         NA ⋯ 0.9766002 -0.5602008\n",
       "CRP      -1.5744450        NA -1.574445         NA ⋯        NA  0.9051525\n",
       "Troponin -1.2864792 -1.286479 -1.286479 -1.2864792 ⋯ 0.6744898  0.4585578\n",
       "         m7.4       m8.1       m8.2       m8.3      m8.4     m9.1      \n",
       "CK       -0.6941258 -0.5921965 -0.9897138 -1.078094       NA  0.8775918\n",
       "CK_MB            NA         NA         NA        NA       NA  0.5204647\n",
       "CRP       0.3827258  0.7050659  1.2760918  1.663793 1.426077 -0.5024022\n",
       "Troponin         NA -0.6211776 -0.5951785        NA       NA -0.5194481\n",
       "         m9.2      m9.3       \n",
       "CK       1.0417650  0.05181301\n",
       "CK_MB    0.6853063 -0.50090447\n",
       "CRP             NA  0.38272581\n",
       "Troponin 0.6211776  0.21779838"
      ]
     },
     "metadata": {},
     "output_type": "display_data"
    }
   ],
   "source": [
    "head(data_list[[1]])"
   ]
  },
  {
   "cell_type": "code",
   "execution_count": 70,
   "id": "72465e3c-bceb-4131-b628-14ae8f3572f3",
   "metadata": {
    "tags": []
   },
   "outputs": [],
   "source": [
    "#str(data_list)"
   ]
  },
  {
   "cell_type": "code",
   "execution_count": 71,
   "id": "23ac8014-c111-48d7-acaf-fb4ee6516a46",
   "metadata": {},
   "outputs": [
    {
     "name": "stderr",
     "output_type": "stream",
     "text": [
      "Creating MOFA object from a list of matrices (features as rows, sample as columns)...\n",
      "\n",
      "\n"
     ]
    }
   ],
   "source": [
    "\n",
    "MOFAobject = create_mofa(data_list)"
   ]
  },
  {
   "cell_type": "code",
   "execution_count": 72,
   "id": "6e519e8f-f8a1-471d-b431-8c0876040173",
   "metadata": {},
   "outputs": [],
   "source": [
    "### Plot Data Overview"
   ]
  },
  {
   "cell_type": "code",
   "execution_count": 73,
   "id": "d585eef7-6d34-486f-9b29-786a1ef8e3fa",
   "metadata": {},
   "outputs": [],
   "source": [
    "options(repr.plot.width=30, repr.plot.height=10)\n",
    "mofa_overview = plot_data_overview(MOFAobject)"
   ]
  },
  {
   "cell_type": "code",
   "execution_count": 74,
   "id": "25ad394d-456b-485e-8fa3-98b17b3af311",
   "metadata": {},
   "outputs": [
    {
     "data": {
      "text/html": [
       "13282"
      ],
      "text/latex": [
       "13282"
      ],
      "text/markdown": [
       "13282"
      ],
      "text/plain": [
       "[1] 13282"
      ]
     },
     "metadata": {},
     "output_type": "display_data"
    }
   ],
   "source": [
    "length(unique(data_long$variable))"
   ]
  },
  {
   "cell_type": "code",
   "execution_count": 75,
   "id": "fb111060-0f4f-475d-831c-55ba5fc46aef",
   "metadata": {},
   "outputs": [],
   "source": [
    "# Specific Text Descriptions:\n",
    "xlabel = xlab('Samples') \n",
    "ylabel = ylab('View')"
   ]
  },
  {
   "cell_type": "code",
   "execution_count": 76,
   "id": "d0e56343-8c49-4a00-b67e-31b16e067e47",
   "metadata": {},
   "outputs": [],
   "source": [
    "figure_name = \"SUPP1_MOFA_Feature_Overview\""
   ]
  },
  {
   "cell_type": "code",
   "execution_count": 77,
   "id": "71ea18e8-5ae0-497d-add7-0937b310de51",
   "metadata": {},
   "outputs": [],
   "source": [
    "# Sizes of the plot\n",
    "width_par = 8.07\n",
    "height_par =6"
   ]
  },
  {
   "cell_type": "code",
   "execution_count": null,
   "id": "9ffdf9b1-2eaa-4da4-85ef-f5d1a94e0c64",
   "metadata": {},
   "outputs": [],
   "source": []
  },
  {
   "cell_type": "code",
   "execution_count": 78,
   "id": "f833861e-61b9-4923-8b99-3bb2d1cdca04",
   "metadata": {},
   "outputs": [
    {
     "name": "stderr",
     "output_type": "stream",
     "text": [
      "\u001b[1m\u001b[22mScale for \u001b[32mfill\u001b[39m is already present.\n",
      "Adding another scale for \u001b[32mfill\u001b[39m, which will replace the existing scale.\n"
     ]
    }
   ],
   "source": [
    "mofa_overview = mofa_overview + plot_config +cell_type_colors+\n",
    "                xlabel + ylabel + theme(axis.text.x = element_blank())"
   ]
  },
  {
   "cell_type": "code",
   "execution_count": 79,
   "id": "40a7cf8f-2081-4cea-8a49-249212581a85",
   "metadata": {},
   "outputs": [
    {
     "data": {
      "image/png": "[encoded data removed]",
      "text/plain": [
       "plot without title"
      ]
     },
     "metadata": {
      "image/png": {
       "height": 600,
       "width": 1800
      }
     },
     "output_type": "display_data"
    }
   ],
   "source": [
    "mofa_overview"
   ]
  },
  {
   "cell_type": "code",
   "execution_count": 80,
   "id": "a02dc71c-6be0-47b9-bd9b-f83effa4ca03",
   "metadata": {},
   "outputs": [
    {
     "data": {
      "text/html": [
       "<strong>png:</strong> 2"
      ],
      "text/latex": [
       "\\textbf{png:} 2"
      ],
      "text/markdown": [
       "**png:** 2"
      ],
      "text/plain": [
       "png \n",
       "  2 "
      ]
     },
     "metadata": {},
     "output_type": "display_data"
    }
   ],
   "source": [
    "pdf(paste0('figures/Supplementary_Figures/', figure_name,'_', name,'.pdf'), width =width_par, height = height_par)\n",
    "print(mofa_overview)\n",
    "dev.off()"
   ]
  },
  {
   "cell_type": "code",
   "execution_count": 81,
   "id": "882e9aa1-0cd8-44c8-9464-225b36f92700",
   "metadata": {},
   "outputs": [],
   "source": [
    "### Use orig MOFA object"
   ]
  },
  {
   "cell_type": "code",
   "execution_count": 82,
   "id": "353490df-1c5c-4e7d-9138-7ac593c2d35e",
   "metadata": {},
   "outputs": [
    {
     "name": "stderr",
     "output_type": "stream",
     "text": [
      "Creating MOFA object from a list of matrices (features as rows, sample as columns)...\n",
      "\n",
      "\n"
     ]
    }
   ],
   "source": [
    "MOFAobject = create_mofa(data_list_orig)"
   ]
  },
  {
   "cell_type": "markdown",
   "id": "8e0eb8e8-322f-4d7f-b6d4-754443e2f496",
   "metadata": {
    "tags": []
   },
   "source": [
    "###  Add covariates for mefisto"
   ]
  },
  {
   "cell_type": "code",
   "execution_count": 83,
   "id": "35e82372-ef65-466b-b23f-5af59796fcfb",
   "metadata": {},
   "outputs": [
    {
     "data": {
      "text/plain": [
       "Untrained MOFA model with the following characteristics: \n",
       " Number of views: 18 \n",
       " Views names: clinical_data cytokine neutrophil proteomics X0_TcellCD4 X1_TcellCD8 X10_Bcell X11_TcellCD4 X12_MonocytesCD16_FCGR3A X13_Dendritic X2_TcellCD4 X3_NK X4_MonocytesCD14 X5_TcellCD4 X6_MonocytesCD14 X7_MonocytesCD14 X8_Bcell X9_MonocytesCD16_FCGR3A \n",
       " Number of features (per view): 4 65 892 490 688 734 796 674 941 315 646 465 2159 479 1370 1132 560 872 \n",
       " Number of groups: 1 \n",
       " Groups names: group1 \n",
       " Number of samples (per group): 128 \n",
       " "
      ]
     },
     "metadata": {},
     "output_type": "display_data"
    }
   ],
   "source": [
    "MOFAobject"
   ]
  },
  {
   "cell_type": "code",
   "execution_count": 84,
   "id": "6ccac93c-a55f-4f7e-8c95-96a3bbd13447",
   "metadata": {},
   "outputs": [],
   "source": [
    "#cov = as.data.frame(cov)"
   ]
  },
  {
   "cell_type": "markdown",
   "id": "7b948109-3903-4b4f-a727-80471943e04c",
   "metadata": {
    "tags": []
   },
   "source": [
    "### Set data options"
   ]
  },
  {
   "cell_type": "code",
   "execution_count": 85,
   "id": "9693530f-d352-470f-9239-0ec892c961b8",
   "metadata": {},
   "outputs": [],
   "source": [
    "mefisto_opts = get_default_mefisto_options(MOFAobject)"
   ]
  },
  {
   "cell_type": "code",
   "execution_count": 86,
   "id": "112705d7-013e-4213-8886-fd69f42fea63",
   "metadata": {},
   "outputs": [],
   "source": [
    "data_opts = get_default_data_options(MOFAobject)"
   ]
  },
  {
   "cell_type": "code",
   "execution_count": 87,
   "id": "4545b8db-75b4-41d5-87b1-debe0d401d59",
   "metadata": {},
   "outputs": [
    {
     "data": {
      "text/html": [
       "<dl>\n",
       "\t<dt>$scale_views</dt>\n",
       "\t\t<dd>FALSE</dd>\n",
       "\t<dt>$scale_groups</dt>\n",
       "\t\t<dd>FALSE</dd>\n",
       "\t<dt>$center_groups</dt>\n",
       "\t\t<dd>TRUE</dd>\n",
       "\t<dt>$use_float32</dt>\n",
       "\t\t<dd>FALSE</dd>\n",
       "\t<dt>$views</dt>\n",
       "\t\t<dd><style>\n",
       ".list-inline {list-style: none; margin:0; padding: 0}\n",
       ".list-inline>li {display: inline-block}\n",
       ".list-inline>li:not(:last-child)::after {content: \"\\00b7\"; padding: 0 .5ex}\n",
       "</style>\n",
       "<ol class=list-inline><li>'clinical_data'</li><li>'cytokine'</li><li>'neutrophil'</li><li>'proteomics'</li><li>'X0_TcellCD4'</li><li>'X1_TcellCD8'</li><li>'X10_Bcell'</li><li>'X11_TcellCD4'</li><li>'X12_MonocytesCD16_FCGR3A'</li><li>'X13_Dendritic'</li><li>'X2_TcellCD4'</li><li>'X3_NK'</li><li>'X4_MonocytesCD14'</li><li>'X5_TcellCD4'</li><li>'X6_MonocytesCD14'</li><li>'X7_MonocytesCD14'</li><li>'X8_Bcell'</li><li>'X9_MonocytesCD16_FCGR3A'</li></ol>\n",
       "</dd>\n",
       "\t<dt>$groups</dt>\n",
       "\t\t<dd>'group1'</dd>\n",
       "</dl>\n"
      ],
      "text/latex": [
       "\\begin{description}\n",
       "\\item[\\$scale\\_views] FALSE\n",
       "\\item[\\$scale\\_groups] FALSE\n",
       "\\item[\\$center\\_groups] TRUE\n",
       "\\item[\\$use\\_float32] FALSE\n",
       "\\item[\\$views] \\begin{enumerate*}\n",
       "\\item 'clinical\\_data'\n",
       "\\item 'cytokine'\n",
       "\\item 'neutrophil'\n",
       "\\item 'proteomics'\n",
       "\\item 'X0\\_TcellCD4'\n",
       "\\item 'X1\\_TcellCD8'\n",
       "\\item 'X10\\_Bcell'\n",
       "\\item 'X11\\_TcellCD4'\n",
       "\\item 'X12\\_MonocytesCD16\\_FCGR3A'\n",
       "\\item 'X13\\_Dendritic'\n",
       "\\item 'X2\\_TcellCD4'\n",
       "\\item 'X3\\_NK'\n",
       "\\item 'X4\\_MonocytesCD14'\n",
       "\\item 'X5\\_TcellCD4'\n",
       "\\item 'X6\\_MonocytesCD14'\n",
       "\\item 'X7\\_MonocytesCD14'\n",
       "\\item 'X8\\_Bcell'\n",
       "\\item 'X9\\_MonocytesCD16\\_FCGR3A'\n",
       "\\end{enumerate*}\n",
       "\n",
       "\\item[\\$groups] 'group1'\n",
       "\\end{description}\n"
      ],
      "text/markdown": [
       "$scale_views\n",
       ":   FALSE\n",
       "$scale_groups\n",
       ":   FALSE\n",
       "$center_groups\n",
       ":   TRUE\n",
       "$use_float32\n",
       ":   FALSE\n",
       "$views\n",
       ":   1. 'clinical_data'\n",
       "2. 'cytokine'\n",
       "3. 'neutrophil'\n",
       "4. 'proteomics'\n",
       "5. 'X0_TcellCD4'\n",
       "6. 'X1_TcellCD8'\n",
       "7. 'X10_Bcell'\n",
       "8. 'X11_TcellCD4'\n",
       "9. 'X12_MonocytesCD16_FCGR3A'\n",
       "10. 'X13_Dendritic'\n",
       "11. 'X2_TcellCD4'\n",
       "12. 'X3_NK'\n",
       "13. 'X4_MonocytesCD14'\n",
       "14. 'X5_TcellCD4'\n",
       "15. 'X6_MonocytesCD14'\n",
       "16. 'X7_MonocytesCD14'\n",
       "17. 'X8_Bcell'\n",
       "18. 'X9_MonocytesCD16_FCGR3A'\n",
       "\n",
       "\n",
       "\n",
       "$groups\n",
       ":   'group1'\n",
       "\n",
       "\n"
      ],
      "text/plain": [
       "$scale_views\n",
       "[1] FALSE\n",
       "\n",
       "$scale_groups\n",
       "[1] FALSE\n",
       "\n",
       "$center_groups\n",
       "[1] TRUE\n",
       "\n",
       "$use_float32\n",
       "[1] FALSE\n",
       "\n",
       "$views\n",
       " [1] \"clinical_data\"            \"cytokine\"                \n",
       " [3] \"neutrophil\"               \"proteomics\"              \n",
       " [5] \"X0_TcellCD4\"              \"X1_TcellCD8\"             \n",
       " [7] \"X10_Bcell\"                \"X11_TcellCD4\"            \n",
       " [9] \"X12_MonocytesCD16_FCGR3A\" \"X13_Dendritic\"           \n",
       "[11] \"X2_TcellCD4\"              \"X3_NK\"                   \n",
       "[13] \"X4_MonocytesCD14\"         \"X5_TcellCD4\"             \n",
       "[15] \"X6_MonocytesCD14\"         \"X7_MonocytesCD14\"        \n",
       "[17] \"X8_Bcell\"                 \"X9_MonocytesCD16_FCGR3A\" \n",
       "\n",
       "$groups\n",
       "[1] \"group1\"\n"
      ]
     },
     "metadata": {},
     "output_type": "display_data"
    }
   ],
   "source": [
    "data_opts"
   ]
  },
  {
   "cell_type": "code",
   "execution_count": 88,
   "id": "6b0946b0-5606-466f-87e8-c3a65a6233fc",
   "metadata": {},
   "outputs": [],
   "source": [
    "data_opts$scale_views = TRUE # decide whether to scale the data"
   ]
  },
  {
   "cell_type": "code",
   "execution_count": 89,
   "id": "e0ef44c2-9b1e-4361-873f-316c3bfa8fbf",
   "metadata": {},
   "outputs": [],
   "source": [
    "## Define model options"
   ]
  },
  {
   "cell_type": "code",
   "execution_count": 90,
   "id": "a4fb423b-9f01-4107-843f-d23d5dd4f0a3",
   "metadata": {},
   "outputs": [
    {
     "data": {
      "text/html": [
       "<dl>\n",
       "\t<dt>$likelihoods</dt>\n",
       "\t\t<dd><style>\n",
       ".dl-inline {width: auto; margin:0; padding: 0}\n",
       ".dl-inline>dt, .dl-inline>dd {float: none; width: auto; display: inline-block}\n",
       ".dl-inline>dt::after {content: \":\\0020\"; padding-right: .5ex}\n",
       ".dl-inline>dt:not(:first-of-type) {padding-left: .5ex}\n",
       "</style><dl class=dl-inline><dt>clinical_data</dt><dd>'gaussian'</dd><dt>cytokine</dt><dd>'gaussian'</dd><dt>neutrophil</dt><dd>'gaussian'</dd><dt>proteomics</dt><dd>'gaussian'</dd><dt>X0_TcellCD4</dt><dd>'gaussian'</dd><dt>X1_TcellCD8</dt><dd>'gaussian'</dd><dt>X10_Bcell</dt><dd>'gaussian'</dd><dt>X11_TcellCD4</dt><dd>'gaussian'</dd><dt>X12_MonocytesCD16_FCGR3A</dt><dd>'gaussian'</dd><dt>X13_Dendritic</dt><dd>'gaussian'</dd><dt>X2_TcellCD4</dt><dd>'gaussian'</dd><dt>X3_NK</dt><dd>'gaussian'</dd><dt>X4_MonocytesCD14</dt><dd>'gaussian'</dd><dt>X5_TcellCD4</dt><dd>'gaussian'</dd><dt>X6_MonocytesCD14</dt><dd>'gaussian'</dd><dt>X7_MonocytesCD14</dt><dd>'gaussian'</dd><dt>X8_Bcell</dt><dd>'gaussian'</dd><dt>X9_MonocytesCD16_FCGR3A</dt><dd>'gaussian'</dd></dl>\n",
       "</dd>\n",
       "\t<dt>$num_factors</dt>\n",
       "\t\t<dd>15</dd>\n",
       "\t<dt>$spikeslab_factors</dt>\n",
       "\t\t<dd>FALSE</dd>\n",
       "\t<dt>$spikeslab_weights</dt>\n",
       "\t\t<dd>TRUE</dd>\n",
       "\t<dt>$ard_factors</dt>\n",
       "\t\t<dd>FALSE</dd>\n",
       "\t<dt>$ard_weights</dt>\n",
       "\t\t<dd>TRUE</dd>\n",
       "</dl>\n"
      ],
      "text/latex": [
       "\\begin{description}\n",
       "\\item[\\$likelihoods] \\begin{description*}\n",
       "\\item[clinical\\textbackslash{}\\_data] 'gaussian'\n",
       "\\item[cytokine] 'gaussian'\n",
       "\\item[neutrophil] 'gaussian'\n",
       "\\item[proteomics] 'gaussian'\n",
       "\\item[X0\\textbackslash{}\\_TcellCD4] 'gaussian'\n",
       "\\item[X1\\textbackslash{}\\_TcellCD8] 'gaussian'\n",
       "\\item[X10\\textbackslash{}\\_Bcell] 'gaussian'\n",
       "\\item[X11\\textbackslash{}\\_TcellCD4] 'gaussian'\n",
       "\\item[X12\\textbackslash{}\\_MonocytesCD16\\textbackslash{}\\_FCGR3A] 'gaussian'\n",
       "\\item[X13\\textbackslash{}\\_Dendritic] 'gaussian'\n",
       "\\item[X2\\textbackslash{}\\_TcellCD4] 'gaussian'\n",
       "\\item[X3\\textbackslash{}\\_NK] 'gaussian'\n",
       "\\item[X4\\textbackslash{}\\_MonocytesCD14] 'gaussian'\n",
       "\\item[X5\\textbackslash{}\\_TcellCD4] 'gaussian'\n",
       "\\item[X6\\textbackslash{}\\_MonocytesCD14] 'gaussian'\n",
       "\\item[X7\\textbackslash{}\\_MonocytesCD14] 'gaussian'\n",
       "\\item[X8\\textbackslash{}\\_Bcell] 'gaussian'\n",
       "\\item[X9\\textbackslash{}\\_MonocytesCD16\\textbackslash{}\\_FCGR3A] 'gaussian'\n",
       "\\end{description*}\n",
       "\n",
       "\\item[\\$num\\_factors] 15\n",
       "\\item[\\$spikeslab\\_factors] FALSE\n",
       "\\item[\\$spikeslab\\_weights] TRUE\n",
       "\\item[\\$ard\\_factors] FALSE\n",
       "\\item[\\$ard\\_weights] TRUE\n",
       "\\end{description}\n"
      ],
      "text/markdown": [
       "$likelihoods\n",
       ":   clinical_data\n",
       ":   'gaussian'cytokine\n",
       ":   'gaussian'neutrophil\n",
       ":   'gaussian'proteomics\n",
       ":   'gaussian'X0_TcellCD4\n",
       ":   'gaussian'X1_TcellCD8\n",
       ":   'gaussian'X10_Bcell\n",
       ":   'gaussian'X11_TcellCD4\n",
       ":   'gaussian'X12_MonocytesCD16_FCGR3A\n",
       ":   'gaussian'X13_Dendritic\n",
       ":   'gaussian'X2_TcellCD4\n",
       ":   'gaussian'X3_NK\n",
       ":   'gaussian'X4_MonocytesCD14\n",
       ":   'gaussian'X5_TcellCD4\n",
       ":   'gaussian'X6_MonocytesCD14\n",
       ":   'gaussian'X7_MonocytesCD14\n",
       ":   'gaussian'X8_Bcell\n",
       ":   'gaussian'X9_MonocytesCD16_FCGR3A\n",
       ":   'gaussian'\n",
       "\n",
       "\n",
       "$num_factors\n",
       ":   15\n",
       "$spikeslab_factors\n",
       ":   FALSE\n",
       "$spikeslab_weights\n",
       ":   TRUE\n",
       "$ard_factors\n",
       ":   FALSE\n",
       "$ard_weights\n",
       ":   TRUE\n",
       "\n",
       "\n"
      ],
      "text/plain": [
       "$likelihoods\n",
       "           clinical_data                 cytokine               neutrophil \n",
       "              \"gaussian\"               \"gaussian\"               \"gaussian\" \n",
       "              proteomics              X0_TcellCD4              X1_TcellCD8 \n",
       "              \"gaussian\"               \"gaussian\"               \"gaussian\" \n",
       "               X10_Bcell             X11_TcellCD4 X12_MonocytesCD16_FCGR3A \n",
       "              \"gaussian\"               \"gaussian\"               \"gaussian\" \n",
       "           X13_Dendritic              X2_TcellCD4                    X3_NK \n",
       "              \"gaussian\"               \"gaussian\"               \"gaussian\" \n",
       "        X4_MonocytesCD14              X5_TcellCD4         X6_MonocytesCD14 \n",
       "              \"gaussian\"               \"gaussian\"               \"gaussian\" \n",
       "        X7_MonocytesCD14                 X8_Bcell  X9_MonocytesCD16_FCGR3A \n",
       "              \"gaussian\"               \"gaussian\"               \"gaussian\" \n",
       "\n",
       "$num_factors\n",
       "[1] 15\n",
       "\n",
       "$spikeslab_factors\n",
       "[1] FALSE\n",
       "\n",
       "$spikeslab_weights\n",
       "[1] TRUE\n",
       "\n",
       "$ard_factors\n",
       "[1] FALSE\n",
       "\n",
       "$ard_weights\n",
       "[1] TRUE\n"
      ]
     },
     "metadata": {},
     "output_type": "display_data"
    }
   ],
   "source": [
    "model_opts = get_default_model_options(MOFAobject)\n",
    "model_opts"
   ]
  },
  {
   "cell_type": "code",
   "execution_count": 92,
   "id": "3732b871-8640-4c71-be2e-24c48d440d14",
   "metadata": {},
   "outputs": [],
   "source": [
    "model_opts$num_factors = 25 # define number of factors\n",
    "# TEST different variations: 5,10,15, 25 to generate diff MOFA models with diff amount of factors"
   ]
  },
  {
   "cell_type": "code",
   "execution_count": 93,
   "id": "03cc522a-4279-4239-9853-f2a04e539ea1",
   "metadata": {},
   "outputs": [],
   "source": [
    "#model_opts$likelihoods"
   ]
  },
  {
   "cell_type": "markdown",
   "id": "820cd5ea-6ee8-4378-9302-da93f97ddddc",
   "metadata": {
    "tags": []
   },
   "source": [
    "### Define training options"
   ]
  },
  {
   "cell_type": "code",
   "execution_count": 94,
   "id": "3ee41554-fa0f-4fee-8fd7-56613b48e44d",
   "metadata": {},
   "outputs": [
    {
     "data": {
      "text/html": [
       "<dl>\n",
       "\t<dt>$maxiter</dt>\n",
       "\t\t<dd>1000</dd>\n",
       "\t<dt>$convergence_mode</dt>\n",
       "\t\t<dd>'fast'</dd>\n",
       "\t<dt>$drop_factor_threshold</dt>\n",
       "\t\t<dd>-1</dd>\n",
       "\t<dt>$verbose</dt>\n",
       "\t\t<dd>FALSE</dd>\n",
       "\t<dt>$startELBO</dt>\n",
       "\t\t<dd>1</dd>\n",
       "\t<dt>$freqELBO</dt>\n",
       "\t\t<dd>5</dd>\n",
       "\t<dt>$stochastic</dt>\n",
       "\t\t<dd>FALSE</dd>\n",
       "\t<dt>$gpu_mode</dt>\n",
       "\t\t<dd>FALSE</dd>\n",
       "\t<dt>$seed</dt>\n",
       "\t\t<dd>42</dd>\n",
       "\t<dt>$outfile</dt>\n",
       "\t\t<dd>NULL</dd>\n",
       "\t<dt>$weight_views</dt>\n",
       "\t\t<dd>FALSE</dd>\n",
       "\t<dt>$save_interrupted</dt>\n",
       "\t\t<dd>FALSE</dd>\n",
       "</dl>\n"
      ],
      "text/latex": [
       "\\begin{description}\n",
       "\\item[\\$maxiter] 1000\n",
       "\\item[\\$convergence\\_mode] 'fast'\n",
       "\\item[\\$drop\\_factor\\_threshold] -1\n",
       "\\item[\\$verbose] FALSE\n",
       "\\item[\\$startELBO] 1\n",
       "\\item[\\$freqELBO] 5\n",
       "\\item[\\$stochastic] FALSE\n",
       "\\item[\\$gpu\\_mode] FALSE\n",
       "\\item[\\$seed] 42\n",
       "\\item[\\$outfile] NULL\n",
       "\\item[\\$weight\\_views] FALSE\n",
       "\\item[\\$save\\_interrupted] FALSE\n",
       "\\end{description}\n"
      ],
      "text/markdown": [
       "$maxiter\n",
       ":   1000\n",
       "$convergence_mode\n",
       ":   'fast'\n",
       "$drop_factor_threshold\n",
       ":   -1\n",
       "$verbose\n",
       ":   FALSE\n",
       "$startELBO\n",
       ":   1\n",
       "$freqELBO\n",
       ":   5\n",
       "$stochastic\n",
       ":   FALSE\n",
       "$gpu_mode\n",
       ":   FALSE\n",
       "$seed\n",
       ":   42\n",
       "$outfile\n",
       ":   NULL\n",
       "$weight_views\n",
       ":   FALSE\n",
       "$save_interrupted\n",
       ":   FALSE\n",
       "\n",
       "\n"
      ],
      "text/plain": [
       "$maxiter\n",
       "[1] 1000\n",
       "\n",
       "$convergence_mode\n",
       "[1] \"fast\"\n",
       "\n",
       "$drop_factor_threshold\n",
       "[1] -1\n",
       "\n",
       "$verbose\n",
       "[1] FALSE\n",
       "\n",
       "$startELBO\n",
       "[1] 1\n",
       "\n",
       "$freqELBO\n",
       "[1] 5\n",
       "\n",
       "$stochastic\n",
       "[1] FALSE\n",
       "\n",
       "$gpu_mode\n",
       "[1] FALSE\n",
       "\n",
       "$seed\n",
       "[1] 42\n",
       "\n",
       "$outfile\n",
       "NULL\n",
       "\n",
       "$weight_views\n",
       "[1] FALSE\n",
       "\n",
       "$save_interrupted\n",
       "[1] FALSE\n"
      ]
     },
     "metadata": {},
     "output_type": "display_data"
    }
   ],
   "source": [
    "train_opts  = get_default_training_options(MOFAobject)\n",
    "train_opts"
   ]
  },
  {
   "cell_type": "code",
   "execution_count": 95,
   "id": "a4b438ae-e6ee-421e-be27-179e7ea0934d",
   "metadata": {},
   "outputs": [],
   "source": [
    "train_opts$maxiter = 50000"
   ]
  },
  {
   "cell_type": "code",
   "execution_count": 96,
   "id": "5efd0ac2-2d66-49ed-b0dc-e84a83c5bf57",
   "metadata": {},
   "outputs": [],
   "source": [
    "train_opts$verbose = TRUE"
   ]
  },
  {
   "cell_type": "code",
   "execution_count": 97,
   "id": "01c419c6-d846-4995-a206-a90826c97845",
   "metadata": {},
   "outputs": [],
   "source": [
    "train_opts$seed = 42"
   ]
  },
  {
   "cell_type": "code",
   "execution_count": 98,
   "id": "2a9b65af-2b13-4891-857a-6e2526e6d30a",
   "metadata": {},
   "outputs": [],
   "source": [
    "train_opts$weight_views = FALSE"
   ]
  },
  {
   "cell_type": "markdown",
   "id": "6ef83262-70d6-4dee-9b4a-19bc1225da87",
   "metadata": {
    "tags": []
   },
   "source": [
    "### Stochastic Options"
   ]
  },
  {
   "cell_type": "code",
   "execution_count": 99,
   "id": "3bd852b5-31f7-4b29-80aa-1ae357432558",
   "metadata": {},
   "outputs": [],
   "source": [
    "stoch_options = get_default_stochastic_options(MOFAobject)"
   ]
  },
  {
   "cell_type": "code",
   "execution_count": 100,
   "id": "f3d2ed1d-44dc-4458-a331-8f00d4f34848",
   "metadata": {},
   "outputs": [
    {
     "data": {
      "text/html": [
       "<dl>\n",
       "\t<dt>$batch_size</dt>\n",
       "\t\t<dd>0.5</dd>\n",
       "\t<dt>$learning_rate</dt>\n",
       "\t\t<dd>1</dd>\n",
       "\t<dt>$forgetting_rate</dt>\n",
       "\t\t<dd>0.5</dd>\n",
       "\t<dt>$start_stochastic</dt>\n",
       "\t\t<dd>1</dd>\n",
       "</dl>\n"
      ],
      "text/latex": [
       "\\begin{description}\n",
       "\\item[\\$batch\\_size] 0.5\n",
       "\\item[\\$learning\\_rate] 1\n",
       "\\item[\\$forgetting\\_rate] 0.5\n",
       "\\item[\\$start\\_stochastic] 1\n",
       "\\end{description}\n"
      ],
      "text/markdown": [
       "$batch_size\n",
       ":   0.5\n",
       "$learning_rate\n",
       ":   1\n",
       "$forgetting_rate\n",
       ":   0.5\n",
       "$start_stochastic\n",
       ":   1\n",
       "\n",
       "\n"
      ],
      "text/plain": [
       "$batch_size\n",
       "[1] 0.5\n",
       "\n",
       "$learning_rate\n",
       "[1] 1\n",
       "\n",
       "$forgetting_rate\n",
       "[1] 0.5\n",
       "\n",
       "$start_stochastic\n",
       "[1] 1\n"
      ]
     },
     "metadata": {},
     "output_type": "display_data"
    }
   ],
   "source": [
    "stoch_options"
   ]
  },
  {
   "cell_type": "markdown",
   "id": "f0755cfb-2eb3-4734-8efe-34efee68bce8",
   "metadata": {
    "tags": []
   },
   "source": [
    "### Build and train the model"
   ]
  },
  {
   "cell_type": "code",
   "execution_count": 101,
   "id": "525aace4-69f7-4f28-94d6-62519a1abeaf",
   "metadata": {},
   "outputs": [
    {
     "name": "stderr",
     "output_type": "stream",
     "text": [
      "Warning message in prepare_mofa(object = MOFAobject, data_options = data_opts, model_options = model_opts, :\n",
      "“Some view(s) have less than 15 features, MOFA will have little power to to learn meaningful factors for these view(s)....”\n",
      "Checking data options...\n",
      "\n",
      "Checking training options...\n",
      "\n",
      "Checking model options...\n",
      "\n"
     ]
    }
   ],
   "source": [
    "MOFAobject = prepare_mofa(\n",
    "  object = MOFAobject,\n",
    "  data_options = data_opts,\n",
    "  model_options = model_opts,\n",
    "  mefisto_options = mefisto_opts,\n",
    "  training_options = train_opts #,\n",
    "  #stochastic_options = stoch_options\n",
    ")"
   ]
  },
  {
   "cell_type": "markdown",
   "id": "39519021-506c-47f4-9270-09814ce4a46a",
   "metadata": {
    "tags": []
   },
   "source": [
    "### Save the model"
   ]
  },
  {
   "cell_type": "code",
   "execution_count": 102,
   "id": "13b7b2d8-d4ed-42b1-95c0-5a73e6177518",
   "metadata": {},
   "outputs": [
    {
     "data": {
      "text/html": [
       "FALSE"
      ],
      "text/latex": [
       "FALSE"
      ],
      "text/markdown": [
       "FALSE"
      ],
      "text/plain": [
       "[1] FALSE"
      ]
     },
     "metadata": {},
     "output_type": "display_data"
    }
   ],
   "source": [
    "train_opts$weight_views"
   ]
  },
  {
   "cell_type": "code",
   "execution_count": 103,
   "id": "8c2df46c-4ae0-4127-a033-ebd2534563a4",
   "metadata": {},
   "outputs": [
    {
     "data": {
      "text/html": [
       "'V_FINAL_INTEGRATED'"
      ],
      "text/latex": [
       "'V\\_FINAL\\_INTEGRATED'"
      ],
      "text/markdown": [
       "'V_FINAL_INTEGRATED'"
      ],
      "text/plain": [
       "[1] \"V_FINAL_INTEGRATED\""
      ]
     },
     "metadata": {},
     "output_type": "display_data"
    }
   ],
   "source": [
    "name"
   ]
  },
  {
   "cell_type": "code",
   "execution_count": 104,
   "id": "becc938d-534b-4f8c-80d8-ab11d05f807a",
   "metadata": {},
   "outputs": [],
   "source": [
    "model_name = paste0(\"MOFA_MODEL_FACTOR_TEST_\", name, '-', train_opts$weight_views,model_opts$num_factors,'.hdf5') # added number of factors in review to test different "
   ]
  },
  {
   "cell_type": "code",
   "execution_count": 105,
   "id": "561b4506-6f56-4d08-8e35-52486b58f643",
   "metadata": {},
   "outputs": [
    {
     "data": {
      "text/html": [
       "'MOFA_MODEL_FACTOR_TEST_V_FINAL_INTEGRATED-FALSE25.hdf5'"
      ],
      "text/latex": [
       "'MOFA\\_MODEL\\_FACTOR\\_TEST\\_V\\_FINAL\\_INTEGRATED-FALSE25.hdf5'"
      ],
      "text/markdown": [
       "'MOFA_MODEL_FACTOR_TEST_V_FINAL_INTEGRATED-FALSE25.hdf5'"
      ],
      "text/plain": [
       "[1] \"MOFA_MODEL_FACTOR_TEST_V_FINAL_INTEGRATED-FALSE25.hdf5\""
      ]
     },
     "metadata": {},
     "output_type": "display_data"
    }
   ],
   "source": [
    "model_name"
   ]
  },
  {
   "cell_type": "code",
   "execution_count": 106,
   "id": "d5025df8-b455-44a0-8295-28603c93e985",
   "metadata": {},
   "outputs": [],
   "source": [
    "outfile = file.path( paste0(result_path, '/E-Analysis/',  model_name) )"
   ]
  },
  {
   "cell_type": "code",
   "execution_count": 107,
   "id": "2a8a5645-3e04-403e-8fd8-565dec359e27",
   "metadata": {
    "tags": []
   },
   "outputs": [],
   "source": [
    "#outfile"
   ]
  },
  {
   "cell_type": "code",
   "execution_count": 797,
   "id": "f1e45075-3212-4eb0-a489-ccf368d12c93",
   "metadata": {},
   "outputs": [
    {
     "name": "stderr",
     "output_type": "stream",
     "text": [
      "Connecting to the mofapy2 python package using reticulate (use_basilisk = FALSE)... \n",
      "    Please make sure to manually specify the right python binary when loading R with reticulate::use_python(..., force=TRUE) or the right conda environment with reticulate::use_condaenv(..., force=TRUE)\n",
      "    If you prefer to let us automatically install a conda environment with 'mofapy2' installed using the 'basilisk' package, please use the argument 'use_basilisk = TRUE'\n",
      "\n",
      "\n",
      "Warning message in run_mofa(MOFAobject, outfile, use_basilisk = FALSE):\n",
      "“The latest mofapy2 version is 0.6.4, you are using 0.7.0. Please upgrade with 'pip install mofapy2'”\n",
      "Warning message in run_mofa(MOFAobject, outfile, use_basilisk = FALSE):\n",
      "“mofapy2_0.6.4 is not detected in the specified python binary, see reticulate::py_config(). Setting use_basilisk = TRUE...”\n",
      "Connecting to the mofapy2 package using basilisk. \n",
      "    Set 'use_basilisk' to FALSE if you prefer to manually set the python binary using 'reticulate'.\n",
      "\n",
      "Warning message in .quality_control(object, verbose = verbose):\n",
      "“Factor(s) 9, 12, 15 are strongly correlated with the total number of expressed features for at least one of your omics. Such factors appear when there are differences in the total 'levels' between your samples, *sometimes* because of poor normalisation in the preprocessing steps.\n",
      "”\n"
     ]
    }
   ],
   "source": [
    "MOFAobject.trained = run_mofa(MOFAobject, outfile, use_basilisk = FALSE)"
   ]
  },
  {
   "cell_type": "code",
   "execution_count": 108,
   "id": "8b78e2e9-c56c-4217-954e-0ea4df8594bf",
   "metadata": {
    "tags": []
   },
   "outputs": [
    {
     "data": {
      "text/html": [
       "149"
      ],
      "text/latex": [
       "149"
      ],
      "text/markdown": [
       "149"
      ],
      "text/plain": [
       "[1] 149"
      ]
     },
     "metadata": {},
     "output_type": "display_data"
    }
   ],
   "source": [
    "nrow(sample_data)"
   ]
  },
  {
   "cell_type": "code",
   "execution_count": 109,
   "id": "f13de2dd-b857-43fb-89f3-173521daf112",
   "metadata": {},
   "outputs": [
    {
     "data": {
      "text/html": [
       "149"
      ],
      "text/latex": [
       "149"
      ],
      "text/markdown": [
       "149"
      ],
      "text/plain": [
       "[1] 149"
      ]
     },
     "metadata": {},
     "output_type": "display_data"
    }
   ],
   "source": [
    "length(unique(sample_data$sample_id))"
   ]
  },
  {
   "cell_type": "code",
   "execution_count": null,
   "id": "b18cfa0f-d4f4-4ecc-af4b-b678105c4106",
   "metadata": {},
   "outputs": [],
   "source": []
  }
 ],
 "metadata": {
  "kernelspec": {
   "display_name": "R",
   "language": "R",
   "name": "ir"
  },
  "language_info": {
   "codemirror_mode": "r",
   "file_extension": ".r",
   "mimetype": "text/x-r-source",
   "name": "R",
   "pygments_lexer": "r",
   "version": "4.1.1"
  },
  "toc-autonumbering": true
 },
 "nbformat": 4,
 "nbformat_minor": 5
}

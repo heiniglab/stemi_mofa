{
 "cells": [
  {
   "cell_type": "code",
   "execution_count": 2,
   "id": "d182c426-4d95-4dee-a099-cd923e9437d7",
   "metadata": {
    "tags": []
   },
   "outputs": [],
   "source": [
    "### Script to test using PCA instead of MOFA (to answer reviewer question only)"
   ]
  },
  {
   "cell_type": "markdown",
   "id": "213d69de-4705-4a6e-9387-b1a3413172eb",
   "metadata": {
    "tags": []
   },
   "source": [
    "#############################################\n",
    "# Prerequisites - Load Libraries"
   ]
  },
  {
   "cell_type": "code",
   "execution_count": 3,
   "id": "9957e32b-eaec-4762-95cd-e089cc1cdc60",
   "metadata": {
    "collapsed": true,
    "jupyter": {
     "outputs_hidden": true
    },
    "tags": []
   },
   "outputs": [
    {
     "name": "stderr",
     "output_type": "stream",
     "text": [
      "Warning message in read.table(file = file, header = header, sep = sep, quote = quote, :\n",
      "“incomplete final line found by readTableHeader on '../conda_environment/Environment_Configs.csv'”\n"
     ]
    },
    {
     "name": "stdout",
     "output_type": "stream",
     "text": [
      "[1] \"/home/icb/corinna.losert/miniconda3/envs/stark_stemi_R_Env_4_1//lib/R/library\"\n"
     ]
    },
    {
     "name": "stderr",
     "output_type": "stream",
     "text": [
      "\n",
      "Attaching package: ‘igraph’\n",
      "\n",
      "\n",
      "The following objects are masked from ‘package:stats’:\n",
      "\n",
      "    decompose, spectrum\n",
      "\n",
      "\n",
      "The following object is masked from ‘package:base’:\n",
      "\n",
      "    union\n",
      "\n",
      "\n",
      "\n",
      "Attaching package: ‘MatrixGenerics’\n",
      "\n",
      "\n",
      "The following objects are masked from ‘package:matrixStats’:\n",
      "\n",
      "    colAlls, colAnyNAs, colAnys, colAvgsPerRowSet, colCollapse,\n",
      "    colCounts, colCummaxs, colCummins, colCumprods, colCumsums,\n",
      "    colDiffs, colIQRDiffs, colIQRs, colLogSumExps, colMadDiffs,\n",
      "    colMads, colMaxs, colMeans2, colMedians, colMins, colOrderStats,\n",
      "    colProds, colQuantiles, colRanges, colRanks, colSdDiffs, colSds,\n",
      "    colSums2, colTabulates, colVarDiffs, colVars, colWeightedMads,\n",
      "    colWeightedMeans, colWeightedMedians, colWeightedSds,\n",
      "    colWeightedVars, rowAlls, rowAnyNAs, rowAnys, rowAvgsPerColSet,\n",
      "    rowCollapse, rowCounts, rowCummaxs, rowCummins, rowCumprods,\n",
      "    rowCumsums, rowDiffs, rowIQRDiffs, rowIQRs, rowLogSumExps,\n",
      "    rowMadDiffs, rowMads, rowMaxs, rowMeans2, rowMedians, rowMins,\n",
      "    rowOrderStats, rowProds, rowQuantiles, rowRanges, rowRanks,\n",
      "    rowSdDiffs, rowSds, rowSums2, rowTabulates, rowVarDiffs, rowVars,\n",
      "    rowWeightedMads, rowWeightedMeans, rowWeightedMedians,\n",
      "    rowWeightedSds, rowWeightedVars\n",
      "\n",
      "\n",
      "\n",
      "Attaching package: ‘BiocGenerics’\n",
      "\n",
      "\n",
      "The following objects are masked from ‘package:parallel’:\n",
      "\n",
      "    clusterApply, clusterApplyLB, clusterCall, clusterEvalQ,\n",
      "    clusterExport, clusterMap, parApply, parCapply, parLapply,\n",
      "    parLapplyLB, parRapply, parSapply, parSapplyLB\n",
      "\n",
      "\n",
      "The following objects are masked from ‘package:igraph’:\n",
      "\n",
      "    normalize, path, union\n",
      "\n",
      "\n",
      "The following objects are masked from ‘package:stats’:\n",
      "\n",
      "    IQR, mad, sd, var, xtabs\n",
      "\n",
      "\n",
      "The following objects are masked from ‘package:base’:\n",
      "\n",
      "    anyDuplicated, append, as.data.frame, basename, cbind, colnames,\n",
      "    dirname, do.call, duplicated, eval, evalq, Filter, Find, get, grep,\n",
      "    grepl, intersect, is.unsorted, lapply, Map, mapply, match, mget,\n",
      "    order, paste, pmax, pmax.int, pmin, pmin.int, Position, rank,\n",
      "    rbind, Reduce, rownames, sapply, setdiff, sort, table, tapply,\n",
      "    union, unique, unsplit, which.max, which.min\n",
      "\n",
      "\n",
      "\n",
      "Attaching package: ‘S4Vectors’\n",
      "\n",
      "\n",
      "The following objects are masked from ‘package:base’:\n",
      "\n",
      "    expand.grid, I, unname\n",
      "\n",
      "\n",
      "Welcome to Bioconductor\n",
      "\n",
      "    Vignettes contain introductory material; view with\n",
      "    'browseVignettes()'. To cite Bioconductor, see\n",
      "    'citation(\"Biobase\")', and for packages 'citation(\"pkgname\")'.\n",
      "\n",
      "\n",
      "\n",
      "Attaching package: ‘Biobase’\n",
      "\n",
      "\n",
      "The following object is masked from ‘package:MatrixGenerics’:\n",
      "\n",
      "    rowMedians\n",
      "\n",
      "\n",
      "The following objects are masked from ‘package:matrixStats’:\n",
      "\n",
      "    anyMissing, rowMedians\n",
      "\n",
      "\n",
      "\n",
      "Attaching package: ‘sp’\n",
      "\n",
      "\n",
      "The following object is masked from ‘package:IRanges’:\n",
      "\n",
      "    %over%\n",
      "\n",
      "\n",
      "\n",
      "Attaching package: ‘SeuratObject’\n",
      "\n",
      "\n",
      "The following object is masked from ‘package:SummarizedExperiment’:\n",
      "\n",
      "    Assays\n",
      "\n",
      "\n",
      "The following object is masked from ‘package:GenomicRanges’:\n",
      "\n",
      "    intersect\n",
      "\n",
      "\n",
      "The following object is masked from ‘package:GenomeInfoDb’:\n",
      "\n",
      "    intersect\n",
      "\n",
      "\n",
      "The following object is masked from ‘package:IRanges’:\n",
      "\n",
      "    intersect\n",
      "\n",
      "\n",
      "The following object is masked from ‘package:S4Vectors’:\n",
      "\n",
      "    intersect\n",
      "\n",
      "\n",
      "The following object is masked from ‘package:BiocGenerics’:\n",
      "\n",
      "    intersect\n",
      "\n",
      "\n",
      "The following object is masked from ‘package:base’:\n",
      "\n",
      "    intersect\n",
      "\n",
      "\n",
      "\n",
      "Attaching package: ‘Seurat’\n",
      "\n",
      "\n",
      "The following object is masked from ‘package:SummarizedExperiment’:\n",
      "\n",
      "    Assays\n",
      "\n",
      "\n",
      "The following object is masked from ‘package:igraph’:\n",
      "\n",
      "    components\n",
      "\n",
      "\n",
      "\n",
      "Attaching package: ‘Matrix’\n",
      "\n",
      "\n",
      "The following object is masked from ‘package:S4Vectors’:\n",
      "\n",
      "    expand\n",
      "\n",
      "\n",
      "\n",
      "Attaching package: ‘DelayedArray’\n",
      "\n",
      "\n",
      "The following object is masked from ‘package:igraph’:\n",
      "\n",
      "    simplify\n",
      "\n",
      "\n",
      "The following objects are masked from ‘package:base’:\n",
      "\n",
      "    aperm, apply, rowsum, scale, sweep\n",
      "\n",
      "\n",
      "\n",
      "Attaching package: ‘HDF5Array’\n",
      "\n",
      "\n",
      "The following object is masked from ‘package:rhdf5’:\n",
      "\n",
      "    h5ls\n",
      "\n",
      "\n",
      "Warning message in if (is.na(desc)) {:\n",
      "“the condition has length > 1 and only the first element will be used”\n",
      "Warning message in if (is.na(desc)) {:\n",
      "“the condition has length > 1 and only the first element will be used”\n",
      "Warning message in if (is.na(desc)) {:\n",
      "“the condition has length > 1 and only the first element will be used”\n",
      "Warning message in if (is.na(desc)) {:\n",
      "“the condition has length > 1 and only the first element will be used”\n",
      "Warning message in if (is.na(desc)) {:\n",
      "“the condition has length > 1 and only the first element will be used”\n",
      "Warning message in if (is.na(desc)) {:\n",
      "“the condition has length > 1 and only the first element will be used”\n",
      "Warning message in if (is.na(desc)) {:\n",
      "“the condition has length > 1 and only the first element will be used”\n",
      "Warning message in if (is.na(desc)) {:\n",
      "“the condition has length > 1 and only the first element will be used”\n",
      "Warning message in if (is.na(desc)) {:\n",
      "“the condition has length > 1 and only the first element will be used”\n",
      "Warning message in if (is.na(desc)) {:\n",
      "“the condition has length > 1 and only the first element will be used”\n",
      "Warning message in if (is.na(desc)) {:\n",
      "“the condition has length > 1 and only the first element will be used”\n",
      "Warning message in if (is.na(desc)) {:\n",
      "“the condition has length > 1 and only the first element will be used”\n",
      "Warning message in if (is.na(desc)) {:\n",
      "“the condition has length > 1 and only the first element will be used”\n",
      "Warning message in if (is.na(desc)) {:\n",
      "“the condition has length > 1 and only the first element will be used”\n",
      "Warning message in if (is.na(desc)) {:\n",
      "“the condition has length > 1 and only the first element will be used”\n",
      "Warning message in if (is.na(desc)) {:\n",
      "“the condition has length > 1 and only the first element will be used”\n",
      "Warning message in if (is.na(desc)) {:\n",
      "“the condition has length > 1 and only the first element will be used”\n",
      "Warning message in if (is.na(desc)) {:\n",
      "“the condition has length > 1 and only the first element will be used”\n",
      "Warning message in if (is.na(desc)) {:\n",
      "“the condition has length > 1 and only the first element will be used”\n",
      "Warning message in if (is.na(desc)) {:\n",
      "“the condition has length > 1 and only the first element will be used”\n",
      "Warning message in if (is.na(desc)) {:\n",
      "“the condition has length > 1 and only the first element will be used”\n",
      "Warning message in if (is.na(desc)) {:\n",
      "“the condition has length > 1 and only the first element will be used”\n",
      "Warning message in if (is.na(desc)) {:\n",
      "“the condition has length > 1 and only the first element will be used”\n",
      "Registered S3 method overwritten by 'SeuratDisk':\n",
      "  method            from  \n",
      "  as.sparse.H5Group Seurat\n",
      "\n",
      "\n",
      "Attaching package: ‘gridExtra’\n",
      "\n",
      "\n",
      "The following object is masked from ‘package:Biobase’:\n",
      "\n",
      "    combine\n",
      "\n",
      "\n",
      "The following object is masked from ‘package:BiocGenerics’:\n",
      "\n",
      "    combine\n",
      "\n",
      "\n",
      "\n",
      "Attaching package: ‘dplyr’\n",
      "\n",
      "\n",
      "The following object is masked from ‘package:gridExtra’:\n",
      "\n",
      "    combine\n",
      "\n",
      "\n",
      "The following object is masked from ‘package:Biobase’:\n",
      "\n",
      "    combine\n",
      "\n",
      "\n",
      "The following objects are masked from ‘package:GenomicRanges’:\n",
      "\n",
      "    intersect, setdiff, union\n",
      "\n",
      "\n",
      "The following object is masked from ‘package:GenomeInfoDb’:\n",
      "\n",
      "    intersect\n",
      "\n",
      "\n",
      "The following objects are masked from ‘package:IRanges’:\n",
      "\n",
      "    collapse, desc, intersect, setdiff, slice, union\n",
      "\n",
      "\n",
      "The following objects are masked from ‘package:S4Vectors’:\n",
      "\n",
      "    first, intersect, rename, setdiff, setequal, union\n",
      "\n",
      "\n",
      "The following objects are masked from ‘package:BiocGenerics’:\n",
      "\n",
      "    combine, intersect, setdiff, union\n",
      "\n",
      "\n",
      "The following object is masked from ‘package:matrixStats’:\n",
      "\n",
      "    count\n",
      "\n",
      "\n",
      "The following objects are masked from ‘package:igraph’:\n",
      "\n",
      "    as_data_frame, groups, union\n",
      "\n",
      "\n",
      "The following objects are masked from ‘package:stats’:\n",
      "\n",
      "    filter, lag\n",
      "\n",
      "\n",
      "The following objects are masked from ‘package:base’:\n",
      "\n",
      "    intersect, setdiff, setequal, union\n",
      "\n",
      "\n",
      "\n",
      "Attaching package: ‘plotly’\n",
      "\n",
      "\n",
      "The following object is masked from ‘package:ggplot2’:\n",
      "\n",
      "    last_plot\n",
      "\n",
      "\n",
      "The following object is masked from ‘package:IRanges’:\n",
      "\n",
      "    slice\n",
      "\n",
      "\n",
      "The following object is masked from ‘package:S4Vectors’:\n",
      "\n",
      "    rename\n",
      "\n",
      "\n",
      "The following object is masked from ‘package:igraph’:\n",
      "\n",
      "    groups\n",
      "\n",
      "\n",
      "The following object is masked from ‘package:stats’:\n",
      "\n",
      "    filter\n",
      "\n",
      "\n",
      "The following object is masked from ‘package:graphics’:\n",
      "\n",
      "    layout\n",
      "\n",
      "\n",
      "Warning message in checkMatrixPackageVersion():\n",
      "“Package version inconsistency detected.\n",
      "TMB was built with Matrix version 1.5.3\n",
      "Current Matrix version is 1.6.4\n",
      "Please re-install 'TMB' from source using install.packages('TMB', type = 'source') or ask CRAN for a binary version of 'TMB' matching CRAN's 'Matrix' package”\n",
      "\n",
      "Attaching package: ‘limma’\n",
      "\n",
      "\n",
      "The following object is masked from ‘package:scater’:\n",
      "\n",
      "    plotMDS\n",
      "\n",
      "\n",
      "The following object is masked from ‘package:BiocGenerics’:\n",
      "\n",
      "    plotMA\n",
      "\n",
      "\n",
      "\n",
      "Attaching package: ‘DESeq2’\n",
      "\n",
      "\n",
      "The following object is masked from ‘package:scater’:\n",
      "\n",
      "    fpkm\n",
      "\n",
      "\n",
      "Loading required package: AnnotationDbi\n",
      "\n",
      "\n",
      "Attaching package: ‘AnnotationDbi’\n",
      "\n",
      "\n",
      "The following object is masked from ‘package:plotly’:\n",
      "\n",
      "    select\n",
      "\n",
      "\n",
      "The following object is masked from ‘package:dplyr’:\n",
      "\n",
      "    select\n",
      "\n",
      "\n",
      "\n",
      "\n",
      "\n",
      "\n",
      "Registered S3 method overwritten by 'ggtree':\n",
      "  method      from \n",
      "  identify.gg ggfun\n",
      "\n",
      "clusterProfiler v4.0.5  For help: https://yulab-smu.top/biomedical-knowledge-mining-book/\n",
      "\n",
      "If you use clusterProfiler in published research, please cite:\n",
      "T Wu, E Hu, S Xu, M Chen, P Guo, Z Dai, T Feng, L Zhou, W Tang, L Zhan, X Fu, S Liu, X Bo, and G Yu. clusterProfiler 4.0: A universal enrichment tool for interpreting omics data. The Innovation. 2021, 2(3):100141. doi: 10.1016/j.xinn.2021.100141\n",
      "\n",
      "\n",
      "Attaching package: ‘clusterProfiler’\n",
      "\n",
      "\n",
      "The following object is masked from ‘package:AnnotationDbi’:\n",
      "\n",
      "    select\n",
      "\n",
      "\n",
      "The following object is masked from ‘package:DelayedArray’:\n",
      "\n",
      "    simplify\n",
      "\n",
      "\n",
      "The following object is masked from ‘package:IRanges’:\n",
      "\n",
      "    slice\n",
      "\n",
      "\n",
      "The following object is masked from ‘package:S4Vectors’:\n",
      "\n",
      "    rename\n",
      "\n",
      "\n",
      "The following object is masked from ‘package:igraph’:\n",
      "\n",
      "    simplify\n",
      "\n",
      "\n",
      "The following object is masked from ‘package:stats’:\n",
      "\n",
      "    filter\n",
      "\n",
      "\n",
      "\n",
      "Attaching package: ‘data.table’\n",
      "\n",
      "\n",
      "The following objects are masked from ‘package:dplyr’:\n",
      "\n",
      "    between, first, last\n",
      "\n",
      "\n",
      "The following object is masked from ‘package:SummarizedExperiment’:\n",
      "\n",
      "    shift\n",
      "\n",
      "\n",
      "The following object is masked from ‘package:GenomicRanges’:\n",
      "\n",
      "    shift\n",
      "\n",
      "\n",
      "The following object is masked from ‘package:IRanges’:\n",
      "\n",
      "    shift\n",
      "\n",
      "\n",
      "The following objects are masked from ‘package:S4Vectors’:\n",
      "\n",
      "    first, second\n",
      "\n",
      "\n",
      "\n",
      "Attaching package: ‘MOFA2’\n",
      "\n",
      "\n",
      "The following object is masked from ‘package:stats’:\n",
      "\n",
      "    predict\n",
      "\n",
      "\n",
      "\n",
      "Attaching package: ‘ggraph’\n",
      "\n",
      "\n",
      "The following object is masked from ‘package:sp’:\n",
      "\n",
      "    geometry\n",
      "\n",
      "\n",
      "\n",
      "Attaching package: ‘Hmisc’\n",
      "\n",
      "\n",
      "The following object is masked from ‘package:MOFA2’:\n",
      "\n",
      "    impute\n",
      "\n",
      "\n",
      "The following object is masked from ‘package:AnnotationDbi’:\n",
      "\n",
      "    contents\n",
      "\n",
      "\n",
      "The following object is masked from ‘package:plotly’:\n",
      "\n",
      "    subplot\n",
      "\n",
      "\n",
      "The following objects are masked from ‘package:dplyr’:\n",
      "\n",
      "    src, summarize\n",
      "\n",
      "\n",
      "The following object is masked from ‘package:Seurat’:\n",
      "\n",
      "    Key\n",
      "\n",
      "\n",
      "The following object is masked from ‘package:SeuratObject’:\n",
      "\n",
      "    Key\n",
      "\n",
      "\n",
      "The following object is masked from ‘package:Biobase’:\n",
      "\n",
      "    contents\n",
      "\n",
      "\n",
      "The following objects are masked from ‘package:base’:\n",
      "\n",
      "    format.pval, units\n",
      "\n",
      "\n",
      "Registered S3 method overwritten by 'GGally':\n",
      "  method from   \n",
      "  +.gg   ggplot2\n",
      "\n",
      "\n",
      "Attaching package: ‘rstatix’\n",
      "\n",
      "\n",
      "The following object is masked from ‘package:AnnotationDbi’:\n",
      "\n",
      "    select\n",
      "\n",
      "\n",
      "The following object is masked from ‘package:IRanges’:\n",
      "\n",
      "    desc\n",
      "\n",
      "\n",
      "The following object is masked from ‘package:stats’:\n",
      "\n",
      "    filter\n",
      "\n",
      "\n",
      "corrplot 0.92 loaded\n",
      "\n",
      "\n",
      "‘network’ 1.18.1 (2023-01-24), part of the Statnet Project\n",
      "* ‘news(package=\"network\")’ for changes since last version\n",
      "* ‘citation(\"network\")’ for citation information\n",
      "* ‘https://statnet.org’ for help, support, and other information\n",
      "\n",
      "\n",
      "\n",
      "Attaching package: ‘network’\n",
      "\n",
      "\n",
      "The following object is masked from ‘package:Hmisc’:\n",
      "\n",
      "    is.discrete\n",
      "\n",
      "\n",
      "The following objects are masked from ‘package:igraph’:\n",
      "\n",
      "    %c%, %s%, add.edges, add.vertices, delete.edges, delete.vertices,\n",
      "    get.edge.attribute, get.edges, get.vertex.attribute, is.bipartite,\n",
      "    is.directed, list.edge.attributes, list.vertex.attributes,\n",
      "    set.edge.attribute, set.vertex.attribute\n",
      "\n",
      "\n",
      "\n",
      "Attaching package: ‘enrichplot’\n",
      "\n",
      "\n",
      "The following object is masked from ‘package:GGally’:\n",
      "\n",
      "    ggtable\n",
      "\n",
      "\n",
      "DOSE v3.18.3  For help: https://guangchuangyu.github.io/software/DOSE\n",
      "\n",
      "If you use DOSE in published research, please cite:\n",
      "Guangchuang Yu, Li-Gen Wang, Guang-Rong Yan, Qing-Yu He. DOSE: an R/Bioconductor package for Disease Ontology Semantic and Enrichment analysis. Bioinformatics 2015, 31(4):608-609\n",
      "\n",
      "\n",
      "\n",
      "Attaching package: ‘UpSetR’\n",
      "\n",
      "\n",
      "The following object is masked from ‘package:ComplexUpset’:\n",
      "\n",
      "    upset\n",
      "\n",
      "\n",
      "Registered S3 method overwritten by 'gdata':\n",
      "  method         from  \n",
      "  reorder.factor gplots\n",
      "\n",
      "gdata: read.xls support for 'XLS' (Excel 97-2004) files ENABLED.\n",
      "\n",
      "\n",
      "\n",
      "gdata: read.xls support for 'XLSX' (Excel 2007+) files ENABLED.\n",
      "\n",
      "\n",
      "Attaching package: ‘gdata’\n",
      "\n",
      "\n",
      "The following objects are masked from ‘package:data.table’:\n",
      "\n",
      "    first, last\n",
      "\n",
      "\n",
      "The following objects are masked from ‘package:dplyr’:\n",
      "\n",
      "    combine, first, last\n",
      "\n",
      "\n",
      "The following object is masked from ‘package:gridExtra’:\n",
      "\n",
      "    combine\n",
      "\n",
      "\n",
      "The following object is masked from ‘package:SummarizedExperiment’:\n",
      "\n",
      "    trim\n",
      "\n",
      "\n",
      "The following object is masked from ‘package:Biobase’:\n",
      "\n",
      "    combine\n",
      "\n",
      "\n",
      "The following object is masked from ‘package:GenomicRanges’:\n",
      "\n",
      "    trim\n",
      "\n",
      "\n",
      "The following objects are masked from ‘package:IRanges’:\n",
      "\n",
      "    startsWith, trim\n",
      "\n",
      "\n",
      "The following objects are masked from ‘package:S4Vectors’:\n",
      "\n",
      "    first, first<-\n",
      "\n",
      "\n",
      "The following object is masked from ‘package:BiocGenerics’:\n",
      "\n",
      "    combine\n",
      "\n",
      "\n",
      "The following object is masked from ‘package:stats4’:\n",
      "\n",
      "    nobs\n",
      "\n",
      "\n",
      "The following object is masked from ‘package:stats’:\n",
      "\n",
      "    nobs\n",
      "\n",
      "\n",
      "The following object is masked from ‘package:utils’:\n",
      "\n",
      "    object.size\n",
      "\n",
      "\n",
      "The following object is masked from ‘package:base’:\n",
      "\n",
      "    startsWith\n",
      "\n",
      "\n",
      "\n",
      "Attaching package: ‘reshape2’\n",
      "\n",
      "\n",
      "The following objects are masked from ‘package:data.table’:\n",
      "\n",
      "    dcast, melt\n",
      "\n",
      "\n",
      "ReactomePA v1.36.0  For help: https://yulab-smu.top/biomedical-knowledge-mining-book/reactomepa.html\n",
      "\n",
      "If you use ReactomePA in published research, please cite:\n",
      "Guangchuang Yu, Qing-Yu He. ReactomePA: an R/Bioconductor package for reactome pathway analysis and visualization. Molecular BioSystems 2016, 12(2):477-479\n",
      "\n",
      "Loading required package: mgcv\n",
      "\n",
      "Loading required package: nlme\n",
      "\n",
      "\n",
      "Attaching package: ‘nlme’\n",
      "\n",
      "\n",
      "The following object is masked from ‘package:dplyr’:\n",
      "\n",
      "    collapse\n",
      "\n",
      "\n",
      "The following object is masked from ‘package:IRanges’:\n",
      "\n",
      "    collapse\n",
      "\n",
      "\n",
      "This is mgcv 1.8-41. For overview type 'help(\"mgcv-package\")'.\n",
      "\n",
      "Loading required package: genefilter\n",
      "\n",
      "\n",
      "Attaching package: ‘genefilter’\n",
      "\n",
      "\n",
      "The following object is masked from ‘package:rstatix’:\n",
      "\n",
      "    Anova\n",
      "\n",
      "\n",
      "The following objects are masked from ‘package:MatrixGenerics’:\n",
      "\n",
      "    rowSds, rowVars\n",
      "\n",
      "\n",
      "The following objects are masked from ‘package:matrixStats’:\n",
      "\n",
      "    rowSds, rowVars\n",
      "\n",
      "\n",
      "Loading required package: BiocParallel\n",
      "\n",
      "\n",
      "Attaching package: ‘patchwork’\n",
      "\n",
      "\n",
      "The following object is masked from ‘package:genefilter’:\n",
      "\n",
      "    area\n",
      "\n",
      "\n",
      "The following object is masked from ‘package:cowplot’:\n",
      "\n",
      "    align_plots\n",
      "\n",
      "\n",
      "Type 'citation(\"pROC\")' for a citation.\n",
      "\n",
      "\n",
      "Attaching package: ‘pROC’\n",
      "\n",
      "\n",
      "The following object is masked from ‘package:colorspace’:\n",
      "\n",
      "    coords\n",
      "\n",
      "\n",
      "The following objects are masked from ‘package:IRanges’:\n",
      "\n",
      "    cov, var\n",
      "\n",
      "\n",
      "The following objects are masked from ‘package:S4Vectors’:\n",
      "\n",
      "    cov, var\n",
      "\n",
      "\n",
      "The following object is masked from ‘package:BiocGenerics’:\n",
      "\n",
      "    var\n",
      "\n",
      "\n",
      "The following objects are masked from ‘package:stats’:\n",
      "\n",
      "    cov, smooth, var\n",
      "\n",
      "\n",
      "Loaded glmnet 4.1-6\n",
      "\n",
      "\n",
      "Attaching package: ‘nnet’\n",
      "\n",
      "\n",
      "The following object is masked from ‘package:mgcv’:\n",
      "\n",
      "    multinom\n",
      "\n",
      "\n",
      "\n",
      "Attaching package: ‘dfidx’\n",
      "\n",
      "\n",
      "The following object is masked from ‘package:AnnotationDbi’:\n",
      "\n",
      "    select\n",
      "\n",
      "\n",
      "The following object is masked from ‘package:IRanges’:\n",
      "\n",
      "    slice\n",
      "\n",
      "\n",
      "The following object is masked from ‘package:stats’:\n",
      "\n",
      "    filter\n",
      "\n",
      "\n",
      "\n",
      "Attaching package: ‘cvAUC’\n",
      "\n",
      "\n",
      "The following object is masked from ‘package:genefilter’:\n",
      "\n",
      "    AUC\n",
      "\n",
      "\n",
      "Loading required package: maps\n",
      "\n",
      "Loading required package: shapefiles\n",
      "\n",
      "Loading required package: foreign\n",
      "\n",
      "\n",
      "Attaching package: ‘shapefiles’\n",
      "\n",
      "\n",
      "The following objects are masked from ‘package:foreign’:\n",
      "\n",
      "    read.dbf, write.dbf\n",
      "\n",
      "\n",
      "\n",
      "Attaching package: ‘plotROC’\n",
      "\n",
      "\n",
      "The following object is masked from ‘package:pROC’:\n",
      "\n",
      "    ggroc\n",
      "\n",
      "\n",
      "Welcome! Want to learn more? See two factoextra-related books at https://goo.gl/ve3WBa\n",
      "\n",
      "Loading required package: grid\n",
      "\n",
      "========================================\n",
      "ComplexHeatmap version 2.8.0\n",
      "Bioconductor page: http://bioconductor.org/packages/ComplexHeatmap/\n",
      "Github page: https://github.com/jokergoo/ComplexHeatmap\n",
      "Documentation: http://jokergoo.github.io/ComplexHeatmap-reference\n",
      "\n",
      "If you use it in published research, please cite:\n",
      "Gu, Z. Complex heatmaps reveal patterns and correlations in multidimensional \n",
      "  genomic data. Bioinformatics 2016.\n",
      "\n",
      "The new InteractiveComplexHeatmap package can directly export static \n",
      "complex heatmaps into an interactive Shiny app with zero effort. Have a try!\n",
      "\n",
      "This message can be suppressed by:\n",
      "  suppressPackageStartupMessages(library(ComplexHeatmap))\n",
      "========================================\n",
      "\n",
      "\n",
      "\n",
      "Attaching package: ‘ComplexHeatmap’\n",
      "\n",
      "\n",
      "The following object is masked from ‘package:genefilter’:\n",
      "\n",
      "    dist2\n",
      "\n",
      "\n",
      "The following object is masked from ‘package:network’:\n",
      "\n",
      "    %v%\n",
      "\n",
      "\n",
      "The following object is masked from ‘package:plotly’:\n",
      "\n",
      "    add_heatmap\n",
      "\n",
      "\n",
      "Welcome to compositions, a package for compositional data analysis.\n",
      "Find an intro with \"? compositions\"\n",
      "\n",
      "\n",
      "\n",
      "Attaching package: ‘compositions’\n",
      "\n",
      "\n",
      "The following object is masked from ‘package:glmnet’:\n",
      "\n",
      "    rmult\n",
      "\n",
      "\n",
      "The following objects are masked from ‘package:pROC’:\n",
      "\n",
      "    cov, var\n",
      "\n",
      "\n",
      "The following object is masked from ‘package:DelayedArray’:\n",
      "\n",
      "    scale\n",
      "\n",
      "\n",
      "The following object is masked from ‘package:Matrix’:\n",
      "\n",
      "    norm\n",
      "\n",
      "\n",
      "The following object is masked from ‘package:scater’:\n",
      "\n",
      "    normalize\n",
      "\n",
      "\n",
      "The following objects are masked from ‘package:IRanges’:\n",
      "\n",
      "    cor, cov, var\n",
      "\n",
      "\n",
      "The following objects are masked from ‘package:S4Vectors’:\n",
      "\n",
      "    cor, cov, var\n",
      "\n",
      "\n",
      "The following objects are masked from ‘package:BiocGenerics’:\n",
      "\n",
      "    normalize, var\n",
      "\n",
      "\n",
      "The following object is masked from ‘package:igraph’:\n",
      "\n",
      "    normalize\n",
      "\n",
      "\n",
      "The following objects are masked from ‘package:stats’:\n",
      "\n",
      "    anova, cor, cov, dist, var\n",
      "\n",
      "\n",
      "The following objects are masked from ‘package:base’:\n",
      "\n",
      "    %*%, norm, scale, scale.default\n",
      "\n",
      "\n",
      "========================================\n",
      "circlize version 0.4.15\n",
      "CRAN page: https://cran.r-project.org/package=circlize\n",
      "Github page: https://github.com/jokergoo/circlize\n",
      "Documentation: https://jokergoo.github.io/circlize_book/book/\n",
      "\n",
      "If you use it in published research, please cite:\n",
      "Gu, Z. circlize implements and enhances circular visualization\n",
      "  in R. Bioinformatics 2014.\n",
      "\n",
      "This message can be suppressed by:\n",
      "  suppressPackageStartupMessages(library(circlize))\n",
      "========================================\n",
      "\n",
      "\n",
      "\n",
      "Attaching package: ‘circlize’\n",
      "\n",
      "\n",
      "The following object is masked from ‘package:igraph’:\n",
      "\n",
      "    degree\n",
      "\n",
      "\n",
      "\n",
      "Attaching package: ‘ggpubr’\n",
      "\n",
      "\n",
      "The following object is masked from ‘package:enrichplot’:\n",
      "\n",
      "    color_palette\n",
      "\n",
      "\n",
      "The following object is masked from ‘package:cowplot’:\n",
      "\n",
      "    get_legend\n",
      "\n",
      "\n",
      "Loading required package: survival\n",
      "\n",
      "Loading required package: TH.data\n",
      "\n",
      "Loading required package: MASS\n",
      "\n",
      "\n",
      "Attaching package: ‘MASS’\n",
      "\n",
      "\n",
      "The following object is masked from ‘package:dfidx’:\n",
      "\n",
      "    select\n",
      "\n",
      "\n",
      "The following object is masked from ‘package:patchwork’:\n",
      "\n",
      "    area\n",
      "\n",
      "\n",
      "The following object is masked from ‘package:genefilter’:\n",
      "\n",
      "    area\n",
      "\n",
      "\n",
      "The following object is masked from ‘package:rstatix’:\n",
      "\n",
      "    select\n",
      "\n",
      "\n",
      "The following object is masked from ‘package:clusterProfiler’:\n",
      "\n",
      "    select\n",
      "\n",
      "\n",
      "The following object is masked from ‘package:AnnotationDbi’:\n",
      "\n",
      "    select\n",
      "\n",
      "\n",
      "The following object is masked from ‘package:plotly’:\n",
      "\n",
      "    select\n",
      "\n",
      "\n",
      "The following object is masked from ‘package:dplyr’:\n",
      "\n",
      "    select\n",
      "\n",
      "\n",
      "\n",
      "Attaching package: ‘TH.data’\n",
      "\n",
      "\n",
      "The following object is masked from ‘package:MASS’:\n",
      "\n",
      "    geyser\n",
      "\n",
      "\n"
     ]
    }
   ],
   "source": [
    "source('MS0_Libraries.r')"
   ]
  },
  {
   "cell_type": "code",
   "execution_count": 4,
   "id": "45fcc655-2176-406c-9f49-5e5b9379a275",
   "metadata": {
    "tags": []
   },
   "outputs": [
    {
     "name": "stderr",
     "output_type": "stream",
     "text": [
      "Warning message:\n",
      "“\u001b[1m\u001b[22mThe `size` argument of `element_line()` is deprecated as of ggplot2 3.4.0.\n",
      "\u001b[36mℹ\u001b[39m Please use the `linewidth` argument instead.”\n"
     ]
    }
   ],
   "source": [
    "source('MS4_Plot_Config.r')"
   ]
  },
  {
   "cell_type": "markdown",
   "id": "9d409d14-a693-4722-9648-4b6bacb4b74a",
   "metadata": {
    "tags": []
   },
   "source": [
    "###############################################\n",
    "# Preqrequisites Configurations & Parameters"
   ]
  },
  {
   "cell_type": "code",
   "execution_count": 7,
   "id": "b64f1c5a-3b86-4251-81a1-96a6ee9ae377",
   "metadata": {},
   "outputs": [],
   "source": [
    "data_path = '../data/current'"
   ]
  },
  {
   "cell_type": "code",
   "execution_count": 8,
   "id": "22415b81-130b-4ded-9fde-52c2865e4d34",
   "metadata": {},
   "outputs": [],
   "source": [
    "result_path = '../results/current'"
   ]
  },
  {
   "cell_type": "code",
   "execution_count": 9,
   "id": "2053c61d-7637-4283-97e8-abb76dfc1a8b",
   "metadata": {},
   "outputs": [
    {
     "data": {
      "text/html": [
       "'../data/current'"
      ],
      "text/latex": [
       "'../data/current'"
      ],
      "text/markdown": [
       "'../data/current'"
      ],
      "text/plain": [
       "[1] \"../data/current\""
      ]
     },
     "metadata": {},
     "output_type": "display_data"
    }
   ],
   "source": [
    "data_path"
   ]
  },
  {
   "cell_type": "code",
   "execution_count": 10,
   "id": "17c51dce-9c0d-4c0a-bbb1-6015d1743d4f",
   "metadata": {},
   "outputs": [],
   "source": [
    "name = 'V_FINAL_INTEGRATED'  # name of dataset to load"
   ]
  },
  {
   "cell_type": "markdown",
   "id": "67bf281c-f070-4ad4-b894-6f000cd9e9c3",
   "metadata": {
    "tags": []
   },
   "source": [
    "# Functions"
   ]
  },
  {
   "cell_type": "code",
   "execution_count": 11,
   "id": "1c83032a-17e5-4dca-8e0d-b75f30fa3dd7",
   "metadata": {},
   "outputs": [],
   "source": [
    "### Function for quantile normalization\n",
    "\n",
    "quantile_normalization = function(X){\n",
    "  set.seed(42)\n",
    "  ranks = apply(X, 2, rank, ties.method = 'min')  # determine ranks of each entry\n",
    "  \n",
    "  sorted = data.frame(apply(X, 2, sort)) # sort the entries\n",
    "  means = apply(sorted, 1, mean) # calculate the means\n",
    "  \n",
    "  normalized_data = apply(ranks, 2 ,function(x){ means[x]}) # substitute the means into ranks matrix\n",
    "}\n"
   ]
  },
  {
   "cell_type": "code",
   "execution_count": 12,
   "id": "0c6f774b-82de-4fa2-a8ed-3c436fe307ae",
   "metadata": {},
   "outputs": [],
   "source": [
    "### Gene wise quantile normalization\n",
    "\n",
    "stdnorm <- function(x) {\n",
    "  set.seed(42)\n",
    "  r = rank(x[!is.na(x)], ties.method=\"average\")\n",
    "  x[!is.na(x)] = qnorm(r / (length(x[!is.na(x)]) + 1))\n",
    "  return(x)\n",
    "}"
   ]
  },
  {
   "cell_type": "code",
   "execution_count": 13,
   "id": "c4329c52-ab51-4357-be36-f0fa8359a56b",
   "metadata": {},
   "outputs": [],
   "source": [
    "### Function to calculate mean difference between two groups\n",
    "\n",
    "t_test_for_groups = function(heatmap_data, group1 = 'TP1|TP2', group2 = 'TP3|TP4', variable = 'measurement'){\n",
    "    heatmap_data$group = NA\n",
    "    heatmap_data$group[!is.na(str_extract(heatmap_data[,variable], group1))] = 'group1'\n",
    "    heatmap_data$group[!is.na(str_extract(heatmap_data[,variable], group2))] = 'group2'\n",
    "    \n",
    "    t_test_result = heatmap_data %>% group_by(variable,view) %>% t_test(value~group)\n",
    "    heatmap_data = merge(heatmap_data,t_test_result[,c('variable', 'view', 'p')])\n",
    "    heatmap_data$variable[heatmap_data$p < 0.05/nrow(heatmap_data)] = paste0(heatmap_data$variable[heatmap_data$p < 0.05/nrow(heatmap_data)], '*')\n",
    "    heatmap_data$gene[heatmap_data$p < 0.05/nrow(heatmap_data)] = paste0(heatmap_data$gene[heatmap_data$p < 0.05/nrow(heatmap_data)], '*')\n",
    "    return(heatmap_data)\n",
    "    }"
   ]
  },
  {
   "cell_type": "markdown",
   "id": "43e2937f-4e6d-4e90-99f2-2f7c370f9639",
   "metadata": {
    "tags": []
   },
   "source": [
    "# Load Data "
   ]
  },
  {
   "cell_type": "markdown",
   "id": "d082fa98-ad4a-46ec-90e5-2da19dd6e84a",
   "metadata": {
    "tags": []
   },
   "source": [
    "## Prepared combined data"
   ]
  },
  {
   "cell_type": "code",
   "execution_count": 14,
   "id": "17a9bed4-c561-4cb6-ada9-5f70f42a1011",
   "metadata": {},
   "outputs": [
    {
     "name": "stdout",
     "output_type": "stream",
     "text": [
      "[1] \"2024-01-03 14:26:41 CET\"\n"
     ]
    }
   ],
   "source": [
    "path = paste0(result_path, '/E-Analysis/Combined_Data_',name,'.csv')\n",
    "data_long = read.csv(path)\n",
    "print(file.info(path)$mtime)"
   ]
  },
  {
   "cell_type": "code",
   "execution_count": 15,
   "id": "282702dc-4b09-4107-b9ec-56330758a0a4",
   "metadata": {},
   "outputs": [],
   "source": [
    "#head(data_long,2)"
   ]
  },
  {
   "cell_type": "code",
   "execution_count": 16,
   "id": "2d408808-8578-4e39-b67e-6f8aac321600",
   "metadata": {},
   "outputs": [],
   "source": [
    "data_long$X = NULL"
   ]
  },
  {
   "cell_type": "code",
   "execution_count": null,
   "id": "6eccfda4-85ba-4ab4-99d6-361ddaadc603",
   "metadata": {},
   "outputs": [],
   "source": []
  },
  {
   "cell_type": "markdown",
   "id": "343e5e88-d407-424d-b4b0-d7480b969af1",
   "metadata": {},
   "source": [
    "## MOFA model weights for comparison"
   ]
  },
  {
   "cell_type": "code",
   "execution_count": 17,
   "id": "f2296a99-6d04-4268-999f-1cbe5827169b",
   "metadata": {},
   "outputs": [],
   "source": [
    "mofa_weights = read.csv(paste0(result_path, '/E-Analysis/', 'Weight_Data_V_FINAL_INTEGRATED_FALSE.csv'))"
   ]
  },
  {
   "cell_type": "code",
   "execution_count": 18,
   "id": "41c78a99-3508-4bb3-b453-6bcd11902dbf",
   "metadata": {},
   "outputs": [
    {
     "data": {
      "text/html": [
       "<table class=\"dataframe\">\n",
       "<caption>A data.frame: 10 × 22</caption>\n",
       "<thead>\n",
       "\t<tr><th></th><th scope=col>Factor1</th><th scope=col>Factor2</th><th scope=col>Factor3</th><th scope=col>Factor4</th><th scope=col>Factor5</th><th scope=col>Factor6</th><th scope=col>Factor7</th><th scope=col>Factor8</th><th scope=col>Factor9</th><th scope=col>Factor10</th><th scope=col>⋯</th><th scope=col>Factor13</th><th scope=col>Factor14</th><th scope=col>Factor15</th><th scope=col>Factor16</th><th scope=col>Factor17</th><th scope=col>Factor18</th><th scope=col>Factor19</th><th scope=col>Factor20</th><th scope=col>type</th><th scope=col>variable_name</th></tr>\n",
       "\t<tr><th></th><th scope=col>&lt;dbl&gt;</th><th scope=col>&lt;dbl&gt;</th><th scope=col>&lt;dbl&gt;</th><th scope=col>&lt;dbl&gt;</th><th scope=col>&lt;dbl&gt;</th><th scope=col>&lt;dbl&gt;</th><th scope=col>&lt;dbl&gt;</th><th scope=col>&lt;dbl&gt;</th><th scope=col>&lt;dbl&gt;</th><th scope=col>&lt;dbl&gt;</th><th scope=col>⋯</th><th scope=col>&lt;dbl&gt;</th><th scope=col>&lt;dbl&gt;</th><th scope=col>&lt;dbl&gt;</th><th scope=col>&lt;dbl&gt;</th><th scope=col>&lt;dbl&gt;</th><th scope=col>&lt;dbl&gt;</th><th scope=col>&lt;dbl&gt;</th><th scope=col>&lt;dbl&gt;</th><th scope=col>&lt;chr&gt;</th><th scope=col>&lt;chr&gt;</th></tr>\n",
       "</thead>\n",
       "<tbody>\n",
       "\t<tr><th scope=row>1</th><td>-0.134185974</td><td> 0.40192217</td><td>-0.10107650</td><td>-0.002177566</td><td>-0.50936665</td><td> 0.24179134</td><td>-0.036350975</td><td> 0.05304519</td><td> 0.0011574664</td><td>-0.0123071302</td><td>⋯</td><td>-0.160450518</td><td>-0.0014186183</td><td> 0.154094465</td><td> 0.003821864</td><td>-0.24205661</td><td> 0.0040925822</td><td>-0.0005618720</td><td>-0.24239441</td><td>clinical_data</td><td>CK             </td></tr>\n",
       "\t<tr><th scope=row>2</th><td>-0.062226210</td><td> 0.27319855</td><td>-0.20003621</td><td>-0.076098327</td><td>-0.14394453</td><td> 0.04289833</td><td>-0.718185970</td><td> 0.18658970</td><td>-0.0007753517</td><td>-0.0030743082</td><td>⋯</td><td>-0.610716171</td><td> 0.0024994941</td><td> 0.386446398</td><td>-0.001090137</td><td>-0.08311704</td><td> 0.0095034985</td><td>-0.0003621744</td><td> 0.20601583</td><td>clinical_data</td><td>CK_MB          </td></tr>\n",
       "\t<tr><th scope=row>3</th><td>-0.070745944</td><td> 0.14369327</td><td> 0.32511723</td><td> 0.874486756</td><td>-0.62137315</td><td>-0.20316412</td><td> 0.002131499</td><td> 0.02329457</td><td> 0.0041294886</td><td> 0.0002250871</td><td>⋯</td><td> 0.122925352</td><td>-0.0009936264</td><td>-0.756019708</td><td>-0.015343540</td><td>-0.09221061</td><td>-0.0051228455</td><td> 0.0048858089</td><td>-0.40467127</td><td>clinical_data</td><td>CRP            </td></tr>\n",
       "\t<tr><th scope=row>4</th><td>-0.127869080</td><td> 0.37564988</td><td> 0.14888873</td><td> 0.324815756</td><td>-0.57842721</td><td> 0.04581684</td><td>-0.032055388</td><td> 0.31853530</td><td> 0.0142770231</td><td>-0.0049741087</td><td>⋯</td><td>-0.140620253</td><td> 0.0065908149</td><td> 0.128854858</td><td>-0.004313343</td><td>-0.14217673</td><td>-0.0004995215</td><td> 0.0042891005</td><td>-0.46873354</td><td>clinical_data</td><td>Troponin       </td></tr>\n",
       "\t<tr><th scope=row>5</th><td> 0.007978853</td><td> 0.02443140</td><td>-0.01729291</td><td>-0.287106067</td><td>-0.06740164</td><td>-0.04226999</td><td>-0.034935911</td><td> 0.02324887</td><td>-0.0958397941</td><td>-0.1544841783</td><td>⋯</td><td> 0.661863941</td><td> 0.5054456766</td><td>-0.051350948</td><td> 0.039386175</td><td>-0.22319993</td><td>-0.0473087682</td><td> 0.1148286132</td><td>-0.00669062</td><td>cytokine     </td><td>BCA1__CXCL13   </td></tr>\n",
       "\t<tr><th scope=row>6</th><td> 0.015216616</td><td>-0.17599838</td><td> 0.02830920</td><td>-0.008525780</td><td> 0.07248504</td><td>-0.05209972</td><td>-0.037116100</td><td> 0.03559665</td><td>-0.2632141994</td><td>-0.0240123032</td><td>⋯</td><td> 0.009363874</td><td> 0.1033614366</td><td>-0.030655821</td><td>-0.062804961</td><td> 0.03825064</td><td>-0.0388826053</td><td> 0.1936810295</td><td> 0.16105132</td><td>cytokine     </td><td>CTACK__CCL27   </td></tr>\n",
       "\t<tr><th scope=row>7</th><td> 0.013673086</td><td> 0.07760928</td><td> 0.30373924</td><td>-0.010782959</td><td> 0.02232099</td><td> 0.02009437</td><td> 0.018305336</td><td>-0.06732902</td><td>-0.0948021288</td><td>-0.0010272207</td><td>⋯</td><td> 0.068642082</td><td>-0.1331790555</td><td> 0.009707243</td><td>-0.043243569</td><td> 0.13468542</td><td> 0.2209034400</td><td>-0.0852761492</td><td>-0.03313941</td><td>cytokine     </td><td>EGF__EGF       </td></tr>\n",
       "\t<tr><th scope=row>8</th><td> 0.020450195</td><td>-0.14861746</td><td> 0.08744844</td><td> 0.044758021</td><td> 0.34629293</td><td>-0.05318961</td><td>-0.133780928</td><td> 0.02442531</td><td>-0.0083637545</td><td>-0.0300759666</td><td>⋯</td><td>-0.016763253</td><td> 0.0440043338</td><td>-0.002815433</td><td>-0.180605737</td><td> 0.08039990</td><td> 0.1188024393</td><td>-0.0096727341</td><td> 0.08404169</td><td>cytokine     </td><td>ENA78__CXCL5   </td></tr>\n",
       "\t<tr><th scope=row>9</th><td>-0.009040143</td><td>-0.10062609</td><td>-0.06195454</td><td> 0.335670083</td><td> 0.01772261</td><td> 0.24874685</td><td>-0.070215374</td><td> 0.02484327</td><td>-0.0308598353</td><td> 0.1856367607</td><td>⋯</td><td>-0.092690643</td><td> 0.1111322798</td><td>-0.023542523</td><td> 0.023015143</td><td> 1.18709314</td><td> 0.1502934048</td><td>-0.2351307402</td><td> 0.25937475</td><td>cytokine     </td><td>Eotaxin__CCL11 </td></tr>\n",
       "\t<tr><th scope=row>10</th><td> 0.003145437</td><td>-0.04356660</td><td> 0.11104902</td><td>-0.545865441</td><td> 0.12349054</td><td>-0.04016319</td><td>-0.049009083</td><td>-0.03401423</td><td>-0.1786520127</td><td> 0.0335714520</td><td>⋯</td><td> 0.069270032</td><td> 0.0845226412</td><td> 0.005406779</td><td>-0.080415905</td><td>-0.03812922</td><td>-0.1695048261</td><td> 0.1445659203</td><td>-0.01750155</td><td>cytokine     </td><td>Eotaxin2__CCL24</td></tr>\n",
       "</tbody>\n",
       "</table>\n"
      ],
      "text/latex": [
       "A data.frame: 10 × 22\n",
       "\\begin{tabular}{r|lllllllllllllllllllll}\n",
       "  & Factor1 & Factor2 & Factor3 & Factor4 & Factor5 & Factor6 & Factor7 & Factor8 & Factor9 & Factor10 & ⋯ & Factor13 & Factor14 & Factor15 & Factor16 & Factor17 & Factor18 & Factor19 & Factor20 & type & variable\\_name\\\\\n",
       "  & <dbl> & <dbl> & <dbl> & <dbl> & <dbl> & <dbl> & <dbl> & <dbl> & <dbl> & <dbl> & ⋯ & <dbl> & <dbl> & <dbl> & <dbl> & <dbl> & <dbl> & <dbl> & <dbl> & <chr> & <chr>\\\\\n",
       "\\hline\n",
       "\t1 & -0.134185974 &  0.40192217 & -0.10107650 & -0.002177566 & -0.50936665 &  0.24179134 & -0.036350975 &  0.05304519 &  0.0011574664 & -0.0123071302 & ⋯ & -0.160450518 & -0.0014186183 &  0.154094465 &  0.003821864 & -0.24205661 &  0.0040925822 & -0.0005618720 & -0.24239441 & clinical\\_data & CK             \\\\\n",
       "\t2 & -0.062226210 &  0.27319855 & -0.20003621 & -0.076098327 & -0.14394453 &  0.04289833 & -0.718185970 &  0.18658970 & -0.0007753517 & -0.0030743082 & ⋯ & -0.610716171 &  0.0024994941 &  0.386446398 & -0.001090137 & -0.08311704 &  0.0095034985 & -0.0003621744 &  0.20601583 & clinical\\_data & CK\\_MB          \\\\\n",
       "\t3 & -0.070745944 &  0.14369327 &  0.32511723 &  0.874486756 & -0.62137315 & -0.20316412 &  0.002131499 &  0.02329457 &  0.0041294886 &  0.0002250871 & ⋯ &  0.122925352 & -0.0009936264 & -0.756019708 & -0.015343540 & -0.09221061 & -0.0051228455 &  0.0048858089 & -0.40467127 & clinical\\_data & CRP            \\\\\n",
       "\t4 & -0.127869080 &  0.37564988 &  0.14888873 &  0.324815756 & -0.57842721 &  0.04581684 & -0.032055388 &  0.31853530 &  0.0142770231 & -0.0049741087 & ⋯ & -0.140620253 &  0.0065908149 &  0.128854858 & -0.004313343 & -0.14217673 & -0.0004995215 &  0.0042891005 & -0.46873354 & clinical\\_data & Troponin       \\\\\n",
       "\t5 &  0.007978853 &  0.02443140 & -0.01729291 & -0.287106067 & -0.06740164 & -0.04226999 & -0.034935911 &  0.02324887 & -0.0958397941 & -0.1544841783 & ⋯ &  0.661863941 &  0.5054456766 & -0.051350948 &  0.039386175 & -0.22319993 & -0.0473087682 &  0.1148286132 & -0.00669062 & cytokine      & BCA1\\_\\_CXCL13   \\\\\n",
       "\t6 &  0.015216616 & -0.17599838 &  0.02830920 & -0.008525780 &  0.07248504 & -0.05209972 & -0.037116100 &  0.03559665 & -0.2632141994 & -0.0240123032 & ⋯ &  0.009363874 &  0.1033614366 & -0.030655821 & -0.062804961 &  0.03825064 & -0.0388826053 &  0.1936810295 &  0.16105132 & cytokine      & CTACK\\_\\_CCL27   \\\\\n",
       "\t7 &  0.013673086 &  0.07760928 &  0.30373924 & -0.010782959 &  0.02232099 &  0.02009437 &  0.018305336 & -0.06732902 & -0.0948021288 & -0.0010272207 & ⋯ &  0.068642082 & -0.1331790555 &  0.009707243 & -0.043243569 &  0.13468542 &  0.2209034400 & -0.0852761492 & -0.03313941 & cytokine      & EGF\\_\\_EGF       \\\\\n",
       "\t8 &  0.020450195 & -0.14861746 &  0.08744844 &  0.044758021 &  0.34629293 & -0.05318961 & -0.133780928 &  0.02442531 & -0.0083637545 & -0.0300759666 & ⋯ & -0.016763253 &  0.0440043338 & -0.002815433 & -0.180605737 &  0.08039990 &  0.1188024393 & -0.0096727341 &  0.08404169 & cytokine      & ENA78\\_\\_CXCL5   \\\\\n",
       "\t9 & -0.009040143 & -0.10062609 & -0.06195454 &  0.335670083 &  0.01772261 &  0.24874685 & -0.070215374 &  0.02484327 & -0.0308598353 &  0.1856367607 & ⋯ & -0.092690643 &  0.1111322798 & -0.023542523 &  0.023015143 &  1.18709314 &  0.1502934048 & -0.2351307402 &  0.25937475 & cytokine      & Eotaxin\\_\\_CCL11 \\\\\n",
       "\t10 &  0.003145437 & -0.04356660 &  0.11104902 & -0.545865441 &  0.12349054 & -0.04016319 & -0.049009083 & -0.03401423 & -0.1786520127 &  0.0335714520 & ⋯ &  0.069270032 &  0.0845226412 &  0.005406779 & -0.080415905 & -0.03812922 & -0.1695048261 &  0.1445659203 & -0.01750155 & cytokine      & Eotaxin2\\_\\_CCL24\\\\\n",
       "\\end{tabular}\n"
      ],
      "text/markdown": [
       "\n",
       "A data.frame: 10 × 22\n",
       "\n",
       "| <!--/--> | Factor1 &lt;dbl&gt; | Factor2 &lt;dbl&gt; | Factor3 &lt;dbl&gt; | Factor4 &lt;dbl&gt; | Factor5 &lt;dbl&gt; | Factor6 &lt;dbl&gt; | Factor7 &lt;dbl&gt; | Factor8 &lt;dbl&gt; | Factor9 &lt;dbl&gt; | Factor10 &lt;dbl&gt; | ⋯ ⋯ | Factor13 &lt;dbl&gt; | Factor14 &lt;dbl&gt; | Factor15 &lt;dbl&gt; | Factor16 &lt;dbl&gt; | Factor17 &lt;dbl&gt; | Factor18 &lt;dbl&gt; | Factor19 &lt;dbl&gt; | Factor20 &lt;dbl&gt; | type &lt;chr&gt; | variable_name &lt;chr&gt; |\n",
       "|---|---|---|---|---|---|---|---|---|---|---|---|---|---|---|---|---|---|---|---|---|---|\n",
       "| 1 | -0.134185974 |  0.40192217 | -0.10107650 | -0.002177566 | -0.50936665 |  0.24179134 | -0.036350975 |  0.05304519 |  0.0011574664 | -0.0123071302 | ⋯ | -0.160450518 | -0.0014186183 |  0.154094465 |  0.003821864 | -0.24205661 |  0.0040925822 | -0.0005618720 | -0.24239441 | clinical_data | CK              |\n",
       "| 2 | -0.062226210 |  0.27319855 | -0.20003621 | -0.076098327 | -0.14394453 |  0.04289833 | -0.718185970 |  0.18658970 | -0.0007753517 | -0.0030743082 | ⋯ | -0.610716171 |  0.0024994941 |  0.386446398 | -0.001090137 | -0.08311704 |  0.0095034985 | -0.0003621744 |  0.20601583 | clinical_data | CK_MB           |\n",
       "| 3 | -0.070745944 |  0.14369327 |  0.32511723 |  0.874486756 | -0.62137315 | -0.20316412 |  0.002131499 |  0.02329457 |  0.0041294886 |  0.0002250871 | ⋯ |  0.122925352 | -0.0009936264 | -0.756019708 | -0.015343540 | -0.09221061 | -0.0051228455 |  0.0048858089 | -0.40467127 | clinical_data | CRP             |\n",
       "| 4 | -0.127869080 |  0.37564988 |  0.14888873 |  0.324815756 | -0.57842721 |  0.04581684 | -0.032055388 |  0.31853530 |  0.0142770231 | -0.0049741087 | ⋯ | -0.140620253 |  0.0065908149 |  0.128854858 | -0.004313343 | -0.14217673 | -0.0004995215 |  0.0042891005 | -0.46873354 | clinical_data | Troponin        |\n",
       "| 5 |  0.007978853 |  0.02443140 | -0.01729291 | -0.287106067 | -0.06740164 | -0.04226999 | -0.034935911 |  0.02324887 | -0.0958397941 | -0.1544841783 | ⋯ |  0.661863941 |  0.5054456766 | -0.051350948 |  0.039386175 | -0.22319993 | -0.0473087682 |  0.1148286132 | -0.00669062 | cytokine      | BCA1__CXCL13    |\n",
       "| 6 |  0.015216616 | -0.17599838 |  0.02830920 | -0.008525780 |  0.07248504 | -0.05209972 | -0.037116100 |  0.03559665 | -0.2632141994 | -0.0240123032 | ⋯ |  0.009363874 |  0.1033614366 | -0.030655821 | -0.062804961 |  0.03825064 | -0.0388826053 |  0.1936810295 |  0.16105132 | cytokine      | CTACK__CCL27    |\n",
       "| 7 |  0.013673086 |  0.07760928 |  0.30373924 | -0.010782959 |  0.02232099 |  0.02009437 |  0.018305336 | -0.06732902 | -0.0948021288 | -0.0010272207 | ⋯ |  0.068642082 | -0.1331790555 |  0.009707243 | -0.043243569 |  0.13468542 |  0.2209034400 | -0.0852761492 | -0.03313941 | cytokine      | EGF__EGF        |\n",
       "| 8 |  0.020450195 | -0.14861746 |  0.08744844 |  0.044758021 |  0.34629293 | -0.05318961 | -0.133780928 |  0.02442531 | -0.0083637545 | -0.0300759666 | ⋯ | -0.016763253 |  0.0440043338 | -0.002815433 | -0.180605737 |  0.08039990 |  0.1188024393 | -0.0096727341 |  0.08404169 | cytokine      | ENA78__CXCL5    |\n",
       "| 9 | -0.009040143 | -0.10062609 | -0.06195454 |  0.335670083 |  0.01772261 |  0.24874685 | -0.070215374 |  0.02484327 | -0.0308598353 |  0.1856367607 | ⋯ | -0.092690643 |  0.1111322798 | -0.023542523 |  0.023015143 |  1.18709314 |  0.1502934048 | -0.2351307402 |  0.25937475 | cytokine      | Eotaxin__CCL11  |\n",
       "| 10 |  0.003145437 | -0.04356660 |  0.11104902 | -0.545865441 |  0.12349054 | -0.04016319 | -0.049009083 | -0.03401423 | -0.1786520127 |  0.0335714520 | ⋯ |  0.069270032 |  0.0845226412 |  0.005406779 | -0.080415905 | -0.03812922 | -0.1695048261 |  0.1445659203 | -0.01750155 | cytokine      | Eotaxin2__CCL24 |\n",
       "\n"
      ],
      "text/plain": [
       "   Factor1      Factor2     Factor3     Factor4      Factor5     Factor6    \n",
       "1  -0.134185974  0.40192217 -0.10107650 -0.002177566 -0.50936665  0.24179134\n",
       "2  -0.062226210  0.27319855 -0.20003621 -0.076098327 -0.14394453  0.04289833\n",
       "3  -0.070745944  0.14369327  0.32511723  0.874486756 -0.62137315 -0.20316412\n",
       "4  -0.127869080  0.37564988  0.14888873  0.324815756 -0.57842721  0.04581684\n",
       "5   0.007978853  0.02443140 -0.01729291 -0.287106067 -0.06740164 -0.04226999\n",
       "6   0.015216616 -0.17599838  0.02830920 -0.008525780  0.07248504 -0.05209972\n",
       "7   0.013673086  0.07760928  0.30373924 -0.010782959  0.02232099  0.02009437\n",
       "8   0.020450195 -0.14861746  0.08744844  0.044758021  0.34629293 -0.05318961\n",
       "9  -0.009040143 -0.10062609 -0.06195454  0.335670083  0.01772261  0.24874685\n",
       "10  0.003145437 -0.04356660  0.11104902 -0.545865441  0.12349054 -0.04016319\n",
       "   Factor7      Factor8     Factor9       Factor10      ⋯ Factor13    \n",
       "1  -0.036350975  0.05304519  0.0011574664 -0.0123071302 ⋯ -0.160450518\n",
       "2  -0.718185970  0.18658970 -0.0007753517 -0.0030743082 ⋯ -0.610716171\n",
       "3   0.002131499  0.02329457  0.0041294886  0.0002250871 ⋯  0.122925352\n",
       "4  -0.032055388  0.31853530  0.0142770231 -0.0049741087 ⋯ -0.140620253\n",
       "5  -0.034935911  0.02324887 -0.0958397941 -0.1544841783 ⋯  0.661863941\n",
       "6  -0.037116100  0.03559665 -0.2632141994 -0.0240123032 ⋯  0.009363874\n",
       "7   0.018305336 -0.06732902 -0.0948021288 -0.0010272207 ⋯  0.068642082\n",
       "8  -0.133780928  0.02442531 -0.0083637545 -0.0300759666 ⋯ -0.016763253\n",
       "9  -0.070215374  0.02484327 -0.0308598353  0.1856367607 ⋯ -0.092690643\n",
       "10 -0.049009083 -0.03401423 -0.1786520127  0.0335714520 ⋯  0.069270032\n",
       "   Factor14      Factor15     Factor16     Factor17    Factor18     \n",
       "1  -0.0014186183  0.154094465  0.003821864 -0.24205661  0.0040925822\n",
       "2   0.0024994941  0.386446398 -0.001090137 -0.08311704  0.0095034985\n",
       "3  -0.0009936264 -0.756019708 -0.015343540 -0.09221061 -0.0051228455\n",
       "4   0.0065908149  0.128854858 -0.004313343 -0.14217673 -0.0004995215\n",
       "5   0.5054456766 -0.051350948  0.039386175 -0.22319993 -0.0473087682\n",
       "6   0.1033614366 -0.030655821 -0.062804961  0.03825064 -0.0388826053\n",
       "7  -0.1331790555  0.009707243 -0.043243569  0.13468542  0.2209034400\n",
       "8   0.0440043338 -0.002815433 -0.180605737  0.08039990  0.1188024393\n",
       "9   0.1111322798 -0.023542523  0.023015143  1.18709314  0.1502934048\n",
       "10  0.0845226412  0.005406779 -0.080415905 -0.03812922 -0.1695048261\n",
       "   Factor19      Factor20    type          variable_name  \n",
       "1  -0.0005618720 -0.24239441 clinical_data CK             \n",
       "2  -0.0003621744  0.20601583 clinical_data CK_MB          \n",
       "3   0.0048858089 -0.40467127 clinical_data CRP            \n",
       "4   0.0042891005 -0.46873354 clinical_data Troponin       \n",
       "5   0.1148286132 -0.00669062 cytokine      BCA1__CXCL13   \n",
       "6   0.1936810295  0.16105132 cytokine      CTACK__CCL27   \n",
       "7  -0.0852761492 -0.03313941 cytokine      EGF__EGF       \n",
       "8  -0.0096727341  0.08404169 cytokine      ENA78__CXCL5   \n",
       "9  -0.2351307402  0.25937475 cytokine      Eotaxin__CCL11 \n",
       "10  0.1445659203 -0.01750155 cytokine      Eotaxin2__CCL24"
      ]
     },
     "metadata": {},
     "output_type": "display_data"
    }
   ],
   "source": [
    "head(mofa_weights,10) # short check, correct weights"
   ]
  },
  {
   "cell_type": "markdown",
   "id": "d76baf68-703a-40b2-8c70-bd80a5fdae6f",
   "metadata": {
    "tags": []
   },
   "source": [
    "## Sample Data"
   ]
  },
  {
   "cell_type": "code",
   "execution_count": 19,
   "id": "e4cfef1b-013b-48f8-9b60-17d1c3a24fe2",
   "metadata": {},
   "outputs": [],
   "source": [
    "sample_data = read.csv(paste0(result_path, '/00_Data_Overview/Merged_Sample_Meta_Data.csv'))"
   ]
  },
  {
   "cell_type": "code",
   "execution_count": 21,
   "id": "7ab4f028-fb8e-4f5f-97b5-fd0c695da0be",
   "metadata": {},
   "outputs": [],
   "source": [
    "sample_data$CK_raw = sample_data$CK"
   ]
  },
  {
   "cell_type": "code",
   "execution_count": 22,
   "id": "371ca82f-5da3-46ae-b17d-8f332d58aa49",
   "metadata": {},
   "outputs": [],
   "source": [
    "sample_data$CK = log2(sample_data$CK+1)"
   ]
  },
  {
   "cell_type": "code",
   "execution_count": 23,
   "id": "fffd9dbb-f4bf-46d9-8404-408afb81e0f4",
   "metadata": {},
   "outputs": [],
   "source": [
    "sample_data$Troponin = log2(sample_data$Troponin+1)"
   ]
  },
  {
   "cell_type": "code",
   "execution_count": 24,
   "id": "6e31d99f-ec96-4de9-a274-7c7690adf1ba",
   "metadata": {},
   "outputs": [
    {
     "name": "stderr",
     "output_type": "stream",
     "text": [
      "Warning message in eval(expr, envir, enclos):\n",
      "“NAs introduced by coercion”\n"
     ]
    }
   ],
   "source": [
    "sample_data$CK_MB = log2(as.numeric(sample_data$CK_MB)+1)"
   ]
  },
  {
   "cell_type": "code",
   "execution_count": 25,
   "id": "ea0ccee8-a5ac-44a6-b2a4-7c4ef5b716dc",
   "metadata": {},
   "outputs": [
    {
     "name": "stderr",
     "output_type": "stream",
     "text": [
      "Warning message in eval(expr, envir, enclos):\n",
      "“NAs introduced by coercion”\n"
     ]
    }
   ],
   "source": [
    "sample_data$CRP =  log2(as.numeric(sample_data$CRP)+1)"
   ]
  },
  {
   "cell_type": "markdown",
   "id": "e4a73e5e-bf99-4bc1-88d5-38036c8d61ce",
   "metadata": {
    "tags": []
   },
   "source": [
    "# Train PCA"
   ]
  },
  {
   "cell_type": "code",
   "execution_count": 26,
   "id": "cbc8c38b-c6b9-4b21-98ec-81521fdf4425",
   "metadata": {},
   "outputs": [
    {
     "data": {
      "text/html": [
       "13282"
      ],
      "text/latex": [
       "13282"
      ],
      "text/markdown": [
       "13282"
      ],
      "text/plain": [
       "[1] 13282"
      ]
     },
     "metadata": {},
     "output_type": "display_data"
    }
   ],
   "source": [
    "length(unique(data_long$variable))"
   ]
  },
  {
   "cell_type": "markdown",
   "id": "6a5a1bca-fd9e-4d54-9821-00f89c9289ca",
   "metadata": {
    "tags": []
   },
   "source": [
    "## Prepare data "
   ]
  },
  {
   "cell_type": "code",
   "execution_count": 27,
   "id": "090791d5-0c56-4435-af6a-393554574a23",
   "metadata": {},
   "outputs": [
    {
     "data": {
      "text/html": [
       "128"
      ],
      "text/latex": [
       "128"
      ],
      "text/markdown": [
       "128"
      ],
      "text/plain": [
       "[1] 128"
      ]
     },
     "metadata": {},
     "output_type": "display_data"
    }
   ],
   "source": [
    "length(unique(data_long$sample_id))"
   ]
  },
  {
   "cell_type": "code",
   "execution_count": 28,
   "id": "ece6eaf9-401c-4e20-afb1-8e13b88b458f",
   "metadata": {},
   "outputs": [],
   "source": [
    "final_data_long_backup = data_long"
   ]
  },
  {
   "cell_type": "code",
   "execution_count": 29,
   "id": "f201fcc3-9761-46d4-8e86-fdca0339db47",
   "metadata": {},
   "outputs": [],
   "source": [
    "final_data_long = final_data_long_backup"
   ]
  },
  {
   "cell_type": "code",
   "execution_count": 32,
   "id": "b13dcf33-fd24-491b-8486-891cb7585257",
   "metadata": {},
   "outputs": [],
   "source": [
    "#head(final_data_long,2)"
   ]
  },
  {
   "cell_type": "code",
   "execution_count": 33,
   "id": "4d909ac6-ea72-4a2a-bc77-d416f97e24ef",
   "metadata": {},
   "outputs": [
    {
     "data": {
      "text/html": [
       "<style>\n",
       ".list-inline {list-style: none; margin:0; padding: 0}\n",
       ".list-inline>li {display: inline-block}\n",
       ".list-inline>li:not(:last-child)::after {content: \"\\00b7\"; padding: 0 .5ex}\n",
       "</style>\n",
       "<ol class=list-inline><li>'clinical_data'</li><li>'cytokine'</li><li>'neutrophil'</li><li>'proteomics'</li><li>'single_cell'</li></ol>\n"
      ],
      "text/latex": [
       "\\begin{enumerate*}\n",
       "\\item 'clinical\\_data'\n",
       "\\item 'cytokine'\n",
       "\\item 'neutrophil'\n",
       "\\item 'proteomics'\n",
       "\\item 'single\\_cell'\n",
       "\\end{enumerate*}\n"
      ],
      "text/markdown": [
       "1. 'clinical_data'\n",
       "2. 'cytokine'\n",
       "3. 'neutrophil'\n",
       "4. 'proteomics'\n",
       "5. 'single_cell'\n",
       "\n",
       "\n"
      ],
      "text/plain": [
       "[1] \"clinical_data\" \"cytokine\"      \"neutrophil\"    \"proteomics\"   \n",
       "[5] \"single_cell\"  "
      ]
     },
     "metadata": {},
     "output_type": "display_data"
    }
   ],
   "source": [
    "unique(final_data_long$type)"
   ]
  },
  {
   "cell_type": "code",
   "execution_count": 34,
   "id": "c82c448b-4cb5-4790-bde2-0b473ff7d1a8",
   "metadata": {},
   "outputs": [],
   "source": [
    "### Prepare data for PCA"
   ]
  },
  {
   "cell_type": "code",
   "execution_count": 35,
   "id": "918a49a8-9a50-4b34-815c-06cac2dbd77e",
   "metadata": {},
   "outputs": [],
   "source": [
    "final_data_long$variable_conc = paste0(final_data_long$type, '_0_', final_data_long$variable)"
   ]
  },
  {
   "cell_type": "code",
   "execution_count": 36,
   "id": "1f0d7ce7-f9e3-489d-8310-1e4c92165572",
   "metadata": {},
   "outputs": [
    {
     "data": {
      "text/html": [
       "13282"
      ],
      "text/latex": [
       "13282"
      ],
      "text/markdown": [
       "13282"
      ],
      "text/plain": [
       "[1] 13282"
      ]
     },
     "metadata": {},
     "output_type": "display_data"
    }
   ],
   "source": [
    "length(unique(final_data_long$variable_conc))"
   ]
  },
  {
   "cell_type": "code",
   "execution_count": 38,
   "id": "135652f8-d5d5-468d-a109-839ac57a5388",
   "metadata": {},
   "outputs": [],
   "source": [
    "#head(final_data_long,2)"
   ]
  },
  {
   "cell_type": "code",
   "execution_count": 39,
   "id": "f06175fa-8607-4b8b-aac5-3a90bc116bf8",
   "metadata": {},
   "outputs": [],
   "source": [
    "##### convert to wide  format\n",
    "\n",
    "final_data_wide = final_data_long %>% dcast(sample_id ~ variable_conc, value.vars = 'value')"
   ]
  },
  {
   "cell_type": "code",
   "execution_count": 40,
   "id": "d1653205-a1c8-4096-ba7f-b2e52a910beb",
   "metadata": {},
   "outputs": [
    {
     "data": {
      "text/html": [
       "128"
      ],
      "text/latex": [
       "128"
      ],
      "text/markdown": [
       "128"
      ],
      "text/plain": [
       "[1] 128"
      ]
     },
     "metadata": {},
     "output_type": "display_data"
    }
   ],
   "source": [
    "nrow(final_data_wide)"
   ]
  },
  {
   "cell_type": "code",
   "execution_count": 41,
   "id": "6fcc7e98-c163-4144-ad16-50e0365be848",
   "metadata": {},
   "outputs": [],
   "source": [
    "rownames(final_data_wide) = final_data_wide$sample_id\n",
    "final_data_wide$sample_id = NULL"
   ]
  },
  {
   "cell_type": "code",
   "execution_count": 42,
   "id": "4ae8c0be-6964-409a-9c60-82da1f2b3457",
   "metadata": {},
   "outputs": [],
   "source": [
    "final_data_wide = as.matrix(final_data_wide)"
   ]
  },
  {
   "cell_type": "code",
   "execution_count": 43,
   "id": "8ad6b12a-fb82-4e3f-8324-b0f691b7e09b",
   "metadata": {},
   "outputs": [
    {
     "data": {
      "text/html": [
       "<table class=\"dataframe\">\n",
       "<caption>A matrix: 2 × 13282 of type dbl</caption>\n",
       "<thead>\n",
       "\t<tr><th></th><th scope=col>clinical_data_0_CK</th><th scope=col>clinical_data_0_CK_MB</th><th scope=col>clinical_data_0_CRP</th><th scope=col>clinical_data_0_Troponin</th><th scope=col>cytokine_0_BCA1__CXCL13</th><th scope=col>cytokine_0_CTACK__CCL27</th><th scope=col>cytokine_0_EGF__EGF</th><th scope=col>cytokine_0_ENA78__CXCL5</th><th scope=col>cytokine_0_Eotaxin__CCL11</th><th scope=col>cytokine_0_Eotaxin2__CCL24</th><th scope=col>⋯</th><th scope=col>single_cell_0_X9_Monocytes...CD16_FCGR3A__ZEB2</th><th scope=col>single_cell_0_X9_Monocytes...CD16_FCGR3A__ZFAND5</th><th scope=col>single_cell_0_X9_Monocytes...CD16_FCGR3A__ZFAS1</th><th scope=col>single_cell_0_X9_Monocytes...CD16_FCGR3A__ZFP36</th><th scope=col>single_cell_0_X9_Monocytes...CD16_FCGR3A__ZFP36L1</th><th scope=col>single_cell_0_X9_Monocytes...CD16_FCGR3A__ZFP36L2</th><th scope=col>single_cell_0_X9_Monocytes...CD16_FCGR3A__ZNF106</th><th scope=col>single_cell_0_X9_Monocytes...CD16_FCGR3A__ZNF207</th><th scope=col>single_cell_0_X9_Monocytes...CD16_FCGR3A__ZNF706</th><th scope=col>single_cell_0_X9_Monocytes...CD16_FCGR3A__ZYX</th></tr>\n",
       "</thead>\n",
       "<tbody>\n",
       "\t<tr><th scope=row>k1</th><td>-2.397022</td><td>NA</td><td>-0.3186394</td><td>-1.286479</td><td> 0.2902127</td><td>-0.08893463</td><td>1.5971323</td><td>2.414703</td><td>-0.2902127</td><td>0.04936312</td><td>⋯</td><td>       NA</td><td>       NA</td><td>        NA</td><td>       NA</td><td>      NA</td><td>       NA</td><td>       NA</td><td>        NA</td><td>       NA</td><td>        NA</td></tr>\n",
       "\t<tr><th scope=row>k10</th><td>       NA</td><td>NA</td><td>-0.8871466</td><td>       NA</td><td>-0.9726875</td><td>-0.33164481</td><td>0.1685613</td><td>0.824864</td><td> 1.0048676</td><td>0.97268746</td><td>⋯</td><td>0.6614351</td><td>-0.755415</td><td>-0.9345893</td><td>0.8416212</td><td>0.984235</td><td>0.6102946</td><td>0.8122178</td><td>-0.4537622</td><td>-0.115141</td><td>0.08365173</td></tr>\n",
       "</tbody>\n",
       "</table>\n"
      ],
      "text/latex": [
       "A matrix: 2 × 13282 of type dbl\n",
       "\\begin{tabular}{r|lllllllllllllllllllll}\n",
       "  & clinical\\_data\\_0\\_CK & clinical\\_data\\_0\\_CK\\_MB & clinical\\_data\\_0\\_CRP & clinical\\_data\\_0\\_Troponin & cytokine\\_0\\_BCA1\\_\\_CXCL13 & cytokine\\_0\\_CTACK\\_\\_CCL27 & cytokine\\_0\\_EGF\\_\\_EGF & cytokine\\_0\\_ENA78\\_\\_CXCL5 & cytokine\\_0\\_Eotaxin\\_\\_CCL11 & cytokine\\_0\\_Eotaxin2\\_\\_CCL24 & ⋯ & single\\_cell\\_0\\_X9\\_Monocytes...CD16\\_FCGR3A\\_\\_ZEB2 & single\\_cell\\_0\\_X9\\_Monocytes...CD16\\_FCGR3A\\_\\_ZFAND5 & single\\_cell\\_0\\_X9\\_Monocytes...CD16\\_FCGR3A\\_\\_ZFAS1 & single\\_cell\\_0\\_X9\\_Monocytes...CD16\\_FCGR3A\\_\\_ZFP36 & single\\_cell\\_0\\_X9\\_Monocytes...CD16\\_FCGR3A\\_\\_ZFP36L1 & single\\_cell\\_0\\_X9\\_Monocytes...CD16\\_FCGR3A\\_\\_ZFP36L2 & single\\_cell\\_0\\_X9\\_Monocytes...CD16\\_FCGR3A\\_\\_ZNF106 & single\\_cell\\_0\\_X9\\_Monocytes...CD16\\_FCGR3A\\_\\_ZNF207 & single\\_cell\\_0\\_X9\\_Monocytes...CD16\\_FCGR3A\\_\\_ZNF706 & single\\_cell\\_0\\_X9\\_Monocytes...CD16\\_FCGR3A\\_\\_ZYX\\\\\n",
       "\\hline\n",
       "\tk1 & -2.397022 & NA & -0.3186394 & -1.286479 &  0.2902127 & -0.08893463 & 1.5971323 & 2.414703 & -0.2902127 & 0.04936312 & ⋯ &        NA &        NA &         NA &        NA &       NA &        NA &        NA &         NA &        NA &         NA\\\\\n",
       "\tk10 &        NA & NA & -0.8871466 &        NA & -0.9726875 & -0.33164481 & 0.1685613 & 0.824864 &  1.0048676 & 0.97268746 & ⋯ & 0.6614351 & -0.755415 & -0.9345893 & 0.8416212 & 0.984235 & 0.6102946 & 0.8122178 & -0.4537622 & -0.115141 & 0.08365173\\\\\n",
       "\\end{tabular}\n"
      ],
      "text/markdown": [
       "\n",
       "A matrix: 2 × 13282 of type dbl\n",
       "\n",
       "| <!--/--> | clinical_data_0_CK | clinical_data_0_CK_MB | clinical_data_0_CRP | clinical_data_0_Troponin | cytokine_0_BCA1__CXCL13 | cytokine_0_CTACK__CCL27 | cytokine_0_EGF__EGF | cytokine_0_ENA78__CXCL5 | cytokine_0_Eotaxin__CCL11 | cytokine_0_Eotaxin2__CCL24 | ⋯ | single_cell_0_X9_Monocytes...CD16_FCGR3A__ZEB2 | single_cell_0_X9_Monocytes...CD16_FCGR3A__ZFAND5 | single_cell_0_X9_Monocytes...CD16_FCGR3A__ZFAS1 | single_cell_0_X9_Monocytes...CD16_FCGR3A__ZFP36 | single_cell_0_X9_Monocytes...CD16_FCGR3A__ZFP36L1 | single_cell_0_X9_Monocytes...CD16_FCGR3A__ZFP36L2 | single_cell_0_X9_Monocytes...CD16_FCGR3A__ZNF106 | single_cell_0_X9_Monocytes...CD16_FCGR3A__ZNF207 | single_cell_0_X9_Monocytes...CD16_FCGR3A__ZNF706 | single_cell_0_X9_Monocytes...CD16_FCGR3A__ZYX |\n",
       "|---|---|---|---|---|---|---|---|---|---|---|---|---|---|---|---|---|---|---|---|---|---|\n",
       "| k1 | -2.397022 | NA | -0.3186394 | -1.286479 |  0.2902127 | -0.08893463 | 1.5971323 | 2.414703 | -0.2902127 | 0.04936312 | ⋯ |        NA |        NA |         NA |        NA |       NA |        NA |        NA |         NA |        NA |         NA |\n",
       "| k10 |        NA | NA | -0.8871466 |        NA | -0.9726875 | -0.33164481 | 0.1685613 | 0.824864 |  1.0048676 | 0.97268746 | ⋯ | 0.6614351 | -0.755415 | -0.9345893 | 0.8416212 | 0.984235 | 0.6102946 | 0.8122178 | -0.4537622 | -0.115141 | 0.08365173 |\n",
       "\n"
      ],
      "text/plain": [
       "    clinical_data_0_CK clinical_data_0_CK_MB clinical_data_0_CRP\n",
       "k1  -2.397022          NA                    -0.3186394         \n",
       "k10        NA          NA                    -0.8871466         \n",
       "    clinical_data_0_Troponin cytokine_0_BCA1__CXCL13 cytokine_0_CTACK__CCL27\n",
       "k1  -1.286479                 0.2902127              -0.08893463            \n",
       "k10        NA                -0.9726875              -0.33164481            \n",
       "    cytokine_0_EGF__EGF cytokine_0_ENA78__CXCL5 cytokine_0_Eotaxin__CCL11\n",
       "k1  1.5971323           2.414703                -0.2902127               \n",
       "k10 0.1685613           0.824864                 1.0048676               \n",
       "    cytokine_0_Eotaxin2__CCL24 ⋯ single_cell_0_X9_Monocytes...CD16_FCGR3A__ZEB2\n",
       "k1  0.04936312                 ⋯        NA                                     \n",
       "k10 0.97268746                 ⋯ 0.6614351                                     \n",
       "    single_cell_0_X9_Monocytes...CD16_FCGR3A__ZFAND5\n",
       "k1         NA                                       \n",
       "k10 -0.755415                                       \n",
       "    single_cell_0_X9_Monocytes...CD16_FCGR3A__ZFAS1\n",
       "k1          NA                                     \n",
       "k10 -0.9345893                                     \n",
       "    single_cell_0_X9_Monocytes...CD16_FCGR3A__ZFP36\n",
       "k1         NA                                      \n",
       "k10 0.8416212                                      \n",
       "    single_cell_0_X9_Monocytes...CD16_FCGR3A__ZFP36L1\n",
       "k1        NA                                         \n",
       "k10 0.984235                                         \n",
       "    single_cell_0_X9_Monocytes...CD16_FCGR3A__ZFP36L2\n",
       "k1         NA                                        \n",
       "k10 0.6102946                                        \n",
       "    single_cell_0_X9_Monocytes...CD16_FCGR3A__ZNF106\n",
       "k1         NA                                       \n",
       "k10 0.8122178                                       \n",
       "    single_cell_0_X9_Monocytes...CD16_FCGR3A__ZNF207\n",
       "k1          NA                                      \n",
       "k10 -0.4537622                                      \n",
       "    single_cell_0_X9_Monocytes...CD16_FCGR3A__ZNF706\n",
       "k1         NA                                       \n",
       "k10 -0.115141                                       \n",
       "    single_cell_0_X9_Monocytes...CD16_FCGR3A__ZYX\n",
       "k1          NA                                   \n",
       "k10 0.08365173                                   "
      ]
     },
     "metadata": {},
     "output_type": "display_data"
    }
   ],
   "source": [
    "head(final_data_wide,2)"
   ]
  },
  {
   "cell_type": "code",
   "execution_count": 44,
   "id": "09430207-e55b-4124-97b2-b6dead40d2ba",
   "metadata": {},
   "outputs": [],
   "source": [
    "### No NA's in data input for PCA1"
   ]
  },
  {
   "cell_type": "code",
   "execution_count": 45,
   "id": "e3903d38-ea24-4153-ab69-9789a7ab7ead",
   "metadata": {},
   "outputs": [],
   "source": [
    "final_data_wide[is.na(final_data_wide)] = 0"
   ]
  },
  {
   "cell_type": "markdown",
   "id": "11cf730e-62f7-4a97-83d5-e7a638247c37",
   "metadata": {},
   "source": [
    "## Run PCA"
   ]
  },
  {
   "cell_type": "code",
   "execution_count": 46,
   "id": "1077c5b8-b099-4393-81af-3ec773ab6a80",
   "metadata": {},
   "outputs": [],
   "source": [
    "##### PCA result\n",
    "set.seed(1)\n",
    "pca_result = prcomp(final_data_wide, scale = FALSE)"
   ]
  },
  {
   "cell_type": "code",
   "execution_count": 47,
   "id": "589d2b04-09b8-46d2-b8d5-64dbb270565c",
   "metadata": {},
   "outputs": [
    {
     "name": "stdout",
     "output_type": "stream",
     "text": [
      "List of 5\n",
      " $ sdev    : num [1:128] 27.1 24.1 20.5 17.3 17.2 ...\n",
      " $ rotation: num [1:13282, 1:128] 0.00847 0.00288 0.00511 0.00938 -0.00314 ...\n",
      "  ..- attr(*, \"dimnames\")=List of 2\n",
      "  .. ..$ : chr [1:13282] \"clinical_data_0_CK\" \"clinical_data_0_CK_MB\" \"clinical_data_0_CRP\" \"clinical_data_0_Troponin\" ...\n",
      "  .. ..$ : chr [1:128] \"PC1\" \"PC2\" \"PC3\" \"PC4\" ...\n",
      " $ center  : Named num [1:13282] 1.39e-06 7.46e-05 8.15e-03 1.63e-02 1.08e-06 ...\n",
      "  ..- attr(*, \"names\")= chr [1:13282] \"clinical_data_0_CK\" \"clinical_data_0_CK_MB\" \"clinical_data_0_CRP\" \"clinical_data_0_Troponin\" ...\n",
      " $ scale   : logi FALSE\n",
      " $ x       : num [1:128, 1:128] -0.11 -28.59 20.64 31.69 -2.85 ...\n",
      "  ..- attr(*, \"dimnames\")=List of 2\n",
      "  .. ..$ : chr [1:128] \"k1\" \"k10\" \"k11\" \"k12\" ...\n",
      "  .. ..$ : chr [1:128] \"PC1\" \"PC2\" \"PC3\" \"PC4\" ...\n",
      " - attr(*, \"class\")= chr \"prcomp\"\n"
     ]
    }
   ],
   "source": [
    "str(pca_result)"
   ]
  },
  {
   "cell_type": "markdown",
   "id": "e14ace82-8148-47c3-8cc1-f3f3293b46a8",
   "metadata": {},
   "source": [
    "## Investigate PCA results"
   ]
  },
  {
   "cell_type": "code",
   "execution_count": 48,
   "id": "36c25cce-fbbe-40c7-bce1-1d6f50884dc1",
   "metadata": {},
   "outputs": [],
   "source": [
    "#### Investigate PCA result"
   ]
  },
  {
   "cell_type": "code",
   "execution_count": 49,
   "id": "8327dcd3-0ea8-4ee3-8043-8bd189659054",
   "metadata": {},
   "outputs": [
    {
     "data": {
      "text/html": [
       "<table class=\"dataframe\">\n",
       "<caption>A matrix: 2 × 128 of type dbl</caption>\n",
       "<thead>\n",
       "\t<tr><th></th><th scope=col>PC1</th><th scope=col>PC2</th><th scope=col>PC3</th><th scope=col>PC4</th><th scope=col>PC5</th><th scope=col>PC6</th><th scope=col>PC7</th><th scope=col>PC8</th><th scope=col>PC9</th><th scope=col>PC10</th><th scope=col>⋯</th><th scope=col>PC119</th><th scope=col>PC120</th><th scope=col>PC121</th><th scope=col>PC122</th><th scope=col>PC123</th><th scope=col>PC124</th><th scope=col>PC125</th><th scope=col>PC126</th><th scope=col>PC127</th><th scope=col>PC128</th></tr>\n",
       "</thead>\n",
       "<tbody>\n",
       "\t<tr><th scope=row>k1</th><td> -0.1104445</td><td> 0.6202172</td><td> -0.164706</td><td>-0.9197066</td><td>  0.0537092</td><td>-0.04918337</td><td>0.06440649</td><td> -0.3095937</td><td> 0.2416664</td><td>-0.05027047</td><td>⋯</td><td>-6.350428</td><td> 1.3846100</td><td>-6.2498614</td><td>9.30287982</td><td>-0.2348568</td><td>27.1264991</td><td>-1.7411090</td><td> 0.1213044</td><td>-0.49687221</td><td>-7.946914e-15</td></tr>\n",
       "\t<tr><th scope=row>k10</th><td>-28.5897884</td><td>-5.1728703</td><td>-10.329321</td><td> 2.2854368</td><td>-31.3426413</td><td>-4.84044624</td><td>5.08258442</td><td>-16.6053067</td><td>-0.8571016</td><td> 2.50684958</td><td>⋯</td><td> 1.156287</td><td>-0.6817731</td><td>-0.2429447</td><td>0.05468426</td><td>-0.2056402</td><td>-0.1035651</td><td> 0.1026742</td><td>-0.2108797</td><td> 0.03312699</td><td>-4.035661e-14</td></tr>\n",
       "</tbody>\n",
       "</table>\n"
      ],
      "text/latex": [
       "A matrix: 2 × 128 of type dbl\n",
       "\\begin{tabular}{r|lllllllllllllllllllll}\n",
       "  & PC1 & PC2 & PC3 & PC4 & PC5 & PC6 & PC7 & PC8 & PC9 & PC10 & ⋯ & PC119 & PC120 & PC121 & PC122 & PC123 & PC124 & PC125 & PC126 & PC127 & PC128\\\\\n",
       "\\hline\n",
       "\tk1 &  -0.1104445 &  0.6202172 &  -0.164706 & -0.9197066 &   0.0537092 & -0.04918337 & 0.06440649 &  -0.3095937 &  0.2416664 & -0.05027047 & ⋯ & -6.350428 &  1.3846100 & -6.2498614 & 9.30287982 & -0.2348568 & 27.1264991 & -1.7411090 &  0.1213044 & -0.49687221 & -7.946914e-15\\\\\n",
       "\tk10 & -28.5897884 & -5.1728703 & -10.329321 &  2.2854368 & -31.3426413 & -4.84044624 & 5.08258442 & -16.6053067 & -0.8571016 &  2.50684958 & ⋯ &  1.156287 & -0.6817731 & -0.2429447 & 0.05468426 & -0.2056402 & -0.1035651 &  0.1026742 & -0.2108797 &  0.03312699 & -4.035661e-14\\\\\n",
       "\\end{tabular}\n"
      ],
      "text/markdown": [
       "\n",
       "A matrix: 2 × 128 of type dbl\n",
       "\n",
       "| <!--/--> | PC1 | PC2 | PC3 | PC4 | PC5 | PC6 | PC7 | PC8 | PC9 | PC10 | ⋯ | PC119 | PC120 | PC121 | PC122 | PC123 | PC124 | PC125 | PC126 | PC127 | PC128 |\n",
       "|---|---|---|---|---|---|---|---|---|---|---|---|---|---|---|---|---|---|---|---|---|---|\n",
       "| k1 |  -0.1104445 |  0.6202172 |  -0.164706 | -0.9197066 |   0.0537092 | -0.04918337 | 0.06440649 |  -0.3095937 |  0.2416664 | -0.05027047 | ⋯ | -6.350428 |  1.3846100 | -6.2498614 | 9.30287982 | -0.2348568 | 27.1264991 | -1.7411090 |  0.1213044 | -0.49687221 | -7.946914e-15 |\n",
       "| k10 | -28.5897884 | -5.1728703 | -10.329321 |  2.2854368 | -31.3426413 | -4.84044624 | 5.08258442 | -16.6053067 | -0.8571016 |  2.50684958 | ⋯ |  1.156287 | -0.6817731 | -0.2429447 | 0.05468426 | -0.2056402 | -0.1035651 |  0.1026742 | -0.2108797 |  0.03312699 | -4.035661e-14 |\n",
       "\n"
      ],
      "text/plain": [
       "    PC1         PC2        PC3        PC4        PC5         PC6        \n",
       "k1   -0.1104445  0.6202172  -0.164706 -0.9197066   0.0537092 -0.04918337\n",
       "k10 -28.5897884 -5.1728703 -10.329321  2.2854368 -31.3426413 -4.84044624\n",
       "    PC7        PC8         PC9        PC10        ⋯ PC119     PC120     \n",
       "k1  0.06440649  -0.3095937  0.2416664 -0.05027047 ⋯ -6.350428  1.3846100\n",
       "k10 5.08258442 -16.6053067 -0.8571016  2.50684958 ⋯  1.156287 -0.6817731\n",
       "    PC121      PC122      PC123      PC124      PC125      PC126     \n",
       "k1  -6.2498614 9.30287982 -0.2348568 27.1264991 -1.7411090  0.1213044\n",
       "k10 -0.2429447 0.05468426 -0.2056402 -0.1035651  0.1026742 -0.2108797\n",
       "    PC127       PC128        \n",
       "k1  -0.49687221 -7.946914e-15\n",
       "k10  0.03312699 -4.035661e-14"
      ]
     },
     "metadata": {},
     "output_type": "display_data"
    }
   ],
   "source": [
    "head(pca_result$x, 2)   # similar to factor values of samples"
   ]
  },
  {
   "cell_type": "code",
   "execution_count": 50,
   "id": "97d435ec-3f5d-483b-b393-d9d1fa5e6cc6",
   "metadata": {},
   "outputs": [],
   "source": [
    "factor_values = pca_result$x"
   ]
  },
  {
   "cell_type": "code",
   "execution_count": 51,
   "id": "9de77b5b-ead1-42e1-a206-b173ef46eac4",
   "metadata": {},
   "outputs": [],
   "source": [
    "weights = pca_result$rotation"
   ]
  },
  {
   "cell_type": "code",
   "execution_count": 52,
   "id": "7a187bbc-ca1b-4166-a257-9eb2e1ca45a8",
   "metadata": {},
   "outputs": [
    {
     "data": {
      "text/html": [
       "<table class=\"dataframe\">\n",
       "<caption>A matrix: 2 × 128 of type dbl</caption>\n",
       "<thead>\n",
       "\t<tr><th></th><th scope=col>PC1</th><th scope=col>PC2</th><th scope=col>PC3</th><th scope=col>PC4</th><th scope=col>PC5</th><th scope=col>PC6</th><th scope=col>PC7</th><th scope=col>PC8</th><th scope=col>PC9</th><th scope=col>PC10</th><th scope=col>⋯</th><th scope=col>PC119</th><th scope=col>PC120</th><th scope=col>PC121</th><th scope=col>PC122</th><th scope=col>PC123</th><th scope=col>PC124</th><th scope=col>PC125</th><th scope=col>PC126</th><th scope=col>PC127</th><th scope=col>PC128</th></tr>\n",
       "</thead>\n",
       "<tbody>\n",
       "\t<tr><th scope=row>clinical_data_0_CK</th><td>0.008472125</td><td>0.016713433</td><td>0.006835005</td><td>-0.0003811446</td><td>0.006886444</td><td>-0.007398856</td><td>-0.0060602030</td><td>0.002797430</td><td>-0.002537761</td><td>0.018403093</td><td>⋯</td><td>0.03667011</td><td>0.04729318</td><td>0.03950562</td><td>-0.007325696</td><td>0.01255162</td><td>-0.070155411</td><td>-0.008536494</td><td>0.06603417</td><td>-0.019997847</td><td>0.03631375</td></tr>\n",
       "\t<tr><th scope=row>clinical_data_0_CK_MB</th><td>0.002881206</td><td>0.008077372</td><td>0.007938372</td><td> 0.0016851504</td><td>0.003544733</td><td>-0.001535679</td><td> 0.0003993402</td><td>0.007402722</td><td>-0.006892604</td><td>0.009907261</td><td>⋯</td><td>0.03417031</td><td>0.04142949</td><td>0.03284893</td><td> 0.016089608</td><td>0.04692741</td><td> 0.008392392</td><td>-0.009462436</td><td>0.03839216</td><td> 0.009774241</td><td>0.12247879</td></tr>\n",
       "</tbody>\n",
       "</table>\n"
      ],
      "text/latex": [
       "A matrix: 2 × 128 of type dbl\n",
       "\\begin{tabular}{r|lllllllllllllllllllll}\n",
       "  & PC1 & PC2 & PC3 & PC4 & PC5 & PC6 & PC7 & PC8 & PC9 & PC10 & ⋯ & PC119 & PC120 & PC121 & PC122 & PC123 & PC124 & PC125 & PC126 & PC127 & PC128\\\\\n",
       "\\hline\n",
       "\tclinical\\_data\\_0\\_CK & 0.008472125 & 0.016713433 & 0.006835005 & -0.0003811446 & 0.006886444 & -0.007398856 & -0.0060602030 & 0.002797430 & -0.002537761 & 0.018403093 & ⋯ & 0.03667011 & 0.04729318 & 0.03950562 & -0.007325696 & 0.01255162 & -0.070155411 & -0.008536494 & 0.06603417 & -0.019997847 & 0.03631375\\\\\n",
       "\tclinical\\_data\\_0\\_CK\\_MB & 0.002881206 & 0.008077372 & 0.007938372 &  0.0016851504 & 0.003544733 & -0.001535679 &  0.0003993402 & 0.007402722 & -0.006892604 & 0.009907261 & ⋯ & 0.03417031 & 0.04142949 & 0.03284893 &  0.016089608 & 0.04692741 &  0.008392392 & -0.009462436 & 0.03839216 &  0.009774241 & 0.12247879\\\\\n",
       "\\end{tabular}\n"
      ],
      "text/markdown": [
       "\n",
       "A matrix: 2 × 128 of type dbl\n",
       "\n",
       "| <!--/--> | PC1 | PC2 | PC3 | PC4 | PC5 | PC6 | PC7 | PC8 | PC9 | PC10 | ⋯ | PC119 | PC120 | PC121 | PC122 | PC123 | PC124 | PC125 | PC126 | PC127 | PC128 |\n",
       "|---|---|---|---|---|---|---|---|---|---|---|---|---|---|---|---|---|---|---|---|---|---|\n",
       "| clinical_data_0_CK | 0.008472125 | 0.016713433 | 0.006835005 | -0.0003811446 | 0.006886444 | -0.007398856 | -0.0060602030 | 0.002797430 | -0.002537761 | 0.018403093 | ⋯ | 0.03667011 | 0.04729318 | 0.03950562 | -0.007325696 | 0.01255162 | -0.070155411 | -0.008536494 | 0.06603417 | -0.019997847 | 0.03631375 |\n",
       "| clinical_data_0_CK_MB | 0.002881206 | 0.008077372 | 0.007938372 |  0.0016851504 | 0.003544733 | -0.001535679 |  0.0003993402 | 0.007402722 | -0.006892604 | 0.009907261 | ⋯ | 0.03417031 | 0.04142949 | 0.03284893 |  0.016089608 | 0.04692741 |  0.008392392 | -0.009462436 | 0.03839216 |  0.009774241 | 0.12247879 |\n",
       "\n"
      ],
      "text/plain": [
       "                      PC1         PC2         PC3         PC4          \n",
       "clinical_data_0_CK    0.008472125 0.016713433 0.006835005 -0.0003811446\n",
       "clinical_data_0_CK_MB 0.002881206 0.008077372 0.007938372  0.0016851504\n",
       "                      PC5         PC6          PC7           PC8        \n",
       "clinical_data_0_CK    0.006886444 -0.007398856 -0.0060602030 0.002797430\n",
       "clinical_data_0_CK_MB 0.003544733 -0.001535679  0.0003993402 0.007402722\n",
       "                      PC9          PC10        ⋯ PC119      PC120     \n",
       "clinical_data_0_CK    -0.002537761 0.018403093 ⋯ 0.03667011 0.04729318\n",
       "clinical_data_0_CK_MB -0.006892604 0.009907261 ⋯ 0.03417031 0.04142949\n",
       "                      PC121      PC122        PC123      PC124       \n",
       "clinical_data_0_CK    0.03950562 -0.007325696 0.01255162 -0.070155411\n",
       "clinical_data_0_CK_MB 0.03284893  0.016089608 0.04692741  0.008392392\n",
       "                      PC125        PC126      PC127        PC128     \n",
       "clinical_data_0_CK    -0.008536494 0.06603417 -0.019997847 0.03631375\n",
       "clinical_data_0_CK_MB -0.009462436 0.03839216  0.009774241 0.12247879"
      ]
     },
     "metadata": {},
     "output_type": "display_data"
    }
   ],
   "source": [
    "head(weights,2)"
   ]
  },
  {
   "cell_type": "code",
   "execution_count": 53,
   "id": "89771c9c-f057-4275-8f26-438be9a91bd1",
   "metadata": {},
   "outputs": [],
   "source": [
    "weights = as.data.frame(weights)"
   ]
  },
  {
   "cell_type": "code",
   "execution_count": 54,
   "id": "897c48b1-2598-4339-afb5-d75707a1fc99",
   "metadata": {},
   "outputs": [
    {
     "data": {
      "text/html": [
       "<table class=\"dataframe\">\n",
       "<caption>A data.frame: 10 × 128</caption>\n",
       "<thead>\n",
       "\t<tr><th></th><th scope=col>PC1</th><th scope=col>PC2</th><th scope=col>PC3</th><th scope=col>PC4</th><th scope=col>PC5</th><th scope=col>PC6</th><th scope=col>PC7</th><th scope=col>PC8</th><th scope=col>PC9</th><th scope=col>PC10</th><th scope=col>⋯</th><th scope=col>PC119</th><th scope=col>PC120</th><th scope=col>PC121</th><th scope=col>PC122</th><th scope=col>PC123</th><th scope=col>PC124</th><th scope=col>PC125</th><th scope=col>PC126</th><th scope=col>PC127</th><th scope=col>PC128</th></tr>\n",
       "\t<tr><th></th><th scope=col>&lt;dbl&gt;</th><th scope=col>&lt;dbl&gt;</th><th scope=col>&lt;dbl&gt;</th><th scope=col>&lt;dbl&gt;</th><th scope=col>&lt;dbl&gt;</th><th scope=col>&lt;dbl&gt;</th><th scope=col>&lt;dbl&gt;</th><th scope=col>&lt;dbl&gt;</th><th scope=col>&lt;dbl&gt;</th><th scope=col>&lt;dbl&gt;</th><th scope=col>⋯</th><th scope=col>&lt;dbl&gt;</th><th scope=col>&lt;dbl&gt;</th><th scope=col>&lt;dbl&gt;</th><th scope=col>&lt;dbl&gt;</th><th scope=col>&lt;dbl&gt;</th><th scope=col>&lt;dbl&gt;</th><th scope=col>&lt;dbl&gt;</th><th scope=col>&lt;dbl&gt;</th><th scope=col>&lt;dbl&gt;</th><th scope=col>&lt;dbl&gt;</th></tr>\n",
       "</thead>\n",
       "<tbody>\n",
       "\t<tr><th scope=row>single_cell_0_X2_T.cell.CD4__HIST1H4C</th><td>-0.0123064680</td><td>-0.02872549</td><td>-0.0004855385</td><td>-0.0058341657</td><td>-0.0116811338</td><td> 0.007729126</td><td> 0.0041593394</td><td> 2.213658e-03</td><td>-0.010812100</td><td> 0.004565492</td><td>⋯</td><td> 7.029694e-06</td><td> 0.0017780198</td><td> 0.0019230718</td><td> 8.341451e-04</td><td> 0.0001752008</td><td> 6.343350e-04</td><td> 9.198682e-04</td><td> 0.0001294380</td><td>-0.0019951347</td><td> 0.0013154092</td></tr>\n",
       "\t<tr><th scope=row>single_cell_0_X7_Monocytes...CD14__PLEKHO1</th><td>-0.0065201955</td><td>-0.02803340</td><td> 0.0030826310</td><td>-0.0024227595</td><td>-0.0002987462</td><td> 0.005406241</td><td>-0.0074700232</td><td> 4.596053e-04</td><td> 0.002962764</td><td>-0.001980755</td><td>⋯</td><td> 2.411055e-03</td><td>-0.0001387147</td><td> 0.0020862370</td><td> 1.411734e-03</td><td> 0.0009362546</td><td> 5.525191e-05</td><td>-4.126249e-04</td><td> 0.0011246492</td><td>-0.0012970260</td><td>-0.0051229977</td></tr>\n",
       "\t<tr><th scope=row>single_cell_0_X0_T.cell.CD4__HINT1</th><td> 0.0008502687</td><td> 0.02801743</td><td>-0.0069488163</td><td>-0.0021663886</td><td>-0.0068340484</td><td> 0.009889258</td><td>-0.0052815505</td><td> 1.655016e-03</td><td> 0.007318768</td><td> 0.004757573</td><td>⋯</td><td>-1.620794e-04</td><td>-0.0011574681</td><td>-0.0016964823</td><td> 8.965946e-05</td><td> 0.0002399174</td><td> 6.772077e-04</td><td> 2.774626e-03</td><td>-0.0015191950</td><td>-0.0003404959</td><td> 0.0010297734</td></tr>\n",
       "\t<tr><th scope=row>single_cell_0_X4_Monocytes...CD14__CDC42</th><td> 0.0036835778</td><td> 0.02711562</td><td>-0.0088730009</td><td>-0.0024575533</td><td>-0.0013748786</td><td> 0.003375352</td><td>-0.0026203020</td><td>-2.682892e-03</td><td> 0.001802458</td><td> 0.005254008</td><td>⋯</td><td> 4.666186e-04</td><td> 0.0002627265</td><td> 0.0016783981</td><td> 1.964278e-03</td><td> 0.0007019030</td><td> 5.096373e-04</td><td>-6.615235e-04</td><td> 0.0003735952</td><td>-0.0007714081</td><td>-0.0020833052</td></tr>\n",
       "\t<tr><th scope=row>single_cell_0_X7_Monocytes...CD14__CD74</th><td>-0.0070241427</td><td>-0.02678141</td><td> 0.0043062677</td><td> 0.0078473165</td><td>-0.0094883510</td><td> 0.001445118</td><td>-0.0099260182</td><td> 9.012783e-04</td><td> 0.006521551</td><td>-0.009691269</td><td>⋯</td><td> 1.119257e-03</td><td> 0.0016117991</td><td>-0.0003652232</td><td>-1.304990e-03</td><td>-0.0007846324</td><td>-3.113925e-04</td><td>-3.850845e-05</td><td> 0.0026679152</td><td> 0.0011425944</td><td> 0.0011541835</td></tr>\n",
       "\t<tr><th scope=row>single_cell_0_X1_T.cell.CD8__TUBB4B</th><td> 0.0114971158</td><td>-0.02659641</td><td>-0.0068510125</td><td>-0.0048360140</td><td> 0.0058359651</td><td>-0.011940106</td><td> 0.0090910708</td><td> 1.768552e-02</td><td>-0.003943799</td><td>-0.007430087</td><td>⋯</td><td> 1.928944e-03</td><td> 0.0012005337</td><td> 0.0009119478</td><td> 1.409877e-03</td><td> 0.0015523498</td><td> 1.518874e-03</td><td> 2.830608e-04</td><td>-0.0027279567</td><td> 0.0002450027</td><td>-0.0060482293</td></tr>\n",
       "\t<tr><th scope=row>single_cell_0_X4_Monocytes...CD14__PLEKHO1</th><td>-0.0107972016</td><td>-0.02644597</td><td> 0.0025508138</td><td> 0.0004407072</td><td>-0.0009092672</td><td> 0.004294237</td><td> 0.0132419791</td><td> 5.643027e-05</td><td> 0.004605855</td><td> 0.002580265</td><td>⋯</td><td> 2.531787e-03</td><td>-0.0009262857</td><td>-0.0007362133</td><td> 9.057619e-04</td><td>-0.0001373244</td><td>-1.064806e-03</td><td> 4.367757e-04</td><td> 0.0020400089</td><td>-0.0012065181</td><td> 0.0003847781</td></tr>\n",
       "\t<tr><th scope=row>single_cell_0_X1_T.cell.CD8__HINT1</th><td>-0.0052787034</td><td> 0.02639175</td><td>-0.0065933144</td><td>-0.0042763958</td><td>-0.0082264693</td><td> 0.010207367</td><td> 0.0006254185</td><td> 1.409496e-02</td><td>-0.008483175</td><td> 0.004369822</td><td>⋯</td><td>-1.166639e-03</td><td>-0.0034147897</td><td>-0.0012579811</td><td> 3.536756e-04</td><td>-0.0004012513</td><td>-8.014426e-04</td><td>-1.176465e-03</td><td>-0.0001584632</td><td> 0.0004475761</td><td> 0.0049049951</td></tr>\n",
       "\t<tr><th scope=row>single_cell_0_X0_T.cell.CD4__EIF3E</th><td> 0.0057636727</td><td> 0.02617636</td><td>-0.0024694559</td><td>-0.0003662178</td><td> 0.0068355912</td><td> 0.004483769</td><td>-0.0086743223</td><td> 4.071213e-04</td><td> 0.009963260</td><td>-0.010417314</td><td>⋯</td><td> 2.490111e-03</td><td>-0.0014855977</td><td>-0.0006375564</td><td> 1.596261e-03</td><td>-0.0004609245</td><td>-2.137907e-03</td><td> 2.729725e-03</td><td>-0.0012769595</td><td>-0.0028538638</td><td> 0.0032585153</td></tr>\n",
       "\t<tr><th scope=row>single_cell_0_X0_T.cell.CD4__HIST1H4C</th><td>-0.0142721758</td><td>-0.02608382</td><td>-0.0002218958</td><td>-0.0027110140</td><td>-0.0149877646</td><td> 0.007697713</td><td> 0.0046871440</td><td>-3.778981e-03</td><td>-0.010602675</td><td> 0.007459095</td><td>⋯</td><td> 1.258613e-03</td><td> 0.0007803013</td><td> 0.0004922263</td><td>-6.754354e-04</td><td> 0.0001485808</td><td>-4.094257e-04</td><td> 1.157323e-03</td><td> 0.0012397919</td><td>-0.0019035099</td><td> 0.0001558385</td></tr>\n",
       "</tbody>\n",
       "</table>\n"
      ],
      "text/latex": [
       "A data.frame: 10 × 128\n",
       "\\begin{tabular}{r|lllllllllllllllllllll}\n",
       "  & PC1 & PC2 & PC3 & PC4 & PC5 & PC6 & PC7 & PC8 & PC9 & PC10 & ⋯ & PC119 & PC120 & PC121 & PC122 & PC123 & PC124 & PC125 & PC126 & PC127 & PC128\\\\\n",
       "  & <dbl> & <dbl> & <dbl> & <dbl> & <dbl> & <dbl> & <dbl> & <dbl> & <dbl> & <dbl> & ⋯ & <dbl> & <dbl> & <dbl> & <dbl> & <dbl> & <dbl> & <dbl> & <dbl> & <dbl> & <dbl>\\\\\n",
       "\\hline\n",
       "\tsingle\\_cell\\_0\\_X2\\_T.cell.CD4\\_\\_HIST1H4C & -0.0123064680 & -0.02872549 & -0.0004855385 & -0.0058341657 & -0.0116811338 &  0.007729126 &  0.0041593394 &  2.213658e-03 & -0.010812100 &  0.004565492 & ⋯ &  7.029694e-06 &  0.0017780198 &  0.0019230718 &  8.341451e-04 &  0.0001752008 &  6.343350e-04 &  9.198682e-04 &  0.0001294380 & -0.0019951347 &  0.0013154092\\\\\n",
       "\tsingle\\_cell\\_0\\_X7\\_Monocytes...CD14\\_\\_PLEKHO1 & -0.0065201955 & -0.02803340 &  0.0030826310 & -0.0024227595 & -0.0002987462 &  0.005406241 & -0.0074700232 &  4.596053e-04 &  0.002962764 & -0.001980755 & ⋯ &  2.411055e-03 & -0.0001387147 &  0.0020862370 &  1.411734e-03 &  0.0009362546 &  5.525191e-05 & -4.126249e-04 &  0.0011246492 & -0.0012970260 & -0.0051229977\\\\\n",
       "\tsingle\\_cell\\_0\\_X0\\_T.cell.CD4\\_\\_HINT1 &  0.0008502687 &  0.02801743 & -0.0069488163 & -0.0021663886 & -0.0068340484 &  0.009889258 & -0.0052815505 &  1.655016e-03 &  0.007318768 &  0.004757573 & ⋯ & -1.620794e-04 & -0.0011574681 & -0.0016964823 &  8.965946e-05 &  0.0002399174 &  6.772077e-04 &  2.774626e-03 & -0.0015191950 & -0.0003404959 &  0.0010297734\\\\\n",
       "\tsingle\\_cell\\_0\\_X4\\_Monocytes...CD14\\_\\_CDC42 &  0.0036835778 &  0.02711562 & -0.0088730009 & -0.0024575533 & -0.0013748786 &  0.003375352 & -0.0026203020 & -2.682892e-03 &  0.001802458 &  0.005254008 & ⋯ &  4.666186e-04 &  0.0002627265 &  0.0016783981 &  1.964278e-03 &  0.0007019030 &  5.096373e-04 & -6.615235e-04 &  0.0003735952 & -0.0007714081 & -0.0020833052\\\\\n",
       "\tsingle\\_cell\\_0\\_X7\\_Monocytes...CD14\\_\\_CD74 & -0.0070241427 & -0.02678141 &  0.0043062677 &  0.0078473165 & -0.0094883510 &  0.001445118 & -0.0099260182 &  9.012783e-04 &  0.006521551 & -0.009691269 & ⋯ &  1.119257e-03 &  0.0016117991 & -0.0003652232 & -1.304990e-03 & -0.0007846324 & -3.113925e-04 & -3.850845e-05 &  0.0026679152 &  0.0011425944 &  0.0011541835\\\\\n",
       "\tsingle\\_cell\\_0\\_X1\\_T.cell.CD8\\_\\_TUBB4B &  0.0114971158 & -0.02659641 & -0.0068510125 & -0.0048360140 &  0.0058359651 & -0.011940106 &  0.0090910708 &  1.768552e-02 & -0.003943799 & -0.007430087 & ⋯ &  1.928944e-03 &  0.0012005337 &  0.0009119478 &  1.409877e-03 &  0.0015523498 &  1.518874e-03 &  2.830608e-04 & -0.0027279567 &  0.0002450027 & -0.0060482293\\\\\n",
       "\tsingle\\_cell\\_0\\_X4\\_Monocytes...CD14\\_\\_PLEKHO1 & -0.0107972016 & -0.02644597 &  0.0025508138 &  0.0004407072 & -0.0009092672 &  0.004294237 &  0.0132419791 &  5.643027e-05 &  0.004605855 &  0.002580265 & ⋯ &  2.531787e-03 & -0.0009262857 & -0.0007362133 &  9.057619e-04 & -0.0001373244 & -1.064806e-03 &  4.367757e-04 &  0.0020400089 & -0.0012065181 &  0.0003847781\\\\\n",
       "\tsingle\\_cell\\_0\\_X1\\_T.cell.CD8\\_\\_HINT1 & -0.0052787034 &  0.02639175 & -0.0065933144 & -0.0042763958 & -0.0082264693 &  0.010207367 &  0.0006254185 &  1.409496e-02 & -0.008483175 &  0.004369822 & ⋯ & -1.166639e-03 & -0.0034147897 & -0.0012579811 &  3.536756e-04 & -0.0004012513 & -8.014426e-04 & -1.176465e-03 & -0.0001584632 &  0.0004475761 &  0.0049049951\\\\\n",
       "\tsingle\\_cell\\_0\\_X0\\_T.cell.CD4\\_\\_EIF3E &  0.0057636727 &  0.02617636 & -0.0024694559 & -0.0003662178 &  0.0068355912 &  0.004483769 & -0.0086743223 &  4.071213e-04 &  0.009963260 & -0.010417314 & ⋯ &  2.490111e-03 & -0.0014855977 & -0.0006375564 &  1.596261e-03 & -0.0004609245 & -2.137907e-03 &  2.729725e-03 & -0.0012769595 & -0.0028538638 &  0.0032585153\\\\\n",
       "\tsingle\\_cell\\_0\\_X0\\_T.cell.CD4\\_\\_HIST1H4C & -0.0142721758 & -0.02608382 & -0.0002218958 & -0.0027110140 & -0.0149877646 &  0.007697713 &  0.0046871440 & -3.778981e-03 & -0.010602675 &  0.007459095 & ⋯ &  1.258613e-03 &  0.0007803013 &  0.0004922263 & -6.754354e-04 &  0.0001485808 & -4.094257e-04 &  1.157323e-03 &  0.0012397919 & -0.0019035099 &  0.0001558385\\\\\n",
       "\\end{tabular}\n"
      ],
      "text/markdown": [
       "\n",
       "A data.frame: 10 × 128\n",
       "\n",
       "| <!--/--> | PC1 &lt;dbl&gt; | PC2 &lt;dbl&gt; | PC3 &lt;dbl&gt; | PC4 &lt;dbl&gt; | PC5 &lt;dbl&gt; | PC6 &lt;dbl&gt; | PC7 &lt;dbl&gt; | PC8 &lt;dbl&gt; | PC9 &lt;dbl&gt; | PC10 &lt;dbl&gt; | ⋯ ⋯ | PC119 &lt;dbl&gt; | PC120 &lt;dbl&gt; | PC121 &lt;dbl&gt; | PC122 &lt;dbl&gt; | PC123 &lt;dbl&gt; | PC124 &lt;dbl&gt; | PC125 &lt;dbl&gt; | PC126 &lt;dbl&gt; | PC127 &lt;dbl&gt; | PC128 &lt;dbl&gt; |\n",
       "|---|---|---|---|---|---|---|---|---|---|---|---|---|---|---|---|---|---|---|---|---|---|\n",
       "| single_cell_0_X2_T.cell.CD4__HIST1H4C | -0.0123064680 | -0.02872549 | -0.0004855385 | -0.0058341657 | -0.0116811338 |  0.007729126 |  0.0041593394 |  2.213658e-03 | -0.010812100 |  0.004565492 | ⋯ |  7.029694e-06 |  0.0017780198 |  0.0019230718 |  8.341451e-04 |  0.0001752008 |  6.343350e-04 |  9.198682e-04 |  0.0001294380 | -0.0019951347 |  0.0013154092 |\n",
       "| single_cell_0_X7_Monocytes...CD14__PLEKHO1 | -0.0065201955 | -0.02803340 |  0.0030826310 | -0.0024227595 | -0.0002987462 |  0.005406241 | -0.0074700232 |  4.596053e-04 |  0.002962764 | -0.001980755 | ⋯ |  2.411055e-03 | -0.0001387147 |  0.0020862370 |  1.411734e-03 |  0.0009362546 |  5.525191e-05 | -4.126249e-04 |  0.0011246492 | -0.0012970260 | -0.0051229977 |\n",
       "| single_cell_0_X0_T.cell.CD4__HINT1 |  0.0008502687 |  0.02801743 | -0.0069488163 | -0.0021663886 | -0.0068340484 |  0.009889258 | -0.0052815505 |  1.655016e-03 |  0.007318768 |  0.004757573 | ⋯ | -1.620794e-04 | -0.0011574681 | -0.0016964823 |  8.965946e-05 |  0.0002399174 |  6.772077e-04 |  2.774626e-03 | -0.0015191950 | -0.0003404959 |  0.0010297734 |\n",
       "| single_cell_0_X4_Monocytes...CD14__CDC42 |  0.0036835778 |  0.02711562 | -0.0088730009 | -0.0024575533 | -0.0013748786 |  0.003375352 | -0.0026203020 | -2.682892e-03 |  0.001802458 |  0.005254008 | ⋯ |  4.666186e-04 |  0.0002627265 |  0.0016783981 |  1.964278e-03 |  0.0007019030 |  5.096373e-04 | -6.615235e-04 |  0.0003735952 | -0.0007714081 | -0.0020833052 |\n",
       "| single_cell_0_X7_Monocytes...CD14__CD74 | -0.0070241427 | -0.02678141 |  0.0043062677 |  0.0078473165 | -0.0094883510 |  0.001445118 | -0.0099260182 |  9.012783e-04 |  0.006521551 | -0.009691269 | ⋯ |  1.119257e-03 |  0.0016117991 | -0.0003652232 | -1.304990e-03 | -0.0007846324 | -3.113925e-04 | -3.850845e-05 |  0.0026679152 |  0.0011425944 |  0.0011541835 |\n",
       "| single_cell_0_X1_T.cell.CD8__TUBB4B |  0.0114971158 | -0.02659641 | -0.0068510125 | -0.0048360140 |  0.0058359651 | -0.011940106 |  0.0090910708 |  1.768552e-02 | -0.003943799 | -0.007430087 | ⋯ |  1.928944e-03 |  0.0012005337 |  0.0009119478 |  1.409877e-03 |  0.0015523498 |  1.518874e-03 |  2.830608e-04 | -0.0027279567 |  0.0002450027 | -0.0060482293 |\n",
       "| single_cell_0_X4_Monocytes...CD14__PLEKHO1 | -0.0107972016 | -0.02644597 |  0.0025508138 |  0.0004407072 | -0.0009092672 |  0.004294237 |  0.0132419791 |  5.643027e-05 |  0.004605855 |  0.002580265 | ⋯ |  2.531787e-03 | -0.0009262857 | -0.0007362133 |  9.057619e-04 | -0.0001373244 | -1.064806e-03 |  4.367757e-04 |  0.0020400089 | -0.0012065181 |  0.0003847781 |\n",
       "| single_cell_0_X1_T.cell.CD8__HINT1 | -0.0052787034 |  0.02639175 | -0.0065933144 | -0.0042763958 | -0.0082264693 |  0.010207367 |  0.0006254185 |  1.409496e-02 | -0.008483175 |  0.004369822 | ⋯ | -1.166639e-03 | -0.0034147897 | -0.0012579811 |  3.536756e-04 | -0.0004012513 | -8.014426e-04 | -1.176465e-03 | -0.0001584632 |  0.0004475761 |  0.0049049951 |\n",
       "| single_cell_0_X0_T.cell.CD4__EIF3E |  0.0057636727 |  0.02617636 | -0.0024694559 | -0.0003662178 |  0.0068355912 |  0.004483769 | -0.0086743223 |  4.071213e-04 |  0.009963260 | -0.010417314 | ⋯ |  2.490111e-03 | -0.0014855977 | -0.0006375564 |  1.596261e-03 | -0.0004609245 | -2.137907e-03 |  2.729725e-03 | -0.0012769595 | -0.0028538638 |  0.0032585153 |\n",
       "| single_cell_0_X0_T.cell.CD4__HIST1H4C | -0.0142721758 | -0.02608382 | -0.0002218958 | -0.0027110140 | -0.0149877646 |  0.007697713 |  0.0046871440 | -3.778981e-03 | -0.010602675 |  0.007459095 | ⋯ |  1.258613e-03 |  0.0007803013 |  0.0004922263 | -6.754354e-04 |  0.0001485808 | -4.094257e-04 |  1.157323e-03 |  0.0012397919 | -0.0019035099 |  0.0001558385 |\n",
       "\n"
      ],
      "text/plain": [
       "                                           PC1           PC2        \n",
       "single_cell_0_X2_T.cell.CD4__HIST1H4C      -0.0123064680 -0.02872549\n",
       "single_cell_0_X7_Monocytes...CD14__PLEKHO1 -0.0065201955 -0.02803340\n",
       "single_cell_0_X0_T.cell.CD4__HINT1          0.0008502687  0.02801743\n",
       "single_cell_0_X4_Monocytes...CD14__CDC42    0.0036835778  0.02711562\n",
       "single_cell_0_X7_Monocytes...CD14__CD74    -0.0070241427 -0.02678141\n",
       "single_cell_0_X1_T.cell.CD8__TUBB4B         0.0114971158 -0.02659641\n",
       "single_cell_0_X4_Monocytes...CD14__PLEKHO1 -0.0107972016 -0.02644597\n",
       "single_cell_0_X1_T.cell.CD8__HINT1         -0.0052787034  0.02639175\n",
       "single_cell_0_X0_T.cell.CD4__EIF3E          0.0057636727  0.02617636\n",
       "single_cell_0_X0_T.cell.CD4__HIST1H4C      -0.0142721758 -0.02608382\n",
       "                                           PC3           PC4          \n",
       "single_cell_0_X2_T.cell.CD4__HIST1H4C      -0.0004855385 -0.0058341657\n",
       "single_cell_0_X7_Monocytes...CD14__PLEKHO1  0.0030826310 -0.0024227595\n",
       "single_cell_0_X0_T.cell.CD4__HINT1         -0.0069488163 -0.0021663886\n",
       "single_cell_0_X4_Monocytes...CD14__CDC42   -0.0088730009 -0.0024575533\n",
       "single_cell_0_X7_Monocytes...CD14__CD74     0.0043062677  0.0078473165\n",
       "single_cell_0_X1_T.cell.CD8__TUBB4B        -0.0068510125 -0.0048360140\n",
       "single_cell_0_X4_Monocytes...CD14__PLEKHO1  0.0025508138  0.0004407072\n",
       "single_cell_0_X1_T.cell.CD8__HINT1         -0.0065933144 -0.0042763958\n",
       "single_cell_0_X0_T.cell.CD4__EIF3E         -0.0024694559 -0.0003662178\n",
       "single_cell_0_X0_T.cell.CD4__HIST1H4C      -0.0002218958 -0.0027110140\n",
       "                                           PC5           PC6         \n",
       "single_cell_0_X2_T.cell.CD4__HIST1H4C      -0.0116811338  0.007729126\n",
       "single_cell_0_X7_Monocytes...CD14__PLEKHO1 -0.0002987462  0.005406241\n",
       "single_cell_0_X0_T.cell.CD4__HINT1         -0.0068340484  0.009889258\n",
       "single_cell_0_X4_Monocytes...CD14__CDC42   -0.0013748786  0.003375352\n",
       "single_cell_0_X7_Monocytes...CD14__CD74    -0.0094883510  0.001445118\n",
       "single_cell_0_X1_T.cell.CD8__TUBB4B         0.0058359651 -0.011940106\n",
       "single_cell_0_X4_Monocytes...CD14__PLEKHO1 -0.0009092672  0.004294237\n",
       "single_cell_0_X1_T.cell.CD8__HINT1         -0.0082264693  0.010207367\n",
       "single_cell_0_X0_T.cell.CD4__EIF3E          0.0068355912  0.004483769\n",
       "single_cell_0_X0_T.cell.CD4__HIST1H4C      -0.0149877646  0.007697713\n",
       "                                           PC7           PC8          \n",
       "single_cell_0_X2_T.cell.CD4__HIST1H4C       0.0041593394  2.213658e-03\n",
       "single_cell_0_X7_Monocytes...CD14__PLEKHO1 -0.0074700232  4.596053e-04\n",
       "single_cell_0_X0_T.cell.CD4__HINT1         -0.0052815505  1.655016e-03\n",
       "single_cell_0_X4_Monocytes...CD14__CDC42   -0.0026203020 -2.682892e-03\n",
       "single_cell_0_X7_Monocytes...CD14__CD74    -0.0099260182  9.012783e-04\n",
       "single_cell_0_X1_T.cell.CD8__TUBB4B         0.0090910708  1.768552e-02\n",
       "single_cell_0_X4_Monocytes...CD14__PLEKHO1  0.0132419791  5.643027e-05\n",
       "single_cell_0_X1_T.cell.CD8__HINT1          0.0006254185  1.409496e-02\n",
       "single_cell_0_X0_T.cell.CD4__EIF3E         -0.0086743223  4.071213e-04\n",
       "single_cell_0_X0_T.cell.CD4__HIST1H4C       0.0046871440 -3.778981e-03\n",
       "                                           PC9          PC10         ⋯\n",
       "single_cell_0_X2_T.cell.CD4__HIST1H4C      -0.010812100  0.004565492 ⋯\n",
       "single_cell_0_X7_Monocytes...CD14__PLEKHO1  0.002962764 -0.001980755 ⋯\n",
       "single_cell_0_X0_T.cell.CD4__HINT1          0.007318768  0.004757573 ⋯\n",
       "single_cell_0_X4_Monocytes...CD14__CDC42    0.001802458  0.005254008 ⋯\n",
       "single_cell_0_X7_Monocytes...CD14__CD74     0.006521551 -0.009691269 ⋯\n",
       "single_cell_0_X1_T.cell.CD8__TUBB4B        -0.003943799 -0.007430087 ⋯\n",
       "single_cell_0_X4_Monocytes...CD14__PLEKHO1  0.004605855  0.002580265 ⋯\n",
       "single_cell_0_X1_T.cell.CD8__HINT1         -0.008483175  0.004369822 ⋯\n",
       "single_cell_0_X0_T.cell.CD4__EIF3E          0.009963260 -0.010417314 ⋯\n",
       "single_cell_0_X0_T.cell.CD4__HIST1H4C      -0.010602675  0.007459095 ⋯\n",
       "                                           PC119         PC120        \n",
       "single_cell_0_X2_T.cell.CD4__HIST1H4C       7.029694e-06  0.0017780198\n",
       "single_cell_0_X7_Monocytes...CD14__PLEKHO1  2.411055e-03 -0.0001387147\n",
       "single_cell_0_X0_T.cell.CD4__HINT1         -1.620794e-04 -0.0011574681\n",
       "single_cell_0_X4_Monocytes...CD14__CDC42    4.666186e-04  0.0002627265\n",
       "single_cell_0_X7_Monocytes...CD14__CD74     1.119257e-03  0.0016117991\n",
       "single_cell_0_X1_T.cell.CD8__TUBB4B         1.928944e-03  0.0012005337\n",
       "single_cell_0_X4_Monocytes...CD14__PLEKHO1  2.531787e-03 -0.0009262857\n",
       "single_cell_0_X1_T.cell.CD8__HINT1         -1.166639e-03 -0.0034147897\n",
       "single_cell_0_X0_T.cell.CD4__EIF3E          2.490111e-03 -0.0014855977\n",
       "single_cell_0_X0_T.cell.CD4__HIST1H4C       1.258613e-03  0.0007803013\n",
       "                                           PC121         PC122        \n",
       "single_cell_0_X2_T.cell.CD4__HIST1H4C       0.0019230718  8.341451e-04\n",
       "single_cell_0_X7_Monocytes...CD14__PLEKHO1  0.0020862370  1.411734e-03\n",
       "single_cell_0_X0_T.cell.CD4__HINT1         -0.0016964823  8.965946e-05\n",
       "single_cell_0_X4_Monocytes...CD14__CDC42    0.0016783981  1.964278e-03\n",
       "single_cell_0_X7_Monocytes...CD14__CD74    -0.0003652232 -1.304990e-03\n",
       "single_cell_0_X1_T.cell.CD8__TUBB4B         0.0009119478  1.409877e-03\n",
       "single_cell_0_X4_Monocytes...CD14__PLEKHO1 -0.0007362133  9.057619e-04\n",
       "single_cell_0_X1_T.cell.CD8__HINT1         -0.0012579811  3.536756e-04\n",
       "single_cell_0_X0_T.cell.CD4__EIF3E         -0.0006375564  1.596261e-03\n",
       "single_cell_0_X0_T.cell.CD4__HIST1H4C       0.0004922263 -6.754354e-04\n",
       "                                           PC123         PC124        \n",
       "single_cell_0_X2_T.cell.CD4__HIST1H4C       0.0001752008  6.343350e-04\n",
       "single_cell_0_X7_Monocytes...CD14__PLEKHO1  0.0009362546  5.525191e-05\n",
       "single_cell_0_X0_T.cell.CD4__HINT1          0.0002399174  6.772077e-04\n",
       "single_cell_0_X4_Monocytes...CD14__CDC42    0.0007019030  5.096373e-04\n",
       "single_cell_0_X7_Monocytes...CD14__CD74    -0.0007846324 -3.113925e-04\n",
       "single_cell_0_X1_T.cell.CD8__TUBB4B         0.0015523498  1.518874e-03\n",
       "single_cell_0_X4_Monocytes...CD14__PLEKHO1 -0.0001373244 -1.064806e-03\n",
       "single_cell_0_X1_T.cell.CD8__HINT1         -0.0004012513 -8.014426e-04\n",
       "single_cell_0_X0_T.cell.CD4__EIF3E         -0.0004609245 -2.137907e-03\n",
       "single_cell_0_X0_T.cell.CD4__HIST1H4C       0.0001485808 -4.094257e-04\n",
       "                                           PC125         PC126        \n",
       "single_cell_0_X2_T.cell.CD4__HIST1H4C       9.198682e-04  0.0001294380\n",
       "single_cell_0_X7_Monocytes...CD14__PLEKHO1 -4.126249e-04  0.0011246492\n",
       "single_cell_0_X0_T.cell.CD4__HINT1          2.774626e-03 -0.0015191950\n",
       "single_cell_0_X4_Monocytes...CD14__CDC42   -6.615235e-04  0.0003735952\n",
       "single_cell_0_X7_Monocytes...CD14__CD74    -3.850845e-05  0.0026679152\n",
       "single_cell_0_X1_T.cell.CD8__TUBB4B         2.830608e-04 -0.0027279567\n",
       "single_cell_0_X4_Monocytes...CD14__PLEKHO1  4.367757e-04  0.0020400089\n",
       "single_cell_0_X1_T.cell.CD8__HINT1         -1.176465e-03 -0.0001584632\n",
       "single_cell_0_X0_T.cell.CD4__EIF3E          2.729725e-03 -0.0012769595\n",
       "single_cell_0_X0_T.cell.CD4__HIST1H4C       1.157323e-03  0.0012397919\n",
       "                                           PC127         PC128        \n",
       "single_cell_0_X2_T.cell.CD4__HIST1H4C      -0.0019951347  0.0013154092\n",
       "single_cell_0_X7_Monocytes...CD14__PLEKHO1 -0.0012970260 -0.0051229977\n",
       "single_cell_0_X0_T.cell.CD4__HINT1         -0.0003404959  0.0010297734\n",
       "single_cell_0_X4_Monocytes...CD14__CDC42   -0.0007714081 -0.0020833052\n",
       "single_cell_0_X7_Monocytes...CD14__CD74     0.0011425944  0.0011541835\n",
       "single_cell_0_X1_T.cell.CD8__TUBB4B         0.0002450027 -0.0060482293\n",
       "single_cell_0_X4_Monocytes...CD14__PLEKHO1 -0.0012065181  0.0003847781\n",
       "single_cell_0_X1_T.cell.CD8__HINT1          0.0004475761  0.0049049951\n",
       "single_cell_0_X0_T.cell.CD4__EIF3E         -0.0028538638  0.0032585153\n",
       "single_cell_0_X0_T.cell.CD4__HIST1H4C      -0.0019035099  0.0001558385"
      ]
     },
     "metadata": {},
     "output_type": "display_data"
    }
   ],
   "source": [
    "head(weights[order(abs(weights$PC2), decreasing = TRUE),],10)"
   ]
  },
  {
   "cell_type": "code",
   "execution_count": null,
   "id": "bec894ae-07c9-40db-a4b3-56e9a2d31bd2",
   "metadata": {},
   "outputs": [],
   "source": []
  },
  {
   "cell_type": "code",
   "execution_count": null,
   "id": "eeeac7ce-471e-4cac-8022-4027b5617f31",
   "metadata": {},
   "outputs": [],
   "source": []
  },
  {
   "cell_type": "code",
   "execution_count": 55,
   "id": "d3258451-9125-4e5e-a413-abd608ba936e",
   "metadata": {},
   "outputs": [],
   "source": [
    "### investigate some pca statistics"
   ]
  },
  {
   "cell_type": "code",
   "execution_count": 56,
   "id": "3a8316c4-6520-4fb6-a5da-2428c25b985b",
   "metadata": {},
   "outputs": [
    {
     "data": {
      "image/png": "[encoded data removed]",
      "text/plain": [
       "plot without title"
      ]
     },
     "metadata": {
      "image/png": {
       "height": 420,
       "width": 420
      }
     },
     "output_type": "display_data"
    }
   ],
   "source": [
    "fviz_eig(pca_result)"
   ]
  },
  {
   "cell_type": "code",
   "execution_count": null,
   "id": "fa5972b6-e5c2-4187-ae65-07c4235c407f",
   "metadata": {},
   "outputs": [],
   "source": []
  },
  {
   "cell_type": "code",
   "execution_count": null,
   "id": "1e63ce6f-80c8-4b67-957a-a642e2eaff7b",
   "metadata": {},
   "outputs": [],
   "source": []
  },
  {
   "cell_type": "markdown",
   "id": "1385d8a3-c030-45e4-92d6-7e71e9450bb6",
   "metadata": {
    "tags": []
   },
   "source": [
    "# Downstream Analysis of PCA results"
   ]
  },
  {
   "cell_type": "markdown",
   "id": "2cba252d-5de2-4322-9d06-a09cb8326ed4",
   "metadata": {
    "tags": []
   },
   "source": [
    "## Adjust sample data columns"
   ]
  },
  {
   "cell_type": "code",
   "execution_count": 57,
   "id": "66ab4bc2-5d2e-48d3-896c-e1af46bc9b61",
   "metadata": {},
   "outputs": [],
   "source": [
    "sample_data$class = sample_data$group"
   ]
  },
  {
   "cell_type": "code",
   "execution_count": 58,
   "id": "1575bb6a-0fa3-4753-8d35-ada309d94114",
   "metadata": {},
   "outputs": [],
   "source": [
    "sample_data$measurement2 = sample_data$measurement"
   ]
  },
  {
   "cell_type": "code",
   "execution_count": 59,
   "id": "901cf041-92b4-4fc0-8ed0-d6d5b5668d37",
   "metadata": {},
   "outputs": [],
   "source": [
    "sample_data$measurement2[sample_data$class %in% c('no_ccs', 'ccs')] = paste0(sample_data$measurement[sample_data$class %in% c('no_ccs', 'ccs')] , '_', sample_data$class[sample_data$class %in% c('no_ccs', 'ccs')])"
   ]
  },
  {
   "cell_type": "code",
   "execution_count": 60,
   "id": "b8e10e51-5055-4bd7-b88e-16eb7d59c7a2",
   "metadata": {},
   "outputs": [],
   "source": [
    "sample_data$measurement_class =  paste0(sample_data$measurement , '_', sample_data$classification)"
   ]
  },
  {
   "cell_type": "code",
   "execution_count": 61,
   "id": "830fd5e6-2d0e-48af-ab63-b4fc77d9f555",
   "metadata": {},
   "outputs": [
    {
     "data": {
      "text/html": [
       "<style>\n",
       ".list-inline {list-style: none; margin:0; padding: 0}\n",
       ".list-inline>li {display: inline-block}\n",
       ".list-inline>li:not(:last-child)::after {content: \"\\00b7\"; padding: 0 .5ex}\n",
       "</style>\n",
       "<ol class=list-inline><li>'TP0_no_ccs'</li><li>'TP0_ccs'</li><li>'TP1'</li><li>'TP2'</li><li>'TP3'</li><li>'TP4'</li></ol>\n"
      ],
      "text/latex": [
       "\\begin{enumerate*}\n",
       "\\item 'TP0\\_no\\_ccs'\n",
       "\\item 'TP0\\_ccs'\n",
       "\\item 'TP1'\n",
       "\\item 'TP2'\n",
       "\\item 'TP3'\n",
       "\\item 'TP4'\n",
       "\\end{enumerate*}\n"
      ],
      "text/markdown": [
       "1. 'TP0_no_ccs'\n",
       "2. 'TP0_ccs'\n",
       "3. 'TP1'\n",
       "4. 'TP2'\n",
       "5. 'TP3'\n",
       "6. 'TP4'\n",
       "\n",
       "\n"
      ],
      "text/plain": [
       "[1] \"TP0_no_ccs\" \"TP0_ccs\"    \"TP1\"        \"TP2\"        \"TP3\"       \n",
       "[6] \"TP4\"       "
      ]
     },
     "metadata": {},
     "output_type": "display_data"
    }
   ],
   "source": [
    "unique(sample_data$measurement2)"
   ]
  },
  {
   "cell_type": "code",
   "execution_count": 62,
   "id": "3a952ede-0745-4a01-9cb5-97ad31799be6",
   "metadata": {},
   "outputs": [
    {
     "data": {
      "text/html": [
       "<style>\n",
       ".list-inline {list-style: none; margin:0; padding: 0}\n",
       ".list-inline>li {display: inline-block}\n",
       ".list-inline>li:not(:last-child)::after {content: \"\\00b7\"; padding: 0 .5ex}\n",
       "</style>\n",
       "<ol class=list-inline><li>'TP0_vollstaendiger_ausschluss'</li><li>'TP0_ccs'</li><li>'TP0_koronarsklerose'</li><li>'TP1_acs_subacute'</li><li>'TP2_acs_subacute'</li><li>'TP3_acs_subacute'</li><li>'TP4_acs_subacute'</li><li>'TP1_acs_w_infection'</li><li>'TP2_acs_w_infection'</li><li>'TP3_acs_w_infection'</li><li>'TP4_acs_w_infection'</li><li>'TP1_acs_w_o_infection'</li><li>'TP2_acs_w_o_infection'</li><li>'TP3_acs_w_o_infection'</li><li>'TP4_acs_w_o_infection'</li></ol>\n"
      ],
      "text/latex": [
       "\\begin{enumerate*}\n",
       "\\item 'TP0\\_vollstaendiger\\_ausschluss'\n",
       "\\item 'TP0\\_ccs'\n",
       "\\item 'TP0\\_koronarsklerose'\n",
       "\\item 'TP1\\_acs\\_subacute'\n",
       "\\item 'TP2\\_acs\\_subacute'\n",
       "\\item 'TP3\\_acs\\_subacute'\n",
       "\\item 'TP4\\_acs\\_subacute'\n",
       "\\item 'TP1\\_acs\\_w\\_infection'\n",
       "\\item 'TP2\\_acs\\_w\\_infection'\n",
       "\\item 'TP3\\_acs\\_w\\_infection'\n",
       "\\item 'TP4\\_acs\\_w\\_infection'\n",
       "\\item 'TP1\\_acs\\_w\\_o\\_infection'\n",
       "\\item 'TP2\\_acs\\_w\\_o\\_infection'\n",
       "\\item 'TP3\\_acs\\_w\\_o\\_infection'\n",
       "\\item 'TP4\\_acs\\_w\\_o\\_infection'\n",
       "\\end{enumerate*}\n"
      ],
      "text/markdown": [
       "1. 'TP0_vollstaendiger_ausschluss'\n",
       "2. 'TP0_ccs'\n",
       "3. 'TP0_koronarsklerose'\n",
       "4. 'TP1_acs_subacute'\n",
       "5. 'TP2_acs_subacute'\n",
       "6. 'TP3_acs_subacute'\n",
       "7. 'TP4_acs_subacute'\n",
       "8. 'TP1_acs_w_infection'\n",
       "9. 'TP2_acs_w_infection'\n",
       "10. 'TP3_acs_w_infection'\n",
       "11. 'TP4_acs_w_infection'\n",
       "12. 'TP1_acs_w_o_infection'\n",
       "13. 'TP2_acs_w_o_infection'\n",
       "14. 'TP3_acs_w_o_infection'\n",
       "15. 'TP4_acs_w_o_infection'\n",
       "\n",
       "\n"
      ],
      "text/plain": [
       " [1] \"TP0_vollstaendiger_ausschluss\" \"TP0_ccs\"                      \n",
       " [3] \"TP0_koronarsklerose\"           \"TP1_acs_subacute\"             \n",
       " [5] \"TP2_acs_subacute\"              \"TP3_acs_subacute\"             \n",
       " [7] \"TP4_acs_subacute\"              \"TP1_acs_w_infection\"          \n",
       " [9] \"TP2_acs_w_infection\"           \"TP3_acs_w_infection\"          \n",
       "[11] \"TP4_acs_w_infection\"           \"TP1_acs_w_o_infection\"        \n",
       "[13] \"TP2_acs_w_o_infection\"         \"TP3_acs_w_o_infection\"        \n",
       "[15] \"TP4_acs_w_o_infection\"        "
      ]
     },
     "metadata": {},
     "output_type": "display_data"
    }
   ],
   "source": [
    "unique(sample_data$measurement_class)"
   ]
  },
  {
   "cell_type": "code",
   "execution_count": 63,
   "id": "c18a51a1-9c9b-4aec-b78e-0152bafb7546",
   "metadata": {},
   "outputs": [],
   "source": [
    "# Summarize good and intermediate outcome    \n",
    "sample_data$delta_ef_value_class_summarized = sample_data$delta_ef_value_class\n",
    "sample_data$delta_ef_value_class_summarized[sample_data$delta_ef_value_class %in% c('intermediate')] = 'good'"
   ]
  },
  {
   "cell_type": "code",
   "execution_count": 64,
   "id": "72b872f0-d874-463c-83b7-134bae1f709c",
   "metadata": {},
   "outputs": [
    {
     "data": {
      "text/html": [
       "<style>\n",
       ".list-inline {list-style: none; margin:0; padding: 0}\n",
       ".list-inline>li {display: inline-block}\n",
       ".list-inline>li:not(:last-child)::after {content: \"\\00b7\"; padding: 0 .5ex}\n",
       "</style>\n",
       "<ol class=list-inline><li>NA</li><li>'bad'</li><li>'good'</li></ol>\n"
      ],
      "text/latex": [
       "\\begin{enumerate*}\n",
       "\\item NA\n",
       "\\item 'bad'\n",
       "\\item 'good'\n",
       "\\end{enumerate*}\n"
      ],
      "text/markdown": [
       "1. NA\n",
       "2. 'bad'\n",
       "3. 'good'\n",
       "\n",
       "\n"
      ],
      "text/plain": [
       "[1] NA     \"bad\"  \"good\""
      ]
     },
     "metadata": {},
     "output_type": "display_data"
    }
   ],
   "source": [
    "unique(sample_data$delta_ef_value_class_summarized)"
   ]
  },
  {
   "cell_type": "code",
   "execution_count": 65,
   "id": "2d739f74-731c-425c-bb3f-7c506abab006",
   "metadata": {},
   "outputs": [],
   "source": [
    "## Concatenate outcome with class"
   ]
  },
  {
   "cell_type": "code",
   "execution_count": 66,
   "id": "b9c5e7ec-caf9-4175-9351-d6a7d48961cc",
   "metadata": {},
   "outputs": [],
   "source": [
    "sample_data$tp_outcome = paste0(sample_data$measurement, '_', sample_data$delta_ef_value_class_summarized)"
   ]
  },
  {
   "cell_type": "code",
   "execution_count": 67,
   "id": "018a68c1-0721-4d33-accf-f8df1055801b",
   "metadata": {},
   "outputs": [
    {
     "data": {
      "text/html": [
       "<style>\n",
       ".list-inline {list-style: none; margin:0; padding: 0}\n",
       ".list-inline>li {display: inline-block}\n",
       ".list-inline>li:not(:last-child)::after {content: \"\\00b7\"; padding: 0 .5ex}\n",
       "</style>\n",
       "<ol class=list-inline><li>'TP0_NA'</li><li>'TP1_NA'</li><li>'TP2_NA'</li><li>'TP3_NA'</li><li>'TP4_NA'</li><li>'TP1_bad'</li><li>'TP2_bad'</li><li>'TP3_bad'</li><li>'TP4_bad'</li><li>'TP1_good'</li><li>'TP2_good'</li><li>'TP3_good'</li><li>'TP4_good'</li></ol>\n"
      ],
      "text/latex": [
       "\\begin{enumerate*}\n",
       "\\item 'TP0\\_NA'\n",
       "\\item 'TP1\\_NA'\n",
       "\\item 'TP2\\_NA'\n",
       "\\item 'TP3\\_NA'\n",
       "\\item 'TP4\\_NA'\n",
       "\\item 'TP1\\_bad'\n",
       "\\item 'TP2\\_bad'\n",
       "\\item 'TP3\\_bad'\n",
       "\\item 'TP4\\_bad'\n",
       "\\item 'TP1\\_good'\n",
       "\\item 'TP2\\_good'\n",
       "\\item 'TP3\\_good'\n",
       "\\item 'TP4\\_good'\n",
       "\\end{enumerate*}\n"
      ],
      "text/markdown": [
       "1. 'TP0_NA'\n",
       "2. 'TP1_NA'\n",
       "3. 'TP2_NA'\n",
       "4. 'TP3_NA'\n",
       "5. 'TP4_NA'\n",
       "6. 'TP1_bad'\n",
       "7. 'TP2_bad'\n",
       "8. 'TP3_bad'\n",
       "9. 'TP4_bad'\n",
       "10. 'TP1_good'\n",
       "11. 'TP2_good'\n",
       "12. 'TP3_good'\n",
       "13. 'TP4_good'\n",
       "\n",
       "\n"
      ],
      "text/plain": [
       " [1] \"TP0_NA\"   \"TP1_NA\"   \"TP2_NA\"   \"TP3_NA\"   \"TP4_NA\"   \"TP1_bad\" \n",
       " [7] \"TP2_bad\"  \"TP3_bad\"  \"TP4_bad\"  \"TP1_good\" \"TP2_good\" \"TP3_good\"\n",
       "[13] \"TP4_good\""
      ]
     },
     "metadata": {},
     "output_type": "display_data"
    }
   ],
   "source": [
    "unique(sample_data$tp_outcome)"
   ]
  },
  {
   "cell_type": "code",
   "execution_count": 68,
   "id": "13323592-53e4-498a-83c4-82618fbe813f",
   "metadata": {},
   "outputs": [],
   "source": [
    "#head(sample_data,2)"
   ]
  },
  {
   "cell_type": "markdown",
   "id": "705fd53f-47f4-4b44-9436-f88023fd40c1",
   "metadata": {
    "tags": []
   },
   "source": [
    "## Extract data (for potential supplementary tables)"
   ]
  },
  {
   "cell_type": "code",
   "execution_count": 69,
   "id": "d08949e4-546e-4d37-90d5-ce833a173d87",
   "metadata": {},
   "outputs": [],
   "source": [
    "### Visualization of single factors"
   ]
  },
  {
   "cell_type": "code",
   "execution_count": 70,
   "id": "ba298fa3-b66e-4943-8dd8-b2fb46d0ee93",
   "metadata": {},
   "outputs": [],
   "source": [
    "#### Extract factors and evaluate based on sample-data"
   ]
  },
  {
   "cell_type": "code",
   "execution_count": 71,
   "id": "341e66a1-0260-4b21-a80b-b0ecc6601f91",
   "metadata": {},
   "outputs": [],
   "source": [
    "factors = pca_result$x"
   ]
  },
  {
   "cell_type": "code",
   "execution_count": 72,
   "id": "c9b8bc48-5d43-420e-93f6-73df28ea4a69",
   "metadata": {},
   "outputs": [
    {
     "data": {
      "text/html": [
       "<table class=\"dataframe\">\n",
       "<caption>A matrix: 2 × 128 of type dbl</caption>\n",
       "<thead>\n",
       "\t<tr><th></th><th scope=col>PC1</th><th scope=col>PC2</th><th scope=col>PC3</th><th scope=col>PC4</th><th scope=col>PC5</th><th scope=col>PC6</th><th scope=col>PC7</th><th scope=col>PC8</th><th scope=col>PC9</th><th scope=col>PC10</th><th scope=col>⋯</th><th scope=col>PC119</th><th scope=col>PC120</th><th scope=col>PC121</th><th scope=col>PC122</th><th scope=col>PC123</th><th scope=col>PC124</th><th scope=col>PC125</th><th scope=col>PC126</th><th scope=col>PC127</th><th scope=col>PC128</th></tr>\n",
       "</thead>\n",
       "<tbody>\n",
       "\t<tr><th scope=row>k1</th><td> -0.1104445</td><td> 0.6202172</td><td> -0.164706</td><td>-0.9197066</td><td>  0.0537092</td><td>-0.04918337</td><td>0.06440649</td><td> -0.3095937</td><td> 0.2416664</td><td>-0.05027047</td><td>⋯</td><td>-6.350428</td><td> 1.3846100</td><td>-6.2498614</td><td>9.30287982</td><td>-0.2348568</td><td>27.1264991</td><td>-1.7411090</td><td> 0.1213044</td><td>-0.49687221</td><td>-7.946914e-15</td></tr>\n",
       "\t<tr><th scope=row>k10</th><td>-28.5897884</td><td>-5.1728703</td><td>-10.329321</td><td> 2.2854368</td><td>-31.3426413</td><td>-4.84044624</td><td>5.08258442</td><td>-16.6053067</td><td>-0.8571016</td><td> 2.50684958</td><td>⋯</td><td> 1.156287</td><td>-0.6817731</td><td>-0.2429447</td><td>0.05468426</td><td>-0.2056402</td><td>-0.1035651</td><td> 0.1026742</td><td>-0.2108797</td><td> 0.03312699</td><td>-4.035661e-14</td></tr>\n",
       "</tbody>\n",
       "</table>\n"
      ],
      "text/latex": [
       "A matrix: 2 × 128 of type dbl\n",
       "\\begin{tabular}{r|lllllllllllllllllllll}\n",
       "  & PC1 & PC2 & PC3 & PC4 & PC5 & PC6 & PC7 & PC8 & PC9 & PC10 & ⋯ & PC119 & PC120 & PC121 & PC122 & PC123 & PC124 & PC125 & PC126 & PC127 & PC128\\\\\n",
       "\\hline\n",
       "\tk1 &  -0.1104445 &  0.6202172 &  -0.164706 & -0.9197066 &   0.0537092 & -0.04918337 & 0.06440649 &  -0.3095937 &  0.2416664 & -0.05027047 & ⋯ & -6.350428 &  1.3846100 & -6.2498614 & 9.30287982 & -0.2348568 & 27.1264991 & -1.7411090 &  0.1213044 & -0.49687221 & -7.946914e-15\\\\\n",
       "\tk10 & -28.5897884 & -5.1728703 & -10.329321 &  2.2854368 & -31.3426413 & -4.84044624 & 5.08258442 & -16.6053067 & -0.8571016 &  2.50684958 & ⋯ &  1.156287 & -0.6817731 & -0.2429447 & 0.05468426 & -0.2056402 & -0.1035651 &  0.1026742 & -0.2108797 &  0.03312699 & -4.035661e-14\\\\\n",
       "\\end{tabular}\n"
      ],
      "text/markdown": [
       "\n",
       "A matrix: 2 × 128 of type dbl\n",
       "\n",
       "| <!--/--> | PC1 | PC2 | PC3 | PC4 | PC5 | PC6 | PC7 | PC8 | PC9 | PC10 | ⋯ | PC119 | PC120 | PC121 | PC122 | PC123 | PC124 | PC125 | PC126 | PC127 | PC128 |\n",
       "|---|---|---|---|---|---|---|---|---|---|---|---|---|---|---|---|---|---|---|---|---|---|\n",
       "| k1 |  -0.1104445 |  0.6202172 |  -0.164706 | -0.9197066 |   0.0537092 | -0.04918337 | 0.06440649 |  -0.3095937 |  0.2416664 | -0.05027047 | ⋯ | -6.350428 |  1.3846100 | -6.2498614 | 9.30287982 | -0.2348568 | 27.1264991 | -1.7411090 |  0.1213044 | -0.49687221 | -7.946914e-15 |\n",
       "| k10 | -28.5897884 | -5.1728703 | -10.329321 |  2.2854368 | -31.3426413 | -4.84044624 | 5.08258442 | -16.6053067 | -0.8571016 |  2.50684958 | ⋯ |  1.156287 | -0.6817731 | -0.2429447 | 0.05468426 | -0.2056402 | -0.1035651 |  0.1026742 | -0.2108797 |  0.03312699 | -4.035661e-14 |\n",
       "\n"
      ],
      "text/plain": [
       "    PC1         PC2        PC3        PC4        PC5         PC6        \n",
       "k1   -0.1104445  0.6202172  -0.164706 -0.9197066   0.0537092 -0.04918337\n",
       "k10 -28.5897884 -5.1728703 -10.329321  2.2854368 -31.3426413 -4.84044624\n",
       "    PC7        PC8         PC9        PC10        ⋯ PC119     PC120     \n",
       "k1  0.06440649  -0.3095937  0.2416664 -0.05027047 ⋯ -6.350428  1.3846100\n",
       "k10 5.08258442 -16.6053067 -0.8571016  2.50684958 ⋯  1.156287 -0.6817731\n",
       "    PC121      PC122      PC123      PC124      PC125      PC126     \n",
       "k1  -6.2498614 9.30287982 -0.2348568 27.1264991 -1.7411090  0.1213044\n",
       "k10 -0.2429447 0.05468426 -0.2056402 -0.1035651  0.1026742 -0.2108797\n",
       "    PC127       PC128        \n",
       "k1  -0.49687221 -7.946914e-15\n",
       "k10  0.03312699 -4.035661e-14"
      ]
     },
     "metadata": {},
     "output_type": "display_data"
    }
   ],
   "source": [
    "head(factors,2)"
   ]
  },
  {
   "cell_type": "code",
   "execution_count": 73,
   "id": "e67abbc2-1fd9-446a-a0b3-8460597fb0c8",
   "metadata": {},
   "outputs": [],
   "source": [
    "factors = factors[,1:10]"
   ]
  },
  {
   "cell_type": "code",
   "execution_count": 74,
   "id": "5cbbf44c-d111-4c22-928d-d6aa9a5827c5",
   "metadata": {},
   "outputs": [],
   "source": [
    "factors = as.data.frame(factors)"
   ]
  },
  {
   "cell_type": "code",
   "execution_count": 75,
   "id": "8c528e70-1032-4fe8-8dc1-e4d03603f97e",
   "metadata": {},
   "outputs": [],
   "source": [
    "factors$sample_id = rownames(factors)"
   ]
  },
  {
   "cell_type": "markdown",
   "id": "63bb29c6-9f50-46a8-bcf2-ef8781fb8bac",
   "metadata": {
    "tags": []
   },
   "source": [
    "## Merge factors and sample data"
   ]
  },
  {
   "cell_type": "code",
   "execution_count": 76,
   "id": "e2ca7f5a-6ed7-4424-9b9c-21b998dd9a2f",
   "metadata": {},
   "outputs": [
    {
     "data": {
      "text/html": [
       "<table class=\"dataframe\">\n",
       "<caption>A data.frame: 2 × 11</caption>\n",
       "<thead>\n",
       "\t<tr><th></th><th scope=col>PC1</th><th scope=col>PC2</th><th scope=col>PC3</th><th scope=col>PC4</th><th scope=col>PC5</th><th scope=col>PC6</th><th scope=col>PC7</th><th scope=col>PC8</th><th scope=col>PC9</th><th scope=col>PC10</th><th scope=col>sample_id</th></tr>\n",
       "\t<tr><th></th><th scope=col>&lt;dbl&gt;</th><th scope=col>&lt;dbl&gt;</th><th scope=col>&lt;dbl&gt;</th><th scope=col>&lt;dbl&gt;</th><th scope=col>&lt;dbl&gt;</th><th scope=col>&lt;dbl&gt;</th><th scope=col>&lt;dbl&gt;</th><th scope=col>&lt;dbl&gt;</th><th scope=col>&lt;dbl&gt;</th><th scope=col>&lt;dbl&gt;</th><th scope=col>&lt;chr&gt;</th></tr>\n",
       "</thead>\n",
       "<tbody>\n",
       "\t<tr><th scope=row>k1</th><td> -0.1104445</td><td> 0.6202172</td><td> -0.164706</td><td>-0.9197066</td><td>  0.0537092</td><td>-0.04918337</td><td>0.06440649</td><td> -0.3095937</td><td> 0.2416664</td><td>-0.05027047</td><td>k1 </td></tr>\n",
       "\t<tr><th scope=row>k10</th><td>-28.5897884</td><td>-5.1728703</td><td>-10.329321</td><td> 2.2854368</td><td>-31.3426413</td><td>-4.84044624</td><td>5.08258442</td><td>-16.6053067</td><td>-0.8571016</td><td> 2.50684958</td><td>k10</td></tr>\n",
       "</tbody>\n",
       "</table>\n"
      ],
      "text/latex": [
       "A data.frame: 2 × 11\n",
       "\\begin{tabular}{r|lllllllllll}\n",
       "  & PC1 & PC2 & PC3 & PC4 & PC5 & PC6 & PC7 & PC8 & PC9 & PC10 & sample\\_id\\\\\n",
       "  & <dbl> & <dbl> & <dbl> & <dbl> & <dbl> & <dbl> & <dbl> & <dbl> & <dbl> & <dbl> & <chr>\\\\\n",
       "\\hline\n",
       "\tk1 &  -0.1104445 &  0.6202172 &  -0.164706 & -0.9197066 &   0.0537092 & -0.04918337 & 0.06440649 &  -0.3095937 &  0.2416664 & -0.05027047 & k1 \\\\\n",
       "\tk10 & -28.5897884 & -5.1728703 & -10.329321 &  2.2854368 & -31.3426413 & -4.84044624 & 5.08258442 & -16.6053067 & -0.8571016 &  2.50684958 & k10\\\\\n",
       "\\end{tabular}\n"
      ],
      "text/markdown": [
       "\n",
       "A data.frame: 2 × 11\n",
       "\n",
       "| <!--/--> | PC1 &lt;dbl&gt; | PC2 &lt;dbl&gt; | PC3 &lt;dbl&gt; | PC4 &lt;dbl&gt; | PC5 &lt;dbl&gt; | PC6 &lt;dbl&gt; | PC7 &lt;dbl&gt; | PC8 &lt;dbl&gt; | PC9 &lt;dbl&gt; | PC10 &lt;dbl&gt; | sample_id &lt;chr&gt; |\n",
       "|---|---|---|---|---|---|---|---|---|---|---|---|\n",
       "| k1 |  -0.1104445 |  0.6202172 |  -0.164706 | -0.9197066 |   0.0537092 | -0.04918337 | 0.06440649 |  -0.3095937 |  0.2416664 | -0.05027047 | k1  |\n",
       "| k10 | -28.5897884 | -5.1728703 | -10.329321 |  2.2854368 | -31.3426413 | -4.84044624 | 5.08258442 | -16.6053067 | -0.8571016 |  2.50684958 | k10 |\n",
       "\n"
      ],
      "text/plain": [
       "    PC1         PC2        PC3        PC4        PC5         PC6        \n",
       "k1   -0.1104445  0.6202172  -0.164706 -0.9197066   0.0537092 -0.04918337\n",
       "k10 -28.5897884 -5.1728703 -10.329321  2.2854368 -31.3426413 -4.84044624\n",
       "    PC7        PC8         PC9        PC10        sample_id\n",
       "k1  0.06440649  -0.3095937  0.2416664 -0.05027047 k1       \n",
       "k10 5.08258442 -16.6053067 -0.8571016  2.50684958 k10      "
      ]
     },
     "metadata": {},
     "output_type": "display_data"
    }
   ],
   "source": [
    "head(factors,2)"
   ]
  },
  {
   "cell_type": "code",
   "execution_count": 77,
   "id": "1cacbf49-1921-4368-b9c9-0c3c82ff3310",
   "metadata": {},
   "outputs": [
    {
     "data": {
      "text/html": [
       "128"
      ],
      "text/latex": [
       "128"
      ],
      "text/markdown": [
       "128"
      ],
      "text/plain": [
       "[1] 128"
      ]
     },
     "metadata": {},
     "output_type": "display_data"
    }
   ],
   "source": [
    "nrow(factors)"
   ]
  },
  {
   "cell_type": "code",
   "execution_count": 78,
   "id": "ac117f20-03b7-40a1-bd46-9627682d0e01",
   "metadata": {
    "tags": []
   },
   "outputs": [
    {
     "data": {
      "text/html": [
       "<table class=\"dataframe\">\n",
       "<caption>A data.frame: 2 × 36</caption>\n",
       "<thead>\n",
       "\t<tr><th></th><th scope=col>X.1</th><th scope=col>sample_id</th><th scope=col>sample</th><th scope=col>id</th><th scope=col>measurement</th><th scope=col>library</th><th scope=col>id.y</th><th scope=col>name</th><th scope=col>read</th><th scope=col>pattern</th><th scope=col>⋯</th><th scope=col>CK_MB</th><th scope=col>Troponin</th><th scope=col>CRP</th><th scope=col>clinical_data</th><th scope=col>CK_raw</th><th scope=col>class</th><th scope=col>measurement2</th><th scope=col>measurement_class</th><th scope=col>delta_ef_value_class_summarized</th><th scope=col>tp_outcome</th></tr>\n",
       "\t<tr><th></th><th scope=col>&lt;int&gt;</th><th scope=col>&lt;chr&gt;</th><th scope=col>&lt;chr&gt;</th><th scope=col>&lt;dbl&gt;</th><th scope=col>&lt;chr&gt;</th><th scope=col>&lt;chr&gt;</th><th scope=col>&lt;chr&gt;</th><th scope=col>&lt;chr&gt;</th><th scope=col>&lt;chr&gt;</th><th scope=col>&lt;chr&gt;</th><th scope=col>⋯</th><th scope=col>&lt;dbl&gt;</th><th scope=col>&lt;dbl&gt;</th><th scope=col>&lt;dbl&gt;</th><th scope=col>&lt;int&gt;</th><th scope=col>&lt;int&gt;</th><th scope=col>&lt;chr&gt;</th><th scope=col>&lt;chr&gt;</th><th scope=col>&lt;chr&gt;</th><th scope=col>&lt;chr&gt;</th><th scope=col>&lt;chr&gt;</th></tr>\n",
       "</thead>\n",
       "<tbody>\n",
       "\t<tr><th scope=row>1</th><td>1</td><td>k1 </td><td>K1 </td><td> 1</td><td>TP0</td><td>L13</td><td>HTO_B0251</td><td>No-CCS-1 </td><td>R2</td><td>5PNNNNNNNNNN(BC)</td><td>⋯</td><td>NA</td><td>0.01863417</td><td>0.4854268</td><td>1</td><td>43</td><td>no_ccs</td><td>TP0_no_ccs</td><td>TP0_vollstaendiger_ausschluss</td><td>NA</td><td>TP0_NA</td></tr>\n",
       "\t<tr><th scope=row>2</th><td>2</td><td>k10</td><td>K10</td><td>10</td><td>TP0</td><td>L11</td><td>HTO_B0256</td><td>Ch-CCS-10</td><td>R2</td><td>5PNNNNNNNNNN(BC)</td><td>⋯</td><td>NA</td><td>        NA</td><td>0.2630344</td><td>1</td><td>NA</td><td>ccs   </td><td>TP0_ccs   </td><td>TP0_ccs                      </td><td>NA</td><td>TP0_NA</td></tr>\n",
       "</tbody>\n",
       "</table>\n"
      ],
      "text/latex": [
       "A data.frame: 2 × 36\n",
       "\\begin{tabular}{r|lllllllllllllllllllll}\n",
       "  & X.1 & sample\\_id & sample & id & measurement & library & id.y & name & read & pattern & ⋯ & CK\\_MB & Troponin & CRP & clinical\\_data & CK\\_raw & class & measurement2 & measurement\\_class & delta\\_ef\\_value\\_class\\_summarized & tp\\_outcome\\\\\n",
       "  & <int> & <chr> & <chr> & <dbl> & <chr> & <chr> & <chr> & <chr> & <chr> & <chr> & ⋯ & <dbl> & <dbl> & <dbl> & <int> & <int> & <chr> & <chr> & <chr> & <chr> & <chr>\\\\\n",
       "\\hline\n",
       "\t1 & 1 & k1  & K1  &  1 & TP0 & L13 & HTO\\_B0251 & No-CCS-1  & R2 & 5PNNNNNNNNNN(BC) & ⋯ & NA & 0.01863417 & 0.4854268 & 1 & 43 & no\\_ccs & TP0\\_no\\_ccs & TP0\\_vollstaendiger\\_ausschluss & NA & TP0\\_NA\\\\\n",
       "\t2 & 2 & k10 & K10 & 10 & TP0 & L11 & HTO\\_B0256 & Ch-CCS-10 & R2 & 5PNNNNNNNNNN(BC) & ⋯ & NA &         NA & 0.2630344 & 1 & NA & ccs    & TP0\\_ccs    & TP0\\_ccs                       & NA & TP0\\_NA\\\\\n",
       "\\end{tabular}\n"
      ],
      "text/markdown": [
       "\n",
       "A data.frame: 2 × 36\n",
       "\n",
       "| <!--/--> | X.1 &lt;int&gt; | sample_id &lt;chr&gt; | sample &lt;chr&gt; | id &lt;dbl&gt; | measurement &lt;chr&gt; | library &lt;chr&gt; | id.y &lt;chr&gt; | name &lt;chr&gt; | read &lt;chr&gt; | pattern &lt;chr&gt; | ⋯ ⋯ | CK_MB &lt;dbl&gt; | Troponin &lt;dbl&gt; | CRP &lt;dbl&gt; | clinical_data &lt;int&gt; | CK_raw &lt;int&gt; | class &lt;chr&gt; | measurement2 &lt;chr&gt; | measurement_class &lt;chr&gt; | delta_ef_value_class_summarized &lt;chr&gt; | tp_outcome &lt;chr&gt; |\n",
       "|---|---|---|---|---|---|---|---|---|---|---|---|---|---|---|---|---|---|---|---|---|---|\n",
       "| 1 | 1 | k1  | K1  |  1 | TP0 | L13 | HTO_B0251 | No-CCS-1  | R2 | 5PNNNNNNNNNN(BC) | ⋯ | NA | 0.01863417 | 0.4854268 | 1 | 43 | no_ccs | TP0_no_ccs | TP0_vollstaendiger_ausschluss | NA | TP0_NA |\n",
       "| 2 | 2 | k10 | K10 | 10 | TP0 | L11 | HTO_B0256 | Ch-CCS-10 | R2 | 5PNNNNNNNNNN(BC) | ⋯ | NA |         NA | 0.2630344 | 1 | NA | ccs    | TP0_ccs    | TP0_ccs                       | NA | TP0_NA |\n",
       "\n"
      ],
      "text/plain": [
       "  X.1 sample_id sample id measurement library id.y      name      read\n",
       "1 1   k1        K1      1 TP0         L13     HTO_B0251 No-CCS-1  R2  \n",
       "2 2   k10       K10    10 TP0         L11     HTO_B0256 Ch-CCS-10 R2  \n",
       "  pattern          ⋯ CK_MB Troponin   CRP       clinical_data CK_raw class \n",
       "1 5PNNNNNNNNNN(BC) ⋯ NA    0.01863417 0.4854268 1             43     no_ccs\n",
       "2 5PNNNNNNNNNN(BC) ⋯ NA            NA 0.2630344 1             NA     ccs   \n",
       "  measurement2 measurement_class             delta_ef_value_class_summarized\n",
       "1 TP0_no_ccs   TP0_vollstaendiger_ausschluss NA                             \n",
       "2 TP0_ccs      TP0_ccs                       NA                             \n",
       "  tp_outcome\n",
       "1 TP0_NA    \n",
       "2 TP0_NA    "
      ]
     },
     "metadata": {},
     "output_type": "display_data"
    }
   ],
   "source": [
    "head(sample_data,2)"
   ]
  },
  {
   "cell_type": "code",
   "execution_count": 79,
   "id": "481a8ea4-c21e-4c19-9ee8-cc42e069f267",
   "metadata": {},
   "outputs": [
    {
     "data": {
      "text/html": [
       "<style>\n",
       ".list-inline {list-style: none; margin:0; padding: 0}\n",
       ".list-inline>li {display: inline-block}\n",
       ".list-inline>li:not(:last-child)::after {content: \"\\00b7\"; padding: 0 .5ex}\n",
       "</style>\n",
       "<ol class=list-inline><li>'X.1'</li><li>'sample_id'</li><li>'sample'</li><li>'id'</li><li>'measurement'</li><li>'library'</li><li>'id.y'</li><li>'name'</li><li>'read'</li><li>'pattern'</li><li>'sequence'</li><li>'feature_type'</li><li>'X'</li><li>'in_sample'</li><li>'measurement_tp'</li><li>'sc_rna_seq_data'</li><li>'age'</li><li>'sex'</li><li>'classification'</li><li>'group'</li><li>'meta_data'</li><li>'delta_ef_value_group'</li><li>'delta_ef_value'</li><li>'delta_ef_value_class'</li><li>'ef_classification_data'</li><li>'CK'</li><li>'CK_MB'</li><li>'Troponin'</li><li>'CRP'</li><li>'clinical_data'</li><li>'CK_raw'</li><li>'class'</li><li>'measurement2'</li><li>'measurement_class'</li><li>'delta_ef_value_class_summarized'</li><li>'tp_outcome'</li></ol>\n"
      ],
      "text/latex": [
       "\\begin{enumerate*}\n",
       "\\item 'X.1'\n",
       "\\item 'sample\\_id'\n",
       "\\item 'sample'\n",
       "\\item 'id'\n",
       "\\item 'measurement'\n",
       "\\item 'library'\n",
       "\\item 'id.y'\n",
       "\\item 'name'\n",
       "\\item 'read'\n",
       "\\item 'pattern'\n",
       "\\item 'sequence'\n",
       "\\item 'feature\\_type'\n",
       "\\item 'X'\n",
       "\\item 'in\\_sample'\n",
       "\\item 'measurement\\_tp'\n",
       "\\item 'sc\\_rna\\_seq\\_data'\n",
       "\\item 'age'\n",
       "\\item 'sex'\n",
       "\\item 'classification'\n",
       "\\item 'group'\n",
       "\\item 'meta\\_data'\n",
       "\\item 'delta\\_ef\\_value\\_group'\n",
       "\\item 'delta\\_ef\\_value'\n",
       "\\item 'delta\\_ef\\_value\\_class'\n",
       "\\item 'ef\\_classification\\_data'\n",
       "\\item 'CK'\n",
       "\\item 'CK\\_MB'\n",
       "\\item 'Troponin'\n",
       "\\item 'CRP'\n",
       "\\item 'clinical\\_data'\n",
       "\\item 'CK\\_raw'\n",
       "\\item 'class'\n",
       "\\item 'measurement2'\n",
       "\\item 'measurement\\_class'\n",
       "\\item 'delta\\_ef\\_value\\_class\\_summarized'\n",
       "\\item 'tp\\_outcome'\n",
       "\\end{enumerate*}\n"
      ],
      "text/markdown": [
       "1. 'X.1'\n",
       "2. 'sample_id'\n",
       "3. 'sample'\n",
       "4. 'id'\n",
       "5. 'measurement'\n",
       "6. 'library'\n",
       "7. 'id.y'\n",
       "8. 'name'\n",
       "9. 'read'\n",
       "10. 'pattern'\n",
       "11. 'sequence'\n",
       "12. 'feature_type'\n",
       "13. 'X'\n",
       "14. 'in_sample'\n",
       "15. 'measurement_tp'\n",
       "16. 'sc_rna_seq_data'\n",
       "17. 'age'\n",
       "18. 'sex'\n",
       "19. 'classification'\n",
       "20. 'group'\n",
       "21. 'meta_data'\n",
       "22. 'delta_ef_value_group'\n",
       "23. 'delta_ef_value'\n",
       "24. 'delta_ef_value_class'\n",
       "25. 'ef_classification_data'\n",
       "26. 'CK'\n",
       "27. 'CK_MB'\n",
       "28. 'Troponin'\n",
       "29. 'CRP'\n",
       "30. 'clinical_data'\n",
       "31. 'CK_raw'\n",
       "32. 'class'\n",
       "33. 'measurement2'\n",
       "34. 'measurement_class'\n",
       "35. 'delta_ef_value_class_summarized'\n",
       "36. 'tp_outcome'\n",
       "\n",
       "\n"
      ],
      "text/plain": [
       " [1] \"X.1\"                             \"sample_id\"                      \n",
       " [3] \"sample\"                          \"id\"                             \n",
       " [5] \"measurement\"                     \"library\"                        \n",
       " [7] \"id.y\"                            \"name\"                           \n",
       " [9] \"read\"                            \"pattern\"                        \n",
       "[11] \"sequence\"                        \"feature_type\"                   \n",
       "[13] \"X\"                               \"in_sample\"                      \n",
       "[15] \"measurement_tp\"                  \"sc_rna_seq_data\"                \n",
       "[17] \"age\"                             \"sex\"                            \n",
       "[19] \"classification\"                  \"group\"                          \n",
       "[21] \"meta_data\"                       \"delta_ef_value_group\"           \n",
       "[23] \"delta_ef_value\"                  \"delta_ef_value_class\"           \n",
       "[25] \"ef_classification_data\"          \"CK\"                             \n",
       "[27] \"CK_MB\"                           \"Troponin\"                       \n",
       "[29] \"CRP\"                             \"clinical_data\"                  \n",
       "[31] \"CK_raw\"                          \"class\"                          \n",
       "[33] \"measurement2\"                    \"measurement_class\"              \n",
       "[35] \"delta_ef_value_class_summarized\" \"tp_outcome\"                     "
      ]
     },
     "metadata": {},
     "output_type": "display_data"
    }
   ],
   "source": [
    "colnames(sample_data)"
   ]
  },
  {
   "cell_type": "code",
   "execution_count": 80,
   "id": "82164b09-68e0-48b8-9b1d-99fe5cd2f812",
   "metadata": {},
   "outputs": [
    {
     "data": {
      "text/html": [
       "<style>\n",
       ".list-inline {list-style: none; margin:0; padding: 0}\n",
       ".list-inline>li {display: inline-block}\n",
       ".list-inline>li:not(:last-child)::after {content: \"\\00b7\"; padding: 0 .5ex}\n",
       "</style>\n",
       "<ol class=list-inline><li>'TP0_no_ccs'</li><li>'TP0_ccs'</li><li>'TP1'</li><li>'TP2'</li><li>'TP3'</li><li>'TP4'</li></ol>\n"
      ],
      "text/latex": [
       "\\begin{enumerate*}\n",
       "\\item 'TP0\\_no\\_ccs'\n",
       "\\item 'TP0\\_ccs'\n",
       "\\item 'TP1'\n",
       "\\item 'TP2'\n",
       "\\item 'TP3'\n",
       "\\item 'TP4'\n",
       "\\end{enumerate*}\n"
      ],
      "text/markdown": [
       "1. 'TP0_no_ccs'\n",
       "2. 'TP0_ccs'\n",
       "3. 'TP1'\n",
       "4. 'TP2'\n",
       "5. 'TP3'\n",
       "6. 'TP4'\n",
       "\n",
       "\n"
      ],
      "text/plain": [
       "[1] \"TP0_no_ccs\" \"TP0_ccs\"    \"TP1\"        \"TP2\"        \"TP3\"       \n",
       "[6] \"TP4\"       "
      ]
     },
     "metadata": {},
     "output_type": "display_data"
    }
   ],
   "source": [
    "unique(sample_data$measurement2)"
   ]
  },
  {
   "cell_type": "code",
   "execution_count": 81,
   "id": "73f90019-3916-4e6b-be32-4368d85ab576",
   "metadata": {},
   "outputs": [
    {
     "data": {
      "text/html": [
       "149"
      ],
      "text/latex": [
       "149"
      ],
      "text/markdown": [
       "149"
      ],
      "text/plain": [
       "[1] 149"
      ]
     },
     "metadata": {},
     "output_type": "display_data"
    }
   ],
   "source": [
    "nrow(sample_data)"
   ]
  },
  {
   "cell_type": "code",
   "execution_count": 82,
   "id": "5703bcae-177c-4923-abc5-9a2f5e7dc428",
   "metadata": {},
   "outputs": [
    {
     "data": {
      "text/html": [
       "146"
      ],
      "text/latex": [
       "146"
      ],
      "text/markdown": [
       "146"
      ],
      "text/plain": [
       "[1] 146"
      ]
     },
     "metadata": {},
     "output_type": "display_data"
    }
   ],
   "source": [
    "length(unique(sample_data$sample_id))"
   ]
  },
  {
   "cell_type": "code",
   "execution_count": 83,
   "id": "9dfed1df-9c4e-4084-b76d-97959c75c1c4",
   "metadata": {
    "tags": []
   },
   "outputs": [],
   "source": [
    "factors_merge = data.frame(factors)"
   ]
  },
  {
   "cell_type": "code",
   "execution_count": 84,
   "id": "b0242a54-2bb7-4778-8ccd-b5fb3ced0afa",
   "metadata": {
    "tags": []
   },
   "outputs": [],
   "source": [
    "factors_merge$sample_id = rownames(factors_merge)"
   ]
  },
  {
   "cell_type": "code",
   "execution_count": 85,
   "id": "765f6506-47e8-4f50-b22d-d3bd4d1c7e33",
   "metadata": {
    "tags": []
   },
   "outputs": [],
   "source": [
    "merged_data = merge(factors_merge, sample_data, by.x = 'sample_id', by.y = 'sample_id')"
   ]
  },
  {
   "cell_type": "code",
   "execution_count": 87,
   "id": "70df6e35-5e21-4565-9a5b-e39f3e82c43a",
   "metadata": {},
   "outputs": [],
   "source": [
    "#head(merged_data)"
   ]
  },
  {
   "cell_type": "code",
   "execution_count": 88,
   "id": "951c00fd-5763-42f3-a29d-512564f78a6e",
   "metadata": {},
   "outputs": [
    {
     "data": {
      "text/html": [
       "<style>\n",
       ".list-inline {list-style: none; margin:0; padding: 0}\n",
       ".list-inline>li {display: inline-block}\n",
       ".list-inline>li:not(:last-child)::after {content: \"\\00b7\"; padding: 0 .5ex}\n",
       "</style>\n",
       "<ol class=list-inline><li>'sample_id'</li><li>'PC1'</li><li>'PC2'</li><li>'PC3'</li><li>'PC4'</li><li>'PC5'</li><li>'PC6'</li><li>'PC7'</li><li>'PC8'</li><li>'PC9'</li><li>'PC10'</li><li>'X.1'</li><li>'sample'</li><li>'id'</li><li>'measurement'</li><li>'library'</li><li>'id.y'</li><li>'name'</li><li>'read'</li><li>'pattern'</li><li>'sequence'</li><li>'feature_type'</li><li>'X'</li><li>'in_sample'</li><li>'measurement_tp'</li><li>'sc_rna_seq_data'</li><li>'age'</li><li>'sex'</li><li>'classification'</li><li>'group'</li><li>'meta_data'</li><li>'delta_ef_value_group'</li><li>'delta_ef_value'</li><li>'delta_ef_value_class'</li><li>'ef_classification_data'</li><li>'CK'</li><li>'CK_MB'</li><li>'Troponin'</li><li>'CRP'</li><li>'clinical_data'</li><li>'CK_raw'</li><li>'class'</li><li>'measurement2'</li><li>'measurement_class'</li><li>'delta_ef_value_class_summarized'</li><li>'tp_outcome'</li></ol>\n"
      ],
      "text/latex": [
       "\\begin{enumerate*}\n",
       "\\item 'sample\\_id'\n",
       "\\item 'PC1'\n",
       "\\item 'PC2'\n",
       "\\item 'PC3'\n",
       "\\item 'PC4'\n",
       "\\item 'PC5'\n",
       "\\item 'PC6'\n",
       "\\item 'PC7'\n",
       "\\item 'PC8'\n",
       "\\item 'PC9'\n",
       "\\item 'PC10'\n",
       "\\item 'X.1'\n",
       "\\item 'sample'\n",
       "\\item 'id'\n",
       "\\item 'measurement'\n",
       "\\item 'library'\n",
       "\\item 'id.y'\n",
       "\\item 'name'\n",
       "\\item 'read'\n",
       "\\item 'pattern'\n",
       "\\item 'sequence'\n",
       "\\item 'feature\\_type'\n",
       "\\item 'X'\n",
       "\\item 'in\\_sample'\n",
       "\\item 'measurement\\_tp'\n",
       "\\item 'sc\\_rna\\_seq\\_data'\n",
       "\\item 'age'\n",
       "\\item 'sex'\n",
       "\\item 'classification'\n",
       "\\item 'group'\n",
       "\\item 'meta\\_data'\n",
       "\\item 'delta\\_ef\\_value\\_group'\n",
       "\\item 'delta\\_ef\\_value'\n",
       "\\item 'delta\\_ef\\_value\\_class'\n",
       "\\item 'ef\\_classification\\_data'\n",
       "\\item 'CK'\n",
       "\\item 'CK\\_MB'\n",
       "\\item 'Troponin'\n",
       "\\item 'CRP'\n",
       "\\item 'clinical\\_data'\n",
       "\\item 'CK\\_raw'\n",
       "\\item 'class'\n",
       "\\item 'measurement2'\n",
       "\\item 'measurement\\_class'\n",
       "\\item 'delta\\_ef\\_value\\_class\\_summarized'\n",
       "\\item 'tp\\_outcome'\n",
       "\\end{enumerate*}\n"
      ],
      "text/markdown": [
       "1. 'sample_id'\n",
       "2. 'PC1'\n",
       "3. 'PC2'\n",
       "4. 'PC3'\n",
       "5. 'PC4'\n",
       "6. 'PC5'\n",
       "7. 'PC6'\n",
       "8. 'PC7'\n",
       "9. 'PC8'\n",
       "10. 'PC9'\n",
       "11. 'PC10'\n",
       "12. 'X.1'\n",
       "13. 'sample'\n",
       "14. 'id'\n",
       "15. 'measurement'\n",
       "16. 'library'\n",
       "17. 'id.y'\n",
       "18. 'name'\n",
       "19. 'read'\n",
       "20. 'pattern'\n",
       "21. 'sequence'\n",
       "22. 'feature_type'\n",
       "23. 'X'\n",
       "24. 'in_sample'\n",
       "25. 'measurement_tp'\n",
       "26. 'sc_rna_seq_data'\n",
       "27. 'age'\n",
       "28. 'sex'\n",
       "29. 'classification'\n",
       "30. 'group'\n",
       "31. 'meta_data'\n",
       "32. 'delta_ef_value_group'\n",
       "33. 'delta_ef_value'\n",
       "34. 'delta_ef_value_class'\n",
       "35. 'ef_classification_data'\n",
       "36. 'CK'\n",
       "37. 'CK_MB'\n",
       "38. 'Troponin'\n",
       "39. 'CRP'\n",
       "40. 'clinical_data'\n",
       "41. 'CK_raw'\n",
       "42. 'class'\n",
       "43. 'measurement2'\n",
       "44. 'measurement_class'\n",
       "45. 'delta_ef_value_class_summarized'\n",
       "46. 'tp_outcome'\n",
       "\n",
       "\n"
      ],
      "text/plain": [
       " [1] \"sample_id\"                       \"PC1\"                            \n",
       " [3] \"PC2\"                             \"PC3\"                            \n",
       " [5] \"PC4\"                             \"PC5\"                            \n",
       " [7] \"PC6\"                             \"PC7\"                            \n",
       " [9] \"PC8\"                             \"PC9\"                            \n",
       "[11] \"PC10\"                            \"X.1\"                            \n",
       "[13] \"sample\"                          \"id\"                             \n",
       "[15] \"measurement\"                     \"library\"                        \n",
       "[17] \"id.y\"                            \"name\"                           \n",
       "[19] \"read\"                            \"pattern\"                        \n",
       "[21] \"sequence\"                        \"feature_type\"                   \n",
       "[23] \"X\"                               \"in_sample\"                      \n",
       "[25] \"measurement_tp\"                  \"sc_rna_seq_data\"                \n",
       "[27] \"age\"                             \"sex\"                            \n",
       "[29] \"classification\"                  \"group\"                          \n",
       "[31] \"meta_data\"                       \"delta_ef_value_group\"           \n",
       "[33] \"delta_ef_value\"                  \"delta_ef_value_class\"           \n",
       "[35] \"ef_classification_data\"          \"CK\"                             \n",
       "[37] \"CK_MB\"                           \"Troponin\"                       \n",
       "[39] \"CRP\"                             \"clinical_data\"                  \n",
       "[41] \"CK_raw\"                          \"class\"                          \n",
       "[43] \"measurement2\"                    \"measurement_class\"              \n",
       "[45] \"delta_ef_value_class_summarized\" \"tp_outcome\"                     "
      ]
     },
     "metadata": {},
     "output_type": "display_data"
    }
   ],
   "source": [
    "colnames(merged_data)"
   ]
  },
  {
   "cell_type": "code",
   "execution_count": 89,
   "id": "64f223d3-287c-4d03-9e89-26c30333d0cd",
   "metadata": {},
   "outputs": [
    {
     "data": {
      "text/html": [
       "128"
      ],
      "text/latex": [
       "128"
      ],
      "text/markdown": [
       "128"
      ],
      "text/plain": [
       "[1] 128"
      ]
     },
     "metadata": {},
     "output_type": "display_data"
    }
   ],
   "source": [
    "length(unique(merged_data$sample_id))"
   ]
  },
  {
   "cell_type": "code",
   "execution_count": 90,
   "id": "f602615b-ee1f-4880-8729-e0f592723439",
   "metadata": {},
   "outputs": [
    {
     "data": {
      "text/html": [
       "131"
      ],
      "text/latex": [
       "131"
      ],
      "text/markdown": [
       "131"
      ],
      "text/plain": [
       "[1] 131"
      ]
     },
     "metadata": {},
     "output_type": "display_data"
    }
   ],
   "source": [
    "nrow(merged_data)"
   ]
  },
  {
   "cell_type": "code",
   "execution_count": 91,
   "id": "222bcaa8-2e7d-4883-9fe4-9b1740ebcd9a",
   "metadata": {},
   "outputs": [],
   "source": [
    "### Prepare long format and add necessary sample columns"
   ]
  },
  {
   "cell_type": "code",
   "execution_count": 92,
   "id": "2e751414-839c-47e6-b029-45160d9c8cff",
   "metadata": {},
   "outputs": [],
   "source": [
    "merged_data$delta_ef_value = as.character(merged_data$delta_ef_value)"
   ]
  },
  {
   "cell_type": "code",
   "execution_count": 93,
   "id": "00acb4a5-9b9a-4e2a-97f4-12bf97dbcf5b",
   "metadata": {},
   "outputs": [
    {
     "name": "stderr",
     "output_type": "stream",
     "text": [
      "Using sample_id, sample, measurement, library, id.y, name, read, pattern, sequence, feature_type, X, measurement_tp, sex, classification, group, delta_ef_value_group, delta_ef_value, delta_ef_value_class, class, measurement2, measurement_class, delta_ef_value_class_summarized, tp_outcome as id variables\n",
      "\n"
     ]
    }
   ],
   "source": [
    "merged_data_long = melt(merged_data)"
   ]
  },
  {
   "cell_type": "code",
   "execution_count": 94,
   "id": "39284ece-9de3-4d2e-96af-21f36b51d1e3",
   "metadata": {},
   "outputs": [],
   "source": [
    "#head(merged_data_long,2)"
   ]
  },
  {
   "cell_type": "code",
   "execution_count": 95,
   "id": "428a4745-d671-44df-9833-421d72a5a5f3",
   "metadata": {},
   "outputs": [],
   "source": [
    "merged_data_long = merged_data_long[!is.na(str_extract(merged_data_long$variable, 'PC')),]"
   ]
  },
  {
   "cell_type": "code",
   "execution_count": 96,
   "id": "8c055c50-80d2-401c-819c-8b872d84768d",
   "metadata": {},
   "outputs": [
    {
     "data": {
      "text/html": [
       "<style>\n",
       ".list-inline {list-style: none; margin:0; padding: 0}\n",
       ".list-inline>li {display: inline-block}\n",
       ".list-inline>li:not(:last-child)::after {content: \"\\00b7\"; padding: 0 .5ex}\n",
       "</style>\n",
       "<ol class=list-inline><li>'sample_id'</li><li>'sample'</li><li>'measurement'</li><li>'library'</li><li>'id.y'</li><li>'name'</li><li>'read'</li><li>'pattern'</li><li>'sequence'</li><li>'feature_type'</li><li>'X'</li><li>'measurement_tp'</li><li>'sex'</li><li>'classification'</li><li>'group'</li><li>'delta_ef_value_group'</li><li>'delta_ef_value'</li><li>'delta_ef_value_class'</li><li>'class'</li><li>'measurement2'</li><li>'measurement_class'</li><li>'delta_ef_value_class_summarized'</li><li>'tp_outcome'</li><li>'variable'</li><li>'value'</li></ol>\n"
      ],
      "text/latex": [
       "\\begin{enumerate*}\n",
       "\\item 'sample\\_id'\n",
       "\\item 'sample'\n",
       "\\item 'measurement'\n",
       "\\item 'library'\n",
       "\\item 'id.y'\n",
       "\\item 'name'\n",
       "\\item 'read'\n",
       "\\item 'pattern'\n",
       "\\item 'sequence'\n",
       "\\item 'feature\\_type'\n",
       "\\item 'X'\n",
       "\\item 'measurement\\_tp'\n",
       "\\item 'sex'\n",
       "\\item 'classification'\n",
       "\\item 'group'\n",
       "\\item 'delta\\_ef\\_value\\_group'\n",
       "\\item 'delta\\_ef\\_value'\n",
       "\\item 'delta\\_ef\\_value\\_class'\n",
       "\\item 'class'\n",
       "\\item 'measurement2'\n",
       "\\item 'measurement\\_class'\n",
       "\\item 'delta\\_ef\\_value\\_class\\_summarized'\n",
       "\\item 'tp\\_outcome'\n",
       "\\item 'variable'\n",
       "\\item 'value'\n",
       "\\end{enumerate*}\n"
      ],
      "text/markdown": [
       "1. 'sample_id'\n",
       "2. 'sample'\n",
       "3. 'measurement'\n",
       "4. 'library'\n",
       "5. 'id.y'\n",
       "6. 'name'\n",
       "7. 'read'\n",
       "8. 'pattern'\n",
       "9. 'sequence'\n",
       "10. 'feature_type'\n",
       "11. 'X'\n",
       "12. 'measurement_tp'\n",
       "13. 'sex'\n",
       "14. 'classification'\n",
       "15. 'group'\n",
       "16. 'delta_ef_value_group'\n",
       "17. 'delta_ef_value'\n",
       "18. 'delta_ef_value_class'\n",
       "19. 'class'\n",
       "20. 'measurement2'\n",
       "21. 'measurement_class'\n",
       "22. 'delta_ef_value_class_summarized'\n",
       "23. 'tp_outcome'\n",
       "24. 'variable'\n",
       "25. 'value'\n",
       "\n",
       "\n"
      ],
      "text/plain": [
       " [1] \"sample_id\"                       \"sample\"                         \n",
       " [3] \"measurement\"                     \"library\"                        \n",
       " [5] \"id.y\"                            \"name\"                           \n",
       " [7] \"read\"                            \"pattern\"                        \n",
       " [9] \"sequence\"                        \"feature_type\"                   \n",
       "[11] \"X\"                               \"measurement_tp\"                 \n",
       "[13] \"sex\"                             \"classification\"                 \n",
       "[15] \"group\"                           \"delta_ef_value_group\"           \n",
       "[17] \"delta_ef_value\"                  \"delta_ef_value_class\"           \n",
       "[19] \"class\"                           \"measurement2\"                   \n",
       "[21] \"measurement_class\"               \"delta_ef_value_class_summarized\"\n",
       "[23] \"tp_outcome\"                      \"variable\"                       \n",
       "[25] \"value\"                          "
      ]
     },
     "metadata": {},
     "output_type": "display_data"
    }
   ],
   "source": [
    "colnames(merged_data_long)"
   ]
  },
  {
   "cell_type": "code",
   "execution_count": 97,
   "id": "49ffbcb1-8bc8-40ab-b69d-d3293d35f41e",
   "metadata": {},
   "outputs": [
    {
     "data": {
      "text/html": [
       "<style>\n",
       ".list-inline {list-style: none; margin:0; padding: 0}\n",
       ".list-inline>li {display: inline-block}\n",
       ".list-inline>li:not(:last-child)::after {content: \"\\00b7\"; padding: 0 .5ex}\n",
       "</style>\n",
       "<ol class=list-inline><li>'vollstaendiger_ausschluss'</li><li>'ccs'</li><li>'koronarsklerose'</li><li>'acs_subacute'</li><li>'acs_w_infection'</li><li>'acs_w_o_infection'</li></ol>\n"
      ],
      "text/latex": [
       "\\begin{enumerate*}\n",
       "\\item 'vollstaendiger\\_ausschluss'\n",
       "\\item 'ccs'\n",
       "\\item 'koronarsklerose'\n",
       "\\item 'acs\\_subacute'\n",
       "\\item 'acs\\_w\\_infection'\n",
       "\\item 'acs\\_w\\_o\\_infection'\n",
       "\\end{enumerate*}\n"
      ],
      "text/markdown": [
       "1. 'vollstaendiger_ausschluss'\n",
       "2. 'ccs'\n",
       "3. 'koronarsklerose'\n",
       "4. 'acs_subacute'\n",
       "5. 'acs_w_infection'\n",
       "6. 'acs_w_o_infection'\n",
       "\n",
       "\n"
      ],
      "text/plain": [
       "[1] \"vollstaendiger_ausschluss\" \"ccs\"                      \n",
       "[3] \"koronarsklerose\"           \"acs_subacute\"             \n",
       "[5] \"acs_w_infection\"           \"acs_w_o_infection\"        "
      ]
     },
     "metadata": {},
     "output_type": "display_data"
    }
   ],
   "source": [
    "unique(merged_data_long$classification)"
   ]
  },
  {
   "cell_type": "code",
   "execution_count": 98,
   "id": "daf70f82-d7b4-40cb-9797-0f8af86cae1c",
   "metadata": {},
   "outputs": [
    {
     "data": {
      "text/html": [
       "<style>\n",
       ".list-inline {list-style: none; margin:0; padding: 0}\n",
       ".list-inline>li {display: inline-block}\n",
       ".list-inline>li:not(:last-child)::after {content: \"\\00b7\"; padding: 0 .5ex}\n",
       "</style>\n",
       "<ol class=list-inline><li>'TP0'</li><li>'TP1'</li><li>'TP2'</li><li>'TP3'</li><li>'TP4'</li></ol>\n"
      ],
      "text/latex": [
       "\\begin{enumerate*}\n",
       "\\item 'TP0'\n",
       "\\item 'TP1'\n",
       "\\item 'TP2'\n",
       "\\item 'TP3'\n",
       "\\item 'TP4'\n",
       "\\end{enumerate*}\n"
      ],
      "text/markdown": [
       "1. 'TP0'\n",
       "2. 'TP1'\n",
       "3. 'TP2'\n",
       "4. 'TP3'\n",
       "5. 'TP4'\n",
       "\n",
       "\n"
      ],
      "text/plain": [
       "[1] \"TP0\" \"TP1\" \"TP2\" \"TP3\" \"TP4\""
      ]
     },
     "metadata": {},
     "output_type": "display_data"
    }
   ],
   "source": [
    "unique(merged_data_long$measurement)"
   ]
  },
  {
   "cell_type": "code",
   "execution_count": 99,
   "id": "64aa64d4-31d7-4b45-9638-c6078a48fb59",
   "metadata": {},
   "outputs": [
    {
     "data": {
      "text/html": [
       "<style>\n",
       ".list-inline {list-style: none; margin:0; padding: 0}\n",
       ".list-inline>li {display: inline-block}\n",
       ".list-inline>li:not(:last-child)::after {content: \"\\00b7\"; padding: 0 .5ex}\n",
       "</style>\n",
       "<ol class=list-inline><li>'TP0_vollstaendiger_ausschluss'</li><li>'TP0_ccs'</li><li>'TP0_koronarsklerose'</li><li>'TP1_acs_subacute'</li><li>'TP1_acs_w_infection'</li><li>'TP2_acs_w_infection'</li><li>'TP3_acs_w_infection'</li><li>'TP1_acs_w_o_infection'</li><li>'TP2_acs_w_o_infection'</li><li>'TP3_acs_w_o_infection'</li><li>'TP4_acs_w_o_infection'</li><li>'TP4_acs_w_infection'</li><li>'TP2_acs_subacute'</li><li>'TP3_acs_subacute'</li><li>'TP4_acs_subacute'</li></ol>\n"
      ],
      "text/latex": [
       "\\begin{enumerate*}\n",
       "\\item 'TP0\\_vollstaendiger\\_ausschluss'\n",
       "\\item 'TP0\\_ccs'\n",
       "\\item 'TP0\\_koronarsklerose'\n",
       "\\item 'TP1\\_acs\\_subacute'\n",
       "\\item 'TP1\\_acs\\_w\\_infection'\n",
       "\\item 'TP2\\_acs\\_w\\_infection'\n",
       "\\item 'TP3\\_acs\\_w\\_infection'\n",
       "\\item 'TP1\\_acs\\_w\\_o\\_infection'\n",
       "\\item 'TP2\\_acs\\_w\\_o\\_infection'\n",
       "\\item 'TP3\\_acs\\_w\\_o\\_infection'\n",
       "\\item 'TP4\\_acs\\_w\\_o\\_infection'\n",
       "\\item 'TP4\\_acs\\_w\\_infection'\n",
       "\\item 'TP2\\_acs\\_subacute'\n",
       "\\item 'TP3\\_acs\\_subacute'\n",
       "\\item 'TP4\\_acs\\_subacute'\n",
       "\\end{enumerate*}\n"
      ],
      "text/markdown": [
       "1. 'TP0_vollstaendiger_ausschluss'\n",
       "2. 'TP0_ccs'\n",
       "3. 'TP0_koronarsklerose'\n",
       "4. 'TP1_acs_subacute'\n",
       "5. 'TP1_acs_w_infection'\n",
       "6. 'TP2_acs_w_infection'\n",
       "7. 'TP3_acs_w_infection'\n",
       "8. 'TP1_acs_w_o_infection'\n",
       "9. 'TP2_acs_w_o_infection'\n",
       "10. 'TP3_acs_w_o_infection'\n",
       "11. 'TP4_acs_w_o_infection'\n",
       "12. 'TP4_acs_w_infection'\n",
       "13. 'TP2_acs_subacute'\n",
       "14. 'TP3_acs_subacute'\n",
       "15. 'TP4_acs_subacute'\n",
       "\n",
       "\n"
      ],
      "text/plain": [
       " [1] \"TP0_vollstaendiger_ausschluss\" \"TP0_ccs\"                      \n",
       " [3] \"TP0_koronarsklerose\"           \"TP1_acs_subacute\"             \n",
       " [5] \"TP1_acs_w_infection\"           \"TP2_acs_w_infection\"          \n",
       " [7] \"TP3_acs_w_infection\"           \"TP1_acs_w_o_infection\"        \n",
       " [9] \"TP2_acs_w_o_infection\"         \"TP3_acs_w_o_infection\"        \n",
       "[11] \"TP4_acs_w_o_infection\"         \"TP4_acs_w_infection\"          \n",
       "[13] \"TP2_acs_subacute\"              \"TP3_acs_subacute\"             \n",
       "[15] \"TP4_acs_subacute\"             "
      ]
     },
     "metadata": {},
     "output_type": "display_data"
    }
   ],
   "source": [
    "unique(merged_data_long$measurement_class)"
   ]
  },
  {
   "cell_type": "code",
   "execution_count": 100,
   "id": "2f487f73-126a-4e82-b836-3ebc2673f256",
   "metadata": {},
   "outputs": [],
   "source": [
    "merged_data_long$class_measurement = merged_data_long$group\n",
    "merged_data_long$class_measurement[merged_data_long$measurement %in% c('TP1', 'TP2', 'TP3', 'TP4')] =merged_data_long$measurement[merged_data_long$measurement %in% c('TP1', 'TP2', 'TP3', 'TP4')] "
   ]
  },
  {
   "cell_type": "code",
   "execution_count": 101,
   "id": "1a6bbaa9-67d3-42f8-a99b-bf2e2f0c8763",
   "metadata": {},
   "outputs": [
    {
     "data": {
      "text/html": [
       "<style>\n",
       ".list-inline {list-style: none; margin:0; padding: 0}\n",
       ".list-inline>li {display: inline-block}\n",
       ".list-inline>li:not(:last-child)::after {content: \"\\00b7\"; padding: 0 .5ex}\n",
       "</style>\n",
       "<ol class=list-inline><li>'no_ccs'</li><li>'ccs'</li><li>'TP1'</li><li>'TP2'</li><li>'TP3'</li><li>'TP4'</li></ol>\n"
      ],
      "text/latex": [
       "\\begin{enumerate*}\n",
       "\\item 'no\\_ccs'\n",
       "\\item 'ccs'\n",
       "\\item 'TP1'\n",
       "\\item 'TP2'\n",
       "\\item 'TP3'\n",
       "\\item 'TP4'\n",
       "\\end{enumerate*}\n"
      ],
      "text/markdown": [
       "1. 'no_ccs'\n",
       "2. 'ccs'\n",
       "3. 'TP1'\n",
       "4. 'TP2'\n",
       "5. 'TP3'\n",
       "6. 'TP4'\n",
       "\n",
       "\n"
      ],
      "text/plain": [
       "[1] \"no_ccs\" \"ccs\"    \"TP1\"    \"TP2\"    \"TP3\"    \"TP4\"   "
      ]
     },
     "metadata": {},
     "output_type": "display_data"
    }
   ],
   "source": [
    "unique(merged_data_long$class_measurement)"
   ]
  },
  {
   "cell_type": "markdown",
   "id": "b23a8144-d20d-45de-abf9-5f9200196b69",
   "metadata": {},
   "source": [
    "## Visualize Factor Patterns (Boxplot/ Lineplot)"
   ]
  },
  {
   "cell_type": "markdown",
   "id": "549c4492-4bdd-4fcc-896b-f4b16d293e0e",
   "metadata": {},
   "source": [
    "### All factors pattern visualization"
   ]
  },
  {
   "cell_type": "code",
   "execution_count": 102,
   "id": "25f994e8-bf87-4345-8d6c-c0ac524d9268",
   "metadata": {},
   "outputs": [
    {
     "data": {
      "text/html": [
       "<style>\n",
       ".list-inline {list-style: none; margin:0; padding: 0}\n",
       ".list-inline>li {display: inline-block}\n",
       ".list-inline>li:not(:last-child)::after {content: \"\\00b7\"; padding: 0 .5ex}\n",
       "</style>\n",
       "<ol class=list-inline><li>'TP0'</li><li>'TP1'</li><li>'TP2'</li><li>'TP3'</li><li>'TP4'</li></ol>\n"
      ],
      "text/latex": [
       "\\begin{enumerate*}\n",
       "\\item 'TP0'\n",
       "\\item 'TP1'\n",
       "\\item 'TP2'\n",
       "\\item 'TP3'\n",
       "\\item 'TP4'\n",
       "\\end{enumerate*}\n"
      ],
      "text/markdown": [
       "1. 'TP0'\n",
       "2. 'TP1'\n",
       "3. 'TP2'\n",
       "4. 'TP3'\n",
       "5. 'TP4'\n",
       "\n",
       "\n"
      ],
      "text/plain": [
       "[1] \"TP0\" \"TP1\" \"TP2\" \"TP3\" \"TP4\""
      ]
     },
     "metadata": {},
     "output_type": "display_data"
    }
   ],
   "source": [
    "unique(merged_data_long$measurement)"
   ]
  },
  {
   "cell_type": "code",
   "execution_count": 103,
   "id": "ac065b05-fd21-4b31-8fdb-5b3ccf39f35f",
   "metadata": {},
   "outputs": [],
   "source": [
    "merged_data_long$measurement_concat = merged_data_long$measurement\n",
    "\n",
    "merged_data_long$measurement_concat[merged_data_long$measurement == 'TP0'] = paste0(merged_data_long$measurement[merged_data_long$measurement == 'TP0'], '_',\n",
    "            merged_data_long$class[merged_data_long$measurement == 'TP0'])"
   ]
  },
  {
   "cell_type": "code",
   "execution_count": 104,
   "id": "3a73e706-979a-4809-967d-c64f24b28551",
   "metadata": {},
   "outputs": [],
   "source": [
    "merged_data_long$measurement_concat = str_replace(merged_data_long$measurement_concat, 'TP0_no_ccs', 'No CCS')\n",
    "merged_data_long$measurement_concat = str_replace(merged_data_long$measurement_concat, 'TP0_ccs', 'CCS')"
   ]
  },
  {
   "cell_type": "code",
   "execution_count": 105,
   "id": "f28ecc59-3bf1-4d11-82da-7cab0641d911",
   "metadata": {},
   "outputs": [
    {
     "data": {
      "text/html": [
       "<style>\n",
       ".list-inline {list-style: none; margin:0; padding: 0}\n",
       ".list-inline>li {display: inline-block}\n",
       ".list-inline>li:not(:last-child)::after {content: \"\\00b7\"; padding: 0 .5ex}\n",
       "</style>\n",
       "<ol class=list-inline><li>'No CCS'</li><li>'CCS'</li><li>'TP1'</li><li>'TP2'</li><li>'TP3'</li><li>'TP4'</li></ol>\n"
      ],
      "text/latex": [
       "\\begin{enumerate*}\n",
       "\\item 'No CCS'\n",
       "\\item 'CCS'\n",
       "\\item 'TP1'\n",
       "\\item 'TP2'\n",
       "\\item 'TP3'\n",
       "\\item 'TP4'\n",
       "\\end{enumerate*}\n"
      ],
      "text/markdown": [
       "1. 'No CCS'\n",
       "2. 'CCS'\n",
       "3. 'TP1'\n",
       "4. 'TP2'\n",
       "5. 'TP3'\n",
       "6. 'TP4'\n",
       "\n",
       "\n"
      ],
      "text/plain": [
       "[1] \"No CCS\" \"CCS\"    \"TP1\"    \"TP2\"    \"TP3\"    \"TP4\"   "
      ]
     },
     "metadata": {},
     "output_type": "display_data"
    }
   ],
   "source": [
    "unique(merged_data_long$measurement_concat)"
   ]
  },
  {
   "cell_type": "code",
   "execution_count": 106,
   "id": "f7006a0c-e6b5-42ce-85c9-b5443d428248",
   "metadata": {},
   "outputs": [],
   "source": [
    "figure_name = \"SUPP2_PCA_Pattern_Time\""
   ]
  },
  {
   "cell_type": "code",
   "execution_count": 107,
   "id": "b710c373-b23a-4871-9f30-3d91f7c52f08",
   "metadata": {},
   "outputs": [],
   "source": [
    "# Specific Text Descriptions:\n",
    "xlabel = xlab('') \n",
    "ylabel = ylab('Factor Value')"
   ]
  },
  {
   "cell_type": "code",
   "execution_count": 108,
   "id": "92e5b591-d8fa-4930-983b-288a73cf85ee",
   "metadata": {},
   "outputs": [],
   "source": [
    "# Sizes of the plot\n",
    "width_par = 8.07\n",
    "height_par = 3.5"
   ]
  },
  {
   "cell_type": "code",
   "execution_count": 109,
   "id": "fa95ae51-4d58-435a-b50d-c21fea353fa8",
   "metadata": {},
   "outputs": [
    {
     "data": {
      "text/html": [
       "<strong>png:</strong> 2"
      ],
      "text/latex": [
       "\\textbf{png:} 2"
      ],
      "text/markdown": [
       "**png:** 2"
      ],
      "text/plain": [
       "png \n",
       "  2 "
      ]
     },
     "metadata": {},
     "output_type": "display_data"
    },
    {
     "data": {
      "image/png": "[encoded data removed]",
      "text/plain": [
       "plot without title"
      ]
     },
     "metadata": {
      "image/png": {
       "height": 420,
       "width": 420
      }
     },
     "output_type": "display_data"
    }
   ],
   "source": [
    "# grouped boxplot\n",
    "#options(repr.plot.width=30, repr.plot.height=10)\n",
    "\n",
    "vis_data = merged_data_long\n",
    "g = ggplot(vis_data, aes(x=variable, y=value, fill = measurement_concat))  + \n",
    "    plot_config +\n",
    "    xlabel + \n",
    "    ylabel +\n",
    "    ccs_tp_fill +\n",
    "    ggtitle('Pattern of factor values') + \n",
    "    theme(legend.position = \"bottom\", axis.text.x = element_text(angle = 90))+\n",
    "    geom_boxplot(outlier.size = 0.05) \n",
    "#print(g)\n",
    "\n",
    "pdf(paste0('figures/Supplementary_Figures/', figure_name,name,  '.pdf'), width =width_par, height =height_par)\n",
    "print(g)\n",
    "dev.off()\n",
    "print(g)\n",
    "\n"
   ]
  },
  {
   "cell_type": "markdown",
   "id": "8f2ef6cd-166a-4683-b95e-2aea99ecc666",
   "metadata": {},
   "source": [
    "# Compare weights MOFA / PCA"
   ]
  },
  {
   "cell_type": "code",
   "execution_count": 110,
   "id": "bcd809a7-e006-4814-aadc-dacadc579df2",
   "metadata": {},
   "outputs": [
    {
     "data": {
      "text/html": [
       "<table class=\"dataframe\">\n",
       "<caption>A data.frame: 2 × 128</caption>\n",
       "<thead>\n",
       "\t<tr><th></th><th scope=col>PC1</th><th scope=col>PC2</th><th scope=col>PC3</th><th scope=col>PC4</th><th scope=col>PC5</th><th scope=col>PC6</th><th scope=col>PC7</th><th scope=col>PC8</th><th scope=col>PC9</th><th scope=col>PC10</th><th scope=col>⋯</th><th scope=col>PC119</th><th scope=col>PC120</th><th scope=col>PC121</th><th scope=col>PC122</th><th scope=col>PC123</th><th scope=col>PC124</th><th scope=col>PC125</th><th scope=col>PC126</th><th scope=col>PC127</th><th scope=col>PC128</th></tr>\n",
       "\t<tr><th></th><th scope=col>&lt;dbl&gt;</th><th scope=col>&lt;dbl&gt;</th><th scope=col>&lt;dbl&gt;</th><th scope=col>&lt;dbl&gt;</th><th scope=col>&lt;dbl&gt;</th><th scope=col>&lt;dbl&gt;</th><th scope=col>&lt;dbl&gt;</th><th scope=col>&lt;dbl&gt;</th><th scope=col>&lt;dbl&gt;</th><th scope=col>&lt;dbl&gt;</th><th scope=col>⋯</th><th scope=col>&lt;dbl&gt;</th><th scope=col>&lt;dbl&gt;</th><th scope=col>&lt;dbl&gt;</th><th scope=col>&lt;dbl&gt;</th><th scope=col>&lt;dbl&gt;</th><th scope=col>&lt;dbl&gt;</th><th scope=col>&lt;dbl&gt;</th><th scope=col>&lt;dbl&gt;</th><th scope=col>&lt;dbl&gt;</th><th scope=col>&lt;dbl&gt;</th></tr>\n",
       "</thead>\n",
       "<tbody>\n",
       "\t<tr><th scope=row>clinical_data_0_CK</th><td>0.008472125</td><td>0.016713433</td><td>0.006835005</td><td>-0.0003811446</td><td>0.006886444</td><td>-0.007398856</td><td>-0.0060602030</td><td>0.002797430</td><td>-0.002537761</td><td>0.018403093</td><td>⋯</td><td>0.03667011</td><td>0.04729318</td><td>0.03950562</td><td>-0.007325696</td><td>0.01255162</td><td>-0.070155411</td><td>-0.008536494</td><td>0.06603417</td><td>-0.019997847</td><td>0.03631375</td></tr>\n",
       "\t<tr><th scope=row>clinical_data_0_CK_MB</th><td>0.002881206</td><td>0.008077372</td><td>0.007938372</td><td> 0.0016851504</td><td>0.003544733</td><td>-0.001535679</td><td> 0.0003993402</td><td>0.007402722</td><td>-0.006892604</td><td>0.009907261</td><td>⋯</td><td>0.03417031</td><td>0.04142949</td><td>0.03284893</td><td> 0.016089608</td><td>0.04692741</td><td> 0.008392392</td><td>-0.009462436</td><td>0.03839216</td><td> 0.009774241</td><td>0.12247879</td></tr>\n",
       "</tbody>\n",
       "</table>\n"
      ],
      "text/latex": [
       "A data.frame: 2 × 128\n",
       "\\begin{tabular}{r|lllllllllllllllllllll}\n",
       "  & PC1 & PC2 & PC3 & PC4 & PC5 & PC6 & PC7 & PC8 & PC9 & PC10 & ⋯ & PC119 & PC120 & PC121 & PC122 & PC123 & PC124 & PC125 & PC126 & PC127 & PC128\\\\\n",
       "  & <dbl> & <dbl> & <dbl> & <dbl> & <dbl> & <dbl> & <dbl> & <dbl> & <dbl> & <dbl> & ⋯ & <dbl> & <dbl> & <dbl> & <dbl> & <dbl> & <dbl> & <dbl> & <dbl> & <dbl> & <dbl>\\\\\n",
       "\\hline\n",
       "\tclinical\\_data\\_0\\_CK & 0.008472125 & 0.016713433 & 0.006835005 & -0.0003811446 & 0.006886444 & -0.007398856 & -0.0060602030 & 0.002797430 & -0.002537761 & 0.018403093 & ⋯ & 0.03667011 & 0.04729318 & 0.03950562 & -0.007325696 & 0.01255162 & -0.070155411 & -0.008536494 & 0.06603417 & -0.019997847 & 0.03631375\\\\\n",
       "\tclinical\\_data\\_0\\_CK\\_MB & 0.002881206 & 0.008077372 & 0.007938372 &  0.0016851504 & 0.003544733 & -0.001535679 &  0.0003993402 & 0.007402722 & -0.006892604 & 0.009907261 & ⋯ & 0.03417031 & 0.04142949 & 0.03284893 &  0.016089608 & 0.04692741 &  0.008392392 & -0.009462436 & 0.03839216 &  0.009774241 & 0.12247879\\\\\n",
       "\\end{tabular}\n"
      ],
      "text/markdown": [
       "\n",
       "A data.frame: 2 × 128\n",
       "\n",
       "| <!--/--> | PC1 &lt;dbl&gt; | PC2 &lt;dbl&gt; | PC3 &lt;dbl&gt; | PC4 &lt;dbl&gt; | PC5 &lt;dbl&gt; | PC6 &lt;dbl&gt; | PC7 &lt;dbl&gt; | PC8 &lt;dbl&gt; | PC9 &lt;dbl&gt; | PC10 &lt;dbl&gt; | ⋯ ⋯ | PC119 &lt;dbl&gt; | PC120 &lt;dbl&gt; | PC121 &lt;dbl&gt; | PC122 &lt;dbl&gt; | PC123 &lt;dbl&gt; | PC124 &lt;dbl&gt; | PC125 &lt;dbl&gt; | PC126 &lt;dbl&gt; | PC127 &lt;dbl&gt; | PC128 &lt;dbl&gt; |\n",
       "|---|---|---|---|---|---|---|---|---|---|---|---|---|---|---|---|---|---|---|---|---|---|\n",
       "| clinical_data_0_CK | 0.008472125 | 0.016713433 | 0.006835005 | -0.0003811446 | 0.006886444 | -0.007398856 | -0.0060602030 | 0.002797430 | -0.002537761 | 0.018403093 | ⋯ | 0.03667011 | 0.04729318 | 0.03950562 | -0.007325696 | 0.01255162 | -0.070155411 | -0.008536494 | 0.06603417 | -0.019997847 | 0.03631375 |\n",
       "| clinical_data_0_CK_MB | 0.002881206 | 0.008077372 | 0.007938372 |  0.0016851504 | 0.003544733 | -0.001535679 |  0.0003993402 | 0.007402722 | -0.006892604 | 0.009907261 | ⋯ | 0.03417031 | 0.04142949 | 0.03284893 |  0.016089608 | 0.04692741 |  0.008392392 | -0.009462436 | 0.03839216 |  0.009774241 | 0.12247879 |\n",
       "\n"
      ],
      "text/plain": [
       "                      PC1         PC2         PC3         PC4          \n",
       "clinical_data_0_CK    0.008472125 0.016713433 0.006835005 -0.0003811446\n",
       "clinical_data_0_CK_MB 0.002881206 0.008077372 0.007938372  0.0016851504\n",
       "                      PC5         PC6          PC7           PC8        \n",
       "clinical_data_0_CK    0.006886444 -0.007398856 -0.0060602030 0.002797430\n",
       "clinical_data_0_CK_MB 0.003544733 -0.001535679  0.0003993402 0.007402722\n",
       "                      PC9          PC10        ⋯ PC119      PC120     \n",
       "clinical_data_0_CK    -0.002537761 0.018403093 ⋯ 0.03667011 0.04729318\n",
       "clinical_data_0_CK_MB -0.006892604 0.009907261 ⋯ 0.03417031 0.04142949\n",
       "                      PC121      PC122        PC123      PC124       \n",
       "clinical_data_0_CK    0.03950562 -0.007325696 0.01255162 -0.070155411\n",
       "clinical_data_0_CK_MB 0.03284893  0.016089608 0.04692741  0.008392392\n",
       "                      PC125        PC126      PC127        PC128     \n",
       "clinical_data_0_CK    -0.008536494 0.06603417 -0.019997847 0.03631375\n",
       "clinical_data_0_CK_MB -0.009462436 0.03839216  0.009774241 0.12247879"
      ]
     },
     "metadata": {},
     "output_type": "display_data"
    }
   ],
   "source": [
    "head(weights,2)"
   ]
  },
  {
   "cell_type": "code",
   "execution_count": 111,
   "id": "81b133a6-90a2-41d8-b9af-d4fb898e1f74",
   "metadata": {},
   "outputs": [],
   "source": [
    "weights = weights[, 1:10]"
   ]
  },
  {
   "cell_type": "code",
   "execution_count": 112,
   "id": "cc447211-fbeb-429e-8443-8bfcec8a7ba0",
   "metadata": {},
   "outputs": [
    {
     "data": {
      "text/html": [
       "<table class=\"dataframe\">\n",
       "<caption>A data.frame: 2 × 22</caption>\n",
       "<thead>\n",
       "\t<tr><th></th><th scope=col>Factor1</th><th scope=col>Factor2</th><th scope=col>Factor3</th><th scope=col>Factor4</th><th scope=col>Factor5</th><th scope=col>Factor6</th><th scope=col>Factor7</th><th scope=col>Factor8</th><th scope=col>Factor9</th><th scope=col>Factor10</th><th scope=col>⋯</th><th scope=col>Factor13</th><th scope=col>Factor14</th><th scope=col>Factor15</th><th scope=col>Factor16</th><th scope=col>Factor17</th><th scope=col>Factor18</th><th scope=col>Factor19</th><th scope=col>Factor20</th><th scope=col>type</th><th scope=col>variable_name</th></tr>\n",
       "\t<tr><th></th><th scope=col>&lt;dbl&gt;</th><th scope=col>&lt;dbl&gt;</th><th scope=col>&lt;dbl&gt;</th><th scope=col>&lt;dbl&gt;</th><th scope=col>&lt;dbl&gt;</th><th scope=col>&lt;dbl&gt;</th><th scope=col>&lt;dbl&gt;</th><th scope=col>&lt;dbl&gt;</th><th scope=col>&lt;dbl&gt;</th><th scope=col>&lt;dbl&gt;</th><th scope=col>⋯</th><th scope=col>&lt;dbl&gt;</th><th scope=col>&lt;dbl&gt;</th><th scope=col>&lt;dbl&gt;</th><th scope=col>&lt;dbl&gt;</th><th scope=col>&lt;dbl&gt;</th><th scope=col>&lt;dbl&gt;</th><th scope=col>&lt;dbl&gt;</th><th scope=col>&lt;dbl&gt;</th><th scope=col>&lt;chr&gt;</th><th scope=col>&lt;chr&gt;</th></tr>\n",
       "</thead>\n",
       "<tbody>\n",
       "\t<tr><th scope=row>1</th><td>-0.13418597</td><td>0.4019222</td><td>-0.1010765</td><td>-0.002177566</td><td>-0.5093667</td><td>0.24179134</td><td>-0.03635097</td><td>0.05304519</td><td> 0.0011574664</td><td>-0.012307130</td><td>⋯</td><td>-0.1604505</td><td>-0.001418618</td><td>0.1540945</td><td> 0.003821864</td><td>-0.24205661</td><td>0.004092582</td><td>-0.0005618720</td><td>-0.2423944</td><td>clinical_data</td><td>CK   </td></tr>\n",
       "\t<tr><th scope=row>2</th><td>-0.06222621</td><td>0.2731985</td><td>-0.2000362</td><td>-0.076098327</td><td>-0.1439445</td><td>0.04289833</td><td>-0.71818597</td><td>0.18658970</td><td>-0.0007753517</td><td>-0.003074308</td><td>⋯</td><td>-0.6107162</td><td> 0.002499494</td><td>0.3864464</td><td>-0.001090137</td><td>-0.08311704</td><td>0.009503498</td><td>-0.0003621744</td><td> 0.2060158</td><td>clinical_data</td><td>CK_MB</td></tr>\n",
       "</tbody>\n",
       "</table>\n"
      ],
      "text/latex": [
       "A data.frame: 2 × 22\n",
       "\\begin{tabular}{r|lllllllllllllllllllll}\n",
       "  & Factor1 & Factor2 & Factor3 & Factor4 & Factor5 & Factor6 & Factor7 & Factor8 & Factor9 & Factor10 & ⋯ & Factor13 & Factor14 & Factor15 & Factor16 & Factor17 & Factor18 & Factor19 & Factor20 & type & variable\\_name\\\\\n",
       "  & <dbl> & <dbl> & <dbl> & <dbl> & <dbl> & <dbl> & <dbl> & <dbl> & <dbl> & <dbl> & ⋯ & <dbl> & <dbl> & <dbl> & <dbl> & <dbl> & <dbl> & <dbl> & <dbl> & <chr> & <chr>\\\\\n",
       "\\hline\n",
       "\t1 & -0.13418597 & 0.4019222 & -0.1010765 & -0.002177566 & -0.5093667 & 0.24179134 & -0.03635097 & 0.05304519 &  0.0011574664 & -0.012307130 & ⋯ & -0.1604505 & -0.001418618 & 0.1540945 &  0.003821864 & -0.24205661 & 0.004092582 & -0.0005618720 & -0.2423944 & clinical\\_data & CK   \\\\\n",
       "\t2 & -0.06222621 & 0.2731985 & -0.2000362 & -0.076098327 & -0.1439445 & 0.04289833 & -0.71818597 & 0.18658970 & -0.0007753517 & -0.003074308 & ⋯ & -0.6107162 &  0.002499494 & 0.3864464 & -0.001090137 & -0.08311704 & 0.009503498 & -0.0003621744 &  0.2060158 & clinical\\_data & CK\\_MB\\\\\n",
       "\\end{tabular}\n"
      ],
      "text/markdown": [
       "\n",
       "A data.frame: 2 × 22\n",
       "\n",
       "| <!--/--> | Factor1 &lt;dbl&gt; | Factor2 &lt;dbl&gt; | Factor3 &lt;dbl&gt; | Factor4 &lt;dbl&gt; | Factor5 &lt;dbl&gt; | Factor6 &lt;dbl&gt; | Factor7 &lt;dbl&gt; | Factor8 &lt;dbl&gt; | Factor9 &lt;dbl&gt; | Factor10 &lt;dbl&gt; | ⋯ ⋯ | Factor13 &lt;dbl&gt; | Factor14 &lt;dbl&gt; | Factor15 &lt;dbl&gt; | Factor16 &lt;dbl&gt; | Factor17 &lt;dbl&gt; | Factor18 &lt;dbl&gt; | Factor19 &lt;dbl&gt; | Factor20 &lt;dbl&gt; | type &lt;chr&gt; | variable_name &lt;chr&gt; |\n",
       "|---|---|---|---|---|---|---|---|---|---|---|---|---|---|---|---|---|---|---|---|---|---|\n",
       "| 1 | -0.13418597 | 0.4019222 | -0.1010765 | -0.002177566 | -0.5093667 | 0.24179134 | -0.03635097 | 0.05304519 |  0.0011574664 | -0.012307130 | ⋯ | -0.1604505 | -0.001418618 | 0.1540945 |  0.003821864 | -0.24205661 | 0.004092582 | -0.0005618720 | -0.2423944 | clinical_data | CK    |\n",
       "| 2 | -0.06222621 | 0.2731985 | -0.2000362 | -0.076098327 | -0.1439445 | 0.04289833 | -0.71818597 | 0.18658970 | -0.0007753517 | -0.003074308 | ⋯ | -0.6107162 |  0.002499494 | 0.3864464 | -0.001090137 | -0.08311704 | 0.009503498 | -0.0003621744 |  0.2060158 | clinical_data | CK_MB |\n",
       "\n"
      ],
      "text/plain": [
       "  Factor1     Factor2   Factor3    Factor4      Factor5    Factor6   \n",
       "1 -0.13418597 0.4019222 -0.1010765 -0.002177566 -0.5093667 0.24179134\n",
       "2 -0.06222621 0.2731985 -0.2000362 -0.076098327 -0.1439445 0.04289833\n",
       "  Factor7     Factor8    Factor9       Factor10     ⋯ Factor13   Factor14    \n",
       "1 -0.03635097 0.05304519  0.0011574664 -0.012307130 ⋯ -0.1604505 -0.001418618\n",
       "2 -0.71818597 0.18658970 -0.0007753517 -0.003074308 ⋯ -0.6107162  0.002499494\n",
       "  Factor15  Factor16     Factor17    Factor18    Factor19      Factor20  \n",
       "1 0.1540945  0.003821864 -0.24205661 0.004092582 -0.0005618720 -0.2423944\n",
       "2 0.3864464 -0.001090137 -0.08311704 0.009503498 -0.0003621744  0.2060158\n",
       "  type          variable_name\n",
       "1 clinical_data CK           \n",
       "2 clinical_data CK_MB        "
      ]
     },
     "metadata": {},
     "output_type": "display_data"
    }
   ],
   "source": [
    "head(mofa_weights,2)"
   ]
  },
  {
   "cell_type": "code",
   "execution_count": 113,
   "id": "e5775129-006b-430c-964e-2819f5cd0925",
   "metadata": {},
   "outputs": [],
   "source": [
    "mofa_weights = mofa_weights[, c('Factor1', 'Factor2', 'Factor3', 'Factor4', 'Factor5', 'type', 'variable_name')]"
   ]
  },
  {
   "cell_type": "code",
   "execution_count": 114,
   "id": "d642b23d-177d-4249-bb9b-4562162f1b81",
   "metadata": {},
   "outputs": [],
   "source": [
    "### Add columsn to PCA weights\n",
    "weights$variable_name = rownames(weights)\n",
    "weights$type = str_replace(weights$variable_name, '_0_.*', '')\n",
    "weights$variable_name = str_replace(weights$variable_name, '.*_0_', '')"
   ]
  },
  {
   "cell_type": "code",
   "execution_count": 115,
   "id": "c463fca6-577f-4af9-9d70-4913533c9227",
   "metadata": {},
   "outputs": [],
   "source": [
    "mofa_weights$type[!mofa_weights$type %in% c('clinical_data', 'cytokine', 'neutrophil', 'proteomics')] = 'single_cell'"
   ]
  },
  {
   "cell_type": "code",
   "execution_count": 116,
   "id": "53bdfab8-0679-4330-83dc-6ec071ce76ca",
   "metadata": {},
   "outputs": [
    {
     "data": {
      "text/html": [
       "<style>\n",
       ".list-inline {list-style: none; margin:0; padding: 0}\n",
       ".list-inline>li {display: inline-block}\n",
       ".list-inline>li:not(:last-child)::after {content: \"\\00b7\"; padding: 0 .5ex}\n",
       "</style>\n",
       "<ol class=list-inline><li>'clinical_data'</li><li>'cytokine'</li><li>'neutrophil'</li><li>'proteomics'</li><li>'single_cell'</li></ol>\n"
      ],
      "text/latex": [
       "\\begin{enumerate*}\n",
       "\\item 'clinical\\_data'\n",
       "\\item 'cytokine'\n",
       "\\item 'neutrophil'\n",
       "\\item 'proteomics'\n",
       "\\item 'single\\_cell'\n",
       "\\end{enumerate*}\n"
      ],
      "text/markdown": [
       "1. 'clinical_data'\n",
       "2. 'cytokine'\n",
       "3. 'neutrophil'\n",
       "4. 'proteomics'\n",
       "5. 'single_cell'\n",
       "\n",
       "\n"
      ],
      "text/plain": [
       "[1] \"clinical_data\" \"cytokine\"      \"neutrophil\"    \"proteomics\"   \n",
       "[5] \"single_cell\"  "
      ]
     },
     "metadata": {},
     "output_type": "display_data"
    }
   ],
   "source": [
    "unique(weights$type)"
   ]
  },
  {
   "cell_type": "code",
   "execution_count": 117,
   "id": "c33809c3-ef1a-4359-ae60-d995469e3005",
   "metadata": {},
   "outputs": [
    {
     "data": {
      "text/html": [
       "<style>\n",
       ".list-inline {list-style: none; margin:0; padding: 0}\n",
       ".list-inline>li {display: inline-block}\n",
       ".list-inline>li:not(:last-child)::after {content: \"\\00b7\"; padding: 0 .5ex}\n",
       "</style>\n",
       "<ol class=list-inline><li>'clinical_data'</li><li>'cytokine'</li><li>'neutrophil'</li><li>'proteomics'</li><li>'single_cell'</li></ol>\n"
      ],
      "text/latex": [
       "\\begin{enumerate*}\n",
       "\\item 'clinical\\_data'\n",
       "\\item 'cytokine'\n",
       "\\item 'neutrophil'\n",
       "\\item 'proteomics'\n",
       "\\item 'single\\_cell'\n",
       "\\end{enumerate*}\n"
      ],
      "text/markdown": [
       "1. 'clinical_data'\n",
       "2. 'cytokine'\n",
       "3. 'neutrophil'\n",
       "4. 'proteomics'\n",
       "5. 'single_cell'\n",
       "\n",
       "\n"
      ],
      "text/plain": [
       "[1] \"clinical_data\" \"cytokine\"      \"neutrophil\"    \"proteomics\"   \n",
       "[5] \"single_cell\"  "
      ]
     },
     "metadata": {},
     "output_type": "display_data"
    }
   ],
   "source": [
    "unique(mofa_weights$type)"
   ]
  },
  {
   "cell_type": "code",
   "execution_count": 118,
   "id": "4f9e7cbf-844d-4e20-bd1a-e4c81076f5ae",
   "metadata": {},
   "outputs": [
    {
     "data": {
      "text/html": [
       "13282"
      ],
      "text/latex": [
       "13282"
      ],
      "text/markdown": [
       "13282"
      ],
      "text/plain": [
       "[1] 13282"
      ]
     },
     "metadata": {},
     "output_type": "display_data"
    }
   ],
   "source": [
    "nrow(mofa_weights)"
   ]
  },
  {
   "cell_type": "code",
   "execution_count": 119,
   "id": "8c02caee-4152-4bea-8315-b98dd67b11c4",
   "metadata": {},
   "outputs": [
    {
     "data": {
      "text/html": [
       "13282"
      ],
      "text/latex": [
       "13282"
      ],
      "text/markdown": [
       "13282"
      ],
      "text/plain": [
       "[1] 13282"
      ]
     },
     "metadata": {},
     "output_type": "display_data"
    }
   ],
   "source": [
    "nrow(weights)"
   ]
  },
  {
   "cell_type": "code",
   "execution_count": 120,
   "id": "127efeb7-0855-4562-9499-2728acf91317",
   "metadata": {},
   "outputs": [],
   "source": [
    "weights_combined = merge(weights, mofa_weights)"
   ]
  },
  {
   "cell_type": "code",
   "execution_count": null,
   "id": "dedf0dfa-d996-44f6-bc7b-7e3c0ea1c019",
   "metadata": {},
   "outputs": [],
   "source": []
  },
  {
   "cell_type": "code",
   "execution_count": 121,
   "id": "60498306-db60-4ce7-8c27-4ff9fe213e3b",
   "metadata": {},
   "outputs": [
    {
     "data": {
      "text/html": [
       "13282"
      ],
      "text/latex": [
       "13282"
      ],
      "text/markdown": [
       "13282"
      ],
      "text/plain": [
       "[1] 13282"
      ]
     },
     "metadata": {},
     "output_type": "display_data"
    }
   ],
   "source": [
    "nrow(weights_combined)"
   ]
  },
  {
   "cell_type": "code",
   "execution_count": 122,
   "id": "b01e9cb6-863a-4eb5-acb0-553ff5c1a9ec",
   "metadata": {},
   "outputs": [
    {
     "data": {
      "text/html": [
       "<table class=\"dataframe\">\n",
       "<caption>A data.frame: 2 × 17</caption>\n",
       "<thead>\n",
       "\t<tr><th></th><th scope=col>variable_name</th><th scope=col>type</th><th scope=col>PC1</th><th scope=col>PC2</th><th scope=col>PC3</th><th scope=col>PC4</th><th scope=col>PC5</th><th scope=col>PC6</th><th scope=col>PC7</th><th scope=col>PC8</th><th scope=col>PC9</th><th scope=col>PC10</th><th scope=col>Factor1</th><th scope=col>Factor2</th><th scope=col>Factor3</th><th scope=col>Factor4</th><th scope=col>Factor5</th></tr>\n",
       "\t<tr><th></th><th scope=col>&lt;chr&gt;</th><th scope=col>&lt;chr&gt;</th><th scope=col>&lt;dbl&gt;</th><th scope=col>&lt;dbl&gt;</th><th scope=col>&lt;dbl&gt;</th><th scope=col>&lt;dbl&gt;</th><th scope=col>&lt;dbl&gt;</th><th scope=col>&lt;dbl&gt;</th><th scope=col>&lt;dbl&gt;</th><th scope=col>&lt;dbl&gt;</th><th scope=col>&lt;dbl&gt;</th><th scope=col>&lt;dbl&gt;</th><th scope=col>&lt;dbl&gt;</th><th scope=col>&lt;dbl&gt;</th><th scope=col>&lt;dbl&gt;</th><th scope=col>&lt;dbl&gt;</th><th scope=col>&lt;dbl&gt;</th></tr>\n",
       "</thead>\n",
       "<tbody>\n",
       "\t<tr><th scope=row>1</th><td>A1BG_M0R009  </td><td>proteomics</td><td>-0.002542738</td><td>-0.006152053</td><td>-0.006278822</td><td>-0.007487850</td><td>-0.002180663</td><td>0.007206248</td><td>-0.004985433</td><td> 0.001516472</td><td>0.005980696</td><td>-0.010945256</td><td>0.004658554</td><td>-0.078096205</td><td>0.06607495</td><td>0.13260059</td><td>0.0843015</td></tr>\n",
       "\t<tr><th scope=row>2</th><td>A1BG_P04217.2</td><td>proteomics</td><td>-0.001817782</td><td> 0.001536966</td><td>-0.005643651</td><td>-0.001861511</td><td>-0.004123412</td><td>0.005427317</td><td> 0.004661701</td><td>-0.002682252</td><td>0.004409251</td><td>-0.008582449</td><td>0.001885317</td><td>-0.001767849</td><td>0.04799866</td><td>0.04030532</td><td>0.1117526</td></tr>\n",
       "</tbody>\n",
       "</table>\n"
      ],
      "text/latex": [
       "A data.frame: 2 × 17\n",
       "\\begin{tabular}{r|lllllllllllllllll}\n",
       "  & variable\\_name & type & PC1 & PC2 & PC3 & PC4 & PC5 & PC6 & PC7 & PC8 & PC9 & PC10 & Factor1 & Factor2 & Factor3 & Factor4 & Factor5\\\\\n",
       "  & <chr> & <chr> & <dbl> & <dbl> & <dbl> & <dbl> & <dbl> & <dbl> & <dbl> & <dbl> & <dbl> & <dbl> & <dbl> & <dbl> & <dbl> & <dbl> & <dbl>\\\\\n",
       "\\hline\n",
       "\t1 & A1BG\\_M0R009   & proteomics & -0.002542738 & -0.006152053 & -0.006278822 & -0.007487850 & -0.002180663 & 0.007206248 & -0.004985433 &  0.001516472 & 0.005980696 & -0.010945256 & 0.004658554 & -0.078096205 & 0.06607495 & 0.13260059 & 0.0843015\\\\\n",
       "\t2 & A1BG\\_P04217.2 & proteomics & -0.001817782 &  0.001536966 & -0.005643651 & -0.001861511 & -0.004123412 & 0.005427317 &  0.004661701 & -0.002682252 & 0.004409251 & -0.008582449 & 0.001885317 & -0.001767849 & 0.04799866 & 0.04030532 & 0.1117526\\\\\n",
       "\\end{tabular}\n"
      ],
      "text/markdown": [
       "\n",
       "A data.frame: 2 × 17\n",
       "\n",
       "| <!--/--> | variable_name &lt;chr&gt; | type &lt;chr&gt; | PC1 &lt;dbl&gt; | PC2 &lt;dbl&gt; | PC3 &lt;dbl&gt; | PC4 &lt;dbl&gt; | PC5 &lt;dbl&gt; | PC6 &lt;dbl&gt; | PC7 &lt;dbl&gt; | PC8 &lt;dbl&gt; | PC9 &lt;dbl&gt; | PC10 &lt;dbl&gt; | Factor1 &lt;dbl&gt; | Factor2 &lt;dbl&gt; | Factor3 &lt;dbl&gt; | Factor4 &lt;dbl&gt; | Factor5 &lt;dbl&gt; |\n",
       "|---|---|---|---|---|---|---|---|---|---|---|---|---|---|---|---|---|---|\n",
       "| 1 | A1BG_M0R009   | proteomics | -0.002542738 | -0.006152053 | -0.006278822 | -0.007487850 | -0.002180663 | 0.007206248 | -0.004985433 |  0.001516472 | 0.005980696 | -0.010945256 | 0.004658554 | -0.078096205 | 0.06607495 | 0.13260059 | 0.0843015 |\n",
       "| 2 | A1BG_P04217.2 | proteomics | -0.001817782 |  0.001536966 | -0.005643651 | -0.001861511 | -0.004123412 | 0.005427317 |  0.004661701 | -0.002682252 | 0.004409251 | -0.008582449 | 0.001885317 | -0.001767849 | 0.04799866 | 0.04030532 | 0.1117526 |\n",
       "\n"
      ],
      "text/plain": [
       "  variable_name type       PC1          PC2          PC3          PC4         \n",
       "1 A1BG_M0R009   proteomics -0.002542738 -0.006152053 -0.006278822 -0.007487850\n",
       "2 A1BG_P04217.2 proteomics -0.001817782  0.001536966 -0.005643651 -0.001861511\n",
       "  PC5          PC6         PC7          PC8          PC9         PC10        \n",
       "1 -0.002180663 0.007206248 -0.004985433  0.001516472 0.005980696 -0.010945256\n",
       "2 -0.004123412 0.005427317  0.004661701 -0.002682252 0.004409251 -0.008582449\n",
       "  Factor1     Factor2      Factor3    Factor4    Factor5  \n",
       "1 0.004658554 -0.078096205 0.06607495 0.13260059 0.0843015\n",
       "2 0.001885317 -0.001767849 0.04799866 0.04030532 0.1117526"
      ]
     },
     "metadata": {},
     "output_type": "display_data"
    }
   ],
   "source": [
    "head(weights_combined,2)"
   ]
  },
  {
   "cell_type": "code",
   "execution_count": 123,
   "id": "0f8697b0-fe3d-42ab-ae1f-cf86f9076ca0",
   "metadata": {},
   "outputs": [],
   "source": [
    "weights_combined_cor = weights_combined\n",
    "weights_combined_cor$variable_name = NULL\n",
    "weights_combined_cor$type = NULL"
   ]
  },
  {
   "cell_type": "code",
   "execution_count": 124,
   "id": "bd4a2f17-b0da-4cb6-b361-1c15c6d96b1f",
   "metadata": {},
   "outputs": [],
   "source": [
    "#weights_combined_cor = weights_combined_cor[, c('PC1', 'PC2', 'PC3', 'PC4', 'PC5', 'PC6', 'Factor1', 'Factor2', 'Factor3', 'Factor4', 'Factor5')]"
   ]
  },
  {
   "cell_type": "code",
   "execution_count": 125,
   "id": "32ff3c46-1288-45e8-933b-9723b56f44bd",
   "metadata": {},
   "outputs": [
    {
     "data": {
      "text/html": [
       "<table class=\"dataframe\">\n",
       "<caption>A data.frame: 2 × 15</caption>\n",
       "<thead>\n",
       "\t<tr><th></th><th scope=col>PC1</th><th scope=col>PC2</th><th scope=col>PC3</th><th scope=col>PC4</th><th scope=col>PC5</th><th scope=col>PC6</th><th scope=col>PC7</th><th scope=col>PC8</th><th scope=col>PC9</th><th scope=col>PC10</th><th scope=col>Factor1</th><th scope=col>Factor2</th><th scope=col>Factor3</th><th scope=col>Factor4</th><th scope=col>Factor5</th></tr>\n",
       "\t<tr><th></th><th scope=col>&lt;dbl&gt;</th><th scope=col>&lt;dbl&gt;</th><th scope=col>&lt;dbl&gt;</th><th scope=col>&lt;dbl&gt;</th><th scope=col>&lt;dbl&gt;</th><th scope=col>&lt;dbl&gt;</th><th scope=col>&lt;dbl&gt;</th><th scope=col>&lt;dbl&gt;</th><th scope=col>&lt;dbl&gt;</th><th scope=col>&lt;dbl&gt;</th><th scope=col>&lt;dbl&gt;</th><th scope=col>&lt;dbl&gt;</th><th scope=col>&lt;dbl&gt;</th><th scope=col>&lt;dbl&gt;</th><th scope=col>&lt;dbl&gt;</th></tr>\n",
       "</thead>\n",
       "<tbody>\n",
       "\t<tr><th scope=row>1</th><td>-0.002542738</td><td>-0.006152053</td><td>-0.006278822</td><td>-0.007487850</td><td>-0.002180663</td><td>0.007206248</td><td>-0.004985433</td><td> 0.001516472</td><td>0.005980696</td><td>-0.010945256</td><td>0.004658554</td><td>-0.078096205</td><td>0.06607495</td><td>0.13260059</td><td>0.0843015</td></tr>\n",
       "\t<tr><th scope=row>2</th><td>-0.001817782</td><td> 0.001536966</td><td>-0.005643651</td><td>-0.001861511</td><td>-0.004123412</td><td>0.005427317</td><td> 0.004661701</td><td>-0.002682252</td><td>0.004409251</td><td>-0.008582449</td><td>0.001885317</td><td>-0.001767849</td><td>0.04799866</td><td>0.04030532</td><td>0.1117526</td></tr>\n",
       "</tbody>\n",
       "</table>\n"
      ],
      "text/latex": [
       "A data.frame: 2 × 15\n",
       "\\begin{tabular}{r|lllllllllllllll}\n",
       "  & PC1 & PC2 & PC3 & PC4 & PC5 & PC6 & PC7 & PC8 & PC9 & PC10 & Factor1 & Factor2 & Factor3 & Factor4 & Factor5\\\\\n",
       "  & <dbl> & <dbl> & <dbl> & <dbl> & <dbl> & <dbl> & <dbl> & <dbl> & <dbl> & <dbl> & <dbl> & <dbl> & <dbl> & <dbl> & <dbl>\\\\\n",
       "\\hline\n",
       "\t1 & -0.002542738 & -0.006152053 & -0.006278822 & -0.007487850 & -0.002180663 & 0.007206248 & -0.004985433 &  0.001516472 & 0.005980696 & -0.010945256 & 0.004658554 & -0.078096205 & 0.06607495 & 0.13260059 & 0.0843015\\\\\n",
       "\t2 & -0.001817782 &  0.001536966 & -0.005643651 & -0.001861511 & -0.004123412 & 0.005427317 &  0.004661701 & -0.002682252 & 0.004409251 & -0.008582449 & 0.001885317 & -0.001767849 & 0.04799866 & 0.04030532 & 0.1117526\\\\\n",
       "\\end{tabular}\n"
      ],
      "text/markdown": [
       "\n",
       "A data.frame: 2 × 15\n",
       "\n",
       "| <!--/--> | PC1 &lt;dbl&gt; | PC2 &lt;dbl&gt; | PC3 &lt;dbl&gt; | PC4 &lt;dbl&gt; | PC5 &lt;dbl&gt; | PC6 &lt;dbl&gt; | PC7 &lt;dbl&gt; | PC8 &lt;dbl&gt; | PC9 &lt;dbl&gt; | PC10 &lt;dbl&gt; | Factor1 &lt;dbl&gt; | Factor2 &lt;dbl&gt; | Factor3 &lt;dbl&gt; | Factor4 &lt;dbl&gt; | Factor5 &lt;dbl&gt; |\n",
       "|---|---|---|---|---|---|---|---|---|---|---|---|---|---|---|---|\n",
       "| 1 | -0.002542738 | -0.006152053 | -0.006278822 | -0.007487850 | -0.002180663 | 0.007206248 | -0.004985433 |  0.001516472 | 0.005980696 | -0.010945256 | 0.004658554 | -0.078096205 | 0.06607495 | 0.13260059 | 0.0843015 |\n",
       "| 2 | -0.001817782 |  0.001536966 | -0.005643651 | -0.001861511 | -0.004123412 | 0.005427317 |  0.004661701 | -0.002682252 | 0.004409251 | -0.008582449 | 0.001885317 | -0.001767849 | 0.04799866 | 0.04030532 | 0.1117526 |\n",
       "\n"
      ],
      "text/plain": [
       "  PC1          PC2          PC3          PC4          PC5          PC6        \n",
       "1 -0.002542738 -0.006152053 -0.006278822 -0.007487850 -0.002180663 0.007206248\n",
       "2 -0.001817782  0.001536966 -0.005643651 -0.001861511 -0.004123412 0.005427317\n",
       "  PC7          PC8          PC9         PC10         Factor1     Factor2     \n",
       "1 -0.004985433  0.001516472 0.005980696 -0.010945256 0.004658554 -0.078096205\n",
       "2  0.004661701 -0.002682252 0.004409251 -0.008582449 0.001885317 -0.001767849\n",
       "  Factor3    Factor4    Factor5  \n",
       "1 0.06607495 0.13260059 0.0843015\n",
       "2 0.04799866 0.04030532 0.1117526"
      ]
     },
     "metadata": {},
     "output_type": "display_data"
    }
   ],
   "source": [
    "head(weights_combined_cor,2)"
   ]
  },
  {
   "cell_type": "code",
   "execution_count": 126,
   "id": "264532cd-193d-4149-9544-ac0d52b97e15",
   "metadata": {},
   "outputs": [],
   "source": [
    "correlations = cor(weights_combined_cor,method = 'pearson', ,  use = \"pairwise.complete.obs\")\n",
    "# correlation in slides: spearman, but nearly the same"
   ]
  },
  {
   "cell_type": "code",
   "execution_count": 127,
   "id": "1591c025-7134-4702-bb93-1ec7d1aee779",
   "metadata": {},
   "outputs": [],
   "source": [
    "#correlations"
   ]
  },
  {
   "cell_type": "code",
   "execution_count": 128,
   "id": "5029123c-5a18-444c-a067-467927d23720",
   "metadata": {},
   "outputs": [],
   "source": [
    "figure_name = \"SUPP4_Correlation_Feature_Weight_Values_Mofa_vs_PCA\""
   ]
  },
  {
   "cell_type": "code",
   "execution_count": 129,
   "id": "33502e5c-8e7e-4649-b6e6-e58c52be52dd",
   "metadata": {},
   "outputs": [],
   "source": [
    "# Sizes of the plot\n",
    "width_par = 8\n",
    "height_par = 3"
   ]
  },
  {
   "cell_type": "code",
   "execution_count": 130,
   "id": "79c865ba-e760-454c-9aae-f1596aacceca",
   "metadata": {},
   "outputs": [],
   "source": [
    "correlations = correlations[,c('PC1', 'PC2', 'PC3', 'PC4', 'PC5', 'PC6', 'PC7', 'PC8', 'PC9', 'PC10')]\n",
    "correlations = correlations[c('Factor1', 'Factor2', 'Factor3', 'Factor4', 'Factor5'),]"
   ]
  },
  {
   "cell_type": "code",
   "execution_count": 131,
   "id": "a19a880a-f053-4c8f-9e9c-d2ee972d899c",
   "metadata": {},
   "outputs": [
    {
     "data": {
      "text/html": [
       "<table class=\"dataframe\">\n",
       "<caption>A matrix: 2 × 10 of type dbl</caption>\n",
       "<thead>\n",
       "\t<tr><th></th><th scope=col>PC1</th><th scope=col>PC2</th><th scope=col>PC3</th><th scope=col>PC4</th><th scope=col>PC5</th><th scope=col>PC6</th><th scope=col>PC7</th><th scope=col>PC8</th><th scope=col>PC9</th><th scope=col>PC10</th></tr>\n",
       "</thead>\n",
       "<tbody>\n",
       "\t<tr><th scope=row>Factor1</th><td>-0.97658246</td><td>0.03408187</td><td>-0.003552504</td><td>0.05592546</td><td>0.1232456</td><td>0.09638283</td><td>-0.05224423</td><td>-0.012404333</td><td> 0.04435827</td><td>0.03182444</td></tr>\n",
       "\t<tr><th scope=row>Factor2</th><td> 0.08029459</td><td>0.97152755</td><td> 0.027832272</td><td>0.05191436</td><td>0.1305815</td><td>0.07251827</td><td>-0.04714381</td><td>-0.002970664</td><td>-0.01557853</td><td>0.01670363</td></tr>\n",
       "</tbody>\n",
       "</table>\n"
      ],
      "text/latex": [
       "A matrix: 2 × 10 of type dbl\n",
       "\\begin{tabular}{r|llllllllll}\n",
       "  & PC1 & PC2 & PC3 & PC4 & PC5 & PC6 & PC7 & PC8 & PC9 & PC10\\\\\n",
       "\\hline\n",
       "\tFactor1 & -0.97658246 & 0.03408187 & -0.003552504 & 0.05592546 & 0.1232456 & 0.09638283 & -0.05224423 & -0.012404333 &  0.04435827 & 0.03182444\\\\\n",
       "\tFactor2 &  0.08029459 & 0.97152755 &  0.027832272 & 0.05191436 & 0.1305815 & 0.07251827 & -0.04714381 & -0.002970664 & -0.01557853 & 0.01670363\\\\\n",
       "\\end{tabular}\n"
      ],
      "text/markdown": [
       "\n",
       "A matrix: 2 × 10 of type dbl\n",
       "\n",
       "| <!--/--> | PC1 | PC2 | PC3 | PC4 | PC5 | PC6 | PC7 | PC8 | PC9 | PC10 |\n",
       "|---|---|---|---|---|---|---|---|---|---|---|\n",
       "| Factor1 | -0.97658246 | 0.03408187 | -0.003552504 | 0.05592546 | 0.1232456 | 0.09638283 | -0.05224423 | -0.012404333 |  0.04435827 | 0.03182444 |\n",
       "| Factor2 |  0.08029459 | 0.97152755 |  0.027832272 | 0.05191436 | 0.1305815 | 0.07251827 | -0.04714381 | -0.002970664 | -0.01557853 | 0.01670363 |\n",
       "\n"
      ],
      "text/plain": [
       "        PC1         PC2        PC3          PC4        PC5       PC6       \n",
       "Factor1 -0.97658246 0.03408187 -0.003552504 0.05592546 0.1232456 0.09638283\n",
       "Factor2  0.08029459 0.97152755  0.027832272 0.05191436 0.1305815 0.07251827\n",
       "        PC7         PC8          PC9         PC10      \n",
       "Factor1 -0.05224423 -0.012404333  0.04435827 0.03182444\n",
       "Factor2 -0.04714381 -0.002970664 -0.01557853 0.01670363"
      ]
     },
     "metadata": {},
     "output_type": "display_data"
    }
   ],
   "source": [
    "head(correlations,2)"
   ]
  },
  {
   "cell_type": "code",
   "execution_count": 132,
   "id": "509f6e48-fda4-4250-af4b-605690f8ed1d",
   "metadata": {},
   "outputs": [
    {
     "data": {
      "text/html": [
       "<strong>png:</strong> 2"
      ],
      "text/latex": [
       "\\textbf{png:} 2"
      ],
      "text/markdown": [
       "**png:** 2"
      ],
      "text/plain": [
       "png \n",
       "  2 "
      ]
     },
     "metadata": {},
     "output_type": "display_data"
    }
   ],
   "source": [
    "pdf(paste0('figures/Supplementary_Figures/', figure_name, name, '.pdf'), width =width_par, height =height_par)\n",
    "correlation_plot = corrplot(correlations, method = 'number', title = '',  pch =20,  mar=c(0,0,2,0), number.cex = 0.8, tl.cex = 0.8, cl.cex =0.8)\n",
    "dev.off()"
   ]
  },
  {
   "cell_type": "code",
   "execution_count": 133,
   "id": "2628dac2-c806-4996-a360-f3b0b0e17c0a",
   "metadata": {},
   "outputs": [
    {
     "data": {
      "image/png": "[encoded data removed]",
      "text/plain": [
       "Plot with title “”"
      ]
     },
     "metadata": {
      "image/png": {
       "height": 900,
       "width": 1800
      }
     },
     "output_type": "display_data"
    }
   ],
   "source": [
    "options(repr.plot.width=30, repr.plot.height=15)\n",
    "corrplot(correlations, method = 'number',  type = 'lower')"
   ]
  },
  {
   "cell_type": "code",
   "execution_count": null,
   "id": "9766889f-fa5d-453f-ad33-bc731285a152",
   "metadata": {},
   "outputs": [],
   "source": []
  }
 ],
 "metadata": {
  "kernelspec": {
   "display_name": "R",
   "language": "R",
   "name": "ir"
  },
  "language_info": {
   "codemirror_mode": "r",
   "file_extension": ".r",
   "mimetype": "text/x-r-source",
   "name": "R",
   "pygments_lexer": "r",
   "version": "4.1.1"
  },
  "toc-autonumbering": true,
  "toc-showcode": false
 },
 "nbformat": 4,
 "nbformat_minor": 5
}

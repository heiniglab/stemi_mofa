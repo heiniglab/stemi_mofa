{
 "cells": [
  {
   "cell_type": "code",
   "execution_count": 1,
   "id": "41b5d304-a7a9-4ae9-99de-888d404c6671",
   "metadata": {},
   "outputs": [],
   "source": [
    "### Script for using MOFA factors as predictors"
   ]
  },
  {
   "cell_type": "markdown",
   "id": "ee762245-b417-40af-852f-8eb0889a3e92",
   "metadata": {
    "tags": []
   },
   "source": [
    "#############################################\n",
    "# Prerequisites - Load Libraries"
   ]
  },
  {
   "cell_type": "code",
   "execution_count": 2,
   "id": "55fcb791-1568-4bdd-b18c-0082f55e91fd",
   "metadata": {
    "collapsed": true,
    "jupyter": {
     "outputs_hidden": true
    },
    "tags": []
   },
   "outputs": [
    {
     "name": "stderr",
     "output_type": "stream",
     "text": [
      "\n",
      "Attaching package: ‘igraph’\n",
      "\n",
      "\n",
      "The following objects are masked from ‘package:stats’:\n",
      "\n",
      "    decompose, spectrum\n",
      "\n",
      "\n",
      "The following object is masked from ‘package:base’:\n",
      "\n",
      "    union\n",
      "\n",
      "\n",
      "\n",
      "Attaching package: ‘MatrixGenerics’\n",
      "\n",
      "\n",
      "The following objects are masked from ‘package:matrixStats’:\n",
      "\n",
      "    colAlls, colAnyNAs, colAnys, colAvgsPerRowSet, colCollapse,\n",
      "    colCounts, colCummaxs, colCummins, colCumprods, colCumsums,\n",
      "    colDiffs, colIQRDiffs, colIQRs, colLogSumExps, colMadDiffs,\n",
      "    colMads, colMaxs, colMeans2, colMedians, colMins, colOrderStats,\n",
      "    colProds, colQuantiles, colRanges, colRanks, colSdDiffs, colSds,\n",
      "    colSums2, colTabulates, colVarDiffs, colVars, colWeightedMads,\n",
      "    colWeightedMeans, colWeightedMedians, colWeightedSds,\n",
      "    colWeightedVars, rowAlls, rowAnyNAs, rowAnys, rowAvgsPerColSet,\n",
      "    rowCollapse, rowCounts, rowCummaxs, rowCummins, rowCumprods,\n",
      "    rowCumsums, rowDiffs, rowIQRDiffs, rowIQRs, rowLogSumExps,\n",
      "    rowMadDiffs, rowMads, rowMaxs, rowMeans2, rowMedians, rowMins,\n",
      "    rowOrderStats, rowProds, rowQuantiles, rowRanges, rowRanks,\n",
      "    rowSdDiffs, rowSds, rowSums2, rowTabulates, rowVarDiffs, rowVars,\n",
      "    rowWeightedMads, rowWeightedMeans, rowWeightedMedians,\n",
      "    rowWeightedSds, rowWeightedVars\n",
      "\n",
      "\n",
      "\n",
      "Attaching package: ‘BiocGenerics’\n",
      "\n",
      "\n",
      "The following objects are masked from ‘package:parallel’:\n",
      "\n",
      "    clusterApply, clusterApplyLB, clusterCall, clusterEvalQ,\n",
      "    clusterExport, clusterMap, parApply, parCapply, parLapply,\n",
      "    parLapplyLB, parRapply, parSapply, parSapplyLB\n",
      "\n",
      "\n",
      "The following objects are masked from ‘package:igraph’:\n",
      "\n",
      "    normalize, path, union\n",
      "\n",
      "\n",
      "The following objects are masked from ‘package:stats’:\n",
      "\n",
      "    IQR, mad, sd, var, xtabs\n",
      "\n",
      "\n",
      "The following objects are masked from ‘package:base’:\n",
      "\n",
      "    anyDuplicated, append, as.data.frame, basename, cbind, colnames,\n",
      "    dirname, do.call, duplicated, eval, evalq, Filter, Find, get, grep,\n",
      "    grepl, intersect, is.unsorted, lapply, Map, mapply, match, mget,\n",
      "    order, paste, pmax, pmax.int, pmin, pmin.int, Position, rank,\n",
      "    rbind, Reduce, rownames, sapply, setdiff, sort, table, tapply,\n",
      "    union, unique, unsplit, which.max, which.min\n",
      "\n",
      "\n",
      "\n",
      "Attaching package: ‘S4Vectors’\n",
      "\n",
      "\n",
      "The following objects are masked from ‘package:base’:\n",
      "\n",
      "    expand.grid, I, unname\n",
      "\n",
      "\n",
      "Welcome to Bioconductor\n",
      "\n",
      "    Vignettes contain introductory material; view with\n",
      "    'browseVignettes()'. To cite Bioconductor, see\n",
      "    'citation(\"Biobase\")', and for packages 'citation(\"pkgname\")'.\n",
      "\n",
      "\n",
      "\n",
      "Attaching package: ‘Biobase’\n",
      "\n",
      "\n",
      "The following object is masked from ‘package:MatrixGenerics’:\n",
      "\n",
      "    rowMedians\n",
      "\n",
      "\n",
      "The following objects are masked from ‘package:matrixStats’:\n",
      "\n",
      "    anyMissing, rowMedians\n",
      "\n",
      "\n",
      "Attaching SeuratObject\n",
      "\n",
      "Attaching sp\n",
      "\n",
      "\n",
      "Attaching package: ‘Seurat’\n",
      "\n",
      "\n",
      "The following object is masked from ‘package:SummarizedExperiment’:\n",
      "\n",
      "    Assays\n",
      "\n",
      "\n",
      "\n",
      "Attaching package: ‘Matrix’\n",
      "\n",
      "\n",
      "The following object is masked from ‘package:S4Vectors’:\n",
      "\n",
      "    expand\n",
      "\n",
      "\n",
      "\n",
      "Attaching package: ‘DelayedArray’\n",
      "\n",
      "\n",
      "The following object is masked from ‘package:igraph’:\n",
      "\n",
      "    simplify\n",
      "\n",
      "\n",
      "The following objects are masked from ‘package:base’:\n",
      "\n",
      "    aperm, apply, rowsum, scale, sweep\n",
      "\n",
      "\n",
      "\n",
      "Attaching package: ‘HDF5Array’\n",
      "\n",
      "\n",
      "The following object is masked from ‘package:rhdf5’:\n",
      "\n",
      "    h5ls\n",
      "\n",
      "\n",
      "Warning message in if (is.na(desc)) {:\n",
      "“the condition has length > 1 and only the first element will be used”\n",
      "Warning message in if (is.na(desc)) {:\n",
      "“the condition has length > 1 and only the first element will be used”\n",
      "Warning message in if (is.na(desc)) {:\n",
      "“the condition has length > 1 and only the first element will be used”\n",
      "Warning message in if (is.na(desc)) {:\n",
      "“the condition has length > 1 and only the first element will be used”\n",
      "Warning message in if (is.na(desc)) {:\n",
      "“the condition has length > 1 and only the first element will be used”\n",
      "Warning message in if (is.na(desc)) {:\n",
      "“the condition has length > 1 and only the first element will be used”\n",
      "Warning message in if (is.na(desc)) {:\n",
      "“the condition has length > 1 and only the first element will be used”\n",
      "Warning message in if (is.na(desc)) {:\n",
      "“the condition has length > 1 and only the first element will be used”\n",
      "Warning message in if (is.na(desc)) {:\n",
      "“the condition has length > 1 and only the first element will be used”\n",
      "Warning message in if (is.na(desc)) {:\n",
      "“the condition has length > 1 and only the first element will be used”\n",
      "Warning message in if (is.na(desc)) {:\n",
      "“the condition has length > 1 and only the first element will be used”\n",
      "Warning message in if (is.na(desc)) {:\n",
      "“the condition has length > 1 and only the first element will be used”\n",
      "Warning message in if (is.na(desc)) {:\n",
      "“the condition has length > 1 and only the first element will be used”\n",
      "Warning message in if (is.na(desc)) {:\n",
      "“the condition has length > 1 and only the first element will be used”\n",
      "Warning message in if (is.na(desc)) {:\n",
      "“the condition has length > 1 and only the first element will be used”\n",
      "Warning message in if (is.na(desc)) {:\n",
      "“the condition has length > 1 and only the first element will be used”\n",
      "Warning message in if (is.na(desc)) {:\n",
      "“the condition has length > 1 and only the first element will be used”\n",
      "Warning message in if (is.na(desc)) {:\n",
      "“the condition has length > 1 and only the first element will be used”\n",
      "Warning message in if (is.na(desc)) {:\n",
      "“the condition has length > 1 and only the first element will be used”\n",
      "Warning message in if (is.na(desc)) {:\n",
      "“the condition has length > 1 and only the first element will be used”\n",
      "Warning message in if (is.na(desc)) {:\n",
      "“the condition has length > 1 and only the first element will be used”\n",
      "Warning message in if (is.na(desc)) {:\n",
      "“the condition has length > 1 and only the first element will be used”\n",
      "Warning message in if (is.na(desc)) {:\n",
      "“the condition has length > 1 and only the first element will be used”\n",
      "Registered S3 method overwritten by 'SeuratDisk':\n",
      "  method            from  \n",
      "  as.sparse.H5Group Seurat\n",
      "\n",
      "\n",
      "Attaching package: ‘gridExtra’\n",
      "\n",
      "\n",
      "The following object is masked from ‘package:Biobase’:\n",
      "\n",
      "    combine\n",
      "\n",
      "\n",
      "The following object is masked from ‘package:BiocGenerics’:\n",
      "\n",
      "    combine\n",
      "\n",
      "\n",
      "\n",
      "Attaching package: ‘dplyr’\n",
      "\n",
      "\n",
      "The following object is masked from ‘package:gridExtra’:\n",
      "\n",
      "    combine\n",
      "\n",
      "\n",
      "The following object is masked from ‘package:Biobase’:\n",
      "\n",
      "    combine\n",
      "\n",
      "\n",
      "The following objects are masked from ‘package:GenomicRanges’:\n",
      "\n",
      "    intersect, setdiff, union\n",
      "\n",
      "\n",
      "The following object is masked from ‘package:GenomeInfoDb’:\n",
      "\n",
      "    intersect\n",
      "\n",
      "\n",
      "The following objects are masked from ‘package:IRanges’:\n",
      "\n",
      "    collapse, desc, intersect, setdiff, slice, union\n",
      "\n",
      "\n",
      "The following objects are masked from ‘package:S4Vectors’:\n",
      "\n",
      "    first, intersect, rename, setdiff, setequal, union\n",
      "\n",
      "\n",
      "The following objects are masked from ‘package:BiocGenerics’:\n",
      "\n",
      "    combine, intersect, setdiff, union\n",
      "\n",
      "\n",
      "The following object is masked from ‘package:matrixStats’:\n",
      "\n",
      "    count\n",
      "\n",
      "\n",
      "The following objects are masked from ‘package:igraph’:\n",
      "\n",
      "    as_data_frame, groups, union\n",
      "\n",
      "\n",
      "The following objects are masked from ‘package:stats’:\n",
      "\n",
      "    filter, lag\n",
      "\n",
      "\n",
      "The following objects are masked from ‘package:base’:\n",
      "\n",
      "    intersect, setdiff, setequal, union\n",
      "\n",
      "\n",
      "\n",
      "Attaching package: ‘plotly’\n",
      "\n",
      "\n",
      "The following object is masked from ‘package:ggplot2’:\n",
      "\n",
      "    last_plot\n",
      "\n",
      "\n",
      "The following object is masked from ‘package:IRanges’:\n",
      "\n",
      "    slice\n",
      "\n",
      "\n",
      "The following object is masked from ‘package:S4Vectors’:\n",
      "\n",
      "    rename\n",
      "\n",
      "\n",
      "The following object is masked from ‘package:igraph’:\n",
      "\n",
      "    groups\n",
      "\n",
      "\n",
      "The following object is masked from ‘package:stats’:\n",
      "\n",
      "    filter\n",
      "\n",
      "\n",
      "The following object is masked from ‘package:graphics’:\n",
      "\n",
      "    layout\n",
      "\n",
      "\n",
      "Warning message in checkDepPackageVersion(dep_pkg = \"TMB\"):\n",
      "“Package version inconsistency detected.\n",
      "glmmTMB was built with TMB version 1.9.0\n",
      "Current TMB version is 1.9.1\n",
      "Please re-install glmmTMB from source or restore original ‘TMB’ package (see '?reinstalling' for more information)”\n",
      "\n",
      "Attaching package: ‘limma’\n",
      "\n",
      "\n",
      "The following object is masked from ‘package:scater’:\n",
      "\n",
      "    plotMDS\n",
      "\n",
      "\n",
      "The following object is masked from ‘package:BiocGenerics’:\n",
      "\n",
      "    plotMA\n",
      "\n",
      "\n",
      "\n",
      "Attaching package: ‘DESeq2’\n",
      "\n",
      "\n",
      "The following object is masked from ‘package:scater’:\n",
      "\n",
      "    fpkm\n",
      "\n",
      "\n",
      "Loading required package: AnnotationDbi\n",
      "\n",
      "\n",
      "Attaching package: ‘AnnotationDbi’\n",
      "\n",
      "\n",
      "The following object is masked from ‘package:plotly’:\n",
      "\n",
      "    select\n",
      "\n",
      "\n",
      "The following object is masked from ‘package:dplyr’:\n",
      "\n",
      "    select\n",
      "\n",
      "\n",
      "\n",
      "\n",
      "\n",
      "\n",
      "Registered S3 method overwritten by 'ggtree':\n",
      "  method      from \n",
      "  identify.gg ggfun\n",
      "\n",
      "clusterProfiler v4.0.5  For help: https://yulab-smu.top/biomedical-knowledge-mining-book/\n",
      "\n",
      "If you use clusterProfiler in published research, please cite:\n",
      "T Wu, E Hu, S Xu, M Chen, P Guo, Z Dai, T Feng, L Zhou, W Tang, L Zhan, X Fu, S Liu, X Bo, and G Yu. clusterProfiler 4.0: A universal enrichment tool for interpreting omics data. The Innovation. 2021, 2(3):100141. doi: 10.1016/j.xinn.2021.100141\n",
      "\n",
      "\n",
      "Attaching package: ‘clusterProfiler’\n",
      "\n",
      "\n",
      "The following object is masked from ‘package:AnnotationDbi’:\n",
      "\n",
      "    select\n",
      "\n",
      "\n",
      "The following object is masked from ‘package:DelayedArray’:\n",
      "\n",
      "    simplify\n",
      "\n",
      "\n",
      "The following object is masked from ‘package:IRanges’:\n",
      "\n",
      "    slice\n",
      "\n",
      "\n",
      "The following object is masked from ‘package:S4Vectors’:\n",
      "\n",
      "    rename\n",
      "\n",
      "\n",
      "The following object is masked from ‘package:igraph’:\n",
      "\n",
      "    simplify\n",
      "\n",
      "\n",
      "The following object is masked from ‘package:stats’:\n",
      "\n",
      "    filter\n",
      "\n",
      "\n",
      "\n",
      "Attaching package: ‘data.table’\n",
      "\n",
      "\n",
      "The following objects are masked from ‘package:dplyr’:\n",
      "\n",
      "    between, first, last\n",
      "\n",
      "\n",
      "The following object is masked from ‘package:SummarizedExperiment’:\n",
      "\n",
      "    shift\n",
      "\n",
      "\n",
      "The following object is masked from ‘package:GenomicRanges’:\n",
      "\n",
      "    shift\n",
      "\n",
      "\n",
      "The following object is masked from ‘package:IRanges’:\n",
      "\n",
      "    shift\n",
      "\n",
      "\n",
      "The following objects are masked from ‘package:S4Vectors’:\n",
      "\n",
      "    first, second\n",
      "\n",
      "\n",
      "\n",
      "Attaching package: ‘MOFA2’\n",
      "\n",
      "\n",
      "The following object is masked from ‘package:stats’:\n",
      "\n",
      "    predict\n",
      "\n",
      "\n",
      "\n",
      "Attaching package: ‘ggraph’\n",
      "\n",
      "\n",
      "The following object is masked from ‘package:sp’:\n",
      "\n",
      "    geometry\n",
      "\n",
      "\n",
      "Loading required package: lattice\n",
      "\n",
      "\n",
      "Attaching package: ‘lattice’\n",
      "\n",
      "\n",
      "The following object is masked from ‘package:clusterProfiler’:\n",
      "\n",
      "    dotplot\n",
      "\n",
      "\n",
      "Loading required package: survival\n",
      "\n",
      "Loading required package: Formula\n",
      "\n",
      "\n",
      "Attaching package: ‘Hmisc’\n",
      "\n",
      "\n",
      "The following object is masked from ‘package:MOFA2’:\n",
      "\n",
      "    impute\n",
      "\n",
      "\n",
      "The following object is masked from ‘package:AnnotationDbi’:\n",
      "\n",
      "    contents\n",
      "\n",
      "\n",
      "The following object is masked from ‘package:plotly’:\n",
      "\n",
      "    subplot\n",
      "\n",
      "\n",
      "The following objects are masked from ‘package:dplyr’:\n",
      "\n",
      "    src, summarize\n",
      "\n",
      "\n",
      "The following object is masked from ‘package:SeuratObject’:\n",
      "\n",
      "    Key\n",
      "\n",
      "\n",
      "The following object is masked from ‘package:Seurat’:\n",
      "\n",
      "    Key\n",
      "\n",
      "\n",
      "The following object is masked from ‘package:Biobase’:\n",
      "\n",
      "    contents\n",
      "\n",
      "\n",
      "The following objects are masked from ‘package:base’:\n",
      "\n",
      "    format.pval, units\n",
      "\n",
      "\n",
      "Registered S3 method overwritten by 'GGally':\n",
      "  method from   \n",
      "  +.gg   ggplot2\n",
      "\n",
      "\n",
      "Attaching package: ‘rstatix’\n",
      "\n",
      "\n",
      "The following object is masked from ‘package:AnnotationDbi’:\n",
      "\n",
      "    select\n",
      "\n",
      "\n",
      "The following object is masked from ‘package:IRanges’:\n",
      "\n",
      "    desc\n",
      "\n",
      "\n",
      "The following object is masked from ‘package:stats’:\n",
      "\n",
      "    filter\n",
      "\n",
      "\n",
      "\n",
      "Attaching package: ‘ggpubr’\n",
      "\n",
      "\n",
      "The following object is masked from ‘package:cowplot’:\n",
      "\n",
      "    get_legend\n",
      "\n",
      "\n",
      "── \u001b[1mAttaching packages\u001b[22m ─────────────────────────────────────── tidyverse 1.3.1 ──\n",
      "\n",
      "\u001b[32m✔\u001b[39m \u001b[34mtibble \u001b[39m 3.1.7     \u001b[32m✔\u001b[39m \u001b[34mpurrr  \u001b[39m 0.3.4\n",
      "\u001b[32m✔\u001b[39m \u001b[34mtidyr  \u001b[39m 1.2.0     \u001b[32m✔\u001b[39m \u001b[34mforcats\u001b[39m 0.5.2\n",
      "\u001b[32m✔\u001b[39m \u001b[34mreadr  \u001b[39m 2.1.2     \n",
      "\n",
      "── \u001b[1mConflicts\u001b[22m ────────────────────────────────────────── tidyverse_conflicts() ──\n",
      "\u001b[31m✖\u001b[39m \u001b[34mtibble\u001b[39m::\u001b[32mas_data_frame()\u001b[39m   masks \u001b[34mdplyr\u001b[39m::as_data_frame(), \u001b[34migraph\u001b[39m::as_data_frame()\n",
      "\u001b[31m✖\u001b[39m \u001b[34mdata.table\u001b[39m::\u001b[32mbetween()\u001b[39m     masks \u001b[34mdplyr\u001b[39m::between()\n",
      "\u001b[31m✖\u001b[39m \u001b[34mdplyr\u001b[39m::\u001b[32mcollapse()\u001b[39m         masks \u001b[34mIRanges\u001b[39m::collapse()\n",
      "\u001b[31m✖\u001b[39m \u001b[34mdplyr\u001b[39m::\u001b[32mcombine()\u001b[39m          masks \u001b[34mgridExtra\u001b[39m::combine(), \u001b[34mBiobase\u001b[39m::combine(), \u001b[34mBiocGenerics\u001b[39m::combine()\n",
      "\u001b[31m✖\u001b[39m \u001b[34mpurrr\u001b[39m::\u001b[32mcompose()\u001b[39m          masks \u001b[34migraph\u001b[39m::compose()\n",
      "\u001b[31m✖\u001b[39m \u001b[34mdplyr\u001b[39m::\u001b[32mcount()\u001b[39m            masks \u001b[34mmatrixStats\u001b[39m::count()\n",
      "\u001b[31m✖\u001b[39m \u001b[34mtidyr\u001b[39m::\u001b[32mcrossing()\u001b[39m         masks \u001b[34migraph\u001b[39m::crossing()\n",
      "\u001b[31m✖\u001b[39m \u001b[34mrstatix\u001b[39m::\u001b[32mdesc()\u001b[39m           masks \u001b[34mdplyr\u001b[39m::desc(), \u001b[34mIRanges\u001b[39m::desc()\n",
      "\u001b[31m✖\u001b[39m \u001b[34mtidyr\u001b[39m::\u001b[32mexpand()\u001b[39m           masks \u001b[34mMatrix\u001b[39m::expand(), \u001b[34mS4Vectors\u001b[39m::expand()\n",
      "\u001b[31m✖\u001b[39m \u001b[34mrstatix\u001b[39m::\u001b[32mfilter()\u001b[39m         masks \u001b[34mclusterProfiler\u001b[39m::filter(), \u001b[34mplotly\u001b[39m::filter(), \u001b[34mdplyr\u001b[39m::filter(), \u001b[34mstats\u001b[39m::filter()\n",
      "\u001b[31m✖\u001b[39m \u001b[34mdata.table\u001b[39m::\u001b[32mfirst()\u001b[39m       masks \u001b[34mdplyr\u001b[39m::first(), \u001b[34mS4Vectors\u001b[39m::first()\n",
      "\u001b[31m✖\u001b[39m \u001b[34mplotly\u001b[39m::\u001b[32mgroups()\u001b[39m          masks \u001b[34mdplyr\u001b[39m::groups(), \u001b[34migraph\u001b[39m::groups()\n",
      "\u001b[31m✖\u001b[39m \u001b[34mdplyr\u001b[39m::\u001b[32mlag()\u001b[39m              masks \u001b[34mstats\u001b[39m::lag()\n",
      "\u001b[31m✖\u001b[39m \u001b[34mdata.table\u001b[39m::\u001b[32mlast()\u001b[39m        masks \u001b[34mdplyr\u001b[39m::last()\n",
      "\u001b[31m✖\u001b[39m \u001b[34mtidyr\u001b[39m::\u001b[32mpack()\u001b[39m             masks \u001b[34mMatrix\u001b[39m::pack()\n",
      "\u001b[31m✖\u001b[39m \u001b[34mggplot2\u001b[39m::\u001b[32mPosition()\u001b[39m       masks \u001b[34mBiocGenerics\u001b[39m::Position(), \u001b[34mbase\u001b[39m::Position()\n",
      "\u001b[31m✖\u001b[39m \u001b[34mpurrr\u001b[39m::\u001b[32mreduce()\u001b[39m           masks \u001b[34mGenomicRanges\u001b[39m::reduce(), \u001b[34mIRanges\u001b[39m::reduce()\n",
      "\u001b[31m✖\u001b[39m \u001b[34mclusterProfiler\u001b[39m::\u001b[32mrename()\u001b[39m masks \u001b[34mplotly\u001b[39m::rename(), \u001b[34mdplyr\u001b[39m::rename(), \u001b[34mS4Vectors\u001b[39m::rename()\n",
      "\u001b[31m✖\u001b[39m \u001b[34mrstatix\u001b[39m::\u001b[32mselect()\u001b[39m         masks \u001b[34mclusterProfiler\u001b[39m::select(), \u001b[34mAnnotationDbi\u001b[39m::select(), \u001b[34mplotly\u001b[39m::select(), \u001b[34mdplyr\u001b[39m::select()\n",
      "\u001b[31m✖\u001b[39m \u001b[34mpurrr\u001b[39m::\u001b[32msimplify()\u001b[39m         masks \u001b[34mclusterProfiler\u001b[39m::simplify(), \u001b[34mDelayedArray\u001b[39m::simplify(), \u001b[34migraph\u001b[39m::simplify()\n",
      "\u001b[31m✖\u001b[39m \u001b[34mclusterProfiler\u001b[39m::\u001b[32mslice()\u001b[39m  masks \u001b[34mplotly\u001b[39m::slice(), \u001b[34mdplyr\u001b[39m::slice(), \u001b[34mIRanges\u001b[39m::slice()\n",
      "\u001b[31m✖\u001b[39m \u001b[34mHmisc\u001b[39m::\u001b[32msrc()\u001b[39m              masks \u001b[34mdplyr\u001b[39m::src()\n",
      "\u001b[31m✖\u001b[39m \u001b[34mHmisc\u001b[39m::\u001b[32msummarize()\u001b[39m        masks \u001b[34mdplyr\u001b[39m::summarize()\n",
      "\u001b[31m✖\u001b[39m \u001b[34mpurrr\u001b[39m::\u001b[32mtranspose()\u001b[39m        masks \u001b[34mdata.table\u001b[39m::transpose()\n",
      "\u001b[31m✖\u001b[39m \u001b[34mtidyr\u001b[39m::\u001b[32munpack()\u001b[39m           masks \u001b[34mMatrix\u001b[39m::unpack()\n",
      "\n",
      "corrplot 0.92 loaded\n",
      "\n",
      "\n",
      "Attaching package: ‘networkD3’\n",
      "\n",
      "\n",
      "The following object is masked from ‘package:SeuratObject’:\n",
      "\n",
      "    JS\n",
      "\n",
      "\n",
      "The following object is masked from ‘package:Seurat’:\n",
      "\n",
      "    JS\n",
      "\n",
      "\n",
      "\n",
      "‘network’ 1.17.2 (2022-05-20), part of the Statnet Project\n",
      "* ‘news(package=\"network\")’ for changes since last version\n",
      "* ‘citation(\"network\")’ for citation information\n",
      "* ‘https://statnet.org’ for help, support, and other information\n",
      "\n",
      "\n",
      "\n",
      "Attaching package: ‘network’\n",
      "\n",
      "\n",
      "The following object is masked from ‘package:Hmisc’:\n",
      "\n",
      "    is.discrete\n",
      "\n",
      "\n",
      "The following objects are masked from ‘package:igraph’:\n",
      "\n",
      "    %c%, %s%, add.edges, add.vertices, delete.edges, delete.vertices,\n",
      "    get.edge.attribute, get.edges, get.vertex.attribute, is.bipartite,\n",
      "    is.directed, list.edge.attributes, list.vertex.attributes,\n",
      "    set.edge.attribute, set.vertex.attribute\n",
      "\n",
      "\n",
      "\n",
      "Attaching package: ‘enrichplot’\n",
      "\n",
      "\n",
      "The following object is masked from ‘package:ggpubr’:\n",
      "\n",
      "    color_palette\n",
      "\n",
      "\n",
      "The following object is masked from ‘package:GGally’:\n",
      "\n",
      "    ggtable\n",
      "\n",
      "\n",
      "The following object is masked from ‘package:lattice’:\n",
      "\n",
      "    dotplot\n",
      "\n",
      "\n",
      "DOSE v3.18.3  For help: https://guangchuangyu.github.io/software/DOSE\n",
      "\n",
      "If you use DOSE in published research, please cite:\n",
      "Guangchuang Yu, Li-Gen Wang, Guang-Rong Yan, Qing-Yu He. DOSE: an R/Bioconductor package for Disease Ontology Semantic and Enrichment analysis. Bioinformatics 2015, 31(4):608-609\n",
      "\n",
      "\n",
      "\n",
      "Attaching package: ‘UpSetR’\n",
      "\n",
      "\n",
      "The following object is masked from ‘package:ComplexUpset’:\n",
      "\n",
      "    upset\n",
      "\n",
      "\n",
      "The following object is masked from ‘package:lattice’:\n",
      "\n",
      "    histogram\n",
      "\n",
      "\n",
      "Registered S3 method overwritten by 'gdata':\n",
      "  method         from  \n",
      "  reorder.factor gplots\n",
      "\n",
      "gdata: read.xls support for 'XLS' (Excel 97-2004) files ENABLED.\n",
      "\n",
      "\n",
      "\n",
      "gdata: Unable to load perl libaries needed by read.xls()\n",
      "gdata: to support 'XLSX' (Excel 2007+) files.\n",
      "\n",
      "\n",
      "\n",
      "gdata: Run the function 'installXLSXsupport()'\n",
      "gdata: to automatically download and install the perl\n",
      "gdata: libaries needed to support Excel XLS and XLSX formats.\n",
      "\n",
      "\n",
      "Attaching package: ‘gdata’\n",
      "\n",
      "\n",
      "The following object is masked from ‘package:purrr’:\n",
      "\n",
      "    keep\n",
      "\n",
      "\n",
      "The following objects are masked from ‘package:data.table’:\n",
      "\n",
      "    first, last\n",
      "\n",
      "\n",
      "The following objects are masked from ‘package:dplyr’:\n",
      "\n",
      "    combine, first, last\n",
      "\n",
      "\n",
      "The following object is masked from ‘package:gridExtra’:\n",
      "\n",
      "    combine\n",
      "\n",
      "\n",
      "The following object is masked from ‘package:SummarizedExperiment’:\n",
      "\n",
      "    trim\n",
      "\n",
      "\n",
      "The following object is masked from ‘package:Biobase’:\n",
      "\n",
      "    combine\n",
      "\n",
      "\n",
      "The following object is masked from ‘package:GenomicRanges’:\n",
      "\n",
      "    trim\n",
      "\n",
      "\n",
      "The following objects are masked from ‘package:IRanges’:\n",
      "\n",
      "    startsWith, trim\n",
      "\n",
      "\n",
      "The following objects are masked from ‘package:S4Vectors’:\n",
      "\n",
      "    first, first<-\n",
      "\n",
      "\n",
      "The following object is masked from ‘package:BiocGenerics’:\n",
      "\n",
      "    combine\n",
      "\n",
      "\n",
      "The following object is masked from ‘package:stats4’:\n",
      "\n",
      "    nobs\n",
      "\n",
      "\n",
      "The following object is masked from ‘package:stats’:\n",
      "\n",
      "    nobs\n",
      "\n",
      "\n",
      "The following object is masked from ‘package:utils’:\n",
      "\n",
      "    object.size\n",
      "\n",
      "\n",
      "The following object is masked from ‘package:base’:\n",
      "\n",
      "    startsWith\n",
      "\n",
      "\n",
      "\n",
      "Attaching package: ‘reshape2’\n",
      "\n",
      "\n",
      "The following object is masked from ‘package:tidyr’:\n",
      "\n",
      "    smiths\n",
      "\n",
      "\n",
      "The following objects are masked from ‘package:data.table’:\n",
      "\n",
      "    dcast, melt\n",
      "\n",
      "\n",
      "##############################################################################\n",
      "Pathview is an open source software package distributed under GNU General\n",
      "Public License version 3 (GPLv3). Details of GPLv3 is available at\n",
      "http://www.gnu.org/licenses/gpl-3.0.html. Particullary, users are required to\n",
      "formally cite the original Pathview paper (not just mention it) in publications\n",
      "or products. For details, do citation(\"pathview\") within R.\n",
      "\n",
      "The pathview downloads and uses KEGG data. Non-academic uses may require a KEGG\n",
      "license agreement (details at http://www.kegg.jp/kegg/legal.html).\n",
      "##############################################################################\n",
      "\n",
      "ReactomePA v1.36.0  For help: https://yulab-smu.top/biomedical-knowledge-mining-book/reactomepa.html\n",
      "\n",
      "If you use ReactomePA in published research, please cite:\n",
      "Guangchuang Yu, Qing-Yu He. ReactomePA: an R/Bioconductor package for reactome pathway analysis and visualization. Molecular BioSystems 2016, 12(2):477-479\n",
      "\n",
      "\n",
      "Attaching package: ‘ReactomePA’\n",
      "\n",
      "\n",
      "The following object is masked from ‘package:lattice’:\n",
      "\n",
      "    dotplot\n",
      "\n",
      "\n",
      "Loading required package: mgcv\n",
      "\n",
      "Loading required package: nlme\n",
      "\n",
      "\n",
      "Attaching package: ‘nlme’\n",
      "\n",
      "\n",
      "The following object is masked from ‘package:dplyr’:\n",
      "\n",
      "    collapse\n",
      "\n",
      "\n",
      "The following object is masked from ‘package:IRanges’:\n",
      "\n",
      "    collapse\n",
      "\n",
      "\n",
      "This is mgcv 1.8-40. For overview type 'help(\"mgcv-package\")'.\n",
      "\n",
      "Loading required package: genefilter\n",
      "\n",
      "\n",
      "Attaching package: ‘genefilter’\n",
      "\n",
      "\n",
      "The following object is masked from ‘package:readr’:\n",
      "\n",
      "    spec\n",
      "\n",
      "\n",
      "The following object is masked from ‘package:rstatix’:\n",
      "\n",
      "    Anova\n",
      "\n",
      "\n",
      "The following objects are masked from ‘package:MatrixGenerics’:\n",
      "\n",
      "    rowSds, rowVars\n",
      "\n",
      "\n",
      "The following objects are masked from ‘package:matrixStats’:\n",
      "\n",
      "    rowSds, rowVars\n",
      "\n",
      "\n",
      "Loading required package: BiocParallel\n",
      "\n",
      "\n",
      "Attaching package: ‘patchwork’\n",
      "\n",
      "\n",
      "The following object is masked from ‘package:genefilter’:\n",
      "\n",
      "    area\n",
      "\n",
      "\n",
      "The following object is masked from ‘package:cowplot’:\n",
      "\n",
      "    align_plots\n",
      "\n",
      "\n",
      "\n",
      "Attaching package: ‘caret’\n",
      "\n",
      "\n",
      "The following object is masked from ‘package:purrr’:\n",
      "\n",
      "    lift\n",
      "\n",
      "\n",
      "The following object is masked from ‘package:survival’:\n",
      "\n",
      "    cluster\n",
      "\n",
      "\n",
      "Type 'citation(\"pROC\")' for a citation.\n",
      "\n",
      "\n",
      "Attaching package: ‘pROC’\n",
      "\n",
      "\n",
      "The following object is masked from ‘package:colorspace’:\n",
      "\n",
      "    coords\n",
      "\n",
      "\n",
      "The following objects are masked from ‘package:IRanges’:\n",
      "\n",
      "    cov, var\n",
      "\n",
      "\n",
      "The following objects are masked from ‘package:S4Vectors’:\n",
      "\n",
      "    cov, var\n",
      "\n",
      "\n",
      "The following object is masked from ‘package:BiocGenerics’:\n",
      "\n",
      "    var\n",
      "\n",
      "\n",
      "The following objects are masked from ‘package:stats’:\n",
      "\n",
      "    cov, smooth, var\n",
      "\n",
      "\n",
      "Loaded glmnet 4.1-4\n",
      "\n",
      "\n",
      "Attaching package: ‘nnet’\n",
      "\n",
      "\n",
      "The following object is masked from ‘package:mgcv’:\n",
      "\n",
      "    multinom\n",
      "\n",
      "\n",
      "\n",
      "Attaching package: ‘dfidx’\n",
      "\n",
      "\n",
      "The following object is masked from ‘package:AnnotationDbi’:\n",
      "\n",
      "    select\n",
      "\n",
      "\n",
      "The following object is masked from ‘package:IRanges’:\n",
      "\n",
      "    slice\n",
      "\n",
      "\n",
      "The following object is masked from ‘package:stats’:\n",
      "\n",
      "    filter\n",
      "\n",
      "\n",
      "\n",
      "Attaching package: ‘modelr’\n",
      "\n",
      "\n",
      "The following object is masked from ‘package:gdata’:\n",
      "\n",
      "    resample\n",
      "\n",
      "\n",
      "The following object is masked from ‘package:igraph’:\n",
      "\n",
      "    permute\n",
      "\n",
      "\n",
      "\n",
      "Attaching package: ‘cvAUC’\n",
      "\n",
      "\n",
      "The following object is masked from ‘package:genefilter’:\n",
      "\n",
      "    AUC\n",
      "\n",
      "\n",
      "Loading required package: maps\n",
      "\n",
      "\n",
      "Attaching package: ‘maps’\n",
      "\n",
      "\n",
      "The following object is masked from ‘package:purrr’:\n",
      "\n",
      "    map\n",
      "\n",
      "\n",
      "Loading required package: shapefiles\n",
      "\n",
      "Loading required package: foreign\n",
      "\n",
      "\n",
      "Attaching package: ‘shapefiles’\n",
      "\n",
      "\n",
      "The following objects are masked from ‘package:foreign’:\n",
      "\n",
      "    read.dbf, write.dbf\n",
      "\n",
      "\n",
      "\n",
      "Attaching package: ‘fossil’\n",
      "\n",
      "\n",
      "The following object is masked from ‘package:modelr’:\n",
      "\n",
      "    bootstrap\n",
      "\n",
      "\n",
      "\n",
      "Attaching package: ‘plotROC’\n",
      "\n",
      "\n",
      "The following object is masked from ‘package:pROC’:\n",
      "\n",
      "    ggroc\n",
      "\n",
      "\n",
      "Welcome! Want to learn more? See two factoextra-related books at https://goo.gl/ve3WBa\n",
      "\n",
      "Loading required package: grid\n",
      "\n",
      "========================================\n",
      "ComplexHeatmap version 2.8.0\n",
      "Bioconductor page: http://bioconductor.org/packages/ComplexHeatmap/\n",
      "Github page: https://github.com/jokergoo/ComplexHeatmap\n",
      "Documentation: http://jokergoo.github.io/ComplexHeatmap-reference\n",
      "\n",
      "If you use it in published research, please cite:\n",
      "Gu, Z. Complex heatmaps reveal patterns and correlations in multidimensional \n",
      "  genomic data. Bioinformatics 2016.\n",
      "\n",
      "The new InteractiveComplexHeatmap package can directly export static \n",
      "complex heatmaps into an interactive Shiny app with zero effort. Have a try!\n",
      "\n",
      "This message can be suppressed by:\n",
      "  suppressPackageStartupMessages(library(ComplexHeatmap))\n",
      "========================================\n",
      "\n",
      "\n",
      "\n",
      "Attaching package: ‘ComplexHeatmap’\n",
      "\n",
      "\n",
      "The following object is masked from ‘package:genefilter’:\n",
      "\n",
      "    dist2\n",
      "\n",
      "\n",
      "The following object is masked from ‘package:network’:\n",
      "\n",
      "    %v%\n",
      "\n",
      "\n",
      "The following object is masked from ‘package:plotly’:\n",
      "\n",
      "    add_heatmap\n",
      "\n",
      "\n",
      "Welcome to compositions, a package for compositional data analysis.\n",
      "Find an intro with \"? compositions\"\n",
      "\n",
      "\n",
      "\n",
      "Attaching package: ‘compositions’\n",
      "\n",
      "\n",
      "The following object is masked from ‘package:glmnet’:\n",
      "\n",
      "    rmult\n",
      "\n",
      "\n",
      "The following objects are masked from ‘package:pROC’:\n",
      "\n",
      "    cov, var\n",
      "\n",
      "\n",
      "The following object is masked from ‘package:caret’:\n",
      "\n",
      "    R2\n",
      "\n",
      "\n",
      "The following object is masked from ‘package:DelayedArray’:\n",
      "\n",
      "    scale\n",
      "\n",
      "\n",
      "The following object is masked from ‘package:Matrix’:\n",
      "\n",
      "    norm\n",
      "\n",
      "\n",
      "The following object is masked from ‘package:scater’:\n",
      "\n",
      "    normalize\n",
      "\n",
      "\n",
      "The following objects are masked from ‘package:IRanges’:\n",
      "\n",
      "    cor, cov, var\n",
      "\n",
      "\n",
      "The following objects are masked from ‘package:S4Vectors’:\n",
      "\n",
      "    cor, cov, var\n",
      "\n",
      "\n",
      "The following objects are masked from ‘package:BiocGenerics’:\n",
      "\n",
      "    normalize, var\n",
      "\n",
      "\n",
      "The following object is masked from ‘package:igraph’:\n",
      "\n",
      "    normalize\n",
      "\n",
      "\n",
      "The following objects are masked from ‘package:stats’:\n",
      "\n",
      "    anova, cor, cov, dist, var\n",
      "\n",
      "\n",
      "The following objects are masked from ‘package:base’:\n",
      "\n",
      "    %*%, norm, scale, scale.default\n",
      "\n",
      "\n",
      "========================================\n",
      "circlize version 0.4.15\n",
      "CRAN page: https://cran.r-project.org/package=circlize\n",
      "Github page: https://github.com/jokergoo/circlize\n",
      "Documentation: https://jokergoo.github.io/circlize_book/book/\n",
      "\n",
      "If you use it in published research, please cite:\n",
      "Gu, Z. circlize implements and enhances circular visualization\n",
      "  in R. Bioinformatics 2014.\n",
      "\n",
      "This message can be suppressed by:\n",
      "  suppressPackageStartupMessages(library(circlize))\n",
      "========================================\n",
      "\n",
      "\n",
      "\n",
      "Attaching package: ‘circlize’\n",
      "\n",
      "\n",
      "The following object is masked from ‘package:igraph’:\n",
      "\n",
      "    degree\n",
      "\n",
      "\n"
     ]
    }
   ],
   "source": [
    "source('MS0_Libraries.r')"
   ]
  },
  {
   "cell_type": "code",
   "execution_count": 3,
   "id": "0afa8b71-f69b-4d4a-840f-1d42911d54ad",
   "metadata": {},
   "outputs": [],
   "source": [
    "source('MS4_Plot_Config.r')"
   ]
  },
  {
   "cell_type": "markdown",
   "id": "852725ba-a6dd-476e-a2e0-7820d7e99d19",
   "metadata": {
    "tags": []
   },
   "source": [
    "###############################################\n",
    "# Preqrequisites Configurations & Parameters"
   ]
  },
  {
   "cell_type": "code",
   "execution_count": 4,
   "id": "c29325a7-359b-4fc3-9705-23e5668d98a4",
   "metadata": {},
   "outputs": [],
   "source": [
    "data_path = '../data/current'"
   ]
  },
  {
   "cell_type": "code",
   "execution_count": 5,
   "id": "4f06b870-558d-4bea-a387-31d996213214",
   "metadata": {},
   "outputs": [],
   "source": [
    "result_path = '../results/current'"
   ]
  },
  {
   "cell_type": "code",
   "execution_count": 6,
   "id": "6c58977f-0137-4fd0-b872-11f93271676c",
   "metadata": {},
   "outputs": [
    {
     "data": {
      "text/html": [
       "'../data/current'"
      ],
      "text/latex": [
       "'../data/current'"
      ],
      "text/markdown": [
       "'../data/current'"
      ],
      "text/plain": [
       "[1] \"../data/current\""
      ]
     },
     "metadata": {},
     "output_type": "display_data"
    }
   ],
   "source": [
    "data_path"
   ]
  },
  {
   "cell_type": "code",
   "execution_count": 7,
   "id": "1d4c7b32-7ed1-493d-a020-17b24efb0128",
   "metadata": {},
   "outputs": [],
   "source": [
    "### Data to load for Factors and Gene Expression\n",
    "\n",
    "version = 'V_FINAL_INTEGRATED_FALSE'\n",
    "#version = 'V29_FALSEall'\n",
    "#version = 'V29_FALSEall'\n",
    "#version = 'V29w_o_clinical_FALSE'"
   ]
  },
  {
   "cell_type": "markdown",
   "id": "7fde2bf0-107f-4ab0-89e4-a4025a17168d",
   "metadata": {},
   "source": [
    "# Load Data"
   ]
  },
  {
   "cell_type": "markdown",
   "id": "5cd013dd-6480-4003-9caf-f7e51d00d5ee",
   "metadata": {},
   "source": [
    "## Sample Data"
   ]
  },
  {
   "cell_type": "code",
   "execution_count": 8,
   "id": "ecd92b5c-a91b-43e1-bb76-68f30140f747",
   "metadata": {},
   "outputs": [
    {
     "name": "stdout",
     "output_type": "stream",
     "text": [
      "[1] \"2022-06-16 14:38:20 CEST\"\n"
     ]
    }
   ],
   "source": [
    "path = paste0(result_path, '/00_Data_Overview/Available_Data_per_Sample_Overview.csv')\n",
    "all_samples_info = read.csv(path)\n",
    "print(file.info(path)$mtime)"
   ]
  },
  {
   "cell_type": "code",
   "execution_count": 9,
   "id": "e9ef0525-21f4-4271-83e7-44edd301ca25",
   "metadata": {},
   "outputs": [
    {
     "name": "stdout",
     "output_type": "stream",
     "text": [
      "[1] \"2022-06-16 14:38:20 CEST\"\n"
     ]
    }
   ],
   "source": [
    "path = paste0(result_path, '/00_Data_Overview/Merged_Sample_Meta_Data.csv')\n",
    "sample_data = read.csv(path)\n",
    "print(file.info(path)$mtime)"
   ]
  },
  {
   "cell_type": "code",
   "execution_count": 10,
   "id": "d7ecf985-7a8a-4afd-b575-bdd780941ffb",
   "metadata": {},
   "outputs": [
    {
     "data": {
      "text/html": [
       "<table class=\"dataframe\">\n",
       "<caption>A data.frame: 2 × 30</caption>\n",
       "<thead>\n",
       "\t<tr><th></th><th scope=col>X.1</th><th scope=col>sample_id</th><th scope=col>sample</th><th scope=col>id</th><th scope=col>measurement</th><th scope=col>library</th><th scope=col>id.y</th><th scope=col>name</th><th scope=col>read</th><th scope=col>pattern</th><th scope=col>⋯</th><th scope=col>meta_data</th><th scope=col>delta_ef_value_group</th><th scope=col>delta_ef_value</th><th scope=col>delta_ef_value_class</th><th scope=col>ef_classification_data</th><th scope=col>CK</th><th scope=col>CK_MB</th><th scope=col>Troponin</th><th scope=col>CRP</th><th scope=col>clinical_data</th></tr>\n",
       "\t<tr><th></th><th scope=col>&lt;int&gt;</th><th scope=col>&lt;chr&gt;</th><th scope=col>&lt;chr&gt;</th><th scope=col>&lt;dbl&gt;</th><th scope=col>&lt;chr&gt;</th><th scope=col>&lt;chr&gt;</th><th scope=col>&lt;chr&gt;</th><th scope=col>&lt;chr&gt;</th><th scope=col>&lt;chr&gt;</th><th scope=col>&lt;chr&gt;</th><th scope=col>⋯</th><th scope=col>&lt;int&gt;</th><th scope=col>&lt;chr&gt;</th><th scope=col>&lt;dbl&gt;</th><th scope=col>&lt;chr&gt;</th><th scope=col>&lt;int&gt;</th><th scope=col>&lt;int&gt;</th><th scope=col>&lt;chr&gt;</th><th scope=col>&lt;dbl&gt;</th><th scope=col>&lt;chr&gt;</th><th scope=col>&lt;int&gt;</th></tr>\n",
       "</thead>\n",
       "<tbody>\n",
       "\t<tr><th scope=row>1</th><td>1</td><td>k1 </td><td>K1 </td><td> 1</td><td>TP0</td><td>L13</td><td>HTO_B0251</td><td>No-CCS-1 </td><td>R2</td><td>5PNNNNNNNNNN(BC)</td><td>⋯</td><td>1</td><td>NA</td><td>NA</td><td>NA</td><td>0</td><td>43</td><td></td><td>0.013</td><td>0.4</td><td>1</td></tr>\n",
       "\t<tr><th scope=row>2</th><td>2</td><td>k10</td><td>K10</td><td>10</td><td>TP0</td><td>L11</td><td>HTO_B0256</td><td>Ch-CCS-10</td><td>R2</td><td>5PNNNNNNNNNN(BC)</td><td>⋯</td><td>1</td><td>NA</td><td>NA</td><td>NA</td><td>0</td><td>NA</td><td></td><td>   NA</td><td>0.2</td><td>1</td></tr>\n",
       "</tbody>\n",
       "</table>\n"
      ],
      "text/latex": [
       "A data.frame: 2 × 30\n",
       "\\begin{tabular}{r|lllllllllllllllllllll}\n",
       "  & X.1 & sample\\_id & sample & id & measurement & library & id.y & name & read & pattern & ⋯ & meta\\_data & delta\\_ef\\_value\\_group & delta\\_ef\\_value & delta\\_ef\\_value\\_class & ef\\_classification\\_data & CK & CK\\_MB & Troponin & CRP & clinical\\_data\\\\\n",
       "  & <int> & <chr> & <chr> & <dbl> & <chr> & <chr> & <chr> & <chr> & <chr> & <chr> & ⋯ & <int> & <chr> & <dbl> & <chr> & <int> & <int> & <chr> & <dbl> & <chr> & <int>\\\\\n",
       "\\hline\n",
       "\t1 & 1 & k1  & K1  &  1 & TP0 & L13 & HTO\\_B0251 & No-CCS-1  & R2 & 5PNNNNNNNNNN(BC) & ⋯ & 1 & NA & NA & NA & 0 & 43 &  & 0.013 & 0.4 & 1\\\\\n",
       "\t2 & 2 & k10 & K10 & 10 & TP0 & L11 & HTO\\_B0256 & Ch-CCS-10 & R2 & 5PNNNNNNNNNN(BC) & ⋯ & 1 & NA & NA & NA & 0 & NA &  &    NA & 0.2 & 1\\\\\n",
       "\\end{tabular}\n"
      ],
      "text/markdown": [
       "\n",
       "A data.frame: 2 × 30\n",
       "\n",
       "| <!--/--> | X.1 &lt;int&gt; | sample_id &lt;chr&gt; | sample &lt;chr&gt; | id &lt;dbl&gt; | measurement &lt;chr&gt; | library &lt;chr&gt; | id.y &lt;chr&gt; | name &lt;chr&gt; | read &lt;chr&gt; | pattern &lt;chr&gt; | ⋯ ⋯ | meta_data &lt;int&gt; | delta_ef_value_group &lt;chr&gt; | delta_ef_value &lt;dbl&gt; | delta_ef_value_class &lt;chr&gt; | ef_classification_data &lt;int&gt; | CK &lt;int&gt; | CK_MB &lt;chr&gt; | Troponin &lt;dbl&gt; | CRP &lt;chr&gt; | clinical_data &lt;int&gt; |\n",
       "|---|---|---|---|---|---|---|---|---|---|---|---|---|---|---|---|---|---|---|---|---|---|\n",
       "| 1 | 1 | k1  | K1  |  1 | TP0 | L13 | HTO_B0251 | No-CCS-1  | R2 | 5PNNNNNNNNNN(BC) | ⋯ | 1 | NA | NA | NA | 0 | 43 | <!----> | 0.013 | 0.4 | 1 |\n",
       "| 2 | 2 | k10 | K10 | 10 | TP0 | L11 | HTO_B0256 | Ch-CCS-10 | R2 | 5PNNNNNNNNNN(BC) | ⋯ | 1 | NA | NA | NA | 0 | NA | <!----> |    NA | 0.2 | 1 |\n",
       "\n"
      ],
      "text/plain": [
       "  X.1 sample_id sample id measurement library id.y      name      read\n",
       "1 1   k1        K1      1 TP0         L13     HTO_B0251 No-CCS-1  R2  \n",
       "2 2   k10       K10    10 TP0         L11     HTO_B0256 Ch-CCS-10 R2  \n",
       "  pattern          ⋯ meta_data delta_ef_value_group delta_ef_value\n",
       "1 5PNNNNNNNNNN(BC) ⋯ 1         NA                   NA            \n",
       "2 5PNNNNNNNNNN(BC) ⋯ 1         NA                   NA            \n",
       "  delta_ef_value_class ef_classification_data CK CK_MB Troponin CRP\n",
       "1 NA                   0                      43       0.013    0.4\n",
       "2 NA                   0                      NA          NA    0.2\n",
       "  clinical_data\n",
       "1 1            \n",
       "2 1            "
      ]
     },
     "metadata": {},
     "output_type": "display_data"
    }
   ],
   "source": [
    "head(sample_data,2)"
   ]
  },
  {
   "cell_type": "code",
   "execution_count": null,
   "id": "f1058108-2b04-4406-baab-1ec1e3af69ab",
   "metadata": {},
   "outputs": [],
   "source": []
  },
  {
   "cell_type": "code",
   "execution_count": 11,
   "id": "def76611-1e4c-46a9-8ac8-f00c221a0a51",
   "metadata": {},
   "outputs": [
    {
     "data": {
      "text/html": [
       "<style>\n",
       ".list-inline {list-style: none; margin:0; padding: 0}\n",
       ".list-inline>li {display: inline-block}\n",
       ".list-inline>li:not(:last-child)::after {content: \"\\00b7\"; padding: 0 .5ex}\n",
       "</style>\n",
       "<ol class=list-inline><li>'K1'</li><li>'K10'</li><li>'K11'</li><li>'K12'</li><li>'K13'</li><li>'K14'</li><li>'K15'</li><li>'K16'</li><li>'K17'</li><li>'K18'</li><li>'K19'</li><li>'K2'</li><li>'K20'</li><li>'K21'</li><li>'K22'</li><li>'K23'</li><li>'K24'</li><li>'K25'</li><li>'K26'</li><li>'K27'</li><li>'K28'</li><li>'K29'</li><li>'K3'</li><li>'K30'</li><li>'K31'</li><li>'K32'</li><li>'K33'</li><li>'K34'</li><li>'K4'</li><li>'K5'</li><li>'K6'</li><li>'K7'</li><li>'K8'</li><li>'K9'</li><li>'M1'</li><li>'M10'</li><li>'M11'</li><li>'M12'</li><li>'M13'</li><li>'M14'</li><li>'M15'</li><li>'M16'</li><li>'M17'</li><li>'M18'</li><li>'M19'</li><li>'M2'</li><li>'M20'</li><li>'M21'</li><li>'M22'</li><li>'M23'</li><li>'M24'</li><li>'M25'</li><li>'M26'</li><li>'M27'</li><li>'M28'</li><li>'M3'</li><li>'M4'</li><li>'M5'</li><li>'M6'</li><li>'M7'</li><li>'M8'</li><li>'M9'</li></ol>\n"
      ],
      "text/latex": [
       "\\begin{enumerate*}\n",
       "\\item 'K1'\n",
       "\\item 'K10'\n",
       "\\item 'K11'\n",
       "\\item 'K12'\n",
       "\\item 'K13'\n",
       "\\item 'K14'\n",
       "\\item 'K15'\n",
       "\\item 'K16'\n",
       "\\item 'K17'\n",
       "\\item 'K18'\n",
       "\\item 'K19'\n",
       "\\item 'K2'\n",
       "\\item 'K20'\n",
       "\\item 'K21'\n",
       "\\item 'K22'\n",
       "\\item 'K23'\n",
       "\\item 'K24'\n",
       "\\item 'K25'\n",
       "\\item 'K26'\n",
       "\\item 'K27'\n",
       "\\item 'K28'\n",
       "\\item 'K29'\n",
       "\\item 'K3'\n",
       "\\item 'K30'\n",
       "\\item 'K31'\n",
       "\\item 'K32'\n",
       "\\item 'K33'\n",
       "\\item 'K34'\n",
       "\\item 'K4'\n",
       "\\item 'K5'\n",
       "\\item 'K6'\n",
       "\\item 'K7'\n",
       "\\item 'K8'\n",
       "\\item 'K9'\n",
       "\\item 'M1'\n",
       "\\item 'M10'\n",
       "\\item 'M11'\n",
       "\\item 'M12'\n",
       "\\item 'M13'\n",
       "\\item 'M14'\n",
       "\\item 'M15'\n",
       "\\item 'M16'\n",
       "\\item 'M17'\n",
       "\\item 'M18'\n",
       "\\item 'M19'\n",
       "\\item 'M2'\n",
       "\\item 'M20'\n",
       "\\item 'M21'\n",
       "\\item 'M22'\n",
       "\\item 'M23'\n",
       "\\item 'M24'\n",
       "\\item 'M25'\n",
       "\\item 'M26'\n",
       "\\item 'M27'\n",
       "\\item 'M28'\n",
       "\\item 'M3'\n",
       "\\item 'M4'\n",
       "\\item 'M5'\n",
       "\\item 'M6'\n",
       "\\item 'M7'\n",
       "\\item 'M8'\n",
       "\\item 'M9'\n",
       "\\end{enumerate*}\n"
      ],
      "text/markdown": [
       "1. 'K1'\n",
       "2. 'K10'\n",
       "3. 'K11'\n",
       "4. 'K12'\n",
       "5. 'K13'\n",
       "6. 'K14'\n",
       "7. 'K15'\n",
       "8. 'K16'\n",
       "9. 'K17'\n",
       "10. 'K18'\n",
       "11. 'K19'\n",
       "12. 'K2'\n",
       "13. 'K20'\n",
       "14. 'K21'\n",
       "15. 'K22'\n",
       "16. 'K23'\n",
       "17. 'K24'\n",
       "18. 'K25'\n",
       "19. 'K26'\n",
       "20. 'K27'\n",
       "21. 'K28'\n",
       "22. 'K29'\n",
       "23. 'K3'\n",
       "24. 'K30'\n",
       "25. 'K31'\n",
       "26. 'K32'\n",
       "27. 'K33'\n",
       "28. 'K34'\n",
       "29. 'K4'\n",
       "30. 'K5'\n",
       "31. 'K6'\n",
       "32. 'K7'\n",
       "33. 'K8'\n",
       "34. 'K9'\n",
       "35. 'M1'\n",
       "36. 'M10'\n",
       "37. 'M11'\n",
       "38. 'M12'\n",
       "39. 'M13'\n",
       "40. 'M14'\n",
       "41. 'M15'\n",
       "42. 'M16'\n",
       "43. 'M17'\n",
       "44. 'M18'\n",
       "45. 'M19'\n",
       "46. 'M2'\n",
       "47. 'M20'\n",
       "48. 'M21'\n",
       "49. 'M22'\n",
       "50. 'M23'\n",
       "51. 'M24'\n",
       "52. 'M25'\n",
       "53. 'M26'\n",
       "54. 'M27'\n",
       "55. 'M28'\n",
       "56. 'M3'\n",
       "57. 'M4'\n",
       "58. 'M5'\n",
       "59. 'M6'\n",
       "60. 'M7'\n",
       "61. 'M8'\n",
       "62. 'M9'\n",
       "\n",
       "\n"
      ],
      "text/plain": [
       " [1] \"K1\"  \"K10\" \"K11\" \"K12\" \"K13\" \"K14\" \"K15\" \"K16\" \"K17\" \"K18\" \"K19\" \"K2\" \n",
       "[13] \"K20\" \"K21\" \"K22\" \"K23\" \"K24\" \"K25\" \"K26\" \"K27\" \"K28\" \"K29\" \"K3\"  \"K30\"\n",
       "[25] \"K31\" \"K32\" \"K33\" \"K34\" \"K4\"  \"K5\"  \"K6\"  \"K7\"  \"K8\"  \"K9\"  \"M1\"  \"M10\"\n",
       "[37] \"M11\" \"M12\" \"M13\" \"M14\" \"M15\" \"M16\" \"M17\" \"M18\" \"M19\" \"M2\"  \"M20\" \"M21\"\n",
       "[49] \"M22\" \"M23\" \"M24\" \"M25\" \"M26\" \"M27\" \"M28\" \"M3\"  \"M4\"  \"M5\"  \"M6\"  \"M7\" \n",
       "[61] \"M8\"  \"M9\" "
      ]
     },
     "metadata": {},
     "output_type": "display_data"
    }
   ],
   "source": [
    "unique(sample_data$sample)"
   ]
  },
  {
   "cell_type": "code",
   "execution_count": 12,
   "id": "7cc992f4-f978-4056-b559-c96740c1ee13",
   "metadata": {},
   "outputs": [],
   "source": [
    "#patients_filter = unique(sample_data$sample_id[is.na(str_extract(sample_data$sample_id, 'k'))])  # use only acs samples\n",
    "patients_filter = unique(sample_data$sample_id) #  use all samples"
   ]
  },
  {
   "cell_type": "code",
   "execution_count": 13,
   "id": "578b3431-bbb3-41e0-8839-e72267b2add1",
   "metadata": {},
   "outputs": [
    {
     "data": {
      "text/html": [
       "0"
      ],
      "text/latex": [
       "0"
      ],
      "text/markdown": [
       "0"
      ],
      "text/plain": [
       "[1] 0"
      ]
     },
     "metadata": {},
     "output_type": "display_data"
    }
   ],
   "source": [
    "sum(patients_filter == 'm.20.1')"
   ]
  },
  {
   "cell_type": "code",
   "execution_count": 14,
   "id": "4b7d015f-d744-4b69-9067-78700cd16dd1",
   "metadata": {},
   "outputs": [],
   "source": [
    "# Add new columns for later prediction"
   ]
  },
  {
   "cell_type": "code",
   "execution_count": 15,
   "id": "c096eb93-83c0-40f4-a150-cd76224959bf",
   "metadata": {},
   "outputs": [],
   "source": [
    "# Summarize good and intermediate outcome    \n",
    "sample_data$delta_ef_value_class_summarized = sample_data$delta_ef_value_class\n",
    "sample_data$delta_ef_value_class_summarized[sample_data$delta_ef_value_class %in% c('intermediate')] = 'good'"
   ]
  },
  {
   "cell_type": "code",
   "execution_count": 16,
   "id": "d2829a75-576d-4b71-b8c6-8d50d7997c85",
   "metadata": {},
   "outputs": [
    {
     "data": {
      "text/html": [
       "<style>\n",
       ".list-inline {list-style: none; margin:0; padding: 0}\n",
       ".list-inline>li {display: inline-block}\n",
       ".list-inline>li:not(:last-child)::after {content: \"\\00b7\"; padding: 0 .5ex}\n",
       "</style>\n",
       "<ol class=list-inline><li>NA</li><li>'bad'</li><li>'good'</li></ol>\n"
      ],
      "text/latex": [
       "\\begin{enumerate*}\n",
       "\\item NA\n",
       "\\item 'bad'\n",
       "\\item 'good'\n",
       "\\end{enumerate*}\n"
      ],
      "text/markdown": [
       "1. NA\n",
       "2. 'bad'\n",
       "3. 'good'\n",
       "\n",
       "\n"
      ],
      "text/plain": [
       "[1] NA     \"bad\"  \"good\""
      ]
     },
     "metadata": {},
     "output_type": "display_data"
    }
   ],
   "source": [
    "unique(sample_data$delta_ef_value_class_summarized)"
   ]
  },
  {
   "cell_type": "code",
   "execution_count": 24,
   "id": "48f1ca57-1fcb-43f8-af18-c7eef5dd9652",
   "metadata": {},
   "outputs": [
    {
     "name": "stderr",
     "output_type": "stream",
     "text": [
      "\u001b[1m\u001b[22m`summarise()` has grouped output by 'delta_ef_value_class_summarized'. You can\n",
      "override using the `.groups` argument.\n"
     ]
    },
    {
     "data": {
      "text/html": [
       "<table class=\"dataframe\">\n",
       "<caption>A grouped_df: 4 × 5</caption>\n",
       "<thead>\n",
       "\t<tr><th scope=col>delta_ef_value_class_summarized</th><th scope=col>delta_ef_value_class</th><th scope=col>amount</th><th scope=col>min_df</th><th scope=col>max_df</th></tr>\n",
       "\t<tr><th scope=col>&lt;chr&gt;</th><th scope=col>&lt;chr&gt;</th><th scope=col>&lt;int&gt;</th><th scope=col>&lt;dbl&gt;</th><th scope=col>&lt;dbl&gt;</th></tr>\n",
       "</thead>\n",
       "<tbody>\n",
       "\t<tr><td>bad </td><td>bad         </td><td> 7</td><td>-2.50</td><td>-0.060</td></tr>\n",
       "\t<tr><td>good</td><td>good        </td><td> 7</td><td> 1.15</td><td>14.300</td></tr>\n",
       "\t<tr><td>good</td><td>intermediate</td><td> 7</td><td> 0.00</td><td> 0.875</td></tr>\n",
       "\t<tr><td>NA  </td><td>NA          </td><td>41</td><td>   NA</td><td>    NA</td></tr>\n",
       "</tbody>\n",
       "</table>\n"
      ],
      "text/latex": [
       "A grouped\\_df: 4 × 5\n",
       "\\begin{tabular}{lllll}\n",
       " delta\\_ef\\_value\\_class\\_summarized & delta\\_ef\\_value\\_class & amount & min\\_df & max\\_df\\\\\n",
       " <chr> & <chr> & <int> & <dbl> & <dbl>\\\\\n",
       "\\hline\n",
       "\t bad  & bad          &  7 & -2.50 & -0.060\\\\\n",
       "\t good & good         &  7 &  1.15 & 14.300\\\\\n",
       "\t good & intermediate &  7 &  0.00 &  0.875\\\\\n",
       "\t NA   & NA           & 41 &    NA &     NA\\\\\n",
       "\\end{tabular}\n"
      ],
      "text/markdown": [
       "\n",
       "A grouped_df: 4 × 5\n",
       "\n",
       "| delta_ef_value_class_summarized &lt;chr&gt; | delta_ef_value_class &lt;chr&gt; | amount &lt;int&gt; | min_df &lt;dbl&gt; | max_df &lt;dbl&gt; |\n",
       "|---|---|---|---|---|\n",
       "| bad  | bad          |  7 | -2.50 | -0.060 |\n",
       "| good | good         |  7 |  1.15 | 14.300 |\n",
       "| good | intermediate |  7 |  0.00 |  0.875 |\n",
       "| NA   | NA           | 41 |    NA |     NA |\n",
       "\n"
      ],
      "text/plain": [
       "  delta_ef_value_class_summarized delta_ef_value_class amount min_df max_df\n",
       "1 bad                             bad                   7     -2.50  -0.060\n",
       "2 good                            good                  7      1.15  14.300\n",
       "3 good                            intermediate          7      0.00   0.875\n",
       "4 NA                              NA                   41        NA      NA"
      ]
     },
     "metadata": {},
     "output_type": "display_data"
    }
   ],
   "source": [
    "unique(sample_data[,c('sample', 'delta_ef_value_class_summarized', 'delta_ef_value', 'delta_ef_value_class')]) %>% group_by(delta_ef_value_class_summarized, delta_ef_value_class) %>% summarise(amount = n(), min_df = min(delta_ef_value), max_df = max(delta_ef_value))"
   ]
  },
  {
   "cell_type": "code",
   "execution_count": 25,
   "id": "f8438f4f-e19c-4b23-8683-2ecf35f580a5",
   "metadata": {},
   "outputs": [],
   "source": [
    "test = unique(sample_data[,c('sample', 'delta_ef_value_class_summarized', 'delta_ef_value', 'delta_ef_value_class')]) "
   ]
  },
  {
   "cell_type": "code",
   "execution_count": 27,
   "id": "63b8dff8-0403-409f-ba86-9af23ab530a6",
   "metadata": {},
   "outputs": [
    {
     "data": {
      "text/html": [
       "<table class=\"dataframe\">\n",
       "<caption>A data.frame: 62 × 4</caption>\n",
       "<thead>\n",
       "\t<tr><th></th><th scope=col>sample</th><th scope=col>delta_ef_value_class_summarized</th><th scope=col>delta_ef_value</th><th scope=col>delta_ef_value_class</th></tr>\n",
       "\t<tr><th></th><th scope=col>&lt;chr&gt;</th><th scope=col>&lt;chr&gt;</th><th scope=col>&lt;dbl&gt;</th><th scope=col>&lt;chr&gt;</th></tr>\n",
       "</thead>\n",
       "<tbody>\n",
       "\t<tr><th scope=row>72</th><td>M18</td><td>bad </td><td>-2.500</td><td>bad         </td></tr>\n",
       "\t<tr><th scope=row>51</th><td>M13</td><td>bad </td><td>-2.200</td><td>bad         </td></tr>\n",
       "\t<tr><th scope=row>56</th><td>M14</td><td>bad </td><td>-1.300</td><td>bad         </td></tr>\n",
       "\t<tr><th scope=row>84</th><td>M20</td><td>bad </td><td>-1.000</td><td>bad         </td></tr>\n",
       "\t<tr><th scope=row>112</th><td>M27</td><td>bad </td><td>-0.667</td><td>bad         </td></tr>\n",
       "\t<tr><th scope=row>39</th><td>M10</td><td>bad </td><td>-0.300</td><td>bad         </td></tr>\n",
       "\t<tr><th scope=row>120</th><td>M3 </td><td>bad </td><td>-0.060</td><td>bad         </td></tr>\n",
       "\t<tr><th scope=row>96</th><td>M23</td><td>good</td><td> 0.000</td><td>intermediate</td></tr>\n",
       "\t<tr><th scope=row>92</th><td>M22</td><td>good</td><td> 0.067</td><td>intermediate</td></tr>\n",
       "\t<tr><th scope=row>128</th><td>M5 </td><td>good</td><td> 0.083</td><td>intermediate</td></tr>\n",
       "\t<tr><th scope=row>108</th><td>M26</td><td>good</td><td> 0.300</td><td>intermediate</td></tr>\n",
       "\t<tr><th scope=row>104</th><td>M25</td><td>good</td><td> 0.690</td><td>intermediate</td></tr>\n",
       "\t<tr><th scope=row>138</th><td>M7 </td><td>good</td><td> 0.750</td><td>intermediate</td></tr>\n",
       "\t<tr><th scope=row>132</th><td>M6 </td><td>good</td><td> 0.875</td><td>intermediate</td></tr>\n",
       "\t<tr><th scope=row>76</th><td>M19</td><td>good</td><td> 1.150</td><td>good        </td></tr>\n",
       "\t<tr><th scope=row>80</th><td>M2 </td><td>good</td><td> 1.150</td><td>good        </td></tr>\n",
       "\t<tr><th scope=row>116</th><td>M28</td><td>good</td><td> 2.250</td><td>good        </td></tr>\n",
       "\t<tr><th scope=row>124</th><td>M4 </td><td>good</td><td> 3.100</td><td>good        </td></tr>\n",
       "\t<tr><th scope=row>88</th><td>M21</td><td>good</td><td> 3.550</td><td>good        </td></tr>\n",
       "\t<tr><th scope=row>60</th><td>M15</td><td>good</td><td> 5.200</td><td>good        </td></tr>\n",
       "\t<tr><th scope=row>146</th><td>M9 </td><td>good</td><td>14.300</td><td>good        </td></tr>\n",
       "\t<tr><th scope=row>1</th><td>K1 </td><td>NA  </td><td>    NA</td><td>NA          </td></tr>\n",
       "\t<tr><th scope=row>2</th><td>K10</td><td>NA  </td><td>    NA</td><td>NA          </td></tr>\n",
       "\t<tr><th scope=row>3</th><td>K11</td><td>NA  </td><td>    NA</td><td>NA          </td></tr>\n",
       "\t<tr><th scope=row>4</th><td>K12</td><td>NA  </td><td>    NA</td><td>NA          </td></tr>\n",
       "\t<tr><th scope=row>5</th><td>K13</td><td>NA  </td><td>    NA</td><td>NA          </td></tr>\n",
       "\t<tr><th scope=row>6</th><td>K14</td><td>NA  </td><td>    NA</td><td>NA          </td></tr>\n",
       "\t<tr><th scope=row>7</th><td>K15</td><td>NA  </td><td>    NA</td><td>NA          </td></tr>\n",
       "\t<tr><th scope=row>8</th><td>K16</td><td>NA  </td><td>    NA</td><td>NA          </td></tr>\n",
       "\t<tr><th scope=row>9</th><td>K17</td><td>NA  </td><td>    NA</td><td>NA          </td></tr>\n",
       "\t<tr><th scope=row>⋮</th><td>⋮</td><td>⋮</td><td>⋮</td><td>⋮</td></tr>\n",
       "\t<tr><th scope=row>12</th><td>K2 </td><td>NA</td><td>NA</td><td>NA</td></tr>\n",
       "\t<tr><th scope=row>13</th><td>K20</td><td>NA</td><td>NA</td><td>NA</td></tr>\n",
       "\t<tr><th scope=row>14</th><td>K21</td><td>NA</td><td>NA</td><td>NA</td></tr>\n",
       "\t<tr><th scope=row>15</th><td>K22</td><td>NA</td><td>NA</td><td>NA</td></tr>\n",
       "\t<tr><th scope=row>16</th><td>K23</td><td>NA</td><td>NA</td><td>NA</td></tr>\n",
       "\t<tr><th scope=row>17</th><td>K24</td><td>NA</td><td>NA</td><td>NA</td></tr>\n",
       "\t<tr><th scope=row>18</th><td>K25</td><td>NA</td><td>NA</td><td>NA</td></tr>\n",
       "\t<tr><th scope=row>19</th><td>K26</td><td>NA</td><td>NA</td><td>NA</td></tr>\n",
       "\t<tr><th scope=row>20</th><td>K27</td><td>NA</td><td>NA</td><td>NA</td></tr>\n",
       "\t<tr><th scope=row>21</th><td>K28</td><td>NA</td><td>NA</td><td>NA</td></tr>\n",
       "\t<tr><th scope=row>22</th><td>K29</td><td>NA</td><td>NA</td><td>NA</td></tr>\n",
       "\t<tr><th scope=row>23</th><td>K3 </td><td>NA</td><td>NA</td><td>NA</td></tr>\n",
       "\t<tr><th scope=row>24</th><td>K30</td><td>NA</td><td>NA</td><td>NA</td></tr>\n",
       "\t<tr><th scope=row>25</th><td>K31</td><td>NA</td><td>NA</td><td>NA</td></tr>\n",
       "\t<tr><th scope=row>26</th><td>K32</td><td>NA</td><td>NA</td><td>NA</td></tr>\n",
       "\t<tr><th scope=row>27</th><td>K33</td><td>NA</td><td>NA</td><td>NA</td></tr>\n",
       "\t<tr><th scope=row>28</th><td>K34</td><td>NA</td><td>NA</td><td>NA</td></tr>\n",
       "\t<tr><th scope=row>29</th><td>K4 </td><td>NA</td><td>NA</td><td>NA</td></tr>\n",
       "\t<tr><th scope=row>30</th><td>K5 </td><td>NA</td><td>NA</td><td>NA</td></tr>\n",
       "\t<tr><th scope=row>31</th><td>K6 </td><td>NA</td><td>NA</td><td>NA</td></tr>\n",
       "\t<tr><th scope=row>32</th><td>K7 </td><td>NA</td><td>NA</td><td>NA</td></tr>\n",
       "\t<tr><th scope=row>33</th><td>K8 </td><td>NA</td><td>NA</td><td>NA</td></tr>\n",
       "\t<tr><th scope=row>34</th><td>K9 </td><td>NA</td><td>NA</td><td>NA</td></tr>\n",
       "\t<tr><th scope=row>35</th><td>M1 </td><td>NA</td><td>NA</td><td>NA</td></tr>\n",
       "\t<tr><th scope=row>43</th><td>M11</td><td>NA</td><td>NA</td><td>NA</td></tr>\n",
       "\t<tr><th scope=row>47</th><td>M12</td><td>NA</td><td>NA</td><td>NA</td></tr>\n",
       "\t<tr><th scope=row>64</th><td>M16</td><td>NA</td><td>NA</td><td>NA</td></tr>\n",
       "\t<tr><th scope=row>68</th><td>M17</td><td>NA</td><td>NA</td><td>NA</td></tr>\n",
       "\t<tr><th scope=row>100</th><td>M24</td><td>NA</td><td>NA</td><td>NA</td></tr>\n",
       "\t<tr><th scope=row>142</th><td>M8 </td><td>NA</td><td>NA</td><td>NA</td></tr>\n",
       "</tbody>\n",
       "</table>\n"
      ],
      "text/latex": [
       "A data.frame: 62 × 4\n",
       "\\begin{tabular}{r|llll}\n",
       "  & sample & delta\\_ef\\_value\\_class\\_summarized & delta\\_ef\\_value & delta\\_ef\\_value\\_class\\\\\n",
       "  & <chr> & <chr> & <dbl> & <chr>\\\\\n",
       "\\hline\n",
       "\t72 & M18 & bad  & -2.500 & bad         \\\\\n",
       "\t51 & M13 & bad  & -2.200 & bad         \\\\\n",
       "\t56 & M14 & bad  & -1.300 & bad         \\\\\n",
       "\t84 & M20 & bad  & -1.000 & bad         \\\\\n",
       "\t112 & M27 & bad  & -0.667 & bad         \\\\\n",
       "\t39 & M10 & bad  & -0.300 & bad         \\\\\n",
       "\t120 & M3  & bad  & -0.060 & bad         \\\\\n",
       "\t96 & M23 & good &  0.000 & intermediate\\\\\n",
       "\t92 & M22 & good &  0.067 & intermediate\\\\\n",
       "\t128 & M5  & good &  0.083 & intermediate\\\\\n",
       "\t108 & M26 & good &  0.300 & intermediate\\\\\n",
       "\t104 & M25 & good &  0.690 & intermediate\\\\\n",
       "\t138 & M7  & good &  0.750 & intermediate\\\\\n",
       "\t132 & M6  & good &  0.875 & intermediate\\\\\n",
       "\t76 & M19 & good &  1.150 & good        \\\\\n",
       "\t80 & M2  & good &  1.150 & good        \\\\\n",
       "\t116 & M28 & good &  2.250 & good        \\\\\n",
       "\t124 & M4  & good &  3.100 & good        \\\\\n",
       "\t88 & M21 & good &  3.550 & good        \\\\\n",
       "\t60 & M15 & good &  5.200 & good        \\\\\n",
       "\t146 & M9  & good & 14.300 & good        \\\\\n",
       "\t1 & K1  & NA   &     NA & NA          \\\\\n",
       "\t2 & K10 & NA   &     NA & NA          \\\\\n",
       "\t3 & K11 & NA   &     NA & NA          \\\\\n",
       "\t4 & K12 & NA   &     NA & NA          \\\\\n",
       "\t5 & K13 & NA   &     NA & NA          \\\\\n",
       "\t6 & K14 & NA   &     NA & NA          \\\\\n",
       "\t7 & K15 & NA   &     NA & NA          \\\\\n",
       "\t8 & K16 & NA   &     NA & NA          \\\\\n",
       "\t9 & K17 & NA   &     NA & NA          \\\\\n",
       "\t⋮ & ⋮ & ⋮ & ⋮ & ⋮\\\\\n",
       "\t12 & K2  & NA & NA & NA\\\\\n",
       "\t13 & K20 & NA & NA & NA\\\\\n",
       "\t14 & K21 & NA & NA & NA\\\\\n",
       "\t15 & K22 & NA & NA & NA\\\\\n",
       "\t16 & K23 & NA & NA & NA\\\\\n",
       "\t17 & K24 & NA & NA & NA\\\\\n",
       "\t18 & K25 & NA & NA & NA\\\\\n",
       "\t19 & K26 & NA & NA & NA\\\\\n",
       "\t20 & K27 & NA & NA & NA\\\\\n",
       "\t21 & K28 & NA & NA & NA\\\\\n",
       "\t22 & K29 & NA & NA & NA\\\\\n",
       "\t23 & K3  & NA & NA & NA\\\\\n",
       "\t24 & K30 & NA & NA & NA\\\\\n",
       "\t25 & K31 & NA & NA & NA\\\\\n",
       "\t26 & K32 & NA & NA & NA\\\\\n",
       "\t27 & K33 & NA & NA & NA\\\\\n",
       "\t28 & K34 & NA & NA & NA\\\\\n",
       "\t29 & K4  & NA & NA & NA\\\\\n",
       "\t30 & K5  & NA & NA & NA\\\\\n",
       "\t31 & K6  & NA & NA & NA\\\\\n",
       "\t32 & K7  & NA & NA & NA\\\\\n",
       "\t33 & K8  & NA & NA & NA\\\\\n",
       "\t34 & K9  & NA & NA & NA\\\\\n",
       "\t35 & M1  & NA & NA & NA\\\\\n",
       "\t43 & M11 & NA & NA & NA\\\\\n",
       "\t47 & M12 & NA & NA & NA\\\\\n",
       "\t64 & M16 & NA & NA & NA\\\\\n",
       "\t68 & M17 & NA & NA & NA\\\\\n",
       "\t100 & M24 & NA & NA & NA\\\\\n",
       "\t142 & M8  & NA & NA & NA\\\\\n",
       "\\end{tabular}\n"
      ],
      "text/markdown": [
       "\n",
       "A data.frame: 62 × 4\n",
       "\n",
       "| <!--/--> | sample &lt;chr&gt; | delta_ef_value_class_summarized &lt;chr&gt; | delta_ef_value &lt;dbl&gt; | delta_ef_value_class &lt;chr&gt; |\n",
       "|---|---|---|---|---|\n",
       "| 72 | M18 | bad  | -2.500 | bad          |\n",
       "| 51 | M13 | bad  | -2.200 | bad          |\n",
       "| 56 | M14 | bad  | -1.300 | bad          |\n",
       "| 84 | M20 | bad  | -1.000 | bad          |\n",
       "| 112 | M27 | bad  | -0.667 | bad          |\n",
       "| 39 | M10 | bad  | -0.300 | bad          |\n",
       "| 120 | M3  | bad  | -0.060 | bad          |\n",
       "| 96 | M23 | good |  0.000 | intermediate |\n",
       "| 92 | M22 | good |  0.067 | intermediate |\n",
       "| 128 | M5  | good |  0.083 | intermediate |\n",
       "| 108 | M26 | good |  0.300 | intermediate |\n",
       "| 104 | M25 | good |  0.690 | intermediate |\n",
       "| 138 | M7  | good |  0.750 | intermediate |\n",
       "| 132 | M6  | good |  0.875 | intermediate |\n",
       "| 76 | M19 | good |  1.150 | good         |\n",
       "| 80 | M2  | good |  1.150 | good         |\n",
       "| 116 | M28 | good |  2.250 | good         |\n",
       "| 124 | M4  | good |  3.100 | good         |\n",
       "| 88 | M21 | good |  3.550 | good         |\n",
       "| 60 | M15 | good |  5.200 | good         |\n",
       "| 146 | M9  | good | 14.300 | good         |\n",
       "| 1 | K1  | NA   |     NA | NA           |\n",
       "| 2 | K10 | NA   |     NA | NA           |\n",
       "| 3 | K11 | NA   |     NA | NA           |\n",
       "| 4 | K12 | NA   |     NA | NA           |\n",
       "| 5 | K13 | NA   |     NA | NA           |\n",
       "| 6 | K14 | NA   |     NA | NA           |\n",
       "| 7 | K15 | NA   |     NA | NA           |\n",
       "| 8 | K16 | NA   |     NA | NA           |\n",
       "| 9 | K17 | NA   |     NA | NA           |\n",
       "| ⋮ | ⋮ | ⋮ | ⋮ | ⋮ |\n",
       "| 12 | K2  | NA | NA | NA |\n",
       "| 13 | K20 | NA | NA | NA |\n",
       "| 14 | K21 | NA | NA | NA |\n",
       "| 15 | K22 | NA | NA | NA |\n",
       "| 16 | K23 | NA | NA | NA |\n",
       "| 17 | K24 | NA | NA | NA |\n",
       "| 18 | K25 | NA | NA | NA |\n",
       "| 19 | K26 | NA | NA | NA |\n",
       "| 20 | K27 | NA | NA | NA |\n",
       "| 21 | K28 | NA | NA | NA |\n",
       "| 22 | K29 | NA | NA | NA |\n",
       "| 23 | K3  | NA | NA | NA |\n",
       "| 24 | K30 | NA | NA | NA |\n",
       "| 25 | K31 | NA | NA | NA |\n",
       "| 26 | K32 | NA | NA | NA |\n",
       "| 27 | K33 | NA | NA | NA |\n",
       "| 28 | K34 | NA | NA | NA |\n",
       "| 29 | K4  | NA | NA | NA |\n",
       "| 30 | K5  | NA | NA | NA |\n",
       "| 31 | K6  | NA | NA | NA |\n",
       "| 32 | K7  | NA | NA | NA |\n",
       "| 33 | K8  | NA | NA | NA |\n",
       "| 34 | K9  | NA | NA | NA |\n",
       "| 35 | M1  | NA | NA | NA |\n",
       "| 43 | M11 | NA | NA | NA |\n",
       "| 47 | M12 | NA | NA | NA |\n",
       "| 64 | M16 | NA | NA | NA |\n",
       "| 68 | M17 | NA | NA | NA |\n",
       "| 100 | M24 | NA | NA | NA |\n",
       "| 142 | M8  | NA | NA | NA |\n",
       "\n"
      ],
      "text/plain": [
       "    sample delta_ef_value_class_summarized delta_ef_value delta_ef_value_class\n",
       "72  M18    bad                             -2.500         bad                 \n",
       "51  M13    bad                             -2.200         bad                 \n",
       "56  M14    bad                             -1.300         bad                 \n",
       "84  M20    bad                             -1.000         bad                 \n",
       "112 M27    bad                             -0.667         bad                 \n",
       "39  M10    bad                             -0.300         bad                 \n",
       "120 M3     bad                             -0.060         bad                 \n",
       "96  M23    good                             0.000         intermediate        \n",
       "92  M22    good                             0.067         intermediate        \n",
       "128 M5     good                             0.083         intermediate        \n",
       "108 M26    good                             0.300         intermediate        \n",
       "104 M25    good                             0.690         intermediate        \n",
       "138 M7     good                             0.750         intermediate        \n",
       "132 M6     good                             0.875         intermediate        \n",
       "76  M19    good                             1.150         good                \n",
       "80  M2     good                             1.150         good                \n",
       "116 M28    good                             2.250         good                \n",
       "124 M4     good                             3.100         good                \n",
       "88  M21    good                             3.550         good                \n",
       "60  M15    good                             5.200         good                \n",
       "146 M9     good                            14.300         good                \n",
       "1   K1     NA                                  NA         NA                  \n",
       "2   K10    NA                                  NA         NA                  \n",
       "3   K11    NA                                  NA         NA                  \n",
       "4   K12    NA                                  NA         NA                  \n",
       "5   K13    NA                                  NA         NA                  \n",
       "6   K14    NA                                  NA         NA                  \n",
       "7   K15    NA                                  NA         NA                  \n",
       "8   K16    NA                                  NA         NA                  \n",
       "9   K17    NA                                  NA         NA                  \n",
       "⋮   ⋮      ⋮                               ⋮              ⋮                   \n",
       "12  K2     NA                              NA             NA                  \n",
       "13  K20    NA                              NA             NA                  \n",
       "14  K21    NA                              NA             NA                  \n",
       "15  K22    NA                              NA             NA                  \n",
       "16  K23    NA                              NA             NA                  \n",
       "17  K24    NA                              NA             NA                  \n",
       "18  K25    NA                              NA             NA                  \n",
       "19  K26    NA                              NA             NA                  \n",
       "20  K27    NA                              NA             NA                  \n",
       "21  K28    NA                              NA             NA                  \n",
       "22  K29    NA                              NA             NA                  \n",
       "23  K3     NA                              NA             NA                  \n",
       "24  K30    NA                              NA             NA                  \n",
       "25  K31    NA                              NA             NA                  \n",
       "26  K32    NA                              NA             NA                  \n",
       "27  K33    NA                              NA             NA                  \n",
       "28  K34    NA                              NA             NA                  \n",
       "29  K4     NA                              NA             NA                  \n",
       "30  K5     NA                              NA             NA                  \n",
       "31  K6     NA                              NA             NA                  \n",
       "32  K7     NA                              NA             NA                  \n",
       "33  K8     NA                              NA             NA                  \n",
       "34  K9     NA                              NA             NA                  \n",
       "35  M1     NA                              NA             NA                  \n",
       "43  M11    NA                              NA             NA                  \n",
       "47  M12    NA                              NA             NA                  \n",
       "64  M16    NA                              NA             NA                  \n",
       "68  M17    NA                              NA             NA                  \n",
       "100 M24    NA                              NA             NA                  \n",
       "142 M8     NA                              NA             NA                  "
      ]
     },
     "metadata": {},
     "output_type": "display_data"
    }
   ],
   "source": [
    "test[order(test$delta_ef_value),]"
   ]
  },
  {
   "cell_type": "code",
   "execution_count": 26,
   "id": "0aa96da1-fde6-4661-b2b2-75dbd9d4a9ba",
   "metadata": {},
   "outputs": [
    {
     "data": {
      "text/html": [
       "<table class=\"dataframe\">\n",
       "<caption>A data.frame: 42 × 4</caption>\n",
       "<thead>\n",
       "\t<tr><th></th><th scope=col>sample</th><th scope=col>delta_ef_value_class_summarized</th><th scope=col>delta_ef_value</th><th scope=col>delta_ef_value_class</th></tr>\n",
       "\t<tr><th></th><th scope=col>&lt;chr&gt;</th><th scope=col>&lt;chr&gt;</th><th scope=col>&lt;dbl&gt;</th><th scope=col>&lt;chr&gt;</th></tr>\n",
       "</thead>\n",
       "<tbody>\n",
       "\t<tr><th scope=row>NA</th><td>NA </td><td>NA  </td><td>NA</td><td>NA          </td></tr>\n",
       "\t<tr><th scope=row>NA.1</th><td>NA </td><td>NA  </td><td>NA</td><td>NA          </td></tr>\n",
       "\t<tr><th scope=row>NA.2</th><td>NA </td><td>NA  </td><td>NA</td><td>NA          </td></tr>\n",
       "\t<tr><th scope=row>NA.3</th><td>NA </td><td>NA  </td><td>NA</td><td>NA          </td></tr>\n",
       "\t<tr><th scope=row>NA.4</th><td>NA </td><td>NA  </td><td>NA</td><td>NA          </td></tr>\n",
       "\t<tr><th scope=row>NA.5</th><td>NA </td><td>NA  </td><td>NA</td><td>NA          </td></tr>\n",
       "\t<tr><th scope=row>NA.6</th><td>NA </td><td>NA  </td><td>NA</td><td>NA          </td></tr>\n",
       "\t<tr><th scope=row>NA.7</th><td>NA </td><td>NA  </td><td>NA</td><td>NA          </td></tr>\n",
       "\t<tr><th scope=row>NA.8</th><td>NA </td><td>NA  </td><td>NA</td><td>NA          </td></tr>\n",
       "\t<tr><th scope=row>NA.9</th><td>NA </td><td>NA  </td><td>NA</td><td>NA          </td></tr>\n",
       "\t<tr><th scope=row>NA.10</th><td>NA </td><td>NA  </td><td>NA</td><td>NA          </td></tr>\n",
       "\t<tr><th scope=row>NA.11</th><td>NA </td><td>NA  </td><td>NA</td><td>NA          </td></tr>\n",
       "\t<tr><th scope=row>NA.12</th><td>NA </td><td>NA  </td><td>NA</td><td>NA          </td></tr>\n",
       "\t<tr><th scope=row>NA.13</th><td>NA </td><td>NA  </td><td>NA</td><td>NA          </td></tr>\n",
       "\t<tr><th scope=row>NA.14</th><td>NA </td><td>NA  </td><td>NA</td><td>NA          </td></tr>\n",
       "\t<tr><th scope=row>NA.15</th><td>NA </td><td>NA  </td><td>NA</td><td>NA          </td></tr>\n",
       "\t<tr><th scope=row>NA.16</th><td>NA </td><td>NA  </td><td>NA</td><td>NA          </td></tr>\n",
       "\t<tr><th scope=row>NA.17</th><td>NA </td><td>NA  </td><td>NA</td><td>NA          </td></tr>\n",
       "\t<tr><th scope=row>NA.18</th><td>NA </td><td>NA  </td><td>NA</td><td>NA          </td></tr>\n",
       "\t<tr><th scope=row>NA.19</th><td>NA </td><td>NA  </td><td>NA</td><td>NA          </td></tr>\n",
       "\t<tr><th scope=row>NA.20</th><td>NA </td><td>NA  </td><td>NA</td><td>NA          </td></tr>\n",
       "\t<tr><th scope=row>NA.21</th><td>NA </td><td>NA  </td><td>NA</td><td>NA          </td></tr>\n",
       "\t<tr><th scope=row>NA.22</th><td>NA </td><td>NA  </td><td>NA</td><td>NA          </td></tr>\n",
       "\t<tr><th scope=row>NA.23</th><td>NA </td><td>NA  </td><td>NA</td><td>NA          </td></tr>\n",
       "\t<tr><th scope=row>NA.24</th><td>NA </td><td>NA  </td><td>NA</td><td>NA          </td></tr>\n",
       "\t<tr><th scope=row>NA.25</th><td>NA </td><td>NA  </td><td>NA</td><td>NA          </td></tr>\n",
       "\t<tr><th scope=row>NA.26</th><td>NA </td><td>NA  </td><td>NA</td><td>NA          </td></tr>\n",
       "\t<tr><th scope=row>NA.27</th><td>NA </td><td>NA  </td><td>NA</td><td>NA          </td></tr>\n",
       "\t<tr><th scope=row>NA.28</th><td>NA </td><td>NA  </td><td>NA</td><td>NA          </td></tr>\n",
       "\t<tr><th scope=row>NA.29</th><td>NA </td><td>NA  </td><td>NA</td><td>NA          </td></tr>\n",
       "\t<tr><th scope=row>NA.30</th><td>NA </td><td>NA  </td><td>NA</td><td>NA          </td></tr>\n",
       "\t<tr><th scope=row>NA.31</th><td>NA </td><td>NA  </td><td>NA</td><td>NA          </td></tr>\n",
       "\t<tr><th scope=row>NA.32</th><td>NA </td><td>NA  </td><td>NA</td><td>NA          </td></tr>\n",
       "\t<tr><th scope=row>NA.33</th><td>NA </td><td>NA  </td><td>NA</td><td>NA          </td></tr>\n",
       "\t<tr><th scope=row>NA.34</th><td>NA </td><td>NA  </td><td>NA</td><td>NA          </td></tr>\n",
       "\t<tr><th scope=row>NA.35</th><td>NA </td><td>NA  </td><td>NA</td><td>NA          </td></tr>\n",
       "\t<tr><th scope=row>NA.36</th><td>NA </td><td>NA  </td><td>NA</td><td>NA          </td></tr>\n",
       "\t<tr><th scope=row>NA.37</th><td>NA </td><td>NA  </td><td>NA</td><td>NA          </td></tr>\n",
       "\t<tr><th scope=row>NA.38</th><td>NA </td><td>NA  </td><td>NA</td><td>NA          </td></tr>\n",
       "\t<tr><th scope=row>96</th><td>M23</td><td>good</td><td> 0</td><td>intermediate</td></tr>\n",
       "\t<tr><th scope=row>NA.39</th><td>NA </td><td>NA  </td><td>NA</td><td>NA          </td></tr>\n",
       "\t<tr><th scope=row>NA.40</th><td>NA </td><td>NA  </td><td>NA</td><td>NA          </td></tr>\n",
       "</tbody>\n",
       "</table>\n"
      ],
      "text/latex": [
       "A data.frame: 42 × 4\n",
       "\\begin{tabular}{r|llll}\n",
       "  & sample & delta\\_ef\\_value\\_class\\_summarized & delta\\_ef\\_value & delta\\_ef\\_value\\_class\\\\\n",
       "  & <chr> & <chr> & <dbl> & <chr>\\\\\n",
       "\\hline\n",
       "\tNA & NA  & NA   & NA & NA          \\\\\n",
       "\tNA.1 & NA  & NA   & NA & NA          \\\\\n",
       "\tNA.2 & NA  & NA   & NA & NA          \\\\\n",
       "\tNA.3 & NA  & NA   & NA & NA          \\\\\n",
       "\tNA.4 & NA  & NA   & NA & NA          \\\\\n",
       "\tNA.5 & NA  & NA   & NA & NA          \\\\\n",
       "\tNA.6 & NA  & NA   & NA & NA          \\\\\n",
       "\tNA.7 & NA  & NA   & NA & NA          \\\\\n",
       "\tNA.8 & NA  & NA   & NA & NA          \\\\\n",
       "\tNA.9 & NA  & NA   & NA & NA          \\\\\n",
       "\tNA.10 & NA  & NA   & NA & NA          \\\\\n",
       "\tNA.11 & NA  & NA   & NA & NA          \\\\\n",
       "\tNA.12 & NA  & NA   & NA & NA          \\\\\n",
       "\tNA.13 & NA  & NA   & NA & NA          \\\\\n",
       "\tNA.14 & NA  & NA   & NA & NA          \\\\\n",
       "\tNA.15 & NA  & NA   & NA & NA          \\\\\n",
       "\tNA.16 & NA  & NA   & NA & NA          \\\\\n",
       "\tNA.17 & NA  & NA   & NA & NA          \\\\\n",
       "\tNA.18 & NA  & NA   & NA & NA          \\\\\n",
       "\tNA.19 & NA  & NA   & NA & NA          \\\\\n",
       "\tNA.20 & NA  & NA   & NA & NA          \\\\\n",
       "\tNA.21 & NA  & NA   & NA & NA          \\\\\n",
       "\tNA.22 & NA  & NA   & NA & NA          \\\\\n",
       "\tNA.23 & NA  & NA   & NA & NA          \\\\\n",
       "\tNA.24 & NA  & NA   & NA & NA          \\\\\n",
       "\tNA.25 & NA  & NA   & NA & NA          \\\\\n",
       "\tNA.26 & NA  & NA   & NA & NA          \\\\\n",
       "\tNA.27 & NA  & NA   & NA & NA          \\\\\n",
       "\tNA.28 & NA  & NA   & NA & NA          \\\\\n",
       "\tNA.29 & NA  & NA   & NA & NA          \\\\\n",
       "\tNA.30 & NA  & NA   & NA & NA          \\\\\n",
       "\tNA.31 & NA  & NA   & NA & NA          \\\\\n",
       "\tNA.32 & NA  & NA   & NA & NA          \\\\\n",
       "\tNA.33 & NA  & NA   & NA & NA          \\\\\n",
       "\tNA.34 & NA  & NA   & NA & NA          \\\\\n",
       "\tNA.35 & NA  & NA   & NA & NA          \\\\\n",
       "\tNA.36 & NA  & NA   & NA & NA          \\\\\n",
       "\tNA.37 & NA  & NA   & NA & NA          \\\\\n",
       "\tNA.38 & NA  & NA   & NA & NA          \\\\\n",
       "\t96 & M23 & good &  0 & intermediate\\\\\n",
       "\tNA.39 & NA  & NA   & NA & NA          \\\\\n",
       "\tNA.40 & NA  & NA   & NA & NA          \\\\\n",
       "\\end{tabular}\n"
      ],
      "text/markdown": [
       "\n",
       "A data.frame: 42 × 4\n",
       "\n",
       "| <!--/--> | sample &lt;chr&gt; | delta_ef_value_class_summarized &lt;chr&gt; | delta_ef_value &lt;dbl&gt; | delta_ef_value_class &lt;chr&gt; |\n",
       "|---|---|---|---|---|\n",
       "| NA | NA  | NA   | NA | NA           |\n",
       "| NA.1 | NA  | NA   | NA | NA           |\n",
       "| NA.2 | NA  | NA   | NA | NA           |\n",
       "| NA.3 | NA  | NA   | NA | NA           |\n",
       "| NA.4 | NA  | NA   | NA | NA           |\n",
       "| NA.5 | NA  | NA   | NA | NA           |\n",
       "| NA.6 | NA  | NA   | NA | NA           |\n",
       "| NA.7 | NA  | NA   | NA | NA           |\n",
       "| NA.8 | NA  | NA   | NA | NA           |\n",
       "| NA.9 | NA  | NA   | NA | NA           |\n",
       "| NA.10 | NA  | NA   | NA | NA           |\n",
       "| NA.11 | NA  | NA   | NA | NA           |\n",
       "| NA.12 | NA  | NA   | NA | NA           |\n",
       "| NA.13 | NA  | NA   | NA | NA           |\n",
       "| NA.14 | NA  | NA   | NA | NA           |\n",
       "| NA.15 | NA  | NA   | NA | NA           |\n",
       "| NA.16 | NA  | NA   | NA | NA           |\n",
       "| NA.17 | NA  | NA   | NA | NA           |\n",
       "| NA.18 | NA  | NA   | NA | NA           |\n",
       "| NA.19 | NA  | NA   | NA | NA           |\n",
       "| NA.20 | NA  | NA   | NA | NA           |\n",
       "| NA.21 | NA  | NA   | NA | NA           |\n",
       "| NA.22 | NA  | NA   | NA | NA           |\n",
       "| NA.23 | NA  | NA   | NA | NA           |\n",
       "| NA.24 | NA  | NA   | NA | NA           |\n",
       "| NA.25 | NA  | NA   | NA | NA           |\n",
       "| NA.26 | NA  | NA   | NA | NA           |\n",
       "| NA.27 | NA  | NA   | NA | NA           |\n",
       "| NA.28 | NA  | NA   | NA | NA           |\n",
       "| NA.29 | NA  | NA   | NA | NA           |\n",
       "| NA.30 | NA  | NA   | NA | NA           |\n",
       "| NA.31 | NA  | NA   | NA | NA           |\n",
       "| NA.32 | NA  | NA   | NA | NA           |\n",
       "| NA.33 | NA  | NA   | NA | NA           |\n",
       "| NA.34 | NA  | NA   | NA | NA           |\n",
       "| NA.35 | NA  | NA   | NA | NA           |\n",
       "| NA.36 | NA  | NA   | NA | NA           |\n",
       "| NA.37 | NA  | NA   | NA | NA           |\n",
       "| NA.38 | NA  | NA   | NA | NA           |\n",
       "| 96 | M23 | good |  0 | intermediate |\n",
       "| NA.39 | NA  | NA   | NA | NA           |\n",
       "| NA.40 | NA  | NA   | NA | NA           |\n",
       "\n"
      ],
      "text/plain": [
       "      sample delta_ef_value_class_summarized delta_ef_value\n",
       "NA    NA     NA                              NA            \n",
       "NA.1  NA     NA                              NA            \n",
       "NA.2  NA     NA                              NA            \n",
       "NA.3  NA     NA                              NA            \n",
       "NA.4  NA     NA                              NA            \n",
       "NA.5  NA     NA                              NA            \n",
       "NA.6  NA     NA                              NA            \n",
       "NA.7  NA     NA                              NA            \n",
       "NA.8  NA     NA                              NA            \n",
       "NA.9  NA     NA                              NA            \n",
       "NA.10 NA     NA                              NA            \n",
       "NA.11 NA     NA                              NA            \n",
       "NA.12 NA     NA                              NA            \n",
       "NA.13 NA     NA                              NA            \n",
       "NA.14 NA     NA                              NA            \n",
       "NA.15 NA     NA                              NA            \n",
       "NA.16 NA     NA                              NA            \n",
       "NA.17 NA     NA                              NA            \n",
       "NA.18 NA     NA                              NA            \n",
       "NA.19 NA     NA                              NA            \n",
       "NA.20 NA     NA                              NA            \n",
       "NA.21 NA     NA                              NA            \n",
       "NA.22 NA     NA                              NA            \n",
       "NA.23 NA     NA                              NA            \n",
       "NA.24 NA     NA                              NA            \n",
       "NA.25 NA     NA                              NA            \n",
       "NA.26 NA     NA                              NA            \n",
       "NA.27 NA     NA                              NA            \n",
       "NA.28 NA     NA                              NA            \n",
       "NA.29 NA     NA                              NA            \n",
       "NA.30 NA     NA                              NA            \n",
       "NA.31 NA     NA                              NA            \n",
       "NA.32 NA     NA                              NA            \n",
       "NA.33 NA     NA                              NA            \n",
       "NA.34 NA     NA                              NA            \n",
       "NA.35 NA     NA                              NA            \n",
       "NA.36 NA     NA                              NA            \n",
       "NA.37 NA     NA                              NA            \n",
       "NA.38 NA     NA                              NA            \n",
       "96    M23    good                             0            \n",
       "NA.39 NA     NA                              NA            \n",
       "NA.40 NA     NA                              NA            \n",
       "      delta_ef_value_class\n",
       "NA    NA                  \n",
       "NA.1  NA                  \n",
       "NA.2  NA                  \n",
       "NA.3  NA                  \n",
       "NA.4  NA                  \n",
       "NA.5  NA                  \n",
       "NA.6  NA                  \n",
       "NA.7  NA                  \n",
       "NA.8  NA                  \n",
       "NA.9  NA                  \n",
       "NA.10 NA                  \n",
       "NA.11 NA                  \n",
       "NA.12 NA                  \n",
       "NA.13 NA                  \n",
       "NA.14 NA                  \n",
       "NA.15 NA                  \n",
       "NA.16 NA                  \n",
       "NA.17 NA                  \n",
       "NA.18 NA                  \n",
       "NA.19 NA                  \n",
       "NA.20 NA                  \n",
       "NA.21 NA                  \n",
       "NA.22 NA                  \n",
       "NA.23 NA                  \n",
       "NA.24 NA                  \n",
       "NA.25 NA                  \n",
       "NA.26 NA                  \n",
       "NA.27 NA                  \n",
       "NA.28 NA                  \n",
       "NA.29 NA                  \n",
       "NA.30 NA                  \n",
       "NA.31 NA                  \n",
       "NA.32 NA                  \n",
       "NA.33 NA                  \n",
       "NA.34 NA                  \n",
       "NA.35 NA                  \n",
       "NA.36 NA                  \n",
       "NA.37 NA                  \n",
       "NA.38 NA                  \n",
       "96    intermediate        \n",
       "NA.39 NA                  \n",
       "NA.40 NA                  "
      ]
     },
     "metadata": {},
     "output_type": "display_data"
    }
   ],
   "source": [
    "test[test$delta_ef_value == 0,]"
   ]
  },
  {
   "cell_type": "code",
   "execution_count": 17,
   "id": "809e32cf-8fb9-4a18-979f-d21b96b396c4",
   "metadata": {},
   "outputs": [],
   "source": [
    "## Concatenate outcome with class"
   ]
  },
  {
   "cell_type": "code",
   "execution_count": 18,
   "id": "5aade7b2-65af-444a-b9b9-da36dd663583",
   "metadata": {},
   "outputs": [],
   "source": [
    "sample_data$tp_outcome = paste0(sample_data$measurement, '_', sample_data$delta_ef_value_class_summarized)"
   ]
  },
  {
   "cell_type": "code",
   "execution_count": 19,
   "id": "ee6bb7a9-8983-4328-a05c-4b5659b868b4",
   "metadata": {},
   "outputs": [
    {
     "data": {
      "text/html": [
       "<style>\n",
       ".list-inline {list-style: none; margin:0; padding: 0}\n",
       ".list-inline>li {display: inline-block}\n",
       ".list-inline>li:not(:last-child)::after {content: \"\\00b7\"; padding: 0 .5ex}\n",
       "</style>\n",
       "<ol class=list-inline><li>'TP0_NA'</li><li>'TP1_NA'</li><li>'TP2_NA'</li><li>'TP3_NA'</li><li>'TP4_NA'</li><li>'TP1_bad'</li><li>'TP2_bad'</li><li>'TP3_bad'</li><li>'TP4_bad'</li><li>'TP1_good'</li><li>'TP2_good'</li><li>'TP3_good'</li><li>'TP4_good'</li></ol>\n"
      ],
      "text/latex": [
       "\\begin{enumerate*}\n",
       "\\item 'TP0\\_NA'\n",
       "\\item 'TP1\\_NA'\n",
       "\\item 'TP2\\_NA'\n",
       "\\item 'TP3\\_NA'\n",
       "\\item 'TP4\\_NA'\n",
       "\\item 'TP1\\_bad'\n",
       "\\item 'TP2\\_bad'\n",
       "\\item 'TP3\\_bad'\n",
       "\\item 'TP4\\_bad'\n",
       "\\item 'TP1\\_good'\n",
       "\\item 'TP2\\_good'\n",
       "\\item 'TP3\\_good'\n",
       "\\item 'TP4\\_good'\n",
       "\\end{enumerate*}\n"
      ],
      "text/markdown": [
       "1. 'TP0_NA'\n",
       "2. 'TP1_NA'\n",
       "3. 'TP2_NA'\n",
       "4. 'TP3_NA'\n",
       "5. 'TP4_NA'\n",
       "6. 'TP1_bad'\n",
       "7. 'TP2_bad'\n",
       "8. 'TP3_bad'\n",
       "9. 'TP4_bad'\n",
       "10. 'TP1_good'\n",
       "11. 'TP2_good'\n",
       "12. 'TP3_good'\n",
       "13. 'TP4_good'\n",
       "\n",
       "\n"
      ],
      "text/plain": [
       " [1] \"TP0_NA\"   \"TP1_NA\"   \"TP2_NA\"   \"TP3_NA\"   \"TP4_NA\"   \"TP1_bad\" \n",
       " [7] \"TP2_bad\"  \"TP3_bad\"  \"TP4_bad\"  \"TP1_good\" \"TP2_good\" \"TP3_good\"\n",
       "[13] \"TP4_good\""
      ]
     },
     "metadata": {},
     "output_type": "display_data"
    }
   ],
   "source": [
    "unique(sample_data$tp_outcome)"
   ]
  },
  {
   "cell_type": "code",
   "execution_count": 20,
   "id": "e210c486-7d41-44bc-8a15-4210dbc07edd",
   "metadata": {},
   "outputs": [
    {
     "data": {
      "text/html": [
       "<table class=\"dataframe\">\n",
       "<caption>A data.frame: 7 × 32</caption>\n",
       "<thead>\n",
       "\t<tr><th></th><th scope=col>X.1</th><th scope=col>sample_id</th><th scope=col>sample</th><th scope=col>id</th><th scope=col>measurement</th><th scope=col>library</th><th scope=col>id.y</th><th scope=col>name</th><th scope=col>read</th><th scope=col>pattern</th><th scope=col>⋯</th><th scope=col>delta_ef_value</th><th scope=col>delta_ef_value_class</th><th scope=col>ef_classification_data</th><th scope=col>CK</th><th scope=col>CK_MB</th><th scope=col>Troponin</th><th scope=col>CRP</th><th scope=col>clinical_data</th><th scope=col>delta_ef_value_class_summarized</th><th scope=col>tp_outcome</th></tr>\n",
       "\t<tr><th></th><th scope=col>&lt;int&gt;</th><th scope=col>&lt;chr&gt;</th><th scope=col>&lt;chr&gt;</th><th scope=col>&lt;dbl&gt;</th><th scope=col>&lt;chr&gt;</th><th scope=col>&lt;chr&gt;</th><th scope=col>&lt;chr&gt;</th><th scope=col>&lt;chr&gt;</th><th scope=col>&lt;chr&gt;</th><th scope=col>&lt;chr&gt;</th><th scope=col>⋯</th><th scope=col>&lt;dbl&gt;</th><th scope=col>&lt;chr&gt;</th><th scope=col>&lt;int&gt;</th><th scope=col>&lt;int&gt;</th><th scope=col>&lt;chr&gt;</th><th scope=col>&lt;dbl&gt;</th><th scope=col>&lt;chr&gt;</th><th scope=col>&lt;int&gt;</th><th scope=col>&lt;chr&gt;</th><th scope=col>&lt;chr&gt;</th></tr>\n",
       "</thead>\n",
       "<tbody>\n",
       "\t<tr><th scope=row>39</th><td> 39</td><td>m10.1</td><td>M10</td><td>10.1</td><td>TP1</td><td>L1</td><td>HTO_B0260</td><td>10.1</td><td>R2</td><td>5PNNNNNNNNNN(BC)</td><td>⋯</td><td>-0.300</td><td>bad</td><td>1</td><td>5116</td><td>1262</td><td>24.900</td><td>0.6 </td><td>1</td><td>bad</td><td>TP1_bad</td></tr>\n",
       "\t<tr><th scope=row>51</th><td> 51</td><td>m13.1</td><td>M13</td><td>13.1</td><td>TP1</td><td>L2</td><td>HTO_B0253</td><td>13.1</td><td>R2</td><td>5PNNNNNNNNNN(BC)</td><td>⋯</td><td>-2.200</td><td>bad</td><td>1</td><td>1446</td><td>146 </td><td> 1.690</td><td>0.3 </td><td>1</td><td>bad</td><td>TP1_bad</td></tr>\n",
       "\t<tr><th scope=row>56</th><td> 56</td><td>m14.1</td><td>M14</td><td>14.1</td><td>TP1</td><td>L2</td><td>HTO_B0254</td><td>14.1</td><td>R2</td><td>5PNNNNNNNNNN(BC)</td><td>⋯</td><td>-1.300</td><td>bad</td><td>1</td><td>2440</td><td>168 </td><td> 9.350</td><td>0.2 </td><td>1</td><td>bad</td><td>TP1_bad</td></tr>\n",
       "\t<tr><th scope=row>72</th><td> 72</td><td>m18.1</td><td>M18</td><td>18.1</td><td>TP1</td><td>L2</td><td>HTO_B0258</td><td>18.1</td><td>R2</td><td>5PNNNNNNNNNN(BC)</td><td>⋯</td><td>-2.500</td><td>bad</td><td>1</td><td>1341</td><td>228 </td><td> 4.190</td><td>0.2 </td><td>1</td><td>bad</td><td>TP1_bad</td></tr>\n",
       "\t<tr><th scope=row>84</th><td> 84</td><td>m20.1</td><td>M20</td><td>20.1</td><td>TP1</td><td>NA</td><td><span style=white-space:pre-wrap>NA       </span></td><td><span style=white-space:pre-wrap>NA  </span></td><td>NA</td><td><span style=white-space:pre-wrap>NA              </span></td><td>⋯</td><td>-1.000</td><td>bad</td><td>1</td><td> 662</td><td><span style=white-space:pre-wrap>77  </span></td><td> 0.680</td><td>&lt;0,1</td><td>1</td><td>bad</td><td>TP1_bad</td></tr>\n",
       "\t<tr><th scope=row>112</th><td>112</td><td>m27.1</td><td>M27</td><td>27.1</td><td>TP1</td><td>L3</td><td>HTO_B0257</td><td>27.1</td><td>R2</td><td>5PNNNNNNNNNN(BC)</td><td>⋯</td><td>-0.667</td><td>bad</td><td>1</td><td> 587</td><td>    </td><td> 0.649</td><td>0.2 </td><td>1</td><td>bad</td><td>TP1_bad</td></tr>\n",
       "\t<tr><th scope=row>120</th><td>120</td><td>m3.1 </td><td>M3 </td><td> 3.1</td><td>TP1</td><td>NA</td><td>NA       </td><td>NA  </td><td>NA</td><td>NA              </td><td>⋯</td><td>-0.060</td><td>bad</td><td>1</td><td>  NA</td><td>    </td><td>    NA</td><td>-   </td><td>1</td><td>bad</td><td>TP1_bad</td></tr>\n",
       "</tbody>\n",
       "</table>\n"
      ],
      "text/latex": [
       "A data.frame: 7 × 32\n",
       "\\begin{tabular}{r|lllllllllllllllllllll}\n",
       "  & X.1 & sample\\_id & sample & id & measurement & library & id.y & name & read & pattern & ⋯ & delta\\_ef\\_value & delta\\_ef\\_value\\_class & ef\\_classification\\_data & CK & CK\\_MB & Troponin & CRP & clinical\\_data & delta\\_ef\\_value\\_class\\_summarized & tp\\_outcome\\\\\n",
       "  & <int> & <chr> & <chr> & <dbl> & <chr> & <chr> & <chr> & <chr> & <chr> & <chr> & ⋯ & <dbl> & <chr> & <int> & <int> & <chr> & <dbl> & <chr> & <int> & <chr> & <chr>\\\\\n",
       "\\hline\n",
       "\t39 &  39 & m10.1 & M10 & 10.1 & TP1 & L1 & HTO\\_B0260 & 10.1 & R2 & 5PNNNNNNNNNN(BC) & ⋯ & -0.300 & bad & 1 & 5116 & 1262 & 24.900 & 0.6  & 1 & bad & TP1\\_bad\\\\\n",
       "\t51 &  51 & m13.1 & M13 & 13.1 & TP1 & L2 & HTO\\_B0253 & 13.1 & R2 & 5PNNNNNNNNNN(BC) & ⋯ & -2.200 & bad & 1 & 1446 & 146  &  1.690 & 0.3  & 1 & bad & TP1\\_bad\\\\\n",
       "\t56 &  56 & m14.1 & M14 & 14.1 & TP1 & L2 & HTO\\_B0254 & 14.1 & R2 & 5PNNNNNNNNNN(BC) & ⋯ & -1.300 & bad & 1 & 2440 & 168  &  9.350 & 0.2  & 1 & bad & TP1\\_bad\\\\\n",
       "\t72 &  72 & m18.1 & M18 & 18.1 & TP1 & L2 & HTO\\_B0258 & 18.1 & R2 & 5PNNNNNNNNNN(BC) & ⋯ & -2.500 & bad & 1 & 1341 & 228  &  4.190 & 0.2  & 1 & bad & TP1\\_bad\\\\\n",
       "\t84 &  84 & m20.1 & M20 & 20.1 & TP1 & NA & NA        & NA   & NA & NA               & ⋯ & -1.000 & bad & 1 &  662 & 77   &  0.680 & <0,1 & 1 & bad & TP1\\_bad\\\\\n",
       "\t112 & 112 & m27.1 & M27 & 27.1 & TP1 & L3 & HTO\\_B0257 & 27.1 & R2 & 5PNNNNNNNNNN(BC) & ⋯ & -0.667 & bad & 1 &  587 &      &  0.649 & 0.2  & 1 & bad & TP1\\_bad\\\\\n",
       "\t120 & 120 & m3.1  & M3  &  3.1 & TP1 & NA & NA        & NA   & NA & NA               & ⋯ & -0.060 & bad & 1 &   NA &      &     NA & -    & 1 & bad & TP1\\_bad\\\\\n",
       "\\end{tabular}\n"
      ],
      "text/markdown": [
       "\n",
       "A data.frame: 7 × 32\n",
       "\n",
       "| <!--/--> | X.1 &lt;int&gt; | sample_id &lt;chr&gt; | sample &lt;chr&gt; | id &lt;dbl&gt; | measurement &lt;chr&gt; | library &lt;chr&gt; | id.y &lt;chr&gt; | name &lt;chr&gt; | read &lt;chr&gt; | pattern &lt;chr&gt; | ⋯ ⋯ | delta_ef_value &lt;dbl&gt; | delta_ef_value_class &lt;chr&gt; | ef_classification_data &lt;int&gt; | CK &lt;int&gt; | CK_MB &lt;chr&gt; | Troponin &lt;dbl&gt; | CRP &lt;chr&gt; | clinical_data &lt;int&gt; | delta_ef_value_class_summarized &lt;chr&gt; | tp_outcome &lt;chr&gt; |\n",
       "|---|---|---|---|---|---|---|---|---|---|---|---|---|---|---|---|---|---|---|---|---|---|\n",
       "| 39 |  39 | m10.1 | M10 | 10.1 | TP1 | L1 | HTO_B0260 | 10.1 | R2 | 5PNNNNNNNNNN(BC) | ⋯ | -0.300 | bad | 1 | 5116 | 1262 | 24.900 | 0.6  | 1 | bad | TP1_bad |\n",
       "| 51 |  51 | m13.1 | M13 | 13.1 | TP1 | L2 | HTO_B0253 | 13.1 | R2 | 5PNNNNNNNNNN(BC) | ⋯ | -2.200 | bad | 1 | 1446 | 146  |  1.690 | 0.3  | 1 | bad | TP1_bad |\n",
       "| 56 |  56 | m14.1 | M14 | 14.1 | TP1 | L2 | HTO_B0254 | 14.1 | R2 | 5PNNNNNNNNNN(BC) | ⋯ | -1.300 | bad | 1 | 2440 | 168  |  9.350 | 0.2  | 1 | bad | TP1_bad |\n",
       "| 72 |  72 | m18.1 | M18 | 18.1 | TP1 | L2 | HTO_B0258 | 18.1 | R2 | 5PNNNNNNNNNN(BC) | ⋯ | -2.500 | bad | 1 | 1341 | 228  |  4.190 | 0.2  | 1 | bad | TP1_bad |\n",
       "| 84 |  84 | m20.1 | M20 | 20.1 | TP1 | NA | NA        | NA   | NA | NA               | ⋯ | -1.000 | bad | 1 |  662 | 77   |  0.680 | &lt;0,1 | 1 | bad | TP1_bad |\n",
       "| 112 | 112 | m27.1 | M27 | 27.1 | TP1 | L3 | HTO_B0257 | 27.1 | R2 | 5PNNNNNNNNNN(BC) | ⋯ | -0.667 | bad | 1 |  587 | <!----> |  0.649 | 0.2  | 1 | bad | TP1_bad |\n",
       "| 120 | 120 | m3.1  | M3  |  3.1 | TP1 | NA | NA        | NA   | NA | NA               | ⋯ | -0.060 | bad | 1 |   NA | <!----> |     NA | -    | 1 | bad | TP1_bad |\n",
       "\n"
      ],
      "text/plain": [
       "    X.1 sample_id sample id   measurement library id.y      name read\n",
       "39   39 m10.1     M10    10.1 TP1         L1      HTO_B0260 10.1 R2  \n",
       "51   51 m13.1     M13    13.1 TP1         L2      HTO_B0253 13.1 R2  \n",
       "56   56 m14.1     M14    14.1 TP1         L2      HTO_B0254 14.1 R2  \n",
       "72   72 m18.1     M18    18.1 TP1         L2      HTO_B0258 18.1 R2  \n",
       "84   84 m20.1     M20    20.1 TP1         NA      NA        NA   NA  \n",
       "112 112 m27.1     M27    27.1 TP1         L3      HTO_B0257 27.1 R2  \n",
       "120 120 m3.1      M3      3.1 TP1         NA      NA        NA   NA  \n",
       "    pattern          ⋯ delta_ef_value delta_ef_value_class\n",
       "39  5PNNNNNNNNNN(BC) ⋯ -0.300         bad                 \n",
       "51  5PNNNNNNNNNN(BC) ⋯ -2.200         bad                 \n",
       "56  5PNNNNNNNNNN(BC) ⋯ -1.300         bad                 \n",
       "72  5PNNNNNNNNNN(BC) ⋯ -2.500         bad                 \n",
       "84  NA               ⋯ -1.000         bad                 \n",
       "112 5PNNNNNNNNNN(BC) ⋯ -0.667         bad                 \n",
       "120 NA               ⋯ -0.060         bad                 \n",
       "    ef_classification_data CK   CK_MB Troponin CRP  clinical_data\n",
       "39  1                      5116 1262  24.900   0.6  1            \n",
       "51  1                      1446 146    1.690   0.3  1            \n",
       "56  1                      2440 168    9.350   0.2  1            \n",
       "72  1                      1341 228    4.190   0.2  1            \n",
       "84  1                       662 77     0.680   <0,1 1            \n",
       "112 1                       587        0.649   0.2  1            \n",
       "120 1                        NA           NA   -    1            \n",
       "    delta_ef_value_class_summarized tp_outcome\n",
       "39  bad                             TP1_bad   \n",
       "51  bad                             TP1_bad   \n",
       "56  bad                             TP1_bad   \n",
       "72  bad                             TP1_bad   \n",
       "84  bad                             TP1_bad   \n",
       "112 bad                             TP1_bad   \n",
       "120 bad                             TP1_bad   "
      ]
     },
     "metadata": {},
     "output_type": "display_data"
    }
   ],
   "source": [
    "sample_data[sample_data$tp_outcome == 'TP1_bad',]"
   ]
  },
  {
   "cell_type": "code",
   "execution_count": 22,
   "id": "57bb5c23-b7f9-4c09-abd0-3c5614d3fda7",
   "metadata": {},
   "outputs": [
    {
     "data": {
      "text/html": [
       "<table class=\"dataframe\">\n",
       "<caption>A grouped_df: 13 × 2</caption>\n",
       "<thead>\n",
       "\t<tr><th scope=col>tp_outcome</th><th scope=col>n</th></tr>\n",
       "\t<tr><th scope=col>&lt;chr&gt;</th><th scope=col>&lt;int&gt;</th></tr>\n",
       "</thead>\n",
       "<tbody>\n",
       "\t<tr><td>TP0_NA  </td><td>34</td></tr>\n",
       "\t<tr><td>TP1_bad </td><td> 7</td></tr>\n",
       "\t<tr><td>TP1_good</td><td>15</td></tr>\n",
       "\t<tr><td>TP1_NA  </td><td> 7</td></tr>\n",
       "\t<tr><td>TP2_bad </td><td> 8</td></tr>\n",
       "\t<tr><td>TP2_good</td><td>14</td></tr>\n",
       "\t<tr><td>TP2_NA  </td><td> 7</td></tr>\n",
       "\t<tr><td>TP3_bad </td><td> 7</td></tr>\n",
       "\t<tr><td>TP3_good</td><td>14</td></tr>\n",
       "\t<tr><td>TP3_NA  </td><td> 7</td></tr>\n",
       "\t<tr><td>TP4_bad </td><td> 7</td></tr>\n",
       "\t<tr><td>TP4_good</td><td>15</td></tr>\n",
       "\t<tr><td>TP4_NA  </td><td> 7</td></tr>\n",
       "</tbody>\n",
       "</table>\n"
      ],
      "text/latex": [
       "A grouped\\_df: 13 × 2\n",
       "\\begin{tabular}{ll}\n",
       " tp\\_outcome & n\\\\\n",
       " <chr> & <int>\\\\\n",
       "\\hline\n",
       "\t TP0\\_NA   & 34\\\\\n",
       "\t TP1\\_bad  &  7\\\\\n",
       "\t TP1\\_good & 15\\\\\n",
       "\t TP1\\_NA   &  7\\\\\n",
       "\t TP2\\_bad  &  8\\\\\n",
       "\t TP2\\_good & 14\\\\\n",
       "\t TP2\\_NA   &  7\\\\\n",
       "\t TP3\\_bad  &  7\\\\\n",
       "\t TP3\\_good & 14\\\\\n",
       "\t TP3\\_NA   &  7\\\\\n",
       "\t TP4\\_bad  &  7\\\\\n",
       "\t TP4\\_good & 15\\\\\n",
       "\t TP4\\_NA   &  7\\\\\n",
       "\\end{tabular}\n"
      ],
      "text/markdown": [
       "\n",
       "A grouped_df: 13 × 2\n",
       "\n",
       "| tp_outcome &lt;chr&gt; | n &lt;int&gt; |\n",
       "|---|---|\n",
       "| TP0_NA   | 34 |\n",
       "| TP1_bad  |  7 |\n",
       "| TP1_good | 15 |\n",
       "| TP1_NA   |  7 |\n",
       "| TP2_bad  |  8 |\n",
       "| TP2_good | 14 |\n",
       "| TP2_NA   |  7 |\n",
       "| TP3_bad  |  7 |\n",
       "| TP3_good | 14 |\n",
       "| TP3_NA   |  7 |\n",
       "| TP4_bad  |  7 |\n",
       "| TP4_good | 15 |\n",
       "| TP4_NA   |  7 |\n",
       "\n"
      ],
      "text/plain": [
       "   tp_outcome n \n",
       "1  TP0_NA     34\n",
       "2  TP1_bad     7\n",
       "3  TP1_good   15\n",
       "4  TP1_NA      7\n",
       "5  TP2_bad     8\n",
       "6  TP2_good   14\n",
       "7  TP2_NA      7\n",
       "8  TP3_bad     7\n",
       "9  TP3_good   14\n",
       "10 TP3_NA      7\n",
       "11 TP4_bad     7\n",
       "12 TP4_good   15\n",
       "13 TP4_NA      7"
      ]
     },
     "metadata": {},
     "output_type": "display_data"
    }
   ],
   "source": [
    "sample_data %>% group_by(tp_outcome) %>% count()"
   ]
  },
  {
   "cell_type": "code",
   "execution_count": null,
   "id": "dd968c8d-b084-4d27-b087-2978272a9dc2",
   "metadata": {},
   "outputs": [],
   "source": []
  },
  {
   "cell_type": "markdown",
   "id": "05decb44-844d-41f0-8b3a-e33a4e7a9331",
   "metadata": {},
   "source": [
    "## Factor Data to use"
   ]
  },
  {
   "cell_type": "code",
   "execution_count": 25,
   "id": "d773368d-616d-4eab-b81c-34a3e950eebe",
   "metadata": {},
   "outputs": [
    {
     "name": "stdout",
     "output_type": "stream",
     "text": [
      "[1] \"2023-01-18 15:19:14 CET\"\n"
     ]
    }
   ],
   "source": [
    "path = paste0(result_path, '/E-Analysis/Factor_Data_', version, '.csv')\n",
    "factor_data = read.csv(path)\n",
    "print(file.info(path)$mtime)\n",
    "#factor_data = read.csv(paste0(result_path, '/E-Analysis/E10_Factor_Data_REDUCED' , version ,'.csv'))"
   ]
  },
  {
   "cell_type": "code",
   "execution_count": 26,
   "id": "6645751a-e169-411e-9f24-50edbcaf7f9d",
   "metadata": {},
   "outputs": [
    {
     "data": {
      "text/html": [
       "'../results/current/E-Analysis/Factor_Data_V_FINAL_INTEGRATED_FALSE.csv'"
      ],
      "text/latex": [
       "'../results/current/E-Analysis/Factor\\_Data\\_V\\_FINAL\\_INTEGRATED\\_FALSE.csv'"
      ],
      "text/markdown": [
       "'../results/current/E-Analysis/Factor_Data_V_FINAL_INTEGRATED_FALSE.csv'"
      ],
      "text/plain": [
       "[1] \"../results/current/E-Analysis/Factor_Data_V_FINAL_INTEGRATED_FALSE.csv\""
      ]
     },
     "metadata": {},
     "output_type": "display_data"
    }
   ],
   "source": [
    "path"
   ]
  },
  {
   "cell_type": "code",
   "execution_count": 27,
   "id": "226573f0-3feb-4653-8f30-d23626f4c0cf",
   "metadata": {},
   "outputs": [
    {
     "data": {
      "text/html": [
       "<table class=\"dataframe\">\n",
       "<caption>A data.frame: 4 × 21</caption>\n",
       "<thead>\n",
       "\t<tr><th></th><th scope=col>Factor1</th><th scope=col>Factor2</th><th scope=col>Factor3</th><th scope=col>Factor4</th><th scope=col>Factor5</th><th scope=col>Factor6</th><th scope=col>Factor7</th><th scope=col>Factor8</th><th scope=col>Factor9</th><th scope=col>Factor10</th><th scope=col>⋯</th><th scope=col>Factor12</th><th scope=col>Factor13</th><th scope=col>Factor14</th><th scope=col>Factor15</th><th scope=col>Factor16</th><th scope=col>Factor17</th><th scope=col>Factor18</th><th scope=col>Factor19</th><th scope=col>Factor20</th><th scope=col>sample_id</th></tr>\n",
       "\t<tr><th></th><th scope=col>&lt;dbl&gt;</th><th scope=col>&lt;dbl&gt;</th><th scope=col>&lt;dbl&gt;</th><th scope=col>&lt;dbl&gt;</th><th scope=col>&lt;dbl&gt;</th><th scope=col>&lt;dbl&gt;</th><th scope=col>&lt;dbl&gt;</th><th scope=col>&lt;dbl&gt;</th><th scope=col>&lt;dbl&gt;</th><th scope=col>&lt;dbl&gt;</th><th scope=col>⋯</th><th scope=col>&lt;dbl&gt;</th><th scope=col>&lt;dbl&gt;</th><th scope=col>&lt;dbl&gt;</th><th scope=col>&lt;dbl&gt;</th><th scope=col>&lt;dbl&gt;</th><th scope=col>&lt;dbl&gt;</th><th scope=col>&lt;dbl&gt;</th><th scope=col>&lt;dbl&gt;</th><th scope=col>&lt;dbl&gt;</th><th scope=col>&lt;chr&gt;</th></tr>\n",
       "</thead>\n",
       "<tbody>\n",
       "\t<tr><th scope=row>1</th><td> 0.4811325</td><td>-0.2731317</td><td> 1.4988169</td><td>-0.4135678</td><td>1.5052706</td><td>-0.92308998</td><td>-0.3904185</td><td>-0.1944797</td><td> 0.16486799</td><td>-0.558130047</td><td>⋯</td><td> 1.371875754</td><td> 0.18829559</td><td>-0.30821631</td><td>-0.47997108</td><td> 0.34688969</td><td> 0.56926106</td><td> 0.416665730</td><td>-0.60204874</td><td>-0.03085489</td><td>k1 </td></tr>\n",
       "\t<tr><th scope=row>2</th><td> 0.8920603</td><td>-0.7547770</td><td> 0.3501023</td><td>-0.1524478</td><td>0.4074517</td><td>-0.04596939</td><td> 0.6276925</td><td>-1.1656937</td><td>-0.05003504</td><td>-0.338034341</td><td>⋯</td><td>-0.102028456</td><td> 0.11991185</td><td> 0.20967181</td><td> 0.09246619</td><td> 0.13351102</td><td>-0.04905520</td><td>-0.001722867</td><td> 0.07838055</td><td>-0.03818913</td><td>k10</td></tr>\n",
       "\t<tr><th scope=row>3</th><td>-1.2439808</td><td>-0.9826224</td><td>-0.8230479</td><td>-0.3559941</td><td>1.0458397</td><td> 0.11800347</td><td>-0.2770340</td><td>-0.1901323</td><td>-0.10959612</td><td>-0.479903608</td><td>⋯</td><td>-0.015925683</td><td>-0.04062541</td><td> 0.04315219</td><td>-0.02329634</td><td>-0.02298920</td><td> 0.03253449</td><td> 0.177102131</td><td> 0.11100223</td><td>-0.02994567</td><td>k11</td></tr>\n",
       "\t<tr><th scope=row>4</th><td>-1.9847781</td><td>-1.6711527</td><td>-1.0857874</td><td>-0.4570102</td><td>0.6403206</td><td>-0.37214375</td><td>-0.9344379</td><td>-0.1916442</td><td> 0.03676072</td><td>-0.004778085</td><td>⋯</td><td> 0.001169425</td><td> 0.03116989</td><td> 0.14784586</td><td> 0.48202979</td><td> 0.01680141</td><td> 0.01807012</td><td> 0.288699222</td><td>-0.15412217</td><td>-0.10906315</td><td>k12</td></tr>\n",
       "</tbody>\n",
       "</table>\n"
      ],
      "text/latex": [
       "A data.frame: 4 × 21\n",
       "\\begin{tabular}{r|lllllllllllllllllllll}\n",
       "  & Factor1 & Factor2 & Factor3 & Factor4 & Factor5 & Factor6 & Factor7 & Factor8 & Factor9 & Factor10 & ⋯ & Factor12 & Factor13 & Factor14 & Factor15 & Factor16 & Factor17 & Factor18 & Factor19 & Factor20 & sample\\_id\\\\\n",
       "  & <dbl> & <dbl> & <dbl> & <dbl> & <dbl> & <dbl> & <dbl> & <dbl> & <dbl> & <dbl> & ⋯ & <dbl> & <dbl> & <dbl> & <dbl> & <dbl> & <dbl> & <dbl> & <dbl> & <dbl> & <chr>\\\\\n",
       "\\hline\n",
       "\t1 &  0.4811325 & -0.2731317 &  1.4988169 & -0.4135678 & 1.5052706 & -0.92308998 & -0.3904185 & -0.1944797 &  0.16486799 & -0.558130047 & ⋯ &  1.371875754 &  0.18829559 & -0.30821631 & -0.47997108 &  0.34688969 &  0.56926106 &  0.416665730 & -0.60204874 & -0.03085489 & k1 \\\\\n",
       "\t2 &  0.8920603 & -0.7547770 &  0.3501023 & -0.1524478 & 0.4074517 & -0.04596939 &  0.6276925 & -1.1656937 & -0.05003504 & -0.338034341 & ⋯ & -0.102028456 &  0.11991185 &  0.20967181 &  0.09246619 &  0.13351102 & -0.04905520 & -0.001722867 &  0.07838055 & -0.03818913 & k10\\\\\n",
       "\t3 & -1.2439808 & -0.9826224 & -0.8230479 & -0.3559941 & 1.0458397 &  0.11800347 & -0.2770340 & -0.1901323 & -0.10959612 & -0.479903608 & ⋯ & -0.015925683 & -0.04062541 &  0.04315219 & -0.02329634 & -0.02298920 &  0.03253449 &  0.177102131 &  0.11100223 & -0.02994567 & k11\\\\\n",
       "\t4 & -1.9847781 & -1.6711527 & -1.0857874 & -0.4570102 & 0.6403206 & -0.37214375 & -0.9344379 & -0.1916442 &  0.03676072 & -0.004778085 & ⋯ &  0.001169425 &  0.03116989 &  0.14784586 &  0.48202979 &  0.01680141 &  0.01807012 &  0.288699222 & -0.15412217 & -0.10906315 & k12\\\\\n",
       "\\end{tabular}\n"
      ],
      "text/markdown": [
       "\n",
       "A data.frame: 4 × 21\n",
       "\n",
       "| <!--/--> | Factor1 &lt;dbl&gt; | Factor2 &lt;dbl&gt; | Factor3 &lt;dbl&gt; | Factor4 &lt;dbl&gt; | Factor5 &lt;dbl&gt; | Factor6 &lt;dbl&gt; | Factor7 &lt;dbl&gt; | Factor8 &lt;dbl&gt; | Factor9 &lt;dbl&gt; | Factor10 &lt;dbl&gt; | ⋯ ⋯ | Factor12 &lt;dbl&gt; | Factor13 &lt;dbl&gt; | Factor14 &lt;dbl&gt; | Factor15 &lt;dbl&gt; | Factor16 &lt;dbl&gt; | Factor17 &lt;dbl&gt; | Factor18 &lt;dbl&gt; | Factor19 &lt;dbl&gt; | Factor20 &lt;dbl&gt; | sample_id &lt;chr&gt; |\n",
       "|---|---|---|---|---|---|---|---|---|---|---|---|---|---|---|---|---|---|---|---|---|---|\n",
       "| 1 |  0.4811325 | -0.2731317 |  1.4988169 | -0.4135678 | 1.5052706 | -0.92308998 | -0.3904185 | -0.1944797 |  0.16486799 | -0.558130047 | ⋯ |  1.371875754 |  0.18829559 | -0.30821631 | -0.47997108 |  0.34688969 |  0.56926106 |  0.416665730 | -0.60204874 | -0.03085489 | k1  |\n",
       "| 2 |  0.8920603 | -0.7547770 |  0.3501023 | -0.1524478 | 0.4074517 | -0.04596939 |  0.6276925 | -1.1656937 | -0.05003504 | -0.338034341 | ⋯ | -0.102028456 |  0.11991185 |  0.20967181 |  0.09246619 |  0.13351102 | -0.04905520 | -0.001722867 |  0.07838055 | -0.03818913 | k10 |\n",
       "| 3 | -1.2439808 | -0.9826224 | -0.8230479 | -0.3559941 | 1.0458397 |  0.11800347 | -0.2770340 | -0.1901323 | -0.10959612 | -0.479903608 | ⋯ | -0.015925683 | -0.04062541 |  0.04315219 | -0.02329634 | -0.02298920 |  0.03253449 |  0.177102131 |  0.11100223 | -0.02994567 | k11 |\n",
       "| 4 | -1.9847781 | -1.6711527 | -1.0857874 | -0.4570102 | 0.6403206 | -0.37214375 | -0.9344379 | -0.1916442 |  0.03676072 | -0.004778085 | ⋯ |  0.001169425 |  0.03116989 |  0.14784586 |  0.48202979 |  0.01680141 |  0.01807012 |  0.288699222 | -0.15412217 | -0.10906315 | k12 |\n",
       "\n"
      ],
      "text/plain": [
       "  Factor1    Factor2    Factor3    Factor4    Factor5   Factor6     Factor7   \n",
       "1  0.4811325 -0.2731317  1.4988169 -0.4135678 1.5052706 -0.92308998 -0.3904185\n",
       "2  0.8920603 -0.7547770  0.3501023 -0.1524478 0.4074517 -0.04596939  0.6276925\n",
       "3 -1.2439808 -0.9826224 -0.8230479 -0.3559941 1.0458397  0.11800347 -0.2770340\n",
       "4 -1.9847781 -1.6711527 -1.0857874 -0.4570102 0.6403206 -0.37214375 -0.9344379\n",
       "  Factor8    Factor9     Factor10     ⋯ Factor12     Factor13    Factor14   \n",
       "1 -0.1944797  0.16486799 -0.558130047 ⋯  1.371875754  0.18829559 -0.30821631\n",
       "2 -1.1656937 -0.05003504 -0.338034341 ⋯ -0.102028456  0.11991185  0.20967181\n",
       "3 -0.1901323 -0.10959612 -0.479903608 ⋯ -0.015925683 -0.04062541  0.04315219\n",
       "4 -0.1916442  0.03676072 -0.004778085 ⋯  0.001169425  0.03116989  0.14784586\n",
       "  Factor15    Factor16    Factor17    Factor18     Factor19    Factor20   \n",
       "1 -0.47997108  0.34688969  0.56926106  0.416665730 -0.60204874 -0.03085489\n",
       "2  0.09246619  0.13351102 -0.04905520 -0.001722867  0.07838055 -0.03818913\n",
       "3 -0.02329634 -0.02298920  0.03253449  0.177102131  0.11100223 -0.02994567\n",
       "4  0.48202979  0.01680141  0.01807012  0.288699222 -0.15412217 -0.10906315\n",
       "  sample_id\n",
       "1 k1       \n",
       "2 k10      \n",
       "3 k11      \n",
       "4 k12      "
      ]
     },
     "metadata": {},
     "output_type": "display_data"
    }
   ],
   "source": [
    "head(factor_data,4)"
   ]
  },
  {
   "cell_type": "markdown",
   "id": "2e37f9bb-51ac-482f-b3b7-761b9411fd13",
   "metadata": {},
   "source": [
    "## Normalized Gene Expression Data"
   ]
  },
  {
   "cell_type": "code",
   "execution_count": 28,
   "id": "7b996b04-8e1e-4a6c-8aef-dad510291955",
   "metadata": {},
   "outputs": [
    {
     "name": "stdout",
     "output_type": "stream",
     "text": [
      "[1] \"2023-01-18 14:51:49 CET\"\n"
     ]
    }
   ],
   "source": [
    "path = paste0(result_path, '/E-Analysis/Combined_Data_',str_replace(version, '_FALSE', ''),'.csv')\n",
    "data_long = read.csv(path)\n",
    "print(file.info(path)$mtime)"
   ]
  },
  {
   "cell_type": "code",
   "execution_count": 29,
   "id": "93973dad-2585-4d33-8ce6-e66d7234c01a",
   "metadata": {},
   "outputs": [
    {
     "data": {
      "text/html": [
       "<table class=\"dataframe\">\n",
       "<caption>A data.frame: 2 × 5</caption>\n",
       "<thead>\n",
       "\t<tr><th></th><th scope=col>X</th><th scope=col>sample_id</th><th scope=col>variable</th><th scope=col>value</th><th scope=col>type</th></tr>\n",
       "\t<tr><th></th><th scope=col>&lt;int&gt;</th><th scope=col>&lt;chr&gt;</th><th scope=col>&lt;chr&gt;</th><th scope=col>&lt;dbl&gt;</th><th scope=col>&lt;chr&gt;</th></tr>\n",
       "</thead>\n",
       "<tbody>\n",
       "\t<tr><th scope=row>1</th><td>1</td><td>k1 </td><td>CK</td><td>-2.397022</td><td>clinical_data</td></tr>\n",
       "\t<tr><th scope=row>2</th><td>2</td><td>k10</td><td>CK</td><td>       NA</td><td>clinical_data</td></tr>\n",
       "</tbody>\n",
       "</table>\n"
      ],
      "text/latex": [
       "A data.frame: 2 × 5\n",
       "\\begin{tabular}{r|lllll}\n",
       "  & X & sample\\_id & variable & value & type\\\\\n",
       "  & <int> & <chr> & <chr> & <dbl> & <chr>\\\\\n",
       "\\hline\n",
       "\t1 & 1 & k1  & CK & -2.397022 & clinical\\_data\\\\\n",
       "\t2 & 2 & k10 & CK &        NA & clinical\\_data\\\\\n",
       "\\end{tabular}\n"
      ],
      "text/markdown": [
       "\n",
       "A data.frame: 2 × 5\n",
       "\n",
       "| <!--/--> | X &lt;int&gt; | sample_id &lt;chr&gt; | variable &lt;chr&gt; | value &lt;dbl&gt; | type &lt;chr&gt; |\n",
       "|---|---|---|---|---|---|\n",
       "| 1 | 1 | k1  | CK | -2.397022 | clinical_data |\n",
       "| 2 | 2 | k10 | CK |        NA | clinical_data |\n",
       "\n"
      ],
      "text/plain": [
       "  X sample_id variable value     type         \n",
       "1 1 k1        CK       -2.397022 clinical_data\n",
       "2 2 k10       CK              NA clinical_data"
      ]
     },
     "metadata": {},
     "output_type": "display_data"
    }
   ],
   "source": [
    "head(data_long,2)"
   ]
  },
  {
   "cell_type": "code",
   "execution_count": 30,
   "id": "d0d1e32d-c491-4736-ad77-62e92a2fa8d8",
   "metadata": {},
   "outputs": [],
   "source": [
    "data_long$X = NULL"
   ]
  },
  {
   "cell_type": "markdown",
   "id": "fadae648-630f-4e69-90bc-13da36a2cb5e",
   "metadata": {},
   "source": [
    "## Score Data for ccs vs no-ccs"
   ]
  },
  {
   "cell_type": "code",
   "execution_count": 31,
   "id": "eb1d10ce-9784-4164-8cf4-98da9eaccd6f",
   "metadata": {},
   "outputs": [],
   "source": [
    "## TBD"
   ]
  },
  {
   "cell_type": "code",
   "execution_count": 32,
   "id": "461b18e2-3151-4d0f-b0db-c8d85f25929c",
   "metadata": {},
   "outputs": [
    {
     "name": "stdout",
     "output_type": "stream",
     "text": [
      "[1] \"2022-11-30 20:47:46 CET\"\n"
     ]
    }
   ],
   "source": [
    "path = paste0(data_path, '/preprocessed-data/meta-data/scores_prediction_prepared.csv')\n",
    "ccs_scores = read.csv(path)\n",
    "print(file.info(path)$mtime)"
   ]
  },
  {
   "cell_type": "code",
   "execution_count": 33,
   "id": "a06c7f53-0870-406b-a2c4-f37a0092fbcf",
   "metadata": {},
   "outputs": [
    {
     "data": {
      "text/html": [
       "<table class=\"dataframe\">\n",
       "<caption>A data.frame: 2 × 4</caption>\n",
       "<thead>\n",
       "\t<tr><th></th><th scope=col>sample_id</th><th scope=col>score</th><th scope=col>score_prepared</th><th scope=col>class</th></tr>\n",
       "\t<tr><th></th><th scope=col>&lt;chr&gt;</th><th scope=col>&lt;chr&gt;</th><th scope=col>&lt;dbl&gt;</th><th scope=col>&lt;chr&gt;</th></tr>\n",
       "</thead>\n",
       "<tbody>\n",
       "\t<tr><th scope=row>1</th><td>k1</td><td>4%</td><td>0.04</td><td>No CCS </td></tr>\n",
       "\t<tr><th scope=row>2</th><td>k2</td><td>- </td><td>  NA</td><td>CCS    </td></tr>\n",
       "</tbody>\n",
       "</table>\n"
      ],
      "text/latex": [
       "A data.frame: 2 × 4\n",
       "\\begin{tabular}{r|llll}\n",
       "  & sample\\_id & score & score\\_prepared & class\\\\\n",
       "  & <chr> & <chr> & <dbl> & <chr>\\\\\n",
       "\\hline\n",
       "\t1 & k1 & 4\\% & 0.04 & No CCS \\\\\n",
       "\t2 & k2 & -  &   NA & CCS    \\\\\n",
       "\\end{tabular}\n"
      ],
      "text/markdown": [
       "\n",
       "A data.frame: 2 × 4\n",
       "\n",
       "| <!--/--> | sample_id &lt;chr&gt; | score &lt;chr&gt; | score_prepared &lt;dbl&gt; | class &lt;chr&gt; |\n",
       "|---|---|---|---|---|\n",
       "| 1 | k1 | 4% | 0.04 | No CCS  |\n",
       "| 2 | k2 | -  |   NA | CCS     |\n",
       "\n"
      ],
      "text/plain": [
       "  sample_id score score_prepared class  \n",
       "1 k1        4%    0.04           No CCS \n",
       "2 k2        -       NA           CCS    "
      ]
     },
     "metadata": {},
     "output_type": "display_data"
    }
   ],
   "source": [
    "head(ccs_scores,2)"
   ]
  },
  {
   "cell_type": "markdown",
   "id": "06293c8c-9ba0-4def-ad81-0e02774ed7d6",
   "metadata": {},
   "source": [
    "# Prepare data"
   ]
  },
  {
   "cell_type": "code",
   "execution_count": 34,
   "id": "06bcc4d1-5a61-4bbf-938c-6089f733af81",
   "metadata": {},
   "outputs": [],
   "source": [
    "### Merge the potential different features for prediction"
   ]
  },
  {
   "cell_type": "code",
   "execution_count": 35,
   "id": "966c0311-560a-4a4a-83d5-9e240ef6eeec",
   "metadata": {},
   "outputs": [],
   "source": [
    "## Add factor data"
   ]
  },
  {
   "cell_type": "code",
   "execution_count": 36,
   "id": "d995e178-166b-4cac-ab49-0bc2d02aa6c8",
   "metadata": {},
   "outputs": [],
   "source": [
    "data = merge(factor_data, unique(sample_data[,c('sample_id', 'classification', 'measurement', 'delta_ef_value_class', 'delta_ef_value_class_summarized', 'tp_outcome', 'CK', 'CK_MB', 'Troponin', 'CRP')]), by.x = 'sample_id', by.y = 'sample_id')"
   ]
  },
  {
   "cell_type": "code",
   "execution_count": 37,
   "id": "c8b87fd8-c85e-4ec2-898b-c2a978905ba3",
   "metadata": {},
   "outputs": [
    {
     "data": {
      "text/html": [
       "<table class=\"dataframe\">\n",
       "<caption>A data.frame: 2 × 30</caption>\n",
       "<thead>\n",
       "\t<tr><th></th><th scope=col>sample_id</th><th scope=col>Factor1</th><th scope=col>Factor2</th><th scope=col>Factor3</th><th scope=col>Factor4</th><th scope=col>Factor5</th><th scope=col>Factor6</th><th scope=col>Factor7</th><th scope=col>Factor8</th><th scope=col>Factor9</th><th scope=col>⋯</th><th scope=col>Factor20</th><th scope=col>classification</th><th scope=col>measurement</th><th scope=col>delta_ef_value_class</th><th scope=col>delta_ef_value_class_summarized</th><th scope=col>tp_outcome</th><th scope=col>CK</th><th scope=col>CK_MB</th><th scope=col>Troponin</th><th scope=col>CRP</th></tr>\n",
       "\t<tr><th></th><th scope=col>&lt;chr&gt;</th><th scope=col>&lt;dbl&gt;</th><th scope=col>&lt;dbl&gt;</th><th scope=col>&lt;dbl&gt;</th><th scope=col>&lt;dbl&gt;</th><th scope=col>&lt;dbl&gt;</th><th scope=col>&lt;dbl&gt;</th><th scope=col>&lt;dbl&gt;</th><th scope=col>&lt;dbl&gt;</th><th scope=col>&lt;dbl&gt;</th><th scope=col>⋯</th><th scope=col>&lt;dbl&gt;</th><th scope=col>&lt;chr&gt;</th><th scope=col>&lt;chr&gt;</th><th scope=col>&lt;chr&gt;</th><th scope=col>&lt;chr&gt;</th><th scope=col>&lt;chr&gt;</th><th scope=col>&lt;int&gt;</th><th scope=col>&lt;chr&gt;</th><th scope=col>&lt;dbl&gt;</th><th scope=col>&lt;chr&gt;</th></tr>\n",
       "</thead>\n",
       "<tbody>\n",
       "\t<tr><th scope=row>1</th><td>k1 </td><td>0.4811325</td><td>-0.2731317</td><td>1.4988169</td><td>-0.4135678</td><td>1.5052706</td><td>-0.92308998</td><td>-0.3904185</td><td>-0.1944797</td><td> 0.16486799</td><td>⋯</td><td>-0.03085489</td><td>vollstaendiger_ausschluss</td><td>TP0</td><td>NA</td><td>NA</td><td>TP0_NA</td><td>43</td><td></td><td>0.013</td><td>0.4</td></tr>\n",
       "\t<tr><th scope=row>2</th><td>k10</td><td>0.8920603</td><td>-0.7547770</td><td>0.3501023</td><td>-0.1524478</td><td>0.4074517</td><td>-0.04596939</td><td> 0.6276925</td><td>-1.1656937</td><td>-0.05003504</td><td>⋯</td><td>-0.03818913</td><td>ccs                      </td><td>TP0</td><td>NA</td><td>NA</td><td>TP0_NA</td><td>NA</td><td></td><td>   NA</td><td>0.2</td></tr>\n",
       "</tbody>\n",
       "</table>\n"
      ],
      "text/latex": [
       "A data.frame: 2 × 30\n",
       "\\begin{tabular}{r|lllllllllllllllllllll}\n",
       "  & sample\\_id & Factor1 & Factor2 & Factor3 & Factor4 & Factor5 & Factor6 & Factor7 & Factor8 & Factor9 & ⋯ & Factor20 & classification & measurement & delta\\_ef\\_value\\_class & delta\\_ef\\_value\\_class\\_summarized & tp\\_outcome & CK & CK\\_MB & Troponin & CRP\\\\\n",
       "  & <chr> & <dbl> & <dbl> & <dbl> & <dbl> & <dbl> & <dbl> & <dbl> & <dbl> & <dbl> & ⋯ & <dbl> & <chr> & <chr> & <chr> & <chr> & <chr> & <int> & <chr> & <dbl> & <chr>\\\\\n",
       "\\hline\n",
       "\t1 & k1  & 0.4811325 & -0.2731317 & 1.4988169 & -0.4135678 & 1.5052706 & -0.92308998 & -0.3904185 & -0.1944797 &  0.16486799 & ⋯ & -0.03085489 & vollstaendiger\\_ausschluss & TP0 & NA & NA & TP0\\_NA & 43 &  & 0.013 & 0.4\\\\\n",
       "\t2 & k10 & 0.8920603 & -0.7547770 & 0.3501023 & -0.1524478 & 0.4074517 & -0.04596939 &  0.6276925 & -1.1656937 & -0.05003504 & ⋯ & -0.03818913 & ccs                       & TP0 & NA & NA & TP0\\_NA & NA &  &    NA & 0.2\\\\\n",
       "\\end{tabular}\n"
      ],
      "text/markdown": [
       "\n",
       "A data.frame: 2 × 30\n",
       "\n",
       "| <!--/--> | sample_id &lt;chr&gt; | Factor1 &lt;dbl&gt; | Factor2 &lt;dbl&gt; | Factor3 &lt;dbl&gt; | Factor4 &lt;dbl&gt; | Factor5 &lt;dbl&gt; | Factor6 &lt;dbl&gt; | Factor7 &lt;dbl&gt; | Factor8 &lt;dbl&gt; | Factor9 &lt;dbl&gt; | ⋯ ⋯ | Factor20 &lt;dbl&gt; | classification &lt;chr&gt; | measurement &lt;chr&gt; | delta_ef_value_class &lt;chr&gt; | delta_ef_value_class_summarized &lt;chr&gt; | tp_outcome &lt;chr&gt; | CK &lt;int&gt; | CK_MB &lt;chr&gt; | Troponin &lt;dbl&gt; | CRP &lt;chr&gt; |\n",
       "|---|---|---|---|---|---|---|---|---|---|---|---|---|---|---|---|---|---|---|---|---|---|\n",
       "| 1 | k1  | 0.4811325 | -0.2731317 | 1.4988169 | -0.4135678 | 1.5052706 | -0.92308998 | -0.3904185 | -0.1944797 |  0.16486799 | ⋯ | -0.03085489 | vollstaendiger_ausschluss | TP0 | NA | NA | TP0_NA | 43 | <!----> | 0.013 | 0.4 |\n",
       "| 2 | k10 | 0.8920603 | -0.7547770 | 0.3501023 | -0.1524478 | 0.4074517 | -0.04596939 |  0.6276925 | -1.1656937 | -0.05003504 | ⋯ | -0.03818913 | ccs                       | TP0 | NA | NA | TP0_NA | NA | <!----> |    NA | 0.2 |\n",
       "\n"
      ],
      "text/plain": [
       "  sample_id Factor1   Factor2    Factor3   Factor4    Factor5   Factor6    \n",
       "1 k1        0.4811325 -0.2731317 1.4988169 -0.4135678 1.5052706 -0.92308998\n",
       "2 k10       0.8920603 -0.7547770 0.3501023 -0.1524478 0.4074517 -0.04596939\n",
       "  Factor7    Factor8    Factor9     ⋯ Factor20    classification           \n",
       "1 -0.3904185 -0.1944797  0.16486799 ⋯ -0.03085489 vollstaendiger_ausschluss\n",
       "2  0.6276925 -1.1656937 -0.05003504 ⋯ -0.03818913 ccs                      \n",
       "  measurement delta_ef_value_class delta_ef_value_class_summarized tp_outcome\n",
       "1 TP0         NA                   NA                              TP0_NA    \n",
       "2 TP0         NA                   NA                              TP0_NA    \n",
       "  CK CK_MB Troponin CRP\n",
       "1 43       0.013    0.4\n",
       "2 NA          NA    0.2"
      ]
     },
     "metadata": {},
     "output_type": "display_data"
    }
   ],
   "source": [
    "head(data,2)"
   ]
  },
  {
   "cell_type": "code",
   "execution_count": 38,
   "id": "73d60441-9e22-4008-b5cd-c31a653ea28d",
   "metadata": {},
   "outputs": [],
   "source": [
    "## Add normalized gene expression values of selected features"
   ]
  },
  {
   "cell_type": "code",
   "execution_count": 39,
   "id": "2523b72b-140a-420a-bd6d-fbb427f02b84",
   "metadata": {},
   "outputs": [
    {
     "data": {
      "text/html": [
       "<style>\n",
       ".list-inline {list-style: none; margin:0; padding: 0}\n",
       ".list-inline>li {display: inline-block}\n",
       ".list-inline>li:not(:last-child)::after {content: \"\\00b7\"; padding: 0 .5ex}\n",
       "</style>\n",
       "<ol class=list-inline><li>'X0_T.cell.CD4__CD53'</li><li>'X1_T.cell.CD8__CD53'</li><li>'X10_B.cell__CD53'</li><li>'X11_T.cell.CD4__CD53'</li><li>'X12_Monocytes...CD16_FCGR3A__CD53'</li><li>'X3_NK__CD53'</li><li>'X4_Monocytes...CD14__CD53'</li><li>'X6_Monocytes...CD14__CD53'</li><li>'X7_Monocytes...CD14__CD53'</li><li>'X8_B.cell__CD53'</li><li>'X9_Monocytes...CD16_FCGR3A__CD53'</li></ol>\n"
      ],
      "text/latex": [
       "\\begin{enumerate*}\n",
       "\\item 'X0\\_T.cell.CD4\\_\\_CD53'\n",
       "\\item 'X1\\_T.cell.CD8\\_\\_CD53'\n",
       "\\item 'X10\\_B.cell\\_\\_CD53'\n",
       "\\item 'X11\\_T.cell.CD4\\_\\_CD53'\n",
       "\\item 'X12\\_Monocytes...CD16\\_FCGR3A\\_\\_CD53'\n",
       "\\item 'X3\\_NK\\_\\_CD53'\n",
       "\\item 'X4\\_Monocytes...CD14\\_\\_CD53'\n",
       "\\item 'X6\\_Monocytes...CD14\\_\\_CD53'\n",
       "\\item 'X7\\_Monocytes...CD14\\_\\_CD53'\n",
       "\\item 'X8\\_B.cell\\_\\_CD53'\n",
       "\\item 'X9\\_Monocytes...CD16\\_FCGR3A\\_\\_CD53'\n",
       "\\end{enumerate*}\n"
      ],
      "text/markdown": [
       "1. 'X0_T.cell.CD4__CD53'\n",
       "2. 'X1_T.cell.CD8__CD53'\n",
       "3. 'X10_B.cell__CD53'\n",
       "4. 'X11_T.cell.CD4__CD53'\n",
       "5. 'X12_Monocytes...CD16_FCGR3A__CD53'\n",
       "6. 'X3_NK__CD53'\n",
       "7. 'X4_Monocytes...CD14__CD53'\n",
       "8. 'X6_Monocytes...CD14__CD53'\n",
       "9. 'X7_Monocytes...CD14__CD53'\n",
       "10. 'X8_B.cell__CD53'\n",
       "11. 'X9_Monocytes...CD16_FCGR3A__CD53'\n",
       "\n",
       "\n"
      ],
      "text/plain": [
       " [1] \"X0_T.cell.CD4__CD53\"               \"X1_T.cell.CD8__CD53\"              \n",
       " [3] \"X10_B.cell__CD53\"                  \"X11_T.cell.CD4__CD53\"             \n",
       " [5] \"X12_Monocytes...CD16_FCGR3A__CD53\" \"X3_NK__CD53\"                      \n",
       " [7] \"X4_Monocytes...CD14__CD53\"         \"X6_Monocytes...CD14__CD53\"        \n",
       " [9] \"X7_Monocytes...CD14__CD53\"         \"X8_B.cell__CD53\"                  \n",
       "[11] \"X9_Monocytes...CD16_FCGR3A__CD53\" "
      ]
     },
     "metadata": {},
     "output_type": "display_data"
    }
   ],
   "source": [
    "unique(data_long$variable[!is.na(str_extract(data_long$variable, 'CD53'))])"
   ]
  },
  {
   "cell_type": "code",
   "execution_count": 40,
   "id": "e4128df2-3193-4dc2-af78-8b04476c7f39",
   "metadata": {},
   "outputs": [],
   "source": [
    "features = c('CK', 'CK_MB', 'Troponin', 'CRP', 'X3_NK__TXNIP','X3_NK__PRF1', 'X3_NK__LITAF' , 'X3_NK__GZMB', 'X3_NK__FYN', 'X3_NK__CST7', 'X3_NK__CD53')"
   ]
  },
  {
   "cell_type": "code",
   "execution_count": 41,
   "id": "fb85de3b-21d0-4e9a-887a-3bd0bd6808da",
   "metadata": {},
   "outputs": [],
   "source": [
    "gene_expression_data = data_long[data_long$variable %in% features,]"
   ]
  },
  {
   "cell_type": "code",
   "execution_count": 42,
   "id": "34e37b6d-266e-4912-ae1b-d41e119effcf",
   "metadata": {},
   "outputs": [],
   "source": [
    "gene_expression_data = gene_expression_data %>% dcast(sample_id ~ variable, value.var = 'value')"
   ]
  },
  {
   "cell_type": "code",
   "execution_count": 43,
   "id": "8db08f31-109b-459c-9cdd-9be0f3ad7e09",
   "metadata": {},
   "outputs": [],
   "source": [
    "colnames(gene_expression_data) = paste0('Normalized_', colnames(gene_expression_data))"
   ]
  },
  {
   "cell_type": "code",
   "execution_count": 44,
   "id": "59080369-6501-4c61-8bed-c5f627b35234",
   "metadata": {},
   "outputs": [
    {
     "data": {
      "text/html": [
       "<table class=\"dataframe\">\n",
       "<caption>A data.frame: 2 × 12</caption>\n",
       "<thead>\n",
       "\t<tr><th></th><th scope=col>Normalized_sample_id</th><th scope=col>Normalized_CK</th><th scope=col>Normalized_CK_MB</th><th scope=col>Normalized_CRP</th><th scope=col>Normalized_Troponin</th><th scope=col>Normalized_X3_NK__CD53</th><th scope=col>Normalized_X3_NK__CST7</th><th scope=col>Normalized_X3_NK__FYN</th><th scope=col>Normalized_X3_NK__GZMB</th><th scope=col>Normalized_X3_NK__LITAF</th><th scope=col>Normalized_X3_NK__PRF1</th><th scope=col>Normalized_X3_NK__TXNIP</th></tr>\n",
       "\t<tr><th></th><th scope=col>&lt;chr&gt;</th><th scope=col>&lt;dbl&gt;</th><th scope=col>&lt;dbl&gt;</th><th scope=col>&lt;dbl&gt;</th><th scope=col>&lt;dbl&gt;</th><th scope=col>&lt;dbl&gt;</th><th scope=col>&lt;dbl&gt;</th><th scope=col>&lt;dbl&gt;</th><th scope=col>&lt;dbl&gt;</th><th scope=col>&lt;dbl&gt;</th><th scope=col>&lt;dbl&gt;</th><th scope=col>&lt;dbl&gt;</th></tr>\n",
       "</thead>\n",
       "<tbody>\n",
       "\t<tr><th scope=row>1</th><td>k1 </td><td>-2.397022</td><td>NA</td><td>-0.3186394</td><td>-1.286479</td><td>       NA</td><td>       NA</td><td>       NA</td><td>      NA</td><td>      NA</td><td>      NA</td><td>      NA</td></tr>\n",
       "\t<tr><th scope=row>2</th><td>k10</td><td>       NA</td><td>NA</td><td>-0.8871466</td><td>       NA</td><td>0.5853189</td><td>0.2104284</td><td>0.4079187</td><td>1.731664</td><td>1.281552</td><td>0.755415</td><td>1.330562</td></tr>\n",
       "</tbody>\n",
       "</table>\n"
      ],
      "text/latex": [
       "A data.frame: 2 × 12\n",
       "\\begin{tabular}{r|llllllllllll}\n",
       "  & Normalized\\_sample\\_id & Normalized\\_CK & Normalized\\_CK\\_MB & Normalized\\_CRP & Normalized\\_Troponin & Normalized\\_X3\\_NK\\_\\_CD53 & Normalized\\_X3\\_NK\\_\\_CST7 & Normalized\\_X3\\_NK\\_\\_FYN & Normalized\\_X3\\_NK\\_\\_GZMB & Normalized\\_X3\\_NK\\_\\_LITAF & Normalized\\_X3\\_NK\\_\\_PRF1 & Normalized\\_X3\\_NK\\_\\_TXNIP\\\\\n",
       "  & <chr> & <dbl> & <dbl> & <dbl> & <dbl> & <dbl> & <dbl> & <dbl> & <dbl> & <dbl> & <dbl> & <dbl>\\\\\n",
       "\\hline\n",
       "\t1 & k1  & -2.397022 & NA & -0.3186394 & -1.286479 &        NA &        NA &        NA &       NA &       NA &       NA &       NA\\\\\n",
       "\t2 & k10 &        NA & NA & -0.8871466 &        NA & 0.5853189 & 0.2104284 & 0.4079187 & 1.731664 & 1.281552 & 0.755415 & 1.330562\\\\\n",
       "\\end{tabular}\n"
      ],
      "text/markdown": [
       "\n",
       "A data.frame: 2 × 12\n",
       "\n",
       "| <!--/--> | Normalized_sample_id &lt;chr&gt; | Normalized_CK &lt;dbl&gt; | Normalized_CK_MB &lt;dbl&gt; | Normalized_CRP &lt;dbl&gt; | Normalized_Troponin &lt;dbl&gt; | Normalized_X3_NK__CD53 &lt;dbl&gt; | Normalized_X3_NK__CST7 &lt;dbl&gt; | Normalized_X3_NK__FYN &lt;dbl&gt; | Normalized_X3_NK__GZMB &lt;dbl&gt; | Normalized_X3_NK__LITAF &lt;dbl&gt; | Normalized_X3_NK__PRF1 &lt;dbl&gt; | Normalized_X3_NK__TXNIP &lt;dbl&gt; |\n",
       "|---|---|---|---|---|---|---|---|---|---|---|---|---|\n",
       "| 1 | k1  | -2.397022 | NA | -0.3186394 | -1.286479 |        NA |        NA |        NA |       NA |       NA |       NA |       NA |\n",
       "| 2 | k10 |        NA | NA | -0.8871466 |        NA | 0.5853189 | 0.2104284 | 0.4079187 | 1.731664 | 1.281552 | 0.755415 | 1.330562 |\n",
       "\n"
      ],
      "text/plain": [
       "  Normalized_sample_id Normalized_CK Normalized_CK_MB Normalized_CRP\n",
       "1 k1                   -2.397022     NA               -0.3186394    \n",
       "2 k10                         NA     NA               -0.8871466    \n",
       "  Normalized_Troponin Normalized_X3_NK__CD53 Normalized_X3_NK__CST7\n",
       "1 -1.286479                  NA                     NA             \n",
       "2        NA           0.5853189              0.2104284             \n",
       "  Normalized_X3_NK__FYN Normalized_X3_NK__GZMB Normalized_X3_NK__LITAF\n",
       "1        NA                   NA                     NA               \n",
       "2 0.4079187             1.731664               1.281552               \n",
       "  Normalized_X3_NK__PRF1 Normalized_X3_NK__TXNIP\n",
       "1       NA                     NA               \n",
       "2 0.755415               1.330562               "
      ]
     },
     "metadata": {},
     "output_type": "display_data"
    }
   ],
   "source": [
    "head(gene_expression_data,2)"
   ]
  },
  {
   "cell_type": "code",
   "execution_count": 45,
   "id": "129e695a-22c2-40bd-b674-61d670b3e0be",
   "metadata": {},
   "outputs": [
    {
     "data": {
      "text/html": [
       "128"
      ],
      "text/latex": [
       "128"
      ],
      "text/markdown": [
       "128"
      ],
      "text/plain": [
       "[1] 128"
      ]
     },
     "metadata": {},
     "output_type": "display_data"
    }
   ],
   "source": [
    "nrow(data)"
   ]
  },
  {
   "cell_type": "code",
   "execution_count": 46,
   "id": "126ffba7-a135-4f5c-a7a1-a469272469cb",
   "metadata": {},
   "outputs": [],
   "source": [
    "data = merge(data, gene_expression_data, by.x = 'sample_id', by.y = 'Normalized_sample_id')"
   ]
  },
  {
   "cell_type": "code",
   "execution_count": 47,
   "id": "ec6d0f67-27dc-429a-86f6-7f7c4300ff46",
   "metadata": {},
   "outputs": [
    {
     "data": {
      "text/html": [
       "128"
      ],
      "text/latex": [
       "128"
      ],
      "text/markdown": [
       "128"
      ],
      "text/plain": [
       "[1] 128"
      ]
     },
     "metadata": {},
     "output_type": "display_data"
    }
   ],
   "source": [
    "nrow(data)"
   ]
  },
  {
   "cell_type": "code",
   "execution_count": 48,
   "id": "b458b9fc-d633-40ff-8767-4700255f882f",
   "metadata": {},
   "outputs": [],
   "source": [
    "### Add score values for ccs vs. no_ccs differentiation"
   ]
  },
  {
   "cell_type": "code",
   "execution_count": 49,
   "id": "3619a094-bd6a-4110-a00d-67b04e66775c",
   "metadata": {},
   "outputs": [],
   "source": [
    "data = merge(data, ccs_scores, all.x = TRUE)"
   ]
  },
  {
   "cell_type": "code",
   "execution_count": 50,
   "id": "f05c5d22-d3e9-4b9d-be13-7aeb5a9dde8b",
   "metadata": {},
   "outputs": [
    {
     "data": {
      "text/html": [
       "128"
      ],
      "text/latex": [
       "128"
      ],
      "text/markdown": [
       "128"
      ],
      "text/plain": [
       "[1] 128"
      ]
     },
     "metadata": {},
     "output_type": "display_data"
    }
   ],
   "source": [
    "nrow(data)"
   ]
  },
  {
   "cell_type": "code",
   "execution_count": 51,
   "id": "0ced394f-7b63-459e-b42d-468d8550cc21",
   "metadata": {},
   "outputs": [
    {
     "data": {
      "text/html": [
       "<table class=\"dataframe\">\n",
       "<caption>A data.frame: 2 × 44</caption>\n",
       "<thead>\n",
       "\t<tr><th></th><th scope=col>sample_id</th><th scope=col>Factor1</th><th scope=col>Factor2</th><th scope=col>Factor3</th><th scope=col>Factor4</th><th scope=col>Factor5</th><th scope=col>Factor6</th><th scope=col>Factor7</th><th scope=col>Factor8</th><th scope=col>Factor9</th><th scope=col>⋯</th><th scope=col>Normalized_X3_NK__CD53</th><th scope=col>Normalized_X3_NK__CST7</th><th scope=col>Normalized_X3_NK__FYN</th><th scope=col>Normalized_X3_NK__GZMB</th><th scope=col>Normalized_X3_NK__LITAF</th><th scope=col>Normalized_X3_NK__PRF1</th><th scope=col>Normalized_X3_NK__TXNIP</th><th scope=col>score</th><th scope=col>score_prepared</th><th scope=col>class</th></tr>\n",
       "\t<tr><th></th><th scope=col>&lt;chr&gt;</th><th scope=col>&lt;dbl&gt;</th><th scope=col>&lt;dbl&gt;</th><th scope=col>&lt;dbl&gt;</th><th scope=col>&lt;dbl&gt;</th><th scope=col>&lt;dbl&gt;</th><th scope=col>&lt;dbl&gt;</th><th scope=col>&lt;dbl&gt;</th><th scope=col>&lt;dbl&gt;</th><th scope=col>&lt;dbl&gt;</th><th scope=col>⋯</th><th scope=col>&lt;dbl&gt;</th><th scope=col>&lt;dbl&gt;</th><th scope=col>&lt;dbl&gt;</th><th scope=col>&lt;dbl&gt;</th><th scope=col>&lt;dbl&gt;</th><th scope=col>&lt;dbl&gt;</th><th scope=col>&lt;dbl&gt;</th><th scope=col>&lt;chr&gt;</th><th scope=col>&lt;dbl&gt;</th><th scope=col>&lt;chr&gt;</th></tr>\n",
       "</thead>\n",
       "<tbody>\n",
       "\t<tr><th scope=row>1</th><td>k1 </td><td>0.4811325</td><td>-0.2731317</td><td>1.4988169</td><td>-0.4135678</td><td>1.5052706</td><td>-0.92308998</td><td>-0.3904185</td><td>-0.1944797</td><td> 0.16486799</td><td>⋯</td><td>       NA</td><td>       NA</td><td>       NA</td><td>      NA</td><td>      NA</td><td>      NA</td><td>      NA</td><td>4% </td><td>0.04</td><td>No CCS </td></tr>\n",
       "\t<tr><th scope=row>2</th><td>k10</td><td>0.8920603</td><td>-0.7547770</td><td>0.3501023</td><td>-0.1524478</td><td>0.4074517</td><td>-0.04596939</td><td> 0.6276925</td><td>-1.1656937</td><td>-0.05003504</td><td>⋯</td><td>0.5853189</td><td>0.2104284</td><td>0.4079187</td><td>1.731664</td><td>1.281552</td><td>0.755415</td><td>1.330562</td><td>11%</td><td>0.11</td><td>CCS    </td></tr>\n",
       "</tbody>\n",
       "</table>\n"
      ],
      "text/latex": [
       "A data.frame: 2 × 44\n",
       "\\begin{tabular}{r|lllllllllllllllllllll}\n",
       "  & sample\\_id & Factor1 & Factor2 & Factor3 & Factor4 & Factor5 & Factor6 & Factor7 & Factor8 & Factor9 & ⋯ & Normalized\\_X3\\_NK\\_\\_CD53 & Normalized\\_X3\\_NK\\_\\_CST7 & Normalized\\_X3\\_NK\\_\\_FYN & Normalized\\_X3\\_NK\\_\\_GZMB & Normalized\\_X3\\_NK\\_\\_LITAF & Normalized\\_X3\\_NK\\_\\_PRF1 & Normalized\\_X3\\_NK\\_\\_TXNIP & score & score\\_prepared & class\\\\\n",
       "  & <chr> & <dbl> & <dbl> & <dbl> & <dbl> & <dbl> & <dbl> & <dbl> & <dbl> & <dbl> & ⋯ & <dbl> & <dbl> & <dbl> & <dbl> & <dbl> & <dbl> & <dbl> & <chr> & <dbl> & <chr>\\\\\n",
       "\\hline\n",
       "\t1 & k1  & 0.4811325 & -0.2731317 & 1.4988169 & -0.4135678 & 1.5052706 & -0.92308998 & -0.3904185 & -0.1944797 &  0.16486799 & ⋯ &        NA &        NA &        NA &       NA &       NA &       NA &       NA & 4\\%  & 0.04 & No CCS \\\\\n",
       "\t2 & k10 & 0.8920603 & -0.7547770 & 0.3501023 & -0.1524478 & 0.4074517 & -0.04596939 &  0.6276925 & -1.1656937 & -0.05003504 & ⋯ & 0.5853189 & 0.2104284 & 0.4079187 & 1.731664 & 1.281552 & 0.755415 & 1.330562 & 11\\% & 0.11 & CCS    \\\\\n",
       "\\end{tabular}\n"
      ],
      "text/markdown": [
       "\n",
       "A data.frame: 2 × 44\n",
       "\n",
       "| <!--/--> | sample_id &lt;chr&gt; | Factor1 &lt;dbl&gt; | Factor2 &lt;dbl&gt; | Factor3 &lt;dbl&gt; | Factor4 &lt;dbl&gt; | Factor5 &lt;dbl&gt; | Factor6 &lt;dbl&gt; | Factor7 &lt;dbl&gt; | Factor8 &lt;dbl&gt; | Factor9 &lt;dbl&gt; | ⋯ ⋯ | Normalized_X3_NK__CD53 &lt;dbl&gt; | Normalized_X3_NK__CST7 &lt;dbl&gt; | Normalized_X3_NK__FYN &lt;dbl&gt; | Normalized_X3_NK__GZMB &lt;dbl&gt; | Normalized_X3_NK__LITAF &lt;dbl&gt; | Normalized_X3_NK__PRF1 &lt;dbl&gt; | Normalized_X3_NK__TXNIP &lt;dbl&gt; | score &lt;chr&gt; | score_prepared &lt;dbl&gt; | class &lt;chr&gt; |\n",
       "|---|---|---|---|---|---|---|---|---|---|---|---|---|---|---|---|---|---|---|---|---|---|\n",
       "| 1 | k1  | 0.4811325 | -0.2731317 | 1.4988169 | -0.4135678 | 1.5052706 | -0.92308998 | -0.3904185 | -0.1944797 |  0.16486799 | ⋯ |        NA |        NA |        NA |       NA |       NA |       NA |       NA | 4%  | 0.04 | No CCS  |\n",
       "| 2 | k10 | 0.8920603 | -0.7547770 | 0.3501023 | -0.1524478 | 0.4074517 | -0.04596939 |  0.6276925 | -1.1656937 | -0.05003504 | ⋯ | 0.5853189 | 0.2104284 | 0.4079187 | 1.731664 | 1.281552 | 0.755415 | 1.330562 | 11% | 0.11 | CCS     |\n",
       "\n"
      ],
      "text/plain": [
       "  sample_id Factor1   Factor2    Factor3   Factor4    Factor5   Factor6    \n",
       "1 k1        0.4811325 -0.2731317 1.4988169 -0.4135678 1.5052706 -0.92308998\n",
       "2 k10       0.8920603 -0.7547770 0.3501023 -0.1524478 0.4074517 -0.04596939\n",
       "  Factor7    Factor8    Factor9     ⋯ Normalized_X3_NK__CD53\n",
       "1 -0.3904185 -0.1944797  0.16486799 ⋯        NA             \n",
       "2  0.6276925 -1.1656937 -0.05003504 ⋯ 0.5853189             \n",
       "  Normalized_X3_NK__CST7 Normalized_X3_NK__FYN Normalized_X3_NK__GZMB\n",
       "1        NA                     NA                   NA              \n",
       "2 0.2104284              0.4079187             1.731664              \n",
       "  Normalized_X3_NK__LITAF Normalized_X3_NK__PRF1 Normalized_X3_NK__TXNIP score\n",
       "1       NA                      NA                     NA                4%   \n",
       "2 1.281552                0.755415               1.330562                11%  \n",
       "  score_prepared class  \n",
       "1 0.04           No CCS \n",
       "2 0.11           CCS    "
      ]
     },
     "metadata": {},
     "output_type": "display_data"
    }
   ],
   "source": [
    "head(data,2)"
   ]
  },
  {
   "cell_type": "markdown",
   "id": "c90e7f63-02b3-4dc2-9ffc-0e87d6012443",
   "metadata": {},
   "source": [
    "# Prediction Factor 4 TP1"
   ]
  },
  {
   "cell_type": "code",
   "execution_count": 52,
   "id": "d52e67dc-e993-4f6d-9615-1174bbaaf931",
   "metadata": {},
   "outputs": [
    {
     "name": "stderr",
     "output_type": "stream",
     "text": [
      "Warning message in eval(expr, envir, enclos):\n",
      "“NAs introduced by coercion”\n"
     ]
    }
   ],
   "source": [
    "data$CK = as.numeric(data$CK)\n",
    "data$Troponin = as.numeric(data$Troponin)\n",
    "data$CRP = as.numeric(data$CRP)"
   ]
  },
  {
   "cell_type": "code",
   "execution_count": 53,
   "id": "a2ccfb93-c8b0-4f24-990b-4d0beb270927",
   "metadata": {},
   "outputs": [],
   "source": [
    "prediction_vars = c( 'Factor4',  'Normalized_CK', 'Normalized_CRP', 'Normalized_Troponin')"
   ]
  },
  {
   "cell_type": "code",
   "execution_count": 54,
   "id": "43716163-c725-4958-919c-33f27f120c45",
   "metadata": {},
   "outputs": [],
   "source": [
    "prediction_group = 'tp_outcome'\n",
    "prediction_subset = c('TP1_good', 'TP1_bad')"
   ]
  },
  {
   "cell_type": "code",
   "execution_count": 55,
   "id": "c7f18224-3d4c-4450-8089-b03eac38df00",
   "metadata": {},
   "outputs": [],
   "source": [
    "prediction_data = data[,c(prediction_vars, prediction_group)]\n",
    "prediction_data$y = prediction_data[,prediction_group]\n",
    "prediction_data = prediction_data[prediction_data$y %in% prediction_subset,]\n",
    "\n",
    "prediction_data$y[prediction_data$y == prediction_subset[2]] = 1  # predict BAD outcome \n",
    "prediction_data$y[prediction_data$y == prediction_subset[1]] = 0  # good outcome as control"
   ]
  },
  {
   "cell_type": "code",
   "execution_count": 56,
   "id": "3d5ea718-8af7-49f6-8265-ad1df26895d9",
   "metadata": {},
   "outputs": [
    {
     "name": "stderr",
     "output_type": "stream",
     "text": [
      "\u001b[1m\u001b[22m`summarise()` has grouped output by 'tp_outcome'. You can override using the\n",
      "`.groups` argument.\n"
     ]
    },
    {
     "data": {
      "text/html": [
       "<table class=\"dataframe\">\n",
       "<caption>A grouped_df: 2 × 6</caption>\n",
       "<thead>\n",
       "\t<tr><th scope=col>tp_outcome</th><th scope=col>y</th><th scope=col>Factor4</th><th scope=col>Normalized_CK</th><th scope=col>Normalized_CRP</th><th scope=col>Normalized_Troponin</th></tr>\n",
       "\t<tr><th scope=col>&lt;chr&gt;</th><th scope=col>&lt;chr&gt;</th><th scope=col>&lt;dbl&gt;</th><th scope=col>&lt;dbl&gt;</th><th scope=col>&lt;dbl&gt;</th><th scope=col>&lt;dbl&gt;</th></tr>\n",
       "</thead>\n",
       "<tbody>\n",
       "\t<tr><td>TP1_bad </td><td>1</td><td>-1.1259212</td><td>0.9443535</td><td>-0.6691209</td><td>0.7195349</td></tr>\n",
       "\t<tr><td>TP1_good</td><td>0</td><td>-0.6298132</td><td>0.6861117</td><td>-0.6469700</td><td>0.2787430</td></tr>\n",
       "</tbody>\n",
       "</table>\n"
      ],
      "text/latex": [
       "A grouped\\_df: 2 × 6\n",
       "\\begin{tabular}{llllll}\n",
       " tp\\_outcome & y & Factor4 & Normalized\\_CK & Normalized\\_CRP & Normalized\\_Troponin\\\\\n",
       " <chr> & <chr> & <dbl> & <dbl> & <dbl> & <dbl>\\\\\n",
       "\\hline\n",
       "\t TP1\\_bad  & 1 & -1.1259212 & 0.9443535 & -0.6691209 & 0.7195349\\\\\n",
       "\t TP1\\_good & 0 & -0.6298132 & 0.6861117 & -0.6469700 & 0.2787430\\\\\n",
       "\\end{tabular}\n"
      ],
      "text/markdown": [
       "\n",
       "A grouped_df: 2 × 6\n",
       "\n",
       "| tp_outcome &lt;chr&gt; | y &lt;chr&gt; | Factor4 &lt;dbl&gt; | Normalized_CK &lt;dbl&gt; | Normalized_CRP &lt;dbl&gt; | Normalized_Troponin &lt;dbl&gt; |\n",
       "|---|---|---|---|---|---|\n",
       "| TP1_bad  | 1 | -1.1259212 | 0.9443535 | -0.6691209 | 0.7195349 |\n",
       "| TP1_good | 0 | -0.6298132 | 0.6861117 | -0.6469700 | 0.2787430 |\n",
       "\n"
      ],
      "text/plain": [
       "  tp_outcome y Factor4    Normalized_CK Normalized_CRP Normalized_Troponin\n",
       "1 TP1_bad    1 -1.1259212 0.9443535     -0.6691209     0.7195349          \n",
       "2 TP1_good   0 -0.6298132 0.6861117     -0.6469700     0.2787430          "
      ]
     },
     "metadata": {},
     "output_type": "display_data"
    }
   ],
   "source": [
    "## Check in which direction to adjust\n",
    "prediction_data %>% group_by(tp_outcome,y) %>% summarise(across(everything(), mean, na.rm =TRUE))\n",
    "\n",
    "# predict bad --> higher values for bad"
   ]
  },
  {
   "cell_type": "code",
   "execution_count": 57,
   "id": "67e70c47-f92d-4cd5-a748-ed6937f77d98",
   "metadata": {},
   "outputs": [
    {
     "data": {
      "text/html": [
       "<table class=\"dataframe\">\n",
       "<caption>A grouped_df: 2 × 2</caption>\n",
       "<thead>\n",
       "\t<tr><th scope=col>tp_outcome</th><th scope=col>n</th></tr>\n",
       "\t<tr><th scope=col>&lt;chr&gt;</th><th scope=col>&lt;int&gt;</th></tr>\n",
       "</thead>\n",
       "<tbody>\n",
       "\t<tr><td>TP1_bad </td><td> 6</td></tr>\n",
       "\t<tr><td>TP1_good</td><td>13</td></tr>\n",
       "</tbody>\n",
       "</table>\n"
      ],
      "text/latex": [
       "A grouped\\_df: 2 × 2\n",
       "\\begin{tabular}{ll}\n",
       " tp\\_outcome & n\\\\\n",
       " <chr> & <int>\\\\\n",
       "\\hline\n",
       "\t TP1\\_bad  &  6\\\\\n",
       "\t TP1\\_good & 13\\\\\n",
       "\\end{tabular}\n"
      ],
      "text/markdown": [
       "\n",
       "A grouped_df: 2 × 2\n",
       "\n",
       "| tp_outcome &lt;chr&gt; | n &lt;int&gt; |\n",
       "|---|---|\n",
       "| TP1_bad  |  6 |\n",
       "| TP1_good | 13 |\n",
       "\n"
      ],
      "text/plain": [
       "  tp_outcome n \n",
       "1 TP1_bad     6\n",
       "2 TP1_good   13"
      ]
     },
     "metadata": {},
     "output_type": "display_data"
    }
   ],
   "source": [
    "prediction_data %>% group_by(tp_outcome) %>% count()"
   ]
  },
  {
   "cell_type": "code",
   "execution_count": 58,
   "id": "4703e689-285d-4adc-be52-83bd25b06205",
   "metadata": {},
   "outputs": [],
   "source": [
    "# Adjust sign of Factor values\n",
    "prediction_data$Factor4 = -1*prediction_data$Factor4\n",
    "prediction_data$Normalized_CRP = -1* prediction_data$Normalized_CRP"
   ]
  },
  {
   "cell_type": "code",
   "execution_count": null,
   "id": "c9c1ebca-d6a2-4e81-916e-942d22875148",
   "metadata": {},
   "outputs": [],
   "source": []
  },
  {
   "cell_type": "code",
   "execution_count": 59,
   "id": "4042b47c-9304-45b9-a3ea-461af0063cd7",
   "metadata": {},
   "outputs": [],
   "source": [
    "# Transform and scale scores of prediction variables (to be between 0 and 1)"
   ]
  },
  {
   "cell_type": "code",
   "execution_count": 60,
   "id": "1cc6fa24-e12b-4ea2-afb5-dd4bc316781b",
   "metadata": {},
   "outputs": [],
   "source": [
    "prediction_data = cbind( prediction_data[,c('y', prediction_group)],\n",
    "      apply(prediction_data[,prediction_vars], MARGIN = 2, FUN = function(x){\n",
    "    (x - min(x, na.rm = TRUE)) / (max(x, na.rm = TRUE) - min(x, na.rm = TRUE))}))"
   ]
  },
  {
   "cell_type": "code",
   "execution_count": 61,
   "id": "c441e3da-ab7e-416b-b17f-c8d4ee55aa16",
   "metadata": {},
   "outputs": [
    {
     "data": {
      "text/html": [
       "<table class=\"dataframe\">\n",
       "<caption>A data.frame: 5 × 6</caption>\n",
       "<thead>\n",
       "\t<tr><th></th><th scope=col>y</th><th scope=col>tp_outcome</th><th scope=col>Factor4</th><th scope=col>Normalized_CK</th><th scope=col>Normalized_CRP</th><th scope=col>Normalized_Troponin</th></tr>\n",
       "\t<tr><th></th><th scope=col>&lt;chr&gt;</th><th scope=col>&lt;chr&gt;</th><th scope=col>&lt;dbl&gt;</th><th scope=col>&lt;dbl&gt;</th><th scope=col>&lt;dbl&gt;</th><th scope=col>&lt;dbl&gt;</th></tr>\n",
       "</thead>\n",
       "<tbody>\n",
       "\t<tr><th scope=row>36</th><td>1</td><td>TP1_bad </td><td>0.4734997</td><td>0.7961269</td><td>0.2442384</td><td>1.0000000</td></tr>\n",
       "\t<tr><th scope=row>45</th><td>1</td><td>TP1_bad </td><td>0.8558891</td><td>0.5224372</td><td>0.4182388</td><td>0.3199684</td></tr>\n",
       "\t<tr><th scope=row>49</th><td>1</td><td>TP1_bad </td><td>0.7560452</td><td>0.6236137</td><td>0.6270265</td><td>0.6369666</td></tr>\n",
       "\t<tr><th scope=row>53</th><td>0</td><td>TP1_good</td><td>1.0000000</td><td>0.6051494</td><td>0.6270265</td><td>0.4206572</td></tr>\n",
       "\t<tr><th scope=row>60</th><td>1</td><td>TP1_bad </td><td>0.7118677</td><td>0.5134051</td><td>0.6270265</td><td>0.4735581</td></tr>\n",
       "</tbody>\n",
       "</table>\n"
      ],
      "text/latex": [
       "A data.frame: 5 × 6\n",
       "\\begin{tabular}{r|llllll}\n",
       "  & y & tp\\_outcome & Factor4 & Normalized\\_CK & Normalized\\_CRP & Normalized\\_Troponin\\\\\n",
       "  & <chr> & <chr> & <dbl> & <dbl> & <dbl> & <dbl>\\\\\n",
       "\\hline\n",
       "\t36 & 1 & TP1\\_bad  & 0.4734997 & 0.7961269 & 0.2442384 & 1.0000000\\\\\n",
       "\t45 & 1 & TP1\\_bad  & 0.8558891 & 0.5224372 & 0.4182388 & 0.3199684\\\\\n",
       "\t49 & 1 & TP1\\_bad  & 0.7560452 & 0.6236137 & 0.6270265 & 0.6369666\\\\\n",
       "\t53 & 0 & TP1\\_good & 1.0000000 & 0.6051494 & 0.6270265 & 0.4206572\\\\\n",
       "\t60 & 1 & TP1\\_bad  & 0.7118677 & 0.5134051 & 0.6270265 & 0.4735581\\\\\n",
       "\\end{tabular}\n"
      ],
      "text/markdown": [
       "\n",
       "A data.frame: 5 × 6\n",
       "\n",
       "| <!--/--> | y &lt;chr&gt; | tp_outcome &lt;chr&gt; | Factor4 &lt;dbl&gt; | Normalized_CK &lt;dbl&gt; | Normalized_CRP &lt;dbl&gt; | Normalized_Troponin &lt;dbl&gt; |\n",
       "|---|---|---|---|---|---|---|\n",
       "| 36 | 1 | TP1_bad  | 0.4734997 | 0.7961269 | 0.2442384 | 1.0000000 |\n",
       "| 45 | 1 | TP1_bad  | 0.8558891 | 0.5224372 | 0.4182388 | 0.3199684 |\n",
       "| 49 | 1 | TP1_bad  | 0.7560452 | 0.6236137 | 0.6270265 | 0.6369666 |\n",
       "| 53 | 0 | TP1_good | 1.0000000 | 0.6051494 | 0.6270265 | 0.4206572 |\n",
       "| 60 | 1 | TP1_bad  | 0.7118677 | 0.5134051 | 0.6270265 | 0.4735581 |\n",
       "\n"
      ],
      "text/plain": [
       "   y tp_outcome Factor4   Normalized_CK Normalized_CRP Normalized_Troponin\n",
       "36 1 TP1_bad    0.4734997 0.7961269     0.2442384      1.0000000          \n",
       "45 1 TP1_bad    0.8558891 0.5224372     0.4182388      0.3199684          \n",
       "49 1 TP1_bad    0.7560452 0.6236137     0.6270265      0.6369666          \n",
       "53 0 TP1_good   1.0000000 0.6051494     0.6270265      0.4206572          \n",
       "60 1 TP1_bad    0.7118677 0.5134051     0.6270265      0.4735581          "
      ]
     },
     "metadata": {},
     "output_type": "display_data"
    }
   ],
   "source": [
    "head(prediction_data,5)"
   ]
  },
  {
   "cell_type": "code",
   "execution_count": 62,
   "id": "93813b9c-5a32-42dd-b1dd-7ded4f5d3df7",
   "metadata": {},
   "outputs": [],
   "source": [
    "# Plot ROC curves (roc implementation DEPRECATED)"
   ]
  },
  {
   "cell_type": "code",
   "execution_count": 63,
   "id": "d0843d7c-94b7-490b-9f93-585f371cf195",
   "metadata": {},
   "outputs": [],
   "source": [
    "#roc_list = list()"
   ]
  },
  {
   "cell_type": "code",
   "execution_count": 64,
   "id": "dac42c0e-e87c-4ab0-bf5c-12acae564e7f",
   "metadata": {},
   "outputs": [],
   "source": [
    "#for(i in prediction_vars){\n",
    "#    roc_list[[i]] = roc(prediction_data$y ~ \n",
    "#                        prediction_data[,i], plot = FALSE, print.auc = TRUE)\n",
    "#    }"
   ]
  },
  {
   "cell_type": "code",
   "execution_count": 65,
   "id": "24cd30f9-8791-42ed-9329-a018e3742dfe",
   "metadata": {},
   "outputs": [],
   "source": [
    "#plot(roc_list[[2]])"
   ]
  },
  {
   "cell_type": "code",
   "execution_count": 66,
   "id": "c80fa733-8423-43e9-a4e2-04b82f9d20f5",
   "metadata": {},
   "outputs": [],
   "source": [
    "## Add all onto each other (ROC implementation)"
   ]
  },
  {
   "cell_type": "code",
   "execution_count": 67,
   "id": "f1c42e05-ff6e-427c-8827-2d3f1e01e7fe",
   "metadata": {},
   "outputs": [],
   "source": [
    "#plot(roc_list[[1]], col = 1, lty = 2, main = \"ROC\")\n",
    "#for(i in 2:length(roc_list)){\n",
    "#    plot(roc_list[[i]], col = 4, lty = 3, add = TRUE)\n",
    "#    }\n",
    "    "
   ]
  },
  {
   "cell_type": "code",
   "execution_count": 68,
   "id": "ec5eefe8-3cfd-4f57-b2e7-6b866fae23ff",
   "metadata": {},
   "outputs": [],
   "source": [
    "## Alternative use GGPLOT IMPL"
   ]
  },
  {
   "cell_type": "code",
   "execution_count": 69,
   "id": "b9970f53-e916-4c2b-97a2-5957fa3a3d29",
   "metadata": {},
   "outputs": [
    {
     "name": "stderr",
     "output_type": "stream",
     "text": [
      "Using y, tp_outcome as id variables\n",
      "\n"
     ]
    }
   ],
   "source": [
    "prediction_data_long = melt(prediction_data)"
   ]
  },
  {
   "cell_type": "code",
   "execution_count": 70,
   "id": "06bb2169-d37a-47f5-acd4-3909865fd8f1",
   "metadata": {},
   "outputs": [],
   "source": [
    "prediction_data_long = prediction_data_long[!is.na(prediction_data_long$value),]"
   ]
  },
  {
   "cell_type": "code",
   "execution_count": 71,
   "id": "61d97638-3330-4944-bc39-5b2344d9e7f3",
   "metadata": {},
   "outputs": [],
   "source": [
    "amount_samples = prediction_data_long %>% group_by(variable) %>% count()"
   ]
  },
  {
   "cell_type": "code",
   "execution_count": 72,
   "id": "cad5c5ef-b840-43f5-b92c-29c5905068e1",
   "metadata": {},
   "outputs": [],
   "source": [
    "prediction_data_long = merge(prediction_data_long, amount_samples)"
   ]
  },
  {
   "cell_type": "code",
   "execution_count": 73,
   "id": "458ec0ab-5e7d-4355-90ca-dff4464521bd",
   "metadata": {},
   "outputs": [],
   "source": [
    "prediction_data_long$variable_w_n = paste0(prediction_data_long$variable, ' (n=', prediction_data_long$n, ')')"
   ]
  },
  {
   "cell_type": "code",
   "execution_count": 74,
   "id": "21da05ce-2d4f-4df8-a605-4fa9090ce4d0",
   "metadata": {},
   "outputs": [
    {
     "data": {
      "text/html": [
       "<table class=\"dataframe\">\n",
       "<caption>A data.frame: 2 × 6</caption>\n",
       "<thead>\n",
       "\t<tr><th></th><th scope=col>variable</th><th scope=col>y</th><th scope=col>tp_outcome</th><th scope=col>value</th><th scope=col>n</th><th scope=col>variable_w_n</th></tr>\n",
       "\t<tr><th></th><th scope=col>&lt;fct&gt;</th><th scope=col>&lt;chr&gt;</th><th scope=col>&lt;chr&gt;</th><th scope=col>&lt;dbl&gt;</th><th scope=col>&lt;int&gt;</th><th scope=col>&lt;chr&gt;</th></tr>\n",
       "</thead>\n",
       "<tbody>\n",
       "\t<tr><th scope=row>1</th><td>Factor4</td><td>1</td><td>TP1_bad</td><td>0.4734997</td><td>19</td><td>Factor4 (n=19)</td></tr>\n",
       "\t<tr><th scope=row>2</th><td>Factor4</td><td>1</td><td>TP1_bad</td><td>0.8558891</td><td>19</td><td>Factor4 (n=19)</td></tr>\n",
       "</tbody>\n",
       "</table>\n"
      ],
      "text/latex": [
       "A data.frame: 2 × 6\n",
       "\\begin{tabular}{r|llllll}\n",
       "  & variable & y & tp\\_outcome & value & n & variable\\_w\\_n\\\\\n",
       "  & <fct> & <chr> & <chr> & <dbl> & <int> & <chr>\\\\\n",
       "\\hline\n",
       "\t1 & Factor4 & 1 & TP1\\_bad & 0.4734997 & 19 & Factor4 (n=19)\\\\\n",
       "\t2 & Factor4 & 1 & TP1\\_bad & 0.8558891 & 19 & Factor4 (n=19)\\\\\n",
       "\\end{tabular}\n"
      ],
      "text/markdown": [
       "\n",
       "A data.frame: 2 × 6\n",
       "\n",
       "| <!--/--> | variable &lt;fct&gt; | y &lt;chr&gt; | tp_outcome &lt;chr&gt; | value &lt;dbl&gt; | n &lt;int&gt; | variable_w_n &lt;chr&gt; |\n",
       "|---|---|---|---|---|---|---|\n",
       "| 1 | Factor4 | 1 | TP1_bad | 0.4734997 | 19 | Factor4 (n=19) |\n",
       "| 2 | Factor4 | 1 | TP1_bad | 0.8558891 | 19 | Factor4 (n=19) |\n",
       "\n"
      ],
      "text/plain": [
       "  variable y tp_outcome value     n  variable_w_n  \n",
       "1 Factor4  1 TP1_bad    0.4734997 19 Factor4 (n=19)\n",
       "2 Factor4  1 TP1_bad    0.8558891 19 Factor4 (n=19)"
      ]
     },
     "metadata": {},
     "output_type": "display_data"
    }
   ],
   "source": [
    "head(prediction_data_long,2)"
   ]
  },
  {
   "cell_type": "code",
   "execution_count": null,
   "id": "2ee87160-0998-4f1a-a870-5ed8ebad3ff6",
   "metadata": {},
   "outputs": [],
   "source": []
  },
  {
   "cell_type": "code",
   "execution_count": 75,
   "id": "d75ffee1-2789-4d74-a95e-02e978b5b51b",
   "metadata": {},
   "outputs": [],
   "source": [
    "# Figure Name\n",
    "figure_name = 'FIG10_E9_ROC_Factor4_TP1'"
   ]
  },
  {
   "cell_type": "code",
   "execution_count": 76,
   "id": "924692d8-eea9-4b7e-a974-9c913f7e23a1",
   "metadata": {},
   "outputs": [],
   "source": [
    "# Sizes of the plot\n",
    "width_par = 2\n",
    "height_par = 2"
   ]
  },
  {
   "cell_type": "code",
   "execution_count": 77,
   "id": "4209cf97-4bc3-4060-b1cf-224cf31c70c8",
   "metadata": {},
   "outputs": [],
   "source": [
    "xtitle = xlab( 'False Positive Fraction')\n",
    "ytitle  = ylab('Sensititity')"
   ]
  },
  {
   "cell_type": "code",
   "execution_count": 78,
   "id": "94a1235c-7926-4b58-bfb1-590d4afc9465",
   "metadata": {},
   "outputs": [],
   "source": [
    "auc_values = data.frame()"
   ]
  },
  {
   "cell_type": "code",
   "execution_count": 79,
   "id": "bf225008-75de-4c2d-add7-2ed2ae94b090",
   "metadata": {},
   "outputs": [
    {
     "name": "stderr",
     "output_type": "stream",
     "text": [
      "Setting levels: control = 0, case = 1\n",
      "\n",
      "Setting direction: controls < cases\n",
      "\n",
      "Setting levels: control = 0, case = 1\n",
      "\n",
      "Setting direction: controls < cases\n",
      "\n",
      "Setting levels: control = 0, case = 1\n",
      "\n",
      "Setting direction: controls < cases\n",
      "\n",
      "Setting levels: control = 0, case = 1\n",
      "\n",
      "Setting direction: controls < cases\n",
      "\n"
     ]
    }
   ],
   "source": [
    "for(i in unique(prediction_data_long$variable)){\n",
    "    calc_auc = data.frame(variable = i, \n",
    "                          auc = auc(prediction_data_long$y[prediction_data_long$variable == i], prediction_data_long$value[prediction_data_long$variable == i])\n",
    "                          )\n",
    "    auc_values = rbind(auc_values, calc_auc)\n",
    "    }"
   ]
  },
  {
   "cell_type": "code",
   "execution_count": 80,
   "id": "24180bbb-d8b2-4b04-80ed-bc0cdf9e5c2d",
   "metadata": {},
   "outputs": [
    {
     "data": {
      "text/html": [
       "<table class=\"dataframe\">\n",
       "<caption>A data.frame: 4 × 2</caption>\n",
       "<thead>\n",
       "\t<tr><th scope=col>variable</th><th scope=col>auc</th></tr>\n",
       "\t<tr><th scope=col>&lt;chr&gt;</th><th scope=col>&lt;auc&gt;</th></tr>\n",
       "</thead>\n",
       "<tbody>\n",
       "\t<tr><td>Factor4            </td><td>0.8333333</td></tr>\n",
       "\t<tr><td>Normalized_CK      </td><td>0.6025641</td></tr>\n",
       "\t<tr><td>Normalized_CRP     </td><td>0.5181818</td></tr>\n",
       "\t<tr><td>Normalized_Troponin</td><td>0.6666667</td></tr>\n",
       "</tbody>\n",
       "</table>\n"
      ],
      "text/latex": [
       "A data.frame: 4 × 2\n",
       "\\begin{tabular}{ll}\n",
       " variable & auc\\\\\n",
       " <chr> & <auc>\\\\\n",
       "\\hline\n",
       "\t Factor4             & 0.8333333\\\\\n",
       "\t Normalized\\_CK       & 0.6025641\\\\\n",
       "\t Normalized\\_CRP      & 0.5181818\\\\\n",
       "\t Normalized\\_Troponin & 0.6666667\\\\\n",
       "\\end{tabular}\n"
      ],
      "text/markdown": [
       "\n",
       "A data.frame: 4 × 2\n",
       "\n",
       "| variable &lt;chr&gt; | auc &lt;auc&gt; |\n",
       "|---|---|\n",
       "| Factor4             | 0.8333333 |\n",
       "| Normalized_CK       | 0.6025641 |\n",
       "| Normalized_CRP      | 0.5181818 |\n",
       "| Normalized_Troponin | 0.6666667 |\n",
       "\n"
      ],
      "text/plain": [
       "  variable            auc      \n",
       "1 Factor4             0.8333333\n",
       "2 Normalized_CK       0.6025641\n",
       "3 Normalized_CRP      0.5181818\n",
       "4 Normalized_Troponin 0.6666667"
      ]
     },
     "metadata": {},
     "output_type": "display_data"
    }
   ],
   "source": [
    "auc_values"
   ]
  },
  {
   "cell_type": "code",
   "execution_count": 81,
   "id": "88187e97-6757-40d6-9c97-d377a19bed87",
   "metadata": {},
   "outputs": [],
   "source": [
    "### Save AUC values"
   ]
  },
  {
   "cell_type": "code",
   "execution_count": 82,
   "id": "43808885-8cbd-49eb-b625-f751714ce66d",
   "metadata": {},
   "outputs": [],
   "source": [
    "write.csv(auc_values, paste0(result_path,'/Supplementary/SUPP_E9_Factor4_ROC_Plot_AUC_values.csv'), row.names = FALSE)"
   ]
  },
  {
   "cell_type": "code",
   "execution_count": 83,
   "id": "f8835d11-d76c-4af0-90ba-3240d26b4ff5",
   "metadata": {},
   "outputs": [
    {
     "name": "stderr",
     "output_type": "stream",
     "text": [
      "Setting levels: control = 0, case = 1\n",
      "\n",
      "Setting direction: controls < cases\n",
      "\n"
     ]
    },
    {
     "data": {
      "text/html": [
       "0.833333333333333"
      ],
      "text/latex": [
       "0.833333333333333"
      ],
      "text/markdown": [
       "0.833333333333333"
      ],
      "text/plain": [
       "Area under the curve: 0.8333"
      ]
     },
     "metadata": {},
     "output_type": "display_data"
    }
   ],
   "source": [
    "auc(prediction_data_long$y[prediction_data_long$variable == 'Factor4'], prediction_data_long$value[prediction_data_long$variable == 'Factor4'])"
   ]
  },
  {
   "cell_type": "code",
   "execution_count": 84,
   "id": "f92d5f66-5b02-4802-b9e0-9f5621009bc3",
   "metadata": {},
   "outputs": [],
   "source": [
    "## Specify Plot\n",
    "rocplot = ggplot(prediction_data_long, aes(m = value, d = as.numeric(y), color = variable_w_n, linetype= variable_w_n))+ geom_roc(n.cuts=0,labels=FALSE, size = 0.5)"
   ]
  },
  {
   "cell_type": "code",
   "execution_count": 85,
   "id": "7aa79c33-043e-45d4-937b-bd0cc59dd103",
   "metadata": {},
   "outputs": [
    {
     "data": {
      "text/html": [
       "<style>\n",
       ".list-inline {list-style: none; margin:0; padding: 0}\n",
       ".list-inline>li {display: inline-block}\n",
       ".list-inline>li:not(:last-child)::after {content: \"\\00b7\"; padding: 0 .5ex}\n",
       "</style>\n",
       "<ol class=list-inline><li>'Factor4 (n=19)'</li><li>'Normalized_CK (n=19)'</li><li>'Normalized_CRP (n=16)'</li><li>'Normalized_Troponin (n=19)'</li></ol>\n"
      ],
      "text/latex": [
       "\\begin{enumerate*}\n",
       "\\item 'Factor4 (n=19)'\n",
       "\\item 'Normalized\\_CK (n=19)'\n",
       "\\item 'Normalized\\_CRP (n=16)'\n",
       "\\item 'Normalized\\_Troponin (n=19)'\n",
       "\\end{enumerate*}\n"
      ],
      "text/markdown": [
       "1. 'Factor4 (n=19)'\n",
       "2. 'Normalized_CK (n=19)'\n",
       "3. 'Normalized_CRP (n=16)'\n",
       "4. 'Normalized_Troponin (n=19)'\n",
       "\n",
       "\n"
      ],
      "text/plain": [
       "[1] \"Factor4 (n=19)\"             \"Normalized_CK (n=19)\"      \n",
       "[3] \"Normalized_CRP (n=16)\"      \"Normalized_Troponin (n=19)\""
      ]
     },
     "metadata": {},
     "output_type": "display_data"
    }
   ],
   "source": [
    "unique(prediction_data_long$variable_w_n)"
   ]
  },
  {
   "cell_type": "code",
   "execution_count": 86,
   "id": "ec30c88b-f809-4f22-bf27-1b7727226371",
   "metadata": {},
   "outputs": [
    {
     "data": {
      "image/png": "[encoded data removed]",
      "text/plain": [
       "plot without title"
      ]
     },
     "metadata": {
      "image/png": {
       "height": 420,
       "width": 420
      }
     },
     "output_type": "display_data"
    }
   ],
   "source": [
    "## Configuration + Modification of plot\n",
    "roc_plot = rocplot + \n",
    "    plot_config + \n",
    "    xtitle + \n",
    "    ytitle + \n",
    "    ggtitle('ROC curve TP1 good vs. bad') +\n",
    "    geom_abline(slope = 1, intercept = 0) +     \n",
    "    scale_color_manual(values = c('Factor1 (n=21)' = \"#BC0B58\",\n",
    "                                  'Factor4 (n=19)' = \"#BC0B58\",\n",
    "                                  'Normalized_CK (n=19)' = \"#087C6D\",\n",
    "                                  'Normalized_CRP (n=16)'=\"#11C1A9\",\n",
    "                                  'Normalized_Troponin (n=19)'=\"#3F5E5A\"\n",
    "                                 ))+\n",
    "   scale_linetype_manual(values = c('Factor1 (n=21)' = \"dashed\",\n",
    "                                    'Factor4 (n=19)' = \"solid\",\n",
    "                                  'Normalized_CK (n=19)' = \"solid\",\n",
    "                                  'Normalized_CRP (n=16)'=\"solid\",\n",
    "                                  'Normalized_Troponin (n=19)'=\"solid\"\n",
    "                                 ))+\n",
    "    theme(legend.position = 'none')\n",
    "\n",
    "#legend_roc = get_legend(roc_plot)\n",
    "    \n",
    "\n",
    "roc_plot"
   ]
  },
  {
   "cell_type": "code",
   "execution_count": 87,
   "id": "12cd44b1-5a87-4bbf-bdcf-9f5fa8b23686",
   "metadata": {},
   "outputs": [
    {
     "data": {
      "text/html": [
       "<strong>png:</strong> 2"
      ],
      "text/latex": [
       "\\textbf{png:} 2"
      ],
      "text/markdown": [
       "**png:** 2"
      ],
      "text/plain": [
       "png \n",
       "  2 "
      ]
     },
     "metadata": {},
     "output_type": "display_data"
    }
   ],
   "source": [
    "pdf(paste0('figures/Final_Figures/', figure_name, version, '.pdf'), width =width_par, height =height_par)\n",
    "print(roc_plot)\n",
    "dev.off()"
   ]
  },
  {
   "cell_type": "code",
   "execution_count": 88,
   "id": "f0888065-b3b1-4454-b61a-1cfa2fd291b7",
   "metadata": {},
   "outputs": [],
   "source": [
    "color_data = data.frame(description = c('Factor4 (n=19)', 'Normalized_CK (n=19)',  'Normalized_CRP (n=16)',  'Normalized_Troponin (n=19)'),\n",
    "                        color = c( \"#BC0B58\",\"#087C6D\",\"#11C1A9\",\"#3F5E5A\"))"
   ]
  },
  {
   "cell_type": "code",
   "execution_count": 89,
   "id": "120be821-5768-4f3b-8afe-c303404d5e87",
   "metadata": {},
   "outputs": [],
   "source": [
    "# Test calculation of ROC values\n",
    "\n",
    "# prediction_data[!is.na(prediction_data$Normalized_CRP ),]"
   ]
  },
  {
   "cell_type": "code",
   "execution_count": 90,
   "id": "f4414511-7b57-4293-a443-92f5f9174438",
   "metadata": {},
   "outputs": [],
   "source": [
    "### Seperately define legend"
   ]
  },
  {
   "cell_type": "code",
   "execution_count": 91,
   "id": "7c7c677a-08fd-44df-b558-a5c7f95a68b7",
   "metadata": {},
   "outputs": [],
   "source": [
    "legend_add  = Legend(labels = unique(color_data$description), labels_gp = gpar(fontsize = 8),legend_gp =list(col = unique(c(unique(color_data$color)))), \n",
    "    nrow = 4, type = 'lines') "
   ]
  },
  {
   "cell_type": "code",
   "execution_count": 92,
   "id": "c4c01306-732d-4e8f-a362-82eafffd6bbc",
   "metadata": {},
   "outputs": [],
   "source": [
    "legend_add_vertical = packLegend(legend_add, direction = \"horizontal\")"
   ]
  },
  {
   "cell_type": "code",
   "execution_count": 93,
   "id": "58579c08-96d0-4750-8849-bb34168b1a01",
   "metadata": {},
   "outputs": [
    {
     "data": {
      "text/html": [
       "<strong>png:</strong> 2"
      ],
      "text/latex": [
       "\\textbf{png:} 2"
      ],
      "text/markdown": [
       "**png:** 2"
      ],
      "text/plain": [
       "png \n",
       "  2 "
      ]
     },
     "metadata": {},
     "output_type": "display_data"
    }
   ],
   "source": [
    "pdf(paste0('figures/Final_Figures/ROC_Factor4_Legend_Text', '.pdf'), \n",
    "    width =2, \n",
    "    height = 0.7)\n",
    "draw(legend_add_vertical)\n",
    "dev.off()"
   ]
  },
  {
   "cell_type": "code",
   "execution_count": 94,
   "id": "a720b6b4-0df4-4ad2-9f70-ae10f70be75e",
   "metadata": {},
   "outputs": [
    {
     "data": {
      "image/png": "[encoded data removed]",
      "text/plain": [
       "plot without title"
      ]
     },
     "metadata": {
      "image/png": {
       "height": 120,
       "width": 1800
      }
     },
     "output_type": "display_data"
    }
   ],
   "source": [
    "options(repr.plot.width=30, repr.plot.height=2)\n",
    "draw(legend_add_vertical, test = \"Circo Legend\")"
   ]
  },
  {
   "cell_type": "markdown",
   "id": "7b71cd35-4ae7-43a6-aaba-005fbdc00c87",
   "metadata": {},
   "source": [
    "# Prediction Factor 4 TP1 (taking into account other TPs for all variables)"
   ]
  },
  {
   "cell_type": "code",
   "execution_count": 95,
   "id": "b75c4608-3a89-4ffe-93b1-67ce18871b70",
   "metadata": {},
   "outputs": [],
   "source": [
    "prediction_vars = c('Factor4',  'Normalized_CK', 'Normalized_Troponin')"
   ]
  },
  {
   "cell_type": "code",
   "execution_count": 96,
   "id": "f4b80efb-f042-488c-8f53-6c6b25ad0923",
   "metadata": {},
   "outputs": [],
   "source": [
    "prediction_group = 'tp_outcome'\n",
    "prediction_subset = c('TP1_good', 'TP1_bad')"
   ]
  },
  {
   "cell_type": "code",
   "execution_count": 97,
   "id": "20550030-d978-4b73-9c69-42a79f73b81f",
   "metadata": {},
   "outputs": [],
   "source": [
    "#colnames(data)"
   ]
  },
  {
   "cell_type": "code",
   "execution_count": 98,
   "id": "aa363f3a-4c2b-4e36-aa7e-41427ee08c24",
   "metadata": {},
   "outputs": [],
   "source": [
    "prediction_data = data[,c(prediction_vars, prediction_group, 'sample_id')]\n",
    "prediction_data$y = prediction_data[,prediction_group]\n"
   ]
  },
  {
   "cell_type": "code",
   "execution_count": 99,
   "id": "745b565f-1b71-470e-a672-0d1faecd235a",
   "metadata": {},
   "outputs": [],
   "source": [
    "prediction_data$sample = str_replace(prediction_data$sample_id, '\\\\..*', '')"
   ]
  },
  {
   "cell_type": "code",
   "execution_count": 100,
   "id": "dfc306f8-94bb-4a8c-a55b-2f071690b20d",
   "metadata": {},
   "outputs": [
    {
     "name": "stderr",
     "output_type": "stream",
     "text": [
      "Warning message in max(Normalized_CK, na.rm = TRUE):\n",
      "“no non-missing arguments to max; returning -Inf”\n",
      "Warning message in max(Normalized_CK, na.rm = TRUE):\n",
      "“no non-missing arguments to max; returning -Inf”\n",
      "Warning message in max(Normalized_CK, na.rm = TRUE):\n",
      "“no non-missing arguments to max; returning -Inf”\n",
      "Warning message in max(Normalized_CK, na.rm = TRUE):\n",
      "“no non-missing arguments to max; returning -Inf”\n",
      "Warning message in max(Normalized_CK, na.rm = TRUE):\n",
      "“no non-missing arguments to max; returning -Inf”\n",
      "Warning message in max(Normalized_CK, na.rm = TRUE):\n",
      "“no non-missing arguments to max; returning -Inf”\n",
      "Warning message in max(Normalized_Troponin, na.rm = TRUE):\n",
      "“no non-missing arguments to max; returning -Inf”\n",
      "Warning message in max(Normalized_Troponin, na.rm = TRUE):\n",
      "“no non-missing arguments to max; returning -Inf”\n",
      "Warning message in max(Normalized_Troponin, na.rm = TRUE):\n",
      "“no non-missing arguments to max; returning -Inf”\n",
      "Warning message in max(Normalized_Troponin, na.rm = TRUE):\n",
      "“no non-missing arguments to max; returning -Inf”\n",
      "Warning message in max(Normalized_Troponin, na.rm = TRUE):\n",
      "“no non-missing arguments to max; returning -Inf”\n",
      "Warning message in max(Normalized_Troponin, na.rm = TRUE):\n",
      "“no non-missing arguments to max; returning -Inf”\n"
     ]
    }
   ],
   "source": [
    "add_features = prediction_data %>% group_by(sample) %>% summarise(Mean_CK = mean(Normalized_CK, na.rm = TRUE), Max_CK = max(Normalized_CK, na.rm = TRUE), Mean_Troponin = mean(Normalized_Troponin, na.rm = TRUE), Max_Troponin = max(Normalized_Troponin, na.rm = TRUE))"
   ]
  },
  {
   "cell_type": "code",
   "execution_count": 101,
   "id": "240a9c46-3810-47c4-9a6a-7b719df4ad7a",
   "metadata": {},
   "outputs": [
    {
     "data": {
      "text/html": [
       "<table class=\"dataframe\">\n",
       "<caption>A tibble: 2 × 5</caption>\n",
       "<thead>\n",
       "\t<tr><th scope=col>sample</th><th scope=col>Mean_CK</th><th scope=col>Max_CK</th><th scope=col>Mean_Troponin</th><th scope=col>Max_Troponin</th></tr>\n",
       "\t<tr><th scope=col>&lt;chr&gt;</th><th scope=col>&lt;dbl&gt;</th><th scope=col>&lt;dbl&gt;</th><th scope=col>&lt;dbl&gt;</th><th scope=col>&lt;dbl&gt;</th></tr>\n",
       "</thead>\n",
       "<tbody>\n",
       "\t<tr><td>k1 </td><td>-2.397022</td><td>-2.397022</td><td>-1.286479</td><td>-1.286479</td></tr>\n",
       "\t<tr><td>k10</td><td>      NaN</td><td>     -Inf</td><td>      NaN</td><td>     -Inf</td></tr>\n",
       "</tbody>\n",
       "</table>\n"
      ],
      "text/latex": [
       "A tibble: 2 × 5\n",
       "\\begin{tabular}{lllll}\n",
       " sample & Mean\\_CK & Max\\_CK & Mean\\_Troponin & Max\\_Troponin\\\\\n",
       " <chr> & <dbl> & <dbl> & <dbl> & <dbl>\\\\\n",
       "\\hline\n",
       "\t k1  & -2.397022 & -2.397022 & -1.286479 & -1.286479\\\\\n",
       "\t k10 &       NaN &      -Inf &       NaN &      -Inf\\\\\n",
       "\\end{tabular}\n"
      ],
      "text/markdown": [
       "\n",
       "A tibble: 2 × 5\n",
       "\n",
       "| sample &lt;chr&gt; | Mean_CK &lt;dbl&gt; | Max_CK &lt;dbl&gt; | Mean_Troponin &lt;dbl&gt; | Max_Troponin &lt;dbl&gt; |\n",
       "|---|---|---|---|---|\n",
       "| k1  | -2.397022 | -2.397022 | -1.286479 | -1.286479 |\n",
       "| k10 |       NaN |      -Inf |       NaN |      -Inf |\n",
       "\n"
      ],
      "text/plain": [
       "  sample Mean_CK   Max_CK    Mean_Troponin Max_Troponin\n",
       "1 k1     -2.397022 -2.397022 -1.286479     -1.286479   \n",
       "2 k10          NaN      -Inf       NaN          -Inf   "
      ]
     },
     "metadata": {},
     "output_type": "display_data"
    }
   ],
   "source": [
    "head(add_features,2)"
   ]
  },
  {
   "cell_type": "code",
   "execution_count": 102,
   "id": "5dbe54df-385b-4232-bc6b-b545f82c986f",
   "metadata": {},
   "outputs": [
    {
     "data": {
      "text/html": [
       "<style>\n",
       ".list-inline {list-style: none; margin:0; padding: 0}\n",
       ".list-inline>li {display: inline-block}\n",
       ".list-inline>li:not(:last-child)::after {content: \"\\00b7\"; padding: 0 .5ex}\n",
       "</style>\n",
       "<ol class=list-inline><li>'Mean_CK'</li><li>'Max_CK'</li><li>'Mean_Troponin'</li><li>'Max_Troponin'</li></ol>\n"
      ],
      "text/latex": [
       "\\begin{enumerate*}\n",
       "\\item 'Mean\\_CK'\n",
       "\\item 'Max\\_CK'\n",
       "\\item 'Mean\\_Troponin'\n",
       "\\item 'Max\\_Troponin'\n",
       "\\end{enumerate*}\n"
      ],
      "text/markdown": [
       "1. 'Mean_CK'\n",
       "2. 'Max_CK'\n",
       "3. 'Mean_Troponin'\n",
       "4. 'Max_Troponin'\n",
       "\n",
       "\n"
      ],
      "text/plain": [
       "[1] \"Mean_CK\"       \"Max_CK\"        \"Mean_Troponin\" \"Max_Troponin\" "
      ]
     },
     "metadata": {},
     "output_type": "display_data"
    }
   ],
   "source": [
    "colnames(add_features)[!colnames(add_features) == 'sample']"
   ]
  },
  {
   "cell_type": "code",
   "execution_count": 103,
   "id": "7e982a8b-d5cc-4916-ad53-9ae9153b66a7",
   "metadata": {},
   "outputs": [],
   "source": [
    "prediction_data = merge(prediction_data[,c('sample', 'y', 'tp_outcome', 'Factor4')], add_features)"
   ]
  },
  {
   "cell_type": "code",
   "execution_count": 104,
   "id": "822095da-df5e-4094-811e-a48ef67ebeaf",
   "metadata": {},
   "outputs": [
    {
     "data": {
      "text/html": [
       "<table class=\"dataframe\">\n",
       "<caption>A data.frame: 2 × 8</caption>\n",
       "<thead>\n",
       "\t<tr><th></th><th scope=col>sample</th><th scope=col>y</th><th scope=col>tp_outcome</th><th scope=col>Factor4</th><th scope=col>Mean_CK</th><th scope=col>Max_CK</th><th scope=col>Mean_Troponin</th><th scope=col>Max_Troponin</th></tr>\n",
       "\t<tr><th></th><th scope=col>&lt;chr&gt;</th><th scope=col>&lt;chr&gt;</th><th scope=col>&lt;chr&gt;</th><th scope=col>&lt;dbl&gt;</th><th scope=col>&lt;dbl&gt;</th><th scope=col>&lt;dbl&gt;</th><th scope=col>&lt;dbl&gt;</th><th scope=col>&lt;dbl&gt;</th></tr>\n",
       "</thead>\n",
       "<tbody>\n",
       "\t<tr><th scope=row>1</th><td>k1 </td><td>TP0_NA</td><td>TP0_NA</td><td>-0.4135678</td><td>-2.397022</td><td>-2.397022</td><td>-1.286479</td><td>-1.286479</td></tr>\n",
       "\t<tr><th scope=row>2</th><td>k10</td><td>TP0_NA</td><td>TP0_NA</td><td>-0.1524478</td><td>      NaN</td><td>     -Inf</td><td>      NaN</td><td>     -Inf</td></tr>\n",
       "</tbody>\n",
       "</table>\n"
      ],
      "text/latex": [
       "A data.frame: 2 × 8\n",
       "\\begin{tabular}{r|llllllll}\n",
       "  & sample & y & tp\\_outcome & Factor4 & Mean\\_CK & Max\\_CK & Mean\\_Troponin & Max\\_Troponin\\\\\n",
       "  & <chr> & <chr> & <chr> & <dbl> & <dbl> & <dbl> & <dbl> & <dbl>\\\\\n",
       "\\hline\n",
       "\t1 & k1  & TP0\\_NA & TP0\\_NA & -0.4135678 & -2.397022 & -2.397022 & -1.286479 & -1.286479\\\\\n",
       "\t2 & k10 & TP0\\_NA & TP0\\_NA & -0.1524478 &       NaN &      -Inf &       NaN &      -Inf\\\\\n",
       "\\end{tabular}\n"
      ],
      "text/markdown": [
       "\n",
       "A data.frame: 2 × 8\n",
       "\n",
       "| <!--/--> | sample &lt;chr&gt; | y &lt;chr&gt; | tp_outcome &lt;chr&gt; | Factor4 &lt;dbl&gt; | Mean_CK &lt;dbl&gt; | Max_CK &lt;dbl&gt; | Mean_Troponin &lt;dbl&gt; | Max_Troponin &lt;dbl&gt; |\n",
       "|---|---|---|---|---|---|---|---|---|\n",
       "| 1 | k1  | TP0_NA | TP0_NA | -0.4135678 | -2.397022 | -2.397022 | -1.286479 | -1.286479 |\n",
       "| 2 | k10 | TP0_NA | TP0_NA | -0.1524478 |       NaN |      -Inf |       NaN |      -Inf |\n",
       "\n"
      ],
      "text/plain": [
       "  sample y      tp_outcome Factor4    Mean_CK   Max_CK    Mean_Troponin\n",
       "1 k1     TP0_NA TP0_NA     -0.4135678 -2.397022 -2.397022 -1.286479    \n",
       "2 k10    TP0_NA TP0_NA     -0.1524478       NaN      -Inf       NaN    \n",
       "  Max_Troponin\n",
       "1 -1.286479   \n",
       "2      -Inf   "
      ]
     },
     "metadata": {},
     "output_type": "display_data"
    }
   ],
   "source": [
    "head(prediction_data,2)"
   ]
  },
  {
   "cell_type": "code",
   "execution_count": 105,
   "id": "030b09db-419d-4256-8b52-e912871dd38c",
   "metadata": {},
   "outputs": [],
   "source": [
    "prediction_data = prediction_data[prediction_data$y %in% prediction_subset,]\n",
    "\n",
    "prediction_data$y[prediction_data$y == prediction_subset[2]] = 1  # predict BAD outcome \n",
    "prediction_data$y[prediction_data$y == prediction_subset[1]] = 0  # good outcome as control"
   ]
  },
  {
   "cell_type": "code",
   "execution_count": 106,
   "id": "9cea637f-3496-4f08-83b5-1d7b99da659f",
   "metadata": {},
   "outputs": [
    {
     "name": "stderr",
     "output_type": "stream",
     "text": [
      "Warning message in mean.default(col, ...):\n",
      "“argument is not numeric or logical: returning NA”\n",
      "Warning message in mean.default(col, ...):\n",
      "“argument is not numeric or logical: returning NA”\n",
      "\u001b[1m\u001b[22m`summarise()` has grouped output by 'tp_outcome'. You can override using the\n",
      "`.groups` argument.\n"
     ]
    },
    {
     "data": {
      "text/html": [
       "<table class=\"dataframe\">\n",
       "<caption>A grouped_df: 2 × 8</caption>\n",
       "<thead>\n",
       "\t<tr><th scope=col>tp_outcome</th><th scope=col>y</th><th scope=col>sample</th><th scope=col>Factor4</th><th scope=col>Mean_CK</th><th scope=col>Max_CK</th><th scope=col>Mean_Troponin</th><th scope=col>Max_Troponin</th></tr>\n",
       "\t<tr><th scope=col>&lt;chr&gt;</th><th scope=col>&lt;chr&gt;</th><th scope=col>&lt;dbl&gt;</th><th scope=col>&lt;dbl&gt;</th><th scope=col>&lt;dbl&gt;</th><th scope=col>&lt;dbl&gt;</th><th scope=col>&lt;dbl&gt;</th><th scope=col>&lt;dbl&gt;</th></tr>\n",
       "</thead>\n",
       "<tbody>\n",
       "\t<tr><td>TP1_bad </td><td>1</td><td>NA</td><td>-1.1259212</td><td>0.4826376</td><td>1.319291</td><td>0.7135992</td><td>1.3862666</td></tr>\n",
       "\t<tr><td>TP1_good</td><td>0</td><td>NA</td><td>-0.6298132</td><td>0.3214661</td><td>1.088153</td><td>0.3160542</td><td>0.7361031</td></tr>\n",
       "</tbody>\n",
       "</table>\n"
      ],
      "text/latex": [
       "A grouped\\_df: 2 × 8\n",
       "\\begin{tabular}{llllllll}\n",
       " tp\\_outcome & y & sample & Factor4 & Mean\\_CK & Max\\_CK & Mean\\_Troponin & Max\\_Troponin\\\\\n",
       " <chr> & <chr> & <dbl> & <dbl> & <dbl> & <dbl> & <dbl> & <dbl>\\\\\n",
       "\\hline\n",
       "\t TP1\\_bad  & 1 & NA & -1.1259212 & 0.4826376 & 1.319291 & 0.7135992 & 1.3862666\\\\\n",
       "\t TP1\\_good & 0 & NA & -0.6298132 & 0.3214661 & 1.088153 & 0.3160542 & 0.7361031\\\\\n",
       "\\end{tabular}\n"
      ],
      "text/markdown": [
       "\n",
       "A grouped_df: 2 × 8\n",
       "\n",
       "| tp_outcome &lt;chr&gt; | y &lt;chr&gt; | sample &lt;dbl&gt; | Factor4 &lt;dbl&gt; | Mean_CK &lt;dbl&gt; | Max_CK &lt;dbl&gt; | Mean_Troponin &lt;dbl&gt; | Max_Troponin &lt;dbl&gt; |\n",
       "|---|---|---|---|---|---|---|---|\n",
       "| TP1_bad  | 1 | NA | -1.1259212 | 0.4826376 | 1.319291 | 0.7135992 | 1.3862666 |\n",
       "| TP1_good | 0 | NA | -0.6298132 | 0.3214661 | 1.088153 | 0.3160542 | 0.7361031 |\n",
       "\n"
      ],
      "text/plain": [
       "  tp_outcome y sample Factor4    Mean_CK   Max_CK   Mean_Troponin Max_Troponin\n",
       "1 TP1_bad    1 NA     -1.1259212 0.4826376 1.319291 0.7135992     1.3862666   \n",
       "2 TP1_good   0 NA     -0.6298132 0.3214661 1.088153 0.3160542     0.7361031   "
      ]
     },
     "metadata": {},
     "output_type": "display_data"
    }
   ],
   "source": [
    "## Check in which direction to adjust\n",
    "prediction_data %>% group_by(tp_outcome,y) %>% summarise(across(everything(), mean, na.rm =TRUE))\n",
    "\n",
    "# predict bad --> higher values for bad"
   ]
  },
  {
   "cell_type": "code",
   "execution_count": 107,
   "id": "cbfa35ff-b318-4a3f-ba5f-fc7f4f2892dc",
   "metadata": {},
   "outputs": [],
   "source": [
    "# Adjust sign of Factor values\n",
    "prediction_data$Factor4 = -1*prediction_data$Factor4"
   ]
  },
  {
   "cell_type": "code",
   "execution_count": null,
   "id": "dd30b568-710e-4743-a1f3-5607aeff7f48",
   "metadata": {},
   "outputs": [],
   "source": []
  },
  {
   "cell_type": "code",
   "execution_count": 108,
   "id": "ae090097-463b-491d-9815-449ba89a7348",
   "metadata": {},
   "outputs": [],
   "source": [
    "# Transform and scale scores of prediction variables (to be between 0 and 1)"
   ]
  },
  {
   "cell_type": "code",
   "execution_count": 109,
   "id": "130c0c59-785c-4f9d-af9f-ff5b589ca402",
   "metadata": {},
   "outputs": [],
   "source": [
    "prediction_data = cbind( prediction_data[,c('y', prediction_group)],\n",
    "      apply(prediction_data[,c('Factor4', colnames(add_features)[!colnames(add_features) == 'sample'])], MARGIN = 2, FUN = function(x){\n",
    "    (x - min(x, na.rm = TRUE)) / (max(x, na.rm = TRUE) - min(x, na.rm = TRUE))}))"
   ]
  },
  {
   "cell_type": "code",
   "execution_count": 110,
   "id": "0f30b849-90be-42df-987f-699d218629f0",
   "metadata": {},
   "outputs": [
    {
     "data": {
      "text/html": [
       "<table class=\"dataframe\">\n",
       "<caption>A data.frame: 5 × 7</caption>\n",
       "<thead>\n",
       "\t<tr><th></th><th scope=col>y</th><th scope=col>tp_outcome</th><th scope=col>Factor4</th><th scope=col>Mean_CK</th><th scope=col>Max_CK</th><th scope=col>Mean_Troponin</th><th scope=col>Max_Troponin</th></tr>\n",
       "\t<tr><th></th><th scope=col>&lt;chr&gt;</th><th scope=col>&lt;chr&gt;</th><th scope=col>&lt;dbl&gt;</th><th scope=col>&lt;dbl&gt;</th><th scope=col>&lt;dbl&gt;</th><th scope=col>&lt;dbl&gt;</th><th scope=col>&lt;dbl&gt;</th></tr>\n",
       "</thead>\n",
       "<tbody>\n",
       "\t<tr><th scope=row>36</th><td>1</td><td>TP1_bad </td><td>0.4734997</td><td>1.0000000</td><td>0.7503890</td><td>1.0000000</td><td>1.0000000</td></tr>\n",
       "\t<tr><th scope=row>45</th><td>1</td><td>TP1_bad </td><td>0.8558891</td><td>0.4562227</td><td>0.5261785</td><td>0.5556089</td><td>0.6342725</td></tr>\n",
       "\t<tr><th scope=row>49</th><td>1</td><td>TP1_bad </td><td>0.7560452</td><td>0.4847296</td><td>0.4550662</td><td>0.4835328</td><td>0.5974694</td></tr>\n",
       "\t<tr><th scope=row>53</th><td>0</td><td>TP1_good</td><td>1.0000000</td><td>0.6155006</td><td>0.4283336</td><td>0.4316984</td><td>0.4713510</td></tr>\n",
       "\t<tr><th scope=row>60</th><td>1</td><td>TP1_bad </td><td>0.7118677</td><td>0.2195981</td><td>0.2955057</td><td>0.3321533</td><td>0.4162823</td></tr>\n",
       "</tbody>\n",
       "</table>\n"
      ],
      "text/latex": [
       "A data.frame: 5 × 7\n",
       "\\begin{tabular}{r|lllllll}\n",
       "  & y & tp\\_outcome & Factor4 & Mean\\_CK & Max\\_CK & Mean\\_Troponin & Max\\_Troponin\\\\\n",
       "  & <chr> & <chr> & <dbl> & <dbl> & <dbl> & <dbl> & <dbl>\\\\\n",
       "\\hline\n",
       "\t36 & 1 & TP1\\_bad  & 0.4734997 & 1.0000000 & 0.7503890 & 1.0000000 & 1.0000000\\\\\n",
       "\t45 & 1 & TP1\\_bad  & 0.8558891 & 0.4562227 & 0.5261785 & 0.5556089 & 0.6342725\\\\\n",
       "\t49 & 1 & TP1\\_bad  & 0.7560452 & 0.4847296 & 0.4550662 & 0.4835328 & 0.5974694\\\\\n",
       "\t53 & 0 & TP1\\_good & 1.0000000 & 0.6155006 & 0.4283336 & 0.4316984 & 0.4713510\\\\\n",
       "\t60 & 1 & TP1\\_bad  & 0.7118677 & 0.2195981 & 0.2955057 & 0.3321533 & 0.4162823\\\\\n",
       "\\end{tabular}\n"
      ],
      "text/markdown": [
       "\n",
       "A data.frame: 5 × 7\n",
       "\n",
       "| <!--/--> | y &lt;chr&gt; | tp_outcome &lt;chr&gt; | Factor4 &lt;dbl&gt; | Mean_CK &lt;dbl&gt; | Max_CK &lt;dbl&gt; | Mean_Troponin &lt;dbl&gt; | Max_Troponin &lt;dbl&gt; |\n",
       "|---|---|---|---|---|---|---|---|\n",
       "| 36 | 1 | TP1_bad  | 0.4734997 | 1.0000000 | 0.7503890 | 1.0000000 | 1.0000000 |\n",
       "| 45 | 1 | TP1_bad  | 0.8558891 | 0.4562227 | 0.5261785 | 0.5556089 | 0.6342725 |\n",
       "| 49 | 1 | TP1_bad  | 0.7560452 | 0.4847296 | 0.4550662 | 0.4835328 | 0.5974694 |\n",
       "| 53 | 0 | TP1_good | 1.0000000 | 0.6155006 | 0.4283336 | 0.4316984 | 0.4713510 |\n",
       "| 60 | 1 | TP1_bad  | 0.7118677 | 0.2195981 | 0.2955057 | 0.3321533 | 0.4162823 |\n",
       "\n"
      ],
      "text/plain": [
       "   y tp_outcome Factor4   Mean_CK   Max_CK    Mean_Troponin Max_Troponin\n",
       "36 1 TP1_bad    0.4734997 1.0000000 0.7503890 1.0000000     1.0000000   \n",
       "45 1 TP1_bad    0.8558891 0.4562227 0.5261785 0.5556089     0.6342725   \n",
       "49 1 TP1_bad    0.7560452 0.4847296 0.4550662 0.4835328     0.5974694   \n",
       "53 0 TP1_good   1.0000000 0.6155006 0.4283336 0.4316984     0.4713510   \n",
       "60 1 TP1_bad    0.7118677 0.2195981 0.2955057 0.3321533     0.4162823   "
      ]
     },
     "metadata": {},
     "output_type": "display_data"
    }
   ],
   "source": [
    "head(prediction_data,5)"
   ]
  },
  {
   "cell_type": "code",
   "execution_count": 111,
   "id": "d8dbd8e6-7134-4b43-bfef-420d53b2f9ac",
   "metadata": {},
   "outputs": [],
   "source": [
    "# Plot ROC curves (roc implementation DEPRECATED)"
   ]
  },
  {
   "cell_type": "code",
   "execution_count": 112,
   "id": "fc69c9f1-844a-4dbe-987b-861b59594c37",
   "metadata": {},
   "outputs": [],
   "source": [
    "#roc_list = list()"
   ]
  },
  {
   "cell_type": "code",
   "execution_count": 113,
   "id": "7054e9ff-d097-450c-b1be-be511c967f4f",
   "metadata": {},
   "outputs": [],
   "source": [
    "#for(i in prediction_vars){\n",
    "#    roc_list[[i]] = roc(prediction_data$y ~ \n",
    "#                        prediction_data[,i], plot = FALSE, print.auc = TRUE)\n",
    "#    }"
   ]
  },
  {
   "cell_type": "code",
   "execution_count": 114,
   "id": "fca2e31d-62cb-42c2-8f1f-18853c201933",
   "metadata": {},
   "outputs": [],
   "source": [
    "#plot(roc_list[[2]])"
   ]
  },
  {
   "cell_type": "code",
   "execution_count": 115,
   "id": "a32bddd7-cab5-4d7b-aa72-78f2387799f6",
   "metadata": {},
   "outputs": [],
   "source": [
    "## Add all onto each other (ROC implementation)"
   ]
  },
  {
   "cell_type": "code",
   "execution_count": 116,
   "id": "59996873-04b1-4f82-ab22-ec318b622c25",
   "metadata": {},
   "outputs": [],
   "source": [
    "#plot(roc_list[[1]], col = 1, lty = 2, main = \"ROC\")\n",
    "#for(i in 2:length(roc_list)){\n",
    "#    plot(roc_list[[i]], col = 4, lty = 3, add = TRUE)\n",
    "#    }\n",
    "    "
   ]
  },
  {
   "cell_type": "code",
   "execution_count": 117,
   "id": "3c555e06-ba78-4e07-867b-625b2dbd316b",
   "metadata": {},
   "outputs": [],
   "source": [
    "## Alternative use GGPLOT IMPL"
   ]
  },
  {
   "cell_type": "code",
   "execution_count": 118,
   "id": "da8cce28-6933-4641-92ef-ae1c93f20743",
   "metadata": {},
   "outputs": [
    {
     "name": "stderr",
     "output_type": "stream",
     "text": [
      "Using y, tp_outcome as id variables\n",
      "\n"
     ]
    }
   ],
   "source": [
    "prediction_data_long = melt(prediction_data)"
   ]
  },
  {
   "cell_type": "code",
   "execution_count": 119,
   "id": "747b78a1-9a10-45e7-ac9c-8ac45be89ddc",
   "metadata": {},
   "outputs": [
    {
     "data": {
      "text/html": [
       "<table class=\"dataframe\">\n",
       "<caption>A data.frame: 2 × 4</caption>\n",
       "<thead>\n",
       "\t<tr><th></th><th scope=col>y</th><th scope=col>tp_outcome</th><th scope=col>variable</th><th scope=col>value</th></tr>\n",
       "\t<tr><th></th><th scope=col>&lt;chr&gt;</th><th scope=col>&lt;chr&gt;</th><th scope=col>&lt;fct&gt;</th><th scope=col>&lt;dbl&gt;</th></tr>\n",
       "</thead>\n",
       "<tbody>\n",
       "\t<tr><th scope=row>1</th><td>1</td><td>TP1_bad</td><td>Factor4</td><td>0.4734997</td></tr>\n",
       "\t<tr><th scope=row>2</th><td>1</td><td>TP1_bad</td><td>Factor4</td><td>0.8558891</td></tr>\n",
       "</tbody>\n",
       "</table>\n"
      ],
      "text/latex": [
       "A data.frame: 2 × 4\n",
       "\\begin{tabular}{r|llll}\n",
       "  & y & tp\\_outcome & variable & value\\\\\n",
       "  & <chr> & <chr> & <fct> & <dbl>\\\\\n",
       "\\hline\n",
       "\t1 & 1 & TP1\\_bad & Factor4 & 0.4734997\\\\\n",
       "\t2 & 1 & TP1\\_bad & Factor4 & 0.8558891\\\\\n",
       "\\end{tabular}\n"
      ],
      "text/markdown": [
       "\n",
       "A data.frame: 2 × 4\n",
       "\n",
       "| <!--/--> | y &lt;chr&gt; | tp_outcome &lt;chr&gt; | variable &lt;fct&gt; | value &lt;dbl&gt; |\n",
       "|---|---|---|---|---|\n",
       "| 1 | 1 | TP1_bad | Factor4 | 0.4734997 |\n",
       "| 2 | 1 | TP1_bad | Factor4 | 0.8558891 |\n",
       "\n"
      ],
      "text/plain": [
       "  y tp_outcome variable value    \n",
       "1 1 TP1_bad    Factor4  0.4734997\n",
       "2 1 TP1_bad    Factor4  0.8558891"
      ]
     },
     "metadata": {},
     "output_type": "display_data"
    }
   ],
   "source": [
    "head(prediction_data_long,2)"
   ]
  },
  {
   "cell_type": "code",
   "execution_count": 120,
   "id": "6c7ffa72-57ab-4ff4-930f-2c9dbcc71e66",
   "metadata": {},
   "outputs": [],
   "source": [
    "prediction_data_long = prediction_data_long[!is.na(prediction_data_long$value),]"
   ]
  },
  {
   "cell_type": "code",
   "execution_count": 121,
   "id": "44b22a69-f0cc-4290-91f0-8401a0f4b7be",
   "metadata": {},
   "outputs": [],
   "source": [
    "prediction_data_long = prediction_data_long[!is.na(prediction_data_long$value),]"
   ]
  },
  {
   "cell_type": "code",
   "execution_count": 122,
   "id": "c956ab30-77ea-4d54-94b4-4514ae3ba601",
   "metadata": {},
   "outputs": [],
   "source": [
    "amount_samples = prediction_data_long %>% group_by(variable) %>% count()"
   ]
  },
  {
   "cell_type": "code",
   "execution_count": 123,
   "id": "e76822ec-0bbb-465e-95b5-25e8404ee6c4",
   "metadata": {},
   "outputs": [],
   "source": [
    "prediction_data_long = merge(prediction_data_long, amount_samples)"
   ]
  },
  {
   "cell_type": "code",
   "execution_count": 124,
   "id": "c3072b2e-3fbe-4807-aa59-ea06cbc83eb4",
   "metadata": {},
   "outputs": [],
   "source": [
    "prediction_data_long$variable_w_n = paste0(prediction_data_long$variable, ' (n=', prediction_data_long$n, ')')"
   ]
  },
  {
   "cell_type": "code",
   "execution_count": 125,
   "id": "43df3072-9307-4fa1-9bb3-1802511acc97",
   "metadata": {},
   "outputs": [],
   "source": [
    "# Figure Name\n",
    "figure_name = 'FIG7_E9_ROC_Factor4_TP1_V2'"
   ]
  },
  {
   "cell_type": "code",
   "execution_count": 126,
   "id": "7d74b132-57e0-46f6-a9bc-16600d9309c0",
   "metadata": {},
   "outputs": [],
   "source": [
    "# Sizes of the plot\n",
    "width_par = 4\n",
    "height_par = 2"
   ]
  },
  {
   "cell_type": "code",
   "execution_count": 127,
   "id": "ce96f6a2-47d4-4070-9c26-e6f4a5ea132d",
   "metadata": {},
   "outputs": [],
   "source": [
    "xtitle = xlab( 'False Positive Fraction')\n",
    "ytitle  = ylab('Sensititity')"
   ]
  },
  {
   "cell_type": "code",
   "execution_count": 128,
   "id": "2393a3a8-f7f0-4a1c-9a9d-797d2405534d",
   "metadata": {},
   "outputs": [],
   "source": [
    "## Specify Plot\n",
    "rocplot = ggplot(prediction_data_long, aes(m = value, d = as.numeric(y), color = variable_w_n))+ geom_roc(n.cuts=0,labels=FALSE, size = 0.5)"
   ]
  },
  {
   "cell_type": "code",
   "execution_count": 129,
   "id": "f5e90aaa-3c8c-4144-81b6-98c9f8021fb0",
   "metadata": {},
   "outputs": [
    {
     "data": {
      "text/html": [
       "<style>\n",
       ".list-inline {list-style: none; margin:0; padding: 0}\n",
       ".list-inline>li {display: inline-block}\n",
       ".list-inline>li:not(:last-child)::after {content: \"\\00b7\"; padding: 0 .5ex}\n",
       "</style>\n",
       "<ol class=list-inline><li>'Factor4 (n=19)'</li><li>'Max_CK (n=19)'</li><li>'Max_Troponin (n=19)'</li><li>'Mean_CK (n=19)'</li><li>'Mean_Troponin (n=19)'</li></ol>\n"
      ],
      "text/latex": [
       "\\begin{enumerate*}\n",
       "\\item 'Factor4 (n=19)'\n",
       "\\item 'Max\\_CK (n=19)'\n",
       "\\item 'Max\\_Troponin (n=19)'\n",
       "\\item 'Mean\\_CK (n=19)'\n",
       "\\item 'Mean\\_Troponin (n=19)'\n",
       "\\end{enumerate*}\n"
      ],
      "text/markdown": [
       "1. 'Factor4 (n=19)'\n",
       "2. 'Max_CK (n=19)'\n",
       "3. 'Max_Troponin (n=19)'\n",
       "4. 'Mean_CK (n=19)'\n",
       "5. 'Mean_Troponin (n=19)'\n",
       "\n",
       "\n"
      ],
      "text/plain": [
       "[1] \"Factor4 (n=19)\"       \"Max_CK (n=19)\"        \"Max_Troponin (n=19)\" \n",
       "[4] \"Mean_CK (n=19)\"       \"Mean_Troponin (n=19)\""
      ]
     },
     "metadata": {},
     "output_type": "display_data"
    }
   ],
   "source": [
    "unique(prediction_data_long$variable_w_n )"
   ]
  },
  {
   "cell_type": "code",
   "execution_count": 130,
   "id": "e80b3734-2390-465a-a7f3-647b38cdd7ce",
   "metadata": {},
   "outputs": [
    {
     "data": {
      "image/png": "[encoded data removed]",
      "text/plain": [
       "plot without title"
      ]
     },
     "metadata": {
      "image/png": {
       "height": 120,
       "width": 1800
      }
     },
     "output_type": "display_data"
    }
   ],
   "source": [
    "## Configuration + Modification of plot\n",
    "roc_plot = rocplot + \n",
    "    plot_config + \n",
    "    xtitle + \n",
    "    ytitle + \n",
    "     scale_color_manual(values = c('Factor4 (n=19)' = \"#BC0B58\",\n",
    "                                      'Mean_CK (n=19)' = \"#087C6D\",\n",
    "                                      'Max_CK (n=19)'=\"#11C1A9\",\n",
    "                                   'Max_Troponin (n=19)' = '#863F06',\n",
    "                                   'Mean_Troponin (n=19)' = '#5B2A03'\n",
    "                                     ))+\n",
    "       scale_linetype_manual(values = c('Factor4 (n=19)' = \"solid\",\n",
    "                                      'Mean_CK (n=19)' = \"solid\",\n",
    "                                      'Max_CK (n=19)'=\"solid\",\n",
    "                                               'Max_Troponin (n=19)'=\"solid\",\n",
    "                                               'Mean_Troponin (n=19)'=\"solid\"\n",
    "                                     ))+\n",
    "    ggtitle('ROC curve TP1 good vs. bad') +\n",
    "    geom_abline(slope = 1, intercept = 0)\n",
    "\n",
    "roc_plot"
   ]
  },
  {
   "cell_type": "code",
   "execution_count": 131,
   "id": "5bcbaf0d-a7d0-4aaa-bb63-e02b7db6d2be",
   "metadata": {},
   "outputs": [
    {
     "data": {
      "text/html": [
       "<strong>png:</strong> 2"
      ],
      "text/latex": [
       "\\textbf{png:} 2"
      ],
      "text/markdown": [
       "**png:** 2"
      ],
      "text/plain": [
       "png \n",
       "  2 "
      ]
     },
     "metadata": {},
     "output_type": "display_data"
    }
   ],
   "source": [
    "pdf(paste0('figures/Final_Figures/', figure_name, version, '.pdf'), width =width_par, height =height_par)\n",
    "print(roc_plot)\n",
    "dev.off()"
   ]
  },
  {
   "cell_type": "code",
   "execution_count": 132,
   "id": "0acc8a5a-179a-4170-9249-d84da8c79bb6",
   "metadata": {},
   "outputs": [],
   "source": [
    "# Test calculation of ROC values\n",
    "\n",
    "# prediction_data[!is.na(prediction_data$Normalized_CRP ),]"
   ]
  },
  {
   "cell_type": "code",
   "execution_count": 133,
   "id": "2987e43e-3ebe-47bb-85cc-ed1351d16001",
   "metadata": {},
   "outputs": [],
   "source": [
    "auc_values = data.frame()"
   ]
  },
  {
   "cell_type": "code",
   "execution_count": 134,
   "id": "8e99ef89-1e9b-4edb-ba50-a5196adce25d",
   "metadata": {},
   "outputs": [
    {
     "name": "stderr",
     "output_type": "stream",
     "text": [
      "Setting levels: control = 0, case = 1\n",
      "\n",
      "Setting direction: controls < cases\n",
      "\n",
      "Setting levels: control = 0, case = 1\n",
      "\n",
      "Setting direction: controls < cases\n",
      "\n",
      "Setting levels: control = 0, case = 1\n",
      "\n",
      "Setting direction: controls < cases\n",
      "\n",
      "Setting levels: control = 0, case = 1\n",
      "\n",
      "Setting direction: controls > cases\n",
      "\n",
      "Setting levels: control = 0, case = 1\n",
      "\n",
      "Setting direction: controls < cases\n",
      "\n"
     ]
    }
   ],
   "source": [
    "for(i in unique(prediction_data_long$variable)){\n",
    "    calc_auc = data.frame(variable = i, \n",
    "                          auc = auc(prediction_data_long$y[prediction_data_long$variable == i], prediction_data_long$value[prediction_data_long$variable == i])\n",
    "                          )\n",
    "    auc_values = rbind(auc_values, calc_auc)\n",
    "    }"
   ]
  },
  {
   "cell_type": "code",
   "execution_count": 135,
   "id": "03f1878a-99e4-484e-9617-1fb812f6cd07",
   "metadata": {},
   "outputs": [
    {
     "data": {
      "text/html": [
       "<table class=\"dataframe\">\n",
       "<caption>A data.frame: 5 × 2</caption>\n",
       "<thead>\n",
       "\t<tr><th scope=col>variable</th><th scope=col>auc</th></tr>\n",
       "\t<tr><th scope=col>&lt;chr&gt;</th><th scope=col>&lt;auc&gt;</th></tr>\n",
       "</thead>\n",
       "<tbody>\n",
       "\t<tr><td>Factor4      </td><td>0.8333333</td></tr>\n",
       "\t<tr><td>Max_CK       </td><td>0.6538462</td></tr>\n",
       "\t<tr><td>Max_Troponin </td><td>0.7307692</td></tr>\n",
       "\t<tr><td>Mean_CK      </td><td>0.4743590</td></tr>\n",
       "\t<tr><td>Mean_Troponin</td><td>0.7179487</td></tr>\n",
       "</tbody>\n",
       "</table>\n"
      ],
      "text/latex": [
       "A data.frame: 5 × 2\n",
       "\\begin{tabular}{ll}\n",
       " variable & auc\\\\\n",
       " <chr> & <auc>\\\\\n",
       "\\hline\n",
       "\t Factor4       & 0.8333333\\\\\n",
       "\t Max\\_CK        & 0.6538462\\\\\n",
       "\t Max\\_Troponin  & 0.7307692\\\\\n",
       "\t Mean\\_CK       & 0.4743590\\\\\n",
       "\t Mean\\_Troponin & 0.7179487\\\\\n",
       "\\end{tabular}\n"
      ],
      "text/markdown": [
       "\n",
       "A data.frame: 5 × 2\n",
       "\n",
       "| variable &lt;chr&gt; | auc &lt;auc&gt; |\n",
       "|---|---|\n",
       "| Factor4       | 0.8333333 |\n",
       "| Max_CK        | 0.6538462 |\n",
       "| Max_Troponin  | 0.7307692 |\n",
       "| Mean_CK       | 0.4743590 |\n",
       "| Mean_Troponin | 0.7179487 |\n",
       "\n"
      ],
      "text/plain": [
       "  variable      auc      \n",
       "1 Factor4       0.8333333\n",
       "2 Max_CK        0.6538462\n",
       "3 Max_Troponin  0.7307692\n",
       "4 Mean_CK       0.4743590\n",
       "5 Mean_Troponin 0.7179487"
      ]
     },
     "metadata": {},
     "output_type": "display_data"
    }
   ],
   "source": [
    "auc_values"
   ]
  },
  {
   "cell_type": "code",
   "execution_count": 136,
   "id": "a3bc4449-3cb0-495e-9cda-ff01a594659d",
   "metadata": {},
   "outputs": [],
   "source": [
    "### Save AUC values"
   ]
  },
  {
   "cell_type": "code",
   "execution_count": 137,
   "id": "d6bd4d0c-0d58-4bdf-9900-c0fc6244d506",
   "metadata": {},
   "outputs": [],
   "source": [
    "write.csv(auc_values, paste0(result_path,'/Supplementary/SUPP_E9_Factor4_ROC_Plot_AUC_values_P2.csv'), row.names = FALSE)"
   ]
  },
  {
   "cell_type": "markdown",
   "id": "9080e8b5-2248-43b6-a571-9f016d3dcfc9",
   "metadata": {},
   "source": [
    "# Prediction Factor 4 good vs. bad (all TP)"
   ]
  },
  {
   "cell_type": "code",
   "execution_count": 138,
   "id": "dd3a20b4-7fca-492c-b508-7a73d9475dfb",
   "metadata": {},
   "outputs": [],
   "source": [
    "prediction_vars = c('Factor4',  'Normalized_CK', 'Normalized_CRP', 'Normalized_Troponin')"
   ]
  },
  {
   "cell_type": "code",
   "execution_count": 139,
   "id": "93af7f29-a6b3-4505-b010-e6c74e7ff21d",
   "metadata": {},
   "outputs": [
    {
     "data": {
      "text/html": [
       "<style>\n",
       ".list-inline {list-style: none; margin:0; padding: 0}\n",
       ".list-inline>li {display: inline-block}\n",
       ".list-inline>li:not(:last-child)::after {content: \"\\00b7\"; padding: 0 .5ex}\n",
       "</style>\n",
       "<ol class=list-inline><li>NA</li><li>'bad'</li><li>'good'</li></ol>\n"
      ],
      "text/latex": [
       "\\begin{enumerate*}\n",
       "\\item NA\n",
       "\\item 'bad'\n",
       "\\item 'good'\n",
       "\\end{enumerate*}\n"
      ],
      "text/markdown": [
       "1. NA\n",
       "2. 'bad'\n",
       "3. 'good'\n",
       "\n",
       "\n"
      ],
      "text/plain": [
       "[1] NA     \"bad\"  \"good\""
      ]
     },
     "metadata": {},
     "output_type": "display_data"
    }
   ],
   "source": [
    "unique(data$delta_ef_value_class_summarized)"
   ]
  },
  {
   "cell_type": "code",
   "execution_count": 140,
   "id": "f4c2bc3a-66d8-44b3-bc0b-b5e664bcaa26",
   "metadata": {},
   "outputs": [],
   "source": [
    "prediction_group = 'delta_ef_value_class_summarized'\n",
    "prediction_subset = c('good', 'bad')"
   ]
  },
  {
   "cell_type": "code",
   "execution_count": 141,
   "id": "f15123b5-5888-4246-973d-41026d0826d5",
   "metadata": {},
   "outputs": [],
   "source": [
    "prediction_data = data[,c(prediction_vars, prediction_group)]\n",
    "prediction_data$y = prediction_data[,prediction_group]\n",
    "prediction_data = prediction_data[prediction_data$y %in% prediction_subset,]\n",
    "\n",
    "prediction_data$y[prediction_data$y == prediction_subset[2]] = 1  # predict BAD outcome \n",
    "prediction_data$y[prediction_data$y == prediction_subset[1]] = 0  # good outcome as control"
   ]
  },
  {
   "cell_type": "code",
   "execution_count": 142,
   "id": "32cd9e4f-19f5-4709-a1bf-497de0395837",
   "metadata": {},
   "outputs": [
    {
     "name": "stderr",
     "output_type": "stream",
     "text": [
      "\u001b[1m\u001b[22m`summarise()` has grouped output by 'delta_ef_value_class_summarized'. You can\n",
      "override using the `.groups` argument.\n"
     ]
    },
    {
     "data": {
      "text/html": [
       "<table class=\"dataframe\">\n",
       "<caption>A grouped_df: 2 × 6</caption>\n",
       "<thead>\n",
       "\t<tr><th scope=col>delta_ef_value_class_summarized</th><th scope=col>y</th><th scope=col>Factor4</th><th scope=col>Normalized_CK</th><th scope=col>Normalized_CRP</th><th scope=col>Normalized_Troponin</th></tr>\n",
       "\t<tr><th scope=col>&lt;chr&gt;</th><th scope=col>&lt;chr&gt;</th><th scope=col>&lt;dbl&gt;</th><th scope=col>&lt;dbl&gt;</th><th scope=col>&lt;dbl&gt;</th><th scope=col>&lt;dbl&gt;</th></tr>\n",
       "</thead>\n",
       "<tbody>\n",
       "\t<tr><td>bad </td><td>1</td><td>-0.02044919</td><td>0.5371000</td><td>0.19100853</td><td>0.7732146</td></tr>\n",
       "\t<tr><td>good</td><td>0</td><td> 0.17349069</td><td>0.3310541</td><td>0.09417853</td><td>0.3364290</td></tr>\n",
       "</tbody>\n",
       "</table>\n"
      ],
      "text/latex": [
       "A grouped\\_df: 2 × 6\n",
       "\\begin{tabular}{llllll}\n",
       " delta\\_ef\\_value\\_class\\_summarized & y & Factor4 & Normalized\\_CK & Normalized\\_CRP & Normalized\\_Troponin\\\\\n",
       " <chr> & <chr> & <dbl> & <dbl> & <dbl> & <dbl>\\\\\n",
       "\\hline\n",
       "\t bad  & 1 & -0.02044919 & 0.5371000 & 0.19100853 & 0.7732146\\\\\n",
       "\t good & 0 &  0.17349069 & 0.3310541 & 0.09417853 & 0.3364290\\\\\n",
       "\\end{tabular}\n"
      ],
      "text/markdown": [
       "\n",
       "A grouped_df: 2 × 6\n",
       "\n",
       "| delta_ef_value_class_summarized &lt;chr&gt; | y &lt;chr&gt; | Factor4 &lt;dbl&gt; | Normalized_CK &lt;dbl&gt; | Normalized_CRP &lt;dbl&gt; | Normalized_Troponin &lt;dbl&gt; |\n",
       "|---|---|---|---|---|---|\n",
       "| bad  | 1 | -0.02044919 | 0.5371000 | 0.19100853 | 0.7732146 |\n",
       "| good | 0 |  0.17349069 | 0.3310541 | 0.09417853 | 0.3364290 |\n",
       "\n"
      ],
      "text/plain": [
       "  delta_ef_value_class_summarized y Factor4     Normalized_CK Normalized_CRP\n",
       "1 bad                             1 -0.02044919 0.5371000     0.19100853    \n",
       "2 good                            0  0.17349069 0.3310541     0.09417853    \n",
       "  Normalized_Troponin\n",
       "1 0.7732146          \n",
       "2 0.3364290          "
      ]
     },
     "metadata": {},
     "output_type": "display_data"
    }
   ],
   "source": [
    "## Check in which direction to adjust\n",
    "prediction_data %>% group_by(delta_ef_value_class_summarized,y) %>% summarise(across(everything(), mean, na.rm =TRUE))\n",
    "\n",
    "# predict bad --> higher values for bad"
   ]
  },
  {
   "cell_type": "code",
   "execution_count": 143,
   "id": "3993b2d2-f7ae-4375-aac3-6eadaffc6957",
   "metadata": {},
   "outputs": [],
   "source": [
    "# Adjust sign of Factor values\n",
    "prediction_data$Factor4 = -1*prediction_data$Factor4\n"
   ]
  },
  {
   "cell_type": "code",
   "execution_count": null,
   "id": "53e01402-22c5-4404-b1f6-c356c56447c9",
   "metadata": {},
   "outputs": [],
   "source": []
  },
  {
   "cell_type": "code",
   "execution_count": 144,
   "id": "76a1020f-b1f4-42f3-b663-a695c405996c",
   "metadata": {},
   "outputs": [],
   "source": [
    "# Transform and scale scores of prediction variables (to be between 0 and 1)"
   ]
  },
  {
   "cell_type": "code",
   "execution_count": 145,
   "id": "9cd13703-5146-493e-b6b6-879c30c7f01e",
   "metadata": {},
   "outputs": [],
   "source": [
    "prediction_data = cbind( prediction_data[,c('y', prediction_group)],\n",
    "      apply(prediction_data[,prediction_vars], MARGIN = 2, FUN = function(x){\n",
    "    (x - min(x, na.rm = TRUE)) / (max(x, na.rm = TRUE) - min(x, na.rm = TRUE))}))"
   ]
  },
  {
   "cell_type": "code",
   "execution_count": 146,
   "id": "9069b255-a1ea-4aab-a178-5743826942e5",
   "metadata": {},
   "outputs": [
    {
     "data": {
      "text/html": [
       "<table class=\"dataframe\">\n",
       "<caption>A data.frame: 5 × 6</caption>\n",
       "<thead>\n",
       "\t<tr><th></th><th scope=col>y</th><th scope=col>delta_ef_value_class_summarized</th><th scope=col>Factor4</th><th scope=col>Normalized_CK</th><th scope=col>Normalized_CRP</th><th scope=col>Normalized_Troponin</th></tr>\n",
       "\t<tr><th></th><th scope=col>&lt;chr&gt;</th><th scope=col>&lt;chr&gt;</th><th scope=col>&lt;dbl&gt;</th><th scope=col>&lt;dbl&gt;</th><th scope=col>&lt;dbl&gt;</th><th scope=col>&lt;dbl&gt;</th></tr>\n",
       "</thead>\n",
       "<tbody>\n",
       "\t<tr><th scope=row>36</th><td>1</td><td>bad</td><td>0.6916093</td><td>0.8399350</td><td>0.3821488</td><td>1.0000000</td></tr>\n",
       "\t<tr><th scope=row>37</th><td>1</td><td>bad</td><td>0.4479275</td><td>0.8646401</td><td>       NA</td><td>0.8174498</td></tr>\n",
       "\t<tr><th scope=row>38</th><td>1</td><td>bad</td><td>0.2174317</td><td>0.4937829</td><td>0.9173853</td><td>0.4926748</td></tr>\n",
       "\t<tr><th scope=row>45</th><td>1</td><td>bad</td><td>0.9155889</td><td>0.6250556</td><td>0.2941660</td><td>0.3199684</td></tr>\n",
       "\t<tr><th scope=row>46</th><td>1</td><td>bad</td><td>0.5782523</td><td>0.7430544</td><td>0.3445900</td><td>0.6701585</td></tr>\n",
       "</tbody>\n",
       "</table>\n"
      ],
      "text/latex": [
       "A data.frame: 5 × 6\n",
       "\\begin{tabular}{r|llllll}\n",
       "  & y & delta\\_ef\\_value\\_class\\_summarized & Factor4 & Normalized\\_CK & Normalized\\_CRP & Normalized\\_Troponin\\\\\n",
       "  & <chr> & <chr> & <dbl> & <dbl> & <dbl> & <dbl>\\\\\n",
       "\\hline\n",
       "\t36 & 1 & bad & 0.6916093 & 0.8399350 & 0.3821488 & 1.0000000\\\\\n",
       "\t37 & 1 & bad & 0.4479275 & 0.8646401 &        NA & 0.8174498\\\\\n",
       "\t38 & 1 & bad & 0.2174317 & 0.4937829 & 0.9173853 & 0.4926748\\\\\n",
       "\t45 & 1 & bad & 0.9155889 & 0.6250556 & 0.2941660 & 0.3199684\\\\\n",
       "\t46 & 1 & bad & 0.5782523 & 0.7430544 & 0.3445900 & 0.6701585\\\\\n",
       "\\end{tabular}\n"
      ],
      "text/markdown": [
       "\n",
       "A data.frame: 5 × 6\n",
       "\n",
       "| <!--/--> | y &lt;chr&gt; | delta_ef_value_class_summarized &lt;chr&gt; | Factor4 &lt;dbl&gt; | Normalized_CK &lt;dbl&gt; | Normalized_CRP &lt;dbl&gt; | Normalized_Troponin &lt;dbl&gt; |\n",
       "|---|---|---|---|---|---|---|\n",
       "| 36 | 1 | bad | 0.6916093 | 0.8399350 | 0.3821488 | 1.0000000 |\n",
       "| 37 | 1 | bad | 0.4479275 | 0.8646401 |        NA | 0.8174498 |\n",
       "| 38 | 1 | bad | 0.2174317 | 0.4937829 | 0.9173853 | 0.4926748 |\n",
       "| 45 | 1 | bad | 0.9155889 | 0.6250556 | 0.2941660 | 0.3199684 |\n",
       "| 46 | 1 | bad | 0.5782523 | 0.7430544 | 0.3445900 | 0.6701585 |\n",
       "\n"
      ],
      "text/plain": [
       "   y delta_ef_value_class_summarized Factor4   Normalized_CK Normalized_CRP\n",
       "36 1 bad                             0.6916093 0.8399350     0.3821488     \n",
       "37 1 bad                             0.4479275 0.8646401            NA     \n",
       "38 1 bad                             0.2174317 0.4937829     0.9173853     \n",
       "45 1 bad                             0.9155889 0.6250556     0.2941660     \n",
       "46 1 bad                             0.5782523 0.7430544     0.3445900     \n",
       "   Normalized_Troponin\n",
       "36 1.0000000          \n",
       "37 0.8174498          \n",
       "38 0.4926748          \n",
       "45 0.3199684          \n",
       "46 0.6701585          "
      ]
     },
     "metadata": {},
     "output_type": "display_data"
    }
   ],
   "source": [
    "head(prediction_data,5)"
   ]
  },
  {
   "cell_type": "code",
   "execution_count": 147,
   "id": "90d0f842-56a4-42a8-ad18-ffbe2486b737",
   "metadata": {},
   "outputs": [],
   "source": [
    "# Plot ROC curves (roc implementation DEPRECATED)"
   ]
  },
  {
   "cell_type": "code",
   "execution_count": 148,
   "id": "b71e09db-101d-43cb-9235-42960972fb71",
   "metadata": {},
   "outputs": [],
   "source": [
    "#roc_list = list()"
   ]
  },
  {
   "cell_type": "code",
   "execution_count": 149,
   "id": "144b630e-0814-4099-a329-e01b132d6eb0",
   "metadata": {},
   "outputs": [],
   "source": [
    "#for(i in prediction_vars){\n",
    "#    roc_list[[i]] = roc(prediction_data$y ~ \n",
    "#                        prediction_data[,i], plot = FALSE, print.auc = TRUE)\n",
    "#    }"
   ]
  },
  {
   "cell_type": "code",
   "execution_count": 150,
   "id": "904c6265-2c9a-4968-9d30-1bb0c48beb32",
   "metadata": {},
   "outputs": [],
   "source": [
    "#plot(roc_list[[2]])"
   ]
  },
  {
   "cell_type": "code",
   "execution_count": 151,
   "id": "3f226ad6-69d4-4185-8397-fdc7bff1fec4",
   "metadata": {},
   "outputs": [],
   "source": [
    "## Add all onto each other (ROC implementation)"
   ]
  },
  {
   "cell_type": "code",
   "execution_count": 152,
   "id": "e9078eaa-25b8-4644-857a-df5f612b807c",
   "metadata": {},
   "outputs": [],
   "source": [
    "#plot(roc_list[[1]], col = 1, lty = 2, main = \"ROC\")\n",
    "#for(i in 2:length(roc_list)){\n",
    "#    plot(roc_list[[i]], col = 4, lty = 3, add = TRUE)\n",
    "#    }\n",
    "    "
   ]
  },
  {
   "cell_type": "code",
   "execution_count": 153,
   "id": "02e0cd68-a731-4642-92bc-62e784c010bd",
   "metadata": {},
   "outputs": [],
   "source": [
    "## Alternative use GGPLOT IMPL"
   ]
  },
  {
   "cell_type": "code",
   "execution_count": 154,
   "id": "ba60693e-b1e6-4760-af87-57f17384b092",
   "metadata": {},
   "outputs": [
    {
     "name": "stderr",
     "output_type": "stream",
     "text": [
      "Using y, delta_ef_value_class_summarized as id variables\n",
      "\n"
     ]
    }
   ],
   "source": [
    "prediction_data_long = melt(prediction_data)"
   ]
  },
  {
   "cell_type": "code",
   "execution_count": 155,
   "id": "7367918b-c9d4-464c-a943-b6abb07c074b",
   "metadata": {},
   "outputs": [
    {
     "data": {
      "text/html": [
       "<table class=\"dataframe\">\n",
       "<caption>A data.frame: 2 × 4</caption>\n",
       "<thead>\n",
       "\t<tr><th></th><th scope=col>y</th><th scope=col>delta_ef_value_class_summarized</th><th scope=col>variable</th><th scope=col>value</th></tr>\n",
       "\t<tr><th></th><th scope=col>&lt;chr&gt;</th><th scope=col>&lt;chr&gt;</th><th scope=col>&lt;fct&gt;</th><th scope=col>&lt;dbl&gt;</th></tr>\n",
       "</thead>\n",
       "<tbody>\n",
       "\t<tr><th scope=row>1</th><td>1</td><td>bad</td><td>Factor4</td><td>0.6916093</td></tr>\n",
       "\t<tr><th scope=row>2</th><td>1</td><td>bad</td><td>Factor4</td><td>0.4479275</td></tr>\n",
       "</tbody>\n",
       "</table>\n"
      ],
      "text/latex": [
       "A data.frame: 2 × 4\n",
       "\\begin{tabular}{r|llll}\n",
       "  & y & delta\\_ef\\_value\\_class\\_summarized & variable & value\\\\\n",
       "  & <chr> & <chr> & <fct> & <dbl>\\\\\n",
       "\\hline\n",
       "\t1 & 1 & bad & Factor4 & 0.6916093\\\\\n",
       "\t2 & 1 & bad & Factor4 & 0.4479275\\\\\n",
       "\\end{tabular}\n"
      ],
      "text/markdown": [
       "\n",
       "A data.frame: 2 × 4\n",
       "\n",
       "| <!--/--> | y &lt;chr&gt; | delta_ef_value_class_summarized &lt;chr&gt; | variable &lt;fct&gt; | value &lt;dbl&gt; |\n",
       "|---|---|---|---|---|\n",
       "| 1 | 1 | bad | Factor4 | 0.6916093 |\n",
       "| 2 | 1 | bad | Factor4 | 0.4479275 |\n",
       "\n"
      ],
      "text/plain": [
       "  y delta_ef_value_class_summarized variable value    \n",
       "1 1 bad                             Factor4  0.6916093\n",
       "2 1 bad                             Factor4  0.4479275"
      ]
     },
     "metadata": {},
     "output_type": "display_data"
    }
   ],
   "source": [
    "head(prediction_data_long,2)"
   ]
  },
  {
   "cell_type": "code",
   "execution_count": 156,
   "id": "d34aed49-f791-4b8b-96d4-e0bb71577ed4",
   "metadata": {},
   "outputs": [],
   "source": [
    "prediction_data_long = prediction_data_long[!is.na(prediction_data_long$value),]"
   ]
  },
  {
   "cell_type": "code",
   "execution_count": 157,
   "id": "c33dc8da-82c9-4040-86b0-60bf14fd2fad",
   "metadata": {},
   "outputs": [],
   "source": [
    "# Figure Name\n",
    "figure_name = 'FIG7_E9_ROC_Factor4_GOOD_BAD'"
   ]
  },
  {
   "cell_type": "code",
   "execution_count": 158,
   "id": "6481882f-18dc-4cb1-84f3-25eaa4c5e372",
   "metadata": {},
   "outputs": [],
   "source": [
    "# Sizes of the plot\n",
    "width_par = 5\n",
    "height_par = 3"
   ]
  },
  {
   "cell_type": "code",
   "execution_count": 159,
   "id": "341ef94e-b9f2-4fbc-8d01-ec9446437aee",
   "metadata": {},
   "outputs": [],
   "source": [
    "xtitle = xlab( 'False Positive Fraction')\n",
    "ytitle  = ylab('Sensititity (True Positive Fraction)')"
   ]
  },
  {
   "cell_type": "code",
   "execution_count": 160,
   "id": "ed055c07-8491-4fc7-bfec-0d01a56dae74",
   "metadata": {},
   "outputs": [],
   "source": [
    "## Specify Plot\n",
    "rocplot = ggplot(prediction_data_long, aes(m = value, d = as.numeric(y), color = variable))+ geom_roc(n.cuts=0,labels=FALSE)"
   ]
  },
  {
   "cell_type": "code",
   "execution_count": 161,
   "id": "6397fac1-6075-4a98-b7b6-e461a9fd8717",
   "metadata": {},
   "outputs": [
    {
     "data": {
      "image/png": "[encoded data removed]",
      "text/plain": [
       "plot without title"
      ]
     },
     "metadata": {
      "image/png": {
       "height": 120,
       "width": 1800
      }
     },
     "output_type": "display_data"
    }
   ],
   "source": [
    "## Configuration + Modification of plot\n",
    "roc_plot = rocplot + \n",
    "    plot_config + \n",
    "    xtitle + \n",
    "    ytitle + \n",
    "    ggtitle('ROC curve good vs. bad') +\n",
    "    geom_abline(slope = 1, intercept = 0)\n",
    "\n",
    "roc_plot"
   ]
  },
  {
   "cell_type": "code",
   "execution_count": 162,
   "id": "e8fbade7-3b00-492d-9c39-f8b3a4ccecd0",
   "metadata": {},
   "outputs": [
    {
     "data": {
      "text/html": [
       "<strong>png:</strong> 2"
      ],
      "text/latex": [
       "\\textbf{png:} 2"
      ],
      "text/markdown": [
       "**png:** 2"
      ],
      "text/plain": [
       "png \n",
       "  2 "
      ]
     },
     "metadata": {},
     "output_type": "display_data"
    }
   ],
   "source": [
    "pdf(paste0('figures/Final_Figures/', figure_name, version, '.pdf'), width =width_par, height =height_par)\n",
    "print(roc_plot)\n",
    "dev.off()"
   ]
  },
  {
   "cell_type": "markdown",
   "id": "9cbc95aa-414a-4754-913d-f5ea3336f588",
   "metadata": {
    "tags": []
   },
   "source": [
    "# Prediction Factor 1 (ccs vs. no-ccs)"
   ]
  },
  {
   "cell_type": "code",
   "execution_count": 163,
   "id": "5ebcfc40-6a17-42f1-b0bb-9fb6cf036ca2",
   "metadata": {},
   "outputs": [],
   "source": [
    "prediction_vars = c('Factor1',  'score_prepared')"
   ]
  },
  {
   "cell_type": "code",
   "execution_count": 164,
   "id": "4a3f7b9d-6bd7-4efd-81eb-fb9edbea2157",
   "metadata": {},
   "outputs": [
    {
     "data": {
      "text/html": [
       "<style>\n",
       ".list-inline {list-style: none; margin:0; padding: 0}\n",
       ".list-inline>li {display: inline-block}\n",
       ".list-inline>li:not(:last-child)::after {content: \"\\00b7\"; padding: 0 .5ex}\n",
       "</style>\n",
       "<ol class=list-inline><li>'No CCS '</li><li>'CCS'</li><li>NA</li></ol>\n"
      ],
      "text/latex": [
       "\\begin{enumerate*}\n",
       "\\item 'No CCS '\n",
       "\\item 'CCS'\n",
       "\\item NA\n",
       "\\end{enumerate*}\n"
      ],
      "text/markdown": [
       "1. 'No CCS '\n",
       "2. 'CCS'\n",
       "3. NA\n",
       "\n",
       "\n"
      ],
      "text/plain": [
       "[1] \"No CCS \" \"CCS\"     NA       "
      ]
     },
     "metadata": {},
     "output_type": "display_data"
    }
   ],
   "source": [
    "unique(data$class)"
   ]
  },
  {
   "cell_type": "code",
   "execution_count": 165,
   "id": "1b1f35f6-60de-46ea-b697-a53c0067089a",
   "metadata": {},
   "outputs": [],
   "source": [
    "prediction_group = 'class'\n",
    "prediction_subset = c('No CCS ', 'CCS')"
   ]
  },
  {
   "cell_type": "code",
   "execution_count": 166,
   "id": "b83988be-1623-4226-82f0-63d79c01a476",
   "metadata": {},
   "outputs": [],
   "source": [
    "prediction_data = data[,c(prediction_vars, prediction_group)]\n",
    "prediction_data$y = prediction_data[,prediction_group]\n",
    "prediction_data = prediction_data[prediction_data$y %in% prediction_subset,]\n",
    "\n",
    "prediction_data$y[prediction_data$y == prediction_subset[2]] = 1  # predict CCS \n",
    "prediction_data$y[prediction_data$y == prediction_subset[1]] = 0  # no_ccs as control"
   ]
  },
  {
   "cell_type": "code",
   "execution_count": 167,
   "id": "026a63da-8be1-4ea5-aa03-94d379c7f552",
   "metadata": {},
   "outputs": [
    {
     "name": "stderr",
     "output_type": "stream",
     "text": [
      "\u001b[1m\u001b[22m`summarise()` has grouped output by 'class'. You can override using the\n",
      "`.groups` argument.\n"
     ]
    },
    {
     "data": {
      "text/html": [
       "<table class=\"dataframe\">\n",
       "<caption>A grouped_df: 2 × 4</caption>\n",
       "<thead>\n",
       "\t<tr><th scope=col>class</th><th scope=col>y</th><th scope=col>Factor1</th><th scope=col>score_prepared</th></tr>\n",
       "\t<tr><th scope=col>&lt;chr&gt;</th><th scope=col>&lt;chr&gt;</th><th scope=col>&lt;dbl&gt;</th><th scope=col>&lt;dbl&gt;</th></tr>\n",
       "</thead>\n",
       "<tbody>\n",
       "\t<tr><td>CCS    </td><td>1</td><td> 1.6432204</td><td>0.1122222</td></tr>\n",
       "\t<tr><td>No CCS </td><td>0</td><td>-0.1237963</td><td>0.0850000</td></tr>\n",
       "</tbody>\n",
       "</table>\n"
      ],
      "text/latex": [
       "A grouped\\_df: 2 × 4\n",
       "\\begin{tabular}{llll}\n",
       " class & y & Factor1 & score\\_prepared\\\\\n",
       " <chr> & <chr> & <dbl> & <dbl>\\\\\n",
       "\\hline\n",
       "\t CCS     & 1 &  1.6432204 & 0.1122222\\\\\n",
       "\t No CCS  & 0 & -0.1237963 & 0.0850000\\\\\n",
       "\\end{tabular}\n"
      ],
      "text/markdown": [
       "\n",
       "A grouped_df: 2 × 4\n",
       "\n",
       "| class &lt;chr&gt; | y &lt;chr&gt; | Factor1 &lt;dbl&gt; | score_prepared &lt;dbl&gt; |\n",
       "|---|---|---|---|\n",
       "| CCS     | 1 |  1.6432204 | 0.1122222 |\n",
       "| No CCS  | 0 | -0.1237963 | 0.0850000 |\n",
       "\n"
      ],
      "text/plain": [
       "  class   y Factor1    score_prepared\n",
       "1 CCS     1  1.6432204 0.1122222     \n",
       "2 No CCS  0 -0.1237963 0.0850000     "
      ]
     },
     "metadata": {},
     "output_type": "display_data"
    }
   ],
   "source": [
    "## Check in which direction to adjust\n",
    "prediction_data %>% group_by(class,y) %>% summarise(across(everything(), mean, na.rm =TRUE))\n",
    "\n",
    "# predict CCS --> higher values for CCS"
   ]
  },
  {
   "cell_type": "code",
   "execution_count": 168,
   "id": "d4f62c0d-170c-40fd-9ce5-57d090a6262e",
   "metadata": {},
   "outputs": [
    {
     "data": {
      "text/html": [
       "<table class=\"dataframe\">\n",
       "<caption>A grouped_df: 2 × 2</caption>\n",
       "<thead>\n",
       "\t<tr><th scope=col>class</th><th scope=col>n</th></tr>\n",
       "\t<tr><th scope=col>&lt;chr&gt;</th><th scope=col>&lt;int&gt;</th></tr>\n",
       "</thead>\n",
       "<tbody>\n",
       "\t<tr><td>CCS    </td><td>16</td></tr>\n",
       "\t<tr><td>No CCS </td><td>18</td></tr>\n",
       "</tbody>\n",
       "</table>\n"
      ],
      "text/latex": [
       "A grouped\\_df: 2 × 2\n",
       "\\begin{tabular}{ll}\n",
       " class & n\\\\\n",
       " <chr> & <int>\\\\\n",
       "\\hline\n",
       "\t CCS     & 16\\\\\n",
       "\t No CCS  & 18\\\\\n",
       "\\end{tabular}\n"
      ],
      "text/markdown": [
       "\n",
       "A grouped_df: 2 × 2\n",
       "\n",
       "| class &lt;chr&gt; | n &lt;int&gt; |\n",
       "|---|---|\n",
       "| CCS     | 16 |\n",
       "| No CCS  | 18 |\n",
       "\n"
      ],
      "text/plain": [
       "  class   n \n",
       "1 CCS     16\n",
       "2 No CCS  18"
      ]
     },
     "metadata": {},
     "output_type": "display_data"
    }
   ],
   "source": [
    "prediction_data %>% group_by(class) %>% count()"
   ]
  },
  {
   "cell_type": "code",
   "execution_count": 169,
   "id": "6802c3b9-6eb6-48ac-a4ac-d30d33dfd02b",
   "metadata": {},
   "outputs": [],
   "source": [
    "# Transform and scale scores of prediction variables (to be between 0 and 1)"
   ]
  },
  {
   "cell_type": "code",
   "execution_count": 170,
   "id": "f05dbe59-bd77-429f-8b25-7cca0cd4cd1d",
   "metadata": {},
   "outputs": [],
   "source": [
    "prediction_data = cbind( prediction_data[,c('y', prediction_group)],\n",
    "      apply(prediction_data[,prediction_vars], MARGIN = 2, FUN = function(x){\n",
    "    (x - min(x, na.rm = TRUE)) / (max(x, na.rm = TRUE) - min(x, na.rm = TRUE))}))"
   ]
  },
  {
   "cell_type": "code",
   "execution_count": 171,
   "id": "6e3c42a9-2228-43c0-9e31-6403e692b21a",
   "metadata": {},
   "outputs": [
    {
     "data": {
      "text/html": [
       "<table class=\"dataframe\">\n",
       "<caption>A data.frame: 5 × 4</caption>\n",
       "<thead>\n",
       "\t<tr><th></th><th scope=col>y</th><th scope=col>class</th><th scope=col>Factor1</th><th scope=col>score_prepared</th></tr>\n",
       "\t<tr><th></th><th scope=col>&lt;chr&gt;</th><th scope=col>&lt;chr&gt;</th><th scope=col>&lt;dbl&gt;</th><th scope=col>&lt;dbl&gt;</th></tr>\n",
       "</thead>\n",
       "<tbody>\n",
       "\t<tr><th scope=row>1</th><td>0</td><td>No CCS </td><td>0.4599296</td><td>0.0000000</td></tr>\n",
       "\t<tr><th scope=row>2</th><td>1</td><td>CCS    </td><td>0.5365739</td><td>0.4117647</td></tr>\n",
       "\t<tr><th scope=row>3</th><td>0</td><td>No CCS </td><td>0.1381699</td><td>0.1764706</td></tr>\n",
       "\t<tr><th scope=row>4</th><td>0</td><td>No CCS </td><td>0.0000000</td><td>       NA</td></tr>\n",
       "\t<tr><th scope=row>5</th><td>0</td><td>No CCS </td><td>0.3487220</td><td>0.1176471</td></tr>\n",
       "</tbody>\n",
       "</table>\n"
      ],
      "text/latex": [
       "A data.frame: 5 × 4\n",
       "\\begin{tabular}{r|llll}\n",
       "  & y & class & Factor1 & score\\_prepared\\\\\n",
       "  & <chr> & <chr> & <dbl> & <dbl>\\\\\n",
       "\\hline\n",
       "\t1 & 0 & No CCS  & 0.4599296 & 0.0000000\\\\\n",
       "\t2 & 1 & CCS     & 0.5365739 & 0.4117647\\\\\n",
       "\t3 & 0 & No CCS  & 0.1381699 & 0.1764706\\\\\n",
       "\t4 & 0 & No CCS  & 0.0000000 &        NA\\\\\n",
       "\t5 & 0 & No CCS  & 0.3487220 & 0.1176471\\\\\n",
       "\\end{tabular}\n"
      ],
      "text/markdown": [
       "\n",
       "A data.frame: 5 × 4\n",
       "\n",
       "| <!--/--> | y &lt;chr&gt; | class &lt;chr&gt; | Factor1 &lt;dbl&gt; | score_prepared &lt;dbl&gt; |\n",
       "|---|---|---|---|---|\n",
       "| 1 | 0 | No CCS  | 0.4599296 | 0.0000000 |\n",
       "| 2 | 1 | CCS     | 0.5365739 | 0.4117647 |\n",
       "| 3 | 0 | No CCS  | 0.1381699 | 0.1764706 |\n",
       "| 4 | 0 | No CCS  | 0.0000000 |        NA |\n",
       "| 5 | 0 | No CCS  | 0.3487220 | 0.1176471 |\n",
       "\n"
      ],
      "text/plain": [
       "  y class   Factor1   score_prepared\n",
       "1 0 No CCS  0.4599296 0.0000000     \n",
       "2 1 CCS     0.5365739 0.4117647     \n",
       "3 0 No CCS  0.1381699 0.1764706     \n",
       "4 0 No CCS  0.0000000        NA     \n",
       "5 0 No CCS  0.3487220 0.1176471     "
      ]
     },
     "metadata": {},
     "output_type": "display_data"
    }
   ],
   "source": [
    "head(prediction_data,5)"
   ]
  },
  {
   "cell_type": "code",
   "execution_count": 172,
   "id": "aa1539fa-7335-4530-86be-fcd491b352b6",
   "metadata": {},
   "outputs": [],
   "source": [
    "# Plot ROC curves (roc implementation DEPRECATED)"
   ]
  },
  {
   "cell_type": "code",
   "execution_count": 173,
   "id": "413a2c78-61ed-41ff-bc3b-fa293a164263",
   "metadata": {},
   "outputs": [],
   "source": [
    "#roc_list = list()"
   ]
  },
  {
   "cell_type": "code",
   "execution_count": 174,
   "id": "81b7b754-0feb-4fd2-82d8-1d57553b2ea5",
   "metadata": {},
   "outputs": [],
   "source": [
    "#for(i in prediction_vars){\n",
    "#    roc_list[[i]] = roc(prediction_data$y ~ \n",
    "#                        prediction_data[,i], plot = FALSE, print.auc = TRUE)\n",
    "#    }"
   ]
  },
  {
   "cell_type": "code",
   "execution_count": 175,
   "id": "cd7a3f2f-0e6d-46ed-8629-e34dfadc2732",
   "metadata": {},
   "outputs": [],
   "source": [
    "#plot(roc_list[[2]])"
   ]
  },
  {
   "cell_type": "code",
   "execution_count": 176,
   "id": "17fa99b9-3ffc-4dd0-a9c2-79896cb24cfa",
   "metadata": {},
   "outputs": [],
   "source": [
    "## Add all onto each other (ROC implementation)"
   ]
  },
  {
   "cell_type": "code",
   "execution_count": 177,
   "id": "85b2897c-7676-423a-8969-75ace5ec4f27",
   "metadata": {},
   "outputs": [],
   "source": [
    "#plot(roc_list[[1]], col = 1, lty = 2, main = \"ROC\")\n",
    "#for(i in 2:length(roc_list)){\n",
    "#    plot(roc_list[[i]], col = 4, lty = 3, add = TRUE)\n",
    "#    }\n",
    "    "
   ]
  },
  {
   "cell_type": "code",
   "execution_count": 178,
   "id": "d7ee88d0-f967-4007-8a0c-ac5d1f0537ce",
   "metadata": {},
   "outputs": [],
   "source": [
    "## Alternative use GGPLOT IMPL"
   ]
  },
  {
   "cell_type": "code",
   "execution_count": 179,
   "id": "5960e250-23ca-4e72-949c-c4cc03c87437",
   "metadata": {},
   "outputs": [
    {
     "name": "stderr",
     "output_type": "stream",
     "text": [
      "Using y, class as id variables\n",
      "\n"
     ]
    }
   ],
   "source": [
    "prediction_data_long = melt(prediction_data)"
   ]
  },
  {
   "cell_type": "code",
   "execution_count": 180,
   "id": "8242a67c-2f20-4f43-b015-5e4d73645dea",
   "metadata": {},
   "outputs": [
    {
     "data": {
      "text/html": [
       "<table class=\"dataframe\">\n",
       "<caption>A data.frame: 2 × 4</caption>\n",
       "<thead>\n",
       "\t<tr><th></th><th scope=col>y</th><th scope=col>class</th><th scope=col>variable</th><th scope=col>value</th></tr>\n",
       "\t<tr><th></th><th scope=col>&lt;chr&gt;</th><th scope=col>&lt;chr&gt;</th><th scope=col>&lt;fct&gt;</th><th scope=col>&lt;dbl&gt;</th></tr>\n",
       "</thead>\n",
       "<tbody>\n",
       "\t<tr><th scope=row>1</th><td>0</td><td>No CCS </td><td>Factor1</td><td>0.4599296</td></tr>\n",
       "\t<tr><th scope=row>2</th><td>1</td><td>CCS    </td><td>Factor1</td><td>0.5365739</td></tr>\n",
       "</tbody>\n",
       "</table>\n"
      ],
      "text/latex": [
       "A data.frame: 2 × 4\n",
       "\\begin{tabular}{r|llll}\n",
       "  & y & class & variable & value\\\\\n",
       "  & <chr> & <chr> & <fct> & <dbl>\\\\\n",
       "\\hline\n",
       "\t1 & 0 & No CCS  & Factor1 & 0.4599296\\\\\n",
       "\t2 & 1 & CCS     & Factor1 & 0.5365739\\\\\n",
       "\\end{tabular}\n"
      ],
      "text/markdown": [
       "\n",
       "A data.frame: 2 × 4\n",
       "\n",
       "| <!--/--> | y &lt;chr&gt; | class &lt;chr&gt; | variable &lt;fct&gt; | value &lt;dbl&gt; |\n",
       "|---|---|---|---|---|\n",
       "| 1 | 0 | No CCS  | Factor1 | 0.4599296 |\n",
       "| 2 | 1 | CCS     | Factor1 | 0.5365739 |\n",
       "\n"
      ],
      "text/plain": [
       "  y class   variable value    \n",
       "1 0 No CCS  Factor1  0.4599296\n",
       "2 1 CCS     Factor1  0.5365739"
      ]
     },
     "metadata": {},
     "output_type": "display_data"
    }
   ],
   "source": [
    "head(prediction_data_long,2)"
   ]
  },
  {
   "cell_type": "code",
   "execution_count": 181,
   "id": "a47fe1aa-7c4b-43e1-82f4-80a5935fd496",
   "metadata": {},
   "outputs": [],
   "source": [
    "prediction_data_long = prediction_data_long[!is.na(prediction_data_long$value),]"
   ]
  },
  {
   "cell_type": "code",
   "execution_count": 182,
   "id": "c2c917ea-0879-4dcd-a853-300246acabd8",
   "metadata": {},
   "outputs": [],
   "source": [
    "# Figure Name\n",
    "figure_name = 'FIG7_E9_ROC_Factor1_CCS_NO_CCS'"
   ]
  },
  {
   "cell_type": "code",
   "execution_count": 183,
   "id": "405da709-a10b-43f2-befa-a7dba466844d",
   "metadata": {},
   "outputs": [],
   "source": [
    "# Sizes of the plot\n",
    "width_par = 5\n",
    "height_par = 3"
   ]
  },
  {
   "cell_type": "code",
   "execution_count": 184,
   "id": "80ab2256-94c0-4575-bf50-1d7007a1d4ac",
   "metadata": {},
   "outputs": [],
   "source": [
    "xtitle = xlab( 'False Positive Fraction')\n",
    "ytitle  = ylab('Sensititity (True Positive Fraction)')"
   ]
  },
  {
   "cell_type": "code",
   "execution_count": 185,
   "id": "9ac38733-8b57-42eb-bfba-02a8272d3428",
   "metadata": {},
   "outputs": [],
   "source": [
    "## Specify Plot\n",
    "rocplot = ggplot(prediction_data_long, aes(m = value, d = as.numeric(y), color = variable))+ geom_roc(n.cuts=0,labels=FALSE)"
   ]
  },
  {
   "cell_type": "code",
   "execution_count": 186,
   "id": "458c25ce-2aad-456f-918e-01f7a2c99996",
   "metadata": {},
   "outputs": [
    {
     "data": {
      "image/png": "[encoded data removed]",
      "text/plain": [
       "plot without title"
      ]
     },
     "metadata": {
      "image/png": {
       "height": 120,
       "width": 1800
      }
     },
     "output_type": "display_data"
    }
   ],
   "source": [
    "## Configuration + Modification of plot\n",
    "roc_plot = rocplot + \n",
    "    plot_config + \n",
    "    xtitle + \n",
    "    ytitle + \n",
    "    ggtitle('ROC curve ccs vs. no-ccs') +\n",
    "    geom_abline(slope = 1, intercept = 0)\n",
    "\n",
    "roc_plot"
   ]
  },
  {
   "cell_type": "code",
   "execution_count": 187,
   "id": "be22513d-5be8-444c-adcc-be93e7c6b7fb",
   "metadata": {},
   "outputs": [
    {
     "data": {
      "text/html": [
       "<strong>png:</strong> 2"
      ],
      "text/latex": [
       "\\textbf{png:} 2"
      ],
      "text/markdown": [
       "**png:** 2"
      ],
      "text/plain": [
       "png \n",
       "  2 "
      ]
     },
     "metadata": {},
     "output_type": "display_data"
    }
   ],
   "source": [
    "pdf(paste0('figures/Final_Figures/', figure_name, version, '.pdf'), width =width_par, height =height_par)\n",
    "print(roc_plot)\n",
    "dev.off()"
   ]
  },
  {
   "cell_type": "code",
   "execution_count": 188,
   "id": "b6667a7c-6572-4481-b7a9-d898e0e40757",
   "metadata": {},
   "outputs": [],
   "source": [
    "prediction_data_long_ccs = prediction_data_long"
   ]
  },
  {
   "cell_type": "markdown",
   "id": "54248291-cc3d-43c2-be5a-bf6b00007883",
   "metadata": {
    "tags": []
   },
   "source": [
    "# Prediction Factor 1 (ccs vs. vollstaendiger_ausschluss)"
   ]
  },
  {
   "cell_type": "code",
   "execution_count": 189,
   "id": "2e27a3b8-4160-41ce-9f7e-129648076375",
   "metadata": {},
   "outputs": [],
   "source": [
    "prediction_vars = c('Factor1',  'score_prepared')"
   ]
  },
  {
   "cell_type": "code",
   "execution_count": 190,
   "id": "c6bcc425-690f-4d18-b0aa-c19de27887f5",
   "metadata": {},
   "outputs": [
    {
     "data": {
      "text/html": [
       "<style>\n",
       ".list-inline {list-style: none; margin:0; padding: 0}\n",
       ".list-inline>li {display: inline-block}\n",
       ".list-inline>li:not(:last-child)::after {content: \"\\00b7\"; padding: 0 .5ex}\n",
       "</style>\n",
       "<ol class=list-inline><li>'vollstaendiger_ausschluss'</li><li>'ccs'</li><li>'koronarsklerose'</li><li>'acs_subacute'</li><li>'acs_w_infection'</li><li>'acs_w_o_infection'</li></ol>\n"
      ],
      "text/latex": [
       "\\begin{enumerate*}\n",
       "\\item 'vollstaendiger\\_ausschluss'\n",
       "\\item 'ccs'\n",
       "\\item 'koronarsklerose'\n",
       "\\item 'acs\\_subacute'\n",
       "\\item 'acs\\_w\\_infection'\n",
       "\\item 'acs\\_w\\_o\\_infection'\n",
       "\\end{enumerate*}\n"
      ],
      "text/markdown": [
       "1. 'vollstaendiger_ausschluss'\n",
       "2. 'ccs'\n",
       "3. 'koronarsklerose'\n",
       "4. 'acs_subacute'\n",
       "5. 'acs_w_infection'\n",
       "6. 'acs_w_o_infection'\n",
       "\n",
       "\n"
      ],
      "text/plain": [
       "[1] \"vollstaendiger_ausschluss\" \"ccs\"                      \n",
       "[3] \"koronarsklerose\"           \"acs_subacute\"             \n",
       "[5] \"acs_w_infection\"           \"acs_w_o_infection\"        "
      ]
     },
     "metadata": {},
     "output_type": "display_data"
    }
   ],
   "source": [
    "unique(data$classification)"
   ]
  },
  {
   "cell_type": "code",
   "execution_count": 191,
   "id": "3d7a6b4e-fbce-4855-b6d5-0242b46fdcf7",
   "metadata": {},
   "outputs": [],
   "source": [
    "prediction_group = 'classification'\n",
    "prediction_subset = c('vollstaendiger_ausschluss', 'ccs')"
   ]
  },
  {
   "cell_type": "code",
   "execution_count": 192,
   "id": "76992223-425c-4904-9c56-592a71e289d1",
   "metadata": {},
   "outputs": [],
   "source": [
    "prediction_data = data[,c(prediction_vars, prediction_group)]\n",
    "prediction_data$y = prediction_data[,prediction_group]\n",
    "prediction_data = prediction_data[prediction_data$y %in% prediction_subset,]\n",
    "\n",
    "prediction_data$y[prediction_data$y == prediction_subset[2]] = 1  # predict CCS \n",
    "prediction_data$y[prediction_data$y == prediction_subset[1]] = 0  # no_ccs as control"
   ]
  },
  {
   "cell_type": "code",
   "execution_count": 193,
   "id": "00102300-ad48-4cbb-8bb2-c685f7ebea8f",
   "metadata": {},
   "outputs": [
    {
     "name": "stderr",
     "output_type": "stream",
     "text": [
      "\u001b[1m\u001b[22m`summarise()` has grouped output by 'classification'. You can override using\n",
      "the `.groups` argument.\n"
     ]
    },
    {
     "data": {
      "text/html": [
       "<table class=\"dataframe\">\n",
       "<caption>A grouped_df: 2 × 4</caption>\n",
       "<thead>\n",
       "\t<tr><th scope=col>classification</th><th scope=col>y</th><th scope=col>Factor1</th><th scope=col>score_prepared</th></tr>\n",
       "\t<tr><th scope=col>&lt;chr&gt;</th><th scope=col>&lt;chr&gt;</th><th scope=col>&lt;dbl&gt;</th><th scope=col>&lt;dbl&gt;</th></tr>\n",
       "</thead>\n",
       "<tbody>\n",
       "\t<tr><td>ccs                      </td><td>1</td><td> 1.6432204</td><td>0.11222222</td></tr>\n",
       "\t<tr><td>vollstaendiger_ausschluss</td><td>0</td><td>-0.9193743</td><td>0.05714286</td></tr>\n",
       "</tbody>\n",
       "</table>\n"
      ],
      "text/latex": [
       "A grouped\\_df: 2 × 4\n",
       "\\begin{tabular}{llll}\n",
       " classification & y & Factor1 & score\\_prepared\\\\\n",
       " <chr> & <chr> & <dbl> & <dbl>\\\\\n",
       "\\hline\n",
       "\t ccs                       & 1 &  1.6432204 & 0.11222222\\\\\n",
       "\t vollstaendiger\\_ausschluss & 0 & -0.9193743 & 0.05714286\\\\\n",
       "\\end{tabular}\n"
      ],
      "text/markdown": [
       "\n",
       "A grouped_df: 2 × 4\n",
       "\n",
       "| classification &lt;chr&gt; | y &lt;chr&gt; | Factor1 &lt;dbl&gt; | score_prepared &lt;dbl&gt; |\n",
       "|---|---|---|---|\n",
       "| ccs                       | 1 |  1.6432204 | 0.11222222 |\n",
       "| vollstaendiger_ausschluss | 0 | -0.9193743 | 0.05714286 |\n",
       "\n"
      ],
      "text/plain": [
       "  classification            y Factor1    score_prepared\n",
       "1 ccs                       1  1.6432204 0.11222222    \n",
       "2 vollstaendiger_ausschluss 0 -0.9193743 0.05714286    "
      ]
     },
     "metadata": {},
     "output_type": "display_data"
    }
   ],
   "source": [
    "## Check in which direction to adjust\n",
    "prediction_data %>% group_by(classification,y) %>% summarise(across(everything(), mean, na.rm =TRUE))\n",
    "\n",
    "# predict CCS --> higher values for CCS"
   ]
  },
  {
   "cell_type": "code",
   "execution_count": null,
   "id": "7e810536-de7f-4327-a1ae-dc340256fd10",
   "metadata": {},
   "outputs": [],
   "source": []
  },
  {
   "cell_type": "code",
   "execution_count": 194,
   "id": "67e62bd8-19fa-4b72-9a48-86710f51b7e4",
   "metadata": {},
   "outputs": [],
   "source": [
    "# Transform and scale scores of prediction variables (to be between 0 and 1)"
   ]
  },
  {
   "cell_type": "code",
   "execution_count": 195,
   "id": "9331ff5a-b04b-4fb5-ac8e-831466b16f84",
   "metadata": {},
   "outputs": [],
   "source": [
    "prediction_data = cbind( prediction_data[,c('y', prediction_group)],\n",
    "      apply(prediction_data[,prediction_vars], MARGIN = 2, FUN = function(x){\n",
    "    (x - min(x, na.rm = TRUE)) / (max(x, na.rm = TRUE) - min(x, na.rm = TRUE))}))"
   ]
  },
  {
   "cell_type": "code",
   "execution_count": 196,
   "id": "27c02fdc-75bf-4f6a-bfee-a56b61c1660c",
   "metadata": {},
   "outputs": [
    {
     "data": {
      "text/html": [
       "<table class=\"dataframe\">\n",
       "<caption>A data.frame: 5 × 4</caption>\n",
       "<thead>\n",
       "\t<tr><th></th><th scope=col>y</th><th scope=col>classification</th><th scope=col>Factor1</th><th scope=col>score_prepared</th></tr>\n",
       "\t<tr><th></th><th scope=col>&lt;chr&gt;</th><th scope=col>&lt;chr&gt;</th><th scope=col>&lt;dbl&gt;</th><th scope=col>&lt;dbl&gt;</th></tr>\n",
       "</thead>\n",
       "<tbody>\n",
       "\t<tr><th scope=row>1</th><td>0</td><td>vollstaendiger_ausschluss</td><td>0.4599296</td><td>0.0000000</td></tr>\n",
       "\t<tr><th scope=row>2</th><td>1</td><td>ccs                      </td><td>0.5365739</td><td>0.4117647</td></tr>\n",
       "\t<tr><th scope=row>3</th><td>0</td><td>vollstaendiger_ausschluss</td><td>0.1381699</td><td>0.1764706</td></tr>\n",
       "\t<tr><th scope=row>4</th><td>0</td><td>vollstaendiger_ausschluss</td><td>0.0000000</td><td>       NA</td></tr>\n",
       "\t<tr><th scope=row>5</th><td>0</td><td>vollstaendiger_ausschluss</td><td>0.3487220</td><td>0.1176471</td></tr>\n",
       "</tbody>\n",
       "</table>\n"
      ],
      "text/latex": [
       "A data.frame: 5 × 4\n",
       "\\begin{tabular}{r|llll}\n",
       "  & y & classification & Factor1 & score\\_prepared\\\\\n",
       "  & <chr> & <chr> & <dbl> & <dbl>\\\\\n",
       "\\hline\n",
       "\t1 & 0 & vollstaendiger\\_ausschluss & 0.4599296 & 0.0000000\\\\\n",
       "\t2 & 1 & ccs                       & 0.5365739 & 0.4117647\\\\\n",
       "\t3 & 0 & vollstaendiger\\_ausschluss & 0.1381699 & 0.1764706\\\\\n",
       "\t4 & 0 & vollstaendiger\\_ausschluss & 0.0000000 &        NA\\\\\n",
       "\t5 & 0 & vollstaendiger\\_ausschluss & 0.3487220 & 0.1176471\\\\\n",
       "\\end{tabular}\n"
      ],
      "text/markdown": [
       "\n",
       "A data.frame: 5 × 4\n",
       "\n",
       "| <!--/--> | y &lt;chr&gt; | classification &lt;chr&gt; | Factor1 &lt;dbl&gt; | score_prepared &lt;dbl&gt; |\n",
       "|---|---|---|---|---|\n",
       "| 1 | 0 | vollstaendiger_ausschluss | 0.4599296 | 0.0000000 |\n",
       "| 2 | 1 | ccs                       | 0.5365739 | 0.4117647 |\n",
       "| 3 | 0 | vollstaendiger_ausschluss | 0.1381699 | 0.1764706 |\n",
       "| 4 | 0 | vollstaendiger_ausschluss | 0.0000000 |        NA |\n",
       "| 5 | 0 | vollstaendiger_ausschluss | 0.3487220 | 0.1176471 |\n",
       "\n"
      ],
      "text/plain": [
       "  y classification            Factor1   score_prepared\n",
       "1 0 vollstaendiger_ausschluss 0.4599296 0.0000000     \n",
       "2 1 ccs                       0.5365739 0.4117647     \n",
       "3 0 vollstaendiger_ausschluss 0.1381699 0.1764706     \n",
       "4 0 vollstaendiger_ausschluss 0.0000000        NA     \n",
       "5 0 vollstaendiger_ausschluss 0.3487220 0.1176471     "
      ]
     },
     "metadata": {},
     "output_type": "display_data"
    }
   ],
   "source": [
    "head(prediction_data,5)"
   ]
  },
  {
   "cell_type": "code",
   "execution_count": 197,
   "id": "24089d9b-69cd-41d2-af60-30a45f498185",
   "metadata": {},
   "outputs": [
    {
     "data": {
      "text/html": [
       "<table class=\"dataframe\">\n",
       "<caption>A grouped_df: 2 × 2</caption>\n",
       "<thead>\n",
       "\t<tr><th scope=col>classification</th><th scope=col>n</th></tr>\n",
       "\t<tr><th scope=col>&lt;chr&gt;</th><th scope=col>&lt;int&gt;</th></tr>\n",
       "</thead>\n",
       "<tbody>\n",
       "\t<tr><td>ccs                      </td><td>16</td></tr>\n",
       "\t<tr><td>vollstaendiger_ausschluss</td><td>11</td></tr>\n",
       "</tbody>\n",
       "</table>\n"
      ],
      "text/latex": [
       "A grouped\\_df: 2 × 2\n",
       "\\begin{tabular}{ll}\n",
       " classification & n\\\\\n",
       " <chr> & <int>\\\\\n",
       "\\hline\n",
       "\t ccs                       & 16\\\\\n",
       "\t vollstaendiger\\_ausschluss & 11\\\\\n",
       "\\end{tabular}\n"
      ],
      "text/markdown": [
       "\n",
       "A grouped_df: 2 × 2\n",
       "\n",
       "| classification &lt;chr&gt; | n &lt;int&gt; |\n",
       "|---|---|\n",
       "| ccs                       | 16 |\n",
       "| vollstaendiger_ausschluss | 11 |\n",
       "\n"
      ],
      "text/plain": [
       "  classification            n \n",
       "1 ccs                       16\n",
       "2 vollstaendiger_ausschluss 11"
      ]
     },
     "metadata": {},
     "output_type": "display_data"
    }
   ],
   "source": [
    "prediction_data %>% group_by(classification) %>% count()"
   ]
  },
  {
   "cell_type": "code",
   "execution_count": 198,
   "id": "7fea015c-d45b-4e67-bf6d-300db2bf7199",
   "metadata": {},
   "outputs": [],
   "source": [
    "# Plot ROC curves (roc implementation DEPRECATED)"
   ]
  },
  {
   "cell_type": "code",
   "execution_count": 199,
   "id": "238a500c-7422-419d-8787-d36d410045cc",
   "metadata": {},
   "outputs": [],
   "source": [
    "#roc_list = list()"
   ]
  },
  {
   "cell_type": "code",
   "execution_count": 200,
   "id": "6e429783-7478-4246-afcf-b05a5c862e0e",
   "metadata": {},
   "outputs": [],
   "source": [
    "#for(i in prediction_vars){\n",
    "#    roc_list[[i]] = roc(prediction_data$y ~ \n",
    "#                        prediction_data[,i], plot = FALSE, print.auc = TRUE)\n",
    "#    }"
   ]
  },
  {
   "cell_type": "code",
   "execution_count": 201,
   "id": "3511b499-460c-40de-985d-29126410fee7",
   "metadata": {},
   "outputs": [],
   "source": [
    "#plot(roc_list[[2]])"
   ]
  },
  {
   "cell_type": "code",
   "execution_count": 202,
   "id": "7f810584-7b3c-4762-a42a-f1251181ee42",
   "metadata": {},
   "outputs": [],
   "source": [
    "## Add all onto each other (ROC implementation)"
   ]
  },
  {
   "cell_type": "code",
   "execution_count": 203,
   "id": "96145303-dda6-44bf-ab3a-5719e83d1489",
   "metadata": {},
   "outputs": [],
   "source": [
    "#plot(roc_list[[1]], col = 1, lty = 2, main = \"ROC\")\n",
    "#for(i in 2:length(roc_list)){\n",
    "#    plot(roc_list[[i]], col = 4, lty = 3, add = TRUE)\n",
    "#    }\n",
    "    "
   ]
  },
  {
   "cell_type": "code",
   "execution_count": 204,
   "id": "4ae5c20b-032f-41e4-b822-ad74897d8823",
   "metadata": {},
   "outputs": [],
   "source": [
    "## Alternative use GGPLOT IMPL"
   ]
  },
  {
   "cell_type": "code",
   "execution_count": 205,
   "id": "dfb38786-0732-416d-83a1-29eda6a5116a",
   "metadata": {},
   "outputs": [
    {
     "name": "stderr",
     "output_type": "stream",
     "text": [
      "Using y, classification as id variables\n",
      "\n"
     ]
    }
   ],
   "source": [
    "prediction_data_long = melt(prediction_data)"
   ]
  },
  {
   "cell_type": "code",
   "execution_count": 206,
   "id": "a3c4c586-37ee-41d6-a2cc-15796ed96004",
   "metadata": {},
   "outputs": [
    {
     "data": {
      "text/html": [
       "<table class=\"dataframe\">\n",
       "<caption>A data.frame: 2 × 4</caption>\n",
       "<thead>\n",
       "\t<tr><th></th><th scope=col>y</th><th scope=col>classification</th><th scope=col>variable</th><th scope=col>value</th></tr>\n",
       "\t<tr><th></th><th scope=col>&lt;chr&gt;</th><th scope=col>&lt;chr&gt;</th><th scope=col>&lt;fct&gt;</th><th scope=col>&lt;dbl&gt;</th></tr>\n",
       "</thead>\n",
       "<tbody>\n",
       "\t<tr><th scope=row>1</th><td>0</td><td>vollstaendiger_ausschluss</td><td>Factor1</td><td>0.4599296</td></tr>\n",
       "\t<tr><th scope=row>2</th><td>1</td><td>ccs                      </td><td>Factor1</td><td>0.5365739</td></tr>\n",
       "</tbody>\n",
       "</table>\n"
      ],
      "text/latex": [
       "A data.frame: 2 × 4\n",
       "\\begin{tabular}{r|llll}\n",
       "  & y & classification & variable & value\\\\\n",
       "  & <chr> & <chr> & <fct> & <dbl>\\\\\n",
       "\\hline\n",
       "\t1 & 0 & vollstaendiger\\_ausschluss & Factor1 & 0.4599296\\\\\n",
       "\t2 & 1 & ccs                       & Factor1 & 0.5365739\\\\\n",
       "\\end{tabular}\n"
      ],
      "text/markdown": [
       "\n",
       "A data.frame: 2 × 4\n",
       "\n",
       "| <!--/--> | y &lt;chr&gt; | classification &lt;chr&gt; | variable &lt;fct&gt; | value &lt;dbl&gt; |\n",
       "|---|---|---|---|---|\n",
       "| 1 | 0 | vollstaendiger_ausschluss | Factor1 | 0.4599296 |\n",
       "| 2 | 1 | ccs                       | Factor1 | 0.5365739 |\n",
       "\n"
      ],
      "text/plain": [
       "  y classification            variable value    \n",
       "1 0 vollstaendiger_ausschluss Factor1  0.4599296\n",
       "2 1 ccs                       Factor1  0.5365739"
      ]
     },
     "metadata": {},
     "output_type": "display_data"
    }
   ],
   "source": [
    "head(prediction_data_long,2)"
   ]
  },
  {
   "cell_type": "code",
   "execution_count": 207,
   "id": "a0d9fa89-ae4b-414e-bf94-0a6e4563b863",
   "metadata": {},
   "outputs": [],
   "source": [
    "prediction_data_long = prediction_data_long[!is.na(prediction_data_long$value),]"
   ]
  },
  {
   "cell_type": "code",
   "execution_count": 208,
   "id": "1a1664c7-e1f6-48e8-b0cd-cde7dee08fea",
   "metadata": {},
   "outputs": [],
   "source": [
    "# Figure Name\n",
    "figure_name = 'FIG7_E9_ROC_Factor1_CCS_Ausschluss'"
   ]
  },
  {
   "cell_type": "code",
   "execution_count": 209,
   "id": "596a2cb9-7180-4719-ac03-9a125cf63481",
   "metadata": {},
   "outputs": [],
   "source": [
    "# Sizes of the plot\n",
    "width_par = 5\n",
    "height_par = 3"
   ]
  },
  {
   "cell_type": "code",
   "execution_count": 210,
   "id": "e8b9ec7c-b66e-41c6-8c18-41b66c368ff4",
   "metadata": {},
   "outputs": [],
   "source": [
    "xtitle = xlab( 'False Positive Fraction')\n",
    "ytitle  = ylab('Sensititity (True Positive Fraction)')"
   ]
  },
  {
   "cell_type": "code",
   "execution_count": 211,
   "id": "46ac7f91-170b-4359-991f-b27f1726687b",
   "metadata": {},
   "outputs": [],
   "source": [
    "## Specify Plot\n",
    "rocplot = ggplot(prediction_data_long, aes(m = value, d = as.numeric(y), color = variable))+ geom_roc(n.cuts=0,labels=FALSE)"
   ]
  },
  {
   "cell_type": "code",
   "execution_count": 212,
   "id": "f70baefb-8bdf-416c-8b77-c946a907f7ba",
   "metadata": {},
   "outputs": [
    {
     "data": {
      "image/png": "[encoded data removed]",
      "text/plain": [
       "plot without title"
      ]
     },
     "metadata": {
      "image/png": {
       "height": 120,
       "width": 1800
      }
     },
     "output_type": "display_data"
    }
   ],
   "source": [
    "## Configuration + Modification of plot\n",
    "roc_plot = rocplot + \n",
    "    plot_config + \n",
    "    xtitle + \n",
    "    ytitle + \n",
    "    ggtitle('ROC curve ccs vs. vollständiger ausschluss') +\n",
    "    geom_abline(slope = 1, intercept = 0)\n",
    "\n",
    "roc_plot"
   ]
  },
  {
   "cell_type": "code",
   "execution_count": 213,
   "id": "f51e1575-1f3c-4f4c-ba24-4a2c32e9e287",
   "metadata": {},
   "outputs": [
    {
     "data": {
      "text/html": [
       "<strong>png:</strong> 2"
      ],
      "text/latex": [
       "\\textbf{png:} 2"
      ],
      "text/markdown": [
       "**png:** 2"
      ],
      "text/plain": [
       "png \n",
       "  2 "
      ]
     },
     "metadata": {},
     "output_type": "display_data"
    }
   ],
   "source": [
    "pdf(paste0('figures/Final_Figures/', figure_name, version, '.pdf'), width =width_par, height =height_par)\n",
    "print(roc_plot)\n",
    "dev.off()"
   ]
  },
  {
   "cell_type": "code",
   "execution_count": 214,
   "id": "c0af8619-ff9d-49e9-a433-5c583788910a",
   "metadata": {},
   "outputs": [],
   "source": [
    "prediction_data_ausschluss = prediction_data_long"
   ]
  },
  {
   "cell_type": "markdown",
   "id": "3d45f247-1b60-4411-905c-a300901fa2fb",
   "metadata": {},
   "source": [
    "# Combine ccs and vollstaendiger ausschluss"
   ]
  },
  {
   "cell_type": "code",
   "execution_count": 215,
   "id": "82730465-d87e-4c1f-bd30-db80e646eda7",
   "metadata": {},
   "outputs": [],
   "source": [
    "prediction_data_long_ccs$variable = str_replace(prediction_data_long_ccs$variable, 'score_prepared', 'Score')\n",
    "colnames(prediction_data_long_ccs) = c('y', 'classification', 'variable', 'value')"
   ]
  },
  {
   "cell_type": "code",
   "execution_count": 216,
   "id": "6ef927a6-2a0a-4f71-aebc-5a02d6dfa635",
   "metadata": {},
   "outputs": [
    {
     "data": {
      "text/html": [
       "<table class=\"dataframe\">\n",
       "<caption>A data.frame: 2 × 4</caption>\n",
       "<thead>\n",
       "\t<tr><th></th><th scope=col>y</th><th scope=col>classification</th><th scope=col>variable</th><th scope=col>value</th></tr>\n",
       "\t<tr><th></th><th scope=col>&lt;chr&gt;</th><th scope=col>&lt;chr&gt;</th><th scope=col>&lt;chr&gt;</th><th scope=col>&lt;dbl&gt;</th></tr>\n",
       "</thead>\n",
       "<tbody>\n",
       "\t<tr><th scope=row>1</th><td>0</td><td>No CCS </td><td>Factor1</td><td>0.4599296</td></tr>\n",
       "\t<tr><th scope=row>2</th><td>1</td><td>CCS    </td><td>Factor1</td><td>0.5365739</td></tr>\n",
       "</tbody>\n",
       "</table>\n"
      ],
      "text/latex": [
       "A data.frame: 2 × 4\n",
       "\\begin{tabular}{r|llll}\n",
       "  & y & classification & variable & value\\\\\n",
       "  & <chr> & <chr> & <chr> & <dbl>\\\\\n",
       "\\hline\n",
       "\t1 & 0 & No CCS  & Factor1 & 0.4599296\\\\\n",
       "\t2 & 1 & CCS     & Factor1 & 0.5365739\\\\\n",
       "\\end{tabular}\n"
      ],
      "text/markdown": [
       "\n",
       "A data.frame: 2 × 4\n",
       "\n",
       "| <!--/--> | y &lt;chr&gt; | classification &lt;chr&gt; | variable &lt;chr&gt; | value &lt;dbl&gt; |\n",
       "|---|---|---|---|---|\n",
       "| 1 | 0 | No CCS  | Factor1 | 0.4599296 |\n",
       "| 2 | 1 | CCS     | Factor1 | 0.5365739 |\n",
       "\n"
      ],
      "text/plain": [
       "  y classification variable value    \n",
       "1 0 No CCS         Factor1  0.4599296\n",
       "2 1 CCS            Factor1  0.5365739"
      ]
     },
     "metadata": {},
     "output_type": "display_data"
    }
   ],
   "source": [
    "head(prediction_data_long_ccs,2)"
   ]
  },
  {
   "cell_type": "code",
   "execution_count": 217,
   "id": "3363c493-66b0-4f44-b06e-0215f1a9047b",
   "metadata": {},
   "outputs": [],
   "source": [
    "prediction_data_ausschluss$variable = str_replace(prediction_data_ausschluss$variable, 'Factor1', 'Factor1_w_o_cs')\n",
    "prediction_data_ausschluss$variable = str_replace(prediction_data_ausschluss$variable, 'score_prepared', 'Score_w_o_cs')"
   ]
  },
  {
   "cell_type": "code",
   "execution_count": 218,
   "id": "50544bc6-0e9f-4ec9-a0e3-c3c83c509173",
   "metadata": {},
   "outputs": [],
   "source": [
    "#head( prediction_data_long,2)"
   ]
  },
  {
   "cell_type": "code",
   "execution_count": 219,
   "id": "a25cf561-6712-41c1-a98b-7591513ad784",
   "metadata": {},
   "outputs": [],
   "source": [
    "prediction_data_long = rbind(prediction_data_long_ccs,prediction_data_ausschluss)"
   ]
  },
  {
   "cell_type": "code",
   "execution_count": 220,
   "id": "5bd32822-dc72-48d8-ab99-f4b3bf62dd71",
   "metadata": {},
   "outputs": [],
   "source": [
    "amount_samples = prediction_data_long %>% group_by(variable) %>% count()"
   ]
  },
  {
   "cell_type": "code",
   "execution_count": 221,
   "id": "4702787a-5ca7-47e5-b070-36d623aacbbc",
   "metadata": {},
   "outputs": [],
   "source": [
    "prediction_data_long = merge(prediction_data_long, amount_samples)"
   ]
  },
  {
   "cell_type": "code",
   "execution_count": 222,
   "id": "708a0265-618d-4922-9b44-5f0582e0337b",
   "metadata": {},
   "outputs": [],
   "source": [
    "prediction_data_long$variable_w_n = paste0(prediction_data_long$variable, ' (n=', prediction_data_long$n, ')')"
   ]
  },
  {
   "cell_type": "code",
   "execution_count": 223,
   "id": "a0e238fc-563a-412a-b07a-8e3d2685e7d0",
   "metadata": {},
   "outputs": [
    {
     "data": {
      "text/html": [
       "<table class=\"dataframe\">\n",
       "<caption>A data.frame: 2 × 6</caption>\n",
       "<thead>\n",
       "\t<tr><th></th><th scope=col>variable</th><th scope=col>y</th><th scope=col>classification</th><th scope=col>value</th><th scope=col>n</th><th scope=col>variable_w_n</th></tr>\n",
       "\t<tr><th></th><th scope=col>&lt;chr&gt;</th><th scope=col>&lt;chr&gt;</th><th scope=col>&lt;chr&gt;</th><th scope=col>&lt;dbl&gt;</th><th scope=col>&lt;int&gt;</th><th scope=col>&lt;chr&gt;</th></tr>\n",
       "</thead>\n",
       "<tbody>\n",
       "\t<tr><th scope=row>1</th><td>Factor1</td><td>0</td><td>No CCS </td><td>0.4599296</td><td>34</td><td>Factor1 (n=34)</td></tr>\n",
       "\t<tr><th scope=row>2</th><td>Factor1</td><td>1</td><td>CCS    </td><td>0.5365739</td><td>34</td><td>Factor1 (n=34)</td></tr>\n",
       "</tbody>\n",
       "</table>\n"
      ],
      "text/latex": [
       "A data.frame: 2 × 6\n",
       "\\begin{tabular}{r|llllll}\n",
       "  & variable & y & classification & value & n & variable\\_w\\_n\\\\\n",
       "  & <chr> & <chr> & <chr> & <dbl> & <int> & <chr>\\\\\n",
       "\\hline\n",
       "\t1 & Factor1 & 0 & No CCS  & 0.4599296 & 34 & Factor1 (n=34)\\\\\n",
       "\t2 & Factor1 & 1 & CCS     & 0.5365739 & 34 & Factor1 (n=34)\\\\\n",
       "\\end{tabular}\n"
      ],
      "text/markdown": [
       "\n",
       "A data.frame: 2 × 6\n",
       "\n",
       "| <!--/--> | variable &lt;chr&gt; | y &lt;chr&gt; | classification &lt;chr&gt; | value &lt;dbl&gt; | n &lt;int&gt; | variable_w_n &lt;chr&gt; |\n",
       "|---|---|---|---|---|---|---|\n",
       "| 1 | Factor1 | 0 | No CCS  | 0.4599296 | 34 | Factor1 (n=34) |\n",
       "| 2 | Factor1 | 1 | CCS     | 0.5365739 | 34 | Factor1 (n=34) |\n",
       "\n"
      ],
      "text/plain": [
       "  variable y classification value     n  variable_w_n  \n",
       "1 Factor1  0 No CCS         0.4599296 34 Factor1 (n=34)\n",
       "2 Factor1  1 CCS            0.5365739 34 Factor1 (n=34)"
      ]
     },
     "metadata": {},
     "output_type": "display_data"
    }
   ],
   "source": [
    "head(prediction_data_long,2)"
   ]
  },
  {
   "cell_type": "code",
   "execution_count": 224,
   "id": "7da7899b-8029-4d17-bde3-fd3941ead6d9",
   "metadata": {},
   "outputs": [],
   "source": [
    "auc_values = data.frame()"
   ]
  },
  {
   "cell_type": "code",
   "execution_count": 225,
   "id": "42ba3198-2d1a-4f7e-a0d6-d39b385ece69",
   "metadata": {},
   "outputs": [
    {
     "name": "stderr",
     "output_type": "stream",
     "text": [
      "Setting levels: control = 0, case = 1\n",
      "\n",
      "Setting direction: controls < cases\n",
      "\n",
      "Setting levels: control = 0, case = 1\n",
      "\n",
      "Setting direction: controls < cases\n",
      "\n",
      "Setting levels: control = 0, case = 1\n",
      "\n",
      "Setting direction: controls < cases\n",
      "\n",
      "Setting levels: control = 0, case = 1\n",
      "\n",
      "Setting direction: controls < cases\n",
      "\n"
     ]
    }
   ],
   "source": [
    "for(i in unique(prediction_data_long$variable)){\n",
    "    calc_auc = data.frame(variable = i, \n",
    "                          auc = auc(prediction_data_long$y[prediction_data_long$variable == i], prediction_data_long$value[prediction_data_long$variable == i])\n",
    "                          )\n",
    "    auc_values = rbind(auc_values, calc_auc)\n",
    "    }"
   ]
  },
  {
   "cell_type": "code",
   "execution_count": 226,
   "id": "4744f54b-d6b3-419c-bec5-0bbee268e038",
   "metadata": {},
   "outputs": [],
   "source": [
    "### Save AUC values"
   ]
  },
  {
   "cell_type": "code",
   "execution_count": 227,
   "id": "0a3a25cf-c382-4bcb-aa9c-76763c65fd08",
   "metadata": {},
   "outputs": [],
   "source": [
    "write.csv(auc_values, paste0(result_path,'/Supplementary/SUPP_E9_Factor1_ROC_Plot_AUC_values.csv'), row.names = FALSE)"
   ]
  },
  {
   "cell_type": "code",
   "execution_count": 228,
   "id": "0a167231-1fd4-4bff-a1bb-4a241f734eaf",
   "metadata": {},
   "outputs": [
    {
     "data": {
      "text/html": [
       "<table class=\"dataframe\">\n",
       "<caption>A data.frame: 4 × 2</caption>\n",
       "<thead>\n",
       "\t<tr><th scope=col>variable</th><th scope=col>auc</th></tr>\n",
       "\t<tr><th scope=col>&lt;chr&gt;</th><th scope=col>&lt;auc&gt;</th></tr>\n",
       "</thead>\n",
       "<tbody>\n",
       "\t<tr><td>Factor1       </td><td>0.8402778</td></tr>\n",
       "\t<tr><td>Factor1_w_o_cs</td><td>0.9886364</td></tr>\n",
       "\t<tr><td>Score         </td><td>0.6250000</td></tr>\n",
       "\t<tr><td>Score_w_o_cs  </td><td>0.8015873</td></tr>\n",
       "</tbody>\n",
       "</table>\n"
      ],
      "text/latex": [
       "A data.frame: 4 × 2\n",
       "\\begin{tabular}{ll}\n",
       " variable & auc\\\\\n",
       " <chr> & <auc>\\\\\n",
       "\\hline\n",
       "\t Factor1        & 0.8402778\\\\\n",
       "\t Factor1\\_w\\_o\\_cs & 0.9886364\\\\\n",
       "\t Score          & 0.6250000\\\\\n",
       "\t Score\\_w\\_o\\_cs   & 0.8015873\\\\\n",
       "\\end{tabular}\n"
      ],
      "text/markdown": [
       "\n",
       "A data.frame: 4 × 2\n",
       "\n",
       "| variable &lt;chr&gt; | auc &lt;auc&gt; |\n",
       "|---|---|\n",
       "| Factor1        | 0.8402778 |\n",
       "| Factor1_w_o_cs | 0.9886364 |\n",
       "| Score          | 0.6250000 |\n",
       "| Score_w_o_cs   | 0.8015873 |\n",
       "\n"
      ],
      "text/plain": [
       "  variable       auc      \n",
       "1 Factor1        0.8402778\n",
       "2 Factor1_w_o_cs 0.9886364\n",
       "3 Score          0.6250000\n",
       "4 Score_w_o_cs   0.8015873"
      ]
     },
     "metadata": {},
     "output_type": "display_data"
    }
   ],
   "source": [
    "auc_values"
   ]
  },
  {
   "cell_type": "code",
   "execution_count": 229,
   "id": "cb100389-a768-4aec-afcb-c72e432bbbff",
   "metadata": {},
   "outputs": [
    {
     "data": {
      "text/html": [
       "<table class=\"dataframe\">\n",
       "<caption>A data.frame: 2 × 6</caption>\n",
       "<thead>\n",
       "\t<tr><th></th><th scope=col>variable</th><th scope=col>y</th><th scope=col>classification</th><th scope=col>value</th><th scope=col>n</th><th scope=col>variable_w_n</th></tr>\n",
       "\t<tr><th></th><th scope=col>&lt;chr&gt;</th><th scope=col>&lt;chr&gt;</th><th scope=col>&lt;chr&gt;</th><th scope=col>&lt;dbl&gt;</th><th scope=col>&lt;int&gt;</th><th scope=col>&lt;chr&gt;</th></tr>\n",
       "</thead>\n",
       "<tbody>\n",
       "\t<tr><th scope=row>1</th><td>Factor1</td><td>0</td><td>No CCS </td><td>0.4599296</td><td>34</td><td>Factor1 (n=34)</td></tr>\n",
       "\t<tr><th scope=row>2</th><td>Factor1</td><td>1</td><td>CCS    </td><td>0.5365739</td><td>34</td><td>Factor1 (n=34)</td></tr>\n",
       "</tbody>\n",
       "</table>\n"
      ],
      "text/latex": [
       "A data.frame: 2 × 6\n",
       "\\begin{tabular}{r|llllll}\n",
       "  & variable & y & classification & value & n & variable\\_w\\_n\\\\\n",
       "  & <chr> & <chr> & <chr> & <dbl> & <int> & <chr>\\\\\n",
       "\\hline\n",
       "\t1 & Factor1 & 0 & No CCS  & 0.4599296 & 34 & Factor1 (n=34)\\\\\n",
       "\t2 & Factor1 & 1 & CCS     & 0.5365739 & 34 & Factor1 (n=34)\\\\\n",
       "\\end{tabular}\n"
      ],
      "text/markdown": [
       "\n",
       "A data.frame: 2 × 6\n",
       "\n",
       "| <!--/--> | variable &lt;chr&gt; | y &lt;chr&gt; | classification &lt;chr&gt; | value &lt;dbl&gt; | n &lt;int&gt; | variable_w_n &lt;chr&gt; |\n",
       "|---|---|---|---|---|---|---|\n",
       "| 1 | Factor1 | 0 | No CCS  | 0.4599296 | 34 | Factor1 (n=34) |\n",
       "| 2 | Factor1 | 1 | CCS     | 0.5365739 | 34 | Factor1 (n=34) |\n",
       "\n"
      ],
      "text/plain": [
       "  variable y classification value     n  variable_w_n  \n",
       "1 Factor1  0 No CCS         0.4599296 34 Factor1 (n=34)\n",
       "2 Factor1  1 CCS            0.5365739 34 Factor1 (n=34)"
      ]
     },
     "metadata": {},
     "output_type": "display_data"
    }
   ],
   "source": [
    "head(prediction_data_long,2)"
   ]
  },
  {
   "cell_type": "code",
   "execution_count": 230,
   "id": "97ee1db8-45be-4cfb-8777-0fa7d00102b9",
   "metadata": {},
   "outputs": [],
   "source": [
    "# Figure Name\n",
    "figure_name = 'FIG10_E9_ROC_Factor1'"
   ]
  },
  {
   "cell_type": "code",
   "execution_count": 231,
   "id": "67901903-710b-4f0a-ab6f-7fca1b23ea3d",
   "metadata": {},
   "outputs": [],
   "source": [
    "# Sizes of the plot\n",
    "width_par = 3.5\n",
    "height_par = 1.6"
   ]
  },
  {
   "cell_type": "code",
   "execution_count": 232,
   "id": "e9907bbe-df45-430c-b35c-6da6cac810e7",
   "metadata": {},
   "outputs": [],
   "source": [
    "xtitle = xlab( 'False Positive Fraction')\n",
    "ytitle  = ylab('Sensititity')"
   ]
  },
  {
   "cell_type": "code",
   "execution_count": 233,
   "id": "b155f871-2fe1-40eb-bc1d-3b271796c466",
   "metadata": {},
   "outputs": [
    {
     "data": {
      "text/html": [
       "<style>\n",
       ".list-inline {list-style: none; margin:0; padding: 0}\n",
       ".list-inline>li {display: inline-block}\n",
       ".list-inline>li:not(:last-child)::after {content: \"\\00b7\"; padding: 0 .5ex}\n",
       "</style>\n",
       "<ol class=list-inline><li>'Factor1 (n=34)'</li><li>'Factor1_w_o_cs (n=27)'</li><li>'Score (n=21)'</li><li>'Score_w_o_cs (n=16)'</li></ol>\n"
      ],
      "text/latex": [
       "\\begin{enumerate*}\n",
       "\\item 'Factor1 (n=34)'\n",
       "\\item 'Factor1\\_w\\_o\\_cs (n=27)'\n",
       "\\item 'Score (n=21)'\n",
       "\\item 'Score\\_w\\_o\\_cs (n=16)'\n",
       "\\end{enumerate*}\n"
      ],
      "text/markdown": [
       "1. 'Factor1 (n=34)'\n",
       "2. 'Factor1_w_o_cs (n=27)'\n",
       "3. 'Score (n=21)'\n",
       "4. 'Score_w_o_cs (n=16)'\n",
       "\n",
       "\n"
      ],
      "text/plain": [
       "[1] \"Factor1 (n=34)\"        \"Factor1_w_o_cs (n=27)\" \"Score (n=21)\"         \n",
       "[4] \"Score_w_o_cs (n=16)\"  "
      ]
     },
     "metadata": {},
     "output_type": "display_data"
    }
   ],
   "source": [
    "unique(prediction_data_long$variable_w_n)"
   ]
  },
  {
   "cell_type": "code",
   "execution_count": 234,
   "id": "1a6675f8-2788-40ec-b933-4f142e07f478",
   "metadata": {},
   "outputs": [],
   "source": [
    "## Specify Plot\n",
    "rocplot = ggplot(prediction_data_long, aes(m = value, d = as.numeric(y), color = variable_w_n, linetype = variable_w_n))+ geom_roc(n.cuts=0,labels=FALSE, size = 0.5)"
   ]
  },
  {
   "cell_type": "code",
   "execution_count": 235,
   "id": "0bac35b2-c2b0-417b-aefe-734670de2c08",
   "metadata": {},
   "outputs": [
    {
     "data": {
      "image/png": "[encoded data removed]",
      "text/plain": [
       "plot without title"
      ]
     },
     "metadata": {
      "image/png": {
       "height": 120,
       "width": 1800
      }
     },
     "output_type": "display_data"
    }
   ],
   "source": [
    "## Configuration + Modification of plot\n",
    "roc_plot = rocplot + \n",
    "    plot_config + \n",
    "    xtitle + \n",
    "    ytitle + \n",
    "    theme(legend.position = 'right', legend.spacing.x = unit(0, 'mm'), legend.spacing.y = unit(0, 'mm'), axis.text.x = element_text(angle = 0)) + \n",
    "    ggtitle('ROC curve ccs vs. no ccs') +\n",
    "    geom_abline(slope = 1, intercept = 0) + \n",
    "    scale_color_manual(values = c('Factor1 (n=34)' = \"#BC0B58\",\n",
    "                                  'Factor1_w_o_cs (n=27)' = \"#BC0B58\",\n",
    "                                  'Score (n=21)'=\"#726068\",\n",
    "                                  'Score_w_o_cs (n=16)'=\"#726068\"\n",
    "                                 ),\n",
    "                      \n",
    "                      ) +\n",
    "    scale_linetype_manual(values = c('Factor1 (n=34)' = \"solid\",\n",
    "                                  'Factor1_w_o_cs (n=27)' = \"dashed\",\n",
    "                                  'Score (n=21)'=\"solid\",\n",
    "                                  'Score_w_o_cs (n=16)'=\"dashed\"\n",
    "                                 ))+\n",
    "    guides(color=guide_legend(nrow=4, byrow=TRUE))\n",
    "\n",
    "roc_plot"
   ]
  },
  {
   "cell_type": "code",
   "execution_count": 236,
   "id": "dccf8139-157b-422d-95c4-d058b5f68adf",
   "metadata": {},
   "outputs": [
    {
     "data": {
      "text/html": [
       "<strong>png:</strong> 2"
      ],
      "text/latex": [
       "\\textbf{png:} 2"
      ],
      "text/markdown": [
       "**png:** 2"
      ],
      "text/plain": [
       "png \n",
       "  2 "
      ]
     },
     "metadata": {},
     "output_type": "display_data"
    }
   ],
   "source": [
    "pdf(paste0('figures/Final_Figures/', figure_name, version, '.pdf'), width =width_par, height =height_par)\n",
    "print(roc_plot)\n",
    "dev.off()"
   ]
  },
  {
   "cell_type": "code",
   "execution_count": null,
   "id": "669673c7-85d8-458a-b283-3237ea1c0664",
   "metadata": {},
   "outputs": [],
   "source": []
  },
  {
   "cell_type": "markdown",
   "id": "fc17e522-d622-4795-881a-40f859d83060",
   "metadata": {},
   "source": [
    "# Prediction Factor 4 TP1 (further variables for Testing)"
   ]
  },
  {
   "cell_type": "code",
   "execution_count": 237,
   "id": "20c7c99a-73f6-481e-bb41-cbdc740cc105",
   "metadata": {},
   "outputs": [],
   "source": [
    "prediction_vars = c( 'Factor4',  'Normalized_X3_NK__TXNIP','Normalized_X3_NK__PRF1', 'Normalized_X3_NK__LITAF' , 'Normalized_X3_NK__GZMB', 'Normalized_X3_NK__FYN', 'Normalized_X3_NK__CST7',  'Normalized_X3_NK__CD53', 'delta_ef_value_class')"
   ]
  },
  {
   "cell_type": "code",
   "execution_count": 238,
   "id": "31e60bf7-061f-4d9b-a3f9-45c217a9c070",
   "metadata": {},
   "outputs": [],
   "source": [
    "#colnames(data)"
   ]
  },
  {
   "cell_type": "code",
   "execution_count": 239,
   "id": "8b5ee87d-16d8-4b90-b6a3-66306f0b91fc",
   "metadata": {},
   "outputs": [],
   "source": [
    "prediction_group = 'tp_outcome'\n",
    "prediction_subset = c('TP1_good', 'TP1_bad')"
   ]
  },
  {
   "cell_type": "code",
   "execution_count": 240,
   "id": "c4d59e7e-7d75-4aee-9450-87c60a72e2d3",
   "metadata": {},
   "outputs": [],
   "source": [
    "prediction_data = data[,c(prediction_vars, prediction_group)]\n",
    "prediction_data$y = prediction_data[,prediction_group]\n",
    "prediction_data = prediction_data[prediction_data$y %in% prediction_subset,]\n",
    "\n",
    "prediction_data$y[prediction_data$y == prediction_subset[2]] = 1  # predict BAD outcome \n",
    "prediction_data$y[prediction_data$y == prediction_subset[1]] = 0  # good outcome as control"
   ]
  },
  {
   "cell_type": "code",
   "execution_count": 241,
   "id": "721de59a-0bb4-4149-be13-63da6ad3c717",
   "metadata": {},
   "outputs": [
    {
     "name": "stderr",
     "output_type": "stream",
     "text": [
      "Warning message in mean.default(col, ...):\n",
      "“argument is not numeric or logical: returning NA”\n",
      "Warning message in mean.default(col, ...):\n",
      "“argument is not numeric or logical: returning NA”\n",
      "\u001b[1m\u001b[22m`summarise()` has grouped output by 'tp_outcome'. You can override using the\n",
      "`.groups` argument.\n"
     ]
    },
    {
     "data": {
      "text/html": [
       "<table class=\"dataframe\">\n",
       "<caption>A grouped_df: 2 × 11</caption>\n",
       "<thead>\n",
       "\t<tr><th scope=col>tp_outcome</th><th scope=col>y</th><th scope=col>Factor4</th><th scope=col>Normalized_X3_NK__TXNIP</th><th scope=col>Normalized_X3_NK__PRF1</th><th scope=col>Normalized_X3_NK__LITAF</th><th scope=col>Normalized_X3_NK__GZMB</th><th scope=col>Normalized_X3_NK__FYN</th><th scope=col>Normalized_X3_NK__CST7</th><th scope=col>Normalized_X3_NK__CD53</th><th scope=col>delta_ef_value_class</th></tr>\n",
       "\t<tr><th scope=col>&lt;chr&gt;</th><th scope=col>&lt;chr&gt;</th><th scope=col>&lt;dbl&gt;</th><th scope=col>&lt;dbl&gt;</th><th scope=col>&lt;dbl&gt;</th><th scope=col>&lt;dbl&gt;</th><th scope=col>&lt;dbl&gt;</th><th scope=col>&lt;dbl&gt;</th><th scope=col>&lt;dbl&gt;</th><th scope=col>&lt;dbl&gt;</th><th scope=col>&lt;dbl&gt;</th></tr>\n",
       "</thead>\n",
       "<tbody>\n",
       "\t<tr><td>TP1_bad </td><td>1</td><td>-1.1259212</td><td>1.3209390</td><td>1.0164453</td><td>0.7025473</td><td>1.1050728</td><td>0.9431977</td><td>0.6729964</td><td>1.4315875</td><td>NA</td></tr>\n",
       "\t<tr><td>TP1_good</td><td>0</td><td>-0.6298132</td><td>0.3388379</td><td>0.6174456</td><td>0.8188857</td><td>0.7308806</td><td>1.0982475</td><td>0.4087585</td><td>0.4996068</td><td>NA</td></tr>\n",
       "</tbody>\n",
       "</table>\n"
      ],
      "text/latex": [
       "A grouped\\_df: 2 × 11\n",
       "\\begin{tabular}{lllllllllll}\n",
       " tp\\_outcome & y & Factor4 & Normalized\\_X3\\_NK\\_\\_TXNIP & Normalized\\_X3\\_NK\\_\\_PRF1 & Normalized\\_X3\\_NK\\_\\_LITAF & Normalized\\_X3\\_NK\\_\\_GZMB & Normalized\\_X3\\_NK\\_\\_FYN & Normalized\\_X3\\_NK\\_\\_CST7 & Normalized\\_X3\\_NK\\_\\_CD53 & delta\\_ef\\_value\\_class\\\\\n",
       " <chr> & <chr> & <dbl> & <dbl> & <dbl> & <dbl> & <dbl> & <dbl> & <dbl> & <dbl> & <dbl>\\\\\n",
       "\\hline\n",
       "\t TP1\\_bad  & 1 & -1.1259212 & 1.3209390 & 1.0164453 & 0.7025473 & 1.1050728 & 0.9431977 & 0.6729964 & 1.4315875 & NA\\\\\n",
       "\t TP1\\_good & 0 & -0.6298132 & 0.3388379 & 0.6174456 & 0.8188857 & 0.7308806 & 1.0982475 & 0.4087585 & 0.4996068 & NA\\\\\n",
       "\\end{tabular}\n"
      ],
      "text/markdown": [
       "\n",
       "A grouped_df: 2 × 11\n",
       "\n",
       "| tp_outcome &lt;chr&gt; | y &lt;chr&gt; | Factor4 &lt;dbl&gt; | Normalized_X3_NK__TXNIP &lt;dbl&gt; | Normalized_X3_NK__PRF1 &lt;dbl&gt; | Normalized_X3_NK__LITAF &lt;dbl&gt; | Normalized_X3_NK__GZMB &lt;dbl&gt; | Normalized_X3_NK__FYN &lt;dbl&gt; | Normalized_X3_NK__CST7 &lt;dbl&gt; | Normalized_X3_NK__CD53 &lt;dbl&gt; | delta_ef_value_class &lt;dbl&gt; |\n",
       "|---|---|---|---|---|---|---|---|---|---|---|\n",
       "| TP1_bad  | 1 | -1.1259212 | 1.3209390 | 1.0164453 | 0.7025473 | 1.1050728 | 0.9431977 | 0.6729964 | 1.4315875 | NA |\n",
       "| TP1_good | 0 | -0.6298132 | 0.3388379 | 0.6174456 | 0.8188857 | 0.7308806 | 1.0982475 | 0.4087585 | 0.4996068 | NA |\n",
       "\n"
      ],
      "text/plain": [
       "  tp_outcome y Factor4    Normalized_X3_NK__TXNIP Normalized_X3_NK__PRF1\n",
       "1 TP1_bad    1 -1.1259212 1.3209390               1.0164453             \n",
       "2 TP1_good   0 -0.6298132 0.3388379               0.6174456             \n",
       "  Normalized_X3_NK__LITAF Normalized_X3_NK__GZMB Normalized_X3_NK__FYN\n",
       "1 0.7025473               1.1050728              0.9431977            \n",
       "2 0.8188857               0.7308806              1.0982475            \n",
       "  Normalized_X3_NK__CST7 Normalized_X3_NK__CD53 delta_ef_value_class\n",
       "1 0.6729964              1.4315875              NA                  \n",
       "2 0.4087585              0.4996068              NA                  "
      ]
     },
     "metadata": {},
     "output_type": "display_data"
    }
   ],
   "source": [
    "## Check in which direction to adjust\n",
    "prediction_data %>% group_by(tp_outcome,y) %>% summarise(across(everything(), mean, na.rm =TRUE))\n",
    "\n",
    "# predict bad --> higher values for bad"
   ]
  },
  {
   "cell_type": "code",
   "execution_count": 242,
   "id": "05272216-b210-40a9-8650-6764490c8f5d",
   "metadata": {},
   "outputs": [
    {
     "data": {
      "text/html": [
       "<table class=\"dataframe\">\n",
       "<caption>A grouped_df: 2 × 2</caption>\n",
       "<thead>\n",
       "\t<tr><th scope=col>tp_outcome</th><th scope=col>n</th></tr>\n",
       "\t<tr><th scope=col>&lt;chr&gt;</th><th scope=col>&lt;int&gt;</th></tr>\n",
       "</thead>\n",
       "<tbody>\n",
       "\t<tr><td>TP1_bad </td><td> 6</td></tr>\n",
       "\t<tr><td>TP1_good</td><td>13</td></tr>\n",
       "</tbody>\n",
       "</table>\n"
      ],
      "text/latex": [
       "A grouped\\_df: 2 × 2\n",
       "\\begin{tabular}{ll}\n",
       " tp\\_outcome & n\\\\\n",
       " <chr> & <int>\\\\\n",
       "\\hline\n",
       "\t TP1\\_bad  &  6\\\\\n",
       "\t TP1\\_good & 13\\\\\n",
       "\\end{tabular}\n"
      ],
      "text/markdown": [
       "\n",
       "A grouped_df: 2 × 2\n",
       "\n",
       "| tp_outcome &lt;chr&gt; | n &lt;int&gt; |\n",
       "|---|---|\n",
       "| TP1_bad  |  6 |\n",
       "| TP1_good | 13 |\n",
       "\n"
      ],
      "text/plain": [
       "  tp_outcome n \n",
       "1 TP1_bad     6\n",
       "2 TP1_good   13"
      ]
     },
     "metadata": {},
     "output_type": "display_data"
    }
   ],
   "source": [
    "prediction_data %>% group_by(tp_outcome) %>% count()"
   ]
  },
  {
   "cell_type": "code",
   "execution_count": 243,
   "id": "07924425-1b92-4e7c-8172-90548b131c86",
   "metadata": {},
   "outputs": [],
   "source": [
    "# Adjust sign of Factor values\n",
    "prediction_data$Factor4 = -1*prediction_data$Factor4"
   ]
  },
  {
   "cell_type": "code",
   "execution_count": null,
   "id": "0ee2434a-bfcb-488f-ac5a-df244e43c82e",
   "metadata": {},
   "outputs": [],
   "source": []
  },
  {
   "cell_type": "code",
   "execution_count": 244,
   "id": "6a097bdc-007c-4d56-9b97-fe0316223fae",
   "metadata": {},
   "outputs": [],
   "source": [
    "# Transform and scale scores of prediction variables (to be between 0 and 1)"
   ]
  },
  {
   "cell_type": "code",
   "execution_count": 245,
   "id": "b73f0f65-54fb-4185-8017-373088ea486d",
   "metadata": {},
   "outputs": [],
   "source": [
    "prediction_vars = c( 'Factor4',  'Normalized_X3_NK__TXNIP','Normalized_X3_NK__PRF1', 'Normalized_X3_NK__LITAF' , 'Normalized_X3_NK__GZMB', 'Normalized_X3_NK__FYN', 'Normalized_X3_NK__CST7',  'Normalized_X3_NK__CD53')"
   ]
  },
  {
   "cell_type": "code",
   "execution_count": 246,
   "id": "5bf9560c-9316-40e9-80fb-b484e94e66ce",
   "metadata": {},
   "outputs": [],
   "source": [
    "prediction_data = cbind( prediction_data[,c('y', prediction_group,  'delta_ef_value_class')],\n",
    "      apply(prediction_data[,prediction_vars], MARGIN = 2, FUN = function(x){\n",
    "    (x - min(x, na.rm = TRUE)) / (max(x, na.rm = TRUE) - min(x, na.rm = TRUE))}))"
   ]
  },
  {
   "cell_type": "code",
   "execution_count": 247,
   "id": "175a45c8-098b-479e-a4f3-8c4721cf824d",
   "metadata": {},
   "outputs": [
    {
     "data": {
      "text/html": [
       "<table class=\"dataframe\">\n",
       "<caption>A data.frame: 5 × 11</caption>\n",
       "<thead>\n",
       "\t<tr><th></th><th scope=col>y</th><th scope=col>tp_outcome</th><th scope=col>delta_ef_value_class</th><th scope=col>Factor4</th><th scope=col>Normalized_X3_NK__TXNIP</th><th scope=col>Normalized_X3_NK__PRF1</th><th scope=col>Normalized_X3_NK__LITAF</th><th scope=col>Normalized_X3_NK__GZMB</th><th scope=col>Normalized_X3_NK__FYN</th><th scope=col>Normalized_X3_NK__CST7</th><th scope=col>Normalized_X3_NK__CD53</th></tr>\n",
       "\t<tr><th></th><th scope=col>&lt;chr&gt;</th><th scope=col>&lt;chr&gt;</th><th scope=col>&lt;chr&gt;</th><th scope=col>&lt;dbl&gt;</th><th scope=col>&lt;dbl&gt;</th><th scope=col>&lt;dbl&gt;</th><th scope=col>&lt;dbl&gt;</th><th scope=col>&lt;dbl&gt;</th><th scope=col>&lt;dbl&gt;</th><th scope=col>&lt;dbl&gt;</th><th scope=col>&lt;dbl&gt;</th></tr>\n",
       "</thead>\n",
       "<tbody>\n",
       "\t<tr><th scope=row>36</th><td>1</td><td>TP1_bad </td><td>bad </td><td>0.4734997</td><td>       NA</td><td>      NA</td><td>       NA</td><td>       NA</td><td>        NA</td><td>       NA</td><td>       NA</td></tr>\n",
       "\t<tr><th scope=row>45</th><td>1</td><td>TP1_bad </td><td>bad </td><td>0.8558891</td><td>0.5501375</td><td>0.608098</td><td>0.7317484</td><td>0.6514013</td><td>0.65379617</td><td>0.6102599</td><td>0.2683299</td></tr>\n",
       "\t<tr><th scope=row>49</th><td>1</td><td>TP1_bad </td><td>bad </td><td>0.7560452</td><td>0.7614017</td><td>1.000000</td><td>0.6030972</td><td>0.7690888</td><td>0.61426987</td><td>1.0000000</td><td>1.0000000</td></tr>\n",
       "\t<tr><th scope=row>53</th><td>0</td><td>TP1_good</td><td>good</td><td>1.0000000</td><td>0.8718802</td><td>0.871366</td><td>0.8696089</td><td>0.3138158</td><td>0.72827199</td><td>0.7187402</td><td>0.9125926</td></tr>\n",
       "\t<tr><th scope=row>60</th><td>1</td><td>TP1_bad </td><td>bad </td><td>0.7118677</td><td>1.0000000</td><td>0.640062</td><td>0.0000000</td><td>0.6838963</td><td>0.06304148</td><td>0.3791984</td><td>0.6504756</td></tr>\n",
       "</tbody>\n",
       "</table>\n"
      ],
      "text/latex": [
       "A data.frame: 5 × 11\n",
       "\\begin{tabular}{r|lllllllllll}\n",
       "  & y & tp\\_outcome & delta\\_ef\\_value\\_class & Factor4 & Normalized\\_X3\\_NK\\_\\_TXNIP & Normalized\\_X3\\_NK\\_\\_PRF1 & Normalized\\_X3\\_NK\\_\\_LITAF & Normalized\\_X3\\_NK\\_\\_GZMB & Normalized\\_X3\\_NK\\_\\_FYN & Normalized\\_X3\\_NK\\_\\_CST7 & Normalized\\_X3\\_NK\\_\\_CD53\\\\\n",
       "  & <chr> & <chr> & <chr> & <dbl> & <dbl> & <dbl> & <dbl> & <dbl> & <dbl> & <dbl> & <dbl>\\\\\n",
       "\\hline\n",
       "\t36 & 1 & TP1\\_bad  & bad  & 0.4734997 &        NA &       NA &        NA &        NA &         NA &        NA &        NA\\\\\n",
       "\t45 & 1 & TP1\\_bad  & bad  & 0.8558891 & 0.5501375 & 0.608098 & 0.7317484 & 0.6514013 & 0.65379617 & 0.6102599 & 0.2683299\\\\\n",
       "\t49 & 1 & TP1\\_bad  & bad  & 0.7560452 & 0.7614017 & 1.000000 & 0.6030972 & 0.7690888 & 0.61426987 & 1.0000000 & 1.0000000\\\\\n",
       "\t53 & 0 & TP1\\_good & good & 1.0000000 & 0.8718802 & 0.871366 & 0.8696089 & 0.3138158 & 0.72827199 & 0.7187402 & 0.9125926\\\\\n",
       "\t60 & 1 & TP1\\_bad  & bad  & 0.7118677 & 1.0000000 & 0.640062 & 0.0000000 & 0.6838963 & 0.06304148 & 0.3791984 & 0.6504756\\\\\n",
       "\\end{tabular}\n"
      ],
      "text/markdown": [
       "\n",
       "A data.frame: 5 × 11\n",
       "\n",
       "| <!--/--> | y &lt;chr&gt; | tp_outcome &lt;chr&gt; | delta_ef_value_class &lt;chr&gt; | Factor4 &lt;dbl&gt; | Normalized_X3_NK__TXNIP &lt;dbl&gt; | Normalized_X3_NK__PRF1 &lt;dbl&gt; | Normalized_X3_NK__LITAF &lt;dbl&gt; | Normalized_X3_NK__GZMB &lt;dbl&gt; | Normalized_X3_NK__FYN &lt;dbl&gt; | Normalized_X3_NK__CST7 &lt;dbl&gt; | Normalized_X3_NK__CD53 &lt;dbl&gt; |\n",
       "|---|---|---|---|---|---|---|---|---|---|---|---|\n",
       "| 36 | 1 | TP1_bad  | bad  | 0.4734997 |        NA |       NA |        NA |        NA |         NA |        NA |        NA |\n",
       "| 45 | 1 | TP1_bad  | bad  | 0.8558891 | 0.5501375 | 0.608098 | 0.7317484 | 0.6514013 | 0.65379617 | 0.6102599 | 0.2683299 |\n",
       "| 49 | 1 | TP1_bad  | bad  | 0.7560452 | 0.7614017 | 1.000000 | 0.6030972 | 0.7690888 | 0.61426987 | 1.0000000 | 1.0000000 |\n",
       "| 53 | 0 | TP1_good | good | 1.0000000 | 0.8718802 | 0.871366 | 0.8696089 | 0.3138158 | 0.72827199 | 0.7187402 | 0.9125926 |\n",
       "| 60 | 1 | TP1_bad  | bad  | 0.7118677 | 1.0000000 | 0.640062 | 0.0000000 | 0.6838963 | 0.06304148 | 0.3791984 | 0.6504756 |\n",
       "\n"
      ],
      "text/plain": [
       "   y tp_outcome delta_ef_value_class Factor4   Normalized_X3_NK__TXNIP\n",
       "36 1 TP1_bad    bad                  0.4734997        NA              \n",
       "45 1 TP1_bad    bad                  0.8558891 0.5501375              \n",
       "49 1 TP1_bad    bad                  0.7560452 0.7614017              \n",
       "53 0 TP1_good   good                 1.0000000 0.8718802              \n",
       "60 1 TP1_bad    bad                  0.7118677 1.0000000              \n",
       "   Normalized_X3_NK__PRF1 Normalized_X3_NK__LITAF Normalized_X3_NK__GZMB\n",
       "36       NA                      NA                      NA             \n",
       "45 0.608098               0.7317484               0.6514013             \n",
       "49 1.000000               0.6030972               0.7690888             \n",
       "53 0.871366               0.8696089               0.3138158             \n",
       "60 0.640062               0.0000000               0.6838963             \n",
       "   Normalized_X3_NK__FYN Normalized_X3_NK__CST7 Normalized_X3_NK__CD53\n",
       "36         NA                   NA                     NA             \n",
       "45 0.65379617            0.6102599              0.2683299             \n",
       "49 0.61426987            1.0000000              1.0000000             \n",
       "53 0.72827199            0.7187402              0.9125926             \n",
       "60 0.06304148            0.3791984              0.6504756             "
      ]
     },
     "metadata": {},
     "output_type": "display_data"
    }
   ],
   "source": [
    "head(prediction_data,5)"
   ]
  },
  {
   "cell_type": "code",
   "execution_count": 248,
   "id": "268fe8bd-77b0-4156-a796-212cb3605034",
   "metadata": {},
   "outputs": [
    {
     "name": "stderr",
     "output_type": "stream",
     "text": [
      "Using y, tp_outcome, delta_ef_value_class as id variables\n",
      "\n"
     ]
    }
   ],
   "source": [
    "prediction_data_long = melt(prediction_data)"
   ]
  },
  {
   "cell_type": "code",
   "execution_count": 249,
   "id": "176918c8-4172-47a6-94fe-ee7695c90a5f",
   "metadata": {},
   "outputs": [],
   "source": [
    "prediction_data_long = prediction_data_long[!is.na(prediction_data_long$value),]"
   ]
  },
  {
   "cell_type": "code",
   "execution_count": 250,
   "id": "e53dc6c9-3079-4fd9-9312-e3ed58775d4a",
   "metadata": {},
   "outputs": [],
   "source": [
    "amount_samples = prediction_data_long %>% group_by(variable) %>% count()"
   ]
  },
  {
   "cell_type": "code",
   "execution_count": 251,
   "id": "b1b4ee3a-c553-4847-b5d2-13a591039935",
   "metadata": {},
   "outputs": [],
   "source": [
    "prediction_data_long = merge(prediction_data_long, amount_samples)"
   ]
  },
  {
   "cell_type": "code",
   "execution_count": 252,
   "id": "5464613d-5956-49e0-932b-fa4cd72d8b64",
   "metadata": {},
   "outputs": [],
   "source": [
    "prediction_data_long$variable_w_n = paste0(prediction_data_long$variable, ' (n=', prediction_data_long$n, ')')"
   ]
  },
  {
   "cell_type": "code",
   "execution_count": 253,
   "id": "16348d31-efb1-4ab0-9e71-52cf43ed6379",
   "metadata": {},
   "outputs": [
    {
     "data": {
      "text/html": [
       "<table class=\"dataframe\">\n",
       "<caption>A data.frame: 2 × 7</caption>\n",
       "<thead>\n",
       "\t<tr><th></th><th scope=col>variable</th><th scope=col>y</th><th scope=col>tp_outcome</th><th scope=col>delta_ef_value_class</th><th scope=col>value</th><th scope=col>n</th><th scope=col>variable_w_n</th></tr>\n",
       "\t<tr><th></th><th scope=col>&lt;fct&gt;</th><th scope=col>&lt;chr&gt;</th><th scope=col>&lt;chr&gt;</th><th scope=col>&lt;chr&gt;</th><th scope=col>&lt;dbl&gt;</th><th scope=col>&lt;int&gt;</th><th scope=col>&lt;chr&gt;</th></tr>\n",
       "</thead>\n",
       "<tbody>\n",
       "\t<tr><th scope=row>1</th><td>Factor4</td><td>1</td><td>TP1_bad</td><td>bad</td><td>0.4734997</td><td>19</td><td>Factor4 (n=19)</td></tr>\n",
       "\t<tr><th scope=row>2</th><td>Factor4</td><td>1</td><td>TP1_bad</td><td>bad</td><td>0.8558891</td><td>19</td><td>Factor4 (n=19)</td></tr>\n",
       "</tbody>\n",
       "</table>\n"
      ],
      "text/latex": [
       "A data.frame: 2 × 7\n",
       "\\begin{tabular}{r|lllllll}\n",
       "  & variable & y & tp\\_outcome & delta\\_ef\\_value\\_class & value & n & variable\\_w\\_n\\\\\n",
       "  & <fct> & <chr> & <chr> & <chr> & <dbl> & <int> & <chr>\\\\\n",
       "\\hline\n",
       "\t1 & Factor4 & 1 & TP1\\_bad & bad & 0.4734997 & 19 & Factor4 (n=19)\\\\\n",
       "\t2 & Factor4 & 1 & TP1\\_bad & bad & 0.8558891 & 19 & Factor4 (n=19)\\\\\n",
       "\\end{tabular}\n"
      ],
      "text/markdown": [
       "\n",
       "A data.frame: 2 × 7\n",
       "\n",
       "| <!--/--> | variable &lt;fct&gt; | y &lt;chr&gt; | tp_outcome &lt;chr&gt; | delta_ef_value_class &lt;chr&gt; | value &lt;dbl&gt; | n &lt;int&gt; | variable_w_n &lt;chr&gt; |\n",
       "|---|---|---|---|---|---|---|---|\n",
       "| 1 | Factor4 | 1 | TP1_bad | bad | 0.4734997 | 19 | Factor4 (n=19) |\n",
       "| 2 | Factor4 | 1 | TP1_bad | bad | 0.8558891 | 19 | Factor4 (n=19) |\n",
       "\n"
      ],
      "text/plain": [
       "  variable y tp_outcome delta_ef_value_class value     n  variable_w_n  \n",
       "1 Factor4  1 TP1_bad    bad                  0.4734997 19 Factor4 (n=19)\n",
       "2 Factor4  1 TP1_bad    bad                  0.8558891 19 Factor4 (n=19)"
      ]
     },
     "metadata": {},
     "output_type": "display_data"
    }
   ],
   "source": [
    "head(prediction_data_long,2)"
   ]
  },
  {
   "cell_type": "code",
   "execution_count": 254,
   "id": "d70f3c95-3288-4d4a-8db4-bf37357e89a2",
   "metadata": {},
   "outputs": [],
   "source": [
    "test = prediction_data_long[prediction_data_long$variable == 'Normalized_X3_NK__GZMB',]"
   ]
  },
  {
   "cell_type": "code",
   "execution_count": 255,
   "id": "e004c8bf-e187-4803-9e42-eb6ab10da3f8",
   "metadata": {},
   "outputs": [
    {
     "data": {
      "text/html": [
       "<table class=\"dataframe\">\n",
       "<caption>A data.frame: 2 × 7</caption>\n",
       "<thead>\n",
       "\t<tr><th></th><th scope=col>variable</th><th scope=col>y</th><th scope=col>tp_outcome</th><th scope=col>delta_ef_value_class</th><th scope=col>value</th><th scope=col>n</th><th scope=col>variable_w_n</th></tr>\n",
       "\t<tr><th></th><th scope=col>&lt;fct&gt;</th><th scope=col>&lt;chr&gt;</th><th scope=col>&lt;chr&gt;</th><th scope=col>&lt;chr&gt;</th><th scope=col>&lt;dbl&gt;</th><th scope=col>&lt;int&gt;</th><th scope=col>&lt;chr&gt;</th></tr>\n",
       "</thead>\n",
       "<tbody>\n",
       "\t<tr><th scope=row>71</th><td>Normalized_X3_NK__GZMB</td><td>1</td><td>TP1_bad</td><td>bad</td><td>0.6514013</td><td>17</td><td>Normalized_X3_NK__GZMB (n=17)</td></tr>\n",
       "\t<tr><th scope=row>72</th><td>Normalized_X3_NK__GZMB</td><td>1</td><td>TP1_bad</td><td>bad</td><td>0.7690888</td><td>17</td><td>Normalized_X3_NK__GZMB (n=17)</td></tr>\n",
       "</tbody>\n",
       "</table>\n"
      ],
      "text/latex": [
       "A data.frame: 2 × 7\n",
       "\\begin{tabular}{r|lllllll}\n",
       "  & variable & y & tp\\_outcome & delta\\_ef\\_value\\_class & value & n & variable\\_w\\_n\\\\\n",
       "  & <fct> & <chr> & <chr> & <chr> & <dbl> & <int> & <chr>\\\\\n",
       "\\hline\n",
       "\t71 & Normalized\\_X3\\_NK\\_\\_GZMB & 1 & TP1\\_bad & bad & 0.6514013 & 17 & Normalized\\_X3\\_NK\\_\\_GZMB (n=17)\\\\\n",
       "\t72 & Normalized\\_X3\\_NK\\_\\_GZMB & 1 & TP1\\_bad & bad & 0.7690888 & 17 & Normalized\\_X3\\_NK\\_\\_GZMB (n=17)\\\\\n",
       "\\end{tabular}\n"
      ],
      "text/markdown": [
       "\n",
       "A data.frame: 2 × 7\n",
       "\n",
       "| <!--/--> | variable &lt;fct&gt; | y &lt;chr&gt; | tp_outcome &lt;chr&gt; | delta_ef_value_class &lt;chr&gt; | value &lt;dbl&gt; | n &lt;int&gt; | variable_w_n &lt;chr&gt; |\n",
       "|---|---|---|---|---|---|---|---|\n",
       "| 71 | Normalized_X3_NK__GZMB | 1 | TP1_bad | bad | 0.6514013 | 17 | Normalized_X3_NK__GZMB (n=17) |\n",
       "| 72 | Normalized_X3_NK__GZMB | 1 | TP1_bad | bad | 0.7690888 | 17 | Normalized_X3_NK__GZMB (n=17) |\n",
       "\n"
      ],
      "text/plain": [
       "   variable               y tp_outcome delta_ef_value_class value     n \n",
       "71 Normalized_X3_NK__GZMB 1 TP1_bad    bad                  0.6514013 17\n",
       "72 Normalized_X3_NK__GZMB 1 TP1_bad    bad                  0.7690888 17\n",
       "   variable_w_n                 \n",
       "71 Normalized_X3_NK__GZMB (n=17)\n",
       "72 Normalized_X3_NK__GZMB (n=17)"
      ]
     },
     "metadata": {},
     "output_type": "display_data"
    }
   ],
   "source": [
    "head(test,2)"
   ]
  },
  {
   "cell_type": "code",
   "execution_count": 256,
   "id": "132b7d05-fe67-43b1-bc24-feea6d7f251e",
   "metadata": {},
   "outputs": [
    {
     "data": {
      "text/html": [
       "<table class=\"dataframe\">\n",
       "<caption>A data.frame: 17 × 7</caption>\n",
       "<thead>\n",
       "\t<tr><th></th><th scope=col>variable</th><th scope=col>y</th><th scope=col>tp_outcome</th><th scope=col>delta_ef_value_class</th><th scope=col>value</th><th scope=col>n</th><th scope=col>variable_w_n</th></tr>\n",
       "\t<tr><th></th><th scope=col>&lt;fct&gt;</th><th scope=col>&lt;chr&gt;</th><th scope=col>&lt;chr&gt;</th><th scope=col>&lt;chr&gt;</th><th scope=col>&lt;dbl&gt;</th><th scope=col>&lt;int&gt;</th><th scope=col>&lt;chr&gt;</th></tr>\n",
       "</thead>\n",
       "<tbody>\n",
       "\t<tr><th scope=row>83</th><td>Normalized_X3_NK__GZMB</td><td>0</td><td>TP1_good</td><td>good        </td><td>1.0000000</td><td>17</td><td>Normalized_X3_NK__GZMB (n=17)</td></tr>\n",
       "\t<tr><th scope=row>77</th><td>Normalized_X3_NK__GZMB</td><td>0</td><td>TP1_good</td><td>good        </td><td>0.8545124</td><td>17</td><td>Normalized_X3_NK__GZMB (n=17)</td></tr>\n",
       "\t<tr><th scope=row>87</th><td>Normalized_X3_NK__GZMB</td><td>0</td><td>TP1_good</td><td>good        </td><td>0.8028915</td><td>17</td><td>Normalized_X3_NK__GZMB (n=17)</td></tr>\n",
       "\t<tr><th scope=row>72</th><td>Normalized_X3_NK__GZMB</td><td>1</td><td>TP1_bad </td><td>bad         </td><td>0.7690888</td><td>17</td><td>Normalized_X3_NK__GZMB (n=17)</td></tr>\n",
       "\t<tr><th scope=row>85</th><td>Normalized_X3_NK__GZMB</td><td>0</td><td>TP1_good</td><td>intermediate</td><td>0.7383921</td><td>17</td><td>Normalized_X3_NK__GZMB (n=17)</td></tr>\n",
       "\t<tr><th scope=row>78</th><td>Normalized_X3_NK__GZMB</td><td>0</td><td>TP1_good</td><td>intermediate</td><td>0.7101498</td><td>17</td><td>Normalized_X3_NK__GZMB (n=17)</td></tr>\n",
       "\t<tr><th scope=row>74</th><td>Normalized_X3_NK__GZMB</td><td>1</td><td>TP1_bad </td><td>bad         </td><td>0.6838963</td><td>17</td><td>Normalized_X3_NK__GZMB (n=17)</td></tr>\n",
       "\t<tr><th scope=row>71</th><td>Normalized_X3_NK__GZMB</td><td>1</td><td>TP1_bad </td><td>bad         </td><td>0.6514013</td><td>17</td><td>Normalized_X3_NK__GZMB (n=17)</td></tr>\n",
       "\t<tr><th scope=row>79</th><td>Normalized_X3_NK__GZMB</td><td>0</td><td>TP1_good</td><td>intermediate</td><td>0.6212345</td><td>17</td><td>Normalized_X3_NK__GZMB (n=17)</td></tr>\n",
       "\t<tr><th scope=row>82</th><td>Normalized_X3_NK__GZMB</td><td>1</td><td>TP1_bad </td><td>bad         </td><td>0.6212345</td><td>17</td><td>Normalized_X3_NK__GZMB (n=17)</td></tr>\n",
       "\t<tr><th scope=row>84</th><td>Normalized_X3_NK__GZMB</td><td>0</td><td>TP1_good</td><td>intermediate</td><td>0.4275791</td><td>17</td><td>Normalized_X3_NK__GZMB (n=17)</td></tr>\n",
       "\t<tr><th scope=row>75</th><td>Normalized_X3_NK__GZMB</td><td>0</td><td>TP1_good</td><td>good        </td><td>0.3967013</td><td>17</td><td>Normalized_X3_NK__GZMB (n=17)</td></tr>\n",
       "\t<tr><th scope=row>80</th><td>Normalized_X3_NK__GZMB</td><td>0</td><td>TP1_good</td><td>intermediate</td><td>0.3967013</td><td>17</td><td>Normalized_X3_NK__GZMB (n=17)</td></tr>\n",
       "\t<tr><th scope=row>73</th><td>Normalized_X3_NK__GZMB</td><td>0</td><td>TP1_good</td><td>good        </td><td>0.3138158</td><td>17</td><td>Normalized_X3_NK__GZMB (n=17)</td></tr>\n",
       "\t<tr><th scope=row>86</th><td>Normalized_X3_NK__GZMB</td><td>0</td><td>TP1_good</td><td>intermediate</td><td>0.2532803</td><td>17</td><td>Normalized_X3_NK__GZMB (n=17)</td></tr>\n",
       "\t<tr><th scope=row>81</th><td>Normalized_X3_NK__GZMB</td><td>0</td><td>TP1_good</td><td>intermediate</td><td>0.2166178</td><td>17</td><td>Normalized_X3_NK__GZMB (n=17)</td></tr>\n",
       "\t<tr><th scope=row>76</th><td>Normalized_X3_NK__GZMB</td><td>0</td><td>TP1_good</td><td>good        </td><td>0.0000000</td><td>17</td><td>Normalized_X3_NK__GZMB (n=17)</td></tr>\n",
       "</tbody>\n",
       "</table>\n"
      ],
      "text/latex": [
       "A data.frame: 17 × 7\n",
       "\\begin{tabular}{r|lllllll}\n",
       "  & variable & y & tp\\_outcome & delta\\_ef\\_value\\_class & value & n & variable\\_w\\_n\\\\\n",
       "  & <fct> & <chr> & <chr> & <chr> & <dbl> & <int> & <chr>\\\\\n",
       "\\hline\n",
       "\t83 & Normalized\\_X3\\_NK\\_\\_GZMB & 0 & TP1\\_good & good         & 1.0000000 & 17 & Normalized\\_X3\\_NK\\_\\_GZMB (n=17)\\\\\n",
       "\t77 & Normalized\\_X3\\_NK\\_\\_GZMB & 0 & TP1\\_good & good         & 0.8545124 & 17 & Normalized\\_X3\\_NK\\_\\_GZMB (n=17)\\\\\n",
       "\t87 & Normalized\\_X3\\_NK\\_\\_GZMB & 0 & TP1\\_good & good         & 0.8028915 & 17 & Normalized\\_X3\\_NK\\_\\_GZMB (n=17)\\\\\n",
       "\t72 & Normalized\\_X3\\_NK\\_\\_GZMB & 1 & TP1\\_bad  & bad          & 0.7690888 & 17 & Normalized\\_X3\\_NK\\_\\_GZMB (n=17)\\\\\n",
       "\t85 & Normalized\\_X3\\_NK\\_\\_GZMB & 0 & TP1\\_good & intermediate & 0.7383921 & 17 & Normalized\\_X3\\_NK\\_\\_GZMB (n=17)\\\\\n",
       "\t78 & Normalized\\_X3\\_NK\\_\\_GZMB & 0 & TP1\\_good & intermediate & 0.7101498 & 17 & Normalized\\_X3\\_NK\\_\\_GZMB (n=17)\\\\\n",
       "\t74 & Normalized\\_X3\\_NK\\_\\_GZMB & 1 & TP1\\_bad  & bad          & 0.6838963 & 17 & Normalized\\_X3\\_NK\\_\\_GZMB (n=17)\\\\\n",
       "\t71 & Normalized\\_X3\\_NK\\_\\_GZMB & 1 & TP1\\_bad  & bad          & 0.6514013 & 17 & Normalized\\_X3\\_NK\\_\\_GZMB (n=17)\\\\\n",
       "\t79 & Normalized\\_X3\\_NK\\_\\_GZMB & 0 & TP1\\_good & intermediate & 0.6212345 & 17 & Normalized\\_X3\\_NK\\_\\_GZMB (n=17)\\\\\n",
       "\t82 & Normalized\\_X3\\_NK\\_\\_GZMB & 1 & TP1\\_bad  & bad          & 0.6212345 & 17 & Normalized\\_X3\\_NK\\_\\_GZMB (n=17)\\\\\n",
       "\t84 & Normalized\\_X3\\_NK\\_\\_GZMB & 0 & TP1\\_good & intermediate & 0.4275791 & 17 & Normalized\\_X3\\_NK\\_\\_GZMB (n=17)\\\\\n",
       "\t75 & Normalized\\_X3\\_NK\\_\\_GZMB & 0 & TP1\\_good & good         & 0.3967013 & 17 & Normalized\\_X3\\_NK\\_\\_GZMB (n=17)\\\\\n",
       "\t80 & Normalized\\_X3\\_NK\\_\\_GZMB & 0 & TP1\\_good & intermediate & 0.3967013 & 17 & Normalized\\_X3\\_NK\\_\\_GZMB (n=17)\\\\\n",
       "\t73 & Normalized\\_X3\\_NK\\_\\_GZMB & 0 & TP1\\_good & good         & 0.3138158 & 17 & Normalized\\_X3\\_NK\\_\\_GZMB (n=17)\\\\\n",
       "\t86 & Normalized\\_X3\\_NK\\_\\_GZMB & 0 & TP1\\_good & intermediate & 0.2532803 & 17 & Normalized\\_X3\\_NK\\_\\_GZMB (n=17)\\\\\n",
       "\t81 & Normalized\\_X3\\_NK\\_\\_GZMB & 0 & TP1\\_good & intermediate & 0.2166178 & 17 & Normalized\\_X3\\_NK\\_\\_GZMB (n=17)\\\\\n",
       "\t76 & Normalized\\_X3\\_NK\\_\\_GZMB & 0 & TP1\\_good & good         & 0.0000000 & 17 & Normalized\\_X3\\_NK\\_\\_GZMB (n=17)\\\\\n",
       "\\end{tabular}\n"
      ],
      "text/markdown": [
       "\n",
       "A data.frame: 17 × 7\n",
       "\n",
       "| <!--/--> | variable &lt;fct&gt; | y &lt;chr&gt; | tp_outcome &lt;chr&gt; | delta_ef_value_class &lt;chr&gt; | value &lt;dbl&gt; | n &lt;int&gt; | variable_w_n &lt;chr&gt; |\n",
       "|---|---|---|---|---|---|---|---|\n",
       "| 83 | Normalized_X3_NK__GZMB | 0 | TP1_good | good         | 1.0000000 | 17 | Normalized_X3_NK__GZMB (n=17) |\n",
       "| 77 | Normalized_X3_NK__GZMB | 0 | TP1_good | good         | 0.8545124 | 17 | Normalized_X3_NK__GZMB (n=17) |\n",
       "| 87 | Normalized_X3_NK__GZMB | 0 | TP1_good | good         | 0.8028915 | 17 | Normalized_X3_NK__GZMB (n=17) |\n",
       "| 72 | Normalized_X3_NK__GZMB | 1 | TP1_bad  | bad          | 0.7690888 | 17 | Normalized_X3_NK__GZMB (n=17) |\n",
       "| 85 | Normalized_X3_NK__GZMB | 0 | TP1_good | intermediate | 0.7383921 | 17 | Normalized_X3_NK__GZMB (n=17) |\n",
       "| 78 | Normalized_X3_NK__GZMB | 0 | TP1_good | intermediate | 0.7101498 | 17 | Normalized_X3_NK__GZMB (n=17) |\n",
       "| 74 | Normalized_X3_NK__GZMB | 1 | TP1_bad  | bad          | 0.6838963 | 17 | Normalized_X3_NK__GZMB (n=17) |\n",
       "| 71 | Normalized_X3_NK__GZMB | 1 | TP1_bad  | bad          | 0.6514013 | 17 | Normalized_X3_NK__GZMB (n=17) |\n",
       "| 79 | Normalized_X3_NK__GZMB | 0 | TP1_good | intermediate | 0.6212345 | 17 | Normalized_X3_NK__GZMB (n=17) |\n",
       "| 82 | Normalized_X3_NK__GZMB | 1 | TP1_bad  | bad          | 0.6212345 | 17 | Normalized_X3_NK__GZMB (n=17) |\n",
       "| 84 | Normalized_X3_NK__GZMB | 0 | TP1_good | intermediate | 0.4275791 | 17 | Normalized_X3_NK__GZMB (n=17) |\n",
       "| 75 | Normalized_X3_NK__GZMB | 0 | TP1_good | good         | 0.3967013 | 17 | Normalized_X3_NK__GZMB (n=17) |\n",
       "| 80 | Normalized_X3_NK__GZMB | 0 | TP1_good | intermediate | 0.3967013 | 17 | Normalized_X3_NK__GZMB (n=17) |\n",
       "| 73 | Normalized_X3_NK__GZMB | 0 | TP1_good | good         | 0.3138158 | 17 | Normalized_X3_NK__GZMB (n=17) |\n",
       "| 86 | Normalized_X3_NK__GZMB | 0 | TP1_good | intermediate | 0.2532803 | 17 | Normalized_X3_NK__GZMB (n=17) |\n",
       "| 81 | Normalized_X3_NK__GZMB | 0 | TP1_good | intermediate | 0.2166178 | 17 | Normalized_X3_NK__GZMB (n=17) |\n",
       "| 76 | Normalized_X3_NK__GZMB | 0 | TP1_good | good         | 0.0000000 | 17 | Normalized_X3_NK__GZMB (n=17) |\n",
       "\n"
      ],
      "text/plain": [
       "   variable               y tp_outcome delta_ef_value_class value     n \n",
       "83 Normalized_X3_NK__GZMB 0 TP1_good   good                 1.0000000 17\n",
       "77 Normalized_X3_NK__GZMB 0 TP1_good   good                 0.8545124 17\n",
       "87 Normalized_X3_NK__GZMB 0 TP1_good   good                 0.8028915 17\n",
       "72 Normalized_X3_NK__GZMB 1 TP1_bad    bad                  0.7690888 17\n",
       "85 Normalized_X3_NK__GZMB 0 TP1_good   intermediate         0.7383921 17\n",
       "78 Normalized_X3_NK__GZMB 0 TP1_good   intermediate         0.7101498 17\n",
       "74 Normalized_X3_NK__GZMB 1 TP1_bad    bad                  0.6838963 17\n",
       "71 Normalized_X3_NK__GZMB 1 TP1_bad    bad                  0.6514013 17\n",
       "79 Normalized_X3_NK__GZMB 0 TP1_good   intermediate         0.6212345 17\n",
       "82 Normalized_X3_NK__GZMB 1 TP1_bad    bad                  0.6212345 17\n",
       "84 Normalized_X3_NK__GZMB 0 TP1_good   intermediate         0.4275791 17\n",
       "75 Normalized_X3_NK__GZMB 0 TP1_good   good                 0.3967013 17\n",
       "80 Normalized_X3_NK__GZMB 0 TP1_good   intermediate         0.3967013 17\n",
       "73 Normalized_X3_NK__GZMB 0 TP1_good   good                 0.3138158 17\n",
       "86 Normalized_X3_NK__GZMB 0 TP1_good   intermediate         0.2532803 17\n",
       "81 Normalized_X3_NK__GZMB 0 TP1_good   intermediate         0.2166178 17\n",
       "76 Normalized_X3_NK__GZMB 0 TP1_good   good                 0.0000000 17\n",
       "   variable_w_n                 \n",
       "83 Normalized_X3_NK__GZMB (n=17)\n",
       "77 Normalized_X3_NK__GZMB (n=17)\n",
       "87 Normalized_X3_NK__GZMB (n=17)\n",
       "72 Normalized_X3_NK__GZMB (n=17)\n",
       "85 Normalized_X3_NK__GZMB (n=17)\n",
       "78 Normalized_X3_NK__GZMB (n=17)\n",
       "74 Normalized_X3_NK__GZMB (n=17)\n",
       "71 Normalized_X3_NK__GZMB (n=17)\n",
       "79 Normalized_X3_NK__GZMB (n=17)\n",
       "82 Normalized_X3_NK__GZMB (n=17)\n",
       "84 Normalized_X3_NK__GZMB (n=17)\n",
       "75 Normalized_X3_NK__GZMB (n=17)\n",
       "80 Normalized_X3_NK__GZMB (n=17)\n",
       "73 Normalized_X3_NK__GZMB (n=17)\n",
       "86 Normalized_X3_NK__GZMB (n=17)\n",
       "81 Normalized_X3_NK__GZMB (n=17)\n",
       "76 Normalized_X3_NK__GZMB (n=17)"
      ]
     },
     "metadata": {},
     "output_type": "display_data"
    }
   ],
   "source": [
    "test[order(test$value, decreasing = TRUE),]"
   ]
  },
  {
   "cell_type": "code",
   "execution_count": null,
   "id": "7e2b12df-1130-45be-b523-ae0d823772b1",
   "metadata": {},
   "outputs": [],
   "source": []
  },
  {
   "cell_type": "code",
   "execution_count": 257,
   "id": "9b0f9a88-6a59-440a-b254-9012749f9973",
   "metadata": {},
   "outputs": [],
   "source": [
    "# Figure Name\n",
    "#figure_name = 'FIG10_E9_ROC_Factor4_TP1'"
   ]
  },
  {
   "cell_type": "code",
   "execution_count": 258,
   "id": "c43b09f9-ee67-42e2-bc21-1c252b492cc5",
   "metadata": {},
   "outputs": [],
   "source": [
    "# Sizes of the plot\n",
    "width_par = 2\n",
    "height_par = 2"
   ]
  },
  {
   "cell_type": "code",
   "execution_count": 259,
   "id": "5626c24c-2c52-4454-95b3-a24973a9ae90",
   "metadata": {},
   "outputs": [],
   "source": [
    "xtitle = xlab( 'False Positive Fraction')\n",
    "ytitle  = ylab('Sensititity')"
   ]
  },
  {
   "cell_type": "code",
   "execution_count": 260,
   "id": "bd734240-3554-43a6-967b-3bcb77ac34d0",
   "metadata": {},
   "outputs": [],
   "source": [
    "auc_values = data.frame()"
   ]
  },
  {
   "cell_type": "code",
   "execution_count": 261,
   "id": "c1b4565e-4cb2-41c3-bfec-68b391f649df",
   "metadata": {},
   "outputs": [
    {
     "name": "stderr",
     "output_type": "stream",
     "text": [
      "Setting levels: control = 0, case = 1\n",
      "\n",
      "Setting direction: controls < cases\n",
      "\n",
      "Setting levels: control = 0, case = 1\n",
      "\n",
      "Setting direction: controls < cases\n",
      "\n",
      "Setting levels: control = 0, case = 1\n",
      "\n",
      "Setting direction: controls > cases\n",
      "\n",
      "Setting levels: control = 0, case = 1\n",
      "\n",
      "Setting direction: controls < cases\n",
      "\n",
      "Setting levels: control = 0, case = 1\n",
      "\n",
      "Setting direction: controls < cases\n",
      "\n",
      "Setting levels: control = 0, case = 1\n",
      "\n",
      "Setting direction: controls < cases\n",
      "\n",
      "Setting levels: control = 0, case = 1\n",
      "\n",
      "Setting direction: controls < cases\n",
      "\n",
      "Setting levels: control = 0, case = 1\n",
      "\n",
      "Setting direction: controls < cases\n",
      "\n"
     ]
    }
   ],
   "source": [
    "for(i in unique(prediction_data_long$variable)){\n",
    "    calc_auc = data.frame(variable = i, \n",
    "                          auc = auc(prediction_data_long$y[prediction_data_long$variable == i], prediction_data_long$value[prediction_data_long$variable == i])\n",
    "                          )\n",
    "    auc_values = rbind(auc_values, calc_auc)\n",
    "    }"
   ]
  },
  {
   "cell_type": "code",
   "execution_count": 262,
   "id": "f2efa479-caa9-4699-b9f5-5bcff58bb1a3",
   "metadata": {},
   "outputs": [
    {
     "data": {
      "text/html": [
       "<table class=\"dataframe\">\n",
       "<caption>A data.frame: 8 × 2</caption>\n",
       "<thead>\n",
       "\t<tr><th scope=col>variable</th><th scope=col>auc</th></tr>\n",
       "\t<tr><th scope=col>&lt;chr&gt;</th><th scope=col>&lt;auc&gt;</th></tr>\n",
       "</thead>\n",
       "<tbody>\n",
       "\t<tr><td>Factor4                </td><td>0.8333333</td></tr>\n",
       "\t<tr><td>Normalized_X3_NK__CD53 </td><td>0.8076923</td></tr>\n",
       "\t<tr><td>Normalized_X3_NK__CST7 </td><td>0.4711538</td></tr>\n",
       "\t<tr><td>Normalized_X3_NK__FYN  </td><td>0.4230769</td></tr>\n",
       "\t<tr><td>Normalized_X3_NK__GZMB </td><td>0.6442308</td></tr>\n",
       "\t<tr><td>Normalized_X3_NK__LITAF</td><td>0.5384615</td></tr>\n",
       "\t<tr><td>Normalized_X3_NK__PRF1 </td><td>0.5673077</td></tr>\n",
       "\t<tr><td>Normalized_X3_NK__TXNIP</td><td>0.7980769</td></tr>\n",
       "</tbody>\n",
       "</table>\n"
      ],
      "text/latex": [
       "A data.frame: 8 × 2\n",
       "\\begin{tabular}{ll}\n",
       " variable & auc\\\\\n",
       " <chr> & <auc>\\\\\n",
       "\\hline\n",
       "\t Factor4                 & 0.8333333\\\\\n",
       "\t Normalized\\_X3\\_NK\\_\\_CD53  & 0.8076923\\\\\n",
       "\t Normalized\\_X3\\_NK\\_\\_CST7  & 0.4711538\\\\\n",
       "\t Normalized\\_X3\\_NK\\_\\_FYN   & 0.4230769\\\\\n",
       "\t Normalized\\_X3\\_NK\\_\\_GZMB  & 0.6442308\\\\\n",
       "\t Normalized\\_X3\\_NK\\_\\_LITAF & 0.5384615\\\\\n",
       "\t Normalized\\_X3\\_NK\\_\\_PRF1  & 0.5673077\\\\\n",
       "\t Normalized\\_X3\\_NK\\_\\_TXNIP & 0.7980769\\\\\n",
       "\\end{tabular}\n"
      ],
      "text/markdown": [
       "\n",
       "A data.frame: 8 × 2\n",
       "\n",
       "| variable &lt;chr&gt; | auc &lt;auc&gt; |\n",
       "|---|---|\n",
       "| Factor4                 | 0.8333333 |\n",
       "| Normalized_X3_NK__CD53  | 0.8076923 |\n",
       "| Normalized_X3_NK__CST7  | 0.4711538 |\n",
       "| Normalized_X3_NK__FYN   | 0.4230769 |\n",
       "| Normalized_X3_NK__GZMB  | 0.6442308 |\n",
       "| Normalized_X3_NK__LITAF | 0.5384615 |\n",
       "| Normalized_X3_NK__PRF1  | 0.5673077 |\n",
       "| Normalized_X3_NK__TXNIP | 0.7980769 |\n",
       "\n"
      ],
      "text/plain": [
       "  variable                auc      \n",
       "1 Factor4                 0.8333333\n",
       "2 Normalized_X3_NK__CD53  0.8076923\n",
       "3 Normalized_X3_NK__CST7  0.4711538\n",
       "4 Normalized_X3_NK__FYN   0.4230769\n",
       "5 Normalized_X3_NK__GZMB  0.6442308\n",
       "6 Normalized_X3_NK__LITAF 0.5384615\n",
       "7 Normalized_X3_NK__PRF1  0.5673077\n",
       "8 Normalized_X3_NK__TXNIP 0.7980769"
      ]
     },
     "metadata": {},
     "output_type": "display_data"
    }
   ],
   "source": [
    "auc_values"
   ]
  },
  {
   "cell_type": "code",
   "execution_count": 263,
   "id": "3a6de357-c472-40f5-a7c6-381a3458c78c",
   "metadata": {},
   "outputs": [],
   "source": [
    "## Specify Plot\n",
    "rocplot = ggplot(prediction_data_long, aes(m = value, d = as.numeric(y), color = variable_w_n, linetype= variable_w_n))+ geom_roc(n.cuts=0,labels=FALSE, size = 0.5)"
   ]
  },
  {
   "cell_type": "code",
   "execution_count": 264,
   "id": "cbcc978b-c3df-4c6d-a5be-c7335ad89565",
   "metadata": {},
   "outputs": [
    {
     "data": {
      "text/html": [
       "<style>\n",
       ".list-inline {list-style: none; margin:0; padding: 0}\n",
       ".list-inline>li {display: inline-block}\n",
       ".list-inline>li:not(:last-child)::after {content: \"\\00b7\"; padding: 0 .5ex}\n",
       "</style>\n",
       "<ol class=list-inline><li>'Factor4 (n=19)'</li><li>'Normalized_X3_NK__CD53 (n=17)'</li><li>'Normalized_X3_NK__CST7 (n=17)'</li><li>'Normalized_X3_NK__FYN (n=17)'</li><li>'Normalized_X3_NK__GZMB (n=17)'</li><li>'Normalized_X3_NK__LITAF (n=17)'</li><li>'Normalized_X3_NK__PRF1 (n=17)'</li><li>'Normalized_X3_NK__TXNIP (n=17)'</li></ol>\n"
      ],
      "text/latex": [
       "\\begin{enumerate*}\n",
       "\\item 'Factor4 (n=19)'\n",
       "\\item 'Normalized\\_X3\\_NK\\_\\_CD53 (n=17)'\n",
       "\\item 'Normalized\\_X3\\_NK\\_\\_CST7 (n=17)'\n",
       "\\item 'Normalized\\_X3\\_NK\\_\\_FYN (n=17)'\n",
       "\\item 'Normalized\\_X3\\_NK\\_\\_GZMB (n=17)'\n",
       "\\item 'Normalized\\_X3\\_NK\\_\\_LITAF (n=17)'\n",
       "\\item 'Normalized\\_X3\\_NK\\_\\_PRF1 (n=17)'\n",
       "\\item 'Normalized\\_X3\\_NK\\_\\_TXNIP (n=17)'\n",
       "\\end{enumerate*}\n"
      ],
      "text/markdown": [
       "1. 'Factor4 (n=19)'\n",
       "2. 'Normalized_X3_NK__CD53 (n=17)'\n",
       "3. 'Normalized_X3_NK__CST7 (n=17)'\n",
       "4. 'Normalized_X3_NK__FYN (n=17)'\n",
       "5. 'Normalized_X3_NK__GZMB (n=17)'\n",
       "6. 'Normalized_X3_NK__LITAF (n=17)'\n",
       "7. 'Normalized_X3_NK__PRF1 (n=17)'\n",
       "8. 'Normalized_X3_NK__TXNIP (n=17)'\n",
       "\n",
       "\n"
      ],
      "text/plain": [
       "[1] \"Factor4 (n=19)\"                 \"Normalized_X3_NK__CD53 (n=17)\" \n",
       "[3] \"Normalized_X3_NK__CST7 (n=17)\"  \"Normalized_X3_NK__FYN (n=17)\"  \n",
       "[5] \"Normalized_X3_NK__GZMB (n=17)\"  \"Normalized_X3_NK__LITAF (n=17)\"\n",
       "[7] \"Normalized_X3_NK__PRF1 (n=17)\"  \"Normalized_X3_NK__TXNIP (n=17)\""
      ]
     },
     "metadata": {},
     "output_type": "display_data"
    }
   ],
   "source": [
    "unique(prediction_data_long$variable_w_n)"
   ]
  },
  {
   "cell_type": "code",
   "execution_count": 265,
   "id": "04ba77dd-ebc5-4e67-9a07-f6ffb3e4779d",
   "metadata": {},
   "outputs": [
    {
     "data": {
      "image/png": "[encoded data removed]",
      "text/plain": [
       "plot without title"
      ]
     },
     "metadata": {
      "image/png": {
       "height": 120,
       "width": 1800
      }
     },
     "output_type": "display_data"
    }
   ],
   "source": [
    "## Configuration + Modification of plot\n",
    "roc_plot = rocplot + \n",
    "    plot_config + \n",
    "    xtitle + \n",
    "    ytitle + \n",
    "    ggtitle('ROC curve TP1 good vs. bad') +\n",
    "    geom_abline(slope = 1, intercept = 0) +\n",
    "    theme(legend.position = 'none')\n",
    "\n",
    "#legend_roc = get_legend(roc_plot)\n",
    "    \n",
    "\n",
    "roc_plot"
   ]
  },
  {
   "cell_type": "code",
   "execution_count": null,
   "id": "01a28281-5c42-490a-9702-2f4418b3fe9f",
   "metadata": {},
   "outputs": [],
   "source": []
  },
  {
   "cell_type": "code",
   "execution_count": null,
   "id": "9437a339-da84-42ef-9182-6688fc04695a",
   "metadata": {},
   "outputs": [],
   "source": []
  }
 ],
 "metadata": {
  "kernelspec": {
   "display_name": "R",
   "language": "R",
   "name": "ir"
  },
  "language_info": {
   "codemirror_mode": "r",
   "file_extension": ".r",
   "mimetype": "text/x-r-source",
   "name": "R",
   "pygments_lexer": "r",
   "version": "4.1.1"
  },
  "toc-autonumbering": true
 },
 "nbformat": 4,
 "nbformat_minor": 5
}

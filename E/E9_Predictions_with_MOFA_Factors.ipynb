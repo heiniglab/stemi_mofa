{
 "cells": [
  {
   "cell_type": "code",
   "execution_count": 1,
   "id": "41b5d304-a7a9-4ae9-99de-888d404c6671",
   "metadata": {},
   "outputs": [],
   "source": [
    "### Script for using MOFA factors as predictors"
   ]
  },
  {
   "cell_type": "markdown",
   "id": "ee762245-b417-40af-852f-8eb0889a3e92",
   "metadata": {
    "tags": []
   },
   "source": [
    "#############################################\n",
    "# Prerequisites - Load Libraries"
   ]
  },
  {
   "cell_type": "code",
   "execution_count": 2,
   "id": "55fcb791-1568-4bdd-b18c-0082f55e91fd",
   "metadata": {
    "collapsed": true,
    "jupyter": {
     "outputs_hidden": true
    },
    "tags": []
   },
   "outputs": [
    {
     "name": "stderr",
     "output_type": "stream",
     "text": [
      "Warning message in read.table(file = file, header = header, sep = sep, quote = quote, :\n",
      "“incomplete final line found by readTableHeader on '../conda_environment/Environment_Configs.csv'”\n"
     ]
    },
    {
     "name": "stdout",
     "output_type": "stream",
     "text": [
      "[1] \"/home/icb/corinna.losert/miniconda3/envs/stark_stemi_R_Env_4_1//lib/R/library\"\n"
     ]
    },
    {
     "name": "stderr",
     "output_type": "stream",
     "text": [
      "\n",
      "Attaching package: ‘igraph’\n",
      "\n",
      "\n",
      "The following objects are masked from ‘package:stats’:\n",
      "\n",
      "    decompose, spectrum\n",
      "\n",
      "\n",
      "The following object is masked from ‘package:base’:\n",
      "\n",
      "    union\n",
      "\n",
      "\n",
      "\n",
      "Attaching package: ‘MatrixGenerics’\n",
      "\n",
      "\n",
      "The following objects are masked from ‘package:matrixStats’:\n",
      "\n",
      "    colAlls, colAnyNAs, colAnys, colAvgsPerRowSet, colCollapse,\n",
      "    colCounts, colCummaxs, colCummins, colCumprods, colCumsums,\n",
      "    colDiffs, colIQRDiffs, colIQRs, colLogSumExps, colMadDiffs,\n",
      "    colMads, colMaxs, colMeans2, colMedians, colMins, colOrderStats,\n",
      "    colProds, colQuantiles, colRanges, colRanks, colSdDiffs, colSds,\n",
      "    colSums2, colTabulates, colVarDiffs, colVars, colWeightedMads,\n",
      "    colWeightedMeans, colWeightedMedians, colWeightedSds,\n",
      "    colWeightedVars, rowAlls, rowAnyNAs, rowAnys, rowAvgsPerColSet,\n",
      "    rowCollapse, rowCounts, rowCummaxs, rowCummins, rowCumprods,\n",
      "    rowCumsums, rowDiffs, rowIQRDiffs, rowIQRs, rowLogSumExps,\n",
      "    rowMadDiffs, rowMads, rowMaxs, rowMeans2, rowMedians, rowMins,\n",
      "    rowOrderStats, rowProds, rowQuantiles, rowRanges, rowRanks,\n",
      "    rowSdDiffs, rowSds, rowSums2, rowTabulates, rowVarDiffs, rowVars,\n",
      "    rowWeightedMads, rowWeightedMeans, rowWeightedMedians,\n",
      "    rowWeightedSds, rowWeightedVars\n",
      "\n",
      "\n",
      "\n",
      "Attaching package: ‘BiocGenerics’\n",
      "\n",
      "\n",
      "The following objects are masked from ‘package:parallel’:\n",
      "\n",
      "    clusterApply, clusterApplyLB, clusterCall, clusterEvalQ,\n",
      "    clusterExport, clusterMap, parApply, parCapply, parLapply,\n",
      "    parLapplyLB, parRapply, parSapply, parSapplyLB\n",
      "\n",
      "\n",
      "The following objects are masked from ‘package:igraph’:\n",
      "\n",
      "    normalize, path, union\n",
      "\n",
      "\n",
      "The following objects are masked from ‘package:stats’:\n",
      "\n",
      "    IQR, mad, sd, var, xtabs\n",
      "\n",
      "\n",
      "The following objects are masked from ‘package:base’:\n",
      "\n",
      "    anyDuplicated, append, as.data.frame, basename, cbind, colnames,\n",
      "    dirname, do.call, duplicated, eval, evalq, Filter, Find, get, grep,\n",
      "    grepl, intersect, is.unsorted, lapply, Map, mapply, match, mget,\n",
      "    order, paste, pmax, pmax.int, pmin, pmin.int, Position, rank,\n",
      "    rbind, Reduce, rownames, sapply, setdiff, sort, table, tapply,\n",
      "    union, unique, unsplit, which.max, which.min\n",
      "\n",
      "\n",
      "\n",
      "Attaching package: ‘S4Vectors’\n",
      "\n",
      "\n",
      "The following objects are masked from ‘package:base’:\n",
      "\n",
      "    expand.grid, I, unname\n",
      "\n",
      "\n",
      "Welcome to Bioconductor\n",
      "\n",
      "    Vignettes contain introductory material; view with\n",
      "    'browseVignettes()'. To cite Bioconductor, see\n",
      "    'citation(\"Biobase\")', and for packages 'citation(\"pkgname\")'.\n",
      "\n",
      "\n",
      "\n",
      "Attaching package: ‘Biobase’\n",
      "\n",
      "\n",
      "The following object is masked from ‘package:MatrixGenerics’:\n",
      "\n",
      "    rowMedians\n",
      "\n",
      "\n",
      "The following objects are masked from ‘package:matrixStats’:\n",
      "\n",
      "    anyMissing, rowMedians\n",
      "\n",
      "\n",
      "\n",
      "Attaching package: ‘sp’\n",
      "\n",
      "\n",
      "The following object is masked from ‘package:IRanges’:\n",
      "\n",
      "    %over%\n",
      "\n",
      "\n",
      "\n",
      "Attaching package: ‘SeuratObject’\n",
      "\n",
      "\n",
      "The following object is masked from ‘package:SummarizedExperiment’:\n",
      "\n",
      "    Assays\n",
      "\n",
      "\n",
      "The following object is masked from ‘package:GenomicRanges’:\n",
      "\n",
      "    intersect\n",
      "\n",
      "\n",
      "The following object is masked from ‘package:GenomeInfoDb’:\n",
      "\n",
      "    intersect\n",
      "\n",
      "\n",
      "The following object is masked from ‘package:IRanges’:\n",
      "\n",
      "    intersect\n",
      "\n",
      "\n",
      "The following object is masked from ‘package:S4Vectors’:\n",
      "\n",
      "    intersect\n",
      "\n",
      "\n",
      "The following object is masked from ‘package:BiocGenerics’:\n",
      "\n",
      "    intersect\n",
      "\n",
      "\n",
      "The following object is masked from ‘package:base’:\n",
      "\n",
      "    intersect\n",
      "\n",
      "\n",
      "\n",
      "Attaching package: ‘Seurat’\n",
      "\n",
      "\n",
      "The following object is masked from ‘package:SummarizedExperiment’:\n",
      "\n",
      "    Assays\n",
      "\n",
      "\n",
      "The following object is masked from ‘package:igraph’:\n",
      "\n",
      "    components\n",
      "\n",
      "\n",
      "\n",
      "Attaching package: ‘Matrix’\n",
      "\n",
      "\n",
      "The following object is masked from ‘package:S4Vectors’:\n",
      "\n",
      "    expand\n",
      "\n",
      "\n",
      "\n",
      "Attaching package: ‘DelayedArray’\n",
      "\n",
      "\n",
      "The following object is masked from ‘package:igraph’:\n",
      "\n",
      "    simplify\n",
      "\n",
      "\n",
      "The following objects are masked from ‘package:base’:\n",
      "\n",
      "    aperm, apply, rowsum, scale, sweep\n",
      "\n",
      "\n",
      "\n",
      "Attaching package: ‘HDF5Array’\n",
      "\n",
      "\n",
      "The following object is masked from ‘package:rhdf5’:\n",
      "\n",
      "    h5ls\n",
      "\n",
      "\n",
      "Warning message in if (is.na(desc)) {:\n",
      "“the condition has length > 1 and only the first element will be used”\n",
      "Warning message in if (is.na(desc)) {:\n",
      "“the condition has length > 1 and only the first element will be used”\n",
      "Warning message in if (is.na(desc)) {:\n",
      "“the condition has length > 1 and only the first element will be used”\n",
      "Warning message in if (is.na(desc)) {:\n",
      "“the condition has length > 1 and only the first element will be used”\n",
      "Warning message in if (is.na(desc)) {:\n",
      "“the condition has length > 1 and only the first element will be used”\n",
      "Warning message in if (is.na(desc)) {:\n",
      "“the condition has length > 1 and only the first element will be used”\n",
      "Warning message in if (is.na(desc)) {:\n",
      "“the condition has length > 1 and only the first element will be used”\n",
      "Warning message in if (is.na(desc)) {:\n",
      "“the condition has length > 1 and only the first element will be used”\n",
      "Warning message in if (is.na(desc)) {:\n",
      "“the condition has length > 1 and only the first element will be used”\n",
      "Warning message in if (is.na(desc)) {:\n",
      "“the condition has length > 1 and only the first element will be used”\n",
      "Warning message in if (is.na(desc)) {:\n",
      "“the condition has length > 1 and only the first element will be used”\n",
      "Warning message in if (is.na(desc)) {:\n",
      "“the condition has length > 1 and only the first element will be used”\n",
      "Warning message in if (is.na(desc)) {:\n",
      "“the condition has length > 1 and only the first element will be used”\n",
      "Warning message in if (is.na(desc)) {:\n",
      "“the condition has length > 1 and only the first element will be used”\n",
      "Warning message in if (is.na(desc)) {:\n",
      "“the condition has length > 1 and only the first element will be used”\n",
      "Warning message in if (is.na(desc)) {:\n",
      "“the condition has length > 1 and only the first element will be used”\n",
      "Warning message in if (is.na(desc)) {:\n",
      "“the condition has length > 1 and only the first element will be used”\n",
      "Warning message in if (is.na(desc)) {:\n",
      "“the condition has length > 1 and only the first element will be used”\n",
      "Warning message in if (is.na(desc)) {:\n",
      "“the condition has length > 1 and only the first element will be used”\n",
      "Warning message in if (is.na(desc)) {:\n",
      "“the condition has length > 1 and only the first element will be used”\n",
      "Warning message in if (is.na(desc)) {:\n",
      "“the condition has length > 1 and only the first element will be used”\n",
      "Warning message in if (is.na(desc)) {:\n",
      "“the condition has length > 1 and only the first element will be used”\n",
      "Warning message in if (is.na(desc)) {:\n",
      "“the condition has length > 1 and only the first element will be used”\n",
      "Registered S3 method overwritten by 'SeuratDisk':\n",
      "  method            from  \n",
      "  as.sparse.H5Group Seurat\n",
      "\n",
      "\n",
      "Attaching package: ‘gridExtra’\n",
      "\n",
      "\n",
      "The following object is masked from ‘package:Biobase’:\n",
      "\n",
      "    combine\n",
      "\n",
      "\n",
      "The following object is masked from ‘package:BiocGenerics’:\n",
      "\n",
      "    combine\n",
      "\n",
      "\n",
      "\n",
      "Attaching package: ‘dplyr’\n",
      "\n",
      "\n",
      "The following object is masked from ‘package:gridExtra’:\n",
      "\n",
      "    combine\n",
      "\n",
      "\n",
      "The following object is masked from ‘package:Biobase’:\n",
      "\n",
      "    combine\n",
      "\n",
      "\n",
      "The following objects are masked from ‘package:GenomicRanges’:\n",
      "\n",
      "    intersect, setdiff, union\n",
      "\n",
      "\n",
      "The following object is masked from ‘package:GenomeInfoDb’:\n",
      "\n",
      "    intersect\n",
      "\n",
      "\n",
      "The following objects are masked from ‘package:IRanges’:\n",
      "\n",
      "    collapse, desc, intersect, setdiff, slice, union\n",
      "\n",
      "\n",
      "The following objects are masked from ‘package:S4Vectors’:\n",
      "\n",
      "    first, intersect, rename, setdiff, setequal, union\n",
      "\n",
      "\n",
      "The following objects are masked from ‘package:BiocGenerics’:\n",
      "\n",
      "    combine, intersect, setdiff, union\n",
      "\n",
      "\n",
      "The following object is masked from ‘package:matrixStats’:\n",
      "\n",
      "    count\n",
      "\n",
      "\n",
      "The following objects are masked from ‘package:igraph’:\n",
      "\n",
      "    as_data_frame, groups, union\n",
      "\n",
      "\n",
      "The following objects are masked from ‘package:stats’:\n",
      "\n",
      "    filter, lag\n",
      "\n",
      "\n",
      "The following objects are masked from ‘package:base’:\n",
      "\n",
      "    intersect, setdiff, setequal, union\n",
      "\n",
      "\n",
      "\n",
      "Attaching package: ‘plotly’\n",
      "\n",
      "\n",
      "The following object is masked from ‘package:ggplot2’:\n",
      "\n",
      "    last_plot\n",
      "\n",
      "\n",
      "The following object is masked from ‘package:IRanges’:\n",
      "\n",
      "    slice\n",
      "\n",
      "\n",
      "The following object is masked from ‘package:S4Vectors’:\n",
      "\n",
      "    rename\n",
      "\n",
      "\n",
      "The following object is masked from ‘package:igraph’:\n",
      "\n",
      "    groups\n",
      "\n",
      "\n",
      "The following object is masked from ‘package:stats’:\n",
      "\n",
      "    filter\n",
      "\n",
      "\n",
      "The following object is masked from ‘package:graphics’:\n",
      "\n",
      "    layout\n",
      "\n",
      "\n",
      "Warning message in checkMatrixPackageVersion():\n",
      "“Package version inconsistency detected.\n",
      "TMB was built with Matrix version 1.5.3\n",
      "Current Matrix version is 1.6.4\n",
      "Please re-install 'TMB' from source using install.packages('TMB', type = 'source') or ask CRAN for a binary version of 'TMB' matching CRAN's 'Matrix' package”\n",
      "\n",
      "Attaching package: ‘limma’\n",
      "\n",
      "\n",
      "The following object is masked from ‘package:scater’:\n",
      "\n",
      "    plotMDS\n",
      "\n",
      "\n",
      "The following object is masked from ‘package:BiocGenerics’:\n",
      "\n",
      "    plotMA\n",
      "\n",
      "\n",
      "\n",
      "Attaching package: ‘DESeq2’\n",
      "\n",
      "\n",
      "The following object is masked from ‘package:scater’:\n",
      "\n",
      "    fpkm\n",
      "\n",
      "\n",
      "Loading required package: AnnotationDbi\n",
      "\n",
      "\n",
      "Attaching package: ‘AnnotationDbi’\n",
      "\n",
      "\n",
      "The following object is masked from ‘package:plotly’:\n",
      "\n",
      "    select\n",
      "\n",
      "\n",
      "The following object is masked from ‘package:dplyr’:\n",
      "\n",
      "    select\n",
      "\n",
      "\n",
      "\n",
      "\n",
      "\n",
      "\n",
      "Registered S3 method overwritten by 'ggtree':\n",
      "  method      from \n",
      "  identify.gg ggfun\n",
      "\n",
      "clusterProfiler v4.0.5  For help: https://yulab-smu.top/biomedical-knowledge-mining-book/\n",
      "\n",
      "If you use clusterProfiler in published research, please cite:\n",
      "T Wu, E Hu, S Xu, M Chen, P Guo, Z Dai, T Feng, L Zhou, W Tang, L Zhan, X Fu, S Liu, X Bo, and G Yu. clusterProfiler 4.0: A universal enrichment tool for interpreting omics data. The Innovation. 2021, 2(3):100141. doi: 10.1016/j.xinn.2021.100141\n",
      "\n",
      "\n",
      "Attaching package: ‘clusterProfiler’\n",
      "\n",
      "\n",
      "The following object is masked from ‘package:AnnotationDbi’:\n",
      "\n",
      "    select\n",
      "\n",
      "\n",
      "The following object is masked from ‘package:DelayedArray’:\n",
      "\n",
      "    simplify\n",
      "\n",
      "\n",
      "The following object is masked from ‘package:IRanges’:\n",
      "\n",
      "    slice\n",
      "\n",
      "\n",
      "The following object is masked from ‘package:S4Vectors’:\n",
      "\n",
      "    rename\n",
      "\n",
      "\n",
      "The following object is masked from ‘package:igraph’:\n",
      "\n",
      "    simplify\n",
      "\n",
      "\n",
      "The following object is masked from ‘package:stats’:\n",
      "\n",
      "    filter\n",
      "\n",
      "\n",
      "\n",
      "Attaching package: ‘data.table’\n",
      "\n",
      "\n",
      "The following objects are masked from ‘package:dplyr’:\n",
      "\n",
      "    between, first, last\n",
      "\n",
      "\n",
      "The following object is masked from ‘package:SummarizedExperiment’:\n",
      "\n",
      "    shift\n",
      "\n",
      "\n",
      "The following object is masked from ‘package:GenomicRanges’:\n",
      "\n",
      "    shift\n",
      "\n",
      "\n",
      "The following object is masked from ‘package:IRanges’:\n",
      "\n",
      "    shift\n",
      "\n",
      "\n",
      "The following objects are masked from ‘package:S4Vectors’:\n",
      "\n",
      "    first, second\n",
      "\n",
      "\n",
      "\n",
      "Attaching package: ‘MOFA2’\n",
      "\n",
      "\n",
      "The following object is masked from ‘package:stats’:\n",
      "\n",
      "    predict\n",
      "\n",
      "\n",
      "\n",
      "Attaching package: ‘ggraph’\n",
      "\n",
      "\n",
      "The following object is masked from ‘package:sp’:\n",
      "\n",
      "    geometry\n",
      "\n",
      "\n",
      "\n",
      "Attaching package: ‘Hmisc’\n",
      "\n",
      "\n",
      "The following object is masked from ‘package:MOFA2’:\n",
      "\n",
      "    impute\n",
      "\n",
      "\n",
      "The following object is masked from ‘package:AnnotationDbi’:\n",
      "\n",
      "    contents\n",
      "\n",
      "\n",
      "The following object is masked from ‘package:plotly’:\n",
      "\n",
      "    subplot\n",
      "\n",
      "\n",
      "The following objects are masked from ‘package:dplyr’:\n",
      "\n",
      "    src, summarize\n",
      "\n",
      "\n",
      "The following object is masked from ‘package:Seurat’:\n",
      "\n",
      "    Key\n",
      "\n",
      "\n",
      "The following object is masked from ‘package:SeuratObject’:\n",
      "\n",
      "    Key\n",
      "\n",
      "\n",
      "The following object is masked from ‘package:Biobase’:\n",
      "\n",
      "    contents\n",
      "\n",
      "\n",
      "The following objects are masked from ‘package:base’:\n",
      "\n",
      "    format.pval, units\n",
      "\n",
      "\n",
      "Registered S3 method overwritten by 'GGally':\n",
      "  method from   \n",
      "  +.gg   ggplot2\n",
      "\n",
      "\n",
      "Attaching package: ‘rstatix’\n",
      "\n",
      "\n",
      "The following object is masked from ‘package:AnnotationDbi’:\n",
      "\n",
      "    select\n",
      "\n",
      "\n",
      "The following object is masked from ‘package:IRanges’:\n",
      "\n",
      "    desc\n",
      "\n",
      "\n",
      "The following object is masked from ‘package:stats’:\n",
      "\n",
      "    filter\n",
      "\n",
      "\n",
      "corrplot 0.92 loaded\n",
      "\n",
      "\n",
      "‘network’ 1.18.1 (2023-01-24), part of the Statnet Project\n",
      "* ‘news(package=\"network\")’ for changes since last version\n",
      "* ‘citation(\"network\")’ for citation information\n",
      "* ‘https://statnet.org’ for help, support, and other information\n",
      "\n",
      "\n",
      "\n",
      "Attaching package: ‘network’\n",
      "\n",
      "\n",
      "The following object is masked from ‘package:Hmisc’:\n",
      "\n",
      "    is.discrete\n",
      "\n",
      "\n",
      "The following objects are masked from ‘package:igraph’:\n",
      "\n",
      "    %c%, %s%, add.edges, add.vertices, delete.edges, delete.vertices,\n",
      "    get.edge.attribute, get.edges, get.vertex.attribute, is.bipartite,\n",
      "    is.directed, list.edge.attributes, list.vertex.attributes,\n",
      "    set.edge.attribute, set.vertex.attribute\n",
      "\n",
      "\n",
      "\n",
      "Attaching package: ‘enrichplot’\n",
      "\n",
      "\n",
      "The following object is masked from ‘package:GGally’:\n",
      "\n",
      "    ggtable\n",
      "\n",
      "\n",
      "DOSE v3.18.3  For help: https://guangchuangyu.github.io/software/DOSE\n",
      "\n",
      "If you use DOSE in published research, please cite:\n",
      "Guangchuang Yu, Li-Gen Wang, Guang-Rong Yan, Qing-Yu He. DOSE: an R/Bioconductor package for Disease Ontology Semantic and Enrichment analysis. Bioinformatics 2015, 31(4):608-609\n",
      "\n",
      "\n",
      "\n",
      "Attaching package: ‘UpSetR’\n",
      "\n",
      "\n",
      "The following object is masked from ‘package:ComplexUpset’:\n",
      "\n",
      "    upset\n",
      "\n",
      "\n",
      "Registered S3 method overwritten by 'gdata':\n",
      "  method         from  \n",
      "  reorder.factor gplots\n",
      "\n",
      "gdata: read.xls support for 'XLS' (Excel 97-2004) files ENABLED.\n",
      "\n",
      "\n",
      "\n",
      "gdata: read.xls support for 'XLSX' (Excel 2007+) files ENABLED.\n",
      "\n",
      "\n",
      "Attaching package: ‘gdata’\n",
      "\n",
      "\n",
      "The following objects are masked from ‘package:data.table’:\n",
      "\n",
      "    first, last\n",
      "\n",
      "\n",
      "The following objects are masked from ‘package:dplyr’:\n",
      "\n",
      "    combine, first, last\n",
      "\n",
      "\n",
      "The following object is masked from ‘package:gridExtra’:\n",
      "\n",
      "    combine\n",
      "\n",
      "\n",
      "The following object is masked from ‘package:SummarizedExperiment’:\n",
      "\n",
      "    trim\n",
      "\n",
      "\n",
      "The following object is masked from ‘package:Biobase’:\n",
      "\n",
      "    combine\n",
      "\n",
      "\n",
      "The following object is masked from ‘package:GenomicRanges’:\n",
      "\n",
      "    trim\n",
      "\n",
      "\n",
      "The following objects are masked from ‘package:IRanges’:\n",
      "\n",
      "    startsWith, trim\n",
      "\n",
      "\n",
      "The following objects are masked from ‘package:S4Vectors’:\n",
      "\n",
      "    first, first<-\n",
      "\n",
      "\n",
      "The following object is masked from ‘package:BiocGenerics’:\n",
      "\n",
      "    combine\n",
      "\n",
      "\n",
      "The following object is masked from ‘package:stats4’:\n",
      "\n",
      "    nobs\n",
      "\n",
      "\n",
      "The following object is masked from ‘package:stats’:\n",
      "\n",
      "    nobs\n",
      "\n",
      "\n",
      "The following object is masked from ‘package:utils’:\n",
      "\n",
      "    object.size\n",
      "\n",
      "\n",
      "The following object is masked from ‘package:base’:\n",
      "\n",
      "    startsWith\n",
      "\n",
      "\n",
      "\n",
      "Attaching package: ‘reshape2’\n",
      "\n",
      "\n",
      "The following objects are masked from ‘package:data.table’:\n",
      "\n",
      "    dcast, melt\n",
      "\n",
      "\n",
      "ReactomePA v1.36.0  For help: https://yulab-smu.top/biomedical-knowledge-mining-book/reactomepa.html\n",
      "\n",
      "If you use ReactomePA in published research, please cite:\n",
      "Guangchuang Yu, Qing-Yu He. ReactomePA: an R/Bioconductor package for reactome pathway analysis and visualization. Molecular BioSystems 2016, 12(2):477-479\n",
      "\n",
      "Loading required package: mgcv\n",
      "\n",
      "Loading required package: nlme\n",
      "\n",
      "\n",
      "Attaching package: ‘nlme’\n",
      "\n",
      "\n",
      "The following object is masked from ‘package:dplyr’:\n",
      "\n",
      "    collapse\n",
      "\n",
      "\n",
      "The following object is masked from ‘package:IRanges’:\n",
      "\n",
      "    collapse\n",
      "\n",
      "\n",
      "This is mgcv 1.8-41. For overview type 'help(\"mgcv-package\")'.\n",
      "\n",
      "Loading required package: genefilter\n",
      "\n",
      "\n",
      "Attaching package: ‘genefilter’\n",
      "\n",
      "\n",
      "The following object is masked from ‘package:rstatix’:\n",
      "\n",
      "    Anova\n",
      "\n",
      "\n",
      "The following objects are masked from ‘package:MatrixGenerics’:\n",
      "\n",
      "    rowSds, rowVars\n",
      "\n",
      "\n",
      "The following objects are masked from ‘package:matrixStats’:\n",
      "\n",
      "    rowSds, rowVars\n",
      "\n",
      "\n",
      "Loading required package: BiocParallel\n",
      "\n",
      "\n",
      "Attaching package: ‘patchwork’\n",
      "\n",
      "\n",
      "The following object is masked from ‘package:genefilter’:\n",
      "\n",
      "    area\n",
      "\n",
      "\n",
      "The following object is masked from ‘package:cowplot’:\n",
      "\n",
      "    align_plots\n",
      "\n",
      "\n",
      "Type 'citation(\"pROC\")' for a citation.\n",
      "\n",
      "\n",
      "Attaching package: ‘pROC’\n",
      "\n",
      "\n",
      "The following object is masked from ‘package:colorspace’:\n",
      "\n",
      "    coords\n",
      "\n",
      "\n",
      "The following objects are masked from ‘package:IRanges’:\n",
      "\n",
      "    cov, var\n",
      "\n",
      "\n",
      "The following objects are masked from ‘package:S4Vectors’:\n",
      "\n",
      "    cov, var\n",
      "\n",
      "\n",
      "The following object is masked from ‘package:BiocGenerics’:\n",
      "\n",
      "    var\n",
      "\n",
      "\n",
      "The following objects are masked from ‘package:stats’:\n",
      "\n",
      "    cov, smooth, var\n",
      "\n",
      "\n",
      "Loaded glmnet 4.1-6\n",
      "\n",
      "\n",
      "Attaching package: ‘nnet’\n",
      "\n",
      "\n",
      "The following object is masked from ‘package:mgcv’:\n",
      "\n",
      "    multinom\n",
      "\n",
      "\n",
      "\n",
      "Attaching package: ‘dfidx’\n",
      "\n",
      "\n",
      "The following object is masked from ‘package:AnnotationDbi’:\n",
      "\n",
      "    select\n",
      "\n",
      "\n",
      "The following object is masked from ‘package:IRanges’:\n",
      "\n",
      "    slice\n",
      "\n",
      "\n",
      "The following object is masked from ‘package:stats’:\n",
      "\n",
      "    filter\n",
      "\n",
      "\n",
      "\n",
      "Attaching package: ‘cvAUC’\n",
      "\n",
      "\n",
      "The following object is masked from ‘package:genefilter’:\n",
      "\n",
      "    AUC\n",
      "\n",
      "\n",
      "Loading required package: maps\n",
      "\n",
      "Loading required package: shapefiles\n",
      "\n",
      "Loading required package: foreign\n",
      "\n",
      "\n",
      "Attaching package: ‘shapefiles’\n",
      "\n",
      "\n",
      "The following objects are masked from ‘package:foreign’:\n",
      "\n",
      "    read.dbf, write.dbf\n",
      "\n",
      "\n",
      "\n",
      "Attaching package: ‘plotROC’\n",
      "\n",
      "\n",
      "The following object is masked from ‘package:pROC’:\n",
      "\n",
      "    ggroc\n",
      "\n",
      "\n",
      "Welcome! Want to learn more? See two factoextra-related books at https://goo.gl/ve3WBa\n",
      "\n",
      "Loading required package: grid\n",
      "\n",
      "========================================\n",
      "ComplexHeatmap version 2.8.0\n",
      "Bioconductor page: http://bioconductor.org/packages/ComplexHeatmap/\n",
      "Github page: https://github.com/jokergoo/ComplexHeatmap\n",
      "Documentation: http://jokergoo.github.io/ComplexHeatmap-reference\n",
      "\n",
      "If you use it in published research, please cite:\n",
      "Gu, Z. Complex heatmaps reveal patterns and correlations in multidimensional \n",
      "  genomic data. Bioinformatics 2016.\n",
      "\n",
      "The new InteractiveComplexHeatmap package can directly export static \n",
      "complex heatmaps into an interactive Shiny app with zero effort. Have a try!\n",
      "\n",
      "This message can be suppressed by:\n",
      "  suppressPackageStartupMessages(library(ComplexHeatmap))\n",
      "========================================\n",
      "\n",
      "\n",
      "\n",
      "Attaching package: ‘ComplexHeatmap’\n",
      "\n",
      "\n",
      "The following object is masked from ‘package:genefilter’:\n",
      "\n",
      "    dist2\n",
      "\n",
      "\n",
      "The following object is masked from ‘package:network’:\n",
      "\n",
      "    %v%\n",
      "\n",
      "\n",
      "The following object is masked from ‘package:plotly’:\n",
      "\n",
      "    add_heatmap\n",
      "\n",
      "\n",
      "Welcome to compositions, a package for compositional data analysis.\n",
      "Find an intro with \"? compositions\"\n",
      "\n",
      "\n",
      "\n",
      "Attaching package: ‘compositions’\n",
      "\n",
      "\n",
      "The following object is masked from ‘package:glmnet’:\n",
      "\n",
      "    rmult\n",
      "\n",
      "\n",
      "The following objects are masked from ‘package:pROC’:\n",
      "\n",
      "    cov, var\n",
      "\n",
      "\n",
      "The following object is masked from ‘package:DelayedArray’:\n",
      "\n",
      "    scale\n",
      "\n",
      "\n",
      "The following object is masked from ‘package:Matrix’:\n",
      "\n",
      "    norm\n",
      "\n",
      "\n",
      "The following object is masked from ‘package:scater’:\n",
      "\n",
      "    normalize\n",
      "\n",
      "\n",
      "The following objects are masked from ‘package:IRanges’:\n",
      "\n",
      "    cor, cov, var\n",
      "\n",
      "\n",
      "The following objects are masked from ‘package:S4Vectors’:\n",
      "\n",
      "    cor, cov, var\n",
      "\n",
      "\n",
      "The following objects are masked from ‘package:BiocGenerics’:\n",
      "\n",
      "    normalize, var\n",
      "\n",
      "\n",
      "The following object is masked from ‘package:igraph’:\n",
      "\n",
      "    normalize\n",
      "\n",
      "\n",
      "The following objects are masked from ‘package:stats’:\n",
      "\n",
      "    anova, cor, cov, dist, var\n",
      "\n",
      "\n",
      "The following objects are masked from ‘package:base’:\n",
      "\n",
      "    %*%, norm, scale, scale.default\n",
      "\n",
      "\n",
      "========================================\n",
      "circlize version 0.4.15\n",
      "CRAN page: https://cran.r-project.org/package=circlize\n",
      "Github page: https://github.com/jokergoo/circlize\n",
      "Documentation: https://jokergoo.github.io/circlize_book/book/\n",
      "\n",
      "If you use it in published research, please cite:\n",
      "Gu, Z. circlize implements and enhances circular visualization\n",
      "  in R. Bioinformatics 2014.\n",
      "\n",
      "This message can be suppressed by:\n",
      "  suppressPackageStartupMessages(library(circlize))\n",
      "========================================\n",
      "\n",
      "\n",
      "\n",
      "Attaching package: ‘circlize’\n",
      "\n",
      "\n",
      "The following object is masked from ‘package:igraph’:\n",
      "\n",
      "    degree\n",
      "\n",
      "\n",
      "\n",
      "Attaching package: ‘ggpubr’\n",
      "\n",
      "\n",
      "The following object is masked from ‘package:enrichplot’:\n",
      "\n",
      "    color_palette\n",
      "\n",
      "\n",
      "The following object is masked from ‘package:cowplot’:\n",
      "\n",
      "    get_legend\n",
      "\n",
      "\n",
      "Loading required package: survival\n",
      "\n",
      "Loading required package: TH.data\n",
      "\n",
      "Loading required package: MASS\n",
      "\n",
      "\n",
      "Attaching package: ‘MASS’\n",
      "\n",
      "\n",
      "The following object is masked from ‘package:dfidx’:\n",
      "\n",
      "    select\n",
      "\n",
      "\n",
      "The following object is masked from ‘package:patchwork’:\n",
      "\n",
      "    area\n",
      "\n",
      "\n",
      "The following object is masked from ‘package:genefilter’:\n",
      "\n",
      "    area\n",
      "\n",
      "\n",
      "The following object is masked from ‘package:rstatix’:\n",
      "\n",
      "    select\n",
      "\n",
      "\n",
      "The following object is masked from ‘package:clusterProfiler’:\n",
      "\n",
      "    select\n",
      "\n",
      "\n",
      "The following object is masked from ‘package:AnnotationDbi’:\n",
      "\n",
      "    select\n",
      "\n",
      "\n",
      "The following object is masked from ‘package:plotly’:\n",
      "\n",
      "    select\n",
      "\n",
      "\n",
      "The following object is masked from ‘package:dplyr’:\n",
      "\n",
      "    select\n",
      "\n",
      "\n",
      "\n",
      "Attaching package: ‘TH.data’\n",
      "\n",
      "\n",
      "The following object is masked from ‘package:MASS’:\n",
      "\n",
      "    geyser\n",
      "\n",
      "\n"
     ]
    }
   ],
   "source": [
    "source('MS0_Libraries.r')"
   ]
  },
  {
   "cell_type": "code",
   "execution_count": 3,
   "id": "0afa8b71-f69b-4d4a-840f-1d42911d54ad",
   "metadata": {},
   "outputs": [
    {
     "name": "stderr",
     "output_type": "stream",
     "text": [
      "Warning message:\n",
      "“\u001b[1m\u001b[22mThe `size` argument of `element_line()` is deprecated as of ggplot2 3.4.0.\n",
      "\u001b[36mℹ\u001b[39m Please use the `linewidth` argument instead.”\n"
     ]
    }
   ],
   "source": [
    "source('MS4_Plot_Config.r')"
   ]
  },
  {
   "cell_type": "markdown",
   "id": "852725ba-a6dd-476e-a2e0-7820d7e99d19",
   "metadata": {
    "tags": []
   },
   "source": [
    "###############################################\n",
    "# Preqrequisites Configurations & Parameters"
   ]
  },
  {
   "cell_type": "code",
   "execution_count": 4,
   "id": "c29325a7-359b-4fc3-9705-23e5668d98a4",
   "metadata": {},
   "outputs": [],
   "source": [
    "data_path = '../data/current'"
   ]
  },
  {
   "cell_type": "code",
   "execution_count": 5,
   "id": "4f06b870-558d-4bea-a387-31d996213214",
   "metadata": {},
   "outputs": [],
   "source": [
    "result_path = '../results/current'"
   ]
  },
  {
   "cell_type": "code",
   "execution_count": 6,
   "id": "6c58977f-0137-4fd0-b872-11f93271676c",
   "metadata": {},
   "outputs": [
    {
     "data": {
      "text/html": [
       "'../data/current'"
      ],
      "text/latex": [
       "'../data/current'"
      ],
      "text/markdown": [
       "'../data/current'"
      ],
      "text/plain": [
       "[1] \"../data/current\""
      ]
     },
     "metadata": {},
     "output_type": "display_data"
    }
   ],
   "source": [
    "data_path"
   ]
  },
  {
   "cell_type": "code",
   "execution_count": 7,
   "id": "1d4c7b32-7ed1-493d-a020-17b24efb0128",
   "metadata": {},
   "outputs": [],
   "source": [
    "### Data to load for Factors and Gene Expression\n",
    "\n",
    "version = 'V_FINAL_INTEGRATED_FALSE'"
   ]
  },
  {
   "cell_type": "markdown",
   "id": "7fde2bf0-107f-4ab0-89e4-a4025a17168d",
   "metadata": {},
   "source": [
    "# Load Data"
   ]
  },
  {
   "cell_type": "markdown",
   "id": "5cd013dd-6480-4003-9caf-f7e51d00d5ee",
   "metadata": {},
   "source": [
    "## Sample Data"
   ]
  },
  {
   "cell_type": "code",
   "execution_count": 10,
   "id": "b3854abc-fbfc-4dde-a742-9c8846b4a7a4",
   "metadata": {},
   "outputs": [],
   "source": [
    "## Load sample meta-data"
   ]
  },
  {
   "cell_type": "code",
   "execution_count": 9,
   "id": "e9ef0525-21f4-4271-83e7-44edd301ca25",
   "metadata": {},
   "outputs": [
    {
     "name": "stdout",
     "output_type": "stream",
     "text": [
      "[1] \"2023-12-10 11:16:00 CET\"\n"
     ]
    }
   ],
   "source": [
    "path = paste0(result_path, '/00_Data_Overview/Merged_Sample_Meta_Data.csv')\n",
    "sample_data = read.csv(path)\n",
    "print(file.info(path)$mtime)"
   ]
  },
  {
   "cell_type": "code",
   "execution_count": null,
   "id": "f1058108-2b04-4406-baab-1ec1e3af69ab",
   "metadata": {},
   "outputs": [],
   "source": []
  },
  {
   "cell_type": "code",
   "execution_count": 11,
   "id": "7cc992f4-f978-4056-b559-c96740c1ee13",
   "metadata": {},
   "outputs": [],
   "source": [
    "#patients_filter = unique(sample_data$sample_id[is.na(str_extract(sample_data$sample_id, 'k'))])  # use only acs samples\n",
    "patients_filter = unique(sample_data$sample_id) #  use all samples"
   ]
  },
  {
   "cell_type": "code",
   "execution_count": 12,
   "id": "4b7d015f-d744-4b69-9067-78700cd16dd1",
   "metadata": {},
   "outputs": [],
   "source": [
    "# Add new columns for later prediction"
   ]
  },
  {
   "cell_type": "code",
   "execution_count": 13,
   "id": "c096eb93-83c0-40f4-a150-cd76224959bf",
   "metadata": {},
   "outputs": [],
   "source": [
    "# Summarize good and intermediate outcome    \n",
    "sample_data$delta_ef_value_class_summarized = sample_data$delta_ef_value_class\n",
    "sample_data$delta_ef_value_class_summarized[sample_data$delta_ef_value_class %in% c('intermediate')] = 'good'"
   ]
  },
  {
   "cell_type": "code",
   "execution_count": 14,
   "id": "d2829a75-576d-4b71-b8c6-8d50d7997c85",
   "metadata": {},
   "outputs": [
    {
     "data": {
      "text/html": [
       "<style>\n",
       ".list-inline {list-style: none; margin:0; padding: 0}\n",
       ".list-inline>li {display: inline-block}\n",
       ".list-inline>li:not(:last-child)::after {content: \"\\00b7\"; padding: 0 .5ex}\n",
       "</style>\n",
       "<ol class=list-inline><li>NA</li><li>'bad'</li><li>'good'</li></ol>\n"
      ],
      "text/latex": [
       "\\begin{enumerate*}\n",
       "\\item NA\n",
       "\\item 'bad'\n",
       "\\item 'good'\n",
       "\\end{enumerate*}\n"
      ],
      "text/markdown": [
       "1. NA\n",
       "2. 'bad'\n",
       "3. 'good'\n",
       "\n",
       "\n"
      ],
      "text/plain": [
       "[1] NA     \"bad\"  \"good\""
      ]
     },
     "metadata": {},
     "output_type": "display_data"
    }
   ],
   "source": [
    "unique(sample_data$delta_ef_value_class_summarized)"
   ]
  },
  {
   "cell_type": "code",
   "execution_count": 15,
   "id": "809e32cf-8fb9-4a18-979f-d21b96b396c4",
   "metadata": {},
   "outputs": [],
   "source": [
    "## Concatenate outcome with class"
   ]
  },
  {
   "cell_type": "code",
   "execution_count": 16,
   "id": "5aade7b2-65af-444a-b9b9-da36dd663583",
   "metadata": {},
   "outputs": [],
   "source": [
    "sample_data$tp_outcome = paste0(sample_data$measurement, '_', sample_data$delta_ef_value_class_summarized)"
   ]
  },
  {
   "cell_type": "code",
   "execution_count": 17,
   "id": "ee6bb7a9-8983-4328-a05c-4b5659b868b4",
   "metadata": {},
   "outputs": [
    {
     "data": {
      "text/html": [
       "<style>\n",
       ".list-inline {list-style: none; margin:0; padding: 0}\n",
       ".list-inline>li {display: inline-block}\n",
       ".list-inline>li:not(:last-child)::after {content: \"\\00b7\"; padding: 0 .5ex}\n",
       "</style>\n",
       "<ol class=list-inline><li>'TP0_NA'</li><li>'TP1_NA'</li><li>'TP2_NA'</li><li>'TP3_NA'</li><li>'TP4_NA'</li><li>'TP1_bad'</li><li>'TP2_bad'</li><li>'TP3_bad'</li><li>'TP4_bad'</li><li>'TP1_good'</li><li>'TP2_good'</li><li>'TP3_good'</li><li>'TP4_good'</li></ol>\n"
      ],
      "text/latex": [
       "\\begin{enumerate*}\n",
       "\\item 'TP0\\_NA'\n",
       "\\item 'TP1\\_NA'\n",
       "\\item 'TP2\\_NA'\n",
       "\\item 'TP3\\_NA'\n",
       "\\item 'TP4\\_NA'\n",
       "\\item 'TP1\\_bad'\n",
       "\\item 'TP2\\_bad'\n",
       "\\item 'TP3\\_bad'\n",
       "\\item 'TP4\\_bad'\n",
       "\\item 'TP1\\_good'\n",
       "\\item 'TP2\\_good'\n",
       "\\item 'TP3\\_good'\n",
       "\\item 'TP4\\_good'\n",
       "\\end{enumerate*}\n"
      ],
      "text/markdown": [
       "1. 'TP0_NA'\n",
       "2. 'TP1_NA'\n",
       "3. 'TP2_NA'\n",
       "4. 'TP3_NA'\n",
       "5. 'TP4_NA'\n",
       "6. 'TP1_bad'\n",
       "7. 'TP2_bad'\n",
       "8. 'TP3_bad'\n",
       "9. 'TP4_bad'\n",
       "10. 'TP1_good'\n",
       "11. 'TP2_good'\n",
       "12. 'TP3_good'\n",
       "13. 'TP4_good'\n",
       "\n",
       "\n"
      ],
      "text/plain": [
       " [1] \"TP0_NA\"   \"TP1_NA\"   \"TP2_NA\"   \"TP3_NA\"   \"TP4_NA\"   \"TP1_bad\" \n",
       " [7] \"TP2_bad\"  \"TP3_bad\"  \"TP4_bad\"  \"TP1_good\" \"TP2_good\" \"TP3_good\"\n",
       "[13] \"TP4_good\""
      ]
     },
     "metadata": {},
     "output_type": "display_data"
    }
   ],
   "source": [
    "unique(sample_data$tp_outcome)"
   ]
  },
  {
   "cell_type": "code",
   "execution_count": 19,
   "id": "57bb5c23-b7f9-4c09-abd0-3c5614d3fda7",
   "metadata": {},
   "outputs": [
    {
     "data": {
      "text/html": [
       "<table class=\"dataframe\">\n",
       "<caption>A grouped_df: 13 × 2</caption>\n",
       "<thead>\n",
       "\t<tr><th scope=col>tp_outcome</th><th scope=col>n</th></tr>\n",
       "\t<tr><th scope=col>&lt;chr&gt;</th><th scope=col>&lt;int&gt;</th></tr>\n",
       "</thead>\n",
       "<tbody>\n",
       "\t<tr><td>TP0_NA  </td><td>34</td></tr>\n",
       "\t<tr><td>TP1_NA  </td><td> 7</td></tr>\n",
       "\t<tr><td>TP1_bad </td><td> 7</td></tr>\n",
       "\t<tr><td>TP1_good</td><td>15</td></tr>\n",
       "\t<tr><td>TP2_NA  </td><td> 7</td></tr>\n",
       "\t<tr><td>TP2_bad </td><td> 8</td></tr>\n",
       "\t<tr><td>TP2_good</td><td>14</td></tr>\n",
       "\t<tr><td>TP3_NA  </td><td> 7</td></tr>\n",
       "\t<tr><td>TP3_bad </td><td> 7</td></tr>\n",
       "\t<tr><td>TP3_good</td><td>14</td></tr>\n",
       "\t<tr><td>TP4_NA  </td><td> 7</td></tr>\n",
       "\t<tr><td>TP4_bad </td><td> 7</td></tr>\n",
       "\t<tr><td>TP4_good</td><td>15</td></tr>\n",
       "</tbody>\n",
       "</table>\n"
      ],
      "text/latex": [
       "A grouped\\_df: 13 × 2\n",
       "\\begin{tabular}{ll}\n",
       " tp\\_outcome & n\\\\\n",
       " <chr> & <int>\\\\\n",
       "\\hline\n",
       "\t TP0\\_NA   & 34\\\\\n",
       "\t TP1\\_NA   &  7\\\\\n",
       "\t TP1\\_bad  &  7\\\\\n",
       "\t TP1\\_good & 15\\\\\n",
       "\t TP2\\_NA   &  7\\\\\n",
       "\t TP2\\_bad  &  8\\\\\n",
       "\t TP2\\_good & 14\\\\\n",
       "\t TP3\\_NA   &  7\\\\\n",
       "\t TP3\\_bad  &  7\\\\\n",
       "\t TP3\\_good & 14\\\\\n",
       "\t TP4\\_NA   &  7\\\\\n",
       "\t TP4\\_bad  &  7\\\\\n",
       "\t TP4\\_good & 15\\\\\n",
       "\\end{tabular}\n"
      ],
      "text/markdown": [
       "\n",
       "A grouped_df: 13 × 2\n",
       "\n",
       "| tp_outcome &lt;chr&gt; | n &lt;int&gt; |\n",
       "|---|---|\n",
       "| TP0_NA   | 34 |\n",
       "| TP1_NA   |  7 |\n",
       "| TP1_bad  |  7 |\n",
       "| TP1_good | 15 |\n",
       "| TP2_NA   |  7 |\n",
       "| TP2_bad  |  8 |\n",
       "| TP2_good | 14 |\n",
       "| TP3_NA   |  7 |\n",
       "| TP3_bad  |  7 |\n",
       "| TP3_good | 14 |\n",
       "| TP4_NA   |  7 |\n",
       "| TP4_bad  |  7 |\n",
       "| TP4_good | 15 |\n",
       "\n"
      ],
      "text/plain": [
       "   tp_outcome n \n",
       "1  TP0_NA     34\n",
       "2  TP1_NA      7\n",
       "3  TP1_bad     7\n",
       "4  TP1_good   15\n",
       "5  TP2_NA      7\n",
       "6  TP2_bad     8\n",
       "7  TP2_good   14\n",
       "8  TP3_NA      7\n",
       "9  TP3_bad     7\n",
       "10 TP3_good   14\n",
       "11 TP4_NA      7\n",
       "12 TP4_bad     7\n",
       "13 TP4_good   15"
      ]
     },
     "metadata": {},
     "output_type": "display_data"
    }
   ],
   "source": [
    "## overview amount samples per outome + TP\n",
    "sample_data %>% group_by(tp_outcome) %>% count()"
   ]
  },
  {
   "cell_type": "code",
   "execution_count": null,
   "id": "dd968c8d-b084-4d27-b087-2978272a9dc2",
   "metadata": {},
   "outputs": [],
   "source": []
  },
  {
   "cell_type": "markdown",
   "id": "05decb44-844d-41f0-8b3a-e33a4e7a9331",
   "metadata": {},
   "source": [
    "## Factor Data to use"
   ]
  },
  {
   "cell_type": "code",
   "execution_count": 21,
   "id": "d773368d-616d-4eab-b81c-34a3e950eebe",
   "metadata": {},
   "outputs": [
    {
     "name": "stdout",
     "output_type": "stream",
     "text": [
      "[1] \"2024-01-03 14:34:39 CET\"\n"
     ]
    }
   ],
   "source": [
    "path = paste0(result_path, '/E-Analysis/Factor_Data_', version, '.csv')\n",
    "factor_data = read.csv(path)\n",
    "print(file.info(path)$mtime)"
   ]
  },
  {
   "cell_type": "code",
   "execution_count": 22,
   "id": "226573f0-3feb-4653-8f30-d23626f4c0cf",
   "metadata": {},
   "outputs": [
    {
     "data": {
      "text/html": [
       "<table class=\"dataframe\">\n",
       "<caption>A data.frame: 4 × 21</caption>\n",
       "<thead>\n",
       "\t<tr><th></th><th scope=col>Factor1</th><th scope=col>Factor2</th><th scope=col>Factor3</th><th scope=col>Factor4</th><th scope=col>Factor5</th><th scope=col>Factor6</th><th scope=col>Factor7</th><th scope=col>Factor8</th><th scope=col>Factor9</th><th scope=col>Factor10</th><th scope=col>⋯</th><th scope=col>Factor12</th><th scope=col>Factor13</th><th scope=col>Factor14</th><th scope=col>Factor15</th><th scope=col>Factor16</th><th scope=col>Factor17</th><th scope=col>Factor18</th><th scope=col>Factor19</th><th scope=col>Factor20</th><th scope=col>sample_id</th></tr>\n",
       "\t<tr><th></th><th scope=col>&lt;dbl&gt;</th><th scope=col>&lt;dbl&gt;</th><th scope=col>&lt;dbl&gt;</th><th scope=col>&lt;dbl&gt;</th><th scope=col>&lt;dbl&gt;</th><th scope=col>&lt;dbl&gt;</th><th scope=col>&lt;dbl&gt;</th><th scope=col>&lt;dbl&gt;</th><th scope=col>&lt;dbl&gt;</th><th scope=col>&lt;dbl&gt;</th><th scope=col>⋯</th><th scope=col>&lt;dbl&gt;</th><th scope=col>&lt;dbl&gt;</th><th scope=col>&lt;dbl&gt;</th><th scope=col>&lt;dbl&gt;</th><th scope=col>&lt;dbl&gt;</th><th scope=col>&lt;dbl&gt;</th><th scope=col>&lt;dbl&gt;</th><th scope=col>&lt;dbl&gt;</th><th scope=col>&lt;dbl&gt;</th><th scope=col>&lt;chr&gt;</th></tr>\n",
       "</thead>\n",
       "<tbody>\n",
       "\t<tr><th scope=row>1</th><td> 0.4811325</td><td>-0.2731317</td><td> 1.4988169</td><td>-0.4135678</td><td>1.5052706</td><td>-0.92308998</td><td>-0.3904185</td><td>-0.1944797</td><td> 0.16486799</td><td>-0.558130047</td><td>⋯</td><td> 1.371875754</td><td> 0.18829559</td><td>-0.30821631</td><td>-0.47997108</td><td> 0.34688969</td><td> 0.56926106</td><td> 0.416665730</td><td>-0.60204874</td><td>-0.03085489</td><td>k1 </td></tr>\n",
       "\t<tr><th scope=row>2</th><td> 0.8920603</td><td>-0.7547770</td><td> 0.3501023</td><td>-0.1524478</td><td>0.4074517</td><td>-0.04596939</td><td> 0.6276925</td><td>-1.1656937</td><td>-0.05003504</td><td>-0.338034341</td><td>⋯</td><td>-0.102028456</td><td> 0.11991185</td><td> 0.20967181</td><td> 0.09246619</td><td> 0.13351102</td><td>-0.04905520</td><td>-0.001722867</td><td> 0.07838055</td><td>-0.03818913</td><td>k10</td></tr>\n",
       "\t<tr><th scope=row>3</th><td>-1.2439808</td><td>-0.9826224</td><td>-0.8230479</td><td>-0.3559941</td><td>1.0458397</td><td> 0.11800347</td><td>-0.2770340</td><td>-0.1901323</td><td>-0.10959612</td><td>-0.479903608</td><td>⋯</td><td>-0.015925683</td><td>-0.04062541</td><td> 0.04315219</td><td>-0.02329634</td><td>-0.02298920</td><td> 0.03253449</td><td> 0.177102131</td><td> 0.11100223</td><td>-0.02994567</td><td>k11</td></tr>\n",
       "\t<tr><th scope=row>4</th><td>-1.9847781</td><td>-1.6711527</td><td>-1.0857874</td><td>-0.4570102</td><td>0.6403206</td><td>-0.37214375</td><td>-0.9344379</td><td>-0.1916442</td><td> 0.03676072</td><td>-0.004778085</td><td>⋯</td><td> 0.001169425</td><td> 0.03116989</td><td> 0.14784586</td><td> 0.48202979</td><td> 0.01680141</td><td> 0.01807012</td><td> 0.288699222</td><td>-0.15412217</td><td>-0.10906315</td><td>k12</td></tr>\n",
       "</tbody>\n",
       "</table>\n"
      ],
      "text/latex": [
       "A data.frame: 4 × 21\n",
       "\\begin{tabular}{r|lllllllllllllllllllll}\n",
       "  & Factor1 & Factor2 & Factor3 & Factor4 & Factor5 & Factor6 & Factor7 & Factor8 & Factor9 & Factor10 & ⋯ & Factor12 & Factor13 & Factor14 & Factor15 & Factor16 & Factor17 & Factor18 & Factor19 & Factor20 & sample\\_id\\\\\n",
       "  & <dbl> & <dbl> & <dbl> & <dbl> & <dbl> & <dbl> & <dbl> & <dbl> & <dbl> & <dbl> & ⋯ & <dbl> & <dbl> & <dbl> & <dbl> & <dbl> & <dbl> & <dbl> & <dbl> & <dbl> & <chr>\\\\\n",
       "\\hline\n",
       "\t1 &  0.4811325 & -0.2731317 &  1.4988169 & -0.4135678 & 1.5052706 & -0.92308998 & -0.3904185 & -0.1944797 &  0.16486799 & -0.558130047 & ⋯ &  1.371875754 &  0.18829559 & -0.30821631 & -0.47997108 &  0.34688969 &  0.56926106 &  0.416665730 & -0.60204874 & -0.03085489 & k1 \\\\\n",
       "\t2 &  0.8920603 & -0.7547770 &  0.3501023 & -0.1524478 & 0.4074517 & -0.04596939 &  0.6276925 & -1.1656937 & -0.05003504 & -0.338034341 & ⋯ & -0.102028456 &  0.11991185 &  0.20967181 &  0.09246619 &  0.13351102 & -0.04905520 & -0.001722867 &  0.07838055 & -0.03818913 & k10\\\\\n",
       "\t3 & -1.2439808 & -0.9826224 & -0.8230479 & -0.3559941 & 1.0458397 &  0.11800347 & -0.2770340 & -0.1901323 & -0.10959612 & -0.479903608 & ⋯ & -0.015925683 & -0.04062541 &  0.04315219 & -0.02329634 & -0.02298920 &  0.03253449 &  0.177102131 &  0.11100223 & -0.02994567 & k11\\\\\n",
       "\t4 & -1.9847781 & -1.6711527 & -1.0857874 & -0.4570102 & 0.6403206 & -0.37214375 & -0.9344379 & -0.1916442 &  0.03676072 & -0.004778085 & ⋯ &  0.001169425 &  0.03116989 &  0.14784586 &  0.48202979 &  0.01680141 &  0.01807012 &  0.288699222 & -0.15412217 & -0.10906315 & k12\\\\\n",
       "\\end{tabular}\n"
      ],
      "text/markdown": [
       "\n",
       "A data.frame: 4 × 21\n",
       "\n",
       "| <!--/--> | Factor1 &lt;dbl&gt; | Factor2 &lt;dbl&gt; | Factor3 &lt;dbl&gt; | Factor4 &lt;dbl&gt; | Factor5 &lt;dbl&gt; | Factor6 &lt;dbl&gt; | Factor7 &lt;dbl&gt; | Factor8 &lt;dbl&gt; | Factor9 &lt;dbl&gt; | Factor10 &lt;dbl&gt; | ⋯ ⋯ | Factor12 &lt;dbl&gt; | Factor13 &lt;dbl&gt; | Factor14 &lt;dbl&gt; | Factor15 &lt;dbl&gt; | Factor16 &lt;dbl&gt; | Factor17 &lt;dbl&gt; | Factor18 &lt;dbl&gt; | Factor19 &lt;dbl&gt; | Factor20 &lt;dbl&gt; | sample_id &lt;chr&gt; |\n",
       "|---|---|---|---|---|---|---|---|---|---|---|---|---|---|---|---|---|---|---|---|---|---|\n",
       "| 1 |  0.4811325 | -0.2731317 |  1.4988169 | -0.4135678 | 1.5052706 | -0.92308998 | -0.3904185 | -0.1944797 |  0.16486799 | -0.558130047 | ⋯ |  1.371875754 |  0.18829559 | -0.30821631 | -0.47997108 |  0.34688969 |  0.56926106 |  0.416665730 | -0.60204874 | -0.03085489 | k1  |\n",
       "| 2 |  0.8920603 | -0.7547770 |  0.3501023 | -0.1524478 | 0.4074517 | -0.04596939 |  0.6276925 | -1.1656937 | -0.05003504 | -0.338034341 | ⋯ | -0.102028456 |  0.11991185 |  0.20967181 |  0.09246619 |  0.13351102 | -0.04905520 | -0.001722867 |  0.07838055 | -0.03818913 | k10 |\n",
       "| 3 | -1.2439808 | -0.9826224 | -0.8230479 | -0.3559941 | 1.0458397 |  0.11800347 | -0.2770340 | -0.1901323 | -0.10959612 | -0.479903608 | ⋯ | -0.015925683 | -0.04062541 |  0.04315219 | -0.02329634 | -0.02298920 |  0.03253449 |  0.177102131 |  0.11100223 | -0.02994567 | k11 |\n",
       "| 4 | -1.9847781 | -1.6711527 | -1.0857874 | -0.4570102 | 0.6403206 | -0.37214375 | -0.9344379 | -0.1916442 |  0.03676072 | -0.004778085 | ⋯ |  0.001169425 |  0.03116989 |  0.14784586 |  0.48202979 |  0.01680141 |  0.01807012 |  0.288699222 | -0.15412217 | -0.10906315 | k12 |\n",
       "\n"
      ],
      "text/plain": [
       "  Factor1    Factor2    Factor3    Factor4    Factor5   Factor6     Factor7   \n",
       "1  0.4811325 -0.2731317  1.4988169 -0.4135678 1.5052706 -0.92308998 -0.3904185\n",
       "2  0.8920603 -0.7547770  0.3501023 -0.1524478 0.4074517 -0.04596939  0.6276925\n",
       "3 -1.2439808 -0.9826224 -0.8230479 -0.3559941 1.0458397  0.11800347 -0.2770340\n",
       "4 -1.9847781 -1.6711527 -1.0857874 -0.4570102 0.6403206 -0.37214375 -0.9344379\n",
       "  Factor8    Factor9     Factor10     ⋯ Factor12     Factor13    Factor14   \n",
       "1 -0.1944797  0.16486799 -0.558130047 ⋯  1.371875754  0.18829559 -0.30821631\n",
       "2 -1.1656937 -0.05003504 -0.338034341 ⋯ -0.102028456  0.11991185  0.20967181\n",
       "3 -0.1901323 -0.10959612 -0.479903608 ⋯ -0.015925683 -0.04062541  0.04315219\n",
       "4 -0.1916442  0.03676072 -0.004778085 ⋯  0.001169425  0.03116989  0.14784586\n",
       "  Factor15    Factor16    Factor17    Factor18     Factor19    Factor20   \n",
       "1 -0.47997108  0.34688969  0.56926106  0.416665730 -0.60204874 -0.03085489\n",
       "2  0.09246619  0.13351102 -0.04905520 -0.001722867  0.07838055 -0.03818913\n",
       "3 -0.02329634 -0.02298920  0.03253449  0.177102131  0.11100223 -0.02994567\n",
       "4  0.48202979  0.01680141  0.01807012  0.288699222 -0.15412217 -0.10906315\n",
       "  sample_id\n",
       "1 k1       \n",
       "2 k10      \n",
       "3 k11      \n",
       "4 k12      "
      ]
     },
     "metadata": {},
     "output_type": "display_data"
    }
   ],
   "source": [
    "head(factor_data,4)"
   ]
  },
  {
   "cell_type": "markdown",
   "id": "29afb10b-af7e-4a99-814c-ab6f376b32e9",
   "metadata": {},
   "source": [
    "## Grace Score"
   ]
  },
  {
   "cell_type": "code",
   "execution_count": 23,
   "id": "f01ea37c-43c6-4f44-85d5-009e9863773e",
   "metadata": {},
   "outputs": [
    {
     "name": "stdout",
     "output_type": "stream",
     "text": [
      "[1] \"2024-01-03 16:05:21 CET\"\n"
     ]
    }
   ],
   "source": [
    "path = paste0(data_path, '/preprocessed-data/meta-data/Grace_Score_processed.csv')\n",
    "grace_score = read.csv(path)\n",
    "print(file.info(path)$mtime)"
   ]
  },
  {
   "cell_type": "code",
   "execution_count": 24,
   "id": "8126028a-be21-47d1-a105-1f991cc0b5e6",
   "metadata": {},
   "outputs": [],
   "source": [
    "grace_score$sample_id = paste0('m', str_replace(grace_score$sample_id, '.*_', ''), '.1')"
   ]
  },
  {
   "cell_type": "code",
   "execution_count": 25,
   "id": "874f65a9-cae8-4ef3-9208-a9277f6dd1af",
   "metadata": {},
   "outputs": [
    {
     "data": {
      "text/html": [
       "<table class=\"dataframe\">\n",
       "<caption>A data.frame: 2 × 3</caption>\n",
       "<thead>\n",
       "\t<tr><th></th><th scope=col>sample_id</th><th scope=col>Troponin_TP1</th><th scope=col>Grace_Score</th></tr>\n",
       "\t<tr><th></th><th scope=col>&lt;chr&gt;</th><th scope=col>&lt;dbl&gt;</th><th scope=col>&lt;chr&gt;</th></tr>\n",
       "</thead>\n",
       "<tbody>\n",
       "\t<tr><th scope=row>1</th><td>m1.1 </td><td> 0.687</td><td>   </td></tr>\n",
       "\t<tr><th scope=row>2</th><td>m10.1</td><td>24.900</td><td>104</td></tr>\n",
       "</tbody>\n",
       "</table>\n"
      ],
      "text/latex": [
       "A data.frame: 2 × 3\n",
       "\\begin{tabular}{r|lll}\n",
       "  & sample\\_id & Troponin\\_TP1 & Grace\\_Score\\\\\n",
       "  & <chr> & <dbl> & <chr>\\\\\n",
       "\\hline\n",
       "\t1 & m1.1  &  0.687 &    \\\\\n",
       "\t2 & m10.1 & 24.900 & 104\\\\\n",
       "\\end{tabular}\n"
      ],
      "text/markdown": [
       "\n",
       "A data.frame: 2 × 3\n",
       "\n",
       "| <!--/--> | sample_id &lt;chr&gt; | Troponin_TP1 &lt;dbl&gt; | Grace_Score &lt;chr&gt; |\n",
       "|---|---|---|---|\n",
       "| 1 | m1.1  |  0.687 | <!----> |\n",
       "| 2 | m10.1 | 24.900 | 104 |\n",
       "\n"
      ],
      "text/plain": [
       "  sample_id Troponin_TP1 Grace_Score\n",
       "1 m1.1       0.687                  \n",
       "2 m10.1     24.900       104        "
      ]
     },
     "metadata": {},
     "output_type": "display_data"
    }
   ],
   "source": [
    "head(grace_score,2)"
   ]
  },
  {
   "cell_type": "markdown",
   "id": "2e37f9bb-51ac-482f-b3b7-761b9411fd13",
   "metadata": {},
   "source": [
    "## Normalized Gene Expression Data"
   ]
  },
  {
   "cell_type": "code",
   "execution_count": 26,
   "id": "7b996b04-8e1e-4a6c-8aef-dad510291955",
   "metadata": {},
   "outputs": [
    {
     "name": "stdout",
     "output_type": "stream",
     "text": [
      "[1] \"2024-01-03 14:26:41 CET\"\n"
     ]
    }
   ],
   "source": [
    "path = paste0(result_path, '/E-Analysis/Combined_Data_',str_replace(version, '_FALSE', ''),'.csv')\n",
    "data_long = read.csv(path)\n",
    "print(file.info(path)$mtime)"
   ]
  },
  {
   "cell_type": "code",
   "execution_count": 27,
   "id": "d0d1e32d-c491-4736-ad77-62e92a2fa8d8",
   "metadata": {},
   "outputs": [],
   "source": [
    "data_long$X = NULL"
   ]
  },
  {
   "cell_type": "markdown",
   "id": "06293c8c-9ba0-4def-ad81-0e02774ed7d6",
   "metadata": {},
   "source": [
    "# Prepare data for prediction"
   ]
  },
  {
   "cell_type": "code",
   "execution_count": 28,
   "id": "06bcc4d1-5a61-4bbf-938c-6089f733af81",
   "metadata": {},
   "outputs": [],
   "source": [
    "### Merge the potential different features for prediction"
   ]
  },
  {
   "cell_type": "code",
   "execution_count": 30,
   "id": "966c0311-560a-4a4a-83d5-9e240ef6eeec",
   "metadata": {},
   "outputs": [],
   "source": [
    "## Add factor data to sample_data"
   ]
  },
  {
   "cell_type": "code",
   "execution_count": 31,
   "id": "d995e178-166b-4cac-ab49-0bc2d02aa6c8",
   "metadata": {},
   "outputs": [],
   "source": [
    "data = merge(factor_data, unique(sample_data[,c('sample_id', 'classification', 'measurement', 'delta_ef_value_class', 'delta_ef_value_class_summarized', 'tp_outcome', 'CK', 'CK_MB', 'Troponin', 'CRP')]), by.x = 'sample_id', by.y = 'sample_id')"
   ]
  },
  {
   "cell_type": "code",
   "execution_count": 32,
   "id": "c1c682c8-852e-4280-bf98-926be58e8872",
   "metadata": {},
   "outputs": [],
   "source": [
    "## Add grace score"
   ]
  },
  {
   "cell_type": "code",
   "execution_count": 33,
   "id": "2ca22f29-71d0-4b21-97db-1e82836ed92f",
   "metadata": {},
   "outputs": [],
   "source": [
    "data = merge(data, grace_score, all.x = TRUE)"
   ]
  },
  {
   "cell_type": "code",
   "execution_count": 34,
   "id": "73d60441-9e22-4008-b5cd-c31a653ea28d",
   "metadata": {},
   "outputs": [],
   "source": [
    "## Add normalized gene expression values of selected features"
   ]
  },
  {
   "cell_type": "code",
   "execution_count": 35,
   "id": "2523b72b-140a-420a-bd6d-fbb427f02b84",
   "metadata": {},
   "outputs": [
    {
     "data": {
      "text/html": [
       "<style>\n",
       ".list-inline {list-style: none; margin:0; padding: 0}\n",
       ".list-inline>li {display: inline-block}\n",
       ".list-inline>li:not(:last-child)::after {content: \"\\00b7\"; padding: 0 .5ex}\n",
       "</style>\n",
       "<ol class=list-inline><li>'X0_T.cell.CD4__CD53'</li><li>'X1_T.cell.CD8__CD53'</li><li>'X10_B.cell__CD53'</li><li>'X11_T.cell.CD4__CD53'</li><li>'X12_Monocytes...CD16_FCGR3A__CD53'</li><li>'X3_NK__CD53'</li><li>'X4_Monocytes...CD14__CD53'</li><li>'X6_Monocytes...CD14__CD53'</li><li>'X7_Monocytes...CD14__CD53'</li><li>'X8_B.cell__CD53'</li><li>'X9_Monocytes...CD16_FCGR3A__CD53'</li></ol>\n"
      ],
      "text/latex": [
       "\\begin{enumerate*}\n",
       "\\item 'X0\\_T.cell.CD4\\_\\_CD53'\n",
       "\\item 'X1\\_T.cell.CD8\\_\\_CD53'\n",
       "\\item 'X10\\_B.cell\\_\\_CD53'\n",
       "\\item 'X11\\_T.cell.CD4\\_\\_CD53'\n",
       "\\item 'X12\\_Monocytes...CD16\\_FCGR3A\\_\\_CD53'\n",
       "\\item 'X3\\_NK\\_\\_CD53'\n",
       "\\item 'X4\\_Monocytes...CD14\\_\\_CD53'\n",
       "\\item 'X6\\_Monocytes...CD14\\_\\_CD53'\n",
       "\\item 'X7\\_Monocytes...CD14\\_\\_CD53'\n",
       "\\item 'X8\\_B.cell\\_\\_CD53'\n",
       "\\item 'X9\\_Monocytes...CD16\\_FCGR3A\\_\\_CD53'\n",
       "\\end{enumerate*}\n"
      ],
      "text/markdown": [
       "1. 'X0_T.cell.CD4__CD53'\n",
       "2. 'X1_T.cell.CD8__CD53'\n",
       "3. 'X10_B.cell__CD53'\n",
       "4. 'X11_T.cell.CD4__CD53'\n",
       "5. 'X12_Monocytes...CD16_FCGR3A__CD53'\n",
       "6. 'X3_NK__CD53'\n",
       "7. 'X4_Monocytes...CD14__CD53'\n",
       "8. 'X6_Monocytes...CD14__CD53'\n",
       "9. 'X7_Monocytes...CD14__CD53'\n",
       "10. 'X8_B.cell__CD53'\n",
       "11. 'X9_Monocytes...CD16_FCGR3A__CD53'\n",
       "\n",
       "\n"
      ],
      "text/plain": [
       " [1] \"X0_T.cell.CD4__CD53\"               \"X1_T.cell.CD8__CD53\"              \n",
       " [3] \"X10_B.cell__CD53\"                  \"X11_T.cell.CD4__CD53\"             \n",
       " [5] \"X12_Monocytes...CD16_FCGR3A__CD53\" \"X3_NK__CD53\"                      \n",
       " [7] \"X4_Monocytes...CD14__CD53\"         \"X6_Monocytes...CD14__CD53\"        \n",
       " [9] \"X7_Monocytes...CD14__CD53\"         \"X8_B.cell__CD53\"                  \n",
       "[11] \"X9_Monocytes...CD16_FCGR3A__CD53\" "
      ]
     },
     "metadata": {},
     "output_type": "display_data"
    }
   ],
   "source": [
    "unique(data_long$variable[!is.na(str_extract(data_long$variable, 'CD53'))])"
   ]
  },
  {
   "cell_type": "code",
   "execution_count": 36,
   "id": "e4128df2-3193-4dc2-af78-8b04476c7f39",
   "metadata": {},
   "outputs": [],
   "source": [
    "features = c('CK', 'CK_MB', 'Troponin', 'CRP', 'X3_NK__TXNIP','X3_NK__PRF1', 'X3_NK__LITAF' , 'X3_NK__GZMB', 'X3_NK__FYN', 'X3_NK__CST7', 'X3_NK__CD53')"
   ]
  },
  {
   "cell_type": "code",
   "execution_count": 37,
   "id": "fb85de3b-21d0-4e9a-887a-3bd0bd6808da",
   "metadata": {},
   "outputs": [],
   "source": [
    "gene_expression_data = data_long[data_long$variable %in% features,]"
   ]
  },
  {
   "cell_type": "code",
   "execution_count": 38,
   "id": "34e37b6d-266e-4912-ae1b-d41e119effcf",
   "metadata": {},
   "outputs": [],
   "source": [
    "gene_expression_data = gene_expression_data %>% dcast(sample_id ~ variable, value.var = 'value')"
   ]
  },
  {
   "cell_type": "code",
   "execution_count": 39,
   "id": "8db08f31-109b-459c-9cdd-9be0f3ad7e09",
   "metadata": {},
   "outputs": [],
   "source": [
    "colnames(gene_expression_data) = paste0('Normalized_', colnames(gene_expression_data))"
   ]
  },
  {
   "cell_type": "code",
   "execution_count": 40,
   "id": "129e695a-22c2-40bd-b674-61d670b3e0be",
   "metadata": {},
   "outputs": [
    {
     "data": {
      "text/html": [
       "128"
      ],
      "text/latex": [
       "128"
      ],
      "text/markdown": [
       "128"
      ],
      "text/plain": [
       "[1] 128"
      ]
     },
     "metadata": {},
     "output_type": "display_data"
    }
   ],
   "source": [
    "nrow(data)"
   ]
  },
  {
   "cell_type": "code",
   "execution_count": 41,
   "id": "126ffba7-a135-4f5c-a7a1-a469272469cb",
   "metadata": {},
   "outputs": [],
   "source": [
    "data = merge(data, gene_expression_data, by.x = 'sample_id', by.y = 'Normalized_sample_id')"
   ]
  },
  {
   "cell_type": "code",
   "execution_count": 42,
   "id": "ec6d0f67-27dc-429a-86f6-7f7c4300ff46",
   "metadata": {},
   "outputs": [
    {
     "data": {
      "text/html": [
       "128"
      ],
      "text/latex": [
       "128"
      ],
      "text/markdown": [
       "128"
      ],
      "text/plain": [
       "[1] 128"
      ]
     },
     "metadata": {},
     "output_type": "display_data"
    }
   ],
   "source": [
    "nrow(data)"
   ]
  },
  {
   "cell_type": "markdown",
   "id": "c90e7f63-02b3-4dc2-9ffc-0e87d6012443",
   "metadata": {},
   "source": [
    "# Prediction for Factor 4 at TP1"
   ]
  },
  {
   "cell_type": "code",
   "execution_count": 43,
   "id": "70ad3e0b-dcd6-4788-982f-661f19a3d0aa",
   "metadata": {},
   "outputs": [],
   "source": [
    "## convert clinical features to numeric"
   ]
  },
  {
   "cell_type": "code",
   "execution_count": 44,
   "id": "d52e67dc-e993-4f6d-9615-1174bbaaf931",
   "metadata": {},
   "outputs": [
    {
     "name": "stderr",
     "output_type": "stream",
     "text": [
      "Warning message in eval(expr, envir, enclos):\n",
      "“NAs introduced by coercion”\n",
      "Warning message in eval(expr, envir, enclos):\n",
      "“NAs introduced by coercion”\n"
     ]
    }
   ],
   "source": [
    "data$CK = as.numeric(data$CK)\n",
    "data$Troponin = as.numeric(data$Troponin)\n",
    "data$CRP = as.numeric(data$CRP)\n",
    "data$Grace_Score = as.numeric(data$Grace_Score)"
   ]
  },
  {
   "cell_type": "code",
   "execution_count": 45,
   "id": "293ce28e-fc1a-45d3-b07c-b95b85f7fdec",
   "metadata": {},
   "outputs": [],
   "source": [
    "## select prediction variables"
   ]
  },
  {
   "cell_type": "code",
   "execution_count": 46,
   "id": "a2ccfb93-c8b0-4f24-990b-4d0beb270927",
   "metadata": {},
   "outputs": [],
   "source": [
    "prediction_vars = c( 'Factor4',  'Normalized_CK', 'Normalized_CRP', 'Normalized_Troponin', 'Grace_Score')"
   ]
  },
  {
   "cell_type": "code",
   "execution_count": 47,
   "id": "1ff9490f-07c6-4302-9fd7-049fc75f3c91",
   "metadata": {},
   "outputs": [],
   "source": [
    "## select variable that should be predicted"
   ]
  },
  {
   "cell_type": "code",
   "execution_count": 48,
   "id": "43716163-c725-4958-919c-33f27f120c45",
   "metadata": {},
   "outputs": [],
   "source": [
    "prediction_group = 'tp_outcome'\n",
    "prediction_subset = c('TP1_good', 'TP1_bad')"
   ]
  },
  {
   "cell_type": "code",
   "execution_count": 49,
   "id": "c7f18224-3d4c-4450-8089-b03eac38df00",
   "metadata": {},
   "outputs": [],
   "source": [
    "prediction_data = data[,c(prediction_vars, prediction_group)]\n",
    "prediction_data$y = prediction_data[,prediction_group]\n",
    "prediction_data = prediction_data[prediction_data$y %in% prediction_subset,]\n",
    "\n",
    "prediction_data$y[prediction_data$y == prediction_subset[2]] = 1  # predict BAD outcome \n",
    "prediction_data$y[prediction_data$y == prediction_subset[1]] = 0  # good outcome as control"
   ]
  },
  {
   "cell_type": "code",
   "execution_count": 50,
   "id": "3d5ea718-8af7-49f6-8265-ad1df26895d9",
   "metadata": {},
   "outputs": [
    {
     "name": "stderr",
     "output_type": "stream",
     "text": [
      "Warning message:\n",
      "“\u001b[1m\u001b[22mThere was 1 warning in `summarise()`.\n",
      "\u001b[1m\u001b[22m\u001b[36mℹ\u001b[39m In argument: `across(everything(), mean, na.rm = TRUE)`.\n",
      "\u001b[36mℹ\u001b[39m In group 1: `tp_outcome = \"TP1_bad\"` and `y = \"1\"`.\n",
      "Caused by warning:\n",
      "\u001b[1m\u001b[22m\u001b[33m!\u001b[39m The `...` argument of `across()` is deprecated as of dplyr 1.1.0.\n",
      "Supply arguments directly to `.fns` through an anonymous function instead.\n",
      "\n",
      "  # Previously\n",
      "  across(a:b, mean, na.rm = TRUE)\n",
      "\n",
      "  # Now\n",
      "  across(a:b, \\(x) mean(x, na.rm = TRUE))”\n",
      "\u001b[1m\u001b[22m`summarise()` has grouped output by 'tp_outcome'. You can override using the\n",
      "`.groups` argument.\n"
     ]
    },
    {
     "data": {
      "text/html": [
       "<table class=\"dataframe\">\n",
       "<caption>A grouped_df: 2 × 7</caption>\n",
       "<thead>\n",
       "\t<tr><th scope=col>tp_outcome</th><th scope=col>y</th><th scope=col>Factor4</th><th scope=col>Normalized_CK</th><th scope=col>Normalized_CRP</th><th scope=col>Normalized_Troponin</th><th scope=col>Grace_Score</th></tr>\n",
       "\t<tr><th scope=col>&lt;chr&gt;</th><th scope=col>&lt;chr&gt;</th><th scope=col>&lt;dbl&gt;</th><th scope=col>&lt;dbl&gt;</th><th scope=col>&lt;dbl&gt;</th><th scope=col>&lt;dbl&gt;</th><th scope=col>&lt;dbl&gt;</th></tr>\n",
       "</thead>\n",
       "<tbody>\n",
       "\t<tr><td>TP1_bad </td><td>1</td><td>-1.1259212</td><td>0.9443535</td><td>-0.6691209</td><td>0.7195349</td><td>126.0</td></tr>\n",
       "\t<tr><td>TP1_good</td><td>0</td><td>-0.6298132</td><td>0.6861117</td><td>-0.6469700</td><td>0.2787430</td><td>100.7</td></tr>\n",
       "</tbody>\n",
       "</table>\n"
      ],
      "text/latex": [
       "A grouped\\_df: 2 × 7\n",
       "\\begin{tabular}{lllllll}\n",
       " tp\\_outcome & y & Factor4 & Normalized\\_CK & Normalized\\_CRP & Normalized\\_Troponin & Grace\\_Score\\\\\n",
       " <chr> & <chr> & <dbl> & <dbl> & <dbl> & <dbl> & <dbl>\\\\\n",
       "\\hline\n",
       "\t TP1\\_bad  & 1 & -1.1259212 & 0.9443535 & -0.6691209 & 0.7195349 & 126.0\\\\\n",
       "\t TP1\\_good & 0 & -0.6298132 & 0.6861117 & -0.6469700 & 0.2787430 & 100.7\\\\\n",
       "\\end{tabular}\n"
      ],
      "text/markdown": [
       "\n",
       "A grouped_df: 2 × 7\n",
       "\n",
       "| tp_outcome &lt;chr&gt; | y &lt;chr&gt; | Factor4 &lt;dbl&gt; | Normalized_CK &lt;dbl&gt; | Normalized_CRP &lt;dbl&gt; | Normalized_Troponin &lt;dbl&gt; | Grace_Score &lt;dbl&gt; |\n",
       "|---|---|---|---|---|---|---|\n",
       "| TP1_bad  | 1 | -1.1259212 | 0.9443535 | -0.6691209 | 0.7195349 | 126.0 |\n",
       "| TP1_good | 0 | -0.6298132 | 0.6861117 | -0.6469700 | 0.2787430 | 100.7 |\n",
       "\n"
      ],
      "text/plain": [
       "  tp_outcome y Factor4    Normalized_CK Normalized_CRP Normalized_Troponin\n",
       "1 TP1_bad    1 -1.1259212 0.9443535     -0.6691209     0.7195349          \n",
       "2 TP1_good   0 -0.6298132 0.6861117     -0.6469700     0.2787430          \n",
       "  Grace_Score\n",
       "1 126.0      \n",
       "2 100.7      "
      ]
     },
     "metadata": {},
     "output_type": "display_data"
    }
   ],
   "source": [
    "## Check in which direction to adjust\n",
    "prediction_data %>% group_by(tp_outcome,y) %>% summarise(across(everything(), mean, na.rm =TRUE))\n",
    "\n",
    "# predict bad --> higher values for bad"
   ]
  },
  {
   "cell_type": "code",
   "execution_count": 51,
   "id": "67e70c47-f92d-4cd5-a748-ed6937f77d98",
   "metadata": {},
   "outputs": [
    {
     "data": {
      "text/html": [
       "<table class=\"dataframe\">\n",
       "<caption>A grouped_df: 2 × 2</caption>\n",
       "<thead>\n",
       "\t<tr><th scope=col>tp_outcome</th><th scope=col>n</th></tr>\n",
       "\t<tr><th scope=col>&lt;chr&gt;</th><th scope=col>&lt;int&gt;</th></tr>\n",
       "</thead>\n",
       "<tbody>\n",
       "\t<tr><td>TP1_bad </td><td> 6</td></tr>\n",
       "\t<tr><td>TP1_good</td><td>13</td></tr>\n",
       "</tbody>\n",
       "</table>\n"
      ],
      "text/latex": [
       "A grouped\\_df: 2 × 2\n",
       "\\begin{tabular}{ll}\n",
       " tp\\_outcome & n\\\\\n",
       " <chr> & <int>\\\\\n",
       "\\hline\n",
       "\t TP1\\_bad  &  6\\\\\n",
       "\t TP1\\_good & 13\\\\\n",
       "\\end{tabular}\n"
      ],
      "text/markdown": [
       "\n",
       "A grouped_df: 2 × 2\n",
       "\n",
       "| tp_outcome &lt;chr&gt; | n &lt;int&gt; |\n",
       "|---|---|\n",
       "| TP1_bad  |  6 |\n",
       "| TP1_good | 13 |\n",
       "\n"
      ],
      "text/plain": [
       "  tp_outcome n \n",
       "1 TP1_bad     6\n",
       "2 TP1_good   13"
      ]
     },
     "metadata": {},
     "output_type": "display_data"
    }
   ],
   "source": [
    "prediction_data %>% group_by(tp_outcome) %>% count()"
   ]
  },
  {
   "cell_type": "code",
   "execution_count": 52,
   "id": "4703e689-285d-4adc-be52-83bd25b06205",
   "metadata": {},
   "outputs": [],
   "source": [
    "# Adjust sign of factor values (so that bad values are the higher ones)\n",
    "prediction_data$Factor4 = -1*prediction_data$Factor4\n",
    "prediction_data$Normalized_CRP = -1* prediction_data$Normalized_CRP"
   ]
  },
  {
   "cell_type": "code",
   "execution_count": null,
   "id": "c9c1ebca-d6a2-4e81-916e-942d22875148",
   "metadata": {},
   "outputs": [],
   "source": []
  },
  {
   "cell_type": "code",
   "execution_count": 53,
   "id": "4042b47c-9304-45b9-a3ea-461af0063cd7",
   "metadata": {},
   "outputs": [],
   "source": [
    "# Transform and scale scores of prediction variables (to be between 0 and 1)"
   ]
  },
  {
   "cell_type": "code",
   "execution_count": 54,
   "id": "1cc6fa24-e12b-4ea2-afb5-dd4bc316781b",
   "metadata": {},
   "outputs": [],
   "source": [
    "prediction_data = cbind( prediction_data[,c('y', prediction_group)],\n",
    "      apply(prediction_data[,prediction_vars], MARGIN = 2, FUN = function(x){\n",
    "    (x - min(x, na.rm = TRUE)) / (max(x, na.rm = TRUE) - min(x, na.rm = TRUE))}))"
   ]
  },
  {
   "cell_type": "code",
   "execution_count": 55,
   "id": "ec5eefe8-3cfd-4f57-b2e7-6b866fae23ff",
   "metadata": {},
   "outputs": [],
   "source": [
    "## Transform to long format"
   ]
  },
  {
   "cell_type": "code",
   "execution_count": 56,
   "id": "b9970f53-e916-4c2b-97a2-5957fa3a3d29",
   "metadata": {},
   "outputs": [
    {
     "name": "stderr",
     "output_type": "stream",
     "text": [
      "Using y, tp_outcome as id variables\n",
      "\n"
     ]
    }
   ],
   "source": [
    "prediction_data_long = melt(prediction_data)"
   ]
  },
  {
   "cell_type": "code",
   "execution_count": 57,
   "id": "d3626bcd-32fc-40ca-bdb0-56a1315403a6",
   "metadata": {},
   "outputs": [],
   "source": [
    "# remove NA values"
   ]
  },
  {
   "cell_type": "code",
   "execution_count": 58,
   "id": "06bb2169-d37a-47f5-acd4-3909865fd8f1",
   "metadata": {},
   "outputs": [],
   "source": [
    "prediction_data_long = prediction_data_long[!is.na(prediction_data_long$value),]"
   ]
  },
  {
   "cell_type": "code",
   "execution_count": 60,
   "id": "ca3528fd-28ee-4391-8011-6141235077a7",
   "metadata": {},
   "outputs": [],
   "source": [
    "## get amount observations per prediction group"
   ]
  },
  {
   "cell_type": "code",
   "execution_count": 61,
   "id": "61d97638-3330-4944-bc39-5b2344d9e7f3",
   "metadata": {},
   "outputs": [],
   "source": [
    "amount_samples = prediction_data_long %>% group_by(variable) %>% count()"
   ]
  },
  {
   "cell_type": "code",
   "execution_count": 62,
   "id": "cad5c5ef-b840-43f5-b92c-29c5905068e1",
   "metadata": {},
   "outputs": [],
   "source": [
    "prediction_data_long = merge(prediction_data_long, amount_samples)"
   ]
  },
  {
   "cell_type": "code",
   "execution_count": 63,
   "id": "458ec0ab-5e7d-4355-90ca-dff4464521bd",
   "metadata": {},
   "outputs": [],
   "source": [
    "prediction_data_long$variable_w_n = paste0(prediction_data_long$variable, ' (n=', prediction_data_long$n, ')')"
   ]
  },
  {
   "cell_type": "code",
   "execution_count": 64,
   "id": "21da05ce-2d4f-4df8-a605-4fa9090ce4d0",
   "metadata": {},
   "outputs": [
    {
     "data": {
      "text/html": [
       "<table class=\"dataframe\">\n",
       "<caption>A data.frame: 2 × 6</caption>\n",
       "<thead>\n",
       "\t<tr><th></th><th scope=col>variable</th><th scope=col>y</th><th scope=col>tp_outcome</th><th scope=col>value</th><th scope=col>n</th><th scope=col>variable_w_n</th></tr>\n",
       "\t<tr><th></th><th scope=col>&lt;fct&gt;</th><th scope=col>&lt;chr&gt;</th><th scope=col>&lt;chr&gt;</th><th scope=col>&lt;dbl&gt;</th><th scope=col>&lt;int&gt;</th><th scope=col>&lt;chr&gt;</th></tr>\n",
       "</thead>\n",
       "<tbody>\n",
       "\t<tr><th scope=row>1</th><td>Factor4</td><td>1</td><td>TP1_bad</td><td>0.4734997</td><td>19</td><td>Factor4 (n=19)</td></tr>\n",
       "\t<tr><th scope=row>2</th><td>Factor4</td><td>1</td><td>TP1_bad</td><td>0.8558891</td><td>19</td><td>Factor4 (n=19)</td></tr>\n",
       "</tbody>\n",
       "</table>\n"
      ],
      "text/latex": [
       "A data.frame: 2 × 6\n",
       "\\begin{tabular}{r|llllll}\n",
       "  & variable & y & tp\\_outcome & value & n & variable\\_w\\_n\\\\\n",
       "  & <fct> & <chr> & <chr> & <dbl> & <int> & <chr>\\\\\n",
       "\\hline\n",
       "\t1 & Factor4 & 1 & TP1\\_bad & 0.4734997 & 19 & Factor4 (n=19)\\\\\n",
       "\t2 & Factor4 & 1 & TP1\\_bad & 0.8558891 & 19 & Factor4 (n=19)\\\\\n",
       "\\end{tabular}\n"
      ],
      "text/markdown": [
       "\n",
       "A data.frame: 2 × 6\n",
       "\n",
       "| <!--/--> | variable &lt;fct&gt; | y &lt;chr&gt; | tp_outcome &lt;chr&gt; | value &lt;dbl&gt; | n &lt;int&gt; | variable_w_n &lt;chr&gt; |\n",
       "|---|---|---|---|---|---|---|\n",
       "| 1 | Factor4 | 1 | TP1_bad | 0.4734997 | 19 | Factor4 (n=19) |\n",
       "| 2 | Factor4 | 1 | TP1_bad | 0.8558891 | 19 | Factor4 (n=19) |\n",
       "\n"
      ],
      "text/plain": [
       "  variable y tp_outcome value     n  variable_w_n  \n",
       "1 Factor4  1 TP1_bad    0.4734997 19 Factor4 (n=19)\n",
       "2 Factor4  1 TP1_bad    0.8558891 19 Factor4 (n=19)"
      ]
     },
     "metadata": {},
     "output_type": "display_data"
    }
   ],
   "source": [
    "head(prediction_data_long,2)"
   ]
  },
  {
   "cell_type": "markdown",
   "id": "48000934-14d7-4e7e-8303-a3cfa26f436b",
   "metadata": {},
   "source": [
    "## Calculate AUC values"
   ]
  },
  {
   "cell_type": "code",
   "execution_count": 68,
   "id": "94a1235c-7926-4b58-bfb1-590d4afc9465",
   "metadata": {},
   "outputs": [],
   "source": [
    "auc_values = data.frame()"
   ]
  },
  {
   "cell_type": "code",
   "execution_count": 69,
   "id": "bf225008-75de-4c2d-add7-2ed2ae94b090",
   "metadata": {},
   "outputs": [
    {
     "name": "stderr",
     "output_type": "stream",
     "text": [
      "Setting levels: control = 0, case = 1\n",
      "\n",
      "Setting direction: controls < cases\n",
      "\n",
      "Setting levels: control = 0, case = 1\n",
      "\n",
      "Setting direction: controls < cases\n",
      "\n",
      "Setting levels: control = 0, case = 1\n",
      "\n",
      "Setting direction: controls < cases\n",
      "\n",
      "Setting levels: control = 0, case = 1\n",
      "\n",
      "Setting direction: controls < cases\n",
      "\n",
      "Setting levels: control = 0, case = 1\n",
      "\n",
      "Setting direction: controls < cases\n",
      "\n"
     ]
    }
   ],
   "source": [
    "for(i in unique(prediction_data_long$variable)){\n",
    "    calc_auc = data.frame(variable = i, \n",
    "                          auc = auc(prediction_data_long$y[prediction_data_long$variable == i], prediction_data_long$value[prediction_data_long$variable == i])\n",
    "                          )\n",
    "    auc_values = rbind(auc_values, calc_auc)\n",
    "    }"
   ]
  },
  {
   "cell_type": "code",
   "execution_count": 70,
   "id": "24180bbb-d8b2-4b04-80ed-bc0cdf9e5c2d",
   "metadata": {},
   "outputs": [
    {
     "data": {
      "text/html": [
       "<table class=\"dataframe\">\n",
       "<caption>A data.frame: 5 × 2</caption>\n",
       "<thead>\n",
       "\t<tr><th scope=col>variable</th><th scope=col>auc</th></tr>\n",
       "\t<tr><th scope=col>&lt;chr&gt;</th><th scope=col>&lt;auc&gt;</th></tr>\n",
       "</thead>\n",
       "<tbody>\n",
       "\t<tr><td>Factor4            </td><td>0.8333333</td></tr>\n",
       "\t<tr><td>Grace_Score        </td><td>0.7333333</td></tr>\n",
       "\t<tr><td>Normalized_CK      </td><td>0.6025641</td></tr>\n",
       "\t<tr><td>Normalized_CRP     </td><td>0.5181818</td></tr>\n",
       "\t<tr><td>Normalized_Troponin</td><td>0.6666667</td></tr>\n",
       "</tbody>\n",
       "</table>\n"
      ],
      "text/latex": [
       "A data.frame: 5 × 2\n",
       "\\begin{tabular}{ll}\n",
       " variable & auc\\\\\n",
       " <chr> & <auc>\\\\\n",
       "\\hline\n",
       "\t Factor4             & 0.8333333\\\\\n",
       "\t Grace\\_Score         & 0.7333333\\\\\n",
       "\t Normalized\\_CK       & 0.6025641\\\\\n",
       "\t Normalized\\_CRP      & 0.5181818\\\\\n",
       "\t Normalized\\_Troponin & 0.6666667\\\\\n",
       "\\end{tabular}\n"
      ],
      "text/markdown": [
       "\n",
       "A data.frame: 5 × 2\n",
       "\n",
       "| variable &lt;chr&gt; | auc &lt;auc&gt; |\n",
       "|---|---|\n",
       "| Factor4             | 0.8333333 |\n",
       "| Grace_Score         | 0.7333333 |\n",
       "| Normalized_CK       | 0.6025641 |\n",
       "| Normalized_CRP      | 0.5181818 |\n",
       "| Normalized_Troponin | 0.6666667 |\n",
       "\n"
      ],
      "text/plain": [
       "  variable            auc      \n",
       "1 Factor4             0.8333333\n",
       "2 Grace_Score         0.7333333\n",
       "3 Normalized_CK       0.6025641\n",
       "4 Normalized_CRP      0.5181818\n",
       "5 Normalized_Troponin 0.6666667"
      ]
     },
     "metadata": {},
     "output_type": "display_data"
    }
   ],
   "source": [
    "auc_values"
   ]
  },
  {
   "cell_type": "code",
   "execution_count": 71,
   "id": "88187e97-6757-40d6-9c97-d377a19bed87",
   "metadata": {
    "tags": []
   },
   "outputs": [],
   "source": [
    "### Save AUC values"
   ]
  },
  {
   "cell_type": "code",
   "execution_count": 72,
   "id": "43808885-8cbd-49eb-b625-f751714ce66d",
   "metadata": {},
   "outputs": [],
   "source": [
    "write.csv(auc_values, paste0(result_path,'/Supplementary/SUPP_E9_Factor4_ROC_Plot_AUC_values.csv'), row.names = FALSE)"
   ]
  },
  {
   "cell_type": "code",
   "execution_count": 73,
   "id": "f8835d11-d76c-4af0-90ba-3240d26b4ff5",
   "metadata": {},
   "outputs": [
    {
     "name": "stderr",
     "output_type": "stream",
     "text": [
      "Setting levels: control = 0, case = 1\n",
      "\n",
      "Setting direction: controls < cases\n",
      "\n"
     ]
    },
    {
     "data": {
      "text/html": [
       "0.833333333333333"
      ],
      "text/latex": [
       "0.833333333333333"
      ],
      "text/markdown": [
       "0.833333333333333"
      ],
      "text/plain": [
       "Area under the curve: 0.8333"
      ]
     },
     "metadata": {},
     "output_type": "display_data"
    }
   ],
   "source": [
    "auc(prediction_data_long$y[prediction_data_long$variable == 'Factor4'], prediction_data_long$value[prediction_data_long$variable == 'Factor4'])"
   ]
  },
  {
   "cell_type": "markdown",
   "id": "14964791-e382-42ee-b952-f5d497fe3a8b",
   "metadata": {},
   "source": [
    "## Plot prediction / ROC"
   ]
  },
  {
   "cell_type": "code",
   "execution_count": 74,
   "id": "d75ffee1-2789-4d74-a95e-02e978b5b51b",
   "metadata": {},
   "outputs": [],
   "source": [
    "# Figure Name\n",
    "figure_name = 'FIG10_E9_ROC_Factor4_TP1'"
   ]
  },
  {
   "cell_type": "code",
   "execution_count": 75,
   "id": "924692d8-eea9-4b7e-a974-9c913f7e23a1",
   "metadata": {},
   "outputs": [],
   "source": [
    "# Sizes of the plot\n",
    "width_par = 2\n",
    "height_par = 2"
   ]
  },
  {
   "cell_type": "code",
   "execution_count": 76,
   "id": "4209cf97-4bc3-4060-b1cf-224cf31c70c8",
   "metadata": {},
   "outputs": [],
   "source": [
    "xtitle = xlab( 'False Positive Fraction')\n",
    "ytitle  = ylab('Sensititity')"
   ]
  },
  {
   "cell_type": "code",
   "execution_count": 77,
   "id": "f92d5f66-5b02-4802-b9e0-9f5621009bc3",
   "metadata": {},
   "outputs": [],
   "source": [
    "## Specify Plot\n",
    "rocplot = ggplot(prediction_data_long, aes(m = value, d = as.numeric(y), color = variable_w_n, linetype= variable_w_n))+ geom_roc(n.cuts=0,labels=FALSE, size = 0.5)"
   ]
  },
  {
   "cell_type": "code",
   "execution_count": 78,
   "id": "7aa79c33-043e-45d4-937b-bd0cc59dd103",
   "metadata": {},
   "outputs": [
    {
     "data": {
      "text/html": [
       "<style>\n",
       ".list-inline {list-style: none; margin:0; padding: 0}\n",
       ".list-inline>li {display: inline-block}\n",
       ".list-inline>li:not(:last-child)::after {content: \"\\00b7\"; padding: 0 .5ex}\n",
       "</style>\n",
       "<ol class=list-inline><li>'Factor4 (n=19)'</li><li>'Grace_Score (n=16)'</li><li>'Normalized_CK (n=19)'</li><li>'Normalized_CRP (n=16)'</li><li>'Normalized_Troponin (n=19)'</li></ol>\n"
      ],
      "text/latex": [
       "\\begin{enumerate*}\n",
       "\\item 'Factor4 (n=19)'\n",
       "\\item 'Grace\\_Score (n=16)'\n",
       "\\item 'Normalized\\_CK (n=19)'\n",
       "\\item 'Normalized\\_CRP (n=16)'\n",
       "\\item 'Normalized\\_Troponin (n=19)'\n",
       "\\end{enumerate*}\n"
      ],
      "text/markdown": [
       "1. 'Factor4 (n=19)'\n",
       "2. 'Grace_Score (n=16)'\n",
       "3. 'Normalized_CK (n=19)'\n",
       "4. 'Normalized_CRP (n=16)'\n",
       "5. 'Normalized_Troponin (n=19)'\n",
       "\n",
       "\n"
      ],
      "text/plain": [
       "[1] \"Factor4 (n=19)\"             \"Grace_Score (n=16)\"        \n",
       "[3] \"Normalized_CK (n=19)\"       \"Normalized_CRP (n=16)\"     \n",
       "[5] \"Normalized_Troponin (n=19)\""
      ]
     },
     "metadata": {},
     "output_type": "display_data"
    }
   ],
   "source": [
    "unique(prediction_data_long$variable_w_n)"
   ]
  },
  {
   "cell_type": "code",
   "execution_count": 79,
   "id": "ec30c88b-f809-4f22-bf27-1b7727226371",
   "metadata": {},
   "outputs": [
    {
     "name": "stderr",
     "output_type": "stream",
     "text": [
      "Warning message:\n",
      "“\u001b[1m\u001b[22mThe following aesthetics were dropped during statistical transformation: \u001b[32mm, d\u001b[39m\n",
      "\u001b[36mℹ\u001b[39m This can happen when ggplot fails to infer the correct grouping structure in\n",
      "  the data.\n",
      "\u001b[36mℹ\u001b[39m Did you forget to specify a `group` aesthetic or to convert a numerical\n",
      "  variable into a factor?”\n"
     ]
    },
    {
     "data": {
      "image/png": "[encoded data removed]",
      "text/plain": [
       "plot without title"
      ]
     },
     "metadata": {
      "image/png": {
       "height": 420,
       "width": 420
      }
     },
     "output_type": "display_data"
    }
   ],
   "source": [
    "## Configuration + Modification of plot\n",
    "roc_plot = rocplot + \n",
    "    plot_config + \n",
    "    xtitle + \n",
    "    ytitle + \n",
    "    ggtitle('ROC curve TP1 good vs. bad') +\n",
    "    geom_abline(slope = 1, intercept = 0) +     \n",
    "    scale_color_manual(values = c('Factor1 (n=21)' = \"#BC0B58\",\n",
    "                                  'Factor4 (n=19)' = \"#BC0B58\",\n",
    "                                  'Normalized_CK (n=19)' = \"#087C6D\",\n",
    "                                  'Normalized_CRP (n=16)'=\"#11C1A9\",\n",
    "                                  'Normalized_Troponin (n=19)'=\"#3F5E5A\",\n",
    "                                  'Grace_Score (n=16)' = '#CF7C24'\n",
    "                                 ))+\n",
    "   scale_linetype_manual(values = c('Factor1 (n=21)' = \"dashed\",\n",
    "                                    'Factor4 (n=19)' = \"solid\",\n",
    "                                  'Normalized_CK (n=19)' = \"solid\",\n",
    "                                  'Normalized_CRP (n=16)'=\"solid\",\n",
    "                                  'Normalized_Troponin (n=19)'=\"solid\",\n",
    "                                     'Grace_Score (n=16)' = 'solid'\n",
    "                                 ))+\n",
    "    theme(legend.position = 'none')\n",
    "\n",
    "#legend_roc = get_legend(roc_plot)\n",
    "    \n",
    "\n",
    "roc_plot"
   ]
  },
  {
   "cell_type": "code",
   "execution_count": 80,
   "id": "12cd44b1-5a87-4bbf-bdcf-9f5fa8b23686",
   "metadata": {},
   "outputs": [
    {
     "name": "stderr",
     "output_type": "stream",
     "text": [
      "Warning message:\n",
      "“\u001b[1m\u001b[22mThe following aesthetics were dropped during statistical transformation: \u001b[32mm, d\u001b[39m\n",
      "\u001b[36mℹ\u001b[39m This can happen when ggplot fails to infer the correct grouping structure in\n",
      "  the data.\n",
      "\u001b[36mℹ\u001b[39m Did you forget to specify a `group` aesthetic or to convert a numerical\n",
      "  variable into a factor?”\n"
     ]
    },
    {
     "data": {
      "text/html": [
       "<strong>png:</strong> 2"
      ],
      "text/latex": [
       "\\textbf{png:} 2"
      ],
      "text/markdown": [
       "**png:** 2"
      ],
      "text/plain": [
       "png \n",
       "  2 "
      ]
     },
     "metadata": {},
     "output_type": "display_data"
    }
   ],
   "source": [
    "pdf(paste0('figures/Final_Figures/', figure_name, version, '.pdf'), width =width_par, height =height_par)\n",
    "print(roc_plot)\n",
    "dev.off()"
   ]
  },
  {
   "cell_type": "code",
   "execution_count": 81,
   "id": "f0888065-b3b1-4454-b61a-1cfa2fd291b7",
   "metadata": {},
   "outputs": [],
   "source": [
    "color_data = data.frame(description = c('Factor4 (n=19)', 'Normalized_CK (n=19)',  'Normalized_CRP (n=16)',  'Normalized_Troponin (n=19)'),\n",
    "                        color = c( \"#BC0B58\",\"#087C6D\",\"#11C1A9\",\"#3F5E5A\"))"
   ]
  },
  {
   "cell_type": "code",
   "execution_count": 82,
   "id": "120be821-5768-4f3b-8afe-c303404d5e87",
   "metadata": {},
   "outputs": [],
   "source": [
    "# Test calculation of ROC values\n",
    "\n",
    "# prediction_data[!is.na(prediction_data$Normalized_CRP ),]"
   ]
  },
  {
   "cell_type": "code",
   "execution_count": 83,
   "id": "f4414511-7b57-4293-a443-92f5f9174438",
   "metadata": {},
   "outputs": [],
   "source": [
    "### Seperately define legend"
   ]
  },
  {
   "cell_type": "code",
   "execution_count": 84,
   "id": "7c7c677a-08fd-44df-b558-a5c7f95a68b7",
   "metadata": {},
   "outputs": [],
   "source": [
    "legend_add  = Legend(labels = unique(color_data$description), labels_gp = gpar(fontsize = 8),legend_gp =list(col = unique(c(unique(color_data$color)))), \n",
    "    nrow = 4, type = 'lines') "
   ]
  },
  {
   "cell_type": "code",
   "execution_count": 85,
   "id": "c4c01306-732d-4e8f-a362-82eafffd6bbc",
   "metadata": {},
   "outputs": [],
   "source": [
    "legend_add_vertical = packLegend(legend_add, direction = \"horizontal\")"
   ]
  },
  {
   "cell_type": "code",
   "execution_count": 86,
   "id": "58579c08-96d0-4750-8849-bb34168b1a01",
   "metadata": {},
   "outputs": [
    {
     "data": {
      "text/html": [
       "<strong>png:</strong> 2"
      ],
      "text/latex": [
       "\\textbf{png:} 2"
      ],
      "text/markdown": [
       "**png:** 2"
      ],
      "text/plain": [
       "png \n",
       "  2 "
      ]
     },
     "metadata": {},
     "output_type": "display_data"
    }
   ],
   "source": [
    "pdf(paste0('figures/Final_Figures/ROC_Factor4_Legend_Text', '.pdf'), \n",
    "    width =2, \n",
    "    height = 0.7)\n",
    "draw(legend_add_vertical)\n",
    "dev.off()"
   ]
  },
  {
   "cell_type": "code",
   "execution_count": 87,
   "id": "a720b6b4-0df4-4ad2-9f70-ae10f70be75e",
   "metadata": {},
   "outputs": [
    {
     "data": {
      "image/png": "[encoded data removed]",
      "text/plain": [
       "plot without title"
      ]
     },
     "metadata": {
      "image/png": {
       "height": 120,
       "width": 1800
      }
     },
     "output_type": "display_data"
    }
   ],
   "source": [
    "options(repr.plot.width=30, repr.plot.height=2)\n",
    "draw(legend_add_vertical, test = \"Circo Legend\")"
   ]
  },
  {
   "cell_type": "markdown",
   "id": "eb616695-19df-4c04-baa0-ccc9df02c5c1",
   "metadata": {},
   "source": [
    "## Prediction metrics table"
   ]
  },
  {
   "cell_type": "code",
   "execution_count": 88,
   "id": "a3fedcba-5586-42e7-81bd-0032f1d2ae89",
   "metadata": {},
   "outputs": [
    {
     "data": {
      "text/html": [
       "<table class=\"dataframe\">\n",
       "<caption>A data.frame: 2 × 6</caption>\n",
       "<thead>\n",
       "\t<tr><th></th><th scope=col>variable</th><th scope=col>y</th><th scope=col>tp_outcome</th><th scope=col>value</th><th scope=col>n</th><th scope=col>variable_w_n</th></tr>\n",
       "\t<tr><th></th><th scope=col>&lt;fct&gt;</th><th scope=col>&lt;chr&gt;</th><th scope=col>&lt;chr&gt;</th><th scope=col>&lt;dbl&gt;</th><th scope=col>&lt;int&gt;</th><th scope=col>&lt;chr&gt;</th></tr>\n",
       "</thead>\n",
       "<tbody>\n",
       "\t<tr><th scope=row>1</th><td>Factor4</td><td>1</td><td>TP1_bad</td><td>0.4734997</td><td>19</td><td>Factor4 (n=19)</td></tr>\n",
       "\t<tr><th scope=row>2</th><td>Factor4</td><td>1</td><td>TP1_bad</td><td>0.8558891</td><td>19</td><td>Factor4 (n=19)</td></tr>\n",
       "</tbody>\n",
       "</table>\n"
      ],
      "text/latex": [
       "A data.frame: 2 × 6\n",
       "\\begin{tabular}{r|llllll}\n",
       "  & variable & y & tp\\_outcome & value & n & variable\\_w\\_n\\\\\n",
       "  & <fct> & <chr> & <chr> & <dbl> & <int> & <chr>\\\\\n",
       "\\hline\n",
       "\t1 & Factor4 & 1 & TP1\\_bad & 0.4734997 & 19 & Factor4 (n=19)\\\\\n",
       "\t2 & Factor4 & 1 & TP1\\_bad & 0.8558891 & 19 & Factor4 (n=19)\\\\\n",
       "\\end{tabular}\n"
      ],
      "text/markdown": [
       "\n",
       "A data.frame: 2 × 6\n",
       "\n",
       "| <!--/--> | variable &lt;fct&gt; | y &lt;chr&gt; | tp_outcome &lt;chr&gt; | value &lt;dbl&gt; | n &lt;int&gt; | variable_w_n &lt;chr&gt; |\n",
       "|---|---|---|---|---|---|---|\n",
       "| 1 | Factor4 | 1 | TP1_bad | 0.4734997 | 19 | Factor4 (n=19) |\n",
       "| 2 | Factor4 | 1 | TP1_bad | 0.8558891 | 19 | Factor4 (n=19) |\n",
       "\n"
      ],
      "text/plain": [
       "  variable y tp_outcome value     n  variable_w_n  \n",
       "1 Factor4  1 TP1_bad    0.4734997 19 Factor4 (n=19)\n",
       "2 Factor4  1 TP1_bad    0.8558891 19 Factor4 (n=19)"
      ]
     },
     "metadata": {},
     "output_type": "display_data"
    }
   ],
   "source": [
    "head(prediction_data_long,2)"
   ]
  },
  {
   "cell_type": "code",
   "execution_count": 89,
   "id": "5e7014d1-6fb1-4e82-9d95-796e48cb4de3",
   "metadata": {},
   "outputs": [],
   "source": [
    "prediction_data_long$y = as.factor(prediction_data_long$y)"
   ]
  },
  {
   "cell_type": "code",
   "execution_count": 90,
   "id": "04f4783a-0fd6-4a07-81a8-1ad4dd8127bb",
   "metadata": {},
   "outputs": [
    {
     "data": {
      "text/html": [
       "<style>\n",
       ".list-inline {list-style: none; margin:0; padding: 0}\n",
       ".list-inline>li {display: inline-block}\n",
       ".list-inline>li:not(:last-child)::after {content: \"\\00b7\"; padding: 0 .5ex}\n",
       "</style>\n",
       "<ol class=list-inline><li>'0'</li><li>'1'</li></ol>\n"
      ],
      "text/latex": [
       "\\begin{enumerate*}\n",
       "\\item '0'\n",
       "\\item '1'\n",
       "\\end{enumerate*}\n"
      ],
      "text/markdown": [
       "1. '0'\n",
       "2. '1'\n",
       "\n",
       "\n"
      ],
      "text/plain": [
       "[1] \"0\" \"1\""
      ]
     },
     "metadata": {},
     "output_type": "display_data"
    }
   ],
   "source": [
    "levels(prediction_data_long$y)"
   ]
  },
  {
   "cell_type": "code",
   "execution_count": 91,
   "id": "c7722c67-e78f-40e8-8b41-cb0234ca9b90",
   "metadata": {},
   "outputs": [],
   "source": [
    "prediction_data_long$y = relevel(prediction_data_long$y, '0')"
   ]
  },
  {
   "cell_type": "code",
   "execution_count": 92,
   "id": "144acb47-ae04-4e13-b129-7f2e5918f2f5",
   "metadata": {},
   "outputs": [],
   "source": [
    "TP1_prediction_metrics = data.frame()"
   ]
  },
  {
   "cell_type": "code",
   "execution_count": 93,
   "id": "a8c7d8a8-36fa-4806-b4c5-63d1250e7593",
   "metadata": {},
   "outputs": [],
   "source": [
    "for(i in unique(prediction_data_long$variable)){\n",
    "    data_use = prediction_data_long[prediction_data_long$variable == i,]\n",
    "    metrics = measureit(score =  data_use$value, class =  data_use$y, measure = c( 'PREC', 'REC', 'SPEC', 'FPR'))\n",
    "    metrics = data.frame(do.call(cbind, metrics))\n",
    "    metrics$model = i\n",
    "    \n",
    "    TP1_prediction_metrics = rbind( metrics, TP1_prediction_metrics)\n",
    "    }"
   ]
  },
  {
   "cell_type": "code",
   "execution_count": 94,
   "id": "0bfa94c1-890c-4501-86c4-3596198c27c0",
   "metadata": {},
   "outputs": [
    {
     "data": {
      "text/html": [
       "<table class=\"dataframe\">\n",
       "<caption>A data.frame: 2 × 11</caption>\n",
       "<thead>\n",
       "\t<tr><th></th><th scope=col>Cutoff</th><th scope=col>Depth</th><th scope=col>TP</th><th scope=col>FP</th><th scope=col>TN</th><th scope=col>FN</th><th scope=col>SPEC</th><th scope=col>PREC</th><th scope=col>REC</th><th scope=col>FPR</th><th scope=col>model</th></tr>\n",
       "\t<tr><th></th><th scope=col>&lt;dbl&gt;</th><th scope=col>&lt;dbl&gt;</th><th scope=col>&lt;dbl&gt;</th><th scope=col>&lt;dbl&gt;</th><th scope=col>&lt;dbl&gt;</th><th scope=col>&lt;dbl&gt;</th><th scope=col>&lt;dbl&gt;</th><th scope=col>&lt;dbl&gt;</th><th scope=col>&lt;dbl&gt;</th><th scope=col>&lt;dbl&gt;</th><th scope=col>&lt;chr&gt;</th></tr>\n",
       "</thead>\n",
       "<tbody>\n",
       "\t<tr><th scope=row>1</th><td>Inf</td><td>0.00000000</td><td>0</td><td>0</td><td>13</td><td>6</td><td>1</td><td>NaN</td><td>0.0000000</td><td>0</td><td>Normalized_Troponin</td></tr>\n",
       "\t<tr><th scope=row>2</th><td>  1</td><td>0.05263158</td><td>1</td><td>0</td><td>13</td><td>5</td><td>1</td><td>  1</td><td>0.1666667</td><td>0</td><td>Normalized_Troponin</td></tr>\n",
       "</tbody>\n",
       "</table>\n"
      ],
      "text/latex": [
       "A data.frame: 2 × 11\n",
       "\\begin{tabular}{r|lllllllllll}\n",
       "  & Cutoff & Depth & TP & FP & TN & FN & SPEC & PREC & REC & FPR & model\\\\\n",
       "  & <dbl> & <dbl> & <dbl> & <dbl> & <dbl> & <dbl> & <dbl> & <dbl> & <dbl> & <dbl> & <chr>\\\\\n",
       "\\hline\n",
       "\t1 & Inf & 0.00000000 & 0 & 0 & 13 & 6 & 1 & NaN & 0.0000000 & 0 & Normalized\\_Troponin\\\\\n",
       "\t2 &   1 & 0.05263158 & 1 & 0 & 13 & 5 & 1 &   1 & 0.1666667 & 0 & Normalized\\_Troponin\\\\\n",
       "\\end{tabular}\n"
      ],
      "text/markdown": [
       "\n",
       "A data.frame: 2 × 11\n",
       "\n",
       "| <!--/--> | Cutoff &lt;dbl&gt; | Depth &lt;dbl&gt; | TP &lt;dbl&gt; | FP &lt;dbl&gt; | TN &lt;dbl&gt; | FN &lt;dbl&gt; | SPEC &lt;dbl&gt; | PREC &lt;dbl&gt; | REC &lt;dbl&gt; | FPR &lt;dbl&gt; | model &lt;chr&gt; |\n",
       "|---|---|---|---|---|---|---|---|---|---|---|---|\n",
       "| 1 | Inf | 0.00000000 | 0 | 0 | 13 | 6 | 1 | NaN | 0.0000000 | 0 | Normalized_Troponin |\n",
       "| 2 |   1 | 0.05263158 | 1 | 0 | 13 | 5 | 1 |   1 | 0.1666667 | 0 | Normalized_Troponin |\n",
       "\n"
      ],
      "text/plain": [
       "  Cutoff Depth      TP FP TN FN SPEC PREC REC       FPR model              \n",
       "1 Inf    0.00000000 0  0  13 6  1    NaN  0.0000000 0   Normalized_Troponin\n",
       "2   1    0.05263158 1  0  13 5  1      1  0.1666667 0   Normalized_Troponin"
      ]
     },
     "metadata": {},
     "output_type": "display_data"
    }
   ],
   "source": [
    "head(TP1_prediction_metrics,2)"
   ]
  },
  {
   "cell_type": "code",
   "execution_count": 95,
   "id": "8766c3c6-25d8-408f-a7ce-1a720a0551da",
   "metadata": {},
   "outputs": [],
   "source": [
    "### Save as supplementary table"
   ]
  },
  {
   "cell_type": "code",
   "execution_count": 96,
   "id": "93638b4c-5fb2-4e77-aef2-62cfef0cf51b",
   "metadata": {},
   "outputs": [],
   "source": [
    "write.csv(TP1_prediction_metrics, paste0(result_path,'/Supplementary/SUPP_E9_Factor4_prediction_metrics.csv'), row.names = FALSE)"
   ]
  },
  {
   "cell_type": "markdown",
   "id": "7b71cd35-4ae7-43a6-aaba-005fbdc00c87",
   "metadata": {},
   "source": [
    "# Prediction Factor 4 TP1 (taking into account other TPs for all variables)"
   ]
  },
  {
   "cell_type": "code",
   "execution_count": 186,
   "id": "17b8593a-4a3a-4038-85b2-922be3c239d4",
   "metadata": {},
   "outputs": [],
   "source": [
    "## choose prediction variables"
   ]
  },
  {
   "cell_type": "code",
   "execution_count": 187,
   "id": "b75c4608-3a89-4ffe-93b1-67ce18871b70",
   "metadata": {},
   "outputs": [],
   "source": [
    "prediction_vars = c('Factor4',  'Normalized_CK', 'Normalized_Troponin',  'Normalized_CRP')"
   ]
  },
  {
   "cell_type": "code",
   "execution_count": 188,
   "id": "9c0bb8eb-d106-4592-b708-1c35f6a916f8",
   "metadata": {},
   "outputs": [],
   "source": [
    "## select variable to predict"
   ]
  },
  {
   "cell_type": "code",
   "execution_count": 189,
   "id": "f4b80efb-f042-488c-8f53-6c6b25ad0923",
   "metadata": {},
   "outputs": [],
   "source": [
    "prediction_group = 'tp_outcome'\n",
    "prediction_subset = c('TP1_good', 'TP1_bad')"
   ]
  },
  {
   "cell_type": "code",
   "execution_count": 190,
   "id": "20550030-d978-4b73-9c69-42a79f73b81f",
   "metadata": {},
   "outputs": [],
   "source": [
    "#colnames(data)"
   ]
  },
  {
   "cell_type": "code",
   "execution_count": 191,
   "id": "aa363f3a-4c2b-4e36-aa7e-41427ee08c24",
   "metadata": {},
   "outputs": [],
   "source": [
    "prediction_data = data[,c(prediction_vars, prediction_group, 'sample_id')]\n",
    "prediction_data$y = prediction_data[,prediction_group]\n"
   ]
  },
  {
   "cell_type": "code",
   "execution_count": 192,
   "id": "745b565f-1b71-470e-a672-0d1faecd235a",
   "metadata": {},
   "outputs": [],
   "source": [
    "prediction_data$sample = str_replace(prediction_data$sample_id, '\\\\..*', '')\n",
    "prediction_data$TP = str_replace(prediction_data$tp_outcome, '_.*', '')"
   ]
  },
  {
   "cell_type": "code",
   "execution_count": 193,
   "id": "60dbf7ad-1aa6-4460-85bf-0f4b8b05de84",
   "metadata": {},
   "outputs": [],
   "source": [
    "## Add features to prediction data"
   ]
  },
  {
   "cell_type": "code",
   "execution_count": 194,
   "id": "dfc306f8-94bb-4a8c-a55b-2f071690b20d",
   "metadata": {},
   "outputs": [
    {
     "name": "stderr",
     "output_type": "stream",
     "text": [
      "Warning message:\n",
      "“\u001b[1m\u001b[22mThere were 22 warnings in `summarise()`.\n",
      "The first warning was:\n",
      "\u001b[1m\u001b[22m\u001b[36mℹ\u001b[39m In argument: `Max_CK = max(Normalized_CK, na.rm = TRUE)`.\n",
      "\u001b[36mℹ\u001b[39m In group 2: `sample = \"k10\"`.\n",
      "Caused by warning in `max()`:\n",
      "\u001b[33m!\u001b[39m no non-missing arguments to max; returning -Inf\n",
      "\u001b[1m\u001b[22m\u001b[36mℹ\u001b[39m Run `dplyr::last_dplyr_warnings()` to see the 21 remaining warnings.”\n"
     ]
    }
   ],
   "source": [
    "add_features = prediction_data %>% group_by(sample) %>% summarise(Mean_CK = mean(Normalized_CK, na.rm = TRUE), Max_CK = max(Normalized_CK, na.rm = TRUE), Mean_Troponin = mean(Normalized_Troponin, na.rm = TRUE), Max_Troponin = max(Normalized_Troponin, na.rm = TRUE), Max_CRP = max(Normalized_CRP, na.rm = TRUE))"
   ]
  },
  {
   "cell_type": "code",
   "execution_count": 195,
   "id": "05db392b-bc9f-4d23-a87e-a55184044676",
   "metadata": {},
   "outputs": [
    {
     "data": {
      "text/html": [
       "<table class=\"dataframe\">\n",
       "<caption>A data.frame: 2 × 9</caption>\n",
       "<thead>\n",
       "\t<tr><th></th><th scope=col>Factor4</th><th scope=col>Normalized_CK</th><th scope=col>Normalized_Troponin</th><th scope=col>Normalized_CRP</th><th scope=col>tp_outcome</th><th scope=col>sample_id</th><th scope=col>y</th><th scope=col>sample</th><th scope=col>TP</th></tr>\n",
       "\t<tr><th></th><th scope=col>&lt;dbl&gt;</th><th scope=col>&lt;dbl&gt;</th><th scope=col>&lt;dbl&gt;</th><th scope=col>&lt;dbl&gt;</th><th scope=col>&lt;chr&gt;</th><th scope=col>&lt;chr&gt;</th><th scope=col>&lt;chr&gt;</th><th scope=col>&lt;chr&gt;</th><th scope=col>&lt;chr&gt;</th></tr>\n",
       "</thead>\n",
       "<tbody>\n",
       "\t<tr><th scope=row>1</th><td>-0.4135678</td><td>-2.397022</td><td>-1.286479</td><td>-0.3186394</td><td>TP0_NA</td><td>k1 </td><td>TP0_NA</td><td>k1 </td><td>TP0</td></tr>\n",
       "\t<tr><th scope=row>2</th><td>-0.1524478</td><td>       NA</td><td>       NA</td><td>-0.8871466</td><td>TP0_NA</td><td>k10</td><td>TP0_NA</td><td>k10</td><td>TP0</td></tr>\n",
       "</tbody>\n",
       "</table>\n"
      ],
      "text/latex": [
       "A data.frame: 2 × 9\n",
       "\\begin{tabular}{r|lllllllll}\n",
       "  & Factor4 & Normalized\\_CK & Normalized\\_Troponin & Normalized\\_CRP & tp\\_outcome & sample\\_id & y & sample & TP\\\\\n",
       "  & <dbl> & <dbl> & <dbl> & <dbl> & <chr> & <chr> & <chr> & <chr> & <chr>\\\\\n",
       "\\hline\n",
       "\t1 & -0.4135678 & -2.397022 & -1.286479 & -0.3186394 & TP0\\_NA & k1  & TP0\\_NA & k1  & TP0\\\\\n",
       "\t2 & -0.1524478 &        NA &        NA & -0.8871466 & TP0\\_NA & k10 & TP0\\_NA & k10 & TP0\\\\\n",
       "\\end{tabular}\n"
      ],
      "text/markdown": [
       "\n",
       "A data.frame: 2 × 9\n",
       "\n",
       "| <!--/--> | Factor4 &lt;dbl&gt; | Normalized_CK &lt;dbl&gt; | Normalized_Troponin &lt;dbl&gt; | Normalized_CRP &lt;dbl&gt; | tp_outcome &lt;chr&gt; | sample_id &lt;chr&gt; | y &lt;chr&gt; | sample &lt;chr&gt; | TP &lt;chr&gt; |\n",
       "|---|---|---|---|---|---|---|---|---|---|\n",
       "| 1 | -0.4135678 | -2.397022 | -1.286479 | -0.3186394 | TP0_NA | k1  | TP0_NA | k1  | TP0 |\n",
       "| 2 | -0.1524478 |        NA |        NA | -0.8871466 | TP0_NA | k10 | TP0_NA | k10 | TP0 |\n",
       "\n"
      ],
      "text/plain": [
       "  Factor4    Normalized_CK Normalized_Troponin Normalized_CRP tp_outcome\n",
       "1 -0.4135678 -2.397022     -1.286479           -0.3186394     TP0_NA    \n",
       "2 -0.1524478        NA            NA           -0.8871466     TP0_NA    \n",
       "  sample_id y      sample TP \n",
       "1 k1        TP0_NA k1     TP0\n",
       "2 k10       TP0_NA k10    TP0"
      ]
     },
     "metadata": {},
     "output_type": "display_data"
    }
   ],
   "source": [
    "head(prediction_data,2)"
   ]
  },
  {
   "cell_type": "code",
   "execution_count": 196,
   "id": "64186733-b956-49a0-a6ea-ea590ea04186",
   "metadata": {},
   "outputs": [],
   "source": [
    "add_features2 = prediction_data[prediction_data$TP == 'TP2' ,c('sample', 'Normalized_CRP')] ## CRP values at diff TP's\n",
    "colnames(add_features2) = c('sample', 'Normalized_CRP_TP2')\n",
    "add_features3 = prediction_data[prediction_data$TP == 'TP3' ,c('sample', 'Normalized_CRP')]\n",
    "colnames(add_features3) = c('sample', 'Normalized_CRP_TP3')\n",
    "add_features4 = prediction_data[prediction_data$TP == 'TP1' ,c('sample', 'Normalized_CRP')]\n",
    "colnames(add_features4) = c('sample', 'Normalized_CRP_TP1')"
   ]
  },
  {
   "cell_type": "code",
   "execution_count": 197,
   "id": "5a7d3725-cf18-4fe7-91ba-28bc49787633",
   "metadata": {},
   "outputs": [],
   "source": [
    "add_features = merge(add_features, add_features2, all.x = TRUE)\n",
    "add_features = merge(add_features, add_features3, all.x = TRUE)\n",
    "add_features = merge(add_features, add_features4, all.x = TRUE)"
   ]
  },
  {
   "cell_type": "code",
   "execution_count": 198,
   "id": "b5d72ced-41de-490b-a869-80676fa973d4",
   "metadata": {},
   "outputs": [
    {
     "data": {
      "text/html": [
       "62"
      ],
      "text/latex": [
       "62"
      ],
      "text/markdown": [
       "62"
      ],
      "text/plain": [
       "[1] 62"
      ]
     },
     "metadata": {},
     "output_type": "display_data"
    }
   ],
   "source": [
    "nrow(add_features)"
   ]
  },
  {
   "cell_type": "code",
   "execution_count": 199,
   "id": "5dbe54df-385b-4232-bc6b-b545f82c986f",
   "metadata": {},
   "outputs": [
    {
     "data": {
      "text/html": [
       "<style>\n",
       ".list-inline {list-style: none; margin:0; padding: 0}\n",
       ".list-inline>li {display: inline-block}\n",
       ".list-inline>li:not(:last-child)::after {content: \"\\00b7\"; padding: 0 .5ex}\n",
       "</style>\n",
       "<ol class=list-inline><li>'Mean_CK'</li><li>'Max_CK'</li><li>'Mean_Troponin'</li><li>'Max_Troponin'</li><li>'Max_CRP'</li><li>'Normalized_CRP_TP2'</li><li>'Normalized_CRP_TP3'</li><li>'Normalized_CRP_TP1'</li></ol>\n"
      ],
      "text/latex": [
       "\\begin{enumerate*}\n",
       "\\item 'Mean\\_CK'\n",
       "\\item 'Max\\_CK'\n",
       "\\item 'Mean\\_Troponin'\n",
       "\\item 'Max\\_Troponin'\n",
       "\\item 'Max\\_CRP'\n",
       "\\item 'Normalized\\_CRP\\_TP2'\n",
       "\\item 'Normalized\\_CRP\\_TP3'\n",
       "\\item 'Normalized\\_CRP\\_TP1'\n",
       "\\end{enumerate*}\n"
      ],
      "text/markdown": [
       "1. 'Mean_CK'\n",
       "2. 'Max_CK'\n",
       "3. 'Mean_Troponin'\n",
       "4. 'Max_Troponin'\n",
       "5. 'Max_CRP'\n",
       "6. 'Normalized_CRP_TP2'\n",
       "7. 'Normalized_CRP_TP3'\n",
       "8. 'Normalized_CRP_TP1'\n",
       "\n",
       "\n"
      ],
      "text/plain": [
       "[1] \"Mean_CK\"            \"Max_CK\"             \"Mean_Troponin\"     \n",
       "[4] \"Max_Troponin\"       \"Max_CRP\"            \"Normalized_CRP_TP2\"\n",
       "[7] \"Normalized_CRP_TP3\" \"Normalized_CRP_TP1\""
      ]
     },
     "metadata": {},
     "output_type": "display_data"
    }
   ],
   "source": [
    "colnames(add_features)[!colnames(add_features) == 'sample']"
   ]
  },
  {
   "cell_type": "code",
   "execution_count": 200,
   "id": "7e982a8b-d5cc-4916-ad53-9ae9153b66a7",
   "metadata": {},
   "outputs": [],
   "source": [
    "prediction_data = merge(prediction_data[,c('sample', 'y', 'tp_outcome', 'Factor4')], add_features)"
   ]
  },
  {
   "cell_type": "code",
   "execution_count": 201,
   "id": "030b09db-419d-4256-8b52-e912871dd38c",
   "metadata": {},
   "outputs": [],
   "source": [
    "prediction_data = prediction_data[prediction_data$y %in% prediction_subset,]\n",
    "\n",
    "prediction_data$y[prediction_data$y == prediction_subset[2]] = 1  # predict BAD outcome \n",
    "prediction_data$y[prediction_data$y == prediction_subset[1]] = 0  # good outcome as control"
   ]
  },
  {
   "cell_type": "code",
   "execution_count": 202,
   "id": "cbfa35ff-b318-4a3f-ba5f-fc7f4f2892dc",
   "metadata": {},
   "outputs": [],
   "source": [
    "# Adjust sign of Factor values\n",
    "prediction_data$Factor4 = -1*prediction_data$Factor4\n",
    "prediction_data$Normalized_CRP_TP2 = -1*prediction_data$Normalized_CRP_TP2\n",
    "prediction_data$Normalized_CRP_TP1 = -1*prediction_data$Normalized_CRP_TP1"
   ]
  },
  {
   "cell_type": "code",
   "execution_count": null,
   "id": "dd30b568-710e-4743-a1f3-5607aeff7f48",
   "metadata": {},
   "outputs": [],
   "source": []
  },
  {
   "cell_type": "code",
   "execution_count": 203,
   "id": "ae090097-463b-491d-9815-449ba89a7348",
   "metadata": {},
   "outputs": [],
   "source": [
    "# Transform and scale scores of prediction variables (to be between 0 and 1)"
   ]
  },
  {
   "cell_type": "code",
   "execution_count": 204,
   "id": "130c0c59-785c-4f9d-af9f-ff5b589ca402",
   "metadata": {},
   "outputs": [],
   "source": [
    "prediction_data = cbind( prediction_data[,c('y', prediction_group)],\n",
    "      apply(prediction_data[,c('Factor4', colnames(add_features)[!colnames(add_features) == 'sample'])], MARGIN = 2, FUN = function(x){\n",
    "    (x - min(x, na.rm = TRUE)) / (max(x, na.rm = TRUE) - min(x, na.rm = TRUE))}))"
   ]
  },
  {
   "cell_type": "code",
   "execution_count": 205,
   "id": "0f30b849-90be-42df-987f-699d218629f0",
   "metadata": {},
   "outputs": [
    {
     "data": {
      "text/html": [
       "<table class=\"dataframe\">\n",
       "<caption>A data.frame: 5 × 11</caption>\n",
       "<thead>\n",
       "\t<tr><th></th><th scope=col>y</th><th scope=col>tp_outcome</th><th scope=col>Factor4</th><th scope=col>Mean_CK</th><th scope=col>Max_CK</th><th scope=col>Mean_Troponin</th><th scope=col>Max_Troponin</th><th scope=col>Max_CRP</th><th scope=col>Normalized_CRP_TP2</th><th scope=col>Normalized_CRP_TP3</th><th scope=col>Normalized_CRP_TP1</th></tr>\n",
       "\t<tr><th></th><th scope=col>&lt;chr&gt;</th><th scope=col>&lt;chr&gt;</th><th scope=col>&lt;dbl&gt;</th><th scope=col>&lt;dbl&gt;</th><th scope=col>&lt;dbl&gt;</th><th scope=col>&lt;dbl&gt;</th><th scope=col>&lt;dbl&gt;</th><th scope=col>&lt;dbl&gt;</th><th scope=col>&lt;dbl&gt;</th><th scope=col>&lt;dbl&gt;</th><th scope=col>&lt;dbl&gt;</th></tr>\n",
       "</thead>\n",
       "<tbody>\n",
       "\t<tr><th scope=row>36</th><td>1</td><td>TP1_bad </td><td>0.4734997</td><td>1.0000000</td><td>0.7503890</td><td>1.0000000</td><td>1.0000000</td><td>0.9173853</td><td>       NA</td><td>0.9173853</td><td>0.2442384</td></tr>\n",
       "\t<tr><th scope=row>45</th><td>1</td><td>TP1_bad </td><td>0.8558891</td><td>0.4562227</td><td>0.5261785</td><td>0.5556089</td><td>0.6342725</td><td>0.7232977</td><td>0.6955747</td><td>0.7232977</td><td>0.4182388</td></tr>\n",
       "\t<tr><th scope=row>49</th><td>1</td><td>TP1_bad </td><td>0.7560452</td><td>0.4847296</td><td>0.4550662</td><td>0.4835328</td><td>0.5974694</td><td>0.4818991</td><td>0.4276187</td><td>0.4485679</td><td>0.6270265</td></tr>\n",
       "\t<tr><th scope=row>53</th><td>0</td><td>TP1_good</td><td>1.0000000</td><td>0.6155006</td><td>0.4283336</td><td>0.4316984</td><td>0.4713510</td><td>0.7119304</td><td>0.4926638</td><td>0.7119304</td><td>0.6270265</td></tr>\n",
       "\t<tr><th scope=row>60</th><td>1</td><td>TP1_bad </td><td>0.7118677</td><td>0.2195981</td><td>0.2955057</td><td>0.3321533</td><td>0.4162823</td><td>0.6008172</td><td>0.5507717</td><td>0.6008172</td><td>0.6270265</td></tr>\n",
       "</tbody>\n",
       "</table>\n"
      ],
      "text/latex": [
       "A data.frame: 5 × 11\n",
       "\\begin{tabular}{r|lllllllllll}\n",
       "  & y & tp\\_outcome & Factor4 & Mean\\_CK & Max\\_CK & Mean\\_Troponin & Max\\_Troponin & Max\\_CRP & Normalized\\_CRP\\_TP2 & Normalized\\_CRP\\_TP3 & Normalized\\_CRP\\_TP1\\\\\n",
       "  & <chr> & <chr> & <dbl> & <dbl> & <dbl> & <dbl> & <dbl> & <dbl> & <dbl> & <dbl> & <dbl>\\\\\n",
       "\\hline\n",
       "\t36 & 1 & TP1\\_bad  & 0.4734997 & 1.0000000 & 0.7503890 & 1.0000000 & 1.0000000 & 0.9173853 &        NA & 0.9173853 & 0.2442384\\\\\n",
       "\t45 & 1 & TP1\\_bad  & 0.8558891 & 0.4562227 & 0.5261785 & 0.5556089 & 0.6342725 & 0.7232977 & 0.6955747 & 0.7232977 & 0.4182388\\\\\n",
       "\t49 & 1 & TP1\\_bad  & 0.7560452 & 0.4847296 & 0.4550662 & 0.4835328 & 0.5974694 & 0.4818991 & 0.4276187 & 0.4485679 & 0.6270265\\\\\n",
       "\t53 & 0 & TP1\\_good & 1.0000000 & 0.6155006 & 0.4283336 & 0.4316984 & 0.4713510 & 0.7119304 & 0.4926638 & 0.7119304 & 0.6270265\\\\\n",
       "\t60 & 1 & TP1\\_bad  & 0.7118677 & 0.2195981 & 0.2955057 & 0.3321533 & 0.4162823 & 0.6008172 & 0.5507717 & 0.6008172 & 0.6270265\\\\\n",
       "\\end{tabular}\n"
      ],
      "text/markdown": [
       "\n",
       "A data.frame: 5 × 11\n",
       "\n",
       "| <!--/--> | y &lt;chr&gt; | tp_outcome &lt;chr&gt; | Factor4 &lt;dbl&gt; | Mean_CK &lt;dbl&gt; | Max_CK &lt;dbl&gt; | Mean_Troponin &lt;dbl&gt; | Max_Troponin &lt;dbl&gt; | Max_CRP &lt;dbl&gt; | Normalized_CRP_TP2 &lt;dbl&gt; | Normalized_CRP_TP3 &lt;dbl&gt; | Normalized_CRP_TP1 &lt;dbl&gt; |\n",
       "|---|---|---|---|---|---|---|---|---|---|---|---|\n",
       "| 36 | 1 | TP1_bad  | 0.4734997 | 1.0000000 | 0.7503890 | 1.0000000 | 1.0000000 | 0.9173853 |        NA | 0.9173853 | 0.2442384 |\n",
       "| 45 | 1 | TP1_bad  | 0.8558891 | 0.4562227 | 0.5261785 | 0.5556089 | 0.6342725 | 0.7232977 | 0.6955747 | 0.7232977 | 0.4182388 |\n",
       "| 49 | 1 | TP1_bad  | 0.7560452 | 0.4847296 | 0.4550662 | 0.4835328 | 0.5974694 | 0.4818991 | 0.4276187 | 0.4485679 | 0.6270265 |\n",
       "| 53 | 0 | TP1_good | 1.0000000 | 0.6155006 | 0.4283336 | 0.4316984 | 0.4713510 | 0.7119304 | 0.4926638 | 0.7119304 | 0.6270265 |\n",
       "| 60 | 1 | TP1_bad  | 0.7118677 | 0.2195981 | 0.2955057 | 0.3321533 | 0.4162823 | 0.6008172 | 0.5507717 | 0.6008172 | 0.6270265 |\n",
       "\n"
      ],
      "text/plain": [
       "   y tp_outcome Factor4   Mean_CK   Max_CK    Mean_Troponin Max_Troponin\n",
       "36 1 TP1_bad    0.4734997 1.0000000 0.7503890 1.0000000     1.0000000   \n",
       "45 1 TP1_bad    0.8558891 0.4562227 0.5261785 0.5556089     0.6342725   \n",
       "49 1 TP1_bad    0.7560452 0.4847296 0.4550662 0.4835328     0.5974694   \n",
       "53 0 TP1_good   1.0000000 0.6155006 0.4283336 0.4316984     0.4713510   \n",
       "60 1 TP1_bad    0.7118677 0.2195981 0.2955057 0.3321533     0.4162823   \n",
       "   Max_CRP   Normalized_CRP_TP2 Normalized_CRP_TP3 Normalized_CRP_TP1\n",
       "36 0.9173853        NA          0.9173853          0.2442384         \n",
       "45 0.7232977 0.6955747          0.7232977          0.4182388         \n",
       "49 0.4818991 0.4276187          0.4485679          0.6270265         \n",
       "53 0.7119304 0.4926638          0.7119304          0.6270265         \n",
       "60 0.6008172 0.5507717          0.6008172          0.6270265         "
      ]
     },
     "metadata": {},
     "output_type": "display_data"
    }
   ],
   "source": [
    "head(prediction_data,5)"
   ]
  },
  {
   "cell_type": "code",
   "execution_count": 206,
   "id": "24c58d54-3dd0-4ebf-918c-0fa12a85d4d5",
   "metadata": {},
   "outputs": [],
   "source": [
    "## Transform to long format"
   ]
  },
  {
   "cell_type": "code",
   "execution_count": 207,
   "id": "da8cce28-6933-4641-92ef-ae1c93f20743",
   "metadata": {},
   "outputs": [
    {
     "name": "stderr",
     "output_type": "stream",
     "text": [
      "Using y, tp_outcome as id variables\n",
      "\n"
     ]
    }
   ],
   "source": [
    "prediction_data_long = melt(prediction_data)"
   ]
  },
  {
   "cell_type": "code",
   "execution_count": 208,
   "id": "747b78a1-9a10-45e7-ac9c-8ac45be89ddc",
   "metadata": {},
   "outputs": [
    {
     "data": {
      "text/html": [
       "<table class=\"dataframe\">\n",
       "<caption>A data.frame: 2 × 4</caption>\n",
       "<thead>\n",
       "\t<tr><th></th><th scope=col>y</th><th scope=col>tp_outcome</th><th scope=col>variable</th><th scope=col>value</th></tr>\n",
       "\t<tr><th></th><th scope=col>&lt;chr&gt;</th><th scope=col>&lt;chr&gt;</th><th scope=col>&lt;fct&gt;</th><th scope=col>&lt;dbl&gt;</th></tr>\n",
       "</thead>\n",
       "<tbody>\n",
       "\t<tr><th scope=row>1</th><td>1</td><td>TP1_bad</td><td>Factor4</td><td>0.4734997</td></tr>\n",
       "\t<tr><th scope=row>2</th><td>1</td><td>TP1_bad</td><td>Factor4</td><td>0.8558891</td></tr>\n",
       "</tbody>\n",
       "</table>\n"
      ],
      "text/latex": [
       "A data.frame: 2 × 4\n",
       "\\begin{tabular}{r|llll}\n",
       "  & y & tp\\_outcome & variable & value\\\\\n",
       "  & <chr> & <chr> & <fct> & <dbl>\\\\\n",
       "\\hline\n",
       "\t1 & 1 & TP1\\_bad & Factor4 & 0.4734997\\\\\n",
       "\t2 & 1 & TP1\\_bad & Factor4 & 0.8558891\\\\\n",
       "\\end{tabular}\n"
      ],
      "text/markdown": [
       "\n",
       "A data.frame: 2 × 4\n",
       "\n",
       "| <!--/--> | y &lt;chr&gt; | tp_outcome &lt;chr&gt; | variable &lt;fct&gt; | value &lt;dbl&gt; |\n",
       "|---|---|---|---|---|\n",
       "| 1 | 1 | TP1_bad | Factor4 | 0.4734997 |\n",
       "| 2 | 1 | TP1_bad | Factor4 | 0.8558891 |\n",
       "\n"
      ],
      "text/plain": [
       "  y tp_outcome variable value    \n",
       "1 1 TP1_bad    Factor4  0.4734997\n",
       "2 1 TP1_bad    Factor4  0.8558891"
      ]
     },
     "metadata": {},
     "output_type": "display_data"
    }
   ],
   "source": [
    "head(prediction_data_long,2)"
   ]
  },
  {
   "cell_type": "code",
   "execution_count": 209,
   "id": "cf659904-7ca3-40dc-bd42-4aa76106ef83",
   "metadata": {},
   "outputs": [],
   "source": [
    "## remove NA values"
   ]
  },
  {
   "cell_type": "code",
   "execution_count": 210,
   "id": "6c7ffa72-57ab-4ff4-930f-2c9dbcc71e66",
   "metadata": {},
   "outputs": [],
   "source": [
    "prediction_data_long = prediction_data_long[!is.na(prediction_data_long$value),]"
   ]
  },
  {
   "cell_type": "code",
   "execution_count": 211,
   "id": "613d1a2d-70b2-42e1-8ea4-f2c0d749530e",
   "metadata": {},
   "outputs": [],
   "source": [
    "## get amount of samples per prediction group"
   ]
  },
  {
   "cell_type": "code",
   "execution_count": 212,
   "id": "c956ab30-77ea-4d54-94b4-4514ae3ba601",
   "metadata": {},
   "outputs": [],
   "source": [
    "amount_samples = prediction_data_long %>% group_by(variable) %>% count()"
   ]
  },
  {
   "cell_type": "code",
   "execution_count": 213,
   "id": "e76822ec-0bbb-465e-95b5-25e8404ee6c4",
   "metadata": {},
   "outputs": [],
   "source": [
    "prediction_data_long = merge(prediction_data_long, amount_samples)"
   ]
  },
  {
   "cell_type": "code",
   "execution_count": 214,
   "id": "c3072b2e-3fbe-4807-aa59-ea06cbc83eb4",
   "metadata": {},
   "outputs": [],
   "source": [
    "prediction_data_long$variable_w_n = paste0(prediction_data_long$variable, ' (n=', prediction_data_long$n, ')')"
   ]
  },
  {
   "cell_type": "markdown",
   "id": "80828191-2457-4a83-a614-58bfcd6cd802",
   "metadata": {},
   "source": [
    "## Plot prediction / ROC"
   ]
  },
  {
   "cell_type": "code",
   "execution_count": 215,
   "id": "cee2ecba-b03e-46f2-842f-8bd1b067df8a",
   "metadata": {},
   "outputs": [],
   "source": [
    "### Plot 1: all features except CRP"
   ]
  },
  {
   "cell_type": "code",
   "execution_count": 216,
   "id": "43df3072-9307-4fa1-9bb3-1802511acc97",
   "metadata": {},
   "outputs": [],
   "source": [
    "# Figure Name\n",
    "figure_name = 'FIG7_E9_ROC_Factor4_TP1_V2'"
   ]
  },
  {
   "cell_type": "code",
   "execution_count": 217,
   "id": "7d74b132-57e0-46f6-a9bc-16600d9309c0",
   "metadata": {},
   "outputs": [],
   "source": [
    "# Sizes of the plot\n",
    "width_par = 4\n",
    "height_par = 2"
   ]
  },
  {
   "cell_type": "code",
   "execution_count": 218,
   "id": "ce96f6a2-47d4-4070-9c26-e6f4a5ea132d",
   "metadata": {},
   "outputs": [],
   "source": [
    "xtitle = xlab( 'False Positive Fraction')\n",
    "ytitle  = ylab('Sensititity')"
   ]
  },
  {
   "cell_type": "code",
   "execution_count": 219,
   "id": "2393a3a8-f7f0-4a1c-9a9d-797d2405534d",
   "metadata": {},
   "outputs": [],
   "source": [
    "## Specify Plot //Suppl Figure\n",
    "rocplot = ggplot(prediction_data_long[is.na(str_extract(prediction_data_long$variable, 'CRP')),], aes(m = value, d = as.numeric(y), color = variable_w_n))+ geom_roc(n.cuts=0,labels=FALSE, size = 0.5)"
   ]
  },
  {
   "cell_type": "code",
   "execution_count": 220,
   "id": "f5e90aaa-3c8c-4144-81b6-98c9f8021fb0",
   "metadata": {},
   "outputs": [
    {
     "data": {
      "text/html": [
       "<style>\n",
       ".list-inline {list-style: none; margin:0; padding: 0}\n",
       ".list-inline>li {display: inline-block}\n",
       ".list-inline>li:not(:last-child)::after {content: \"\\00b7\"; padding: 0 .5ex}\n",
       "</style>\n",
       "<ol class=list-inline><li>'Factor4 (n=19)'</li><li>'Max_CK (n=19)'</li><li>'Max_CRP (n=19)'</li><li>'Max_Troponin (n=19)'</li><li>'Mean_CK (n=19)'</li><li>'Mean_Troponin (n=19)'</li><li>'Normalized_CRP_TP1 (n=16)'</li><li>'Normalized_CRP_TP2 (n=13)'</li><li>'Normalized_CRP_TP3 (n=18)'</li></ol>\n"
      ],
      "text/latex": [
       "\\begin{enumerate*}\n",
       "\\item 'Factor4 (n=19)'\n",
       "\\item 'Max\\_CK (n=19)'\n",
       "\\item 'Max\\_CRP (n=19)'\n",
       "\\item 'Max\\_Troponin (n=19)'\n",
       "\\item 'Mean\\_CK (n=19)'\n",
       "\\item 'Mean\\_Troponin (n=19)'\n",
       "\\item 'Normalized\\_CRP\\_TP1 (n=16)'\n",
       "\\item 'Normalized\\_CRP\\_TP2 (n=13)'\n",
       "\\item 'Normalized\\_CRP\\_TP3 (n=18)'\n",
       "\\end{enumerate*}\n"
      ],
      "text/markdown": [
       "1. 'Factor4 (n=19)'\n",
       "2. 'Max_CK (n=19)'\n",
       "3. 'Max_CRP (n=19)'\n",
       "4. 'Max_Troponin (n=19)'\n",
       "5. 'Mean_CK (n=19)'\n",
       "6. 'Mean_Troponin (n=19)'\n",
       "7. 'Normalized_CRP_TP1 (n=16)'\n",
       "8. 'Normalized_CRP_TP2 (n=13)'\n",
       "9. 'Normalized_CRP_TP3 (n=18)'\n",
       "\n",
       "\n"
      ],
      "text/plain": [
       "[1] \"Factor4 (n=19)\"            \"Max_CK (n=19)\"            \n",
       "[3] \"Max_CRP (n=19)\"            \"Max_Troponin (n=19)\"      \n",
       "[5] \"Mean_CK (n=19)\"            \"Mean_Troponin (n=19)\"     \n",
       "[7] \"Normalized_CRP_TP1 (n=16)\" \"Normalized_CRP_TP2 (n=13)\"\n",
       "[9] \"Normalized_CRP_TP3 (n=18)\""
      ]
     },
     "metadata": {},
     "output_type": "display_data"
    }
   ],
   "source": [
    "unique(prediction_data_long$variable_)"
   ]
  },
  {
   "cell_type": "code",
   "execution_count": 221,
   "id": "e80b3734-2390-465a-a7f3-647b38cdd7ce",
   "metadata": {},
   "outputs": [
    {
     "name": "stderr",
     "output_type": "stream",
     "text": [
      "Warning message:\n",
      "“\u001b[1m\u001b[22mThe following aesthetics were dropped during statistical transformation: \u001b[32mm, d\u001b[39m\n",
      "\u001b[36mℹ\u001b[39m This can happen when ggplot fails to infer the correct grouping structure in\n",
      "  the data.\n",
      "\u001b[36mℹ\u001b[39m Did you forget to specify a `group` aesthetic or to convert a numerical\n",
      "  variable into a factor?”\n"
     ]
    },
    {
     "data": {
      "image/png": "[encoded data removed]",
      "text/plain": [
       "plot without title"
      ]
     },
     "metadata": {
      "image/png": {
       "height": 300,
       "width": 600
      }
     },
     "output_type": "display_data"
    }
   ],
   "source": [
    "## Configuration + Modification of plot\n",
    "roc_plot = rocplot + \n",
    "    plot_config + \n",
    "    xtitle + \n",
    "    ytitle + \n",
    "     scale_color_manual(values = c('Factor4 (n=19)' = \"#BC0B58\",\n",
    "                                      'Mean_CK (n=19)' = \"#087C6D\",\n",
    "                                      'Max_CK (n=19)'=\"#11C1A9\",\n",
    "                                   'Max_Troponin (n=19)' = '#863F06',\n",
    "                                   'Mean_Troponin (n=19)' = '#5B2A03'\n",
    "                                     ))+\n",
    "       scale_linetype_manual(values = c('Factor4 (n=19)' = \"solid\",\n",
    "                                      'Mean_CK (n=19)' = \"solid\",\n",
    "                                      'Max_CK (n=19)'=\"solid\",\n",
    "                                               'Max_Troponin (n=19)'=\"solid\",\n",
    "                                               'Mean_Troponin (n=19)'=\"solid\"\n",
    "                                     ))+\n",
    "    ggtitle('ROC curve TP1 good vs. bad') +\n",
    "    geom_abline(slope = 1, intercept = 0)\n",
    "\n",
    "roc_plot"
   ]
  },
  {
   "cell_type": "code",
   "execution_count": 222,
   "id": "5bcbaf0d-a7d0-4aaa-bb63-e02b7db6d2be",
   "metadata": {},
   "outputs": [
    {
     "name": "stderr",
     "output_type": "stream",
     "text": [
      "Warning message:\n",
      "“\u001b[1m\u001b[22mThe following aesthetics were dropped during statistical transformation: \u001b[32mm, d\u001b[39m\n",
      "\u001b[36mℹ\u001b[39m This can happen when ggplot fails to infer the correct grouping structure in\n",
      "  the data.\n",
      "\u001b[36mℹ\u001b[39m Did you forget to specify a `group` aesthetic or to convert a numerical\n",
      "  variable into a factor?”\n"
     ]
    },
    {
     "data": {
      "text/html": [
       "<strong>png:</strong> 2"
      ],
      "text/latex": [
       "\\textbf{png:} 2"
      ],
      "text/markdown": [
       "**png:** 2"
      ],
      "text/plain": [
       "png \n",
       "  2 "
      ]
     },
     "metadata": {},
     "output_type": "display_data"
    }
   ],
   "source": [
    "pdf(paste0('figures/Final_Figures/', figure_name, version, '.pdf'), width =width_par, height =height_par)\n",
    "print(roc_plot)\n",
    "dev.off()"
   ]
  },
  {
   "cell_type": "code",
   "execution_count": 223,
   "id": "8cdbf447-4bc6-4985-82e4-a95ea811cd5b",
   "metadata": {},
   "outputs": [],
   "source": [
    "### Plot 2: all CRP Features (investigated during revision)"
   ]
  },
  {
   "cell_type": "code",
   "execution_count": 224,
   "id": "605eb5bb-e86f-4961-8aa5-82dfe93130c3",
   "metadata": {},
   "outputs": [],
   "source": [
    "## Specify Plot // TEST prediction of CRP value (for reviewer question)\n",
    "rocplot = ggplot(prediction_data_long[!is.na(str_extract(prediction_data_long$variable, 'CRP|Factor4')),], aes(m = value, d = as.numeric(y), color = variable_w_n))+ geom_roc(n.cuts=0,labels=FALSE, size = 0.5)"
   ]
  },
  {
   "cell_type": "code",
   "execution_count": 225,
   "id": "b8fceb89-f6db-4357-8042-2c1fdd56316f",
   "metadata": {},
   "outputs": [
    {
     "data": {
      "text/html": [
       "<style>\n",
       ".list-inline {list-style: none; margin:0; padding: 0}\n",
       ".list-inline>li {display: inline-block}\n",
       ".list-inline>li:not(:last-child)::after {content: \"\\00b7\"; padding: 0 .5ex}\n",
       "</style>\n",
       "<ol class=list-inline><li>Factor4</li><li>Max_CK</li><li>Max_CRP</li><li>Max_Troponin</li><li>Mean_CK</li><li>Mean_Troponin</li><li>Normalized_CRP_TP1</li><li>Normalized_CRP_TP2</li><li>Normalized_CRP_TP3</li></ol>\n",
       "\n",
       "<details>\n",
       "\t<summary style=display:list-item;cursor:pointer>\n",
       "\t\t<strong>Levels</strong>:\n",
       "\t</summary>\n",
       "\t<style>\n",
       "\t.list-inline {list-style: none; margin:0; padding: 0}\n",
       "\t.list-inline>li {display: inline-block}\n",
       "\t.list-inline>li:not(:last-child)::after {content: \"\\00b7\"; padding: 0 .5ex}\n",
       "\t</style>\n",
       "\t<ol class=list-inline><li>'Factor4'</li><li>'Mean_CK'</li><li>'Max_CK'</li><li>'Mean_Troponin'</li><li>'Max_Troponin'</li><li>'Max_CRP'</li><li>'Normalized_CRP_TP2'</li><li>'Normalized_CRP_TP3'</li><li>'Normalized_CRP_TP1'</li></ol>\n",
       "</details>"
      ],
      "text/latex": [
       "\\begin{enumerate*}\n",
       "\\item Factor4\n",
       "\\item Max\\_CK\n",
       "\\item Max\\_CRP\n",
       "\\item Max\\_Troponin\n",
       "\\item Mean\\_CK\n",
       "\\item Mean\\_Troponin\n",
       "\\item Normalized\\_CRP\\_TP1\n",
       "\\item Normalized\\_CRP\\_TP2\n",
       "\\item Normalized\\_CRP\\_TP3\n",
       "\\end{enumerate*}\n",
       "\n",
       "\\emph{Levels}: \\begin{enumerate*}\n",
       "\\item 'Factor4'\n",
       "\\item 'Mean\\_CK'\n",
       "\\item 'Max\\_CK'\n",
       "\\item 'Mean\\_Troponin'\n",
       "\\item 'Max\\_Troponin'\n",
       "\\item 'Max\\_CRP'\n",
       "\\item 'Normalized\\_CRP\\_TP2'\n",
       "\\item 'Normalized\\_CRP\\_TP3'\n",
       "\\item 'Normalized\\_CRP\\_TP1'\n",
       "\\end{enumerate*}\n"
      ],
      "text/markdown": [
       "1. Factor4\n",
       "2. Max_CK\n",
       "3. Max_CRP\n",
       "4. Max_Troponin\n",
       "5. Mean_CK\n",
       "6. Mean_Troponin\n",
       "7. Normalized_CRP_TP1\n",
       "8. Normalized_CRP_TP2\n",
       "9. Normalized_CRP_TP3\n",
       "\n",
       "\n",
       "\n",
       "**Levels**: 1. 'Factor4'\n",
       "2. 'Mean_CK'\n",
       "3. 'Max_CK'\n",
       "4. 'Mean_Troponin'\n",
       "5. 'Max_Troponin'\n",
       "6. 'Max_CRP'\n",
       "7. 'Normalized_CRP_TP2'\n",
       "8. 'Normalized_CRP_TP3'\n",
       "9. 'Normalized_CRP_TP1'\n",
       "\n",
       "\n"
      ],
      "text/plain": [
       "[1] Factor4            Max_CK             Max_CRP            Max_Troponin      \n",
       "[5] Mean_CK            Mean_Troponin      Normalized_CRP_TP1 Normalized_CRP_TP2\n",
       "[9] Normalized_CRP_TP3\n",
       "9 Levels: Factor4 Mean_CK Max_CK Mean_Troponin Max_Troponin ... Normalized_CRP_TP1"
      ]
     },
     "metadata": {},
     "output_type": "display_data"
    }
   ],
   "source": [
    "unique(prediction_data_long$variable)"
   ]
  },
  {
   "cell_type": "code",
   "execution_count": 226,
   "id": "a401c9d2-7901-4343-9728-6983c2d707fa",
   "metadata": {},
   "outputs": [],
   "source": [
    "# Figure Name\n",
    "figure_name = 'REV10_E9_ROC_CRP'"
   ]
  },
  {
   "cell_type": "code",
   "execution_count": 227,
   "id": "0912dccb-5f73-4f22-b85a-963bb40a7dba",
   "metadata": {},
   "outputs": [],
   "source": [
    "# Sizes of the plot\n",
    "width_par = 4\n",
    "height_par = 2"
   ]
  },
  {
   "cell_type": "code",
   "execution_count": 228,
   "id": "5233bc38-6945-4043-976e-0b37453fdcd6",
   "metadata": {},
   "outputs": [],
   "source": [
    "xtitle = xlab( 'False Positive Fraction')\n",
    "ytitle  = ylab('Sensititity')"
   ]
  },
  {
   "cell_type": "code",
   "execution_count": 229,
   "id": "e019176e-8377-4ff0-9ccf-070c556835a1",
   "metadata": {},
   "outputs": [
    {
     "name": "stderr",
     "output_type": "stream",
     "text": [
      "Warning message:\n",
      "“\u001b[1m\u001b[22mThe following aesthetics were dropped during statistical transformation: \u001b[32mm, d\u001b[39m\n",
      "\u001b[36mℹ\u001b[39m This can happen when ggplot fails to infer the correct grouping structure in\n",
      "  the data.\n",
      "\u001b[36mℹ\u001b[39m Did you forget to specify a `group` aesthetic or to convert a numerical\n",
      "  variable into a factor?”\n"
     ]
    },
    {
     "data": {
      "image/png": "[encoded data removed]",
      "text/plain": [
       "plot without title"
      ]
     },
     "metadata": {
      "image/png": {
       "height": 300,
       "width": 600
      }
     },
     "output_type": "display_data"
    }
   ],
   "source": [
    "## Configuration + Modification of plot\n",
    "roc_plot = rocplot + \n",
    "    plot_config + \n",
    "    xtitle + \n",
    "    ytitle +                            \n",
    "    ggtitle('ROC curve TP1 good vs. bad') +\n",
    "    geom_abline(slope = 1, intercept = 0)\n",
    "options(repr.plot.width=10, repr.plot.height=5)\n",
    "roc_plot"
   ]
  },
  {
   "cell_type": "code",
   "execution_count": 230,
   "id": "efb51e42-7af6-4d6f-9dfd-220054a7522f",
   "metadata": {},
   "outputs": [
    {
     "name": "stderr",
     "output_type": "stream",
     "text": [
      "Warning message:\n",
      "“\u001b[1m\u001b[22mThe following aesthetics were dropped during statistical transformation: \u001b[32mm, d\u001b[39m\n",
      "\u001b[36mℹ\u001b[39m This can happen when ggplot fails to infer the correct grouping structure in\n",
      "  the data.\n",
      "\u001b[36mℹ\u001b[39m Did you forget to specify a `group` aesthetic or to convert a numerical\n",
      "  variable into a factor?”\n"
     ]
    },
    {
     "data": {
      "text/html": [
       "<strong>png:</strong> 2"
      ],
      "text/latex": [
       "\\textbf{png:} 2"
      ],
      "text/markdown": [
       "**png:** 2"
      ],
      "text/plain": [
       "png \n",
       "  2 "
      ]
     },
     "metadata": {},
     "output_type": "display_data"
    }
   ],
   "source": [
    "pdf(paste0('figures/Review_Figures/', figure_name, version, '.pdf'), width =width_par, height =height_par)\n",
    "print(roc_plot)\n",
    "dev.off()"
   ]
  },
  {
   "cell_type": "markdown",
   "id": "5d796e9d-29b4-4da7-9dc7-55ba45540ab4",
   "metadata": {},
   "source": [
    "## Calculate AUC values"
   ]
  },
  {
   "cell_type": "code",
   "execution_count": 231,
   "id": "2987e43e-3ebe-47bb-85cc-ed1351d16001",
   "metadata": {},
   "outputs": [],
   "source": [
    "auc_values = data.frame()"
   ]
  },
  {
   "cell_type": "code",
   "execution_count": 232,
   "id": "8e99ef89-1e9b-4edb-ba50-a5196adce25d",
   "metadata": {},
   "outputs": [
    {
     "name": "stderr",
     "output_type": "stream",
     "text": [
      "Setting levels: control = 0, case = 1\n",
      "\n",
      "Setting direction: controls < cases\n",
      "\n",
      "Setting levels: control = 0, case = 1\n",
      "\n",
      "Setting direction: controls < cases\n",
      "\n",
      "Setting levels: control = 0, case = 1\n",
      "\n",
      "Setting direction: controls < cases\n",
      "\n",
      "Setting levels: control = 0, case = 1\n",
      "\n",
      "Setting direction: controls < cases\n",
      "\n",
      "Setting levels: control = 0, case = 1\n",
      "\n",
      "Setting direction: controls > cases\n",
      "\n",
      "Setting levels: control = 0, case = 1\n",
      "\n",
      "Setting direction: controls < cases\n",
      "\n",
      "Setting levels: control = 0, case = 1\n",
      "\n",
      "Setting direction: controls < cases\n",
      "\n",
      "Setting levels: control = 0, case = 1\n",
      "\n",
      "Setting direction: controls < cases\n",
      "\n",
      "Setting levels: control = 0, case = 1\n",
      "\n",
      "Setting direction: controls < cases\n",
      "\n"
     ]
    }
   ],
   "source": [
    "for(i in unique(prediction_data_long$variable)){\n",
    "    calc_auc = data.frame(variable = i, \n",
    "                          auc = auc(prediction_data_long$y[prediction_data_long$variable == i], prediction_data_long$value[prediction_data_long$variable == i])\n",
    "                          )\n",
    "    auc_values = rbind(auc_values, calc_auc)\n",
    "    }"
   ]
  },
  {
   "cell_type": "code",
   "execution_count": 233,
   "id": "03f1878a-99e4-484e-9617-1fb812f6cd07",
   "metadata": {},
   "outputs": [
    {
     "data": {
      "text/html": [
       "<table class=\"dataframe\">\n",
       "<caption>A data.frame: 9 × 2</caption>\n",
       "<thead>\n",
       "\t<tr><th scope=col>variable</th><th scope=col>auc</th></tr>\n",
       "\t<tr><th scope=col>&lt;chr&gt;</th><th scope=col>&lt;auc&gt;</th></tr>\n",
       "</thead>\n",
       "<tbody>\n",
       "\t<tr><td>Factor4           </td><td>0.8333333</td></tr>\n",
       "\t<tr><td>Max_CK            </td><td>0.6538462</td></tr>\n",
       "\t<tr><td>Max_CRP           </td><td>0.6538462</td></tr>\n",
       "\t<tr><td>Max_Troponin      </td><td>0.7307692</td></tr>\n",
       "\t<tr><td>Mean_CK           </td><td>0.4743590</td></tr>\n",
       "\t<tr><td>Mean_Troponin     </td><td>0.7179487</td></tr>\n",
       "\t<tr><td>Normalized_CRP_TP1</td><td>0.5181818</td></tr>\n",
       "\t<tr><td>Normalized_CRP_TP2</td><td>0.6250000</td></tr>\n",
       "\t<tr><td>Normalized_CRP_TP3</td><td>0.6666667</td></tr>\n",
       "</tbody>\n",
       "</table>\n"
      ],
      "text/latex": [
       "A data.frame: 9 × 2\n",
       "\\begin{tabular}{ll}\n",
       " variable & auc\\\\\n",
       " <chr> & <auc>\\\\\n",
       "\\hline\n",
       "\t Factor4            & 0.8333333\\\\\n",
       "\t Max\\_CK             & 0.6538462\\\\\n",
       "\t Max\\_CRP            & 0.6538462\\\\\n",
       "\t Max\\_Troponin       & 0.7307692\\\\\n",
       "\t Mean\\_CK            & 0.4743590\\\\\n",
       "\t Mean\\_Troponin      & 0.7179487\\\\\n",
       "\t Normalized\\_CRP\\_TP1 & 0.5181818\\\\\n",
       "\t Normalized\\_CRP\\_TP2 & 0.6250000\\\\\n",
       "\t Normalized\\_CRP\\_TP3 & 0.6666667\\\\\n",
       "\\end{tabular}\n"
      ],
      "text/markdown": [
       "\n",
       "A data.frame: 9 × 2\n",
       "\n",
       "| variable &lt;chr&gt; | auc &lt;auc&gt; |\n",
       "|---|---|\n",
       "| Factor4            | 0.8333333 |\n",
       "| Max_CK             | 0.6538462 |\n",
       "| Max_CRP            | 0.6538462 |\n",
       "| Max_Troponin       | 0.7307692 |\n",
       "| Mean_CK            | 0.4743590 |\n",
       "| Mean_Troponin      | 0.7179487 |\n",
       "| Normalized_CRP_TP1 | 0.5181818 |\n",
       "| Normalized_CRP_TP2 | 0.6250000 |\n",
       "| Normalized_CRP_TP3 | 0.6666667 |\n",
       "\n"
      ],
      "text/plain": [
       "  variable           auc      \n",
       "1 Factor4            0.8333333\n",
       "2 Max_CK             0.6538462\n",
       "3 Max_CRP            0.6538462\n",
       "4 Max_Troponin       0.7307692\n",
       "5 Mean_CK            0.4743590\n",
       "6 Mean_Troponin      0.7179487\n",
       "7 Normalized_CRP_TP1 0.5181818\n",
       "8 Normalized_CRP_TP2 0.6250000\n",
       "9 Normalized_CRP_TP3 0.6666667"
      ]
     },
     "metadata": {},
     "output_type": "display_data"
    }
   ],
   "source": [
    "auc_values"
   ]
  },
  {
   "cell_type": "code",
   "execution_count": 234,
   "id": "a3bc4449-3cb0-495e-9cda-ff01a594659d",
   "metadata": {},
   "outputs": [],
   "source": [
    "### Save AUC values"
   ]
  },
  {
   "cell_type": "code",
   "execution_count": 235,
   "id": "d6bd4d0c-0d58-4bdf-9900-c0fc6244d506",
   "metadata": {},
   "outputs": [],
   "source": [
    "write.csv(auc_values, paste0(result_path,'/Supplementary/SUPP_E9_Factor4_ROC_Plot_AUC_values_P2.csv'), row.names = FALSE)"
   ]
  },
  {
   "cell_type": "markdown",
   "id": "726201bf-3144-4565-abe8-874bec2928f3",
   "metadata": {},
   "source": [
    "## Prediction Metrics Table"
   ]
  },
  {
   "cell_type": "code",
   "execution_count": 237,
   "id": "598d14c6-2f06-499e-b406-d6edc44c9827",
   "metadata": {},
   "outputs": [
    {
     "data": {
      "text/html": [
       "<table class=\"dataframe\">\n",
       "<caption>A data.frame: 2 × 6</caption>\n",
       "<thead>\n",
       "\t<tr><th></th><th scope=col>variable</th><th scope=col>y</th><th scope=col>tp_outcome</th><th scope=col>value</th><th scope=col>n</th><th scope=col>variable_w_n</th></tr>\n",
       "\t<tr><th></th><th scope=col>&lt;fct&gt;</th><th scope=col>&lt;chr&gt;</th><th scope=col>&lt;chr&gt;</th><th scope=col>&lt;dbl&gt;</th><th scope=col>&lt;int&gt;</th><th scope=col>&lt;chr&gt;</th></tr>\n",
       "</thead>\n",
       "<tbody>\n",
       "\t<tr><th scope=row>1</th><td>Factor4</td><td>1</td><td>TP1_bad</td><td>0.4734997</td><td>19</td><td>Factor4 (n=19)</td></tr>\n",
       "\t<tr><th scope=row>2</th><td>Factor4</td><td>1</td><td>TP1_bad</td><td>0.8558891</td><td>19</td><td>Factor4 (n=19)</td></tr>\n",
       "</tbody>\n",
       "</table>\n"
      ],
      "text/latex": [
       "A data.frame: 2 × 6\n",
       "\\begin{tabular}{r|llllll}\n",
       "  & variable & y & tp\\_outcome & value & n & variable\\_w\\_n\\\\\n",
       "  & <fct> & <chr> & <chr> & <dbl> & <int> & <chr>\\\\\n",
       "\\hline\n",
       "\t1 & Factor4 & 1 & TP1\\_bad & 0.4734997 & 19 & Factor4 (n=19)\\\\\n",
       "\t2 & Factor4 & 1 & TP1\\_bad & 0.8558891 & 19 & Factor4 (n=19)\\\\\n",
       "\\end{tabular}\n"
      ],
      "text/markdown": [
       "\n",
       "A data.frame: 2 × 6\n",
       "\n",
       "| <!--/--> | variable &lt;fct&gt; | y &lt;chr&gt; | tp_outcome &lt;chr&gt; | value &lt;dbl&gt; | n &lt;int&gt; | variable_w_n &lt;chr&gt; |\n",
       "|---|---|---|---|---|---|---|\n",
       "| 1 | Factor4 | 1 | TP1_bad | 0.4734997 | 19 | Factor4 (n=19) |\n",
       "| 2 | Factor4 | 1 | TP1_bad | 0.8558891 | 19 | Factor4 (n=19) |\n",
       "\n"
      ],
      "text/plain": [
       "  variable y tp_outcome value     n  variable_w_n  \n",
       "1 Factor4  1 TP1_bad    0.4734997 19 Factor4 (n=19)\n",
       "2 Factor4  1 TP1_bad    0.8558891 19 Factor4 (n=19)"
      ]
     },
     "metadata": {},
     "output_type": "display_data"
    }
   ],
   "source": [
    "head(prediction_data_long,2)"
   ]
  },
  {
   "cell_type": "code",
   "execution_count": 238,
   "id": "3a6180e7-1c10-4747-91e5-874b89b5021c",
   "metadata": {},
   "outputs": [],
   "source": [
    "prediction_data_long$y = as.factor(prediction_data_long$y)"
   ]
  },
  {
   "cell_type": "code",
   "execution_count": 239,
   "id": "57d822c9-4eee-4070-8b2a-b68323baa7e4",
   "metadata": {},
   "outputs": [
    {
     "data": {
      "text/html": [
       "<style>\n",
       ".list-inline {list-style: none; margin:0; padding: 0}\n",
       ".list-inline>li {display: inline-block}\n",
       ".list-inline>li:not(:last-child)::after {content: \"\\00b7\"; padding: 0 .5ex}\n",
       "</style>\n",
       "<ol class=list-inline><li>'0'</li><li>'1'</li></ol>\n"
      ],
      "text/latex": [
       "\\begin{enumerate*}\n",
       "\\item '0'\n",
       "\\item '1'\n",
       "\\end{enumerate*}\n"
      ],
      "text/markdown": [
       "1. '0'\n",
       "2. '1'\n",
       "\n",
       "\n"
      ],
      "text/plain": [
       "[1] \"0\" \"1\""
      ]
     },
     "metadata": {},
     "output_type": "display_data"
    }
   ],
   "source": [
    "levels(prediction_data_long$y)"
   ]
  },
  {
   "cell_type": "code",
   "execution_count": 240,
   "id": "0b525223-d385-4709-bf55-a13b1ead526d",
   "metadata": {},
   "outputs": [],
   "source": [
    "prediction_data_long$y = relevel(prediction_data_long$y, '0')"
   ]
  },
  {
   "cell_type": "code",
   "execution_count": 241,
   "id": "5cc06fa1-1151-4be9-a8c1-bcc6dae1f56b",
   "metadata": {},
   "outputs": [],
   "source": [
    "TP_prediction_metrics = data.frame()"
   ]
  },
  {
   "cell_type": "code",
   "execution_count": 242,
   "id": "a1f77a85-d286-4d5f-b072-f60cf88dd62b",
   "metadata": {},
   "outputs": [],
   "source": [
    "for(i in unique(prediction_data_long$variable)){\n",
    "    data_use = prediction_data_long[prediction_data_long$variable == i,]\n",
    "    metrics = measureit(score =  data_use$value, class =  data_use$y, measure = c( 'PREC', 'REC', 'SPEC', 'FPR'))\n",
    "    metrics = data.frame(do.call(cbind, metrics))\n",
    "    metrics$model = i\n",
    "    \n",
    "    TP_prediction_metrics = rbind( metrics, TP_prediction_metrics)\n",
    "    }"
   ]
  },
  {
   "cell_type": "code",
   "execution_count": 243,
   "id": "2a836b9f-d83c-4c18-9147-3a1fb3540afd",
   "metadata": {},
   "outputs": [
    {
     "data": {
      "text/html": [
       "<table class=\"dataframe\">\n",
       "<caption>A data.frame: 2 × 11</caption>\n",
       "<thead>\n",
       "\t<tr><th></th><th scope=col>Cutoff</th><th scope=col>Depth</th><th scope=col>TP</th><th scope=col>FP</th><th scope=col>TN</th><th scope=col>FN</th><th scope=col>SPEC</th><th scope=col>PREC</th><th scope=col>REC</th><th scope=col>FPR</th><th scope=col>model</th></tr>\n",
       "\t<tr><th></th><th scope=col>&lt;dbl&gt;</th><th scope=col>&lt;dbl&gt;</th><th scope=col>&lt;dbl&gt;</th><th scope=col>&lt;dbl&gt;</th><th scope=col>&lt;dbl&gt;</th><th scope=col>&lt;dbl&gt;</th><th scope=col>&lt;dbl&gt;</th><th scope=col>&lt;dbl&gt;</th><th scope=col>&lt;dbl&gt;</th><th scope=col>&lt;dbl&gt;</th><th scope=col>&lt;chr&gt;</th></tr>\n",
       "</thead>\n",
       "<tbody>\n",
       "\t<tr><th scope=row>1</th><td>Inf</td><td>0.00000000</td><td>0</td><td>0</td><td>12</td><td>6</td><td>1.0000000</td><td>NaN</td><td>0</td><td>0.00000000</td><td>Normalized_CRP_TP3</td></tr>\n",
       "\t<tr><th scope=row>2</th><td>  1</td><td>0.05555556</td><td>0</td><td>1</td><td>11</td><td>6</td><td>0.9166667</td><td>  0</td><td>0</td><td>0.08333333</td><td>Normalized_CRP_TP3</td></tr>\n",
       "</tbody>\n",
       "</table>\n"
      ],
      "text/latex": [
       "A data.frame: 2 × 11\n",
       "\\begin{tabular}{r|lllllllllll}\n",
       "  & Cutoff & Depth & TP & FP & TN & FN & SPEC & PREC & REC & FPR & model\\\\\n",
       "  & <dbl> & <dbl> & <dbl> & <dbl> & <dbl> & <dbl> & <dbl> & <dbl> & <dbl> & <dbl> & <chr>\\\\\n",
       "\\hline\n",
       "\t1 & Inf & 0.00000000 & 0 & 0 & 12 & 6 & 1.0000000 & NaN & 0 & 0.00000000 & Normalized\\_CRP\\_TP3\\\\\n",
       "\t2 &   1 & 0.05555556 & 0 & 1 & 11 & 6 & 0.9166667 &   0 & 0 & 0.08333333 & Normalized\\_CRP\\_TP3\\\\\n",
       "\\end{tabular}\n"
      ],
      "text/markdown": [
       "\n",
       "A data.frame: 2 × 11\n",
       "\n",
       "| <!--/--> | Cutoff &lt;dbl&gt; | Depth &lt;dbl&gt; | TP &lt;dbl&gt; | FP &lt;dbl&gt; | TN &lt;dbl&gt; | FN &lt;dbl&gt; | SPEC &lt;dbl&gt; | PREC &lt;dbl&gt; | REC &lt;dbl&gt; | FPR &lt;dbl&gt; | model &lt;chr&gt; |\n",
       "|---|---|---|---|---|---|---|---|---|---|---|---|\n",
       "| 1 | Inf | 0.00000000 | 0 | 0 | 12 | 6 | 1.0000000 | NaN | 0 | 0.00000000 | Normalized_CRP_TP3 |\n",
       "| 2 |   1 | 0.05555556 | 0 | 1 | 11 | 6 | 0.9166667 |   0 | 0 | 0.08333333 | Normalized_CRP_TP3 |\n",
       "\n"
      ],
      "text/plain": [
       "  Cutoff Depth      TP FP TN FN SPEC      PREC REC FPR       \n",
       "1 Inf    0.00000000 0  0  12 6  1.0000000 NaN  0   0.00000000\n",
       "2   1    0.05555556 0  1  11 6  0.9166667   0  0   0.08333333\n",
       "  model             \n",
       "1 Normalized_CRP_TP3\n",
       "2 Normalized_CRP_TP3"
      ]
     },
     "metadata": {},
     "output_type": "display_data"
    }
   ],
   "source": [
    "head(TP_prediction_metrics,2)"
   ]
  },
  {
   "cell_type": "code",
   "execution_count": 244,
   "id": "1f18aacc-a896-4a09-ae45-606ada4b7105",
   "metadata": {},
   "outputs": [
    {
     "data": {
      "text/html": [
       "<style>\n",
       ".list-inline {list-style: none; margin:0; padding: 0}\n",
       ".list-inline>li {display: inline-block}\n",
       ".list-inline>li:not(:last-child)::after {content: \"\\00b7\"; padding: 0 .5ex}\n",
       "</style>\n",
       "<ol class=list-inline><li>'Normalized_CRP_TP3'</li><li>'Normalized_CRP_TP2'</li><li>'Normalized_CRP_TP1'</li><li>'Mean_Troponin'</li><li>'Mean_CK'</li><li>'Max_Troponin'</li><li>'Max_CRP'</li><li>'Max_CK'</li><li>'Factor4'</li></ol>\n"
      ],
      "text/latex": [
       "\\begin{enumerate*}\n",
       "\\item 'Normalized\\_CRP\\_TP3'\n",
       "\\item 'Normalized\\_CRP\\_TP2'\n",
       "\\item 'Normalized\\_CRP\\_TP1'\n",
       "\\item 'Mean\\_Troponin'\n",
       "\\item 'Mean\\_CK'\n",
       "\\item 'Max\\_Troponin'\n",
       "\\item 'Max\\_CRP'\n",
       "\\item 'Max\\_CK'\n",
       "\\item 'Factor4'\n",
       "\\end{enumerate*}\n"
      ],
      "text/markdown": [
       "1. 'Normalized_CRP_TP3'\n",
       "2. 'Normalized_CRP_TP2'\n",
       "3. 'Normalized_CRP_TP1'\n",
       "4. 'Mean_Troponin'\n",
       "5. 'Mean_CK'\n",
       "6. 'Max_Troponin'\n",
       "7. 'Max_CRP'\n",
       "8. 'Max_CK'\n",
       "9. 'Factor4'\n",
       "\n",
       "\n"
      ],
      "text/plain": [
       "[1] \"Normalized_CRP_TP3\" \"Normalized_CRP_TP2\" \"Normalized_CRP_TP1\"\n",
       "[4] \"Mean_Troponin\"      \"Mean_CK\"            \"Max_Troponin\"      \n",
       "[7] \"Max_CRP\"            \"Max_CK\"             \"Factor4\"           "
      ]
     },
     "metadata": {},
     "output_type": "display_data"
    }
   ],
   "source": [
    "unique(TP_prediction_metrics$model)"
   ]
  },
  {
   "cell_type": "code",
   "execution_count": 245,
   "id": "b8a3fdf2-bdb8-489b-8a84-1eb21f0e5c91",
   "metadata": {},
   "outputs": [],
   "source": [
    "### Save as supplementary table"
   ]
  },
  {
   "cell_type": "code",
   "execution_count": 246,
   "id": "b790f867-3789-470e-a75c-93a36f0cda3d",
   "metadata": {},
   "outputs": [],
   "source": [
    "write.csv(TP_prediction_metrics, paste0(result_path,'/Supplementary/SUPP_E9_Factor4_prediction_metrics_P2.csv'), row.names = FALSE)"
   ]
  },
  {
   "cell_type": "code",
   "execution_count": null,
   "id": "e66094eb-0683-460d-92dc-e9d842ac56c9",
   "metadata": {},
   "outputs": [],
   "source": []
  }
 ],
 "metadata": {
  "kernelspec": {
   "display_name": "R",
   "language": "R",
   "name": "ir"
  },
  "language_info": {
   "codemirror_mode": "r",
   "file_extension": ".r",
   "mimetype": "text/x-r-source",
   "name": "R",
   "pygments_lexer": "r",
   "version": "4.1.1"
  },
  "toc-autonumbering": true
 },
 "nbformat": 4,
 "nbformat_minor": 5
}

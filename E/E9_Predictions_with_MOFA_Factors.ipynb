{
 "cells": [
  {
   "cell_type": "code",
   "execution_count": 1,
   "id": "41b5d304-a7a9-4ae9-99de-888d404c6671",
   "metadata": {},
   "outputs": [],
   "source": [
    "### Script for using MOFA factors as predictors"
   ]
  },
  {
   "cell_type": "markdown",
   "id": "ee762245-b417-40af-852f-8eb0889a3e92",
   "metadata": {
    "tags": []
   },
   "source": [
    "#############################################\n",
    "# Prerequisites - Load Libraries"
   ]
  },
  {
   "cell_type": "code",
   "execution_count": 2,
   "id": "55fcb791-1568-4bdd-b18c-0082f55e91fd",
   "metadata": {
    "collapsed": true,
    "jupyter": {
     "outputs_hidden": true
    },
    "tags": []
   },
   "outputs": [
    {
     "name": "stderr",
     "output_type": "stream",
     "text": [
      "\n",
      "Attaching package: ‘igraph’\n",
      "\n",
      "\n",
      "The following objects are masked from ‘package:stats’:\n",
      "\n",
      "    decompose, spectrum\n",
      "\n",
      "\n",
      "The following object is masked from ‘package:base’:\n",
      "\n",
      "    union\n",
      "\n",
      "\n",
      "\n",
      "Attaching package: ‘MatrixGenerics’\n",
      "\n",
      "\n",
      "The following objects are masked from ‘package:matrixStats’:\n",
      "\n",
      "    colAlls, colAnyNAs, colAnys, colAvgsPerRowSet, colCollapse,\n",
      "    colCounts, colCummaxs, colCummins, colCumprods, colCumsums,\n",
      "    colDiffs, colIQRDiffs, colIQRs, colLogSumExps, colMadDiffs,\n",
      "    colMads, colMaxs, colMeans2, colMedians, colMins, colOrderStats,\n",
      "    colProds, colQuantiles, colRanges, colRanks, colSdDiffs, colSds,\n",
      "    colSums2, colTabulates, colVarDiffs, colVars, colWeightedMads,\n",
      "    colWeightedMeans, colWeightedMedians, colWeightedSds,\n",
      "    colWeightedVars, rowAlls, rowAnyNAs, rowAnys, rowAvgsPerColSet,\n",
      "    rowCollapse, rowCounts, rowCummaxs, rowCummins, rowCumprods,\n",
      "    rowCumsums, rowDiffs, rowIQRDiffs, rowIQRs, rowLogSumExps,\n",
      "    rowMadDiffs, rowMads, rowMaxs, rowMeans2, rowMedians, rowMins,\n",
      "    rowOrderStats, rowProds, rowQuantiles, rowRanges, rowRanks,\n",
      "    rowSdDiffs, rowSds, rowSums2, rowTabulates, rowVarDiffs, rowVars,\n",
      "    rowWeightedMads, rowWeightedMeans, rowWeightedMedians,\n",
      "    rowWeightedSds, rowWeightedVars\n",
      "\n",
      "\n",
      "\n",
      "Attaching package: ‘BiocGenerics’\n",
      "\n",
      "\n",
      "The following objects are masked from ‘package:parallel’:\n",
      "\n",
      "    clusterApply, clusterApplyLB, clusterCall, clusterEvalQ,\n",
      "    clusterExport, clusterMap, parApply, parCapply, parLapply,\n",
      "    parLapplyLB, parRapply, parSapply, parSapplyLB\n",
      "\n",
      "\n",
      "The following objects are masked from ‘package:igraph’:\n",
      "\n",
      "    normalize, path, union\n",
      "\n",
      "\n",
      "The following objects are masked from ‘package:stats’:\n",
      "\n",
      "    IQR, mad, sd, var, xtabs\n",
      "\n",
      "\n",
      "The following objects are masked from ‘package:base’:\n",
      "\n",
      "    anyDuplicated, append, as.data.frame, basename, cbind, colnames,\n",
      "    dirname, do.call, duplicated, eval, evalq, Filter, Find, get, grep,\n",
      "    grepl, intersect, is.unsorted, lapply, Map, mapply, match, mget,\n",
      "    order, paste, pmax, pmax.int, pmin, pmin.int, Position, rank,\n",
      "    rbind, Reduce, rownames, sapply, setdiff, sort, table, tapply,\n",
      "    union, unique, unsplit, which.max, which.min\n",
      "\n",
      "\n",
      "\n",
      "Attaching package: ‘S4Vectors’\n",
      "\n",
      "\n",
      "The following objects are masked from ‘package:base’:\n",
      "\n",
      "    expand.grid, I, unname\n",
      "\n",
      "\n",
      "Welcome to Bioconductor\n",
      "\n",
      "    Vignettes contain introductory material; view with\n",
      "    'browseVignettes()'. To cite Bioconductor, see\n",
      "    'citation(\"Biobase\")', and for packages 'citation(\"pkgname\")'.\n",
      "\n",
      "\n",
      "\n",
      "Attaching package: ‘Biobase’\n",
      "\n",
      "\n",
      "The following object is masked from ‘package:MatrixGenerics’:\n",
      "\n",
      "    rowMedians\n",
      "\n",
      "\n",
      "The following objects are masked from ‘package:matrixStats’:\n",
      "\n",
      "    anyMissing, rowMedians\n",
      "\n",
      "\n",
      "Attaching SeuratObject\n",
      "\n",
      "Attaching sp\n",
      "\n",
      "\n",
      "Attaching package: ‘Seurat’\n",
      "\n",
      "\n",
      "The following object is masked from ‘package:SummarizedExperiment’:\n",
      "\n",
      "    Assays\n",
      "\n",
      "\n",
      "\n",
      "Attaching package: ‘Matrix’\n",
      "\n",
      "\n",
      "The following object is masked from ‘package:S4Vectors’:\n",
      "\n",
      "    expand\n",
      "\n",
      "\n",
      "\n",
      "Attaching package: ‘DelayedArray’\n",
      "\n",
      "\n",
      "The following object is masked from ‘package:igraph’:\n",
      "\n",
      "    simplify\n",
      "\n",
      "\n",
      "The following objects are masked from ‘package:base’:\n",
      "\n",
      "    aperm, apply, rowsum, scale, sweep\n",
      "\n",
      "\n",
      "\n",
      "Attaching package: ‘HDF5Array’\n",
      "\n",
      "\n",
      "The following object is masked from ‘package:rhdf5’:\n",
      "\n",
      "    h5ls\n",
      "\n",
      "\n",
      "Warning message in if (is.na(desc)) {:\n",
      "“the condition has length > 1 and only the first element will be used”\n",
      "Warning message in if (is.na(desc)) {:\n",
      "“the condition has length > 1 and only the first element will be used”\n",
      "Warning message in if (is.na(desc)) {:\n",
      "“the condition has length > 1 and only the first element will be used”\n",
      "Warning message in if (is.na(desc)) {:\n",
      "“the condition has length > 1 and only the first element will be used”\n",
      "Warning message in if (is.na(desc)) {:\n",
      "“the condition has length > 1 and only the first element will be used”\n",
      "Warning message in if (is.na(desc)) {:\n",
      "“the condition has length > 1 and only the first element will be used”\n",
      "Warning message in if (is.na(desc)) {:\n",
      "“the condition has length > 1 and only the first element will be used”\n",
      "Warning message in if (is.na(desc)) {:\n",
      "“the condition has length > 1 and only the first element will be used”\n",
      "Warning message in if (is.na(desc)) {:\n",
      "“the condition has length > 1 and only the first element will be used”\n",
      "Warning message in if (is.na(desc)) {:\n",
      "“the condition has length > 1 and only the first element will be used”\n",
      "Warning message in if (is.na(desc)) {:\n",
      "“the condition has length > 1 and only the first element will be used”\n",
      "Warning message in if (is.na(desc)) {:\n",
      "“the condition has length > 1 and only the first element will be used”\n",
      "Warning message in if (is.na(desc)) {:\n",
      "“the condition has length > 1 and only the first element will be used”\n",
      "Warning message in if (is.na(desc)) {:\n",
      "“the condition has length > 1 and only the first element will be used”\n",
      "Warning message in if (is.na(desc)) {:\n",
      "“the condition has length > 1 and only the first element will be used”\n",
      "Warning message in if (is.na(desc)) {:\n",
      "“the condition has length > 1 and only the first element will be used”\n",
      "Warning message in if (is.na(desc)) {:\n",
      "“the condition has length > 1 and only the first element will be used”\n",
      "Warning message in if (is.na(desc)) {:\n",
      "“the condition has length > 1 and only the first element will be used”\n",
      "Warning message in if (is.na(desc)) {:\n",
      "“the condition has length > 1 and only the first element will be used”\n",
      "Warning message in if (is.na(desc)) {:\n",
      "“the condition has length > 1 and only the first element will be used”\n",
      "Warning message in if (is.na(desc)) {:\n",
      "“the condition has length > 1 and only the first element will be used”\n",
      "Warning message in if (is.na(desc)) {:\n",
      "“the condition has length > 1 and only the first element will be used”\n",
      "Warning message in if (is.na(desc)) {:\n",
      "“the condition has length > 1 and only the first element will be used”\n",
      "Registered S3 method overwritten by 'SeuratDisk':\n",
      "  method            from  \n",
      "  as.sparse.H5Group Seurat\n",
      "\n",
      "\n",
      "Attaching package: ‘gridExtra’\n",
      "\n",
      "\n",
      "The following object is masked from ‘package:Biobase’:\n",
      "\n",
      "    combine\n",
      "\n",
      "\n",
      "The following object is masked from ‘package:BiocGenerics’:\n",
      "\n",
      "    combine\n",
      "\n",
      "\n",
      "\n",
      "Attaching package: ‘dplyr’\n",
      "\n",
      "\n",
      "The following object is masked from ‘package:gridExtra’:\n",
      "\n",
      "    combine\n",
      "\n",
      "\n",
      "The following object is masked from ‘package:Biobase’:\n",
      "\n",
      "    combine\n",
      "\n",
      "\n",
      "The following objects are masked from ‘package:GenomicRanges’:\n",
      "\n",
      "    intersect, setdiff, union\n",
      "\n",
      "\n",
      "The following object is masked from ‘package:GenomeInfoDb’:\n",
      "\n",
      "    intersect\n",
      "\n",
      "\n",
      "The following objects are masked from ‘package:IRanges’:\n",
      "\n",
      "    collapse, desc, intersect, setdiff, slice, union\n",
      "\n",
      "\n",
      "The following objects are masked from ‘package:S4Vectors’:\n",
      "\n",
      "    first, intersect, rename, setdiff, setequal, union\n",
      "\n",
      "\n",
      "The following objects are masked from ‘package:BiocGenerics’:\n",
      "\n",
      "    combine, intersect, setdiff, union\n",
      "\n",
      "\n",
      "The following object is masked from ‘package:matrixStats’:\n",
      "\n",
      "    count\n",
      "\n",
      "\n",
      "The following objects are masked from ‘package:igraph’:\n",
      "\n",
      "    as_data_frame, groups, union\n",
      "\n",
      "\n",
      "The following objects are masked from ‘package:stats’:\n",
      "\n",
      "    filter, lag\n",
      "\n",
      "\n",
      "The following objects are masked from ‘package:base’:\n",
      "\n",
      "    intersect, setdiff, setequal, union\n",
      "\n",
      "\n",
      "\n",
      "Attaching package: ‘plotly’\n",
      "\n",
      "\n",
      "The following object is masked from ‘package:ggplot2’:\n",
      "\n",
      "    last_plot\n",
      "\n",
      "\n",
      "The following object is masked from ‘package:IRanges’:\n",
      "\n",
      "    slice\n",
      "\n",
      "\n",
      "The following object is masked from ‘package:S4Vectors’:\n",
      "\n",
      "    rename\n",
      "\n",
      "\n",
      "The following object is masked from ‘package:igraph’:\n",
      "\n",
      "    groups\n",
      "\n",
      "\n",
      "The following object is masked from ‘package:stats’:\n",
      "\n",
      "    filter\n",
      "\n",
      "\n",
      "The following object is masked from ‘package:graphics’:\n",
      "\n",
      "    layout\n",
      "\n",
      "\n",
      "Warning message in checkDepPackageVersion(dep_pkg = \"TMB\"):\n",
      "“Package version inconsistency detected.\n",
      "glmmTMB was built with TMB version 1.9.0\n",
      "Current TMB version is 1.9.1\n",
      "Please re-install glmmTMB from source or restore original ‘TMB’ package (see '?reinstalling' for more information)”\n",
      "\n",
      "Attaching package: ‘limma’\n",
      "\n",
      "\n",
      "The following object is masked from ‘package:scater’:\n",
      "\n",
      "    plotMDS\n",
      "\n",
      "\n",
      "The following object is masked from ‘package:BiocGenerics’:\n",
      "\n",
      "    plotMA\n",
      "\n",
      "\n",
      "\n",
      "Attaching package: ‘DESeq2’\n",
      "\n",
      "\n",
      "The following object is masked from ‘package:scater’:\n",
      "\n",
      "    fpkm\n",
      "\n",
      "\n",
      "Loading required package: AnnotationDbi\n",
      "\n",
      "\n",
      "Attaching package: ‘AnnotationDbi’\n",
      "\n",
      "\n",
      "The following object is masked from ‘package:plotly’:\n",
      "\n",
      "    select\n",
      "\n",
      "\n",
      "The following object is masked from ‘package:dplyr’:\n",
      "\n",
      "    select\n",
      "\n",
      "\n",
      "\n",
      "\n",
      "\n",
      "\n",
      "Registered S3 method overwritten by 'ggtree':\n",
      "  method      from \n",
      "  identify.gg ggfun\n",
      "\n",
      "clusterProfiler v4.0.5  For help: https://yulab-smu.top/biomedical-knowledge-mining-book/\n",
      "\n",
      "If you use clusterProfiler in published research, please cite:\n",
      "T Wu, E Hu, S Xu, M Chen, P Guo, Z Dai, T Feng, L Zhou, W Tang, L Zhan, X Fu, S Liu, X Bo, and G Yu. clusterProfiler 4.0: A universal enrichment tool for interpreting omics data. The Innovation. 2021, 2(3):100141. doi: 10.1016/j.xinn.2021.100141\n",
      "\n",
      "\n",
      "Attaching package: ‘clusterProfiler’\n",
      "\n",
      "\n",
      "The following object is masked from ‘package:AnnotationDbi’:\n",
      "\n",
      "    select\n",
      "\n",
      "\n",
      "The following object is masked from ‘package:DelayedArray’:\n",
      "\n",
      "    simplify\n",
      "\n",
      "\n",
      "The following object is masked from ‘package:IRanges’:\n",
      "\n",
      "    slice\n",
      "\n",
      "\n",
      "The following object is masked from ‘package:S4Vectors’:\n",
      "\n",
      "    rename\n",
      "\n",
      "\n",
      "The following object is masked from ‘package:igraph’:\n",
      "\n",
      "    simplify\n",
      "\n",
      "\n",
      "The following object is masked from ‘package:stats’:\n",
      "\n",
      "    filter\n",
      "\n",
      "\n",
      "\n",
      "Attaching package: ‘data.table’\n",
      "\n",
      "\n",
      "The following objects are masked from ‘package:dplyr’:\n",
      "\n",
      "    between, first, last\n",
      "\n",
      "\n",
      "The following object is masked from ‘package:SummarizedExperiment’:\n",
      "\n",
      "    shift\n",
      "\n",
      "\n",
      "The following object is masked from ‘package:GenomicRanges’:\n",
      "\n",
      "    shift\n",
      "\n",
      "\n",
      "The following object is masked from ‘package:IRanges’:\n",
      "\n",
      "    shift\n",
      "\n",
      "\n",
      "The following objects are masked from ‘package:S4Vectors’:\n",
      "\n",
      "    first, second\n",
      "\n",
      "\n",
      "\n",
      "Attaching package: ‘MOFA2’\n",
      "\n",
      "\n",
      "The following object is masked from ‘package:stats’:\n",
      "\n",
      "    predict\n",
      "\n",
      "\n",
      "\n",
      "Attaching package: ‘ggraph’\n",
      "\n",
      "\n",
      "The following object is masked from ‘package:sp’:\n",
      "\n",
      "    geometry\n",
      "\n",
      "\n",
      "Loading required package: lattice\n",
      "\n",
      "\n",
      "Attaching package: ‘lattice’\n",
      "\n",
      "\n",
      "The following object is masked from ‘package:clusterProfiler’:\n",
      "\n",
      "    dotplot\n",
      "\n",
      "\n",
      "Loading required package: survival\n",
      "\n",
      "Loading required package: Formula\n",
      "\n",
      "\n",
      "Attaching package: ‘Hmisc’\n",
      "\n",
      "\n",
      "The following object is masked from ‘package:MOFA2’:\n",
      "\n",
      "    impute\n",
      "\n",
      "\n",
      "The following object is masked from ‘package:AnnotationDbi’:\n",
      "\n",
      "    contents\n",
      "\n",
      "\n",
      "The following object is masked from ‘package:plotly’:\n",
      "\n",
      "    subplot\n",
      "\n",
      "\n",
      "The following objects are masked from ‘package:dplyr’:\n",
      "\n",
      "    src, summarize\n",
      "\n",
      "\n",
      "The following object is masked from ‘package:SeuratObject’:\n",
      "\n",
      "    Key\n",
      "\n",
      "\n",
      "The following object is masked from ‘package:Seurat’:\n",
      "\n",
      "    Key\n",
      "\n",
      "\n",
      "The following object is masked from ‘package:Biobase’:\n",
      "\n",
      "    contents\n",
      "\n",
      "\n",
      "The following objects are masked from ‘package:base’:\n",
      "\n",
      "    format.pval, units\n",
      "\n",
      "\n",
      "Registered S3 method overwritten by 'GGally':\n",
      "  method from   \n",
      "  +.gg   ggplot2\n",
      "\n",
      "\n",
      "Attaching package: ‘rstatix’\n",
      "\n",
      "\n",
      "The following object is masked from ‘package:AnnotationDbi’:\n",
      "\n",
      "    select\n",
      "\n",
      "\n",
      "The following object is masked from ‘package:IRanges’:\n",
      "\n",
      "    desc\n",
      "\n",
      "\n",
      "The following object is masked from ‘package:stats’:\n",
      "\n",
      "    filter\n",
      "\n",
      "\n",
      "\n",
      "Attaching package: ‘ggpubr’\n",
      "\n",
      "\n",
      "The following object is masked from ‘package:cowplot’:\n",
      "\n",
      "    get_legend\n",
      "\n",
      "\n",
      "── \u001b[1mAttaching packages\u001b[22m ─────────────────────────────────────── tidyverse 1.3.1 ──\n",
      "\n",
      "\u001b[32m✔\u001b[39m \u001b[34mtibble \u001b[39m 3.1.7     \u001b[32m✔\u001b[39m \u001b[34mpurrr  \u001b[39m 0.3.4\n",
      "\u001b[32m✔\u001b[39m \u001b[34mtidyr  \u001b[39m 1.2.0     \u001b[32m✔\u001b[39m \u001b[34mforcats\u001b[39m 0.5.2\n",
      "\u001b[32m✔\u001b[39m \u001b[34mreadr  \u001b[39m 2.1.2     \n",
      "\n",
      "── \u001b[1mConflicts\u001b[22m ────────────────────────────────────────── tidyverse_conflicts() ──\n",
      "\u001b[31m✖\u001b[39m \u001b[34mtibble\u001b[39m::\u001b[32mas_data_frame()\u001b[39m   masks \u001b[34mdplyr\u001b[39m::as_data_frame(), \u001b[34migraph\u001b[39m::as_data_frame()\n",
      "\u001b[31m✖\u001b[39m \u001b[34mdata.table\u001b[39m::\u001b[32mbetween()\u001b[39m     masks \u001b[34mdplyr\u001b[39m::between()\n",
      "\u001b[31m✖\u001b[39m \u001b[34mdplyr\u001b[39m::\u001b[32mcollapse()\u001b[39m         masks \u001b[34mIRanges\u001b[39m::collapse()\n",
      "\u001b[31m✖\u001b[39m \u001b[34mdplyr\u001b[39m::\u001b[32mcombine()\u001b[39m          masks \u001b[34mgridExtra\u001b[39m::combine(), \u001b[34mBiobase\u001b[39m::combine(), \u001b[34mBiocGenerics\u001b[39m::combine()\n",
      "\u001b[31m✖\u001b[39m \u001b[34mpurrr\u001b[39m::\u001b[32mcompose()\u001b[39m          masks \u001b[34migraph\u001b[39m::compose()\n",
      "\u001b[31m✖\u001b[39m \u001b[34mdplyr\u001b[39m::\u001b[32mcount()\u001b[39m            masks \u001b[34mmatrixStats\u001b[39m::count()\n",
      "\u001b[31m✖\u001b[39m \u001b[34mtidyr\u001b[39m::\u001b[32mcrossing()\u001b[39m         masks \u001b[34migraph\u001b[39m::crossing()\n",
      "\u001b[31m✖\u001b[39m \u001b[34mrstatix\u001b[39m::\u001b[32mdesc()\u001b[39m           masks \u001b[34mdplyr\u001b[39m::desc(), \u001b[34mIRanges\u001b[39m::desc()\n",
      "\u001b[31m✖\u001b[39m \u001b[34mtidyr\u001b[39m::\u001b[32mexpand()\u001b[39m           masks \u001b[34mMatrix\u001b[39m::expand(), \u001b[34mS4Vectors\u001b[39m::expand()\n",
      "\u001b[31m✖\u001b[39m \u001b[34mrstatix\u001b[39m::\u001b[32mfilter()\u001b[39m         masks \u001b[34mclusterProfiler\u001b[39m::filter(), \u001b[34mplotly\u001b[39m::filter(), \u001b[34mdplyr\u001b[39m::filter(), \u001b[34mstats\u001b[39m::filter()\n",
      "\u001b[31m✖\u001b[39m \u001b[34mdata.table\u001b[39m::\u001b[32mfirst()\u001b[39m       masks \u001b[34mdplyr\u001b[39m::first(), \u001b[34mS4Vectors\u001b[39m::first()\n",
      "\u001b[31m✖\u001b[39m \u001b[34mplotly\u001b[39m::\u001b[32mgroups()\u001b[39m          masks \u001b[34mdplyr\u001b[39m::groups(), \u001b[34migraph\u001b[39m::groups()\n",
      "\u001b[31m✖\u001b[39m \u001b[34mdplyr\u001b[39m::\u001b[32mlag()\u001b[39m              masks \u001b[34mstats\u001b[39m::lag()\n",
      "\u001b[31m✖\u001b[39m \u001b[34mdata.table\u001b[39m::\u001b[32mlast()\u001b[39m        masks \u001b[34mdplyr\u001b[39m::last()\n",
      "\u001b[31m✖\u001b[39m \u001b[34mtidyr\u001b[39m::\u001b[32mpack()\u001b[39m             masks \u001b[34mMatrix\u001b[39m::pack()\n",
      "\u001b[31m✖\u001b[39m \u001b[34mggplot2\u001b[39m::\u001b[32mPosition()\u001b[39m       masks \u001b[34mBiocGenerics\u001b[39m::Position(), \u001b[34mbase\u001b[39m::Position()\n",
      "\u001b[31m✖\u001b[39m \u001b[34mpurrr\u001b[39m::\u001b[32mreduce()\u001b[39m           masks \u001b[34mGenomicRanges\u001b[39m::reduce(), \u001b[34mIRanges\u001b[39m::reduce()\n",
      "\u001b[31m✖\u001b[39m \u001b[34mclusterProfiler\u001b[39m::\u001b[32mrename()\u001b[39m masks \u001b[34mplotly\u001b[39m::rename(), \u001b[34mdplyr\u001b[39m::rename(), \u001b[34mS4Vectors\u001b[39m::rename()\n",
      "\u001b[31m✖\u001b[39m \u001b[34mrstatix\u001b[39m::\u001b[32mselect()\u001b[39m         masks \u001b[34mclusterProfiler\u001b[39m::select(), \u001b[34mAnnotationDbi\u001b[39m::select(), \u001b[34mplotly\u001b[39m::select(), \u001b[34mdplyr\u001b[39m::select()\n",
      "\u001b[31m✖\u001b[39m \u001b[34mpurrr\u001b[39m::\u001b[32msimplify()\u001b[39m         masks \u001b[34mclusterProfiler\u001b[39m::simplify(), \u001b[34mDelayedArray\u001b[39m::simplify(), \u001b[34migraph\u001b[39m::simplify()\n",
      "\u001b[31m✖\u001b[39m \u001b[34mclusterProfiler\u001b[39m::\u001b[32mslice()\u001b[39m  masks \u001b[34mplotly\u001b[39m::slice(), \u001b[34mdplyr\u001b[39m::slice(), \u001b[34mIRanges\u001b[39m::slice()\n",
      "\u001b[31m✖\u001b[39m \u001b[34mHmisc\u001b[39m::\u001b[32msrc()\u001b[39m              masks \u001b[34mdplyr\u001b[39m::src()\n",
      "\u001b[31m✖\u001b[39m \u001b[34mHmisc\u001b[39m::\u001b[32msummarize()\u001b[39m        masks \u001b[34mdplyr\u001b[39m::summarize()\n",
      "\u001b[31m✖\u001b[39m \u001b[34mpurrr\u001b[39m::\u001b[32mtranspose()\u001b[39m        masks \u001b[34mdata.table\u001b[39m::transpose()\n",
      "\u001b[31m✖\u001b[39m \u001b[34mtidyr\u001b[39m::\u001b[32munpack()\u001b[39m           masks \u001b[34mMatrix\u001b[39m::unpack()\n",
      "\n",
      "corrplot 0.92 loaded\n",
      "\n",
      "\n",
      "Attaching package: ‘networkD3’\n",
      "\n",
      "\n",
      "The following object is masked from ‘package:SeuratObject’:\n",
      "\n",
      "    JS\n",
      "\n",
      "\n",
      "The following object is masked from ‘package:Seurat’:\n",
      "\n",
      "    JS\n",
      "\n",
      "\n",
      "\n",
      "‘network’ 1.17.2 (2022-05-20), part of the Statnet Project\n",
      "* ‘news(package=\"network\")’ for changes since last version\n",
      "* ‘citation(\"network\")’ for citation information\n",
      "* ‘https://statnet.org’ for help, support, and other information\n",
      "\n",
      "\n",
      "\n",
      "Attaching package: ‘network’\n",
      "\n",
      "\n",
      "The following object is masked from ‘package:Hmisc’:\n",
      "\n",
      "    is.discrete\n",
      "\n",
      "\n",
      "The following objects are masked from ‘package:igraph’:\n",
      "\n",
      "    %c%, %s%, add.edges, add.vertices, delete.edges, delete.vertices,\n",
      "    get.edge.attribute, get.edges, get.vertex.attribute, is.bipartite,\n",
      "    is.directed, list.edge.attributes, list.vertex.attributes,\n",
      "    set.edge.attribute, set.vertex.attribute\n",
      "\n",
      "\n",
      "\n",
      "Attaching package: ‘enrichplot’\n",
      "\n",
      "\n",
      "The following object is masked from ‘package:ggpubr’:\n",
      "\n",
      "    color_palette\n",
      "\n",
      "\n",
      "The following object is masked from ‘package:GGally’:\n",
      "\n",
      "    ggtable\n",
      "\n",
      "\n",
      "The following object is masked from ‘package:lattice’:\n",
      "\n",
      "    dotplot\n",
      "\n",
      "\n",
      "DOSE v3.18.3  For help: https://guangchuangyu.github.io/software/DOSE\n",
      "\n",
      "If you use DOSE in published research, please cite:\n",
      "Guangchuang Yu, Li-Gen Wang, Guang-Rong Yan, Qing-Yu He. DOSE: an R/Bioconductor package for Disease Ontology Semantic and Enrichment analysis. Bioinformatics 2015, 31(4):608-609\n",
      "\n",
      "\n",
      "\n",
      "Attaching package: ‘UpSetR’\n",
      "\n",
      "\n",
      "The following object is masked from ‘package:ComplexUpset’:\n",
      "\n",
      "    upset\n",
      "\n",
      "\n",
      "The following object is masked from ‘package:lattice’:\n",
      "\n",
      "    histogram\n",
      "\n",
      "\n",
      "Registered S3 method overwritten by 'gdata':\n",
      "  method         from  \n",
      "  reorder.factor gplots\n",
      "\n",
      "gdata: read.xls support for 'XLS' (Excel 97-2004) files ENABLED.\n",
      "\n",
      "\n",
      "\n",
      "gdata: Unable to load perl libaries needed by read.xls()\n",
      "gdata: to support 'XLSX' (Excel 2007+) files.\n",
      "\n",
      "\n",
      "\n",
      "gdata: Run the function 'installXLSXsupport()'\n",
      "gdata: to automatically download and install the perl\n",
      "gdata: libaries needed to support Excel XLS and XLSX formats.\n",
      "\n",
      "\n",
      "Attaching package: ‘gdata’\n",
      "\n",
      "\n",
      "The following object is masked from ‘package:purrr’:\n",
      "\n",
      "    keep\n",
      "\n",
      "\n",
      "The following objects are masked from ‘package:data.table’:\n",
      "\n",
      "    first, last\n",
      "\n",
      "\n",
      "The following objects are masked from ‘package:dplyr’:\n",
      "\n",
      "    combine, first, last\n",
      "\n",
      "\n",
      "The following object is masked from ‘package:gridExtra’:\n",
      "\n",
      "    combine\n",
      "\n",
      "\n",
      "The following object is masked from ‘package:SummarizedExperiment’:\n",
      "\n",
      "    trim\n",
      "\n",
      "\n",
      "The following object is masked from ‘package:Biobase’:\n",
      "\n",
      "    combine\n",
      "\n",
      "\n",
      "The following object is masked from ‘package:GenomicRanges’:\n",
      "\n",
      "    trim\n",
      "\n",
      "\n",
      "The following objects are masked from ‘package:IRanges’:\n",
      "\n",
      "    startsWith, trim\n",
      "\n",
      "\n",
      "The following objects are masked from ‘package:S4Vectors’:\n",
      "\n",
      "    first, first<-\n",
      "\n",
      "\n",
      "The following object is masked from ‘package:BiocGenerics’:\n",
      "\n",
      "    combine\n",
      "\n",
      "\n",
      "The following object is masked from ‘package:stats4’:\n",
      "\n",
      "    nobs\n",
      "\n",
      "\n",
      "The following object is masked from ‘package:stats’:\n",
      "\n",
      "    nobs\n",
      "\n",
      "\n",
      "The following object is masked from ‘package:utils’:\n",
      "\n",
      "    object.size\n",
      "\n",
      "\n",
      "The following object is masked from ‘package:base’:\n",
      "\n",
      "    startsWith\n",
      "\n",
      "\n",
      "\n",
      "Attaching package: ‘reshape2’\n",
      "\n",
      "\n",
      "The following object is masked from ‘package:tidyr’:\n",
      "\n",
      "    smiths\n",
      "\n",
      "\n",
      "The following objects are masked from ‘package:data.table’:\n",
      "\n",
      "    dcast, melt\n",
      "\n",
      "\n",
      "##############################################################################\n",
      "Pathview is an open source software package distributed under GNU General\n",
      "Public License version 3 (GPLv3). Details of GPLv3 is available at\n",
      "http://www.gnu.org/licenses/gpl-3.0.html. Particullary, users are required to\n",
      "formally cite the original Pathview paper (not just mention it) in publications\n",
      "or products. For details, do citation(\"pathview\") within R.\n",
      "\n",
      "The pathview downloads and uses KEGG data. Non-academic uses may require a KEGG\n",
      "license agreement (details at http://www.kegg.jp/kegg/legal.html).\n",
      "##############################################################################\n",
      "\n",
      "ReactomePA v1.36.0  For help: https://yulab-smu.top/biomedical-knowledge-mining-book/reactomepa.html\n",
      "\n",
      "If you use ReactomePA in published research, please cite:\n",
      "Guangchuang Yu, Qing-Yu He. ReactomePA: an R/Bioconductor package for reactome pathway analysis and visualization. Molecular BioSystems 2016, 12(2):477-479\n",
      "\n",
      "\n",
      "Attaching package: ‘ReactomePA’\n",
      "\n",
      "\n",
      "The following object is masked from ‘package:lattice’:\n",
      "\n",
      "    dotplot\n",
      "\n",
      "\n",
      "Loading required package: mgcv\n",
      "\n",
      "Loading required package: nlme\n",
      "\n",
      "\n",
      "Attaching package: ‘nlme’\n",
      "\n",
      "\n",
      "The following object is masked from ‘package:dplyr’:\n",
      "\n",
      "    collapse\n",
      "\n",
      "\n",
      "The following object is masked from ‘package:IRanges’:\n",
      "\n",
      "    collapse\n",
      "\n",
      "\n",
      "This is mgcv 1.8-40. For overview type 'help(\"mgcv-package\")'.\n",
      "\n",
      "Loading required package: genefilter\n",
      "\n",
      "\n",
      "Attaching package: ‘genefilter’\n",
      "\n",
      "\n",
      "The following object is masked from ‘package:readr’:\n",
      "\n",
      "    spec\n",
      "\n",
      "\n",
      "The following object is masked from ‘package:rstatix’:\n",
      "\n",
      "    Anova\n",
      "\n",
      "\n",
      "The following objects are masked from ‘package:MatrixGenerics’:\n",
      "\n",
      "    rowSds, rowVars\n",
      "\n",
      "\n",
      "The following objects are masked from ‘package:matrixStats’:\n",
      "\n",
      "    rowSds, rowVars\n",
      "\n",
      "\n",
      "Loading required package: BiocParallel\n",
      "\n",
      "\n",
      "Attaching package: ‘patchwork’\n",
      "\n",
      "\n",
      "The following object is masked from ‘package:genefilter’:\n",
      "\n",
      "    area\n",
      "\n",
      "\n",
      "The following object is masked from ‘package:cowplot’:\n",
      "\n",
      "    align_plots\n",
      "\n",
      "\n",
      "\n",
      "Attaching package: ‘caret’\n",
      "\n",
      "\n",
      "The following object is masked from ‘package:purrr’:\n",
      "\n",
      "    lift\n",
      "\n",
      "\n",
      "The following object is masked from ‘package:survival’:\n",
      "\n",
      "    cluster\n",
      "\n",
      "\n",
      "Type 'citation(\"pROC\")' for a citation.\n",
      "\n",
      "\n",
      "Attaching package: ‘pROC’\n",
      "\n",
      "\n",
      "The following object is masked from ‘package:colorspace’:\n",
      "\n",
      "    coords\n",
      "\n",
      "\n",
      "The following objects are masked from ‘package:IRanges’:\n",
      "\n",
      "    cov, var\n",
      "\n",
      "\n",
      "The following objects are masked from ‘package:S4Vectors’:\n",
      "\n",
      "    cov, var\n",
      "\n",
      "\n",
      "The following object is masked from ‘package:BiocGenerics’:\n",
      "\n",
      "    var\n",
      "\n",
      "\n",
      "The following objects are masked from ‘package:stats’:\n",
      "\n",
      "    cov, smooth, var\n",
      "\n",
      "\n",
      "Loaded glmnet 4.1-4\n",
      "\n",
      "\n",
      "Attaching package: ‘nnet’\n",
      "\n",
      "\n",
      "The following object is masked from ‘package:mgcv’:\n",
      "\n",
      "    multinom\n",
      "\n",
      "\n",
      "\n",
      "Attaching package: ‘dfidx’\n",
      "\n",
      "\n",
      "The following object is masked from ‘package:AnnotationDbi’:\n",
      "\n",
      "    select\n",
      "\n",
      "\n",
      "The following object is masked from ‘package:IRanges’:\n",
      "\n",
      "    slice\n",
      "\n",
      "\n",
      "The following object is masked from ‘package:stats’:\n",
      "\n",
      "    filter\n",
      "\n",
      "\n",
      "\n",
      "Attaching package: ‘modelr’\n",
      "\n",
      "\n",
      "The following object is masked from ‘package:gdata’:\n",
      "\n",
      "    resample\n",
      "\n",
      "\n",
      "The following object is masked from ‘package:igraph’:\n",
      "\n",
      "    permute\n",
      "\n",
      "\n",
      "\n",
      "Attaching package: ‘cvAUC’\n",
      "\n",
      "\n",
      "The following object is masked from ‘package:genefilter’:\n",
      "\n",
      "    AUC\n",
      "\n",
      "\n",
      "Loading required package: maps\n",
      "\n",
      "\n",
      "Attaching package: ‘maps’\n",
      "\n",
      "\n",
      "The following object is masked from ‘package:purrr’:\n",
      "\n",
      "    map\n",
      "\n",
      "\n",
      "Loading required package: shapefiles\n",
      "\n",
      "Loading required package: foreign\n",
      "\n",
      "\n",
      "Attaching package: ‘shapefiles’\n",
      "\n",
      "\n",
      "The following objects are masked from ‘package:foreign’:\n",
      "\n",
      "    read.dbf, write.dbf\n",
      "\n",
      "\n",
      "\n",
      "Attaching package: ‘fossil’\n",
      "\n",
      "\n",
      "The following object is masked from ‘package:modelr’:\n",
      "\n",
      "    bootstrap\n",
      "\n",
      "\n",
      "\n",
      "Attaching package: ‘plotROC’\n",
      "\n",
      "\n",
      "The following object is masked from ‘package:pROC’:\n",
      "\n",
      "    ggroc\n",
      "\n",
      "\n",
      "Welcome! Want to learn more? See two factoextra-related books at https://goo.gl/ve3WBa\n",
      "\n",
      "Loading required package: grid\n",
      "\n",
      "========================================\n",
      "ComplexHeatmap version 2.8.0\n",
      "Bioconductor page: http://bioconductor.org/packages/ComplexHeatmap/\n",
      "Github page: https://github.com/jokergoo/ComplexHeatmap\n",
      "Documentation: http://jokergoo.github.io/ComplexHeatmap-reference\n",
      "\n",
      "If you use it in published research, please cite:\n",
      "Gu, Z. Complex heatmaps reveal patterns and correlations in multidimensional \n",
      "  genomic data. Bioinformatics 2016.\n",
      "\n",
      "The new InteractiveComplexHeatmap package can directly export static \n",
      "complex heatmaps into an interactive Shiny app with zero effort. Have a try!\n",
      "\n",
      "This message can be suppressed by:\n",
      "  suppressPackageStartupMessages(library(ComplexHeatmap))\n",
      "========================================\n",
      "\n",
      "\n",
      "\n",
      "Attaching package: ‘ComplexHeatmap’\n",
      "\n",
      "\n",
      "The following object is masked from ‘package:genefilter’:\n",
      "\n",
      "    dist2\n",
      "\n",
      "\n",
      "The following object is masked from ‘package:network’:\n",
      "\n",
      "    %v%\n",
      "\n",
      "\n",
      "The following object is masked from ‘package:plotly’:\n",
      "\n",
      "    add_heatmap\n",
      "\n",
      "\n",
      "Welcome to compositions, a package for compositional data analysis.\n",
      "Find an intro with \"? compositions\"\n",
      "\n",
      "\n",
      "\n",
      "Attaching package: ‘compositions’\n",
      "\n",
      "\n",
      "The following object is masked from ‘package:glmnet’:\n",
      "\n",
      "    rmult\n",
      "\n",
      "\n",
      "The following objects are masked from ‘package:pROC’:\n",
      "\n",
      "    cov, var\n",
      "\n",
      "\n",
      "The following object is masked from ‘package:caret’:\n",
      "\n",
      "    R2\n",
      "\n",
      "\n",
      "The following object is masked from ‘package:DelayedArray’:\n",
      "\n",
      "    scale\n",
      "\n",
      "\n",
      "The following object is masked from ‘package:Matrix’:\n",
      "\n",
      "    norm\n",
      "\n",
      "\n",
      "The following object is masked from ‘package:scater’:\n",
      "\n",
      "    normalize\n",
      "\n",
      "\n",
      "The following objects are masked from ‘package:IRanges’:\n",
      "\n",
      "    cor, cov, var\n",
      "\n",
      "\n",
      "The following objects are masked from ‘package:S4Vectors’:\n",
      "\n",
      "    cor, cov, var\n",
      "\n",
      "\n",
      "The following objects are masked from ‘package:BiocGenerics’:\n",
      "\n",
      "    normalize, var\n",
      "\n",
      "\n",
      "The following object is masked from ‘package:igraph’:\n",
      "\n",
      "    normalize\n",
      "\n",
      "\n",
      "The following objects are masked from ‘package:stats’:\n",
      "\n",
      "    anova, cor, cov, dist, var\n",
      "\n",
      "\n",
      "The following objects are masked from ‘package:base’:\n",
      "\n",
      "    %*%, norm, scale, scale.default\n",
      "\n",
      "\n",
      "========================================\n",
      "circlize version 0.4.15\n",
      "CRAN page: https://cran.r-project.org/package=circlize\n",
      "Github page: https://github.com/jokergoo/circlize\n",
      "Documentation: https://jokergoo.github.io/circlize_book/book/\n",
      "\n",
      "If you use it in published research, please cite:\n",
      "Gu, Z. circlize implements and enhances circular visualization\n",
      "  in R. Bioinformatics 2014.\n",
      "\n",
      "This message can be suppressed by:\n",
      "  suppressPackageStartupMessages(library(circlize))\n",
      "========================================\n",
      "\n",
      "\n",
      "\n",
      "Attaching package: ‘circlize’\n",
      "\n",
      "\n",
      "The following object is masked from ‘package:igraph’:\n",
      "\n",
      "    degree\n",
      "\n",
      "\n"
     ]
    }
   ],
   "source": [
    "source('MS0_Libraries.r')"
   ]
  },
  {
   "cell_type": "code",
   "execution_count": 3,
   "id": "0afa8b71-f69b-4d4a-840f-1d42911d54ad",
   "metadata": {},
   "outputs": [],
   "source": [
    "source('MS4_Plot_Config.r')"
   ]
  },
  {
   "cell_type": "markdown",
   "id": "852725ba-a6dd-476e-a2e0-7820d7e99d19",
   "metadata": {
    "tags": []
   },
   "source": [
    "###############################################\n",
    "# Preqrequisites Configurations & Parameters"
   ]
  },
  {
   "cell_type": "code",
   "execution_count": 4,
   "id": "c29325a7-359b-4fc3-9705-23e5668d98a4",
   "metadata": {},
   "outputs": [],
   "source": [
    "data_path = '../data/current'"
   ]
  },
  {
   "cell_type": "code",
   "execution_count": 5,
   "id": "4f06b870-558d-4bea-a387-31d996213214",
   "metadata": {},
   "outputs": [],
   "source": [
    "result_path = '../results/current'"
   ]
  },
  {
   "cell_type": "code",
   "execution_count": 6,
   "id": "6c58977f-0137-4fd0-b872-11f93271676c",
   "metadata": {},
   "outputs": [
    {
     "data": {
      "text/html": [
       "'../data/current'"
      ],
      "text/latex": [
       "'../data/current'"
      ],
      "text/markdown": [
       "'../data/current'"
      ],
      "text/plain": [
       "[1] \"../data/current\""
      ]
     },
     "metadata": {},
     "output_type": "display_data"
    }
   ],
   "source": [
    "data_path"
   ]
  },
  {
   "cell_type": "code",
   "execution_count": 7,
   "id": "1d4c7b32-7ed1-493d-a020-17b24efb0128",
   "metadata": {},
   "outputs": [],
   "source": [
    "### Data to load for Factors and Gene Expression\n",
    "\n",
    "version = 'V_FINAL_INTEGRATED_FALSE'"
   ]
  },
  {
   "cell_type": "markdown",
   "id": "7fde2bf0-107f-4ab0-89e4-a4025a17168d",
   "metadata": {},
   "source": [
    "# Load Data"
   ]
  },
  {
   "cell_type": "markdown",
   "id": "5cd013dd-6480-4003-9caf-f7e51d00d5ee",
   "metadata": {},
   "source": [
    "## Sample Data"
   ]
  },
  {
   "cell_type": "code",
   "execution_count": 8,
   "id": "ecd92b5c-a91b-43e1-bb76-68f30140f747",
   "metadata": {},
   "outputs": [
    {
     "name": "stdout",
     "output_type": "stream",
     "text": [
      "[1] \"2022-06-16 14:38:20 CEST\"\n"
     ]
    }
   ],
   "source": [
    "path = paste0(result_path, '/00_Data_Overview/Available_Data_per_Sample_Overview.csv')\n",
    "all_samples_info = read.csv(path)\n",
    "print(file.info(path)$mtime)"
   ]
  },
  {
   "cell_type": "code",
   "execution_count": 9,
   "id": "e9ef0525-21f4-4271-83e7-44edd301ca25",
   "metadata": {},
   "outputs": [
    {
     "name": "stdout",
     "output_type": "stream",
     "text": [
      "[1] \"2022-06-16 14:38:20 CEST\"\n"
     ]
    }
   ],
   "source": [
    "path = paste0(result_path, '/00_Data_Overview/Merged_Sample_Meta_Data.csv')\n",
    "sample_data = read.csv(path)\n",
    "print(file.info(path)$mtime)"
   ]
  },
  {
   "cell_type": "code",
   "execution_count": null,
   "id": "f1058108-2b04-4406-baab-1ec1e3af69ab",
   "metadata": {},
   "outputs": [],
   "source": []
  },
  {
   "cell_type": "code",
   "execution_count": 12,
   "id": "7cc992f4-f978-4056-b559-c96740c1ee13",
   "metadata": {},
   "outputs": [],
   "source": [
    "#patients_filter = unique(sample_data$sample_id[is.na(str_extract(sample_data$sample_id, 'k'))])  # use only acs samples\n",
    "patients_filter = unique(sample_data$sample_id) #  use all samples"
   ]
  },
  {
   "cell_type": "code",
   "execution_count": 14,
   "id": "4b7d015f-d744-4b69-9067-78700cd16dd1",
   "metadata": {},
   "outputs": [],
   "source": [
    "# Add new columns for later prediction"
   ]
  },
  {
   "cell_type": "code",
   "execution_count": 15,
   "id": "c096eb93-83c0-40f4-a150-cd76224959bf",
   "metadata": {},
   "outputs": [],
   "source": [
    "# Summarize good and intermediate outcome    \n",
    "sample_data$delta_ef_value_class_summarized = sample_data$delta_ef_value_class\n",
    "sample_data$delta_ef_value_class_summarized[sample_data$delta_ef_value_class %in% c('intermediate')] = 'good'"
   ]
  },
  {
   "cell_type": "code",
   "execution_count": 16,
   "id": "d2829a75-576d-4b71-b8c6-8d50d7997c85",
   "metadata": {},
   "outputs": [
    {
     "data": {
      "text/html": [
       "<style>\n",
       ".list-inline {list-style: none; margin:0; padding: 0}\n",
       ".list-inline>li {display: inline-block}\n",
       ".list-inline>li:not(:last-child)::after {content: \"\\00b7\"; padding: 0 .5ex}\n",
       "</style>\n",
       "<ol class=list-inline><li>NA</li><li>'bad'</li><li>'good'</li></ol>\n"
      ],
      "text/latex": [
       "\\begin{enumerate*}\n",
       "\\item NA\n",
       "\\item 'bad'\n",
       "\\item 'good'\n",
       "\\end{enumerate*}\n"
      ],
      "text/markdown": [
       "1. NA\n",
       "2. 'bad'\n",
       "3. 'good'\n",
       "\n",
       "\n"
      ],
      "text/plain": [
       "[1] NA     \"bad\"  \"good\""
      ]
     },
     "metadata": {},
     "output_type": "display_data"
    }
   ],
   "source": [
    "unique(sample_data$delta_ef_value_class_summarized)"
   ]
  },
  {
   "cell_type": "code",
   "execution_count": 17,
   "id": "809e32cf-8fb9-4a18-979f-d21b96b396c4",
   "metadata": {},
   "outputs": [],
   "source": [
    "## Concatenate outcome with class"
   ]
  },
  {
   "cell_type": "code",
   "execution_count": 18,
   "id": "5aade7b2-65af-444a-b9b9-da36dd663583",
   "metadata": {},
   "outputs": [],
   "source": [
    "sample_data$tp_outcome = paste0(sample_data$measurement, '_', sample_data$delta_ef_value_class_summarized)"
   ]
  },
  {
   "cell_type": "code",
   "execution_count": 19,
   "id": "ee6bb7a9-8983-4328-a05c-4b5659b868b4",
   "metadata": {},
   "outputs": [
    {
     "data": {
      "text/html": [
       "<style>\n",
       ".list-inline {list-style: none; margin:0; padding: 0}\n",
       ".list-inline>li {display: inline-block}\n",
       ".list-inline>li:not(:last-child)::after {content: \"\\00b7\"; padding: 0 .5ex}\n",
       "</style>\n",
       "<ol class=list-inline><li>'TP0_NA'</li><li>'TP1_NA'</li><li>'TP2_NA'</li><li>'TP3_NA'</li><li>'TP4_NA'</li><li>'TP1_bad'</li><li>'TP2_bad'</li><li>'TP3_bad'</li><li>'TP4_bad'</li><li>'TP1_good'</li><li>'TP2_good'</li><li>'TP3_good'</li><li>'TP4_good'</li></ol>\n"
      ],
      "text/latex": [
       "\\begin{enumerate*}\n",
       "\\item 'TP0\\_NA'\n",
       "\\item 'TP1\\_NA'\n",
       "\\item 'TP2\\_NA'\n",
       "\\item 'TP3\\_NA'\n",
       "\\item 'TP4\\_NA'\n",
       "\\item 'TP1\\_bad'\n",
       "\\item 'TP2\\_bad'\n",
       "\\item 'TP3\\_bad'\n",
       "\\item 'TP4\\_bad'\n",
       "\\item 'TP1\\_good'\n",
       "\\item 'TP2\\_good'\n",
       "\\item 'TP3\\_good'\n",
       "\\item 'TP4\\_good'\n",
       "\\end{enumerate*}\n"
      ],
      "text/markdown": [
       "1. 'TP0_NA'\n",
       "2. 'TP1_NA'\n",
       "3. 'TP2_NA'\n",
       "4. 'TP3_NA'\n",
       "5. 'TP4_NA'\n",
       "6. 'TP1_bad'\n",
       "7. 'TP2_bad'\n",
       "8. 'TP3_bad'\n",
       "9. 'TP4_bad'\n",
       "10. 'TP1_good'\n",
       "11. 'TP2_good'\n",
       "12. 'TP3_good'\n",
       "13. 'TP4_good'\n",
       "\n",
       "\n"
      ],
      "text/plain": [
       " [1] \"TP0_NA\"   \"TP1_NA\"   \"TP2_NA\"   \"TP3_NA\"   \"TP4_NA\"   \"TP1_bad\" \n",
       " [7] \"TP2_bad\"  \"TP3_bad\"  \"TP4_bad\"  \"TP1_good\" \"TP2_good\" \"TP3_good\"\n",
       "[13] \"TP4_good\""
      ]
     },
     "metadata": {},
     "output_type": "display_data"
    }
   ],
   "source": [
    "unique(sample_data$tp_outcome)"
   ]
  },
  {
   "cell_type": "code",
   "execution_count": 22,
   "id": "57bb5c23-b7f9-4c09-abd0-3c5614d3fda7",
   "metadata": {},
   "outputs": [
    {
     "data": {
      "text/html": [
       "<table class=\"dataframe\">\n",
       "<caption>A grouped_df: 13 × 2</caption>\n",
       "<thead>\n",
       "\t<tr><th scope=col>tp_outcome</th><th scope=col>n</th></tr>\n",
       "\t<tr><th scope=col>&lt;chr&gt;</th><th scope=col>&lt;int&gt;</th></tr>\n",
       "</thead>\n",
       "<tbody>\n",
       "\t<tr><td>TP0_NA  </td><td>34</td></tr>\n",
       "\t<tr><td>TP1_bad </td><td> 7</td></tr>\n",
       "\t<tr><td>TP1_good</td><td>15</td></tr>\n",
       "\t<tr><td>TP1_NA  </td><td> 7</td></tr>\n",
       "\t<tr><td>TP2_bad </td><td> 8</td></tr>\n",
       "\t<tr><td>TP2_good</td><td>14</td></tr>\n",
       "\t<tr><td>TP2_NA  </td><td> 7</td></tr>\n",
       "\t<tr><td>TP3_bad </td><td> 7</td></tr>\n",
       "\t<tr><td>TP3_good</td><td>14</td></tr>\n",
       "\t<tr><td>TP3_NA  </td><td> 7</td></tr>\n",
       "\t<tr><td>TP4_bad </td><td> 7</td></tr>\n",
       "\t<tr><td>TP4_good</td><td>15</td></tr>\n",
       "\t<tr><td>TP4_NA  </td><td> 7</td></tr>\n",
       "</tbody>\n",
       "</table>\n"
      ],
      "text/latex": [
       "A grouped\\_df: 13 × 2\n",
       "\\begin{tabular}{ll}\n",
       " tp\\_outcome & n\\\\\n",
       " <chr> & <int>\\\\\n",
       "\\hline\n",
       "\t TP0\\_NA   & 34\\\\\n",
       "\t TP1\\_bad  &  7\\\\\n",
       "\t TP1\\_good & 15\\\\\n",
       "\t TP1\\_NA   &  7\\\\\n",
       "\t TP2\\_bad  &  8\\\\\n",
       "\t TP2\\_good & 14\\\\\n",
       "\t TP2\\_NA   &  7\\\\\n",
       "\t TP3\\_bad  &  7\\\\\n",
       "\t TP3\\_good & 14\\\\\n",
       "\t TP3\\_NA   &  7\\\\\n",
       "\t TP4\\_bad  &  7\\\\\n",
       "\t TP4\\_good & 15\\\\\n",
       "\t TP4\\_NA   &  7\\\\\n",
       "\\end{tabular}\n"
      ],
      "text/markdown": [
       "\n",
       "A grouped_df: 13 × 2\n",
       "\n",
       "| tp_outcome &lt;chr&gt; | n &lt;int&gt; |\n",
       "|---|---|\n",
       "| TP0_NA   | 34 |\n",
       "| TP1_bad  |  7 |\n",
       "| TP1_good | 15 |\n",
       "| TP1_NA   |  7 |\n",
       "| TP2_bad  |  8 |\n",
       "| TP2_good | 14 |\n",
       "| TP2_NA   |  7 |\n",
       "| TP3_bad  |  7 |\n",
       "| TP3_good | 14 |\n",
       "| TP3_NA   |  7 |\n",
       "| TP4_bad  |  7 |\n",
       "| TP4_good | 15 |\n",
       "| TP4_NA   |  7 |\n",
       "\n"
      ],
      "text/plain": [
       "   tp_outcome n \n",
       "1  TP0_NA     34\n",
       "2  TP1_bad     7\n",
       "3  TP1_good   15\n",
       "4  TP1_NA      7\n",
       "5  TP2_bad     8\n",
       "6  TP2_good   14\n",
       "7  TP2_NA      7\n",
       "8  TP3_bad     7\n",
       "9  TP3_good   14\n",
       "10 TP3_NA      7\n",
       "11 TP4_bad     7\n",
       "12 TP4_good   15\n",
       "13 TP4_NA      7"
      ]
     },
     "metadata": {},
     "output_type": "display_data"
    }
   ],
   "source": [
    "sample_data %>% group_by(tp_outcome) %>% count()"
   ]
  },
  {
   "cell_type": "code",
   "execution_count": null,
   "id": "dd968c8d-b084-4d27-b087-2978272a9dc2",
   "metadata": {},
   "outputs": [],
   "source": []
  },
  {
   "cell_type": "markdown",
   "id": "05decb44-844d-41f0-8b3a-e33a4e7a9331",
   "metadata": {},
   "source": [
    "## Factor Data to use"
   ]
  },
  {
   "cell_type": "code",
   "execution_count": 25,
   "id": "d773368d-616d-4eab-b81c-34a3e950eebe",
   "metadata": {},
   "outputs": [
    {
     "name": "stdout",
     "output_type": "stream",
     "text": [
      "[1] \"2023-01-18 15:19:14 CET\"\n"
     ]
    }
   ],
   "source": [
    "path = paste0(result_path, '/E-Analysis/Factor_Data_', version, '.csv')\n",
    "factor_data = read.csv(path)\n",
    "print(file.info(path)$mtime)\n",
    "#factor_data = read.csv(paste0(result_path, '/E-Analysis/E10_Factor_Data_REDUCED' , version ,'.csv'))"
   ]
  },
  {
   "cell_type": "code",
   "execution_count": 27,
   "id": "226573f0-3feb-4653-8f30-d23626f4c0cf",
   "metadata": {},
   "outputs": [
    {
     "data": {
      "text/html": [
       "<table class=\"dataframe\">\n",
       "<caption>A data.frame: 4 × 21</caption>\n",
       "<thead>\n",
       "\t<tr><th></th><th scope=col>Factor1</th><th scope=col>Factor2</th><th scope=col>Factor3</th><th scope=col>Factor4</th><th scope=col>Factor5</th><th scope=col>Factor6</th><th scope=col>Factor7</th><th scope=col>Factor8</th><th scope=col>Factor9</th><th scope=col>Factor10</th><th scope=col>⋯</th><th scope=col>Factor12</th><th scope=col>Factor13</th><th scope=col>Factor14</th><th scope=col>Factor15</th><th scope=col>Factor16</th><th scope=col>Factor17</th><th scope=col>Factor18</th><th scope=col>Factor19</th><th scope=col>Factor20</th><th scope=col>sample_id</th></tr>\n",
       "\t<tr><th></th><th scope=col>&lt;dbl&gt;</th><th scope=col>&lt;dbl&gt;</th><th scope=col>&lt;dbl&gt;</th><th scope=col>&lt;dbl&gt;</th><th scope=col>&lt;dbl&gt;</th><th scope=col>&lt;dbl&gt;</th><th scope=col>&lt;dbl&gt;</th><th scope=col>&lt;dbl&gt;</th><th scope=col>&lt;dbl&gt;</th><th scope=col>&lt;dbl&gt;</th><th scope=col>⋯</th><th scope=col>&lt;dbl&gt;</th><th scope=col>&lt;dbl&gt;</th><th scope=col>&lt;dbl&gt;</th><th scope=col>&lt;dbl&gt;</th><th scope=col>&lt;dbl&gt;</th><th scope=col>&lt;dbl&gt;</th><th scope=col>&lt;dbl&gt;</th><th scope=col>&lt;dbl&gt;</th><th scope=col>&lt;dbl&gt;</th><th scope=col>&lt;chr&gt;</th></tr>\n",
       "</thead>\n",
       "<tbody>\n",
       "\t<tr><th scope=row>1</th><td> 0.4811325</td><td>-0.2731317</td><td> 1.4988169</td><td>-0.4135678</td><td>1.5052706</td><td>-0.92308998</td><td>-0.3904185</td><td>-0.1944797</td><td> 0.16486799</td><td>-0.558130047</td><td>⋯</td><td> 1.371875754</td><td> 0.18829559</td><td>-0.30821631</td><td>-0.47997108</td><td> 0.34688969</td><td> 0.56926106</td><td> 0.416665730</td><td>-0.60204874</td><td>-0.03085489</td><td>k1 </td></tr>\n",
       "\t<tr><th scope=row>2</th><td> 0.8920603</td><td>-0.7547770</td><td> 0.3501023</td><td>-0.1524478</td><td>0.4074517</td><td>-0.04596939</td><td> 0.6276925</td><td>-1.1656937</td><td>-0.05003504</td><td>-0.338034341</td><td>⋯</td><td>-0.102028456</td><td> 0.11991185</td><td> 0.20967181</td><td> 0.09246619</td><td> 0.13351102</td><td>-0.04905520</td><td>-0.001722867</td><td> 0.07838055</td><td>-0.03818913</td><td>k10</td></tr>\n",
       "\t<tr><th scope=row>3</th><td>-1.2439808</td><td>-0.9826224</td><td>-0.8230479</td><td>-0.3559941</td><td>1.0458397</td><td> 0.11800347</td><td>-0.2770340</td><td>-0.1901323</td><td>-0.10959612</td><td>-0.479903608</td><td>⋯</td><td>-0.015925683</td><td>-0.04062541</td><td> 0.04315219</td><td>-0.02329634</td><td>-0.02298920</td><td> 0.03253449</td><td> 0.177102131</td><td> 0.11100223</td><td>-0.02994567</td><td>k11</td></tr>\n",
       "\t<tr><th scope=row>4</th><td>-1.9847781</td><td>-1.6711527</td><td>-1.0857874</td><td>-0.4570102</td><td>0.6403206</td><td>-0.37214375</td><td>-0.9344379</td><td>-0.1916442</td><td> 0.03676072</td><td>-0.004778085</td><td>⋯</td><td> 0.001169425</td><td> 0.03116989</td><td> 0.14784586</td><td> 0.48202979</td><td> 0.01680141</td><td> 0.01807012</td><td> 0.288699222</td><td>-0.15412217</td><td>-0.10906315</td><td>k12</td></tr>\n",
       "</tbody>\n",
       "</table>\n"
      ],
      "text/latex": [
       "A data.frame: 4 × 21\n",
       "\\begin{tabular}{r|lllllllllllllllllllll}\n",
       "  & Factor1 & Factor2 & Factor3 & Factor4 & Factor5 & Factor6 & Factor7 & Factor8 & Factor9 & Factor10 & ⋯ & Factor12 & Factor13 & Factor14 & Factor15 & Factor16 & Factor17 & Factor18 & Factor19 & Factor20 & sample\\_id\\\\\n",
       "  & <dbl> & <dbl> & <dbl> & <dbl> & <dbl> & <dbl> & <dbl> & <dbl> & <dbl> & <dbl> & ⋯ & <dbl> & <dbl> & <dbl> & <dbl> & <dbl> & <dbl> & <dbl> & <dbl> & <dbl> & <chr>\\\\\n",
       "\\hline\n",
       "\t1 &  0.4811325 & -0.2731317 &  1.4988169 & -0.4135678 & 1.5052706 & -0.92308998 & -0.3904185 & -0.1944797 &  0.16486799 & -0.558130047 & ⋯ &  1.371875754 &  0.18829559 & -0.30821631 & -0.47997108 &  0.34688969 &  0.56926106 &  0.416665730 & -0.60204874 & -0.03085489 & k1 \\\\\n",
       "\t2 &  0.8920603 & -0.7547770 &  0.3501023 & -0.1524478 & 0.4074517 & -0.04596939 &  0.6276925 & -1.1656937 & -0.05003504 & -0.338034341 & ⋯ & -0.102028456 &  0.11991185 &  0.20967181 &  0.09246619 &  0.13351102 & -0.04905520 & -0.001722867 &  0.07838055 & -0.03818913 & k10\\\\\n",
       "\t3 & -1.2439808 & -0.9826224 & -0.8230479 & -0.3559941 & 1.0458397 &  0.11800347 & -0.2770340 & -0.1901323 & -0.10959612 & -0.479903608 & ⋯ & -0.015925683 & -0.04062541 &  0.04315219 & -0.02329634 & -0.02298920 &  0.03253449 &  0.177102131 &  0.11100223 & -0.02994567 & k11\\\\\n",
       "\t4 & -1.9847781 & -1.6711527 & -1.0857874 & -0.4570102 & 0.6403206 & -0.37214375 & -0.9344379 & -0.1916442 &  0.03676072 & -0.004778085 & ⋯ &  0.001169425 &  0.03116989 &  0.14784586 &  0.48202979 &  0.01680141 &  0.01807012 &  0.288699222 & -0.15412217 & -0.10906315 & k12\\\\\n",
       "\\end{tabular}\n"
      ],
      "text/markdown": [
       "\n",
       "A data.frame: 4 × 21\n",
       "\n",
       "| <!--/--> | Factor1 &lt;dbl&gt; | Factor2 &lt;dbl&gt; | Factor3 &lt;dbl&gt; | Factor4 &lt;dbl&gt; | Factor5 &lt;dbl&gt; | Factor6 &lt;dbl&gt; | Factor7 &lt;dbl&gt; | Factor8 &lt;dbl&gt; | Factor9 &lt;dbl&gt; | Factor10 &lt;dbl&gt; | ⋯ ⋯ | Factor12 &lt;dbl&gt; | Factor13 &lt;dbl&gt; | Factor14 &lt;dbl&gt; | Factor15 &lt;dbl&gt; | Factor16 &lt;dbl&gt; | Factor17 &lt;dbl&gt; | Factor18 &lt;dbl&gt; | Factor19 &lt;dbl&gt; | Factor20 &lt;dbl&gt; | sample_id &lt;chr&gt; |\n",
       "|---|---|---|---|---|---|---|---|---|---|---|---|---|---|---|---|---|---|---|---|---|---|\n",
       "| 1 |  0.4811325 | -0.2731317 |  1.4988169 | -0.4135678 | 1.5052706 | -0.92308998 | -0.3904185 | -0.1944797 |  0.16486799 | -0.558130047 | ⋯ |  1.371875754 |  0.18829559 | -0.30821631 | -0.47997108 |  0.34688969 |  0.56926106 |  0.416665730 | -0.60204874 | -0.03085489 | k1  |\n",
       "| 2 |  0.8920603 | -0.7547770 |  0.3501023 | -0.1524478 | 0.4074517 | -0.04596939 |  0.6276925 | -1.1656937 | -0.05003504 | -0.338034341 | ⋯ | -0.102028456 |  0.11991185 |  0.20967181 |  0.09246619 |  0.13351102 | -0.04905520 | -0.001722867 |  0.07838055 | -0.03818913 | k10 |\n",
       "| 3 | -1.2439808 | -0.9826224 | -0.8230479 | -0.3559941 | 1.0458397 |  0.11800347 | -0.2770340 | -0.1901323 | -0.10959612 | -0.479903608 | ⋯ | -0.015925683 | -0.04062541 |  0.04315219 | -0.02329634 | -0.02298920 |  0.03253449 |  0.177102131 |  0.11100223 | -0.02994567 | k11 |\n",
       "| 4 | -1.9847781 | -1.6711527 | -1.0857874 | -0.4570102 | 0.6403206 | -0.37214375 | -0.9344379 | -0.1916442 |  0.03676072 | -0.004778085 | ⋯ |  0.001169425 |  0.03116989 |  0.14784586 |  0.48202979 |  0.01680141 |  0.01807012 |  0.288699222 | -0.15412217 | -0.10906315 | k12 |\n",
       "\n"
      ],
      "text/plain": [
       "  Factor1    Factor2    Factor3    Factor4    Factor5   Factor6     Factor7   \n",
       "1  0.4811325 -0.2731317  1.4988169 -0.4135678 1.5052706 -0.92308998 -0.3904185\n",
       "2  0.8920603 -0.7547770  0.3501023 -0.1524478 0.4074517 -0.04596939  0.6276925\n",
       "3 -1.2439808 -0.9826224 -0.8230479 -0.3559941 1.0458397  0.11800347 -0.2770340\n",
       "4 -1.9847781 -1.6711527 -1.0857874 -0.4570102 0.6403206 -0.37214375 -0.9344379\n",
       "  Factor8    Factor9     Factor10     ⋯ Factor12     Factor13    Factor14   \n",
       "1 -0.1944797  0.16486799 -0.558130047 ⋯  1.371875754  0.18829559 -0.30821631\n",
       "2 -1.1656937 -0.05003504 -0.338034341 ⋯ -0.102028456  0.11991185  0.20967181\n",
       "3 -0.1901323 -0.10959612 -0.479903608 ⋯ -0.015925683 -0.04062541  0.04315219\n",
       "4 -0.1916442  0.03676072 -0.004778085 ⋯  0.001169425  0.03116989  0.14784586\n",
       "  Factor15    Factor16    Factor17    Factor18     Factor19    Factor20   \n",
       "1 -0.47997108  0.34688969  0.56926106  0.416665730 -0.60204874 -0.03085489\n",
       "2  0.09246619  0.13351102 -0.04905520 -0.001722867  0.07838055 -0.03818913\n",
       "3 -0.02329634 -0.02298920  0.03253449  0.177102131  0.11100223 -0.02994567\n",
       "4  0.48202979  0.01680141  0.01807012  0.288699222 -0.15412217 -0.10906315\n",
       "  sample_id\n",
       "1 k1       \n",
       "2 k10      \n",
       "3 k11      \n",
       "4 k12      "
      ]
     },
     "metadata": {},
     "output_type": "display_data"
    }
   ],
   "source": [
    "head(factor_data,4)"
   ]
  },
  {
   "cell_type": "markdown",
   "id": "2e37f9bb-51ac-482f-b3b7-761b9411fd13",
   "metadata": {},
   "source": [
    "## Normalized Gene Expression Data"
   ]
  },
  {
   "cell_type": "code",
   "execution_count": 28,
   "id": "7b996b04-8e1e-4a6c-8aef-dad510291955",
   "metadata": {},
   "outputs": [
    {
     "name": "stdout",
     "output_type": "stream",
     "text": [
      "[1] \"2023-01-18 14:51:49 CET\"\n"
     ]
    }
   ],
   "source": [
    "path = paste0(result_path, '/E-Analysis/Combined_Data_',str_replace(version, '_FALSE', ''),'.csv')\n",
    "data_long = read.csv(path)\n",
    "print(file.info(path)$mtime)"
   ]
  },
  {
   "cell_type": "code",
   "execution_count": 30,
   "id": "d0d1e32d-c491-4736-ad77-62e92a2fa8d8",
   "metadata": {},
   "outputs": [],
   "source": [
    "data_long$X = NULL"
   ]
  },
  {
   "cell_type": "markdown",
   "id": "06293c8c-9ba0-4def-ad81-0e02774ed7d6",
   "metadata": {},
   "source": [
    "# Prepare data"
   ]
  },
  {
   "cell_type": "code",
   "execution_count": 34,
   "id": "06bcc4d1-5a61-4bbf-938c-6089f733af81",
   "metadata": {},
   "outputs": [],
   "source": [
    "### Merge the potential different features for prediction"
   ]
  },
  {
   "cell_type": "code",
   "execution_count": 35,
   "id": "966c0311-560a-4a4a-83d5-9e240ef6eeec",
   "metadata": {},
   "outputs": [],
   "source": [
    "## Add factor data"
   ]
  },
  {
   "cell_type": "code",
   "execution_count": 36,
   "id": "d995e178-166b-4cac-ab49-0bc2d02aa6c8",
   "metadata": {},
   "outputs": [],
   "source": [
    "data = merge(factor_data, unique(sample_data[,c('sample_id', 'classification', 'measurement', 'delta_ef_value_class', 'delta_ef_value_class_summarized', 'tp_outcome', 'CK', 'CK_MB', 'Troponin', 'CRP')]), by.x = 'sample_id', by.y = 'sample_id')"
   ]
  },
  {
   "cell_type": "code",
   "execution_count": 38,
   "id": "73d60441-9e22-4008-b5cd-c31a653ea28d",
   "metadata": {},
   "outputs": [],
   "source": [
    "## Add normalized gene expression values of selected features"
   ]
  },
  {
   "cell_type": "code",
   "execution_count": 39,
   "id": "2523b72b-140a-420a-bd6d-fbb427f02b84",
   "metadata": {},
   "outputs": [
    {
     "data": {
      "text/html": [
       "<style>\n",
       ".list-inline {list-style: none; margin:0; padding: 0}\n",
       ".list-inline>li {display: inline-block}\n",
       ".list-inline>li:not(:last-child)::after {content: \"\\00b7\"; padding: 0 .5ex}\n",
       "</style>\n",
       "<ol class=list-inline><li>'X0_T.cell.CD4__CD53'</li><li>'X1_T.cell.CD8__CD53'</li><li>'X10_B.cell__CD53'</li><li>'X11_T.cell.CD4__CD53'</li><li>'X12_Monocytes...CD16_FCGR3A__CD53'</li><li>'X3_NK__CD53'</li><li>'X4_Monocytes...CD14__CD53'</li><li>'X6_Monocytes...CD14__CD53'</li><li>'X7_Monocytes...CD14__CD53'</li><li>'X8_B.cell__CD53'</li><li>'X9_Monocytes...CD16_FCGR3A__CD53'</li></ol>\n"
      ],
      "text/latex": [
       "\\begin{enumerate*}\n",
       "\\item 'X0\\_T.cell.CD4\\_\\_CD53'\n",
       "\\item 'X1\\_T.cell.CD8\\_\\_CD53'\n",
       "\\item 'X10\\_B.cell\\_\\_CD53'\n",
       "\\item 'X11\\_T.cell.CD4\\_\\_CD53'\n",
       "\\item 'X12\\_Monocytes...CD16\\_FCGR3A\\_\\_CD53'\n",
       "\\item 'X3\\_NK\\_\\_CD53'\n",
       "\\item 'X4\\_Monocytes...CD14\\_\\_CD53'\n",
       "\\item 'X6\\_Monocytes...CD14\\_\\_CD53'\n",
       "\\item 'X7\\_Monocytes...CD14\\_\\_CD53'\n",
       "\\item 'X8\\_B.cell\\_\\_CD53'\n",
       "\\item 'X9\\_Monocytes...CD16\\_FCGR3A\\_\\_CD53'\n",
       "\\end{enumerate*}\n"
      ],
      "text/markdown": [
       "1. 'X0_T.cell.CD4__CD53'\n",
       "2. 'X1_T.cell.CD8__CD53'\n",
       "3. 'X10_B.cell__CD53'\n",
       "4. 'X11_T.cell.CD4__CD53'\n",
       "5. 'X12_Monocytes...CD16_FCGR3A__CD53'\n",
       "6. 'X3_NK__CD53'\n",
       "7. 'X4_Monocytes...CD14__CD53'\n",
       "8. 'X6_Monocytes...CD14__CD53'\n",
       "9. 'X7_Monocytes...CD14__CD53'\n",
       "10. 'X8_B.cell__CD53'\n",
       "11. 'X9_Monocytes...CD16_FCGR3A__CD53'\n",
       "\n",
       "\n"
      ],
      "text/plain": [
       " [1] \"X0_T.cell.CD4__CD53\"               \"X1_T.cell.CD8__CD53\"              \n",
       " [3] \"X10_B.cell__CD53\"                  \"X11_T.cell.CD4__CD53\"             \n",
       " [5] \"X12_Monocytes...CD16_FCGR3A__CD53\" \"X3_NK__CD53\"                      \n",
       " [7] \"X4_Monocytes...CD14__CD53\"         \"X6_Monocytes...CD14__CD53\"        \n",
       " [9] \"X7_Monocytes...CD14__CD53\"         \"X8_B.cell__CD53\"                  \n",
       "[11] \"X9_Monocytes...CD16_FCGR3A__CD53\" "
      ]
     },
     "metadata": {},
     "output_type": "display_data"
    }
   ],
   "source": [
    "unique(data_long$variable[!is.na(str_extract(data_long$variable, 'CD53'))])"
   ]
  },
  {
   "cell_type": "code",
   "execution_count": 40,
   "id": "e4128df2-3193-4dc2-af78-8b04476c7f39",
   "metadata": {},
   "outputs": [],
   "source": [
    "features = c('CK', 'CK_MB', 'Troponin', 'CRP', 'X3_NK__TXNIP','X3_NK__PRF1', 'X3_NK__LITAF' , 'X3_NK__GZMB', 'X3_NK__FYN', 'X3_NK__CST7', 'X3_NK__CD53')"
   ]
  },
  {
   "cell_type": "code",
   "execution_count": 41,
   "id": "fb85de3b-21d0-4e9a-887a-3bd0bd6808da",
   "metadata": {},
   "outputs": [],
   "source": [
    "gene_expression_data = data_long[data_long$variable %in% features,]"
   ]
  },
  {
   "cell_type": "code",
   "execution_count": 42,
   "id": "34e37b6d-266e-4912-ae1b-d41e119effcf",
   "metadata": {},
   "outputs": [],
   "source": [
    "gene_expression_data = gene_expression_data %>% dcast(sample_id ~ variable, value.var = 'value')"
   ]
  },
  {
   "cell_type": "code",
   "execution_count": 43,
   "id": "8db08f31-109b-459c-9cdd-9be0f3ad7e09",
   "metadata": {},
   "outputs": [],
   "source": [
    "colnames(gene_expression_data) = paste0('Normalized_', colnames(gene_expression_data))"
   ]
  },
  {
   "cell_type": "code",
   "execution_count": 45,
   "id": "129e695a-22c2-40bd-b674-61d670b3e0be",
   "metadata": {},
   "outputs": [
    {
     "data": {
      "text/html": [
       "128"
      ],
      "text/latex": [
       "128"
      ],
      "text/markdown": [
       "128"
      ],
      "text/plain": [
       "[1] 128"
      ]
     },
     "metadata": {},
     "output_type": "display_data"
    }
   ],
   "source": [
    "nrow(data)"
   ]
  },
  {
   "cell_type": "code",
   "execution_count": 46,
   "id": "126ffba7-a135-4f5c-a7a1-a469272469cb",
   "metadata": {},
   "outputs": [],
   "source": [
    "data = merge(data, gene_expression_data, by.x = 'sample_id', by.y = 'Normalized_sample_id')"
   ]
  },
  {
   "cell_type": "code",
   "execution_count": 47,
   "id": "ec6d0f67-27dc-429a-86f6-7f7c4300ff46",
   "metadata": {},
   "outputs": [
    {
     "data": {
      "text/html": [
       "128"
      ],
      "text/latex": [
       "128"
      ],
      "text/markdown": [
       "128"
      ],
      "text/plain": [
       "[1] 128"
      ]
     },
     "metadata": {},
     "output_type": "display_data"
    }
   ],
   "source": [
    "nrow(data)"
   ]
  },
  {
   "cell_type": "code",
   "execution_count": 48,
   "id": "b458b9fc-d633-40ff-8767-4700255f882f",
   "metadata": {},
   "outputs": [],
   "source": [
    "### Add score values for ccs vs. no_ccs differentiation"
   ]
  },
  {
   "cell_type": "code",
   "execution_count": 49,
   "id": "3619a094-bd6a-4110-a00d-67b04e66775c",
   "metadata": {},
   "outputs": [],
   "source": [
    "data = merge(data, ccs_scores, all.x = TRUE)"
   ]
  },
  {
   "cell_type": "code",
   "execution_count": 50,
   "id": "f05c5d22-d3e9-4b9d-be13-7aeb5a9dde8b",
   "metadata": {},
   "outputs": [
    {
     "data": {
      "text/html": [
       "128"
      ],
      "text/latex": [
       "128"
      ],
      "text/markdown": [
       "128"
      ],
      "text/plain": [
       "[1] 128"
      ]
     },
     "metadata": {},
     "output_type": "display_data"
    }
   ],
   "source": [
    "nrow(data)"
   ]
  },
  {
   "cell_type": "markdown",
   "id": "c90e7f63-02b3-4dc2-9ffc-0e87d6012443",
   "metadata": {},
   "source": [
    "# Prediction Factor 4 TP1"
   ]
  },
  {
   "cell_type": "code",
   "execution_count": 52,
   "id": "d52e67dc-e993-4f6d-9615-1174bbaaf931",
   "metadata": {},
   "outputs": [
    {
     "name": "stderr",
     "output_type": "stream",
     "text": [
      "Warning message in eval(expr, envir, enclos):\n",
      "“NAs introduced by coercion”\n"
     ]
    }
   ],
   "source": [
    "data$CK = as.numeric(data$CK)\n",
    "data$Troponin = as.numeric(data$Troponin)\n",
    "data$CRP = as.numeric(data$CRP)"
   ]
  },
  {
   "cell_type": "code",
   "execution_count": 53,
   "id": "a2ccfb93-c8b0-4f24-990b-4d0beb270927",
   "metadata": {},
   "outputs": [],
   "source": [
    "prediction_vars = c( 'Factor4',  'Normalized_CK', 'Normalized_CRP', 'Normalized_Troponin')"
   ]
  },
  {
   "cell_type": "code",
   "execution_count": 54,
   "id": "43716163-c725-4958-919c-33f27f120c45",
   "metadata": {},
   "outputs": [],
   "source": [
    "prediction_group = 'tp_outcome'\n",
    "prediction_subset = c('TP1_good', 'TP1_bad')"
   ]
  },
  {
   "cell_type": "code",
   "execution_count": 55,
   "id": "c7f18224-3d4c-4450-8089-b03eac38df00",
   "metadata": {},
   "outputs": [],
   "source": [
    "prediction_data = data[,c(prediction_vars, prediction_group)]\n",
    "prediction_data$y = prediction_data[,prediction_group]\n",
    "prediction_data = prediction_data[prediction_data$y %in% prediction_subset,]\n",
    "\n",
    "prediction_data$y[prediction_data$y == prediction_subset[2]] = 1  # predict BAD outcome \n",
    "prediction_data$y[prediction_data$y == prediction_subset[1]] = 0  # good outcome as control"
   ]
  },
  {
   "cell_type": "code",
   "execution_count": 56,
   "id": "3d5ea718-8af7-49f6-8265-ad1df26895d9",
   "metadata": {},
   "outputs": [
    {
     "name": "stderr",
     "output_type": "stream",
     "text": [
      "\u001b[1m\u001b[22m`summarise()` has grouped output by 'tp_outcome'. You can override using the\n",
      "`.groups` argument.\n"
     ]
    },
    {
     "data": {
      "text/html": [
       "<table class=\"dataframe\">\n",
       "<caption>A grouped_df: 2 × 6</caption>\n",
       "<thead>\n",
       "\t<tr><th scope=col>tp_outcome</th><th scope=col>y</th><th scope=col>Factor4</th><th scope=col>Normalized_CK</th><th scope=col>Normalized_CRP</th><th scope=col>Normalized_Troponin</th></tr>\n",
       "\t<tr><th scope=col>&lt;chr&gt;</th><th scope=col>&lt;chr&gt;</th><th scope=col>&lt;dbl&gt;</th><th scope=col>&lt;dbl&gt;</th><th scope=col>&lt;dbl&gt;</th><th scope=col>&lt;dbl&gt;</th></tr>\n",
       "</thead>\n",
       "<tbody>\n",
       "\t<tr><td>TP1_bad </td><td>1</td><td>-1.1259212</td><td>0.9443535</td><td>-0.6691209</td><td>0.7195349</td></tr>\n",
       "\t<tr><td>TP1_good</td><td>0</td><td>-0.6298132</td><td>0.6861117</td><td>-0.6469700</td><td>0.2787430</td></tr>\n",
       "</tbody>\n",
       "</table>\n"
      ],
      "text/latex": [
       "A grouped\\_df: 2 × 6\n",
       "\\begin{tabular}{llllll}\n",
       " tp\\_outcome & y & Factor4 & Normalized\\_CK & Normalized\\_CRP & Normalized\\_Troponin\\\\\n",
       " <chr> & <chr> & <dbl> & <dbl> & <dbl> & <dbl>\\\\\n",
       "\\hline\n",
       "\t TP1\\_bad  & 1 & -1.1259212 & 0.9443535 & -0.6691209 & 0.7195349\\\\\n",
       "\t TP1\\_good & 0 & -0.6298132 & 0.6861117 & -0.6469700 & 0.2787430\\\\\n",
       "\\end{tabular}\n"
      ],
      "text/markdown": [
       "\n",
       "A grouped_df: 2 × 6\n",
       "\n",
       "| tp_outcome &lt;chr&gt; | y &lt;chr&gt; | Factor4 &lt;dbl&gt; | Normalized_CK &lt;dbl&gt; | Normalized_CRP &lt;dbl&gt; | Normalized_Troponin &lt;dbl&gt; |\n",
       "|---|---|---|---|---|---|\n",
       "| TP1_bad  | 1 | -1.1259212 | 0.9443535 | -0.6691209 | 0.7195349 |\n",
       "| TP1_good | 0 | -0.6298132 | 0.6861117 | -0.6469700 | 0.2787430 |\n",
       "\n"
      ],
      "text/plain": [
       "  tp_outcome y Factor4    Normalized_CK Normalized_CRP Normalized_Troponin\n",
       "1 TP1_bad    1 -1.1259212 0.9443535     -0.6691209     0.7195349          \n",
       "2 TP1_good   0 -0.6298132 0.6861117     -0.6469700     0.2787430          "
      ]
     },
     "metadata": {},
     "output_type": "display_data"
    }
   ],
   "source": [
    "## Check in which direction to adjust\n",
    "prediction_data %>% group_by(tp_outcome,y) %>% summarise(across(everything(), mean, na.rm =TRUE))\n",
    "\n",
    "# predict bad --> higher values for bad"
   ]
  },
  {
   "cell_type": "code",
   "execution_count": 57,
   "id": "67e70c47-f92d-4cd5-a748-ed6937f77d98",
   "metadata": {},
   "outputs": [
    {
     "data": {
      "text/html": [
       "<table class=\"dataframe\">\n",
       "<caption>A grouped_df: 2 × 2</caption>\n",
       "<thead>\n",
       "\t<tr><th scope=col>tp_outcome</th><th scope=col>n</th></tr>\n",
       "\t<tr><th scope=col>&lt;chr&gt;</th><th scope=col>&lt;int&gt;</th></tr>\n",
       "</thead>\n",
       "<tbody>\n",
       "\t<tr><td>TP1_bad </td><td> 6</td></tr>\n",
       "\t<tr><td>TP1_good</td><td>13</td></tr>\n",
       "</tbody>\n",
       "</table>\n"
      ],
      "text/latex": [
       "A grouped\\_df: 2 × 2\n",
       "\\begin{tabular}{ll}\n",
       " tp\\_outcome & n\\\\\n",
       " <chr> & <int>\\\\\n",
       "\\hline\n",
       "\t TP1\\_bad  &  6\\\\\n",
       "\t TP1\\_good & 13\\\\\n",
       "\\end{tabular}\n"
      ],
      "text/markdown": [
       "\n",
       "A grouped_df: 2 × 2\n",
       "\n",
       "| tp_outcome &lt;chr&gt; | n &lt;int&gt; |\n",
       "|---|---|\n",
       "| TP1_bad  |  6 |\n",
       "| TP1_good | 13 |\n",
       "\n"
      ],
      "text/plain": [
       "  tp_outcome n \n",
       "1 TP1_bad     6\n",
       "2 TP1_good   13"
      ]
     },
     "metadata": {},
     "output_type": "display_data"
    }
   ],
   "source": [
    "prediction_data %>% group_by(tp_outcome) %>% count()"
   ]
  },
  {
   "cell_type": "code",
   "execution_count": 58,
   "id": "4703e689-285d-4adc-be52-83bd25b06205",
   "metadata": {},
   "outputs": [],
   "source": [
    "# Adjust sign of Factor values\n",
    "prediction_data$Factor4 = -1*prediction_data$Factor4\n",
    "prediction_data$Normalized_CRP = -1* prediction_data$Normalized_CRP"
   ]
  },
  {
   "cell_type": "code",
   "execution_count": null,
   "id": "c9c1ebca-d6a2-4e81-916e-942d22875148",
   "metadata": {},
   "outputs": [],
   "source": []
  },
  {
   "cell_type": "code",
   "execution_count": 59,
   "id": "4042b47c-9304-45b9-a3ea-461af0063cd7",
   "metadata": {},
   "outputs": [],
   "source": [
    "# Transform and scale scores of prediction variables (to be between 0 and 1)"
   ]
  },
  {
   "cell_type": "code",
   "execution_count": 60,
   "id": "1cc6fa24-e12b-4ea2-afb5-dd4bc316781b",
   "metadata": {},
   "outputs": [],
   "source": [
    "prediction_data = cbind( prediction_data[,c('y', prediction_group)],\n",
    "      apply(prediction_data[,prediction_vars], MARGIN = 2, FUN = function(x){\n",
    "    (x - min(x, na.rm = TRUE)) / (max(x, na.rm = TRUE) - min(x, na.rm = TRUE))}))"
   ]
  },
  {
   "cell_type": "code",
   "execution_count": 68,
   "id": "ec5eefe8-3cfd-4f57-b2e7-6b866fae23ff",
   "metadata": {},
   "outputs": [],
   "source": [
    "## Alternative use GGPLOT IMPL"
   ]
  },
  {
   "cell_type": "code",
   "execution_count": 69,
   "id": "b9970f53-e916-4c2b-97a2-5957fa3a3d29",
   "metadata": {},
   "outputs": [
    {
     "name": "stderr",
     "output_type": "stream",
     "text": [
      "Using y, tp_outcome as id variables\n",
      "\n"
     ]
    }
   ],
   "source": [
    "prediction_data_long = melt(prediction_data)"
   ]
  },
  {
   "cell_type": "code",
   "execution_count": 70,
   "id": "06bb2169-d37a-47f5-acd4-3909865fd8f1",
   "metadata": {},
   "outputs": [],
   "source": [
    "prediction_data_long = prediction_data_long[!is.na(prediction_data_long$value),]"
   ]
  },
  {
   "cell_type": "code",
   "execution_count": 71,
   "id": "61d97638-3330-4944-bc39-5b2344d9e7f3",
   "metadata": {},
   "outputs": [],
   "source": [
    "amount_samples = prediction_data_long %>% group_by(variable) %>% count()"
   ]
  },
  {
   "cell_type": "code",
   "execution_count": 72,
   "id": "cad5c5ef-b840-43f5-b92c-29c5905068e1",
   "metadata": {},
   "outputs": [],
   "source": [
    "prediction_data_long = merge(prediction_data_long, amount_samples)"
   ]
  },
  {
   "cell_type": "code",
   "execution_count": 73,
   "id": "458ec0ab-5e7d-4355-90ca-dff4464521bd",
   "metadata": {},
   "outputs": [],
   "source": [
    "prediction_data_long$variable_w_n = paste0(prediction_data_long$variable, ' (n=', prediction_data_long$n, ')')"
   ]
  },
  {
   "cell_type": "code",
   "execution_count": 74,
   "id": "21da05ce-2d4f-4df8-a605-4fa9090ce4d0",
   "metadata": {},
   "outputs": [
    {
     "data": {
      "text/html": [
       "<table class=\"dataframe\">\n",
       "<caption>A data.frame: 2 × 6</caption>\n",
       "<thead>\n",
       "\t<tr><th></th><th scope=col>variable</th><th scope=col>y</th><th scope=col>tp_outcome</th><th scope=col>value</th><th scope=col>n</th><th scope=col>variable_w_n</th></tr>\n",
       "\t<tr><th></th><th scope=col>&lt;fct&gt;</th><th scope=col>&lt;chr&gt;</th><th scope=col>&lt;chr&gt;</th><th scope=col>&lt;dbl&gt;</th><th scope=col>&lt;int&gt;</th><th scope=col>&lt;chr&gt;</th></tr>\n",
       "</thead>\n",
       "<tbody>\n",
       "\t<tr><th scope=row>1</th><td>Factor4</td><td>1</td><td>TP1_bad</td><td>0.4734997</td><td>19</td><td>Factor4 (n=19)</td></tr>\n",
       "\t<tr><th scope=row>2</th><td>Factor4</td><td>1</td><td>TP1_bad</td><td>0.8558891</td><td>19</td><td>Factor4 (n=19)</td></tr>\n",
       "</tbody>\n",
       "</table>\n"
      ],
      "text/latex": [
       "A data.frame: 2 × 6\n",
       "\\begin{tabular}{r|llllll}\n",
       "  & variable & y & tp\\_outcome & value & n & variable\\_w\\_n\\\\\n",
       "  & <fct> & <chr> & <chr> & <dbl> & <int> & <chr>\\\\\n",
       "\\hline\n",
       "\t1 & Factor4 & 1 & TP1\\_bad & 0.4734997 & 19 & Factor4 (n=19)\\\\\n",
       "\t2 & Factor4 & 1 & TP1\\_bad & 0.8558891 & 19 & Factor4 (n=19)\\\\\n",
       "\\end{tabular}\n"
      ],
      "text/markdown": [
       "\n",
       "A data.frame: 2 × 6\n",
       "\n",
       "| <!--/--> | variable &lt;fct&gt; | y &lt;chr&gt; | tp_outcome &lt;chr&gt; | value &lt;dbl&gt; | n &lt;int&gt; | variable_w_n &lt;chr&gt; |\n",
       "|---|---|---|---|---|---|---|\n",
       "| 1 | Factor4 | 1 | TP1_bad | 0.4734997 | 19 | Factor4 (n=19) |\n",
       "| 2 | Factor4 | 1 | TP1_bad | 0.8558891 | 19 | Factor4 (n=19) |\n",
       "\n"
      ],
      "text/plain": [
       "  variable y tp_outcome value     n  variable_w_n  \n",
       "1 Factor4  1 TP1_bad    0.4734997 19 Factor4 (n=19)\n",
       "2 Factor4  1 TP1_bad    0.8558891 19 Factor4 (n=19)"
      ]
     },
     "metadata": {},
     "output_type": "display_data"
    }
   ],
   "source": [
    "head(prediction_data_long,2)"
   ]
  },
  {
   "cell_type": "code",
   "execution_count": null,
   "id": "2ee87160-0998-4f1a-a870-5ed8ebad3ff6",
   "metadata": {},
   "outputs": [],
   "source": []
  },
  {
   "cell_type": "code",
   "execution_count": 75,
   "id": "d75ffee1-2789-4d74-a95e-02e978b5b51b",
   "metadata": {},
   "outputs": [],
   "source": [
    "# Figure Name\n",
    "figure_name = 'FIG10_E9_ROC_Factor4_TP1'"
   ]
  },
  {
   "cell_type": "code",
   "execution_count": 76,
   "id": "924692d8-eea9-4b7e-a974-9c913f7e23a1",
   "metadata": {},
   "outputs": [],
   "source": [
    "# Sizes of the plot\n",
    "width_par = 2\n",
    "height_par = 2"
   ]
  },
  {
   "cell_type": "code",
   "execution_count": 77,
   "id": "4209cf97-4bc3-4060-b1cf-224cf31c70c8",
   "metadata": {},
   "outputs": [],
   "source": [
    "xtitle = xlab( 'False Positive Fraction')\n",
    "ytitle  = ylab('Sensititity')"
   ]
  },
  {
   "cell_type": "code",
   "execution_count": 78,
   "id": "94a1235c-7926-4b58-bfb1-590d4afc9465",
   "metadata": {},
   "outputs": [],
   "source": [
    "auc_values = data.frame()"
   ]
  },
  {
   "cell_type": "code",
   "execution_count": 79,
   "id": "bf225008-75de-4c2d-add7-2ed2ae94b090",
   "metadata": {},
   "outputs": [
    {
     "name": "stderr",
     "output_type": "stream",
     "text": [
      "Setting levels: control = 0, case = 1\n",
      "\n",
      "Setting direction: controls < cases\n",
      "\n",
      "Setting levels: control = 0, case = 1\n",
      "\n",
      "Setting direction: controls < cases\n",
      "\n",
      "Setting levels: control = 0, case = 1\n",
      "\n",
      "Setting direction: controls < cases\n",
      "\n",
      "Setting levels: control = 0, case = 1\n",
      "\n",
      "Setting direction: controls < cases\n",
      "\n"
     ]
    }
   ],
   "source": [
    "for(i in unique(prediction_data_long$variable)){\n",
    "    calc_auc = data.frame(variable = i, \n",
    "                          auc = auc(prediction_data_long$y[prediction_data_long$variable == i], prediction_data_long$value[prediction_data_long$variable == i])\n",
    "                          )\n",
    "    auc_values = rbind(auc_values, calc_auc)\n",
    "    }"
   ]
  },
  {
   "cell_type": "code",
   "execution_count": 80,
   "id": "24180bbb-d8b2-4b04-80ed-bc0cdf9e5c2d",
   "metadata": {},
   "outputs": [
    {
     "data": {
      "text/html": [
       "<table class=\"dataframe\">\n",
       "<caption>A data.frame: 4 × 2</caption>\n",
       "<thead>\n",
       "\t<tr><th scope=col>variable</th><th scope=col>auc</th></tr>\n",
       "\t<tr><th scope=col>&lt;chr&gt;</th><th scope=col>&lt;auc&gt;</th></tr>\n",
       "</thead>\n",
       "<tbody>\n",
       "\t<tr><td>Factor4            </td><td>0.8333333</td></tr>\n",
       "\t<tr><td>Normalized_CK      </td><td>0.6025641</td></tr>\n",
       "\t<tr><td>Normalized_CRP     </td><td>0.5181818</td></tr>\n",
       "\t<tr><td>Normalized_Troponin</td><td>0.6666667</td></tr>\n",
       "</tbody>\n",
       "</table>\n"
      ],
      "text/latex": [
       "A data.frame: 4 × 2\n",
       "\\begin{tabular}{ll}\n",
       " variable & auc\\\\\n",
       " <chr> & <auc>\\\\\n",
       "\\hline\n",
       "\t Factor4             & 0.8333333\\\\\n",
       "\t Normalized\\_CK       & 0.6025641\\\\\n",
       "\t Normalized\\_CRP      & 0.5181818\\\\\n",
       "\t Normalized\\_Troponin & 0.6666667\\\\\n",
       "\\end{tabular}\n"
      ],
      "text/markdown": [
       "\n",
       "A data.frame: 4 × 2\n",
       "\n",
       "| variable &lt;chr&gt; | auc &lt;auc&gt; |\n",
       "|---|---|\n",
       "| Factor4             | 0.8333333 |\n",
       "| Normalized_CK       | 0.6025641 |\n",
       "| Normalized_CRP      | 0.5181818 |\n",
       "| Normalized_Troponin | 0.6666667 |\n",
       "\n"
      ],
      "text/plain": [
       "  variable            auc      \n",
       "1 Factor4             0.8333333\n",
       "2 Normalized_CK       0.6025641\n",
       "3 Normalized_CRP      0.5181818\n",
       "4 Normalized_Troponin 0.6666667"
      ]
     },
     "metadata": {},
     "output_type": "display_data"
    }
   ],
   "source": [
    "auc_values"
   ]
  },
  {
   "cell_type": "code",
   "execution_count": 81,
   "id": "88187e97-6757-40d6-9c97-d377a19bed87",
   "metadata": {},
   "outputs": [],
   "source": [
    "### Save AUC values"
   ]
  },
  {
   "cell_type": "code",
   "execution_count": 82,
   "id": "43808885-8cbd-49eb-b625-f751714ce66d",
   "metadata": {},
   "outputs": [],
   "source": [
    "write.csv(auc_values, paste0(result_path,'/Supplementary/SUPP_E9_Factor4_ROC_Plot_AUC_values.csv'), row.names = FALSE)"
   ]
  },
  {
   "cell_type": "code",
   "execution_count": 83,
   "id": "f8835d11-d76c-4af0-90ba-3240d26b4ff5",
   "metadata": {},
   "outputs": [
    {
     "name": "stderr",
     "output_type": "stream",
     "text": [
      "Setting levels: control = 0, case = 1\n",
      "\n",
      "Setting direction: controls < cases\n",
      "\n"
     ]
    },
    {
     "data": {
      "text/html": [
       "0.833333333333333"
      ],
      "text/latex": [
       "0.833333333333333"
      ],
      "text/markdown": [
       "0.833333333333333"
      ],
      "text/plain": [
       "Area under the curve: 0.8333"
      ]
     },
     "metadata": {},
     "output_type": "display_data"
    }
   ],
   "source": [
    "auc(prediction_data_long$y[prediction_data_long$variable == 'Factor4'], prediction_data_long$value[prediction_data_long$variable == 'Factor4'])"
   ]
  },
  {
   "cell_type": "code",
   "execution_count": 84,
   "id": "f92d5f66-5b02-4802-b9e0-9f5621009bc3",
   "metadata": {},
   "outputs": [],
   "source": [
    "## Specify Plot\n",
    "rocplot = ggplot(prediction_data_long, aes(m = value, d = as.numeric(y), color = variable_w_n, linetype= variable_w_n))+ geom_roc(n.cuts=0,labels=FALSE, size = 0.5)"
   ]
  },
  {
   "cell_type": "code",
   "execution_count": 85,
   "id": "7aa79c33-043e-45d4-937b-bd0cc59dd103",
   "metadata": {},
   "outputs": [
    {
     "data": {
      "text/html": [
       "<style>\n",
       ".list-inline {list-style: none; margin:0; padding: 0}\n",
       ".list-inline>li {display: inline-block}\n",
       ".list-inline>li:not(:last-child)::after {content: \"\\00b7\"; padding: 0 .5ex}\n",
       "</style>\n",
       "<ol class=list-inline><li>'Factor4 (n=19)'</li><li>'Normalized_CK (n=19)'</li><li>'Normalized_CRP (n=16)'</li><li>'Normalized_Troponin (n=19)'</li></ol>\n"
      ],
      "text/latex": [
       "\\begin{enumerate*}\n",
       "\\item 'Factor4 (n=19)'\n",
       "\\item 'Normalized\\_CK (n=19)'\n",
       "\\item 'Normalized\\_CRP (n=16)'\n",
       "\\item 'Normalized\\_Troponin (n=19)'\n",
       "\\end{enumerate*}\n"
      ],
      "text/markdown": [
       "1. 'Factor4 (n=19)'\n",
       "2. 'Normalized_CK (n=19)'\n",
       "3. 'Normalized_CRP (n=16)'\n",
       "4. 'Normalized_Troponin (n=19)'\n",
       "\n",
       "\n"
      ],
      "text/plain": [
       "[1] \"Factor4 (n=19)\"             \"Normalized_CK (n=19)\"      \n",
       "[3] \"Normalized_CRP (n=16)\"      \"Normalized_Troponin (n=19)\""
      ]
     },
     "metadata": {},
     "output_type": "display_data"
    }
   ],
   "source": [
    "unique(prediction_data_long$variable_w_n)"
   ]
  },
  {
   "cell_type": "code",
   "execution_count": 86,
   "id": "ec30c88b-f809-4f22-bf27-1b7727226371",
   "metadata": {},
   "outputs": [
    {
     "data": {
      "image/png": "[encoded data removed]",
      "text/plain": [
       "plot without title"
      ]
     },
     "metadata": {
      "image/png": {
       "height": 420,
       "width": 420
      }
     },
     "output_type": "display_data"
    }
   ],
   "source": [
    "## Configuration + Modification of plot\n",
    "roc_plot = rocplot + \n",
    "    plot_config + \n",
    "    xtitle + \n",
    "    ytitle + \n",
    "    ggtitle('ROC curve TP1 good vs. bad') +\n",
    "    geom_abline(slope = 1, intercept = 0) +     \n",
    "    scale_color_manual(values = c('Factor1 (n=21)' = \"#BC0B58\",\n",
    "                                  'Factor4 (n=19)' = \"#BC0B58\",\n",
    "                                  'Normalized_CK (n=19)' = \"#087C6D\",\n",
    "                                  'Normalized_CRP (n=16)'=\"#11C1A9\",\n",
    "                                  'Normalized_Troponin (n=19)'=\"#3F5E5A\"\n",
    "                                 ))+\n",
    "   scale_linetype_manual(values = c('Factor1 (n=21)' = \"dashed\",\n",
    "                                    'Factor4 (n=19)' = \"solid\",\n",
    "                                  'Normalized_CK (n=19)' = \"solid\",\n",
    "                                  'Normalized_CRP (n=16)'=\"solid\",\n",
    "                                  'Normalized_Troponin (n=19)'=\"solid\"\n",
    "                                 ))+\n",
    "    theme(legend.position = 'none')\n",
    "\n",
    "#legend_roc = get_legend(roc_plot)\n",
    "    \n",
    "\n",
    "roc_plot"
   ]
  },
  {
   "cell_type": "code",
   "execution_count": 87,
   "id": "12cd44b1-5a87-4bbf-bdcf-9f5fa8b23686",
   "metadata": {},
   "outputs": [
    {
     "data": {
      "text/html": [
       "<strong>png:</strong> 2"
      ],
      "text/latex": [
       "\\textbf{png:} 2"
      ],
      "text/markdown": [
       "**png:** 2"
      ],
      "text/plain": [
       "png \n",
       "  2 "
      ]
     },
     "metadata": {},
     "output_type": "display_data"
    }
   ],
   "source": [
    "pdf(paste0('figures/Final_Figures/', figure_name, version, '.pdf'), width =width_par, height =height_par)\n",
    "print(roc_plot)\n",
    "dev.off()"
   ]
  },
  {
   "cell_type": "code",
   "execution_count": 88,
   "id": "f0888065-b3b1-4454-b61a-1cfa2fd291b7",
   "metadata": {},
   "outputs": [],
   "source": [
    "color_data = data.frame(description = c('Factor4 (n=19)', 'Normalized_CK (n=19)',  'Normalized_CRP (n=16)',  'Normalized_Troponin (n=19)'),\n",
    "                        color = c( \"#BC0B58\",\"#087C6D\",\"#11C1A9\",\"#3F5E5A\"))"
   ]
  },
  {
   "cell_type": "code",
   "execution_count": 89,
   "id": "120be821-5768-4f3b-8afe-c303404d5e87",
   "metadata": {},
   "outputs": [],
   "source": [
    "# Test calculation of ROC values\n",
    "\n",
    "# prediction_data[!is.na(prediction_data$Normalized_CRP ),]"
   ]
  },
  {
   "cell_type": "code",
   "execution_count": 90,
   "id": "f4414511-7b57-4293-a443-92f5f9174438",
   "metadata": {},
   "outputs": [],
   "source": [
    "### Seperately define legend"
   ]
  },
  {
   "cell_type": "code",
   "execution_count": 91,
   "id": "7c7c677a-08fd-44df-b558-a5c7f95a68b7",
   "metadata": {},
   "outputs": [],
   "source": [
    "legend_add  = Legend(labels = unique(color_data$description), labels_gp = gpar(fontsize = 8),legend_gp =list(col = unique(c(unique(color_data$color)))), \n",
    "    nrow = 4, type = 'lines') "
   ]
  },
  {
   "cell_type": "code",
   "execution_count": 92,
   "id": "c4c01306-732d-4e8f-a362-82eafffd6bbc",
   "metadata": {},
   "outputs": [],
   "source": [
    "legend_add_vertical = packLegend(legend_add, direction = \"horizontal\")"
   ]
  },
  {
   "cell_type": "code",
   "execution_count": 93,
   "id": "58579c08-96d0-4750-8849-bb34168b1a01",
   "metadata": {},
   "outputs": [
    {
     "data": {
      "text/html": [
       "<strong>png:</strong> 2"
      ],
      "text/latex": [
       "\\textbf{png:} 2"
      ],
      "text/markdown": [
       "**png:** 2"
      ],
      "text/plain": [
       "png \n",
       "  2 "
      ]
     },
     "metadata": {},
     "output_type": "display_data"
    }
   ],
   "source": [
    "pdf(paste0('figures/Final_Figures/ROC_Factor4_Legend_Text', '.pdf'), \n",
    "    width =2, \n",
    "    height = 0.7)\n",
    "draw(legend_add_vertical)\n",
    "dev.off()"
   ]
  },
  {
   "cell_type": "code",
   "execution_count": 94,
   "id": "a720b6b4-0df4-4ad2-9f70-ae10f70be75e",
   "metadata": {},
   "outputs": [
    {
     "data": {
      "image/png": "[encoded data removed]",
      "text/plain": [
       "plot without title"
      ]
     },
     "metadata": {
      "image/png": {
       "height": 120,
       "width": 1800
      }
     },
     "output_type": "display_data"
    }
   ],
   "source": [
    "options(repr.plot.width=30, repr.plot.height=2)\n",
    "draw(legend_add_vertical, test = \"Circo Legend\")"
   ]
  },
  {
   "cell_type": "markdown",
   "id": "7b71cd35-4ae7-43a6-aaba-005fbdc00c87",
   "metadata": {},
   "source": [
    "# Prediction Factor 4 TP1 (taking into account other TPs for all variables)"
   ]
  },
  {
   "cell_type": "code",
   "execution_count": 95,
   "id": "b75c4608-3a89-4ffe-93b1-67ce18871b70",
   "metadata": {},
   "outputs": [],
   "source": [
    "prediction_vars = c('Factor4',  'Normalized_CK', 'Normalized_Troponin')"
   ]
  },
  {
   "cell_type": "code",
   "execution_count": 96,
   "id": "f4b80efb-f042-488c-8f53-6c6b25ad0923",
   "metadata": {},
   "outputs": [],
   "source": [
    "prediction_group = 'tp_outcome'\n",
    "prediction_subset = c('TP1_good', 'TP1_bad')"
   ]
  },
  {
   "cell_type": "code",
   "execution_count": 97,
   "id": "20550030-d978-4b73-9c69-42a79f73b81f",
   "metadata": {},
   "outputs": [],
   "source": [
    "#colnames(data)"
   ]
  },
  {
   "cell_type": "code",
   "execution_count": 98,
   "id": "aa363f3a-4c2b-4e36-aa7e-41427ee08c24",
   "metadata": {},
   "outputs": [],
   "source": [
    "prediction_data = data[,c(prediction_vars, prediction_group, 'sample_id')]\n",
    "prediction_data$y = prediction_data[,prediction_group]\n"
   ]
  },
  {
   "cell_type": "code",
   "execution_count": 99,
   "id": "745b565f-1b71-470e-a672-0d1faecd235a",
   "metadata": {},
   "outputs": [],
   "source": [
    "prediction_data$sample = str_replace(prediction_data$sample_id, '\\\\..*', '')"
   ]
  },
  {
   "cell_type": "code",
   "execution_count": 100,
   "id": "dfc306f8-94bb-4a8c-a55b-2f071690b20d",
   "metadata": {},
   "outputs": [
    {
     "name": "stderr",
     "output_type": "stream",
     "text": [
      "Warning message in max(Normalized_CK, na.rm = TRUE):\n",
      "“no non-missing arguments to max; returning -Inf”\n",
      "Warning message in max(Normalized_CK, na.rm = TRUE):\n",
      "“no non-missing arguments to max; returning -Inf”\n",
      "Warning message in max(Normalized_CK, na.rm = TRUE):\n",
      "“no non-missing arguments to max; returning -Inf”\n",
      "Warning message in max(Normalized_CK, na.rm = TRUE):\n",
      "“no non-missing arguments to max; returning -Inf”\n",
      "Warning message in max(Normalized_CK, na.rm = TRUE):\n",
      "“no non-missing arguments to max; returning -Inf”\n",
      "Warning message in max(Normalized_CK, na.rm = TRUE):\n",
      "“no non-missing arguments to max; returning -Inf”\n",
      "Warning message in max(Normalized_Troponin, na.rm = TRUE):\n",
      "“no non-missing arguments to max; returning -Inf”\n",
      "Warning message in max(Normalized_Troponin, na.rm = TRUE):\n",
      "“no non-missing arguments to max; returning -Inf”\n",
      "Warning message in max(Normalized_Troponin, na.rm = TRUE):\n",
      "“no non-missing arguments to max; returning -Inf”\n",
      "Warning message in max(Normalized_Troponin, na.rm = TRUE):\n",
      "“no non-missing arguments to max; returning -Inf”\n",
      "Warning message in max(Normalized_Troponin, na.rm = TRUE):\n",
      "“no non-missing arguments to max; returning -Inf”\n",
      "Warning message in max(Normalized_Troponin, na.rm = TRUE):\n",
      "“no non-missing arguments to max; returning -Inf”\n"
     ]
    }
   ],
   "source": [
    "add_features = prediction_data %>% group_by(sample) %>% summarise(Mean_CK = mean(Normalized_CK, na.rm = TRUE), Max_CK = max(Normalized_CK, na.rm = TRUE), Mean_Troponin = mean(Normalized_Troponin, na.rm = TRUE), Max_Troponin = max(Normalized_Troponin, na.rm = TRUE))"
   ]
  },
  {
   "cell_type": "code",
   "execution_count": 102,
   "id": "5dbe54df-385b-4232-bc6b-b545f82c986f",
   "metadata": {},
   "outputs": [
    {
     "data": {
      "text/html": [
       "<style>\n",
       ".list-inline {list-style: none; margin:0; padding: 0}\n",
       ".list-inline>li {display: inline-block}\n",
       ".list-inline>li:not(:last-child)::after {content: \"\\00b7\"; padding: 0 .5ex}\n",
       "</style>\n",
       "<ol class=list-inline><li>'Mean_CK'</li><li>'Max_CK'</li><li>'Mean_Troponin'</li><li>'Max_Troponin'</li></ol>\n"
      ],
      "text/latex": [
       "\\begin{enumerate*}\n",
       "\\item 'Mean\\_CK'\n",
       "\\item 'Max\\_CK'\n",
       "\\item 'Mean\\_Troponin'\n",
       "\\item 'Max\\_Troponin'\n",
       "\\end{enumerate*}\n"
      ],
      "text/markdown": [
       "1. 'Mean_CK'\n",
       "2. 'Max_CK'\n",
       "3. 'Mean_Troponin'\n",
       "4. 'Max_Troponin'\n",
       "\n",
       "\n"
      ],
      "text/plain": [
       "[1] \"Mean_CK\"       \"Max_CK\"        \"Mean_Troponin\" \"Max_Troponin\" "
      ]
     },
     "metadata": {},
     "output_type": "display_data"
    }
   ],
   "source": [
    "colnames(add_features)[!colnames(add_features) == 'sample']"
   ]
  },
  {
   "cell_type": "code",
   "execution_count": 103,
   "id": "7e982a8b-d5cc-4916-ad53-9ae9153b66a7",
   "metadata": {},
   "outputs": [],
   "source": [
    "prediction_data = merge(prediction_data[,c('sample', 'y', 'tp_outcome', 'Factor4')], add_features)"
   ]
  },
  {
   "cell_type": "code",
   "execution_count": 105,
   "id": "030b09db-419d-4256-8b52-e912871dd38c",
   "metadata": {},
   "outputs": [],
   "source": [
    "prediction_data = prediction_data[prediction_data$y %in% prediction_subset,]\n",
    "\n",
    "prediction_data$y[prediction_data$y == prediction_subset[2]] = 1  # predict BAD outcome \n",
    "prediction_data$y[prediction_data$y == prediction_subset[1]] = 0  # good outcome as control"
   ]
  },
  {
   "cell_type": "code",
   "execution_count": 107,
   "id": "cbfa35ff-b318-4a3f-ba5f-fc7f4f2892dc",
   "metadata": {},
   "outputs": [],
   "source": [
    "# Adjust sign of Factor values\n",
    "prediction_data$Factor4 = -1*prediction_data$Factor4"
   ]
  },
  {
   "cell_type": "code",
   "execution_count": null,
   "id": "dd30b568-710e-4743-a1f3-5607aeff7f48",
   "metadata": {},
   "outputs": [],
   "source": []
  },
  {
   "cell_type": "code",
   "execution_count": 108,
   "id": "ae090097-463b-491d-9815-449ba89a7348",
   "metadata": {},
   "outputs": [],
   "source": [
    "# Transform and scale scores of prediction variables (to be between 0 and 1)"
   ]
  },
  {
   "cell_type": "code",
   "execution_count": 109,
   "id": "130c0c59-785c-4f9d-af9f-ff5b589ca402",
   "metadata": {},
   "outputs": [],
   "source": [
    "prediction_data = cbind( prediction_data[,c('y', prediction_group)],\n",
    "      apply(prediction_data[,c('Factor4', colnames(add_features)[!colnames(add_features) == 'sample'])], MARGIN = 2, FUN = function(x){\n",
    "    (x - min(x, na.rm = TRUE)) / (max(x, na.rm = TRUE) - min(x, na.rm = TRUE))}))"
   ]
  },
  {
   "cell_type": "code",
   "execution_count": 110,
   "id": "0f30b849-90be-42df-987f-699d218629f0",
   "metadata": {},
   "outputs": [
    {
     "data": {
      "text/html": [
       "<table class=\"dataframe\">\n",
       "<caption>A data.frame: 5 × 7</caption>\n",
       "<thead>\n",
       "\t<tr><th></th><th scope=col>y</th><th scope=col>tp_outcome</th><th scope=col>Factor4</th><th scope=col>Mean_CK</th><th scope=col>Max_CK</th><th scope=col>Mean_Troponin</th><th scope=col>Max_Troponin</th></tr>\n",
       "\t<tr><th></th><th scope=col>&lt;chr&gt;</th><th scope=col>&lt;chr&gt;</th><th scope=col>&lt;dbl&gt;</th><th scope=col>&lt;dbl&gt;</th><th scope=col>&lt;dbl&gt;</th><th scope=col>&lt;dbl&gt;</th><th scope=col>&lt;dbl&gt;</th></tr>\n",
       "</thead>\n",
       "<tbody>\n",
       "\t<tr><th scope=row>36</th><td>1</td><td>TP1_bad </td><td>0.4734997</td><td>1.0000000</td><td>0.7503890</td><td>1.0000000</td><td>1.0000000</td></tr>\n",
       "\t<tr><th scope=row>45</th><td>1</td><td>TP1_bad </td><td>0.8558891</td><td>0.4562227</td><td>0.5261785</td><td>0.5556089</td><td>0.6342725</td></tr>\n",
       "\t<tr><th scope=row>49</th><td>1</td><td>TP1_bad </td><td>0.7560452</td><td>0.4847296</td><td>0.4550662</td><td>0.4835328</td><td>0.5974694</td></tr>\n",
       "\t<tr><th scope=row>53</th><td>0</td><td>TP1_good</td><td>1.0000000</td><td>0.6155006</td><td>0.4283336</td><td>0.4316984</td><td>0.4713510</td></tr>\n",
       "\t<tr><th scope=row>60</th><td>1</td><td>TP1_bad </td><td>0.7118677</td><td>0.2195981</td><td>0.2955057</td><td>0.3321533</td><td>0.4162823</td></tr>\n",
       "</tbody>\n",
       "</table>\n"
      ],
      "text/latex": [
       "A data.frame: 5 × 7\n",
       "\\begin{tabular}{r|lllllll}\n",
       "  & y & tp\\_outcome & Factor4 & Mean\\_CK & Max\\_CK & Mean\\_Troponin & Max\\_Troponin\\\\\n",
       "  & <chr> & <chr> & <dbl> & <dbl> & <dbl> & <dbl> & <dbl>\\\\\n",
       "\\hline\n",
       "\t36 & 1 & TP1\\_bad  & 0.4734997 & 1.0000000 & 0.7503890 & 1.0000000 & 1.0000000\\\\\n",
       "\t45 & 1 & TP1\\_bad  & 0.8558891 & 0.4562227 & 0.5261785 & 0.5556089 & 0.6342725\\\\\n",
       "\t49 & 1 & TP1\\_bad  & 0.7560452 & 0.4847296 & 0.4550662 & 0.4835328 & 0.5974694\\\\\n",
       "\t53 & 0 & TP1\\_good & 1.0000000 & 0.6155006 & 0.4283336 & 0.4316984 & 0.4713510\\\\\n",
       "\t60 & 1 & TP1\\_bad  & 0.7118677 & 0.2195981 & 0.2955057 & 0.3321533 & 0.4162823\\\\\n",
       "\\end{tabular}\n"
      ],
      "text/markdown": [
       "\n",
       "A data.frame: 5 × 7\n",
       "\n",
       "| <!--/--> | y &lt;chr&gt; | tp_outcome &lt;chr&gt; | Factor4 &lt;dbl&gt; | Mean_CK &lt;dbl&gt; | Max_CK &lt;dbl&gt; | Mean_Troponin &lt;dbl&gt; | Max_Troponin &lt;dbl&gt; |\n",
       "|---|---|---|---|---|---|---|---|\n",
       "| 36 | 1 | TP1_bad  | 0.4734997 | 1.0000000 | 0.7503890 | 1.0000000 | 1.0000000 |\n",
       "| 45 | 1 | TP1_bad  | 0.8558891 | 0.4562227 | 0.5261785 | 0.5556089 | 0.6342725 |\n",
       "| 49 | 1 | TP1_bad  | 0.7560452 | 0.4847296 | 0.4550662 | 0.4835328 | 0.5974694 |\n",
       "| 53 | 0 | TP1_good | 1.0000000 | 0.6155006 | 0.4283336 | 0.4316984 | 0.4713510 |\n",
       "| 60 | 1 | TP1_bad  | 0.7118677 | 0.2195981 | 0.2955057 | 0.3321533 | 0.4162823 |\n",
       "\n"
      ],
      "text/plain": [
       "   y tp_outcome Factor4   Mean_CK   Max_CK    Mean_Troponin Max_Troponin\n",
       "36 1 TP1_bad    0.4734997 1.0000000 0.7503890 1.0000000     1.0000000   \n",
       "45 1 TP1_bad    0.8558891 0.4562227 0.5261785 0.5556089     0.6342725   \n",
       "49 1 TP1_bad    0.7560452 0.4847296 0.4550662 0.4835328     0.5974694   \n",
       "53 0 TP1_good   1.0000000 0.6155006 0.4283336 0.4316984     0.4713510   \n",
       "60 1 TP1_bad    0.7118677 0.2195981 0.2955057 0.3321533     0.4162823   "
      ]
     },
     "metadata": {},
     "output_type": "display_data"
    }
   ],
   "source": [
    "head(prediction_data,5)"
   ]
  },
  {
   "cell_type": "code",
   "execution_count": 117,
   "id": "3c555e06-ba78-4e07-867b-625b2dbd316b",
   "metadata": {},
   "outputs": [],
   "source": [
    "## Alternative use GGPLOT IMPL"
   ]
  },
  {
   "cell_type": "code",
   "execution_count": 118,
   "id": "da8cce28-6933-4641-92ef-ae1c93f20743",
   "metadata": {},
   "outputs": [
    {
     "name": "stderr",
     "output_type": "stream",
     "text": [
      "Using y, tp_outcome as id variables\n",
      "\n"
     ]
    }
   ],
   "source": [
    "prediction_data_long = melt(prediction_data)"
   ]
  },
  {
   "cell_type": "code",
   "execution_count": 119,
   "id": "747b78a1-9a10-45e7-ac9c-8ac45be89ddc",
   "metadata": {},
   "outputs": [
    {
     "data": {
      "text/html": [
       "<table class=\"dataframe\">\n",
       "<caption>A data.frame: 2 × 4</caption>\n",
       "<thead>\n",
       "\t<tr><th></th><th scope=col>y</th><th scope=col>tp_outcome</th><th scope=col>variable</th><th scope=col>value</th></tr>\n",
       "\t<tr><th></th><th scope=col>&lt;chr&gt;</th><th scope=col>&lt;chr&gt;</th><th scope=col>&lt;fct&gt;</th><th scope=col>&lt;dbl&gt;</th></tr>\n",
       "</thead>\n",
       "<tbody>\n",
       "\t<tr><th scope=row>1</th><td>1</td><td>TP1_bad</td><td>Factor4</td><td>0.4734997</td></tr>\n",
       "\t<tr><th scope=row>2</th><td>1</td><td>TP1_bad</td><td>Factor4</td><td>0.8558891</td></tr>\n",
       "</tbody>\n",
       "</table>\n"
      ],
      "text/latex": [
       "A data.frame: 2 × 4\n",
       "\\begin{tabular}{r|llll}\n",
       "  & y & tp\\_outcome & variable & value\\\\\n",
       "  & <chr> & <chr> & <fct> & <dbl>\\\\\n",
       "\\hline\n",
       "\t1 & 1 & TP1\\_bad & Factor4 & 0.4734997\\\\\n",
       "\t2 & 1 & TP1\\_bad & Factor4 & 0.8558891\\\\\n",
       "\\end{tabular}\n"
      ],
      "text/markdown": [
       "\n",
       "A data.frame: 2 × 4\n",
       "\n",
       "| <!--/--> | y &lt;chr&gt; | tp_outcome &lt;chr&gt; | variable &lt;fct&gt; | value &lt;dbl&gt; |\n",
       "|---|---|---|---|---|\n",
       "| 1 | 1 | TP1_bad | Factor4 | 0.4734997 |\n",
       "| 2 | 1 | TP1_bad | Factor4 | 0.8558891 |\n",
       "\n"
      ],
      "text/plain": [
       "  y tp_outcome variable value    \n",
       "1 1 TP1_bad    Factor4  0.4734997\n",
       "2 1 TP1_bad    Factor4  0.8558891"
      ]
     },
     "metadata": {},
     "output_type": "display_data"
    }
   ],
   "source": [
    "head(prediction_data_long,2)"
   ]
  },
  {
   "cell_type": "code",
   "execution_count": 120,
   "id": "6c7ffa72-57ab-4ff4-930f-2c9dbcc71e66",
   "metadata": {},
   "outputs": [],
   "source": [
    "prediction_data_long = prediction_data_long[!is.na(prediction_data_long$value),]"
   ]
  },
  {
   "cell_type": "code",
   "execution_count": 121,
   "id": "44b22a69-f0cc-4290-91f0-8401a0f4b7be",
   "metadata": {},
   "outputs": [],
   "source": [
    "prediction_data_long = prediction_data_long[!is.na(prediction_data_long$value),]"
   ]
  },
  {
   "cell_type": "code",
   "execution_count": 122,
   "id": "c956ab30-77ea-4d54-94b4-4514ae3ba601",
   "metadata": {},
   "outputs": [],
   "source": [
    "amount_samples = prediction_data_long %>% group_by(variable) %>% count()"
   ]
  },
  {
   "cell_type": "code",
   "execution_count": 123,
   "id": "e76822ec-0bbb-465e-95b5-25e8404ee6c4",
   "metadata": {},
   "outputs": [],
   "source": [
    "prediction_data_long = merge(prediction_data_long, amount_samples)"
   ]
  },
  {
   "cell_type": "code",
   "execution_count": 124,
   "id": "c3072b2e-3fbe-4807-aa59-ea06cbc83eb4",
   "metadata": {},
   "outputs": [],
   "source": [
    "prediction_data_long$variable_w_n = paste0(prediction_data_long$variable, ' (n=', prediction_data_long$n, ')')"
   ]
  },
  {
   "cell_type": "code",
   "execution_count": 125,
   "id": "43df3072-9307-4fa1-9bb3-1802511acc97",
   "metadata": {},
   "outputs": [],
   "source": [
    "# Figure Name\n",
    "figure_name = 'FIG7_E9_ROC_Factor4_TP1_V2'"
   ]
  },
  {
   "cell_type": "code",
   "execution_count": 126,
   "id": "7d74b132-57e0-46f6-a9bc-16600d9309c0",
   "metadata": {},
   "outputs": [],
   "source": [
    "# Sizes of the plot\n",
    "width_par = 4\n",
    "height_par = 2"
   ]
  },
  {
   "cell_type": "code",
   "execution_count": 127,
   "id": "ce96f6a2-47d4-4070-9c26-e6f4a5ea132d",
   "metadata": {},
   "outputs": [],
   "source": [
    "xtitle = xlab( 'False Positive Fraction')\n",
    "ytitle  = ylab('Sensititity')"
   ]
  },
  {
   "cell_type": "code",
   "execution_count": 128,
   "id": "2393a3a8-f7f0-4a1c-9a9d-797d2405534d",
   "metadata": {},
   "outputs": [],
   "source": [
    "## Specify Plot\n",
    "rocplot = ggplot(prediction_data_long, aes(m = value, d = as.numeric(y), color = variable_w_n))+ geom_roc(n.cuts=0,labels=FALSE, size = 0.5)"
   ]
  },
  {
   "cell_type": "code",
   "execution_count": 129,
   "id": "f5e90aaa-3c8c-4144-81b6-98c9f8021fb0",
   "metadata": {},
   "outputs": [
    {
     "data": {
      "text/html": [
       "<style>\n",
       ".list-inline {list-style: none; margin:0; padding: 0}\n",
       ".list-inline>li {display: inline-block}\n",
       ".list-inline>li:not(:last-child)::after {content: \"\\00b7\"; padding: 0 .5ex}\n",
       "</style>\n",
       "<ol class=list-inline><li>'Factor4 (n=19)'</li><li>'Max_CK (n=19)'</li><li>'Max_Troponin (n=19)'</li><li>'Mean_CK (n=19)'</li><li>'Mean_Troponin (n=19)'</li></ol>\n"
      ],
      "text/latex": [
       "\\begin{enumerate*}\n",
       "\\item 'Factor4 (n=19)'\n",
       "\\item 'Max\\_CK (n=19)'\n",
       "\\item 'Max\\_Troponin (n=19)'\n",
       "\\item 'Mean\\_CK (n=19)'\n",
       "\\item 'Mean\\_Troponin (n=19)'\n",
       "\\end{enumerate*}\n"
      ],
      "text/markdown": [
       "1. 'Factor4 (n=19)'\n",
       "2. 'Max_CK (n=19)'\n",
       "3. 'Max_Troponin (n=19)'\n",
       "4. 'Mean_CK (n=19)'\n",
       "5. 'Mean_Troponin (n=19)'\n",
       "\n",
       "\n"
      ],
      "text/plain": [
       "[1] \"Factor4 (n=19)\"       \"Max_CK (n=19)\"        \"Max_Troponin (n=19)\" \n",
       "[4] \"Mean_CK (n=19)\"       \"Mean_Troponin (n=19)\""
      ]
     },
     "metadata": {},
     "output_type": "display_data"
    }
   ],
   "source": [
    "unique(prediction_data_long$variable_w_n )"
   ]
  },
  {
   "cell_type": "code",
   "execution_count": 130,
   "id": "e80b3734-2390-465a-a7f3-647b38cdd7ce",
   "metadata": {},
   "outputs": [
    {
     "data": {
      "image/png": "[encoded data removed]",
      "text/plain": [
       "plot without title"
      ]
     },
     "metadata": {
      "image/png": {
       "height": 120,
       "width": 1800
      }
     },
     "output_type": "display_data"
    }
   ],
   "source": [
    "## Configuration + Modification of plot\n",
    "roc_plot = rocplot + \n",
    "    plot_config + \n",
    "    xtitle + \n",
    "    ytitle + \n",
    "     scale_color_manual(values = c('Factor4 (n=19)' = \"#BC0B58\",\n",
    "                                      'Mean_CK (n=19)' = \"#087C6D\",\n",
    "                                      'Max_CK (n=19)'=\"#11C1A9\",\n",
    "                                   'Max_Troponin (n=19)' = '#863F06',\n",
    "                                   'Mean_Troponin (n=19)' = '#5B2A03'\n",
    "                                     ))+\n",
    "       scale_linetype_manual(values = c('Factor4 (n=19)' = \"solid\",\n",
    "                                      'Mean_CK (n=19)' = \"solid\",\n",
    "                                      'Max_CK (n=19)'=\"solid\",\n",
    "                                               'Max_Troponin (n=19)'=\"solid\",\n",
    "                                               'Mean_Troponin (n=19)'=\"solid\"\n",
    "                                     ))+\n",
    "    ggtitle('ROC curve TP1 good vs. bad') +\n",
    "    geom_abline(slope = 1, intercept = 0)\n",
    "\n",
    "roc_plot"
   ]
  },
  {
   "cell_type": "code",
   "execution_count": 131,
   "id": "5bcbaf0d-a7d0-4aaa-bb63-e02b7db6d2be",
   "metadata": {},
   "outputs": [
    {
     "data": {
      "text/html": [
       "<strong>png:</strong> 2"
      ],
      "text/latex": [
       "\\textbf{png:} 2"
      ],
      "text/markdown": [
       "**png:** 2"
      ],
      "text/plain": [
       "png \n",
       "  2 "
      ]
     },
     "metadata": {},
     "output_type": "display_data"
    }
   ],
   "source": [
    "pdf(paste0('figures/Final_Figures/', figure_name, version, '.pdf'), width =width_par, height =height_par)\n",
    "print(roc_plot)\n",
    "dev.off()"
   ]
  },
  {
   "cell_type": "code",
   "execution_count": 132,
   "id": "0acc8a5a-179a-4170-9249-d84da8c79bb6",
   "metadata": {},
   "outputs": [],
   "source": [
    "# Test calculation of ROC values\n",
    "\n",
    "# prediction_data[!is.na(prediction_data$Normalized_CRP ),]"
   ]
  },
  {
   "cell_type": "code",
   "execution_count": 133,
   "id": "2987e43e-3ebe-47bb-85cc-ed1351d16001",
   "metadata": {},
   "outputs": [],
   "source": [
    "auc_values = data.frame()"
   ]
  },
  {
   "cell_type": "code",
   "execution_count": 134,
   "id": "8e99ef89-1e9b-4edb-ba50-a5196adce25d",
   "metadata": {},
   "outputs": [
    {
     "name": "stderr",
     "output_type": "stream",
     "text": [
      "Setting levels: control = 0, case = 1\n",
      "\n",
      "Setting direction: controls < cases\n",
      "\n",
      "Setting levels: control = 0, case = 1\n",
      "\n",
      "Setting direction: controls < cases\n",
      "\n",
      "Setting levels: control = 0, case = 1\n",
      "\n",
      "Setting direction: controls < cases\n",
      "\n",
      "Setting levels: control = 0, case = 1\n",
      "\n",
      "Setting direction: controls > cases\n",
      "\n",
      "Setting levels: control = 0, case = 1\n",
      "\n",
      "Setting direction: controls < cases\n",
      "\n"
     ]
    }
   ],
   "source": [
    "for(i in unique(prediction_data_long$variable)){\n",
    "    calc_auc = data.frame(variable = i, \n",
    "                          auc = auc(prediction_data_long$y[prediction_data_long$variable == i], prediction_data_long$value[prediction_data_long$variable == i])\n",
    "                          )\n",
    "    auc_values = rbind(auc_values, calc_auc)\n",
    "    }"
   ]
  },
  {
   "cell_type": "code",
   "execution_count": 135,
   "id": "03f1878a-99e4-484e-9617-1fb812f6cd07",
   "metadata": {},
   "outputs": [
    {
     "data": {
      "text/html": [
       "<table class=\"dataframe\">\n",
       "<caption>A data.frame: 5 × 2</caption>\n",
       "<thead>\n",
       "\t<tr><th scope=col>variable</th><th scope=col>auc</th></tr>\n",
       "\t<tr><th scope=col>&lt;chr&gt;</th><th scope=col>&lt;auc&gt;</th></tr>\n",
       "</thead>\n",
       "<tbody>\n",
       "\t<tr><td>Factor4      </td><td>0.8333333</td></tr>\n",
       "\t<tr><td>Max_CK       </td><td>0.6538462</td></tr>\n",
       "\t<tr><td>Max_Troponin </td><td>0.7307692</td></tr>\n",
       "\t<tr><td>Mean_CK      </td><td>0.4743590</td></tr>\n",
       "\t<tr><td>Mean_Troponin</td><td>0.7179487</td></tr>\n",
       "</tbody>\n",
       "</table>\n"
      ],
      "text/latex": [
       "A data.frame: 5 × 2\n",
       "\\begin{tabular}{ll}\n",
       " variable & auc\\\\\n",
       " <chr> & <auc>\\\\\n",
       "\\hline\n",
       "\t Factor4       & 0.8333333\\\\\n",
       "\t Max\\_CK        & 0.6538462\\\\\n",
       "\t Max\\_Troponin  & 0.7307692\\\\\n",
       "\t Mean\\_CK       & 0.4743590\\\\\n",
       "\t Mean\\_Troponin & 0.7179487\\\\\n",
       "\\end{tabular}\n"
      ],
      "text/markdown": [
       "\n",
       "A data.frame: 5 × 2\n",
       "\n",
       "| variable &lt;chr&gt; | auc &lt;auc&gt; |\n",
       "|---|---|\n",
       "| Factor4       | 0.8333333 |\n",
       "| Max_CK        | 0.6538462 |\n",
       "| Max_Troponin  | 0.7307692 |\n",
       "| Mean_CK       | 0.4743590 |\n",
       "| Mean_Troponin | 0.7179487 |\n",
       "\n"
      ],
      "text/plain": [
       "  variable      auc      \n",
       "1 Factor4       0.8333333\n",
       "2 Max_CK        0.6538462\n",
       "3 Max_Troponin  0.7307692\n",
       "4 Mean_CK       0.4743590\n",
       "5 Mean_Troponin 0.7179487"
      ]
     },
     "metadata": {},
     "output_type": "display_data"
    }
   ],
   "source": [
    "auc_values"
   ]
  },
  {
   "cell_type": "code",
   "execution_count": 136,
   "id": "a3bc4449-3cb0-495e-9cda-ff01a594659d",
   "metadata": {},
   "outputs": [],
   "source": [
    "### Save AUC values"
   ]
  },
  {
   "cell_type": "code",
   "execution_count": 137,
   "id": "d6bd4d0c-0d58-4bdf-9900-c0fc6244d506",
   "metadata": {},
   "outputs": [],
   "source": [
    "write.csv(auc_values, paste0(result_path,'/Supplementary/SUPP_E9_Factor4_ROC_Plot_AUC_values_P2.csv'), row.names = FALSE)"
   ]
  },
  {
   "cell_type": "markdown",
   "id": "9080e8b5-2248-43b6-a571-9f016d3dcfc9",
   "metadata": {},
   "source": [
    "# Prediction Factor 4 good vs. bad (all TP)"
   ]
  },
  {
   "cell_type": "code",
   "execution_count": 138,
   "id": "dd3a20b4-7fca-492c-b508-7a73d9475dfb",
   "metadata": {},
   "outputs": [],
   "source": [
    "prediction_vars = c('Factor4',  'Normalized_CK', 'Normalized_CRP', 'Normalized_Troponin')"
   ]
  },
  {
   "cell_type": "code",
   "execution_count": 139,
   "id": "93af7f29-a6b3-4505-b010-e6c74e7ff21d",
   "metadata": {},
   "outputs": [
    {
     "data": {
      "text/html": [
       "<style>\n",
       ".list-inline {list-style: none; margin:0; padding: 0}\n",
       ".list-inline>li {display: inline-block}\n",
       ".list-inline>li:not(:last-child)::after {content: \"\\00b7\"; padding: 0 .5ex}\n",
       "</style>\n",
       "<ol class=list-inline><li>NA</li><li>'bad'</li><li>'good'</li></ol>\n"
      ],
      "text/latex": [
       "\\begin{enumerate*}\n",
       "\\item NA\n",
       "\\item 'bad'\n",
       "\\item 'good'\n",
       "\\end{enumerate*}\n"
      ],
      "text/markdown": [
       "1. NA\n",
       "2. 'bad'\n",
       "3. 'good'\n",
       "\n",
       "\n"
      ],
      "text/plain": [
       "[1] NA     \"bad\"  \"good\""
      ]
     },
     "metadata": {},
     "output_type": "display_data"
    }
   ],
   "source": [
    "unique(data$delta_ef_value_class_summarized)"
   ]
  },
  {
   "cell_type": "code",
   "execution_count": 140,
   "id": "f4c2bc3a-66d8-44b3-bc0b-b5e664bcaa26",
   "metadata": {},
   "outputs": [],
   "source": [
    "prediction_group = 'delta_ef_value_class_summarized'\n",
    "prediction_subset = c('good', 'bad')"
   ]
  },
  {
   "cell_type": "code",
   "execution_count": 141,
   "id": "f15123b5-5888-4246-973d-41026d0826d5",
   "metadata": {},
   "outputs": [],
   "source": [
    "prediction_data = data[,c(prediction_vars, prediction_group)]\n",
    "prediction_data$y = prediction_data[,prediction_group]\n",
    "prediction_data = prediction_data[prediction_data$y %in% prediction_subset,]\n",
    "\n",
    "prediction_data$y[prediction_data$y == prediction_subset[2]] = 1  # predict BAD outcome \n",
    "prediction_data$y[prediction_data$y == prediction_subset[1]] = 0  # good outcome as control"
   ]
  },
  {
   "cell_type": "code",
   "execution_count": 143,
   "id": "3993b2d2-f7ae-4375-aac3-6eadaffc6957",
   "metadata": {},
   "outputs": [],
   "source": [
    "# Adjust sign of Factor values\n",
    "prediction_data$Factor4 = -1*prediction_data$Factor4\n"
   ]
  },
  {
   "cell_type": "code",
   "execution_count": null,
   "id": "53e01402-22c5-4404-b1f6-c356c56447c9",
   "metadata": {},
   "outputs": [],
   "source": []
  },
  {
   "cell_type": "code",
   "execution_count": 144,
   "id": "76a1020f-b1f4-42f3-b663-a695c405996c",
   "metadata": {},
   "outputs": [],
   "source": [
    "# Transform and scale scores of prediction variables (to be between 0 and 1)"
   ]
  },
  {
   "cell_type": "code",
   "execution_count": 145,
   "id": "9cd13703-5146-493e-b6b6-879c30c7f01e",
   "metadata": {},
   "outputs": [],
   "source": [
    "prediction_data = cbind( prediction_data[,c('y', prediction_group)],\n",
    "      apply(prediction_data[,prediction_vars], MARGIN = 2, FUN = function(x){\n",
    "    (x - min(x, na.rm = TRUE)) / (max(x, na.rm = TRUE) - min(x, na.rm = TRUE))}))"
   ]
  },
  {
   "cell_type": "code",
   "execution_count": 146,
   "id": "9069b255-a1ea-4aab-a178-5743826942e5",
   "metadata": {},
   "outputs": [
    {
     "data": {
      "text/html": [
       "<table class=\"dataframe\">\n",
       "<caption>A data.frame: 5 × 6</caption>\n",
       "<thead>\n",
       "\t<tr><th></th><th scope=col>y</th><th scope=col>delta_ef_value_class_summarized</th><th scope=col>Factor4</th><th scope=col>Normalized_CK</th><th scope=col>Normalized_CRP</th><th scope=col>Normalized_Troponin</th></tr>\n",
       "\t<tr><th></th><th scope=col>&lt;chr&gt;</th><th scope=col>&lt;chr&gt;</th><th scope=col>&lt;dbl&gt;</th><th scope=col>&lt;dbl&gt;</th><th scope=col>&lt;dbl&gt;</th><th scope=col>&lt;dbl&gt;</th></tr>\n",
       "</thead>\n",
       "<tbody>\n",
       "\t<tr><th scope=row>36</th><td>1</td><td>bad</td><td>0.6916093</td><td>0.8399350</td><td>0.3821488</td><td>1.0000000</td></tr>\n",
       "\t<tr><th scope=row>37</th><td>1</td><td>bad</td><td>0.4479275</td><td>0.8646401</td><td>       NA</td><td>0.8174498</td></tr>\n",
       "\t<tr><th scope=row>38</th><td>1</td><td>bad</td><td>0.2174317</td><td>0.4937829</td><td>0.9173853</td><td>0.4926748</td></tr>\n",
       "\t<tr><th scope=row>45</th><td>1</td><td>bad</td><td>0.9155889</td><td>0.6250556</td><td>0.2941660</td><td>0.3199684</td></tr>\n",
       "\t<tr><th scope=row>46</th><td>1</td><td>bad</td><td>0.5782523</td><td>0.7430544</td><td>0.3445900</td><td>0.6701585</td></tr>\n",
       "</tbody>\n",
       "</table>\n"
      ],
      "text/latex": [
       "A data.frame: 5 × 6\n",
       "\\begin{tabular}{r|llllll}\n",
       "  & y & delta\\_ef\\_value\\_class\\_summarized & Factor4 & Normalized\\_CK & Normalized\\_CRP & Normalized\\_Troponin\\\\\n",
       "  & <chr> & <chr> & <dbl> & <dbl> & <dbl> & <dbl>\\\\\n",
       "\\hline\n",
       "\t36 & 1 & bad & 0.6916093 & 0.8399350 & 0.3821488 & 1.0000000\\\\\n",
       "\t37 & 1 & bad & 0.4479275 & 0.8646401 &        NA & 0.8174498\\\\\n",
       "\t38 & 1 & bad & 0.2174317 & 0.4937829 & 0.9173853 & 0.4926748\\\\\n",
       "\t45 & 1 & bad & 0.9155889 & 0.6250556 & 0.2941660 & 0.3199684\\\\\n",
       "\t46 & 1 & bad & 0.5782523 & 0.7430544 & 0.3445900 & 0.6701585\\\\\n",
       "\\end{tabular}\n"
      ],
      "text/markdown": [
       "\n",
       "A data.frame: 5 × 6\n",
       "\n",
       "| <!--/--> | y &lt;chr&gt; | delta_ef_value_class_summarized &lt;chr&gt; | Factor4 &lt;dbl&gt; | Normalized_CK &lt;dbl&gt; | Normalized_CRP &lt;dbl&gt; | Normalized_Troponin &lt;dbl&gt; |\n",
       "|---|---|---|---|---|---|---|\n",
       "| 36 | 1 | bad | 0.6916093 | 0.8399350 | 0.3821488 | 1.0000000 |\n",
       "| 37 | 1 | bad | 0.4479275 | 0.8646401 |        NA | 0.8174498 |\n",
       "| 38 | 1 | bad | 0.2174317 | 0.4937829 | 0.9173853 | 0.4926748 |\n",
       "| 45 | 1 | bad | 0.9155889 | 0.6250556 | 0.2941660 | 0.3199684 |\n",
       "| 46 | 1 | bad | 0.5782523 | 0.7430544 | 0.3445900 | 0.6701585 |\n",
       "\n"
      ],
      "text/plain": [
       "   y delta_ef_value_class_summarized Factor4   Normalized_CK Normalized_CRP\n",
       "36 1 bad                             0.6916093 0.8399350     0.3821488     \n",
       "37 1 bad                             0.4479275 0.8646401            NA     \n",
       "38 1 bad                             0.2174317 0.4937829     0.9173853     \n",
       "45 1 bad                             0.9155889 0.6250556     0.2941660     \n",
       "46 1 bad                             0.5782523 0.7430544     0.3445900     \n",
       "   Normalized_Troponin\n",
       "36 1.0000000          \n",
       "37 0.8174498          \n",
       "38 0.4926748          \n",
       "45 0.3199684          \n",
       "46 0.6701585          "
      ]
     },
     "metadata": {},
     "output_type": "display_data"
    }
   ],
   "source": [
    "head(prediction_data,5)"
   ]
  },
  {
   "cell_type": "code",
   "execution_count": 153,
   "id": "02e0cd68-a731-4642-92bc-62e784c010bd",
   "metadata": {},
   "outputs": [],
   "source": [
    "## Alternative use GGPLOT IMPL"
   ]
  },
  {
   "cell_type": "code",
   "execution_count": 154,
   "id": "ba60693e-b1e6-4760-af87-57f17384b092",
   "metadata": {},
   "outputs": [
    {
     "name": "stderr",
     "output_type": "stream",
     "text": [
      "Using y, delta_ef_value_class_summarized as id variables\n",
      "\n"
     ]
    }
   ],
   "source": [
    "prediction_data_long = melt(prediction_data)"
   ]
  },
  {
   "cell_type": "code",
   "execution_count": 155,
   "id": "7367918b-c9d4-464c-a943-b6abb07c074b",
   "metadata": {},
   "outputs": [
    {
     "data": {
      "text/html": [
       "<table class=\"dataframe\">\n",
       "<caption>A data.frame: 2 × 4</caption>\n",
       "<thead>\n",
       "\t<tr><th></th><th scope=col>y</th><th scope=col>delta_ef_value_class_summarized</th><th scope=col>variable</th><th scope=col>value</th></tr>\n",
       "\t<tr><th></th><th scope=col>&lt;chr&gt;</th><th scope=col>&lt;chr&gt;</th><th scope=col>&lt;fct&gt;</th><th scope=col>&lt;dbl&gt;</th></tr>\n",
       "</thead>\n",
       "<tbody>\n",
       "\t<tr><th scope=row>1</th><td>1</td><td>bad</td><td>Factor4</td><td>0.6916093</td></tr>\n",
       "\t<tr><th scope=row>2</th><td>1</td><td>bad</td><td>Factor4</td><td>0.4479275</td></tr>\n",
       "</tbody>\n",
       "</table>\n"
      ],
      "text/latex": [
       "A data.frame: 2 × 4\n",
       "\\begin{tabular}{r|llll}\n",
       "  & y & delta\\_ef\\_value\\_class\\_summarized & variable & value\\\\\n",
       "  & <chr> & <chr> & <fct> & <dbl>\\\\\n",
       "\\hline\n",
       "\t1 & 1 & bad & Factor4 & 0.6916093\\\\\n",
       "\t2 & 1 & bad & Factor4 & 0.4479275\\\\\n",
       "\\end{tabular}\n"
      ],
      "text/markdown": [
       "\n",
       "A data.frame: 2 × 4\n",
       "\n",
       "| <!--/--> | y &lt;chr&gt; | delta_ef_value_class_summarized &lt;chr&gt; | variable &lt;fct&gt; | value &lt;dbl&gt; |\n",
       "|---|---|---|---|---|\n",
       "| 1 | 1 | bad | Factor4 | 0.6916093 |\n",
       "| 2 | 1 | bad | Factor4 | 0.4479275 |\n",
       "\n"
      ],
      "text/plain": [
       "  y delta_ef_value_class_summarized variable value    \n",
       "1 1 bad                             Factor4  0.6916093\n",
       "2 1 bad                             Factor4  0.4479275"
      ]
     },
     "metadata": {},
     "output_type": "display_data"
    }
   ],
   "source": [
    "head(prediction_data_long,2)"
   ]
  },
  {
   "cell_type": "code",
   "execution_count": 156,
   "id": "d34aed49-f791-4b8b-96d4-e0bb71577ed4",
   "metadata": {},
   "outputs": [],
   "source": [
    "prediction_data_long = prediction_data_long[!is.na(prediction_data_long$value),]"
   ]
  },
  {
   "cell_type": "code",
   "execution_count": 157,
   "id": "c33dc8da-82c9-4040-86b0-60bf14fd2fad",
   "metadata": {},
   "outputs": [],
   "source": [
    "# Figure Name\n",
    "figure_name = 'FIG7_E9_ROC_Factor4_GOOD_BAD'"
   ]
  },
  {
   "cell_type": "code",
   "execution_count": 158,
   "id": "6481882f-18dc-4cb1-84f3-25eaa4c5e372",
   "metadata": {},
   "outputs": [],
   "source": [
    "# Sizes of the plot\n",
    "width_par = 5\n",
    "height_par = 3"
   ]
  },
  {
   "cell_type": "code",
   "execution_count": 159,
   "id": "341ef94e-b9f2-4fbc-8d01-ec9446437aee",
   "metadata": {},
   "outputs": [],
   "source": [
    "xtitle = xlab( 'False Positive Fraction')\n",
    "ytitle  = ylab('Sensititity (True Positive Fraction)')"
   ]
  },
  {
   "cell_type": "code",
   "execution_count": 160,
   "id": "ed055c07-8491-4fc7-bfec-0d01a56dae74",
   "metadata": {},
   "outputs": [],
   "source": [
    "## Specify Plot\n",
    "rocplot = ggplot(prediction_data_long, aes(m = value, d = as.numeric(y), color = variable))+ geom_roc(n.cuts=0,labels=FALSE)"
   ]
  },
  {
   "cell_type": "code",
   "execution_count": 161,
   "id": "6397fac1-6075-4a98-b7b6-e461a9fd8717",
   "metadata": {},
   "outputs": [
    {
     "data": {
      "image/png": "[encoded data removed]",
      "text/plain": [
       "plot without title"
      ]
     },
     "metadata": {
      "image/png": {
       "height": 120,
       "width": 1800
      }
     },
     "output_type": "display_data"
    }
   ],
   "source": [
    "## Configuration + Modification of plot\n",
    "roc_plot = rocplot + \n",
    "    plot_config + \n",
    "    xtitle + \n",
    "    ytitle + \n",
    "    ggtitle('ROC curve good vs. bad') +\n",
    "    geom_abline(slope = 1, intercept = 0)\n",
    "\n",
    "roc_plot"
   ]
  },
  {
   "cell_type": "code",
   "execution_count": 162,
   "id": "e8fbade7-3b00-492d-9c39-f8b3a4ccecd0",
   "metadata": {},
   "outputs": [
    {
     "data": {
      "text/html": [
       "<strong>png:</strong> 2"
      ],
      "text/latex": [
       "\\textbf{png:} 2"
      ],
      "text/markdown": [
       "**png:** 2"
      ],
      "text/plain": [
       "png \n",
       "  2 "
      ]
     },
     "metadata": {},
     "output_type": "display_data"
    }
   ],
   "source": [
    "pdf(paste0('figures/Final_Figures/', figure_name, version, '.pdf'), width =width_par, height =height_par)\n",
    "print(roc_plot)\n",
    "dev.off()"
   ]
  },
  {
   "cell_type": "code",
   "execution_count": null,
   "id": "01a28281-5c42-490a-9702-2f4418b3fe9f",
   "metadata": {},
   "outputs": [],
   "source": []
  },
  {
   "cell_type": "code",
   "execution_count": null,
   "id": "9437a339-da84-42ef-9182-6688fc04695a",
   "metadata": {},
   "outputs": [],
   "source": []
  }
 ],
 "metadata": {
  "kernelspec": {
   "display_name": "R",
   "language": "R",
   "name": "ir"
  },
  "language_info": {
   "codemirror_mode": "r",
   "file_extension": ".r",
   "mimetype": "text/x-r-source",
   "name": "R",
   "pygments_lexer": "r",
   "version": "4.1.1"
  },
  "toc-autonumbering": true
 },
 "nbformat": 4,
 "nbformat_minor": 5
}

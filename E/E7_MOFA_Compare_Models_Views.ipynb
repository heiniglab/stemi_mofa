{
 "cells": [
  {
   "cell_type": "code",
   "execution_count": 58,
   "id": "d182c426-4d95-4dee-a099-cd923e9437d7",
   "metadata": {
    "tags": []
   },
   "outputs": [],
   "source": [
    "### Script to compare results of weighted and unweighted MOFA version"
   ]
  },
  {
   "cell_type": "markdown",
   "id": "213d69de-4705-4a6e-9387-b1a3413172eb",
   "metadata": {
    "jp-MarkdownHeadingCollapsed": true,
    "tags": []
   },
   "source": [
    "#############################################\n",
    "# Prerequisites - Load Libraries"
   ]
  },
  {
   "cell_type": "code",
   "execution_count": 59,
   "id": "9957e32b-eaec-4762-95cd-e089cc1cdc60",
   "metadata": {
    "tags": []
   },
   "outputs": [
    {
     "name": "stderr",
     "output_type": "stream",
     "text": [
      "Warning message in read.table(file = file, header = header, sep = sep, quote = quote, :\n",
      "“incomplete final line found by readTableHeader on '../conda_environment/Environment_Configs.csv'”\n"
     ]
    },
    {
     "name": "stdout",
     "output_type": "stream",
     "text": [
      "[1] \"/home/icb/corinna.losert/miniconda3/envs/stark_stemi_R_Env_4_1//lib/R/library\"\n"
     ]
    }
   ],
   "source": [
    "source('MS0_Libraries.r')"
   ]
  },
  {
   "cell_type": "code",
   "execution_count": 60,
   "id": "45fcc655-2176-406c-9f49-5e5b9379a275",
   "metadata": {
    "tags": []
   },
   "outputs": [],
   "source": [
    "source('MS4_Plot_Config.r')"
   ]
  },
  {
   "cell_type": "markdown",
   "id": "9d409d14-a693-4722-9648-4b6bacb4b74a",
   "metadata": {
    "tags": []
   },
   "source": [
    "###############################################\n",
    "# Preqrequisites Configurations & Parameters"
   ]
  },
  {
   "cell_type": "code",
   "execution_count": 61,
   "id": "b64f1c5a-3b86-4251-81a1-96a6ee9ae377",
   "metadata": {},
   "outputs": [],
   "source": [
    "data_path = '../data/current'"
   ]
  },
  {
   "cell_type": "code",
   "execution_count": 62,
   "id": "22415b81-130b-4ded-9fde-52c2865e4d34",
   "metadata": {},
   "outputs": [],
   "source": [
    "result_path ='../results/current'"
   ]
  },
  {
   "cell_type": "code",
   "execution_count": 63,
   "id": "2053c61d-7637-4283-97e8-abb76dfc1a8b",
   "metadata": {},
   "outputs": [
    {
     "data": {
      "text/html": [
       "'../data/current'"
      ],
      "text/latex": [
       "'../data/current'"
      ],
      "text/markdown": [
       "'../data/current'"
      ],
      "text/plain": [
       "[1] \"../data/current\""
      ]
     },
     "metadata": {},
     "output_type": "display_data"
    }
   ],
   "source": [
    "data_path"
   ]
  },
  {
   "cell_type": "code",
   "execution_count": 64,
   "id": "17c51dce-9c0d-4c0a-bbb1-6015d1743d4f",
   "metadata": {},
   "outputs": [],
   "source": [
    "name = 'V_FINAL_INTEGRATED'  # name of dataset to load"
   ]
  },
  {
   "cell_type": "markdown",
   "id": "43e2937f-4e6d-4e90-99f2-2f7c370f9639",
   "metadata": {
    "tags": []
   },
   "source": [
    "# Load Data "
   ]
  },
  {
   "cell_type": "markdown",
   "id": "88abd130-f8c6-43de-940d-b7230793cfe7",
   "metadata": {
    "tags": []
   },
   "source": [
    "## MOFA Models"
   ]
  },
  {
   "cell_type": "code",
   "execution_count": 65,
   "id": "76aafbef-5e1a-4eec-9a83-d233af19eb90",
   "metadata": {},
   "outputs": [],
   "source": [
    "model_names = c('MOFA_MODELV_FINAL_INTEGRATED-FALSE', 'MOFA_MODELV_FINAL_INTEGRATED-TRUE') # define weighted and unweighted model names"
   ]
  },
  {
   "cell_type": "code",
   "execution_count": 66,
   "id": "ae86bac8-0c97-422d-b18e-826090b88742",
   "metadata": {},
   "outputs": [],
   "source": [
    "model_list = list()"
   ]
  },
  {
   "cell_type": "code",
   "execution_count": 67,
   "id": "91194f8b-9574-470c-81a9-27852a97923d",
   "metadata": {
    "tags": []
   },
   "outputs": [
    {
     "name": "stderr",
     "output_type": "stream",
     "text": [
      "Loading data...\n",
      "\n",
      "Loading expectations for 2 nodes...\n",
      "\n",
      "Loading model options...\n",
      "\n",
      "Loading training options and statistics...\n",
      "\n",
      "Assigning names to the different dimensions...\n",
      "\n",
      "Re-ordering factors by their variance explained...\n",
      "\n",
      "Doing quality control...\n",
      "\n",
      "Checking views names...\n",
      "\n",
      "Checking groups names...\n",
      "\n",
      "Checking samples names...\n",
      "\n",
      "Checking features names...\n",
      "\n",
      "Checking dimensions...\n",
      "\n",
      "Checking there are no features with complete missing values...\n",
      "\n",
      "Checking sample covariates...\n",
      "\n",
      "Checking expectations...\n",
      "\n",
      "Checking for intercept factors...\n",
      "\n",
      "Warning message in .quality_control(object, verbose = verbose):\n",
      "“Factor(s) 9, 12, 17 are strongly correlated with the total number of expressed features for at least one of your omics. Such factors appear when there are differences in the total 'levels' between your samples, *sometimes* because of poor normalisation in the preprocessing steps.\n",
      "”\n",
      "Checking for highly correlated factors...\n",
      "\n",
      "Loading data...\n",
      "\n",
      "Loading expectations for 2 nodes...\n",
      "\n",
      "Loading model options...\n",
      "\n",
      "Loading training options and statistics...\n",
      "\n",
      "Assigning names to the different dimensions...\n",
      "\n",
      "Re-ordering factors by their variance explained...\n",
      "\n",
      "Doing quality control...\n",
      "\n",
      "Checking views names...\n",
      "\n",
      "Checking groups names...\n",
      "\n",
      "Checking samples names...\n",
      "\n",
      "Checking features names...\n",
      "\n",
      "Checking dimensions...\n",
      "\n",
      "Checking there are no features with complete missing values...\n",
      "\n",
      "Checking sample covariates...\n",
      "\n",
      "Checking expectations...\n",
      "\n",
      "Checking for intercept factors...\n",
      "\n",
      "Warning message in .quality_control(object, verbose = verbose):\n",
      "“Factor(s) 1, 12, 13, 15 are strongly correlated with the total number of expressed features for at least one of your omics. Such factors appear when there are differences in the total 'levels' between your samples, *sometimes* because of poor normalisation in the preprocessing steps.\n",
      "”\n",
      "Checking for highly correlated factors...\n",
      "\n"
     ]
    }
   ],
   "source": [
    "for(i in model_names){\n",
    "    model_name = paste0(i, '.hdf5') # added number of factors in review to test different \n",
    "    outfile = file.path( paste0(result_path, '/E-Analysis/',  model_name) )\n",
    "    model_list[[as.character(i)]] <- load_model(outfile, verbose = TRUE)\n",
    "    }"
   ]
  },
  {
   "cell_type": "code",
   "execution_count": 68,
   "id": "46e2cdd1-8ce7-421c-945f-cecac31bd0b5",
   "metadata": {},
   "outputs": [],
   "source": [
    "#str(model_list)"
   ]
  },
  {
   "cell_type": "code",
   "execution_count": null,
   "id": "8ca12e8e-b4f4-4f6f-9c09-3e83e2b0ef34",
   "metadata": {},
   "outputs": [],
   "source": []
  },
  {
   "cell_type": "markdown",
   "id": "d082fa98-ad4a-46ec-90e5-2da19dd6e84a",
   "metadata": {
    "tags": []
   },
   "source": [
    "## Prepared combined data"
   ]
  },
  {
   "cell_type": "code",
   "execution_count": 69,
   "id": "17a9bed4-c561-4cb6-ada9-5f70f42a1011",
   "metadata": {},
   "outputs": [
    {
     "name": "stdout",
     "output_type": "stream",
     "text": [
      "[1] \"2024-01-03 14:26:41 CET\"\n"
     ]
    }
   ],
   "source": [
    "path = paste0(result_path, '/E-Analysis/Combined_Data_',name,'.csv')\n",
    "data_long = read.csv(path)\n",
    "print(file.info(path)$mtime)"
   ]
  },
  {
   "cell_type": "code",
   "execution_count": 70,
   "id": "282702dc-4b09-4107-b9ec-56330758a0a4",
   "metadata": {},
   "outputs": [
    {
     "data": {
      "text/html": [
       "<table class=\"dataframe\">\n",
       "<caption>A data.frame: 2 × 5</caption>\n",
       "<thead>\n",
       "\t<tr><th></th><th scope=col>X</th><th scope=col>sample_id</th><th scope=col>variable</th><th scope=col>value</th><th scope=col>type</th></tr>\n",
       "\t<tr><th></th><th scope=col>&lt;int&gt;</th><th scope=col>&lt;chr&gt;</th><th scope=col>&lt;chr&gt;</th><th scope=col>&lt;dbl&gt;</th><th scope=col>&lt;chr&gt;</th></tr>\n",
       "</thead>\n",
       "<tbody>\n",
       "\t<tr><th scope=row>1</th><td>1</td><td>k1 </td><td>CK</td><td>-2.397022</td><td>clinical_data</td></tr>\n",
       "\t<tr><th scope=row>2</th><td>2</td><td>k10</td><td>CK</td><td>       NA</td><td>clinical_data</td></tr>\n",
       "</tbody>\n",
       "</table>\n"
      ],
      "text/latex": [
       "A data.frame: 2 × 5\n",
       "\\begin{tabular}{r|lllll}\n",
       "  & X & sample\\_id & variable & value & type\\\\\n",
       "  & <int> & <chr> & <chr> & <dbl> & <chr>\\\\\n",
       "\\hline\n",
       "\t1 & 1 & k1  & CK & -2.397022 & clinical\\_data\\\\\n",
       "\t2 & 2 & k10 & CK &        NA & clinical\\_data\\\\\n",
       "\\end{tabular}\n"
      ],
      "text/markdown": [
       "\n",
       "A data.frame: 2 × 5\n",
       "\n",
       "| <!--/--> | X &lt;int&gt; | sample_id &lt;chr&gt; | variable &lt;chr&gt; | value &lt;dbl&gt; | type &lt;chr&gt; |\n",
       "|---|---|---|---|---|---|\n",
       "| 1 | 1 | k1  | CK | -2.397022 | clinical_data |\n",
       "| 2 | 2 | k10 | CK |        NA | clinical_data |\n",
       "\n"
      ],
      "text/plain": [
       "  X sample_id variable value     type         \n",
       "1 1 k1        CK       -2.397022 clinical_data\n",
       "2 2 k10       CK              NA clinical_data"
      ]
     },
     "metadata": {},
     "output_type": "display_data"
    }
   ],
   "source": [
    "head(data_long,2)"
   ]
  },
  {
   "cell_type": "code",
   "execution_count": 71,
   "id": "b3781d69-ceb7-4eec-b655-5a93bd7eeb33",
   "metadata": {},
   "outputs": [],
   "source": [
    "#data_long[data_long$sample_id == 'm6.1',]"
   ]
  },
  {
   "cell_type": "code",
   "execution_count": 72,
   "id": "2d408808-8578-4e39-b67e-6f8aac321600",
   "metadata": {},
   "outputs": [],
   "source": [
    "data_long$X = NULL"
   ]
  },
  {
   "cell_type": "code",
   "execution_count": 73,
   "id": "629f92dc-d03d-424d-a6de-8447864c1dd6",
   "metadata": {},
   "outputs": [
    {
     "name": "stderr",
     "output_type": "stream",
     "text": [
      "\u001b[1m\u001b[22m`summarise()` has grouped output by 'variable'. You can override using the\n",
      "`.groups` argument.\n"
     ]
    }
   ],
   "source": [
    "data_distribution = data_long %>% group_by(variable, type) %>% summarise(mean_val = mean(value, na.rm = TRUE), var_val = var(value, na.rm = TRUE))"
   ]
  },
  {
   "cell_type": "code",
   "execution_count": null,
   "id": "41c78a99-3508-4bb3-b453-6bcd11902dbf",
   "metadata": {},
   "outputs": [],
   "source": []
  },
  {
   "cell_type": "markdown",
   "id": "1385d8a3-c030-45e4-92d6-7e71e9450bb6",
   "metadata": {
    "tags": []
   },
   "source": [
    "# Downstream Analysis of generated models"
   ]
  },
  {
   "cell_type": "markdown",
   "id": "ffbe87b9-ed6b-420b-b46d-18e07942a912",
   "metadata": {},
   "source": [
    "## Compare total explained variance"
   ]
  },
  {
   "cell_type": "code",
   "execution_count": 74,
   "id": "f22b7b71-9277-4ce3-89fc-90f6cc7eeee2",
   "metadata": {},
   "outputs": [
    {
     "data": {
      "text/html": [
       "<dl>\n",
       "\t<dt>$`MOFA_MODELV_FINAL_INTEGRATED-FALSE`</dt>\n",
       "\t\t<dd>35.7461964551804</dd>\n",
       "\t<dt>$`MOFA_MODELV_FINAL_INTEGRATED-TRUE`</dt>\n",
       "\t\t<dd>35.7085880481751</dd>\n",
       "</dl>\n"
      ],
      "text/latex": [
       "\\begin{description}\n",
       "\\item[\\$`MOFA\\_MODELV\\_FINAL\\_INTEGRATED-FALSE`] 35.7461964551804\n",
       "\\item[\\$`MOFA\\_MODELV\\_FINAL\\_INTEGRATED-TRUE`] 35.7085880481751\n",
       "\\end{description}\n"
      ],
      "text/markdown": [
       "$`MOFA_MODELV_FINAL_INTEGRATED-FALSE`\n",
       ":   35.7461964551804\n",
       "$`MOFA_MODELV_FINAL_INTEGRATED-TRUE`\n",
       ":   35.7085880481751\n",
       "\n",
       "\n"
      ],
      "text/plain": [
       "$`MOFA_MODELV_FINAL_INTEGRATED-FALSE`\n",
       "[1] 35.7462\n",
       "\n",
       "$`MOFA_MODELV_FINAL_INTEGRATED-TRUE`\n",
       "[1] 35.70859\n"
      ]
     },
     "metadata": {},
     "output_type": "display_data"
    }
   ],
   "source": [
    "lapply(model_list, function(x){\n",
    "    mean(x@cache$variance_explained$r2_total[[1]])\n",
    "    })\n",
    "### 20 Factor model used: 35.7461964551804   "
   ]
  },
  {
   "cell_type": "code",
   "execution_count": 75,
   "id": "faffce2a-6273-4c24-84c2-81899e5333fa",
   "metadata": {},
   "outputs": [],
   "source": [
    "### compare explained variance per view"
   ]
  },
  {
   "cell_type": "code",
   "execution_count": 76,
   "id": "b19d7a73-b508-4321-8b01-2f35592204bc",
   "metadata": {},
   "outputs": [],
   "source": [
    "var_explained_per_view = lapply(model_list, function(x){\n",
    "    x@cache[[\"variance_explained\"]]$r2_total\n",
    "    })"
   ]
  },
  {
   "cell_type": "code",
   "execution_count": 77,
   "id": "38910ba9-eca5-4caf-a4f7-3e4098742ce1",
   "metadata": {},
   "outputs": [],
   "source": [
    "var_explained_per_view_data = data.frame()\n",
    "\n",
    "for(i in names(var_explained_per_view)){\n",
    "    data = var_explained_per_view[[i]]$group1\n",
    "    data = as.data.frame(data)\n",
    "    data$view = rownames(data)\n",
    "    data$amount_factors = i\n",
    "    \n",
    "    var_explained_per_view_data = rbind(data, var_explained_per_view_data)\n",
    "    }"
   ]
  },
  {
   "cell_type": "code",
   "execution_count": 78,
   "id": "f4eb73df-0d0d-4f69-8b21-c0eb91b289c4",
   "metadata": {},
   "outputs": [
    {
     "data": {
      "text/html": [
       "<table class=\"dataframe\">\n",
       "<caption>A data.frame: 2 × 3</caption>\n",
       "<thead>\n",
       "\t<tr><th></th><th scope=col>data</th><th scope=col>view</th><th scope=col>amount_factors</th></tr>\n",
       "\t<tr><th></th><th scope=col>&lt;dbl&gt;</th><th scope=col>&lt;chr&gt;</th><th scope=col>&lt;chr&gt;</th></tr>\n",
       "</thead>\n",
       "<tbody>\n",
       "\t<tr><th scope=row>clinical_data</th><td>100.00000</td><td>clinical_data</td><td>MOFA_MODELV_FINAL_INTEGRATED-TRUE</td></tr>\n",
       "\t<tr><th scope=row>cytokine</th><td> 51.86949</td><td>cytokine     </td><td>MOFA_MODELV_FINAL_INTEGRATED-TRUE</td></tr>\n",
       "</tbody>\n",
       "</table>\n"
      ],
      "text/latex": [
       "A data.frame: 2 × 3\n",
       "\\begin{tabular}{r|lll}\n",
       "  & data & view & amount\\_factors\\\\\n",
       "  & <dbl> & <chr> & <chr>\\\\\n",
       "\\hline\n",
       "\tclinical\\_data & 100.00000 & clinical\\_data & MOFA\\_MODELV\\_FINAL\\_INTEGRATED-TRUE\\\\\n",
       "\tcytokine &  51.86949 & cytokine      & MOFA\\_MODELV\\_FINAL\\_INTEGRATED-TRUE\\\\\n",
       "\\end{tabular}\n"
      ],
      "text/markdown": [
       "\n",
       "A data.frame: 2 × 3\n",
       "\n",
       "| <!--/--> | data &lt;dbl&gt; | view &lt;chr&gt; | amount_factors &lt;chr&gt; |\n",
       "|---|---|---|---|\n",
       "| clinical_data | 100.00000 | clinical_data | MOFA_MODELV_FINAL_INTEGRATED-TRUE |\n",
       "| cytokine |  51.86949 | cytokine      | MOFA_MODELV_FINAL_INTEGRATED-TRUE |\n",
       "\n"
      ],
      "text/plain": [
       "              data      view          amount_factors                   \n",
       "clinical_data 100.00000 clinical_data MOFA_MODELV_FINAL_INTEGRATED-TRUE\n",
       "cytokine       51.86949 cytokine      MOFA_MODELV_FINAL_INTEGRATED-TRUE"
      ]
     },
     "metadata": {},
     "output_type": "display_data"
    }
   ],
   "source": [
    "head(var_explained_per_view_data,2)"
   ]
  },
  {
   "cell_type": "code",
   "execution_count": 79,
   "id": "f09c1733-48e6-4d27-aa98-c51ca6fedd3b",
   "metadata": {},
   "outputs": [],
   "source": [
    "### adjust view naming\n",
    "var_explained_per_view_data$view = str_replace(var_explained_per_view_data$view, 'X0_TcellCD4', 'CD4+ T cells (Cluster 0)')\n",
    "var_explained_per_view_data$view = str_replace(var_explained_per_view_data$view, 'clinical_data', 'Clinical')\n",
    "var_explained_per_view_data$view = str_replace(var_explained_per_view_data$view, 'X1_TcellCD8', 'CD8+ T cells (Cluster 1)')\n",
    "var_explained_per_view_data$view = str_replace(var_explained_per_view_data$view, 'X10_Bcell', 'B cells (Cluster 10)')\n",
    "var_explained_per_view_data$view = str_replace(var_explained_per_view_data$view, 'X11_TcellCD4', 'CD4+ T cells (Cluster 11)')\n",
    "var_explained_per_view_data$view = str_replace(var_explained_per_view_data$view, 'X12_MonocytesCD16_FCGR3A', 'FCGR3A(high) Monocytes (Cluster 12)')\n",
    "var_explained_per_view_data$view = str_replace(var_explained_per_view_data$view, 'X13_Dendritic', 'Dendritic cells (Cluster 13)')\n",
    "var_explained_per_view_data$view = str_replace(var_explained_per_view_data$view, 'X2_TcellCD4', 'CD4+ T cells (Cluster 2)')\n",
    "var_explained_per_view_data$view = str_replace(var_explained_per_view_data$view, 'X3_NK', 'NK cells (Cluster 3)')\n",
    "var_explained_per_view_data$view = str_replace(var_explained_per_view_data$view, 'X4_MonocytesCD14', 'CD14(high) Monocytes (Cluster 4)')\n",
    "var_explained_per_view_data$view = str_replace(var_explained_per_view_data$view, 'X5_TcellCD4', 'CD4+ T cells (Cluster 5)')\n",
    "var_explained_per_view_data$view = str_replace(var_explained_per_view_data$view, 'X6_MonocytesCD14', 'CD14(high) Monocytes (Cluster 6)')\n",
    "var_explained_per_view_data$view = str_replace(var_explained_per_view_data$view, 'X7_MonocytesCD14', 'CD14(high) Monocytes (Cluster 7)')\n",
    "var_explained_per_view_data$view = str_replace(var_explained_per_view_data$view, 'X8_Bcell','B cells (Cluster 8)')\n",
    "var_explained_per_view_data$view = str_replace(var_explained_per_view_data$view, 'X9_MonocytesCD16_FCGR3A','FCGR3A(high) Monocytes (Cluster 9)')\n",
    "\n",
    "\n",
    "var_explained_per_view_data$view = str_replace(var_explained_per_view_data$view, 'clinical','Clinical')\n",
    "var_explained_per_view_data$view = str_replace(var_explained_per_view_data$view, 'cytokine','Cytokine')\n",
    "var_explained_per_view_data$view = str_replace(var_explained_per_view_data$view, 'neutrophil','Neutrophil')\n",
    "var_explained_per_view_data$view = str_replace(var_explained_per_view_data$view, 'proteomics','Proteomics')"
   ]
  },
  {
   "cell_type": "code",
   "execution_count": null,
   "id": "5efae6e4-6c30-49ff-ade9-ddfeb2eae744",
   "metadata": {},
   "outputs": [],
   "source": []
  },
  {
   "cell_type": "code",
   "execution_count": null,
   "id": "82f94ed2-9fa6-4594-be8d-7c1fe7981489",
   "metadata": {},
   "outputs": [],
   "source": []
  },
  {
   "cell_type": "code",
   "execution_count": null,
   "id": "c2e15cbf-1326-4687-9783-9f3a8707cb83",
   "metadata": {},
   "outputs": [],
   "source": []
  },
  {
   "cell_type": "code",
   "execution_count": 80,
   "id": "4df92b1c-1932-4feb-8389-e9a9fa2b5be7",
   "metadata": {},
   "outputs": [
    {
     "data": {
      "text/html": [
       "<style>\n",
       ".list-inline {list-style: none; margin:0; padding: 0}\n",
       ".list-inline>li {display: inline-block}\n",
       ".list-inline>li:not(:last-child)::after {content: \"\\00b7\"; padding: 0 .5ex}\n",
       "</style>\n",
       "<ol class=list-inline><li>'MOFA_MODELV_FINAL_INTEGRATED-TRUE'</li><li>'MOFA_MODELV_FINAL_INTEGRATED-FALSE'</li></ol>\n"
      ],
      "text/latex": [
       "\\begin{enumerate*}\n",
       "\\item 'MOFA\\_MODELV\\_FINAL\\_INTEGRATED-TRUE'\n",
       "\\item 'MOFA\\_MODELV\\_FINAL\\_INTEGRATED-FALSE'\n",
       "\\end{enumerate*}\n"
      ],
      "text/markdown": [
       "1. 'MOFA_MODELV_FINAL_INTEGRATED-TRUE'\n",
       "2. 'MOFA_MODELV_FINAL_INTEGRATED-FALSE'\n",
       "\n",
       "\n"
      ],
      "text/plain": [
       "[1] \"MOFA_MODELV_FINAL_INTEGRATED-TRUE\"  \"MOFA_MODELV_FINAL_INTEGRATED-FALSE\""
      ]
     },
     "metadata": {},
     "output_type": "display_data"
    }
   ],
   "source": [
    "unique(var_explained_per_view_data$amount_factors)"
   ]
  },
  {
   "cell_type": "code",
   "execution_count": 81,
   "id": "e538cc70-53a3-4593-89a3-f2ebe0960752",
   "metadata": {},
   "outputs": [],
   "source": [
    "figure_name = \"REV1_Explained_Variance_Comparison_weighted\""
   ]
  },
  {
   "cell_type": "code",
   "execution_count": 82,
   "id": "ebdb3adb-5eb9-45e7-ab24-656e464ee47f",
   "metadata": {},
   "outputs": [],
   "source": [
    "# Sizes of the plot\n",
    "width_par = 8\n",
    "height_par = 3.5"
   ]
  },
  {
   "cell_type": "code",
   "execution_count": 83,
   "id": "d07ad29c-f4fc-4ae2-af80-27ddf57b7bcb",
   "metadata": {},
   "outputs": [
    {
     "data": {
      "text/html": [
       "<strong>png:</strong> 2"
      ],
      "text/latex": [
       "\\textbf{png:} 2"
      ],
      "text/markdown": [
       "**png:** 2"
      ],
      "text/plain": [
       "png \n",
       "  2 "
      ]
     },
     "metadata": {},
     "output_type": "display_data"
    }
   ],
   "source": [
    "g = ggplot(var_explained_per_view_data, aes(x=view, y=data, fill=amount_factors)) + \n",
    "    geom_bar(position=\"dodge\", stat=\"identity\") + ylab('amount_explained_variance') + plot_config + coord_flip() + ylab('Explained Variance') +\n",
    "       scale_fill_discrete(labels=c('MOFA Model (not weighted)', 'MOFA Model (weighted)'))\n",
    "\n",
    "\n",
    "pdf(paste0('figures/Review_Figures/', figure_name, name, '.pdf'), width =width_par, height =height_par)\n",
    "print(g)\n",
    "dev.off()"
   ]
  },
  {
   "cell_type": "markdown",
   "id": "65fdb732-279e-408d-9ac9-72da42a0dcc8",
   "metadata": {},
   "source": [
    "## Compare factor weights of samples"
   ]
  },
  {
   "cell_type": "code",
   "execution_count": 84,
   "id": "305cf7ce-5691-4fcd-9da7-8d3b8ce26709",
   "metadata": {},
   "outputs": [],
   "source": [
    "factor_weights = lapply(model_list, function(x){\n",
    "    get_factors(x, factors = 'all')$group1\n",
    "    })"
   ]
  },
  {
   "cell_type": "code",
   "execution_count": 85,
   "id": "1685281f-3e56-4db3-a409-e70713736b78",
   "metadata": {},
   "outputs": [
    {
     "name": "stderr",
     "output_type": "stream",
     "text": [
      "Using version, sample as id variables\n",
      "\n",
      "Using version, sample as id variables\n",
      "\n"
     ]
    }
   ],
   "source": [
    "factor_weight_data = data.frame()\n",
    "\n",
    "for(i in names(factor_weights)){\n",
    "    data = factor_weights[[i]]\n",
    "    data = as.data.frame(data)\n",
    "    data$version = i\n",
    "    data$sample = rownames(data)\n",
    "    data = melt(data)\n",
    "    factor_weight_data = rbind(data, factor_weight_data)\n",
    "    }"
   ]
  },
  {
   "cell_type": "code",
   "execution_count": 86,
   "id": "61a01d9f-887c-45a2-9382-ae06fe617ee9",
   "metadata": {},
   "outputs": [],
   "source": [
    "factor_weight_data$version = paste0(factor_weight_data$variable, '_', str_replace(factor_weight_data$version, 'MOFA_MODELV_FINAL_INTEGRATED', ''))"
   ]
  },
  {
   "cell_type": "code",
   "execution_count": 87,
   "id": "702489ae-b09f-4f17-966f-eb4f30fdaaea",
   "metadata": {},
   "outputs": [],
   "source": [
    "factor_weight_data$version = str_replace(factor_weight_data$version, '-TRUE', 'weighted')\n",
    "factor_weight_data$version = str_replace(factor_weight_data$version, '-FALSE', 'unweighted')"
   ]
  },
  {
   "cell_type": "code",
   "execution_count": 88,
   "id": "70d313f9-ad4f-4e8c-993e-ff11b7e3bdf9",
   "metadata": {},
   "outputs": [
    {
     "data": {
      "text/html": [
       "<table class=\"dataframe\">\n",
       "<caption>A data.frame: 2 × 4</caption>\n",
       "<thead>\n",
       "\t<tr><th></th><th scope=col>version</th><th scope=col>sample</th><th scope=col>variable</th><th scope=col>value</th></tr>\n",
       "\t<tr><th></th><th scope=col>&lt;chr&gt;</th><th scope=col>&lt;chr&gt;</th><th scope=col>&lt;fct&gt;</th><th scope=col>&lt;dbl&gt;</th></tr>\n",
       "</thead>\n",
       "<tbody>\n",
       "\t<tr><th scope=row>1</th><td>Factor1_weighted</td><td>k1 </td><td>Factor1</td><td>-2.4794987</td></tr>\n",
       "\t<tr><th scope=row>2</th><td>Factor1_weighted</td><td>k10</td><td>Factor1</td><td>-0.6867466</td></tr>\n",
       "</tbody>\n",
       "</table>\n"
      ],
      "text/latex": [
       "A data.frame: 2 × 4\n",
       "\\begin{tabular}{r|llll}\n",
       "  & version & sample & variable & value\\\\\n",
       "  & <chr> & <chr> & <fct> & <dbl>\\\\\n",
       "\\hline\n",
       "\t1 & Factor1\\_weighted & k1  & Factor1 & -2.4794987\\\\\n",
       "\t2 & Factor1\\_weighted & k10 & Factor1 & -0.6867466\\\\\n",
       "\\end{tabular}\n"
      ],
      "text/markdown": [
       "\n",
       "A data.frame: 2 × 4\n",
       "\n",
       "| <!--/--> | version &lt;chr&gt; | sample &lt;chr&gt; | variable &lt;fct&gt; | value &lt;dbl&gt; |\n",
       "|---|---|---|---|---|\n",
       "| 1 | Factor1_weighted | k1  | Factor1 | -2.4794987 |\n",
       "| 2 | Factor1_weighted | k10 | Factor1 | -0.6867466 |\n",
       "\n"
      ],
      "text/plain": [
       "  version          sample variable value     \n",
       "1 Factor1_weighted k1     Factor1  -2.4794987\n",
       "2 Factor1_weighted k10    Factor1  -0.6867466"
      ]
     },
     "metadata": {},
     "output_type": "display_data"
    }
   ],
   "source": [
    "head(factor_weight_data,2)"
   ]
  },
  {
   "cell_type": "code",
   "execution_count": 89,
   "id": "5e0c96dc-b111-4f4a-9c9a-be1906ed30b5",
   "metadata": {},
   "outputs": [],
   "source": [
    "factor_weight_data = factor_weight_data[factor_weight_data$variable %in% c('Factor1', 'Factor2', 'Factor3', 'Factor4', 'Factor5'),]"
   ]
  },
  {
   "cell_type": "code",
   "execution_count": 90,
   "id": "ab78239c-401f-43dc-9ac5-6fb0a6bb3f68",
   "metadata": {},
   "outputs": [],
   "source": [
    "cor_data = factor_weight_data %>% dcast(sample ~ version, value.var = 'value')"
   ]
  },
  {
   "cell_type": "code",
   "execution_count": 91,
   "id": "c0cbe60c-c2f7-45dc-9c1a-56ac9a0373da",
   "metadata": {},
   "outputs": [
    {
     "data": {
      "text/html": [
       "<table class=\"dataframe\">\n",
       "<caption>A data.frame: 2 × 11</caption>\n",
       "<thead>\n",
       "\t<tr><th></th><th scope=col>sample</th><th scope=col>Factor1_unweighted</th><th scope=col>Factor1_weighted</th><th scope=col>Factor2_unweighted</th><th scope=col>Factor2_weighted</th><th scope=col>Factor3_unweighted</th><th scope=col>Factor3_weighted</th><th scope=col>Factor4_unweighted</th><th scope=col>Factor4_weighted</th><th scope=col>Factor5_unweighted</th><th scope=col>Factor5_weighted</th></tr>\n",
       "\t<tr><th></th><th scope=col>&lt;chr&gt;</th><th scope=col>&lt;dbl&gt;</th><th scope=col>&lt;dbl&gt;</th><th scope=col>&lt;dbl&gt;</th><th scope=col>&lt;dbl&gt;</th><th scope=col>&lt;dbl&gt;</th><th scope=col>&lt;dbl&gt;</th><th scope=col>&lt;dbl&gt;</th><th scope=col>&lt;dbl&gt;</th><th scope=col>&lt;dbl&gt;</th><th scope=col>&lt;dbl&gt;</th></tr>\n",
       "</thead>\n",
       "<tbody>\n",
       "\t<tr><th scope=row>1</th><td>k1 </td><td>0.4811325</td><td>-2.4794987</td><td>-0.2731317</td><td>0.8378216</td><td>1.4988169</td><td>0.33267886</td><td>-0.4135678</td><td>-0.6309334</td><td>1.5052706</td><td>-0.2883881</td></tr>\n",
       "\t<tr><th scope=row>2</th><td>k10</td><td>0.8920603</td><td>-0.6867466</td><td>-0.7547770</td><td>1.0746178</td><td>0.3501023</td><td>0.05404922</td><td>-0.1524478</td><td>-0.6387937</td><td>0.4074517</td><td>-1.7110773</td></tr>\n",
       "</tbody>\n",
       "</table>\n"
      ],
      "text/latex": [
       "A data.frame: 2 × 11\n",
       "\\begin{tabular}{r|lllllllllll}\n",
       "  & sample & Factor1\\_unweighted & Factor1\\_weighted & Factor2\\_unweighted & Factor2\\_weighted & Factor3\\_unweighted & Factor3\\_weighted & Factor4\\_unweighted & Factor4\\_weighted & Factor5\\_unweighted & Factor5\\_weighted\\\\\n",
       "  & <chr> & <dbl> & <dbl> & <dbl> & <dbl> & <dbl> & <dbl> & <dbl> & <dbl> & <dbl> & <dbl>\\\\\n",
       "\\hline\n",
       "\t1 & k1  & 0.4811325 & -2.4794987 & -0.2731317 & 0.8378216 & 1.4988169 & 0.33267886 & -0.4135678 & -0.6309334 & 1.5052706 & -0.2883881\\\\\n",
       "\t2 & k10 & 0.8920603 & -0.6867466 & -0.7547770 & 1.0746178 & 0.3501023 & 0.05404922 & -0.1524478 & -0.6387937 & 0.4074517 & -1.7110773\\\\\n",
       "\\end{tabular}\n"
      ],
      "text/markdown": [
       "\n",
       "A data.frame: 2 × 11\n",
       "\n",
       "| <!--/--> | sample &lt;chr&gt; | Factor1_unweighted &lt;dbl&gt; | Factor1_weighted &lt;dbl&gt; | Factor2_unweighted &lt;dbl&gt; | Factor2_weighted &lt;dbl&gt; | Factor3_unweighted &lt;dbl&gt; | Factor3_weighted &lt;dbl&gt; | Factor4_unweighted &lt;dbl&gt; | Factor4_weighted &lt;dbl&gt; | Factor5_unweighted &lt;dbl&gt; | Factor5_weighted &lt;dbl&gt; |\n",
       "|---|---|---|---|---|---|---|---|---|---|---|---|\n",
       "| 1 | k1  | 0.4811325 | -2.4794987 | -0.2731317 | 0.8378216 | 1.4988169 | 0.33267886 | -0.4135678 | -0.6309334 | 1.5052706 | -0.2883881 |\n",
       "| 2 | k10 | 0.8920603 | -0.6867466 | -0.7547770 | 1.0746178 | 0.3501023 | 0.05404922 | -0.1524478 | -0.6387937 | 0.4074517 | -1.7110773 |\n",
       "\n"
      ],
      "text/plain": [
       "  sample Factor1_unweighted Factor1_weighted Factor2_unweighted\n",
       "1 k1     0.4811325          -2.4794987       -0.2731317        \n",
       "2 k10    0.8920603          -0.6867466       -0.7547770        \n",
       "  Factor2_weighted Factor3_unweighted Factor3_weighted Factor4_unweighted\n",
       "1 0.8378216        1.4988169          0.33267886       -0.4135678        \n",
       "2 1.0746178        0.3501023          0.05404922       -0.1524478        \n",
       "  Factor4_weighted Factor5_unweighted Factor5_weighted\n",
       "1 -0.6309334       1.5052706          -0.2883881      \n",
       "2 -0.6387937       0.4074517          -1.7110773      "
      ]
     },
     "metadata": {},
     "output_type": "display_data"
    }
   ],
   "source": [
    "head(cor_data,2)"
   ]
  },
  {
   "cell_type": "code",
   "execution_count": 92,
   "id": "7a407679-b0ea-4539-993d-c4b73ed2c37f",
   "metadata": {},
   "outputs": [],
   "source": [
    "cor_data$sample = NULL\n",
    "correlation = cor(cor_data)"
   ]
  },
  {
   "cell_type": "code",
   "execution_count": 93,
   "id": "72eb1984-fc56-4038-ab41-6769d9c5510d",
   "metadata": {},
   "outputs": [
    {
     "data": {
      "text/html": [
       "<table class=\"dataframe\">\n",
       "<caption>A matrix: 2 × 10 of type dbl</caption>\n",
       "<thead>\n",
       "\t<tr><th></th><th scope=col>Factor1_unweighted</th><th scope=col>Factor1_weighted</th><th scope=col>Factor2_unweighted</th><th scope=col>Factor2_weighted</th><th scope=col>Factor3_unweighted</th><th scope=col>Factor3_weighted</th><th scope=col>Factor4_unweighted</th><th scope=col>Factor4_weighted</th><th scope=col>Factor5_unweighted</th><th scope=col>Factor5_weighted</th></tr>\n",
       "</thead>\n",
       "<tbody>\n",
       "\t<tr><th scope=row>Factor1_unweighted</th><td> 1.00000000</td><td>-0.02408174</td><td>-0.04058919</td><td> 0.9649882</td><td>-0.01808755</td><td>-0.03412484</td><td>-3.379073e-05</td><td>-0.07229311</td><td> 0.007509274</td><td>0.0766684</td></tr>\n",
       "\t<tr><th scope=row>Factor1_weighted</th><td>-0.02408174</td><td> 1.00000000</td><td> 0.86077776</td><td>-0.1018771</td><td>-0.03923257</td><td> 0.06228109</td><td> 5.852193e-02</td><td> 0.05451766</td><td>-0.146495613</td><td>0.2080855</td></tr>\n",
       "</tbody>\n",
       "</table>\n"
      ],
      "text/latex": [
       "A matrix: 2 × 10 of type dbl\n",
       "\\begin{tabular}{r|llllllllll}\n",
       "  & Factor1\\_unweighted & Factor1\\_weighted & Factor2\\_unweighted & Factor2\\_weighted & Factor3\\_unweighted & Factor3\\_weighted & Factor4\\_unweighted & Factor4\\_weighted & Factor5\\_unweighted & Factor5\\_weighted\\\\\n",
       "\\hline\n",
       "\tFactor1\\_unweighted &  1.00000000 & -0.02408174 & -0.04058919 &  0.9649882 & -0.01808755 & -0.03412484 & -3.379073e-05 & -0.07229311 &  0.007509274 & 0.0766684\\\\\n",
       "\tFactor1\\_weighted & -0.02408174 &  1.00000000 &  0.86077776 & -0.1018771 & -0.03923257 &  0.06228109 &  5.852193e-02 &  0.05451766 & -0.146495613 & 0.2080855\\\\\n",
       "\\end{tabular}\n"
      ],
      "text/markdown": [
       "\n",
       "A matrix: 2 × 10 of type dbl\n",
       "\n",
       "| <!--/--> | Factor1_unweighted | Factor1_weighted | Factor2_unweighted | Factor2_weighted | Factor3_unweighted | Factor3_weighted | Factor4_unweighted | Factor4_weighted | Factor5_unweighted | Factor5_weighted |\n",
       "|---|---|---|---|---|---|---|---|---|---|---|\n",
       "| Factor1_unweighted |  1.00000000 | -0.02408174 | -0.04058919 |  0.9649882 | -0.01808755 | -0.03412484 | -3.379073e-05 | -0.07229311 |  0.007509274 | 0.0766684 |\n",
       "| Factor1_weighted | -0.02408174 |  1.00000000 |  0.86077776 | -0.1018771 | -0.03923257 |  0.06228109 |  5.852193e-02 |  0.05451766 | -0.146495613 | 0.2080855 |\n",
       "\n"
      ],
      "text/plain": [
       "                   Factor1_unweighted Factor1_weighted Factor2_unweighted\n",
       "Factor1_unweighted  1.00000000        -0.02408174      -0.04058919       \n",
       "Factor1_weighted   -0.02408174         1.00000000       0.86077776       \n",
       "                   Factor2_weighted Factor3_unweighted Factor3_weighted\n",
       "Factor1_unweighted  0.9649882       -0.01808755        -0.03412484     \n",
       "Factor1_weighted   -0.1018771       -0.03923257         0.06228109     \n",
       "                   Factor4_unweighted Factor4_weighted Factor5_unweighted\n",
       "Factor1_unweighted -3.379073e-05      -0.07229311       0.007509274      \n",
       "Factor1_weighted    5.852193e-02       0.05451766      -0.146495613      \n",
       "                   Factor5_weighted\n",
       "Factor1_unweighted 0.0766684       \n",
       "Factor1_weighted   0.2080855       "
      ]
     },
     "metadata": {},
     "output_type": "display_data"
    }
   ],
   "source": [
    "head(correlation,2)"
   ]
  },
  {
   "cell_type": "code",
   "execution_count": 94,
   "id": "1c2da3ec-7253-4f76-aa0f-33119570fcd9",
   "metadata": {},
   "outputs": [],
   "source": [
    "correlation = correlation[!is.na(str_extract(rownames(correlation), 'unweighted')),]\n",
    "correlation = correlation[,is.na(str_extract(colnames(correlation), 'unweighted'))]"
   ]
  },
  {
   "cell_type": "code",
   "execution_count": 95,
   "id": "d036c14b-f108-4158-9015-388be6953e3a",
   "metadata": {},
   "outputs": [
    {
     "data": {
      "text/html": [
       "<table class=\"dataframe\">\n",
       "<caption>A matrix: 5 × 5 of type dbl</caption>\n",
       "<thead>\n",
       "\t<tr><th></th><th scope=col>Factor1_weighted</th><th scope=col>Factor2_weighted</th><th scope=col>Factor3_weighted</th><th scope=col>Factor4_weighted</th><th scope=col>Factor5_weighted</th></tr>\n",
       "</thead>\n",
       "<tbody>\n",
       "\t<tr><th scope=row>Factor1_unweighted</th><td>-0.02408174</td><td> 0.96498820</td><td>-0.03412484</td><td>-0.07229311</td><td> 0.07666840</td></tr>\n",
       "\t<tr><th scope=row>Factor2_unweighted</th><td> 0.86077776</td><td>-0.02202818</td><td> 0.17501517</td><td> 0.08445746</td><td> 0.03001498</td></tr>\n",
       "\t<tr><th scope=row>Factor3_unweighted</th><td>-0.03923257</td><td>-0.06562592</td><td> 0.80784720</td><td>-0.28370183</td><td> 0.13387094</td></tr>\n",
       "\t<tr><th scope=row>Factor4_unweighted</th><td> 0.05852193</td><td>-0.05519457</td><td> 0.24902620</td><td> 0.75146050</td><td> 0.19384986</td></tr>\n",
       "\t<tr><th scope=row>Factor5_unweighted</th><td>-0.14649561</td><td> 0.06361848</td><td>-0.06879140</td><td>-0.19657109</td><td>-0.54838552</td></tr>\n",
       "</tbody>\n",
       "</table>\n"
      ],
      "text/latex": [
       "A matrix: 5 × 5 of type dbl\n",
       "\\begin{tabular}{r|lllll}\n",
       "  & Factor1\\_weighted & Factor2\\_weighted & Factor3\\_weighted & Factor4\\_weighted & Factor5\\_weighted\\\\\n",
       "\\hline\n",
       "\tFactor1\\_unweighted & -0.02408174 &  0.96498820 & -0.03412484 & -0.07229311 &  0.07666840\\\\\n",
       "\tFactor2\\_unweighted &  0.86077776 & -0.02202818 &  0.17501517 &  0.08445746 &  0.03001498\\\\\n",
       "\tFactor3\\_unweighted & -0.03923257 & -0.06562592 &  0.80784720 & -0.28370183 &  0.13387094\\\\\n",
       "\tFactor4\\_unweighted &  0.05852193 & -0.05519457 &  0.24902620 &  0.75146050 &  0.19384986\\\\\n",
       "\tFactor5\\_unweighted & -0.14649561 &  0.06361848 & -0.06879140 & -0.19657109 & -0.54838552\\\\\n",
       "\\end{tabular}\n"
      ],
      "text/markdown": [
       "\n",
       "A matrix: 5 × 5 of type dbl\n",
       "\n",
       "| <!--/--> | Factor1_weighted | Factor2_weighted | Factor3_weighted | Factor4_weighted | Factor5_weighted |\n",
       "|---|---|---|---|---|---|\n",
       "| Factor1_unweighted | -0.02408174 |  0.96498820 | -0.03412484 | -0.07229311 |  0.07666840 |\n",
       "| Factor2_unweighted |  0.86077776 | -0.02202818 |  0.17501517 |  0.08445746 |  0.03001498 |\n",
       "| Factor3_unweighted | -0.03923257 | -0.06562592 |  0.80784720 | -0.28370183 |  0.13387094 |\n",
       "| Factor4_unweighted |  0.05852193 | -0.05519457 |  0.24902620 |  0.75146050 |  0.19384986 |\n",
       "| Factor5_unweighted | -0.14649561 |  0.06361848 | -0.06879140 | -0.19657109 | -0.54838552 |\n",
       "\n"
      ],
      "text/plain": [
       "                   Factor1_weighted Factor2_weighted Factor3_weighted\n",
       "Factor1_unweighted -0.02408174       0.96498820      -0.03412484     \n",
       "Factor2_unweighted  0.86077776      -0.02202818       0.17501517     \n",
       "Factor3_unweighted -0.03923257      -0.06562592       0.80784720     \n",
       "Factor4_unweighted  0.05852193      -0.05519457       0.24902620     \n",
       "Factor5_unweighted -0.14649561       0.06361848      -0.06879140     \n",
       "                   Factor4_weighted Factor5_weighted\n",
       "Factor1_unweighted -0.07229311       0.07666840     \n",
       "Factor2_unweighted  0.08445746       0.03001498     \n",
       "Factor3_unweighted -0.28370183       0.13387094     \n",
       "Factor4_unweighted  0.75146050       0.19384986     \n",
       "Factor5_unweighted -0.19657109      -0.54838552     "
      ]
     },
     "metadata": {},
     "output_type": "display_data"
    }
   ],
   "source": [
    "correlation"
   ]
  },
  {
   "cell_type": "code",
   "execution_count": 96,
   "id": "f7dea167-642a-4c73-9140-5525dddc266e",
   "metadata": {},
   "outputs": [],
   "source": [
    "figure_name = \"REV2_Correlation_Factor_Vaues_weighted_unweighted\""
   ]
  },
  {
   "cell_type": "code",
   "execution_count": 97,
   "id": "409bf5d5-a8ee-40e8-baaf-1565c1e7f70f",
   "metadata": {
    "tags": []
   },
   "outputs": [],
   "source": [
    "# Sizes of the plot\n",
    "width_par = 8\n",
    "height_par = 4"
   ]
  },
  {
   "cell_type": "code",
   "execution_count": 98,
   "id": "a2d41c54-8aa7-4265-9839-445bbcb3f961",
   "metadata": {},
   "outputs": [
    {
     "data": {
      "text/html": [
       "<strong>png:</strong> 2"
      ],
      "text/latex": [
       "\\textbf{png:} 2"
      ],
      "text/markdown": [
       "**png:** 2"
      ],
      "text/plain": [
       "png \n",
       "  2 "
      ]
     },
     "metadata": {},
     "output_type": "display_data"
    }
   ],
   "source": [
    "pdf(paste0('figures/Review_Figures/', figure_name, name, '.pdf'), width =width_par, height =height_par)\n",
    "correlation_plot = corrplot(correlation, method = 'number', title = '',  pch =20,  mar=c(0,0,2,0), number.cex = 0.8, tl.cex = 0.8, cl.cex =0.8, tl.srt = 90)\n",
    "dev.off()"
   ]
  },
  {
   "cell_type": "markdown",
   "id": "159c5730-d874-4b2b-b85d-195bb843bc7c",
   "metadata": {},
   "source": [
    "## Compare feature weights"
   ]
  },
  {
   "cell_type": "code",
   "execution_count": 99,
   "id": "2da7ab74-f820-4cea-a8d3-717daa6e070d",
   "metadata": {},
   "outputs": [],
   "source": [
    "weights = lapply(model_list, function(x){\n",
    "    get_weights(x, views = \"all\", factors = \"all\")\n",
    "    })"
   ]
  },
  {
   "cell_type": "code",
   "execution_count": 100,
   "id": "79918c38-9ef9-42c2-8fa4-7f4e54b311fd",
   "metadata": {},
   "outputs": [],
   "source": [
    "weight_data = data.frame()"
   ]
  },
  {
   "cell_type": "code",
   "execution_count": 101,
   "id": "c4ff1097-e7ad-428f-ab65-20c75315e0ab",
   "metadata": {
    "tags": []
   },
   "outputs": [
    {
     "name": "stderr",
     "output_type": "stream",
     "text": [
      "Using view, version, feature as id variables\n",
      "\n",
      "Using view, version, feature as id variables\n",
      "\n",
      "Using view, version, feature as id variables\n",
      "\n",
      "Using view, version, feature as id variables\n",
      "\n",
      "Using view, version, feature as id variables\n",
      "\n",
      "Using view, version, feature as id variables\n",
      "\n",
      "Using view, version, feature as id variables\n",
      "\n",
      "Using view, version, feature as id variables\n",
      "\n",
      "Using view, version, feature as id variables\n",
      "\n",
      "Using view, version, feature as id variables\n",
      "\n",
      "Using view, version, feature as id variables\n",
      "\n",
      "Using view, version, feature as id variables\n",
      "\n",
      "Using view, version, feature as id variables\n",
      "\n",
      "Using view, version, feature as id variables\n",
      "\n",
      "Using view, version, feature as id variables\n",
      "\n",
      "Using view, version, feature as id variables\n",
      "\n",
      "Using view, version, feature as id variables\n",
      "\n",
      "Using view, version, feature as id variables\n",
      "\n",
      "Using view, version, feature as id variables\n",
      "\n",
      "Using view, version, feature as id variables\n",
      "\n",
      "Using view, version, feature as id variables\n",
      "\n",
      "Using view, version, feature as id variables\n",
      "\n",
      "Using view, version, feature as id variables\n",
      "\n",
      "Using view, version, feature as id variables\n",
      "\n",
      "Using view, version, feature as id variables\n",
      "\n",
      "Using view, version, feature as id variables\n",
      "\n",
      "Using view, version, feature as id variables\n",
      "\n",
      "Using view, version, feature as id variables\n",
      "\n",
      "Using view, version, feature as id variables\n",
      "\n",
      "Using view, version, feature as id variables\n",
      "\n",
      "Using view, version, feature as id variables\n",
      "\n",
      "Using view, version, feature as id variables\n",
      "\n",
      "Using view, version, feature as id variables\n",
      "\n",
      "Using view, version, feature as id variables\n",
      "\n",
      "Using view, version, feature as id variables\n",
      "\n",
      "Using view, version, feature as id variables\n",
      "\n"
     ]
    }
   ],
   "source": [
    "for(j in names(weights)){\n",
    "    weights_factor_amount = weights[[j]]\n",
    "\n",
    "    for (i in names(weights_factor_amount)){\n",
    "        data = data.frame(weights_factor_amount[[i]])\n",
    "        data$view = i\n",
    "        data$version = j\n",
    "        data$feature = rownames(data)\n",
    "        data = melt(data)\n",
    "        weight_data = rbind(weight_data,data)\n",
    "        }\n",
    "    }"
   ]
  },
  {
   "cell_type": "code",
   "execution_count": 102,
   "id": "d5a3b6de-192d-49b8-bf65-9d77dd2be6a9",
   "metadata": {
    "tags": []
   },
   "outputs": [
    {
     "data": {
      "text/html": [
       "<table class=\"dataframe\">\n",
       "<caption>A data.frame: 2 × 5</caption>\n",
       "<thead>\n",
       "\t<tr><th></th><th scope=col>view</th><th scope=col>version</th><th scope=col>feature</th><th scope=col>variable</th><th scope=col>value</th></tr>\n",
       "\t<tr><th></th><th scope=col>&lt;chr&gt;</th><th scope=col>&lt;chr&gt;</th><th scope=col>&lt;chr&gt;</th><th scope=col>&lt;fct&gt;</th><th scope=col>&lt;dbl&gt;</th></tr>\n",
       "</thead>\n",
       "<tbody>\n",
       "\t<tr><th scope=row>1</th><td>clinical_data</td><td>MOFA_MODELV_FINAL_INTEGRATED-FALSE</td><td>CK   </td><td>Factor1</td><td>-0.13418597</td></tr>\n",
       "\t<tr><th scope=row>2</th><td>clinical_data</td><td>MOFA_MODELV_FINAL_INTEGRATED-FALSE</td><td>CK_MB</td><td>Factor1</td><td>-0.06222621</td></tr>\n",
       "</tbody>\n",
       "</table>\n"
      ],
      "text/latex": [
       "A data.frame: 2 × 5\n",
       "\\begin{tabular}{r|lllll}\n",
       "  & view & version & feature & variable & value\\\\\n",
       "  & <chr> & <chr> & <chr> & <fct> & <dbl>\\\\\n",
       "\\hline\n",
       "\t1 & clinical\\_data & MOFA\\_MODELV\\_FINAL\\_INTEGRATED-FALSE & CK    & Factor1 & -0.13418597\\\\\n",
       "\t2 & clinical\\_data & MOFA\\_MODELV\\_FINAL\\_INTEGRATED-FALSE & CK\\_MB & Factor1 & -0.06222621\\\\\n",
       "\\end{tabular}\n"
      ],
      "text/markdown": [
       "\n",
       "A data.frame: 2 × 5\n",
       "\n",
       "| <!--/--> | view &lt;chr&gt; | version &lt;chr&gt; | feature &lt;chr&gt; | variable &lt;fct&gt; | value &lt;dbl&gt; |\n",
       "|---|---|---|---|---|---|\n",
       "| 1 | clinical_data | MOFA_MODELV_FINAL_INTEGRATED-FALSE | CK    | Factor1 | -0.13418597 |\n",
       "| 2 | clinical_data | MOFA_MODELV_FINAL_INTEGRATED-FALSE | CK_MB | Factor1 | -0.06222621 |\n",
       "\n"
      ],
      "text/plain": [
       "  view          version                            feature variable value      \n",
       "1 clinical_data MOFA_MODELV_FINAL_INTEGRATED-FALSE CK      Factor1  -0.13418597\n",
       "2 clinical_data MOFA_MODELV_FINAL_INTEGRATED-FALSE CK_MB   Factor1  -0.06222621"
      ]
     },
     "metadata": {},
     "output_type": "display_data"
    }
   ],
   "source": [
    "head(weight_data,2)"
   ]
  },
  {
   "cell_type": "code",
   "execution_count": 103,
   "id": "ebbf42ea-7242-4629-9e47-1816a44be74b",
   "metadata": {},
   "outputs": [],
   "source": [
    "weight_data$version = paste0(weight_data$variable, '_',str_replace(weight_data$version, 'MOFA_MODELV_FINAL_INTEGRATED', ''))\n",
    "weight_data$view_feature = paste0(weight_data$view, '__', weight_data$feature)"
   ]
  },
  {
   "cell_type": "code",
   "execution_count": 104,
   "id": "4c809030-563d-4460-952c-3276eae5c22a",
   "metadata": {},
   "outputs": [],
   "source": [
    "weight_data$version = str_replace(weight_data$version, '-FALSE', 'unweighted')\n",
    "weight_data$version = str_replace(weight_data$version, '-TRUE', 'weighted')"
   ]
  },
  {
   "cell_type": "code",
   "execution_count": 105,
   "id": "84834857-8f4b-45ea-9e59-62a44fc401c2",
   "metadata": {},
   "outputs": [
    {
     "data": {
      "text/html": [
       "<table class=\"dataframe\">\n",
       "<caption>A data.frame: 2 × 6</caption>\n",
       "<thead>\n",
       "\t<tr><th></th><th scope=col>view</th><th scope=col>version</th><th scope=col>feature</th><th scope=col>variable</th><th scope=col>value</th><th scope=col>view_feature</th></tr>\n",
       "\t<tr><th></th><th scope=col>&lt;chr&gt;</th><th scope=col>&lt;chr&gt;</th><th scope=col>&lt;chr&gt;</th><th scope=col>&lt;fct&gt;</th><th scope=col>&lt;dbl&gt;</th><th scope=col>&lt;chr&gt;</th></tr>\n",
       "</thead>\n",
       "<tbody>\n",
       "\t<tr><th scope=row>1</th><td>clinical_data</td><td>Factor1_unweighted</td><td>CK   </td><td>Factor1</td><td>-0.13418597</td><td>clinical_data__CK   </td></tr>\n",
       "\t<tr><th scope=row>2</th><td>clinical_data</td><td>Factor1_unweighted</td><td>CK_MB</td><td>Factor1</td><td>-0.06222621</td><td>clinical_data__CK_MB</td></tr>\n",
       "</tbody>\n",
       "</table>\n"
      ],
      "text/latex": [
       "A data.frame: 2 × 6\n",
       "\\begin{tabular}{r|llllll}\n",
       "  & view & version & feature & variable & value & view\\_feature\\\\\n",
       "  & <chr> & <chr> & <chr> & <fct> & <dbl> & <chr>\\\\\n",
       "\\hline\n",
       "\t1 & clinical\\_data & Factor1\\_unweighted & CK    & Factor1 & -0.13418597 & clinical\\_data\\_\\_CK   \\\\\n",
       "\t2 & clinical\\_data & Factor1\\_unweighted & CK\\_MB & Factor1 & -0.06222621 & clinical\\_data\\_\\_CK\\_MB\\\\\n",
       "\\end{tabular}\n"
      ],
      "text/markdown": [
       "\n",
       "A data.frame: 2 × 6\n",
       "\n",
       "| <!--/--> | view &lt;chr&gt; | version &lt;chr&gt; | feature &lt;chr&gt; | variable &lt;fct&gt; | value &lt;dbl&gt; | view_feature &lt;chr&gt; |\n",
       "|---|---|---|---|---|---|---|\n",
       "| 1 | clinical_data | Factor1_unweighted | CK    | Factor1 | -0.13418597 | clinical_data__CK    |\n",
       "| 2 | clinical_data | Factor1_unweighted | CK_MB | Factor1 | -0.06222621 | clinical_data__CK_MB |\n",
       "\n"
      ],
      "text/plain": [
       "  view          version            feature variable value      \n",
       "1 clinical_data Factor1_unweighted CK      Factor1  -0.13418597\n",
       "2 clinical_data Factor1_unweighted CK_MB   Factor1  -0.06222621\n",
       "  view_feature        \n",
       "1 clinical_data__CK   \n",
       "2 clinical_data__CK_MB"
      ]
     },
     "metadata": {},
     "output_type": "display_data"
    }
   ],
   "source": [
    "head(weight_data,2)"
   ]
  },
  {
   "cell_type": "code",
   "execution_count": 106,
   "id": "4e99d89a-2134-4740-bd9b-80070a59c94e",
   "metadata": {},
   "outputs": [],
   "source": [
    "weight_data = weight_data[weight_data$variable %in% c('Factor1', 'Factor2', 'Factor3', 'Factor4', 'Factor5'),]"
   ]
  },
  {
   "cell_type": "code",
   "execution_count": 107,
   "id": "6fe9d7a0-0c93-4ac8-a549-3d0a8c719d3e",
   "metadata": {},
   "outputs": [],
   "source": [
    "cor_data = weight_data %>% dcast(view_feature ~ version, value.var = 'value')"
   ]
  },
  {
   "cell_type": "code",
   "execution_count": 108,
   "id": "a8690aea-a2dc-46c5-a62a-846872c706c3",
   "metadata": {},
   "outputs": [
    {
     "data": {
      "text/html": [
       "<table class=\"dataframe\">\n",
       "<caption>A data.frame: 2 × 11</caption>\n",
       "<thead>\n",
       "\t<tr><th></th><th scope=col>view_feature</th><th scope=col>Factor1_unweighted</th><th scope=col>Factor1_weighted</th><th scope=col>Factor2_unweighted</th><th scope=col>Factor2_weighted</th><th scope=col>Factor3_unweighted</th><th scope=col>Factor3_weighted</th><th scope=col>Factor4_unweighted</th><th scope=col>Factor4_weighted</th><th scope=col>Factor5_unweighted</th><th scope=col>Factor5_weighted</th></tr>\n",
       "\t<tr><th></th><th scope=col>&lt;chr&gt;</th><th scope=col>&lt;dbl&gt;</th><th scope=col>&lt;dbl&gt;</th><th scope=col>&lt;dbl&gt;</th><th scope=col>&lt;dbl&gt;</th><th scope=col>&lt;dbl&gt;</th><th scope=col>&lt;dbl&gt;</th><th scope=col>&lt;dbl&gt;</th><th scope=col>&lt;dbl&gt;</th><th scope=col>&lt;dbl&gt;</th><th scope=col>&lt;dbl&gt;</th></tr>\n",
       "</thead>\n",
       "<tbody>\n",
       "\t<tr><th scope=row>1</th><td>clinical_data__CK   </td><td>-0.13418597</td><td>0.5308249</td><td>0.4019222</td><td>-0.20966567</td><td>-0.1010765</td><td>-0.1769928</td><td>-0.002177566</td><td> 2.988978e-10</td><td>-0.5093667</td><td>1.548127e-01</td></tr>\n",
       "\t<tr><th scope=row>2</th><td>clinical_data__CK_MB</td><td>-0.06222621</td><td>0.4256853</td><td>0.2731985</td><td>-0.07963309</td><td>-0.2000362</td><td>-0.3119296</td><td>-0.076098327</td><td>-1.560269e-10</td><td>-0.1439445</td><td>3.505454e-09</td></tr>\n",
       "</tbody>\n",
       "</table>\n"
      ],
      "text/latex": [
       "A data.frame: 2 × 11\n",
       "\\begin{tabular}{r|lllllllllll}\n",
       "  & view\\_feature & Factor1\\_unweighted & Factor1\\_weighted & Factor2\\_unweighted & Factor2\\_weighted & Factor3\\_unweighted & Factor3\\_weighted & Factor4\\_unweighted & Factor4\\_weighted & Factor5\\_unweighted & Factor5\\_weighted\\\\\n",
       "  & <chr> & <dbl> & <dbl> & <dbl> & <dbl> & <dbl> & <dbl> & <dbl> & <dbl> & <dbl> & <dbl>\\\\\n",
       "\\hline\n",
       "\t1 & clinical\\_data\\_\\_CK    & -0.13418597 & 0.5308249 & 0.4019222 & -0.20966567 & -0.1010765 & -0.1769928 & -0.002177566 &  2.988978e-10 & -0.5093667 & 1.548127e-01\\\\\n",
       "\t2 & clinical\\_data\\_\\_CK\\_MB & -0.06222621 & 0.4256853 & 0.2731985 & -0.07963309 & -0.2000362 & -0.3119296 & -0.076098327 & -1.560269e-10 & -0.1439445 & 3.505454e-09\\\\\n",
       "\\end{tabular}\n"
      ],
      "text/markdown": [
       "\n",
       "A data.frame: 2 × 11\n",
       "\n",
       "| <!--/--> | view_feature &lt;chr&gt; | Factor1_unweighted &lt;dbl&gt; | Factor1_weighted &lt;dbl&gt; | Factor2_unweighted &lt;dbl&gt; | Factor2_weighted &lt;dbl&gt; | Factor3_unweighted &lt;dbl&gt; | Factor3_weighted &lt;dbl&gt; | Factor4_unweighted &lt;dbl&gt; | Factor4_weighted &lt;dbl&gt; | Factor5_unweighted &lt;dbl&gt; | Factor5_weighted &lt;dbl&gt; |\n",
       "|---|---|---|---|---|---|---|---|---|---|---|---|\n",
       "| 1 | clinical_data__CK    | -0.13418597 | 0.5308249 | 0.4019222 | -0.20966567 | -0.1010765 | -0.1769928 | -0.002177566 |  2.988978e-10 | -0.5093667 | 1.548127e-01 |\n",
       "| 2 | clinical_data__CK_MB | -0.06222621 | 0.4256853 | 0.2731985 | -0.07963309 | -0.2000362 | -0.3119296 | -0.076098327 | -1.560269e-10 | -0.1439445 | 3.505454e-09 |\n",
       "\n"
      ],
      "text/plain": [
       "  view_feature         Factor1_unweighted Factor1_weighted Factor2_unweighted\n",
       "1 clinical_data__CK    -0.13418597        0.5308249        0.4019222         \n",
       "2 clinical_data__CK_MB -0.06222621        0.4256853        0.2731985         \n",
       "  Factor2_weighted Factor3_unweighted Factor3_weighted Factor4_unweighted\n",
       "1 -0.20966567      -0.1010765         -0.1769928       -0.002177566      \n",
       "2 -0.07963309      -0.2000362         -0.3119296       -0.076098327      \n",
       "  Factor4_weighted Factor5_unweighted Factor5_weighted\n",
       "1  2.988978e-10    -0.5093667         1.548127e-01    \n",
       "2 -1.560269e-10    -0.1439445         3.505454e-09    "
      ]
     },
     "metadata": {},
     "output_type": "display_data"
    }
   ],
   "source": [
    "head(cor_data,2)"
   ]
  },
  {
   "cell_type": "code",
   "execution_count": 109,
   "id": "26f041dd-ab08-43e1-9db2-f8bed7152929",
   "metadata": {},
   "outputs": [],
   "source": [
    "cor_data$view_feature = NULL\n",
    "correlation = cor(cor_data)"
   ]
  },
  {
   "cell_type": "code",
   "execution_count": 110,
   "id": "50cdd0a5-199a-4da4-8043-64cd7c693892",
   "metadata": {},
   "outputs": [
    {
     "data": {
      "text/html": [
       "<table class=\"dataframe\">\n",
       "<caption>A matrix: 2 × 10 of type dbl</caption>\n",
       "<thead>\n",
       "\t<tr><th></th><th scope=col>Factor1_unweighted</th><th scope=col>Factor1_weighted</th><th scope=col>Factor2_unweighted</th><th scope=col>Factor2_weighted</th><th scope=col>Factor3_unweighted</th><th scope=col>Factor3_weighted</th><th scope=col>Factor4_unweighted</th><th scope=col>Factor4_weighted</th><th scope=col>Factor5_unweighted</th><th scope=col>Factor5_weighted</th></tr>\n",
       "</thead>\n",
       "<tbody>\n",
       "\t<tr><th scope=row>Factor1_unweighted</th><td>1.00000000</td><td>0.09489689</td><td>-0.01591703</td><td>0.9894728</td><td>-0.03084776</td><td>-0.02476761</td><td>0.01094912</td><td>0.01486973</td><td>-0.006162275</td><td> 0.1913241</td></tr>\n",
       "\t<tr><th scope=row>Factor1_weighted</th><td>0.09489689</td><td>1.00000000</td><td> 0.94867525</td><td>0.1482241</td><td>-0.03052462</td><td> 0.09253431</td><td>0.03367686</td><td>0.11456338</td><td> 0.064739519</td><td>-0.3821532</td></tr>\n",
       "</tbody>\n",
       "</table>\n"
      ],
      "text/latex": [
       "A matrix: 2 × 10 of type dbl\n",
       "\\begin{tabular}{r|llllllllll}\n",
       "  & Factor1\\_unweighted & Factor1\\_weighted & Factor2\\_unweighted & Factor2\\_weighted & Factor3\\_unweighted & Factor3\\_weighted & Factor4\\_unweighted & Factor4\\_weighted & Factor5\\_unweighted & Factor5\\_weighted\\\\\n",
       "\\hline\n",
       "\tFactor1\\_unweighted & 1.00000000 & 0.09489689 & -0.01591703 & 0.9894728 & -0.03084776 & -0.02476761 & 0.01094912 & 0.01486973 & -0.006162275 &  0.1913241\\\\\n",
       "\tFactor1\\_weighted & 0.09489689 & 1.00000000 &  0.94867525 & 0.1482241 & -0.03052462 &  0.09253431 & 0.03367686 & 0.11456338 &  0.064739519 & -0.3821532\\\\\n",
       "\\end{tabular}\n"
      ],
      "text/markdown": [
       "\n",
       "A matrix: 2 × 10 of type dbl\n",
       "\n",
       "| <!--/--> | Factor1_unweighted | Factor1_weighted | Factor2_unweighted | Factor2_weighted | Factor3_unweighted | Factor3_weighted | Factor4_unweighted | Factor4_weighted | Factor5_unweighted | Factor5_weighted |\n",
       "|---|---|---|---|---|---|---|---|---|---|---|\n",
       "| Factor1_unweighted | 1.00000000 | 0.09489689 | -0.01591703 | 0.9894728 | -0.03084776 | -0.02476761 | 0.01094912 | 0.01486973 | -0.006162275 |  0.1913241 |\n",
       "| Factor1_weighted | 0.09489689 | 1.00000000 |  0.94867525 | 0.1482241 | -0.03052462 |  0.09253431 | 0.03367686 | 0.11456338 |  0.064739519 | -0.3821532 |\n",
       "\n"
      ],
      "text/plain": [
       "                   Factor1_unweighted Factor1_weighted Factor2_unweighted\n",
       "Factor1_unweighted 1.00000000         0.09489689       -0.01591703       \n",
       "Factor1_weighted   0.09489689         1.00000000        0.94867525       \n",
       "                   Factor2_weighted Factor3_unweighted Factor3_weighted\n",
       "Factor1_unweighted 0.9894728        -0.03084776        -0.02476761     \n",
       "Factor1_weighted   0.1482241        -0.03052462         0.09253431     \n",
       "                   Factor4_unweighted Factor4_weighted Factor5_unweighted\n",
       "Factor1_unweighted 0.01094912         0.01486973       -0.006162275      \n",
       "Factor1_weighted   0.03367686         0.11456338        0.064739519      \n",
       "                   Factor5_weighted\n",
       "Factor1_unweighted  0.1913241      \n",
       "Factor1_weighted   -0.3821532      "
      ]
     },
     "metadata": {},
     "output_type": "display_data"
    }
   ],
   "source": [
    "head(correlation,2)"
   ]
  },
  {
   "cell_type": "code",
   "execution_count": 111,
   "id": "88197e31-294f-4772-9c92-aacb7e4333ee",
   "metadata": {},
   "outputs": [],
   "source": [
    "correlation = correlation[!is.na(str_extract(rownames(correlation), 'unweighted')),]\n",
    "correlation = correlation[,is.na(str_extract(colnames(correlation), 'unweighted'))]"
   ]
  },
  {
   "cell_type": "code",
   "execution_count": 112,
   "id": "7fff4a92-a430-4c4c-92ab-9839c957c2c5",
   "metadata": {},
   "outputs": [],
   "source": [
    "figure_name = \"REV2_Correlation_Feature_Weights_weighted_unweighted\""
   ]
  },
  {
   "cell_type": "code",
   "execution_count": 113,
   "id": "ec83fd47-70f0-45a1-a6e0-96d3778aabef",
   "metadata": {
    "tags": []
   },
   "outputs": [],
   "source": [
    "# Sizes of the plot\n",
    "width_par = 8\n",
    "height_par = 4"
   ]
  },
  {
   "cell_type": "code",
   "execution_count": 114,
   "id": "b059c1ad-8809-417c-92c9-5d712e176b6b",
   "metadata": {},
   "outputs": [
    {
     "data": {
      "text/html": [
       "<strong>png:</strong> 2"
      ],
      "text/latex": [
       "\\textbf{png:} 2"
      ],
      "text/markdown": [
       "**png:** 2"
      ],
      "text/plain": [
       "png \n",
       "  2 "
      ]
     },
     "metadata": {},
     "output_type": "display_data"
    }
   ],
   "source": [
    "pdf(paste0('figures/Review_Figures/', figure_name, name, '.pdf'), width =width_par, height =height_par)\n",
    "correlation_plot = corrplot(correlation, method = 'number', title = '',  pch =20,  mar=c(0,0,2,0), number.cex = 0.8, tl.cex = 0.8, cl.cex =0.8, tl.srt = 90)\n",
    "dev.off()"
   ]
  },
  {
   "cell_type": "code",
   "execution_count": null,
   "id": "1d9cefe9-0f9f-4714-9fd8-0613a14558b9",
   "metadata": {},
   "outputs": [],
   "source": []
  },
  {
   "cell_type": "code",
   "execution_count": null,
   "id": "f9d55096-9580-4696-b6d3-72a92baad16e",
   "metadata": {},
   "outputs": [],
   "source": []
  }
 ],
 "metadata": {
  "kernelspec": {
   "display_name": "R",
   "language": "R",
   "name": "ir"
  },
  "language_info": {
   "codemirror_mode": "r",
   "file_extension": ".r",
   "mimetype": "text/x-r-source",
   "name": "R",
   "pygments_lexer": "r",
   "version": "4.1.1"
  },
  "toc-autonumbering": true,
  "toc-showcode": false,
  "toc-showmarkdowntxt": false
 },
 "nbformat": 4,
 "nbformat_minor": 5
}

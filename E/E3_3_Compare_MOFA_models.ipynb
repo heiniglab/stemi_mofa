{
 "cells": [
  {
   "cell_type": "code",
   "execution_count": 1,
   "id": "067b3e3f-7134-46de-9b84-ce1ecc2ed0bc",
   "metadata": {},
   "outputs": [],
   "source": [
    "### Compare different MOFA versions: with clinical features and without"
   ]
  },
  {
   "cell_type": "markdown",
   "id": "0c262650-dfb0-4ed7-a33c-451ff80ac74a",
   "metadata": {
    "jp-MarkdownHeadingCollapsed": true,
    "tags": []
   },
   "source": [
    "#############################################\n",
    "# Prerequisites - Load Libraries"
   ]
  },
  {
   "cell_type": "code",
   "execution_count": 2,
   "id": "effc5a8f-6c9a-47ec-a721-5fa5000e7922",
   "metadata": {
    "tags": []
   },
   "outputs": [
    {
     "name": "stderr",
     "output_type": "stream",
     "text": [
      "Warning message in read.table(file = file, header = header, sep = sep, quote = quote, :\n",
      "“incomplete final line found by readTableHeader on '../conda_environment/Environment_Configs.csv'”\n"
     ]
    },
    {
     "name": "stdout",
     "output_type": "stream",
     "text": [
      "[1] \"/home/icb/corinna.losert/miniconda3/envs/stark_stemi_R_Env_4_1//lib/R/library\"\n"
     ]
    },
    {
     "name": "stderr",
     "output_type": "stream",
     "text": [
      "\n",
      "Attaching package: ‘igraph’\n",
      "\n",
      "\n",
      "The following objects are masked from ‘package:stats’:\n",
      "\n",
      "    decompose, spectrum\n",
      "\n",
      "\n",
      "The following object is masked from ‘package:base’:\n",
      "\n",
      "    union\n",
      "\n",
      "\n",
      "\n",
      "Attaching package: ‘MatrixGenerics’\n",
      "\n",
      "\n",
      "The following objects are masked from ‘package:matrixStats’:\n",
      "\n",
      "    colAlls, colAnyNAs, colAnys, colAvgsPerRowSet, colCollapse,\n",
      "    colCounts, colCummaxs, colCummins, colCumprods, colCumsums,\n",
      "    colDiffs, colIQRDiffs, colIQRs, colLogSumExps, colMadDiffs,\n",
      "    colMads, colMaxs, colMeans2, colMedians, colMins, colOrderStats,\n",
      "    colProds, colQuantiles, colRanges, colRanks, colSdDiffs, colSds,\n",
      "    colSums2, colTabulates, colVarDiffs, colVars, colWeightedMads,\n",
      "    colWeightedMeans, colWeightedMedians, colWeightedSds,\n",
      "    colWeightedVars, rowAlls, rowAnyNAs, rowAnys, rowAvgsPerColSet,\n",
      "    rowCollapse, rowCounts, rowCummaxs, rowCummins, rowCumprods,\n",
      "    rowCumsums, rowDiffs, rowIQRDiffs, rowIQRs, rowLogSumExps,\n",
      "    rowMadDiffs, rowMads, rowMaxs, rowMeans2, rowMedians, rowMins,\n",
      "    rowOrderStats, rowProds, rowQuantiles, rowRanges, rowRanks,\n",
      "    rowSdDiffs, rowSds, rowSums2, rowTabulates, rowVarDiffs, rowVars,\n",
      "    rowWeightedMads, rowWeightedMeans, rowWeightedMedians,\n",
      "    rowWeightedSds, rowWeightedVars\n",
      "\n",
      "\n",
      "\n",
      "Attaching package: ‘BiocGenerics’\n",
      "\n",
      "\n",
      "The following objects are masked from ‘package:parallel’:\n",
      "\n",
      "    clusterApply, clusterApplyLB, clusterCall, clusterEvalQ,\n",
      "    clusterExport, clusterMap, parApply, parCapply, parLapply,\n",
      "    parLapplyLB, parRapply, parSapply, parSapplyLB\n",
      "\n",
      "\n",
      "The following objects are masked from ‘package:igraph’:\n",
      "\n",
      "    normalize, path, union\n",
      "\n",
      "\n",
      "The following objects are masked from ‘package:stats’:\n",
      "\n",
      "    IQR, mad, sd, var, xtabs\n",
      "\n",
      "\n",
      "The following objects are masked from ‘package:base’:\n",
      "\n",
      "    anyDuplicated, append, as.data.frame, basename, cbind, colnames,\n",
      "    dirname, do.call, duplicated, eval, evalq, Filter, Find, get, grep,\n",
      "    grepl, intersect, is.unsorted, lapply, Map, mapply, match, mget,\n",
      "    order, paste, pmax, pmax.int, pmin, pmin.int, Position, rank,\n",
      "    rbind, Reduce, rownames, sapply, setdiff, sort, table, tapply,\n",
      "    union, unique, unsplit, which.max, which.min\n",
      "\n",
      "\n",
      "\n",
      "Attaching package: ‘S4Vectors’\n",
      "\n",
      "\n",
      "The following objects are masked from ‘package:base’:\n",
      "\n",
      "    expand.grid, I, unname\n",
      "\n",
      "\n",
      "Welcome to Bioconductor\n",
      "\n",
      "    Vignettes contain introductory material; view with\n",
      "    'browseVignettes()'. To cite Bioconductor, see\n",
      "    'citation(\"Biobase\")', and for packages 'citation(\"pkgname\")'.\n",
      "\n",
      "\n",
      "\n",
      "Attaching package: ‘Biobase’\n",
      "\n",
      "\n",
      "The following object is masked from ‘package:MatrixGenerics’:\n",
      "\n",
      "    rowMedians\n",
      "\n",
      "\n",
      "The following objects are masked from ‘package:matrixStats’:\n",
      "\n",
      "    anyMissing, rowMedians\n",
      "\n",
      "\n",
      "\n",
      "Attaching package: ‘sp’\n",
      "\n",
      "\n",
      "The following object is masked from ‘package:IRanges’:\n",
      "\n",
      "    %over%\n",
      "\n",
      "\n",
      "\n",
      "Attaching package: ‘SeuratObject’\n",
      "\n",
      "\n",
      "The following object is masked from ‘package:SummarizedExperiment’:\n",
      "\n",
      "    Assays\n",
      "\n",
      "\n",
      "The following object is masked from ‘package:GenomicRanges’:\n",
      "\n",
      "    intersect\n",
      "\n",
      "\n",
      "The following object is masked from ‘package:GenomeInfoDb’:\n",
      "\n",
      "    intersect\n",
      "\n",
      "\n",
      "The following object is masked from ‘package:IRanges’:\n",
      "\n",
      "    intersect\n",
      "\n",
      "\n",
      "The following object is masked from ‘package:S4Vectors’:\n",
      "\n",
      "    intersect\n",
      "\n",
      "\n",
      "The following object is masked from ‘package:BiocGenerics’:\n",
      "\n",
      "    intersect\n",
      "\n",
      "\n",
      "The following object is masked from ‘package:base’:\n",
      "\n",
      "    intersect\n",
      "\n",
      "\n",
      "\n",
      "Attaching package: ‘Seurat’\n",
      "\n",
      "\n",
      "The following object is masked from ‘package:SummarizedExperiment’:\n",
      "\n",
      "    Assays\n",
      "\n",
      "\n",
      "The following object is masked from ‘package:igraph’:\n",
      "\n",
      "    components\n",
      "\n",
      "\n",
      "\n",
      "Attaching package: ‘Matrix’\n",
      "\n",
      "\n",
      "The following object is masked from ‘package:S4Vectors’:\n",
      "\n",
      "    expand\n",
      "\n",
      "\n",
      "\n",
      "Attaching package: ‘DelayedArray’\n",
      "\n",
      "\n",
      "The following object is masked from ‘package:igraph’:\n",
      "\n",
      "    simplify\n",
      "\n",
      "\n",
      "The following objects are masked from ‘package:base’:\n",
      "\n",
      "    aperm, apply, rowsum, scale, sweep\n",
      "\n",
      "\n",
      "\n",
      "Attaching package: ‘HDF5Array’\n",
      "\n",
      "\n",
      "The following object is masked from ‘package:rhdf5’:\n",
      "\n",
      "    h5ls\n",
      "\n",
      "\n",
      "Warning message in if (is.na(desc)) {:\n",
      "“the condition has length > 1 and only the first element will be used”\n",
      "Warning message in if (is.na(desc)) {:\n",
      "“the condition has length > 1 and only the first element will be used”\n",
      "Warning message in if (is.na(desc)) {:\n",
      "“the condition has length > 1 and only the first element will be used”\n",
      "Warning message in if (is.na(desc)) {:\n",
      "“the condition has length > 1 and only the first element will be used”\n",
      "Warning message in if (is.na(desc)) {:\n",
      "“the condition has length > 1 and only the first element will be used”\n",
      "Warning message in if (is.na(desc)) {:\n",
      "“the condition has length > 1 and only the first element will be used”\n",
      "Warning message in if (is.na(desc)) {:\n",
      "“the condition has length > 1 and only the first element will be used”\n",
      "Warning message in if (is.na(desc)) {:\n",
      "“the condition has length > 1 and only the first element will be used”\n",
      "Warning message in if (is.na(desc)) {:\n",
      "“the condition has length > 1 and only the first element will be used”\n",
      "Warning message in if (is.na(desc)) {:\n",
      "“the condition has length > 1 and only the first element will be used”\n",
      "Warning message in if (is.na(desc)) {:\n",
      "“the condition has length > 1 and only the first element will be used”\n",
      "Warning message in if (is.na(desc)) {:\n",
      "“the condition has length > 1 and only the first element will be used”\n",
      "Warning message in if (is.na(desc)) {:\n",
      "“the condition has length > 1 and only the first element will be used”\n",
      "Warning message in if (is.na(desc)) {:\n",
      "“the condition has length > 1 and only the first element will be used”\n",
      "Warning message in if (is.na(desc)) {:\n",
      "“the condition has length > 1 and only the first element will be used”\n",
      "Warning message in if (is.na(desc)) {:\n",
      "“the condition has length > 1 and only the first element will be used”\n",
      "Warning message in if (is.na(desc)) {:\n",
      "“the condition has length > 1 and only the first element will be used”\n",
      "Warning message in if (is.na(desc)) {:\n",
      "“the condition has length > 1 and only the first element will be used”\n",
      "Warning message in if (is.na(desc)) {:\n",
      "“the condition has length > 1 and only the first element will be used”\n",
      "Warning message in if (is.na(desc)) {:\n",
      "“the condition has length > 1 and only the first element will be used”\n",
      "Warning message in if (is.na(desc)) {:\n",
      "“the condition has length > 1 and only the first element will be used”\n",
      "Warning message in if (is.na(desc)) {:\n",
      "“the condition has length > 1 and only the first element will be used”\n",
      "Warning message in if (is.na(desc)) {:\n",
      "“the condition has length > 1 and only the first element will be used”\n",
      "Registered S3 method overwritten by 'SeuratDisk':\n",
      "  method            from  \n",
      "  as.sparse.H5Group Seurat\n",
      "\n",
      "\n",
      "Attaching package: ‘gridExtra’\n",
      "\n",
      "\n",
      "The following object is masked from ‘package:Biobase’:\n",
      "\n",
      "    combine\n",
      "\n",
      "\n",
      "The following object is masked from ‘package:BiocGenerics’:\n",
      "\n",
      "    combine\n",
      "\n",
      "\n",
      "\n",
      "Attaching package: ‘dplyr’\n",
      "\n",
      "\n",
      "The following object is masked from ‘package:gridExtra’:\n",
      "\n",
      "    combine\n",
      "\n",
      "\n",
      "The following object is masked from ‘package:Biobase’:\n",
      "\n",
      "    combine\n",
      "\n",
      "\n",
      "The following objects are masked from ‘package:GenomicRanges’:\n",
      "\n",
      "    intersect, setdiff, union\n",
      "\n",
      "\n",
      "The following object is masked from ‘package:GenomeInfoDb’:\n",
      "\n",
      "    intersect\n",
      "\n",
      "\n",
      "The following objects are masked from ‘package:IRanges’:\n",
      "\n",
      "    collapse, desc, intersect, setdiff, slice, union\n",
      "\n",
      "\n",
      "The following objects are masked from ‘package:S4Vectors’:\n",
      "\n",
      "    first, intersect, rename, setdiff, setequal, union\n",
      "\n",
      "\n",
      "The following objects are masked from ‘package:BiocGenerics’:\n",
      "\n",
      "    combine, intersect, setdiff, union\n",
      "\n",
      "\n",
      "The following object is masked from ‘package:matrixStats’:\n",
      "\n",
      "    count\n",
      "\n",
      "\n",
      "The following objects are masked from ‘package:igraph’:\n",
      "\n",
      "    as_data_frame, groups, union\n",
      "\n",
      "\n",
      "The following objects are masked from ‘package:stats’:\n",
      "\n",
      "    filter, lag\n",
      "\n",
      "\n",
      "The following objects are masked from ‘package:base’:\n",
      "\n",
      "    intersect, setdiff, setequal, union\n",
      "\n",
      "\n",
      "\n",
      "Attaching package: ‘plotly’\n",
      "\n",
      "\n",
      "The following object is masked from ‘package:ggplot2’:\n",
      "\n",
      "    last_plot\n",
      "\n",
      "\n",
      "The following object is masked from ‘package:IRanges’:\n",
      "\n",
      "    slice\n",
      "\n",
      "\n",
      "The following object is masked from ‘package:S4Vectors’:\n",
      "\n",
      "    rename\n",
      "\n",
      "\n",
      "The following object is masked from ‘package:igraph’:\n",
      "\n",
      "    groups\n",
      "\n",
      "\n",
      "The following object is masked from ‘package:stats’:\n",
      "\n",
      "    filter\n",
      "\n",
      "\n",
      "The following object is masked from ‘package:graphics’:\n",
      "\n",
      "    layout\n",
      "\n",
      "\n",
      "Warning message in checkMatrixPackageVersion():\n",
      "“Package version inconsistency detected.\n",
      "TMB was built with Matrix version 1.5.3\n",
      "Current Matrix version is 1.6.4\n",
      "Please re-install 'TMB' from source using install.packages('TMB', type = 'source') or ask CRAN for a binary version of 'TMB' matching CRAN's 'Matrix' package”\n",
      "\n",
      "Attaching package: ‘limma’\n",
      "\n",
      "\n",
      "The following object is masked from ‘package:scater’:\n",
      "\n",
      "    plotMDS\n",
      "\n",
      "\n",
      "The following object is masked from ‘package:BiocGenerics’:\n",
      "\n",
      "    plotMA\n",
      "\n",
      "\n",
      "\n",
      "Attaching package: ‘DESeq2’\n",
      "\n",
      "\n",
      "The following object is masked from ‘package:scater’:\n",
      "\n",
      "    fpkm\n",
      "\n",
      "\n",
      "Loading required package: AnnotationDbi\n",
      "\n",
      "\n",
      "Attaching package: ‘AnnotationDbi’\n",
      "\n",
      "\n",
      "The following object is masked from ‘package:plotly’:\n",
      "\n",
      "    select\n",
      "\n",
      "\n",
      "The following object is masked from ‘package:dplyr’:\n",
      "\n",
      "    select\n",
      "\n",
      "\n",
      "\n",
      "\n",
      "\n",
      "\n",
      "Registered S3 method overwritten by 'ggtree':\n",
      "  method      from \n",
      "  identify.gg ggfun\n",
      "\n",
      "clusterProfiler v4.0.5  For help: https://yulab-smu.top/biomedical-knowledge-mining-book/\n",
      "\n",
      "If you use clusterProfiler in published research, please cite:\n",
      "T Wu, E Hu, S Xu, M Chen, P Guo, Z Dai, T Feng, L Zhou, W Tang, L Zhan, X Fu, S Liu, X Bo, and G Yu. clusterProfiler 4.0: A universal enrichment tool for interpreting omics data. The Innovation. 2021, 2(3):100141. doi: 10.1016/j.xinn.2021.100141\n",
      "\n",
      "\n",
      "Attaching package: ‘clusterProfiler’\n",
      "\n",
      "\n",
      "The following object is masked from ‘package:AnnotationDbi’:\n",
      "\n",
      "    select\n",
      "\n",
      "\n",
      "The following object is masked from ‘package:DelayedArray’:\n",
      "\n",
      "    simplify\n",
      "\n",
      "\n",
      "The following object is masked from ‘package:IRanges’:\n",
      "\n",
      "    slice\n",
      "\n",
      "\n",
      "The following object is masked from ‘package:S4Vectors’:\n",
      "\n",
      "    rename\n",
      "\n",
      "\n",
      "The following object is masked from ‘package:igraph’:\n",
      "\n",
      "    simplify\n",
      "\n",
      "\n",
      "The following object is masked from ‘package:stats’:\n",
      "\n",
      "    filter\n",
      "\n",
      "\n",
      "\n",
      "Attaching package: ‘data.table’\n",
      "\n",
      "\n",
      "The following objects are masked from ‘package:dplyr’:\n",
      "\n",
      "    between, first, last\n",
      "\n",
      "\n",
      "The following object is masked from ‘package:SummarizedExperiment’:\n",
      "\n",
      "    shift\n",
      "\n",
      "\n",
      "The following object is masked from ‘package:GenomicRanges’:\n",
      "\n",
      "    shift\n",
      "\n",
      "\n",
      "The following object is masked from ‘package:IRanges’:\n",
      "\n",
      "    shift\n",
      "\n",
      "\n",
      "The following objects are masked from ‘package:S4Vectors’:\n",
      "\n",
      "    first, second\n",
      "\n",
      "\n",
      "\n",
      "Attaching package: ‘MOFA2’\n",
      "\n",
      "\n",
      "The following object is masked from ‘package:stats’:\n",
      "\n",
      "    predict\n",
      "\n",
      "\n",
      "\n",
      "Attaching package: ‘ggraph’\n",
      "\n",
      "\n",
      "The following object is masked from ‘package:sp’:\n",
      "\n",
      "    geometry\n",
      "\n",
      "\n",
      "\n",
      "Attaching package: ‘Hmisc’\n",
      "\n",
      "\n",
      "The following object is masked from ‘package:MOFA2’:\n",
      "\n",
      "    impute\n",
      "\n",
      "\n",
      "The following object is masked from ‘package:AnnotationDbi’:\n",
      "\n",
      "    contents\n",
      "\n",
      "\n",
      "The following object is masked from ‘package:plotly’:\n",
      "\n",
      "    subplot\n",
      "\n",
      "\n",
      "The following objects are masked from ‘package:dplyr’:\n",
      "\n",
      "    src, summarize\n",
      "\n",
      "\n",
      "The following object is masked from ‘package:Seurat’:\n",
      "\n",
      "    Key\n",
      "\n",
      "\n",
      "The following object is masked from ‘package:SeuratObject’:\n",
      "\n",
      "    Key\n",
      "\n",
      "\n",
      "The following object is masked from ‘package:Biobase’:\n",
      "\n",
      "    contents\n",
      "\n",
      "\n",
      "The following objects are masked from ‘package:base’:\n",
      "\n",
      "    format.pval, units\n",
      "\n",
      "\n",
      "Registered S3 method overwritten by 'GGally':\n",
      "  method from   \n",
      "  +.gg   ggplot2\n",
      "\n",
      "\n",
      "Attaching package: ‘rstatix’\n",
      "\n",
      "\n",
      "The following object is masked from ‘package:AnnotationDbi’:\n",
      "\n",
      "    select\n",
      "\n",
      "\n",
      "The following object is masked from ‘package:IRanges’:\n",
      "\n",
      "    desc\n",
      "\n",
      "\n",
      "The following object is masked from ‘package:stats’:\n",
      "\n",
      "    filter\n",
      "\n",
      "\n",
      "corrplot 0.92 loaded\n",
      "\n",
      "\n",
      "‘network’ 1.18.1 (2023-01-24), part of the Statnet Project\n",
      "* ‘news(package=\"network\")’ for changes since last version\n",
      "* ‘citation(\"network\")’ for citation information\n",
      "* ‘https://statnet.org’ for help, support, and other information\n",
      "\n",
      "\n",
      "\n",
      "Attaching package: ‘network’\n",
      "\n",
      "\n",
      "The following object is masked from ‘package:Hmisc’:\n",
      "\n",
      "    is.discrete\n",
      "\n",
      "\n",
      "The following objects are masked from ‘package:igraph’:\n",
      "\n",
      "    %c%, %s%, add.edges, add.vertices, delete.edges, delete.vertices,\n",
      "    get.edge.attribute, get.edges, get.vertex.attribute, is.bipartite,\n",
      "    is.directed, list.edge.attributes, list.vertex.attributes,\n",
      "    set.edge.attribute, set.vertex.attribute\n",
      "\n",
      "\n",
      "\n",
      "Attaching package: ‘enrichplot’\n",
      "\n",
      "\n",
      "The following object is masked from ‘package:GGally’:\n",
      "\n",
      "    ggtable\n",
      "\n",
      "\n",
      "DOSE v3.18.3  For help: https://guangchuangyu.github.io/software/DOSE\n",
      "\n",
      "If you use DOSE in published research, please cite:\n",
      "Guangchuang Yu, Li-Gen Wang, Guang-Rong Yan, Qing-Yu He. DOSE: an R/Bioconductor package for Disease Ontology Semantic and Enrichment analysis. Bioinformatics 2015, 31(4):608-609\n",
      "\n",
      "\n",
      "\n",
      "Attaching package: ‘UpSetR’\n",
      "\n",
      "\n",
      "The following object is masked from ‘package:ComplexUpset’:\n",
      "\n",
      "    upset\n",
      "\n",
      "\n",
      "Registered S3 method overwritten by 'gdata':\n",
      "  method         from  \n",
      "  reorder.factor gplots\n",
      "\n",
      "gdata: read.xls support for 'XLS' (Excel 97-2004) files ENABLED.\n",
      "\n",
      "\n",
      "\n",
      "gdata: read.xls support for 'XLSX' (Excel 2007+) files ENABLED.\n",
      "\n",
      "\n",
      "Attaching package: ‘gdata’\n",
      "\n",
      "\n",
      "The following objects are masked from ‘package:data.table’:\n",
      "\n",
      "    first, last\n",
      "\n",
      "\n",
      "The following objects are masked from ‘package:dplyr’:\n",
      "\n",
      "    combine, first, last\n",
      "\n",
      "\n",
      "The following object is masked from ‘package:gridExtra’:\n",
      "\n",
      "    combine\n",
      "\n",
      "\n",
      "The following object is masked from ‘package:SummarizedExperiment’:\n",
      "\n",
      "    trim\n",
      "\n",
      "\n",
      "The following object is masked from ‘package:Biobase’:\n",
      "\n",
      "    combine\n",
      "\n",
      "\n",
      "The following object is masked from ‘package:GenomicRanges’:\n",
      "\n",
      "    trim\n",
      "\n",
      "\n",
      "The following objects are masked from ‘package:IRanges’:\n",
      "\n",
      "    startsWith, trim\n",
      "\n",
      "\n",
      "The following objects are masked from ‘package:S4Vectors’:\n",
      "\n",
      "    first, first<-\n",
      "\n",
      "\n",
      "The following object is masked from ‘package:BiocGenerics’:\n",
      "\n",
      "    combine\n",
      "\n",
      "\n",
      "The following object is masked from ‘package:stats4’:\n",
      "\n",
      "    nobs\n",
      "\n",
      "\n",
      "The following object is masked from ‘package:stats’:\n",
      "\n",
      "    nobs\n",
      "\n",
      "\n",
      "The following object is masked from ‘package:utils’:\n",
      "\n",
      "    object.size\n",
      "\n",
      "\n",
      "The following object is masked from ‘package:base’:\n",
      "\n",
      "    startsWith\n",
      "\n",
      "\n",
      "\n",
      "Attaching package: ‘reshape2’\n",
      "\n",
      "\n",
      "The following objects are masked from ‘package:data.table’:\n",
      "\n",
      "    dcast, melt\n",
      "\n",
      "\n",
      "ReactomePA v1.36.0  For help: https://yulab-smu.top/biomedical-knowledge-mining-book/reactomepa.html\n",
      "\n",
      "If you use ReactomePA in published research, please cite:\n",
      "Guangchuang Yu, Qing-Yu He. ReactomePA: an R/Bioconductor package for reactome pathway analysis and visualization. Molecular BioSystems 2016, 12(2):477-479\n",
      "\n",
      "Loading required package: mgcv\n",
      "\n",
      "Loading required package: nlme\n",
      "\n",
      "\n",
      "Attaching package: ‘nlme’\n",
      "\n",
      "\n",
      "The following object is masked from ‘package:dplyr’:\n",
      "\n",
      "    collapse\n",
      "\n",
      "\n",
      "The following object is masked from ‘package:IRanges’:\n",
      "\n",
      "    collapse\n",
      "\n",
      "\n",
      "This is mgcv 1.8-41. For overview type 'help(\"mgcv-package\")'.\n",
      "\n",
      "Loading required package: genefilter\n",
      "\n",
      "\n",
      "Attaching package: ‘genefilter’\n",
      "\n",
      "\n",
      "The following object is masked from ‘package:rstatix’:\n",
      "\n",
      "    Anova\n",
      "\n",
      "\n",
      "The following objects are masked from ‘package:MatrixGenerics’:\n",
      "\n",
      "    rowSds, rowVars\n",
      "\n",
      "\n",
      "The following objects are masked from ‘package:matrixStats’:\n",
      "\n",
      "    rowSds, rowVars\n",
      "\n",
      "\n",
      "Loading required package: BiocParallel\n",
      "\n",
      "\n",
      "Attaching package: ‘patchwork’\n",
      "\n",
      "\n",
      "The following object is masked from ‘package:genefilter’:\n",
      "\n",
      "    area\n",
      "\n",
      "\n",
      "The following object is masked from ‘package:cowplot’:\n",
      "\n",
      "    align_plots\n",
      "\n",
      "\n",
      "Type 'citation(\"pROC\")' for a citation.\n",
      "\n",
      "\n",
      "Attaching package: ‘pROC’\n",
      "\n",
      "\n",
      "The following object is masked from ‘package:colorspace’:\n",
      "\n",
      "    coords\n",
      "\n",
      "\n",
      "The following objects are masked from ‘package:IRanges’:\n",
      "\n",
      "    cov, var\n",
      "\n",
      "\n",
      "The following objects are masked from ‘package:S4Vectors’:\n",
      "\n",
      "    cov, var\n",
      "\n",
      "\n",
      "The following object is masked from ‘package:BiocGenerics’:\n",
      "\n",
      "    var\n",
      "\n",
      "\n",
      "The following objects are masked from ‘package:stats’:\n",
      "\n",
      "    cov, smooth, var\n",
      "\n",
      "\n",
      "Loaded glmnet 4.1-6\n",
      "\n",
      "\n",
      "Attaching package: ‘nnet’\n",
      "\n",
      "\n",
      "The following object is masked from ‘package:mgcv’:\n",
      "\n",
      "    multinom\n",
      "\n",
      "\n",
      "\n",
      "Attaching package: ‘dfidx’\n",
      "\n",
      "\n",
      "The following object is masked from ‘package:AnnotationDbi’:\n",
      "\n",
      "    select\n",
      "\n",
      "\n",
      "The following object is masked from ‘package:IRanges’:\n",
      "\n",
      "    slice\n",
      "\n",
      "\n",
      "The following object is masked from ‘package:stats’:\n",
      "\n",
      "    filter\n",
      "\n",
      "\n",
      "\n",
      "Attaching package: ‘cvAUC’\n",
      "\n",
      "\n",
      "The following object is masked from ‘package:genefilter’:\n",
      "\n",
      "    AUC\n",
      "\n",
      "\n",
      "Loading required package: maps\n",
      "\n",
      "Loading required package: shapefiles\n",
      "\n",
      "Loading required package: foreign\n",
      "\n",
      "\n",
      "Attaching package: ‘shapefiles’\n",
      "\n",
      "\n",
      "The following objects are masked from ‘package:foreign’:\n",
      "\n",
      "    read.dbf, write.dbf\n",
      "\n",
      "\n",
      "\n",
      "Attaching package: ‘plotROC’\n",
      "\n",
      "\n",
      "The following object is masked from ‘package:pROC’:\n",
      "\n",
      "    ggroc\n",
      "\n",
      "\n",
      "Welcome! Want to learn more? See two factoextra-related books at https://goo.gl/ve3WBa\n",
      "\n",
      "Loading required package: grid\n",
      "\n",
      "========================================\n",
      "ComplexHeatmap version 2.8.0\n",
      "Bioconductor page: http://bioconductor.org/packages/ComplexHeatmap/\n",
      "Github page: https://github.com/jokergoo/ComplexHeatmap\n",
      "Documentation: http://jokergoo.github.io/ComplexHeatmap-reference\n",
      "\n",
      "If you use it in published research, please cite:\n",
      "Gu, Z. Complex heatmaps reveal patterns and correlations in multidimensional \n",
      "  genomic data. Bioinformatics 2016.\n",
      "\n",
      "The new InteractiveComplexHeatmap package can directly export static \n",
      "complex heatmaps into an interactive Shiny app with zero effort. Have a try!\n",
      "\n",
      "This message can be suppressed by:\n",
      "  suppressPackageStartupMessages(library(ComplexHeatmap))\n",
      "========================================\n",
      "\n",
      "\n",
      "\n",
      "Attaching package: ‘ComplexHeatmap’\n",
      "\n",
      "\n",
      "The following object is masked from ‘package:genefilter’:\n",
      "\n",
      "    dist2\n",
      "\n",
      "\n",
      "The following object is masked from ‘package:network’:\n",
      "\n",
      "    %v%\n",
      "\n",
      "\n",
      "The following object is masked from ‘package:plotly’:\n",
      "\n",
      "    add_heatmap\n",
      "\n",
      "\n",
      "Welcome to compositions, a package for compositional data analysis.\n",
      "Find an intro with \"? compositions\"\n",
      "\n",
      "\n",
      "\n",
      "Attaching package: ‘compositions’\n",
      "\n",
      "\n",
      "The following object is masked from ‘package:glmnet’:\n",
      "\n",
      "    rmult\n",
      "\n",
      "\n",
      "The following objects are masked from ‘package:pROC’:\n",
      "\n",
      "    cov, var\n",
      "\n",
      "\n",
      "The following object is masked from ‘package:DelayedArray’:\n",
      "\n",
      "    scale\n",
      "\n",
      "\n",
      "The following object is masked from ‘package:Matrix’:\n",
      "\n",
      "    norm\n",
      "\n",
      "\n",
      "The following object is masked from ‘package:scater’:\n",
      "\n",
      "    normalize\n",
      "\n",
      "\n",
      "The following objects are masked from ‘package:IRanges’:\n",
      "\n",
      "    cor, cov, var\n",
      "\n",
      "\n",
      "The following objects are masked from ‘package:S4Vectors’:\n",
      "\n",
      "    cor, cov, var\n",
      "\n",
      "\n",
      "The following objects are masked from ‘package:BiocGenerics’:\n",
      "\n",
      "    normalize, var\n",
      "\n",
      "\n",
      "The following object is masked from ‘package:igraph’:\n",
      "\n",
      "    normalize\n",
      "\n",
      "\n",
      "The following objects are masked from ‘package:stats’:\n",
      "\n",
      "    anova, cor, cov, dist, var\n",
      "\n",
      "\n",
      "The following objects are masked from ‘package:base’:\n",
      "\n",
      "    %*%, norm, scale, scale.default\n",
      "\n",
      "\n",
      "========================================\n",
      "circlize version 0.4.15\n",
      "CRAN page: https://cran.r-project.org/package=circlize\n",
      "Github page: https://github.com/jokergoo/circlize\n",
      "Documentation: https://jokergoo.github.io/circlize_book/book/\n",
      "\n",
      "If you use it in published research, please cite:\n",
      "Gu, Z. circlize implements and enhances circular visualization\n",
      "  in R. Bioinformatics 2014.\n",
      "\n",
      "This message can be suppressed by:\n",
      "  suppressPackageStartupMessages(library(circlize))\n",
      "========================================\n",
      "\n",
      "\n",
      "\n",
      "Attaching package: ‘circlize’\n",
      "\n",
      "\n",
      "The following object is masked from ‘package:igraph’:\n",
      "\n",
      "    degree\n",
      "\n",
      "\n",
      "\n",
      "Attaching package: ‘ggpubr’\n",
      "\n",
      "\n",
      "The following object is masked from ‘package:enrichplot’:\n",
      "\n",
      "    color_palette\n",
      "\n",
      "\n",
      "The following object is masked from ‘package:cowplot’:\n",
      "\n",
      "    get_legend\n",
      "\n",
      "\n",
      "Loading required package: survival\n",
      "\n",
      "Loading required package: TH.data\n",
      "\n",
      "Loading required package: MASS\n",
      "\n",
      "\n",
      "Attaching package: ‘MASS’\n",
      "\n",
      "\n",
      "The following object is masked from ‘package:dfidx’:\n",
      "\n",
      "    select\n",
      "\n",
      "\n",
      "The following object is masked from ‘package:patchwork’:\n",
      "\n",
      "    area\n",
      "\n",
      "\n",
      "The following object is masked from ‘package:genefilter’:\n",
      "\n",
      "    area\n",
      "\n",
      "\n",
      "The following object is masked from ‘package:rstatix’:\n",
      "\n",
      "    select\n",
      "\n",
      "\n",
      "The following object is masked from ‘package:clusterProfiler’:\n",
      "\n",
      "    select\n",
      "\n",
      "\n",
      "The following object is masked from ‘package:AnnotationDbi’:\n",
      "\n",
      "    select\n",
      "\n",
      "\n",
      "The following object is masked from ‘package:plotly’:\n",
      "\n",
      "    select\n",
      "\n",
      "\n",
      "The following object is masked from ‘package:dplyr’:\n",
      "\n",
      "    select\n",
      "\n",
      "\n",
      "\n",
      "Attaching package: ‘TH.data’\n",
      "\n",
      "\n",
      "The following object is masked from ‘package:MASS’:\n",
      "\n",
      "    geyser\n",
      "\n",
      "\n"
     ]
    }
   ],
   "source": [
    "source('MS0_Libraries.r')"
   ]
  },
  {
   "cell_type": "code",
   "execution_count": 3,
   "id": "617a9be0-c057-40c6-8e1e-ad761f580f44",
   "metadata": {
    "tags": []
   },
   "outputs": [
    {
     "name": "stderr",
     "output_type": "stream",
     "text": [
      "Warning message:\n",
      "“\u001b[1m\u001b[22mThe `size` argument of `element_line()` is deprecated as of ggplot2 3.4.0.\n",
      "\u001b[36mℹ\u001b[39m Please use the `linewidth` argument instead.”\n"
     ]
    }
   ],
   "source": [
    "source('MS4_Plot_Config.r')"
   ]
  },
  {
   "cell_type": "markdown",
   "id": "297fc701-c77b-4e51-9f7b-ca74bdf9e6c0",
   "metadata": {
    "tags": []
   },
   "source": [
    "###############################################\n",
    "# Preqrequisites Configurations & Parameters"
   ]
  },
  {
   "cell_type": "code",
   "execution_count": 8,
   "id": "4dd112e5-8462-405b-97a8-91c7c5342c57",
   "metadata": {},
   "outputs": [],
   "source": [
    "data_path = '../data/current'"
   ]
  },
  {
   "cell_type": "code",
   "execution_count": 9,
   "id": "780d295e-7d1d-4ef9-94f4-99ba7d68dd29",
   "metadata": {},
   "outputs": [],
   "source": [
    "result_path = '../results/current'"
   ]
  },
  {
   "cell_type": "code",
   "execution_count": 10,
   "id": "de48e4b5-f285-4dc0-be6c-b7d2aa2efc7f",
   "metadata": {},
   "outputs": [
    {
     "data": {
      "text/html": [
       "'../data/current'"
      ],
      "text/latex": [
       "'../data/current'"
      ],
      "text/markdown": [
       "'../data/current'"
      ],
      "text/plain": [
       "[1] \"../data/current\""
      ]
     },
     "metadata": {},
     "output_type": "display_data"
    }
   ],
   "source": [
    "data_path"
   ]
  },
  {
   "cell_type": "code",
   "execution_count": 11,
   "id": "3fddcadb-c37b-4a6b-874c-2d52800bcd01",
   "metadata": {},
   "outputs": [],
   "source": [
    "name = 'V_FINAL_INTEGRATED'  # name of dataset to load"
   ]
  },
  {
   "cell_type": "markdown",
   "id": "27bcb5a9-45ae-4347-9bb4-1d76e4a7a931",
   "metadata": {
    "tags": []
   },
   "source": [
    "# Load Data "
   ]
  },
  {
   "cell_type": "code",
   "execution_count": 12,
   "id": "87b125e9-f630-4b3a-af9c-4759a40a6e01",
   "metadata": {},
   "outputs": [],
   "source": [
    "### Factor and Weight Data from Version with clinical dta"
   ]
  },
  {
   "cell_type": "code",
   "execution_count": 13,
   "id": "ecf19e49-4929-4345-8a68-a0db83e59b3b",
   "metadata": {},
   "outputs": [
    {
     "name": "stdout",
     "output_type": "stream",
     "text": [
      "[1] \"2024-01-03 14:34:39 CET\"\n"
     ]
    }
   ],
   "source": [
    "path =  paste0(result_path, '/E-Analysis/Factor_Data_' , name,'_', FALSE,  '.csv')\n",
    "factor_data = read.csv(path)\n",
    "print(file.info(path)$mtime)"
   ]
  },
  {
   "cell_type": "code",
   "execution_count": 14,
   "id": "87028d0f-d229-4f07-b003-6be2901ab5a0",
   "metadata": {},
   "outputs": [
    {
     "name": "stdout",
     "output_type": "stream",
     "text": [
      "[1] \"2024-01-03 14:34:43 CET\"\n"
     ]
    }
   ],
   "source": [
    "path = paste0(result_path, '/E-Analysis/Weight_Data_' , name, '_', FALSE, '.csv')\n",
    "weight_data = read.csv(path)\n",
    "print(file.info(path)$mtime)"
   ]
  },
  {
   "cell_type": "code",
   "execution_count": 15,
   "id": "aa43f28e-da2b-4d06-8c7d-1b0b1775f3fc",
   "metadata": {},
   "outputs": [],
   "source": [
    "### Factor and Weight Data from Version without clinical data"
   ]
  },
  {
   "cell_type": "code",
   "execution_count": 16,
   "id": "30280d7e-25a0-4c65-aebe-d8c427d92f25",
   "metadata": {},
   "outputs": [
    {
     "name": "stdout",
     "output_type": "stream",
     "text": [
      "[1] \"2024-01-03 15:05:46 CET\"\n"
     ]
    }
   ],
   "source": [
    "path = paste0(result_path, '/E-Analysis/Factor_Data_w_o_clinical' , name,'_', FALSE,  '.csv')\n",
    "factor_data_w_o_clinical = read.csv(path)\n",
    "print(file.info(path)$mtime)"
   ]
  },
  {
   "cell_type": "code",
   "execution_count": 17,
   "id": "dda5296a-2513-437c-9a5c-c0f5fabe8f1e",
   "metadata": {},
   "outputs": [
    {
     "name": "stdout",
     "output_type": "stream",
     "text": [
      "[1] \"2024-01-03 15:05:51 CET\"\n"
     ]
    }
   ],
   "source": [
    "path = paste0(result_path, '/E-Analysis/Weight_Data_w_o_clinical' , name, '_', FALSE, '.csv')\n",
    "weight_data_w_o_clinical = read.csv(path)\n",
    "print(file.info(path)$mtime)"
   ]
  },
  {
   "cell_type": "markdown",
   "id": "d73ab019-6850-43fd-af87-98f7bb5904fb",
   "metadata": {},
   "source": [
    "# Comparisons"
   ]
  },
  {
   "cell_type": "markdown",
   "id": "e1f823ee-47af-4beb-b102-f857a01b9052",
   "metadata": {},
   "source": [
    "## Correlation of factors"
   ]
  },
  {
   "cell_type": "code",
   "execution_count": 18,
   "id": "a58cccfc-2a86-4b80-973f-c028e0faa1a4",
   "metadata": {},
   "outputs": [
    {
     "data": {
      "text/html": [
       "<table class=\"dataframe\">\n",
       "<caption>A data.frame: 2 × 21</caption>\n",
       "<thead>\n",
       "\t<tr><th></th><th scope=col>Factor1</th><th scope=col>Factor2</th><th scope=col>Factor3</th><th scope=col>Factor4</th><th scope=col>Factor5</th><th scope=col>Factor6</th><th scope=col>Factor7</th><th scope=col>Factor8</th><th scope=col>Factor9</th><th scope=col>Factor10</th><th scope=col>⋯</th><th scope=col>Factor12</th><th scope=col>Factor13</th><th scope=col>Factor14</th><th scope=col>Factor15</th><th scope=col>Factor16</th><th scope=col>Factor17</th><th scope=col>Factor18</th><th scope=col>Factor19</th><th scope=col>Factor20</th><th scope=col>sample_id</th></tr>\n",
       "\t<tr><th></th><th scope=col>&lt;dbl&gt;</th><th scope=col>&lt;dbl&gt;</th><th scope=col>&lt;dbl&gt;</th><th scope=col>&lt;dbl&gt;</th><th scope=col>&lt;dbl&gt;</th><th scope=col>&lt;dbl&gt;</th><th scope=col>&lt;dbl&gt;</th><th scope=col>&lt;dbl&gt;</th><th scope=col>&lt;dbl&gt;</th><th scope=col>&lt;dbl&gt;</th><th scope=col>⋯</th><th scope=col>&lt;dbl&gt;</th><th scope=col>&lt;dbl&gt;</th><th scope=col>&lt;dbl&gt;</th><th scope=col>&lt;dbl&gt;</th><th scope=col>&lt;dbl&gt;</th><th scope=col>&lt;dbl&gt;</th><th scope=col>&lt;dbl&gt;</th><th scope=col>&lt;dbl&gt;</th><th scope=col>&lt;dbl&gt;</th><th scope=col>&lt;chr&gt;</th></tr>\n",
       "</thead>\n",
       "<tbody>\n",
       "\t<tr><th scope=row>1</th><td>0.4811325</td><td>-0.2731317</td><td>1.4988169</td><td>-0.4135678</td><td>1.5052706</td><td>-0.92308998</td><td>-0.3904185</td><td>-0.1944797</td><td> 0.16486799</td><td>-0.5581300</td><td>⋯</td><td> 1.3718758</td><td>0.1882956</td><td>-0.3082163</td><td>-0.47997108</td><td>0.3468897</td><td> 0.5692611</td><td> 0.416665730</td><td>-0.60204874</td><td>-0.03085489</td><td>k1 </td></tr>\n",
       "\t<tr><th scope=row>2</th><td>0.8920603</td><td>-0.7547770</td><td>0.3501023</td><td>-0.1524478</td><td>0.4074517</td><td>-0.04596939</td><td> 0.6276925</td><td>-1.1656937</td><td>-0.05003504</td><td>-0.3380343</td><td>⋯</td><td>-0.1020285</td><td>0.1199118</td><td> 0.2096718</td><td> 0.09246619</td><td>0.1335110</td><td>-0.0490552</td><td>-0.001722867</td><td> 0.07838055</td><td>-0.03818913</td><td>k10</td></tr>\n",
       "</tbody>\n",
       "</table>\n"
      ],
      "text/latex": [
       "A data.frame: 2 × 21\n",
       "\\begin{tabular}{r|lllllllllllllllllllll}\n",
       "  & Factor1 & Factor2 & Factor3 & Factor4 & Factor5 & Factor6 & Factor7 & Factor8 & Factor9 & Factor10 & ⋯ & Factor12 & Factor13 & Factor14 & Factor15 & Factor16 & Factor17 & Factor18 & Factor19 & Factor20 & sample\\_id\\\\\n",
       "  & <dbl> & <dbl> & <dbl> & <dbl> & <dbl> & <dbl> & <dbl> & <dbl> & <dbl> & <dbl> & ⋯ & <dbl> & <dbl> & <dbl> & <dbl> & <dbl> & <dbl> & <dbl> & <dbl> & <dbl> & <chr>\\\\\n",
       "\\hline\n",
       "\t1 & 0.4811325 & -0.2731317 & 1.4988169 & -0.4135678 & 1.5052706 & -0.92308998 & -0.3904185 & -0.1944797 &  0.16486799 & -0.5581300 & ⋯ &  1.3718758 & 0.1882956 & -0.3082163 & -0.47997108 & 0.3468897 &  0.5692611 &  0.416665730 & -0.60204874 & -0.03085489 & k1 \\\\\n",
       "\t2 & 0.8920603 & -0.7547770 & 0.3501023 & -0.1524478 & 0.4074517 & -0.04596939 &  0.6276925 & -1.1656937 & -0.05003504 & -0.3380343 & ⋯ & -0.1020285 & 0.1199118 &  0.2096718 &  0.09246619 & 0.1335110 & -0.0490552 & -0.001722867 &  0.07838055 & -0.03818913 & k10\\\\\n",
       "\\end{tabular}\n"
      ],
      "text/markdown": [
       "\n",
       "A data.frame: 2 × 21\n",
       "\n",
       "| <!--/--> | Factor1 &lt;dbl&gt; | Factor2 &lt;dbl&gt; | Factor3 &lt;dbl&gt; | Factor4 &lt;dbl&gt; | Factor5 &lt;dbl&gt; | Factor6 &lt;dbl&gt; | Factor7 &lt;dbl&gt; | Factor8 &lt;dbl&gt; | Factor9 &lt;dbl&gt; | Factor10 &lt;dbl&gt; | ⋯ ⋯ | Factor12 &lt;dbl&gt; | Factor13 &lt;dbl&gt; | Factor14 &lt;dbl&gt; | Factor15 &lt;dbl&gt; | Factor16 &lt;dbl&gt; | Factor17 &lt;dbl&gt; | Factor18 &lt;dbl&gt; | Factor19 &lt;dbl&gt; | Factor20 &lt;dbl&gt; | sample_id &lt;chr&gt; |\n",
       "|---|---|---|---|---|---|---|---|---|---|---|---|---|---|---|---|---|---|---|---|---|---|\n",
       "| 1 | 0.4811325 | -0.2731317 | 1.4988169 | -0.4135678 | 1.5052706 | -0.92308998 | -0.3904185 | -0.1944797 |  0.16486799 | -0.5581300 | ⋯ |  1.3718758 | 0.1882956 | -0.3082163 | -0.47997108 | 0.3468897 |  0.5692611 |  0.416665730 | -0.60204874 | -0.03085489 | k1  |\n",
       "| 2 | 0.8920603 | -0.7547770 | 0.3501023 | -0.1524478 | 0.4074517 | -0.04596939 |  0.6276925 | -1.1656937 | -0.05003504 | -0.3380343 | ⋯ | -0.1020285 | 0.1199118 |  0.2096718 |  0.09246619 | 0.1335110 | -0.0490552 | -0.001722867 |  0.07838055 | -0.03818913 | k10 |\n",
       "\n"
      ],
      "text/plain": [
       "  Factor1   Factor2    Factor3   Factor4    Factor5   Factor6     Factor7   \n",
       "1 0.4811325 -0.2731317 1.4988169 -0.4135678 1.5052706 -0.92308998 -0.3904185\n",
       "2 0.8920603 -0.7547770 0.3501023 -0.1524478 0.4074517 -0.04596939  0.6276925\n",
       "  Factor8    Factor9     Factor10   ⋯ Factor12   Factor13  Factor14  \n",
       "1 -0.1944797  0.16486799 -0.5581300 ⋯  1.3718758 0.1882956 -0.3082163\n",
       "2 -1.1656937 -0.05003504 -0.3380343 ⋯ -0.1020285 0.1199118  0.2096718\n",
       "  Factor15    Factor16  Factor17   Factor18     Factor19    Factor20   \n",
       "1 -0.47997108 0.3468897  0.5692611  0.416665730 -0.60204874 -0.03085489\n",
       "2  0.09246619 0.1335110 -0.0490552 -0.001722867  0.07838055 -0.03818913\n",
       "  sample_id\n",
       "1 k1       \n",
       "2 k10      "
      ]
     },
     "metadata": {},
     "output_type": "display_data"
    }
   ],
   "source": [
    "head(factor_data,2)"
   ]
  },
  {
   "cell_type": "code",
   "execution_count": 19,
   "id": "c9819319-ebc2-4dcd-9d15-4d3cb27d4569",
   "metadata": {},
   "outputs": [
    {
     "data": {
      "text/html": [
       "<table class=\"dataframe\">\n",
       "<caption>A data.frame: 2 × 21</caption>\n",
       "<thead>\n",
       "\t<tr><th></th><th scope=col>Factor1</th><th scope=col>Factor2</th><th scope=col>Factor3</th><th scope=col>Factor4</th><th scope=col>Factor5</th><th scope=col>Factor6</th><th scope=col>Factor7</th><th scope=col>Factor8</th><th scope=col>Factor9</th><th scope=col>Factor10</th><th scope=col>⋯</th><th scope=col>Factor12</th><th scope=col>Factor13</th><th scope=col>Factor14</th><th scope=col>Factor15</th><th scope=col>Factor16</th><th scope=col>Factor17</th><th scope=col>Factor18</th><th scope=col>Factor19</th><th scope=col>Factor20</th><th scope=col>sample_id</th></tr>\n",
       "\t<tr><th></th><th scope=col>&lt;dbl&gt;</th><th scope=col>&lt;dbl&gt;</th><th scope=col>&lt;dbl&gt;</th><th scope=col>&lt;dbl&gt;</th><th scope=col>&lt;dbl&gt;</th><th scope=col>&lt;dbl&gt;</th><th scope=col>&lt;dbl&gt;</th><th scope=col>&lt;dbl&gt;</th><th scope=col>&lt;dbl&gt;</th><th scope=col>&lt;dbl&gt;</th><th scope=col>⋯</th><th scope=col>&lt;dbl&gt;</th><th scope=col>&lt;dbl&gt;</th><th scope=col>&lt;dbl&gt;</th><th scope=col>&lt;dbl&gt;</th><th scope=col>&lt;dbl&gt;</th><th scope=col>&lt;dbl&gt;</th><th scope=col>&lt;dbl&gt;</th><th scope=col>&lt;dbl&gt;</th><th scope=col>&lt;dbl&gt;</th><th scope=col>&lt;chr&gt;</th></tr>\n",
       "</thead>\n",
       "<tbody>\n",
       "\t<tr><th scope=row>1</th><td>0.2399255</td><td>-0.05739971</td><td>1.4907896</td><td>-0.32665242</td><td>1.267384</td><td>-0.76449296</td><td>-0.2062638</td><td>-0.4015635</td><td> 0.13934268</td><td>-0.5942366</td><td>⋯</td><td> 1.3987023</td><td>-0.2781827</td><td>0.3304071</td><td>0.1524369</td><td> 0.343907604</td><td> 0.59804301</td><td>-0.63067345</td><td>-0.48486844</td><td>-0.20108153</td><td>k1 </td></tr>\n",
       "\t<tr><th scope=row>2</th><td>0.9120340</td><td>-0.73742041</td><td>0.3457404</td><td>-0.08340577</td><td>0.397841</td><td>-0.03302189</td><td>-1.1732596</td><td> 0.6276986</td><td>-0.05103549</td><td>-0.3492411</td><td>⋯</td><td>-0.1025336</td><td> 0.2056910</td><td>0.1377031</td><td>0.1219240</td><td>-0.007729483</td><td>-0.04886579</td><td> 0.07816087</td><td> 0.09603544</td><td>-0.03821721</td><td>k10</td></tr>\n",
       "</tbody>\n",
       "</table>\n"
      ],
      "text/latex": [
       "A data.frame: 2 × 21\n",
       "\\begin{tabular}{r|lllllllllllllllllllll}\n",
       "  & Factor1 & Factor2 & Factor3 & Factor4 & Factor5 & Factor6 & Factor7 & Factor8 & Factor9 & Factor10 & ⋯ & Factor12 & Factor13 & Factor14 & Factor15 & Factor16 & Factor17 & Factor18 & Factor19 & Factor20 & sample\\_id\\\\\n",
       "  & <dbl> & <dbl> & <dbl> & <dbl> & <dbl> & <dbl> & <dbl> & <dbl> & <dbl> & <dbl> & ⋯ & <dbl> & <dbl> & <dbl> & <dbl> & <dbl> & <dbl> & <dbl> & <dbl> & <dbl> & <chr>\\\\\n",
       "\\hline\n",
       "\t1 & 0.2399255 & -0.05739971 & 1.4907896 & -0.32665242 & 1.267384 & -0.76449296 & -0.2062638 & -0.4015635 &  0.13934268 & -0.5942366 & ⋯ &  1.3987023 & -0.2781827 & 0.3304071 & 0.1524369 &  0.343907604 &  0.59804301 & -0.63067345 & -0.48486844 & -0.20108153 & k1 \\\\\n",
       "\t2 & 0.9120340 & -0.73742041 & 0.3457404 & -0.08340577 & 0.397841 & -0.03302189 & -1.1732596 &  0.6276986 & -0.05103549 & -0.3492411 & ⋯ & -0.1025336 &  0.2056910 & 0.1377031 & 0.1219240 & -0.007729483 & -0.04886579 &  0.07816087 &  0.09603544 & -0.03821721 & k10\\\\\n",
       "\\end{tabular}\n"
      ],
      "text/markdown": [
       "\n",
       "A data.frame: 2 × 21\n",
       "\n",
       "| <!--/--> | Factor1 &lt;dbl&gt; | Factor2 &lt;dbl&gt; | Factor3 &lt;dbl&gt; | Factor4 &lt;dbl&gt; | Factor5 &lt;dbl&gt; | Factor6 &lt;dbl&gt; | Factor7 &lt;dbl&gt; | Factor8 &lt;dbl&gt; | Factor9 &lt;dbl&gt; | Factor10 &lt;dbl&gt; | ⋯ ⋯ | Factor12 &lt;dbl&gt; | Factor13 &lt;dbl&gt; | Factor14 &lt;dbl&gt; | Factor15 &lt;dbl&gt; | Factor16 &lt;dbl&gt; | Factor17 &lt;dbl&gt; | Factor18 &lt;dbl&gt; | Factor19 &lt;dbl&gt; | Factor20 &lt;dbl&gt; | sample_id &lt;chr&gt; |\n",
       "|---|---|---|---|---|---|---|---|---|---|---|---|---|---|---|---|---|---|---|---|---|---|\n",
       "| 1 | 0.2399255 | -0.05739971 | 1.4907896 | -0.32665242 | 1.267384 | -0.76449296 | -0.2062638 | -0.4015635 |  0.13934268 | -0.5942366 | ⋯ |  1.3987023 | -0.2781827 | 0.3304071 | 0.1524369 |  0.343907604 |  0.59804301 | -0.63067345 | -0.48486844 | -0.20108153 | k1  |\n",
       "| 2 | 0.9120340 | -0.73742041 | 0.3457404 | -0.08340577 | 0.397841 | -0.03302189 | -1.1732596 |  0.6276986 | -0.05103549 | -0.3492411 | ⋯ | -0.1025336 |  0.2056910 | 0.1377031 | 0.1219240 | -0.007729483 | -0.04886579 |  0.07816087 |  0.09603544 | -0.03821721 | k10 |\n",
       "\n"
      ],
      "text/plain": [
       "  Factor1   Factor2     Factor3   Factor4     Factor5  Factor6     Factor7   \n",
       "1 0.2399255 -0.05739971 1.4907896 -0.32665242 1.267384 -0.76449296 -0.2062638\n",
       "2 0.9120340 -0.73742041 0.3457404 -0.08340577 0.397841 -0.03302189 -1.1732596\n",
       "  Factor8    Factor9     Factor10   ⋯ Factor12   Factor13   Factor14  Factor15 \n",
       "1 -0.4015635  0.13934268 -0.5942366 ⋯  1.3987023 -0.2781827 0.3304071 0.1524369\n",
       "2  0.6276986 -0.05103549 -0.3492411 ⋯ -0.1025336  0.2056910 0.1377031 0.1219240\n",
       "  Factor16     Factor17    Factor18    Factor19    Factor20    sample_id\n",
       "1  0.343907604  0.59804301 -0.63067345 -0.48486844 -0.20108153 k1       \n",
       "2 -0.007729483 -0.04886579  0.07816087  0.09603544 -0.03821721 k10      "
      ]
     },
     "metadata": {},
     "output_type": "display_data"
    }
   ],
   "source": [
    "head(factor_data_w_o_clinical,2)"
   ]
  },
  {
   "cell_type": "code",
   "execution_count": 20,
   "id": "3d6b04e2-37e8-4834-8f67-002697ed4e38",
   "metadata": {},
   "outputs": [],
   "source": [
    "colnames(factor_data_w_o_clinical) = paste0(colnames(factor_data_w_o_clinical), 'w_o_clinical')"
   ]
  },
  {
   "cell_type": "code",
   "execution_count": 21,
   "id": "ac7df51b-6afa-40b5-90a0-50a0c5c7c60e",
   "metadata": {},
   "outputs": [],
   "source": [
    "factors_combined = merge(factor_data, factor_data_w_o_clinical, by.x = 'sample_id', by.y = 'sample_idw_o_clinical')"
   ]
  },
  {
   "cell_type": "code",
   "execution_count": 22,
   "id": "d2192e3e-6bfd-4643-8ccf-dfa6b3a9182d",
   "metadata": {},
   "outputs": [
    {
     "data": {
      "text/html": [
       "128"
      ],
      "text/latex": [
       "128"
      ],
      "text/markdown": [
       "128"
      ],
      "text/plain": [
       "[1] 128"
      ]
     },
     "metadata": {},
     "output_type": "display_data"
    }
   ],
   "source": [
    "nrow(factors_combined)"
   ]
  },
  {
   "cell_type": "code",
   "execution_count": 23,
   "id": "cdbddef4-5589-49ea-bac9-924a1964d32d",
   "metadata": {},
   "outputs": [
    {
     "data": {
      "text/html": [
       "<table class=\"dataframe\">\n",
       "<caption>A data.frame: 6 × 41</caption>\n",
       "<thead>\n",
       "\t<tr><th></th><th scope=col>sample_id</th><th scope=col>Factor1</th><th scope=col>Factor2</th><th scope=col>Factor3</th><th scope=col>Factor4</th><th scope=col>Factor5</th><th scope=col>Factor6</th><th scope=col>Factor7</th><th scope=col>Factor8</th><th scope=col>Factor9</th><th scope=col>⋯</th><th scope=col>Factor11w_o_clinical</th><th scope=col>Factor12w_o_clinical</th><th scope=col>Factor13w_o_clinical</th><th scope=col>Factor14w_o_clinical</th><th scope=col>Factor15w_o_clinical</th><th scope=col>Factor16w_o_clinical</th><th scope=col>Factor17w_o_clinical</th><th scope=col>Factor18w_o_clinical</th><th scope=col>Factor19w_o_clinical</th><th scope=col>Factor20w_o_clinical</th></tr>\n",
       "\t<tr><th></th><th scope=col>&lt;chr&gt;</th><th scope=col>&lt;dbl&gt;</th><th scope=col>&lt;dbl&gt;</th><th scope=col>&lt;dbl&gt;</th><th scope=col>&lt;dbl&gt;</th><th scope=col>&lt;dbl&gt;</th><th scope=col>&lt;dbl&gt;</th><th scope=col>&lt;dbl&gt;</th><th scope=col>&lt;dbl&gt;</th><th scope=col>&lt;dbl&gt;</th><th scope=col>⋯</th><th scope=col>&lt;dbl&gt;</th><th scope=col>&lt;dbl&gt;</th><th scope=col>&lt;dbl&gt;</th><th scope=col>&lt;dbl&gt;</th><th scope=col>&lt;dbl&gt;</th><th scope=col>&lt;dbl&gt;</th><th scope=col>&lt;dbl&gt;</th><th scope=col>&lt;dbl&gt;</th><th scope=col>&lt;dbl&gt;</th><th scope=col>&lt;dbl&gt;</th></tr>\n",
       "</thead>\n",
       "<tbody>\n",
       "\t<tr><th scope=row>1</th><td>k1 </td><td> 0.4811325</td><td>-0.2731317</td><td> 1.4988169</td><td>-0.4135678</td><td> 1.5052706</td><td>-0.92308998</td><td>-0.3904185</td><td>-0.19447969</td><td> 0.164867991</td><td>⋯</td><td>-0.05194047</td><td> 1.398702331</td><td>-0.27818268</td><td> 0.33040710</td><td> 0.15243694</td><td> 0.343907604</td><td> 0.59804301</td><td>-0.63067345</td><td>-0.48486844</td><td>-0.20108153</td></tr>\n",
       "\t<tr><th scope=row>2</th><td>k10</td><td> 0.8920603</td><td>-0.7547770</td><td> 0.3501023</td><td>-0.1524478</td><td> 0.4074517</td><td>-0.04596939</td><td> 0.6276925</td><td>-1.16569374</td><td>-0.050035038</td><td>⋯</td><td>-0.01582432</td><td>-0.102533562</td><td> 0.20569099</td><td> 0.13770309</td><td> 0.12192402</td><td>-0.007729483</td><td>-0.04886579</td><td> 0.07816087</td><td> 0.09603544</td><td>-0.03821721</td></tr>\n",
       "\t<tr><th scope=row>3</th><td>k11</td><td>-1.2439808</td><td>-0.9826224</td><td>-0.8230479</td><td>-0.3559941</td><td> 1.0458397</td><td> 0.11800347</td><td>-0.2770340</td><td>-0.19013233</td><td>-0.109596117</td><td>⋯</td><td> 0.02304043</td><td>-0.015950130</td><td> 0.04337330</td><td>-0.01056540</td><td>-0.03441536</td><td> 0.174703060</td><td> 0.03304282</td><td> 0.10881924</td><td>-0.01643461</td><td>-0.02860477</td></tr>\n",
       "\t<tr><th scope=row>4</th><td>k12</td><td>-1.9847781</td><td>-1.6711527</td><td>-1.0857874</td><td>-0.4570102</td><td> 0.6403206</td><td>-0.37214375</td><td>-0.9344379</td><td>-0.19164419</td><td> 0.036760715</td><td>⋯</td><td> 0.15012540</td><td> 0.001733234</td><td> 0.14569132</td><td> 0.02787915</td><td> 0.03876406</td><td> 0.295217704</td><td> 0.01888906</td><td>-0.15746099</td><td> 0.48965351</td><td>-0.10732197</td></tr>\n",
       "\t<tr><th scope=row>5</th><td>k13</td><td>-0.1151065</td><td>-0.6049663</td><td>-1.0757514</td><td> 0.2528200</td><td> 0.9996823</td><td> 0.18219803</td><td> 0.1165207</td><td>-0.43359749</td><td> 0.009879488</td><td>⋯</td><td>-0.01499533</td><td>-0.044164453</td><td> 0.08615848</td><td>-0.14081600</td><td>-0.20128156</td><td> 0.152224923</td><td>-0.03360295</td><td>-0.19673346</td><td>-0.05667137</td><td> 0.12189720</td></tr>\n",
       "\t<tr><th scope=row>6</th><td>k14</td><td> 1.7202884</td><td>-1.0439370</td><td>-0.4129450</td><td> 0.4372901</td><td>-0.3166721</td><td> 0.18048541</td><td> 0.5870578</td><td>-0.07855377</td><td> 0.078069027</td><td>⋯</td><td> 0.11155881</td><td> 0.011087358</td><td> 0.10619924</td><td>-0.36647114</td><td>-0.04515610</td><td>-0.042144473</td><td>-0.08188111</td><td>-0.16157832</td><td>-0.01446810</td><td> 0.18374978</td></tr>\n",
       "</tbody>\n",
       "</table>\n"
      ],
      "text/latex": [
       "A data.frame: 6 × 41\n",
       "\\begin{tabular}{r|lllllllllllllllllllll}\n",
       "  & sample\\_id & Factor1 & Factor2 & Factor3 & Factor4 & Factor5 & Factor6 & Factor7 & Factor8 & Factor9 & ⋯ & Factor11w\\_o\\_clinical & Factor12w\\_o\\_clinical & Factor13w\\_o\\_clinical & Factor14w\\_o\\_clinical & Factor15w\\_o\\_clinical & Factor16w\\_o\\_clinical & Factor17w\\_o\\_clinical & Factor18w\\_o\\_clinical & Factor19w\\_o\\_clinical & Factor20w\\_o\\_clinical\\\\\n",
       "  & <chr> & <dbl> & <dbl> & <dbl> & <dbl> & <dbl> & <dbl> & <dbl> & <dbl> & <dbl> & ⋯ & <dbl> & <dbl> & <dbl> & <dbl> & <dbl> & <dbl> & <dbl> & <dbl> & <dbl> & <dbl>\\\\\n",
       "\\hline\n",
       "\t1 & k1  &  0.4811325 & -0.2731317 &  1.4988169 & -0.4135678 &  1.5052706 & -0.92308998 & -0.3904185 & -0.19447969 &  0.164867991 & ⋯ & -0.05194047 &  1.398702331 & -0.27818268 &  0.33040710 &  0.15243694 &  0.343907604 &  0.59804301 & -0.63067345 & -0.48486844 & -0.20108153\\\\\n",
       "\t2 & k10 &  0.8920603 & -0.7547770 &  0.3501023 & -0.1524478 &  0.4074517 & -0.04596939 &  0.6276925 & -1.16569374 & -0.050035038 & ⋯ & -0.01582432 & -0.102533562 &  0.20569099 &  0.13770309 &  0.12192402 & -0.007729483 & -0.04886579 &  0.07816087 &  0.09603544 & -0.03821721\\\\\n",
       "\t3 & k11 & -1.2439808 & -0.9826224 & -0.8230479 & -0.3559941 &  1.0458397 &  0.11800347 & -0.2770340 & -0.19013233 & -0.109596117 & ⋯ &  0.02304043 & -0.015950130 &  0.04337330 & -0.01056540 & -0.03441536 &  0.174703060 &  0.03304282 &  0.10881924 & -0.01643461 & -0.02860477\\\\\n",
       "\t4 & k12 & -1.9847781 & -1.6711527 & -1.0857874 & -0.4570102 &  0.6403206 & -0.37214375 & -0.9344379 & -0.19164419 &  0.036760715 & ⋯ &  0.15012540 &  0.001733234 &  0.14569132 &  0.02787915 &  0.03876406 &  0.295217704 &  0.01888906 & -0.15746099 &  0.48965351 & -0.10732197\\\\\n",
       "\t5 & k13 & -0.1151065 & -0.6049663 & -1.0757514 &  0.2528200 &  0.9996823 &  0.18219803 &  0.1165207 & -0.43359749 &  0.009879488 & ⋯ & -0.01499533 & -0.044164453 &  0.08615848 & -0.14081600 & -0.20128156 &  0.152224923 & -0.03360295 & -0.19673346 & -0.05667137 &  0.12189720\\\\\n",
       "\t6 & k14 &  1.7202884 & -1.0439370 & -0.4129450 &  0.4372901 & -0.3166721 &  0.18048541 &  0.5870578 & -0.07855377 &  0.078069027 & ⋯ &  0.11155881 &  0.011087358 &  0.10619924 & -0.36647114 & -0.04515610 & -0.042144473 & -0.08188111 & -0.16157832 & -0.01446810 &  0.18374978\\\\\n",
       "\\end{tabular}\n"
      ],
      "text/markdown": [
       "\n",
       "A data.frame: 6 × 41\n",
       "\n",
       "| <!--/--> | sample_id &lt;chr&gt; | Factor1 &lt;dbl&gt; | Factor2 &lt;dbl&gt; | Factor3 &lt;dbl&gt; | Factor4 &lt;dbl&gt; | Factor5 &lt;dbl&gt; | Factor6 &lt;dbl&gt; | Factor7 &lt;dbl&gt; | Factor8 &lt;dbl&gt; | Factor9 &lt;dbl&gt; | ⋯ ⋯ | Factor11w_o_clinical &lt;dbl&gt; | Factor12w_o_clinical &lt;dbl&gt; | Factor13w_o_clinical &lt;dbl&gt; | Factor14w_o_clinical &lt;dbl&gt; | Factor15w_o_clinical &lt;dbl&gt; | Factor16w_o_clinical &lt;dbl&gt; | Factor17w_o_clinical &lt;dbl&gt; | Factor18w_o_clinical &lt;dbl&gt; | Factor19w_o_clinical &lt;dbl&gt; | Factor20w_o_clinical &lt;dbl&gt; |\n",
       "|---|---|---|---|---|---|---|---|---|---|---|---|---|---|---|---|---|---|---|---|---|---|\n",
       "| 1 | k1  |  0.4811325 | -0.2731317 |  1.4988169 | -0.4135678 |  1.5052706 | -0.92308998 | -0.3904185 | -0.19447969 |  0.164867991 | ⋯ | -0.05194047 |  1.398702331 | -0.27818268 |  0.33040710 |  0.15243694 |  0.343907604 |  0.59804301 | -0.63067345 | -0.48486844 | -0.20108153 |\n",
       "| 2 | k10 |  0.8920603 | -0.7547770 |  0.3501023 | -0.1524478 |  0.4074517 | -0.04596939 |  0.6276925 | -1.16569374 | -0.050035038 | ⋯ | -0.01582432 | -0.102533562 |  0.20569099 |  0.13770309 |  0.12192402 | -0.007729483 | -0.04886579 |  0.07816087 |  0.09603544 | -0.03821721 |\n",
       "| 3 | k11 | -1.2439808 | -0.9826224 | -0.8230479 | -0.3559941 |  1.0458397 |  0.11800347 | -0.2770340 | -0.19013233 | -0.109596117 | ⋯ |  0.02304043 | -0.015950130 |  0.04337330 | -0.01056540 | -0.03441536 |  0.174703060 |  0.03304282 |  0.10881924 | -0.01643461 | -0.02860477 |\n",
       "| 4 | k12 | -1.9847781 | -1.6711527 | -1.0857874 | -0.4570102 |  0.6403206 | -0.37214375 | -0.9344379 | -0.19164419 |  0.036760715 | ⋯ |  0.15012540 |  0.001733234 |  0.14569132 |  0.02787915 |  0.03876406 |  0.295217704 |  0.01888906 | -0.15746099 |  0.48965351 | -0.10732197 |\n",
       "| 5 | k13 | -0.1151065 | -0.6049663 | -1.0757514 |  0.2528200 |  0.9996823 |  0.18219803 |  0.1165207 | -0.43359749 |  0.009879488 | ⋯ | -0.01499533 | -0.044164453 |  0.08615848 | -0.14081600 | -0.20128156 |  0.152224923 | -0.03360295 | -0.19673346 | -0.05667137 |  0.12189720 |\n",
       "| 6 | k14 |  1.7202884 | -1.0439370 | -0.4129450 |  0.4372901 | -0.3166721 |  0.18048541 |  0.5870578 | -0.07855377 |  0.078069027 | ⋯ |  0.11155881 |  0.011087358 |  0.10619924 | -0.36647114 | -0.04515610 | -0.042144473 | -0.08188111 | -0.16157832 | -0.01446810 |  0.18374978 |\n",
       "\n"
      ],
      "text/plain": [
       "  sample_id Factor1    Factor2    Factor3    Factor4    Factor5    Factor6    \n",
       "1 k1         0.4811325 -0.2731317  1.4988169 -0.4135678  1.5052706 -0.92308998\n",
       "2 k10        0.8920603 -0.7547770  0.3501023 -0.1524478  0.4074517 -0.04596939\n",
       "3 k11       -1.2439808 -0.9826224 -0.8230479 -0.3559941  1.0458397  0.11800347\n",
       "4 k12       -1.9847781 -1.6711527 -1.0857874 -0.4570102  0.6403206 -0.37214375\n",
       "5 k13       -0.1151065 -0.6049663 -1.0757514  0.2528200  0.9996823  0.18219803\n",
       "6 k14        1.7202884 -1.0439370 -0.4129450  0.4372901 -0.3166721  0.18048541\n",
       "  Factor7    Factor8     Factor9      ⋯ Factor11w_o_clinical\n",
       "1 -0.3904185 -0.19447969  0.164867991 ⋯ -0.05194047         \n",
       "2  0.6276925 -1.16569374 -0.050035038 ⋯ -0.01582432         \n",
       "3 -0.2770340 -0.19013233 -0.109596117 ⋯  0.02304043         \n",
       "4 -0.9344379 -0.19164419  0.036760715 ⋯  0.15012540         \n",
       "5  0.1165207 -0.43359749  0.009879488 ⋯ -0.01499533         \n",
       "6  0.5870578 -0.07855377  0.078069027 ⋯  0.11155881         \n",
       "  Factor12w_o_clinical Factor13w_o_clinical Factor14w_o_clinical\n",
       "1  1.398702331         -0.27818268           0.33040710         \n",
       "2 -0.102533562          0.20569099           0.13770309         \n",
       "3 -0.015950130          0.04337330          -0.01056540         \n",
       "4  0.001733234          0.14569132           0.02787915         \n",
       "5 -0.044164453          0.08615848          -0.14081600         \n",
       "6  0.011087358          0.10619924          -0.36647114         \n",
       "  Factor15w_o_clinical Factor16w_o_clinical Factor17w_o_clinical\n",
       "1  0.15243694           0.343907604          0.59804301         \n",
       "2  0.12192402          -0.007729483         -0.04886579         \n",
       "3 -0.03441536           0.174703060          0.03304282         \n",
       "4  0.03876406           0.295217704          0.01888906         \n",
       "5 -0.20128156           0.152224923         -0.03360295         \n",
       "6 -0.04515610          -0.042144473         -0.08188111         \n",
       "  Factor18w_o_clinical Factor19w_o_clinical Factor20w_o_clinical\n",
       "1 -0.63067345          -0.48486844          -0.20108153         \n",
       "2  0.07816087           0.09603544          -0.03821721         \n",
       "3  0.10881924          -0.01643461          -0.02860477         \n",
       "4 -0.15746099           0.48965351          -0.10732197         \n",
       "5 -0.19673346          -0.05667137           0.12189720         \n",
       "6 -0.16157832          -0.01446810           0.18374978         "
      ]
     },
     "metadata": {},
     "output_type": "display_data"
    }
   ],
   "source": [
    "head(factors_combined)"
   ]
  },
  {
   "cell_type": "code",
   "execution_count": 24,
   "id": "78989cd3-456d-4fec-aaa2-e954b3cbd32e",
   "metadata": {},
   "outputs": [],
   "source": [
    "factors_combined$sample_id = NULL"
   ]
  },
  {
   "cell_type": "code",
   "execution_count": 25,
   "id": "8376c44d-cbd7-4612-bd29-f1f48bdd2ce8",
   "metadata": {},
   "outputs": [],
   "source": [
    "correlations = cor(factors_combined ,method = 'pearson',  use = \"pairwise.complete.obs\")"
   ]
  },
  {
   "cell_type": "code",
   "execution_count": 26,
   "id": "231eb38c-144d-4978-b251-8869d11ffe4a",
   "metadata": {},
   "outputs": [],
   "source": [
    "correlations = correlations[rownames(correlations) %in% colnames(factor_data),colnames(correlations) %in% colnames(factor_data_w_o_clinical)] "
   ]
  },
  {
   "cell_type": "code",
   "execution_count": 27,
   "id": "b34c8bce-300c-4e30-b758-95f424ccf87a",
   "metadata": {},
   "outputs": [
    {
     "data": {
      "text/html": [
       "<table class=\"dataframe\">\n",
       "<caption>A matrix: 2 × 20 of type dbl</caption>\n",
       "<thead>\n",
       "\t<tr><th></th><th scope=col>Factor1w_o_clinical</th><th scope=col>Factor2w_o_clinical</th><th scope=col>Factor3w_o_clinical</th><th scope=col>Factor4w_o_clinical</th><th scope=col>Factor5w_o_clinical</th><th scope=col>Factor6w_o_clinical</th><th scope=col>Factor7w_o_clinical</th><th scope=col>Factor8w_o_clinical</th><th scope=col>Factor9w_o_clinical</th><th scope=col>Factor10w_o_clinical</th><th scope=col>Factor11w_o_clinical</th><th scope=col>Factor12w_o_clinical</th><th scope=col>Factor13w_o_clinical</th><th scope=col>Factor14w_o_clinical</th><th scope=col>Factor15w_o_clinical</th><th scope=col>Factor16w_o_clinical</th><th scope=col>Factor17w_o_clinical</th><th scope=col>Factor18w_o_clinical</th><th scope=col>Factor19w_o_clinical</th><th scope=col>Factor20w_o_clinical</th></tr>\n",
       "</thead>\n",
       "<tbody>\n",
       "\t<tr><th scope=row>Factor1</th><td> 0.99927146</td><td>-0.03539319</td><td>-0.01769203</td><td>-0.008411804</td><td>-0.007067446</td><td>-0.02534856</td><td>-0.13679659</td><td>-0.02173373</td><td>-0.01162820</td><td> 0.003976814</td><td> 0.047200048</td><td> 0.002224085</td><td>0.01501283</td><td>-0.01340428</td><td>0.04166814</td><td>0.01259856</td><td> 0.001043841</td><td>0.008065295</td><td>-0.02714259</td><td>0.01172162</td></tr>\n",
       "\t<tr><th scope=row>Factor2</th><td>-0.04372627</td><td> 0.99887923</td><td>-0.03275913</td><td>-0.038656319</td><td>-0.063880356</td><td>-0.03913053</td><td>-0.03939819</td><td>-0.08858922</td><td> 0.03867616</td><td>-0.014078772</td><td>-0.009767095</td><td>-0.060667113</td><td>0.09381867</td><td> 0.11622318</td><td>0.01511778</td><td>0.03451961</td><td>-0.047539734</td><td>0.070818395</td><td> 0.09078856</td><td>0.02624502</td></tr>\n",
       "</tbody>\n",
       "</table>\n"
      ],
      "text/latex": [
       "A matrix: 2 × 20 of type dbl\n",
       "\\begin{tabular}{r|llllllllllllllllllll}\n",
       "  & Factor1w\\_o\\_clinical & Factor2w\\_o\\_clinical & Factor3w\\_o\\_clinical & Factor4w\\_o\\_clinical & Factor5w\\_o\\_clinical & Factor6w\\_o\\_clinical & Factor7w\\_o\\_clinical & Factor8w\\_o\\_clinical & Factor9w\\_o\\_clinical & Factor10w\\_o\\_clinical & Factor11w\\_o\\_clinical & Factor12w\\_o\\_clinical & Factor13w\\_o\\_clinical & Factor14w\\_o\\_clinical & Factor15w\\_o\\_clinical & Factor16w\\_o\\_clinical & Factor17w\\_o\\_clinical & Factor18w\\_o\\_clinical & Factor19w\\_o\\_clinical & Factor20w\\_o\\_clinical\\\\\n",
       "\\hline\n",
       "\tFactor1 &  0.99927146 & -0.03539319 & -0.01769203 & -0.008411804 & -0.007067446 & -0.02534856 & -0.13679659 & -0.02173373 & -0.01162820 &  0.003976814 &  0.047200048 &  0.002224085 & 0.01501283 & -0.01340428 & 0.04166814 & 0.01259856 &  0.001043841 & 0.008065295 & -0.02714259 & 0.01172162\\\\\n",
       "\tFactor2 & -0.04372627 &  0.99887923 & -0.03275913 & -0.038656319 & -0.063880356 & -0.03913053 & -0.03939819 & -0.08858922 &  0.03867616 & -0.014078772 & -0.009767095 & -0.060667113 & 0.09381867 &  0.11622318 & 0.01511778 & 0.03451961 & -0.047539734 & 0.070818395 &  0.09078856 & 0.02624502\\\\\n",
       "\\end{tabular}\n"
      ],
      "text/markdown": [
       "\n",
       "A matrix: 2 × 20 of type dbl\n",
       "\n",
       "| <!--/--> | Factor1w_o_clinical | Factor2w_o_clinical | Factor3w_o_clinical | Factor4w_o_clinical | Factor5w_o_clinical | Factor6w_o_clinical | Factor7w_o_clinical | Factor8w_o_clinical | Factor9w_o_clinical | Factor10w_o_clinical | Factor11w_o_clinical | Factor12w_o_clinical | Factor13w_o_clinical | Factor14w_o_clinical | Factor15w_o_clinical | Factor16w_o_clinical | Factor17w_o_clinical | Factor18w_o_clinical | Factor19w_o_clinical | Factor20w_o_clinical |\n",
       "|---|---|---|---|---|---|---|---|---|---|---|---|---|---|---|---|---|---|---|---|---|\n",
       "| Factor1 |  0.99927146 | -0.03539319 | -0.01769203 | -0.008411804 | -0.007067446 | -0.02534856 | -0.13679659 | -0.02173373 | -0.01162820 |  0.003976814 |  0.047200048 |  0.002224085 | 0.01501283 | -0.01340428 | 0.04166814 | 0.01259856 |  0.001043841 | 0.008065295 | -0.02714259 | 0.01172162 |\n",
       "| Factor2 | -0.04372627 |  0.99887923 | -0.03275913 | -0.038656319 | -0.063880356 | -0.03913053 | -0.03939819 | -0.08858922 |  0.03867616 | -0.014078772 | -0.009767095 | -0.060667113 | 0.09381867 |  0.11622318 | 0.01511778 | 0.03451961 | -0.047539734 | 0.070818395 |  0.09078856 | 0.02624502 |\n",
       "\n"
      ],
      "text/plain": [
       "        Factor1w_o_clinical Factor2w_o_clinical Factor3w_o_clinical\n",
       "Factor1  0.99927146         -0.03539319         -0.01769203        \n",
       "Factor2 -0.04372627          0.99887923         -0.03275913        \n",
       "        Factor4w_o_clinical Factor5w_o_clinical Factor6w_o_clinical\n",
       "Factor1 -0.008411804        -0.007067446        -0.02534856        \n",
       "Factor2 -0.038656319        -0.063880356        -0.03913053        \n",
       "        Factor7w_o_clinical Factor8w_o_clinical Factor9w_o_clinical\n",
       "Factor1 -0.13679659         -0.02173373         -0.01162820        \n",
       "Factor2 -0.03939819         -0.08858922          0.03867616        \n",
       "        Factor10w_o_clinical Factor11w_o_clinical Factor12w_o_clinical\n",
       "Factor1  0.003976814          0.047200048          0.002224085        \n",
       "Factor2 -0.014078772         -0.009767095         -0.060667113        \n",
       "        Factor13w_o_clinical Factor14w_o_clinical Factor15w_o_clinical\n",
       "Factor1 0.01501283           -0.01340428          0.04166814          \n",
       "Factor2 0.09381867            0.11622318          0.01511778          \n",
       "        Factor16w_o_clinical Factor17w_o_clinical Factor18w_o_clinical\n",
       "Factor1 0.01259856            0.001043841         0.008065295         \n",
       "Factor2 0.03451961           -0.047539734         0.070818395         \n",
       "        Factor19w_o_clinical Factor20w_o_clinical\n",
       "Factor1 -0.02714259          0.01172162          \n",
       "Factor2  0.09078856          0.02624502          "
      ]
     },
     "metadata": {},
     "output_type": "display_data"
    }
   ],
   "source": [
    "head(correlations,2)"
   ]
  },
  {
   "cell_type": "code",
   "execution_count": 28,
   "id": "5379e2f5-c1ed-4baa-878d-a1f68f054fd4",
   "metadata": {},
   "outputs": [],
   "source": [
    "#### Plot complete explained variance"
   ]
  },
  {
   "cell_type": "code",
   "execution_count": 29,
   "id": "ebd049cf-bbe6-4769-831b-7d336060ceab",
   "metadata": {},
   "outputs": [],
   "source": [
    "figure_name = \"SUPP4_Correlation_Factor_Values_Mofa_Models\""
   ]
  },
  {
   "cell_type": "code",
   "execution_count": 30,
   "id": "fc923d25-f89d-4eea-b202-92b75d5b225e",
   "metadata": {},
   "outputs": [],
   "source": [
    "# Sizes of the plot\n",
    "width_par = 8\n",
    "height_par = 5.5"
   ]
  },
  {
   "cell_type": "code",
   "execution_count": 32,
   "id": "da73697f-ee66-4aaa-a279-ece655f256f2",
   "metadata": {},
   "outputs": [],
   "source": [
    "## Order by sizes\n",
    "col_order = c('Factor1w_o_clinical', 'Factor2w_o_clinical', 'Factor3w_o_clinical','Factor4w_o_clinical',\n",
    "                               'Factor5w_o_clinical', 'Factor6w_o_clinical', 'Factor8w_o_clinical', 'Factor7w_o_clinical',\n",
    "              'Factor9w_o_clinical', 'Factor10w_o_clinical', 'Factor11w_o_clinical', 'Factor12w_o_clinical',\n",
    "              'Factor15w_o_clinical',  'Factor13w_o_clinical',  'Factor19w_o_clinical',  'Factor14w_o_clinical',  'Factor17w_o_clinical',\n",
    "             'Factor16w_o_clinical', 'Factor18w_o_clinical', 'Factor20w_o_clinical')\n",
    "correlations = correlations[,col_order]"
   ]
  },
  {
   "cell_type": "code",
   "execution_count": 33,
   "id": "1aa5b559-24f0-4b12-811e-a409a86f4e10",
   "metadata": {},
   "outputs": [
    {
     "data": {
      "text/html": [
       "<strong>png:</strong> 2"
      ],
      "text/latex": [
       "\\textbf{png:} 2"
      ],
      "text/markdown": [
       "**png:** 2"
      ],
      "text/plain": [
       "png \n",
       "  2 "
      ]
     },
     "metadata": {},
     "output_type": "display_data"
    }
   ],
   "source": [
    "pdf(paste0('figures/Supplementary_Figures/', figure_name, name, '.pdf'), width =width_par, height =height_par)\n",
    "correlation_plot = corrplot(correlations, method = 'number', title = '',  pch =4,   mar=c(0,0,2,0), number.cex = 0.5, tl.cex = 0.5, cl.cex = 0.5)\n",
    "dev.off()"
   ]
  },
  {
   "cell_type": "markdown",
   "id": "c93ea634-981d-4761-8e8b-124f25d33d90",
   "metadata": {},
   "source": [
    "## Correlation Features"
   ]
  },
  {
   "cell_type": "code",
   "execution_count": 34,
   "id": "11b7136b-9c9b-46de-896c-0a5ea609a8fa",
   "metadata": {},
   "outputs": [],
   "source": [
    "colnames(weight_data_w_o_clinical) = paste0(colnames(weight_data_w_o_clinical), 'w_o_clinical')"
   ]
  },
  {
   "cell_type": "code",
   "execution_count": 35,
   "id": "75fab657-686e-41db-8580-cedca58f9781",
   "metadata": {},
   "outputs": [
    {
     "data": {
      "text/html": [
       "<table class=\"dataframe\">\n",
       "<caption>A data.frame: 2 × 22</caption>\n",
       "<thead>\n",
       "\t<tr><th></th><th scope=col>Factor1</th><th scope=col>Factor2</th><th scope=col>Factor3</th><th scope=col>Factor4</th><th scope=col>Factor5</th><th scope=col>Factor6</th><th scope=col>Factor7</th><th scope=col>Factor8</th><th scope=col>Factor9</th><th scope=col>Factor10</th><th scope=col>⋯</th><th scope=col>Factor13</th><th scope=col>Factor14</th><th scope=col>Factor15</th><th scope=col>Factor16</th><th scope=col>Factor17</th><th scope=col>Factor18</th><th scope=col>Factor19</th><th scope=col>Factor20</th><th scope=col>type</th><th scope=col>variable_name</th></tr>\n",
       "\t<tr><th></th><th scope=col>&lt;dbl&gt;</th><th scope=col>&lt;dbl&gt;</th><th scope=col>&lt;dbl&gt;</th><th scope=col>&lt;dbl&gt;</th><th scope=col>&lt;dbl&gt;</th><th scope=col>&lt;dbl&gt;</th><th scope=col>&lt;dbl&gt;</th><th scope=col>&lt;dbl&gt;</th><th scope=col>&lt;dbl&gt;</th><th scope=col>&lt;dbl&gt;</th><th scope=col>⋯</th><th scope=col>&lt;dbl&gt;</th><th scope=col>&lt;dbl&gt;</th><th scope=col>&lt;dbl&gt;</th><th scope=col>&lt;dbl&gt;</th><th scope=col>&lt;dbl&gt;</th><th scope=col>&lt;dbl&gt;</th><th scope=col>&lt;dbl&gt;</th><th scope=col>&lt;dbl&gt;</th><th scope=col>&lt;chr&gt;</th><th scope=col>&lt;chr&gt;</th></tr>\n",
       "</thead>\n",
       "<tbody>\n",
       "\t<tr><th scope=row>1</th><td>-0.13418597</td><td>0.4019222</td><td>-0.1010765</td><td>-0.002177566</td><td>-0.5093667</td><td>0.24179134</td><td>-0.03635097</td><td>0.05304519</td><td> 0.0011574664</td><td>-0.012307130</td><td>⋯</td><td>-0.1604505</td><td>-0.001418618</td><td>0.1540945</td><td> 0.003821864</td><td>-0.24205661</td><td>0.004092582</td><td>-0.0005618720</td><td>-0.2423944</td><td>clinical_data</td><td>CK   </td></tr>\n",
       "\t<tr><th scope=row>2</th><td>-0.06222621</td><td>0.2731985</td><td>-0.2000362</td><td>-0.076098327</td><td>-0.1439445</td><td>0.04289833</td><td>-0.71818597</td><td>0.18658970</td><td>-0.0007753517</td><td>-0.003074308</td><td>⋯</td><td>-0.6107162</td><td> 0.002499494</td><td>0.3864464</td><td>-0.001090137</td><td>-0.08311704</td><td>0.009503498</td><td>-0.0003621744</td><td> 0.2060158</td><td>clinical_data</td><td>CK_MB</td></tr>\n",
       "</tbody>\n",
       "</table>\n"
      ],
      "text/latex": [
       "A data.frame: 2 × 22\n",
       "\\begin{tabular}{r|lllllllllllllllllllll}\n",
       "  & Factor1 & Factor2 & Factor3 & Factor4 & Factor5 & Factor6 & Factor7 & Factor8 & Factor9 & Factor10 & ⋯ & Factor13 & Factor14 & Factor15 & Factor16 & Factor17 & Factor18 & Factor19 & Factor20 & type & variable\\_name\\\\\n",
       "  & <dbl> & <dbl> & <dbl> & <dbl> & <dbl> & <dbl> & <dbl> & <dbl> & <dbl> & <dbl> & ⋯ & <dbl> & <dbl> & <dbl> & <dbl> & <dbl> & <dbl> & <dbl> & <dbl> & <chr> & <chr>\\\\\n",
       "\\hline\n",
       "\t1 & -0.13418597 & 0.4019222 & -0.1010765 & -0.002177566 & -0.5093667 & 0.24179134 & -0.03635097 & 0.05304519 &  0.0011574664 & -0.012307130 & ⋯ & -0.1604505 & -0.001418618 & 0.1540945 &  0.003821864 & -0.24205661 & 0.004092582 & -0.0005618720 & -0.2423944 & clinical\\_data & CK   \\\\\n",
       "\t2 & -0.06222621 & 0.2731985 & -0.2000362 & -0.076098327 & -0.1439445 & 0.04289833 & -0.71818597 & 0.18658970 & -0.0007753517 & -0.003074308 & ⋯ & -0.6107162 &  0.002499494 & 0.3864464 & -0.001090137 & -0.08311704 & 0.009503498 & -0.0003621744 &  0.2060158 & clinical\\_data & CK\\_MB\\\\\n",
       "\\end{tabular}\n"
      ],
      "text/markdown": [
       "\n",
       "A data.frame: 2 × 22\n",
       "\n",
       "| <!--/--> | Factor1 &lt;dbl&gt; | Factor2 &lt;dbl&gt; | Factor3 &lt;dbl&gt; | Factor4 &lt;dbl&gt; | Factor5 &lt;dbl&gt; | Factor6 &lt;dbl&gt; | Factor7 &lt;dbl&gt; | Factor8 &lt;dbl&gt; | Factor9 &lt;dbl&gt; | Factor10 &lt;dbl&gt; | ⋯ ⋯ | Factor13 &lt;dbl&gt; | Factor14 &lt;dbl&gt; | Factor15 &lt;dbl&gt; | Factor16 &lt;dbl&gt; | Factor17 &lt;dbl&gt; | Factor18 &lt;dbl&gt; | Factor19 &lt;dbl&gt; | Factor20 &lt;dbl&gt; | type &lt;chr&gt; | variable_name &lt;chr&gt; |\n",
       "|---|---|---|---|---|---|---|---|---|---|---|---|---|---|---|---|---|---|---|---|---|---|\n",
       "| 1 | -0.13418597 | 0.4019222 | -0.1010765 | -0.002177566 | -0.5093667 | 0.24179134 | -0.03635097 | 0.05304519 |  0.0011574664 | -0.012307130 | ⋯ | -0.1604505 | -0.001418618 | 0.1540945 |  0.003821864 | -0.24205661 | 0.004092582 | -0.0005618720 | -0.2423944 | clinical_data | CK    |\n",
       "| 2 | -0.06222621 | 0.2731985 | -0.2000362 | -0.076098327 | -0.1439445 | 0.04289833 | -0.71818597 | 0.18658970 | -0.0007753517 | -0.003074308 | ⋯ | -0.6107162 |  0.002499494 | 0.3864464 | -0.001090137 | -0.08311704 | 0.009503498 | -0.0003621744 |  0.2060158 | clinical_data | CK_MB |\n",
       "\n"
      ],
      "text/plain": [
       "  Factor1     Factor2   Factor3    Factor4      Factor5    Factor6   \n",
       "1 -0.13418597 0.4019222 -0.1010765 -0.002177566 -0.5093667 0.24179134\n",
       "2 -0.06222621 0.2731985 -0.2000362 -0.076098327 -0.1439445 0.04289833\n",
       "  Factor7     Factor8    Factor9       Factor10     ⋯ Factor13   Factor14    \n",
       "1 -0.03635097 0.05304519  0.0011574664 -0.012307130 ⋯ -0.1604505 -0.001418618\n",
       "2 -0.71818597 0.18658970 -0.0007753517 -0.003074308 ⋯ -0.6107162  0.002499494\n",
       "  Factor15  Factor16     Factor17    Factor18    Factor19      Factor20  \n",
       "1 0.1540945  0.003821864 -0.24205661 0.004092582 -0.0005618720 -0.2423944\n",
       "2 0.3864464 -0.001090137 -0.08311704 0.009503498 -0.0003621744  0.2060158\n",
       "  type          variable_name\n",
       "1 clinical_data CK           \n",
       "2 clinical_data CK_MB        "
      ]
     },
     "metadata": {},
     "output_type": "display_data"
    }
   ],
   "source": [
    "head(weight_data,2)"
   ]
  },
  {
   "cell_type": "code",
   "execution_count": 36,
   "id": "727649c3-d1f1-426e-a8ff-d34c942d1238",
   "metadata": {},
   "outputs": [],
   "source": [
    "weights_combined = merge(weight_data, weight_data_w_o_clinical, by.x = c('type', 'variable_name'), by.y = c('typew_o_clinical', 'variable_namew_o_clinical'))"
   ]
  },
  {
   "cell_type": "code",
   "execution_count": 37,
   "id": "67438f57-9c23-46bd-b3e7-666225a64b43",
   "metadata": {},
   "outputs": [
    {
     "data": {
      "text/html": [
       "<table class=\"dataframe\">\n",
       "<caption>A data.frame: 6 × 42</caption>\n",
       "<thead>\n",
       "\t<tr><th></th><th scope=col>type</th><th scope=col>variable_name</th><th scope=col>Factor1</th><th scope=col>Factor2</th><th scope=col>Factor3</th><th scope=col>Factor4</th><th scope=col>Factor5</th><th scope=col>Factor6</th><th scope=col>Factor7</th><th scope=col>Factor8</th><th scope=col>⋯</th><th scope=col>Factor11w_o_clinical</th><th scope=col>Factor12w_o_clinical</th><th scope=col>Factor13w_o_clinical</th><th scope=col>Factor14w_o_clinical</th><th scope=col>Factor15w_o_clinical</th><th scope=col>Factor16w_o_clinical</th><th scope=col>Factor17w_o_clinical</th><th scope=col>Factor18w_o_clinical</th><th scope=col>Factor19w_o_clinical</th><th scope=col>Factor20w_o_clinical</th></tr>\n",
       "\t<tr><th></th><th scope=col>&lt;chr&gt;</th><th scope=col>&lt;chr&gt;</th><th scope=col>&lt;dbl&gt;</th><th scope=col>&lt;dbl&gt;</th><th scope=col>&lt;dbl&gt;</th><th scope=col>&lt;dbl&gt;</th><th scope=col>&lt;dbl&gt;</th><th scope=col>&lt;dbl&gt;</th><th scope=col>&lt;dbl&gt;</th><th scope=col>&lt;dbl&gt;</th><th scope=col>⋯</th><th scope=col>&lt;dbl&gt;</th><th scope=col>&lt;dbl&gt;</th><th scope=col>&lt;dbl&gt;</th><th scope=col>&lt;dbl&gt;</th><th scope=col>&lt;dbl&gt;</th><th scope=col>&lt;dbl&gt;</th><th scope=col>&lt;dbl&gt;</th><th scope=col>&lt;dbl&gt;</th><th scope=col>&lt;dbl&gt;</th><th scope=col>&lt;dbl&gt;</th></tr>\n",
       "</thead>\n",
       "<tbody>\n",
       "\t<tr><th scope=row>1</th><td>cytokine</td><td>BCA1__CXCL13   </td><td> 0.007978853</td><td> 0.02443140</td><td>-0.01729291</td><td>-0.28710607</td><td>-0.06740164</td><td>-0.04226999</td><td>-0.03493591</td><td> 0.02324887</td><td>⋯</td><td>-7.381671e-04</td><td>-0.005648692</td><td> 0.50467277</td><td> 0.04324221</td><td> 0.66618818</td><td>-0.041123314</td><td>-0.20769065</td><td> 0.1357149</td><td>-0.057941823</td><td>-0.009094946</td></tr>\n",
       "\t<tr><th scope=row>2</th><td>cytokine</td><td>CTACK__CCL27   </td><td> 0.015216616</td><td>-0.17599838</td><td> 0.02830920</td><td>-0.00852578</td><td> 0.07248504</td><td>-0.05209972</td><td>-0.03711610</td><td> 0.03559665</td><td>⋯</td><td>-2.412221e-03</td><td> 0.004031660</td><td> 0.09532608</td><td>-0.05772901</td><td> 0.02019500</td><td>-0.004542783</td><td> 0.03819823</td><td> 0.2465448</td><td>-0.035179816</td><td> 0.198791111</td></tr>\n",
       "\t<tr><th scope=row>3</th><td>cytokine</td><td>EGF__EGF       </td><td> 0.013673086</td><td> 0.07760928</td><td> 0.30373924</td><td>-0.01078296</td><td> 0.02232099</td><td> 0.02009437</td><td> 0.01830534</td><td>-0.06732902</td><td>⋯</td><td>-5.682378e-03</td><td> 0.003849454</td><td>-0.13054432</td><td>-0.04393506</td><td> 0.05949257</td><td> 0.192073260</td><td> 0.14709128</td><td>-0.1076397</td><td> 0.012069523</td><td>-0.046886321</td></tr>\n",
       "\t<tr><th scope=row>4</th><td>cytokine</td><td>ENA78__CXCL5   </td><td> 0.020450195</td><td>-0.14861746</td><td> 0.08744844</td><td> 0.04475802</td><td> 0.34629293</td><td>-0.05318961</td><td>-0.13378093</td><td> 0.02442531</td><td>⋯</td><td>-1.047666e-03</td><td> 0.015654410</td><td> 0.04220040</td><td>-0.17565499</td><td>-0.01976871</td><td> 0.094401255</td><td> 0.09715927</td><td>-0.0318891</td><td>-0.003100847</td><td> 0.064869776</td></tr>\n",
       "\t<tr><th scope=row>5</th><td>cytokine</td><td>Eotaxin__CCL11 </td><td>-0.009040143</td><td>-0.10062609</td><td>-0.06195454</td><td> 0.33567008</td><td> 0.01772261</td><td> 0.24874685</td><td>-0.07021537</td><td> 0.02484327</td><td>⋯</td><td>-4.022177e-03</td><td>-0.001990257</td><td> 0.11033425</td><td> 0.01974583</td><td>-0.08829089</td><td> 0.136907069</td><td> 1.19791046</td><td>-0.2583526</td><td>-0.026735540</td><td> 0.280409422</td></tr>\n",
       "\t<tr><th scope=row>6</th><td>cytokine</td><td>Eotaxin2__CCL24</td><td> 0.003145437</td><td>-0.04356660</td><td> 0.11104902</td><td>-0.54586544</td><td> 0.12349054</td><td>-0.04016319</td><td>-0.04900908</td><td>-0.03401423</td><td>⋯</td><td>-6.908992e-05</td><td>-0.001332280</td><td> 0.08320845</td><td>-0.07552793</td><td> 0.05944623</td><td>-0.189669727</td><td>-0.03115842</td><td> 0.1189911</td><td> 0.010319956</td><td>-0.024299572</td></tr>\n",
       "</tbody>\n",
       "</table>\n"
      ],
      "text/latex": [
       "A data.frame: 6 × 42\n",
       "\\begin{tabular}{r|lllllllllllllllllllll}\n",
       "  & type & variable\\_name & Factor1 & Factor2 & Factor3 & Factor4 & Factor5 & Factor6 & Factor7 & Factor8 & ⋯ & Factor11w\\_o\\_clinical & Factor12w\\_o\\_clinical & Factor13w\\_o\\_clinical & Factor14w\\_o\\_clinical & Factor15w\\_o\\_clinical & Factor16w\\_o\\_clinical & Factor17w\\_o\\_clinical & Factor18w\\_o\\_clinical & Factor19w\\_o\\_clinical & Factor20w\\_o\\_clinical\\\\\n",
       "  & <chr> & <chr> & <dbl> & <dbl> & <dbl> & <dbl> & <dbl> & <dbl> & <dbl> & <dbl> & ⋯ & <dbl> & <dbl> & <dbl> & <dbl> & <dbl> & <dbl> & <dbl> & <dbl> & <dbl> & <dbl>\\\\\n",
       "\\hline\n",
       "\t1 & cytokine & BCA1\\_\\_CXCL13    &  0.007978853 &  0.02443140 & -0.01729291 & -0.28710607 & -0.06740164 & -0.04226999 & -0.03493591 &  0.02324887 & ⋯ & -7.381671e-04 & -0.005648692 &  0.50467277 &  0.04324221 &  0.66618818 & -0.041123314 & -0.20769065 &  0.1357149 & -0.057941823 & -0.009094946\\\\\n",
       "\t2 & cytokine & CTACK\\_\\_CCL27    &  0.015216616 & -0.17599838 &  0.02830920 & -0.00852578 &  0.07248504 & -0.05209972 & -0.03711610 &  0.03559665 & ⋯ & -2.412221e-03 &  0.004031660 &  0.09532608 & -0.05772901 &  0.02019500 & -0.004542783 &  0.03819823 &  0.2465448 & -0.035179816 &  0.198791111\\\\\n",
       "\t3 & cytokine & EGF\\_\\_EGF        &  0.013673086 &  0.07760928 &  0.30373924 & -0.01078296 &  0.02232099 &  0.02009437 &  0.01830534 & -0.06732902 & ⋯ & -5.682378e-03 &  0.003849454 & -0.13054432 & -0.04393506 &  0.05949257 &  0.192073260 &  0.14709128 & -0.1076397 &  0.012069523 & -0.046886321\\\\\n",
       "\t4 & cytokine & ENA78\\_\\_CXCL5    &  0.020450195 & -0.14861746 &  0.08744844 &  0.04475802 &  0.34629293 & -0.05318961 & -0.13378093 &  0.02442531 & ⋯ & -1.047666e-03 &  0.015654410 &  0.04220040 & -0.17565499 & -0.01976871 &  0.094401255 &  0.09715927 & -0.0318891 & -0.003100847 &  0.064869776\\\\\n",
       "\t5 & cytokine & Eotaxin\\_\\_CCL11  & -0.009040143 & -0.10062609 & -0.06195454 &  0.33567008 &  0.01772261 &  0.24874685 & -0.07021537 &  0.02484327 & ⋯ & -4.022177e-03 & -0.001990257 &  0.11033425 &  0.01974583 & -0.08829089 &  0.136907069 &  1.19791046 & -0.2583526 & -0.026735540 &  0.280409422\\\\\n",
       "\t6 & cytokine & Eotaxin2\\_\\_CCL24 &  0.003145437 & -0.04356660 &  0.11104902 & -0.54586544 &  0.12349054 & -0.04016319 & -0.04900908 & -0.03401423 & ⋯ & -6.908992e-05 & -0.001332280 &  0.08320845 & -0.07552793 &  0.05944623 & -0.189669727 & -0.03115842 &  0.1189911 &  0.010319956 & -0.024299572\\\\\n",
       "\\end{tabular}\n"
      ],
      "text/markdown": [
       "\n",
       "A data.frame: 6 × 42\n",
       "\n",
       "| <!--/--> | type &lt;chr&gt; | variable_name &lt;chr&gt; | Factor1 &lt;dbl&gt; | Factor2 &lt;dbl&gt; | Factor3 &lt;dbl&gt; | Factor4 &lt;dbl&gt; | Factor5 &lt;dbl&gt; | Factor6 &lt;dbl&gt; | Factor7 &lt;dbl&gt; | Factor8 &lt;dbl&gt; | ⋯ ⋯ | Factor11w_o_clinical &lt;dbl&gt; | Factor12w_o_clinical &lt;dbl&gt; | Factor13w_o_clinical &lt;dbl&gt; | Factor14w_o_clinical &lt;dbl&gt; | Factor15w_o_clinical &lt;dbl&gt; | Factor16w_o_clinical &lt;dbl&gt; | Factor17w_o_clinical &lt;dbl&gt; | Factor18w_o_clinical &lt;dbl&gt; | Factor19w_o_clinical &lt;dbl&gt; | Factor20w_o_clinical &lt;dbl&gt; |\n",
       "|---|---|---|---|---|---|---|---|---|---|---|---|---|---|---|---|---|---|---|---|---|---|\n",
       "| 1 | cytokine | BCA1__CXCL13    |  0.007978853 |  0.02443140 | -0.01729291 | -0.28710607 | -0.06740164 | -0.04226999 | -0.03493591 |  0.02324887 | ⋯ | -7.381671e-04 | -0.005648692 |  0.50467277 |  0.04324221 |  0.66618818 | -0.041123314 | -0.20769065 |  0.1357149 | -0.057941823 | -0.009094946 |\n",
       "| 2 | cytokine | CTACK__CCL27    |  0.015216616 | -0.17599838 |  0.02830920 | -0.00852578 |  0.07248504 | -0.05209972 | -0.03711610 |  0.03559665 | ⋯ | -2.412221e-03 |  0.004031660 |  0.09532608 | -0.05772901 |  0.02019500 | -0.004542783 |  0.03819823 |  0.2465448 | -0.035179816 |  0.198791111 |\n",
       "| 3 | cytokine | EGF__EGF        |  0.013673086 |  0.07760928 |  0.30373924 | -0.01078296 |  0.02232099 |  0.02009437 |  0.01830534 | -0.06732902 | ⋯ | -5.682378e-03 |  0.003849454 | -0.13054432 | -0.04393506 |  0.05949257 |  0.192073260 |  0.14709128 | -0.1076397 |  0.012069523 | -0.046886321 |\n",
       "| 4 | cytokine | ENA78__CXCL5    |  0.020450195 | -0.14861746 |  0.08744844 |  0.04475802 |  0.34629293 | -0.05318961 | -0.13378093 |  0.02442531 | ⋯ | -1.047666e-03 |  0.015654410 |  0.04220040 | -0.17565499 | -0.01976871 |  0.094401255 |  0.09715927 | -0.0318891 | -0.003100847 |  0.064869776 |\n",
       "| 5 | cytokine | Eotaxin__CCL11  | -0.009040143 | -0.10062609 | -0.06195454 |  0.33567008 |  0.01772261 |  0.24874685 | -0.07021537 |  0.02484327 | ⋯ | -4.022177e-03 | -0.001990257 |  0.11033425 |  0.01974583 | -0.08829089 |  0.136907069 |  1.19791046 | -0.2583526 | -0.026735540 |  0.280409422 |\n",
       "| 6 | cytokine | Eotaxin2__CCL24 |  0.003145437 | -0.04356660 |  0.11104902 | -0.54586544 |  0.12349054 | -0.04016319 | -0.04900908 | -0.03401423 | ⋯ | -6.908992e-05 | -0.001332280 |  0.08320845 | -0.07552793 |  0.05944623 | -0.189669727 | -0.03115842 |  0.1189911 |  0.010319956 | -0.024299572 |\n",
       "\n"
      ],
      "text/plain": [
       "  type     variable_name   Factor1      Factor2     Factor3     Factor4    \n",
       "1 cytokine BCA1__CXCL13     0.007978853  0.02443140 -0.01729291 -0.28710607\n",
       "2 cytokine CTACK__CCL27     0.015216616 -0.17599838  0.02830920 -0.00852578\n",
       "3 cytokine EGF__EGF         0.013673086  0.07760928  0.30373924 -0.01078296\n",
       "4 cytokine ENA78__CXCL5     0.020450195 -0.14861746  0.08744844  0.04475802\n",
       "5 cytokine Eotaxin__CCL11  -0.009040143 -0.10062609 -0.06195454  0.33567008\n",
       "6 cytokine Eotaxin2__CCL24  0.003145437 -0.04356660  0.11104902 -0.54586544\n",
       "  Factor5     Factor6     Factor7     Factor8     ⋯ Factor11w_o_clinical\n",
       "1 -0.06740164 -0.04226999 -0.03493591  0.02324887 ⋯ -7.381671e-04       \n",
       "2  0.07248504 -0.05209972 -0.03711610  0.03559665 ⋯ -2.412221e-03       \n",
       "3  0.02232099  0.02009437  0.01830534 -0.06732902 ⋯ -5.682378e-03       \n",
       "4  0.34629293 -0.05318961 -0.13378093  0.02442531 ⋯ -1.047666e-03       \n",
       "5  0.01772261  0.24874685 -0.07021537  0.02484327 ⋯ -4.022177e-03       \n",
       "6  0.12349054 -0.04016319 -0.04900908 -0.03401423 ⋯ -6.908992e-05       \n",
       "  Factor12w_o_clinical Factor13w_o_clinical Factor14w_o_clinical\n",
       "1 -0.005648692          0.50467277           0.04324221         \n",
       "2  0.004031660          0.09532608          -0.05772901         \n",
       "3  0.003849454         -0.13054432          -0.04393506         \n",
       "4  0.015654410          0.04220040          -0.17565499         \n",
       "5 -0.001990257          0.11033425           0.01974583         \n",
       "6 -0.001332280          0.08320845          -0.07552793         \n",
       "  Factor15w_o_clinical Factor16w_o_clinical Factor17w_o_clinical\n",
       "1  0.66618818          -0.041123314         -0.20769065         \n",
       "2  0.02019500          -0.004542783          0.03819823         \n",
       "3  0.05949257           0.192073260          0.14709128         \n",
       "4 -0.01976871           0.094401255          0.09715927         \n",
       "5 -0.08829089           0.136907069          1.19791046         \n",
       "6  0.05944623          -0.189669727         -0.03115842         \n",
       "  Factor18w_o_clinical Factor19w_o_clinical Factor20w_o_clinical\n",
       "1  0.1357149           -0.057941823         -0.009094946        \n",
       "2  0.2465448           -0.035179816          0.198791111        \n",
       "3 -0.1076397            0.012069523         -0.046886321        \n",
       "4 -0.0318891           -0.003100847          0.064869776        \n",
       "5 -0.2583526           -0.026735540          0.280409422        \n",
       "6  0.1189911            0.010319956         -0.024299572        "
      ]
     },
     "metadata": {},
     "output_type": "display_data"
    }
   ],
   "source": [
    "head(weights_combined)"
   ]
  },
  {
   "cell_type": "code",
   "execution_count": 38,
   "id": "3bab576f-9b71-4c46-beee-93062dccbf8a",
   "metadata": {},
   "outputs": [
    {
     "data": {
      "text/html": [
       "13278"
      ],
      "text/latex": [
       "13278"
      ],
      "text/markdown": [
       "13278"
      ],
      "text/plain": [
       "[1] 13278"
      ]
     },
     "metadata": {},
     "output_type": "display_data"
    }
   ],
   "source": [
    "nrow(weights_combined)"
   ]
  },
  {
   "cell_type": "code",
   "execution_count": 39,
   "id": "505aa815-f4a1-40f0-a0ae-b4c39fe2bcaf",
   "metadata": {},
   "outputs": [],
   "source": [
    "weights_combined$type = NULL\n",
    "weights_combined$variable_name = NULL"
   ]
  },
  {
   "cell_type": "code",
   "execution_count": null,
   "id": "3bda869c-b9be-46d1-b38c-129e2c5528f8",
   "metadata": {},
   "outputs": [],
   "source": []
  },
  {
   "cell_type": "code",
   "execution_count": 40,
   "id": "6dc5b7cc-b962-484e-8774-dee29d88944a",
   "metadata": {},
   "outputs": [
    {
     "data": {
      "text/html": [
       "<table class=\"dataframe\">\n",
       "<caption>A data.frame: 2 × 40</caption>\n",
       "<thead>\n",
       "\t<tr><th></th><th scope=col>Factor1</th><th scope=col>Factor2</th><th scope=col>Factor3</th><th scope=col>Factor4</th><th scope=col>Factor5</th><th scope=col>Factor6</th><th scope=col>Factor7</th><th scope=col>Factor8</th><th scope=col>Factor9</th><th scope=col>Factor10</th><th scope=col>⋯</th><th scope=col>Factor11w_o_clinical</th><th scope=col>Factor12w_o_clinical</th><th scope=col>Factor13w_o_clinical</th><th scope=col>Factor14w_o_clinical</th><th scope=col>Factor15w_o_clinical</th><th scope=col>Factor16w_o_clinical</th><th scope=col>Factor17w_o_clinical</th><th scope=col>Factor18w_o_clinical</th><th scope=col>Factor19w_o_clinical</th><th scope=col>Factor20w_o_clinical</th></tr>\n",
       "\t<tr><th></th><th scope=col>&lt;dbl&gt;</th><th scope=col>&lt;dbl&gt;</th><th scope=col>&lt;dbl&gt;</th><th scope=col>&lt;dbl&gt;</th><th scope=col>&lt;dbl&gt;</th><th scope=col>&lt;dbl&gt;</th><th scope=col>&lt;dbl&gt;</th><th scope=col>&lt;dbl&gt;</th><th scope=col>&lt;dbl&gt;</th><th scope=col>&lt;dbl&gt;</th><th scope=col>⋯</th><th scope=col>&lt;dbl&gt;</th><th scope=col>&lt;dbl&gt;</th><th scope=col>&lt;dbl&gt;</th><th scope=col>&lt;dbl&gt;</th><th scope=col>&lt;dbl&gt;</th><th scope=col>&lt;dbl&gt;</th><th scope=col>&lt;dbl&gt;</th><th scope=col>&lt;dbl&gt;</th><th scope=col>&lt;dbl&gt;</th><th scope=col>&lt;dbl&gt;</th></tr>\n",
       "</thead>\n",
       "<tbody>\n",
       "\t<tr><th scope=row>1</th><td>0.007978853</td><td> 0.0244314</td><td>-0.01729291</td><td>-0.28710607</td><td>-0.06740164</td><td>-0.04226999</td><td>-0.03493591</td><td>0.02324887</td><td>-0.09583979</td><td>-0.1544842</td><td>⋯</td><td>-0.0007381671</td><td>-0.005648692</td><td>0.50467277</td><td> 0.04324221</td><td>0.6661882</td><td>-0.041123314</td><td>-0.20769065</td><td>0.1357149</td><td>-0.05794182</td><td>-0.009094946</td></tr>\n",
       "\t<tr><th scope=row>2</th><td>0.015216616</td><td>-0.1759984</td><td> 0.02830920</td><td>-0.00852578</td><td> 0.07248504</td><td>-0.05209972</td><td>-0.03711610</td><td>0.03559665</td><td>-0.26321420</td><td>-0.0240123</td><td>⋯</td><td>-0.0024122213</td><td> 0.004031660</td><td>0.09532608</td><td>-0.05772901</td><td>0.0201950</td><td>-0.004542783</td><td> 0.03819823</td><td>0.2465448</td><td>-0.03517982</td><td> 0.198791111</td></tr>\n",
       "</tbody>\n",
       "</table>\n"
      ],
      "text/latex": [
       "A data.frame: 2 × 40\n",
       "\\begin{tabular}{r|lllllllllllllllllllll}\n",
       "  & Factor1 & Factor2 & Factor3 & Factor4 & Factor5 & Factor6 & Factor7 & Factor8 & Factor9 & Factor10 & ⋯ & Factor11w\\_o\\_clinical & Factor12w\\_o\\_clinical & Factor13w\\_o\\_clinical & Factor14w\\_o\\_clinical & Factor15w\\_o\\_clinical & Factor16w\\_o\\_clinical & Factor17w\\_o\\_clinical & Factor18w\\_o\\_clinical & Factor19w\\_o\\_clinical & Factor20w\\_o\\_clinical\\\\\n",
       "  & <dbl> & <dbl> & <dbl> & <dbl> & <dbl> & <dbl> & <dbl> & <dbl> & <dbl> & <dbl> & ⋯ & <dbl> & <dbl> & <dbl> & <dbl> & <dbl> & <dbl> & <dbl> & <dbl> & <dbl> & <dbl>\\\\\n",
       "\\hline\n",
       "\t1 & 0.007978853 &  0.0244314 & -0.01729291 & -0.28710607 & -0.06740164 & -0.04226999 & -0.03493591 & 0.02324887 & -0.09583979 & -0.1544842 & ⋯ & -0.0007381671 & -0.005648692 & 0.50467277 &  0.04324221 & 0.6661882 & -0.041123314 & -0.20769065 & 0.1357149 & -0.05794182 & -0.009094946\\\\\n",
       "\t2 & 0.015216616 & -0.1759984 &  0.02830920 & -0.00852578 &  0.07248504 & -0.05209972 & -0.03711610 & 0.03559665 & -0.26321420 & -0.0240123 & ⋯ & -0.0024122213 &  0.004031660 & 0.09532608 & -0.05772901 & 0.0201950 & -0.004542783 &  0.03819823 & 0.2465448 & -0.03517982 &  0.198791111\\\\\n",
       "\\end{tabular}\n"
      ],
      "text/markdown": [
       "\n",
       "A data.frame: 2 × 40\n",
       "\n",
       "| <!--/--> | Factor1 &lt;dbl&gt; | Factor2 &lt;dbl&gt; | Factor3 &lt;dbl&gt; | Factor4 &lt;dbl&gt; | Factor5 &lt;dbl&gt; | Factor6 &lt;dbl&gt; | Factor7 &lt;dbl&gt; | Factor8 &lt;dbl&gt; | Factor9 &lt;dbl&gt; | Factor10 &lt;dbl&gt; | ⋯ ⋯ | Factor11w_o_clinical &lt;dbl&gt; | Factor12w_o_clinical &lt;dbl&gt; | Factor13w_o_clinical &lt;dbl&gt; | Factor14w_o_clinical &lt;dbl&gt; | Factor15w_o_clinical &lt;dbl&gt; | Factor16w_o_clinical &lt;dbl&gt; | Factor17w_o_clinical &lt;dbl&gt; | Factor18w_o_clinical &lt;dbl&gt; | Factor19w_o_clinical &lt;dbl&gt; | Factor20w_o_clinical &lt;dbl&gt; |\n",
       "|---|---|---|---|---|---|---|---|---|---|---|---|---|---|---|---|---|---|---|---|---|---|\n",
       "| 1 | 0.007978853 |  0.0244314 | -0.01729291 | -0.28710607 | -0.06740164 | -0.04226999 | -0.03493591 | 0.02324887 | -0.09583979 | -0.1544842 | ⋯ | -0.0007381671 | -0.005648692 | 0.50467277 |  0.04324221 | 0.6661882 | -0.041123314 | -0.20769065 | 0.1357149 | -0.05794182 | -0.009094946 |\n",
       "| 2 | 0.015216616 | -0.1759984 |  0.02830920 | -0.00852578 |  0.07248504 | -0.05209972 | -0.03711610 | 0.03559665 | -0.26321420 | -0.0240123 | ⋯ | -0.0024122213 |  0.004031660 | 0.09532608 | -0.05772901 | 0.0201950 | -0.004542783 |  0.03819823 | 0.2465448 | -0.03517982 |  0.198791111 |\n",
       "\n"
      ],
      "text/plain": [
       "  Factor1     Factor2    Factor3     Factor4     Factor5     Factor6    \n",
       "1 0.007978853  0.0244314 -0.01729291 -0.28710607 -0.06740164 -0.04226999\n",
       "2 0.015216616 -0.1759984  0.02830920 -0.00852578  0.07248504 -0.05209972\n",
       "  Factor7     Factor8    Factor9     Factor10   ⋯ Factor11w_o_clinical\n",
       "1 -0.03493591 0.02324887 -0.09583979 -0.1544842 ⋯ -0.0007381671       \n",
       "2 -0.03711610 0.03559665 -0.26321420 -0.0240123 ⋯ -0.0024122213       \n",
       "  Factor12w_o_clinical Factor13w_o_clinical Factor14w_o_clinical\n",
       "1 -0.005648692         0.50467277            0.04324221         \n",
       "2  0.004031660         0.09532608           -0.05772901         \n",
       "  Factor15w_o_clinical Factor16w_o_clinical Factor17w_o_clinical\n",
       "1 0.6661882            -0.041123314         -0.20769065         \n",
       "2 0.0201950            -0.004542783          0.03819823         \n",
       "  Factor18w_o_clinical Factor19w_o_clinical Factor20w_o_clinical\n",
       "1 0.1357149            -0.05794182          -0.009094946        \n",
       "2 0.2465448            -0.03517982           0.198791111        "
      ]
     },
     "metadata": {},
     "output_type": "display_data"
    }
   ],
   "source": [
    "head(weights_combined,2)"
   ]
  },
  {
   "cell_type": "code",
   "execution_count": 41,
   "id": "7bb3d87b-9989-45b9-a4f5-cb76e92e0c78",
   "metadata": {},
   "outputs": [],
   "source": [
    "correlations = cor(weights_combined ,method = 'pearson',  use = \"pairwise.complete.obs\")"
   ]
  },
  {
   "cell_type": "code",
   "execution_count": 42,
   "id": "7e2300b0-d906-42c1-bc9b-abffac85910c",
   "metadata": {},
   "outputs": [],
   "source": [
    "correlations = correlations[rownames(correlations) %in% colnames(weight_data),colnames(correlations) %in% colnames(weight_data_w_o_clinical)] "
   ]
  },
  {
   "cell_type": "code",
   "execution_count": 43,
   "id": "6c6d8990-cb2a-44cc-beb3-611a0f3c7278",
   "metadata": {},
   "outputs": [
    {
     "data": {
      "text/html": [
       "<table class=\"dataframe\">\n",
       "<caption>A matrix: 2 × 20 of type dbl</caption>\n",
       "<thead>\n",
       "\t<tr><th></th><th scope=col>Factor1w_o_clinical</th><th scope=col>Factor2w_o_clinical</th><th scope=col>Factor3w_o_clinical</th><th scope=col>Factor4w_o_clinical</th><th scope=col>Factor5w_o_clinical</th><th scope=col>Factor6w_o_clinical</th><th scope=col>Factor7w_o_clinical</th><th scope=col>Factor8w_o_clinical</th><th scope=col>Factor9w_o_clinical</th><th scope=col>Factor10w_o_clinical</th><th scope=col>Factor11w_o_clinical</th><th scope=col>Factor12w_o_clinical</th><th scope=col>Factor13w_o_clinical</th><th scope=col>Factor14w_o_clinical</th><th scope=col>Factor15w_o_clinical</th><th scope=col>Factor16w_o_clinical</th><th scope=col>Factor17w_o_clinical</th><th scope=col>Factor18w_o_clinical</th><th scope=col>Factor19w_o_clinical</th><th scope=col>Factor20w_o_clinical</th></tr>\n",
       "</thead>\n",
       "<tbody>\n",
       "\t<tr><th scope=row>Factor1</th><td> 0.99994138</td><td>-0.01193803</td><td>-0.03000726</td><td>-0.00157491</td><td>-0.023660711</td><td>-0.02281879</td><td>-0.1616654</td><td>-0.002770267</td><td>0.02623794</td><td>-0.016628678</td><td> 0.002361766</td><td>0.01234134</td><td>0.06553360</td><td>-0.006064625</td><td> 0.06895048</td><td>0.018254138</td><td>0.009668855</td><td> 0.025223735</td><td>-0.06791544</td><td> 0.0028156719</td></tr>\n",
       "\t<tr><th scope=row>Factor2</th><td>-0.01805394</td><td> 0.99968559</td><td>-0.01192607</td><td>-0.03549754</td><td> 0.006979927</td><td> 0.04399989</td><td>-0.1033971</td><td>-0.003894888</td><td>0.03295327</td><td> 0.008978363</td><td>-0.004608420</td><td>0.01068829</td><td>0.06870542</td><td> 0.040921445</td><td>-0.02442512</td><td>0.002687914</td><td>0.025409375</td><td>-0.002921966</td><td> 0.05273592</td><td>-0.0008079201</td></tr>\n",
       "</tbody>\n",
       "</table>\n"
      ],
      "text/latex": [
       "A matrix: 2 × 20 of type dbl\n",
       "\\begin{tabular}{r|llllllllllllllllllll}\n",
       "  & Factor1w\\_o\\_clinical & Factor2w\\_o\\_clinical & Factor3w\\_o\\_clinical & Factor4w\\_o\\_clinical & Factor5w\\_o\\_clinical & Factor6w\\_o\\_clinical & Factor7w\\_o\\_clinical & Factor8w\\_o\\_clinical & Factor9w\\_o\\_clinical & Factor10w\\_o\\_clinical & Factor11w\\_o\\_clinical & Factor12w\\_o\\_clinical & Factor13w\\_o\\_clinical & Factor14w\\_o\\_clinical & Factor15w\\_o\\_clinical & Factor16w\\_o\\_clinical & Factor17w\\_o\\_clinical & Factor18w\\_o\\_clinical & Factor19w\\_o\\_clinical & Factor20w\\_o\\_clinical\\\\\n",
       "\\hline\n",
       "\tFactor1 &  0.99994138 & -0.01193803 & -0.03000726 & -0.00157491 & -0.023660711 & -0.02281879 & -0.1616654 & -0.002770267 & 0.02623794 & -0.016628678 &  0.002361766 & 0.01234134 & 0.06553360 & -0.006064625 &  0.06895048 & 0.018254138 & 0.009668855 &  0.025223735 & -0.06791544 &  0.0028156719\\\\\n",
       "\tFactor2 & -0.01805394 &  0.99968559 & -0.01192607 & -0.03549754 &  0.006979927 &  0.04399989 & -0.1033971 & -0.003894888 & 0.03295327 &  0.008978363 & -0.004608420 & 0.01068829 & 0.06870542 &  0.040921445 & -0.02442512 & 0.002687914 & 0.025409375 & -0.002921966 &  0.05273592 & -0.0008079201\\\\\n",
       "\\end{tabular}\n"
      ],
      "text/markdown": [
       "\n",
       "A matrix: 2 × 20 of type dbl\n",
       "\n",
       "| <!--/--> | Factor1w_o_clinical | Factor2w_o_clinical | Factor3w_o_clinical | Factor4w_o_clinical | Factor5w_o_clinical | Factor6w_o_clinical | Factor7w_o_clinical | Factor8w_o_clinical | Factor9w_o_clinical | Factor10w_o_clinical | Factor11w_o_clinical | Factor12w_o_clinical | Factor13w_o_clinical | Factor14w_o_clinical | Factor15w_o_clinical | Factor16w_o_clinical | Factor17w_o_clinical | Factor18w_o_clinical | Factor19w_o_clinical | Factor20w_o_clinical |\n",
       "|---|---|---|---|---|---|---|---|---|---|---|---|---|---|---|---|---|---|---|---|---|\n",
       "| Factor1 |  0.99994138 | -0.01193803 | -0.03000726 | -0.00157491 | -0.023660711 | -0.02281879 | -0.1616654 | -0.002770267 | 0.02623794 | -0.016628678 |  0.002361766 | 0.01234134 | 0.06553360 | -0.006064625 |  0.06895048 | 0.018254138 | 0.009668855 |  0.025223735 | -0.06791544 |  0.0028156719 |\n",
       "| Factor2 | -0.01805394 |  0.99968559 | -0.01192607 | -0.03549754 |  0.006979927 |  0.04399989 | -0.1033971 | -0.003894888 | 0.03295327 |  0.008978363 | -0.004608420 | 0.01068829 | 0.06870542 |  0.040921445 | -0.02442512 | 0.002687914 | 0.025409375 | -0.002921966 |  0.05273592 | -0.0008079201 |\n",
       "\n"
      ],
      "text/plain": [
       "        Factor1w_o_clinical Factor2w_o_clinical Factor3w_o_clinical\n",
       "Factor1  0.99994138         -0.01193803         -0.03000726        \n",
       "Factor2 -0.01805394          0.99968559         -0.01192607        \n",
       "        Factor4w_o_clinical Factor5w_o_clinical Factor6w_o_clinical\n",
       "Factor1 -0.00157491         -0.023660711        -0.02281879        \n",
       "Factor2 -0.03549754          0.006979927         0.04399989        \n",
       "        Factor7w_o_clinical Factor8w_o_clinical Factor9w_o_clinical\n",
       "Factor1 -0.1616654          -0.002770267        0.02623794         \n",
       "Factor2 -0.1033971          -0.003894888        0.03295327         \n",
       "        Factor10w_o_clinical Factor11w_o_clinical Factor12w_o_clinical\n",
       "Factor1 -0.016628678          0.002361766         0.01234134          \n",
       "Factor2  0.008978363         -0.004608420         0.01068829          \n",
       "        Factor13w_o_clinical Factor14w_o_clinical Factor15w_o_clinical\n",
       "Factor1 0.06553360           -0.006064625          0.06895048         \n",
       "Factor2 0.06870542            0.040921445         -0.02442512         \n",
       "        Factor16w_o_clinical Factor17w_o_clinical Factor18w_o_clinical\n",
       "Factor1 0.018254138          0.009668855           0.025223735        \n",
       "Factor2 0.002687914          0.025409375          -0.002921966        \n",
       "        Factor19w_o_clinical Factor20w_o_clinical\n",
       "Factor1 -0.06791544           0.0028156719       \n",
       "Factor2  0.05273592          -0.0008079201       "
      ]
     },
     "metadata": {},
     "output_type": "display_data"
    }
   ],
   "source": [
    "head(correlations,2)"
   ]
  },
  {
   "cell_type": "code",
   "execution_count": 48,
   "id": "6eab9a5a-4b6a-4371-a628-9be920c3c45d",
   "metadata": {},
   "outputs": [],
   "source": [
    "\n",
    "col_order = c('Factor1w_o_clinical', 'Factor2w_o_clinical', 'Factor3w_o_clinical','Factor4w_o_clinical',\n",
    "                               'Factor5w_o_clinical', 'Factor6w_o_clinical', 'Factor8w_o_clinical', 'Factor7w_o_clinical',\n",
    "              'Factor9w_o_clinical', 'Factor10w_o_clinical', 'Factor11w_o_clinical', 'Factor12w_o_clinical',\n",
    "              'Factor15w_o_clinical',  'Factor13w_o_clinical',  'Factor19w_o_clinical',  'Factor14w_o_clinical',  'Factor17w_o_clinical',\n",
    "             'Factor16w_o_clinical', 'Factor18w_o_clinical', 'Factor20w_o_clinical')\n",
    "correlations = correlations[,col_order]"
   ]
  },
  {
   "cell_type": "code",
   "execution_count": 49,
   "id": "d9ac3bcc-d5e7-4e48-90d0-340536bc7bba",
   "metadata": {},
   "outputs": [],
   "source": [
    "#### Plot complete explained variance"
   ]
  },
  {
   "cell_type": "code",
   "execution_count": 50,
   "id": "49fb346b-0361-4aa5-8366-43a886978420",
   "metadata": {},
   "outputs": [],
   "source": [
    "figure_name = \"SUPP4_Correlation_Feature_Weight_Values_Mofa_Models\""
   ]
  },
  {
   "cell_type": "code",
   "execution_count": 51,
   "id": "c9debe72-72ee-40f3-9bcc-1940dd16b903",
   "metadata": {},
   "outputs": [],
   "source": [
    "# Sizes of the plot\n",
    "width_par = 8\n",
    "height_par = 5.5"
   ]
  },
  {
   "cell_type": "code",
   "execution_count": 52,
   "id": "e9949b9f-368e-4536-a40f-7ca5e6155979",
   "metadata": {},
   "outputs": [
    {
     "data": {
      "text/html": [
       "<strong>png:</strong> 2"
      ],
      "text/latex": [
       "\\textbf{png:} 2"
      ],
      "text/markdown": [
       "**png:** 2"
      ],
      "text/plain": [
       "png \n",
       "  2 "
      ]
     },
     "metadata": {},
     "output_type": "display_data"
    }
   ],
   "source": [
    "pdf(paste0('figures/Supplementary_Figures/', figure_name, name, '.pdf'), width =width_par, height =height_par)\n",
    "correlation_plot = corrplot(correlations, method = 'number', title = '',  pch =4,  mar=c(0,0,2,0), number.cex = 0.5, tl.cex = 0.5, cl.cex = 0.5)\n",
    "dev.off()"
   ]
  },
  {
   "cell_type": "markdown",
   "id": "0c846961-4033-410c-951d-8bb40fd67d28",
   "metadata": {},
   "source": [
    "## Overlap top features"
   ]
  },
  {
   "cell_type": "code",
   "execution_count": 53,
   "id": "8d8e6ab2-284a-47c9-87f9-ac6347e79e3e",
   "metadata": {},
   "outputs": [
    {
     "data": {
      "text/html": [
       "<table class=\"dataframe\">\n",
       "<caption>A data.frame: 2 × 22</caption>\n",
       "<thead>\n",
       "\t<tr><th></th><th scope=col>Factor1</th><th scope=col>Factor2</th><th scope=col>Factor3</th><th scope=col>Factor4</th><th scope=col>Factor5</th><th scope=col>Factor6</th><th scope=col>Factor7</th><th scope=col>Factor8</th><th scope=col>Factor9</th><th scope=col>Factor10</th><th scope=col>⋯</th><th scope=col>Factor13</th><th scope=col>Factor14</th><th scope=col>Factor15</th><th scope=col>Factor16</th><th scope=col>Factor17</th><th scope=col>Factor18</th><th scope=col>Factor19</th><th scope=col>Factor20</th><th scope=col>type</th><th scope=col>variable_name</th></tr>\n",
       "\t<tr><th></th><th scope=col>&lt;dbl&gt;</th><th scope=col>&lt;dbl&gt;</th><th scope=col>&lt;dbl&gt;</th><th scope=col>&lt;dbl&gt;</th><th scope=col>&lt;dbl&gt;</th><th scope=col>&lt;dbl&gt;</th><th scope=col>&lt;dbl&gt;</th><th scope=col>&lt;dbl&gt;</th><th scope=col>&lt;dbl&gt;</th><th scope=col>&lt;dbl&gt;</th><th scope=col>⋯</th><th scope=col>&lt;dbl&gt;</th><th scope=col>&lt;dbl&gt;</th><th scope=col>&lt;dbl&gt;</th><th scope=col>&lt;dbl&gt;</th><th scope=col>&lt;dbl&gt;</th><th scope=col>&lt;dbl&gt;</th><th scope=col>&lt;dbl&gt;</th><th scope=col>&lt;dbl&gt;</th><th scope=col>&lt;chr&gt;</th><th scope=col>&lt;chr&gt;</th></tr>\n",
       "</thead>\n",
       "<tbody>\n",
       "\t<tr><th scope=row>1</th><td>-0.13418597</td><td>0.4019222</td><td>-0.1010765</td><td>-0.002177566</td><td>-0.5093667</td><td>0.24179134</td><td>-0.03635097</td><td>0.05304519</td><td> 0.0011574664</td><td>-0.012307130</td><td>⋯</td><td>-0.1604505</td><td>-0.001418618</td><td>0.1540945</td><td> 0.003821864</td><td>-0.24205661</td><td>0.004092582</td><td>-0.0005618720</td><td>-0.2423944</td><td>clinical_data</td><td>CK   </td></tr>\n",
       "\t<tr><th scope=row>2</th><td>-0.06222621</td><td>0.2731985</td><td>-0.2000362</td><td>-0.076098327</td><td>-0.1439445</td><td>0.04289833</td><td>-0.71818597</td><td>0.18658970</td><td>-0.0007753517</td><td>-0.003074308</td><td>⋯</td><td>-0.6107162</td><td> 0.002499494</td><td>0.3864464</td><td>-0.001090137</td><td>-0.08311704</td><td>0.009503498</td><td>-0.0003621744</td><td> 0.2060158</td><td>clinical_data</td><td>CK_MB</td></tr>\n",
       "</tbody>\n",
       "</table>\n"
      ],
      "text/latex": [
       "A data.frame: 2 × 22\n",
       "\\begin{tabular}{r|lllllllllllllllllllll}\n",
       "  & Factor1 & Factor2 & Factor3 & Factor4 & Factor5 & Factor6 & Factor7 & Factor8 & Factor9 & Factor10 & ⋯ & Factor13 & Factor14 & Factor15 & Factor16 & Factor17 & Factor18 & Factor19 & Factor20 & type & variable\\_name\\\\\n",
       "  & <dbl> & <dbl> & <dbl> & <dbl> & <dbl> & <dbl> & <dbl> & <dbl> & <dbl> & <dbl> & ⋯ & <dbl> & <dbl> & <dbl> & <dbl> & <dbl> & <dbl> & <dbl> & <dbl> & <chr> & <chr>\\\\\n",
       "\\hline\n",
       "\t1 & -0.13418597 & 0.4019222 & -0.1010765 & -0.002177566 & -0.5093667 & 0.24179134 & -0.03635097 & 0.05304519 &  0.0011574664 & -0.012307130 & ⋯ & -0.1604505 & -0.001418618 & 0.1540945 &  0.003821864 & -0.24205661 & 0.004092582 & -0.0005618720 & -0.2423944 & clinical\\_data & CK   \\\\\n",
       "\t2 & -0.06222621 & 0.2731985 & -0.2000362 & -0.076098327 & -0.1439445 & 0.04289833 & -0.71818597 & 0.18658970 & -0.0007753517 & -0.003074308 & ⋯ & -0.6107162 &  0.002499494 & 0.3864464 & -0.001090137 & -0.08311704 & 0.009503498 & -0.0003621744 &  0.2060158 & clinical\\_data & CK\\_MB\\\\\n",
       "\\end{tabular}\n"
      ],
      "text/markdown": [
       "\n",
       "A data.frame: 2 × 22\n",
       "\n",
       "| <!--/--> | Factor1 &lt;dbl&gt; | Factor2 &lt;dbl&gt; | Factor3 &lt;dbl&gt; | Factor4 &lt;dbl&gt; | Factor5 &lt;dbl&gt; | Factor6 &lt;dbl&gt; | Factor7 &lt;dbl&gt; | Factor8 &lt;dbl&gt; | Factor9 &lt;dbl&gt; | Factor10 &lt;dbl&gt; | ⋯ ⋯ | Factor13 &lt;dbl&gt; | Factor14 &lt;dbl&gt; | Factor15 &lt;dbl&gt; | Factor16 &lt;dbl&gt; | Factor17 &lt;dbl&gt; | Factor18 &lt;dbl&gt; | Factor19 &lt;dbl&gt; | Factor20 &lt;dbl&gt; | type &lt;chr&gt; | variable_name &lt;chr&gt; |\n",
       "|---|---|---|---|---|---|---|---|---|---|---|---|---|---|---|---|---|---|---|---|---|---|\n",
       "| 1 | -0.13418597 | 0.4019222 | -0.1010765 | -0.002177566 | -0.5093667 | 0.24179134 | -0.03635097 | 0.05304519 |  0.0011574664 | -0.012307130 | ⋯ | -0.1604505 | -0.001418618 | 0.1540945 |  0.003821864 | -0.24205661 | 0.004092582 | -0.0005618720 | -0.2423944 | clinical_data | CK    |\n",
       "| 2 | -0.06222621 | 0.2731985 | -0.2000362 | -0.076098327 | -0.1439445 | 0.04289833 | -0.71818597 | 0.18658970 | -0.0007753517 | -0.003074308 | ⋯ | -0.6107162 |  0.002499494 | 0.3864464 | -0.001090137 | -0.08311704 | 0.009503498 | -0.0003621744 |  0.2060158 | clinical_data | CK_MB |\n",
       "\n"
      ],
      "text/plain": [
       "  Factor1     Factor2   Factor3    Factor4      Factor5    Factor6   \n",
       "1 -0.13418597 0.4019222 -0.1010765 -0.002177566 -0.5093667 0.24179134\n",
       "2 -0.06222621 0.2731985 -0.2000362 -0.076098327 -0.1439445 0.04289833\n",
       "  Factor7     Factor8    Factor9       Factor10     ⋯ Factor13   Factor14    \n",
       "1 -0.03635097 0.05304519  0.0011574664 -0.012307130 ⋯ -0.1604505 -0.001418618\n",
       "2 -0.71818597 0.18658970 -0.0007753517 -0.003074308 ⋯ -0.6107162  0.002499494\n",
       "  Factor15  Factor16     Factor17    Factor18    Factor19      Factor20  \n",
       "1 0.1540945  0.003821864 -0.24205661 0.004092582 -0.0005618720 -0.2423944\n",
       "2 0.3864464 -0.001090137 -0.08311704 0.009503498 -0.0003621744  0.2060158\n",
       "  type          variable_name\n",
       "1 clinical_data CK           \n",
       "2 clinical_data CK_MB        "
      ]
     },
     "metadata": {},
     "output_type": "display_data"
    }
   ],
   "source": [
    "head(weight_data,2)"
   ]
  },
  {
   "cell_type": "code",
   "execution_count": 54,
   "id": "56e7821a-3e3b-4ebe-82d7-37ce1dd00e8d",
   "metadata": {},
   "outputs": [
    {
     "name": "stderr",
     "output_type": "stream",
     "text": [
      "Using type, variable_name as id variables\n",
      "\n"
     ]
    }
   ],
   "source": [
    "weight_data_long = melt(weight_data)"
   ]
  },
  {
   "cell_type": "code",
   "execution_count": 55,
   "id": "13f1b7d1-a32e-4b00-a218-c376bfa87df7",
   "metadata": {},
   "outputs": [
    {
     "data": {
      "text/html": [
       "<table class=\"dataframe\">\n",
       "<caption>A data.frame: 2 × 22</caption>\n",
       "<thead>\n",
       "\t<tr><th></th><th scope=col>Factor1w_o_clinical</th><th scope=col>Factor2w_o_clinical</th><th scope=col>Factor3w_o_clinical</th><th scope=col>Factor4w_o_clinical</th><th scope=col>Factor5w_o_clinical</th><th scope=col>Factor6w_o_clinical</th><th scope=col>Factor7w_o_clinical</th><th scope=col>Factor8w_o_clinical</th><th scope=col>Factor9w_o_clinical</th><th scope=col>Factor10w_o_clinical</th><th scope=col>⋯</th><th scope=col>Factor13w_o_clinical</th><th scope=col>Factor14w_o_clinical</th><th scope=col>Factor15w_o_clinical</th><th scope=col>Factor16w_o_clinical</th><th scope=col>Factor17w_o_clinical</th><th scope=col>Factor18w_o_clinical</th><th scope=col>Factor19w_o_clinical</th><th scope=col>Factor20w_o_clinical</th><th scope=col>typew_o_clinical</th><th scope=col>variable_namew_o_clinical</th></tr>\n",
       "\t<tr><th></th><th scope=col>&lt;dbl&gt;</th><th scope=col>&lt;dbl&gt;</th><th scope=col>&lt;dbl&gt;</th><th scope=col>&lt;dbl&gt;</th><th scope=col>&lt;dbl&gt;</th><th scope=col>&lt;dbl&gt;</th><th scope=col>&lt;dbl&gt;</th><th scope=col>&lt;dbl&gt;</th><th scope=col>&lt;dbl&gt;</th><th scope=col>&lt;dbl&gt;</th><th scope=col>⋯</th><th scope=col>&lt;dbl&gt;</th><th scope=col>&lt;dbl&gt;</th><th scope=col>&lt;dbl&gt;</th><th scope=col>&lt;dbl&gt;</th><th scope=col>&lt;dbl&gt;</th><th scope=col>&lt;dbl&gt;</th><th scope=col>&lt;dbl&gt;</th><th scope=col>&lt;dbl&gt;</th><th scope=col>&lt;chr&gt;</th><th scope=col>&lt;chr&gt;</th></tr>\n",
       "</thead>\n",
       "<tbody>\n",
       "\t<tr><th scope=row>1</th><td>0.007872607</td><td> 0.01834307</td><td>-0.01672033</td><td>-0.3090944808</td><td>-0.04257815</td><td>-0.04290609</td><td>0.02036166</td><td>-0.02911915</td><td>-0.09958332</td><td>-0.15661780</td><td>⋯</td><td>0.50467277</td><td> 0.04324221</td><td>0.6661882</td><td>-0.041123314</td><td>-0.20769065</td><td>0.1357149</td><td>-0.05794182</td><td>-0.009094946</td><td>cytokine</td><td>BCA1__CXCL13</td></tr>\n",
       "\t<tr><th scope=row>2</th><td>0.016026314</td><td>-0.17902272</td><td> 0.02978679</td><td>-0.0001092699</td><td> 0.08309032</td><td>-0.05366863</td><td>0.03047595</td><td>-0.03859843</td><td>-0.26235709</td><td>-0.02720419</td><td>⋯</td><td>0.09532608</td><td>-0.05772901</td><td>0.0201950</td><td>-0.004542783</td><td> 0.03819823</td><td>0.2465448</td><td>-0.03517982</td><td> 0.198791111</td><td>cytokine</td><td>CTACK__CCL27</td></tr>\n",
       "</tbody>\n",
       "</table>\n"
      ],
      "text/latex": [
       "A data.frame: 2 × 22\n",
       "\\begin{tabular}{r|lllllllllllllllllllll}\n",
       "  & Factor1w\\_o\\_clinical & Factor2w\\_o\\_clinical & Factor3w\\_o\\_clinical & Factor4w\\_o\\_clinical & Factor5w\\_o\\_clinical & Factor6w\\_o\\_clinical & Factor7w\\_o\\_clinical & Factor8w\\_o\\_clinical & Factor9w\\_o\\_clinical & Factor10w\\_o\\_clinical & ⋯ & Factor13w\\_o\\_clinical & Factor14w\\_o\\_clinical & Factor15w\\_o\\_clinical & Factor16w\\_o\\_clinical & Factor17w\\_o\\_clinical & Factor18w\\_o\\_clinical & Factor19w\\_o\\_clinical & Factor20w\\_o\\_clinical & typew\\_o\\_clinical & variable\\_namew\\_o\\_clinical\\\\\n",
       "  & <dbl> & <dbl> & <dbl> & <dbl> & <dbl> & <dbl> & <dbl> & <dbl> & <dbl> & <dbl> & ⋯ & <dbl> & <dbl> & <dbl> & <dbl> & <dbl> & <dbl> & <dbl> & <dbl> & <chr> & <chr>\\\\\n",
       "\\hline\n",
       "\t1 & 0.007872607 &  0.01834307 & -0.01672033 & -0.3090944808 & -0.04257815 & -0.04290609 & 0.02036166 & -0.02911915 & -0.09958332 & -0.15661780 & ⋯ & 0.50467277 &  0.04324221 & 0.6661882 & -0.041123314 & -0.20769065 & 0.1357149 & -0.05794182 & -0.009094946 & cytokine & BCA1\\_\\_CXCL13\\\\\n",
       "\t2 & 0.016026314 & -0.17902272 &  0.02978679 & -0.0001092699 &  0.08309032 & -0.05366863 & 0.03047595 & -0.03859843 & -0.26235709 & -0.02720419 & ⋯ & 0.09532608 & -0.05772901 & 0.0201950 & -0.004542783 &  0.03819823 & 0.2465448 & -0.03517982 &  0.198791111 & cytokine & CTACK\\_\\_CCL27\\\\\n",
       "\\end{tabular}\n"
      ],
      "text/markdown": [
       "\n",
       "A data.frame: 2 × 22\n",
       "\n",
       "| <!--/--> | Factor1w_o_clinical &lt;dbl&gt; | Factor2w_o_clinical &lt;dbl&gt; | Factor3w_o_clinical &lt;dbl&gt; | Factor4w_o_clinical &lt;dbl&gt; | Factor5w_o_clinical &lt;dbl&gt; | Factor6w_o_clinical &lt;dbl&gt; | Factor7w_o_clinical &lt;dbl&gt; | Factor8w_o_clinical &lt;dbl&gt; | Factor9w_o_clinical &lt;dbl&gt; | Factor10w_o_clinical &lt;dbl&gt; | ⋯ ⋯ | Factor13w_o_clinical &lt;dbl&gt; | Factor14w_o_clinical &lt;dbl&gt; | Factor15w_o_clinical &lt;dbl&gt; | Factor16w_o_clinical &lt;dbl&gt; | Factor17w_o_clinical &lt;dbl&gt; | Factor18w_o_clinical &lt;dbl&gt; | Factor19w_o_clinical &lt;dbl&gt; | Factor20w_o_clinical &lt;dbl&gt; | typew_o_clinical &lt;chr&gt; | variable_namew_o_clinical &lt;chr&gt; |\n",
       "|---|---|---|---|---|---|---|---|---|---|---|---|---|---|---|---|---|---|---|---|---|---|\n",
       "| 1 | 0.007872607 |  0.01834307 | -0.01672033 | -0.3090944808 | -0.04257815 | -0.04290609 | 0.02036166 | -0.02911915 | -0.09958332 | -0.15661780 | ⋯ | 0.50467277 |  0.04324221 | 0.6661882 | -0.041123314 | -0.20769065 | 0.1357149 | -0.05794182 | -0.009094946 | cytokine | BCA1__CXCL13 |\n",
       "| 2 | 0.016026314 | -0.17902272 |  0.02978679 | -0.0001092699 |  0.08309032 | -0.05366863 | 0.03047595 | -0.03859843 | -0.26235709 | -0.02720419 | ⋯ | 0.09532608 | -0.05772901 | 0.0201950 | -0.004542783 |  0.03819823 | 0.2465448 | -0.03517982 |  0.198791111 | cytokine | CTACK__CCL27 |\n",
       "\n"
      ],
      "text/plain": [
       "  Factor1w_o_clinical Factor2w_o_clinical Factor3w_o_clinical\n",
       "1 0.007872607          0.01834307         -0.01672033        \n",
       "2 0.016026314         -0.17902272          0.02978679        \n",
       "  Factor4w_o_clinical Factor5w_o_clinical Factor6w_o_clinical\n",
       "1 -0.3090944808       -0.04257815         -0.04290609        \n",
       "2 -0.0001092699        0.08309032         -0.05366863        \n",
       "  Factor7w_o_clinical Factor8w_o_clinical Factor9w_o_clinical\n",
       "1 0.02036166          -0.02911915         -0.09958332        \n",
       "2 0.03047595          -0.03859843         -0.26235709        \n",
       "  Factor10w_o_clinical ⋯ Factor13w_o_clinical Factor14w_o_clinical\n",
       "1 -0.15661780          ⋯ 0.50467277            0.04324221         \n",
       "2 -0.02720419          ⋯ 0.09532608           -0.05772901         \n",
       "  Factor15w_o_clinical Factor16w_o_clinical Factor17w_o_clinical\n",
       "1 0.6661882            -0.041123314         -0.20769065         \n",
       "2 0.0201950            -0.004542783          0.03819823         \n",
       "  Factor18w_o_clinical Factor19w_o_clinical Factor20w_o_clinical\n",
       "1 0.1357149            -0.05794182          -0.009094946        \n",
       "2 0.2465448            -0.03517982           0.198791111        \n",
       "  typew_o_clinical variable_namew_o_clinical\n",
       "1 cytokine         BCA1__CXCL13             \n",
       "2 cytokine         CTACK__CCL27             "
      ]
     },
     "metadata": {},
     "output_type": "display_data"
    }
   ],
   "source": [
    "head(weight_data_w_o_clinical,2)"
   ]
  },
  {
   "cell_type": "code",
   "execution_count": 56,
   "id": "c0971949-6ed7-4f3a-a69a-6636960705ec",
   "metadata": {},
   "outputs": [
    {
     "name": "stderr",
     "output_type": "stream",
     "text": [
      "Using typew_o_clinical, variable_namew_o_clinical as id variables\n",
      "\n"
     ]
    }
   ],
   "source": [
    "weight_data_w_o_clinical_long = melt(weight_data_w_o_clinical)"
   ]
  },
  {
   "cell_type": "code",
   "execution_count": 57,
   "id": "935cc6fb-211f-4156-9ef3-ea3697ce689f",
   "metadata": {},
   "outputs": [
    {
     "data": {
      "text/html": [
       "<table class=\"dataframe\">\n",
       "<caption>A data.frame: 2 × 4</caption>\n",
       "<thead>\n",
       "\t<tr><th></th><th scope=col>type</th><th scope=col>variable_name</th><th scope=col>variable</th><th scope=col>value</th></tr>\n",
       "\t<tr><th></th><th scope=col>&lt;chr&gt;</th><th scope=col>&lt;chr&gt;</th><th scope=col>&lt;fct&gt;</th><th scope=col>&lt;dbl&gt;</th></tr>\n",
       "</thead>\n",
       "<tbody>\n",
       "\t<tr><th scope=row>1</th><td>clinical_data</td><td>CK   </td><td>Factor1</td><td>-0.13418597</td></tr>\n",
       "\t<tr><th scope=row>2</th><td>clinical_data</td><td>CK_MB</td><td>Factor1</td><td>-0.06222621</td></tr>\n",
       "</tbody>\n",
       "</table>\n"
      ],
      "text/latex": [
       "A data.frame: 2 × 4\n",
       "\\begin{tabular}{r|llll}\n",
       "  & type & variable\\_name & variable & value\\\\\n",
       "  & <chr> & <chr> & <fct> & <dbl>\\\\\n",
       "\\hline\n",
       "\t1 & clinical\\_data & CK    & Factor1 & -0.13418597\\\\\n",
       "\t2 & clinical\\_data & CK\\_MB & Factor1 & -0.06222621\\\\\n",
       "\\end{tabular}\n"
      ],
      "text/markdown": [
       "\n",
       "A data.frame: 2 × 4\n",
       "\n",
       "| <!--/--> | type &lt;chr&gt; | variable_name &lt;chr&gt; | variable &lt;fct&gt; | value &lt;dbl&gt; |\n",
       "|---|---|---|---|---|\n",
       "| 1 | clinical_data | CK    | Factor1 | -0.13418597 |\n",
       "| 2 | clinical_data | CK_MB | Factor1 | -0.06222621 |\n",
       "\n"
      ],
      "text/plain": [
       "  type          variable_name variable value      \n",
       "1 clinical_data CK            Factor1  -0.13418597\n",
       "2 clinical_data CK_MB         Factor1  -0.06222621"
      ]
     },
     "metadata": {},
     "output_type": "display_data"
    }
   ],
   "source": [
    "head(weight_data_long,2)"
   ]
  },
  {
   "cell_type": "code",
   "execution_count": 58,
   "id": "e1e8af8c-fbf2-4fb7-a6ce-fcdfd81619dc",
   "metadata": {},
   "outputs": [
    {
     "data": {
      "text/html": [
       "<table class=\"dataframe\">\n",
       "<caption>A data.frame: 2 × 4</caption>\n",
       "<thead>\n",
       "\t<tr><th></th><th scope=col>typew_o_clinical</th><th scope=col>variable_namew_o_clinical</th><th scope=col>variable</th><th scope=col>value</th></tr>\n",
       "\t<tr><th></th><th scope=col>&lt;chr&gt;</th><th scope=col>&lt;chr&gt;</th><th scope=col>&lt;fct&gt;</th><th scope=col>&lt;dbl&gt;</th></tr>\n",
       "</thead>\n",
       "<tbody>\n",
       "\t<tr><th scope=row>1</th><td>cytokine</td><td>BCA1__CXCL13</td><td>Factor1w_o_clinical</td><td>0.007872607</td></tr>\n",
       "\t<tr><th scope=row>2</th><td>cytokine</td><td>CTACK__CCL27</td><td>Factor1w_o_clinical</td><td>0.016026314</td></tr>\n",
       "</tbody>\n",
       "</table>\n"
      ],
      "text/latex": [
       "A data.frame: 2 × 4\n",
       "\\begin{tabular}{r|llll}\n",
       "  & typew\\_o\\_clinical & variable\\_namew\\_o\\_clinical & variable & value\\\\\n",
       "  & <chr> & <chr> & <fct> & <dbl>\\\\\n",
       "\\hline\n",
       "\t1 & cytokine & BCA1\\_\\_CXCL13 & Factor1w\\_o\\_clinical & 0.007872607\\\\\n",
       "\t2 & cytokine & CTACK\\_\\_CCL27 & Factor1w\\_o\\_clinical & 0.016026314\\\\\n",
       "\\end{tabular}\n"
      ],
      "text/markdown": [
       "\n",
       "A data.frame: 2 × 4\n",
       "\n",
       "| <!--/--> | typew_o_clinical &lt;chr&gt; | variable_namew_o_clinical &lt;chr&gt; | variable &lt;fct&gt; | value &lt;dbl&gt; |\n",
       "|---|---|---|---|---|\n",
       "| 1 | cytokine | BCA1__CXCL13 | Factor1w_o_clinical | 0.007872607 |\n",
       "| 2 | cytokine | CTACK__CCL27 | Factor1w_o_clinical | 0.016026314 |\n",
       "\n"
      ],
      "text/plain": [
       "  typew_o_clinical variable_namew_o_clinical variable            value      \n",
       "1 cytokine         BCA1__CXCL13              Factor1w_o_clinical 0.007872607\n",
       "2 cytokine         CTACK__CCL27              Factor1w_o_clinical 0.016026314"
      ]
     },
     "metadata": {},
     "output_type": "display_data"
    }
   ],
   "source": [
    "head(weight_data_w_o_clinical_long,2 )"
   ]
  },
  {
   "cell_type": "code",
   "execution_count": 59,
   "id": "af3de2cc-b2f7-48b6-99fd-7bb69638592a",
   "metadata": {},
   "outputs": [],
   "source": [
    "colnames(weight_data_w_o_clinical_long) = c('type', 'variable_name', 'variable', 'value')"
   ]
  },
  {
   "cell_type": "code",
   "execution_count": 60,
   "id": "7039a743-d30f-4849-b426-9d8546fa7253",
   "metadata": {},
   "outputs": [],
   "source": [
    "weight_data_long_all =  rbind(weight_data_long, weight_data_w_o_clinical_long)"
   ]
  },
  {
   "cell_type": "code",
   "execution_count": 61,
   "id": "049dc822-79db-4e6c-9356-6a2ce3643746",
   "metadata": {},
   "outputs": [],
   "source": [
    "### Get top features"
   ]
  },
  {
   "cell_type": "code",
   "execution_count": 62,
   "id": "6574f1e1-bb24-4413-96ba-07bfe1f02889",
   "metadata": {},
   "outputs": [],
   "source": [
    "i =  0.005 ## percentage of top features"
   ]
  },
  {
   "cell_type": "code",
   "execution_count": 63,
   "id": "d7288ee6-fb9f-4d20-a525-eab90ee872d0",
   "metadata": {},
   "outputs": [
    {
     "name": "stderr",
     "output_type": "stream",
     "text": [
      "\u001b[1m\u001b[22mSelecting by value\n",
      "\u001b[1m\u001b[22mSelecting by value\n"
     ]
    }
   ],
   "source": [
    "\n",
    "## Define amont of top genes per fraction \n",
    "geneset_oi_pos_per_factor_analyze =weight_data_long_all %>% group_by(variable) %>% arrange( desc(value),  .by_group = TRUE)  %>% top_frac(i)\n",
    "geneset_oi_pos_per_factor_analyze$direction = 'positive'\n",
    "\n",
    "geneset_oi_neg_per_factor_analyze = weight_data_long_all %>% group_by(variable) %>% arrange(desc(value),  .by_group = TRUE)  %>% top_frac(-i)\n",
    "geneset_oi_neg_per_factor_analyze$direction = 'negative'\n",
    "\n",
    "geneset_oi_analyze = rbind(geneset_oi_pos_per_factor_analyze, geneset_oi_neg_per_factor_analyze)\n",
    "geneset_oi_analyze$fraction = i\n"
   ]
  },
  {
   "cell_type": "code",
   "execution_count": 64,
   "id": "9e720bcf-15ea-4f39-acc7-e96c982a3dc5",
   "metadata": {},
   "outputs": [
    {
     "data": {
      "text/html": [
       "<table class=\"dataframe\">\n",
       "<caption>A grouped_df: 2 × 6</caption>\n",
       "<thead>\n",
       "\t<tr><th scope=col>type</th><th scope=col>variable_name</th><th scope=col>variable</th><th scope=col>value</th><th scope=col>direction</th><th scope=col>fraction</th></tr>\n",
       "\t<tr><th scope=col>&lt;chr&gt;</th><th scope=col>&lt;chr&gt;</th><th scope=col>&lt;fct&gt;</th><th scope=col>&lt;dbl&gt;</th><th scope=col>&lt;chr&gt;</th><th scope=col>&lt;dbl&gt;</th></tr>\n",
       "</thead>\n",
       "<tbody>\n",
       "\t<tr><td>X0_TcellCD4</td><td>X0_T.cell.CD4__PFN1</td><td>Factor1</td><td>0.5391310</td><td>positive</td><td>0.005</td></tr>\n",
       "\t<tr><td>X0_TcellCD4</td><td>X0_T.cell.CD4__CYBA</td><td>Factor1</td><td>0.5244921</td><td>positive</td><td>0.005</td></tr>\n",
       "</tbody>\n",
       "</table>\n"
      ],
      "text/latex": [
       "A grouped\\_df: 2 × 6\n",
       "\\begin{tabular}{llllll}\n",
       " type & variable\\_name & variable & value & direction & fraction\\\\\n",
       " <chr> & <chr> & <fct> & <dbl> & <chr> & <dbl>\\\\\n",
       "\\hline\n",
       "\t X0\\_TcellCD4 & X0\\_T.cell.CD4\\_\\_PFN1 & Factor1 & 0.5391310 & positive & 0.005\\\\\n",
       "\t X0\\_TcellCD4 & X0\\_T.cell.CD4\\_\\_CYBA & Factor1 & 0.5244921 & positive & 0.005\\\\\n",
       "\\end{tabular}\n"
      ],
      "text/markdown": [
       "\n",
       "A grouped_df: 2 × 6\n",
       "\n",
       "| type &lt;chr&gt; | variable_name &lt;chr&gt; | variable &lt;fct&gt; | value &lt;dbl&gt; | direction &lt;chr&gt; | fraction &lt;dbl&gt; |\n",
       "|---|---|---|---|---|---|\n",
       "| X0_TcellCD4 | X0_T.cell.CD4__PFN1 | Factor1 | 0.5391310 | positive | 0.005 |\n",
       "| X0_TcellCD4 | X0_T.cell.CD4__CYBA | Factor1 | 0.5244921 | positive | 0.005 |\n",
       "\n"
      ],
      "text/plain": [
       "  type        variable_name       variable value     direction fraction\n",
       "1 X0_TcellCD4 X0_T.cell.CD4__PFN1 Factor1  0.5391310 positive  0.005   \n",
       "2 X0_TcellCD4 X0_T.cell.CD4__CYBA Factor1  0.5244921 positive  0.005   "
      ]
     },
     "metadata": {},
     "output_type": "display_data"
    }
   ],
   "source": [
    "head(geneset_oi_analyze,2)"
   ]
  },
  {
   "cell_type": "code",
   "execution_count": 65,
   "id": "865b6275-3819-4d0f-861b-84978271ced8",
   "metadata": {},
   "outputs": [],
   "source": [
    "geneset_oi_analyze = geneset_oi_analyze[geneset_oi_analyze$variable %in%  c(\n",
    "    c('Factor1', 'Factor2' , 'Factor3', 'Factor4', 'Factor5',\n",
    "     'Factor1w_o_clinical', 'Factor2w_o_clinical', 'Factor3w_o_clinical', 'Factor4w_o_clinical' , 'Factor5w_o_clinical'))\n",
    "                                        ,]"
   ]
  },
  {
   "cell_type": "code",
   "execution_count": 66,
   "id": "de8a1a58-54cf-42dd-8a9f-5f302ea16ce8",
   "metadata": {},
   "outputs": [],
   "source": [
    "plot_data = list()"
   ]
  },
  {
   "cell_type": "code",
   "execution_count": 67,
   "id": "18e3a6c6-6f05-40e9-8dfd-c1d68ab3ad62",
   "metadata": {},
   "outputs": [],
   "source": [
    "for (i in unique(geneset_oi_analyze$variable)){\n",
    "    data_plot = geneset_oi_analyze[geneset_oi_analyze$variable == i,]\n",
    "    plot_data[[i]] = unique(data_plot$variable_name)\n",
    "    }"
   ]
  },
  {
   "cell_type": "code",
   "execution_count": 68,
   "id": "e1849e26-7f0f-4041-868e-ce082579aec9",
   "metadata": {
    "tags": []
   },
   "outputs": [
    {
     "name": "stdout",
     "output_type": "stream",
     "text": [
      " chr [1:132] \"X0_T.cell.CD4__PFN1\" \"X0_T.cell.CD4__CYBA\" ...\n"
     ]
    }
   ],
   "source": [
    "str(plot_data[[1]])"
   ]
  },
  {
   "cell_type": "code",
   "execution_count": 69,
   "id": "a57af378-1d93-49da-811f-527e2aeae2a8",
   "metadata": {},
   "outputs": [],
   "source": [
    "library(UpSetR, lib.loc = '/mnt/home/icb/corinna.losert/miniconda3/envs/stark_stemi_R_Env_4_1/lib/R/library/')"
   ]
  },
  {
   "cell_type": "code",
   "execution_count": 70,
   "id": "d120d018-e95b-4937-b59c-63652da9ef65",
   "metadata": {},
   "outputs": [],
   "source": [
    "figure_name = \"SUPP5_Overlap_top_features_Mofa_Models\""
   ]
  },
  {
   "cell_type": "code",
   "execution_count": 71,
   "id": "6e5cb7ac-e59b-4083-b9b9-3ed8500aa8ab",
   "metadata": {},
   "outputs": [],
   "source": [
    "# Sizes of the plot\n",
    "width_par = 8\n",
    "height_par = 3"
   ]
  },
  {
   "cell_type": "code",
   "execution_count": 72,
   "id": "2b594a21-fb82-44f2-94e3-1e08fb32b850",
   "metadata": {},
   "outputs": [
    {
     "data": {
      "text/html": [
       "<strong>png:</strong> 2"
      ],
      "text/latex": [
       "\\textbf{png:} 2"
      ],
      "text/markdown": [
       "**png:** 2"
      ],
      "text/plain": [
       "png \n",
       "  2 "
      ]
     },
     "metadata": {},
     "output_type": "display_data"
    }
   ],
   "source": [
    "options(repr.plot.width=15, repr.plot.height=10)\n",
    "\n",
    "pdf(paste0('figures/Supplementary_Figures/', figure_name, name, '.pdf'), width =width_par, height =height_par)\n",
    "overlap = upset(fromList(plot_data), nsets = 40, order.by = \"freq\", cutoff = 10, nintersects = 10, mb.ratio = c(0.5, 0.5),text.scale = 1.2 )\n",
    "overlap\n",
    "dev.off()\n"
   ]
  },
  {
   "cell_type": "code",
   "execution_count": 73,
   "id": "cc738ae8-17b0-423c-a81c-c5a790711692",
   "metadata": {},
   "outputs": [
    {
     "data": {
      "image/png": "[encoded data removed]",
      "text/plain": [
       "plot without title"
      ]
     },
     "metadata": {
      "image/png": {
       "height": 600,
       "width": 900
      }
     },
     "output_type": "display_data"
    }
   ],
   "source": [
    "overlap "
   ]
  },
  {
   "cell_type": "code",
   "execution_count": null,
   "id": "f346430a-1fd2-4e12-bfa9-711edf67251e",
   "metadata": {},
   "outputs": [],
   "source": []
  },
  {
   "cell_type": "code",
   "execution_count": null,
   "id": "cd0bd1d2-8e46-492a-88f9-f7b9c9da5a42",
   "metadata": {},
   "outputs": [],
   "source": []
  }
 ],
 "metadata": {
  "kernelspec": {
   "display_name": "R",
   "language": "R",
   "name": "ir"
  },
  "language_info": {
   "codemirror_mode": "r",
   "file_extension": ".r",
   "mimetype": "text/x-r-source",
   "name": "R",
   "pygments_lexer": "r",
   "version": "4.1.1"
  }
 },
 "nbformat": 4,
 "nbformat_minor": 5
}

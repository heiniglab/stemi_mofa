{
 "cells": [
  {
   "cell_type": "code",
   "execution_count": 1,
   "id": "30db86a6-94fa-4e7b-9f5b-11d49a6552b2",
   "metadata": {
    "tags": []
   },
   "outputs": [],
   "source": [
    "### Script to integrate and align all available data sources:\n",
    "# Single Cell RNA Seq\n",
    "# Cytokine Data\n",
    "# Neutrophil Data\n",
    "# Proteomics"
   ]
  },
  {
   "cell_type": "markdown",
   "id": "d9375846-405e-474a-9c51-836de879fc64",
   "metadata": {
    "tags": []
   },
   "source": [
    "#############################################\n",
    "# Prerequisites - Load Libraries"
   ]
  },
  {
   "cell_type": "code",
   "execution_count": 2,
   "id": "78cda6a6-83a2-4aa4-ac3c-26b3641d28b5",
   "metadata": {
    "tags": []
   },
   "outputs": [
    {
     "name": "stderr",
     "output_type": "stream",
     "text": [
      "\n",
      "Attaching package: ‘igraph’\n",
      "\n",
      "\n",
      "The following objects are masked from ‘package:stats’:\n",
      "\n",
      "    decompose, spectrum\n",
      "\n",
      "\n",
      "The following object is masked from ‘package:base’:\n",
      "\n",
      "    union\n",
      "\n",
      "\n",
      "\n",
      "Attaching package: ‘MatrixGenerics’\n",
      "\n",
      "\n",
      "The following objects are masked from ‘package:matrixStats’:\n",
      "\n",
      "    colAlls, colAnyNAs, colAnys, colAvgsPerRowSet, colCollapse,\n",
      "    colCounts, colCummaxs, colCummins, colCumprods, colCumsums,\n",
      "    colDiffs, colIQRDiffs, colIQRs, colLogSumExps, colMadDiffs,\n",
      "    colMads, colMaxs, colMeans2, colMedians, colMins, colOrderStats,\n",
      "    colProds, colQuantiles, colRanges, colRanks, colSdDiffs, colSds,\n",
      "    colSums2, colTabulates, colVarDiffs, colVars, colWeightedMads,\n",
      "    colWeightedMeans, colWeightedMedians, colWeightedSds,\n",
      "    colWeightedVars, rowAlls, rowAnyNAs, rowAnys, rowAvgsPerColSet,\n",
      "    rowCollapse, rowCounts, rowCummaxs, rowCummins, rowCumprods,\n",
      "    rowCumsums, rowDiffs, rowIQRDiffs, rowIQRs, rowLogSumExps,\n",
      "    rowMadDiffs, rowMads, rowMaxs, rowMeans2, rowMedians, rowMins,\n",
      "    rowOrderStats, rowProds, rowQuantiles, rowRanges, rowRanks,\n",
      "    rowSdDiffs, rowSds, rowSums2, rowTabulates, rowVarDiffs, rowVars,\n",
      "    rowWeightedMads, rowWeightedMeans, rowWeightedMedians,\n",
      "    rowWeightedSds, rowWeightedVars\n",
      "\n",
      "\n",
      "\n",
      "Attaching package: ‘BiocGenerics’\n",
      "\n",
      "\n",
      "The following objects are masked from ‘package:parallel’:\n",
      "\n",
      "    clusterApply, clusterApplyLB, clusterCall, clusterEvalQ,\n",
      "    clusterExport, clusterMap, parApply, parCapply, parLapply,\n",
      "    parLapplyLB, parRapply, parSapply, parSapplyLB\n",
      "\n",
      "\n",
      "The following objects are masked from ‘package:igraph’:\n",
      "\n",
      "    normalize, path, union\n",
      "\n",
      "\n",
      "The following objects are masked from ‘package:stats’:\n",
      "\n",
      "    IQR, mad, sd, var, xtabs\n",
      "\n",
      "\n",
      "The following objects are masked from ‘package:base’:\n",
      "\n",
      "    anyDuplicated, append, as.data.frame, basename, cbind, colnames,\n",
      "    dirname, do.call, duplicated, eval, evalq, Filter, Find, get, grep,\n",
      "    grepl, intersect, is.unsorted, lapply, Map, mapply, match, mget,\n",
      "    order, paste, pmax, pmax.int, pmin, pmin.int, Position, rank,\n",
      "    rbind, Reduce, rownames, sapply, setdiff, sort, table, tapply,\n",
      "    union, unique, unsplit, which.max, which.min\n",
      "\n",
      "\n",
      "\n",
      "Attaching package: ‘S4Vectors’\n",
      "\n",
      "\n",
      "The following objects are masked from ‘package:base’:\n",
      "\n",
      "    expand.grid, I, unname\n",
      "\n",
      "\n",
      "Welcome to Bioconductor\n",
      "\n",
      "    Vignettes contain introductory material; view with\n",
      "    'browseVignettes()'. To cite Bioconductor, see\n",
      "    'citation(\"Biobase\")', and for packages 'citation(\"pkgname\")'.\n",
      "\n",
      "\n",
      "\n",
      "Attaching package: ‘Biobase’\n",
      "\n",
      "\n",
      "The following object is masked from ‘package:MatrixGenerics’:\n",
      "\n",
      "    rowMedians\n",
      "\n",
      "\n",
      "The following objects are masked from ‘package:matrixStats’:\n",
      "\n",
      "    anyMissing, rowMedians\n",
      "\n",
      "\n",
      "Attaching SeuratObject\n",
      "\n",
      "\n",
      "Attaching package: ‘Seurat’\n",
      "\n",
      "\n",
      "The following object is masked from ‘package:SummarizedExperiment’:\n",
      "\n",
      "    Assays\n",
      "\n",
      "\n",
      "\n",
      "Attaching package: ‘Matrix’\n",
      "\n",
      "\n",
      "The following object is masked from ‘package:S4Vectors’:\n",
      "\n",
      "    expand\n",
      "\n",
      "\n",
      "\n",
      "Attaching package: ‘DelayedArray’\n",
      "\n",
      "\n",
      "The following object is masked from ‘package:igraph’:\n",
      "\n",
      "    simplify\n",
      "\n",
      "\n",
      "The following objects are masked from ‘package:base’:\n",
      "\n",
      "    aperm, apply, rowsum, scale, sweep\n",
      "\n",
      "\n",
      "\n",
      "Attaching package: ‘HDF5Array’\n",
      "\n",
      "\n",
      "The following object is masked from ‘package:rhdf5’:\n",
      "\n",
      "    h5ls\n",
      "\n",
      "\n",
      "Warning message in if (is.na(desc)) {:\n",
      "“the condition has length > 1 and only the first element will be used”\n",
      "Warning message in if (is.na(desc)) {:\n",
      "“the condition has length > 1 and only the first element will be used”\n",
      "Warning message in if (is.na(desc)) {:\n",
      "“the condition has length > 1 and only the first element will be used”\n",
      "Warning message in if (is.na(desc)) {:\n",
      "“the condition has length > 1 and only the first element will be used”\n",
      "Warning message in if (is.na(desc)) {:\n",
      "“the condition has length > 1 and only the first element will be used”\n",
      "Warning message in if (is.na(desc)) {:\n",
      "“the condition has length > 1 and only the first element will be used”\n",
      "Warning message in if (is.na(desc)) {:\n",
      "“the condition has length > 1 and only the first element will be used”\n",
      "Warning message in if (is.na(desc)) {:\n",
      "“the condition has length > 1 and only the first element will be used”\n",
      "Warning message in if (is.na(desc)) {:\n",
      "“the condition has length > 1 and only the first element will be used”\n",
      "Warning message in if (is.na(desc)) {:\n",
      "“the condition has length > 1 and only the first element will be used”\n",
      "Warning message in if (is.na(desc)) {:\n",
      "“the condition has length > 1 and only the first element will be used”\n",
      "Warning message in if (is.na(desc)) {:\n",
      "“the condition has length > 1 and only the first element will be used”\n",
      "Warning message in if (is.na(desc)) {:\n",
      "“the condition has length > 1 and only the first element will be used”\n",
      "Warning message in if (is.na(desc)) {:\n",
      "“the condition has length > 1 and only the first element will be used”\n",
      "Warning message in if (is.na(desc)) {:\n",
      "“the condition has length > 1 and only the first element will be used”\n",
      "Warning message in if (is.na(desc)) {:\n",
      "“the condition has length > 1 and only the first element will be used”\n",
      "Warning message in if (is.na(desc)) {:\n",
      "“the condition has length > 1 and only the first element will be used”\n",
      "Warning message in if (is.na(desc)) {:\n",
      "“the condition has length > 1 and only the first element will be used”\n",
      "Warning message in if (is.na(desc)) {:\n",
      "“the condition has length > 1 and only the first element will be used”\n",
      "Warning message in if (is.na(desc)) {:\n",
      "“the condition has length > 1 and only the first element will be used”\n",
      "Warning message in if (is.na(desc)) {:\n",
      "“the condition has length > 1 and only the first element will be used”\n",
      "Warning message in if (is.na(desc)) {:\n",
      "“the condition has length > 1 and only the first element will be used”\n",
      "Warning message in if (is.na(desc)) {:\n",
      "“the condition has length > 1 and only the first element will be used”\n",
      "── \u001b[1mInstalled datasets\u001b[22m ───────────────────────────────────── SeuratData v0.2.1 ──\n",
      "\n",
      "\u001b[32m✔\u001b[39m \u001b[34mpbmcref\u001b[39m 1.0.0                         \n",
      "\n",
      "\n",
      "────────────────────────────────────── Key ─────────────────────────────────────\n",
      "\n",
      "\u001b[32m✔\u001b[39m Dataset loaded successfully\n",
      "\u001b[33m❯\u001b[39m Dataset built with a newer version of Seurat than installed\n",
      "\u001b[31m❓\u001b[39m Unknown version of Seurat installed\n",
      "\n",
      "\n",
      "Registered S3 method overwritten by 'SeuratDisk':\n",
      "  method            from  \n",
      "  as.sparse.H5Group Seurat\n",
      "\n",
      "\n",
      "Attaching package: ‘gridExtra’\n",
      "\n",
      "\n",
      "The following object is masked from ‘package:Biobase’:\n",
      "\n",
      "    combine\n",
      "\n",
      "\n",
      "The following object is masked from ‘package:BiocGenerics’:\n",
      "\n",
      "    combine\n",
      "\n",
      "\n",
      "\n",
      "Attaching package: ‘dplyr’\n",
      "\n",
      "\n",
      "The following object is masked from ‘package:gridExtra’:\n",
      "\n",
      "    combine\n",
      "\n",
      "\n",
      "The following object is masked from ‘package:Biobase’:\n",
      "\n",
      "    combine\n",
      "\n",
      "\n",
      "The following objects are masked from ‘package:GenomicRanges’:\n",
      "\n",
      "    intersect, setdiff, union\n",
      "\n",
      "\n",
      "The following object is masked from ‘package:GenomeInfoDb’:\n",
      "\n",
      "    intersect\n",
      "\n",
      "\n",
      "The following objects are masked from ‘package:IRanges’:\n",
      "\n",
      "    collapse, desc, intersect, setdiff, slice, union\n",
      "\n",
      "\n",
      "The following objects are masked from ‘package:S4Vectors’:\n",
      "\n",
      "    first, intersect, rename, setdiff, setequal, union\n",
      "\n",
      "\n",
      "The following objects are masked from ‘package:BiocGenerics’:\n",
      "\n",
      "    combine, intersect, setdiff, union\n",
      "\n",
      "\n",
      "The following object is masked from ‘package:matrixStats’:\n",
      "\n",
      "    count\n",
      "\n",
      "\n",
      "The following objects are masked from ‘package:igraph’:\n",
      "\n",
      "    as_data_frame, groups, union\n",
      "\n",
      "\n",
      "The following objects are masked from ‘package:stats’:\n",
      "\n",
      "    filter, lag\n",
      "\n",
      "\n",
      "The following objects are masked from ‘package:base’:\n",
      "\n",
      "    intersect, setdiff, setequal, union\n",
      "\n",
      "\n",
      "\n",
      "Attaching package: ‘plotly’\n",
      "\n",
      "\n",
      "The following object is masked from ‘package:ggplot2’:\n",
      "\n",
      "    last_plot\n",
      "\n",
      "\n",
      "The following object is masked from ‘package:IRanges’:\n",
      "\n",
      "    slice\n",
      "\n",
      "\n",
      "The following object is masked from ‘package:S4Vectors’:\n",
      "\n",
      "    rename\n",
      "\n",
      "\n",
      "The following object is masked from ‘package:igraph’:\n",
      "\n",
      "    groups\n",
      "\n",
      "\n",
      "The following object is masked from ‘package:stats’:\n",
      "\n",
      "    filter\n",
      "\n",
      "\n",
      "The following object is masked from ‘package:graphics’:\n",
      "\n",
      "    layout\n",
      "\n",
      "\n",
      "Warning message in checkMatrixPackageVersion():\n",
      "“Package version inconsistency detected.\n",
      "TMB was built with Matrix version 1.4.1\n",
      "Current Matrix version is 1.5.3\n",
      "Please re-install 'TMB' from source using install.packages('TMB', type = 'source') or ask CRAN for a binary version of 'TMB' matching CRAN's 'Matrix' package”\n",
      "Warning message in checkDepPackageVersion(dep_pkg = \"TMB\"):\n",
      "“Package version inconsistency detected.\n",
      "glmmTMB was built with TMB version 1.9.0\n",
      "Current TMB version is 1.9.1\n",
      "Please re-install glmmTMB from source or restore original ‘TMB’ package (see '?reinstalling' for more information)”\n",
      "\n",
      "Attaching package: ‘limma’\n",
      "\n",
      "\n",
      "The following object is masked from ‘package:scater’:\n",
      "\n",
      "    plotMDS\n",
      "\n",
      "\n",
      "The following object is masked from ‘package:BiocGenerics’:\n",
      "\n",
      "    plotMA\n",
      "\n",
      "\n",
      "\n",
      "Attaching package: ‘DESeq2’\n",
      "\n",
      "\n",
      "The following object is masked from ‘package:scater’:\n",
      "\n",
      "    fpkm\n",
      "\n",
      "\n",
      "Loading required package: AnnotationDbi\n",
      "\n",
      "\n",
      "Attaching package: ‘AnnotationDbi’\n",
      "\n",
      "\n",
      "The following object is masked from ‘package:plotly’:\n",
      "\n",
      "    select\n",
      "\n",
      "\n",
      "The following object is masked from ‘package:dplyr’:\n",
      "\n",
      "    select\n",
      "\n",
      "\n",
      "\n",
      "\n",
      "\n",
      "\n",
      "Registered S3 method overwritten by 'ggtree':\n",
      "  method      from \n",
      "  identify.gg ggfun\n",
      "\n",
      "clusterProfiler v4.0.5  For help: https://yulab-smu.top/biomedical-knowledge-mining-book/\n",
      "\n",
      "If you use clusterProfiler in published research, please cite:\n",
      "T Wu, E Hu, S Xu, M Chen, P Guo, Z Dai, T Feng, L Zhou, W Tang, L Zhan, X Fu, S Liu, X Bo, and G Yu. clusterProfiler 4.0: A universal enrichment tool for interpreting omics data. The Innovation. 2021, 2(3):100141. doi: 10.1016/j.xinn.2021.100141\n",
      "\n",
      "\n",
      "Attaching package: ‘clusterProfiler’\n",
      "\n",
      "\n",
      "The following object is masked from ‘package:AnnotationDbi’:\n",
      "\n",
      "    select\n",
      "\n",
      "\n",
      "The following object is masked from ‘package:DelayedArray’:\n",
      "\n",
      "    simplify\n",
      "\n",
      "\n",
      "The following object is masked from ‘package:IRanges’:\n",
      "\n",
      "    slice\n",
      "\n",
      "\n",
      "The following object is masked from ‘package:S4Vectors’:\n",
      "\n",
      "    rename\n",
      "\n",
      "\n",
      "The following object is masked from ‘package:igraph’:\n",
      "\n",
      "    simplify\n",
      "\n",
      "\n",
      "The following object is masked from ‘package:stats’:\n",
      "\n",
      "    filter\n",
      "\n",
      "\n",
      "\n",
      "Attaching package: ‘data.table’\n",
      "\n",
      "\n",
      "The following objects are masked from ‘package:dplyr’:\n",
      "\n",
      "    between, first, last\n",
      "\n",
      "\n",
      "The following object is masked from ‘package:SummarizedExperiment’:\n",
      "\n",
      "    shift\n",
      "\n",
      "\n",
      "The following object is masked from ‘package:GenomicRanges’:\n",
      "\n",
      "    shift\n",
      "\n",
      "\n",
      "The following object is masked from ‘package:IRanges’:\n",
      "\n",
      "    shift\n",
      "\n",
      "\n",
      "The following objects are masked from ‘package:S4Vectors’:\n",
      "\n",
      "    first, second\n",
      "\n",
      "\n",
      "\n",
      "Attaching package: ‘MOFA2’\n",
      "\n",
      "\n",
      "The following object is masked from ‘package:stats’:\n",
      "\n",
      "    predict\n",
      "\n",
      "\n",
      "Loading required package: lattice\n",
      "\n",
      "\n",
      "Attaching package: ‘lattice’\n",
      "\n",
      "\n",
      "The following object is masked from ‘package:clusterProfiler’:\n",
      "\n",
      "    dotplot\n",
      "\n",
      "\n",
      "Loading required package: survival\n",
      "\n",
      "Loading required package: Formula\n",
      "\n",
      "\n",
      "Attaching package: ‘Hmisc’\n",
      "\n",
      "\n",
      "The following object is masked from ‘package:MOFA2’:\n",
      "\n",
      "    impute\n",
      "\n",
      "\n",
      "The following object is masked from ‘package:AnnotationDbi’:\n",
      "\n",
      "    contents\n",
      "\n",
      "\n",
      "The following object is masked from ‘package:plotly’:\n",
      "\n",
      "    subplot\n",
      "\n",
      "\n",
      "The following objects are masked from ‘package:dplyr’:\n",
      "\n",
      "    src, summarize\n",
      "\n",
      "\n",
      "The following object is masked from ‘package:SeuratObject’:\n",
      "\n",
      "    Key\n",
      "\n",
      "\n",
      "The following object is masked from ‘package:Seurat’:\n",
      "\n",
      "    Key\n",
      "\n",
      "\n",
      "The following object is masked from ‘package:Biobase’:\n",
      "\n",
      "    contents\n",
      "\n",
      "\n",
      "The following objects are masked from ‘package:base’:\n",
      "\n",
      "    format.pval, units\n",
      "\n",
      "\n",
      "Registered S3 method overwritten by 'GGally':\n",
      "  method from   \n",
      "  +.gg   ggplot2\n",
      "\n",
      "\n",
      "Attaching package: ‘rstatix’\n",
      "\n",
      "\n",
      "The following object is masked from ‘package:AnnotationDbi’:\n",
      "\n",
      "    select\n",
      "\n",
      "\n",
      "The following object is masked from ‘package:IRanges’:\n",
      "\n",
      "    desc\n",
      "\n",
      "\n",
      "The following object is masked from ‘package:stats’:\n",
      "\n",
      "    filter\n",
      "\n",
      "\n",
      "\n",
      "Attaching package: ‘ggpubr’\n",
      "\n",
      "\n",
      "The following object is masked from ‘package:cowplot’:\n",
      "\n",
      "    get_legend\n",
      "\n",
      "\n",
      "── \u001b[1mAttaching packages\u001b[22m ─────────────────────────────────────── tidyverse 1.3.2 ──\n",
      "\u001b[32m✔\u001b[39m \u001b[34mtibble \u001b[39m 3.1.8     \u001b[32m✔\u001b[39m \u001b[34mpurrr  \u001b[39m 1.0.1\n",
      "\u001b[32m✔\u001b[39m \u001b[34mtidyr  \u001b[39m 1.3.0     \u001b[32m✔\u001b[39m \u001b[34mforcats\u001b[39m 0.5.2\n",
      "\u001b[32m✔\u001b[39m \u001b[34mreadr  \u001b[39m 2.1.4     \n",
      "── \u001b[1mConflicts\u001b[22m ────────────────────────────────────────── tidyverse_conflicts() ──\n",
      "\u001b[31m✖\u001b[39m \u001b[34mtibble\u001b[39m::\u001b[32mas_data_frame()\u001b[39m   masks \u001b[34mdplyr\u001b[39m::as_data_frame(), \u001b[34migraph\u001b[39m::as_data_frame()\n",
      "\u001b[31m✖\u001b[39m \u001b[34mdata.table\u001b[39m::\u001b[32mbetween()\u001b[39m     masks \u001b[34mdplyr\u001b[39m::between()\n",
      "\u001b[31m✖\u001b[39m \u001b[34mdplyr\u001b[39m::\u001b[32mcollapse()\u001b[39m         masks \u001b[34mIRanges\u001b[39m::collapse()\n",
      "\u001b[31m✖\u001b[39m \u001b[34mdplyr\u001b[39m::\u001b[32mcombine()\u001b[39m          masks \u001b[34mgridExtra\u001b[39m::combine(), \u001b[34mBiobase\u001b[39m::combine(), \u001b[34mBiocGenerics\u001b[39m::combine()\n",
      "\u001b[31m✖\u001b[39m \u001b[34mpurrr\u001b[39m::\u001b[32mcompose()\u001b[39m          masks \u001b[34migraph\u001b[39m::compose()\n",
      "\u001b[31m✖\u001b[39m \u001b[34mdplyr\u001b[39m::\u001b[32mcount()\u001b[39m            masks \u001b[34mmatrixStats\u001b[39m::count()\n",
      "\u001b[31m✖\u001b[39m \u001b[34mtidyr\u001b[39m::\u001b[32mcrossing()\u001b[39m         masks \u001b[34migraph\u001b[39m::crossing()\n",
      "\u001b[31m✖\u001b[39m \u001b[34mrstatix\u001b[39m::\u001b[32mdesc()\u001b[39m           masks \u001b[34mdplyr\u001b[39m::desc(), \u001b[34mIRanges\u001b[39m::desc()\n",
      "\u001b[31m✖\u001b[39m \u001b[34mtidyr\u001b[39m::\u001b[32mexpand()\u001b[39m           masks \u001b[34mMatrix\u001b[39m::expand(), \u001b[34mS4Vectors\u001b[39m::expand()\n",
      "\u001b[31m✖\u001b[39m \u001b[34mrstatix\u001b[39m::\u001b[32mfilter()\u001b[39m         masks \u001b[34mclusterProfiler\u001b[39m::filter(), \u001b[34mplotly\u001b[39m::filter(), \u001b[34mdplyr\u001b[39m::filter(), \u001b[34mstats\u001b[39m::filter()\n",
      "\u001b[31m✖\u001b[39m \u001b[34mdata.table\u001b[39m::\u001b[32mfirst()\u001b[39m       masks \u001b[34mdplyr\u001b[39m::first(), \u001b[34mS4Vectors\u001b[39m::first()\n",
      "\u001b[31m✖\u001b[39m \u001b[34mplotly\u001b[39m::\u001b[32mgroups()\u001b[39m          masks \u001b[34mdplyr\u001b[39m::groups(), \u001b[34migraph\u001b[39m::groups()\n",
      "\u001b[31m✖\u001b[39m \u001b[34mdplyr\u001b[39m::\u001b[32mlag()\u001b[39m              masks \u001b[34mstats\u001b[39m::lag()\n",
      "\u001b[31m✖\u001b[39m \u001b[34mdata.table\u001b[39m::\u001b[32mlast()\u001b[39m        masks \u001b[34mdplyr\u001b[39m::last()\n",
      "\u001b[31m✖\u001b[39m \u001b[34mtidyr\u001b[39m::\u001b[32mpack()\u001b[39m             masks \u001b[34mMatrix\u001b[39m::pack()\n",
      "\u001b[31m✖\u001b[39m \u001b[34mggplot2\u001b[39m::\u001b[32mPosition()\u001b[39m       masks \u001b[34mBiocGenerics\u001b[39m::Position(), \u001b[34mbase\u001b[39m::Position()\n",
      "\u001b[31m✖\u001b[39m \u001b[34mpurrr\u001b[39m::\u001b[32mreduce()\u001b[39m           masks \u001b[34mGenomicRanges\u001b[39m::reduce(), \u001b[34mIRanges\u001b[39m::reduce()\n",
      "\u001b[31m✖\u001b[39m \u001b[34mclusterProfiler\u001b[39m::\u001b[32mrename()\u001b[39m masks \u001b[34mplotly\u001b[39m::rename(), \u001b[34mdplyr\u001b[39m::rename(), \u001b[34mS4Vectors\u001b[39m::rename()\n",
      "\u001b[31m✖\u001b[39m \u001b[34mrstatix\u001b[39m::\u001b[32mselect()\u001b[39m         masks \u001b[34mclusterProfiler\u001b[39m::select(), \u001b[34mAnnotationDbi\u001b[39m::select(), \u001b[34mplotly\u001b[39m::select(), \u001b[34mdplyr\u001b[39m::select()\n",
      "\u001b[31m✖\u001b[39m \u001b[34mpurrr\u001b[39m::\u001b[32msimplify()\u001b[39m         masks \u001b[34mclusterProfiler\u001b[39m::simplify(), \u001b[34mDelayedArray\u001b[39m::simplify(), \u001b[34migraph\u001b[39m::simplify()\n",
      "\u001b[31m✖\u001b[39m \u001b[34mclusterProfiler\u001b[39m::\u001b[32mslice()\u001b[39m  masks \u001b[34mplotly\u001b[39m::slice(), \u001b[34mdplyr\u001b[39m::slice(), \u001b[34mIRanges\u001b[39m::slice()\n",
      "\u001b[31m✖\u001b[39m \u001b[34mHmisc\u001b[39m::\u001b[32msrc()\u001b[39m              masks \u001b[34mdplyr\u001b[39m::src()\n",
      "\u001b[31m✖\u001b[39m \u001b[34mHmisc\u001b[39m::\u001b[32msummarize()\u001b[39m        masks \u001b[34mdplyr\u001b[39m::summarize()\n",
      "\u001b[31m✖\u001b[39m \u001b[34mpurrr\u001b[39m::\u001b[32mtranspose()\u001b[39m        masks \u001b[34mdata.table\u001b[39m::transpose()\n",
      "\u001b[31m✖\u001b[39m \u001b[34mtidyr\u001b[39m::\u001b[32munpack()\u001b[39m           masks \u001b[34mMatrix\u001b[39m::unpack()\n",
      "corrplot 0.92 loaded\n",
      "\n",
      "\n",
      "Attaching package: ‘networkD3’\n",
      "\n",
      "\n",
      "The following object is masked from ‘package:SeuratObject’:\n",
      "\n",
      "    JS\n",
      "\n",
      "\n",
      "The following object is masked from ‘package:Seurat’:\n",
      "\n",
      "    JS\n",
      "\n",
      "\n",
      "\n",
      "‘network’ 1.17.2 (2022-05-20), part of the Statnet Project\n",
      "* ‘news(package=\"network\")’ for changes since last version\n",
      "* ‘citation(\"network\")’ for citation information\n",
      "* ‘https://statnet.org’ for help, support, and other information\n",
      "\n",
      "\n",
      "\n",
      "Attaching package: ‘network’\n",
      "\n",
      "\n",
      "The following object is masked from ‘package:Hmisc’:\n",
      "\n",
      "    is.discrete\n",
      "\n",
      "\n",
      "The following objects are masked from ‘package:igraph’:\n",
      "\n",
      "    %c%, %s%, add.edges, add.vertices, delete.edges, delete.vertices,\n",
      "    get.edge.attribute, get.edges, get.vertex.attribute, is.bipartite,\n",
      "    is.directed, list.edge.attributes, list.vertex.attributes,\n",
      "    set.edge.attribute, set.vertex.attribute\n",
      "\n",
      "\n",
      "\n",
      "Attaching package: ‘enrichplot’\n",
      "\n",
      "\n",
      "The following object is masked from ‘package:ggpubr’:\n",
      "\n",
      "    color_palette\n",
      "\n",
      "\n",
      "The following object is masked from ‘package:GGally’:\n",
      "\n",
      "    ggtable\n",
      "\n",
      "\n",
      "The following object is masked from ‘package:lattice’:\n",
      "\n",
      "    dotplot\n",
      "\n",
      "\n",
      "DOSE v3.18.3  For help: https://guangchuangyu.github.io/software/DOSE\n",
      "\n",
      "If you use DOSE in published research, please cite:\n",
      "Guangchuang Yu, Li-Gen Wang, Guang-Rong Yan, Qing-Yu He. DOSE: an R/Bioconductor package for Disease Ontology Semantic and Enrichment analysis. Bioinformatics 2015, 31(4):608-609\n",
      "\n",
      "\n",
      "\n",
      "Attaching package: ‘UpSetR’\n",
      "\n",
      "\n",
      "The following object is masked from ‘package:ComplexUpset’:\n",
      "\n",
      "    upset\n",
      "\n",
      "\n",
      "The following object is masked from ‘package:lattice’:\n",
      "\n",
      "    histogram\n",
      "\n",
      "\n",
      "Registered S3 method overwritten by 'gdata':\n",
      "  method         from  \n",
      "  reorder.factor gplots\n",
      "\n",
      "gdata: read.xls support for 'XLS' (Excel 97-2004) files ENABLED.\n",
      "\n",
      "\n",
      "\n",
      "gdata: Unable to load perl libaries needed by read.xls()\n",
      "gdata: to support 'XLSX' (Excel 2007+) files.\n",
      "\n",
      "\n",
      "\n",
      "gdata: Run the function 'installXLSXsupport()'\n",
      "gdata: to automatically download and install the perl\n",
      "gdata: libaries needed to support Excel XLS and XLSX formats.\n",
      "\n",
      "\n",
      "Attaching package: ‘gdata’\n",
      "\n",
      "\n",
      "The following object is masked from ‘package:purrr’:\n",
      "\n",
      "    keep\n",
      "\n",
      "\n",
      "The following objects are masked from ‘package:data.table’:\n",
      "\n",
      "    first, last\n",
      "\n",
      "\n",
      "The following objects are masked from ‘package:dplyr’:\n",
      "\n",
      "    combine, first, last\n",
      "\n",
      "\n",
      "The following object is masked from ‘package:gridExtra’:\n",
      "\n",
      "    combine\n",
      "\n",
      "\n",
      "The following object is masked from ‘package:SummarizedExperiment’:\n",
      "\n",
      "    trim\n",
      "\n",
      "\n",
      "The following object is masked from ‘package:Biobase’:\n",
      "\n",
      "    combine\n",
      "\n",
      "\n",
      "The following object is masked from ‘package:GenomicRanges’:\n",
      "\n",
      "    trim\n",
      "\n",
      "\n",
      "The following objects are masked from ‘package:IRanges’:\n",
      "\n",
      "    startsWith, trim\n",
      "\n",
      "\n",
      "The following objects are masked from ‘package:S4Vectors’:\n",
      "\n",
      "    first, first<-\n",
      "\n",
      "\n",
      "The following object is masked from ‘package:BiocGenerics’:\n",
      "\n",
      "    combine\n",
      "\n",
      "\n",
      "The following object is masked from ‘package:stats4’:\n",
      "\n",
      "    nobs\n",
      "\n",
      "\n",
      "The following object is masked from ‘package:stats’:\n",
      "\n",
      "    nobs\n",
      "\n",
      "\n",
      "The following object is masked from ‘package:utils’:\n",
      "\n",
      "    object.size\n",
      "\n",
      "\n",
      "The following object is masked from ‘package:base’:\n",
      "\n",
      "    startsWith\n",
      "\n",
      "\n",
      "\n",
      "Attaching package: ‘reshape2’\n",
      "\n",
      "\n",
      "The following object is masked from ‘package:tidyr’:\n",
      "\n",
      "    smiths\n",
      "\n",
      "\n",
      "The following objects are masked from ‘package:data.table’:\n",
      "\n",
      "    dcast, melt\n",
      "\n",
      "\n",
      "##############################################################################\n",
      "Pathview is an open source software package distributed under GNU General\n",
      "Public License version 3 (GPLv3). Details of GPLv3 is available at\n",
      "http://www.gnu.org/licenses/gpl-3.0.html. Particullary, users are required to\n",
      "formally cite the original Pathview paper (not just mention it) in publications\n",
      "or products. For details, do citation(\"pathview\") within R.\n",
      "\n",
      "The pathview downloads and uses KEGG data. Non-academic uses may require a KEGG\n",
      "license agreement (details at http://www.kegg.jp/kegg/legal.html).\n",
      "##############################################################################\n",
      "\n",
      "ReactomePA v1.36.0  For help: https://yulab-smu.top/biomedical-knowledge-mining-book/reactomepa.html\n",
      "\n",
      "If you use ReactomePA in published research, please cite:\n",
      "Guangchuang Yu, Qing-Yu He. ReactomePA: an R/Bioconductor package for reactome pathway analysis and visualization. Molecular BioSystems 2016, 12(2):477-479\n",
      "\n",
      "\n",
      "Attaching package: ‘ReactomePA’\n",
      "\n",
      "\n",
      "The following object is masked from ‘package:lattice’:\n",
      "\n",
      "    dotplot\n",
      "\n",
      "\n",
      "Loading required package: mgcv\n",
      "\n",
      "Loading required package: nlme\n",
      "\n",
      "\n",
      "Attaching package: ‘nlme’\n",
      "\n",
      "\n",
      "The following object is masked from ‘package:dplyr’:\n",
      "\n",
      "    collapse\n",
      "\n",
      "\n",
      "The following object is masked from ‘package:IRanges’:\n",
      "\n",
      "    collapse\n",
      "\n",
      "\n",
      "This is mgcv 1.8-41. For overview type 'help(\"mgcv-package\")'.\n",
      "\n",
      "Loading required package: genefilter\n",
      "\n",
      "\n",
      "Attaching package: ‘genefilter’\n",
      "\n",
      "\n",
      "The following object is masked from ‘package:readr’:\n",
      "\n",
      "    spec\n",
      "\n",
      "\n",
      "The following object is masked from ‘package:rstatix’:\n",
      "\n",
      "    Anova\n",
      "\n",
      "\n",
      "The following objects are masked from ‘package:MatrixGenerics’:\n",
      "\n",
      "    rowSds, rowVars\n",
      "\n",
      "\n",
      "The following objects are masked from ‘package:matrixStats’:\n",
      "\n",
      "    rowSds, rowVars\n",
      "\n",
      "\n",
      "Loading required package: BiocParallel\n",
      "\n",
      "\n",
      "Attaching package: ‘patchwork’\n",
      "\n",
      "\n",
      "The following object is masked from ‘package:genefilter’:\n",
      "\n",
      "    area\n",
      "\n",
      "\n",
      "The following object is masked from ‘package:cowplot’:\n",
      "\n",
      "    align_plots\n",
      "\n",
      "\n",
      "\n",
      "Attaching package: ‘caret’\n",
      "\n",
      "\n",
      "The following object is masked from ‘package:purrr’:\n",
      "\n",
      "    lift\n",
      "\n",
      "\n",
      "The following object is masked from ‘package:survival’:\n",
      "\n",
      "    cluster\n",
      "\n",
      "\n",
      "Type 'citation(\"pROC\")' for a citation.\n",
      "\n",
      "\n",
      "Attaching package: ‘pROC’\n",
      "\n",
      "\n",
      "The following object is masked from ‘package:colorspace’:\n",
      "\n",
      "    coords\n",
      "\n",
      "\n",
      "The following objects are masked from ‘package:IRanges’:\n",
      "\n",
      "    cov, var\n",
      "\n",
      "\n",
      "The following objects are masked from ‘package:S4Vectors’:\n",
      "\n",
      "    cov, var\n",
      "\n",
      "\n",
      "The following object is masked from ‘package:BiocGenerics’:\n",
      "\n",
      "    var\n",
      "\n",
      "\n",
      "The following objects are masked from ‘package:stats’:\n",
      "\n",
      "    cov, smooth, var\n",
      "\n",
      "\n",
      "Loaded glmnet 4.1-4\n",
      "\n",
      "\n",
      "Attaching package: ‘nnet’\n",
      "\n",
      "\n",
      "The following object is masked from ‘package:mgcv’:\n",
      "\n",
      "    multinom\n",
      "\n",
      "\n",
      "\n",
      "Attaching package: ‘dfidx’\n",
      "\n",
      "\n",
      "The following object is masked from ‘package:AnnotationDbi’:\n",
      "\n",
      "    select\n",
      "\n",
      "\n",
      "The following object is masked from ‘package:IRanges’:\n",
      "\n",
      "    slice\n",
      "\n",
      "\n",
      "The following object is masked from ‘package:stats’:\n",
      "\n",
      "    filter\n",
      "\n",
      "\n",
      "\n",
      "Attaching package: ‘modelr’\n",
      "\n",
      "\n",
      "The following object is masked from ‘package:gdata’:\n",
      "\n",
      "    resample\n",
      "\n",
      "\n",
      "The following object is masked from ‘package:igraph’:\n",
      "\n",
      "    permute\n",
      "\n",
      "\n",
      "\n",
      "Attaching package: ‘cvAUC’\n",
      "\n",
      "\n",
      "The following object is masked from ‘package:genefilter’:\n",
      "\n",
      "    AUC\n",
      "\n",
      "\n",
      "Loading required package: sp\n",
      "\n",
      "\n",
      "Attaching package: ‘sp’\n",
      "\n",
      "\n",
      "The following object is masked from ‘package:ggraph’:\n",
      "\n",
      "    geometry\n",
      "\n",
      "\n",
      "The following object is masked from ‘package:IRanges’:\n",
      "\n",
      "    %over%\n",
      "\n",
      "\n",
      "Loading required package: maps\n",
      "\n",
      "\n",
      "Attaching package: ‘maps’\n",
      "\n",
      "\n",
      "The following object is masked from ‘package:purrr’:\n",
      "\n",
      "    map\n",
      "\n",
      "\n",
      "Loading required package: shapefiles\n",
      "\n",
      "Loading required package: foreign\n",
      "\n",
      "\n",
      "Attaching package: ‘shapefiles’\n",
      "\n",
      "\n",
      "The following objects are masked from ‘package:foreign’:\n",
      "\n",
      "    read.dbf, write.dbf\n",
      "\n",
      "\n",
      "\n",
      "Attaching package: ‘fossil’\n",
      "\n",
      "\n",
      "The following object is masked from ‘package:modelr’:\n",
      "\n",
      "    bootstrap\n",
      "\n",
      "\n",
      "\n",
      "Attaching package: ‘plotROC’\n",
      "\n",
      "\n",
      "The following object is masked from ‘package:pROC’:\n",
      "\n",
      "    ggroc\n",
      "\n",
      "\n",
      "Welcome! Want to learn more? See two factoextra-related books at https://goo.gl/ve3WBa\n",
      "\n",
      "Loading required package: grid\n",
      "\n",
      "========================================\n",
      "ComplexHeatmap version 2.8.0\n",
      "Bioconductor page: http://bioconductor.org/packages/ComplexHeatmap/\n",
      "Github page: https://github.com/jokergoo/ComplexHeatmap\n",
      "Documentation: http://jokergoo.github.io/ComplexHeatmap-reference\n",
      "\n",
      "If you use it in published research, please cite:\n",
      "Gu, Z. Complex heatmaps reveal patterns and correlations in multidimensional \n",
      "  genomic data. Bioinformatics 2016.\n",
      "\n",
      "The new InteractiveComplexHeatmap package can directly export static \n",
      "complex heatmaps into an interactive Shiny app with zero effort. Have a try!\n",
      "\n",
      "This message can be suppressed by:\n",
      "  suppressPackageStartupMessages(library(ComplexHeatmap))\n",
      "========================================\n",
      "\n",
      "\n",
      "\n",
      "Attaching package: ‘ComplexHeatmap’\n",
      "\n",
      "\n",
      "The following object is masked from ‘package:genefilter’:\n",
      "\n",
      "    dist2\n",
      "\n",
      "\n",
      "The following object is masked from ‘package:network’:\n",
      "\n",
      "    %v%\n",
      "\n",
      "\n",
      "The following object is masked from ‘package:plotly’:\n",
      "\n",
      "    add_heatmap\n",
      "\n",
      "\n",
      "Welcome to compositions, a package for compositional data analysis.\n",
      "Find an intro with \"? compositions\"\n",
      "\n",
      "\n",
      "\n",
      "Attaching package: ‘compositions’\n",
      "\n",
      "\n",
      "The following object is masked from ‘package:glmnet’:\n",
      "\n",
      "    rmult\n",
      "\n",
      "\n",
      "The following objects are masked from ‘package:pROC’:\n",
      "\n",
      "    cov, var\n",
      "\n",
      "\n",
      "The following object is masked from ‘package:caret’:\n",
      "\n",
      "    R2\n",
      "\n",
      "\n",
      "The following object is masked from ‘package:DelayedArray’:\n",
      "\n",
      "    scale\n",
      "\n",
      "\n",
      "The following object is masked from ‘package:Matrix’:\n",
      "\n",
      "    norm\n",
      "\n",
      "\n",
      "The following object is masked from ‘package:scater’:\n",
      "\n",
      "    normalize\n",
      "\n",
      "\n",
      "The following objects are masked from ‘package:IRanges’:\n",
      "\n",
      "    cor, cov, var\n",
      "\n",
      "\n",
      "The following objects are masked from ‘package:S4Vectors’:\n",
      "\n",
      "    cor, cov, var\n",
      "\n",
      "\n",
      "The following objects are masked from ‘package:BiocGenerics’:\n",
      "\n",
      "    normalize, var\n",
      "\n",
      "\n",
      "The following object is masked from ‘package:igraph’:\n",
      "\n",
      "    normalize\n",
      "\n",
      "\n",
      "The following objects are masked from ‘package:stats’:\n",
      "\n",
      "    anova, cor, cov, dist, var\n",
      "\n",
      "\n",
      "The following objects are masked from ‘package:base’:\n",
      "\n",
      "    %*%, norm, scale, scale.default\n",
      "\n",
      "\n",
      "========================================\n",
      "circlize version 0.4.15\n",
      "CRAN page: https://cran.r-project.org/package=circlize\n",
      "Github page: https://github.com/jokergoo/circlize\n",
      "Documentation: https://jokergoo.github.io/circlize_book/book/\n",
      "\n",
      "If you use it in published research, please cite:\n",
      "Gu, Z. circlize implements and enhances circular visualization\n",
      "  in R. Bioinformatics 2014.\n",
      "\n",
      "This message can be suppressed by:\n",
      "  suppressPackageStartupMessages(library(circlize))\n",
      "========================================\n",
      "\n",
      "\n",
      "\n",
      "Attaching package: ‘circlize’\n",
      "\n",
      "\n",
      "The following object is masked from ‘package:igraph’:\n",
      "\n",
      "    degree\n",
      "\n",
      "\n"
     ]
    }
   ],
   "source": [
    "source('MS0_Libraries.r')"
   ]
  },
  {
   "cell_type": "markdown",
   "id": "e87a5cf7-d4d8-446f-8200-6049579007e3",
   "metadata": {
    "tags": []
   },
   "source": [
    "###############################################\n",
    "# Preqrequisites Configurations & Parameters"
   ]
  },
  {
   "cell_type": "code",
   "execution_count": 3,
   "id": "2620b42a-3d74-4f1b-a627-634f8fc8b9a7",
   "metadata": {},
   "outputs": [],
   "source": [
    "data_path = '../data/current'"
   ]
  },
  {
   "cell_type": "code",
   "execution_count": 4,
   "id": "4e1f7860-7cc7-44f5-aec7-388aa7cb8817",
   "metadata": {},
   "outputs": [],
   "source": [
    "result_path = '../results/current'"
   ]
  },
  {
   "cell_type": "code",
   "execution_count": 5,
   "id": "8a13ef57-ac7f-45af-9c4c-07f947d879c3",
   "metadata": {},
   "outputs": [
    {
     "data": {
      "text/html": [
       "'../data/current'"
      ],
      "text/latex": [
       "'../data/current'"
      ],
      "text/markdown": [
       "'../data/current'"
      ],
      "text/plain": [
       "[1] \"../data/current\""
      ]
     },
     "metadata": {},
     "output_type": "display_data"
    }
   ],
   "source": [
    "data_path"
   ]
  },
  {
   "cell_type": "code",
   "execution_count": 6,
   "id": "4cb831d1-d8b4-4531-a6ba-dcedbd45e9bd",
   "metadata": {},
   "outputs": [],
   "source": [
    "### Should quantile normalization be applied?"
   ]
  },
  {
   "cell_type": "code",
   "execution_count": 7,
   "id": "b94483f9-ad07-4c7b-9e07-db67fa1ccc5f",
   "metadata": {},
   "outputs": [],
   "source": [
    "quantile_normalization_cyto = FALSE"
   ]
  },
  {
   "cell_type": "code",
   "execution_count": 8,
   "id": "306fa4cf-f569-4fbf-91da-1d4f6b1c9871",
   "metadata": {
    "tags": []
   },
   "outputs": [],
   "source": [
    "quantile_normalization_proteomics = FALSE"
   ]
  },
  {
   "cell_type": "code",
   "execution_count": 9,
   "id": "fa4999c5-e1f5-484f-a448-b9c770b76271",
   "metadata": {},
   "outputs": [],
   "source": [
    "library_adjustment_neutrophils = TRUE"
   ]
  },
  {
   "cell_type": "code",
   "execution_count": 10,
   "id": "0b53de29-354e-4b14-8c52-83c21ef9a885",
   "metadata": {},
   "outputs": [],
   "source": [
    "regress_neutrophils = FALSE"
   ]
  },
  {
   "cell_type": "code",
   "execution_count": 11,
   "id": "f54f691b-740f-4b29-87d5-9b82f1e007cb",
   "metadata": {},
   "outputs": [],
   "source": [
    "neutrophil_threshold = 0.2 # decide how many 0 are allowed on genes measured(percentage zeros)"
   ]
  },
  {
   "cell_type": "code",
   "execution_count": 12,
   "id": "becdc8ed-333f-4114-98c9-d734265db542",
   "metadata": {},
   "outputs": [],
   "source": [
    "quantile_normalization_neutrophils = TRUE"
   ]
  },
  {
   "cell_type": "code",
   "execution_count": 13,
   "id": "dd2705ef-d082-407e-9db9-8e509bb8b2fd",
   "metadata": {},
   "outputs": [],
   "source": [
    "quantile_normalization_single_cell = TRUE"
   ]
  },
  {
   "cell_type": "code",
   "execution_count": 14,
   "id": "0ff68a06-c9ee-4125-9c17-d244bc430d25",
   "metadata": {},
   "outputs": [],
   "source": [
    "align_genes = FALSE  # decide whether to take only genes of single-cell data"
   ]
  },
  {
   "cell_type": "code",
   "execution_count": 15,
   "id": "42b4ac50-b34d-4a76-b100-e2105d96a586",
   "metadata": {},
   "outputs": [],
   "source": [
    "add_duplicates = FALSE"
   ]
  },
  {
   "cell_type": "code",
   "execution_count": 16,
   "id": "5e97bb4d-0287-4907-a8b4-65b5b7836558",
   "metadata": {},
   "outputs": [],
   "source": [
    "# Name on which to Save the Data\n",
    "name = 'V_AZIMUTH'"
   ]
  },
  {
   "cell_type": "code",
   "execution_count": null,
   "id": "82701c50-1802-40d0-8f29-87425756e9cf",
   "metadata": {},
   "outputs": [],
   "source": []
  },
  {
   "cell_type": "markdown",
   "id": "0c7d81ae-2c72-4fcb-b4fa-dc113b1acd9c",
   "metadata": {
    "tags": []
   },
   "source": [
    "# Functions"
   ]
  },
  {
   "cell_type": "code",
   "execution_count": 17,
   "id": "52736da0-d234-4fed-9008-7c1af72d5595",
   "metadata": {},
   "outputs": [],
   "source": [
    "### Function for quantile normalization\n",
    "\n",
    "quantile_normalization = function(X){\n",
    "  ranks = apply(X, 2, rank, ties.method = 'min')  # determine ranks of each entry\n",
    "  \n",
    "  sorted = data.frame(apply(X, 2, sort)) # sort the entries\n",
    "  means = apply(sorted, 1, mean) # calculate the means\n",
    "  \n",
    "  normalized_data = apply(ranks, 2 ,function(x){ means[x]}) # substitute the means into ranks matrix\n",
    "}\n"
   ]
  },
  {
   "cell_type": "code",
   "execution_count": 18,
   "id": "a98734a0-b38d-4b2b-a1dd-e59cb3afab0a",
   "metadata": {},
   "outputs": [],
   "source": [
    "### Gene wise quantile normalization\n",
    "\n",
    "\n",
    "stdnorm <- function(x) {\n",
    "  r = rank(x, ties.method=\"random\")\n",
    "  qnorm(r / (length(x) + 1))\n",
    "}"
   ]
  },
  {
   "cell_type": "markdown",
   "id": "912a0f3f-c5dd-4d9f-b211-e475afc56e42",
   "metadata": {
    "tags": []
   },
   "source": [
    "# Load Data "
   ]
  },
  {
   "cell_type": "markdown",
   "id": "6c8add5d-55f2-4a3e-a2af-bc94cf78d7ce",
   "metadata": {
    "tags": []
   },
   "source": [
    "## Sample Meta Data"
   ]
  },
  {
   "cell_type": "markdown",
   "id": "fe8f0476-2305-4eba-9c6d-5ee33434c9e4",
   "metadata": {},
   "source": [
    "### Load"
   ]
  },
  {
   "cell_type": "code",
   "execution_count": 19,
   "id": "5bb5fa63-5b25-49b9-8279-9b4017e84d4c",
   "metadata": {},
   "outputs": [
    {
     "name": "stdout",
     "output_type": "stream",
     "text": [
      "[1] \"2023-01-30 10:34:54 CET\"\n"
     ]
    }
   ],
   "source": [
    "path = paste0(result_path, '/00_Data_Overview/Available_Data_per_Sample_Overview.csv')\n",
    "all_samples_info = read.csv(path)\n",
    "print(file.info(path)$mtime)"
   ]
  },
  {
   "cell_type": "code",
   "execution_count": 20,
   "id": "4d494105-ce5b-4266-8bf5-d41504ff0310",
   "metadata": {},
   "outputs": [
    {
     "name": "stdout",
     "output_type": "stream",
     "text": [
      "[1] \"2023-01-30 10:34:54 CET\"\n"
     ]
    }
   ],
   "source": [
    "path = paste0(result_path, '/00_Data_Overview/Merged_Sample_Meta_Data.csv')\n",
    "sample_data = read.csv(path)\n",
    "print(file.info(path)$mtime)"
   ]
  },
  {
   "cell_type": "code",
   "execution_count": 23,
   "id": "07c6a601-fee0-4396-81c2-caf5ab358e0b",
   "metadata": {},
   "outputs": [],
   "source": [
    "#patients_filter = unique(sample_data$sample_id[is.na(str_extract(sample_data$sample_id, 'k'))])  # use only acs samples\n",
    "patients_filter = unique(sample_data$sample_id) #  use all samples"
   ]
  },
  {
   "cell_type": "markdown",
   "id": "a2476cc2-0232-491a-b976-dca6bcbe503f",
   "metadata": {
    "tags": []
   },
   "source": [
    "### Process Clinical Data"
   ]
  },
  {
   "cell_type": "code",
   "execution_count": 26,
   "id": "91e81627-91fd-4962-8868-00b62d6d4ca1",
   "metadata": {},
   "outputs": [],
   "source": [
    "### Select relevant columsn"
   ]
  },
  {
   "cell_type": "code",
   "execution_count": 27,
   "id": "ba5f0aa2-46c1-4eb3-9708-9651529bffd6",
   "metadata": {},
   "outputs": [],
   "source": [
    "clinical_data = sample_data[,c('sample_id', 'measurement', 'CK', 'CK_MB', 'Troponin','CRP', 'delta_ef_value', 'sample')]"
   ]
  },
  {
   "cell_type": "code",
   "execution_count": 28,
   "id": "d62413fd-926a-467b-b44a-6eff692354bd",
   "metadata": {},
   "outputs": [],
   "source": [
    "clinical_data = clinical_data[clinical_data$sample_id %in% patients_filter,]"
   ]
  },
  {
   "cell_type": "code",
   "execution_count": 29,
   "id": "de608fb3-6d28-403d-9ad3-cd8e35da5dea",
   "metadata": {},
   "outputs": [],
   "source": [
    "### Data transformations"
   ]
  },
  {
   "cell_type": "code",
   "execution_count": 30,
   "id": "7329685b-72ea-4dda-99aa-2853594cc2c4",
   "metadata": {},
   "outputs": [
    {
     "name": "stderr",
     "output_type": "stream",
     "text": [
      "Warning message in eval(expr, envir, enclos):\n",
      "“NAs introduced by coercion”\n"
     ]
    }
   ],
   "source": [
    "clinical_data$CK_MB = as.numeric(clinical_data$CK_MB)"
   ]
  },
  {
   "cell_type": "code",
   "execution_count": 31,
   "id": "038a5d9a-68a5-49b9-b215-994515f368a7",
   "metadata": {},
   "outputs": [
    {
     "name": "stderr",
     "output_type": "stream",
     "text": [
      "Warning message in eval(expr, envir, enclos):\n",
      "“NAs introduced by coercion”\n"
     ]
    }
   ],
   "source": [
    "clinical_data$CRP = as.numeric(clinical_data$CRP)"
   ]
  },
  {
   "cell_type": "code",
   "execution_count": 33,
   "id": "ea384678-ce0f-402a-bb47-cda6be5668a0",
   "metadata": {},
   "outputs": [],
   "source": [
    "clinical_data[,3:6] = log2(clinical_data[,3:6]+1)   # logarithmize"
   ]
  },
  {
   "cell_type": "code",
   "execution_count": 35,
   "id": "1136dd18-d24f-40fb-a8cc-d9a062561ecb",
   "metadata": {},
   "outputs": [],
   "source": [
    "### Column Generation"
   ]
  },
  {
   "cell_type": "code",
   "execution_count": null,
   "id": "2f80b45e-7950-4e9c-8158-cae52d174b0b",
   "metadata": {},
   "outputs": [],
   "source": []
  },
  {
   "cell_type": "code",
   "execution_count": 55,
   "id": "d607d0b4-dba0-451e-b45c-b86649262281",
   "metadata": {},
   "outputs": [],
   "source": [
    "clinical_data$measurement = NULL"
   ]
  },
  {
   "cell_type": "code",
   "execution_count": 56,
   "id": "2525b815-fb59-46c2-be01-afa0c70f78c9",
   "metadata": {},
   "outputs": [],
   "source": [
    "clinical_data$sample = NULL"
   ]
  },
  {
   "cell_type": "code",
   "execution_count": 57,
   "id": "b43f4b68-c6cd-4796-82c9-77d2b893027c",
   "metadata": {},
   "outputs": [],
   "source": [
    "clinical_data$timepoint = NULL"
   ]
  },
  {
   "cell_type": "code",
   "execution_count": 58,
   "id": "ee9f367a-d19b-4860-8e57-681a60000d30",
   "metadata": {},
   "outputs": [],
   "source": [
    "clinical_data = clinical_data %>% group_by(sample_id) %>% summarise(CK = mean(CK), CK_MB = mean(CK_MB), Troponin = mean(Troponin), delta_ef_value = mean(delta_ef_value), CRP =mean(CRP) )"
   ]
  },
  {
   "cell_type": "code",
   "execution_count": 59,
   "id": "4bea4af0-26d7-4077-bacc-7b9f3b29673a",
   "metadata": {},
   "outputs": [],
   "source": [
    "clinical_data = data.frame(clinical_data)"
   ]
  },
  {
   "cell_type": "code",
   "execution_count": 72,
   "id": "17f49e9f-03d1-4083-9b8e-c248f2299775",
   "metadata": {},
   "outputs": [],
   "source": [
    "### Long format to integrate in clustering"
   ]
  },
  {
   "cell_type": "code",
   "execution_count": 74,
   "id": "a778c296-ba34-4d21-ae46-a67307a004d3",
   "metadata": {},
   "outputs": [
    {
     "name": "stderr",
     "output_type": "stream",
     "text": [
      "Using sample_id as id variables\n",
      "\n"
     ]
    }
   ],
   "source": [
    "clinical_data_long = melt(clinical_data)"
   ]
  },
  {
   "cell_type": "code",
   "execution_count": 76,
   "id": "593563c5-27b3-46e8-ac38-51f923430c7c",
   "metadata": {},
   "outputs": [],
   "source": [
    "clinical_data_long$type = 'clinical_data'"
   ]
  },
  {
   "cell_type": "code",
   "execution_count": 77,
   "id": "29ce71fc-156d-44c2-9804-434d95daf04c",
   "metadata": {},
   "outputs": [],
   "source": [
    "clinical_data_dupl = clinical_data_long[clinical_data_long$sample_id %in% c('m13.2', 'm6.4'),]"
   ]
  },
  {
   "cell_type": "code",
   "execution_count": 78,
   "id": "4082bb2f-ab0e-4e7d-b72f-4d9e293ff050",
   "metadata": {},
   "outputs": [],
   "source": [
    "clinical_data_dupl$sample_id[clinical_data_dupl$sample_id == 'm13.2'] = 'm13.22'"
   ]
  },
  {
   "cell_type": "code",
   "execution_count": 79,
   "id": "9c8f8ff2-a69e-40fc-833f-028022a8eb9a",
   "metadata": {},
   "outputs": [],
   "source": [
    "clinical_data_dupl$sample_id[clinical_data_dupl$sample_id == 'm6.4'] = 'm6.42'"
   ]
  },
  {
   "cell_type": "code",
   "execution_count": 80,
   "id": "c94115ff-8ebd-43c0-b6f3-02d5584783aa",
   "metadata": {},
   "outputs": [
    {
     "data": {
      "text/html": [
       "<table class=\"dataframe\">\n",
       "<caption>A data.frame: 2 × 4</caption>\n",
       "<thead>\n",
       "\t<tr><th></th><th scope=col>sample_id</th><th scope=col>variable</th><th scope=col>value</th><th scope=col>type</th></tr>\n",
       "\t<tr><th></th><th scope=col>&lt;chr&gt;</th><th scope=col>&lt;fct&gt;</th><th scope=col>&lt;dbl&gt;</th><th scope=col>&lt;chr&gt;</th></tr>\n",
       "</thead>\n",
       "<tbody>\n",
       "\t<tr><th scope=row>52</th><td>m13.22</td><td>CK</td><td>11.608255</td><td>clinical_data</td></tr>\n",
       "\t<tr><th scope=row>134</th><td>m6.42 </td><td>CK</td><td> 5.906891</td><td>clinical_data</td></tr>\n",
       "</tbody>\n",
       "</table>\n"
      ],
      "text/latex": [
       "A data.frame: 2 × 4\n",
       "\\begin{tabular}{r|llll}\n",
       "  & sample\\_id & variable & value & type\\\\\n",
       "  & <chr> & <fct> & <dbl> & <chr>\\\\\n",
       "\\hline\n",
       "\t52 & m13.22 & CK & 11.608255 & clinical\\_data\\\\\n",
       "\t134 & m6.42  & CK &  5.906891 & clinical\\_data\\\\\n",
       "\\end{tabular}\n"
      ],
      "text/markdown": [
       "\n",
       "A data.frame: 2 × 4\n",
       "\n",
       "| <!--/--> | sample_id &lt;chr&gt; | variable &lt;fct&gt; | value &lt;dbl&gt; | type &lt;chr&gt; |\n",
       "|---|---|---|---|---|\n",
       "| 52 | m13.22 | CK | 11.608255 | clinical_data |\n",
       "| 134 | m6.42  | CK |  5.906891 | clinical_data |\n",
       "\n"
      ],
      "text/plain": [
       "    sample_id variable value     type         \n",
       "52  m13.22    CK       11.608255 clinical_data\n",
       "134 m6.42     CK        5.906891 clinical_data"
      ]
     },
     "metadata": {},
     "output_type": "display_data"
    }
   ],
   "source": [
    "head(clinical_data_dupl,2)"
   ]
  },
  {
   "cell_type": "code",
   "execution_count": 81,
   "id": "250a0940-056c-462b-a4f6-2ba23931efbd",
   "metadata": {},
   "outputs": [],
   "source": [
    "if(add_duplicates == TRUE){\n",
    "    clinical_data_long = rbind(clinical_data_long, clinical_data_dupl)\n",
    "    }"
   ]
  },
  {
   "cell_type": "code",
   "execution_count": 82,
   "id": "a2aab4a1-87c8-4e8e-8a4d-039712b74442",
   "metadata": {},
   "outputs": [
    {
     "data": {
      "text/html": [
       "<style>\n",
       ".list-inline {list-style: none; margin:0; padding: 0}\n",
       ".list-inline>li {display: inline-block}\n",
       ".list-inline>li:not(:last-child)::after {content: \"\\00b7\"; padding: 0 .5ex}\n",
       "</style>\n",
       "<ol class=list-inline><li>CK</li><li>CK_MB</li><li>Troponin</li><li>delta_ef_value</li><li>CRP</li></ol>\n",
       "\n",
       "<details>\n",
       "\t<summary style=display:list-item;cursor:pointer>\n",
       "\t\t<strong>Levels</strong>:\n",
       "\t</summary>\n",
       "\t<style>\n",
       "\t.list-inline {list-style: none; margin:0; padding: 0}\n",
       "\t.list-inline>li {display: inline-block}\n",
       "\t.list-inline>li:not(:last-child)::after {content: \"\\00b7\"; padding: 0 .5ex}\n",
       "\t</style>\n",
       "\t<ol class=list-inline><li>'CK'</li><li>'CK_MB'</li><li>'Troponin'</li><li>'delta_ef_value'</li><li>'CRP'</li></ol>\n",
       "</details>"
      ],
      "text/latex": [
       "\\begin{enumerate*}\n",
       "\\item CK\n",
       "\\item CK\\_MB\n",
       "\\item Troponin\n",
       "\\item delta\\_ef\\_value\n",
       "\\item CRP\n",
       "\\end{enumerate*}\n",
       "\n",
       "\\emph{Levels}: \\begin{enumerate*}\n",
       "\\item 'CK'\n",
       "\\item 'CK\\_MB'\n",
       "\\item 'Troponin'\n",
       "\\item 'delta\\_ef\\_value'\n",
       "\\item 'CRP'\n",
       "\\end{enumerate*}\n"
      ],
      "text/markdown": [
       "1. CK\n",
       "2. CK_MB\n",
       "3. Troponin\n",
       "4. delta_ef_value\n",
       "5. CRP\n",
       "\n",
       "\n",
       "\n",
       "**Levels**: 1. 'CK'\n",
       "2. 'CK_MB'\n",
       "3. 'Troponin'\n",
       "4. 'delta_ef_value'\n",
       "5. 'CRP'\n",
       "\n",
       "\n"
      ],
      "text/plain": [
       "[1] CK             CK_MB          Troponin       delta_ef_value CRP           \n",
       "Levels: CK CK_MB Troponin delta_ef_value CRP"
      ]
     },
     "metadata": {},
     "output_type": "display_data"
    }
   ],
   "source": [
    "unique(clinical_data_long$variable)"
   ]
  },
  {
   "cell_type": "code",
   "execution_count": 83,
   "id": "979ed87a-8b8f-4147-ad3b-a932d3e19ba3",
   "metadata": {},
   "outputs": [
    {
     "data": {
      "text/html": [
       "0"
      ],
      "text/latex": [
       "0"
      ],
      "text/markdown": [
       "0"
      ],
      "text/plain": [
       "[1] 0"
      ]
     },
     "metadata": {},
     "output_type": "display_data"
    }
   ],
   "source": [
    "sum(clinical_data_long$sample_id == 'm.20.1')"
   ]
  },
  {
   "cell_type": "markdown",
   "id": "fc9c4368-f0c0-451a-b432-1f908e43ce6c",
   "metadata": {
    "tags": []
   },
   "source": [
    "## Cytokine Data"
   ]
  },
  {
   "cell_type": "markdown",
   "id": "ebc3090c-9d27-4a9d-982a-054545e84b81",
   "metadata": {},
   "source": [
    "### Load"
   ]
  },
  {
   "cell_type": "code",
   "execution_count": 84,
   "id": "400591db-2f6a-46d5-8af8-4bee42352e37",
   "metadata": {},
   "outputs": [],
   "source": [
    "### Load processed cytokine data"
   ]
  },
  {
   "cell_type": "code",
   "execution_count": 85,
   "id": "97b519e1-c303-4471-8600-ec766419127e",
   "metadata": {},
   "outputs": [
    {
     "name": "stdout",
     "output_type": "stream",
     "text": [
      "[1] \"2023-01-30 10:34:54 CET\"\n"
     ]
    }
   ],
   "source": [
    "path = paste0(result_path, '/00_Data_Overview/Prepared_Cytokine_Data.csv')\n",
    "cytokines = read.csv( path)\n",
    "print(file.info(path)$mtime)"
   ]
  },
  {
   "cell_type": "code",
   "execution_count": 86,
   "id": "4c85bc86-2f05-4996-85a1-5d9c5ff7d765",
   "metadata": {},
   "outputs": [],
   "source": [
    "### Load cytokine gene mapping"
   ]
  },
  {
   "cell_type": "code",
   "execution_count": 87,
   "id": "ac6f3b66-22d7-4c35-967a-f1e2ae716fef",
   "metadata": {},
   "outputs": [
    {
     "name": "stdout",
     "output_type": "stream",
     "text": [
      "[1] \"2022-07-13 11:17:31 CEST\"\n"
     ]
    }
   ],
   "source": [
    "path = paste0(data_path, '/preprocessed-data/meta-data/Cytokine_Gene_Mapping.csv')\n",
    "cytokine_gene_mapping = read.csv( path)\n",
    "print(file.info(path)$mtime)"
   ]
  },
  {
   "cell_type": "code",
   "execution_count": 88,
   "id": "0bec3185-1237-47c7-b0b6-7e6a2c0b9944",
   "metadata": {},
   "outputs": [
    {
     "data": {
      "text/html": [
       "<table class=\"dataframe\">\n",
       "<caption>A data.frame: 2 × 75</caption>\n",
       "<thead>\n",
       "\t<tr><th></th><th scope=col>X</th><th scope=col>sample_id</th><th scope=col>sCD40L</th><th scope=col>EGF</th><th scope=col>Eotaxin</th><th scope=col>FGF2</th><th scope=col>FLT3L</th><th scope=col>Fractalkine</th><th scope=col>GCSF</th><th scope=col>GMCSF</th><th scope=col>⋯</th><th scope=col>MCP4</th><th scope=col>MIP1.</th><th scope=col>SCF</th><th scope=col>SDF1alpha.beta</th><th scope=col>TARC</th><th scope=col>TPO</th><th scope=col>TRAIL</th><th scope=col>TSLP</th><th scope=col>id</th><th scope=col>cytokine_data</th></tr>\n",
       "\t<tr><th></th><th scope=col>&lt;int&gt;</th><th scope=col>&lt;chr&gt;</th><th scope=col>&lt;dbl&gt;</th><th scope=col>&lt;chr&gt;</th><th scope=col>&lt;dbl&gt;</th><th scope=col>&lt;chr&gt;</th><th scope=col>&lt;dbl&gt;</th><th scope=col>&lt;chr&gt;</th><th scope=col>&lt;chr&gt;</th><th scope=col>&lt;chr&gt;</th><th scope=col>⋯</th><th scope=col>&lt;dbl&gt;</th><th scope=col>&lt;dbl&gt;</th><th scope=col>&lt;chr&gt;</th><th scope=col>&lt;dbl&gt;</th><th scope=col>&lt;dbl&gt;</th><th scope=col>&lt;chr&gt;</th><th scope=col>&lt;dbl&gt;</th><th scope=col>&lt;chr&gt;</th><th scope=col>&lt;chr&gt;</th><th scope=col>&lt;int&gt;</th></tr>\n",
       "</thead>\n",
       "<tbody>\n",
       "\t<tr><th scope=row>1</th><td>1</td><td>M1.1 </td><td>1033.94</td><td>4.49 </td><td>48.09</td><td>52.77</td><td>14.40</td><td>57.66 </td><td>8.70 </td><td>OOR &lt;</td><td>⋯</td><td>91.13</td><td>2665.03</td><td>5.24 </td><td> 4033.41</td><td>59.34</td><td>354.84</td><td>44.25</td><td>4.65 </td><td>m1.1 </td><td>1</td></tr>\n",
       "\t<tr><th scope=row>2</th><td>2</td><td>M11.1</td><td> 232.19</td><td>16.74</td><td>32.19</td><td>54.38</td><td>52.98</td><td>107.78</td><td>OOR &lt;</td><td>OOR &lt;</td><td>⋯</td><td>73.06</td><td>5105.80</td><td>74.24</td><td>10498.23</td><td>10.47</td><td>OOR &lt; </td><td>84.87</td><td>OOR &lt;</td><td>m11.1</td><td>1</td></tr>\n",
       "</tbody>\n",
       "</table>\n"
      ],
      "text/latex": [
       "A data.frame: 2 × 75\n",
       "\\begin{tabular}{r|lllllllllllllllllllll}\n",
       "  & X & sample\\_id & sCD40L & EGF & Eotaxin & FGF2 & FLT3L & Fractalkine & GCSF & GMCSF & ⋯ & MCP4 & MIP1. & SCF & SDF1alpha.beta & TARC & TPO & TRAIL & TSLP & id & cytokine\\_data\\\\\n",
       "  & <int> & <chr> & <dbl> & <chr> & <dbl> & <chr> & <dbl> & <chr> & <chr> & <chr> & ⋯ & <dbl> & <dbl> & <chr> & <dbl> & <dbl> & <chr> & <dbl> & <chr> & <chr> & <int>\\\\\n",
       "\\hline\n",
       "\t1 & 1 & M1.1  & 1033.94 & 4.49  & 48.09 & 52.77 & 14.40 & 57.66  & 8.70  & OOR < & ⋯ & 91.13 & 2665.03 & 5.24  &  4033.41 & 59.34 & 354.84 & 44.25 & 4.65  & m1.1  & 1\\\\\n",
       "\t2 & 2 & M11.1 &  232.19 & 16.74 & 32.19 & 54.38 & 52.98 & 107.78 & OOR < & OOR < & ⋯ & 73.06 & 5105.80 & 74.24 & 10498.23 & 10.47 & OOR <  & 84.87 & OOR < & m11.1 & 1\\\\\n",
       "\\end{tabular}\n"
      ],
      "text/markdown": [
       "\n",
       "A data.frame: 2 × 75\n",
       "\n",
       "| <!--/--> | X &lt;int&gt; | sample_id &lt;chr&gt; | sCD40L &lt;dbl&gt; | EGF &lt;chr&gt; | Eotaxin &lt;dbl&gt; | FGF2 &lt;chr&gt; | FLT3L &lt;dbl&gt; | Fractalkine &lt;chr&gt; | GCSF &lt;chr&gt; | GMCSF &lt;chr&gt; | ⋯ ⋯ | MCP4 &lt;dbl&gt; | MIP1. &lt;dbl&gt; | SCF &lt;chr&gt; | SDF1alpha.beta &lt;dbl&gt; | TARC &lt;dbl&gt; | TPO &lt;chr&gt; | TRAIL &lt;dbl&gt; | TSLP &lt;chr&gt; | id &lt;chr&gt; | cytokine_data &lt;int&gt; |\n",
       "|---|---|---|---|---|---|---|---|---|---|---|---|---|---|---|---|---|---|---|---|---|---|\n",
       "| 1 | 1 | M1.1  | 1033.94 | 4.49  | 48.09 | 52.77 | 14.40 | 57.66  | 8.70  | OOR &lt; | ⋯ | 91.13 | 2665.03 | 5.24  |  4033.41 | 59.34 | 354.84 | 44.25 | 4.65  | m1.1  | 1 |\n",
       "| 2 | 2 | M11.1 |  232.19 | 16.74 | 32.19 | 54.38 | 52.98 | 107.78 | OOR &lt; | OOR &lt; | ⋯ | 73.06 | 5105.80 | 74.24 | 10498.23 | 10.47 | OOR &lt;  | 84.87 | OOR &lt; | m11.1 | 1 |\n",
       "\n"
      ],
      "text/plain": [
       "  X sample_id sCD40L  EGF   Eotaxin FGF2  FLT3L Fractalkine GCSF  GMCSF ⋯ MCP4 \n",
       "1 1 M1.1      1033.94 4.49  48.09   52.77 14.40 57.66       8.70  OOR < ⋯ 91.13\n",
       "2 2 M11.1      232.19 16.74 32.19   54.38 52.98 107.78      OOR < OOR < ⋯ 73.06\n",
       "  MIP1.   SCF   SDF1alpha.beta TARC  TPO    TRAIL TSLP  id    cytokine_data\n",
       "1 2665.03 5.24   4033.41       59.34 354.84 44.25 4.65  m1.1  1            \n",
       "2 5105.80 74.24 10498.23       10.47 OOR <  84.87 OOR < m11.1 1            "
      ]
     },
     "metadata": {},
     "output_type": "display_data"
    }
   ],
   "source": [
    "head(cytokines,2)"
   ]
  },
  {
   "cell_type": "code",
   "execution_count": 89,
   "id": "aa8d433e-99e2-42e2-bdad-d3a12800e44e",
   "metadata": {},
   "outputs": [
    {
     "data": {
      "text/html": [
       "<table class=\"dataframe\">\n",
       "<caption>A data.frame: 2 × 2</caption>\n",
       "<thead>\n",
       "\t<tr><th></th><th scope=col>cytokine</th><th scope=col>mapped_name</th></tr>\n",
       "\t<tr><th></th><th scope=col>&lt;chr&gt;</th><th scope=col>&lt;chr&gt;</th></tr>\n",
       "</thead>\n",
       "<tbody>\n",
       "\t<tr><th scope=row>1</th><td>IL8      </td><td>IL8__CXCL8     </td></tr>\n",
       "\t<tr><th scope=row>2</th><td>MIP1alpha</td><td>MIP1alpha__CCL3</td></tr>\n",
       "</tbody>\n",
       "</table>\n"
      ],
      "text/latex": [
       "A data.frame: 2 × 2\n",
       "\\begin{tabular}{r|ll}\n",
       "  & cytokine & mapped\\_name\\\\\n",
       "  & <chr> & <chr>\\\\\n",
       "\\hline\n",
       "\t1 & IL8       & IL8\\_\\_CXCL8     \\\\\n",
       "\t2 & MIP1alpha & MIP1alpha\\_\\_CCL3\\\\\n",
       "\\end{tabular}\n"
      ],
      "text/markdown": [
       "\n",
       "A data.frame: 2 × 2\n",
       "\n",
       "| <!--/--> | cytokine &lt;chr&gt; | mapped_name &lt;chr&gt; |\n",
       "|---|---|---|\n",
       "| 1 | IL8       | IL8__CXCL8      |\n",
       "| 2 | MIP1alpha | MIP1alpha__CCL3 |\n",
       "\n"
      ],
      "text/plain": [
       "  cytokine  mapped_name    \n",
       "1 IL8       IL8__CXCL8     \n",
       "2 MIP1alpha MIP1alpha__CCL3"
      ]
     },
     "metadata": {},
     "output_type": "display_data"
    }
   ],
   "source": [
    "head(cytokine_gene_mapping,2)"
   ]
  },
  {
   "cell_type": "code",
   "execution_count": 90,
   "id": "37b00f5a-5957-4677-8ba5-1d6850bfb6b3",
   "metadata": {},
   "outputs": [
    {
     "data": {
      "text/html": [
       "<table class=\"dataframe\">\n",
       "<caption>A data.frame: 1 × 2</caption>\n",
       "<thead>\n",
       "\t<tr><th></th><th scope=col>cytokine</th><th scope=col>mapped_name</th></tr>\n",
       "\t<tr><th></th><th scope=col>&lt;chr&gt;</th><th scope=col>&lt;chr&gt;</th></tr>\n",
       "</thead>\n",
       "<tbody>\n",
       "\t<tr><th scope=row>26</th><td>IL15</td><td>IL15__IL15</td></tr>\n",
       "</tbody>\n",
       "</table>\n"
      ],
      "text/latex": [
       "A data.frame: 1 × 2\n",
       "\\begin{tabular}{r|ll}\n",
       "  & cytokine & mapped\\_name\\\\\n",
       "  & <chr> & <chr>\\\\\n",
       "\\hline\n",
       "\t26 & IL15 & IL15\\_\\_IL15\\\\\n",
       "\\end{tabular}\n"
      ],
      "text/markdown": [
       "\n",
       "A data.frame: 1 × 2\n",
       "\n",
       "| <!--/--> | cytokine &lt;chr&gt; | mapped_name &lt;chr&gt; |\n",
       "|---|---|---|\n",
       "| 26 | IL15 | IL15__IL15 |\n",
       "\n"
      ],
      "text/plain": [
       "   cytokine mapped_name\n",
       "26 IL15     IL15__IL15 "
      ]
     },
     "metadata": {},
     "output_type": "display_data"
    }
   ],
   "source": [
    "cytokine_gene_mapping[cytokine_gene_mapping$cytokine == 'IL15',]"
   ]
  },
  {
   "cell_type": "code",
   "execution_count": 92,
   "id": "87ae70f5-12cd-46b5-a89b-853e173529ad",
   "metadata": {},
   "outputs": [
    {
     "data": {
      "text/html": [
       "75"
      ],
      "text/latex": [
       "75"
      ],
      "text/markdown": [
       "75"
      ],
      "text/plain": [
       "[1] 75"
      ]
     },
     "metadata": {},
     "output_type": "display_data"
    }
   ],
   "source": [
    "ncol(cytokines)  # about 75 cytokines"
   ]
  },
  {
   "cell_type": "raw",
   "id": "8847ee3f-b937-4b4b-988f-cb4e4810c492",
   "metadata": {},
   "source": [
    "In cytokine: protein names, e.g. Eotaxin -- CCL11_HUMAN\n",
    "\n",
    "Short Name: Eotaxin-2: CCL24_HUMAN\n",
    "Short Name: TRAIL: TNF10_HUMAN\n",
    "\n",
    "--> check out save protein data base"
   ]
  },
  {
   "cell_type": "markdown",
   "id": "16cb96d3-438f-48d0-bbca-1ea37a418d37",
   "metadata": {},
   "source": [
    "### Pre-process"
   ]
  },
  {
   "cell_type": "code",
   "execution_count": 93,
   "id": "21b12883-d037-4224-82b5-29e24667b9a7",
   "metadata": {},
   "outputs": [],
   "source": [
    "#### Set OOR values to 0"
   ]
  },
  {
   "cell_type": "code",
   "execution_count": 94,
   "id": "a3cb3cb1-3558-4213-ba41-e94e3f355593",
   "metadata": {},
   "outputs": [],
   "source": [
    "cytokines[cytokines == 'OOR <'] = 0"
   ]
  },
  {
   "cell_type": "code",
   "execution_count": 95,
   "id": "323eca68-097b-414e-be8e-6cada9be0aee",
   "metadata": {},
   "outputs": [],
   "source": [
    "cytokines[cytokines == 'OOR'] = 0"
   ]
  },
  {
   "cell_type": "code",
   "execution_count": 96,
   "id": "3bbf9068-8395-42cf-bd7f-183303b71a42",
   "metadata": {},
   "outputs": [],
   "source": [
    "cytokines[cytokines == ''] = 0"
   ]
  },
  {
   "cell_type": "code",
   "execution_count": 97,
   "id": "8d4afea7-5625-4537-89e5-5a0956164ec5",
   "metadata": {},
   "outputs": [],
   "source": [
    "rownames(cytokines) = cytokines$id"
   ]
  },
  {
   "cell_type": "code",
   "execution_count": 98,
   "id": "543f958f-0589-4fd0-9f78-9dd6f29d00a7",
   "metadata": {},
   "outputs": [],
   "source": [
    "samples = cytokines$id"
   ]
  },
  {
   "cell_type": "code",
   "execution_count": 99,
   "id": "151c1111-c902-44e0-9d91-54a209de1697",
   "metadata": {},
   "outputs": [
    {
     "data": {
      "text/html": [],
      "text/latex": [],
      "text/markdown": [],
      "text/plain": [
       "character(0)"
      ]
     },
     "metadata": {},
     "output_type": "display_data"
    }
   ],
   "source": [
    "samples[samples == 'm.20.1']"
   ]
  },
  {
   "cell_type": "code",
   "execution_count": 100,
   "id": "c687705b-67ad-4371-afcb-fcd68fef0de8",
   "metadata": {},
   "outputs": [],
   "source": [
    "cytokines$id = NULL"
   ]
  },
  {
   "cell_type": "code",
   "execution_count": 101,
   "id": "4fa35094-21c8-4be0-afa2-2e6b0019d0e4",
   "metadata": {},
   "outputs": [],
   "source": [
    "cytokines$sample_id = NULL"
   ]
  },
  {
   "cell_type": "code",
   "execution_count": 102,
   "id": "ae4fb64a-42e7-4f60-be40-6e76a4a56088",
   "metadata": {},
   "outputs": [],
   "source": [
    "cytokines$X = NULL"
   ]
  },
  {
   "cell_type": "code",
   "execution_count": 103,
   "id": "315c4595-1928-4532-80b4-b6c79a519f37",
   "metadata": {},
   "outputs": [],
   "source": [
    "colnames(cytokines) = str_replace(colnames(cytokines), '\\\\.|\\\\.\\\\.|\\\\.\\\\.\\\\.', '_')"
   ]
  },
  {
   "cell_type": "code",
   "execution_count": 104,
   "id": "95131c05-3e64-4154-bc26-aa8e96baa1bc",
   "metadata": {},
   "outputs": [],
   "source": [
    "for(i in colnames(cytokines)){\n",
    "    cytokines[,i] = as.numeric(   cytokines[,i])\n",
    "    }"
   ]
  },
  {
   "cell_type": "code",
   "execution_count": 105,
   "id": "79da3f68-ec67-4302-8b93-1ecbee30870f",
   "metadata": {},
   "outputs": [
    {
     "data": {
      "text/html": [
       "<table class=\"dataframe\">\n",
       "<caption>A data.frame: 2 × 72</caption>\n",
       "<thead>\n",
       "\t<tr><th></th><th scope=col>sCD40L</th><th scope=col>EGF</th><th scope=col>Eotaxin</th><th scope=col>FGF2</th><th scope=col>FLT3L</th><th scope=col>Fractalkine</th><th scope=col>GCSF</th><th scope=col>GMCSF</th><th scope=col>GROalpha</th><th scope=col>IFNalpha2</th><th scope=col>⋯</th><th scope=col>MCP2</th><th scope=col>MCP4</th><th scope=col>MIP1_</th><th scope=col>SCF</th><th scope=col>SDF1alpha_beta</th><th scope=col>TARC</th><th scope=col>TPO</th><th scope=col>TRAIL</th><th scope=col>TSLP</th><th scope=col>cytokine_data</th></tr>\n",
       "\t<tr><th></th><th scope=col>&lt;dbl&gt;</th><th scope=col>&lt;dbl&gt;</th><th scope=col>&lt;dbl&gt;</th><th scope=col>&lt;dbl&gt;</th><th scope=col>&lt;dbl&gt;</th><th scope=col>&lt;dbl&gt;</th><th scope=col>&lt;dbl&gt;</th><th scope=col>&lt;dbl&gt;</th><th scope=col>&lt;dbl&gt;</th><th scope=col>&lt;dbl&gt;</th><th scope=col>⋯</th><th scope=col>&lt;dbl&gt;</th><th scope=col>&lt;dbl&gt;</th><th scope=col>&lt;dbl&gt;</th><th scope=col>&lt;dbl&gt;</th><th scope=col>&lt;dbl&gt;</th><th scope=col>&lt;dbl&gt;</th><th scope=col>&lt;dbl&gt;</th><th scope=col>&lt;dbl&gt;</th><th scope=col>&lt;dbl&gt;</th><th scope=col>&lt;dbl&gt;</th></tr>\n",
       "</thead>\n",
       "<tbody>\n",
       "\t<tr><th scope=row>m1.1</th><td>1033.94</td><td> 4.49</td><td>48.09</td><td>52.77</td><td>14.40</td><td> 57.66</td><td>8.7</td><td>0</td><td>3.43</td><td>16.31</td><td>⋯</td><td>34.73</td><td>91.13</td><td>2665.03</td><td> 5.24</td><td> 4033.41</td><td>59.34</td><td>354.84</td><td>44.25</td><td>4.65</td><td>1</td></tr>\n",
       "\t<tr><th scope=row>m11.1</th><td> 232.19</td><td>16.74</td><td>32.19</td><td>54.38</td><td>52.98</td><td>107.78</td><td>0.0</td><td>0</td><td>8.20</td><td>18.32</td><td>⋯</td><td>24.26</td><td>73.06</td><td>5105.80</td><td>74.24</td><td>10498.23</td><td>10.47</td><td>  0.00</td><td>84.87</td><td>0.00</td><td>1</td></tr>\n",
       "</tbody>\n",
       "</table>\n"
      ],
      "text/latex": [
       "A data.frame: 2 × 72\n",
       "\\begin{tabular}{r|lllllllllllllllllllll}\n",
       "  & sCD40L & EGF & Eotaxin & FGF2 & FLT3L & Fractalkine & GCSF & GMCSF & GROalpha & IFNalpha2 & ⋯ & MCP2 & MCP4 & MIP1\\_ & SCF & SDF1alpha\\_beta & TARC & TPO & TRAIL & TSLP & cytokine\\_data\\\\\n",
       "  & <dbl> & <dbl> & <dbl> & <dbl> & <dbl> & <dbl> & <dbl> & <dbl> & <dbl> & <dbl> & ⋯ & <dbl> & <dbl> & <dbl> & <dbl> & <dbl> & <dbl> & <dbl> & <dbl> & <dbl> & <dbl>\\\\\n",
       "\\hline\n",
       "\tm1.1 & 1033.94 &  4.49 & 48.09 & 52.77 & 14.40 &  57.66 & 8.7 & 0 & 3.43 & 16.31 & ⋯ & 34.73 & 91.13 & 2665.03 &  5.24 &  4033.41 & 59.34 & 354.84 & 44.25 & 4.65 & 1\\\\\n",
       "\tm11.1 &  232.19 & 16.74 & 32.19 & 54.38 & 52.98 & 107.78 & 0.0 & 0 & 8.20 & 18.32 & ⋯ & 24.26 & 73.06 & 5105.80 & 74.24 & 10498.23 & 10.47 &   0.00 & 84.87 & 0.00 & 1\\\\\n",
       "\\end{tabular}\n"
      ],
      "text/markdown": [
       "\n",
       "A data.frame: 2 × 72\n",
       "\n",
       "| <!--/--> | sCD40L &lt;dbl&gt; | EGF &lt;dbl&gt; | Eotaxin &lt;dbl&gt; | FGF2 &lt;dbl&gt; | FLT3L &lt;dbl&gt; | Fractalkine &lt;dbl&gt; | GCSF &lt;dbl&gt; | GMCSF &lt;dbl&gt; | GROalpha &lt;dbl&gt; | IFNalpha2 &lt;dbl&gt; | ⋯ ⋯ | MCP2 &lt;dbl&gt; | MCP4 &lt;dbl&gt; | MIP1_ &lt;dbl&gt; | SCF &lt;dbl&gt; | SDF1alpha_beta &lt;dbl&gt; | TARC &lt;dbl&gt; | TPO &lt;dbl&gt; | TRAIL &lt;dbl&gt; | TSLP &lt;dbl&gt; | cytokine_data &lt;dbl&gt; |\n",
       "|---|---|---|---|---|---|---|---|---|---|---|---|---|---|---|---|---|---|---|---|---|---|\n",
       "| m1.1 | 1033.94 |  4.49 | 48.09 | 52.77 | 14.40 |  57.66 | 8.7 | 0 | 3.43 | 16.31 | ⋯ | 34.73 | 91.13 | 2665.03 |  5.24 |  4033.41 | 59.34 | 354.84 | 44.25 | 4.65 | 1 |\n",
       "| m11.1 |  232.19 | 16.74 | 32.19 | 54.38 | 52.98 | 107.78 | 0.0 | 0 | 8.20 | 18.32 | ⋯ | 24.26 | 73.06 | 5105.80 | 74.24 | 10498.23 | 10.47 |   0.00 | 84.87 | 0.00 | 1 |\n",
       "\n"
      ],
      "text/plain": [
       "      sCD40L  EGF   Eotaxin FGF2  FLT3L Fractalkine GCSF GMCSF GROalpha\n",
       "m1.1  1033.94  4.49 48.09   52.77 14.40  57.66      8.7  0     3.43    \n",
       "m11.1  232.19 16.74 32.19   54.38 52.98 107.78      0.0  0     8.20    \n",
       "      IFNalpha2 ⋯ MCP2  MCP4  MIP1_   SCF   SDF1alpha_beta TARC  TPO    TRAIL\n",
       "m1.1  16.31     ⋯ 34.73 91.13 2665.03  5.24  4033.41       59.34 354.84 44.25\n",
       "m11.1 18.32     ⋯ 24.26 73.06 5105.80 74.24 10498.23       10.47   0.00 84.87\n",
       "      TSLP cytokine_data\n",
       "m1.1  4.65 1            \n",
       "m11.1 0.00 1            "
      ]
     },
     "metadata": {},
     "output_type": "display_data"
    }
   ],
   "source": [
    "head(cytokines,2)"
   ]
  },
  {
   "cell_type": "code",
   "execution_count": 106,
   "id": "dd26b7e8-9e98-4dd9-8776-4a0cd04f8334",
   "metadata": {},
   "outputs": [],
   "source": [
    "cytokine_names = colnames(cytokines)"
   ]
  },
  {
   "cell_type": "code",
   "execution_count": 107,
   "id": "e4979f66-1cc9-4cfc-b4ae-0e19f529b3e9",
   "metadata": {
    "tags": []
   },
   "outputs": [],
   "source": [
    "cytokines_trans_adapted = cytokines"
   ]
  },
  {
   "cell_type": "code",
   "execution_count": 108,
   "id": "524d0878-ae52-45e0-8eac-cfe17d77e95d",
   "metadata": {},
   "outputs": [],
   "source": [
    "cytokines_trans_adapted = data.frame(cytokines_trans_adapted)"
   ]
  },
  {
   "cell_type": "code",
   "execution_count": 109,
   "id": "f5e6a25a-3c40-439e-9ca5-9f75b3c599af",
   "metadata": {},
   "outputs": [],
   "source": [
    "cytokines_trans_adapted$X = NULL"
   ]
  },
  {
   "cell_type": "code",
   "execution_count": 110,
   "id": "2df1d069-692a-47e1-a35f-a6aa7d70d321",
   "metadata": {},
   "outputs": [],
   "source": [
    "cytokines_trans_adapted$sample_id = NULL"
   ]
  },
  {
   "cell_type": "code",
   "execution_count": 112,
   "id": "55aae4af-aaac-4dc6-9469-e77b634c4e31",
   "metadata": {},
   "outputs": [],
   "source": [
    "#### Logarithmize the values (TBD - other transformations?)"
   ]
  },
  {
   "cell_type": "code",
   "execution_count": 113,
   "id": "3bbebd2d-b956-406a-a24f-1af3c4a2cd33",
   "metadata": {},
   "outputs": [],
   "source": [
    "cytokines_trans_adapted = log2(cytokines_trans_adapted + 1)"
   ]
  },
  {
   "cell_type": "code",
   "execution_count": 114,
   "id": "7944ea90-24d9-4312-84b7-b7a713e9b30d",
   "metadata": {},
   "outputs": [],
   "source": [
    "cytokines_trans_adapted$sample_id = samples"
   ]
  },
  {
   "cell_type": "code",
   "execution_count": 116,
   "id": "eb363d6e-ab72-4ce2-bd8d-f18c8768e20b",
   "metadata": {
    "tags": []
   },
   "outputs": [],
   "source": [
    "cytokines_trans_adapted$cytokine_data = NULL"
   ]
  },
  {
   "cell_type": "code",
   "execution_count": 117,
   "id": "1ccb72a5-efa2-4089-a69f-f4d611860406",
   "metadata": {},
   "outputs": [
    {
     "data": {
      "text/html": [
       "<table class=\"dataframe\">\n",
       "<caption>A data.frame: 2 × 72</caption>\n",
       "<thead>\n",
       "\t<tr><th></th><th scope=col>sCD40L</th><th scope=col>EGF</th><th scope=col>Eotaxin</th><th scope=col>FGF2</th><th scope=col>FLT3L</th><th scope=col>Fractalkine</th><th scope=col>GCSF</th><th scope=col>GMCSF</th><th scope=col>GROalpha</th><th scope=col>IFNalpha2</th><th scope=col>⋯</th><th scope=col>MCP2</th><th scope=col>MCP4</th><th scope=col>MIP1_</th><th scope=col>SCF</th><th scope=col>SDF1alpha_beta</th><th scope=col>TARC</th><th scope=col>TPO</th><th scope=col>TRAIL</th><th scope=col>TSLP</th><th scope=col>sample_id</th></tr>\n",
       "\t<tr><th></th><th scope=col>&lt;dbl&gt;</th><th scope=col>&lt;dbl&gt;</th><th scope=col>&lt;dbl&gt;</th><th scope=col>&lt;dbl&gt;</th><th scope=col>&lt;dbl&gt;</th><th scope=col>&lt;dbl&gt;</th><th scope=col>&lt;dbl&gt;</th><th scope=col>&lt;dbl&gt;</th><th scope=col>&lt;dbl&gt;</th><th scope=col>&lt;dbl&gt;</th><th scope=col>⋯</th><th scope=col>&lt;dbl&gt;</th><th scope=col>&lt;dbl&gt;</th><th scope=col>&lt;dbl&gt;</th><th scope=col>&lt;dbl&gt;</th><th scope=col>&lt;dbl&gt;</th><th scope=col>&lt;dbl&gt;</th><th scope=col>&lt;dbl&gt;</th><th scope=col>&lt;dbl&gt;</th><th scope=col>&lt;dbl&gt;</th><th scope=col>&lt;chr&gt;</th></tr>\n",
       "</thead>\n",
       "<tbody>\n",
       "\t<tr><th scope=row>m1.1</th><td>10.015331</td><td>2.456806</td><td>5.617357</td><td>5.748730</td><td>3.944858</td><td>5.874305</td><td>3.277985</td><td>0</td><td>2.147307</td><td>4.113534</td><td>⋯</td><td>5.159064</td><td>6.525599</td><td>11.38048</td><td>2.641546</td><td>11.97814</td><td>5.915043</td><td>8.475085</td><td>5.499846</td><td>2.498251</td><td>m1.1 </td></tr>\n",
       "\t<tr><th scope=row>m11.1</th><td> 7.865362</td><td>4.148934</td><td>5.052677</td><td>5.791293</td><td>5.754353</td><td>6.765270</td><td>0.000000</td><td>0</td><td>3.201634</td><td>4.272023</td><td>⋯</td><td>4.658783</td><td>6.210623</td><td>12.31820</td><td>6.233428</td><td>13.35800</td><td>3.519793</td><td>0.000000</td><td>6.424082</td><td>0.000000</td><td>m11.1</td></tr>\n",
       "</tbody>\n",
       "</table>\n"
      ],
      "text/latex": [
       "A data.frame: 2 × 72\n",
       "\\begin{tabular}{r|lllllllllllllllllllll}\n",
       "  & sCD40L & EGF & Eotaxin & FGF2 & FLT3L & Fractalkine & GCSF & GMCSF & GROalpha & IFNalpha2 & ⋯ & MCP2 & MCP4 & MIP1\\_ & SCF & SDF1alpha\\_beta & TARC & TPO & TRAIL & TSLP & sample\\_id\\\\\n",
       "  & <dbl> & <dbl> & <dbl> & <dbl> & <dbl> & <dbl> & <dbl> & <dbl> & <dbl> & <dbl> & ⋯ & <dbl> & <dbl> & <dbl> & <dbl> & <dbl> & <dbl> & <dbl> & <dbl> & <dbl> & <chr>\\\\\n",
       "\\hline\n",
       "\tm1.1 & 10.015331 & 2.456806 & 5.617357 & 5.748730 & 3.944858 & 5.874305 & 3.277985 & 0 & 2.147307 & 4.113534 & ⋯ & 5.159064 & 6.525599 & 11.38048 & 2.641546 & 11.97814 & 5.915043 & 8.475085 & 5.499846 & 2.498251 & m1.1 \\\\\n",
       "\tm11.1 &  7.865362 & 4.148934 & 5.052677 & 5.791293 & 5.754353 & 6.765270 & 0.000000 & 0 & 3.201634 & 4.272023 & ⋯ & 4.658783 & 6.210623 & 12.31820 & 6.233428 & 13.35800 & 3.519793 & 0.000000 & 6.424082 & 0.000000 & m11.1\\\\\n",
       "\\end{tabular}\n"
      ],
      "text/markdown": [
       "\n",
       "A data.frame: 2 × 72\n",
       "\n",
       "| <!--/--> | sCD40L &lt;dbl&gt; | EGF &lt;dbl&gt; | Eotaxin &lt;dbl&gt; | FGF2 &lt;dbl&gt; | FLT3L &lt;dbl&gt; | Fractalkine &lt;dbl&gt; | GCSF &lt;dbl&gt; | GMCSF &lt;dbl&gt; | GROalpha &lt;dbl&gt; | IFNalpha2 &lt;dbl&gt; | ⋯ ⋯ | MCP2 &lt;dbl&gt; | MCP4 &lt;dbl&gt; | MIP1_ &lt;dbl&gt; | SCF &lt;dbl&gt; | SDF1alpha_beta &lt;dbl&gt; | TARC &lt;dbl&gt; | TPO &lt;dbl&gt; | TRAIL &lt;dbl&gt; | TSLP &lt;dbl&gt; | sample_id &lt;chr&gt; |\n",
       "|---|---|---|---|---|---|---|---|---|---|---|---|---|---|---|---|---|---|---|---|---|---|\n",
       "| m1.1 | 10.015331 | 2.456806 | 5.617357 | 5.748730 | 3.944858 | 5.874305 | 3.277985 | 0 | 2.147307 | 4.113534 | ⋯ | 5.159064 | 6.525599 | 11.38048 | 2.641546 | 11.97814 | 5.915043 | 8.475085 | 5.499846 | 2.498251 | m1.1  |\n",
       "| m11.1 |  7.865362 | 4.148934 | 5.052677 | 5.791293 | 5.754353 | 6.765270 | 0.000000 | 0 | 3.201634 | 4.272023 | ⋯ | 4.658783 | 6.210623 | 12.31820 | 6.233428 | 13.35800 | 3.519793 | 0.000000 | 6.424082 | 0.000000 | m11.1 |\n",
       "\n"
      ],
      "text/plain": [
       "      sCD40L    EGF      Eotaxin  FGF2     FLT3L    Fractalkine GCSF     GMCSF\n",
       "m1.1  10.015331 2.456806 5.617357 5.748730 3.944858 5.874305    3.277985 0    \n",
       "m11.1  7.865362 4.148934 5.052677 5.791293 5.754353 6.765270    0.000000 0    \n",
       "      GROalpha IFNalpha2 ⋯ MCP2     MCP4     MIP1_    SCF      SDF1alpha_beta\n",
       "m1.1  2.147307 4.113534  ⋯ 5.159064 6.525599 11.38048 2.641546 11.97814      \n",
       "m11.1 3.201634 4.272023  ⋯ 4.658783 6.210623 12.31820 6.233428 13.35800      \n",
       "      TARC     TPO      TRAIL    TSLP     sample_id\n",
       "m1.1  5.915043 8.475085 5.499846 2.498251 m1.1     \n",
       "m11.1 3.519793 0.000000 6.424082 0.000000 m11.1    "
      ]
     },
     "metadata": {},
     "output_type": "display_data"
    }
   ],
   "source": [
    "head(cytokines_trans_adapted,2)"
   ]
  },
  {
   "cell_type": "code",
   "execution_count": null,
   "id": "d2f8dd8b-ffb4-455b-bd45-58352c68a104",
   "metadata": {},
   "outputs": [],
   "source": []
  },
  {
   "cell_type": "code",
   "execution_count": 118,
   "id": "6caceb5c-d95f-47f3-a8e1-db0190f5af10",
   "metadata": {},
   "outputs": [],
   "source": [
    "#### Apply quantile normalization"
   ]
  },
  {
   "cell_type": "code",
   "execution_count": 119,
   "id": "bbefeafa-1022-4e3b-b22f-07fdb5bee777",
   "metadata": {},
   "outputs": [
    {
     "data": {
      "text/html": [
       "FALSE"
      ],
      "text/latex": [
       "FALSE"
      ],
      "text/markdown": [
       "FALSE"
      ],
      "text/plain": [
       "[1] FALSE"
      ]
     },
     "metadata": {},
     "output_type": "display_data"
    }
   ],
   "source": [
    "quantile_normalization_cyto"
   ]
  },
  {
   "cell_type": "code",
   "execution_count": 120,
   "id": "c412616b-7659-412c-a9eb-d57ce073fc99",
   "metadata": {},
   "outputs": [],
   "source": [
    "if(quantile_normalization_cyto == TRUE){\n",
    "    rownames(cytokines_trans_adapted) = cytokines_trans_adapted$sample_id\n",
    "    cytokines_trans_adapted$sample_id = NULL\n",
    "    cytokines_trans_adapted = data.frame(t(cytokines_trans_adapted))\n",
    "    cyto_names = rownames(cytokines_trans_adapted)\n",
    "    \n",
    "    \n",
    "    cytokines_trans_adapted = quantile_normalization(cytokines_trans_adapted)\n",
    "    rownames(cytokines_trans_adapted) = cyto_names\n",
    "    cytokines_trans_adapted = data.frame(t(cytokines_trans_adapted))\n",
    "    cytokines_trans_adapted$sample_id = rownames(cytokines_trans_adapted)\n",
    "    }"
   ]
  },
  {
   "cell_type": "code",
   "execution_count": 121,
   "id": "879a7295-7e42-4c86-afdc-a026057d316f",
   "metadata": {},
   "outputs": [],
   "source": [
    "#### Generate cytokine long format for visualization"
   ]
  },
  {
   "cell_type": "code",
   "execution_count": 122,
   "id": "db23ea2c-30c0-4a74-86e4-5bf424f2d2b3",
   "metadata": {},
   "outputs": [
    {
     "data": {
      "text/html": [
       "<table class=\"dataframe\">\n",
       "<caption>A data.frame: 2 × 72</caption>\n",
       "<thead>\n",
       "\t<tr><th></th><th scope=col>sCD40L</th><th scope=col>EGF</th><th scope=col>Eotaxin</th><th scope=col>FGF2</th><th scope=col>FLT3L</th><th scope=col>Fractalkine</th><th scope=col>GCSF</th><th scope=col>GMCSF</th><th scope=col>GROalpha</th><th scope=col>IFNalpha2</th><th scope=col>⋯</th><th scope=col>MCP2</th><th scope=col>MCP4</th><th scope=col>MIP1_</th><th scope=col>SCF</th><th scope=col>SDF1alpha_beta</th><th scope=col>TARC</th><th scope=col>TPO</th><th scope=col>TRAIL</th><th scope=col>TSLP</th><th scope=col>sample_id</th></tr>\n",
       "\t<tr><th></th><th scope=col>&lt;dbl&gt;</th><th scope=col>&lt;dbl&gt;</th><th scope=col>&lt;dbl&gt;</th><th scope=col>&lt;dbl&gt;</th><th scope=col>&lt;dbl&gt;</th><th scope=col>&lt;dbl&gt;</th><th scope=col>&lt;dbl&gt;</th><th scope=col>&lt;dbl&gt;</th><th scope=col>&lt;dbl&gt;</th><th scope=col>&lt;dbl&gt;</th><th scope=col>⋯</th><th scope=col>&lt;dbl&gt;</th><th scope=col>&lt;dbl&gt;</th><th scope=col>&lt;dbl&gt;</th><th scope=col>&lt;dbl&gt;</th><th scope=col>&lt;dbl&gt;</th><th scope=col>&lt;dbl&gt;</th><th scope=col>&lt;dbl&gt;</th><th scope=col>&lt;dbl&gt;</th><th scope=col>&lt;dbl&gt;</th><th scope=col>&lt;chr&gt;</th></tr>\n",
       "</thead>\n",
       "<tbody>\n",
       "\t<tr><th scope=row>m1.1</th><td>10.015331</td><td>2.456806</td><td>5.617357</td><td>5.748730</td><td>3.944858</td><td>5.874305</td><td>3.277985</td><td>0</td><td>2.147307</td><td>4.113534</td><td>⋯</td><td>5.159064</td><td>6.525599</td><td>11.38048</td><td>2.641546</td><td>11.97814</td><td>5.915043</td><td>8.475085</td><td>5.499846</td><td>2.498251</td><td>m1.1 </td></tr>\n",
       "\t<tr><th scope=row>m11.1</th><td> 7.865362</td><td>4.148934</td><td>5.052677</td><td>5.791293</td><td>5.754353</td><td>6.765270</td><td>0.000000</td><td>0</td><td>3.201634</td><td>4.272023</td><td>⋯</td><td>4.658783</td><td>6.210623</td><td>12.31820</td><td>6.233428</td><td>13.35800</td><td>3.519793</td><td>0.000000</td><td>6.424082</td><td>0.000000</td><td>m11.1</td></tr>\n",
       "</tbody>\n",
       "</table>\n"
      ],
      "text/latex": [
       "A data.frame: 2 × 72\n",
       "\\begin{tabular}{r|lllllllllllllllllllll}\n",
       "  & sCD40L & EGF & Eotaxin & FGF2 & FLT3L & Fractalkine & GCSF & GMCSF & GROalpha & IFNalpha2 & ⋯ & MCP2 & MCP4 & MIP1\\_ & SCF & SDF1alpha\\_beta & TARC & TPO & TRAIL & TSLP & sample\\_id\\\\\n",
       "  & <dbl> & <dbl> & <dbl> & <dbl> & <dbl> & <dbl> & <dbl> & <dbl> & <dbl> & <dbl> & ⋯ & <dbl> & <dbl> & <dbl> & <dbl> & <dbl> & <dbl> & <dbl> & <dbl> & <dbl> & <chr>\\\\\n",
       "\\hline\n",
       "\tm1.1 & 10.015331 & 2.456806 & 5.617357 & 5.748730 & 3.944858 & 5.874305 & 3.277985 & 0 & 2.147307 & 4.113534 & ⋯ & 5.159064 & 6.525599 & 11.38048 & 2.641546 & 11.97814 & 5.915043 & 8.475085 & 5.499846 & 2.498251 & m1.1 \\\\\n",
       "\tm11.1 &  7.865362 & 4.148934 & 5.052677 & 5.791293 & 5.754353 & 6.765270 & 0.000000 & 0 & 3.201634 & 4.272023 & ⋯ & 4.658783 & 6.210623 & 12.31820 & 6.233428 & 13.35800 & 3.519793 & 0.000000 & 6.424082 & 0.000000 & m11.1\\\\\n",
       "\\end{tabular}\n"
      ],
      "text/markdown": [
       "\n",
       "A data.frame: 2 × 72\n",
       "\n",
       "| <!--/--> | sCD40L &lt;dbl&gt; | EGF &lt;dbl&gt; | Eotaxin &lt;dbl&gt; | FGF2 &lt;dbl&gt; | FLT3L &lt;dbl&gt; | Fractalkine &lt;dbl&gt; | GCSF &lt;dbl&gt; | GMCSF &lt;dbl&gt; | GROalpha &lt;dbl&gt; | IFNalpha2 &lt;dbl&gt; | ⋯ ⋯ | MCP2 &lt;dbl&gt; | MCP4 &lt;dbl&gt; | MIP1_ &lt;dbl&gt; | SCF &lt;dbl&gt; | SDF1alpha_beta &lt;dbl&gt; | TARC &lt;dbl&gt; | TPO &lt;dbl&gt; | TRAIL &lt;dbl&gt; | TSLP &lt;dbl&gt; | sample_id &lt;chr&gt; |\n",
       "|---|---|---|---|---|---|---|---|---|---|---|---|---|---|---|---|---|---|---|---|---|---|\n",
       "| m1.1 | 10.015331 | 2.456806 | 5.617357 | 5.748730 | 3.944858 | 5.874305 | 3.277985 | 0 | 2.147307 | 4.113534 | ⋯ | 5.159064 | 6.525599 | 11.38048 | 2.641546 | 11.97814 | 5.915043 | 8.475085 | 5.499846 | 2.498251 | m1.1  |\n",
       "| m11.1 |  7.865362 | 4.148934 | 5.052677 | 5.791293 | 5.754353 | 6.765270 | 0.000000 | 0 | 3.201634 | 4.272023 | ⋯ | 4.658783 | 6.210623 | 12.31820 | 6.233428 | 13.35800 | 3.519793 | 0.000000 | 6.424082 | 0.000000 | m11.1 |\n",
       "\n"
      ],
      "text/plain": [
       "      sCD40L    EGF      Eotaxin  FGF2     FLT3L    Fractalkine GCSF     GMCSF\n",
       "m1.1  10.015331 2.456806 5.617357 5.748730 3.944858 5.874305    3.277985 0    \n",
       "m11.1  7.865362 4.148934 5.052677 5.791293 5.754353 6.765270    0.000000 0    \n",
       "      GROalpha IFNalpha2 ⋯ MCP2     MCP4     MIP1_    SCF      SDF1alpha_beta\n",
       "m1.1  2.147307 4.113534  ⋯ 5.159064 6.525599 11.38048 2.641546 11.97814      \n",
       "m11.1 3.201634 4.272023  ⋯ 4.658783 6.210623 12.31820 6.233428 13.35800      \n",
       "      TARC     TPO      TRAIL    TSLP     sample_id\n",
       "m1.1  5.915043 8.475085 5.499846 2.498251 m1.1     \n",
       "m11.1 3.519793 0.000000 6.424082 0.000000 m11.1    "
      ]
     },
     "metadata": {},
     "output_type": "display_data"
    }
   ],
   "source": [
    "head(cytokines_trans_adapted,2)"
   ]
  },
  {
   "cell_type": "code",
   "execution_count": 123,
   "id": "4319cd5f-5943-44ef-a059-de84d11a17a5",
   "metadata": {},
   "outputs": [],
   "source": [
    "cytokines_trans_adapted$id = NULL"
   ]
  },
  {
   "cell_type": "code",
   "execution_count": 124,
   "id": "1bf1036b-9ed1-4b7d-b7b1-2629883f800d",
   "metadata": {},
   "outputs": [],
   "source": [
    "cytokines_trans_adapted$cytokine_data = NULL"
   ]
  },
  {
   "cell_type": "code",
   "execution_count": 125,
   "id": "20180269-6146-487d-b4ac-4c67e4e4d345",
   "metadata": {},
   "outputs": [
    {
     "name": "stderr",
     "output_type": "stream",
     "text": [
      "Using sample_id as id variables\n",
      "\n"
     ]
    }
   ],
   "source": [
    "cytokines_long = melt(cytokines_trans_adapted)"
   ]
  },
  {
   "cell_type": "code",
   "execution_count": 126,
   "id": "f71b3efc-b6e2-4fe5-816b-9799a62c6af9",
   "metadata": {},
   "outputs": [],
   "source": [
    "cytokines_long$type = 'cytokine'"
   ]
  },
  {
   "cell_type": "code",
   "execution_count": 127,
   "id": "8a9adbc6-9f72-4201-a5f2-09edd9ee4cfe",
   "metadata": {},
   "outputs": [
    {
     "data": {
      "text/html": [
       "<table class=\"dataframe\">\n",
       "<caption>A data.frame: 2 × 4</caption>\n",
       "<thead>\n",
       "\t<tr><th></th><th scope=col>sample_id</th><th scope=col>variable</th><th scope=col>value</th><th scope=col>type</th></tr>\n",
       "\t<tr><th></th><th scope=col>&lt;chr&gt;</th><th scope=col>&lt;fct&gt;</th><th scope=col>&lt;dbl&gt;</th><th scope=col>&lt;chr&gt;</th></tr>\n",
       "</thead>\n",
       "<tbody>\n",
       "\t<tr><th scope=row>1</th><td>m1.1 </td><td>sCD40L</td><td>10.015331</td><td>cytokine</td></tr>\n",
       "\t<tr><th scope=row>2</th><td>m11.1</td><td>sCD40L</td><td> 7.865362</td><td>cytokine</td></tr>\n",
       "</tbody>\n",
       "</table>\n"
      ],
      "text/latex": [
       "A data.frame: 2 × 4\n",
       "\\begin{tabular}{r|llll}\n",
       "  & sample\\_id & variable & value & type\\\\\n",
       "  & <chr> & <fct> & <dbl> & <chr>\\\\\n",
       "\\hline\n",
       "\t1 & m1.1  & sCD40L & 10.015331 & cytokine\\\\\n",
       "\t2 & m11.1 & sCD40L &  7.865362 & cytokine\\\\\n",
       "\\end{tabular}\n"
      ],
      "text/markdown": [
       "\n",
       "A data.frame: 2 × 4\n",
       "\n",
       "| <!--/--> | sample_id &lt;chr&gt; | variable &lt;fct&gt; | value &lt;dbl&gt; | type &lt;chr&gt; |\n",
       "|---|---|---|---|---|\n",
       "| 1 | m1.1  | sCD40L | 10.015331 | cytokine |\n",
       "| 2 | m11.1 | sCD40L |  7.865362 | cytokine |\n",
       "\n"
      ],
      "text/plain": [
       "  sample_id variable value     type    \n",
       "1 m1.1      sCD40L   10.015331 cytokine\n",
       "2 m11.1     sCD40L    7.865362 cytokine"
      ]
     },
     "metadata": {},
     "output_type": "display_data"
    }
   ],
   "source": [
    "head(cytokines_long,2)"
   ]
  },
  {
   "cell_type": "code",
   "execution_count": 128,
   "id": "9aef2bc2-6302-4d4b-a932-f53009e7d0e5",
   "metadata": {},
   "outputs": [],
   "source": [
    "### Adjust names for later mapping"
   ]
  },
  {
   "cell_type": "code",
   "execution_count": 129,
   "id": "7091752e-e6ae-4aa7-8944-4d0e9a85471d",
   "metadata": {},
   "outputs": [],
   "source": [
    "cytokines_long$variable = as.character(cytokines_long$variable)"
   ]
  },
  {
   "cell_type": "code",
   "execution_count": 130,
   "id": "0c05db14-a10e-43b7-a0c4-1b1216f0f992",
   "metadata": {},
   "outputs": [],
   "source": [
    "cytokines_long = merge(cytokines_long, cytokine_gene_mapping, by.x = c('variable'), by.y = c('cytokine'), all.x = TRUE)"
   ]
  },
  {
   "cell_type": "code",
   "execution_count": 131,
   "id": "154666f3-ddc4-4c6b-bd15-bb71505dcf0e",
   "metadata": {},
   "outputs": [],
   "source": [
    "cytokines_long$mapped_name[is.na(cytokines_long$mapped_name)] = cytokines_long$variable[is.na(cytokines_long$mapped_name)]"
   ]
  },
  {
   "cell_type": "code",
   "execution_count": 132,
   "id": "caebac1c-36f9-4741-8ae8-b2fa570c6037",
   "metadata": {},
   "outputs": [],
   "source": [
    "cytokines_long$variable = cytokines_long$mapped_name"
   ]
  },
  {
   "cell_type": "code",
   "execution_count": 133,
   "id": "6ea1d9dc-e7b9-4c10-b085-a7f5cf729e94",
   "metadata": {},
   "outputs": [],
   "source": [
    "cytokines_long$mapped_name = NULL"
   ]
  },
  {
   "cell_type": "code",
   "execution_count": 134,
   "id": "f0d7af6d-68bf-44a4-b4ad-e1a60aa579c3",
   "metadata": {},
   "outputs": [
    {
     "data": {
      "text/html": [
       "<table class=\"dataframe\">\n",
       "<caption>A data.frame: 2 × 4</caption>\n",
       "<thead>\n",
       "\t<tr><th></th><th scope=col>variable</th><th scope=col>sample_id</th><th scope=col>value</th><th scope=col>type</th></tr>\n",
       "\t<tr><th></th><th scope=col>&lt;chr&gt;</th><th scope=col>&lt;chr&gt;</th><th scope=col>&lt;dbl&gt;</th><th scope=col>&lt;chr&gt;</th></tr>\n",
       "</thead>\n",
       "<tbody>\n",
       "\t<tr><th scope=row>2521</th><td>IL15__IL15</td><td>m11.1</td><td>3.350497</td><td>cytokine</td></tr>\n",
       "\t<tr><th scope=row>2522</th><td>IL15__IL15</td><td>m2.1 </td><td>3.307429</td><td>cytokine</td></tr>\n",
       "</tbody>\n",
       "</table>\n"
      ],
      "text/latex": [
       "A data.frame: 2 × 4\n",
       "\\begin{tabular}{r|llll}\n",
       "  & variable & sample\\_id & value & type\\\\\n",
       "  & <chr> & <chr> & <dbl> & <chr>\\\\\n",
       "\\hline\n",
       "\t2521 & IL15\\_\\_IL15 & m11.1 & 3.350497 & cytokine\\\\\n",
       "\t2522 & IL15\\_\\_IL15 & m2.1  & 3.307429 & cytokine\\\\\n",
       "\\end{tabular}\n"
      ],
      "text/markdown": [
       "\n",
       "A data.frame: 2 × 4\n",
       "\n",
       "| <!--/--> | variable &lt;chr&gt; | sample_id &lt;chr&gt; | value &lt;dbl&gt; | type &lt;chr&gt; |\n",
       "|---|---|---|---|---|\n",
       "| 2521 | IL15__IL15 | m11.1 | 3.350497 | cytokine |\n",
       "| 2522 | IL15__IL15 | m2.1  | 3.307429 | cytokine |\n",
       "\n"
      ],
      "text/plain": [
       "     variable   sample_id value    type    \n",
       "2521 IL15__IL15 m11.1     3.350497 cytokine\n",
       "2522 IL15__IL15 m2.1      3.307429 cytokine"
      ]
     },
     "metadata": {},
     "output_type": "display_data"
    }
   ],
   "source": [
    "head(cytokines_long[cytokines_long$variable == 'IL15__IL15',],2)"
   ]
  },
  {
   "cell_type": "code",
   "execution_count": null,
   "id": "d3e5e997-c5e8-4e78-9f27-2892784ab520",
   "metadata": {},
   "outputs": [],
   "source": []
  },
  {
   "cell_type": "code",
   "execution_count": 135,
   "id": "7fe6b6d7-ab6d-401a-b3db-1dd68ea3cd76",
   "metadata": {},
   "outputs": [
    {
     "data": {
      "text/html": [
       "<style>\n",
       ".list-inline {list-style: none; margin:0; padding: 0}\n",
       ".list-inline>li {display: inline-block}\n",
       ".list-inline>li:not(:last-child)::after {content: \"\\00b7\"; padding: 0 .5ex}\n",
       "</style>\n",
       "<ol class=list-inline><li>'sCD40L'</li><li>'EGF'</li><li>'Eotaxin'</li><li>'FGF2'</li><li>'FLT3L'</li><li>'Fractalkine'</li><li>'GCSF'</li><li>'GMCSF'</li><li>'GROalpha'</li><li>'IFNalpha2'</li><li>'IFNgamma'</li><li>'IL1alpha'</li><li>'IL1beta'</li><li>'IL1RA'</li><li>'IL2'</li><li>'IL3'</li><li>'IL4'</li><li>'IL5'</li><li>'IL6'</li><li>'IL7'</li><li>'IL8'</li><li>'IL9'</li><li>'IL10'</li><li>'IL12p40'</li><li>'IL12p70'</li><li>'IL13'</li><li>'IL15'</li><li>'IL17A'</li><li>'IL17E_IL25'</li><li>'IL17F'</li><li>'IL18'</li><li>'IL22'</li><li>'IL27'</li><li>'IP10'</li><li>'MCP1'</li><li>'MCP3'</li><li>'MCSF'</li><li>'MDC'</li><li>'MIG_CXCL9'</li><li>'MIP1alpha'</li><li>'MIP1beta'</li><li>'PDGFAA'</li><li>'PDGFAB_BB'</li><li>'RANTES'</li><li>'TGFalpha'</li><li>'TNFalpha'</li><li>'TNFbeta'</li><li>'VEGFA'</li><li>'X6CKine'</li><li>'BCA1'</li><li>'CTACK'</li><li>'ENA78'</li><li>'Eotaxin2'</li><li>'Eotaxin3'</li><li>'I309'</li><li>'IL16'</li><li>'IL20'</li><li>'IL21'</li><li>'IL23'</li><li>'IL28A'</li><li>'IL33'</li><li>'LIF'</li><li>'MCP2'</li><li>'MCP4'</li><li>'MIP1_'</li><li>'SCF'</li><li>'SDF1alpha_beta'</li><li>'TARC'</li><li>'TPO'</li><li>'TRAIL'</li><li>'TSLP'</li><li>'cytokine_data'</li></ol>\n"
      ],
      "text/latex": [
       "\\begin{enumerate*}\n",
       "\\item 'sCD40L'\n",
       "\\item 'EGF'\n",
       "\\item 'Eotaxin'\n",
       "\\item 'FGF2'\n",
       "\\item 'FLT3L'\n",
       "\\item 'Fractalkine'\n",
       "\\item 'GCSF'\n",
       "\\item 'GMCSF'\n",
       "\\item 'GROalpha'\n",
       "\\item 'IFNalpha2'\n",
       "\\item 'IFNgamma'\n",
       "\\item 'IL1alpha'\n",
       "\\item 'IL1beta'\n",
       "\\item 'IL1RA'\n",
       "\\item 'IL2'\n",
       "\\item 'IL3'\n",
       "\\item 'IL4'\n",
       "\\item 'IL5'\n",
       "\\item 'IL6'\n",
       "\\item 'IL7'\n",
       "\\item 'IL8'\n",
       "\\item 'IL9'\n",
       "\\item 'IL10'\n",
       "\\item 'IL12p40'\n",
       "\\item 'IL12p70'\n",
       "\\item 'IL13'\n",
       "\\item 'IL15'\n",
       "\\item 'IL17A'\n",
       "\\item 'IL17E\\_IL25'\n",
       "\\item 'IL17F'\n",
       "\\item 'IL18'\n",
       "\\item 'IL22'\n",
       "\\item 'IL27'\n",
       "\\item 'IP10'\n",
       "\\item 'MCP1'\n",
       "\\item 'MCP3'\n",
       "\\item 'MCSF'\n",
       "\\item 'MDC'\n",
       "\\item 'MIG\\_CXCL9'\n",
       "\\item 'MIP1alpha'\n",
       "\\item 'MIP1beta'\n",
       "\\item 'PDGFAA'\n",
       "\\item 'PDGFAB\\_BB'\n",
       "\\item 'RANTES'\n",
       "\\item 'TGFalpha'\n",
       "\\item 'TNFalpha'\n",
       "\\item 'TNFbeta'\n",
       "\\item 'VEGFA'\n",
       "\\item 'X6CKine'\n",
       "\\item 'BCA1'\n",
       "\\item 'CTACK'\n",
       "\\item 'ENA78'\n",
       "\\item 'Eotaxin2'\n",
       "\\item 'Eotaxin3'\n",
       "\\item 'I309'\n",
       "\\item 'IL16'\n",
       "\\item 'IL20'\n",
       "\\item 'IL21'\n",
       "\\item 'IL23'\n",
       "\\item 'IL28A'\n",
       "\\item 'IL33'\n",
       "\\item 'LIF'\n",
       "\\item 'MCP2'\n",
       "\\item 'MCP4'\n",
       "\\item 'MIP1\\_'\n",
       "\\item 'SCF'\n",
       "\\item 'SDF1alpha\\_beta'\n",
       "\\item 'TARC'\n",
       "\\item 'TPO'\n",
       "\\item 'TRAIL'\n",
       "\\item 'TSLP'\n",
       "\\item 'cytokine\\_data'\n",
       "\\end{enumerate*}\n"
      ],
      "text/markdown": [
       "1. 'sCD40L'\n",
       "2. 'EGF'\n",
       "3. 'Eotaxin'\n",
       "4. 'FGF2'\n",
       "5. 'FLT3L'\n",
       "6. 'Fractalkine'\n",
       "7. 'GCSF'\n",
       "8. 'GMCSF'\n",
       "9. 'GROalpha'\n",
       "10. 'IFNalpha2'\n",
       "11. 'IFNgamma'\n",
       "12. 'IL1alpha'\n",
       "13. 'IL1beta'\n",
       "14. 'IL1RA'\n",
       "15. 'IL2'\n",
       "16. 'IL3'\n",
       "17. 'IL4'\n",
       "18. 'IL5'\n",
       "19. 'IL6'\n",
       "20. 'IL7'\n",
       "21. 'IL8'\n",
       "22. 'IL9'\n",
       "23. 'IL10'\n",
       "24. 'IL12p40'\n",
       "25. 'IL12p70'\n",
       "26. 'IL13'\n",
       "27. 'IL15'\n",
       "28. 'IL17A'\n",
       "29. 'IL17E_IL25'\n",
       "30. 'IL17F'\n",
       "31. 'IL18'\n",
       "32. 'IL22'\n",
       "33. 'IL27'\n",
       "34. 'IP10'\n",
       "35. 'MCP1'\n",
       "36. 'MCP3'\n",
       "37. 'MCSF'\n",
       "38. 'MDC'\n",
       "39. 'MIG_CXCL9'\n",
       "40. 'MIP1alpha'\n",
       "41. 'MIP1beta'\n",
       "42. 'PDGFAA'\n",
       "43. 'PDGFAB_BB'\n",
       "44. 'RANTES'\n",
       "45. 'TGFalpha'\n",
       "46. 'TNFalpha'\n",
       "47. 'TNFbeta'\n",
       "48. 'VEGFA'\n",
       "49. 'X6CKine'\n",
       "50. 'BCA1'\n",
       "51. 'CTACK'\n",
       "52. 'ENA78'\n",
       "53. 'Eotaxin2'\n",
       "54. 'Eotaxin3'\n",
       "55. 'I309'\n",
       "56. 'IL16'\n",
       "57. 'IL20'\n",
       "58. 'IL21'\n",
       "59. 'IL23'\n",
       "60. 'IL28A'\n",
       "61. 'IL33'\n",
       "62. 'LIF'\n",
       "63. 'MCP2'\n",
       "64. 'MCP4'\n",
       "65. 'MIP1_'\n",
       "66. 'SCF'\n",
       "67. 'SDF1alpha_beta'\n",
       "68. 'TARC'\n",
       "69. 'TPO'\n",
       "70. 'TRAIL'\n",
       "71. 'TSLP'\n",
       "72. 'cytokine_data'\n",
       "\n",
       "\n"
      ],
      "text/plain": [
       " [1] \"sCD40L\"         \"EGF\"            \"Eotaxin\"        \"FGF2\"          \n",
       " [5] \"FLT3L\"          \"Fractalkine\"    \"GCSF\"           \"GMCSF\"         \n",
       " [9] \"GROalpha\"       \"IFNalpha2\"      \"IFNgamma\"       \"IL1alpha\"      \n",
       "[13] \"IL1beta\"        \"IL1RA\"          \"IL2\"            \"IL3\"           \n",
       "[17] \"IL4\"            \"IL5\"            \"IL6\"            \"IL7\"           \n",
       "[21] \"IL8\"            \"IL9\"            \"IL10\"           \"IL12p40\"       \n",
       "[25] \"IL12p70\"        \"IL13\"           \"IL15\"           \"IL17A\"         \n",
       "[29] \"IL17E_IL25\"     \"IL17F\"          \"IL18\"           \"IL22\"          \n",
       "[33] \"IL27\"           \"IP10\"           \"MCP1\"           \"MCP3\"          \n",
       "[37] \"MCSF\"           \"MDC\"            \"MIG_CXCL9\"      \"MIP1alpha\"     \n",
       "[41] \"MIP1beta\"       \"PDGFAA\"         \"PDGFAB_BB\"      \"RANTES\"        \n",
       "[45] \"TGFalpha\"       \"TNFalpha\"       \"TNFbeta\"        \"VEGFA\"         \n",
       "[49] \"X6CKine\"        \"BCA1\"           \"CTACK\"          \"ENA78\"         \n",
       "[53] \"Eotaxin2\"       \"Eotaxin3\"       \"I309\"           \"IL16\"          \n",
       "[57] \"IL20\"           \"IL21\"           \"IL23\"           \"IL28A\"         \n",
       "[61] \"IL33\"           \"LIF\"            \"MCP2\"           \"MCP4\"          \n",
       "[65] \"MIP1_\"          \"SCF\"            \"SDF1alpha_beta\" \"TARC\"          \n",
       "[69] \"TPO\"            \"TRAIL\"          \"TSLP\"           \"cytokine_data\" "
      ]
     },
     "metadata": {},
     "output_type": "display_data"
    }
   ],
   "source": [
    "cytokine_names"
   ]
  },
  {
   "cell_type": "code",
   "execution_count": null,
   "id": "7c7adb20-2ec1-4b71-9d3d-348f53deced0",
   "metadata": {},
   "outputs": [],
   "source": []
  },
  {
   "cell_type": "code",
   "execution_count": 136,
   "id": "775d12d5-5785-4ea8-9a60-2f3e883eaa42",
   "metadata": {},
   "outputs": [
    {
     "data": {
      "text/html": [
       "<style>\n",
       ".list-inline {list-style: none; margin:0; padding: 0}\n",
       ".list-inline>li {display: inline-block}\n",
       ".list-inline>li:not(:last-child)::after {content: \"\\00b7\"; padding: 0 .5ex}\n",
       "</style>\n",
       "<ol class=list-inline><li>'PDGFAA'</li><li>'PDGFAB_BB'</li></ol>\n"
      ],
      "text/latex": [
       "\\begin{enumerate*}\n",
       "\\item 'PDGFAA'\n",
       "\\item 'PDGFAB\\_BB'\n",
       "\\end{enumerate*}\n"
      ],
      "text/markdown": [
       "1. 'PDGFAA'\n",
       "2. 'PDGFAB_BB'\n",
       "\n",
       "\n"
      ],
      "text/plain": [
       "[1] \"PDGFAA\"    \"PDGFAB_BB\""
      ]
     },
     "metadata": {},
     "output_type": "display_data"
    }
   ],
   "source": [
    "unique(cytokines_long$variable[is.na(str_extract(cytokines_long$variable , '__'))])"
   ]
  },
  {
   "cell_type": "code",
   "execution_count": 137,
   "id": "605007ea-e4fd-4a1a-81a9-a52cc631a8c4",
   "metadata": {},
   "outputs": [],
   "source": [
    "cytokine_names = unique(cytokines_long$variable)"
   ]
  },
  {
   "cell_type": "code",
   "execution_count": 138,
   "id": "4d73f879-2a86-487a-90f8-5bde6ce892bc",
   "metadata": {},
   "outputs": [
    {
     "data": {
      "text/html": [
       "<table class=\"dataframe\">\n",
       "<caption>A data.frame: 2 × 4</caption>\n",
       "<thead>\n",
       "\t<tr><th></th><th scope=col>variable</th><th scope=col>sample_id</th><th scope=col>value</th><th scope=col>type</th></tr>\n",
       "\t<tr><th></th><th scope=col>&lt;chr&gt;</th><th scope=col>&lt;chr&gt;</th><th scope=col>&lt;dbl&gt;</th><th scope=col>&lt;chr&gt;</th></tr>\n",
       "</thead>\n",
       "<tbody>\n",
       "\t<tr><th scope=row>1</th><td>BCA1__CXCL13</td><td>m1.1 </td><td>5.570766</td><td>cytokine</td></tr>\n",
       "\t<tr><th scope=row>2</th><td>BCA1__CXCL13</td><td>m11.1</td><td>5.952334</td><td>cytokine</td></tr>\n",
       "</tbody>\n",
       "</table>\n"
      ],
      "text/latex": [
       "A data.frame: 2 × 4\n",
       "\\begin{tabular}{r|llll}\n",
       "  & variable & sample\\_id & value & type\\\\\n",
       "  & <chr> & <chr> & <dbl> & <chr>\\\\\n",
       "\\hline\n",
       "\t1 & BCA1\\_\\_CXCL13 & m1.1  & 5.570766 & cytokine\\\\\n",
       "\t2 & BCA1\\_\\_CXCL13 & m11.1 & 5.952334 & cytokine\\\\\n",
       "\\end{tabular}\n"
      ],
      "text/markdown": [
       "\n",
       "A data.frame: 2 × 4\n",
       "\n",
       "| <!--/--> | variable &lt;chr&gt; | sample_id &lt;chr&gt; | value &lt;dbl&gt; | type &lt;chr&gt; |\n",
       "|---|---|---|---|---|\n",
       "| 1 | BCA1__CXCL13 | m1.1  | 5.570766 | cytokine |\n",
       "| 2 | BCA1__CXCL13 | m11.1 | 5.952334 | cytokine |\n",
       "\n"
      ],
      "text/plain": [
       "  variable     sample_id value    type    \n",
       "1 BCA1__CXCL13 m1.1      5.570766 cytokine\n",
       "2 BCA1__CXCL13 m11.1     5.952334 cytokine"
      ]
     },
     "metadata": {},
     "output_type": "display_data"
    }
   ],
   "source": [
    "head(cytokines_long,2)"
   ]
  },
  {
   "cell_type": "code",
   "execution_count": 139,
   "id": "b1333f64-d85b-4e66-8fa9-39084af16c99",
   "metadata": {},
   "outputs": [],
   "source": [
    "### Add duplicates"
   ]
  },
  {
   "cell_type": "code",
   "execution_count": 140,
   "id": "c5b12063-6968-4db0-8111-ad5e7eaf51b5",
   "metadata": {},
   "outputs": [],
   "source": [
    "cytokines_long_dupl = cytokines_long[cytokines_long$sample_id %in% c('m13.2', 'm6.4'),]"
   ]
  },
  {
   "cell_type": "code",
   "execution_count": 141,
   "id": "8e35d7aa-9db6-4715-9a28-05bf7fa252a7",
   "metadata": {},
   "outputs": [],
   "source": [
    "cytokines_long_dupl$sample_id[cytokines_long_dupl$sample_id == 'm13.2'] = 'm13.22'"
   ]
  },
  {
   "cell_type": "code",
   "execution_count": 142,
   "id": "99604c7e-3320-4f6d-8221-d856691fa663",
   "metadata": {},
   "outputs": [],
   "source": [
    "cytokines_long_dupl$sample_id[cytokines_long_dupl$sample_id == 'm6.4'] = 'm6.42'"
   ]
  },
  {
   "cell_type": "code",
   "execution_count": 143,
   "id": "8900c650-0576-412c-9d60-8d8c6ff68db3",
   "metadata": {},
   "outputs": [
    {
     "data": {
      "text/html": [
       "<table class=\"dataframe\">\n",
       "<caption>A data.frame: 2 × 4</caption>\n",
       "<thead>\n",
       "\t<tr><th></th><th scope=col>variable</th><th scope=col>sample_id</th><th scope=col>value</th><th scope=col>type</th></tr>\n",
       "\t<tr><th></th><th scope=col>&lt;chr&gt;</th><th scope=col>&lt;chr&gt;</th><th scope=col>&lt;dbl&gt;</th><th scope=col>&lt;chr&gt;</th></tr>\n",
       "</thead>\n",
       "<tbody>\n",
       "\t<tr><th scope=row>38</th><td>BCA1__CXCL13</td><td>m13.22</td><td>5.786074</td><td>cytokine</td></tr>\n",
       "\t<tr><th scope=row>80</th><td>BCA1__CXCL13</td><td>m6.42 </td><td>5.835419</td><td>cytokine</td></tr>\n",
       "</tbody>\n",
       "</table>\n"
      ],
      "text/latex": [
       "A data.frame: 2 × 4\n",
       "\\begin{tabular}{r|llll}\n",
       "  & variable & sample\\_id & value & type\\\\\n",
       "  & <chr> & <chr> & <dbl> & <chr>\\\\\n",
       "\\hline\n",
       "\t38 & BCA1\\_\\_CXCL13 & m13.22 & 5.786074 & cytokine\\\\\n",
       "\t80 & BCA1\\_\\_CXCL13 & m6.42  & 5.835419 & cytokine\\\\\n",
       "\\end{tabular}\n"
      ],
      "text/markdown": [
       "\n",
       "A data.frame: 2 × 4\n",
       "\n",
       "| <!--/--> | variable &lt;chr&gt; | sample_id &lt;chr&gt; | value &lt;dbl&gt; | type &lt;chr&gt; |\n",
       "|---|---|---|---|---|\n",
       "| 38 | BCA1__CXCL13 | m13.22 | 5.786074 | cytokine |\n",
       "| 80 | BCA1__CXCL13 | m6.42  | 5.835419 | cytokine |\n",
       "\n"
      ],
      "text/plain": [
       "   variable     sample_id value    type    \n",
       "38 BCA1__CXCL13 m13.22    5.786074 cytokine\n",
       "80 BCA1__CXCL13 m6.42     5.835419 cytokine"
      ]
     },
     "metadata": {},
     "output_type": "display_data"
    }
   ],
   "source": [
    "head(cytokines_long_dupl,2)"
   ]
  },
  {
   "cell_type": "code",
   "execution_count": 144,
   "id": "40a8bcf9-5b69-44e5-938a-f47ea2f7e18b",
   "metadata": {},
   "outputs": [],
   "source": [
    "if(add_duplicates == TRUE){\n",
    "    cytokines_long = rbind(cytokines_long, cytokines_long_dupl)\n",
    "    }"
   ]
  },
  {
   "cell_type": "code",
   "execution_count": 146,
   "id": "c5b44638-4c28-4d0a-a999-3a3314a9bf7b",
   "metadata": {},
   "outputs": [
    {
     "data": {
      "text/html": [
       "<table class=\"dataframe\">\n",
       "<caption>A data.frame: 2 × 4</caption>\n",
       "<thead>\n",
       "\t<tr><th></th><th scope=col>variable</th><th scope=col>sample_id</th><th scope=col>value</th><th scope=col>type</th></tr>\n",
       "\t<tr><th></th><th scope=col>&lt;chr&gt;</th><th scope=col>&lt;chr&gt;</th><th scope=col>&lt;dbl&gt;</th><th scope=col>&lt;chr&gt;</th></tr>\n",
       "</thead>\n",
       "<tbody>\n",
       "\t<tr><th scope=row>1</th><td>BCA1__CXCL13</td><td>m1.1 </td><td>5.570766</td><td>cytokine</td></tr>\n",
       "\t<tr><th scope=row>2</th><td>BCA1__CXCL13</td><td>m11.1</td><td>5.952334</td><td>cytokine</td></tr>\n",
       "</tbody>\n",
       "</table>\n"
      ],
      "text/latex": [
       "A data.frame: 2 × 4\n",
       "\\begin{tabular}{r|llll}\n",
       "  & variable & sample\\_id & value & type\\\\\n",
       "  & <chr> & <chr> & <dbl> & <chr>\\\\\n",
       "\\hline\n",
       "\t1 & BCA1\\_\\_CXCL13 & m1.1  & 5.570766 & cytokine\\\\\n",
       "\t2 & BCA1\\_\\_CXCL13 & m11.1 & 5.952334 & cytokine\\\\\n",
       "\\end{tabular}\n"
      ],
      "text/markdown": [
       "\n",
       "A data.frame: 2 × 4\n",
       "\n",
       "| <!--/--> | variable &lt;chr&gt; | sample_id &lt;chr&gt; | value &lt;dbl&gt; | type &lt;chr&gt; |\n",
       "|---|---|---|---|---|\n",
       "| 1 | BCA1__CXCL13 | m1.1  | 5.570766 | cytokine |\n",
       "| 2 | BCA1__CXCL13 | m11.1 | 5.952334 | cytokine |\n",
       "\n"
      ],
      "text/plain": [
       "  variable     sample_id value    type    \n",
       "1 BCA1__CXCL13 m1.1      5.570766 cytokine\n",
       "2 BCA1__CXCL13 m11.1     5.952334 cytokine"
      ]
     },
     "metadata": {},
     "output_type": "display_data"
    }
   ],
   "source": [
    "head(cytokines_long,2)"
   ]
  },
  {
   "cell_type": "code",
   "execution_count": 147,
   "id": "24ca2a12-7f60-44bc-b98e-edaea3d756fb",
   "metadata": {},
   "outputs": [
    {
     "data": {
      "text/html": [
       "71"
      ],
      "text/latex": [
       "71"
      ],
      "text/markdown": [
       "71"
      ],
      "text/plain": [
       "[1] 71"
      ]
     },
     "metadata": {},
     "output_type": "display_data"
    }
   ],
   "source": [
    "length(unique(cytokines_long$variable))"
   ]
  },
  {
   "cell_type": "markdown",
   "id": "b6514594-b34a-4106-b70d-89f72800f2d5",
   "metadata": {
    "tags": []
   },
   "source": [
    "## Proteomic Data"
   ]
  },
  {
   "cell_type": "markdown",
   "id": "53863633-ee8b-4b81-a7b7-5ed2bb085788",
   "metadata": {},
   "source": [
    "### Load"
   ]
  },
  {
   "cell_type": "code",
   "execution_count": 148,
   "id": "dfde9f88-7efd-4cdc-bf95-64ac852145cb",
   "metadata": {},
   "outputs": [
    {
     "name": "stdout",
     "output_type": "stream",
     "text": [
      "[1] \"2023-01-30 10:35:09 CET\"\n"
     ]
    }
   ],
   "source": [
    "path = paste0(result_path, '/00_Data_Overview/Prepared_Proteomic_Data.csv')\n",
    "proteomics = read.csv( path)\n",
    "print(file.info(path)$mtime)"
   ]
  },
  {
   "cell_type": "code",
   "execution_count": 149,
   "id": "ba6e491a-c27a-40fb-908e-0828c11556b8",
   "metadata": {},
   "outputs": [
    {
     "data": {
      "text/html": [
       "<table class=\"dataframe\">\n",
       "<caption>A data.frame: 2 × 493</caption>\n",
       "<thead>\n",
       "\t<tr><th></th><th scope=col>X</th><th scope=col>SERPINA1_A0A024R6I7</th><th scope=col>IGLV4.69_A0A075B6H9</th><th scope=col>IGLV8.61_A0A075B6I0</th><th scope=col>IGLV4.60_A0A075B6I1</th><th scope=col>IGLV10.54_A0A075B6I4</th><th scope=col>IGLV7.46_A0A075B6I9</th><th scope=col>IGLV2.18_A0A075B6J9</th><th scope=col>IGLV3.16_A0A075B6K0</th><th scope=col>IGLV3.12_A0A075B6K2</th><th scope=col>⋯</th><th scope=col>MINPP1_Q9UNW1</th><th scope=col>TLN1_Q9Y490</th><th scope=col>ANGPTL3_Q9Y5C1</th><th scope=col>LYVE1_Q9Y5Y7</th><th scope=col>FCGBP_Q9Y6R7</th><th scope=col>COLEC10_Q9Y6Z7</th><th scope=col>IGHV3OR16.9_S4R460</th><th scope=col>APOA2_V9GYM3</th><th scope=col>sample_id</th><th scope=col>proteomics_data</th></tr>\n",
       "\t<tr><th></th><th scope=col>&lt;chr&gt;</th><th scope=col>&lt;dbl&gt;</th><th scope=col>&lt;dbl&gt;</th><th scope=col>&lt;dbl&gt;</th><th scope=col>&lt;dbl&gt;</th><th scope=col>&lt;dbl&gt;</th><th scope=col>&lt;dbl&gt;</th><th scope=col>&lt;dbl&gt;</th><th scope=col>&lt;dbl&gt;</th><th scope=col>&lt;dbl&gt;</th><th scope=col>⋯</th><th scope=col>&lt;dbl&gt;</th><th scope=col>&lt;dbl&gt;</th><th scope=col>&lt;dbl&gt;</th><th scope=col>&lt;dbl&gt;</th><th scope=col>&lt;dbl&gt;</th><th scope=col>&lt;dbl&gt;</th><th scope=col>&lt;dbl&gt;</th><th scope=col>&lt;dbl&gt;</th><th scope=col>&lt;chr&gt;</th><th scope=col>&lt;int&gt;</th></tr>\n",
       "</thead>\n",
       "<tbody>\n",
       "\t<tr><th scope=row>1</th><td>M2.3_P10.2</td><td>-1.663380</td><td>-2.414588</td><td>1.467756</td><td>-6.164178</td><td>-1.858412</td><td>-2.588001</td><td>2.128858</td><td>-0.110549</td><td>1.968863</td><td>⋯</td><td> 4.3852723</td><td>-2.882139</td><td>-6.1443596</td><td>-4.26206</td><td> 0.1977374</td><td>-1.653755</td><td>6.184887</td><td>4.235612</td><td>m2.3</td><td>1</td></tr>\n",
       "\t<tr><th scope=row>2</th><td>M5.1_P1   </td><td> 3.744514</td><td>-2.672991</td><td>2.308556</td><td>-5.999634</td><td>-3.812528</td><td>-2.425649</td><td>1.186534</td><td>-2.204914</td><td>1.172303</td><td>⋯</td><td>-0.5717449</td><td>-3.766868</td><td> 0.4187132</td><td>-5.92088</td><td>-0.1863114</td><td>-1.655054</td><td>6.121172</td><td>4.837075</td><td>m5.1</td><td>1</td></tr>\n",
       "</tbody>\n",
       "</table>\n"
      ],
      "text/latex": [
       "A data.frame: 2 × 493\n",
       "\\begin{tabular}{r|lllllllllllllllllllll}\n",
       "  & X & SERPINA1\\_A0A024R6I7 & IGLV4.69\\_A0A075B6H9 & IGLV8.61\\_A0A075B6I0 & IGLV4.60\\_A0A075B6I1 & IGLV10.54\\_A0A075B6I4 & IGLV7.46\\_A0A075B6I9 & IGLV2.18\\_A0A075B6J9 & IGLV3.16\\_A0A075B6K0 & IGLV3.12\\_A0A075B6K2 & ⋯ & MINPP1\\_Q9UNW1 & TLN1\\_Q9Y490 & ANGPTL3\\_Q9Y5C1 & LYVE1\\_Q9Y5Y7 & FCGBP\\_Q9Y6R7 & COLEC10\\_Q9Y6Z7 & IGHV3OR16.9\\_S4R460 & APOA2\\_V9GYM3 & sample\\_id & proteomics\\_data\\\\\n",
       "  & <chr> & <dbl> & <dbl> & <dbl> & <dbl> & <dbl> & <dbl> & <dbl> & <dbl> & <dbl> & ⋯ & <dbl> & <dbl> & <dbl> & <dbl> & <dbl> & <dbl> & <dbl> & <dbl> & <chr> & <int>\\\\\n",
       "\\hline\n",
       "\t1 & M2.3\\_P10.2 & -1.663380 & -2.414588 & 1.467756 & -6.164178 & -1.858412 & -2.588001 & 2.128858 & -0.110549 & 1.968863 & ⋯ &  4.3852723 & -2.882139 & -6.1443596 & -4.26206 &  0.1977374 & -1.653755 & 6.184887 & 4.235612 & m2.3 & 1\\\\\n",
       "\t2 & M5.1\\_P1    &  3.744514 & -2.672991 & 2.308556 & -5.999634 & -3.812528 & -2.425649 & 1.186534 & -2.204914 & 1.172303 & ⋯ & -0.5717449 & -3.766868 &  0.4187132 & -5.92088 & -0.1863114 & -1.655054 & 6.121172 & 4.837075 & m5.1 & 1\\\\\n",
       "\\end{tabular}\n"
      ],
      "text/markdown": [
       "\n",
       "A data.frame: 2 × 493\n",
       "\n",
       "| <!--/--> | X &lt;chr&gt; | SERPINA1_A0A024R6I7 &lt;dbl&gt; | IGLV4.69_A0A075B6H9 &lt;dbl&gt; | IGLV8.61_A0A075B6I0 &lt;dbl&gt; | IGLV4.60_A0A075B6I1 &lt;dbl&gt; | IGLV10.54_A0A075B6I4 &lt;dbl&gt; | IGLV7.46_A0A075B6I9 &lt;dbl&gt; | IGLV2.18_A0A075B6J9 &lt;dbl&gt; | IGLV3.16_A0A075B6K0 &lt;dbl&gt; | IGLV3.12_A0A075B6K2 &lt;dbl&gt; | ⋯ ⋯ | MINPP1_Q9UNW1 &lt;dbl&gt; | TLN1_Q9Y490 &lt;dbl&gt; | ANGPTL3_Q9Y5C1 &lt;dbl&gt; | LYVE1_Q9Y5Y7 &lt;dbl&gt; | FCGBP_Q9Y6R7 &lt;dbl&gt; | COLEC10_Q9Y6Z7 &lt;dbl&gt; | IGHV3OR16.9_S4R460 &lt;dbl&gt; | APOA2_V9GYM3 &lt;dbl&gt; | sample_id &lt;chr&gt; | proteomics_data &lt;int&gt; |\n",
       "|---|---|---|---|---|---|---|---|---|---|---|---|---|---|---|---|---|---|---|---|---|---|\n",
       "| 1 | M2.3_P10.2 | -1.663380 | -2.414588 | 1.467756 | -6.164178 | -1.858412 | -2.588001 | 2.128858 | -0.110549 | 1.968863 | ⋯ |  4.3852723 | -2.882139 | -6.1443596 | -4.26206 |  0.1977374 | -1.653755 | 6.184887 | 4.235612 | m2.3 | 1 |\n",
       "| 2 | M5.1_P1    |  3.744514 | -2.672991 | 2.308556 | -5.999634 | -3.812528 | -2.425649 | 1.186534 | -2.204914 | 1.172303 | ⋯ | -0.5717449 | -3.766868 |  0.4187132 | -5.92088 | -0.1863114 | -1.655054 | 6.121172 | 4.837075 | m5.1 | 1 |\n",
       "\n"
      ],
      "text/plain": [
       "  X          SERPINA1_A0A024R6I7 IGLV4.69_A0A075B6H9 IGLV8.61_A0A075B6I0\n",
       "1 M2.3_P10.2 -1.663380           -2.414588           1.467756           \n",
       "2 M5.1_P1     3.744514           -2.672991           2.308556           \n",
       "  IGLV4.60_A0A075B6I1 IGLV10.54_A0A075B6I4 IGLV7.46_A0A075B6I9\n",
       "1 -6.164178           -1.858412            -2.588001          \n",
       "2 -5.999634           -3.812528            -2.425649          \n",
       "  IGLV2.18_A0A075B6J9 IGLV3.16_A0A075B6K0 IGLV3.12_A0A075B6K2 ⋯ MINPP1_Q9UNW1\n",
       "1 2.128858            -0.110549           1.968863            ⋯  4.3852723   \n",
       "2 1.186534            -2.204914           1.172303            ⋯ -0.5717449   \n",
       "  TLN1_Q9Y490 ANGPTL3_Q9Y5C1 LYVE1_Q9Y5Y7 FCGBP_Q9Y6R7 COLEC10_Q9Y6Z7\n",
       "1 -2.882139   -6.1443596     -4.26206      0.1977374   -1.653755     \n",
       "2 -3.766868    0.4187132     -5.92088     -0.1863114   -1.655054     \n",
       "  IGHV3OR16.9_S4R460 APOA2_V9GYM3 sample_id proteomics_data\n",
       "1 6.184887           4.235612     m2.3      1              \n",
       "2 6.121172           4.837075     m5.1      1              "
      ]
     },
     "metadata": {},
     "output_type": "display_data"
    }
   ],
   "source": [
    "head(proteomics,2)"
   ]
  },
  {
   "cell_type": "markdown",
   "id": "7aef6769-8761-4bb2-96d5-e96903a5b41e",
   "metadata": {},
   "source": [
    "### Pre-Process"
   ]
  },
  {
   "cell_type": "code",
   "execution_count": 150,
   "id": "24d2cd5d-0196-4541-940c-3aa703893417",
   "metadata": {},
   "outputs": [],
   "source": [
    "rownames(proteomics) = proteomics$X"
   ]
  },
  {
   "cell_type": "code",
   "execution_count": 151,
   "id": "ed1e44f9-b166-432f-ba8e-ba4f3c01f22e",
   "metadata": {},
   "outputs": [],
   "source": [
    "proteomics$X = NULL"
   ]
  },
  {
   "cell_type": "code",
   "execution_count": 152,
   "id": "8eb328f6-1c68-45d4-b959-9a6941dbb395",
   "metadata": {},
   "outputs": [],
   "source": [
    "proteomics$proteomics_data = NULL"
   ]
  },
  {
   "cell_type": "code",
   "execution_count": 153,
   "id": "7cc6139b-824f-481f-902b-e85ed6aabf27",
   "metadata": {},
   "outputs": [
    {
     "data": {
      "text/html": [
       "491"
      ],
      "text/latex": [
       "491"
      ],
      "text/markdown": [
       "491"
      ],
      "text/plain": [
       "[1] 491"
      ]
     },
     "metadata": {},
     "output_type": "display_data"
    }
   ],
   "source": [
    "ncol(proteomics)  # about 490 proteins measured"
   ]
  },
  {
   "cell_type": "code",
   "execution_count": 154,
   "id": "bdb915ac-f774-426d-a05c-34eb171387a3",
   "metadata": {
    "tags": []
   },
   "outputs": [
    {
     "data": {
      "text/html": [
       "<style>\n",
       ".list-inline {list-style: none; margin:0; padding: 0}\n",
       ".list-inline>li {display: inline-block}\n",
       ".list-inline>li:not(:last-child)::after {content: \"\\00b7\"; padding: 0 .5ex}\n",
       "</style>\n",
       "<ol class=list-inline><li>'A1BG_M0R009'</li><li>'A1BG_P04217.2'</li><li>'A2M_P01023'</li><li>'ABI3BP_D3YTG3'</li><li>'ACTB_P60709'</li><li>'ACTC1_P68032'</li></ol>\n"
      ],
      "text/latex": [
       "\\begin{enumerate*}\n",
       "\\item 'A1BG\\_M0R009'\n",
       "\\item 'A1BG\\_P04217.2'\n",
       "\\item 'A2M\\_P01023'\n",
       "\\item 'ABI3BP\\_D3YTG3'\n",
       "\\item 'ACTB\\_P60709'\n",
       "\\item 'ACTC1\\_P68032'\n",
       "\\end{enumerate*}\n"
      ],
      "text/markdown": [
       "1. 'A1BG_M0R009'\n",
       "2. 'A1BG_P04217.2'\n",
       "3. 'A2M_P01023'\n",
       "4. 'ABI3BP_D3YTG3'\n",
       "5. 'ACTB_P60709'\n",
       "6. 'ACTC1_P68032'\n",
       "\n",
       "\n"
      ],
      "text/plain": [
       "[1] \"A1BG_M0R009\"   \"A1BG_P04217.2\" \"A2M_P01023\"    \"ABI3BP_D3YTG3\"\n",
       "[5] \"ACTB_P60709\"   \"ACTC1_P68032\" "
      ]
     },
     "metadata": {},
     "output_type": "display_data"
    }
   ],
   "source": [
    "head(sort(colnames(proteomics)))"
   ]
  },
  {
   "cell_type": "code",
   "execution_count": 155,
   "id": "15887dc1-7f76-4b19-8f39-f8d3f70a61c0",
   "metadata": {},
   "outputs": [],
   "source": [
    "proteomic_names = colnames(proteomics)"
   ]
  },
  {
   "cell_type": "raw",
   "id": "3cada6f9-70b5-4ca5-a151-c6917e98ac31",
   "metadata": {},
   "source": [
    "SERPINA1_A0A024R6I7\n",
    "\n",
    "IGLV8.61_A0A075B6I0\n",
    "IGLV4.60_A0A075B6I1\n",
    "\n",
    "# first part: 'Gene'; second part exat protein specification?\n",
    "\n",
    "--> check out saved protein database"
   ]
  },
  {
   "cell_type": "markdown",
   "id": "5fabf4e4-7228-4626-9742-cfbffe9e564a",
   "metadata": {},
   "source": [
    "#### Adjust distribution"
   ]
  },
  {
   "cell_type": "code",
   "execution_count": 156,
   "id": "b60e2dfd-0bd5-4470-a617-f00ed0a3af5e",
   "metadata": {},
   "outputs": [
    {
     "data": {
      "text/html": [
       "<table class=\"dataframe\">\n",
       "<caption>A data.frame: 2 × 491</caption>\n",
       "<thead>\n",
       "\t<tr><th></th><th scope=col>SERPINA1_A0A024R6I7</th><th scope=col>IGLV4.69_A0A075B6H9</th><th scope=col>IGLV8.61_A0A075B6I0</th><th scope=col>IGLV4.60_A0A075B6I1</th><th scope=col>IGLV10.54_A0A075B6I4</th><th scope=col>IGLV7.46_A0A075B6I9</th><th scope=col>IGLV2.18_A0A075B6J9</th><th scope=col>IGLV3.16_A0A075B6K0</th><th scope=col>IGLV3.12_A0A075B6K2</th><th scope=col>IGLV3.10_A0A075B6K4</th><th scope=col>⋯</th><th scope=col>WWC3_Q9ULE0</th><th scope=col>MINPP1_Q9UNW1</th><th scope=col>TLN1_Q9Y490</th><th scope=col>ANGPTL3_Q9Y5C1</th><th scope=col>LYVE1_Q9Y5Y7</th><th scope=col>FCGBP_Q9Y6R7</th><th scope=col>COLEC10_Q9Y6Z7</th><th scope=col>IGHV3OR16.9_S4R460</th><th scope=col>APOA2_V9GYM3</th><th scope=col>sample_id</th></tr>\n",
       "\t<tr><th></th><th scope=col>&lt;dbl&gt;</th><th scope=col>&lt;dbl&gt;</th><th scope=col>&lt;dbl&gt;</th><th scope=col>&lt;dbl&gt;</th><th scope=col>&lt;dbl&gt;</th><th scope=col>&lt;dbl&gt;</th><th scope=col>&lt;dbl&gt;</th><th scope=col>&lt;dbl&gt;</th><th scope=col>&lt;dbl&gt;</th><th scope=col>&lt;dbl&gt;</th><th scope=col>⋯</th><th scope=col>&lt;dbl&gt;</th><th scope=col>&lt;dbl&gt;</th><th scope=col>&lt;dbl&gt;</th><th scope=col>&lt;dbl&gt;</th><th scope=col>&lt;dbl&gt;</th><th scope=col>&lt;dbl&gt;</th><th scope=col>&lt;dbl&gt;</th><th scope=col>&lt;dbl&gt;</th><th scope=col>&lt;dbl&gt;</th><th scope=col>&lt;chr&gt;</th></tr>\n",
       "</thead>\n",
       "<tbody>\n",
       "\t<tr><th scope=row>M2.3_P10.2</th><td>-1.663380</td><td>-2.414588</td><td>1.467756</td><td>-6.164178</td><td>-1.858412</td><td>-2.588001</td><td>2.128858</td><td>-0.110549</td><td>1.968863</td><td>2.523862</td><td>⋯</td><td> 1.002701</td><td> 4.3852723</td><td>-2.882139</td><td>-6.1443596</td><td>-4.26206</td><td> 0.1977374</td><td>-1.653755</td><td>6.184887</td><td>4.235612</td><td>m2.3</td></tr>\n",
       "\t<tr><th scope=row>M5.1_P1</th><td> 3.744514</td><td>-2.672991</td><td>2.308556</td><td>-5.999634</td><td>-3.812528</td><td>-2.425649</td><td>1.186534</td><td>-2.204914</td><td>1.172303</td><td>1.799312</td><td>⋯</td><td>-1.063912</td><td>-0.5717449</td><td>-3.766868</td><td> 0.4187132</td><td>-5.92088</td><td>-0.1863114</td><td>-1.655054</td><td>6.121172</td><td>4.837075</td><td>m5.1</td></tr>\n",
       "</tbody>\n",
       "</table>\n"
      ],
      "text/latex": [
       "A data.frame: 2 × 491\n",
       "\\begin{tabular}{r|lllllllllllllllllllll}\n",
       "  & SERPINA1\\_A0A024R6I7 & IGLV4.69\\_A0A075B6H9 & IGLV8.61\\_A0A075B6I0 & IGLV4.60\\_A0A075B6I1 & IGLV10.54\\_A0A075B6I4 & IGLV7.46\\_A0A075B6I9 & IGLV2.18\\_A0A075B6J9 & IGLV3.16\\_A0A075B6K0 & IGLV3.12\\_A0A075B6K2 & IGLV3.10\\_A0A075B6K4 & ⋯ & WWC3\\_Q9ULE0 & MINPP1\\_Q9UNW1 & TLN1\\_Q9Y490 & ANGPTL3\\_Q9Y5C1 & LYVE1\\_Q9Y5Y7 & FCGBP\\_Q9Y6R7 & COLEC10\\_Q9Y6Z7 & IGHV3OR16.9\\_S4R460 & APOA2\\_V9GYM3 & sample\\_id\\\\\n",
       "  & <dbl> & <dbl> & <dbl> & <dbl> & <dbl> & <dbl> & <dbl> & <dbl> & <dbl> & <dbl> & ⋯ & <dbl> & <dbl> & <dbl> & <dbl> & <dbl> & <dbl> & <dbl> & <dbl> & <dbl> & <chr>\\\\\n",
       "\\hline\n",
       "\tM2.3\\_P10.2 & -1.663380 & -2.414588 & 1.467756 & -6.164178 & -1.858412 & -2.588001 & 2.128858 & -0.110549 & 1.968863 & 2.523862 & ⋯ &  1.002701 &  4.3852723 & -2.882139 & -6.1443596 & -4.26206 &  0.1977374 & -1.653755 & 6.184887 & 4.235612 & m2.3\\\\\n",
       "\tM5.1\\_P1 &  3.744514 & -2.672991 & 2.308556 & -5.999634 & -3.812528 & -2.425649 & 1.186534 & -2.204914 & 1.172303 & 1.799312 & ⋯ & -1.063912 & -0.5717449 & -3.766868 &  0.4187132 & -5.92088 & -0.1863114 & -1.655054 & 6.121172 & 4.837075 & m5.1\\\\\n",
       "\\end{tabular}\n"
      ],
      "text/markdown": [
       "\n",
       "A data.frame: 2 × 491\n",
       "\n",
       "| <!--/--> | SERPINA1_A0A024R6I7 &lt;dbl&gt; | IGLV4.69_A0A075B6H9 &lt;dbl&gt; | IGLV8.61_A0A075B6I0 &lt;dbl&gt; | IGLV4.60_A0A075B6I1 &lt;dbl&gt; | IGLV10.54_A0A075B6I4 &lt;dbl&gt; | IGLV7.46_A0A075B6I9 &lt;dbl&gt; | IGLV2.18_A0A075B6J9 &lt;dbl&gt; | IGLV3.16_A0A075B6K0 &lt;dbl&gt; | IGLV3.12_A0A075B6K2 &lt;dbl&gt; | IGLV3.10_A0A075B6K4 &lt;dbl&gt; | ⋯ ⋯ | WWC3_Q9ULE0 &lt;dbl&gt; | MINPP1_Q9UNW1 &lt;dbl&gt; | TLN1_Q9Y490 &lt;dbl&gt; | ANGPTL3_Q9Y5C1 &lt;dbl&gt; | LYVE1_Q9Y5Y7 &lt;dbl&gt; | FCGBP_Q9Y6R7 &lt;dbl&gt; | COLEC10_Q9Y6Z7 &lt;dbl&gt; | IGHV3OR16.9_S4R460 &lt;dbl&gt; | APOA2_V9GYM3 &lt;dbl&gt; | sample_id &lt;chr&gt; |\n",
       "|---|---|---|---|---|---|---|---|---|---|---|---|---|---|---|---|---|---|---|---|---|---|\n",
       "| M2.3_P10.2 | -1.663380 | -2.414588 | 1.467756 | -6.164178 | -1.858412 | -2.588001 | 2.128858 | -0.110549 | 1.968863 | 2.523862 | ⋯ |  1.002701 |  4.3852723 | -2.882139 | -6.1443596 | -4.26206 |  0.1977374 | -1.653755 | 6.184887 | 4.235612 | m2.3 |\n",
       "| M5.1_P1 |  3.744514 | -2.672991 | 2.308556 | -5.999634 | -3.812528 | -2.425649 | 1.186534 | -2.204914 | 1.172303 | 1.799312 | ⋯ | -1.063912 | -0.5717449 | -3.766868 |  0.4187132 | -5.92088 | -0.1863114 | -1.655054 | 6.121172 | 4.837075 | m5.1 |\n",
       "\n"
      ],
      "text/plain": [
       "           SERPINA1_A0A024R6I7 IGLV4.69_A0A075B6H9 IGLV8.61_A0A075B6I0\n",
       "M2.3_P10.2 -1.663380           -2.414588           1.467756           \n",
       "M5.1_P1     3.744514           -2.672991           2.308556           \n",
       "           IGLV4.60_A0A075B6I1 IGLV10.54_A0A075B6I4 IGLV7.46_A0A075B6I9\n",
       "M2.3_P10.2 -6.164178           -1.858412            -2.588001          \n",
       "M5.1_P1    -5.999634           -3.812528            -2.425649          \n",
       "           IGLV2.18_A0A075B6J9 IGLV3.16_A0A075B6K0 IGLV3.12_A0A075B6K2\n",
       "M2.3_P10.2 2.128858            -0.110549           1.968863           \n",
       "M5.1_P1    1.186534            -2.204914           1.172303           \n",
       "           IGLV3.10_A0A075B6K4 ⋯ WWC3_Q9ULE0 MINPP1_Q9UNW1 TLN1_Q9Y490\n",
       "M2.3_P10.2 2.523862            ⋯  1.002701    4.3852723    -2.882139  \n",
       "M5.1_P1    1.799312            ⋯ -1.063912   -0.5717449    -3.766868  \n",
       "           ANGPTL3_Q9Y5C1 LYVE1_Q9Y5Y7 FCGBP_Q9Y6R7 COLEC10_Q9Y6Z7\n",
       "M2.3_P10.2 -6.1443596     -4.26206      0.1977374   -1.653755     \n",
       "M5.1_P1     0.4187132     -5.92088     -0.1863114   -1.655054     \n",
       "           IGHV3OR16.9_S4R460 APOA2_V9GYM3 sample_id\n",
       "M2.3_P10.2 6.184887           4.235612     m2.3     \n",
       "M5.1_P1    6.121172           4.837075     m5.1     "
      ]
     },
     "metadata": {},
     "output_type": "display_data"
    }
   ],
   "source": [
    "head(proteomics,2)"
   ]
  },
  {
   "cell_type": "code",
   "execution_count": 157,
   "id": "20729f44-5844-4e2b-9845-d8889a9d0a5a",
   "metadata": {},
   "outputs": [],
   "source": [
    "#colMeans(proteomics)"
   ]
  },
  {
   "cell_type": "code",
   "execution_count": 160,
   "id": "4d1bf691-e82c-4dbc-94f6-697ad07796c3",
   "metadata": {},
   "outputs": [
    {
     "data": {
      "text/html": [
       "FALSE"
      ],
      "text/latex": [
       "FALSE"
      ],
      "text/markdown": [
       "FALSE"
      ],
      "text/plain": [
       "[1] FALSE"
      ]
     },
     "metadata": {},
     "output_type": "display_data"
    }
   ],
   "source": [
    "quantile_normalization_proteomics"
   ]
  },
  {
   "cell_type": "code",
   "execution_count": 161,
   "id": "ed915fad-da7e-4a6d-a274-3d68601d354d",
   "metadata": {},
   "outputs": [],
   "source": [
    "if (quantile_normalization_proteomics == TRUE){\n",
    "    rownames(proteomics) = proteomics$sample_id\n",
    "    proteomics$sample_id = NULL\n",
    "    proteomics = t(proteomics)\n",
    "    names = rownames(proteomics)\n",
    "    \n",
    "    proteomics  = quantile_normalization(proteomics )  # works on proteomics data\n",
    "    rownames(proteomics) = names\n",
    "    proteomics = data.frame(t(proteomics))\n",
    "    proteomics$sample_id = rownames(proteomics)\n",
    "    }"
   ]
  },
  {
   "cell_type": "markdown",
   "id": "f3b68f97-9cd3-4a1c-80c9-b2fbd52e7f4e",
   "metadata": {},
   "source": [
    "#### Prepare long format"
   ]
  },
  {
   "cell_type": "code",
   "execution_count": 162,
   "id": "0ff5c4b0-d2eb-4941-bf3d-42779bf6f1db",
   "metadata": {},
   "outputs": [
    {
     "name": "stderr",
     "output_type": "stream",
     "text": [
      "Using sample_id as id variables\n",
      "\n"
     ]
    }
   ],
   "source": [
    "proteomics_long =  melt(proteomics)"
   ]
  },
  {
   "cell_type": "code",
   "execution_count": 163,
   "id": "ba1e911e-3d32-4345-871f-6952aaf30d3f",
   "metadata": {},
   "outputs": [],
   "source": [
    "proteomics_long$type = 'proteomics'"
   ]
  },
  {
   "cell_type": "code",
   "execution_count": 164,
   "id": "7e5c4926-a856-425f-bb15-ea1a8a26b859",
   "metadata": {},
   "outputs": [
    {
     "data": {
      "text/html": [
       "<table class=\"dataframe\">\n",
       "<caption>A data.frame: 2 × 4</caption>\n",
       "<thead>\n",
       "\t<tr><th></th><th scope=col>sample_id</th><th scope=col>variable</th><th scope=col>value</th><th scope=col>type</th></tr>\n",
       "\t<tr><th></th><th scope=col>&lt;chr&gt;</th><th scope=col>&lt;fct&gt;</th><th scope=col>&lt;dbl&gt;</th><th scope=col>&lt;chr&gt;</th></tr>\n",
       "</thead>\n",
       "<tbody>\n",
       "\t<tr><th scope=row>1</th><td>m2.3</td><td>SERPINA1_A0A024R6I7</td><td>-1.663380</td><td>proteomics</td></tr>\n",
       "\t<tr><th scope=row>2</th><td>m5.1</td><td>SERPINA1_A0A024R6I7</td><td> 3.744514</td><td>proteomics</td></tr>\n",
       "</tbody>\n",
       "</table>\n"
      ],
      "text/latex": [
       "A data.frame: 2 × 4\n",
       "\\begin{tabular}{r|llll}\n",
       "  & sample\\_id & variable & value & type\\\\\n",
       "  & <chr> & <fct> & <dbl> & <chr>\\\\\n",
       "\\hline\n",
       "\t1 & m2.3 & SERPINA1\\_A0A024R6I7 & -1.663380 & proteomics\\\\\n",
       "\t2 & m5.1 & SERPINA1\\_A0A024R6I7 &  3.744514 & proteomics\\\\\n",
       "\\end{tabular}\n"
      ],
      "text/markdown": [
       "\n",
       "A data.frame: 2 × 4\n",
       "\n",
       "| <!--/--> | sample_id &lt;chr&gt; | variable &lt;fct&gt; | value &lt;dbl&gt; | type &lt;chr&gt; |\n",
       "|---|---|---|---|---|\n",
       "| 1 | m2.3 | SERPINA1_A0A024R6I7 | -1.663380 | proteomics |\n",
       "| 2 | m5.1 | SERPINA1_A0A024R6I7 |  3.744514 | proteomics |\n",
       "\n"
      ],
      "text/plain": [
       "  sample_id variable            value     type      \n",
       "1 m2.3      SERPINA1_A0A024R6I7 -1.663380 proteomics\n",
       "2 m5.1      SERPINA1_A0A024R6I7  3.744514 proteomics"
      ]
     },
     "metadata": {},
     "output_type": "display_data"
    }
   ],
   "source": [
    "head(proteomics_long,2)"
   ]
  },
  {
   "cell_type": "code",
   "execution_count": 165,
   "id": "0e9908ef-b265-4d8d-8f60-68d4945af649",
   "metadata": {},
   "outputs": [],
   "source": [
    "### Add dupl"
   ]
  },
  {
   "cell_type": "code",
   "execution_count": 166,
   "id": "d7d0c505-81c9-45cb-9ed0-af764e4c64d8",
   "metadata": {},
   "outputs": [],
   "source": [
    "proteomics_long_dupl = proteomics_long[proteomics_long$sample_id %in% c('m13.2', 'm6.4'),]"
   ]
  },
  {
   "cell_type": "code",
   "execution_count": 167,
   "id": "e1f732bf-b48f-4c89-a2b0-d4c0f1709fd3",
   "metadata": {},
   "outputs": [],
   "source": [
    "proteomics_long_dupl$sample_id[proteomics_long_dupl$sample_id == 'm13.2'] = 'm13.22'"
   ]
  },
  {
   "cell_type": "code",
   "execution_count": 168,
   "id": "5b29e1e3-4567-497b-9582-3d77c1fc687b",
   "metadata": {},
   "outputs": [],
   "source": [
    "proteomics_long_dupl$sample_id[proteomics_long_dupl$sample_id == 'm6.4'] = 'm6.42'"
   ]
  },
  {
   "cell_type": "code",
   "execution_count": 169,
   "id": "fc843f6c-6774-469a-a78b-313b9c218a09",
   "metadata": {},
   "outputs": [
    {
     "data": {
      "text/html": [
       "<table class=\"dataframe\">\n",
       "<caption>A data.frame: 2 × 4</caption>\n",
       "<thead>\n",
       "\t<tr><th></th><th scope=col>sample_id</th><th scope=col>variable</th><th scope=col>value</th><th scope=col>type</th></tr>\n",
       "\t<tr><th></th><th scope=col>&lt;chr&gt;</th><th scope=col>&lt;fct&gt;</th><th scope=col>&lt;dbl&gt;</th><th scope=col>&lt;chr&gt;</th></tr>\n",
       "</thead>\n",
       "<tbody>\n",
       "\t<tr><th scope=row>42</th><td>m13.22</td><td>SERPINA1_A0A024R6I7</td><td>-3.496639</td><td>proteomics</td></tr>\n",
       "\t<tr><th scope=row>45</th><td>m6.42 </td><td>SERPINA1_A0A024R6I7</td><td> 4.621727</td><td>proteomics</td></tr>\n",
       "</tbody>\n",
       "</table>\n"
      ],
      "text/latex": [
       "A data.frame: 2 × 4\n",
       "\\begin{tabular}{r|llll}\n",
       "  & sample\\_id & variable & value & type\\\\\n",
       "  & <chr> & <fct> & <dbl> & <chr>\\\\\n",
       "\\hline\n",
       "\t42 & m13.22 & SERPINA1\\_A0A024R6I7 & -3.496639 & proteomics\\\\\n",
       "\t45 & m6.42  & SERPINA1\\_A0A024R6I7 &  4.621727 & proteomics\\\\\n",
       "\\end{tabular}\n"
      ],
      "text/markdown": [
       "\n",
       "A data.frame: 2 × 4\n",
       "\n",
       "| <!--/--> | sample_id &lt;chr&gt; | variable &lt;fct&gt; | value &lt;dbl&gt; | type &lt;chr&gt; |\n",
       "|---|---|---|---|---|\n",
       "| 42 | m13.22 | SERPINA1_A0A024R6I7 | -3.496639 | proteomics |\n",
       "| 45 | m6.42  | SERPINA1_A0A024R6I7 |  4.621727 | proteomics |\n",
       "\n"
      ],
      "text/plain": [
       "   sample_id variable            value     type      \n",
       "42 m13.22    SERPINA1_A0A024R6I7 -3.496639 proteomics\n",
       "45 m6.42     SERPINA1_A0A024R6I7  4.621727 proteomics"
      ]
     },
     "metadata": {},
     "output_type": "display_data"
    }
   ],
   "source": [
    "head(proteomics_long_dupl,2)"
   ]
  },
  {
   "cell_type": "code",
   "execution_count": 170,
   "id": "edbcd85f-ba1f-43bb-b43a-0d44f1d94671",
   "metadata": {},
   "outputs": [],
   "source": [
    "if(add_duplicates == TRUE){\n",
    "    proteomics_long = rbind(proteomics_long, proteomics_long_dupl)\n",
    "    }"
   ]
  },
  {
   "cell_type": "code",
   "execution_count": 171,
   "id": "1bcf974a-0cda-4889-b33b-ed1483c3fefa",
   "metadata": {},
   "outputs": [
    {
     "data": {
      "text/html": [
       "490"
      ],
      "text/latex": [
       "490"
      ],
      "text/markdown": [
       "490"
      ],
      "text/plain": [
       "[1] 490"
      ]
     },
     "metadata": {},
     "output_type": "display_data"
    }
   ],
   "source": [
    "length(unique(proteomics_long$variable))"
   ]
  },
  {
   "cell_type": "markdown",
   "id": "76f598c0-1457-4e69-9fa7-debfcefe8ea6",
   "metadata": {
    "tags": []
   },
   "source": [
    "## Neutrophil Data"
   ]
  },
  {
   "cell_type": "markdown",
   "id": "440ba07c-b26b-41bd-8721-78ebae27d42e",
   "metadata": {
    "tags": []
   },
   "source": [
    "### Load"
   ]
  },
  {
   "cell_type": "code",
   "execution_count": 172,
   "id": "d703d835-3007-47dc-8cd6-0cc18a340384",
   "metadata": {
    "tags": []
   },
   "outputs": [
    {
     "name": "stdout",
     "output_type": "stream",
     "text": [
      "[1] \"2023-01-30 10:35:09 CET\"\n"
     ]
    }
   ],
   "source": [
    "path = paste0(result_path, '/00_Data_Overview/Prepared_Neutrophil_Data.csv')\n",
    "neutrophils = read.csv(path)\n",
    "print(file.info(path)$mtime)"
   ]
  },
  {
   "cell_type": "code",
   "execution_count": 173,
   "id": "3df4f28a-ec4b-4c35-af9e-8c2085b8e93f",
   "metadata": {},
   "outputs": [
    {
     "data": {
      "text/html": [
       "121"
      ],
      "text/latex": [
       "121"
      ],
      "text/markdown": [
       "121"
      ],
      "text/plain": [
       "[1] 121"
      ]
     },
     "metadata": {},
     "output_type": "display_data"
    }
   ],
   "source": [
    "nrow(neutrophils)"
   ]
  },
  {
   "cell_type": "code",
   "execution_count": 174,
   "id": "b2f5e547-8dcd-4dbd-85e8-589c21ca6072",
   "metadata": {},
   "outputs": [
    {
     "data": {
      "text/html": [
       "<table class=\"dataframe\">\n",
       "<caption>A data.frame: 2 × 38149</caption>\n",
       "<thead>\n",
       "\t<tr><th></th><th scope=col>X</th><th scope=col>ENSG00000000003.15</th><th scope=col>ENSG00000000419.13</th><th scope=col>ENSG00000000457.14</th><th scope=col>ENSG00000000460.17</th><th scope=col>ENSG00000000938.13</th><th scope=col>ENSG00000000971.16</th><th scope=col>ENSG00000001036.14</th><th scope=col>ENSG00000001084.13</th><th scope=col>ENSG00000001167.14</th><th scope=col>⋯</th><th scope=col>ENSG00000288612.1</th><th scope=col>ENSG00000288615.1</th><th scope=col>ENSG00000288617.1</th><th scope=col>ENSG00000288621.1</th><th scope=col>ENSG00000288631.1</th><th scope=col>ENSG00000288637.1</th><th scope=col>ENSG00000288638.1</th><th scope=col>ENSG00000288642.1</th><th scope=col>sample_id</th><th scope=col>neutrophil_data</th></tr>\n",
       "\t<tr><th></th><th scope=col>&lt;chr&gt;</th><th scope=col>&lt;int&gt;</th><th scope=col>&lt;int&gt;</th><th scope=col>&lt;int&gt;</th><th scope=col>&lt;int&gt;</th><th scope=col>&lt;int&gt;</th><th scope=col>&lt;int&gt;</th><th scope=col>&lt;int&gt;</th><th scope=col>&lt;int&gt;</th><th scope=col>&lt;int&gt;</th><th scope=col>⋯</th><th scope=col>&lt;int&gt;</th><th scope=col>&lt;int&gt;</th><th scope=col>&lt;int&gt;</th><th scope=col>&lt;int&gt;</th><th scope=col>&lt;int&gt;</th><th scope=col>&lt;int&gt;</th><th scope=col>&lt;int&gt;</th><th scope=col>&lt;int&gt;</th><th scope=col>&lt;chr&gt;</th><th scope=col>&lt;int&gt;</th></tr>\n",
       "</thead>\n",
       "<tbody>\n",
       "\t<tr><th scope=row>1</th><td>k4_0_ccs_ccs       </td><td>0</td><td>1</td><td>0</td><td>0</td><td>14</td><td>0</td><td>0</td><td>0</td><td>1</td><td>⋯</td><td>0</td><td>0</td><td>0</td><td>0</td><td>0</td><td>0</td><td>0</td><td>0</td><td>k4   </td><td>1</td></tr>\n",
       "\t<tr><th scope=row>2</th><td>m14_3_acs_acs_noinf</td><td>0</td><td>0</td><td>1</td><td>0</td><td> 6</td><td>0</td><td>0</td><td>0</td><td>0</td><td>⋯</td><td>0</td><td>0</td><td>0</td><td>0</td><td>0</td><td>0</td><td>0</td><td>0</td><td>m14.3</td><td>1</td></tr>\n",
       "</tbody>\n",
       "</table>\n"
      ],
      "text/latex": [
       "A data.frame: 2 × 38149\n",
       "\\begin{tabular}{r|lllllllllllllllllllll}\n",
       "  & X & ENSG00000000003.15 & ENSG00000000419.13 & ENSG00000000457.14 & ENSG00000000460.17 & ENSG00000000938.13 & ENSG00000000971.16 & ENSG00000001036.14 & ENSG00000001084.13 & ENSG00000001167.14 & ⋯ & ENSG00000288612.1 & ENSG00000288615.1 & ENSG00000288617.1 & ENSG00000288621.1 & ENSG00000288631.1 & ENSG00000288637.1 & ENSG00000288638.1 & ENSG00000288642.1 & sample\\_id & neutrophil\\_data\\\\\n",
       "  & <chr> & <int> & <int> & <int> & <int> & <int> & <int> & <int> & <int> & <int> & ⋯ & <int> & <int> & <int> & <int> & <int> & <int> & <int> & <int> & <chr> & <int>\\\\\n",
       "\\hline\n",
       "\t1 & k4\\_0\\_ccs\\_ccs        & 0 & 1 & 0 & 0 & 14 & 0 & 0 & 0 & 1 & ⋯ & 0 & 0 & 0 & 0 & 0 & 0 & 0 & 0 & k4    & 1\\\\\n",
       "\t2 & m14\\_3\\_acs\\_acs\\_noinf & 0 & 0 & 1 & 0 &  6 & 0 & 0 & 0 & 0 & ⋯ & 0 & 0 & 0 & 0 & 0 & 0 & 0 & 0 & m14.3 & 1\\\\\n",
       "\\end{tabular}\n"
      ],
      "text/markdown": [
       "\n",
       "A data.frame: 2 × 38149\n",
       "\n",
       "| <!--/--> | X &lt;chr&gt; | ENSG00000000003.15 &lt;int&gt; | ENSG00000000419.13 &lt;int&gt; | ENSG00000000457.14 &lt;int&gt; | ENSG00000000460.17 &lt;int&gt; | ENSG00000000938.13 &lt;int&gt; | ENSG00000000971.16 &lt;int&gt; | ENSG00000001036.14 &lt;int&gt; | ENSG00000001084.13 &lt;int&gt; | ENSG00000001167.14 &lt;int&gt; | ⋯ ⋯ | ENSG00000288612.1 &lt;int&gt; | ENSG00000288615.1 &lt;int&gt; | ENSG00000288617.1 &lt;int&gt; | ENSG00000288621.1 &lt;int&gt; | ENSG00000288631.1 &lt;int&gt; | ENSG00000288637.1 &lt;int&gt; | ENSG00000288638.1 &lt;int&gt; | ENSG00000288642.1 &lt;int&gt; | sample_id &lt;chr&gt; | neutrophil_data &lt;int&gt; |\n",
       "|---|---|---|---|---|---|---|---|---|---|---|---|---|---|---|---|---|---|---|---|---|---|\n",
       "| 1 | k4_0_ccs_ccs        | 0 | 1 | 0 | 0 | 14 | 0 | 0 | 0 | 1 | ⋯ | 0 | 0 | 0 | 0 | 0 | 0 | 0 | 0 | k4    | 1 |\n",
       "| 2 | m14_3_acs_acs_noinf | 0 | 0 | 1 | 0 |  6 | 0 | 0 | 0 | 0 | ⋯ | 0 | 0 | 0 | 0 | 0 | 0 | 0 | 0 | m14.3 | 1 |\n",
       "\n"
      ],
      "text/plain": [
       "  X                   ENSG00000000003.15 ENSG00000000419.13 ENSG00000000457.14\n",
       "1 k4_0_ccs_ccs        0                  1                  0                 \n",
       "2 m14_3_acs_acs_noinf 0                  0                  1                 \n",
       "  ENSG00000000460.17 ENSG00000000938.13 ENSG00000000971.16 ENSG00000001036.14\n",
       "1 0                  14                 0                  0                 \n",
       "2 0                   6                 0                  0                 \n",
       "  ENSG00000001084.13 ENSG00000001167.14 ⋯ ENSG00000288612.1 ENSG00000288615.1\n",
       "1 0                  1                  ⋯ 0                 0                \n",
       "2 0                  0                  ⋯ 0                 0                \n",
       "  ENSG00000288617.1 ENSG00000288621.1 ENSG00000288631.1 ENSG00000288637.1\n",
       "1 0                 0                 0                 0                \n",
       "2 0                 0                 0                 0                \n",
       "  ENSG00000288638.1 ENSG00000288642.1 sample_id neutrophil_data\n",
       "1 0                 0                 k4        1              \n",
       "2 0                 0                 m14.3     1              "
      ]
     },
     "metadata": {},
     "output_type": "display_data"
    }
   ],
   "source": [
    "head(neutrophils,2)"
   ]
  },
  {
   "cell_type": "code",
   "execution_count": null,
   "id": "214bde2f-8cba-41da-b674-24abb4b3537c",
   "metadata": {},
   "outputs": [],
   "source": []
  },
  {
   "cell_type": "markdown",
   "id": "999afe56-2f55-4c9e-93f7-18e0fdc75f92",
   "metadata": {},
   "source": [
    "### Pre-Process"
   ]
  },
  {
   "cell_type": "markdown",
   "id": "98f9356b-37b2-462c-8734-4e9651d75492",
   "metadata": {
    "tags": []
   },
   "source": [
    "#### Adjust gene-names"
   ]
  },
  {
   "cell_type": "code",
   "execution_count": 175,
   "id": "04462cfe-317d-4316-9ce2-07a1c1719461",
   "metadata": {},
   "outputs": [],
   "source": [
    "rownames(neutrophils) = neutrophils$sample_id"
   ]
  },
  {
   "cell_type": "code",
   "execution_count": 176,
   "id": "0daff134-41d3-472c-bd63-5702c4ae31a8",
   "metadata": {},
   "outputs": [],
   "source": [
    "neutrophils$X = NULL"
   ]
  },
  {
   "cell_type": "code",
   "execution_count": 177,
   "id": "2a161465-3d29-451f-ad50-0121708924ce",
   "metadata": {},
   "outputs": [],
   "source": [
    "neutrophils$sample_id = NULL"
   ]
  },
  {
   "cell_type": "code",
   "execution_count": 178,
   "id": "4b93a08a-c837-4b92-995c-fc612cdea2f0",
   "metadata": {},
   "outputs": [],
   "source": [
    "neutrophils$neutrophil_data = NULL"
   ]
  },
  {
   "cell_type": "code",
   "execution_count": 179,
   "id": "2e7e7086-de1d-42dc-99b5-78d331f8068a",
   "metadata": {},
   "outputs": [
    {
     "data": {
      "text/html": [
       "<table class=\"dataframe\">\n",
       "<caption>A data.frame: 2 × 38146</caption>\n",
       "<thead>\n",
       "\t<tr><th></th><th scope=col>ENSG00000000003.15</th><th scope=col>ENSG00000000419.13</th><th scope=col>ENSG00000000457.14</th><th scope=col>ENSG00000000460.17</th><th scope=col>ENSG00000000938.13</th><th scope=col>ENSG00000000971.16</th><th scope=col>ENSG00000001036.14</th><th scope=col>ENSG00000001084.13</th><th scope=col>ENSG00000001167.14</th><th scope=col>ENSG00000001460.18</th><th scope=col>⋯</th><th scope=col>ENSG00000288607.1</th><th scope=col>ENSG00000288611.1</th><th scope=col>ENSG00000288612.1</th><th scope=col>ENSG00000288615.1</th><th scope=col>ENSG00000288617.1</th><th scope=col>ENSG00000288621.1</th><th scope=col>ENSG00000288631.1</th><th scope=col>ENSG00000288637.1</th><th scope=col>ENSG00000288638.1</th><th scope=col>ENSG00000288642.1</th></tr>\n",
       "\t<tr><th></th><th scope=col>&lt;int&gt;</th><th scope=col>&lt;int&gt;</th><th scope=col>&lt;int&gt;</th><th scope=col>&lt;int&gt;</th><th scope=col>&lt;int&gt;</th><th scope=col>&lt;int&gt;</th><th scope=col>&lt;int&gt;</th><th scope=col>&lt;int&gt;</th><th scope=col>&lt;int&gt;</th><th scope=col>&lt;int&gt;</th><th scope=col>⋯</th><th scope=col>&lt;int&gt;</th><th scope=col>&lt;int&gt;</th><th scope=col>&lt;int&gt;</th><th scope=col>&lt;int&gt;</th><th scope=col>&lt;int&gt;</th><th scope=col>&lt;int&gt;</th><th scope=col>&lt;int&gt;</th><th scope=col>&lt;int&gt;</th><th scope=col>&lt;int&gt;</th><th scope=col>&lt;int&gt;</th></tr>\n",
       "</thead>\n",
       "<tbody>\n",
       "\t<tr><th scope=row>k4</th><td>0</td><td>1</td><td>0</td><td>0</td><td>14</td><td>0</td><td>0</td><td>0</td><td>1</td><td>0</td><td>⋯</td><td>0</td><td>0</td><td>0</td><td>0</td><td>0</td><td>0</td><td>0</td><td>0</td><td>0</td><td>0</td></tr>\n",
       "\t<tr><th scope=row>m14.3</th><td>0</td><td>0</td><td>1</td><td>0</td><td> 6</td><td>0</td><td>0</td><td>0</td><td>0</td><td>0</td><td>⋯</td><td>0</td><td>0</td><td>0</td><td>0</td><td>0</td><td>0</td><td>0</td><td>0</td><td>0</td><td>0</td></tr>\n",
       "</tbody>\n",
       "</table>\n"
      ],
      "text/latex": [
       "A data.frame: 2 × 38146\n",
       "\\begin{tabular}{r|lllllllllllllllllllll}\n",
       "  & ENSG00000000003.15 & ENSG00000000419.13 & ENSG00000000457.14 & ENSG00000000460.17 & ENSG00000000938.13 & ENSG00000000971.16 & ENSG00000001036.14 & ENSG00000001084.13 & ENSG00000001167.14 & ENSG00000001460.18 & ⋯ & ENSG00000288607.1 & ENSG00000288611.1 & ENSG00000288612.1 & ENSG00000288615.1 & ENSG00000288617.1 & ENSG00000288621.1 & ENSG00000288631.1 & ENSG00000288637.1 & ENSG00000288638.1 & ENSG00000288642.1\\\\\n",
       "  & <int> & <int> & <int> & <int> & <int> & <int> & <int> & <int> & <int> & <int> & ⋯ & <int> & <int> & <int> & <int> & <int> & <int> & <int> & <int> & <int> & <int>\\\\\n",
       "\\hline\n",
       "\tk4 & 0 & 1 & 0 & 0 & 14 & 0 & 0 & 0 & 1 & 0 & ⋯ & 0 & 0 & 0 & 0 & 0 & 0 & 0 & 0 & 0 & 0\\\\\n",
       "\tm14.3 & 0 & 0 & 1 & 0 &  6 & 0 & 0 & 0 & 0 & 0 & ⋯ & 0 & 0 & 0 & 0 & 0 & 0 & 0 & 0 & 0 & 0\\\\\n",
       "\\end{tabular}\n"
      ],
      "text/markdown": [
       "\n",
       "A data.frame: 2 × 38146\n",
       "\n",
       "| <!--/--> | ENSG00000000003.15 &lt;int&gt; | ENSG00000000419.13 &lt;int&gt; | ENSG00000000457.14 &lt;int&gt; | ENSG00000000460.17 &lt;int&gt; | ENSG00000000938.13 &lt;int&gt; | ENSG00000000971.16 &lt;int&gt; | ENSG00000001036.14 &lt;int&gt; | ENSG00000001084.13 &lt;int&gt; | ENSG00000001167.14 &lt;int&gt; | ENSG00000001460.18 &lt;int&gt; | ⋯ ⋯ | ENSG00000288607.1 &lt;int&gt; | ENSG00000288611.1 &lt;int&gt; | ENSG00000288612.1 &lt;int&gt; | ENSG00000288615.1 &lt;int&gt; | ENSG00000288617.1 &lt;int&gt; | ENSG00000288621.1 &lt;int&gt; | ENSG00000288631.1 &lt;int&gt; | ENSG00000288637.1 &lt;int&gt; | ENSG00000288638.1 &lt;int&gt; | ENSG00000288642.1 &lt;int&gt; |\n",
       "|---|---|---|---|---|---|---|---|---|---|---|---|---|---|---|---|---|---|---|---|---|---|\n",
       "| k4 | 0 | 1 | 0 | 0 | 14 | 0 | 0 | 0 | 1 | 0 | ⋯ | 0 | 0 | 0 | 0 | 0 | 0 | 0 | 0 | 0 | 0 |\n",
       "| m14.3 | 0 | 0 | 1 | 0 |  6 | 0 | 0 | 0 | 0 | 0 | ⋯ | 0 | 0 | 0 | 0 | 0 | 0 | 0 | 0 | 0 | 0 |\n",
       "\n"
      ],
      "text/plain": [
       "      ENSG00000000003.15 ENSG00000000419.13 ENSG00000000457.14\n",
       "k4    0                  1                  0                 \n",
       "m14.3 0                  0                  1                 \n",
       "      ENSG00000000460.17 ENSG00000000938.13 ENSG00000000971.16\n",
       "k4    0                  14                 0                 \n",
       "m14.3 0                   6                 0                 \n",
       "      ENSG00000001036.14 ENSG00000001084.13 ENSG00000001167.14\n",
       "k4    0                  0                  1                 \n",
       "m14.3 0                  0                  0                 \n",
       "      ENSG00000001460.18 ⋯ ENSG00000288607.1 ENSG00000288611.1\n",
       "k4    0                  ⋯ 0                 0                \n",
       "m14.3 0                  ⋯ 0                 0                \n",
       "      ENSG00000288612.1 ENSG00000288615.1 ENSG00000288617.1 ENSG00000288621.1\n",
       "k4    0                 0                 0                 0                \n",
       "m14.3 0                 0                 0                 0                \n",
       "      ENSG00000288631.1 ENSG00000288637.1 ENSG00000288638.1 ENSG00000288642.1\n",
       "k4    0                 0                 0                 0                \n",
       "m14.3 0                 0                 0                 0                "
      ]
     },
     "metadata": {},
     "output_type": "display_data"
    }
   ],
   "source": [
    "head(neutrophils,2)"
   ]
  },
  {
   "cell_type": "code",
   "execution_count": 180,
   "id": "ab1fbc80-e3f7-4e0c-abc7-0b10fb486ca4",
   "metadata": {},
   "outputs": [
    {
     "data": {
      "text/plain": [
       "   Min. 1st Qu.  Median    Mean 3rd Qu.    Max. \n",
       "   1840   12677   19266   24080   27994  105324 "
      ]
     },
     "metadata": {},
     "output_type": "display_data"
    }
   ],
   "source": [
    "summary(rowSums(neutrophils))"
   ]
  },
  {
   "cell_type": "code",
   "execution_count": 181,
   "id": "1f349de9-bbfe-46cc-bf1f-f51ce64b5d84",
   "metadata": {},
   "outputs": [],
   "source": [
    "genes = colnames(neutrophils)[!is.na(str_extract(colnames(neutrophils), 'ENSG'))]"
   ]
  },
  {
   "cell_type": "code",
   "execution_count": 182,
   "id": "7a38a76a-afc0-49f5-8e57-7c316c6766d3",
   "metadata": {},
   "outputs": [
    {
     "data": {
      "text/html": [
       "38146"
      ],
      "text/latex": [
       "38146"
      ],
      "text/markdown": [
       "38146"
      ],
      "text/plain": [
       "[1] 38146"
      ]
     },
     "metadata": {},
     "output_type": "display_data"
    }
   ],
   "source": [
    "length(unique(genes))"
   ]
  },
  {
   "cell_type": "code",
   "execution_count": 183,
   "id": "f232a7fc-571a-422a-a014-7b7ed9693a1e",
   "metadata": {},
   "outputs": [
    {
     "data": {
      "text/html": [
       "38146"
      ],
      "text/latex": [
       "38146"
      ],
      "text/markdown": [
       "38146"
      ],
      "text/plain": [
       "[1] 38146"
      ]
     },
     "metadata": {},
     "output_type": "display_data"
    }
   ],
   "source": [
    "length(genes)"
   ]
  },
  {
   "cell_type": "code",
   "execution_count": 184,
   "id": "289f41b6-1c9b-47c7-9d42-912c8203b83e",
   "metadata": {},
   "outputs": [
    {
     "data": {
      "text/html": [
       "<style>\n",
       ".list-inline {list-style: none; margin:0; padding: 0}\n",
       ".list-inline>li {display: inline-block}\n",
       ".list-inline>li:not(:last-child)::after {content: \"\\00b7\"; padding: 0 .5ex}\n",
       "</style>\n",
       "<ol class=list-inline><li>'ENSG00000288617.1'</li><li>'ENSG00000288621.1'</li><li>'ENSG00000288631.1'</li><li>'ENSG00000288637.1'</li><li>'ENSG00000288638.1'</li><li>'ENSG00000288642.1'</li></ol>\n"
      ],
      "text/latex": [
       "\\begin{enumerate*}\n",
       "\\item 'ENSG00000288617.1'\n",
       "\\item 'ENSG00000288621.1'\n",
       "\\item 'ENSG00000288631.1'\n",
       "\\item 'ENSG00000288637.1'\n",
       "\\item 'ENSG00000288638.1'\n",
       "\\item 'ENSG00000288642.1'\n",
       "\\end{enumerate*}\n"
      ],
      "text/markdown": [
       "1. 'ENSG00000288617.1'\n",
       "2. 'ENSG00000288621.1'\n",
       "3. 'ENSG00000288631.1'\n",
       "4. 'ENSG00000288637.1'\n",
       "5. 'ENSG00000288638.1'\n",
       "6. 'ENSG00000288642.1'\n",
       "\n",
       "\n"
      ],
      "text/plain": [
       "[1] \"ENSG00000288617.1\" \"ENSG00000288621.1\" \"ENSG00000288631.1\"\n",
       "[4] \"ENSG00000288637.1\" \"ENSG00000288638.1\" \"ENSG00000288642.1\""
      ]
     },
     "metadata": {},
     "output_type": "display_data"
    }
   ],
   "source": [
    "tail(genes)"
   ]
  },
  {
   "cell_type": "code",
   "execution_count": 185,
   "id": "8b4510f4-4e81-41b3-a06f-214b2180fc7f",
   "metadata": {},
   "outputs": [],
   "source": [
    "genes = str_replace(genes, '\\\\..*', '') ## Adjust format for mapping"
   ]
  },
  {
   "cell_type": "code",
   "execution_count": 188,
   "id": "6043a90f-1e2d-496a-84f0-e102c02285d0",
   "metadata": {},
   "outputs": [],
   "source": [
    "genes = genes[! genes %in% names(table(genes)[table(genes) > 1])]"
   ]
  },
  {
   "cell_type": "code",
   "execution_count": 189,
   "id": "8aad9d3e-8c1d-4d47-8088-d8842af3819d",
   "metadata": {},
   "outputs": [
    {
     "data": {
      "text/html": [
       "38112"
      ],
      "text/latex": [
       "38112"
      ],
      "text/markdown": [
       "38112"
      ],
      "text/plain": [
       "[1] 38112"
      ]
     },
     "metadata": {},
     "output_type": "display_data"
    }
   ],
   "source": [
    "length(genes)"
   ]
  },
  {
   "cell_type": "code",
   "execution_count": 190,
   "id": "6ea42097-1f3f-4aa1-a826-7278f019990f",
   "metadata": {},
   "outputs": [
    {
     "data": {
      "text/html": [
       "38112"
      ],
      "text/latex": [
       "38112"
      ],
      "text/markdown": [
       "38112"
      ],
      "text/plain": [
       "[1] 38112"
      ]
     },
     "metadata": {},
     "output_type": "display_data"
    }
   ],
   "source": [
    "length(unique(genes))"
   ]
  },
  {
   "cell_type": "code",
   "execution_count": 191,
   "id": "3b282d64-69f3-439d-9f60-d3d86dc43558",
   "metadata": {},
   "outputs": [
    {
     "data": {
      "text/html": [
       "38112"
      ],
      "text/latex": [
       "38112"
      ],
      "text/markdown": [
       "38112"
      ],
      "text/plain": [
       "[1] 38112"
      ]
     },
     "metadata": {},
     "output_type": "display_data"
    }
   ],
   "source": [
    "length(unique(genes))"
   ]
  },
  {
   "cell_type": "code",
   "execution_count": 192,
   "id": "761870e2-08b4-4b30-bccc-c90d9b3a564f",
   "metadata": {},
   "outputs": [],
   "source": [
    "### Map genes to SYMBOL"
   ]
  },
  {
   "cell_type": "code",
   "execution_count": 193,
   "id": "b66a5359-4d1e-4361-a12c-fbc503f1c34f",
   "metadata": {},
   "outputs": [
    {
     "name": "stderr",
     "output_type": "stream",
     "text": [
      "'select()' returned 1:many mapping between keys and columns\n",
      "\n",
      "Warning message in bitr(genes, fromType = \"ENSEMBL\", toType = \"SYMBOL\", OrgDb = \"org.Hs.eg.db\"):\n",
      "“33.75% of input gene IDs are fail to map...”\n"
     ]
    }
   ],
   "source": [
    "genes_mapped = bitr(genes, fromType=\"ENSEMBL\", toType=\"SYMBOL\", OrgDb = 'org.Hs.eg.db') ### Map genes to SYMBOL"
   ]
  },
  {
   "cell_type": "code",
   "execution_count": 194,
   "id": "87a7972a-cd9e-49cb-9eb0-477df0ab6ee1",
   "metadata": {},
   "outputs": [
    {
     "data": {
      "text/html": [
       "<table class=\"dataframe\">\n",
       "<caption>A data.frame: 2 × 2</caption>\n",
       "<thead>\n",
       "\t<tr><th></th><th scope=col>ENSEMBL</th><th scope=col>SYMBOL</th></tr>\n",
       "\t<tr><th></th><th scope=col>&lt;chr&gt;</th><th scope=col>&lt;chr&gt;</th></tr>\n",
       "</thead>\n",
       "<tbody>\n",
       "\t<tr><th scope=row>1</th><td>ENSG00000000003</td><td>TSPAN6</td></tr>\n",
       "\t<tr><th scope=row>2</th><td>ENSG00000000419</td><td>DPM1  </td></tr>\n",
       "</tbody>\n",
       "</table>\n"
      ],
      "text/latex": [
       "A data.frame: 2 × 2\n",
       "\\begin{tabular}{r|ll}\n",
       "  & ENSEMBL & SYMBOL\\\\\n",
       "  & <chr> & <chr>\\\\\n",
       "\\hline\n",
       "\t1 & ENSG00000000003 & TSPAN6\\\\\n",
       "\t2 & ENSG00000000419 & DPM1  \\\\\n",
       "\\end{tabular}\n"
      ],
      "text/markdown": [
       "\n",
       "A data.frame: 2 × 2\n",
       "\n",
       "| <!--/--> | ENSEMBL &lt;chr&gt; | SYMBOL &lt;chr&gt; |\n",
       "|---|---|---|\n",
       "| 1 | ENSG00000000003 | TSPAN6 |\n",
       "| 2 | ENSG00000000419 | DPM1   |\n",
       "\n"
      ],
      "text/plain": [
       "  ENSEMBL         SYMBOL\n",
       "1 ENSG00000000003 TSPAN6\n",
       "2 ENSG00000000419 DPM1  "
      ]
     },
     "metadata": {},
     "output_type": "display_data"
    }
   ],
   "source": [
    "head(genes_mapped,2)"
   ]
  },
  {
   "cell_type": "code",
   "execution_count": 195,
   "id": "3e5f7cd9-c43f-4257-bddf-1a07bde7958a",
   "metadata": {},
   "outputs": [
    {
     "data": {
      "text/html": [
       "25443"
      ],
      "text/latex": [
       "25443"
      ],
      "text/markdown": [
       "25443"
      ],
      "text/plain": [
       "[1] 25443"
      ]
     },
     "metadata": {},
     "output_type": "display_data"
    }
   ],
   "source": [
    "nrow(genes_mapped)  # 25.338 genes that can be mapped to SYMBOL!"
   ]
  },
  {
   "cell_type": "code",
   "execution_count": 198,
   "id": "5c153de8-e475-4d69-b895-175c444a6dc0",
   "metadata": {},
   "outputs": [],
   "source": [
    "### Adjust neutrophil gene names"
   ]
  },
  {
   "cell_type": "code",
   "execution_count": 199,
   "id": "5ce534f6-134a-4ab2-ba24-332c30fe8cc7",
   "metadata": {},
   "outputs": [
    {
     "data": {
      "text/html": [
       "<table class=\"dataframe\">\n",
       "<caption>A data.frame: 2 × 38146</caption>\n",
       "<thead>\n",
       "\t<tr><th></th><th scope=col>ENSG00000000003.15</th><th scope=col>ENSG00000000419.13</th><th scope=col>ENSG00000000457.14</th><th scope=col>ENSG00000000460.17</th><th scope=col>ENSG00000000938.13</th><th scope=col>ENSG00000000971.16</th><th scope=col>ENSG00000001036.14</th><th scope=col>ENSG00000001084.13</th><th scope=col>ENSG00000001167.14</th><th scope=col>ENSG00000001460.18</th><th scope=col>⋯</th><th scope=col>ENSG00000288607.1</th><th scope=col>ENSG00000288611.1</th><th scope=col>ENSG00000288612.1</th><th scope=col>ENSG00000288615.1</th><th scope=col>ENSG00000288617.1</th><th scope=col>ENSG00000288621.1</th><th scope=col>ENSG00000288631.1</th><th scope=col>ENSG00000288637.1</th><th scope=col>ENSG00000288638.1</th><th scope=col>ENSG00000288642.1</th></tr>\n",
       "\t<tr><th></th><th scope=col>&lt;int&gt;</th><th scope=col>&lt;int&gt;</th><th scope=col>&lt;int&gt;</th><th scope=col>&lt;int&gt;</th><th scope=col>&lt;int&gt;</th><th scope=col>&lt;int&gt;</th><th scope=col>&lt;int&gt;</th><th scope=col>&lt;int&gt;</th><th scope=col>&lt;int&gt;</th><th scope=col>&lt;int&gt;</th><th scope=col>⋯</th><th scope=col>&lt;int&gt;</th><th scope=col>&lt;int&gt;</th><th scope=col>&lt;int&gt;</th><th scope=col>&lt;int&gt;</th><th scope=col>&lt;int&gt;</th><th scope=col>&lt;int&gt;</th><th scope=col>&lt;int&gt;</th><th scope=col>&lt;int&gt;</th><th scope=col>&lt;int&gt;</th><th scope=col>&lt;int&gt;</th></tr>\n",
       "</thead>\n",
       "<tbody>\n",
       "\t<tr><th scope=row>k4</th><td>0</td><td>1</td><td>0</td><td>0</td><td>14</td><td>0</td><td>0</td><td>0</td><td>1</td><td>0</td><td>⋯</td><td>0</td><td>0</td><td>0</td><td>0</td><td>0</td><td>0</td><td>0</td><td>0</td><td>0</td><td>0</td></tr>\n",
       "\t<tr><th scope=row>m14.3</th><td>0</td><td>0</td><td>1</td><td>0</td><td> 6</td><td>0</td><td>0</td><td>0</td><td>0</td><td>0</td><td>⋯</td><td>0</td><td>0</td><td>0</td><td>0</td><td>0</td><td>0</td><td>0</td><td>0</td><td>0</td><td>0</td></tr>\n",
       "</tbody>\n",
       "</table>\n"
      ],
      "text/latex": [
       "A data.frame: 2 × 38146\n",
       "\\begin{tabular}{r|lllllllllllllllllllll}\n",
       "  & ENSG00000000003.15 & ENSG00000000419.13 & ENSG00000000457.14 & ENSG00000000460.17 & ENSG00000000938.13 & ENSG00000000971.16 & ENSG00000001036.14 & ENSG00000001084.13 & ENSG00000001167.14 & ENSG00000001460.18 & ⋯ & ENSG00000288607.1 & ENSG00000288611.1 & ENSG00000288612.1 & ENSG00000288615.1 & ENSG00000288617.1 & ENSG00000288621.1 & ENSG00000288631.1 & ENSG00000288637.1 & ENSG00000288638.1 & ENSG00000288642.1\\\\\n",
       "  & <int> & <int> & <int> & <int> & <int> & <int> & <int> & <int> & <int> & <int> & ⋯ & <int> & <int> & <int> & <int> & <int> & <int> & <int> & <int> & <int> & <int>\\\\\n",
       "\\hline\n",
       "\tk4 & 0 & 1 & 0 & 0 & 14 & 0 & 0 & 0 & 1 & 0 & ⋯ & 0 & 0 & 0 & 0 & 0 & 0 & 0 & 0 & 0 & 0\\\\\n",
       "\tm14.3 & 0 & 0 & 1 & 0 &  6 & 0 & 0 & 0 & 0 & 0 & ⋯ & 0 & 0 & 0 & 0 & 0 & 0 & 0 & 0 & 0 & 0\\\\\n",
       "\\end{tabular}\n"
      ],
      "text/markdown": [
       "\n",
       "A data.frame: 2 × 38146\n",
       "\n",
       "| <!--/--> | ENSG00000000003.15 &lt;int&gt; | ENSG00000000419.13 &lt;int&gt; | ENSG00000000457.14 &lt;int&gt; | ENSG00000000460.17 &lt;int&gt; | ENSG00000000938.13 &lt;int&gt; | ENSG00000000971.16 &lt;int&gt; | ENSG00000001036.14 &lt;int&gt; | ENSG00000001084.13 &lt;int&gt; | ENSG00000001167.14 &lt;int&gt; | ENSG00000001460.18 &lt;int&gt; | ⋯ ⋯ | ENSG00000288607.1 &lt;int&gt; | ENSG00000288611.1 &lt;int&gt; | ENSG00000288612.1 &lt;int&gt; | ENSG00000288615.1 &lt;int&gt; | ENSG00000288617.1 &lt;int&gt; | ENSG00000288621.1 &lt;int&gt; | ENSG00000288631.1 &lt;int&gt; | ENSG00000288637.1 &lt;int&gt; | ENSG00000288638.1 &lt;int&gt; | ENSG00000288642.1 &lt;int&gt; |\n",
       "|---|---|---|---|---|---|---|---|---|---|---|---|---|---|---|---|---|---|---|---|---|---|\n",
       "| k4 | 0 | 1 | 0 | 0 | 14 | 0 | 0 | 0 | 1 | 0 | ⋯ | 0 | 0 | 0 | 0 | 0 | 0 | 0 | 0 | 0 | 0 |\n",
       "| m14.3 | 0 | 0 | 1 | 0 |  6 | 0 | 0 | 0 | 0 | 0 | ⋯ | 0 | 0 | 0 | 0 | 0 | 0 | 0 | 0 | 0 | 0 |\n",
       "\n"
      ],
      "text/plain": [
       "      ENSG00000000003.15 ENSG00000000419.13 ENSG00000000457.14\n",
       "k4    0                  1                  0                 \n",
       "m14.3 0                  0                  1                 \n",
       "      ENSG00000000460.17 ENSG00000000938.13 ENSG00000000971.16\n",
       "k4    0                  14                 0                 \n",
       "m14.3 0                   6                 0                 \n",
       "      ENSG00000001036.14 ENSG00000001084.13 ENSG00000001167.14\n",
       "k4    0                  0                  1                 \n",
       "m14.3 0                  0                  0                 \n",
       "      ENSG00000001460.18 ⋯ ENSG00000288607.1 ENSG00000288611.1\n",
       "k4    0                  ⋯ 0                 0                \n",
       "m14.3 0                  ⋯ 0                 0                \n",
       "      ENSG00000288612.1 ENSG00000288615.1 ENSG00000288617.1 ENSG00000288621.1\n",
       "k4    0                 0                 0                 0                \n",
       "m14.3 0                 0                 0                 0                \n",
       "      ENSG00000288631.1 ENSG00000288637.1 ENSG00000288638.1 ENSG00000288642.1\n",
       "k4    0                 0                 0                 0                \n",
       "m14.3 0                 0                 0                 0                "
      ]
     },
     "metadata": {},
     "output_type": "display_data"
    }
   ],
   "source": [
    "head(neutrophils,2)"
   ]
  },
  {
   "cell_type": "code",
   "execution_count": 200,
   "id": "e367f565-9fd4-437e-ae2f-79a9b596369c",
   "metadata": {},
   "outputs": [],
   "source": [
    "neutrophils$neutrophil_data = NULL"
   ]
  },
  {
   "cell_type": "code",
   "execution_count": 201,
   "id": "68a8524e-bbe1-44a1-ac52-db4a906e5ca1",
   "metadata": {},
   "outputs": [],
   "source": [
    "neutrophils$sample_id = NULL"
   ]
  },
  {
   "cell_type": "code",
   "execution_count": 202,
   "id": "2ca2a3c0-c114-4589-ba28-df281f79b1bb",
   "metadata": {},
   "outputs": [],
   "source": [
    "neutrophils = data.frame(t(neutrophils))"
   ]
  },
  {
   "cell_type": "code",
   "execution_count": 203,
   "id": "e1168799-0c2a-4462-bb04-e8661fef6746",
   "metadata": {},
   "outputs": [
    {
     "data": {
      "text/html": [
       "<table class=\"dataframe\">\n",
       "<caption>A data.frame: 2 × 121</caption>\n",
       "<thead>\n",
       "\t<tr><th></th><th scope=col>k4</th><th scope=col>m14.3</th><th scope=col>m26.2</th><th scope=col>m14.4</th><th scope=col>m3.3</th><th scope=col>k1</th><th scope=col>k2</th><th scope=col>m24.4</th><th scope=col>m25.2</th><th scope=col>m21.1</th><th scope=col>⋯</th><th scope=col>m20.3</th><th scope=col>m10.2</th><th scope=col>m14.1</th><th scope=col>m24.1</th><th scope=col>m13.2</th><th scope=col>k7</th><th scope=col>m18.3</th><th scope=col>k26</th><th scope=col>m4.3</th><th scope=col>k9</th></tr>\n",
       "\t<tr><th></th><th scope=col>&lt;int&gt;</th><th scope=col>&lt;int&gt;</th><th scope=col>&lt;int&gt;</th><th scope=col>&lt;int&gt;</th><th scope=col>&lt;int&gt;</th><th scope=col>&lt;int&gt;</th><th scope=col>&lt;int&gt;</th><th scope=col>&lt;int&gt;</th><th scope=col>&lt;int&gt;</th><th scope=col>&lt;int&gt;</th><th scope=col>⋯</th><th scope=col>&lt;int&gt;</th><th scope=col>&lt;int&gt;</th><th scope=col>&lt;int&gt;</th><th scope=col>&lt;int&gt;</th><th scope=col>&lt;int&gt;</th><th scope=col>&lt;int&gt;</th><th scope=col>&lt;int&gt;</th><th scope=col>&lt;int&gt;</th><th scope=col>&lt;int&gt;</th><th scope=col>&lt;int&gt;</th></tr>\n",
       "</thead>\n",
       "<tbody>\n",
       "\t<tr><th scope=row>ENSG00000000003.15</th><td>0</td><td>0</td><td>0</td><td>0</td><td>1</td><td>0</td><td>0</td><td>0</td><td>0</td><td>0</td><td>⋯</td><td>0</td><td>0</td><td>0</td><td>0</td><td>0</td><td>0</td><td>0</td><td>0</td><td>0</td><td>0</td></tr>\n",
       "\t<tr><th scope=row>ENSG00000000419.13</th><td>1</td><td>0</td><td>1</td><td>0</td><td>1</td><td>0</td><td>1</td><td>1</td><td>0</td><td>3</td><td>⋯</td><td>0</td><td>2</td><td>0</td><td>2</td><td>0</td><td>1</td><td>0</td><td>1</td><td>0</td><td>0</td></tr>\n",
       "</tbody>\n",
       "</table>\n"
      ],
      "text/latex": [
       "A data.frame: 2 × 121\n",
       "\\begin{tabular}{r|lllllllllllllllllllll}\n",
       "  & k4 & m14.3 & m26.2 & m14.4 & m3.3 & k1 & k2 & m24.4 & m25.2 & m21.1 & ⋯ & m20.3 & m10.2 & m14.1 & m24.1 & m13.2 & k7 & m18.3 & k26 & m4.3 & k9\\\\\n",
       "  & <int> & <int> & <int> & <int> & <int> & <int> & <int> & <int> & <int> & <int> & ⋯ & <int> & <int> & <int> & <int> & <int> & <int> & <int> & <int> & <int> & <int>\\\\\n",
       "\\hline\n",
       "\tENSG00000000003.15 & 0 & 0 & 0 & 0 & 1 & 0 & 0 & 0 & 0 & 0 & ⋯ & 0 & 0 & 0 & 0 & 0 & 0 & 0 & 0 & 0 & 0\\\\\n",
       "\tENSG00000000419.13 & 1 & 0 & 1 & 0 & 1 & 0 & 1 & 1 & 0 & 3 & ⋯ & 0 & 2 & 0 & 2 & 0 & 1 & 0 & 1 & 0 & 0\\\\\n",
       "\\end{tabular}\n"
      ],
      "text/markdown": [
       "\n",
       "A data.frame: 2 × 121\n",
       "\n",
       "| <!--/--> | k4 &lt;int&gt; | m14.3 &lt;int&gt; | m26.2 &lt;int&gt; | m14.4 &lt;int&gt; | m3.3 &lt;int&gt; | k1 &lt;int&gt; | k2 &lt;int&gt; | m24.4 &lt;int&gt; | m25.2 &lt;int&gt; | m21.1 &lt;int&gt; | ⋯ ⋯ | m20.3 &lt;int&gt; | m10.2 &lt;int&gt; | m14.1 &lt;int&gt; | m24.1 &lt;int&gt; | m13.2 &lt;int&gt; | k7 &lt;int&gt; | m18.3 &lt;int&gt; | k26 &lt;int&gt; | m4.3 &lt;int&gt; | k9 &lt;int&gt; |\n",
       "|---|---|---|---|---|---|---|---|---|---|---|---|---|---|---|---|---|---|---|---|---|---|\n",
       "| ENSG00000000003.15 | 0 | 0 | 0 | 0 | 1 | 0 | 0 | 0 | 0 | 0 | ⋯ | 0 | 0 | 0 | 0 | 0 | 0 | 0 | 0 | 0 | 0 |\n",
       "| ENSG00000000419.13 | 1 | 0 | 1 | 0 | 1 | 0 | 1 | 1 | 0 | 3 | ⋯ | 0 | 2 | 0 | 2 | 0 | 1 | 0 | 1 | 0 | 0 |\n",
       "\n"
      ],
      "text/plain": [
       "                   k4 m14.3 m26.2 m14.4 m3.3 k1 k2 m24.4 m25.2 m21.1 ⋯ m20.3\n",
       "ENSG00000000003.15 0  0     0     0     1    0  0  0     0     0     ⋯ 0    \n",
       "ENSG00000000419.13 1  0     1     0     1    0  1  1     0     3     ⋯ 0    \n",
       "                   m10.2 m14.1 m24.1 m13.2 k7 m18.3 k26 m4.3 k9\n",
       "ENSG00000000003.15 0     0     0     0     0  0     0   0    0 \n",
       "ENSG00000000419.13 2     0     2     0     1  0     1   0    0 "
      ]
     },
     "metadata": {},
     "output_type": "display_data"
    }
   ],
   "source": [
    "head(neutrophils,2)"
   ]
  },
  {
   "cell_type": "code",
   "execution_count": 204,
   "id": "885b985e-e730-4b35-b6d1-494909426d81",
   "metadata": {},
   "outputs": [],
   "source": [
    "neutrophils$gene = rownames(neutrophils)"
   ]
  },
  {
   "cell_type": "code",
   "execution_count": 205,
   "id": "ae509ff1-5c95-47b3-a4dc-455cb66fb1f0",
   "metadata": {},
   "outputs": [],
   "source": [
    "neutrophils$gene = str_replace(neutrophils$gene, '\\\\..*', '')"
   ]
  },
  {
   "cell_type": "code",
   "execution_count": 206,
   "id": "95dc75e6-cb42-41a4-939c-864bc715c896",
   "metadata": {},
   "outputs": [
    {
     "data": {
      "text/html": [
       "<table class=\"dataframe\">\n",
       "<caption>A data.frame: 2 × 2</caption>\n",
       "<thead>\n",
       "\t<tr><th></th><th scope=col>ENSEMBL</th><th scope=col>SYMBOL</th></tr>\n",
       "\t<tr><th></th><th scope=col>&lt;chr&gt;</th><th scope=col>&lt;chr&gt;</th></tr>\n",
       "</thead>\n",
       "<tbody>\n",
       "\t<tr><th scope=row>1</th><td>ENSG00000000003</td><td>TSPAN6</td></tr>\n",
       "\t<tr><th scope=row>2</th><td>ENSG00000000419</td><td>DPM1  </td></tr>\n",
       "</tbody>\n",
       "</table>\n"
      ],
      "text/latex": [
       "A data.frame: 2 × 2\n",
       "\\begin{tabular}{r|ll}\n",
       "  & ENSEMBL & SYMBOL\\\\\n",
       "  & <chr> & <chr>\\\\\n",
       "\\hline\n",
       "\t1 & ENSG00000000003 & TSPAN6\\\\\n",
       "\t2 & ENSG00000000419 & DPM1  \\\\\n",
       "\\end{tabular}\n"
      ],
      "text/markdown": [
       "\n",
       "A data.frame: 2 × 2\n",
       "\n",
       "| <!--/--> | ENSEMBL &lt;chr&gt; | SYMBOL &lt;chr&gt; |\n",
       "|---|---|---|\n",
       "| 1 | ENSG00000000003 | TSPAN6 |\n",
       "| 2 | ENSG00000000419 | DPM1   |\n",
       "\n"
      ],
      "text/plain": [
       "  ENSEMBL         SYMBOL\n",
       "1 ENSG00000000003 TSPAN6\n",
       "2 ENSG00000000419 DPM1  "
      ]
     },
     "metadata": {},
     "output_type": "display_data"
    }
   ],
   "source": [
    "head(genes_mapped, 2)"
   ]
  },
  {
   "cell_type": "code",
   "execution_count": 207,
   "id": "0608c06a-f150-4155-b3d4-cc4fe972227e",
   "metadata": {},
   "outputs": [],
   "source": [
    "neutrophils = merge(neutrophils, genes_mapped, by.x = 'gene', by.y = 'ENSEMBL')"
   ]
  },
  {
   "cell_type": "code",
   "execution_count": 208,
   "id": "527a888d-b4e4-444a-ad15-3ff7ecffad2f",
   "metadata": {},
   "outputs": [
    {
     "data": {
      "text/html": [
       "25443"
      ],
      "text/latex": [
       "25443"
      ],
      "text/markdown": [
       "25443"
      ],
      "text/plain": [
       "[1] 25443"
      ]
     },
     "metadata": {},
     "output_type": "display_data"
    }
   ],
   "source": [
    "nrow(neutrophils)"
   ]
  },
  {
   "cell_type": "code",
   "execution_count": 209,
   "id": "ff5a4849-e5c8-455d-a532-b42665315c28",
   "metadata": {},
   "outputs": [
    {
     "name": "stderr",
     "output_type": "stream",
     "text": [
      "Warning message:\n",
      "“\u001b[1m\u001b[22mThere was 1 warning in `summarise()`.\n",
      "\u001b[1m\u001b[22m\u001b[36mℹ\u001b[39m In argument: `across(-gene, sum, na.rm = TRUE)`.\n",
      "\u001b[36mℹ\u001b[39m In group 1: `SYMBOL = \"A1BG\"`.\n",
      "Caused by warning:\n",
      "\u001b[1m\u001b[22m\u001b[33m!\u001b[39m The `...` argument of `across()` is deprecated as of dplyr 1.1.0.\n",
      "Supply arguments directly to `.fns` through an anonymous function instead.\n",
      "\n",
      "  # Previously\n",
      "  across(a:b, mean, na.rm = TRUE)\n",
      "\n",
      "  # Now\n",
      "  across(a:b, \\(x) mean(x, na.rm = TRUE))”\n"
     ]
    }
   ],
   "source": [
    "neutrophils = neutrophils %>% group_by(SYMBOL) %>% summarise(across(-gene, sum, na.rm = TRUE))"
   ]
  },
  {
   "cell_type": "code",
   "execution_count": 210,
   "id": "b523ab51-ea5a-4885-8ca4-e20d0278ff3a",
   "metadata": {},
   "outputs": [],
   "source": [
    "neutrophils = data.frame(neutrophils)"
   ]
  },
  {
   "cell_type": "code",
   "execution_count": 211,
   "id": "41c261bf-44d0-4a1a-afb1-397e665ff3ea",
   "metadata": {},
   "outputs": [
    {
     "data": {
      "text/html": [
       "25378"
      ],
      "text/latex": [
       "25378"
      ],
      "text/markdown": [
       "25378"
      ],
      "text/plain": [
       "[1] 25378"
      ]
     },
     "metadata": {},
     "output_type": "display_data"
    }
   ],
   "source": [
    "nrow(neutrophils)"
   ]
  },
  {
   "cell_type": "code",
   "execution_count": 212,
   "id": "5986c9b4-fd77-48bd-8a0f-274af91a547c",
   "metadata": {},
   "outputs": [],
   "source": [
    "rownames(neutrophils) = neutrophils$SYMBOL"
   ]
  },
  {
   "cell_type": "code",
   "execution_count": 213,
   "id": "c2100f56-b077-4246-9ece-0f471c370613",
   "metadata": {},
   "outputs": [],
   "source": [
    "neutrophils$SYMBOL = NULL"
   ]
  },
  {
   "cell_type": "code",
   "execution_count": 214,
   "id": "f6b1db56-6317-443d-99a4-31609cded4fb",
   "metadata": {},
   "outputs": [],
   "source": [
    "neutrophils = data.frame(t(neutrophils))"
   ]
  },
  {
   "cell_type": "code",
   "execution_count": 215,
   "id": "a59b00db-37c6-4c49-bbee-7559c4dda94e",
   "metadata": {},
   "outputs": [],
   "source": [
    "neutrophils$sample_id = rownames(neutrophils)"
   ]
  },
  {
   "cell_type": "code",
   "execution_count": 216,
   "id": "7576c0c0-3ae2-4a64-af1a-fdc24cee0fc6",
   "metadata": {},
   "outputs": [],
   "source": [
    "neutrophils$sample_id = NULL"
   ]
  },
  {
   "cell_type": "code",
   "execution_count": 217,
   "id": "b095770c-8dc0-4cae-bec9-daaa2296446f",
   "metadata": {},
   "outputs": [
    {
     "data": {
      "text/html": [
       "<table class=\"dataframe\">\n",
       "<caption>A data.frame: 2 × 25378</caption>\n",
       "<thead>\n",
       "\t<tr><th></th><th scope=col>A1BG</th><th scope=col>A1BG.AS1</th><th scope=col>A1CF</th><th scope=col>A2M</th><th scope=col>A2M.AS1</th><th scope=col>A2ML1</th><th scope=col>A2MP1</th><th scope=col>A3GALT2</th><th scope=col>A4GALT</th><th scope=col>A4GNT</th><th scope=col>⋯</th><th scope=col>ZWINT</th><th scope=col>ZXDA</th><th scope=col>ZXDB</th><th scope=col>ZXDC</th><th scope=col>ZYG11A</th><th scope=col>ZYG11B</th><th scope=col>ZYX</th><th scope=col>ZYXP1</th><th scope=col>ZZEF1</th><th scope=col>ZZZ3</th></tr>\n",
       "\t<tr><th></th><th scope=col>&lt;int&gt;</th><th scope=col>&lt;int&gt;</th><th scope=col>&lt;int&gt;</th><th scope=col>&lt;int&gt;</th><th scope=col>&lt;int&gt;</th><th scope=col>&lt;int&gt;</th><th scope=col>&lt;int&gt;</th><th scope=col>&lt;int&gt;</th><th scope=col>&lt;int&gt;</th><th scope=col>&lt;int&gt;</th><th scope=col>⋯</th><th scope=col>&lt;int&gt;</th><th scope=col>&lt;int&gt;</th><th scope=col>&lt;int&gt;</th><th scope=col>&lt;int&gt;</th><th scope=col>&lt;int&gt;</th><th scope=col>&lt;int&gt;</th><th scope=col>&lt;int&gt;</th><th scope=col>&lt;int&gt;</th><th scope=col>&lt;int&gt;</th><th scope=col>&lt;int&gt;</th></tr>\n",
       "</thead>\n",
       "<tbody>\n",
       "\t<tr><th scope=row>k4</th><td>0</td><td>0</td><td>0</td><td>0</td><td>0</td><td>0</td><td>0</td><td>0</td><td>0</td><td>0</td><td>⋯</td><td>0</td><td>0</td><td>0</td><td>1</td><td>0</td><td>0</td><td> 9</td><td>0</td><td>0</td><td>0</td></tr>\n",
       "\t<tr><th scope=row>m14.3</th><td>0</td><td>0</td><td>0</td><td>0</td><td>0</td><td>0</td><td>0</td><td>0</td><td>0</td><td>0</td><td>⋯</td><td>0</td><td>0</td><td>0</td><td>0</td><td>0</td><td>2</td><td>13</td><td>0</td><td>0</td><td>0</td></tr>\n",
       "</tbody>\n",
       "</table>\n"
      ],
      "text/latex": [
       "A data.frame: 2 × 25378\n",
       "\\begin{tabular}{r|lllllllllllllllllllll}\n",
       "  & A1BG & A1BG.AS1 & A1CF & A2M & A2M.AS1 & A2ML1 & A2MP1 & A3GALT2 & A4GALT & A4GNT & ⋯ & ZWINT & ZXDA & ZXDB & ZXDC & ZYG11A & ZYG11B & ZYX & ZYXP1 & ZZEF1 & ZZZ3\\\\\n",
       "  & <int> & <int> & <int> & <int> & <int> & <int> & <int> & <int> & <int> & <int> & ⋯ & <int> & <int> & <int> & <int> & <int> & <int> & <int> & <int> & <int> & <int>\\\\\n",
       "\\hline\n",
       "\tk4 & 0 & 0 & 0 & 0 & 0 & 0 & 0 & 0 & 0 & 0 & ⋯ & 0 & 0 & 0 & 1 & 0 & 0 &  9 & 0 & 0 & 0\\\\\n",
       "\tm14.3 & 0 & 0 & 0 & 0 & 0 & 0 & 0 & 0 & 0 & 0 & ⋯ & 0 & 0 & 0 & 0 & 0 & 2 & 13 & 0 & 0 & 0\\\\\n",
       "\\end{tabular}\n"
      ],
      "text/markdown": [
       "\n",
       "A data.frame: 2 × 25378\n",
       "\n",
       "| <!--/--> | A1BG &lt;int&gt; | A1BG.AS1 &lt;int&gt; | A1CF &lt;int&gt; | A2M &lt;int&gt; | A2M.AS1 &lt;int&gt; | A2ML1 &lt;int&gt; | A2MP1 &lt;int&gt; | A3GALT2 &lt;int&gt; | A4GALT &lt;int&gt; | A4GNT &lt;int&gt; | ⋯ ⋯ | ZWINT &lt;int&gt; | ZXDA &lt;int&gt; | ZXDB &lt;int&gt; | ZXDC &lt;int&gt; | ZYG11A &lt;int&gt; | ZYG11B &lt;int&gt; | ZYX &lt;int&gt; | ZYXP1 &lt;int&gt; | ZZEF1 &lt;int&gt; | ZZZ3 &lt;int&gt; |\n",
       "|---|---|---|---|---|---|---|---|---|---|---|---|---|---|---|---|---|---|---|---|---|---|\n",
       "| k4 | 0 | 0 | 0 | 0 | 0 | 0 | 0 | 0 | 0 | 0 | ⋯ | 0 | 0 | 0 | 1 | 0 | 0 |  9 | 0 | 0 | 0 |\n",
       "| m14.3 | 0 | 0 | 0 | 0 | 0 | 0 | 0 | 0 | 0 | 0 | ⋯ | 0 | 0 | 0 | 0 | 0 | 2 | 13 | 0 | 0 | 0 |\n",
       "\n"
      ],
      "text/plain": [
       "      A1BG A1BG.AS1 A1CF A2M A2M.AS1 A2ML1 A2MP1 A3GALT2 A4GALT A4GNT ⋯ ZWINT\n",
       "k4    0    0        0    0   0       0     0     0       0      0     ⋯ 0    \n",
       "m14.3 0    0        0    0   0       0     0     0       0      0     ⋯ 0    \n",
       "      ZXDA ZXDB ZXDC ZYG11A ZYG11B ZYX ZYXP1 ZZEF1 ZZZ3\n",
       "k4    0    0    1    0      0       9  0     0     0   \n",
       "m14.3 0    0    0    0      2      13  0     0     0   "
      ]
     },
     "metadata": {},
     "output_type": "display_data"
    }
   ],
   "source": [
    "head(neutrophils,2)"
   ]
  },
  {
   "cell_type": "code",
   "execution_count": 218,
   "id": "38975607-5df2-4882-8439-d998faa46ccb",
   "metadata": {},
   "outputs": [],
   "source": [
    "neutrophil_names = colnames(neutrophils)"
   ]
  },
  {
   "cell_type": "code",
   "execution_count": 219,
   "id": "68ea6e7c-016f-4d2b-b0d8-ca4fac53444a",
   "metadata": {},
   "outputs": [],
   "source": [
    "neutrophil_evaluation =  neutrophils"
   ]
  },
  {
   "cell_type": "code",
   "execution_count": 220,
   "id": "aaceb7ce-a9ce-48fd-b91a-6e03ff278a86",
   "metadata": {},
   "outputs": [],
   "source": [
    "#colMeans(neutrophils)"
   ]
  },
  {
   "cell_type": "markdown",
   "id": "ef5ec1a4-0eeb-4543-873e-3096642fd2c4",
   "metadata": {},
   "source": [
    "#### Filter out ribosomal and mitochondrial genes"
   ]
  },
  {
   "cell_type": "code",
   "execution_count": 221,
   "id": "7af638ea-c562-4993-9c6e-b2cadf2083dd",
   "metadata": {},
   "outputs": [
    {
     "data": {
      "text/html": [
       "<table class=\"dataframe\">\n",
       "<caption>A data.frame: 2 × 25378</caption>\n",
       "<thead>\n",
       "\t<tr><th></th><th scope=col>A1BG</th><th scope=col>A1BG.AS1</th><th scope=col>A1CF</th><th scope=col>A2M</th><th scope=col>A2M.AS1</th><th scope=col>A2ML1</th><th scope=col>A2MP1</th><th scope=col>A3GALT2</th><th scope=col>A4GALT</th><th scope=col>A4GNT</th><th scope=col>⋯</th><th scope=col>ZWINT</th><th scope=col>ZXDA</th><th scope=col>ZXDB</th><th scope=col>ZXDC</th><th scope=col>ZYG11A</th><th scope=col>ZYG11B</th><th scope=col>ZYX</th><th scope=col>ZYXP1</th><th scope=col>ZZEF1</th><th scope=col>ZZZ3</th></tr>\n",
       "\t<tr><th></th><th scope=col>&lt;int&gt;</th><th scope=col>&lt;int&gt;</th><th scope=col>&lt;int&gt;</th><th scope=col>&lt;int&gt;</th><th scope=col>&lt;int&gt;</th><th scope=col>&lt;int&gt;</th><th scope=col>&lt;int&gt;</th><th scope=col>&lt;int&gt;</th><th scope=col>&lt;int&gt;</th><th scope=col>&lt;int&gt;</th><th scope=col>⋯</th><th scope=col>&lt;int&gt;</th><th scope=col>&lt;int&gt;</th><th scope=col>&lt;int&gt;</th><th scope=col>&lt;int&gt;</th><th scope=col>&lt;int&gt;</th><th scope=col>&lt;int&gt;</th><th scope=col>&lt;int&gt;</th><th scope=col>&lt;int&gt;</th><th scope=col>&lt;int&gt;</th><th scope=col>&lt;int&gt;</th></tr>\n",
       "</thead>\n",
       "<tbody>\n",
       "\t<tr><th scope=row>k4</th><td>0</td><td>0</td><td>0</td><td>0</td><td>0</td><td>0</td><td>0</td><td>0</td><td>0</td><td>0</td><td>⋯</td><td>0</td><td>0</td><td>0</td><td>1</td><td>0</td><td>0</td><td> 9</td><td>0</td><td>0</td><td>0</td></tr>\n",
       "\t<tr><th scope=row>m14.3</th><td>0</td><td>0</td><td>0</td><td>0</td><td>0</td><td>0</td><td>0</td><td>0</td><td>0</td><td>0</td><td>⋯</td><td>0</td><td>0</td><td>0</td><td>0</td><td>0</td><td>2</td><td>13</td><td>0</td><td>0</td><td>0</td></tr>\n",
       "</tbody>\n",
       "</table>\n"
      ],
      "text/latex": [
       "A data.frame: 2 × 25378\n",
       "\\begin{tabular}{r|lllllllllllllllllllll}\n",
       "  & A1BG & A1BG.AS1 & A1CF & A2M & A2M.AS1 & A2ML1 & A2MP1 & A3GALT2 & A4GALT & A4GNT & ⋯ & ZWINT & ZXDA & ZXDB & ZXDC & ZYG11A & ZYG11B & ZYX & ZYXP1 & ZZEF1 & ZZZ3\\\\\n",
       "  & <int> & <int> & <int> & <int> & <int> & <int> & <int> & <int> & <int> & <int> & ⋯ & <int> & <int> & <int> & <int> & <int> & <int> & <int> & <int> & <int> & <int>\\\\\n",
       "\\hline\n",
       "\tk4 & 0 & 0 & 0 & 0 & 0 & 0 & 0 & 0 & 0 & 0 & ⋯ & 0 & 0 & 0 & 1 & 0 & 0 &  9 & 0 & 0 & 0\\\\\n",
       "\tm14.3 & 0 & 0 & 0 & 0 & 0 & 0 & 0 & 0 & 0 & 0 & ⋯ & 0 & 0 & 0 & 0 & 0 & 2 & 13 & 0 & 0 & 0\\\\\n",
       "\\end{tabular}\n"
      ],
      "text/markdown": [
       "\n",
       "A data.frame: 2 × 25378\n",
       "\n",
       "| <!--/--> | A1BG &lt;int&gt; | A1BG.AS1 &lt;int&gt; | A1CF &lt;int&gt; | A2M &lt;int&gt; | A2M.AS1 &lt;int&gt; | A2ML1 &lt;int&gt; | A2MP1 &lt;int&gt; | A3GALT2 &lt;int&gt; | A4GALT &lt;int&gt; | A4GNT &lt;int&gt; | ⋯ ⋯ | ZWINT &lt;int&gt; | ZXDA &lt;int&gt; | ZXDB &lt;int&gt; | ZXDC &lt;int&gt; | ZYG11A &lt;int&gt; | ZYG11B &lt;int&gt; | ZYX &lt;int&gt; | ZYXP1 &lt;int&gt; | ZZEF1 &lt;int&gt; | ZZZ3 &lt;int&gt; |\n",
       "|---|---|---|---|---|---|---|---|---|---|---|---|---|---|---|---|---|---|---|---|---|---|\n",
       "| k4 | 0 | 0 | 0 | 0 | 0 | 0 | 0 | 0 | 0 | 0 | ⋯ | 0 | 0 | 0 | 1 | 0 | 0 |  9 | 0 | 0 | 0 |\n",
       "| m14.3 | 0 | 0 | 0 | 0 | 0 | 0 | 0 | 0 | 0 | 0 | ⋯ | 0 | 0 | 0 | 0 | 0 | 2 | 13 | 0 | 0 | 0 |\n",
       "\n"
      ],
      "text/plain": [
       "      A1BG A1BG.AS1 A1CF A2M A2M.AS1 A2ML1 A2MP1 A3GALT2 A4GALT A4GNT ⋯ ZWINT\n",
       "k4    0    0        0    0   0       0     0     0       0      0     ⋯ 0    \n",
       "m14.3 0    0        0    0   0       0     0     0       0      0     ⋯ 0    \n",
       "      ZXDA ZXDB ZXDC ZYG11A ZYG11B ZYX ZYXP1 ZZEF1 ZZZ3\n",
       "k4    0    0    1    0      0       9  0     0     0   \n",
       "m14.3 0    0    0    0      2      13  0     0     0   "
      ]
     },
     "metadata": {},
     "output_type": "display_data"
    }
   ],
   "source": [
    "head(neutrophils,2)"
   ]
  },
  {
   "cell_type": "code",
   "execution_count": 222,
   "id": "b7712083-3ee3-48c7-bfab-d02452c810cb",
   "metadata": {},
   "outputs": [
    {
     "data": {
      "text/html": [
       "<style>\n",
       ".list-inline {list-style: none; margin:0; padding: 0}\n",
       ".list-inline>li {display: inline-block}\n",
       ".list-inline>li:not(:last-child)::after {content: \"\\00b7\"; padding: 0 .5ex}\n",
       "</style>\n",
       "<ol class=list-inline><li>121</li><li>25378</li></ol>\n"
      ],
      "text/latex": [
       "\\begin{enumerate*}\n",
       "\\item 121\n",
       "\\item 25378\n",
       "\\end{enumerate*}\n"
      ],
      "text/markdown": [
       "1. 121\n",
       "2. 25378\n",
       "\n",
       "\n"
      ],
      "text/plain": [
       "[1]   121 25378"
      ]
     },
     "metadata": {},
     "output_type": "display_data"
    }
   ],
   "source": [
    "dim(neutrophils)"
   ]
  },
  {
   "cell_type": "code",
   "execution_count": 223,
   "id": "c810cdaa-cefe-4870-8e20-a3c3fda0331c",
   "metadata": {},
   "outputs": [],
   "source": [
    "neutrophils = neutrophils[,is.na(str_extract(colnames(neutrophils), '^MT.*|^RPL.*|^RPS.*'))]"
   ]
  },
  {
   "cell_type": "code",
   "execution_count": 224,
   "id": "96b2ce11-7e7f-42e5-9058-2beaa724a140",
   "metadata": {},
   "outputs": [
    {
     "data": {
      "text/html": [
       "<style>\n",
       ".list-inline {list-style: none; margin:0; padding: 0}\n",
       ".list-inline>li {display: inline-block}\n",
       ".list-inline>li:not(:last-child)::after {content: \"\\00b7\"; padding: 0 .5ex}\n",
       "</style>\n",
       "<ol class=list-inline><li>121</li><li>24151</li></ol>\n"
      ],
      "text/latex": [
       "\\begin{enumerate*}\n",
       "\\item 121\n",
       "\\item 24151\n",
       "\\end{enumerate*}\n"
      ],
      "text/markdown": [
       "1. 121\n",
       "2. 24151\n",
       "\n",
       "\n"
      ],
      "text/plain": [
       "[1]   121 24151"
      ]
     },
     "metadata": {},
     "output_type": "display_data"
    }
   ],
   "source": [
    "dim(neutrophils)"
   ]
  },
  {
   "cell_type": "markdown",
   "id": "5f8f4145-75f8-4d30-837f-2f6c5c0b6f3f",
   "metadata": {
    "tags": []
   },
   "source": [
    "#### Investigate and Adjust distribution of values"
   ]
  },
  {
   "cell_type": "code",
   "execution_count": 225,
   "id": "7752d404-c4c1-4234-94ab-659420bfde62",
   "metadata": {},
   "outputs": [
    {
     "data": {
      "text/html": [
       "<table class=\"dataframe\">\n",
       "<caption>A data.frame: 2 × 24151</caption>\n",
       "<thead>\n",
       "\t<tr><th></th><th scope=col>A1BG</th><th scope=col>A1BG.AS1</th><th scope=col>A1CF</th><th scope=col>A2M</th><th scope=col>A2M.AS1</th><th scope=col>A2ML1</th><th scope=col>A2MP1</th><th scope=col>A3GALT2</th><th scope=col>A4GALT</th><th scope=col>A4GNT</th><th scope=col>⋯</th><th scope=col>ZWINT</th><th scope=col>ZXDA</th><th scope=col>ZXDB</th><th scope=col>ZXDC</th><th scope=col>ZYG11A</th><th scope=col>ZYG11B</th><th scope=col>ZYX</th><th scope=col>ZYXP1</th><th scope=col>ZZEF1</th><th scope=col>ZZZ3</th></tr>\n",
       "\t<tr><th></th><th scope=col>&lt;int&gt;</th><th scope=col>&lt;int&gt;</th><th scope=col>&lt;int&gt;</th><th scope=col>&lt;int&gt;</th><th scope=col>&lt;int&gt;</th><th scope=col>&lt;int&gt;</th><th scope=col>&lt;int&gt;</th><th scope=col>&lt;int&gt;</th><th scope=col>&lt;int&gt;</th><th scope=col>&lt;int&gt;</th><th scope=col>⋯</th><th scope=col>&lt;int&gt;</th><th scope=col>&lt;int&gt;</th><th scope=col>&lt;int&gt;</th><th scope=col>&lt;int&gt;</th><th scope=col>&lt;int&gt;</th><th scope=col>&lt;int&gt;</th><th scope=col>&lt;int&gt;</th><th scope=col>&lt;int&gt;</th><th scope=col>&lt;int&gt;</th><th scope=col>&lt;int&gt;</th></tr>\n",
       "</thead>\n",
       "<tbody>\n",
       "\t<tr><th scope=row>k4</th><td>0</td><td>0</td><td>0</td><td>0</td><td>0</td><td>0</td><td>0</td><td>0</td><td>0</td><td>0</td><td>⋯</td><td>0</td><td>0</td><td>0</td><td>1</td><td>0</td><td>0</td><td> 9</td><td>0</td><td>0</td><td>0</td></tr>\n",
       "\t<tr><th scope=row>m14.3</th><td>0</td><td>0</td><td>0</td><td>0</td><td>0</td><td>0</td><td>0</td><td>0</td><td>0</td><td>0</td><td>⋯</td><td>0</td><td>0</td><td>0</td><td>0</td><td>0</td><td>2</td><td>13</td><td>0</td><td>0</td><td>0</td></tr>\n",
       "</tbody>\n",
       "</table>\n"
      ],
      "text/latex": [
       "A data.frame: 2 × 24151\n",
       "\\begin{tabular}{r|lllllllllllllllllllll}\n",
       "  & A1BG & A1BG.AS1 & A1CF & A2M & A2M.AS1 & A2ML1 & A2MP1 & A3GALT2 & A4GALT & A4GNT & ⋯ & ZWINT & ZXDA & ZXDB & ZXDC & ZYG11A & ZYG11B & ZYX & ZYXP1 & ZZEF1 & ZZZ3\\\\\n",
       "  & <int> & <int> & <int> & <int> & <int> & <int> & <int> & <int> & <int> & <int> & ⋯ & <int> & <int> & <int> & <int> & <int> & <int> & <int> & <int> & <int> & <int>\\\\\n",
       "\\hline\n",
       "\tk4 & 0 & 0 & 0 & 0 & 0 & 0 & 0 & 0 & 0 & 0 & ⋯ & 0 & 0 & 0 & 1 & 0 & 0 &  9 & 0 & 0 & 0\\\\\n",
       "\tm14.3 & 0 & 0 & 0 & 0 & 0 & 0 & 0 & 0 & 0 & 0 & ⋯ & 0 & 0 & 0 & 0 & 0 & 2 & 13 & 0 & 0 & 0\\\\\n",
       "\\end{tabular}\n"
      ],
      "text/markdown": [
       "\n",
       "A data.frame: 2 × 24151\n",
       "\n",
       "| <!--/--> | A1BG &lt;int&gt; | A1BG.AS1 &lt;int&gt; | A1CF &lt;int&gt; | A2M &lt;int&gt; | A2M.AS1 &lt;int&gt; | A2ML1 &lt;int&gt; | A2MP1 &lt;int&gt; | A3GALT2 &lt;int&gt; | A4GALT &lt;int&gt; | A4GNT &lt;int&gt; | ⋯ ⋯ | ZWINT &lt;int&gt; | ZXDA &lt;int&gt; | ZXDB &lt;int&gt; | ZXDC &lt;int&gt; | ZYG11A &lt;int&gt; | ZYG11B &lt;int&gt; | ZYX &lt;int&gt; | ZYXP1 &lt;int&gt; | ZZEF1 &lt;int&gt; | ZZZ3 &lt;int&gt; |\n",
       "|---|---|---|---|---|---|---|---|---|---|---|---|---|---|---|---|---|---|---|---|---|---|\n",
       "| k4 | 0 | 0 | 0 | 0 | 0 | 0 | 0 | 0 | 0 | 0 | ⋯ | 0 | 0 | 0 | 1 | 0 | 0 |  9 | 0 | 0 | 0 |\n",
       "| m14.3 | 0 | 0 | 0 | 0 | 0 | 0 | 0 | 0 | 0 | 0 | ⋯ | 0 | 0 | 0 | 0 | 0 | 2 | 13 | 0 | 0 | 0 |\n",
       "\n"
      ],
      "text/plain": [
       "      A1BG A1BG.AS1 A1CF A2M A2M.AS1 A2ML1 A2MP1 A3GALT2 A4GALT A4GNT ⋯ ZWINT\n",
       "k4    0    0        0    0   0       0     0     0       0      0     ⋯ 0    \n",
       "m14.3 0    0        0    0   0       0     0     0       0      0     ⋯ 0    \n",
       "      ZXDA ZXDB ZXDC ZYG11A ZYG11B ZYX ZYXP1 ZZEF1 ZZZ3\n",
       "k4    0    0    1    0      0       9  0     0     0   \n",
       "m14.3 0    0    0    0      2      13  0     0     0   "
      ]
     },
     "metadata": {},
     "output_type": "display_data"
    }
   ],
   "source": [
    "head(neutrophils,2)"
   ]
  },
  {
   "cell_type": "code",
   "execution_count": 226,
   "id": "eee9ca37-6b9e-4936-b58c-3b11b72888b8",
   "metadata": {},
   "outputs": [],
   "source": [
    "### Check out distribution per sample"
   ]
  },
  {
   "cell_type": "code",
   "execution_count": 227,
   "id": "c1d5864a-3e8d-42f1-b762-3828da5b0d66",
   "metadata": {},
   "outputs": [],
   "source": [
    "neutrophils$sample_id = rownames(neutrophils)"
   ]
  },
  {
   "cell_type": "markdown",
   "id": "7d3a2508-764b-4aad-b710-e5d63807fecf",
   "metadata": {
    "tags": []
   },
   "source": [
    "#### Filter out low expressed genes"
   ]
  },
  {
   "cell_type": "code",
   "execution_count": 245,
   "id": "cc509530-e355-4d01-9190-eb999f308d86",
   "metadata": {},
   "outputs": [],
   "source": [
    "### genes expressed in less than 50% of samples"
   ]
  },
  {
   "cell_type": "code",
   "execution_count": 247,
   "id": "85fa32b9-a69d-4215-aaa5-628f0d897c20",
   "metadata": {},
   "outputs": [],
   "source": [
    "neutrophils$sample_id = NULL"
   ]
  },
  {
   "cell_type": "code",
   "execution_count": 248,
   "id": "96f12508-da88-4911-baa5-2be335c984d9",
   "metadata": {},
   "outputs": [
    {
     "data": {
      "text/html": [
       "<table class=\"dataframe\">\n",
       "<caption>A data.frame: 6 × 24151</caption>\n",
       "<thead>\n",
       "\t<tr><th></th><th scope=col>A1BG</th><th scope=col>A1BG.AS1</th><th scope=col>A1CF</th><th scope=col>A2M</th><th scope=col>A2M.AS1</th><th scope=col>A2ML1</th><th scope=col>A2MP1</th><th scope=col>A3GALT2</th><th scope=col>A4GALT</th><th scope=col>A4GNT</th><th scope=col>⋯</th><th scope=col>ZWINT</th><th scope=col>ZXDA</th><th scope=col>ZXDB</th><th scope=col>ZXDC</th><th scope=col>ZYG11A</th><th scope=col>ZYG11B</th><th scope=col>ZYX</th><th scope=col>ZYXP1</th><th scope=col>ZZEF1</th><th scope=col>ZZZ3</th></tr>\n",
       "\t<tr><th></th><th scope=col>&lt;int&gt;</th><th scope=col>&lt;int&gt;</th><th scope=col>&lt;int&gt;</th><th scope=col>&lt;int&gt;</th><th scope=col>&lt;int&gt;</th><th scope=col>&lt;int&gt;</th><th scope=col>&lt;int&gt;</th><th scope=col>&lt;int&gt;</th><th scope=col>&lt;int&gt;</th><th scope=col>&lt;int&gt;</th><th scope=col>⋯</th><th scope=col>&lt;int&gt;</th><th scope=col>&lt;int&gt;</th><th scope=col>&lt;int&gt;</th><th scope=col>&lt;int&gt;</th><th scope=col>&lt;int&gt;</th><th scope=col>&lt;int&gt;</th><th scope=col>&lt;int&gt;</th><th scope=col>&lt;int&gt;</th><th scope=col>&lt;int&gt;</th><th scope=col>&lt;int&gt;</th></tr>\n",
       "</thead>\n",
       "<tbody>\n",
       "\t<tr><th scope=row>k4</th><td>0</td><td>0</td><td>0</td><td>0</td><td>0</td><td>0</td><td>0</td><td>0</td><td> 0</td><td>0</td><td>⋯</td><td>0</td><td>0</td><td>0</td><td>1</td><td>0</td><td>0</td><td> 9</td><td>0</td><td>0</td><td>0</td></tr>\n",
       "\t<tr><th scope=row>m14.3</th><td>0</td><td>0</td><td>0</td><td>0</td><td>0</td><td>0</td><td>0</td><td>0</td><td> 0</td><td>0</td><td>⋯</td><td>0</td><td>0</td><td>0</td><td>0</td><td>0</td><td>2</td><td>13</td><td>0</td><td>0</td><td>0</td></tr>\n",
       "\t<tr><th scope=row>m26.2</th><td>0</td><td>0</td><td>0</td><td>0</td><td>0</td><td>0</td><td>0</td><td>0</td><td> 0</td><td>0</td><td>⋯</td><td>0</td><td>0</td><td>0</td><td>1</td><td>0</td><td>0</td><td>23</td><td>0</td><td>0</td><td>0</td></tr>\n",
       "\t<tr><th scope=row>m14.4</th><td>0</td><td>0</td><td>0</td><td>0</td><td>1</td><td>0</td><td>2</td><td>0</td><td> 0</td><td>0</td><td>⋯</td><td>0</td><td>0</td><td>0</td><td>0</td><td>0</td><td>1</td><td>14</td><td>0</td><td>2</td><td>0</td></tr>\n",
       "\t<tr><th scope=row>m3.3</th><td>0</td><td>0</td><td>0</td><td>0</td><td>0</td><td>0</td><td>0</td><td>0</td><td>13</td><td>0</td><td>⋯</td><td>0</td><td>0</td><td>0</td><td>0</td><td>1</td><td>1</td><td>26</td><td>0</td><td>3</td><td>2</td></tr>\n",
       "\t<tr><th scope=row>k1</th><td>0</td><td>0</td><td>0</td><td>0</td><td>0</td><td>0</td><td>0</td><td>0</td><td> 0</td><td>0</td><td>⋯</td><td>0</td><td>0</td><td>0</td><td>0</td><td>0</td><td>1</td><td>13</td><td>0</td><td>0</td><td>0</td></tr>\n",
       "</tbody>\n",
       "</table>\n"
      ],
      "text/latex": [
       "A data.frame: 6 × 24151\n",
       "\\begin{tabular}{r|lllllllllllllllllllll}\n",
       "  & A1BG & A1BG.AS1 & A1CF & A2M & A2M.AS1 & A2ML1 & A2MP1 & A3GALT2 & A4GALT & A4GNT & ⋯ & ZWINT & ZXDA & ZXDB & ZXDC & ZYG11A & ZYG11B & ZYX & ZYXP1 & ZZEF1 & ZZZ3\\\\\n",
       "  & <int> & <int> & <int> & <int> & <int> & <int> & <int> & <int> & <int> & <int> & ⋯ & <int> & <int> & <int> & <int> & <int> & <int> & <int> & <int> & <int> & <int>\\\\\n",
       "\\hline\n",
       "\tk4 & 0 & 0 & 0 & 0 & 0 & 0 & 0 & 0 &  0 & 0 & ⋯ & 0 & 0 & 0 & 1 & 0 & 0 &  9 & 0 & 0 & 0\\\\\n",
       "\tm14.3 & 0 & 0 & 0 & 0 & 0 & 0 & 0 & 0 &  0 & 0 & ⋯ & 0 & 0 & 0 & 0 & 0 & 2 & 13 & 0 & 0 & 0\\\\\n",
       "\tm26.2 & 0 & 0 & 0 & 0 & 0 & 0 & 0 & 0 &  0 & 0 & ⋯ & 0 & 0 & 0 & 1 & 0 & 0 & 23 & 0 & 0 & 0\\\\\n",
       "\tm14.4 & 0 & 0 & 0 & 0 & 1 & 0 & 2 & 0 &  0 & 0 & ⋯ & 0 & 0 & 0 & 0 & 0 & 1 & 14 & 0 & 2 & 0\\\\\n",
       "\tm3.3 & 0 & 0 & 0 & 0 & 0 & 0 & 0 & 0 & 13 & 0 & ⋯ & 0 & 0 & 0 & 0 & 1 & 1 & 26 & 0 & 3 & 2\\\\\n",
       "\tk1 & 0 & 0 & 0 & 0 & 0 & 0 & 0 & 0 &  0 & 0 & ⋯ & 0 & 0 & 0 & 0 & 0 & 1 & 13 & 0 & 0 & 0\\\\\n",
       "\\end{tabular}\n"
      ],
      "text/markdown": [
       "\n",
       "A data.frame: 6 × 24151\n",
       "\n",
       "| <!--/--> | A1BG &lt;int&gt; | A1BG.AS1 &lt;int&gt; | A1CF &lt;int&gt; | A2M &lt;int&gt; | A2M.AS1 &lt;int&gt; | A2ML1 &lt;int&gt; | A2MP1 &lt;int&gt; | A3GALT2 &lt;int&gt; | A4GALT &lt;int&gt; | A4GNT &lt;int&gt; | ⋯ ⋯ | ZWINT &lt;int&gt; | ZXDA &lt;int&gt; | ZXDB &lt;int&gt; | ZXDC &lt;int&gt; | ZYG11A &lt;int&gt; | ZYG11B &lt;int&gt; | ZYX &lt;int&gt; | ZYXP1 &lt;int&gt; | ZZEF1 &lt;int&gt; | ZZZ3 &lt;int&gt; |\n",
       "|---|---|---|---|---|---|---|---|---|---|---|---|---|---|---|---|---|---|---|---|---|---|\n",
       "| k4 | 0 | 0 | 0 | 0 | 0 | 0 | 0 | 0 |  0 | 0 | ⋯ | 0 | 0 | 0 | 1 | 0 | 0 |  9 | 0 | 0 | 0 |\n",
       "| m14.3 | 0 | 0 | 0 | 0 | 0 | 0 | 0 | 0 |  0 | 0 | ⋯ | 0 | 0 | 0 | 0 | 0 | 2 | 13 | 0 | 0 | 0 |\n",
       "| m26.2 | 0 | 0 | 0 | 0 | 0 | 0 | 0 | 0 |  0 | 0 | ⋯ | 0 | 0 | 0 | 1 | 0 | 0 | 23 | 0 | 0 | 0 |\n",
       "| m14.4 | 0 | 0 | 0 | 0 | 1 | 0 | 2 | 0 |  0 | 0 | ⋯ | 0 | 0 | 0 | 0 | 0 | 1 | 14 | 0 | 2 | 0 |\n",
       "| m3.3 | 0 | 0 | 0 | 0 | 0 | 0 | 0 | 0 | 13 | 0 | ⋯ | 0 | 0 | 0 | 0 | 1 | 1 | 26 | 0 | 3 | 2 |\n",
       "| k1 | 0 | 0 | 0 | 0 | 0 | 0 | 0 | 0 |  0 | 0 | ⋯ | 0 | 0 | 0 | 0 | 0 | 1 | 13 | 0 | 0 | 0 |\n",
       "\n"
      ],
      "text/plain": [
       "      A1BG A1BG.AS1 A1CF A2M A2M.AS1 A2ML1 A2MP1 A3GALT2 A4GALT A4GNT ⋯ ZWINT\n",
       "k4    0    0        0    0   0       0     0     0        0     0     ⋯ 0    \n",
       "m14.3 0    0        0    0   0       0     0     0        0     0     ⋯ 0    \n",
       "m26.2 0    0        0    0   0       0     0     0        0     0     ⋯ 0    \n",
       "m14.4 0    0        0    0   1       0     2     0        0     0     ⋯ 0    \n",
       "m3.3  0    0        0    0   0       0     0     0       13     0     ⋯ 0    \n",
       "k1    0    0        0    0   0       0     0     0        0     0     ⋯ 0    \n",
       "      ZXDA ZXDB ZXDC ZYG11A ZYG11B ZYX ZYXP1 ZZEF1 ZZZ3\n",
       "k4    0    0    1    0      0       9  0     0     0   \n",
       "m14.3 0    0    0    0      2      13  0     0     0   \n",
       "m26.2 0    0    1    0      0      23  0     0     0   \n",
       "m14.4 0    0    0    0      1      14  0     2     0   \n",
       "m3.3  0    0    0    1      1      26  0     3     2   \n",
       "k1    0    0    0    0      1      13  0     0     0   "
      ]
     },
     "metadata": {},
     "output_type": "display_data"
    }
   ],
   "source": [
    "head(neutrophils)"
   ]
  },
  {
   "cell_type": "code",
   "execution_count": 249,
   "id": "34f2fd60-ef47-4613-9dc9-8df912918530",
   "metadata": {},
   "outputs": [
    {
     "data": {
      "text/html": [
       "121"
      ],
      "text/latex": [
       "121"
      ],
      "text/markdown": [
       "121"
      ],
      "text/plain": [
       "[1] 121"
      ]
     },
     "metadata": {},
     "output_type": "display_data"
    }
   ],
   "source": [
    "nrow(neutrophils)"
   ]
  },
  {
   "cell_type": "code",
   "execution_count": 250,
   "id": "17aa6821-8824-4fee-a5f8-057b80253b05",
   "metadata": {},
   "outputs": [
    {
     "data": {
      "text/html": [
       "<style>\n",
       ".list-inline {list-style: none; margin:0; padding: 0}\n",
       ".list-inline>li {display: inline-block}\n",
       ".list-inline>li:not(:last-child)::after {content: \"\\00b7\"; padding: 0 .5ex}\n",
       "</style>\n",
       "<ol class=list-inline><li>121</li><li>24151</li></ol>\n"
      ],
      "text/latex": [
       "\\begin{enumerate*}\n",
       "\\item 121\n",
       "\\item 24151\n",
       "\\end{enumerate*}\n"
      ],
      "text/markdown": [
       "1. 121\n",
       "2. 24151\n",
       "\n",
       "\n"
      ],
      "text/plain": [
       "[1]   121 24151"
      ]
     },
     "metadata": {},
     "output_type": "display_data"
    }
   ],
   "source": [
    "dim(neutrophils)"
   ]
  },
  {
   "cell_type": "code",
   "execution_count": null,
   "id": "3258d3f6-d523-4c76-bb2e-eb85aa68c263",
   "metadata": {},
   "outputs": [],
   "source": []
  },
  {
   "cell_type": "code",
   "execution_count": 259,
   "id": "e3a9ec0b-74a0-484f-af44-69b1d6f93c33",
   "metadata": {},
   "outputs": [
    {
     "data": {
      "text/html": [
       "0.2"
      ],
      "text/latex": [
       "0.2"
      ],
      "text/markdown": [
       "0.2"
      ],
      "text/plain": [
       "[1] 0.2"
      ]
     },
     "metadata": {},
     "output_type": "display_data"
    }
   ],
   "source": [
    "neutrophil_threshold"
   ]
  },
  {
   "cell_type": "code",
   "execution_count": 260,
   "id": "84ab3c45-9f5d-4d4b-ae52-c83b37b87e44",
   "metadata": {},
   "outputs": [
    {
     "data": {
      "text/html": [
       "24151"
      ],
      "text/latex": [
       "24151"
      ],
      "text/markdown": [
       "24151"
      ],
      "text/plain": [
       "[1] 24151"
      ]
     },
     "metadata": {},
     "output_type": "display_data"
    }
   ],
   "source": [
    "ncol(neutrophils)"
   ]
  },
  {
   "cell_type": "code",
   "execution_count": 261,
   "id": "d87c79dd-ceb5-4821-9770-cb6ab1bda5ca",
   "metadata": {},
   "outputs": [
    {
     "data": {
      "text/html": [
       "121"
      ],
      "text/latex": [
       "121"
      ],
      "text/markdown": [
       "121"
      ],
      "text/plain": [
       "[1] 121"
      ]
     },
     "metadata": {},
     "output_type": "display_data"
    }
   ],
   "source": [
    "nrow(neutrophils)"
   ]
  },
  {
   "cell_type": "code",
   "execution_count": 262,
   "id": "99f42dbc-43d4-4694-930e-fecd93c61d75",
   "metadata": {},
   "outputs": [],
   "source": [
    "neutrophils = neutrophils[,((colSums(neutrophils == 0))/ nrow(neutrophils)) <= neutrophil_threshold]"
   ]
  },
  {
   "cell_type": "code",
   "execution_count": 263,
   "id": "3ddabcf7-1dbe-4e73-950a-8b0c3c5d0225",
   "metadata": {},
   "outputs": [
    {
     "data": {
      "text/html": [
       "1190"
      ],
      "text/latex": [
       "1190"
      ],
      "text/markdown": [
       "1190"
      ],
      "text/plain": [
       "[1] 1190"
      ]
     },
     "metadata": {},
     "output_type": "display_data"
    }
   ],
   "source": [
    "ncol(neutrophils)"
   ]
  },
  {
   "cell_type": "code",
   "execution_count": 264,
   "id": "30b68b11-01b9-4d98-b8c0-08a674e143d8",
   "metadata": {},
   "outputs": [
    {
     "data": {
      "text/html": [
       "273"
      ],
      "text/latex": [
       "273"
      ],
      "text/markdown": [
       "273"
      ],
      "text/plain": [
       "[1] 273"
      ]
     },
     "metadata": {},
     "output_type": "display_data"
    }
   ],
   "source": [
    "ncol(neutrophils[,highly_expressed_genes])"
   ]
  },
  {
   "cell_type": "code",
   "execution_count": 270,
   "id": "f161a32f-bfb8-4f67-9cd1-22c667de5235",
   "metadata": {},
   "outputs": [],
   "source": [
    "### Check out distribution per sample"
   ]
  },
  {
   "cell_type": "code",
   "execution_count": 271,
   "id": "22f7a8ab-8e29-47e7-8043-f6ef45075834",
   "metadata": {},
   "outputs": [],
   "source": [
    "neutrophils$sample_id = rownames(neutrophils)"
   ]
  },
  {
   "cell_type": "markdown",
   "id": "ffcbd436-6054-42a5-81a9-25552b602f5b",
   "metadata": {},
   "source": [
    "### Optional: remove samples with high amount of 0"
   ]
  },
  {
   "cell_type": "code",
   "execution_count": 292,
   "id": "36ada46e-6be4-4d4d-ab64-55e07b797a5f",
   "metadata": {},
   "outputs": [
    {
     "data": {
      "text/html": [
       "<table class=\"dataframe\">\n",
       "<caption>A data.frame: 6 × 1191</caption>\n",
       "<thead>\n",
       "\t<tr><th></th><th scope=col>AATK</th><th scope=col>ABCA7</th><th scope=col>ABHD2</th><th scope=col>ABHD5</th><th scope=col>ABTB1</th><th scope=col>ACAP2</th><th scope=col>ACOX1</th><th scope=col>ACSL1</th><th scope=col>ACTB</th><th scope=col>ACTG1</th><th scope=col>⋯</th><th scope=col>ZFP36</th><th scope=col>ZFP36L1</th><th scope=col>ZFP36L2</th><th scope=col>ZMAT2</th><th scope=col>ZNF106</th><th scope=col>ZNF281</th><th scope=col>ZNF467</th><th scope=col>ZNFX1</th><th scope=col>ZYX</th><th scope=col>sample_id</th></tr>\n",
       "\t<tr><th></th><th scope=col>&lt;int&gt;</th><th scope=col>&lt;int&gt;</th><th scope=col>&lt;int&gt;</th><th scope=col>&lt;int&gt;</th><th scope=col>&lt;int&gt;</th><th scope=col>&lt;int&gt;</th><th scope=col>&lt;int&gt;</th><th scope=col>&lt;int&gt;</th><th scope=col>&lt;int&gt;</th><th scope=col>&lt;int&gt;</th><th scope=col>⋯</th><th scope=col>&lt;int&gt;</th><th scope=col>&lt;int&gt;</th><th scope=col>&lt;int&gt;</th><th scope=col>&lt;int&gt;</th><th scope=col>&lt;int&gt;</th><th scope=col>&lt;int&gt;</th><th scope=col>&lt;int&gt;</th><th scope=col>&lt;int&gt;</th><th scope=col>&lt;int&gt;</th><th scope=col>&lt;chr&gt;</th></tr>\n",
       "</thead>\n",
       "<tbody>\n",
       "\t<tr><th scope=row>k4</th><td>1</td><td>2</td><td>4</td><td> 7</td><td> 8</td><td> 3</td><td>0</td><td> 9</td><td> 34</td><td> 12</td><td>⋯</td><td> 6</td><td>11</td><td> 5</td><td>2</td><td> 0</td><td>2</td><td>4</td><td>0</td><td> 9</td><td>k4   </td></tr>\n",
       "\t<tr><th scope=row>m14.3</th><td>4</td><td>1</td><td>8</td><td> 3</td><td>17</td><td> 6</td><td>4</td><td> 8</td><td> 58</td><td> 24</td><td>⋯</td><td>19</td><td>29</td><td> 9</td><td>0</td><td> 3</td><td>2</td><td>3</td><td>1</td><td>13</td><td>m14.3</td></tr>\n",
       "\t<tr><th scope=row>m26.2</th><td>8</td><td>6</td><td>4</td><td>24</td><td>27</td><td>20</td><td>6</td><td>42</td><td>113</td><td> 31</td><td>⋯</td><td>24</td><td>32</td><td>22</td><td>8</td><td>11</td><td>6</td><td>6</td><td>5</td><td>23</td><td>m26.2</td></tr>\n",
       "\t<tr><th scope=row>m14.4</th><td>3</td><td>1</td><td>5</td><td> 3</td><td>23</td><td> 9</td><td>3</td><td>12</td><td> 73</td><td> 25</td><td>⋯</td><td>15</td><td>23</td><td> 6</td><td>1</td><td> 2</td><td>1</td><td>4</td><td>0</td><td>14</td><td>m14.4</td></tr>\n",
       "\t<tr><th scope=row>m3.3</th><td>2</td><td>3</td><td>5</td><td> 7</td><td>17</td><td>10</td><td>2</td><td>18</td><td>172</td><td>215</td><td>⋯</td><td>29</td><td>34</td><td>11</td><td>2</td><td> 9</td><td>5</td><td>7</td><td>6</td><td>26</td><td>m3.3 </td></tr>\n",
       "\t<tr><th scope=row>k1</th><td>4</td><td>1</td><td>1</td><td> 4</td><td>17</td><td> 2</td><td>1</td><td>11</td><td> 44</td><td> 18</td><td>⋯</td><td>14</td><td>33</td><td> 2</td><td>3</td><td> 6</td><td>2</td><td>4</td><td>0</td><td>13</td><td>k1   </td></tr>\n",
       "</tbody>\n",
       "</table>\n"
      ],
      "text/latex": [
       "A data.frame: 6 × 1191\n",
       "\\begin{tabular}{r|lllllllllllllllllllll}\n",
       "  & AATK & ABCA7 & ABHD2 & ABHD5 & ABTB1 & ACAP2 & ACOX1 & ACSL1 & ACTB & ACTG1 & ⋯ & ZFP36 & ZFP36L1 & ZFP36L2 & ZMAT2 & ZNF106 & ZNF281 & ZNF467 & ZNFX1 & ZYX & sample\\_id\\\\\n",
       "  & <int> & <int> & <int> & <int> & <int> & <int> & <int> & <int> & <int> & <int> & ⋯ & <int> & <int> & <int> & <int> & <int> & <int> & <int> & <int> & <int> & <chr>\\\\\n",
       "\\hline\n",
       "\tk4 & 1 & 2 & 4 &  7 &  8 &  3 & 0 &  9 &  34 &  12 & ⋯ &  6 & 11 &  5 & 2 &  0 & 2 & 4 & 0 &  9 & k4   \\\\\n",
       "\tm14.3 & 4 & 1 & 8 &  3 & 17 &  6 & 4 &  8 &  58 &  24 & ⋯ & 19 & 29 &  9 & 0 &  3 & 2 & 3 & 1 & 13 & m14.3\\\\\n",
       "\tm26.2 & 8 & 6 & 4 & 24 & 27 & 20 & 6 & 42 & 113 &  31 & ⋯ & 24 & 32 & 22 & 8 & 11 & 6 & 6 & 5 & 23 & m26.2\\\\\n",
       "\tm14.4 & 3 & 1 & 5 &  3 & 23 &  9 & 3 & 12 &  73 &  25 & ⋯ & 15 & 23 &  6 & 1 &  2 & 1 & 4 & 0 & 14 & m14.4\\\\\n",
       "\tm3.3 & 2 & 3 & 5 &  7 & 17 & 10 & 2 & 18 & 172 & 215 & ⋯ & 29 & 34 & 11 & 2 &  9 & 5 & 7 & 6 & 26 & m3.3 \\\\\n",
       "\tk1 & 4 & 1 & 1 &  4 & 17 &  2 & 1 & 11 &  44 &  18 & ⋯ & 14 & 33 &  2 & 3 &  6 & 2 & 4 & 0 & 13 & k1   \\\\\n",
       "\\end{tabular}\n"
      ],
      "text/markdown": [
       "\n",
       "A data.frame: 6 × 1191\n",
       "\n",
       "| <!--/--> | AATK &lt;int&gt; | ABCA7 &lt;int&gt; | ABHD2 &lt;int&gt; | ABHD5 &lt;int&gt; | ABTB1 &lt;int&gt; | ACAP2 &lt;int&gt; | ACOX1 &lt;int&gt; | ACSL1 &lt;int&gt; | ACTB &lt;int&gt; | ACTG1 &lt;int&gt; | ⋯ ⋯ | ZFP36 &lt;int&gt; | ZFP36L1 &lt;int&gt; | ZFP36L2 &lt;int&gt; | ZMAT2 &lt;int&gt; | ZNF106 &lt;int&gt; | ZNF281 &lt;int&gt; | ZNF467 &lt;int&gt; | ZNFX1 &lt;int&gt; | ZYX &lt;int&gt; | sample_id &lt;chr&gt; |\n",
       "|---|---|---|---|---|---|---|---|---|---|---|---|---|---|---|---|---|---|---|---|---|---|\n",
       "| k4 | 1 | 2 | 4 |  7 |  8 |  3 | 0 |  9 |  34 |  12 | ⋯ |  6 | 11 |  5 | 2 |  0 | 2 | 4 | 0 |  9 | k4    |\n",
       "| m14.3 | 4 | 1 | 8 |  3 | 17 |  6 | 4 |  8 |  58 |  24 | ⋯ | 19 | 29 |  9 | 0 |  3 | 2 | 3 | 1 | 13 | m14.3 |\n",
       "| m26.2 | 8 | 6 | 4 | 24 | 27 | 20 | 6 | 42 | 113 |  31 | ⋯ | 24 | 32 | 22 | 8 | 11 | 6 | 6 | 5 | 23 | m26.2 |\n",
       "| m14.4 | 3 | 1 | 5 |  3 | 23 |  9 | 3 | 12 |  73 |  25 | ⋯ | 15 | 23 |  6 | 1 |  2 | 1 | 4 | 0 | 14 | m14.4 |\n",
       "| m3.3 | 2 | 3 | 5 |  7 | 17 | 10 | 2 | 18 | 172 | 215 | ⋯ | 29 | 34 | 11 | 2 |  9 | 5 | 7 | 6 | 26 | m3.3  |\n",
       "| k1 | 4 | 1 | 1 |  4 | 17 |  2 | 1 | 11 |  44 |  18 | ⋯ | 14 | 33 |  2 | 3 |  6 | 2 | 4 | 0 | 13 | k1    |\n",
       "\n"
      ],
      "text/plain": [
       "      AATK ABCA7 ABHD2 ABHD5 ABTB1 ACAP2 ACOX1 ACSL1 ACTB ACTG1 ⋯ ZFP36 ZFP36L1\n",
       "k4    1    2     4      7     8     3    0      9     34   12   ⋯  6    11     \n",
       "m14.3 4    1     8      3    17     6    4      8     58   24   ⋯ 19    29     \n",
       "m26.2 8    6     4     24    27    20    6     42    113   31   ⋯ 24    32     \n",
       "m14.4 3    1     5      3    23     9    3     12     73   25   ⋯ 15    23     \n",
       "m3.3  2    3     5      7    17    10    2     18    172  215   ⋯ 29    34     \n",
       "k1    4    1     1      4    17     2    1     11     44   18   ⋯ 14    33     \n",
       "      ZFP36L2 ZMAT2 ZNF106 ZNF281 ZNF467 ZNFX1 ZYX sample_id\n",
       "k4     5      2      0     2      4      0      9  k4       \n",
       "m14.3  9      0      3     2      3      1     13  m14.3    \n",
       "m26.2 22      8     11     6      6      5     23  m26.2    \n",
       "m14.4  6      1      2     1      4      0     14  m14.4    \n",
       "m3.3  11      2      9     5      7      6     26  m3.3     \n",
       "k1     2      3      6     2      4      0     13  k1       "
      ]
     },
     "metadata": {},
     "output_type": "display_data"
    }
   ],
   "source": [
    "head(neutrophils)"
   ]
  },
  {
   "cell_type": "code",
   "execution_count": 293,
   "id": "ec140a9b-75f3-4fa6-b7b7-41a68181b514",
   "metadata": {},
   "outputs": [],
   "source": [
    "sample_perc_zero = rowSums(neutrophils==0)/ ncol(neutrophils) "
   ]
  },
  {
   "cell_type": "code",
   "execution_count": 294,
   "id": "59de15f6-5b83-4eca-bbdd-32fa089527e6",
   "metadata": {},
   "outputs": [
    {
     "data": {
      "text/html": [
       "<style>\n",
       ".dl-inline {width: auto; margin:0; padding: 0}\n",
       ".dl-inline>dt, .dl-inline>dd {float: none; width: auto; display: inline-block}\n",
       ".dl-inline>dt::after {content: \":\\0020\"; padding-right: .5ex}\n",
       ".dl-inline>dt:not(:first-of-type) {padding-left: .5ex}\n",
       "</style><dl class=dl-inline><dt>k4</dt><dd>0.127623845507976</dd><dt>m14.3</dt><dd>0.0663308144416457</dd></dl>\n"
      ],
      "text/latex": [
       "\\begin{description*}\n",
       "\\item[k4] 0.127623845507976\n",
       "\\item[m14.3] 0.0663308144416457\n",
       "\\end{description*}\n"
      ],
      "text/markdown": [
       "k4\n",
       ":   0.127623845507976m14.3\n",
       ":   0.0663308144416457\n",
       "\n"
      ],
      "text/plain": [
       "        k4      m14.3 \n",
       "0.12762385 0.06633081 "
      ]
     },
     "metadata": {},
     "output_type": "display_data"
    }
   ],
   "source": [
    "head(sample_perc_zero,2)"
   ]
  },
  {
   "cell_type": "code",
   "execution_count": 295,
   "id": "e1e4f34b-724b-4d30-b1f5-61a8682ec81e",
   "metadata": {},
   "outputs": [],
   "source": [
    "remove_samples = sample_perc_zero[sample_perc_zero > 0.1]"
   ]
  },
  {
   "cell_type": "code",
   "execution_count": 296,
   "id": "0ee650af-5707-4cc0-a449-78053942c35e",
   "metadata": {},
   "outputs": [
    {
     "data": {
      "text/html": [
       "<style>\n",
       ".list-inline {list-style: none; margin:0; padding: 0}\n",
       ".list-inline>li {display: inline-block}\n",
       ".list-inline>li:not(:last-child)::after {content: \"\\00b7\"; padding: 0 .5ex}\n",
       "</style>\n",
       "<ol class=list-inline><li>'k15'</li><li>'k18'</li><li>'k2'</li><li>'k21'</li><li>'k23'</li><li>'k24'</li><li>'k27'</li><li>'k29'</li><li>'k31'</li><li>'k4'</li><li>'k9'</li><li>'m11.1'</li><li>'m12.1'</li><li>'m13.2'</li><li>'m14.2'</li><li>'m18.2'</li><li>'m19.3'</li><li>'m2.3'</li><li>'m2.4'</li><li>'m20.1'</li><li>'m20.3'</li><li>'m22.3'</li><li>'m26.3'</li><li>'m5.2'</li><li>'m5.4'</li><li>'m6.1'</li><li>'m6.2'</li><li>'m9.1'</li><li>'m9.2'</li></ol>\n"
      ],
      "text/latex": [
       "\\begin{enumerate*}\n",
       "\\item 'k15'\n",
       "\\item 'k18'\n",
       "\\item 'k2'\n",
       "\\item 'k21'\n",
       "\\item 'k23'\n",
       "\\item 'k24'\n",
       "\\item 'k27'\n",
       "\\item 'k29'\n",
       "\\item 'k31'\n",
       "\\item 'k4'\n",
       "\\item 'k9'\n",
       "\\item 'm11.1'\n",
       "\\item 'm12.1'\n",
       "\\item 'm13.2'\n",
       "\\item 'm14.2'\n",
       "\\item 'm18.2'\n",
       "\\item 'm19.3'\n",
       "\\item 'm2.3'\n",
       "\\item 'm2.4'\n",
       "\\item 'm20.1'\n",
       "\\item 'm20.3'\n",
       "\\item 'm22.3'\n",
       "\\item 'm26.3'\n",
       "\\item 'm5.2'\n",
       "\\item 'm5.4'\n",
       "\\item 'm6.1'\n",
       "\\item 'm6.2'\n",
       "\\item 'm9.1'\n",
       "\\item 'm9.2'\n",
       "\\end{enumerate*}\n"
      ],
      "text/markdown": [
       "1. 'k15'\n",
       "2. 'k18'\n",
       "3. 'k2'\n",
       "4. 'k21'\n",
       "5. 'k23'\n",
       "6. 'k24'\n",
       "7. 'k27'\n",
       "8. 'k29'\n",
       "9. 'k31'\n",
       "10. 'k4'\n",
       "11. 'k9'\n",
       "12. 'm11.1'\n",
       "13. 'm12.1'\n",
       "14. 'm13.2'\n",
       "15. 'm14.2'\n",
       "16. 'm18.2'\n",
       "17. 'm19.3'\n",
       "18. 'm2.3'\n",
       "19. 'm2.4'\n",
       "20. 'm20.1'\n",
       "21. 'm20.3'\n",
       "22. 'm22.3'\n",
       "23. 'm26.3'\n",
       "24. 'm5.2'\n",
       "25. 'm5.4'\n",
       "26. 'm6.1'\n",
       "27. 'm6.2'\n",
       "28. 'm9.1'\n",
       "29. 'm9.2'\n",
       "\n",
       "\n"
      ],
      "text/plain": [
       " [1] \"k15\"   \"k18\"   \"k2\"    \"k21\"   \"k23\"   \"k24\"   \"k27\"   \"k29\"   \"k31\"  \n",
       "[10] \"k4\"    \"k9\"    \"m11.1\" \"m12.1\" \"m13.2\" \"m14.2\" \"m18.2\" \"m19.3\" \"m2.3\" \n",
       "[19] \"m2.4\"  \"m20.1\" \"m20.3\" \"m22.3\" \"m26.3\" \"m5.2\"  \"m5.4\"  \"m6.1\"  \"m6.2\" \n",
       "[28] \"m9.1\"  \"m9.2\" "
      ]
     },
     "metadata": {},
     "output_type": "display_data"
    }
   ],
   "source": [
    "sort(names(remove_samples))"
   ]
  },
  {
   "cell_type": "code",
   "execution_count": 297,
   "id": "989c6540-13b5-4e27-aee4-4bedecdbee7e",
   "metadata": {},
   "outputs": [
    {
     "data": {
      "text/html": [
       "29"
      ],
      "text/latex": [
       "29"
      ],
      "text/markdown": [
       "29"
      ],
      "text/plain": [
       "[1] 29"
      ]
     },
     "metadata": {},
     "output_type": "display_data"
    }
   ],
   "source": [
    "length(names(remove_samples))"
   ]
  },
  {
   "cell_type": "code",
   "execution_count": 298,
   "id": "45ebc800-c0ca-445a-85f2-b7592baec542",
   "metadata": {},
   "outputs": [],
   "source": [
    "neutrophils = neutrophils[!rownames(neutrophils) %in% names(remove_samples),]"
   ]
  },
  {
   "cell_type": "code",
   "execution_count": 299,
   "id": "3ce8fe20-a0f3-4b6c-86e7-7ad8ec1196b8",
   "metadata": {},
   "outputs": [
    {
     "data": {
      "text/html": [
       "92"
      ],
      "text/latex": [
       "92"
      ],
      "text/markdown": [
       "92"
      ],
      "text/plain": [
       "[1] 92"
      ]
     },
     "metadata": {},
     "output_type": "display_data"
    }
   ],
   "source": [
    "length(unique(rownames(neutrophils)))"
   ]
  },
  {
   "cell_type": "markdown",
   "id": "69f468d0-88ff-4b3d-8601-90222d4d5fd7",
   "metadata": {
    "tags": []
   },
   "source": [
    "### Normalization"
   ]
  },
  {
   "cell_type": "code",
   "execution_count": 300,
   "id": "7dd5a930-4589-45bb-abbd-bfb48e3a5346",
   "metadata": {},
   "outputs": [],
   "source": [
    "### Adjust for library size (10.000 counts per sample)"
   ]
  },
  {
   "cell_type": "code",
   "execution_count": 301,
   "id": "1781c12f-a2cd-4c60-a38a-8f257e3f1c18",
   "metadata": {},
   "outputs": [
    {
     "data": {
      "text/html": [
       "<style>\n",
       ".list-inline {list-style: none; margin:0; padding: 0}\n",
       ".list-inline>li {display: inline-block}\n",
       ".list-inline>li:not(:last-child)::after {content: \"\\00b7\"; padding: 0 .5ex}\n",
       "</style>\n",
       "<ol class=list-inline><li>92</li><li>1191</li></ol>\n"
      ],
      "text/latex": [
       "\\begin{enumerate*}\n",
       "\\item 92\n",
       "\\item 1191\n",
       "\\end{enumerate*}\n"
      ],
      "text/markdown": [
       "1. 92\n",
       "2. 1191\n",
       "\n",
       "\n"
      ],
      "text/plain": [
       "[1]   92 1191"
      ]
     },
     "metadata": {},
     "output_type": "display_data"
    }
   ],
   "source": [
    "dim(neutrophils)"
   ]
  },
  {
   "cell_type": "code",
   "execution_count": 302,
   "id": "cff88b2a-1752-4b42-806e-040156b4a98d",
   "metadata": {},
   "outputs": [],
   "source": [
    "neutrophils$sample_id =  NULL"
   ]
  },
  {
   "cell_type": "code",
   "execution_count": 303,
   "id": "4cceb835-b06b-405a-a933-fe905cb48cd4",
   "metadata": {},
   "outputs": [],
   "source": [
    "scaling_factor = rowSums(neutrophils) /mean(rowSums(neutrophils))"
   ]
  },
  {
   "cell_type": "code",
   "execution_count": 304,
   "id": "6e602b38-331e-4ffa-a340-f94048b1bfb7",
   "metadata": {},
   "outputs": [
    {
     "data": {
      "text/html": [
       "<style>\n",
       ".dl-inline {width: auto; margin:0; padding: 0}\n",
       ".dl-inline>dt, .dl-inline>dd {float: none; width: auto; display: inline-block}\n",
       ".dl-inline>dt::after {content: \":\\0020\"; padding-right: .5ex}\n",
       ".dl-inline>dt:not(:first-of-type) {padding-left: .5ex}\n",
       "</style><dl class=dl-inline><dt>m14.3</dt><dd>0.632337460735409</dd><dt>m26.2</dt><dd>1.53461600002246</dd><dt>m14.4</dt><dd>0.712783905096888</dd><dt>m3.3</dt><dd>1.60744392076062</dd><dt>k1</dt><dd>0.659712494771739</dd><dt>m24.4</dt><dd>1.33653438581618</dd></dl>\n"
      ],
      "text/latex": [
       "\\begin{description*}\n",
       "\\item[m14.3] 0.632337460735409\n",
       "\\item[m26.2] 1.53461600002246\n",
       "\\item[m14.4] 0.712783905096888\n",
       "\\item[m3.3] 1.60744392076062\n",
       "\\item[k1] 0.659712494771739\n",
       "\\item[m24.4] 1.33653438581618\n",
       "\\end{description*}\n"
      ],
      "text/markdown": [
       "m14.3\n",
       ":   0.632337460735409m26.2\n",
       ":   1.53461600002246m14.4\n",
       ":   0.712783905096888m3.3\n",
       ":   1.60744392076062k1\n",
       ":   0.659712494771739m24.4\n",
       ":   1.33653438581618\n",
       "\n"
      ],
      "text/plain": [
       "    m14.3     m26.2     m14.4      m3.3        k1     m24.4 \n",
       "0.6323375 1.5346160 0.7127839 1.6074439 0.6597125 1.3365344 "
      ]
     },
     "metadata": {},
     "output_type": "display_data"
    }
   ],
   "source": [
    "head(scaling_factor)"
   ]
  },
  {
   "cell_type": "code",
   "execution_count": 305,
   "id": "263d97d9-4f8e-4b97-8fdc-fb4b9265237d",
   "metadata": {},
   "outputs": [
    {
     "data": {
      "text/html": [
       "15488.5652173913"
      ],
      "text/latex": [
       "15488.5652173913"
      ],
      "text/markdown": [
       "15488.5652173913"
      ],
      "text/plain": [
       "[1] 15488.57"
      ]
     },
     "metadata": {},
     "output_type": "display_data"
    }
   ],
   "source": [
    "mean(rowSums(neutrophils))"
   ]
  },
  {
   "cell_type": "code",
   "execution_count": 306,
   "id": "38328c9e-57b2-4bca-a7a2-448571e9613e",
   "metadata": {},
   "outputs": [],
   "source": [
    "if(library_adjustment_neutrophils == TRUE){\n",
    "    neutrophils = apply(neutrophils,2, function(x){ x/scaling_factor})\n",
    "    }"
   ]
  },
  {
   "cell_type": "code",
   "execution_count": 307,
   "id": "7e892eb9-2580-446e-a9fe-4a7948a76f2b",
   "metadata": {},
   "outputs": [
    {
     "data": {
      "text/html": [
       "<table class=\"dataframe\">\n",
       "<caption>A matrix: 2 × 1190 of type dbl</caption>\n",
       "<thead>\n",
       "\t<tr><th></th><th scope=col>AATK</th><th scope=col>ABCA7</th><th scope=col>ABHD2</th><th scope=col>ABHD5</th><th scope=col>ABTB1</th><th scope=col>ACAP2</th><th scope=col>ACOX1</th><th scope=col>ACSL1</th><th scope=col>ACTB</th><th scope=col>ACTG1</th><th scope=col>⋯</th><th scope=col>ZFAS1</th><th scope=col>ZFP36</th><th scope=col>ZFP36L1</th><th scope=col>ZFP36L2</th><th scope=col>ZMAT2</th><th scope=col>ZNF106</th><th scope=col>ZNF281</th><th scope=col>ZNF467</th><th scope=col>ZNFX1</th><th scope=col>ZYX</th></tr>\n",
       "</thead>\n",
       "<tbody>\n",
       "\t<tr><th scope=row>m14.3</th><td>6.325736</td><td>1.581434</td><td>12.651473</td><td> 4.744302</td><td>26.88438</td><td> 9.488604</td><td>6.325736</td><td>12.65147</td><td>91.72318</td><td>37.95442</td><td>⋯</td><td>1.581434</td><td>30.04725</td><td>45.86159</td><td>14.23291</td><td>0.00000</td><td>4.744302</td><td>3.162868</td><td>4.744302</td><td>1.581434</td><td>20.55864</td></tr>\n",
       "\t<tr><th scope=row>m26.2</th><td>5.213030</td><td>3.909773</td><td> 2.606515</td><td>15.639091</td><td>17.59398</td><td>13.032576</td><td>3.909773</td><td>27.36841</td><td>73.63406</td><td>20.20049</td><td>⋯</td><td>7.819546</td><td>15.63909</td><td>20.85212</td><td>14.33583</td><td>5.21303</td><td>7.167917</td><td>3.909773</td><td>3.909773</td><td>3.258144</td><td>14.98746</td></tr>\n",
       "</tbody>\n",
       "</table>\n"
      ],
      "text/latex": [
       "A matrix: 2 × 1190 of type dbl\n",
       "\\begin{tabular}{r|lllllllllllllllllllll}\n",
       "  & AATK & ABCA7 & ABHD2 & ABHD5 & ABTB1 & ACAP2 & ACOX1 & ACSL1 & ACTB & ACTG1 & ⋯ & ZFAS1 & ZFP36 & ZFP36L1 & ZFP36L2 & ZMAT2 & ZNF106 & ZNF281 & ZNF467 & ZNFX1 & ZYX\\\\\n",
       "\\hline\n",
       "\tm14.3 & 6.325736 & 1.581434 & 12.651473 &  4.744302 & 26.88438 &  9.488604 & 6.325736 & 12.65147 & 91.72318 & 37.95442 & ⋯ & 1.581434 & 30.04725 & 45.86159 & 14.23291 & 0.00000 & 4.744302 & 3.162868 & 4.744302 & 1.581434 & 20.55864\\\\\n",
       "\tm26.2 & 5.213030 & 3.909773 &  2.606515 & 15.639091 & 17.59398 & 13.032576 & 3.909773 & 27.36841 & 73.63406 & 20.20049 & ⋯ & 7.819546 & 15.63909 & 20.85212 & 14.33583 & 5.21303 & 7.167917 & 3.909773 & 3.909773 & 3.258144 & 14.98746\\\\\n",
       "\\end{tabular}\n"
      ],
      "text/markdown": [
       "\n",
       "A matrix: 2 × 1190 of type dbl\n",
       "\n",
       "| <!--/--> | AATK | ABCA7 | ABHD2 | ABHD5 | ABTB1 | ACAP2 | ACOX1 | ACSL1 | ACTB | ACTG1 | ⋯ | ZFAS1 | ZFP36 | ZFP36L1 | ZFP36L2 | ZMAT2 | ZNF106 | ZNF281 | ZNF467 | ZNFX1 | ZYX |\n",
       "|---|---|---|---|---|---|---|---|---|---|---|---|---|---|---|---|---|---|---|---|---|---|\n",
       "| m14.3 | 6.325736 | 1.581434 | 12.651473 |  4.744302 | 26.88438 |  9.488604 | 6.325736 | 12.65147 | 91.72318 | 37.95442 | ⋯ | 1.581434 | 30.04725 | 45.86159 | 14.23291 | 0.00000 | 4.744302 | 3.162868 | 4.744302 | 1.581434 | 20.55864 |\n",
       "| m26.2 | 5.213030 | 3.909773 |  2.606515 | 15.639091 | 17.59398 | 13.032576 | 3.909773 | 27.36841 | 73.63406 | 20.20049 | ⋯ | 7.819546 | 15.63909 | 20.85212 | 14.33583 | 5.21303 | 7.167917 | 3.909773 | 3.909773 | 3.258144 | 14.98746 |\n",
       "\n"
      ],
      "text/plain": [
       "      AATK     ABCA7    ABHD2     ABHD5     ABTB1    ACAP2     ACOX1   \n",
       "m14.3 6.325736 1.581434 12.651473  4.744302 26.88438  9.488604 6.325736\n",
       "m26.2 5.213030 3.909773  2.606515 15.639091 17.59398 13.032576 3.909773\n",
       "      ACSL1    ACTB     ACTG1    ⋯ ZFAS1    ZFP36    ZFP36L1  ZFP36L2  ZMAT2  \n",
       "m14.3 12.65147 91.72318 37.95442 ⋯ 1.581434 30.04725 45.86159 14.23291 0.00000\n",
       "m26.2 27.36841 73.63406 20.20049 ⋯ 7.819546 15.63909 20.85212 14.33583 5.21303\n",
       "      ZNF106   ZNF281   ZNF467   ZNFX1    ZYX     \n",
       "m14.3 4.744302 3.162868 4.744302 1.581434 20.55864\n",
       "m26.2 7.167917 3.909773 3.909773 3.258144 14.98746"
      ]
     },
     "metadata": {},
     "output_type": "display_data"
    }
   ],
   "source": [
    "head(neutrophils,2)"
   ]
  },
  {
   "cell_type": "code",
   "execution_count": 308,
   "id": "7b2c4dfb-c0d7-4d84-bd97-486ab45cd6d2",
   "metadata": {},
   "outputs": [
    {
     "data": {
      "text/html": [
       "273"
      ],
      "text/latex": [
       "273"
      ],
      "text/markdown": [
       "273"
      ],
      "text/plain": [
       "[1] 273"
      ]
     },
     "metadata": {},
     "output_type": "display_data"
    }
   ],
   "source": [
    "ncol(neutrophils[,highly_expressed_genes])"
   ]
  },
  {
   "cell_type": "code",
   "execution_count": 309,
   "id": "be513ab9-da55-432a-bff5-552e6ede9e7a",
   "metadata": {},
   "outputs": [
    {
     "data": {
      "text/html": [
       "<style>\n",
       ".dl-inline {width: auto; margin:0; padding: 0}\n",
       ".dl-inline>dt, .dl-inline>dd {float: none; width: auto; display: inline-block}\n",
       ".dl-inline>dt::after {content: \":\\0020\"; padding-right: .5ex}\n",
       ".dl-inline>dt:not(:first-of-type) {padding-left: .5ex}\n",
       "</style><dl class=dl-inline><dt>m14.3</dt><dd>15488.5652173913</dd><dt>m26.2</dt><dd>15488.5652173913</dd><dt>m14.4</dt><dd>15488.5652173913</dd><dt>m3.3</dt><dd>15488.5652173913</dd><dt>k1</dt><dd>15488.5652173913</dd><dt>m24.4</dt><dd>15488.5652173913</dd></dl>\n"
      ],
      "text/latex": [
       "\\begin{description*}\n",
       "\\item[m14.3] 15488.5652173913\n",
       "\\item[m26.2] 15488.5652173913\n",
       "\\item[m14.4] 15488.5652173913\n",
       "\\item[m3.3] 15488.5652173913\n",
       "\\item[k1] 15488.5652173913\n",
       "\\item[m24.4] 15488.5652173913\n",
       "\\end{description*}\n"
      ],
      "text/markdown": [
       "m14.3\n",
       ":   15488.5652173913m26.2\n",
       ":   15488.5652173913m14.4\n",
       ":   15488.5652173913m3.3\n",
       ":   15488.5652173913k1\n",
       ":   15488.5652173913m24.4\n",
       ":   15488.5652173913\n",
       "\n"
      ],
      "text/plain": [
       "   m14.3    m26.2    m14.4     m3.3       k1    m24.4 \n",
       "15488.57 15488.57 15488.57 15488.57 15488.57 15488.57 "
      ]
     },
     "metadata": {},
     "output_type": "display_data"
    }
   ],
   "source": [
    "head(rowSums(neutrophils) ) # check out counts per sample  - TBD compare with pseudobulk RNA- DATA"
   ]
  },
  {
   "cell_type": "code",
   "execution_count": 311,
   "id": "cf62e2fd-276c-4fa0-adc6-03945c629a3b",
   "metadata": {},
   "outputs": [
    {
     "data": {
      "text/html": [
       "<table class=\"dataframe\">\n",
       "<caption>A matrix: 2 × 1190 of type dbl</caption>\n",
       "<thead>\n",
       "\t<tr><th></th><th scope=col>AATK</th><th scope=col>ABCA7</th><th scope=col>ABHD2</th><th scope=col>ABHD5</th><th scope=col>ABTB1</th><th scope=col>ACAP2</th><th scope=col>ACOX1</th><th scope=col>ACSL1</th><th scope=col>ACTB</th><th scope=col>ACTG1</th><th scope=col>⋯</th><th scope=col>ZFAS1</th><th scope=col>ZFP36</th><th scope=col>ZFP36L1</th><th scope=col>ZFP36L2</th><th scope=col>ZMAT2</th><th scope=col>ZNF106</th><th scope=col>ZNF281</th><th scope=col>ZNF467</th><th scope=col>ZNFX1</th><th scope=col>ZYX</th></tr>\n",
       "</thead>\n",
       "<tbody>\n",
       "\t<tr><th scope=row>m14.3</th><td>6.325736</td><td>1.581434</td><td>12.651473</td><td> 4.744302</td><td>26.88438</td><td> 9.488604</td><td>6.325736</td><td>12.65147</td><td>91.72318</td><td>37.95442</td><td>⋯</td><td>1.581434</td><td>30.04725</td><td>45.86159</td><td>14.23291</td><td>0.00000</td><td>4.744302</td><td>3.162868</td><td>4.744302</td><td>1.581434</td><td>20.55864</td></tr>\n",
       "\t<tr><th scope=row>m26.2</th><td>5.213030</td><td>3.909773</td><td> 2.606515</td><td>15.639091</td><td>17.59398</td><td>13.032576</td><td>3.909773</td><td>27.36841</td><td>73.63406</td><td>20.20049</td><td>⋯</td><td>7.819546</td><td>15.63909</td><td>20.85212</td><td>14.33583</td><td>5.21303</td><td>7.167917</td><td>3.909773</td><td>3.909773</td><td>3.258144</td><td>14.98746</td></tr>\n",
       "</tbody>\n",
       "</table>\n"
      ],
      "text/latex": [
       "A matrix: 2 × 1190 of type dbl\n",
       "\\begin{tabular}{r|lllllllllllllllllllll}\n",
       "  & AATK & ABCA7 & ABHD2 & ABHD5 & ABTB1 & ACAP2 & ACOX1 & ACSL1 & ACTB & ACTG1 & ⋯ & ZFAS1 & ZFP36 & ZFP36L1 & ZFP36L2 & ZMAT2 & ZNF106 & ZNF281 & ZNF467 & ZNFX1 & ZYX\\\\\n",
       "\\hline\n",
       "\tm14.3 & 6.325736 & 1.581434 & 12.651473 &  4.744302 & 26.88438 &  9.488604 & 6.325736 & 12.65147 & 91.72318 & 37.95442 & ⋯ & 1.581434 & 30.04725 & 45.86159 & 14.23291 & 0.00000 & 4.744302 & 3.162868 & 4.744302 & 1.581434 & 20.55864\\\\\n",
       "\tm26.2 & 5.213030 & 3.909773 &  2.606515 & 15.639091 & 17.59398 & 13.032576 & 3.909773 & 27.36841 & 73.63406 & 20.20049 & ⋯ & 7.819546 & 15.63909 & 20.85212 & 14.33583 & 5.21303 & 7.167917 & 3.909773 & 3.909773 & 3.258144 & 14.98746\\\\\n",
       "\\end{tabular}\n"
      ],
      "text/markdown": [
       "\n",
       "A matrix: 2 × 1190 of type dbl\n",
       "\n",
       "| <!--/--> | AATK | ABCA7 | ABHD2 | ABHD5 | ABTB1 | ACAP2 | ACOX1 | ACSL1 | ACTB | ACTG1 | ⋯ | ZFAS1 | ZFP36 | ZFP36L1 | ZFP36L2 | ZMAT2 | ZNF106 | ZNF281 | ZNF467 | ZNFX1 | ZYX |\n",
       "|---|---|---|---|---|---|---|---|---|---|---|---|---|---|---|---|---|---|---|---|---|---|\n",
       "| m14.3 | 6.325736 | 1.581434 | 12.651473 |  4.744302 | 26.88438 |  9.488604 | 6.325736 | 12.65147 | 91.72318 | 37.95442 | ⋯ | 1.581434 | 30.04725 | 45.86159 | 14.23291 | 0.00000 | 4.744302 | 3.162868 | 4.744302 | 1.581434 | 20.55864 |\n",
       "| m26.2 | 5.213030 | 3.909773 |  2.606515 | 15.639091 | 17.59398 | 13.032576 | 3.909773 | 27.36841 | 73.63406 | 20.20049 | ⋯ | 7.819546 | 15.63909 | 20.85212 | 14.33583 | 5.21303 | 7.167917 | 3.909773 | 3.909773 | 3.258144 | 14.98746 |\n",
       "\n"
      ],
      "text/plain": [
       "      AATK     ABCA7    ABHD2     ABHD5     ABTB1    ACAP2     ACOX1   \n",
       "m14.3 6.325736 1.581434 12.651473  4.744302 26.88438  9.488604 6.325736\n",
       "m26.2 5.213030 3.909773  2.606515 15.639091 17.59398 13.032576 3.909773\n",
       "      ACSL1    ACTB     ACTG1    ⋯ ZFAS1    ZFP36    ZFP36L1  ZFP36L2  ZMAT2  \n",
       "m14.3 12.65147 91.72318 37.95442 ⋯ 1.581434 30.04725 45.86159 14.23291 0.00000\n",
       "m26.2 27.36841 73.63406 20.20049 ⋯ 7.819546 15.63909 20.85212 14.33583 5.21303\n",
       "      ZNF106   ZNF281   ZNF467   ZNFX1    ZYX     \n",
       "m14.3 4.744302 3.162868 4.744302 1.581434 20.55864\n",
       "m26.2 7.167917 3.909773 3.909773 3.258144 14.98746"
      ]
     },
     "metadata": {},
     "output_type": "display_data"
    }
   ],
   "source": [
    "head(neutrophils,2)"
   ]
  },
  {
   "cell_type": "code",
   "execution_count": 312,
   "id": "cc02a86c-8ef4-46a9-b7b8-b9b5b17f5bfb",
   "metadata": {
    "tags": []
   },
   "outputs": [],
   "source": [
    "#### logarithmize neutrophil data \n",
    "neutrophils = data.frame(log2(neutrophils + 1))"
   ]
  },
  {
   "cell_type": "code",
   "execution_count": 313,
   "id": "254dd8e7-5c68-4453-98f9-398072cc0ecb",
   "metadata": {},
   "outputs": [],
   "source": [
    "neutrophils = data.frame(neutrophils)"
   ]
  },
  {
   "cell_type": "code",
   "execution_count": 314,
   "id": "c4d74545-f958-4d30-8e77-46d7bdd71365",
   "metadata": {},
   "outputs": [
    {
     "data": {
      "text/html": [
       "<table class=\"dataframe\">\n",
       "<caption>A data.frame: 2 × 1190</caption>\n",
       "<thead>\n",
       "\t<tr><th></th><th scope=col>AATK</th><th scope=col>ABCA7</th><th scope=col>ABHD2</th><th scope=col>ABHD5</th><th scope=col>ABTB1</th><th scope=col>ACAP2</th><th scope=col>ACOX1</th><th scope=col>ACSL1</th><th scope=col>ACTB</th><th scope=col>ACTG1</th><th scope=col>⋯</th><th scope=col>ZFAS1</th><th scope=col>ZFP36</th><th scope=col>ZFP36L1</th><th scope=col>ZFP36L2</th><th scope=col>ZMAT2</th><th scope=col>ZNF106</th><th scope=col>ZNF281</th><th scope=col>ZNF467</th><th scope=col>ZNFX1</th><th scope=col>ZYX</th></tr>\n",
       "\t<tr><th></th><th scope=col>&lt;dbl&gt;</th><th scope=col>&lt;dbl&gt;</th><th scope=col>&lt;dbl&gt;</th><th scope=col>&lt;dbl&gt;</th><th scope=col>&lt;dbl&gt;</th><th scope=col>&lt;dbl&gt;</th><th scope=col>&lt;dbl&gt;</th><th scope=col>&lt;dbl&gt;</th><th scope=col>&lt;dbl&gt;</th><th scope=col>&lt;dbl&gt;</th><th scope=col>⋯</th><th scope=col>&lt;dbl&gt;</th><th scope=col>&lt;dbl&gt;</th><th scope=col>&lt;dbl&gt;</th><th scope=col>&lt;dbl&gt;</th><th scope=col>&lt;dbl&gt;</th><th scope=col>&lt;dbl&gt;</th><th scope=col>&lt;dbl&gt;</th><th scope=col>&lt;dbl&gt;</th><th scope=col>&lt;dbl&gt;</th><th scope=col>&lt;dbl&gt;</th></tr>\n",
       "</thead>\n",
       "<tbody>\n",
       "\t<tr><th scope=row>m14.3</th><td>2.872974</td><td>1.368173</td><td>3.770985</td><td>2.522132</td><td>4.801385</td><td>3.390751</td><td>2.872974</td><td>3.770985</td><td>6.534858</td><td>5.283715</td><td>⋯</td><td>1.368173</td><td>4.956393</td><td>5.550334</td><td>3.929119</td><td>0.000000</td><td>2.522132</td><td>2.057578</td><td>2.522132</td><td>1.368173</td><td>4.430194</td></tr>\n",
       "\t<tr><th scope=row>m26.2</th><td>2.635297</td><td>2.295656</td><td>1.850606</td><td>4.056505</td><td>4.216764</td><td>3.810708</td><td>2.295656</td><td>4.826213</td><td>6.221762</td><td>4.406026</td><td>⋯</td><td>3.140704</td><td>4.056505</td><td>4.449701</td><td>3.938835</td><td>2.635297</td><td>3.029968</td><td>2.295656</td><td>2.295656</td><td>2.090225</td><td>3.998869</td></tr>\n",
       "</tbody>\n",
       "</table>\n"
      ],
      "text/latex": [
       "A data.frame: 2 × 1190\n",
       "\\begin{tabular}{r|lllllllllllllllllllll}\n",
       "  & AATK & ABCA7 & ABHD2 & ABHD5 & ABTB1 & ACAP2 & ACOX1 & ACSL1 & ACTB & ACTG1 & ⋯ & ZFAS1 & ZFP36 & ZFP36L1 & ZFP36L2 & ZMAT2 & ZNF106 & ZNF281 & ZNF467 & ZNFX1 & ZYX\\\\\n",
       "  & <dbl> & <dbl> & <dbl> & <dbl> & <dbl> & <dbl> & <dbl> & <dbl> & <dbl> & <dbl> & ⋯ & <dbl> & <dbl> & <dbl> & <dbl> & <dbl> & <dbl> & <dbl> & <dbl> & <dbl> & <dbl>\\\\\n",
       "\\hline\n",
       "\tm14.3 & 2.872974 & 1.368173 & 3.770985 & 2.522132 & 4.801385 & 3.390751 & 2.872974 & 3.770985 & 6.534858 & 5.283715 & ⋯ & 1.368173 & 4.956393 & 5.550334 & 3.929119 & 0.000000 & 2.522132 & 2.057578 & 2.522132 & 1.368173 & 4.430194\\\\\n",
       "\tm26.2 & 2.635297 & 2.295656 & 1.850606 & 4.056505 & 4.216764 & 3.810708 & 2.295656 & 4.826213 & 6.221762 & 4.406026 & ⋯ & 3.140704 & 4.056505 & 4.449701 & 3.938835 & 2.635297 & 3.029968 & 2.295656 & 2.295656 & 2.090225 & 3.998869\\\\\n",
       "\\end{tabular}\n"
      ],
      "text/markdown": [
       "\n",
       "A data.frame: 2 × 1190\n",
       "\n",
       "| <!--/--> | AATK &lt;dbl&gt; | ABCA7 &lt;dbl&gt; | ABHD2 &lt;dbl&gt; | ABHD5 &lt;dbl&gt; | ABTB1 &lt;dbl&gt; | ACAP2 &lt;dbl&gt; | ACOX1 &lt;dbl&gt; | ACSL1 &lt;dbl&gt; | ACTB &lt;dbl&gt; | ACTG1 &lt;dbl&gt; | ⋯ ⋯ | ZFAS1 &lt;dbl&gt; | ZFP36 &lt;dbl&gt; | ZFP36L1 &lt;dbl&gt; | ZFP36L2 &lt;dbl&gt; | ZMAT2 &lt;dbl&gt; | ZNF106 &lt;dbl&gt; | ZNF281 &lt;dbl&gt; | ZNF467 &lt;dbl&gt; | ZNFX1 &lt;dbl&gt; | ZYX &lt;dbl&gt; |\n",
       "|---|---|---|---|---|---|---|---|---|---|---|---|---|---|---|---|---|---|---|---|---|---|\n",
       "| m14.3 | 2.872974 | 1.368173 | 3.770985 | 2.522132 | 4.801385 | 3.390751 | 2.872974 | 3.770985 | 6.534858 | 5.283715 | ⋯ | 1.368173 | 4.956393 | 5.550334 | 3.929119 | 0.000000 | 2.522132 | 2.057578 | 2.522132 | 1.368173 | 4.430194 |\n",
       "| m26.2 | 2.635297 | 2.295656 | 1.850606 | 4.056505 | 4.216764 | 3.810708 | 2.295656 | 4.826213 | 6.221762 | 4.406026 | ⋯ | 3.140704 | 4.056505 | 4.449701 | 3.938835 | 2.635297 | 3.029968 | 2.295656 | 2.295656 | 2.090225 | 3.998869 |\n",
       "\n"
      ],
      "text/plain": [
       "      AATK     ABCA7    ABHD2    ABHD5    ABTB1    ACAP2    ACOX1    ACSL1   \n",
       "m14.3 2.872974 1.368173 3.770985 2.522132 4.801385 3.390751 2.872974 3.770985\n",
       "m26.2 2.635297 2.295656 1.850606 4.056505 4.216764 3.810708 2.295656 4.826213\n",
       "      ACTB     ACTG1    ⋯ ZFAS1    ZFP36    ZFP36L1  ZFP36L2  ZMAT2    ZNF106  \n",
       "m14.3 6.534858 5.283715 ⋯ 1.368173 4.956393 5.550334 3.929119 0.000000 2.522132\n",
       "m26.2 6.221762 4.406026 ⋯ 3.140704 4.056505 4.449701 3.938835 2.635297 3.029968\n",
       "      ZNF281   ZNF467   ZNFX1    ZYX     \n",
       "m14.3 2.057578 2.522132 1.368173 4.430194\n",
       "m26.2 2.295656 2.295656 2.090225 3.998869"
      ]
     },
     "metadata": {},
     "output_type": "display_data"
    }
   ],
   "source": [
    "head(neutrophils,2)"
   ]
  },
  {
   "cell_type": "code",
   "execution_count": 318,
   "id": "8de9fb48-0c30-418c-8fc6-3a443ffc022f",
   "metadata": {},
   "outputs": [],
   "source": [
    "### Inspect variance"
   ]
  },
  {
   "cell_type": "code",
   "execution_count": 319,
   "id": "a1f7d35e-3387-4d4d-9320-94e881f97323",
   "metadata": {},
   "outputs": [
    {
     "data": {
      "text/html": [
       "<table class=\"dataframe\">\n",
       "<caption>A data.frame: 2 × 1190</caption>\n",
       "<thead>\n",
       "\t<tr><th></th><th scope=col>AATK</th><th scope=col>ABCA7</th><th scope=col>ABHD2</th><th scope=col>ABHD5</th><th scope=col>ABTB1</th><th scope=col>ACAP2</th><th scope=col>ACOX1</th><th scope=col>ACSL1</th><th scope=col>ACTB</th><th scope=col>ACTG1</th><th scope=col>⋯</th><th scope=col>ZFAS1</th><th scope=col>ZFP36</th><th scope=col>ZFP36L1</th><th scope=col>ZFP36L2</th><th scope=col>ZMAT2</th><th scope=col>ZNF106</th><th scope=col>ZNF281</th><th scope=col>ZNF467</th><th scope=col>ZNFX1</th><th scope=col>ZYX</th></tr>\n",
       "\t<tr><th></th><th scope=col>&lt;dbl&gt;</th><th scope=col>&lt;dbl&gt;</th><th scope=col>&lt;dbl&gt;</th><th scope=col>&lt;dbl&gt;</th><th scope=col>&lt;dbl&gt;</th><th scope=col>&lt;dbl&gt;</th><th scope=col>&lt;dbl&gt;</th><th scope=col>&lt;dbl&gt;</th><th scope=col>&lt;dbl&gt;</th><th scope=col>&lt;dbl&gt;</th><th scope=col>⋯</th><th scope=col>&lt;dbl&gt;</th><th scope=col>&lt;dbl&gt;</th><th scope=col>&lt;dbl&gt;</th><th scope=col>&lt;dbl&gt;</th><th scope=col>&lt;dbl&gt;</th><th scope=col>&lt;dbl&gt;</th><th scope=col>&lt;dbl&gt;</th><th scope=col>&lt;dbl&gt;</th><th scope=col>&lt;dbl&gt;</th><th scope=col>&lt;dbl&gt;</th></tr>\n",
       "</thead>\n",
       "<tbody>\n",
       "\t<tr><th scope=row>m14.3</th><td>2.872974</td><td>1.368173</td><td>3.770985</td><td>2.522132</td><td>4.801385</td><td>3.390751</td><td>2.872974</td><td>3.770985</td><td>6.534858</td><td>5.283715</td><td>⋯</td><td>1.368173</td><td>4.956393</td><td>5.550334</td><td>3.929119</td><td>0.000000</td><td>2.522132</td><td>2.057578</td><td>2.522132</td><td>1.368173</td><td>4.430194</td></tr>\n",
       "\t<tr><th scope=row>m26.2</th><td>2.635297</td><td>2.295656</td><td>1.850606</td><td>4.056505</td><td>4.216764</td><td>3.810708</td><td>2.295656</td><td>4.826213</td><td>6.221762</td><td>4.406026</td><td>⋯</td><td>3.140704</td><td>4.056505</td><td>4.449701</td><td>3.938835</td><td>2.635297</td><td>3.029968</td><td>2.295656</td><td>2.295656</td><td>2.090225</td><td>3.998869</td></tr>\n",
       "</tbody>\n",
       "</table>\n"
      ],
      "text/latex": [
       "A data.frame: 2 × 1190\n",
       "\\begin{tabular}{r|lllllllllllllllllllll}\n",
       "  & AATK & ABCA7 & ABHD2 & ABHD5 & ABTB1 & ACAP2 & ACOX1 & ACSL1 & ACTB & ACTG1 & ⋯ & ZFAS1 & ZFP36 & ZFP36L1 & ZFP36L2 & ZMAT2 & ZNF106 & ZNF281 & ZNF467 & ZNFX1 & ZYX\\\\\n",
       "  & <dbl> & <dbl> & <dbl> & <dbl> & <dbl> & <dbl> & <dbl> & <dbl> & <dbl> & <dbl> & ⋯ & <dbl> & <dbl> & <dbl> & <dbl> & <dbl> & <dbl> & <dbl> & <dbl> & <dbl> & <dbl>\\\\\n",
       "\\hline\n",
       "\tm14.3 & 2.872974 & 1.368173 & 3.770985 & 2.522132 & 4.801385 & 3.390751 & 2.872974 & 3.770985 & 6.534858 & 5.283715 & ⋯ & 1.368173 & 4.956393 & 5.550334 & 3.929119 & 0.000000 & 2.522132 & 2.057578 & 2.522132 & 1.368173 & 4.430194\\\\\n",
       "\tm26.2 & 2.635297 & 2.295656 & 1.850606 & 4.056505 & 4.216764 & 3.810708 & 2.295656 & 4.826213 & 6.221762 & 4.406026 & ⋯ & 3.140704 & 4.056505 & 4.449701 & 3.938835 & 2.635297 & 3.029968 & 2.295656 & 2.295656 & 2.090225 & 3.998869\\\\\n",
       "\\end{tabular}\n"
      ],
      "text/markdown": [
       "\n",
       "A data.frame: 2 × 1190\n",
       "\n",
       "| <!--/--> | AATK &lt;dbl&gt; | ABCA7 &lt;dbl&gt; | ABHD2 &lt;dbl&gt; | ABHD5 &lt;dbl&gt; | ABTB1 &lt;dbl&gt; | ACAP2 &lt;dbl&gt; | ACOX1 &lt;dbl&gt; | ACSL1 &lt;dbl&gt; | ACTB &lt;dbl&gt; | ACTG1 &lt;dbl&gt; | ⋯ ⋯ | ZFAS1 &lt;dbl&gt; | ZFP36 &lt;dbl&gt; | ZFP36L1 &lt;dbl&gt; | ZFP36L2 &lt;dbl&gt; | ZMAT2 &lt;dbl&gt; | ZNF106 &lt;dbl&gt; | ZNF281 &lt;dbl&gt; | ZNF467 &lt;dbl&gt; | ZNFX1 &lt;dbl&gt; | ZYX &lt;dbl&gt; |\n",
       "|---|---|---|---|---|---|---|---|---|---|---|---|---|---|---|---|---|---|---|---|---|---|\n",
       "| m14.3 | 2.872974 | 1.368173 | 3.770985 | 2.522132 | 4.801385 | 3.390751 | 2.872974 | 3.770985 | 6.534858 | 5.283715 | ⋯ | 1.368173 | 4.956393 | 5.550334 | 3.929119 | 0.000000 | 2.522132 | 2.057578 | 2.522132 | 1.368173 | 4.430194 |\n",
       "| m26.2 | 2.635297 | 2.295656 | 1.850606 | 4.056505 | 4.216764 | 3.810708 | 2.295656 | 4.826213 | 6.221762 | 4.406026 | ⋯ | 3.140704 | 4.056505 | 4.449701 | 3.938835 | 2.635297 | 3.029968 | 2.295656 | 2.295656 | 2.090225 | 3.998869 |\n",
       "\n"
      ],
      "text/plain": [
       "      AATK     ABCA7    ABHD2    ABHD5    ABTB1    ACAP2    ACOX1    ACSL1   \n",
       "m14.3 2.872974 1.368173 3.770985 2.522132 4.801385 3.390751 2.872974 3.770985\n",
       "m26.2 2.635297 2.295656 1.850606 4.056505 4.216764 3.810708 2.295656 4.826213\n",
       "      ACTB     ACTG1    ⋯ ZFAS1    ZFP36    ZFP36L1  ZFP36L2  ZMAT2    ZNF106  \n",
       "m14.3 6.534858 5.283715 ⋯ 1.368173 4.956393 5.550334 3.929119 0.000000 2.522132\n",
       "m26.2 6.221762 4.406026 ⋯ 3.140704 4.056505 4.449701 3.938835 2.635297 3.029968\n",
       "      ZNF281   ZNF467   ZNFX1    ZYX     \n",
       "m14.3 2.057578 2.522132 1.368173 4.430194\n",
       "m26.2 2.295656 2.295656 2.090225 3.998869"
      ]
     },
     "metadata": {},
     "output_type": "display_data"
    }
   ],
   "source": [
    "head(neutrophils,2)"
   ]
  },
  {
   "cell_type": "code",
   "execution_count": 320,
   "id": "83570b8a-6ea4-41d4-aa55-bafdeec7267a",
   "metadata": {},
   "outputs": [],
   "source": [
    "variance = apply(neutrophils, 2, var)"
   ]
  },
  {
   "cell_type": "code",
   "execution_count": 321,
   "id": "13a1f51a-6b3d-499f-a16b-15d7b7e2a07a",
   "metadata": {},
   "outputs": [
    {
     "data": {
      "text/html": [
       "<style>\n",
       ".dl-inline {width: auto; margin:0; padding: 0}\n",
       ".dl-inline>dt, .dl-inline>dd {float: none; width: auto; display: inline-block}\n",
       ".dl-inline>dt::after {content: \":\\0020\"; padding-right: .5ex}\n",
       ".dl-inline>dt:not(:first-of-type) {padding-left: .5ex}\n",
       "</style><dl class=dl-inline><dt>AATK</dt><dd>0.852437116967111</dd><dt>ABCA7</dt><dd>0.821048427693991</dd><dt>ABHD2</dt><dd>0.584049128620725</dd><dt>ABHD5</dt><dd>0.586782638392095</dd><dt>ABTB1</dt><dd>0.583389200022329</dd><dt>ACAP2</dt><dd>0.518538178691948</dd></dl>\n"
      ],
      "text/latex": [
       "\\begin{description*}\n",
       "\\item[AATK] 0.852437116967111\n",
       "\\item[ABCA7] 0.821048427693991\n",
       "\\item[ABHD2] 0.584049128620725\n",
       "\\item[ABHD5] 0.586782638392095\n",
       "\\item[ABTB1] 0.583389200022329\n",
       "\\item[ACAP2] 0.518538178691948\n",
       "\\end{description*}\n"
      ],
      "text/markdown": [
       "AATK\n",
       ":   0.852437116967111ABCA7\n",
       ":   0.821048427693991ABHD2\n",
       ":   0.584049128620725ABHD5\n",
       ":   0.586782638392095ABTB1\n",
       ":   0.583389200022329ACAP2\n",
       ":   0.518538178691948\n",
       "\n"
      ],
      "text/plain": [
       "     AATK     ABCA7     ABHD2     ABHD5     ABTB1     ACAP2 \n",
       "0.8524371 0.8210484 0.5840491 0.5867826 0.5833892 0.5185382 "
      ]
     },
     "metadata": {},
     "output_type": "display_data"
    }
   ],
   "source": [
    "head(variance)"
   ]
  },
  {
   "cell_type": "code",
   "execution_count": 322,
   "id": "af487c2c-2c00-43ec-9643-007916965eb4",
   "metadata": {},
   "outputs": [
    {
     "data": {
      "text/html": [
       "0.686386310839021"
      ],
      "text/latex": [
       "0.686386310839021"
      ],
      "text/markdown": [
       "0.686386310839021"
      ],
      "text/plain": [
       "[1] 0.6863863"
      ]
     },
     "metadata": {},
     "output_type": "display_data"
    }
   ],
   "source": [
    "mean(apply(neutrophils, 2, var))"
   ]
  },
  {
   "cell_type": "code",
   "execution_count": 323,
   "id": "34a20f30-a303-4c7e-bdb8-23c8f4ea17f2",
   "metadata": {},
   "outputs": [
    {
     "data": {
      "text/html": [
       "273"
      ],
      "text/latex": [
       "273"
      ],
      "text/markdown": [
       "273"
      ],
      "text/plain": [
       "[1] 273"
      ]
     },
     "metadata": {},
     "output_type": "display_data"
    }
   ],
   "source": [
    "ncol(neutrophils[,highly_expressed_genes])"
   ]
  },
  {
   "cell_type": "code",
   "execution_count": 324,
   "id": "730bac66-5210-42e7-9455-c9f28ec21bf4",
   "metadata": {},
   "outputs": [],
   "source": [
    "var_threshold = quantile(variance, probs = seq(0, 1, 0.01), na.rm = FALSE,\n",
    "         names = TRUE)['25%']"
   ]
  },
  {
   "cell_type": "code",
   "execution_count": 325,
   "id": "fe7de9a2-48c2-484c-9bc6-85c822805653",
   "metadata": {},
   "outputs": [
    {
     "data": {
      "text/html": [
       "<strong>25%:</strong> 0.449859016907459"
      ],
      "text/latex": [
       "\\textbf{25\\textbackslash{}\\%:} 0.449859016907459"
      ],
      "text/markdown": [
       "**25%:** 0.449859016907459"
      ],
      "text/plain": [
       "     25% \n",
       "0.449859 "
      ]
     },
     "metadata": {},
     "output_type": "display_data"
    }
   ],
   "source": [
    "var_threshold"
   ]
  },
  {
   "cell_type": "code",
   "execution_count": 326,
   "id": "9fbda4e4-0ead-4152-9849-164d7d09a7b8",
   "metadata": {},
   "outputs": [
    {
     "data": {
      "text/html": [
       "1190"
      ],
      "text/latex": [
       "1190"
      ],
      "text/markdown": [
       "1190"
      ],
      "text/plain": [
       "[1] 1190"
      ]
     },
     "metadata": {},
     "output_type": "display_data"
    }
   ],
   "source": [
    "length(variance)"
   ]
  },
  {
   "cell_type": "code",
   "execution_count": 327,
   "id": "5d66d54d-c1e8-4c89-af5f-2e0e9405c515",
   "metadata": {},
   "outputs": [],
   "source": [
    "keep_genes = names(variance[variance > var_threshold])"
   ]
  },
  {
   "cell_type": "code",
   "execution_count": 328,
   "id": "638d0691-6363-49dd-9575-ec74856b3617",
   "metadata": {},
   "outputs": [
    {
     "data": {
      "text/html": [
       "1190"
      ],
      "text/latex": [
       "1190"
      ],
      "text/markdown": [
       "1190"
      ],
      "text/plain": [
       "[1] 1190"
      ]
     },
     "metadata": {},
     "output_type": "display_data"
    }
   ],
   "source": [
    "ncol(neutrophils)"
   ]
  },
  {
   "cell_type": "code",
   "execution_count": 329,
   "id": "ce58bc3e-1bb6-444d-8394-631f6f7c102a",
   "metadata": {},
   "outputs": [],
   "source": [
    "neutrophils = neutrophils[, keep_genes]"
   ]
  },
  {
   "cell_type": "code",
   "execution_count": 330,
   "id": "20b2d502-66ed-4b68-8c93-942b3f7bd5ef",
   "metadata": {},
   "outputs": [
    {
     "data": {
      "text/html": [
       "892"
      ],
      "text/latex": [
       "892"
      ],
      "text/markdown": [
       "892"
      ],
      "text/plain": [
       "[1] 892"
      ]
     },
     "metadata": {},
     "output_type": "display_data"
    }
   ],
   "source": [
    "ncol(neutrophils)"
   ]
  },
  {
   "cell_type": "code",
   "execution_count": 331,
   "id": "15c81c44-bcf3-4c40-8047-0dd173345c97",
   "metadata": {},
   "outputs": [
    {
     "data": {
      "text/html": [
       "65"
      ],
      "text/latex": [
       "65"
      ],
      "text/markdown": [
       "65"
      ],
      "text/plain": [
       "[1] 65"
      ]
     },
     "metadata": {},
     "output_type": "display_data"
    }
   ],
   "source": [
    "ncol(neutrophils[,colnames(neutrophils) %in% highly_expressed_genes])"
   ]
  },
  {
   "cell_type": "code",
   "execution_count": 332,
   "id": "7fe3af9a-1c8c-4a6d-a759-0778f5c533d1",
   "metadata": {},
   "outputs": [],
   "source": [
    "### Test relation to mean expression and amount of counts"
   ]
  },
  {
   "cell_type": "code",
   "execution_count": 350,
   "id": "b5a26cd7-29a7-4da0-9b8d-4e6541f4e4a1",
   "metadata": {},
   "outputs": [],
   "source": [
    "neutrophils$sample_id = rownames(neutrophils)"
   ]
  },
  {
   "cell_type": "code",
   "execution_count": 351,
   "id": "d5122027-1fa1-48a4-a89d-5c94ea8917f3",
   "metadata": {},
   "outputs": [
    {
     "name": "stderr",
     "output_type": "stream",
     "text": [
      "Using sample_id as id variables\n",
      "\n"
     ]
    }
   ],
   "source": [
    "neutrophils_long = melt(neutrophils)"
   ]
  },
  {
   "cell_type": "code",
   "execution_count": 352,
   "id": "d38d43ac-52d6-4244-9624-d0846d22108e",
   "metadata": {},
   "outputs": [],
   "source": [
    "summ_stats = neutrophils_long %>% group_by(sample_id) %>% summarise(sum_counts = mean(value), amount_zero = mean(value ==0))"
   ]
  },
  {
   "cell_type": "code",
   "execution_count": 353,
   "id": "0058352b-86da-416c-a1cd-031b1ed0a043",
   "metadata": {},
   "outputs": [
    {
     "data": {
      "text/html": [
       "<table class=\"dataframe\">\n",
       "<caption>A tibble: 2 × 3</caption>\n",
       "<thead>\n",
       "\t<tr><th scope=col>sample_id</th><th scope=col>sum_counts</th><th scope=col>amount_zero</th></tr>\n",
       "\t<tr><th scope=col>&lt;chr&gt;</th><th scope=col>&lt;dbl&gt;</th><th scope=col>&lt;dbl&gt;</th></tr>\n",
       "</thead>\n",
       "<tbody>\n",
       "\t<tr><td>k1 </td><td>2.374504</td><td>0.08520179</td></tr>\n",
       "\t<tr><td>k10</td><td>2.446978</td><td>0.03699552</td></tr>\n",
       "</tbody>\n",
       "</table>\n"
      ],
      "text/latex": [
       "A tibble: 2 × 3\n",
       "\\begin{tabular}{lll}\n",
       " sample\\_id & sum\\_counts & amount\\_zero\\\\\n",
       " <chr> & <dbl> & <dbl>\\\\\n",
       "\\hline\n",
       "\t k1  & 2.374504 & 0.08520179\\\\\n",
       "\t k10 & 2.446978 & 0.03699552\\\\\n",
       "\\end{tabular}\n"
      ],
      "text/markdown": [
       "\n",
       "A tibble: 2 × 3\n",
       "\n",
       "| sample_id &lt;chr&gt; | sum_counts &lt;dbl&gt; | amount_zero &lt;dbl&gt; |\n",
       "|---|---|---|\n",
       "| k1  | 2.374504 | 0.08520179 |\n",
       "| k10 | 2.446978 | 0.03699552 |\n",
       "\n"
      ],
      "text/plain": [
       "  sample_id sum_counts amount_zero\n",
       "1 k1        2.374504   0.08520179 \n",
       "2 k10       2.446978   0.03699552 "
      ]
     },
     "metadata": {},
     "output_type": "display_data"
    }
   ],
   "source": [
    "head(summ_stats,2)"
   ]
  },
  {
   "cell_type": "code",
   "execution_count": 354,
   "id": "42171feb-76dc-406f-8b79-8ceb4722af80",
   "metadata": {},
   "outputs": [],
   "source": [
    "neutrophils_long = merge(neutrophils_long, neutrophils_mean_raw)"
   ]
  },
  {
   "cell_type": "code",
   "execution_count": 355,
   "id": "962c8cd0-c227-4164-b3e1-e800fa608c04",
   "metadata": {},
   "outputs": [],
   "source": [
    "neutrophils_long = merge(neutrophils_long, summ_stats)"
   ]
  },
  {
   "cell_type": "code",
   "execution_count": 356,
   "id": "c4eb5b3b-cdb0-46ae-8ff0-8c532e9e6a0b",
   "metadata": {},
   "outputs": [
    {
     "data": {
      "text/html": [
       "<table class=\"dataframe\">\n",
       "<caption>A data.frame: 2 × 6</caption>\n",
       "<thead>\n",
       "\t<tr><th></th><th scope=col>sample_id</th><th scope=col>variable</th><th scope=col>value</th><th scope=col>mean_expr</th><th scope=col>sum_counts</th><th scope=col>amount_zero</th></tr>\n",
       "\t<tr><th></th><th scope=col>&lt;chr&gt;</th><th scope=col>&lt;fct&gt;</th><th scope=col>&lt;dbl&gt;</th><th scope=col>&lt;dbl&gt;</th><th scope=col>&lt;dbl&gt;</th><th scope=col>&lt;dbl&gt;</th></tr>\n",
       "</thead>\n",
       "<tbody>\n",
       "\t<tr><th scope=row>1</th><td>k1</td><td>CHI3L1</td><td>3.100819</td><td>0.5886713</td><td>2.374504</td><td>0.08520179</td></tr>\n",
       "\t<tr><th scope=row>2</th><td>k1</td><td>NACA  </td><td>2.011361</td><td>0.5886713</td><td>2.374504</td><td>0.08520179</td></tr>\n",
       "</tbody>\n",
       "</table>\n"
      ],
      "text/latex": [
       "A data.frame: 2 × 6\n",
       "\\begin{tabular}{r|llllll}\n",
       "  & sample\\_id & variable & value & mean\\_expr & sum\\_counts & amount\\_zero\\\\\n",
       "  & <chr> & <fct> & <dbl> & <dbl> & <dbl> & <dbl>\\\\\n",
       "\\hline\n",
       "\t1 & k1 & CHI3L1 & 3.100819 & 0.5886713 & 2.374504 & 0.08520179\\\\\n",
       "\t2 & k1 & NACA   & 2.011361 & 0.5886713 & 2.374504 & 0.08520179\\\\\n",
       "\\end{tabular}\n"
      ],
      "text/markdown": [
       "\n",
       "A data.frame: 2 × 6\n",
       "\n",
       "| <!--/--> | sample_id &lt;chr&gt; | variable &lt;fct&gt; | value &lt;dbl&gt; | mean_expr &lt;dbl&gt; | sum_counts &lt;dbl&gt; | amount_zero &lt;dbl&gt; |\n",
       "|---|---|---|---|---|---|---|\n",
       "| 1 | k1 | CHI3L1 | 3.100819 | 0.5886713 | 2.374504 | 0.08520179 |\n",
       "| 2 | k1 | NACA   | 2.011361 | 0.5886713 | 2.374504 | 0.08520179 |\n",
       "\n"
      ],
      "text/plain": [
       "  sample_id variable value    mean_expr sum_counts amount_zero\n",
       "1 k1        CHI3L1   3.100819 0.5886713 2.374504   0.08520179 \n",
       "2 k1        NACA     2.011361 0.5886713 2.374504   0.08520179 "
      ]
     },
     "metadata": {},
     "output_type": "display_data"
    }
   ],
   "source": [
    "head(neutrophils_long,2)"
   ]
  },
  {
   "cell_type": "code",
   "execution_count": 357,
   "id": "e8a87f72-2674-4eba-8324-6f4f7edf95be",
   "metadata": {},
   "outputs": [],
   "source": [
    "model=  neutrophils_long %>% group_by(variable) %>% do(model = lm(formula = value ~ mean_expr + amount_zero + mean_expr * amount_zero, data = .))"
   ]
  },
  {
   "cell_type": "code",
   "execution_count": 359,
   "id": "5c66f6e6-7937-402e-ae05-bf215a8bc270",
   "metadata": {},
   "outputs": [],
   "source": [
    "neutrophils_long = cbind(neutrophils_long, data.frame(residuals = unlist(lapply(model$model, function(x){ x = (residuals(x))}))))"
   ]
  },
  {
   "cell_type": "code",
   "execution_count": 360,
   "id": "f4d3f826-e2c3-42a0-80c6-83c7d9a25486",
   "metadata": {},
   "outputs": [
    {
     "data": {
      "text/html": [
       "<table class=\"dataframe\">\n",
       "<caption>A data.frame: 2 × 7</caption>\n",
       "<thead>\n",
       "\t<tr><th></th><th scope=col>sample_id</th><th scope=col>variable</th><th scope=col>value</th><th scope=col>mean_expr</th><th scope=col>sum_counts</th><th scope=col>amount_zero</th><th scope=col>residuals</th></tr>\n",
       "\t<tr><th></th><th scope=col>&lt;chr&gt;</th><th scope=col>&lt;fct&gt;</th><th scope=col>&lt;dbl&gt;</th><th scope=col>&lt;dbl&gt;</th><th scope=col>&lt;dbl&gt;</th><th scope=col>&lt;dbl&gt;</th><th scope=col>&lt;dbl&gt;</th></tr>\n",
       "</thead>\n",
       "<tbody>\n",
       "\t<tr><th scope=row>1</th><td>k1</td><td>CHI3L1</td><td>3.100819</td><td>0.5886713</td><td>2.374504</td><td>0.08520179</td><td>1.021388</td></tr>\n",
       "\t<tr><th scope=row>2</th><td>k1</td><td>NACA  </td><td>2.011361</td><td>0.5886713</td><td>2.374504</td><td>0.08520179</td><td>1.276871</td></tr>\n",
       "</tbody>\n",
       "</table>\n"
      ],
      "text/latex": [
       "A data.frame: 2 × 7\n",
       "\\begin{tabular}{r|lllllll}\n",
       "  & sample\\_id & variable & value & mean\\_expr & sum\\_counts & amount\\_zero & residuals\\\\\n",
       "  & <chr> & <fct> & <dbl> & <dbl> & <dbl> & <dbl> & <dbl>\\\\\n",
       "\\hline\n",
       "\t1 & k1 & CHI3L1 & 3.100819 & 0.5886713 & 2.374504 & 0.08520179 & 1.021388\\\\\n",
       "\t2 & k1 & NACA   & 2.011361 & 0.5886713 & 2.374504 & 0.08520179 & 1.276871\\\\\n",
       "\\end{tabular}\n"
      ],
      "text/markdown": [
       "\n",
       "A data.frame: 2 × 7\n",
       "\n",
       "| <!--/--> | sample_id &lt;chr&gt; | variable &lt;fct&gt; | value &lt;dbl&gt; | mean_expr &lt;dbl&gt; | sum_counts &lt;dbl&gt; | amount_zero &lt;dbl&gt; | residuals &lt;dbl&gt; |\n",
       "|---|---|---|---|---|---|---|---|\n",
       "| 1 | k1 | CHI3L1 | 3.100819 | 0.5886713 | 2.374504 | 0.08520179 | 1.021388 |\n",
       "| 2 | k1 | NACA   | 2.011361 | 0.5886713 | 2.374504 | 0.08520179 | 1.276871 |\n",
       "\n"
      ],
      "text/plain": [
       "  sample_id variable value    mean_expr sum_counts amount_zero residuals\n",
       "1 k1        CHI3L1   3.100819 0.5886713 2.374504   0.08520179  1.021388 \n",
       "2 k1        NACA     2.011361 0.5886713 2.374504   0.08520179  1.276871 "
      ]
     },
     "metadata": {},
     "output_type": "display_data"
    }
   ],
   "source": [
    "head(neutrophils_long,2)"
   ]
  },
  {
   "cell_type": "code",
   "execution_count": 361,
   "id": "7b5791ec-40bd-4455-bdf8-4e9af9128eba",
   "metadata": {},
   "outputs": [
    {
     "data": {
      "text/html": [
       "FALSE"
      ],
      "text/latex": [
       "FALSE"
      ],
      "text/markdown": [
       "FALSE"
      ],
      "text/plain": [
       "[1] FALSE"
      ]
     },
     "metadata": {},
     "output_type": "display_data"
    }
   ],
   "source": [
    "regress_neutrophils"
   ]
  },
  {
   "cell_type": "code",
   "execution_count": 362,
   "id": "323a8413-e152-4f94-b34b-48ae43fbcf4c",
   "metadata": {},
   "outputs": [],
   "source": [
    "if(regress_neutrophils == TRUE){\n",
    "    neutrophils_long$value = neutrophils_long$residuals}"
   ]
  },
  {
   "cell_type": "code",
   "execution_count": 363,
   "id": "d7cf2da0-9b0f-45c0-b593-cb2bafc6f2f9",
   "metadata": {},
   "outputs": [],
   "source": [
    "neutrophils = neutrophils_long %>% dcast(sample_id ~variable, value.var = \"value\")"
   ]
  },
  {
   "cell_type": "code",
   "execution_count": 364,
   "id": "9961efe2-84c4-4f8a-8993-2aa0a0f5f744",
   "metadata": {},
   "outputs": [
    {
     "data": {
      "text/html": [
       "<table class=\"dataframe\">\n",
       "<caption>A data.frame: 2 × 893</caption>\n",
       "<thead>\n",
       "\t<tr><th></th><th scope=col>sample_id</th><th scope=col>AATK</th><th scope=col>ABCA7</th><th scope=col>ABHD2</th><th scope=col>ABHD5</th><th scope=col>ABTB1</th><th scope=col>ACAP2</th><th scope=col>ACOX1</th><th scope=col>ACSL1</th><th scope=col>ACTG1</th><th scope=col>⋯</th><th scope=col>ZBTB7B</th><th scope=col>ZC3HAV1</th><th scope=col>ZFAND5</th><th scope=col>ZFAS1</th><th scope=col>ZFP36L2</th><th scope=col>ZMAT2</th><th scope=col>ZNF106</th><th scope=col>ZNF281</th><th scope=col>ZNF467</th><th scope=col>ZNFX1</th></tr>\n",
       "\t<tr><th></th><th scope=col>&lt;chr&gt;</th><th scope=col>&lt;dbl&gt;</th><th scope=col>&lt;dbl&gt;</th><th scope=col>&lt;dbl&gt;</th><th scope=col>&lt;dbl&gt;</th><th scope=col>&lt;dbl&gt;</th><th scope=col>&lt;dbl&gt;</th><th scope=col>&lt;dbl&gt;</th><th scope=col>&lt;dbl&gt;</th><th scope=col>&lt;dbl&gt;</th><th scope=col>⋯</th><th scope=col>&lt;dbl&gt;</th><th scope=col>&lt;dbl&gt;</th><th scope=col>&lt;dbl&gt;</th><th scope=col>&lt;dbl&gt;</th><th scope=col>&lt;dbl&gt;</th><th scope=col>&lt;dbl&gt;</th><th scope=col>&lt;dbl&gt;</th><th scope=col>&lt;dbl&gt;</th><th scope=col>&lt;dbl&gt;</th><th scope=col>&lt;dbl&gt;</th></tr>\n",
       "</thead>\n",
       "<tbody>\n",
       "\t<tr><th scope=row>1</th><td>k1 </td><td>2.820332</td><td>1.331024</td><td>1.331024</td><td>2.820332</td><td>4.742481</td><td>2.011361</td><td>1.331024</td><td>4.143551</td><td>4.821946</td><td>⋯</td><td>2.471821</td><td>0.000000</td><td>0.000000</td><td>2.471821</td><td>2.011361</td><td>2.471821</td><td>3.335551</td><td>2.011361</td><td>2.820332</td><td>0.00000</td></tr>\n",
       "\t<tr><th scope=row>2</th><td>k10</td><td>3.103145</td><td>0.000000</td><td>2.934288</td><td>3.836689</td><td>3.737520</td><td>3.929477</td><td>2.934288</td><td>4.881340</td><td>4.320647</td><td>⋯</td><td>1.535169</td><td>2.522448</td><td>1.535169</td><td>3.254293</td><td>3.254293</td><td>2.934288</td><td>3.103145</td><td>1.535169</td><td>2.261967</td><td>1.94386</td></tr>\n",
       "</tbody>\n",
       "</table>\n"
      ],
      "text/latex": [
       "A data.frame: 2 × 893\n",
       "\\begin{tabular}{r|lllllllllllllllllllll}\n",
       "  & sample\\_id & AATK & ABCA7 & ABHD2 & ABHD5 & ABTB1 & ACAP2 & ACOX1 & ACSL1 & ACTG1 & ⋯ & ZBTB7B & ZC3HAV1 & ZFAND5 & ZFAS1 & ZFP36L2 & ZMAT2 & ZNF106 & ZNF281 & ZNF467 & ZNFX1\\\\\n",
       "  & <chr> & <dbl> & <dbl> & <dbl> & <dbl> & <dbl> & <dbl> & <dbl> & <dbl> & <dbl> & ⋯ & <dbl> & <dbl> & <dbl> & <dbl> & <dbl> & <dbl> & <dbl> & <dbl> & <dbl> & <dbl>\\\\\n",
       "\\hline\n",
       "\t1 & k1  & 2.820332 & 1.331024 & 1.331024 & 2.820332 & 4.742481 & 2.011361 & 1.331024 & 4.143551 & 4.821946 & ⋯ & 2.471821 & 0.000000 & 0.000000 & 2.471821 & 2.011361 & 2.471821 & 3.335551 & 2.011361 & 2.820332 & 0.00000\\\\\n",
       "\t2 & k10 & 3.103145 & 0.000000 & 2.934288 & 3.836689 & 3.737520 & 3.929477 & 2.934288 & 4.881340 & 4.320647 & ⋯ & 1.535169 & 2.522448 & 1.535169 & 3.254293 & 3.254293 & 2.934288 & 3.103145 & 1.535169 & 2.261967 & 1.94386\\\\\n",
       "\\end{tabular}\n"
      ],
      "text/markdown": [
       "\n",
       "A data.frame: 2 × 893\n",
       "\n",
       "| <!--/--> | sample_id &lt;chr&gt; | AATK &lt;dbl&gt; | ABCA7 &lt;dbl&gt; | ABHD2 &lt;dbl&gt; | ABHD5 &lt;dbl&gt; | ABTB1 &lt;dbl&gt; | ACAP2 &lt;dbl&gt; | ACOX1 &lt;dbl&gt; | ACSL1 &lt;dbl&gt; | ACTG1 &lt;dbl&gt; | ⋯ ⋯ | ZBTB7B &lt;dbl&gt; | ZC3HAV1 &lt;dbl&gt; | ZFAND5 &lt;dbl&gt; | ZFAS1 &lt;dbl&gt; | ZFP36L2 &lt;dbl&gt; | ZMAT2 &lt;dbl&gt; | ZNF106 &lt;dbl&gt; | ZNF281 &lt;dbl&gt; | ZNF467 &lt;dbl&gt; | ZNFX1 &lt;dbl&gt; |\n",
       "|---|---|---|---|---|---|---|---|---|---|---|---|---|---|---|---|---|---|---|---|---|---|\n",
       "| 1 | k1  | 2.820332 | 1.331024 | 1.331024 | 2.820332 | 4.742481 | 2.011361 | 1.331024 | 4.143551 | 4.821946 | ⋯ | 2.471821 | 0.000000 | 0.000000 | 2.471821 | 2.011361 | 2.471821 | 3.335551 | 2.011361 | 2.820332 | 0.00000 |\n",
       "| 2 | k10 | 3.103145 | 0.000000 | 2.934288 | 3.836689 | 3.737520 | 3.929477 | 2.934288 | 4.881340 | 4.320647 | ⋯ | 1.535169 | 2.522448 | 1.535169 | 3.254293 | 3.254293 | 2.934288 | 3.103145 | 1.535169 | 2.261967 | 1.94386 |\n",
       "\n"
      ],
      "text/plain": [
       "  sample_id AATK     ABCA7    ABHD2    ABHD5    ABTB1    ACAP2    ACOX1   \n",
       "1 k1        2.820332 1.331024 1.331024 2.820332 4.742481 2.011361 1.331024\n",
       "2 k10       3.103145 0.000000 2.934288 3.836689 3.737520 3.929477 2.934288\n",
       "  ACSL1    ACTG1    ⋯ ZBTB7B   ZC3HAV1  ZFAND5   ZFAS1    ZFP36L2  ZMAT2   \n",
       "1 4.143551 4.821946 ⋯ 2.471821 0.000000 0.000000 2.471821 2.011361 2.471821\n",
       "2 4.881340 4.320647 ⋯ 1.535169 2.522448 1.535169 3.254293 3.254293 2.934288\n",
       "  ZNF106   ZNF281   ZNF467   ZNFX1  \n",
       "1 3.335551 2.011361 2.820332 0.00000\n",
       "2 3.103145 1.535169 2.261967 1.94386"
      ]
     },
     "metadata": {},
     "output_type": "display_data"
    }
   ],
   "source": [
    "head(neutrophils,2)"
   ]
  },
  {
   "cell_type": "code",
   "execution_count": 365,
   "id": "eee6aeae-0962-4134-8657-1ad293ed2f00",
   "metadata": {},
   "outputs": [],
   "source": [
    "rownames(neutrophils) = neutrophils$sample_id"
   ]
  },
  {
   "cell_type": "code",
   "execution_count": 366,
   "id": "816a78c7-218f-4574-bab0-6c0e660fec8a",
   "metadata": {},
   "outputs": [],
   "source": [
    "### Check out distribution per sample"
   ]
  },
  {
   "cell_type": "code",
   "execution_count": 367,
   "id": "ca10bd20-d1f9-4971-b871-adfbaf9f3be8",
   "metadata": {},
   "outputs": [],
   "source": [
    "neutrophils$sample_id = rownames(neutrophils)"
   ]
  },
  {
   "cell_type": "code",
   "execution_count": 375,
   "id": "cd567de1-53a8-43d1-bfa4-fbfa164245c3",
   "metadata": {},
   "outputs": [],
   "source": [
    "neutrophils$sample_id = NULL"
   ]
  },
  {
   "cell_type": "code",
   "execution_count": 376,
   "id": "8ca97325-be10-4b8b-9d66-ef299abbcdb5",
   "metadata": {},
   "outputs": [
    {
     "data": {
      "text/html": [
       "<table class=\"dataframe\">\n",
       "<caption>A data.frame: 2 × 892</caption>\n",
       "<thead>\n",
       "\t<tr><th></th><th scope=col>AATK</th><th scope=col>ABCA7</th><th scope=col>ABHD2</th><th scope=col>ABHD5</th><th scope=col>ABTB1</th><th scope=col>ACAP2</th><th scope=col>ACOX1</th><th scope=col>ACSL1</th><th scope=col>ACTG1</th><th scope=col>ADAM10</th><th scope=col>⋯</th><th scope=col>ZBTB7B</th><th scope=col>ZC3HAV1</th><th scope=col>ZFAND5</th><th scope=col>ZFAS1</th><th scope=col>ZFP36L2</th><th scope=col>ZMAT2</th><th scope=col>ZNF106</th><th scope=col>ZNF281</th><th scope=col>ZNF467</th><th scope=col>ZNFX1</th></tr>\n",
       "\t<tr><th></th><th scope=col>&lt;dbl&gt;</th><th scope=col>&lt;dbl&gt;</th><th scope=col>&lt;dbl&gt;</th><th scope=col>&lt;dbl&gt;</th><th scope=col>&lt;dbl&gt;</th><th scope=col>&lt;dbl&gt;</th><th scope=col>&lt;dbl&gt;</th><th scope=col>&lt;dbl&gt;</th><th scope=col>&lt;dbl&gt;</th><th scope=col>&lt;dbl&gt;</th><th scope=col>⋯</th><th scope=col>&lt;dbl&gt;</th><th scope=col>&lt;dbl&gt;</th><th scope=col>&lt;dbl&gt;</th><th scope=col>&lt;dbl&gt;</th><th scope=col>&lt;dbl&gt;</th><th scope=col>&lt;dbl&gt;</th><th scope=col>&lt;dbl&gt;</th><th scope=col>&lt;dbl&gt;</th><th scope=col>&lt;dbl&gt;</th><th scope=col>&lt;dbl&gt;</th></tr>\n",
       "</thead>\n",
       "<tbody>\n",
       "\t<tr><th scope=row>k1</th><td>2.820332</td><td>1.331024</td><td>1.331024</td><td>2.820332</td><td>4.742481</td><td>2.011361</td><td>1.331024</td><td>4.143551</td><td>4.821946</td><td>3.100819</td><td>⋯</td><td>2.471821</td><td>0.000000</td><td>0.000000</td><td>2.471821</td><td>2.011361</td><td>2.471821</td><td>3.335551</td><td>2.011361</td><td>2.820332</td><td>0.00000</td></tr>\n",
       "\t<tr><th scope=row>k10</th><td>3.103145</td><td>0.000000</td><td>2.934288</td><td>3.836689</td><td>3.737520</td><td>3.929477</td><td>2.934288</td><td>4.881340</td><td>4.320647</td><td>1.943860</td><td>⋯</td><td>1.535169</td><td>2.522448</td><td>1.535169</td><td>3.254293</td><td>3.254293</td><td>2.934288</td><td>3.103145</td><td>1.535169</td><td>2.261967</td><td>1.94386</td></tr>\n",
       "</tbody>\n",
       "</table>\n"
      ],
      "text/latex": [
       "A data.frame: 2 × 892\n",
       "\\begin{tabular}{r|lllllllllllllllllllll}\n",
       "  & AATK & ABCA7 & ABHD2 & ABHD5 & ABTB1 & ACAP2 & ACOX1 & ACSL1 & ACTG1 & ADAM10 & ⋯ & ZBTB7B & ZC3HAV1 & ZFAND5 & ZFAS1 & ZFP36L2 & ZMAT2 & ZNF106 & ZNF281 & ZNF467 & ZNFX1\\\\\n",
       "  & <dbl> & <dbl> & <dbl> & <dbl> & <dbl> & <dbl> & <dbl> & <dbl> & <dbl> & <dbl> & ⋯ & <dbl> & <dbl> & <dbl> & <dbl> & <dbl> & <dbl> & <dbl> & <dbl> & <dbl> & <dbl>\\\\\n",
       "\\hline\n",
       "\tk1 & 2.820332 & 1.331024 & 1.331024 & 2.820332 & 4.742481 & 2.011361 & 1.331024 & 4.143551 & 4.821946 & 3.100819 & ⋯ & 2.471821 & 0.000000 & 0.000000 & 2.471821 & 2.011361 & 2.471821 & 3.335551 & 2.011361 & 2.820332 & 0.00000\\\\\n",
       "\tk10 & 3.103145 & 0.000000 & 2.934288 & 3.836689 & 3.737520 & 3.929477 & 2.934288 & 4.881340 & 4.320647 & 1.943860 & ⋯ & 1.535169 & 2.522448 & 1.535169 & 3.254293 & 3.254293 & 2.934288 & 3.103145 & 1.535169 & 2.261967 & 1.94386\\\\\n",
       "\\end{tabular}\n"
      ],
      "text/markdown": [
       "\n",
       "A data.frame: 2 × 892\n",
       "\n",
       "| <!--/--> | AATK &lt;dbl&gt; | ABCA7 &lt;dbl&gt; | ABHD2 &lt;dbl&gt; | ABHD5 &lt;dbl&gt; | ABTB1 &lt;dbl&gt; | ACAP2 &lt;dbl&gt; | ACOX1 &lt;dbl&gt; | ACSL1 &lt;dbl&gt; | ACTG1 &lt;dbl&gt; | ADAM10 &lt;dbl&gt; | ⋯ ⋯ | ZBTB7B &lt;dbl&gt; | ZC3HAV1 &lt;dbl&gt; | ZFAND5 &lt;dbl&gt; | ZFAS1 &lt;dbl&gt; | ZFP36L2 &lt;dbl&gt; | ZMAT2 &lt;dbl&gt; | ZNF106 &lt;dbl&gt; | ZNF281 &lt;dbl&gt; | ZNF467 &lt;dbl&gt; | ZNFX1 &lt;dbl&gt; |\n",
       "|---|---|---|---|---|---|---|---|---|---|---|---|---|---|---|---|---|---|---|---|---|---|\n",
       "| k1 | 2.820332 | 1.331024 | 1.331024 | 2.820332 | 4.742481 | 2.011361 | 1.331024 | 4.143551 | 4.821946 | 3.100819 | ⋯ | 2.471821 | 0.000000 | 0.000000 | 2.471821 | 2.011361 | 2.471821 | 3.335551 | 2.011361 | 2.820332 | 0.00000 |\n",
       "| k10 | 3.103145 | 0.000000 | 2.934288 | 3.836689 | 3.737520 | 3.929477 | 2.934288 | 4.881340 | 4.320647 | 1.943860 | ⋯ | 1.535169 | 2.522448 | 1.535169 | 3.254293 | 3.254293 | 2.934288 | 3.103145 | 1.535169 | 2.261967 | 1.94386 |\n",
       "\n"
      ],
      "text/plain": [
       "    AATK     ABCA7    ABHD2    ABHD5    ABTB1    ACAP2    ACOX1    ACSL1   \n",
       "k1  2.820332 1.331024 1.331024 2.820332 4.742481 2.011361 1.331024 4.143551\n",
       "k10 3.103145 0.000000 2.934288 3.836689 3.737520 3.929477 2.934288 4.881340\n",
       "    ACTG1    ADAM10   ⋯ ZBTB7B   ZC3HAV1  ZFAND5   ZFAS1    ZFP36L2  ZMAT2   \n",
       "k1  4.821946 3.100819 ⋯ 2.471821 0.000000 0.000000 2.471821 2.011361 2.471821\n",
       "k10 4.320647 1.943860 ⋯ 1.535169 2.522448 1.535169 3.254293 3.254293 2.934288\n",
       "    ZNF106   ZNF281   ZNF467   ZNFX1  \n",
       "k1  3.335551 2.011361 2.820332 0.00000\n",
       "k10 3.103145 1.535169 2.261967 1.94386"
      ]
     },
     "metadata": {},
     "output_type": "display_data"
    }
   ],
   "source": [
    "head(neutrophils,2)"
   ]
  },
  {
   "cell_type": "code",
   "execution_count": 377,
   "id": "74b83a29-c0ac-44bd-b73e-51e2a1c439b1",
   "metadata": {},
   "outputs": [
    {
     "data": {
      "text/html": [
       "TRUE"
      ],
      "text/latex": [
       "TRUE"
      ],
      "text/markdown": [
       "TRUE"
      ],
      "text/plain": [
       "[1] TRUE"
      ]
     },
     "metadata": {},
     "output_type": "display_data"
    }
   ],
   "source": [
    "quantile_normalization_neutrophils"
   ]
  },
  {
   "cell_type": "code",
   "execution_count": 378,
   "id": "3332ce57-ff27-41ae-82bf-83a3f2c3f070",
   "metadata": {},
   "outputs": [],
   "source": [
    "if(quantile_normalization_neutrophils  == TRUE){\n",
    "    neutrophils = t(neutrophils)\n",
    "    genes_neutrophils = rownames(neutrophils)\n",
    "    neutrophils  = quantile_normalization(neutrophils ) \n",
    "    rownames(neutrophils) = genes_neutrophils\n",
    "    neutrophils = data.frame(t(neutrophils))\n",
    "    }"
   ]
  },
  {
   "cell_type": "code",
   "execution_count": 379,
   "id": "d7b711ad-622d-4dc9-84e8-c25dd834cb25",
   "metadata": {},
   "outputs": [],
   "source": [
    "### Check out distribution per sample"
   ]
  },
  {
   "cell_type": "code",
   "execution_count": 380,
   "id": "c34afa2d-2971-46cf-bc4f-cd487e200e91",
   "metadata": {},
   "outputs": [],
   "source": [
    "neutrophils$sample_id = rownames(neutrophils)"
   ]
  },
  {
   "cell_type": "markdown",
   "id": "70d590ba-4308-499e-acb4-dcc69024c4a6",
   "metadata": {
    "tags": []
   },
   "source": [
    "### Filter only genes that are also in single cell (?)"
   ]
  },
  {
   "cell_type": "code",
   "execution_count": 394,
   "id": "3fe8fe75-e8a7-4f62-a936-28e9b7f28863",
   "metadata": {},
   "outputs": [
    {
     "name": "stdout",
     "output_type": "stream",
     "text": [
      "[1] \"2023-01-21 12:28:53 CET\"\n"
     ]
    }
   ],
   "source": [
    "path = paste0(result_path, '/C-Analysis/C0_Filter_Genes_Input_Correlations_Perc_Values.csv')\n",
    "genes_subset = read.csv(path) # cluster alternative\n",
    "print(file.info(path)$mtime)"
   ]
  },
  {
   "cell_type": "code",
   "execution_count": 395,
   "id": "988aa10a-6c47-4c75-b4dd-9869cd85aafb",
   "metadata": {},
   "outputs": [
    {
     "data": {
      "text/html": [
       "<table class=\"dataframe\">\n",
       "<caption>A data.frame: 2 × 5</caption>\n",
       "<thead>\n",
       "\t<tr><th></th><th scope=col>X</th><th scope=col>perc_cells_expressing_gene</th><th scope=col>total_amount_cells_expressing_gene</th><th scope=col>gene</th><th scope=col>cluster</th></tr>\n",
       "\t<tr><th></th><th scope=col>&lt;chr&gt;</th><th scope=col>&lt;dbl&gt;</th><th scope=col>&lt;int&gt;</th><th scope=col>&lt;chr&gt;</th><th scope=col>&lt;chr&gt;</th></tr>\n",
       "</thead>\n",
       "<tbody>\n",
       "\t<tr><th scope=row>1</th><td>AL627309.1</td><td>0.24327612</td><td>18</td><td>AL627309.1</td><td>8_B-cell</td></tr>\n",
       "\t<tr><th scope=row>2</th><td>AL627309.4</td><td>0.05406136</td><td> 4</td><td>AL627309.4</td><td>8_B-cell</td></tr>\n",
       "</tbody>\n",
       "</table>\n"
      ],
      "text/latex": [
       "A data.frame: 2 × 5\n",
       "\\begin{tabular}{r|lllll}\n",
       "  & X & perc\\_cells\\_expressing\\_gene & total\\_amount\\_cells\\_expressing\\_gene & gene & cluster\\\\\n",
       "  & <chr> & <dbl> & <int> & <chr> & <chr>\\\\\n",
       "\\hline\n",
       "\t1 & AL627309.1 & 0.24327612 & 18 & AL627309.1 & 8\\_B-cell\\\\\n",
       "\t2 & AL627309.4 & 0.05406136 &  4 & AL627309.4 & 8\\_B-cell\\\\\n",
       "\\end{tabular}\n"
      ],
      "text/markdown": [
       "\n",
       "A data.frame: 2 × 5\n",
       "\n",
       "| <!--/--> | X &lt;chr&gt; | perc_cells_expressing_gene &lt;dbl&gt; | total_amount_cells_expressing_gene &lt;int&gt; | gene &lt;chr&gt; | cluster &lt;chr&gt; |\n",
       "|---|---|---|---|---|---|\n",
       "| 1 | AL627309.1 | 0.24327612 | 18 | AL627309.1 | 8_B-cell |\n",
       "| 2 | AL627309.4 | 0.05406136 |  4 | AL627309.4 | 8_B-cell |\n",
       "\n"
      ],
      "text/plain": [
       "  X          perc_cells_expressing_gene total_amount_cells_expressing_gene\n",
       "1 AL627309.1 0.24327612                 18                                \n",
       "2 AL627309.4 0.05406136                  4                                \n",
       "  gene       cluster \n",
       "1 AL627309.1 8_B-cell\n",
       "2 AL627309.4 8_B-cell"
      ]
     },
     "metadata": {},
     "output_type": "display_data"
    }
   ],
   "source": [
    "head(genes_subset,2)"
   ]
  },
  {
   "cell_type": "code",
   "execution_count": 396,
   "id": "f7539de6-a101-46bb-9f24-166b4364d691",
   "metadata": {},
   "outputs": [],
   "source": [
    "genes = unique(genes_subset$gene)"
   ]
  },
  {
   "cell_type": "code",
   "execution_count": 397,
   "id": "82333a8e-09da-41a0-850d-5dbc1f872587",
   "metadata": {},
   "outputs": [
    {
     "data": {
      "text/html": [
       "FALSE"
      ],
      "text/latex": [
       "FALSE"
      ],
      "text/markdown": [
       "FALSE"
      ],
      "text/plain": [
       "[1] FALSE"
      ]
     },
     "metadata": {},
     "output_type": "display_data"
    }
   ],
   "source": [
    "align_genes"
   ]
  },
  {
   "cell_type": "code",
   "execution_count": 398,
   "id": "416b3f0b-ae93-4ae2-a186-68d371fd6ab8",
   "metadata": {},
   "outputs": [],
   "source": [
    "if(align_genes == TRUE){\n",
    "    neutrophils = neutrophils[,colnames(neutrophils) %in% genes]\n",
    "    }"
   ]
  },
  {
   "cell_type": "code",
   "execution_count": 399,
   "id": "7c922809-2d4c-4be0-a5bd-a69a8105c1b4",
   "metadata": {},
   "outputs": [
    {
     "data": {
      "text/html": [
       "<style>\n",
       ".list-inline {list-style: none; margin:0; padding: 0}\n",
       ".list-inline>li {display: inline-block}\n",
       ".list-inline>li:not(:last-child)::after {content: \"\\00b7\"; padding: 0 .5ex}\n",
       "</style>\n",
       "<ol class=list-inline><li>92</li><li>893</li></ol>\n"
      ],
      "text/latex": [
       "\\begin{enumerate*}\n",
       "\\item 92\n",
       "\\item 893\n",
       "\\end{enumerate*}\n"
      ],
      "text/markdown": [
       "1. 92\n",
       "2. 893\n",
       "\n",
       "\n"
      ],
      "text/plain": [
       "[1]  92 893"
      ]
     },
     "metadata": {},
     "output_type": "display_data"
    }
   ],
   "source": [
    "dim(neutrophils)"
   ]
  },
  {
   "cell_type": "code",
   "execution_count": 400,
   "id": "80bb0735-559a-49f4-bd20-d29356570de4",
   "metadata": {},
   "outputs": [],
   "source": [
    "### Check out distribution per sample"
   ]
  },
  {
   "cell_type": "code",
   "execution_count": 401,
   "id": "5357cfe8-cf73-43fc-85dd-07bba3ad5a41",
   "metadata": {},
   "outputs": [],
   "source": [
    "neutrophils$sample_id = rownames(neutrophils)"
   ]
  },
  {
   "cell_type": "markdown",
   "id": "992392d3-83ac-4f47-a593-7c7da89a8c69",
   "metadata": {
    "tags": []
   },
   "source": [
    "### Prepare long format"
   ]
  },
  {
   "cell_type": "code",
   "execution_count": 415,
   "id": "bb35a88b-88eb-4983-9fad-49b83a4ff534",
   "metadata": {},
   "outputs": [],
   "source": [
    "neutrophils$sample_id = rownames(neutrophils)"
   ]
  },
  {
   "cell_type": "code",
   "execution_count": 416,
   "id": "489a5388-c5ee-4bd7-8963-51fac33d6c4c",
   "metadata": {},
   "outputs": [
    {
     "name": "stderr",
     "output_type": "stream",
     "text": [
      "Using sample_id as id variables\n",
      "\n"
     ]
    }
   ],
   "source": [
    "neutrophils_long = melt(neutrophils)"
   ]
  },
  {
   "cell_type": "code",
   "execution_count": 417,
   "id": "ab468e56-7177-49ec-a18b-c56eaa8057f1",
   "metadata": {},
   "outputs": [],
   "source": [
    "neutrophils_long$type = 'neutrophil'"
   ]
  },
  {
   "cell_type": "code",
   "execution_count": 418,
   "id": "d8bd6fd6-e1cd-475a-81af-aa8cf0ea112d",
   "metadata": {},
   "outputs": [
    {
     "data": {
      "text/html": [
       "<table class=\"dataframe\">\n",
       "<caption>A data.frame: 2 × 4</caption>\n",
       "<thead>\n",
       "\t<tr><th></th><th scope=col>sample_id</th><th scope=col>variable</th><th scope=col>value</th><th scope=col>type</th></tr>\n",
       "\t<tr><th></th><th scope=col>&lt;chr&gt;</th><th scope=col>&lt;fct&gt;</th><th scope=col>&lt;dbl&gt;</th><th scope=col>&lt;chr&gt;</th></tr>\n",
       "</thead>\n",
       "<tbody>\n",
       "\t<tr><th scope=row>1</th><td>k1 </td><td>AATK</td><td>2.746071</td><td>neutrophil</td></tr>\n",
       "\t<tr><th scope=row>2</th><td>k10</td><td>AATK</td><td>3.074688</td><td>neutrophil</td></tr>\n",
       "</tbody>\n",
       "</table>\n"
      ],
      "text/latex": [
       "A data.frame: 2 × 4\n",
       "\\begin{tabular}{r|llll}\n",
       "  & sample\\_id & variable & value & type\\\\\n",
       "  & <chr> & <fct> & <dbl> & <chr>\\\\\n",
       "\\hline\n",
       "\t1 & k1  & AATK & 2.746071 & neutrophil\\\\\n",
       "\t2 & k10 & AATK & 3.074688 & neutrophil\\\\\n",
       "\\end{tabular}\n"
      ],
      "text/markdown": [
       "\n",
       "A data.frame: 2 × 4\n",
       "\n",
       "| <!--/--> | sample_id &lt;chr&gt; | variable &lt;fct&gt; | value &lt;dbl&gt; | type &lt;chr&gt; |\n",
       "|---|---|---|---|---|\n",
       "| 1 | k1  | AATK | 2.746071 | neutrophil |\n",
       "| 2 | k10 | AATK | 3.074688 | neutrophil |\n",
       "\n"
      ],
      "text/plain": [
       "  sample_id variable value    type      \n",
       "1 k1        AATK     2.746071 neutrophil\n",
       "2 k10       AATK     3.074688 neutrophil"
      ]
     },
     "metadata": {},
     "output_type": "display_data"
    }
   ],
   "source": [
    "head(neutrophils_long,2)"
   ]
  },
  {
   "cell_type": "code",
   "execution_count": 419,
   "id": "f67df0f3-baf7-42c3-9dee-48cb844e14df",
   "metadata": {},
   "outputs": [],
   "source": [
    "### Add duplicates"
   ]
  },
  {
   "cell_type": "code",
   "execution_count": 420,
   "id": "3221de69-bf4a-45c2-9f82-d07e3baaa2ac",
   "metadata": {},
   "outputs": [],
   "source": [
    "neutrophils_long_dupl = neutrophils_long[neutrophils_long$sample_id %in% c('m13.2', 'm6.4'),]"
   ]
  },
  {
   "cell_type": "code",
   "execution_count": 421,
   "id": "fda33c5b-1676-4220-86ed-48b810526092",
   "metadata": {},
   "outputs": [],
   "source": [
    "neutrophils_long_dupl$sample_id[neutrophils_long_dupl$sample_id == 'm13.2'] = 'm13.22'"
   ]
  },
  {
   "cell_type": "code",
   "execution_count": 422,
   "id": "bd9c1aef-5f6c-494a-a7fd-1ab735b19ee6",
   "metadata": {},
   "outputs": [],
   "source": [
    "neutrophils_long_dupl$sample_id[neutrophils_long_dupl$sample_id == 'm6.4'] = 'm6.42'"
   ]
  },
  {
   "cell_type": "code",
   "execution_count": 423,
   "id": "08fecdbe-92a4-4f8c-9006-4de860ac2e1b",
   "metadata": {},
   "outputs": [
    {
     "data": {
      "text/html": [
       "<table class=\"dataframe\">\n",
       "<caption>A data.frame: 2 × 4</caption>\n",
       "<thead>\n",
       "\t<tr><th></th><th scope=col>sample_id</th><th scope=col>variable</th><th scope=col>value</th><th scope=col>type</th></tr>\n",
       "\t<tr><th></th><th scope=col>&lt;chr&gt;</th><th scope=col>&lt;fct&gt;</th><th scope=col>&lt;dbl&gt;</th><th scope=col>&lt;chr&gt;</th></tr>\n",
       "</thead>\n",
       "<tbody>\n",
       "\t<tr><th scope=row>85</th><td>m6.42</td><td>AATK </td><td>1.162339</td><td>neutrophil</td></tr>\n",
       "\t<tr><th scope=row>177</th><td>m6.42</td><td>ABCA7</td><td>1.919833</td><td>neutrophil</td></tr>\n",
       "</tbody>\n",
       "</table>\n"
      ],
      "text/latex": [
       "A data.frame: 2 × 4\n",
       "\\begin{tabular}{r|llll}\n",
       "  & sample\\_id & variable & value & type\\\\\n",
       "  & <chr> & <fct> & <dbl> & <chr>\\\\\n",
       "\\hline\n",
       "\t85 & m6.42 & AATK  & 1.162339 & neutrophil\\\\\n",
       "\t177 & m6.42 & ABCA7 & 1.919833 & neutrophil\\\\\n",
       "\\end{tabular}\n"
      ],
      "text/markdown": [
       "\n",
       "A data.frame: 2 × 4\n",
       "\n",
       "| <!--/--> | sample_id &lt;chr&gt; | variable &lt;fct&gt; | value &lt;dbl&gt; | type &lt;chr&gt; |\n",
       "|---|---|---|---|---|\n",
       "| 85 | m6.42 | AATK  | 1.162339 | neutrophil |\n",
       "| 177 | m6.42 | ABCA7 | 1.919833 | neutrophil |\n",
       "\n"
      ],
      "text/plain": [
       "    sample_id variable value    type      \n",
       "85  m6.42     AATK     1.162339 neutrophil\n",
       "177 m6.42     ABCA7    1.919833 neutrophil"
      ]
     },
     "metadata": {},
     "output_type": "display_data"
    }
   ],
   "source": [
    "head(neutrophils_long_dupl,2)"
   ]
  },
  {
   "cell_type": "code",
   "execution_count": 424,
   "id": "ba698294-9d66-4b59-90de-9b22dcb71ced",
   "metadata": {},
   "outputs": [],
   "source": [
    "if(add_duplicates == TRUE){\n",
    "    neutrophils_long = rbind(neutrophils_long, neutrophils_long_dupl)\n",
    "}"
   ]
  },
  {
   "cell_type": "code",
   "execution_count": 425,
   "id": "8a4874cb-9695-43d1-8d19-cd23e4d53e41",
   "metadata": {},
   "outputs": [
    {
     "data": {
      "text/html": [
       "892"
      ],
      "text/latex": [
       "892"
      ],
      "text/markdown": [
       "892"
      ],
      "text/plain": [
       "[1] 892"
      ]
     },
     "metadata": {},
     "output_type": "display_data"
    }
   ],
   "source": [
    "length(unique(neutrophils_long$variable))"
   ]
  },
  {
   "cell_type": "code",
   "execution_count": 426,
   "id": "875ac2cf-67cb-44be-a921-26f176656469",
   "metadata": {},
   "outputs": [
    {
     "data": {
      "text/html": [
       "92"
      ],
      "text/latex": [
       "92"
      ],
      "text/markdown": [
       "92"
      ],
      "text/plain": [
       "[1] 92"
      ]
     },
     "metadata": {},
     "output_type": "display_data"
    }
   ],
   "source": [
    "length(unique(neutrophils_long$sample_id))"
   ]
  },
  {
   "cell_type": "markdown",
   "id": "2e5a3586-e198-43f6-8ba1-6cf6fb7db885",
   "metadata": {},
   "source": [
    "## RNA-Single-Seq"
   ]
  },
  {
   "cell_type": "markdown",
   "id": "95f9a4a0-d99f-4154-9d82-d6987616e98f",
   "metadata": {},
   "source": [
    "### Load cell-expression- gene cluster info"
   ]
  },
  {
   "cell_type": "code",
   "execution_count": 427,
   "id": "aa055583-d815-4c9c-8964-59ba7b7f7168",
   "metadata": {},
   "outputs": [
    {
     "name": "stdout",
     "output_type": "stream",
     "text": [
      "[1] \"../results/current/G-Analysis/G0_Filter_Genes_Input_Correlations_Perc_Values.csv\"\n",
      "[1] \"2023-02-18 15:19:03 CET\"\n"
     ]
    }
   ],
   "source": [
    "path = paste0(result_path, '/G-Analysis/G0_Filter_Genes_Input_Correlations_Perc_Values.csv')\n",
    "cell_perc_cluster = read.csv( path) # cluster alternative\n",
    "print(path)\n",
    "print(file.info(path)$mtime)"
   ]
  },
  {
   "cell_type": "code",
   "execution_count": 429,
   "id": "6d36d442-2a5d-44dd-9fec-7919472e7471",
   "metadata": {},
   "outputs": [
    {
     "data": {
      "text/html": [
       "<table class=\"dataframe\">\n",
       "<caption>A data.frame: 2 × 5</caption>\n",
       "<thead>\n",
       "\t<tr><th></th><th scope=col>X</th><th scope=col>perc_cells_expressing_gene</th><th scope=col>total_amount_cells_expressing_gene</th><th scope=col>gene</th><th scope=col>cluster</th></tr>\n",
       "\t<tr><th></th><th scope=col>&lt;chr&gt;</th><th scope=col>&lt;dbl&gt;</th><th scope=col>&lt;int&gt;</th><th scope=col>&lt;chr&gt;</th><th scope=col>&lt;chr&gt;</th></tr>\n",
       "</thead>\n",
       "<tbody>\n",
       "\t<tr><th scope=row>1</th><td>AL627309.1</td><td>0.23400142</td><td>23</td><td>AL627309.1</td><td>B cell</td></tr>\n",
       "\t<tr><th scope=row>2</th><td>AL627309.4</td><td>0.06104385</td><td> 6</td><td>AL627309.4</td><td>B cell</td></tr>\n",
       "</tbody>\n",
       "</table>\n"
      ],
      "text/latex": [
       "A data.frame: 2 × 5\n",
       "\\begin{tabular}{r|lllll}\n",
       "  & X & perc\\_cells\\_expressing\\_gene & total\\_amount\\_cells\\_expressing\\_gene & gene & cluster\\\\\n",
       "  & <chr> & <dbl> & <int> & <chr> & <chr>\\\\\n",
       "\\hline\n",
       "\t1 & AL627309.1 & 0.23400142 & 23 & AL627309.1 & B cell\\\\\n",
       "\t2 & AL627309.4 & 0.06104385 &  6 & AL627309.4 & B cell\\\\\n",
       "\\end{tabular}\n"
      ],
      "text/markdown": [
       "\n",
       "A data.frame: 2 × 5\n",
       "\n",
       "| <!--/--> | X &lt;chr&gt; | perc_cells_expressing_gene &lt;dbl&gt; | total_amount_cells_expressing_gene &lt;int&gt; | gene &lt;chr&gt; | cluster &lt;chr&gt; |\n",
       "|---|---|---|---|---|---|\n",
       "| 1 | AL627309.1 | 0.23400142 | 23 | AL627309.1 | B cell |\n",
       "| 2 | AL627309.4 | 0.06104385 |  6 | AL627309.4 | B cell |\n",
       "\n"
      ],
      "text/plain": [
       "  X          perc_cells_expressing_gene total_amount_cells_expressing_gene\n",
       "1 AL627309.1 0.23400142                 23                                \n",
       "2 AL627309.4 0.06104385                  6                                \n",
       "  gene       cluster\n",
       "1 AL627309.1 B cell \n",
       "2 AL627309.4 B cell "
      ]
     },
     "metadata": {},
     "output_type": "display_data"
    }
   ],
   "source": [
    "head(cell_perc_cluster,2)"
   ]
  },
  {
   "cell_type": "code",
   "execution_count": 430,
   "id": "e3f75937-e168-44fc-bd7a-eb866d2cd437",
   "metadata": {},
   "outputs": [
    {
     "data": {
      "text/html": [
       "<table class=\"dataframe\">\n",
       "<caption>A data.frame: 2 × 5</caption>\n",
       "<thead>\n",
       "\t<tr><th></th><th scope=col>X</th><th scope=col>perc_cells_expressing_gene</th><th scope=col>total_amount_cells_expressing_gene</th><th scope=col>gene</th><th scope=col>cluster</th></tr>\n",
       "\t<tr><th></th><th scope=col>&lt;chr&gt;</th><th scope=col>&lt;dbl&gt;</th><th scope=col>&lt;int&gt;</th><th scope=col>&lt;chr&gt;</th><th scope=col>&lt;chr&gt;</th></tr>\n",
       "</thead>\n",
       "<tbody>\n",
       "\t<tr><th scope=row>2995</th><td>CD28 </td><td>4.262896</td><td>419</td><td>CD28</td><td>B cell   </td></tr>\n",
       "\t<tr><th scope=row>22216</th><td>CD281</td><td>5.363248</td><td>251</td><td>CD28</td><td>CD16 Mono</td></tr>\n",
       "</tbody>\n",
       "</table>\n"
      ],
      "text/latex": [
       "A data.frame: 2 × 5\n",
       "\\begin{tabular}{r|lllll}\n",
       "  & X & perc\\_cells\\_expressing\\_gene & total\\_amount\\_cells\\_expressing\\_gene & gene & cluster\\\\\n",
       "  & <chr> & <dbl> & <int> & <chr> & <chr>\\\\\n",
       "\\hline\n",
       "\t2995 & CD28  & 4.262896 & 419 & CD28 & B cell   \\\\\n",
       "\t22216 & CD281 & 5.363248 & 251 & CD28 & CD16 Mono\\\\\n",
       "\\end{tabular}\n"
      ],
      "text/markdown": [
       "\n",
       "A data.frame: 2 × 5\n",
       "\n",
       "| <!--/--> | X &lt;chr&gt; | perc_cells_expressing_gene &lt;dbl&gt; | total_amount_cells_expressing_gene &lt;int&gt; | gene &lt;chr&gt; | cluster &lt;chr&gt; |\n",
       "|---|---|---|---|---|---|\n",
       "| 2995 | CD28  | 4.262896 | 419 | CD28 | B cell    |\n",
       "| 22216 | CD281 | 5.363248 | 251 | CD28 | CD16 Mono |\n",
       "\n"
      ],
      "text/plain": [
       "      X     perc_cells_expressing_gene total_amount_cells_expressing_gene gene\n",
       "2995  CD28  4.262896                   419                                CD28\n",
       "22216 CD281 5.363248                   251                                CD28\n",
       "      cluster  \n",
       "2995  B cell   \n",
       "22216 CD16 Mono"
      ]
     },
     "metadata": {},
     "output_type": "display_data"
    }
   ],
   "source": [
    "head(cell_perc_cluster[cell_perc_cluster$gene == 'CD28',],2)"
   ]
  },
  {
   "cell_type": "code",
   "execution_count": 431,
   "id": "99570407-9cc1-4a60-8ef9-9f16556d496b",
   "metadata": {},
   "outputs": [
    {
     "data": {
      "text/html": [
       "557409"
      ],
      "text/latex": [
       "557409"
      ],
      "text/markdown": [
       "557409"
      ],
      "text/plain": [
       "[1] 557409"
      ]
     },
     "metadata": {},
     "output_type": "display_data"
    }
   ],
   "source": [
    "nrow(cell_perc_cluster)"
   ]
  },
  {
   "cell_type": "code",
   "execution_count": 432,
   "id": "f339b565-1fd4-49cc-9fcf-5495030204bd",
   "metadata": {},
   "outputs": [
    {
     "data": {
      "text/html": [
       "19221"
      ],
      "text/latex": [
       "19221"
      ],
      "text/markdown": [
       "19221"
      ],
      "text/plain": [
       "[1] 19221"
      ]
     },
     "metadata": {},
     "output_type": "display_data"
    }
   ],
   "source": [
    "length(unique(cell_perc_cluster$gene))"
   ]
  },
  {
   "cell_type": "code",
   "execution_count": 433,
   "id": "083db572-6e60-4131-baea-c820f0f68470",
   "metadata": {},
   "outputs": [
    {
     "data": {
      "text/html": [
       "29"
      ],
      "text/latex": [
       "29"
      ],
      "text/markdown": [
       "29"
      ],
      "text/plain": [
       "[1] 29"
      ]
     },
     "metadata": {},
     "output_type": "display_data"
    }
   ],
   "source": [
    "length(unique(cell_perc_cluster$cluster))"
   ]
  },
  {
   "cell_type": "code",
   "execution_count": 434,
   "id": "f3c3ee6d-ea95-45e1-87ca-29ae0130e455",
   "metadata": {},
   "outputs": [
    {
     "data": {
      "text/html": [
       "<table class=\"dataframe\">\n",
       "<caption>A grouped_df: 13 × 2</caption>\n",
       "<thead>\n",
       "\t<tr><th scope=col>cluster</th><th scope=col>n</th></tr>\n",
       "\t<tr><th scope=col>&lt;chr&gt;</th><th scope=col>&lt;int&gt;</th></tr>\n",
       "</thead>\n",
       "<tbody>\n",
       "\t<tr><td>B cell   </td><td>3827</td></tr>\n",
       "\t<tr><td>CD14 Mono</td><td>6322</td></tr>\n",
       "\t<tr><td>CD16 Mono</td><td>2847</td></tr>\n",
       "\t<tr><td>CD4 CTL  </td><td> 624</td></tr>\n",
       "\t<tr><td>CD4 Naive</td><td>1581</td></tr>\n",
       "\t<tr><td>CD4 TCM  </td><td>3898</td></tr>\n",
       "\t<tr><td>CD4 TEM  </td><td>2222</td></tr>\n",
       "\t<tr><td>CD8 Naive</td><td> 561</td></tr>\n",
       "\t<tr><td>CD8 TEM  </td><td>3432</td></tr>\n",
       "\t<tr><td>NK       </td><td>3553</td></tr>\n",
       "\t<tr><td>Treg     </td><td> 447</td></tr>\n",
       "\t<tr><td>cDC2     </td><td> 351</td></tr>\n",
       "\t<tr><td>gdT      </td><td> 300</td></tr>\n",
       "</tbody>\n",
       "</table>\n"
      ],
      "text/latex": [
       "A grouped\\_df: 13 × 2\n",
       "\\begin{tabular}{ll}\n",
       " cluster & n\\\\\n",
       " <chr> & <int>\\\\\n",
       "\\hline\n",
       "\t B cell    & 3827\\\\\n",
       "\t CD14 Mono & 6322\\\\\n",
       "\t CD16 Mono & 2847\\\\\n",
       "\t CD4 CTL   &  624\\\\\n",
       "\t CD4 Naive & 1581\\\\\n",
       "\t CD4 TCM   & 3898\\\\\n",
       "\t CD4 TEM   & 2222\\\\\n",
       "\t CD8 Naive &  561\\\\\n",
       "\t CD8 TEM   & 3432\\\\\n",
       "\t NK        & 3553\\\\\n",
       "\t Treg      &  447\\\\\n",
       "\t cDC2      &  351\\\\\n",
       "\t gdT       &  300\\\\\n",
       "\\end{tabular}\n"
      ],
      "text/markdown": [
       "\n",
       "A grouped_df: 13 × 2\n",
       "\n",
       "| cluster &lt;chr&gt; | n &lt;int&gt; |\n",
       "|---|---|\n",
       "| B cell    | 3827 |\n",
       "| CD14 Mono | 6322 |\n",
       "| CD16 Mono | 2847 |\n",
       "| CD4 CTL   |  624 |\n",
       "| CD4 Naive | 1581 |\n",
       "| CD4 TCM   | 3898 |\n",
       "| CD4 TEM   | 2222 |\n",
       "| CD8 Naive |  561 |\n",
       "| CD8 TEM   | 3432 |\n",
       "| NK        | 3553 |\n",
       "| Treg      |  447 |\n",
       "| cDC2      |  351 |\n",
       "| gdT       |  300 |\n",
       "\n"
      ],
      "text/plain": [
       "   cluster   n   \n",
       "1  B cell    3827\n",
       "2  CD14 Mono 6322\n",
       "3  CD16 Mono 2847\n",
       "4  CD4 CTL    624\n",
       "5  CD4 Naive 1581\n",
       "6  CD4 TCM   3898\n",
       "7  CD4 TEM   2222\n",
       "8  CD8 Naive  561\n",
       "9  CD8 TEM   3432\n",
       "10 NK        3553\n",
       "11 Treg       447\n",
       "12 cDC2       351\n",
       "13 gdT        300"
      ]
     },
     "metadata": {},
     "output_type": "display_data"
    }
   ],
   "source": [
    "cell_perc_cluster[((cell_perc_cluster$perc_cells > 10) & (cell_perc_cluster$total_amount_cells_expressing_gene > 1200))  ,] %>% group_by(cluster) %>% count()  # investigate amount of genes after filtering"
   ]
  },
  {
   "cell_type": "code",
   "execution_count": 435,
   "id": "fe59c8b0-a1a4-4880-9289-bedac742476e",
   "metadata": {},
   "outputs": [
    {
     "data": {
      "text/html": [
       "'V_AZIMUTH'"
      ],
      "text/latex": [
       "'V\\_AZIMUTH'"
      ],
      "text/markdown": [
       "'V_AZIMUTH'"
      ],
      "text/plain": [
       "[1] \"V_AZIMUTH\""
      ]
     },
     "metadata": {},
     "output_type": "display_data"
    }
   ],
   "source": [
    "name"
   ]
  },
  {
   "cell_type": "code",
   "execution_count": 436,
   "id": "5451ec8f-25f5-4d7f-b25a-e29fd9c9ef79",
   "metadata": {},
   "outputs": [],
   "source": [
    "##### Decide on conditions for filtering genes out of single-cell data! (uncommented no filtering!)\n",
    "if(name %in%  c( 'V_AZIMUTH')){\n",
    "    cell_perc_cluster =  cell_perc_cluster[((cell_perc_cluster$perc_cells > 50) & (cell_perc_cluster$total_amount_cells_expressing_gene > 1200)) | ((cell_perc_cluster$perc_cells > 40) & (cell_perc_cluster$total_amount_cells_expressing_gene > 3000)) ,] \n",
    "    }\n",
    "# condition removed for complete data"
   ]
  },
  {
   "cell_type": "code",
   "execution_count": 437,
   "id": "24c88277-e45e-4400-952d-0a07aab5fbeb",
   "metadata": {},
   "outputs": [
    {
     "data": {
      "text/html": [
       "<table class=\"dataframe\">\n",
       "<caption>A data.frame: 2 × 5</caption>\n",
       "<thead>\n",
       "\t<tr><th></th><th scope=col>X</th><th scope=col>perc_cells_expressing_gene</th><th scope=col>total_amount_cells_expressing_gene</th><th scope=col>gene</th><th scope=col>cluster</th></tr>\n",
       "\t<tr><th></th><th scope=col>&lt;chr&gt;</th><th scope=col>&lt;dbl&gt;</th><th scope=col>&lt;int&gt;</th><th scope=col>&lt;chr&gt;</th><th scope=col>&lt;chr&gt;</th></tr>\n",
       "</thead>\n",
       "<tbody>\n",
       "\t<tr><th scope=row>95</th><td>RPL22</td><td>99.39974</td><td>9770</td><td>RPL22</td><td>B cell</td></tr>\n",
       "\t<tr><th scope=row>119</th><td>PARK7</td><td>49.74056</td><td>4889</td><td>PARK7</td><td>B cell</td></tr>\n",
       "</tbody>\n",
       "</table>\n"
      ],
      "text/latex": [
       "A data.frame: 2 × 5\n",
       "\\begin{tabular}{r|lllll}\n",
       "  & X & perc\\_cells\\_expressing\\_gene & total\\_amount\\_cells\\_expressing\\_gene & gene & cluster\\\\\n",
       "  & <chr> & <dbl> & <int> & <chr> & <chr>\\\\\n",
       "\\hline\n",
       "\t95 & RPL22 & 99.39974 & 9770 & RPL22 & B cell\\\\\n",
       "\t119 & PARK7 & 49.74056 & 4889 & PARK7 & B cell\\\\\n",
       "\\end{tabular}\n"
      ],
      "text/markdown": [
       "\n",
       "A data.frame: 2 × 5\n",
       "\n",
       "| <!--/--> | X &lt;chr&gt; | perc_cells_expressing_gene &lt;dbl&gt; | total_amount_cells_expressing_gene &lt;int&gt; | gene &lt;chr&gt; | cluster &lt;chr&gt; |\n",
       "|---|---|---|---|---|---|\n",
       "| 95 | RPL22 | 99.39974 | 9770 | RPL22 | B cell |\n",
       "| 119 | PARK7 | 49.74056 | 4889 | PARK7 | B cell |\n",
       "\n"
      ],
      "text/plain": [
       "    X     perc_cells_expressing_gene total_amount_cells_expressing_gene gene \n",
       "95  RPL22 99.39974                   9770                               RPL22\n",
       "119 PARK7 49.74056                   4889                               PARK7\n",
       "    cluster\n",
       "95  B cell \n",
       "119 B cell "
      ]
     },
     "metadata": {},
     "output_type": "display_data"
    }
   ],
   "source": [
    "head(cell_perc_cluster,2)"
   ]
  },
  {
   "cell_type": "code",
   "execution_count": 439,
   "id": "667cd73d-31e9-46be-878e-4a20844668ab",
   "metadata": {},
   "outputs": [
    {
     "data": {
      "text/html": [
       "8908"
      ],
      "text/latex": [
       "8908"
      ],
      "text/markdown": [
       "8908"
      ],
      "text/plain": [
       "[1] 8908"
      ]
     },
     "metadata": {},
     "output_type": "display_data"
    }
   ],
   "source": [
    "nrow(cell_perc_cluster)"
   ]
  },
  {
   "cell_type": "markdown",
   "id": "27a0a7a3-f615-407c-bbed-fee89af30dc4",
   "metadata": {
    "tags": []
   },
   "source": [
    "### Load data about amount of cells per cluster"
   ]
  },
  {
   "cell_type": "code",
   "execution_count": 443,
   "id": "1f6f6f71-0daf-4332-abd9-8a8bb09b6b72",
   "metadata": {},
   "outputs": [
    {
     "name": "stdout",
     "output_type": "stream",
     "text": [
      "[1] \"../results/current/G-Analysis/G1_Cell_Sample_Cluster_Distribution.csv\"\n",
      "[1] \"2023-02-18 15:16:22 CET\"\n"
     ]
    }
   ],
   "source": [
    "path = paste0(result_path, '/G-Analysis/G1_Cell_Sample_Cluster_Distribution.csv')\n",
    "amount_cells_data = read.csv(path)\n",
    "print(path)\n",
    "print(file.info(path)$mtime)"
   ]
  },
  {
   "cell_type": "code",
   "execution_count": 444,
   "id": "94c655e6-b862-4bdd-94a2-f70d99e35df6",
   "metadata": {},
   "outputs": [],
   "source": [
    "amount_cells_data$X = NULL"
   ]
  },
  {
   "cell_type": "code",
   "execution_count": 445,
   "id": "f1b8657f-3cd1-4afc-84e0-d116652e79d5",
   "metadata": {},
   "outputs": [],
   "source": [
    "amount_cells_data = data.frame(cluster = names(colSums(amount_cells_data)), amount_cells = colSums(amount_cells_data))"
   ]
  },
  {
   "cell_type": "code",
   "execution_count": 446,
   "id": "71deda0d-837d-4214-90b5-a86d9bcbbf97",
   "metadata": {},
   "outputs": [
    {
     "data": {
      "text/html": [
       "<table class=\"dataframe\">\n",
       "<caption>A data.frame: 2 × 2</caption>\n",
       "<thead>\n",
       "\t<tr><th></th><th scope=col>cluster</th><th scope=col>amount_cells</th></tr>\n",
       "\t<tr><th></th><th scope=col>&lt;chr&gt;</th><th scope=col>&lt;dbl&gt;</th></tr>\n",
       "</thead>\n",
       "<tbody>\n",
       "\t<tr><th scope=row>ASDC</th><td>ASDC  </td><td>   8</td></tr>\n",
       "\t<tr><th scope=row>B.cell</th><td>B.cell</td><td>9829</td></tr>\n",
       "</tbody>\n",
       "</table>\n"
      ],
      "text/latex": [
       "A data.frame: 2 × 2\n",
       "\\begin{tabular}{r|ll}\n",
       "  & cluster & amount\\_cells\\\\\n",
       "  & <chr> & <dbl>\\\\\n",
       "\\hline\n",
       "\tASDC & ASDC   &    8\\\\\n",
       "\tB.cell & B.cell & 9829\\\\\n",
       "\\end{tabular}\n"
      ],
      "text/markdown": [
       "\n",
       "A data.frame: 2 × 2\n",
       "\n",
       "| <!--/--> | cluster &lt;chr&gt; | amount_cells &lt;dbl&gt; |\n",
       "|---|---|---|\n",
       "| ASDC | ASDC   |    8 |\n",
       "| B.cell | B.cell | 9829 |\n",
       "\n"
      ],
      "text/plain": [
       "       cluster amount_cells\n",
       "ASDC   ASDC       8        \n",
       "B.cell B.cell  9829        "
      ]
     },
     "metadata": {},
     "output_type": "display_data"
    }
   ],
   "source": [
    "head(amount_cells_data,2)"
   ]
  },
  {
   "cell_type": "markdown",
   "id": "46876b0d-f8c4-4233-adf1-089a949b6234",
   "metadata": {
    "tags": []
   },
   "source": [
    "### Load Pseudobulk aggregated RNA data from C0"
   ]
  },
  {
   "cell_type": "code",
   "execution_count": 449,
   "id": "c5780f55-a452-4e74-b8b3-aa52ccc14c76",
   "metadata": {},
   "outputs": [
    {
     "data": {
      "text/html": [
       "'V_AZIMUTH'"
      ],
      "text/latex": [
       "'V\\_AZIMUTH'"
      ],
      "text/markdown": [
       "'V_AZIMUTH'"
      ],
      "text/plain": [
       "[1] \"V_AZIMUTH\""
      ]
     },
     "metadata": {},
     "output_type": "display_data"
    }
   ],
   "source": [
    "name"
   ]
  },
  {
   "cell_type": "code",
   "execution_count": 450,
   "id": "8efd5dfd-c21c-4442-8467-3a4204ad69e1",
   "metadata": {},
   "outputs": [
    {
     "name": "stdout",
     "output_type": "stream",
     "text": [
      "[1] \"../results/current/G-Analysis/G0_aggregated_RNA_input_correlations_all.RDS\"\n",
      "[1] \"2023-02-18 15:37:53 CET\"\n"
     ]
    }
   ],
   "source": [
    "if(name %in% c('V_AZIMUTH')){\n",
    "    path = paste0(result_path, '/G-Analysis/G0_aggregated_RNA_input_correlations_all.RDS')\n",
    "    load(path)   \n",
    "    print(path)\n",
    "    print(file.info(path)$mtime)\n",
    "    }"
   ]
  },
  {
   "cell_type": "code",
   "execution_count": 451,
   "id": "9db90745-193c-4117-8c13-088a86b79bf8",
   "metadata": {},
   "outputs": [],
   "source": [
    "all_genes = rownames(pb)"
   ]
  },
  {
   "cell_type": "code",
   "execution_count": 452,
   "id": "941f62a0-bf9d-4493-986c-1f7b5744aa8a",
   "metadata": {},
   "outputs": [
    {
     "data": {
      "text/html": [
       "<style>\n",
       ".list-inline {list-style: none; margin:0; padding: 0}\n",
       ".list-inline>li {display: inline-block}\n",
       ".list-inline>li:not(:last-child)::after {content: \"\\00b7\"; padding: 0 .5ex}\n",
       "</style>\n",
       "<ol class=list-inline><li>'AL627309.1'</li><li>'AL627309.4'</li><li>'AL669831.5'</li><li>'FAM87B'</li><li>'LINC00115'</li><li>'FAM41C'</li></ol>\n"
      ],
      "text/latex": [
       "\\begin{enumerate*}\n",
       "\\item 'AL627309.1'\n",
       "\\item 'AL627309.4'\n",
       "\\item 'AL669831.5'\n",
       "\\item 'FAM87B'\n",
       "\\item 'LINC00115'\n",
       "\\item 'FAM41C'\n",
       "\\end{enumerate*}\n"
      ],
      "text/markdown": [
       "1. 'AL627309.1'\n",
       "2. 'AL627309.4'\n",
       "3. 'AL669831.5'\n",
       "4. 'FAM87B'\n",
       "5. 'LINC00115'\n",
       "6. 'FAM41C'\n",
       "\n",
       "\n"
      ],
      "text/plain": [
       "[1] \"AL627309.1\" \"AL627309.4\" \"AL669831.5\" \"FAM87B\"     \"LINC00115\" \n",
       "[6] \"FAM41C\"    "
      ]
     },
     "metadata": {},
     "output_type": "display_data"
    }
   ],
   "source": [
    "head(all_genes)"
   ]
  },
  {
   "cell_type": "code",
   "execution_count": 453,
   "id": "e8358614-1f31-415c-b721-c19f36d0a2a7",
   "metadata": {},
   "outputs": [
    {
     "data": {
      "text/html": [
       "19221"
      ],
      "text/latex": [
       "19221"
      ],
      "text/markdown": [
       "19221"
      ],
      "text/plain": [
       "[1] 19221"
      ]
     },
     "metadata": {},
     "output_type": "display_data"
    }
   ],
   "source": [
    "length(all_genes)"
   ]
  },
  {
   "cell_type": "code",
   "execution_count": 454,
   "id": "c9886d4a-e794-4302-9187-fc477eded007",
   "metadata": {},
   "outputs": [
    {
     "data": {
      "text/plain": [
       "class: SingleCellExperiment \n",
       "dim: 19221 121 \n",
       "metadata(2): experiment_info agg_pars\n",
       "assays(29): ASDC B cell ... Platelet Treg\n",
       "rownames(19221): AL627309.1 AL627309.4 ... AC004556.1 AC240274.1\n",
       "rowData names(0):\n",
       "colnames(121): 1.1-L1 10-L11 ... 9.2-L4 9.3-L7\n",
       "colData names(26): group_id classification_measurement ... library_char\n",
       "  ident\n",
       "reducedDimNames(0):\n",
       "mainExpName: NULL\n",
       "altExpNames(0):"
      ]
     },
     "metadata": {},
     "output_type": "display_data"
    }
   ],
   "source": [
    "pb"
   ]
  },
  {
   "cell_type": "code",
   "execution_count": 462,
   "id": "82d68d52-6107-4bc4-ac70-097e4d093b19",
   "metadata": {},
   "outputs": [
    {
     "data": {
      "text/plain": [
       "List of length 29\n",
       "names(29): ASDC B cell CD14 Mono CD16 Mono ... pDC Plasmablast Platelet Treg"
      ]
     },
     "metadata": {},
     "output_type": "display_data"
    }
   ],
   "source": [
    "assays(pb)"
   ]
  },
  {
   "cell_type": "markdown",
   "id": "ea402e6c-4c11-409e-9947-c0192fcf50cc",
   "metadata": {},
   "source": [
    "### Pre-Process"
   ]
  },
  {
   "cell_type": "markdown",
   "id": "88c33417-3557-4d0b-a88d-d27eee145db5",
   "metadata": {
    "tags": []
   },
   "source": [
    "#### Remove Clusters"
   ]
  },
  {
   "cell_type": "code",
   "execution_count": 465,
   "id": "c6e43a61-0831-4d7d-ae34-96498bda6e9b",
   "metadata": {},
   "outputs": [],
   "source": [
    "### Filte pb on relevant clusters"
   ]
  },
  {
   "cell_type": "code",
   "execution_count": 466,
   "id": "2ab94567-5b05-451a-ad2a-1bc12f328e74",
   "metadata": {},
   "outputs": [
    {
     "data": {
      "text/plain": [
       "class: SingleCellExperiment \n",
       "dim: 19221 121 \n",
       "metadata(2): experiment_info agg_pars\n",
       "assays(29): ASDC B cell ... Platelet Treg\n",
       "rownames(19221): AL627309.1 AL627309.4 ... AC004556.1 AC240274.1\n",
       "rowData names(0):\n",
       "colnames(121): 1.1-L1 10-L11 ... 9.2-L4 9.3-L7\n",
       "colData names(26): group_id classification_measurement ... library_char\n",
       "  ident\n",
       "reducedDimNames(0):\n",
       "mainExpName: NULL\n",
       "altExpNames(0):"
      ]
     },
     "metadata": {},
     "output_type": "display_data"
    }
   ],
   "source": [
    "pb"
   ]
  },
  {
   "cell_type": "code",
   "execution_count": 467,
   "id": "c2ec746e-c721-43ce-9351-fc944bd10538",
   "metadata": {},
   "outputs": [
    {
     "data": {
      "text/html": [
       "<style>\n",
       ".list-inline {list-style: none; margin:0; padding: 0}\n",
       ".list-inline>li {display: inline-block}\n",
       ".list-inline>li:not(:last-child)::after {content: \"\\00b7\"; padding: 0 .5ex}\n",
       "</style>\n",
       "<ol class=list-inline><li>'ASDC'</li><li>'B cell'</li><li>'CD14 Mono'</li><li>'CD16 Mono'</li><li>'CD4 CTL'</li><li>'CD4 Naive'</li><li>'CD4 Proliferating'</li><li>'CD4 TCM'</li><li>'CD4 TEM'</li><li>'CD8 Naive'</li><li>'CD8 Proliferating'</li><li>'CD8 TCM'</li><li>'CD8 TEM'</li><li>'cDC1'</li><li>'cDC2'</li><li>'dnT'</li><li>'Doublet'</li><li>'Eryth'</li><li>'gdT'</li><li>'HSPC'</li><li>'ILC'</li><li>'MAIT'</li><li>'NK'</li><li>'NK Proliferating'</li><li>'NK_CD56bright'</li><li>'pDC'</li><li>'Plasmablast'</li><li>'Platelet'</li><li>'Treg'</li></ol>\n"
      ],
      "text/latex": [
       "\\begin{enumerate*}\n",
       "\\item 'ASDC'\n",
       "\\item 'B cell'\n",
       "\\item 'CD14 Mono'\n",
       "\\item 'CD16 Mono'\n",
       "\\item 'CD4 CTL'\n",
       "\\item 'CD4 Naive'\n",
       "\\item 'CD4 Proliferating'\n",
       "\\item 'CD4 TCM'\n",
       "\\item 'CD4 TEM'\n",
       "\\item 'CD8 Naive'\n",
       "\\item 'CD8 Proliferating'\n",
       "\\item 'CD8 TCM'\n",
       "\\item 'CD8 TEM'\n",
       "\\item 'cDC1'\n",
       "\\item 'cDC2'\n",
       "\\item 'dnT'\n",
       "\\item 'Doublet'\n",
       "\\item 'Eryth'\n",
       "\\item 'gdT'\n",
       "\\item 'HSPC'\n",
       "\\item 'ILC'\n",
       "\\item 'MAIT'\n",
       "\\item 'NK'\n",
       "\\item 'NK Proliferating'\n",
       "\\item 'NK\\_CD56bright'\n",
       "\\item 'pDC'\n",
       "\\item 'Plasmablast'\n",
       "\\item 'Platelet'\n",
       "\\item 'Treg'\n",
       "\\end{enumerate*}\n"
      ],
      "text/markdown": [
       "1. 'ASDC'\n",
       "2. 'B cell'\n",
       "3. 'CD14 Mono'\n",
       "4. 'CD16 Mono'\n",
       "5. 'CD4 CTL'\n",
       "6. 'CD4 Naive'\n",
       "7. 'CD4 Proliferating'\n",
       "8. 'CD4 TCM'\n",
       "9. 'CD4 TEM'\n",
       "10. 'CD8 Naive'\n",
       "11. 'CD8 Proliferating'\n",
       "12. 'CD8 TCM'\n",
       "13. 'CD8 TEM'\n",
       "14. 'cDC1'\n",
       "15. 'cDC2'\n",
       "16. 'dnT'\n",
       "17. 'Doublet'\n",
       "18. 'Eryth'\n",
       "19. 'gdT'\n",
       "20. 'HSPC'\n",
       "21. 'ILC'\n",
       "22. 'MAIT'\n",
       "23. 'NK'\n",
       "24. 'NK Proliferating'\n",
       "25. 'NK_CD56bright'\n",
       "26. 'pDC'\n",
       "27. 'Plasmablast'\n",
       "28. 'Platelet'\n",
       "29. 'Treg'\n",
       "\n",
       "\n"
      ],
      "text/plain": [
       " [1] \"ASDC\"              \"B cell\"            \"CD14 Mono\"        \n",
       " [4] \"CD16 Mono\"         \"CD4 CTL\"           \"CD4 Naive\"        \n",
       " [7] \"CD4 Proliferating\" \"CD4 TCM\"           \"CD4 TEM\"          \n",
       "[10] \"CD8 Naive\"         \"CD8 Proliferating\" \"CD8 TCM\"          \n",
       "[13] \"CD8 TEM\"           \"cDC1\"              \"cDC2\"             \n",
       "[16] \"dnT\"               \"Doublet\"           \"Eryth\"            \n",
       "[19] \"gdT\"               \"HSPC\"              \"ILC\"              \n",
       "[22] \"MAIT\"              \"NK\"                \"NK Proliferating\" \n",
       "[25] \"NK_CD56bright\"     \"pDC\"               \"Plasmablast\"      \n",
       "[28] \"Platelet\"          \"Treg\"             "
      ]
     },
     "metadata": {},
     "output_type": "display_data"
    }
   ],
   "source": [
    "names(assays(pb))"
   ]
  },
  {
   "cell_type": "code",
   "execution_count": 468,
   "id": "880d1bfe-8a88-4bbe-8236-3fb588b08d0f",
   "metadata": {},
   "outputs": [],
   "source": [
    "assay(pb, 'Platelet') = NULL"
   ]
  },
  {
   "cell_type": "code",
   "execution_count": 469,
   "id": "e556a823-e04c-4842-836a-16c85929bde3",
   "metadata": {},
   "outputs": [],
   "source": [
    "assay(pb, 'Plasmablast') = NULL"
   ]
  },
  {
   "cell_type": "code",
   "execution_count": 470,
   "id": "f273aa46-adbe-4732-8096-b41278b8a2b1",
   "metadata": {},
   "outputs": [],
   "source": [
    "assay(pb, 'pDC') = NULL"
   ]
  },
  {
   "cell_type": "code",
   "execution_count": 471,
   "id": "0ec31400-05f7-439c-b1c6-09d76c5b8090",
   "metadata": {},
   "outputs": [],
   "source": [
    "assay(pb, 'NK_CD56bright') = NULL"
   ]
  },
  {
   "cell_type": "code",
   "execution_count": 472,
   "id": "e5efddf0-b670-4962-b2cc-bcfb832ba464",
   "metadata": {},
   "outputs": [],
   "source": [
    "assay(pb, 'NK Proliferating') = NULL"
   ]
  },
  {
   "cell_type": "code",
   "execution_count": 473,
   "id": "c389c15c-b22a-4bab-a6d0-24819f730082",
   "metadata": {},
   "outputs": [],
   "source": [
    "assay(pb, 'ILC') = NULL"
   ]
  },
  {
   "cell_type": "code",
   "execution_count": 474,
   "id": "570dfeb6-2e00-4a5e-b4d3-70d828d3434a",
   "metadata": {},
   "outputs": [],
   "source": [
    "assay(pb, 'HSPC') = NULL"
   ]
  },
  {
   "cell_type": "code",
   "execution_count": 475,
   "id": "7820b3b0-d4d0-455b-80bf-b0dbb083eaf3",
   "metadata": {},
   "outputs": [],
   "source": [
    "assay(pb, 'Eryth') = NULL"
   ]
  },
  {
   "cell_type": "code",
   "execution_count": 476,
   "id": "54396915-81a1-4077-ac86-ce3e10e65246",
   "metadata": {},
   "outputs": [],
   "source": [
    "assay(pb, 'Doublet') = NULL"
   ]
  },
  {
   "cell_type": "code",
   "execution_count": 477,
   "id": "d1273e46-3a6b-46bb-964c-86f017065bfa",
   "metadata": {},
   "outputs": [],
   "source": [
    "assay(pb, 'dnT') = NULL"
   ]
  },
  {
   "cell_type": "code",
   "execution_count": 478,
   "id": "42502343-c84f-4207-b490-50440b4e655f",
   "metadata": {},
   "outputs": [],
   "source": [
    "assay(pb, 'cDC1') = NULL"
   ]
  },
  {
   "cell_type": "code",
   "execution_count": 479,
   "id": "a1f9d561-9f28-43da-b0cf-f9cf80de2b80",
   "metadata": {},
   "outputs": [],
   "source": [
    "assay(pb, 'CD8 TCM') = NULL"
   ]
  },
  {
   "cell_type": "code",
   "execution_count": 480,
   "id": "efe778cf-6a26-4d55-bf46-abdaeaa93ce3",
   "metadata": {},
   "outputs": [],
   "source": [
    "assay(pb, 'CD8 Proliferating') = NULL"
   ]
  },
  {
   "cell_type": "code",
   "execution_count": 481,
   "id": "b8f7747a-9ddf-490a-81d0-8d12407fcbf8",
   "metadata": {},
   "outputs": [],
   "source": [
    "assay(pb, 'CD4 Proliferating') = NULL"
   ]
  },
  {
   "cell_type": "code",
   "execution_count": 482,
   "id": "164706fa-65a1-44c7-b777-744c69f829d3",
   "metadata": {},
   "outputs": [],
   "source": [
    "assay(pb, 'ASDC') = NULL"
   ]
  },
  {
   "cell_type": "code",
   "execution_count": 483,
   "id": "b6b359e8-e33c-498b-a478-e7552347b026",
   "metadata": {},
   "outputs": [
    {
     "data": {
      "text/html": [
       "14"
      ],
      "text/latex": [
       "14"
      ],
      "text/markdown": [
       "14"
      ],
      "text/plain": [
       "[1] 14"
      ]
     },
     "metadata": {},
     "output_type": "display_data"
    }
   ],
   "source": [
    "length(names(assays(pb)))"
   ]
  },
  {
   "cell_type": "code",
   "execution_count": 484,
   "id": "2f348837-c391-4480-8579-b9b395727468",
   "metadata": {},
   "outputs": [
    {
     "data": {
      "text/html": [
       "<style>\n",
       ".list-inline {list-style: none; margin:0; padding: 0}\n",
       ".list-inline>li {display: inline-block}\n",
       ".list-inline>li:not(:last-child)::after {content: \"\\00b7\"; padding: 0 .5ex}\n",
       "</style>\n",
       "<ol class=list-inline><li>'B cell'</li><li>'CD14 Mono'</li><li>'CD16 Mono'</li><li>'CD4 CTL'</li><li>'CD4 Naive'</li><li>'CD4 TCM'</li><li>'CD4 TEM'</li><li>'CD8 Naive'</li><li>'CD8 TEM'</li><li>'cDC2'</li><li>'gdT'</li><li>'MAIT'</li><li>'NK'</li><li>'Treg'</li></ol>\n"
      ],
      "text/latex": [
       "\\begin{enumerate*}\n",
       "\\item 'B cell'\n",
       "\\item 'CD14 Mono'\n",
       "\\item 'CD16 Mono'\n",
       "\\item 'CD4 CTL'\n",
       "\\item 'CD4 Naive'\n",
       "\\item 'CD4 TCM'\n",
       "\\item 'CD4 TEM'\n",
       "\\item 'CD8 Naive'\n",
       "\\item 'CD8 TEM'\n",
       "\\item 'cDC2'\n",
       "\\item 'gdT'\n",
       "\\item 'MAIT'\n",
       "\\item 'NK'\n",
       "\\item 'Treg'\n",
       "\\end{enumerate*}\n"
      ],
      "text/markdown": [
       "1. 'B cell'\n",
       "2. 'CD14 Mono'\n",
       "3. 'CD16 Mono'\n",
       "4. 'CD4 CTL'\n",
       "5. 'CD4 Naive'\n",
       "6. 'CD4 TCM'\n",
       "7. 'CD4 TEM'\n",
       "8. 'CD8 Naive'\n",
       "9. 'CD8 TEM'\n",
       "10. 'cDC2'\n",
       "11. 'gdT'\n",
       "12. 'MAIT'\n",
       "13. 'NK'\n",
       "14. 'Treg'\n",
       "\n",
       "\n"
      ],
      "text/plain": [
       " [1] \"B cell\"    \"CD14 Mono\" \"CD16 Mono\" \"CD4 CTL\"   \"CD4 Naive\" \"CD4 TCM\"  \n",
       " [7] \"CD4 TEM\"   \"CD8 Naive\" \"CD8 TEM\"   \"cDC2\"      \"gdT\"       \"MAIT\"     \n",
       "[13] \"NK\"        \"Treg\"     "
      ]
     },
     "metadata": {},
     "output_type": "display_data"
    }
   ],
   "source": [
    "names(assays(pb))"
   ]
  },
  {
   "cell_type": "markdown",
   "id": "54f466a9-8adf-411b-9bc1-2c4bee89e2c0",
   "metadata": {
    "tags": []
   },
   "source": [
    "#### Prepare gene-cluster dataframe + normalize"
   ]
  },
  {
   "cell_type": "code",
   "execution_count": 485,
   "id": "0f72167b-2470-45f5-bc32-7d09fce925be",
   "metadata": {},
   "outputs": [
    {
     "data": {
      "text/plain": [
       "List of length 14\n",
       "names(14): B cell CD14 Mono CD16 Mono CD4 CTL CD4 Naive ... gdT MAIT NK Treg"
      ]
     },
     "metadata": {},
     "output_type": "display_data"
    }
   ],
   "source": [
    "assays(pb)"
   ]
  },
  {
   "cell_type": "code",
   "execution_count": 487,
   "id": "63e8afb0-0b4e-4011-89ab-7898e71fd35b",
   "metadata": {},
   "outputs": [],
   "source": [
    "nodes = names(assays(pb))"
   ]
  },
  {
   "cell_type": "code",
   "execution_count": 488,
   "id": "75b94158-0241-49d9-a4e8-5a278d9e6945",
   "metadata": {},
   "outputs": [
    {
     "data": {
      "text/html": [
       "<style>\n",
       ".list-inline {list-style: none; margin:0; padding: 0}\n",
       ".list-inline>li {display: inline-block}\n",
       ".list-inline>li:not(:last-child)::after {content: \"\\00b7\"; padding: 0 .5ex}\n",
       "</style>\n",
       "<ol class=list-inline><li>'B cell'</li><li>'CD14 Mono'</li><li>'CD16 Mono'</li><li>'CD4 CTL'</li><li>'CD4 Naive'</li><li>'CD4 TCM'</li></ol>\n"
      ],
      "text/latex": [
       "\\begin{enumerate*}\n",
       "\\item 'B cell'\n",
       "\\item 'CD14 Mono'\n",
       "\\item 'CD16 Mono'\n",
       "\\item 'CD4 CTL'\n",
       "\\item 'CD4 Naive'\n",
       "\\item 'CD4 TCM'\n",
       "\\end{enumerate*}\n"
      ],
      "text/markdown": [
       "1. 'B cell'\n",
       "2. 'CD14 Mono'\n",
       "3. 'CD16 Mono'\n",
       "4. 'CD4 CTL'\n",
       "5. 'CD4 Naive'\n",
       "6. 'CD4 TCM'\n",
       "\n",
       "\n"
      ],
      "text/plain": [
       "[1] \"B cell\"    \"CD14 Mono\" \"CD16 Mono\" \"CD4 CTL\"   \"CD4 Naive\" \"CD4 TCM\"  "
      ]
     },
     "metadata": {},
     "output_type": "display_data"
    }
   ],
   "source": [
    "head(nodes)"
   ]
  },
  {
   "cell_type": "code",
   "execution_count": 489,
   "id": "d03fa488-a573-4154-9ffe-ab407522db0c",
   "metadata": {},
   "outputs": [],
   "source": [
    "cell_types = nodes"
   ]
  },
  {
   "cell_type": "code",
   "execution_count": 490,
   "id": "0d7035e0-6fb8-40e1-aa75-12d0cedbfca2",
   "metadata": {},
   "outputs": [],
   "source": [
    "#nodes = nodes[1:3]"
   ]
  },
  {
   "cell_type": "code",
   "execution_count": 491,
   "id": "8218ee21-779c-48d9-9c6a-d4a6d70bc860",
   "metadata": {},
   "outputs": [],
   "source": [
    "final_data = data.frame(samples = colnames(pb))"
   ]
  },
  {
   "cell_type": "code",
   "execution_count": 492,
   "id": "7dd49f74-7d9d-443b-981a-e773917541c5",
   "metadata": {},
   "outputs": [],
   "source": [
    "final_data_vis = data.frame(samples = colnames(pb))"
   ]
  },
  {
   "cell_type": "code",
   "execution_count": 493,
   "id": "aacc4e05-29e6-434d-b220-bef013bc004b",
   "metadata": {},
   "outputs": [],
   "source": [
    "rownames(final_data) = final_data$samples"
   ]
  },
  {
   "cell_type": "code",
   "execution_count": 494,
   "id": "677bf8e0-d45d-4377-9617-935d682c03fc",
   "metadata": {},
   "outputs": [],
   "source": [
    "rownames(final_data_vis) = final_data_vis$samples"
   ]
  },
  {
   "cell_type": "code",
   "execution_count": 495,
   "id": "74a5e2ed-c5c3-4839-80f0-2582eafdc582",
   "metadata": {},
   "outputs": [
    {
     "data": {
      "text/html": [
       "<table class=\"dataframe\">\n",
       "<caption>A data.frame: 2 × 1</caption>\n",
       "<thead>\n",
       "\t<tr><th></th><th scope=col>samples</th></tr>\n",
       "\t<tr><th></th><th scope=col>&lt;chr&gt;</th></tr>\n",
       "</thead>\n",
       "<tbody>\n",
       "\t<tr><th scope=row>1.1-L1</th><td>1.1-L1</td></tr>\n",
       "\t<tr><th scope=row>10-L11</th><td>10-L11</td></tr>\n",
       "</tbody>\n",
       "</table>\n"
      ],
      "text/latex": [
       "A data.frame: 2 × 1\n",
       "\\begin{tabular}{r|l}\n",
       "  & samples\\\\\n",
       "  & <chr>\\\\\n",
       "\\hline\n",
       "\t1.1-L1 & 1.1-L1\\\\\n",
       "\t10-L11 & 10-L11\\\\\n",
       "\\end{tabular}\n"
      ],
      "text/markdown": [
       "\n",
       "A data.frame: 2 × 1\n",
       "\n",
       "| <!--/--> | samples &lt;chr&gt; |\n",
       "|---|---|\n",
       "| 1.1-L1 | 1.1-L1 |\n",
       "| 10-L11 | 10-L11 |\n",
       "\n"
      ],
      "text/plain": [
       "       samples\n",
       "1.1-L1 1.1-L1 \n",
       "10-L11 10-L11 "
      ]
     },
     "metadata": {},
     "output_type": "display_data"
    }
   ],
   "source": [
    "head(final_data,2)"
   ]
  },
  {
   "cell_type": "code",
   "execution_count": 496,
   "id": "ac629724-203b-41e0-9fcb-79ada6d2baa7",
   "metadata": {},
   "outputs": [
    {
     "data": {
      "text/html": [
       "<table class=\"dataframe\">\n",
       "<caption>A data.frame: 2 × 5</caption>\n",
       "<thead>\n",
       "\t<tr><th></th><th scope=col>X</th><th scope=col>perc_cells_expressing_gene</th><th scope=col>total_amount_cells_expressing_gene</th><th scope=col>gene</th><th scope=col>cluster</th></tr>\n",
       "\t<tr><th></th><th scope=col>&lt;chr&gt;</th><th scope=col>&lt;dbl&gt;</th><th scope=col>&lt;int&gt;</th><th scope=col>&lt;chr&gt;</th><th scope=col>&lt;chr&gt;</th></tr>\n",
       "</thead>\n",
       "<tbody>\n",
       "\t<tr><th scope=row>1</th><td>AL627309.1</td><td>0.24327612</td><td>18</td><td>AL627309.1</td><td>8_B-cell</td></tr>\n",
       "\t<tr><th scope=row>2</th><td>AL627309.4</td><td>0.05406136</td><td> 4</td><td>AL627309.4</td><td>8_B-cell</td></tr>\n",
       "</tbody>\n",
       "</table>\n"
      ],
      "text/latex": [
       "A data.frame: 2 × 5\n",
       "\\begin{tabular}{r|lllll}\n",
       "  & X & perc\\_cells\\_expressing\\_gene & total\\_amount\\_cells\\_expressing\\_gene & gene & cluster\\\\\n",
       "  & <chr> & <dbl> & <int> & <chr> & <chr>\\\\\n",
       "\\hline\n",
       "\t1 & AL627309.1 & 0.24327612 & 18 & AL627309.1 & 8\\_B-cell\\\\\n",
       "\t2 & AL627309.4 & 0.05406136 &  4 & AL627309.4 & 8\\_B-cell\\\\\n",
       "\\end{tabular}\n"
      ],
      "text/markdown": [
       "\n",
       "A data.frame: 2 × 5\n",
       "\n",
       "| <!--/--> | X &lt;chr&gt; | perc_cells_expressing_gene &lt;dbl&gt; | total_amount_cells_expressing_gene &lt;int&gt; | gene &lt;chr&gt; | cluster &lt;chr&gt; |\n",
       "|---|---|---|---|---|---|\n",
       "| 1 | AL627309.1 | 0.24327612 | 18 | AL627309.1 | 8_B-cell |\n",
       "| 2 | AL627309.4 | 0.05406136 |  4 | AL627309.4 | 8_B-cell |\n",
       "\n"
      ],
      "text/plain": [
       "  X          perc_cells_expressing_gene total_amount_cells_expressing_gene\n",
       "1 AL627309.1 0.24327612                 18                                \n",
       "2 AL627309.4 0.05406136                  4                                \n",
       "  gene       cluster \n",
       "1 AL627309.1 8_B-cell\n",
       "2 AL627309.4 8_B-cell"
      ]
     },
     "metadata": {},
     "output_type": "display_data"
    }
   ],
   "source": [
    "head(genes_subset,2)"
   ]
  },
  {
   "cell_type": "code",
   "execution_count": 497,
   "id": "105d628f-b255-47cd-a599-591bd7aae547",
   "metadata": {},
   "outputs": [
    {
     "data": {
      "text/html": [
       "<style>\n",
       ".list-inline {list-style: none; margin:0; padding: 0}\n",
       ".list-inline>li {display: inline-block}\n",
       ".list-inline>li:not(:last-child)::after {content: \"\\00b7\"; padding: 0 .5ex}\n",
       "</style>\n",
       "<ol class=list-inline><li>'B cell'</li><li>'CD14 Mono'</li><li>'CD16 Mono'</li><li>'CD4 CTL'</li><li>'CD4 Naive'</li><li>'CD4 TCM'</li><li>'CD4 TEM'</li><li>'CD8 Naive'</li><li>'CD8 TEM'</li><li>'cDC2'</li><li>'gdT'</li><li>'MAIT'</li><li>'NK'</li><li>'Treg'</li></ol>\n"
      ],
      "text/latex": [
       "\\begin{enumerate*}\n",
       "\\item 'B cell'\n",
       "\\item 'CD14 Mono'\n",
       "\\item 'CD16 Mono'\n",
       "\\item 'CD4 CTL'\n",
       "\\item 'CD4 Naive'\n",
       "\\item 'CD4 TCM'\n",
       "\\item 'CD4 TEM'\n",
       "\\item 'CD8 Naive'\n",
       "\\item 'CD8 TEM'\n",
       "\\item 'cDC2'\n",
       "\\item 'gdT'\n",
       "\\item 'MAIT'\n",
       "\\item 'NK'\n",
       "\\item 'Treg'\n",
       "\\end{enumerate*}\n"
      ],
      "text/markdown": [
       "1. 'B cell'\n",
       "2. 'CD14 Mono'\n",
       "3. 'CD16 Mono'\n",
       "4. 'CD4 CTL'\n",
       "5. 'CD4 Naive'\n",
       "6. 'CD4 TCM'\n",
       "7. 'CD4 TEM'\n",
       "8. 'CD8 Naive'\n",
       "9. 'CD8 TEM'\n",
       "10. 'cDC2'\n",
       "11. 'gdT'\n",
       "12. 'MAIT'\n",
       "13. 'NK'\n",
       "14. 'Treg'\n",
       "\n",
       "\n"
      ],
      "text/plain": [
       " [1] \"B cell\"    \"CD14 Mono\" \"CD16 Mono\" \"CD4 CTL\"   \"CD4 Naive\" \"CD4 TCM\"  \n",
       " [7] \"CD4 TEM\"   \"CD8 Naive\" \"CD8 TEM\"   \"cDC2\"      \"gdT\"       \"MAIT\"     \n",
       "[13] \"NK\"        \"Treg\"     "
      ]
     },
     "metadata": {},
     "output_type": "display_data"
    }
   ],
   "source": [
    "nodes"
   ]
  },
  {
   "cell_type": "code",
   "execution_count": 508,
   "id": "bc06d0c0-8f1b-4e73-8815-241fe4d1914a",
   "metadata": {},
   "outputs": [],
   "source": [
    "genes_subset = cell_perc_cluster"
   ]
  },
  {
   "cell_type": "code",
   "execution_count": 529,
   "id": "6622ed8c-ffd8-4747-a46e-88a0bbfb9fb3",
   "metadata": {
    "tags": []
   },
   "outputs": [],
   "source": [
    "\n",
    "for(i in unique(genes_subset$cluster)){\n",
    "    data = assay(pb, i)\n",
    "\n",
    "\n",
    "    ##### Normalize counts per sample (library size) \n",
    "\n",
    "    if(is.na(str_extract(name, 'scano')) == TRUE){\n",
    "        scaling_factor = colSums(data) /mean(colSums(data))\n",
    "\n",
    "        for (j in 1:ncol(data)){\n",
    "            if(scaling_factor[j] != 0){\n",
    "                data[,j] = data[,j]/ scaling_factor[j]\n",
    "                }\n",
    "            }\n",
    "        }\n",
    "\n",
    "    ### Subset data on genes with minimum expression in cluster\n",
    "    data = data[rownames(data) %in% genes_subset$gene[genes_subset$cluster == i],]\n",
    "\n",
    "\n",
    "    ##### TBD pre-processing stepd\n",
    "\n",
    "    if(is.na(str_extract(name, 'scano')) == TRUE){\n",
    "        data = log2(data+1) # logarithmize count values (optional!)\n",
    "        }\n",
    "\n",
    "    #### Quantile normalization \n",
    "\n",
    "    if(quantile_normalization_single_cell == TRUE){\n",
    "        data_rows = rownames(data)\n",
    "        data  = quantile_normalization(data ) \n",
    "        rownames(data) = data_rows\n",
    "        }\n",
    "\n",
    "    rownames(data) = paste0(i, '__' ,rownames(data))\n",
    "\n",
    "    data = data.frame(t(data))\n",
    "\n",
    "    expr_mean = data.frame( mean_expr = rowMeans(data))\n",
    "    colnames(expr_mean) = i\n",
    "    rownames(expr_mean) = rownames(data)\n",
    "\n",
    "    final_data = merge(final_data, data, by = 0)\n",
    "    final_data_vis = merge(final_data_vis, expr_mean, by = 0)\n",
    "\n",
    "    rownames(final_data) =  final_data$Row.names\n",
    "    rownames(final_data_vis) = final_data_vis$Row.names\n",
    "    final_data$Row.names = NULL\n",
    "    final_data_vis$Row.names = NULL\n",
    "    }\n",
    "\n",
    "   "
   ]
  },
  {
   "cell_type": "code",
   "execution_count": 530,
   "id": "42c6c343-849d-4c51-a7e7-089861b82747",
   "metadata": {},
   "outputs": [
    {
     "data": {
      "text/html": [
       "<table class=\"dataframe\">\n",
       "<caption>A data.frame: 2 × 8909</caption>\n",
       "<thead>\n",
       "\t<tr><th></th><th scope=col>samples</th><th scope=col>B.cell__RPL22</th><th scope=col>B.cell__PARK7</th><th scope=col>B.cell__ENO1</th><th scope=col>B.cell__PRDM2</th><th scope=col>B.cell__CAPZB</th><th scope=col>B.cell__HP1BP3</th><th scope=col>B.cell__CDC42</th><th scope=col>B.cell__HNRNPR</th><th scope=col>B.cell__RPL11</th><th scope=col>⋯</th><th scope=col>CD4.CTL__MT.CO1</th><th scope=col>CD4.CTL__MT.CO2</th><th scope=col>CD4.CTL__MT.ATP6</th><th scope=col>CD4.CTL__MT.CO3</th><th scope=col>CD4.CTL__MT.ND3</th><th scope=col>CD4.CTL__MT.ND4L</th><th scope=col>CD4.CTL__MT.ND4</th><th scope=col>CD4.CTL__MT.ND5</th><th scope=col>CD4.CTL__MT.ND6</th><th scope=col>CD4.CTL__MT.CYB</th></tr>\n",
       "\t<tr><th></th><th scope=col>&lt;chr&gt;</th><th scope=col>&lt;dbl&gt;</th><th scope=col>&lt;dbl&gt;</th><th scope=col>&lt;dbl&gt;</th><th scope=col>&lt;dbl&gt;</th><th scope=col>&lt;dbl&gt;</th><th scope=col>&lt;dbl&gt;</th><th scope=col>&lt;dbl&gt;</th><th scope=col>&lt;dbl&gt;</th><th scope=col>&lt;dbl&gt;</th><th scope=col>⋯</th><th scope=col>&lt;dbl&gt;</th><th scope=col>&lt;dbl&gt;</th><th scope=col>&lt;dbl&gt;</th><th scope=col>&lt;dbl&gt;</th><th scope=col>&lt;dbl&gt;</th><th scope=col>&lt;dbl&gt;</th><th scope=col>&lt;dbl&gt;</th><th scope=col>&lt;dbl&gt;</th><th scope=col>&lt;dbl&gt;</th><th scope=col>&lt;dbl&gt;</th></tr>\n",
       "</thead>\n",
       "<tbody>\n",
       "\t<tr><th scope=row>1.1-L1</th><td>1.1-L1</td><td>3.489087</td><td>0.7517455</td><td>0.4938072</td><td>1.332314</td><td>0.6630314</td><td>0.7887402</td><td>1.698647</td><td>0.7887402</td><td>5.000988</td><td>⋯</td><td>5.153109</td><td>5.380742</td><td>5.755433</td><td>4.975793</td><td>5.198533</td><td>0.2775368</td><td>4.667043</td><td>3.326732</td><td>0.6091993</td><td>5.072069</td></tr>\n",
       "\t<tr><th scope=row>10-L11</th><td>10-L11</td><td>3.462751</td><td>0.9412188</td><td>0.8205378</td><td>1.182750</td><td>0.9206895</td><td>0.7610354</td><td>1.479767</td><td>0.7213612</td><td>4.968836</td><td>⋯</td><td>4.884216</td><td>5.039021</td><td>4.625803</td><td>4.605801</td><td>4.482661</td><td>1.4139015</td><td>4.136982</td><td>2.834366</td><td>1.2093461</td><td>4.524055</td></tr>\n",
       "</tbody>\n",
       "</table>\n"
      ],
      "text/latex": [
       "A data.frame: 2 × 8909\n",
       "\\begin{tabular}{r|lllllllllllllllllllll}\n",
       "  & samples & B.cell\\_\\_RPL22 & B.cell\\_\\_PARK7 & B.cell\\_\\_ENO1 & B.cell\\_\\_PRDM2 & B.cell\\_\\_CAPZB & B.cell\\_\\_HP1BP3 & B.cell\\_\\_CDC42 & B.cell\\_\\_HNRNPR & B.cell\\_\\_RPL11 & ⋯ & CD4.CTL\\_\\_MT.CO1 & CD4.CTL\\_\\_MT.CO2 & CD4.CTL\\_\\_MT.ATP6 & CD4.CTL\\_\\_MT.CO3 & CD4.CTL\\_\\_MT.ND3 & CD4.CTL\\_\\_MT.ND4L & CD4.CTL\\_\\_MT.ND4 & CD4.CTL\\_\\_MT.ND5 & CD4.CTL\\_\\_MT.ND6 & CD4.CTL\\_\\_MT.CYB\\\\\n",
       "  & <chr> & <dbl> & <dbl> & <dbl> & <dbl> & <dbl> & <dbl> & <dbl> & <dbl> & <dbl> & ⋯ & <dbl> & <dbl> & <dbl> & <dbl> & <dbl> & <dbl> & <dbl> & <dbl> & <dbl> & <dbl>\\\\\n",
       "\\hline\n",
       "\t1.1-L1 & 1.1-L1 & 3.489087 & 0.7517455 & 0.4938072 & 1.332314 & 0.6630314 & 0.7887402 & 1.698647 & 0.7887402 & 5.000988 & ⋯ & 5.153109 & 5.380742 & 5.755433 & 4.975793 & 5.198533 & 0.2775368 & 4.667043 & 3.326732 & 0.6091993 & 5.072069\\\\\n",
       "\t10-L11 & 10-L11 & 3.462751 & 0.9412188 & 0.8205378 & 1.182750 & 0.9206895 & 0.7610354 & 1.479767 & 0.7213612 & 4.968836 & ⋯ & 4.884216 & 5.039021 & 4.625803 & 4.605801 & 4.482661 & 1.4139015 & 4.136982 & 2.834366 & 1.2093461 & 4.524055\\\\\n",
       "\\end{tabular}\n"
      ],
      "text/markdown": [
       "\n",
       "A data.frame: 2 × 8909\n",
       "\n",
       "| <!--/--> | samples &lt;chr&gt; | B.cell__RPL22 &lt;dbl&gt; | B.cell__PARK7 &lt;dbl&gt; | B.cell__ENO1 &lt;dbl&gt; | B.cell__PRDM2 &lt;dbl&gt; | B.cell__CAPZB &lt;dbl&gt; | B.cell__HP1BP3 &lt;dbl&gt; | B.cell__CDC42 &lt;dbl&gt; | B.cell__HNRNPR &lt;dbl&gt; | B.cell__RPL11 &lt;dbl&gt; | ⋯ ⋯ | CD4.CTL__MT.CO1 &lt;dbl&gt; | CD4.CTL__MT.CO2 &lt;dbl&gt; | CD4.CTL__MT.ATP6 &lt;dbl&gt; | CD4.CTL__MT.CO3 &lt;dbl&gt; | CD4.CTL__MT.ND3 &lt;dbl&gt; | CD4.CTL__MT.ND4L &lt;dbl&gt; | CD4.CTL__MT.ND4 &lt;dbl&gt; | CD4.CTL__MT.ND5 &lt;dbl&gt; | CD4.CTL__MT.ND6 &lt;dbl&gt; | CD4.CTL__MT.CYB &lt;dbl&gt; |\n",
       "|---|---|---|---|---|---|---|---|---|---|---|---|---|---|---|---|---|---|---|---|---|---|\n",
       "| 1.1-L1 | 1.1-L1 | 3.489087 | 0.7517455 | 0.4938072 | 1.332314 | 0.6630314 | 0.7887402 | 1.698647 | 0.7887402 | 5.000988 | ⋯ | 5.153109 | 5.380742 | 5.755433 | 4.975793 | 5.198533 | 0.2775368 | 4.667043 | 3.326732 | 0.6091993 | 5.072069 |\n",
       "| 10-L11 | 10-L11 | 3.462751 | 0.9412188 | 0.8205378 | 1.182750 | 0.9206895 | 0.7610354 | 1.479767 | 0.7213612 | 4.968836 | ⋯ | 4.884216 | 5.039021 | 4.625803 | 4.605801 | 4.482661 | 1.4139015 | 4.136982 | 2.834366 | 1.2093461 | 4.524055 |\n",
       "\n"
      ],
      "text/plain": [
       "       samples B.cell__RPL22 B.cell__PARK7 B.cell__ENO1 B.cell__PRDM2\n",
       "1.1-L1 1.1-L1  3.489087      0.7517455     0.4938072    1.332314     \n",
       "10-L11 10-L11  3.462751      0.9412188     0.8205378    1.182750     \n",
       "       B.cell__CAPZB B.cell__HP1BP3 B.cell__CDC42 B.cell__HNRNPR B.cell__RPL11\n",
       "1.1-L1 0.6630314     0.7887402      1.698647      0.7887402      5.000988     \n",
       "10-L11 0.9206895     0.7610354      1.479767      0.7213612      4.968836     \n",
       "       ⋯ CD4.CTL__MT.CO1 CD4.CTL__MT.CO2 CD4.CTL__MT.ATP6 CD4.CTL__MT.CO3\n",
       "1.1-L1 ⋯ 5.153109        5.380742        5.755433         4.975793       \n",
       "10-L11 ⋯ 4.884216        5.039021        4.625803         4.605801       \n",
       "       CD4.CTL__MT.ND3 CD4.CTL__MT.ND4L CD4.CTL__MT.ND4 CD4.CTL__MT.ND5\n",
       "1.1-L1 5.198533        0.2775368        4.667043        3.326732       \n",
       "10-L11 4.482661        1.4139015        4.136982        2.834366       \n",
       "       CD4.CTL__MT.ND6 CD4.CTL__MT.CYB\n",
       "1.1-L1 0.6091993       5.072069       \n",
       "10-L11 1.2093461       4.524055       "
      ]
     },
     "metadata": {},
     "output_type": "display_data"
    }
   ],
   "source": [
    "head(final_data,2)"
   ]
  },
  {
   "cell_type": "code",
   "execution_count": 531,
   "id": "d9326c7f-edcd-48bb-8259-7dc4aa848db7",
   "metadata": {},
   "outputs": [
    {
     "data": {
      "text/html": [
       "8909"
      ],
      "text/latex": [
       "8909"
      ],
      "text/markdown": [
       "8909"
      ],
      "text/plain": [
       "[1] 8909"
      ]
     },
     "metadata": {},
     "output_type": "display_data"
    }
   ],
   "source": [
    "ncol(final_data)"
   ]
  },
  {
   "cell_type": "code",
   "execution_count": 545,
   "id": "13595283-f79c-4518-9322-11de7474f563",
   "metadata": {},
   "outputs": [
    {
     "data": {
      "text/html": [
       "8908"
      ],
      "text/latex": [
       "8908"
      ],
      "text/markdown": [
       "8908"
      ],
      "text/plain": [
       "[1] 8908"
      ]
     },
     "metadata": {},
     "output_type": "display_data"
    }
   ],
   "source": [
    "nrow(genes_subset)"
   ]
  },
  {
   "cell_type": "code",
   "execution_count": 546,
   "id": "7036ec4d-9a87-4a57-9ae1-819768e6c0e1",
   "metadata": {},
   "outputs": [],
   "source": [
    "sample_data$sample_merge = paste0(sample_data$id, '-', sample_data$library)"
   ]
  },
  {
   "cell_type": "code",
   "execution_count": 547,
   "id": "cc1f694d-d632-424d-9d19-06bdb8231fd3",
   "metadata": {},
   "outputs": [],
   "source": [
    "#head(sample_data)"
   ]
  },
  {
   "cell_type": "code",
   "execution_count": 548,
   "id": "765c2159-c028-43d3-aa54-cb9af5a58ca4",
   "metadata": {},
   "outputs": [
    {
     "data": {
      "text/html": [
       "<style>\n",
       ".list-inline {list-style: none; margin:0; padding: 0}\n",
       ".list-inline>li {display: inline-block}\n",
       ".list-inline>li:not(:last-child)::after {content: \"\\00b7\"; padding: 0 .5ex}\n",
       "</style>\n",
       "<ol class=list-inline><li>121</li><li>8909</li></ol>\n"
      ],
      "text/latex": [
       "\\begin{enumerate*}\n",
       "\\item 121\n",
       "\\item 8909\n",
       "\\end{enumerate*}\n"
      ],
      "text/markdown": [
       "1. 121\n",
       "2. 8909\n",
       "\n",
       "\n"
      ],
      "text/plain": [
       "[1]  121 8909"
      ]
     },
     "metadata": {},
     "output_type": "display_data"
    }
   ],
   "source": [
    "dim(final_data)"
   ]
  },
  {
   "cell_type": "code",
   "execution_count": 549,
   "id": "82f43872-9831-4778-bb88-3667b27e37bf",
   "metadata": {},
   "outputs": [],
   "source": [
    "final_data = merge(final_data, sample_data[,c('sample_id', 'sample_merge')], by.x = 'samples', by.y = 'sample_merge')"
   ]
  },
  {
   "cell_type": "code",
   "execution_count": 550,
   "id": "fc46a954-31de-49f2-b115-19def41c526d",
   "metadata": {},
   "outputs": [
    {
     "data": {
      "text/html": [
       "<style>\n",
       ".list-inline {list-style: none; margin:0; padding: 0}\n",
       ".list-inline>li {display: inline-block}\n",
       ".list-inline>li:not(:last-child)::after {content: \"\\00b7\"; padding: 0 .5ex}\n",
       "</style>\n",
       "<ol class=list-inline><li>121</li><li>8910</li></ol>\n"
      ],
      "text/latex": [
       "\\begin{enumerate*}\n",
       "\\item 121\n",
       "\\item 8910\n",
       "\\end{enumerate*}\n"
      ],
      "text/markdown": [
       "1. 121\n",
       "2. 8910\n",
       "\n",
       "\n"
      ],
      "text/plain": [
       "[1]  121 8910"
      ]
     },
     "metadata": {},
     "output_type": "display_data"
    }
   ],
   "source": [
    "dim(final_data)"
   ]
  },
  {
   "cell_type": "code",
   "execution_count": 551,
   "id": "a0acac70-8922-414b-b2e6-040364860dbd",
   "metadata": {},
   "outputs": [],
   "source": [
    "rownames(final_data)  = final_data$samples"
   ]
  },
  {
   "cell_type": "code",
   "execution_count": null,
   "id": "c805da20-6931-444e-916d-81447a3f2b9d",
   "metadata": {},
   "outputs": [],
   "source": []
  },
  {
   "cell_type": "code",
   "execution_count": 555,
   "id": "5c06c24a-b219-40cf-8678-681ff67d5dc9",
   "metadata": {},
   "outputs": [
    {
     "data": {
      "text/html": [
       "<style>\n",
       ".list-inline {list-style: none; margin:0; padding: 0}\n",
       ".list-inline>li {display: inline-block}\n",
       ".list-inline>li:not(:last-child)::after {content: \"\\00b7\"; padding: 0 .5ex}\n",
       "</style>\n",
       "<ol class=list-inline><li>121</li><li>8910</li></ol>\n"
      ],
      "text/latex": [
       "\\begin{enumerate*}\n",
       "\\item 121\n",
       "\\item 8910\n",
       "\\end{enumerate*}\n"
      ],
      "text/markdown": [
       "1. 121\n",
       "2. 8910\n",
       "\n",
       "\n"
      ],
      "text/plain": [
       "[1]  121 8910"
      ]
     },
     "metadata": {},
     "output_type": "display_data"
    }
   ],
   "source": [
    "dim(final_data)"
   ]
  },
  {
   "cell_type": "code",
   "execution_count": 556,
   "id": "d5a34670-0c30-4c23-8060-5eb10a67b2cf",
   "metadata": {},
   "outputs": [
    {
     "data": {
      "text/html": [
       "<style>\n",
       ".list-inline {list-style: none; margin:0; padding: 0}\n",
       ".list-inline>li {display: inline-block}\n",
       ".list-inline>li:not(:last-child)::after {content: \"\\00b7\"; padding: 0 .5ex}\n",
       "</style>\n",
       "<ol class=list-inline><li>121</li><li>14</li></ol>\n"
      ],
      "text/latex": [
       "\\begin{enumerate*}\n",
       "\\item 121\n",
       "\\item 14\n",
       "\\end{enumerate*}\n"
      ],
      "text/markdown": [
       "1. 121\n",
       "2. 14\n",
       "\n",
       "\n"
      ],
      "text/plain": [
       "[1] 121  14"
      ]
     },
     "metadata": {},
     "output_type": "display_data"
    }
   ],
   "source": [
    "dim(final_data_vis)"
   ]
  },
  {
   "cell_type": "markdown",
   "id": "2e628404-1c8a-476c-971b-ac9407503c56",
   "metadata": {
    "tags": []
   },
   "source": [
    "#### Filter genes"
   ]
  },
  {
   "cell_type": "code",
   "execution_count": 557,
   "id": "3d784b2d-67b7-47bb-8899-adb95b586664",
   "metadata": {},
   "outputs": [],
   "source": [
    "### Remove mitochondrial & ribosomal genes"
   ]
  },
  {
   "cell_type": "code",
   "execution_count": 558,
   "id": "c43a1a75-ad74-4eaa-b8b4-66f3403857fe",
   "metadata": {},
   "outputs": [
    {
     "data": {
      "text/html": [
       "<table class=\"dataframe\">\n",
       "<caption>A data.frame: 2 × 8910</caption>\n",
       "<thead>\n",
       "\t<tr><th></th><th scope=col>samples</th><th scope=col>B.cell__RPL22</th><th scope=col>B.cell__PARK7</th><th scope=col>B.cell__ENO1</th><th scope=col>B.cell__PRDM2</th><th scope=col>B.cell__CAPZB</th><th scope=col>B.cell__HP1BP3</th><th scope=col>B.cell__CDC42</th><th scope=col>B.cell__HNRNPR</th><th scope=col>B.cell__RPL11</th><th scope=col>⋯</th><th scope=col>CD4.CTL__MT.CO2</th><th scope=col>CD4.CTL__MT.ATP6</th><th scope=col>CD4.CTL__MT.CO3</th><th scope=col>CD4.CTL__MT.ND3</th><th scope=col>CD4.CTL__MT.ND4L</th><th scope=col>CD4.CTL__MT.ND4</th><th scope=col>CD4.CTL__MT.ND5</th><th scope=col>CD4.CTL__MT.ND6</th><th scope=col>CD4.CTL__MT.CYB</th><th scope=col>sample_id</th></tr>\n",
       "\t<tr><th></th><th scope=col>&lt;chr&gt;</th><th scope=col>&lt;dbl&gt;</th><th scope=col>&lt;dbl&gt;</th><th scope=col>&lt;dbl&gt;</th><th scope=col>&lt;dbl&gt;</th><th scope=col>&lt;dbl&gt;</th><th scope=col>&lt;dbl&gt;</th><th scope=col>&lt;dbl&gt;</th><th scope=col>&lt;dbl&gt;</th><th scope=col>&lt;dbl&gt;</th><th scope=col>⋯</th><th scope=col>&lt;dbl&gt;</th><th scope=col>&lt;dbl&gt;</th><th scope=col>&lt;dbl&gt;</th><th scope=col>&lt;dbl&gt;</th><th scope=col>&lt;dbl&gt;</th><th scope=col>&lt;dbl&gt;</th><th scope=col>&lt;dbl&gt;</th><th scope=col>&lt;dbl&gt;</th><th scope=col>&lt;dbl&gt;</th><th scope=col>&lt;chr&gt;</th></tr>\n",
       "</thead>\n",
       "<tbody>\n",
       "\t<tr><th scope=row>1.1-L1</th><td>1.1-L1</td><td>3.489087</td><td>0.7517455</td><td>0.4938072</td><td>1.332314</td><td>0.6630314</td><td>0.7887402</td><td>1.698647</td><td>0.7887402</td><td>5.000988</td><td>⋯</td><td>5.380742</td><td>5.755433</td><td>4.975793</td><td>5.198533</td><td>0.2775368</td><td>4.667043</td><td>3.326732</td><td>0.6091993</td><td>5.072069</td><td>m1.1</td></tr>\n",
       "\t<tr><th scope=row>10-L11</th><td>10-L11</td><td>3.462751</td><td>0.9412188</td><td>0.8205378</td><td>1.182750</td><td>0.9206895</td><td>0.7610354</td><td>1.479767</td><td>0.7213612</td><td>4.968836</td><td>⋯</td><td>5.039021</td><td>4.625803</td><td>4.605801</td><td>4.482661</td><td>1.4139015</td><td>4.136982</td><td>2.834366</td><td>1.2093461</td><td>4.524055</td><td>k10 </td></tr>\n",
       "</tbody>\n",
       "</table>\n"
      ],
      "text/latex": [
       "A data.frame: 2 × 8910\n",
       "\\begin{tabular}{r|lllllllllllllllllllll}\n",
       "  & samples & B.cell\\_\\_RPL22 & B.cell\\_\\_PARK7 & B.cell\\_\\_ENO1 & B.cell\\_\\_PRDM2 & B.cell\\_\\_CAPZB & B.cell\\_\\_HP1BP3 & B.cell\\_\\_CDC42 & B.cell\\_\\_HNRNPR & B.cell\\_\\_RPL11 & ⋯ & CD4.CTL\\_\\_MT.CO2 & CD4.CTL\\_\\_MT.ATP6 & CD4.CTL\\_\\_MT.CO3 & CD4.CTL\\_\\_MT.ND3 & CD4.CTL\\_\\_MT.ND4L & CD4.CTL\\_\\_MT.ND4 & CD4.CTL\\_\\_MT.ND5 & CD4.CTL\\_\\_MT.ND6 & CD4.CTL\\_\\_MT.CYB & sample\\_id\\\\\n",
       "  & <chr> & <dbl> & <dbl> & <dbl> & <dbl> & <dbl> & <dbl> & <dbl> & <dbl> & <dbl> & ⋯ & <dbl> & <dbl> & <dbl> & <dbl> & <dbl> & <dbl> & <dbl> & <dbl> & <dbl> & <chr>\\\\\n",
       "\\hline\n",
       "\t1.1-L1 & 1.1-L1 & 3.489087 & 0.7517455 & 0.4938072 & 1.332314 & 0.6630314 & 0.7887402 & 1.698647 & 0.7887402 & 5.000988 & ⋯ & 5.380742 & 5.755433 & 4.975793 & 5.198533 & 0.2775368 & 4.667043 & 3.326732 & 0.6091993 & 5.072069 & m1.1\\\\\n",
       "\t10-L11 & 10-L11 & 3.462751 & 0.9412188 & 0.8205378 & 1.182750 & 0.9206895 & 0.7610354 & 1.479767 & 0.7213612 & 4.968836 & ⋯ & 5.039021 & 4.625803 & 4.605801 & 4.482661 & 1.4139015 & 4.136982 & 2.834366 & 1.2093461 & 4.524055 & k10 \\\\\n",
       "\\end{tabular}\n"
      ],
      "text/markdown": [
       "\n",
       "A data.frame: 2 × 8910\n",
       "\n",
       "| <!--/--> | samples &lt;chr&gt; | B.cell__RPL22 &lt;dbl&gt; | B.cell__PARK7 &lt;dbl&gt; | B.cell__ENO1 &lt;dbl&gt; | B.cell__PRDM2 &lt;dbl&gt; | B.cell__CAPZB &lt;dbl&gt; | B.cell__HP1BP3 &lt;dbl&gt; | B.cell__CDC42 &lt;dbl&gt; | B.cell__HNRNPR &lt;dbl&gt; | B.cell__RPL11 &lt;dbl&gt; | ⋯ ⋯ | CD4.CTL__MT.CO2 &lt;dbl&gt; | CD4.CTL__MT.ATP6 &lt;dbl&gt; | CD4.CTL__MT.CO3 &lt;dbl&gt; | CD4.CTL__MT.ND3 &lt;dbl&gt; | CD4.CTL__MT.ND4L &lt;dbl&gt; | CD4.CTL__MT.ND4 &lt;dbl&gt; | CD4.CTL__MT.ND5 &lt;dbl&gt; | CD4.CTL__MT.ND6 &lt;dbl&gt; | CD4.CTL__MT.CYB &lt;dbl&gt; | sample_id &lt;chr&gt; |\n",
       "|---|---|---|---|---|---|---|---|---|---|---|---|---|---|---|---|---|---|---|---|---|---|\n",
       "| 1.1-L1 | 1.1-L1 | 3.489087 | 0.7517455 | 0.4938072 | 1.332314 | 0.6630314 | 0.7887402 | 1.698647 | 0.7887402 | 5.000988 | ⋯ | 5.380742 | 5.755433 | 4.975793 | 5.198533 | 0.2775368 | 4.667043 | 3.326732 | 0.6091993 | 5.072069 | m1.1 |\n",
       "| 10-L11 | 10-L11 | 3.462751 | 0.9412188 | 0.8205378 | 1.182750 | 0.9206895 | 0.7610354 | 1.479767 | 0.7213612 | 4.968836 | ⋯ | 5.039021 | 4.625803 | 4.605801 | 4.482661 | 1.4139015 | 4.136982 | 2.834366 | 1.2093461 | 4.524055 | k10  |\n",
       "\n"
      ],
      "text/plain": [
       "       samples B.cell__RPL22 B.cell__PARK7 B.cell__ENO1 B.cell__PRDM2\n",
       "1.1-L1 1.1-L1  3.489087      0.7517455     0.4938072    1.332314     \n",
       "10-L11 10-L11  3.462751      0.9412188     0.8205378    1.182750     \n",
       "       B.cell__CAPZB B.cell__HP1BP3 B.cell__CDC42 B.cell__HNRNPR B.cell__RPL11\n",
       "1.1-L1 0.6630314     0.7887402      1.698647      0.7887402      5.000988     \n",
       "10-L11 0.9206895     0.7610354      1.479767      0.7213612      4.968836     \n",
       "       ⋯ CD4.CTL__MT.CO2 CD4.CTL__MT.ATP6 CD4.CTL__MT.CO3 CD4.CTL__MT.ND3\n",
       "1.1-L1 ⋯ 5.380742        5.755433         4.975793        5.198533       \n",
       "10-L11 ⋯ 5.039021        4.625803         4.605801        4.482661       \n",
       "       CD4.CTL__MT.ND4L CD4.CTL__MT.ND4 CD4.CTL__MT.ND5 CD4.CTL__MT.ND6\n",
       "1.1-L1 0.2775368        4.667043        3.326732        0.6091993      \n",
       "10-L11 1.4139015        4.136982        2.834366        1.2093461      \n",
       "       CD4.CTL__MT.CYB sample_id\n",
       "1.1-L1 5.072069        m1.1     \n",
       "10-L11 4.524055        k10      "
      ]
     },
     "metadata": {},
     "output_type": "display_data"
    }
   ],
   "source": [
    "head(final_data,2)"
   ]
  },
  {
   "cell_type": "code",
   "execution_count": 559,
   "id": "6bf9857a-5121-4e08-b5da-15ad5fb36775",
   "metadata": {},
   "outputs": [
    {
     "data": {
      "text/html": [
       "8910"
      ],
      "text/latex": [
       "8910"
      ],
      "text/markdown": [
       "8910"
      ],
      "text/plain": [
       "[1] 8910"
      ]
     },
     "metadata": {},
     "output_type": "display_data"
    }
   ],
   "source": [
    "ncol(final_data)"
   ]
  },
  {
   "cell_type": "code",
   "execution_count": 560,
   "id": "ee3e532e-21e6-4146-8ea1-59a44a5d0d90",
   "metadata": {},
   "outputs": [],
   "source": [
    "final_data = final_data[, !colnames(final_data) %in% (colnames(final_data)[!is.na(str_extract(colnames(final_data), '__MT.*|__RPL.*|__RPS.*'))])]"
   ]
  },
  {
   "cell_type": "code",
   "execution_count": 561,
   "id": "368b9415-3ff2-40ff-83a8-fc4e3087f805",
   "metadata": {},
   "outputs": [
    {
     "data": {
      "text/html": [
       "7696"
      ],
      "text/latex": [
       "7696"
      ],
      "text/markdown": [
       "7696"
      ],
      "text/plain": [
       "[1] 7696"
      ]
     },
     "metadata": {},
     "output_type": "display_data"
    }
   ],
   "source": [
    "ncol(final_data)   # minus sample + sample_id column --> 11.831"
   ]
  },
  {
   "cell_type": "code",
   "execution_count": 562,
   "id": "861dc60a-7ae1-40ca-bde0-15704072a74f",
   "metadata": {},
   "outputs": [
    {
     "data": {
      "text/html": [
       "<table class=\"dataframe\">\n",
       "<caption>A data.frame: 2 × 7696</caption>\n",
       "<thead>\n",
       "\t<tr><th></th><th scope=col>samples</th><th scope=col>B.cell__PARK7</th><th scope=col>B.cell__ENO1</th><th scope=col>B.cell__PRDM2</th><th scope=col>B.cell__CAPZB</th><th scope=col>B.cell__HP1BP3</th><th scope=col>B.cell__CDC42</th><th scope=col>B.cell__HNRNPR</th><th scope=col>B.cell__PNRC2</th><th scope=col>B.cell__SRSF10</th><th scope=col>⋯</th><th scope=col>CD4.CTL__SNU13</th><th scope=col>CD4.CTL__SMDT1</th><th scope=col>CD4.CTL__TSPO</th><th scope=col>CD4.CTL__SOD1</th><th scope=col>CD4.CTL__SON</th><th scope=col>CD4.CTL__TTC3</th><th scope=col>CD4.CTL__HMGN1</th><th scope=col>CD4.CTL__ITGB2</th><th scope=col>CD4.CTL__PRMT2</th><th scope=col>sample_id</th></tr>\n",
       "\t<tr><th></th><th scope=col>&lt;chr&gt;</th><th scope=col>&lt;dbl&gt;</th><th scope=col>&lt;dbl&gt;</th><th scope=col>&lt;dbl&gt;</th><th scope=col>&lt;dbl&gt;</th><th scope=col>&lt;dbl&gt;</th><th scope=col>&lt;dbl&gt;</th><th scope=col>&lt;dbl&gt;</th><th scope=col>&lt;dbl&gt;</th><th scope=col>&lt;dbl&gt;</th><th scope=col>⋯</th><th scope=col>&lt;dbl&gt;</th><th scope=col>&lt;dbl&gt;</th><th scope=col>&lt;dbl&gt;</th><th scope=col>&lt;dbl&gt;</th><th scope=col>&lt;dbl&gt;</th><th scope=col>&lt;dbl&gt;</th><th scope=col>&lt;dbl&gt;</th><th scope=col>&lt;dbl&gt;</th><th scope=col>&lt;dbl&gt;</th><th scope=col>&lt;chr&gt;</th></tr>\n",
       "</thead>\n",
       "<tbody>\n",
       "\t<tr><th scope=row>1.1-L1</th><td>1.1-L1</td><td>0.7517455</td><td>0.4938072</td><td>1.332314</td><td>0.6630314</td><td>0.7887402</td><td>1.698647</td><td>0.7887402</td><td>0.8199788</td><td>0.9933239</td><td>⋯</td><td>0.8392725</td><td>1.2053873</td><td>0.6091993</td><td>0.8392725</td><td>1.57955</td><td>0.2775368</td><td>1.756926</td><td>1.053814</td><td>0.6091993</td><td>m1.1</td></tr>\n",
       "\t<tr><th scope=row>10-L11</th><td>10-L11</td><td>0.9412188</td><td>0.8205378</td><td>1.182750</td><td>0.9206895</td><td>0.7610354</td><td>1.479767</td><td>0.7213612</td><td>0.7969667</td><td>0.8442397</td><td>⋯</td><td>0.9897038</td><td>0.4184606</td><td>1.0203473</td><td>1.3312251</td><td>1.57955</td><td>0.8628635</td><td>1.331225</td><td>1.560533</td><td>0.7464948</td><td>k10 </td></tr>\n",
       "</tbody>\n",
       "</table>\n"
      ],
      "text/latex": [
       "A data.frame: 2 × 7696\n",
       "\\begin{tabular}{r|lllllllllllllllllllll}\n",
       "  & samples & B.cell\\_\\_PARK7 & B.cell\\_\\_ENO1 & B.cell\\_\\_PRDM2 & B.cell\\_\\_CAPZB & B.cell\\_\\_HP1BP3 & B.cell\\_\\_CDC42 & B.cell\\_\\_HNRNPR & B.cell\\_\\_PNRC2 & B.cell\\_\\_SRSF10 & ⋯ & CD4.CTL\\_\\_SNU13 & CD4.CTL\\_\\_SMDT1 & CD4.CTL\\_\\_TSPO & CD4.CTL\\_\\_SOD1 & CD4.CTL\\_\\_SON & CD4.CTL\\_\\_TTC3 & CD4.CTL\\_\\_HMGN1 & CD4.CTL\\_\\_ITGB2 & CD4.CTL\\_\\_PRMT2 & sample\\_id\\\\\n",
       "  & <chr> & <dbl> & <dbl> & <dbl> & <dbl> & <dbl> & <dbl> & <dbl> & <dbl> & <dbl> & ⋯ & <dbl> & <dbl> & <dbl> & <dbl> & <dbl> & <dbl> & <dbl> & <dbl> & <dbl> & <chr>\\\\\n",
       "\\hline\n",
       "\t1.1-L1 & 1.1-L1 & 0.7517455 & 0.4938072 & 1.332314 & 0.6630314 & 0.7887402 & 1.698647 & 0.7887402 & 0.8199788 & 0.9933239 & ⋯ & 0.8392725 & 1.2053873 & 0.6091993 & 0.8392725 & 1.57955 & 0.2775368 & 1.756926 & 1.053814 & 0.6091993 & m1.1\\\\\n",
       "\t10-L11 & 10-L11 & 0.9412188 & 0.8205378 & 1.182750 & 0.9206895 & 0.7610354 & 1.479767 & 0.7213612 & 0.7969667 & 0.8442397 & ⋯ & 0.9897038 & 0.4184606 & 1.0203473 & 1.3312251 & 1.57955 & 0.8628635 & 1.331225 & 1.560533 & 0.7464948 & k10 \\\\\n",
       "\\end{tabular}\n"
      ],
      "text/markdown": [
       "\n",
       "A data.frame: 2 × 7696\n",
       "\n",
       "| <!--/--> | samples &lt;chr&gt; | B.cell__PARK7 &lt;dbl&gt; | B.cell__ENO1 &lt;dbl&gt; | B.cell__PRDM2 &lt;dbl&gt; | B.cell__CAPZB &lt;dbl&gt; | B.cell__HP1BP3 &lt;dbl&gt; | B.cell__CDC42 &lt;dbl&gt; | B.cell__HNRNPR &lt;dbl&gt; | B.cell__PNRC2 &lt;dbl&gt; | B.cell__SRSF10 &lt;dbl&gt; | ⋯ ⋯ | CD4.CTL__SNU13 &lt;dbl&gt; | CD4.CTL__SMDT1 &lt;dbl&gt; | CD4.CTL__TSPO &lt;dbl&gt; | CD4.CTL__SOD1 &lt;dbl&gt; | CD4.CTL__SON &lt;dbl&gt; | CD4.CTL__TTC3 &lt;dbl&gt; | CD4.CTL__HMGN1 &lt;dbl&gt; | CD4.CTL__ITGB2 &lt;dbl&gt; | CD4.CTL__PRMT2 &lt;dbl&gt; | sample_id &lt;chr&gt; |\n",
       "|---|---|---|---|---|---|---|---|---|---|---|---|---|---|---|---|---|---|---|---|---|---|\n",
       "| 1.1-L1 | 1.1-L1 | 0.7517455 | 0.4938072 | 1.332314 | 0.6630314 | 0.7887402 | 1.698647 | 0.7887402 | 0.8199788 | 0.9933239 | ⋯ | 0.8392725 | 1.2053873 | 0.6091993 | 0.8392725 | 1.57955 | 0.2775368 | 1.756926 | 1.053814 | 0.6091993 | m1.1 |\n",
       "| 10-L11 | 10-L11 | 0.9412188 | 0.8205378 | 1.182750 | 0.9206895 | 0.7610354 | 1.479767 | 0.7213612 | 0.7969667 | 0.8442397 | ⋯ | 0.9897038 | 0.4184606 | 1.0203473 | 1.3312251 | 1.57955 | 0.8628635 | 1.331225 | 1.560533 | 0.7464948 | k10  |\n",
       "\n"
      ],
      "text/plain": [
       "       samples B.cell__PARK7 B.cell__ENO1 B.cell__PRDM2 B.cell__CAPZB\n",
       "1.1-L1 1.1-L1  0.7517455     0.4938072    1.332314      0.6630314    \n",
       "10-L11 10-L11  0.9412188     0.8205378    1.182750      0.9206895    \n",
       "       B.cell__HP1BP3 B.cell__CDC42 B.cell__HNRNPR B.cell__PNRC2 B.cell__SRSF10\n",
       "1.1-L1 0.7887402      1.698647      0.7887402      0.8199788     0.9933239     \n",
       "10-L11 0.7610354      1.479767      0.7213612      0.7969667     0.8442397     \n",
       "       ⋯ CD4.CTL__SNU13 CD4.CTL__SMDT1 CD4.CTL__TSPO CD4.CTL__SOD1 CD4.CTL__SON\n",
       "1.1-L1 ⋯ 0.8392725      1.2053873      0.6091993     0.8392725     1.57955     \n",
       "10-L11 ⋯ 0.9897038      0.4184606      1.0203473     1.3312251     1.57955     \n",
       "       CD4.CTL__TTC3 CD4.CTL__HMGN1 CD4.CTL__ITGB2 CD4.CTL__PRMT2 sample_id\n",
       "1.1-L1 0.2775368     1.756926       1.053814       0.6091993      m1.1     \n",
       "10-L11 0.8628635     1.331225       1.560533       0.7464948      k10      "
      ]
     },
     "metadata": {},
     "output_type": "display_data"
    }
   ],
   "source": [
    "head(final_data,2)"
   ]
  },
  {
   "cell_type": "code",
   "execution_count": null,
   "id": "da49d413-7996-4210-9dfc-82f425f9855e",
   "metadata": {},
   "outputs": [],
   "source": []
  },
  {
   "cell_type": "code",
   "execution_count": null,
   "id": "c175ba93-bc27-4426-9e25-99b40ec7392f",
   "metadata": {},
   "outputs": [],
   "source": []
  },
  {
   "cell_type": "code",
   "execution_count": 564,
   "id": "17e6cb1f-2c95-439e-aa9f-19f3395ab831",
   "metadata": {},
   "outputs": [],
   "source": [
    "## Genes with high variance"
   ]
  },
  {
   "cell_type": "code",
   "execution_count": 565,
   "id": "2182e27f-4c74-4e3a-bf6c-c64449cbd5ca",
   "metadata": {},
   "outputs": [
    {
     "data": {
      "text/html": [
       "<table class=\"dataframe\">\n",
       "<caption>A data.frame: 2 × 7696</caption>\n",
       "<thead>\n",
       "\t<tr><th></th><th scope=col>samples</th><th scope=col>B.cell__PARK7</th><th scope=col>B.cell__ENO1</th><th scope=col>B.cell__PRDM2</th><th scope=col>B.cell__CAPZB</th><th scope=col>B.cell__HP1BP3</th><th scope=col>B.cell__CDC42</th><th scope=col>B.cell__HNRNPR</th><th scope=col>B.cell__PNRC2</th><th scope=col>B.cell__SRSF10</th><th scope=col>⋯</th><th scope=col>CD4.CTL__SNU13</th><th scope=col>CD4.CTL__SMDT1</th><th scope=col>CD4.CTL__TSPO</th><th scope=col>CD4.CTL__SOD1</th><th scope=col>CD4.CTL__SON</th><th scope=col>CD4.CTL__TTC3</th><th scope=col>CD4.CTL__HMGN1</th><th scope=col>CD4.CTL__ITGB2</th><th scope=col>CD4.CTL__PRMT2</th><th scope=col>sample_id</th></tr>\n",
       "\t<tr><th></th><th scope=col>&lt;chr&gt;</th><th scope=col>&lt;dbl&gt;</th><th scope=col>&lt;dbl&gt;</th><th scope=col>&lt;dbl&gt;</th><th scope=col>&lt;dbl&gt;</th><th scope=col>&lt;dbl&gt;</th><th scope=col>&lt;dbl&gt;</th><th scope=col>&lt;dbl&gt;</th><th scope=col>&lt;dbl&gt;</th><th scope=col>&lt;dbl&gt;</th><th scope=col>⋯</th><th scope=col>&lt;dbl&gt;</th><th scope=col>&lt;dbl&gt;</th><th scope=col>&lt;dbl&gt;</th><th scope=col>&lt;dbl&gt;</th><th scope=col>&lt;dbl&gt;</th><th scope=col>&lt;dbl&gt;</th><th scope=col>&lt;dbl&gt;</th><th scope=col>&lt;dbl&gt;</th><th scope=col>&lt;dbl&gt;</th><th scope=col>&lt;chr&gt;</th></tr>\n",
       "</thead>\n",
       "<tbody>\n",
       "\t<tr><th scope=row>1.1-L1</th><td>1.1-L1</td><td>0.7517455</td><td>0.4938072</td><td>1.332314</td><td>0.6630314</td><td>0.7887402</td><td>1.698647</td><td>0.7887402</td><td>0.8199788</td><td>0.9933239</td><td>⋯</td><td>0.8392725</td><td>1.2053873</td><td>0.6091993</td><td>0.8392725</td><td>1.57955</td><td>0.2775368</td><td>1.756926</td><td>1.053814</td><td>0.6091993</td><td>m1.1</td></tr>\n",
       "\t<tr><th scope=row>10-L11</th><td>10-L11</td><td>0.9412188</td><td>0.8205378</td><td>1.182750</td><td>0.9206895</td><td>0.7610354</td><td>1.479767</td><td>0.7213612</td><td>0.7969667</td><td>0.8442397</td><td>⋯</td><td>0.9897038</td><td>0.4184606</td><td>1.0203473</td><td>1.3312251</td><td>1.57955</td><td>0.8628635</td><td>1.331225</td><td>1.560533</td><td>0.7464948</td><td>k10 </td></tr>\n",
       "</tbody>\n",
       "</table>\n"
      ],
      "text/latex": [
       "A data.frame: 2 × 7696\n",
       "\\begin{tabular}{r|lllllllllllllllllllll}\n",
       "  & samples & B.cell\\_\\_PARK7 & B.cell\\_\\_ENO1 & B.cell\\_\\_PRDM2 & B.cell\\_\\_CAPZB & B.cell\\_\\_HP1BP3 & B.cell\\_\\_CDC42 & B.cell\\_\\_HNRNPR & B.cell\\_\\_PNRC2 & B.cell\\_\\_SRSF10 & ⋯ & CD4.CTL\\_\\_SNU13 & CD4.CTL\\_\\_SMDT1 & CD4.CTL\\_\\_TSPO & CD4.CTL\\_\\_SOD1 & CD4.CTL\\_\\_SON & CD4.CTL\\_\\_TTC3 & CD4.CTL\\_\\_HMGN1 & CD4.CTL\\_\\_ITGB2 & CD4.CTL\\_\\_PRMT2 & sample\\_id\\\\\n",
       "  & <chr> & <dbl> & <dbl> & <dbl> & <dbl> & <dbl> & <dbl> & <dbl> & <dbl> & <dbl> & ⋯ & <dbl> & <dbl> & <dbl> & <dbl> & <dbl> & <dbl> & <dbl> & <dbl> & <dbl> & <chr>\\\\\n",
       "\\hline\n",
       "\t1.1-L1 & 1.1-L1 & 0.7517455 & 0.4938072 & 1.332314 & 0.6630314 & 0.7887402 & 1.698647 & 0.7887402 & 0.8199788 & 0.9933239 & ⋯ & 0.8392725 & 1.2053873 & 0.6091993 & 0.8392725 & 1.57955 & 0.2775368 & 1.756926 & 1.053814 & 0.6091993 & m1.1\\\\\n",
       "\t10-L11 & 10-L11 & 0.9412188 & 0.8205378 & 1.182750 & 0.9206895 & 0.7610354 & 1.479767 & 0.7213612 & 0.7969667 & 0.8442397 & ⋯ & 0.9897038 & 0.4184606 & 1.0203473 & 1.3312251 & 1.57955 & 0.8628635 & 1.331225 & 1.560533 & 0.7464948 & k10 \\\\\n",
       "\\end{tabular}\n"
      ],
      "text/markdown": [
       "\n",
       "A data.frame: 2 × 7696\n",
       "\n",
       "| <!--/--> | samples &lt;chr&gt; | B.cell__PARK7 &lt;dbl&gt; | B.cell__ENO1 &lt;dbl&gt; | B.cell__PRDM2 &lt;dbl&gt; | B.cell__CAPZB &lt;dbl&gt; | B.cell__HP1BP3 &lt;dbl&gt; | B.cell__CDC42 &lt;dbl&gt; | B.cell__HNRNPR &lt;dbl&gt; | B.cell__PNRC2 &lt;dbl&gt; | B.cell__SRSF10 &lt;dbl&gt; | ⋯ ⋯ | CD4.CTL__SNU13 &lt;dbl&gt; | CD4.CTL__SMDT1 &lt;dbl&gt; | CD4.CTL__TSPO &lt;dbl&gt; | CD4.CTL__SOD1 &lt;dbl&gt; | CD4.CTL__SON &lt;dbl&gt; | CD4.CTL__TTC3 &lt;dbl&gt; | CD4.CTL__HMGN1 &lt;dbl&gt; | CD4.CTL__ITGB2 &lt;dbl&gt; | CD4.CTL__PRMT2 &lt;dbl&gt; | sample_id &lt;chr&gt; |\n",
       "|---|---|---|---|---|---|---|---|---|---|---|---|---|---|---|---|---|---|---|---|---|---|\n",
       "| 1.1-L1 | 1.1-L1 | 0.7517455 | 0.4938072 | 1.332314 | 0.6630314 | 0.7887402 | 1.698647 | 0.7887402 | 0.8199788 | 0.9933239 | ⋯ | 0.8392725 | 1.2053873 | 0.6091993 | 0.8392725 | 1.57955 | 0.2775368 | 1.756926 | 1.053814 | 0.6091993 | m1.1 |\n",
       "| 10-L11 | 10-L11 | 0.9412188 | 0.8205378 | 1.182750 | 0.9206895 | 0.7610354 | 1.479767 | 0.7213612 | 0.7969667 | 0.8442397 | ⋯ | 0.9897038 | 0.4184606 | 1.0203473 | 1.3312251 | 1.57955 | 0.8628635 | 1.331225 | 1.560533 | 0.7464948 | k10  |\n",
       "\n"
      ],
      "text/plain": [
       "       samples B.cell__PARK7 B.cell__ENO1 B.cell__PRDM2 B.cell__CAPZB\n",
       "1.1-L1 1.1-L1  0.7517455     0.4938072    1.332314      0.6630314    \n",
       "10-L11 10-L11  0.9412188     0.8205378    1.182750      0.9206895    \n",
       "       B.cell__HP1BP3 B.cell__CDC42 B.cell__HNRNPR B.cell__PNRC2 B.cell__SRSF10\n",
       "1.1-L1 0.7887402      1.698647      0.7887402      0.8199788     0.9933239     \n",
       "10-L11 0.7610354      1.479767      0.7213612      0.7969667     0.8442397     \n",
       "       ⋯ CD4.CTL__SNU13 CD4.CTL__SMDT1 CD4.CTL__TSPO CD4.CTL__SOD1 CD4.CTL__SON\n",
       "1.1-L1 ⋯ 0.8392725      1.2053873      0.6091993     0.8392725     1.57955     \n",
       "10-L11 ⋯ 0.9897038      0.4184606      1.0203473     1.3312251     1.57955     \n",
       "       CD4.CTL__TTC3 CD4.CTL__HMGN1 CD4.CTL__ITGB2 CD4.CTL__PRMT2 sample_id\n",
       "1.1-L1 0.2775368     1.756926       1.053814       0.6091993      m1.1     \n",
       "10-L11 0.8628635     1.331225       1.560533       0.7464948      k10      "
      ]
     },
     "metadata": {},
     "output_type": "display_data"
    }
   ],
   "source": [
    "head(final_data,2)"
   ]
  },
  {
   "cell_type": "code",
   "execution_count": 566,
   "id": "631bdd4d-8536-46e0-8afa-0fd125b6cb0c",
   "metadata": {},
   "outputs": [],
   "source": [
    "final_data$samples = NULL"
   ]
  },
  {
   "cell_type": "code",
   "execution_count": 567,
   "id": "981f0097-0508-45d6-aa9c-5325e970020a",
   "metadata": {},
   "outputs": [],
   "source": [
    "final_data$sample_id = NULL"
   ]
  },
  {
   "cell_type": "code",
   "execution_count": 568,
   "id": "50b86f08-c4e6-4719-b4d7-50048f60afca",
   "metadata": {},
   "outputs": [],
   "source": [
    "gene_variance = apply(final_data, 2, function(x) {var( x,na.rm = TRUE)})"
   ]
  },
  {
   "cell_type": "code",
   "execution_count": 569,
   "id": "36bd8cd9-a1b7-4079-b8f9-97c8cd5c1bb2",
   "metadata": {},
   "outputs": [
    {
     "data": {
      "text/html": [
       "<style>\n",
       ".dl-inline {width: auto; margin:0; padding: 0}\n",
       ".dl-inline>dt, .dl-inline>dd {float: none; width: auto; display: inline-block}\n",
       ".dl-inline>dt::after {content: \":\\0020\"; padding-right: .5ex}\n",
       ".dl-inline>dt:not(:first-of-type) {padding-left: .5ex}\n",
       "</style><dl class=dl-inline><dt>B.cell__PARK7</dt><dd>0.023060290133922</dd><dt>B.cell__ENO1</dt><dd>0.0210210472988082</dd><dt>B.cell__PRDM2</dt><dd>0.0386945931751622</dd><dt>B.cell__CAPZB</dt><dd>0.0271884108648607</dd><dt>B.cell__HP1BP3</dt><dd>0.0266350021729322</dd><dt>B.cell__CDC42</dt><dd>0.0406208886286141</dd></dl>\n"
      ],
      "text/latex": [
       "\\begin{description*}\n",
       "\\item[B.cell\\textbackslash{}\\_\\textbackslash{}\\_PARK7] 0.023060290133922\n",
       "\\item[B.cell\\textbackslash{}\\_\\textbackslash{}\\_ENO1] 0.0210210472988082\n",
       "\\item[B.cell\\textbackslash{}\\_\\textbackslash{}\\_PRDM2] 0.0386945931751622\n",
       "\\item[B.cell\\textbackslash{}\\_\\textbackslash{}\\_CAPZB] 0.0271884108648607\n",
       "\\item[B.cell\\textbackslash{}\\_\\textbackslash{}\\_HP1BP3] 0.0266350021729322\n",
       "\\item[B.cell\\textbackslash{}\\_\\textbackslash{}\\_CDC42] 0.0406208886286141\n",
       "\\end{description*}\n"
      ],
      "text/markdown": [
       "B.cell__PARK7\n",
       ":   0.023060290133922B.cell__ENO1\n",
       ":   0.0210210472988082B.cell__PRDM2\n",
       ":   0.0386945931751622B.cell__CAPZB\n",
       ":   0.0271884108648607B.cell__HP1BP3\n",
       ":   0.0266350021729322B.cell__CDC42\n",
       ":   0.0406208886286141\n",
       "\n"
      ],
      "text/plain": [
       " B.cell__PARK7   B.cell__ENO1  B.cell__PRDM2  B.cell__CAPZB B.cell__HP1BP3 \n",
       "    0.02306029     0.02102105     0.03869459     0.02718841     0.02663500 \n",
       " B.cell__CDC42 \n",
       "    0.04062089 "
      ]
     },
     "metadata": {},
     "output_type": "display_data"
    }
   ],
   "source": [
    "head(gene_variance)"
   ]
  },
  {
   "cell_type": "code",
   "execution_count": 585,
   "id": "d9de6410-530c-4d9b-8a4d-52d88600b716",
   "metadata": {},
   "outputs": [
    {
     "data": {
      "text/html": [
       "7694"
      ],
      "text/latex": [
       "7694"
      ],
      "text/markdown": [
       "7694"
      ],
      "text/plain": [
       "[1] 7694"
      ]
     },
     "metadata": {},
     "output_type": "display_data"
    }
   ],
   "source": [
    "ncol(final_data)"
   ]
  },
  {
   "cell_type": "code",
   "execution_count": 586,
   "id": "cb95742b-b2b0-4543-af77-2bafb84d71fd",
   "metadata": {},
   "outputs": [],
   "source": [
    "final_data$samples = rownames(final_data)"
   ]
  },
  {
   "cell_type": "code",
   "execution_count": 587,
   "id": "77084f25-d89d-4894-8a60-868c5bb2df5e",
   "metadata": {},
   "outputs": [],
   "source": [
    "final_data = merge(final_data, sample_data[,c('sample_id', 'sample_merge')], by.x = 'samples', by.y = 'sample_merge')"
   ]
  },
  {
   "cell_type": "code",
   "execution_count": null,
   "id": "719ca661-328f-47ec-bb03-c40541fa155c",
   "metadata": {},
   "outputs": [],
   "source": []
  },
  {
   "cell_type": "code",
   "execution_count": null,
   "id": "8cb6fb64-3873-4b36-9016-a905d92c2856",
   "metadata": {},
   "outputs": [],
   "source": []
  },
  {
   "cell_type": "markdown",
   "id": "487d00c5-5986-4ebe-aefa-203ef6d2b39d",
   "metadata": {
    "tags": []
   },
   "source": [
    "#### Prepare long format"
   ]
  },
  {
   "cell_type": "code",
   "execution_count": 588,
   "id": "eb6228f2-8a4c-4646-a044-8ae3f3b30839",
   "metadata": {},
   "outputs": [
    {
     "name": "stderr",
     "output_type": "stream",
     "text": [
      "Using samples, sample_id as id variables\n",
      "\n"
     ]
    }
   ],
   "source": [
    "final_data_long = melt(final_data)"
   ]
  },
  {
   "cell_type": "code",
   "execution_count": 589,
   "id": "279acdcf-11bb-4929-91a3-299d172c956e",
   "metadata": {},
   "outputs": [],
   "source": [
    "### Decide what to do with duplicates"
   ]
  },
  {
   "cell_type": "code",
   "execution_count": 590,
   "id": "82d4226d-8acb-40fb-84c1-16a4f8dbdc13",
   "metadata": {},
   "outputs": [
    {
     "data": {
      "text/html": [
       "<table class=\"dataframe\">\n",
       "<caption>A data.frame: 2 × 4</caption>\n",
       "<thead>\n",
       "\t<tr><th></th><th scope=col>samples</th><th scope=col>sample_id</th><th scope=col>variable</th><th scope=col>value</th></tr>\n",
       "\t<tr><th></th><th scope=col>&lt;chr&gt;</th><th scope=col>&lt;chr&gt;</th><th scope=col>&lt;fct&gt;</th><th scope=col>&lt;dbl&gt;</th></tr>\n",
       "</thead>\n",
       "<tbody>\n",
       "\t<tr><th scope=row>1</th><td>1.1-L1</td><td>m1.1</td><td>B.cell__PARK7</td><td>0.7517455</td></tr>\n",
       "\t<tr><th scope=row>2</th><td>10-L11</td><td>k10 </td><td>B.cell__PARK7</td><td>0.9412188</td></tr>\n",
       "</tbody>\n",
       "</table>\n"
      ],
      "text/latex": [
       "A data.frame: 2 × 4\n",
       "\\begin{tabular}{r|llll}\n",
       "  & samples & sample\\_id & variable & value\\\\\n",
       "  & <chr> & <chr> & <fct> & <dbl>\\\\\n",
       "\\hline\n",
       "\t1 & 1.1-L1 & m1.1 & B.cell\\_\\_PARK7 & 0.7517455\\\\\n",
       "\t2 & 10-L11 & k10  & B.cell\\_\\_PARK7 & 0.9412188\\\\\n",
       "\\end{tabular}\n"
      ],
      "text/markdown": [
       "\n",
       "A data.frame: 2 × 4\n",
       "\n",
       "| <!--/--> | samples &lt;chr&gt; | sample_id &lt;chr&gt; | variable &lt;fct&gt; | value &lt;dbl&gt; |\n",
       "|---|---|---|---|---|\n",
       "| 1 | 1.1-L1 | m1.1 | B.cell__PARK7 | 0.7517455 |\n",
       "| 2 | 10-L11 | k10  | B.cell__PARK7 | 0.9412188 |\n",
       "\n"
      ],
      "text/plain": [
       "  samples sample_id variable      value    \n",
       "1 1.1-L1  m1.1      B.cell__PARK7 0.7517455\n",
       "2 10-L11  k10       B.cell__PARK7 0.9412188"
      ]
     },
     "metadata": {},
     "output_type": "display_data"
    }
   ],
   "source": [
    "head(final_data_long,2)"
   ]
  },
  {
   "cell_type": "code",
   "execution_count": 652,
   "id": "fe10bcc7-da9f-450a-8dc8-dae6782b30fe",
   "metadata": {},
   "outputs": [
    {
     "data": {
      "text/html": [
       "FALSE"
      ],
      "text/latex": [
       "FALSE"
      ],
      "text/markdown": [
       "FALSE"
      ],
      "text/plain": [
       "[1] FALSE"
      ]
     },
     "metadata": {},
     "output_type": "display_data"
    }
   ],
   "source": [
    "add_duplicates"
   ]
  },
  {
   "cell_type": "code",
   "execution_count": 591,
   "id": "3065ac6d-31d5-4d4a-bafd-f7f4bf4541bd",
   "metadata": {},
   "outputs": [],
   "source": [
    "if(add_duplicates == TRUE){\n",
    "    final_data_long$sample_id[final_data_long$samples == '13.2-L6']  = 'm13.22'      #13.2-L5, 13.2-L6\t, 6.4-L10, 6.4-L14\t\n",
    "    final_data_long$sample_id[final_data_long$samples == '6.4-L14']  = 'm6.42'\n",
    "    }\n"
   ]
  },
  {
   "cell_type": "code",
   "execution_count": 592,
   "id": "219c03bd-7bcf-415b-9982-25876f1de2e1",
   "metadata": {},
   "outputs": [],
   "source": [
    "final_data_long$samples = NULL"
   ]
  },
  {
   "cell_type": "code",
   "execution_count": 593,
   "id": "74f9facf-b53f-45b0-9912-857e609c649c",
   "metadata": {},
   "outputs": [],
   "source": [
    "final_data_long$type = 'single_cell'"
   ]
  },
  {
   "cell_type": "code",
   "execution_count": 594,
   "id": "8218b0e2-79fc-4b3b-973e-6af51b949dc9",
   "metadata": {},
   "outputs": [
    {
     "name": "stderr",
     "output_type": "stream",
     "text": [
      "\u001b[1m\u001b[22m`summarise()` has grouped output by 'sample_id', 'type'. You can override using\n",
      "the `.groups` argument.\n"
     ]
    }
   ],
   "source": [
    "final_data_long = final_data_long %>% group_by(sample_id, type, variable) %>% summarise(value = mean(value))  # take average for samples measured twice"
   ]
  },
  {
   "cell_type": "code",
   "execution_count": 596,
   "id": "32d677be-2ff8-4e80-8195-c0b653f1bac0",
   "metadata": {},
   "outputs": [
    {
     "data": {
      "text/html": [
       "7694"
      ],
      "text/latex": [
       "7694"
      ],
      "text/markdown": [
       "7694"
      ],
      "text/plain": [
       "[1] 7694"
      ]
     },
     "metadata": {},
     "output_type": "display_data"
    }
   ],
   "source": [
    "length(unique(final_data_long$variable))"
   ]
  },
  {
   "cell_type": "markdown",
   "id": "75ecfc6e-72a8-4e0d-8983-6531e7a81790",
   "metadata": {
    "tags": []
   },
   "source": [
    "# Integration of all data sources (V1 with gene-gene correletations)"
   ]
  },
  {
   "cell_type": "markdown",
   "id": "e22eb158-71ef-4639-be25-9670a86e8b65",
   "metadata": {},
   "source": [
    "## Combine all data sources"
   ]
  },
  {
   "cell_type": "code",
   "execution_count": 613,
   "id": "c9330e0d-94c7-40e4-b245-4a441bb325d1",
   "metadata": {},
   "outputs": [],
   "source": [
    "data_long = rbind(final_data_long, cytokines_long,proteomics_long, neutrophils_long, clinical_data_long )\n",
    "#data_long = rbind(final_data_long, cytokines_long,proteomics_long, neutrophils_long ) # vesion without clinical data"
   ]
  },
  {
   "cell_type": "code",
   "execution_count": 614,
   "id": "4704f9a4-89aa-48fc-be75-94aeea639f68",
   "metadata": {},
   "outputs": [
    {
     "data": {
      "text/html": [
       "7694"
      ],
      "text/latex": [
       "7694"
      ],
      "text/markdown": [
       "7694"
      ],
      "text/plain": [
       "[1] 7694"
      ]
     },
     "metadata": {},
     "output_type": "display_data"
    }
   ],
   "source": [
    "length(unique(final_data_long$variable))"
   ]
  },
  {
   "cell_type": "code",
   "execution_count": 615,
   "id": "cfde29df-575a-495b-82fe-b4b978b939ba",
   "metadata": {},
   "outputs": [
    {
     "data": {
      "text/html": [
       "<table class=\"dataframe\">\n",
       "<caption>A grouped_df: 2 × 4</caption>\n",
       "<thead>\n",
       "\t<tr><th scope=col>sample_id</th><th scope=col>type</th><th scope=col>variable</th><th scope=col>value</th></tr>\n",
       "\t<tr><th scope=col>&lt;chr&gt;</th><th scope=col>&lt;chr&gt;</th><th scope=col>&lt;chr&gt;</th><th scope=col>&lt;dbl&gt;</th></tr>\n",
       "</thead>\n",
       "<tbody>\n",
       "\t<tr><td>k10</td><td>single_cell</td><td>B.cell__PARK7</td><td>0.9412188</td></tr>\n",
       "\t<tr><td>k10</td><td>single_cell</td><td>B.cell__ENO1 </td><td>0.8205378</td></tr>\n",
       "</tbody>\n",
       "</table>\n"
      ],
      "text/latex": [
       "A grouped\\_df: 2 × 4\n",
       "\\begin{tabular}{llll}\n",
       " sample\\_id & type & variable & value\\\\\n",
       " <chr> & <chr> & <chr> & <dbl>\\\\\n",
       "\\hline\n",
       "\t k10 & single\\_cell & B.cell\\_\\_PARK7 & 0.9412188\\\\\n",
       "\t k10 & single\\_cell & B.cell\\_\\_ENO1  & 0.8205378\\\\\n",
       "\\end{tabular}\n"
      ],
      "text/markdown": [
       "\n",
       "A grouped_df: 2 × 4\n",
       "\n",
       "| sample_id &lt;chr&gt; | type &lt;chr&gt; | variable &lt;chr&gt; | value &lt;dbl&gt; |\n",
       "|---|---|---|---|\n",
       "| k10 | single_cell | B.cell__PARK7 | 0.9412188 |\n",
       "| k10 | single_cell | B.cell__ENO1  | 0.8205378 |\n",
       "\n"
      ],
      "text/plain": [
       "  sample_id type        variable      value    \n",
       "1 k10       single_cell B.cell__PARK7 0.9412188\n",
       "2 k10       single_cell B.cell__ENO1  0.8205378"
      ]
     },
     "metadata": {},
     "output_type": "display_data"
    }
   ],
   "source": [
    "head(data_long,2)"
   ]
  },
  {
   "cell_type": "code",
   "execution_count": 616,
   "id": "d0f50eb3-14e4-4259-8f63-52a6d8f2bc11",
   "metadata": {},
   "outputs": [
    {
     "data": {
      "text/html": [
       "9152"
      ],
      "text/latex": [
       "9152"
      ],
      "text/markdown": [
       "9152"
      ],
      "text/plain": [
       "[1] 9152"
      ]
     },
     "metadata": {},
     "output_type": "display_data"
    }
   ],
   "source": [
    "length(unique(data_long$variable))"
   ]
  },
  {
   "cell_type": "code",
   "execution_count": 617,
   "id": "33bbd23b-f311-49e1-9813-0b0db6f5ba34",
   "metadata": {},
   "outputs": [
    {
     "data": {
      "text/html": [
       "<style>\n",
       ".list-inline {list-style: none; margin:0; padding: 0}\n",
       ".list-inline>li {display: inline-block}\n",
       ".list-inline>li:not(:last-child)::after {content: \"\\00b7\"; padding: 0 .5ex}\n",
       "</style>\n",
       "<ol class=list-inline><li>'single_cell'</li><li>'cytokine'</li><li>'proteomics'</li><li>'neutrophil'</li><li>'clinical_data'</li></ol>\n"
      ],
      "text/latex": [
       "\\begin{enumerate*}\n",
       "\\item 'single\\_cell'\n",
       "\\item 'cytokine'\n",
       "\\item 'proteomics'\n",
       "\\item 'neutrophil'\n",
       "\\item 'clinical\\_data'\n",
       "\\end{enumerate*}\n"
      ],
      "text/markdown": [
       "1. 'single_cell'\n",
       "2. 'cytokine'\n",
       "3. 'proteomics'\n",
       "4. 'neutrophil'\n",
       "5. 'clinical_data'\n",
       "\n",
       "\n"
      ],
      "text/plain": [
       "[1] \"single_cell\"   \"cytokine\"      \"proteomics\"    \"neutrophil\"   \n",
       "[5] \"clinical_data\""
      ]
     },
     "metadata": {},
     "output_type": "display_data"
    }
   ],
   "source": [
    "unique(data_long$type)"
   ]
  },
  {
   "cell_type": "code",
   "execution_count": 618,
   "id": "1bd0b705-4d32-4a17-9675-3ebde533d699",
   "metadata": {},
   "outputs": [],
   "source": [
    "data_long$config = paste0(quantile_normalization_cyto, '-', quantile_normalization_proteomics, '-', quantile_normalization_neutrophils, '-', neutrophil_threshold, '-', regress_neutrophils, '-', library_adjustment_neutrophils, '-')"
   ]
  },
  {
   "cell_type": "code",
   "execution_count": 619,
   "id": "8795c848-4dba-4f2c-ae65-84af0491c5ba",
   "metadata": {},
   "outputs": [
    {
     "name": "stdout",
     "output_type": "stream",
     "text": [
      "[1] \"../results/current/G-Analysis/Combined_Data_V_AZIMUTH.csv\"\n"
     ]
    }
   ],
   "source": [
    "print(paste0(result_path, '/G-Analysis/Combined_Data_', name, '.csv'))"
   ]
  },
  {
   "cell_type": "code",
   "execution_count": 620,
   "id": "8be00546-bd9e-4f4a-b588-e52e47a298c7",
   "metadata": {},
   "outputs": [],
   "source": [
    "write.csv(data_long, paste0(result_path, '/G-Analysis/Combined_Data_', name, '.csv'))"
   ]
  },
  {
   "cell_type": "code",
   "execution_count": 621,
   "id": "711a2222-ad09-4c40-8fc8-396fe867d441",
   "metadata": {},
   "outputs": [
    {
     "data": {
      "text/html": [
       "'V_AZIMUTH'"
      ],
      "text/latex": [
       "'V\\_AZIMUTH'"
      ],
      "text/markdown": [
       "'V_AZIMUTH'"
      ],
      "text/plain": [
       "[1] \"V_AZIMUTH\""
      ]
     },
     "metadata": {},
     "output_type": "display_data"
    }
   ],
   "source": [
    "name"
   ]
  },
  {
   "cell_type": "code",
   "execution_count": null,
   "id": "7ccb4d2b-a0dd-4dc3-a108-972dba8809ce",
   "metadata": {},
   "outputs": [],
   "source": []
  }
 ],
 "metadata": {
  "kernelspec": {
   "display_name": "R",
   "language": "R",
   "name": "ir"
  },
  "language_info": {
   "codemirror_mode": "r",
   "file_extension": ".r",
   "mimetype": "text/x-r-source",
   "name": "R",
   "pygments_lexer": "r",
   "version": "4.1.1"
  },
  "toc-autonumbering": true
 },
 "nbformat": 4,
 "nbformat_minor": 5
}

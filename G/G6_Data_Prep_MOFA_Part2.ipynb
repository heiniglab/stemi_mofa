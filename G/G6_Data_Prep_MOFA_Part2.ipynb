{
 "cells": [
  {
   "cell_type": "code",
   "execution_count": 35,
   "id": "1d600cf9-1e51-464d-a1a8-70a533a4d10f",
   "metadata": {},
   "outputs": [],
   "source": [
    "### Normalized integrated data from G5 across all omics"
   ]
  },
  {
   "cell_type": "markdown",
   "id": "9884b8d7-1601-4893-ba06-70b0c412080a",
   "metadata": {
    "tags": []
   },
   "source": [
    "#############################################\n",
    "# Prerequisites - Load Libraries"
   ]
  },
  {
   "cell_type": "code",
   "execution_count": 36,
   "id": "54a82b83-e227-4303-a5ef-10d7c1f725d6",
   "metadata": {
    "tags": []
   },
   "outputs": [
    {
     "name": "stderr",
     "output_type": "stream",
     "text": [
      "Warning message in read.table(file = file, header = header, sep = sep, quote = quote, :\n",
      "“incomplete final line found by readTableHeader on '../conda_environment/Environment_Configs.csv'”\n"
     ]
    },
    {
     "name": "stdout",
     "output_type": "stream",
     "text": [
      "[1] \"/home/icb/corinna.losert/miniconda3/envs/stark_stemi_R_Env_4_1//lib/R/library\"\n"
     ]
    }
   ],
   "source": [
    "source('MS0_Libraries.r')"
   ]
  },
  {
   "cell_type": "code",
   "execution_count": 37,
   "id": "6775b03a-1e94-4cae-91ba-3dea463b3641",
   "metadata": {
    "tags": []
   },
   "outputs": [],
   "source": [
    "source('MS4_Plot_Config.r')"
   ]
  },
  {
   "cell_type": "markdown",
   "id": "8b914742-58da-4573-a641-14cef2bebc2b",
   "metadata": {
    "tags": []
   },
   "source": [
    "###############################################\n",
    "# Preqrequisites Configurations & Parameters"
   ]
  },
  {
   "cell_type": "code",
   "execution_count": 38,
   "id": "b29af9b4-c60c-4ae4-85eb-506326a8878e",
   "metadata": {},
   "outputs": [],
   "source": [
    "data_path = '../data/current'"
   ]
  },
  {
   "cell_type": "code",
   "execution_count": 39,
   "id": "b3137b38-2d5a-4291-b6d4-cb8dae22da33",
   "metadata": {},
   "outputs": [],
   "source": [
    "result_path = '../results/current'"
   ]
  },
  {
   "cell_type": "code",
   "execution_count": 40,
   "id": "4cd4f1f1-f681-4cd6-bb8c-1fa99280fa4d",
   "metadata": {},
   "outputs": [
    {
     "data": {
      "text/html": [
       "'../data/current'"
      ],
      "text/latex": [
       "'../data/current'"
      ],
      "text/markdown": [
       "'../data/current'"
      ],
      "text/plain": [
       "[1] \"../data/current\""
      ]
     },
     "metadata": {},
     "output_type": "display_data"
    }
   ],
   "source": [
    "data_path"
   ]
  },
  {
   "cell_type": "code",
   "execution_count": 41,
   "id": "e8edaec8-c317-4e83-8c79-2f9edfec27a7",
   "metadata": {},
   "outputs": [],
   "source": [
    "## Set parameters about normalization to apply"
   ]
  },
  {
   "cell_type": "code",
   "execution_count": 42,
   "id": "dff5c094-5630-473b-a56f-ea9d432669eb",
   "metadata": {},
   "outputs": [],
   "source": [
    "standardize = FALSE"
   ]
  },
  {
   "cell_type": "code",
   "execution_count": 43,
   "id": "766f25c6-5a84-462b-a8b3-3ea4149f8f91",
   "metadata": {},
   "outputs": [],
   "source": [
    "set_zero_na = FALSE"
   ]
  },
  {
   "cell_type": "code",
   "execution_count": 44,
   "id": "79523006-7835-4df1-a0e1-eda1de71f7a4",
   "metadata": {},
   "outputs": [],
   "source": [
    "quantile_norm_feat = TRUE"
   ]
  },
  {
   "cell_type": "code",
   "execution_count": 45,
   "id": "cc9684b8-d1a6-4515-a29e-84f6c4b17b0c",
   "metadata": {},
   "outputs": [],
   "source": [
    "# Should samples be filtered?\n",
    "\n",
    "#samples_var = 'acs_ccs'\n",
    "# samples_var = 'no_acs'\n",
    "samples_var = 'all'\n",
    "# samples_var = 'acs'"
   ]
  },
  {
   "cell_type": "code",
   "execution_count": 46,
   "id": "4dba3f72-ab97-4647-a92f-5715ffeca444",
   "metadata": {},
   "outputs": [],
   "source": [
    "name = 'V_AZIMUTH'   # name of dataset to load\n",
    "\n",
    "name_save = 'V_AZIMUTH_INTEGRATED' # name of dataset to save\n"
   ]
  },
  {
   "cell_type": "markdown",
   "id": "1f6a5a08-b27e-4f0f-965f-df9aabdbef70",
   "metadata": {
    "tags": []
   },
   "source": [
    "# Functions"
   ]
  },
  {
   "cell_type": "code",
   "execution_count": 47,
   "id": "ad752017-8d59-4470-bb1a-5b4b22003046",
   "metadata": {},
   "outputs": [],
   "source": [
    "### Function for quantile normalization\n",
    "\n",
    "quantile_normalization = function(X){\n",
    "  set.seed(42)\n",
    "  ranks = apply(X, 2, rank, ties.method = 'min')  # determine ranks of each entry\n",
    "  \n",
    "  sorted = data.frame(apply(X, 2, sort)) # sort the entries\n",
    "  means = apply(sorted, 1, mean) # calculate the means\n",
    "  \n",
    "  normalized_data = apply(ranks, 2 ,function(x){ means[x]}) # substitute the means into ranks matrix\n",
    "}\n"
   ]
  },
  {
   "cell_type": "code",
   "execution_count": 48,
   "id": "fd75cdd8-ebe6-4e12-8971-30908ece9791",
   "metadata": {},
   "outputs": [],
   "source": [
    "### Gene wise quantile normalization\n",
    "\n",
    "stdnorm <- function(x) {\n",
    "  set.seed(42)\n",
    "  r = rank(x[!is.na(x)], ties.method=\"average\")\n",
    "  x[!is.na(x)] = qnorm(r / (length(x[!is.na(x)]) + 1))\n",
    "  return(x)\n",
    "}"
   ]
  },
  {
   "cell_type": "markdown",
   "id": "e9cbaa77-8a24-45a5-9f17-1e1b7bfda4f2",
   "metadata": {
    "tags": []
   },
   "source": [
    "# Load Data "
   ]
  },
  {
   "cell_type": "markdown",
   "id": "f7d01627-0458-486a-a589-e00fda364c6f",
   "metadata": {
    "tags": []
   },
   "source": [
    "## Prepared combined data"
   ]
  },
  {
   "cell_type": "code",
   "execution_count": 49,
   "id": "6c6618cb-eb59-4964-bf54-e9fc585d84a4",
   "metadata": {},
   "outputs": [],
   "source": [
    "### Load data from previous step"
   ]
  },
  {
   "cell_type": "code",
   "execution_count": 50,
   "id": "de5040d5-3566-4a06-aa75-8fae398db73b",
   "metadata": {},
   "outputs": [
    {
     "name": "stdout",
     "output_type": "stream",
     "text": [
      "[1] \"2024-01-11 15:21:05 CET\"\n"
     ]
    }
   ],
   "source": [
    "path = paste0(result_path, '/G-Analysis/Combined_Data_',name,'.csv')\n",
    "data_long = read.csv(path)\n",
    "print(file.info(path)$mtime)"
   ]
  },
  {
   "cell_type": "code",
   "execution_count": 51,
   "id": "333ac739-b405-4e1e-99cb-25d31cbe7d78",
   "metadata": {},
   "outputs": [
    {
     "data": {
      "text/html": [
       "<table class=\"dataframe\">\n",
       "<caption>A data.frame: 2 × 6</caption>\n",
       "<thead>\n",
       "\t<tr><th></th><th scope=col>X</th><th scope=col>sample_id</th><th scope=col>type</th><th scope=col>variable</th><th scope=col>value</th><th scope=col>config</th></tr>\n",
       "\t<tr><th></th><th scope=col>&lt;int&gt;</th><th scope=col>&lt;chr&gt;</th><th scope=col>&lt;chr&gt;</th><th scope=col>&lt;chr&gt;</th><th scope=col>&lt;dbl&gt;</th><th scope=col>&lt;chr&gt;</th></tr>\n",
       "</thead>\n",
       "<tbody>\n",
       "\t<tr><th scope=row>1</th><td>1</td><td>k10</td><td>single_cell</td><td>B.cell__PARK7</td><td>0.9412188</td><td>FALSE-FALSE-TRUE-0.2-FALSE-TRUE-</td></tr>\n",
       "\t<tr><th scope=row>2</th><td>2</td><td>k10</td><td>single_cell</td><td>B.cell__ENO1 </td><td>0.8205378</td><td>FALSE-FALSE-TRUE-0.2-FALSE-TRUE-</td></tr>\n",
       "</tbody>\n",
       "</table>\n"
      ],
      "text/latex": [
       "A data.frame: 2 × 6\n",
       "\\begin{tabular}{r|llllll}\n",
       "  & X & sample\\_id & type & variable & value & config\\\\\n",
       "  & <int> & <chr> & <chr> & <chr> & <dbl> & <chr>\\\\\n",
       "\\hline\n",
       "\t1 & 1 & k10 & single\\_cell & B.cell\\_\\_PARK7 & 0.9412188 & FALSE-FALSE-TRUE-0.2-FALSE-TRUE-\\\\\n",
       "\t2 & 2 & k10 & single\\_cell & B.cell\\_\\_ENO1  & 0.8205378 & FALSE-FALSE-TRUE-0.2-FALSE-TRUE-\\\\\n",
       "\\end{tabular}\n"
      ],
      "text/markdown": [
       "\n",
       "A data.frame: 2 × 6\n",
       "\n",
       "| <!--/--> | X &lt;int&gt; | sample_id &lt;chr&gt; | type &lt;chr&gt; | variable &lt;chr&gt; | value &lt;dbl&gt; | config &lt;chr&gt; |\n",
       "|---|---|---|---|---|---|---|\n",
       "| 1 | 1 | k10 | single_cell | B.cell__PARK7 | 0.9412188 | FALSE-FALSE-TRUE-0.2-FALSE-TRUE- |\n",
       "| 2 | 2 | k10 | single_cell | B.cell__ENO1  | 0.8205378 | FALSE-FALSE-TRUE-0.2-FALSE-TRUE- |\n",
       "\n"
      ],
      "text/plain": [
       "  X sample_id type        variable      value    \n",
       "1 1 k10       single_cell B.cell__PARK7 0.9412188\n",
       "2 2 k10       single_cell B.cell__ENO1  0.8205378\n",
       "  config                          \n",
       "1 FALSE-FALSE-TRUE-0.2-FALSE-TRUE-\n",
       "2 FALSE-FALSE-TRUE-0.2-FALSE-TRUE-"
      ]
     },
     "metadata": {},
     "output_type": "display_data"
    }
   ],
   "source": [
    "head(data_long,2)"
   ]
  },
  {
   "cell_type": "code",
   "execution_count": 52,
   "id": "ba021ba7-704d-4085-81c7-d718a5adcfc4",
   "metadata": {},
   "outputs": [
    {
     "data": {
      "text/html": [
       "1065636"
      ],
      "text/latex": [
       "1065636"
      ],
      "text/markdown": [
       "1065636"
      ],
      "text/plain": [
       "[1] 1065636"
      ]
     },
     "metadata": {},
     "output_type": "display_data"
    }
   ],
   "source": [
    "nrow(data_long)"
   ]
  },
  {
   "cell_type": "code",
   "execution_count": 53,
   "id": "81513021-3eb1-4a7a-bae8-c8f0238f1d01",
   "metadata": {},
   "outputs": [
    {
     "data": {
      "text/html": [
       "1065636"
      ],
      "text/latex": [
       "1065636"
      ],
      "text/markdown": [
       "1065636"
      ],
      "text/plain": [
       "[1] 1065636"
      ]
     },
     "metadata": {},
     "output_type": "display_data"
    }
   ],
   "source": [
    "nrow(unique(data_long[,c('sample_id', 'type', 'variable')]))"
   ]
  },
  {
   "cell_type": "markdown",
   "id": "d1d667ed-5193-40d6-94f1-b985bc1d7dd9",
   "metadata": {
    "tags": []
   },
   "source": [
    "## Sample Data"
   ]
  },
  {
   "cell_type": "code",
   "execution_count": 54,
   "id": "7e7ecd93-c210-4044-8813-da6f24ffaeff",
   "metadata": {},
   "outputs": [],
   "source": [
    "### LOad meta-data about samples"
   ]
  },
  {
   "cell_type": "code",
   "execution_count": 55,
   "id": "73ecf6ad-7e4f-4d39-8061-685387ba62ed",
   "metadata": {},
   "outputs": [],
   "source": [
    "sample_data = read.csv(paste0(result_path, '/00_Data_Overview/Merged_Sample_Meta_Data.csv'))"
   ]
  },
  {
   "cell_type": "code",
   "execution_count": 56,
   "id": "439cbff6-0806-478c-a8c1-4b7eb9af0ce4",
   "metadata": {},
   "outputs": [],
   "source": [
    "## Log normalize clinical values in sample meta data"
   ]
  },
  {
   "cell_type": "code",
   "execution_count": 57,
   "id": "7cf1572c-7e5f-415c-b27f-62a13accd85a",
   "metadata": {},
   "outputs": [],
   "source": [
    "sample_data$CK_raw = sample_data$CK"
   ]
  },
  {
   "cell_type": "code",
   "execution_count": 58,
   "id": "9f020f2c-f91a-40b7-b31f-12af3f336bfb",
   "metadata": {},
   "outputs": [],
   "source": [
    "sample_data$CK = log2(sample_data$CK+1)"
   ]
  },
  {
   "cell_type": "code",
   "execution_count": 59,
   "id": "ba15437e-4460-4290-a371-dab6b231e6f5",
   "metadata": {},
   "outputs": [],
   "source": [
    "sample_data$Troponin = log2(sample_data$Troponin+1)"
   ]
  },
  {
   "cell_type": "code",
   "execution_count": 60,
   "id": "8a2500f0-eca7-4455-9780-0eea863bf057",
   "metadata": {},
   "outputs": [
    {
     "name": "stderr",
     "output_type": "stream",
     "text": [
      "Warning message in eval(expr, envir, enclos):\n",
      "“NAs introduced by coercion”\n"
     ]
    }
   ],
   "source": [
    "sample_data$CK_MB = log2(as.numeric(sample_data$CK_MB)+1)"
   ]
  },
  {
   "cell_type": "code",
   "execution_count": 61,
   "id": "fa62ca61-2804-4eae-a189-8507689585d6",
   "metadata": {},
   "outputs": [
    {
     "name": "stderr",
     "output_type": "stream",
     "text": [
      "Warning message in eval(expr, envir, enclos):\n",
      "“NAs introduced by coercion”\n"
     ]
    }
   ],
   "source": [
    "sample_data$CRP =  log2(as.numeric(sample_data$CRP)+1)"
   ]
  },
  {
   "cell_type": "code",
   "execution_count": null,
   "id": "4f5658eb-5972-41d2-9b31-62660afb162a",
   "metadata": {},
   "outputs": [],
   "source": []
  },
  {
   "cell_type": "markdown",
   "id": "6168fa17-4ec8-436f-a4df-c94132a3bf74",
   "metadata": {
    "tags": []
   },
   "source": [
    "# Pre-Processing / Data Adjustments"
   ]
  },
  {
   "cell_type": "markdown",
   "id": "5e4656b7-71a4-4352-bbc4-754136411e96",
   "metadata": {
    "tags": []
   },
   "source": [
    "###  Filter samples "
   ]
  },
  {
   "cell_type": "code",
   "execution_count": 62,
   "id": "209d3c8d-7720-4a8b-a6b9-0f1f3ff1fb5e",
   "metadata": {},
   "outputs": [
    {
     "data": {
      "text/html": [
       "<table class=\"dataframe\">\n",
       "<caption>A data.frame: 2 × 6</caption>\n",
       "<thead>\n",
       "\t<tr><th></th><th scope=col>X</th><th scope=col>sample_id</th><th scope=col>type</th><th scope=col>variable</th><th scope=col>value</th><th scope=col>config</th></tr>\n",
       "\t<tr><th></th><th scope=col>&lt;int&gt;</th><th scope=col>&lt;chr&gt;</th><th scope=col>&lt;chr&gt;</th><th scope=col>&lt;chr&gt;</th><th scope=col>&lt;dbl&gt;</th><th scope=col>&lt;chr&gt;</th></tr>\n",
       "</thead>\n",
       "<tbody>\n",
       "\t<tr><th scope=row>1</th><td>1</td><td>k10</td><td>single_cell</td><td>B.cell__PARK7</td><td>0.9412188</td><td>FALSE-FALSE-TRUE-0.2-FALSE-TRUE-</td></tr>\n",
       "\t<tr><th scope=row>2</th><td>2</td><td>k10</td><td>single_cell</td><td>B.cell__ENO1 </td><td>0.8205378</td><td>FALSE-FALSE-TRUE-0.2-FALSE-TRUE-</td></tr>\n",
       "</tbody>\n",
       "</table>\n"
      ],
      "text/latex": [
       "A data.frame: 2 × 6\n",
       "\\begin{tabular}{r|llllll}\n",
       "  & X & sample\\_id & type & variable & value & config\\\\\n",
       "  & <int> & <chr> & <chr> & <chr> & <dbl> & <chr>\\\\\n",
       "\\hline\n",
       "\t1 & 1 & k10 & single\\_cell & B.cell\\_\\_PARK7 & 0.9412188 & FALSE-FALSE-TRUE-0.2-FALSE-TRUE-\\\\\n",
       "\t2 & 2 & k10 & single\\_cell & B.cell\\_\\_ENO1  & 0.8205378 & FALSE-FALSE-TRUE-0.2-FALSE-TRUE-\\\\\n",
       "\\end{tabular}\n"
      ],
      "text/markdown": [
       "\n",
       "A data.frame: 2 × 6\n",
       "\n",
       "| <!--/--> | X &lt;int&gt; | sample_id &lt;chr&gt; | type &lt;chr&gt; | variable &lt;chr&gt; | value &lt;dbl&gt; | config &lt;chr&gt; |\n",
       "|---|---|---|---|---|---|---|\n",
       "| 1 | 1 | k10 | single_cell | B.cell__PARK7 | 0.9412188 | FALSE-FALSE-TRUE-0.2-FALSE-TRUE- |\n",
       "| 2 | 2 | k10 | single_cell | B.cell__ENO1  | 0.8205378 | FALSE-FALSE-TRUE-0.2-FALSE-TRUE- |\n",
       "\n"
      ],
      "text/plain": [
       "  X sample_id type        variable      value    \n",
       "1 1 k10       single_cell B.cell__PARK7 0.9412188\n",
       "2 2 k10       single_cell B.cell__ENO1  0.8205378\n",
       "  config                          \n",
       "1 FALSE-FALSE-TRUE-0.2-FALSE-TRUE-\n",
       "2 FALSE-FALSE-TRUE-0.2-FALSE-TRUE-"
      ]
     },
     "metadata": {},
     "output_type": "display_data"
    }
   ],
   "source": [
    "head(data_long,2)"
   ]
  },
  {
   "cell_type": "code",
   "execution_count": 63,
   "id": "a922efa9-fd8e-4a39-b28c-95fb6a02fe2d",
   "metadata": {},
   "outputs": [
    {
     "data": {
      "text/html": [
       "'all'"
      ],
      "text/latex": [
       "'all'"
      ],
      "text/markdown": [
       "'all'"
      ],
      "text/plain": [
       "[1] \"all\""
      ]
     },
     "metadata": {},
     "output_type": "display_data"
    }
   ],
   "source": [
    "samples_var"
   ]
  },
  {
   "cell_type": "code",
   "execution_count": 64,
   "id": "27588cad-a49a-4f10-ae40-03c3b6132891",
   "metadata": {},
   "outputs": [],
   "source": [
    "if(samples_var == 'all'){\n",
    "    samples = unique(sample_data$sample_id) # without filter \n",
    "    }\n",
    "if(samples_var == 'acs_ccs'){\n",
    "    samples = unique(sample_data$sample_id[!sample_data$classification %in% c('vollstaendiger_ausschluss', 'koronarsklerose')])  # only acs comparison\n",
    "    }\n",
    "if(samples_var == 'no_acs'){\n",
    "    samples = unique(sample_data$sample_id[sample_data$classification %in% c('vollstaendiger_ausschluss', 'ccs', 'koronarsklerose')])  # only acs comparison\n",
    "    }\n",
    "if(samples_var == 'acs'){\n",
    "    samples = unique(sample_data$sample_id[sample_data$classification %in% c('acs_subacute', 'acs_w_infection', 'acs_w_o_infection')])  # only acs comparison\n",
    "    }\n",
    "    "
   ]
  },
  {
   "cell_type": "code",
   "execution_count": 65,
   "id": "8b77664c-df52-4cab-9fe2-fe5c4160bfd9",
   "metadata": {},
   "outputs": [
    {
     "data": {
      "text/html": [
       "146"
      ],
      "text/latex": [
       "146"
      ],
      "text/markdown": [
       "146"
      ],
      "text/plain": [
       "[1] 146"
      ]
     },
     "metadata": {},
     "output_type": "display_data"
    }
   ],
   "source": [
    "length(samples)"
   ]
  },
  {
   "cell_type": "markdown",
   "id": "24578da6-022d-4311-a984-630e98ca80f0",
   "metadata": {},
   "source": [
    "### Filter out variables"
   ]
  },
  {
   "cell_type": "code",
   "execution_count": 66,
   "id": "6e5a614d-b5db-4943-b74c-bbbcf0efc785",
   "metadata": {},
   "outputs": [
    {
     "data": {
      "text/html": [
       "<table class=\"dataframe\">\n",
       "<caption>A data.frame: 2 × 6</caption>\n",
       "<thead>\n",
       "\t<tr><th></th><th scope=col>X</th><th scope=col>sample_id</th><th scope=col>type</th><th scope=col>variable</th><th scope=col>value</th><th scope=col>config</th></tr>\n",
       "\t<tr><th></th><th scope=col>&lt;int&gt;</th><th scope=col>&lt;chr&gt;</th><th scope=col>&lt;chr&gt;</th><th scope=col>&lt;chr&gt;</th><th scope=col>&lt;dbl&gt;</th><th scope=col>&lt;chr&gt;</th></tr>\n",
       "</thead>\n",
       "<tbody>\n",
       "\t<tr><th scope=row>1</th><td>1</td><td>k10</td><td>single_cell</td><td>B.cell__PARK7</td><td>0.9412188</td><td>FALSE-FALSE-TRUE-0.2-FALSE-TRUE-</td></tr>\n",
       "\t<tr><th scope=row>2</th><td>2</td><td>k10</td><td>single_cell</td><td>B.cell__ENO1 </td><td>0.8205378</td><td>FALSE-FALSE-TRUE-0.2-FALSE-TRUE-</td></tr>\n",
       "</tbody>\n",
       "</table>\n"
      ],
      "text/latex": [
       "A data.frame: 2 × 6\n",
       "\\begin{tabular}{r|llllll}\n",
       "  & X & sample\\_id & type & variable & value & config\\\\\n",
       "  & <int> & <chr> & <chr> & <chr> & <dbl> & <chr>\\\\\n",
       "\\hline\n",
       "\t1 & 1 & k10 & single\\_cell & B.cell\\_\\_PARK7 & 0.9412188 & FALSE-FALSE-TRUE-0.2-FALSE-TRUE-\\\\\n",
       "\t2 & 2 & k10 & single\\_cell & B.cell\\_\\_ENO1  & 0.8205378 & FALSE-FALSE-TRUE-0.2-FALSE-TRUE-\\\\\n",
       "\\end{tabular}\n"
      ],
      "text/markdown": [
       "\n",
       "A data.frame: 2 × 6\n",
       "\n",
       "| <!--/--> | X &lt;int&gt; | sample_id &lt;chr&gt; | type &lt;chr&gt; | variable &lt;chr&gt; | value &lt;dbl&gt; | config &lt;chr&gt; |\n",
       "|---|---|---|---|---|---|---|\n",
       "| 1 | 1 | k10 | single_cell | B.cell__PARK7 | 0.9412188 | FALSE-FALSE-TRUE-0.2-FALSE-TRUE- |\n",
       "| 2 | 2 | k10 | single_cell | B.cell__ENO1  | 0.8205378 | FALSE-FALSE-TRUE-0.2-FALSE-TRUE- |\n",
       "\n"
      ],
      "text/plain": [
       "  X sample_id type        variable      value    \n",
       "1 1 k10       single_cell B.cell__PARK7 0.9412188\n",
       "2 2 k10       single_cell B.cell__ENO1  0.8205378\n",
       "  config                          \n",
       "1 FALSE-FALSE-TRUE-0.2-FALSE-TRUE-\n",
       "2 FALSE-FALSE-TRUE-0.2-FALSE-TRUE-"
      ]
     },
     "metadata": {},
     "output_type": "display_data"
    }
   ],
   "source": [
    "head(data_long,2)"
   ]
  },
  {
   "cell_type": "code",
   "execution_count": 67,
   "id": "483a8522-d559-4e22-8906-0c664442a4c5",
   "metadata": {},
   "outputs": [
    {
     "data": {
      "text/html": [
       "<style>\n",
       ".list-inline {list-style: none; margin:0; padding: 0}\n",
       ".list-inline>li {display: inline-block}\n",
       ".list-inline>li:not(:last-child)::after {content: \"\\00b7\"; padding: 0 .5ex}\n",
       "</style>\n",
       "<ol class=list-inline><li>'single_cell'</li><li>'cytokine'</li><li>'proteomics'</li><li>'neutrophil'</li><li>'clinical_data'</li></ol>\n"
      ],
      "text/latex": [
       "\\begin{enumerate*}\n",
       "\\item 'single\\_cell'\n",
       "\\item 'cytokine'\n",
       "\\item 'proteomics'\n",
       "\\item 'neutrophil'\n",
       "\\item 'clinical\\_data'\n",
       "\\end{enumerate*}\n"
      ],
      "text/markdown": [
       "1. 'single_cell'\n",
       "2. 'cytokine'\n",
       "3. 'proteomics'\n",
       "4. 'neutrophil'\n",
       "5. 'clinical_data'\n",
       "\n",
       "\n"
      ],
      "text/plain": [
       "[1] \"single_cell\"   \"cytokine\"      \"proteomics\"    \"neutrophil\"   \n",
       "[5] \"clinical_data\""
      ]
     },
     "metadata": {},
     "output_type": "display_data"
    }
   ],
   "source": [
    "unique(data_long$type)"
   ]
  },
  {
   "cell_type": "code",
   "execution_count": 68,
   "id": "534b0f3a-4d95-40e8-a08f-63fba93003d4",
   "metadata": {},
   "outputs": [],
   "source": [
    "data_long = data_long[data_long$variable != 'delta_ef_value',]"
   ]
  },
  {
   "cell_type": "code",
   "execution_count": 69,
   "id": "d1f1379e-f702-4990-8e98-d1d2097b2ea3",
   "metadata": {},
   "outputs": [
    {
     "data": {
      "text/html": [
       "<table class=\"dataframe\">\n",
       "<caption>A data.frame: 4 × 2</caption>\n",
       "<thead>\n",
       "\t<tr><th></th><th scope=col>type</th><th scope=col>variable</th></tr>\n",
       "\t<tr><th></th><th scope=col>&lt;chr&gt;</th><th scope=col>&lt;chr&gt;</th></tr>\n",
       "</thead>\n",
       "<tbody>\n",
       "\t<tr><th scope=row>1064907</th><td>clinical_data</td><td>CK      </td></tr>\n",
       "\t<tr><th scope=row>1065053</th><td>clinical_data</td><td>CK_MB   </td></tr>\n",
       "\t<tr><th scope=row>1065199</th><td>clinical_data</td><td>Troponin</td></tr>\n",
       "\t<tr><th scope=row>1065491</th><td>clinical_data</td><td>CRP     </td></tr>\n",
       "</tbody>\n",
       "</table>\n"
      ],
      "text/latex": [
       "A data.frame: 4 × 2\n",
       "\\begin{tabular}{r|ll}\n",
       "  & type & variable\\\\\n",
       "  & <chr> & <chr>\\\\\n",
       "\\hline\n",
       "\t1064907 & clinical\\_data & CK      \\\\\n",
       "\t1065053 & clinical\\_data & CK\\_MB   \\\\\n",
       "\t1065199 & clinical\\_data & Troponin\\\\\n",
       "\t1065491 & clinical\\_data & CRP     \\\\\n",
       "\\end{tabular}\n"
      ],
      "text/markdown": [
       "\n",
       "A data.frame: 4 × 2\n",
       "\n",
       "| <!--/--> | type &lt;chr&gt; | variable &lt;chr&gt; |\n",
       "|---|---|---|\n",
       "| 1064907 | clinical_data | CK       |\n",
       "| 1065053 | clinical_data | CK_MB    |\n",
       "| 1065199 | clinical_data | Troponin |\n",
       "| 1065491 | clinical_data | CRP      |\n",
       "\n"
      ],
      "text/plain": [
       "        type          variable\n",
       "1064907 clinical_data CK      \n",
       "1065053 clinical_data CK_MB   \n",
       "1065199 clinical_data Troponin\n",
       "1065491 clinical_data CRP     "
      ]
     },
     "metadata": {},
     "output_type": "display_data"
    }
   ],
   "source": [
    "unique(data_long[data_long$type == 'clinical_data', c('type', 'variable')])"
   ]
  },
  {
   "cell_type": "code",
   "execution_count": null,
   "id": "35480718-c978-4289-b157-476045bb27a6",
   "metadata": {},
   "outputs": [],
   "source": []
  },
  {
   "cell_type": "markdown",
   "id": "7d43d8b7-2c9d-43b3-b073-67619eae8d2b",
   "metadata": {
    "tags": []
   },
   "source": [
    "### Filter on expression"
   ]
  },
  {
   "cell_type": "code",
   "execution_count": 70,
   "id": "757a612f-4df7-4103-b440-cc3864280dc0",
   "metadata": {},
   "outputs": [],
   "source": [
    "## Filter out features that are not expressed in sufficient amount of samples"
   ]
  },
  {
   "cell_type": "code",
   "execution_count": 71,
   "id": "fdb16159-6fc1-4fbc-bbb8-2543419d295f",
   "metadata": {},
   "outputs": [],
   "source": [
    "data_long$expression = TRUE"
   ]
  },
  {
   "cell_type": "code",
   "execution_count": 72,
   "id": "c92a789d-aef8-4982-83f1-af783cc02bae",
   "metadata": {},
   "outputs": [],
   "source": [
    "data_long$expression[data_long$value == 0] = FALSE"
   ]
  },
  {
   "cell_type": "code",
   "execution_count": 73,
   "id": "2c69b5cc-9a70-4645-bdd3-c142c035e733",
   "metadata": {},
   "outputs": [
    {
     "name": "stderr",
     "output_type": "stream",
     "text": [
      "\u001b[1m\u001b[22m`summarise()` has grouped output by 'type'. You can override using the\n",
      "`.groups` argument.\n"
     ]
    }
   ],
   "source": [
    "expression_filter = data_long %>% group_by(type, variable) %>% summarise(perc_expression = sum(expression)  )"
   ]
  },
  {
   "cell_type": "code",
   "execution_count": 74,
   "id": "0dc75d03-57e3-446b-bd0a-0cde49b7adca",
   "metadata": {},
   "outputs": [],
   "source": [
    "expression_filter$perc_expression = expression_filter$perc_expression / length(unique(data_long$sample_id))"
   ]
  },
  {
   "cell_type": "code",
   "execution_count": 75,
   "id": "e307d09b-8e0e-4417-841d-02fdbf554e97",
   "metadata": {},
   "outputs": [
    {
     "data": {
      "text/html": [
       "9151"
      ],
      "text/latex": [
       "9151"
      ],
      "text/markdown": [
       "9151"
      ],
      "text/plain": [
       "[1] 9151"
      ]
     },
     "metadata": {},
     "output_type": "display_data"
    }
   ],
   "source": [
    "nrow(expression_filter)"
   ]
  },
  {
   "cell_type": "code",
   "execution_count": 76,
   "id": "ce33fa69-5141-414d-a428-544642b85e6a",
   "metadata": {},
   "outputs": [
    {
     "data": {
      "text/html": [
       "9151"
      ],
      "text/latex": [
       "9151"
      ],
      "text/markdown": [
       "9151"
      ],
      "text/plain": [
       "[1] 9151"
      ]
     },
     "metadata": {},
     "output_type": "display_data"
    }
   ],
   "source": [
    "nrow(unique(data_long[,c('type', 'variable')]))"
   ]
  },
  {
   "cell_type": "code",
   "execution_count": 77,
   "id": "a87cb014-017f-4c47-b0c7-47ce297f1f27",
   "metadata": {},
   "outputs": [],
   "source": [
    "## Determine features to filter out based on threshold"
   ]
  },
  {
   "cell_type": "code",
   "execution_count": 78,
   "id": "2fa2ac2d-0341-4339-9686-0ed82929b12a",
   "metadata": {},
   "outputs": [],
   "source": [
    "filtered_out = expression_filter[expression_filter$perc_expression <= 0.2,]"
   ]
  },
  {
   "cell_type": "code",
   "execution_count": 79,
   "id": "2b8f9934-2c21-401b-9aab-be2f0f72a7dc",
   "metadata": {},
   "outputs": [],
   "source": [
    "expression_filter = expression_filter[expression_filter$perc_expression > 0.2,]"
   ]
  },
  {
   "cell_type": "code",
   "execution_count": 80,
   "id": "276d3468-c63e-4843-ac11-843d34b56b61",
   "metadata": {},
   "outputs": [],
   "source": [
    "### Keep only features with sufficient expression"
   ]
  },
  {
   "cell_type": "code",
   "execution_count": 81,
   "id": "35c82be5-67f5-419d-a5e7-93d7f85cb7e7",
   "metadata": {
    "tags": []
   },
   "outputs": [],
   "source": [
    "data_long = merge(data_long, expression_filter[,c('type', 'variable')], by.x = c('type', 'variable'), by.y = c('type', 'variable'))   # filter the data"
   ]
  },
  {
   "cell_type": "code",
   "execution_count": 82,
   "id": "1e3b4897-69c7-43a1-bbb4-0b578e2392fb",
   "metadata": {},
   "outputs": [
    {
     "data": {
      "text/html": [
       "<style>\n",
       ".list-inline {list-style: none; margin:0; padding: 0}\n",
       ".list-inline>li {display: inline-block}\n",
       ".list-inline>li:not(:last-child)::after {content: \"\\00b7\"; padding: 0 .5ex}\n",
       "</style>\n",
       "<ol class=list-inline><li>'clinical_data'</li><li>'cytokine'</li><li>'neutrophil'</li><li>'proteomics'</li><li>'single_cell'</li></ol>\n"
      ],
      "text/latex": [
       "\\begin{enumerate*}\n",
       "\\item 'clinical\\_data'\n",
       "\\item 'cytokine'\n",
       "\\item 'neutrophil'\n",
       "\\item 'proteomics'\n",
       "\\item 'single\\_cell'\n",
       "\\end{enumerate*}\n"
      ],
      "text/markdown": [
       "1. 'clinical_data'\n",
       "2. 'cytokine'\n",
       "3. 'neutrophil'\n",
       "4. 'proteomics'\n",
       "5. 'single_cell'\n",
       "\n",
       "\n"
      ],
      "text/plain": [
       "[1] \"clinical_data\" \"cytokine\"      \"neutrophil\"    \"proteomics\"   \n",
       "[5] \"single_cell\"  "
      ]
     },
     "metadata": {},
     "output_type": "display_data"
    }
   ],
   "source": [
    "unique(data_long$type)"
   ]
  },
  {
   "cell_type": "code",
   "execution_count": 83,
   "id": "f8c3422f-72d5-4781-99fc-c7ba4bbc9783",
   "metadata": {},
   "outputs": [
    {
     "data": {
      "text/html": [
       "1064734"
      ],
      "text/latex": [
       "1064734"
      ],
      "text/markdown": [
       "1064734"
      ],
      "text/plain": [
       "[1] 1064734"
      ]
     },
     "metadata": {},
     "output_type": "display_data"
    }
   ],
   "source": [
    "nrow(data_long)"
   ]
  },
  {
   "cell_type": "code",
   "execution_count": 84,
   "id": "6bd88f7e-f2c5-42d7-93b5-af0c69b25da9",
   "metadata": {},
   "outputs": [],
   "source": [
    "## Amount of features after filtering"
   ]
  },
  {
   "cell_type": "code",
   "execution_count": 85,
   "id": "35e360eb-c53a-4381-a2dd-597ffd582957",
   "metadata": {},
   "outputs": [
    {
     "data": {
      "text/html": [
       "9145"
      ],
      "text/latex": [
       "9145"
      ],
      "text/markdown": [
       "9145"
      ],
      "text/plain": [
       "[1] 9145"
      ]
     },
     "metadata": {},
     "output_type": "display_data"
    }
   ],
   "source": [
    "length(unique(data_long$variable))"
   ]
  },
  {
   "cell_type": "code",
   "execution_count": 86,
   "id": "09b981e9-8149-4c16-aac3-e068bdc38f11",
   "metadata": {},
   "outputs": [
    {
     "data": {
      "text/html": [
       "146"
      ],
      "text/latex": [
       "146"
      ],
      "text/markdown": [
       "146"
      ],
      "text/plain": [
       "[1] 146"
      ]
     },
     "metadata": {},
     "output_type": "display_data"
    }
   ],
   "source": [
    "length(unique(data_long$sample_id))"
   ]
  },
  {
   "cell_type": "markdown",
   "id": "51cb8f7e-228a-4a94-9781-6b6803cf4f8c",
   "metadata": {
    "tags": []
   },
   "source": [
    "### Normalization & wide format"
   ]
  },
  {
   "cell_type": "code",
   "execution_count": 87,
   "id": "920e87f8-4ef1-445d-ad1d-6df7a4972ef4",
   "metadata": {},
   "outputs": [],
   "source": [
    "### Standardize values"
   ]
  },
  {
   "cell_type": "code",
   "execution_count": 88,
   "id": "3ac1b143-6797-4789-abb5-47bc44cf0bf2",
   "metadata": {},
   "outputs": [
    {
     "data": {
      "text/html": [
       "FALSE"
      ],
      "text/latex": [
       "FALSE"
      ],
      "text/markdown": [
       "FALSE"
      ],
      "text/plain": [
       "[1] FALSE"
      ]
     },
     "metadata": {},
     "output_type": "display_data"
    }
   ],
   "source": [
    "standardize"
   ]
  },
  {
   "cell_type": "code",
   "execution_count": 89,
   "id": "3836bac8-5d80-4943-a2b7-8e5fec42bfeb",
   "metadata": {},
   "outputs": [],
   "source": [
    "if(standardize == TRUE){\n",
    "    data_long = merge(data_long, data_long %>% group_by(variable) %>% summarise(mean = mean(value, na.rm = TRUE), sd = sd(value, na.rm = TRUE)))\n",
    "    \n",
    "    data_long[data_long == 0] = NA\n",
    "    \n",
    "    data_long = data_long[(data_long$sd != 0) & (!is.na(data_long$sd)),]\n",
    "    \n",
    "    data_nas = data.frame(is.na(data_long))\n",
    "    data_long$value = (data_long$value - data_long$mean)/data_long$sd\n",
    "    \n",
    "    #data_long = data.frame(data_long)\n",
    "    data_long$mean = NULL\n",
    "    data_long$sd = NULL\n",
    "    data_long$value[data_nas$value] = NA\n",
    "    }"
   ]
  },
  {
   "cell_type": "code",
   "execution_count": 90,
   "id": "2a5724e6-eb6c-4346-9cfa-4924c22189e9",
   "metadata": {},
   "outputs": [
    {
     "data": {
      "text/html": [
       "<style>\n",
       ".list-inline {list-style: none; margin:0; padding: 0}\n",
       ".list-inline>li {display: inline-block}\n",
       ".list-inline>li:not(:last-child)::after {content: \"\\00b7\"; padding: 0 .5ex}\n",
       "</style>\n",
       "<ol class=list-inline><li>'clinical_data'</li><li>'cytokine'</li><li>'neutrophil'</li><li>'proteomics'</li><li>'single_cell'</li></ol>\n"
      ],
      "text/latex": [
       "\\begin{enumerate*}\n",
       "\\item 'clinical\\_data'\n",
       "\\item 'cytokine'\n",
       "\\item 'neutrophil'\n",
       "\\item 'proteomics'\n",
       "\\item 'single\\_cell'\n",
       "\\end{enumerate*}\n"
      ],
      "text/markdown": [
       "1. 'clinical_data'\n",
       "2. 'cytokine'\n",
       "3. 'neutrophil'\n",
       "4. 'proteomics'\n",
       "5. 'single_cell'\n",
       "\n",
       "\n"
      ],
      "text/plain": [
       "[1] \"clinical_data\" \"cytokine\"      \"neutrophil\"    \"proteomics\"   \n",
       "[5] \"single_cell\"  "
      ]
     },
     "metadata": {},
     "output_type": "display_data"
    }
   ],
   "source": [
    "unique(data_long$type)"
   ]
  },
  {
   "cell_type": "code",
   "execution_count": 91,
   "id": "4ca77032-8898-428f-a735-a2071173c03c",
   "metadata": {},
   "outputs": [],
   "source": [
    "## Prepare wide format "
   ]
  },
  {
   "cell_type": "code",
   "execution_count": 92,
   "id": "93dda395-7382-470f-babb-177bd5b79acd",
   "metadata": {},
   "outputs": [],
   "source": [
    "data_long$ident = paste0(data_long$type, '_0_', data_long$variable)"
   ]
  },
  {
   "cell_type": "code",
   "execution_count": 93,
   "id": "e435785c-6afd-41a1-a578-7ff92190f1ff",
   "metadata": {},
   "outputs": [],
   "source": [
    "### Transform to wide"
   ]
  },
  {
   "cell_type": "code",
   "execution_count": 94,
   "id": "3f33cef4-dfb9-4ee6-a318-93fd05f626c1",
   "metadata": {},
   "outputs": [],
   "source": [
    "final_data = dcast(data_long, sample_id ~ ident , value.var = \"value\") # ! with this merging there might be NA values for some samples on some data types"
   ]
  },
  {
   "cell_type": "code",
   "execution_count": 95,
   "id": "4549c980-387d-450c-be08-506c19784d15",
   "metadata": {},
   "outputs": [
    {
     "data": {
      "text/html": [
       "<table class=\"dataframe\">\n",
       "<caption>A data.frame: 2 × 9146</caption>\n",
       "<thead>\n",
       "\t<tr><th></th><th scope=col>sample_id</th><th scope=col>clinical_data_0_CK</th><th scope=col>clinical_data_0_CK_MB</th><th scope=col>clinical_data_0_CRP</th><th scope=col>clinical_data_0_Troponin</th><th scope=col>cytokine_0_BCA1__CXCL13</th><th scope=col>cytokine_0_CTACK__CCL27</th><th scope=col>cytokine_0_EGF__EGF</th><th scope=col>cytokine_0_ENA78__CXCL5</th><th scope=col>cytokine_0_Eotaxin__CCL11</th><th scope=col>⋯</th><th scope=col>single_cell_0_Treg__VIM</th><th scope=col>single_cell_0_Treg__YBX1</th><th scope=col>single_cell_0_Treg__YPEL5</th><th scope=col>single_cell_0_Treg__YWHAB</th><th scope=col>single_cell_0_Treg__YWHAZ</th><th scope=col>single_cell_0_Treg__ZC3HAV1</th><th scope=col>single_cell_0_Treg__ZFAS1</th><th scope=col>single_cell_0_Treg__ZFP36</th><th scope=col>single_cell_0_Treg__ZFP36L2</th><th scope=col>single_cell_0_Treg__ZNF331</th></tr>\n",
       "\t<tr><th></th><th scope=col>&lt;chr&gt;</th><th scope=col>&lt;dbl&gt;</th><th scope=col>&lt;dbl&gt;</th><th scope=col>&lt;dbl&gt;</th><th scope=col>&lt;dbl&gt;</th><th scope=col>&lt;dbl&gt;</th><th scope=col>&lt;dbl&gt;</th><th scope=col>&lt;dbl&gt;</th><th scope=col>&lt;dbl&gt;</th><th scope=col>&lt;dbl&gt;</th><th scope=col>⋯</th><th scope=col>&lt;dbl&gt;</th><th scope=col>&lt;dbl&gt;</th><th scope=col>&lt;dbl&gt;</th><th scope=col>&lt;dbl&gt;</th><th scope=col>&lt;dbl&gt;</th><th scope=col>&lt;dbl&gt;</th><th scope=col>&lt;dbl&gt;</th><th scope=col>&lt;dbl&gt;</th><th scope=col>&lt;dbl&gt;</th><th scope=col>&lt;dbl&gt;</th></tr>\n",
       "</thead>\n",
       "<tbody>\n",
       "\t<tr><th scope=row>1</th><td>k1 </td><td>5.459432</td><td>NA</td><td>0.4854268</td><td>0.01863417</td><td>5.696550</td><td>9.821662</td><td>5.045268</td><td>10.562366</td><td>7.42341</td><td>⋯</td><td>      NA</td><td>      NA</td><td>      NA</td><td>      NA</td><td>      NA</td><td>       NA</td><td>      NA</td><td>      NA</td><td>      NA</td><td>      NA</td></tr>\n",
       "\t<tr><th scope=row>2</th><td>k10</td><td>      NA</td><td>NA</td><td>0.2630344</td><td>        NA</td><td>4.697663</td><td>9.701220</td><td>1.922198</td><td> 7.724173</td><td>9.19842</td><td>⋯</td><td>2.356913</td><td>1.735349</td><td>1.695393</td><td>1.772633</td><td>1.975818</td><td>0.9466424</td><td>1.417687</td><td>1.670544</td><td>1.474395</td><td>1.695393</td></tr>\n",
       "</tbody>\n",
       "</table>\n"
      ],
      "text/latex": [
       "A data.frame: 2 × 9146\n",
       "\\begin{tabular}{r|lllllllllllllllllllll}\n",
       "  & sample\\_id & clinical\\_data\\_0\\_CK & clinical\\_data\\_0\\_CK\\_MB & clinical\\_data\\_0\\_CRP & clinical\\_data\\_0\\_Troponin & cytokine\\_0\\_BCA1\\_\\_CXCL13 & cytokine\\_0\\_CTACK\\_\\_CCL27 & cytokine\\_0\\_EGF\\_\\_EGF & cytokine\\_0\\_ENA78\\_\\_CXCL5 & cytokine\\_0\\_Eotaxin\\_\\_CCL11 & ⋯ & single\\_cell\\_0\\_Treg\\_\\_VIM & single\\_cell\\_0\\_Treg\\_\\_YBX1 & single\\_cell\\_0\\_Treg\\_\\_YPEL5 & single\\_cell\\_0\\_Treg\\_\\_YWHAB & single\\_cell\\_0\\_Treg\\_\\_YWHAZ & single\\_cell\\_0\\_Treg\\_\\_ZC3HAV1 & single\\_cell\\_0\\_Treg\\_\\_ZFAS1 & single\\_cell\\_0\\_Treg\\_\\_ZFP36 & single\\_cell\\_0\\_Treg\\_\\_ZFP36L2 & single\\_cell\\_0\\_Treg\\_\\_ZNF331\\\\\n",
       "  & <chr> & <dbl> & <dbl> & <dbl> & <dbl> & <dbl> & <dbl> & <dbl> & <dbl> & <dbl> & ⋯ & <dbl> & <dbl> & <dbl> & <dbl> & <dbl> & <dbl> & <dbl> & <dbl> & <dbl> & <dbl>\\\\\n",
       "\\hline\n",
       "\t1 & k1  & 5.459432 & NA & 0.4854268 & 0.01863417 & 5.696550 & 9.821662 & 5.045268 & 10.562366 & 7.42341 & ⋯ &       NA &       NA &       NA &       NA &       NA &        NA &       NA &       NA &       NA &       NA\\\\\n",
       "\t2 & k10 &       NA & NA & 0.2630344 &         NA & 4.697663 & 9.701220 & 1.922198 &  7.724173 & 9.19842 & ⋯ & 2.356913 & 1.735349 & 1.695393 & 1.772633 & 1.975818 & 0.9466424 & 1.417687 & 1.670544 & 1.474395 & 1.695393\\\\\n",
       "\\end{tabular}\n"
      ],
      "text/markdown": [
       "\n",
       "A data.frame: 2 × 9146\n",
       "\n",
       "| <!--/--> | sample_id &lt;chr&gt; | clinical_data_0_CK &lt;dbl&gt; | clinical_data_0_CK_MB &lt;dbl&gt; | clinical_data_0_CRP &lt;dbl&gt; | clinical_data_0_Troponin &lt;dbl&gt; | cytokine_0_BCA1__CXCL13 &lt;dbl&gt; | cytokine_0_CTACK__CCL27 &lt;dbl&gt; | cytokine_0_EGF__EGF &lt;dbl&gt; | cytokine_0_ENA78__CXCL5 &lt;dbl&gt; | cytokine_0_Eotaxin__CCL11 &lt;dbl&gt; | ⋯ ⋯ | single_cell_0_Treg__VIM &lt;dbl&gt; | single_cell_0_Treg__YBX1 &lt;dbl&gt; | single_cell_0_Treg__YPEL5 &lt;dbl&gt; | single_cell_0_Treg__YWHAB &lt;dbl&gt; | single_cell_0_Treg__YWHAZ &lt;dbl&gt; | single_cell_0_Treg__ZC3HAV1 &lt;dbl&gt; | single_cell_0_Treg__ZFAS1 &lt;dbl&gt; | single_cell_0_Treg__ZFP36 &lt;dbl&gt; | single_cell_0_Treg__ZFP36L2 &lt;dbl&gt; | single_cell_0_Treg__ZNF331 &lt;dbl&gt; |\n",
       "|---|---|---|---|---|---|---|---|---|---|---|---|---|---|---|---|---|---|---|---|---|---|\n",
       "| 1 | k1  | 5.459432 | NA | 0.4854268 | 0.01863417 | 5.696550 | 9.821662 | 5.045268 | 10.562366 | 7.42341 | ⋯ |       NA |       NA |       NA |       NA |       NA |        NA |       NA |       NA |       NA |       NA |\n",
       "| 2 | k10 |       NA | NA | 0.2630344 |         NA | 4.697663 | 9.701220 | 1.922198 |  7.724173 | 9.19842 | ⋯ | 2.356913 | 1.735349 | 1.695393 | 1.772633 | 1.975818 | 0.9466424 | 1.417687 | 1.670544 | 1.474395 | 1.695393 |\n",
       "\n"
      ],
      "text/plain": [
       "  sample_id clinical_data_0_CK clinical_data_0_CK_MB clinical_data_0_CRP\n",
       "1 k1        5.459432           NA                    0.4854268          \n",
       "2 k10             NA           NA                    0.2630344          \n",
       "  clinical_data_0_Troponin cytokine_0_BCA1__CXCL13 cytokine_0_CTACK__CCL27\n",
       "1 0.01863417               5.696550                9.821662               \n",
       "2         NA               4.697663                9.701220               \n",
       "  cytokine_0_EGF__EGF cytokine_0_ENA78__CXCL5 cytokine_0_Eotaxin__CCL11 ⋯\n",
       "1 5.045268            10.562366               7.42341                   ⋯\n",
       "2 1.922198             7.724173               9.19842                   ⋯\n",
       "  single_cell_0_Treg__VIM single_cell_0_Treg__YBX1 single_cell_0_Treg__YPEL5\n",
       "1       NA                      NA                       NA                 \n",
       "2 2.356913                1.735349                 1.695393                 \n",
       "  single_cell_0_Treg__YWHAB single_cell_0_Treg__YWHAZ\n",
       "1       NA                        NA                 \n",
       "2 1.772633                  1.975818                 \n",
       "  single_cell_0_Treg__ZC3HAV1 single_cell_0_Treg__ZFAS1\n",
       "1        NA                         NA                 \n",
       "2 0.9466424                   1.417687                 \n",
       "  single_cell_0_Treg__ZFP36 single_cell_0_Treg__ZFP36L2\n",
       "1       NA                        NA                   \n",
       "2 1.670544                  1.474395                   \n",
       "  single_cell_0_Treg__ZNF331\n",
       "1       NA                  \n",
       "2 1.695393                  "
      ]
     },
     "metadata": {},
     "output_type": "display_data"
    }
   ],
   "source": [
    "head(final_data,2)"
   ]
  },
  {
   "cell_type": "code",
   "execution_count": 96,
   "id": "14384a60-9c14-4f0a-8eac-6778cc426158",
   "metadata": {},
   "outputs": [],
   "source": [
    "rownames(final_data) = final_data$sample_id"
   ]
  },
  {
   "cell_type": "code",
   "execution_count": 97,
   "id": "b015c5b9-18c0-4aa4-a046-0abd88a48796",
   "metadata": {},
   "outputs": [],
   "source": [
    "final_data$sample_id = NULL"
   ]
  },
  {
   "cell_type": "markdown",
   "id": "84042051-8603-4eab-81b3-763a0bf292dc",
   "metadata": {
    "tags": []
   },
   "source": [
    "### Deal with NA"
   ]
  },
  {
   "cell_type": "code",
   "execution_count": 99,
   "id": "a93c5aba-63ea-46e8-b3fe-64f4bd497aba",
   "metadata": {},
   "outputs": [],
   "source": [
    "### decide wheter to set 0 values to NA and remove samples with only NA values"
   ]
  },
  {
   "cell_type": "code",
   "execution_count": 100,
   "id": "fbc4e7d9-1fad-4015-9b96-9f81c0e4d198",
   "metadata": {},
   "outputs": [
    {
     "data": {
      "text/html": [
       "<table class=\"dataframe\">\n",
       "<caption>A data.frame: 2 × 9145</caption>\n",
       "<thead>\n",
       "\t<tr><th></th><th scope=col>clinical_data_0_CK</th><th scope=col>clinical_data_0_CK_MB</th><th scope=col>clinical_data_0_CRP</th><th scope=col>clinical_data_0_Troponin</th><th scope=col>cytokine_0_BCA1__CXCL13</th><th scope=col>cytokine_0_CTACK__CCL27</th><th scope=col>cytokine_0_EGF__EGF</th><th scope=col>cytokine_0_ENA78__CXCL5</th><th scope=col>cytokine_0_Eotaxin__CCL11</th><th scope=col>cytokine_0_Eotaxin2__CCL24</th><th scope=col>⋯</th><th scope=col>single_cell_0_Treg__VIM</th><th scope=col>single_cell_0_Treg__YBX1</th><th scope=col>single_cell_0_Treg__YPEL5</th><th scope=col>single_cell_0_Treg__YWHAB</th><th scope=col>single_cell_0_Treg__YWHAZ</th><th scope=col>single_cell_0_Treg__ZC3HAV1</th><th scope=col>single_cell_0_Treg__ZFAS1</th><th scope=col>single_cell_0_Treg__ZFP36</th><th scope=col>single_cell_0_Treg__ZFP36L2</th><th scope=col>single_cell_0_Treg__ZNF331</th></tr>\n",
       "\t<tr><th></th><th scope=col>&lt;dbl&gt;</th><th scope=col>&lt;dbl&gt;</th><th scope=col>&lt;dbl&gt;</th><th scope=col>&lt;dbl&gt;</th><th scope=col>&lt;dbl&gt;</th><th scope=col>&lt;dbl&gt;</th><th scope=col>&lt;dbl&gt;</th><th scope=col>&lt;dbl&gt;</th><th scope=col>&lt;dbl&gt;</th><th scope=col>&lt;dbl&gt;</th><th scope=col>⋯</th><th scope=col>&lt;dbl&gt;</th><th scope=col>&lt;dbl&gt;</th><th scope=col>&lt;dbl&gt;</th><th scope=col>&lt;dbl&gt;</th><th scope=col>&lt;dbl&gt;</th><th scope=col>&lt;dbl&gt;</th><th scope=col>&lt;dbl&gt;</th><th scope=col>&lt;dbl&gt;</th><th scope=col>&lt;dbl&gt;</th><th scope=col>&lt;dbl&gt;</th></tr>\n",
       "</thead>\n",
       "<tbody>\n",
       "\t<tr><th scope=row>k1</th><td>5.459432</td><td>NA</td><td>0.4854268</td><td>0.01863417</td><td>5.696550</td><td>9.821662</td><td>5.045268</td><td>10.562366</td><td>7.42341</td><td>8.755388</td><td>⋯</td><td>      NA</td><td>      NA</td><td>      NA</td><td>      NA</td><td>      NA</td><td>       NA</td><td>      NA</td><td>      NA</td><td>      NA</td><td>      NA</td></tr>\n",
       "\t<tr><th scope=row>k10</th><td>      NA</td><td>NA</td><td>0.2630344</td><td>        NA</td><td>4.697663</td><td>9.701220</td><td>1.922198</td><td> 7.724173</td><td>9.19842</td><td>9.728363</td><td>⋯</td><td>2.356913</td><td>1.735349</td><td>1.695393</td><td>1.772633</td><td>1.975818</td><td>0.9466424</td><td>1.417687</td><td>1.670544</td><td>1.474395</td><td>1.695393</td></tr>\n",
       "</tbody>\n",
       "</table>\n"
      ],
      "text/latex": [
       "A data.frame: 2 × 9145\n",
       "\\begin{tabular}{r|lllllllllllllllllllll}\n",
       "  & clinical\\_data\\_0\\_CK & clinical\\_data\\_0\\_CK\\_MB & clinical\\_data\\_0\\_CRP & clinical\\_data\\_0\\_Troponin & cytokine\\_0\\_BCA1\\_\\_CXCL13 & cytokine\\_0\\_CTACK\\_\\_CCL27 & cytokine\\_0\\_EGF\\_\\_EGF & cytokine\\_0\\_ENA78\\_\\_CXCL5 & cytokine\\_0\\_Eotaxin\\_\\_CCL11 & cytokine\\_0\\_Eotaxin2\\_\\_CCL24 & ⋯ & single\\_cell\\_0\\_Treg\\_\\_VIM & single\\_cell\\_0\\_Treg\\_\\_YBX1 & single\\_cell\\_0\\_Treg\\_\\_YPEL5 & single\\_cell\\_0\\_Treg\\_\\_YWHAB & single\\_cell\\_0\\_Treg\\_\\_YWHAZ & single\\_cell\\_0\\_Treg\\_\\_ZC3HAV1 & single\\_cell\\_0\\_Treg\\_\\_ZFAS1 & single\\_cell\\_0\\_Treg\\_\\_ZFP36 & single\\_cell\\_0\\_Treg\\_\\_ZFP36L2 & single\\_cell\\_0\\_Treg\\_\\_ZNF331\\\\\n",
       "  & <dbl> & <dbl> & <dbl> & <dbl> & <dbl> & <dbl> & <dbl> & <dbl> & <dbl> & <dbl> & ⋯ & <dbl> & <dbl> & <dbl> & <dbl> & <dbl> & <dbl> & <dbl> & <dbl> & <dbl> & <dbl>\\\\\n",
       "\\hline\n",
       "\tk1 & 5.459432 & NA & 0.4854268 & 0.01863417 & 5.696550 & 9.821662 & 5.045268 & 10.562366 & 7.42341 & 8.755388 & ⋯ &       NA &       NA &       NA &       NA &       NA &        NA &       NA &       NA &       NA &       NA\\\\\n",
       "\tk10 &       NA & NA & 0.2630344 &         NA & 4.697663 & 9.701220 & 1.922198 &  7.724173 & 9.19842 & 9.728363 & ⋯ & 2.356913 & 1.735349 & 1.695393 & 1.772633 & 1.975818 & 0.9466424 & 1.417687 & 1.670544 & 1.474395 & 1.695393\\\\\n",
       "\\end{tabular}\n"
      ],
      "text/markdown": [
       "\n",
       "A data.frame: 2 × 9145\n",
       "\n",
       "| <!--/--> | clinical_data_0_CK &lt;dbl&gt; | clinical_data_0_CK_MB &lt;dbl&gt; | clinical_data_0_CRP &lt;dbl&gt; | clinical_data_0_Troponin &lt;dbl&gt; | cytokine_0_BCA1__CXCL13 &lt;dbl&gt; | cytokine_0_CTACK__CCL27 &lt;dbl&gt; | cytokine_0_EGF__EGF &lt;dbl&gt; | cytokine_0_ENA78__CXCL5 &lt;dbl&gt; | cytokine_0_Eotaxin__CCL11 &lt;dbl&gt; | cytokine_0_Eotaxin2__CCL24 &lt;dbl&gt; | ⋯ ⋯ | single_cell_0_Treg__VIM &lt;dbl&gt; | single_cell_0_Treg__YBX1 &lt;dbl&gt; | single_cell_0_Treg__YPEL5 &lt;dbl&gt; | single_cell_0_Treg__YWHAB &lt;dbl&gt; | single_cell_0_Treg__YWHAZ &lt;dbl&gt; | single_cell_0_Treg__ZC3HAV1 &lt;dbl&gt; | single_cell_0_Treg__ZFAS1 &lt;dbl&gt; | single_cell_0_Treg__ZFP36 &lt;dbl&gt; | single_cell_0_Treg__ZFP36L2 &lt;dbl&gt; | single_cell_0_Treg__ZNF331 &lt;dbl&gt; |\n",
       "|---|---|---|---|---|---|---|---|---|---|---|---|---|---|---|---|---|---|---|---|---|---|\n",
       "| k1 | 5.459432 | NA | 0.4854268 | 0.01863417 | 5.696550 | 9.821662 | 5.045268 | 10.562366 | 7.42341 | 8.755388 | ⋯ |       NA |       NA |       NA |       NA |       NA |        NA |       NA |       NA |       NA |       NA |\n",
       "| k10 |       NA | NA | 0.2630344 |         NA | 4.697663 | 9.701220 | 1.922198 |  7.724173 | 9.19842 | 9.728363 | ⋯ | 2.356913 | 1.735349 | 1.695393 | 1.772633 | 1.975818 | 0.9466424 | 1.417687 | 1.670544 | 1.474395 | 1.695393 |\n",
       "\n"
      ],
      "text/plain": [
       "    clinical_data_0_CK clinical_data_0_CK_MB clinical_data_0_CRP\n",
       "k1  5.459432           NA                    0.4854268          \n",
       "k10       NA           NA                    0.2630344          \n",
       "    clinical_data_0_Troponin cytokine_0_BCA1__CXCL13 cytokine_0_CTACK__CCL27\n",
       "k1  0.01863417               5.696550                9.821662               \n",
       "k10         NA               4.697663                9.701220               \n",
       "    cytokine_0_EGF__EGF cytokine_0_ENA78__CXCL5 cytokine_0_Eotaxin__CCL11\n",
       "k1  5.045268            10.562366               7.42341                  \n",
       "k10 1.922198             7.724173               9.19842                  \n",
       "    cytokine_0_Eotaxin2__CCL24 ⋯ single_cell_0_Treg__VIM\n",
       "k1  8.755388                   ⋯       NA               \n",
       "k10 9.728363                   ⋯ 2.356913               \n",
       "    single_cell_0_Treg__YBX1 single_cell_0_Treg__YPEL5\n",
       "k1        NA                       NA                 \n",
       "k10 1.735349                 1.695393                 \n",
       "    single_cell_0_Treg__YWHAB single_cell_0_Treg__YWHAZ\n",
       "k1        NA                        NA                 \n",
       "k10 1.772633                  1.975818                 \n",
       "    single_cell_0_Treg__ZC3HAV1 single_cell_0_Treg__ZFAS1\n",
       "k1         NA                         NA                 \n",
       "k10 0.9466424                   1.417687                 \n",
       "    single_cell_0_Treg__ZFP36 single_cell_0_Treg__ZFP36L2\n",
       "k1        NA                        NA                   \n",
       "k10 1.670544                  1.474395                   \n",
       "    single_cell_0_Treg__ZNF331\n",
       "k1        NA                  \n",
       "k10 1.695393                  "
      ]
     },
     "metadata": {},
     "output_type": "display_data"
    }
   ],
   "source": [
    "head(final_data,2)"
   ]
  },
  {
   "cell_type": "code",
   "execution_count": 101,
   "id": "6d120839-4ce4-4107-9541-95fe26617648",
   "metadata": {},
   "outputs": [
    {
     "data": {
      "text/html": [
       "FALSE"
      ],
      "text/latex": [
       "FALSE"
      ],
      "text/markdown": [
       "FALSE"
      ],
      "text/plain": [
       "[1] FALSE"
      ]
     },
     "metadata": {},
     "output_type": "display_data"
    }
   ],
   "source": [
    "set_zero_na"
   ]
  },
  {
   "cell_type": "code",
   "execution_count": 102,
   "id": "679d17db-4b73-4c2f-a00c-c060c95ceff6",
   "metadata": {},
   "outputs": [],
   "source": [
    "if(set_zero_na == TRUE){\n",
    "    final_data[final_data == 0] = NA\n",
    "    }"
   ]
  },
  {
   "cell_type": "code",
   "execution_count": 103,
   "id": "f3776bf2-736f-4173-8c37-f1df95eb3c96",
   "metadata": {},
   "outputs": [],
   "source": [
    "### Remember NA's to fill in later "
   ]
  },
  {
   "cell_type": "code",
   "execution_count": 104,
   "id": "4647f11f-c1dd-454f-98bc-64242b5fa040",
   "metadata": {},
   "outputs": [],
   "source": [
    "data_nas = is.na(final_data)"
   ]
  },
  {
   "cell_type": "code",
   "execution_count": 105,
   "id": "b0f6cd3d-2f52-4722-8b02-85bb78b4398a",
   "metadata": {},
   "outputs": [
    {
     "data": {
      "text/html": [
       "<table class=\"dataframe\">\n",
       "<caption>A matrix: 2 × 9145 of type lgl</caption>\n",
       "<thead>\n",
       "\t<tr><th></th><th scope=col>clinical_data_0_CK</th><th scope=col>clinical_data_0_CK_MB</th><th scope=col>clinical_data_0_CRP</th><th scope=col>clinical_data_0_Troponin</th><th scope=col>cytokine_0_BCA1__CXCL13</th><th scope=col>cytokine_0_CTACK__CCL27</th><th scope=col>cytokine_0_EGF__EGF</th><th scope=col>cytokine_0_ENA78__CXCL5</th><th scope=col>cytokine_0_Eotaxin__CCL11</th><th scope=col>cytokine_0_Eotaxin2__CCL24</th><th scope=col>⋯</th><th scope=col>single_cell_0_Treg__VIM</th><th scope=col>single_cell_0_Treg__YBX1</th><th scope=col>single_cell_0_Treg__YPEL5</th><th scope=col>single_cell_0_Treg__YWHAB</th><th scope=col>single_cell_0_Treg__YWHAZ</th><th scope=col>single_cell_0_Treg__ZC3HAV1</th><th scope=col>single_cell_0_Treg__ZFAS1</th><th scope=col>single_cell_0_Treg__ZFP36</th><th scope=col>single_cell_0_Treg__ZFP36L2</th><th scope=col>single_cell_0_Treg__ZNF331</th></tr>\n",
       "</thead>\n",
       "<tbody>\n",
       "\t<tr><th scope=row>k1</th><td>FALSE</td><td>TRUE</td><td>FALSE</td><td>FALSE</td><td>FALSE</td><td>FALSE</td><td>FALSE</td><td>FALSE</td><td>FALSE</td><td>FALSE</td><td>⋯</td><td> TRUE</td><td> TRUE</td><td> TRUE</td><td> TRUE</td><td> TRUE</td><td> TRUE</td><td> TRUE</td><td> TRUE</td><td> TRUE</td><td> TRUE</td></tr>\n",
       "\t<tr><th scope=row>k10</th><td> TRUE</td><td>TRUE</td><td>FALSE</td><td> TRUE</td><td>FALSE</td><td>FALSE</td><td>FALSE</td><td>FALSE</td><td>FALSE</td><td>FALSE</td><td>⋯</td><td>FALSE</td><td>FALSE</td><td>FALSE</td><td>FALSE</td><td>FALSE</td><td>FALSE</td><td>FALSE</td><td>FALSE</td><td>FALSE</td><td>FALSE</td></tr>\n",
       "</tbody>\n",
       "</table>\n"
      ],
      "text/latex": [
       "A matrix: 2 × 9145 of type lgl\n",
       "\\begin{tabular}{r|lllllllllllllllllllll}\n",
       "  & clinical\\_data\\_0\\_CK & clinical\\_data\\_0\\_CK\\_MB & clinical\\_data\\_0\\_CRP & clinical\\_data\\_0\\_Troponin & cytokine\\_0\\_BCA1\\_\\_CXCL13 & cytokine\\_0\\_CTACK\\_\\_CCL27 & cytokine\\_0\\_EGF\\_\\_EGF & cytokine\\_0\\_ENA78\\_\\_CXCL5 & cytokine\\_0\\_Eotaxin\\_\\_CCL11 & cytokine\\_0\\_Eotaxin2\\_\\_CCL24 & ⋯ & single\\_cell\\_0\\_Treg\\_\\_VIM & single\\_cell\\_0\\_Treg\\_\\_YBX1 & single\\_cell\\_0\\_Treg\\_\\_YPEL5 & single\\_cell\\_0\\_Treg\\_\\_YWHAB & single\\_cell\\_0\\_Treg\\_\\_YWHAZ & single\\_cell\\_0\\_Treg\\_\\_ZC3HAV1 & single\\_cell\\_0\\_Treg\\_\\_ZFAS1 & single\\_cell\\_0\\_Treg\\_\\_ZFP36 & single\\_cell\\_0\\_Treg\\_\\_ZFP36L2 & single\\_cell\\_0\\_Treg\\_\\_ZNF331\\\\\n",
       "\\hline\n",
       "\tk1 & FALSE & TRUE & FALSE & FALSE & FALSE & FALSE & FALSE & FALSE & FALSE & FALSE & ⋯ &  TRUE &  TRUE &  TRUE &  TRUE &  TRUE &  TRUE &  TRUE &  TRUE &  TRUE &  TRUE\\\\\n",
       "\tk10 &  TRUE & TRUE & FALSE &  TRUE & FALSE & FALSE & FALSE & FALSE & FALSE & FALSE & ⋯ & FALSE & FALSE & FALSE & FALSE & FALSE & FALSE & FALSE & FALSE & FALSE & FALSE\\\\\n",
       "\\end{tabular}\n"
      ],
      "text/markdown": [
       "\n",
       "A matrix: 2 × 9145 of type lgl\n",
       "\n",
       "| <!--/--> | clinical_data_0_CK | clinical_data_0_CK_MB | clinical_data_0_CRP | clinical_data_0_Troponin | cytokine_0_BCA1__CXCL13 | cytokine_0_CTACK__CCL27 | cytokine_0_EGF__EGF | cytokine_0_ENA78__CXCL5 | cytokine_0_Eotaxin__CCL11 | cytokine_0_Eotaxin2__CCL24 | ⋯ | single_cell_0_Treg__VIM | single_cell_0_Treg__YBX1 | single_cell_0_Treg__YPEL5 | single_cell_0_Treg__YWHAB | single_cell_0_Treg__YWHAZ | single_cell_0_Treg__ZC3HAV1 | single_cell_0_Treg__ZFAS1 | single_cell_0_Treg__ZFP36 | single_cell_0_Treg__ZFP36L2 | single_cell_0_Treg__ZNF331 |\n",
       "|---|---|---|---|---|---|---|---|---|---|---|---|---|---|---|---|---|---|---|---|---|---|\n",
       "| k1 | FALSE | TRUE | FALSE | FALSE | FALSE | FALSE | FALSE | FALSE | FALSE | FALSE | ⋯ |  TRUE |  TRUE |  TRUE |  TRUE |  TRUE |  TRUE |  TRUE |  TRUE |  TRUE |  TRUE |\n",
       "| k10 |  TRUE | TRUE | FALSE |  TRUE | FALSE | FALSE | FALSE | FALSE | FALSE | FALSE | ⋯ | FALSE | FALSE | FALSE | FALSE | FALSE | FALSE | FALSE | FALSE | FALSE | FALSE |\n",
       "\n"
      ],
      "text/plain": [
       "    clinical_data_0_CK clinical_data_0_CK_MB clinical_data_0_CRP\n",
       "k1  FALSE              TRUE                  FALSE              \n",
       "k10  TRUE              TRUE                  FALSE              \n",
       "    clinical_data_0_Troponin cytokine_0_BCA1__CXCL13 cytokine_0_CTACK__CCL27\n",
       "k1  FALSE                    FALSE                   FALSE                  \n",
       "k10  TRUE                    FALSE                   FALSE                  \n",
       "    cytokine_0_EGF__EGF cytokine_0_ENA78__CXCL5 cytokine_0_Eotaxin__CCL11\n",
       "k1  FALSE               FALSE                   FALSE                    \n",
       "k10 FALSE               FALSE                   FALSE                    \n",
       "    cytokine_0_Eotaxin2__CCL24 ⋯ single_cell_0_Treg__VIM\n",
       "k1  FALSE                      ⋯  TRUE                  \n",
       "k10 FALSE                      ⋯ FALSE                  \n",
       "    single_cell_0_Treg__YBX1 single_cell_0_Treg__YPEL5\n",
       "k1   TRUE                     TRUE                    \n",
       "k10 FALSE                    FALSE                    \n",
       "    single_cell_0_Treg__YWHAB single_cell_0_Treg__YWHAZ\n",
       "k1   TRUE                      TRUE                    \n",
       "k10 FALSE                     FALSE                    \n",
       "    single_cell_0_Treg__ZC3HAV1 single_cell_0_Treg__ZFAS1\n",
       "k1   TRUE                        TRUE                    \n",
       "k10 FALSE                       FALSE                    \n",
       "    single_cell_0_Treg__ZFP36 single_cell_0_Treg__ZFP36L2\n",
       "k1   TRUE                      TRUE                      \n",
       "k10 FALSE                     FALSE                      \n",
       "    single_cell_0_Treg__ZNF331\n",
       "k1   TRUE                     \n",
       "k10 FALSE                     "
      ]
     },
     "metadata": {},
     "output_type": "display_data"
    }
   ],
   "source": [
    "head(data_nas,2)"
   ]
  },
  {
   "cell_type": "code",
   "execution_count": 106,
   "id": "ad376668-fbaf-48da-8b55-7262a8498922",
   "metadata": {},
   "outputs": [
    {
     "data": {
      "text/html": [
       "<style>\n",
       ".dl-inline {width: auto; margin:0; padding: 0}\n",
       ".dl-inline>dt, .dl-inline>dd {float: none; width: auto; display: inline-block}\n",
       ".dl-inline>dt::after {content: \":\\0020\"; padding-right: .5ex}\n",
       ".dl-inline>dt:not(:first-of-type) {padding-left: .5ex}\n",
       "</style><dl class=dl-inline><dt>k1</dt><dd>8185</dd><dt>k10</dt><dd>3</dd><dt>k11</dt><dd>1</dd><dt>k12</dt><dd>2</dd><dt>k13</dt><dd>1</dd><dt>k14</dt><dd>1</dd><dt>k15</dt><dd>893</dd><dt>k16</dt><dd>2</dd><dt>k17</dt><dd>1</dd><dt>k18</dt><dd>894</dd><dt>k19</dt><dd>2</dd><dt>k2</dt><dd>895</dd><dt>k20</dt><dd>3</dd><dt>k21</dt><dd>893</dd><dt>k22</dt><dd>0</dd><dt>k23</dt><dd>893</dd><dt>k24</dt><dd>893</dd><dt>k25</dt><dd>0</dd><dt>k26</dt><dd>0</dd><dt>k27</dt><dd>893</dd><dt>k28</dt><dd>2</dd><dt>k29</dt><dd>1386</dd><dt>k3</dt><dd>4</dd><dt>k30</dt><dd>0</dd><dt>k31</dt><dd>893</dd><dt>k32</dt><dd>2</dd><dt>k33</dt><dd>1</dd><dt>k34</dt><dd>2</dd><dt>k4</dt><dd>893</dd><dt>k5</dt><dd>0</dd><dt>k6</dt><dd>1</dd><dt>k7</dt><dd>1</dd><dt>k8</dt><dd>0</dd><dt>k9</dt><dd>896</dd><dt>m1.1</dt><dd>892</dd><dt>m1.2</dt><dd>9145</dd><dt>m1.3</dt><dd>9145</dd><dt>m1.4</dt><dd>9145</dd><dt>m10.1</dt><dd>7694</dd><dt>m10.2</dt><dd>1</dd><dt>m10.3</dt><dd>0</dd><dt>m10.4</dt><dd>9145</dd><dt>m11.1</dt><dd>8586</dd><dt>m11.2</dt><dd>0</dd><dt>m11.3</dt><dd>1</dd><dt>m11.4</dt><dd>2</dd><dt>m12.1</dt><dd>893</dd><dt>m12.2</dt><dd>0</dd><dt>m12.3</dt><dd>9145</dd><dt>m12.4</dt><dd>9145</dd><dt>m13.1</dt><dd>0</dd><dt>m13.2</dt><dd>892</dd><dt>m13.3</dt><dd>0</dd><dt>m13.4</dt><dd>1</dd><dt>m14.1</dt><dd>0</dd><dt>m14.2</dt><dd>892</dd><dt>m14.3</dt><dd>7694</dd><dt>m14.4</dt><dd>7695</dd><dt>m15.1</dt><dd>0</dd><dt>m15.2</dt><dd>892</dd><dt>m15.3</dt><dd>0</dd><dt>m15.4</dt><dd>0</dd><dt>m16.1</dt><dd>892</dd><dt>m16.2</dt><dd>0</dd><dt>m16.3</dt><dd>9145</dd><dt>m16.4</dt><dd>9145</dd><dt>m17.1</dt><dd>0</dd><dt>m17.2</dt><dd>9145</dd><dt>m17.3</dt><dd>9145</dd><dt>m17.4</dt><dd>9145</dd><dt>m18.1</dt><dd>0</dd><dt>m18.2</dt><dd>892</dd><dt>m18.3</dt><dd>1</dd><dt>m18.4</dt><dd>9145</dd><dt>m19.1</dt><dd>0</dd><dt>m19.2</dt><dd>0</dd><dt>m19.3</dt><dd>893</dd><dt>m19.4</dt><dd>9145</dd><dt>m2.1</dt><dd>1</dd><dt>m2.2</dt><dd>892</dd><dt>m2.3</dt><dd>892</dd><dt>m2.4</dt><dd>893</dd><dt>m20.1</dt><dd>8587</dd><dt>m20.2</dt><dd>7694</dd><dt>m20.3</dt><dd>892</dd><dt>m20.4</dt><dd>1</dd><dt>m21.1</dt><dd>0</dd><dt>m21.2</dt><dd>0</dd><dt>m21.3</dt><dd>2</dd><dt>m21.4</dt><dd>2</dd><dt>m22.1</dt><dd>0</dd><dt>m22.2</dt><dd>0</dd><dt>m22.3</dt><dd>893</dd><dt>m22.4</dt><dd>0</dd><dt>m23.1</dt><dd>1</dd><dt>m23.2</dt><dd>490</dd><dt>m23.3</dt><dd>1447</dd><dt>m23.4</dt><dd>1</dd><dt>m24.1</dt><dd>8184</dd><dt>m24.2</dt><dd>0</dd><dt>m24.3</dt><dd>2</dd><dt>m24.4</dt><dd>3</dd><dt>m25.1</dt><dd>2</dd><dt>m25.2</dt><dd>1</dd><dt>m25.3</dt><dd>2</dd><dt>m25.4</dt><dd>9145</dd><dt>m26.1</dt><dd>490</dd><dt>m26.2</dt><dd>0</dd><dt>m26.3</dt><dd>892</dd><dt>m26.4</dt><dd>556</dd><dt>m27.1</dt><dd>1</dd><dt>m27.2</dt><dd>0</dd><dt>m27.3</dt><dd>0</dd><dt>m27.4</dt><dd>9145</dd><dt>m28.1</dt><dd>9145</dd><dt>m28.2</dt><dd>0</dd><dt>m28.3</dt><dd>1</dd><dt>m28.4</dt><dd>2</dd><dt>m3.1</dt><dd>9145</dd><dt>m3.2</dt><dd>0</dd><dt>m3.3</dt><dd>0</dd><dt>m3.4</dt><dd>0</dd><dt>m4.1</dt><dd>490</dd><dt>m4.2</dt><dd>1</dd><dt>m4.3</dt><dd>0</dd><dt>m4.4</dt><dd>2</dd><dt>m5.1</dt><dd>0</dd><dt>m5.2</dt><dd>8586</dd><dt>m5.3</dt><dd>0</dd><dt>m5.4</dt><dd>893</dd><dt>m6.1</dt><dd>1382</dd><dt>m6.2</dt><dd>893</dd><dt>m6.3</dt><dd>0</dd><dt>m6.4</dt><dd>1</dd><dt>m7.1</dt><dd>892</dd><dt>m7.2</dt><dd>1</dd><dt>m7.3</dt><dd>0</dd><dt>m7.4</dt><dd>894</dd><dt>m8.1</dt><dd>1</dd><dt>m8.2</dt><dd>1</dd><dt>m8.3</dt><dd>2</dd><dt>m8.4</dt><dd>3</dd><dt>m9.1</dt><dd>892</dd><dt>m9.2</dt><dd>893</dd><dt>m9.3</dt><dd>0</dd><dt>m9.4</dt><dd>9145</dd></dl>\n"
      ],
      "text/latex": [
       "\\begin{description*}\n",
       "\\item[k1] 8185\n",
       "\\item[k10] 3\n",
       "\\item[k11] 1\n",
       "\\item[k12] 2\n",
       "\\item[k13] 1\n",
       "\\item[k14] 1\n",
       "\\item[k15] 893\n",
       "\\item[k16] 2\n",
       "\\item[k17] 1\n",
       "\\item[k18] 894\n",
       "\\item[k19] 2\n",
       "\\item[k2] 895\n",
       "\\item[k20] 3\n",
       "\\item[k21] 893\n",
       "\\item[k22] 0\n",
       "\\item[k23] 893\n",
       "\\item[k24] 893\n",
       "\\item[k25] 0\n",
       "\\item[k26] 0\n",
       "\\item[k27] 893\n",
       "\\item[k28] 2\n",
       "\\item[k29] 1386\n",
       "\\item[k3] 4\n",
       "\\item[k30] 0\n",
       "\\item[k31] 893\n",
       "\\item[k32] 2\n",
       "\\item[k33] 1\n",
       "\\item[k34] 2\n",
       "\\item[k4] 893\n",
       "\\item[k5] 0\n",
       "\\item[k6] 1\n",
       "\\item[k7] 1\n",
       "\\item[k8] 0\n",
       "\\item[k9] 896\n",
       "\\item[m1.1] 892\n",
       "\\item[m1.2] 9145\n",
       "\\item[m1.3] 9145\n",
       "\\item[m1.4] 9145\n",
       "\\item[m10.1] 7694\n",
       "\\item[m10.2] 1\n",
       "\\item[m10.3] 0\n",
       "\\item[m10.4] 9145\n",
       "\\item[m11.1] 8586\n",
       "\\item[m11.2] 0\n",
       "\\item[m11.3] 1\n",
       "\\item[m11.4] 2\n",
       "\\item[m12.1] 893\n",
       "\\item[m12.2] 0\n",
       "\\item[m12.3] 9145\n",
       "\\item[m12.4] 9145\n",
       "\\item[m13.1] 0\n",
       "\\item[m13.2] 892\n",
       "\\item[m13.3] 0\n",
       "\\item[m13.4] 1\n",
       "\\item[m14.1] 0\n",
       "\\item[m14.2] 892\n",
       "\\item[m14.3] 7694\n",
       "\\item[m14.4] 7695\n",
       "\\item[m15.1] 0\n",
       "\\item[m15.2] 892\n",
       "\\item[m15.3] 0\n",
       "\\item[m15.4] 0\n",
       "\\item[m16.1] 892\n",
       "\\item[m16.2] 0\n",
       "\\item[m16.3] 9145\n",
       "\\item[m16.4] 9145\n",
       "\\item[m17.1] 0\n",
       "\\item[m17.2] 9145\n",
       "\\item[m17.3] 9145\n",
       "\\item[m17.4] 9145\n",
       "\\item[m18.1] 0\n",
       "\\item[m18.2] 892\n",
       "\\item[m18.3] 1\n",
       "\\item[m18.4] 9145\n",
       "\\item[m19.1] 0\n",
       "\\item[m19.2] 0\n",
       "\\item[m19.3] 893\n",
       "\\item[m19.4] 9145\n",
       "\\item[m2.1] 1\n",
       "\\item[m2.2] 892\n",
       "\\item[m2.3] 892\n",
       "\\item[m2.4] 893\n",
       "\\item[m20.1] 8587\n",
       "\\item[m20.2] 7694\n",
       "\\item[m20.3] 892\n",
       "\\item[m20.4] 1\n",
       "\\item[m21.1] 0\n",
       "\\item[m21.2] 0\n",
       "\\item[m21.3] 2\n",
       "\\item[m21.4] 2\n",
       "\\item[m22.1] 0\n",
       "\\item[m22.2] 0\n",
       "\\item[m22.3] 893\n",
       "\\item[m22.4] 0\n",
       "\\item[m23.1] 1\n",
       "\\item[m23.2] 490\n",
       "\\item[m23.3] 1447\n",
       "\\item[m23.4] 1\n",
       "\\item[m24.1] 8184\n",
       "\\item[m24.2] 0\n",
       "\\item[m24.3] 2\n",
       "\\item[m24.4] 3\n",
       "\\item[m25.1] 2\n",
       "\\item[m25.2] 1\n",
       "\\item[m25.3] 2\n",
       "\\item[m25.4] 9145\n",
       "\\item[m26.1] 490\n",
       "\\item[m26.2] 0\n",
       "\\item[m26.3] 892\n",
       "\\item[m26.4] 556\n",
       "\\item[m27.1] 1\n",
       "\\item[m27.2] 0\n",
       "\\item[m27.3] 0\n",
       "\\item[m27.4] 9145\n",
       "\\item[m28.1] 9145\n",
       "\\item[m28.2] 0\n",
       "\\item[m28.3] 1\n",
       "\\item[m28.4] 2\n",
       "\\item[m3.1] 9145\n",
       "\\item[m3.2] 0\n",
       "\\item[m3.3] 0\n",
       "\\item[m3.4] 0\n",
       "\\item[m4.1] 490\n",
       "\\item[m4.2] 1\n",
       "\\item[m4.3] 0\n",
       "\\item[m4.4] 2\n",
       "\\item[m5.1] 0\n",
       "\\item[m5.2] 8586\n",
       "\\item[m5.3] 0\n",
       "\\item[m5.4] 893\n",
       "\\item[m6.1] 1382\n",
       "\\item[m6.2] 893\n",
       "\\item[m6.3] 0\n",
       "\\item[m6.4] 1\n",
       "\\item[m7.1] 892\n",
       "\\item[m7.2] 1\n",
       "\\item[m7.3] 0\n",
       "\\item[m7.4] 894\n",
       "\\item[m8.1] 1\n",
       "\\item[m8.2] 1\n",
       "\\item[m8.3] 2\n",
       "\\item[m8.4] 3\n",
       "\\item[m9.1] 892\n",
       "\\item[m9.2] 893\n",
       "\\item[m9.3] 0\n",
       "\\item[m9.4] 9145\n",
       "\\end{description*}\n"
      ],
      "text/markdown": [
       "k1\n",
       ":   8185k10\n",
       ":   3k11\n",
       ":   1k12\n",
       ":   2k13\n",
       ":   1k14\n",
       ":   1k15\n",
       ":   893k16\n",
       ":   2k17\n",
       ":   1k18\n",
       ":   894k19\n",
       ":   2k2\n",
       ":   895k20\n",
       ":   3k21\n",
       ":   893k22\n",
       ":   0k23\n",
       ":   893k24\n",
       ":   893k25\n",
       ":   0k26\n",
       ":   0k27\n",
       ":   893k28\n",
       ":   2k29\n",
       ":   1386k3\n",
       ":   4k30\n",
       ":   0k31\n",
       ":   893k32\n",
       ":   2k33\n",
       ":   1k34\n",
       ":   2k4\n",
       ":   893k5\n",
       ":   0k6\n",
       ":   1k7\n",
       ":   1k8\n",
       ":   0k9\n",
       ":   896m1.1\n",
       ":   892m1.2\n",
       ":   9145m1.3\n",
       ":   9145m1.4\n",
       ":   9145m10.1\n",
       ":   7694m10.2\n",
       ":   1m10.3\n",
       ":   0m10.4\n",
       ":   9145m11.1\n",
       ":   8586m11.2\n",
       ":   0m11.3\n",
       ":   1m11.4\n",
       ":   2m12.1\n",
       ":   893m12.2\n",
       ":   0m12.3\n",
       ":   9145m12.4\n",
       ":   9145m13.1\n",
       ":   0m13.2\n",
       ":   892m13.3\n",
       ":   0m13.4\n",
       ":   1m14.1\n",
       ":   0m14.2\n",
       ":   892m14.3\n",
       ":   7694m14.4\n",
       ":   7695m15.1\n",
       ":   0m15.2\n",
       ":   892m15.3\n",
       ":   0m15.4\n",
       ":   0m16.1\n",
       ":   892m16.2\n",
       ":   0m16.3\n",
       ":   9145m16.4\n",
       ":   9145m17.1\n",
       ":   0m17.2\n",
       ":   9145m17.3\n",
       ":   9145m17.4\n",
       ":   9145m18.1\n",
       ":   0m18.2\n",
       ":   892m18.3\n",
       ":   1m18.4\n",
       ":   9145m19.1\n",
       ":   0m19.2\n",
       ":   0m19.3\n",
       ":   893m19.4\n",
       ":   9145m2.1\n",
       ":   1m2.2\n",
       ":   892m2.3\n",
       ":   892m2.4\n",
       ":   893m20.1\n",
       ":   8587m20.2\n",
       ":   7694m20.3\n",
       ":   892m20.4\n",
       ":   1m21.1\n",
       ":   0m21.2\n",
       ":   0m21.3\n",
       ":   2m21.4\n",
       ":   2m22.1\n",
       ":   0m22.2\n",
       ":   0m22.3\n",
       ":   893m22.4\n",
       ":   0m23.1\n",
       ":   1m23.2\n",
       ":   490m23.3\n",
       ":   1447m23.4\n",
       ":   1m24.1\n",
       ":   8184m24.2\n",
       ":   0m24.3\n",
       ":   2m24.4\n",
       ":   3m25.1\n",
       ":   2m25.2\n",
       ":   1m25.3\n",
       ":   2m25.4\n",
       ":   9145m26.1\n",
       ":   490m26.2\n",
       ":   0m26.3\n",
       ":   892m26.4\n",
       ":   556m27.1\n",
       ":   1m27.2\n",
       ":   0m27.3\n",
       ":   0m27.4\n",
       ":   9145m28.1\n",
       ":   9145m28.2\n",
       ":   0m28.3\n",
       ":   1m28.4\n",
       ":   2m3.1\n",
       ":   9145m3.2\n",
       ":   0m3.3\n",
       ":   0m3.4\n",
       ":   0m4.1\n",
       ":   490m4.2\n",
       ":   1m4.3\n",
       ":   0m4.4\n",
       ":   2m5.1\n",
       ":   0m5.2\n",
       ":   8586m5.3\n",
       ":   0m5.4\n",
       ":   893m6.1\n",
       ":   1382m6.2\n",
       ":   893m6.3\n",
       ":   0m6.4\n",
       ":   1m7.1\n",
       ":   892m7.2\n",
       ":   1m7.3\n",
       ":   0m7.4\n",
       ":   894m8.1\n",
       ":   1m8.2\n",
       ":   1m8.3\n",
       ":   2m8.4\n",
       ":   3m9.1\n",
       ":   892m9.2\n",
       ":   893m9.3\n",
       ":   0m9.4\n",
       ":   9145\n",
       "\n"
      ],
      "text/plain": [
       "   k1   k10   k11   k12   k13   k14   k15   k16   k17   k18   k19    k2   k20 \n",
       " 8185     3     1     2     1     1   893     2     1   894     2   895     3 \n",
       "  k21   k22   k23   k24   k25   k26   k27   k28   k29    k3   k30   k31   k32 \n",
       "  893     0   893   893     0     0   893     2  1386     4     0   893     2 \n",
       "  k33   k34    k4    k5    k6    k7    k8    k9  m1.1  m1.2  m1.3  m1.4 m10.1 \n",
       "    1     2   893     0     1     1     0   896   892  9145  9145  9145  7694 \n",
       "m10.2 m10.3 m10.4 m11.1 m11.2 m11.3 m11.4 m12.1 m12.2 m12.3 m12.4 m13.1 m13.2 \n",
       "    1     0  9145  8586     0     1     2   893     0  9145  9145     0   892 \n",
       "m13.3 m13.4 m14.1 m14.2 m14.3 m14.4 m15.1 m15.2 m15.3 m15.4 m16.1 m16.2 m16.3 \n",
       "    0     1     0   892  7694  7695     0   892     0     0   892     0  9145 \n",
       "m16.4 m17.1 m17.2 m17.3 m17.4 m18.1 m18.2 m18.3 m18.4 m19.1 m19.2 m19.3 m19.4 \n",
       " 9145     0  9145  9145  9145     0   892     1  9145     0     0   893  9145 \n",
       " m2.1  m2.2  m2.3  m2.4 m20.1 m20.2 m20.3 m20.4 m21.1 m21.2 m21.3 m21.4 m22.1 \n",
       "    1   892   892   893  8587  7694   892     1     0     0     2     2     0 \n",
       "m22.2 m22.3 m22.4 m23.1 m23.2 m23.3 m23.4 m24.1 m24.2 m24.3 m24.4 m25.1 m25.2 \n",
       "    0   893     0     1   490  1447     1  8184     0     2     3     2     1 \n",
       "m25.3 m25.4 m26.1 m26.2 m26.3 m26.4 m27.1 m27.2 m27.3 m27.4 m28.1 m28.2 m28.3 \n",
       "    2  9145   490     0   892   556     1     0     0  9145  9145     0     1 \n",
       "m28.4  m3.1  m3.2  m3.3  m3.4  m4.1  m4.2  m4.3  m4.4  m5.1  m5.2  m5.3  m5.4 \n",
       "    2  9145     0     0     0   490     1     0     2     0  8586     0   893 \n",
       " m6.1  m6.2  m6.3  m6.4  m7.1  m7.2  m7.3  m7.4  m8.1  m8.2  m8.3  m8.4  m9.1 \n",
       " 1382   893     0     1   892     1     0   894     1     1     2     3   892 \n",
       " m9.2  m9.3  m9.4 \n",
       "  893     0  9145 "
      ]
     },
     "metadata": {},
     "output_type": "display_data"
    }
   ],
   "source": [
    "rowSums(data_nas)   # amount of NA values per sample"
   ]
  },
  {
   "cell_type": "code",
   "execution_count": 107,
   "id": "74a99bf7-0e4e-4f5e-8369-4884f416704f",
   "metadata": {},
   "outputs": [
    {
     "data": {
      "text/html": [
       "9145"
      ],
      "text/latex": [
       "9145"
      ],
      "text/markdown": [
       "9145"
      ],
      "text/plain": [
       "[1] 9145"
      ]
     },
     "metadata": {},
     "output_type": "display_data"
    }
   ],
   "source": [
    "ncol(final_data)"
   ]
  },
  {
   "cell_type": "code",
   "execution_count": 108,
   "id": "f7351533-2cd5-4c3d-8096-80a80aac4931",
   "metadata": {},
   "outputs": [],
   "source": [
    "### Only keep samples that do not have only NA values"
   ]
  },
  {
   "cell_type": "code",
   "execution_count": 109,
   "id": "27e1c1a6-98a0-4c7c-9f77-d7674c7be02b",
   "metadata": {},
   "outputs": [],
   "source": [
    "keep_samples = names(rowSums(data_nas))[rowSums(data_nas) != ncol(final_data)]"
   ]
  },
  {
   "cell_type": "code",
   "execution_count": 110,
   "id": "89d75d46-3c7e-4beb-bae7-35dbeb924c38",
   "metadata": {},
   "outputs": [],
   "source": [
    "final_data = final_data[keep_samples,]"
   ]
  },
  {
   "cell_type": "code",
   "execution_count": 111,
   "id": "b17e3716-6421-476a-b4b4-5531cd3093f9",
   "metadata": {},
   "outputs": [],
   "source": [
    "data_nas = data_nas[keep_samples,]"
   ]
  },
  {
   "cell_type": "code",
   "execution_count": 112,
   "id": "b4c04e45-1fc6-4bcb-9c85-299488092ad4",
   "metadata": {},
   "outputs": [
    {
     "data": {
      "text/html": [
       "128"
      ],
      "text/latex": [
       "128"
      ],
      "text/markdown": [
       "128"
      ],
      "text/plain": [
       "[1] 128"
      ]
     },
     "metadata": {},
     "output_type": "display_data"
    }
   ],
   "source": [
    "nrow(final_data)"
   ]
  },
  {
   "cell_type": "markdown",
   "id": "4853587a-afff-4dcb-b020-72cb3d374baf",
   "metadata": {
    "tags": []
   },
   "source": [
    "### Apply feature wise quantile normalization"
   ]
  },
  {
   "cell_type": "code",
   "execution_count": 114,
   "id": "5605293a-9a83-4f20-8fb4-bdf83b7b7d4b",
   "metadata": {},
   "outputs": [],
   "source": [
    "### Based on parameter"
   ]
  },
  {
   "cell_type": "code",
   "execution_count": 115,
   "id": "d0769092-80b4-487b-b86a-8de65d1f7581",
   "metadata": {},
   "outputs": [
    {
     "data": {
      "text/html": [
       "TRUE"
      ],
      "text/latex": [
       "TRUE"
      ],
      "text/markdown": [
       "TRUE"
      ],
      "text/plain": [
       "[1] TRUE"
      ]
     },
     "metadata": {},
     "output_type": "display_data"
    }
   ],
   "source": [
    "quantile_norm_feat"
   ]
  },
  {
   "cell_type": "code",
   "execution_count": 117,
   "id": "45865ffd-4f9d-48f8-b31c-72a0ea32f545",
   "metadata": {
    "tags": []
   },
   "outputs": [
    {
     "name": "stderr",
     "output_type": "stream",
     "text": [
      "Using sample_id as id variables\n",
      "\n"
     ]
    }
   ],
   "source": [
    "if(quantile_norm_feat == TRUE){\n",
    "    final_data = apply(final_data, 2,stdnorm)\n",
    "    final_data = data.frame(final_data)\n",
    "    final_data[data_nas] = NA\n",
    "    final_data$sample_id = rownames(final_data)\n",
    "    data_long = melt(final_data)\n",
    "    data_long$type = str_extract(data_long$variable, '.*_0_')\n",
    "    data_long$type  = str_replace(data_long$type , '_0_', '')\n",
    "    data_long$variable = str_replace(data_long$variable, '.*_0_', '')\n",
    "    }"
   ]
  },
  {
   "cell_type": "code",
   "execution_count": 119,
   "id": "320c65ad-3234-40af-b14d-408057d36f2d",
   "metadata": {},
   "outputs": [
    {
     "data": {
      "text/html": [
       "9145"
      ],
      "text/latex": [
       "9145"
      ],
      "text/markdown": [
       "9145"
      ],
      "text/plain": [
       "[1] 9145"
      ]
     },
     "metadata": {},
     "output_type": "display_data"
    }
   ],
   "source": [
    "length(unique(data_long$variable))"
   ]
  },
  {
   "cell_type": "markdown",
   "id": "62eb7d50-d66e-4906-8593-3521e5d60c1c",
   "metadata": {},
   "source": [
    "# Save Prepared Data"
   ]
  },
  {
   "cell_type": "code",
   "execution_count": 120,
   "id": "25f53057-cd66-409a-a317-cc492f1ac849",
   "metadata": {},
   "outputs": [
    {
     "data": {
      "text/html": [
       "'V_AZIMUTH_INTEGRATED'"
      ],
      "text/latex": [
       "'V\\_AZIMUTH\\_INTEGRATED'"
      ],
      "text/markdown": [
       "'V_AZIMUTH_INTEGRATED'"
      ],
      "text/plain": [
       "[1] \"V_AZIMUTH_INTEGRATED\""
      ]
     },
     "metadata": {},
     "output_type": "display_data"
    }
   ],
   "source": [
    "name_save"
   ]
  },
  {
   "cell_type": "code",
   "execution_count": 121,
   "id": "1f0955e6-7739-4f49-954d-7bb0ba89dca0",
   "metadata": {},
   "outputs": [],
   "source": [
    "write.csv(data_long, paste0(result_path, '/G-Analysis/Combined_Data_', name_save, '.csv'))"
   ]
  },
  {
   "cell_type": "code",
   "execution_count": 122,
   "id": "b21de238-0027-49b3-85ea-6680957b41b7",
   "metadata": {},
   "outputs": [
    {
     "data": {
      "text/html": [
       "9145"
      ],
      "text/latex": [
       "9145"
      ],
      "text/markdown": [
       "9145"
      ],
      "text/plain": [
       "[1] 9145"
      ]
     },
     "metadata": {},
     "output_type": "display_data"
    }
   ],
   "source": [
    "length(unique(data_long$variable))"
   ]
  },
  {
   "cell_type": "code",
   "execution_count": null,
   "id": "082c6ba4-f830-42a4-a6cd-bb4979b63ef8",
   "metadata": {},
   "outputs": [],
   "source": []
  }
 ],
 "metadata": {
  "kernelspec": {
   "display_name": "R",
   "language": "R",
   "name": "ir"
  },
  "language_info": {
   "codemirror_mode": "r",
   "file_extension": ".r",
   "mimetype": "text/x-r-source",
   "name": "R",
   "pygments_lexer": "r",
   "version": "4.1.1"
  }
 },
 "nbformat": 4,
 "nbformat_minor": 5
}

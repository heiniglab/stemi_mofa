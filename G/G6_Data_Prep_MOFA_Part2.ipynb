{
 "cells": [
  {
   "cell_type": "code",
   "execution_count": 1,
   "id": "1d600cf9-1e51-464d-a1a8-70a533a4d10f",
   "metadata": {},
   "outputs": [],
   "source": [
    "### Make adjustments to data for MOFA input from E1 + Prepare"
   ]
  },
  {
   "cell_type": "markdown",
   "id": "9884b8d7-1601-4893-ba06-70b0c412080a",
   "metadata": {
    "tags": []
   },
   "source": [
    "#############################################\n",
    "# Prerequisites - Load Libraries"
   ]
  },
  {
   "cell_type": "code",
   "execution_count": 2,
   "id": "54a82b83-e227-4303-a5ef-10d7c1f725d6",
   "metadata": {
    "tags": []
   },
   "outputs": [
    {
     "name": "stderr",
     "output_type": "stream",
     "text": [
      "\n",
      "Attaching package: ‘igraph’\n",
      "\n",
      "\n",
      "The following objects are masked from ‘package:stats’:\n",
      "\n",
      "    decompose, spectrum\n",
      "\n",
      "\n",
      "The following object is masked from ‘package:base’:\n",
      "\n",
      "    union\n",
      "\n",
      "\n",
      "\n",
      "Attaching package: ‘MatrixGenerics’\n",
      "\n",
      "\n",
      "The following objects are masked from ‘package:matrixStats’:\n",
      "\n",
      "    colAlls, colAnyNAs, colAnys, colAvgsPerRowSet, colCollapse,\n",
      "    colCounts, colCummaxs, colCummins, colCumprods, colCumsums,\n",
      "    colDiffs, colIQRDiffs, colIQRs, colLogSumExps, colMadDiffs,\n",
      "    colMads, colMaxs, colMeans2, colMedians, colMins, colOrderStats,\n",
      "    colProds, colQuantiles, colRanges, colRanks, colSdDiffs, colSds,\n",
      "    colSums2, colTabulates, colVarDiffs, colVars, colWeightedMads,\n",
      "    colWeightedMeans, colWeightedMedians, colWeightedSds,\n",
      "    colWeightedVars, rowAlls, rowAnyNAs, rowAnys, rowAvgsPerColSet,\n",
      "    rowCollapse, rowCounts, rowCummaxs, rowCummins, rowCumprods,\n",
      "    rowCumsums, rowDiffs, rowIQRDiffs, rowIQRs, rowLogSumExps,\n",
      "    rowMadDiffs, rowMads, rowMaxs, rowMeans2, rowMedians, rowMins,\n",
      "    rowOrderStats, rowProds, rowQuantiles, rowRanges, rowRanks,\n",
      "    rowSdDiffs, rowSds, rowSums2, rowTabulates, rowVarDiffs, rowVars,\n",
      "    rowWeightedMads, rowWeightedMeans, rowWeightedMedians,\n",
      "    rowWeightedSds, rowWeightedVars\n",
      "\n",
      "\n",
      "\n",
      "Attaching package: ‘BiocGenerics’\n",
      "\n",
      "\n",
      "The following objects are masked from ‘package:parallel’:\n",
      "\n",
      "    clusterApply, clusterApplyLB, clusterCall, clusterEvalQ,\n",
      "    clusterExport, clusterMap, parApply, parCapply, parLapply,\n",
      "    parLapplyLB, parRapply, parSapply, parSapplyLB\n",
      "\n",
      "\n",
      "The following objects are masked from ‘package:igraph’:\n",
      "\n",
      "    normalize, path, union\n",
      "\n",
      "\n",
      "The following objects are masked from ‘package:stats’:\n",
      "\n",
      "    IQR, mad, sd, var, xtabs\n",
      "\n",
      "\n",
      "The following objects are masked from ‘package:base’:\n",
      "\n",
      "    anyDuplicated, append, as.data.frame, basename, cbind, colnames,\n",
      "    dirname, do.call, duplicated, eval, evalq, Filter, Find, get, grep,\n",
      "    grepl, intersect, is.unsorted, lapply, Map, mapply, match, mget,\n",
      "    order, paste, pmax, pmax.int, pmin, pmin.int, Position, rank,\n",
      "    rbind, Reduce, rownames, sapply, setdiff, sort, table, tapply,\n",
      "    union, unique, unsplit, which.max, which.min\n",
      "\n",
      "\n",
      "\n",
      "Attaching package: ‘S4Vectors’\n",
      "\n",
      "\n",
      "The following objects are masked from ‘package:base’:\n",
      "\n",
      "    expand.grid, I, unname\n",
      "\n",
      "\n",
      "Welcome to Bioconductor\n",
      "\n",
      "    Vignettes contain introductory material; view with\n",
      "    'browseVignettes()'. To cite Bioconductor, see\n",
      "    'citation(\"Biobase\")', and for packages 'citation(\"pkgname\")'.\n",
      "\n",
      "\n",
      "\n",
      "Attaching package: ‘Biobase’\n",
      "\n",
      "\n",
      "The following object is masked from ‘package:MatrixGenerics’:\n",
      "\n",
      "    rowMedians\n",
      "\n",
      "\n",
      "The following objects are masked from ‘package:matrixStats’:\n",
      "\n",
      "    anyMissing, rowMedians\n",
      "\n",
      "\n",
      "Attaching SeuratObject\n",
      "\n",
      "Attaching sp\n",
      "\n",
      "\n",
      "Attaching package: ‘Seurat’\n",
      "\n",
      "\n",
      "The following object is masked from ‘package:SummarizedExperiment’:\n",
      "\n",
      "    Assays\n",
      "\n",
      "\n",
      "\n",
      "Attaching package: ‘Matrix’\n",
      "\n",
      "\n",
      "The following object is masked from ‘package:S4Vectors’:\n",
      "\n",
      "    expand\n",
      "\n",
      "\n",
      "\n",
      "Attaching package: ‘DelayedArray’\n",
      "\n",
      "\n",
      "The following object is masked from ‘package:igraph’:\n",
      "\n",
      "    simplify\n",
      "\n",
      "\n",
      "The following objects are masked from ‘package:base’:\n",
      "\n",
      "    aperm, apply, rowsum, scale, sweep\n",
      "\n",
      "\n",
      "\n",
      "Attaching package: ‘HDF5Array’\n",
      "\n",
      "\n",
      "The following object is masked from ‘package:rhdf5’:\n",
      "\n",
      "    h5ls\n",
      "\n",
      "\n",
      "Warning message in if (is.na(desc)) {:\n",
      "“the condition has length > 1 and only the first element will be used”\n",
      "Warning message in if (is.na(desc)) {:\n",
      "“the condition has length > 1 and only the first element will be used”\n",
      "Warning message in if (is.na(desc)) {:\n",
      "“the condition has length > 1 and only the first element will be used”\n",
      "Warning message in if (is.na(desc)) {:\n",
      "“the condition has length > 1 and only the first element will be used”\n",
      "Warning message in if (is.na(desc)) {:\n",
      "“the condition has length > 1 and only the first element will be used”\n",
      "Warning message in if (is.na(desc)) {:\n",
      "“the condition has length > 1 and only the first element will be used”\n",
      "Warning message in if (is.na(desc)) {:\n",
      "“the condition has length > 1 and only the first element will be used”\n",
      "Warning message in if (is.na(desc)) {:\n",
      "“the condition has length > 1 and only the first element will be used”\n",
      "Warning message in if (is.na(desc)) {:\n",
      "“the condition has length > 1 and only the first element will be used”\n",
      "Warning message in if (is.na(desc)) {:\n",
      "“the condition has length > 1 and only the first element will be used”\n",
      "Warning message in if (is.na(desc)) {:\n",
      "“the condition has length > 1 and only the first element will be used”\n",
      "Warning message in if (is.na(desc)) {:\n",
      "“the condition has length > 1 and only the first element will be used”\n",
      "Warning message in if (is.na(desc)) {:\n",
      "“the condition has length > 1 and only the first element will be used”\n",
      "Warning message in if (is.na(desc)) {:\n",
      "“the condition has length > 1 and only the first element will be used”\n",
      "Warning message in if (is.na(desc)) {:\n",
      "“the condition has length > 1 and only the first element will be used”\n",
      "Warning message in if (is.na(desc)) {:\n",
      "“the condition has length > 1 and only the first element will be used”\n",
      "Warning message in if (is.na(desc)) {:\n",
      "“the condition has length > 1 and only the first element will be used”\n",
      "Warning message in if (is.na(desc)) {:\n",
      "“the condition has length > 1 and only the first element will be used”\n",
      "Warning message in if (is.na(desc)) {:\n",
      "“the condition has length > 1 and only the first element will be used”\n",
      "Warning message in if (is.na(desc)) {:\n",
      "“the condition has length > 1 and only the first element will be used”\n",
      "Warning message in if (is.na(desc)) {:\n",
      "“the condition has length > 1 and only the first element will be used”\n",
      "Warning message in if (is.na(desc)) {:\n",
      "“the condition has length > 1 and only the first element will be used”\n",
      "Warning message in if (is.na(desc)) {:\n",
      "“the condition has length > 1 and only the first element will be used”\n",
      "── \u001b[1mInstalled datasets\u001b[22m ───────────────────────────────────── SeuratData v0.2.1 ──\n",
      "\n",
      "\u001b[32m✔\u001b[39m \u001b[34mpbmcref\u001b[39m 1.0.0                         \n",
      "\n",
      "\n",
      "────────────────────────────────────── Key ─────────────────────────────────────\n",
      "\n",
      "\u001b[32m✔\u001b[39m Dataset loaded successfully\n",
      "\u001b[33m❯\u001b[39m Dataset built with a newer version of Seurat than installed\n",
      "\u001b[31m❓\u001b[39m Unknown version of Seurat installed\n",
      "\n",
      "\n",
      "Registered S3 method overwritten by 'SeuratDisk':\n",
      "  method            from  \n",
      "  as.sparse.H5Group Seurat\n",
      "\n",
      "\n",
      "Attaching package: ‘gridExtra’\n",
      "\n",
      "\n",
      "The following object is masked from ‘package:Biobase’:\n",
      "\n",
      "    combine\n",
      "\n",
      "\n",
      "The following object is masked from ‘package:BiocGenerics’:\n",
      "\n",
      "    combine\n",
      "\n",
      "\n",
      "\n",
      "Attaching package: ‘dplyr’\n",
      "\n",
      "\n",
      "The following object is masked from ‘package:gridExtra’:\n",
      "\n",
      "    combine\n",
      "\n",
      "\n",
      "The following object is masked from ‘package:Biobase’:\n",
      "\n",
      "    combine\n",
      "\n",
      "\n",
      "The following objects are masked from ‘package:GenomicRanges’:\n",
      "\n",
      "    intersect, setdiff, union\n",
      "\n",
      "\n",
      "The following object is masked from ‘package:GenomeInfoDb’:\n",
      "\n",
      "    intersect\n",
      "\n",
      "\n",
      "The following objects are masked from ‘package:IRanges’:\n",
      "\n",
      "    collapse, desc, intersect, setdiff, slice, union\n",
      "\n",
      "\n",
      "The following objects are masked from ‘package:S4Vectors’:\n",
      "\n",
      "    first, intersect, rename, setdiff, setequal, union\n",
      "\n",
      "\n",
      "The following objects are masked from ‘package:BiocGenerics’:\n",
      "\n",
      "    combine, intersect, setdiff, union\n",
      "\n",
      "\n",
      "The following object is masked from ‘package:matrixStats’:\n",
      "\n",
      "    count\n",
      "\n",
      "\n",
      "The following objects are masked from ‘package:igraph’:\n",
      "\n",
      "    as_data_frame, groups, union\n",
      "\n",
      "\n",
      "The following objects are masked from ‘package:stats’:\n",
      "\n",
      "    filter, lag\n",
      "\n",
      "\n",
      "The following objects are masked from ‘package:base’:\n",
      "\n",
      "    intersect, setdiff, setequal, union\n",
      "\n",
      "\n",
      "\n",
      "Attaching package: ‘plotly’\n",
      "\n",
      "\n",
      "The following object is masked from ‘package:ggplot2’:\n",
      "\n",
      "    last_plot\n",
      "\n",
      "\n",
      "The following object is masked from ‘package:IRanges’:\n",
      "\n",
      "    slice\n",
      "\n",
      "\n",
      "The following object is masked from ‘package:S4Vectors’:\n",
      "\n",
      "    rename\n",
      "\n",
      "\n",
      "The following object is masked from ‘package:igraph’:\n",
      "\n",
      "    groups\n",
      "\n",
      "\n",
      "The following object is masked from ‘package:stats’:\n",
      "\n",
      "    filter\n",
      "\n",
      "\n",
      "The following object is masked from ‘package:graphics’:\n",
      "\n",
      "    layout\n",
      "\n",
      "\n",
      "Warning message in checkDepPackageVersion(dep_pkg = \"TMB\"):\n",
      "“Package version inconsistency detected.\n",
      "glmmTMB was built with TMB version 1.9.0\n",
      "Current TMB version is 1.9.1\n",
      "Please re-install glmmTMB from source or restore original ‘TMB’ package (see '?reinstalling' for more information)”\n",
      "\n",
      "Attaching package: ‘limma’\n",
      "\n",
      "\n",
      "The following object is masked from ‘package:scater’:\n",
      "\n",
      "    plotMDS\n",
      "\n",
      "\n",
      "The following object is masked from ‘package:BiocGenerics’:\n",
      "\n",
      "    plotMA\n",
      "\n",
      "\n",
      "\n",
      "Attaching package: ‘DESeq2’\n",
      "\n",
      "\n",
      "The following object is masked from ‘package:scater’:\n",
      "\n",
      "    fpkm\n",
      "\n",
      "\n",
      "Loading required package: AnnotationDbi\n",
      "\n",
      "\n",
      "Attaching package: ‘AnnotationDbi’\n",
      "\n",
      "\n",
      "The following object is masked from ‘package:plotly’:\n",
      "\n",
      "    select\n",
      "\n",
      "\n",
      "The following object is masked from ‘package:dplyr’:\n",
      "\n",
      "    select\n",
      "\n",
      "\n",
      "\n",
      "\n",
      "\n",
      "\n",
      "Registered S3 method overwritten by 'ggtree':\n",
      "  method      from \n",
      "  identify.gg ggfun\n",
      "\n",
      "clusterProfiler v4.0.5  For help: https://yulab-smu.top/biomedical-knowledge-mining-book/\n",
      "\n",
      "If you use clusterProfiler in published research, please cite:\n",
      "T Wu, E Hu, S Xu, M Chen, P Guo, Z Dai, T Feng, L Zhou, W Tang, L Zhan, X Fu, S Liu, X Bo, and G Yu. clusterProfiler 4.0: A universal enrichment tool for interpreting omics data. The Innovation. 2021, 2(3):100141. doi: 10.1016/j.xinn.2021.100141\n",
      "\n",
      "\n",
      "Attaching package: ‘clusterProfiler’\n",
      "\n",
      "\n",
      "The following object is masked from ‘package:AnnotationDbi’:\n",
      "\n",
      "    select\n",
      "\n",
      "\n",
      "The following object is masked from ‘package:DelayedArray’:\n",
      "\n",
      "    simplify\n",
      "\n",
      "\n",
      "The following object is masked from ‘package:IRanges’:\n",
      "\n",
      "    slice\n",
      "\n",
      "\n",
      "The following object is masked from ‘package:S4Vectors’:\n",
      "\n",
      "    rename\n",
      "\n",
      "\n",
      "The following object is masked from ‘package:igraph’:\n",
      "\n",
      "    simplify\n",
      "\n",
      "\n",
      "The following object is masked from ‘package:stats’:\n",
      "\n",
      "    filter\n",
      "\n",
      "\n",
      "\n",
      "Attaching package: ‘data.table’\n",
      "\n",
      "\n",
      "The following objects are masked from ‘package:dplyr’:\n",
      "\n",
      "    between, first, last\n",
      "\n",
      "\n",
      "The following object is masked from ‘package:SummarizedExperiment’:\n",
      "\n",
      "    shift\n",
      "\n",
      "\n",
      "The following object is masked from ‘package:GenomicRanges’:\n",
      "\n",
      "    shift\n",
      "\n",
      "\n",
      "The following object is masked from ‘package:IRanges’:\n",
      "\n",
      "    shift\n",
      "\n",
      "\n",
      "The following objects are masked from ‘package:S4Vectors’:\n",
      "\n",
      "    first, second\n",
      "\n",
      "\n",
      "\n",
      "Attaching package: ‘MOFA2’\n",
      "\n",
      "\n",
      "The following object is masked from ‘package:stats’:\n",
      "\n",
      "    predict\n",
      "\n",
      "\n",
      "\n",
      "Attaching package: ‘ggraph’\n",
      "\n",
      "\n",
      "The following object is masked from ‘package:sp’:\n",
      "\n",
      "    geometry\n",
      "\n",
      "\n",
      "Loading required package: lattice\n",
      "\n",
      "\n",
      "Attaching package: ‘lattice’\n",
      "\n",
      "\n",
      "The following object is masked from ‘package:clusterProfiler’:\n",
      "\n",
      "    dotplot\n",
      "\n",
      "\n",
      "Loading required package: survival\n",
      "\n",
      "Loading required package: Formula\n",
      "\n",
      "\n",
      "Attaching package: ‘Hmisc’\n",
      "\n",
      "\n",
      "The following object is masked from ‘package:MOFA2’:\n",
      "\n",
      "    impute\n",
      "\n",
      "\n",
      "The following object is masked from ‘package:AnnotationDbi’:\n",
      "\n",
      "    contents\n",
      "\n",
      "\n",
      "The following object is masked from ‘package:plotly’:\n",
      "\n",
      "    subplot\n",
      "\n",
      "\n",
      "The following objects are masked from ‘package:dplyr’:\n",
      "\n",
      "    src, summarize\n",
      "\n",
      "\n",
      "The following object is masked from ‘package:SeuratObject’:\n",
      "\n",
      "    Key\n",
      "\n",
      "\n",
      "The following object is masked from ‘package:Seurat’:\n",
      "\n",
      "    Key\n",
      "\n",
      "\n",
      "The following object is masked from ‘package:Biobase’:\n",
      "\n",
      "    contents\n",
      "\n",
      "\n",
      "The following objects are masked from ‘package:base’:\n",
      "\n",
      "    format.pval, units\n",
      "\n",
      "\n",
      "Registered S3 method overwritten by 'GGally':\n",
      "  method from   \n",
      "  +.gg   ggplot2\n",
      "\n",
      "\n",
      "Attaching package: ‘rstatix’\n",
      "\n",
      "\n",
      "The following object is masked from ‘package:AnnotationDbi’:\n",
      "\n",
      "    select\n",
      "\n",
      "\n",
      "The following object is masked from ‘package:IRanges’:\n",
      "\n",
      "    desc\n",
      "\n",
      "\n",
      "The following object is masked from ‘package:stats’:\n",
      "\n",
      "    filter\n",
      "\n",
      "\n",
      "\n",
      "Attaching package: ‘ggpubr’\n",
      "\n",
      "\n",
      "The following object is masked from ‘package:cowplot’:\n",
      "\n",
      "    get_legend\n",
      "\n",
      "\n",
      "── \u001b[1mAttaching packages\u001b[22m ─────────────────────────────────────── tidyverse 1.3.1 ──\n",
      "\n",
      "\u001b[32m✔\u001b[39m \u001b[34mtibble \u001b[39m 3.1.7     \u001b[32m✔\u001b[39m \u001b[34mpurrr  \u001b[39m 0.3.4\n",
      "\u001b[32m✔\u001b[39m \u001b[34mtidyr  \u001b[39m 1.2.0     \u001b[32m✔\u001b[39m \u001b[34mforcats\u001b[39m 0.5.2\n",
      "\u001b[32m✔\u001b[39m \u001b[34mreadr  \u001b[39m 2.1.2     \n",
      "\n",
      "── \u001b[1mConflicts\u001b[22m ────────────────────────────────────────── tidyverse_conflicts() ──\n",
      "\u001b[31m✖\u001b[39m \u001b[34mtibble\u001b[39m::\u001b[32mas_data_frame()\u001b[39m   masks \u001b[34mdplyr\u001b[39m::as_data_frame(), \u001b[34migraph\u001b[39m::as_data_frame()\n",
      "\u001b[31m✖\u001b[39m \u001b[34mdata.table\u001b[39m::\u001b[32mbetween()\u001b[39m     masks \u001b[34mdplyr\u001b[39m::between()\n",
      "\u001b[31m✖\u001b[39m \u001b[34mdplyr\u001b[39m::\u001b[32mcollapse()\u001b[39m         masks \u001b[34mIRanges\u001b[39m::collapse()\n",
      "\u001b[31m✖\u001b[39m \u001b[34mdplyr\u001b[39m::\u001b[32mcombine()\u001b[39m          masks \u001b[34mgridExtra\u001b[39m::combine(), \u001b[34mBiobase\u001b[39m::combine(), \u001b[34mBiocGenerics\u001b[39m::combine()\n",
      "\u001b[31m✖\u001b[39m \u001b[34mpurrr\u001b[39m::\u001b[32mcompose()\u001b[39m          masks \u001b[34migraph\u001b[39m::compose()\n",
      "\u001b[31m✖\u001b[39m \u001b[34mdplyr\u001b[39m::\u001b[32mcount()\u001b[39m            masks \u001b[34mmatrixStats\u001b[39m::count()\n",
      "\u001b[31m✖\u001b[39m \u001b[34mtidyr\u001b[39m::\u001b[32mcrossing()\u001b[39m         masks \u001b[34migraph\u001b[39m::crossing()\n",
      "\u001b[31m✖\u001b[39m \u001b[34mrstatix\u001b[39m::\u001b[32mdesc()\u001b[39m           masks \u001b[34mdplyr\u001b[39m::desc(), \u001b[34mIRanges\u001b[39m::desc()\n",
      "\u001b[31m✖\u001b[39m \u001b[34mtidyr\u001b[39m::\u001b[32mexpand()\u001b[39m           masks \u001b[34mMatrix\u001b[39m::expand(), \u001b[34mS4Vectors\u001b[39m::expand()\n",
      "\u001b[31m✖\u001b[39m \u001b[34mrstatix\u001b[39m::\u001b[32mfilter()\u001b[39m         masks \u001b[34mclusterProfiler\u001b[39m::filter(), \u001b[34mplotly\u001b[39m::filter(), \u001b[34mdplyr\u001b[39m::filter(), \u001b[34mstats\u001b[39m::filter()\n",
      "\u001b[31m✖\u001b[39m \u001b[34mdata.table\u001b[39m::\u001b[32mfirst()\u001b[39m       masks \u001b[34mdplyr\u001b[39m::first(), \u001b[34mS4Vectors\u001b[39m::first()\n",
      "\u001b[31m✖\u001b[39m \u001b[34mplotly\u001b[39m::\u001b[32mgroups()\u001b[39m          masks \u001b[34mdplyr\u001b[39m::groups(), \u001b[34migraph\u001b[39m::groups()\n",
      "\u001b[31m✖\u001b[39m \u001b[34mdplyr\u001b[39m::\u001b[32mlag()\u001b[39m              masks \u001b[34mstats\u001b[39m::lag()\n",
      "\u001b[31m✖\u001b[39m \u001b[34mdata.table\u001b[39m::\u001b[32mlast()\u001b[39m        masks \u001b[34mdplyr\u001b[39m::last()\n",
      "\u001b[31m✖\u001b[39m \u001b[34mtidyr\u001b[39m::\u001b[32mpack()\u001b[39m             masks \u001b[34mMatrix\u001b[39m::pack()\n",
      "\u001b[31m✖\u001b[39m \u001b[34mggplot2\u001b[39m::\u001b[32mPosition()\u001b[39m       masks \u001b[34mBiocGenerics\u001b[39m::Position(), \u001b[34mbase\u001b[39m::Position()\n",
      "\u001b[31m✖\u001b[39m \u001b[34mpurrr\u001b[39m::\u001b[32mreduce()\u001b[39m           masks \u001b[34mGenomicRanges\u001b[39m::reduce(), \u001b[34mIRanges\u001b[39m::reduce()\n",
      "\u001b[31m✖\u001b[39m \u001b[34mclusterProfiler\u001b[39m::\u001b[32mrename()\u001b[39m masks \u001b[34mplotly\u001b[39m::rename(), \u001b[34mdplyr\u001b[39m::rename(), \u001b[34mS4Vectors\u001b[39m::rename()\n",
      "\u001b[31m✖\u001b[39m \u001b[34mrstatix\u001b[39m::\u001b[32mselect()\u001b[39m         masks \u001b[34mclusterProfiler\u001b[39m::select(), \u001b[34mAnnotationDbi\u001b[39m::select(), \u001b[34mplotly\u001b[39m::select(), \u001b[34mdplyr\u001b[39m::select()\n",
      "\u001b[31m✖\u001b[39m \u001b[34mpurrr\u001b[39m::\u001b[32msimplify()\u001b[39m         masks \u001b[34mclusterProfiler\u001b[39m::simplify(), \u001b[34mDelayedArray\u001b[39m::simplify(), \u001b[34migraph\u001b[39m::simplify()\n",
      "\u001b[31m✖\u001b[39m \u001b[34mclusterProfiler\u001b[39m::\u001b[32mslice()\u001b[39m  masks \u001b[34mplotly\u001b[39m::slice(), \u001b[34mdplyr\u001b[39m::slice(), \u001b[34mIRanges\u001b[39m::slice()\n",
      "\u001b[31m✖\u001b[39m \u001b[34mHmisc\u001b[39m::\u001b[32msrc()\u001b[39m              masks \u001b[34mdplyr\u001b[39m::src()\n",
      "\u001b[31m✖\u001b[39m \u001b[34mHmisc\u001b[39m::\u001b[32msummarize()\u001b[39m        masks \u001b[34mdplyr\u001b[39m::summarize()\n",
      "\u001b[31m✖\u001b[39m \u001b[34mpurrr\u001b[39m::\u001b[32mtranspose()\u001b[39m        masks \u001b[34mdata.table\u001b[39m::transpose()\n",
      "\u001b[31m✖\u001b[39m \u001b[34mtidyr\u001b[39m::\u001b[32munpack()\u001b[39m           masks \u001b[34mMatrix\u001b[39m::unpack()\n",
      "\n",
      "corrplot 0.92 loaded\n",
      "\n",
      "\n",
      "Attaching package: ‘networkD3’\n",
      "\n",
      "\n",
      "The following object is masked from ‘package:SeuratObject’:\n",
      "\n",
      "    JS\n",
      "\n",
      "\n",
      "The following object is masked from ‘package:Seurat’:\n",
      "\n",
      "    JS\n",
      "\n",
      "\n",
      "\n",
      "‘network’ 1.17.2 (2022-05-20), part of the Statnet Project\n",
      "* ‘news(package=\"network\")’ for changes since last version\n",
      "* ‘citation(\"network\")’ for citation information\n",
      "* ‘https://statnet.org’ for help, support, and other information\n",
      "\n",
      "\n",
      "\n",
      "Attaching package: ‘network’\n",
      "\n",
      "\n",
      "The following object is masked from ‘package:Hmisc’:\n",
      "\n",
      "    is.discrete\n",
      "\n",
      "\n",
      "The following objects are masked from ‘package:igraph’:\n",
      "\n",
      "    %c%, %s%, add.edges, add.vertices, delete.edges, delete.vertices,\n",
      "    get.edge.attribute, get.edges, get.vertex.attribute, is.bipartite,\n",
      "    is.directed, list.edge.attributes, list.vertex.attributes,\n",
      "    set.edge.attribute, set.vertex.attribute\n",
      "\n",
      "\n",
      "\n",
      "Attaching package: ‘enrichplot’\n",
      "\n",
      "\n",
      "The following object is masked from ‘package:ggpubr’:\n",
      "\n",
      "    color_palette\n",
      "\n",
      "\n",
      "The following object is masked from ‘package:GGally’:\n",
      "\n",
      "    ggtable\n",
      "\n",
      "\n",
      "The following object is masked from ‘package:lattice’:\n",
      "\n",
      "    dotplot\n",
      "\n",
      "\n",
      "DOSE v3.18.3  For help: https://guangchuangyu.github.io/software/DOSE\n",
      "\n",
      "If you use DOSE in published research, please cite:\n",
      "Guangchuang Yu, Li-Gen Wang, Guang-Rong Yan, Qing-Yu He. DOSE: an R/Bioconductor package for Disease Ontology Semantic and Enrichment analysis. Bioinformatics 2015, 31(4):608-609\n",
      "\n",
      "\n",
      "\n",
      "Attaching package: ‘UpSetR’\n",
      "\n",
      "\n",
      "The following object is masked from ‘package:ComplexUpset’:\n",
      "\n",
      "    upset\n",
      "\n",
      "\n",
      "The following object is masked from ‘package:lattice’:\n",
      "\n",
      "    histogram\n",
      "\n",
      "\n",
      "Registered S3 method overwritten by 'gdata':\n",
      "  method         from  \n",
      "  reorder.factor gplots\n",
      "\n",
      "gdata: read.xls support for 'XLS' (Excel 97-2004) files ENABLED.\n",
      "\n",
      "\n",
      "\n",
      "gdata: Unable to load perl libaries needed by read.xls()\n",
      "gdata: to support 'XLSX' (Excel 2007+) files.\n",
      "\n",
      "\n",
      "\n",
      "gdata: Run the function 'installXLSXsupport()'\n",
      "gdata: to automatically download and install the perl\n",
      "gdata: libaries needed to support Excel XLS and XLSX formats.\n",
      "\n",
      "\n",
      "Attaching package: ‘gdata’\n",
      "\n",
      "\n",
      "The following object is masked from ‘package:purrr’:\n",
      "\n",
      "    keep\n",
      "\n",
      "\n",
      "The following objects are masked from ‘package:data.table’:\n",
      "\n",
      "    first, last\n",
      "\n",
      "\n",
      "The following objects are masked from ‘package:dplyr’:\n",
      "\n",
      "    combine, first, last\n",
      "\n",
      "\n",
      "The following object is masked from ‘package:gridExtra’:\n",
      "\n",
      "    combine\n",
      "\n",
      "\n",
      "The following object is masked from ‘package:SummarizedExperiment’:\n",
      "\n",
      "    trim\n",
      "\n",
      "\n",
      "The following object is masked from ‘package:Biobase’:\n",
      "\n",
      "    combine\n",
      "\n",
      "\n",
      "The following object is masked from ‘package:GenomicRanges’:\n",
      "\n",
      "    trim\n",
      "\n",
      "\n",
      "The following objects are masked from ‘package:IRanges’:\n",
      "\n",
      "    startsWith, trim\n",
      "\n",
      "\n",
      "The following objects are masked from ‘package:S4Vectors’:\n",
      "\n",
      "    first, first<-\n",
      "\n",
      "\n",
      "The following object is masked from ‘package:BiocGenerics’:\n",
      "\n",
      "    combine\n",
      "\n",
      "\n",
      "The following object is masked from ‘package:stats4’:\n",
      "\n",
      "    nobs\n",
      "\n",
      "\n",
      "The following object is masked from ‘package:stats’:\n",
      "\n",
      "    nobs\n",
      "\n",
      "\n",
      "The following object is masked from ‘package:utils’:\n",
      "\n",
      "    object.size\n",
      "\n",
      "\n",
      "The following object is masked from ‘package:base’:\n",
      "\n",
      "    startsWith\n",
      "\n",
      "\n",
      "\n",
      "Attaching package: ‘reshape2’\n",
      "\n",
      "\n",
      "The following object is masked from ‘package:tidyr’:\n",
      "\n",
      "    smiths\n",
      "\n",
      "\n",
      "The following objects are masked from ‘package:data.table’:\n",
      "\n",
      "    dcast, melt\n",
      "\n",
      "\n",
      "##############################################################################\n",
      "Pathview is an open source software package distributed under GNU General\n",
      "Public License version 3 (GPLv3). Details of GPLv3 is available at\n",
      "http://www.gnu.org/licenses/gpl-3.0.html. Particullary, users are required to\n",
      "formally cite the original Pathview paper (not just mention it) in publications\n",
      "or products. For details, do citation(\"pathview\") within R.\n",
      "\n",
      "The pathview downloads and uses KEGG data. Non-academic uses may require a KEGG\n",
      "license agreement (details at http://www.kegg.jp/kegg/legal.html).\n",
      "##############################################################################\n",
      "\n",
      "ReactomePA v1.36.0  For help: https://yulab-smu.top/biomedical-knowledge-mining-book/reactomepa.html\n",
      "\n",
      "If you use ReactomePA in published research, please cite:\n",
      "Guangchuang Yu, Qing-Yu He. ReactomePA: an R/Bioconductor package for reactome pathway analysis and visualization. Molecular BioSystems 2016, 12(2):477-479\n",
      "\n",
      "\n",
      "Attaching package: ‘ReactomePA’\n",
      "\n",
      "\n",
      "The following object is masked from ‘package:lattice’:\n",
      "\n",
      "    dotplot\n",
      "\n",
      "\n",
      "Loading required package: mgcv\n",
      "\n",
      "Loading required package: nlme\n",
      "\n",
      "\n",
      "Attaching package: ‘nlme’\n",
      "\n",
      "\n",
      "The following object is masked from ‘package:dplyr’:\n",
      "\n",
      "    collapse\n",
      "\n",
      "\n",
      "The following object is masked from ‘package:IRanges’:\n",
      "\n",
      "    collapse\n",
      "\n",
      "\n",
      "This is mgcv 1.8-40. For overview type 'help(\"mgcv-package\")'.\n",
      "\n",
      "Loading required package: genefilter\n",
      "\n",
      "\n",
      "Attaching package: ‘genefilter’\n",
      "\n",
      "\n",
      "The following object is masked from ‘package:readr’:\n",
      "\n",
      "    spec\n",
      "\n",
      "\n",
      "The following object is masked from ‘package:rstatix’:\n",
      "\n",
      "    Anova\n",
      "\n",
      "\n",
      "The following objects are masked from ‘package:MatrixGenerics’:\n",
      "\n",
      "    rowSds, rowVars\n",
      "\n",
      "\n",
      "The following objects are masked from ‘package:matrixStats’:\n",
      "\n",
      "    rowSds, rowVars\n",
      "\n",
      "\n",
      "Loading required package: BiocParallel\n",
      "\n",
      "\n",
      "Attaching package: ‘patchwork’\n",
      "\n",
      "\n",
      "The following object is masked from ‘package:genefilter’:\n",
      "\n",
      "    area\n",
      "\n",
      "\n",
      "The following object is masked from ‘package:cowplot’:\n",
      "\n",
      "    align_plots\n",
      "\n",
      "\n",
      "\n",
      "Attaching package: ‘caret’\n",
      "\n",
      "\n",
      "The following object is masked from ‘package:purrr’:\n",
      "\n",
      "    lift\n",
      "\n",
      "\n",
      "The following object is masked from ‘package:survival’:\n",
      "\n",
      "    cluster\n",
      "\n",
      "\n",
      "Type 'citation(\"pROC\")' for a citation.\n",
      "\n",
      "\n",
      "Attaching package: ‘pROC’\n",
      "\n",
      "\n",
      "The following object is masked from ‘package:colorspace’:\n",
      "\n",
      "    coords\n",
      "\n",
      "\n",
      "The following objects are masked from ‘package:IRanges’:\n",
      "\n",
      "    cov, var\n",
      "\n",
      "\n",
      "The following objects are masked from ‘package:S4Vectors’:\n",
      "\n",
      "    cov, var\n",
      "\n",
      "\n",
      "The following object is masked from ‘package:BiocGenerics’:\n",
      "\n",
      "    var\n",
      "\n",
      "\n",
      "The following objects are masked from ‘package:stats’:\n",
      "\n",
      "    cov, smooth, var\n",
      "\n",
      "\n",
      "Loaded glmnet 4.1-4\n",
      "\n",
      "\n",
      "Attaching package: ‘nnet’\n",
      "\n",
      "\n",
      "The following object is masked from ‘package:mgcv’:\n",
      "\n",
      "    multinom\n",
      "\n",
      "\n",
      "\n",
      "Attaching package: ‘dfidx’\n",
      "\n",
      "\n",
      "The following object is masked from ‘package:AnnotationDbi’:\n",
      "\n",
      "    select\n",
      "\n",
      "\n",
      "The following object is masked from ‘package:IRanges’:\n",
      "\n",
      "    slice\n",
      "\n",
      "\n",
      "The following object is masked from ‘package:stats’:\n",
      "\n",
      "    filter\n",
      "\n",
      "\n",
      "\n",
      "Attaching package: ‘modelr’\n",
      "\n",
      "\n",
      "The following object is masked from ‘package:gdata’:\n",
      "\n",
      "    resample\n",
      "\n",
      "\n",
      "The following object is masked from ‘package:igraph’:\n",
      "\n",
      "    permute\n",
      "\n",
      "\n",
      "\n",
      "Attaching package: ‘cvAUC’\n",
      "\n",
      "\n",
      "The following object is masked from ‘package:genefilter’:\n",
      "\n",
      "    AUC\n",
      "\n",
      "\n",
      "Loading required package: maps\n",
      "\n",
      "\n",
      "Attaching package: ‘maps’\n",
      "\n",
      "\n",
      "The following object is masked from ‘package:purrr’:\n",
      "\n",
      "    map\n",
      "\n",
      "\n",
      "Loading required package: shapefiles\n",
      "\n",
      "Loading required package: foreign\n",
      "\n",
      "\n",
      "Attaching package: ‘shapefiles’\n",
      "\n",
      "\n",
      "The following objects are masked from ‘package:foreign’:\n",
      "\n",
      "    read.dbf, write.dbf\n",
      "\n",
      "\n",
      "\n",
      "Attaching package: ‘fossil’\n",
      "\n",
      "\n",
      "The following object is masked from ‘package:modelr’:\n",
      "\n",
      "    bootstrap\n",
      "\n",
      "\n",
      "\n",
      "Attaching package: ‘plotROC’\n",
      "\n",
      "\n",
      "The following object is masked from ‘package:pROC’:\n",
      "\n",
      "    ggroc\n",
      "\n",
      "\n",
      "Welcome! Want to learn more? See two factoextra-related books at https://goo.gl/ve3WBa\n",
      "\n",
      "Loading required package: grid\n",
      "\n",
      "========================================\n",
      "ComplexHeatmap version 2.8.0\n",
      "Bioconductor page: http://bioconductor.org/packages/ComplexHeatmap/\n",
      "Github page: https://github.com/jokergoo/ComplexHeatmap\n",
      "Documentation: http://jokergoo.github.io/ComplexHeatmap-reference\n",
      "\n",
      "If you use it in published research, please cite:\n",
      "Gu, Z. Complex heatmaps reveal patterns and correlations in multidimensional \n",
      "  genomic data. Bioinformatics 2016.\n",
      "\n",
      "The new InteractiveComplexHeatmap package can directly export static \n",
      "complex heatmaps into an interactive Shiny app with zero effort. Have a try!\n",
      "\n",
      "This message can be suppressed by:\n",
      "  suppressPackageStartupMessages(library(ComplexHeatmap))\n",
      "========================================\n",
      "\n",
      "\n",
      "\n",
      "Attaching package: ‘ComplexHeatmap’\n",
      "\n",
      "\n",
      "The following object is masked from ‘package:genefilter’:\n",
      "\n",
      "    dist2\n",
      "\n",
      "\n",
      "The following object is masked from ‘package:network’:\n",
      "\n",
      "    %v%\n",
      "\n",
      "\n",
      "The following object is masked from ‘package:plotly’:\n",
      "\n",
      "    add_heatmap\n",
      "\n",
      "\n",
      "Welcome to compositions, a package for compositional data analysis.\n",
      "Find an intro with \"? compositions\"\n",
      "\n",
      "\n",
      "\n",
      "Attaching package: ‘compositions’\n",
      "\n",
      "\n",
      "The following object is masked from ‘package:glmnet’:\n",
      "\n",
      "    rmult\n",
      "\n",
      "\n",
      "The following objects are masked from ‘package:pROC’:\n",
      "\n",
      "    cov, var\n",
      "\n",
      "\n",
      "The following object is masked from ‘package:caret’:\n",
      "\n",
      "    R2\n",
      "\n",
      "\n",
      "The following object is masked from ‘package:DelayedArray’:\n",
      "\n",
      "    scale\n",
      "\n",
      "\n",
      "The following object is masked from ‘package:Matrix’:\n",
      "\n",
      "    norm\n",
      "\n",
      "\n",
      "The following object is masked from ‘package:scater’:\n",
      "\n",
      "    normalize\n",
      "\n",
      "\n",
      "The following objects are masked from ‘package:IRanges’:\n",
      "\n",
      "    cor, cov, var\n",
      "\n",
      "\n",
      "The following objects are masked from ‘package:S4Vectors’:\n",
      "\n",
      "    cor, cov, var\n",
      "\n",
      "\n",
      "The following objects are masked from ‘package:BiocGenerics’:\n",
      "\n",
      "    normalize, var\n",
      "\n",
      "\n",
      "The following object is masked from ‘package:igraph’:\n",
      "\n",
      "    normalize\n",
      "\n",
      "\n",
      "The following objects are masked from ‘package:stats’:\n",
      "\n",
      "    anova, cor, cov, dist, var\n",
      "\n",
      "\n",
      "The following objects are masked from ‘package:base’:\n",
      "\n",
      "    %*%, norm, scale, scale.default\n",
      "\n",
      "\n",
      "========================================\n",
      "circlize version 0.4.15\n",
      "CRAN page: https://cran.r-project.org/package=circlize\n",
      "Github page: https://github.com/jokergoo/circlize\n",
      "Documentation: https://jokergoo.github.io/circlize_book/book/\n",
      "\n",
      "If you use it in published research, please cite:\n",
      "Gu, Z. circlize implements and enhances circular visualization\n",
      "  in R. Bioinformatics 2014.\n",
      "\n",
      "This message can be suppressed by:\n",
      "  suppressPackageStartupMessages(library(circlize))\n",
      "========================================\n",
      "\n",
      "\n",
      "\n",
      "Attaching package: ‘circlize’\n",
      "\n",
      "\n",
      "The following object is masked from ‘package:igraph’:\n",
      "\n",
      "    degree\n",
      "\n",
      "\n"
     ]
    }
   ],
   "source": [
    "source('MS0_Libraries.r')"
   ]
  },
  {
   "cell_type": "code",
   "execution_count": 3,
   "id": "6775b03a-1e94-4cae-91ba-3dea463b3641",
   "metadata": {
    "tags": []
   },
   "outputs": [],
   "source": [
    "source('MS4_Plot_Config.r')"
   ]
  },
  {
   "cell_type": "markdown",
   "id": "8b914742-58da-4573-a641-14cef2bebc2b",
   "metadata": {
    "tags": []
   },
   "source": [
    "###############################################\n",
    "# Preqrequisites Configurations & Parameters"
   ]
  },
  {
   "cell_type": "code",
   "execution_count": 4,
   "id": "b29af9b4-c60c-4ae4-85eb-506326a8878e",
   "metadata": {},
   "outputs": [],
   "source": [
    "data_path = '../data/current'"
   ]
  },
  {
   "cell_type": "code",
   "execution_count": 5,
   "id": "b3137b38-2d5a-4291-b6d4-cb8dae22da33",
   "metadata": {},
   "outputs": [],
   "source": [
    "result_path = '../results/current'"
   ]
  },
  {
   "cell_type": "code",
   "execution_count": 6,
   "id": "4cd4f1f1-f681-4cd6-bb8c-1fa99280fa4d",
   "metadata": {},
   "outputs": [
    {
     "data": {
      "text/html": [
       "'../data/current'"
      ],
      "text/latex": [
       "'../data/current'"
      ],
      "text/markdown": [
       "'../data/current'"
      ],
      "text/plain": [
       "[1] \"../data/current\""
      ]
     },
     "metadata": {},
     "output_type": "display_data"
    }
   ],
   "source": [
    "data_path"
   ]
  },
  {
   "cell_type": "code",
   "execution_count": 7,
   "id": "dff5c094-5630-473b-a56f-ea9d432669eb",
   "metadata": {},
   "outputs": [],
   "source": [
    "standardize = FALSE"
   ]
  },
  {
   "cell_type": "code",
   "execution_count": 8,
   "id": "766f25c6-5a84-462b-a8b3-3ea4149f8f91",
   "metadata": {},
   "outputs": [],
   "source": [
    "set_zero_na = FALSE"
   ]
  },
  {
   "cell_type": "code",
   "execution_count": 9,
   "id": "79523006-7835-4df1-a0e1-eda1de71f7a4",
   "metadata": {},
   "outputs": [],
   "source": [
    "quantile_norm_feat = TRUE"
   ]
  },
  {
   "cell_type": "code",
   "execution_count": 10,
   "id": "cc9684b8-d1a6-4515-a29e-84f6c4b17b0c",
   "metadata": {},
   "outputs": [],
   "source": [
    "samples_var = 'all'\n",
    "# samples_var = 'acs'"
   ]
  },
  {
   "cell_type": "code",
   "execution_count": 11,
   "id": "4dba3f72-ab97-4647-a92f-5715ffeca444",
   "metadata": {},
   "outputs": [],
   "source": [
    "name = 'V_AZIMUTH'   # name of dataset to load\n",
    "name_save = 'V_AZIMUTH_INTEGRATED'"
   ]
  },
  {
   "cell_type": "markdown",
   "id": "1f6a5a08-b27e-4f0f-965f-df9aabdbef70",
   "metadata": {
    "tags": []
   },
   "source": [
    "# Functions"
   ]
  },
  {
   "cell_type": "code",
   "execution_count": 12,
   "id": "ad752017-8d59-4470-bb1a-5b4b22003046",
   "metadata": {},
   "outputs": [],
   "source": [
    "### Function for quantile normalization\n",
    "\n",
    "quantile_normalization = function(X){\n",
    "  set.seed(42)\n",
    "  ranks = apply(X, 2, rank, ties.method = 'min')  # determine ranks of each entry\n",
    "  \n",
    "  sorted = data.frame(apply(X, 2, sort)) # sort the entries\n",
    "  means = apply(sorted, 1, mean) # calculate the means\n",
    "  \n",
    "  normalized_data = apply(ranks, 2 ,function(x){ means[x]}) # substitute the means into ranks matrix\n",
    "}\n"
   ]
  },
  {
   "cell_type": "code",
   "execution_count": 13,
   "id": "fd75cdd8-ebe6-4e12-8971-30908ece9791",
   "metadata": {},
   "outputs": [],
   "source": [
    "### Gene wise quantile normalization\n",
    "\n",
    "stdnorm <- function(x) {\n",
    "  set.seed(42)\n",
    "  r = rank(x[!is.na(x)], ties.method=\"average\")\n",
    "  x[!is.na(x)] = qnorm(r / (length(x[!is.na(x)]) + 1))\n",
    "  return(x)\n",
    "}"
   ]
  },
  {
   "cell_type": "markdown",
   "id": "e9cbaa77-8a24-45a5-9f17-1e1b7bfda4f2",
   "metadata": {
    "tags": []
   },
   "source": [
    "# Load Data "
   ]
  },
  {
   "cell_type": "markdown",
   "id": "f7d01627-0458-486a-a589-e00fda364c6f",
   "metadata": {
    "tags": []
   },
   "source": [
    "## Prepared combined data"
   ]
  },
  {
   "cell_type": "code",
   "execution_count": 14,
   "id": "de5040d5-3566-4a06-aa75-8fae398db73b",
   "metadata": {},
   "outputs": [
    {
     "name": "stdout",
     "output_type": "stream",
     "text": [
      "[1] \"2023-02-01 11:41:54 CET\"\n"
     ]
    }
   ],
   "source": [
    "path = paste0(result_path, '/G-Analysis/Combined_Data_',name,'.csv')\n",
    "data_long = read.csv(path)\n",
    "print(file.info(path)$mtime)"
   ]
  },
  {
   "cell_type": "code",
   "execution_count": 15,
   "id": "333ac739-b405-4e1e-99cb-25d31cbe7d78",
   "metadata": {},
   "outputs": [
    {
     "data": {
      "text/html": [
       "<table class=\"dataframe\">\n",
       "<caption>A data.frame: 2 × 6</caption>\n",
       "<thead>\n",
       "\t<tr><th></th><th scope=col>X</th><th scope=col>sample_id</th><th scope=col>type</th><th scope=col>variable</th><th scope=col>value</th><th scope=col>config</th></tr>\n",
       "\t<tr><th></th><th scope=col>&lt;int&gt;</th><th scope=col>&lt;chr&gt;</th><th scope=col>&lt;chr&gt;</th><th scope=col>&lt;chr&gt;</th><th scope=col>&lt;dbl&gt;</th><th scope=col>&lt;chr&gt;</th></tr>\n",
       "</thead>\n",
       "<tbody>\n",
       "\t<tr><th scope=row>1</th><td>1</td><td>k10</td><td>single_cell</td><td>B.cell__PARK7</td><td>0.9412188</td><td>FALSE-FALSE-TRUE-0.2-FALSE-TRUE-</td></tr>\n",
       "\t<tr><th scope=row>2</th><td>2</td><td>k10</td><td>single_cell</td><td>B.cell__ENO1 </td><td>0.8205378</td><td>FALSE-FALSE-TRUE-0.2-FALSE-TRUE-</td></tr>\n",
       "</tbody>\n",
       "</table>\n"
      ],
      "text/latex": [
       "A data.frame: 2 × 6\n",
       "\\begin{tabular}{r|llllll}\n",
       "  & X & sample\\_id & type & variable & value & config\\\\\n",
       "  & <int> & <chr> & <chr> & <chr> & <dbl> & <chr>\\\\\n",
       "\\hline\n",
       "\t1 & 1 & k10 & single\\_cell & B.cell\\_\\_PARK7 & 0.9412188 & FALSE-FALSE-TRUE-0.2-FALSE-TRUE-\\\\\n",
       "\t2 & 2 & k10 & single\\_cell & B.cell\\_\\_ENO1  & 0.8205378 & FALSE-FALSE-TRUE-0.2-FALSE-TRUE-\\\\\n",
       "\\end{tabular}\n"
      ],
      "text/markdown": [
       "\n",
       "A data.frame: 2 × 6\n",
       "\n",
       "| <!--/--> | X &lt;int&gt; | sample_id &lt;chr&gt; | type &lt;chr&gt; | variable &lt;chr&gt; | value &lt;dbl&gt; | config &lt;chr&gt; |\n",
       "|---|---|---|---|---|---|---|\n",
       "| 1 | 1 | k10 | single_cell | B.cell__PARK7 | 0.9412188 | FALSE-FALSE-TRUE-0.2-FALSE-TRUE- |\n",
       "| 2 | 2 | k10 | single_cell | B.cell__ENO1  | 0.8205378 | FALSE-FALSE-TRUE-0.2-FALSE-TRUE- |\n",
       "\n"
      ],
      "text/plain": [
       "  X sample_id type        variable      value    \n",
       "1 1 k10       single_cell B.cell__PARK7 0.9412188\n",
       "2 2 k10       single_cell B.cell__ENO1  0.8205378\n",
       "  config                          \n",
       "1 FALSE-FALSE-TRUE-0.2-FALSE-TRUE-\n",
       "2 FALSE-FALSE-TRUE-0.2-FALSE-TRUE-"
      ]
     },
     "metadata": {},
     "output_type": "display_data"
    }
   ],
   "source": [
    "head(data_long,2)"
   ]
  },
  {
   "cell_type": "code",
   "execution_count": 16,
   "id": "ba021ba7-704d-4085-81c7-d718a5adcfc4",
   "metadata": {},
   "outputs": [
    {
     "data": {
      "text/html": [
       "1065636"
      ],
      "text/latex": [
       "1065636"
      ],
      "text/markdown": [
       "1065636"
      ],
      "text/plain": [
       "[1] 1065636"
      ]
     },
     "metadata": {},
     "output_type": "display_data"
    }
   ],
   "source": [
    "nrow(data_long)"
   ]
  },
  {
   "cell_type": "code",
   "execution_count": 17,
   "id": "81513021-3eb1-4a7a-bae8-c8f0238f1d01",
   "metadata": {},
   "outputs": [
    {
     "data": {
      "text/html": [
       "1065636"
      ],
      "text/latex": [
       "1065636"
      ],
      "text/markdown": [
       "1065636"
      ],
      "text/plain": [
       "[1] 1065636"
      ]
     },
     "metadata": {},
     "output_type": "display_data"
    }
   ],
   "source": [
    "nrow(unique(data_long[,c('sample_id', 'type', 'variable')]))"
   ]
  },
  {
   "cell_type": "code",
   "execution_count": 21,
   "id": "8a004321-6900-4ba6-ade4-aabfd5327e0e",
   "metadata": {},
   "outputs": [
    {
     "data": {
      "text/html": [
       "146"
      ],
      "text/latex": [
       "146"
      ],
      "text/markdown": [
       "146"
      ],
      "text/plain": [
       "[1] 146"
      ]
     },
     "metadata": {},
     "output_type": "display_data"
    }
   ],
   "source": [
    "length(unique(data_long$sample_id))"
   ]
  },
  {
   "cell_type": "markdown",
   "id": "d1d667ed-5193-40d6-94f1-b985bc1d7dd9",
   "metadata": {
    "tags": []
   },
   "source": [
    "## Sample Data"
   ]
  },
  {
   "cell_type": "code",
   "execution_count": 24,
   "id": "73ecf6ad-7e4f-4d39-8061-685387ba62ed",
   "metadata": {},
   "outputs": [],
   "source": [
    "sample_data = read.csv(paste0(result_path, '/00_Data_Overview/Merged_Sample_Meta_Data.csv'))"
   ]
  },
  {
   "cell_type": "code",
   "execution_count": 26,
   "id": "7cf1572c-7e5f-415c-b27f-62a13accd85a",
   "metadata": {},
   "outputs": [],
   "source": [
    "sample_data$CK_raw = sample_data$CK"
   ]
  },
  {
   "cell_type": "code",
   "execution_count": 27,
   "id": "9f020f2c-f91a-40b7-b31f-12af3f336bfb",
   "metadata": {},
   "outputs": [],
   "source": [
    "sample_data$CK = log2(sample_data$CK+1)"
   ]
  },
  {
   "cell_type": "code",
   "execution_count": 28,
   "id": "ba15437e-4460-4290-a371-dab6b231e6f5",
   "metadata": {},
   "outputs": [],
   "source": [
    "sample_data$Troponin = log2(sample_data$Troponin+1)"
   ]
  },
  {
   "cell_type": "code",
   "execution_count": 29,
   "id": "8a2500f0-eca7-4455-9780-0eea863bf057",
   "metadata": {},
   "outputs": [
    {
     "name": "stderr",
     "output_type": "stream",
     "text": [
      "Warning message in eval(expr, envir, enclos):\n",
      "“NAs introduced by coercion”\n"
     ]
    }
   ],
   "source": [
    "sample_data$CK_MB = log2(as.numeric(sample_data$CK_MB)+1)"
   ]
  },
  {
   "cell_type": "code",
   "execution_count": 30,
   "id": "fa62ca61-2804-4eae-a189-8507689585d6",
   "metadata": {},
   "outputs": [
    {
     "name": "stderr",
     "output_type": "stream",
     "text": [
      "Warning message in eval(expr, envir, enclos):\n",
      "“NAs introduced by coercion”\n"
     ]
    }
   ],
   "source": [
    "sample_data$CRP =  log2(as.numeric(sample_data$CRP)+1)"
   ]
  },
  {
   "cell_type": "code",
   "execution_count": 31,
   "id": "56397544-b0dd-4355-83cc-ea30025f9d77",
   "metadata": {},
   "outputs": [],
   "source": [
    "sample_data$sample_id[(sample_data$sample_id == 'm13.2')  & (sample_data$library %in%  c('L6'))] = 'm13.22'"
   ]
  },
  {
   "cell_type": "code",
   "execution_count": 32,
   "id": "7c624cb2-b145-4c08-88e9-5c9e20abb79a",
   "metadata": {},
   "outputs": [],
   "source": [
    "sample_data$sample_id[(sample_data$sample_id == 'm6.4')  & (sample_data$library %in%  c('L10'))] = 'm6.42'"
   ]
  },
  {
   "cell_type": "code",
   "execution_count": 33,
   "id": "f88ff77c-5315-4d8e-b4b5-c3c1980f41f9",
   "metadata": {},
   "outputs": [],
   "source": [
    "sample_data$sample_id[(sample_data$sample_id == 'm6.1')  & (sample_data$library %in%  c('L3'))] = 'm6.12'"
   ]
  },
  {
   "cell_type": "markdown",
   "id": "6168fa17-4ec8-436f-a4df-c94132a3bf74",
   "metadata": {
    "tags": []
   },
   "source": [
    "# Potential Pre-Processing / Data Adjustments"
   ]
  },
  {
   "cell_type": "markdown",
   "id": "5e4656b7-71a4-4352-bbc4-754136411e96",
   "metadata": {
    "tags": []
   },
   "source": [
    "###  Filter samples (remove no-acs patients)"
   ]
  },
  {
   "cell_type": "code",
   "execution_count": 54,
   "id": "209d3c8d-7720-4a8b-a6b9-0f1f3ff1fb5e",
   "metadata": {},
   "outputs": [
    {
     "data": {
      "text/html": [
       "<table class=\"dataframe\">\n",
       "<caption>A data.frame: 2 × 6</caption>\n",
       "<thead>\n",
       "\t<tr><th></th><th scope=col>X</th><th scope=col>sample_id</th><th scope=col>type</th><th scope=col>variable</th><th scope=col>value</th><th scope=col>config</th></tr>\n",
       "\t<tr><th></th><th scope=col>&lt;int&gt;</th><th scope=col>&lt;chr&gt;</th><th scope=col>&lt;chr&gt;</th><th scope=col>&lt;chr&gt;</th><th scope=col>&lt;dbl&gt;</th><th scope=col>&lt;chr&gt;</th></tr>\n",
       "</thead>\n",
       "<tbody>\n",
       "\t<tr><th scope=row>1</th><td>1</td><td>k10</td><td>single_cell</td><td>B.cell__PARK7</td><td>0.9412188</td><td>FALSE-FALSE-TRUE-0.2-FALSE-TRUE-</td></tr>\n",
       "\t<tr><th scope=row>2</th><td>2</td><td>k10</td><td>single_cell</td><td>B.cell__ENO1 </td><td>0.8205378</td><td>FALSE-FALSE-TRUE-0.2-FALSE-TRUE-</td></tr>\n",
       "</tbody>\n",
       "</table>\n"
      ],
      "text/latex": [
       "A data.frame: 2 × 6\n",
       "\\begin{tabular}{r|llllll}\n",
       "  & X & sample\\_id & type & variable & value & config\\\\\n",
       "  & <int> & <chr> & <chr> & <chr> & <dbl> & <chr>\\\\\n",
       "\\hline\n",
       "\t1 & 1 & k10 & single\\_cell & B.cell\\_\\_PARK7 & 0.9412188 & FALSE-FALSE-TRUE-0.2-FALSE-TRUE-\\\\\n",
       "\t2 & 2 & k10 & single\\_cell & B.cell\\_\\_ENO1  & 0.8205378 & FALSE-FALSE-TRUE-0.2-FALSE-TRUE-\\\\\n",
       "\\end{tabular}\n"
      ],
      "text/markdown": [
       "\n",
       "A data.frame: 2 × 6\n",
       "\n",
       "| <!--/--> | X &lt;int&gt; | sample_id &lt;chr&gt; | type &lt;chr&gt; | variable &lt;chr&gt; | value &lt;dbl&gt; | config &lt;chr&gt; |\n",
       "|---|---|---|---|---|---|---|\n",
       "| 1 | 1 | k10 | single_cell | B.cell__PARK7 | 0.9412188 | FALSE-FALSE-TRUE-0.2-FALSE-TRUE- |\n",
       "| 2 | 2 | k10 | single_cell | B.cell__ENO1  | 0.8205378 | FALSE-FALSE-TRUE-0.2-FALSE-TRUE- |\n",
       "\n"
      ],
      "text/plain": [
       "  X sample_id type        variable      value    \n",
       "1 1 k10       single_cell B.cell__PARK7 0.9412188\n",
       "2 2 k10       single_cell B.cell__ENO1  0.8205378\n",
       "  config                          \n",
       "1 FALSE-FALSE-TRUE-0.2-FALSE-TRUE-\n",
       "2 FALSE-FALSE-TRUE-0.2-FALSE-TRUE-"
      ]
     },
     "metadata": {},
     "output_type": "display_data"
    }
   ],
   "source": [
    "head(data_long,2)"
   ]
  },
  {
   "cell_type": "code",
   "execution_count": 55,
   "id": "7485b8aa-813f-48b2-9f0d-f4e334aab8e7",
   "metadata": {},
   "outputs": [
    {
     "data": {
      "text/html": [
       "<table class=\"dataframe\">\n",
       "<caption>A data.frame: 2 × 31</caption>\n",
       "<thead>\n",
       "\t<tr><th></th><th scope=col>X.1</th><th scope=col>sample_id</th><th scope=col>sample</th><th scope=col>id</th><th scope=col>measurement</th><th scope=col>library</th><th scope=col>id.y</th><th scope=col>name</th><th scope=col>read</th><th scope=col>pattern</th><th scope=col>⋯</th><th scope=col>delta_ef_value_group</th><th scope=col>delta_ef_value</th><th scope=col>delta_ef_value_class</th><th scope=col>ef_classification_data</th><th scope=col>CK</th><th scope=col>CK_MB</th><th scope=col>Troponin</th><th scope=col>CRP</th><th scope=col>clinical_data</th><th scope=col>CK_raw</th></tr>\n",
       "\t<tr><th></th><th scope=col>&lt;int&gt;</th><th scope=col>&lt;chr&gt;</th><th scope=col>&lt;chr&gt;</th><th scope=col>&lt;dbl&gt;</th><th scope=col>&lt;chr&gt;</th><th scope=col>&lt;chr&gt;</th><th scope=col>&lt;chr&gt;</th><th scope=col>&lt;chr&gt;</th><th scope=col>&lt;chr&gt;</th><th scope=col>&lt;chr&gt;</th><th scope=col>⋯</th><th scope=col>&lt;chr&gt;</th><th scope=col>&lt;dbl&gt;</th><th scope=col>&lt;chr&gt;</th><th scope=col>&lt;int&gt;</th><th scope=col>&lt;dbl&gt;</th><th scope=col>&lt;dbl&gt;</th><th scope=col>&lt;dbl&gt;</th><th scope=col>&lt;dbl&gt;</th><th scope=col>&lt;int&gt;</th><th scope=col>&lt;int&gt;</th></tr>\n",
       "</thead>\n",
       "<tbody>\n",
       "\t<tr><th scope=row>1</th><td>1</td><td>k1 </td><td>K1 </td><td> 1</td><td>TP0</td><td>L13</td><td>HTO_B0251</td><td>No-CCS-1 </td><td>R2</td><td>5PNNNNNNNNNN(BC)</td><td>⋯</td><td>NA</td><td>NA</td><td>NA</td><td>0</td><td>5.459432</td><td>NA</td><td>0.01863417</td><td>0.4854268</td><td>1</td><td>43</td></tr>\n",
       "\t<tr><th scope=row>2</th><td>2</td><td>k10</td><td>K10</td><td>10</td><td>TP0</td><td>L11</td><td>HTO_B0256</td><td>Ch-CCS-10</td><td>R2</td><td>5PNNNNNNNNNN(BC)</td><td>⋯</td><td>NA</td><td>NA</td><td>NA</td><td>0</td><td>      NA</td><td>NA</td><td>        NA</td><td>0.2630344</td><td>1</td><td>NA</td></tr>\n",
       "</tbody>\n",
       "</table>\n"
      ],
      "text/latex": [
       "A data.frame: 2 × 31\n",
       "\\begin{tabular}{r|lllllllllllllllllllll}\n",
       "  & X.1 & sample\\_id & sample & id & measurement & library & id.y & name & read & pattern & ⋯ & delta\\_ef\\_value\\_group & delta\\_ef\\_value & delta\\_ef\\_value\\_class & ef\\_classification\\_data & CK & CK\\_MB & Troponin & CRP & clinical\\_data & CK\\_raw\\\\\n",
       "  & <int> & <chr> & <chr> & <dbl> & <chr> & <chr> & <chr> & <chr> & <chr> & <chr> & ⋯ & <chr> & <dbl> & <chr> & <int> & <dbl> & <dbl> & <dbl> & <dbl> & <int> & <int>\\\\\n",
       "\\hline\n",
       "\t1 & 1 & k1  & K1  &  1 & TP0 & L13 & HTO\\_B0251 & No-CCS-1  & R2 & 5PNNNNNNNNNN(BC) & ⋯ & NA & NA & NA & 0 & 5.459432 & NA & 0.01863417 & 0.4854268 & 1 & 43\\\\\n",
       "\t2 & 2 & k10 & K10 & 10 & TP0 & L11 & HTO\\_B0256 & Ch-CCS-10 & R2 & 5PNNNNNNNNNN(BC) & ⋯ & NA & NA & NA & 0 &       NA & NA &         NA & 0.2630344 & 1 & NA\\\\\n",
       "\\end{tabular}\n"
      ],
      "text/markdown": [
       "\n",
       "A data.frame: 2 × 31\n",
       "\n",
       "| <!--/--> | X.1 &lt;int&gt; | sample_id &lt;chr&gt; | sample &lt;chr&gt; | id &lt;dbl&gt; | measurement &lt;chr&gt; | library &lt;chr&gt; | id.y &lt;chr&gt; | name &lt;chr&gt; | read &lt;chr&gt; | pattern &lt;chr&gt; | ⋯ ⋯ | delta_ef_value_group &lt;chr&gt; | delta_ef_value &lt;dbl&gt; | delta_ef_value_class &lt;chr&gt; | ef_classification_data &lt;int&gt; | CK &lt;dbl&gt; | CK_MB &lt;dbl&gt; | Troponin &lt;dbl&gt; | CRP &lt;dbl&gt; | clinical_data &lt;int&gt; | CK_raw &lt;int&gt; |\n",
       "|---|---|---|---|---|---|---|---|---|---|---|---|---|---|---|---|---|---|---|---|---|---|\n",
       "| 1 | 1 | k1  | K1  |  1 | TP0 | L13 | HTO_B0251 | No-CCS-1  | R2 | 5PNNNNNNNNNN(BC) | ⋯ | NA | NA | NA | 0 | 5.459432 | NA | 0.01863417 | 0.4854268 | 1 | 43 |\n",
       "| 2 | 2 | k10 | K10 | 10 | TP0 | L11 | HTO_B0256 | Ch-CCS-10 | R2 | 5PNNNNNNNNNN(BC) | ⋯ | NA | NA | NA | 0 |       NA | NA |         NA | 0.2630344 | 1 | NA |\n",
       "\n"
      ],
      "text/plain": [
       "  X.1 sample_id sample id measurement library id.y      name      read\n",
       "1 1   k1        K1      1 TP0         L13     HTO_B0251 No-CCS-1  R2  \n",
       "2 2   k10       K10    10 TP0         L11     HTO_B0256 Ch-CCS-10 R2  \n",
       "  pattern          ⋯ delta_ef_value_group delta_ef_value delta_ef_value_class\n",
       "1 5PNNNNNNNNNN(BC) ⋯ NA                   NA             NA                  \n",
       "2 5PNNNNNNNNNN(BC) ⋯ NA                   NA             NA                  \n",
       "  ef_classification_data CK       CK_MB Troponin   CRP       clinical_data\n",
       "1 0                      5.459432 NA    0.01863417 0.4854268 1            \n",
       "2 0                            NA NA            NA 0.2630344 1            \n",
       "  CK_raw\n",
       "1 43    \n",
       "2 NA    "
      ]
     },
     "metadata": {},
     "output_type": "display_data"
    }
   ],
   "source": [
    "head(sample_data,2)"
   ]
  },
  {
   "cell_type": "code",
   "execution_count": 56,
   "id": "6bc1c277-9b52-43fd-be4d-ed7178af4285",
   "metadata": {},
   "outputs": [
    {
     "data": {
      "text/html": [
       "<style>\n",
       ".list-inline {list-style: none; margin:0; padding: 0}\n",
       ".list-inline>li {display: inline-block}\n",
       ".list-inline>li:not(:last-child)::after {content: \"\\00b7\"; padding: 0 .5ex}\n",
       "</style>\n",
       "<ol class=list-inline><li>'vollstaendiger_ausschluss'</li><li>'ccs'</li><li>'koronarsklerose'</li><li>'acs_subacute'</li><li>'acs_w_infection'</li><li>'acs_w_o_infection'</li></ol>\n"
      ],
      "text/latex": [
       "\\begin{enumerate*}\n",
       "\\item 'vollstaendiger\\_ausschluss'\n",
       "\\item 'ccs'\n",
       "\\item 'koronarsklerose'\n",
       "\\item 'acs\\_subacute'\n",
       "\\item 'acs\\_w\\_infection'\n",
       "\\item 'acs\\_w\\_o\\_infection'\n",
       "\\end{enumerate*}\n"
      ],
      "text/markdown": [
       "1. 'vollstaendiger_ausschluss'\n",
       "2. 'ccs'\n",
       "3. 'koronarsklerose'\n",
       "4. 'acs_subacute'\n",
       "5. 'acs_w_infection'\n",
       "6. 'acs_w_o_infection'\n",
       "\n",
       "\n"
      ],
      "text/plain": [
       "[1] \"vollstaendiger_ausschluss\" \"ccs\"                      \n",
       "[3] \"koronarsklerose\"           \"acs_subacute\"             \n",
       "[5] \"acs_w_infection\"           \"acs_w_o_infection\"        "
      ]
     },
     "metadata": {},
     "output_type": "display_data"
    }
   ],
   "source": [
    "unique(sample_data$classification)"
   ]
  },
  {
   "cell_type": "code",
   "execution_count": 57,
   "id": "a922efa9-fd8e-4a39-b28c-95fb6a02fe2d",
   "metadata": {},
   "outputs": [
    {
     "data": {
      "text/html": [
       "'all'"
      ],
      "text/latex": [
       "'all'"
      ],
      "text/markdown": [
       "'all'"
      ],
      "text/plain": [
       "[1] \"all\""
      ]
     },
     "metadata": {},
     "output_type": "display_data"
    }
   ],
   "source": [
    "samples_var"
   ]
  },
  {
   "cell_type": "code",
   "execution_count": 58,
   "id": "27588cad-a49a-4f10-ae40-03c3b6132891",
   "metadata": {},
   "outputs": [],
   "source": [
    "if(samples_var == 'all'){\n",
    "    samples = unique(sample_data$sample_id) # without filter \n",
    "    }\n",
    "if(samples_var == 'acs_ccs'){\n",
    "    samples = unique(sample_data$sample_id[!sample_data$classification %in% c('vollstaendiger_ausschluss', 'koronarsklerose')])  # only acs comparison\n",
    "    }\n",
    "if(samples_var == 'no_acs'){\n",
    "    samples = unique(sample_data$sample_id[sample_data$classification %in% c('vollstaendiger_ausschluss', 'ccs', 'koronarsklerose')])  # only acs comparison\n",
    "    }\n",
    "if(samples_var == 'acs'){\n",
    "    samples = unique(sample_data$sample_id[sample_data$classification %in% c('acs_subacute', 'acs_w_infection', 'acs_w_o_infection')])  # only acs comparison\n",
    "    }\n",
    "    "
   ]
  },
  {
   "cell_type": "code",
   "execution_count": 59,
   "id": "8b77664c-df52-4cab-9fe2-fe5c4160bfd9",
   "metadata": {},
   "outputs": [
    {
     "data": {
      "text/html": [
       "149"
      ],
      "text/latex": [
       "149"
      ],
      "text/markdown": [
       "149"
      ],
      "text/plain": [
       "[1] 149"
      ]
     },
     "metadata": {},
     "output_type": "display_data"
    }
   ],
   "source": [
    "length(samples)"
   ]
  },
  {
   "cell_type": "code",
   "execution_count": 60,
   "id": "8b922790-b535-4bc7-9459-986097445e99",
   "metadata": {},
   "outputs": [],
   "source": [
    "#samples"
   ]
  },
  {
   "cell_type": "code",
   "execution_count": 61,
   "id": "8ec4cbfd-428d-4f8e-9e4e-ff9f2ca5c212",
   "metadata": {},
   "outputs": [
    {
     "data": {
      "text/html": [
       "146"
      ],
      "text/latex": [
       "146"
      ],
      "text/markdown": [
       "146"
      ],
      "text/plain": [
       "[1] 146"
      ]
     },
     "metadata": {},
     "output_type": "display_data"
    }
   ],
   "source": [
    "length(unique(data_long$sample_id))"
   ]
  },
  {
   "cell_type": "code",
   "execution_count": 62,
   "id": "6c715d04-b595-46ae-9c5c-c88747265cf1",
   "metadata": {},
   "outputs": [],
   "source": [
    "data_long = data_long[data_long$sample_id %in% samples,]"
   ]
  },
  {
   "cell_type": "code",
   "execution_count": 63,
   "id": "e31d6baa-8e9a-4d15-a6c2-f4d316f6bf41",
   "metadata": {},
   "outputs": [
    {
     "data": {
      "text/html": [
       "146"
      ],
      "text/latex": [
       "146"
      ],
      "text/markdown": [
       "146"
      ],
      "text/plain": [
       "[1] 146"
      ]
     },
     "metadata": {},
     "output_type": "display_data"
    }
   ],
   "source": [
    "length(unique(data_long$sample_id))"
   ]
  },
  {
   "cell_type": "markdown",
   "id": "24578da6-022d-4311-a984-630e98ca80f0",
   "metadata": {},
   "source": [
    "### Filter out variables"
   ]
  },
  {
   "cell_type": "code",
   "execution_count": 64,
   "id": "6e5a614d-b5db-4943-b74c-bbbcf0efc785",
   "metadata": {},
   "outputs": [
    {
     "data": {
      "text/html": [
       "<table class=\"dataframe\">\n",
       "<caption>A data.frame: 2 × 6</caption>\n",
       "<thead>\n",
       "\t<tr><th></th><th scope=col>X</th><th scope=col>sample_id</th><th scope=col>type</th><th scope=col>variable</th><th scope=col>value</th><th scope=col>config</th></tr>\n",
       "\t<tr><th></th><th scope=col>&lt;int&gt;</th><th scope=col>&lt;chr&gt;</th><th scope=col>&lt;chr&gt;</th><th scope=col>&lt;chr&gt;</th><th scope=col>&lt;dbl&gt;</th><th scope=col>&lt;chr&gt;</th></tr>\n",
       "</thead>\n",
       "<tbody>\n",
       "\t<tr><th scope=row>1</th><td>1</td><td>k10</td><td>single_cell</td><td>B.cell__PARK7</td><td>0.9412188</td><td>FALSE-FALSE-TRUE-0.2-FALSE-TRUE-</td></tr>\n",
       "\t<tr><th scope=row>2</th><td>2</td><td>k10</td><td>single_cell</td><td>B.cell__ENO1 </td><td>0.8205378</td><td>FALSE-FALSE-TRUE-0.2-FALSE-TRUE-</td></tr>\n",
       "</tbody>\n",
       "</table>\n"
      ],
      "text/latex": [
       "A data.frame: 2 × 6\n",
       "\\begin{tabular}{r|llllll}\n",
       "  & X & sample\\_id & type & variable & value & config\\\\\n",
       "  & <int> & <chr> & <chr> & <chr> & <dbl> & <chr>\\\\\n",
       "\\hline\n",
       "\t1 & 1 & k10 & single\\_cell & B.cell\\_\\_PARK7 & 0.9412188 & FALSE-FALSE-TRUE-0.2-FALSE-TRUE-\\\\\n",
       "\t2 & 2 & k10 & single\\_cell & B.cell\\_\\_ENO1  & 0.8205378 & FALSE-FALSE-TRUE-0.2-FALSE-TRUE-\\\\\n",
       "\\end{tabular}\n"
      ],
      "text/markdown": [
       "\n",
       "A data.frame: 2 × 6\n",
       "\n",
       "| <!--/--> | X &lt;int&gt; | sample_id &lt;chr&gt; | type &lt;chr&gt; | variable &lt;chr&gt; | value &lt;dbl&gt; | config &lt;chr&gt; |\n",
       "|---|---|---|---|---|---|---|\n",
       "| 1 | 1 | k10 | single_cell | B.cell__PARK7 | 0.9412188 | FALSE-FALSE-TRUE-0.2-FALSE-TRUE- |\n",
       "| 2 | 2 | k10 | single_cell | B.cell__ENO1  | 0.8205378 | FALSE-FALSE-TRUE-0.2-FALSE-TRUE- |\n",
       "\n"
      ],
      "text/plain": [
       "  X sample_id type        variable      value    \n",
       "1 1 k10       single_cell B.cell__PARK7 0.9412188\n",
       "2 2 k10       single_cell B.cell__ENO1  0.8205378\n",
       "  config                          \n",
       "1 FALSE-FALSE-TRUE-0.2-FALSE-TRUE-\n",
       "2 FALSE-FALSE-TRUE-0.2-FALSE-TRUE-"
      ]
     },
     "metadata": {},
     "output_type": "display_data"
    }
   ],
   "source": [
    "head(data_long,2)"
   ]
  },
  {
   "cell_type": "code",
   "execution_count": 65,
   "id": "483a8522-d559-4e22-8906-0c664442a4c5",
   "metadata": {},
   "outputs": [
    {
     "data": {
      "text/html": [
       "<style>\n",
       ".list-inline {list-style: none; margin:0; padding: 0}\n",
       ".list-inline>li {display: inline-block}\n",
       ".list-inline>li:not(:last-child)::after {content: \"\\00b7\"; padding: 0 .5ex}\n",
       "</style>\n",
       "<ol class=list-inline><li>'single_cell'</li><li>'cytokine'</li><li>'proteomics'</li><li>'neutrophil'</li><li>'clinical_data'</li></ol>\n"
      ],
      "text/latex": [
       "\\begin{enumerate*}\n",
       "\\item 'single\\_cell'\n",
       "\\item 'cytokine'\n",
       "\\item 'proteomics'\n",
       "\\item 'neutrophil'\n",
       "\\item 'clinical\\_data'\n",
       "\\end{enumerate*}\n"
      ],
      "text/markdown": [
       "1. 'single_cell'\n",
       "2. 'cytokine'\n",
       "3. 'proteomics'\n",
       "4. 'neutrophil'\n",
       "5. 'clinical_data'\n",
       "\n",
       "\n"
      ],
      "text/plain": [
       "[1] \"single_cell\"   \"cytokine\"      \"proteomics\"    \"neutrophil\"   \n",
       "[5] \"clinical_data\""
      ]
     },
     "metadata": {},
     "output_type": "display_data"
    }
   ],
   "source": [
    "unique(data_long$type)"
   ]
  },
  {
   "cell_type": "code",
   "execution_count": 66,
   "id": "534b0f3a-4d95-40e8-a08f-63fba93003d4",
   "metadata": {},
   "outputs": [],
   "source": [
    "data_long = data_long[data_long$variable != 'delta_ef_value',]"
   ]
  },
  {
   "cell_type": "code",
   "execution_count": 67,
   "id": "d1f1379e-f702-4990-8e98-d1d2097b2ea3",
   "metadata": {},
   "outputs": [
    {
     "data": {
      "text/html": [
       "<table class=\"dataframe\">\n",
       "<caption>A data.frame: 4 × 2</caption>\n",
       "<thead>\n",
       "\t<tr><th></th><th scope=col>type</th><th scope=col>variable</th></tr>\n",
       "\t<tr><th></th><th scope=col>&lt;chr&gt;</th><th scope=col>&lt;chr&gt;</th></tr>\n",
       "</thead>\n",
       "<tbody>\n",
       "\t<tr><th scope=row>1064907</th><td>clinical_data</td><td>CK      </td></tr>\n",
       "\t<tr><th scope=row>1065053</th><td>clinical_data</td><td>CK_MB   </td></tr>\n",
       "\t<tr><th scope=row>1065199</th><td>clinical_data</td><td>Troponin</td></tr>\n",
       "\t<tr><th scope=row>1065491</th><td>clinical_data</td><td>CRP     </td></tr>\n",
       "</tbody>\n",
       "</table>\n"
      ],
      "text/latex": [
       "A data.frame: 4 × 2\n",
       "\\begin{tabular}{r|ll}\n",
       "  & type & variable\\\\\n",
       "  & <chr> & <chr>\\\\\n",
       "\\hline\n",
       "\t1064907 & clinical\\_data & CK      \\\\\n",
       "\t1065053 & clinical\\_data & CK\\_MB   \\\\\n",
       "\t1065199 & clinical\\_data & Troponin\\\\\n",
       "\t1065491 & clinical\\_data & CRP     \\\\\n",
       "\\end{tabular}\n"
      ],
      "text/markdown": [
       "\n",
       "A data.frame: 4 × 2\n",
       "\n",
       "| <!--/--> | type &lt;chr&gt; | variable &lt;chr&gt; |\n",
       "|---|---|---|\n",
       "| 1064907 | clinical_data | CK       |\n",
       "| 1065053 | clinical_data | CK_MB    |\n",
       "| 1065199 | clinical_data | Troponin |\n",
       "| 1065491 | clinical_data | CRP      |\n",
       "\n"
      ],
      "text/plain": [
       "        type          variable\n",
       "1064907 clinical_data CK      \n",
       "1065053 clinical_data CK_MB   \n",
       "1065199 clinical_data Troponin\n",
       "1065491 clinical_data CRP     "
      ]
     },
     "metadata": {},
     "output_type": "display_data"
    }
   ],
   "source": [
    "unique(data_long[data_long$type == 'clinical_data', c('type', 'variable')])"
   ]
  },
  {
   "cell_type": "code",
   "execution_count": null,
   "id": "35480718-c978-4289-b157-476045bb27a6",
   "metadata": {},
   "outputs": [],
   "source": []
  },
  {
   "cell_type": "markdown",
   "id": "7d43d8b7-2c9d-43b3-b073-67619eae8d2b",
   "metadata": {
    "tags": []
   },
   "source": [
    "### Filter on expression"
   ]
  },
  {
   "cell_type": "code",
   "execution_count": 68,
   "id": "fdb16159-6fc1-4fbc-bbb8-2543419d295f",
   "metadata": {},
   "outputs": [],
   "source": [
    "data_long$expression = TRUE"
   ]
  },
  {
   "cell_type": "code",
   "execution_count": 69,
   "id": "c92a789d-aef8-4982-83f1-af783cc02bae",
   "metadata": {},
   "outputs": [],
   "source": [
    "data_long$expression[data_long$value == 0] = FALSE"
   ]
  },
  {
   "cell_type": "code",
   "execution_count": 71,
   "id": "2c69b5cc-9a70-4645-bdd3-c142c035e733",
   "metadata": {},
   "outputs": [
    {
     "name": "stderr",
     "output_type": "stream",
     "text": [
      "\u001b[1m\u001b[22m`summarise()` has grouped output by 'type'. You can override using the\n",
      "`.groups` argument.\n"
     ]
    }
   ],
   "source": [
    "expression_filter = data_long %>% group_by(type, variable) %>% summarise(perc_expression = sum(expression)  )"
   ]
  },
  {
   "cell_type": "code",
   "execution_count": 72,
   "id": "0dc75d03-57e3-446b-bd0a-0cde49b7adca",
   "metadata": {},
   "outputs": [],
   "source": [
    "expression_filter$perc_expression = expression_filter$perc_expression / length(unique(data_long$sample_id))"
   ]
  },
  {
   "cell_type": "code",
   "execution_count": 73,
   "id": "e307d09b-8e0e-4417-841d-02fdbf554e97",
   "metadata": {},
   "outputs": [
    {
     "data": {
      "text/html": [
       "9151"
      ],
      "text/latex": [
       "9151"
      ],
      "text/markdown": [
       "9151"
      ],
      "text/plain": [
       "[1] 9151"
      ]
     },
     "metadata": {},
     "output_type": "display_data"
    }
   ],
   "source": [
    "nrow(expression_filter)"
   ]
  },
  {
   "cell_type": "code",
   "execution_count": 74,
   "id": "ce33fa69-5141-414d-a428-544642b85e6a",
   "metadata": {},
   "outputs": [
    {
     "data": {
      "text/html": [
       "9151"
      ],
      "text/latex": [
       "9151"
      ],
      "text/markdown": [
       "9151"
      ],
      "text/plain": [
       "[1] 9151"
      ]
     },
     "metadata": {},
     "output_type": "display_data"
    }
   ],
   "source": [
    "nrow(unique(data_long[,c('type', 'variable')]))"
   ]
  },
  {
   "cell_type": "code",
   "execution_count": 75,
   "id": "f6809dcd-d112-4dce-9adf-416e8b1ebe56",
   "metadata": {},
   "outputs": [
    {
     "data": {
      "text/html": [
       "'cytokine'"
      ],
      "text/latex": [
       "'cytokine'"
      ],
      "text/markdown": [
       "'cytokine'"
      ],
      "text/plain": [
       "[1] \"cytokine\""
      ]
     },
     "metadata": {},
     "output_type": "display_data"
    }
   ],
   "source": [
    "unique(expression_filter$type[expression_filter$perc_expression <= 0.2])"
   ]
  },
  {
   "cell_type": "code",
   "execution_count": 76,
   "id": "2fa2ac2d-0341-4339-9686-0ed82929b12a",
   "metadata": {},
   "outputs": [],
   "source": [
    "filtered_out = expression_filter[expression_filter$perc_expression <= 0.2,]"
   ]
  },
  {
   "cell_type": "code",
   "execution_count": 77,
   "id": "2b8f9934-2c21-401b-9aab-be2f0f72a7dc",
   "metadata": {},
   "outputs": [],
   "source": [
    "expression_filter = expression_filter[expression_filter$perc_expression > 0.2,]"
   ]
  },
  {
   "cell_type": "code",
   "execution_count": 78,
   "id": "cadf8005-9fe7-4f37-ad4e-de0238c34b99",
   "metadata": {},
   "outputs": [],
   "source": [
    "#filtered_out"
   ]
  },
  {
   "cell_type": "code",
   "execution_count": 79,
   "id": "ee6e2e2a-2385-4df4-9862-2da06e06917d",
   "metadata": {},
   "outputs": [
    {
     "data": {
      "text/html": [
       "<table class=\"dataframe\">\n",
       "<caption>A grouped_df: 2 × 3</caption>\n",
       "<thead>\n",
       "\t<tr><th scope=col>type</th><th scope=col>variable</th><th scope=col>perc_expression</th></tr>\n",
       "\t<tr><th scope=col>&lt;chr&gt;</th><th scope=col>&lt;chr&gt;</th><th scope=col>&lt;dbl&gt;</th></tr>\n",
       "</thead>\n",
       "<tbody>\n",
       "\t<tr><td>clinical_data</td><td>CK   </td><td>1</td></tr>\n",
       "\t<tr><td>clinical_data</td><td>CK_MB</td><td>1</td></tr>\n",
       "</tbody>\n",
       "</table>\n"
      ],
      "text/latex": [
       "A grouped\\_df: 2 × 3\n",
       "\\begin{tabular}{lll}\n",
       " type & variable & perc\\_expression\\\\\n",
       " <chr> & <chr> & <dbl>\\\\\n",
       "\\hline\n",
       "\t clinical\\_data & CK    & 1\\\\\n",
       "\t clinical\\_data & CK\\_MB & 1\\\\\n",
       "\\end{tabular}\n"
      ],
      "text/markdown": [
       "\n",
       "A grouped_df: 2 × 3\n",
       "\n",
       "| type &lt;chr&gt; | variable &lt;chr&gt; | perc_expression &lt;dbl&gt; |\n",
       "|---|---|---|\n",
       "| clinical_data | CK    | 1 |\n",
       "| clinical_data | CK_MB | 1 |\n",
       "\n"
      ],
      "text/plain": [
       "  type          variable perc_expression\n",
       "1 clinical_data CK       1              \n",
       "2 clinical_data CK_MB    1              "
      ]
     },
     "metadata": {},
     "output_type": "display_data"
    }
   ],
   "source": [
    "head(expression_filter,2)"
   ]
  },
  {
   "cell_type": "code",
   "execution_count": 80,
   "id": "602286d5-27f1-44d0-a929-09cc2fea0c31",
   "metadata": {},
   "outputs": [
    {
     "data": {
      "text/html": [
       "9145"
      ],
      "text/latex": [
       "9145"
      ],
      "text/markdown": [
       "9145"
      ],
      "text/plain": [
       "[1] 9145"
      ]
     },
     "metadata": {},
     "output_type": "display_data"
    }
   ],
   "source": [
    "nrow(expression_filter)"
   ]
  },
  {
   "cell_type": "code",
   "execution_count": 81,
   "id": "3cd3a38c-fb18-44ba-ba2b-90b0d500da6b",
   "metadata": {},
   "outputs": [
    {
     "data": {
      "text/html": [
       "<table class=\"dataframe\">\n",
       "<caption>A grouped_df: 6 × 3</caption>\n",
       "<thead>\n",
       "\t<tr><th scope=col>type</th><th scope=col>variable</th><th scope=col>perc_expression</th></tr>\n",
       "\t<tr><th scope=col>&lt;chr&gt;</th><th scope=col>&lt;chr&gt;</th><th scope=col>&lt;dbl&gt;</th></tr>\n",
       "</thead>\n",
       "<tbody>\n",
       "\t<tr><td>clinical_data</td><td>CK          </td><td>1.0000000</td></tr>\n",
       "\t<tr><td>clinical_data</td><td>CK_MB       </td><td>1.0000000</td></tr>\n",
       "\t<tr><td>clinical_data</td><td>CRP         </td><td>1.0000000</td></tr>\n",
       "\t<tr><td>clinical_data</td><td>Troponin    </td><td>1.0000000</td></tr>\n",
       "\t<tr><td>cytokine     </td><td>BCA1__CXCL13</td><td>0.8630137</td></tr>\n",
       "\t<tr><td>cytokine     </td><td>CTACK__CCL27</td><td>0.8630137</td></tr>\n",
       "</tbody>\n",
       "</table>\n"
      ],
      "text/latex": [
       "A grouped\\_df: 6 × 3\n",
       "\\begin{tabular}{lll}\n",
       " type & variable & perc\\_expression\\\\\n",
       " <chr> & <chr> & <dbl>\\\\\n",
       "\\hline\n",
       "\t clinical\\_data & CK           & 1.0000000\\\\\n",
       "\t clinical\\_data & CK\\_MB        & 1.0000000\\\\\n",
       "\t clinical\\_data & CRP          & 1.0000000\\\\\n",
       "\t clinical\\_data & Troponin     & 1.0000000\\\\\n",
       "\t cytokine      & BCA1\\_\\_CXCL13 & 0.8630137\\\\\n",
       "\t cytokine      & CTACK\\_\\_CCL27 & 0.8630137\\\\\n",
       "\\end{tabular}\n"
      ],
      "text/markdown": [
       "\n",
       "A grouped_df: 6 × 3\n",
       "\n",
       "| type &lt;chr&gt; | variable &lt;chr&gt; | perc_expression &lt;dbl&gt; |\n",
       "|---|---|---|\n",
       "| clinical_data | CK           | 1.0000000 |\n",
       "| clinical_data | CK_MB        | 1.0000000 |\n",
       "| clinical_data | CRP          | 1.0000000 |\n",
       "| clinical_data | Troponin     | 1.0000000 |\n",
       "| cytokine      | BCA1__CXCL13 | 0.8630137 |\n",
       "| cytokine      | CTACK__CCL27 | 0.8630137 |\n",
       "\n"
      ],
      "text/plain": [
       "  type          variable     perc_expression\n",
       "1 clinical_data CK           1.0000000      \n",
       "2 clinical_data CK_MB        1.0000000      \n",
       "3 clinical_data CRP          1.0000000      \n",
       "4 clinical_data Troponin     1.0000000      \n",
       "5 cytokine      BCA1__CXCL13 0.8630137      \n",
       "6 cytokine      CTACK__CCL27 0.8630137      "
      ]
     },
     "metadata": {},
     "output_type": "display_data"
    }
   ],
   "source": [
    "head(expression_filter)"
   ]
  },
  {
   "cell_type": "code",
   "execution_count": 82,
   "id": "35c82be5-67f5-419d-a5e7-93d7f85cb7e7",
   "metadata": {
    "tags": []
   },
   "outputs": [],
   "source": [
    "data_long = merge(data_long, expression_filter[,c('type', 'variable')], by.x = c('type', 'variable'), by.y = c('type', 'variable'))   # filter the data"
   ]
  },
  {
   "cell_type": "code",
   "execution_count": 83,
   "id": "1e3b4897-69c7-43a1-bbb4-0b578e2392fb",
   "metadata": {},
   "outputs": [
    {
     "data": {
      "text/html": [
       "<style>\n",
       ".list-inline {list-style: none; margin:0; padding: 0}\n",
       ".list-inline>li {display: inline-block}\n",
       ".list-inline>li:not(:last-child)::after {content: \"\\00b7\"; padding: 0 .5ex}\n",
       "</style>\n",
       "<ol class=list-inline><li>'clinical_data'</li><li>'cytokine'</li><li>'neutrophil'</li><li>'proteomics'</li><li>'single_cell'</li></ol>\n"
      ],
      "text/latex": [
       "\\begin{enumerate*}\n",
       "\\item 'clinical\\_data'\n",
       "\\item 'cytokine'\n",
       "\\item 'neutrophil'\n",
       "\\item 'proteomics'\n",
       "\\item 'single\\_cell'\n",
       "\\end{enumerate*}\n"
      ],
      "text/markdown": [
       "1. 'clinical_data'\n",
       "2. 'cytokine'\n",
       "3. 'neutrophil'\n",
       "4. 'proteomics'\n",
       "5. 'single_cell'\n",
       "\n",
       "\n"
      ],
      "text/plain": [
       "[1] \"clinical_data\" \"cytokine\"      \"neutrophil\"    \"proteomics\"   \n",
       "[5] \"single_cell\"  "
      ]
     },
     "metadata": {},
     "output_type": "display_data"
    }
   ],
   "source": [
    "unique(data_long$type)"
   ]
  },
  {
   "cell_type": "code",
   "execution_count": 84,
   "id": "f8c3422f-72d5-4781-99fc-c7ba4bbc9783",
   "metadata": {},
   "outputs": [
    {
     "data": {
      "text/html": [
       "1064734"
      ],
      "text/latex": [
       "1064734"
      ],
      "text/markdown": [
       "1064734"
      ],
      "text/plain": [
       "[1] 1064734"
      ]
     },
     "metadata": {},
     "output_type": "display_data"
    }
   ],
   "source": [
    "nrow(data_long)"
   ]
  },
  {
   "cell_type": "code",
   "execution_count": 86,
   "id": "35e360eb-c53a-4381-a2dd-597ffd582957",
   "metadata": {},
   "outputs": [
    {
     "data": {
      "text/html": [
       "9145"
      ],
      "text/latex": [
       "9145"
      ],
      "text/markdown": [
       "9145"
      ],
      "text/plain": [
       "[1] 9145"
      ]
     },
     "metadata": {},
     "output_type": "display_data"
    }
   ],
   "source": [
    "length(unique(data_long$variable))"
   ]
  },
  {
   "cell_type": "code",
   "execution_count": 87,
   "id": "09b981e9-8149-4c16-aac3-e068bdc38f11",
   "metadata": {},
   "outputs": [
    {
     "data": {
      "text/html": [
       "146"
      ],
      "text/latex": [
       "146"
      ],
      "text/markdown": [
       "146"
      ],
      "text/plain": [
       "[1] 146"
      ]
     },
     "metadata": {},
     "output_type": "display_data"
    }
   ],
   "source": [
    "length(unique(data_long$sample_id))"
   ]
  },
  {
   "cell_type": "markdown",
   "id": "51cb8f7e-228a-4a94-9781-6b6803cf4f8c",
   "metadata": {
    "tags": []
   },
   "source": [
    "### Normalization & wide format"
   ]
  },
  {
   "cell_type": "code",
   "execution_count": 88,
   "id": "920e87f8-4ef1-445d-ad1d-6df7a4972ef4",
   "metadata": {},
   "outputs": [],
   "source": [
    "### Standardize values"
   ]
  },
  {
   "cell_type": "code",
   "execution_count": 89,
   "id": "3ac1b143-6797-4789-abb5-47bc44cf0bf2",
   "metadata": {},
   "outputs": [
    {
     "data": {
      "text/html": [
       "FALSE"
      ],
      "text/latex": [
       "FALSE"
      ],
      "text/markdown": [
       "FALSE"
      ],
      "text/plain": [
       "[1] FALSE"
      ]
     },
     "metadata": {},
     "output_type": "display_data"
    }
   ],
   "source": [
    "standardize"
   ]
  },
  {
   "cell_type": "code",
   "execution_count": 90,
   "id": "3836bac8-5d80-4943-a2b7-8e5fec42bfeb",
   "metadata": {},
   "outputs": [],
   "source": [
    "if(standardize == TRUE){\n",
    "    data_long = merge(data_long, data_long %>% group_by(variable) %>% summarise(mean = mean(value, na.rm = TRUE), sd = sd(value, na.rm = TRUE)))\n",
    "    \n",
    "    data_long[data_long == 0] = NA\n",
    "    \n",
    "    data_long = data_long[(data_long$sd != 0) & (!is.na(data_long$sd)),]\n",
    "    \n",
    "    data_nas = data.frame(is.na(data_long))\n",
    "    data_long$value = (data_long$value - data_long$mean)/data_long$sd\n",
    "    \n",
    "    #data_long = data.frame(data_long)\n",
    "    data_long$mean = NULL\n",
    "    data_long$sd = NULL\n",
    "    data_long$value[data_nas$value] = NA\n",
    "    }"
   ]
  },
  {
   "cell_type": "code",
   "execution_count": 91,
   "id": "2a5724e6-eb6c-4346-9cfa-4924c22189e9",
   "metadata": {},
   "outputs": [
    {
     "data": {
      "text/html": [
       "<style>\n",
       ".list-inline {list-style: none; margin:0; padding: 0}\n",
       ".list-inline>li {display: inline-block}\n",
       ".list-inline>li:not(:last-child)::after {content: \"\\00b7\"; padding: 0 .5ex}\n",
       "</style>\n",
       "<ol class=list-inline><li>'clinical_data'</li><li>'cytokine'</li><li>'neutrophil'</li><li>'proteomics'</li><li>'single_cell'</li></ol>\n"
      ],
      "text/latex": [
       "\\begin{enumerate*}\n",
       "\\item 'clinical\\_data'\n",
       "\\item 'cytokine'\n",
       "\\item 'neutrophil'\n",
       "\\item 'proteomics'\n",
       "\\item 'single\\_cell'\n",
       "\\end{enumerate*}\n"
      ],
      "text/markdown": [
       "1. 'clinical_data'\n",
       "2. 'cytokine'\n",
       "3. 'neutrophil'\n",
       "4. 'proteomics'\n",
       "5. 'single_cell'\n",
       "\n",
       "\n"
      ],
      "text/plain": [
       "[1] \"clinical_data\" \"cytokine\"      \"neutrophil\"    \"proteomics\"   \n",
       "[5] \"single_cell\"  "
      ]
     },
     "metadata": {},
     "output_type": "display_data"
    }
   ],
   "source": [
    "unique(data_long$type)"
   ]
  },
  {
   "cell_type": "code",
   "execution_count": 92,
   "id": "4ca77032-8898-428f-a735-a2071173c03c",
   "metadata": {},
   "outputs": [],
   "source": [
    "## Prepare wide format for correlations"
   ]
  },
  {
   "cell_type": "code",
   "execution_count": 93,
   "id": "93dda395-7382-470f-babb-177bd5b79acd",
   "metadata": {},
   "outputs": [],
   "source": [
    "data_long$ident = paste0(data_long$type, '_0_', data_long$variable)"
   ]
  },
  {
   "cell_type": "code",
   "execution_count": 94,
   "id": "c0c13403-75a2-4481-bf53-fcf79ef3aa47",
   "metadata": {},
   "outputs": [
    {
     "data": {
      "text/html": [
       "1064734"
      ],
      "text/latex": [
       "1064734"
      ],
      "text/markdown": [
       "1064734"
      ],
      "text/plain": [
       "[1] 1064734"
      ]
     },
     "metadata": {},
     "output_type": "display_data"
    }
   ],
   "source": [
    "nrow(unique(data_long[,c('sample_id', 'ident')]))"
   ]
  },
  {
   "cell_type": "code",
   "execution_count": 95,
   "id": "4d0f6103-f05e-4620-9494-f6d14a042e8f",
   "metadata": {},
   "outputs": [
    {
     "data": {
      "text/html": [
       "1064734"
      ],
      "text/latex": [
       "1064734"
      ],
      "text/markdown": [
       "1064734"
      ],
      "text/plain": [
       "[1] 1064734"
      ]
     },
     "metadata": {},
     "output_type": "display_data"
    }
   ],
   "source": [
    "nrow(data_long)"
   ]
  },
  {
   "cell_type": "code",
   "execution_count": 96,
   "id": "50da7449-cbb8-4927-9cda-b4b80c6031b9",
   "metadata": {},
   "outputs": [
    {
     "data": {
      "text/html": [
       "<table class=\"dataframe\">\n",
       "<caption>A data.frame: 1 × 8</caption>\n",
       "<thead>\n",
       "\t<tr><th></th><th scope=col>type</th><th scope=col>variable</th><th scope=col>X</th><th scope=col>sample_id</th><th scope=col>value</th><th scope=col>config</th><th scope=col>expression</th><th scope=col>ident</th></tr>\n",
       "\t<tr><th></th><th scope=col>&lt;chr&gt;</th><th scope=col>&lt;chr&gt;</th><th scope=col>&lt;int&gt;</th><th scope=col>&lt;chr&gt;</th><th scope=col>&lt;dbl&gt;</th><th scope=col>&lt;chr&gt;</th><th scope=col>&lt;lgl&gt;</th><th scope=col>&lt;chr&gt;</th></tr>\n",
       "</thead>\n",
       "<tbody>\n",
       "\t<tr><th scope=row>295</th><td>clinical_data</td><td>CRP</td><td>1065493</td><td>k11</td><td>0.1375035</td><td>FALSE-FALSE-TRUE-0.2-FALSE-TRUE-</td><td>TRUE</td><td>clinical_data_0_CRP</td></tr>\n",
       "</tbody>\n",
       "</table>\n"
      ],
      "text/latex": [
       "A data.frame: 1 × 8\n",
       "\\begin{tabular}{r|llllllll}\n",
       "  & type & variable & X & sample\\_id & value & config & expression & ident\\\\\n",
       "  & <chr> & <chr> & <int> & <chr> & <dbl> & <chr> & <lgl> & <chr>\\\\\n",
       "\\hline\n",
       "\t295 & clinical\\_data & CRP & 1065493 & k11 & 0.1375035 & FALSE-FALSE-TRUE-0.2-FALSE-TRUE- & TRUE & clinical\\_data\\_0\\_CRP\\\\\n",
       "\\end{tabular}\n"
      ],
      "text/markdown": [
       "\n",
       "A data.frame: 1 × 8\n",
       "\n",
       "| <!--/--> | type &lt;chr&gt; | variable &lt;chr&gt; | X &lt;int&gt; | sample_id &lt;chr&gt; | value &lt;dbl&gt; | config &lt;chr&gt; | expression &lt;lgl&gt; | ident &lt;chr&gt; |\n",
       "|---|---|---|---|---|---|---|---|---|\n",
       "| 295 | clinical_data | CRP | 1065493 | k11 | 0.1375035 | FALSE-FALSE-TRUE-0.2-FALSE-TRUE- | TRUE | clinical_data_0_CRP |\n",
       "\n"
      ],
      "text/plain": [
       "    type          variable X       sample_id value    \n",
       "295 clinical_data CRP      1065493 k11       0.1375035\n",
       "    config                           expression ident              \n",
       "295 FALSE-FALSE-TRUE-0.2-FALSE-TRUE- TRUE       clinical_data_0_CRP"
      ]
     },
     "metadata": {},
     "output_type": "display_data"
    }
   ],
   "source": [
    "data_long[(data_long$sample_id == 'k11') & (data_long$variable == 'CRP'),]"
   ]
  },
  {
   "cell_type": "code",
   "execution_count": 97,
   "id": "e435785c-6afd-41a1-a578-7ff92190f1ff",
   "metadata": {},
   "outputs": [],
   "source": [
    "### Transform to wide"
   ]
  },
  {
   "cell_type": "code",
   "execution_count": 98,
   "id": "3f33cef4-dfb9-4ee6-a318-93fd05f626c1",
   "metadata": {},
   "outputs": [],
   "source": [
    "final_data = dcast(data_long, sample_id ~ ident , value.var = \"value\") # ! with this merging there might be NA values for some samples on some data types"
   ]
  },
  {
   "cell_type": "code",
   "execution_count": 99,
   "id": "4549c980-387d-450c-be08-506c19784d15",
   "metadata": {},
   "outputs": [
    {
     "data": {
      "text/html": [
       "<table class=\"dataframe\">\n",
       "<caption>A data.frame: 2 × 9146</caption>\n",
       "<thead>\n",
       "\t<tr><th></th><th scope=col>sample_id</th><th scope=col>clinical_data_0_CK</th><th scope=col>clinical_data_0_CK_MB</th><th scope=col>clinical_data_0_CRP</th><th scope=col>clinical_data_0_Troponin</th><th scope=col>cytokine_0_BCA1__CXCL13</th><th scope=col>cytokine_0_CTACK__CCL27</th><th scope=col>cytokine_0_EGF__EGF</th><th scope=col>cytokine_0_ENA78__CXCL5</th><th scope=col>cytokine_0_Eotaxin__CCL11</th><th scope=col>⋯</th><th scope=col>single_cell_0_Treg__VIM</th><th scope=col>single_cell_0_Treg__YBX1</th><th scope=col>single_cell_0_Treg__YPEL5</th><th scope=col>single_cell_0_Treg__YWHAB</th><th scope=col>single_cell_0_Treg__YWHAZ</th><th scope=col>single_cell_0_Treg__ZC3HAV1</th><th scope=col>single_cell_0_Treg__ZFAS1</th><th scope=col>single_cell_0_Treg__ZFP36</th><th scope=col>single_cell_0_Treg__ZFP36L2</th><th scope=col>single_cell_0_Treg__ZNF331</th></tr>\n",
       "\t<tr><th></th><th scope=col>&lt;chr&gt;</th><th scope=col>&lt;dbl&gt;</th><th scope=col>&lt;dbl&gt;</th><th scope=col>&lt;dbl&gt;</th><th scope=col>&lt;dbl&gt;</th><th scope=col>&lt;dbl&gt;</th><th scope=col>&lt;dbl&gt;</th><th scope=col>&lt;dbl&gt;</th><th scope=col>&lt;dbl&gt;</th><th scope=col>&lt;dbl&gt;</th><th scope=col>⋯</th><th scope=col>&lt;dbl&gt;</th><th scope=col>&lt;dbl&gt;</th><th scope=col>&lt;dbl&gt;</th><th scope=col>&lt;dbl&gt;</th><th scope=col>&lt;dbl&gt;</th><th scope=col>&lt;dbl&gt;</th><th scope=col>&lt;dbl&gt;</th><th scope=col>&lt;dbl&gt;</th><th scope=col>&lt;dbl&gt;</th><th scope=col>&lt;dbl&gt;</th></tr>\n",
       "</thead>\n",
       "<tbody>\n",
       "\t<tr><th scope=row>1</th><td>k1 </td><td>5.459432</td><td>NA</td><td>0.4854268</td><td>0.01863417</td><td>5.696550</td><td>9.821662</td><td>5.045268</td><td>10.562366</td><td>7.42341</td><td>⋯</td><td>      NA</td><td>      NA</td><td>      NA</td><td>      NA</td><td>      NA</td><td>       NA</td><td>      NA</td><td>      NA</td><td>      NA</td><td>      NA</td></tr>\n",
       "\t<tr><th scope=row>2</th><td>k10</td><td>      NA</td><td>NA</td><td>0.2630344</td><td>        NA</td><td>4.697663</td><td>9.701220</td><td>1.922198</td><td> 7.724173</td><td>9.19842</td><td>⋯</td><td>2.356913</td><td>1.735349</td><td>1.695393</td><td>1.772633</td><td>1.975818</td><td>0.9466424</td><td>1.417687</td><td>1.670544</td><td>1.474395</td><td>1.695393</td></tr>\n",
       "</tbody>\n",
       "</table>\n"
      ],
      "text/latex": [
       "A data.frame: 2 × 9146\n",
       "\\begin{tabular}{r|lllllllllllllllllllll}\n",
       "  & sample\\_id & clinical\\_data\\_0\\_CK & clinical\\_data\\_0\\_CK\\_MB & clinical\\_data\\_0\\_CRP & clinical\\_data\\_0\\_Troponin & cytokine\\_0\\_BCA1\\_\\_CXCL13 & cytokine\\_0\\_CTACK\\_\\_CCL27 & cytokine\\_0\\_EGF\\_\\_EGF & cytokine\\_0\\_ENA78\\_\\_CXCL5 & cytokine\\_0\\_Eotaxin\\_\\_CCL11 & ⋯ & single\\_cell\\_0\\_Treg\\_\\_VIM & single\\_cell\\_0\\_Treg\\_\\_YBX1 & single\\_cell\\_0\\_Treg\\_\\_YPEL5 & single\\_cell\\_0\\_Treg\\_\\_YWHAB & single\\_cell\\_0\\_Treg\\_\\_YWHAZ & single\\_cell\\_0\\_Treg\\_\\_ZC3HAV1 & single\\_cell\\_0\\_Treg\\_\\_ZFAS1 & single\\_cell\\_0\\_Treg\\_\\_ZFP36 & single\\_cell\\_0\\_Treg\\_\\_ZFP36L2 & single\\_cell\\_0\\_Treg\\_\\_ZNF331\\\\\n",
       "  & <chr> & <dbl> & <dbl> & <dbl> & <dbl> & <dbl> & <dbl> & <dbl> & <dbl> & <dbl> & ⋯ & <dbl> & <dbl> & <dbl> & <dbl> & <dbl> & <dbl> & <dbl> & <dbl> & <dbl> & <dbl>\\\\\n",
       "\\hline\n",
       "\t1 & k1  & 5.459432 & NA & 0.4854268 & 0.01863417 & 5.696550 & 9.821662 & 5.045268 & 10.562366 & 7.42341 & ⋯ &       NA &       NA &       NA &       NA &       NA &        NA &       NA &       NA &       NA &       NA\\\\\n",
       "\t2 & k10 &       NA & NA & 0.2630344 &         NA & 4.697663 & 9.701220 & 1.922198 &  7.724173 & 9.19842 & ⋯ & 2.356913 & 1.735349 & 1.695393 & 1.772633 & 1.975818 & 0.9466424 & 1.417687 & 1.670544 & 1.474395 & 1.695393\\\\\n",
       "\\end{tabular}\n"
      ],
      "text/markdown": [
       "\n",
       "A data.frame: 2 × 9146\n",
       "\n",
       "| <!--/--> | sample_id &lt;chr&gt; | clinical_data_0_CK &lt;dbl&gt; | clinical_data_0_CK_MB &lt;dbl&gt; | clinical_data_0_CRP &lt;dbl&gt; | clinical_data_0_Troponin &lt;dbl&gt; | cytokine_0_BCA1__CXCL13 &lt;dbl&gt; | cytokine_0_CTACK__CCL27 &lt;dbl&gt; | cytokine_0_EGF__EGF &lt;dbl&gt; | cytokine_0_ENA78__CXCL5 &lt;dbl&gt; | cytokine_0_Eotaxin__CCL11 &lt;dbl&gt; | ⋯ ⋯ | single_cell_0_Treg__VIM &lt;dbl&gt; | single_cell_0_Treg__YBX1 &lt;dbl&gt; | single_cell_0_Treg__YPEL5 &lt;dbl&gt; | single_cell_0_Treg__YWHAB &lt;dbl&gt; | single_cell_0_Treg__YWHAZ &lt;dbl&gt; | single_cell_0_Treg__ZC3HAV1 &lt;dbl&gt; | single_cell_0_Treg__ZFAS1 &lt;dbl&gt; | single_cell_0_Treg__ZFP36 &lt;dbl&gt; | single_cell_0_Treg__ZFP36L2 &lt;dbl&gt; | single_cell_0_Treg__ZNF331 &lt;dbl&gt; |\n",
       "|---|---|---|---|---|---|---|---|---|---|---|---|---|---|---|---|---|---|---|---|---|---|\n",
       "| 1 | k1  | 5.459432 | NA | 0.4854268 | 0.01863417 | 5.696550 | 9.821662 | 5.045268 | 10.562366 | 7.42341 | ⋯ |       NA |       NA |       NA |       NA |       NA |        NA |       NA |       NA |       NA |       NA |\n",
       "| 2 | k10 |       NA | NA | 0.2630344 |         NA | 4.697663 | 9.701220 | 1.922198 |  7.724173 | 9.19842 | ⋯ | 2.356913 | 1.735349 | 1.695393 | 1.772633 | 1.975818 | 0.9466424 | 1.417687 | 1.670544 | 1.474395 | 1.695393 |\n",
       "\n"
      ],
      "text/plain": [
       "  sample_id clinical_data_0_CK clinical_data_0_CK_MB clinical_data_0_CRP\n",
       "1 k1        5.459432           NA                    0.4854268          \n",
       "2 k10             NA           NA                    0.2630344          \n",
       "  clinical_data_0_Troponin cytokine_0_BCA1__CXCL13 cytokine_0_CTACK__CCL27\n",
       "1 0.01863417               5.696550                9.821662               \n",
       "2         NA               4.697663                9.701220               \n",
       "  cytokine_0_EGF__EGF cytokine_0_ENA78__CXCL5 cytokine_0_Eotaxin__CCL11 ⋯\n",
       "1 5.045268            10.562366               7.42341                   ⋯\n",
       "2 1.922198             7.724173               9.19842                   ⋯\n",
       "  single_cell_0_Treg__VIM single_cell_0_Treg__YBX1 single_cell_0_Treg__YPEL5\n",
       "1       NA                      NA                       NA                 \n",
       "2 2.356913                1.735349                 1.695393                 \n",
       "  single_cell_0_Treg__YWHAB single_cell_0_Treg__YWHAZ\n",
       "1       NA                        NA                 \n",
       "2 1.772633                  1.975818                 \n",
       "  single_cell_0_Treg__ZC3HAV1 single_cell_0_Treg__ZFAS1\n",
       "1        NA                         NA                 \n",
       "2 0.9466424                   1.417687                 \n",
       "  single_cell_0_Treg__ZFP36 single_cell_0_Treg__ZFP36L2\n",
       "1       NA                        NA                   \n",
       "2 1.670544                  1.474395                   \n",
       "  single_cell_0_Treg__ZNF331\n",
       "1       NA                  \n",
       "2 1.695393                  "
      ]
     },
     "metadata": {},
     "output_type": "display_data"
    }
   ],
   "source": [
    "head(final_data,2)"
   ]
  },
  {
   "cell_type": "code",
   "execution_count": 100,
   "id": "14384a60-9c14-4f0a-8eac-6778cc426158",
   "metadata": {},
   "outputs": [],
   "source": [
    "rownames(final_data) = final_data$sample_id"
   ]
  },
  {
   "cell_type": "code",
   "execution_count": 101,
   "id": "b015c5b9-18c0-4aa4-a046-0abd88a48796",
   "metadata": {},
   "outputs": [],
   "source": [
    "final_data$sample_id = NULL"
   ]
  },
  {
   "cell_type": "code",
   "execution_count": 103,
   "id": "140549cb-4412-4257-93dc-0b22c1df135a",
   "metadata": {},
   "outputs": [
    {
     "data": {
      "text/html": [
       "9145"
      ],
      "text/latex": [
       "9145"
      ],
      "text/markdown": [
       "9145"
      ],
      "text/plain": [
       "[1] 9145"
      ]
     },
     "metadata": {},
     "output_type": "display_data"
    }
   ],
   "source": [
    "ncol(final_data)"
   ]
  },
  {
   "cell_type": "code",
   "execution_count": 104,
   "id": "0c4689c4-11e1-47d2-9eff-9c9189092ee8",
   "metadata": {},
   "outputs": [
    {
     "data": {
      "text/html": [
       "146"
      ],
      "text/latex": [
       "146"
      ],
      "text/markdown": [
       "146"
      ],
      "text/plain": [
       "[1] 146"
      ]
     },
     "metadata": {},
     "output_type": "display_data"
    }
   ],
   "source": [
    "nrow(final_data)"
   ]
  },
  {
   "cell_type": "markdown",
   "id": "84042051-8603-4eab-81b3-763a0bf292dc",
   "metadata": {
    "tags": []
   },
   "source": [
    "### Deal with NA - Set NA for 0 observation + remove samples with only NA"
   ]
  },
  {
   "cell_type": "code",
   "execution_count": 106,
   "id": "6d120839-4ce4-4107-9541-95fe26617648",
   "metadata": {},
   "outputs": [
    {
     "data": {
      "text/html": [
       "FALSE"
      ],
      "text/latex": [
       "FALSE"
      ],
      "text/markdown": [
       "FALSE"
      ],
      "text/plain": [
       "[1] FALSE"
      ]
     },
     "metadata": {},
     "output_type": "display_data"
    }
   ],
   "source": [
    "set_zero_na"
   ]
  },
  {
   "cell_type": "code",
   "execution_count": 107,
   "id": "679d17db-4b73-4c2f-a00c-c060c95ceff6",
   "metadata": {},
   "outputs": [],
   "source": [
    "if(set_zero_na == TRUE){\n",
    "    final_data[final_data == 0] = NA\n",
    "    }"
   ]
  },
  {
   "cell_type": "code",
   "execution_count": null,
   "id": "a4656d80-2c84-4c56-b745-700fa9981711",
   "metadata": {},
   "outputs": [],
   "source": []
  },
  {
   "cell_type": "code",
   "execution_count": 108,
   "id": "f3776bf2-736f-4173-8c37-f1df95eb3c96",
   "metadata": {},
   "outputs": [],
   "source": [
    "### Remember NA's"
   ]
  },
  {
   "cell_type": "code",
   "execution_count": 109,
   "id": "4647f11f-c1dd-454f-98bc-64242b5fa040",
   "metadata": {},
   "outputs": [],
   "source": [
    "data_nas = is.na(final_data)"
   ]
  },
  {
   "cell_type": "code",
   "execution_count": 110,
   "id": "b0f6cd3d-2f52-4722-8b02-85bb78b4398a",
   "metadata": {},
   "outputs": [
    {
     "data": {
      "text/html": [
       "<table class=\"dataframe\">\n",
       "<caption>A matrix: 2 × 9145 of type lgl</caption>\n",
       "<thead>\n",
       "\t<tr><th></th><th scope=col>clinical_data_0_CK</th><th scope=col>clinical_data_0_CK_MB</th><th scope=col>clinical_data_0_CRP</th><th scope=col>clinical_data_0_Troponin</th><th scope=col>cytokine_0_BCA1__CXCL13</th><th scope=col>cytokine_0_CTACK__CCL27</th><th scope=col>cytokine_0_EGF__EGF</th><th scope=col>cytokine_0_ENA78__CXCL5</th><th scope=col>cytokine_0_Eotaxin__CCL11</th><th scope=col>cytokine_0_Eotaxin2__CCL24</th><th scope=col>⋯</th><th scope=col>single_cell_0_Treg__VIM</th><th scope=col>single_cell_0_Treg__YBX1</th><th scope=col>single_cell_0_Treg__YPEL5</th><th scope=col>single_cell_0_Treg__YWHAB</th><th scope=col>single_cell_0_Treg__YWHAZ</th><th scope=col>single_cell_0_Treg__ZC3HAV1</th><th scope=col>single_cell_0_Treg__ZFAS1</th><th scope=col>single_cell_0_Treg__ZFP36</th><th scope=col>single_cell_0_Treg__ZFP36L2</th><th scope=col>single_cell_0_Treg__ZNF331</th></tr>\n",
       "</thead>\n",
       "<tbody>\n",
       "\t<tr><th scope=row>k1</th><td>FALSE</td><td>TRUE</td><td>FALSE</td><td>FALSE</td><td>FALSE</td><td>FALSE</td><td>FALSE</td><td>FALSE</td><td>FALSE</td><td>FALSE</td><td>⋯</td><td> TRUE</td><td> TRUE</td><td> TRUE</td><td> TRUE</td><td> TRUE</td><td> TRUE</td><td> TRUE</td><td> TRUE</td><td> TRUE</td><td> TRUE</td></tr>\n",
       "\t<tr><th scope=row>k10</th><td> TRUE</td><td>TRUE</td><td>FALSE</td><td> TRUE</td><td>FALSE</td><td>FALSE</td><td>FALSE</td><td>FALSE</td><td>FALSE</td><td>FALSE</td><td>⋯</td><td>FALSE</td><td>FALSE</td><td>FALSE</td><td>FALSE</td><td>FALSE</td><td>FALSE</td><td>FALSE</td><td>FALSE</td><td>FALSE</td><td>FALSE</td></tr>\n",
       "</tbody>\n",
       "</table>\n"
      ],
      "text/latex": [
       "A matrix: 2 × 9145 of type lgl\n",
       "\\begin{tabular}{r|lllllllllllllllllllll}\n",
       "  & clinical\\_data\\_0\\_CK & clinical\\_data\\_0\\_CK\\_MB & clinical\\_data\\_0\\_CRP & clinical\\_data\\_0\\_Troponin & cytokine\\_0\\_BCA1\\_\\_CXCL13 & cytokine\\_0\\_CTACK\\_\\_CCL27 & cytokine\\_0\\_EGF\\_\\_EGF & cytokine\\_0\\_ENA78\\_\\_CXCL5 & cytokine\\_0\\_Eotaxin\\_\\_CCL11 & cytokine\\_0\\_Eotaxin2\\_\\_CCL24 & ⋯ & single\\_cell\\_0\\_Treg\\_\\_VIM & single\\_cell\\_0\\_Treg\\_\\_YBX1 & single\\_cell\\_0\\_Treg\\_\\_YPEL5 & single\\_cell\\_0\\_Treg\\_\\_YWHAB & single\\_cell\\_0\\_Treg\\_\\_YWHAZ & single\\_cell\\_0\\_Treg\\_\\_ZC3HAV1 & single\\_cell\\_0\\_Treg\\_\\_ZFAS1 & single\\_cell\\_0\\_Treg\\_\\_ZFP36 & single\\_cell\\_0\\_Treg\\_\\_ZFP36L2 & single\\_cell\\_0\\_Treg\\_\\_ZNF331\\\\\n",
       "\\hline\n",
       "\tk1 & FALSE & TRUE & FALSE & FALSE & FALSE & FALSE & FALSE & FALSE & FALSE & FALSE & ⋯ &  TRUE &  TRUE &  TRUE &  TRUE &  TRUE &  TRUE &  TRUE &  TRUE &  TRUE &  TRUE\\\\\n",
       "\tk10 &  TRUE & TRUE & FALSE &  TRUE & FALSE & FALSE & FALSE & FALSE & FALSE & FALSE & ⋯ & FALSE & FALSE & FALSE & FALSE & FALSE & FALSE & FALSE & FALSE & FALSE & FALSE\\\\\n",
       "\\end{tabular}\n"
      ],
      "text/markdown": [
       "\n",
       "A matrix: 2 × 9145 of type lgl\n",
       "\n",
       "| <!--/--> | clinical_data_0_CK | clinical_data_0_CK_MB | clinical_data_0_CRP | clinical_data_0_Troponin | cytokine_0_BCA1__CXCL13 | cytokine_0_CTACK__CCL27 | cytokine_0_EGF__EGF | cytokine_0_ENA78__CXCL5 | cytokine_0_Eotaxin__CCL11 | cytokine_0_Eotaxin2__CCL24 | ⋯ | single_cell_0_Treg__VIM | single_cell_0_Treg__YBX1 | single_cell_0_Treg__YPEL5 | single_cell_0_Treg__YWHAB | single_cell_0_Treg__YWHAZ | single_cell_0_Treg__ZC3HAV1 | single_cell_0_Treg__ZFAS1 | single_cell_0_Treg__ZFP36 | single_cell_0_Treg__ZFP36L2 | single_cell_0_Treg__ZNF331 |\n",
       "|---|---|---|---|---|---|---|---|---|---|---|---|---|---|---|---|---|---|---|---|---|---|\n",
       "| k1 | FALSE | TRUE | FALSE | FALSE | FALSE | FALSE | FALSE | FALSE | FALSE | FALSE | ⋯ |  TRUE |  TRUE |  TRUE |  TRUE |  TRUE |  TRUE |  TRUE |  TRUE |  TRUE |  TRUE |\n",
       "| k10 |  TRUE | TRUE | FALSE |  TRUE | FALSE | FALSE | FALSE | FALSE | FALSE | FALSE | ⋯ | FALSE | FALSE | FALSE | FALSE | FALSE | FALSE | FALSE | FALSE | FALSE | FALSE |\n",
       "\n"
      ],
      "text/plain": [
       "    clinical_data_0_CK clinical_data_0_CK_MB clinical_data_0_CRP\n",
       "k1  FALSE              TRUE                  FALSE              \n",
       "k10  TRUE              TRUE                  FALSE              \n",
       "    clinical_data_0_Troponin cytokine_0_BCA1__CXCL13 cytokine_0_CTACK__CCL27\n",
       "k1  FALSE                    FALSE                   FALSE                  \n",
       "k10  TRUE                    FALSE                   FALSE                  \n",
       "    cytokine_0_EGF__EGF cytokine_0_ENA78__CXCL5 cytokine_0_Eotaxin__CCL11\n",
       "k1  FALSE               FALSE                   FALSE                    \n",
       "k10 FALSE               FALSE                   FALSE                    \n",
       "    cytokine_0_Eotaxin2__CCL24 ⋯ single_cell_0_Treg__VIM\n",
       "k1  FALSE                      ⋯  TRUE                  \n",
       "k10 FALSE                      ⋯ FALSE                  \n",
       "    single_cell_0_Treg__YBX1 single_cell_0_Treg__YPEL5\n",
       "k1   TRUE                     TRUE                    \n",
       "k10 FALSE                    FALSE                    \n",
       "    single_cell_0_Treg__YWHAB single_cell_0_Treg__YWHAZ\n",
       "k1   TRUE                      TRUE                    \n",
       "k10 FALSE                     FALSE                    \n",
       "    single_cell_0_Treg__ZC3HAV1 single_cell_0_Treg__ZFAS1\n",
       "k1   TRUE                        TRUE                    \n",
       "k10 FALSE                       FALSE                    \n",
       "    single_cell_0_Treg__ZFP36 single_cell_0_Treg__ZFP36L2\n",
       "k1   TRUE                      TRUE                      \n",
       "k10 FALSE                     FALSE                      \n",
       "    single_cell_0_Treg__ZNF331\n",
       "k1   TRUE                     \n",
       "k10 FALSE                     "
      ]
     },
     "metadata": {},
     "output_type": "display_data"
    }
   ],
   "source": [
    "head(data_nas,2)"
   ]
  },
  {
   "cell_type": "code",
   "execution_count": 111,
   "id": "ad376668-fbaf-48da-8b55-7262a8498922",
   "metadata": {},
   "outputs": [
    {
     "data": {
      "text/html": [
       "<style>\n",
       ".dl-inline {width: auto; margin:0; padding: 0}\n",
       ".dl-inline>dt, .dl-inline>dd {float: none; width: auto; display: inline-block}\n",
       ".dl-inline>dt::after {content: \":\\0020\"; padding-right: .5ex}\n",
       ".dl-inline>dt:not(:first-of-type) {padding-left: .5ex}\n",
       "</style><dl class=dl-inline><dt>k1</dt><dd>8185</dd><dt>k10</dt><dd>3</dd><dt>k11</dt><dd>1</dd><dt>k12</dt><dd>2</dd><dt>k13</dt><dd>1</dd><dt>k14</dt><dd>1</dd><dt>k15</dt><dd>893</dd><dt>k16</dt><dd>2</dd><dt>k17</dt><dd>1</dd><dt>k18</dt><dd>894</dd><dt>k19</dt><dd>2</dd><dt>k2</dt><dd>895</dd><dt>k20</dt><dd>3</dd><dt>k21</dt><dd>893</dd><dt>k22</dt><dd>0</dd><dt>k23</dt><dd>893</dd><dt>k24</dt><dd>893</dd><dt>k25</dt><dd>0</dd><dt>k26</dt><dd>0</dd><dt>k27</dt><dd>893</dd><dt>k28</dt><dd>2</dd><dt>k29</dt><dd>1386</dd><dt>k3</dt><dd>4</dd><dt>k30</dt><dd>0</dd><dt>k31</dt><dd>893</dd><dt>k32</dt><dd>2</dd><dt>k33</dt><dd>1</dd><dt>k34</dt><dd>2</dd><dt>k4</dt><dd>893</dd><dt>k5</dt><dd>0</dd><dt>k6</dt><dd>1</dd><dt>k7</dt><dd>1</dd><dt>k8</dt><dd>0</dd><dt>k9</dt><dd>896</dd><dt>m1.1</dt><dd>892</dd><dt>m1.2</dt><dd>9145</dd><dt>m1.3</dt><dd>9145</dd><dt>m1.4</dt><dd>9145</dd><dt>m10.1</dt><dd>7694</dd><dt>m10.2</dt><dd>1</dd><dt>m10.3</dt><dd>0</dd><dt>m10.4</dt><dd>9145</dd><dt>m11.1</dt><dd>8586</dd><dt>m11.2</dt><dd>0</dd><dt>m11.3</dt><dd>1</dd><dt>m11.4</dt><dd>2</dd><dt>m12.1</dt><dd>893</dd><dt>m12.2</dt><dd>0</dd><dt>m12.3</dt><dd>9145</dd><dt>m12.4</dt><dd>9145</dd><dt>m13.1</dt><dd>0</dd><dt>m13.2</dt><dd>892</dd><dt>m13.3</dt><dd>0</dd><dt>m13.4</dt><dd>1</dd><dt>m14.1</dt><dd>0</dd><dt>m14.2</dt><dd>892</dd><dt>m14.3</dt><dd>7694</dd><dt>m14.4</dt><dd>7695</dd><dt>m15.1</dt><dd>0</dd><dt>m15.2</dt><dd>892</dd><dt>m15.3</dt><dd>0</dd><dt>m15.4</dt><dd>0</dd><dt>m16.1</dt><dd>892</dd><dt>m16.2</dt><dd>0</dd><dt>m16.3</dt><dd>9145</dd><dt>m16.4</dt><dd>9145</dd><dt>m17.1</dt><dd>0</dd><dt>m17.2</dt><dd>9145</dd><dt>m17.3</dt><dd>9145</dd><dt>m17.4</dt><dd>9145</dd><dt>m18.1</dt><dd>0</dd><dt>m18.2</dt><dd>892</dd><dt>m18.3</dt><dd>1</dd><dt>m18.4</dt><dd>9145</dd><dt>m19.1</dt><dd>0</dd><dt>m19.2</dt><dd>0</dd><dt>m19.3</dt><dd>893</dd><dt>m19.4</dt><dd>9145</dd><dt>m2.1</dt><dd>1</dd><dt>m2.2</dt><dd>892</dd><dt>m2.3</dt><dd>892</dd><dt>m2.4</dt><dd>893</dd><dt>m20.1</dt><dd>8587</dd><dt>m20.2</dt><dd>7694</dd><dt>m20.3</dt><dd>892</dd><dt>m20.4</dt><dd>1</dd><dt>m21.1</dt><dd>0</dd><dt>m21.2</dt><dd>0</dd><dt>m21.3</dt><dd>2</dd><dt>m21.4</dt><dd>2</dd><dt>m22.1</dt><dd>0</dd><dt>m22.2</dt><dd>0</dd><dt>m22.3</dt><dd>893</dd><dt>m22.4</dt><dd>0</dd><dt>m23.1</dt><dd>1</dd><dt>m23.2</dt><dd>490</dd><dt>m23.3</dt><dd>1447</dd><dt>m23.4</dt><dd>1</dd><dt>m24.1</dt><dd>8184</dd><dt>m24.2</dt><dd>0</dd><dt>m24.3</dt><dd>2</dd><dt>m24.4</dt><dd>3</dd><dt>m25.1</dt><dd>2</dd><dt>m25.2</dt><dd>1</dd><dt>m25.3</dt><dd>2</dd><dt>m25.4</dt><dd>9145</dd><dt>m26.1</dt><dd>490</dd><dt>m26.2</dt><dd>0</dd><dt>m26.3</dt><dd>892</dd><dt>m26.4</dt><dd>556</dd><dt>m27.1</dt><dd>1</dd><dt>m27.2</dt><dd>0</dd><dt>m27.3</dt><dd>0</dd><dt>m27.4</dt><dd>9145</dd><dt>m28.1</dt><dd>9145</dd><dt>m28.2</dt><dd>0</dd><dt>m28.3</dt><dd>1</dd><dt>m28.4</dt><dd>2</dd><dt>m3.1</dt><dd>9145</dd><dt>m3.2</dt><dd>0</dd><dt>m3.3</dt><dd>0</dd><dt>m3.4</dt><dd>0</dd><dt>m4.1</dt><dd>490</dd><dt>m4.2</dt><dd>1</dd><dt>m4.3</dt><dd>0</dd><dt>m4.4</dt><dd>2</dd><dt>m5.1</dt><dd>0</dd><dt>m5.2</dt><dd>8586</dd><dt>m5.3</dt><dd>0</dd><dt>m5.4</dt><dd>893</dd><dt>m6.1</dt><dd>1382</dd><dt>m6.2</dt><dd>893</dd><dt>m6.3</dt><dd>0</dd><dt>m6.4</dt><dd>1</dd><dt>m7.1</dt><dd>892</dd><dt>m7.2</dt><dd>1</dd><dt>m7.3</dt><dd>0</dd><dt>m7.4</dt><dd>894</dd><dt>m8.1</dt><dd>1</dd><dt>m8.2</dt><dd>1</dd><dt>m8.3</dt><dd>2</dd><dt>m8.4</dt><dd>3</dd><dt>m9.1</dt><dd>892</dd><dt>m9.2</dt><dd>893</dd><dt>m9.3</dt><dd>0</dd><dt>m9.4</dt><dd>9145</dd></dl>\n"
      ],
      "text/latex": [
       "\\begin{description*}\n",
       "\\item[k1] 8185\n",
       "\\item[k10] 3\n",
       "\\item[k11] 1\n",
       "\\item[k12] 2\n",
       "\\item[k13] 1\n",
       "\\item[k14] 1\n",
       "\\item[k15] 893\n",
       "\\item[k16] 2\n",
       "\\item[k17] 1\n",
       "\\item[k18] 894\n",
       "\\item[k19] 2\n",
       "\\item[k2] 895\n",
       "\\item[k20] 3\n",
       "\\item[k21] 893\n",
       "\\item[k22] 0\n",
       "\\item[k23] 893\n",
       "\\item[k24] 893\n",
       "\\item[k25] 0\n",
       "\\item[k26] 0\n",
       "\\item[k27] 893\n",
       "\\item[k28] 2\n",
       "\\item[k29] 1386\n",
       "\\item[k3] 4\n",
       "\\item[k30] 0\n",
       "\\item[k31] 893\n",
       "\\item[k32] 2\n",
       "\\item[k33] 1\n",
       "\\item[k34] 2\n",
       "\\item[k4] 893\n",
       "\\item[k5] 0\n",
       "\\item[k6] 1\n",
       "\\item[k7] 1\n",
       "\\item[k8] 0\n",
       "\\item[k9] 896\n",
       "\\item[m1.1] 892\n",
       "\\item[m1.2] 9145\n",
       "\\item[m1.3] 9145\n",
       "\\item[m1.4] 9145\n",
       "\\item[m10.1] 7694\n",
       "\\item[m10.2] 1\n",
       "\\item[m10.3] 0\n",
       "\\item[m10.4] 9145\n",
       "\\item[m11.1] 8586\n",
       "\\item[m11.2] 0\n",
       "\\item[m11.3] 1\n",
       "\\item[m11.4] 2\n",
       "\\item[m12.1] 893\n",
       "\\item[m12.2] 0\n",
       "\\item[m12.3] 9145\n",
       "\\item[m12.4] 9145\n",
       "\\item[m13.1] 0\n",
       "\\item[m13.2] 892\n",
       "\\item[m13.3] 0\n",
       "\\item[m13.4] 1\n",
       "\\item[m14.1] 0\n",
       "\\item[m14.2] 892\n",
       "\\item[m14.3] 7694\n",
       "\\item[m14.4] 7695\n",
       "\\item[m15.1] 0\n",
       "\\item[m15.2] 892\n",
       "\\item[m15.3] 0\n",
       "\\item[m15.4] 0\n",
       "\\item[m16.1] 892\n",
       "\\item[m16.2] 0\n",
       "\\item[m16.3] 9145\n",
       "\\item[m16.4] 9145\n",
       "\\item[m17.1] 0\n",
       "\\item[m17.2] 9145\n",
       "\\item[m17.3] 9145\n",
       "\\item[m17.4] 9145\n",
       "\\item[m18.1] 0\n",
       "\\item[m18.2] 892\n",
       "\\item[m18.3] 1\n",
       "\\item[m18.4] 9145\n",
       "\\item[m19.1] 0\n",
       "\\item[m19.2] 0\n",
       "\\item[m19.3] 893\n",
       "\\item[m19.4] 9145\n",
       "\\item[m2.1] 1\n",
       "\\item[m2.2] 892\n",
       "\\item[m2.3] 892\n",
       "\\item[m2.4] 893\n",
       "\\item[m20.1] 8587\n",
       "\\item[m20.2] 7694\n",
       "\\item[m20.3] 892\n",
       "\\item[m20.4] 1\n",
       "\\item[m21.1] 0\n",
       "\\item[m21.2] 0\n",
       "\\item[m21.3] 2\n",
       "\\item[m21.4] 2\n",
       "\\item[m22.1] 0\n",
       "\\item[m22.2] 0\n",
       "\\item[m22.3] 893\n",
       "\\item[m22.4] 0\n",
       "\\item[m23.1] 1\n",
       "\\item[m23.2] 490\n",
       "\\item[m23.3] 1447\n",
       "\\item[m23.4] 1\n",
       "\\item[m24.1] 8184\n",
       "\\item[m24.2] 0\n",
       "\\item[m24.3] 2\n",
       "\\item[m24.4] 3\n",
       "\\item[m25.1] 2\n",
       "\\item[m25.2] 1\n",
       "\\item[m25.3] 2\n",
       "\\item[m25.4] 9145\n",
       "\\item[m26.1] 490\n",
       "\\item[m26.2] 0\n",
       "\\item[m26.3] 892\n",
       "\\item[m26.4] 556\n",
       "\\item[m27.1] 1\n",
       "\\item[m27.2] 0\n",
       "\\item[m27.3] 0\n",
       "\\item[m27.4] 9145\n",
       "\\item[m28.1] 9145\n",
       "\\item[m28.2] 0\n",
       "\\item[m28.3] 1\n",
       "\\item[m28.4] 2\n",
       "\\item[m3.1] 9145\n",
       "\\item[m3.2] 0\n",
       "\\item[m3.3] 0\n",
       "\\item[m3.4] 0\n",
       "\\item[m4.1] 490\n",
       "\\item[m4.2] 1\n",
       "\\item[m4.3] 0\n",
       "\\item[m4.4] 2\n",
       "\\item[m5.1] 0\n",
       "\\item[m5.2] 8586\n",
       "\\item[m5.3] 0\n",
       "\\item[m5.4] 893\n",
       "\\item[m6.1] 1382\n",
       "\\item[m6.2] 893\n",
       "\\item[m6.3] 0\n",
       "\\item[m6.4] 1\n",
       "\\item[m7.1] 892\n",
       "\\item[m7.2] 1\n",
       "\\item[m7.3] 0\n",
       "\\item[m7.4] 894\n",
       "\\item[m8.1] 1\n",
       "\\item[m8.2] 1\n",
       "\\item[m8.3] 2\n",
       "\\item[m8.4] 3\n",
       "\\item[m9.1] 892\n",
       "\\item[m9.2] 893\n",
       "\\item[m9.3] 0\n",
       "\\item[m9.4] 9145\n",
       "\\end{description*}\n"
      ],
      "text/markdown": [
       "k1\n",
       ":   8185k10\n",
       ":   3k11\n",
       ":   1k12\n",
       ":   2k13\n",
       ":   1k14\n",
       ":   1k15\n",
       ":   893k16\n",
       ":   2k17\n",
       ":   1k18\n",
       ":   894k19\n",
       ":   2k2\n",
       ":   895k20\n",
       ":   3k21\n",
       ":   893k22\n",
       ":   0k23\n",
       ":   893k24\n",
       ":   893k25\n",
       ":   0k26\n",
       ":   0k27\n",
       ":   893k28\n",
       ":   2k29\n",
       ":   1386k3\n",
       ":   4k30\n",
       ":   0k31\n",
       ":   893k32\n",
       ":   2k33\n",
       ":   1k34\n",
       ":   2k4\n",
       ":   893k5\n",
       ":   0k6\n",
       ":   1k7\n",
       ":   1k8\n",
       ":   0k9\n",
       ":   896m1.1\n",
       ":   892m1.2\n",
       ":   9145m1.3\n",
       ":   9145m1.4\n",
       ":   9145m10.1\n",
       ":   7694m10.2\n",
       ":   1m10.3\n",
       ":   0m10.4\n",
       ":   9145m11.1\n",
       ":   8586m11.2\n",
       ":   0m11.3\n",
       ":   1m11.4\n",
       ":   2m12.1\n",
       ":   893m12.2\n",
       ":   0m12.3\n",
       ":   9145m12.4\n",
       ":   9145m13.1\n",
       ":   0m13.2\n",
       ":   892m13.3\n",
       ":   0m13.4\n",
       ":   1m14.1\n",
       ":   0m14.2\n",
       ":   892m14.3\n",
       ":   7694m14.4\n",
       ":   7695m15.1\n",
       ":   0m15.2\n",
       ":   892m15.3\n",
       ":   0m15.4\n",
       ":   0m16.1\n",
       ":   892m16.2\n",
       ":   0m16.3\n",
       ":   9145m16.4\n",
       ":   9145m17.1\n",
       ":   0m17.2\n",
       ":   9145m17.3\n",
       ":   9145m17.4\n",
       ":   9145m18.1\n",
       ":   0m18.2\n",
       ":   892m18.3\n",
       ":   1m18.4\n",
       ":   9145m19.1\n",
       ":   0m19.2\n",
       ":   0m19.3\n",
       ":   893m19.4\n",
       ":   9145m2.1\n",
       ":   1m2.2\n",
       ":   892m2.3\n",
       ":   892m2.4\n",
       ":   893m20.1\n",
       ":   8587m20.2\n",
       ":   7694m20.3\n",
       ":   892m20.4\n",
       ":   1m21.1\n",
       ":   0m21.2\n",
       ":   0m21.3\n",
       ":   2m21.4\n",
       ":   2m22.1\n",
       ":   0m22.2\n",
       ":   0m22.3\n",
       ":   893m22.4\n",
       ":   0m23.1\n",
       ":   1m23.2\n",
       ":   490m23.3\n",
       ":   1447m23.4\n",
       ":   1m24.1\n",
       ":   8184m24.2\n",
       ":   0m24.3\n",
       ":   2m24.4\n",
       ":   3m25.1\n",
       ":   2m25.2\n",
       ":   1m25.3\n",
       ":   2m25.4\n",
       ":   9145m26.1\n",
       ":   490m26.2\n",
       ":   0m26.3\n",
       ":   892m26.4\n",
       ":   556m27.1\n",
       ":   1m27.2\n",
       ":   0m27.3\n",
       ":   0m27.4\n",
       ":   9145m28.1\n",
       ":   9145m28.2\n",
       ":   0m28.3\n",
       ":   1m28.4\n",
       ":   2m3.1\n",
       ":   9145m3.2\n",
       ":   0m3.3\n",
       ":   0m3.4\n",
       ":   0m4.1\n",
       ":   490m4.2\n",
       ":   1m4.3\n",
       ":   0m4.4\n",
       ":   2m5.1\n",
       ":   0m5.2\n",
       ":   8586m5.3\n",
       ":   0m5.4\n",
       ":   893m6.1\n",
       ":   1382m6.2\n",
       ":   893m6.3\n",
       ":   0m6.4\n",
       ":   1m7.1\n",
       ":   892m7.2\n",
       ":   1m7.3\n",
       ":   0m7.4\n",
       ":   894m8.1\n",
       ":   1m8.2\n",
       ":   1m8.3\n",
       ":   2m8.4\n",
       ":   3m9.1\n",
       ":   892m9.2\n",
       ":   893m9.3\n",
       ":   0m9.4\n",
       ":   9145\n",
       "\n"
      ],
      "text/plain": [
       "   k1   k10   k11   k12   k13   k14   k15   k16   k17   k18   k19    k2   k20 \n",
       " 8185     3     1     2     1     1   893     2     1   894     2   895     3 \n",
       "  k21   k22   k23   k24   k25   k26   k27   k28   k29    k3   k30   k31   k32 \n",
       "  893     0   893   893     0     0   893     2  1386     4     0   893     2 \n",
       "  k33   k34    k4    k5    k6    k7    k8    k9  m1.1  m1.2  m1.3  m1.4 m10.1 \n",
       "    1     2   893     0     1     1     0   896   892  9145  9145  9145  7694 \n",
       "m10.2 m10.3 m10.4 m11.1 m11.2 m11.3 m11.4 m12.1 m12.2 m12.3 m12.4 m13.1 m13.2 \n",
       "    1     0  9145  8586     0     1     2   893     0  9145  9145     0   892 \n",
       "m13.3 m13.4 m14.1 m14.2 m14.3 m14.4 m15.1 m15.2 m15.3 m15.4 m16.1 m16.2 m16.3 \n",
       "    0     1     0   892  7694  7695     0   892     0     0   892     0  9145 \n",
       "m16.4 m17.1 m17.2 m17.3 m17.4 m18.1 m18.2 m18.3 m18.4 m19.1 m19.2 m19.3 m19.4 \n",
       " 9145     0  9145  9145  9145     0   892     1  9145     0     0   893  9145 \n",
       " m2.1  m2.2  m2.3  m2.4 m20.1 m20.2 m20.3 m20.4 m21.1 m21.2 m21.3 m21.4 m22.1 \n",
       "    1   892   892   893  8587  7694   892     1     0     0     2     2     0 \n",
       "m22.2 m22.3 m22.4 m23.1 m23.2 m23.3 m23.4 m24.1 m24.2 m24.3 m24.4 m25.1 m25.2 \n",
       "    0   893     0     1   490  1447     1  8184     0     2     3     2     1 \n",
       "m25.3 m25.4 m26.1 m26.2 m26.3 m26.4 m27.1 m27.2 m27.3 m27.4 m28.1 m28.2 m28.3 \n",
       "    2  9145   490     0   892   556     1     0     0  9145  9145     0     1 \n",
       "m28.4  m3.1  m3.2  m3.3  m3.4  m4.1  m4.2  m4.3  m4.4  m5.1  m5.2  m5.3  m5.4 \n",
       "    2  9145     0     0     0   490     1     0     2     0  8586     0   893 \n",
       " m6.1  m6.2  m6.3  m6.4  m7.1  m7.2  m7.3  m7.4  m8.1  m8.2  m8.3  m8.4  m9.1 \n",
       " 1382   893     0     1   892     1     0   894     1     1     2     3   892 \n",
       " m9.2  m9.3  m9.4 \n",
       "  893     0  9145 "
      ]
     },
     "metadata": {},
     "output_type": "display_data"
    }
   ],
   "source": [
    "rowSums(data_nas)"
   ]
  },
  {
   "cell_type": "code",
   "execution_count": 112,
   "id": "74a99bf7-0e4e-4f5e-8369-4884f416704f",
   "metadata": {},
   "outputs": [
    {
     "data": {
      "text/html": [
       "9145"
      ],
      "text/latex": [
       "9145"
      ],
      "text/markdown": [
       "9145"
      ],
      "text/plain": [
       "[1] 9145"
      ]
     },
     "metadata": {},
     "output_type": "display_data"
    }
   ],
   "source": [
    "ncol(final_data)"
   ]
  },
  {
   "cell_type": "code",
   "execution_count": 113,
   "id": "27e1c1a6-98a0-4c7c-9f77-d7674c7be02b",
   "metadata": {},
   "outputs": [],
   "source": [
    "keep_samples = names(rowSums(data_nas))[rowSums(data_nas) != ncol(final_data)]"
   ]
  },
  {
   "cell_type": "code",
   "execution_count": 114,
   "id": "89d75d46-3c7e-4beb-bae7-35dbeb924c38",
   "metadata": {},
   "outputs": [],
   "source": [
    "final_data = final_data[keep_samples,]"
   ]
  },
  {
   "cell_type": "code",
   "execution_count": 115,
   "id": "b17e3716-6421-476a-b4b4-5531cd3093f9",
   "metadata": {},
   "outputs": [],
   "source": [
    "data_nas = data_nas[keep_samples,]"
   ]
  },
  {
   "cell_type": "code",
   "execution_count": 116,
   "id": "b4c04e45-1fc6-4bcb-9c85-299488092ad4",
   "metadata": {},
   "outputs": [
    {
     "data": {
      "text/html": [
       "128"
      ],
      "text/latex": [
       "128"
      ],
      "text/markdown": [
       "128"
      ],
      "text/plain": [
       "[1] 128"
      ]
     },
     "metadata": {},
     "output_type": "display_data"
    }
   ],
   "source": [
    "nrow(final_data)"
   ]
  },
  {
   "cell_type": "code",
   "execution_count": null,
   "id": "148036af-69d1-44be-9274-c21904ed9b12",
   "metadata": {},
   "outputs": [],
   "source": []
  },
  {
   "cell_type": "markdown",
   "id": "4853587a-afff-4dcb-b020-72cb3d374baf",
   "metadata": {
    "tags": []
   },
   "source": [
    "### Apply feature wise quantile normalization"
   ]
  },
  {
   "cell_type": "code",
   "execution_count": 136,
   "id": "d0769092-80b4-487b-b86a-8de65d1f7581",
   "metadata": {},
   "outputs": [
    {
     "data": {
      "text/html": [
       "TRUE"
      ],
      "text/latex": [
       "TRUE"
      ],
      "text/markdown": [
       "TRUE"
      ],
      "text/plain": [
       "[1] TRUE"
      ]
     },
     "metadata": {},
     "output_type": "display_data"
    }
   ],
   "source": [
    "quantile_norm_feat"
   ]
  },
  {
   "cell_type": "code",
   "execution_count": 137,
   "id": "45865ffd-4f9d-48f8-b31c-72a0ea32f545",
   "metadata": {
    "tags": []
   },
   "outputs": [
    {
     "name": "stderr",
     "output_type": "stream",
     "text": [
      "Using sample_id as id variables\n",
      "\n"
     ]
    }
   ],
   "source": [
    "if(quantile_norm_feat == TRUE){\n",
    "    final_data = apply(final_data, 2,stdnorm)\n",
    "    final_data = data.frame(final_data)\n",
    "    final_data[data_nas] = NA\n",
    "    final_data$sample_id = rownames(final_data)\n",
    "    data_long = melt(final_data)\n",
    "    data_long$type = str_extract(data_long$variable, '.*_0_')\n",
    "    data_long$type  = str_replace(data_long$type , '_0_', '')\n",
    "    data_long$variable = str_replace(data_long$variable, '.*_0_', '')\n",
    "    }"
   ]
  },
  {
   "cell_type": "code",
   "execution_count": 139,
   "id": "320c65ad-3234-40af-b14d-408057d36f2d",
   "metadata": {},
   "outputs": [
    {
     "data": {
      "text/html": [
       "9145"
      ],
      "text/latex": [
       "9145"
      ],
      "text/markdown": [
       "9145"
      ],
      "text/plain": [
       "[1] 9145"
      ]
     },
     "metadata": {},
     "output_type": "display_data"
    }
   ],
   "source": [
    "length(unique(data_long$variable))"
   ]
  },
  {
   "cell_type": "markdown",
   "id": "b837e35c-1509-4da4-a1ee-b9e5dadbb515",
   "metadata": {
    "tags": []
   },
   "source": [
    "# Remove certain variables"
   ]
  },
  {
   "cell_type": "code",
   "execution_count": 234,
   "id": "85322d50-d5f1-48b2-b2db-b826286a82a8",
   "metadata": {},
   "outputs": [
    {
     "data": {
      "text/html": [
       "<style>\n",
       ".list-inline {list-style: none; margin:0; padding: 0}\n",
       ".list-inline>li {display: inline-block}\n",
       ".list-inline>li:not(:last-child)::after {content: \"\\00b7\"; padding: 0 .5ex}\n",
       "</style>\n",
       "<ol class=list-inline><li>'CK'</li><li>'CK_MB'</li><li>'CRP'</li><li>'Troponin'</li></ol>\n"
      ],
      "text/latex": [
       "\\begin{enumerate*}\n",
       "\\item 'CK'\n",
       "\\item 'CK\\_MB'\n",
       "\\item 'CRP'\n",
       "\\item 'Troponin'\n",
       "\\end{enumerate*}\n"
      ],
      "text/markdown": [
       "1. 'CK'\n",
       "2. 'CK_MB'\n",
       "3. 'CRP'\n",
       "4. 'Troponin'\n",
       "\n",
       "\n"
      ],
      "text/plain": [
       "[1] \"CK\"       \"CK_MB\"    \"CRP\"      \"Troponin\""
      ]
     },
     "metadata": {},
     "output_type": "display_data"
    }
   ],
   "source": [
    "unique(data_long$variable[data_long$type == 'clinical_data'])"
   ]
  },
  {
   "cell_type": "code",
   "execution_count": 235,
   "id": "06120d2e-2620-4341-bf9b-a129197653a8",
   "metadata": {},
   "outputs": [],
   "source": [
    "data_long = data_long[data_long$variable != 'delta_ef_value',]"
   ]
  },
  {
   "cell_type": "code",
   "execution_count": 236,
   "id": "59761eef-0778-4138-9bf7-6a4a2b69cfda",
   "metadata": {},
   "outputs": [
    {
     "data": {
      "text/html": [
       "<table class=\"dataframe\">\n",
       "<caption>A data.frame: 2 × 4</caption>\n",
       "<thead>\n",
       "\t<tr><th></th><th scope=col>sample_id</th><th scope=col>variable</th><th scope=col>value</th><th scope=col>type</th></tr>\n",
       "\t<tr><th></th><th scope=col>&lt;chr&gt;</th><th scope=col>&lt;chr&gt;</th><th scope=col>&lt;dbl&gt;</th><th scope=col>&lt;chr&gt;</th></tr>\n",
       "</thead>\n",
       "<tbody>\n",
       "\t<tr><th scope=row>1</th><td>k1 </td><td>CK</td><td>-2.397022</td><td>clinical_data</td></tr>\n",
       "\t<tr><th scope=row>2</th><td>k10</td><td>CK</td><td>       NA</td><td>clinical_data</td></tr>\n",
       "</tbody>\n",
       "</table>\n"
      ],
      "text/latex": [
       "A data.frame: 2 × 4\n",
       "\\begin{tabular}{r|llll}\n",
       "  & sample\\_id & variable & value & type\\\\\n",
       "  & <chr> & <chr> & <dbl> & <chr>\\\\\n",
       "\\hline\n",
       "\t1 & k1  & CK & -2.397022 & clinical\\_data\\\\\n",
       "\t2 & k10 & CK &        NA & clinical\\_data\\\\\n",
       "\\end{tabular}\n"
      ],
      "text/markdown": [
       "\n",
       "A data.frame: 2 × 4\n",
       "\n",
       "| <!--/--> | sample_id &lt;chr&gt; | variable &lt;chr&gt; | value &lt;dbl&gt; | type &lt;chr&gt; |\n",
       "|---|---|---|---|---|\n",
       "| 1 | k1  | CK | -2.397022 | clinical_data |\n",
       "| 2 | k10 | CK |        NA | clinical_data |\n",
       "\n"
      ],
      "text/plain": [
       "  sample_id variable value     type         \n",
       "1 k1        CK       -2.397022 clinical_data\n",
       "2 k10       CK              NA clinical_data"
      ]
     },
     "metadata": {},
     "output_type": "display_data"
    }
   ],
   "source": [
    "head(data_long,2)"
   ]
  },
  {
   "cell_type": "code",
   "execution_count": 237,
   "id": "46754f06-2935-4f06-9ad3-cf1d7ccb4951",
   "metadata": {},
   "outputs": [
    {
     "data": {
      "text/html": [
       "<style>\n",
       ".list-inline {list-style: none; margin:0; padding: 0}\n",
       ".list-inline>li {display: inline-block}\n",
       ".list-inline>li:not(:last-child)::after {content: \"\\00b7\"; padding: 0 .5ex}\n",
       "</style>\n",
       "<ol class=list-inline><li>'CK'</li><li>'CK_MB'</li><li>'CRP'</li><li>'Troponin'</li></ol>\n"
      ],
      "text/latex": [
       "\\begin{enumerate*}\n",
       "\\item 'CK'\n",
       "\\item 'CK\\_MB'\n",
       "\\item 'CRP'\n",
       "\\item 'Troponin'\n",
       "\\end{enumerate*}\n"
      ],
      "text/markdown": [
       "1. 'CK'\n",
       "2. 'CK_MB'\n",
       "3. 'CRP'\n",
       "4. 'Troponin'\n",
       "\n",
       "\n"
      ],
      "text/plain": [
       "[1] \"CK\"       \"CK_MB\"    \"CRP\"      \"Troponin\""
      ]
     },
     "metadata": {},
     "output_type": "display_data"
    }
   ],
   "source": [
    "unique(data_long$variable[data_long$type == 'clinical_data'])"
   ]
  },
  {
   "cell_type": "code",
   "execution_count": 238,
   "id": "b36e642b-4d71-4a3c-b6db-80a1fbafcb77",
   "metadata": {},
   "outputs": [
    {
     "data": {
      "text/html": [
       "9145"
      ],
      "text/latex": [
       "9145"
      ],
      "text/markdown": [
       "9145"
      ],
      "text/plain": [
       "[1] 9145"
      ]
     },
     "metadata": {},
     "output_type": "display_data"
    }
   ],
   "source": [
    "length(unique(data_long$variable))"
   ]
  },
  {
   "cell_type": "markdown",
   "id": "62eb7d50-d66e-4906-8593-3521e5d60c1c",
   "metadata": {},
   "source": [
    "# Save Prepared Data"
   ]
  },
  {
   "cell_type": "code",
   "execution_count": 239,
   "id": "25f53057-cd66-409a-a317-cc492f1ac849",
   "metadata": {},
   "outputs": [
    {
     "data": {
      "text/html": [
       "'V_AZIMUTH_INTEGRATED'"
      ],
      "text/latex": [
       "'V\\_AZIMUTH\\_INTEGRATED'"
      ],
      "text/markdown": [
       "'V_AZIMUTH_INTEGRATED'"
      ],
      "text/plain": [
       "[1] \"V_AZIMUTH_INTEGRATED\""
      ]
     },
     "metadata": {},
     "output_type": "display_data"
    }
   ],
   "source": [
    "name_save"
   ]
  },
  {
   "cell_type": "code",
   "execution_count": 240,
   "id": "1f0955e6-7739-4f49-954d-7bb0ba89dca0",
   "metadata": {},
   "outputs": [],
   "source": [
    "write.csv(data_long, paste0(result_path, '/G-Analysis/Combined_Data_', name_save, '.csv'))"
   ]
  },
  {
   "cell_type": "code",
   "execution_count": 242,
   "id": "b21de238-0027-49b3-85ea-6680957b41b7",
   "metadata": {},
   "outputs": [
    {
     "data": {
      "text/html": [
       "9145"
      ],
      "text/latex": [
       "9145"
      ],
      "text/markdown": [
       "9145"
      ],
      "text/plain": [
       "[1] 9145"
      ]
     },
     "metadata": {},
     "output_type": "display_data"
    }
   ],
   "source": [
    "length(unique(data_long$variable))"
   ]
  },
  {
   "cell_type": "code",
   "execution_count": null,
   "id": "082c6ba4-f830-42a4-a6cd-bb4979b63ef8",
   "metadata": {},
   "outputs": [],
   "source": []
  }
 ],
 "metadata": {
  "kernelspec": {
   "display_name": "R",
   "language": "R",
   "name": "ir"
  },
  "language_info": {
   "codemirror_mode": "r",
   "file_extension": ".r",
   "mimetype": "text/x-r-source",
   "name": "R",
   "pygments_lexer": "r",
   "version": "4.1.1"
  }
 },
 "nbformat": 4,
 "nbformat_minor": 5
}

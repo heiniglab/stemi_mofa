{
 "cells": [
  {
   "cell_type": "code",
   "execution_count": 1,
   "id": "d182c426-4d95-4dee-a099-cd923e9437d7",
   "metadata": {},
   "outputs": [],
   "source": [
    "### Script to run MOFA on the integrated dataset"
   ]
  },
  {
   "cell_type": "markdown",
   "id": "213d69de-4705-4a6e-9387-b1a3413172eb",
   "metadata": {
    "tags": []
   },
   "source": [
    "#############################################\n",
    "# Prerequisites - Load Libraries"
   ]
  },
  {
   "cell_type": "code",
   "execution_count": 2,
   "id": "9957e32b-eaec-4762-95cd-e089cc1cdc60",
   "metadata": {
    "collapsed": true,
    "jupyter": {
     "outputs_hidden": true
    },
    "tags": []
   },
   "outputs": [
    {
     "name": "stderr",
     "output_type": "stream",
     "text": [
      "Warning message in read.table(file = file, header = header, sep = sep, quote = quote, :\n",
      "“incomplete final line found by readTableHeader on '../conda_environment/Environment_Configs.csv'”\n"
     ]
    },
    {
     "name": "stdout",
     "output_type": "stream",
     "text": [
      "[1] \"/home/icb/corinna.losert/miniconda3/envs/stark_stemi_R_Env_4_1//lib/R/library\"\n"
     ]
    },
    {
     "name": "stderr",
     "output_type": "stream",
     "text": [
      "\n",
      "Attaching package: ‘igraph’\n",
      "\n",
      "\n",
      "The following objects are masked from ‘package:stats’:\n",
      "\n",
      "    decompose, spectrum\n",
      "\n",
      "\n",
      "The following object is masked from ‘package:base’:\n",
      "\n",
      "    union\n",
      "\n",
      "\n",
      "\n",
      "Attaching package: ‘MatrixGenerics’\n",
      "\n",
      "\n",
      "The following objects are masked from ‘package:matrixStats’:\n",
      "\n",
      "    colAlls, colAnyNAs, colAnys, colAvgsPerRowSet, colCollapse,\n",
      "    colCounts, colCummaxs, colCummins, colCumprods, colCumsums,\n",
      "    colDiffs, colIQRDiffs, colIQRs, colLogSumExps, colMadDiffs,\n",
      "    colMads, colMaxs, colMeans2, colMedians, colMins, colOrderStats,\n",
      "    colProds, colQuantiles, colRanges, colRanks, colSdDiffs, colSds,\n",
      "    colSums2, colTabulates, colVarDiffs, colVars, colWeightedMads,\n",
      "    colWeightedMeans, colWeightedMedians, colWeightedSds,\n",
      "    colWeightedVars, rowAlls, rowAnyNAs, rowAnys, rowAvgsPerColSet,\n",
      "    rowCollapse, rowCounts, rowCummaxs, rowCummins, rowCumprods,\n",
      "    rowCumsums, rowDiffs, rowIQRDiffs, rowIQRs, rowLogSumExps,\n",
      "    rowMadDiffs, rowMads, rowMaxs, rowMeans2, rowMedians, rowMins,\n",
      "    rowOrderStats, rowProds, rowQuantiles, rowRanges, rowRanks,\n",
      "    rowSdDiffs, rowSds, rowSums2, rowTabulates, rowVarDiffs, rowVars,\n",
      "    rowWeightedMads, rowWeightedMeans, rowWeightedMedians,\n",
      "    rowWeightedSds, rowWeightedVars\n",
      "\n",
      "\n",
      "\n",
      "Attaching package: ‘BiocGenerics’\n",
      "\n",
      "\n",
      "The following objects are masked from ‘package:parallel’:\n",
      "\n",
      "    clusterApply, clusterApplyLB, clusterCall, clusterEvalQ,\n",
      "    clusterExport, clusterMap, parApply, parCapply, parLapply,\n",
      "    parLapplyLB, parRapply, parSapply, parSapplyLB\n",
      "\n",
      "\n",
      "The following objects are masked from ‘package:igraph’:\n",
      "\n",
      "    normalize, path, union\n",
      "\n",
      "\n",
      "The following objects are masked from ‘package:stats’:\n",
      "\n",
      "    IQR, mad, sd, var, xtabs\n",
      "\n",
      "\n",
      "The following objects are masked from ‘package:base’:\n",
      "\n",
      "    anyDuplicated, append, as.data.frame, basename, cbind, colnames,\n",
      "    dirname, do.call, duplicated, eval, evalq, Filter, Find, get, grep,\n",
      "    grepl, intersect, is.unsorted, lapply, Map, mapply, match, mget,\n",
      "    order, paste, pmax, pmax.int, pmin, pmin.int, Position, rank,\n",
      "    rbind, Reduce, rownames, sapply, setdiff, sort, table, tapply,\n",
      "    union, unique, unsplit, which.max, which.min\n",
      "\n",
      "\n",
      "\n",
      "Attaching package: ‘S4Vectors’\n",
      "\n",
      "\n",
      "The following objects are masked from ‘package:base’:\n",
      "\n",
      "    expand.grid, I, unname\n",
      "\n",
      "\n",
      "Welcome to Bioconductor\n",
      "\n",
      "    Vignettes contain introductory material; view with\n",
      "    'browseVignettes()'. To cite Bioconductor, see\n",
      "    'citation(\"Biobase\")', and for packages 'citation(\"pkgname\")'.\n",
      "\n",
      "\n",
      "\n",
      "Attaching package: ‘Biobase’\n",
      "\n",
      "\n",
      "The following object is masked from ‘package:MatrixGenerics’:\n",
      "\n",
      "    rowMedians\n",
      "\n",
      "\n",
      "The following objects are masked from ‘package:matrixStats’:\n",
      "\n",
      "    anyMissing, rowMedians\n",
      "\n",
      "\n",
      "\n",
      "Attaching package: ‘sp’\n",
      "\n",
      "\n",
      "The following object is masked from ‘package:IRanges’:\n",
      "\n",
      "    %over%\n",
      "\n",
      "\n",
      "\n",
      "Attaching package: ‘SeuratObject’\n",
      "\n",
      "\n",
      "The following object is masked from ‘package:SummarizedExperiment’:\n",
      "\n",
      "    Assays\n",
      "\n",
      "\n",
      "The following object is masked from ‘package:GenomicRanges’:\n",
      "\n",
      "    intersect\n",
      "\n",
      "\n",
      "The following object is masked from ‘package:GenomeInfoDb’:\n",
      "\n",
      "    intersect\n",
      "\n",
      "\n",
      "The following object is masked from ‘package:IRanges’:\n",
      "\n",
      "    intersect\n",
      "\n",
      "\n",
      "The following object is masked from ‘package:S4Vectors’:\n",
      "\n",
      "    intersect\n",
      "\n",
      "\n",
      "The following object is masked from ‘package:BiocGenerics’:\n",
      "\n",
      "    intersect\n",
      "\n",
      "\n",
      "The following object is masked from ‘package:base’:\n",
      "\n",
      "    intersect\n",
      "\n",
      "\n",
      "\n",
      "Attaching package: ‘Seurat’\n",
      "\n",
      "\n",
      "The following object is masked from ‘package:SummarizedExperiment’:\n",
      "\n",
      "    Assays\n",
      "\n",
      "\n",
      "The following object is masked from ‘package:igraph’:\n",
      "\n",
      "    components\n",
      "\n",
      "\n",
      "\n",
      "Attaching package: ‘Matrix’\n",
      "\n",
      "\n",
      "The following object is masked from ‘package:S4Vectors’:\n",
      "\n",
      "    expand\n",
      "\n",
      "\n",
      "\n",
      "Attaching package: ‘DelayedArray’\n",
      "\n",
      "\n",
      "The following object is masked from ‘package:igraph’:\n",
      "\n",
      "    simplify\n",
      "\n",
      "\n",
      "The following objects are masked from ‘package:base’:\n",
      "\n",
      "    aperm, apply, rowsum, scale, sweep\n",
      "\n",
      "\n",
      "\n",
      "Attaching package: ‘HDF5Array’\n",
      "\n",
      "\n",
      "The following object is masked from ‘package:rhdf5’:\n",
      "\n",
      "    h5ls\n",
      "\n",
      "\n",
      "Warning message in if (is.na(desc)) {:\n",
      "“the condition has length > 1 and only the first element will be used”\n",
      "Warning message in if (is.na(desc)) {:\n",
      "“the condition has length > 1 and only the first element will be used”\n",
      "Warning message in if (is.na(desc)) {:\n",
      "“the condition has length > 1 and only the first element will be used”\n",
      "Warning message in if (is.na(desc)) {:\n",
      "“the condition has length > 1 and only the first element will be used”\n",
      "Warning message in if (is.na(desc)) {:\n",
      "“the condition has length > 1 and only the first element will be used”\n",
      "Warning message in if (is.na(desc)) {:\n",
      "“the condition has length > 1 and only the first element will be used”\n",
      "Warning message in if (is.na(desc)) {:\n",
      "“the condition has length > 1 and only the first element will be used”\n",
      "Warning message in if (is.na(desc)) {:\n",
      "“the condition has length > 1 and only the first element will be used”\n",
      "Warning message in if (is.na(desc)) {:\n",
      "“the condition has length > 1 and only the first element will be used”\n",
      "Warning message in if (is.na(desc)) {:\n",
      "“the condition has length > 1 and only the first element will be used”\n",
      "Warning message in if (is.na(desc)) {:\n",
      "“the condition has length > 1 and only the first element will be used”\n",
      "Warning message in if (is.na(desc)) {:\n",
      "“the condition has length > 1 and only the first element will be used”\n",
      "Warning message in if (is.na(desc)) {:\n",
      "“the condition has length > 1 and only the first element will be used”\n",
      "Warning message in if (is.na(desc)) {:\n",
      "“the condition has length > 1 and only the first element will be used”\n",
      "Warning message in if (is.na(desc)) {:\n",
      "“the condition has length > 1 and only the first element will be used”\n",
      "Warning message in if (is.na(desc)) {:\n",
      "“the condition has length > 1 and only the first element will be used”\n",
      "Warning message in if (is.na(desc)) {:\n",
      "“the condition has length > 1 and only the first element will be used”\n",
      "Warning message in if (is.na(desc)) {:\n",
      "“the condition has length > 1 and only the first element will be used”\n",
      "Warning message in if (is.na(desc)) {:\n",
      "“the condition has length > 1 and only the first element will be used”\n",
      "Warning message in if (is.na(desc)) {:\n",
      "“the condition has length > 1 and only the first element will be used”\n",
      "Warning message in if (is.na(desc)) {:\n",
      "“the condition has length > 1 and only the first element will be used”\n",
      "Warning message in if (is.na(desc)) {:\n",
      "“the condition has length > 1 and only the first element will be used”\n",
      "Warning message in if (is.na(desc)) {:\n",
      "“the condition has length > 1 and only the first element will be used”\n",
      "Registered S3 method overwritten by 'SeuratDisk':\n",
      "  method            from  \n",
      "  as.sparse.H5Group Seurat\n",
      "\n",
      "\n",
      "Attaching package: ‘gridExtra’\n",
      "\n",
      "\n",
      "The following object is masked from ‘package:Biobase’:\n",
      "\n",
      "    combine\n",
      "\n",
      "\n",
      "The following object is masked from ‘package:BiocGenerics’:\n",
      "\n",
      "    combine\n",
      "\n",
      "\n",
      "\n",
      "Attaching package: ‘dplyr’\n",
      "\n",
      "\n",
      "The following object is masked from ‘package:gridExtra’:\n",
      "\n",
      "    combine\n",
      "\n",
      "\n",
      "The following object is masked from ‘package:Biobase’:\n",
      "\n",
      "    combine\n",
      "\n",
      "\n",
      "The following objects are masked from ‘package:GenomicRanges’:\n",
      "\n",
      "    intersect, setdiff, union\n",
      "\n",
      "\n",
      "The following object is masked from ‘package:GenomeInfoDb’:\n",
      "\n",
      "    intersect\n",
      "\n",
      "\n",
      "The following objects are masked from ‘package:IRanges’:\n",
      "\n",
      "    collapse, desc, intersect, setdiff, slice, union\n",
      "\n",
      "\n",
      "The following objects are masked from ‘package:S4Vectors’:\n",
      "\n",
      "    first, intersect, rename, setdiff, setequal, union\n",
      "\n",
      "\n",
      "The following objects are masked from ‘package:BiocGenerics’:\n",
      "\n",
      "    combine, intersect, setdiff, union\n",
      "\n",
      "\n",
      "The following object is masked from ‘package:matrixStats’:\n",
      "\n",
      "    count\n",
      "\n",
      "\n",
      "The following objects are masked from ‘package:igraph’:\n",
      "\n",
      "    as_data_frame, groups, union\n",
      "\n",
      "\n",
      "The following objects are masked from ‘package:stats’:\n",
      "\n",
      "    filter, lag\n",
      "\n",
      "\n",
      "The following objects are masked from ‘package:base’:\n",
      "\n",
      "    intersect, setdiff, setequal, union\n",
      "\n",
      "\n",
      "\n",
      "Attaching package: ‘plotly’\n",
      "\n",
      "\n",
      "The following object is masked from ‘package:ggplot2’:\n",
      "\n",
      "    last_plot\n",
      "\n",
      "\n",
      "The following object is masked from ‘package:IRanges’:\n",
      "\n",
      "    slice\n",
      "\n",
      "\n",
      "The following object is masked from ‘package:S4Vectors’:\n",
      "\n",
      "    rename\n",
      "\n",
      "\n",
      "The following object is masked from ‘package:igraph’:\n",
      "\n",
      "    groups\n",
      "\n",
      "\n",
      "The following object is masked from ‘package:stats’:\n",
      "\n",
      "    filter\n",
      "\n",
      "\n",
      "The following object is masked from ‘package:graphics’:\n",
      "\n",
      "    layout\n",
      "\n",
      "\n",
      "Warning message in checkMatrixPackageVersion():\n",
      "“Package version inconsistency detected.\n",
      "TMB was built with Matrix version 1.5.3\n",
      "Current Matrix version is 1.6.4\n",
      "Please re-install 'TMB' from source using install.packages('TMB', type = 'source') or ask CRAN for a binary version of 'TMB' matching CRAN's 'Matrix' package”\n",
      "\n",
      "Attaching package: ‘limma’\n",
      "\n",
      "\n",
      "The following object is masked from ‘package:scater’:\n",
      "\n",
      "    plotMDS\n",
      "\n",
      "\n",
      "The following object is masked from ‘package:BiocGenerics’:\n",
      "\n",
      "    plotMA\n",
      "\n",
      "\n",
      "\n",
      "Attaching package: ‘DESeq2’\n",
      "\n",
      "\n",
      "The following object is masked from ‘package:scater’:\n",
      "\n",
      "    fpkm\n",
      "\n",
      "\n",
      "Loading required package: AnnotationDbi\n",
      "\n",
      "\n",
      "Attaching package: ‘AnnotationDbi’\n",
      "\n",
      "\n",
      "The following object is masked from ‘package:plotly’:\n",
      "\n",
      "    select\n",
      "\n",
      "\n",
      "The following object is masked from ‘package:dplyr’:\n",
      "\n",
      "    select\n",
      "\n",
      "\n",
      "\n",
      "\n",
      "\n",
      "\n",
      "Registered S3 method overwritten by 'ggtree':\n",
      "  method      from \n",
      "  identify.gg ggfun\n",
      "\n",
      "clusterProfiler v4.0.5  For help: https://yulab-smu.top/biomedical-knowledge-mining-book/\n",
      "\n",
      "If you use clusterProfiler in published research, please cite:\n",
      "T Wu, E Hu, S Xu, M Chen, P Guo, Z Dai, T Feng, L Zhou, W Tang, L Zhan, X Fu, S Liu, X Bo, and G Yu. clusterProfiler 4.0: A universal enrichment tool for interpreting omics data. The Innovation. 2021, 2(3):100141. doi: 10.1016/j.xinn.2021.100141\n",
      "\n",
      "\n",
      "Attaching package: ‘clusterProfiler’\n",
      "\n",
      "\n",
      "The following object is masked from ‘package:AnnotationDbi’:\n",
      "\n",
      "    select\n",
      "\n",
      "\n",
      "The following object is masked from ‘package:DelayedArray’:\n",
      "\n",
      "    simplify\n",
      "\n",
      "\n",
      "The following object is masked from ‘package:IRanges’:\n",
      "\n",
      "    slice\n",
      "\n",
      "\n",
      "The following object is masked from ‘package:S4Vectors’:\n",
      "\n",
      "    rename\n",
      "\n",
      "\n",
      "The following object is masked from ‘package:igraph’:\n",
      "\n",
      "    simplify\n",
      "\n",
      "\n",
      "The following object is masked from ‘package:stats’:\n",
      "\n",
      "    filter\n",
      "\n",
      "\n",
      "\n",
      "Attaching package: ‘data.table’\n",
      "\n",
      "\n",
      "The following objects are masked from ‘package:dplyr’:\n",
      "\n",
      "    between, first, last\n",
      "\n",
      "\n",
      "The following object is masked from ‘package:SummarizedExperiment’:\n",
      "\n",
      "    shift\n",
      "\n",
      "\n",
      "The following object is masked from ‘package:GenomicRanges’:\n",
      "\n",
      "    shift\n",
      "\n",
      "\n",
      "The following object is masked from ‘package:IRanges’:\n",
      "\n",
      "    shift\n",
      "\n",
      "\n",
      "The following objects are masked from ‘package:S4Vectors’:\n",
      "\n",
      "    first, second\n",
      "\n",
      "\n",
      "\n",
      "Attaching package: ‘MOFA2’\n",
      "\n",
      "\n",
      "The following object is masked from ‘package:stats’:\n",
      "\n",
      "    predict\n",
      "\n",
      "\n",
      "\n",
      "Attaching package: ‘ggraph’\n",
      "\n",
      "\n",
      "The following object is masked from ‘package:sp’:\n",
      "\n",
      "    geometry\n",
      "\n",
      "\n",
      "\n",
      "Attaching package: ‘Hmisc’\n",
      "\n",
      "\n",
      "The following object is masked from ‘package:MOFA2’:\n",
      "\n",
      "    impute\n",
      "\n",
      "\n",
      "The following object is masked from ‘package:AnnotationDbi’:\n",
      "\n",
      "    contents\n",
      "\n",
      "\n",
      "The following object is masked from ‘package:plotly’:\n",
      "\n",
      "    subplot\n",
      "\n",
      "\n",
      "The following objects are masked from ‘package:dplyr’:\n",
      "\n",
      "    src, summarize\n",
      "\n",
      "\n",
      "The following object is masked from ‘package:Seurat’:\n",
      "\n",
      "    Key\n",
      "\n",
      "\n",
      "The following object is masked from ‘package:SeuratObject’:\n",
      "\n",
      "    Key\n",
      "\n",
      "\n",
      "The following object is masked from ‘package:Biobase’:\n",
      "\n",
      "    contents\n",
      "\n",
      "\n",
      "The following objects are masked from ‘package:base’:\n",
      "\n",
      "    format.pval, units\n",
      "\n",
      "\n",
      "Registered S3 method overwritten by 'GGally':\n",
      "  method from   \n",
      "  +.gg   ggplot2\n",
      "\n",
      "\n",
      "Attaching package: ‘rstatix’\n",
      "\n",
      "\n",
      "The following object is masked from ‘package:AnnotationDbi’:\n",
      "\n",
      "    select\n",
      "\n",
      "\n",
      "The following object is masked from ‘package:IRanges’:\n",
      "\n",
      "    desc\n",
      "\n",
      "\n",
      "The following object is masked from ‘package:stats’:\n",
      "\n",
      "    filter\n",
      "\n",
      "\n",
      "corrplot 0.92 loaded\n",
      "\n",
      "\n",
      "‘network’ 1.18.1 (2023-01-24), part of the Statnet Project\n",
      "* ‘news(package=\"network\")’ for changes since last version\n",
      "* ‘citation(\"network\")’ for citation information\n",
      "* ‘https://statnet.org’ for help, support, and other information\n",
      "\n",
      "\n",
      "\n",
      "Attaching package: ‘network’\n",
      "\n",
      "\n",
      "The following object is masked from ‘package:Hmisc’:\n",
      "\n",
      "    is.discrete\n",
      "\n",
      "\n",
      "The following objects are masked from ‘package:igraph’:\n",
      "\n",
      "    %c%, %s%, add.edges, add.vertices, delete.edges, delete.vertices,\n",
      "    get.edge.attribute, get.edges, get.vertex.attribute, is.bipartite,\n",
      "    is.directed, list.edge.attributes, list.vertex.attributes,\n",
      "    set.edge.attribute, set.vertex.attribute\n",
      "\n",
      "\n",
      "\n",
      "Attaching package: ‘enrichplot’\n",
      "\n",
      "\n",
      "The following object is masked from ‘package:GGally’:\n",
      "\n",
      "    ggtable\n",
      "\n",
      "\n",
      "DOSE v3.18.3  For help: https://guangchuangyu.github.io/software/DOSE\n",
      "\n",
      "If you use DOSE in published research, please cite:\n",
      "Guangchuang Yu, Li-Gen Wang, Guang-Rong Yan, Qing-Yu He. DOSE: an R/Bioconductor package for Disease Ontology Semantic and Enrichment analysis. Bioinformatics 2015, 31(4):608-609\n",
      "\n",
      "\n",
      "\n",
      "Attaching package: ‘UpSetR’\n",
      "\n",
      "\n",
      "The following object is masked from ‘package:ComplexUpset’:\n",
      "\n",
      "    upset\n",
      "\n",
      "\n",
      "Registered S3 method overwritten by 'gdata':\n",
      "  method         from  \n",
      "  reorder.factor gplots\n",
      "\n",
      "gdata: read.xls support for 'XLS' (Excel 97-2004) files ENABLED.\n",
      "\n",
      "\n",
      "\n",
      "gdata: read.xls support for 'XLSX' (Excel 2007+) files ENABLED.\n",
      "\n",
      "\n",
      "Attaching package: ‘gdata’\n",
      "\n",
      "\n",
      "The following objects are masked from ‘package:data.table’:\n",
      "\n",
      "    first, last\n",
      "\n",
      "\n",
      "The following objects are masked from ‘package:dplyr’:\n",
      "\n",
      "    combine, first, last\n",
      "\n",
      "\n",
      "The following object is masked from ‘package:gridExtra’:\n",
      "\n",
      "    combine\n",
      "\n",
      "\n",
      "The following object is masked from ‘package:SummarizedExperiment’:\n",
      "\n",
      "    trim\n",
      "\n",
      "\n",
      "The following object is masked from ‘package:Biobase’:\n",
      "\n",
      "    combine\n",
      "\n",
      "\n",
      "The following object is masked from ‘package:GenomicRanges’:\n",
      "\n",
      "    trim\n",
      "\n",
      "\n",
      "The following objects are masked from ‘package:IRanges’:\n",
      "\n",
      "    startsWith, trim\n",
      "\n",
      "\n",
      "The following objects are masked from ‘package:S4Vectors’:\n",
      "\n",
      "    first, first<-\n",
      "\n",
      "\n",
      "The following object is masked from ‘package:BiocGenerics’:\n",
      "\n",
      "    combine\n",
      "\n",
      "\n",
      "The following object is masked from ‘package:stats4’:\n",
      "\n",
      "    nobs\n",
      "\n",
      "\n",
      "The following object is masked from ‘package:stats’:\n",
      "\n",
      "    nobs\n",
      "\n",
      "\n",
      "The following object is masked from ‘package:utils’:\n",
      "\n",
      "    object.size\n",
      "\n",
      "\n",
      "The following object is masked from ‘package:base’:\n",
      "\n",
      "    startsWith\n",
      "\n",
      "\n",
      "\n",
      "Attaching package: ‘reshape2’\n",
      "\n",
      "\n",
      "The following objects are masked from ‘package:data.table’:\n",
      "\n",
      "    dcast, melt\n",
      "\n",
      "\n",
      "ReactomePA v1.36.0  For help: https://yulab-smu.top/biomedical-knowledge-mining-book/reactomepa.html\n",
      "\n",
      "If you use ReactomePA in published research, please cite:\n",
      "Guangchuang Yu, Qing-Yu He. ReactomePA: an R/Bioconductor package for reactome pathway analysis and visualization. Molecular BioSystems 2016, 12(2):477-479\n",
      "\n",
      "Loading required package: mgcv\n",
      "\n",
      "Loading required package: nlme\n",
      "\n",
      "\n",
      "Attaching package: ‘nlme’\n",
      "\n",
      "\n",
      "The following object is masked from ‘package:dplyr’:\n",
      "\n",
      "    collapse\n",
      "\n",
      "\n",
      "The following object is masked from ‘package:IRanges’:\n",
      "\n",
      "    collapse\n",
      "\n",
      "\n",
      "This is mgcv 1.8-41. For overview type 'help(\"mgcv-package\")'.\n",
      "\n",
      "Loading required package: genefilter\n",
      "\n",
      "\n",
      "Attaching package: ‘genefilter’\n",
      "\n",
      "\n",
      "The following object is masked from ‘package:rstatix’:\n",
      "\n",
      "    Anova\n",
      "\n",
      "\n",
      "The following objects are masked from ‘package:MatrixGenerics’:\n",
      "\n",
      "    rowSds, rowVars\n",
      "\n",
      "\n",
      "The following objects are masked from ‘package:matrixStats’:\n",
      "\n",
      "    rowSds, rowVars\n",
      "\n",
      "\n",
      "Loading required package: BiocParallel\n",
      "\n",
      "\n",
      "Attaching package: ‘patchwork’\n",
      "\n",
      "\n",
      "The following object is masked from ‘package:genefilter’:\n",
      "\n",
      "    area\n",
      "\n",
      "\n",
      "The following object is masked from ‘package:cowplot’:\n",
      "\n",
      "    align_plots\n",
      "\n",
      "\n",
      "Type 'citation(\"pROC\")' for a citation.\n",
      "\n",
      "\n",
      "Attaching package: ‘pROC’\n",
      "\n",
      "\n",
      "The following object is masked from ‘package:colorspace’:\n",
      "\n",
      "    coords\n",
      "\n",
      "\n",
      "The following objects are masked from ‘package:IRanges’:\n",
      "\n",
      "    cov, var\n",
      "\n",
      "\n",
      "The following objects are masked from ‘package:S4Vectors’:\n",
      "\n",
      "    cov, var\n",
      "\n",
      "\n",
      "The following object is masked from ‘package:BiocGenerics’:\n",
      "\n",
      "    var\n",
      "\n",
      "\n",
      "The following objects are masked from ‘package:stats’:\n",
      "\n",
      "    cov, smooth, var\n",
      "\n",
      "\n",
      "Loaded glmnet 4.1-6\n",
      "\n",
      "\n",
      "Attaching package: ‘nnet’\n",
      "\n",
      "\n",
      "The following object is masked from ‘package:mgcv’:\n",
      "\n",
      "    multinom\n",
      "\n",
      "\n",
      "\n",
      "Attaching package: ‘dfidx’\n",
      "\n",
      "\n",
      "The following object is masked from ‘package:AnnotationDbi’:\n",
      "\n",
      "    select\n",
      "\n",
      "\n",
      "The following object is masked from ‘package:IRanges’:\n",
      "\n",
      "    slice\n",
      "\n",
      "\n",
      "The following object is masked from ‘package:stats’:\n",
      "\n",
      "    filter\n",
      "\n",
      "\n",
      "\n",
      "Attaching package: ‘cvAUC’\n",
      "\n",
      "\n",
      "The following object is masked from ‘package:genefilter’:\n",
      "\n",
      "    AUC\n",
      "\n",
      "\n",
      "Loading required package: maps\n",
      "\n",
      "Loading required package: shapefiles\n",
      "\n",
      "Loading required package: foreign\n",
      "\n",
      "\n",
      "Attaching package: ‘shapefiles’\n",
      "\n",
      "\n",
      "The following objects are masked from ‘package:foreign’:\n",
      "\n",
      "    read.dbf, write.dbf\n",
      "\n",
      "\n",
      "\n",
      "Attaching package: ‘plotROC’\n",
      "\n",
      "\n",
      "The following object is masked from ‘package:pROC’:\n",
      "\n",
      "    ggroc\n",
      "\n",
      "\n",
      "Welcome! Want to learn more? See two factoextra-related books at https://goo.gl/ve3WBa\n",
      "\n",
      "Loading required package: grid\n",
      "\n",
      "========================================\n",
      "ComplexHeatmap version 2.8.0\n",
      "Bioconductor page: http://bioconductor.org/packages/ComplexHeatmap/\n",
      "Github page: https://github.com/jokergoo/ComplexHeatmap\n",
      "Documentation: http://jokergoo.github.io/ComplexHeatmap-reference\n",
      "\n",
      "If you use it in published research, please cite:\n",
      "Gu, Z. Complex heatmaps reveal patterns and correlations in multidimensional \n",
      "  genomic data. Bioinformatics 2016.\n",
      "\n",
      "The new InteractiveComplexHeatmap package can directly export static \n",
      "complex heatmaps into an interactive Shiny app with zero effort. Have a try!\n",
      "\n",
      "This message can be suppressed by:\n",
      "  suppressPackageStartupMessages(library(ComplexHeatmap))\n",
      "========================================\n",
      "\n",
      "\n",
      "\n",
      "Attaching package: ‘ComplexHeatmap’\n",
      "\n",
      "\n",
      "The following object is masked from ‘package:genefilter’:\n",
      "\n",
      "    dist2\n",
      "\n",
      "\n",
      "The following object is masked from ‘package:network’:\n",
      "\n",
      "    %v%\n",
      "\n",
      "\n",
      "The following object is masked from ‘package:plotly’:\n",
      "\n",
      "    add_heatmap\n",
      "\n",
      "\n",
      "Welcome to compositions, a package for compositional data analysis.\n",
      "Find an intro with \"? compositions\"\n",
      "\n",
      "\n",
      "\n",
      "Attaching package: ‘compositions’\n",
      "\n",
      "\n",
      "The following object is masked from ‘package:glmnet’:\n",
      "\n",
      "    rmult\n",
      "\n",
      "\n",
      "The following objects are masked from ‘package:pROC’:\n",
      "\n",
      "    cov, var\n",
      "\n",
      "\n",
      "The following object is masked from ‘package:DelayedArray’:\n",
      "\n",
      "    scale\n",
      "\n",
      "\n",
      "The following object is masked from ‘package:Matrix’:\n",
      "\n",
      "    norm\n",
      "\n",
      "\n",
      "The following object is masked from ‘package:scater’:\n",
      "\n",
      "    normalize\n",
      "\n",
      "\n",
      "The following objects are masked from ‘package:IRanges’:\n",
      "\n",
      "    cor, cov, var\n",
      "\n",
      "\n",
      "The following objects are masked from ‘package:S4Vectors’:\n",
      "\n",
      "    cor, cov, var\n",
      "\n",
      "\n",
      "The following objects are masked from ‘package:BiocGenerics’:\n",
      "\n",
      "    normalize, var\n",
      "\n",
      "\n",
      "The following object is masked from ‘package:igraph’:\n",
      "\n",
      "    normalize\n",
      "\n",
      "\n",
      "The following objects are masked from ‘package:stats’:\n",
      "\n",
      "    anova, cor, cov, dist, var\n",
      "\n",
      "\n",
      "The following objects are masked from ‘package:base’:\n",
      "\n",
      "    %*%, norm, scale, scale.default\n",
      "\n",
      "\n",
      "========================================\n",
      "circlize version 0.4.15\n",
      "CRAN page: https://cran.r-project.org/package=circlize\n",
      "Github page: https://github.com/jokergoo/circlize\n",
      "Documentation: https://jokergoo.github.io/circlize_book/book/\n",
      "\n",
      "If you use it in published research, please cite:\n",
      "Gu, Z. circlize implements and enhances circular visualization\n",
      "  in R. Bioinformatics 2014.\n",
      "\n",
      "This message can be suppressed by:\n",
      "  suppressPackageStartupMessages(library(circlize))\n",
      "========================================\n",
      "\n",
      "\n",
      "\n",
      "Attaching package: ‘circlize’\n",
      "\n",
      "\n",
      "The following object is masked from ‘package:igraph’:\n",
      "\n",
      "    degree\n",
      "\n",
      "\n",
      "\n",
      "Attaching package: ‘ggpubr’\n",
      "\n",
      "\n",
      "The following object is masked from ‘package:enrichplot’:\n",
      "\n",
      "    color_palette\n",
      "\n",
      "\n",
      "The following object is masked from ‘package:cowplot’:\n",
      "\n",
      "    get_legend\n",
      "\n",
      "\n",
      "Loading required package: survival\n",
      "\n",
      "Loading required package: TH.data\n",
      "\n",
      "Loading required package: MASS\n",
      "\n",
      "\n",
      "Attaching package: ‘MASS’\n",
      "\n",
      "\n",
      "The following object is masked from ‘package:dfidx’:\n",
      "\n",
      "    select\n",
      "\n",
      "\n",
      "The following object is masked from ‘package:patchwork’:\n",
      "\n",
      "    area\n",
      "\n",
      "\n",
      "The following object is masked from ‘package:genefilter’:\n",
      "\n",
      "    area\n",
      "\n",
      "\n",
      "The following object is masked from ‘package:rstatix’:\n",
      "\n",
      "    select\n",
      "\n",
      "\n",
      "The following object is masked from ‘package:clusterProfiler’:\n",
      "\n",
      "    select\n",
      "\n",
      "\n",
      "The following object is masked from ‘package:AnnotationDbi’:\n",
      "\n",
      "    select\n",
      "\n",
      "\n",
      "The following object is masked from ‘package:plotly’:\n",
      "\n",
      "    select\n",
      "\n",
      "\n",
      "The following object is masked from ‘package:dplyr’:\n",
      "\n",
      "    select\n",
      "\n",
      "\n",
      "\n",
      "Attaching package: ‘TH.data’\n",
      "\n",
      "\n",
      "The following object is masked from ‘package:MASS’:\n",
      "\n",
      "    geyser\n",
      "\n",
      "\n",
      "\n",
      "Attaching package: ‘purrr’\n",
      "\n",
      "\n",
      "The following object is masked from ‘package:maps’:\n",
      "\n",
      "    map\n",
      "\n",
      "\n",
      "The following object is masked from ‘package:gdata’:\n",
      "\n",
      "    keep\n",
      "\n",
      "\n",
      "The following object is masked from ‘package:data.table’:\n",
      "\n",
      "    transpose\n",
      "\n",
      "\n",
      "The following object is masked from ‘package:clusterProfiler’:\n",
      "\n",
      "    simplify\n",
      "\n",
      "\n",
      "The following object is masked from ‘package:DelayedArray’:\n",
      "\n",
      "    simplify\n",
      "\n",
      "\n",
      "The following object is masked from ‘package:GenomicRanges’:\n",
      "\n",
      "    reduce\n",
      "\n",
      "\n",
      "The following object is masked from ‘package:IRanges’:\n",
      "\n",
      "    reduce\n",
      "\n",
      "\n",
      "The following objects are masked from ‘package:igraph’:\n",
      "\n",
      "    compose, simplify\n",
      "\n",
      "\n",
      "Attaching shinyBS\n",
      "\n"
     ]
    }
   ],
   "source": [
    "source('MS0_Libraries.r')"
   ]
  },
  {
   "cell_type": "code",
   "execution_count": 3,
   "id": "45fcc655-2176-406c-9f49-5e5b9379a275",
   "metadata": {
    "tags": []
   },
   "outputs": [
    {
     "name": "stderr",
     "output_type": "stream",
     "text": [
      "Warning message:\n",
      "“\u001b[1m\u001b[22mThe `size` argument of `element_line()` is deprecated as of ggplot2 3.4.0.\n",
      "\u001b[36mℹ\u001b[39m Please use the `linewidth` argument instead.”\n"
     ]
    }
   ],
   "source": [
    "source('MS4_Plot_Config.r')"
   ]
  },
  {
   "cell_type": "markdown",
   "id": "9d409d14-a693-4722-9648-4b6bacb4b74a",
   "metadata": {
    "tags": []
   },
   "source": [
    "###############################################\n",
    "# Preqrequisites Configurations & Parameters"
   ]
  },
  {
   "cell_type": "code",
   "execution_count": 4,
   "id": "b64f1c5a-3b86-4251-81a1-96a6ee9ae377",
   "metadata": {},
   "outputs": [],
   "source": [
    "data_path = '../data/current'"
   ]
  },
  {
   "cell_type": "code",
   "execution_count": 5,
   "id": "22415b81-130b-4ded-9fde-52c2865e4d34",
   "metadata": {},
   "outputs": [],
   "source": [
    "result_path = '../results/current'"
   ]
  },
  {
   "cell_type": "code",
   "execution_count": 6,
   "id": "2053c61d-7637-4283-97e8-abb76dfc1a8b",
   "metadata": {},
   "outputs": [
    {
     "data": {
      "text/html": [
       "'../data/current'"
      ],
      "text/latex": [
       "'../data/current'"
      ],
      "text/markdown": [
       "'../data/current'"
      ],
      "text/plain": [
       "[1] \"../data/current\""
      ]
     },
     "metadata": {},
     "output_type": "display_data"
    }
   ],
   "source": [
    "data_path"
   ]
  },
  {
   "cell_type": "code",
   "execution_count": 7,
   "id": "17c51dce-9c0d-4c0a-bbb1-6015d1743d4f",
   "metadata": {},
   "outputs": [],
   "source": [
    "name = 'V_AZIMUTH_INTEGRATED'  # name of dataset to load"
   ]
  },
  {
   "cell_type": "markdown",
   "id": "67bf281c-f070-4ad4-b894-6f000cd9e9c3",
   "metadata": {
    "tags": []
   },
   "source": [
    "# Functions"
   ]
  },
  {
   "cell_type": "code",
   "execution_count": 8,
   "id": "1c83032a-17e5-4dca-8e0d-b75f30fa3dd7",
   "metadata": {},
   "outputs": [],
   "source": [
    "### Function for quantile normalization\n",
    "\n",
    "quantile_normalization = function(X){\n",
    "  set.seed(42)\n",
    "  ranks = apply(X, 2, rank, ties.method = 'min')  # determine ranks of each entry\n",
    "  \n",
    "  sorted = data.frame(apply(X, 2, sort)) # sort the entries\n",
    "  means = apply(sorted, 1, mean) # calculate the means\n",
    "  \n",
    "  normalized_data = apply(ranks, 2 ,function(x){ means[x]}) # substitute the means into ranks matrix\n",
    "}\n"
   ]
  },
  {
   "cell_type": "code",
   "execution_count": 9,
   "id": "0c6f774b-82de-4fa2-a8ed-3c436fe307ae",
   "metadata": {},
   "outputs": [],
   "source": [
    "### Gene wise quantile normalization\n",
    "\n",
    "stdnorm <- function(x) {\n",
    "  set.seed(42)\n",
    "  r = rank(x[!is.na(x)], ties.method=\"average\")\n",
    "  x[!is.na(x)] = qnorm(r / (length(x[!is.na(x)]) + 1))\n",
    "  return(x)\n",
    "}"
   ]
  },
  {
   "cell_type": "markdown",
   "id": "43e2937f-4e6d-4e90-99f2-2f7c370f9639",
   "metadata": {
    "tags": []
   },
   "source": [
    "# Load Data "
   ]
  },
  {
   "cell_type": "markdown",
   "id": "d082fa98-ad4a-46ec-90e5-2da19dd6e84a",
   "metadata": {
    "tags": []
   },
   "source": [
    "## Prepared combined data"
   ]
  },
  {
   "cell_type": "code",
   "execution_count": 11,
   "id": "897faf61-3661-4d85-9c5c-dc0a9014df1e",
   "metadata": {},
   "outputs": [],
   "source": [
    "### Load integrated and normalized dataset"
   ]
  },
  {
   "cell_type": "code",
   "execution_count": 12,
   "id": "17a9bed4-c561-4cb6-ada9-5f70f42a1011",
   "metadata": {},
   "outputs": [
    {
     "name": "stdout",
     "output_type": "stream",
     "text": [
      "[1] \"2024-01-11 15:27:29 CET\"\n"
     ]
    }
   ],
   "source": [
    "path = paste0(result_path, '/G-Analysis/Combined_Data_',name,'.csv')\n",
    "data_long = read.csv(path)\n",
    "print(file.info(path)$mtime)"
   ]
  },
  {
   "cell_type": "code",
   "execution_count": 14,
   "id": "2d408808-8578-4e39-b67e-6f8aac321600",
   "metadata": {},
   "outputs": [],
   "source": [
    "data_long$X = NULL"
   ]
  },
  {
   "cell_type": "markdown",
   "id": "d76baf68-703a-40b2-8c70-bd80a5fdae6f",
   "metadata": {
    "tags": []
   },
   "source": [
    "## Sample Data"
   ]
  },
  {
   "cell_type": "code",
   "execution_count": 15,
   "id": "b616fb45-0523-4069-9d3d-b8b24ecc3668",
   "metadata": {},
   "outputs": [],
   "source": [
    "### Load sample meta-data"
   ]
  },
  {
   "cell_type": "code",
   "execution_count": 16,
   "id": "e4cfef1b-013b-48f8-9b60-17d1c3a24fe2",
   "metadata": {},
   "outputs": [],
   "source": [
    "sample_data = read.csv(paste0(result_path, '/00_Data_Overview/Merged_Sample_Meta_Data.csv'))"
   ]
  },
  {
   "cell_type": "code",
   "execution_count": 17,
   "id": "3a0ab1ef-9db1-4c4b-9447-5739a4b3292f",
   "metadata": {},
   "outputs": [],
   "source": [
    "### Logarithmize clinical values"
   ]
  },
  {
   "cell_type": "code",
   "execution_count": 18,
   "id": "7ab4f028-fb8e-4f5f-97b5-fd0c695da0be",
   "metadata": {},
   "outputs": [],
   "source": [
    "sample_data$CK_raw = sample_data$CK"
   ]
  },
  {
   "cell_type": "code",
   "execution_count": 19,
   "id": "371ca82f-5da3-46ae-b17d-8f332d58aa49",
   "metadata": {},
   "outputs": [],
   "source": [
    "sample_data$CK = log2(sample_data$CK+1)"
   ]
  },
  {
   "cell_type": "code",
   "execution_count": 20,
   "id": "fffd9dbb-f4bf-46d9-8404-408afb81e0f4",
   "metadata": {},
   "outputs": [],
   "source": [
    "sample_data$Troponin = log2(sample_data$Troponin+1)"
   ]
  },
  {
   "cell_type": "code",
   "execution_count": 21,
   "id": "6e31d99f-ec96-4de9-a274-7c7690adf1ba",
   "metadata": {},
   "outputs": [
    {
     "name": "stderr",
     "output_type": "stream",
     "text": [
      "Warning message in eval(expr, envir, enclos):\n",
      "“NAs introduced by coercion”\n"
     ]
    }
   ],
   "source": [
    "sample_data$CK_MB = log2(as.numeric(sample_data$CK_MB)+1)"
   ]
  },
  {
   "cell_type": "code",
   "execution_count": 22,
   "id": "ea0ccee8-a5ac-44a6-b2a4-7c4ef5b716dc",
   "metadata": {},
   "outputs": [
    {
     "name": "stderr",
     "output_type": "stream",
     "text": [
      "Warning message in eval(expr, envir, enclos):\n",
      "“NAs introduced by coercion”\n"
     ]
    }
   ],
   "source": [
    "sample_data$CRP =  log2(as.numeric(sample_data$CRP)+1)"
   ]
  },
  {
   "cell_type": "markdown",
   "id": "ccdf30b3-b8e9-4770-bd02-a1798961f9fb",
   "metadata": {
    "tags": []
   },
   "source": [
    "## Nichenet data (for specifying ligands)"
   ]
  },
  {
   "cell_type": "code",
   "execution_count": 24,
   "id": "379edf21-91fe-4d2b-aaf2-69139cf70e70",
   "metadata": {},
   "outputs": [],
   "source": [
    "### Load data from nichenet to specify ligands and potential targets"
   ]
  },
  {
   "cell_type": "code",
   "execution_count": 25,
   "id": "e3e22d61-47dc-4b8d-b756-6eb17ed0f3c0",
   "metadata": {},
   "outputs": [],
   "source": [
    "ligand_target_matrix = readRDS(url(\"https://zenodo.org/record/3260758/files/ligand_target_matrix.rds\"))  # gene-gene regulatory scores\n",
    "# gives the regulatory potential of a target gene based on the ligand-tf & tf- target-gene links and weights of the signaling and gr network (multiply PPR of each ligand -tf  pair with the weights of the gr network)"
   ]
  },
  {
   "cell_type": "code",
   "execution_count": 26,
   "id": "0260642a-7a16-4cb5-a94e-7b17a5472a85",
   "metadata": {},
   "outputs": [],
   "source": [
    "### Generate data in long format"
   ]
  },
  {
   "cell_type": "code",
   "execution_count": 27,
   "id": "2752b0a0-c755-4376-9de1-a1642e8b91e8",
   "metadata": {},
   "outputs": [],
   "source": [
    "ligand_target_matrix_long = melt(ligand_target_matrix)"
   ]
  },
  {
   "cell_type": "code",
   "execution_count": 28,
   "id": "28edb1e9-5f49-428f-85dd-7b761429de62",
   "metadata": {},
   "outputs": [],
   "source": [
    "colnames(ligand_target_matrix_long) = c('target', 'ligand', 'regulatory_potential')"
   ]
  },
  {
   "cell_type": "code",
   "execution_count": 29,
   "id": "807f51a7-d54b-4af5-8596-b4f649fc3754",
   "metadata": {},
   "outputs": [
    {
     "data": {
      "text/html": [
       "<table class=\"dataframe\">\n",
       "<caption>A data.frame: 2 × 3</caption>\n",
       "<thead>\n",
       "\t<tr><th></th><th scope=col>target</th><th scope=col>ligand</th><th scope=col>regulatory_potential</th></tr>\n",
       "\t<tr><th></th><th scope=col>&lt;fct&gt;</th><th scope=col>&lt;fct&gt;</th><th scope=col>&lt;dbl&gt;</th></tr>\n",
       "</thead>\n",
       "<tbody>\n",
       "\t<tr><th scope=row>1</th><td>A1BG    </td><td>CXCL1</td><td>0.0003534343</td></tr>\n",
       "\t<tr><th scope=row>2</th><td>A1BG-AS1</td><td>CXCL1</td><td>0.0001650894</td></tr>\n",
       "</tbody>\n",
       "</table>\n"
      ],
      "text/latex": [
       "A data.frame: 2 × 3\n",
       "\\begin{tabular}{r|lll}\n",
       "  & target & ligand & regulatory\\_potential\\\\\n",
       "  & <fct> & <fct> & <dbl>\\\\\n",
       "\\hline\n",
       "\t1 & A1BG     & CXCL1 & 0.0003534343\\\\\n",
       "\t2 & A1BG-AS1 & CXCL1 & 0.0001650894\\\\\n",
       "\\end{tabular}\n"
      ],
      "text/markdown": [
       "\n",
       "A data.frame: 2 × 3\n",
       "\n",
       "| <!--/--> | target &lt;fct&gt; | ligand &lt;fct&gt; | regulatory_potential &lt;dbl&gt; |\n",
       "|---|---|---|---|\n",
       "| 1 | A1BG     | CXCL1 | 0.0003534343 |\n",
       "| 2 | A1BG-AS1 | CXCL1 | 0.0001650894 |\n",
       "\n"
      ],
      "text/plain": [
       "  target   ligand regulatory_potential\n",
       "1 A1BG     CXCL1  0.0003534343        \n",
       "2 A1BG-AS1 CXCL1  0.0001650894        "
      ]
     },
     "metadata": {},
     "output_type": "display_data"
    }
   ],
   "source": [
    "head(ligand_target_matrix_long,2)"
   ]
  },
  {
   "cell_type": "code",
   "execution_count": 30,
   "id": "d70aa653-ea86-46b3-a009-c9ba5a2f9606",
   "metadata": {},
   "outputs": [],
   "source": [
    "ligands = unique(ligand_target_matrix_long$ligand)"
   ]
  },
  {
   "cell_type": "code",
   "execution_count": 31,
   "id": "e629046b-205e-49f5-a929-dad68446324e",
   "metadata": {},
   "outputs": [
    {
     "data": {
      "text/html": [
       "<style>\n",
       ".list-inline {list-style: none; margin:0; padding: 0}\n",
       ".list-inline>li {display: inline-block}\n",
       ".list-inline>li:not(:last-child)::after {content: \"\\00b7\"; padding: 0 .5ex}\n",
       "</style>\n",
       "<ol class=list-inline><li>CXCL1</li><li>CXCL2</li><li>CXCL3</li><li>CXCL5</li><li>PPBP</li><li>CXCL6</li></ol>\n",
       "\n",
       "<details>\n",
       "\t<summary style=display:list-item;cursor:pointer>\n",
       "\t\t<strong>Levels</strong>:\n",
       "\t</summary>\n",
       "\t<style>\n",
       "\t.list-inline {list-style: none; margin:0; padding: 0}\n",
       "\t.list-inline>li {display: inline-block}\n",
       "\t.list-inline>li:not(:last-child)::after {content: \"\\00b7\"; padding: 0 .5ex}\n",
       "\t</style>\n",
       "\t<ol class=list-inline><li>'CXCL1'</li><li>'CXCL2'</li><li>'CXCL3'</li><li>'CXCL5'</li><li>'PPBP'</li><li>'CXCL6'</li><li>'CXCL8'</li><li>'CXCL9'</li><li>'CXCL10'</li><li>'CXCL11'</li><li>'CXCL12'</li><li>'CXCL13'</li><li>'CXCL16'</li><li>'XCL1'</li><li>'XCL2'</li><li>'CX3CL1'</li><li>'CCL20'</li><li>'CCL25'</li><li>'CCL17'</li><li>'CCL22'</li><li>'CCL19'</li><li>'CCL21'</li><li>'CCL2'</li><li>'CCL4L1'</li><li>'CCL3L3'</li><li>'CCL13'</li><li>'CCL7'</li><li>'CCL5'</li><li>'CCL14'</li><li>'CCL16'</li><li>'CCL23'</li><li>'CCL15'</li><li>'CCL8'</li><li>'CCL11'</li><li>'CCL24'</li><li>'CCL26'</li><li>'CCL28'</li><li>'CCL27'</li><li>'IL6'</li><li>'IL11'</li><li>'OSM'</li><li>'LIF'</li><li>'CNTF'</li><li>'CLCF1'</li><li>'CTF1'</li><li>'CSF3'</li><li>'LEP'</li><li>'IL4'</li><li>'IL13'</li><li>'IL12A'</li><li>'IL23A'</li><li>'CSF2'</li><li>'IL3'</li><li>'IL5'</li><li>'IL2'</li><li>'IL7'</li><li>'IL9'</li><li>'IL15'</li><li>'IL21'</li><li>'TSLP'</li><li>'EPO'</li><li>'GH1'</li><li>'GH2'</li><li>'PRL'</li><li>'THPO'</li><li>'PDGFC'</li><li>'PDGFA'</li><li>'PDGFB'</li><li>'PLEKHO2'</li><li>'VEGFB'</li><li>'VEGFA'</li><li>'VEGFD'</li><li>'HGF'</li><li>'EGF'</li><li>'CSF1'</li><li>'KITLG'</li><li>'FLT3LG'</li><li>'IFNA1'</li><li>'IFNB1'</li><li>'IFNW1'</li><li>'IFNK'</li><li>'IFNE'</li><li>'IFNG'</li><li>'IL10'</li><li>'IL19'</li><li>'IL20'</li><li>'IL24'</li><li>'IL22'</li><li>'IFNL2'</li><li>'IFNL3'</li><li>'IFNL1'</li><li>'TNFSF10'</li><li>'TNFSF11'</li><li>'TNFSF12'</li><li>'TNF'</li><li>'LTA'</li><li>'LTB'</li><li>'TNFSF14'</li><li>'FASLG'</li><li>'CD40LG'</li><li>'CD70'</li><li>'TNFSF8'</li><li>'TNFSF9'</li><li>'TNFSF4'</li><li>'TNFSF18'</li><li>'TNFSF13'</li><li>'TNFSF13B'</li><li>'EDA'</li><li>'TGFB1'</li><li>'TGFB2'</li><li>'TGFB3'</li><li>'INHBA'</li><li>'INHBB'</li><li>'INHBC'</li><li>'INHBE'</li><li>'AMH'</li><li>'BMP2'</li><li>'BMP7'</li><li>'GDF5'</li><li>'IL1A'</li><li>'IL1B'</li><li>'IL18'</li><li>'CCL1'</li><li>'IL25'</li><li>'IL17A'</li><li>'IL17F'</li><li>'IL17C'</li><li>'IL17B'</li><li>'CD58'</li><li>'CD80'</li><li>'CD86'</li><li>'HLA-DMA'</li><li>'HLA-A'</li><li>'CD274'</li><li>'PDCD1LG2'</li><li>'ITGB2'</li><li>'ITGAL'</li><li>'ICAM1'</li><li>'CD28'</li><li>'ITGAM'</li><li>'ITGB1'</li><li>'ITGA4'</li><li>'ITGA9'</li><li>'SELPLG'</li><li>'PECAM1'</li><li>'PVR'</li><li>'NECTIN2'</li><li>'CDH2'</li><li>'NRXN3'</li><li>'CNTN1'</li><li>'NCAM1'</li><li>'L1CAM'</li><li>'NECTIN1'</li><li>'CDH1'</li><li>'CDH4'</li><li>'ALCAM'</li><li>'PTPRC'</li><li>'CD40'</li><li>'CLDN24'</li><li>'OCLN'</li><li>'F11R'</li><li>'JAM2'</li><li>'JAM3'</li><li>'ESAM'</li><li>'CDH5'</li><li>'CD99'</li><li>'SELP'</li><li>'ICAM2'</li><li>'ICAM3'</li><li>'VCAM1'</li><li>'MADCAM1'</li><li>'SELL'</li><li>'CD34'</li><li>'SELE'</li><li>'NECTIN3'</li><li>'CADM1'</li><li>'NEGR1'</li><li>'CADM3'</li><li>'PTPRM'</li><li>'CNTN2'</li><li>'NFASC'</li><li>'MPZ'</li><li>'MAG'</li><li>'CLDN11'</li><li>'CDH3'</li><li>'CDH15'</li><li>'LRRC4C'</li><li>'LRRC4'</li><li>'LRRC4B'</li><li>'CTSG'</li><li>'CGA'</li><li>'CSH1'</li><li>'COL1A1'</li><li>'LAMC3'</li><li>'CHAD'</li><li>'RELN'</li><li>'COMP'</li><li>'FN1'</li><li>'SPP1'</li><li>'VTN'</li><li>⋯</li><li>'PLG'</li><li>'PODXL2'</li><li>'PRND'</li><li>'PROC'</li><li>'PSEN1'</li><li>'PSPN'</li><li>'PTDSS1'</li><li>'PTGS2'</li><li>'PTH'</li><li>'PTN'</li><li>'REN'</li><li>'RGMA'</li><li>'RTN4'</li><li>'SEMA3A'</li><li>'SEMA3B'</li><li>'SEMA3C'</li><li>'SEMA3E'</li><li>'SEMA3F'</li><li>'SEMA4D'</li><li>'SEMA5A'</li><li>'SEMA6D'</li><li>'SEMA7A'</li><li>'SERPINA1'</li><li>'SERPINC1'</li><li>'SERPINE1'</li><li>'SERPINE2'</li><li>'SERPING1'</li><li>'SHH'</li><li>'SLIT1'</li><li>'SLIT2'</li><li>'SOST'</li><li>'TDGF1'</li><li>'TFPI'</li><li>'TF'</li><li>'THBS1'</li><li>'THBS2'</li><li>'TPH1'</li><li>'ULBP2'</li><li>'WNT11'</li><li>'WNT1'</li><li>'WNT3'</li><li>'WNT7A'</li><li>'WNT7B'</li><li>'ZP3'</li><li>'HLA-DRA'</li><li>'HLA-F'</li><li>'ICOSLG'</li><li>'NRXN1'</li><li>'SPN'</li><li>'ITGB7'</li><li>'CD2'</li><li>'CNTNAP1'</li><li>'GLG1'</li><li>'CD6'</li><li>'IL34'</li><li>'WNT2'</li><li>'HMGB1'</li><li>'GPNMB'</li><li>'FLRT3'</li><li>'KLK3'</li><li>'CRLF2'</li><li>'CRLF1'</li><li>'FAM3C'</li><li>'HDGF'</li><li>'VGF'</li><li>'AIMP1'</li><li>'HMGB2'</li><li>'INSL6'</li><li>'WISP2'</li><li>'GDF15'</li><li>'GMFB'</li><li>'FBRS'</li><li>'NENF'</li><li>'MANF'</li><li>'TIMP1'</li><li>'KL'</li><li>'WNT10B'</li><li>'WNT9B'</li><li>'WNT10A'</li><li>'WNT8B'</li><li>'WNT9A'</li><li>'MIF'</li><li>'LGALS3'</li><li>'WNT8A'</li><li>'GRN'</li><li>'IL33'</li><li>'APOA1'</li><li>'IL27'</li><li>'TTR'</li><li>'TG'</li><li>'TFF1'</li><li>'FBN1'</li><li>'PGLYRP1'</li><li>'GREM1'</li><li>'CXCL14'</li><li>'MSTN'</li><li>'CHGB'</li><li>'TNFRSF11B'</li><li>'BMP1'</li><li>'EBI3'</li><li>'SCGB3A1'</li><li>'HAMP'</li><li>'FLRT2'</li><li>'LEFTY1'</li><li>'WISP3'</li><li>'MAPT'</li><li>'GDF1'</li><li>'THBS4'</li><li>'SFRP2'</li><li>'FAM3D'</li><li>'SCG2'</li><li>'ANGPTL3'</li><li>'CMTM8'</li><li>'IL1F10'</li><li>'RABEP1'</li><li>'OSGIN1'</li><li>'SECTM1'</li><li>'EFEMP1'</li><li>'TXLNA'</li><li>'RABEP2'</li><li>'CMTM2'</li><li>'FGF20'</li><li>'FGF21'</li><li>'CD320'</li><li>'CMTM4'</li><li>'BMP8A'</li><li>'CMTM6'</li><li>'GDF3'</li><li>'IL36B'</li><li>'IL36G'</li><li>'IL36A'</li><li>'CARTPT'</li><li>'ROBO1'</li><li>'RET'</li><li>'PTPRF'</li><li>'DSC3'</li><li>'FAT3'</li><li>'DSG1'</li><li>'DSC1'</li><li>'PCDH7'</li><li>'DSG2'</li><li>'SDK1'</li><li>'ROBO2'</li><li>'PCDH1'</li><li>'CEACAM1'</li><li>'PKD1'</li><li>'TRO'</li><li>'PLXNB2'</li><li>'PTPRT'</li><li>'PIK3CB'</li><li>'CLSTN1'</li><li>'FAT1'</li><li>'CD200'</li><li>'DSCAM'</li><li>'SDK2'</li><li>'FAT4'</li><li>'DSG4'</li><li>'CELSR1'</li><li>'CDHR1'</li><li>'PCDH9'</li><li>'DSC2'</li><li>'PCDH10'</li><li>'PLXNB3'</li><li>'CD226'</li><li>'CDH13'</li><li>'CDH11'</li><li>'FAT2'</li><li>'PCDHGC3'</li><li>'PCDHB3'</li><li>'PCDH15'</li><li>'PCDHB8'</li><li>'NPTN'</li><li>'CADM2'</li><li>'CADM4'</li><li>'AMIGO1'</li><li>'PCDH20'</li><li>'DCHS1'</li><li>'CELSR2'</li><li>'CELSR3'</li><li>'PCDHGA11'</li><li>'TENM3'</li><li>'PCDHB15'</li><li>'CDH23'</li><li>'PCDHGA7'</li><li>'PCDHA13'</li><li>'CDHR5'</li><li>'TIGIT'</li><li>'AMIGO2'</li><li>'CRTAM'</li><li>'CDHR2'</li><li>'PCDHGB1'</li><li>'CDH6'</li><li>'CDH9'</li><li>'CDH12'</li><li>'CDH18'</li><li>'PCDHB16'</li><li>'PCDHA7'</li><li>'PCDHA6'</li><li>'PCDHA4'</li><li>'PCDHA12'</li></ol>\n",
       "</details>"
      ],
      "text/latex": [
       "\\begin{enumerate*}\n",
       "\\item CXCL1\n",
       "\\item CXCL2\n",
       "\\item CXCL3\n",
       "\\item CXCL5\n",
       "\\item PPBP\n",
       "\\item CXCL6\n",
       "\\end{enumerate*}\n",
       "\n",
       "\\emph{Levels}: \\begin{enumerate*}\n",
       "\\item 'CXCL1'\n",
       "\\item 'CXCL2'\n",
       "\\item 'CXCL3'\n",
       "\\item 'CXCL5'\n",
       "\\item 'PPBP'\n",
       "\\item 'CXCL6'\n",
       "\\item 'CXCL8'\n",
       "\\item 'CXCL9'\n",
       "\\item 'CXCL10'\n",
       "\\item 'CXCL11'\n",
       "\\item 'CXCL12'\n",
       "\\item 'CXCL13'\n",
       "\\item 'CXCL16'\n",
       "\\item 'XCL1'\n",
       "\\item 'XCL2'\n",
       "\\item 'CX3CL1'\n",
       "\\item 'CCL20'\n",
       "\\item 'CCL25'\n",
       "\\item 'CCL17'\n",
       "\\item 'CCL22'\n",
       "\\item 'CCL19'\n",
       "\\item 'CCL21'\n",
       "\\item 'CCL2'\n",
       "\\item 'CCL4L1'\n",
       "\\item 'CCL3L3'\n",
       "\\item 'CCL13'\n",
       "\\item 'CCL7'\n",
       "\\item 'CCL5'\n",
       "\\item 'CCL14'\n",
       "\\item 'CCL16'\n",
       "\\item 'CCL23'\n",
       "\\item 'CCL15'\n",
       "\\item 'CCL8'\n",
       "\\item 'CCL11'\n",
       "\\item 'CCL24'\n",
       "\\item 'CCL26'\n",
       "\\item 'CCL28'\n",
       "\\item 'CCL27'\n",
       "\\item 'IL6'\n",
       "\\item 'IL11'\n",
       "\\item 'OSM'\n",
       "\\item 'LIF'\n",
       "\\item 'CNTF'\n",
       "\\item 'CLCF1'\n",
       "\\item 'CTF1'\n",
       "\\item 'CSF3'\n",
       "\\item 'LEP'\n",
       "\\item 'IL4'\n",
       "\\item 'IL13'\n",
       "\\item 'IL12A'\n",
       "\\item 'IL23A'\n",
       "\\item 'CSF2'\n",
       "\\item 'IL3'\n",
       "\\item 'IL5'\n",
       "\\item 'IL2'\n",
       "\\item 'IL7'\n",
       "\\item 'IL9'\n",
       "\\item 'IL15'\n",
       "\\item 'IL21'\n",
       "\\item 'TSLP'\n",
       "\\item 'EPO'\n",
       "\\item 'GH1'\n",
       "\\item 'GH2'\n",
       "\\item 'PRL'\n",
       "\\item 'THPO'\n",
       "\\item 'PDGFC'\n",
       "\\item 'PDGFA'\n",
       "\\item 'PDGFB'\n",
       "\\item 'PLEKHO2'\n",
       "\\item 'VEGFB'\n",
       "\\item 'VEGFA'\n",
       "\\item 'VEGFD'\n",
       "\\item 'HGF'\n",
       "\\item 'EGF'\n",
       "\\item 'CSF1'\n",
       "\\item 'KITLG'\n",
       "\\item 'FLT3LG'\n",
       "\\item 'IFNA1'\n",
       "\\item 'IFNB1'\n",
       "\\item 'IFNW1'\n",
       "\\item 'IFNK'\n",
       "\\item 'IFNE'\n",
       "\\item 'IFNG'\n",
       "\\item 'IL10'\n",
       "\\item 'IL19'\n",
       "\\item 'IL20'\n",
       "\\item 'IL24'\n",
       "\\item 'IL22'\n",
       "\\item 'IFNL2'\n",
       "\\item 'IFNL3'\n",
       "\\item 'IFNL1'\n",
       "\\item 'TNFSF10'\n",
       "\\item 'TNFSF11'\n",
       "\\item 'TNFSF12'\n",
       "\\item 'TNF'\n",
       "\\item 'LTA'\n",
       "\\item 'LTB'\n",
       "\\item 'TNFSF14'\n",
       "\\item 'FASLG'\n",
       "\\item 'CD40LG'\n",
       "\\item 'CD70'\n",
       "\\item 'TNFSF8'\n",
       "\\item 'TNFSF9'\n",
       "\\item 'TNFSF4'\n",
       "\\item 'TNFSF18'\n",
       "\\item 'TNFSF13'\n",
       "\\item 'TNFSF13B'\n",
       "\\item 'EDA'\n",
       "\\item 'TGFB1'\n",
       "\\item 'TGFB2'\n",
       "\\item 'TGFB3'\n",
       "\\item 'INHBA'\n",
       "\\item 'INHBB'\n",
       "\\item 'INHBC'\n",
       "\\item 'INHBE'\n",
       "\\item 'AMH'\n",
       "\\item 'BMP2'\n",
       "\\item 'BMP7'\n",
       "\\item 'GDF5'\n",
       "\\item 'IL1A'\n",
       "\\item 'IL1B'\n",
       "\\item 'IL18'\n",
       "\\item 'CCL1'\n",
       "\\item 'IL25'\n",
       "\\item 'IL17A'\n",
       "\\item 'IL17F'\n",
       "\\item 'IL17C'\n",
       "\\item 'IL17B'\n",
       "\\item 'CD58'\n",
       "\\item 'CD80'\n",
       "\\item 'CD86'\n",
       "\\item 'HLA-DMA'\n",
       "\\item 'HLA-A'\n",
       "\\item 'CD274'\n",
       "\\item 'PDCD1LG2'\n",
       "\\item 'ITGB2'\n",
       "\\item 'ITGAL'\n",
       "\\item 'ICAM1'\n",
       "\\item 'CD28'\n",
       "\\item 'ITGAM'\n",
       "\\item 'ITGB1'\n",
       "\\item 'ITGA4'\n",
       "\\item 'ITGA9'\n",
       "\\item 'SELPLG'\n",
       "\\item 'PECAM1'\n",
       "\\item 'PVR'\n",
       "\\item 'NECTIN2'\n",
       "\\item 'CDH2'\n",
       "\\item 'NRXN3'\n",
       "\\item 'CNTN1'\n",
       "\\item 'NCAM1'\n",
       "\\item 'L1CAM'\n",
       "\\item 'NECTIN1'\n",
       "\\item 'CDH1'\n",
       "\\item 'CDH4'\n",
       "\\item 'ALCAM'\n",
       "\\item 'PTPRC'\n",
       "\\item 'CD40'\n",
       "\\item 'CLDN24'\n",
       "\\item 'OCLN'\n",
       "\\item 'F11R'\n",
       "\\item 'JAM2'\n",
       "\\item 'JAM3'\n",
       "\\item 'ESAM'\n",
       "\\item 'CDH5'\n",
       "\\item 'CD99'\n",
       "\\item 'SELP'\n",
       "\\item 'ICAM2'\n",
       "\\item 'ICAM3'\n",
       "\\item 'VCAM1'\n",
       "\\item 'MADCAM1'\n",
       "\\item 'SELL'\n",
       "\\item 'CD34'\n",
       "\\item 'SELE'\n",
       "\\item 'NECTIN3'\n",
       "\\item 'CADM1'\n",
       "\\item 'NEGR1'\n",
       "\\item 'CADM3'\n",
       "\\item 'PTPRM'\n",
       "\\item 'CNTN2'\n",
       "\\item 'NFASC'\n",
       "\\item 'MPZ'\n",
       "\\item 'MAG'\n",
       "\\item 'CLDN11'\n",
       "\\item 'CDH3'\n",
       "\\item 'CDH15'\n",
       "\\item 'LRRC4C'\n",
       "\\item 'LRRC4'\n",
       "\\item 'LRRC4B'\n",
       "\\item 'CTSG'\n",
       "\\item 'CGA'\n",
       "\\item 'CSH1'\n",
       "\\item 'COL1A1'\n",
       "\\item 'LAMC3'\n",
       "\\item 'CHAD'\n",
       "\\item 'RELN'\n",
       "\\item 'COMP'\n",
       "\\item 'FN1'\n",
       "\\item 'SPP1'\n",
       "\\item 'VTN'\n",
       "\\item ⋯\n",
       "\\item 'PLG'\n",
       "\\item 'PODXL2'\n",
       "\\item 'PRND'\n",
       "\\item 'PROC'\n",
       "\\item 'PSEN1'\n",
       "\\item 'PSPN'\n",
       "\\item 'PTDSS1'\n",
       "\\item 'PTGS2'\n",
       "\\item 'PTH'\n",
       "\\item 'PTN'\n",
       "\\item 'REN'\n",
       "\\item 'RGMA'\n",
       "\\item 'RTN4'\n",
       "\\item 'SEMA3A'\n",
       "\\item 'SEMA3B'\n",
       "\\item 'SEMA3C'\n",
       "\\item 'SEMA3E'\n",
       "\\item 'SEMA3F'\n",
       "\\item 'SEMA4D'\n",
       "\\item 'SEMA5A'\n",
       "\\item 'SEMA6D'\n",
       "\\item 'SEMA7A'\n",
       "\\item 'SERPINA1'\n",
       "\\item 'SERPINC1'\n",
       "\\item 'SERPINE1'\n",
       "\\item 'SERPINE2'\n",
       "\\item 'SERPING1'\n",
       "\\item 'SHH'\n",
       "\\item 'SLIT1'\n",
       "\\item 'SLIT2'\n",
       "\\item 'SOST'\n",
       "\\item 'TDGF1'\n",
       "\\item 'TFPI'\n",
       "\\item 'TF'\n",
       "\\item 'THBS1'\n",
       "\\item 'THBS2'\n",
       "\\item 'TPH1'\n",
       "\\item 'ULBP2'\n",
       "\\item 'WNT11'\n",
       "\\item 'WNT1'\n",
       "\\item 'WNT3'\n",
       "\\item 'WNT7A'\n",
       "\\item 'WNT7B'\n",
       "\\item 'ZP3'\n",
       "\\item 'HLA-DRA'\n",
       "\\item 'HLA-F'\n",
       "\\item 'ICOSLG'\n",
       "\\item 'NRXN1'\n",
       "\\item 'SPN'\n",
       "\\item 'ITGB7'\n",
       "\\item 'CD2'\n",
       "\\item 'CNTNAP1'\n",
       "\\item 'GLG1'\n",
       "\\item 'CD6'\n",
       "\\item 'IL34'\n",
       "\\item 'WNT2'\n",
       "\\item 'HMGB1'\n",
       "\\item 'GPNMB'\n",
       "\\item 'FLRT3'\n",
       "\\item 'KLK3'\n",
       "\\item 'CRLF2'\n",
       "\\item 'CRLF1'\n",
       "\\item 'FAM3C'\n",
       "\\item 'HDGF'\n",
       "\\item 'VGF'\n",
       "\\item 'AIMP1'\n",
       "\\item 'HMGB2'\n",
       "\\item 'INSL6'\n",
       "\\item 'WISP2'\n",
       "\\item 'GDF15'\n",
       "\\item 'GMFB'\n",
       "\\item 'FBRS'\n",
       "\\item 'NENF'\n",
       "\\item 'MANF'\n",
       "\\item 'TIMP1'\n",
       "\\item 'KL'\n",
       "\\item 'WNT10B'\n",
       "\\item 'WNT9B'\n",
       "\\item 'WNT10A'\n",
       "\\item 'WNT8B'\n",
       "\\item 'WNT9A'\n",
       "\\item 'MIF'\n",
       "\\item 'LGALS3'\n",
       "\\item 'WNT8A'\n",
       "\\item 'GRN'\n",
       "\\item 'IL33'\n",
       "\\item 'APOA1'\n",
       "\\item 'IL27'\n",
       "\\item 'TTR'\n",
       "\\item 'TG'\n",
       "\\item 'TFF1'\n",
       "\\item 'FBN1'\n",
       "\\item 'PGLYRP1'\n",
       "\\item 'GREM1'\n",
       "\\item 'CXCL14'\n",
       "\\item 'MSTN'\n",
       "\\item 'CHGB'\n",
       "\\item 'TNFRSF11B'\n",
       "\\item 'BMP1'\n",
       "\\item 'EBI3'\n",
       "\\item 'SCGB3A1'\n",
       "\\item 'HAMP'\n",
       "\\item 'FLRT2'\n",
       "\\item 'LEFTY1'\n",
       "\\item 'WISP3'\n",
       "\\item 'MAPT'\n",
       "\\item 'GDF1'\n",
       "\\item 'THBS4'\n",
       "\\item 'SFRP2'\n",
       "\\item 'FAM3D'\n",
       "\\item 'SCG2'\n",
       "\\item 'ANGPTL3'\n",
       "\\item 'CMTM8'\n",
       "\\item 'IL1F10'\n",
       "\\item 'RABEP1'\n",
       "\\item 'OSGIN1'\n",
       "\\item 'SECTM1'\n",
       "\\item 'EFEMP1'\n",
       "\\item 'TXLNA'\n",
       "\\item 'RABEP2'\n",
       "\\item 'CMTM2'\n",
       "\\item 'FGF20'\n",
       "\\item 'FGF21'\n",
       "\\item 'CD320'\n",
       "\\item 'CMTM4'\n",
       "\\item 'BMP8A'\n",
       "\\item 'CMTM6'\n",
       "\\item 'GDF3'\n",
       "\\item 'IL36B'\n",
       "\\item 'IL36G'\n",
       "\\item 'IL36A'\n",
       "\\item 'CARTPT'\n",
       "\\item 'ROBO1'\n",
       "\\item 'RET'\n",
       "\\item 'PTPRF'\n",
       "\\item 'DSC3'\n",
       "\\item 'FAT3'\n",
       "\\item 'DSG1'\n",
       "\\item 'DSC1'\n",
       "\\item 'PCDH7'\n",
       "\\item 'DSG2'\n",
       "\\item 'SDK1'\n",
       "\\item 'ROBO2'\n",
       "\\item 'PCDH1'\n",
       "\\item 'CEACAM1'\n",
       "\\item 'PKD1'\n",
       "\\item 'TRO'\n",
       "\\item 'PLXNB2'\n",
       "\\item 'PTPRT'\n",
       "\\item 'PIK3CB'\n",
       "\\item 'CLSTN1'\n",
       "\\item 'FAT1'\n",
       "\\item 'CD200'\n",
       "\\item 'DSCAM'\n",
       "\\item 'SDK2'\n",
       "\\item 'FAT4'\n",
       "\\item 'DSG4'\n",
       "\\item 'CELSR1'\n",
       "\\item 'CDHR1'\n",
       "\\item 'PCDH9'\n",
       "\\item 'DSC2'\n",
       "\\item 'PCDH10'\n",
       "\\item 'PLXNB3'\n",
       "\\item 'CD226'\n",
       "\\item 'CDH13'\n",
       "\\item 'CDH11'\n",
       "\\item 'FAT2'\n",
       "\\item 'PCDHGC3'\n",
       "\\item 'PCDHB3'\n",
       "\\item 'PCDH15'\n",
       "\\item 'PCDHB8'\n",
       "\\item 'NPTN'\n",
       "\\item 'CADM2'\n",
       "\\item 'CADM4'\n",
       "\\item 'AMIGO1'\n",
       "\\item 'PCDH20'\n",
       "\\item 'DCHS1'\n",
       "\\item 'CELSR2'\n",
       "\\item 'CELSR3'\n",
       "\\item 'PCDHGA11'\n",
       "\\item 'TENM3'\n",
       "\\item 'PCDHB15'\n",
       "\\item 'CDH23'\n",
       "\\item 'PCDHGA7'\n",
       "\\item 'PCDHA13'\n",
       "\\item 'CDHR5'\n",
       "\\item 'TIGIT'\n",
       "\\item 'AMIGO2'\n",
       "\\item 'CRTAM'\n",
       "\\item 'CDHR2'\n",
       "\\item 'PCDHGB1'\n",
       "\\item 'CDH6'\n",
       "\\item 'CDH9'\n",
       "\\item 'CDH12'\n",
       "\\item 'CDH18'\n",
       "\\item 'PCDHB16'\n",
       "\\item 'PCDHA7'\n",
       "\\item 'PCDHA6'\n",
       "\\item 'PCDHA4'\n",
       "\\item 'PCDHA12'\n",
       "\\end{enumerate*}\n"
      ],
      "text/markdown": [
       "1. CXCL1\n",
       "2. CXCL2\n",
       "3. CXCL3\n",
       "4. CXCL5\n",
       "5. PPBP\n",
       "6. CXCL6\n",
       "\n",
       "\n",
       "\n",
       "**Levels**: 1. 'CXCL1'\n",
       "2. 'CXCL2'\n",
       "3. 'CXCL3'\n",
       "4. 'CXCL5'\n",
       "5. 'PPBP'\n",
       "6. 'CXCL6'\n",
       "7. 'CXCL8'\n",
       "8. 'CXCL9'\n",
       "9. 'CXCL10'\n",
       "10. 'CXCL11'\n",
       "11. 'CXCL12'\n",
       "12. 'CXCL13'\n",
       "13. 'CXCL16'\n",
       "14. 'XCL1'\n",
       "15. 'XCL2'\n",
       "16. 'CX3CL1'\n",
       "17. 'CCL20'\n",
       "18. 'CCL25'\n",
       "19. 'CCL17'\n",
       "20. 'CCL22'\n",
       "21. 'CCL19'\n",
       "22. 'CCL21'\n",
       "23. 'CCL2'\n",
       "24. 'CCL4L1'\n",
       "25. 'CCL3L3'\n",
       "26. 'CCL13'\n",
       "27. 'CCL7'\n",
       "28. 'CCL5'\n",
       "29. 'CCL14'\n",
       "30. 'CCL16'\n",
       "31. 'CCL23'\n",
       "32. 'CCL15'\n",
       "33. 'CCL8'\n",
       "34. 'CCL11'\n",
       "35. 'CCL24'\n",
       "36. 'CCL26'\n",
       "37. 'CCL28'\n",
       "38. 'CCL27'\n",
       "39. 'IL6'\n",
       "40. 'IL11'\n",
       "41. 'OSM'\n",
       "42. 'LIF'\n",
       "43. 'CNTF'\n",
       "44. 'CLCF1'\n",
       "45. 'CTF1'\n",
       "46. 'CSF3'\n",
       "47. 'LEP'\n",
       "48. 'IL4'\n",
       "49. 'IL13'\n",
       "50. 'IL12A'\n",
       "51. 'IL23A'\n",
       "52. 'CSF2'\n",
       "53. 'IL3'\n",
       "54. 'IL5'\n",
       "55. 'IL2'\n",
       "56. 'IL7'\n",
       "57. 'IL9'\n",
       "58. 'IL15'\n",
       "59. 'IL21'\n",
       "60. 'TSLP'\n",
       "61. 'EPO'\n",
       "62. 'GH1'\n",
       "63. 'GH2'\n",
       "64. 'PRL'\n",
       "65. 'THPO'\n",
       "66. 'PDGFC'\n",
       "67. 'PDGFA'\n",
       "68. 'PDGFB'\n",
       "69. 'PLEKHO2'\n",
       "70. 'VEGFB'\n",
       "71. 'VEGFA'\n",
       "72. 'VEGFD'\n",
       "73. 'HGF'\n",
       "74. 'EGF'\n",
       "75. 'CSF1'\n",
       "76. 'KITLG'\n",
       "77. 'FLT3LG'\n",
       "78. 'IFNA1'\n",
       "79. 'IFNB1'\n",
       "80. 'IFNW1'\n",
       "81. 'IFNK'\n",
       "82. 'IFNE'\n",
       "83. 'IFNG'\n",
       "84. 'IL10'\n",
       "85. 'IL19'\n",
       "86. 'IL20'\n",
       "87. 'IL24'\n",
       "88. 'IL22'\n",
       "89. 'IFNL2'\n",
       "90. 'IFNL3'\n",
       "91. 'IFNL1'\n",
       "92. 'TNFSF10'\n",
       "93. 'TNFSF11'\n",
       "94. 'TNFSF12'\n",
       "95. 'TNF'\n",
       "96. 'LTA'\n",
       "97. 'LTB'\n",
       "98. 'TNFSF14'\n",
       "99. 'FASLG'\n",
       "100. 'CD40LG'\n",
       "101. 'CD70'\n",
       "102. 'TNFSF8'\n",
       "103. 'TNFSF9'\n",
       "104. 'TNFSF4'\n",
       "105. 'TNFSF18'\n",
       "106. 'TNFSF13'\n",
       "107. 'TNFSF13B'\n",
       "108. 'EDA'\n",
       "109. 'TGFB1'\n",
       "110. 'TGFB2'\n",
       "111. 'TGFB3'\n",
       "112. 'INHBA'\n",
       "113. 'INHBB'\n",
       "114. 'INHBC'\n",
       "115. 'INHBE'\n",
       "116. 'AMH'\n",
       "117. 'BMP2'\n",
       "118. 'BMP7'\n",
       "119. 'GDF5'\n",
       "120. 'IL1A'\n",
       "121. 'IL1B'\n",
       "122. 'IL18'\n",
       "123. 'CCL1'\n",
       "124. 'IL25'\n",
       "125. 'IL17A'\n",
       "126. 'IL17F'\n",
       "127. 'IL17C'\n",
       "128. 'IL17B'\n",
       "129. 'CD58'\n",
       "130. 'CD80'\n",
       "131. 'CD86'\n",
       "132. 'HLA-DMA'\n",
       "133. 'HLA-A'\n",
       "134. 'CD274'\n",
       "135. 'PDCD1LG2'\n",
       "136. 'ITGB2'\n",
       "137. 'ITGAL'\n",
       "138. 'ICAM1'\n",
       "139. 'CD28'\n",
       "140. 'ITGAM'\n",
       "141. 'ITGB1'\n",
       "142. 'ITGA4'\n",
       "143. 'ITGA9'\n",
       "144. 'SELPLG'\n",
       "145. 'PECAM1'\n",
       "146. 'PVR'\n",
       "147. 'NECTIN2'\n",
       "148. 'CDH2'\n",
       "149. 'NRXN3'\n",
       "150. 'CNTN1'\n",
       "151. 'NCAM1'\n",
       "152. 'L1CAM'\n",
       "153. 'NECTIN1'\n",
       "154. 'CDH1'\n",
       "155. 'CDH4'\n",
       "156. 'ALCAM'\n",
       "157. 'PTPRC'\n",
       "158. 'CD40'\n",
       "159. 'CLDN24'\n",
       "160. 'OCLN'\n",
       "161. 'F11R'\n",
       "162. 'JAM2'\n",
       "163. 'JAM3'\n",
       "164. 'ESAM'\n",
       "165. 'CDH5'\n",
       "166. 'CD99'\n",
       "167. 'SELP'\n",
       "168. 'ICAM2'\n",
       "169. 'ICAM3'\n",
       "170. 'VCAM1'\n",
       "171. 'MADCAM1'\n",
       "172. 'SELL'\n",
       "173. 'CD34'\n",
       "174. 'SELE'\n",
       "175. 'NECTIN3'\n",
       "176. 'CADM1'\n",
       "177. 'NEGR1'\n",
       "178. 'CADM3'\n",
       "179. 'PTPRM'\n",
       "180. 'CNTN2'\n",
       "181. 'NFASC'\n",
       "182. 'MPZ'\n",
       "183. 'MAG'\n",
       "184. 'CLDN11'\n",
       "185. 'CDH3'\n",
       "186. 'CDH15'\n",
       "187. 'LRRC4C'\n",
       "188. 'LRRC4'\n",
       "189. 'LRRC4B'\n",
       "190. 'CTSG'\n",
       "191. 'CGA'\n",
       "192. 'CSH1'\n",
       "193. 'COL1A1'\n",
       "194. 'LAMC3'\n",
       "195. 'CHAD'\n",
       "196. 'RELN'\n",
       "197. 'COMP'\n",
       "198. 'FN1'\n",
       "199. 'SPP1'\n",
       "200. 'VTN'\n",
       "201. ⋯\n",
       "202. 'PLG'\n",
       "203. 'PODXL2'\n",
       "204. 'PRND'\n",
       "205. 'PROC'\n",
       "206. 'PSEN1'\n",
       "207. 'PSPN'\n",
       "208. 'PTDSS1'\n",
       "209. 'PTGS2'\n",
       "210. 'PTH'\n",
       "211. 'PTN'\n",
       "212. 'REN'\n",
       "213. 'RGMA'\n",
       "214. 'RTN4'\n",
       "215. 'SEMA3A'\n",
       "216. 'SEMA3B'\n",
       "217. 'SEMA3C'\n",
       "218. 'SEMA3E'\n",
       "219. 'SEMA3F'\n",
       "220. 'SEMA4D'\n",
       "221. 'SEMA5A'\n",
       "222. 'SEMA6D'\n",
       "223. 'SEMA7A'\n",
       "224. 'SERPINA1'\n",
       "225. 'SERPINC1'\n",
       "226. 'SERPINE1'\n",
       "227. 'SERPINE2'\n",
       "228. 'SERPING1'\n",
       "229. 'SHH'\n",
       "230. 'SLIT1'\n",
       "231. 'SLIT2'\n",
       "232. 'SOST'\n",
       "233. 'TDGF1'\n",
       "234. 'TFPI'\n",
       "235. 'TF'\n",
       "236. 'THBS1'\n",
       "237. 'THBS2'\n",
       "238. 'TPH1'\n",
       "239. 'ULBP2'\n",
       "240. 'WNT11'\n",
       "241. 'WNT1'\n",
       "242. 'WNT3'\n",
       "243. 'WNT7A'\n",
       "244. 'WNT7B'\n",
       "245. 'ZP3'\n",
       "246. 'HLA-DRA'\n",
       "247. 'HLA-F'\n",
       "248. 'ICOSLG'\n",
       "249. 'NRXN1'\n",
       "250. 'SPN'\n",
       "251. 'ITGB7'\n",
       "252. 'CD2'\n",
       "253. 'CNTNAP1'\n",
       "254. 'GLG1'\n",
       "255. 'CD6'\n",
       "256. 'IL34'\n",
       "257. 'WNT2'\n",
       "258. 'HMGB1'\n",
       "259. 'GPNMB'\n",
       "260. 'FLRT3'\n",
       "261. 'KLK3'\n",
       "262. 'CRLF2'\n",
       "263. 'CRLF1'\n",
       "264. 'FAM3C'\n",
       "265. 'HDGF'\n",
       "266. 'VGF'\n",
       "267. 'AIMP1'\n",
       "268. 'HMGB2'\n",
       "269. 'INSL6'\n",
       "270. 'WISP2'\n",
       "271. 'GDF15'\n",
       "272. 'GMFB'\n",
       "273. 'FBRS'\n",
       "274. 'NENF'\n",
       "275. 'MANF'\n",
       "276. 'TIMP1'\n",
       "277. 'KL'\n",
       "278. 'WNT10B'\n",
       "279. 'WNT9B'\n",
       "280. 'WNT10A'\n",
       "281. 'WNT8B'\n",
       "282. 'WNT9A'\n",
       "283. 'MIF'\n",
       "284. 'LGALS3'\n",
       "285. 'WNT8A'\n",
       "286. 'GRN'\n",
       "287. 'IL33'\n",
       "288. 'APOA1'\n",
       "289. 'IL27'\n",
       "290. 'TTR'\n",
       "291. 'TG'\n",
       "292. 'TFF1'\n",
       "293. 'FBN1'\n",
       "294. 'PGLYRP1'\n",
       "295. 'GREM1'\n",
       "296. 'CXCL14'\n",
       "297. 'MSTN'\n",
       "298. 'CHGB'\n",
       "299. 'TNFRSF11B'\n",
       "300. 'BMP1'\n",
       "301. 'EBI3'\n",
       "302. 'SCGB3A1'\n",
       "303. 'HAMP'\n",
       "304. 'FLRT2'\n",
       "305. 'LEFTY1'\n",
       "306. 'WISP3'\n",
       "307. 'MAPT'\n",
       "308. 'GDF1'\n",
       "309. 'THBS4'\n",
       "310. 'SFRP2'\n",
       "311. 'FAM3D'\n",
       "312. 'SCG2'\n",
       "313. 'ANGPTL3'\n",
       "314. 'CMTM8'\n",
       "315. 'IL1F10'\n",
       "316. 'RABEP1'\n",
       "317. 'OSGIN1'\n",
       "318. 'SECTM1'\n",
       "319. 'EFEMP1'\n",
       "320. 'TXLNA'\n",
       "321. 'RABEP2'\n",
       "322. 'CMTM2'\n",
       "323. 'FGF20'\n",
       "324. 'FGF21'\n",
       "325. 'CD320'\n",
       "326. 'CMTM4'\n",
       "327. 'BMP8A'\n",
       "328. 'CMTM6'\n",
       "329. 'GDF3'\n",
       "330. 'IL36B'\n",
       "331. 'IL36G'\n",
       "332. 'IL36A'\n",
       "333. 'CARTPT'\n",
       "334. 'ROBO1'\n",
       "335. 'RET'\n",
       "336. 'PTPRF'\n",
       "337. 'DSC3'\n",
       "338. 'FAT3'\n",
       "339. 'DSG1'\n",
       "340. 'DSC1'\n",
       "341. 'PCDH7'\n",
       "342. 'DSG2'\n",
       "343. 'SDK1'\n",
       "344. 'ROBO2'\n",
       "345. 'PCDH1'\n",
       "346. 'CEACAM1'\n",
       "347. 'PKD1'\n",
       "348. 'TRO'\n",
       "349. 'PLXNB2'\n",
       "350. 'PTPRT'\n",
       "351. 'PIK3CB'\n",
       "352. 'CLSTN1'\n",
       "353. 'FAT1'\n",
       "354. 'CD200'\n",
       "355. 'DSCAM'\n",
       "356. 'SDK2'\n",
       "357. 'FAT4'\n",
       "358. 'DSG4'\n",
       "359. 'CELSR1'\n",
       "360. 'CDHR1'\n",
       "361. 'PCDH9'\n",
       "362. 'DSC2'\n",
       "363. 'PCDH10'\n",
       "364. 'PLXNB3'\n",
       "365. 'CD226'\n",
       "366. 'CDH13'\n",
       "367. 'CDH11'\n",
       "368. 'FAT2'\n",
       "369. 'PCDHGC3'\n",
       "370. 'PCDHB3'\n",
       "371. 'PCDH15'\n",
       "372. 'PCDHB8'\n",
       "373. 'NPTN'\n",
       "374. 'CADM2'\n",
       "375. 'CADM4'\n",
       "376. 'AMIGO1'\n",
       "377. 'PCDH20'\n",
       "378. 'DCHS1'\n",
       "379. 'CELSR2'\n",
       "380. 'CELSR3'\n",
       "381. 'PCDHGA11'\n",
       "382. 'TENM3'\n",
       "383. 'PCDHB15'\n",
       "384. 'CDH23'\n",
       "385. 'PCDHGA7'\n",
       "386. 'PCDHA13'\n",
       "387. 'CDHR5'\n",
       "388. 'TIGIT'\n",
       "389. 'AMIGO2'\n",
       "390. 'CRTAM'\n",
       "391. 'CDHR2'\n",
       "392. 'PCDHGB1'\n",
       "393. 'CDH6'\n",
       "394. 'CDH9'\n",
       "395. 'CDH12'\n",
       "396. 'CDH18'\n",
       "397. 'PCDHB16'\n",
       "398. 'PCDHA7'\n",
       "399. 'PCDHA6'\n",
       "400. 'PCDHA4'\n",
       "401. 'PCDHA12'\n",
       "\n",
       "\n"
      ],
      "text/plain": [
       "[1] CXCL1 CXCL2 CXCL3 CXCL5 PPBP  CXCL6\n",
       "688 Levels: CXCL1 CXCL2 CXCL3 CXCL5 PPBP CXCL6 CXCL8 CXCL9 CXCL10 ... PCDHA12"
      ]
     },
     "metadata": {},
     "output_type": "display_data"
    }
   ],
   "source": [
    "head(ligands)"
   ]
  },
  {
   "cell_type": "markdown",
   "id": "e4a73e5e-bf99-4bc1-88d5-38036c8d61ce",
   "metadata": {
    "tags": []
   },
   "source": [
    "# Train MOFA Model"
   ]
  },
  {
   "cell_type": "code",
   "execution_count": 32,
   "id": "cbc8c38b-c6b9-4b21-98ec-81521fdf4425",
   "metadata": {},
   "outputs": [
    {
     "data": {
      "text/html": [
       "9145"
      ],
      "text/latex": [
       "9145"
      ],
      "text/markdown": [
       "9145"
      ],
      "text/plain": [
       "[1] 9145"
      ]
     },
     "metadata": {},
     "output_type": "display_data"
    }
   ],
   "source": [
    "length(unique(data_long$variable))"
   ]
  },
  {
   "cell_type": "markdown",
   "id": "6a5a1bca-fd9e-4d54-9821-00f89c9289ca",
   "metadata": {
    "tags": []
   },
   "source": [
    "## Prepare data list"
   ]
  },
  {
   "cell_type": "code",
   "execution_count": 34,
   "id": "090791d5-0c56-4435-af6a-393554574a23",
   "metadata": {},
   "outputs": [
    {
     "data": {
      "text/html": [
       "128"
      ],
      "text/latex": [
       "128"
      ],
      "text/markdown": [
       "128"
      ],
      "text/plain": [
       "[1] 128"
      ]
     },
     "metadata": {},
     "output_type": "display_data"
    }
   ],
   "source": [
    "length(unique(data_long$sample_id))"
   ]
  },
  {
   "cell_type": "code",
   "execution_count": 35,
   "id": "ece6eaf9-401c-4e20-afb1-8e13b88b458f",
   "metadata": {},
   "outputs": [],
   "source": [
    "final_data_long_backup = data_long"
   ]
  },
  {
   "cell_type": "code",
   "execution_count": 36,
   "id": "f201fcc3-9761-46d4-8e86-fdca0339db47",
   "metadata": {},
   "outputs": [],
   "source": [
    "final_data_long = final_data_long_backup"
   ]
  },
  {
   "cell_type": "code",
   "execution_count": 37,
   "id": "c35eb376-df3f-4e9f-83fc-9c4c51d55deb",
   "metadata": {},
   "outputs": [],
   "source": [
    "final_data_long$cell_type = NULL"
   ]
  },
  {
   "cell_type": "code",
   "execution_count": 38,
   "id": "ad5b8c08-e7f6-43b1-b910-1a6dbf2ce61e",
   "metadata": {},
   "outputs": [],
   "source": [
    "final_data_long$variable_transformed = NULL"
   ]
  },
  {
   "cell_type": "code",
   "execution_count": 39,
   "id": "22fd1be1-b671-4e59-8e03-c1457797389f",
   "metadata": {},
   "outputs": [],
   "source": [
    "final_data_long$type[ final_data_long$type == 'single_cell'] = str_extract(final_data_long$variable[ final_data_long$type == 'single_cell'] , '.*__')"
   ]
  },
  {
   "cell_type": "code",
   "execution_count": 40,
   "id": "3a2a529e-ad9c-42f6-a121-a776d368928b",
   "metadata": {},
   "outputs": [],
   "source": [
    "final_data_long$config = NULL"
   ]
  },
  {
   "cell_type": "code",
   "execution_count": 41,
   "id": "4758782c-2877-4dfe-bb40-3d76464ca99d",
   "metadata": {},
   "outputs": [],
   "source": [
    "final_data_long$X = NULL"
   ]
  },
  {
   "cell_type": "code",
   "execution_count": 42,
   "id": "ab15d009-6494-41d4-b740-5a374108cf15",
   "metadata": {},
   "outputs": [
    {
     "data": {
      "text/html": [
       "<table class=\"dataframe\">\n",
       "<caption>A data.frame: 2 × 4</caption>\n",
       "<thead>\n",
       "\t<tr><th></th><th scope=col>sample_id</th><th scope=col>variable</th><th scope=col>value</th><th scope=col>type</th></tr>\n",
       "\t<tr><th></th><th scope=col>&lt;chr&gt;</th><th scope=col>&lt;chr&gt;</th><th scope=col>&lt;dbl&gt;</th><th scope=col>&lt;chr&gt;</th></tr>\n",
       "</thead>\n",
       "<tbody>\n",
       "\t<tr><th scope=row>1</th><td>k1 </td><td>CK</td><td>-2.397022</td><td>clinical_data</td></tr>\n",
       "\t<tr><th scope=row>2</th><td>k10</td><td>CK</td><td>       NA</td><td>clinical_data</td></tr>\n",
       "</tbody>\n",
       "</table>\n"
      ],
      "text/latex": [
       "A data.frame: 2 × 4\n",
       "\\begin{tabular}{r|llll}\n",
       "  & sample\\_id & variable & value & type\\\\\n",
       "  & <chr> & <chr> & <dbl> & <chr>\\\\\n",
       "\\hline\n",
       "\t1 & k1  & CK & -2.397022 & clinical\\_data\\\\\n",
       "\t2 & k10 & CK &        NA & clinical\\_data\\\\\n",
       "\\end{tabular}\n"
      ],
      "text/markdown": [
       "\n",
       "A data.frame: 2 × 4\n",
       "\n",
       "| <!--/--> | sample_id &lt;chr&gt; | variable &lt;chr&gt; | value &lt;dbl&gt; | type &lt;chr&gt; |\n",
       "|---|---|---|---|---|\n",
       "| 1 | k1  | CK | -2.397022 | clinical_data |\n",
       "| 2 | k10 | CK |        NA | clinical_data |\n",
       "\n"
      ],
      "text/plain": [
       "  sample_id variable value     type         \n",
       "1 k1        CK       -2.397022 clinical_data\n",
       "2 k10       CK              NA clinical_data"
      ]
     },
     "metadata": {},
     "output_type": "display_data"
    }
   ],
   "source": [
    "head(final_data_long,2)"
   ]
  },
  {
   "cell_type": "code",
   "execution_count": 47,
   "id": "662393d2-e37b-4ac9-909d-8aeba9d9288d",
   "metadata": {},
   "outputs": [],
   "source": [
    "### Define samples to use in analysis (here all samples)"
   ]
  },
  {
   "cell_type": "code",
   "execution_count": 48,
   "id": "d53aa09e-c80e-4ead-a83e-b8e1f5727bbc",
   "metadata": {},
   "outputs": [],
   "source": [
    "samples = unique(final_data_long$sample_id)"
   ]
  },
  {
   "cell_type": "code",
   "execution_count": 49,
   "id": "1c9dbead-7d14-43bf-9791-d3eaa217cdd7",
   "metadata": {},
   "outputs": [
    {
     "data": {
      "text/html": [
       "128"
      ],
      "text/latex": [
       "128"
      ],
      "text/markdown": [
       "128"
      ],
      "text/plain": [
       "[1] 128"
      ]
     },
     "metadata": {},
     "output_type": "display_data"
    }
   ],
   "source": [
    "length(samples)"
   ]
  },
  {
   "cell_type": "code",
   "execution_count": null,
   "id": "2b5122e0-29d7-4d05-9356-a7da1159fe7e",
   "metadata": {},
   "outputs": [],
   "source": []
  },
  {
   "cell_type": "code",
   "execution_count": 50,
   "id": "c82c448b-4cb5-4790-bde2-0b473ff7d1a8",
   "metadata": {},
   "outputs": [],
   "source": [
    "### Prepare data list for MOFA"
   ]
  },
  {
   "cell_type": "code",
   "execution_count": 52,
   "id": "c18bb406-5a7e-4a48-ba7d-c77d75add3dc",
   "metadata": {},
   "outputs": [],
   "source": [
    "data_list = list()"
   ]
  },
  {
   "cell_type": "code",
   "execution_count": 53,
   "id": "5d042439-7d41-42ab-84e7-d011b6feb4cc",
   "metadata": {
    "tags": []
   },
   "outputs": [],
   "source": [
    "for(i in unique(final_data_long$type)){\n",
    "    data = final_data_long[final_data_long$type == i, ]\n",
    "    \n",
    "    data$type = NULL\n",
    "    data$cell_type = NULL\n",
    "    \n",
    "    data = data %>% dcast(variable ~ sample_id, value  = \"value\")\n",
    "    rownames(data) = data$variable\n",
    "    colnames(data) = str_replace(colnames(data), 'value\\\\.', '')\n",
    "    data$variable = NULL\n",
    "    \n",
    "    data[setdiff( samples, names(data))] = NA  # use all samples\n",
    "    \n",
    "    data = data[,order(colnames(data))]\n",
    "    data = data[,colnames(data) %in% samples]\n",
    "    \n",
    "    data_list[[i]] = as.matrix(data)\n",
    "    }"
   ]
  },
  {
   "cell_type": "markdown",
   "id": "c66ad1ca-77a9-4bbe-9a19-d29b6f79b03d",
   "metadata": {
    "tags": []
   },
   "source": [
    "## Create MOFA object"
   ]
  },
  {
   "cell_type": "markdown",
   "id": "c177356a-eed8-4f3a-a270-77dab57ac301",
   "metadata": {
    "tags": []
   },
   "source": [
    "### Create for own data and train"
   ]
  },
  {
   "cell_type": "code",
   "execution_count": 54,
   "id": "d39d15d4-36e8-4b8c-8d86-495470ac3371",
   "metadata": {},
   "outputs": [],
   "source": [
    "names(data_list) = str_replace_all(names(data_list) , '__|\\\\.|\\\\.\\\\.|\\\\.\\\\.\\\\.', '')"
   ]
  },
  {
   "cell_type": "code",
   "execution_count": 55,
   "id": "58887d75-5955-4344-80a0-1c22296b662e",
   "metadata": {},
   "outputs": [],
   "source": [
    "data_list_orig = data_list"
   ]
  },
  {
   "cell_type": "code",
   "execution_count": 56,
   "id": "f1c1aac8-310c-4385-9e96-c00ec4ab6bb5",
   "metadata": {},
   "outputs": [],
   "source": [
    "## Adjustments of names to improve textual descriptions"
   ]
  },
  {
   "cell_type": "code",
   "execution_count": 57,
   "id": "a874c8a5-d101-4872-8c19-befae4ad85fd",
   "metadata": {},
   "outputs": [],
   "source": [
    "names(data_list) = str_replace(names(data_list), 'clinical','Clinical')\n",
    "names(data_list) = str_replace(names(data_list), 'cytokine','Cytokine')\n",
    "names(data_list) = str_replace(names(data_list), 'neutrophil','Neutrophil')\n",
    "names(data_list) = str_replace(names(data_list), 'proteomics','Proteomics')"
   ]
  },
  {
   "cell_type": "code",
   "execution_count": 58,
   "id": "4d9d78d4-613e-4f70-856f-3ce283280975",
   "metadata": {},
   "outputs": [
    {
     "data": {
      "text/html": [
       "<style>\n",
       ".list-inline {list-style: none; margin:0; padding: 0}\n",
       ".list-inline>li {display: inline-block}\n",
       ".list-inline>li:not(:last-child)::after {content: \"\\00b7\"; padding: 0 .5ex}\n",
       "</style>\n",
       "<ol class=list-inline><li>'Clinical_data'</li><li>'Cytokine'</li><li>'Neutrophil'</li><li>'Proteomics'</li><li>'Bcell'</li><li>'CD14Mono'</li><li>'CD16Mono'</li><li>'CD4CTL'</li><li>'CD4Naive'</li><li>'CD4TCM'</li><li>'CD4TEM'</li><li>'CD8Naive'</li><li>'CD8TEM'</li><li>'cDC2'</li><li>'gdT'</li><li>'NK'</li><li>'Treg'</li></ol>\n"
      ],
      "text/latex": [
       "\\begin{enumerate*}\n",
       "\\item 'Clinical\\_data'\n",
       "\\item 'Cytokine'\n",
       "\\item 'Neutrophil'\n",
       "\\item 'Proteomics'\n",
       "\\item 'Bcell'\n",
       "\\item 'CD14Mono'\n",
       "\\item 'CD16Mono'\n",
       "\\item 'CD4CTL'\n",
       "\\item 'CD4Naive'\n",
       "\\item 'CD4TCM'\n",
       "\\item 'CD4TEM'\n",
       "\\item 'CD8Naive'\n",
       "\\item 'CD8TEM'\n",
       "\\item 'cDC2'\n",
       "\\item 'gdT'\n",
       "\\item 'NK'\n",
       "\\item 'Treg'\n",
       "\\end{enumerate*}\n"
      ],
      "text/markdown": [
       "1. 'Clinical_data'\n",
       "2. 'Cytokine'\n",
       "3. 'Neutrophil'\n",
       "4. 'Proteomics'\n",
       "5. 'Bcell'\n",
       "6. 'CD14Mono'\n",
       "7. 'CD16Mono'\n",
       "8. 'CD4CTL'\n",
       "9. 'CD4Naive'\n",
       "10. 'CD4TCM'\n",
       "11. 'CD4TEM'\n",
       "12. 'CD8Naive'\n",
       "13. 'CD8TEM'\n",
       "14. 'cDC2'\n",
       "15. 'gdT'\n",
       "16. 'NK'\n",
       "17. 'Treg'\n",
       "\n",
       "\n"
      ],
      "text/plain": [
       " [1] \"Clinical_data\" \"Cytokine\"      \"Neutrophil\"    \"Proteomics\"   \n",
       " [5] \"Bcell\"         \"CD14Mono\"      \"CD16Mono\"      \"CD4CTL\"       \n",
       " [9] \"CD4Naive\"      \"CD4TCM\"        \"CD4TEM\"        \"CD8Naive\"     \n",
       "[13] \"CD8TEM\"        \"cDC2\"          \"gdT\"           \"NK\"           \n",
       "[17] \"Treg\"         "
      ]
     },
     "metadata": {},
     "output_type": "display_data"
    }
   ],
   "source": [
    "names(data_list)"
   ]
  },
  {
   "cell_type": "code",
   "execution_count": 60,
   "id": "23ac8014-c111-48d7-acaf-fb4ee6516a46",
   "metadata": {},
   "outputs": [
    {
     "name": "stderr",
     "output_type": "stream",
     "text": [
      "Creating MOFA object from a list of matrices (features as rows, sample as columns)...\n",
      "\n",
      "\n"
     ]
    }
   ],
   "source": [
    "MOFAobject = create_mofa(data_list)"
   ]
  },
  {
   "cell_type": "code",
   "execution_count": 61,
   "id": "6e519e8f-f8a1-471d-b431-8c0876040173",
   "metadata": {},
   "outputs": [],
   "source": [
    "### Plot Data Overview"
   ]
  },
  {
   "cell_type": "code",
   "execution_count": 62,
   "id": "d585eef7-6d34-486f-9b29-786a1ef8e3fa",
   "metadata": {},
   "outputs": [],
   "source": [
    "options(repr.plot.width=30, repr.plot.height=10)\n",
    "mofa_overview = plot_data_overview(MOFAobject)"
   ]
  },
  {
   "cell_type": "code",
   "execution_count": 63,
   "id": "25ad394d-456b-485e-8fa3-98b17b3af311",
   "metadata": {},
   "outputs": [
    {
     "data": {
      "text/html": [
       "9145"
      ],
      "text/latex": [
       "9145"
      ],
      "text/markdown": [
       "9145"
      ],
      "text/plain": [
       "[1] 9145"
      ]
     },
     "metadata": {},
     "output_type": "display_data"
    }
   ],
   "source": [
    "length(unique(data_long$variable))"
   ]
  },
  {
   "cell_type": "code",
   "execution_count": 64,
   "id": "fb111060-0f4f-475d-831c-55ba5fc46aef",
   "metadata": {},
   "outputs": [],
   "source": [
    "# Specific Text Descriptions:\n",
    "xlabel = xlab('Samples') \n",
    "ylabel = ylab('View')"
   ]
  },
  {
   "cell_type": "code",
   "execution_count": 65,
   "id": "71ea18e8-5ae0-497d-add7-0937b310de51",
   "metadata": {},
   "outputs": [],
   "source": [
    "# Sizes of the plot\n",
    "width_par = 8.07\n",
    "height_par =6"
   ]
  },
  {
   "cell_type": "code",
   "execution_count": null,
   "id": "9ffdf9b1-2eaa-4da4-85ef-f5d1a94e0c64",
   "metadata": {},
   "outputs": [],
   "source": []
  },
  {
   "cell_type": "code",
   "execution_count": 66,
   "id": "f833861e-61b9-4923-8b99-3bb2d1cdca04",
   "metadata": {},
   "outputs": [],
   "source": [
    "mofa_overview = mofa_overview + plot_config +\n",
    "                xlabel + ylabel + theme(axis.text.x = element_blank())"
   ]
  },
  {
   "cell_type": "code",
   "execution_count": 67,
   "id": "40a7cf8f-2081-4cea-8a49-249212581a85",
   "metadata": {},
   "outputs": [
    {
     "data": {
      "image/png": "[encoded data removed]",
      "text/plain": [
       "plot without title"
      ]
     },
     "metadata": {
      "image/png": {
       "height": 600,
       "width": 1800
      }
     },
     "output_type": "display_data"
    }
   ],
   "source": [
    "mofa_overview"
   ]
  },
  {
   "cell_type": "code",
   "execution_count": 68,
   "id": "a19c1cdb-c719-4238-9eae-f980fe9ffbfc",
   "metadata": {},
   "outputs": [],
   "source": [
    "figure_name = \"SUPP1_MOFA_Feature_Overview_Azimuth\""
   ]
  },
  {
   "cell_type": "code",
   "execution_count": 69,
   "id": "f7209d0f-e305-4fe8-ae8a-b36f064b64f0",
   "metadata": {},
   "outputs": [
    {
     "data": {
      "text/html": [
       "<strong>png:</strong> 2"
      ],
      "text/latex": [
       "\\textbf{png:} 2"
      ],
      "text/markdown": [
       "**png:** 2"
      ],
      "text/plain": [
       "png \n",
       "  2 "
      ]
     },
     "metadata": {},
     "output_type": "display_data"
    }
   ],
   "source": [
    "pdf(paste0('figures/Supplementary_Figures/', figure_name,'_', name,'.pdf'), width =width_par, height = height_par)\n",
    "print(mofa_overview)\n",
    "dev.off()"
   ]
  },
  {
   "cell_type": "code",
   "execution_count": 70,
   "id": "882e9aa1-0cd8-44c8-9464-225b36f92700",
   "metadata": {},
   "outputs": [],
   "source": [
    "### Use orig MOFA object"
   ]
  },
  {
   "cell_type": "code",
   "execution_count": 71,
   "id": "353490df-1c5c-4e7d-9138-7ac593c2d35e",
   "metadata": {},
   "outputs": [
    {
     "name": "stderr",
     "output_type": "stream",
     "text": [
      "Creating MOFA object from a list of matrices (features as rows, sample as columns)...\n",
      "\n",
      "\n"
     ]
    }
   ],
   "source": [
    "MOFAobject = create_mofa(data_list_orig)"
   ]
  },
  {
   "cell_type": "markdown",
   "id": "7b948109-3903-4b4f-a727-80471943e04c",
   "metadata": {
    "tags": []
   },
   "source": [
    "### Set data options"
   ]
  },
  {
   "cell_type": "code",
   "execution_count": 72,
   "id": "9693530f-d352-470f-9239-0ec892c961b8",
   "metadata": {},
   "outputs": [],
   "source": [
    "mefisto_opts = get_default_mefisto_options(MOFAobject)"
   ]
  },
  {
   "cell_type": "code",
   "execution_count": 73,
   "id": "112705d7-013e-4213-8886-fd69f42fea63",
   "metadata": {},
   "outputs": [],
   "source": [
    "data_opts = get_default_data_options(MOFAobject)"
   ]
  },
  {
   "cell_type": "code",
   "execution_count": 74,
   "id": "4545b8db-75b4-41d5-87b1-debe0d401d59",
   "metadata": {},
   "outputs": [
    {
     "data": {
      "text/html": [
       "<dl>\n",
       "\t<dt>$scale_views</dt>\n",
       "\t\t<dd>FALSE</dd>\n",
       "\t<dt>$scale_groups</dt>\n",
       "\t\t<dd>FALSE</dd>\n",
       "\t<dt>$center_groups</dt>\n",
       "\t\t<dd>TRUE</dd>\n",
       "\t<dt>$use_float32</dt>\n",
       "\t\t<dd>FALSE</dd>\n",
       "\t<dt>$views</dt>\n",
       "\t\t<dd><style>\n",
       ".list-inline {list-style: none; margin:0; padding: 0}\n",
       ".list-inline>li {display: inline-block}\n",
       ".list-inline>li:not(:last-child)::after {content: \"\\00b7\"; padding: 0 .5ex}\n",
       "</style>\n",
       "<ol class=list-inline><li>'clinical_data'</li><li>'cytokine'</li><li>'neutrophil'</li><li>'proteomics'</li><li>'Bcell'</li><li>'CD14Mono'</li><li>'CD16Mono'</li><li>'CD4CTL'</li><li>'CD4Naive'</li><li>'CD4TCM'</li><li>'CD4TEM'</li><li>'CD8Naive'</li><li>'CD8TEM'</li><li>'cDC2'</li><li>'gdT'</li><li>'NK'</li><li>'Treg'</li></ol>\n",
       "</dd>\n",
       "\t<dt>$groups</dt>\n",
       "\t\t<dd>'group1'</dd>\n",
       "</dl>\n"
      ],
      "text/latex": [
       "\\begin{description}\n",
       "\\item[\\$scale\\_views] FALSE\n",
       "\\item[\\$scale\\_groups] FALSE\n",
       "\\item[\\$center\\_groups] TRUE\n",
       "\\item[\\$use\\_float32] FALSE\n",
       "\\item[\\$views] \\begin{enumerate*}\n",
       "\\item 'clinical\\_data'\n",
       "\\item 'cytokine'\n",
       "\\item 'neutrophil'\n",
       "\\item 'proteomics'\n",
       "\\item 'Bcell'\n",
       "\\item 'CD14Mono'\n",
       "\\item 'CD16Mono'\n",
       "\\item 'CD4CTL'\n",
       "\\item 'CD4Naive'\n",
       "\\item 'CD4TCM'\n",
       "\\item 'CD4TEM'\n",
       "\\item 'CD8Naive'\n",
       "\\item 'CD8TEM'\n",
       "\\item 'cDC2'\n",
       "\\item 'gdT'\n",
       "\\item 'NK'\n",
       "\\item 'Treg'\n",
       "\\end{enumerate*}\n",
       "\n",
       "\\item[\\$groups] 'group1'\n",
       "\\end{description}\n"
      ],
      "text/markdown": [
       "$scale_views\n",
       ":   FALSE\n",
       "$scale_groups\n",
       ":   FALSE\n",
       "$center_groups\n",
       ":   TRUE\n",
       "$use_float32\n",
       ":   FALSE\n",
       "$views\n",
       ":   1. 'clinical_data'\n",
       "2. 'cytokine'\n",
       "3. 'neutrophil'\n",
       "4. 'proteomics'\n",
       "5. 'Bcell'\n",
       "6. 'CD14Mono'\n",
       "7. 'CD16Mono'\n",
       "8. 'CD4CTL'\n",
       "9. 'CD4Naive'\n",
       "10. 'CD4TCM'\n",
       "11. 'CD4TEM'\n",
       "12. 'CD8Naive'\n",
       "13. 'CD8TEM'\n",
       "14. 'cDC2'\n",
       "15. 'gdT'\n",
       "16. 'NK'\n",
       "17. 'Treg'\n",
       "\n",
       "\n",
       "\n",
       "$groups\n",
       ":   'group1'\n",
       "\n",
       "\n"
      ],
      "text/plain": [
       "$scale_views\n",
       "[1] FALSE\n",
       "\n",
       "$scale_groups\n",
       "[1] FALSE\n",
       "\n",
       "$center_groups\n",
       "[1] TRUE\n",
       "\n",
       "$use_float32\n",
       "[1] FALSE\n",
       "\n",
       "$views\n",
       " [1] \"clinical_data\" \"cytokine\"      \"neutrophil\"    \"proteomics\"   \n",
       " [5] \"Bcell\"         \"CD14Mono\"      \"CD16Mono\"      \"CD4CTL\"       \n",
       " [9] \"CD4Naive\"      \"CD4TCM\"        \"CD4TEM\"        \"CD8Naive\"     \n",
       "[13] \"CD8TEM\"        \"cDC2\"          \"gdT\"           \"NK\"           \n",
       "[17] \"Treg\"         \n",
       "\n",
       "$groups\n",
       "[1] \"group1\"\n"
      ]
     },
     "metadata": {},
     "output_type": "display_data"
    }
   ],
   "source": [
    "data_opts"
   ]
  },
  {
   "cell_type": "code",
   "execution_count": 75,
   "id": "6b0946b0-5606-466f-87e8-c3a65a6233fc",
   "metadata": {},
   "outputs": [],
   "source": [
    "data_opts$scale_views = TRUE # decide whether to scale the data"
   ]
  },
  {
   "cell_type": "code",
   "execution_count": 76,
   "id": "e0ef44c2-9b1e-4361-873f-316c3bfa8fbf",
   "metadata": {},
   "outputs": [],
   "source": [
    "## Define model options"
   ]
  },
  {
   "cell_type": "code",
   "execution_count": 77,
   "id": "a4fb423b-9f01-4107-843f-d23d5dd4f0a3",
   "metadata": {},
   "outputs": [
    {
     "data": {
      "text/html": [
       "<dl>\n",
       "\t<dt>$likelihoods</dt>\n",
       "\t\t<dd><style>\n",
       ".dl-inline {width: auto; margin:0; padding: 0}\n",
       ".dl-inline>dt, .dl-inline>dd {float: none; width: auto; display: inline-block}\n",
       ".dl-inline>dt::after {content: \":\\0020\"; padding-right: .5ex}\n",
       ".dl-inline>dt:not(:first-of-type) {padding-left: .5ex}\n",
       "</style><dl class=dl-inline><dt>clinical_data</dt><dd>'gaussian'</dd><dt>cytokine</dt><dd>'gaussian'</dd><dt>neutrophil</dt><dd>'gaussian'</dd><dt>proteomics</dt><dd>'gaussian'</dd><dt>Bcell</dt><dd>'gaussian'</dd><dt>CD14Mono</dt><dd>'gaussian'</dd><dt>CD16Mono</dt><dd>'gaussian'</dd><dt>CD4CTL</dt><dd>'gaussian'</dd><dt>CD4Naive</dt><dd>'gaussian'</dd><dt>CD4TCM</dt><dd>'gaussian'</dd><dt>CD4TEM</dt><dd>'gaussian'</dd><dt>CD8Naive</dt><dd>'gaussian'</dd><dt>CD8TEM</dt><dd>'gaussian'</dd><dt>cDC2</dt><dd>'gaussian'</dd><dt>gdT</dt><dd>'gaussian'</dd><dt>NK</dt><dd>'gaussian'</dd><dt>Treg</dt><dd>'gaussian'</dd></dl>\n",
       "</dd>\n",
       "\t<dt>$num_factors</dt>\n",
       "\t\t<dd>15</dd>\n",
       "\t<dt>$spikeslab_factors</dt>\n",
       "\t\t<dd>FALSE</dd>\n",
       "\t<dt>$spikeslab_weights</dt>\n",
       "\t\t<dd>TRUE</dd>\n",
       "\t<dt>$ard_factors</dt>\n",
       "\t\t<dd>FALSE</dd>\n",
       "\t<dt>$ard_weights</dt>\n",
       "\t\t<dd>TRUE</dd>\n",
       "</dl>\n"
      ],
      "text/latex": [
       "\\begin{description}\n",
       "\\item[\\$likelihoods] \\begin{description*}\n",
       "\\item[clinical\\textbackslash{}\\_data] 'gaussian'\n",
       "\\item[cytokine] 'gaussian'\n",
       "\\item[neutrophil] 'gaussian'\n",
       "\\item[proteomics] 'gaussian'\n",
       "\\item[Bcell] 'gaussian'\n",
       "\\item[CD14Mono] 'gaussian'\n",
       "\\item[CD16Mono] 'gaussian'\n",
       "\\item[CD4CTL] 'gaussian'\n",
       "\\item[CD4Naive] 'gaussian'\n",
       "\\item[CD4TCM] 'gaussian'\n",
       "\\item[CD4TEM] 'gaussian'\n",
       "\\item[CD8Naive] 'gaussian'\n",
       "\\item[CD8TEM] 'gaussian'\n",
       "\\item[cDC2] 'gaussian'\n",
       "\\item[gdT] 'gaussian'\n",
       "\\item[NK] 'gaussian'\n",
       "\\item[Treg] 'gaussian'\n",
       "\\end{description*}\n",
       "\n",
       "\\item[\\$num\\_factors] 15\n",
       "\\item[\\$spikeslab\\_factors] FALSE\n",
       "\\item[\\$spikeslab\\_weights] TRUE\n",
       "\\item[\\$ard\\_factors] FALSE\n",
       "\\item[\\$ard\\_weights] TRUE\n",
       "\\end{description}\n"
      ],
      "text/markdown": [
       "$likelihoods\n",
       ":   clinical_data\n",
       ":   'gaussian'cytokine\n",
       ":   'gaussian'neutrophil\n",
       ":   'gaussian'proteomics\n",
       ":   'gaussian'Bcell\n",
       ":   'gaussian'CD14Mono\n",
       ":   'gaussian'CD16Mono\n",
       ":   'gaussian'CD4CTL\n",
       ":   'gaussian'CD4Naive\n",
       ":   'gaussian'CD4TCM\n",
       ":   'gaussian'CD4TEM\n",
       ":   'gaussian'CD8Naive\n",
       ":   'gaussian'CD8TEM\n",
       ":   'gaussian'cDC2\n",
       ":   'gaussian'gdT\n",
       ":   'gaussian'NK\n",
       ":   'gaussian'Treg\n",
       ":   'gaussian'\n",
       "\n",
       "\n",
       "$num_factors\n",
       ":   15\n",
       "$spikeslab_factors\n",
       ":   FALSE\n",
       "$spikeslab_weights\n",
       ":   TRUE\n",
       "$ard_factors\n",
       ":   FALSE\n",
       "$ard_weights\n",
       ":   TRUE\n",
       "\n",
       "\n"
      ],
      "text/plain": [
       "$likelihoods\n",
       "clinical_data      cytokine    neutrophil    proteomics         Bcell \n",
       "   \"gaussian\"    \"gaussian\"    \"gaussian\"    \"gaussian\"    \"gaussian\" \n",
       "     CD14Mono      CD16Mono        CD4CTL      CD4Naive        CD4TCM \n",
       "   \"gaussian\"    \"gaussian\"    \"gaussian\"    \"gaussian\"    \"gaussian\" \n",
       "       CD4TEM      CD8Naive        CD8TEM          cDC2           gdT \n",
       "   \"gaussian\"    \"gaussian\"    \"gaussian\"    \"gaussian\"    \"gaussian\" \n",
       "           NK          Treg \n",
       "   \"gaussian\"    \"gaussian\" \n",
       "\n",
       "$num_factors\n",
       "[1] 15\n",
       "\n",
       "$spikeslab_factors\n",
       "[1] FALSE\n",
       "\n",
       "$spikeslab_weights\n",
       "[1] TRUE\n",
       "\n",
       "$ard_factors\n",
       "[1] FALSE\n",
       "\n",
       "$ard_weights\n",
       "[1] TRUE\n"
      ]
     },
     "metadata": {},
     "output_type": "display_data"
    }
   ],
   "source": [
    "model_opts = get_default_model_options(MOFAobject)\n",
    "model_opts"
   ]
  },
  {
   "cell_type": "code",
   "execution_count": 78,
   "id": "3732b871-8640-4c71-be2e-24c48d440d14",
   "metadata": {},
   "outputs": [],
   "source": [
    "model_opts$num_factors = 20 # define number of factors"
   ]
  },
  {
   "cell_type": "code",
   "execution_count": 79,
   "id": "03cc522a-4279-4239-9853-f2a04e539ea1",
   "metadata": {},
   "outputs": [],
   "source": [
    "#model_opts$likelihoods"
   ]
  },
  {
   "cell_type": "markdown",
   "id": "820cd5ea-6ee8-4378-9302-da93f97ddddc",
   "metadata": {
    "tags": []
   },
   "source": [
    "### Define training options"
   ]
  },
  {
   "cell_type": "code",
   "execution_count": 80,
   "id": "3ee41554-fa0f-4fee-8fd7-56613b48e44d",
   "metadata": {},
   "outputs": [
    {
     "data": {
      "text/html": [
       "<dl>\n",
       "\t<dt>$maxiter</dt>\n",
       "\t\t<dd>1000</dd>\n",
       "\t<dt>$convergence_mode</dt>\n",
       "\t\t<dd>'fast'</dd>\n",
       "\t<dt>$drop_factor_threshold</dt>\n",
       "\t\t<dd>-1</dd>\n",
       "\t<dt>$verbose</dt>\n",
       "\t\t<dd>FALSE</dd>\n",
       "\t<dt>$startELBO</dt>\n",
       "\t\t<dd>1</dd>\n",
       "\t<dt>$freqELBO</dt>\n",
       "\t\t<dd>5</dd>\n",
       "\t<dt>$stochastic</dt>\n",
       "\t\t<dd>FALSE</dd>\n",
       "\t<dt>$gpu_mode</dt>\n",
       "\t\t<dd>FALSE</dd>\n",
       "\t<dt>$seed</dt>\n",
       "\t\t<dd>42</dd>\n",
       "\t<dt>$outfile</dt>\n",
       "\t\t<dd>NULL</dd>\n",
       "\t<dt>$weight_views</dt>\n",
       "\t\t<dd>FALSE</dd>\n",
       "\t<dt>$save_interrupted</dt>\n",
       "\t\t<dd>FALSE</dd>\n",
       "</dl>\n"
      ],
      "text/latex": [
       "\\begin{description}\n",
       "\\item[\\$maxiter] 1000\n",
       "\\item[\\$convergence\\_mode] 'fast'\n",
       "\\item[\\$drop\\_factor\\_threshold] -1\n",
       "\\item[\\$verbose] FALSE\n",
       "\\item[\\$startELBO] 1\n",
       "\\item[\\$freqELBO] 5\n",
       "\\item[\\$stochastic] FALSE\n",
       "\\item[\\$gpu\\_mode] FALSE\n",
       "\\item[\\$seed] 42\n",
       "\\item[\\$outfile] NULL\n",
       "\\item[\\$weight\\_views] FALSE\n",
       "\\item[\\$save\\_interrupted] FALSE\n",
       "\\end{description}\n"
      ],
      "text/markdown": [
       "$maxiter\n",
       ":   1000\n",
       "$convergence_mode\n",
       ":   'fast'\n",
       "$drop_factor_threshold\n",
       ":   -1\n",
       "$verbose\n",
       ":   FALSE\n",
       "$startELBO\n",
       ":   1\n",
       "$freqELBO\n",
       ":   5\n",
       "$stochastic\n",
       ":   FALSE\n",
       "$gpu_mode\n",
       ":   FALSE\n",
       "$seed\n",
       ":   42\n",
       "$outfile\n",
       ":   NULL\n",
       "$weight_views\n",
       ":   FALSE\n",
       "$save_interrupted\n",
       ":   FALSE\n",
       "\n",
       "\n"
      ],
      "text/plain": [
       "$maxiter\n",
       "[1] 1000\n",
       "\n",
       "$convergence_mode\n",
       "[1] \"fast\"\n",
       "\n",
       "$drop_factor_threshold\n",
       "[1] -1\n",
       "\n",
       "$verbose\n",
       "[1] FALSE\n",
       "\n",
       "$startELBO\n",
       "[1] 1\n",
       "\n",
       "$freqELBO\n",
       "[1] 5\n",
       "\n",
       "$stochastic\n",
       "[1] FALSE\n",
       "\n",
       "$gpu_mode\n",
       "[1] FALSE\n",
       "\n",
       "$seed\n",
       "[1] 42\n",
       "\n",
       "$outfile\n",
       "NULL\n",
       "\n",
       "$weight_views\n",
       "[1] FALSE\n",
       "\n",
       "$save_interrupted\n",
       "[1] FALSE\n"
      ]
     },
     "metadata": {},
     "output_type": "display_data"
    }
   ],
   "source": [
    "train_opts  = get_default_training_options(MOFAobject)\n",
    "train_opts"
   ]
  },
  {
   "cell_type": "code",
   "execution_count": 81,
   "id": "a4b438ae-e6ee-421e-be27-179e7ea0934d",
   "metadata": {},
   "outputs": [],
   "source": [
    "train_opts$maxiter = 50000"
   ]
  },
  {
   "cell_type": "code",
   "execution_count": 82,
   "id": "5efd0ac2-2d66-49ed-b0dc-e84a83c5bf57",
   "metadata": {},
   "outputs": [],
   "source": [
    "train_opts$verbose = TRUE"
   ]
  },
  {
   "cell_type": "code",
   "execution_count": 83,
   "id": "01c419c6-d846-4995-a206-a90826c97845",
   "metadata": {},
   "outputs": [],
   "source": [
    "train_opts$seed = 42"
   ]
  },
  {
   "cell_type": "code",
   "execution_count": 84,
   "id": "2a9b65af-2b13-4891-857a-6e2526e6d30a",
   "metadata": {},
   "outputs": [],
   "source": [
    "train_opts$weight_views = FALSE"
   ]
  },
  {
   "cell_type": "markdown",
   "id": "6ef83262-70d6-4dee-9b4a-19bc1225da87",
   "metadata": {
    "tags": []
   },
   "source": [
    "### Stochastic Options"
   ]
  },
  {
   "cell_type": "code",
   "execution_count": 85,
   "id": "3bd852b5-31f7-4b29-80aa-1ae357432558",
   "metadata": {},
   "outputs": [],
   "source": [
    "stoch_options = get_default_stochastic_options(MOFAobject)"
   ]
  },
  {
   "cell_type": "code",
   "execution_count": 86,
   "id": "f3d2ed1d-44dc-4458-a331-8f00d4f34848",
   "metadata": {},
   "outputs": [
    {
     "data": {
      "text/html": [
       "<dl>\n",
       "\t<dt>$batch_size</dt>\n",
       "\t\t<dd>0.5</dd>\n",
       "\t<dt>$learning_rate</dt>\n",
       "\t\t<dd>1</dd>\n",
       "\t<dt>$forgetting_rate</dt>\n",
       "\t\t<dd>0.5</dd>\n",
       "\t<dt>$start_stochastic</dt>\n",
       "\t\t<dd>1</dd>\n",
       "</dl>\n"
      ],
      "text/latex": [
       "\\begin{description}\n",
       "\\item[\\$batch\\_size] 0.5\n",
       "\\item[\\$learning\\_rate] 1\n",
       "\\item[\\$forgetting\\_rate] 0.5\n",
       "\\item[\\$start\\_stochastic] 1\n",
       "\\end{description}\n"
      ],
      "text/markdown": [
       "$batch_size\n",
       ":   0.5\n",
       "$learning_rate\n",
       ":   1\n",
       "$forgetting_rate\n",
       ":   0.5\n",
       "$start_stochastic\n",
       ":   1\n",
       "\n",
       "\n"
      ],
      "text/plain": [
       "$batch_size\n",
       "[1] 0.5\n",
       "\n",
       "$learning_rate\n",
       "[1] 1\n",
       "\n",
       "$forgetting_rate\n",
       "[1] 0.5\n",
       "\n",
       "$start_stochastic\n",
       "[1] 1\n"
      ]
     },
     "metadata": {},
     "output_type": "display_data"
    }
   ],
   "source": [
    "stoch_options"
   ]
  },
  {
   "cell_type": "markdown",
   "id": "f0755cfb-2eb3-4734-8efe-34efee68bce8",
   "metadata": {
    "tags": []
   },
   "source": [
    "### Build and train the model"
   ]
  },
  {
   "cell_type": "code",
   "execution_count": 87,
   "id": "525aace4-69f7-4f28-94d6-62519a1abeaf",
   "metadata": {},
   "outputs": [
    {
     "name": "stderr",
     "output_type": "stream",
     "text": [
      "Warning message in prepare_mofa(object = MOFAobject, data_options = data_opts, model_options = model_opts, :\n",
      "“Some view(s) have less than 15 features, MOFA will have little power to to learn meaningful factors for these view(s)....”\n",
      "Checking data options...\n",
      "\n",
      "Checking training options...\n",
      "\n",
      "Checking model options...\n",
      "\n"
     ]
    }
   ],
   "source": [
    "MOFAobject = prepare_mofa(\n",
    "  object = MOFAobject,\n",
    "  data_options = data_opts,\n",
    "  model_options = model_opts,\n",
    "  mefisto_options = mefisto_opts,\n",
    "  training_options = train_opts #,\n",
    "  #stochastic_options = stoch_options\n",
    ")"
   ]
  },
  {
   "cell_type": "markdown",
   "id": "39519021-506c-47f4-9270-09814ce4a46a",
   "metadata": {
    "tags": []
   },
   "source": [
    "### Save the model"
   ]
  },
  {
   "cell_type": "code",
   "execution_count": 88,
   "id": "13b7b2d8-d4ed-42b1-95c0-5a73e6177518",
   "metadata": {},
   "outputs": [
    {
     "data": {
      "text/html": [
       "FALSE"
      ],
      "text/latex": [
       "FALSE"
      ],
      "text/markdown": [
       "FALSE"
      ],
      "text/plain": [
       "[1] FALSE"
      ]
     },
     "metadata": {},
     "output_type": "display_data"
    }
   ],
   "source": [
    "train_opts$weight_views"
   ]
  },
  {
   "cell_type": "code",
   "execution_count": 89,
   "id": "becc938d-534b-4f8c-80d8-ab11d05f807a",
   "metadata": {},
   "outputs": [],
   "source": [
    "model_name = paste0(\"MOFA_MODEL\", name, '-', train_opts$weight_views,'.hdf5')"
   ]
  },
  {
   "cell_type": "code",
   "execution_count": 90,
   "id": "561b4506-6f56-4d08-8e35-52486b58f643",
   "metadata": {},
   "outputs": [
    {
     "data": {
      "text/html": [
       "'MOFA_MODELV_AZIMUTH_INTEGRATED-FALSE.hdf5'"
      ],
      "text/latex": [
       "'MOFA\\_MODELV\\_AZIMUTH\\_INTEGRATED-FALSE.hdf5'"
      ],
      "text/markdown": [
       "'MOFA_MODELV_AZIMUTH_INTEGRATED-FALSE.hdf5'"
      ],
      "text/plain": [
       "[1] \"MOFA_MODELV_AZIMUTH_INTEGRATED-FALSE.hdf5\""
      ]
     },
     "metadata": {},
     "output_type": "display_data"
    }
   ],
   "source": [
    "model_name"
   ]
  },
  {
   "cell_type": "code",
   "execution_count": 91,
   "id": "d5025df8-b455-44a0-8295-28603c93e985",
   "metadata": {},
   "outputs": [],
   "source": [
    "outfile = file.path( paste0(result_path, '/G-Analysis/',  model_name) )"
   ]
  },
  {
   "cell_type": "code",
   "execution_count": 92,
   "id": "5d926cea-2a3f-4925-9fcc-781299e37dd0",
   "metadata": {},
   "outputs": [
    {
     "data": {
      "text/html": [
       "'../results/current/G-Analysis/MOFA_MODELV_AZIMUTH_INTEGRATED-FALSE.hdf5'"
      ],
      "text/latex": [
       "'../results/current/G-Analysis/MOFA\\_MODELV\\_AZIMUTH\\_INTEGRATED-FALSE.hdf5'"
      ],
      "text/markdown": [
       "'../results/current/G-Analysis/MOFA_MODELV_AZIMUTH_INTEGRATED-FALSE.hdf5'"
      ],
      "text/plain": [
       "[1] \"../results/current/G-Analysis/MOFA_MODELV_AZIMUTH_INTEGRATED-FALSE.hdf5\""
      ]
     },
     "metadata": {},
     "output_type": "display_data"
    }
   ],
   "source": [
    "outfile"
   ]
  },
  {
   "cell_type": "code",
   "execution_count": 93,
   "id": "f1e45075-3212-4eb0-a489-ccf368d12c93",
   "metadata": {
    "tags": []
   },
   "outputs": [
    {
     "name": "stderr",
     "output_type": "stream",
     "text": [
      "Warning: Output file ../results/current/G-Analysis/MOFA_MODELV_AZIMUTH_INTEGRATED-FALSE.hdf5 already exists, it will be replaced\n",
      "\n",
      "Connecting to the mofapy2 python package using reticulate (use_basilisk = FALSE)... \n",
      "    Please make sure to manually specify the right python binary when loading R with reticulate::use_python(..., force=TRUE) or the right conda environment with reticulate::use_condaenv(..., force=TRUE)\n",
      "    If you prefer to let us automatically install a conda environment with 'mofapy2' installed using the 'basilisk' package, please use the argument 'use_basilisk = TRUE'\n",
      "\n",
      "\n",
      "Warning message in .quality_control(object, verbose = verbose):\n",
      "“Factor(s) 5, 10, 11, 17 are strongly correlated with the total number of expressed features for at least one of your omics. Such factors appear when there are differences in the total 'levels' between your samples, *sometimes* because of poor normalisation in the preprocessing steps.\n",
      "”\n"
     ]
    }
   ],
   "source": [
    "MOFAobject.trained = run_mofa(MOFAobject, outfile, use_basilisk = FALSE)"
   ]
  },
  {
   "cell_type": "code",
   "execution_count": 94,
   "id": "8b78e2e9-c56c-4217-954e-0ea4df8594bf",
   "metadata": {
    "tags": []
   },
   "outputs": [
    {
     "data": {
      "text/html": [
       "149"
      ],
      "text/latex": [
       "149"
      ],
      "text/markdown": [
       "149"
      ],
      "text/plain": [
       "[1] 149"
      ]
     },
     "metadata": {},
     "output_type": "display_data"
    }
   ],
   "source": [
    "nrow(sample_data)"
   ]
  },
  {
   "cell_type": "code",
   "execution_count": 95,
   "id": "f13de2dd-b857-43fb-89f3-173521daf112",
   "metadata": {},
   "outputs": [
    {
     "data": {
      "text/html": [
       "147"
      ],
      "text/latex": [
       "147"
      ],
      "text/markdown": [
       "147"
      ],
      "text/plain": [
       "[1] 147"
      ]
     },
     "metadata": {},
     "output_type": "display_data"
    }
   ],
   "source": [
    "length(unique(sample_data$sample_id))"
   ]
  },
  {
   "cell_type": "code",
   "execution_count": 96,
   "id": "7721ff8d-4407-4a34-ba20-0b05167141aa",
   "metadata": {
    "tags": []
   },
   "outputs": [
    {
     "name": "stderr",
     "output_type": "stream",
     "text": [
      "Loading data...\n",
      "\n",
      "Loading expectations for 2 nodes...\n",
      "\n",
      "Loading model options...\n",
      "\n",
      "Loading training options and statistics...\n",
      "\n",
      "Assigning names to the different dimensions...\n",
      "\n",
      "Re-ordering factors by their variance explained...\n",
      "\n",
      "Doing quality control...\n",
      "\n",
      "Checking views names...\n",
      "\n",
      "Checking groups names...\n",
      "\n",
      "Checking samples names...\n",
      "\n",
      "Checking features names...\n",
      "\n",
      "Checking dimensions...\n",
      "\n",
      "Checking there are no features with complete missing values...\n",
      "\n",
      "Checking sample covariates...\n",
      "\n",
      "Checking expectations...\n",
      "\n",
      "Checking for intercept factors...\n",
      "\n",
      "Warning message in .quality_control(object, verbose = verbose):\n",
      "“Factor(s) 5, 10, 11, 17 are strongly correlated with the total number of expressed features for at least one of your omics. Such factors appear when there are differences in the total 'levels' between your samples, *sometimes* because of poor normalisation in the preprocessing steps.\n",
      "”\n",
      "Checking for highly correlated factors...\n",
      "\n"
     ]
    }
   ],
   "source": [
    "model <- load_model(outfile, verbose = TRUE)"
   ]
  },
  {
   "cell_type": "code",
   "execution_count": 97,
   "id": "6a1dc3ae-1259-44e2-b1cb-2e4d0105fabb",
   "metadata": {},
   "outputs": [
    {
     "data": {
      "text/html": [
       "9145"
      ],
      "text/latex": [
       "9145"
      ],
      "text/markdown": [
       "9145"
      ],
      "text/plain": [
       "[1] 9145"
      ]
     },
     "metadata": {},
     "output_type": "display_data"
    }
   ],
   "source": [
    "length(unique(data_long$variable))"
   ]
  },
  {
   "cell_type": "markdown",
   "id": "1385d8a3-c030-45e4-92d6-7e71e9450bb6",
   "metadata": {
    "tags": []
   },
   "source": [
    "# Downstream Analysis of generated model"
   ]
  },
  {
   "cell_type": "code",
   "execution_count": 98,
   "id": "5b48cb27-2fd6-436b-8b4c-386f7b56df3b",
   "metadata": {},
   "outputs": [
    {
     "data": {
      "text/html": [
       "<style>\n",
       ".dl-inline {width: auto; margin:0; padding: 0}\n",
       ".dl-inline>dt, .dl-inline>dd {float: none; width: auto; display: inline-block}\n",
       ".dl-inline>dt::after {content: \":\\0020\"; padding-right: .5ex}\n",
       ".dl-inline>dt:not(:first-of-type) {padding-left: .5ex}\n",
       "</style><dl class=dl-inline><dt>clinical_data</dt><dd>4</dd><dt>cytokine</dt><dd>65</dd><dt>neutrophil</dt><dd>892</dd><dt>proteomics</dt><dd>490</dd><dt>Bcell</dt><dd>686</dd><dt>CD14Mono</dt><dd>1589</dd><dt>CD16Mono</dt><dd>1059</dd><dt>CD4CTL</dt><dd>531</dd><dt>CD4Naive</dt><dd>342</dd><dt>CD4TCM</dt><dd>661</dd><dt>CD4TEM</dt><dd>519</dd><dt>CD8Naive</dt><dd>397</dd><dt>CD8TEM</dt><dd>570</dd><dt>cDC2</dt><dd>264</dd><dt>gdT</dt><dd>212</dd><dt>NK</dt><dd>508</dd><dt>Treg</dt><dd>356</dd></dl>\n"
      ],
      "text/latex": [
       "\\begin{description*}\n",
       "\\item[clinical\\textbackslash{}\\_data] 4\n",
       "\\item[cytokine] 65\n",
       "\\item[neutrophil] 892\n",
       "\\item[proteomics] 490\n",
       "\\item[Bcell] 686\n",
       "\\item[CD14Mono] 1589\n",
       "\\item[CD16Mono] 1059\n",
       "\\item[CD4CTL] 531\n",
       "\\item[CD4Naive] 342\n",
       "\\item[CD4TCM] 661\n",
       "\\item[CD4TEM] 519\n",
       "\\item[CD8Naive] 397\n",
       "\\item[CD8TEM] 570\n",
       "\\item[cDC2] 264\n",
       "\\item[gdT] 212\n",
       "\\item[NK] 508\n",
       "\\item[Treg] 356\n",
       "\\end{description*}\n"
      ],
      "text/markdown": [
       "clinical_data\n",
       ":   4cytokine\n",
       ":   65neutrophil\n",
       ":   892proteomics\n",
       ":   490Bcell\n",
       ":   686CD14Mono\n",
       ":   1589CD16Mono\n",
       ":   1059CD4CTL\n",
       ":   531CD4Naive\n",
       ":   342CD4TCM\n",
       ":   661CD4TEM\n",
       ":   519CD8Naive\n",
       ":   397CD8TEM\n",
       ":   570cDC2\n",
       ":   264gdT\n",
       ":   212NK\n",
       ":   508Treg\n",
       ":   356\n",
       "\n"
      ],
      "text/plain": [
       "clinical_data      cytokine    neutrophil    proteomics         Bcell \n",
       "            4            65           892           490           686 \n",
       "     CD14Mono      CD16Mono        CD4CTL      CD4Naive        CD4TCM \n",
       "         1589          1059           531           342           661 \n",
       "       CD4TEM      CD8Naive        CD8TEM          cDC2           gdT \n",
       "          519           397           570           264           212 \n",
       "           NK          Treg \n",
       "          508           356 "
      ]
     },
     "metadata": {},
     "output_type": "display_data"
    }
   ],
   "source": [
    "model@dimensions$D"
   ]
  },
  {
   "cell_type": "code",
   "execution_count": 99,
   "id": "53ac3e6e-ba70-4102-b044-4554e09d9f81",
   "metadata": {},
   "outputs": [
    {
     "data": {
      "text/html": [
       "9145"
      ],
      "text/latex": [
       "9145"
      ],
      "text/markdown": [
       "9145"
      ],
      "text/plain": [
       "[1] 9145"
      ]
     },
     "metadata": {},
     "output_type": "display_data"
    }
   ],
   "source": [
    "sum(model@dimensions$D)"
   ]
  },
  {
   "cell_type": "markdown",
   "id": "6359441b-4426-4d60-b6f1-8e7afa56d123",
   "metadata": {
    "tags": []
   },
   "source": [
    "## Add metadata to model"
   ]
  },
  {
   "cell_type": "code",
   "execution_count": 100,
   "id": "3f9fb18c-02f2-4bc5-b37f-85142e3b708c",
   "metadata": {
    "tags": []
   },
   "outputs": [
    {
     "data": {
      "text/html": [
       "<table class=\"dataframe\">\n",
       "<caption>A data.frame: 3 × 2</caption>\n",
       "<thead>\n",
       "\t<tr><th></th><th scope=col>group</th><th scope=col>sample</th></tr>\n",
       "\t<tr><th></th><th scope=col>&lt;fct&gt;</th><th scope=col>&lt;chr&gt;</th></tr>\n",
       "</thead>\n",
       "<tbody>\n",
       "\t<tr><th scope=row>1</th><td>group1</td><td>k1 </td></tr>\n",
       "\t<tr><th scope=row>2</th><td>group1</td><td>k10</td></tr>\n",
       "\t<tr><th scope=row>3</th><td>group1</td><td>k11</td></tr>\n",
       "</tbody>\n",
       "</table>\n"
      ],
      "text/latex": [
       "A data.frame: 3 × 2\n",
       "\\begin{tabular}{r|ll}\n",
       "  & group & sample\\\\\n",
       "  & <fct> & <chr>\\\\\n",
       "\\hline\n",
       "\t1 & group1 & k1 \\\\\n",
       "\t2 & group1 & k10\\\\\n",
       "\t3 & group1 & k11\\\\\n",
       "\\end{tabular}\n"
      ],
      "text/markdown": [
       "\n",
       "A data.frame: 3 × 2\n",
       "\n",
       "| <!--/--> | group &lt;fct&gt; | sample &lt;chr&gt; |\n",
       "|---|---|---|\n",
       "| 1 | group1 | k1  |\n",
       "| 2 | group1 | k10 |\n",
       "| 3 | group1 | k11 |\n",
       "\n"
      ],
      "text/plain": [
       "  group  sample\n",
       "1 group1 k1    \n",
       "2 group1 k10   \n",
       "3 group1 k11   "
      ]
     },
     "metadata": {},
     "output_type": "display_data"
    }
   ],
   "source": [
    "head(model@samples_metadata, n=3)"
   ]
  },
  {
   "cell_type": "code",
   "execution_count": 101,
   "id": "0dc140d1-486f-47fa-91aa-4405a8171ccc",
   "metadata": {},
   "outputs": [],
   "source": [
    "model@samples_metadata = merge(model@samples_metadata, unique(sample_data[,c('sample_id', 'classification')]), by.x = 'sample', by.y = 'sample_id')"
   ]
  },
  {
   "cell_type": "code",
   "execution_count": 102,
   "id": "1d98d3a0-b7b2-4dd7-976f-c5187e9c2b6b",
   "metadata": {},
   "outputs": [
    {
     "data": {
      "text/html": [
       "<table class=\"dataframe\">\n",
       "<caption>A data.frame: 2 × 3</caption>\n",
       "<thead>\n",
       "\t<tr><th></th><th scope=col>sample</th><th scope=col>group</th><th scope=col>classification</th></tr>\n",
       "\t<tr><th></th><th scope=col>&lt;chr&gt;</th><th scope=col>&lt;fct&gt;</th><th scope=col>&lt;chr&gt;</th></tr>\n",
       "</thead>\n",
       "<tbody>\n",
       "\t<tr><th scope=row>1</th><td>k1 </td><td>group1</td><td>vollstaendiger_ausschluss</td></tr>\n",
       "\t<tr><th scope=row>2</th><td>k10</td><td>group1</td><td>ccs                      </td></tr>\n",
       "</tbody>\n",
       "</table>\n"
      ],
      "text/latex": [
       "A data.frame: 2 × 3\n",
       "\\begin{tabular}{r|lll}\n",
       "  & sample & group & classification\\\\\n",
       "  & <chr> & <fct> & <chr>\\\\\n",
       "\\hline\n",
       "\t1 & k1  & group1 & vollstaendiger\\_ausschluss\\\\\n",
       "\t2 & k10 & group1 & ccs                      \\\\\n",
       "\\end{tabular}\n"
      ],
      "text/markdown": [
       "\n",
       "A data.frame: 2 × 3\n",
       "\n",
       "| <!--/--> | sample &lt;chr&gt; | group &lt;fct&gt; | classification &lt;chr&gt; |\n",
       "|---|---|---|---|\n",
       "| 1 | k1  | group1 | vollstaendiger_ausschluss |\n",
       "| 2 | k10 | group1 | ccs                       |\n",
       "\n"
      ],
      "text/plain": [
       "  sample group  classification           \n",
       "1 k1     group1 vollstaendiger_ausschluss\n",
       "2 k10    group1 ccs                      "
      ]
     },
     "metadata": {},
     "output_type": "display_data"
    }
   ],
   "source": [
    "head(model@samples_metadata,2)"
   ]
  },
  {
   "cell_type": "code",
   "execution_count": 103,
   "id": "8343602b-757d-4fdf-b2cb-321bef7f41ed",
   "metadata": {},
   "outputs": [
    {
     "data": {
      "text/html": [
       "128"
      ],
      "text/latex": [
       "128"
      ],
      "text/markdown": [
       "128"
      ],
      "text/plain": [
       "[1] 128"
      ]
     },
     "metadata": {},
     "output_type": "display_data"
    }
   ],
   "source": [
    "nrow(model@samples_metadata)"
   ]
  },
  {
   "cell_type": "markdown",
   "id": "c0c3d7ac-3c1f-4ba0-b560-837c1f7a3abb",
   "metadata": {
    "tags": []
   },
   "source": [
    "## Investigate Variance decomposition"
   ]
  },
  {
   "cell_type": "code",
   "execution_count": 104,
   "id": "1f41cb1f-0a66-477f-b162-dd9f89046efa",
   "metadata": {
    "tags": []
   },
   "outputs": [],
   "source": [
    "# Total variance explained per view and group"
   ]
  },
  {
   "cell_type": "code",
   "execution_count": 105,
   "id": "90d29b84-1caa-4e40-b338-daa01687918e",
   "metadata": {},
   "outputs": [
    {
     "data": {
      "text/html": [
       "<strong>$group1</strong> = <style>\n",
       ".dl-inline {width: auto; margin:0; padding: 0}\n",
       ".dl-inline>dt, .dl-inline>dd {float: none; width: auto; display: inline-block}\n",
       ".dl-inline>dt::after {content: \":\\0020\"; padding-right: .5ex}\n",
       ".dl-inline>dt:not(:first-of-type) {padding-left: .5ex}\n",
       "</style><dl class=dl-inline><dt>clinical_data</dt><dd>58.7826576769278</dd><dt>cytokine</dt><dd>22.3222481170965</dd><dt>neutrophil</dt><dd>18.5908069880297</dd><dt>proteomics</dt><dd>13.92704589448</dd><dt>Bcell</dt><dd>36.8869999081439</dd><dt>CD14Mono</dt><dd>59.509218344659</dd><dt>CD16Mono</dt><dd>35.7865147157549</dd><dt>CD4CTL</dt><dd>38.4182248819004</dd><dt>CD4Naive</dt><dd>30.6094791639202</dd><dt>CD4TCM</dt><dd>60.3561108948207</dd><dt>CD4TEM</dt><dd>36.383146494139</dd><dt>CD8Naive</dt><dd>20.8386928465905</dd><dt>CD8TEM</dt><dd>39.3866961105303</dd><dt>cDC2</dt><dd>28.1789594399401</dd><dt>gdT</dt><dd>49.5697177903099</dd><dt>NK</dt><dd>41.3495365790775</dd><dt>Treg</dt><dd>31.6834322582606</dd></dl>\n"
      ],
      "text/latex": [
       "\\textbf{\\$group1} = \\begin{description*}\n",
       "\\item[clinical\\textbackslash{}\\_data] 58.7826576769278\n",
       "\\item[cytokine] 22.3222481170965\n",
       "\\item[neutrophil] 18.5908069880297\n",
       "\\item[proteomics] 13.92704589448\n",
       "\\item[Bcell] 36.8869999081439\n",
       "\\item[CD14Mono] 59.509218344659\n",
       "\\item[CD16Mono] 35.7865147157549\n",
       "\\item[CD4CTL] 38.4182248819004\n",
       "\\item[CD4Naive] 30.6094791639202\n",
       "\\item[CD4TCM] 60.3561108948207\n",
       "\\item[CD4TEM] 36.383146494139\n",
       "\\item[CD8Naive] 20.8386928465905\n",
       "\\item[CD8TEM] 39.3866961105303\n",
       "\\item[cDC2] 28.1789594399401\n",
       "\\item[gdT] 49.5697177903099\n",
       "\\item[NK] 41.3495365790775\n",
       "\\item[Treg] 31.6834322582606\n",
       "\\end{description*}\n"
      ],
      "text/markdown": [
       "**$group1** = clinical_data\n",
       ":   58.7826576769278cytokine\n",
       ":   22.3222481170965neutrophil\n",
       ":   18.5908069880297proteomics\n",
       ":   13.92704589448Bcell\n",
       ":   36.8869999081439CD14Mono\n",
       ":   59.509218344659CD16Mono\n",
       ":   35.7865147157549CD4CTL\n",
       ":   38.4182248819004CD4Naive\n",
       ":   30.6094791639202CD4TCM\n",
       ":   60.3561108948207CD4TEM\n",
       ":   36.383146494139CD8Naive\n",
       ":   20.8386928465905CD8TEM\n",
       ":   39.3866961105303cDC2\n",
       ":   28.1789594399401gdT\n",
       ":   49.5697177903099NK\n",
       ":   41.3495365790775Treg\n",
       ":   31.6834322582606\n",
       "\n"
      ],
      "text/plain": [
       "$group1\n",
       "clinical_data      cytokine    neutrophil    proteomics         Bcell \n",
       "     58.78266      22.32225      18.59081      13.92705      36.88700 \n",
       "     CD14Mono      CD16Mono        CD4CTL      CD4Naive        CD4TCM \n",
       "     59.50922      35.78651      38.41822      30.60948      60.35611 \n",
       "       CD4TEM      CD8Naive        CD8TEM          cDC2           gdT \n",
       "     36.38315      20.83869      39.38670      28.17896      49.56972 \n",
       "           NK          Treg \n",
       "     41.34954      31.68343 \n"
      ]
     },
     "metadata": {},
     "output_type": "display_data"
    }
   ],
   "source": [
    "model@cache[[\"variance_explained\"]]$r2_total"
   ]
  },
  {
   "cell_type": "code",
   "execution_count": 106,
   "id": "32ab522c-1814-4da1-9003-cba1352e5dfb",
   "metadata": {
    "tags": []
   },
   "outputs": [
    {
     "data": {
      "text/html": [
       "<style>\n",
       ".dl-inline {width: auto; margin:0; padding: 0}\n",
       ".dl-inline>dt, .dl-inline>dd {float: none; width: auto; display: inline-block}\n",
       ".dl-inline>dt::after {content: \":\\0020\"; padding-right: .5ex}\n",
       ".dl-inline>dt:not(:first-of-type) {padding-left: .5ex}\n",
       "</style><dl class=dl-inline><dt>Factor1</dt><dd>5.49127087068697</dd><dt>Factor2</dt><dd>5.13634218308037</dd><dt>Factor3</dt><dd>3.1257361965416</dd><dt>Factor4</dt><dd>2.88092319294002</dd><dt>Factor5</dt><dd>2.43595666650285</dd><dt>Factor6</dt><dd>2.21533914811829</dd><dt>Factor7</dt><dd>1.53198790918599</dd><dt>Factor8</dt><dd>1.44396591840645</dd><dt>Factor9</dt><dd>1.42951449057496</dd><dt>Factor10</dt><dd>1.39448967888341</dd><dt>Factor11</dt><dd>1.36312976345439</dd><dt>Factor12</dt><dd>1.29113476602111</dd><dt>Factor13</dt><dd>1.23629049610014</dd><dt>Factor14</dt><dd>1.22527784048644</dd><dt>Factor15</dt><dd>1.16319510579063</dd><dt>Factor16</dt><dd>1.0475653066098</dd><dt>Factor17</dt><dd>0.787239745736136</dd><dt>Factor18</dt><dd>0.775369625813377</dd><dt>Factor19</dt><dd>0.76518228780097</dd><dt>Factor20</dt><dd>0.674737475794125</dd></dl>\n"
      ],
      "text/latex": [
       "\\begin{description*}\n",
       "\\item[Factor1] 5.49127087068697\n",
       "\\item[Factor2] 5.13634218308037\n",
       "\\item[Factor3] 3.1257361965416\n",
       "\\item[Factor4] 2.88092319294002\n",
       "\\item[Factor5] 2.43595666650285\n",
       "\\item[Factor6] 2.21533914811829\n",
       "\\item[Factor7] 1.53198790918599\n",
       "\\item[Factor8] 1.44396591840645\n",
       "\\item[Factor9] 1.42951449057496\n",
       "\\item[Factor10] 1.39448967888341\n",
       "\\item[Factor11] 1.36312976345439\n",
       "\\item[Factor12] 1.29113476602111\n",
       "\\item[Factor13] 1.23629049610014\n",
       "\\item[Factor14] 1.22527784048644\n",
       "\\item[Factor15] 1.16319510579063\n",
       "\\item[Factor16] 1.0475653066098\n",
       "\\item[Factor17] 0.787239745736136\n",
       "\\item[Factor18] 0.775369625813377\n",
       "\\item[Factor19] 0.76518228780097\n",
       "\\item[Factor20] 0.674737475794125\n",
       "\\end{description*}\n"
      ],
      "text/markdown": [
       "Factor1\n",
       ":   5.49127087068697Factor2\n",
       ":   5.13634218308037Factor3\n",
       ":   3.1257361965416Factor4\n",
       ":   2.88092319294002Factor5\n",
       ":   2.43595666650285Factor6\n",
       ":   2.21533914811829Factor7\n",
       ":   1.53198790918599Factor8\n",
       ":   1.44396591840645Factor9\n",
       ":   1.42951449057496Factor10\n",
       ":   1.39448967888341Factor11\n",
       ":   1.36312976345439Factor12\n",
       ":   1.29113476602111Factor13\n",
       ":   1.23629049610014Factor14\n",
       ":   1.22527784048644Factor15\n",
       ":   1.16319510579063Factor16\n",
       ":   1.0475653066098Factor17\n",
       ":   0.787239745736136Factor18\n",
       ":   0.775369625813377Factor19\n",
       ":   0.76518228780097Factor20\n",
       ":   0.674737475794125\n",
       "\n"
      ],
      "text/plain": [
       "  Factor1   Factor2   Factor3   Factor4   Factor5   Factor6   Factor7   Factor8 \n",
       "5.4912709 5.1363422 3.1257362 2.8809232 2.4359567 2.2153391 1.5319879 1.4439659 \n",
       "  Factor9  Factor10  Factor11  Factor12  Factor13  Factor14  Factor15  Factor16 \n",
       "1.4295145 1.3944897 1.3631298 1.2911348 1.2362905 1.2252778 1.1631951 1.0475653 \n",
       " Factor17  Factor18  Factor19  Factor20 \n",
       "0.7872397 0.7753696 0.7651823 0.6747375 "
      ]
     },
     "metadata": {},
     "output_type": "display_data"
    }
   ],
   "source": [
    "rowMeans(model@cache$variance_explained$r2_per_factor[[1]])"
   ]
  },
  {
   "cell_type": "code",
   "execution_count": null,
   "id": "ccc0f859-4574-4990-bda3-e8c0d1d33e33",
   "metadata": {},
   "outputs": [],
   "source": [
    "## Total mean variance explained"
   ]
  },
  {
   "cell_type": "code",
   "execution_count": 107,
   "id": "7fe1df02-0c9d-45a7-aa8f-5b7a14b752e2",
   "metadata": {},
   "outputs": [
    {
     "data": {
      "text/html": [
       "36.6223228296812"
      ],
      "text/latex": [
       "36.6223228296812"
      ],
      "text/markdown": [
       "36.6223228296812"
      ],
      "text/plain": [
       "[1] 36.62232"
      ]
     },
     "metadata": {},
     "output_type": "display_data"
    }
   ],
   "source": [
    "mean(model@cache$variance_explained$r2_total[[1]])"
   ]
  },
  {
   "cell_type": "code",
   "execution_count": 108,
   "id": "b288a392-8d8e-424d-87fb-8cc7b0e80e83",
   "metadata": {},
   "outputs": [
    {
     "data": {
      "text/html": [
       "37.414648668528"
      ],
      "text/latex": [
       "37.414648668528"
      ],
      "text/markdown": [
       "37.414648668528"
      ],
      "text/plain": [
       "[1] 37.41465"
      ]
     },
     "metadata": {},
     "output_type": "display_data"
    }
   ],
   "source": [
    "mean(colSums(model@cache$variance_explained$r2_per_factor[[1]]))"
   ]
  },
  {
   "cell_type": "code",
   "execution_count": 109,
   "id": "914333cf-860e-4e4d-a52c-3b1fab532ca5",
   "metadata": {
    "tags": []
   },
   "outputs": [
    {
     "data": {
      "text/html": [
       "<table class=\"dataframe\">\n",
       "<caption>A matrix: 20 × 17 of type dbl</caption>\n",
       "<thead>\n",
       "\t<tr><th></th><th scope=col>clinical_data</th><th scope=col>cytokine</th><th scope=col>neutrophil</th><th scope=col>proteomics</th><th scope=col>Bcell</th><th scope=col>CD14Mono</th><th scope=col>CD16Mono</th><th scope=col>CD4CTL</th><th scope=col>CD4Naive</th><th scope=col>CD4TCM</th><th scope=col>CD4TEM</th><th scope=col>CD8Naive</th><th scope=col>CD8TEM</th><th scope=col>cDC2</th><th scope=col>gdT</th><th scope=col>NK</th><th scope=col>Treg</th></tr>\n",
       "</thead>\n",
       "<tbody>\n",
       "\t<tr><th scope=row>Factor1</th><td> 0.873810151</td><td>0.41208247</td><td> 0.17941786</td><td>0.07240222</td><td>5.81187024</td><td> 8.13262332</td><td>5.68176399</td><td> 3.32007809</td><td>7.15859613</td><td>16.60355010</td><td>9.62883127</td><td>4.80843364</td><td>9.66037941</td><td>5.5570212</td><td> 2.6954884</td><td>7.60756732</td><td>5.14768905</td></tr>\n",
       "\t<tr><th scope=row>Factor2</th><td>20.608269198</td><td>1.92985624</td><td> 0.38847701</td><td>1.08341122</td><td>4.19811132</td><td> 8.99574680</td><td>4.95492172</td><td> 2.17492511</td><td>4.52020904</td><td> 8.41198698</td><td>5.50545349</td><td>2.70127914</td><td>6.18690705</td><td>3.3692759</td><td> 1.7934285</td><td>7.48127126</td><td>3.01428712</td></tr>\n",
       "\t<tr><th scope=row>Factor3</th><td>13.961061229</td><td>2.68548615</td><td> 0.77963685</td><td>4.53233042</td><td>1.65737868</td><td> 4.02665712</td><td>2.36816432</td><td> 1.15636476</td><td>3.16434024</td><td> 4.25915507</td><td>1.88464006</td><td>1.86538442</td><td>2.13505812</td><td>1.9940763</td><td> 1.4548743</td><td>3.37804947</td><td>1.83485776</td></tr>\n",
       "\t<tr><th scope=row>Factor4</th><td> 1.410361699</td><td>1.94708663</td><td> 1.19775397</td><td>0.98707279</td><td>3.65659447</td><td> 5.72955483</td><td>3.66461723</td><td> 1.78721318</td><td>2.75372858</td><td> 5.46213168</td><td>3.32941830</td><td>1.16863815</td><td>4.09767249</td><td>2.4818329</td><td> 1.7419774</td><td>6.15393785</td><td>1.40610212</td></tr>\n",
       "\t<tr><th scope=row>Factor5</th><td> 0.013974434</td><td>0.64314861</td><td> 0.08847001</td><td>0.04269230</td><td>0.50561878</td><td> 0.04134448</td><td>0.04043960</td><td> 0.46641514</td><td>0.62382201</td><td> 0.58625723</td><td>0.40494843</td><td>0.57646299</td><td>0.29877500</td><td>0.1333863</td><td>36.6279048</td><td>0.08357876</td><td>0.23402447</td></tr>\n",
       "\t<tr><th scope=row>Factor6</th><td> 8.643252368</td><td>1.34704924</td><td> 0.42160748</td><td>0.69027299</td><td>1.94557928</td><td> 3.28775887</td><td>1.83338130</td><td> 0.66909288</td><td>2.06543893</td><td> 4.88006708</td><td>2.60503738</td><td>1.99137349</td><td>1.94269367</td><td>0.9380353</td><td> 0.5959517</td><td>2.72226185</td><td>1.08191168</td></tr>\n",
       "\t<tr><th scope=row>Factor7</th><td> 0.223657801</td><td>0.31540663</td><td> 0.22497219</td><td>0.51919025</td><td>2.95892424</td><td> 0.27075583</td><td>0.30106967</td><td> 0.87423041</td><td>1.28961617</td><td> 6.23852549</td><td>3.41954004</td><td>0.99105320</td><td>0.89168562</td><td>0.8006543</td><td> 0.1448503</td><td>0.44937242</td><td>6.13028988</td></tr>\n",
       "\t<tr><th scope=row>Factor8</th><td> 2.696890434</td><td>0.80568950</td><td> 0.40420809</td><td>0.38543577</td><td>0.74751568</td><td>12.22887850</td><td>3.35660651</td><td> 0.20356659</td><td>0.06449665</td><td> 0.51784481</td><td>0.38937891</td><td>0.11597669</td><td>0.32902035</td><td>0.8998609</td><td> 0.3063153</td><td>0.71473590</td><td>0.38100009</td></tr>\n",
       "\t<tr><th scope=row>Factor9</th><td> 2.883090167</td><td>1.22751676</td><td> 0.18160372</td><td>0.20091506</td><td>1.77235611</td><td> 1.40053535</td><td>0.83170530</td><td> 1.04190818</td><td>1.57118881</td><td> 3.63492523</td><td>2.33878373</td><td>1.11810744</td><td>1.89475361</td><td>1.1168541</td><td> 0.8788255</td><td>1.21534401</td><td>0.99333325</td></tr>\n",
       "\t<tr><th scope=row>Factor10</th><td> 0.054043329</td><td>4.06269468</td><td> 0.27998332</td><td>0.67857331</td><td>1.33818210</td><td> 0.57359139</td><td>1.14662219</td><td> 0.69856972</td><td>0.64218828</td><td> 1.35739888</td><td>0.98909344</td><td>0.12224235</td><td>1.47919824</td><td>1.0854253</td><td> 0.8988587</td><td>1.31947570</td><td>6.98018367</td></tr>\n",
       "\t<tr><th scope=row>Factor11</th><td> 0.102857133</td><td>0.24568568</td><td> 0.03143075</td><td>0.07234962</td><td>0.08844075</td><td> 0.01786672</td><td>0.05302011</td><td>21.62825168</td><td>0.02035443</td><td> 0.05040420</td><td>0.10909892</td><td>0.05272159</td><td>0.09574646</td><td>0.0341998</td><td> 0.2708357</td><td>0.22941451</td><td>0.07052794</td></tr>\n",
       "\t<tr><th scope=row>Factor12</th><td> 0.397097869</td><td>0.10562784</td><td> 0.35039354</td><td>0.70750667</td><td>1.29111540</td><td> 1.40298616</td><td>1.00037311</td><td> 1.99322464</td><td>1.54423034</td><td> 2.29333286</td><td>1.52537573</td><td>0.96002052</td><td>3.44605790</td><td>0.5629136</td><td> 0.6273162</td><td>2.60994647</td><td>1.13177213</td></tr>\n",
       "\t<tr><th scope=row>Factor13</th><td> 0.810913803</td><td>2.33768887</td><td> 1.03501059</td><td>0.34113873</td><td>0.73165608</td><td> 3.26058056</td><td>1.47883808</td><td> 0.55116580</td><td>1.25863591</td><td> 1.49086283</td><td>0.99195315</td><td>0.86529223</td><td>1.90130967</td><td>0.9026318</td><td> 0.3130364</td><td>2.15529425</td><td>0.59092965</td></tr>\n",
       "\t<tr><th scope=row>Factor14</th><td> 0.962558811</td><td>1.19904330</td><td>10.68008167</td><td>0.40558852</td><td>0.67869243</td><td> 1.06822494</td><td>1.56107749</td><td> 0.23815790</td><td>0.05914545</td><td> 0.15858230</td><td>0.08733107</td><td>0.27538329</td><td>0.91786167</td><td>1.7105764</td><td> 0.3264523</td><td>0.44748817</td><td>0.05347760</td></tr>\n",
       "\t<tr><th scope=row>Factor15</th><td> 7.717426812</td><td>1.65281554</td><td> 0.29762225</td><td>0.75907376</td><td>0.48846040</td><td> 2.08259645</td><td>0.62882092</td><td> 0.18574699</td><td>0.94174776</td><td> 1.28151695</td><td>0.76989997</td><td>1.02104487</td><td>0.68850619</td><td>0.3307503</td><td> 0.0348310</td><td>0.58003449</td><td>0.31342209</td></tr>\n",
       "\t<tr><th scope=row>Factor16</th><td> 0.051146570</td><td>0.08874757</td><td> 0.08591761</td><td>1.23866210</td><td>1.28627992</td><td> 3.46268972</td><td>0.97070372</td><td> 0.54718654</td><td>1.22046187</td><td> 1.92985375</td><td>1.10583616</td><td>0.55450066</td><td>1.10055959</td><td>1.9809491</td><td> 0.2969451</td><td>1.02466369</td><td>0.86350658</td></tr>\n",
       "\t<tr><th scope=row>Factor17</th><td> 0.057388452</td><td>0.76748265</td><td> 0.61270344</td><td>0.14747058</td><td>4.92169285</td><td> 0.80029738</td><td>1.14689725</td><td> 0.89256156</td><td>0.01251880</td><td> 0.03379691</td><td>0.09460063</td><td>0.44923308</td><td>0.94690824</td><td>1.4695188</td><td> 0.5230914</td><td>0.32661657</td><td>0.18029713</td></tr>\n",
       "\t<tr><th scope=row>Factor18</th><td> 0.087585425</td><td>0.57447223</td><td> 0.53764372</td><td>0.22262494</td><td>1.06532907</td><td> 1.54341155</td><td>1.77204164</td><td> 0.21271695</td><td>0.62125246</td><td> 0.78524207</td><td>0.67676316</td><td>0.52095529</td><td>1.05728305</td><td>0.4605392</td><td> 0.5872352</td><td>1.84759892</td><td>0.60858869</td></tr>\n",
       "\t<tr><th scope=row>Factor19</th><td> 0.001259885</td><td>0.32524054</td><td> 0.24442150</td><td>0.28272483</td><td>0.76962037</td><td> 1.45933892</td><td>1.61166422</td><td> 0.61354662</td><td>0.90405876</td><td> 0.93737895</td><td>0.96612063</td><td>0.59501084</td><td>0.72827391</td><td>1.6017266</td><td> 0.3320817</td><td>1.03145503</td><td>0.60417562</td></tr>\n",
       "\t<tr><th scope=row>Factor20</th><td> 0.044709585</td><td>0.24509168</td><td> 0.81530899</td><td>0.74579667</td><td>1.52988377</td><td> 1.68826691</td><td>1.98243071</td><td> 0.03609237</td><td>0.63906528</td><td> 0.69295064</td><td>0.27509466</td><td>0.24864456</td><td>0.37660721</td><td>1.1708866</td><td> 0.2835026</td><td>0.31676446</td><td>0.37944037</td></tr>\n",
       "</tbody>\n",
       "</table>\n"
      ],
      "text/latex": [
       "A matrix: 20 × 17 of type dbl\n",
       "\\begin{tabular}{r|lllllllllllllllll}\n",
       "  & clinical\\_data & cytokine & neutrophil & proteomics & Bcell & CD14Mono & CD16Mono & CD4CTL & CD4Naive & CD4TCM & CD4TEM & CD8Naive & CD8TEM & cDC2 & gdT & NK & Treg\\\\\n",
       "\\hline\n",
       "\tFactor1 &  0.873810151 & 0.41208247 &  0.17941786 & 0.07240222 & 5.81187024 &  8.13262332 & 5.68176399 &  3.32007809 & 7.15859613 & 16.60355010 & 9.62883127 & 4.80843364 & 9.66037941 & 5.5570212 &  2.6954884 & 7.60756732 & 5.14768905\\\\\n",
       "\tFactor2 & 20.608269198 & 1.92985624 &  0.38847701 & 1.08341122 & 4.19811132 &  8.99574680 & 4.95492172 &  2.17492511 & 4.52020904 &  8.41198698 & 5.50545349 & 2.70127914 & 6.18690705 & 3.3692759 &  1.7934285 & 7.48127126 & 3.01428712\\\\\n",
       "\tFactor3 & 13.961061229 & 2.68548615 &  0.77963685 & 4.53233042 & 1.65737868 &  4.02665712 & 2.36816432 &  1.15636476 & 3.16434024 &  4.25915507 & 1.88464006 & 1.86538442 & 2.13505812 & 1.9940763 &  1.4548743 & 3.37804947 & 1.83485776\\\\\n",
       "\tFactor4 &  1.410361699 & 1.94708663 &  1.19775397 & 0.98707279 & 3.65659447 &  5.72955483 & 3.66461723 &  1.78721318 & 2.75372858 &  5.46213168 & 3.32941830 & 1.16863815 & 4.09767249 & 2.4818329 &  1.7419774 & 6.15393785 & 1.40610212\\\\\n",
       "\tFactor5 &  0.013974434 & 0.64314861 &  0.08847001 & 0.04269230 & 0.50561878 &  0.04134448 & 0.04043960 &  0.46641514 & 0.62382201 &  0.58625723 & 0.40494843 & 0.57646299 & 0.29877500 & 0.1333863 & 36.6279048 & 0.08357876 & 0.23402447\\\\\n",
       "\tFactor6 &  8.643252368 & 1.34704924 &  0.42160748 & 0.69027299 & 1.94557928 &  3.28775887 & 1.83338130 &  0.66909288 & 2.06543893 &  4.88006708 & 2.60503738 & 1.99137349 & 1.94269367 & 0.9380353 &  0.5959517 & 2.72226185 & 1.08191168\\\\\n",
       "\tFactor7 &  0.223657801 & 0.31540663 &  0.22497219 & 0.51919025 & 2.95892424 &  0.27075583 & 0.30106967 &  0.87423041 & 1.28961617 &  6.23852549 & 3.41954004 & 0.99105320 & 0.89168562 & 0.8006543 &  0.1448503 & 0.44937242 & 6.13028988\\\\\n",
       "\tFactor8 &  2.696890434 & 0.80568950 &  0.40420809 & 0.38543577 & 0.74751568 & 12.22887850 & 3.35660651 &  0.20356659 & 0.06449665 &  0.51784481 & 0.38937891 & 0.11597669 & 0.32902035 & 0.8998609 &  0.3063153 & 0.71473590 & 0.38100009\\\\\n",
       "\tFactor9 &  2.883090167 & 1.22751676 &  0.18160372 & 0.20091506 & 1.77235611 &  1.40053535 & 0.83170530 &  1.04190818 & 1.57118881 &  3.63492523 & 2.33878373 & 1.11810744 & 1.89475361 & 1.1168541 &  0.8788255 & 1.21534401 & 0.99333325\\\\\n",
       "\tFactor10 &  0.054043329 & 4.06269468 &  0.27998332 & 0.67857331 & 1.33818210 &  0.57359139 & 1.14662219 &  0.69856972 & 0.64218828 &  1.35739888 & 0.98909344 & 0.12224235 & 1.47919824 & 1.0854253 &  0.8988587 & 1.31947570 & 6.98018367\\\\\n",
       "\tFactor11 &  0.102857133 & 0.24568568 &  0.03143075 & 0.07234962 & 0.08844075 &  0.01786672 & 0.05302011 & 21.62825168 & 0.02035443 &  0.05040420 & 0.10909892 & 0.05272159 & 0.09574646 & 0.0341998 &  0.2708357 & 0.22941451 & 0.07052794\\\\\n",
       "\tFactor12 &  0.397097869 & 0.10562784 &  0.35039354 & 0.70750667 & 1.29111540 &  1.40298616 & 1.00037311 &  1.99322464 & 1.54423034 &  2.29333286 & 1.52537573 & 0.96002052 & 3.44605790 & 0.5629136 &  0.6273162 & 2.60994647 & 1.13177213\\\\\n",
       "\tFactor13 &  0.810913803 & 2.33768887 &  1.03501059 & 0.34113873 & 0.73165608 &  3.26058056 & 1.47883808 &  0.55116580 & 1.25863591 &  1.49086283 & 0.99195315 & 0.86529223 & 1.90130967 & 0.9026318 &  0.3130364 & 2.15529425 & 0.59092965\\\\\n",
       "\tFactor14 &  0.962558811 & 1.19904330 & 10.68008167 & 0.40558852 & 0.67869243 &  1.06822494 & 1.56107749 &  0.23815790 & 0.05914545 &  0.15858230 & 0.08733107 & 0.27538329 & 0.91786167 & 1.7105764 &  0.3264523 & 0.44748817 & 0.05347760\\\\\n",
       "\tFactor15 &  7.717426812 & 1.65281554 &  0.29762225 & 0.75907376 & 0.48846040 &  2.08259645 & 0.62882092 &  0.18574699 & 0.94174776 &  1.28151695 & 0.76989997 & 1.02104487 & 0.68850619 & 0.3307503 &  0.0348310 & 0.58003449 & 0.31342209\\\\\n",
       "\tFactor16 &  0.051146570 & 0.08874757 &  0.08591761 & 1.23866210 & 1.28627992 &  3.46268972 & 0.97070372 &  0.54718654 & 1.22046187 &  1.92985375 & 1.10583616 & 0.55450066 & 1.10055959 & 1.9809491 &  0.2969451 & 1.02466369 & 0.86350658\\\\\n",
       "\tFactor17 &  0.057388452 & 0.76748265 &  0.61270344 & 0.14747058 & 4.92169285 &  0.80029738 & 1.14689725 &  0.89256156 & 0.01251880 &  0.03379691 & 0.09460063 & 0.44923308 & 0.94690824 & 1.4695188 &  0.5230914 & 0.32661657 & 0.18029713\\\\\n",
       "\tFactor18 &  0.087585425 & 0.57447223 &  0.53764372 & 0.22262494 & 1.06532907 &  1.54341155 & 1.77204164 &  0.21271695 & 0.62125246 &  0.78524207 & 0.67676316 & 0.52095529 & 1.05728305 & 0.4605392 &  0.5872352 & 1.84759892 & 0.60858869\\\\\n",
       "\tFactor19 &  0.001259885 & 0.32524054 &  0.24442150 & 0.28272483 & 0.76962037 &  1.45933892 & 1.61166422 &  0.61354662 & 0.90405876 &  0.93737895 & 0.96612063 & 0.59501084 & 0.72827391 & 1.6017266 &  0.3320817 & 1.03145503 & 0.60417562\\\\\n",
       "\tFactor20 &  0.044709585 & 0.24509168 &  0.81530899 & 0.74579667 & 1.52988377 &  1.68826691 & 1.98243071 &  0.03609237 & 0.63906528 &  0.69295064 & 0.27509466 & 0.24864456 & 0.37660721 & 1.1708866 &  0.2835026 & 0.31676446 & 0.37944037\\\\\n",
       "\\end{tabular}\n"
      ],
      "text/markdown": [
       "\n",
       "A matrix: 20 × 17 of type dbl\n",
       "\n",
       "| <!--/--> | clinical_data | cytokine | neutrophil | proteomics | Bcell | CD14Mono | CD16Mono | CD4CTL | CD4Naive | CD4TCM | CD4TEM | CD8Naive | CD8TEM | cDC2 | gdT | NK | Treg |\n",
       "|---|---|---|---|---|---|---|---|---|---|---|---|---|---|---|---|---|---|\n",
       "| Factor1 |  0.873810151 | 0.41208247 |  0.17941786 | 0.07240222 | 5.81187024 |  8.13262332 | 5.68176399 |  3.32007809 | 7.15859613 | 16.60355010 | 9.62883127 | 4.80843364 | 9.66037941 | 5.5570212 |  2.6954884 | 7.60756732 | 5.14768905 |\n",
       "| Factor2 | 20.608269198 | 1.92985624 |  0.38847701 | 1.08341122 | 4.19811132 |  8.99574680 | 4.95492172 |  2.17492511 | 4.52020904 |  8.41198698 | 5.50545349 | 2.70127914 | 6.18690705 | 3.3692759 |  1.7934285 | 7.48127126 | 3.01428712 |\n",
       "| Factor3 | 13.961061229 | 2.68548615 |  0.77963685 | 4.53233042 | 1.65737868 |  4.02665712 | 2.36816432 |  1.15636476 | 3.16434024 |  4.25915507 | 1.88464006 | 1.86538442 | 2.13505812 | 1.9940763 |  1.4548743 | 3.37804947 | 1.83485776 |\n",
       "| Factor4 |  1.410361699 | 1.94708663 |  1.19775397 | 0.98707279 | 3.65659447 |  5.72955483 | 3.66461723 |  1.78721318 | 2.75372858 |  5.46213168 | 3.32941830 | 1.16863815 | 4.09767249 | 2.4818329 |  1.7419774 | 6.15393785 | 1.40610212 |\n",
       "| Factor5 |  0.013974434 | 0.64314861 |  0.08847001 | 0.04269230 | 0.50561878 |  0.04134448 | 0.04043960 |  0.46641514 | 0.62382201 |  0.58625723 | 0.40494843 | 0.57646299 | 0.29877500 | 0.1333863 | 36.6279048 | 0.08357876 | 0.23402447 |\n",
       "| Factor6 |  8.643252368 | 1.34704924 |  0.42160748 | 0.69027299 | 1.94557928 |  3.28775887 | 1.83338130 |  0.66909288 | 2.06543893 |  4.88006708 | 2.60503738 | 1.99137349 | 1.94269367 | 0.9380353 |  0.5959517 | 2.72226185 | 1.08191168 |\n",
       "| Factor7 |  0.223657801 | 0.31540663 |  0.22497219 | 0.51919025 | 2.95892424 |  0.27075583 | 0.30106967 |  0.87423041 | 1.28961617 |  6.23852549 | 3.41954004 | 0.99105320 | 0.89168562 | 0.8006543 |  0.1448503 | 0.44937242 | 6.13028988 |\n",
       "| Factor8 |  2.696890434 | 0.80568950 |  0.40420809 | 0.38543577 | 0.74751568 | 12.22887850 | 3.35660651 |  0.20356659 | 0.06449665 |  0.51784481 | 0.38937891 | 0.11597669 | 0.32902035 | 0.8998609 |  0.3063153 | 0.71473590 | 0.38100009 |\n",
       "| Factor9 |  2.883090167 | 1.22751676 |  0.18160372 | 0.20091506 | 1.77235611 |  1.40053535 | 0.83170530 |  1.04190818 | 1.57118881 |  3.63492523 | 2.33878373 | 1.11810744 | 1.89475361 | 1.1168541 |  0.8788255 | 1.21534401 | 0.99333325 |\n",
       "| Factor10 |  0.054043329 | 4.06269468 |  0.27998332 | 0.67857331 | 1.33818210 |  0.57359139 | 1.14662219 |  0.69856972 | 0.64218828 |  1.35739888 | 0.98909344 | 0.12224235 | 1.47919824 | 1.0854253 |  0.8988587 | 1.31947570 | 6.98018367 |\n",
       "| Factor11 |  0.102857133 | 0.24568568 |  0.03143075 | 0.07234962 | 0.08844075 |  0.01786672 | 0.05302011 | 21.62825168 | 0.02035443 |  0.05040420 | 0.10909892 | 0.05272159 | 0.09574646 | 0.0341998 |  0.2708357 | 0.22941451 | 0.07052794 |\n",
       "| Factor12 |  0.397097869 | 0.10562784 |  0.35039354 | 0.70750667 | 1.29111540 |  1.40298616 | 1.00037311 |  1.99322464 | 1.54423034 |  2.29333286 | 1.52537573 | 0.96002052 | 3.44605790 | 0.5629136 |  0.6273162 | 2.60994647 | 1.13177213 |\n",
       "| Factor13 |  0.810913803 | 2.33768887 |  1.03501059 | 0.34113873 | 0.73165608 |  3.26058056 | 1.47883808 |  0.55116580 | 1.25863591 |  1.49086283 | 0.99195315 | 0.86529223 | 1.90130967 | 0.9026318 |  0.3130364 | 2.15529425 | 0.59092965 |\n",
       "| Factor14 |  0.962558811 | 1.19904330 | 10.68008167 | 0.40558852 | 0.67869243 |  1.06822494 | 1.56107749 |  0.23815790 | 0.05914545 |  0.15858230 | 0.08733107 | 0.27538329 | 0.91786167 | 1.7105764 |  0.3264523 | 0.44748817 | 0.05347760 |\n",
       "| Factor15 |  7.717426812 | 1.65281554 |  0.29762225 | 0.75907376 | 0.48846040 |  2.08259645 | 0.62882092 |  0.18574699 | 0.94174776 |  1.28151695 | 0.76989997 | 1.02104487 | 0.68850619 | 0.3307503 |  0.0348310 | 0.58003449 | 0.31342209 |\n",
       "| Factor16 |  0.051146570 | 0.08874757 |  0.08591761 | 1.23866210 | 1.28627992 |  3.46268972 | 0.97070372 |  0.54718654 | 1.22046187 |  1.92985375 | 1.10583616 | 0.55450066 | 1.10055959 | 1.9809491 |  0.2969451 | 1.02466369 | 0.86350658 |\n",
       "| Factor17 |  0.057388452 | 0.76748265 |  0.61270344 | 0.14747058 | 4.92169285 |  0.80029738 | 1.14689725 |  0.89256156 | 0.01251880 |  0.03379691 | 0.09460063 | 0.44923308 | 0.94690824 | 1.4695188 |  0.5230914 | 0.32661657 | 0.18029713 |\n",
       "| Factor18 |  0.087585425 | 0.57447223 |  0.53764372 | 0.22262494 | 1.06532907 |  1.54341155 | 1.77204164 |  0.21271695 | 0.62125246 |  0.78524207 | 0.67676316 | 0.52095529 | 1.05728305 | 0.4605392 |  0.5872352 | 1.84759892 | 0.60858869 |\n",
       "| Factor19 |  0.001259885 | 0.32524054 |  0.24442150 | 0.28272483 | 0.76962037 |  1.45933892 | 1.61166422 |  0.61354662 | 0.90405876 |  0.93737895 | 0.96612063 | 0.59501084 | 0.72827391 | 1.6017266 |  0.3320817 | 1.03145503 | 0.60417562 |\n",
       "| Factor20 |  0.044709585 | 0.24509168 |  0.81530899 | 0.74579667 | 1.52988377 |  1.68826691 | 1.98243071 |  0.03609237 | 0.63906528 |  0.69295064 | 0.27509466 | 0.24864456 | 0.37660721 | 1.1708866 |  0.2835026 | 0.31676446 | 0.37944037 |\n",
       "\n"
      ],
      "text/plain": [
       "         clinical_data cytokine   neutrophil  proteomics Bcell      CD14Mono   \n",
       "Factor1   0.873810151  0.41208247  0.17941786 0.07240222 5.81187024  8.13262332\n",
       "Factor2  20.608269198  1.92985624  0.38847701 1.08341122 4.19811132  8.99574680\n",
       "Factor3  13.961061229  2.68548615  0.77963685 4.53233042 1.65737868  4.02665712\n",
       "Factor4   1.410361699  1.94708663  1.19775397 0.98707279 3.65659447  5.72955483\n",
       "Factor5   0.013974434  0.64314861  0.08847001 0.04269230 0.50561878  0.04134448\n",
       "Factor6   8.643252368  1.34704924  0.42160748 0.69027299 1.94557928  3.28775887\n",
       "Factor7   0.223657801  0.31540663  0.22497219 0.51919025 2.95892424  0.27075583\n",
       "Factor8   2.696890434  0.80568950  0.40420809 0.38543577 0.74751568 12.22887850\n",
       "Factor9   2.883090167  1.22751676  0.18160372 0.20091506 1.77235611  1.40053535\n",
       "Factor10  0.054043329  4.06269468  0.27998332 0.67857331 1.33818210  0.57359139\n",
       "Factor11  0.102857133  0.24568568  0.03143075 0.07234962 0.08844075  0.01786672\n",
       "Factor12  0.397097869  0.10562784  0.35039354 0.70750667 1.29111540  1.40298616\n",
       "Factor13  0.810913803  2.33768887  1.03501059 0.34113873 0.73165608  3.26058056\n",
       "Factor14  0.962558811  1.19904330 10.68008167 0.40558852 0.67869243  1.06822494\n",
       "Factor15  7.717426812  1.65281554  0.29762225 0.75907376 0.48846040  2.08259645\n",
       "Factor16  0.051146570  0.08874757  0.08591761 1.23866210 1.28627992  3.46268972\n",
       "Factor17  0.057388452  0.76748265  0.61270344 0.14747058 4.92169285  0.80029738\n",
       "Factor18  0.087585425  0.57447223  0.53764372 0.22262494 1.06532907  1.54341155\n",
       "Factor19  0.001259885  0.32524054  0.24442150 0.28272483 0.76962037  1.45933892\n",
       "Factor20  0.044709585  0.24509168  0.81530899 0.74579667 1.52988377  1.68826691\n",
       "         CD16Mono   CD4CTL      CD4Naive   CD4TCM      CD4TEM     CD8Naive  \n",
       "Factor1  5.68176399  3.32007809 7.15859613 16.60355010 9.62883127 4.80843364\n",
       "Factor2  4.95492172  2.17492511 4.52020904  8.41198698 5.50545349 2.70127914\n",
       "Factor3  2.36816432  1.15636476 3.16434024  4.25915507 1.88464006 1.86538442\n",
       "Factor4  3.66461723  1.78721318 2.75372858  5.46213168 3.32941830 1.16863815\n",
       "Factor5  0.04043960  0.46641514 0.62382201  0.58625723 0.40494843 0.57646299\n",
       "Factor6  1.83338130  0.66909288 2.06543893  4.88006708 2.60503738 1.99137349\n",
       "Factor7  0.30106967  0.87423041 1.28961617  6.23852549 3.41954004 0.99105320\n",
       "Factor8  3.35660651  0.20356659 0.06449665  0.51784481 0.38937891 0.11597669\n",
       "Factor9  0.83170530  1.04190818 1.57118881  3.63492523 2.33878373 1.11810744\n",
       "Factor10 1.14662219  0.69856972 0.64218828  1.35739888 0.98909344 0.12224235\n",
       "Factor11 0.05302011 21.62825168 0.02035443  0.05040420 0.10909892 0.05272159\n",
       "Factor12 1.00037311  1.99322464 1.54423034  2.29333286 1.52537573 0.96002052\n",
       "Factor13 1.47883808  0.55116580 1.25863591  1.49086283 0.99195315 0.86529223\n",
       "Factor14 1.56107749  0.23815790 0.05914545  0.15858230 0.08733107 0.27538329\n",
       "Factor15 0.62882092  0.18574699 0.94174776  1.28151695 0.76989997 1.02104487\n",
       "Factor16 0.97070372  0.54718654 1.22046187  1.92985375 1.10583616 0.55450066\n",
       "Factor17 1.14689725  0.89256156 0.01251880  0.03379691 0.09460063 0.44923308\n",
       "Factor18 1.77204164  0.21271695 0.62125246  0.78524207 0.67676316 0.52095529\n",
       "Factor19 1.61166422  0.61354662 0.90405876  0.93737895 0.96612063 0.59501084\n",
       "Factor20 1.98243071  0.03609237 0.63906528  0.69295064 0.27509466 0.24864456\n",
       "         CD8TEM     cDC2      gdT        NK         Treg      \n",
       "Factor1  9.66037941 5.5570212  2.6954884 7.60756732 5.14768905\n",
       "Factor2  6.18690705 3.3692759  1.7934285 7.48127126 3.01428712\n",
       "Factor3  2.13505812 1.9940763  1.4548743 3.37804947 1.83485776\n",
       "Factor4  4.09767249 2.4818329  1.7419774 6.15393785 1.40610212\n",
       "Factor5  0.29877500 0.1333863 36.6279048 0.08357876 0.23402447\n",
       "Factor6  1.94269367 0.9380353  0.5959517 2.72226185 1.08191168\n",
       "Factor7  0.89168562 0.8006543  0.1448503 0.44937242 6.13028988\n",
       "Factor8  0.32902035 0.8998609  0.3063153 0.71473590 0.38100009\n",
       "Factor9  1.89475361 1.1168541  0.8788255 1.21534401 0.99333325\n",
       "Factor10 1.47919824 1.0854253  0.8988587 1.31947570 6.98018367\n",
       "Factor11 0.09574646 0.0341998  0.2708357 0.22941451 0.07052794\n",
       "Factor12 3.44605790 0.5629136  0.6273162 2.60994647 1.13177213\n",
       "Factor13 1.90130967 0.9026318  0.3130364 2.15529425 0.59092965\n",
       "Factor14 0.91786167 1.7105764  0.3264523 0.44748817 0.05347760\n",
       "Factor15 0.68850619 0.3307503  0.0348310 0.58003449 0.31342209\n",
       "Factor16 1.10055959 1.9809491  0.2969451 1.02466369 0.86350658\n",
       "Factor17 0.94690824 1.4695188  0.5230914 0.32661657 0.18029713\n",
       "Factor18 1.05728305 0.4605392  0.5872352 1.84759892 0.60858869\n",
       "Factor19 0.72827391 1.6017266  0.3320817 1.03145503 0.60417562\n",
       "Factor20 0.37660721 1.1708866  0.2835026 0.31676446 0.37944037"
      ]
     },
     "metadata": {},
     "output_type": "display_data"
    }
   ],
   "source": [
    "# Variance explained for every factor in per view and group\n",
    "model@cache$variance_explained$r2_per_factor[[1]] # group 1, can be summarized per column but not per Factor"
   ]
  },
  {
   "cell_type": "code",
   "execution_count": 110,
   "id": "2f3f7ef4-f19b-40ce-be50-9f2b10e5113c",
   "metadata": {},
   "outputs": [],
   "source": [
    "variant = '_'"
   ]
  },
  {
   "cell_type": "code",
   "execution_count": 111,
   "id": "980b739f-4a19-4a91-8e84-d149e3d4b102",
   "metadata": {},
   "outputs": [],
   "source": [
    "write.csv(model@cache$variance_explained$r2_per_factor[[1]], paste0(result_path, '/G-Analysis/MOFA_Variance_Decomposition_',name, variant, train_opts$weight_views, '.csv'))"
   ]
  },
  {
   "cell_type": "markdown",
   "id": "52ab1ab6-98fc-4b63-9971-67c781b98e11",
   "metadata": {
    "tags": []
   },
   "source": [
    "# Extract and prepare data for plots"
   ]
  },
  {
   "cell_type": "markdown",
   "id": "2cba252d-5de2-4322-9d06-a09cb8326ed4",
   "metadata": {
    "tags": []
   },
   "source": [
    "## Adjust sample data columns"
   ]
  },
  {
   "cell_type": "code",
   "execution_count": 112,
   "id": "8f4bb000-92b4-4275-bad9-ed17ec693aab",
   "metadata": {},
   "outputs": [],
   "source": [
    "## Recode some sample data columns and generate new ones"
   ]
  },
  {
   "cell_type": "code",
   "execution_count": 113,
   "id": "66ab4bc2-5d2e-48d3-896c-e1af46bc9b61",
   "metadata": {},
   "outputs": [],
   "source": [
    "sample_data$class = sample_data$group"
   ]
  },
  {
   "cell_type": "code",
   "execution_count": 114,
   "id": "1575bb6a-0fa3-4753-8d35-ada309d94114",
   "metadata": {},
   "outputs": [],
   "source": [
    "sample_data$measurement2 = sample_data$measurement"
   ]
  },
  {
   "cell_type": "code",
   "execution_count": 115,
   "id": "901cf041-92b4-4fc0-8ed0-d6d5b5668d37",
   "metadata": {},
   "outputs": [],
   "source": [
    "sample_data$measurement2[sample_data$class %in% c('no_ccs', 'ccs')] = paste0(sample_data$measurement[sample_data$class %in% c('no_ccs', 'ccs')] , '_', sample_data$class[sample_data$class %in% c('no_ccs', 'ccs')])"
   ]
  },
  {
   "cell_type": "code",
   "execution_count": 116,
   "id": "b8e10e51-5055-4bd7-b88e-16eb7d59c7a2",
   "metadata": {},
   "outputs": [],
   "source": [
    "sample_data$measurement_class =  paste0(sample_data$measurement , '_', sample_data$classification)"
   ]
  },
  {
   "cell_type": "code",
   "execution_count": 117,
   "id": "830fd5e6-2d0e-48af-ab63-b4fc77d9f555",
   "metadata": {},
   "outputs": [
    {
     "data": {
      "text/html": [
       "<style>\n",
       ".list-inline {list-style: none; margin:0; padding: 0}\n",
       ".list-inline>li {display: inline-block}\n",
       ".list-inline>li:not(:last-child)::after {content: \"\\00b7\"; padding: 0 .5ex}\n",
       "</style>\n",
       "<ol class=list-inline><li>'TP0_no_ccs'</li><li>'TP0_ccs'</li><li>'TP1'</li><li>'TP2'</li><li>'TP3'</li><li>'TP4'</li></ol>\n"
      ],
      "text/latex": [
       "\\begin{enumerate*}\n",
       "\\item 'TP0\\_no\\_ccs'\n",
       "\\item 'TP0\\_ccs'\n",
       "\\item 'TP1'\n",
       "\\item 'TP2'\n",
       "\\item 'TP3'\n",
       "\\item 'TP4'\n",
       "\\end{enumerate*}\n"
      ],
      "text/markdown": [
       "1. 'TP0_no_ccs'\n",
       "2. 'TP0_ccs'\n",
       "3. 'TP1'\n",
       "4. 'TP2'\n",
       "5. 'TP3'\n",
       "6. 'TP4'\n",
       "\n",
       "\n"
      ],
      "text/plain": [
       "[1] \"TP0_no_ccs\" \"TP0_ccs\"    \"TP1\"        \"TP2\"        \"TP3\"       \n",
       "[6] \"TP4\"       "
      ]
     },
     "metadata": {},
     "output_type": "display_data"
    }
   ],
   "source": [
    "unique(sample_data$measurement2)"
   ]
  },
  {
   "cell_type": "code",
   "execution_count": 118,
   "id": "3a952ede-0745-4a01-9cb5-97ad31799be6",
   "metadata": {},
   "outputs": [],
   "source": [
    "#unique(sample_data$measurement_class)"
   ]
  },
  {
   "cell_type": "code",
   "execution_count": 119,
   "id": "c18a51a1-9c9b-4aec-b78e-0152bafb7546",
   "metadata": {},
   "outputs": [],
   "source": [
    "# Summarize good and intermediate outcome    \n",
    "sample_data$delta_ef_value_class_summarized = sample_data$delta_ef_value_class\n",
    "sample_data$delta_ef_value_class_summarized[sample_data$delta_ef_value_class %in% c('intermediate')] = 'good'"
   ]
  },
  {
   "cell_type": "code",
   "execution_count": 120,
   "id": "72b872f0-d874-463c-83b7-134bae1f709c",
   "metadata": {},
   "outputs": [
    {
     "data": {
      "text/html": [
       "<style>\n",
       ".list-inline {list-style: none; margin:0; padding: 0}\n",
       ".list-inline>li {display: inline-block}\n",
       ".list-inline>li:not(:last-child)::after {content: \"\\00b7\"; padding: 0 .5ex}\n",
       "</style>\n",
       "<ol class=list-inline><li>NA</li><li>'bad'</li><li>'good'</li></ol>\n"
      ],
      "text/latex": [
       "\\begin{enumerate*}\n",
       "\\item NA\n",
       "\\item 'bad'\n",
       "\\item 'good'\n",
       "\\end{enumerate*}\n"
      ],
      "text/markdown": [
       "1. NA\n",
       "2. 'bad'\n",
       "3. 'good'\n",
       "\n",
       "\n"
      ],
      "text/plain": [
       "[1] NA     \"bad\"  \"good\""
      ]
     },
     "metadata": {},
     "output_type": "display_data"
    }
   ],
   "source": [
    "unique(sample_data$delta_ef_value_class_summarized)"
   ]
  },
  {
   "cell_type": "code",
   "execution_count": 121,
   "id": "2d739f74-731c-425c-bb3f-7c506abab006",
   "metadata": {},
   "outputs": [],
   "source": [
    "## Concatenate outcome with class"
   ]
  },
  {
   "cell_type": "code",
   "execution_count": 122,
   "id": "b9c5e7ec-caf9-4175-9351-d6a7d48961cc",
   "metadata": {},
   "outputs": [],
   "source": [
    "sample_data$tp_outcome = paste0(sample_data$measurement, '_', sample_data$delta_ef_value_class_summarized)"
   ]
  },
  {
   "cell_type": "code",
   "execution_count": 123,
   "id": "018a68c1-0721-4d33-accf-f8df1055801b",
   "metadata": {},
   "outputs": [
    {
     "data": {
      "text/html": [
       "<style>\n",
       ".list-inline {list-style: none; margin:0; padding: 0}\n",
       ".list-inline>li {display: inline-block}\n",
       ".list-inline>li:not(:last-child)::after {content: \"\\00b7\"; padding: 0 .5ex}\n",
       "</style>\n",
       "<ol class=list-inline><li>'TP0_NA'</li><li>'TP1_NA'</li><li>'TP2_NA'</li><li>'TP3_NA'</li><li>'TP4_NA'</li><li>'TP1_bad'</li><li>'TP2_bad'</li><li>'TP3_bad'</li><li>'TP4_bad'</li><li>'TP1_good'</li><li>'TP2_good'</li><li>'TP3_good'</li><li>'TP4_good'</li></ol>\n"
      ],
      "text/latex": [
       "\\begin{enumerate*}\n",
       "\\item 'TP0\\_NA'\n",
       "\\item 'TP1\\_NA'\n",
       "\\item 'TP2\\_NA'\n",
       "\\item 'TP3\\_NA'\n",
       "\\item 'TP4\\_NA'\n",
       "\\item 'TP1\\_bad'\n",
       "\\item 'TP2\\_bad'\n",
       "\\item 'TP3\\_bad'\n",
       "\\item 'TP4\\_bad'\n",
       "\\item 'TP1\\_good'\n",
       "\\item 'TP2\\_good'\n",
       "\\item 'TP3\\_good'\n",
       "\\item 'TP4\\_good'\n",
       "\\end{enumerate*}\n"
      ],
      "text/markdown": [
       "1. 'TP0_NA'\n",
       "2. 'TP1_NA'\n",
       "3. 'TP2_NA'\n",
       "4. 'TP3_NA'\n",
       "5. 'TP4_NA'\n",
       "6. 'TP1_bad'\n",
       "7. 'TP2_bad'\n",
       "8. 'TP3_bad'\n",
       "9. 'TP4_bad'\n",
       "10. 'TP1_good'\n",
       "11. 'TP2_good'\n",
       "12. 'TP3_good'\n",
       "13. 'TP4_good'\n",
       "\n",
       "\n"
      ],
      "text/plain": [
       " [1] \"TP0_NA\"   \"TP1_NA\"   \"TP2_NA\"   \"TP3_NA\"   \"TP4_NA\"   \"TP1_bad\" \n",
       " [7] \"TP2_bad\"  \"TP3_bad\"  \"TP4_bad\"  \"TP1_good\" \"TP2_good\" \"TP3_good\"\n",
       "[13] \"TP4_good\""
      ]
     },
     "metadata": {},
     "output_type": "display_data"
    }
   ],
   "source": [
    "unique(sample_data$tp_outcome)"
   ]
  },
  {
   "cell_type": "markdown",
   "id": "705fd53f-47f4-4b44-9436-f88023fd40c1",
   "metadata": {
    "tags": []
   },
   "source": [
    "## Extract data (for potential supplementary tables)"
   ]
  },
  {
   "cell_type": "code",
   "execution_count": 124,
   "id": "ba298fa3-b66e-4943-8dd8-b2fb46d0ee93",
   "metadata": {},
   "outputs": [],
   "source": [
    "#### Extract factors "
   ]
  },
  {
   "cell_type": "code",
   "execution_count": 125,
   "id": "341e66a1-0260-4b21-a80b-b0ecc6601f91",
   "metadata": {},
   "outputs": [],
   "source": [
    "factors = get_factors(model, factors = \"all\")"
   ]
  },
  {
   "cell_type": "code",
   "execution_count": 126,
   "id": "d2c3eb91-1150-4bc9-8595-506f20795b41",
   "metadata": {},
   "outputs": [],
   "source": [
    "factors = factors$group1"
   ]
  },
  {
   "cell_type": "code",
   "execution_count": 127,
   "id": "c9b8bc48-5d43-420e-93f6-73df28ea4a69",
   "metadata": {},
   "outputs": [
    {
     "data": {
      "text/html": [
       "<table class=\"dataframe\">\n",
       "<caption>A matrix: 2 × 20 of type dbl</caption>\n",
       "<thead>\n",
       "\t<tr><th></th><th scope=col>Factor1</th><th scope=col>Factor2</th><th scope=col>Factor3</th><th scope=col>Factor4</th><th scope=col>Factor5</th><th scope=col>Factor6</th><th scope=col>Factor7</th><th scope=col>Factor8</th><th scope=col>Factor9</th><th scope=col>Factor10</th><th scope=col>Factor11</th><th scope=col>Factor12</th><th scope=col>Factor13</th><th scope=col>Factor14</th><th scope=col>Factor15</th><th scope=col>Factor16</th><th scope=col>Factor17</th><th scope=col>Factor18</th><th scope=col>Factor19</th><th scope=col>Factor20</th></tr>\n",
       "</thead>\n",
       "<tbody>\n",
       "\t<tr><th scope=row>k1</th><td>0.2822028</td><td>-1.255954</td><td>-0.5339003</td><td>1.1204467</td><td>-0.4666922</td><td>1.248439</td><td>0.2075903</td><td>-0.3646179</td><td>-0.4024226</td><td>0.78832135</td><td> 0.4306400</td><td>0.05325919</td><td>0.2773824</td><td>0.1330336</td><td>-0.7632523</td><td>-0.04660508</td><td> 0.95971046</td><td> 0.4317791</td><td>-0.4674157</td><td>-0.45888943</td></tr>\n",
       "\t<tr><th scope=row>k10</th><td>0.6928825</td><td>-1.038056</td><td> 0.3393354</td><td>0.2294335</td><td> 0.1052094</td><td>0.801152</td><td>0.3677501</td><td> 1.4177218</td><td>-0.5804093</td><td>0.04100113</td><td>-0.1512732</td><td>0.22233569</td><td>0.3112234</td><td>0.0422479</td><td> 0.1419886</td><td>-0.04503017</td><td>-0.04460783</td><td>-0.1863946</td><td>-0.2670198</td><td>-0.03163122</td></tr>\n",
       "</tbody>\n",
       "</table>\n"
      ],
      "text/latex": [
       "A matrix: 2 × 20 of type dbl\n",
       "\\begin{tabular}{r|llllllllllllllllllll}\n",
       "  & Factor1 & Factor2 & Factor3 & Factor4 & Factor5 & Factor6 & Factor7 & Factor8 & Factor9 & Factor10 & Factor11 & Factor12 & Factor13 & Factor14 & Factor15 & Factor16 & Factor17 & Factor18 & Factor19 & Factor20\\\\\n",
       "\\hline\n",
       "\tk1 & 0.2822028 & -1.255954 & -0.5339003 & 1.1204467 & -0.4666922 & 1.248439 & 0.2075903 & -0.3646179 & -0.4024226 & 0.78832135 &  0.4306400 & 0.05325919 & 0.2773824 & 0.1330336 & -0.7632523 & -0.04660508 &  0.95971046 &  0.4317791 & -0.4674157 & -0.45888943\\\\\n",
       "\tk10 & 0.6928825 & -1.038056 &  0.3393354 & 0.2294335 &  0.1052094 & 0.801152 & 0.3677501 &  1.4177218 & -0.5804093 & 0.04100113 & -0.1512732 & 0.22233569 & 0.3112234 & 0.0422479 &  0.1419886 & -0.04503017 & -0.04460783 & -0.1863946 & -0.2670198 & -0.03163122\\\\\n",
       "\\end{tabular}\n"
      ],
      "text/markdown": [
       "\n",
       "A matrix: 2 × 20 of type dbl\n",
       "\n",
       "| <!--/--> | Factor1 | Factor2 | Factor3 | Factor4 | Factor5 | Factor6 | Factor7 | Factor8 | Factor9 | Factor10 | Factor11 | Factor12 | Factor13 | Factor14 | Factor15 | Factor16 | Factor17 | Factor18 | Factor19 | Factor20 |\n",
       "|---|---|---|---|---|---|---|---|---|---|---|---|---|---|---|---|---|---|---|---|---|\n",
       "| k1 | 0.2822028 | -1.255954 | -0.5339003 | 1.1204467 | -0.4666922 | 1.248439 | 0.2075903 | -0.3646179 | -0.4024226 | 0.78832135 |  0.4306400 | 0.05325919 | 0.2773824 | 0.1330336 | -0.7632523 | -0.04660508 |  0.95971046 |  0.4317791 | -0.4674157 | -0.45888943 |\n",
       "| k10 | 0.6928825 | -1.038056 |  0.3393354 | 0.2294335 |  0.1052094 | 0.801152 | 0.3677501 |  1.4177218 | -0.5804093 | 0.04100113 | -0.1512732 | 0.22233569 | 0.3112234 | 0.0422479 |  0.1419886 | -0.04503017 | -0.04460783 | -0.1863946 | -0.2670198 | -0.03163122 |\n",
       "\n"
      ],
      "text/plain": [
       "    Factor1   Factor2   Factor3    Factor4   Factor5    Factor6  Factor7  \n",
       "k1  0.2822028 -1.255954 -0.5339003 1.1204467 -0.4666922 1.248439 0.2075903\n",
       "k10 0.6928825 -1.038056  0.3393354 0.2294335  0.1052094 0.801152 0.3677501\n",
       "    Factor8    Factor9    Factor10   Factor11   Factor12   Factor13  Factor14 \n",
       "k1  -0.3646179 -0.4024226 0.78832135  0.4306400 0.05325919 0.2773824 0.1330336\n",
       "k10  1.4177218 -0.5804093 0.04100113 -0.1512732 0.22233569 0.3112234 0.0422479\n",
       "    Factor15   Factor16    Factor17    Factor18   Factor19   Factor20   \n",
       "k1  -0.7632523 -0.04660508  0.95971046  0.4317791 -0.4674157 -0.45888943\n",
       "k10  0.1419886 -0.04503017 -0.04460783 -0.1863946 -0.2670198 -0.03163122"
      ]
     },
     "metadata": {},
     "output_type": "display_data"
    }
   ],
   "source": [
    "head(factors,2)"
   ]
  },
  {
   "cell_type": "code",
   "execution_count": 128,
   "id": "5cbbf44c-d111-4c22-928d-d6aa9a5827c5",
   "metadata": {},
   "outputs": [],
   "source": [
    "factors = as.data.frame(factors)"
   ]
  },
  {
   "cell_type": "code",
   "execution_count": 129,
   "id": "8c528e70-1032-4fe8-8dc1-e4d03603f97e",
   "metadata": {},
   "outputs": [],
   "source": [
    "factors$sample_id = rownames(factors)"
   ]
  },
  {
   "cell_type": "code",
   "execution_count": 130,
   "id": "e56f27b2-b507-4042-a3f6-f3972a756bd0",
   "metadata": {},
   "outputs": [],
   "source": [
    "### Save Factor Data  (Supplementary Table)"
   ]
  },
  {
   "cell_type": "code",
   "execution_count": 131,
   "id": "4b1524a2-55c7-4385-9422-57595f3dc902",
   "metadata": {},
   "outputs": [],
   "source": [
    "write.csv(factors, paste0(result_path, '/G-Analysis/Factor_Data_' , name,'_', train_opts$weight_views,  '.csv'), row.names = FALSE)"
   ]
  },
  {
   "cell_type": "code",
   "execution_count": 132,
   "id": "9de4d307-886b-489c-8551-a322a705a42f",
   "metadata": {},
   "outputs": [],
   "source": [
    "### Feature weight data"
   ]
  },
  {
   "cell_type": "code",
   "execution_count": 133,
   "id": "6287a50f-203b-4378-a12a-15710fbe16f9",
   "metadata": {},
   "outputs": [],
   "source": [
    "weights = get_weights(model, views = \"all\", factors = \"all\")"
   ]
  },
  {
   "cell_type": "code",
   "execution_count": 134,
   "id": "3c06bd48-04f7-479f-be91-aadf93e9447f",
   "metadata": {},
   "outputs": [],
   "source": [
    "weight_data = data.frame()"
   ]
  },
  {
   "cell_type": "code",
   "execution_count": 135,
   "id": "04e7cbf4-fe8a-40ad-94f7-0c27a7717c61",
   "metadata": {},
   "outputs": [
    {
     "data": {
      "text/html": [
       "<style>\n",
       ".list-inline {list-style: none; margin:0; padding: 0}\n",
       ".list-inline>li {display: inline-block}\n",
       ".list-inline>li:not(:last-child)::after {content: \"\\00b7\"; padding: 0 .5ex}\n",
       "</style>\n",
       "<ol class=list-inline><li>'clinical_data'</li><li>'cytokine'</li><li>'neutrophil'</li><li>'proteomics'</li><li>'Bcell'</li><li>'CD14Mono'</li><li>'CD16Mono'</li><li>'CD4CTL'</li><li>'CD4Naive'</li><li>'CD4TCM'</li><li>'CD4TEM'</li><li>'CD8Naive'</li><li>'CD8TEM'</li><li>'cDC2'</li><li>'gdT'</li><li>'NK'</li><li>'Treg'</li></ol>\n"
      ],
      "text/latex": [
       "\\begin{enumerate*}\n",
       "\\item 'clinical\\_data'\n",
       "\\item 'cytokine'\n",
       "\\item 'neutrophil'\n",
       "\\item 'proteomics'\n",
       "\\item 'Bcell'\n",
       "\\item 'CD14Mono'\n",
       "\\item 'CD16Mono'\n",
       "\\item 'CD4CTL'\n",
       "\\item 'CD4Naive'\n",
       "\\item 'CD4TCM'\n",
       "\\item 'CD4TEM'\n",
       "\\item 'CD8Naive'\n",
       "\\item 'CD8TEM'\n",
       "\\item 'cDC2'\n",
       "\\item 'gdT'\n",
       "\\item 'NK'\n",
       "\\item 'Treg'\n",
       "\\end{enumerate*}\n"
      ],
      "text/markdown": [
       "1. 'clinical_data'\n",
       "2. 'cytokine'\n",
       "3. 'neutrophil'\n",
       "4. 'proteomics'\n",
       "5. 'Bcell'\n",
       "6. 'CD14Mono'\n",
       "7. 'CD16Mono'\n",
       "8. 'CD4CTL'\n",
       "9. 'CD4Naive'\n",
       "10. 'CD4TCM'\n",
       "11. 'CD4TEM'\n",
       "12. 'CD8Naive'\n",
       "13. 'CD8TEM'\n",
       "14. 'cDC2'\n",
       "15. 'gdT'\n",
       "16. 'NK'\n",
       "17. 'Treg'\n",
       "\n",
       "\n"
      ],
      "text/plain": [
       " [1] \"clinical_data\" \"cytokine\"      \"neutrophil\"    \"proteomics\"   \n",
       " [5] \"Bcell\"         \"CD14Mono\"      \"CD16Mono\"      \"CD4CTL\"       \n",
       " [9] \"CD4Naive\"      \"CD4TCM\"        \"CD4TEM\"        \"CD8Naive\"     \n",
       "[13] \"CD8TEM\"        \"cDC2\"          \"gdT\"           \"NK\"           \n",
       "[17] \"Treg\"         "
      ]
     },
     "metadata": {},
     "output_type": "display_data"
    }
   ],
   "source": [
    "names(weights)"
   ]
  },
  {
   "cell_type": "code",
   "execution_count": 136,
   "id": "05613fb2-df34-48f9-a7a3-dab90a80665e",
   "metadata": {},
   "outputs": [],
   "source": [
    "for (i in names(weights)){\n",
    "    data = data.frame(weights[[i]])\n",
    "    data$type = i\n",
    "    weight_data = rbind(weight_data,data)\n",
    "    }"
   ]
  },
  {
   "cell_type": "code",
   "execution_count": 137,
   "id": "ead58a16-698e-4cd3-8c69-7fbc4dba519e",
   "metadata": {},
   "outputs": [],
   "source": [
    "weight_data$variable_name = rownames(weight_data)"
   ]
  },
  {
   "cell_type": "code",
   "execution_count": 138,
   "id": "0ae9a357-d0ba-4a9d-bfbe-02eca9803848",
   "metadata": {},
   "outputs": [
    {
     "data": {
      "text/html": [
       "<table class=\"dataframe\">\n",
       "<caption>A data.frame: 2 × 22</caption>\n",
       "<thead>\n",
       "\t<tr><th></th><th scope=col>Factor1</th><th scope=col>Factor2</th><th scope=col>Factor3</th><th scope=col>Factor4</th><th scope=col>Factor5</th><th scope=col>Factor6</th><th scope=col>Factor7</th><th scope=col>Factor8</th><th scope=col>Factor9</th><th scope=col>Factor10</th><th scope=col>⋯</th><th scope=col>Factor13</th><th scope=col>Factor14</th><th scope=col>Factor15</th><th scope=col>Factor16</th><th scope=col>Factor17</th><th scope=col>Factor18</th><th scope=col>Factor19</th><th scope=col>Factor20</th><th scope=col>type</th><th scope=col>variable_name</th></tr>\n",
       "\t<tr><th></th><th scope=col>&lt;dbl&gt;</th><th scope=col>&lt;dbl&gt;</th><th scope=col>&lt;dbl&gt;</th><th scope=col>&lt;dbl&gt;</th><th scope=col>&lt;dbl&gt;</th><th scope=col>&lt;dbl&gt;</th><th scope=col>&lt;dbl&gt;</th><th scope=col>&lt;dbl&gt;</th><th scope=col>&lt;dbl&gt;</th><th scope=col>&lt;dbl&gt;</th><th scope=col>⋯</th><th scope=col>&lt;dbl&gt;</th><th scope=col>&lt;dbl&gt;</th><th scope=col>&lt;dbl&gt;</th><th scope=col>&lt;dbl&gt;</th><th scope=col>&lt;dbl&gt;</th><th scope=col>&lt;dbl&gt;</th><th scope=col>&lt;dbl&gt;</th><th scope=col>&lt;dbl&gt;</th><th scope=col>&lt;chr&gt;</th><th scope=col>&lt;chr&gt;</th></tr>\n",
       "</thead>\n",
       "<tbody>\n",
       "\t<tr><th scope=row>CK</th><td>-0.020691979</td><td>0.4295154</td><td>0.02775631</td><td>-0.02712267</td><td> 0.010438305</td><td>-0.4194796</td><td>0.01169812</td><td>-0.11248843</td><td>0.2867520</td><td> 0.0143456634</td><td>⋯</td><td>0.03096640</td><td>0.1001090</td><td>0.8842042</td><td>-0.002553659</td><td>-0.0002680875</td><td>-0.009308180</td><td>0.003408993</td><td>-0.002008598</td><td>clinical_data</td><td>CK   </td></tr>\n",
       "\t<tr><th scope=row>CK_MB</th><td>-0.001361949</td><td>0.3790396</td><td>0.06749868</td><td>-0.06765357</td><td>-0.004929694</td><td>-0.3529069</td><td>0.01561328</td><td>-0.01496201</td><td>0.3777444</td><td>-0.0004131968</td><td>⋯</td><td>0.00304789</td><td>0.1161746</td><td>0.1307211</td><td>-0.002865083</td><td>-0.0003610348</td><td>-0.008757576</td><td>0.004192790</td><td>-0.010507527</td><td>clinical_data</td><td>CK_MB</td></tr>\n",
       "</tbody>\n",
       "</table>\n"
      ],
      "text/latex": [
       "A data.frame: 2 × 22\n",
       "\\begin{tabular}{r|lllllllllllllllllllll}\n",
       "  & Factor1 & Factor2 & Factor3 & Factor4 & Factor5 & Factor6 & Factor7 & Factor8 & Factor9 & Factor10 & ⋯ & Factor13 & Factor14 & Factor15 & Factor16 & Factor17 & Factor18 & Factor19 & Factor20 & type & variable\\_name\\\\\n",
       "  & <dbl> & <dbl> & <dbl> & <dbl> & <dbl> & <dbl> & <dbl> & <dbl> & <dbl> & <dbl> & ⋯ & <dbl> & <dbl> & <dbl> & <dbl> & <dbl> & <dbl> & <dbl> & <dbl> & <chr> & <chr>\\\\\n",
       "\\hline\n",
       "\tCK & -0.020691979 & 0.4295154 & 0.02775631 & -0.02712267 &  0.010438305 & -0.4194796 & 0.01169812 & -0.11248843 & 0.2867520 &  0.0143456634 & ⋯ & 0.03096640 & 0.1001090 & 0.8842042 & -0.002553659 & -0.0002680875 & -0.009308180 & 0.003408993 & -0.002008598 & clinical\\_data & CK   \\\\\n",
       "\tCK\\_MB & -0.001361949 & 0.3790396 & 0.06749868 & -0.06765357 & -0.004929694 & -0.3529069 & 0.01561328 & -0.01496201 & 0.3777444 & -0.0004131968 & ⋯ & 0.00304789 & 0.1161746 & 0.1307211 & -0.002865083 & -0.0003610348 & -0.008757576 & 0.004192790 & -0.010507527 & clinical\\_data & CK\\_MB\\\\\n",
       "\\end{tabular}\n"
      ],
      "text/markdown": [
       "\n",
       "A data.frame: 2 × 22\n",
       "\n",
       "| <!--/--> | Factor1 &lt;dbl&gt; | Factor2 &lt;dbl&gt; | Factor3 &lt;dbl&gt; | Factor4 &lt;dbl&gt; | Factor5 &lt;dbl&gt; | Factor6 &lt;dbl&gt; | Factor7 &lt;dbl&gt; | Factor8 &lt;dbl&gt; | Factor9 &lt;dbl&gt; | Factor10 &lt;dbl&gt; | ⋯ ⋯ | Factor13 &lt;dbl&gt; | Factor14 &lt;dbl&gt; | Factor15 &lt;dbl&gt; | Factor16 &lt;dbl&gt; | Factor17 &lt;dbl&gt; | Factor18 &lt;dbl&gt; | Factor19 &lt;dbl&gt; | Factor20 &lt;dbl&gt; | type &lt;chr&gt; | variable_name &lt;chr&gt; |\n",
       "|---|---|---|---|---|---|---|---|---|---|---|---|---|---|---|---|---|---|---|---|---|---|\n",
       "| CK | -0.020691979 | 0.4295154 | 0.02775631 | -0.02712267 |  0.010438305 | -0.4194796 | 0.01169812 | -0.11248843 | 0.2867520 |  0.0143456634 | ⋯ | 0.03096640 | 0.1001090 | 0.8842042 | -0.002553659 | -0.0002680875 | -0.009308180 | 0.003408993 | -0.002008598 | clinical_data | CK    |\n",
       "| CK_MB | -0.001361949 | 0.3790396 | 0.06749868 | -0.06765357 | -0.004929694 | -0.3529069 | 0.01561328 | -0.01496201 | 0.3777444 | -0.0004131968 | ⋯ | 0.00304789 | 0.1161746 | 0.1307211 | -0.002865083 | -0.0003610348 | -0.008757576 | 0.004192790 | -0.010507527 | clinical_data | CK_MB |\n",
       "\n"
      ],
      "text/plain": [
       "      Factor1      Factor2   Factor3    Factor4     Factor5      Factor6   \n",
       "CK    -0.020691979 0.4295154 0.02775631 -0.02712267  0.010438305 -0.4194796\n",
       "CK_MB -0.001361949 0.3790396 0.06749868 -0.06765357 -0.004929694 -0.3529069\n",
       "      Factor7    Factor8     Factor9   Factor10      ⋯ Factor13   Factor14 \n",
       "CK    0.01169812 -0.11248843 0.2867520  0.0143456634 ⋯ 0.03096640 0.1001090\n",
       "CK_MB 0.01561328 -0.01496201 0.3777444 -0.0004131968 ⋯ 0.00304789 0.1161746\n",
       "      Factor15  Factor16     Factor17      Factor18     Factor19   \n",
       "CK    0.8842042 -0.002553659 -0.0002680875 -0.009308180 0.003408993\n",
       "CK_MB 0.1307211 -0.002865083 -0.0003610348 -0.008757576 0.004192790\n",
       "      Factor20     type          variable_name\n",
       "CK    -0.002008598 clinical_data CK           \n",
       "CK_MB -0.010507527 clinical_data CK_MB        "
      ]
     },
     "metadata": {},
     "output_type": "display_data"
    }
   ],
   "source": [
    "head(weight_data,2)"
   ]
  },
  {
   "cell_type": "code",
   "execution_count": 139,
   "id": "ba98c712-ecfb-464a-ac9b-d7376e566e54",
   "metadata": {},
   "outputs": [],
   "source": [
    "#### Save weight data (Supplementary Table)"
   ]
  },
  {
   "cell_type": "code",
   "execution_count": 140,
   "id": "b0f6e125-7679-4310-9481-8bde2ff5e948",
   "metadata": {},
   "outputs": [],
   "source": [
    "write.csv(weight_data, paste0(result_path, '/G-Analysis/Weight_Data_' , name, '_', train_opts$weight_views, '.csv'), row.names = FALSE)"
   ]
  },
  {
   "cell_type": "code",
   "execution_count": null,
   "id": "05f7aebf-4ce5-4898-925c-26177a326693",
   "metadata": {},
   "outputs": [],
   "source": []
  },
  {
   "cell_type": "markdown",
   "id": "63bb29c6-9f50-46a8-bcf2-ef8781fb8bac",
   "metadata": {
    "tags": []
   },
   "source": [
    "## Merge factors and sample data"
   ]
  },
  {
   "cell_type": "code",
   "execution_count": 141,
   "id": "4e6889d7-191d-4a9a-805c-319cc796f32c",
   "metadata": {},
   "outputs": [],
   "source": [
    "### Combine factor and sample data for plots"
   ]
  },
  {
   "cell_type": "code",
   "execution_count": 142,
   "id": "e2ca7f5a-6ed7-4424-9b9c-21b998dd9a2f",
   "metadata": {},
   "outputs": [
    {
     "data": {
      "text/html": [
       "<table class=\"dataframe\">\n",
       "<caption>A data.frame: 2 × 21</caption>\n",
       "<thead>\n",
       "\t<tr><th></th><th scope=col>Factor1</th><th scope=col>Factor2</th><th scope=col>Factor3</th><th scope=col>Factor4</th><th scope=col>Factor5</th><th scope=col>Factor6</th><th scope=col>Factor7</th><th scope=col>Factor8</th><th scope=col>Factor9</th><th scope=col>Factor10</th><th scope=col>⋯</th><th scope=col>Factor12</th><th scope=col>Factor13</th><th scope=col>Factor14</th><th scope=col>Factor15</th><th scope=col>Factor16</th><th scope=col>Factor17</th><th scope=col>Factor18</th><th scope=col>Factor19</th><th scope=col>Factor20</th><th scope=col>sample_id</th></tr>\n",
       "\t<tr><th></th><th scope=col>&lt;dbl&gt;</th><th scope=col>&lt;dbl&gt;</th><th scope=col>&lt;dbl&gt;</th><th scope=col>&lt;dbl&gt;</th><th scope=col>&lt;dbl&gt;</th><th scope=col>&lt;dbl&gt;</th><th scope=col>&lt;dbl&gt;</th><th scope=col>&lt;dbl&gt;</th><th scope=col>&lt;dbl&gt;</th><th scope=col>&lt;dbl&gt;</th><th scope=col>⋯</th><th scope=col>&lt;dbl&gt;</th><th scope=col>&lt;dbl&gt;</th><th scope=col>&lt;dbl&gt;</th><th scope=col>&lt;dbl&gt;</th><th scope=col>&lt;dbl&gt;</th><th scope=col>&lt;dbl&gt;</th><th scope=col>&lt;dbl&gt;</th><th scope=col>&lt;dbl&gt;</th><th scope=col>&lt;dbl&gt;</th><th scope=col>&lt;chr&gt;</th></tr>\n",
       "</thead>\n",
       "<tbody>\n",
       "\t<tr><th scope=row>k1</th><td>0.2822028</td><td>-1.255954</td><td>-0.5339003</td><td>1.1204467</td><td>-0.4666922</td><td>1.248439</td><td>0.2075903</td><td>-0.3646179</td><td>-0.4024226</td><td>0.78832135</td><td>⋯</td><td>0.05325919</td><td>0.2773824</td><td>0.1330336</td><td>-0.7632523</td><td>-0.04660508</td><td> 0.95971046</td><td> 0.4317791</td><td>-0.4674157</td><td>-0.45888943</td><td>k1 </td></tr>\n",
       "\t<tr><th scope=row>k10</th><td>0.6928825</td><td>-1.038056</td><td> 0.3393354</td><td>0.2294335</td><td> 0.1052094</td><td>0.801152</td><td>0.3677501</td><td> 1.4177218</td><td>-0.5804093</td><td>0.04100113</td><td>⋯</td><td>0.22233569</td><td>0.3112234</td><td>0.0422479</td><td> 0.1419886</td><td>-0.04503017</td><td>-0.04460783</td><td>-0.1863946</td><td>-0.2670198</td><td>-0.03163122</td><td>k10</td></tr>\n",
       "</tbody>\n",
       "</table>\n"
      ],
      "text/latex": [
       "A data.frame: 2 × 21\n",
       "\\begin{tabular}{r|lllllllllllllllllllll}\n",
       "  & Factor1 & Factor2 & Factor3 & Factor4 & Factor5 & Factor6 & Factor7 & Factor8 & Factor9 & Factor10 & ⋯ & Factor12 & Factor13 & Factor14 & Factor15 & Factor16 & Factor17 & Factor18 & Factor19 & Factor20 & sample\\_id\\\\\n",
       "  & <dbl> & <dbl> & <dbl> & <dbl> & <dbl> & <dbl> & <dbl> & <dbl> & <dbl> & <dbl> & ⋯ & <dbl> & <dbl> & <dbl> & <dbl> & <dbl> & <dbl> & <dbl> & <dbl> & <dbl> & <chr>\\\\\n",
       "\\hline\n",
       "\tk1 & 0.2822028 & -1.255954 & -0.5339003 & 1.1204467 & -0.4666922 & 1.248439 & 0.2075903 & -0.3646179 & -0.4024226 & 0.78832135 & ⋯ & 0.05325919 & 0.2773824 & 0.1330336 & -0.7632523 & -0.04660508 &  0.95971046 &  0.4317791 & -0.4674157 & -0.45888943 & k1 \\\\\n",
       "\tk10 & 0.6928825 & -1.038056 &  0.3393354 & 0.2294335 &  0.1052094 & 0.801152 & 0.3677501 &  1.4177218 & -0.5804093 & 0.04100113 & ⋯ & 0.22233569 & 0.3112234 & 0.0422479 &  0.1419886 & -0.04503017 & -0.04460783 & -0.1863946 & -0.2670198 & -0.03163122 & k10\\\\\n",
       "\\end{tabular}\n"
      ],
      "text/markdown": [
       "\n",
       "A data.frame: 2 × 21\n",
       "\n",
       "| <!--/--> | Factor1 &lt;dbl&gt; | Factor2 &lt;dbl&gt; | Factor3 &lt;dbl&gt; | Factor4 &lt;dbl&gt; | Factor5 &lt;dbl&gt; | Factor6 &lt;dbl&gt; | Factor7 &lt;dbl&gt; | Factor8 &lt;dbl&gt; | Factor9 &lt;dbl&gt; | Factor10 &lt;dbl&gt; | ⋯ ⋯ | Factor12 &lt;dbl&gt; | Factor13 &lt;dbl&gt; | Factor14 &lt;dbl&gt; | Factor15 &lt;dbl&gt; | Factor16 &lt;dbl&gt; | Factor17 &lt;dbl&gt; | Factor18 &lt;dbl&gt; | Factor19 &lt;dbl&gt; | Factor20 &lt;dbl&gt; | sample_id &lt;chr&gt; |\n",
       "|---|---|---|---|---|---|---|---|---|---|---|---|---|---|---|---|---|---|---|---|---|---|\n",
       "| k1 | 0.2822028 | -1.255954 | -0.5339003 | 1.1204467 | -0.4666922 | 1.248439 | 0.2075903 | -0.3646179 | -0.4024226 | 0.78832135 | ⋯ | 0.05325919 | 0.2773824 | 0.1330336 | -0.7632523 | -0.04660508 |  0.95971046 |  0.4317791 | -0.4674157 | -0.45888943 | k1  |\n",
       "| k10 | 0.6928825 | -1.038056 |  0.3393354 | 0.2294335 |  0.1052094 | 0.801152 | 0.3677501 |  1.4177218 | -0.5804093 | 0.04100113 | ⋯ | 0.22233569 | 0.3112234 | 0.0422479 |  0.1419886 | -0.04503017 | -0.04460783 | -0.1863946 | -0.2670198 | -0.03163122 | k10 |\n",
       "\n"
      ],
      "text/plain": [
       "    Factor1   Factor2   Factor3    Factor4   Factor5    Factor6  Factor7  \n",
       "k1  0.2822028 -1.255954 -0.5339003 1.1204467 -0.4666922 1.248439 0.2075903\n",
       "k10 0.6928825 -1.038056  0.3393354 0.2294335  0.1052094 0.801152 0.3677501\n",
       "    Factor8    Factor9    Factor10   ⋯ Factor12   Factor13  Factor14 \n",
       "k1  -0.3646179 -0.4024226 0.78832135 ⋯ 0.05325919 0.2773824 0.1330336\n",
       "k10  1.4177218 -0.5804093 0.04100113 ⋯ 0.22233569 0.3112234 0.0422479\n",
       "    Factor15   Factor16    Factor17    Factor18   Factor19   Factor20   \n",
       "k1  -0.7632523 -0.04660508  0.95971046  0.4317791 -0.4674157 -0.45888943\n",
       "k10  0.1419886 -0.04503017 -0.04460783 -0.1863946 -0.2670198 -0.03163122\n",
       "    sample_id\n",
       "k1  k1       \n",
       "k10 k10      "
      ]
     },
     "metadata": {},
     "output_type": "display_data"
    }
   ],
   "source": [
    "head(factors,2)"
   ]
  },
  {
   "cell_type": "code",
   "execution_count": 143,
   "id": "1cacbf49-1921-4368-b9c9-0c3c82ff3310",
   "metadata": {},
   "outputs": [
    {
     "data": {
      "text/html": [
       "128"
      ],
      "text/latex": [
       "128"
      ],
      "text/markdown": [
       "128"
      ],
      "text/plain": [
       "[1] 128"
      ]
     },
     "metadata": {},
     "output_type": "display_data"
    }
   ],
   "source": [
    "nrow(factors)"
   ]
  },
  {
   "cell_type": "code",
   "execution_count": 144,
   "id": "ac117f20-03b7-40a1-bd46-9627682d0e01",
   "metadata": {
    "tags": []
   },
   "outputs": [
    {
     "data": {
      "text/html": [
       "<table class=\"dataframe\">\n",
       "<caption>A data.frame: 2 × 36</caption>\n",
       "<thead>\n",
       "\t<tr><th></th><th scope=col>X.1</th><th scope=col>sample_id</th><th scope=col>sample</th><th scope=col>id</th><th scope=col>measurement</th><th scope=col>library</th><th scope=col>id.y</th><th scope=col>name</th><th scope=col>read</th><th scope=col>pattern</th><th scope=col>⋯</th><th scope=col>CK_MB</th><th scope=col>Troponin</th><th scope=col>CRP</th><th scope=col>clinical_data</th><th scope=col>CK_raw</th><th scope=col>class</th><th scope=col>measurement2</th><th scope=col>measurement_class</th><th scope=col>delta_ef_value_class_summarized</th><th scope=col>tp_outcome</th></tr>\n",
       "\t<tr><th></th><th scope=col>&lt;int&gt;</th><th scope=col>&lt;chr&gt;</th><th scope=col>&lt;chr&gt;</th><th scope=col>&lt;dbl&gt;</th><th scope=col>&lt;chr&gt;</th><th scope=col>&lt;chr&gt;</th><th scope=col>&lt;chr&gt;</th><th scope=col>&lt;chr&gt;</th><th scope=col>&lt;chr&gt;</th><th scope=col>&lt;chr&gt;</th><th scope=col>⋯</th><th scope=col>&lt;dbl&gt;</th><th scope=col>&lt;dbl&gt;</th><th scope=col>&lt;dbl&gt;</th><th scope=col>&lt;int&gt;</th><th scope=col>&lt;int&gt;</th><th scope=col>&lt;chr&gt;</th><th scope=col>&lt;chr&gt;</th><th scope=col>&lt;chr&gt;</th><th scope=col>&lt;chr&gt;</th><th scope=col>&lt;chr&gt;</th></tr>\n",
       "</thead>\n",
       "<tbody>\n",
       "\t<tr><th scope=row>1</th><td>1</td><td>k1 </td><td>K1 </td><td> 1</td><td>TP0</td><td>L13</td><td>HTO_B0251</td><td>No-CCS-1 </td><td>R2</td><td>5PNNNNNNNNNN(BC)</td><td>⋯</td><td>NA</td><td>0.01863417</td><td>0.4854268</td><td>1</td><td>43</td><td>no_ccs</td><td>TP0_no_ccs</td><td>TP0_vollstaendiger_ausschluss</td><td>NA</td><td>TP0_NA</td></tr>\n",
       "\t<tr><th scope=row>2</th><td>2</td><td>k10</td><td>K10</td><td>10</td><td>TP0</td><td>L11</td><td>HTO_B0256</td><td>Ch-CCS-10</td><td>R2</td><td>5PNNNNNNNNNN(BC)</td><td>⋯</td><td>NA</td><td>        NA</td><td>0.2630344</td><td>1</td><td>NA</td><td>ccs   </td><td>TP0_ccs   </td><td>TP0_ccs                      </td><td>NA</td><td>TP0_NA</td></tr>\n",
       "</tbody>\n",
       "</table>\n"
      ],
      "text/latex": [
       "A data.frame: 2 × 36\n",
       "\\begin{tabular}{r|lllllllllllllllllllll}\n",
       "  & X.1 & sample\\_id & sample & id & measurement & library & id.y & name & read & pattern & ⋯ & CK\\_MB & Troponin & CRP & clinical\\_data & CK\\_raw & class & measurement2 & measurement\\_class & delta\\_ef\\_value\\_class\\_summarized & tp\\_outcome\\\\\n",
       "  & <int> & <chr> & <chr> & <dbl> & <chr> & <chr> & <chr> & <chr> & <chr> & <chr> & ⋯ & <dbl> & <dbl> & <dbl> & <int> & <int> & <chr> & <chr> & <chr> & <chr> & <chr>\\\\\n",
       "\\hline\n",
       "\t1 & 1 & k1  & K1  &  1 & TP0 & L13 & HTO\\_B0251 & No-CCS-1  & R2 & 5PNNNNNNNNNN(BC) & ⋯ & NA & 0.01863417 & 0.4854268 & 1 & 43 & no\\_ccs & TP0\\_no\\_ccs & TP0\\_vollstaendiger\\_ausschluss & NA & TP0\\_NA\\\\\n",
       "\t2 & 2 & k10 & K10 & 10 & TP0 & L11 & HTO\\_B0256 & Ch-CCS-10 & R2 & 5PNNNNNNNNNN(BC) & ⋯ & NA &         NA & 0.2630344 & 1 & NA & ccs    & TP0\\_ccs    & TP0\\_ccs                       & NA & TP0\\_NA\\\\\n",
       "\\end{tabular}\n"
      ],
      "text/markdown": [
       "\n",
       "A data.frame: 2 × 36\n",
       "\n",
       "| <!--/--> | X.1 &lt;int&gt; | sample_id &lt;chr&gt; | sample &lt;chr&gt; | id &lt;dbl&gt; | measurement &lt;chr&gt; | library &lt;chr&gt; | id.y &lt;chr&gt; | name &lt;chr&gt; | read &lt;chr&gt; | pattern &lt;chr&gt; | ⋯ ⋯ | CK_MB &lt;dbl&gt; | Troponin &lt;dbl&gt; | CRP &lt;dbl&gt; | clinical_data &lt;int&gt; | CK_raw &lt;int&gt; | class &lt;chr&gt; | measurement2 &lt;chr&gt; | measurement_class &lt;chr&gt; | delta_ef_value_class_summarized &lt;chr&gt; | tp_outcome &lt;chr&gt; |\n",
       "|---|---|---|---|---|---|---|---|---|---|---|---|---|---|---|---|---|---|---|---|---|---|\n",
       "| 1 | 1 | k1  | K1  |  1 | TP0 | L13 | HTO_B0251 | No-CCS-1  | R2 | 5PNNNNNNNNNN(BC) | ⋯ | NA | 0.01863417 | 0.4854268 | 1 | 43 | no_ccs | TP0_no_ccs | TP0_vollstaendiger_ausschluss | NA | TP0_NA |\n",
       "| 2 | 2 | k10 | K10 | 10 | TP0 | L11 | HTO_B0256 | Ch-CCS-10 | R2 | 5PNNNNNNNNNN(BC) | ⋯ | NA |         NA | 0.2630344 | 1 | NA | ccs    | TP0_ccs    | TP0_ccs                       | NA | TP0_NA |\n",
       "\n"
      ],
      "text/plain": [
       "  X.1 sample_id sample id measurement library id.y      name      read\n",
       "1 1   k1        K1      1 TP0         L13     HTO_B0251 No-CCS-1  R2  \n",
       "2 2   k10       K10    10 TP0         L11     HTO_B0256 Ch-CCS-10 R2  \n",
       "  pattern          ⋯ CK_MB Troponin   CRP       clinical_data CK_raw class \n",
       "1 5PNNNNNNNNNN(BC) ⋯ NA    0.01863417 0.4854268 1             43     no_ccs\n",
       "2 5PNNNNNNNNNN(BC) ⋯ NA            NA 0.2630344 1             NA     ccs   \n",
       "  measurement2 measurement_class             delta_ef_value_class_summarized\n",
       "1 TP0_no_ccs   TP0_vollstaendiger_ausschluss NA                             \n",
       "2 TP0_ccs      TP0_ccs                       NA                             \n",
       "  tp_outcome\n",
       "1 TP0_NA    \n",
       "2 TP0_NA    "
      ]
     },
     "metadata": {},
     "output_type": "display_data"
    }
   ],
   "source": [
    "head(sample_data,2)"
   ]
  },
  {
   "cell_type": "code",
   "execution_count": 145,
   "id": "42a08d4e-3ca2-420f-9b47-77b27338c448",
   "metadata": {},
   "outputs": [],
   "source": [
    "### Convert factor data to dataframe"
   ]
  },
  {
   "cell_type": "code",
   "execution_count": 146,
   "id": "9dfed1df-9c4e-4084-b76d-97959c75c1c4",
   "metadata": {
    "tags": []
   },
   "outputs": [],
   "source": [
    "factors_merge = data.frame(factors)"
   ]
  },
  {
   "cell_type": "code",
   "execution_count": 147,
   "id": "b0242a54-2bb7-4778-8ccd-b5fb3ced0afa",
   "metadata": {
    "tags": []
   },
   "outputs": [],
   "source": [
    "factors_merge$sample_id = rownames(factors_merge)"
   ]
  },
  {
   "cell_type": "code",
   "execution_count": 197,
   "id": "765f6506-47e8-4f50-b22d-d3bd4d1c7e33",
   "metadata": {
    "tags": []
   },
   "outputs": [],
   "source": [
    "merged_data = merge(factors_merge, unique(sample_data[,c('class', 'delta_ef_value_class_summarized' , 'measurement2','tp_outcome' , 'sample_id', 'delta_ef_value', 'measurement', 'classification', 'measurement_class', 'group')]), by.x = 'sample_id', by.y = 'sample_id')"
   ]
  },
  {
   "cell_type": "code",
   "execution_count": 198,
   "id": "70df6e35-5e21-4565-9a5b-e39f3e82c43a",
   "metadata": {},
   "outputs": [
    {
     "data": {
      "text/html": [
       "<table class=\"dataframe\">\n",
       "<caption>A data.frame: 2 × 30</caption>\n",
       "<thead>\n",
       "\t<tr><th></th><th scope=col>sample_id</th><th scope=col>Factor1</th><th scope=col>Factor2</th><th scope=col>Factor3</th><th scope=col>Factor4</th><th scope=col>Factor5</th><th scope=col>Factor6</th><th scope=col>Factor7</th><th scope=col>Factor8</th><th scope=col>Factor9</th><th scope=col>⋯</th><th scope=col>Factor20</th><th scope=col>class</th><th scope=col>delta_ef_value_class_summarized</th><th scope=col>measurement2</th><th scope=col>tp_outcome</th><th scope=col>delta_ef_value</th><th scope=col>measurement</th><th scope=col>classification</th><th scope=col>measurement_class</th><th scope=col>group</th></tr>\n",
       "\t<tr><th></th><th scope=col>&lt;chr&gt;</th><th scope=col>&lt;dbl&gt;</th><th scope=col>&lt;dbl&gt;</th><th scope=col>&lt;dbl&gt;</th><th scope=col>&lt;dbl&gt;</th><th scope=col>&lt;dbl&gt;</th><th scope=col>&lt;dbl&gt;</th><th scope=col>&lt;dbl&gt;</th><th scope=col>&lt;dbl&gt;</th><th scope=col>&lt;dbl&gt;</th><th scope=col>⋯</th><th scope=col>&lt;dbl&gt;</th><th scope=col>&lt;chr&gt;</th><th scope=col>&lt;chr&gt;</th><th scope=col>&lt;chr&gt;</th><th scope=col>&lt;chr&gt;</th><th scope=col>&lt;dbl&gt;</th><th scope=col>&lt;chr&gt;</th><th scope=col>&lt;chr&gt;</th><th scope=col>&lt;chr&gt;</th><th scope=col>&lt;chr&gt;</th></tr>\n",
       "</thead>\n",
       "<tbody>\n",
       "\t<tr><th scope=row>1</th><td>k1 </td><td>0.2822028</td><td>-1.255954</td><td>-0.5339003</td><td>1.1204467</td><td>-0.4666922</td><td>1.248439</td><td>0.2075903</td><td>-0.3646179</td><td>-0.4024226</td><td>⋯</td><td>-0.45888943</td><td>no_ccs</td><td>NA</td><td>TP0_no_ccs</td><td>TP0_NA</td><td>NA</td><td>TP0</td><td>vollstaendiger_ausschluss</td><td>TP0_vollstaendiger_ausschluss</td><td>no_ccs</td></tr>\n",
       "\t<tr><th scope=row>2</th><td>k10</td><td>0.6928825</td><td>-1.038056</td><td> 0.3393354</td><td>0.2294335</td><td> 0.1052094</td><td>0.801152</td><td>0.3677501</td><td> 1.4177218</td><td>-0.5804093</td><td>⋯</td><td>-0.03163122</td><td>ccs   </td><td>NA</td><td>TP0_ccs   </td><td>TP0_NA</td><td>NA</td><td>TP0</td><td>ccs                      </td><td>TP0_ccs                      </td><td>ccs   </td></tr>\n",
       "</tbody>\n",
       "</table>\n"
      ],
      "text/latex": [
       "A data.frame: 2 × 30\n",
       "\\begin{tabular}{r|lllllllllllllllllllll}\n",
       "  & sample\\_id & Factor1 & Factor2 & Factor3 & Factor4 & Factor5 & Factor6 & Factor7 & Factor8 & Factor9 & ⋯ & Factor20 & class & delta\\_ef\\_value\\_class\\_summarized & measurement2 & tp\\_outcome & delta\\_ef\\_value & measurement & classification & measurement\\_class & group\\\\\n",
       "  & <chr> & <dbl> & <dbl> & <dbl> & <dbl> & <dbl> & <dbl> & <dbl> & <dbl> & <dbl> & ⋯ & <dbl> & <chr> & <chr> & <chr> & <chr> & <dbl> & <chr> & <chr> & <chr> & <chr>\\\\\n",
       "\\hline\n",
       "\t1 & k1  & 0.2822028 & -1.255954 & -0.5339003 & 1.1204467 & -0.4666922 & 1.248439 & 0.2075903 & -0.3646179 & -0.4024226 & ⋯ & -0.45888943 & no\\_ccs & NA & TP0\\_no\\_ccs & TP0\\_NA & NA & TP0 & vollstaendiger\\_ausschluss & TP0\\_vollstaendiger\\_ausschluss & no\\_ccs\\\\\n",
       "\t2 & k10 & 0.6928825 & -1.038056 &  0.3393354 & 0.2294335 &  0.1052094 & 0.801152 & 0.3677501 &  1.4177218 & -0.5804093 & ⋯ & -0.03163122 & ccs    & NA & TP0\\_ccs    & TP0\\_NA & NA & TP0 & ccs                       & TP0\\_ccs                       & ccs   \\\\\n",
       "\\end{tabular}\n"
      ],
      "text/markdown": [
       "\n",
       "A data.frame: 2 × 30\n",
       "\n",
       "| <!--/--> | sample_id &lt;chr&gt; | Factor1 &lt;dbl&gt; | Factor2 &lt;dbl&gt; | Factor3 &lt;dbl&gt; | Factor4 &lt;dbl&gt; | Factor5 &lt;dbl&gt; | Factor6 &lt;dbl&gt; | Factor7 &lt;dbl&gt; | Factor8 &lt;dbl&gt; | Factor9 &lt;dbl&gt; | ⋯ ⋯ | Factor20 &lt;dbl&gt; | class &lt;chr&gt; | delta_ef_value_class_summarized &lt;chr&gt; | measurement2 &lt;chr&gt; | tp_outcome &lt;chr&gt; | delta_ef_value &lt;dbl&gt; | measurement &lt;chr&gt; | classification &lt;chr&gt; | measurement_class &lt;chr&gt; | group &lt;chr&gt; |\n",
       "|---|---|---|---|---|---|---|---|---|---|---|---|---|---|---|---|---|---|---|---|---|---|\n",
       "| 1 | k1  | 0.2822028 | -1.255954 | -0.5339003 | 1.1204467 | -0.4666922 | 1.248439 | 0.2075903 | -0.3646179 | -0.4024226 | ⋯ | -0.45888943 | no_ccs | NA | TP0_no_ccs | TP0_NA | NA | TP0 | vollstaendiger_ausschluss | TP0_vollstaendiger_ausschluss | no_ccs |\n",
       "| 2 | k10 | 0.6928825 | -1.038056 |  0.3393354 | 0.2294335 |  0.1052094 | 0.801152 | 0.3677501 |  1.4177218 | -0.5804093 | ⋯ | -0.03163122 | ccs    | NA | TP0_ccs    | TP0_NA | NA | TP0 | ccs                       | TP0_ccs                       | ccs    |\n",
       "\n"
      ],
      "text/plain": [
       "  sample_id Factor1   Factor2   Factor3    Factor4   Factor5    Factor6 \n",
       "1 k1        0.2822028 -1.255954 -0.5339003 1.1204467 -0.4666922 1.248439\n",
       "2 k10       0.6928825 -1.038056  0.3393354 0.2294335  0.1052094 0.801152\n",
       "  Factor7   Factor8    Factor9    ⋯ Factor20    class \n",
       "1 0.2075903 -0.3646179 -0.4024226 ⋯ -0.45888943 no_ccs\n",
       "2 0.3677501  1.4177218 -0.5804093 ⋯ -0.03163122 ccs   \n",
       "  delta_ef_value_class_summarized measurement2 tp_outcome delta_ef_value\n",
       "1 NA                              TP0_no_ccs   TP0_NA     NA            \n",
       "2 NA                              TP0_ccs      TP0_NA     NA            \n",
       "  measurement classification            measurement_class             group \n",
       "1 TP0         vollstaendiger_ausschluss TP0_vollstaendiger_ausschluss no_ccs\n",
       "2 TP0         ccs                       TP0_ccs                       ccs   "
      ]
     },
     "metadata": {},
     "output_type": "display_data"
    }
   ],
   "source": [
    "head(merged_data,2)"
   ]
  },
  {
   "cell_type": "code",
   "execution_count": 199,
   "id": "64f223d3-287c-4d03-9e89-26c30333d0cd",
   "metadata": {},
   "outputs": [
    {
     "data": {
      "text/html": [
       "128"
      ],
      "text/latex": [
       "128"
      ],
      "text/markdown": [
       "128"
      ],
      "text/plain": [
       "[1] 128"
      ]
     },
     "metadata": {},
     "output_type": "display_data"
    }
   ],
   "source": [
    "length(unique(merged_data$sample_id))"
   ]
  },
  {
   "cell_type": "code",
   "execution_count": 200,
   "id": "f602615b-ee1f-4880-8729-e0f592723439",
   "metadata": {},
   "outputs": [
    {
     "data": {
      "text/html": [
       "128"
      ],
      "text/latex": [
       "128"
      ],
      "text/markdown": [
       "128"
      ],
      "text/plain": [
       "[1] 128"
      ]
     },
     "metadata": {},
     "output_type": "display_data"
    }
   ],
   "source": [
    "nrow(merged_data)"
   ]
  },
  {
   "cell_type": "code",
   "execution_count": 201,
   "id": "222bcaa8-2e7d-4883-9fe4-9b1740ebcd9a",
   "metadata": {},
   "outputs": [],
   "source": [
    "### Prepare long format and add necessary sample columns"
   ]
  },
  {
   "cell_type": "code",
   "execution_count": 202,
   "id": "2e751414-839c-47e6-b029-45160d9c8cff",
   "metadata": {},
   "outputs": [],
   "source": [
    "merged_data$delta_ef_value = as.character(merged_data$delta_ef_value)"
   ]
  },
  {
   "cell_type": "code",
   "execution_count": 203,
   "id": "00acb4a5-9b9a-4e2a-97f4-12bf97dbcf5b",
   "metadata": {},
   "outputs": [
    {
     "name": "stderr",
     "output_type": "stream",
     "text": [
      "Using sample_id, class, delta_ef_value_class_summarized, measurement2, tp_outcome, delta_ef_value, measurement, classification, measurement_class, group as id variables\n",
      "\n"
     ]
    }
   ],
   "source": [
    "merged_data_long = melt(merged_data)"
   ]
  },
  {
   "cell_type": "code",
   "execution_count": 204,
   "id": "39284ece-9de3-4d2e-96af-21f36b51d1e3",
   "metadata": {},
   "outputs": [],
   "source": [
    "#head(merged_data_long,2)"
   ]
  },
  {
   "cell_type": "code",
   "execution_count": 205,
   "id": "428a4745-d671-44df-9833-421d72a5a5f3",
   "metadata": {},
   "outputs": [],
   "source": [
    "merged_data_long = merged_data_long[!is.na(str_extract(merged_data_long$variable, 'Factor')),]"
   ]
  },
  {
   "cell_type": "code",
   "execution_count": 206,
   "id": "49ffbcb1-8bc8-40ab-b69d-d3293d35f41e",
   "metadata": {},
   "outputs": [
    {
     "data": {
      "text/html": [
       "<style>\n",
       ".list-inline {list-style: none; margin:0; padding: 0}\n",
       ".list-inline>li {display: inline-block}\n",
       ".list-inline>li:not(:last-child)::after {content: \"\\00b7\"; padding: 0 .5ex}\n",
       "</style>\n",
       "<ol class=list-inline><li>'vollstaendiger_ausschluss'</li><li>'ccs'</li><li>'koronarsklerose'</li><li>'acs_subacute'</li><li>'acs_w_infection'</li><li>'acs_w_o_infection'</li></ol>\n"
      ],
      "text/latex": [
       "\\begin{enumerate*}\n",
       "\\item 'vollstaendiger\\_ausschluss'\n",
       "\\item 'ccs'\n",
       "\\item 'koronarsklerose'\n",
       "\\item 'acs\\_subacute'\n",
       "\\item 'acs\\_w\\_infection'\n",
       "\\item 'acs\\_w\\_o\\_infection'\n",
       "\\end{enumerate*}\n"
      ],
      "text/markdown": [
       "1. 'vollstaendiger_ausschluss'\n",
       "2. 'ccs'\n",
       "3. 'koronarsklerose'\n",
       "4. 'acs_subacute'\n",
       "5. 'acs_w_infection'\n",
       "6. 'acs_w_o_infection'\n",
       "\n",
       "\n"
      ],
      "text/plain": [
       "[1] \"vollstaendiger_ausschluss\" \"ccs\"                      \n",
       "[3] \"koronarsklerose\"           \"acs_subacute\"             \n",
       "[5] \"acs_w_infection\"           \"acs_w_o_infection\"        "
      ]
     },
     "metadata": {},
     "output_type": "display_data"
    }
   ],
   "source": [
    "unique(merged_data_long$classification)"
   ]
  },
  {
   "cell_type": "code",
   "execution_count": 207,
   "id": "daf70f82-d7b4-40cb-9797-0f8af86cae1c",
   "metadata": {},
   "outputs": [
    {
     "data": {
      "text/html": [
       "<style>\n",
       ".list-inline {list-style: none; margin:0; padding: 0}\n",
       ".list-inline>li {display: inline-block}\n",
       ".list-inline>li:not(:last-child)::after {content: \"\\00b7\"; padding: 0 .5ex}\n",
       "</style>\n",
       "<ol class=list-inline><li>'TP0'</li><li>'TP1'</li><li>'TP2'</li><li>'TP3'</li><li>'TP4'</li></ol>\n"
      ],
      "text/latex": [
       "\\begin{enumerate*}\n",
       "\\item 'TP0'\n",
       "\\item 'TP1'\n",
       "\\item 'TP2'\n",
       "\\item 'TP3'\n",
       "\\item 'TP4'\n",
       "\\end{enumerate*}\n"
      ],
      "text/markdown": [
       "1. 'TP0'\n",
       "2. 'TP1'\n",
       "3. 'TP2'\n",
       "4. 'TP3'\n",
       "5. 'TP4'\n",
       "\n",
       "\n"
      ],
      "text/plain": [
       "[1] \"TP0\" \"TP1\" \"TP2\" \"TP3\" \"TP4\""
      ]
     },
     "metadata": {},
     "output_type": "display_data"
    }
   ],
   "source": [
    "unique(merged_data_long$measurement)"
   ]
  },
  {
   "cell_type": "code",
   "execution_count": 208,
   "id": "64aa64d4-31d7-4b45-9638-c6078a48fb59",
   "metadata": {},
   "outputs": [
    {
     "data": {
      "text/html": [
       "<style>\n",
       ".list-inline {list-style: none; margin:0; padding: 0}\n",
       ".list-inline>li {display: inline-block}\n",
       ".list-inline>li:not(:last-child)::after {content: \"\\00b7\"; padding: 0 .5ex}\n",
       "</style>\n",
       "<ol class=list-inline><li>'TP0_vollstaendiger_ausschluss'</li><li>'TP0_ccs'</li><li>'TP0_koronarsklerose'</li><li>'TP1_acs_subacute'</li><li>'TP1_acs_w_infection'</li><li>'TP2_acs_w_infection'</li><li>'TP3_acs_w_infection'</li><li>'TP1_acs_w_o_infection'</li><li>'TP2_acs_w_o_infection'</li><li>'TP3_acs_w_o_infection'</li><li>'TP4_acs_w_o_infection'</li><li>'TP4_acs_w_infection'</li><li>'TP2_acs_subacute'</li><li>'TP3_acs_subacute'</li><li>'TP4_acs_subacute'</li></ol>\n"
      ],
      "text/latex": [
       "\\begin{enumerate*}\n",
       "\\item 'TP0\\_vollstaendiger\\_ausschluss'\n",
       "\\item 'TP0\\_ccs'\n",
       "\\item 'TP0\\_koronarsklerose'\n",
       "\\item 'TP1\\_acs\\_subacute'\n",
       "\\item 'TP1\\_acs\\_w\\_infection'\n",
       "\\item 'TP2\\_acs\\_w\\_infection'\n",
       "\\item 'TP3\\_acs\\_w\\_infection'\n",
       "\\item 'TP1\\_acs\\_w\\_o\\_infection'\n",
       "\\item 'TP2\\_acs\\_w\\_o\\_infection'\n",
       "\\item 'TP3\\_acs\\_w\\_o\\_infection'\n",
       "\\item 'TP4\\_acs\\_w\\_o\\_infection'\n",
       "\\item 'TP4\\_acs\\_w\\_infection'\n",
       "\\item 'TP2\\_acs\\_subacute'\n",
       "\\item 'TP3\\_acs\\_subacute'\n",
       "\\item 'TP4\\_acs\\_subacute'\n",
       "\\end{enumerate*}\n"
      ],
      "text/markdown": [
       "1. 'TP0_vollstaendiger_ausschluss'\n",
       "2. 'TP0_ccs'\n",
       "3. 'TP0_koronarsklerose'\n",
       "4. 'TP1_acs_subacute'\n",
       "5. 'TP1_acs_w_infection'\n",
       "6. 'TP2_acs_w_infection'\n",
       "7. 'TP3_acs_w_infection'\n",
       "8. 'TP1_acs_w_o_infection'\n",
       "9. 'TP2_acs_w_o_infection'\n",
       "10. 'TP3_acs_w_o_infection'\n",
       "11. 'TP4_acs_w_o_infection'\n",
       "12. 'TP4_acs_w_infection'\n",
       "13. 'TP2_acs_subacute'\n",
       "14. 'TP3_acs_subacute'\n",
       "15. 'TP4_acs_subacute'\n",
       "\n",
       "\n"
      ],
      "text/plain": [
       " [1] \"TP0_vollstaendiger_ausschluss\" \"TP0_ccs\"                      \n",
       " [3] \"TP0_koronarsklerose\"           \"TP1_acs_subacute\"             \n",
       " [5] \"TP1_acs_w_infection\"           \"TP2_acs_w_infection\"          \n",
       " [7] \"TP3_acs_w_infection\"           \"TP1_acs_w_o_infection\"        \n",
       " [9] \"TP2_acs_w_o_infection\"         \"TP3_acs_w_o_infection\"        \n",
       "[11] \"TP4_acs_w_o_infection\"         \"TP4_acs_w_infection\"          \n",
       "[13] \"TP2_acs_subacute\"              \"TP3_acs_subacute\"             \n",
       "[15] \"TP4_acs_subacute\"             "
      ]
     },
     "metadata": {},
     "output_type": "display_data"
    }
   ],
   "source": [
    "unique(merged_data_long$measurement_class)"
   ]
  },
  {
   "cell_type": "code",
   "execution_count": 209,
   "id": "2f487f73-126a-4e82-b836-3ebc2673f256",
   "metadata": {},
   "outputs": [],
   "source": [
    "merged_data_long$class_measurement = merged_data_long$group\n",
    "merged_data_long$class_measurement[merged_data_long$measurement %in% c('TP1', 'TP2', 'TP3', 'TP4')] =merged_data_long$measurement[merged_data_long$measurement %in% c('TP1', 'TP2', 'TP3', 'TP4')] "
   ]
  },
  {
   "cell_type": "code",
   "execution_count": 210,
   "id": "1a6bbaa9-67d3-42f8-a99b-bf2e2f0c8763",
   "metadata": {},
   "outputs": [
    {
     "data": {
      "text/html": [
       "<style>\n",
       ".list-inline {list-style: none; margin:0; padding: 0}\n",
       ".list-inline>li {display: inline-block}\n",
       ".list-inline>li:not(:last-child)::after {content: \"\\00b7\"; padding: 0 .5ex}\n",
       "</style>\n",
       "<ol class=list-inline><li>'no_ccs'</li><li>'ccs'</li><li>'TP1'</li><li>'TP2'</li><li>'TP3'</li><li>'TP4'</li></ol>\n"
      ],
      "text/latex": [
       "\\begin{enumerate*}\n",
       "\\item 'no\\_ccs'\n",
       "\\item 'ccs'\n",
       "\\item 'TP1'\n",
       "\\item 'TP2'\n",
       "\\item 'TP3'\n",
       "\\item 'TP4'\n",
       "\\end{enumerate*}\n"
      ],
      "text/markdown": [
       "1. 'no_ccs'\n",
       "2. 'ccs'\n",
       "3. 'TP1'\n",
       "4. 'TP2'\n",
       "5. 'TP3'\n",
       "6. 'TP4'\n",
       "\n",
       "\n"
      ],
      "text/plain": [
       "[1] \"no_ccs\" \"ccs\"    \"TP1\"    \"TP2\"    \"TP3\"    \"TP4\"   "
      ]
     },
     "metadata": {},
     "output_type": "display_data"
    }
   ],
   "source": [
    "unique(merged_data_long$class_measurement)"
   ]
  },
  {
   "cell_type": "markdown",
   "id": "54614460-8316-4de8-9b39-b15e311ed0e6",
   "metadata": {},
   "source": [
    "## Extract explained variance for plotting"
   ]
  },
  {
   "cell_type": "code",
   "execution_count": 211,
   "id": "82b2f4a0-d46b-406c-b27a-162ccf3df232",
   "metadata": {},
   "outputs": [],
   "source": [
    "### Get the explained variance for plotting"
   ]
  },
  {
   "cell_type": "code",
   "execution_count": 212,
   "id": "a3da82df-255f-4649-9c90-b481b4af5324",
   "metadata": {},
   "outputs": [],
   "source": [
    "data = model@cache$variance_explained$r2_per_factor[[1]]"
   ]
  },
  {
   "cell_type": "code",
   "execution_count": 213,
   "id": "a9c774fb-2a77-4a89-bdff-3d9d373fc1e6",
   "metadata": {},
   "outputs": [],
   "source": [
    "total_variance = data.frame( view = rownames(model@cache[[\"variance_explained\"]]$r2_total$group1,2),\n",
    "                             total_variance = model@cache[[\"variance_explained\"]]$r2_total$group1)"
   ]
  },
  {
   "cell_type": "code",
   "execution_count": 214,
   "id": "04fc642d-19c0-407e-9e2a-8df639d90606",
   "metadata": {},
   "outputs": [],
   "source": [
    "total_variance_factor = data.frame(factor = names(rowMeans(model@cache$variance_explained$r2_per_factor[[1]])),\n",
    "                                   mean_variance = rowMeans(model@cache$variance_explained$r2_per_factor[[1]]))"
   ]
  },
  {
   "cell_type": "code",
   "execution_count": 215,
   "id": "c63d8320-ac5f-40f1-be93-378276b02681",
   "metadata": {},
   "outputs": [
    {
     "data": {
      "text/html": [
       "<table class=\"dataframe\">\n",
       "<caption>A data.frame: 2 × 2</caption>\n",
       "<thead>\n",
       "\t<tr><th></th><th scope=col>factor</th><th scope=col>mean_variance</th></tr>\n",
       "\t<tr><th></th><th scope=col>&lt;chr&gt;</th><th scope=col>&lt;dbl&gt;</th></tr>\n",
       "</thead>\n",
       "<tbody>\n",
       "\t<tr><th scope=row>Factor1</th><td>Factor1</td><td>5.491271</td></tr>\n",
       "\t<tr><th scope=row>Factor2</th><td>Factor2</td><td>5.136342</td></tr>\n",
       "</tbody>\n",
       "</table>\n"
      ],
      "text/latex": [
       "A data.frame: 2 × 2\n",
       "\\begin{tabular}{r|ll}\n",
       "  & factor & mean\\_variance\\\\\n",
       "  & <chr> & <dbl>\\\\\n",
       "\\hline\n",
       "\tFactor1 & Factor1 & 5.491271\\\\\n",
       "\tFactor2 & Factor2 & 5.136342\\\\\n",
       "\\end{tabular}\n"
      ],
      "text/markdown": [
       "\n",
       "A data.frame: 2 × 2\n",
       "\n",
       "| <!--/--> | factor &lt;chr&gt; | mean_variance &lt;dbl&gt; |\n",
       "|---|---|---|\n",
       "| Factor1 | Factor1 | 5.491271 |\n",
       "| Factor2 | Factor2 | 5.136342 |\n",
       "\n"
      ],
      "text/plain": [
       "        factor  mean_variance\n",
       "Factor1 Factor1 5.491271     \n",
       "Factor2 Factor2 5.136342     "
      ]
     },
     "metadata": {},
     "output_type": "display_data"
    }
   ],
   "source": [
    "head(total_variance_factor,2)"
   ]
  },
  {
   "cell_type": "code",
   "execution_count": 216,
   "id": "90428b15-e6a0-4f1c-9e77-53f39a82c3a6",
   "metadata": {},
   "outputs": [],
   "source": [
    "data = melt(data)"
   ]
  },
  {
   "cell_type": "code",
   "execution_count": 217,
   "id": "9c258597-93f4-445f-9081-588618803ee9",
   "metadata": {},
   "outputs": [],
   "source": [
    "data = merge(data, total_variance, by.x = 'Var2', by.y = 'view')"
   ]
  },
  {
   "cell_type": "code",
   "execution_count": 218,
   "id": "d5bc1e38-7522-412e-9816-88e3c41454f2",
   "metadata": {},
   "outputs": [
    {
     "data": {
      "text/html": [
       "<table class=\"dataframe\">\n",
       "<caption>A data.frame: 2 × 4</caption>\n",
       "<thead>\n",
       "\t<tr><th></th><th scope=col>Var2</th><th scope=col>Var1</th><th scope=col>value</th><th scope=col>total_variance</th></tr>\n",
       "\t<tr><th></th><th scope=col>&lt;fct&gt;</th><th scope=col>&lt;fct&gt;</th><th scope=col>&lt;dbl&gt;</th><th scope=col>&lt;dbl&gt;</th></tr>\n",
       "</thead>\n",
       "<tbody>\n",
       "\t<tr><th scope=row>1</th><td>Bcell</td><td>Factor1</td><td>5.811870</td><td>36.887</td></tr>\n",
       "\t<tr><th scope=row>2</th><td>Bcell</td><td>Factor2</td><td>4.198111</td><td>36.887</td></tr>\n",
       "</tbody>\n",
       "</table>\n"
      ],
      "text/latex": [
       "A data.frame: 2 × 4\n",
       "\\begin{tabular}{r|llll}\n",
       "  & Var2 & Var1 & value & total\\_variance\\\\\n",
       "  & <fct> & <fct> & <dbl> & <dbl>\\\\\n",
       "\\hline\n",
       "\t1 & Bcell & Factor1 & 5.811870 & 36.887\\\\\n",
       "\t2 & Bcell & Factor2 & 4.198111 & 36.887\\\\\n",
       "\\end{tabular}\n"
      ],
      "text/markdown": [
       "\n",
       "A data.frame: 2 × 4\n",
       "\n",
       "| <!--/--> | Var2 &lt;fct&gt; | Var1 &lt;fct&gt; | value &lt;dbl&gt; | total_variance &lt;dbl&gt; |\n",
       "|---|---|---|---|---|\n",
       "| 1 | Bcell | Factor1 | 5.811870 | 36.887 |\n",
       "| 2 | Bcell | Factor2 | 4.198111 | 36.887 |\n",
       "\n"
      ],
      "text/plain": [
       "  Var2  Var1    value    total_variance\n",
       "1 Bcell Factor1 5.811870 36.887        \n",
       "2 Bcell Factor2 4.198111 36.887        "
      ]
     },
     "metadata": {},
     "output_type": "display_data"
    }
   ],
   "source": [
    "head(data,2)"
   ]
  },
  {
   "cell_type": "code",
   "execution_count": 219,
   "id": "3b8b89a0-2492-4291-928a-da1e6511e874",
   "metadata": {},
   "outputs": [],
   "source": [
    "data$Var2 = str_replace(data$Var2, 'clinical','Clinical')\n",
    "data$Var2 = str_replace(data$Var2, 'cytokine','Cytokine')\n",
    "data$Var2 = str_replace(data$Var2, 'neutrophil','Neutrophil')\n",
    "data$Var2 = str_replace(data$Var2, 'proteomics','Proteomics')"
   ]
  },
  {
   "cell_type": "code",
   "execution_count": 220,
   "id": "998d39b8-c91d-4894-84ea-4112bfceb5fe",
   "metadata": {},
   "outputs": [
    {
     "data": {
      "text/html": [
       "<style>\n",
       ".list-inline {list-style: none; margin:0; padding: 0}\n",
       ".list-inline>li {display: inline-block}\n",
       ".list-inline>li:not(:last-child)::after {content: \"\\00b7\"; padding: 0 .5ex}\n",
       "</style>\n",
       "<ol class=list-inline><li>'Bcell'</li><li>'CD14Mono'</li><li>'CD16Mono'</li><li>'CD4CTL'</li><li>'CD4Naive'</li><li>'CD4TCM'</li><li>'CD4TEM'</li><li>'CD8Naive'</li><li>'CD8TEM'</li><li>'cDC2'</li><li>'Clinical_data'</li><li>'Cytokine'</li><li>'gdT'</li><li>'Neutrophil'</li><li>'NK'</li><li>'Proteomics'</li><li>'Treg'</li></ol>\n"
      ],
      "text/latex": [
       "\\begin{enumerate*}\n",
       "\\item 'Bcell'\n",
       "\\item 'CD14Mono'\n",
       "\\item 'CD16Mono'\n",
       "\\item 'CD4CTL'\n",
       "\\item 'CD4Naive'\n",
       "\\item 'CD4TCM'\n",
       "\\item 'CD4TEM'\n",
       "\\item 'CD8Naive'\n",
       "\\item 'CD8TEM'\n",
       "\\item 'cDC2'\n",
       "\\item 'Clinical\\_data'\n",
       "\\item 'Cytokine'\n",
       "\\item 'gdT'\n",
       "\\item 'Neutrophil'\n",
       "\\item 'NK'\n",
       "\\item 'Proteomics'\n",
       "\\item 'Treg'\n",
       "\\end{enumerate*}\n"
      ],
      "text/markdown": [
       "1. 'Bcell'\n",
       "2. 'CD14Mono'\n",
       "3. 'CD16Mono'\n",
       "4. 'CD4CTL'\n",
       "5. 'CD4Naive'\n",
       "6. 'CD4TCM'\n",
       "7. 'CD4TEM'\n",
       "8. 'CD8Naive'\n",
       "9. 'CD8TEM'\n",
       "10. 'cDC2'\n",
       "11. 'Clinical_data'\n",
       "12. 'Cytokine'\n",
       "13. 'gdT'\n",
       "14. 'Neutrophil'\n",
       "15. 'NK'\n",
       "16. 'Proteomics'\n",
       "17. 'Treg'\n",
       "\n",
       "\n"
      ],
      "text/plain": [
       " [1] \"Bcell\"         \"CD14Mono\"      \"CD16Mono\"      \"CD4CTL\"       \n",
       " [5] \"CD4Naive\"      \"CD4TCM\"        \"CD4TEM\"        \"CD8Naive\"     \n",
       " [9] \"CD8TEM\"        \"cDC2\"          \"Clinical_data\" \"Cytokine\"     \n",
       "[13] \"gdT\"           \"Neutrophil\"    \"NK\"            \"Proteomics\"   \n",
       "[17] \"Treg\"         "
      ]
     },
     "metadata": {},
     "output_type": "display_data"
    }
   ],
   "source": [
    "unique(data$Var2)"
   ]
  },
  {
   "cell_type": "code",
   "execution_count": 221,
   "id": "f83b8c28-658c-4f0c-9178-1c246857417b",
   "metadata": {},
   "outputs": [],
   "source": [
    "data$Var2 = as.character(data$Var2)"
   ]
  },
  {
   "cell_type": "markdown",
   "id": "c92d389d-a9c5-4899-8c11-7705d59c0bf5",
   "metadata": {
    "tags": []
   },
   "source": [
    "## Prepare weight data"
   ]
  },
  {
   "cell_type": "code",
   "execution_count": 222,
   "id": "5ffb814f-fcde-4ea0-ad86-7aa6133c8f1a",
   "metadata": {},
   "outputs": [
    {
     "data": {
      "text/html": [
       "<table class=\"dataframe\">\n",
       "<caption>A data.frame: 2 × 22</caption>\n",
       "<thead>\n",
       "\t<tr><th></th><th scope=col>Factor1</th><th scope=col>Factor2</th><th scope=col>Factor3</th><th scope=col>Factor4</th><th scope=col>Factor5</th><th scope=col>Factor6</th><th scope=col>Factor7</th><th scope=col>Factor8</th><th scope=col>Factor9</th><th scope=col>Factor10</th><th scope=col>⋯</th><th scope=col>Factor13</th><th scope=col>Factor14</th><th scope=col>Factor15</th><th scope=col>Factor16</th><th scope=col>Factor17</th><th scope=col>Factor18</th><th scope=col>Factor19</th><th scope=col>Factor20</th><th scope=col>type</th><th scope=col>variable_name</th></tr>\n",
       "\t<tr><th></th><th scope=col>&lt;dbl&gt;</th><th scope=col>&lt;dbl&gt;</th><th scope=col>&lt;dbl&gt;</th><th scope=col>&lt;dbl&gt;</th><th scope=col>&lt;dbl&gt;</th><th scope=col>&lt;dbl&gt;</th><th scope=col>&lt;dbl&gt;</th><th scope=col>&lt;dbl&gt;</th><th scope=col>&lt;dbl&gt;</th><th scope=col>&lt;dbl&gt;</th><th scope=col>⋯</th><th scope=col>&lt;dbl&gt;</th><th scope=col>&lt;dbl&gt;</th><th scope=col>&lt;dbl&gt;</th><th scope=col>&lt;dbl&gt;</th><th scope=col>&lt;dbl&gt;</th><th scope=col>&lt;dbl&gt;</th><th scope=col>&lt;dbl&gt;</th><th scope=col>&lt;dbl&gt;</th><th scope=col>&lt;chr&gt;</th><th scope=col>&lt;chr&gt;</th></tr>\n",
       "</thead>\n",
       "<tbody>\n",
       "\t<tr><th scope=row>CK</th><td>-0.020691979</td><td>0.4295154</td><td>0.02775631</td><td>-0.02712267</td><td> 0.010438305</td><td>-0.4194796</td><td>0.01169812</td><td>-0.11248843</td><td>0.2867520</td><td> 0.0143456634</td><td>⋯</td><td>0.03096640</td><td>0.1001090</td><td>0.8842042</td><td>-0.002553659</td><td>-0.0002680875</td><td>-0.009308180</td><td>0.003408993</td><td>-0.002008598</td><td>clinical_data</td><td>CK   </td></tr>\n",
       "\t<tr><th scope=row>CK_MB</th><td>-0.001361949</td><td>0.3790396</td><td>0.06749868</td><td>-0.06765357</td><td>-0.004929694</td><td>-0.3529069</td><td>0.01561328</td><td>-0.01496201</td><td>0.3777444</td><td>-0.0004131968</td><td>⋯</td><td>0.00304789</td><td>0.1161746</td><td>0.1307211</td><td>-0.002865083</td><td>-0.0003610348</td><td>-0.008757576</td><td>0.004192790</td><td>-0.010507527</td><td>clinical_data</td><td>CK_MB</td></tr>\n",
       "</tbody>\n",
       "</table>\n"
      ],
      "text/latex": [
       "A data.frame: 2 × 22\n",
       "\\begin{tabular}{r|lllllllllllllllllllll}\n",
       "  & Factor1 & Factor2 & Factor3 & Factor4 & Factor5 & Factor6 & Factor7 & Factor8 & Factor9 & Factor10 & ⋯ & Factor13 & Factor14 & Factor15 & Factor16 & Factor17 & Factor18 & Factor19 & Factor20 & type & variable\\_name\\\\\n",
       "  & <dbl> & <dbl> & <dbl> & <dbl> & <dbl> & <dbl> & <dbl> & <dbl> & <dbl> & <dbl> & ⋯ & <dbl> & <dbl> & <dbl> & <dbl> & <dbl> & <dbl> & <dbl> & <dbl> & <chr> & <chr>\\\\\n",
       "\\hline\n",
       "\tCK & -0.020691979 & 0.4295154 & 0.02775631 & -0.02712267 &  0.010438305 & -0.4194796 & 0.01169812 & -0.11248843 & 0.2867520 &  0.0143456634 & ⋯ & 0.03096640 & 0.1001090 & 0.8842042 & -0.002553659 & -0.0002680875 & -0.009308180 & 0.003408993 & -0.002008598 & clinical\\_data & CK   \\\\\n",
       "\tCK\\_MB & -0.001361949 & 0.3790396 & 0.06749868 & -0.06765357 & -0.004929694 & -0.3529069 & 0.01561328 & -0.01496201 & 0.3777444 & -0.0004131968 & ⋯ & 0.00304789 & 0.1161746 & 0.1307211 & -0.002865083 & -0.0003610348 & -0.008757576 & 0.004192790 & -0.010507527 & clinical\\_data & CK\\_MB\\\\\n",
       "\\end{tabular}\n"
      ],
      "text/markdown": [
       "\n",
       "A data.frame: 2 × 22\n",
       "\n",
       "| <!--/--> | Factor1 &lt;dbl&gt; | Factor2 &lt;dbl&gt; | Factor3 &lt;dbl&gt; | Factor4 &lt;dbl&gt; | Factor5 &lt;dbl&gt; | Factor6 &lt;dbl&gt; | Factor7 &lt;dbl&gt; | Factor8 &lt;dbl&gt; | Factor9 &lt;dbl&gt; | Factor10 &lt;dbl&gt; | ⋯ ⋯ | Factor13 &lt;dbl&gt; | Factor14 &lt;dbl&gt; | Factor15 &lt;dbl&gt; | Factor16 &lt;dbl&gt; | Factor17 &lt;dbl&gt; | Factor18 &lt;dbl&gt; | Factor19 &lt;dbl&gt; | Factor20 &lt;dbl&gt; | type &lt;chr&gt; | variable_name &lt;chr&gt; |\n",
       "|---|---|---|---|---|---|---|---|---|---|---|---|---|---|---|---|---|---|---|---|---|---|\n",
       "| CK | -0.020691979 | 0.4295154 | 0.02775631 | -0.02712267 |  0.010438305 | -0.4194796 | 0.01169812 | -0.11248843 | 0.2867520 |  0.0143456634 | ⋯ | 0.03096640 | 0.1001090 | 0.8842042 | -0.002553659 | -0.0002680875 | -0.009308180 | 0.003408993 | -0.002008598 | clinical_data | CK    |\n",
       "| CK_MB | -0.001361949 | 0.3790396 | 0.06749868 | -0.06765357 | -0.004929694 | -0.3529069 | 0.01561328 | -0.01496201 | 0.3777444 | -0.0004131968 | ⋯ | 0.00304789 | 0.1161746 | 0.1307211 | -0.002865083 | -0.0003610348 | -0.008757576 | 0.004192790 | -0.010507527 | clinical_data | CK_MB |\n",
       "\n"
      ],
      "text/plain": [
       "      Factor1      Factor2   Factor3    Factor4     Factor5      Factor6   \n",
       "CK    -0.020691979 0.4295154 0.02775631 -0.02712267  0.010438305 -0.4194796\n",
       "CK_MB -0.001361949 0.3790396 0.06749868 -0.06765357 -0.004929694 -0.3529069\n",
       "      Factor7    Factor8     Factor9   Factor10      ⋯ Factor13   Factor14 \n",
       "CK    0.01169812 -0.11248843 0.2867520  0.0143456634 ⋯ 0.03096640 0.1001090\n",
       "CK_MB 0.01561328 -0.01496201 0.3777444 -0.0004131968 ⋯ 0.00304789 0.1161746\n",
       "      Factor15  Factor16     Factor17      Factor18     Factor19   \n",
       "CK    0.8842042 -0.002553659 -0.0002680875 -0.009308180 0.003408993\n",
       "CK_MB 0.1307211 -0.002865083 -0.0003610348 -0.008757576 0.004192790\n",
       "      Factor20     type          variable_name\n",
       "CK    -0.002008598 clinical_data CK           \n",
       "CK_MB -0.010507527 clinical_data CK_MB        "
      ]
     },
     "metadata": {},
     "output_type": "display_data"
    }
   ],
   "source": [
    "head(weight_data,2)"
   ]
  },
  {
   "cell_type": "code",
   "execution_count": 223,
   "id": "f67aee5e-d61b-4776-924d-9989419267c7",
   "metadata": {},
   "outputs": [],
   "source": [
    "weight_data$gene = weight_data$variable_name"
   ]
  },
  {
   "cell_type": "code",
   "execution_count": 224,
   "id": "c1d7ea14-dd39-4ca7-b2d6-b1c943fcb249",
   "metadata": {},
   "outputs": [],
   "source": [
    "weight_data$gene = str_replace(weight_data$variable_name, '.*__', '')"
   ]
  },
  {
   "cell_type": "code",
   "execution_count": 225,
   "id": "e3c00a84-e27c-4b0e-855d-41a38e4c473d",
   "metadata": {},
   "outputs": [],
   "source": [
    "weight_data$view = weight_data$type"
   ]
  },
  {
   "cell_type": "code",
   "execution_count": 226,
   "id": "9123e945-10be-48e0-b663-4c081cba86cb",
   "metadata": {},
   "outputs": [],
   "source": [
    "weight_data$view[!weight_data$type %in% c('cytokine','neutrophil','proteomics', 'clinical_data')] = str_replace(weight_data$variable_name[!weight_data$type %in% c('cytokine','neutrophil','proteomics', 'clinical_data')], '__.*', '')"
   ]
  },
  {
   "cell_type": "code",
   "execution_count": 227,
   "id": "29dcf169-3fbf-4864-95be-0a959b323d26",
   "metadata": {},
   "outputs": [
    {
     "data": {
      "text/html": [
       "<style>\n",
       ".list-inline {list-style: none; margin:0; padding: 0}\n",
       ".list-inline>li {display: inline-block}\n",
       ".list-inline>li:not(:last-child)::after {content: \"\\00b7\"; padding: 0 .5ex}\n",
       "</style>\n",
       "<ol class=list-inline><li>'clinical_data'</li><li>'cytokine'</li><li>'neutrophil'</li><li>'proteomics'</li><li>'B.cell'</li><li>'CD14.Mono'</li><li>'CD16.Mono'</li><li>'CD4.CTL'</li><li>'CD4.Naive'</li><li>'CD4.TCM'</li><li>'CD4.TEM'</li><li>'CD8.Naive'</li><li>'CD8.TEM'</li><li>'cDC2'</li><li>'gdT'</li><li>'NK'</li><li>'Treg'</li></ol>\n"
      ],
      "text/latex": [
       "\\begin{enumerate*}\n",
       "\\item 'clinical\\_data'\n",
       "\\item 'cytokine'\n",
       "\\item 'neutrophil'\n",
       "\\item 'proteomics'\n",
       "\\item 'B.cell'\n",
       "\\item 'CD14.Mono'\n",
       "\\item 'CD16.Mono'\n",
       "\\item 'CD4.CTL'\n",
       "\\item 'CD4.Naive'\n",
       "\\item 'CD4.TCM'\n",
       "\\item 'CD4.TEM'\n",
       "\\item 'CD8.Naive'\n",
       "\\item 'CD8.TEM'\n",
       "\\item 'cDC2'\n",
       "\\item 'gdT'\n",
       "\\item 'NK'\n",
       "\\item 'Treg'\n",
       "\\end{enumerate*}\n"
      ],
      "text/markdown": [
       "1. 'clinical_data'\n",
       "2. 'cytokine'\n",
       "3. 'neutrophil'\n",
       "4. 'proteomics'\n",
       "5. 'B.cell'\n",
       "6. 'CD14.Mono'\n",
       "7. 'CD16.Mono'\n",
       "8. 'CD4.CTL'\n",
       "9. 'CD4.Naive'\n",
       "10. 'CD4.TCM'\n",
       "11. 'CD4.TEM'\n",
       "12. 'CD8.Naive'\n",
       "13. 'CD8.TEM'\n",
       "14. 'cDC2'\n",
       "15. 'gdT'\n",
       "16. 'NK'\n",
       "17. 'Treg'\n",
       "\n",
       "\n"
      ],
      "text/plain": [
       " [1] \"clinical_data\" \"cytokine\"      \"neutrophil\"    \"proteomics\"   \n",
       " [5] \"B.cell\"        \"CD14.Mono\"     \"CD16.Mono\"     \"CD4.CTL\"      \n",
       " [9] \"CD4.Naive\"     \"CD4.TCM\"       \"CD4.TEM\"       \"CD8.Naive\"    \n",
       "[13] \"CD8.TEM\"       \"cDC2\"          \"gdT\"           \"NK\"           \n",
       "[17] \"Treg\"         "
      ]
     },
     "metadata": {},
     "output_type": "display_data"
    }
   ],
   "source": [
    "unique(weight_data$view)"
   ]
  },
  {
   "cell_type": "code",
   "execution_count": 228,
   "id": "8e946abd-4556-4bf4-aa43-8ec6745d0934",
   "metadata": {},
   "outputs": [],
   "source": [
    "weight_data$view  = str_replace(weight_data$view , 'clinical','Clinical')\n",
    "weight_data$view  = str_replace(weight_data$view , 'cytokine','Cytokine')\n",
    "weight_data$view  = str_replace(weight_data$view , 'neutrophil','Neutrophil')\n",
    "weight_data$view  = str_replace(weight_data$view , 'proteomics','Proteomics')"
   ]
  },
  {
   "cell_type": "code",
   "execution_count": 229,
   "id": "ee9ab188-9385-4156-9f55-af8bda0eda5c",
   "metadata": {},
   "outputs": [
    {
     "data": {
      "text/html": [
       "<style>\n",
       ".list-inline {list-style: none; margin:0; padding: 0}\n",
       ".list-inline>li {display: inline-block}\n",
       ".list-inline>li:not(:last-child)::after {content: \"\\00b7\"; padding: 0 .5ex}\n",
       "</style>\n",
       "<ol class=list-inline><li>'Clinical_data'</li><li>'Cytokine'</li><li>'Neutrophil'</li><li>'Proteomics'</li><li>'B.cell'</li><li>'CD14.Mono'</li><li>'CD16.Mono'</li><li>'CD4.CTL'</li><li>'CD4.Naive'</li><li>'CD4.TCM'</li><li>'CD4.TEM'</li><li>'CD8.Naive'</li><li>'CD8.TEM'</li><li>'cDC2'</li><li>'gdT'</li><li>'NK'</li><li>'Treg'</li></ol>\n"
      ],
      "text/latex": [
       "\\begin{enumerate*}\n",
       "\\item 'Clinical\\_data'\n",
       "\\item 'Cytokine'\n",
       "\\item 'Neutrophil'\n",
       "\\item 'Proteomics'\n",
       "\\item 'B.cell'\n",
       "\\item 'CD14.Mono'\n",
       "\\item 'CD16.Mono'\n",
       "\\item 'CD4.CTL'\n",
       "\\item 'CD4.Naive'\n",
       "\\item 'CD4.TCM'\n",
       "\\item 'CD4.TEM'\n",
       "\\item 'CD8.Naive'\n",
       "\\item 'CD8.TEM'\n",
       "\\item 'cDC2'\n",
       "\\item 'gdT'\n",
       "\\item 'NK'\n",
       "\\item 'Treg'\n",
       "\\end{enumerate*}\n"
      ],
      "text/markdown": [
       "1. 'Clinical_data'\n",
       "2. 'Cytokine'\n",
       "3. 'Neutrophil'\n",
       "4. 'Proteomics'\n",
       "5. 'B.cell'\n",
       "6. 'CD14.Mono'\n",
       "7. 'CD16.Mono'\n",
       "8. 'CD4.CTL'\n",
       "9. 'CD4.Naive'\n",
       "10. 'CD4.TCM'\n",
       "11. 'CD4.TEM'\n",
       "12. 'CD8.Naive'\n",
       "13. 'CD8.TEM'\n",
       "14. 'cDC2'\n",
       "15. 'gdT'\n",
       "16. 'NK'\n",
       "17. 'Treg'\n",
       "\n",
       "\n"
      ],
      "text/plain": [
       " [1] \"Clinical_data\" \"Cytokine\"      \"Neutrophil\"    \"Proteomics\"   \n",
       " [5] \"B.cell\"        \"CD14.Mono\"     \"CD16.Mono\"     \"CD4.CTL\"      \n",
       " [9] \"CD4.Naive\"     \"CD4.TCM\"       \"CD4.TEM\"       \"CD8.Naive\"    \n",
       "[13] \"CD8.TEM\"       \"cDC2\"          \"gdT\"           \"NK\"           \n",
       "[17] \"Treg\"         "
      ]
     },
     "metadata": {},
     "output_type": "display_data"
    }
   ],
   "source": [
    "unique(weight_data$view)"
   ]
  },
  {
   "cell_type": "code",
   "execution_count": 231,
   "id": "3bdcb96a-5e3e-44d0-ae7c-a9d57e5f4a38",
   "metadata": {},
   "outputs": [],
   "source": [
    "### Adjust to long format"
   ]
  },
  {
   "cell_type": "code",
   "execution_count": 232,
   "id": "1607bf6a-45c0-4ea9-9f6d-5164b138eef1",
   "metadata": {},
   "outputs": [
    {
     "name": "stderr",
     "output_type": "stream",
     "text": [
      "Using type, variable_name, gene, view as id variables\n",
      "\n"
     ]
    }
   ],
   "source": [
    "feature_weights_long = melt(weight_data)"
   ]
  },
  {
   "cell_type": "code",
   "execution_count": 233,
   "id": "ab39002e-74f2-4668-b54b-e56b26648245",
   "metadata": {},
   "outputs": [
    {
     "data": {
      "text/html": [
       "<table class=\"dataframe\">\n",
       "<caption>A data.frame: 2 × 6</caption>\n",
       "<thead>\n",
       "\t<tr><th></th><th scope=col>type</th><th scope=col>variable_name</th><th scope=col>gene</th><th scope=col>view</th><th scope=col>variable</th><th scope=col>value</th></tr>\n",
       "\t<tr><th></th><th scope=col>&lt;chr&gt;</th><th scope=col>&lt;chr&gt;</th><th scope=col>&lt;chr&gt;</th><th scope=col>&lt;chr&gt;</th><th scope=col>&lt;fct&gt;</th><th scope=col>&lt;dbl&gt;</th></tr>\n",
       "</thead>\n",
       "<tbody>\n",
       "\t<tr><th scope=row>1</th><td>clinical_data</td><td>CK   </td><td>CK   </td><td>Clinical_data</td><td>Factor1</td><td>-0.020691979</td></tr>\n",
       "\t<tr><th scope=row>2</th><td>clinical_data</td><td>CK_MB</td><td>CK_MB</td><td>Clinical_data</td><td>Factor1</td><td>-0.001361949</td></tr>\n",
       "</tbody>\n",
       "</table>\n"
      ],
      "text/latex": [
       "A data.frame: 2 × 6\n",
       "\\begin{tabular}{r|llllll}\n",
       "  & type & variable\\_name & gene & view & variable & value\\\\\n",
       "  & <chr> & <chr> & <chr> & <chr> & <fct> & <dbl>\\\\\n",
       "\\hline\n",
       "\t1 & clinical\\_data & CK    & CK    & Clinical\\_data & Factor1 & -0.020691979\\\\\n",
       "\t2 & clinical\\_data & CK\\_MB & CK\\_MB & Clinical\\_data & Factor1 & -0.001361949\\\\\n",
       "\\end{tabular}\n"
      ],
      "text/markdown": [
       "\n",
       "A data.frame: 2 × 6\n",
       "\n",
       "| <!--/--> | type &lt;chr&gt; | variable_name &lt;chr&gt; | gene &lt;chr&gt; | view &lt;chr&gt; | variable &lt;fct&gt; | value &lt;dbl&gt; |\n",
       "|---|---|---|---|---|---|---|\n",
       "| 1 | clinical_data | CK    | CK    | Clinical_data | Factor1 | -0.020691979 |\n",
       "| 2 | clinical_data | CK_MB | CK_MB | Clinical_data | Factor1 | -0.001361949 |\n",
       "\n"
      ],
      "text/plain": [
       "  type          variable_name gene  view          variable value       \n",
       "1 clinical_data CK            CK    Clinical_data Factor1  -0.020691979\n",
       "2 clinical_data CK_MB         CK_MB Clinical_data Factor1  -0.001361949"
      ]
     },
     "metadata": {},
     "output_type": "display_data"
    }
   ],
   "source": [
    "head(feature_weights_long,2)"
   ]
  },
  {
   "cell_type": "markdown",
   "id": "15d56f43-6985-43cd-8229-8d27f0f1f300",
   "metadata": {},
   "source": [
    "## Factor Data"
   ]
  },
  {
   "cell_type": "code",
   "execution_count": 234,
   "id": "96d4952f-61ac-47c2-8ac2-fa26bdbcb79c",
   "metadata": {},
   "outputs": [],
   "source": [
    "### Factor data in long format"
   ]
  },
  {
   "cell_type": "code",
   "execution_count": 235,
   "id": "2fac2382-f987-46f7-802a-af73931ee3f1",
   "metadata": {},
   "outputs": [
    {
     "name": "stderr",
     "output_type": "stream",
     "text": [
      "Using sample_id as id variables\n",
      "\n"
     ]
    }
   ],
   "source": [
    "factor_data = melt(factors)"
   ]
  },
  {
   "cell_type": "code",
   "execution_count": 236,
   "id": "d36c69af-9ff9-4169-b9a3-490740101db5",
   "metadata": {},
   "outputs": [
    {
     "data": {
      "text/html": [
       "<table class=\"dataframe\">\n",
       "<caption>A data.frame: 2 × 3</caption>\n",
       "<thead>\n",
       "\t<tr><th></th><th scope=col>sample_id</th><th scope=col>variable</th><th scope=col>value</th></tr>\n",
       "\t<tr><th></th><th scope=col>&lt;chr&gt;</th><th scope=col>&lt;fct&gt;</th><th scope=col>&lt;dbl&gt;</th></tr>\n",
       "</thead>\n",
       "<tbody>\n",
       "\t<tr><th scope=row>1</th><td>k1 </td><td>Factor1</td><td>0.2822028</td></tr>\n",
       "\t<tr><th scope=row>2</th><td>k10</td><td>Factor1</td><td>0.6928825</td></tr>\n",
       "</tbody>\n",
       "</table>\n"
      ],
      "text/latex": [
       "A data.frame: 2 × 3\n",
       "\\begin{tabular}{r|lll}\n",
       "  & sample\\_id & variable & value\\\\\n",
       "  & <chr> & <fct> & <dbl>\\\\\n",
       "\\hline\n",
       "\t1 & k1  & Factor1 & 0.2822028\\\\\n",
       "\t2 & k10 & Factor1 & 0.6928825\\\\\n",
       "\\end{tabular}\n"
      ],
      "text/markdown": [
       "\n",
       "A data.frame: 2 × 3\n",
       "\n",
       "| <!--/--> | sample_id &lt;chr&gt; | variable &lt;fct&gt; | value &lt;dbl&gt; |\n",
       "|---|---|---|---|\n",
       "| 1 | k1  | Factor1 | 0.2822028 |\n",
       "| 2 | k10 | Factor1 | 0.6928825 |\n",
       "\n"
      ],
      "text/plain": [
       "  sample_id variable value    \n",
       "1 k1        Factor1  0.2822028\n",
       "2 k10       Factor1  0.6928825"
      ]
     },
     "metadata": {},
     "output_type": "display_data"
    }
   ],
   "source": [
    "head(factor_data,2)"
   ]
  },
  {
   "cell_type": "code",
   "execution_count": 237,
   "id": "e5dbf11c-2e20-48d8-9804-de8f12b8ad13",
   "metadata": {},
   "outputs": [],
   "source": [
    "colnames(factor_data) = c('sample_id', 'variable', 'value')"
   ]
  },
  {
   "cell_type": "markdown",
   "id": "a0f84b0a-6820-4eaa-9e49-8cd196e5da75",
   "metadata": {
    "tags": []
   },
   "source": [
    "## Get top features per factor and amounts for diff thresholds"
   ]
  },
  {
   "cell_type": "code",
   "execution_count": 238,
   "id": "095c4e11-1788-40e4-8271-2e8adb4bd6e0",
   "metadata": {},
   "outputs": [],
   "source": [
    "### Top features for a certain threshold"
   ]
  },
  {
   "cell_type": "code",
   "execution_count": 239,
   "id": "00556823-fa42-4859-afa0-947d6cceec6c",
   "metadata": {},
   "outputs": [],
   "source": [
    "top_variable_fraction_list  = c(0.0005 ,0.001, 0.0025, 0.005, 0.025, 0.05, 0.1,0.5)"
   ]
  },
  {
   "cell_type": "code",
   "execution_count": 240,
   "id": "e8f2bf9d-f005-45ac-9b27-42f54f2a83aa",
   "metadata": {},
   "outputs": [],
   "source": [
    "geneset_oi_amounts = data.frame()"
   ]
  },
  {
   "cell_type": "code",
   "execution_count": 241,
   "id": "0223eb3b-d42f-4866-9797-c81ea7e3dd23",
   "metadata": {},
   "outputs": [],
   "source": [
    "geneset_oi_per_fraction = data.frame()"
   ]
  },
  {
   "cell_type": "code",
   "execution_count": 242,
   "id": "df638647-6d36-4c08-b29d-31411190f8af",
   "metadata": {},
   "outputs": [
    {
     "data": {
      "text/html": [
       "<table class=\"dataframe\">\n",
       "<caption>A data.frame: 2 × 6</caption>\n",
       "<thead>\n",
       "\t<tr><th></th><th scope=col>type</th><th scope=col>variable_name</th><th scope=col>gene</th><th scope=col>view</th><th scope=col>variable</th><th scope=col>value</th></tr>\n",
       "\t<tr><th></th><th scope=col>&lt;chr&gt;</th><th scope=col>&lt;chr&gt;</th><th scope=col>&lt;chr&gt;</th><th scope=col>&lt;chr&gt;</th><th scope=col>&lt;fct&gt;</th><th scope=col>&lt;dbl&gt;</th></tr>\n",
       "</thead>\n",
       "<tbody>\n",
       "\t<tr><th scope=row>1</th><td>clinical_data</td><td>CK   </td><td>CK   </td><td>Clinical_data</td><td>Factor1</td><td>-0.020691979</td></tr>\n",
       "\t<tr><th scope=row>2</th><td>clinical_data</td><td>CK_MB</td><td>CK_MB</td><td>Clinical_data</td><td>Factor1</td><td>-0.001361949</td></tr>\n",
       "</tbody>\n",
       "</table>\n"
      ],
      "text/latex": [
       "A data.frame: 2 × 6\n",
       "\\begin{tabular}{r|llllll}\n",
       "  & type & variable\\_name & gene & view & variable & value\\\\\n",
       "  & <chr> & <chr> & <chr> & <chr> & <fct> & <dbl>\\\\\n",
       "\\hline\n",
       "\t1 & clinical\\_data & CK    & CK    & Clinical\\_data & Factor1 & -0.020691979\\\\\n",
       "\t2 & clinical\\_data & CK\\_MB & CK\\_MB & Clinical\\_data & Factor1 & -0.001361949\\\\\n",
       "\\end{tabular}\n"
      ],
      "text/markdown": [
       "\n",
       "A data.frame: 2 × 6\n",
       "\n",
       "| <!--/--> | type &lt;chr&gt; | variable_name &lt;chr&gt; | gene &lt;chr&gt; | view &lt;chr&gt; | variable &lt;fct&gt; | value &lt;dbl&gt; |\n",
       "|---|---|---|---|---|---|---|\n",
       "| 1 | clinical_data | CK    | CK    | Clinical_data | Factor1 | -0.020691979 |\n",
       "| 2 | clinical_data | CK_MB | CK_MB | Clinical_data | Factor1 | -0.001361949 |\n",
       "\n"
      ],
      "text/plain": [
       "  type          variable_name gene  view          variable value       \n",
       "1 clinical_data CK            CK    Clinical_data Factor1  -0.020691979\n",
       "2 clinical_data CK_MB         CK_MB Clinical_data Factor1  -0.001361949"
      ]
     },
     "metadata": {},
     "output_type": "display_data"
    }
   ],
   "source": [
    "head(feature_weights_long,2)"
   ]
  },
  {
   "cell_type": "code",
   "execution_count": 243,
   "id": "e1b3fa4b-af4d-4ba6-b791-d321993202fe",
   "metadata": {},
   "outputs": [],
   "source": [
    "dimensions = unique(feature_weights_long[,c('view', 'variable')])"
   ]
  },
  {
   "cell_type": "code",
   "execution_count": 244,
   "id": "b40ec156-53f0-4650-8a27-4a85afccd949",
   "metadata": {},
   "outputs": [
    {
     "data": {
      "text/html": [
       "<table class=\"dataframe\">\n",
       "<caption>A data.frame: 2 × 2</caption>\n",
       "<thead>\n",
       "\t<tr><th></th><th scope=col>view</th><th scope=col>variable</th></tr>\n",
       "\t<tr><th></th><th scope=col>&lt;chr&gt;</th><th scope=col>&lt;fct&gt;</th></tr>\n",
       "</thead>\n",
       "<tbody>\n",
       "\t<tr><th scope=row>1</th><td>Clinical_data</td><td>Factor1</td></tr>\n",
       "\t<tr><th scope=row>5</th><td>Cytokine     </td><td>Factor1</td></tr>\n",
       "</tbody>\n",
       "</table>\n"
      ],
      "text/latex": [
       "A data.frame: 2 × 2\n",
       "\\begin{tabular}{r|ll}\n",
       "  & view & variable\\\\\n",
       "  & <chr> & <fct>\\\\\n",
       "\\hline\n",
       "\t1 & Clinical\\_data & Factor1\\\\\n",
       "\t5 & Cytokine      & Factor1\\\\\n",
       "\\end{tabular}\n"
      ],
      "text/markdown": [
       "\n",
       "A data.frame: 2 × 2\n",
       "\n",
       "| <!--/--> | view &lt;chr&gt; | variable &lt;fct&gt; |\n",
       "|---|---|---|\n",
       "| 1 | Clinical_data | Factor1 |\n",
       "| 5 | Cytokine      | Factor1 |\n",
       "\n"
      ],
      "text/plain": [
       "  view          variable\n",
       "1 Clinical_data Factor1 \n",
       "5 Cytokine      Factor1 "
      ]
     },
     "metadata": {},
     "output_type": "display_data"
    }
   ],
   "source": [
    "head(dimensions,2)"
   ]
  },
  {
   "cell_type": "code",
   "execution_count": 245,
   "id": "c7707b26-0cd3-4516-a623-f1a7c79b9b9f",
   "metadata": {},
   "outputs": [
    {
     "name": "stderr",
     "output_type": "stream",
     "text": [
      "\u001b[1m\u001b[22mSelecting by value\n",
      "\u001b[1m\u001b[22mSelecting by value\n",
      "\u001b[1m\u001b[22mSelecting by value\n",
      "\u001b[1m\u001b[22mSelecting by value\n",
      "\u001b[1m\u001b[22mSelecting by value\n",
      "\u001b[1m\u001b[22mSelecting by value\n",
      "\u001b[1m\u001b[22mSelecting by value\n",
      "\u001b[1m\u001b[22mSelecting by value\n",
      "\u001b[1m\u001b[22mSelecting by value\n",
      "\u001b[1m\u001b[22mSelecting by value\n",
      "\u001b[1m\u001b[22mSelecting by value\n",
      "\u001b[1m\u001b[22mSelecting by value\n",
      "\u001b[1m\u001b[22mSelecting by value\n",
      "\u001b[1m\u001b[22mSelecting by value\n",
      "\u001b[1m\u001b[22mSelecting by value\n",
      "\u001b[1m\u001b[22mSelecting by value\n"
     ]
    }
   ],
   "source": [
    "for(i in top_variable_fraction_list){\n",
    "    ## Define amont of top genes per fraction \n",
    "    geneset_oi_pos_per_factor_analyze = feature_weights_long %>% group_by(variable) %>% arrange( desc(value),  .by_group = TRUE)  %>% top_frac(i)\n",
    "    geneset_oi_pos_per_factor_analyze$direction = 'positive'\n",
    "    \n",
    "    geneset_oi_neg_per_factor_analyze = feature_weights_long %>% group_by(variable) %>% arrange(desc(value),  .by_group = TRUE)  %>% top_frac(-i)\n",
    "    geneset_oi_neg_per_factor_analyze$direction = 'negative'\n",
    "    \n",
    "    geneset_oi_analyze = rbind(geneset_oi_pos_per_factor_analyze, geneset_oi_neg_per_factor_analyze)\n",
    "    geneset_oi_analyze$fraction = i\n",
    "    \n",
    "    geneset_oi_per_fraction = rbind(geneset_oi_per_fraction,geneset_oi_analyze)\n",
    "    \n",
    "    amount_geneset_oi_type = geneset_oi_analyze %>% group_by(type, view, variable) %>% count()\n",
    "    amount_geneset_oi_type = merge(dimensions, amount_geneset_oi_type, all.x = TRUE)\n",
    "    amount_geneset_oi_type$fraction = i\n",
    "    \n",
    "    geneset_oi_amounts = rbind(geneset_oi_amounts, amount_geneset_oi_type)\n",
    "    }"
   ]
  },
  {
   "cell_type": "code",
   "execution_count": 246,
   "id": "0661d926-917e-4cd1-919f-a7b665136ca4",
   "metadata": {},
   "outputs": [],
   "source": [
    "features_per_type = feature_weights_long %>% group_by(type, view, variable) %>% count()\n",
    "colnames(features_per_type) = c('type', 'view', 'variable', 'amount_features')"
   ]
  },
  {
   "cell_type": "code",
   "execution_count": 247,
   "id": "409eb101-879a-443a-b572-2b2be73df834",
   "metadata": {},
   "outputs": [
    {
     "data": {
      "text/html": [
       "<table class=\"dataframe\">\n",
       "<caption>A grouped_df: 2 × 4</caption>\n",
       "<thead>\n",
       "\t<tr><th scope=col>type</th><th scope=col>view</th><th scope=col>variable</th><th scope=col>amount_features</th></tr>\n",
       "\t<tr><th scope=col>&lt;chr&gt;</th><th scope=col>&lt;chr&gt;</th><th scope=col>&lt;fct&gt;</th><th scope=col>&lt;int&gt;</th></tr>\n",
       "</thead>\n",
       "<tbody>\n",
       "\t<tr><td>Bcell</td><td>B.cell</td><td>Factor1</td><td>686</td></tr>\n",
       "\t<tr><td>Bcell</td><td>B.cell</td><td>Factor2</td><td>686</td></tr>\n",
       "</tbody>\n",
       "</table>\n"
      ],
      "text/latex": [
       "A grouped\\_df: 2 × 4\n",
       "\\begin{tabular}{llll}\n",
       " type & view & variable & amount\\_features\\\\\n",
       " <chr> & <chr> & <fct> & <int>\\\\\n",
       "\\hline\n",
       "\t Bcell & B.cell & Factor1 & 686\\\\\n",
       "\t Bcell & B.cell & Factor2 & 686\\\\\n",
       "\\end{tabular}\n"
      ],
      "text/markdown": [
       "\n",
       "A grouped_df: 2 × 4\n",
       "\n",
       "| type &lt;chr&gt; | view &lt;chr&gt; | variable &lt;fct&gt; | amount_features &lt;int&gt; |\n",
       "|---|---|---|---|\n",
       "| Bcell | B.cell | Factor1 | 686 |\n",
       "| Bcell | B.cell | Factor2 | 686 |\n",
       "\n"
      ],
      "text/plain": [
       "  type  view   variable amount_features\n",
       "1 Bcell B.cell Factor1  686            \n",
       "2 Bcell B.cell Factor2  686            "
      ]
     },
     "metadata": {},
     "output_type": "display_data"
    }
   ],
   "source": [
    "head(features_per_type,2)"
   ]
  },
  {
   "cell_type": "code",
   "execution_count": 248,
   "id": "da96cc9b-5d2c-4b71-be7e-02d45fb67f22",
   "metadata": {},
   "outputs": [],
   "source": [
    "geneset_oi_amounts = merge(  geneset_oi_amounts,features_per_type, all.x = TRUE)\n",
    "geneset_oi_amounts$percentage = geneset_oi_amounts$n / geneset_oi_amounts$amount_features"
   ]
  },
  {
   "cell_type": "code",
   "execution_count": 249,
   "id": "2980f9d9-9410-4683-88a4-f9a76c7124cf",
   "metadata": {},
   "outputs": [
    {
     "data": {
      "text/html": [
       "<table class=\"dataframe\">\n",
       "<caption>A grouped_df: 2 × 8</caption>\n",
       "<thead>\n",
       "\t<tr><th scope=col>type</th><th scope=col>variable_name</th><th scope=col>gene</th><th scope=col>view</th><th scope=col>variable</th><th scope=col>value</th><th scope=col>direction</th><th scope=col>fraction</th></tr>\n",
       "\t<tr><th scope=col>&lt;chr&gt;</th><th scope=col>&lt;chr&gt;</th><th scope=col>&lt;chr&gt;</th><th scope=col>&lt;chr&gt;</th><th scope=col>&lt;fct&gt;</th><th scope=col>&lt;dbl&gt;</th><th scope=col>&lt;chr&gt;</th><th scope=col>&lt;dbl&gt;</th></tr>\n",
       "</thead>\n",
       "<tbody>\n",
       "\t<tr><td>CD4TCM</td><td>CD4.TCM__GMFG</td><td>GMFG</td><td>CD4.TCM</td><td>Factor1</td><td>0.5601331</td><td>positive</td><td>5e-04</td></tr>\n",
       "\t<tr><td>CD4TCM</td><td>CD4.TCM__EDF1</td><td>EDF1</td><td>CD4.TCM</td><td>Factor1</td><td>0.5288374</td><td>positive</td><td>5e-04</td></tr>\n",
       "</tbody>\n",
       "</table>\n"
      ],
      "text/latex": [
       "A grouped\\_df: 2 × 8\n",
       "\\begin{tabular}{llllllll}\n",
       " type & variable\\_name & gene & view & variable & value & direction & fraction\\\\\n",
       " <chr> & <chr> & <chr> & <chr> & <fct> & <dbl> & <chr> & <dbl>\\\\\n",
       "\\hline\n",
       "\t CD4TCM & CD4.TCM\\_\\_GMFG & GMFG & CD4.TCM & Factor1 & 0.5601331 & positive & 5e-04\\\\\n",
       "\t CD4TCM & CD4.TCM\\_\\_EDF1 & EDF1 & CD4.TCM & Factor1 & 0.5288374 & positive & 5e-04\\\\\n",
       "\\end{tabular}\n"
      ],
      "text/markdown": [
       "\n",
       "A grouped_df: 2 × 8\n",
       "\n",
       "| type &lt;chr&gt; | variable_name &lt;chr&gt; | gene &lt;chr&gt; | view &lt;chr&gt; | variable &lt;fct&gt; | value &lt;dbl&gt; | direction &lt;chr&gt; | fraction &lt;dbl&gt; |\n",
       "|---|---|---|---|---|---|---|---|\n",
       "| CD4TCM | CD4.TCM__GMFG | GMFG | CD4.TCM | Factor1 | 0.5601331 | positive | 5e-04 |\n",
       "| CD4TCM | CD4.TCM__EDF1 | EDF1 | CD4.TCM | Factor1 | 0.5288374 | positive | 5e-04 |\n",
       "\n"
      ],
      "text/plain": [
       "  type   variable_name gene view    variable value     direction fraction\n",
       "1 CD4TCM CD4.TCM__GMFG GMFG CD4.TCM Factor1  0.5601331 positive  5e-04   \n",
       "2 CD4TCM CD4.TCM__EDF1 EDF1 CD4.TCM Factor1  0.5288374 positive  5e-04   "
      ]
     },
     "metadata": {},
     "output_type": "display_data"
    }
   ],
   "source": [
    "head(geneset_oi_per_fraction,2)"
   ]
  },
  {
   "cell_type": "code",
   "execution_count": 250,
   "id": "e7ce3270-c503-48c5-a39e-5e5cb918be74",
   "metadata": {},
   "outputs": [
    {
     "data": {
      "text/html": [
       "<table class=\"dataframe\">\n",
       "<caption>A data.frame: 2 × 7</caption>\n",
       "<thead>\n",
       "\t<tr><th></th><th scope=col>view</th><th scope=col>variable</th><th scope=col>type</th><th scope=col>n</th><th scope=col>fraction</th><th scope=col>amount_features</th><th scope=col>percentage</th></tr>\n",
       "\t<tr><th></th><th scope=col>&lt;chr&gt;</th><th scope=col>&lt;fct&gt;</th><th scope=col>&lt;chr&gt;</th><th scope=col>&lt;int&gt;</th><th scope=col>&lt;dbl&gt;</th><th scope=col>&lt;int&gt;</th><th scope=col>&lt;dbl&gt;</th></tr>\n",
       "</thead>\n",
       "<tbody>\n",
       "\t<tr><th scope=row>1</th><td>B.cell</td><td>Factor1</td><td>Bcell</td><td>686</td><td>0.500</td><td>686</td><td>1.00000000</td></tr>\n",
       "\t<tr><th scope=row>2</th><td>B.cell</td><td>Factor1</td><td>Bcell</td><td> 15</td><td>0.025</td><td>686</td><td>0.02186589</td></tr>\n",
       "</tbody>\n",
       "</table>\n"
      ],
      "text/latex": [
       "A data.frame: 2 × 7\n",
       "\\begin{tabular}{r|lllllll}\n",
       "  & view & variable & type & n & fraction & amount\\_features & percentage\\\\\n",
       "  & <chr> & <fct> & <chr> & <int> & <dbl> & <int> & <dbl>\\\\\n",
       "\\hline\n",
       "\t1 & B.cell & Factor1 & Bcell & 686 & 0.500 & 686 & 1.00000000\\\\\n",
       "\t2 & B.cell & Factor1 & Bcell &  15 & 0.025 & 686 & 0.02186589\\\\\n",
       "\\end{tabular}\n"
      ],
      "text/markdown": [
       "\n",
       "A data.frame: 2 × 7\n",
       "\n",
       "| <!--/--> | view &lt;chr&gt; | variable &lt;fct&gt; | type &lt;chr&gt; | n &lt;int&gt; | fraction &lt;dbl&gt; | amount_features &lt;int&gt; | percentage &lt;dbl&gt; |\n",
       "|---|---|---|---|---|---|---|---|\n",
       "| 1 | B.cell | Factor1 | Bcell | 686 | 0.500 | 686 | 1.00000000 |\n",
       "| 2 | B.cell | Factor1 | Bcell |  15 | 0.025 | 686 | 0.02186589 |\n",
       "\n"
      ],
      "text/plain": [
       "  view   variable type  n   fraction amount_features percentage\n",
       "1 B.cell Factor1  Bcell 686 0.500    686             1.00000000\n",
       "2 B.cell Factor1  Bcell  15 0.025    686             0.02186589"
      ]
     },
     "metadata": {},
     "output_type": "display_data"
    }
   ],
   "source": [
    "head(geneset_oi_amounts,2)"
   ]
  },
  {
   "cell_type": "code",
   "execution_count": 251,
   "id": "1af8f7b8-d3c8-4004-b778-2d4d0397d692",
   "metadata": {},
   "outputs": [],
   "source": [
    "geneset_oi_amounts[is.na(geneset_oi_amounts)] = 0"
   ]
  },
  {
   "cell_type": "markdown",
   "id": "fd886024-83c4-4ef4-8c28-1e343ed2396a",
   "metadata": {
    "tags": []
   },
   "source": [
    "## Prepare heatmap data (based on normalized expression values)"
   ]
  },
  {
   "cell_type": "code",
   "execution_count": 291,
   "id": "ceb97a8b-4ccd-46f7-886b-cc5e4e662cb9",
   "metadata": {},
   "outputs": [],
   "source": [
    "### Subset on a selected fraction/ set of variables"
   ]
  },
  {
   "cell_type": "code",
   "execution_count": 252,
   "id": "7850a79c-9fd4-4423-963d-af0271f81027",
   "metadata": {},
   "outputs": [
    {
     "data": {
      "text/html": [
       "<style>\n",
       ".list-inline {list-style: none; margin:0; padding: 0}\n",
       ".list-inline>li {display: inline-block}\n",
       ".list-inline>li:not(:last-child)::after {content: \"\\00b7\"; padding: 0 .5ex}\n",
       "</style>\n",
       "<ol class=list-inline><li>5e-04</li><li>0.001</li><li>0.0025</li><li>0.005</li><li>0.025</li><li>0.05</li><li>0.1</li><li>0.5</li></ol>\n"
      ],
      "text/latex": [
       "\\begin{enumerate*}\n",
       "\\item 5e-04\n",
       "\\item 0.001\n",
       "\\item 0.0025\n",
       "\\item 0.005\n",
       "\\item 0.025\n",
       "\\item 0.05\n",
       "\\item 0.1\n",
       "\\item 0.5\n",
       "\\end{enumerate*}\n"
      ],
      "text/markdown": [
       "1. 5e-04\n",
       "2. 0.001\n",
       "3. 0.0025\n",
       "4. 0.005\n",
       "5. 0.025\n",
       "6. 0.05\n",
       "7. 0.1\n",
       "8. 0.5\n",
       "\n",
       "\n"
      ],
      "text/plain": [
       "[1] 0.0005 0.0010 0.0025 0.0050 0.0250 0.0500 0.1000 0.5000"
      ]
     },
     "metadata": {},
     "output_type": "display_data"
    }
   ],
   "source": [
    "unique(geneset_oi_per_fraction$fraction)"
   ]
  },
  {
   "cell_type": "code",
   "execution_count": 253,
   "id": "dc36497e-054b-4fa9-bec3-78c0cc0f8d3c",
   "metadata": {},
   "outputs": [],
   "source": [
    "### Choose a subset of factors\n",
    "analysis_data_subset = geneset_oi_per_fraction[geneset_oi_per_fraction$variable %in% c('Factor1', 'Factor2','Factor3', 'Factor4'),]"
   ]
  },
  {
   "cell_type": "code",
   "execution_count": 254,
   "id": "c0f22d75-3dff-49cb-b1e8-4d242b19522d",
   "metadata": {},
   "outputs": [],
   "source": [
    "### Define direction of effect of the features"
   ]
  },
  {
   "cell_type": "code",
   "execution_count": 255,
   "id": "de6f742f-7ac2-4b17-a579-678add9b7454",
   "metadata": {},
   "outputs": [],
   "source": [
    "analysis_data_subset$direction_sign = analysis_data_subset$direction\n",
    "analysis_data_subset$direction_sign[analysis_data_subset$direction == 'positive'] = '+'\n",
    "analysis_data_subset$direction_sign[analysis_data_subset$direction == 'negative'] = '-'"
   ]
  },
  {
   "cell_type": "code",
   "execution_count": 256,
   "id": "5eea74a0-70b4-4cda-98fa-820f7e5f174e",
   "metadata": {},
   "outputs": [],
   "source": [
    "### Adjust cell-type columns"
   ]
  },
  {
   "cell_type": "code",
   "execution_count": 257,
   "id": "a9e1231c-59f6-4626-9524-a50f69388e3b",
   "metadata": {},
   "outputs": [],
   "source": [
    "analysis_data_subset$cell_type = str_replace(analysis_data_subset$view, '\\\\(Cluster.*\\\\)', '')\n",
    "analysis_data_subset$cluster = str_extract(analysis_data_subset$view, '\\\\(Cluster.*\\\\)')\n",
    "analysis_data_subset$cluster = str_replace_all(analysis_data_subset$cluster, '\\\\(|\\\\)', '')"
   ]
  },
  {
   "cell_type": "code",
   "execution_count": 258,
   "id": "e3065d04-b275-4fc0-a018-2677404ade48",
   "metadata": {},
   "outputs": [],
   "source": [
    "analysis_data_subset$facet =  paste0(analysis_data_subset$direction_sign, analysis_data_subset$view)"
   ]
  },
  {
   "cell_type": "code",
   "execution_count": 259,
   "id": "f4795e22-a329-45ef-9d6d-077e90ffb604",
   "metadata": {},
   "outputs": [],
   "source": [
    "analysis_data_subset$cluster[is.na(analysis_data_subset$cluster)] = analysis_data_subset$cell_type[is.na(analysis_data_subset$cluster)]"
   ]
  },
  {
   "cell_type": "code",
   "execution_count": 260,
   "id": "fb0daf6b-ba39-4209-837b-3b1fdca62ea0",
   "metadata": {},
   "outputs": [],
   "source": [
    "### Merge with normalized expression data"
   ]
  },
  {
   "cell_type": "code",
   "execution_count": 261,
   "id": "9f6f1119-37eb-4ae1-8606-bf293f7d82c6",
   "metadata": {},
   "outputs": [
    {
     "data": {
      "text/html": [
       "<table class=\"dataframe\">\n",
       "<caption>A data.frame: 2 × 4</caption>\n",
       "<thead>\n",
       "\t<tr><th></th><th scope=col>sample_id</th><th scope=col>variable</th><th scope=col>value</th><th scope=col>type</th></tr>\n",
       "\t<tr><th></th><th scope=col>&lt;chr&gt;</th><th scope=col>&lt;chr&gt;</th><th scope=col>&lt;dbl&gt;</th><th scope=col>&lt;chr&gt;</th></tr>\n",
       "</thead>\n",
       "<tbody>\n",
       "\t<tr><th scope=row>1</th><td>k1 </td><td>CK</td><td>-2.397022</td><td>clinical_data</td></tr>\n",
       "\t<tr><th scope=row>2</th><td>k10</td><td>CK</td><td>       NA</td><td>clinical_data</td></tr>\n",
       "</tbody>\n",
       "</table>\n"
      ],
      "text/latex": [
       "A data.frame: 2 × 4\n",
       "\\begin{tabular}{r|llll}\n",
       "  & sample\\_id & variable & value & type\\\\\n",
       "  & <chr> & <chr> & <dbl> & <chr>\\\\\n",
       "\\hline\n",
       "\t1 & k1  & CK & -2.397022 & clinical\\_data\\\\\n",
       "\t2 & k10 & CK &        NA & clinical\\_data\\\\\n",
       "\\end{tabular}\n"
      ],
      "text/markdown": [
       "\n",
       "A data.frame: 2 × 4\n",
       "\n",
       "| <!--/--> | sample_id &lt;chr&gt; | variable &lt;chr&gt; | value &lt;dbl&gt; | type &lt;chr&gt; |\n",
       "|---|---|---|---|---|\n",
       "| 1 | k1  | CK | -2.397022 | clinical_data |\n",
       "| 2 | k10 | CK |        NA | clinical_data |\n",
       "\n"
      ],
      "text/plain": [
       "  sample_id variable value     type         \n",
       "1 k1        CK       -2.397022 clinical_data\n",
       "2 k10       CK              NA clinical_data"
      ]
     },
     "metadata": {},
     "output_type": "display_data"
    }
   ],
   "source": [
    "head(data_long,2)"
   ]
  },
  {
   "cell_type": "code",
   "execution_count": 262,
   "id": "5a2bca12-cf44-46d0-b983-1d27b5996ac0",
   "metadata": {},
   "outputs": [],
   "source": [
    "colnames(data_long) = c('sample_id', 'variable_name', 'expression_value', 'type')"
   ]
  },
  {
   "cell_type": "code",
   "execution_count": 263,
   "id": "fb4ab316-1bce-4c39-ad72-c0f89742371c",
   "metadata": {},
   "outputs": [],
   "source": [
    "heatmap_data = merge(data_long, analysis_data_subset, by.x = c('variable_name'), by.y = c('variable_name'))"
   ]
  },
  {
   "cell_type": "code",
   "execution_count": 264,
   "id": "0b861086-ccbd-4842-8d43-4a1e81409d08",
   "metadata": {},
   "outputs": [
    {
     "data": {
      "text/html": [
       "<style>\n",
       ".list-inline {list-style: none; margin:0; padding: 0}\n",
       ".list-inline>li {display: inline-block}\n",
       ".list-inline>li:not(:last-child)::after {content: \"\\00b7\"; padding: 0 .5ex}\n",
       "</style>\n",
       "<ol class=list-inline><li>'Proteomics'</li><li>'Neutrophil'</li><li>'B.cell'</li><li>'Cytokine'</li><li>'CD14.Mono'</li><li>'CD16.Mono'</li><li>'CD4.CTL'</li><li>'CD4.Naive'</li><li>'CD4.TCM'</li><li>'CD4.TEM'</li><li>'CD8.Naive'</li><li>'CD8.TEM'</li><li>'cDC2'</li><li>'Clinical_data'</li><li>'gdT'</li><li>'NK'</li><li>'Treg'</li></ol>\n"
      ],
      "text/latex": [
       "\\begin{enumerate*}\n",
       "\\item 'Proteomics'\n",
       "\\item 'Neutrophil'\n",
       "\\item 'B.cell'\n",
       "\\item 'Cytokine'\n",
       "\\item 'CD14.Mono'\n",
       "\\item 'CD16.Mono'\n",
       "\\item 'CD4.CTL'\n",
       "\\item 'CD4.Naive'\n",
       "\\item 'CD4.TCM'\n",
       "\\item 'CD4.TEM'\n",
       "\\item 'CD8.Naive'\n",
       "\\item 'CD8.TEM'\n",
       "\\item 'cDC2'\n",
       "\\item 'Clinical\\_data'\n",
       "\\item 'gdT'\n",
       "\\item 'NK'\n",
       "\\item 'Treg'\n",
       "\\end{enumerate*}\n"
      ],
      "text/markdown": [
       "1. 'Proteomics'\n",
       "2. 'Neutrophil'\n",
       "3. 'B.cell'\n",
       "4. 'Cytokine'\n",
       "5. 'CD14.Mono'\n",
       "6. 'CD16.Mono'\n",
       "7. 'CD4.CTL'\n",
       "8. 'CD4.Naive'\n",
       "9. 'CD4.TCM'\n",
       "10. 'CD4.TEM'\n",
       "11. 'CD8.Naive'\n",
       "12. 'CD8.TEM'\n",
       "13. 'cDC2'\n",
       "14. 'Clinical_data'\n",
       "15. 'gdT'\n",
       "16. 'NK'\n",
       "17. 'Treg'\n",
       "\n",
       "\n"
      ],
      "text/plain": [
       " [1] \"Proteomics\"    \"Neutrophil\"    \"B.cell\"        \"Cytokine\"     \n",
       " [5] \"CD14.Mono\"     \"CD16.Mono\"     \"CD4.CTL\"       \"CD4.Naive\"    \n",
       " [9] \"CD4.TCM\"       \"CD4.TEM\"       \"CD8.Naive\"     \"CD8.TEM\"      \n",
       "[13] \"cDC2\"          \"Clinical_data\" \"gdT\"           \"NK\"           \n",
       "[17] \"Treg\"         "
      ]
     },
     "metadata": {},
     "output_type": "display_data"
    }
   ],
   "source": [
    "unique(heatmap_data$view)"
   ]
  },
  {
   "cell_type": "code",
   "execution_count": 265,
   "id": "47fa3944-b871-4444-84af-03561cce03a5",
   "metadata": {},
   "outputs": [
    {
     "data": {
      "text/html": [
       "6401024"
      ],
      "text/latex": [
       "6401024"
      ],
      "text/markdown": [
       "6401024"
      ],
      "text/plain": [
       "[1] 6401024"
      ]
     },
     "metadata": {},
     "output_type": "display_data"
    }
   ],
   "source": [
    "nrow(heatmap_data)"
   ]
  },
  {
   "cell_type": "code",
   "execution_count": 266,
   "id": "f585abb3-14c3-47aa-983a-b8679bb8cef4",
   "metadata": {},
   "outputs": [
    {
     "data": {
      "text/html": [
       "<table class=\"dataframe\">\n",
       "<caption>A data.frame: 2 × 15</caption>\n",
       "<thead>\n",
       "\t<tr><th></th><th scope=col>variable_name</th><th scope=col>sample_id</th><th scope=col>expression_value</th><th scope=col>type.x</th><th scope=col>type.y</th><th scope=col>gene</th><th scope=col>view</th><th scope=col>variable</th><th scope=col>value</th><th scope=col>direction</th><th scope=col>fraction</th><th scope=col>direction_sign</th><th scope=col>cell_type</th><th scope=col>cluster</th><th scope=col>facet</th></tr>\n",
       "\t<tr><th></th><th scope=col>&lt;chr&gt;</th><th scope=col>&lt;chr&gt;</th><th scope=col>&lt;dbl&gt;</th><th scope=col>&lt;chr&gt;</th><th scope=col>&lt;chr&gt;</th><th scope=col>&lt;chr&gt;</th><th scope=col>&lt;chr&gt;</th><th scope=col>&lt;fct&gt;</th><th scope=col>&lt;dbl&gt;</th><th scope=col>&lt;chr&gt;</th><th scope=col>&lt;dbl&gt;</th><th scope=col>&lt;chr&gt;</th><th scope=col>&lt;chr&gt;</th><th scope=col>&lt;chr&gt;</th><th scope=col>&lt;chr&gt;</th></tr>\n",
       "</thead>\n",
       "<tbody>\n",
       "\t<tr><th scope=row>1</th><td>A1BG_M0R009</td><td>k1</td><td>NA</td><td>proteomics</td><td>proteomics</td><td>A1BG_M0R009</td><td>Proteomics</td><td>Factor4</td><td> 0.02938211</td><td>positive</td><td>0.5</td><td>+</td><td>Proteomics</td><td>Proteomics</td><td>+Proteomics</td></tr>\n",
       "\t<tr><th scope=row>2</th><td>A1BG_M0R009</td><td>k1</td><td>NA</td><td>proteomics</td><td>proteomics</td><td>A1BG_M0R009</td><td>Proteomics</td><td>Factor2</td><td>-0.08528822</td><td>negative</td><td>0.5</td><td>-</td><td>Proteomics</td><td>Proteomics</td><td>-Proteomics</td></tr>\n",
       "</tbody>\n",
       "</table>\n"
      ],
      "text/latex": [
       "A data.frame: 2 × 15\n",
       "\\begin{tabular}{r|lllllllllllllll}\n",
       "  & variable\\_name & sample\\_id & expression\\_value & type.x & type.y & gene & view & variable & value & direction & fraction & direction\\_sign & cell\\_type & cluster & facet\\\\\n",
       "  & <chr> & <chr> & <dbl> & <chr> & <chr> & <chr> & <chr> & <fct> & <dbl> & <chr> & <dbl> & <chr> & <chr> & <chr> & <chr>\\\\\n",
       "\\hline\n",
       "\t1 & A1BG\\_M0R009 & k1 & NA & proteomics & proteomics & A1BG\\_M0R009 & Proteomics & Factor4 &  0.02938211 & positive & 0.5 & + & Proteomics & Proteomics & +Proteomics\\\\\n",
       "\t2 & A1BG\\_M0R009 & k1 & NA & proteomics & proteomics & A1BG\\_M0R009 & Proteomics & Factor2 & -0.08528822 & negative & 0.5 & - & Proteomics & Proteomics & -Proteomics\\\\\n",
       "\\end{tabular}\n"
      ],
      "text/markdown": [
       "\n",
       "A data.frame: 2 × 15\n",
       "\n",
       "| <!--/--> | variable_name &lt;chr&gt; | sample_id &lt;chr&gt; | expression_value &lt;dbl&gt; | type.x &lt;chr&gt; | type.y &lt;chr&gt; | gene &lt;chr&gt; | view &lt;chr&gt; | variable &lt;fct&gt; | value &lt;dbl&gt; | direction &lt;chr&gt; | fraction &lt;dbl&gt; | direction_sign &lt;chr&gt; | cell_type &lt;chr&gt; | cluster &lt;chr&gt; | facet &lt;chr&gt; |\n",
       "|---|---|---|---|---|---|---|---|---|---|---|---|---|---|---|---|\n",
       "| 1 | A1BG_M0R009 | k1 | NA | proteomics | proteomics | A1BG_M0R009 | Proteomics | Factor4 |  0.02938211 | positive | 0.5 | + | Proteomics | Proteomics | +Proteomics |\n",
       "| 2 | A1BG_M0R009 | k1 | NA | proteomics | proteomics | A1BG_M0R009 | Proteomics | Factor2 | -0.08528822 | negative | 0.5 | - | Proteomics | Proteomics | -Proteomics |\n",
       "\n"
      ],
      "text/plain": [
       "  variable_name sample_id expression_value type.x     type.y     gene       \n",
       "1 A1BG_M0R009   k1        NA               proteomics proteomics A1BG_M0R009\n",
       "2 A1BG_M0R009   k1        NA               proteomics proteomics A1BG_M0R009\n",
       "  view       variable value       direction fraction direction_sign cell_type \n",
       "1 Proteomics Factor4   0.02938211 positive  0.5      +              Proteomics\n",
       "2 Proteomics Factor2  -0.08528822 negative  0.5      -              Proteomics\n",
       "  cluster    facet      \n",
       "1 Proteomics +Proteomics\n",
       "2 Proteomics -Proteomics"
      ]
     },
     "metadata": {},
     "output_type": "display_data"
    }
   ],
   "source": [
    "head(heatmap_data,2)"
   ]
  },
  {
   "cell_type": "code",
   "execution_count": 267,
   "id": "7f1842fa-43a0-4c77-9350-0566d7f2101a",
   "metadata": {},
   "outputs": [],
   "source": [
    "### Add sample meta-data"
   ]
  },
  {
   "cell_type": "code",
   "execution_count": 268,
   "id": "bbcdbed0-da56-48ce-9e03-8c35075c0af1",
   "metadata": {},
   "outputs": [],
   "source": [
    "#colnames(sample_data)"
   ]
  },
  {
   "cell_type": "code",
   "execution_count": 269,
   "id": "96578774-835e-4ead-ab28-6923dcc16bf8",
   "metadata": {},
   "outputs": [],
   "source": [
    "heatmap_data = merge(heatmap_data, unique(sample_data[,c('measurement', 'classification', 'sample_id', 'delta_ef_value_class', 'class', 'measurement2', 'measurement_class', 'delta_ef_value_class_summarized','tp_outcome' )]), by.x = 'sample_id', by.y = 'sample_id')"
   ]
  },
  {
   "cell_type": "code",
   "execution_count": 270,
   "id": "fdc9a3b0-70db-4c91-87a3-02ceda899cbb",
   "metadata": {},
   "outputs": [
    {
     "data": {
      "text/html": [
       "<table class=\"dataframe\">\n",
       "<caption>A data.frame: 2 × 23</caption>\n",
       "<thead>\n",
       "\t<tr><th></th><th scope=col>sample_id</th><th scope=col>variable_name</th><th scope=col>expression_value</th><th scope=col>type.x</th><th scope=col>type.y</th><th scope=col>gene</th><th scope=col>view</th><th scope=col>variable</th><th scope=col>value</th><th scope=col>direction</th><th scope=col>⋯</th><th scope=col>cluster</th><th scope=col>facet</th><th scope=col>measurement</th><th scope=col>classification</th><th scope=col>delta_ef_value_class</th><th scope=col>class</th><th scope=col>measurement2</th><th scope=col>measurement_class</th><th scope=col>delta_ef_value_class_summarized</th><th scope=col>tp_outcome</th></tr>\n",
       "\t<tr><th></th><th scope=col>&lt;chr&gt;</th><th scope=col>&lt;chr&gt;</th><th scope=col>&lt;dbl&gt;</th><th scope=col>&lt;chr&gt;</th><th scope=col>&lt;chr&gt;</th><th scope=col>&lt;chr&gt;</th><th scope=col>&lt;chr&gt;</th><th scope=col>&lt;fct&gt;</th><th scope=col>&lt;dbl&gt;</th><th scope=col>&lt;chr&gt;</th><th scope=col>⋯</th><th scope=col>&lt;chr&gt;</th><th scope=col>&lt;chr&gt;</th><th scope=col>&lt;chr&gt;</th><th scope=col>&lt;chr&gt;</th><th scope=col>&lt;chr&gt;</th><th scope=col>&lt;chr&gt;</th><th scope=col>&lt;chr&gt;</th><th scope=col>&lt;chr&gt;</th><th scope=col>&lt;chr&gt;</th><th scope=col>&lt;chr&gt;</th></tr>\n",
       "</thead>\n",
       "<tbody>\n",
       "\t<tr><th scope=row>1</th><td>k1</td><td>A1BG_M0R009</td><td>NA</td><td>proteomics</td><td>proteomics</td><td>A1BG_M0R009</td><td>Proteomics</td><td>Factor4</td><td> 0.02938211</td><td>positive</td><td>⋯</td><td>Proteomics</td><td>+Proteomics</td><td>TP0</td><td>vollstaendiger_ausschluss</td><td>NA</td><td>no_ccs</td><td>TP0_no_ccs</td><td>TP0_vollstaendiger_ausschluss</td><td>NA</td><td>TP0_NA</td></tr>\n",
       "\t<tr><th scope=row>2</th><td>k1</td><td>A1BG_M0R009</td><td>NA</td><td>proteomics</td><td>proteomics</td><td>A1BG_M0R009</td><td>Proteomics</td><td>Factor2</td><td>-0.08528822</td><td>negative</td><td>⋯</td><td>Proteomics</td><td>-Proteomics</td><td>TP0</td><td>vollstaendiger_ausschluss</td><td>NA</td><td>no_ccs</td><td>TP0_no_ccs</td><td>TP0_vollstaendiger_ausschluss</td><td>NA</td><td>TP0_NA</td></tr>\n",
       "</tbody>\n",
       "</table>\n"
      ],
      "text/latex": [
       "A data.frame: 2 × 23\n",
       "\\begin{tabular}{r|lllllllllllllllllllll}\n",
       "  & sample\\_id & variable\\_name & expression\\_value & type.x & type.y & gene & view & variable & value & direction & ⋯ & cluster & facet & measurement & classification & delta\\_ef\\_value\\_class & class & measurement2 & measurement\\_class & delta\\_ef\\_value\\_class\\_summarized & tp\\_outcome\\\\\n",
       "  & <chr> & <chr> & <dbl> & <chr> & <chr> & <chr> & <chr> & <fct> & <dbl> & <chr> & ⋯ & <chr> & <chr> & <chr> & <chr> & <chr> & <chr> & <chr> & <chr> & <chr> & <chr>\\\\\n",
       "\\hline\n",
       "\t1 & k1 & A1BG\\_M0R009 & NA & proteomics & proteomics & A1BG\\_M0R009 & Proteomics & Factor4 &  0.02938211 & positive & ⋯ & Proteomics & +Proteomics & TP0 & vollstaendiger\\_ausschluss & NA & no\\_ccs & TP0\\_no\\_ccs & TP0\\_vollstaendiger\\_ausschluss & NA & TP0\\_NA\\\\\n",
       "\t2 & k1 & A1BG\\_M0R009 & NA & proteomics & proteomics & A1BG\\_M0R009 & Proteomics & Factor2 & -0.08528822 & negative & ⋯ & Proteomics & -Proteomics & TP0 & vollstaendiger\\_ausschluss & NA & no\\_ccs & TP0\\_no\\_ccs & TP0\\_vollstaendiger\\_ausschluss & NA & TP0\\_NA\\\\\n",
       "\\end{tabular}\n"
      ],
      "text/markdown": [
       "\n",
       "A data.frame: 2 × 23\n",
       "\n",
       "| <!--/--> | sample_id &lt;chr&gt; | variable_name &lt;chr&gt; | expression_value &lt;dbl&gt; | type.x &lt;chr&gt; | type.y &lt;chr&gt; | gene &lt;chr&gt; | view &lt;chr&gt; | variable &lt;fct&gt; | value &lt;dbl&gt; | direction &lt;chr&gt; | ⋯ ⋯ | cluster &lt;chr&gt; | facet &lt;chr&gt; | measurement &lt;chr&gt; | classification &lt;chr&gt; | delta_ef_value_class &lt;chr&gt; | class &lt;chr&gt; | measurement2 &lt;chr&gt; | measurement_class &lt;chr&gt; | delta_ef_value_class_summarized &lt;chr&gt; | tp_outcome &lt;chr&gt; |\n",
       "|---|---|---|---|---|---|---|---|---|---|---|---|---|---|---|---|---|---|---|---|---|---|\n",
       "| 1 | k1 | A1BG_M0R009 | NA | proteomics | proteomics | A1BG_M0R009 | Proteomics | Factor4 |  0.02938211 | positive | ⋯ | Proteomics | +Proteomics | TP0 | vollstaendiger_ausschluss | NA | no_ccs | TP0_no_ccs | TP0_vollstaendiger_ausschluss | NA | TP0_NA |\n",
       "| 2 | k1 | A1BG_M0R009 | NA | proteomics | proteomics | A1BG_M0R009 | Proteomics | Factor2 | -0.08528822 | negative | ⋯ | Proteomics | -Proteomics | TP0 | vollstaendiger_ausschluss | NA | no_ccs | TP0_no_ccs | TP0_vollstaendiger_ausschluss | NA | TP0_NA |\n",
       "\n"
      ],
      "text/plain": [
       "  sample_id variable_name expression_value type.x     type.y     gene       \n",
       "1 k1        A1BG_M0R009   NA               proteomics proteomics A1BG_M0R009\n",
       "2 k1        A1BG_M0R009   NA               proteomics proteomics A1BG_M0R009\n",
       "  view       variable value       direction ⋯ cluster    facet      \n",
       "1 Proteomics Factor4   0.02938211 positive  ⋯ Proteomics +Proteomics\n",
       "2 Proteomics Factor2  -0.08528822 negative  ⋯ Proteomics -Proteomics\n",
       "  measurement classification            delta_ef_value_class class \n",
       "1 TP0         vollstaendiger_ausschluss NA                   no_ccs\n",
       "2 TP0         vollstaendiger_ausschluss NA                   no_ccs\n",
       "  measurement2 measurement_class             delta_ef_value_class_summarized\n",
       "1 TP0_no_ccs   TP0_vollstaendiger_ausschluss NA                             \n",
       "2 TP0_no_ccs   TP0_vollstaendiger_ausschluss NA                             \n",
       "  tp_outcome\n",
       "1 TP0_NA    \n",
       "2 TP0_NA    "
      ]
     },
     "metadata": {},
     "output_type": "display_data"
    }
   ],
   "source": [
    "head(heatmap_data,2)"
   ]
  },
  {
   "cell_type": "code",
   "execution_count": 271,
   "id": "3cde950a-11c1-4798-82c6-24212d7e07de",
   "metadata": {},
   "outputs": [],
   "source": [
    "heatmap_data = heatmap_data[heatmap_data$sample_id %in% samples,]"
   ]
  },
  {
   "cell_type": "code",
   "execution_count": 272,
   "id": "d1baded7-375c-492a-942c-d6b09fe60245",
   "metadata": {
    "tags": []
   },
   "outputs": [],
   "source": [
    "### Prepare Plotting"
   ]
  },
  {
   "cell_type": "code",
   "execution_count": 273,
   "id": "24292dcc-88a9-4606-b852-ecd75279db9e",
   "metadata": {},
   "outputs": [
    {
     "data": {
      "text/html": [
       "128"
      ],
      "text/latex": [
       "128"
      ],
      "text/markdown": [
       "128"
      ],
      "text/plain": [
       "[1] 128"
      ]
     },
     "metadata": {},
     "output_type": "display_data"
    }
   ],
   "source": [
    "length(unique(heatmap_data$sample_id))"
   ]
  },
  {
   "cell_type": "markdown",
   "id": "4016f142-473d-4d67-b30a-31ad211a556c",
   "metadata": {},
   "source": [
    "# Plots"
   ]
  },
  {
   "cell_type": "markdown",
   "id": "b23a8144-d20d-45de-abf9-5f9200196b69",
   "metadata": {
    "tags": []
   },
   "source": [
    "## Visualize Factor Patterns (Boxplot/ Lineplot)"
   ]
  },
  {
   "cell_type": "markdown",
   "id": "549c4492-4bdd-4fcc-896b-f4b16d293e0e",
   "metadata": {
    "tags": []
   },
   "source": [
    "### All factors pattern visualization"
   ]
  },
  {
   "cell_type": "code",
   "execution_count": 283,
   "id": "25f994e8-bf87-4345-8d6c-c0ac524d9268",
   "metadata": {},
   "outputs": [
    {
     "data": {
      "text/html": [
       "<style>\n",
       ".list-inline {list-style: none; margin:0; padding: 0}\n",
       ".list-inline>li {display: inline-block}\n",
       ".list-inline>li:not(:last-child)::after {content: \"\\00b7\"; padding: 0 .5ex}\n",
       "</style>\n",
       "<ol class=list-inline><li>'TP0'</li><li>'TP1'</li><li>'TP2'</li><li>'TP3'</li><li>'TP4'</li></ol>\n"
      ],
      "text/latex": [
       "\\begin{enumerate*}\n",
       "\\item 'TP0'\n",
       "\\item 'TP1'\n",
       "\\item 'TP2'\n",
       "\\item 'TP3'\n",
       "\\item 'TP4'\n",
       "\\end{enumerate*}\n"
      ],
      "text/markdown": [
       "1. 'TP0'\n",
       "2. 'TP1'\n",
       "3. 'TP2'\n",
       "4. 'TP3'\n",
       "5. 'TP4'\n",
       "\n",
       "\n"
      ],
      "text/plain": [
       "[1] \"TP0\" \"TP1\" \"TP2\" \"TP3\" \"TP4\""
      ]
     },
     "metadata": {},
     "output_type": "display_data"
    }
   ],
   "source": [
    "unique(merged_data_long$measurement)"
   ]
  },
  {
   "cell_type": "code",
   "execution_count": 284,
   "id": "6a273932-1bd7-4e0b-b19d-a33974fd006a",
   "metadata": {},
   "outputs": [],
   "source": [
    "### Replace TP0 by CCS/ No -CCS classification"
   ]
  },
  {
   "cell_type": "code",
   "execution_count": 285,
   "id": "ac065b05-fd21-4b31-8fdb-5b3ccf39f35f",
   "metadata": {},
   "outputs": [],
   "source": [
    "merged_data_long$measurement_concat = merged_data_long$measurement\n",
    "\n",
    "merged_data_long$measurement_concat[merged_data_long$measurement == 'TP0'] = paste0(merged_data_long$measurement[merged_data_long$measurement == 'TP0'], '_',\n",
    "            merged_data_long$class[merged_data_long$measurement == 'TP0'])"
   ]
  },
  {
   "cell_type": "code",
   "execution_count": 286,
   "id": "3a73e706-979a-4809-967d-c64f24b28551",
   "metadata": {},
   "outputs": [],
   "source": [
    "merged_data_long$measurement_concat = str_replace(merged_data_long$measurement_concat, 'TP0_no_ccs', 'No CCS')\n",
    "merged_data_long$measurement_concat = str_replace(merged_data_long$measurement_concat, 'TP0_ccs', 'CCS')"
   ]
  },
  {
   "cell_type": "code",
   "execution_count": 287,
   "id": "f28ecc59-3bf1-4d11-82da-7cab0641d911",
   "metadata": {},
   "outputs": [
    {
     "data": {
      "text/html": [
       "<style>\n",
       ".list-inline {list-style: none; margin:0; padding: 0}\n",
       ".list-inline>li {display: inline-block}\n",
       ".list-inline>li:not(:last-child)::after {content: \"\\00b7\"; padding: 0 .5ex}\n",
       "</style>\n",
       "<ol class=list-inline><li>'No CCS'</li><li>'CCS'</li><li>'TP1'</li><li>'TP2'</li><li>'TP3'</li><li>'TP4'</li></ol>\n"
      ],
      "text/latex": [
       "\\begin{enumerate*}\n",
       "\\item 'No CCS'\n",
       "\\item 'CCS'\n",
       "\\item 'TP1'\n",
       "\\item 'TP2'\n",
       "\\item 'TP3'\n",
       "\\item 'TP4'\n",
       "\\end{enumerate*}\n"
      ],
      "text/markdown": [
       "1. 'No CCS'\n",
       "2. 'CCS'\n",
       "3. 'TP1'\n",
       "4. 'TP2'\n",
       "5. 'TP3'\n",
       "6. 'TP4'\n",
       "\n",
       "\n"
      ],
      "text/plain": [
       "[1] \"No CCS\" \"CCS\"    \"TP1\"    \"TP2\"    \"TP3\"    \"TP4\"   "
      ]
     },
     "metadata": {},
     "output_type": "display_data"
    }
   ],
   "source": [
    "unique(merged_data_long$measurement_concat)"
   ]
  },
  {
   "cell_type": "code",
   "execution_count": 288,
   "id": "9a7ee69a-6ad4-4f91-986b-17b86dab4bf0",
   "metadata": {},
   "outputs": [],
   "source": [
    "merged_data_long$measurement_concat = factor(merged_data_long$measurement_concat, levels = c('No CCS','CCS','TP1','TP2','TP3','TP4'))"
   ]
  },
  {
   "cell_type": "code",
   "execution_count": 289,
   "id": "b710c373-b23a-4871-9f30-3d91f7c52f08",
   "metadata": {},
   "outputs": [],
   "source": [
    "# Specific Text Descriptions:\n",
    "xlabel = xlab('') \n",
    "ylabel = ylab('Factor Value')"
   ]
  },
  {
   "cell_type": "code",
   "execution_count": 294,
   "id": "7bfcf94b-ce39-42d1-851b-027a7beb0555",
   "metadata": {},
   "outputs": [],
   "source": [
    "figure_name = \"SUPP2_Factor_Pattern_Time_Azimuth\""
   ]
  },
  {
   "cell_type": "code",
   "execution_count": 295,
   "id": "92e5b591-d8fa-4930-983b-288a73cf85ee",
   "metadata": {},
   "outputs": [],
   "source": [
    "# Sizes of the plot\n",
    "width_par = 8.07\n",
    "height_par = 3.5"
   ]
  },
  {
   "cell_type": "code",
   "execution_count": 296,
   "id": "fa95ae51-4d58-435a-b50d-c21fea353fa8",
   "metadata": {},
   "outputs": [
    {
     "data": {
      "text/html": [
       "<strong>png:</strong> 2"
      ],
      "text/latex": [
       "\\textbf{png:} 2"
      ],
      "text/markdown": [
       "**png:** 2"
      ],
      "text/plain": [
       "png \n",
       "  2 "
      ]
     },
     "metadata": {},
     "output_type": "display_data"
    }
   ],
   "source": [
    "# grouped boxplot\n",
    "#options(repr.plot.width=30, repr.plot.height=10)\n",
    "\n",
    "vis_data = merged_data_long\n",
    "g = ggplot(vis_data, aes(x=variable, y=value, fill = measurement_concat))  + \n",
    "    plot_config +\n",
    "    xlabel + \n",
    "    ylabel +\n",
    "    ccs_tp_fill +\n",
    "    ggtitle('Pattern of factor values') + \n",
    "    theme(legend.position = \"bottom\", axis.text.x = element_text(angle = 90))+\n",
    "    geom_boxplot(outlier.size = 0.05)   #+ geom_point(position=position_jitterdodge(jitter.width = 0.05), size = 0.005)\n",
    "#print(g)\n",
    "pdf(paste0('figures/G_Azimuth/', figure_name, name, train_opts$weight_views, '.pdf'), width =width_par, height =height_par)\n",
    "print(g)\n",
    "dev.off()\n",
    "\n"
   ]
  },
  {
   "cell_type": "code",
   "execution_count": 297,
   "id": "0077b700-b7ad-4ac8-9cc4-907aacc3ff3b",
   "metadata": {},
   "outputs": [
    {
     "data": {
      "text/html": [
       "<style>\n",
       ".list-inline {list-style: none; margin:0; padding: 0}\n",
       ".list-inline>li {display: inline-block}\n",
       ".list-inline>li:not(:last-child)::after {content: \"\\00b7\"; padding: 0 .5ex}\n",
       "</style>\n",
       "<ol class=list-inline><li>'vollstaendiger_ausschluss'</li><li>'ccs'</li><li>'koronarsklerose'</li><li>'acs_subacute'</li><li>'acs_w_infection'</li><li>'acs_w_o_infection'</li></ol>\n"
      ],
      "text/latex": [
       "\\begin{enumerate*}\n",
       "\\item 'vollstaendiger\\_ausschluss'\n",
       "\\item 'ccs'\n",
       "\\item 'koronarsklerose'\n",
       "\\item 'acs\\_subacute'\n",
       "\\item 'acs\\_w\\_infection'\n",
       "\\item 'acs\\_w\\_o\\_infection'\n",
       "\\end{enumerate*}\n"
      ],
      "text/markdown": [
       "1. 'vollstaendiger_ausschluss'\n",
       "2. 'ccs'\n",
       "3. 'koronarsklerose'\n",
       "4. 'acs_subacute'\n",
       "5. 'acs_w_infection'\n",
       "6. 'acs_w_o_infection'\n",
       "\n",
       "\n"
      ],
      "text/plain": [
       "[1] \"vollstaendiger_ausschluss\" \"ccs\"                      \n",
       "[3] \"koronarsklerose\"           \"acs_subacute\"             \n",
       "[5] \"acs_w_infection\"           \"acs_w_o_infection\"        "
      ]
     },
     "metadata": {},
     "output_type": "display_data"
    }
   ],
   "source": [
    "unique(vis_data$classification)"
   ]
  },
  {
   "cell_type": "markdown",
   "id": "4edbdaa0-be7e-420e-980a-a423a9d90c68",
   "metadata": {},
   "source": [
    "### Timeseries Visualization (good/ bad)"
   ]
  },
  {
   "cell_type": "code",
   "execution_count": 336,
   "id": "1c2e8736-2217-40e1-979f-ef74b0bc9195",
   "metadata": {},
   "outputs": [],
   "source": [
    "### Visualize with good/ poor outcome (poor = intermediate + bad)"
   ]
  },
  {
   "cell_type": "code",
   "execution_count": 337,
   "id": "c8d3b806-c4fd-412f-8bd7-fd1effbf769b",
   "metadata": {},
   "outputs": [],
   "source": [
    "# Specific Text Descriptions:\n",
    "xlabel = xlab('Timepoint') \n",
    "ylabel = ylab('Median Value')"
   ]
  },
  {
   "cell_type": "code",
   "execution_count": 338,
   "id": "228a2e90-af8c-455d-98cd-6bf6cde616f3",
   "metadata": {},
   "outputs": [],
   "source": [
    "# Sizes of the plot\n",
    "width_par = 2\n",
    "height_par = 2"
   ]
  },
  {
   "cell_type": "code",
   "execution_count": 339,
   "id": "a361af11-b6b4-4035-a43f-4a2b02b0e119",
   "metadata": {},
   "outputs": [],
   "source": [
    "figure_name = \"FIG3_E3_Factor_Patterns_Line_Plot_Classification\""
   ]
  },
  {
   "cell_type": "code",
   "execution_count": 340,
   "id": "36011b03-3e8e-43c6-b413-1fdf42d5ff39",
   "metadata": {
    "tags": []
   },
   "outputs": [
    {
     "name": "stderr",
     "output_type": "stream",
     "text": [
      "\u001b[1m\u001b[22m`summarise()` has grouped output by 'variable', 'measurement'. You can override\n",
      "using the `.groups` argument.\n",
      "Warning message:\n",
      "“\u001b[1m\u001b[22mUsing `size` aesthetic for lines was deprecated in ggplot2 3.4.0.\n",
      "\u001b[36mℹ\u001b[39m Please use `linewidth` instead.”\n",
      "\u001b[1m\u001b[22m`summarise()` has grouped output by 'variable', 'measurement'. You can override\n",
      "using the `.groups` argument.\n"
     ]
    }
   ],
   "source": [
    "for(i in c('Factor1',  'Factor3')){\n",
    "    # Filter on factor\n",
    "    vis_data = merged_data_long[merged_data_long$variable == i,]\n",
    "    \n",
    "    # Summarize data by relevant groups\n",
    "    vis_data = vis_data %>% group_by(variable, measurement, delta_ef_value_class_summarized) %>% summarise(mean_value = mean(value) , median_value = median(value), sd_value = sd(value), quant_75 = quantile(value, probs = seq(0, 1, 0.25))['75%'], quant_25 = quantile(value, probs = seq(0, 1, 0.25))['25%'])\n",
    "    \n",
    "    # Remove ccs samples\n",
    "    vis_data = vis_data[vis_data$measurement != 'TP0',]\n",
    "    \n",
    "    # Exclude NA\n",
    "    vis_data = vis_data[!is.na(vis_data$delta_ef_value_class_summarized) ,]\n",
    "    \n",
    "    # Plot Median Plots\n",
    "    \n",
    "\n",
    "    pdf(paste0('figures/G_Azimuth/', figure_name,i,'_', name, train_opts$weight_views,'.pdf'), width =width_par, height = height_par)\n",
    "    g = ggplot(data=vis_data, aes(x=measurement, y=median_value, group=delta_ef_value_class_summarized, color = delta_ef_value_class_summarized)) +\n",
    "      geom_line(aes(color = delta_ef_value_class_summarized) , size=line_size)+\n",
    "      geom_point(aes(color=delta_ef_value_class_summarized), size=point_size) +ggtitle(paste0(i)) + xlabel + ylabel +plot_config + geom_errorbar(aes(ymin=quant_25, ymax=quant_75 ), width=.1) + \n",
    "    good_bad_color +\n",
    "    theme(legend.position = 'none')\n",
    "    print(g)\n",
    "    dev.off()\n",
    "\n",
    "   } \n",
    "    "
   ]
  },
  {
   "cell_type": "code",
   "execution_count": 341,
   "id": "006854e8-b05f-443e-b779-31d8fdb964ef",
   "metadata": {},
   "outputs": [
    {
     "data": {
      "text/html": [
       "<style>\n",
       ".list-inline {list-style: none; margin:0; padding: 0}\n",
       ".list-inline>li {display: inline-block}\n",
       ".list-inline>li:not(:last-child)::after {content: \"\\00b7\"; padding: 0 .5ex}\n",
       "</style>\n",
       "<ol class=list-inline><li>'sample_id'</li><li>'sample'</li><li>'measurement'</li><li>'library'</li><li>'id.y'</li><li>'name'</li><li>'read'</li><li>'pattern'</li><li>'sequence'</li><li>'feature_type'</li><li>'X'</li><li>'measurement_tp'</li><li>'sex'</li><li>'classification'</li><li>'group'</li><li>'delta_ef_value_group'</li><li>'delta_ef_value'</li><li>'delta_ef_value_class'</li><li>'class'</li><li>'measurement2'</li><li>'measurement_class'</li><li>'delta_ef_value_class_summarized'</li><li>'tp_outcome'</li><li>'variable'</li><li>'value'</li><li>'class_measurement'</li><li>'measurement_concat'</li></ol>\n"
      ],
      "text/latex": [
       "\\begin{enumerate*}\n",
       "\\item 'sample\\_id'\n",
       "\\item 'sample'\n",
       "\\item 'measurement'\n",
       "\\item 'library'\n",
       "\\item 'id.y'\n",
       "\\item 'name'\n",
       "\\item 'read'\n",
       "\\item 'pattern'\n",
       "\\item 'sequence'\n",
       "\\item 'feature\\_type'\n",
       "\\item 'X'\n",
       "\\item 'measurement\\_tp'\n",
       "\\item 'sex'\n",
       "\\item 'classification'\n",
       "\\item 'group'\n",
       "\\item 'delta\\_ef\\_value\\_group'\n",
       "\\item 'delta\\_ef\\_value'\n",
       "\\item 'delta\\_ef\\_value\\_class'\n",
       "\\item 'class'\n",
       "\\item 'measurement2'\n",
       "\\item 'measurement\\_class'\n",
       "\\item 'delta\\_ef\\_value\\_class\\_summarized'\n",
       "\\item 'tp\\_outcome'\n",
       "\\item 'variable'\n",
       "\\item 'value'\n",
       "\\item 'class\\_measurement'\n",
       "\\item 'measurement\\_concat'\n",
       "\\end{enumerate*}\n"
      ],
      "text/markdown": [
       "1. 'sample_id'\n",
       "2. 'sample'\n",
       "3. 'measurement'\n",
       "4. 'library'\n",
       "5. 'id.y'\n",
       "6. 'name'\n",
       "7. 'read'\n",
       "8. 'pattern'\n",
       "9. 'sequence'\n",
       "10. 'feature_type'\n",
       "11. 'X'\n",
       "12. 'measurement_tp'\n",
       "13. 'sex'\n",
       "14. 'classification'\n",
       "15. 'group'\n",
       "16. 'delta_ef_value_group'\n",
       "17. 'delta_ef_value'\n",
       "18. 'delta_ef_value_class'\n",
       "19. 'class'\n",
       "20. 'measurement2'\n",
       "21. 'measurement_class'\n",
       "22. 'delta_ef_value_class_summarized'\n",
       "23. 'tp_outcome'\n",
       "24. 'variable'\n",
       "25. 'value'\n",
       "26. 'class_measurement'\n",
       "27. 'measurement_concat'\n",
       "\n",
       "\n"
      ],
      "text/plain": [
       " [1] \"sample_id\"                       \"sample\"                         \n",
       " [3] \"measurement\"                     \"library\"                        \n",
       " [5] \"id.y\"                            \"name\"                           \n",
       " [7] \"read\"                            \"pattern\"                        \n",
       " [9] \"sequence\"                        \"feature_type\"                   \n",
       "[11] \"X\"                               \"measurement_tp\"                 \n",
       "[13] \"sex\"                             \"classification\"                 \n",
       "[15] \"group\"                           \"delta_ef_value_group\"           \n",
       "[17] \"delta_ef_value\"                  \"delta_ef_value_class\"           \n",
       "[19] \"class\"                           \"measurement2\"                   \n",
       "[21] \"measurement_class\"               \"delta_ef_value_class_summarized\"\n",
       "[23] \"tp_outcome\"                      \"variable\"                       \n",
       "[25] \"value\"                           \"class_measurement\"              \n",
       "[27] \"measurement_concat\"             "
      ]
     },
     "metadata": {},
     "output_type": "display_data"
    }
   ],
   "source": [
    "colnames(merged_data_long)"
   ]
  },
  {
   "cell_type": "code",
   "execution_count": 342,
   "id": "972e39d3-4e32-4f25-92de-204e0b2ca96d",
   "metadata": {},
   "outputs": [
    {
     "data": {
      "text/html": [
       "0.283777442675252"
      ],
      "text/latex": [
       "0.283777442675252"
      ],
      "text/markdown": [
       "0.283777442675252"
      ],
      "text/plain": [
       "[1] 0.2837774"
      ]
     },
     "metadata": {},
     "output_type": "display_data"
    }
   ],
   "source": [
    "test = merged_data_long[(merged_data_long$variable == 'Factor1') & (merged_data_long$measurement == 'TP1'),]\n",
    "cor(as.numeric(test$delta_ef_value), test$value, use = 'pairwise.complete.obs')\n",
    "#test[order(test$value, decreasing = TRUE), c('library', 'sample_id', 'tp_outcome', 'value', 'delta_ef_value_class', 'delta_ef_value_group', 'delta_ef_value')]"
   ]
  },
  {
   "cell_type": "code",
   "execution_count": 343,
   "id": "5e78bdde-a491-4b96-af8e-9f2451e91f31",
   "metadata": {},
   "outputs": [
    {
     "data": {
      "text/html": [
       "-0.325023786441001"
      ],
      "text/latex": [
       "-0.325023786441001"
      ],
      "text/markdown": [
       "-0.325023786441001"
      ],
      "text/plain": [
       "[1] -0.3250238"
      ]
     },
     "metadata": {},
     "output_type": "display_data"
    }
   ],
   "source": [
    "test = merged_data_long[(merged_data_long$variable == 'Factor3') & (merged_data_long$measurement == 'TP1'),]\n",
    "cor(as.numeric(test$delta_ef_value), test$value, use = 'pairwise.complete.obs')\n",
    "#test[order(test$value, decreasing = TRUE), c('library', 'sample_id', 'tp_outcome', 'value', 'delta_ef_value_class')]"
   ]
  },
  {
   "cell_type": "code",
   "execution_count": 344,
   "id": "4c8b2779-24c7-425d-8b19-437ccd84b60d",
   "metadata": {},
   "outputs": [],
   "source": [
    "## correlation better for Factor 3"
   ]
  },
  {
   "cell_type": "markdown",
   "id": "ef10ad66-af9f-44e2-9caf-f6acc456d661",
   "metadata": {},
   "source": [
    "### Healthy vs. ccs vs. acs"
   ]
  },
  {
   "cell_type": "code",
   "execution_count": 302,
   "id": "fc6caa40-f2b9-476d-80c5-a6637a5ac1af",
   "metadata": {},
   "outputs": [
    {
     "data": {
      "text/html": [
       "<style>\n",
       ".list-inline {list-style: none; margin:0; padding: 0}\n",
       ".list-inline>li {display: inline-block}\n",
       ".list-inline>li:not(:last-child)::after {content: \"\\00b7\"; padding: 0 .5ex}\n",
       "</style>\n",
       "<ol class=list-inline><li>'no_ccs'</li><li>'ccs'</li><li>'acs'</li></ol>\n"
      ],
      "text/latex": [
       "\\begin{enumerate*}\n",
       "\\item 'no\\_ccs'\n",
       "\\item 'ccs'\n",
       "\\item 'acs'\n",
       "\\end{enumerate*}\n"
      ],
      "text/markdown": [
       "1. 'no_ccs'\n",
       "2. 'ccs'\n",
       "3. 'acs'\n",
       "\n",
       "\n"
      ],
      "text/plain": [
       "[1] \"no_ccs\" \"ccs\"    \"acs\"   "
      ]
     },
     "metadata": {},
     "output_type": "display_data"
    }
   ],
   "source": [
    "unique(merged_data_long$group)"
   ]
  },
  {
   "cell_type": "code",
   "execution_count": 303,
   "id": "a66811f4-7edf-489f-a620-c5924f2e1652",
   "metadata": {},
   "outputs": [],
   "source": [
    "### reformat ccs/ no - ccs classification"
   ]
  },
  {
   "cell_type": "code",
   "execution_count": 304,
   "id": "05c70e1b-cb5c-426a-a665-9c532997b647",
   "metadata": {},
   "outputs": [],
   "source": [
    "merged_data_long$group = str_replace(merged_data_long$group, 'ccs', 'CCS')\n",
    "merged_data_long$group = str_replace(merged_data_long$group, 'no_CCS', 'No CCS')\n",
    "merged_data_long$group = str_replace(merged_data_long$group, 'acs', 'ACS')"
   ]
  },
  {
   "cell_type": "code",
   "execution_count": 305,
   "id": "8a1c891c-70e2-4f11-a916-d0e38c0b0d5a",
   "metadata": {},
   "outputs": [],
   "source": [
    "# Specific Text Descriptions:\n",
    "xlabel = xlab('Disease') \n",
    "ylabel = ylab('Factor Value')"
   ]
  },
  {
   "cell_type": "code",
   "execution_count": 306,
   "id": "111eebca-62ce-47f2-b961-5b358daa4e0a",
   "metadata": {},
   "outputs": [],
   "source": [
    "figure_name = \"FIG3_E3_Factor_Patterns_Healthy_CCS_Boxplot_all_samples\""
   ]
  },
  {
   "cell_type": "code",
   "execution_count": 307,
   "id": "1942ffdc-f412-4936-86dc-bb789d9c7a0e",
   "metadata": {},
   "outputs": [],
   "source": [
    "# Sizes of the plot\n",
    "width_par = 2\n",
    "height_par = 3"
   ]
  },
  {
   "cell_type": "code",
   "execution_count": 308,
   "id": "c6a4e780-9142-4dca-8e36-2388f95e7fdd",
   "metadata": {},
   "outputs": [],
   "source": [
    "# grouped boxplot\n",
    "#options(repr.plot.width=30, repr.plot.height=10)\n",
    "\n",
    "for(i in c('Factor1')){\n",
    "    # Filter on factor\n",
    "    vis_data = merged_data_long[merged_data_long$variable == i,]\n",
    "    g = ggplot(vis_data, aes(x=reorder(group, -as.numeric(as.factor(group))), y=value, fill=group))  + \n",
    "        plot_config +\n",
    "        xlabel + \n",
    "        ylabel +\n",
    "        ccs_acs_color +\n",
    "        ggtitle(i) + \n",
    "        geom_boxplot() +\n",
    "        theme(legend.position = \"none\")\n",
    "    #print(g)\n",
    "    \n",
    "    pdf(paste0('figures/G_Azimuth/', figure_name, name, train_opts$weight_views, '.pdf'), width =width_par, height =height_par)\n",
    "    print(g)\n",
    "    dev.off()\n",
    "    # print(g)\n",
    "    }"
   ]
  },
  {
   "cell_type": "code",
   "execution_count": 309,
   "id": "e71fa630-a868-4306-92de-3ddba648bf35",
   "metadata": {},
   "outputs": [
    {
     "data": {
      "text/html": [
       "<style>\n",
       ".list-inline {list-style: none; margin:0; padding: 0}\n",
       ".list-inline>li {display: inline-block}\n",
       ".list-inline>li:not(:last-child)::after {content: \"\\00b7\"; padding: 0 .5ex}\n",
       "</style>\n",
       "<ol class=list-inline><li>'vollstaendiger_ausschluss'</li><li>'ccs'</li><li>'koronarsklerose'</li><li>'acs_subacute'</li><li>'acs_w_infection'</li><li>'acs_w_o_infection'</li></ol>\n"
      ],
      "text/latex": [
       "\\begin{enumerate*}\n",
       "\\item 'vollstaendiger\\_ausschluss'\n",
       "\\item 'ccs'\n",
       "\\item 'koronarsklerose'\n",
       "\\item 'acs\\_subacute'\n",
       "\\item 'acs\\_w\\_infection'\n",
       "\\item 'acs\\_w\\_o\\_infection'\n",
       "\\end{enumerate*}\n"
      ],
      "text/markdown": [
       "1. 'vollstaendiger_ausschluss'\n",
       "2. 'ccs'\n",
       "3. 'koronarsklerose'\n",
       "4. 'acs_subacute'\n",
       "5. 'acs_w_infection'\n",
       "6. 'acs_w_o_infection'\n",
       "\n",
       "\n"
      ],
      "text/plain": [
       "[1] \"vollstaendiger_ausschluss\" \"ccs\"                      \n",
       "[3] \"koronarsklerose\"           \"acs_subacute\"             \n",
       "[5] \"acs_w_infection\"           \"acs_w_o_infection\"        "
      ]
     },
     "metadata": {},
     "output_type": "display_data"
    }
   ],
   "source": [
    "unique(merged_data_long$classification)"
   ]
  },
  {
   "cell_type": "markdown",
   "id": "414b1ea3-2300-4183-a246-babd933e2a5f",
   "metadata": {
    "tags": []
   },
   "source": [
    "### Time pattern (Factor2)"
   ]
  },
  {
   "cell_type": "code",
   "execution_count": 310,
   "id": "0751bd83-39f7-4fa7-8c92-dfab8854a590",
   "metadata": {},
   "outputs": [
    {
     "data": {
      "text/html": [
       "<style>\n",
       ".list-inline {list-style: none; margin:0; padding: 0}\n",
       ".list-inline>li {display: inline-block}\n",
       ".list-inline>li:not(:last-child)::after {content: \"\\00b7\"; padding: 0 .5ex}\n",
       "</style>\n",
       "<ol class=list-inline><li>'TP0'</li><li>'TP1'</li><li>'TP2'</li><li>'TP3'</li><li>'TP4'</li></ol>\n"
      ],
      "text/latex": [
       "\\begin{enumerate*}\n",
       "\\item 'TP0'\n",
       "\\item 'TP1'\n",
       "\\item 'TP2'\n",
       "\\item 'TP3'\n",
       "\\item 'TP4'\n",
       "\\end{enumerate*}\n"
      ],
      "text/markdown": [
       "1. 'TP0'\n",
       "2. 'TP1'\n",
       "3. 'TP2'\n",
       "4. 'TP3'\n",
       "5. 'TP4'\n",
       "\n",
       "\n"
      ],
      "text/plain": [
       "[1] \"TP0\" \"TP1\" \"TP2\" \"TP3\" \"TP4\""
      ]
     },
     "metadata": {},
     "output_type": "display_data"
    }
   ],
   "source": [
    "unique(merged_data_long$measurement)"
   ]
  },
  {
   "cell_type": "code",
   "execution_count": 311,
   "id": "8525b7d3-0692-4a31-b509-591bbfc185d2",
   "metadata": {},
   "outputs": [],
   "source": [
    "merged_data_long$measurement_plot = str_replace(merged_data_long$measurement, 'TP0', 'CCS')"
   ]
  },
  {
   "cell_type": "code",
   "execution_count": 312,
   "id": "6c798877-4882-444d-9cd1-af8091a10de1",
   "metadata": {},
   "outputs": [],
   "source": [
    "# Specific Text Descriptions:\n",
    "xlabel = xlab('Disease') \n",
    "ylabel = ylab('Factor Value')"
   ]
  },
  {
   "cell_type": "code",
   "execution_count": 313,
   "id": "ad9ba230-04e2-44e4-b595-842f860e374b",
   "metadata": {},
   "outputs": [],
   "source": [
    "figure_name = \"FIG3_E3_Factor_Patterns_TP_all_samples\""
   ]
  },
  {
   "cell_type": "code",
   "execution_count": 314,
   "id": "ba7c4f4b-4036-42bf-9e38-581238ac5081",
   "metadata": {},
   "outputs": [],
   "source": [
    "# Sizes of the plot\n",
    "width_par = 2\n",
    "height_par = 2.8"
   ]
  },
  {
   "cell_type": "code",
   "execution_count": 315,
   "id": "8de001b0-08d5-4ba8-9eb8-2fb6ab069ae9",
   "metadata": {},
   "outputs": [],
   "source": [
    "# grouped boxplot\n",
    "#options(repr.plot.width=30, repr.plot.height=10)\n",
    "\n",
    "for(i in c('Factor2')){  # attention filtered on w_o_infection + ccs class\n",
    "    # Filter on factor\n",
    "    vis_data = merged_data_long[(merged_data_long$variable == i) & (merged_data_long$classification %in% c('ccs', 'acs_w_o_infection')),]\n",
    "    g = ggplot(vis_data, aes(x=measurement_plot, y=value, fill = measurement_plot))  + \n",
    "        plot_config +\n",
    "        xlabel + \n",
    "        ylabel +\n",
    "        ccs_tp_fill +\n",
    "        ggtitle(i) + \n",
    "        theme(legend.position = \"none\")+\n",
    "        geom_boxplot() \n",
    "    #print(g)\n",
    "\n",
    "    pdf(paste0('figures/G_Azimuth/', figure_name, name, train_opts$weight_views, '.pdf'), width =width_par, height =height_par)\n",
    "    print(g)\n",
    "    dev.off()\n",
    "    }"
   ]
  },
  {
   "cell_type": "markdown",
   "id": "3a43d0e7-b5df-446b-9656-1f6e1aff366c",
   "metadata": {
    "tags": []
   },
   "source": [
    "## Plot explained variance overview"
   ]
  },
  {
   "cell_type": "code",
   "execution_count": 323,
   "id": "35c004f2-5a44-4130-8714-ddf141d80a77",
   "metadata": {},
   "outputs": [],
   "source": [
    "#### Plot complete explained variance"
   ]
  },
  {
   "cell_type": "code",
   "execution_count": 324,
   "id": "c1e011bc-f2f3-4ef3-96ad-caddeb1f9abb",
   "metadata": {},
   "outputs": [],
   "source": [
    "# Specific Text Descriptions:\n",
    "xlabel = xlab('Factor') \n",
    "ylabel = ylab('View')"
   ]
  },
  {
   "cell_type": "code",
   "execution_count": 325,
   "id": "791a26b8-2eb5-4b95-84df-5e8d62bc6614",
   "metadata": {},
   "outputs": [],
   "source": [
    "figure_name = \"FIG1_E3_Variance Decomposition\""
   ]
  },
  {
   "cell_type": "code",
   "execution_count": 326,
   "id": "b2ce1424-3319-43ef-a808-3f135e40aa17",
   "metadata": {},
   "outputs": [],
   "source": [
    "# Sizes of the plot\n",
    "width_par = 8.07\n",
    "height_par = 3.12"
   ]
  },
  {
   "cell_type": "code",
   "execution_count": 327,
   "id": "a1eb6114-b2c9-46d5-80c8-c671202f01b4",
   "metadata": {},
   "outputs": [],
   "source": [
    "var_decomp = ggplot() + \n",
    "    scale_fill_gradient(low=\"white\", high=\"black\") + \n",
    "    xlabel + \n",
    "    ylabel +\n",
    "    plot_config + theme(axis.text.x = element_text(angle = 90), legend.position = 'right')+ \n",
    "    geom_tile(data = data, mapping = aes(Var1,  Var2, fill= value))\n",
    "\n",
    "var_decomp2 = ggplot() + \n",
    "    scale_fill_gradient(low=\"white\", high=\"black\") + \n",
    "    xlabel + \n",
    "    ylabel +\n",
    "    plot_config + theme(axis.text.x = element_text(angle = 90))+ \n",
    "    geom_tile(data = data[data$Var1 %in% c('Factor1', 'Factor2', 'Factor3', 'Factor4', 'Factor5'),], mapping = aes(Var1,  Var2, fill= value))"
   ]
  },
  {
   "cell_type": "code",
   "execution_count": 328,
   "id": "85aac5cb-46af-4a24-afc0-e2269a2b83f5",
   "metadata": {},
   "outputs": [
    {
     "data": {
      "text/html": [
       "<strong>png:</strong> 2"
      ],
      "text/latex": [
       "\\textbf{png:} 2"
      ],
      "text/markdown": [
       "**png:** 2"
      ],
      "text/plain": [
       "png \n",
       "  2 "
      ]
     },
     "metadata": {},
     "output_type": "display_data"
    }
   ],
   "source": [
    "pdf(paste0('figures/G_Azimuth/', figure_name, name, train_opts$weight_views, '.pdf'), width =width_par, height =height_par)\n",
    "print(var_decomp)\n",
    "dev.off()"
   ]
  }
 ],
 "metadata": {
  "kernelspec": {
   "display_name": "R",
   "language": "R",
   "name": "ir"
  },
  "language_info": {
   "codemirror_mode": "r",
   "file_extension": ".r",
   "mimetype": "text/x-r-source",
   "name": "R",
   "pygments_lexer": "r",
   "version": "4.1.1"
  },
  "toc-autonumbering": true,
  "toc-showcode": false
 },
 "nbformat": 4,
 "nbformat_minor": 5
}

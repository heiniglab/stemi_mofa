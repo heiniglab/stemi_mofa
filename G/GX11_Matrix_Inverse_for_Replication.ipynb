{
 "cells": [
  {
   "cell_type": "code",
   "execution_count": 1,
   "id": "20d8a525-8121-417b-8bd8-632e75beef12",
   "metadata": {},
   "outputs": [],
   "source": [
    "###  Script to apply feature factor weights identified in Munich Data (Azimuth Annotation) on Groningen data for computation of factor values\n",
    "###  Replication Script"
   ]
  },
  {
   "cell_type": "markdown",
   "id": "528702ab-7be4-42ec-a5a5-8fa5647ddf6b",
   "metadata": {
    "tags": []
   },
   "source": [
    "# Libraries"
   ]
  },
  {
   "cell_type": "code",
   "execution_count": 2,
   "id": "0240e608-958d-4660-ac34-19fcf541dac2",
   "metadata": {
    "collapsed": true,
    "jupyter": {
     "outputs_hidden": true
    },
    "tags": []
   },
   "outputs": [
    {
     "name": "stderr",
     "output_type": "stream",
     "text": [
      "Warning message in read.table(file = file, header = header, sep = sep, quote = quote, :\n",
      "“incomplete final line found by readTableHeader on '../conda_environment/Environment_Configs.csv'”\n"
     ]
    },
    {
     "name": "stdout",
     "output_type": "stream",
     "text": [
      "[1] \"/home/icb/corinna.losert/miniconda3/envs/stark_stemi_R_Env_4_1//lib/R/library\"\n"
     ]
    },
    {
     "name": "stderr",
     "output_type": "stream",
     "text": [
      "\n",
      "Attaching package: ‘igraph’\n",
      "\n",
      "\n",
      "The following objects are masked from ‘package:stats’:\n",
      "\n",
      "    decompose, spectrum\n",
      "\n",
      "\n",
      "The following object is masked from ‘package:base’:\n",
      "\n",
      "    union\n",
      "\n",
      "\n",
      "\n",
      "Attaching package: ‘MatrixGenerics’\n",
      "\n",
      "\n",
      "The following objects are masked from ‘package:matrixStats’:\n",
      "\n",
      "    colAlls, colAnyNAs, colAnys, colAvgsPerRowSet, colCollapse,\n",
      "    colCounts, colCummaxs, colCummins, colCumprods, colCumsums,\n",
      "    colDiffs, colIQRDiffs, colIQRs, colLogSumExps, colMadDiffs,\n",
      "    colMads, colMaxs, colMeans2, colMedians, colMins, colOrderStats,\n",
      "    colProds, colQuantiles, colRanges, colRanks, colSdDiffs, colSds,\n",
      "    colSums2, colTabulates, colVarDiffs, colVars, colWeightedMads,\n",
      "    colWeightedMeans, colWeightedMedians, colWeightedSds,\n",
      "    colWeightedVars, rowAlls, rowAnyNAs, rowAnys, rowAvgsPerColSet,\n",
      "    rowCollapse, rowCounts, rowCummaxs, rowCummins, rowCumprods,\n",
      "    rowCumsums, rowDiffs, rowIQRDiffs, rowIQRs, rowLogSumExps,\n",
      "    rowMadDiffs, rowMads, rowMaxs, rowMeans2, rowMedians, rowMins,\n",
      "    rowOrderStats, rowProds, rowQuantiles, rowRanges, rowRanks,\n",
      "    rowSdDiffs, rowSds, rowSums2, rowTabulates, rowVarDiffs, rowVars,\n",
      "    rowWeightedMads, rowWeightedMeans, rowWeightedMedians,\n",
      "    rowWeightedSds, rowWeightedVars\n",
      "\n",
      "\n",
      "\n",
      "Attaching package: ‘BiocGenerics’\n",
      "\n",
      "\n",
      "The following objects are masked from ‘package:parallel’:\n",
      "\n",
      "    clusterApply, clusterApplyLB, clusterCall, clusterEvalQ,\n",
      "    clusterExport, clusterMap, parApply, parCapply, parLapply,\n",
      "    parLapplyLB, parRapply, parSapply, parSapplyLB\n",
      "\n",
      "\n",
      "The following objects are masked from ‘package:igraph’:\n",
      "\n",
      "    normalize, path, union\n",
      "\n",
      "\n",
      "The following objects are masked from ‘package:stats’:\n",
      "\n",
      "    IQR, mad, sd, var, xtabs\n",
      "\n",
      "\n",
      "The following objects are masked from ‘package:base’:\n",
      "\n",
      "    anyDuplicated, append, as.data.frame, basename, cbind, colnames,\n",
      "    dirname, do.call, duplicated, eval, evalq, Filter, Find, get, grep,\n",
      "    grepl, intersect, is.unsorted, lapply, Map, mapply, match, mget,\n",
      "    order, paste, pmax, pmax.int, pmin, pmin.int, Position, rank,\n",
      "    rbind, Reduce, rownames, sapply, setdiff, sort, table, tapply,\n",
      "    union, unique, unsplit, which.max, which.min\n",
      "\n",
      "\n",
      "\n",
      "Attaching package: ‘S4Vectors’\n",
      "\n",
      "\n",
      "The following objects are masked from ‘package:base’:\n",
      "\n",
      "    expand.grid, I, unname\n",
      "\n",
      "\n",
      "Welcome to Bioconductor\n",
      "\n",
      "    Vignettes contain introductory material; view with\n",
      "    'browseVignettes()'. To cite Bioconductor, see\n",
      "    'citation(\"Biobase\")', and for packages 'citation(\"pkgname\")'.\n",
      "\n",
      "\n",
      "\n",
      "Attaching package: ‘Biobase’\n",
      "\n",
      "\n",
      "The following object is masked from ‘package:MatrixGenerics’:\n",
      "\n",
      "    rowMedians\n",
      "\n",
      "\n",
      "The following objects are masked from ‘package:matrixStats’:\n",
      "\n",
      "    anyMissing, rowMedians\n",
      "\n",
      "\n",
      "\n",
      "Attaching package: ‘sp’\n",
      "\n",
      "\n",
      "The following object is masked from ‘package:IRanges’:\n",
      "\n",
      "    %over%\n",
      "\n",
      "\n",
      "\n",
      "Attaching package: ‘SeuratObject’\n",
      "\n",
      "\n",
      "The following object is masked from ‘package:SummarizedExperiment’:\n",
      "\n",
      "    Assays\n",
      "\n",
      "\n",
      "The following object is masked from ‘package:GenomicRanges’:\n",
      "\n",
      "    intersect\n",
      "\n",
      "\n",
      "The following object is masked from ‘package:GenomeInfoDb’:\n",
      "\n",
      "    intersect\n",
      "\n",
      "\n",
      "The following object is masked from ‘package:IRanges’:\n",
      "\n",
      "    intersect\n",
      "\n",
      "\n",
      "The following object is masked from ‘package:S4Vectors’:\n",
      "\n",
      "    intersect\n",
      "\n",
      "\n",
      "The following object is masked from ‘package:BiocGenerics’:\n",
      "\n",
      "    intersect\n",
      "\n",
      "\n",
      "The following object is masked from ‘package:base’:\n",
      "\n",
      "    intersect\n",
      "\n",
      "\n",
      "\n",
      "Attaching package: ‘Seurat’\n",
      "\n",
      "\n",
      "The following object is masked from ‘package:SummarizedExperiment’:\n",
      "\n",
      "    Assays\n",
      "\n",
      "\n",
      "The following object is masked from ‘package:igraph’:\n",
      "\n",
      "    components\n",
      "\n",
      "\n",
      "\n",
      "Attaching package: ‘Matrix’\n",
      "\n",
      "\n",
      "The following object is masked from ‘package:S4Vectors’:\n",
      "\n",
      "    expand\n",
      "\n",
      "\n",
      "\n",
      "Attaching package: ‘DelayedArray’\n",
      "\n",
      "\n",
      "The following object is masked from ‘package:igraph’:\n",
      "\n",
      "    simplify\n",
      "\n",
      "\n",
      "The following objects are masked from ‘package:base’:\n",
      "\n",
      "    aperm, apply, rowsum, scale, sweep\n",
      "\n",
      "\n",
      "\n",
      "Attaching package: ‘HDF5Array’\n",
      "\n",
      "\n",
      "The following object is masked from ‘package:rhdf5’:\n",
      "\n",
      "    h5ls\n",
      "\n",
      "\n",
      "Warning message in if (is.na(desc)) {:\n",
      "“the condition has length > 1 and only the first element will be used”\n",
      "Warning message in if (is.na(desc)) {:\n",
      "“the condition has length > 1 and only the first element will be used”\n",
      "Warning message in if (is.na(desc)) {:\n",
      "“the condition has length > 1 and only the first element will be used”\n",
      "Warning message in if (is.na(desc)) {:\n",
      "“the condition has length > 1 and only the first element will be used”\n",
      "Warning message in if (is.na(desc)) {:\n",
      "“the condition has length > 1 and only the first element will be used”\n",
      "Warning message in if (is.na(desc)) {:\n",
      "“the condition has length > 1 and only the first element will be used”\n",
      "Warning message in if (is.na(desc)) {:\n",
      "“the condition has length > 1 and only the first element will be used”\n",
      "Warning message in if (is.na(desc)) {:\n",
      "“the condition has length > 1 and only the first element will be used”\n",
      "Warning message in if (is.na(desc)) {:\n",
      "“the condition has length > 1 and only the first element will be used”\n",
      "Warning message in if (is.na(desc)) {:\n",
      "“the condition has length > 1 and only the first element will be used”\n",
      "Warning message in if (is.na(desc)) {:\n",
      "“the condition has length > 1 and only the first element will be used”\n",
      "Warning message in if (is.na(desc)) {:\n",
      "“the condition has length > 1 and only the first element will be used”\n",
      "Warning message in if (is.na(desc)) {:\n",
      "“the condition has length > 1 and only the first element will be used”\n",
      "Warning message in if (is.na(desc)) {:\n",
      "“the condition has length > 1 and only the first element will be used”\n",
      "Warning message in if (is.na(desc)) {:\n",
      "“the condition has length > 1 and only the first element will be used”\n",
      "Warning message in if (is.na(desc)) {:\n",
      "“the condition has length > 1 and only the first element will be used”\n",
      "Warning message in if (is.na(desc)) {:\n",
      "“the condition has length > 1 and only the first element will be used”\n",
      "Warning message in if (is.na(desc)) {:\n",
      "“the condition has length > 1 and only the first element will be used”\n",
      "Warning message in if (is.na(desc)) {:\n",
      "“the condition has length > 1 and only the first element will be used”\n",
      "Warning message in if (is.na(desc)) {:\n",
      "“the condition has length > 1 and only the first element will be used”\n",
      "Warning message in if (is.na(desc)) {:\n",
      "“the condition has length > 1 and only the first element will be used”\n",
      "Warning message in if (is.na(desc)) {:\n",
      "“the condition has length > 1 and only the first element will be used”\n",
      "Warning message in if (is.na(desc)) {:\n",
      "“the condition has length > 1 and only the first element will be used”\n",
      "Registered S3 method overwritten by 'SeuratDisk':\n",
      "  method            from  \n",
      "  as.sparse.H5Group Seurat\n",
      "\n",
      "\n",
      "Attaching package: ‘gridExtra’\n",
      "\n",
      "\n",
      "The following object is masked from ‘package:Biobase’:\n",
      "\n",
      "    combine\n",
      "\n",
      "\n",
      "The following object is masked from ‘package:BiocGenerics’:\n",
      "\n",
      "    combine\n",
      "\n",
      "\n",
      "\n",
      "Attaching package: ‘plotly’\n",
      "\n",
      "\n",
      "The following object is masked from ‘package:ggplot2’:\n",
      "\n",
      "    last_plot\n",
      "\n",
      "\n",
      "The following object is masked from ‘package:IRanges’:\n",
      "\n",
      "    slice\n",
      "\n",
      "\n",
      "The following object is masked from ‘package:S4Vectors’:\n",
      "\n",
      "    rename\n",
      "\n",
      "\n",
      "The following object is masked from ‘package:igraph’:\n",
      "\n",
      "    groups\n",
      "\n",
      "\n",
      "The following object is masked from ‘package:stats’:\n",
      "\n",
      "    filter\n",
      "\n",
      "\n",
      "The following object is masked from ‘package:graphics’:\n",
      "\n",
      "    layout\n",
      "\n",
      "\n",
      "Warning message in checkMatrixPackageVersion():\n",
      "“Package version inconsistency detected.\n",
      "TMB was built with Matrix version 1.5.3\n",
      "Current Matrix version is 1.6.4\n",
      "Please re-install 'TMB' from source using install.packages('TMB', type = 'source') or ask CRAN for a binary version of 'TMB' matching CRAN's 'Matrix' package”\n",
      "\n",
      "Attaching package: ‘limma’\n",
      "\n",
      "\n",
      "The following object is masked from ‘package:scater’:\n",
      "\n",
      "    plotMDS\n",
      "\n",
      "\n",
      "The following object is masked from ‘package:BiocGenerics’:\n",
      "\n",
      "    plotMA\n",
      "\n",
      "\n",
      "\n",
      "Attaching package: ‘DESeq2’\n",
      "\n",
      "\n",
      "The following object is masked from ‘package:scater’:\n",
      "\n",
      "    fpkm\n",
      "\n",
      "\n",
      "Loading required package: AnnotationDbi\n",
      "\n",
      "\n",
      "Attaching package: ‘AnnotationDbi’\n",
      "\n",
      "\n",
      "The following object is masked from ‘package:plotly’:\n",
      "\n",
      "    select\n",
      "\n",
      "\n",
      "\n",
      "\n",
      "\n",
      "\n",
      "Registered S3 method overwritten by 'ggtree':\n",
      "  method      from \n",
      "  identify.gg ggfun\n",
      "\n",
      "clusterProfiler v4.0.5  For help: https://yulab-smu.top/biomedical-knowledge-mining-book/\n",
      "\n",
      "If you use clusterProfiler in published research, please cite:\n",
      "T Wu, E Hu, S Xu, M Chen, P Guo, Z Dai, T Feng, L Zhou, W Tang, L Zhan, X Fu, S Liu, X Bo, and G Yu. clusterProfiler 4.0: A universal enrichment tool for interpreting omics data. The Innovation. 2021, 2(3):100141. doi: 10.1016/j.xinn.2021.100141\n",
      "\n",
      "\n",
      "Attaching package: ‘clusterProfiler’\n",
      "\n",
      "\n",
      "The following object is masked from ‘package:AnnotationDbi’:\n",
      "\n",
      "    select\n",
      "\n",
      "\n",
      "The following object is masked from ‘package:DelayedArray’:\n",
      "\n",
      "    simplify\n",
      "\n",
      "\n",
      "The following object is masked from ‘package:IRanges’:\n",
      "\n",
      "    slice\n",
      "\n",
      "\n",
      "The following object is masked from ‘package:S4Vectors’:\n",
      "\n",
      "    rename\n",
      "\n",
      "\n",
      "The following object is masked from ‘package:igraph’:\n",
      "\n",
      "    simplify\n",
      "\n",
      "\n",
      "The following object is masked from ‘package:stats’:\n",
      "\n",
      "    filter\n",
      "\n",
      "\n",
      "\n",
      "Attaching package: ‘data.table’\n",
      "\n",
      "\n",
      "The following object is masked from ‘package:SummarizedExperiment’:\n",
      "\n",
      "    shift\n",
      "\n",
      "\n",
      "The following object is masked from ‘package:GenomicRanges’:\n",
      "\n",
      "    shift\n",
      "\n",
      "\n",
      "The following object is masked from ‘package:IRanges’:\n",
      "\n",
      "    shift\n",
      "\n",
      "\n",
      "The following objects are masked from ‘package:S4Vectors’:\n",
      "\n",
      "    first, second\n",
      "\n",
      "\n",
      "\n",
      "Attaching package: ‘MOFA2’\n",
      "\n",
      "\n",
      "The following object is masked from ‘package:stats’:\n",
      "\n",
      "    predict\n",
      "\n",
      "\n",
      "\n",
      "Attaching package: ‘ggraph’\n",
      "\n",
      "\n",
      "The following object is masked from ‘package:sp’:\n",
      "\n",
      "    geometry\n",
      "\n",
      "\n",
      "\n",
      "Attaching package: ‘Hmisc’\n",
      "\n",
      "\n",
      "The following object is masked from ‘package:MOFA2’:\n",
      "\n",
      "    impute\n",
      "\n",
      "\n",
      "The following object is masked from ‘package:AnnotationDbi’:\n",
      "\n",
      "    contents\n",
      "\n",
      "\n",
      "The following object is masked from ‘package:plotly’:\n",
      "\n",
      "    subplot\n",
      "\n",
      "\n",
      "The following object is masked from ‘package:Seurat’:\n",
      "\n",
      "    Key\n",
      "\n",
      "\n",
      "The following object is masked from ‘package:SeuratObject’:\n",
      "\n",
      "    Key\n",
      "\n",
      "\n",
      "The following object is masked from ‘package:Biobase’:\n",
      "\n",
      "    contents\n",
      "\n",
      "\n",
      "The following objects are masked from ‘package:base’:\n",
      "\n",
      "    format.pval, units\n",
      "\n",
      "\n",
      "Registered S3 method overwritten by 'GGally':\n",
      "  method from   \n",
      "  +.gg   ggplot2\n",
      "\n",
      "\n",
      "Attaching package: ‘rstatix’\n",
      "\n",
      "\n",
      "The following object is masked from ‘package:AnnotationDbi’:\n",
      "\n",
      "    select\n",
      "\n",
      "\n",
      "The following object is masked from ‘package:IRanges’:\n",
      "\n",
      "    desc\n",
      "\n",
      "\n",
      "The following object is masked from ‘package:stats’:\n",
      "\n",
      "    filter\n",
      "\n",
      "\n",
      "\n",
      "‘network’ 1.18.1 (2023-01-24), part of the Statnet Project\n",
      "* ‘news(package=\"network\")’ for changes since last version\n",
      "* ‘citation(\"network\")’ for citation information\n",
      "* ‘https://statnet.org’ for help, support, and other information\n",
      "\n",
      "\n",
      "\n",
      "Attaching package: ‘network’\n",
      "\n",
      "\n",
      "The following object is masked from ‘package:Hmisc’:\n",
      "\n",
      "    is.discrete\n",
      "\n",
      "\n",
      "The following objects are masked from ‘package:igraph’:\n",
      "\n",
      "    %c%, %s%, add.edges, add.vertices, delete.edges, delete.vertices,\n",
      "    get.edge.attribute, get.edges, get.vertex.attribute, is.bipartite,\n",
      "    is.directed, list.edge.attributes, list.vertex.attributes,\n",
      "    set.edge.attribute, set.vertex.attribute\n",
      "\n",
      "\n",
      "\n",
      "Attaching package: ‘enrichplot’\n",
      "\n",
      "\n",
      "The following object is masked from ‘package:GGally’:\n",
      "\n",
      "    ggtable\n",
      "\n",
      "\n",
      "DOSE v3.18.3  For help: https://guangchuangyu.github.io/software/DOSE\n",
      "\n",
      "If you use DOSE in published research, please cite:\n",
      "Guangchuang Yu, Li-Gen Wang, Guang-Rong Yan, Qing-Yu He. DOSE: an R/Bioconductor package for Disease Ontology Semantic and Enrichment analysis. Bioinformatics 2015, 31(4):608-609\n",
      "\n",
      "\n",
      "\n",
      "Attaching package: ‘UpSetR’\n",
      "\n",
      "\n",
      "The following object is masked from ‘package:ComplexUpset’:\n",
      "\n",
      "    upset\n",
      "\n",
      "\n",
      "Registered S3 method overwritten by 'gdata':\n",
      "  method         from  \n",
      "  reorder.factor gplots\n",
      "\n",
      "gdata: read.xls support for 'XLS' (Excel 97-2004) files ENABLED.\n",
      "\n",
      "\n",
      "\n",
      "gdata: read.xls support for 'XLSX' (Excel 2007+) files ENABLED.\n",
      "\n",
      "\n",
      "Attaching package: ‘gdata’\n",
      "\n",
      "\n",
      "The following objects are masked from ‘package:data.table’:\n",
      "\n",
      "    first, last\n",
      "\n",
      "\n",
      "The following object is masked from ‘package:gridExtra’:\n",
      "\n",
      "    combine\n",
      "\n",
      "\n",
      "The following object is masked from ‘package:SummarizedExperiment’:\n",
      "\n",
      "    trim\n",
      "\n",
      "\n",
      "The following object is masked from ‘package:Biobase’:\n",
      "\n",
      "    combine\n",
      "\n",
      "\n",
      "The following object is masked from ‘package:GenomicRanges’:\n",
      "\n",
      "    trim\n",
      "\n",
      "\n",
      "The following objects are masked from ‘package:IRanges’:\n",
      "\n",
      "    startsWith, trim\n",
      "\n",
      "\n",
      "The following objects are masked from ‘package:S4Vectors’:\n",
      "\n",
      "    first, first<-\n",
      "\n",
      "\n",
      "The following object is masked from ‘package:BiocGenerics’:\n",
      "\n",
      "    combine\n",
      "\n",
      "\n",
      "The following object is masked from ‘package:stats4’:\n",
      "\n",
      "    nobs\n",
      "\n",
      "\n",
      "The following object is masked from ‘package:stats’:\n",
      "\n",
      "    nobs\n",
      "\n",
      "\n",
      "The following object is masked from ‘package:utils’:\n",
      "\n",
      "    object.size\n",
      "\n",
      "\n",
      "The following object is masked from ‘package:base’:\n",
      "\n",
      "    startsWith\n",
      "\n",
      "\n",
      "\n",
      "Attaching package: ‘reshape2’\n",
      "\n",
      "\n",
      "The following objects are masked from ‘package:data.table’:\n",
      "\n",
      "    dcast, melt\n",
      "\n",
      "\n",
      "ReactomePA v1.36.0  For help: https://yulab-smu.top/biomedical-knowledge-mining-book/reactomepa.html\n",
      "\n",
      "If you use ReactomePA in published research, please cite:\n",
      "Guangchuang Yu, Qing-Yu He. ReactomePA: an R/Bioconductor package for reactome pathway analysis and visualization. Molecular BioSystems 2016, 12(2):477-479\n",
      "\n",
      "Loading required package: mgcv\n",
      "\n",
      "Loading required package: nlme\n",
      "\n",
      "\n",
      "Attaching package: ‘nlme’\n",
      "\n",
      "\n",
      "The following object is masked from ‘package:IRanges’:\n",
      "\n",
      "    collapse\n",
      "\n",
      "\n",
      "This is mgcv 1.8-41. For overview type 'help(\"mgcv-package\")'.\n",
      "\n",
      "Loading required package: genefilter\n",
      "\n",
      "\n",
      "Attaching package: ‘genefilter’\n",
      "\n",
      "\n",
      "The following object is masked from ‘package:rstatix’:\n",
      "\n",
      "    Anova\n",
      "\n",
      "\n",
      "The following objects are masked from ‘package:MatrixGenerics’:\n",
      "\n",
      "    rowSds, rowVars\n",
      "\n",
      "\n",
      "The following objects are masked from ‘package:matrixStats’:\n",
      "\n",
      "    rowSds, rowVars\n",
      "\n",
      "\n",
      "Loading required package: BiocParallel\n",
      "\n",
      "\n",
      "Attaching package: ‘patchwork’\n",
      "\n",
      "\n",
      "The following object is masked from ‘package:genefilter’:\n",
      "\n",
      "    area\n",
      "\n",
      "\n",
      "The following object is masked from ‘package:cowplot’:\n",
      "\n",
      "    align_plots\n",
      "\n",
      "\n",
      "\n",
      "Attaching package: ‘nnet’\n",
      "\n",
      "\n",
      "The following object is masked from ‘package:mgcv’:\n",
      "\n",
      "    multinom\n",
      "\n",
      "\n",
      "\n",
      "Attaching package: ‘dfidx’\n",
      "\n",
      "\n",
      "The following object is masked from ‘package:AnnotationDbi’:\n",
      "\n",
      "    select\n",
      "\n",
      "\n",
      "The following object is masked from ‘package:IRanges’:\n",
      "\n",
      "    slice\n",
      "\n",
      "\n",
      "The following object is masked from ‘package:stats’:\n",
      "\n",
      "    filter\n",
      "\n",
      "\n",
      "\n",
      "Attaching package: ‘cvAUC’\n",
      "\n",
      "\n",
      "The following object is masked from ‘package:genefilter’:\n",
      "\n",
      "    AUC\n",
      "\n",
      "\n",
      "Loading required package: maps\n",
      "\n",
      "Loading required package: shapefiles\n",
      "\n",
      "Loading required package: foreign\n",
      "\n",
      "\n",
      "Attaching package: ‘shapefiles’\n",
      "\n",
      "\n",
      "The following objects are masked from ‘package:foreign’:\n",
      "\n",
      "    read.dbf, write.dbf\n",
      "\n",
      "\n",
      "Welcome! Want to learn more? See two factoextra-related books at https://goo.gl/ve3WBa\n",
      "\n",
      "Loading required package: grid\n",
      "\n",
      "========================================\n",
      "ComplexHeatmap version 2.8.0\n",
      "Bioconductor page: http://bioconductor.org/packages/ComplexHeatmap/\n",
      "Github page: https://github.com/jokergoo/ComplexHeatmap\n",
      "Documentation: http://jokergoo.github.io/ComplexHeatmap-reference\n",
      "\n",
      "If you use it in published research, please cite:\n",
      "Gu, Z. Complex heatmaps reveal patterns and correlations in multidimensional \n",
      "  genomic data. Bioinformatics 2016.\n",
      "\n",
      "The new InteractiveComplexHeatmap package can directly export static \n",
      "complex heatmaps into an interactive Shiny app with zero effort. Have a try!\n",
      "\n",
      "This message can be suppressed by:\n",
      "  suppressPackageStartupMessages(library(ComplexHeatmap))\n",
      "========================================\n",
      "\n",
      "\n",
      "\n",
      "Attaching package: ‘ComplexHeatmap’\n",
      "\n",
      "\n",
      "The following object is masked from ‘package:genefilter’:\n",
      "\n",
      "    dist2\n",
      "\n",
      "\n",
      "The following object is masked from ‘package:network’:\n",
      "\n",
      "    %v%\n",
      "\n",
      "\n",
      "The following object is masked from ‘package:plotly’:\n",
      "\n",
      "    add_heatmap\n",
      "\n",
      "\n",
      "Welcome to compositions, a package for compositional data analysis.\n",
      "Find an intro with \"? compositions\"\n",
      "\n",
      "\n",
      "\n",
      "Attaching package: ‘compositions’\n",
      "\n",
      "\n",
      "The following object is masked from ‘package:DelayedArray’:\n",
      "\n",
      "    scale\n",
      "\n",
      "\n",
      "The following object is masked from ‘package:Matrix’:\n",
      "\n",
      "    norm\n",
      "\n",
      "\n",
      "The following object is masked from ‘package:scater’:\n",
      "\n",
      "    normalize\n",
      "\n",
      "\n",
      "The following objects are masked from ‘package:IRanges’:\n",
      "\n",
      "    cor, cov, var\n",
      "\n",
      "\n",
      "The following objects are masked from ‘package:S4Vectors’:\n",
      "\n",
      "    cor, cov, var\n",
      "\n",
      "\n",
      "The following objects are masked from ‘package:BiocGenerics’:\n",
      "\n",
      "    normalize, var\n",
      "\n",
      "\n",
      "The following object is masked from ‘package:igraph’:\n",
      "\n",
      "    normalize\n",
      "\n",
      "\n",
      "The following objects are masked from ‘package:stats’:\n",
      "\n",
      "    anova, cor, cov, dist, var\n",
      "\n",
      "\n",
      "The following objects are masked from ‘package:base’:\n",
      "\n",
      "    %*%, norm, scale, scale.default\n",
      "\n",
      "\n",
      "========================================\n",
      "circlize version 0.4.15\n",
      "CRAN page: https://cran.r-project.org/package=circlize\n",
      "Github page: https://github.com/jokergoo/circlize\n",
      "Documentation: https://jokergoo.github.io/circlize_book/book/\n",
      "\n",
      "If you use it in published research, please cite:\n",
      "Gu, Z. circlize implements and enhances circular visualization\n",
      "  in R. Bioinformatics 2014.\n",
      "\n",
      "This message can be suppressed by:\n",
      "  suppressPackageStartupMessages(library(circlize))\n",
      "========================================\n",
      "\n",
      "\n",
      "\n",
      "Attaching package: ‘circlize’\n",
      "\n",
      "\n",
      "The following object is masked from ‘package:igraph’:\n",
      "\n",
      "    degree\n",
      "\n",
      "\n",
      "Loading required package: survival\n",
      "\n",
      "Loading required package: TH.data\n",
      "\n",
      "Loading required package: MASS\n",
      "\n",
      "\n",
      "Attaching package: ‘MASS’\n",
      "\n",
      "\n",
      "The following object is masked from ‘package:dfidx’:\n",
      "\n",
      "    select\n",
      "\n",
      "\n",
      "The following object is masked from ‘package:patchwork’:\n",
      "\n",
      "    area\n",
      "\n",
      "\n",
      "The following object is masked from ‘package:genefilter’:\n",
      "\n",
      "    area\n",
      "\n",
      "\n",
      "The following object is masked from ‘package:rstatix’:\n",
      "\n",
      "    select\n",
      "\n",
      "\n",
      "The following object is masked from ‘package:clusterProfiler’:\n",
      "\n",
      "    select\n",
      "\n",
      "\n",
      "The following object is masked from ‘package:AnnotationDbi’:\n",
      "\n",
      "    select\n",
      "\n",
      "\n",
      "The following object is masked from ‘package:plotly’:\n",
      "\n",
      "    select\n",
      "\n",
      "\n",
      "\n",
      "Attaching package: ‘TH.data’\n",
      "\n",
      "\n",
      "The following object is masked from ‘package:MASS’:\n",
      "\n",
      "    geyser\n",
      "\n",
      "\n",
      "\n",
      "Attaching package: ‘purrr’\n",
      "\n",
      "\n",
      "The following object is masked from ‘package:maps’:\n",
      "\n",
      "    map\n",
      "\n",
      "\n",
      "The following object is masked from ‘package:gdata’:\n",
      "\n",
      "    keep\n",
      "\n",
      "\n",
      "The following object is masked from ‘package:data.table’:\n",
      "\n",
      "    transpose\n",
      "\n",
      "\n",
      "The following object is masked from ‘package:clusterProfiler’:\n",
      "\n",
      "    simplify\n",
      "\n",
      "\n",
      "The following object is masked from ‘package:DelayedArray’:\n",
      "\n",
      "    simplify\n",
      "\n",
      "\n",
      "The following object is masked from ‘package:GenomicRanges’:\n",
      "\n",
      "    reduce\n",
      "\n",
      "\n",
      "The following object is masked from ‘package:IRanges’:\n",
      "\n",
      "    reduce\n",
      "\n",
      "\n",
      "The following objects are masked from ‘package:igraph’:\n",
      "\n",
      "    compose, simplify\n",
      "\n",
      "\n",
      "Attaching shinyBS\n",
      "\n",
      "Loaded glmnet 4.1-6\n",
      "\n",
      "\n",
      "Attaching package: ‘glmnet’\n",
      "\n",
      "\n",
      "The following object is masked from ‘package:compositions’:\n",
      "\n",
      "    rmult\n",
      "\n",
      "\n",
      "\n",
      "Attaching package: ‘ggpubr’\n",
      "\n",
      "\n",
      "The following object is masked from ‘package:enrichplot’:\n",
      "\n",
      "    color_palette\n",
      "\n",
      "\n",
      "The following object is masked from ‘package:cowplot’:\n",
      "\n",
      "    get_legend\n",
      "\n",
      "\n",
      "corrplot 0.92 loaded\n",
      "\n",
      "\n",
      "Attaching package: ‘dplyr’\n",
      "\n",
      "\n",
      "The following object is masked from ‘package:MASS’:\n",
      "\n",
      "    select\n",
      "\n",
      "\n",
      "The following object is masked from ‘package:nlme’:\n",
      "\n",
      "    collapse\n",
      "\n",
      "\n",
      "The following objects are masked from ‘package:gdata’:\n",
      "\n",
      "    combine, first, last\n",
      "\n",
      "\n",
      "The following objects are masked from ‘package:Hmisc’:\n",
      "\n",
      "    src, summarize\n",
      "\n",
      "\n",
      "The following objects are masked from ‘package:data.table’:\n",
      "\n",
      "    between, first, last\n",
      "\n",
      "\n",
      "The following object is masked from ‘package:AnnotationDbi’:\n",
      "\n",
      "    select\n",
      "\n",
      "\n",
      "The following object is masked from ‘package:gridExtra’:\n",
      "\n",
      "    combine\n",
      "\n",
      "\n",
      "The following object is masked from ‘package:Biobase’:\n",
      "\n",
      "    combine\n",
      "\n",
      "\n",
      "The following objects are masked from ‘package:GenomicRanges’:\n",
      "\n",
      "    intersect, setdiff, union\n",
      "\n",
      "\n",
      "The following object is masked from ‘package:GenomeInfoDb’:\n",
      "\n",
      "    intersect\n",
      "\n",
      "\n",
      "The following objects are masked from ‘package:IRanges’:\n",
      "\n",
      "    collapse, desc, intersect, setdiff, slice, union\n",
      "\n",
      "\n",
      "The following objects are masked from ‘package:S4Vectors’:\n",
      "\n",
      "    first, intersect, rename, setdiff, setequal, union\n",
      "\n",
      "\n",
      "The following objects are masked from ‘package:BiocGenerics’:\n",
      "\n",
      "    combine, intersect, setdiff, union\n",
      "\n",
      "\n",
      "The following object is masked from ‘package:matrixStats’:\n",
      "\n",
      "    count\n",
      "\n",
      "\n",
      "The following objects are masked from ‘package:igraph’:\n",
      "\n",
      "    as_data_frame, groups, union\n",
      "\n",
      "\n",
      "The following objects are masked from ‘package:stats’:\n",
      "\n",
      "    filter, lag\n",
      "\n",
      "\n",
      "The following objects are masked from ‘package:base’:\n",
      "\n",
      "    intersect, setdiff, setequal, union\n",
      "\n",
      "\n",
      "Type 'citation(\"pROC\")' for a citation.\n",
      "\n",
      "\n",
      "Attaching package: ‘pROC’\n",
      "\n",
      "\n",
      "The following object is masked from ‘package:plotROC’:\n",
      "\n",
      "    ggroc\n",
      "\n",
      "\n",
      "The following objects are masked from ‘package:compositions’:\n",
      "\n",
      "    cov, var\n",
      "\n",
      "\n",
      "The following object is masked from ‘package:colorspace’:\n",
      "\n",
      "    coords\n",
      "\n",
      "\n",
      "The following objects are masked from ‘package:IRanges’:\n",
      "\n",
      "    cov, var\n",
      "\n",
      "\n",
      "The following objects are masked from ‘package:S4Vectors’:\n",
      "\n",
      "    cov, var\n",
      "\n",
      "\n",
      "The following object is masked from ‘package:BiocGenerics’:\n",
      "\n",
      "    var\n",
      "\n",
      "\n",
      "The following objects are masked from ‘package:stats’:\n",
      "\n",
      "    cov, smooth, var\n",
      "\n",
      "\n"
     ]
    }
   ],
   "source": [
    "source('MS0_Libraries.r')"
   ]
  },
  {
   "cell_type": "code",
   "execution_count": 3,
   "id": "650da425-e737-4389-a274-c228a00bccea",
   "metadata": {},
   "outputs": [
    {
     "name": "stderr",
     "output_type": "stream",
     "text": [
      "Warning message:\n",
      "“\u001b[1m\u001b[22mThe `size` argument of `element_line()` is deprecated as of ggplot2 3.4.0.\n",
      "\u001b[36mℹ\u001b[39m Please use the `linewidth` argument instead.”\n"
     ]
    }
   ],
   "source": [
    "source('MS4_Plot_Config.r')"
   ]
  },
  {
   "cell_type": "markdown",
   "id": "3d97489e-c741-4853-8df6-01a1b57959af",
   "metadata": {},
   "source": [
    "# Parameters"
   ]
  },
  {
   "cell_type": "code",
   "execution_count": 7,
   "id": "aca812f2-f0bf-43ba-ba91-3f012033d097",
   "metadata": {},
   "outputs": [],
   "source": [
    "data_path = '../results/current'"
   ]
  },
  {
   "cell_type": "code",
   "execution_count": 8,
   "id": "ac48c1d3-04a7-424f-bcb3-7120a31b7f51",
   "metadata": {},
   "outputs": [],
   "source": [
    "output_path = '../results/current'"
   ]
  },
  {
   "cell_type": "markdown",
   "id": "0d2a3050-f8f6-48b8-be0f-e2a92053947d",
   "metadata": {},
   "source": [
    "# Load data"
   ]
  },
  {
   "cell_type": "markdown",
   "id": "aacd4ca7-cfaf-4205-8b1c-eb3e1f58d607",
   "metadata": {},
   "source": [
    "## Munich factor data"
   ]
  },
  {
   "cell_type": "code",
   "execution_count": 12,
   "id": "e222c0b3-6316-47ff-bf05-6fd2fd88bd20",
   "metadata": {},
   "outputs": [
    {
     "name": "stdout",
     "output_type": "stream",
     "text": [
      "[1] \"2024-01-11 15:42:37 CET\"\n"
     ]
    },
    {
     "data": {
      "text/html": [
       "<table class=\"dataframe\">\n",
       "<caption>A data.frame: 2 × 21</caption>\n",
       "<thead>\n",
       "\t<tr><th></th><th scope=col>Factor1</th><th scope=col>Factor2</th><th scope=col>Factor3</th><th scope=col>Factor4</th><th scope=col>Factor5</th><th scope=col>Factor6</th><th scope=col>Factor7</th><th scope=col>Factor8</th><th scope=col>Factor9</th><th scope=col>Factor10</th><th scope=col>⋯</th><th scope=col>Factor12</th><th scope=col>Factor13</th><th scope=col>Factor14</th><th scope=col>Factor15</th><th scope=col>Factor16</th><th scope=col>Factor17</th><th scope=col>Factor18</th><th scope=col>Factor19</th><th scope=col>Factor20</th><th scope=col>sample_id</th></tr>\n",
       "\t<tr><th></th><th scope=col>&lt;dbl&gt;</th><th scope=col>&lt;dbl&gt;</th><th scope=col>&lt;dbl&gt;</th><th scope=col>&lt;dbl&gt;</th><th scope=col>&lt;dbl&gt;</th><th scope=col>&lt;dbl&gt;</th><th scope=col>&lt;dbl&gt;</th><th scope=col>&lt;dbl&gt;</th><th scope=col>&lt;dbl&gt;</th><th scope=col>&lt;dbl&gt;</th><th scope=col>⋯</th><th scope=col>&lt;dbl&gt;</th><th scope=col>&lt;dbl&gt;</th><th scope=col>&lt;dbl&gt;</th><th scope=col>&lt;dbl&gt;</th><th scope=col>&lt;dbl&gt;</th><th scope=col>&lt;dbl&gt;</th><th scope=col>&lt;dbl&gt;</th><th scope=col>&lt;dbl&gt;</th><th scope=col>&lt;dbl&gt;</th><th scope=col>&lt;chr&gt;</th></tr>\n",
       "</thead>\n",
       "<tbody>\n",
       "\t<tr><th scope=row>1</th><td>0.2822028</td><td>-1.255954</td><td>-0.5339003</td><td>1.1204467</td><td>-0.4666922</td><td>1.248439</td><td>0.2075903</td><td>-0.3646179</td><td>-0.4024226</td><td>0.78832135</td><td>⋯</td><td>0.05325919</td><td>0.2773824</td><td>0.1330336</td><td>-0.7632523</td><td>-0.04660508</td><td> 0.95971046</td><td> 0.4317791</td><td>-0.4674157</td><td>-0.45888943</td><td>k1 </td></tr>\n",
       "\t<tr><th scope=row>2</th><td>0.6928825</td><td>-1.038056</td><td> 0.3393354</td><td>0.2294335</td><td> 0.1052094</td><td>0.801152</td><td>0.3677501</td><td> 1.4177218</td><td>-0.5804093</td><td>0.04100113</td><td>⋯</td><td>0.22233569</td><td>0.3112234</td><td>0.0422479</td><td> 0.1419886</td><td>-0.04503017</td><td>-0.04460783</td><td>-0.1863946</td><td>-0.2670198</td><td>-0.03163122</td><td>k10</td></tr>\n",
       "</tbody>\n",
       "</table>\n"
      ],
      "text/latex": [
       "A data.frame: 2 × 21\n",
       "\\begin{tabular}{r|lllllllllllllllllllll}\n",
       "  & Factor1 & Factor2 & Factor3 & Factor4 & Factor5 & Factor6 & Factor7 & Factor8 & Factor9 & Factor10 & ⋯ & Factor12 & Factor13 & Factor14 & Factor15 & Factor16 & Factor17 & Factor18 & Factor19 & Factor20 & sample\\_id\\\\\n",
       "  & <dbl> & <dbl> & <dbl> & <dbl> & <dbl> & <dbl> & <dbl> & <dbl> & <dbl> & <dbl> & ⋯ & <dbl> & <dbl> & <dbl> & <dbl> & <dbl> & <dbl> & <dbl> & <dbl> & <dbl> & <chr>\\\\\n",
       "\\hline\n",
       "\t1 & 0.2822028 & -1.255954 & -0.5339003 & 1.1204467 & -0.4666922 & 1.248439 & 0.2075903 & -0.3646179 & -0.4024226 & 0.78832135 & ⋯ & 0.05325919 & 0.2773824 & 0.1330336 & -0.7632523 & -0.04660508 &  0.95971046 &  0.4317791 & -0.4674157 & -0.45888943 & k1 \\\\\n",
       "\t2 & 0.6928825 & -1.038056 &  0.3393354 & 0.2294335 &  0.1052094 & 0.801152 & 0.3677501 &  1.4177218 & -0.5804093 & 0.04100113 & ⋯ & 0.22233569 & 0.3112234 & 0.0422479 &  0.1419886 & -0.04503017 & -0.04460783 & -0.1863946 & -0.2670198 & -0.03163122 & k10\\\\\n",
       "\\end{tabular}\n"
      ],
      "text/markdown": [
       "\n",
       "A data.frame: 2 × 21\n",
       "\n",
       "| <!--/--> | Factor1 &lt;dbl&gt; | Factor2 &lt;dbl&gt; | Factor3 &lt;dbl&gt; | Factor4 &lt;dbl&gt; | Factor5 &lt;dbl&gt; | Factor6 &lt;dbl&gt; | Factor7 &lt;dbl&gt; | Factor8 &lt;dbl&gt; | Factor9 &lt;dbl&gt; | Factor10 &lt;dbl&gt; | ⋯ ⋯ | Factor12 &lt;dbl&gt; | Factor13 &lt;dbl&gt; | Factor14 &lt;dbl&gt; | Factor15 &lt;dbl&gt; | Factor16 &lt;dbl&gt; | Factor17 &lt;dbl&gt; | Factor18 &lt;dbl&gt; | Factor19 &lt;dbl&gt; | Factor20 &lt;dbl&gt; | sample_id &lt;chr&gt; |\n",
       "|---|---|---|---|---|---|---|---|---|---|---|---|---|---|---|---|---|---|---|---|---|---|\n",
       "| 1 | 0.2822028 | -1.255954 | -0.5339003 | 1.1204467 | -0.4666922 | 1.248439 | 0.2075903 | -0.3646179 | -0.4024226 | 0.78832135 | ⋯ | 0.05325919 | 0.2773824 | 0.1330336 | -0.7632523 | -0.04660508 |  0.95971046 |  0.4317791 | -0.4674157 | -0.45888943 | k1  |\n",
       "| 2 | 0.6928825 | -1.038056 |  0.3393354 | 0.2294335 |  0.1052094 | 0.801152 | 0.3677501 |  1.4177218 | -0.5804093 | 0.04100113 | ⋯ | 0.22233569 | 0.3112234 | 0.0422479 |  0.1419886 | -0.04503017 | -0.04460783 | -0.1863946 | -0.2670198 | -0.03163122 | k10 |\n",
       "\n"
      ],
      "text/plain": [
       "  Factor1   Factor2   Factor3    Factor4   Factor5    Factor6  Factor7  \n",
       "1 0.2822028 -1.255954 -0.5339003 1.1204467 -0.4666922 1.248439 0.2075903\n",
       "2 0.6928825 -1.038056  0.3393354 0.2294335  0.1052094 0.801152 0.3677501\n",
       "  Factor8    Factor9    Factor10   ⋯ Factor12   Factor13  Factor14  Factor15  \n",
       "1 -0.3646179 -0.4024226 0.78832135 ⋯ 0.05325919 0.2773824 0.1330336 -0.7632523\n",
       "2  1.4177218 -0.5804093 0.04100113 ⋯ 0.22233569 0.3112234 0.0422479  0.1419886\n",
       "  Factor16    Factor17    Factor18   Factor19   Factor20    sample_id\n",
       "1 -0.04660508  0.95971046  0.4317791 -0.4674157 -0.45888943 k1       \n",
       "2 -0.04503017 -0.04460783 -0.1863946 -0.2670198 -0.03163122 k10      "
      ]
     },
     "metadata": {},
     "output_type": "display_data"
    }
   ],
   "source": [
    "path = paste0(data_path, \"/G-Analysis/Factor_Data_V_AZIMUTH_INTEGRATED_FALSE.csv\")\n",
    "factor_data_mu = read.csv(path)\n",
    "print(file.info(path)$mtime)\n",
    "head(factor_data_mu,2)  # alternative: Azimuth"
   ]
  },
  {
   "cell_type": "code",
   "execution_count": 13,
   "id": "8570fe50-9800-4e75-88d4-f64cb230d338",
   "metadata": {},
   "outputs": [],
   "source": [
    "## Extract timepoint"
   ]
  },
  {
   "cell_type": "code",
   "execution_count": 14,
   "id": "96424b83-cf71-4ced-9165-e42a17f39f25",
   "metadata": {},
   "outputs": [],
   "source": [
    "factor_data_mu$tp = str_replace(factor_data_mu$sample_id, '.*\\\\.', '')"
   ]
  },
  {
   "cell_type": "markdown",
   "id": "e943149d-edbb-4728-ad84-5ce37af2f04d",
   "metadata": {},
   "source": [
    "## Munich feature data"
   ]
  },
  {
   "cell_type": "code",
   "execution_count": 17,
   "id": "5d76cc1d-c487-476e-8f07-a751703dc1ff",
   "metadata": {},
   "outputs": [
    {
     "name": "stdout",
     "output_type": "stream",
     "text": [
      "[1] \"2024-01-11 15:43:13 CET\"\n"
     ]
    },
    {
     "data": {
      "text/html": [
       "<table class=\"dataframe\">\n",
       "<caption>A data.frame: 2 × 22</caption>\n",
       "<thead>\n",
       "\t<tr><th></th><th scope=col>Factor1</th><th scope=col>Factor2</th><th scope=col>Factor3</th><th scope=col>Factor4</th><th scope=col>Factor5</th><th scope=col>Factor6</th><th scope=col>Factor7</th><th scope=col>Factor8</th><th scope=col>Factor9</th><th scope=col>Factor10</th><th scope=col>⋯</th><th scope=col>Factor13</th><th scope=col>Factor14</th><th scope=col>Factor15</th><th scope=col>Factor16</th><th scope=col>Factor17</th><th scope=col>Factor18</th><th scope=col>Factor19</th><th scope=col>Factor20</th><th scope=col>type</th><th scope=col>variable_name</th></tr>\n",
       "\t<tr><th></th><th scope=col>&lt;dbl&gt;</th><th scope=col>&lt;dbl&gt;</th><th scope=col>&lt;dbl&gt;</th><th scope=col>&lt;dbl&gt;</th><th scope=col>&lt;dbl&gt;</th><th scope=col>&lt;dbl&gt;</th><th scope=col>&lt;dbl&gt;</th><th scope=col>&lt;dbl&gt;</th><th scope=col>&lt;dbl&gt;</th><th scope=col>&lt;dbl&gt;</th><th scope=col>⋯</th><th scope=col>&lt;dbl&gt;</th><th scope=col>&lt;dbl&gt;</th><th scope=col>&lt;dbl&gt;</th><th scope=col>&lt;dbl&gt;</th><th scope=col>&lt;dbl&gt;</th><th scope=col>&lt;dbl&gt;</th><th scope=col>&lt;dbl&gt;</th><th scope=col>&lt;dbl&gt;</th><th scope=col>&lt;chr&gt;</th><th scope=col>&lt;chr&gt;</th></tr>\n",
       "</thead>\n",
       "<tbody>\n",
       "\t<tr><th scope=row>1</th><td>-0.020691979</td><td>0.4295154</td><td>0.02775631</td><td>-0.02712267</td><td> 0.010438305</td><td>-0.4194796</td><td>0.01169812</td><td>-0.11248843</td><td>0.2867520</td><td> 0.0143456634</td><td>⋯</td><td>0.03096640</td><td>0.1001090</td><td>0.8842042</td><td>-0.002553659</td><td>-0.0002680875</td><td>-0.009308180</td><td>0.003408993</td><td>-0.002008598</td><td>clinical_data</td><td>CK   </td></tr>\n",
       "\t<tr><th scope=row>2</th><td>-0.001361949</td><td>0.3790396</td><td>0.06749868</td><td>-0.06765357</td><td>-0.004929694</td><td>-0.3529069</td><td>0.01561328</td><td>-0.01496201</td><td>0.3777444</td><td>-0.0004131968</td><td>⋯</td><td>0.00304789</td><td>0.1161746</td><td>0.1307211</td><td>-0.002865083</td><td>-0.0003610348</td><td>-0.008757576</td><td>0.004192790</td><td>-0.010507527</td><td>clinical_data</td><td>CK_MB</td></tr>\n",
       "</tbody>\n",
       "</table>\n"
      ],
      "text/latex": [
       "A data.frame: 2 × 22\n",
       "\\begin{tabular}{r|lllllllllllllllllllll}\n",
       "  & Factor1 & Factor2 & Factor3 & Factor4 & Factor5 & Factor6 & Factor7 & Factor8 & Factor9 & Factor10 & ⋯ & Factor13 & Factor14 & Factor15 & Factor16 & Factor17 & Factor18 & Factor19 & Factor20 & type & variable\\_name\\\\\n",
       "  & <dbl> & <dbl> & <dbl> & <dbl> & <dbl> & <dbl> & <dbl> & <dbl> & <dbl> & <dbl> & ⋯ & <dbl> & <dbl> & <dbl> & <dbl> & <dbl> & <dbl> & <dbl> & <dbl> & <chr> & <chr>\\\\\n",
       "\\hline\n",
       "\t1 & -0.020691979 & 0.4295154 & 0.02775631 & -0.02712267 &  0.010438305 & -0.4194796 & 0.01169812 & -0.11248843 & 0.2867520 &  0.0143456634 & ⋯ & 0.03096640 & 0.1001090 & 0.8842042 & -0.002553659 & -0.0002680875 & -0.009308180 & 0.003408993 & -0.002008598 & clinical\\_data & CK   \\\\\n",
       "\t2 & -0.001361949 & 0.3790396 & 0.06749868 & -0.06765357 & -0.004929694 & -0.3529069 & 0.01561328 & -0.01496201 & 0.3777444 & -0.0004131968 & ⋯ & 0.00304789 & 0.1161746 & 0.1307211 & -0.002865083 & -0.0003610348 & -0.008757576 & 0.004192790 & -0.010507527 & clinical\\_data & CK\\_MB\\\\\n",
       "\\end{tabular}\n"
      ],
      "text/markdown": [
       "\n",
       "A data.frame: 2 × 22\n",
       "\n",
       "| <!--/--> | Factor1 &lt;dbl&gt; | Factor2 &lt;dbl&gt; | Factor3 &lt;dbl&gt; | Factor4 &lt;dbl&gt; | Factor5 &lt;dbl&gt; | Factor6 &lt;dbl&gt; | Factor7 &lt;dbl&gt; | Factor8 &lt;dbl&gt; | Factor9 &lt;dbl&gt; | Factor10 &lt;dbl&gt; | ⋯ ⋯ | Factor13 &lt;dbl&gt; | Factor14 &lt;dbl&gt; | Factor15 &lt;dbl&gt; | Factor16 &lt;dbl&gt; | Factor17 &lt;dbl&gt; | Factor18 &lt;dbl&gt; | Factor19 &lt;dbl&gt; | Factor20 &lt;dbl&gt; | type &lt;chr&gt; | variable_name &lt;chr&gt; |\n",
       "|---|---|---|---|---|---|---|---|---|---|---|---|---|---|---|---|---|---|---|---|---|---|\n",
       "| 1 | -0.020691979 | 0.4295154 | 0.02775631 | -0.02712267 |  0.010438305 | -0.4194796 | 0.01169812 | -0.11248843 | 0.2867520 |  0.0143456634 | ⋯ | 0.03096640 | 0.1001090 | 0.8842042 | -0.002553659 | -0.0002680875 | -0.009308180 | 0.003408993 | -0.002008598 | clinical_data | CK    |\n",
       "| 2 | -0.001361949 | 0.3790396 | 0.06749868 | -0.06765357 | -0.004929694 | -0.3529069 | 0.01561328 | -0.01496201 | 0.3777444 | -0.0004131968 | ⋯ | 0.00304789 | 0.1161746 | 0.1307211 | -0.002865083 | -0.0003610348 | -0.008757576 | 0.004192790 | -0.010507527 | clinical_data | CK_MB |\n",
       "\n"
      ],
      "text/plain": [
       "  Factor1      Factor2   Factor3    Factor4     Factor5      Factor6   \n",
       "1 -0.020691979 0.4295154 0.02775631 -0.02712267  0.010438305 -0.4194796\n",
       "2 -0.001361949 0.3790396 0.06749868 -0.06765357 -0.004929694 -0.3529069\n",
       "  Factor7    Factor8     Factor9   Factor10      ⋯ Factor13   Factor14 \n",
       "1 0.01169812 -0.11248843 0.2867520  0.0143456634 ⋯ 0.03096640 0.1001090\n",
       "2 0.01561328 -0.01496201 0.3777444 -0.0004131968 ⋯ 0.00304789 0.1161746\n",
       "  Factor15  Factor16     Factor17      Factor18     Factor19    Factor20    \n",
       "1 0.8842042 -0.002553659 -0.0002680875 -0.009308180 0.003408993 -0.002008598\n",
       "2 0.1307211 -0.002865083 -0.0003610348 -0.008757576 0.004192790 -0.010507527\n",
       "  type          variable_name\n",
       "1 clinical_data CK           \n",
       "2 clinical_data CK_MB        "
      ]
     },
     "metadata": {},
     "output_type": "display_data"
    }
   ],
   "source": [
    "path = paste0(data_path, \"/G-Analysis/Weight_Data_V_AZIMUTH_INTEGRATED_FALSE.csv\")\n",
    "feature_data_mu = read.csv(path)\n",
    "print(file.info(path)$mtime)\n",
    "head(feature_data_mu,2)  # alternative: Munich"
   ]
  },
  {
   "cell_type": "markdown",
   "id": "9b591949-a52d-4494-b5ef-a8dab5c856bc",
   "metadata": {
    "tags": []
   },
   "source": [
    "## Pseudobulk and Normalized Input Data Groningen"
   ]
  },
  {
   "cell_type": "code",
   "execution_count": 18,
   "id": "1f8da877-10dc-45b9-9b73-0808553504e6",
   "metadata": {},
   "outputs": [
    {
     "data": {
      "text/html": [
       "<table class=\"dataframe\">\n",
       "<caption>A data.frame: 3 × 5</caption>\n",
       "<thead>\n",
       "\t<tr><th></th><th scope=col>X</th><th scope=col>sample_id</th><th scope=col>variable</th><th scope=col>value</th><th scope=col>type</th></tr>\n",
       "\t<tr><th></th><th scope=col>&lt;int&gt;</th><th scope=col>&lt;chr&gt;</th><th scope=col>&lt;chr&gt;</th><th scope=col>&lt;dbl&gt;</th><th scope=col>&lt;chr&gt;</th></tr>\n",
       "</thead>\n",
       "<tbody>\n",
       "\t<tr><th scope=row>1</th><td>1</td><td>Baseline.TEST_1 </td><td>B.cell__ACTB</td><td>-0.1451209</td><td>single_cell</td></tr>\n",
       "\t<tr><th scope=row>2</th><td>2</td><td>Baseline.TEST_12</td><td>B.cell__ACTB</td><td> 0.2310092</td><td>single_cell</td></tr>\n",
       "\t<tr><th scope=row>3</th><td>3</td><td>Baseline.TEST_14</td><td>B.cell__ACTB</td><td>-0.2933812</td><td>single_cell</td></tr>\n",
       "</tbody>\n",
       "</table>\n"
      ],
      "text/latex": [
       "A data.frame: 3 × 5\n",
       "\\begin{tabular}{r|lllll}\n",
       "  & X & sample\\_id & variable & value & type\\\\\n",
       "  & <int> & <chr> & <chr> & <dbl> & <chr>\\\\\n",
       "\\hline\n",
       "\t1 & 1 & Baseline.TEST\\_1  & B.cell\\_\\_ACTB & -0.1451209 & single\\_cell\\\\\n",
       "\t2 & 2 & Baseline.TEST\\_12 & B.cell\\_\\_ACTB &  0.2310092 & single\\_cell\\\\\n",
       "\t3 & 3 & Baseline.TEST\\_14 & B.cell\\_\\_ACTB & -0.2933812 & single\\_cell\\\\\n",
       "\\end{tabular}\n"
      ],
      "text/markdown": [
       "\n",
       "A data.frame: 3 × 5\n",
       "\n",
       "| <!--/--> | X &lt;int&gt; | sample_id &lt;chr&gt; | variable &lt;chr&gt; | value &lt;dbl&gt; | type &lt;chr&gt; |\n",
       "|---|---|---|---|---|---|\n",
       "| 1 | 1 | Baseline.TEST_1  | B.cell__ACTB | -0.1451209 | single_cell |\n",
       "| 2 | 2 | Baseline.TEST_12 | B.cell__ACTB |  0.2310092 | single_cell |\n",
       "| 3 | 3 | Baseline.TEST_14 | B.cell__ACTB | -0.2933812 | single_cell |\n",
       "\n"
      ],
      "text/plain": [
       "  X sample_id        variable     value      type       \n",
       "1 1 Baseline.TEST_1  B.cell__ACTB -0.1451209 single_cell\n",
       "2 2 Baseline.TEST_12 B.cell__ACTB  0.2310092 single_cell\n",
       "3 3 Baseline.TEST_14 B.cell__ACTB -0.2933812 single_cell"
      ]
     },
     "metadata": {},
     "output_type": "display_data"
    },
    {
     "name": "stdout",
     "output_type": "stream",
     "text": [
      "[1] \"2024-01-11 16:58:49 CET\"\n"
     ]
    }
   ],
   "source": [
    "path = paste0(output_path, '/Reproduction_GR/Combined_Data_V_AZIMUTH_REPRODUCTION_v2','.csv')\n",
    "input_gr = read.csv(path)\n",
    "head(input_gr, n=3)\n",
    "print(file.info(path)$mtime)"
   ]
  },
  {
   "cell_type": "code",
   "execution_count": 19,
   "id": "a0d58dc9-25ed-4e81-ac9c-6e667faeabfb",
   "metadata": {},
   "outputs": [],
   "source": [
    "input_gr$feature = input_gr$variable"
   ]
  },
  {
   "cell_type": "markdown",
   "id": "4514aed7-d20f-4751-9b56-bd0348eaa8be",
   "metadata": {},
   "source": [
    "## Outcome classification Groningen"
   ]
  },
  {
   "cell_type": "code",
   "execution_count": 21,
   "id": "55cc522f-865d-4434-94a4-50170c8a1340",
   "metadata": {},
   "outputs": [
    {
     "data": {
      "text/html": [
       "<table class=\"dataframe\">\n",
       "<caption>A data.frame: 2 × 2</caption>\n",
       "<thead>\n",
       "\t<tr><th></th><th scope=col>record_id</th><th scope=col>outcome</th></tr>\n",
       "\t<tr><th></th><th scope=col>&lt;int&gt;</th><th scope=col>&lt;chr&gt;</th></tr>\n",
       "</thead>\n",
       "<tbody>\n",
       "\t<tr><th scope=row>1</th><td>14</td><td>Better</td></tr>\n",
       "\t<tr><th scope=row>2</th><td>15</td><td>Better</td></tr>\n",
       "</tbody>\n",
       "</table>\n"
      ],
      "text/latex": [
       "A data.frame: 2 × 2\n",
       "\\begin{tabular}{r|ll}\n",
       "  & record\\_id & outcome\\\\\n",
       "  & <int> & <chr>\\\\\n",
       "\\hline\n",
       "\t1 & 14 & Better\\\\\n",
       "\t2 & 15 & Better\\\\\n",
       "\\end{tabular}\n"
      ],
      "text/markdown": [
       "\n",
       "A data.frame: 2 × 2\n",
       "\n",
       "| <!--/--> | record_id &lt;int&gt; | outcome &lt;chr&gt; |\n",
       "|---|---|---|\n",
       "| 1 | 14 | Better |\n",
       "| 2 | 15 | Better |\n",
       "\n"
      ],
      "text/plain": [
       "  record_id outcome\n",
       "1 14        Better \n",
       "2 15        Better "
      ]
     },
     "metadata": {},
     "output_type": "display_data"
    }
   ],
   "source": [
    "classification_gr = read.csv(paste0(data_path, \"/Reproduction_GR/groningen_output_class.csv\"))\n",
    "head(classification_gr,2)"
   ]
  },
  {
   "cell_type": "markdown",
   "id": "e21f7bb2-a81a-435a-9fb9-5134fb28e839",
   "metadata": {},
   "source": [
    "# Analyze"
   ]
  },
  {
   "cell_type": "markdown",
   "id": "0e13ebb1-928a-4f76-850e-7fe3062d67fe",
   "metadata": {},
   "source": [
    "## Match Features"
   ]
  },
  {
   "cell_type": "code",
   "execution_count": 22,
   "id": "332502ac-dec8-4dce-9385-d5730a7e48de",
   "metadata": {},
   "outputs": [],
   "source": [
    "### Ensure that in both datasets feature annotations including cell-type have same format"
   ]
  },
  {
   "cell_type": "code",
   "execution_count": 23,
   "id": "5ec775f1-b707-43bc-9e83-dab914842c14",
   "metadata": {},
   "outputs": [],
   "source": [
    "input_gr$cell_type = str_replace(input_gr$variable,\n",
    "                                 '__.*', '')"
   ]
  },
  {
   "cell_type": "code",
   "execution_count": 24,
   "id": "df6575ed-a213-483a-8b5e-68db56940787",
   "metadata": {},
   "outputs": [
    {
     "data": {
      "text/html": [
       "<style>\n",
       ".list-inline {list-style: none; margin:0; padding: 0}\n",
       ".list-inline>li {display: inline-block}\n",
       ".list-inline>li:not(:last-child)::after {content: \"\\00b7\"; padding: 0 .5ex}\n",
       "</style>\n",
       "<ol class=list-inline><li>'B.cell'</li><li>'CD4_CTL'</li><li>'CD4_Naive'</li><li>'CD4_TCM'</li><li>'CD4_TEM'</li><li>'CD8_Naive'</li><li>'CD8_TEM'</li><li>'cDC2'</li><li>'cMono'</li><li>'MAIT'</li><li>'ncMono'</li><li>'NKdim'</li><li>'Treg'</li></ol>\n"
      ],
      "text/latex": [
       "\\begin{enumerate*}\n",
       "\\item 'B.cell'\n",
       "\\item 'CD4\\_CTL'\n",
       "\\item 'CD4\\_Naive'\n",
       "\\item 'CD4\\_TCM'\n",
       "\\item 'CD4\\_TEM'\n",
       "\\item 'CD8\\_Naive'\n",
       "\\item 'CD8\\_TEM'\n",
       "\\item 'cDC2'\n",
       "\\item 'cMono'\n",
       "\\item 'MAIT'\n",
       "\\item 'ncMono'\n",
       "\\item 'NKdim'\n",
       "\\item 'Treg'\n",
       "\\end{enumerate*}\n"
      ],
      "text/markdown": [
       "1. 'B.cell'\n",
       "2. 'CD4_CTL'\n",
       "3. 'CD4_Naive'\n",
       "4. 'CD4_TCM'\n",
       "5. 'CD4_TEM'\n",
       "6. 'CD8_Naive'\n",
       "7. 'CD8_TEM'\n",
       "8. 'cDC2'\n",
       "9. 'cMono'\n",
       "10. 'MAIT'\n",
       "11. 'ncMono'\n",
       "12. 'NKdim'\n",
       "13. 'Treg'\n",
       "\n",
       "\n"
      ],
      "text/plain": [
       " [1] \"B.cell\"    \"CD4_CTL\"   \"CD4_Naive\" \"CD4_TCM\"   \"CD4_TEM\"   \"CD8_Naive\"\n",
       " [7] \"CD8_TEM\"   \"cDC2\"      \"cMono\"     \"MAIT\"      \"ncMono\"    \"NKdim\"    \n",
       "[13] \"Treg\"     "
      ]
     },
     "metadata": {},
     "output_type": "display_data"
    }
   ],
   "source": [
    "unique(input_gr$cell_type)"
   ]
  },
  {
   "cell_type": "code",
   "execution_count": 25,
   "id": "13a36331-18d3-4146-b31d-633122f61d96",
   "metadata": {},
   "outputs": [],
   "source": [
    "## remove non-sc features from Munich data"
   ]
  },
  {
   "cell_type": "code",
   "execution_count": 26,
   "id": "ed1a479e-c9c4-48a4-92dc-539e2f50c788",
   "metadata": {},
   "outputs": [
    {
     "data": {
      "text/html": [
       "<table class=\"dataframe\">\n",
       "<caption>A data.frame: 2 × 22</caption>\n",
       "<thead>\n",
       "\t<tr><th></th><th scope=col>Factor1</th><th scope=col>Factor2</th><th scope=col>Factor3</th><th scope=col>Factor4</th><th scope=col>Factor5</th><th scope=col>Factor6</th><th scope=col>Factor7</th><th scope=col>Factor8</th><th scope=col>Factor9</th><th scope=col>Factor10</th><th scope=col>⋯</th><th scope=col>Factor13</th><th scope=col>Factor14</th><th scope=col>Factor15</th><th scope=col>Factor16</th><th scope=col>Factor17</th><th scope=col>Factor18</th><th scope=col>Factor19</th><th scope=col>Factor20</th><th scope=col>type</th><th scope=col>variable_name</th></tr>\n",
       "\t<tr><th></th><th scope=col>&lt;dbl&gt;</th><th scope=col>&lt;dbl&gt;</th><th scope=col>&lt;dbl&gt;</th><th scope=col>&lt;dbl&gt;</th><th scope=col>&lt;dbl&gt;</th><th scope=col>&lt;dbl&gt;</th><th scope=col>&lt;dbl&gt;</th><th scope=col>&lt;dbl&gt;</th><th scope=col>&lt;dbl&gt;</th><th scope=col>&lt;dbl&gt;</th><th scope=col>⋯</th><th scope=col>&lt;dbl&gt;</th><th scope=col>&lt;dbl&gt;</th><th scope=col>&lt;dbl&gt;</th><th scope=col>&lt;dbl&gt;</th><th scope=col>&lt;dbl&gt;</th><th scope=col>&lt;dbl&gt;</th><th scope=col>&lt;dbl&gt;</th><th scope=col>&lt;dbl&gt;</th><th scope=col>&lt;chr&gt;</th><th scope=col>&lt;chr&gt;</th></tr>\n",
       "</thead>\n",
       "<tbody>\n",
       "\t<tr><th scope=row>1</th><td>-0.020691979</td><td>0.4295154</td><td>0.02775631</td><td>-0.02712267</td><td> 0.010438305</td><td>-0.4194796</td><td>0.01169812</td><td>-0.11248843</td><td>0.2867520</td><td> 0.0143456634</td><td>⋯</td><td>0.03096640</td><td>0.1001090</td><td>0.8842042</td><td>-0.002553659</td><td>-0.0002680875</td><td>-0.009308180</td><td>0.003408993</td><td>-0.002008598</td><td>clinical_data</td><td>CK   </td></tr>\n",
       "\t<tr><th scope=row>2</th><td>-0.001361949</td><td>0.3790396</td><td>0.06749868</td><td>-0.06765357</td><td>-0.004929694</td><td>-0.3529069</td><td>0.01561328</td><td>-0.01496201</td><td>0.3777444</td><td>-0.0004131968</td><td>⋯</td><td>0.00304789</td><td>0.1161746</td><td>0.1307211</td><td>-0.002865083</td><td>-0.0003610348</td><td>-0.008757576</td><td>0.004192790</td><td>-0.010507527</td><td>clinical_data</td><td>CK_MB</td></tr>\n",
       "</tbody>\n",
       "</table>\n"
      ],
      "text/latex": [
       "A data.frame: 2 × 22\n",
       "\\begin{tabular}{r|lllllllllllllllllllll}\n",
       "  & Factor1 & Factor2 & Factor3 & Factor4 & Factor5 & Factor6 & Factor7 & Factor8 & Factor9 & Factor10 & ⋯ & Factor13 & Factor14 & Factor15 & Factor16 & Factor17 & Factor18 & Factor19 & Factor20 & type & variable\\_name\\\\\n",
       "  & <dbl> & <dbl> & <dbl> & <dbl> & <dbl> & <dbl> & <dbl> & <dbl> & <dbl> & <dbl> & ⋯ & <dbl> & <dbl> & <dbl> & <dbl> & <dbl> & <dbl> & <dbl> & <dbl> & <chr> & <chr>\\\\\n",
       "\\hline\n",
       "\t1 & -0.020691979 & 0.4295154 & 0.02775631 & -0.02712267 &  0.010438305 & -0.4194796 & 0.01169812 & -0.11248843 & 0.2867520 &  0.0143456634 & ⋯ & 0.03096640 & 0.1001090 & 0.8842042 & -0.002553659 & -0.0002680875 & -0.009308180 & 0.003408993 & -0.002008598 & clinical\\_data & CK   \\\\\n",
       "\t2 & -0.001361949 & 0.3790396 & 0.06749868 & -0.06765357 & -0.004929694 & -0.3529069 & 0.01561328 & -0.01496201 & 0.3777444 & -0.0004131968 & ⋯ & 0.00304789 & 0.1161746 & 0.1307211 & -0.002865083 & -0.0003610348 & -0.008757576 & 0.004192790 & -0.010507527 & clinical\\_data & CK\\_MB\\\\\n",
       "\\end{tabular}\n"
      ],
      "text/markdown": [
       "\n",
       "A data.frame: 2 × 22\n",
       "\n",
       "| <!--/--> | Factor1 &lt;dbl&gt; | Factor2 &lt;dbl&gt; | Factor3 &lt;dbl&gt; | Factor4 &lt;dbl&gt; | Factor5 &lt;dbl&gt; | Factor6 &lt;dbl&gt; | Factor7 &lt;dbl&gt; | Factor8 &lt;dbl&gt; | Factor9 &lt;dbl&gt; | Factor10 &lt;dbl&gt; | ⋯ ⋯ | Factor13 &lt;dbl&gt; | Factor14 &lt;dbl&gt; | Factor15 &lt;dbl&gt; | Factor16 &lt;dbl&gt; | Factor17 &lt;dbl&gt; | Factor18 &lt;dbl&gt; | Factor19 &lt;dbl&gt; | Factor20 &lt;dbl&gt; | type &lt;chr&gt; | variable_name &lt;chr&gt; |\n",
       "|---|---|---|---|---|---|---|---|---|---|---|---|---|---|---|---|---|---|---|---|---|---|\n",
       "| 1 | -0.020691979 | 0.4295154 | 0.02775631 | -0.02712267 |  0.010438305 | -0.4194796 | 0.01169812 | -0.11248843 | 0.2867520 |  0.0143456634 | ⋯ | 0.03096640 | 0.1001090 | 0.8842042 | -0.002553659 | -0.0002680875 | -0.009308180 | 0.003408993 | -0.002008598 | clinical_data | CK    |\n",
       "| 2 | -0.001361949 | 0.3790396 | 0.06749868 | -0.06765357 | -0.004929694 | -0.3529069 | 0.01561328 | -0.01496201 | 0.3777444 | -0.0004131968 | ⋯ | 0.00304789 | 0.1161746 | 0.1307211 | -0.002865083 | -0.0003610348 | -0.008757576 | 0.004192790 | -0.010507527 | clinical_data | CK_MB |\n",
       "\n"
      ],
      "text/plain": [
       "  Factor1      Factor2   Factor3    Factor4     Factor5      Factor6   \n",
       "1 -0.020691979 0.4295154 0.02775631 -0.02712267  0.010438305 -0.4194796\n",
       "2 -0.001361949 0.3790396 0.06749868 -0.06765357 -0.004929694 -0.3529069\n",
       "  Factor7    Factor8     Factor9   Factor10      ⋯ Factor13   Factor14 \n",
       "1 0.01169812 -0.11248843 0.2867520  0.0143456634 ⋯ 0.03096640 0.1001090\n",
       "2 0.01561328 -0.01496201 0.3777444 -0.0004131968 ⋯ 0.00304789 0.1161746\n",
       "  Factor15  Factor16     Factor17      Factor18     Factor19    Factor20    \n",
       "1 0.8842042 -0.002553659 -0.0002680875 -0.009308180 0.003408993 -0.002008598\n",
       "2 0.1307211 -0.002865083 -0.0003610348 -0.008757576 0.004192790 -0.010507527\n",
       "  type          variable_name\n",
       "1 clinical_data CK           \n",
       "2 clinical_data CK_MB        "
      ]
     },
     "metadata": {},
     "output_type": "display_data"
    },
    {
     "data": {
      "text/html": [
       "<style>\n",
       ".list-inline {list-style: none; margin:0; padding: 0}\n",
       ".list-inline>li {display: inline-block}\n",
       ".list-inline>li:not(:last-child)::after {content: \"\\00b7\"; padding: 0 .5ex}\n",
       "</style>\n",
       "<ol class=list-inline><li>'clinical_data'</li><li>'cytokine'</li><li>'neutrophil'</li><li>'proteomics'</li><li>'Bcell'</li><li>'CD14Mono'</li><li>'CD16Mono'</li><li>'CD4CTL'</li><li>'CD4Naive'</li><li>'CD4TCM'</li><li>'CD4TEM'</li><li>'CD8Naive'</li><li>'CD8TEM'</li><li>'cDC2'</li><li>'gdT'</li><li>'NK'</li><li>'Treg'</li></ol>\n"
      ],
      "text/latex": [
       "\\begin{enumerate*}\n",
       "\\item 'clinical\\_data'\n",
       "\\item 'cytokine'\n",
       "\\item 'neutrophil'\n",
       "\\item 'proteomics'\n",
       "\\item 'Bcell'\n",
       "\\item 'CD14Mono'\n",
       "\\item 'CD16Mono'\n",
       "\\item 'CD4CTL'\n",
       "\\item 'CD4Naive'\n",
       "\\item 'CD4TCM'\n",
       "\\item 'CD4TEM'\n",
       "\\item 'CD8Naive'\n",
       "\\item 'CD8TEM'\n",
       "\\item 'cDC2'\n",
       "\\item 'gdT'\n",
       "\\item 'NK'\n",
       "\\item 'Treg'\n",
       "\\end{enumerate*}\n"
      ],
      "text/markdown": [
       "1. 'clinical_data'\n",
       "2. 'cytokine'\n",
       "3. 'neutrophil'\n",
       "4. 'proteomics'\n",
       "5. 'Bcell'\n",
       "6. 'CD14Mono'\n",
       "7. 'CD16Mono'\n",
       "8. 'CD4CTL'\n",
       "9. 'CD4Naive'\n",
       "10. 'CD4TCM'\n",
       "11. 'CD4TEM'\n",
       "12. 'CD8Naive'\n",
       "13. 'CD8TEM'\n",
       "14. 'cDC2'\n",
       "15. 'gdT'\n",
       "16. 'NK'\n",
       "17. 'Treg'\n",
       "\n",
       "\n"
      ],
      "text/plain": [
       " [1] \"clinical_data\" \"cytokine\"      \"neutrophil\"    \"proteomics\"   \n",
       " [5] \"Bcell\"         \"CD14Mono\"      \"CD16Mono\"      \"CD4CTL\"       \n",
       " [9] \"CD4Naive\"      \"CD4TCM\"        \"CD4TEM\"        \"CD8Naive\"     \n",
       "[13] \"CD8TEM\"        \"cDC2\"          \"gdT\"           \"NK\"           \n",
       "[17] \"Treg\"         "
      ]
     },
     "metadata": {},
     "output_type": "display_data"
    }
   ],
   "source": [
    "head(feature_data_mu,2)\n",
    "unique(feature_data_mu$type)\n",
    "feature_data_mu = feature_data_mu[\n",
    "  !feature_data_mu$type %in% c('clinical_data', 'cytokine', 'neutrophil', 'proteomics'),\n",
    "]"
   ]
  },
  {
   "cell_type": "code",
   "execution_count": 27,
   "id": "696f5865-ddc3-4f05-a9fe-d055f981300b",
   "metadata": {},
   "outputs": [
    {
     "data": {
      "text/html": [
       "7694"
      ],
      "text/latex": [
       "7694"
      ],
      "text/markdown": [
       "7694"
      ],
      "text/plain": [
       "[1] 7694"
      ]
     },
     "metadata": {},
     "output_type": "display_data"
    }
   ],
   "source": [
    "length(unique(feature_data_mu$variable_name))"
   ]
  },
  {
   "cell_type": "code",
   "execution_count": 28,
   "id": "72283372-7aa9-48f3-9335-192a6d508af7",
   "metadata": {},
   "outputs": [],
   "source": [
    "## Adjust feature names to align with Groningen Mapping"
   ]
  },
  {
   "cell_type": "code",
   "execution_count": 30,
   "id": "b621bd4a-a38d-4fc1-a6a9-0fd505111f39",
   "metadata": {},
   "outputs": [
    {
     "data": {
      "text/html": [
       "<table class=\"dataframe\">\n",
       "<caption>A data.frame: 2 × 24</caption>\n",
       "<thead>\n",
       "\t<tr><th></th><th scope=col>Factor1</th><th scope=col>Factor2</th><th scope=col>Factor3</th><th scope=col>Factor4</th><th scope=col>Factor5</th><th scope=col>Factor6</th><th scope=col>Factor7</th><th scope=col>Factor8</th><th scope=col>Factor9</th><th scope=col>Factor10</th><th scope=col>⋯</th><th scope=col>Factor15</th><th scope=col>Factor16</th><th scope=col>Factor17</th><th scope=col>Factor18</th><th scope=col>Factor19</th><th scope=col>Factor20</th><th scope=col>type</th><th scope=col>variable_name</th><th scope=col>cell_type</th><th scope=col>feature</th></tr>\n",
       "\t<tr><th></th><th scope=col>&lt;dbl&gt;</th><th scope=col>&lt;dbl&gt;</th><th scope=col>&lt;dbl&gt;</th><th scope=col>&lt;dbl&gt;</th><th scope=col>&lt;dbl&gt;</th><th scope=col>&lt;dbl&gt;</th><th scope=col>&lt;dbl&gt;</th><th scope=col>&lt;dbl&gt;</th><th scope=col>&lt;dbl&gt;</th><th scope=col>&lt;dbl&gt;</th><th scope=col>⋯</th><th scope=col>&lt;dbl&gt;</th><th scope=col>&lt;dbl&gt;</th><th scope=col>&lt;dbl&gt;</th><th scope=col>&lt;dbl&gt;</th><th scope=col>&lt;dbl&gt;</th><th scope=col>&lt;dbl&gt;</th><th scope=col>&lt;chr&gt;</th><th scope=col>&lt;chr&gt;</th><th scope=col>&lt;chr&gt;</th><th scope=col>&lt;chr&gt;</th></tr>\n",
       "</thead>\n",
       "<tbody>\n",
       "\t<tr><th scope=row>1452</th><td>-0.17926582</td><td> 0.23935213</td><td>0.1632959</td><td>-0.04758595</td><td>0.13904403</td><td>-0.06905755</td><td>1.1085302</td><td>0.012131219</td><td>0.3152998</td><td> 0.04606748</td><td>⋯</td><td>-0.01115103</td><td> 0.054059598</td><td>-0.2188138</td><td>-0.1313958</td><td>-0.03007437</td><td> 0.1566817</td><td>Bcell</td><td>B.cell__ACTB </td><td>B.cell</td><td>B.cell__ACTB </td></tr>\n",
       "\t<tr><th scope=row>1453</th><td>-0.04518202</td><td>-0.01996126</td><td>0.1115015</td><td>-0.01237420</td><td>0.07304104</td><td>-0.07186289</td><td>0.6682053</td><td>0.002994229</td><td>0.1844658</td><td>-0.03832849</td><td>⋯</td><td>-0.02316688</td><td>-0.006085256</td><td>-0.5234638</td><td>-0.3893344</td><td>-0.17256498</td><td>-0.4521462</td><td>Bcell</td><td>B.cell__ACTG1</td><td>B.cell</td><td>B.cell__ACTG1</td></tr>\n",
       "</tbody>\n",
       "</table>\n"
      ],
      "text/latex": [
       "A data.frame: 2 × 24\n",
       "\\begin{tabular}{r|lllllllllllllllllllll}\n",
       "  & Factor1 & Factor2 & Factor3 & Factor4 & Factor5 & Factor6 & Factor7 & Factor8 & Factor9 & Factor10 & ⋯ & Factor15 & Factor16 & Factor17 & Factor18 & Factor19 & Factor20 & type & variable\\_name & cell\\_type & feature\\\\\n",
       "  & <dbl> & <dbl> & <dbl> & <dbl> & <dbl> & <dbl> & <dbl> & <dbl> & <dbl> & <dbl> & ⋯ & <dbl> & <dbl> & <dbl> & <dbl> & <dbl> & <dbl> & <chr> & <chr> & <chr> & <chr>\\\\\n",
       "\\hline\n",
       "\t1452 & -0.17926582 &  0.23935213 & 0.1632959 & -0.04758595 & 0.13904403 & -0.06905755 & 1.1085302 & 0.012131219 & 0.3152998 &  0.04606748 & ⋯ & -0.01115103 &  0.054059598 & -0.2188138 & -0.1313958 & -0.03007437 &  0.1566817 & Bcell & B.cell\\_\\_ACTB  & B.cell & B.cell\\_\\_ACTB \\\\\n",
       "\t1453 & -0.04518202 & -0.01996126 & 0.1115015 & -0.01237420 & 0.07304104 & -0.07186289 & 0.6682053 & 0.002994229 & 0.1844658 & -0.03832849 & ⋯ & -0.02316688 & -0.006085256 & -0.5234638 & -0.3893344 & -0.17256498 & -0.4521462 & Bcell & B.cell\\_\\_ACTG1 & B.cell & B.cell\\_\\_ACTG1\\\\\n",
       "\\end{tabular}\n"
      ],
      "text/markdown": [
       "\n",
       "A data.frame: 2 × 24\n",
       "\n",
       "| <!--/--> | Factor1 &lt;dbl&gt; | Factor2 &lt;dbl&gt; | Factor3 &lt;dbl&gt; | Factor4 &lt;dbl&gt; | Factor5 &lt;dbl&gt; | Factor6 &lt;dbl&gt; | Factor7 &lt;dbl&gt; | Factor8 &lt;dbl&gt; | Factor9 &lt;dbl&gt; | Factor10 &lt;dbl&gt; | ⋯ ⋯ | Factor15 &lt;dbl&gt; | Factor16 &lt;dbl&gt; | Factor17 &lt;dbl&gt; | Factor18 &lt;dbl&gt; | Factor19 &lt;dbl&gt; | Factor20 &lt;dbl&gt; | type &lt;chr&gt; | variable_name &lt;chr&gt; | cell_type &lt;chr&gt; | feature &lt;chr&gt; |\n",
       "|---|---|---|---|---|---|---|---|---|---|---|---|---|---|---|---|---|---|---|---|---|---|\n",
       "| 1452 | -0.17926582 |  0.23935213 | 0.1632959 | -0.04758595 | 0.13904403 | -0.06905755 | 1.1085302 | 0.012131219 | 0.3152998 |  0.04606748 | ⋯ | -0.01115103 |  0.054059598 | -0.2188138 | -0.1313958 | -0.03007437 |  0.1566817 | Bcell | B.cell__ACTB  | B.cell | B.cell__ACTB  |\n",
       "| 1453 | -0.04518202 | -0.01996126 | 0.1115015 | -0.01237420 | 0.07304104 | -0.07186289 | 0.6682053 | 0.002994229 | 0.1844658 | -0.03832849 | ⋯ | -0.02316688 | -0.006085256 | -0.5234638 | -0.3893344 | -0.17256498 | -0.4521462 | Bcell | B.cell__ACTG1 | B.cell | B.cell__ACTG1 |\n",
       "\n"
      ],
      "text/plain": [
       "     Factor1     Factor2     Factor3   Factor4     Factor5    Factor6    \n",
       "1452 -0.17926582  0.23935213 0.1632959 -0.04758595 0.13904403 -0.06905755\n",
       "1453 -0.04518202 -0.01996126 0.1115015 -0.01237420 0.07304104 -0.07186289\n",
       "     Factor7   Factor8     Factor9   Factor10    ⋯ Factor15    Factor16    \n",
       "1452 1.1085302 0.012131219 0.3152998  0.04606748 ⋯ -0.01115103  0.054059598\n",
       "1453 0.6682053 0.002994229 0.1844658 -0.03832849 ⋯ -0.02316688 -0.006085256\n",
       "     Factor17   Factor18   Factor19    Factor20   type  variable_name cell_type\n",
       "1452 -0.2188138 -0.1313958 -0.03007437  0.1566817 Bcell B.cell__ACTB  B.cell   \n",
       "1453 -0.5234638 -0.3893344 -0.17256498 -0.4521462 Bcell B.cell__ACTG1 B.cell   \n",
       "     feature      \n",
       "1452 B.cell__ACTB \n",
       "1453 B.cell__ACTG1"
      ]
     },
     "metadata": {},
     "output_type": "display_data"
    },
    {
     "data": {
      "text/html": [
       "7694"
      ],
      "text/latex": [
       "7694"
      ],
      "text/markdown": [
       "7694"
      ],
      "text/plain": [
       "[1] 7694"
      ]
     },
     "metadata": {},
     "output_type": "display_data"
    }
   ],
   "source": [
    "#### Azimuth\n",
    "feature_data_mu$cell_type = str_replace(feature_data_mu$variable_name,\n",
    "                                        '__.*', '')\n",
    "\n",
    "#unique(feature_data_mu$cell_type)\n",
    "\n",
    "feature_data_mu$feature = feature_data_mu$variable_name\n",
    "\n",
    "feature_data_mu$feature = str_replace(\n",
    "  feature_data_mu$feature, \"CD14.Mono\", 'cMono')\n",
    "\n",
    "\n",
    "feature_data_mu$feature = str_replace(\n",
    "  feature_data_mu$feature, \"Bcell\", 'B.cell')\n",
    "\n",
    "feature_data_mu$feature = str_replace(\n",
    "  feature_data_mu$feature, \"CD16.Mono\", 'ncMono')\n",
    "\n",
    "feature_data_mu$feature = str_replace(\n",
    "  feature_data_mu$feature, \"CD4.TCM\", 'CD4_TCM')\n",
    "\n",
    "feature_data_mu$feature = str_replace(\n",
    "  feature_data_mu$feature, \"cDC2\", 'cDC2')\n",
    "\n",
    "feature_data_mu$feature = str_replace(\n",
    "  feature_data_mu$feature, \"NK\", 'NKdim')\n",
    "\n",
    "\n",
    "\n",
    "\n",
    "head(feature_data_mu,2)\n",
    "length(unique(feature_data_mu$feature))"
   ]
  },
  {
   "cell_type": "code",
   "execution_count": 530,
   "id": "2f48f0a6-4b43-4016-b6f2-8e1278403689",
   "metadata": {},
   "outputs": [],
   "source": [
    "### Compare"
   ]
  },
  {
   "cell_type": "code",
   "execution_count": 35,
   "id": "da55979d-3dea-4570-a5fe-b6110fb34a64",
   "metadata": {},
   "outputs": [
    {
     "data": {
      "text/html": [
       "<style>\n",
       ".list-inline {list-style: none; margin:0; padding: 0}\n",
       ".list-inline>li {display: inline-block}\n",
       ".list-inline>li:not(:last-child)::after {content: \"\\00b7\"; padding: 0 .5ex}\n",
       "</style>\n",
       "<ol class=list-inline><li>'B.cell'</li><li>'CD4_TCM'</li><li>'CD4.CTL'</li><li>'CD4.Naive'</li><li>'CD4.TEM'</li><li>'CD8.Naive'</li><li>'CD8.TEM'</li><li>'cDC2'</li><li>'cMono'</li><li>'gdT'</li><li>'ncMono'</li><li>'NKdim'</li><li>'Treg'</li></ol>\n"
      ],
      "text/latex": [
       "\\begin{enumerate*}\n",
       "\\item 'B.cell'\n",
       "\\item 'CD4\\_TCM'\n",
       "\\item 'CD4.CTL'\n",
       "\\item 'CD4.Naive'\n",
       "\\item 'CD4.TEM'\n",
       "\\item 'CD8.Naive'\n",
       "\\item 'CD8.TEM'\n",
       "\\item 'cDC2'\n",
       "\\item 'cMono'\n",
       "\\item 'gdT'\n",
       "\\item 'ncMono'\n",
       "\\item 'NKdim'\n",
       "\\item 'Treg'\n",
       "\\end{enumerate*}\n"
      ],
      "text/markdown": [
       "1. 'B.cell'\n",
       "2. 'CD4_TCM'\n",
       "3. 'CD4.CTL'\n",
       "4. 'CD4.Naive'\n",
       "5. 'CD4.TEM'\n",
       "6. 'CD8.Naive'\n",
       "7. 'CD8.TEM'\n",
       "8. 'cDC2'\n",
       "9. 'cMono'\n",
       "10. 'gdT'\n",
       "11. 'ncMono'\n",
       "12. 'NKdim'\n",
       "13. 'Treg'\n",
       "\n",
       "\n"
      ],
      "text/plain": [
       " [1] \"B.cell\"    \"CD4_TCM\"   \"CD4.CTL\"   \"CD4.Naive\" \"CD4.TEM\"   \"CD8.Naive\"\n",
       " [7] \"CD8.TEM\"   \"cDC2\"      \"cMono\"     \"gdT\"       \"ncMono\"    \"NKdim\"    \n",
       "[13] \"Treg\"     "
      ]
     },
     "metadata": {},
     "output_type": "display_data"
    },
    {
     "data": {
      "text/html": [
       "<style>\n",
       ".list-inline {list-style: none; margin:0; padding: 0}\n",
       ".list-inline>li {display: inline-block}\n",
       ".list-inline>li:not(:last-child)::after {content: \"\\00b7\"; padding: 0 .5ex}\n",
       "</style>\n",
       "<ol class=list-inline><li>'B.cell'</li><li>'CD4_CTL'</li><li>'CD4_Naive'</li><li>'CD4_TCM'</li><li>'CD4_TEM'</li><li>'CD8_Naive'</li><li>'CD8_TEM'</li><li>'cDC2'</li><li>'cMono'</li><li>'MAIT'</li><li>'ncMono'</li><li>'NKdim'</li><li>'Treg'</li></ol>\n"
      ],
      "text/latex": [
       "\\begin{enumerate*}\n",
       "\\item 'B.cell'\n",
       "\\item 'CD4\\_CTL'\n",
       "\\item 'CD4\\_Naive'\n",
       "\\item 'CD4\\_TCM'\n",
       "\\item 'CD4\\_TEM'\n",
       "\\item 'CD8\\_Naive'\n",
       "\\item 'CD8\\_TEM'\n",
       "\\item 'cDC2'\n",
       "\\item 'cMono'\n",
       "\\item 'MAIT'\n",
       "\\item 'ncMono'\n",
       "\\item 'NKdim'\n",
       "\\item 'Treg'\n",
       "\\end{enumerate*}\n"
      ],
      "text/markdown": [
       "1. 'B.cell'\n",
       "2. 'CD4_CTL'\n",
       "3. 'CD4_Naive'\n",
       "4. 'CD4_TCM'\n",
       "5. 'CD4_TEM'\n",
       "6. 'CD8_Naive'\n",
       "7. 'CD8_TEM'\n",
       "8. 'cDC2'\n",
       "9. 'cMono'\n",
       "10. 'MAIT'\n",
       "11. 'ncMono'\n",
       "12. 'NKdim'\n",
       "13. 'Treg'\n",
       "\n",
       "\n"
      ],
      "text/plain": [
       " [1] \"B.cell\"    \"CD4_CTL\"   \"CD4_Naive\" \"CD4_TCM\"   \"CD4_TEM\"   \"CD8_Naive\"\n",
       " [7] \"CD8_TEM\"   \"cDC2\"      \"cMono\"     \"MAIT\"      \"ncMono\"    \"NKdim\"    \n",
       "[13] \"Treg\"     "
      ]
     },
     "metadata": {},
     "output_type": "display_data"
    }
   ],
   "source": [
    "sort(unique(str_replace(feature_data_mu$feature, '__.*', ''))) # Munich\n",
    "sort(unique(str_replace(input_gr$feature, '__.*', ''))) # Groningen\n",
    "\n",
    "## Mapping cell-types: B.cell, CD4_TCM, cDC2, cMono, ncMono, NKdim, Treg"
   ]
  },
  {
   "cell_type": "code",
   "execution_count": 36,
   "id": "29994bec-5da0-4131-9bb6-2cfa520fbe10",
   "metadata": {},
   "outputs": [],
   "source": [
    "#head(input_gr,2)"
   ]
  },
  {
   "cell_type": "code",
   "execution_count": 37,
   "id": "494c2d51-eb8d-436c-9847-628b31128b14",
   "metadata": {},
   "outputs": [],
   "source": [
    "### Long format of mu feature data"
   ]
  },
  {
   "cell_type": "code",
   "execution_count": 38,
   "id": "abffbf24-58f8-4232-8f3b-21fdf05be942",
   "metadata": {},
   "outputs": [
    {
     "name": "stderr",
     "output_type": "stream",
     "text": [
      "Using type, variable_name, cell_type, feature as id variables\n",
      "\n"
     ]
    }
   ],
   "source": [
    "feature_data_mu = melt(feature_data_mu)"
   ]
  },
  {
   "cell_type": "code",
   "execution_count": 39,
   "id": "ec80b0bc-a85b-4482-a5b8-bab7a3e7f58e",
   "metadata": {},
   "outputs": [
    {
     "data": {
      "text/html": [
       "<table class=\"dataframe\">\n",
       "<caption>A data.frame: 2 × 6</caption>\n",
       "<thead>\n",
       "\t<tr><th></th><th scope=col>type</th><th scope=col>variable_name</th><th scope=col>cell_type</th><th scope=col>feature</th><th scope=col>variable</th><th scope=col>value</th></tr>\n",
       "\t<tr><th></th><th scope=col>&lt;chr&gt;</th><th scope=col>&lt;chr&gt;</th><th scope=col>&lt;chr&gt;</th><th scope=col>&lt;chr&gt;</th><th scope=col>&lt;fct&gt;</th><th scope=col>&lt;dbl&gt;</th></tr>\n",
       "</thead>\n",
       "<tbody>\n",
       "\t<tr><th scope=row>1</th><td>Bcell</td><td>B.cell__ACTB </td><td>B.cell</td><td>B.cell__ACTB </td><td>Factor1</td><td>-0.17926582</td></tr>\n",
       "\t<tr><th scope=row>2</th><td>Bcell</td><td>B.cell__ACTG1</td><td>B.cell</td><td>B.cell__ACTG1</td><td>Factor1</td><td>-0.04518202</td></tr>\n",
       "</tbody>\n",
       "</table>\n"
      ],
      "text/latex": [
       "A data.frame: 2 × 6\n",
       "\\begin{tabular}{r|llllll}\n",
       "  & type & variable\\_name & cell\\_type & feature & variable & value\\\\\n",
       "  & <chr> & <chr> & <chr> & <chr> & <fct> & <dbl>\\\\\n",
       "\\hline\n",
       "\t1 & Bcell & B.cell\\_\\_ACTB  & B.cell & B.cell\\_\\_ACTB  & Factor1 & -0.17926582\\\\\n",
       "\t2 & Bcell & B.cell\\_\\_ACTG1 & B.cell & B.cell\\_\\_ACTG1 & Factor1 & -0.04518202\\\\\n",
       "\\end{tabular}\n"
      ],
      "text/markdown": [
       "\n",
       "A data.frame: 2 × 6\n",
       "\n",
       "| <!--/--> | type &lt;chr&gt; | variable_name &lt;chr&gt; | cell_type &lt;chr&gt; | feature &lt;chr&gt; | variable &lt;fct&gt; | value &lt;dbl&gt; |\n",
       "|---|---|---|---|---|---|---|\n",
       "| 1 | Bcell | B.cell__ACTB  | B.cell | B.cell__ACTB  | Factor1 | -0.17926582 |\n",
       "| 2 | Bcell | B.cell__ACTG1 | B.cell | B.cell__ACTG1 | Factor1 | -0.04518202 |\n",
       "\n"
      ],
      "text/plain": [
       "  type  variable_name cell_type feature       variable value      \n",
       "1 Bcell B.cell__ACTB  B.cell    B.cell__ACTB  Factor1  -0.17926582\n",
       "2 Bcell B.cell__ACTG1 B.cell    B.cell__ACTG1 Factor1  -0.04518202"
      ]
     },
     "metadata": {},
     "output_type": "display_data"
    }
   ],
   "source": [
    "head(feature_data_mu,2)"
   ]
  },
  {
   "cell_type": "code",
   "execution_count": 40,
   "id": "4bfcb098-18c1-453d-a0c4-51e86e323905",
   "metadata": {},
   "outputs": [],
   "source": [
    "# Filter MU feature weights for features also in GR data"
   ]
  },
  {
   "cell_type": "code",
   "execution_count": 41,
   "id": "32765cc2-8611-4817-bdb3-68ce5b961ba4",
   "metadata": {},
   "outputs": [
    {
     "data": {
      "text/html": [
       "<table class=\"dataframe\">\n",
       "<caption>A data.frame: 2 × 6</caption>\n",
       "<thead>\n",
       "\t<tr><th></th><th scope=col>type</th><th scope=col>variable_name</th><th scope=col>cell_type</th><th scope=col>feature</th><th scope=col>variable</th><th scope=col>value</th></tr>\n",
       "\t<tr><th></th><th scope=col>&lt;chr&gt;</th><th scope=col>&lt;chr&gt;</th><th scope=col>&lt;chr&gt;</th><th scope=col>&lt;chr&gt;</th><th scope=col>&lt;fct&gt;</th><th scope=col>&lt;dbl&gt;</th></tr>\n",
       "</thead>\n",
       "<tbody>\n",
       "\t<tr><th scope=row>1</th><td>Bcell</td><td>B.cell__ACTB   </td><td>B.cell</td><td>B.cell__ACTB   </td><td>Factor1</td><td>-0.1792658</td></tr>\n",
       "\t<tr><th scope=row>24</th><td>Bcell</td><td>B.cell__ARHGDIB</td><td>B.cell</td><td>B.cell__ARHGDIB</td><td>Factor1</td><td> 0.3273940</td></tr>\n",
       "</tbody>\n",
       "</table>\n"
      ],
      "text/latex": [
       "A data.frame: 2 × 6\n",
       "\\begin{tabular}{r|llllll}\n",
       "  & type & variable\\_name & cell\\_type & feature & variable & value\\\\\n",
       "  & <chr> & <chr> & <chr> & <chr> & <fct> & <dbl>\\\\\n",
       "\\hline\n",
       "\t1 & Bcell & B.cell\\_\\_ACTB    & B.cell & B.cell\\_\\_ACTB    & Factor1 & -0.1792658\\\\\n",
       "\t24 & Bcell & B.cell\\_\\_ARHGDIB & B.cell & B.cell\\_\\_ARHGDIB & Factor1 &  0.3273940\\\\\n",
       "\\end{tabular}\n"
      ],
      "text/markdown": [
       "\n",
       "A data.frame: 2 × 6\n",
       "\n",
       "| <!--/--> | type &lt;chr&gt; | variable_name &lt;chr&gt; | cell_type &lt;chr&gt; | feature &lt;chr&gt; | variable &lt;fct&gt; | value &lt;dbl&gt; |\n",
       "|---|---|---|---|---|---|---|\n",
       "| 1 | Bcell | B.cell__ACTB    | B.cell | B.cell__ACTB    | Factor1 | -0.1792658 |\n",
       "| 24 | Bcell | B.cell__ARHGDIB | B.cell | B.cell__ARHGDIB | Factor1 |  0.3273940 |\n",
       "\n"
      ],
      "text/plain": [
       "   type  variable_name   cell_type feature         variable value     \n",
       "1  Bcell B.cell__ACTB    B.cell    B.cell__ACTB    Factor1  -0.1792658\n",
       "24 Bcell B.cell__ARHGDIB B.cell    B.cell__ARHGDIB Factor1   0.3273940"
      ]
     },
     "metadata": {},
     "output_type": "display_data"
    },
    {
     "data": {
      "text/html": [
       "3230"
      ],
      "text/latex": [
       "3230"
      ],
      "text/markdown": [
       "3230"
      ],
      "text/plain": [
       "[1] 3230"
      ]
     },
     "metadata": {},
     "output_type": "display_data"
    }
   ],
   "source": [
    "\n",
    "feature_data_mu = feature_data_mu[feature_data_mu$feature %in% unique(input_gr$feature),]\n",
    "head(feature_data_mu,2)\n",
    "length(unique(feature_data_mu$feature))"
   ]
  },
  {
   "cell_type": "code",
   "execution_count": 43,
   "id": "d6c05068-71a9-4abf-9918-52aa21030551",
   "metadata": {},
   "outputs": [
    {
     "data": {
      "text/html": [
       "<style>\n",
       ".list-inline {list-style: none; margin:0; padding: 0}\n",
       ".list-inline>li {display: inline-block}\n",
       ".list-inline>li:not(:last-child)::after {content: \"\\00b7\"; padding: 0 .5ex}\n",
       "</style>\n",
       "<ol class=list-inline><li>'B.cell'</li><li>'CD4_TCM'</li><li>'cDC2'</li><li>'cMono'</li><li>'ncMono'</li><li>'NKdim'</li><li>'Treg'</li></ol>\n"
      ],
      "text/latex": [
       "\\begin{enumerate*}\n",
       "\\item 'B.cell'\n",
       "\\item 'CD4\\_TCM'\n",
       "\\item 'cDC2'\n",
       "\\item 'cMono'\n",
       "\\item 'ncMono'\n",
       "\\item 'NKdim'\n",
       "\\item 'Treg'\n",
       "\\end{enumerate*}\n"
      ],
      "text/markdown": [
       "1. 'B.cell'\n",
       "2. 'CD4_TCM'\n",
       "3. 'cDC2'\n",
       "4. 'cMono'\n",
       "5. 'ncMono'\n",
       "6. 'NKdim'\n",
       "7. 'Treg'\n",
       "\n",
       "\n"
      ],
      "text/plain": [
       "[1] \"B.cell\"  \"CD4_TCM\" \"cDC2\"    \"cMono\"   \"ncMono\"  \"NKdim\"   \"Treg\"   "
      ]
     },
     "metadata": {},
     "output_type": "display_data"
    }
   ],
   "source": [
    "sort(unique(str_replace(feature_data_mu$feature, '__.*', '')))   # check mapped cell-types"
   ]
  },
  {
   "cell_type": "code",
   "execution_count": 44,
   "id": "e51e4854-d4ec-4589-91d2-1db3e80fa546",
   "metadata": {},
   "outputs": [],
   "source": [
    "feature_data_mu = feature_data_mu[feature_data_mu$cell_type != 'Treg',] # exclude not so well mapped cell-type"
   ]
  },
  {
   "cell_type": "code",
   "execution_count": 45,
   "id": "33a617a4-c3a1-4798-bae5-79924cb40fec",
   "metadata": {},
   "outputs": [
    {
     "data": {
      "text/html": [
       "3148"
      ],
      "text/latex": [
       "3148"
      ],
      "text/markdown": [
       "3148"
      ],
      "text/plain": [
       "[1] 3148"
      ]
     },
     "metadata": {},
     "output_type": "display_data"
    }
   ],
   "source": [
    "length(unique(feature_data_mu$feature))"
   ]
  },
  {
   "cell_type": "code",
   "execution_count": 46,
   "id": "a755b487-d640-46b3-9c69-64034ffd33d6",
   "metadata": {},
   "outputs": [],
   "source": [
    "# Filter GR input features for features also in MU data"
   ]
  },
  {
   "cell_type": "code",
   "execution_count": 47,
   "id": "92e5d5d6-4daa-4525-907e-bb0a328fecc4",
   "metadata": {},
   "outputs": [
    {
     "data": {
      "text/html": [
       "6353"
      ],
      "text/latex": [
       "6353"
      ],
      "text/markdown": [
       "6353"
      ],
      "text/plain": [
       "[1] 6353"
      ]
     },
     "metadata": {},
     "output_type": "display_data"
    }
   ],
   "source": [
    "#head(input_gr)\n",
    "length(unique(input_gr$feature))\n",
    "input_gr = input_gr[input_gr$feature %in% unique(feature_data_mu$feature), ]\n",
    "input_vis = input_gr\n",
    "input_gr = input_gr %>% dcast(sample_id ~ feature, value.var =  'value')"
   ]
  },
  {
   "cell_type": "code",
   "execution_count": 48,
   "id": "28410730-af80-43e5-ae10-41f92ee080b2",
   "metadata": {},
   "outputs": [
    {
     "data": {
      "text/html": [
       "<table class=\"dataframe\">\n",
       "<caption>A data.frame: 6 × 3149</caption>\n",
       "<thead>\n",
       "\t<tr><th></th><th scope=col>sample_id</th><th scope=col>B.cell__ACTB</th><th scope=col>B.cell__ARHGDIB</th><th scope=col>B.cell__ARPC2</th><th scope=col>B.cell__ARPC3</th><th scope=col>B.cell__B2M</th><th scope=col>B.cell__BIRC3</th><th scope=col>B.cell__BTF3</th><th scope=col>B.cell__BTG1</th><th scope=col>B.cell__BTG2</th><th scope=col>⋯</th><th scope=col>NKdim__YPEL5</th><th scope=col>NKdim__YWHAB</th><th scope=col>NKdim__YWHAQ</th><th scope=col>NKdim__YWHAZ</th><th scope=col>NKdim__ZC3HAV1</th><th scope=col>NKdim__ZEB2</th><th scope=col>NKdim__ZFAS1</th><th scope=col>NKdim__ZFP36</th><th scope=col>NKdim__ZFP36L1</th><th scope=col>NKdim__ZFP36L2</th></tr>\n",
       "\t<tr><th></th><th scope=col>&lt;chr&gt;</th><th scope=col>&lt;dbl&gt;</th><th scope=col>&lt;dbl&gt;</th><th scope=col>&lt;dbl&gt;</th><th scope=col>&lt;dbl&gt;</th><th scope=col>&lt;dbl&gt;</th><th scope=col>&lt;dbl&gt;</th><th scope=col>&lt;dbl&gt;</th><th scope=col>&lt;dbl&gt;</th><th scope=col>&lt;dbl&gt;</th><th scope=col>⋯</th><th scope=col>&lt;dbl&gt;</th><th scope=col>&lt;dbl&gt;</th><th scope=col>&lt;dbl&gt;</th><th scope=col>&lt;dbl&gt;</th><th scope=col>&lt;dbl&gt;</th><th scope=col>&lt;dbl&gt;</th><th scope=col>&lt;dbl&gt;</th><th scope=col>&lt;dbl&gt;</th><th scope=col>&lt;dbl&gt;</th><th scope=col>&lt;dbl&gt;</th></tr>\n",
       "</thead>\n",
       "<tbody>\n",
       "\t<tr><th scope=row>1</th><td>Baseline.TEST_1 </td><td>-0.1451209</td><td>-0.2808230</td><td> 0.2933812</td><td>-1.3037827</td><td> 0.35691713</td><td>-0.29338123</td><td>-0.5720211</td><td> 1.6637928</td><td>-1.3037827</td><td>⋯</td><td> 1.6637928</td><td> 0.70506589</td><td> 0.4752408</td><td> 0.9234567</td><td> 0.6744898</td><td>-0.02410453</td><td>-1.0405662</td><td>-0.94207577</td><td>-0.80109453</td><td>-0.7050659</td></tr>\n",
       "\t<tr><th scope=row>2</th><td>Baseline.TEST_12</td><td> 0.2310092</td><td>-0.0602920</td><td> 0.3697907</td><td>-0.3697907</td><td>-0.29338123</td><td>-0.08445798</td><td> 0.4752408</td><td> 0.1451209</td><td> 0.1573107</td><td>⋯</td><td>-0.6744898</td><td>-0.09655862</td><td> 0.8178173</td><td>-0.3827258</td><td>-0.7363159</td><td>-0.44842548</td><td>-1.8980287</td><td>-0.07236971</td><td> 1.36238339</td><td> 0.8178173</td></tr>\n",
       "\t<tr><th scope=row>3</th><td>Baseline.TEST_14</td><td>-0.2933812</td><td> 0.1329527</td><td> 1.6637928</td><td>-0.6151411</td><td> 0.96102726</td><td> 1.53412054</td><td> 1.3935235</td><td> 1.0405662</td><td>-1.0829150</td><td>⋯</td><td> 1.7688250</td><td> 0.34410246</td><td> 0.7363159</td><td>-0.1817624</td><td>-1.5341205</td><td>-0.61514110</td><td>-0.1451209</td><td>-1.06150263</td><td>-1.76882504</td><td> 0.5299395</td></tr>\n",
       "\t<tr><th scope=row>4</th><td>Baseline.TEST_15</td><td>-1.0615026</td><td>-0.4087920</td><td>-0.7206029</td><td>-0.2683089</td><td>-0.08445798</td><td>-0.38272581</td><td>-1.2493462</td><td>-1.0405662</td><td> 1.1740260</td><td>⋯</td><td> 0.6744898</td><td>-0.58627265</td><td> 0.6445316</td><td> 0.6297684</td><td>-0.3313441</td><td> 0.60064430</td><td> 0.2683089</td><td>-1.15034938</td><td>-0.04822307</td><td>-0.8694238</td></tr>\n",
       "\t<tr><th scope=row>5</th><td>Baseline.TEST_17</td><td>-1.1503494</td><td>-1.4602158</td><td>-0.5299395</td><td>-0.9420758</td><td> 0.78459288</td><td> 0.52993955</td><td> 1.5744450</td><td>-0.4219289</td><td> 1.0829150</td><td>⋯</td><td> 0.7363159</td><td>-1.19837970</td><td>-0.1817624</td><td>-1.1503494</td><td> 0.1086734</td><td>-0.39572530</td><td>-1.3037827</td><td> 0.20632319</td><td>-1.66379279</td><td> 1.4602158</td></tr>\n",
       "\t<tr><th scope=row>6</th><td>Baseline.TEST_18</td><td> 1.1273007</td><td> 0.6297684</td><td> 2.3410271</td><td> 0.2063232</td><td> 1.61750540</td><td> 0.68969722</td><td>-1.5341205</td><td> 0.4617916</td><td>-1.5744450</td><td>⋯</td><td>-0.3827258</td><td>-0.73631592</td><td>-0.3186394</td><td> 1.3037827</td><td> 0.9234567</td><td> 1.49614688</td><td>-1.2493462</td><td>-0.73631592</td><td>-1.30378267</td><td> 1.4602158</td></tr>\n",
       "</tbody>\n",
       "</table>\n"
      ],
      "text/latex": [
       "A data.frame: 6 × 3149\n",
       "\\begin{tabular}{r|lllllllllllllllllllll}\n",
       "  & sample\\_id & B.cell\\_\\_ACTB & B.cell\\_\\_ARHGDIB & B.cell\\_\\_ARPC2 & B.cell\\_\\_ARPC3 & B.cell\\_\\_B2M & B.cell\\_\\_BIRC3 & B.cell\\_\\_BTF3 & B.cell\\_\\_BTG1 & B.cell\\_\\_BTG2 & ⋯ & NKdim\\_\\_YPEL5 & NKdim\\_\\_YWHAB & NKdim\\_\\_YWHAQ & NKdim\\_\\_YWHAZ & NKdim\\_\\_ZC3HAV1 & NKdim\\_\\_ZEB2 & NKdim\\_\\_ZFAS1 & NKdim\\_\\_ZFP36 & NKdim\\_\\_ZFP36L1 & NKdim\\_\\_ZFP36L2\\\\\n",
       "  & <chr> & <dbl> & <dbl> & <dbl> & <dbl> & <dbl> & <dbl> & <dbl> & <dbl> & <dbl> & ⋯ & <dbl> & <dbl> & <dbl> & <dbl> & <dbl> & <dbl> & <dbl> & <dbl> & <dbl> & <dbl>\\\\\n",
       "\\hline\n",
       "\t1 & Baseline.TEST\\_1  & -0.1451209 & -0.2808230 &  0.2933812 & -1.3037827 &  0.35691713 & -0.29338123 & -0.5720211 &  1.6637928 & -1.3037827 & ⋯ &  1.6637928 &  0.70506589 &  0.4752408 &  0.9234567 &  0.6744898 & -0.02410453 & -1.0405662 & -0.94207577 & -0.80109453 & -0.7050659\\\\\n",
       "\t2 & Baseline.TEST\\_12 &  0.2310092 & -0.0602920 &  0.3697907 & -0.3697907 & -0.29338123 & -0.08445798 &  0.4752408 &  0.1451209 &  0.1573107 & ⋯ & -0.6744898 & -0.09655862 &  0.8178173 & -0.3827258 & -0.7363159 & -0.44842548 & -1.8980287 & -0.07236971 &  1.36238339 &  0.8178173\\\\\n",
       "\t3 & Baseline.TEST\\_14 & -0.2933812 &  0.1329527 &  1.6637928 & -0.6151411 &  0.96102726 &  1.53412054 &  1.3935235 &  1.0405662 & -1.0829150 & ⋯ &  1.7688250 &  0.34410246 &  0.7363159 & -0.1817624 & -1.5341205 & -0.61514110 & -0.1451209 & -1.06150263 & -1.76882504 &  0.5299395\\\\\n",
       "\t4 & Baseline.TEST\\_15 & -1.0615026 & -0.4087920 & -0.7206029 & -0.2683089 & -0.08445798 & -0.38272581 & -1.2493462 & -1.0405662 &  1.1740260 & ⋯ &  0.6744898 & -0.58627265 &  0.6445316 &  0.6297684 & -0.3313441 &  0.60064430 &  0.2683089 & -1.15034938 & -0.04822307 & -0.8694238\\\\\n",
       "\t5 & Baseline.TEST\\_17 & -1.1503494 & -1.4602158 & -0.5299395 & -0.9420758 &  0.78459288 &  0.52993955 &  1.5744450 & -0.4219289 &  1.0829150 & ⋯ &  0.7363159 & -1.19837970 & -0.1817624 & -1.1503494 &  0.1086734 & -0.39572530 & -1.3037827 &  0.20632319 & -1.66379279 &  1.4602158\\\\\n",
       "\t6 & Baseline.TEST\\_18 &  1.1273007 &  0.6297684 &  2.3410271 &  0.2063232 &  1.61750540 &  0.68969722 & -1.5341205 &  0.4617916 & -1.5744450 & ⋯ & -0.3827258 & -0.73631592 & -0.3186394 &  1.3037827 &  0.9234567 &  1.49614688 & -1.2493462 & -0.73631592 & -1.30378267 &  1.4602158\\\\\n",
       "\\end{tabular}\n"
      ],
      "text/markdown": [
       "\n",
       "A data.frame: 6 × 3149\n",
       "\n",
       "| <!--/--> | sample_id &lt;chr&gt; | B.cell__ACTB &lt;dbl&gt; | B.cell__ARHGDIB &lt;dbl&gt; | B.cell__ARPC2 &lt;dbl&gt; | B.cell__ARPC3 &lt;dbl&gt; | B.cell__B2M &lt;dbl&gt; | B.cell__BIRC3 &lt;dbl&gt; | B.cell__BTF3 &lt;dbl&gt; | B.cell__BTG1 &lt;dbl&gt; | B.cell__BTG2 &lt;dbl&gt; | ⋯ ⋯ | NKdim__YPEL5 &lt;dbl&gt; | NKdim__YWHAB &lt;dbl&gt; | NKdim__YWHAQ &lt;dbl&gt; | NKdim__YWHAZ &lt;dbl&gt; | NKdim__ZC3HAV1 &lt;dbl&gt; | NKdim__ZEB2 &lt;dbl&gt; | NKdim__ZFAS1 &lt;dbl&gt; | NKdim__ZFP36 &lt;dbl&gt; | NKdim__ZFP36L1 &lt;dbl&gt; | NKdim__ZFP36L2 &lt;dbl&gt; |\n",
       "|---|---|---|---|---|---|---|---|---|---|---|---|---|---|---|---|---|---|---|---|---|---|\n",
       "| 1 | Baseline.TEST_1  | -0.1451209 | -0.2808230 |  0.2933812 | -1.3037827 |  0.35691713 | -0.29338123 | -0.5720211 |  1.6637928 | -1.3037827 | ⋯ |  1.6637928 |  0.70506589 |  0.4752408 |  0.9234567 |  0.6744898 | -0.02410453 | -1.0405662 | -0.94207577 | -0.80109453 | -0.7050659 |\n",
       "| 2 | Baseline.TEST_12 |  0.2310092 | -0.0602920 |  0.3697907 | -0.3697907 | -0.29338123 | -0.08445798 |  0.4752408 |  0.1451209 |  0.1573107 | ⋯ | -0.6744898 | -0.09655862 |  0.8178173 | -0.3827258 | -0.7363159 | -0.44842548 | -1.8980287 | -0.07236971 |  1.36238339 |  0.8178173 |\n",
       "| 3 | Baseline.TEST_14 | -0.2933812 |  0.1329527 |  1.6637928 | -0.6151411 |  0.96102726 |  1.53412054 |  1.3935235 |  1.0405662 | -1.0829150 | ⋯ |  1.7688250 |  0.34410246 |  0.7363159 | -0.1817624 | -1.5341205 | -0.61514110 | -0.1451209 | -1.06150263 | -1.76882504 |  0.5299395 |\n",
       "| 4 | Baseline.TEST_15 | -1.0615026 | -0.4087920 | -0.7206029 | -0.2683089 | -0.08445798 | -0.38272581 | -1.2493462 | -1.0405662 |  1.1740260 | ⋯ |  0.6744898 | -0.58627265 |  0.6445316 |  0.6297684 | -0.3313441 |  0.60064430 |  0.2683089 | -1.15034938 | -0.04822307 | -0.8694238 |\n",
       "| 5 | Baseline.TEST_17 | -1.1503494 | -1.4602158 | -0.5299395 | -0.9420758 |  0.78459288 |  0.52993955 |  1.5744450 | -0.4219289 |  1.0829150 | ⋯ |  0.7363159 | -1.19837970 | -0.1817624 | -1.1503494 |  0.1086734 | -0.39572530 | -1.3037827 |  0.20632319 | -1.66379279 |  1.4602158 |\n",
       "| 6 | Baseline.TEST_18 |  1.1273007 |  0.6297684 |  2.3410271 |  0.2063232 |  1.61750540 |  0.68969722 | -1.5341205 |  0.4617916 | -1.5744450 | ⋯ | -0.3827258 | -0.73631592 | -0.3186394 |  1.3037827 |  0.9234567 |  1.49614688 | -1.2493462 | -0.73631592 | -1.30378267 |  1.4602158 |\n",
       "\n"
      ],
      "text/plain": [
       "  sample_id        B.cell__ACTB B.cell__ARHGDIB B.cell__ARPC2 B.cell__ARPC3\n",
       "1 Baseline.TEST_1  -0.1451209   -0.2808230       0.2933812    -1.3037827   \n",
       "2 Baseline.TEST_12  0.2310092   -0.0602920       0.3697907    -0.3697907   \n",
       "3 Baseline.TEST_14 -0.2933812    0.1329527       1.6637928    -0.6151411   \n",
       "4 Baseline.TEST_15 -1.0615026   -0.4087920      -0.7206029    -0.2683089   \n",
       "5 Baseline.TEST_17 -1.1503494   -1.4602158      -0.5299395    -0.9420758   \n",
       "6 Baseline.TEST_18  1.1273007    0.6297684       2.3410271     0.2063232   \n",
       "  B.cell__B2M B.cell__BIRC3 B.cell__BTF3 B.cell__BTG1 B.cell__BTG2 ⋯\n",
       "1  0.35691713 -0.29338123   -0.5720211    1.6637928   -1.3037827   ⋯\n",
       "2 -0.29338123 -0.08445798    0.4752408    0.1451209    0.1573107   ⋯\n",
       "3  0.96102726  1.53412054    1.3935235    1.0405662   -1.0829150   ⋯\n",
       "4 -0.08445798 -0.38272581   -1.2493462   -1.0405662    1.1740260   ⋯\n",
       "5  0.78459288  0.52993955    1.5744450   -0.4219289    1.0829150   ⋯\n",
       "6  1.61750540  0.68969722   -1.5341205    0.4617916   -1.5744450   ⋯\n",
       "  NKdim__YPEL5 NKdim__YWHAB NKdim__YWHAQ NKdim__YWHAZ NKdim__ZC3HAV1\n",
       "1  1.6637928    0.70506589   0.4752408    0.9234567    0.6744898    \n",
       "2 -0.6744898   -0.09655862   0.8178173   -0.3827258   -0.7363159    \n",
       "3  1.7688250    0.34410246   0.7363159   -0.1817624   -1.5341205    \n",
       "4  0.6744898   -0.58627265   0.6445316    0.6297684   -0.3313441    \n",
       "5  0.7363159   -1.19837970  -0.1817624   -1.1503494    0.1086734    \n",
       "6 -0.3827258   -0.73631592  -0.3186394    1.3037827    0.9234567    \n",
       "  NKdim__ZEB2 NKdim__ZFAS1 NKdim__ZFP36 NKdim__ZFP36L1 NKdim__ZFP36L2\n",
       "1 -0.02410453 -1.0405662   -0.94207577  -0.80109453    -0.7050659    \n",
       "2 -0.44842548 -1.8980287   -0.07236971   1.36238339     0.8178173    \n",
       "3 -0.61514110 -0.1451209   -1.06150263  -1.76882504     0.5299395    \n",
       "4  0.60064430  0.2683089   -1.15034938  -0.04822307    -0.8694238    \n",
       "5 -0.39572530 -1.3037827    0.20632319  -1.66379279     1.4602158    \n",
       "6  1.49614688 -1.2493462   -0.73631592  -1.30378267     1.4602158    "
      ]
     },
     "metadata": {},
     "output_type": "display_data"
    },
    {
     "data": {
      "text/html": [
       "<style>\n",
       ".list-inline {list-style: none; margin:0; padding: 0}\n",
       ".list-inline>li {display: inline-block}\n",
       ".list-inline>li:not(:last-child)::after {content: \"\\00b7\"; padding: 0 .5ex}\n",
       "</style>\n",
       "<ol class=list-inline><li>103</li><li>3149</li></ol>\n"
      ],
      "text/latex": [
       "\\begin{enumerate*}\n",
       "\\item 103\n",
       "\\item 3149\n",
       "\\end{enumerate*}\n"
      ],
      "text/markdown": [
       "1. 103\n",
       "2. 3149\n",
       "\n",
       "\n"
      ],
      "text/plain": [
       "[1]  103 3149"
      ]
     },
     "metadata": {},
     "output_type": "display_data"
    }
   ],
   "source": [
    "head(input_gr)\n",
    "dim(input_gr)"
   ]
  },
  {
   "cell_type": "markdown",
   "id": "d217dad6-5687-4d43-bb37-593c9d62fded",
   "metadata": {},
   "source": [
    "## Prepare matrices"
   ]
  },
  {
   "cell_type": "code",
   "execution_count": 49,
   "id": "a8702239-2b63-45ac-8962-d5b853544d13",
   "metadata": {},
   "outputs": [
    {
     "data": {
      "text/html": [
       "<style>\n",
       ".list-inline {list-style: none; margin:0; padding: 0}\n",
       ".list-inline>li {display: inline-block}\n",
       ".list-inline>li:not(:last-child)::after {content: \"\\00b7\"; padding: 0 .5ex}\n",
       "</style>\n",
       "<ol class=list-inline><li>103</li><li>3148</li></ol>\n"
      ],
      "text/latex": [
       "\\begin{enumerate*}\n",
       "\\item 103\n",
       "\\item 3148\n",
       "\\end{enumerate*}\n"
      ],
      "text/markdown": [
       "1. 103\n",
       "2. 3148\n",
       "\n",
       "\n"
      ],
      "text/plain": [
       "[1]  103 3148"
      ]
     },
     "metadata": {},
     "output_type": "display_data"
    }
   ],
   "source": [
    "### Get matrices for matrix facorization approach\n",
    "\n",
    "## Groningen Matrix\n",
    "#head(input_gr)\n",
    "gr_ma = input_gr\n",
    "rownames(gr_ma) = input_gr$sample_id\n",
    "gr_ma$sample_id = NULL\n",
    "gr_ma = as.matrix(gr_ma)\n",
    "dim(gr_ma)\n",
    "\n",
    "## Munich Matrix\n",
    "#head(feature_data_mu)\n",
    "mu_ma = feature_data_mu %>% dcast(feature ~variable, value.var =  'value')\n",
    "rownames(mu_ma) = mu_ma$feature\n",
    "mu_ma$feature = NULL\n",
    "mu_ma = as.matrix(mu_ma)\n"
   ]
  },
  {
   "cell_type": "code",
   "execution_count": 50,
   "id": "ff3bbc8b-c6ae-4f28-8607-594741a1eec4",
   "metadata": {},
   "outputs": [
    {
     "data": {
      "text/html": [
       "<style>\n",
       ".list-inline {list-style: none; margin:0; padding: 0}\n",
       ".list-inline>li {display: inline-block}\n",
       ".list-inline>li:not(:last-child)::after {content: \"\\00b7\"; padding: 0 .5ex}\n",
       "</style>\n",
       "<ol class=list-inline><li>103</li><li>3148</li></ol>\n"
      ],
      "text/latex": [
       "\\begin{enumerate*}\n",
       "\\item 103\n",
       "\\item 3148\n",
       "\\end{enumerate*}\n"
      ],
      "text/markdown": [
       "1. 103\n",
       "2. 3148\n",
       "\n",
       "\n"
      ],
      "text/plain": [
       "[1]  103 3148"
      ]
     },
     "metadata": {},
     "output_type": "display_data"
    },
    {
     "data": {
      "text/html": [
       "<style>\n",
       ".list-inline {list-style: none; margin:0; padding: 0}\n",
       ".list-inline>li {display: inline-block}\n",
       ".list-inline>li:not(:last-child)::after {content: \"\\00b7\"; padding: 0 .5ex}\n",
       "</style>\n",
       "<ol class=list-inline><li>3148</li><li>20</li></ol>\n"
      ],
      "text/latex": [
       "\\begin{enumerate*}\n",
       "\\item 3148\n",
       "\\item 20\n",
       "\\end{enumerate*}\n"
      ],
      "text/markdown": [
       "1. 3148\n",
       "2. 20\n",
       "\n",
       "\n"
      ],
      "text/plain": [
       "[1] 3148   20"
      ]
     },
     "metadata": {},
     "output_type": "display_data"
    }
   ],
   "source": [
    "dim(gr_ma)\n",
    "dim(mu_ma)"
   ]
  },
  {
   "cell_type": "code",
   "execution_count": 51,
   "id": "704706c0-e484-41c6-99dc-5125e0130c35",
   "metadata": {},
   "outputs": [],
   "source": [
    "### Reorder to have same ordering of features"
   ]
  },
  {
   "cell_type": "code",
   "execution_count": 52,
   "id": "02cdfc6e-ee58-4add-9212-eb6ef66731cd",
   "metadata": {},
   "outputs": [],
   "source": [
    "gr_ma = gr_ma[, order(colnames(gr_ma))]\n",
    "mu_ma = mu_ma[order(rownames(mu_ma)),]"
   ]
  },
  {
   "cell_type": "markdown",
   "id": "07330aac-0598-4c8c-b92d-1db68a28f8ed",
   "metadata": {},
   "source": [
    "## Calculate right inverse of MU feature matrix and apply"
   ]
  },
  {
   "cell_type": "code",
   "execution_count": 53,
   "id": "94497574-ce99-4a04-8b2b-4a81d60fb860",
   "metadata": {},
   "outputs": [
    {
     "data": {
      "text/html": [
       "<style>\n",
       ".list-inline {list-style: none; margin:0; padding: 0}\n",
       ".list-inline>li {display: inline-block}\n",
       ".list-inline>li:not(:last-child)::after {content: \"\\00b7\"; padding: 0 .5ex}\n",
       "</style>\n",
       "<ol class=list-inline><li>3148</li><li>20</li></ol>\n"
      ],
      "text/latex": [
       "\\begin{enumerate*}\n",
       "\\item 3148\n",
       "\\item 20\n",
       "\\end{enumerate*}\n"
      ],
      "text/markdown": [
       "1. 3148\n",
       "2. 20\n",
       "\n",
       "\n"
      ],
      "text/plain": [
       "[1] 3148   20"
      ]
     },
     "metadata": {},
     "output_type": "display_data"
    },
    {
     "data": {
      "text/html": [
       "<style>\n",
       ".list-inline {list-style: none; margin:0; padding: 0}\n",
       ".list-inline>li {display: inline-block}\n",
       ".list-inline>li:not(:last-child)::after {content: \"\\00b7\"; padding: 0 .5ex}\n",
       "</style>\n",
       "<ol class=list-inline><li>20</li><li>3148</li></ol>\n"
      ],
      "text/latex": [
       "\\begin{enumerate*}\n",
       "\\item 20\n",
       "\\item 3148\n",
       "\\end{enumerate*}\n"
      ],
      "text/markdown": [
       "1. 20\n",
       "2. 3148\n",
       "\n",
       "\n"
      ],
      "text/plain": [
       "[1]   20 3148"
      ]
     },
     "metadata": {},
     "output_type": "display_data"
    },
    {
     "data": {
      "text/html": [
       "<table class=\"dataframe\">\n",
       "<caption>A matrix: 6 × 20 of type dbl</caption>\n",
       "<thead>\n",
       "\t<tr><th></th><th scope=col>Factor1</th><th scope=col>Factor2</th><th scope=col>Factor3</th><th scope=col>Factor4</th><th scope=col>Factor5</th><th scope=col>Factor6</th><th scope=col>Factor7</th><th scope=col>Factor8</th><th scope=col>Factor9</th><th scope=col>Factor10</th><th scope=col>Factor11</th><th scope=col>Factor12</th><th scope=col>Factor13</th><th scope=col>Factor14</th><th scope=col>Factor15</th><th scope=col>Factor16</th><th scope=col>Factor17</th><th scope=col>Factor18</th><th scope=col>Factor19</th><th scope=col>Factor20</th></tr>\n",
       "</thead>\n",
       "<tbody>\n",
       "\t<tr><th scope=row>B.cell__ACTB</th><td>-0.002412865</td><td> 1.100829e-03</td><td>0.0018519132</td><td>-9.387865e-05</td><td> 0.0197072832</td><td>-1.171368e-03</td><td> 0.004082177</td><td> 3.549377e-04</td><td> 0.0012770596</td><td>-0.0004148242</td><td> 0.017505496</td><td> 8.850074e-04</td><td>-5.435629e-04</td><td> 9.115598e-04</td><td>-1.148509e-05</td><td> 2.181989e-04</td><td>-1.067792e-03</td><td>-0.0003216798</td><td>-0.0005795758</td><td> 0.0007411074</td></tr>\n",
       "\t<tr><th scope=row>B.cell__ARHGDIB</th><td> 0.002896903</td><td>-3.862585e-04</td><td>0.0011406868</td><td> 1.345452e-03</td><td> 0.0149805072</td><td> 1.937177e-04</td><td> 0.001627769</td><td>-2.946817e-04</td><td> 0.0001059237</td><td> 0.0006040866</td><td>-0.014150740</td><td> 2.117682e-04</td><td>-2.951694e-04</td><td>-5.412122e-04</td><td>-1.305719e-04</td><td>-5.945591e-05</td><td>-2.291039e-03</td><td> 0.0001882649</td><td>-0.0002861554</td><td> 0.0002756893</td></tr>\n",
       "\t<tr><th scope=row>B.cell__ARPC2</th><td>-0.001114492</td><td>-6.099780e-05</td><td>0.0003215208</td><td> 4.180816e-04</td><td> 0.0209911475</td><td>-3.725421e-04</td><td> 0.003521452</td><td> 2.003061e-04</td><td> 0.0013498674</td><td>-0.0020104846</td><td> 0.018957908</td><td>-6.100954e-04</td><td>-6.614388e-05</td><td> 2.495120e-04</td><td>-2.905480e-04</td><td> 1.102433e-03</td><td>-2.069296e-03</td><td>-0.0005396076</td><td> 0.0004881568</td><td>-0.0004772543</td></tr>\n",
       "\t<tr><th scope=row>B.cell__ARPC3</th><td> 0.001612616</td><td>-1.623649e-05</td><td>0.0008018460</td><td> 3.144724e-04</td><td> 0.0432317206</td><td>-2.770284e-03</td><td> 0.002947859</td><td>-2.522687e-04</td><td>-0.0009838727</td><td>-0.0028467784</td><td>-0.022270218</td><td> 2.108312e-05</td><td> 7.876929e-04</td><td> 2.812663e-03</td><td>-3.912311e-04</td><td> 2.077665e-03</td><td> 7.316946e-05</td><td> 0.0002948308</td><td> 0.0005419943</td><td>-0.0002239274</td></tr>\n",
       "\t<tr><th scope=row>B.cell__B2M</th><td>-0.001969751</td><td> 9.628387e-04</td><td>0.0012608342</td><td> 5.635957e-05</td><td>-0.0039711670</td><td>-4.673417e-04</td><td> 0.003398598</td><td> 5.528947e-05</td><td> 0.0030406779</td><td>-0.0009352855</td><td> 0.006424656</td><td> 1.930557e-03</td><td>-1.285816e-04</td><td> 6.238179e-05</td><td> 1.034847e-04</td><td> 9.638252e-05</td><td>-2.213990e-03</td><td>-0.0004096560</td><td> 0.0010927847</td><td> 0.0014692351</td></tr>\n",
       "\t<tr><th scope=row>B.cell__BIRC3</th><td> 0.001618585</td><td>-5.811380e-05</td><td>0.0007165601</td><td>-1.982736e-03</td><td> 0.0008224573</td><td>-9.228915e-05</td><td>-0.002526311</td><td>-1.446628e-04</td><td>-0.0032944132</td><td> 0.0005858396</td><td>-0.042494057</td><td> 1.831863e-03</td><td> 3.520557e-04</td><td>-9.515494e-04</td><td> 1.258441e-03</td><td>-4.166334e-04</td><td>-4.329759e-03</td><td> 0.0009212626</td><td> 0.0013008816</td><td> 0.0012679802</td></tr>\n",
       "</tbody>\n",
       "</table>\n"
      ],
      "text/latex": [
       "A matrix: 6 × 20 of type dbl\n",
       "\\begin{tabular}{r|llllllllllllllllllll}\n",
       "  & Factor1 & Factor2 & Factor3 & Factor4 & Factor5 & Factor6 & Factor7 & Factor8 & Factor9 & Factor10 & Factor11 & Factor12 & Factor13 & Factor14 & Factor15 & Factor16 & Factor17 & Factor18 & Factor19 & Factor20\\\\\n",
       "\\hline\n",
       "\tB.cell\\_\\_ACTB & -0.002412865 &  1.100829e-03 & 0.0018519132 & -9.387865e-05 &  0.0197072832 & -1.171368e-03 &  0.004082177 &  3.549377e-04 &  0.0012770596 & -0.0004148242 &  0.017505496 &  8.850074e-04 & -5.435629e-04 &  9.115598e-04 & -1.148509e-05 &  2.181989e-04 & -1.067792e-03 & -0.0003216798 & -0.0005795758 &  0.0007411074\\\\\n",
       "\tB.cell\\_\\_ARHGDIB &  0.002896903 & -3.862585e-04 & 0.0011406868 &  1.345452e-03 &  0.0149805072 &  1.937177e-04 &  0.001627769 & -2.946817e-04 &  0.0001059237 &  0.0006040866 & -0.014150740 &  2.117682e-04 & -2.951694e-04 & -5.412122e-04 & -1.305719e-04 & -5.945591e-05 & -2.291039e-03 &  0.0001882649 & -0.0002861554 &  0.0002756893\\\\\n",
       "\tB.cell\\_\\_ARPC2 & -0.001114492 & -6.099780e-05 & 0.0003215208 &  4.180816e-04 &  0.0209911475 & -3.725421e-04 &  0.003521452 &  2.003061e-04 &  0.0013498674 & -0.0020104846 &  0.018957908 & -6.100954e-04 & -6.614388e-05 &  2.495120e-04 & -2.905480e-04 &  1.102433e-03 & -2.069296e-03 & -0.0005396076 &  0.0004881568 & -0.0004772543\\\\\n",
       "\tB.cell\\_\\_ARPC3 &  0.001612616 & -1.623649e-05 & 0.0008018460 &  3.144724e-04 &  0.0432317206 & -2.770284e-03 &  0.002947859 & -2.522687e-04 & -0.0009838727 & -0.0028467784 & -0.022270218 &  2.108312e-05 &  7.876929e-04 &  2.812663e-03 & -3.912311e-04 &  2.077665e-03 &  7.316946e-05 &  0.0002948308 &  0.0005419943 & -0.0002239274\\\\\n",
       "\tB.cell\\_\\_B2M & -0.001969751 &  9.628387e-04 & 0.0012608342 &  5.635957e-05 & -0.0039711670 & -4.673417e-04 &  0.003398598 &  5.528947e-05 &  0.0030406779 & -0.0009352855 &  0.006424656 &  1.930557e-03 & -1.285816e-04 &  6.238179e-05 &  1.034847e-04 &  9.638252e-05 & -2.213990e-03 & -0.0004096560 &  0.0010927847 &  0.0014692351\\\\\n",
       "\tB.cell\\_\\_BIRC3 &  0.001618585 & -5.811380e-05 & 0.0007165601 & -1.982736e-03 &  0.0008224573 & -9.228915e-05 & -0.002526311 & -1.446628e-04 & -0.0032944132 &  0.0005858396 & -0.042494057 &  1.831863e-03 &  3.520557e-04 & -9.515494e-04 &  1.258441e-03 & -4.166334e-04 & -4.329759e-03 &  0.0009212626 &  0.0013008816 &  0.0012679802\\\\\n",
       "\\end{tabular}\n"
      ],
      "text/markdown": [
       "\n",
       "A matrix: 6 × 20 of type dbl\n",
       "\n",
       "| <!--/--> | Factor1 | Factor2 | Factor3 | Factor4 | Factor5 | Factor6 | Factor7 | Factor8 | Factor9 | Factor10 | Factor11 | Factor12 | Factor13 | Factor14 | Factor15 | Factor16 | Factor17 | Factor18 | Factor19 | Factor20 |\n",
       "|---|---|---|---|---|---|---|---|---|---|---|---|---|---|---|---|---|---|---|---|---|\n",
       "| B.cell__ACTB | -0.002412865 |  1.100829e-03 | 0.0018519132 | -9.387865e-05 |  0.0197072832 | -1.171368e-03 |  0.004082177 |  3.549377e-04 |  0.0012770596 | -0.0004148242 |  0.017505496 |  8.850074e-04 | -5.435629e-04 |  9.115598e-04 | -1.148509e-05 |  2.181989e-04 | -1.067792e-03 | -0.0003216798 | -0.0005795758 |  0.0007411074 |\n",
       "| B.cell__ARHGDIB |  0.002896903 | -3.862585e-04 | 0.0011406868 |  1.345452e-03 |  0.0149805072 |  1.937177e-04 |  0.001627769 | -2.946817e-04 |  0.0001059237 |  0.0006040866 | -0.014150740 |  2.117682e-04 | -2.951694e-04 | -5.412122e-04 | -1.305719e-04 | -5.945591e-05 | -2.291039e-03 |  0.0001882649 | -0.0002861554 |  0.0002756893 |\n",
       "| B.cell__ARPC2 | -0.001114492 | -6.099780e-05 | 0.0003215208 |  4.180816e-04 |  0.0209911475 | -3.725421e-04 |  0.003521452 |  2.003061e-04 |  0.0013498674 | -0.0020104846 |  0.018957908 | -6.100954e-04 | -6.614388e-05 |  2.495120e-04 | -2.905480e-04 |  1.102433e-03 | -2.069296e-03 | -0.0005396076 |  0.0004881568 | -0.0004772543 |\n",
       "| B.cell__ARPC3 |  0.001612616 | -1.623649e-05 | 0.0008018460 |  3.144724e-04 |  0.0432317206 | -2.770284e-03 |  0.002947859 | -2.522687e-04 | -0.0009838727 | -0.0028467784 | -0.022270218 |  2.108312e-05 |  7.876929e-04 |  2.812663e-03 | -3.912311e-04 |  2.077665e-03 |  7.316946e-05 |  0.0002948308 |  0.0005419943 | -0.0002239274 |\n",
       "| B.cell__B2M | -0.001969751 |  9.628387e-04 | 0.0012608342 |  5.635957e-05 | -0.0039711670 | -4.673417e-04 |  0.003398598 |  5.528947e-05 |  0.0030406779 | -0.0009352855 |  0.006424656 |  1.930557e-03 | -1.285816e-04 |  6.238179e-05 |  1.034847e-04 |  9.638252e-05 | -2.213990e-03 | -0.0004096560 |  0.0010927847 |  0.0014692351 |\n",
       "| B.cell__BIRC3 |  0.001618585 | -5.811380e-05 | 0.0007165601 | -1.982736e-03 |  0.0008224573 | -9.228915e-05 | -0.002526311 | -1.446628e-04 | -0.0032944132 |  0.0005858396 | -0.042494057 |  1.831863e-03 |  3.520557e-04 | -9.515494e-04 |  1.258441e-03 | -4.166334e-04 | -4.329759e-03 |  0.0009212626 |  0.0013008816 |  0.0012679802 |\n",
       "\n"
      ],
      "text/plain": [
       "                Factor1      Factor2       Factor3      Factor4      \n",
       "B.cell__ACTB    -0.002412865  1.100829e-03 0.0018519132 -9.387865e-05\n",
       "B.cell__ARHGDIB  0.002896903 -3.862585e-04 0.0011406868  1.345452e-03\n",
       "B.cell__ARPC2   -0.001114492 -6.099780e-05 0.0003215208  4.180816e-04\n",
       "B.cell__ARPC3    0.001612616 -1.623649e-05 0.0008018460  3.144724e-04\n",
       "B.cell__B2M     -0.001969751  9.628387e-04 0.0012608342  5.635957e-05\n",
       "B.cell__BIRC3    0.001618585 -5.811380e-05 0.0007165601 -1.982736e-03\n",
       "                Factor5       Factor6       Factor7      Factor8      \n",
       "B.cell__ACTB     0.0197072832 -1.171368e-03  0.004082177  3.549377e-04\n",
       "B.cell__ARHGDIB  0.0149805072  1.937177e-04  0.001627769 -2.946817e-04\n",
       "B.cell__ARPC2    0.0209911475 -3.725421e-04  0.003521452  2.003061e-04\n",
       "B.cell__ARPC3    0.0432317206 -2.770284e-03  0.002947859 -2.522687e-04\n",
       "B.cell__B2M     -0.0039711670 -4.673417e-04  0.003398598  5.528947e-05\n",
       "B.cell__BIRC3    0.0008224573 -9.228915e-05 -0.002526311 -1.446628e-04\n",
       "                Factor9       Factor10      Factor11     Factor12     \n",
       "B.cell__ACTB     0.0012770596 -0.0004148242  0.017505496  8.850074e-04\n",
       "B.cell__ARHGDIB  0.0001059237  0.0006040866 -0.014150740  2.117682e-04\n",
       "B.cell__ARPC2    0.0013498674 -0.0020104846  0.018957908 -6.100954e-04\n",
       "B.cell__ARPC3   -0.0009838727 -0.0028467784 -0.022270218  2.108312e-05\n",
       "B.cell__B2M      0.0030406779 -0.0009352855  0.006424656  1.930557e-03\n",
       "B.cell__BIRC3   -0.0032944132  0.0005858396 -0.042494057  1.831863e-03\n",
       "                Factor13      Factor14      Factor15      Factor16     \n",
       "B.cell__ACTB    -5.435629e-04  9.115598e-04 -1.148509e-05  2.181989e-04\n",
       "B.cell__ARHGDIB -2.951694e-04 -5.412122e-04 -1.305719e-04 -5.945591e-05\n",
       "B.cell__ARPC2   -6.614388e-05  2.495120e-04 -2.905480e-04  1.102433e-03\n",
       "B.cell__ARPC3    7.876929e-04  2.812663e-03 -3.912311e-04  2.077665e-03\n",
       "B.cell__B2M     -1.285816e-04  6.238179e-05  1.034847e-04  9.638252e-05\n",
       "B.cell__BIRC3    3.520557e-04 -9.515494e-04  1.258441e-03 -4.166334e-04\n",
       "                Factor17      Factor18      Factor19      Factor20     \n",
       "B.cell__ACTB    -1.067792e-03 -0.0003216798 -0.0005795758  0.0007411074\n",
       "B.cell__ARHGDIB -2.291039e-03  0.0001882649 -0.0002861554  0.0002756893\n",
       "B.cell__ARPC2   -2.069296e-03 -0.0005396076  0.0004881568 -0.0004772543\n",
       "B.cell__ARPC3    7.316946e-05  0.0002948308  0.0005419943 -0.0002239274\n",
       "B.cell__B2M     -2.213990e-03 -0.0004096560  0.0010927847  0.0014692351\n",
       "B.cell__BIRC3   -4.329759e-03  0.0009212626  0.0013008816  0.0012679802"
      ]
     },
     "metadata": {},
     "output_type": "display_data"
    },
    {
     "data": {
      "text/html": [
       "<table class=\"dataframe\">\n",
       "<caption>A matrix: 6 × 20 of type dbl</caption>\n",
       "<thead>\n",
       "\t<tr><th></th><th scope=col>Factor1</th><th scope=col>Factor2</th><th scope=col>Factor3</th><th scope=col>Factor4</th><th scope=col>Factor5</th><th scope=col>Factor6</th><th scope=col>Factor7</th><th scope=col>Factor8</th><th scope=col>Factor9</th><th scope=col>Factor10</th><th scope=col>Factor11</th><th scope=col>Factor12</th><th scope=col>Factor13</th><th scope=col>Factor14</th><th scope=col>Factor15</th><th scope=col>Factor16</th><th scope=col>Factor17</th><th scope=col>Factor18</th><th scope=col>Factor19</th><th scope=col>Factor20</th></tr>\n",
       "</thead>\n",
       "<tbody>\n",
       "\t<tr><th scope=row>NKdim__ZC3HAV1</th><td>-4.191599e-03</td><td> 4.440209e-04</td><td> 0.0002153844</td><td> 0.0004540283</td><td> 0.0002949058</td><td>-0.0007085776</td><td>0.0004619467</td><td> 0.0009136763</td><td> 0.0017003505</td><td> 0.0002068845</td><td> 0.029082471</td><td>-0.0013899221</td><td> 0.0005879015</td><td>-0.0017232555</td><td> 0.0002550067</td><td> 0.0020538919</td><td>-0.0001903588</td><td>-0.001723843</td><td>-0.0001421164</td><td>-1.611028e-04</td></tr>\n",
       "\t<tr><th scope=row>NKdim__ZEB2</th><td>-4.169701e-06</td><td> 2.449899e-03</td><td> 0.0024518547</td><td>-0.0006276671</td><td>-0.0006177782</td><td> 0.0003662261</td><td>0.0002654389</td><td>-0.0001024299</td><td>-0.0011893979</td><td> 0.0029621473</td><td> 0.008816921</td><td> 0.0004274647</td><td> 0.0017044722</td><td>-0.0002884657</td><td>-0.0002698381</td><td>-0.0009618766</td><td>-0.0013183011</td><td> 0.001507303</td><td> 0.0001103782</td><td> 2.288160e-04</td></tr>\n",
       "\t<tr><th scope=row>NKdim__ZFAS1</th><td>-1.824321e-03</td><td>-2.196386e-05</td><td>-0.0001309291</td><td> 0.0002609197</td><td> 0.0031960898</td><td>-0.0009808865</td><td>0.0003104403</td><td>-0.0003755947</td><td>-0.0001760204</td><td>-0.0030818508</td><td>-0.113659437</td><td>-0.0030505201</td><td>-0.0005130803</td><td>-0.0014203910</td><td> 0.0004811148</td><td> 0.0003157216</td><td>-0.0009303368</td><td> 0.001418756</td><td> 0.0007723607</td><td> 2.154406e-04</td></tr>\n",
       "\t<tr><th scope=row>NKdim__ZFP36</th><td>-1.884174e-03</td><td>-1.013808e-04</td><td>-0.0009070395</td><td> 0.0004174070</td><td> 0.0002005844</td><td> 0.0019932858</td><td>0.0003703909</td><td> 0.0008108770</td><td>-0.0016578828</td><td>-0.0039247834</td><td> 0.008802220</td><td> 0.0007937521</td><td> 0.0021959706</td><td>-0.0009571731</td><td>-0.0004312455</td><td> 0.0007124782</td><td> 0.0005021595</td><td>-0.004344592</td><td> 0.0007678170</td><td>-2.155689e-04</td></tr>\n",
       "\t<tr><th scope=row>NKdim__ZFP36L1</th><td>-2.860396e-03</td><td> 1.044763e-04</td><td> 0.0009260348</td><td>-0.0028899986</td><td> 0.0022447461</td><td> 0.0009851776</td><td>0.0015616902</td><td> 0.0010531281</td><td>-0.0021344237</td><td>-0.0053043853</td><td>-0.004016054</td><td> 0.0004029870</td><td> 0.0009022350</td><td>-0.0020380839</td><td> 0.0004893038</td><td> 0.0004537000</td><td> 0.0002285394</td><td>-0.000127352</td><td>-0.0014641171</td><td> 1.223379e-05</td></tr>\n",
       "\t<tr><th scope=row>NKdim__ZFP36L2</th><td>-1.056855e-03</td><td>-6.163430e-04</td><td> 0.0018555297</td><td> 0.0006076941</td><td> 0.0017680046</td><td> 0.0007874596</td><td>0.0007943166</td><td> 0.0003794940</td><td> 0.0004912557</td><td>-0.0051923213</td><td> 0.080864937</td><td>-0.0008642006</td><td> 0.0014579452</td><td>-0.0028402238</td><td> 0.0004304173</td><td> 0.0003052706</td><td>-0.0003380432</td><td>-0.002692252</td><td>-0.0017124035</td><td>-6.965453e-05</td></tr>\n",
       "</tbody>\n",
       "</table>\n"
      ],
      "text/latex": [
       "A matrix: 6 × 20 of type dbl\n",
       "\\begin{tabular}{r|llllllllllllllllllll}\n",
       "  & Factor1 & Factor2 & Factor3 & Factor4 & Factor5 & Factor6 & Factor7 & Factor8 & Factor9 & Factor10 & Factor11 & Factor12 & Factor13 & Factor14 & Factor15 & Factor16 & Factor17 & Factor18 & Factor19 & Factor20\\\\\n",
       "\\hline\n",
       "\tNKdim\\_\\_ZC3HAV1 & -4.191599e-03 &  4.440209e-04 &  0.0002153844 &  0.0004540283 &  0.0002949058 & -0.0007085776 & 0.0004619467 &  0.0009136763 &  0.0017003505 &  0.0002068845 &  0.029082471 & -0.0013899221 &  0.0005879015 & -0.0017232555 &  0.0002550067 &  0.0020538919 & -0.0001903588 & -0.001723843 & -0.0001421164 & -1.611028e-04\\\\\n",
       "\tNKdim\\_\\_ZEB2 & -4.169701e-06 &  2.449899e-03 &  0.0024518547 & -0.0006276671 & -0.0006177782 &  0.0003662261 & 0.0002654389 & -0.0001024299 & -0.0011893979 &  0.0029621473 &  0.008816921 &  0.0004274647 &  0.0017044722 & -0.0002884657 & -0.0002698381 & -0.0009618766 & -0.0013183011 &  0.001507303 &  0.0001103782 &  2.288160e-04\\\\\n",
       "\tNKdim\\_\\_ZFAS1 & -1.824321e-03 & -2.196386e-05 & -0.0001309291 &  0.0002609197 &  0.0031960898 & -0.0009808865 & 0.0003104403 & -0.0003755947 & -0.0001760204 & -0.0030818508 & -0.113659437 & -0.0030505201 & -0.0005130803 & -0.0014203910 &  0.0004811148 &  0.0003157216 & -0.0009303368 &  0.001418756 &  0.0007723607 &  2.154406e-04\\\\\n",
       "\tNKdim\\_\\_ZFP36 & -1.884174e-03 & -1.013808e-04 & -0.0009070395 &  0.0004174070 &  0.0002005844 &  0.0019932858 & 0.0003703909 &  0.0008108770 & -0.0016578828 & -0.0039247834 &  0.008802220 &  0.0007937521 &  0.0021959706 & -0.0009571731 & -0.0004312455 &  0.0007124782 &  0.0005021595 & -0.004344592 &  0.0007678170 & -2.155689e-04\\\\\n",
       "\tNKdim\\_\\_ZFP36L1 & -2.860396e-03 &  1.044763e-04 &  0.0009260348 & -0.0028899986 &  0.0022447461 &  0.0009851776 & 0.0015616902 &  0.0010531281 & -0.0021344237 & -0.0053043853 & -0.004016054 &  0.0004029870 &  0.0009022350 & -0.0020380839 &  0.0004893038 &  0.0004537000 &  0.0002285394 & -0.000127352 & -0.0014641171 &  1.223379e-05\\\\\n",
       "\tNKdim\\_\\_ZFP36L2 & -1.056855e-03 & -6.163430e-04 &  0.0018555297 &  0.0006076941 &  0.0017680046 &  0.0007874596 & 0.0007943166 &  0.0003794940 &  0.0004912557 & -0.0051923213 &  0.080864937 & -0.0008642006 &  0.0014579452 & -0.0028402238 &  0.0004304173 &  0.0003052706 & -0.0003380432 & -0.002692252 & -0.0017124035 & -6.965453e-05\\\\\n",
       "\\end{tabular}\n"
      ],
      "text/markdown": [
       "\n",
       "A matrix: 6 × 20 of type dbl\n",
       "\n",
       "| <!--/--> | Factor1 | Factor2 | Factor3 | Factor4 | Factor5 | Factor6 | Factor7 | Factor8 | Factor9 | Factor10 | Factor11 | Factor12 | Factor13 | Factor14 | Factor15 | Factor16 | Factor17 | Factor18 | Factor19 | Factor20 |\n",
       "|---|---|---|---|---|---|---|---|---|---|---|---|---|---|---|---|---|---|---|---|---|\n",
       "| NKdim__ZC3HAV1 | -4.191599e-03 |  4.440209e-04 |  0.0002153844 |  0.0004540283 |  0.0002949058 | -0.0007085776 | 0.0004619467 |  0.0009136763 |  0.0017003505 |  0.0002068845 |  0.029082471 | -0.0013899221 |  0.0005879015 | -0.0017232555 |  0.0002550067 |  0.0020538919 | -0.0001903588 | -0.001723843 | -0.0001421164 | -1.611028e-04 |\n",
       "| NKdim__ZEB2 | -4.169701e-06 |  2.449899e-03 |  0.0024518547 | -0.0006276671 | -0.0006177782 |  0.0003662261 | 0.0002654389 | -0.0001024299 | -0.0011893979 |  0.0029621473 |  0.008816921 |  0.0004274647 |  0.0017044722 | -0.0002884657 | -0.0002698381 | -0.0009618766 | -0.0013183011 |  0.001507303 |  0.0001103782 |  2.288160e-04 |\n",
       "| NKdim__ZFAS1 | -1.824321e-03 | -2.196386e-05 | -0.0001309291 |  0.0002609197 |  0.0031960898 | -0.0009808865 | 0.0003104403 | -0.0003755947 | -0.0001760204 | -0.0030818508 | -0.113659437 | -0.0030505201 | -0.0005130803 | -0.0014203910 |  0.0004811148 |  0.0003157216 | -0.0009303368 |  0.001418756 |  0.0007723607 |  2.154406e-04 |\n",
       "| NKdim__ZFP36 | -1.884174e-03 | -1.013808e-04 | -0.0009070395 |  0.0004174070 |  0.0002005844 |  0.0019932858 | 0.0003703909 |  0.0008108770 | -0.0016578828 | -0.0039247834 |  0.008802220 |  0.0007937521 |  0.0021959706 | -0.0009571731 | -0.0004312455 |  0.0007124782 |  0.0005021595 | -0.004344592 |  0.0007678170 | -2.155689e-04 |\n",
       "| NKdim__ZFP36L1 | -2.860396e-03 |  1.044763e-04 |  0.0009260348 | -0.0028899986 |  0.0022447461 |  0.0009851776 | 0.0015616902 |  0.0010531281 | -0.0021344237 | -0.0053043853 | -0.004016054 |  0.0004029870 |  0.0009022350 | -0.0020380839 |  0.0004893038 |  0.0004537000 |  0.0002285394 | -0.000127352 | -0.0014641171 |  1.223379e-05 |\n",
       "| NKdim__ZFP36L2 | -1.056855e-03 | -6.163430e-04 |  0.0018555297 |  0.0006076941 |  0.0017680046 |  0.0007874596 | 0.0007943166 |  0.0003794940 |  0.0004912557 | -0.0051923213 |  0.080864937 | -0.0008642006 |  0.0014579452 | -0.0028402238 |  0.0004304173 |  0.0003052706 | -0.0003380432 | -0.002692252 | -0.0017124035 | -6.965453e-05 |\n",
       "\n"
      ],
      "text/plain": [
       "               Factor1       Factor2       Factor3       Factor4      \n",
       "NKdim__ZC3HAV1 -4.191599e-03  4.440209e-04  0.0002153844  0.0004540283\n",
       "NKdim__ZEB2    -4.169701e-06  2.449899e-03  0.0024518547 -0.0006276671\n",
       "NKdim__ZFAS1   -1.824321e-03 -2.196386e-05 -0.0001309291  0.0002609197\n",
       "NKdim__ZFP36   -1.884174e-03 -1.013808e-04 -0.0009070395  0.0004174070\n",
       "NKdim__ZFP36L1 -2.860396e-03  1.044763e-04  0.0009260348 -0.0028899986\n",
       "NKdim__ZFP36L2 -1.056855e-03 -6.163430e-04  0.0018555297  0.0006076941\n",
       "               Factor5       Factor6       Factor7      Factor8      \n",
       "NKdim__ZC3HAV1  0.0002949058 -0.0007085776 0.0004619467  0.0009136763\n",
       "NKdim__ZEB2    -0.0006177782  0.0003662261 0.0002654389 -0.0001024299\n",
       "NKdim__ZFAS1    0.0031960898 -0.0009808865 0.0003104403 -0.0003755947\n",
       "NKdim__ZFP36    0.0002005844  0.0019932858 0.0003703909  0.0008108770\n",
       "NKdim__ZFP36L1  0.0022447461  0.0009851776 0.0015616902  0.0010531281\n",
       "NKdim__ZFP36L2  0.0017680046  0.0007874596 0.0007943166  0.0003794940\n",
       "               Factor9       Factor10      Factor11     Factor12     \n",
       "NKdim__ZC3HAV1  0.0017003505  0.0002068845  0.029082471 -0.0013899221\n",
       "NKdim__ZEB2    -0.0011893979  0.0029621473  0.008816921  0.0004274647\n",
       "NKdim__ZFAS1   -0.0001760204 -0.0030818508 -0.113659437 -0.0030505201\n",
       "NKdim__ZFP36   -0.0016578828 -0.0039247834  0.008802220  0.0007937521\n",
       "NKdim__ZFP36L1 -0.0021344237 -0.0053043853 -0.004016054  0.0004029870\n",
       "NKdim__ZFP36L2  0.0004912557 -0.0051923213  0.080864937 -0.0008642006\n",
       "               Factor13      Factor14      Factor15      Factor16     \n",
       "NKdim__ZC3HAV1  0.0005879015 -0.0017232555  0.0002550067  0.0020538919\n",
       "NKdim__ZEB2     0.0017044722 -0.0002884657 -0.0002698381 -0.0009618766\n",
       "NKdim__ZFAS1   -0.0005130803 -0.0014203910  0.0004811148  0.0003157216\n",
       "NKdim__ZFP36    0.0021959706 -0.0009571731 -0.0004312455  0.0007124782\n",
       "NKdim__ZFP36L1  0.0009022350 -0.0020380839  0.0004893038  0.0004537000\n",
       "NKdim__ZFP36L2  0.0014579452 -0.0028402238  0.0004304173  0.0003052706\n",
       "               Factor17      Factor18     Factor19      Factor20     \n",
       "NKdim__ZC3HAV1 -0.0001903588 -0.001723843 -0.0001421164 -1.611028e-04\n",
       "NKdim__ZEB2    -0.0013183011  0.001507303  0.0001103782  2.288160e-04\n",
       "NKdim__ZFAS1   -0.0009303368  0.001418756  0.0007723607  2.154406e-04\n",
       "NKdim__ZFP36    0.0005021595 -0.004344592  0.0007678170 -2.155689e-04\n",
       "NKdim__ZFP36L1  0.0002285394 -0.000127352 -0.0014641171  1.223379e-05\n",
       "NKdim__ZFP36L2 -0.0003380432 -0.002692252 -0.0017124035 -6.965453e-05"
      ]
     },
     "metadata": {},
     "output_type": "display_data"
    },
    {
     "data": {
      "text/html": [
       "<style>\n",
       ".list-inline {list-style: none; margin:0; padding: 0}\n",
       ".list-inline>li {display: inline-block}\n",
       ".list-inline>li:not(:last-child)::after {content: \"\\00b7\"; padding: 0 .5ex}\n",
       "</style>\n",
       "<ol class=list-inline><li>3148</li><li>20</li></ol>\n"
      ],
      "text/latex": [
       "\\begin{enumerate*}\n",
       "\\item 3148\n",
       "\\item 20\n",
       "\\end{enumerate*}\n"
      ],
      "text/markdown": [
       "1. 3148\n",
       "2. 20\n",
       "\n",
       "\n"
      ],
      "text/plain": [
       "[1] 3148   20"
      ]
     },
     "metadata": {},
     "output_type": "display_data"
    }
   ],
   "source": [
    "### Calculate right inverse of weight matrix (mu_ma)\n",
    "\n",
    "dim(mu_ma)  ## corresponds to A^T\n",
    "mu_ma_t = t(mu_ma)  \n",
    "dim(mu_ma_t) ## corresponds to # A\n",
    "\n",
    "mu_mat_right_inv = mu_ma %*% (solve(mu_ma_t %*% mu_ma))\n",
    "head(mu_mat_right_inv)\n",
    "tail(mu_mat_right_inv)\n",
    "dim(mu_mat_right_inv)\n"
   ]
  },
  {
   "cell_type": "code",
   "execution_count": 54,
   "id": "769bb480-9aaf-46cf-a75c-eaf317a4585b",
   "metadata": {},
   "outputs": [
    {
     "data": {
      "text/html": [
       "<table class=\"dataframe\">\n",
       "<caption>A matrix: 2 × 3148 of type dbl</caption>\n",
       "<thead>\n",
       "\t<tr><th></th><th scope=col>B.cell__ACTB</th><th scope=col>B.cell__ARHGDIB</th><th scope=col>B.cell__ARPC2</th><th scope=col>B.cell__ARPC3</th><th scope=col>B.cell__B2M</th><th scope=col>B.cell__BIRC3</th><th scope=col>B.cell__BTF3</th><th scope=col>B.cell__BTG1</th><th scope=col>B.cell__BTG2</th><th scope=col>B.cell__CALM1</th><th scope=col>⋯</th><th scope=col>NKdim__YPEL5</th><th scope=col>NKdim__YWHAB</th><th scope=col>NKdim__YWHAQ</th><th scope=col>NKdim__YWHAZ</th><th scope=col>NKdim__ZC3HAV1</th><th scope=col>NKdim__ZEB2</th><th scope=col>NKdim__ZFAS1</th><th scope=col>NKdim__ZFP36</th><th scope=col>NKdim__ZFP36L1</th><th scope=col>NKdim__ZFP36L2</th></tr>\n",
       "</thead>\n",
       "<tbody>\n",
       "\t<tr><th scope=row>Baseline.TEST_1</th><td>-0.1451209</td><td>-0.280823</td><td>0.2933812</td><td>-1.3037827</td><td> 0.3569171</td><td>-0.29338123</td><td>-0.5720211</td><td>1.6637928</td><td>-1.3037827</td><td>-1.1048357</td><td>⋯</td><td> 1.6637928</td><td> 0.70506589</td><td>0.4752408</td><td> 0.9234567</td><td> 0.6744898</td><td>-0.02410453</td><td>-1.040566</td><td>-0.94207577</td><td>-0.8010945</td><td>-0.7050659</td></tr>\n",
       "\t<tr><th scope=row>Baseline.TEST_12</th><td> 0.2310092</td><td>-0.060292</td><td>0.3697907</td><td>-0.3697907</td><td>-0.2933812</td><td>-0.08445798</td><td> 0.4752408</td><td>0.1451209</td><td> 0.1573107</td><td> 0.3827258</td><td>⋯</td><td>-0.6744898</td><td>-0.09655862</td><td>0.8178173</td><td>-0.3827258</td><td>-0.7363159</td><td>-0.44842548</td><td>-1.898029</td><td>-0.07236971</td><td> 1.3623834</td><td> 0.8178173</td></tr>\n",
       "</tbody>\n",
       "</table>\n"
      ],
      "text/latex": [
       "A matrix: 2 × 3148 of type dbl\n",
       "\\begin{tabular}{r|lllllllllllllllllllll}\n",
       "  & B.cell\\_\\_ACTB & B.cell\\_\\_ARHGDIB & B.cell\\_\\_ARPC2 & B.cell\\_\\_ARPC3 & B.cell\\_\\_B2M & B.cell\\_\\_BIRC3 & B.cell\\_\\_BTF3 & B.cell\\_\\_BTG1 & B.cell\\_\\_BTG2 & B.cell\\_\\_CALM1 & ⋯ & NKdim\\_\\_YPEL5 & NKdim\\_\\_YWHAB & NKdim\\_\\_YWHAQ & NKdim\\_\\_YWHAZ & NKdim\\_\\_ZC3HAV1 & NKdim\\_\\_ZEB2 & NKdim\\_\\_ZFAS1 & NKdim\\_\\_ZFP36 & NKdim\\_\\_ZFP36L1 & NKdim\\_\\_ZFP36L2\\\\\n",
       "\\hline\n",
       "\tBaseline.TEST\\_1 & -0.1451209 & -0.280823 & 0.2933812 & -1.3037827 &  0.3569171 & -0.29338123 & -0.5720211 & 1.6637928 & -1.3037827 & -1.1048357 & ⋯ &  1.6637928 &  0.70506589 & 0.4752408 &  0.9234567 &  0.6744898 & -0.02410453 & -1.040566 & -0.94207577 & -0.8010945 & -0.7050659\\\\\n",
       "\tBaseline.TEST\\_12 &  0.2310092 & -0.060292 & 0.3697907 & -0.3697907 & -0.2933812 & -0.08445798 &  0.4752408 & 0.1451209 &  0.1573107 &  0.3827258 & ⋯ & -0.6744898 & -0.09655862 & 0.8178173 & -0.3827258 & -0.7363159 & -0.44842548 & -1.898029 & -0.07236971 &  1.3623834 &  0.8178173\\\\\n",
       "\\end{tabular}\n"
      ],
      "text/markdown": [
       "\n",
       "A matrix: 2 × 3148 of type dbl\n",
       "\n",
       "| <!--/--> | B.cell__ACTB | B.cell__ARHGDIB | B.cell__ARPC2 | B.cell__ARPC3 | B.cell__B2M | B.cell__BIRC3 | B.cell__BTF3 | B.cell__BTG1 | B.cell__BTG2 | B.cell__CALM1 | ⋯ | NKdim__YPEL5 | NKdim__YWHAB | NKdim__YWHAQ | NKdim__YWHAZ | NKdim__ZC3HAV1 | NKdim__ZEB2 | NKdim__ZFAS1 | NKdim__ZFP36 | NKdim__ZFP36L1 | NKdim__ZFP36L2 |\n",
       "|---|---|---|---|---|---|---|---|---|---|---|---|---|---|---|---|---|---|---|---|---|---|\n",
       "| Baseline.TEST_1 | -0.1451209 | -0.280823 | 0.2933812 | -1.3037827 |  0.3569171 | -0.29338123 | -0.5720211 | 1.6637928 | -1.3037827 | -1.1048357 | ⋯ |  1.6637928 |  0.70506589 | 0.4752408 |  0.9234567 |  0.6744898 | -0.02410453 | -1.040566 | -0.94207577 | -0.8010945 | -0.7050659 |\n",
       "| Baseline.TEST_12 |  0.2310092 | -0.060292 | 0.3697907 | -0.3697907 | -0.2933812 | -0.08445798 |  0.4752408 | 0.1451209 |  0.1573107 |  0.3827258 | ⋯ | -0.6744898 | -0.09655862 | 0.8178173 | -0.3827258 | -0.7363159 | -0.44842548 | -1.898029 | -0.07236971 |  1.3623834 |  0.8178173 |\n",
       "\n"
      ],
      "text/plain": [
       "                 B.cell__ACTB B.cell__ARHGDIB B.cell__ARPC2 B.cell__ARPC3\n",
       "Baseline.TEST_1  -0.1451209   -0.280823       0.2933812     -1.3037827   \n",
       "Baseline.TEST_12  0.2310092   -0.060292       0.3697907     -0.3697907   \n",
       "                 B.cell__B2M B.cell__BIRC3 B.cell__BTF3 B.cell__BTG1\n",
       "Baseline.TEST_1   0.3569171  -0.29338123   -0.5720211   1.6637928   \n",
       "Baseline.TEST_12 -0.2933812  -0.08445798    0.4752408   0.1451209   \n",
       "                 B.cell__BTG2 B.cell__CALM1 ⋯ NKdim__YPEL5 NKdim__YWHAB\n",
       "Baseline.TEST_1  -1.3037827   -1.1048357    ⋯  1.6637928    0.70506589 \n",
       "Baseline.TEST_12  0.1573107    0.3827258    ⋯ -0.6744898   -0.09655862 \n",
       "                 NKdim__YWHAQ NKdim__YWHAZ NKdim__ZC3HAV1 NKdim__ZEB2\n",
       "Baseline.TEST_1  0.4752408     0.9234567    0.6744898     -0.02410453\n",
       "Baseline.TEST_12 0.8178173    -0.3827258   -0.7363159     -0.44842548\n",
       "                 NKdim__ZFAS1 NKdim__ZFP36 NKdim__ZFP36L1 NKdim__ZFP36L2\n",
       "Baseline.TEST_1  -1.040566    -0.94207577  -0.8010945     -0.7050659    \n",
       "Baseline.TEST_12 -1.898029    -0.07236971   1.3623834      0.8178173    "
      ]
     },
     "metadata": {},
     "output_type": "display_data"
    }
   ],
   "source": [
    "head(gr_ma,2)"
   ]
  },
  {
   "cell_type": "code",
   "execution_count": 55,
   "id": "3217a141-505d-43c1-8e2e-041dd7af37e8",
   "metadata": {},
   "outputs": [],
   "source": [
    "gr_ma[is.na(gr_ma)]= 0"
   ]
  },
  {
   "cell_type": "code",
   "execution_count": 56,
   "id": "a7a1fec5-2861-4917-8678-e2cbd5f301ad",
   "metadata": {},
   "outputs": [
    {
     "data": {
      "text/html": [
       "<style>\n",
       ".list-inline {list-style: none; margin:0; padding: 0}\n",
       ".list-inline>li {display: inline-block}\n",
       ".list-inline>li:not(:last-child)::after {content: \"\\00b7\"; padding: 0 .5ex}\n",
       "</style>\n",
       "<ol class=list-inline><li>103</li><li>20</li></ol>\n"
      ],
      "text/latex": [
       "\\begin{enumerate*}\n",
       "\\item 103\n",
       "\\item 20\n",
       "\\end{enumerate*}\n"
      ],
      "text/markdown": [
       "1. 103\n",
       "2. 20\n",
       "\n",
       "\n"
      ],
      "text/plain": [
       "[1] 103  20"
      ]
     },
     "metadata": {},
     "output_type": "display_data"
    },
    {
     "data": {
      "text/html": [
       "<table class=\"dataframe\">\n",
       "<caption>A matrix: 2 × 20 of type dbl</caption>\n",
       "<thead>\n",
       "\t<tr><th></th><th scope=col>Factor1</th><th scope=col>Factor2</th><th scope=col>Factor3</th><th scope=col>Factor4</th><th scope=col>Factor5</th><th scope=col>Factor6</th><th scope=col>Factor7</th><th scope=col>Factor8</th><th scope=col>Factor9</th><th scope=col>Factor10</th><th scope=col>Factor11</th><th scope=col>Factor12</th><th scope=col>Factor13</th><th scope=col>Factor14</th><th scope=col>Factor15</th><th scope=col>Factor16</th><th scope=col>Factor17</th><th scope=col>Factor18</th><th scope=col>Factor19</th><th scope=col>Factor20</th></tr>\n",
       "</thead>\n",
       "<tbody>\n",
       "\t<tr><th scope=row>Baseline.TEST_1</th><td>-0.12063079</td><td>1.4305362</td><td>0.1444684</td><td>0.5318507</td><td>-0.1235437</td><td>0.12083592</td><td> 0.2016771</td><td>0.2368509</td><td>-0.21416826</td><td>0.21182132</td><td>0.3961745</td><td>-0.3276672</td><td>0.4171498</td><td>0.3391938</td><td>-0.01248597</td><td>0.08640766</td><td>-0.02221648</td><td>-0.4124799</td><td>0.195775378</td><td>-0.1918527</td></tr>\n",
       "\t<tr><th scope=row>Baseline.TEST_12</th><td>-0.09882374</td><td>0.4013937</td><td>0.3206466</td><td>0.5860041</td><td>-0.2155669</td><td>0.08823914</td><td>-0.1322515</td><td>0.2131773</td><td> 0.04916782</td><td>0.07366254</td><td>3.4977509</td><td>-0.2186651</td><td>0.4484445</td><td>0.2666195</td><td>-0.13561254</td><td>0.53762915</td><td> 0.02581057</td><td>-0.2500909</td><td>0.008599943</td><td>-0.1842714</td></tr>\n",
       "</tbody>\n",
       "</table>\n"
      ],
      "text/latex": [
       "A matrix: 2 × 20 of type dbl\n",
       "\\begin{tabular}{r|llllllllllllllllllll}\n",
       "  & Factor1 & Factor2 & Factor3 & Factor4 & Factor5 & Factor6 & Factor7 & Factor8 & Factor9 & Factor10 & Factor11 & Factor12 & Factor13 & Factor14 & Factor15 & Factor16 & Factor17 & Factor18 & Factor19 & Factor20\\\\\n",
       "\\hline\n",
       "\tBaseline.TEST\\_1 & -0.12063079 & 1.4305362 & 0.1444684 & 0.5318507 & -0.1235437 & 0.12083592 &  0.2016771 & 0.2368509 & -0.21416826 & 0.21182132 & 0.3961745 & -0.3276672 & 0.4171498 & 0.3391938 & -0.01248597 & 0.08640766 & -0.02221648 & -0.4124799 & 0.195775378 & -0.1918527\\\\\n",
       "\tBaseline.TEST\\_12 & -0.09882374 & 0.4013937 & 0.3206466 & 0.5860041 & -0.2155669 & 0.08823914 & -0.1322515 & 0.2131773 &  0.04916782 & 0.07366254 & 3.4977509 & -0.2186651 & 0.4484445 & 0.2666195 & -0.13561254 & 0.53762915 &  0.02581057 & -0.2500909 & 0.008599943 & -0.1842714\\\\\n",
       "\\end{tabular}\n"
      ],
      "text/markdown": [
       "\n",
       "A matrix: 2 × 20 of type dbl\n",
       "\n",
       "| <!--/--> | Factor1 | Factor2 | Factor3 | Factor4 | Factor5 | Factor6 | Factor7 | Factor8 | Factor9 | Factor10 | Factor11 | Factor12 | Factor13 | Factor14 | Factor15 | Factor16 | Factor17 | Factor18 | Factor19 | Factor20 |\n",
       "|---|---|---|---|---|---|---|---|---|---|---|---|---|---|---|---|---|---|---|---|---|\n",
       "| Baseline.TEST_1 | -0.12063079 | 1.4305362 | 0.1444684 | 0.5318507 | -0.1235437 | 0.12083592 |  0.2016771 | 0.2368509 | -0.21416826 | 0.21182132 | 0.3961745 | -0.3276672 | 0.4171498 | 0.3391938 | -0.01248597 | 0.08640766 | -0.02221648 | -0.4124799 | 0.195775378 | -0.1918527 |\n",
       "| Baseline.TEST_12 | -0.09882374 | 0.4013937 | 0.3206466 | 0.5860041 | -0.2155669 | 0.08823914 | -0.1322515 | 0.2131773 |  0.04916782 | 0.07366254 | 3.4977509 | -0.2186651 | 0.4484445 | 0.2666195 | -0.13561254 | 0.53762915 |  0.02581057 | -0.2500909 | 0.008599943 | -0.1842714 |\n",
       "\n"
      ],
      "text/plain": [
       "                 Factor1     Factor2   Factor3   Factor4   Factor5   \n",
       "Baseline.TEST_1  -0.12063079 1.4305362 0.1444684 0.5318507 -0.1235437\n",
       "Baseline.TEST_12 -0.09882374 0.4013937 0.3206466 0.5860041 -0.2155669\n",
       "                 Factor6    Factor7    Factor8   Factor9     Factor10  \n",
       "Baseline.TEST_1  0.12083592  0.2016771 0.2368509 -0.21416826 0.21182132\n",
       "Baseline.TEST_12 0.08823914 -0.1322515 0.2131773  0.04916782 0.07366254\n",
       "                 Factor11  Factor12   Factor13  Factor14  Factor15   \n",
       "Baseline.TEST_1  0.3961745 -0.3276672 0.4171498 0.3391938 -0.01248597\n",
       "Baseline.TEST_12 3.4977509 -0.2186651 0.4484445 0.2666195 -0.13561254\n",
       "                 Factor16   Factor17    Factor18   Factor19    Factor20  \n",
       "Baseline.TEST_1  0.08640766 -0.02221648 -0.4124799 0.195775378 -0.1918527\n",
       "Baseline.TEST_12 0.53762915  0.02581057 -0.2500909 0.008599943 -0.1842714"
      ]
     },
     "metadata": {},
     "output_type": "display_data"
    }
   ],
   "source": [
    "#### Apply right inverse to Y from GR \n",
    "\n",
    "result = gr_ma %*% mu_mat_right_inv\n",
    "dim(result)\n",
    "\n",
    "\n",
    "head(result,2)"
   ]
  },
  {
   "cell_type": "code",
   "execution_count": 57,
   "id": "356ff5d9-a4a7-4ca1-bb89-09c63c460d35",
   "metadata": {},
   "outputs": [
    {
     "data": {
      "text/html": [
       "103"
      ],
      "text/latex": [
       "103"
      ],
      "text/markdown": [
       "103"
      ],
      "text/plain": [
       "[1] 103"
      ]
     },
     "metadata": {},
     "output_type": "display_data"
    }
   ],
   "source": [
    "nrow(result)"
   ]
  },
  {
   "cell_type": "code",
   "execution_count": 58,
   "id": "a25d43b4-221b-4096-a2ea-0c9590c4eabb",
   "metadata": {},
   "outputs": [],
   "source": [
    "result = as.data.frame(result)"
   ]
  },
  {
   "cell_type": "code",
   "execution_count": 59,
   "id": "fc0822ca-40d8-4d50-b0ab-2e40a91fd481",
   "metadata": {},
   "outputs": [
    {
     "data": {
      "text/html": [
       "103"
      ],
      "text/latex": [
       "103"
      ],
      "text/markdown": [
       "103"
      ],
      "text/plain": [
       "[1] 103"
      ]
     },
     "metadata": {},
     "output_type": "display_data"
    }
   ],
   "source": [
    "nrow(result[!is.na(result$Factor1),])"
   ]
  },
  {
   "cell_type": "code",
   "execution_count": 60,
   "id": "6f47cb1c-6d40-473d-9e72-741fef9fedef",
   "metadata": {},
   "outputs": [],
   "source": [
    "result = result[!is.na(result$Factor1),]"
   ]
  },
  {
   "cell_type": "code",
   "execution_count": 61,
   "id": "04f65759-f99e-4258-8d8c-87cc2fa4e834",
   "metadata": {},
   "outputs": [
    {
     "data": {
      "text/html": [
       "103"
      ],
      "text/latex": [
       "103"
      ],
      "text/markdown": [
       "103"
      ],
      "text/plain": [
       "[1] 103"
      ]
     },
     "metadata": {},
     "output_type": "display_data"
    }
   ],
   "source": [
    "nrow(result)"
   ]
  },
  {
   "cell_type": "code",
   "execution_count": 62,
   "id": "943868fa-6979-479f-b05c-669b45839ae4",
   "metadata": {},
   "outputs": [],
   "source": [
    "### Save the resulting sample factor weights for plotting\n",
    "\n",
    "write.csv(result, paste0(output_path, 'Factor_Data_Groningen.csv'))\n"
   ]
  },
  {
   "cell_type": "code",
   "execution_count": null,
   "id": "b01bcf60-3972-4302-adcf-ca8f17a169d1",
   "metadata": {},
   "outputs": [],
   "source": []
  }
 ],
 "metadata": {
  "kernelspec": {
   "display_name": "R",
   "language": "R",
   "name": "ir"
  },
  "language_info": {
   "codemirror_mode": "r",
   "file_extension": ".r",
   "mimetype": "text/x-r-source",
   "name": "R",
   "pygments_lexer": "r",
   "version": "4.1.1"
  },
  "toc-autonumbering": true
 },
 "nbformat": 4,
 "nbformat_minor": 5
}

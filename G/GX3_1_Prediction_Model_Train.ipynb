{
 "cells": [
  {
   "cell_type": "code",
   "execution_count": 144,
   "id": "d182c426-4d95-4dee-a099-cd923e9437d7",
   "metadata": {
    "tags": []
   },
   "outputs": [],
   "source": [
    "### Script to train LASSO model for prediction of outcome class on Munich Data"
   ]
  },
  {
   "cell_type": "markdown",
   "id": "213d69de-4705-4a6e-9387-b1a3413172eb",
   "metadata": {
    "tags": []
   },
   "source": [
    "#############################################\n",
    "# Prerequisites - Load Libraries"
   ]
  },
  {
   "cell_type": "code",
   "execution_count": 145,
   "id": "9957e32b-eaec-4762-95cd-e089cc1cdc60",
   "metadata": {
    "tags": []
   },
   "outputs": [
    {
     "name": "stderr",
     "output_type": "stream",
     "text": [
      "Warning message in read.table(file = file, header = header, sep = sep, quote = quote, :\n",
      "“incomplete final line found by readTableHeader on '../conda_environment/Environment_Configs.csv'”\n"
     ]
    },
    {
     "name": "stdout",
     "output_type": "stream",
     "text": [
      "[1] \"/home/icb/corinna.losert/miniconda3/envs/stark_stemi_R_Env_4_1//lib/R/library\"\n"
     ]
    }
   ],
   "source": [
    "source('MS0_Libraries.r')"
   ]
  },
  {
   "cell_type": "code",
   "execution_count": 146,
   "id": "45fcc655-2176-406c-9f49-5e5b9379a275",
   "metadata": {
    "tags": []
   },
   "outputs": [],
   "source": [
    "source('MS4_Plot_Config.r')"
   ]
  },
  {
   "cell_type": "markdown",
   "id": "9d409d14-a693-4722-9648-4b6bacb4b74a",
   "metadata": {
    "tags": []
   },
   "source": [
    "###############################################\n",
    "# Preqrequisites Configurations & Parameters"
   ]
  },
  {
   "cell_type": "code",
   "execution_count": 147,
   "id": "22415b81-130b-4ded-9fde-52c2865e4d34",
   "metadata": {},
   "outputs": [],
   "source": [
    "\n",
    "result_path_rep =  \"../results/current/Reproduction\"\n",
    "\n",
    "result_path =  \"../results/current\""
   ]
  },
  {
   "cell_type": "code",
   "execution_count": 148,
   "id": "17c51dce-9c0d-4c0a-bbb1-6015d1743d4f",
   "metadata": {},
   "outputs": [],
   "source": [
    "name = 'V_AZIMUTH_INTEGRATED'   # name of dataset to load"
   ]
  },
  {
   "cell_type": "markdown",
   "id": "43e2937f-4e6d-4e90-99f2-2f7c370f9639",
   "metadata": {
    "tags": []
   },
   "source": [
    "# Load Data "
   ]
  },
  {
   "cell_type": "markdown",
   "id": "5c509a35-ff62-4576-bb0a-bf5802096cf3",
   "metadata": {
    "tags": []
   },
   "source": [
    "## Prepared combined data"
   ]
  },
  {
   "cell_type": "code",
   "execution_count": 149,
   "id": "988c0b49-454b-405b-b5f3-7ae2533b8dd8",
   "metadata": {},
   "outputs": [],
   "source": [
    "### Load MU normalized and integrated data based on azimuth annotations"
   ]
  },
  {
   "cell_type": "code",
   "execution_count": 150,
   "id": "b9993738-caa8-479d-9145-c251182153f5",
   "metadata": {
    "tags": []
   },
   "outputs": [
    {
     "name": "stdout",
     "output_type": "stream",
     "text": [
      "[1] \"2024-01-11 15:27:29 CET\"\n"
     ]
    }
   ],
   "source": [
    "path = paste0(result_path, '/G-Analysis/Combined_Data_',name,'.csv')\n",
    "data_long = read.csv(path)\n",
    "print(file.info(path)$mtime)"
   ]
  },
  {
   "cell_type": "code",
   "execution_count": 151,
   "id": "6ee668e4-c89f-4838-8ae0-c1049b8a4119",
   "metadata": {},
   "outputs": [
    {
     "data": {
      "text/html": [
       "<table class=\"dataframe\">\n",
       "<caption>A data.frame: 2 × 5</caption>\n",
       "<thead>\n",
       "\t<tr><th></th><th scope=col>X</th><th scope=col>sample_id</th><th scope=col>variable</th><th scope=col>value</th><th scope=col>type</th></tr>\n",
       "\t<tr><th></th><th scope=col>&lt;int&gt;</th><th scope=col>&lt;chr&gt;</th><th scope=col>&lt;chr&gt;</th><th scope=col>&lt;dbl&gt;</th><th scope=col>&lt;chr&gt;</th></tr>\n",
       "</thead>\n",
       "<tbody>\n",
       "\t<tr><th scope=row>1</th><td>1</td><td>k1 </td><td>CK</td><td>-2.397022</td><td>clinical_data</td></tr>\n",
       "\t<tr><th scope=row>2</th><td>2</td><td>k10</td><td>CK</td><td>       NA</td><td>clinical_data</td></tr>\n",
       "</tbody>\n",
       "</table>\n"
      ],
      "text/latex": [
       "A data.frame: 2 × 5\n",
       "\\begin{tabular}{r|lllll}\n",
       "  & X & sample\\_id & variable & value & type\\\\\n",
       "  & <int> & <chr> & <chr> & <dbl> & <chr>\\\\\n",
       "\\hline\n",
       "\t1 & 1 & k1  & CK & -2.397022 & clinical\\_data\\\\\n",
       "\t2 & 2 & k10 & CK &        NA & clinical\\_data\\\\\n",
       "\\end{tabular}\n"
      ],
      "text/markdown": [
       "\n",
       "A data.frame: 2 × 5\n",
       "\n",
       "| <!--/--> | X &lt;int&gt; | sample_id &lt;chr&gt; | variable &lt;chr&gt; | value &lt;dbl&gt; | type &lt;chr&gt; |\n",
       "|---|---|---|---|---|---|\n",
       "| 1 | 1 | k1  | CK | -2.397022 | clinical_data |\n",
       "| 2 | 2 | k10 | CK |        NA | clinical_data |\n",
       "\n"
      ],
      "text/plain": [
       "  X sample_id variable value     type         \n",
       "1 1 k1        CK       -2.397022 clinical_data\n",
       "2 2 k10       CK              NA clinical_data"
      ]
     },
     "metadata": {},
     "output_type": "display_data"
    }
   ],
   "source": [
    "head(data_long,2)"
   ]
  },
  {
   "cell_type": "code",
   "execution_count": 152,
   "id": "84bb7842-69dc-4fab-a089-ddc58373354c",
   "metadata": {},
   "outputs": [
    {
     "data": {
      "text/html": [
       "<style>\n",
       ".list-inline {list-style: none; margin:0; padding: 0}\n",
       ".list-inline>li {display: inline-block}\n",
       ".list-inline>li:not(:last-child)::after {content: \"\\00b7\"; padding: 0 .5ex}\n",
       "</style>\n",
       "<ol class=list-inline><li>'clinical_data'</li><li>'cytokine'</li><li>'neutrophil'</li><li>'proteomics'</li><li>'single_cell'</li></ol>\n"
      ],
      "text/latex": [
       "\\begin{enumerate*}\n",
       "\\item 'clinical\\_data'\n",
       "\\item 'cytokine'\n",
       "\\item 'neutrophil'\n",
       "\\item 'proteomics'\n",
       "\\item 'single\\_cell'\n",
       "\\end{enumerate*}\n"
      ],
      "text/markdown": [
       "1. 'clinical_data'\n",
       "2. 'cytokine'\n",
       "3. 'neutrophil'\n",
       "4. 'proteomics'\n",
       "5. 'single_cell'\n",
       "\n",
       "\n"
      ],
      "text/plain": [
       "[1] \"clinical_data\" \"cytokine\"      \"neutrophil\"    \"proteomics\"   \n",
       "[5] \"single_cell\"  "
      ]
     },
     "metadata": {},
     "output_type": "display_data"
    }
   ],
   "source": [
    "unique(data_long$type)"
   ]
  },
  {
   "cell_type": "code",
   "execution_count": 153,
   "id": "3460098b-34d9-4e45-a80f-eaef33b2bb58",
   "metadata": {},
   "outputs": [],
   "source": [
    "### Adjust to MU azimuth annotations to map to cell-type names from Groningen data\n",
    "data_long$feature = data_long$variable\n",
    "\n",
    "data_long$feature = str_replace( data_long$feature, 'CD14.Mono','cMono' )\n",
    "data_long$feature = str_replace( data_long$feature, 'CD16.Mono','ncMono' )\n",
    "data_long$feature = str_replace( data_long$feature, 'CD4.CTL','CD4_CTL' )\n",
    "data_long$feature = str_replace( data_long$feature, 'CD4.Naive','CD4_Naive')\n",
    "data_long$feature = str_replace( data_long$feature, 'CD4.TCM','CD4_TCM' )\n",
    "data_long$feature = str_replace( data_long$feature, 'CD4.TEM','CD4_TEM' )\n",
    "data_long$feature = str_replace( data_long$feature, 'CD8.Naive','CD8_Naive' )\n",
    "data_long$feature = str_replace( data_long$feature, 'CD8.TEM','CD8_TEM' )\n",
    "data_long$feature = str_replace( data_long$feature, 'NK__','Nkdim__' )"
   ]
  },
  {
   "cell_type": "code",
   "execution_count": 154,
   "id": "d549152e-e59f-446d-9523-a43fe45ce6ac",
   "metadata": {},
   "outputs": [],
   "source": [
    "data_long$variable = data_long$feature"
   ]
  },
  {
   "cell_type": "code",
   "execution_count": 155,
   "id": "dfd3d0d5-bd9c-42c8-a0a3-db129573481d",
   "metadata": {},
   "outputs": [],
   "source": [
    "data_long$view = str_replace(data_long$variable, '__.*', '')"
   ]
  },
  {
   "cell_type": "markdown",
   "id": "d2daaeb8-53f2-4703-87ae-197de40d1a03",
   "metadata": {
    "tags": []
   },
   "source": [
    "## Selected Features"
   ]
  },
  {
   "cell_type": "code",
   "execution_count": 156,
   "id": "630e3d22-0e0f-4e35-8607-57645529d857",
   "metadata": {},
   "outputs": [],
   "source": [
    "# Load subset of features selected based on highest ranking Factor3/ Factor4 features"
   ]
  },
  {
   "cell_type": "code",
   "execution_count": 157,
   "id": "1f7afe12-f61b-4a91-bc07-8aeee6a2d13d",
   "metadata": {},
   "outputs": [],
   "source": [
    "features_gb = read.csv(paste0(result_path_rep, '/G10_Joint_Features_GB', '.csv'))"
   ]
  },
  {
   "cell_type": "code",
   "execution_count": 158,
   "id": "66de804d-ee53-4d55-858c-a94693f49948",
   "metadata": {},
   "outputs": [
    {
     "data": {
      "text/html": [
       "135"
      ],
      "text/latex": [
       "135"
      ],
      "text/markdown": [
       "135"
      ],
      "text/plain": [
       "[1] 135"
      ]
     },
     "metadata": {},
     "output_type": "display_data"
    }
   ],
   "source": [
    "nrow(features_gb)"
   ]
  },
  {
   "cell_type": "code",
   "execution_count": 159,
   "id": "d5ed1023-744c-4369-9f4c-ed138447ab21",
   "metadata": {},
   "outputs": [
    {
     "data": {
      "text/html": [
       "<table class=\"dataframe\">\n",
       "<caption>A data.frame: 2 × 4</caption>\n",
       "<thead>\n",
       "\t<tr><th></th><th scope=col>type</th><th scope=col>variable_name</th><th scope=col>Factor4</th><th scope=col>Factor3azimuth</th></tr>\n",
       "\t<tr><th></th><th scope=col>&lt;chr&gt;</th><th scope=col>&lt;chr&gt;</th><th scope=col>&lt;dbl&gt;</th><th scope=col>&lt;dbl&gt;</th></tr>\n",
       "</thead>\n",
       "<tbody>\n",
       "\t<tr><th scope=row>1</th><td>CD4_TCM</td><td>ATP5F1E</td><td>0.7390619</td><td>-0.6764393</td></tr>\n",
       "\t<tr><th scope=row>2</th><td>CD4_TCM</td><td>ATP5ME </td><td>0.8346074</td><td>-0.7521005</td></tr>\n",
       "</tbody>\n",
       "</table>\n"
      ],
      "text/latex": [
       "A data.frame: 2 × 4\n",
       "\\begin{tabular}{r|llll}\n",
       "  & type & variable\\_name & Factor4 & Factor3azimuth\\\\\n",
       "  & <chr> & <chr> & <dbl> & <dbl>\\\\\n",
       "\\hline\n",
       "\t1 & CD4\\_TCM & ATP5F1E & 0.7390619 & -0.6764393\\\\\n",
       "\t2 & CD4\\_TCM & ATP5ME  & 0.8346074 & -0.7521005\\\\\n",
       "\\end{tabular}\n"
      ],
      "text/markdown": [
       "\n",
       "A data.frame: 2 × 4\n",
       "\n",
       "| <!--/--> | type &lt;chr&gt; | variable_name &lt;chr&gt; | Factor4 &lt;dbl&gt; | Factor3azimuth &lt;dbl&gt; |\n",
       "|---|---|---|---|---|\n",
       "| 1 | CD4_TCM | ATP5F1E | 0.7390619 | -0.6764393 |\n",
       "| 2 | CD4_TCM | ATP5ME  | 0.8346074 | -0.7521005 |\n",
       "\n"
      ],
      "text/plain": [
       "  type    variable_name Factor4   Factor3azimuth\n",
       "1 CD4_TCM ATP5F1E       0.7390619 -0.6764393    \n",
       "2 CD4_TCM ATP5ME        0.8346074 -0.7521005    "
      ]
     },
     "metadata": {},
     "output_type": "display_data"
    }
   ],
   "source": [
    "head(features_gb,2)"
   ]
  },
  {
   "cell_type": "code",
   "execution_count": 160,
   "id": "9cc88ab0-a38b-44cb-81a0-10ae3b4ce8aa",
   "metadata": {},
   "outputs": [
    {
     "data": {
      "text/html": [
       "<style>\n",
       ".list-inline {list-style: none; margin:0; padding: 0}\n",
       ".list-inline>li {display: inline-block}\n",
       ".list-inline>li:not(:last-child)::after {content: \"\\00b7\"; padding: 0 .5ex}\n",
       "</style>\n",
       "<ol class=list-inline><li>'CD4_TCM'</li><li>'cDC2'</li><li>'clinical_data'</li><li>'cMono'</li><li>'cytokine'</li><li>'ncMono'</li><li>'Nkdim'</li><li>'proteomics'</li></ol>\n"
      ],
      "text/latex": [
       "\\begin{enumerate*}\n",
       "\\item 'CD4\\_TCM'\n",
       "\\item 'cDC2'\n",
       "\\item 'clinical\\_data'\n",
       "\\item 'cMono'\n",
       "\\item 'cytokine'\n",
       "\\item 'ncMono'\n",
       "\\item 'Nkdim'\n",
       "\\item 'proteomics'\n",
       "\\end{enumerate*}\n"
      ],
      "text/markdown": [
       "1. 'CD4_TCM'\n",
       "2. 'cDC2'\n",
       "3. 'clinical_data'\n",
       "4. 'cMono'\n",
       "5. 'cytokine'\n",
       "6. 'ncMono'\n",
       "7. 'Nkdim'\n",
       "8. 'proteomics'\n",
       "\n",
       "\n"
      ],
      "text/plain": [
       "[1] \"CD4_TCM\"       \"cDC2\"          \"clinical_data\" \"cMono\"        \n",
       "[5] \"cytokine\"      \"ncMono\"        \"Nkdim\"         \"proteomics\"   "
      ]
     },
     "metadata": {},
     "output_type": "display_data"
    }
   ],
   "source": [
    "unique(features_gb$type)"
   ]
  },
  {
   "cell_type": "code",
   "execution_count": 161,
   "id": "e038ff19-7c33-4e6a-bbc1-aa8aed46de4a",
   "metadata": {},
   "outputs": [],
   "source": [
    "## Remove non-sc dimensions (as in Groningen data only sc data available)"
   ]
  },
  {
   "cell_type": "code",
   "execution_count": 162,
   "id": "d0273592-d456-4a60-bf3d-3ba04caafb9a",
   "metadata": {},
   "outputs": [],
   "source": [
    "features_gb = features_gb[!features_gb$type %in% c('clinical_data', 'cytokine', 'proteomics'),]"
   ]
  },
  {
   "cell_type": "code",
   "execution_count": 163,
   "id": "288038bf-19b6-4f1f-8a97-adae620f1b24",
   "metadata": {},
   "outputs": [
    {
     "data": {
      "text/html": [
       "<style>\n",
       ".list-inline {list-style: none; margin:0; padding: 0}\n",
       ".list-inline>li {display: inline-block}\n",
       ".list-inline>li:not(:last-child)::after {content: \"\\00b7\"; padding: 0 .5ex}\n",
       "</style>\n",
       "<ol class=list-inline><li>'CD4_TCM'</li><li>'cDC2'</li><li>'cMono'</li><li>'ncMono'</li><li>'Nkdim'</li></ol>\n"
      ],
      "text/latex": [
       "\\begin{enumerate*}\n",
       "\\item 'CD4\\_TCM'\n",
       "\\item 'cDC2'\n",
       "\\item 'cMono'\n",
       "\\item 'ncMono'\n",
       "\\item 'Nkdim'\n",
       "\\end{enumerate*}\n"
      ],
      "text/markdown": [
       "1. 'CD4_TCM'\n",
       "2. 'cDC2'\n",
       "3. 'cMono'\n",
       "4. 'ncMono'\n",
       "5. 'Nkdim'\n",
       "\n",
       "\n"
      ],
      "text/plain": [
       "[1] \"CD4_TCM\" \"cDC2\"    \"cMono\"   \"ncMono\"  \"Nkdim\"  "
      ]
     },
     "metadata": {},
     "output_type": "display_data"
    }
   ],
   "source": [
    "sort(unique(features_gb$type))"
   ]
  },
  {
   "cell_type": "code",
   "execution_count": 164,
   "id": "50f15853-8772-492a-9ade-fc369459f5bb",
   "metadata": {},
   "outputs": [
    {
     "data": {
      "text/html": [
       "<style>\n",
       ".list-inline {list-style: none; margin:0; padding: 0}\n",
       ".list-inline>li {display: inline-block}\n",
       ".list-inline>li:not(:last-child)::after {content: \"\\00b7\"; padding: 0 .5ex}\n",
       "</style>\n",
       "<ol class=list-inline><li>'B.cell'</li><li>'CD4_CTL'</li><li>'CD4_Naive'</li><li>'CD4_TCM'</li><li>'CD4_TEM'</li><li>'CD8_Naive'</li><li>'CD8_TEM'</li><li>'cDC2'</li><li>'cMono'</li><li>'gdT'</li><li>'ncMono'</li><li>'Nkdim'</li><li>'Treg'</li></ol>\n"
      ],
      "text/latex": [
       "\\begin{enumerate*}\n",
       "\\item 'B.cell'\n",
       "\\item 'CD4\\_CTL'\n",
       "\\item 'CD4\\_Naive'\n",
       "\\item 'CD4\\_TCM'\n",
       "\\item 'CD4\\_TEM'\n",
       "\\item 'CD8\\_Naive'\n",
       "\\item 'CD8\\_TEM'\n",
       "\\item 'cDC2'\n",
       "\\item 'cMono'\n",
       "\\item 'gdT'\n",
       "\\item 'ncMono'\n",
       "\\item 'Nkdim'\n",
       "\\item 'Treg'\n",
       "\\end{enumerate*}\n"
      ],
      "text/markdown": [
       "1. 'B.cell'\n",
       "2. 'CD4_CTL'\n",
       "3. 'CD4_Naive'\n",
       "4. 'CD4_TCM'\n",
       "5. 'CD4_TEM'\n",
       "6. 'CD8_Naive'\n",
       "7. 'CD8_TEM'\n",
       "8. 'cDC2'\n",
       "9. 'cMono'\n",
       "10. 'gdT'\n",
       "11. 'ncMono'\n",
       "12. 'Nkdim'\n",
       "13. 'Treg'\n",
       "\n",
       "\n"
      ],
      "text/plain": [
       " [1] \"B.cell\"    \"CD4_CTL\"   \"CD4_Naive\" \"CD4_TCM\"   \"CD4_TEM\"   \"CD8_Naive\"\n",
       " [7] \"CD8_TEM\"   \"cDC2\"      \"cMono\"     \"gdT\"       \"ncMono\"    \"Nkdim\"    \n",
       "[13] \"Treg\"     "
      ]
     },
     "metadata": {},
     "output_type": "display_data"
    }
   ],
   "source": [
    "### compare to types in data input (to make sure they match)\n",
    "sort(unique(data_long$view[data_long$type == 'single_cell']))"
   ]
  },
  {
   "cell_type": "code",
   "execution_count": 165,
   "id": "1218c0d4-6f25-43b6-a1e7-1d98cafe4ca8",
   "metadata": {},
   "outputs": [
    {
     "data": {
      "text/html": [
       "109"
      ],
      "text/latex": [
       "109"
      ],
      "text/markdown": [
       "109"
      ],
      "text/plain": [
       "[1] 109"
      ]
     },
     "metadata": {},
     "output_type": "display_data"
    }
   ],
   "source": [
    "nrow(features_gb)"
   ]
  },
  {
   "cell_type": "code",
   "execution_count": 166,
   "id": "f9e613c3-c3fc-4a0b-8b35-947ec8605aee",
   "metadata": {},
   "outputs": [],
   "source": [
    "## Get only NK cell features for pre-selected feature set "
   ]
  },
  {
   "cell_type": "code",
   "execution_count": 167,
   "id": "5e665274-a389-4b27-b03e-886510d3177c",
   "metadata": {},
   "outputs": [],
   "source": [
    "features_gb_NK = features_gb[features_gb$type == 'Nkdim',]"
   ]
  },
  {
   "cell_type": "code",
   "execution_count": 168,
   "id": "51f0d767-4de0-48ef-8ec2-a5f557662134",
   "metadata": {},
   "outputs": [],
   "source": [
    "features_gb_NK = features_gb_NK[features_gb_NK$variable_name %in% c('GZMB', 'TXNIP', 'CD53'),] # only selected nk cell features"
   ]
  },
  {
   "cell_type": "markdown",
   "id": "d76baf68-703a-40b2-8c70-bd80a5fdae6f",
   "metadata": {
    "tags": []
   },
   "source": [
    "## Sample Data"
   ]
  },
  {
   "cell_type": "code",
   "execution_count": 169,
   "id": "abb96b55-7348-4e8d-bc52-012ee5a0881c",
   "metadata": {},
   "outputs": [],
   "source": [
    "# Load meta-data about samples"
   ]
  },
  {
   "cell_type": "code",
   "execution_count": 170,
   "id": "e4cfef1b-013b-48f8-9b60-17d1c3a24fe2",
   "metadata": {},
   "outputs": [],
   "source": [
    "sample_data = read.csv(paste0(result_path, '/00_Data_Overview/Merged_Sample_Meta_Data.csv'))"
   ]
  },
  {
   "cell_type": "code",
   "execution_count": 171,
   "id": "3a114342-4f34-441a-a6cc-1a4eca0e8fb8",
   "metadata": {},
   "outputs": [],
   "source": [
    "# Log-transform clinical values"
   ]
  },
  {
   "cell_type": "code",
   "execution_count": 172,
   "id": "7ab4f028-fb8e-4f5f-97b5-fd0c695da0be",
   "metadata": {},
   "outputs": [],
   "source": [
    "sample_data$CK_raw = sample_data$CK"
   ]
  },
  {
   "cell_type": "code",
   "execution_count": 173,
   "id": "371ca82f-5da3-46ae-b17d-8f332d58aa49",
   "metadata": {},
   "outputs": [],
   "source": [
    "sample_data$CK = log2(sample_data$CK+1)"
   ]
  },
  {
   "cell_type": "code",
   "execution_count": 174,
   "id": "fffd9dbb-f4bf-46d9-8404-408afb81e0f4",
   "metadata": {},
   "outputs": [],
   "source": [
    "sample_data$Troponin = log2(sample_data$Troponin+1)"
   ]
  },
  {
   "cell_type": "code",
   "execution_count": 175,
   "id": "6e31d99f-ec96-4de9-a274-7c7690adf1ba",
   "metadata": {},
   "outputs": [
    {
     "name": "stderr",
     "output_type": "stream",
     "text": [
      "Warning message in eval(expr, envir, enclos):\n",
      "“NAs introduced by coercion”\n"
     ]
    }
   ],
   "source": [
    "sample_data$CK_MB = log2(as.numeric(sample_data$CK_MB)+1)"
   ]
  },
  {
   "cell_type": "code",
   "execution_count": 176,
   "id": "ea0ccee8-a5ac-44a6-b2a4-7c4ef5b716dc",
   "metadata": {},
   "outputs": [
    {
     "name": "stderr",
     "output_type": "stream",
     "text": [
      "Warning message in eval(expr, envir, enclos):\n",
      "“NAs introduced by coercion”\n"
     ]
    }
   ],
   "source": [
    "sample_data$CRP =  log2(as.numeric(sample_data$CRP)+1)"
   ]
  },
  {
   "cell_type": "code",
   "execution_count": 177,
   "id": "7e5c8160-9dea-4a6a-a697-bdafc28aad4a",
   "metadata": {},
   "outputs": [],
   "source": [
    "## Recode sample-ids of duplicates"
   ]
  },
  {
   "cell_type": "code",
   "execution_count": 178,
   "id": "c29441a9-b21b-4ef6-8953-a3b163abadff",
   "metadata": {},
   "outputs": [],
   "source": [
    "sample_data$sample_id[(sample_data$sample_id == 'm13.2')  & (sample_data$library %in%  c('L6'))] = 'm13.22'"
   ]
  },
  {
   "cell_type": "code",
   "execution_count": 179,
   "id": "bda2f8ed-1fd0-47d2-a825-28f346c32f16",
   "metadata": {},
   "outputs": [],
   "source": [
    "sample_data$sample_id[(sample_data$sample_id == 'm6.4')  & (sample_data$library %in%  c('L10'))] = 'm6.42'"
   ]
  },
  {
   "cell_type": "code",
   "execution_count": 180,
   "id": "1d494ce6-b978-43e6-8630-ae1ce4b1400f",
   "metadata": {},
   "outputs": [],
   "source": [
    "sample_data$sample_id[(sample_data$sample_id == 'm6.1')  & (sample_data$library %in%  c('L3'))] = 'm6.12'"
   ]
  },
  {
   "cell_type": "code",
   "execution_count": 181,
   "id": "8cd3ac79-0126-47ac-9234-812a3e539c5a",
   "metadata": {
    "tags": []
   },
   "outputs": [],
   "source": [
    "## Adjust sample data columns/ generate some new mappings"
   ]
  },
  {
   "cell_type": "code",
   "execution_count": 182,
   "id": "66ab4bc2-5d2e-48d3-896c-e1af46bc9b61",
   "metadata": {},
   "outputs": [],
   "source": [
    "sample_data$class = sample_data$group"
   ]
  },
  {
   "cell_type": "code",
   "execution_count": 183,
   "id": "1575bb6a-0fa3-4753-8d35-ada309d94114",
   "metadata": {},
   "outputs": [],
   "source": [
    "sample_data$measurement2 = sample_data$measurement"
   ]
  },
  {
   "cell_type": "code",
   "execution_count": 184,
   "id": "901cf041-92b4-4fc0-8ed0-d6d5b5668d37",
   "metadata": {},
   "outputs": [],
   "source": [
    "sample_data$measurement2[sample_data$class %in% c('no_ccs', 'ccs')] = paste0(sample_data$measurement[sample_data$class %in% c('no_ccs', 'ccs')] , '_', sample_data$class[sample_data$class %in% c('no_ccs', 'ccs')])"
   ]
  },
  {
   "cell_type": "code",
   "execution_count": 185,
   "id": "b8e10e51-5055-4bd7-b88e-16eb7d59c7a2",
   "metadata": {},
   "outputs": [],
   "source": [
    "sample_data$measurement_class =  paste0(sample_data$measurement , '_', sample_data$classification)"
   ]
  },
  {
   "cell_type": "code",
   "execution_count": 186,
   "id": "830fd5e6-2d0e-48af-ab63-b4fc77d9f555",
   "metadata": {},
   "outputs": [
    {
     "data": {
      "text/html": [
       "<style>\n",
       ".list-inline {list-style: none; margin:0; padding: 0}\n",
       ".list-inline>li {display: inline-block}\n",
       ".list-inline>li:not(:last-child)::after {content: \"\\00b7\"; padding: 0 .5ex}\n",
       "</style>\n",
       "<ol class=list-inline><li>'TP0_no_ccs'</li><li>'TP0_ccs'</li><li>'TP1'</li><li>'TP2'</li><li>'TP3'</li><li>'TP4'</li></ol>\n"
      ],
      "text/latex": [
       "\\begin{enumerate*}\n",
       "\\item 'TP0\\_no\\_ccs'\n",
       "\\item 'TP0\\_ccs'\n",
       "\\item 'TP1'\n",
       "\\item 'TP2'\n",
       "\\item 'TP3'\n",
       "\\item 'TP4'\n",
       "\\end{enumerate*}\n"
      ],
      "text/markdown": [
       "1. 'TP0_no_ccs'\n",
       "2. 'TP0_ccs'\n",
       "3. 'TP1'\n",
       "4. 'TP2'\n",
       "5. 'TP3'\n",
       "6. 'TP4'\n",
       "\n",
       "\n"
      ],
      "text/plain": [
       "[1] \"TP0_no_ccs\" \"TP0_ccs\"    \"TP1\"        \"TP2\"        \"TP3\"       \n",
       "[6] \"TP4\"       "
      ]
     },
     "metadata": {},
     "output_type": "display_data"
    }
   ],
   "source": [
    "unique(sample_data$measurement2)"
   ]
  },
  {
   "cell_type": "code",
   "execution_count": 187,
   "id": "3a952ede-0745-4a01-9cb5-97ad31799be6",
   "metadata": {},
   "outputs": [
    {
     "data": {
      "text/html": [
       "<style>\n",
       ".list-inline {list-style: none; margin:0; padding: 0}\n",
       ".list-inline>li {display: inline-block}\n",
       ".list-inline>li:not(:last-child)::after {content: \"\\00b7\"; padding: 0 .5ex}\n",
       "</style>\n",
       "<ol class=list-inline><li>'TP0_vollstaendiger_ausschluss'</li><li>'TP0_ccs'</li><li>'TP0_koronarsklerose'</li><li>'TP1_acs_subacute'</li><li>'TP2_acs_subacute'</li><li>'TP3_acs_subacute'</li><li>'TP4_acs_subacute'</li><li>'TP1_acs_w_infection'</li><li>'TP2_acs_w_infection'</li><li>'TP3_acs_w_infection'</li><li>'TP4_acs_w_infection'</li><li>'TP1_acs_w_o_infection'</li><li>'TP2_acs_w_o_infection'</li><li>'TP3_acs_w_o_infection'</li><li>'TP4_acs_w_o_infection'</li></ol>\n"
      ],
      "text/latex": [
       "\\begin{enumerate*}\n",
       "\\item 'TP0\\_vollstaendiger\\_ausschluss'\n",
       "\\item 'TP0\\_ccs'\n",
       "\\item 'TP0\\_koronarsklerose'\n",
       "\\item 'TP1\\_acs\\_subacute'\n",
       "\\item 'TP2\\_acs\\_subacute'\n",
       "\\item 'TP3\\_acs\\_subacute'\n",
       "\\item 'TP4\\_acs\\_subacute'\n",
       "\\item 'TP1\\_acs\\_w\\_infection'\n",
       "\\item 'TP2\\_acs\\_w\\_infection'\n",
       "\\item 'TP3\\_acs\\_w\\_infection'\n",
       "\\item 'TP4\\_acs\\_w\\_infection'\n",
       "\\item 'TP1\\_acs\\_w\\_o\\_infection'\n",
       "\\item 'TP2\\_acs\\_w\\_o\\_infection'\n",
       "\\item 'TP3\\_acs\\_w\\_o\\_infection'\n",
       "\\item 'TP4\\_acs\\_w\\_o\\_infection'\n",
       "\\end{enumerate*}\n"
      ],
      "text/markdown": [
       "1. 'TP0_vollstaendiger_ausschluss'\n",
       "2. 'TP0_ccs'\n",
       "3. 'TP0_koronarsklerose'\n",
       "4. 'TP1_acs_subacute'\n",
       "5. 'TP2_acs_subacute'\n",
       "6. 'TP3_acs_subacute'\n",
       "7. 'TP4_acs_subacute'\n",
       "8. 'TP1_acs_w_infection'\n",
       "9. 'TP2_acs_w_infection'\n",
       "10. 'TP3_acs_w_infection'\n",
       "11. 'TP4_acs_w_infection'\n",
       "12. 'TP1_acs_w_o_infection'\n",
       "13. 'TP2_acs_w_o_infection'\n",
       "14. 'TP3_acs_w_o_infection'\n",
       "15. 'TP4_acs_w_o_infection'\n",
       "\n",
       "\n"
      ],
      "text/plain": [
       " [1] \"TP0_vollstaendiger_ausschluss\" \"TP0_ccs\"                      \n",
       " [3] \"TP0_koronarsklerose\"           \"TP1_acs_subacute\"             \n",
       " [5] \"TP2_acs_subacute\"              \"TP3_acs_subacute\"             \n",
       " [7] \"TP4_acs_subacute\"              \"TP1_acs_w_infection\"          \n",
       " [9] \"TP2_acs_w_infection\"           \"TP3_acs_w_infection\"          \n",
       "[11] \"TP4_acs_w_infection\"           \"TP1_acs_w_o_infection\"        \n",
       "[13] \"TP2_acs_w_o_infection\"         \"TP3_acs_w_o_infection\"        \n",
       "[15] \"TP4_acs_w_o_infection\"        "
      ]
     },
     "metadata": {},
     "output_type": "display_data"
    }
   ],
   "source": [
    "unique(sample_data$measurement_class)"
   ]
  },
  {
   "cell_type": "code",
   "execution_count": 188,
   "id": "c18a51a1-9c9b-4aec-b78e-0152bafb7546",
   "metadata": {},
   "outputs": [],
   "source": [
    "# Summarize good and intermediate outcome    \n",
    "sample_data$delta_ef_value_class_summarized = sample_data$delta_ef_value_class\n",
    "sample_data$delta_ef_value_class_summarized[sample_data$delta_ef_value_class %in% c('intermediate')] = 'good'"
   ]
  },
  {
   "cell_type": "code",
   "execution_count": 189,
   "id": "72b872f0-d874-463c-83b7-134bae1f709c",
   "metadata": {},
   "outputs": [
    {
     "data": {
      "text/html": [
       "<style>\n",
       ".list-inline {list-style: none; margin:0; padding: 0}\n",
       ".list-inline>li {display: inline-block}\n",
       ".list-inline>li:not(:last-child)::after {content: \"\\00b7\"; padding: 0 .5ex}\n",
       "</style>\n",
       "<ol class=list-inline><li>NA</li><li>'bad'</li><li>'good'</li></ol>\n"
      ],
      "text/latex": [
       "\\begin{enumerate*}\n",
       "\\item NA\n",
       "\\item 'bad'\n",
       "\\item 'good'\n",
       "\\end{enumerate*}\n"
      ],
      "text/markdown": [
       "1. NA\n",
       "2. 'bad'\n",
       "3. 'good'\n",
       "\n",
       "\n"
      ],
      "text/plain": [
       "[1] NA     \"bad\"  \"good\""
      ]
     },
     "metadata": {},
     "output_type": "display_data"
    }
   ],
   "source": [
    "unique(sample_data$delta_ef_value_class_summarized)"
   ]
  },
  {
   "cell_type": "code",
   "execution_count": 190,
   "id": "2d739f74-731c-425c-bb3f-7c506abab006",
   "metadata": {},
   "outputs": [],
   "source": [
    "## Concatenate outcome with class"
   ]
  },
  {
   "cell_type": "code",
   "execution_count": 191,
   "id": "b9c5e7ec-caf9-4175-9351-d6a7d48961cc",
   "metadata": {},
   "outputs": [],
   "source": [
    "sample_data$tp_outcome = paste0(sample_data$measurement, '_', sample_data$delta_ef_value_class_summarized)"
   ]
  },
  {
   "cell_type": "code",
   "execution_count": 192,
   "id": "018a68c1-0721-4d33-accf-f8df1055801b",
   "metadata": {},
   "outputs": [
    {
     "data": {
      "text/html": [
       "<style>\n",
       ".list-inline {list-style: none; margin:0; padding: 0}\n",
       ".list-inline>li {display: inline-block}\n",
       ".list-inline>li:not(:last-child)::after {content: \"\\00b7\"; padding: 0 .5ex}\n",
       "</style>\n",
       "<ol class=list-inline><li>'TP0_NA'</li><li>'TP1_NA'</li><li>'TP2_NA'</li><li>'TP3_NA'</li><li>'TP4_NA'</li><li>'TP1_bad'</li><li>'TP2_bad'</li><li>'TP3_bad'</li><li>'TP4_bad'</li><li>'TP1_good'</li><li>'TP2_good'</li><li>'TP3_good'</li><li>'TP4_good'</li></ol>\n"
      ],
      "text/latex": [
       "\\begin{enumerate*}\n",
       "\\item 'TP0\\_NA'\n",
       "\\item 'TP1\\_NA'\n",
       "\\item 'TP2\\_NA'\n",
       "\\item 'TP3\\_NA'\n",
       "\\item 'TP4\\_NA'\n",
       "\\item 'TP1\\_bad'\n",
       "\\item 'TP2\\_bad'\n",
       "\\item 'TP3\\_bad'\n",
       "\\item 'TP4\\_bad'\n",
       "\\item 'TP1\\_good'\n",
       "\\item 'TP2\\_good'\n",
       "\\item 'TP3\\_good'\n",
       "\\item 'TP4\\_good'\n",
       "\\end{enumerate*}\n"
      ],
      "text/markdown": [
       "1. 'TP0_NA'\n",
       "2. 'TP1_NA'\n",
       "3. 'TP2_NA'\n",
       "4. 'TP3_NA'\n",
       "5. 'TP4_NA'\n",
       "6. 'TP1_bad'\n",
       "7. 'TP2_bad'\n",
       "8. 'TP3_bad'\n",
       "9. 'TP4_bad'\n",
       "10. 'TP1_good'\n",
       "11. 'TP2_good'\n",
       "12. 'TP3_good'\n",
       "13. 'TP4_good'\n",
       "\n",
       "\n"
      ],
      "text/plain": [
       " [1] \"TP0_NA\"   \"TP1_NA\"   \"TP2_NA\"   \"TP3_NA\"   \"TP4_NA\"   \"TP1_bad\" \n",
       " [7] \"TP2_bad\"  \"TP3_bad\"  \"TP4_bad\"  \"TP1_good\" \"TP2_good\" \"TP3_good\"\n",
       "[13] \"TP4_good\""
      ]
     },
     "metadata": {},
     "output_type": "display_data"
    }
   ],
   "source": [
    "unique(sample_data$tp_outcome)"
   ]
  },
  {
   "cell_type": "markdown",
   "id": "7fc76615-f42c-4b05-8f4e-f2d6020dc5c4",
   "metadata": {},
   "source": [
    "# Train Prediction Model"
   ]
  },
  {
   "cell_type": "markdown",
   "id": "409492e1-5cb7-4c57-915f-eec103458996",
   "metadata": {
    "tags": []
   },
   "source": [
    "## Prepare Data"
   ]
  },
  {
   "cell_type": "code",
   "execution_count": 193,
   "id": "3db1ee04-e04c-40b6-b50f-80892ea01ff4",
   "metadata": {},
   "outputs": [],
   "source": [
    "# Adjust the format of some columns"
   ]
  },
  {
   "cell_type": "code",
   "execution_count": 194,
   "id": "152376de-22c3-4280-9bdd-ffef779dd419",
   "metadata": {},
   "outputs": [],
   "source": [
    "data_long$sample_id = as.character(data_long$sample_id)"
   ]
  },
  {
   "cell_type": "code",
   "execution_count": 195,
   "id": "2109270c-a45c-4efa-bbbe-aea1b17384e1",
   "metadata": {},
   "outputs": [],
   "source": [
    "data_long$type = str_replace(data_long$variable, '__.*', '')\n",
    "data_long$type = str_replace(data_long$type, '\\\\.', '')"
   ]
  },
  {
   "cell_type": "code",
   "execution_count": 196,
   "id": "2884894f-a3b3-4359-987e-90165e92b5e8",
   "metadata": {},
   "outputs": [],
   "source": [
    "data_long$variable_name = str_replace(data_long$variable, '.*__', '')"
   ]
  },
  {
   "cell_type": "code",
   "execution_count": null,
   "id": "2a897821-5f78-434d-89a3-502cc3fc2511",
   "metadata": {},
   "outputs": [],
   "source": []
  },
  {
   "cell_type": "markdown",
   "id": "b1df6194-5880-41b3-a06c-6de004439d9b",
   "metadata": {},
   "source": [
    "### Prepare train input for all top features of Factor3/4"
   ]
  },
  {
   "cell_type": "code",
   "execution_count": 197,
   "id": "1fffa353-a359-4c45-9844-5e3b7e0e5f52",
   "metadata": {},
   "outputs": [],
   "source": [
    "## Filter on pre-selected features"
   ]
  },
  {
   "cell_type": "code",
   "execution_count": 198,
   "id": "2a0b7ea0-1343-4898-b07d-a55d4f77c106",
   "metadata": {},
   "outputs": [],
   "source": [
    "train_input = merge(data_long, features_gb)  # combine normalized expression data with features"
   ]
  },
  {
   "cell_type": "code",
   "execution_count": 199,
   "id": "023798d2-fcf5-4d45-a269-e4f6452bdec0",
   "metadata": {},
   "outputs": [
    {
     "data": {
      "text/html": [
       "<table class=\"dataframe\">\n",
       "<caption>A data.frame: 2 × 10</caption>\n",
       "<thead>\n",
       "\t<tr><th></th><th scope=col>type</th><th scope=col>variable_name</th><th scope=col>X</th><th scope=col>sample_id</th><th scope=col>variable</th><th scope=col>value</th><th scope=col>feature</th><th scope=col>view</th><th scope=col>Factor4</th><th scope=col>Factor3azimuth</th></tr>\n",
       "\t<tr><th></th><th scope=col>&lt;chr&gt;</th><th scope=col>&lt;chr&gt;</th><th scope=col>&lt;int&gt;</th><th scope=col>&lt;chr&gt;</th><th scope=col>&lt;chr&gt;</th><th scope=col>&lt;dbl&gt;</th><th scope=col>&lt;chr&gt;</th><th scope=col>&lt;chr&gt;</th><th scope=col>&lt;dbl&gt;</th><th scope=col>&lt;dbl&gt;</th></tr>\n",
       "</thead>\n",
       "<tbody>\n",
       "\t<tr><th scope=row>1</th><td>CD4_TCM</td><td>ATP5F1E</td><td>729181</td><td>m26.1</td><td>CD4_TCM__ATP5F1E</td><td>-0.560703</td><td>CD4_TCM__ATP5F1E</td><td>CD4_TCM</td><td>0.7390619</td><td>-0.6764393</td></tr>\n",
       "\t<tr><th scope=row>2</th><td>CD4_TCM</td><td>ATP5F1E</td><td>729174</td><td>m24.1</td><td>CD4_TCM__ATP5F1E</td><td>       NA</td><td>CD4_TCM__ATP5F1E</td><td>CD4_TCM</td><td>0.7390619</td><td>-0.6764393</td></tr>\n",
       "</tbody>\n",
       "</table>\n"
      ],
      "text/latex": [
       "A data.frame: 2 × 10\n",
       "\\begin{tabular}{r|llllllllll}\n",
       "  & type & variable\\_name & X & sample\\_id & variable & value & feature & view & Factor4 & Factor3azimuth\\\\\n",
       "  & <chr> & <chr> & <int> & <chr> & <chr> & <dbl> & <chr> & <chr> & <dbl> & <dbl>\\\\\n",
       "\\hline\n",
       "\t1 & CD4\\_TCM & ATP5F1E & 729181 & m26.1 & CD4\\_TCM\\_\\_ATP5F1E & -0.560703 & CD4\\_TCM\\_\\_ATP5F1E & CD4\\_TCM & 0.7390619 & -0.6764393\\\\\n",
       "\t2 & CD4\\_TCM & ATP5F1E & 729174 & m24.1 & CD4\\_TCM\\_\\_ATP5F1E &        NA & CD4\\_TCM\\_\\_ATP5F1E & CD4\\_TCM & 0.7390619 & -0.6764393\\\\\n",
       "\\end{tabular}\n"
      ],
      "text/markdown": [
       "\n",
       "A data.frame: 2 × 10\n",
       "\n",
       "| <!--/--> | type &lt;chr&gt; | variable_name &lt;chr&gt; | X &lt;int&gt; | sample_id &lt;chr&gt; | variable &lt;chr&gt; | value &lt;dbl&gt; | feature &lt;chr&gt; | view &lt;chr&gt; | Factor4 &lt;dbl&gt; | Factor3azimuth &lt;dbl&gt; |\n",
       "|---|---|---|---|---|---|---|---|---|---|---|\n",
       "| 1 | CD4_TCM | ATP5F1E | 729181 | m26.1 | CD4_TCM__ATP5F1E | -0.560703 | CD4_TCM__ATP5F1E | CD4_TCM | 0.7390619 | -0.6764393 |\n",
       "| 2 | CD4_TCM | ATP5F1E | 729174 | m24.1 | CD4_TCM__ATP5F1E |        NA | CD4_TCM__ATP5F1E | CD4_TCM | 0.7390619 | -0.6764393 |\n",
       "\n"
      ],
      "text/plain": [
       "  type    variable_name X      sample_id variable         value    \n",
       "1 CD4_TCM ATP5F1E       729181 m26.1     CD4_TCM__ATP5F1E -0.560703\n",
       "2 CD4_TCM ATP5F1E       729174 m24.1     CD4_TCM__ATP5F1E        NA\n",
       "  feature          view    Factor4   Factor3azimuth\n",
       "1 CD4_TCM__ATP5F1E CD4_TCM 0.7390619 -0.6764393    \n",
       "2 CD4_TCM__ATP5F1E CD4_TCM 0.7390619 -0.6764393    "
      ]
     },
     "metadata": {},
     "output_type": "display_data"
    }
   ],
   "source": [
    "head(train_input,2)"
   ]
  },
  {
   "cell_type": "code",
   "execution_count": 200,
   "id": "f22c3c2e-6326-49d8-96ac-08cd725272d7",
   "metadata": {},
   "outputs": [],
   "source": [
    "### Transform to wide format"
   ]
  },
  {
   "cell_type": "code",
   "execution_count": 201,
   "id": "b1694242-485d-4f9e-bbb4-c82db2e1aa0d",
   "metadata": {},
   "outputs": [],
   "source": [
    "train_input = train_input %>% dcast(sample_id ~ variable, value.var = 'value')"
   ]
  },
  {
   "cell_type": "code",
   "execution_count": 202,
   "id": "cfde681e-b069-41bb-883c-667a93e01367",
   "metadata": {},
   "outputs": [
    {
     "data": {
      "text/html": [
       "128"
      ],
      "text/latex": [
       "128"
      ],
      "text/markdown": [
       "128"
      ],
      "text/plain": [
       "[1] 128"
      ]
     },
     "metadata": {},
     "output_type": "display_data"
    }
   ],
   "source": [
    "nrow(train_input)"
   ]
  },
  {
   "cell_type": "code",
   "execution_count": 203,
   "id": "66a21fa6-0625-4d21-a5f9-407e780a90bb",
   "metadata": {},
   "outputs": [
    {
     "data": {
      "text/html": [
       "<table class=\"dataframe\">\n",
       "<caption>A data.frame: 2 × 110</caption>\n",
       "<thead>\n",
       "\t<tr><th></th><th scope=col>sample_id</th><th scope=col>CD4_TCM__ATP5F1E</th><th scope=col>CD4_TCM__ATP5ME</th><th scope=col>CD4_TCM__ATP5MPL</th><th scope=col>CD4_TCM__C6orf48</th><th scope=col>CD4_TCM__COX6A1</th><th scope=col>CD4_TCM__COX7C</th><th scope=col>CD4_TCM__EIF1</th><th scope=col>CD4_TCM__EVI2B</th><th scope=col>CD4_TCM__HLA.F</th><th scope=col>⋯</th><th scope=col>Nkdim__GZMB</th><th scope=col>Nkdim__HLA.A</th><th scope=col>Nkdim__HLA.F</th><th scope=col>Nkdim__IQGAP2</th><th scope=col>Nkdim__LITAF</th><th scope=col>Nkdim__POLR2L</th><th scope=col>Nkdim__PRF1</th><th scope=col>Nkdim__RSRP1</th><th scope=col>Nkdim__TMA7</th><th scope=col>Nkdim__TXNIP</th></tr>\n",
       "\t<tr><th></th><th scope=col>&lt;chr&gt;</th><th scope=col>&lt;dbl&gt;</th><th scope=col>&lt;dbl&gt;</th><th scope=col>&lt;dbl&gt;</th><th scope=col>&lt;dbl&gt;</th><th scope=col>&lt;dbl&gt;</th><th scope=col>&lt;dbl&gt;</th><th scope=col>&lt;dbl&gt;</th><th scope=col>&lt;dbl&gt;</th><th scope=col>&lt;dbl&gt;</th><th scope=col>⋯</th><th scope=col>&lt;dbl&gt;</th><th scope=col>&lt;dbl&gt;</th><th scope=col>&lt;dbl&gt;</th><th scope=col>&lt;dbl&gt;</th><th scope=col>&lt;dbl&gt;</th><th scope=col>&lt;dbl&gt;</th><th scope=col>&lt;dbl&gt;</th><th scope=col>&lt;dbl&gt;</th><th scope=col>&lt;dbl&gt;</th><th scope=col>&lt;dbl&gt;</th></tr>\n",
       "</thead>\n",
       "<tbody>\n",
       "\t<tr><th scope=row>1</th><td>k1 </td><td>       NA</td><td>        NA</td><td>      NA</td><td>       NA</td><td>        NA</td><td>        NA</td><td>        NA</td><td>        NA</td><td>      NA</td><td>⋯</td><td>      NA</td><td>       NA</td><td>      NA</td><td>       NA</td><td>      NA</td><td>         NA</td><td>       NA</td><td>         NA</td><td>        NA</td><td>       NA</td></tr>\n",
       "\t<tr><th scope=row>2</th><td>k10</td><td>0.2211187</td><td>0.02089009</td><td>0.512454</td><td>0.4887764</td><td>0.08365173</td><td>0.05224518</td><td>-0.4653698</td><td>-0.1573107</td><td>1.731664</td><td>⋯</td><td>1.191816</td><td>0.7279133</td><td>1.191816</td><td>0.6614351</td><td>1.110772</td><td>-0.01044447</td><td>0.5977601</td><td>-0.01044447</td><td>-0.9674216</td><td>0.9027348</td></tr>\n",
       "</tbody>\n",
       "</table>\n"
      ],
      "text/latex": [
       "A data.frame: 2 × 110\n",
       "\\begin{tabular}{r|lllllllllllllllllllll}\n",
       "  & sample\\_id & CD4\\_TCM\\_\\_ATP5F1E & CD4\\_TCM\\_\\_ATP5ME & CD4\\_TCM\\_\\_ATP5MPL & CD4\\_TCM\\_\\_C6orf48 & CD4\\_TCM\\_\\_COX6A1 & CD4\\_TCM\\_\\_COX7C & CD4\\_TCM\\_\\_EIF1 & CD4\\_TCM\\_\\_EVI2B & CD4\\_TCM\\_\\_HLA.F & ⋯ & Nkdim\\_\\_GZMB & Nkdim\\_\\_HLA.A & Nkdim\\_\\_HLA.F & Nkdim\\_\\_IQGAP2 & Nkdim\\_\\_LITAF & Nkdim\\_\\_POLR2L & Nkdim\\_\\_PRF1 & Nkdim\\_\\_RSRP1 & Nkdim\\_\\_TMA7 & Nkdim\\_\\_TXNIP\\\\\n",
       "  & <chr> & <dbl> & <dbl> & <dbl> & <dbl> & <dbl> & <dbl> & <dbl> & <dbl> & <dbl> & ⋯ & <dbl> & <dbl> & <dbl> & <dbl> & <dbl> & <dbl> & <dbl> & <dbl> & <dbl> & <dbl>\\\\\n",
       "\\hline\n",
       "\t1 & k1  &        NA &         NA &       NA &        NA &         NA &         NA &         NA &         NA &       NA & ⋯ &       NA &        NA &       NA &        NA &       NA &          NA &        NA &          NA &         NA &        NA\\\\\n",
       "\t2 & k10 & 0.2211187 & 0.02089009 & 0.512454 & 0.4887764 & 0.08365173 & 0.05224518 & -0.4653698 & -0.1573107 & 1.731664 & ⋯ & 1.191816 & 0.7279133 & 1.191816 & 0.6614351 & 1.110772 & -0.01044447 & 0.5977601 & -0.01044447 & -0.9674216 & 0.9027348\\\\\n",
       "\\end{tabular}\n"
      ],
      "text/markdown": [
       "\n",
       "A data.frame: 2 × 110\n",
       "\n",
       "| <!--/--> | sample_id &lt;chr&gt; | CD4_TCM__ATP5F1E &lt;dbl&gt; | CD4_TCM__ATP5ME &lt;dbl&gt; | CD4_TCM__ATP5MPL &lt;dbl&gt; | CD4_TCM__C6orf48 &lt;dbl&gt; | CD4_TCM__COX6A1 &lt;dbl&gt; | CD4_TCM__COX7C &lt;dbl&gt; | CD4_TCM__EIF1 &lt;dbl&gt; | CD4_TCM__EVI2B &lt;dbl&gt; | CD4_TCM__HLA.F &lt;dbl&gt; | ⋯ ⋯ | Nkdim__GZMB &lt;dbl&gt; | Nkdim__HLA.A &lt;dbl&gt; | Nkdim__HLA.F &lt;dbl&gt; | Nkdim__IQGAP2 &lt;dbl&gt; | Nkdim__LITAF &lt;dbl&gt; | Nkdim__POLR2L &lt;dbl&gt; | Nkdim__PRF1 &lt;dbl&gt; | Nkdim__RSRP1 &lt;dbl&gt; | Nkdim__TMA7 &lt;dbl&gt; | Nkdim__TXNIP &lt;dbl&gt; |\n",
       "|---|---|---|---|---|---|---|---|---|---|---|---|---|---|---|---|---|---|---|---|---|---|\n",
       "| 1 | k1  |        NA |         NA |       NA |        NA |         NA |         NA |         NA |         NA |       NA | ⋯ |       NA |        NA |       NA |        NA |       NA |          NA |        NA |          NA |         NA |        NA |\n",
       "| 2 | k10 | 0.2211187 | 0.02089009 | 0.512454 | 0.4887764 | 0.08365173 | 0.05224518 | -0.4653698 | -0.1573107 | 1.731664 | ⋯ | 1.191816 | 0.7279133 | 1.191816 | 0.6614351 | 1.110772 | -0.01044447 | 0.5977601 | -0.01044447 | -0.9674216 | 0.9027348 |\n",
       "\n"
      ],
      "text/plain": [
       "  sample_id CD4_TCM__ATP5F1E CD4_TCM__ATP5ME CD4_TCM__ATP5MPL CD4_TCM__C6orf48\n",
       "1 k1               NA                NA            NA                NA       \n",
       "2 k10       0.2211187        0.02089009      0.512454         0.4887764       \n",
       "  CD4_TCM__COX6A1 CD4_TCM__COX7C CD4_TCM__EIF1 CD4_TCM__EVI2B CD4_TCM__HLA.F ⋯\n",
       "1         NA              NA             NA            NA           NA       ⋯\n",
       "2 0.08365173      0.05224518     -0.4653698    -0.1573107     1.731664       ⋯\n",
       "  Nkdim__GZMB Nkdim__HLA.A Nkdim__HLA.F Nkdim__IQGAP2 Nkdim__LITAF\n",
       "1       NA           NA          NA            NA           NA    \n",
       "2 1.191816    0.7279133    1.191816     0.6614351     1.110772    \n",
       "  Nkdim__POLR2L Nkdim__PRF1 Nkdim__RSRP1 Nkdim__TMA7 Nkdim__TXNIP\n",
       "1          NA          NA            NA          NA         NA   \n",
       "2 -0.01044447   0.5977601   -0.01044447  -0.9674216  0.9027348   "
      ]
     },
     "metadata": {},
     "output_type": "display_data"
    }
   ],
   "source": [
    "head(train_input,2)"
   ]
  },
  {
   "cell_type": "code",
   "execution_count": 204,
   "id": "6b86f8b8-2978-42c6-8948-942861350315",
   "metadata": {},
   "outputs": [],
   "source": [
    "### remove samples with only NA values"
   ]
  },
  {
   "cell_type": "code",
   "execution_count": 205,
   "id": "211b60fd-cdd3-4d85-add6-f65e1923ac90",
   "metadata": {},
   "outputs": [],
   "source": [
    "train_input = train_input[!is.na(rowSums(train_input[,2:ncol(train_input)])),]"
   ]
  },
  {
   "cell_type": "code",
   "execution_count": 206,
   "id": "4c6cc604-321c-4186-8795-511817da4714",
   "metadata": {},
   "outputs": [],
   "source": [
    "### Add sample meta-data to train-input"
   ]
  },
  {
   "cell_type": "code",
   "execution_count": 207,
   "id": "89149da8-2f4e-4075-b0c8-8643ec973b33",
   "metadata": {},
   "outputs": [],
   "source": [
    "train_input = merge(train_input, sample_data[,c('sample_id', 'measurement', 'delta_ef_value_class_summarized', 'delta_ef_value', 'classification')], by.x = 'sample_id', by.y = 'sample_id')"
   ]
  },
  {
   "cell_type": "code",
   "execution_count": 208,
   "id": "ea5fc8a0-64ee-4780-a725-dccab6a398d8",
   "metadata": {},
   "outputs": [
    {
     "data": {
      "text/html": [
       "119"
      ],
      "text/latex": [
       "119"
      ],
      "text/markdown": [
       "119"
      ],
      "text/plain": [
       "[1] 119"
      ]
     },
     "metadata": {},
     "output_type": "display_data"
    }
   ],
   "source": [
    "nrow(train_input)"
   ]
  },
  {
   "cell_type": "code",
   "execution_count": 209,
   "id": "81ed5dc8-7a6b-41c9-a19d-9bf8b770c904",
   "metadata": {},
   "outputs": [],
   "source": [
    "### Filter on only TP1 observations"
   ]
  },
  {
   "cell_type": "code",
   "execution_count": 210,
   "id": "16de92cc-354e-4ca8-a9d9-11a20989e0c2",
   "metadata": {},
   "outputs": [],
   "source": [
    "train_input = train_input[train_input$measurement == 'TP1',]"
   ]
  },
  {
   "cell_type": "code",
   "execution_count": 211,
   "id": "63e6ec6b-f9e4-4761-9507-6175f13fe9a2",
   "metadata": {},
   "outputs": [
    {
     "data": {
      "text/html": [
       "22"
      ],
      "text/latex": [
       "22"
      ],
      "text/markdown": [
       "22"
      ],
      "text/plain": [
       "[1] 22"
      ]
     },
     "metadata": {},
     "output_type": "display_data"
    }
   ],
   "source": [
    "nrow(train_input)"
   ]
  },
  {
   "cell_type": "code",
   "execution_count": 212,
   "id": "1b755765-7848-4911-a0ce-d253f9c453d1",
   "metadata": {},
   "outputs": [
    {
     "data": {
      "text/html": [
       "<table class=\"dataframe\">\n",
       "<caption>A data.frame: 2 × 114</caption>\n",
       "<thead>\n",
       "\t<tr><th></th><th scope=col>sample_id</th><th scope=col>CD4_TCM__ATP5F1E</th><th scope=col>CD4_TCM__ATP5ME</th><th scope=col>CD4_TCM__ATP5MPL</th><th scope=col>CD4_TCM__C6orf48</th><th scope=col>CD4_TCM__COX6A1</th><th scope=col>CD4_TCM__COX7C</th><th scope=col>CD4_TCM__EIF1</th><th scope=col>CD4_TCM__EVI2B</th><th scope=col>CD4_TCM__HLA.F</th><th scope=col>⋯</th><th scope=col>Nkdim__LITAF</th><th scope=col>Nkdim__POLR2L</th><th scope=col>Nkdim__PRF1</th><th scope=col>Nkdim__RSRP1</th><th scope=col>Nkdim__TMA7</th><th scope=col>Nkdim__TXNIP</th><th scope=col>measurement</th><th scope=col>delta_ef_value_class_summarized</th><th scope=col>delta_ef_value</th><th scope=col>classification</th></tr>\n",
       "\t<tr><th></th><th scope=col>&lt;chr&gt;</th><th scope=col>&lt;dbl&gt;</th><th scope=col>&lt;dbl&gt;</th><th scope=col>&lt;dbl&gt;</th><th scope=col>&lt;dbl&gt;</th><th scope=col>&lt;dbl&gt;</th><th scope=col>&lt;dbl&gt;</th><th scope=col>&lt;dbl&gt;</th><th scope=col>&lt;dbl&gt;</th><th scope=col>&lt;dbl&gt;</th><th scope=col>⋯</th><th scope=col>&lt;dbl&gt;</th><th scope=col>&lt;dbl&gt;</th><th scope=col>&lt;dbl&gt;</th><th scope=col>&lt;dbl&gt;</th><th scope=col>&lt;dbl&gt;</th><th scope=col>&lt;dbl&gt;</th><th scope=col>&lt;chr&gt;</th><th scope=col>&lt;chr&gt;</th><th scope=col>&lt;dbl&gt;</th><th scope=col>&lt;chr&gt;</th></tr>\n",
       "</thead>\n",
       "<tbody>\n",
       "\t<tr><th scope=row>34</th><td>m1.1 </td><td> 0.8268302</td><td> 0.3076702</td><td> 1.439531</td><td>0.08365173</td><td> 1.0364334</td><td> 0.7009514</td><td>0.2858409</td><td>-0.7835004</td><td>-0.01044447</td><td>⋯</td><td>0.93458929</td><td>-0.1678940</td><td>1.258162</td><td>-0.1573107</td><td> 0.9027348</td><td>1.439531</td><td>TP1</td><td>NA</td><td>NA</td><td>acs_subacute     </td></tr>\n",
       "\t<tr><th scope=row>40</th><td>m12.1</td><td>-1.2133396</td><td>-1.0364334</td><td>-1.191816</td><td>1.13033917</td><td>-0.7009514</td><td>-1.3056645</td><td>0.5607030</td><td> 1.8339146</td><td> 0.52440051</td><td>⋯</td><td>0.06270678</td><td>-0.7279133</td><td>1.001331</td><td> 0.5005801</td><td>-1.8339146</td><td>1.281552</td><td>TP1</td><td>NA</td><td>NA</td><td>acs_w_o_infection</td></tr>\n",
       "</tbody>\n",
       "</table>\n"
      ],
      "text/latex": [
       "A data.frame: 2 × 114\n",
       "\\begin{tabular}{r|lllllllllllllllllllll}\n",
       "  & sample\\_id & CD4\\_TCM\\_\\_ATP5F1E & CD4\\_TCM\\_\\_ATP5ME & CD4\\_TCM\\_\\_ATP5MPL & CD4\\_TCM\\_\\_C6orf48 & CD4\\_TCM\\_\\_COX6A1 & CD4\\_TCM\\_\\_COX7C & CD4\\_TCM\\_\\_EIF1 & CD4\\_TCM\\_\\_EVI2B & CD4\\_TCM\\_\\_HLA.F & ⋯ & Nkdim\\_\\_LITAF & Nkdim\\_\\_POLR2L & Nkdim\\_\\_PRF1 & Nkdim\\_\\_RSRP1 & Nkdim\\_\\_TMA7 & Nkdim\\_\\_TXNIP & measurement & delta\\_ef\\_value\\_class\\_summarized & delta\\_ef\\_value & classification\\\\\n",
       "  & <chr> & <dbl> & <dbl> & <dbl> & <dbl> & <dbl> & <dbl> & <dbl> & <dbl> & <dbl> & ⋯ & <dbl> & <dbl> & <dbl> & <dbl> & <dbl> & <dbl> & <chr> & <chr> & <dbl> & <chr>\\\\\n",
       "\\hline\n",
       "\t34 & m1.1  &  0.8268302 &  0.3076702 &  1.439531 & 0.08365173 &  1.0364334 &  0.7009514 & 0.2858409 & -0.7835004 & -0.01044447 & ⋯ & 0.93458929 & -0.1678940 & 1.258162 & -0.1573107 &  0.9027348 & 1.439531 & TP1 & NA & NA & acs\\_subacute     \\\\\n",
       "\t40 & m12.1 & -1.2133396 & -1.0364334 & -1.191816 & 1.13033917 & -0.7009514 & -1.3056645 & 0.5607030 &  1.8339146 &  0.52440051 & ⋯ & 0.06270678 & -0.7279133 & 1.001331 &  0.5005801 & -1.8339146 & 1.281552 & TP1 & NA & NA & acs\\_w\\_o\\_infection\\\\\n",
       "\\end{tabular}\n"
      ],
      "text/markdown": [
       "\n",
       "A data.frame: 2 × 114\n",
       "\n",
       "| <!--/--> | sample_id &lt;chr&gt; | CD4_TCM__ATP5F1E &lt;dbl&gt; | CD4_TCM__ATP5ME &lt;dbl&gt; | CD4_TCM__ATP5MPL &lt;dbl&gt; | CD4_TCM__C6orf48 &lt;dbl&gt; | CD4_TCM__COX6A1 &lt;dbl&gt; | CD4_TCM__COX7C &lt;dbl&gt; | CD4_TCM__EIF1 &lt;dbl&gt; | CD4_TCM__EVI2B &lt;dbl&gt; | CD4_TCM__HLA.F &lt;dbl&gt; | ⋯ ⋯ | Nkdim__LITAF &lt;dbl&gt; | Nkdim__POLR2L &lt;dbl&gt; | Nkdim__PRF1 &lt;dbl&gt; | Nkdim__RSRP1 &lt;dbl&gt; | Nkdim__TMA7 &lt;dbl&gt; | Nkdim__TXNIP &lt;dbl&gt; | measurement &lt;chr&gt; | delta_ef_value_class_summarized &lt;chr&gt; | delta_ef_value &lt;dbl&gt; | classification &lt;chr&gt; |\n",
       "|---|---|---|---|---|---|---|---|---|---|---|---|---|---|---|---|---|---|---|---|---|---|\n",
       "| 34 | m1.1  |  0.8268302 |  0.3076702 |  1.439531 | 0.08365173 |  1.0364334 |  0.7009514 | 0.2858409 | -0.7835004 | -0.01044447 | ⋯ | 0.93458929 | -0.1678940 | 1.258162 | -0.1573107 |  0.9027348 | 1.439531 | TP1 | NA | NA | acs_subacute      |\n",
       "| 40 | m12.1 | -1.2133396 | -1.0364334 | -1.191816 | 1.13033917 | -0.7009514 | -1.3056645 | 0.5607030 |  1.8339146 |  0.52440051 | ⋯ | 0.06270678 | -0.7279133 | 1.001331 |  0.5005801 | -1.8339146 | 1.281552 | TP1 | NA | NA | acs_w_o_infection |\n",
       "\n"
      ],
      "text/plain": [
       "   sample_id CD4_TCM__ATP5F1E CD4_TCM__ATP5ME CD4_TCM__ATP5MPL CD4_TCM__C6orf48\n",
       "34 m1.1       0.8268302        0.3076702       1.439531        0.08365173      \n",
       "40 m12.1     -1.2133396       -1.0364334      -1.191816        1.13033917      \n",
       "   CD4_TCM__COX6A1 CD4_TCM__COX7C CD4_TCM__EIF1 CD4_TCM__EVI2B CD4_TCM__HLA.F ⋯\n",
       "34  1.0364334       0.7009514     0.2858409     -0.7835004     -0.01044447    ⋯\n",
       "40 -0.7009514      -1.3056645     0.5607030      1.8339146      0.52440051    ⋯\n",
       "   Nkdim__LITAF Nkdim__POLR2L Nkdim__PRF1 Nkdim__RSRP1 Nkdim__TMA7 Nkdim__TXNIP\n",
       "34 0.93458929   -0.1678940    1.258162    -0.1573107    0.9027348  1.439531    \n",
       "40 0.06270678   -0.7279133    1.001331     0.5005801   -1.8339146  1.281552    \n",
       "   measurement delta_ef_value_class_summarized delta_ef_value classification   \n",
       "34 TP1         NA                              NA             acs_subacute     \n",
       "40 TP1         NA                              NA             acs_w_o_infection"
      ]
     },
     "metadata": {},
     "output_type": "display_data"
    }
   ],
   "source": [
    "head(train_input,2)"
   ]
  },
  {
   "cell_type": "code",
   "execution_count": 213,
   "id": "87869fda-a85f-4cf6-b322-8ce0fb3fea58",
   "metadata": {},
   "outputs": [],
   "source": [
    "## Generate y column that should be predicted based on outcome"
   ]
  },
  {
   "cell_type": "code",
   "execution_count": 214,
   "id": "68c06fc9-9db8-4a6f-8646-1d9ad309665a",
   "metadata": {},
   "outputs": [],
   "source": [
    "train_input$y = NA\n",
    "train_input$y[train_input$delta_ef_value_class_summarized == 'good'] = 0 \n",
    "train_input$y[train_input$delta_ef_value_class_summarized == 'bad'] = 1 "
   ]
  },
  {
   "cell_type": "code",
   "execution_count": 215,
   "id": "323fa30e-e8fa-4b11-9ba2-c6508b9fa286",
   "metadata": {},
   "outputs": [
    {
     "data": {
      "text/html": [
       "<table class=\"dataframe\">\n",
       "<caption>A grouped_df: 3 × 2</caption>\n",
       "<thead>\n",
       "\t<tr><th scope=col>y</th><th scope=col>n</th></tr>\n",
       "\t<tr><th scope=col>&lt;dbl&gt;</th><th scope=col>&lt;int&gt;</th></tr>\n",
       "</thead>\n",
       "<tbody>\n",
       "\t<tr><td> 0</td><td>13</td></tr>\n",
       "\t<tr><td> 1</td><td> 4</td></tr>\n",
       "\t<tr><td>NA</td><td> 5</td></tr>\n",
       "</tbody>\n",
       "</table>\n"
      ],
      "text/latex": [
       "A grouped\\_df: 3 × 2\n",
       "\\begin{tabular}{ll}\n",
       " y & n\\\\\n",
       " <dbl> & <int>\\\\\n",
       "\\hline\n",
       "\t  0 & 13\\\\\n",
       "\t  1 &  4\\\\\n",
       "\t NA &  5\\\\\n",
       "\\end{tabular}\n"
      ],
      "text/markdown": [
       "\n",
       "A grouped_df: 3 × 2\n",
       "\n",
       "| y &lt;dbl&gt; | n &lt;int&gt; |\n",
       "|---|---|\n",
       "|  0 | 13 |\n",
       "|  1 |  4 |\n",
       "| NA |  5 |\n",
       "\n"
      ],
      "text/plain": [
       "  y  n \n",
       "1  0 13\n",
       "2  1  4\n",
       "3 NA  5"
      ]
     },
     "metadata": {},
     "output_type": "display_data"
    }
   ],
   "source": [
    "## Overview amount of samples per y-class\n",
    "train_input %>% group_by(y) %>% count()"
   ]
  },
  {
   "cell_type": "markdown",
   "id": "6962fba4-9389-4238-b93b-a8582046c9f3",
   "metadata": {
    "tags": []
   },
   "source": [
    "### Prepare train input for NK cell feature model"
   ]
  },
  {
   "cell_type": "code",
   "execution_count": 216,
   "id": "0f199135-4214-4437-9061-ad93fff32ee1",
   "metadata": {},
   "outputs": [],
   "source": [
    "### Filter normalized expression data only on selected NK cell features"
   ]
  },
  {
   "cell_type": "code",
   "execution_count": 217,
   "id": "e3bfc1b1-0f28-4036-8406-06feed972c6b",
   "metadata": {},
   "outputs": [],
   "source": [
    "train_input_NK = merge(data_long, features_gb_NK)"
   ]
  },
  {
   "cell_type": "code",
   "execution_count": 218,
   "id": "cada30af-ce67-4ea6-bf86-ac8304201754",
   "metadata": {},
   "outputs": [
    {
     "data": {
      "text/html": [
       "<table class=\"dataframe\">\n",
       "<caption>A data.frame: 2 × 10</caption>\n",
       "<thead>\n",
       "\t<tr><th></th><th scope=col>type</th><th scope=col>variable_name</th><th scope=col>X</th><th scope=col>sample_id</th><th scope=col>variable</th><th scope=col>value</th><th scope=col>feature</th><th scope=col>view</th><th scope=col>Factor4</th><th scope=col>Factor3azimuth</th></tr>\n",
       "\t<tr><th></th><th scope=col>&lt;chr&gt;</th><th scope=col>&lt;chr&gt;</th><th scope=col>&lt;int&gt;</th><th scope=col>&lt;chr&gt;</th><th scope=col>&lt;chr&gt;</th><th scope=col>&lt;dbl&gt;</th><th scope=col>&lt;chr&gt;</th><th scope=col>&lt;chr&gt;</th><th scope=col>&lt;dbl&gt;</th><th scope=col>&lt;dbl&gt;</th></tr>\n",
       "</thead>\n",
       "<tbody>\n",
       "\t<tr><th scope=row>1</th><td>Nkdim</td><td>CD53</td><td>1070209</td><td>k1 </td><td>Nkdim__CD53</td><td>        NA</td><td>Nkdim__CD53</td><td>Nkdim</td><td>-0.6532577</td><td>0.5319476</td></tr>\n",
       "\t<tr><th scope=row>2</th><td>Nkdim</td><td>CD53</td><td>1070221</td><td>k20</td><td>Nkdim__CD53</td><td>-0.4537622</td><td>Nkdim__CD53</td><td>Nkdim</td><td>-0.6532577</td><td>0.5319476</td></tr>\n",
       "</tbody>\n",
       "</table>\n"
      ],
      "text/latex": [
       "A data.frame: 2 × 10\n",
       "\\begin{tabular}{r|llllllllll}\n",
       "  & type & variable\\_name & X & sample\\_id & variable & value & feature & view & Factor4 & Factor3azimuth\\\\\n",
       "  & <chr> & <chr> & <int> & <chr> & <chr> & <dbl> & <chr> & <chr> & <dbl> & <dbl>\\\\\n",
       "\\hline\n",
       "\t1 & Nkdim & CD53 & 1070209 & k1  & Nkdim\\_\\_CD53 &         NA & Nkdim\\_\\_CD53 & Nkdim & -0.6532577 & 0.5319476\\\\\n",
       "\t2 & Nkdim & CD53 & 1070221 & k20 & Nkdim\\_\\_CD53 & -0.4537622 & Nkdim\\_\\_CD53 & Nkdim & -0.6532577 & 0.5319476\\\\\n",
       "\\end{tabular}\n"
      ],
      "text/markdown": [
       "\n",
       "A data.frame: 2 × 10\n",
       "\n",
       "| <!--/--> | type &lt;chr&gt; | variable_name &lt;chr&gt; | X &lt;int&gt; | sample_id &lt;chr&gt; | variable &lt;chr&gt; | value &lt;dbl&gt; | feature &lt;chr&gt; | view &lt;chr&gt; | Factor4 &lt;dbl&gt; | Factor3azimuth &lt;dbl&gt; |\n",
       "|---|---|---|---|---|---|---|---|---|---|---|\n",
       "| 1 | Nkdim | CD53 | 1070209 | k1  | Nkdim__CD53 |         NA | Nkdim__CD53 | Nkdim | -0.6532577 | 0.5319476 |\n",
       "| 2 | Nkdim | CD53 | 1070221 | k20 | Nkdim__CD53 | -0.4537622 | Nkdim__CD53 | Nkdim | -0.6532577 | 0.5319476 |\n",
       "\n"
      ],
      "text/plain": [
       "  type  variable_name X       sample_id variable    value      feature    \n",
       "1 Nkdim CD53          1070209 k1        Nkdim__CD53         NA Nkdim__CD53\n",
       "2 Nkdim CD53          1070221 k20       Nkdim__CD53 -0.4537622 Nkdim__CD53\n",
       "  view  Factor4    Factor3azimuth\n",
       "1 Nkdim -0.6532577 0.5319476     \n",
       "2 Nkdim -0.6532577 0.5319476     "
      ]
     },
     "metadata": {},
     "output_type": "display_data"
    }
   ],
   "source": [
    "head(train_input_NK,2)"
   ]
  },
  {
   "cell_type": "code",
   "execution_count": 219,
   "id": "9e5e0e37-b9f5-4f1e-bfd4-b7d8898108d7",
   "metadata": {},
   "outputs": [],
   "source": [
    "### Transform to wide format"
   ]
  },
  {
   "cell_type": "code",
   "execution_count": 220,
   "id": "5fa9e919-0e65-4fb1-b0ce-4156388a8c94",
   "metadata": {},
   "outputs": [],
   "source": [
    "train_input_NK = train_input_NK %>% dcast(sample_id ~ variable, value.var = 'value')"
   ]
  },
  {
   "cell_type": "code",
   "execution_count": 221,
   "id": "958b6af6-8927-4d0b-a6a0-b1ec7e67ddfc",
   "metadata": {},
   "outputs": [],
   "source": [
    "### Remove samples with only NA values in sc data"
   ]
  },
  {
   "cell_type": "code",
   "execution_count": 222,
   "id": "42b81b3d-48dd-412b-8f86-fd50432c4149",
   "metadata": {},
   "outputs": [],
   "source": [
    "train_input_NK = train_input_NK[!is.na(rowSums(train_input_NK[,2:ncol(train_input_NK)])),]"
   ]
  },
  {
   "cell_type": "code",
   "execution_count": 223,
   "id": "d55c8f72-17c1-4a95-b4fd-fe0e6c768736",
   "metadata": {},
   "outputs": [
    {
     "data": {
      "text/html": [
       "119"
      ],
      "text/latex": [
       "119"
      ],
      "text/markdown": [
       "119"
      ],
      "text/plain": [
       "[1] 119"
      ]
     },
     "metadata": {},
     "output_type": "display_data"
    }
   ],
   "source": [
    "nrow(train_input_NK)"
   ]
  },
  {
   "cell_type": "code",
   "execution_count": 224,
   "id": "b828b84e-bc13-4c29-bdcd-2e554972be64",
   "metadata": {},
   "outputs": [],
   "source": [
    "### Add sample meta-data to train input"
   ]
  },
  {
   "cell_type": "code",
   "execution_count": 225,
   "id": "46440131-6d98-482d-9f7d-674df95c72b7",
   "metadata": {},
   "outputs": [],
   "source": [
    "train_input_NK = merge(train_input_NK, sample_data[,c('sample_id', 'measurement', 'delta_ef_value_class_summarized', 'delta_ef_value', 'classification')], by.x = 'sample_id', by.y = 'sample_id')"
   ]
  },
  {
   "cell_type": "code",
   "execution_count": 226,
   "id": "47418537-8ec8-4335-a3d9-5e6600959a00",
   "metadata": {},
   "outputs": [
    {
     "data": {
      "text/html": [
       "119"
      ],
      "text/latex": [
       "119"
      ],
      "text/markdown": [
       "119"
      ],
      "text/plain": [
       "[1] 119"
      ]
     },
     "metadata": {},
     "output_type": "display_data"
    }
   ],
   "source": [
    "nrow(train_input_NK)"
   ]
  },
  {
   "cell_type": "code",
   "execution_count": 227,
   "id": "7d42cbbd-335f-4caa-9e28-ecdff3552a27",
   "metadata": {},
   "outputs": [],
   "source": [
    "### Filter on ony TP1 observations"
   ]
  },
  {
   "cell_type": "code",
   "execution_count": 228,
   "id": "4aa5f79e-bd53-4348-a896-369b333edb68",
   "metadata": {},
   "outputs": [],
   "source": [
    "train_input_NK= train_input_NK[train_input_NK$measurement == 'TP1',]"
   ]
  },
  {
   "cell_type": "code",
   "execution_count": 229,
   "id": "43c65304-7492-48fb-82b0-aa769645ab8a",
   "metadata": {},
   "outputs": [
    {
     "data": {
      "text/html": [
       "22"
      ],
      "text/latex": [
       "22"
      ],
      "text/markdown": [
       "22"
      ],
      "text/plain": [
       "[1] 22"
      ]
     },
     "metadata": {},
     "output_type": "display_data"
    }
   ],
   "source": [
    "nrow(train_input_NK)"
   ]
  },
  {
   "cell_type": "code",
   "execution_count": 230,
   "id": "e7706ed7-e6a8-439f-9f72-67af979fa0fc",
   "metadata": {},
   "outputs": [],
   "source": [
    "### Generate prediction column y based on outcome"
   ]
  },
  {
   "cell_type": "code",
   "execution_count": 231,
   "id": "ca299c87-da4f-45ac-ae72-1860208d0679",
   "metadata": {},
   "outputs": [],
   "source": [
    "train_input_NK$y = NA\n",
    "train_input_NK$y[train_input_NK$delta_ef_value_class_summarized == 'good'] = 0 \n",
    "train_input_NK$y[train_input_NK$delta_ef_value_class_summarized == 'bad'] = 1 "
   ]
  },
  {
   "cell_type": "code",
   "execution_count": 232,
   "id": "655c6286-7f7a-40a8-a47a-5429d85345dc",
   "metadata": {},
   "outputs": [
    {
     "data": {
      "text/html": [
       "<style>\n",
       ".list-inline {list-style: none; margin:0; padding: 0}\n",
       ".list-inline>li {display: inline-block}\n",
       ".list-inline>li:not(:last-child)::after {content: \"\\00b7\"; padding: 0 .5ex}\n",
       "</style>\n",
       "<ol class=list-inline><li>NA</li><li>'bad'</li><li>'good'</li></ol>\n"
      ],
      "text/latex": [
       "\\begin{enumerate*}\n",
       "\\item NA\n",
       "\\item 'bad'\n",
       "\\item 'good'\n",
       "\\end{enumerate*}\n"
      ],
      "text/markdown": [
       "1. NA\n",
       "2. 'bad'\n",
       "3. 'good'\n",
       "\n",
       "\n"
      ],
      "text/plain": [
       "[1] NA     \"bad\"  \"good\""
      ]
     },
     "metadata": {},
     "output_type": "display_data"
    }
   ],
   "source": [
    "unique(train_input_NK$delta_ef_value_class_summarized)"
   ]
  },
  {
   "cell_type": "markdown",
   "id": "f55bed91-2c86-4b44-a797-c3f73907c5fb",
   "metadata": {},
   "source": [
    "## Train Model"
   ]
  },
  {
   "cell_type": "markdown",
   "id": "cdb56ad6-8dc8-4121-a2d9-a324d3b26ea5",
   "metadata": {},
   "source": [
    "### Model for top Factor3/Factor4 Features"
   ]
  },
  {
   "cell_type": "code",
   "execution_count": 233,
   "id": "e566396b-08af-41af-b3bb-a120356c5fce",
   "metadata": {},
   "outputs": [],
   "source": [
    "## Remove NA outcomes"
   ]
  },
  {
   "cell_type": "code",
   "execution_count": 234,
   "id": "1824d583-4ffb-48e7-a4ab-04cf5a6eea12",
   "metadata": {},
   "outputs": [],
   "source": [
    "train_input = train_input[!is.na(train_input$y),]"
   ]
  },
  {
   "cell_type": "code",
   "execution_count": 235,
   "id": "749ceffb-5132-4ec6-8589-bb3305024e49",
   "metadata": {},
   "outputs": [],
   "source": [
    "## Define y and predictor variables x ; remove unnnecessary columns from x"
   ]
  },
  {
   "cell_type": "code",
   "execution_count": 236,
   "id": "f241ec55-800e-4ecb-9e7a-9c5b0652e1a4",
   "metadata": {},
   "outputs": [],
   "source": [
    "y = train_input$y\n",
    "x = train_input\n",
    "x$sample_id = NULL\n",
    "x$measurement = NULL\n",
    "x$delta_ef_value_class_summarized = NULL\n",
    "x$delta_ef_value = NULL\n",
    "x$y = NULL\n",
    "x$classification = NULL\n",
    "x = data.matrix(x)"
   ]
  },
  {
   "cell_type": "code",
   "execution_count": 237,
   "id": "339289e4-e176-484f-bb70-bd4a22f264d7",
   "metadata": {},
   "outputs": [
    {
     "data": {
      "text/html": [
       "17"
      ],
      "text/latex": [
       "17"
      ],
      "text/markdown": [
       "17"
      ],
      "text/plain": [
       "[1] 17"
      ]
     },
     "metadata": {},
     "output_type": "display_data"
    }
   ],
   "source": [
    "nrow(train_input)"
   ]
  },
  {
   "cell_type": "code",
   "execution_count": 238,
   "id": "ab4db29d-1108-49de-84d0-0495468095f3",
   "metadata": {},
   "outputs": [],
   "source": [
    "### Explanatory features matrix"
   ]
  },
  {
   "cell_type": "code",
   "execution_count": 239,
   "id": "ba29ad93-7660-452e-bb14-3659200f01d7",
   "metadata": {},
   "outputs": [
    {
     "data": {
      "text/html": [
       "<table class=\"dataframe\">\n",
       "<caption>A matrix: 2 × 109 of type dbl</caption>\n",
       "<thead>\n",
       "\t<tr><th></th><th scope=col>CD4_TCM__ATP5F1E</th><th scope=col>CD4_TCM__ATP5ME</th><th scope=col>CD4_TCM__ATP5MPL</th><th scope=col>CD4_TCM__C6orf48</th><th scope=col>CD4_TCM__COX6A1</th><th scope=col>CD4_TCM__COX7C</th><th scope=col>CD4_TCM__EIF1</th><th scope=col>CD4_TCM__EVI2B</th><th scope=col>CD4_TCM__HLA.F</th><th scope=col>CD4_TCM__HNRNPDL</th><th scope=col>⋯</th><th scope=col>Nkdim__GZMB</th><th scope=col>Nkdim__HLA.A</th><th scope=col>Nkdim__HLA.F</th><th scope=col>Nkdim__IQGAP2</th><th scope=col>Nkdim__LITAF</th><th scope=col>Nkdim__POLR2L</th><th scope=col>Nkdim__PRF1</th><th scope=col>Nkdim__RSRP1</th><th scope=col>Nkdim__TMA7</th><th scope=col>Nkdim__TXNIP</th></tr>\n",
       "</thead>\n",
       "<tbody>\n",
       "\t<tr><th scope=row>42</th><td>-1.731664</td><td>-1.330562</td><td> 0.1997621</td><td>1.130339</td><td>0.1891184</td><td>-1.501086</td><td>1.330562</td><td>0.01044447</td><td>1.568920</td><td>-2.3939798</td><td>⋯</td><td>0.9345893</td><td>1.501086</td><td>0.871771</td><td>1.110772</td><td>1.5010859</td><td>-1.439531</td><td>0.6744898</td><td>-0.2318344</td><td>-1.235440</td><td>0.5485223</td></tr>\n",
       "\t<tr><th scope=row>46</th><td>-1.439531</td><td>-1.959964</td><td>-1.0013313</td><td>1.191816</td><td>0.1467450</td><td>-1.780464</td><td>2.393980</td><td>0.84162123</td><td>1.833915</td><td>-0.5485223</td><td>⋯</td><td>0.9345893</td><td>1.191816</td><td>2.393980</td><td>1.501086</td><td>0.9345893</td><td>-1.191816</td><td>2.1280452</td><td>-1.2354403</td><td>-1.534121</td><td>0.8565988</td></tr>\n",
       "</tbody>\n",
       "</table>\n"
      ],
      "text/latex": [
       "A matrix: 2 × 109 of type dbl\n",
       "\\begin{tabular}{r|lllllllllllllllllllll}\n",
       "  & CD4\\_TCM\\_\\_ATP5F1E & CD4\\_TCM\\_\\_ATP5ME & CD4\\_TCM\\_\\_ATP5MPL & CD4\\_TCM\\_\\_C6orf48 & CD4\\_TCM\\_\\_COX6A1 & CD4\\_TCM\\_\\_COX7C & CD4\\_TCM\\_\\_EIF1 & CD4\\_TCM\\_\\_EVI2B & CD4\\_TCM\\_\\_HLA.F & CD4\\_TCM\\_\\_HNRNPDL & ⋯ & Nkdim\\_\\_GZMB & Nkdim\\_\\_HLA.A & Nkdim\\_\\_HLA.F & Nkdim\\_\\_IQGAP2 & Nkdim\\_\\_LITAF & Nkdim\\_\\_POLR2L & Nkdim\\_\\_PRF1 & Nkdim\\_\\_RSRP1 & Nkdim\\_\\_TMA7 & Nkdim\\_\\_TXNIP\\\\\n",
       "\\hline\n",
       "\t42 & -1.731664 & -1.330562 &  0.1997621 & 1.130339 & 0.1891184 & -1.501086 & 1.330562 & 0.01044447 & 1.568920 & -2.3939798 & ⋯ & 0.9345893 & 1.501086 & 0.871771 & 1.110772 & 1.5010859 & -1.439531 & 0.6744898 & -0.2318344 & -1.235440 & 0.5485223\\\\\n",
       "\t46 & -1.439531 & -1.959964 & -1.0013313 & 1.191816 & 0.1467450 & -1.780464 & 2.393980 & 0.84162123 & 1.833915 & -0.5485223 & ⋯ & 0.9345893 & 1.191816 & 2.393980 & 1.501086 & 0.9345893 & -1.191816 & 2.1280452 & -1.2354403 & -1.534121 & 0.8565988\\\\\n",
       "\\end{tabular}\n"
      ],
      "text/markdown": [
       "\n",
       "A matrix: 2 × 109 of type dbl\n",
       "\n",
       "| <!--/--> | CD4_TCM__ATP5F1E | CD4_TCM__ATP5ME | CD4_TCM__ATP5MPL | CD4_TCM__C6orf48 | CD4_TCM__COX6A1 | CD4_TCM__COX7C | CD4_TCM__EIF1 | CD4_TCM__EVI2B | CD4_TCM__HLA.F | CD4_TCM__HNRNPDL | ⋯ | Nkdim__GZMB | Nkdim__HLA.A | Nkdim__HLA.F | Nkdim__IQGAP2 | Nkdim__LITAF | Nkdim__POLR2L | Nkdim__PRF1 | Nkdim__RSRP1 | Nkdim__TMA7 | Nkdim__TXNIP |\n",
       "|---|---|---|---|---|---|---|---|---|---|---|---|---|---|---|---|---|---|---|---|---|---|\n",
       "| 42 | -1.731664 | -1.330562 |  0.1997621 | 1.130339 | 0.1891184 | -1.501086 | 1.330562 | 0.01044447 | 1.568920 | -2.3939798 | ⋯ | 0.9345893 | 1.501086 | 0.871771 | 1.110772 | 1.5010859 | -1.439531 | 0.6744898 | -0.2318344 | -1.235440 | 0.5485223 |\n",
       "| 46 | -1.439531 | -1.959964 | -1.0013313 | 1.191816 | 0.1467450 | -1.780464 | 2.393980 | 0.84162123 | 1.833915 | -0.5485223 | ⋯ | 0.9345893 | 1.191816 | 2.393980 | 1.501086 | 0.9345893 | -1.191816 | 2.1280452 | -1.2354403 | -1.534121 | 0.8565988 |\n",
       "\n"
      ],
      "text/plain": [
       "   CD4_TCM__ATP5F1E CD4_TCM__ATP5ME CD4_TCM__ATP5MPL CD4_TCM__C6orf48\n",
       "42 -1.731664        -1.330562        0.1997621       1.130339        \n",
       "46 -1.439531        -1.959964       -1.0013313       1.191816        \n",
       "   CD4_TCM__COX6A1 CD4_TCM__COX7C CD4_TCM__EIF1 CD4_TCM__EVI2B CD4_TCM__HLA.F\n",
       "42 0.1891184       -1.501086      1.330562      0.01044447     1.568920      \n",
       "46 0.1467450       -1.780464      2.393980      0.84162123     1.833915      \n",
       "   CD4_TCM__HNRNPDL ⋯ Nkdim__GZMB Nkdim__HLA.A Nkdim__HLA.F Nkdim__IQGAP2\n",
       "42 -2.3939798       ⋯ 0.9345893   1.501086     0.871771     1.110772     \n",
       "46 -0.5485223       ⋯ 0.9345893   1.191816     2.393980     1.501086     \n",
       "   Nkdim__LITAF Nkdim__POLR2L Nkdim__PRF1 Nkdim__RSRP1 Nkdim__TMA7 Nkdim__TXNIP\n",
       "42 1.5010859    -1.439531     0.6744898   -0.2318344   -1.235440   0.5485223   \n",
       "46 0.9345893    -1.191816     2.1280452   -1.2354403   -1.534121   0.8565988   "
      ]
     },
     "metadata": {},
     "output_type": "display_data"
    }
   ],
   "source": [
    "head(x,2)"
   ]
  },
  {
   "cell_type": "code",
   "execution_count": 240,
   "id": "1700cace-f56f-49b4-b1b8-687b493ef9f1",
   "metadata": {},
   "outputs": [
    {
     "data": {
      "text/html": [
       "109"
      ],
      "text/latex": [
       "109"
      ],
      "text/markdown": [
       "109"
      ],
      "text/plain": [
       "[1] 109"
      ]
     },
     "metadata": {},
     "output_type": "display_data"
    }
   ],
   "source": [
    "ncol(x)"
   ]
  },
  {
   "cell_type": "code",
   "execution_count": 241,
   "id": "54354ccd-d1ed-4702-8862-a8d13580fed5",
   "metadata": {},
   "outputs": [
    {
     "data": {
      "text/html": [
       "<style>\n",
       ".list-inline {list-style: none; margin:0; padding: 0}\n",
       ".list-inline>li {display: inline-block}\n",
       ".list-inline>li:not(:last-child)::after {content: \"\\00b7\"; padding: 0 .5ex}\n",
       "</style>\n",
       "<ol class=list-inline><li>17</li><li>109</li></ol>\n"
      ],
      "text/latex": [
       "\\begin{enumerate*}\n",
       "\\item 17\n",
       "\\item 109\n",
       "\\end{enumerate*}\n"
      ],
      "text/markdown": [
       "1. 17\n",
       "2. 109\n",
       "\n",
       "\n"
      ],
      "text/plain": [
       "[1]  17 109"
      ]
     },
     "metadata": {},
     "output_type": "display_data"
    }
   ],
   "source": [
    "dim(x)"
   ]
  },
  {
   "cell_type": "code",
   "execution_count": 242,
   "id": "abf35fc8-f6e2-4f1c-ad0c-a3d13e3c8bb6",
   "metadata": {
    "tags": []
   },
   "outputs": [
    {
     "name": "stderr",
     "output_type": "stream",
     "text": [
      "Warning message in lognet(xd, is.sparse, ix, jx, y, weights, offset, alpha, nobs, :\n",
      "“one multinomial or binomial class has fewer than 8  observations; dangerous ground”\n",
      "Warning message in lognet(xd, is.sparse, ix, jx, y, weights, offset, alpha, nobs, :\n",
      "“one multinomial or binomial class has fewer than 8  observations; dangerous ground”\n",
      "Warning message in lognet(xd, is.sparse, ix, jx, y, weights, offset, alpha, nobs, :\n",
      "“one multinomial or binomial class has fewer than 8  observations; dangerous ground”\n",
      "Warning message in lognet(xd, is.sparse, ix, jx, y, weights, offset, alpha, nobs, :\n",
      "“one multinomial or binomial class has fewer than 8  observations; dangerous ground”\n",
      "Warning message in lognet(xd, is.sparse, ix, jx, y, weights, offset, alpha, nobs, :\n",
      "“one multinomial or binomial class has fewer than 8  observations; dangerous ground”\n",
      "Warning message in lognet(xd, is.sparse, ix, jx, y, weights, offset, alpha, nobs, :\n",
      "“one multinomial or binomial class has fewer than 8  observations; dangerous ground”\n",
      "Warning message in lognet(xd, is.sparse, ix, jx, y, weights, offset, alpha, nobs, :\n",
      "“one multinomial or binomial class has fewer than 8  observations; dangerous ground”\n",
      "Warning message in lognet(xd, is.sparse, ix, jx, y, weights, offset, alpha, nobs, :\n",
      "“one multinomial or binomial class has fewer than 8  observations; dangerous ground”\n",
      "Warning message in lognet(xd, is.sparse, ix, jx, y, weights, offset, alpha, nobs, :\n",
      "“one multinomial or binomial class has fewer than 8  observations; dangerous ground”\n",
      "Warning message:\n",
      "“Option grouped=FALSE enforced in cv.glmnet, since < 3 observations per fold”\n"
     ]
    }
   ],
   "source": [
    "## Perform k-fold cross-validation to find optimal lambda value\n",
    "set.seed(49)\n",
    "cv_model = cv.glmnet(x, y, alpha = 1, family = \"binomial\",   nfolds = 8, nlambda = 100) "
   ]
  },
  {
   "cell_type": "code",
   "execution_count": 243,
   "id": "3ff183d3-e1cd-48f1-a5ed-bfb9664f9cbc",
   "metadata": {},
   "outputs": [],
   "source": [
    "### Resulting model "
   ]
  },
  {
   "cell_type": "code",
   "execution_count": 244,
   "id": "65359980-88b3-4bb6-9f87-e0fef335bf81",
   "metadata": {},
   "outputs": [
    {
     "data": {
      "text/plain": [
       "\n",
       "Call:  cv.glmnet(x = x, y = y, nfolds = 8, alpha = 1, family = \"binomial\",      nlambda = 100) \n",
       "\n",
       "Measure: Binomial Deviance \n",
       "\n",
       "     Lambda Index Measure     SE Nonzero\n",
       "min 0.03313    51  0.4261 0.1497       6\n",
       "1se 0.09658    28  0.5750 0.1440       2"
      ]
     },
     "metadata": {},
     "output_type": "display_data"
    }
   ],
   "source": [
    "cv_model"
   ]
  },
  {
   "cell_type": "code",
   "execution_count": 245,
   "id": "b9111d60-1be3-4912-82f1-58b1e5157d63",
   "metadata": {},
   "outputs": [
    {
     "data": {
      "text/html": [
       "0.426091742217229"
      ],
      "text/latex": [
       "0.426091742217229"
      ],
      "text/markdown": [
       "0.426091742217229"
      ],
      "text/plain": [
       "[1] 0.4260917"
      ]
     },
     "metadata": {},
     "output_type": "display_data"
    }
   ],
   "source": [
    "min(cv_model$cvm)"
   ]
  },
  {
   "cell_type": "code",
   "execution_count": 246,
   "id": "d7c5acef-5298-4181-b6ca-fbf75f0bfe34",
   "metadata": {},
   "outputs": [],
   "source": [
    "### Choose best lambda as minimum"
   ]
  },
  {
   "cell_type": "code",
   "execution_count": 247,
   "id": "bb0c3ae8-77b8-4d99-91b0-9faa3e29e601",
   "metadata": {},
   "outputs": [
    {
     "data": {
      "text/html": [
       "0.0331307966001499"
      ],
      "text/latex": [
       "0.0331307966001499"
      ],
      "text/markdown": [
       "0.0331307966001499"
      ],
      "text/plain": [
       "[1] 0.0331308"
      ]
     },
     "metadata": {},
     "output_type": "display_data"
    }
   ],
   "source": [
    "best_lambda = cv_model$lambda.min\n",
    "best_lambda"
   ]
  },
  {
   "cell_type": "code",
   "execution_count": 248,
   "id": "2bd0fa18-9571-41fe-9a80-786192c81802",
   "metadata": {},
   "outputs": [],
   "source": [
    "### Plot the output of the cross-validation runs for review figure"
   ]
  },
  {
   "cell_type": "code",
   "execution_count": 249,
   "id": "d25ee157-c1e0-4819-8446-bad28d094869",
   "metadata": {},
   "outputs": [],
   "source": [
    "figure_name = 'SUPP12_CV_GLMNET_Result'"
   ]
  },
  {
   "cell_type": "code",
   "execution_count": 250,
   "id": "bb1d61d5-df22-4be0-a968-dd2490449c49",
   "metadata": {},
   "outputs": [
    {
     "data": {
      "text/html": [
       "<strong>png:</strong> 2"
      ],
      "text/latex": [
       "\\textbf{png:} 2"
      ],
      "text/markdown": [
       "**png:** 2"
      ],
      "text/plain": [
       "png \n",
       "  2 "
      ]
     },
     "metadata": {},
     "output_type": "display_data"
    },
    {
     "data": {
      "image/png": "[encoded data removed]",
      "text/plain": [
       "plot without title"
      ]
     },
     "metadata": {
      "image/png": {
       "height": 300,
       "width": 900
      }
     },
     "output_type": "display_data"
    }
   ],
   "source": [
    "#produce plot of test MSE by lambda value\n",
    "options(repr.plot.width=15, repr.plot.height=5)\n",
    "pdf(paste0('figures/Supplementary_Figures/', figure_name,  '.pdf'), width =  8, height =5)\n",
    "plot(cv_model) \n",
    "dev.off()\n",
    "plot(cv_model)"
   ]
  },
  {
   "cell_type": "code",
   "execution_count": 251,
   "id": "51144948-1b1b-4c72-99a6-02207a537b3e",
   "metadata": {},
   "outputs": [],
   "source": [
    "# Define best model based on the best_lambda"
   ]
  },
  {
   "cell_type": "code",
   "execution_count": 252,
   "id": "08472971-9dd7-4275-b6e3-f9d6905f538a",
   "metadata": {},
   "outputs": [
    {
     "name": "stderr",
     "output_type": "stream",
     "text": [
      "Warning message in lognet(xd, is.sparse, ix, jx, y, weights, offset, alpha, nobs, :\n",
      "“one multinomial or binomial class has fewer than 8  observations; dangerous ground”\n"
     ]
    }
   ],
   "source": [
    "best_model = glmnet(x, y, alpha = 1, lambda = best_lambda , family = 'binomial')"
   ]
  },
  {
   "cell_type": "code",
   "execution_count": 253,
   "id": "61be7553-5f65-45a7-92bc-4b3dba8f51d8",
   "metadata": {},
   "outputs": [],
   "source": [
    "# Get the coefficients of the model"
   ]
  },
  {
   "cell_type": "code",
   "execution_count": 254,
   "id": "e814e8db-eabd-4d17-9971-76e529f47b08",
   "metadata": {},
   "outputs": [],
   "source": [
    "model_coef = coef(best_model)"
   ]
  },
  {
   "cell_type": "code",
   "execution_count": 255,
   "id": "8bdcaa46-0866-4f5b-ae1d-89f28f7e18df",
   "metadata": {},
   "outputs": [],
   "source": [
    "# Determine the model coefficients"
   ]
  },
  {
   "cell_type": "code",
   "execution_count": 256,
   "id": "51fb9733-ba56-45f8-9754-782443c48d96",
   "metadata": {},
   "outputs": [],
   "source": [
    "model_coef = as.data.frame(as.matrix(model_coef))\n",
    "model_coef$variable = rownames(model_coef)"
   ]
  },
  {
   "cell_type": "code",
   "execution_count": 257,
   "id": "5691b59d-609f-4c9c-9f0a-7f4f3e475bb1",
   "metadata": {},
   "outputs": [],
   "source": [
    "#model_coef[abs(model_coef$s0) > 0,]"
   ]
  },
  {
   "cell_type": "code",
   "execution_count": 258,
   "id": "5625cc88-bff5-45a3-a5db-739b51e9c87e",
   "metadata": {},
   "outputs": [],
   "source": [
    "### Save the model"
   ]
  },
  {
   "cell_type": "code",
   "execution_count": 259,
   "id": "b6b38d08-f6dd-4321-9d20-9ea01935a8f9",
   "metadata": {},
   "outputs": [
    {
     "data": {
      "text/html": [
       "'../results/current/Reproduction/GX3_Model.Rdata'"
      ],
      "text/latex": [
       "'../results/current/Reproduction/GX3\\_Model.Rdata'"
      ],
      "text/markdown": [
       "'../results/current/Reproduction/GX3_Model.Rdata'"
      ],
      "text/plain": [
       "[1] \"../results/current/Reproduction/GX3_Model.Rdata\""
      ]
     },
     "metadata": {},
     "output_type": "display_data"
    }
   ],
   "source": [
    "paste0(result_path_rep, '/GX3_Model', '.Rdata')"
   ]
  },
  {
   "cell_type": "code",
   "execution_count": 260,
   "id": "cfeefba0-5519-4322-a5f7-55e7571c6998",
   "metadata": {},
   "outputs": [],
   "source": [
    "save(best_model, file = paste0(result_path_rep, '/GX3_Model', '.Rdata'))"
   ]
  },
  {
   "cell_type": "code",
   "execution_count": 261,
   "id": "32d9cea8-4150-420c-b2e3-e7731e240bd9",
   "metadata": {},
   "outputs": [],
   "source": [
    "write.csv(data.frame(features = colnames(x)), paste0(result_path_rep, '/GX3_input_features_lasso.csv'))"
   ]
  },
  {
   "cell_type": "markdown",
   "id": "6076444e-f4bd-4f6b-a311-c835339ce0f5",
   "metadata": {
    "tags": []
   },
   "source": [
    "### Model for selected NK cell features"
   ]
  },
  {
   "cell_type": "code",
   "execution_count": 262,
   "id": "672b57dc-56d3-4680-9a92-916f2ef8ff41",
   "metadata": {},
   "outputs": [],
   "source": [
    "### remove NA observations from outcome"
   ]
  },
  {
   "cell_type": "code",
   "execution_count": 263,
   "id": "10f6f2a5-a0fe-42d6-a41e-a63bc766945e",
   "metadata": {},
   "outputs": [],
   "source": [
    "train_input_NK = train_input_NK[!is.na(train_input_NK$y),]"
   ]
  },
  {
   "cell_type": "code",
   "execution_count": 264,
   "id": "9f1514bf-cc4b-43d0-978a-ba60965bc4bf",
   "metadata": {},
   "outputs": [],
   "source": [
    "## Determine y and x for model"
   ]
  },
  {
   "cell_type": "code",
   "execution_count": 265,
   "id": "ba1a17a7-0a3d-4bc3-8845-917505a1a7f8",
   "metadata": {},
   "outputs": [],
   "source": [
    "y_NK = train_input_NK$y\n",
    "x_NK = train_input_NK\n",
    "x_NK$sample_id = NULL\n",
    "x_NK$measurement = NULL\n",
    "x_NK$delta_ef_value = NULL\n",
    "x_NK$delta_ef_value_class_summarized = NULL\n",
    "x_NK$y = NULL\n",
    "x_NK$classification = NULL\n",
    "x_NK = data.matrix(x_NK)"
   ]
  },
  {
   "cell_type": "code",
   "execution_count": 266,
   "id": "cb303ede-97ea-4dec-8072-6b34b23ed4bb",
   "metadata": {},
   "outputs": [
    {
     "data": {
      "text/html": [
       "<table class=\"dataframe\">\n",
       "<caption>A matrix: 2 × 3 of type dbl</caption>\n",
       "<thead>\n",
       "\t<tr><th></th><th scope=col>Nkdim__CD53</th><th scope=col>Nkdim__GZMB</th><th scope=col>Nkdim__TXNIP</th></tr>\n",
       "</thead>\n",
       "<tbody>\n",
       "\t<tr><th scope=row>42</th><td>0.3186394</td><td>0.9345893</td><td>0.5485223</td></tr>\n",
       "\t<tr><th scope=row>46</th><td>2.3939798</td><td>0.9345893</td><td>0.8565988</td></tr>\n",
       "</tbody>\n",
       "</table>\n"
      ],
      "text/latex": [
       "A matrix: 2 × 3 of type dbl\n",
       "\\begin{tabular}{r|lll}\n",
       "  & Nkdim\\_\\_CD53 & Nkdim\\_\\_GZMB & Nkdim\\_\\_TXNIP\\\\\n",
       "\\hline\n",
       "\t42 & 0.3186394 & 0.9345893 & 0.5485223\\\\\n",
       "\t46 & 2.3939798 & 0.9345893 & 0.8565988\\\\\n",
       "\\end{tabular}\n"
      ],
      "text/markdown": [
       "\n",
       "A matrix: 2 × 3 of type dbl\n",
       "\n",
       "| <!--/--> | Nkdim__CD53 | Nkdim__GZMB | Nkdim__TXNIP |\n",
       "|---|---|---|---|\n",
       "| 42 | 0.3186394 | 0.9345893 | 0.5485223 |\n",
       "| 46 | 2.3939798 | 0.9345893 | 0.8565988 |\n",
       "\n"
      ],
      "text/plain": [
       "   Nkdim__CD53 Nkdim__GZMB Nkdim__TXNIP\n",
       "42 0.3186394   0.9345893   0.5485223   \n",
       "46 2.3939798   0.9345893   0.8565988   "
      ]
     },
     "metadata": {},
     "output_type": "display_data"
    }
   ],
   "source": [
    "head(x_NK,2)"
   ]
  },
  {
   "cell_type": "code",
   "execution_count": 267,
   "id": "19848764-08a6-41c2-9fdd-e82ae996eb55",
   "metadata": {},
   "outputs": [],
   "source": [
    "#head(y,5)"
   ]
  },
  {
   "cell_type": "code",
   "execution_count": 268,
   "id": "f8f00738-1216-4859-938a-c2d44383e507",
   "metadata": {},
   "outputs": [],
   "source": [
    "### Train the logistic regressin model on the features"
   ]
  },
  {
   "cell_type": "code",
   "execution_count": 269,
   "id": "ea9c454a-7a53-4d1f-afd3-4b61ce31733f",
   "metadata": {},
   "outputs": [],
   "source": [
    "model_NK = glm(data = data.frame(y_NK, x_NK),formula =  'y_NK~.', family = binomial(link = \"logit\"))"
   ]
  },
  {
   "cell_type": "code",
   "execution_count": 270,
   "id": "750400ef-18cd-404b-bdbf-f14724b0b889",
   "metadata": {},
   "outputs": [
    {
     "data": {
      "text/plain": [
       "\n",
       "Call:\n",
       "glm(formula = \"y_NK~.\", family = binomial(link = \"logit\"), data = data.frame(y_NK, \n",
       "    x_NK))\n",
       "\n",
       "Deviance Residuals: \n",
       "    Min       1Q   Median       3Q      Max  \n",
       "-1.2774  -0.7164  -0.4097  -0.1625   2.0163  \n",
       "\n",
       "Coefficients:\n",
       "             Estimate Std. Error z value Pr(>|z|)\n",
       "(Intercept)   -2.7682     1.9229  -1.440    0.150\n",
       "Nkdim__CD53    0.6956     0.9314   0.747    0.455\n",
       "Nkdim__GZMB    0.2096     1.4423   0.145    0.884\n",
       "Nkdim__TXNIP   0.8353     1.0902   0.766    0.444\n",
       "\n",
       "(Dispersion parameter for binomial family taken to be 1)\n",
       "\n",
       "    Null deviance: 18.550  on 16  degrees of freedom\n",
       "Residual deviance: 15.006  on 13  degrees of freedom\n",
       "AIC: 23.006\n",
       "\n",
       "Number of Fisher Scoring iterations: 5\n"
      ]
     },
     "metadata": {},
     "output_type": "display_data"
    }
   ],
   "source": [
    "summary(model_NK)"
   ]
  },
  {
   "cell_type": "code",
   "execution_count": 271,
   "id": "ebc63926-ec80-4920-8d29-29145febcf62",
   "metadata": {},
   "outputs": [],
   "source": [
    "### Save the model"
   ]
  },
  {
   "cell_type": "code",
   "execution_count": 272,
   "id": "9cfff2e1-5ce9-412d-b289-d175101833d0",
   "metadata": {},
   "outputs": [
    {
     "data": {
      "text/html": [
       "'../results/current/Reproduction/GX3_NK_Model.Rdata'"
      ],
      "text/latex": [
       "'../results/current/Reproduction/GX3\\_NK\\_Model.Rdata'"
      ],
      "text/markdown": [
       "'../results/current/Reproduction/GX3_NK_Model.Rdata'"
      ],
      "text/plain": [
       "[1] \"../results/current/Reproduction/GX3_NK_Model.Rdata\""
      ]
     },
     "metadata": {},
     "output_type": "display_data"
    }
   ],
   "source": [
    "paste0(result_path_rep, '/GX3_NK_Model', '.Rdata')"
   ]
  },
  {
   "cell_type": "code",
   "execution_count": 273,
   "id": "18344e6b-e7b0-4f25-9175-f022dbe9645f",
   "metadata": {},
   "outputs": [],
   "source": [
    "save(model_NK, file = paste0(result_path_rep, '/GX3_NK_Model_GLM', '.Rdata'))"
   ]
  },
  {
   "cell_type": "code",
   "execution_count": 274,
   "id": "87550a52-270b-4d93-8fed-587ca05a5adc",
   "metadata": {},
   "outputs": [],
   "source": [
    "write.csv(data.frame(features = colnames(x_NK)), paste0(result_path_rep, '/GX3_NK_input_features_lasso.csv'))"
   ]
  },
  {
   "cell_type": "markdown",
   "id": "8813b147-5039-46a0-910a-5649461ac928",
   "metadata": {},
   "source": [
    "# Apply model on training data"
   ]
  },
  {
   "cell_type": "markdown",
   "id": "b8609d62-dc1b-4e04-864b-262080b9cb57",
   "metadata": {
    "tags": []
   },
   "source": [
    "### For model based on NK cell features"
   ]
  },
  {
   "cell_type": "code",
   "execution_count": 275,
   "id": "957afccc-0be1-499d-bb7c-c1356d4b5eb6",
   "metadata": {},
   "outputs": [
    {
     "data": {
      "text/html": [
       "<style>\n",
       ".dl-inline {width: auto; margin:0; padding: 0}\n",
       ".dl-inline>dt, .dl-inline>dd {float: none; width: auto; display: inline-block}\n",
       ".dl-inline>dt::after {content: \":\\0020\"; padding-right: .5ex}\n",
       ".dl-inline>dt:not(:first-of-type) {padding-left: .5ex}\n",
       "</style><dl class=dl-inline><dt>(Intercept)</dt><dd>-2.76821780533409</dd><dt>Nkdim__CD53</dt><dd>0.69556909910812</dd><dt>Nkdim__GZMB</dt><dd>0.209644409384611</dd><dt>Nkdim__TXNIP</dt><dd>0.835336681460189</dd></dl>\n"
      ],
      "text/latex": [
       "\\begin{description*}\n",
       "\\item[(Intercept)] -2.76821780533409\n",
       "\\item[Nkdim\\textbackslash{}\\_\\textbackslash{}\\_CD53] 0.69556909910812\n",
       "\\item[Nkdim\\textbackslash{}\\_\\textbackslash{}\\_GZMB] 0.209644409384611\n",
       "\\item[Nkdim\\textbackslash{}\\_\\textbackslash{}\\_TXNIP] 0.835336681460189\n",
       "\\end{description*}\n"
      ],
      "text/markdown": [
       "(Intercept)\n",
       ":   -2.76821780533409Nkdim__CD53\n",
       ":   0.69556909910812Nkdim__GZMB\n",
       ":   0.209644409384611Nkdim__TXNIP\n",
       ":   0.835336681460189\n",
       "\n"
      ],
      "text/plain": [
       " (Intercept)  Nkdim__CD53  Nkdim__GZMB Nkdim__TXNIP \n",
       "  -2.7682178    0.6955691    0.2096444    0.8353367 "
      ]
     },
     "metadata": {},
     "output_type": "display_data"
    }
   ],
   "source": [
    "coef(model_NK)"
   ]
  },
  {
   "cell_type": "code",
   "execution_count": 276,
   "id": "07f3c986-2237-4fb2-ab6c-8e623740e7c0",
   "metadata": {},
   "outputs": [],
   "source": [
    "### Get predictions on training data"
   ]
  },
  {
   "cell_type": "code",
   "execution_count": 277,
   "id": "4ffd93dc-5a92-4140-a78f-6e60ff11f675",
   "metadata": {},
   "outputs": [],
   "source": [
    "y_predicted_NK = predict.glm(model_NK, newx = x_NK, type = 'response')    # use standard glm model"
   ]
  },
  {
   "cell_type": "code",
   "execution_count": 278,
   "id": "e1b7dff7-7777-4f9e-beaf-5965755312f0",
   "metadata": {},
   "outputs": [],
   "source": [
    "### Calculate AUC on training data"
   ]
  },
  {
   "cell_type": "code",
   "execution_count": 279,
   "id": "3cfa310f-e1a7-4b01-9f16-b66f954a1bf0",
   "metadata": {},
   "outputs": [
    {
     "name": "stderr",
     "output_type": "stream",
     "text": [
      "Setting levels: control = 0, case = 1\n",
      "\n",
      "Setting direction: controls < cases\n",
      "\n"
     ]
    },
    {
     "data": {
      "text/html": [
       "0.788461538461538"
      ],
      "text/latex": [
       "0.788461538461538"
      ],
      "text/markdown": [
       "0.788461538461538"
      ],
      "text/plain": [
       "Area under the curve: 0.7885"
      ]
     },
     "metadata": {},
     "output_type": "display_data"
    }
   ],
   "source": [
    " auc(y_NK, y_predicted_NK)"
   ]
  },
  {
   "cell_type": "code",
   "execution_count": 280,
   "id": "b4dec6ed-9dbb-401f-8f14-4868754694f3",
   "metadata": {},
   "outputs": [],
   "source": [
    "prediction_data = data.frame(y = y_NK, s1 = y_predicted_NK)"
   ]
  },
  {
   "cell_type": "code",
   "execution_count": 281,
   "id": "4b6785ab-4358-4a4d-9b26-3cd20f4c4e66",
   "metadata": {},
   "outputs": [],
   "source": [
    "write.csv(prediction_data, paste0(result_path_rep, '/GX3_NK_prediction_result_TRAIN.csv'))"
   ]
  },
  {
   "cell_type": "code",
   "execution_count": 282,
   "id": "e4812105-53f7-4e57-9058-f9fdc6206d36",
   "metadata": {},
   "outputs": [
    {
     "data": {
      "text/html": [
       "<table class=\"dataframe\">\n",
       "<caption>A data.frame: 2 × 2</caption>\n",
       "<thead>\n",
       "\t<tr><th></th><th scope=col>y</th><th scope=col>s1</th></tr>\n",
       "\t<tr><th></th><th scope=col>&lt;dbl&gt;</th><th scope=col>&lt;dbl&gt;</th></tr>\n",
       "</thead>\n",
       "<tbody>\n",
       "\t<tr><th scope=row>42</th><td>1</td><td>0.1309654</td></tr>\n",
       "\t<tr><th scope=row>46</th><td>1</td><td>0.4522560</td></tr>\n",
       "</tbody>\n",
       "</table>\n"
      ],
      "text/latex": [
       "A data.frame: 2 × 2\n",
       "\\begin{tabular}{r|ll}\n",
       "  & y & s1\\\\\n",
       "  & <dbl> & <dbl>\\\\\n",
       "\\hline\n",
       "\t42 & 1 & 0.1309654\\\\\n",
       "\t46 & 1 & 0.4522560\\\\\n",
       "\\end{tabular}\n"
      ],
      "text/markdown": [
       "\n",
       "A data.frame: 2 × 2\n",
       "\n",
       "| <!--/--> | y &lt;dbl&gt; | s1 &lt;dbl&gt; |\n",
       "|---|---|---|\n",
       "| 42 | 1 | 0.1309654 |\n",
       "| 46 | 1 | 0.4522560 |\n",
       "\n"
      ],
      "text/plain": [
       "   y s1       \n",
       "42 1 0.1309654\n",
       "46 1 0.4522560"
      ]
     },
     "metadata": {},
     "output_type": "display_data"
    }
   ],
   "source": [
    "head(prediction_data,2)"
   ]
  }
 ],
 "metadata": {
  "kernelspec": {
   "display_name": "R",
   "language": "R",
   "name": "ir"
  },
  "language_info": {
   "codemirror_mode": "r",
   "file_extension": ".r",
   "mimetype": "text/x-r-source",
   "name": "R",
   "pygments_lexer": "r",
   "version": "4.1.1"
  },
  "toc-autonumbering": true
 },
 "nbformat": 4,
 "nbformat_minor": 5
}

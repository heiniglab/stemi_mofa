{
 "cells": [
  {
   "cell_type": "code",
   "execution_count": 1,
   "id": "d182c426-4d95-4dee-a099-cd923e9437d7",
   "metadata": {
    "tags": []
   },
   "outputs": [],
   "source": [
    "### Script to apply the prediction models trained on the MU data on the Groningen data"
   ]
  },
  {
   "cell_type": "markdown",
   "id": "213d69de-4705-4a6e-9387-b1a3413172eb",
   "metadata": {
    "tags": []
   },
   "source": [
    "#############################################\n",
    "# Prerequisites - Load Libraries"
   ]
  },
  {
   "cell_type": "code",
   "execution_count": 2,
   "id": "3b3ef916-2ec9-4cd1-a048-a2c867e9eed0",
   "metadata": {
    "collapsed": true,
    "jupyter": {
     "outputs_hidden": true
    },
    "tags": []
   },
   "outputs": [
    {
     "name": "stderr",
     "output_type": "stream",
     "text": [
      "Warning message in read.table(file = file, header = header, sep = sep, quote = quote, :\n",
      "“incomplete final line found by readTableHeader on '../conda_environment/Environment_Configs.csv'”\n"
     ]
    },
    {
     "name": "stdout",
     "output_type": "stream",
     "text": [
      "[1] \"/home/icb/corinna.losert/miniconda3/envs/stark_stemi_R_Env_4_1//lib/R/library\"\n"
     ]
    },
    {
     "name": "stderr",
     "output_type": "stream",
     "text": [
      "\n",
      "Attaching package: ‘igraph’\n",
      "\n",
      "\n",
      "The following objects are masked from ‘package:stats’:\n",
      "\n",
      "    decompose, spectrum\n",
      "\n",
      "\n",
      "The following object is masked from ‘package:base’:\n",
      "\n",
      "    union\n",
      "\n",
      "\n",
      "\n",
      "Attaching package: ‘MatrixGenerics’\n",
      "\n",
      "\n",
      "The following objects are masked from ‘package:matrixStats’:\n",
      "\n",
      "    colAlls, colAnyNAs, colAnys, colAvgsPerRowSet, colCollapse,\n",
      "    colCounts, colCummaxs, colCummins, colCumprods, colCumsums,\n",
      "    colDiffs, colIQRDiffs, colIQRs, colLogSumExps, colMadDiffs,\n",
      "    colMads, colMaxs, colMeans2, colMedians, colMins, colOrderStats,\n",
      "    colProds, colQuantiles, colRanges, colRanks, colSdDiffs, colSds,\n",
      "    colSums2, colTabulates, colVarDiffs, colVars, colWeightedMads,\n",
      "    colWeightedMeans, colWeightedMedians, colWeightedSds,\n",
      "    colWeightedVars, rowAlls, rowAnyNAs, rowAnys, rowAvgsPerColSet,\n",
      "    rowCollapse, rowCounts, rowCummaxs, rowCummins, rowCumprods,\n",
      "    rowCumsums, rowDiffs, rowIQRDiffs, rowIQRs, rowLogSumExps,\n",
      "    rowMadDiffs, rowMads, rowMaxs, rowMeans2, rowMedians, rowMins,\n",
      "    rowOrderStats, rowProds, rowQuantiles, rowRanges, rowRanks,\n",
      "    rowSdDiffs, rowSds, rowSums2, rowTabulates, rowVarDiffs, rowVars,\n",
      "    rowWeightedMads, rowWeightedMeans, rowWeightedMedians,\n",
      "    rowWeightedSds, rowWeightedVars\n",
      "\n",
      "\n",
      "\n",
      "Attaching package: ‘BiocGenerics’\n",
      "\n",
      "\n",
      "The following objects are masked from ‘package:parallel’:\n",
      "\n",
      "    clusterApply, clusterApplyLB, clusterCall, clusterEvalQ,\n",
      "    clusterExport, clusterMap, parApply, parCapply, parLapply,\n",
      "    parLapplyLB, parRapply, parSapply, parSapplyLB\n",
      "\n",
      "\n",
      "The following objects are masked from ‘package:igraph’:\n",
      "\n",
      "    normalize, path, union\n",
      "\n",
      "\n",
      "The following objects are masked from ‘package:stats’:\n",
      "\n",
      "    IQR, mad, sd, var, xtabs\n",
      "\n",
      "\n",
      "The following objects are masked from ‘package:base’:\n",
      "\n",
      "    anyDuplicated, append, as.data.frame, basename, cbind, colnames,\n",
      "    dirname, do.call, duplicated, eval, evalq, Filter, Find, get, grep,\n",
      "    grepl, intersect, is.unsorted, lapply, Map, mapply, match, mget,\n",
      "    order, paste, pmax, pmax.int, pmin, pmin.int, Position, rank,\n",
      "    rbind, Reduce, rownames, sapply, setdiff, sort, table, tapply,\n",
      "    union, unique, unsplit, which.max, which.min\n",
      "\n",
      "\n",
      "\n",
      "Attaching package: ‘S4Vectors’\n",
      "\n",
      "\n",
      "The following objects are masked from ‘package:base’:\n",
      "\n",
      "    expand.grid, I, unname\n",
      "\n",
      "\n",
      "Welcome to Bioconductor\n",
      "\n",
      "    Vignettes contain introductory material; view with\n",
      "    'browseVignettes()'. To cite Bioconductor, see\n",
      "    'citation(\"Biobase\")', and for packages 'citation(\"pkgname\")'.\n",
      "\n",
      "\n",
      "\n",
      "Attaching package: ‘Biobase’\n",
      "\n",
      "\n",
      "The following object is masked from ‘package:MatrixGenerics’:\n",
      "\n",
      "    rowMedians\n",
      "\n",
      "\n",
      "The following objects are masked from ‘package:matrixStats’:\n",
      "\n",
      "    anyMissing, rowMedians\n",
      "\n",
      "\n",
      "\n",
      "Attaching package: ‘sp’\n",
      "\n",
      "\n",
      "The following object is masked from ‘package:IRanges’:\n",
      "\n",
      "    %over%\n",
      "\n",
      "\n",
      "\n",
      "Attaching package: ‘SeuratObject’\n",
      "\n",
      "\n",
      "The following object is masked from ‘package:SummarizedExperiment’:\n",
      "\n",
      "    Assays\n",
      "\n",
      "\n",
      "The following object is masked from ‘package:GenomicRanges’:\n",
      "\n",
      "    intersect\n",
      "\n",
      "\n",
      "The following object is masked from ‘package:GenomeInfoDb’:\n",
      "\n",
      "    intersect\n",
      "\n",
      "\n",
      "The following object is masked from ‘package:IRanges’:\n",
      "\n",
      "    intersect\n",
      "\n",
      "\n",
      "The following object is masked from ‘package:S4Vectors’:\n",
      "\n",
      "    intersect\n",
      "\n",
      "\n",
      "The following object is masked from ‘package:BiocGenerics’:\n",
      "\n",
      "    intersect\n",
      "\n",
      "\n",
      "The following object is masked from ‘package:base’:\n",
      "\n",
      "    intersect\n",
      "\n",
      "\n",
      "\n",
      "Attaching package: ‘Seurat’\n",
      "\n",
      "\n",
      "The following object is masked from ‘package:SummarizedExperiment’:\n",
      "\n",
      "    Assays\n",
      "\n",
      "\n",
      "The following object is masked from ‘package:igraph’:\n",
      "\n",
      "    components\n",
      "\n",
      "\n",
      "\n",
      "Attaching package: ‘Matrix’\n",
      "\n",
      "\n",
      "The following object is masked from ‘package:S4Vectors’:\n",
      "\n",
      "    expand\n",
      "\n",
      "\n",
      "\n",
      "Attaching package: ‘DelayedArray’\n",
      "\n",
      "\n",
      "The following object is masked from ‘package:igraph’:\n",
      "\n",
      "    simplify\n",
      "\n",
      "\n",
      "The following objects are masked from ‘package:base’:\n",
      "\n",
      "    aperm, apply, rowsum, scale, sweep\n",
      "\n",
      "\n",
      "\n",
      "Attaching package: ‘HDF5Array’\n",
      "\n",
      "\n",
      "The following object is masked from ‘package:rhdf5’:\n",
      "\n",
      "    h5ls\n",
      "\n",
      "\n",
      "Warning message in if (is.na(desc)) {:\n",
      "“the condition has length > 1 and only the first element will be used”\n",
      "Warning message in if (is.na(desc)) {:\n",
      "“the condition has length > 1 and only the first element will be used”\n",
      "Warning message in if (is.na(desc)) {:\n",
      "“the condition has length > 1 and only the first element will be used”\n",
      "Warning message in if (is.na(desc)) {:\n",
      "“the condition has length > 1 and only the first element will be used”\n",
      "Warning message in if (is.na(desc)) {:\n",
      "“the condition has length > 1 and only the first element will be used”\n",
      "Warning message in if (is.na(desc)) {:\n",
      "“the condition has length > 1 and only the first element will be used”\n",
      "Warning message in if (is.na(desc)) {:\n",
      "“the condition has length > 1 and only the first element will be used”\n",
      "Warning message in if (is.na(desc)) {:\n",
      "“the condition has length > 1 and only the first element will be used”\n",
      "Warning message in if (is.na(desc)) {:\n",
      "“the condition has length > 1 and only the first element will be used”\n",
      "Warning message in if (is.na(desc)) {:\n",
      "“the condition has length > 1 and only the first element will be used”\n",
      "Warning message in if (is.na(desc)) {:\n",
      "“the condition has length > 1 and only the first element will be used”\n",
      "Warning message in if (is.na(desc)) {:\n",
      "“the condition has length > 1 and only the first element will be used”\n",
      "Warning message in if (is.na(desc)) {:\n",
      "“the condition has length > 1 and only the first element will be used”\n",
      "Warning message in if (is.na(desc)) {:\n",
      "“the condition has length > 1 and only the first element will be used”\n",
      "Warning message in if (is.na(desc)) {:\n",
      "“the condition has length > 1 and only the first element will be used”\n",
      "Warning message in if (is.na(desc)) {:\n",
      "“the condition has length > 1 and only the first element will be used”\n",
      "Warning message in if (is.na(desc)) {:\n",
      "“the condition has length > 1 and only the first element will be used”\n",
      "Warning message in if (is.na(desc)) {:\n",
      "“the condition has length > 1 and only the first element will be used”\n",
      "Warning message in if (is.na(desc)) {:\n",
      "“the condition has length > 1 and only the first element will be used”\n",
      "Warning message in if (is.na(desc)) {:\n",
      "“the condition has length > 1 and only the first element will be used”\n",
      "Warning message in if (is.na(desc)) {:\n",
      "“the condition has length > 1 and only the first element will be used”\n",
      "Warning message in if (is.na(desc)) {:\n",
      "“the condition has length > 1 and only the first element will be used”\n",
      "Warning message in if (is.na(desc)) {:\n",
      "“the condition has length > 1 and only the first element will be used”\n",
      "Registered S3 method overwritten by 'SeuratDisk':\n",
      "  method            from  \n",
      "  as.sparse.H5Group Seurat\n",
      "\n",
      "\n",
      "Attaching package: ‘gridExtra’\n",
      "\n",
      "\n",
      "The following object is masked from ‘package:Biobase’:\n",
      "\n",
      "    combine\n",
      "\n",
      "\n",
      "The following object is masked from ‘package:BiocGenerics’:\n",
      "\n",
      "    combine\n",
      "\n",
      "\n",
      "\n",
      "Attaching package: ‘plotly’\n",
      "\n",
      "\n",
      "The following object is masked from ‘package:ggplot2’:\n",
      "\n",
      "    last_plot\n",
      "\n",
      "\n",
      "The following object is masked from ‘package:IRanges’:\n",
      "\n",
      "    slice\n",
      "\n",
      "\n",
      "The following object is masked from ‘package:S4Vectors’:\n",
      "\n",
      "    rename\n",
      "\n",
      "\n",
      "The following object is masked from ‘package:igraph’:\n",
      "\n",
      "    groups\n",
      "\n",
      "\n",
      "The following object is masked from ‘package:stats’:\n",
      "\n",
      "    filter\n",
      "\n",
      "\n",
      "The following object is masked from ‘package:graphics’:\n",
      "\n",
      "    layout\n",
      "\n",
      "\n",
      "Warning message in checkMatrixPackageVersion():\n",
      "“Package version inconsistency detected.\n",
      "TMB was built with Matrix version 1.5.3\n",
      "Current Matrix version is 1.6.4\n",
      "Please re-install 'TMB' from source using install.packages('TMB', type = 'source') or ask CRAN for a binary version of 'TMB' matching CRAN's 'Matrix' package”\n",
      "\n",
      "Attaching package: ‘limma’\n",
      "\n",
      "\n",
      "The following object is masked from ‘package:scater’:\n",
      "\n",
      "    plotMDS\n",
      "\n",
      "\n",
      "The following object is masked from ‘package:BiocGenerics’:\n",
      "\n",
      "    plotMA\n",
      "\n",
      "\n",
      "\n",
      "Attaching package: ‘DESeq2’\n",
      "\n",
      "\n",
      "The following object is masked from ‘package:scater’:\n",
      "\n",
      "    fpkm\n",
      "\n",
      "\n",
      "Loading required package: AnnotationDbi\n",
      "\n",
      "\n",
      "Attaching package: ‘AnnotationDbi’\n",
      "\n",
      "\n",
      "The following object is masked from ‘package:plotly’:\n",
      "\n",
      "    select\n",
      "\n",
      "\n",
      "\n",
      "\n",
      "\n",
      "\n",
      "Registered S3 method overwritten by 'ggtree':\n",
      "  method      from \n",
      "  identify.gg ggfun\n",
      "\n",
      "clusterProfiler v4.0.5  For help: https://yulab-smu.top/biomedical-knowledge-mining-book/\n",
      "\n",
      "If you use clusterProfiler in published research, please cite:\n",
      "T Wu, E Hu, S Xu, M Chen, P Guo, Z Dai, T Feng, L Zhou, W Tang, L Zhan, X Fu, S Liu, X Bo, and G Yu. clusterProfiler 4.0: A universal enrichment tool for interpreting omics data. The Innovation. 2021, 2(3):100141. doi: 10.1016/j.xinn.2021.100141\n",
      "\n",
      "\n",
      "Attaching package: ‘clusterProfiler’\n",
      "\n",
      "\n",
      "The following object is masked from ‘package:AnnotationDbi’:\n",
      "\n",
      "    select\n",
      "\n",
      "\n",
      "The following object is masked from ‘package:DelayedArray’:\n",
      "\n",
      "    simplify\n",
      "\n",
      "\n",
      "The following object is masked from ‘package:IRanges’:\n",
      "\n",
      "    slice\n",
      "\n",
      "\n",
      "The following object is masked from ‘package:S4Vectors’:\n",
      "\n",
      "    rename\n",
      "\n",
      "\n",
      "The following object is masked from ‘package:igraph’:\n",
      "\n",
      "    simplify\n",
      "\n",
      "\n",
      "The following object is masked from ‘package:stats’:\n",
      "\n",
      "    filter\n",
      "\n",
      "\n",
      "\n",
      "Attaching package: ‘data.table’\n",
      "\n",
      "\n",
      "The following object is masked from ‘package:SummarizedExperiment’:\n",
      "\n",
      "    shift\n",
      "\n",
      "\n",
      "The following object is masked from ‘package:GenomicRanges’:\n",
      "\n",
      "    shift\n",
      "\n",
      "\n",
      "The following object is masked from ‘package:IRanges’:\n",
      "\n",
      "    shift\n",
      "\n",
      "\n",
      "The following objects are masked from ‘package:S4Vectors’:\n",
      "\n",
      "    first, second\n",
      "\n",
      "\n",
      "\n",
      "Attaching package: ‘MOFA2’\n",
      "\n",
      "\n",
      "The following object is masked from ‘package:stats’:\n",
      "\n",
      "    predict\n",
      "\n",
      "\n",
      "\n",
      "Attaching package: ‘ggraph’\n",
      "\n",
      "\n",
      "The following object is masked from ‘package:sp’:\n",
      "\n",
      "    geometry\n",
      "\n",
      "\n",
      "\n",
      "Attaching package: ‘Hmisc’\n",
      "\n",
      "\n",
      "The following object is masked from ‘package:MOFA2’:\n",
      "\n",
      "    impute\n",
      "\n",
      "\n",
      "The following object is masked from ‘package:AnnotationDbi’:\n",
      "\n",
      "    contents\n",
      "\n",
      "\n",
      "The following object is masked from ‘package:plotly’:\n",
      "\n",
      "    subplot\n",
      "\n",
      "\n",
      "The following object is masked from ‘package:Seurat’:\n",
      "\n",
      "    Key\n",
      "\n",
      "\n",
      "The following object is masked from ‘package:SeuratObject’:\n",
      "\n",
      "    Key\n",
      "\n",
      "\n",
      "The following object is masked from ‘package:Biobase’:\n",
      "\n",
      "    contents\n",
      "\n",
      "\n",
      "The following objects are masked from ‘package:base’:\n",
      "\n",
      "    format.pval, units\n",
      "\n",
      "\n",
      "Registered S3 method overwritten by 'GGally':\n",
      "  method from   \n",
      "  +.gg   ggplot2\n",
      "\n",
      "\n",
      "Attaching package: ‘rstatix’\n",
      "\n",
      "\n",
      "The following object is masked from ‘package:AnnotationDbi’:\n",
      "\n",
      "    select\n",
      "\n",
      "\n",
      "The following object is masked from ‘package:IRanges’:\n",
      "\n",
      "    desc\n",
      "\n",
      "\n",
      "The following object is masked from ‘package:stats’:\n",
      "\n",
      "    filter\n",
      "\n",
      "\n",
      "\n",
      "‘network’ 1.18.1 (2023-01-24), part of the Statnet Project\n",
      "* ‘news(package=\"network\")’ for changes since last version\n",
      "* ‘citation(\"network\")’ for citation information\n",
      "* ‘https://statnet.org’ for help, support, and other information\n",
      "\n",
      "\n",
      "\n",
      "Attaching package: ‘network’\n",
      "\n",
      "\n",
      "The following object is masked from ‘package:Hmisc’:\n",
      "\n",
      "    is.discrete\n",
      "\n",
      "\n",
      "The following objects are masked from ‘package:igraph’:\n",
      "\n",
      "    %c%, %s%, add.edges, add.vertices, delete.edges, delete.vertices,\n",
      "    get.edge.attribute, get.edges, get.vertex.attribute, is.bipartite,\n",
      "    is.directed, list.edge.attributes, list.vertex.attributes,\n",
      "    set.edge.attribute, set.vertex.attribute\n",
      "\n",
      "\n",
      "\n",
      "Attaching package: ‘enrichplot’\n",
      "\n",
      "\n",
      "The following object is masked from ‘package:GGally’:\n",
      "\n",
      "    ggtable\n",
      "\n",
      "\n",
      "DOSE v3.18.3  For help: https://guangchuangyu.github.io/software/DOSE\n",
      "\n",
      "If you use DOSE in published research, please cite:\n",
      "Guangchuang Yu, Li-Gen Wang, Guang-Rong Yan, Qing-Yu He. DOSE: an R/Bioconductor package for Disease Ontology Semantic and Enrichment analysis. Bioinformatics 2015, 31(4):608-609\n",
      "\n",
      "\n",
      "\n",
      "Attaching package: ‘UpSetR’\n",
      "\n",
      "\n",
      "The following object is masked from ‘package:ComplexUpset’:\n",
      "\n",
      "    upset\n",
      "\n",
      "\n",
      "Registered S3 method overwritten by 'gdata':\n",
      "  method         from  \n",
      "  reorder.factor gplots\n",
      "\n",
      "gdata: read.xls support for 'XLS' (Excel 97-2004) files ENABLED.\n",
      "\n",
      "\n",
      "\n",
      "gdata: read.xls support for 'XLSX' (Excel 2007+) files ENABLED.\n",
      "\n",
      "\n",
      "Attaching package: ‘gdata’\n",
      "\n",
      "\n",
      "The following objects are masked from ‘package:data.table’:\n",
      "\n",
      "    first, last\n",
      "\n",
      "\n",
      "The following object is masked from ‘package:gridExtra’:\n",
      "\n",
      "    combine\n",
      "\n",
      "\n",
      "The following object is masked from ‘package:SummarizedExperiment’:\n",
      "\n",
      "    trim\n",
      "\n",
      "\n",
      "The following object is masked from ‘package:Biobase’:\n",
      "\n",
      "    combine\n",
      "\n",
      "\n",
      "The following object is masked from ‘package:GenomicRanges’:\n",
      "\n",
      "    trim\n",
      "\n",
      "\n",
      "The following objects are masked from ‘package:IRanges’:\n",
      "\n",
      "    startsWith, trim\n",
      "\n",
      "\n",
      "The following objects are masked from ‘package:S4Vectors’:\n",
      "\n",
      "    first, first<-\n",
      "\n",
      "\n",
      "The following object is masked from ‘package:BiocGenerics’:\n",
      "\n",
      "    combine\n",
      "\n",
      "\n",
      "The following object is masked from ‘package:stats4’:\n",
      "\n",
      "    nobs\n",
      "\n",
      "\n",
      "The following object is masked from ‘package:stats’:\n",
      "\n",
      "    nobs\n",
      "\n",
      "\n",
      "The following object is masked from ‘package:utils’:\n",
      "\n",
      "    object.size\n",
      "\n",
      "\n",
      "The following object is masked from ‘package:base’:\n",
      "\n",
      "    startsWith\n",
      "\n",
      "\n",
      "\n",
      "Attaching package: ‘reshape2’\n",
      "\n",
      "\n",
      "The following objects are masked from ‘package:data.table’:\n",
      "\n",
      "    dcast, melt\n",
      "\n",
      "\n",
      "ReactomePA v1.36.0  For help: https://yulab-smu.top/biomedical-knowledge-mining-book/reactomepa.html\n",
      "\n",
      "If you use ReactomePA in published research, please cite:\n",
      "Guangchuang Yu, Qing-Yu He. ReactomePA: an R/Bioconductor package for reactome pathway analysis and visualization. Molecular BioSystems 2016, 12(2):477-479\n",
      "\n",
      "Loading required package: mgcv\n",
      "\n",
      "Loading required package: nlme\n",
      "\n",
      "\n",
      "Attaching package: ‘nlme’\n",
      "\n",
      "\n",
      "The following object is masked from ‘package:IRanges’:\n",
      "\n",
      "    collapse\n",
      "\n",
      "\n",
      "This is mgcv 1.8-41. For overview type 'help(\"mgcv-package\")'.\n",
      "\n",
      "Loading required package: genefilter\n",
      "\n",
      "\n",
      "Attaching package: ‘genefilter’\n",
      "\n",
      "\n",
      "The following object is masked from ‘package:rstatix’:\n",
      "\n",
      "    Anova\n",
      "\n",
      "\n",
      "The following objects are masked from ‘package:MatrixGenerics’:\n",
      "\n",
      "    rowSds, rowVars\n",
      "\n",
      "\n",
      "The following objects are masked from ‘package:matrixStats’:\n",
      "\n",
      "    rowSds, rowVars\n",
      "\n",
      "\n",
      "Loading required package: BiocParallel\n",
      "\n",
      "\n",
      "Attaching package: ‘patchwork’\n",
      "\n",
      "\n",
      "The following object is masked from ‘package:genefilter’:\n",
      "\n",
      "    area\n",
      "\n",
      "\n",
      "The following object is masked from ‘package:cowplot’:\n",
      "\n",
      "    align_plots\n",
      "\n",
      "\n",
      "\n",
      "Attaching package: ‘nnet’\n",
      "\n",
      "\n",
      "The following object is masked from ‘package:mgcv’:\n",
      "\n",
      "    multinom\n",
      "\n",
      "\n",
      "\n",
      "Attaching package: ‘dfidx’\n",
      "\n",
      "\n",
      "The following object is masked from ‘package:AnnotationDbi’:\n",
      "\n",
      "    select\n",
      "\n",
      "\n",
      "The following object is masked from ‘package:IRanges’:\n",
      "\n",
      "    slice\n",
      "\n",
      "\n",
      "The following object is masked from ‘package:stats’:\n",
      "\n",
      "    filter\n",
      "\n",
      "\n",
      "\n",
      "Attaching package: ‘cvAUC’\n",
      "\n",
      "\n",
      "The following object is masked from ‘package:genefilter’:\n",
      "\n",
      "    AUC\n",
      "\n",
      "\n",
      "Loading required package: maps\n",
      "\n",
      "Loading required package: shapefiles\n",
      "\n",
      "Loading required package: foreign\n",
      "\n",
      "\n",
      "Attaching package: ‘shapefiles’\n",
      "\n",
      "\n",
      "The following objects are masked from ‘package:foreign’:\n",
      "\n",
      "    read.dbf, write.dbf\n",
      "\n",
      "\n",
      "Welcome! Want to learn more? See two factoextra-related books at https://goo.gl/ve3WBa\n",
      "\n",
      "Loading required package: grid\n",
      "\n",
      "========================================\n",
      "ComplexHeatmap version 2.8.0\n",
      "Bioconductor page: http://bioconductor.org/packages/ComplexHeatmap/\n",
      "Github page: https://github.com/jokergoo/ComplexHeatmap\n",
      "Documentation: http://jokergoo.github.io/ComplexHeatmap-reference\n",
      "\n",
      "If you use it in published research, please cite:\n",
      "Gu, Z. Complex heatmaps reveal patterns and correlations in multidimensional \n",
      "  genomic data. Bioinformatics 2016.\n",
      "\n",
      "The new InteractiveComplexHeatmap package can directly export static \n",
      "complex heatmaps into an interactive Shiny app with zero effort. Have a try!\n",
      "\n",
      "This message can be suppressed by:\n",
      "  suppressPackageStartupMessages(library(ComplexHeatmap))\n",
      "========================================\n",
      "\n",
      "\n",
      "\n",
      "Attaching package: ‘ComplexHeatmap’\n",
      "\n",
      "\n",
      "The following object is masked from ‘package:genefilter’:\n",
      "\n",
      "    dist2\n",
      "\n",
      "\n",
      "The following object is masked from ‘package:network’:\n",
      "\n",
      "    %v%\n",
      "\n",
      "\n",
      "The following object is masked from ‘package:plotly’:\n",
      "\n",
      "    add_heatmap\n",
      "\n",
      "\n",
      "Welcome to compositions, a package for compositional data analysis.\n",
      "Find an intro with \"? compositions\"\n",
      "\n",
      "\n",
      "\n",
      "Attaching package: ‘compositions’\n",
      "\n",
      "\n",
      "The following object is masked from ‘package:DelayedArray’:\n",
      "\n",
      "    scale\n",
      "\n",
      "\n",
      "The following object is masked from ‘package:Matrix’:\n",
      "\n",
      "    norm\n",
      "\n",
      "\n",
      "The following object is masked from ‘package:scater’:\n",
      "\n",
      "    normalize\n",
      "\n",
      "\n",
      "The following objects are masked from ‘package:IRanges’:\n",
      "\n",
      "    cor, cov, var\n",
      "\n",
      "\n",
      "The following objects are masked from ‘package:S4Vectors’:\n",
      "\n",
      "    cor, cov, var\n",
      "\n",
      "\n",
      "The following objects are masked from ‘package:BiocGenerics’:\n",
      "\n",
      "    normalize, var\n",
      "\n",
      "\n",
      "The following object is masked from ‘package:igraph’:\n",
      "\n",
      "    normalize\n",
      "\n",
      "\n",
      "The following objects are masked from ‘package:stats’:\n",
      "\n",
      "    anova, cor, cov, dist, var\n",
      "\n",
      "\n",
      "The following objects are masked from ‘package:base’:\n",
      "\n",
      "    %*%, norm, scale, scale.default\n",
      "\n",
      "\n",
      "========================================\n",
      "circlize version 0.4.15\n",
      "CRAN page: https://cran.r-project.org/package=circlize\n",
      "Github page: https://github.com/jokergoo/circlize\n",
      "Documentation: https://jokergoo.github.io/circlize_book/book/\n",
      "\n",
      "If you use it in published research, please cite:\n",
      "Gu, Z. circlize implements and enhances circular visualization\n",
      "  in R. Bioinformatics 2014.\n",
      "\n",
      "This message can be suppressed by:\n",
      "  suppressPackageStartupMessages(library(circlize))\n",
      "========================================\n",
      "\n",
      "\n",
      "\n",
      "Attaching package: ‘circlize’\n",
      "\n",
      "\n",
      "The following object is masked from ‘package:igraph’:\n",
      "\n",
      "    degree\n",
      "\n",
      "\n",
      "Loading required package: survival\n",
      "\n",
      "Loading required package: TH.data\n",
      "\n",
      "Loading required package: MASS\n",
      "\n",
      "\n",
      "Attaching package: ‘MASS’\n",
      "\n",
      "\n",
      "The following object is masked from ‘package:dfidx’:\n",
      "\n",
      "    select\n",
      "\n",
      "\n",
      "The following object is masked from ‘package:patchwork’:\n",
      "\n",
      "    area\n",
      "\n",
      "\n",
      "The following object is masked from ‘package:genefilter’:\n",
      "\n",
      "    area\n",
      "\n",
      "\n",
      "The following object is masked from ‘package:rstatix’:\n",
      "\n",
      "    select\n",
      "\n",
      "\n",
      "The following object is masked from ‘package:clusterProfiler’:\n",
      "\n",
      "    select\n",
      "\n",
      "\n",
      "The following object is masked from ‘package:AnnotationDbi’:\n",
      "\n",
      "    select\n",
      "\n",
      "\n",
      "The following object is masked from ‘package:plotly’:\n",
      "\n",
      "    select\n",
      "\n",
      "\n",
      "\n",
      "Attaching package: ‘TH.data’\n",
      "\n",
      "\n",
      "The following object is masked from ‘package:MASS’:\n",
      "\n",
      "    geyser\n",
      "\n",
      "\n",
      "\n",
      "Attaching package: ‘purrr’\n",
      "\n",
      "\n",
      "The following object is masked from ‘package:maps’:\n",
      "\n",
      "    map\n",
      "\n",
      "\n",
      "The following object is masked from ‘package:gdata’:\n",
      "\n",
      "    keep\n",
      "\n",
      "\n",
      "The following object is masked from ‘package:data.table’:\n",
      "\n",
      "    transpose\n",
      "\n",
      "\n",
      "The following object is masked from ‘package:clusterProfiler’:\n",
      "\n",
      "    simplify\n",
      "\n",
      "\n",
      "The following object is masked from ‘package:DelayedArray’:\n",
      "\n",
      "    simplify\n",
      "\n",
      "\n",
      "The following object is masked from ‘package:GenomicRanges’:\n",
      "\n",
      "    reduce\n",
      "\n",
      "\n",
      "The following object is masked from ‘package:IRanges’:\n",
      "\n",
      "    reduce\n",
      "\n",
      "\n",
      "The following objects are masked from ‘package:igraph’:\n",
      "\n",
      "    compose, simplify\n",
      "\n",
      "\n",
      "Attaching shinyBS\n",
      "\n",
      "Loaded glmnet 4.1-6\n",
      "\n",
      "\n",
      "Attaching package: ‘glmnet’\n",
      "\n",
      "\n",
      "The following object is masked from ‘package:compositions’:\n",
      "\n",
      "    rmult\n",
      "\n",
      "\n",
      "\n",
      "Attaching package: ‘ggpubr’\n",
      "\n",
      "\n",
      "The following object is masked from ‘package:enrichplot’:\n",
      "\n",
      "    color_palette\n",
      "\n",
      "\n",
      "The following object is masked from ‘package:cowplot’:\n",
      "\n",
      "    get_legend\n",
      "\n",
      "\n",
      "corrplot 0.92 loaded\n",
      "\n",
      "\n",
      "Attaching package: ‘dplyr’\n",
      "\n",
      "\n",
      "The following object is masked from ‘package:MASS’:\n",
      "\n",
      "    select\n",
      "\n",
      "\n",
      "The following object is masked from ‘package:nlme’:\n",
      "\n",
      "    collapse\n",
      "\n",
      "\n",
      "The following objects are masked from ‘package:gdata’:\n",
      "\n",
      "    combine, first, last\n",
      "\n",
      "\n",
      "The following objects are masked from ‘package:Hmisc’:\n",
      "\n",
      "    src, summarize\n",
      "\n",
      "\n",
      "The following objects are masked from ‘package:data.table’:\n",
      "\n",
      "    between, first, last\n",
      "\n",
      "\n",
      "The following object is masked from ‘package:AnnotationDbi’:\n",
      "\n",
      "    select\n",
      "\n",
      "\n",
      "The following object is masked from ‘package:gridExtra’:\n",
      "\n",
      "    combine\n",
      "\n",
      "\n",
      "The following object is masked from ‘package:Biobase’:\n",
      "\n",
      "    combine\n",
      "\n",
      "\n",
      "The following objects are masked from ‘package:GenomicRanges’:\n",
      "\n",
      "    intersect, setdiff, union\n",
      "\n",
      "\n",
      "The following object is masked from ‘package:GenomeInfoDb’:\n",
      "\n",
      "    intersect\n",
      "\n",
      "\n",
      "The following objects are masked from ‘package:IRanges’:\n",
      "\n",
      "    collapse, desc, intersect, setdiff, slice, union\n",
      "\n",
      "\n",
      "The following objects are masked from ‘package:S4Vectors’:\n",
      "\n",
      "    first, intersect, rename, setdiff, setequal, union\n",
      "\n",
      "\n",
      "The following objects are masked from ‘package:BiocGenerics’:\n",
      "\n",
      "    combine, intersect, setdiff, union\n",
      "\n",
      "\n",
      "The following object is masked from ‘package:matrixStats’:\n",
      "\n",
      "    count\n",
      "\n",
      "\n",
      "The following objects are masked from ‘package:igraph’:\n",
      "\n",
      "    as_data_frame, groups, union\n",
      "\n",
      "\n",
      "The following objects are masked from ‘package:stats’:\n",
      "\n",
      "    filter, lag\n",
      "\n",
      "\n",
      "The following objects are masked from ‘package:base’:\n",
      "\n",
      "    intersect, setdiff, setequal, union\n",
      "\n",
      "\n",
      "Type 'citation(\"pROC\")' for a citation.\n",
      "\n",
      "\n",
      "Attaching package: ‘pROC’\n",
      "\n",
      "\n",
      "The following object is masked from ‘package:plotROC’:\n",
      "\n",
      "    ggroc\n",
      "\n",
      "\n",
      "The following objects are masked from ‘package:compositions’:\n",
      "\n",
      "    cov, var\n",
      "\n",
      "\n",
      "The following object is masked from ‘package:colorspace’:\n",
      "\n",
      "    coords\n",
      "\n",
      "\n",
      "The following objects are masked from ‘package:IRanges’:\n",
      "\n",
      "    cov, var\n",
      "\n",
      "\n",
      "The following objects are masked from ‘package:S4Vectors’:\n",
      "\n",
      "    cov, var\n",
      "\n",
      "\n",
      "The following object is masked from ‘package:BiocGenerics’:\n",
      "\n",
      "    var\n",
      "\n",
      "\n",
      "The following objects are masked from ‘package:stats’:\n",
      "\n",
      "    cov, smooth, var\n",
      "\n",
      "\n"
     ]
    }
   ],
   "source": [
    "source('MS0_Libraries.r')"
   ]
  },
  {
   "cell_type": "code",
   "execution_count": 3,
   "id": "1736d828-74ab-4bc4-a6cc-d047ca6573a1",
   "metadata": {},
   "outputs": [
    {
     "name": "stderr",
     "output_type": "stream",
     "text": [
      "Warning message:\n",
      "“\u001b[1m\u001b[22mThe `size` argument of `element_line()` is deprecated as of ggplot2 3.4.0.\n",
      "\u001b[36mℹ\u001b[39m Please use the `linewidth` argument instead.”\n"
     ]
    }
   ],
   "source": [
    "source('MS4_Plot_Config.r')"
   ]
  },
  {
   "cell_type": "markdown",
   "id": "9d409d14-a693-4722-9648-4b6bacb4b74a",
   "metadata": {
    "tags": []
   },
   "source": [
    "###############################################\n",
    "# Preqrequisites Configurations & Parameters"
   ]
  },
  {
   "cell_type": "code",
   "execution_count": 4,
   "id": "22415b81-130b-4ded-9fde-52c2865e4d34",
   "metadata": {},
   "outputs": [],
   "source": [
    "result_path_rep = '../results/current/Reproduction_GR' # path to input data from GR"
   ]
  },
  {
   "cell_type": "code",
   "execution_count": 5,
   "id": "709ccb63-b013-47e1-8bb5-e8dd5eefb312",
   "metadata": {},
   "outputs": [],
   "source": [
    "result_path_model = '../results/current' # path to pre-trained model"
   ]
  },
  {
   "cell_type": "code",
   "execution_count": 6,
   "id": "17c51dce-9c0d-4c0a-bbb1-6015d1743d4f",
   "metadata": {},
   "outputs": [],
   "source": [
    "name1 = 'V_AZIMUTH_REPRODUCTION_v2'   # name of Azimuth reproduction dataset V2"
   ]
  },
  {
   "cell_type": "markdown",
   "id": "43e2937f-4e6d-4e90-99f2-2f7c370f9639",
   "metadata": {},
   "source": [
    "# Load Data "
   ]
  },
  {
   "cell_type": "markdown",
   "id": "5c509a35-ff62-4576-bb0a-bf5802096cf3",
   "metadata": {},
   "source": [
    "## Prepared combined data"
   ]
  },
  {
   "cell_type": "code",
   "execution_count": 7,
   "id": "c1e7d1c3-2b21-4434-83cd-0733f80b4893",
   "metadata": {},
   "outputs": [],
   "source": [
    "### Load the normalized Groningen dataset"
   ]
  },
  {
   "cell_type": "code",
   "execution_count": 8,
   "id": "b9993738-caa8-479d-9145-c251182153f5",
   "metadata": {
    "tags": []
   },
   "outputs": [
    {
     "name": "stdout",
     "output_type": "stream",
     "text": [
      "[1] \"2024-01-11 16:58:49 CET\"\n"
     ]
    }
   ],
   "source": [
    "path = paste0(result_path_rep, '/Combined_Data_',name1,'.csv')\n",
    "data_long1 = read.csv(path)\n",
    "print(file.info(path)$mtime)"
   ]
  },
  {
   "cell_type": "code",
   "execution_count": 9,
   "id": "6fe3d767-8be5-400e-83e2-b9735a9bd096",
   "metadata": {},
   "outputs": [],
   "source": [
    "data_long = data_long1"
   ]
  },
  {
   "cell_type": "code",
   "execution_count": 10,
   "id": "6ee668e4-c89f-4838-8ae0-c1049b8a4119",
   "metadata": {},
   "outputs": [
    {
     "data": {
      "text/html": [
       "<table class=\"dataframe\">\n",
       "<caption>A data.frame: 2 × 5</caption>\n",
       "<thead>\n",
       "\t<tr><th></th><th scope=col>X</th><th scope=col>sample_id</th><th scope=col>variable</th><th scope=col>value</th><th scope=col>type</th></tr>\n",
       "\t<tr><th></th><th scope=col>&lt;int&gt;</th><th scope=col>&lt;chr&gt;</th><th scope=col>&lt;chr&gt;</th><th scope=col>&lt;dbl&gt;</th><th scope=col>&lt;chr&gt;</th></tr>\n",
       "</thead>\n",
       "<tbody>\n",
       "\t<tr><th scope=row>1</th><td>1</td><td>Baseline.TEST_1 </td><td>B.cell__ACTB</td><td>-0.1451209</td><td>single_cell</td></tr>\n",
       "\t<tr><th scope=row>2</th><td>2</td><td>Baseline.TEST_12</td><td>B.cell__ACTB</td><td> 0.2310092</td><td>single_cell</td></tr>\n",
       "</tbody>\n",
       "</table>\n"
      ],
      "text/latex": [
       "A data.frame: 2 × 5\n",
       "\\begin{tabular}{r|lllll}\n",
       "  & X & sample\\_id & variable & value & type\\\\\n",
       "  & <int> & <chr> & <chr> & <dbl> & <chr>\\\\\n",
       "\\hline\n",
       "\t1 & 1 & Baseline.TEST\\_1  & B.cell\\_\\_ACTB & -0.1451209 & single\\_cell\\\\\n",
       "\t2 & 2 & Baseline.TEST\\_12 & B.cell\\_\\_ACTB &  0.2310092 & single\\_cell\\\\\n",
       "\\end{tabular}\n"
      ],
      "text/markdown": [
       "\n",
       "A data.frame: 2 × 5\n",
       "\n",
       "| <!--/--> | X &lt;int&gt; | sample_id &lt;chr&gt; | variable &lt;chr&gt; | value &lt;dbl&gt; | type &lt;chr&gt; |\n",
       "|---|---|---|---|---|---|\n",
       "| 1 | 1 | Baseline.TEST_1  | B.cell__ACTB | -0.1451209 | single_cell |\n",
       "| 2 | 2 | Baseline.TEST_12 | B.cell__ACTB |  0.2310092 | single_cell |\n",
       "\n"
      ],
      "text/plain": [
       "  X sample_id        variable     value      type       \n",
       "1 1 Baseline.TEST_1  B.cell__ACTB -0.1451209 single_cell\n",
       "2 2 Baseline.TEST_12 B.cell__ACTB  0.2310092 single_cell"
      ]
     },
     "metadata": {},
     "output_type": "display_data"
    }
   ],
   "source": [
    "head(data_long,2)"
   ]
  },
  {
   "cell_type": "markdown",
   "id": "4cbc24be-052a-442b-9410-e2baf2eca0ed",
   "metadata": {},
   "source": [
    "## Model and features"
   ]
  },
  {
   "cell_type": "code",
   "execution_count": 11,
   "id": "ebd35901-e035-42f0-b56a-c91a8a603237",
   "metadata": {},
   "outputs": [],
   "source": [
    "## Load the model trained on the Munich data"
   ]
  },
  {
   "cell_type": "code",
   "execution_count": 12,
   "id": "989e9b02-910f-4c66-a316-8a3476167f42",
   "metadata": {},
   "outputs": [
    {
     "data": {
      "text/html": [
       "'../results/current'"
      ],
      "text/latex": [
       "'../results/current'"
      ],
      "text/markdown": [
       "'../results/current'"
      ],
      "text/plain": [
       "[1] \"../results/current\""
      ]
     },
     "metadata": {},
     "output_type": "display_data"
    }
   ],
   "source": [
    "result_path_model"
   ]
  },
  {
   "cell_type": "markdown",
   "id": "d0ed86cf-b211-48e4-8b1a-eeda4518b7d6",
   "metadata": {},
   "source": [
    "### Model based on top Factor3/ Factor 4 Features"
   ]
  },
  {
   "cell_type": "code",
   "execution_count": 13,
   "id": "de6a48e3-80c0-4bc8-a084-99aba9008e1c",
   "metadata": {},
   "outputs": [],
   "source": [
    "### Load the model"
   ]
  },
  {
   "cell_type": "code",
   "execution_count": 14,
   "id": "5b68c932-d119-4529-ba57-6d43a25c75e1",
   "metadata": {},
   "outputs": [
    {
     "name": "stdout",
     "output_type": "stream",
     "text": [
      "[1] \"2024-01-11 17:47:56 CET\"\n"
     ]
    }
   ],
   "source": [
    "path = paste0(result_path_model, '/Reproduction/GX3_Model', '.Rdata')\n",
    "load( file = path )\n",
    "print(file.info(path)$mtime)"
   ]
  },
  {
   "cell_type": "code",
   "execution_count": 15,
   "id": "8a9fbdf7-1cb3-48df-bad7-beb4b752b1c4",
   "metadata": {},
   "outputs": [
    {
     "data": {
      "text/plain": [
       "\n",
       "Call:  glmnet(x = x, y = y, family = \"binomial\", alpha = 1, lambda = best_lambda) \n",
       "\n",
       "  Df  %Dev  Lambda\n",
       "1  6 90.68 0.03313"
      ]
     },
     "metadata": {},
     "output_type": "display_data"
    }
   ],
   "source": [
    "best_model"
   ]
  },
  {
   "cell_type": "code",
   "execution_count": 16,
   "id": "c8aecfaf-0f8d-44db-99f2-747e24487562",
   "metadata": {},
   "outputs": [
    {
     "data": {
      "text/html": [
       "0.0331307966001499"
      ],
      "text/latex": [
       "0.0331307966001499"
      ],
      "text/markdown": [
       "0.0331307966001499"
      ],
      "text/plain": [
       "[1] 0.0331308"
      ]
     },
     "metadata": {},
     "output_type": "display_data"
    }
   ],
   "source": [
    "best_model$lambda"
   ]
  },
  {
   "cell_type": "code",
   "execution_count": 17,
   "id": "b8fabcc7-dcd3-49f8-b4c7-e62de8b687ce",
   "metadata": {},
   "outputs": [],
   "source": [
    "lambda = best_model$lambda # setlambda"
   ]
  },
  {
   "cell_type": "code",
   "execution_count": 18,
   "id": "0177e200-4d9a-4cf1-9aaa-0d6dec6d8d4f",
   "metadata": {},
   "outputs": [],
   "source": [
    "### Load the input features used to train the model"
   ]
  },
  {
   "cell_type": "code",
   "execution_count": 19,
   "id": "52b7ef8a-ec6b-4496-885c-b93712823e0e",
   "metadata": {},
   "outputs": [
    {
     "name": "stdout",
     "output_type": "stream",
     "text": [
      "[1] \"2024-01-11 17:47:56 CET\"\n"
     ]
    }
   ],
   "source": [
    "path = paste0(result_path_model , '/Reproduction/GX3_input_features_lasso.csv')\n",
    "input_features = read.csv(path)\n",
    "print(file.info(path)$mtime)"
   ]
  },
  {
   "cell_type": "markdown",
   "id": "1fd8c4ab-c07e-4704-b81a-292841011aa9",
   "metadata": {
    "tags": []
   },
   "source": [
    "### Model based on selected NK cell features"
   ]
  },
  {
   "cell_type": "code",
   "execution_count": 20,
   "id": "39ad2939-7f53-4326-8742-04d3c3ff7c38",
   "metadata": {},
   "outputs": [],
   "source": [
    "## Load the model"
   ]
  },
  {
   "cell_type": "code",
   "execution_count": 21,
   "id": "1676844e-2769-4eef-8948-2923810ffac3",
   "metadata": {},
   "outputs": [
    {
     "name": "stdout",
     "output_type": "stream",
     "text": [
      "[1] \"2024-01-11 17:47:56 CET\"\n"
     ]
    }
   ],
   "source": [
    "path =  paste0(result_path_model, '/Reproduction/GX3_NK_Model_GLM', '.Rdata')\n",
    "load( file =path)\n",
    "print(file.info(path)$mtime)"
   ]
  },
  {
   "cell_type": "code",
   "execution_count": 22,
   "id": "0c8a0faa-8a8d-442b-adaa-a536f2678958",
   "metadata": {},
   "outputs": [
    {
     "data": {
      "text/html": [
       "<style>\n",
       ".dl-inline {width: auto; margin:0; padding: 0}\n",
       ".dl-inline>dt, .dl-inline>dd {float: none; width: auto; display: inline-block}\n",
       ".dl-inline>dt::after {content: \":\\0020\"; padding-right: .5ex}\n",
       ".dl-inline>dt:not(:first-of-type) {padding-left: .5ex}\n",
       "</style><dl class=dl-inline><dt>(Intercept)</dt><dd>-2.76821780533409</dd><dt>Nkdim__CD53</dt><dd>0.69556909910812</dd><dt>Nkdim__GZMB</dt><dd>0.209644409384611</dd><dt>Nkdim__TXNIP</dt><dd>0.835336681460189</dd></dl>\n"
      ],
      "text/latex": [
       "\\begin{description*}\n",
       "\\item[(Intercept)] -2.76821780533409\n",
       "\\item[Nkdim\\textbackslash{}\\_\\textbackslash{}\\_CD53] 0.69556909910812\n",
       "\\item[Nkdim\\textbackslash{}\\_\\textbackslash{}\\_GZMB] 0.209644409384611\n",
       "\\item[Nkdim\\textbackslash{}\\_\\textbackslash{}\\_TXNIP] 0.835336681460189\n",
       "\\end{description*}\n"
      ],
      "text/markdown": [
       "(Intercept)\n",
       ":   -2.76821780533409Nkdim__CD53\n",
       ":   0.69556909910812Nkdim__GZMB\n",
       ":   0.209644409384611Nkdim__TXNIP\n",
       ":   0.835336681460189\n",
       "\n"
      ],
      "text/plain": [
       " (Intercept)  Nkdim__CD53  Nkdim__GZMB Nkdim__TXNIP \n",
       "  -2.7682178    0.6955691    0.2096444    0.8353367 "
      ]
     },
     "metadata": {},
     "output_type": "display_data"
    }
   ],
   "source": [
    "coef(model_NK)"
   ]
  },
  {
   "cell_type": "code",
   "execution_count": 23,
   "id": "3ba90f8d-dfe3-420b-8497-b5ed06dec365",
   "metadata": {},
   "outputs": [],
   "source": [
    "### Load the input features used to train the model"
   ]
  },
  {
   "cell_type": "code",
   "execution_count": 24,
   "id": "d2d828e7-f807-443e-81bb-c19f0cadd043",
   "metadata": {
    "tags": []
   },
   "outputs": [
    {
     "name": "stdout",
     "output_type": "stream",
     "text": [
      "[1] \"2024-01-11 17:47:56 CET\"\n"
     ]
    }
   ],
   "source": [
    "path = paste0(result_path_model , '/Reproduction/GX3_NK_input_features_lasso.csv')\n",
    "input_features_NK = read.csv(path)\n",
    "print(file.info(path)$mtime)"
   ]
  },
  {
   "cell_type": "markdown",
   "id": "d5795db1-c163-49a1-9500-02c6b0141906",
   "metadata": {},
   "source": [
    "## Groningen sample classification & clinical data"
   ]
  },
  {
   "cell_type": "code",
   "execution_count": 25,
   "id": "3b51e14a-f4b0-47e3-9166-5272ce7f25f1",
   "metadata": {
    "tags": []
   },
   "outputs": [],
   "source": [
    "## Sample_meta data of the groningen cohort"
   ]
  },
  {
   "cell_type": "code",
   "execution_count": 26,
   "id": "6b715fbc-4fc9-4489-b6ce-322aa8affb7d",
   "metadata": {},
   "outputs": [
    {
     "name": "stdout",
     "output_type": "stream",
     "text": [
      "[1] \"2024-01-11 16:59:29 CET\"\n"
     ]
    }
   ],
   "source": [
    "path = paste0(result_path_rep, '/groningen_output_class.csv')\n",
    "sample_data_load = read.csv(path)\n",
    "print(file.info(path)$mtime)"
   ]
  },
  {
   "cell_type": "code",
   "execution_count": 27,
   "id": "d0c5f44d-1ac6-434d-a06c-5a673eb011c4",
   "metadata": {},
   "outputs": [],
   "source": [
    "sample_data = sample_data_load"
   ]
  },
  {
   "cell_type": "code",
   "execution_count": 28,
   "id": "53dac373-9859-4ff4-a2bd-b1fc2ea0d639",
   "metadata": {},
   "outputs": [
    {
     "data": {
      "text/html": [
       "<table class=\"dataframe\">\n",
       "<caption>A data.frame: 2 × 2</caption>\n",
       "<thead>\n",
       "\t<tr><th></th><th scope=col>record_id</th><th scope=col>outcome</th></tr>\n",
       "\t<tr><th></th><th scope=col>&lt;int&gt;</th><th scope=col>&lt;chr&gt;</th></tr>\n",
       "</thead>\n",
       "<tbody>\n",
       "\t<tr><th scope=row>1</th><td>14</td><td>Better</td></tr>\n",
       "\t<tr><th scope=row>2</th><td>15</td><td>Better</td></tr>\n",
       "</tbody>\n",
       "</table>\n"
      ],
      "text/latex": [
       "A data.frame: 2 × 2\n",
       "\\begin{tabular}{r|ll}\n",
       "  & record\\_id & outcome\\\\\n",
       "  & <int> & <chr>\\\\\n",
       "\\hline\n",
       "\t1 & 14 & Better\\\\\n",
       "\t2 & 15 & Better\\\\\n",
       "\\end{tabular}\n"
      ],
      "text/markdown": [
       "\n",
       "A data.frame: 2 × 2\n",
       "\n",
       "| <!--/--> | record_id &lt;int&gt; | outcome &lt;chr&gt; |\n",
       "|---|---|---|\n",
       "| 1 | 14 | Better |\n",
       "| 2 | 15 | Better |\n",
       "\n"
      ],
      "text/plain": [
       "  record_id outcome\n",
       "1 14        Better \n",
       "2 15        Better "
      ]
     },
     "metadata": {},
     "output_type": "display_data"
    }
   ],
   "source": [
    "head(sample_data,2)"
   ]
  },
  {
   "cell_type": "code",
   "execution_count": 29,
   "id": "3750606b-9e4a-4d6f-b442-6ff87eb76322",
   "metadata": {},
   "outputs": [
    {
     "data": {
      "text/html": [
       "16"
      ],
      "text/latex": [
       "16"
      ],
      "text/markdown": [
       "16"
      ],
      "text/plain": [
       "[1] 16"
      ]
     },
     "metadata": {},
     "output_type": "display_data"
    }
   ],
   "source": [
    "nrow(sample_data)"
   ]
  },
  {
   "cell_type": "code",
   "execution_count": 30,
   "id": "e238e6f4-8d7a-416a-bfc1-7544c7dfda6c",
   "metadata": {},
   "outputs": [],
   "source": [
    "## Clinical data from the Groningen cohort"
   ]
  },
  {
   "cell_type": "code",
   "execution_count": 31,
   "id": "967cddab-14de-4dc9-ba7a-bc2d08398136",
   "metadata": {},
   "outputs": [
    {
     "name": "stdout",
     "output_type": "stream",
     "text": [
      "[1] \"2024-01-11 16:56:44 CET\"\n"
     ]
    }
   ],
   "source": [
    "path = paste0(result_path_rep, '/clinical_values_groningen.csv')\n",
    "clinical_data= read.csv(path)\n",
    "print(file.info(path)$mtime)"
   ]
  },
  {
   "cell_type": "code",
   "execution_count": 32,
   "id": "95faf8b9-37ab-4792-8777-71209274e28c",
   "metadata": {},
   "outputs": [
    {
     "data": {
      "text/html": [
       "40"
      ],
      "text/latex": [
       "40"
      ],
      "text/markdown": [
       "40"
      ],
      "text/plain": [
       "[1] 40"
      ]
     },
     "metadata": {},
     "output_type": "display_data"
    }
   ],
   "source": [
    "nrow(clinical_data)"
   ]
  },
  {
   "cell_type": "code",
   "execution_count": 33,
   "id": "c38d2186-e208-4ddb-a75a-79be4831fb4b",
   "metadata": {},
   "outputs": [],
   "source": [
    "## Merge sample data and clinical data"
   ]
  },
  {
   "cell_type": "code",
   "execution_count": 34,
   "id": "ea0ca902-4a93-49e2-89f4-3e6baeeb99dc",
   "metadata": {},
   "outputs": [],
   "source": [
    "sample_data = merge(clinical_data, sample_data, all.x = TRUE)"
   ]
  },
  {
   "cell_type": "code",
   "execution_count": 35,
   "id": "ab5f664f-dc50-4c9a-a46a-1c8342323308",
   "metadata": {},
   "outputs": [
    {
     "data": {
      "text/html": [
       "40"
      ],
      "text/latex": [
       "40"
      ],
      "text/markdown": [
       "40"
      ],
      "text/plain": [
       "[1] 40"
      ]
     },
     "metadata": {},
     "output_type": "display_data"
    }
   ],
   "source": [
    "nrow(sample_data)"
   ]
  },
  {
   "cell_type": "code",
   "execution_count": 36,
   "id": "583a1b34-14a6-4f79-bd56-13dcd5a987a5",
   "metadata": {},
   "outputs": [],
   "source": [
    "#head(sample_data,2)"
   ]
  },
  {
   "cell_type": "code",
   "execution_count": 37,
   "id": "51d78d9e-c8d5-43ba-8e26-5a28821fa833",
   "metadata": {},
   "outputs": [],
   "source": [
    "### Sample data with available outcome classification"
   ]
  },
  {
   "cell_type": "code",
   "execution_count": 38,
   "id": "5b388055-681e-477f-95e1-704fa15dbc5a",
   "metadata": {},
   "outputs": [
    {
     "data": {
      "text/html": [
       "16"
      ],
      "text/latex": [
       "16"
      ],
      "text/markdown": [
       "16"
      ],
      "text/plain": [
       "[1] 16"
      ]
     },
     "metadata": {},
     "output_type": "display_data"
    }
   ],
   "source": [
    "nrow(sample_data[!is.na(sample_data$outcome),])  # merged outcome for all samples for which known "
   ]
  },
  {
   "cell_type": "code",
   "execution_count": null,
   "id": "f9a36d3a-97b0-4045-b819-2be61b612959",
   "metadata": {},
   "outputs": [],
   "source": []
  },
  {
   "cell_type": "markdown",
   "id": "2e957deb-783c-4107-af7b-4a46346b4c43",
   "metadata": {
    "tags": []
   },
   "source": [
    "## Predictions on Training Data (MU)"
   ]
  },
  {
   "cell_type": "code",
   "execution_count": 39,
   "id": "8f643629-f831-422d-9be7-1a690a0dfa17",
   "metadata": {},
   "outputs": [],
   "source": [
    "### for NK Feature trained model load the preictions on the training data"
   ]
  },
  {
   "cell_type": "code",
   "execution_count": 40,
   "id": "7a232e45-07ac-4dd0-ab9a-78b48713b79f",
   "metadata": {},
   "outputs": [
    {
     "name": "stdout",
     "output_type": "stream",
     "text": [
      "[1] \"2024-01-11 17:47:56 CET\"\n"
     ]
    }
   ],
   "source": [
    "path = paste0(result_path_model, '/Reproduction/GX3_NK_prediction_result_TRAIN.csv')\n",
    "train_predictions_NK = read.csv(path)\n",
    "print(file.info(path)$mtime)"
   ]
  },
  {
   "cell_type": "code",
   "execution_count": 41,
   "id": "eb2f6640-9bf3-4ea1-9cac-ec2b167f567f",
   "metadata": {},
   "outputs": [
    {
     "data": {
      "text/html": [
       "<table class=\"dataframe\">\n",
       "<caption>A data.frame: 2 × 3</caption>\n",
       "<thead>\n",
       "\t<tr><th></th><th scope=col>X</th><th scope=col>y</th><th scope=col>s1</th></tr>\n",
       "\t<tr><th></th><th scope=col>&lt;int&gt;</th><th scope=col>&lt;int&gt;</th><th scope=col>&lt;dbl&gt;</th></tr>\n",
       "</thead>\n",
       "<tbody>\n",
       "\t<tr><th scope=row>1</th><td>42</td><td>1</td><td>0.1309654</td></tr>\n",
       "\t<tr><th scope=row>2</th><td>46</td><td>1</td><td>0.4522560</td></tr>\n",
       "</tbody>\n",
       "</table>\n"
      ],
      "text/latex": [
       "A data.frame: 2 × 3\n",
       "\\begin{tabular}{r|lll}\n",
       "  & X & y & s1\\\\\n",
       "  & <int> & <int> & <dbl>\\\\\n",
       "\\hline\n",
       "\t1 & 42 & 1 & 0.1309654\\\\\n",
       "\t2 & 46 & 1 & 0.4522560\\\\\n",
       "\\end{tabular}\n"
      ],
      "text/markdown": [
       "\n",
       "A data.frame: 2 × 3\n",
       "\n",
       "| <!--/--> | X &lt;int&gt; | y &lt;int&gt; | s1 &lt;dbl&gt; |\n",
       "|---|---|---|---|\n",
       "| 1 | 42 | 1 | 0.1309654 |\n",
       "| 2 | 46 | 1 | 0.4522560 |\n",
       "\n"
      ],
      "text/plain": [
       "  X  y s1       \n",
       "1 42 1 0.1309654\n",
       "2 46 1 0.4522560"
      ]
     },
     "metadata": {},
     "output_type": "display_data"
    }
   ],
   "source": [
    "head(train_predictions_NK,2)"
   ]
  },
  {
   "cell_type": "markdown",
   "id": "7fc76615-f42c-4b05-8f4e-f2d6020dc5c4",
   "metadata": {},
   "source": [
    "# Apply prediction model"
   ]
  },
  {
   "cell_type": "markdown",
   "id": "409492e1-5cb7-4c57-915f-eec103458996",
   "metadata": {
    "tags": []
   },
   "source": [
    "## Prepare Data"
   ]
  },
  {
   "cell_type": "code",
   "execution_count": 42,
   "id": "6a59de2b-db67-4b28-8af0-a5a8003b8f73",
   "metadata": {},
   "outputs": [
    {
     "data": {
      "text/html": [
       "<table class=\"dataframe\">\n",
       "<caption>A data.frame: 2 × 5</caption>\n",
       "<thead>\n",
       "\t<tr><th></th><th scope=col>X</th><th scope=col>sample_id</th><th scope=col>variable</th><th scope=col>value</th><th scope=col>type</th></tr>\n",
       "\t<tr><th></th><th scope=col>&lt;int&gt;</th><th scope=col>&lt;chr&gt;</th><th scope=col>&lt;chr&gt;</th><th scope=col>&lt;dbl&gt;</th><th scope=col>&lt;chr&gt;</th></tr>\n",
       "</thead>\n",
       "<tbody>\n",
       "\t<tr><th scope=row>1</th><td>1</td><td>Baseline.TEST_1 </td><td>B.cell__ACTB</td><td>-0.1451209</td><td>single_cell</td></tr>\n",
       "\t<tr><th scope=row>2</th><td>2</td><td>Baseline.TEST_12</td><td>B.cell__ACTB</td><td> 0.2310092</td><td>single_cell</td></tr>\n",
       "</tbody>\n",
       "</table>\n"
      ],
      "text/latex": [
       "A data.frame: 2 × 5\n",
       "\\begin{tabular}{r|lllll}\n",
       "  & X & sample\\_id & variable & value & type\\\\\n",
       "  & <int> & <chr> & <chr> & <dbl> & <chr>\\\\\n",
       "\\hline\n",
       "\t1 & 1 & Baseline.TEST\\_1  & B.cell\\_\\_ACTB & -0.1451209 & single\\_cell\\\\\n",
       "\t2 & 2 & Baseline.TEST\\_12 & B.cell\\_\\_ACTB &  0.2310092 & single\\_cell\\\\\n",
       "\\end{tabular}\n"
      ],
      "text/markdown": [
       "\n",
       "A data.frame: 2 × 5\n",
       "\n",
       "| <!--/--> | X &lt;int&gt; | sample_id &lt;chr&gt; | variable &lt;chr&gt; | value &lt;dbl&gt; | type &lt;chr&gt; |\n",
       "|---|---|---|---|---|---|\n",
       "| 1 | 1 | Baseline.TEST_1  | B.cell__ACTB | -0.1451209 | single_cell |\n",
       "| 2 | 2 | Baseline.TEST_12 | B.cell__ACTB |  0.2310092 | single_cell |\n",
       "\n"
      ],
      "text/plain": [
       "  X sample_id        variable     value      type       \n",
       "1 1 Baseline.TEST_1  B.cell__ACTB -0.1451209 single_cell\n",
       "2 2 Baseline.TEST_12 B.cell__ACTB  0.2310092 single_cell"
      ]
     },
     "metadata": {},
     "output_type": "display_data"
    }
   ],
   "source": [
    "head(data_long,2)  # Groningen data"
   ]
  },
  {
   "cell_type": "code",
   "execution_count": 43,
   "id": "ca403c7b-0c51-42ea-892b-f2fd4264b733",
   "metadata": {},
   "outputs": [],
   "source": [
    "## Adjust some of the columns"
   ]
  },
  {
   "cell_type": "code",
   "execution_count": 44,
   "id": "63664090-bbd0-4c07-851c-a5840145eac8",
   "metadata": {},
   "outputs": [],
   "source": [
    "data_long$sample_id = as.character(data_long$sample_id)"
   ]
  },
  {
   "cell_type": "code",
   "execution_count": 45,
   "id": "2109270c-a45c-4efa-bbbe-aea1b17384e1",
   "metadata": {},
   "outputs": [],
   "source": [
    "data_long$type = str_replace(data_long$variable, '__.*', '')\n",
    "data_long$type = str_replace(data_long$type, '\\\\.', '')"
   ]
  },
  {
   "cell_type": "code",
   "execution_count": 46,
   "id": "2884894f-a3b3-4359-987e-90165e92b5e8",
   "metadata": {},
   "outputs": [],
   "source": [
    "data_long$variable_name = str_replace(data_long$variable, '.*__', '')"
   ]
  },
  {
   "cell_type": "code",
   "execution_count": 47,
   "id": "b5e43be1-1a9a-4080-aa1b-4485dbbc28fa",
   "metadata": {},
   "outputs": [],
   "source": [
    "## Make sure type column matches"
   ]
  },
  {
   "cell_type": "code",
   "execution_count": 48,
   "id": "3a1965aa-f71d-493f-a9fd-f16dee72ddaa",
   "metadata": {},
   "outputs": [],
   "source": [
    "data_long$type = str_replace(data_long$type, 'NKdim', 'Nkdim')\n",
    "data_long$variable = str_replace(data_long$variable, 'NKdim', 'Nkdim')"
   ]
  },
  {
   "cell_type": "markdown",
   "id": "bde90992-48e9-4188-8117-f8544e0c9512",
   "metadata": {},
   "source": [
    "## Apply model to new data"
   ]
  },
  {
   "cell_type": "markdown",
   "id": "84da4e62-e0d7-4cfa-bc06-710bfca5cdb6",
   "metadata": {
    "tags": []
   },
   "source": [
    "### Model based on top Factor3/ Factor4 features"
   ]
  },
  {
   "cell_type": "code",
   "execution_count": 49,
   "id": "05b2d41e-659c-4423-9028-75f9ee56d0a4",
   "metadata": {},
   "outputs": [],
   "source": [
    "## List of the input features"
   ]
  },
  {
   "cell_type": "code",
   "execution_count": 50,
   "id": "f42609a7-8eef-42bc-8977-07117c28097c",
   "metadata": {},
   "outputs": [],
   "source": [
    "input_features$X = NULL"
   ]
  },
  {
   "cell_type": "code",
   "execution_count": 51,
   "id": "43ed9c83-22a4-4504-9206-ebd2d0f20fa9",
   "metadata": {},
   "outputs": [
    {
     "data": {
      "text/html": [
       "<table class=\"dataframe\">\n",
       "<caption>A data.frame: 2 × 1</caption>\n",
       "<thead>\n",
       "\t<tr><th></th><th scope=col>features</th></tr>\n",
       "\t<tr><th></th><th scope=col>&lt;chr&gt;</th></tr>\n",
       "</thead>\n",
       "<tbody>\n",
       "\t<tr><th scope=row>1</th><td>CD4_TCM__ATP5F1E</td></tr>\n",
       "\t<tr><th scope=row>2</th><td>CD4_TCM__ATP5ME </td></tr>\n",
       "</tbody>\n",
       "</table>\n"
      ],
      "text/latex": [
       "A data.frame: 2 × 1\n",
       "\\begin{tabular}{r|l}\n",
       "  & features\\\\\n",
       "  & <chr>\\\\\n",
       "\\hline\n",
       "\t1 & CD4\\_TCM\\_\\_ATP5F1E\\\\\n",
       "\t2 & CD4\\_TCM\\_\\_ATP5ME \\\\\n",
       "\\end{tabular}\n"
      ],
      "text/markdown": [
       "\n",
       "A data.frame: 2 × 1\n",
       "\n",
       "| <!--/--> | features &lt;chr&gt; |\n",
       "|---|---|\n",
       "| 1 | CD4_TCM__ATP5F1E |\n",
       "| 2 | CD4_TCM__ATP5ME  |\n",
       "\n"
      ],
      "text/plain": [
       "  features        \n",
       "1 CD4_TCM__ATP5F1E\n",
       "2 CD4_TCM__ATP5ME "
      ]
     },
     "metadata": {},
     "output_type": "display_data"
    }
   ],
   "source": [
    "head(input_features,2)"
   ]
  },
  {
   "cell_type": "code",
   "execution_count": 52,
   "id": "9c9cde32-d6ed-4689-8562-db40d78f8ee4",
   "metadata": {},
   "outputs": [
    {
     "data": {
      "text/html": [
       "109"
      ],
      "text/latex": [
       "109"
      ],
      "text/markdown": [
       "109"
      ],
      "text/plain": [
       "[1] 109"
      ]
     },
     "metadata": {},
     "output_type": "display_data"
    }
   ],
   "source": [
    "nrow(input_features)"
   ]
  },
  {
   "cell_type": "code",
   "execution_count": 53,
   "id": "f6fd2220-9975-414f-abfc-009d1b314110",
   "metadata": {},
   "outputs": [],
   "source": [
    "## Get Groningen data values for the input features"
   ]
  },
  {
   "cell_type": "code",
   "execution_count": 54,
   "id": "4494657b-5ab5-4365-b6a9-77569b28dda5",
   "metadata": {},
   "outputs": [],
   "source": [
    "input_data = merge(input_features, unique(data_long$sample_id), all = TRUE)\n",
    "colnames(input_data) = c( 'variable', 'sample_id')"
   ]
  },
  {
   "cell_type": "code",
   "execution_count": 55,
   "id": "bd1301b5-b07b-4d1d-8c7b-af81f3feb960",
   "metadata": {},
   "outputs": [
    {
     "data": {
      "text/html": [
       "11227"
      ],
      "text/latex": [
       "11227"
      ],
      "text/markdown": [
       "11227"
      ],
      "text/plain": [
       "[1] 11227"
      ]
     },
     "metadata": {},
     "output_type": "display_data"
    },
    {
     "data": {
      "text/html": [
       "11227"
      ],
      "text/latex": [
       "11227"
      ],
      "text/markdown": [
       "11227"
      ],
      "text/plain": [
       "[1] 11227"
      ]
     },
     "metadata": {},
     "output_type": "display_data"
    }
   ],
   "source": [
    "nrow(input_data)\n",
    "nrow(unique(input_data))"
   ]
  },
  {
   "cell_type": "code",
   "execution_count": 56,
   "id": "8012d099-5ff3-4863-a118-c4999f454560",
   "metadata": {},
   "outputs": [
    {
     "data": {
      "text/html": [
       "<table class=\"dataframe\">\n",
       "<caption>A data.frame: 2 × 2</caption>\n",
       "<thead>\n",
       "\t<tr><th></th><th scope=col>variable</th><th scope=col>sample_id</th></tr>\n",
       "\t<tr><th></th><th scope=col>&lt;chr&gt;</th><th scope=col>&lt;chr&gt;</th></tr>\n",
       "</thead>\n",
       "<tbody>\n",
       "\t<tr><th scope=row>1</th><td>CD4_TCM__ATP5F1E</td><td>Baseline.TEST_1</td></tr>\n",
       "\t<tr><th scope=row>2</th><td>CD4_TCM__ATP5ME </td><td>Baseline.TEST_1</td></tr>\n",
       "</tbody>\n",
       "</table>\n"
      ],
      "text/latex": [
       "A data.frame: 2 × 2\n",
       "\\begin{tabular}{r|ll}\n",
       "  & variable & sample\\_id\\\\\n",
       "  & <chr> & <chr>\\\\\n",
       "\\hline\n",
       "\t1 & CD4\\_TCM\\_\\_ATP5F1E & Baseline.TEST\\_1\\\\\n",
       "\t2 & CD4\\_TCM\\_\\_ATP5ME  & Baseline.TEST\\_1\\\\\n",
       "\\end{tabular}\n"
      ],
      "text/markdown": [
       "\n",
       "A data.frame: 2 × 2\n",
       "\n",
       "| <!--/--> | variable &lt;chr&gt; | sample_id &lt;chr&gt; |\n",
       "|---|---|---|\n",
       "| 1 | CD4_TCM__ATP5F1E | Baseline.TEST_1 |\n",
       "| 2 | CD4_TCM__ATP5ME  | Baseline.TEST_1 |\n",
       "\n"
      ],
      "text/plain": [
       "  variable         sample_id      \n",
       "1 CD4_TCM__ATP5F1E Baseline.TEST_1\n",
       "2 CD4_TCM__ATP5ME  Baseline.TEST_1"
      ]
     },
     "metadata": {},
     "output_type": "display_data"
    }
   ],
   "source": [
    "head(input_data,2)"
   ]
  },
  {
   "cell_type": "code",
   "execution_count": 57,
   "id": "f3c23bd0-e51f-4edf-b364-8d891ef0ac9e",
   "metadata": {},
   "outputs": [],
   "source": [
    "input_data = merge(input_data, data_long, all.x = TRUE)"
   ]
  },
  {
   "cell_type": "code",
   "execution_count": 58,
   "id": "83e2c0df-1286-4085-8515-81cc6cb24d61",
   "metadata": {},
   "outputs": [
    {
     "data": {
      "text/html": [
       "<table class=\"dataframe\">\n",
       "<caption>A data.frame: 2 × 6</caption>\n",
       "<thead>\n",
       "\t<tr><th></th><th scope=col>variable</th><th scope=col>sample_id</th><th scope=col>X</th><th scope=col>value</th><th scope=col>type</th><th scope=col>variable_name</th></tr>\n",
       "\t<tr><th></th><th scope=col>&lt;chr&gt;</th><th scope=col>&lt;chr&gt;</th><th scope=col>&lt;int&gt;</th><th scope=col>&lt;dbl&gt;</th><th scope=col>&lt;chr&gt;</th><th scope=col>&lt;chr&gt;</th></tr>\n",
       "</thead>\n",
       "<tbody>\n",
       "\t<tr><th scope=row>1</th><td>CD4_TCM__ATP5F1E</td><td>Baseline.TEST_1 </td><td>NA</td><td>NA</td><td>NA</td><td>NA</td></tr>\n",
       "\t<tr><th scope=row>2</th><td>CD4_TCM__ATP5F1E</td><td>Baseline.TEST_12</td><td>NA</td><td>NA</td><td>NA</td><td>NA</td></tr>\n",
       "</tbody>\n",
       "</table>\n"
      ],
      "text/latex": [
       "A data.frame: 2 × 6\n",
       "\\begin{tabular}{r|llllll}\n",
       "  & variable & sample\\_id & X & value & type & variable\\_name\\\\\n",
       "  & <chr> & <chr> & <int> & <dbl> & <chr> & <chr>\\\\\n",
       "\\hline\n",
       "\t1 & CD4\\_TCM\\_\\_ATP5F1E & Baseline.TEST\\_1  & NA & NA & NA & NA\\\\\n",
       "\t2 & CD4\\_TCM\\_\\_ATP5F1E & Baseline.TEST\\_12 & NA & NA & NA & NA\\\\\n",
       "\\end{tabular}\n"
      ],
      "text/markdown": [
       "\n",
       "A data.frame: 2 × 6\n",
       "\n",
       "| <!--/--> | variable &lt;chr&gt; | sample_id &lt;chr&gt; | X &lt;int&gt; | value &lt;dbl&gt; | type &lt;chr&gt; | variable_name &lt;chr&gt; |\n",
       "|---|---|---|---|---|---|---|\n",
       "| 1 | CD4_TCM__ATP5F1E | Baseline.TEST_1  | NA | NA | NA | NA |\n",
       "| 2 | CD4_TCM__ATP5F1E | Baseline.TEST_12 | NA | NA | NA | NA |\n",
       "\n"
      ],
      "text/plain": [
       "  variable         sample_id        X  value type variable_name\n",
       "1 CD4_TCM__ATP5F1E Baseline.TEST_1  NA NA    NA   NA           \n",
       "2 CD4_TCM__ATP5F1E Baseline.TEST_12 NA NA    NA   NA           "
      ]
     },
     "metadata": {},
     "output_type": "display_data"
    }
   ],
   "source": [
    "head(input_data,2)"
   ]
  },
  {
   "cell_type": "code",
   "execution_count": 59,
   "id": "51b2f56f-1909-4e94-88e8-bdfe727a0770",
   "metadata": {},
   "outputs": [],
   "source": [
    "### Transform to wide format"
   ]
  },
  {
   "cell_type": "code",
   "execution_count": 60,
   "id": "bfc4adde-5523-4962-a72d-fabeafd2b6fc",
   "metadata": {},
   "outputs": [],
   "source": [
    "input_data = input_data %>% dcast(sample_id ~ variable, value.var = 'value')"
   ]
  },
  {
   "cell_type": "code",
   "execution_count": 61,
   "id": "3be8f08d-d6ff-4d33-aa93-861104c77434",
   "metadata": {},
   "outputs": [],
   "source": [
    "rownames(input_data) = input_data$sample_id\n",
    "input_data$sample_id = NULL"
   ]
  },
  {
   "cell_type": "code",
   "execution_count": 62,
   "id": "7d14ca59-69ac-495c-861b-c9d8857012d4",
   "metadata": {},
   "outputs": [
    {
     "data": {
      "text/html": [
       "<table class=\"dataframe\">\n",
       "<caption>A data.frame: 2 × 109</caption>\n",
       "<thead>\n",
       "\t<tr><th></th><th scope=col>CD4_TCM__ATP5F1E</th><th scope=col>CD4_TCM__ATP5ME</th><th scope=col>CD4_TCM__ATP5MPL</th><th scope=col>CD4_TCM__C6orf48</th><th scope=col>CD4_TCM__COX6A1</th><th scope=col>CD4_TCM__COX7C</th><th scope=col>CD4_TCM__EIF1</th><th scope=col>CD4_TCM__EVI2B</th><th scope=col>CD4_TCM__HLA.F</th><th scope=col>CD4_TCM__HNRNPDL</th><th scope=col>⋯</th><th scope=col>Nkdim__GZMB</th><th scope=col>Nkdim__HLA.A</th><th scope=col>Nkdim__HLA.F</th><th scope=col>Nkdim__IQGAP2</th><th scope=col>Nkdim__LITAF</th><th scope=col>Nkdim__POLR2L</th><th scope=col>Nkdim__PRF1</th><th scope=col>Nkdim__RSRP1</th><th scope=col>Nkdim__TMA7</th><th scope=col>Nkdim__TXNIP</th></tr>\n",
       "\t<tr><th></th><th scope=col>&lt;dbl&gt;</th><th scope=col>&lt;dbl&gt;</th><th scope=col>&lt;dbl&gt;</th><th scope=col>&lt;dbl&gt;</th><th scope=col>&lt;dbl&gt;</th><th scope=col>&lt;dbl&gt;</th><th scope=col>&lt;dbl&gt;</th><th scope=col>&lt;dbl&gt;</th><th scope=col>&lt;dbl&gt;</th><th scope=col>&lt;dbl&gt;</th><th scope=col>⋯</th><th scope=col>&lt;dbl&gt;</th><th scope=col>&lt;dbl&gt;</th><th scope=col>&lt;dbl&gt;</th><th scope=col>&lt;dbl&gt;</th><th scope=col>&lt;dbl&gt;</th><th scope=col>&lt;dbl&gt;</th><th scope=col>&lt;dbl&gt;</th><th scope=col>&lt;dbl&gt;</th><th scope=col>&lt;dbl&gt;</th><th scope=col>&lt;dbl&gt;</th></tr>\n",
       "</thead>\n",
       "<tbody>\n",
       "\t<tr><th scope=row>Baseline.TEST_1</th><td>NA</td><td>NA</td><td>NA</td><td>-1.768825</td><td> 1.496147</td><td>-0.4219289</td><td>0.7683022</td><td>-0.3441025</td><td>-0.4484255</td><td>-1.1048357</td><td>⋯</td><td>2.3410271</td><td>-0.4617916</td><td> 0.4219289</td><td>NA</td><td>1.127301</td><td>1.0829150</td><td> 0.1329527</td><td>NA</td><td> 1.362383</td><td>-0.14512094</td></tr>\n",
       "\t<tr><th scope=row>Baseline.TEST_12</th><td>NA</td><td>NA</td><td>NA</td><td>-0.060292</td><td>-1.574445</td><td>-0.8010945</td><td>0.2186495</td><td>-1.8980287</td><td>-2.3410271</td><td>-0.7683022</td><td>⋯</td><td>0.1695238</td><td> 0.6744898</td><td>-0.7206029</td><td>NA</td><td>1.362383</td><td>0.6594367</td><td>-0.7050659</td><td>NA</td><td>-1.276092</td><td>-0.09655862</td></tr>\n",
       "</tbody>\n",
       "</table>\n"
      ],
      "text/latex": [
       "A data.frame: 2 × 109\n",
       "\\begin{tabular}{r|lllllllllllllllllllll}\n",
       "  & CD4\\_TCM\\_\\_ATP5F1E & CD4\\_TCM\\_\\_ATP5ME & CD4\\_TCM\\_\\_ATP5MPL & CD4\\_TCM\\_\\_C6orf48 & CD4\\_TCM\\_\\_COX6A1 & CD4\\_TCM\\_\\_COX7C & CD4\\_TCM\\_\\_EIF1 & CD4\\_TCM\\_\\_EVI2B & CD4\\_TCM\\_\\_HLA.F & CD4\\_TCM\\_\\_HNRNPDL & ⋯ & Nkdim\\_\\_GZMB & Nkdim\\_\\_HLA.A & Nkdim\\_\\_HLA.F & Nkdim\\_\\_IQGAP2 & Nkdim\\_\\_LITAF & Nkdim\\_\\_POLR2L & Nkdim\\_\\_PRF1 & Nkdim\\_\\_RSRP1 & Nkdim\\_\\_TMA7 & Nkdim\\_\\_TXNIP\\\\\n",
       "  & <dbl> & <dbl> & <dbl> & <dbl> & <dbl> & <dbl> & <dbl> & <dbl> & <dbl> & <dbl> & ⋯ & <dbl> & <dbl> & <dbl> & <dbl> & <dbl> & <dbl> & <dbl> & <dbl> & <dbl> & <dbl>\\\\\n",
       "\\hline\n",
       "\tBaseline.TEST\\_1 & NA & NA & NA & -1.768825 &  1.496147 & -0.4219289 & 0.7683022 & -0.3441025 & -0.4484255 & -1.1048357 & ⋯ & 2.3410271 & -0.4617916 &  0.4219289 & NA & 1.127301 & 1.0829150 &  0.1329527 & NA &  1.362383 & -0.14512094\\\\\n",
       "\tBaseline.TEST\\_12 & NA & NA & NA & -0.060292 & -1.574445 & -0.8010945 & 0.2186495 & -1.8980287 & -2.3410271 & -0.7683022 & ⋯ & 0.1695238 &  0.6744898 & -0.7206029 & NA & 1.362383 & 0.6594367 & -0.7050659 & NA & -1.276092 & -0.09655862\\\\\n",
       "\\end{tabular}\n"
      ],
      "text/markdown": [
       "\n",
       "A data.frame: 2 × 109\n",
       "\n",
       "| <!--/--> | CD4_TCM__ATP5F1E &lt;dbl&gt; | CD4_TCM__ATP5ME &lt;dbl&gt; | CD4_TCM__ATP5MPL &lt;dbl&gt; | CD4_TCM__C6orf48 &lt;dbl&gt; | CD4_TCM__COX6A1 &lt;dbl&gt; | CD4_TCM__COX7C &lt;dbl&gt; | CD4_TCM__EIF1 &lt;dbl&gt; | CD4_TCM__EVI2B &lt;dbl&gt; | CD4_TCM__HLA.F &lt;dbl&gt; | CD4_TCM__HNRNPDL &lt;dbl&gt; | ⋯ ⋯ | Nkdim__GZMB &lt;dbl&gt; | Nkdim__HLA.A &lt;dbl&gt; | Nkdim__HLA.F &lt;dbl&gt; | Nkdim__IQGAP2 &lt;dbl&gt; | Nkdim__LITAF &lt;dbl&gt; | Nkdim__POLR2L &lt;dbl&gt; | Nkdim__PRF1 &lt;dbl&gt; | Nkdim__RSRP1 &lt;dbl&gt; | Nkdim__TMA7 &lt;dbl&gt; | Nkdim__TXNIP &lt;dbl&gt; |\n",
       "|---|---|---|---|---|---|---|---|---|---|---|---|---|---|---|---|---|---|---|---|---|---|\n",
       "| Baseline.TEST_1 | NA | NA | NA | -1.768825 |  1.496147 | -0.4219289 | 0.7683022 | -0.3441025 | -0.4484255 | -1.1048357 | ⋯ | 2.3410271 | -0.4617916 |  0.4219289 | NA | 1.127301 | 1.0829150 |  0.1329527 | NA |  1.362383 | -0.14512094 |\n",
       "| Baseline.TEST_12 | NA | NA | NA | -0.060292 | -1.574445 | -0.8010945 | 0.2186495 | -1.8980287 | -2.3410271 | -0.7683022 | ⋯ | 0.1695238 |  0.6744898 | -0.7206029 | NA | 1.362383 | 0.6594367 | -0.7050659 | NA | -1.276092 | -0.09655862 |\n",
       "\n"
      ],
      "text/plain": [
       "                 CD4_TCM__ATP5F1E CD4_TCM__ATP5ME CD4_TCM__ATP5MPL\n",
       "Baseline.TEST_1  NA               NA              NA              \n",
       "Baseline.TEST_12 NA               NA              NA              \n",
       "                 CD4_TCM__C6orf48 CD4_TCM__COX6A1 CD4_TCM__COX7C CD4_TCM__EIF1\n",
       "Baseline.TEST_1  -1.768825         1.496147       -0.4219289     0.7683022    \n",
       "Baseline.TEST_12 -0.060292        -1.574445       -0.8010945     0.2186495    \n",
       "                 CD4_TCM__EVI2B CD4_TCM__HLA.F CD4_TCM__HNRNPDL ⋯ Nkdim__GZMB\n",
       "Baseline.TEST_1  -0.3441025     -0.4484255     -1.1048357       ⋯ 2.3410271  \n",
       "Baseline.TEST_12 -1.8980287     -2.3410271     -0.7683022       ⋯ 0.1695238  \n",
       "                 Nkdim__HLA.A Nkdim__HLA.F Nkdim__IQGAP2 Nkdim__LITAF\n",
       "Baseline.TEST_1  -0.4617916    0.4219289   NA            1.127301    \n",
       "Baseline.TEST_12  0.6744898   -0.7206029   NA            1.362383    \n",
       "                 Nkdim__POLR2L Nkdim__PRF1 Nkdim__RSRP1 Nkdim__TMA7\n",
       "Baseline.TEST_1  1.0829150      0.1329527  NA            1.362383  \n",
       "Baseline.TEST_12 0.6594367     -0.7050659  NA           -1.276092  \n",
       "                 Nkdim__TXNIP\n",
       "Baseline.TEST_1  -0.14512094 \n",
       "Baseline.TEST_12 -0.09655862 "
      ]
     },
     "metadata": {},
     "output_type": "display_data"
    }
   ],
   "source": [
    "head(input_data,2)"
   ]
  },
  {
   "cell_type": "code",
   "execution_count": 63,
   "id": "02f8694f-4a11-4438-96c3-e3fccd81c594",
   "metadata": {},
   "outputs": [
    {
     "data": {
      "text/html": [
       "109"
      ],
      "text/latex": [
       "109"
      ],
      "text/markdown": [
       "109"
      ],
      "text/plain": [
       "[1] 109"
      ]
     },
     "metadata": {},
     "output_type": "display_data"
    }
   ],
   "source": [
    "ncol(input_data)"
   ]
  },
  {
   "cell_type": "code",
   "execution_count": 64,
   "id": "5cab2668-0948-4931-9a53-03f09390ba72",
   "metadata": {},
   "outputs": [
    {
     "data": {
      "text/html": [
       "<style>\n",
       ".dl-inline {width: auto; margin:0; padding: 0}\n",
       ".dl-inline>dt, .dl-inline>dd {float: none; width: auto; display: inline-block}\n",
       ".dl-inline>dt::after {content: \":\\0020\"; padding-right: .5ex}\n",
       ".dl-inline>dt:not(:first-of-type) {padding-left: .5ex}\n",
       "</style><dl class=dl-inline><dt>CD4_TCM__ATP5F1E</dt><dd>&lt;NA&gt;</dd><dt>CD4_TCM__ATP5ME</dt><dd>&lt;NA&gt;</dd><dt>CD4_TCM__ATP5MPL</dt><dd>&lt;NA&gt;</dd><dt>CD4_TCM__MCUB</dt><dd>&lt;NA&gt;</dd><dt>cMono__AC020916.1</dt><dd>&lt;NA&gt;</dd><dt>cMono__ATP5F1E</dt><dd>&lt;NA&gt;</dd><dt>cMono__ATP5MD</dt><dd>&lt;NA&gt;</dd><dt>cMono__ATP5ME</dt><dd>&lt;NA&gt;</dd><dt>cMono__ATP5MF</dt><dd>&lt;NA&gt;</dd><dt>cMono__ATP5MPL</dt><dd>&lt;NA&gt;</dd><dt>cMono__COPS9</dt><dd>&lt;NA&gt;</dd><dt>cMono__ELOB</dt><dd>&lt;NA&gt;</dd><dt>cMono__HEXIM1</dt><dd>&lt;NA&gt;</dd><dt>cMono__UQCR11</dt><dd>&lt;NA&gt;</dd><dt>ncMono__ATP5F1E</dt><dd>&lt;NA&gt;</dd><dt>Nkdim__ATP5F1E</dt><dd>&lt;NA&gt;</dd><dt>Nkdim__ATP5ME</dt><dd>&lt;NA&gt;</dd><dt>Nkdim__IQGAP2</dt><dd>&lt;NA&gt;</dd><dt>Nkdim__RSRP1</dt><dd>&lt;NA&gt;</dd></dl>\n"
      ],
      "text/latex": [
       "\\begin{description*}\n",
       "\\item[CD4\\textbackslash{}\\_TCM\\textbackslash{}\\_\\textbackslash{}\\_ATP5F1E] <NA>\n",
       "\\item[CD4\\textbackslash{}\\_TCM\\textbackslash{}\\_\\textbackslash{}\\_ATP5ME] <NA>\n",
       "\\item[CD4\\textbackslash{}\\_TCM\\textbackslash{}\\_\\textbackslash{}\\_ATP5MPL] <NA>\n",
       "\\item[CD4\\textbackslash{}\\_TCM\\textbackslash{}\\_\\textbackslash{}\\_MCUB] <NA>\n",
       "\\item[cMono\\textbackslash{}\\_\\textbackslash{}\\_AC020916.1] <NA>\n",
       "\\item[cMono\\textbackslash{}\\_\\textbackslash{}\\_ATP5F1E] <NA>\n",
       "\\item[cMono\\textbackslash{}\\_\\textbackslash{}\\_ATP5MD] <NA>\n",
       "\\item[cMono\\textbackslash{}\\_\\textbackslash{}\\_ATP5ME] <NA>\n",
       "\\item[cMono\\textbackslash{}\\_\\textbackslash{}\\_ATP5MF] <NA>\n",
       "\\item[cMono\\textbackslash{}\\_\\textbackslash{}\\_ATP5MPL] <NA>\n",
       "\\item[cMono\\textbackslash{}\\_\\textbackslash{}\\_COPS9] <NA>\n",
       "\\item[cMono\\textbackslash{}\\_\\textbackslash{}\\_ELOB] <NA>\n",
       "\\item[cMono\\textbackslash{}\\_\\textbackslash{}\\_HEXIM1] <NA>\n",
       "\\item[cMono\\textbackslash{}\\_\\textbackslash{}\\_UQCR11] <NA>\n",
       "\\item[ncMono\\textbackslash{}\\_\\textbackslash{}\\_ATP5F1E] <NA>\n",
       "\\item[Nkdim\\textbackslash{}\\_\\textbackslash{}\\_ATP5F1E] <NA>\n",
       "\\item[Nkdim\\textbackslash{}\\_\\textbackslash{}\\_ATP5ME] <NA>\n",
       "\\item[Nkdim\\textbackslash{}\\_\\textbackslash{}\\_IQGAP2] <NA>\n",
       "\\item[Nkdim\\textbackslash{}\\_\\textbackslash{}\\_RSRP1] <NA>\n",
       "\\end{description*}\n"
      ],
      "text/markdown": [
       "CD4_TCM__ATP5F1E\n",
       ":   &lt;NA&gt;CD4_TCM__ATP5ME\n",
       ":   &lt;NA&gt;CD4_TCM__ATP5MPL\n",
       ":   &lt;NA&gt;CD4_TCM__MCUB\n",
       ":   &lt;NA&gt;cMono__AC020916.1\n",
       ":   &lt;NA&gt;cMono__ATP5F1E\n",
       ":   &lt;NA&gt;cMono__ATP5MD\n",
       ":   &lt;NA&gt;cMono__ATP5ME\n",
       ":   &lt;NA&gt;cMono__ATP5MF\n",
       ":   &lt;NA&gt;cMono__ATP5MPL\n",
       ":   &lt;NA&gt;cMono__COPS9\n",
       ":   &lt;NA&gt;cMono__ELOB\n",
       ":   &lt;NA&gt;cMono__HEXIM1\n",
       ":   &lt;NA&gt;cMono__UQCR11\n",
       ":   &lt;NA&gt;ncMono__ATP5F1E\n",
       ":   &lt;NA&gt;Nkdim__ATP5F1E\n",
       ":   &lt;NA&gt;Nkdim__ATP5ME\n",
       ":   &lt;NA&gt;Nkdim__IQGAP2\n",
       ":   &lt;NA&gt;Nkdim__RSRP1\n",
       ":   &lt;NA&gt;\n",
       "\n"
      ],
      "text/plain": [
       " CD4_TCM__ATP5F1E   CD4_TCM__ATP5ME  CD4_TCM__ATP5MPL     CD4_TCM__MCUB \n",
       "               NA                NA                NA                NA \n",
       "cMono__AC020916.1    cMono__ATP5F1E     cMono__ATP5MD     cMono__ATP5ME \n",
       "               NA                NA                NA                NA \n",
       "    cMono__ATP5MF    cMono__ATP5MPL      cMono__COPS9       cMono__ELOB \n",
       "               NA                NA                NA                NA \n",
       "    cMono__HEXIM1     cMono__UQCR11   ncMono__ATP5F1E    Nkdim__ATP5F1E \n",
       "               NA                NA                NA                NA \n",
       "    Nkdim__ATP5ME     Nkdim__IQGAP2      Nkdim__RSRP1 \n",
       "               NA                NA                NA "
      ]
     },
     "metadata": {},
     "output_type": "display_data"
    }
   ],
   "source": [
    "# features that are not available in Groningen data\n",
    "colSums(input_data)[is.na(colSums(input_data))]"
   ]
  },
  {
   "cell_type": "code",
   "execution_count": 65,
   "id": "2341d432-3c68-44cb-bf6e-54023437f9a4",
   "metadata": {},
   "outputs": [],
   "source": [
    "# set non-available features to 0"
   ]
  },
  {
   "cell_type": "code",
   "execution_count": 66,
   "id": "f3bed97d-fd83-4aa1-9f92-8cdf37f18ad8",
   "metadata": {},
   "outputs": [],
   "source": [
    "input_data[is.na(input_data)]= 0"
   ]
  },
  {
   "cell_type": "code",
   "execution_count": 67,
   "id": "27dceb88-d305-42f9-8f90-d34c2931cfb8",
   "metadata": {},
   "outputs": [
    {
     "data": {
      "text/html": [
       "103"
      ],
      "text/latex": [
       "103"
      ],
      "text/markdown": [
       "103"
      ],
      "text/plain": [
       "[1] 103"
      ]
     },
     "metadata": {},
     "output_type": "display_data"
    }
   ],
   "source": [
    "nrow(input_data)"
   ]
  },
  {
   "cell_type": "code",
   "execution_count": 68,
   "id": "af9e90ec-1107-47bb-80f4-946da2e072b5",
   "metadata": {},
   "outputs": [],
   "source": [
    "## Predict for Groningen data based on model"
   ]
  },
  {
   "cell_type": "code",
   "execution_count": 69,
   "id": "2e7b6110-c419-4fbf-8166-23c74e0660d1",
   "metadata": {},
   "outputs": [
    {
     "data": {
      "text/html": [
       "<style>\n",
       ".list-inline {list-style: none; margin:0; padding: 0}\n",
       ".list-inline>li {display: inline-block}\n",
       ".list-inline>li:not(:last-child)::after {content: \"\\00b7\"; padding: 0 .5ex}\n",
       "</style>\n",
       "<ol class=list-inline><li>'lognet'</li><li>'glmnet'</li></ol>\n"
      ],
      "text/latex": [
       "\\begin{enumerate*}\n",
       "\\item 'lognet'\n",
       "\\item 'glmnet'\n",
       "\\end{enumerate*}\n"
      ],
      "text/markdown": [
       "1. 'lognet'\n",
       "2. 'glmnet'\n",
       "\n",
       "\n"
      ],
      "text/plain": [
       "[1] \"lognet\" \"glmnet\""
      ]
     },
     "metadata": {},
     "output_type": "display_data"
    }
   ],
   "source": [
    "class(best_model)"
   ]
  },
  {
   "cell_type": "code",
   "execution_count": 70,
   "id": "8fb5c86e-9c14-4484-b305-09b910737557",
   "metadata": {},
   "outputs": [],
   "source": [
    "prediction = stats::predict(best_model,  newx=as.matrix(input_data),s =lambda, type = 'response')"
   ]
  },
  {
   "cell_type": "code",
   "execution_count": 71,
   "id": "4036cdfc-c7dd-425e-aae3-5e0f278aba70",
   "metadata": {},
   "outputs": [],
   "source": [
    "prediction = data.frame(prediction)"
   ]
  },
  {
   "cell_type": "code",
   "execution_count": 72,
   "id": "ff39da67-3295-40f1-a0fe-6ffb7035a00a",
   "metadata": {},
   "outputs": [],
   "source": [
    "prediction$sample_id = rownames(prediction)"
   ]
  },
  {
   "cell_type": "code",
   "execution_count": 73,
   "id": "b76f6f25-e66e-400a-bd53-a944ba4d0228",
   "metadata": {},
   "outputs": [],
   "source": [
    "colnames(prediction) = c('predicted_value', 'sample_id')"
   ]
  },
  {
   "cell_type": "code",
   "execution_count": 74,
   "id": "c6eab000-0437-460e-8a4b-3a92746de481",
   "metadata": {},
   "outputs": [
    {
     "data": {
      "text/html": [
       "<table class=\"dataframe\">\n",
       "<caption>A data.frame: 2 × 2</caption>\n",
       "<thead>\n",
       "\t<tr><th></th><th scope=col>predicted_value</th><th scope=col>sample_id</th></tr>\n",
       "\t<tr><th></th><th scope=col>&lt;dbl&gt;</th><th scope=col>&lt;chr&gt;</th></tr>\n",
       "</thead>\n",
       "<tbody>\n",
       "\t<tr><th scope=row>Baseline.TEST_1</th><td>0.0004455915</td><td>Baseline.TEST_1 </td></tr>\n",
       "\t<tr><th scope=row>Baseline.TEST_12</th><td>0.0007335106</td><td>Baseline.TEST_12</td></tr>\n",
       "</tbody>\n",
       "</table>\n"
      ],
      "text/latex": [
       "A data.frame: 2 × 2\n",
       "\\begin{tabular}{r|ll}\n",
       "  & predicted\\_value & sample\\_id\\\\\n",
       "  & <dbl> & <chr>\\\\\n",
       "\\hline\n",
       "\tBaseline.TEST\\_1 & 0.0004455915 & Baseline.TEST\\_1 \\\\\n",
       "\tBaseline.TEST\\_12 & 0.0007335106 & Baseline.TEST\\_12\\\\\n",
       "\\end{tabular}\n"
      ],
      "text/markdown": [
       "\n",
       "A data.frame: 2 × 2\n",
       "\n",
       "| <!--/--> | predicted_value &lt;dbl&gt; | sample_id &lt;chr&gt; |\n",
       "|---|---|---|\n",
       "| Baseline.TEST_1 | 0.0004455915 | Baseline.TEST_1  |\n",
       "| Baseline.TEST_12 | 0.0007335106 | Baseline.TEST_12 |\n",
       "\n"
      ],
      "text/plain": [
       "                 predicted_value sample_id       \n",
       "Baseline.TEST_1  0.0004455915    Baseline.TEST_1 \n",
       "Baseline.TEST_12 0.0007335106    Baseline.TEST_12"
      ]
     },
     "metadata": {},
     "output_type": "display_data"
    }
   ],
   "source": [
    "head(prediction,2)"
   ]
  },
  {
   "cell_type": "code",
   "execution_count": 75,
   "id": "07c49035-5be8-4787-bfb5-b25da98b5ce1",
   "metadata": {},
   "outputs": [
    {
     "data": {
      "text/html": [
       "103"
      ],
      "text/latex": [
       "103"
      ],
      "text/markdown": [
       "103"
      ],
      "text/plain": [
       "[1] 103"
      ]
     },
     "metadata": {},
     "output_type": "display_data"
    }
   ],
   "source": [
    "nrow(prediction)"
   ]
  },
  {
   "cell_type": "code",
   "execution_count": 76,
   "id": "e84b690f-5cea-461c-b20a-2a704148cdf9",
   "metadata": {},
   "outputs": [],
   "source": [
    "### Save result"
   ]
  },
  {
   "cell_type": "code",
   "execution_count": 77,
   "id": "277cb741-2471-478f-97d3-258ed77ee1bc",
   "metadata": {},
   "outputs": [],
   "source": [
    "write.csv(prediction, paste0(result_path_rep, '/GX3_prediction_result.csv'))"
   ]
  },
  {
   "cell_type": "markdown",
   "id": "9adb3bc6-4374-4eaf-98ae-bd438e84a73d",
   "metadata": {
    "tags": []
   },
   "source": [
    "### Only NK cell features model"
   ]
  },
  {
   "cell_type": "code",
   "execution_count": 78,
   "id": "9ea28655-3f34-4d46-8aa7-04b3b61af459",
   "metadata": {},
   "outputs": [],
   "source": [
    "## List of the input features"
   ]
  },
  {
   "cell_type": "code",
   "execution_count": 79,
   "id": "b17aae67-3e31-46d7-bc5b-f6ccea0d6822",
   "metadata": {},
   "outputs": [],
   "source": [
    "input_features_NK$X = NULL"
   ]
  },
  {
   "cell_type": "code",
   "execution_count": 80,
   "id": "c15b6263-1609-42bd-a1e3-706de2831793",
   "metadata": {},
   "outputs": [
    {
     "data": {
      "text/html": [
       "<table class=\"dataframe\">\n",
       "<caption>A data.frame: 2 × 1</caption>\n",
       "<thead>\n",
       "\t<tr><th></th><th scope=col>features</th></tr>\n",
       "\t<tr><th></th><th scope=col>&lt;chr&gt;</th></tr>\n",
       "</thead>\n",
       "<tbody>\n",
       "\t<tr><th scope=row>1</th><td>Nkdim__CD53</td></tr>\n",
       "\t<tr><th scope=row>2</th><td>Nkdim__GZMB</td></tr>\n",
       "</tbody>\n",
       "</table>\n"
      ],
      "text/latex": [
       "A data.frame: 2 × 1\n",
       "\\begin{tabular}{r|l}\n",
       "  & features\\\\\n",
       "  & <chr>\\\\\n",
       "\\hline\n",
       "\t1 & Nkdim\\_\\_CD53\\\\\n",
       "\t2 & Nkdim\\_\\_GZMB\\\\\n",
       "\\end{tabular}\n"
      ],
      "text/markdown": [
       "\n",
       "A data.frame: 2 × 1\n",
       "\n",
       "| <!--/--> | features &lt;chr&gt; |\n",
       "|---|---|\n",
       "| 1 | Nkdim__CD53 |\n",
       "| 2 | Nkdim__GZMB |\n",
       "\n"
      ],
      "text/plain": [
       "  features   \n",
       "1 Nkdim__CD53\n",
       "2 Nkdim__GZMB"
      ]
     },
     "metadata": {},
     "output_type": "display_data"
    }
   ],
   "source": [
    "head(input_features_NK,2)"
   ]
  },
  {
   "cell_type": "code",
   "execution_count": 81,
   "id": "44f046f0-c37e-41e4-a43d-906962d20377",
   "metadata": {},
   "outputs": [],
   "source": [
    "## Add groningen data to input feature list"
   ]
  },
  {
   "cell_type": "code",
   "execution_count": 82,
   "id": "35edfb84-4369-4462-a555-1c93b9dccee6",
   "metadata": {},
   "outputs": [],
   "source": [
    "input_data_NK = merge(input_features_NK, unique(data_long$sample_id), all = TRUE)\n",
    "colnames(input_data_NK) = c( 'variable', 'sample_id')"
   ]
  },
  {
   "cell_type": "code",
   "execution_count": 83,
   "id": "e58211a2-733a-4ea5-b3fd-a8c511c520b4",
   "metadata": {},
   "outputs": [
    {
     "data": {
      "text/html": [
       "309"
      ],
      "text/latex": [
       "309"
      ],
      "text/markdown": [
       "309"
      ],
      "text/plain": [
       "[1] 309"
      ]
     },
     "metadata": {},
     "output_type": "display_data"
    },
    {
     "data": {
      "text/html": [
       "309"
      ],
      "text/latex": [
       "309"
      ],
      "text/markdown": [
       "309"
      ],
      "text/plain": [
       "[1] 309"
      ]
     },
     "metadata": {},
     "output_type": "display_data"
    }
   ],
   "source": [
    "nrow(input_data_NK)\n",
    "nrow(unique(input_data_NK))"
   ]
  },
  {
   "cell_type": "code",
   "execution_count": 84,
   "id": "e0406a46-f2ff-4d1f-9c64-a8caec954b60",
   "metadata": {},
   "outputs": [
    {
     "data": {
      "text/html": [
       "<table class=\"dataframe\">\n",
       "<caption>A data.frame: 2 × 2</caption>\n",
       "<thead>\n",
       "\t<tr><th></th><th scope=col>variable</th><th scope=col>sample_id</th></tr>\n",
       "\t<tr><th></th><th scope=col>&lt;chr&gt;</th><th scope=col>&lt;chr&gt;</th></tr>\n",
       "</thead>\n",
       "<tbody>\n",
       "\t<tr><th scope=row>1</th><td>Nkdim__CD53</td><td>Baseline.TEST_1</td></tr>\n",
       "\t<tr><th scope=row>2</th><td>Nkdim__GZMB</td><td>Baseline.TEST_1</td></tr>\n",
       "</tbody>\n",
       "</table>\n"
      ],
      "text/latex": [
       "A data.frame: 2 × 2\n",
       "\\begin{tabular}{r|ll}\n",
       "  & variable & sample\\_id\\\\\n",
       "  & <chr> & <chr>\\\\\n",
       "\\hline\n",
       "\t1 & Nkdim\\_\\_CD53 & Baseline.TEST\\_1\\\\\n",
       "\t2 & Nkdim\\_\\_GZMB & Baseline.TEST\\_1\\\\\n",
       "\\end{tabular}\n"
      ],
      "text/markdown": [
       "\n",
       "A data.frame: 2 × 2\n",
       "\n",
       "| <!--/--> | variable &lt;chr&gt; | sample_id &lt;chr&gt; |\n",
       "|---|---|---|\n",
       "| 1 | Nkdim__CD53 | Baseline.TEST_1 |\n",
       "| 2 | Nkdim__GZMB | Baseline.TEST_1 |\n",
       "\n"
      ],
      "text/plain": [
       "  variable    sample_id      \n",
       "1 Nkdim__CD53 Baseline.TEST_1\n",
       "2 Nkdim__GZMB Baseline.TEST_1"
      ]
     },
     "metadata": {},
     "output_type": "display_data"
    }
   ],
   "source": [
    "head(input_data_NK,2)"
   ]
  },
  {
   "cell_type": "code",
   "execution_count": 85,
   "id": "64676a02-c868-471f-b7ee-a64d6c12b34e",
   "metadata": {},
   "outputs": [],
   "source": [
    "input_data_NK = merge(input_data_NK, data_long, all.x = TRUE)"
   ]
  },
  {
   "cell_type": "code",
   "execution_count": 86,
   "id": "b67aad9d-5ad4-47fd-bde3-8ce653c5e7ea",
   "metadata": {},
   "outputs": [
    {
     "data": {
      "text/html": [
       "<table class=\"dataframe\">\n",
       "<caption>A data.frame: 2 × 6</caption>\n",
       "<thead>\n",
       "\t<tr><th></th><th scope=col>variable</th><th scope=col>sample_id</th><th scope=col>X</th><th scope=col>value</th><th scope=col>type</th><th scope=col>variable_name</th></tr>\n",
       "\t<tr><th></th><th scope=col>&lt;chr&gt;</th><th scope=col>&lt;chr&gt;</th><th scope=col>&lt;int&gt;</th><th scope=col>&lt;dbl&gt;</th><th scope=col>&lt;chr&gt;</th><th scope=col>&lt;chr&gt;</th></tr>\n",
       "</thead>\n",
       "<tbody>\n",
       "\t<tr><th scope=row>1</th><td>Nkdim__CD53</td><td>Baseline.TEST_1 </td><td>591942</td><td>0.3441025</td><td>Nkdim</td><td>CD53</td></tr>\n",
       "\t<tr><th scope=row>2</th><td>Nkdim__CD53</td><td>Baseline.TEST_12</td><td>591943</td><td>0.5299395</td><td>Nkdim</td><td>CD53</td></tr>\n",
       "</tbody>\n",
       "</table>\n"
      ],
      "text/latex": [
       "A data.frame: 2 × 6\n",
       "\\begin{tabular}{r|llllll}\n",
       "  & variable & sample\\_id & X & value & type & variable\\_name\\\\\n",
       "  & <chr> & <chr> & <int> & <dbl> & <chr> & <chr>\\\\\n",
       "\\hline\n",
       "\t1 & Nkdim\\_\\_CD53 & Baseline.TEST\\_1  & 591942 & 0.3441025 & Nkdim & CD53\\\\\n",
       "\t2 & Nkdim\\_\\_CD53 & Baseline.TEST\\_12 & 591943 & 0.5299395 & Nkdim & CD53\\\\\n",
       "\\end{tabular}\n"
      ],
      "text/markdown": [
       "\n",
       "A data.frame: 2 × 6\n",
       "\n",
       "| <!--/--> | variable &lt;chr&gt; | sample_id &lt;chr&gt; | X &lt;int&gt; | value &lt;dbl&gt; | type &lt;chr&gt; | variable_name &lt;chr&gt; |\n",
       "|---|---|---|---|---|---|---|\n",
       "| 1 | Nkdim__CD53 | Baseline.TEST_1  | 591942 | 0.3441025 | Nkdim | CD53 |\n",
       "| 2 | Nkdim__CD53 | Baseline.TEST_12 | 591943 | 0.5299395 | Nkdim | CD53 |\n",
       "\n"
      ],
      "text/plain": [
       "  variable    sample_id        X      value     type  variable_name\n",
       "1 Nkdim__CD53 Baseline.TEST_1  591942 0.3441025 Nkdim CD53         \n",
       "2 Nkdim__CD53 Baseline.TEST_12 591943 0.5299395 Nkdim CD53         "
      ]
     },
     "metadata": {},
     "output_type": "display_data"
    }
   ],
   "source": [
    "head(input_data_NK,2)"
   ]
  },
  {
   "cell_type": "code",
   "execution_count": 87,
   "id": "e25aa458-29c4-450d-8416-82b68021b8a5",
   "metadata": {},
   "outputs": [],
   "source": [
    "### Transform to wide format"
   ]
  },
  {
   "cell_type": "code",
   "execution_count": 88,
   "id": "62475f0d-dd8e-46a3-9ed2-b2b1d931efa0",
   "metadata": {},
   "outputs": [],
   "source": [
    "input_data_NK = input_data_NK %>% dcast(sample_id ~ variable, value.var = 'value')"
   ]
  },
  {
   "cell_type": "code",
   "execution_count": 89,
   "id": "0efec038-1080-4750-9fa5-12b6f85767d9",
   "metadata": {},
   "outputs": [],
   "source": [
    "rownames(input_data_NK) = input_data_NK$sample_id\n",
    "input_data_NK$sample_id = NULL"
   ]
  },
  {
   "cell_type": "code",
   "execution_count": 90,
   "id": "28bc25c1-d1ce-41c2-a24b-f913d64c274e",
   "metadata": {},
   "outputs": [
    {
     "data": {
      "text/html": [
       "<table class=\"dataframe\">\n",
       "<caption>A data.frame: 2 × 3</caption>\n",
       "<thead>\n",
       "\t<tr><th></th><th scope=col>Nkdim__CD53</th><th scope=col>Nkdim__GZMB</th><th scope=col>Nkdim__TXNIP</th></tr>\n",
       "\t<tr><th></th><th scope=col>&lt;dbl&gt;</th><th scope=col>&lt;dbl&gt;</th><th scope=col>&lt;dbl&gt;</th></tr>\n",
       "</thead>\n",
       "<tbody>\n",
       "\t<tr><th scope=row>Baseline.TEST_1</th><td>0.3441025</td><td>2.3410271</td><td>-0.14512094</td></tr>\n",
       "\t<tr><th scope=row>Baseline.TEST_12</th><td>0.5299395</td><td>0.1695238</td><td>-0.09655862</td></tr>\n",
       "</tbody>\n",
       "</table>\n"
      ],
      "text/latex": [
       "A data.frame: 2 × 3\n",
       "\\begin{tabular}{r|lll}\n",
       "  & Nkdim\\_\\_CD53 & Nkdim\\_\\_GZMB & Nkdim\\_\\_TXNIP\\\\\n",
       "  & <dbl> & <dbl> & <dbl>\\\\\n",
       "\\hline\n",
       "\tBaseline.TEST\\_1 & 0.3441025 & 2.3410271 & -0.14512094\\\\\n",
       "\tBaseline.TEST\\_12 & 0.5299395 & 0.1695238 & -0.09655862\\\\\n",
       "\\end{tabular}\n"
      ],
      "text/markdown": [
       "\n",
       "A data.frame: 2 × 3\n",
       "\n",
       "| <!--/--> | Nkdim__CD53 &lt;dbl&gt; | Nkdim__GZMB &lt;dbl&gt; | Nkdim__TXNIP &lt;dbl&gt; |\n",
       "|---|---|---|---|\n",
       "| Baseline.TEST_1 | 0.3441025 | 2.3410271 | -0.14512094 |\n",
       "| Baseline.TEST_12 | 0.5299395 | 0.1695238 | -0.09655862 |\n",
       "\n"
      ],
      "text/plain": [
       "                 Nkdim__CD53 Nkdim__GZMB Nkdim__TXNIP\n",
       "Baseline.TEST_1  0.3441025   2.3410271   -0.14512094 \n",
       "Baseline.TEST_12 0.5299395   0.1695238   -0.09655862 "
      ]
     },
     "metadata": {},
     "output_type": "display_data"
    }
   ],
   "source": [
    "head(input_data_NK,2)"
   ]
  },
  {
   "cell_type": "code",
   "execution_count": 91,
   "id": "5593baa6-d9d4-4266-834d-75eec2c93593",
   "metadata": {},
   "outputs": [],
   "source": [
    "## replace NA values by 0"
   ]
  },
  {
   "cell_type": "code",
   "execution_count": 92,
   "id": "b2cd41d7-c4d8-4b27-a085-76a509bfc0fb",
   "metadata": {},
   "outputs": [],
   "source": [
    "input_data_NK[is.na(input_data_NK)]= 0"
   ]
  },
  {
   "cell_type": "code",
   "execution_count": 93,
   "id": "5a5f3b82-14fd-46a2-9048-aee301a9316e",
   "metadata": {},
   "outputs": [
    {
     "data": {
      "text/html": [
       "103"
      ],
      "text/latex": [
       "103"
      ],
      "text/markdown": [
       "103"
      ],
      "text/plain": [
       "[1] 103"
      ]
     },
     "metadata": {},
     "output_type": "display_data"
    }
   ],
   "source": [
    "nrow(input_data_NK)"
   ]
  },
  {
   "cell_type": "code",
   "execution_count": 94,
   "id": "faa67398-2d86-4c3b-9992-919d80f94f0f",
   "metadata": {},
   "outputs": [],
   "source": [
    "## Predict based on trained model"
   ]
  },
  {
   "cell_type": "code",
   "execution_count": 95,
   "id": "89933393-ecbc-4653-8749-f35bb311b817",
   "metadata": {},
   "outputs": [],
   "source": [
    "prediction_NK = predict.glm(model_NK, newdata=input_data_NK, type = 'response')"
   ]
  },
  {
   "cell_type": "code",
   "execution_count": 96,
   "id": "8a776ab7-e3f2-4bc8-a765-8e73af1218ee",
   "metadata": {},
   "outputs": [],
   "source": [
    "prediction_NK = data.frame(prediction_NK)"
   ]
  },
  {
   "cell_type": "code",
   "execution_count": 97,
   "id": "519376ad-29ac-48d4-b926-9c112782eccc",
   "metadata": {},
   "outputs": [],
   "source": [
    "prediction_NK$sample_id = rownames(prediction_NK)"
   ]
  },
  {
   "cell_type": "code",
   "execution_count": 98,
   "id": "a566ede8-70b6-42ab-8767-7d1b9e25ee01",
   "metadata": {},
   "outputs": [],
   "source": [
    "colnames(prediction_NK) = c('predicted_value', 'sample_id')"
   ]
  },
  {
   "cell_type": "code",
   "execution_count": 99,
   "id": "08deda61-b2f7-4840-9ca1-8887253c4761",
   "metadata": {},
   "outputs": [
    {
     "data": {
      "text/html": [
       "<table class=\"dataframe\">\n",
       "<caption>A data.frame: 2 × 2</caption>\n",
       "<thead>\n",
       "\t<tr><th></th><th scope=col>predicted_value</th><th scope=col>sample_id</th></tr>\n",
       "\t<tr><th></th><th scope=col>&lt;dbl&gt;</th><th scope=col>&lt;chr&gt;</th></tr>\n",
       "</thead>\n",
       "<tbody>\n",
       "\t<tr><th scope=row>Baseline.TEST_1</th><td>0.10346422</td><td>Baseline.TEST_1 </td></tr>\n",
       "\t<tr><th scope=row>Baseline.TEST_12</th><td>0.07982498</td><td>Baseline.TEST_12</td></tr>\n",
       "</tbody>\n",
       "</table>\n"
      ],
      "text/latex": [
       "A data.frame: 2 × 2\n",
       "\\begin{tabular}{r|ll}\n",
       "  & predicted\\_value & sample\\_id\\\\\n",
       "  & <dbl> & <chr>\\\\\n",
       "\\hline\n",
       "\tBaseline.TEST\\_1 & 0.10346422 & Baseline.TEST\\_1 \\\\\n",
       "\tBaseline.TEST\\_12 & 0.07982498 & Baseline.TEST\\_12\\\\\n",
       "\\end{tabular}\n"
      ],
      "text/markdown": [
       "\n",
       "A data.frame: 2 × 2\n",
       "\n",
       "| <!--/--> | predicted_value &lt;dbl&gt; | sample_id &lt;chr&gt; |\n",
       "|---|---|---|\n",
       "| Baseline.TEST_1 | 0.10346422 | Baseline.TEST_1  |\n",
       "| Baseline.TEST_12 | 0.07982498 | Baseline.TEST_12 |\n",
       "\n"
      ],
      "text/plain": [
       "                 predicted_value sample_id       \n",
       "Baseline.TEST_1  0.10346422      Baseline.TEST_1 \n",
       "Baseline.TEST_12 0.07982498      Baseline.TEST_12"
      ]
     },
     "metadata": {},
     "output_type": "display_data"
    }
   ],
   "source": [
    "head(prediction_NK,2)"
   ]
  },
  {
   "cell_type": "code",
   "execution_count": 100,
   "id": "b9a84f6e-43e1-45fa-bd04-d72663b9f599",
   "metadata": {},
   "outputs": [
    {
     "data": {
      "text/html": [
       "103"
      ],
      "text/latex": [
       "103"
      ],
      "text/markdown": [
       "103"
      ],
      "text/plain": [
       "[1] 103"
      ]
     },
     "metadata": {},
     "output_type": "display_data"
    }
   ],
   "source": [
    "nrow(prediction_NK)"
   ]
  },
  {
   "cell_type": "code",
   "execution_count": 101,
   "id": "4444696e-34cf-4776-a0d2-3648e6f07cf3",
   "metadata": {},
   "outputs": [],
   "source": [
    "### Save result"
   ]
  },
  {
   "cell_type": "code",
   "execution_count": 102,
   "id": "82f93422-f3ef-490d-b2ee-58274865d76f",
   "metadata": {},
   "outputs": [],
   "source": [
    "write.csv(prediction_NK, paste0(result_path_rep, '/GX3_NK_prediction_result.csv'))"
   ]
  },
  {
   "cell_type": "markdown",
   "id": "20a2b02b-825a-4784-a208-3d5567b7118b",
   "metadata": {},
   "source": [
    "# Evaluate prediction"
   ]
  },
  {
   "cell_type": "markdown",
   "id": "3389a24b-1ae7-4744-a911-83a97c7fdbaa",
   "metadata": {
    "tags": []
   },
   "source": [
    "## Model based on top Factor3 / Factor 4 Features"
   ]
  },
  {
   "cell_type": "markdown",
   "id": "5ac8ab38-9c46-48ad-8614-ed9e1183fcab",
   "metadata": {
    "tags": []
   },
   "source": [
    "### ROC and AUC"
   ]
  },
  {
   "cell_type": "code",
   "execution_count": 103,
   "id": "1570ec6b-b9b1-4521-a78f-2fb43e69abe6",
   "metadata": {},
   "outputs": [],
   "source": [
    "### Extract record id and timepont from prediction data"
   ]
  },
  {
   "cell_type": "code",
   "execution_count": 104,
   "id": "1f45f575-4696-4da2-97b9-27144905806c",
   "metadata": {},
   "outputs": [],
   "source": [
    "prediction$record_id = str_replace(prediction$sample_id, '.*_', '')"
   ]
  },
  {
   "cell_type": "code",
   "execution_count": 105,
   "id": "213da39e-d809-42f2-966c-7f9eedbd6434",
   "metadata": {},
   "outputs": [],
   "source": [
    "prediction$tp = str_extract(prediction$sample_id, '.*\\\\.')"
   ]
  },
  {
   "cell_type": "code",
   "execution_count": 106,
   "id": "5012e57c-c1f8-4db2-b0df-afa56a43a672",
   "metadata": {},
   "outputs": [
    {
     "data": {
      "text/html": [
       "<style>\n",
       ".list-inline {list-style: none; margin:0; padding: 0}\n",
       ".list-inline>li {display: inline-block}\n",
       ".list-inline>li:not(:last-child)::after {content: \"\\00b7\"; padding: 0 .5ex}\n",
       "</style>\n",
       "<ol class=list-inline><li>'Baseline.'</li><li>'t24h.'</li><li>'t8w.'</li><li>'UT.'</li></ol>\n"
      ],
      "text/latex": [
       "\\begin{enumerate*}\n",
       "\\item 'Baseline.'\n",
       "\\item 't24h.'\n",
       "\\item 't8w.'\n",
       "\\item 'UT.'\n",
       "\\end{enumerate*}\n"
      ],
      "text/markdown": [
       "1. 'Baseline.'\n",
       "2. 't24h.'\n",
       "3. 't8w.'\n",
       "4. 'UT.'\n",
       "\n",
       "\n"
      ],
      "text/plain": [
       "[1] \"Baseline.\" \"t24h.\"     \"t8w.\"      \"UT.\"      "
      ]
     },
     "metadata": {},
     "output_type": "display_data"
    }
   ],
   "source": [
    "unique(prediction$tp)"
   ]
  },
  {
   "cell_type": "code",
   "execution_count": 107,
   "id": "6dd3c268-88f9-4998-9725-92cbfeba4e60",
   "metadata": {},
   "outputs": [
    {
     "data": {
      "text/html": [
       "103"
      ],
      "text/latex": [
       "103"
      ],
      "text/markdown": [
       "103"
      ],
      "text/plain": [
       "[1] 103"
      ]
     },
     "metadata": {},
     "output_type": "display_data"
    }
   ],
   "source": [
    "nrow(prediction)"
   ]
  },
  {
   "cell_type": "code",
   "execution_count": 108,
   "id": "29a158b4-6f0a-4a10-b01a-5d6cb50e5429",
   "metadata": {},
   "outputs": [],
   "source": [
    "### Merge prediction with sample_data"
   ]
  },
  {
   "cell_type": "code",
   "execution_count": 109,
   "id": "e644c446-0643-42f2-a4de-93b8bbe79a7a",
   "metadata": {},
   "outputs": [],
   "source": [
    "#head(sample_data,2)"
   ]
  },
  {
   "cell_type": "code",
   "execution_count": 110,
   "id": "2dbce579-5fd7-4528-ac02-ccf7d324ba01",
   "metadata": {},
   "outputs": [],
   "source": [
    "prediction = merge(prediction, sample_data[,c('record_id', 'outcome')])"
   ]
  },
  {
   "cell_type": "code",
   "execution_count": 111,
   "id": "5ed801a5-245c-433b-b8da-e2f3e32fcc33",
   "metadata": {},
   "outputs": [
    {
     "data": {
      "text/html": [
       "72"
      ],
      "text/latex": [
       "72"
      ],
      "text/markdown": [
       "72"
      ],
      "text/plain": [
       "[1] 72"
      ]
     },
     "metadata": {},
     "output_type": "display_data"
    }
   ],
   "source": [
    "nrow(prediction)"
   ]
  },
  {
   "cell_type": "code",
   "execution_count": 112,
   "id": "044b6be2-0aea-4338-901d-cb7648f4b8aa",
   "metadata": {},
   "outputs": [
    {
     "data": {
      "text/html": [
       "<style>\n",
       ".list-inline {list-style: none; margin:0; padding: 0}\n",
       ".list-inline>li {display: inline-block}\n",
       ".list-inline>li:not(:last-child)::after {content: \"\\00b7\"; padding: 0 .5ex}\n",
       "</style>\n",
       "<ol class=list-inline><li>'Baseline.'</li><li>'t8w.'</li><li>'t24h.'</li></ol>\n"
      ],
      "text/latex": [
       "\\begin{enumerate*}\n",
       "\\item 'Baseline.'\n",
       "\\item 't8w.'\n",
       "\\item 't24h.'\n",
       "\\end{enumerate*}\n"
      ],
      "text/markdown": [
       "1. 'Baseline.'\n",
       "2. 't8w.'\n",
       "3. 't24h.'\n",
       "\n",
       "\n"
      ],
      "text/plain": [
       "[1] \"Baseline.\" \"t8w.\"      \"t24h.\"    "
      ]
     },
     "metadata": {},
     "output_type": "display_data"
    }
   ],
   "source": [
    "unique(prediction$tp)"
   ]
  },
  {
   "cell_type": "code",
   "execution_count": 113,
   "id": "cc105466-239a-441e-9016-5769b2a958a0",
   "metadata": {},
   "outputs": [],
   "source": [
    "### Filter on only TP1 (= Baseline ) Prediction"
   ]
  },
  {
   "cell_type": "code",
   "execution_count": 114,
   "id": "48f38baf-f273-4c1d-a20e-3f22dac29b03",
   "metadata": {},
   "outputs": [],
   "source": [
    "prediction = prediction[prediction$tp == 'Baseline.',]"
   ]
  },
  {
   "cell_type": "code",
   "execution_count": 115,
   "id": "eae05474-6df5-4d43-b244-6aa736a2fb38",
   "metadata": {},
   "outputs": [
    {
     "data": {
      "text/html": [
       "<table class=\"dataframe\">\n",
       "<caption>A data.frame: 2 × 5</caption>\n",
       "<thead>\n",
       "\t<tr><th></th><th scope=col>record_id</th><th scope=col>predicted_value</th><th scope=col>sample_id</th><th scope=col>tp</th><th scope=col>outcome</th></tr>\n",
       "\t<tr><th></th><th scope=col>&lt;chr&gt;</th><th scope=col>&lt;dbl&gt;</th><th scope=col>&lt;chr&gt;</th><th scope=col>&lt;chr&gt;</th><th scope=col>&lt;chr&gt;</th></tr>\n",
       "</thead>\n",
       "<tbody>\n",
       "\t<tr><th scope=row>1</th><td>1 </td><td>0.0004455915</td><td>Baseline.TEST_1 </td><td>Baseline.</td><td>NA</td></tr>\n",
       "\t<tr><th scope=row>4</th><td>12</td><td>0.0007335106</td><td>Baseline.TEST_12</td><td>Baseline.</td><td>NA</td></tr>\n",
       "</tbody>\n",
       "</table>\n"
      ],
      "text/latex": [
       "A data.frame: 2 × 5\n",
       "\\begin{tabular}{r|lllll}\n",
       "  & record\\_id & predicted\\_value & sample\\_id & tp & outcome\\\\\n",
       "  & <chr> & <dbl> & <chr> & <chr> & <chr>\\\\\n",
       "\\hline\n",
       "\t1 & 1  & 0.0004455915 & Baseline.TEST\\_1  & Baseline. & NA\\\\\n",
       "\t4 & 12 & 0.0007335106 & Baseline.TEST\\_12 & Baseline. & NA\\\\\n",
       "\\end{tabular}\n"
      ],
      "text/markdown": [
       "\n",
       "A data.frame: 2 × 5\n",
       "\n",
       "| <!--/--> | record_id &lt;chr&gt; | predicted_value &lt;dbl&gt; | sample_id &lt;chr&gt; | tp &lt;chr&gt; | outcome &lt;chr&gt; |\n",
       "|---|---|---|---|---|---|\n",
       "| 1 | 1  | 0.0004455915 | Baseline.TEST_1  | Baseline. | NA |\n",
       "| 4 | 12 | 0.0007335106 | Baseline.TEST_12 | Baseline. | NA |\n",
       "\n"
      ],
      "text/plain": [
       "  record_id predicted_value sample_id        tp        outcome\n",
       "1 1         0.0004455915    Baseline.TEST_1  Baseline. NA     \n",
       "4 12        0.0007335106    Baseline.TEST_12 Baseline. NA     "
      ]
     },
     "metadata": {},
     "output_type": "display_data"
    }
   ],
   "source": [
    "head(prediction,2)"
   ]
  },
  {
   "cell_type": "code",
   "execution_count": 116,
   "id": "cb99bba7-95fa-4b07-acfa-881e117e8c93",
   "metadata": {},
   "outputs": [
    {
     "data": {
      "text/html": [
       "24"
      ],
      "text/latex": [
       "24"
      ],
      "text/markdown": [
       "24"
      ],
      "text/plain": [
       "[1] 24"
      ]
     },
     "metadata": {},
     "output_type": "display_data"
    }
   ],
   "source": [
    "length(unique(prediction$record_id)) ## 24 samples for TP1"
   ]
  },
  {
   "cell_type": "code",
   "execution_count": 117,
   "id": "0b086cf4-16f3-452f-990a-df6af574cc53",
   "metadata": {},
   "outputs": [],
   "source": [
    "### Filter on samples with known outcome\n",
    "prediction = prediction[!is.na(prediction$outcome),]"
   ]
  },
  {
   "cell_type": "code",
   "execution_count": 118,
   "id": "df50f56c-5458-4a25-b02a-aeab77e623f5",
   "metadata": {},
   "outputs": [
    {
     "data": {
      "text/html": [
       "12"
      ],
      "text/latex": [
       "12"
      ],
      "text/markdown": [
       "12"
      ],
      "text/plain": [
       "[1] 12"
      ]
     },
     "metadata": {},
     "output_type": "display_data"
    }
   ],
   "source": [
    "length(unique(prediction$record_id)) ## 12 samples with kown outcome"
   ]
  },
  {
   "cell_type": "code",
   "execution_count": 119,
   "id": "5eee373e-165a-42ad-8b53-f7e69ca7d181",
   "metadata": {},
   "outputs": [],
   "source": [
    "### Transform to long format"
   ]
  },
  {
   "cell_type": "code",
   "execution_count": 120,
   "id": "445872a3-f339-4477-840d-33aa190cbda3",
   "metadata": {},
   "outputs": [
    {
     "name": "stderr",
     "output_type": "stream",
     "text": [
      "Using record_id, sample_id, tp, outcome as id variables\n",
      "\n"
     ]
    }
   ],
   "source": [
    "prediction = melt(prediction)"
   ]
  },
  {
   "cell_type": "code",
   "execution_count": 121,
   "id": "484338f5-05b5-4a94-9777-01c9df5ad22b",
   "metadata": {},
   "outputs": [
    {
     "data": {
      "text/html": [
       "<table class=\"dataframe\">\n",
       "<caption>A data.frame: 2 × 6</caption>\n",
       "<thead>\n",
       "\t<tr><th></th><th scope=col>record_id</th><th scope=col>sample_id</th><th scope=col>tp</th><th scope=col>outcome</th><th scope=col>variable</th><th scope=col>value</th></tr>\n",
       "\t<tr><th></th><th scope=col>&lt;chr&gt;</th><th scope=col>&lt;chr&gt;</th><th scope=col>&lt;chr&gt;</th><th scope=col>&lt;chr&gt;</th><th scope=col>&lt;fct&gt;</th><th scope=col>&lt;dbl&gt;</th></tr>\n",
       "</thead>\n",
       "<tbody>\n",
       "\t<tr><th scope=row>1</th><td>14</td><td>Baseline.TEST_14</td><td>Baseline.</td><td>Better</td><td>predicted_value</td><td>0.01134635</td></tr>\n",
       "\t<tr><th scope=row>2</th><td>15</td><td>Baseline.TEST_15</td><td>Baseline.</td><td>Better</td><td>predicted_value</td><td>0.12036748</td></tr>\n",
       "</tbody>\n",
       "</table>\n"
      ],
      "text/latex": [
       "A data.frame: 2 × 6\n",
       "\\begin{tabular}{r|llllll}\n",
       "  & record\\_id & sample\\_id & tp & outcome & variable & value\\\\\n",
       "  & <chr> & <chr> & <chr> & <chr> & <fct> & <dbl>\\\\\n",
       "\\hline\n",
       "\t1 & 14 & Baseline.TEST\\_14 & Baseline. & Better & predicted\\_value & 0.01134635\\\\\n",
       "\t2 & 15 & Baseline.TEST\\_15 & Baseline. & Better & predicted\\_value & 0.12036748\\\\\n",
       "\\end{tabular}\n"
      ],
      "text/markdown": [
       "\n",
       "A data.frame: 2 × 6\n",
       "\n",
       "| <!--/--> | record_id &lt;chr&gt; | sample_id &lt;chr&gt; | tp &lt;chr&gt; | outcome &lt;chr&gt; | variable &lt;fct&gt; | value &lt;dbl&gt; |\n",
       "|---|---|---|---|---|---|---|\n",
       "| 1 | 14 | Baseline.TEST_14 | Baseline. | Better | predicted_value | 0.01134635 |\n",
       "| 2 | 15 | Baseline.TEST_15 | Baseline. | Better | predicted_value | 0.12036748 |\n",
       "\n"
      ],
      "text/plain": [
       "  record_id sample_id        tp        outcome variable        value     \n",
       "1 14        Baseline.TEST_14 Baseline. Better  predicted_value 0.01134635\n",
       "2 15        Baseline.TEST_15 Baseline. Better  predicted_value 0.12036748"
      ]
     },
     "metadata": {},
     "output_type": "display_data"
    }
   ],
   "source": [
    "head(prediction,2)"
   ]
  },
  {
   "cell_type": "code",
   "execution_count": 122,
   "id": "8f0fdd40-9e15-4b7d-9a75-8d4414983731",
   "metadata": {},
   "outputs": [],
   "source": [
    "### Recode outcome variable to y with 1/0"
   ]
  },
  {
   "cell_type": "code",
   "execution_count": 123,
   "id": "f54f5090-47db-492e-bc29-99c483ca551a",
   "metadata": {},
   "outputs": [],
   "source": [
    "prediction$y = 1\n",
    "prediction$y[prediction$outcome == 'Better'] = 0"
   ]
  },
  {
   "cell_type": "code",
   "execution_count": 124,
   "id": "6be5280f-ad76-4acf-951b-89eea59bf015",
   "metadata": {},
   "outputs": [],
   "source": [
    "### Define name of the trained model"
   ]
  },
  {
   "cell_type": "code",
   "execution_count": 125,
   "id": "833b8359-446c-4b88-96a2-1f51dad2478e",
   "metadata": {},
   "outputs": [],
   "source": [
    "prediction$model = as.character(prediction$variable)\n",
    "prediction$model[prediction$model == 'predicted_value'] = 'Lasso on top features of Factor 4'"
   ]
  },
  {
   "cell_type": "code",
   "execution_count": 126,
   "id": "54fa994f-829e-4b89-badb-bcd493731dc9",
   "metadata": {},
   "outputs": [
    {
     "data": {
      "text/html": [
       "'Lasso on top features of Factor 4'"
      ],
      "text/latex": [
       "'Lasso on top features of Factor 4'"
      ],
      "text/markdown": [
       "'Lasso on top features of Factor 4'"
      ],
      "text/plain": [
       "[1] \"Lasso on top features of Factor 4\""
      ]
     },
     "metadata": {},
     "output_type": "display_data"
    }
   ],
   "source": [
    "unique(prediction$model)"
   ]
  },
  {
   "cell_type": "code",
   "execution_count": 127,
   "id": "82c8f2da-9dbe-4c75-9b4a-e862cc78a6d8",
   "metadata": {},
   "outputs": [
    {
     "data": {
      "text/html": [
       "<table class=\"dataframe\">\n",
       "<caption>A data.frame: 2 × 8</caption>\n",
       "<thead>\n",
       "\t<tr><th></th><th scope=col>record_id</th><th scope=col>sample_id</th><th scope=col>tp</th><th scope=col>outcome</th><th scope=col>variable</th><th scope=col>value</th><th scope=col>y</th><th scope=col>model</th></tr>\n",
       "\t<tr><th></th><th scope=col>&lt;chr&gt;</th><th scope=col>&lt;chr&gt;</th><th scope=col>&lt;chr&gt;</th><th scope=col>&lt;chr&gt;</th><th scope=col>&lt;fct&gt;</th><th scope=col>&lt;dbl&gt;</th><th scope=col>&lt;dbl&gt;</th><th scope=col>&lt;chr&gt;</th></tr>\n",
       "</thead>\n",
       "<tbody>\n",
       "\t<tr><th scope=row>1</th><td>14</td><td>Baseline.TEST_14</td><td>Baseline.</td><td>Better</td><td>predicted_value</td><td>0.01134635</td><td>0</td><td>Lasso on top features of Factor 4</td></tr>\n",
       "\t<tr><th scope=row>2</th><td>15</td><td>Baseline.TEST_15</td><td>Baseline.</td><td>Better</td><td>predicted_value</td><td>0.12036748</td><td>0</td><td>Lasso on top features of Factor 4</td></tr>\n",
       "</tbody>\n",
       "</table>\n"
      ],
      "text/latex": [
       "A data.frame: 2 × 8\n",
       "\\begin{tabular}{r|llllllll}\n",
       "  & record\\_id & sample\\_id & tp & outcome & variable & value & y & model\\\\\n",
       "  & <chr> & <chr> & <chr> & <chr> & <fct> & <dbl> & <dbl> & <chr>\\\\\n",
       "\\hline\n",
       "\t1 & 14 & Baseline.TEST\\_14 & Baseline. & Better & predicted\\_value & 0.01134635 & 0 & Lasso on top features of Factor 4\\\\\n",
       "\t2 & 15 & Baseline.TEST\\_15 & Baseline. & Better & predicted\\_value & 0.12036748 & 0 & Lasso on top features of Factor 4\\\\\n",
       "\\end{tabular}\n"
      ],
      "text/markdown": [
       "\n",
       "A data.frame: 2 × 8\n",
       "\n",
       "| <!--/--> | record_id &lt;chr&gt; | sample_id &lt;chr&gt; | tp &lt;chr&gt; | outcome &lt;chr&gt; | variable &lt;fct&gt; | value &lt;dbl&gt; | y &lt;dbl&gt; | model &lt;chr&gt; |\n",
       "|---|---|---|---|---|---|---|---|---|\n",
       "| 1 | 14 | Baseline.TEST_14 | Baseline. | Better | predicted_value | 0.01134635 | 0 | Lasso on top features of Factor 4 |\n",
       "| 2 | 15 | Baseline.TEST_15 | Baseline. | Better | predicted_value | 0.12036748 | 0 | Lasso on top features of Factor 4 |\n",
       "\n"
      ],
      "text/plain": [
       "  record_id sample_id        tp        outcome variable        value      y\n",
       "1 14        Baseline.TEST_14 Baseline. Better  predicted_value 0.01134635 0\n",
       "2 15        Baseline.TEST_15 Baseline. Better  predicted_value 0.12036748 0\n",
       "  model                            \n",
       "1 Lasso on top features of Factor 4\n",
       "2 Lasso on top features of Factor 4"
      ]
     },
     "metadata": {},
     "output_type": "display_data"
    }
   ],
   "source": [
    "head(prediction,2)"
   ]
  },
  {
   "cell_type": "code",
   "execution_count": 128,
   "id": "232a3fdb-c7d8-4769-9e0e-c462f381f8bb",
   "metadata": {},
   "outputs": [],
   "source": [
    "## Plot ROC curve"
   ]
  },
  {
   "cell_type": "code",
   "execution_count": 129,
   "id": "e056d46f-6057-4e0a-9d74-e1b8e7bb9354",
   "metadata": {},
   "outputs": [],
   "source": [
    "## Specify Plot\n",
    "rocplot = ggplot(prediction, aes(m = value, d =y, color = model, linetype = model))+ geom_roc(n.cuts=0,labels=FALSE, size = 0.5)"
   ]
  },
  {
   "cell_type": "code",
   "execution_count": 130,
   "id": "fce5d1f2-929b-40a9-bf72-eee4f988bffa",
   "metadata": {},
   "outputs": [],
   "source": [
    "# Figure Name\n",
    "figure_name = 'FIG10_GX3_ROC_GR_LASSO_TP1'"
   ]
  },
  {
   "cell_type": "code",
   "execution_count": 131,
   "id": "adc48561-d1db-4119-8a8b-c2b45eb411b6",
   "metadata": {},
   "outputs": [],
   "source": [
    "# Sizes of the plot\n",
    "width_par = 2\n",
    "height_par = 2"
   ]
  },
  {
   "cell_type": "code",
   "execution_count": 132,
   "id": "c0a21a4b-9c1a-4a17-87a8-12774489f6db",
   "metadata": {},
   "outputs": [],
   "source": [
    "xtitle = xlab( 'False Positive Fraction')\n",
    "ytitle  = ylab('Sensititity')"
   ]
  },
  {
   "cell_type": "code",
   "execution_count": 133,
   "id": "dacf1154-7975-4b2b-9dd2-006849674fe3",
   "metadata": {},
   "outputs": [
    {
     "name": "stderr",
     "output_type": "stream",
     "text": [
      "Warning message:\n",
      "“\u001b[1m\u001b[22mThe following aesthetics were dropped during statistical transformation: \u001b[32mm, d\u001b[39m\n",
      "\u001b[36mℹ\u001b[39m This can happen when ggplot fails to infer the correct grouping structure in\n",
      "  the data.\n",
      "\u001b[36mℹ\u001b[39m Did you forget to specify a `group` aesthetic or to convert a numerical\n",
      "  variable into a factor?”\n"
     ]
    },
    {
     "data": {
      "image/png": "[encoded data removed]",
      "text/plain": [
       "plot without title"
      ]
     },
     "metadata": {
      "image/png": {
       "height": 300,
       "width": 600
      }
     },
     "output_type": "display_data"
    }
   ],
   "source": [
    "## Configuration + Modification of plot\n",
    "roc_plot = rocplot + \n",
    "    plot_config + \n",
    "    xtitle + \n",
    "    ytitle + \n",
    "    ggtitle('ROC TP1 good vs. poor (G)') +\n",
    "    geom_abline(slope = 1, intercept = 0) +     \n",
    "   scale_color_manual(values = c('Lasso on top features of Factor 4' = \"#924ED2\"\n",
    "                                 ))+\n",
    "   scale_linetype_manual(values = c('Lasso on top features of Factor 4' = \"solid\"\n",
    "                                 ))+\n",
    "    theme(legend.position = 'none')\n",
    "\n",
    "#legend_roc = get_legend(roc_plot)\n",
    "options(repr.plot.width=10, repr.plot.height=5)   \n",
    "roc_plot"
   ]
  },
  {
   "cell_type": "code",
   "execution_count": 134,
   "id": "31fa559f-628c-44b3-8ff5-c8140ff09a68",
   "metadata": {},
   "outputs": [
    {
     "name": "stderr",
     "output_type": "stream",
     "text": [
      "Warning message:\n",
      "“\u001b[1m\u001b[22mThe following aesthetics were dropped during statistical transformation: \u001b[32mm, d\u001b[39m\n",
      "\u001b[36mℹ\u001b[39m This can happen when ggplot fails to infer the correct grouping structure in\n",
      "  the data.\n",
      "\u001b[36mℹ\u001b[39m Did you forget to specify a `group` aesthetic or to convert a numerical\n",
      "  variable into a factor?”\n"
     ]
    },
    {
     "data": {
      "text/html": [
       "<strong>png:</strong> 2"
      ],
      "text/latex": [
       "\\textbf{png:} 2"
      ],
      "text/markdown": [
       "**png:** 2"
      ],
      "text/plain": [
       "png \n",
       "  2 "
      ]
     },
     "metadata": {},
     "output_type": "display_data"
    }
   ],
   "source": [
    "pdf(paste0('figures/Final_Figures/', figure_name, '.pdf'), width =width_par, height =height_par)\n",
    "print(roc_plot)\n",
    "dev.off()"
   ]
  },
  {
   "cell_type": "code",
   "execution_count": 135,
   "id": "32e5679a-09bb-4ac1-88b8-83682e4710b8",
   "metadata": {},
   "outputs": [],
   "source": [
    "### Calculate AUC values"
   ]
  },
  {
   "cell_type": "code",
   "execution_count": 136,
   "id": "01976fd8-5438-4e71-a971-8e8273f349df",
   "metadata": {},
   "outputs": [],
   "source": [
    "auc_values = data.frame()"
   ]
  },
  {
   "cell_type": "code",
   "execution_count": 137,
   "id": "ea3dcf3d-253e-472f-9a89-1749d4441038",
   "metadata": {},
   "outputs": [
    {
     "name": "stderr",
     "output_type": "stream",
     "text": [
      "Setting levels: control = 0, case = 1\n",
      "\n",
      "Setting direction: controls < cases\n",
      "\n"
     ]
    }
   ],
   "source": [
    "for(i in unique(prediction$model)){\n",
    "    calc_auc = data.frame(model = i, \n",
    "                          auc = auc(prediction$y[prediction$model == i], prediction$value[prediction$model == i])\n",
    "                          )\n",
    "    auc_values = rbind(auc_values, calc_auc)\n",
    "    }"
   ]
  },
  {
   "cell_type": "code",
   "execution_count": 138,
   "id": "3bbbe1f4-2c08-4f69-a7bd-6f18d871c15b",
   "metadata": {},
   "outputs": [
    {
     "data": {
      "text/html": [
       "<table class=\"dataframe\">\n",
       "<caption>A data.frame: 1 × 2</caption>\n",
       "<thead>\n",
       "\t<tr><th scope=col>model</th><th scope=col>auc</th></tr>\n",
       "\t<tr><th scope=col>&lt;chr&gt;</th><th scope=col>&lt;auc&gt;</th></tr>\n",
       "</thead>\n",
       "<tbody>\n",
       "\t<tr><td>Lasso on top features of Factor 4</td><td>0.8285714</td></tr>\n",
       "</tbody>\n",
       "</table>\n"
      ],
      "text/latex": [
       "A data.frame: 1 × 2\n",
       "\\begin{tabular}{ll}\n",
       " model & auc\\\\\n",
       " <chr> & <auc>\\\\\n",
       "\\hline\n",
       "\t Lasso on top features of Factor 4 & 0.8285714\\\\\n",
       "\\end{tabular}\n"
      ],
      "text/markdown": [
       "\n",
       "A data.frame: 1 × 2\n",
       "\n",
       "| model &lt;chr&gt; | auc &lt;auc&gt; |\n",
       "|---|---|\n",
       "| Lasso on top features of Factor 4 | 0.8285714 |\n",
       "\n"
      ],
      "text/plain": [
       "  model                             auc      \n",
       "1 Lasso on top features of Factor 4 0.8285714"
      ]
     },
     "metadata": {},
     "output_type": "display_data"
    }
   ],
   "source": [
    "auc_values"
   ]
  },
  {
   "cell_type": "code",
   "execution_count": 139,
   "id": "35bae15b-1f82-47d9-90f4-c47696eb0360",
   "metadata": {},
   "outputs": [],
   "source": [
    "color_data = data.frame(description = c('Lasso on top features of Factor 4'),\n",
    "                        color = c( \"#924ED2\"))"
   ]
  },
  {
   "cell_type": "code",
   "execution_count": null,
   "id": "e8cad302-af2c-486c-acc4-970394af7366",
   "metadata": {},
   "outputs": [],
   "source": []
  },
  {
   "cell_type": "code",
   "execution_count": 140,
   "id": "af484cde-d04a-496c-babb-222ab307c0fa",
   "metadata": {},
   "outputs": [],
   "source": [
    "### Seperately define legend"
   ]
  },
  {
   "cell_type": "code",
   "execution_count": 141,
   "id": "3113df65-5a41-4ae8-bd57-7395691635ee",
   "metadata": {},
   "outputs": [],
   "source": [
    "legend_add  = Legend(labels = unique(color_data$description), labels_gp = gpar(fontsize = 8),legend_gp =list(col = unique(c(unique(color_data$color)))), \n",
    "    nrow = 1, type = 'lines') "
   ]
  },
  {
   "cell_type": "code",
   "execution_count": 142,
   "id": "a4486f86-3a78-473f-834c-4874209a39a2",
   "metadata": {},
   "outputs": [],
   "source": [
    "legend_add_vertical = packLegend(legend_add, direction = \"horizontal\")"
   ]
  },
  {
   "cell_type": "code",
   "execution_count": 143,
   "id": "61da2d00-8f73-4f99-8513-26adf7d0300d",
   "metadata": {},
   "outputs": [
    {
     "data": {
      "text/html": [
       "<strong>png:</strong> 2"
      ],
      "text/latex": [
       "\\textbf{png:} 2"
      ],
      "text/markdown": [
       "**png:** 2"
      ],
      "text/plain": [
       "png \n",
       "  2 "
      ]
     },
     "metadata": {},
     "output_type": "display_data"
    }
   ],
   "source": [
    "pdf(paste0('figures/Final_Figures/ROC_Lasso_Legend_Text', '.pdf'), \n",
    "    width =1.9, \n",
    "    height = 0.15)\n",
    "draw(legend_add_vertical)\n",
    "dev.off()"
   ]
  },
  {
   "cell_type": "code",
   "execution_count": 144,
   "id": "59f5dbf9-bea5-4a6c-bf11-196e97ad13a1",
   "metadata": {},
   "outputs": [
    {
     "data": {
      "image/png": "[encoded data removed]",
      "text/plain": [
       "plot without title"
      ]
     },
     "metadata": {
      "image/png": {
       "height": 120,
       "width": 1800
      }
     },
     "output_type": "display_data"
    }
   ],
   "source": [
    "options(repr.plot.width=30, repr.plot.height=2)\n",
    "draw(legend_add_vertical)"
   ]
  },
  {
   "cell_type": "markdown",
   "id": "c4cb8c81-e09c-40ae-bb59-88fc618cbe8a",
   "metadata": {
    "tags": []
   },
   "source": [
    "### Prediction metrics table"
   ]
  },
  {
   "cell_type": "code",
   "execution_count": 145,
   "id": "48f92e26-bfcd-4378-b542-1ad3f32c8eb0",
   "metadata": {},
   "outputs": [],
   "source": [
    "### generate additional prediction metrics table"
   ]
  },
  {
   "cell_type": "code",
   "execution_count": 146,
   "id": "034a050a-8f71-409e-ab3e-f0cb7d6eb8fd",
   "metadata": {},
   "outputs": [],
   "source": [
    "## Recode y as factor"
   ]
  },
  {
   "cell_type": "code",
   "execution_count": 147,
   "id": "e8219631-e6fe-4ff0-b2ed-4ac381b755ea",
   "metadata": {},
   "outputs": [],
   "source": [
    "prediction$y = as.factor(prediction$y)  "
   ]
  },
  {
   "cell_type": "code",
   "execution_count": 148,
   "id": "85ef8a2c-198c-4ce8-9dcd-13e24511bee0",
   "metadata": {},
   "outputs": [
    {
     "data": {
      "text/html": [
       "<style>\n",
       ".list-inline {list-style: none; margin:0; padding: 0}\n",
       ".list-inline>li {display: inline-block}\n",
       ".list-inline>li:not(:last-child)::after {content: \"\\00b7\"; padding: 0 .5ex}\n",
       "</style>\n",
       "<ol class=list-inline><li>'0'</li><li>'1'</li></ol>\n"
      ],
      "text/latex": [
       "\\begin{enumerate*}\n",
       "\\item '0'\n",
       "\\item '1'\n",
       "\\end{enumerate*}\n"
      ],
      "text/markdown": [
       "1. '0'\n",
       "2. '1'\n",
       "\n",
       "\n"
      ],
      "text/plain": [
       "[1] \"0\" \"1\""
      ]
     },
     "metadata": {},
     "output_type": "display_data"
    }
   ],
   "source": [
    "levels(prediction$y)"
   ]
  },
  {
   "cell_type": "code",
   "execution_count": 149,
   "id": "69e7fd4b-6e68-4140-9084-3ebf9182f7e0",
   "metadata": {},
   "outputs": [],
   "source": [
    "prediction$y = relevel(prediction$y, '0')"
   ]
  },
  {
   "cell_type": "code",
   "execution_count": 150,
   "id": "851928c2-a343-4b62-ba23-6c738218582b",
   "metadata": {},
   "outputs": [],
   "source": [
    "### Calculate prediction metrics"
   ]
  },
  {
   "cell_type": "code",
   "execution_count": 151,
   "id": "bb258ba5-7dd9-4545-9e79-777a9087f0ce",
   "metadata": {},
   "outputs": [],
   "source": [
    "#prediction"
   ]
  },
  {
   "cell_type": "code",
   "execution_count": 152,
   "id": "602d6725-23a0-43ce-9945-ae80848fae5d",
   "metadata": {},
   "outputs": [],
   "source": [
    "prediction_lasso_GR = measureit(score = prediction$value, class = prediction$y, measure = c( 'PREC', 'REC', 'SPEC', 'FPR'))"
   ]
  },
  {
   "cell_type": "code",
   "execution_count": 153,
   "id": "455d69a5-714a-40f2-a444-cd1933fa1c94",
   "metadata": {},
   "outputs": [],
   "source": [
    "prediction_lasso_GR  = data.frame(do.call(cbind, prediction_lasso_GR ))\n",
    "prediction_lasso_GR$model = 'Lasso on top features of Factor 4'"
   ]
  },
  {
   "cell_type": "code",
   "execution_count": 154,
   "id": "eac3b77f-0c2b-4554-98bf-9d61957b8be3",
   "metadata": {},
   "outputs": [],
   "source": [
    "#prediction_lasso_GR"
   ]
  },
  {
   "cell_type": "code",
   "execution_count": 155,
   "id": "96c97471-c7bd-4739-84af-c8e6eee7b131",
   "metadata": {},
   "outputs": [],
   "source": [
    "### Save as supplementary table"
   ]
  },
  {
   "cell_type": "code",
   "execution_count": 156,
   "id": "6c931555-5f40-4eb2-b04b-fff1326fb325",
   "metadata": {},
   "outputs": [],
   "source": [
    "write.csv(prediction_lasso_GR, paste0(result_path_model,'/Supplementary/SUPP_GX3_2_Lasso_prediction_metrics.csv'), row.names = FALSE)"
   ]
  },
  {
   "cell_type": "markdown",
   "id": "6d4edcd9-110c-486a-92a8-00c251794690",
   "metadata": {},
   "source": [
    "## Only NK cell features"
   ]
  },
  {
   "cell_type": "markdown",
   "id": "9a4b8283-9dc8-4cce-a65e-04db4debe121",
   "metadata": {
    "tags": []
   },
   "source": [
    "### ROC and AUC"
   ]
  },
  {
   "cell_type": "code",
   "execution_count": 157,
   "id": "c57720e7-97fb-4d10-bba2-1fe9a162ab69",
   "metadata": {},
   "outputs": [
    {
     "data": {
      "text/html": [
       "<table class=\"dataframe\">\n",
       "<caption>A data.frame: 2 × 2</caption>\n",
       "<thead>\n",
       "\t<tr><th></th><th scope=col>predicted_value</th><th scope=col>sample_id</th></tr>\n",
       "\t<tr><th></th><th scope=col>&lt;dbl&gt;</th><th scope=col>&lt;chr&gt;</th></tr>\n",
       "</thead>\n",
       "<tbody>\n",
       "\t<tr><th scope=row>Baseline.TEST_1</th><td>0.10346422</td><td>Baseline.TEST_1 </td></tr>\n",
       "\t<tr><th scope=row>Baseline.TEST_12</th><td>0.07982498</td><td>Baseline.TEST_12</td></tr>\n",
       "</tbody>\n",
       "</table>\n"
      ],
      "text/latex": [
       "A data.frame: 2 × 2\n",
       "\\begin{tabular}{r|ll}\n",
       "  & predicted\\_value & sample\\_id\\\\\n",
       "  & <dbl> & <chr>\\\\\n",
       "\\hline\n",
       "\tBaseline.TEST\\_1 & 0.10346422 & Baseline.TEST\\_1 \\\\\n",
       "\tBaseline.TEST\\_12 & 0.07982498 & Baseline.TEST\\_12\\\\\n",
       "\\end{tabular}\n"
      ],
      "text/markdown": [
       "\n",
       "A data.frame: 2 × 2\n",
       "\n",
       "| <!--/--> | predicted_value &lt;dbl&gt; | sample_id &lt;chr&gt; |\n",
       "|---|---|---|\n",
       "| Baseline.TEST_1 | 0.10346422 | Baseline.TEST_1  |\n",
       "| Baseline.TEST_12 | 0.07982498 | Baseline.TEST_12 |\n",
       "\n"
      ],
      "text/plain": [
       "                 predicted_value sample_id       \n",
       "Baseline.TEST_1  0.10346422      Baseline.TEST_1 \n",
       "Baseline.TEST_12 0.07982498      Baseline.TEST_12"
      ]
     },
     "metadata": {},
     "output_type": "display_data"
    }
   ],
   "source": [
    "head(prediction_NK,2)"
   ]
  },
  {
   "cell_type": "code",
   "execution_count": 158,
   "id": "2115f72d-4099-4421-aecf-1f1ffd57ae4a",
   "metadata": {},
   "outputs": [],
   "source": [
    "## Extract record_id and TP from predictions"
   ]
  },
  {
   "cell_type": "code",
   "execution_count": 159,
   "id": "cbc48d1d-6ad7-403b-bc36-d045a7dcc648",
   "metadata": {},
   "outputs": [],
   "source": [
    "prediction_NK$record_id = str_replace(prediction_NK$sample_id, '.*_', '')"
   ]
  },
  {
   "cell_type": "code",
   "execution_count": 160,
   "id": "d86c9df1-ade9-4ea9-8c9a-e9607a9a268e",
   "metadata": {},
   "outputs": [],
   "source": [
    "prediction_NK$tp = str_extract(prediction_NK$sample_id, '.*\\\\.')"
   ]
  },
  {
   "cell_type": "code",
   "execution_count": 161,
   "id": "c584ecd4-8be3-47bc-bbe7-ca583945a90d",
   "metadata": {},
   "outputs": [
    {
     "data": {
      "text/html": [
       "<style>\n",
       ".list-inline {list-style: none; margin:0; padding: 0}\n",
       ".list-inline>li {display: inline-block}\n",
       ".list-inline>li:not(:last-child)::after {content: \"\\00b7\"; padding: 0 .5ex}\n",
       "</style>\n",
       "<ol class=list-inline><li>'Baseline.'</li><li>'t24h.'</li><li>'t8w.'</li><li>'UT.'</li></ol>\n"
      ],
      "text/latex": [
       "\\begin{enumerate*}\n",
       "\\item 'Baseline.'\n",
       "\\item 't24h.'\n",
       "\\item 't8w.'\n",
       "\\item 'UT.'\n",
       "\\end{enumerate*}\n"
      ],
      "text/markdown": [
       "1. 'Baseline.'\n",
       "2. 't24h.'\n",
       "3. 't8w.'\n",
       "4. 'UT.'\n",
       "\n",
       "\n"
      ],
      "text/plain": [
       "[1] \"Baseline.\" \"t24h.\"     \"t8w.\"      \"UT.\"      "
      ]
     },
     "metadata": {},
     "output_type": "display_data"
    }
   ],
   "source": [
    "unique(prediction_NK$tp)"
   ]
  },
  {
   "cell_type": "code",
   "execution_count": 162,
   "id": "5796d4aa-a1f0-41cc-af5e-8265a55d671a",
   "metadata": {},
   "outputs": [
    {
     "data": {
      "text/html": [
       "103"
      ],
      "text/latex": [
       "103"
      ],
      "text/markdown": [
       "103"
      ],
      "text/plain": [
       "[1] 103"
      ]
     },
     "metadata": {},
     "output_type": "display_data"
    }
   ],
   "source": [
    "nrow(prediction_NK)"
   ]
  },
  {
   "cell_type": "code",
   "execution_count": 163,
   "id": "519054d4-6c42-4463-8f26-051181c283e3",
   "metadata": {},
   "outputs": [],
   "source": [
    "## Add sample data outcome"
   ]
  },
  {
   "cell_type": "code",
   "execution_count": 164,
   "id": "f21f0cf7-4d8e-4c24-9743-74f33000b956",
   "metadata": {},
   "outputs": [],
   "source": [
    "prediction_NK = merge(prediction_NK, sample_data[,c('record_id', 'outcome')])"
   ]
  },
  {
   "cell_type": "code",
   "execution_count": 165,
   "id": "d29805c2-78d0-48b9-9175-9b3e94e78319",
   "metadata": {},
   "outputs": [
    {
     "data": {
      "text/html": [
       "72"
      ],
      "text/latex": [
       "72"
      ],
      "text/markdown": [
       "72"
      ],
      "text/plain": [
       "[1] 72"
      ]
     },
     "metadata": {},
     "output_type": "display_data"
    }
   ],
   "source": [
    "nrow(prediction_NK)"
   ]
  },
  {
   "cell_type": "code",
   "execution_count": 166,
   "id": "20549d0c-f323-4b99-9e38-5285d2ac68c0",
   "metadata": {},
   "outputs": [
    {
     "data": {
      "text/html": [
       "<style>\n",
       ".list-inline {list-style: none; margin:0; padding: 0}\n",
       ".list-inline>li {display: inline-block}\n",
       ".list-inline>li:not(:last-child)::after {content: \"\\00b7\"; padding: 0 .5ex}\n",
       "</style>\n",
       "<ol class=list-inline><li>'Baseline.'</li><li>'t8w.'</li><li>'t24h.'</li></ol>\n"
      ],
      "text/latex": [
       "\\begin{enumerate*}\n",
       "\\item 'Baseline.'\n",
       "\\item 't8w.'\n",
       "\\item 't24h.'\n",
       "\\end{enumerate*}\n"
      ],
      "text/markdown": [
       "1. 'Baseline.'\n",
       "2. 't8w.'\n",
       "3. 't24h.'\n",
       "\n",
       "\n"
      ],
      "text/plain": [
       "[1] \"Baseline.\" \"t8w.\"      \"t24h.\"    "
      ]
     },
     "metadata": {},
     "output_type": "display_data"
    }
   ],
   "source": [
    "unique(prediction_NK$tp)"
   ]
  },
  {
   "cell_type": "code",
   "execution_count": 167,
   "id": "f12fefe6-2989-4d90-b3c7-75701a8f73b7",
   "metadata": {},
   "outputs": [],
   "source": [
    "## Filter on TP1 (= Baseline prediction)"
   ]
  },
  {
   "cell_type": "code",
   "execution_count": 168,
   "id": "35063e91-f2ee-4d93-96de-d7da29194134",
   "metadata": {},
   "outputs": [],
   "source": [
    "prediction_NK = prediction_NK[prediction_NK$tp == 'Baseline.',]"
   ]
  },
  {
   "cell_type": "code",
   "execution_count": 169,
   "id": "52ed317f-ffbe-4c9c-9d0a-f59c11475fec",
   "metadata": {},
   "outputs": [
    {
     "data": {
      "text/html": [
       "<table class=\"dataframe\">\n",
       "<caption>A data.frame: 2 × 5</caption>\n",
       "<thead>\n",
       "\t<tr><th></th><th scope=col>record_id</th><th scope=col>predicted_value</th><th scope=col>sample_id</th><th scope=col>tp</th><th scope=col>outcome</th></tr>\n",
       "\t<tr><th></th><th scope=col>&lt;chr&gt;</th><th scope=col>&lt;dbl&gt;</th><th scope=col>&lt;chr&gt;</th><th scope=col>&lt;chr&gt;</th><th scope=col>&lt;chr&gt;</th></tr>\n",
       "</thead>\n",
       "<tbody>\n",
       "\t<tr><th scope=row>1</th><td>1 </td><td>0.10346422</td><td>Baseline.TEST_1 </td><td>Baseline.</td><td>NA</td></tr>\n",
       "\t<tr><th scope=row>4</th><td>12</td><td>0.07982498</td><td>Baseline.TEST_12</td><td>Baseline.</td><td>NA</td></tr>\n",
       "</tbody>\n",
       "</table>\n"
      ],
      "text/latex": [
       "A data.frame: 2 × 5\n",
       "\\begin{tabular}{r|lllll}\n",
       "  & record\\_id & predicted\\_value & sample\\_id & tp & outcome\\\\\n",
       "  & <chr> & <dbl> & <chr> & <chr> & <chr>\\\\\n",
       "\\hline\n",
       "\t1 & 1  & 0.10346422 & Baseline.TEST\\_1  & Baseline. & NA\\\\\n",
       "\t4 & 12 & 0.07982498 & Baseline.TEST\\_12 & Baseline. & NA\\\\\n",
       "\\end{tabular}\n"
      ],
      "text/markdown": [
       "\n",
       "A data.frame: 2 × 5\n",
       "\n",
       "| <!--/--> | record_id &lt;chr&gt; | predicted_value &lt;dbl&gt; | sample_id &lt;chr&gt; | tp &lt;chr&gt; | outcome &lt;chr&gt; |\n",
       "|---|---|---|---|---|---|\n",
       "| 1 | 1  | 0.10346422 | Baseline.TEST_1  | Baseline. | NA |\n",
       "| 4 | 12 | 0.07982498 | Baseline.TEST_12 | Baseline. | NA |\n",
       "\n"
      ],
      "text/plain": [
       "  record_id predicted_value sample_id        tp        outcome\n",
       "1 1         0.10346422      Baseline.TEST_1  Baseline. NA     \n",
       "4 12        0.07982498      Baseline.TEST_12 Baseline. NA     "
      ]
     },
     "metadata": {},
     "output_type": "display_data"
    }
   ],
   "source": [
    "head(prediction_NK,2)"
   ]
  },
  {
   "cell_type": "code",
   "execution_count": 170,
   "id": "7e38cf87-c85b-438d-b80d-3fb527505a9e",
   "metadata": {},
   "outputs": [],
   "source": [
    "### only samples with known outcome\n",
    "prediction_NK = prediction_NK[!is.na(prediction_NK$outcome),]"
   ]
  },
  {
   "cell_type": "code",
   "execution_count": 171,
   "id": "884331c8-a170-4790-8911-d9a9d3527546",
   "metadata": {},
   "outputs": [
    {
     "data": {
      "text/html": [
       "12"
      ],
      "text/latex": [
       "12"
      ],
      "text/markdown": [
       "12"
      ],
      "text/plain": [
       "[1] 12"
      ]
     },
     "metadata": {},
     "output_type": "display_data"
    }
   ],
   "source": [
    "nrow(prediction_NK)"
   ]
  },
  {
   "cell_type": "code",
   "execution_count": 172,
   "id": "f419f04c-d20b-4dc0-94c4-5292365fce05",
   "metadata": {},
   "outputs": [],
   "source": [
    "## Recode outcome variable to 0/1"
   ]
  },
  {
   "cell_type": "code",
   "execution_count": 173,
   "id": "8fb57111-22fa-4fdd-9ed3-29e80101dee1",
   "metadata": {},
   "outputs": [],
   "source": [
    "prediction_NK$y = 1\n",
    "prediction_NK$y[prediction_NK$outcome == 'Better'] = 0"
   ]
  },
  {
   "cell_type": "code",
   "execution_count": 174,
   "id": "a958423f-3cdc-477c-8874-97e5cb8014ed",
   "metadata": {},
   "outputs": [],
   "source": [
    "#Set name for the prediction"
   ]
  },
  {
   "cell_type": "code",
   "execution_count": 175,
   "id": "485fd78a-c3c6-4d1f-83f7-21b691283194",
   "metadata": {},
   "outputs": [],
   "source": [
    "prediction_NK$model = 'GLM Validation TP1 (G)'"
   ]
  },
  {
   "cell_type": "code",
   "execution_count": 176,
   "id": "399485e2-b404-49c5-ac15-e29d48aeb072",
   "metadata": {},
   "outputs": [],
   "source": [
    "train_predictions_NK$predicted_value = train_predictions_NK$s1\n",
    "train_predictions_NK$model = 'GLM Training TP1 (M)'"
   ]
  },
  {
   "cell_type": "code",
   "execution_count": 177,
   "id": "61c4a75b-1c6e-44aa-804c-65d040e30812",
   "metadata": {},
   "outputs": [
    {
     "data": {
      "text/html": [
       "<table class=\"dataframe\">\n",
       "<caption>A data.frame: 2 × 5</caption>\n",
       "<thead>\n",
       "\t<tr><th></th><th scope=col>X</th><th scope=col>y</th><th scope=col>s1</th><th scope=col>predicted_value</th><th scope=col>model</th></tr>\n",
       "\t<tr><th></th><th scope=col>&lt;int&gt;</th><th scope=col>&lt;int&gt;</th><th scope=col>&lt;dbl&gt;</th><th scope=col>&lt;dbl&gt;</th><th scope=col>&lt;chr&gt;</th></tr>\n",
       "</thead>\n",
       "<tbody>\n",
       "\t<tr><th scope=row>1</th><td>42</td><td>1</td><td>0.1309654</td><td>0.1309654</td><td>GLM Training TP1 (M)</td></tr>\n",
       "\t<tr><th scope=row>2</th><td>46</td><td>1</td><td>0.4522560</td><td>0.4522560</td><td>GLM Training TP1 (M)</td></tr>\n",
       "</tbody>\n",
       "</table>\n"
      ],
      "text/latex": [
       "A data.frame: 2 × 5\n",
       "\\begin{tabular}{r|lllll}\n",
       "  & X & y & s1 & predicted\\_value & model\\\\\n",
       "  & <int> & <int> & <dbl> & <dbl> & <chr>\\\\\n",
       "\\hline\n",
       "\t1 & 42 & 1 & 0.1309654 & 0.1309654 & GLM Training TP1 (M)\\\\\n",
       "\t2 & 46 & 1 & 0.4522560 & 0.4522560 & GLM Training TP1 (M)\\\\\n",
       "\\end{tabular}\n"
      ],
      "text/markdown": [
       "\n",
       "A data.frame: 2 × 5\n",
       "\n",
       "| <!--/--> | X &lt;int&gt; | y &lt;int&gt; | s1 &lt;dbl&gt; | predicted_value &lt;dbl&gt; | model &lt;chr&gt; |\n",
       "|---|---|---|---|---|---|\n",
       "| 1 | 42 | 1 | 0.1309654 | 0.1309654 | GLM Training TP1 (M) |\n",
       "| 2 | 46 | 1 | 0.4522560 | 0.4522560 | GLM Training TP1 (M) |\n",
       "\n"
      ],
      "text/plain": [
       "  X  y s1        predicted_value model               \n",
       "1 42 1 0.1309654 0.1309654       GLM Training TP1 (M)\n",
       "2 46 1 0.4522560 0.4522560       GLM Training TP1 (M)"
      ]
     },
     "metadata": {},
     "output_type": "display_data"
    }
   ],
   "source": [
    "head(train_predictions_NK,2)"
   ]
  },
  {
   "cell_type": "code",
   "execution_count": 178,
   "id": "ce0aeb63-935d-4d72-ac7b-d2b43edbf9a6",
   "metadata": {},
   "outputs": [],
   "source": [
    "## Combine training and test predictions"
   ]
  },
  {
   "cell_type": "code",
   "execution_count": 179,
   "id": "3be31bee-dffa-4da9-9eaf-7cda7fe2630a",
   "metadata": {},
   "outputs": [],
   "source": [
    "prediction_NK = rbind(prediction_NK[,c('y', 'predicted_value', 'model')], train_predictions_NK[,c('y','predicted_value', 'model')])"
   ]
  },
  {
   "cell_type": "code",
   "execution_count": 180,
   "id": "88421b16-dcf7-4c59-ab09-679ca4daf081",
   "metadata": {},
   "outputs": [],
   "source": [
    "## Plot the ROC curve "
   ]
  },
  {
   "cell_type": "code",
   "execution_count": 181,
   "id": "e8c260f2-b736-41d4-9b6d-2ca68c18c4d4",
   "metadata": {},
   "outputs": [],
   "source": [
    "# Figure Name\n",
    "figure_name = 'FIG10_GX3_ROC_GR_NK_GLM_TP1'"
   ]
  },
  {
   "cell_type": "code",
   "execution_count": 182,
   "id": "a42438ae-fa16-4485-aee5-1b058e8c2b24",
   "metadata": {},
   "outputs": [],
   "source": [
    "# Sizes of the plot\n",
    "width_par = 1.9\n",
    "height_par = 2"
   ]
  },
  {
   "cell_type": "code",
   "execution_count": 183,
   "id": "b0760fd2-a2ac-4213-b98c-7429cb767591",
   "metadata": {},
   "outputs": [],
   "source": [
    "xtitle = xlab( 'False Positive Fraction')\n",
    "ytitle  = ylab('Sensititity')"
   ]
  },
  {
   "cell_type": "code",
   "execution_count": 184,
   "id": "769519ee-6264-476d-b8bd-a3044f8cbc9d",
   "metadata": {},
   "outputs": [],
   "source": [
    "## Specify Plot\n",
    "rocplot = ggplot(prediction_NK, aes(m = predicted_value, d =y, color = model, linetype = model))+ geom_roc(n.cuts=0,labels=FALSE, size = 0.5)"
   ]
  },
  {
   "cell_type": "code",
   "execution_count": 185,
   "id": "d8bcadde-7ba2-415c-b52f-af8a19abda96",
   "metadata": {},
   "outputs": [
    {
     "name": "stderr",
     "output_type": "stream",
     "text": [
      "Warning message:\n",
      "“\u001b[1m\u001b[22mThe following aesthetics were dropped during statistical transformation: \u001b[32mm, d\u001b[39m\n",
      "\u001b[36mℹ\u001b[39m This can happen when ggplot fails to infer the correct grouping structure in\n",
      "  the data.\n",
      "\u001b[36mℹ\u001b[39m Did you forget to specify a `group` aesthetic or to convert a numerical\n",
      "  variable into a factor?”\n"
     ]
    },
    {
     "data": {
      "image/png": "[encoded data removed]",
      "text/plain": [
       "plot without title"
      ]
     },
     "metadata": {
      "image/png": {
       "height": 300,
       "width": 600
      }
     },
     "output_type": "display_data"
    }
   ],
   "source": [
    "## Configuration + Modification of plot\n",
    "roc_plot = rocplot + \n",
    "    plot_config + \n",
    "    xtitle + \n",
    "    ytitle + \n",
    "    ggtitle('ROC TP1 good vs. poor: NK features') +\n",
    "    geom_abline(slope = 1, intercept = 0) +     \n",
    "    scale_color_manual(values = c('GLM Validation TP1 (G)' = \"#924ED2\",\n",
    "                                  'GLM Training TP1 (M)' = \"#BC0B58\"\n",
    "                                 ))+\n",
    "   scale_linetype_manual(values = c('GLM Validation TP1 (G)' = \"solid\",\n",
    "                                     'GLM Training TP1 (M)' = \"solid\"\n",
    "                                 ))+\n",
    "    theme(legend.position = 'none')\n",
    "\n",
    "#legend_roc = get_legend(roc_plot)\n",
    "    \n",
    "options(repr.plot.width=10, repr.plot.height=5)\n",
    "roc_plot"
   ]
  },
  {
   "cell_type": "code",
   "execution_count": 186,
   "id": "75adffa1-d11c-4357-8443-e2ed9f8f109d",
   "metadata": {},
   "outputs": [
    {
     "name": "stderr",
     "output_type": "stream",
     "text": [
      "Warning message:\n",
      "“\u001b[1m\u001b[22mThe following aesthetics were dropped during statistical transformation: \u001b[32mm, d\u001b[39m\n",
      "\u001b[36mℹ\u001b[39m This can happen when ggplot fails to infer the correct grouping structure in\n",
      "  the data.\n",
      "\u001b[36mℹ\u001b[39m Did you forget to specify a `group` aesthetic or to convert a numerical\n",
      "  variable into a factor?”\n"
     ]
    },
    {
     "data": {
      "text/html": [
       "<strong>png:</strong> 2"
      ],
      "text/latex": [
       "\\textbf{png:} 2"
      ],
      "text/markdown": [
       "**png:** 2"
      ],
      "text/plain": [
       "png \n",
       "  2 "
      ]
     },
     "metadata": {},
     "output_type": "display_data"
    }
   ],
   "source": [
    "pdf(paste0('figures/Final_Figures/', figure_name, '.pdf'), width =width_par, height =height_par)\n",
    "print(roc_plot)\n",
    "dev.off()"
   ]
  },
  {
   "cell_type": "code",
   "execution_count": 187,
   "id": "a103cf37-d88f-4458-946d-59cdd1515f2c",
   "metadata": {},
   "outputs": [],
   "source": [
    "### Calculate the AUC values"
   ]
  },
  {
   "cell_type": "code",
   "execution_count": 188,
   "id": "b836f0b7-6917-47bb-b096-37603fb7358f",
   "metadata": {},
   "outputs": [],
   "source": [
    "auc_values = data.frame()"
   ]
  },
  {
   "cell_type": "code",
   "execution_count": 189,
   "id": "56192e6a-1cd1-4a71-abe3-cff0e075d128",
   "metadata": {},
   "outputs": [
    {
     "name": "stderr",
     "output_type": "stream",
     "text": [
      "Setting levels: control = 0, case = 1\n",
      "\n",
      "Setting direction: controls < cases\n",
      "\n",
      "Setting levels: control = 0, case = 1\n",
      "\n",
      "Setting direction: controls < cases\n",
      "\n"
     ]
    }
   ],
   "source": [
    "for(i in unique(prediction_NK$model)){\n",
    "    calc_auc = data.frame(model = i, \n",
    "                          auc = auc(prediction_NK$y[prediction_NK$model == i], prediction_NK$predicted_value[prediction_NK$model == i])\n",
    "                          )\n",
    "    auc_values = rbind(auc_values, calc_auc)\n",
    "    }"
   ]
  },
  {
   "cell_type": "code",
   "execution_count": 190,
   "id": "a7d157c9-33bd-41bd-80b5-fc023ab07010",
   "metadata": {},
   "outputs": [
    {
     "data": {
      "text/html": [
       "<table class=\"dataframe\">\n",
       "<caption>A data.frame: 2 × 2</caption>\n",
       "<thead>\n",
       "\t<tr><th scope=col>model</th><th scope=col>auc</th></tr>\n",
       "\t<tr><th scope=col>&lt;chr&gt;</th><th scope=col>&lt;auc&gt;</th></tr>\n",
       "</thead>\n",
       "<tbody>\n",
       "\t<tr><td>GLM Validation TP1 (G)</td><td>0.9142857</td></tr>\n",
       "\t<tr><td>GLM Training TP1 (M)  </td><td>0.7884615</td></tr>\n",
       "</tbody>\n",
       "</table>\n"
      ],
      "text/latex": [
       "A data.frame: 2 × 2\n",
       "\\begin{tabular}{ll}\n",
       " model & auc\\\\\n",
       " <chr> & <auc>\\\\\n",
       "\\hline\n",
       "\t GLM Validation TP1 (G) & 0.9142857\\\\\n",
       "\t GLM Training TP1 (M)   & 0.7884615\\\\\n",
       "\\end{tabular}\n"
      ],
      "text/markdown": [
       "\n",
       "A data.frame: 2 × 2\n",
       "\n",
       "| model &lt;chr&gt; | auc &lt;auc&gt; |\n",
       "|---|---|\n",
       "| GLM Validation TP1 (G) | 0.9142857 |\n",
       "| GLM Training TP1 (M)   | 0.7884615 |\n",
       "\n"
      ],
      "text/plain": [
       "  model                  auc      \n",
       "1 GLM Validation TP1 (G) 0.9142857\n",
       "2 GLM Training TP1 (M)   0.7884615"
      ]
     },
     "metadata": {},
     "output_type": "display_data"
    }
   ],
   "source": [
    "auc_values"
   ]
  },
  {
   "cell_type": "code",
   "execution_count": 191,
   "id": "998cf6de-a17d-4ec9-ac56-c0be9bd45f00",
   "metadata": {},
   "outputs": [],
   "source": [
    "color_data = data.frame(description = c('GLM Validation TP1 (G)', 'GLM Training TP1 (M)'),\n",
    "                        color = c( \"#924ED2\",\"#BC0B58\"))"
   ]
  },
  {
   "cell_type": "code",
   "execution_count": null,
   "id": "9c4fff65-76e0-4eac-b62e-f8630c9b1039",
   "metadata": {},
   "outputs": [],
   "source": []
  },
  {
   "cell_type": "code",
   "execution_count": 192,
   "id": "3f32b5e6-7116-40ce-b558-cc9f9704a6d6",
   "metadata": {},
   "outputs": [],
   "source": [
    "### Seperately define legend"
   ]
  },
  {
   "cell_type": "code",
   "execution_count": 193,
   "id": "7baf32a8-49e8-448a-83f8-a971ca75cf10",
   "metadata": {},
   "outputs": [],
   "source": [
    "legend_add  = Legend(labels = unique(color_data$description), labels_gp = gpar(fontsize = 8),legend_gp =list(col = unique(c(unique(color_data$color)))), \n",
    "    nrow = 2, type = 'lines') "
   ]
  },
  {
   "cell_type": "code",
   "execution_count": 194,
   "id": "13724366-f288-4f83-b2af-5f7c50bb7fcb",
   "metadata": {},
   "outputs": [],
   "source": [
    "legend_add_vertical = packLegend(legend_add, direction = \"horizontal\")"
   ]
  },
  {
   "cell_type": "code",
   "execution_count": 195,
   "id": "cc1a911f-9993-4102-b5bc-59af05ebc2c7",
   "metadata": {},
   "outputs": [
    {
     "data": {
      "text/html": [
       "<strong>png:</strong> 2"
      ],
      "text/latex": [
       "\\textbf{png:} 2"
      ],
      "text/markdown": [
       "**png:** 2"
      ],
      "text/plain": [
       "png \n",
       "  2 "
      ]
     },
     "metadata": {},
     "output_type": "display_data"
    }
   ],
   "source": [
    "pdf(paste0('figures/Final_Figures/ROC_NK_GLM_Legend_Text', '.pdf'), \n",
    "    width =1.9, \n",
    "    height = 0.3)\n",
    "draw(legend_add_vertical)\n",
    "dev.off()"
   ]
  },
  {
   "cell_type": "code",
   "execution_count": 196,
   "id": "b5fe2514-f571-47ad-830d-80c8b0975f3a",
   "metadata": {},
   "outputs": [
    {
     "data": {
      "image/png": "[encoded data removed]",
      "text/plain": [
       "plot without title"
      ]
     },
     "metadata": {
      "image/png": {
       "height": 120,
       "width": 1800
      }
     },
     "output_type": "display_data"
    }
   ],
   "source": [
    "options(repr.plot.width=30, repr.plot.height=2)\n",
    "draw(legend_add_vertical)"
   ]
  },
  {
   "cell_type": "markdown",
   "id": "6f809cd5-89bd-44b3-8dbf-98bf0e773473",
   "metadata": {
    "tags": []
   },
   "source": [
    "### Prediction metrics table"
   ]
  },
  {
   "cell_type": "code",
   "execution_count": 197,
   "id": "a23c73c1-d96e-4072-9d0b-0d036f7380c7",
   "metadata": {},
   "outputs": [],
   "source": [
    "## Generate additional prediction metrics for supplementary"
   ]
  },
  {
   "cell_type": "code",
   "execution_count": 198,
   "id": "937d9941-6659-4bbc-82cb-a5eaf3c0a6c4",
   "metadata": {},
   "outputs": [
    {
     "data": {
      "text/html": [
       "<table class=\"dataframe\">\n",
       "<caption>A data.frame: 2 × 3</caption>\n",
       "<thead>\n",
       "\t<tr><th></th><th scope=col>y</th><th scope=col>predicted_value</th><th scope=col>model</th></tr>\n",
       "\t<tr><th></th><th scope=col>&lt;dbl&gt;</th><th scope=col>&lt;dbl&gt;</th><th scope=col>&lt;chr&gt;</th></tr>\n",
       "</thead>\n",
       "<tbody>\n",
       "\t<tr><th scope=row>8</th><td>0</td><td>0.04314546</td><td>GLM Validation TP1 (G)</td></tr>\n",
       "\t<tr><th scope=row>11</th><td>0</td><td>0.03255807</td><td>GLM Validation TP1 (G)</td></tr>\n",
       "</tbody>\n",
       "</table>\n"
      ],
      "text/latex": [
       "A data.frame: 2 × 3\n",
       "\\begin{tabular}{r|lll}\n",
       "  & y & predicted\\_value & model\\\\\n",
       "  & <dbl> & <dbl> & <chr>\\\\\n",
       "\\hline\n",
       "\t8 & 0 & 0.04314546 & GLM Validation TP1 (G)\\\\\n",
       "\t11 & 0 & 0.03255807 & GLM Validation TP1 (G)\\\\\n",
       "\\end{tabular}\n"
      ],
      "text/markdown": [
       "\n",
       "A data.frame: 2 × 3\n",
       "\n",
       "| <!--/--> | y &lt;dbl&gt; | predicted_value &lt;dbl&gt; | model &lt;chr&gt; |\n",
       "|---|---|---|---|\n",
       "| 8 | 0 | 0.04314546 | GLM Validation TP1 (G) |\n",
       "| 11 | 0 | 0.03255807 | GLM Validation TP1 (G) |\n",
       "\n"
      ],
      "text/plain": [
       "   y predicted_value model                 \n",
       "8  0 0.04314546      GLM Validation TP1 (G)\n",
       "11 0 0.03255807      GLM Validation TP1 (G)"
      ]
     },
     "metadata": {},
     "output_type": "display_data"
    }
   ],
   "source": [
    "head(prediction_NK,2)"
   ]
  },
  {
   "cell_type": "code",
   "execution_count": 199,
   "id": "956fbd72-9c07-454c-a358-08c0936bffc2",
   "metadata": {},
   "outputs": [],
   "source": [
    "## Convert outcome to factor variable"
   ]
  },
  {
   "cell_type": "code",
   "execution_count": 200,
   "id": "dc0d40a3-5d3d-4646-a1a6-6f61ae6f6c8d",
   "metadata": {},
   "outputs": [],
   "source": [
    "prediction_NK$y = as.factor(prediction_NK$y)"
   ]
  },
  {
   "cell_type": "code",
   "execution_count": 201,
   "id": "9f57c21f-1a9a-45b3-a0c1-0428db5c4ad4",
   "metadata": {},
   "outputs": [
    {
     "data": {
      "text/html": [
       "<style>\n",
       ".list-inline {list-style: none; margin:0; padding: 0}\n",
       ".list-inline>li {display: inline-block}\n",
       ".list-inline>li:not(:last-child)::after {content: \"\\00b7\"; padding: 0 .5ex}\n",
       "</style>\n",
       "<ol class=list-inline><li>'0'</li><li>'1'</li></ol>\n"
      ],
      "text/latex": [
       "\\begin{enumerate*}\n",
       "\\item '0'\n",
       "\\item '1'\n",
       "\\end{enumerate*}\n"
      ],
      "text/markdown": [
       "1. '0'\n",
       "2. '1'\n",
       "\n",
       "\n"
      ],
      "text/plain": [
       "[1] \"0\" \"1\""
      ]
     },
     "metadata": {},
     "output_type": "display_data"
    }
   ],
   "source": [
    "levels(prediction_NK$y)"
   ]
  },
  {
   "cell_type": "code",
   "execution_count": 202,
   "id": "66f51a9f-0b0a-46e5-984e-a64221d21923",
   "metadata": {},
   "outputs": [],
   "source": [
    "prediction_NK$y = relevel(prediction_NK$y, '0')"
   ]
  },
  {
   "cell_type": "code",
   "execution_count": 203,
   "id": "32bbc5f1-9be9-4908-b32b-77d391c008ea",
   "metadata": {},
   "outputs": [],
   "source": [
    "## Generate prediction metrics for different models"
   ]
  },
  {
   "cell_type": "code",
   "execution_count": 204,
   "id": "9f4f96a8-716b-481a-8e7e-43ea0e1e5c3d",
   "metadata": {},
   "outputs": [],
   "source": [
    "nk_cell_prediction_metrics = data.frame()"
   ]
  },
  {
   "cell_type": "code",
   "execution_count": 205,
   "id": "02803d35-083b-4d75-bf6c-ed61d861fe5a",
   "metadata": {},
   "outputs": [],
   "source": [
    "for(i in unique(prediction_NK$model)){\n",
    "    data = prediction_NK[prediction_NK$model == i,]\n",
    "    metrics = measureit(score = data$predicted_value, class = data$y, measure = c( 'PREC', 'REC', 'SPEC', 'FPR'))\n",
    "    metrics = data.frame(do.call(cbind, metrics))\n",
    "    metrics$model = i\n",
    "    \n",
    "    nk_cell_prediction_metrics = rbind( metrics, nk_cell_prediction_metrics)\n",
    "    }"
   ]
  },
  {
   "cell_type": "code",
   "execution_count": 206,
   "id": "a7a3839f-a674-4cc9-a9a8-05ba038b9e15",
   "metadata": {},
   "outputs": [
    {
     "data": {
      "text/html": [
       "<table class=\"dataframe\">\n",
       "<caption>A data.frame: 2 × 11</caption>\n",
       "<thead>\n",
       "\t<tr><th></th><th scope=col>Cutoff</th><th scope=col>Depth</th><th scope=col>TP</th><th scope=col>FP</th><th scope=col>TN</th><th scope=col>FN</th><th scope=col>SPEC</th><th scope=col>PREC</th><th scope=col>REC</th><th scope=col>FPR</th><th scope=col>model</th></tr>\n",
       "\t<tr><th></th><th scope=col>&lt;dbl&gt;</th><th scope=col>&lt;dbl&gt;</th><th scope=col>&lt;dbl&gt;</th><th scope=col>&lt;dbl&gt;</th><th scope=col>&lt;dbl&gt;</th><th scope=col>&lt;dbl&gt;</th><th scope=col>&lt;dbl&gt;</th><th scope=col>&lt;dbl&gt;</th><th scope=col>&lt;dbl&gt;</th><th scope=col>&lt;dbl&gt;</th><th scope=col>&lt;chr&gt;</th></tr>\n",
       "</thead>\n",
       "<tbody>\n",
       "\t<tr><th scope=row>1</th><td>      Inf</td><td>0.00000000</td><td>0</td><td>0</td><td>13</td><td>4</td><td>1.0000000</td><td>NaN</td><td>0</td><td>0.00000000</td><td>GLM Training TP1 (M)</td></tr>\n",
       "\t<tr><th scope=row>2</th><td>0.5577295</td><td>0.05882353</td><td>0</td><td>1</td><td>12</td><td>4</td><td>0.9230769</td><td>  0</td><td>0</td><td>0.07692308</td><td>GLM Training TP1 (M)</td></tr>\n",
       "</tbody>\n",
       "</table>\n"
      ],
      "text/latex": [
       "A data.frame: 2 × 11\n",
       "\\begin{tabular}{r|lllllllllll}\n",
       "  & Cutoff & Depth & TP & FP & TN & FN & SPEC & PREC & REC & FPR & model\\\\\n",
       "  & <dbl> & <dbl> & <dbl> & <dbl> & <dbl> & <dbl> & <dbl> & <dbl> & <dbl> & <dbl> & <chr>\\\\\n",
       "\\hline\n",
       "\t1 &       Inf & 0.00000000 & 0 & 0 & 13 & 4 & 1.0000000 & NaN & 0 & 0.00000000 & GLM Training TP1 (M)\\\\\n",
       "\t2 & 0.5577295 & 0.05882353 & 0 & 1 & 12 & 4 & 0.9230769 &   0 & 0 & 0.07692308 & GLM Training TP1 (M)\\\\\n",
       "\\end{tabular}\n"
      ],
      "text/markdown": [
       "\n",
       "A data.frame: 2 × 11\n",
       "\n",
       "| <!--/--> | Cutoff &lt;dbl&gt; | Depth &lt;dbl&gt; | TP &lt;dbl&gt; | FP &lt;dbl&gt; | TN &lt;dbl&gt; | FN &lt;dbl&gt; | SPEC &lt;dbl&gt; | PREC &lt;dbl&gt; | REC &lt;dbl&gt; | FPR &lt;dbl&gt; | model &lt;chr&gt; |\n",
       "|---|---|---|---|---|---|---|---|---|---|---|---|\n",
       "| 1 |       Inf | 0.00000000 | 0 | 0 | 13 | 4 | 1.0000000 | NaN | 0 | 0.00000000 | GLM Training TP1 (M) |\n",
       "| 2 | 0.5577295 | 0.05882353 | 0 | 1 | 12 | 4 | 0.9230769 |   0 | 0 | 0.07692308 | GLM Training TP1 (M) |\n",
       "\n"
      ],
      "text/plain": [
       "  Cutoff    Depth      TP FP TN FN SPEC      PREC REC FPR       \n",
       "1       Inf 0.00000000 0  0  13 4  1.0000000 NaN  0   0.00000000\n",
       "2 0.5577295 0.05882353 0  1  12 4  0.9230769   0  0   0.07692308\n",
       "  model               \n",
       "1 GLM Training TP1 (M)\n",
       "2 GLM Training TP1 (M)"
      ]
     },
     "metadata": {},
     "output_type": "display_data"
    }
   ],
   "source": [
    "head(nk_cell_prediction_metrics,2)"
   ]
  },
  {
   "cell_type": "code",
   "execution_count": 207,
   "id": "86501c06-64dd-4488-8437-dd3a88a2044f",
   "metadata": {},
   "outputs": [],
   "source": [
    "# Save the data"
   ]
  },
  {
   "cell_type": "code",
   "execution_count": 208,
   "id": "cec575e2-f92d-40f4-9268-c7e28e956215",
   "metadata": {},
   "outputs": [],
   "source": [
    "write.csv(nk_cell_prediction_metrics, paste0(result_path_model,'/Supplementary/SUPP_GX3_2_NK_GLM_prediction_metrics.csv'), row.names = FALSE)"
   ]
  },
  {
   "cell_type": "code",
   "execution_count": null,
   "id": "599321bd-9b40-4a22-b768-9247884afb53",
   "metadata": {},
   "outputs": [],
   "source": []
  },
  {
   "cell_type": "code",
   "execution_count": null,
   "id": "84b5e6d4-d270-4936-975b-081cd84a70d7",
   "metadata": {},
   "outputs": [],
   "source": []
  }
 ],
 "metadata": {
  "kernelspec": {
   "display_name": "R",
   "language": "R",
   "name": "ir"
  },
  "language_info": {
   "codemirror_mode": "r",
   "file_extension": ".r",
   "mimetype": "text/x-r-source",
   "name": "R",
   "pygments_lexer": "r",
   "version": "4.1.1"
  },
  "toc-autonumbering": true
 },
 "nbformat": 4,
 "nbformat_minor": 5
}

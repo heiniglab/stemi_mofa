{
 "cells": [
  {
   "cell_type": "code",
   "execution_count": 1,
   "id": "067b3e3f-7134-46de-9b84-ce1ecc2ed0bc",
   "metadata": {},
   "outputs": [],
   "source": [
    "### Compare different MOFA versions: Azimuth annotations vs. Cluster annotations"
   ]
  },
  {
   "cell_type": "markdown",
   "id": "0c262650-dfb0-4ed7-a33c-451ff80ac74a",
   "metadata": {
    "jp-MarkdownHeadingCollapsed": true,
    "tags": []
   },
   "source": [
    "#############################################\n",
    "# Prerequisites - Load Libraries"
   ]
  },
  {
   "cell_type": "code",
   "execution_count": 2,
   "id": "effc5a8f-6c9a-47ec-a721-5fa5000e7922",
   "metadata": {
    "tags": []
   },
   "outputs": [],
   "source": [
    "source('MS0_Libraries.r')"
   ]
  },
  {
   "cell_type": "code",
   "execution_count": 9,
   "id": "617a9be0-c057-40c6-8e1e-ad761f580f44",
   "metadata": {
    "tags": []
   },
   "outputs": [
    {
     "name": "stderr",
     "output_type": "stream",
     "text": [
      "Warning message:\n",
      "“\u001b[1m\u001b[22mThe `size` argument of `element_line()` is deprecated as of ggplot2 3.4.0.\n",
      "\u001b[36mℹ\u001b[39m Please use the `linewidth` argument instead.”\n"
     ]
    }
   ],
   "source": [
    "source('MS4_Plot_Config.r')"
   ]
  },
  {
   "cell_type": "markdown",
   "id": "297fc701-c77b-4e51-9f7b-ca74bdf9e6c0",
   "metadata": {
    "tags": []
   },
   "source": [
    "###############################################\n",
    "# Preqrequisites Configurations & Parameters"
   ]
  },
  {
   "cell_type": "code",
   "execution_count": 10,
   "id": "4dd112e5-8462-405b-97a8-91c7c5342c57",
   "metadata": {},
   "outputs": [],
   "source": [
    "data_path = '../data/current'"
   ]
  },
  {
   "cell_type": "code",
   "execution_count": 11,
   "id": "780d295e-7d1d-4ef9-94f4-99ba7d68dd29",
   "metadata": {},
   "outputs": [],
   "source": [
    "result_path = '../results/current'"
   ]
  },
  {
   "cell_type": "code",
   "execution_count": 12,
   "id": "3fddcadb-c37b-4a6b-874c-2d52800bcd01",
   "metadata": {},
   "outputs": [],
   "source": [
    "name1 = 'V_FINAL_INTEGRATED'  # name of dataset to load"
   ]
  },
  {
   "cell_type": "code",
   "execution_count": 13,
   "id": "301ad1a4-dcf6-4158-9059-4e84bc9591a0",
   "metadata": {},
   "outputs": [],
   "source": [
    "name2 = 'V_AZIMUTH_INTEGRATED'  # name of dataset to load"
   ]
  },
  {
   "cell_type": "markdown",
   "id": "27bcb5a9-45ae-4347-9bb4-1d76e4a7a931",
   "metadata": {
    "tags": []
   },
   "source": [
    "# Load Data "
   ]
  },
  {
   "cell_type": "code",
   "execution_count": 14,
   "id": "87b125e9-f630-4b3a-af9c-4759a40a6e01",
   "metadata": {},
   "outputs": [],
   "source": [
    "### Factor and Weight Data from final version model"
   ]
  },
  {
   "cell_type": "code",
   "execution_count": 15,
   "id": "ecf19e49-4929-4345-8a68-a0db83e59b3b",
   "metadata": {},
   "outputs": [
    {
     "name": "stdout",
     "output_type": "stream",
     "text": [
      "[1] \"2023-10-07 10:13:07 UTC\"\n"
     ]
    }
   ],
   "source": [
    "path =  paste0(result_path, '/E-Analysis/Factor_Data_' , name1,'_', FALSE,  '.csv')\n",
    "factor_data = read.csv(path)\n",
    "print(file.info(path)$mtime)"
   ]
  },
  {
   "cell_type": "code",
   "execution_count": 16,
   "id": "87028d0f-d229-4f07-b003-6be2901ab5a0",
   "metadata": {},
   "outputs": [
    {
     "name": "stdout",
     "output_type": "stream",
     "text": [
      "[1] \"2023-10-07 10:13:07 UTC\"\n"
     ]
    }
   ],
   "source": [
    "path = paste0(result_path, '/E-Analysis/Weight_Data_' , name1, '_', FALSE, '.csv')\n",
    "weight_data = read.csv(path)\n",
    "print(file.info(path)$mtime)"
   ]
  },
  {
   "cell_type": "code",
   "execution_count": null,
   "id": "38e4c140-326b-431e-9fa5-3aec433f95d9",
   "metadata": {},
   "outputs": [],
   "source": []
  },
  {
   "cell_type": "code",
   "execution_count": 18,
   "id": "aa43f28e-da2b-4d06-8c7d-1b0b1775f3fc",
   "metadata": {},
   "outputs": [],
   "source": [
    "### Factor and Weight Data from azimuth version model"
   ]
  },
  {
   "cell_type": "code",
   "execution_count": 19,
   "id": "30280d7e-25a0-4c65-aebe-d8c427d92f25",
   "metadata": {},
   "outputs": [
    {
     "name": "stdout",
     "output_type": "stream",
     "text": [
      "[1] \"2023-10-03 09:33:13 UTC\"\n"
     ]
    }
   ],
   "source": [
    "path = paste0(result_path, '/G-Analysis/Factor_Data_' , name2,'_', FALSE,  '.csv')\n",
    "factor_data_azimuth = read.csv(path)\n",
    "print(file.info(path)$mtime)"
   ]
  },
  {
   "cell_type": "code",
   "execution_count": 20,
   "id": "dda5296a-2513-437c-9a5c-c0f5fabe8f1e",
   "metadata": {},
   "outputs": [
    {
     "name": "stdout",
     "output_type": "stream",
     "text": [
      "[1] \"2023-10-03 09:33:53 UTC\"\n"
     ]
    }
   ],
   "source": [
    "path = paste0(result_path, '/G-Analysis/Weight_Data_' , name2, '_', FALSE, '.csv')\n",
    "weight_data_azimuth = read.csv(path)\n",
    "print(file.info(path)$mtime)"
   ]
  },
  {
   "cell_type": "code",
   "execution_count": null,
   "id": "cafa8610-f335-4551-8d57-a966ef44bbad",
   "metadata": {},
   "outputs": [],
   "source": []
  },
  {
   "cell_type": "code",
   "execution_count": 22,
   "id": "c3cd5235-9ffa-4607-a58c-f127f132ce30",
   "metadata": {},
   "outputs": [
    {
     "data": {
      "text/html": [
       "<style>\n",
       ".list-inline {list-style: none; margin:0; padding: 0}\n",
       ".list-inline>li {display: inline-block}\n",
       ".list-inline>li:not(:last-child)::after {content: \"\\00b7\"; padding: 0 .5ex}\n",
       "</style>\n",
       "<ol class=list-inline><li>'clinical_data'</li><li>'cytokine'</li><li>'neutrophil'</li><li>'proteomics'</li><li>'Bcell'</li><li>'CD14Mono'</li><li>'CD16Mono'</li><li>'CD4CTL'</li><li>'CD4Naive'</li><li>'CD4TCM'</li><li>'CD4TEM'</li><li>'CD8Naive'</li><li>'CD8TEM'</li><li>'cDC2'</li><li>'gdT'</li><li>'NK'</li><li>'Treg'</li></ol>\n"
      ],
      "text/latex": [
       "\\begin{enumerate*}\n",
       "\\item 'clinical\\_data'\n",
       "\\item 'cytokine'\n",
       "\\item 'neutrophil'\n",
       "\\item 'proteomics'\n",
       "\\item 'Bcell'\n",
       "\\item 'CD14Mono'\n",
       "\\item 'CD16Mono'\n",
       "\\item 'CD4CTL'\n",
       "\\item 'CD4Naive'\n",
       "\\item 'CD4TCM'\n",
       "\\item 'CD4TEM'\n",
       "\\item 'CD8Naive'\n",
       "\\item 'CD8TEM'\n",
       "\\item 'cDC2'\n",
       "\\item 'gdT'\n",
       "\\item 'NK'\n",
       "\\item 'Treg'\n",
       "\\end{enumerate*}\n"
      ],
      "text/markdown": [
       "1. 'clinical_data'\n",
       "2. 'cytokine'\n",
       "3. 'neutrophil'\n",
       "4. 'proteomics'\n",
       "5. 'Bcell'\n",
       "6. 'CD14Mono'\n",
       "7. 'CD16Mono'\n",
       "8. 'CD4CTL'\n",
       "9. 'CD4Naive'\n",
       "10. 'CD4TCM'\n",
       "11. 'CD4TEM'\n",
       "12. 'CD8Naive'\n",
       "13. 'CD8TEM'\n",
       "14. 'cDC2'\n",
       "15. 'gdT'\n",
       "16. 'NK'\n",
       "17. 'Treg'\n",
       "\n",
       "\n"
      ],
      "text/plain": [
       " [1] \"clinical_data\" \"cytokine\"      \"neutrophil\"    \"proteomics\"   \n",
       " [5] \"Bcell\"         \"CD14Mono\"      \"CD16Mono\"      \"CD4CTL\"       \n",
       " [9] \"CD4Naive\"      \"CD4TCM\"        \"CD4TEM\"        \"CD8Naive\"     \n",
       "[13] \"CD8TEM\"        \"cDC2\"          \"gdT\"           \"NK\"           \n",
       "[17] \"Treg\"         "
      ]
     },
     "metadata": {},
     "output_type": "display_data"
    }
   ],
   "source": [
    "unique(weight_data_azimuth$type)"
   ]
  },
  {
   "cell_type": "markdown",
   "id": "d73ab019-6850-43fd-af87-98f7bb5904fb",
   "metadata": {},
   "source": [
    "# Comparisons"
   ]
  },
  {
   "cell_type": "markdown",
   "id": "e1f823ee-47af-4beb-b102-f857a01b9052",
   "metadata": {},
   "source": [
    "## Correlation of factors"
   ]
  },
  {
   "cell_type": "code",
   "execution_count": 23,
   "id": "a58cccfc-2a86-4b80-973f-c028e0faa1a4",
   "metadata": {},
   "outputs": [
    {
     "data": {
      "text/html": [
       "<table class=\"dataframe\">\n",
       "<caption>A data.frame: 2 × 21</caption>\n",
       "<thead>\n",
       "\t<tr><th></th><th scope=col>Factor1</th><th scope=col>Factor2</th><th scope=col>Factor3</th><th scope=col>Factor4</th><th scope=col>Factor5</th><th scope=col>Factor6</th><th scope=col>Factor7</th><th scope=col>Factor8</th><th scope=col>Factor9</th><th scope=col>Factor10</th><th scope=col>⋯</th><th scope=col>Factor12</th><th scope=col>Factor13</th><th scope=col>Factor14</th><th scope=col>Factor15</th><th scope=col>Factor16</th><th scope=col>Factor17</th><th scope=col>Factor18</th><th scope=col>Factor19</th><th scope=col>Factor20</th><th scope=col>sample_id</th></tr>\n",
       "\t<tr><th></th><th scope=col>&lt;dbl&gt;</th><th scope=col>&lt;dbl&gt;</th><th scope=col>&lt;dbl&gt;</th><th scope=col>&lt;dbl&gt;</th><th scope=col>&lt;dbl&gt;</th><th scope=col>&lt;dbl&gt;</th><th scope=col>&lt;dbl&gt;</th><th scope=col>&lt;dbl&gt;</th><th scope=col>&lt;dbl&gt;</th><th scope=col>&lt;dbl&gt;</th><th scope=col>⋯</th><th scope=col>&lt;dbl&gt;</th><th scope=col>&lt;dbl&gt;</th><th scope=col>&lt;dbl&gt;</th><th scope=col>&lt;dbl&gt;</th><th scope=col>&lt;dbl&gt;</th><th scope=col>&lt;dbl&gt;</th><th scope=col>&lt;dbl&gt;</th><th scope=col>&lt;dbl&gt;</th><th scope=col>&lt;dbl&gt;</th><th scope=col>&lt;chr&gt;</th></tr>\n",
       "</thead>\n",
       "<tbody>\n",
       "\t<tr><th scope=row>1</th><td>0.4811325</td><td>-0.2731317</td><td>1.4988169</td><td>-0.4135678</td><td>1.5052706</td><td>-0.92308998</td><td>-0.3904185</td><td>-0.1944797</td><td> 0.16486799</td><td>-0.5581300</td><td>⋯</td><td> 1.3718758</td><td>0.1882956</td><td>-0.3082163</td><td>-0.47997108</td><td>0.3468897</td><td> 0.5692611</td><td> 0.416665730</td><td>-0.60204874</td><td>-0.03085489</td><td>k1 </td></tr>\n",
       "\t<tr><th scope=row>2</th><td>0.8920603</td><td>-0.7547770</td><td>0.3501023</td><td>-0.1524478</td><td>0.4074517</td><td>-0.04596939</td><td> 0.6276925</td><td>-1.1656937</td><td>-0.05003504</td><td>-0.3380343</td><td>⋯</td><td>-0.1020285</td><td>0.1199118</td><td> 0.2096718</td><td> 0.09246619</td><td>0.1335110</td><td>-0.0490552</td><td>-0.001722867</td><td> 0.07838055</td><td>-0.03818913</td><td>k10</td></tr>\n",
       "</tbody>\n",
       "</table>\n"
      ],
      "text/latex": [
       "A data.frame: 2 × 21\n",
       "\\begin{tabular}{r|lllllllllllllllllllll}\n",
       "  & Factor1 & Factor2 & Factor3 & Factor4 & Factor5 & Factor6 & Factor7 & Factor8 & Factor9 & Factor10 & ⋯ & Factor12 & Factor13 & Factor14 & Factor15 & Factor16 & Factor17 & Factor18 & Factor19 & Factor20 & sample\\_id\\\\\n",
       "  & <dbl> & <dbl> & <dbl> & <dbl> & <dbl> & <dbl> & <dbl> & <dbl> & <dbl> & <dbl> & ⋯ & <dbl> & <dbl> & <dbl> & <dbl> & <dbl> & <dbl> & <dbl> & <dbl> & <dbl> & <chr>\\\\\n",
       "\\hline\n",
       "\t1 & 0.4811325 & -0.2731317 & 1.4988169 & -0.4135678 & 1.5052706 & -0.92308998 & -0.3904185 & -0.1944797 &  0.16486799 & -0.5581300 & ⋯ &  1.3718758 & 0.1882956 & -0.3082163 & -0.47997108 & 0.3468897 &  0.5692611 &  0.416665730 & -0.60204874 & -0.03085489 & k1 \\\\\n",
       "\t2 & 0.8920603 & -0.7547770 & 0.3501023 & -0.1524478 & 0.4074517 & -0.04596939 &  0.6276925 & -1.1656937 & -0.05003504 & -0.3380343 & ⋯ & -0.1020285 & 0.1199118 &  0.2096718 &  0.09246619 & 0.1335110 & -0.0490552 & -0.001722867 &  0.07838055 & -0.03818913 & k10\\\\\n",
       "\\end{tabular}\n"
      ],
      "text/markdown": [
       "\n",
       "A data.frame: 2 × 21\n",
       "\n",
       "| <!--/--> | Factor1 &lt;dbl&gt; | Factor2 &lt;dbl&gt; | Factor3 &lt;dbl&gt; | Factor4 &lt;dbl&gt; | Factor5 &lt;dbl&gt; | Factor6 &lt;dbl&gt; | Factor7 &lt;dbl&gt; | Factor8 &lt;dbl&gt; | Factor9 &lt;dbl&gt; | Factor10 &lt;dbl&gt; | ⋯ ⋯ | Factor12 &lt;dbl&gt; | Factor13 &lt;dbl&gt; | Factor14 &lt;dbl&gt; | Factor15 &lt;dbl&gt; | Factor16 &lt;dbl&gt; | Factor17 &lt;dbl&gt; | Factor18 &lt;dbl&gt; | Factor19 &lt;dbl&gt; | Factor20 &lt;dbl&gt; | sample_id &lt;chr&gt; |\n",
       "|---|---|---|---|---|---|---|---|---|---|---|---|---|---|---|---|---|---|---|---|---|---|\n",
       "| 1 | 0.4811325 | -0.2731317 | 1.4988169 | -0.4135678 | 1.5052706 | -0.92308998 | -0.3904185 | -0.1944797 |  0.16486799 | -0.5581300 | ⋯ |  1.3718758 | 0.1882956 | -0.3082163 | -0.47997108 | 0.3468897 |  0.5692611 |  0.416665730 | -0.60204874 | -0.03085489 | k1  |\n",
       "| 2 | 0.8920603 | -0.7547770 | 0.3501023 | -0.1524478 | 0.4074517 | -0.04596939 |  0.6276925 | -1.1656937 | -0.05003504 | -0.3380343 | ⋯ | -0.1020285 | 0.1199118 |  0.2096718 |  0.09246619 | 0.1335110 | -0.0490552 | -0.001722867 |  0.07838055 | -0.03818913 | k10 |\n",
       "\n"
      ],
      "text/plain": [
       "  Factor1   Factor2    Factor3   Factor4    Factor5   Factor6     Factor7   \n",
       "1 0.4811325 -0.2731317 1.4988169 -0.4135678 1.5052706 -0.92308998 -0.3904185\n",
       "2 0.8920603 -0.7547770 0.3501023 -0.1524478 0.4074517 -0.04596939  0.6276925\n",
       "  Factor8    Factor9     Factor10   ⋯ Factor12   Factor13  Factor14  \n",
       "1 -0.1944797  0.16486799 -0.5581300 ⋯  1.3718758 0.1882956 -0.3082163\n",
       "2 -1.1656937 -0.05003504 -0.3380343 ⋯ -0.1020285 0.1199118  0.2096718\n",
       "  Factor15    Factor16  Factor17   Factor18     Factor19    Factor20   \n",
       "1 -0.47997108 0.3468897  0.5692611  0.416665730 -0.60204874 -0.03085489\n",
       "2  0.09246619 0.1335110 -0.0490552 -0.001722867  0.07838055 -0.03818913\n",
       "  sample_id\n",
       "1 k1       \n",
       "2 k10      "
      ]
     },
     "metadata": {},
     "output_type": "display_data"
    }
   ],
   "source": [
    "head(factor_data,2)"
   ]
  },
  {
   "cell_type": "code",
   "execution_count": 24,
   "id": "c9819319-ebc2-4dcd-9d15-4d3cb27d4569",
   "metadata": {},
   "outputs": [
    {
     "data": {
      "text/html": [
       "<table class=\"dataframe\">\n",
       "<caption>A data.frame: 2 × 21</caption>\n",
       "<thead>\n",
       "\t<tr><th></th><th scope=col>Factor1</th><th scope=col>Factor2</th><th scope=col>Factor3</th><th scope=col>Factor4</th><th scope=col>Factor5</th><th scope=col>Factor6</th><th scope=col>Factor7</th><th scope=col>Factor8</th><th scope=col>Factor9</th><th scope=col>Factor10</th><th scope=col>⋯</th><th scope=col>Factor12</th><th scope=col>Factor13</th><th scope=col>Factor14</th><th scope=col>Factor15</th><th scope=col>Factor16</th><th scope=col>Factor17</th><th scope=col>Factor18</th><th scope=col>Factor19</th><th scope=col>Factor20</th><th scope=col>sample_id</th></tr>\n",
       "\t<tr><th></th><th scope=col>&lt;dbl&gt;</th><th scope=col>&lt;dbl&gt;</th><th scope=col>&lt;dbl&gt;</th><th scope=col>&lt;dbl&gt;</th><th scope=col>&lt;dbl&gt;</th><th scope=col>&lt;dbl&gt;</th><th scope=col>&lt;dbl&gt;</th><th scope=col>&lt;dbl&gt;</th><th scope=col>&lt;dbl&gt;</th><th scope=col>&lt;dbl&gt;</th><th scope=col>⋯</th><th scope=col>&lt;dbl&gt;</th><th scope=col>&lt;dbl&gt;</th><th scope=col>&lt;dbl&gt;</th><th scope=col>&lt;dbl&gt;</th><th scope=col>&lt;dbl&gt;</th><th scope=col>&lt;dbl&gt;</th><th scope=col>&lt;dbl&gt;</th><th scope=col>&lt;dbl&gt;</th><th scope=col>&lt;dbl&gt;</th><th scope=col>&lt;chr&gt;</th></tr>\n",
       "</thead>\n",
       "<tbody>\n",
       "\t<tr><th scope=row>1</th><td>0.2822028</td><td>-1.255954</td><td>-0.5339003</td><td>1.1204467</td><td>-0.4666922</td><td>1.248439</td><td>0.2075903</td><td>-0.3646179</td><td>-0.4024226</td><td>0.78832135</td><td>⋯</td><td>0.05325919</td><td>0.2773824</td><td>0.1330336</td><td>-0.7632523</td><td>-0.04660508</td><td> 0.95971046</td><td> 0.4317791</td><td>-0.4674157</td><td>-0.45888943</td><td>k1 </td></tr>\n",
       "\t<tr><th scope=row>2</th><td>0.6928825</td><td>-1.038056</td><td> 0.3393354</td><td>0.2294335</td><td> 0.1052094</td><td>0.801152</td><td>0.3677501</td><td> 1.4177218</td><td>-0.5804093</td><td>0.04100113</td><td>⋯</td><td>0.22233569</td><td>0.3112234</td><td>0.0422479</td><td> 0.1419886</td><td>-0.04503017</td><td>-0.04460783</td><td>-0.1863946</td><td>-0.2670198</td><td>-0.03163122</td><td>k10</td></tr>\n",
       "</tbody>\n",
       "</table>\n"
      ],
      "text/latex": [
       "A data.frame: 2 × 21\n",
       "\\begin{tabular}{r|lllllllllllllllllllll}\n",
       "  & Factor1 & Factor2 & Factor3 & Factor4 & Factor5 & Factor6 & Factor7 & Factor8 & Factor9 & Factor10 & ⋯ & Factor12 & Factor13 & Factor14 & Factor15 & Factor16 & Factor17 & Factor18 & Factor19 & Factor20 & sample\\_id\\\\\n",
       "  & <dbl> & <dbl> & <dbl> & <dbl> & <dbl> & <dbl> & <dbl> & <dbl> & <dbl> & <dbl> & ⋯ & <dbl> & <dbl> & <dbl> & <dbl> & <dbl> & <dbl> & <dbl> & <dbl> & <dbl> & <chr>\\\\\n",
       "\\hline\n",
       "\t1 & 0.2822028 & -1.255954 & -0.5339003 & 1.1204467 & -0.4666922 & 1.248439 & 0.2075903 & -0.3646179 & -0.4024226 & 0.78832135 & ⋯ & 0.05325919 & 0.2773824 & 0.1330336 & -0.7632523 & -0.04660508 &  0.95971046 &  0.4317791 & -0.4674157 & -0.45888943 & k1 \\\\\n",
       "\t2 & 0.6928825 & -1.038056 &  0.3393354 & 0.2294335 &  0.1052094 & 0.801152 & 0.3677501 &  1.4177218 & -0.5804093 & 0.04100113 & ⋯ & 0.22233569 & 0.3112234 & 0.0422479 &  0.1419886 & -0.04503017 & -0.04460783 & -0.1863946 & -0.2670198 & -0.03163122 & k10\\\\\n",
       "\\end{tabular}\n"
      ],
      "text/markdown": [
       "\n",
       "A data.frame: 2 × 21\n",
       "\n",
       "| <!--/--> | Factor1 &lt;dbl&gt; | Factor2 &lt;dbl&gt; | Factor3 &lt;dbl&gt; | Factor4 &lt;dbl&gt; | Factor5 &lt;dbl&gt; | Factor6 &lt;dbl&gt; | Factor7 &lt;dbl&gt; | Factor8 &lt;dbl&gt; | Factor9 &lt;dbl&gt; | Factor10 &lt;dbl&gt; | ⋯ ⋯ | Factor12 &lt;dbl&gt; | Factor13 &lt;dbl&gt; | Factor14 &lt;dbl&gt; | Factor15 &lt;dbl&gt; | Factor16 &lt;dbl&gt; | Factor17 &lt;dbl&gt; | Factor18 &lt;dbl&gt; | Factor19 &lt;dbl&gt; | Factor20 &lt;dbl&gt; | sample_id &lt;chr&gt; |\n",
       "|---|---|---|---|---|---|---|---|---|---|---|---|---|---|---|---|---|---|---|---|---|---|\n",
       "| 1 | 0.2822028 | -1.255954 | -0.5339003 | 1.1204467 | -0.4666922 | 1.248439 | 0.2075903 | -0.3646179 | -0.4024226 | 0.78832135 | ⋯ | 0.05325919 | 0.2773824 | 0.1330336 | -0.7632523 | -0.04660508 |  0.95971046 |  0.4317791 | -0.4674157 | -0.45888943 | k1  |\n",
       "| 2 | 0.6928825 | -1.038056 |  0.3393354 | 0.2294335 |  0.1052094 | 0.801152 | 0.3677501 |  1.4177218 | -0.5804093 | 0.04100113 | ⋯ | 0.22233569 | 0.3112234 | 0.0422479 |  0.1419886 | -0.04503017 | -0.04460783 | -0.1863946 | -0.2670198 | -0.03163122 | k10 |\n",
       "\n"
      ],
      "text/plain": [
       "  Factor1   Factor2   Factor3    Factor4   Factor5    Factor6  Factor7  \n",
       "1 0.2822028 -1.255954 -0.5339003 1.1204467 -0.4666922 1.248439 0.2075903\n",
       "2 0.6928825 -1.038056  0.3393354 0.2294335  0.1052094 0.801152 0.3677501\n",
       "  Factor8    Factor9    Factor10   ⋯ Factor12   Factor13  Factor14  Factor15  \n",
       "1 -0.3646179 -0.4024226 0.78832135 ⋯ 0.05325919 0.2773824 0.1330336 -0.7632523\n",
       "2  1.4177218 -0.5804093 0.04100113 ⋯ 0.22233569 0.3112234 0.0422479  0.1419886\n",
       "  Factor16    Factor17    Factor18   Factor19   Factor20    sample_id\n",
       "1 -0.04660508  0.95971046  0.4317791 -0.4674157 -0.45888943 k1       \n",
       "2 -0.04503017 -0.04460783 -0.1863946 -0.2670198 -0.03163122 k10      "
      ]
     },
     "metadata": {},
     "output_type": "display_data"
    }
   ],
   "source": [
    "head(factor_data_azimuth,2)"
   ]
  },
  {
   "cell_type": "code",
   "execution_count": 25,
   "id": "3d6b04e2-37e8-4834-8f67-002697ed4e38",
   "metadata": {},
   "outputs": [],
   "source": [
    "colnames(factor_data_azimuth) = paste0(colnames(factor_data_azimuth), 'azimuth')"
   ]
  },
  {
   "cell_type": "code",
   "execution_count": 26,
   "id": "ac7df51b-6afa-40b5-90a0-50a0c5c7c60e",
   "metadata": {},
   "outputs": [],
   "source": [
    "factors_combined = merge(factor_data, factor_data_azimuth, by.x = 'sample_id', by.y = 'sample_idazimuth')"
   ]
  },
  {
   "cell_type": "code",
   "execution_count": 27,
   "id": "d2192e3e-6bfd-4643-8ccf-dfa6b3a9182d",
   "metadata": {},
   "outputs": [
    {
     "data": {
      "text/html": [
       "128"
      ],
      "text/latex": [
       "128"
      ],
      "text/markdown": [
       "128"
      ],
      "text/plain": [
       "[1] 128"
      ]
     },
     "metadata": {},
     "output_type": "display_data"
    }
   ],
   "source": [
    "nrow(factors_combined)"
   ]
  },
  {
   "cell_type": "code",
   "execution_count": 28,
   "id": "cdbddef4-5589-49ea-bac9-924a1964d32d",
   "metadata": {},
   "outputs": [
    {
     "data": {
      "text/html": [
       "<table class=\"dataframe\">\n",
       "<caption>A data.frame: 6 × 41</caption>\n",
       "<thead>\n",
       "\t<tr><th></th><th scope=col>sample_id</th><th scope=col>Factor1</th><th scope=col>Factor2</th><th scope=col>Factor3</th><th scope=col>Factor4</th><th scope=col>Factor5</th><th scope=col>Factor6</th><th scope=col>Factor7</th><th scope=col>Factor8</th><th scope=col>Factor9</th><th scope=col>⋯</th><th scope=col>Factor11azimuth</th><th scope=col>Factor12azimuth</th><th scope=col>Factor13azimuth</th><th scope=col>Factor14azimuth</th><th scope=col>Factor15azimuth</th><th scope=col>Factor16azimuth</th><th scope=col>Factor17azimuth</th><th scope=col>Factor18azimuth</th><th scope=col>Factor19azimuth</th><th scope=col>Factor20azimuth</th></tr>\n",
       "\t<tr><th></th><th scope=col>&lt;chr&gt;</th><th scope=col>&lt;dbl&gt;</th><th scope=col>&lt;dbl&gt;</th><th scope=col>&lt;dbl&gt;</th><th scope=col>&lt;dbl&gt;</th><th scope=col>&lt;dbl&gt;</th><th scope=col>&lt;dbl&gt;</th><th scope=col>&lt;dbl&gt;</th><th scope=col>&lt;dbl&gt;</th><th scope=col>&lt;dbl&gt;</th><th scope=col>⋯</th><th scope=col>&lt;dbl&gt;</th><th scope=col>&lt;dbl&gt;</th><th scope=col>&lt;dbl&gt;</th><th scope=col>&lt;dbl&gt;</th><th scope=col>&lt;dbl&gt;</th><th scope=col>&lt;dbl&gt;</th><th scope=col>&lt;dbl&gt;</th><th scope=col>&lt;dbl&gt;</th><th scope=col>&lt;dbl&gt;</th><th scope=col>&lt;dbl&gt;</th></tr>\n",
       "</thead>\n",
       "<tbody>\n",
       "\t<tr><th scope=row>1</th><td>k1 </td><td> 0.4811325</td><td>-0.2731317</td><td> 1.4988169</td><td>-0.4135678</td><td> 1.5052706</td><td>-0.92308998</td><td>-0.3904185</td><td>-0.19447969</td><td> 0.164867991</td><td>⋯</td><td> 0.4306400</td><td> 0.05325919</td><td> 0.27738239</td><td> 0.13303365</td><td>-0.76325230</td><td>-0.04660508</td><td> 0.95971046</td><td> 0.431779125</td><td>-0.46741569</td><td>-0.45888943</td></tr>\n",
       "\t<tr><th scope=row>2</th><td>k10</td><td> 0.8920603</td><td>-0.7547770</td><td> 0.3501023</td><td>-0.1524478</td><td> 0.4074517</td><td>-0.04596939</td><td> 0.6276925</td><td>-1.16569374</td><td>-0.050035038</td><td>⋯</td><td>-0.1512732</td><td> 0.22233569</td><td> 0.31122340</td><td> 0.04224790</td><td> 0.14198857</td><td>-0.04503017</td><td>-0.04460783</td><td>-0.186394597</td><td>-0.26701984</td><td>-0.03163122</td></tr>\n",
       "\t<tr><th scope=row>3</th><td>k11</td><td>-1.2439808</td><td>-0.9826224</td><td>-0.8230479</td><td>-0.3559941</td><td> 1.0458397</td><td> 0.11800347</td><td>-0.2770340</td><td>-0.19013233</td><td>-0.109596117</td><td>⋯</td><td>-0.1356200</td><td>-0.70126043</td><td> 0.17834780</td><td>-0.05727359</td><td> 0.05895828</td><td> 0.14746604</td><td>-0.09273922</td><td> 0.172580802</td><td> 0.02947317</td><td>-0.08184409</td></tr>\n",
       "\t<tr><th scope=row>4</th><td>k12</td><td>-1.9847781</td><td>-1.6711527</td><td>-1.0857874</td><td>-0.4570102</td><td> 0.6403206</td><td>-0.37214375</td><td>-0.9344379</td><td>-0.19164419</td><td> 0.036760715</td><td>⋯</td><td>-0.1044329</td><td>-1.09175933</td><td> 0.48647681</td><td>-0.39887633</td><td>-0.04494189</td><td> 0.54622186</td><td> 0.16467157</td><td>-0.149100299</td><td> 0.43129440</td><td>-0.05209181</td></tr>\n",
       "\t<tr><th scope=row>5</th><td>k13</td><td>-0.1151065</td><td>-0.6049663</td><td>-1.0757514</td><td> 0.2528200</td><td> 0.9996823</td><td> 0.18219803</td><td> 0.1165207</td><td>-0.43359749</td><td> 0.009879488</td><td>⋯</td><td>-0.1599973</td><td>-0.33919680</td><td>-0.66542364</td><td> 0.03761243</td><td> 0.15980442</td><td> 0.11184416</td><td> 0.03747477</td><td> 0.099951109</td><td> 0.24887446</td><td> 0.27424704</td></tr>\n",
       "\t<tr><th scope=row>6</th><td>k14</td><td> 1.7202884</td><td>-1.0439370</td><td>-0.4129450</td><td> 0.4372901</td><td>-0.3166721</td><td> 0.18048541</td><td> 0.5870578</td><td>-0.07855377</td><td> 0.078069027</td><td>⋯</td><td>-0.1237692</td><td> 0.56497282</td><td>-0.05101193</td><td>-0.29314109</td><td> 0.26959618</td><td>-0.70380578</td><td> 0.07279563</td><td> 0.004502305</td><td> 0.38742801</td><td> 0.05504769</td></tr>\n",
       "</tbody>\n",
       "</table>\n"
      ],
      "text/latex": [
       "A data.frame: 6 × 41\n",
       "\\begin{tabular}{r|lllllllllllllllllllll}\n",
       "  & sample\\_id & Factor1 & Factor2 & Factor3 & Factor4 & Factor5 & Factor6 & Factor7 & Factor8 & Factor9 & ⋯ & Factor11azimuth & Factor12azimuth & Factor13azimuth & Factor14azimuth & Factor15azimuth & Factor16azimuth & Factor17azimuth & Factor18azimuth & Factor19azimuth & Factor20azimuth\\\\\n",
       "  & <chr> & <dbl> & <dbl> & <dbl> & <dbl> & <dbl> & <dbl> & <dbl> & <dbl> & <dbl> & ⋯ & <dbl> & <dbl> & <dbl> & <dbl> & <dbl> & <dbl> & <dbl> & <dbl> & <dbl> & <dbl>\\\\\n",
       "\\hline\n",
       "\t1 & k1  &  0.4811325 & -0.2731317 &  1.4988169 & -0.4135678 &  1.5052706 & -0.92308998 & -0.3904185 & -0.19447969 &  0.164867991 & ⋯ &  0.4306400 &  0.05325919 &  0.27738239 &  0.13303365 & -0.76325230 & -0.04660508 &  0.95971046 &  0.431779125 & -0.46741569 & -0.45888943\\\\\n",
       "\t2 & k10 &  0.8920603 & -0.7547770 &  0.3501023 & -0.1524478 &  0.4074517 & -0.04596939 &  0.6276925 & -1.16569374 & -0.050035038 & ⋯ & -0.1512732 &  0.22233569 &  0.31122340 &  0.04224790 &  0.14198857 & -0.04503017 & -0.04460783 & -0.186394597 & -0.26701984 & -0.03163122\\\\\n",
       "\t3 & k11 & -1.2439808 & -0.9826224 & -0.8230479 & -0.3559941 &  1.0458397 &  0.11800347 & -0.2770340 & -0.19013233 & -0.109596117 & ⋯ & -0.1356200 & -0.70126043 &  0.17834780 & -0.05727359 &  0.05895828 &  0.14746604 & -0.09273922 &  0.172580802 &  0.02947317 & -0.08184409\\\\\n",
       "\t4 & k12 & -1.9847781 & -1.6711527 & -1.0857874 & -0.4570102 &  0.6403206 & -0.37214375 & -0.9344379 & -0.19164419 &  0.036760715 & ⋯ & -0.1044329 & -1.09175933 &  0.48647681 & -0.39887633 & -0.04494189 &  0.54622186 &  0.16467157 & -0.149100299 &  0.43129440 & -0.05209181\\\\\n",
       "\t5 & k13 & -0.1151065 & -0.6049663 & -1.0757514 &  0.2528200 &  0.9996823 &  0.18219803 &  0.1165207 & -0.43359749 &  0.009879488 & ⋯ & -0.1599973 & -0.33919680 & -0.66542364 &  0.03761243 &  0.15980442 &  0.11184416 &  0.03747477 &  0.099951109 &  0.24887446 &  0.27424704\\\\\n",
       "\t6 & k14 &  1.7202884 & -1.0439370 & -0.4129450 &  0.4372901 & -0.3166721 &  0.18048541 &  0.5870578 & -0.07855377 &  0.078069027 & ⋯ & -0.1237692 &  0.56497282 & -0.05101193 & -0.29314109 &  0.26959618 & -0.70380578 &  0.07279563 &  0.004502305 &  0.38742801 &  0.05504769\\\\\n",
       "\\end{tabular}\n"
      ],
      "text/markdown": [
       "\n",
       "A data.frame: 6 × 41\n",
       "\n",
       "| <!--/--> | sample_id &lt;chr&gt; | Factor1 &lt;dbl&gt; | Factor2 &lt;dbl&gt; | Factor3 &lt;dbl&gt; | Factor4 &lt;dbl&gt; | Factor5 &lt;dbl&gt; | Factor6 &lt;dbl&gt; | Factor7 &lt;dbl&gt; | Factor8 &lt;dbl&gt; | Factor9 &lt;dbl&gt; | ⋯ ⋯ | Factor11azimuth &lt;dbl&gt; | Factor12azimuth &lt;dbl&gt; | Factor13azimuth &lt;dbl&gt; | Factor14azimuth &lt;dbl&gt; | Factor15azimuth &lt;dbl&gt; | Factor16azimuth &lt;dbl&gt; | Factor17azimuth &lt;dbl&gt; | Factor18azimuth &lt;dbl&gt; | Factor19azimuth &lt;dbl&gt; | Factor20azimuth &lt;dbl&gt; |\n",
       "|---|---|---|---|---|---|---|---|---|---|---|---|---|---|---|---|---|---|---|---|---|---|\n",
       "| 1 | k1  |  0.4811325 | -0.2731317 |  1.4988169 | -0.4135678 |  1.5052706 | -0.92308998 | -0.3904185 | -0.19447969 |  0.164867991 | ⋯ |  0.4306400 |  0.05325919 |  0.27738239 |  0.13303365 | -0.76325230 | -0.04660508 |  0.95971046 |  0.431779125 | -0.46741569 | -0.45888943 |\n",
       "| 2 | k10 |  0.8920603 | -0.7547770 |  0.3501023 | -0.1524478 |  0.4074517 | -0.04596939 |  0.6276925 | -1.16569374 | -0.050035038 | ⋯ | -0.1512732 |  0.22233569 |  0.31122340 |  0.04224790 |  0.14198857 | -0.04503017 | -0.04460783 | -0.186394597 | -0.26701984 | -0.03163122 |\n",
       "| 3 | k11 | -1.2439808 | -0.9826224 | -0.8230479 | -0.3559941 |  1.0458397 |  0.11800347 | -0.2770340 | -0.19013233 | -0.109596117 | ⋯ | -0.1356200 | -0.70126043 |  0.17834780 | -0.05727359 |  0.05895828 |  0.14746604 | -0.09273922 |  0.172580802 |  0.02947317 | -0.08184409 |\n",
       "| 4 | k12 | -1.9847781 | -1.6711527 | -1.0857874 | -0.4570102 |  0.6403206 | -0.37214375 | -0.9344379 | -0.19164419 |  0.036760715 | ⋯ | -0.1044329 | -1.09175933 |  0.48647681 | -0.39887633 | -0.04494189 |  0.54622186 |  0.16467157 | -0.149100299 |  0.43129440 | -0.05209181 |\n",
       "| 5 | k13 | -0.1151065 | -0.6049663 | -1.0757514 |  0.2528200 |  0.9996823 |  0.18219803 |  0.1165207 | -0.43359749 |  0.009879488 | ⋯ | -0.1599973 | -0.33919680 | -0.66542364 |  0.03761243 |  0.15980442 |  0.11184416 |  0.03747477 |  0.099951109 |  0.24887446 |  0.27424704 |\n",
       "| 6 | k14 |  1.7202884 | -1.0439370 | -0.4129450 |  0.4372901 | -0.3166721 |  0.18048541 |  0.5870578 | -0.07855377 |  0.078069027 | ⋯ | -0.1237692 |  0.56497282 | -0.05101193 | -0.29314109 |  0.26959618 | -0.70380578 |  0.07279563 |  0.004502305 |  0.38742801 |  0.05504769 |\n",
       "\n"
      ],
      "text/plain": [
       "  sample_id Factor1    Factor2    Factor3    Factor4    Factor5    Factor6    \n",
       "1 k1         0.4811325 -0.2731317  1.4988169 -0.4135678  1.5052706 -0.92308998\n",
       "2 k10        0.8920603 -0.7547770  0.3501023 -0.1524478  0.4074517 -0.04596939\n",
       "3 k11       -1.2439808 -0.9826224 -0.8230479 -0.3559941  1.0458397  0.11800347\n",
       "4 k12       -1.9847781 -1.6711527 -1.0857874 -0.4570102  0.6403206 -0.37214375\n",
       "5 k13       -0.1151065 -0.6049663 -1.0757514  0.2528200  0.9996823  0.18219803\n",
       "6 k14        1.7202884 -1.0439370 -0.4129450  0.4372901 -0.3166721  0.18048541\n",
       "  Factor7    Factor8     Factor9      ⋯ Factor11azimuth Factor12azimuth\n",
       "1 -0.3904185 -0.19447969  0.164867991 ⋯  0.4306400       0.05325919    \n",
       "2  0.6276925 -1.16569374 -0.050035038 ⋯ -0.1512732       0.22233569    \n",
       "3 -0.2770340 -0.19013233 -0.109596117 ⋯ -0.1356200      -0.70126043    \n",
       "4 -0.9344379 -0.19164419  0.036760715 ⋯ -0.1044329      -1.09175933    \n",
       "5  0.1165207 -0.43359749  0.009879488 ⋯ -0.1599973      -0.33919680    \n",
       "6  0.5870578 -0.07855377  0.078069027 ⋯ -0.1237692       0.56497282    \n",
       "  Factor13azimuth Factor14azimuth Factor15azimuth Factor16azimuth\n",
       "1  0.27738239      0.13303365     -0.76325230     -0.04660508    \n",
       "2  0.31122340      0.04224790      0.14198857     -0.04503017    \n",
       "3  0.17834780     -0.05727359      0.05895828      0.14746604    \n",
       "4  0.48647681     -0.39887633     -0.04494189      0.54622186    \n",
       "5 -0.66542364      0.03761243      0.15980442      0.11184416    \n",
       "6 -0.05101193     -0.29314109      0.26959618     -0.70380578    \n",
       "  Factor17azimuth Factor18azimuth Factor19azimuth Factor20azimuth\n",
       "1  0.95971046      0.431779125    -0.46741569     -0.45888943    \n",
       "2 -0.04460783     -0.186394597    -0.26701984     -0.03163122    \n",
       "3 -0.09273922      0.172580802     0.02947317     -0.08184409    \n",
       "4  0.16467157     -0.149100299     0.43129440     -0.05209181    \n",
       "5  0.03747477      0.099951109     0.24887446      0.27424704    \n",
       "6  0.07279563      0.004502305     0.38742801      0.05504769    "
      ]
     },
     "metadata": {},
     "output_type": "display_data"
    }
   ],
   "source": [
    "head(factors_combined)"
   ]
  },
  {
   "cell_type": "code",
   "execution_count": 29,
   "id": "78989cd3-456d-4fec-aaa2-e954b3cbd32e",
   "metadata": {},
   "outputs": [],
   "source": [
    "factors_combined$sample_id = NULL"
   ]
  },
  {
   "cell_type": "code",
   "execution_count": 30,
   "id": "8376c44d-cbd7-4612-bd29-f1f48bdd2ce8",
   "metadata": {},
   "outputs": [],
   "source": [
    "correlations = cor(factors_combined ,method = 'pearson',  use = \"pairwise.complete.obs\")"
   ]
  },
  {
   "cell_type": "code",
   "execution_count": 31,
   "id": "231eb38c-144d-4978-b251-8869d11ffe4a",
   "metadata": {},
   "outputs": [],
   "source": [
    "correlations = correlations[rownames(correlations) %in% colnames(factor_data),colnames(correlations) %in% colnames(factor_data_azimuth)] "
   ]
  },
  {
   "cell_type": "code",
   "execution_count": 32,
   "id": "b34c8bce-300c-4e30-b758-95f424ccf87a",
   "metadata": {},
   "outputs": [
    {
     "data": {
      "text/html": [
       "<table class=\"dataframe\">\n",
       "<caption>A matrix: 2 × 20 of type dbl</caption>\n",
       "<thead>\n",
       "\t<tr><th></th><th scope=col>Factor1azimuth</th><th scope=col>Factor2azimuth</th><th scope=col>Factor3azimuth</th><th scope=col>Factor4azimuth</th><th scope=col>Factor5azimuth</th><th scope=col>Factor6azimuth</th><th scope=col>Factor7azimuth</th><th scope=col>Factor8azimuth</th><th scope=col>Factor9azimuth</th><th scope=col>Factor10azimuth</th><th scope=col>Factor11azimuth</th><th scope=col>Factor12azimuth</th><th scope=col>Factor13azimuth</th><th scope=col>Factor14azimuth</th><th scope=col>Factor15azimuth</th><th scope=col>Factor16azimuth</th><th scope=col>Factor17azimuth</th><th scope=col>Factor18azimuth</th><th scope=col>Factor19azimuth</th><th scope=col>Factor20azimuth</th></tr>\n",
       "</thead>\n",
       "<tbody>\n",
       "\t<tr><th scope=row>Factor1</th><td>0.9359442</td><td>-0.3457781</td><td>-0.04750097</td><td>-0.13804137</td><td>-0.01733529</td><td>-0.01391756</td><td>0.03974857</td><td>0.18208882</td><td>0.06479616</td><td>0.05288300</td><td>-0.02011210</td><td>0.033645275</td><td>0.04062492</td><td> 0.047690194</td><td>-0.01657004</td><td> 0.10949669</td><td>-0.03618234</td><td>-0.02237658</td><td> 0.01348487</td><td> 0.03337717</td></tr>\n",
       "\t<tr><th scope=row>Factor2</th><td>0.2558899</td><td> 0.9198266</td><td>-0.12052161</td><td> 0.08188385</td><td>-0.14906352</td><td>-0.10786721</td><td>0.09543967</td><td>0.03020988</td><td>0.01635719</td><td>0.02491792</td><td> 0.06684613</td><td>0.005380073</td><td>0.18327757</td><td>-0.001695079</td><td> 0.16000102</td><td>-0.08953367</td><td>-0.09311295</td><td>-0.12274262</td><td>-0.02131401</td><td>-0.11921790</td></tr>\n",
       "</tbody>\n",
       "</table>\n"
      ],
      "text/latex": [
       "A matrix: 2 × 20 of type dbl\n",
       "\\begin{tabular}{r|llllllllllllllllllll}\n",
       "  & Factor1azimuth & Factor2azimuth & Factor3azimuth & Factor4azimuth & Factor5azimuth & Factor6azimuth & Factor7azimuth & Factor8azimuth & Factor9azimuth & Factor10azimuth & Factor11azimuth & Factor12azimuth & Factor13azimuth & Factor14azimuth & Factor15azimuth & Factor16azimuth & Factor17azimuth & Factor18azimuth & Factor19azimuth & Factor20azimuth\\\\\n",
       "\\hline\n",
       "\tFactor1 & 0.9359442 & -0.3457781 & -0.04750097 & -0.13804137 & -0.01733529 & -0.01391756 & 0.03974857 & 0.18208882 & 0.06479616 & 0.05288300 & -0.02011210 & 0.033645275 & 0.04062492 &  0.047690194 & -0.01657004 &  0.10949669 & -0.03618234 & -0.02237658 &  0.01348487 &  0.03337717\\\\\n",
       "\tFactor2 & 0.2558899 &  0.9198266 & -0.12052161 &  0.08188385 & -0.14906352 & -0.10786721 & 0.09543967 & 0.03020988 & 0.01635719 & 0.02491792 &  0.06684613 & 0.005380073 & 0.18327757 & -0.001695079 &  0.16000102 & -0.08953367 & -0.09311295 & -0.12274262 & -0.02131401 & -0.11921790\\\\\n",
       "\\end{tabular}\n"
      ],
      "text/markdown": [
       "\n",
       "A matrix: 2 × 20 of type dbl\n",
       "\n",
       "| <!--/--> | Factor1azimuth | Factor2azimuth | Factor3azimuth | Factor4azimuth | Factor5azimuth | Factor6azimuth | Factor7azimuth | Factor8azimuth | Factor9azimuth | Factor10azimuth | Factor11azimuth | Factor12azimuth | Factor13azimuth | Factor14azimuth | Factor15azimuth | Factor16azimuth | Factor17azimuth | Factor18azimuth | Factor19azimuth | Factor20azimuth |\n",
       "|---|---|---|---|---|---|---|---|---|---|---|---|---|---|---|---|---|---|---|---|---|\n",
       "| Factor1 | 0.9359442 | -0.3457781 | -0.04750097 | -0.13804137 | -0.01733529 | -0.01391756 | 0.03974857 | 0.18208882 | 0.06479616 | 0.05288300 | -0.02011210 | 0.033645275 | 0.04062492 |  0.047690194 | -0.01657004 |  0.10949669 | -0.03618234 | -0.02237658 |  0.01348487 |  0.03337717 |\n",
       "| Factor2 | 0.2558899 |  0.9198266 | -0.12052161 |  0.08188385 | -0.14906352 | -0.10786721 | 0.09543967 | 0.03020988 | 0.01635719 | 0.02491792 |  0.06684613 | 0.005380073 | 0.18327757 | -0.001695079 |  0.16000102 | -0.08953367 | -0.09311295 | -0.12274262 | -0.02131401 | -0.11921790 |\n",
       "\n"
      ],
      "text/plain": [
       "        Factor1azimuth Factor2azimuth Factor3azimuth Factor4azimuth\n",
       "Factor1 0.9359442      -0.3457781     -0.04750097    -0.13804137   \n",
       "Factor2 0.2558899       0.9198266     -0.12052161     0.08188385   \n",
       "        Factor5azimuth Factor6azimuth Factor7azimuth Factor8azimuth\n",
       "Factor1 -0.01733529    -0.01391756    0.03974857     0.18208882    \n",
       "Factor2 -0.14906352    -0.10786721    0.09543967     0.03020988    \n",
       "        Factor9azimuth Factor10azimuth Factor11azimuth Factor12azimuth\n",
       "Factor1 0.06479616     0.05288300      -0.02011210     0.033645275    \n",
       "Factor2 0.01635719     0.02491792       0.06684613     0.005380073    \n",
       "        Factor13azimuth Factor14azimuth Factor15azimuth Factor16azimuth\n",
       "Factor1 0.04062492       0.047690194    -0.01657004      0.10949669    \n",
       "Factor2 0.18327757      -0.001695079     0.16000102     -0.08953367    \n",
       "        Factor17azimuth Factor18azimuth Factor19azimuth Factor20azimuth\n",
       "Factor1 -0.03618234     -0.02237658      0.01348487      0.03337717    \n",
       "Factor2 -0.09311295     -0.12274262     -0.02131401     -0.11921790    "
      ]
     },
     "metadata": {},
     "output_type": "display_data"
    }
   ],
   "source": [
    "head(correlations,2)"
   ]
  },
  {
   "cell_type": "code",
   "execution_count": 33,
   "id": "5379e2f5-c1ed-4baa-878d-a1f68f054fd4",
   "metadata": {},
   "outputs": [],
   "source": [
    "#### Plot complete explained variance"
   ]
  },
  {
   "cell_type": "code",
   "execution_count": 34,
   "id": "ebd049cf-bbe6-4769-831b-7d336060ceab",
   "metadata": {},
   "outputs": [],
   "source": [
    "figure_name = \"SUPP4_Correlation_Factor_Values_Mofa_Models\""
   ]
  },
  {
   "cell_type": "code",
   "execution_count": 35,
   "id": "fc923d25-f89d-4eea-b202-92b75d5b225e",
   "metadata": {},
   "outputs": [],
   "source": [
    "# Sizes of the plot\n",
    "width_par = 8\n",
    "height_par = 5.5"
   ]
  },
  {
   "cell_type": "code",
   "execution_count": 36,
   "id": "1aa5b559-24f0-4b12-811e-a409a86f4e10",
   "metadata": {},
   "outputs": [
    {
     "data": {
      "text/html": [
       "<strong>png:</strong> 2"
      ],
      "text/latex": [
       "\\textbf{png:} 2"
      ],
      "text/markdown": [
       "**png:** 2"
      ],
      "text/plain": [
       "png \n",
       "  2 "
      ]
     },
     "metadata": {},
     "output_type": "display_data"
    }
   ],
   "source": [
    "pdf(paste0('figures/G_Azimuth/', figure_name, name2, '.pdf'), width =width_par, height =height_par)\n",
    "correlation_plot = corrplot(correlations, method = 'number', title = '',  pch =4,   mar=c(0,0,2,0), number.cex = 0.5, tl.cex = 0.5, cl.cex = 0.5)\n",
    "dev.off()"
   ]
  },
  {
   "cell_type": "markdown",
   "id": "c93ea634-981d-4761-8e8b-124f25d33d90",
   "metadata": {
    "tags": []
   },
   "source": [
    "## Comparison Features"
   ]
  },
  {
   "cell_type": "code",
   "execution_count": 37,
   "id": "a7bf2b16-5565-431d-be71-cc9c6ba2615e",
   "metadata": {},
   "outputs": [
    {
     "data": {
      "text/html": [
       "<table class=\"dataframe\">\n",
       "<caption>A data.frame: 2 × 22</caption>\n",
       "<thead>\n",
       "\t<tr><th></th><th scope=col>Factor1</th><th scope=col>Factor2</th><th scope=col>Factor3</th><th scope=col>Factor4</th><th scope=col>Factor5</th><th scope=col>Factor6</th><th scope=col>Factor7</th><th scope=col>Factor8</th><th scope=col>Factor9</th><th scope=col>Factor10</th><th scope=col>⋯</th><th scope=col>Factor13</th><th scope=col>Factor14</th><th scope=col>Factor15</th><th scope=col>Factor16</th><th scope=col>Factor17</th><th scope=col>Factor18</th><th scope=col>Factor19</th><th scope=col>Factor20</th><th scope=col>type</th><th scope=col>variable_name</th></tr>\n",
       "\t<tr><th></th><th scope=col>&lt;dbl&gt;</th><th scope=col>&lt;dbl&gt;</th><th scope=col>&lt;dbl&gt;</th><th scope=col>&lt;dbl&gt;</th><th scope=col>&lt;dbl&gt;</th><th scope=col>&lt;dbl&gt;</th><th scope=col>&lt;dbl&gt;</th><th scope=col>&lt;dbl&gt;</th><th scope=col>&lt;dbl&gt;</th><th scope=col>&lt;dbl&gt;</th><th scope=col>⋯</th><th scope=col>&lt;dbl&gt;</th><th scope=col>&lt;dbl&gt;</th><th scope=col>&lt;dbl&gt;</th><th scope=col>&lt;dbl&gt;</th><th scope=col>&lt;dbl&gt;</th><th scope=col>&lt;dbl&gt;</th><th scope=col>&lt;dbl&gt;</th><th scope=col>&lt;dbl&gt;</th><th scope=col>&lt;chr&gt;</th><th scope=col>&lt;chr&gt;</th></tr>\n",
       "</thead>\n",
       "<tbody>\n",
       "\t<tr><th scope=row>1</th><td>-0.13418597</td><td>0.4019222</td><td>-0.1010765</td><td>-0.002177566</td><td>-0.5093667</td><td>0.24179134</td><td>-0.03635097</td><td>0.05304519</td><td> 0.0011574664</td><td>-0.012307130</td><td>⋯</td><td>-0.1604505</td><td>-0.001418618</td><td>0.1540945</td><td> 0.003821864</td><td>-0.24205661</td><td>0.004092582</td><td>-0.0005618720</td><td>-0.2423944</td><td>clinical_data</td><td>CK   </td></tr>\n",
       "\t<tr><th scope=row>2</th><td>-0.06222621</td><td>0.2731985</td><td>-0.2000362</td><td>-0.076098327</td><td>-0.1439445</td><td>0.04289833</td><td>-0.71818597</td><td>0.18658970</td><td>-0.0007753517</td><td>-0.003074308</td><td>⋯</td><td>-0.6107162</td><td> 0.002499494</td><td>0.3864464</td><td>-0.001090137</td><td>-0.08311704</td><td>0.009503498</td><td>-0.0003621744</td><td> 0.2060158</td><td>clinical_data</td><td>CK_MB</td></tr>\n",
       "</tbody>\n",
       "</table>\n"
      ],
      "text/latex": [
       "A data.frame: 2 × 22\n",
       "\\begin{tabular}{r|lllllllllllllllllllll}\n",
       "  & Factor1 & Factor2 & Factor3 & Factor4 & Factor5 & Factor6 & Factor7 & Factor8 & Factor9 & Factor10 & ⋯ & Factor13 & Factor14 & Factor15 & Factor16 & Factor17 & Factor18 & Factor19 & Factor20 & type & variable\\_name\\\\\n",
       "  & <dbl> & <dbl> & <dbl> & <dbl> & <dbl> & <dbl> & <dbl> & <dbl> & <dbl> & <dbl> & ⋯ & <dbl> & <dbl> & <dbl> & <dbl> & <dbl> & <dbl> & <dbl> & <dbl> & <chr> & <chr>\\\\\n",
       "\\hline\n",
       "\t1 & -0.13418597 & 0.4019222 & -0.1010765 & -0.002177566 & -0.5093667 & 0.24179134 & -0.03635097 & 0.05304519 &  0.0011574664 & -0.012307130 & ⋯ & -0.1604505 & -0.001418618 & 0.1540945 &  0.003821864 & -0.24205661 & 0.004092582 & -0.0005618720 & -0.2423944 & clinical\\_data & CK   \\\\\n",
       "\t2 & -0.06222621 & 0.2731985 & -0.2000362 & -0.076098327 & -0.1439445 & 0.04289833 & -0.71818597 & 0.18658970 & -0.0007753517 & -0.003074308 & ⋯ & -0.6107162 &  0.002499494 & 0.3864464 & -0.001090137 & -0.08311704 & 0.009503498 & -0.0003621744 &  0.2060158 & clinical\\_data & CK\\_MB\\\\\n",
       "\\end{tabular}\n"
      ],
      "text/markdown": [
       "\n",
       "A data.frame: 2 × 22\n",
       "\n",
       "| <!--/--> | Factor1 &lt;dbl&gt; | Factor2 &lt;dbl&gt; | Factor3 &lt;dbl&gt; | Factor4 &lt;dbl&gt; | Factor5 &lt;dbl&gt; | Factor6 &lt;dbl&gt; | Factor7 &lt;dbl&gt; | Factor8 &lt;dbl&gt; | Factor9 &lt;dbl&gt; | Factor10 &lt;dbl&gt; | ⋯ ⋯ | Factor13 &lt;dbl&gt; | Factor14 &lt;dbl&gt; | Factor15 &lt;dbl&gt; | Factor16 &lt;dbl&gt; | Factor17 &lt;dbl&gt; | Factor18 &lt;dbl&gt; | Factor19 &lt;dbl&gt; | Factor20 &lt;dbl&gt; | type &lt;chr&gt; | variable_name &lt;chr&gt; |\n",
       "|---|---|---|---|---|---|---|---|---|---|---|---|---|---|---|---|---|---|---|---|---|---|\n",
       "| 1 | -0.13418597 | 0.4019222 | -0.1010765 | -0.002177566 | -0.5093667 | 0.24179134 | -0.03635097 | 0.05304519 |  0.0011574664 | -0.012307130 | ⋯ | -0.1604505 | -0.001418618 | 0.1540945 |  0.003821864 | -0.24205661 | 0.004092582 | -0.0005618720 | -0.2423944 | clinical_data | CK    |\n",
       "| 2 | -0.06222621 | 0.2731985 | -0.2000362 | -0.076098327 | -0.1439445 | 0.04289833 | -0.71818597 | 0.18658970 | -0.0007753517 | -0.003074308 | ⋯ | -0.6107162 |  0.002499494 | 0.3864464 | -0.001090137 | -0.08311704 | 0.009503498 | -0.0003621744 |  0.2060158 | clinical_data | CK_MB |\n",
       "\n"
      ],
      "text/plain": [
       "  Factor1     Factor2   Factor3    Factor4      Factor5    Factor6   \n",
       "1 -0.13418597 0.4019222 -0.1010765 -0.002177566 -0.5093667 0.24179134\n",
       "2 -0.06222621 0.2731985 -0.2000362 -0.076098327 -0.1439445 0.04289833\n",
       "  Factor7     Factor8    Factor9       Factor10     ⋯ Factor13   Factor14    \n",
       "1 -0.03635097 0.05304519  0.0011574664 -0.012307130 ⋯ -0.1604505 -0.001418618\n",
       "2 -0.71818597 0.18658970 -0.0007753517 -0.003074308 ⋯ -0.6107162  0.002499494\n",
       "  Factor15  Factor16     Factor17    Factor18    Factor19      Factor20  \n",
       "1 0.1540945  0.003821864 -0.24205661 0.004092582 -0.0005618720 -0.2423944\n",
       "2 0.3864464 -0.001090137 -0.08311704 0.009503498 -0.0003621744  0.2060158\n",
       "  type          variable_name\n",
       "1 clinical_data CK           \n",
       "2 clinical_data CK_MB        "
      ]
     },
     "metadata": {},
     "output_type": "display_data"
    }
   ],
   "source": [
    "head(weight_data,2)"
   ]
  },
  {
   "cell_type": "code",
   "execution_count": 38,
   "id": "427653ba-7515-49f8-8f70-0acf21965d61",
   "metadata": {},
   "outputs": [
    {
     "data": {
      "text/html": [
       "<table class=\"dataframe\">\n",
       "<caption>A data.frame: 2 × 22</caption>\n",
       "<thead>\n",
       "\t<tr><th></th><th scope=col>Factor1</th><th scope=col>Factor2</th><th scope=col>Factor3</th><th scope=col>Factor4</th><th scope=col>Factor5</th><th scope=col>Factor6</th><th scope=col>Factor7</th><th scope=col>Factor8</th><th scope=col>Factor9</th><th scope=col>Factor10</th><th scope=col>⋯</th><th scope=col>Factor13</th><th scope=col>Factor14</th><th scope=col>Factor15</th><th scope=col>Factor16</th><th scope=col>Factor17</th><th scope=col>Factor18</th><th scope=col>Factor19</th><th scope=col>Factor20</th><th scope=col>type</th><th scope=col>variable_name</th></tr>\n",
       "\t<tr><th></th><th scope=col>&lt;dbl&gt;</th><th scope=col>&lt;dbl&gt;</th><th scope=col>&lt;dbl&gt;</th><th scope=col>&lt;dbl&gt;</th><th scope=col>&lt;dbl&gt;</th><th scope=col>&lt;dbl&gt;</th><th scope=col>&lt;dbl&gt;</th><th scope=col>&lt;dbl&gt;</th><th scope=col>&lt;dbl&gt;</th><th scope=col>&lt;dbl&gt;</th><th scope=col>⋯</th><th scope=col>&lt;dbl&gt;</th><th scope=col>&lt;dbl&gt;</th><th scope=col>&lt;dbl&gt;</th><th scope=col>&lt;dbl&gt;</th><th scope=col>&lt;dbl&gt;</th><th scope=col>&lt;dbl&gt;</th><th scope=col>&lt;dbl&gt;</th><th scope=col>&lt;dbl&gt;</th><th scope=col>&lt;chr&gt;</th><th scope=col>&lt;chr&gt;</th></tr>\n",
       "</thead>\n",
       "<tbody>\n",
       "\t<tr><th scope=row>1</th><td>-0.020691979</td><td>0.4295154</td><td>0.02775631</td><td>-0.02712267</td><td> 0.010438305</td><td>-0.4194796</td><td>0.01169812</td><td>-0.11248843</td><td>0.2867520</td><td> 0.0143456634</td><td>⋯</td><td>0.03096640</td><td>0.1001090</td><td>0.8842042</td><td>-0.002553659</td><td>-0.0002680875</td><td>-0.009308180</td><td>0.003408993</td><td>-0.002008598</td><td>clinical_data</td><td>CK   </td></tr>\n",
       "\t<tr><th scope=row>2</th><td>-0.001361949</td><td>0.3790396</td><td>0.06749868</td><td>-0.06765357</td><td>-0.004929694</td><td>-0.3529069</td><td>0.01561328</td><td>-0.01496201</td><td>0.3777444</td><td>-0.0004131968</td><td>⋯</td><td>0.00304789</td><td>0.1161746</td><td>0.1307211</td><td>-0.002865083</td><td>-0.0003610348</td><td>-0.008757576</td><td>0.004192790</td><td>-0.010507527</td><td>clinical_data</td><td>CK_MB</td></tr>\n",
       "</tbody>\n",
       "</table>\n"
      ],
      "text/latex": [
       "A data.frame: 2 × 22\n",
       "\\begin{tabular}{r|lllllllllllllllllllll}\n",
       "  & Factor1 & Factor2 & Factor3 & Factor4 & Factor5 & Factor6 & Factor7 & Factor8 & Factor9 & Factor10 & ⋯ & Factor13 & Factor14 & Factor15 & Factor16 & Factor17 & Factor18 & Factor19 & Factor20 & type & variable\\_name\\\\\n",
       "  & <dbl> & <dbl> & <dbl> & <dbl> & <dbl> & <dbl> & <dbl> & <dbl> & <dbl> & <dbl> & ⋯ & <dbl> & <dbl> & <dbl> & <dbl> & <dbl> & <dbl> & <dbl> & <dbl> & <chr> & <chr>\\\\\n",
       "\\hline\n",
       "\t1 & -0.020691979 & 0.4295154 & 0.02775631 & -0.02712267 &  0.010438305 & -0.4194796 & 0.01169812 & -0.11248843 & 0.2867520 &  0.0143456634 & ⋯ & 0.03096640 & 0.1001090 & 0.8842042 & -0.002553659 & -0.0002680875 & -0.009308180 & 0.003408993 & -0.002008598 & clinical\\_data & CK   \\\\\n",
       "\t2 & -0.001361949 & 0.3790396 & 0.06749868 & -0.06765357 & -0.004929694 & -0.3529069 & 0.01561328 & -0.01496201 & 0.3777444 & -0.0004131968 & ⋯ & 0.00304789 & 0.1161746 & 0.1307211 & -0.002865083 & -0.0003610348 & -0.008757576 & 0.004192790 & -0.010507527 & clinical\\_data & CK\\_MB\\\\\n",
       "\\end{tabular}\n"
      ],
      "text/markdown": [
       "\n",
       "A data.frame: 2 × 22\n",
       "\n",
       "| <!--/--> | Factor1 &lt;dbl&gt; | Factor2 &lt;dbl&gt; | Factor3 &lt;dbl&gt; | Factor4 &lt;dbl&gt; | Factor5 &lt;dbl&gt; | Factor6 &lt;dbl&gt; | Factor7 &lt;dbl&gt; | Factor8 &lt;dbl&gt; | Factor9 &lt;dbl&gt; | Factor10 &lt;dbl&gt; | ⋯ ⋯ | Factor13 &lt;dbl&gt; | Factor14 &lt;dbl&gt; | Factor15 &lt;dbl&gt; | Factor16 &lt;dbl&gt; | Factor17 &lt;dbl&gt; | Factor18 &lt;dbl&gt; | Factor19 &lt;dbl&gt; | Factor20 &lt;dbl&gt; | type &lt;chr&gt; | variable_name &lt;chr&gt; |\n",
       "|---|---|---|---|---|---|---|---|---|---|---|---|---|---|---|---|---|---|---|---|---|---|\n",
       "| 1 | -0.020691979 | 0.4295154 | 0.02775631 | -0.02712267 |  0.010438305 | -0.4194796 | 0.01169812 | -0.11248843 | 0.2867520 |  0.0143456634 | ⋯ | 0.03096640 | 0.1001090 | 0.8842042 | -0.002553659 | -0.0002680875 | -0.009308180 | 0.003408993 | -0.002008598 | clinical_data | CK    |\n",
       "| 2 | -0.001361949 | 0.3790396 | 0.06749868 | -0.06765357 | -0.004929694 | -0.3529069 | 0.01561328 | -0.01496201 | 0.3777444 | -0.0004131968 | ⋯ | 0.00304789 | 0.1161746 | 0.1307211 | -0.002865083 | -0.0003610348 | -0.008757576 | 0.004192790 | -0.010507527 | clinical_data | CK_MB |\n",
       "\n"
      ],
      "text/plain": [
       "  Factor1      Factor2   Factor3    Factor4     Factor5      Factor6   \n",
       "1 -0.020691979 0.4295154 0.02775631 -0.02712267  0.010438305 -0.4194796\n",
       "2 -0.001361949 0.3790396 0.06749868 -0.06765357 -0.004929694 -0.3529069\n",
       "  Factor7    Factor8     Factor9   Factor10      ⋯ Factor13   Factor14 \n",
       "1 0.01169812 -0.11248843 0.2867520  0.0143456634 ⋯ 0.03096640 0.1001090\n",
       "2 0.01561328 -0.01496201 0.3777444 -0.0004131968 ⋯ 0.00304789 0.1161746\n",
       "  Factor15  Factor16     Factor17      Factor18     Factor19    Factor20    \n",
       "1 0.8842042 -0.002553659 -0.0002680875 -0.009308180 0.003408993 -0.002008598\n",
       "2 0.1307211 -0.002865083 -0.0003610348 -0.008757576 0.004192790 -0.010507527\n",
       "  type          variable_name\n",
       "1 clinical_data CK           \n",
       "2 clinical_data CK_MB        "
      ]
     },
     "metadata": {},
     "output_type": "display_data"
    }
   ],
   "source": [
    "head(weight_data_azimuth,2)"
   ]
  },
  {
   "cell_type": "code",
   "execution_count": 39,
   "id": "8a6fbd26-8869-4c63-992d-0cfaa6e98377",
   "metadata": {},
   "outputs": [
    {
     "data": {
      "text/html": [
       "<style>\n",
       ".list-inline {list-style: none; margin:0; padding: 0}\n",
       ".list-inline>li {display: inline-block}\n",
       ".list-inline>li:not(:last-child)::after {content: \"\\00b7\"; padding: 0 .5ex}\n",
       "</style>\n",
       "<ol class=list-inline><li>'clinical_data'</li><li>'cytokine'</li><li>'neutrophil'</li><li>'proteomics'</li><li>'X0_TcellCD4'</li><li>'X1_TcellCD8'</li><li>'X10_Bcell'</li><li>'X11_TcellCD4'</li><li>'X12_MonocytesCD16_FCGR3A'</li><li>'X13_Dendritic'</li><li>'X2_TcellCD4'</li><li>'X3_NK'</li><li>'X4_MonocytesCD14'</li><li>'X5_TcellCD4'</li><li>'X6_MonocytesCD14'</li><li>'X7_MonocytesCD14'</li><li>'X8_Bcell'</li><li>'X9_MonocytesCD16_FCGR3A'</li></ol>\n"
      ],
      "text/latex": [
       "\\begin{enumerate*}\n",
       "\\item 'clinical\\_data'\n",
       "\\item 'cytokine'\n",
       "\\item 'neutrophil'\n",
       "\\item 'proteomics'\n",
       "\\item 'X0\\_TcellCD4'\n",
       "\\item 'X1\\_TcellCD8'\n",
       "\\item 'X10\\_Bcell'\n",
       "\\item 'X11\\_TcellCD4'\n",
       "\\item 'X12\\_MonocytesCD16\\_FCGR3A'\n",
       "\\item 'X13\\_Dendritic'\n",
       "\\item 'X2\\_TcellCD4'\n",
       "\\item 'X3\\_NK'\n",
       "\\item 'X4\\_MonocytesCD14'\n",
       "\\item 'X5\\_TcellCD4'\n",
       "\\item 'X6\\_MonocytesCD14'\n",
       "\\item 'X7\\_MonocytesCD14'\n",
       "\\item 'X8\\_Bcell'\n",
       "\\item 'X9\\_MonocytesCD16\\_FCGR3A'\n",
       "\\end{enumerate*}\n"
      ],
      "text/markdown": [
       "1. 'clinical_data'\n",
       "2. 'cytokine'\n",
       "3. 'neutrophil'\n",
       "4. 'proteomics'\n",
       "5. 'X0_TcellCD4'\n",
       "6. 'X1_TcellCD8'\n",
       "7. 'X10_Bcell'\n",
       "8. 'X11_TcellCD4'\n",
       "9. 'X12_MonocytesCD16_FCGR3A'\n",
       "10. 'X13_Dendritic'\n",
       "11. 'X2_TcellCD4'\n",
       "12. 'X3_NK'\n",
       "13. 'X4_MonocytesCD14'\n",
       "14. 'X5_TcellCD4'\n",
       "15. 'X6_MonocytesCD14'\n",
       "16. 'X7_MonocytesCD14'\n",
       "17. 'X8_Bcell'\n",
       "18. 'X9_MonocytesCD16_FCGR3A'\n",
       "\n",
       "\n"
      ],
      "text/plain": [
       " [1] \"clinical_data\"            \"cytokine\"                \n",
       " [3] \"neutrophil\"               \"proteomics\"              \n",
       " [5] \"X0_TcellCD4\"              \"X1_TcellCD8\"             \n",
       " [7] \"X10_Bcell\"                \"X11_TcellCD4\"            \n",
       " [9] \"X12_MonocytesCD16_FCGR3A\" \"X13_Dendritic\"           \n",
       "[11] \"X2_TcellCD4\"              \"X3_NK\"                   \n",
       "[13] \"X4_MonocytesCD14\"         \"X5_TcellCD4\"             \n",
       "[15] \"X6_MonocytesCD14\"         \"X7_MonocytesCD14\"        \n",
       "[17] \"X8_Bcell\"                 \"X9_MonocytesCD16_FCGR3A\" "
      ]
     },
     "metadata": {},
     "output_type": "display_data"
    }
   ],
   "source": [
    "unique(weight_data$type)"
   ]
  },
  {
   "cell_type": "code",
   "execution_count": 40,
   "id": "c6f99c8c-2cdd-4d86-97fc-3159429c0e39",
   "metadata": {},
   "outputs": [
    {
     "data": {
      "text/html": [
       "<style>\n",
       ".list-inline {list-style: none; margin:0; padding: 0}\n",
       ".list-inline>li {display: inline-block}\n",
       ".list-inline>li:not(:last-child)::after {content: \"\\00b7\"; padding: 0 .5ex}\n",
       "</style>\n",
       "<ol class=list-inline><li>'clinical_data'</li><li>'cytokine'</li><li>'neutrophil'</li><li>'proteomics'</li><li>'Bcell'</li><li>'CD14Mono'</li><li>'CD16Mono'</li><li>'CD4CTL'</li><li>'CD4Naive'</li><li>'CD4TCM'</li><li>'CD4TEM'</li><li>'CD8Naive'</li><li>'CD8TEM'</li><li>'cDC2'</li><li>'gdT'</li><li>'NK'</li><li>'Treg'</li></ol>\n"
      ],
      "text/latex": [
       "\\begin{enumerate*}\n",
       "\\item 'clinical\\_data'\n",
       "\\item 'cytokine'\n",
       "\\item 'neutrophil'\n",
       "\\item 'proteomics'\n",
       "\\item 'Bcell'\n",
       "\\item 'CD14Mono'\n",
       "\\item 'CD16Mono'\n",
       "\\item 'CD4CTL'\n",
       "\\item 'CD4Naive'\n",
       "\\item 'CD4TCM'\n",
       "\\item 'CD4TEM'\n",
       "\\item 'CD8Naive'\n",
       "\\item 'CD8TEM'\n",
       "\\item 'cDC2'\n",
       "\\item 'gdT'\n",
       "\\item 'NK'\n",
       "\\item 'Treg'\n",
       "\\end{enumerate*}\n"
      ],
      "text/markdown": [
       "1. 'clinical_data'\n",
       "2. 'cytokine'\n",
       "3. 'neutrophil'\n",
       "4. 'proteomics'\n",
       "5. 'Bcell'\n",
       "6. 'CD14Mono'\n",
       "7. 'CD16Mono'\n",
       "8. 'CD4CTL'\n",
       "9. 'CD4Naive'\n",
       "10. 'CD4TCM'\n",
       "11. 'CD4TEM'\n",
       "12. 'CD8Naive'\n",
       "13. 'CD8TEM'\n",
       "14. 'cDC2'\n",
       "15. 'gdT'\n",
       "16. 'NK'\n",
       "17. 'Treg'\n",
       "\n",
       "\n"
      ],
      "text/plain": [
       " [1] \"clinical_data\" \"cytokine\"      \"neutrophil\"    \"proteomics\"   \n",
       " [5] \"Bcell\"         \"CD14Mono\"      \"CD16Mono\"      \"CD4CTL\"       \n",
       " [9] \"CD4Naive\"      \"CD4TCM\"        \"CD4TEM\"        \"CD8Naive\"     \n",
       "[13] \"CD8TEM\"        \"cDC2\"          \"gdT\"           \"NK\"           \n",
       "[17] \"Treg\"         "
      ]
     },
     "metadata": {},
     "output_type": "display_data"
    }
   ],
   "source": [
    "unique(weight_data_azimuth$type)"
   ]
  },
  {
   "cell_type": "code",
   "execution_count": 41,
   "id": "8621a6d6-538b-42a1-a4a1-a73a5325a31f",
   "metadata": {},
   "outputs": [],
   "source": [
    "weight_data_trans = weight_data"
   ]
  },
  {
   "cell_type": "code",
   "execution_count": 42,
   "id": "8f8f1f3f-0419-4835-bb43-429c2f1a8319",
   "metadata": {},
   "outputs": [],
   "source": [
    "weight_data_trans$type = str_replace(weight_data_trans$type ,'X6_MonocytesCD14|X7_MonocytesCD14|X4_MonocytesCD14', 'CD14Mono')\n",
    "weight_data_trans$type = str_replace(weight_data_trans$type ,'X8_Bcell|X10_Bcell', 'Bcell')\n",
    "weight_data_trans$type = str_replace(weight_data_trans$type ,'X9_MonocytesCD16_FCGR3A|X12_MonocytesCD16_FCGR3A', 'CD16Mono')\n",
    "#weight_data_trans$type = str_replace(weight_data_trans$type ,'X5_TcellCD4', 'CD4Naive')\n",
    "weight_data_trans$type = str_replace(weight_data_trans$type ,'X0_TcellCD4|X2_TcellCD4', 'CD4TCM')\n",
    "#weight_data_trans$type = str_replace(weight_data_trans$type ,'X1_TcellCD8', 'CD8TEM')\n",
    "weight_data_trans$type = str_replace(weight_data_trans$type ,'X13_Dendritic', 'cDC2')\n",
    "weight_data_trans$type = str_replace(weight_data_trans$type ,'X3_NK', 'NK')"
   ]
  },
  {
   "cell_type": "code",
   "execution_count": 43,
   "id": "20900399-652f-4ea6-907c-3ff538b1ba21",
   "metadata": {},
   "outputs": [],
   "source": [
    "weight_data_trans$variable_name = str_replace(weight_data_trans$variable_name, '.*__', '')\n",
    "weight_data_azimuth$variable_name = str_replace(weight_data_azimuth$variable_name, '.*__', '')"
   ]
  },
  {
   "cell_type": "code",
   "execution_count": 44,
   "id": "1f5d299f-0674-4238-98c0-234add7bb226",
   "metadata": {},
   "outputs": [
    {
     "data": {
      "text/html": [
       "<style>\n",
       ".list-inline {list-style: none; margin:0; padding: 0}\n",
       ".list-inline>li {display: inline-block}\n",
       ".list-inline>li:not(:last-child)::after {content: \"\\00b7\"; padding: 0 .5ex}\n",
       "</style>\n",
       "<ol class=list-inline><li>'HOTAIRM1'</li><li>'MAPKAPK3'</li><li>'RNF144B'</li><li>'RRAS'</li><li>'SCIMP'</li><li>'TESC'</li></ol>\n"
      ],
      "text/latex": [
       "\\begin{enumerate*}\n",
       "\\item 'HOTAIRM1'\n",
       "\\item 'MAPKAPK3'\n",
       "\\item 'RNF144B'\n",
       "\\item 'RRAS'\n",
       "\\item 'SCIMP'\n",
       "\\item 'TESC'\n",
       "\\end{enumerate*}\n"
      ],
      "text/markdown": [
       "1. 'HOTAIRM1'\n",
       "2. 'MAPKAPK3'\n",
       "3. 'RNF144B'\n",
       "4. 'RRAS'\n",
       "5. 'SCIMP'\n",
       "6. 'TESC'\n",
       "\n",
       "\n"
      ],
      "text/plain": [
       "[1] \"HOTAIRM1\" \"MAPKAPK3\" \"RNF144B\"  \"RRAS\"     \"SCIMP\"    \"TESC\"    "
      ]
     },
     "metadata": {},
     "output_type": "display_data"
    }
   ],
   "source": [
    "tail(unique(weight_data_trans$variable_name))"
   ]
  },
  {
   "cell_type": "code",
   "execution_count": 45,
   "id": "7aae6b3a-ade0-4d09-9c9e-b61112343867",
   "metadata": {},
   "outputs": [
    {
     "data": {
      "text/html": [
       "<style>\n",
       ".list-inline {list-style: none; margin:0; padding: 0}\n",
       ".list-inline>li {display: inline-block}\n",
       ".list-inline>li:not(:last-child)::after {content: \"\\00b7\"; padding: 0 .5ex}\n",
       "</style>\n",
       "<ol class=list-inline><li>'clinical_data'</li><li>'cytokine'</li><li>'neutrophil'</li><li>'proteomics'</li><li>'CD4TCM'</li><li>'X1_TcellCD8'</li><li>'Bcell'</li><li>'X11_TcellCD4'</li><li>'CD16Mono'</li><li>'cDC2'</li><li>'NK'</li><li>'CD14Mono'</li><li>'X5_TcellCD4'</li></ol>\n"
      ],
      "text/latex": [
       "\\begin{enumerate*}\n",
       "\\item 'clinical\\_data'\n",
       "\\item 'cytokine'\n",
       "\\item 'neutrophil'\n",
       "\\item 'proteomics'\n",
       "\\item 'CD4TCM'\n",
       "\\item 'X1\\_TcellCD8'\n",
       "\\item 'Bcell'\n",
       "\\item 'X11\\_TcellCD4'\n",
       "\\item 'CD16Mono'\n",
       "\\item 'cDC2'\n",
       "\\item 'NK'\n",
       "\\item 'CD14Mono'\n",
       "\\item 'X5\\_TcellCD4'\n",
       "\\end{enumerate*}\n"
      ],
      "text/markdown": [
       "1. 'clinical_data'\n",
       "2. 'cytokine'\n",
       "3. 'neutrophil'\n",
       "4. 'proteomics'\n",
       "5. 'CD4TCM'\n",
       "6. 'X1_TcellCD8'\n",
       "7. 'Bcell'\n",
       "8. 'X11_TcellCD4'\n",
       "9. 'CD16Mono'\n",
       "10. 'cDC2'\n",
       "11. 'NK'\n",
       "12. 'CD14Mono'\n",
       "13. 'X5_TcellCD4'\n",
       "\n",
       "\n"
      ],
      "text/plain": [
       " [1] \"clinical_data\" \"cytokine\"      \"neutrophil\"    \"proteomics\"   \n",
       " [5] \"CD4TCM\"        \"X1_TcellCD8\"   \"Bcell\"         \"X11_TcellCD4\" \n",
       " [9] \"CD16Mono\"      \"cDC2\"          \"NK\"            \"CD14Mono\"     \n",
       "[13] \"X5_TcellCD4\"  "
      ]
     },
     "metadata": {},
     "output_type": "display_data"
    }
   ],
   "source": [
    "unique(weight_data_trans$type)"
   ]
  },
  {
   "cell_type": "code",
   "execution_count": 46,
   "id": "f303c1af-482c-4b81-a2a5-d4b156415696",
   "metadata": {},
   "outputs": [],
   "source": [
    "colnames(weight_data_azimuth) = paste0(colnames(weight_data_azimuth), 'azimuth')"
   ]
  },
  {
   "cell_type": "code",
   "execution_count": 47,
   "id": "805460b5-508d-4d11-b19c-46d4021368a8",
   "metadata": {},
   "outputs": [],
   "source": [
    "#colnames(weight_data_trans) = paste0(colnames(weight_data_trans), '_orig')"
   ]
  },
  {
   "cell_type": "code",
   "execution_count": 48,
   "id": "4c3065e9-b0a3-4637-af51-6dfb5bfe327e",
   "metadata": {},
   "outputs": [
    {
     "data": {
      "text/html": [
       "<table class=\"dataframe\">\n",
       "<caption>A data.frame: 2 × 22</caption>\n",
       "<thead>\n",
       "\t<tr><th></th><th scope=col>Factor1</th><th scope=col>Factor2</th><th scope=col>Factor3</th><th scope=col>Factor4</th><th scope=col>Factor5</th><th scope=col>Factor6</th><th scope=col>Factor7</th><th scope=col>Factor8</th><th scope=col>Factor9</th><th scope=col>Factor10</th><th scope=col>⋯</th><th scope=col>Factor13</th><th scope=col>Factor14</th><th scope=col>Factor15</th><th scope=col>Factor16</th><th scope=col>Factor17</th><th scope=col>Factor18</th><th scope=col>Factor19</th><th scope=col>Factor20</th><th scope=col>type</th><th scope=col>variable_name</th></tr>\n",
       "\t<tr><th></th><th scope=col>&lt;dbl&gt;</th><th scope=col>&lt;dbl&gt;</th><th scope=col>&lt;dbl&gt;</th><th scope=col>&lt;dbl&gt;</th><th scope=col>&lt;dbl&gt;</th><th scope=col>&lt;dbl&gt;</th><th scope=col>&lt;dbl&gt;</th><th scope=col>&lt;dbl&gt;</th><th scope=col>&lt;dbl&gt;</th><th scope=col>&lt;dbl&gt;</th><th scope=col>⋯</th><th scope=col>&lt;dbl&gt;</th><th scope=col>&lt;dbl&gt;</th><th scope=col>&lt;dbl&gt;</th><th scope=col>&lt;dbl&gt;</th><th scope=col>&lt;dbl&gt;</th><th scope=col>&lt;dbl&gt;</th><th scope=col>&lt;dbl&gt;</th><th scope=col>&lt;dbl&gt;</th><th scope=col>&lt;chr&gt;</th><th scope=col>&lt;chr&gt;</th></tr>\n",
       "</thead>\n",
       "<tbody>\n",
       "\t<tr><th scope=row>1</th><td>-0.13418597</td><td>0.4019222</td><td>-0.1010765</td><td>-0.002177566</td><td>-0.5093667</td><td>0.24179134</td><td>-0.03635097</td><td>0.05304519</td><td> 0.0011574664</td><td>-0.012307130</td><td>⋯</td><td>-0.1604505</td><td>-0.001418618</td><td>0.1540945</td><td> 0.003821864</td><td>-0.24205661</td><td>0.004092582</td><td>-0.0005618720</td><td>-0.2423944</td><td>clinical_data</td><td>CK   </td></tr>\n",
       "\t<tr><th scope=row>2</th><td>-0.06222621</td><td>0.2731985</td><td>-0.2000362</td><td>-0.076098327</td><td>-0.1439445</td><td>0.04289833</td><td>-0.71818597</td><td>0.18658970</td><td>-0.0007753517</td><td>-0.003074308</td><td>⋯</td><td>-0.6107162</td><td> 0.002499494</td><td>0.3864464</td><td>-0.001090137</td><td>-0.08311704</td><td>0.009503498</td><td>-0.0003621744</td><td> 0.2060158</td><td>clinical_data</td><td>CK_MB</td></tr>\n",
       "</tbody>\n",
       "</table>\n"
      ],
      "text/latex": [
       "A data.frame: 2 × 22\n",
       "\\begin{tabular}{r|lllllllllllllllllllll}\n",
       "  & Factor1 & Factor2 & Factor3 & Factor4 & Factor5 & Factor6 & Factor7 & Factor8 & Factor9 & Factor10 & ⋯ & Factor13 & Factor14 & Factor15 & Factor16 & Factor17 & Factor18 & Factor19 & Factor20 & type & variable\\_name\\\\\n",
       "  & <dbl> & <dbl> & <dbl> & <dbl> & <dbl> & <dbl> & <dbl> & <dbl> & <dbl> & <dbl> & ⋯ & <dbl> & <dbl> & <dbl> & <dbl> & <dbl> & <dbl> & <dbl> & <dbl> & <chr> & <chr>\\\\\n",
       "\\hline\n",
       "\t1 & -0.13418597 & 0.4019222 & -0.1010765 & -0.002177566 & -0.5093667 & 0.24179134 & -0.03635097 & 0.05304519 &  0.0011574664 & -0.012307130 & ⋯ & -0.1604505 & -0.001418618 & 0.1540945 &  0.003821864 & -0.24205661 & 0.004092582 & -0.0005618720 & -0.2423944 & clinical\\_data & CK   \\\\\n",
       "\t2 & -0.06222621 & 0.2731985 & -0.2000362 & -0.076098327 & -0.1439445 & 0.04289833 & -0.71818597 & 0.18658970 & -0.0007753517 & -0.003074308 & ⋯ & -0.6107162 &  0.002499494 & 0.3864464 & -0.001090137 & -0.08311704 & 0.009503498 & -0.0003621744 &  0.2060158 & clinical\\_data & CK\\_MB\\\\\n",
       "\\end{tabular}\n"
      ],
      "text/markdown": [
       "\n",
       "A data.frame: 2 × 22\n",
       "\n",
       "| <!--/--> | Factor1 &lt;dbl&gt; | Factor2 &lt;dbl&gt; | Factor3 &lt;dbl&gt; | Factor4 &lt;dbl&gt; | Factor5 &lt;dbl&gt; | Factor6 &lt;dbl&gt; | Factor7 &lt;dbl&gt; | Factor8 &lt;dbl&gt; | Factor9 &lt;dbl&gt; | Factor10 &lt;dbl&gt; | ⋯ ⋯ | Factor13 &lt;dbl&gt; | Factor14 &lt;dbl&gt; | Factor15 &lt;dbl&gt; | Factor16 &lt;dbl&gt; | Factor17 &lt;dbl&gt; | Factor18 &lt;dbl&gt; | Factor19 &lt;dbl&gt; | Factor20 &lt;dbl&gt; | type &lt;chr&gt; | variable_name &lt;chr&gt; |\n",
       "|---|---|---|---|---|---|---|---|---|---|---|---|---|---|---|---|---|---|---|---|---|---|\n",
       "| 1 | -0.13418597 | 0.4019222 | -0.1010765 | -0.002177566 | -0.5093667 | 0.24179134 | -0.03635097 | 0.05304519 |  0.0011574664 | -0.012307130 | ⋯ | -0.1604505 | -0.001418618 | 0.1540945 |  0.003821864 | -0.24205661 | 0.004092582 | -0.0005618720 | -0.2423944 | clinical_data | CK    |\n",
       "| 2 | -0.06222621 | 0.2731985 | -0.2000362 | -0.076098327 | -0.1439445 | 0.04289833 | -0.71818597 | 0.18658970 | -0.0007753517 | -0.003074308 | ⋯ | -0.6107162 |  0.002499494 | 0.3864464 | -0.001090137 | -0.08311704 | 0.009503498 | -0.0003621744 |  0.2060158 | clinical_data | CK_MB |\n",
       "\n"
      ],
      "text/plain": [
       "  Factor1     Factor2   Factor3    Factor4      Factor5    Factor6   \n",
       "1 -0.13418597 0.4019222 -0.1010765 -0.002177566 -0.5093667 0.24179134\n",
       "2 -0.06222621 0.2731985 -0.2000362 -0.076098327 -0.1439445 0.04289833\n",
       "  Factor7     Factor8    Factor9       Factor10     ⋯ Factor13   Factor14    \n",
       "1 -0.03635097 0.05304519  0.0011574664 -0.012307130 ⋯ -0.1604505 -0.001418618\n",
       "2 -0.71818597 0.18658970 -0.0007753517 -0.003074308 ⋯ -0.6107162  0.002499494\n",
       "  Factor15  Factor16     Factor17    Factor18    Factor19      Factor20  \n",
       "1 0.1540945  0.003821864 -0.24205661 0.004092582 -0.0005618720 -0.2423944\n",
       "2 0.3864464 -0.001090137 -0.08311704 0.009503498 -0.0003621744  0.2060158\n",
       "  type          variable_name\n",
       "1 clinical_data CK           \n",
       "2 clinical_data CK_MB        "
      ]
     },
     "metadata": {},
     "output_type": "display_data"
    }
   ],
   "source": [
    "head(weight_data_trans,2)"
   ]
  },
  {
   "cell_type": "code",
   "execution_count": 49,
   "id": "995e4dc7-5df3-41e3-a01c-3a4e4f2bb6f3",
   "metadata": {},
   "outputs": [],
   "source": [
    "weight_data_merge = merge(weight_data_azimuth, weight_data_trans, by.x = c('typeazimuth', 'variable_nameazimuth'), by.y = c('type', 'variable_name'))"
   ]
  },
  {
   "cell_type": "code",
   "execution_count": 50,
   "id": "bad711ee-0809-4b15-b4fc-8157946458f4",
   "metadata": {},
   "outputs": [
    {
     "data": {
      "text/html": [
       "<table class=\"dataframe\">\n",
       "<caption>A data.frame: 6 × 42</caption>\n",
       "<thead>\n",
       "\t<tr><th></th><th scope=col>typeazimuth</th><th scope=col>variable_nameazimuth</th><th scope=col>Factor1azimuth</th><th scope=col>Factor2azimuth</th><th scope=col>Factor3azimuth</th><th scope=col>Factor4azimuth</th><th scope=col>Factor5azimuth</th><th scope=col>Factor6azimuth</th><th scope=col>Factor7azimuth</th><th scope=col>Factor8azimuth</th><th scope=col>⋯</th><th scope=col>Factor11</th><th scope=col>Factor12</th><th scope=col>Factor13</th><th scope=col>Factor14</th><th scope=col>Factor15</th><th scope=col>Factor16</th><th scope=col>Factor17</th><th scope=col>Factor18</th><th scope=col>Factor19</th><th scope=col>Factor20</th></tr>\n",
       "\t<tr><th></th><th scope=col>&lt;chr&gt;</th><th scope=col>&lt;chr&gt;</th><th scope=col>&lt;dbl&gt;</th><th scope=col>&lt;dbl&gt;</th><th scope=col>&lt;dbl&gt;</th><th scope=col>&lt;dbl&gt;</th><th scope=col>&lt;dbl&gt;</th><th scope=col>&lt;dbl&gt;</th><th scope=col>&lt;dbl&gt;</th><th scope=col>&lt;dbl&gt;</th><th scope=col>⋯</th><th scope=col>&lt;dbl&gt;</th><th scope=col>&lt;dbl&gt;</th><th scope=col>&lt;dbl&gt;</th><th scope=col>&lt;dbl&gt;</th><th scope=col>&lt;dbl&gt;</th><th scope=col>&lt;dbl&gt;</th><th scope=col>&lt;dbl&gt;</th><th scope=col>&lt;dbl&gt;</th><th scope=col>&lt;dbl&gt;</th><th scope=col>&lt;dbl&gt;</th></tr>\n",
       "</thead>\n",
       "<tbody>\n",
       "\t<tr><th scope=row>1</th><td>Bcell</td><td>ACTB </td><td>-0.17926582</td><td> 0.23935213</td><td>0.1632959</td><td>-0.04758595</td><td> 0.13904403</td><td>-0.06905755</td><td>1.1085302</td><td> 0.012131219</td><td>⋯</td><td> 0.0140451645</td><td>-0.004131038</td><td>-0.026844977</td><td>0.9120060</td><td> 0.01636374</td><td>-0.10871600</td><td>-0.005542351</td><td>-0.173012554</td><td>-0.57974637</td><td> 0.105708322</td></tr>\n",
       "\t<tr><th scope=row>2</th><td>Bcell</td><td>ACTB </td><td>-0.17926582</td><td> 0.23935213</td><td>0.1632959</td><td>-0.04758595</td><td> 0.13904403</td><td>-0.06905755</td><td>1.1085302</td><td> 0.012131219</td><td>⋯</td><td>-0.0008810978</td><td> 0.294204278</td><td>-0.267852267</td><td>1.3176540</td><td>-0.02911134</td><td> 0.01316993</td><td>-0.023397097</td><td>-0.378974373</td><td>-0.20389033</td><td> 0.004895365</td></tr>\n",
       "\t<tr><th scope=row>3</th><td>Bcell</td><td>ACTG1</td><td>-0.04518202</td><td>-0.01996126</td><td>0.1115015</td><td>-0.01237420</td><td> 0.07304104</td><td>-0.07186289</td><td>0.6682053</td><td> 0.002994229</td><td>⋯</td><td> 0.0673971522</td><td>-0.221639774</td><td>-0.054229943</td><td>0.7525266</td><td>-0.01035904</td><td> 0.01435287</td><td>-0.015438406</td><td>-0.100619316</td><td> 0.22790545</td><td>-0.005311299</td></tr>\n",
       "\t<tr><th scope=row>4</th><td>Bcell</td><td>ACTG1</td><td>-0.04518202</td><td>-0.01996126</td><td>0.1115015</td><td>-0.01237420</td><td> 0.07304104</td><td>-0.07186289</td><td>0.6682053</td><td> 0.002994229</td><td>⋯</td><td>-0.0081623343</td><td>-0.114054364</td><td>-0.001511187</td><td>1.4787392</td><td>-0.01853156</td><td> 0.53158093</td><td>-0.117741723</td><td> 0.003748979</td><td> 0.29387669</td><td>-0.037367218</td></tr>\n",
       "\t<tr><th scope=row>5</th><td>Bcell</td><td>ACTR2</td><td>-0.05372623</td><td> 0.25175656</td><td>0.0753997</td><td>-0.17340882</td><td>-0.04958017</td><td> 0.02613286</td><td>0.5187490</td><td>-0.011211618</td><td>⋯</td><td> 0.0609212961</td><td>-0.275872646</td><td>-0.063271598</td><td>0.2906353</td><td>-0.06576153</td><td> 0.02557269</td><td>-0.005543868</td><td> 0.004459014</td><td>-0.44082543</td><td>-0.058009360</td></tr>\n",
       "\t<tr><th scope=row>6</th><td>Bcell</td><td>ACTR2</td><td>-0.05372623</td><td> 0.25175656</td><td>0.0753997</td><td>-0.17340882</td><td>-0.04958017</td><td> 0.02613286</td><td>0.5187490</td><td>-0.011211618</td><td>⋯</td><td>-0.0004303066</td><td>-0.351931947</td><td>-0.072134675</td><td>0.5533284</td><td>-0.01917553</td><td>-0.07736577</td><td> 0.010851948</td><td> 0.486685157</td><td> 0.09560492</td><td>-0.049079270</td></tr>\n",
       "</tbody>\n",
       "</table>\n"
      ],
      "text/latex": [
       "A data.frame: 6 × 42\n",
       "\\begin{tabular}{r|lllllllllllllllllllll}\n",
       "  & typeazimuth & variable\\_nameazimuth & Factor1azimuth & Factor2azimuth & Factor3azimuth & Factor4azimuth & Factor5azimuth & Factor6azimuth & Factor7azimuth & Factor8azimuth & ⋯ & Factor11 & Factor12 & Factor13 & Factor14 & Factor15 & Factor16 & Factor17 & Factor18 & Factor19 & Factor20\\\\\n",
       "  & <chr> & <chr> & <dbl> & <dbl> & <dbl> & <dbl> & <dbl> & <dbl> & <dbl> & <dbl> & ⋯ & <dbl> & <dbl> & <dbl> & <dbl> & <dbl> & <dbl> & <dbl> & <dbl> & <dbl> & <dbl>\\\\\n",
       "\\hline\n",
       "\t1 & Bcell & ACTB  & -0.17926582 &  0.23935213 & 0.1632959 & -0.04758595 &  0.13904403 & -0.06905755 & 1.1085302 &  0.012131219 & ⋯ &  0.0140451645 & -0.004131038 & -0.026844977 & 0.9120060 &  0.01636374 & -0.10871600 & -0.005542351 & -0.173012554 & -0.57974637 &  0.105708322\\\\\n",
       "\t2 & Bcell & ACTB  & -0.17926582 &  0.23935213 & 0.1632959 & -0.04758595 &  0.13904403 & -0.06905755 & 1.1085302 &  0.012131219 & ⋯ & -0.0008810978 &  0.294204278 & -0.267852267 & 1.3176540 & -0.02911134 &  0.01316993 & -0.023397097 & -0.378974373 & -0.20389033 &  0.004895365\\\\\n",
       "\t3 & Bcell & ACTG1 & -0.04518202 & -0.01996126 & 0.1115015 & -0.01237420 &  0.07304104 & -0.07186289 & 0.6682053 &  0.002994229 & ⋯ &  0.0673971522 & -0.221639774 & -0.054229943 & 0.7525266 & -0.01035904 &  0.01435287 & -0.015438406 & -0.100619316 &  0.22790545 & -0.005311299\\\\\n",
       "\t4 & Bcell & ACTG1 & -0.04518202 & -0.01996126 & 0.1115015 & -0.01237420 &  0.07304104 & -0.07186289 & 0.6682053 &  0.002994229 & ⋯ & -0.0081623343 & -0.114054364 & -0.001511187 & 1.4787392 & -0.01853156 &  0.53158093 & -0.117741723 &  0.003748979 &  0.29387669 & -0.037367218\\\\\n",
       "\t5 & Bcell & ACTR2 & -0.05372623 &  0.25175656 & 0.0753997 & -0.17340882 & -0.04958017 &  0.02613286 & 0.5187490 & -0.011211618 & ⋯ &  0.0609212961 & -0.275872646 & -0.063271598 & 0.2906353 & -0.06576153 &  0.02557269 & -0.005543868 &  0.004459014 & -0.44082543 & -0.058009360\\\\\n",
       "\t6 & Bcell & ACTR2 & -0.05372623 &  0.25175656 & 0.0753997 & -0.17340882 & -0.04958017 &  0.02613286 & 0.5187490 & -0.011211618 & ⋯ & -0.0004303066 & -0.351931947 & -0.072134675 & 0.5533284 & -0.01917553 & -0.07736577 &  0.010851948 &  0.486685157 &  0.09560492 & -0.049079270\\\\\n",
       "\\end{tabular}\n"
      ],
      "text/markdown": [
       "\n",
       "A data.frame: 6 × 42\n",
       "\n",
       "| <!--/--> | typeazimuth &lt;chr&gt; | variable_nameazimuth &lt;chr&gt; | Factor1azimuth &lt;dbl&gt; | Factor2azimuth &lt;dbl&gt; | Factor3azimuth &lt;dbl&gt; | Factor4azimuth &lt;dbl&gt; | Factor5azimuth &lt;dbl&gt; | Factor6azimuth &lt;dbl&gt; | Factor7azimuth &lt;dbl&gt; | Factor8azimuth &lt;dbl&gt; | ⋯ ⋯ | Factor11 &lt;dbl&gt; | Factor12 &lt;dbl&gt; | Factor13 &lt;dbl&gt; | Factor14 &lt;dbl&gt; | Factor15 &lt;dbl&gt; | Factor16 &lt;dbl&gt; | Factor17 &lt;dbl&gt; | Factor18 &lt;dbl&gt; | Factor19 &lt;dbl&gt; | Factor20 &lt;dbl&gt; |\n",
       "|---|---|---|---|---|---|---|---|---|---|---|---|---|---|---|---|---|---|---|---|---|---|\n",
       "| 1 | Bcell | ACTB  | -0.17926582 |  0.23935213 | 0.1632959 | -0.04758595 |  0.13904403 | -0.06905755 | 1.1085302 |  0.012131219 | ⋯ |  0.0140451645 | -0.004131038 | -0.026844977 | 0.9120060 |  0.01636374 | -0.10871600 | -0.005542351 | -0.173012554 | -0.57974637 |  0.105708322 |\n",
       "| 2 | Bcell | ACTB  | -0.17926582 |  0.23935213 | 0.1632959 | -0.04758595 |  0.13904403 | -0.06905755 | 1.1085302 |  0.012131219 | ⋯ | -0.0008810978 |  0.294204278 | -0.267852267 | 1.3176540 | -0.02911134 |  0.01316993 | -0.023397097 | -0.378974373 | -0.20389033 |  0.004895365 |\n",
       "| 3 | Bcell | ACTG1 | -0.04518202 | -0.01996126 | 0.1115015 | -0.01237420 |  0.07304104 | -0.07186289 | 0.6682053 |  0.002994229 | ⋯ |  0.0673971522 | -0.221639774 | -0.054229943 | 0.7525266 | -0.01035904 |  0.01435287 | -0.015438406 | -0.100619316 |  0.22790545 | -0.005311299 |\n",
       "| 4 | Bcell | ACTG1 | -0.04518202 | -0.01996126 | 0.1115015 | -0.01237420 |  0.07304104 | -0.07186289 | 0.6682053 |  0.002994229 | ⋯ | -0.0081623343 | -0.114054364 | -0.001511187 | 1.4787392 | -0.01853156 |  0.53158093 | -0.117741723 |  0.003748979 |  0.29387669 | -0.037367218 |\n",
       "| 5 | Bcell | ACTR2 | -0.05372623 |  0.25175656 | 0.0753997 | -0.17340882 | -0.04958017 |  0.02613286 | 0.5187490 | -0.011211618 | ⋯ |  0.0609212961 | -0.275872646 | -0.063271598 | 0.2906353 | -0.06576153 |  0.02557269 | -0.005543868 |  0.004459014 | -0.44082543 | -0.058009360 |\n",
       "| 6 | Bcell | ACTR2 | -0.05372623 |  0.25175656 | 0.0753997 | -0.17340882 | -0.04958017 |  0.02613286 | 0.5187490 | -0.011211618 | ⋯ | -0.0004303066 | -0.351931947 | -0.072134675 | 0.5533284 | -0.01917553 | -0.07736577 |  0.010851948 |  0.486685157 |  0.09560492 | -0.049079270 |\n",
       "\n"
      ],
      "text/plain": [
       "  typeazimuth variable_nameazimuth Factor1azimuth Factor2azimuth Factor3azimuth\n",
       "1 Bcell       ACTB                 -0.17926582     0.23935213    0.1632959     \n",
       "2 Bcell       ACTB                 -0.17926582     0.23935213    0.1632959     \n",
       "3 Bcell       ACTG1                -0.04518202    -0.01996126    0.1115015     \n",
       "4 Bcell       ACTG1                -0.04518202    -0.01996126    0.1115015     \n",
       "5 Bcell       ACTR2                -0.05372623     0.25175656    0.0753997     \n",
       "6 Bcell       ACTR2                -0.05372623     0.25175656    0.0753997     \n",
       "  Factor4azimuth Factor5azimuth Factor6azimuth Factor7azimuth Factor8azimuth ⋯\n",
       "1 -0.04758595     0.13904403    -0.06905755    1.1085302       0.012131219   ⋯\n",
       "2 -0.04758595     0.13904403    -0.06905755    1.1085302       0.012131219   ⋯\n",
       "3 -0.01237420     0.07304104    -0.07186289    0.6682053       0.002994229   ⋯\n",
       "4 -0.01237420     0.07304104    -0.07186289    0.6682053       0.002994229   ⋯\n",
       "5 -0.17340882    -0.04958017     0.02613286    0.5187490      -0.011211618   ⋯\n",
       "6 -0.17340882    -0.04958017     0.02613286    0.5187490      -0.011211618   ⋯\n",
       "  Factor11      Factor12     Factor13     Factor14  Factor15    Factor16   \n",
       "1  0.0140451645 -0.004131038 -0.026844977 0.9120060  0.01636374 -0.10871600\n",
       "2 -0.0008810978  0.294204278 -0.267852267 1.3176540 -0.02911134  0.01316993\n",
       "3  0.0673971522 -0.221639774 -0.054229943 0.7525266 -0.01035904  0.01435287\n",
       "4 -0.0081623343 -0.114054364 -0.001511187 1.4787392 -0.01853156  0.53158093\n",
       "5  0.0609212961 -0.275872646 -0.063271598 0.2906353 -0.06576153  0.02557269\n",
       "6 -0.0004303066 -0.351931947 -0.072134675 0.5533284 -0.01917553 -0.07736577\n",
       "  Factor17     Factor18     Factor19    Factor20    \n",
       "1 -0.005542351 -0.173012554 -0.57974637  0.105708322\n",
       "2 -0.023397097 -0.378974373 -0.20389033  0.004895365\n",
       "3 -0.015438406 -0.100619316  0.22790545 -0.005311299\n",
       "4 -0.117741723  0.003748979  0.29387669 -0.037367218\n",
       "5 -0.005543868  0.004459014 -0.44082543 -0.058009360\n",
       "6  0.010851948  0.486685157  0.09560492 -0.049079270"
      ]
     },
     "metadata": {},
     "output_type": "display_data"
    }
   ],
   "source": [
    "head(weight_data_merge)"
   ]
  },
  {
   "cell_type": "code",
   "execution_count": 51,
   "id": "cc9a6b0d-3230-4484-805c-6dd91de07a9a",
   "metadata": {},
   "outputs": [
    {
     "data": {
      "text/html": [
       "<style>\n",
       ".list-inline {list-style: none; margin:0; padding: 0}\n",
       ".list-inline>li {display: inline-block}\n",
       ".list-inline>li:not(:last-child)::after {content: \"\\00b7\"; padding: 0 .5ex}\n",
       "</style>\n",
       "<ol class=list-inline><li>'Bcell'</li><li>'CD14Mono'</li><li>'CD16Mono'</li><li>'CD4TCM'</li><li>'cDC2'</li><li>'clinical_data'</li><li>'cytokine'</li><li>'neutrophil'</li><li>'NK'</li><li>'proteomics'</li></ol>\n"
      ],
      "text/latex": [
       "\\begin{enumerate*}\n",
       "\\item 'Bcell'\n",
       "\\item 'CD14Mono'\n",
       "\\item 'CD16Mono'\n",
       "\\item 'CD4TCM'\n",
       "\\item 'cDC2'\n",
       "\\item 'clinical\\_data'\n",
       "\\item 'cytokine'\n",
       "\\item 'neutrophil'\n",
       "\\item 'NK'\n",
       "\\item 'proteomics'\n",
       "\\end{enumerate*}\n"
      ],
      "text/markdown": [
       "1. 'Bcell'\n",
       "2. 'CD14Mono'\n",
       "3. 'CD16Mono'\n",
       "4. 'CD4TCM'\n",
       "5. 'cDC2'\n",
       "6. 'clinical_data'\n",
       "7. 'cytokine'\n",
       "8. 'neutrophil'\n",
       "9. 'NK'\n",
       "10. 'proteomics'\n",
       "\n",
       "\n"
      ],
      "text/plain": [
       " [1] \"Bcell\"         \"CD14Mono\"      \"CD16Mono\"      \"CD4TCM\"       \n",
       " [5] \"cDC2\"          \"clinical_data\" \"cytokine\"      \"neutrophil\"   \n",
       " [9] \"NK\"            \"proteomics\"   "
      ]
     },
     "metadata": {},
     "output_type": "display_data"
    }
   ],
   "source": [
    "unique(weight_data_merge$typeazimuth)"
   ]
  },
  {
   "cell_type": "code",
   "execution_count": 52,
   "id": "41f33fdc-40b1-4d2d-9d3a-35bd51e88d6f",
   "metadata": {},
   "outputs": [
    {
     "data": {
      "text/html": [
       "10460"
      ],
      "text/latex": [
       "10460"
      ],
      "text/markdown": [
       "10460"
      ],
      "text/plain": [
       "[1] 10460"
      ]
     },
     "metadata": {},
     "output_type": "display_data"
    }
   ],
   "source": [
    "nrow(weight_data_merge)"
   ]
  },
  {
   "cell_type": "code",
   "execution_count": 53,
   "id": "55f00655-4527-4a40-97d0-30bb4f06887f",
   "metadata": {},
   "outputs": [],
   "source": [
    "weight_data_merge$typeazimuth = NULL\n",
    "weight_data_merge$variable_nameazimuth = NULL"
   ]
  },
  {
   "cell_type": "code",
   "execution_count": 54,
   "id": "fd9843ce-0c09-46e8-8c2b-0c79e212ee24",
   "metadata": {},
   "outputs": [],
   "source": [
    "correlations = cor(weight_data_merge ,method = 'pearson',  use = \"pairwise.complete.obs\")"
   ]
  },
  {
   "cell_type": "code",
   "execution_count": 55,
   "id": "86d4b938-a8e4-4298-ad0b-0aa48c668fbe",
   "metadata": {},
   "outputs": [],
   "source": [
    "correlations = correlations[rownames(correlations) %in% colnames(weight_data_azimuth),colnames(correlations) %in% colnames(weight_data_trans)] "
   ]
  },
  {
   "cell_type": "code",
   "execution_count": 56,
   "id": "45c2077e-a326-4556-a040-49f060905d03",
   "metadata": {},
   "outputs": [
    {
     "data": {
      "text/html": [
       "<table class=\"dataframe\">\n",
       "<caption>A matrix: 2 × 20 of type dbl</caption>\n",
       "<thead>\n",
       "\t<tr><th></th><th scope=col>Factor1</th><th scope=col>Factor2</th><th scope=col>Factor3</th><th scope=col>Factor4</th><th scope=col>Factor5</th><th scope=col>Factor6</th><th scope=col>Factor7</th><th scope=col>Factor8</th><th scope=col>Factor9</th><th scope=col>Factor10</th><th scope=col>Factor11</th><th scope=col>Factor12</th><th scope=col>Factor13</th><th scope=col>Factor14</th><th scope=col>Factor15</th><th scope=col>Factor16</th><th scope=col>Factor17</th><th scope=col>Factor18</th><th scope=col>Factor19</th><th scope=col>Factor20</th></tr>\n",
       "</thead>\n",
       "<tbody>\n",
       "\t<tr><th scope=row>Factor1azimuth</th><td> 0.8954007</td><td>0.2541545</td><td> 0.01615917</td><td>-0.00397337</td><td>-0.01532045</td><td>-0.06825238</td><td>0.03791852</td><td>-0.21145964</td><td>0.06675281</td><td>0.04495056</td><td>-0.0002531821</td><td> 0.0066758771</td><td> 0.06063647</td><td>0.07395837</td><td>-0.04176721</td><td>0.03466254</td><td>-0.016114619</td><td>-0.033586188</td><td>0.003683281</td><td>0.00342689</td></tr>\n",
       "\t<tr><th scope=row>Factor2azimuth</th><td>-0.3299074</td><td>0.8522335</td><td>-0.12428970</td><td>-0.07566378</td><td> 0.09034627</td><td> 0.05552482</td><td>0.02764990</td><td>-0.09813437</td><td>0.01265649</td><td>0.07204908</td><td>-0.0020821843</td><td>-0.0003415273</td><td>-0.09668267</td><td>0.06358152</td><td> 0.07687019</td><td>0.03205759</td><td>-0.006268218</td><td>-0.008442945</td><td>0.005576086</td><td>0.01462908</td></tr>\n",
       "</tbody>\n",
       "</table>\n"
      ],
      "text/latex": [
       "A matrix: 2 × 20 of type dbl\n",
       "\\begin{tabular}{r|llllllllllllllllllll}\n",
       "  & Factor1 & Factor2 & Factor3 & Factor4 & Factor5 & Factor6 & Factor7 & Factor8 & Factor9 & Factor10 & Factor11 & Factor12 & Factor13 & Factor14 & Factor15 & Factor16 & Factor17 & Factor18 & Factor19 & Factor20\\\\\n",
       "\\hline\n",
       "\tFactor1azimuth &  0.8954007 & 0.2541545 &  0.01615917 & -0.00397337 & -0.01532045 & -0.06825238 & 0.03791852 & -0.21145964 & 0.06675281 & 0.04495056 & -0.0002531821 &  0.0066758771 &  0.06063647 & 0.07395837 & -0.04176721 & 0.03466254 & -0.016114619 & -0.033586188 & 0.003683281 & 0.00342689\\\\\n",
       "\tFactor2azimuth & -0.3299074 & 0.8522335 & -0.12428970 & -0.07566378 &  0.09034627 &  0.05552482 & 0.02764990 & -0.09813437 & 0.01265649 & 0.07204908 & -0.0020821843 & -0.0003415273 & -0.09668267 & 0.06358152 &  0.07687019 & 0.03205759 & -0.006268218 & -0.008442945 & 0.005576086 & 0.01462908\\\\\n",
       "\\end{tabular}\n"
      ],
      "text/markdown": [
       "\n",
       "A matrix: 2 × 20 of type dbl\n",
       "\n",
       "| <!--/--> | Factor1 | Factor2 | Factor3 | Factor4 | Factor5 | Factor6 | Factor7 | Factor8 | Factor9 | Factor10 | Factor11 | Factor12 | Factor13 | Factor14 | Factor15 | Factor16 | Factor17 | Factor18 | Factor19 | Factor20 |\n",
       "|---|---|---|---|---|---|---|---|---|---|---|---|---|---|---|---|---|---|---|---|---|\n",
       "| Factor1azimuth |  0.8954007 | 0.2541545 |  0.01615917 | -0.00397337 | -0.01532045 | -0.06825238 | 0.03791852 | -0.21145964 | 0.06675281 | 0.04495056 | -0.0002531821 |  0.0066758771 |  0.06063647 | 0.07395837 | -0.04176721 | 0.03466254 | -0.016114619 | -0.033586188 | 0.003683281 | 0.00342689 |\n",
       "| Factor2azimuth | -0.3299074 | 0.8522335 | -0.12428970 | -0.07566378 |  0.09034627 |  0.05552482 | 0.02764990 | -0.09813437 | 0.01265649 | 0.07204908 | -0.0020821843 | -0.0003415273 | -0.09668267 | 0.06358152 |  0.07687019 | 0.03205759 | -0.006268218 | -0.008442945 | 0.005576086 | 0.01462908 |\n",
       "\n"
      ],
      "text/plain": [
       "               Factor1    Factor2   Factor3     Factor4     Factor5    \n",
       "Factor1azimuth  0.8954007 0.2541545  0.01615917 -0.00397337 -0.01532045\n",
       "Factor2azimuth -0.3299074 0.8522335 -0.12428970 -0.07566378  0.09034627\n",
       "               Factor6     Factor7    Factor8     Factor9    Factor10  \n",
       "Factor1azimuth -0.06825238 0.03791852 -0.21145964 0.06675281 0.04495056\n",
       "Factor2azimuth  0.05552482 0.02764990 -0.09813437 0.01265649 0.07204908\n",
       "               Factor11      Factor12      Factor13    Factor14   Factor15   \n",
       "Factor1azimuth -0.0002531821  0.0066758771  0.06063647 0.07395837 -0.04176721\n",
       "Factor2azimuth -0.0020821843 -0.0003415273 -0.09668267 0.06358152  0.07687019\n",
       "               Factor16   Factor17     Factor18     Factor19    Factor20  \n",
       "Factor1azimuth 0.03466254 -0.016114619 -0.033586188 0.003683281 0.00342689\n",
       "Factor2azimuth 0.03205759 -0.006268218 -0.008442945 0.005576086 0.01462908"
      ]
     },
     "metadata": {},
     "output_type": "display_data"
    }
   ],
   "source": [
    "head(correlations,2)"
   ]
  },
  {
   "cell_type": "code",
   "execution_count": 57,
   "id": "676898e6-a8c2-4432-bbab-4b04d4809768",
   "metadata": {},
   "outputs": [],
   "source": [
    "#### Plot complete explained variance"
   ]
  },
  {
   "cell_type": "code",
   "execution_count": 58,
   "id": "bd6231b3-25a9-417e-871a-b889e63e8b0d",
   "metadata": {},
   "outputs": [],
   "source": [
    "figure_name = \"SUPP5_Correlation_Weight_Values_Mofa_Models\""
   ]
  },
  {
   "cell_type": "code",
   "execution_count": 59,
   "id": "ef0f6958-940b-4da1-bc86-f7e4a9707b8d",
   "metadata": {},
   "outputs": [],
   "source": [
    "# Sizes of the plot\n",
    "width_par = 8\n",
    "height_par = 5.5"
   ]
  },
  {
   "cell_type": "code",
   "execution_count": 60,
   "id": "8184c7a3-d33a-4cb1-b523-83d48f691c1a",
   "metadata": {},
   "outputs": [
    {
     "data": {
      "text/html": [
       "<strong>png:</strong> 2"
      ],
      "text/latex": [
       "\\textbf{png:} 2"
      ],
      "text/markdown": [
       "**png:** 2"
      ],
      "text/plain": [
       "png \n",
       "  2 "
      ]
     },
     "metadata": {},
     "output_type": "display_data"
    }
   ],
   "source": [
    "pdf(paste0('figures/G_Azimuth/', figure_name, name2, '.pdf'), width =width_par, height =height_par)\n",
    "correlation_plot = corrplot(correlations, method = 'number', title = '',  pch =4,   mar=c(0,0,2,0), number.cex = 0.5, tl.cex = 0.5, cl.cex = 0.5)\n",
    "dev.off()"
   ]
  },
  {
   "cell_type": "markdown",
   "id": "f7cbe44a-4339-41be-b706-7838c8ab7436",
   "metadata": {
    "tags": []
   },
   "source": [
    "# Extract top features TP"
   ]
  },
  {
   "cell_type": "code",
   "execution_count": 61,
   "id": "e2f9341c-31e7-4827-b596-3fe0865b12ed",
   "metadata": {},
   "outputs": [
    {
     "data": {
      "text/html": [
       "9145"
      ],
      "text/latex": [
       "9145"
      ],
      "text/markdown": [
       "9145"
      ],
      "text/plain": [
       "[1] 9145"
      ]
     },
     "metadata": {},
     "output_type": "display_data"
    }
   ],
   "source": [
    "nrow(weight_data_azimuth)"
   ]
  },
  {
   "cell_type": "code",
   "execution_count": 62,
   "id": "c7132b61-e872-4dfc-9b06-d718fc15dd0c",
   "metadata": {},
   "outputs": [
    {
     "data": {
      "text/html": [
       "<table class=\"dataframe\">\n",
       "<caption>A data.frame: 2 × 22</caption>\n",
       "<thead>\n",
       "\t<tr><th></th><th scope=col>Factor1azimuth</th><th scope=col>Factor2azimuth</th><th scope=col>Factor3azimuth</th><th scope=col>Factor4azimuth</th><th scope=col>Factor5azimuth</th><th scope=col>Factor6azimuth</th><th scope=col>Factor7azimuth</th><th scope=col>Factor8azimuth</th><th scope=col>Factor9azimuth</th><th scope=col>Factor10azimuth</th><th scope=col>⋯</th><th scope=col>Factor13azimuth</th><th scope=col>Factor14azimuth</th><th scope=col>Factor15azimuth</th><th scope=col>Factor16azimuth</th><th scope=col>Factor17azimuth</th><th scope=col>Factor18azimuth</th><th scope=col>Factor19azimuth</th><th scope=col>Factor20azimuth</th><th scope=col>typeazimuth</th><th scope=col>variable_nameazimuth</th></tr>\n",
       "\t<tr><th></th><th scope=col>&lt;dbl&gt;</th><th scope=col>&lt;dbl&gt;</th><th scope=col>&lt;dbl&gt;</th><th scope=col>&lt;dbl&gt;</th><th scope=col>&lt;dbl&gt;</th><th scope=col>&lt;dbl&gt;</th><th scope=col>&lt;dbl&gt;</th><th scope=col>&lt;dbl&gt;</th><th scope=col>&lt;dbl&gt;</th><th scope=col>&lt;dbl&gt;</th><th scope=col>⋯</th><th scope=col>&lt;dbl&gt;</th><th scope=col>&lt;dbl&gt;</th><th scope=col>&lt;dbl&gt;</th><th scope=col>&lt;dbl&gt;</th><th scope=col>&lt;dbl&gt;</th><th scope=col>&lt;dbl&gt;</th><th scope=col>&lt;dbl&gt;</th><th scope=col>&lt;dbl&gt;</th><th scope=col>&lt;chr&gt;</th><th scope=col>&lt;chr&gt;</th></tr>\n",
       "</thead>\n",
       "<tbody>\n",
       "\t<tr><th scope=row>1</th><td>-0.020691979</td><td>0.4295154</td><td>0.02775631</td><td>-0.02712267</td><td> 0.010438305</td><td>-0.4194796</td><td>0.01169812</td><td>-0.11248843</td><td>0.2867520</td><td> 0.0143456634</td><td>⋯</td><td>0.03096640</td><td>0.1001090</td><td>0.8842042</td><td>-0.002553659</td><td>-0.0002680875</td><td>-0.009308180</td><td>0.003408993</td><td>-0.002008598</td><td>clinical_data</td><td>CK   </td></tr>\n",
       "\t<tr><th scope=row>2</th><td>-0.001361949</td><td>0.3790396</td><td>0.06749868</td><td>-0.06765357</td><td>-0.004929694</td><td>-0.3529069</td><td>0.01561328</td><td>-0.01496201</td><td>0.3777444</td><td>-0.0004131968</td><td>⋯</td><td>0.00304789</td><td>0.1161746</td><td>0.1307211</td><td>-0.002865083</td><td>-0.0003610348</td><td>-0.008757576</td><td>0.004192790</td><td>-0.010507527</td><td>clinical_data</td><td>CK_MB</td></tr>\n",
       "</tbody>\n",
       "</table>\n"
      ],
      "text/latex": [
       "A data.frame: 2 × 22\n",
       "\\begin{tabular}{r|lllllllllllllllllllll}\n",
       "  & Factor1azimuth & Factor2azimuth & Factor3azimuth & Factor4azimuth & Factor5azimuth & Factor6azimuth & Factor7azimuth & Factor8azimuth & Factor9azimuth & Factor10azimuth & ⋯ & Factor13azimuth & Factor14azimuth & Factor15azimuth & Factor16azimuth & Factor17azimuth & Factor18azimuth & Factor19azimuth & Factor20azimuth & typeazimuth & variable\\_nameazimuth\\\\\n",
       "  & <dbl> & <dbl> & <dbl> & <dbl> & <dbl> & <dbl> & <dbl> & <dbl> & <dbl> & <dbl> & ⋯ & <dbl> & <dbl> & <dbl> & <dbl> & <dbl> & <dbl> & <dbl> & <dbl> & <chr> & <chr>\\\\\n",
       "\\hline\n",
       "\t1 & -0.020691979 & 0.4295154 & 0.02775631 & -0.02712267 &  0.010438305 & -0.4194796 & 0.01169812 & -0.11248843 & 0.2867520 &  0.0143456634 & ⋯ & 0.03096640 & 0.1001090 & 0.8842042 & -0.002553659 & -0.0002680875 & -0.009308180 & 0.003408993 & -0.002008598 & clinical\\_data & CK   \\\\\n",
       "\t2 & -0.001361949 & 0.3790396 & 0.06749868 & -0.06765357 & -0.004929694 & -0.3529069 & 0.01561328 & -0.01496201 & 0.3777444 & -0.0004131968 & ⋯ & 0.00304789 & 0.1161746 & 0.1307211 & -0.002865083 & -0.0003610348 & -0.008757576 & 0.004192790 & -0.010507527 & clinical\\_data & CK\\_MB\\\\\n",
       "\\end{tabular}\n"
      ],
      "text/markdown": [
       "\n",
       "A data.frame: 2 × 22\n",
       "\n",
       "| <!--/--> | Factor1azimuth &lt;dbl&gt; | Factor2azimuth &lt;dbl&gt; | Factor3azimuth &lt;dbl&gt; | Factor4azimuth &lt;dbl&gt; | Factor5azimuth &lt;dbl&gt; | Factor6azimuth &lt;dbl&gt; | Factor7azimuth &lt;dbl&gt; | Factor8azimuth &lt;dbl&gt; | Factor9azimuth &lt;dbl&gt; | Factor10azimuth &lt;dbl&gt; | ⋯ ⋯ | Factor13azimuth &lt;dbl&gt; | Factor14azimuth &lt;dbl&gt; | Factor15azimuth &lt;dbl&gt; | Factor16azimuth &lt;dbl&gt; | Factor17azimuth &lt;dbl&gt; | Factor18azimuth &lt;dbl&gt; | Factor19azimuth &lt;dbl&gt; | Factor20azimuth &lt;dbl&gt; | typeazimuth &lt;chr&gt; | variable_nameazimuth &lt;chr&gt; |\n",
       "|---|---|---|---|---|---|---|---|---|---|---|---|---|---|---|---|---|---|---|---|---|---|\n",
       "| 1 | -0.020691979 | 0.4295154 | 0.02775631 | -0.02712267 |  0.010438305 | -0.4194796 | 0.01169812 | -0.11248843 | 0.2867520 |  0.0143456634 | ⋯ | 0.03096640 | 0.1001090 | 0.8842042 | -0.002553659 | -0.0002680875 | -0.009308180 | 0.003408993 | -0.002008598 | clinical_data | CK    |\n",
       "| 2 | -0.001361949 | 0.3790396 | 0.06749868 | -0.06765357 | -0.004929694 | -0.3529069 | 0.01561328 | -0.01496201 | 0.3777444 | -0.0004131968 | ⋯ | 0.00304789 | 0.1161746 | 0.1307211 | -0.002865083 | -0.0003610348 | -0.008757576 | 0.004192790 | -0.010507527 | clinical_data | CK_MB |\n",
       "\n"
      ],
      "text/plain": [
       "  Factor1azimuth Factor2azimuth Factor3azimuth Factor4azimuth Factor5azimuth\n",
       "1 -0.020691979   0.4295154      0.02775631     -0.02712267     0.010438305  \n",
       "2 -0.001361949   0.3790396      0.06749868     -0.06765357    -0.004929694  \n",
       "  Factor6azimuth Factor7azimuth Factor8azimuth Factor9azimuth Factor10azimuth ⋯\n",
       "1 -0.4194796     0.01169812     -0.11248843    0.2867520       0.0143456634   ⋯\n",
       "2 -0.3529069     0.01561328     -0.01496201    0.3777444      -0.0004131968   ⋯\n",
       "  Factor13azimuth Factor14azimuth Factor15azimuth Factor16azimuth\n",
       "1 0.03096640      0.1001090       0.8842042       -0.002553659   \n",
       "2 0.00304789      0.1161746       0.1307211       -0.002865083   \n",
       "  Factor17azimuth Factor18azimuth Factor19azimuth Factor20azimuth typeazimuth  \n",
       "1 -0.0002680875   -0.009308180    0.003408993     -0.002008598    clinical_data\n",
       "2 -0.0003610348   -0.008757576    0.004192790     -0.010507527    clinical_data\n",
       "  variable_nameazimuth\n",
       "1 CK                  \n",
       "2 CK_MB               "
      ]
     },
     "metadata": {},
     "output_type": "display_data"
    }
   ],
   "source": [
    "head(weight_data_azimuth,2)"
   ]
  },
  {
   "cell_type": "code",
   "execution_count": 63,
   "id": "85e96cfd-81ee-4cd7-96e0-0551ca8a7c65",
   "metadata": {},
   "outputs": [],
   "source": [
    "weight_data_azimuth$typeazimuth = str_replace( weight_data_azimuth$typeazimuth, 'CD14Mono','cMono' )\n",
    "weight_data_azimuth$typeazimuth = str_replace( weight_data_azimuth$typeazimuth, 'CD16Mono','ncMono' )\n",
    "weight_data_azimuth$typeazimuth = str_replace( weight_data_azimuth$typeazimuth, 'CD4CTL','CD4_CTL' )\n",
    "weight_data_azimuth$typeazimuth = str_replace( weight_data_azimuth$typeazimuth, 'CD4Naive','CD4_Naive')\n",
    "weight_data_azimuth$typeazimuth = str_replace( weight_data_azimuth$typeazimuth, 'CD4TCM','CD4_TCM' )\n",
    "weight_data_azimuth$typeazimuth = str_replace( weight_data_azimuth$typeazimuth, 'CD4TEM','CD4_TEM' )\n",
    "weight_data_azimuth$typeazimuth = str_replace( weight_data_azimuth$typeazimuth, 'CD8Naive','CD8_Naive' )\n",
    "weight_data_azimuth$typeazimuth = str_replace( weight_data_azimuth$typeazimuth, 'CD8TEM','CD8_TEM' )\n",
    "weight_data_azimuth$typeazimuth = str_replace( weight_data_azimuth$typeazimuth, 'NK','Nkdim' )"
   ]
  },
  {
   "cell_type": "code",
   "execution_count": 64,
   "id": "4017d10c-4022-4029-acc0-631f8544b7fb",
   "metadata": {},
   "outputs": [
    {
     "data": {
      "text/html": [
       "<style>\n",
       ".list-inline {list-style: none; margin:0; padding: 0}\n",
       ".list-inline>li {display: inline-block}\n",
       ".list-inline>li:not(:last-child)::after {content: \"\\00b7\"; padding: 0 .5ex}\n",
       "</style>\n",
       "<ol class=list-inline><li>'Bcell'</li><li>'CD4_CTL'</li><li>'CD4_Naive'</li><li>'CD4_TCM'</li><li>'CD4_TEM'</li><li>'CD8_Naive'</li><li>'CD8_TEM'</li><li>'cDC2'</li><li>'clinical_data'</li><li>'cMono'</li><li>'cytokine'</li><li>'gdT'</li><li>'ncMono'</li><li>'neutrophil'</li><li>'Nkdim'</li><li>'proteomics'</li><li>'Treg'</li></ol>\n"
      ],
      "text/latex": [
       "\\begin{enumerate*}\n",
       "\\item 'Bcell'\n",
       "\\item 'CD4\\_CTL'\n",
       "\\item 'CD4\\_Naive'\n",
       "\\item 'CD4\\_TCM'\n",
       "\\item 'CD4\\_TEM'\n",
       "\\item 'CD8\\_Naive'\n",
       "\\item 'CD8\\_TEM'\n",
       "\\item 'cDC2'\n",
       "\\item 'clinical\\_data'\n",
       "\\item 'cMono'\n",
       "\\item 'cytokine'\n",
       "\\item 'gdT'\n",
       "\\item 'ncMono'\n",
       "\\item 'neutrophil'\n",
       "\\item 'Nkdim'\n",
       "\\item 'proteomics'\n",
       "\\item 'Treg'\n",
       "\\end{enumerate*}\n"
      ],
      "text/markdown": [
       "1. 'Bcell'\n",
       "2. 'CD4_CTL'\n",
       "3. 'CD4_Naive'\n",
       "4. 'CD4_TCM'\n",
       "5. 'CD4_TEM'\n",
       "6. 'CD8_Naive'\n",
       "7. 'CD8_TEM'\n",
       "8. 'cDC2'\n",
       "9. 'clinical_data'\n",
       "10. 'cMono'\n",
       "11. 'cytokine'\n",
       "12. 'gdT'\n",
       "13. 'ncMono'\n",
       "14. 'neutrophil'\n",
       "15. 'Nkdim'\n",
       "16. 'proteomics'\n",
       "17. 'Treg'\n",
       "\n",
       "\n"
      ],
      "text/plain": [
       " [1] \"Bcell\"         \"CD4_CTL\"       \"CD4_Naive\"     \"CD4_TCM\"      \n",
       " [5] \"CD4_TEM\"       \"CD8_Naive\"     \"CD8_TEM\"       \"cDC2\"         \n",
       " [9] \"clinical_data\" \"cMono\"         \"cytokine\"      \"gdT\"          \n",
       "[13] \"ncMono\"        \"neutrophil\"    \"Nkdim\"         \"proteomics\"   \n",
       "[17] \"Treg\"         "
      ]
     },
     "metadata": {},
     "output_type": "display_data"
    }
   ],
   "source": [
    "sort(unique(weight_data_azimuth$typeazimuth))"
   ]
  },
  {
   "cell_type": "code",
   "execution_count": 65,
   "id": "64eb3645-27eb-4041-b8b5-4edf3da9b251",
   "metadata": {},
   "outputs": [
    {
     "data": {
      "text/html": [
       "13282"
      ],
      "text/latex": [
       "13282"
      ],
      "text/markdown": [
       "13282"
      ],
      "text/plain": [
       "[1] 13282"
      ]
     },
     "metadata": {},
     "output_type": "display_data"
    }
   ],
   "source": [
    "nrow(weight_data_trans)"
   ]
  },
  {
   "cell_type": "code",
   "execution_count": 66,
   "id": "48eb25d3-bb2a-4799-84a5-e6e34bbb8a28",
   "metadata": {},
   "outputs": [
    {
     "data": {
      "text/html": [
       "<table class=\"dataframe\">\n",
       "<caption>A data.frame: 2 × 22</caption>\n",
       "<thead>\n",
       "\t<tr><th></th><th scope=col>Factor1</th><th scope=col>Factor2</th><th scope=col>Factor3</th><th scope=col>Factor4</th><th scope=col>Factor5</th><th scope=col>Factor6</th><th scope=col>Factor7</th><th scope=col>Factor8</th><th scope=col>Factor9</th><th scope=col>Factor10</th><th scope=col>⋯</th><th scope=col>Factor13</th><th scope=col>Factor14</th><th scope=col>Factor15</th><th scope=col>Factor16</th><th scope=col>Factor17</th><th scope=col>Factor18</th><th scope=col>Factor19</th><th scope=col>Factor20</th><th scope=col>type</th><th scope=col>variable_name</th></tr>\n",
       "\t<tr><th></th><th scope=col>&lt;dbl&gt;</th><th scope=col>&lt;dbl&gt;</th><th scope=col>&lt;dbl&gt;</th><th scope=col>&lt;dbl&gt;</th><th scope=col>&lt;dbl&gt;</th><th scope=col>&lt;dbl&gt;</th><th scope=col>&lt;dbl&gt;</th><th scope=col>&lt;dbl&gt;</th><th scope=col>&lt;dbl&gt;</th><th scope=col>&lt;dbl&gt;</th><th scope=col>⋯</th><th scope=col>&lt;dbl&gt;</th><th scope=col>&lt;dbl&gt;</th><th scope=col>&lt;dbl&gt;</th><th scope=col>&lt;dbl&gt;</th><th scope=col>&lt;dbl&gt;</th><th scope=col>&lt;dbl&gt;</th><th scope=col>&lt;dbl&gt;</th><th scope=col>&lt;dbl&gt;</th><th scope=col>&lt;chr&gt;</th><th scope=col>&lt;chr&gt;</th></tr>\n",
       "</thead>\n",
       "<tbody>\n",
       "\t<tr><th scope=row>1</th><td>-0.13418597</td><td>0.4019222</td><td>-0.1010765</td><td>-0.002177566</td><td>-0.5093667</td><td>0.24179134</td><td>-0.03635097</td><td>0.05304519</td><td> 0.0011574664</td><td>-0.012307130</td><td>⋯</td><td>-0.1604505</td><td>-0.001418618</td><td>0.1540945</td><td> 0.003821864</td><td>-0.24205661</td><td>0.004092582</td><td>-0.0005618720</td><td>-0.2423944</td><td>clinical_data</td><td>CK   </td></tr>\n",
       "\t<tr><th scope=row>2</th><td>-0.06222621</td><td>0.2731985</td><td>-0.2000362</td><td>-0.076098327</td><td>-0.1439445</td><td>0.04289833</td><td>-0.71818597</td><td>0.18658970</td><td>-0.0007753517</td><td>-0.003074308</td><td>⋯</td><td>-0.6107162</td><td> 0.002499494</td><td>0.3864464</td><td>-0.001090137</td><td>-0.08311704</td><td>0.009503498</td><td>-0.0003621744</td><td> 0.2060158</td><td>clinical_data</td><td>CK_MB</td></tr>\n",
       "</tbody>\n",
       "</table>\n"
      ],
      "text/latex": [
       "A data.frame: 2 × 22\n",
       "\\begin{tabular}{r|lllllllllllllllllllll}\n",
       "  & Factor1 & Factor2 & Factor3 & Factor4 & Factor5 & Factor6 & Factor7 & Factor8 & Factor9 & Factor10 & ⋯ & Factor13 & Factor14 & Factor15 & Factor16 & Factor17 & Factor18 & Factor19 & Factor20 & type & variable\\_name\\\\\n",
       "  & <dbl> & <dbl> & <dbl> & <dbl> & <dbl> & <dbl> & <dbl> & <dbl> & <dbl> & <dbl> & ⋯ & <dbl> & <dbl> & <dbl> & <dbl> & <dbl> & <dbl> & <dbl> & <dbl> & <chr> & <chr>\\\\\n",
       "\\hline\n",
       "\t1 & -0.13418597 & 0.4019222 & -0.1010765 & -0.002177566 & -0.5093667 & 0.24179134 & -0.03635097 & 0.05304519 &  0.0011574664 & -0.012307130 & ⋯ & -0.1604505 & -0.001418618 & 0.1540945 &  0.003821864 & -0.24205661 & 0.004092582 & -0.0005618720 & -0.2423944 & clinical\\_data & CK   \\\\\n",
       "\t2 & -0.06222621 & 0.2731985 & -0.2000362 & -0.076098327 & -0.1439445 & 0.04289833 & -0.71818597 & 0.18658970 & -0.0007753517 & -0.003074308 & ⋯ & -0.6107162 &  0.002499494 & 0.3864464 & -0.001090137 & -0.08311704 & 0.009503498 & -0.0003621744 &  0.2060158 & clinical\\_data & CK\\_MB\\\\\n",
       "\\end{tabular}\n"
      ],
      "text/markdown": [
       "\n",
       "A data.frame: 2 × 22\n",
       "\n",
       "| <!--/--> | Factor1 &lt;dbl&gt; | Factor2 &lt;dbl&gt; | Factor3 &lt;dbl&gt; | Factor4 &lt;dbl&gt; | Factor5 &lt;dbl&gt; | Factor6 &lt;dbl&gt; | Factor7 &lt;dbl&gt; | Factor8 &lt;dbl&gt; | Factor9 &lt;dbl&gt; | Factor10 &lt;dbl&gt; | ⋯ ⋯ | Factor13 &lt;dbl&gt; | Factor14 &lt;dbl&gt; | Factor15 &lt;dbl&gt; | Factor16 &lt;dbl&gt; | Factor17 &lt;dbl&gt; | Factor18 &lt;dbl&gt; | Factor19 &lt;dbl&gt; | Factor20 &lt;dbl&gt; | type &lt;chr&gt; | variable_name &lt;chr&gt; |\n",
       "|---|---|---|---|---|---|---|---|---|---|---|---|---|---|---|---|---|---|---|---|---|---|\n",
       "| 1 | -0.13418597 | 0.4019222 | -0.1010765 | -0.002177566 | -0.5093667 | 0.24179134 | -0.03635097 | 0.05304519 |  0.0011574664 | -0.012307130 | ⋯ | -0.1604505 | -0.001418618 | 0.1540945 |  0.003821864 | -0.24205661 | 0.004092582 | -0.0005618720 | -0.2423944 | clinical_data | CK    |\n",
       "| 2 | -0.06222621 | 0.2731985 | -0.2000362 | -0.076098327 | -0.1439445 | 0.04289833 | -0.71818597 | 0.18658970 | -0.0007753517 | -0.003074308 | ⋯ | -0.6107162 |  0.002499494 | 0.3864464 | -0.001090137 | -0.08311704 | 0.009503498 | -0.0003621744 |  0.2060158 | clinical_data | CK_MB |\n",
       "\n"
      ],
      "text/plain": [
       "  Factor1     Factor2   Factor3    Factor4      Factor5    Factor6   \n",
       "1 -0.13418597 0.4019222 -0.1010765 -0.002177566 -0.5093667 0.24179134\n",
       "2 -0.06222621 0.2731985 -0.2000362 -0.076098327 -0.1439445 0.04289833\n",
       "  Factor7     Factor8    Factor9       Factor10     ⋯ Factor13   Factor14    \n",
       "1 -0.03635097 0.05304519  0.0011574664 -0.012307130 ⋯ -0.1604505 -0.001418618\n",
       "2 -0.71818597 0.18658970 -0.0007753517 -0.003074308 ⋯ -0.6107162  0.002499494\n",
       "  Factor15  Factor16     Factor17    Factor18    Factor19      Factor20  \n",
       "1 0.1540945  0.003821864 -0.24205661 0.004092582 -0.0005618720 -0.2423944\n",
       "2 0.3864464 -0.001090137 -0.08311704 0.009503498 -0.0003621744  0.2060158\n",
       "  type          variable_name\n",
       "1 clinical_data CK           \n",
       "2 clinical_data CK_MB        "
      ]
     },
     "metadata": {},
     "output_type": "display_data"
    }
   ],
   "source": [
    "head(weight_data_trans,2)"
   ]
  },
  {
   "cell_type": "code",
   "execution_count": 67,
   "id": "73af8735-8c39-4522-9eff-33674b74b59d",
   "metadata": {},
   "outputs": [],
   "source": [
    "weight_data_trans$type = str_replace( weight_data_trans$type, 'CD14Mono','cMono' )\n",
    "weight_data_trans$type = str_replace( weight_data_trans$type, 'CD16Mono','ncMono' )\n",
    "weight_data_trans$type = str_replace( weight_data_trans$type, 'CD4CTL','CD4_CTL' )\n",
    "weight_data_trans$type = str_replace( weight_data_trans$type, 'CD4Naive','CD4_Naive')\n",
    "weight_data_trans$type = str_replace( weight_data_trans$type, 'CD4TCM','CD4_TCM' )\n",
    "weight_data_trans$type = str_replace( weight_data_trans$type, 'CD4TEM','CD4_TEM' )\n",
    "weight_data_trans$type = str_replace( weight_data_trans$type, 'CD8Naive','CD8_Naive' )\n",
    "weight_data_trans$type = str_replace( weight_data_trans$type, 'CD8TEM','CD8_TEM' )\n",
    "weight_data_trans$type = str_replace( weight_data_trans$type, 'NK','Nkdim' )\n"
   ]
  },
  {
   "cell_type": "code",
   "execution_count": 68,
   "id": "fb1455f1-0923-42eb-ab7e-0a988b8c39cd",
   "metadata": {},
   "outputs": [
    {
     "data": {
      "text/html": [
       "<style>\n",
       ".list-inline {list-style: none; margin:0; padding: 0}\n",
       ".list-inline>li {display: inline-block}\n",
       ".list-inline>li:not(:last-child)::after {content: \"\\00b7\"; padding: 0 .5ex}\n",
       "</style>\n",
       "<ol class=list-inline><li>'clinical_data'</li><li>'cytokine'</li><li>'neutrophil'</li><li>'proteomics'</li><li>'CD4_TCM'</li><li>'X1_TcellCD8'</li><li>'Bcell'</li><li>'X11_TcellCD4'</li><li>'ncMono'</li><li>'cDC2'</li><li>'Nkdim'</li><li>'cMono'</li><li>'X5_TcellCD4'</li></ol>\n"
      ],
      "text/latex": [
       "\\begin{enumerate*}\n",
       "\\item 'clinical\\_data'\n",
       "\\item 'cytokine'\n",
       "\\item 'neutrophil'\n",
       "\\item 'proteomics'\n",
       "\\item 'CD4\\_TCM'\n",
       "\\item 'X1\\_TcellCD8'\n",
       "\\item 'Bcell'\n",
       "\\item 'X11\\_TcellCD4'\n",
       "\\item 'ncMono'\n",
       "\\item 'cDC2'\n",
       "\\item 'Nkdim'\n",
       "\\item 'cMono'\n",
       "\\item 'X5\\_TcellCD4'\n",
       "\\end{enumerate*}\n"
      ],
      "text/markdown": [
       "1. 'clinical_data'\n",
       "2. 'cytokine'\n",
       "3. 'neutrophil'\n",
       "4. 'proteomics'\n",
       "5. 'CD4_TCM'\n",
       "6. 'X1_TcellCD8'\n",
       "7. 'Bcell'\n",
       "8. 'X11_TcellCD4'\n",
       "9. 'ncMono'\n",
       "10. 'cDC2'\n",
       "11. 'Nkdim'\n",
       "12. 'cMono'\n",
       "13. 'X5_TcellCD4'\n",
       "\n",
       "\n"
      ],
      "text/plain": [
       " [1] \"clinical_data\" \"cytokine\"      \"neutrophil\"    \"proteomics\"   \n",
       " [5] \"CD4_TCM\"       \"X1_TcellCD8\"   \"Bcell\"         \"X11_TcellCD4\" \n",
       " [9] \"ncMono\"        \"cDC2\"          \"Nkdim\"         \"cMono\"        \n",
       "[13] \"X5_TcellCD4\"  "
      ]
     },
     "metadata": {},
     "output_type": "display_data"
    }
   ],
   "source": [
    "unique(weight_data_trans$type)"
   ]
  },
  {
   "cell_type": "code",
   "execution_count": 69,
   "id": "81211b09-049a-4e63-a60f-571e8c8871bf",
   "metadata": {},
   "outputs": [],
   "source": [
    "factor_var = 'Factor2'"
   ]
  },
  {
   "cell_type": "code",
   "execution_count": 70,
   "id": "93bb4094-5d39-43b6-84ec-36c5dd5232e0",
   "metadata": {},
   "outputs": [],
   "source": [
    "amount = 280"
   ]
  },
  {
   "cell_type": "code",
   "execution_count": 71,
   "id": "cc3b1a75-4232-4f09-a7b5-dce700af104d",
   "metadata": {},
   "outputs": [],
   "source": [
    "compare_azimuth = weight_data_azimuth[,c('typeazimuth', 'variable_nameazimuth', 'Factor2azimuth')]"
   ]
  },
  {
   "cell_type": "code",
   "execution_count": 72,
   "id": "5dc82f26-ff0a-45bd-8773-6222f4a38a0c",
   "metadata": {},
   "outputs": [
    {
     "data": {
      "text/html": [
       "<table class=\"dataframe\">\n",
       "<caption>A data.frame: 2 × 3</caption>\n",
       "<thead>\n",
       "\t<tr><th></th><th scope=col>typeazimuth</th><th scope=col>variable_nameazimuth</th><th scope=col>Factor2azimuth</th></tr>\n",
       "\t<tr><th></th><th scope=col>&lt;chr&gt;</th><th scope=col>&lt;chr&gt;</th><th scope=col>&lt;dbl&gt;</th></tr>\n",
       "</thead>\n",
       "<tbody>\n",
       "\t<tr><th scope=row>1</th><td>clinical_data</td><td>CK   </td><td>0.4295154</td></tr>\n",
       "\t<tr><th scope=row>2</th><td>clinical_data</td><td>CK_MB</td><td>0.3790396</td></tr>\n",
       "</tbody>\n",
       "</table>\n"
      ],
      "text/latex": [
       "A data.frame: 2 × 3\n",
       "\\begin{tabular}{r|lll}\n",
       "  & typeazimuth & variable\\_nameazimuth & Factor2azimuth\\\\\n",
       "  & <chr> & <chr> & <dbl>\\\\\n",
       "\\hline\n",
       "\t1 & clinical\\_data & CK    & 0.4295154\\\\\n",
       "\t2 & clinical\\_data & CK\\_MB & 0.3790396\\\\\n",
       "\\end{tabular}\n"
      ],
      "text/markdown": [
       "\n",
       "A data.frame: 2 × 3\n",
       "\n",
       "| <!--/--> | typeazimuth &lt;chr&gt; | variable_nameazimuth &lt;chr&gt; | Factor2azimuth &lt;dbl&gt; |\n",
       "|---|---|---|---|\n",
       "| 1 | clinical_data | CK    | 0.4295154 |\n",
       "| 2 | clinical_data | CK_MB | 0.3790396 |\n",
       "\n"
      ],
      "text/plain": [
       "  typeazimuth   variable_nameazimuth Factor2azimuth\n",
       "1 clinical_data CK                   0.4295154     \n",
       "2 clinical_data CK_MB                0.3790396     "
      ]
     },
     "metadata": {},
     "output_type": "display_data"
    }
   ],
   "source": [
    "head(compare_azimuth,2)"
   ]
  },
  {
   "cell_type": "code",
   "execution_count": 73,
   "id": "fd279d85-9f25-4ceb-ada6-8810a597cbef",
   "metadata": {},
   "outputs": [],
   "source": [
    "compare_orig = weight_data_trans[,c('type', 'variable_name', 'Factor2')]"
   ]
  },
  {
   "cell_type": "code",
   "execution_count": 74,
   "id": "38b20b8a-5036-4271-a8a3-04c0c60b957a",
   "metadata": {},
   "outputs": [
    {
     "data": {
      "text/html": [
       "<table class=\"dataframe\">\n",
       "<caption>A data.frame: 2 × 3</caption>\n",
       "<thead>\n",
       "\t<tr><th></th><th scope=col>type</th><th scope=col>variable_name</th><th scope=col>Factor2</th></tr>\n",
       "\t<tr><th></th><th scope=col>&lt;chr&gt;</th><th scope=col>&lt;chr&gt;</th><th scope=col>&lt;dbl&gt;</th></tr>\n",
       "</thead>\n",
       "<tbody>\n",
       "\t<tr><th scope=row>1</th><td>clinical_data</td><td>CK   </td><td>0.4019222</td></tr>\n",
       "\t<tr><th scope=row>2</th><td>clinical_data</td><td>CK_MB</td><td>0.2731985</td></tr>\n",
       "</tbody>\n",
       "</table>\n"
      ],
      "text/latex": [
       "A data.frame: 2 × 3\n",
       "\\begin{tabular}{r|lll}\n",
       "  & type & variable\\_name & Factor2\\\\\n",
       "  & <chr> & <chr> & <dbl>\\\\\n",
       "\\hline\n",
       "\t1 & clinical\\_data & CK    & 0.4019222\\\\\n",
       "\t2 & clinical\\_data & CK\\_MB & 0.2731985\\\\\n",
       "\\end{tabular}\n"
      ],
      "text/markdown": [
       "\n",
       "A data.frame: 2 × 3\n",
       "\n",
       "| <!--/--> | type &lt;chr&gt; | variable_name &lt;chr&gt; | Factor2 &lt;dbl&gt; |\n",
       "|---|---|---|---|\n",
       "| 1 | clinical_data | CK    | 0.4019222 |\n",
       "| 2 | clinical_data | CK_MB | 0.2731985 |\n",
       "\n"
      ],
      "text/plain": [
       "  type          variable_name Factor2  \n",
       "1 clinical_data CK            0.4019222\n",
       "2 clinical_data CK_MB         0.2731985"
      ]
     },
     "metadata": {},
     "output_type": "display_data"
    }
   ],
   "source": [
    "head(compare_orig,2)"
   ]
  },
  {
   "cell_type": "code",
   "execution_count": 75,
   "id": "87cad363-21d3-4b60-820a-a14ff9dab3a9",
   "metadata": {},
   "outputs": [],
   "source": [
    "#top_orig = head(compare_orig[order(abs(compare_orig$Factor2_orig), decreasing = TRUE),],140)\n",
    "#top_azimuth = head(compare_azimuth[order(abs(compare_azimuth$Factor2), decreasing = TRUE),],140)"
   ]
  },
  {
   "cell_type": "code",
   "execution_count": 76,
   "id": "01939d03-8a03-4685-862d-108b5be5f83a",
   "metadata": {},
   "outputs": [],
   "source": [
    "# top azimuth\n",
    "pos_geneset = compare_azimuth %>% arrange( desc(Factor2azimuth))  %>% slice_max(n=amount/2, Factor2azimuth)\n",
    "neg_geneset = compare_azimuth %>% arrange( desc(Factor2azimuth))  %>% slice_min(n=amount/2,  Factor2azimuth)\n",
    "\n",
    "top_azimuth  = rbind(pos_geneset, neg_geneset)"
   ]
  },
  {
   "cell_type": "code",
   "execution_count": 77,
   "id": "8e451c9b-73e9-4b8c-8f68-377a12971eb3",
   "metadata": {
    "tags": []
   },
   "outputs": [],
   "source": [
    "# top orig\n",
    "pos_geneset = compare_orig %>% arrange( desc(Factor2))  %>% slice_max(n=amount/2,Factor2)\n",
    "neg_geneset = compare_orig %>% arrange( desc(Factor2))  %>% slice_min(n=amount/2, Factor2)\n",
    "\n",
    "top_orig  = rbind(pos_geneset, neg_geneset)"
   ]
  },
  {
   "cell_type": "code",
   "execution_count": 78,
   "id": "037f9fbd-89f7-4447-8467-3bbb2e9dd0ee",
   "metadata": {},
   "outputs": [
    {
     "name": "stderr",
     "output_type": "stream",
     "text": [
      "\u001b[1m\u001b[22m`summarise()` has grouped output by 'type'. You can override using the `.groups` argument.\n",
      "\u001b[1m\u001b[22m`summarise()` has grouped output by 'typeazimuth'. You can override using the `.groups` argument.\n"
     ]
    }
   ],
   "source": [
    "top_orig = top_orig %>% group_by(type, variable_name) %>% summarise(Factor2 = mean(Factor2))\n",
    "top_azimuth = top_azimuth %>% group_by(typeazimuth, variable_nameazimuth) %>% summarise(Factor2azimuth = mean(Factor2azimuth))"
   ]
  },
  {
   "cell_type": "code",
   "execution_count": 79,
   "id": "f8b166b5-d137-4b64-b04c-f3f0f11b7804",
   "metadata": {},
   "outputs": [
    {
     "data": {
      "text/html": [
       "232"
      ],
      "text/latex": [
       "232"
      ],
      "text/markdown": [
       "232"
      ],
      "text/plain": [
       "[1] 232"
      ]
     },
     "metadata": {},
     "output_type": "display_data"
    }
   ],
   "source": [
    "nrow(top_orig)"
   ]
  },
  {
   "cell_type": "code",
   "execution_count": 80,
   "id": "cb1f137f-07c6-4460-9c35-6c1a6775c22d",
   "metadata": {},
   "outputs": [
    {
     "data": {
      "text/html": [
       "280"
      ],
      "text/latex": [
       "280"
      ],
      "text/markdown": [
       "280"
      ],
      "text/plain": [
       "[1] 280"
      ]
     },
     "metadata": {},
     "output_type": "display_data"
    }
   ],
   "source": [
    "nrow(top_azimuth)"
   ]
  },
  {
   "cell_type": "code",
   "execution_count": 81,
   "id": "d88df661-91a0-4101-959e-26e0d892c90e",
   "metadata": {},
   "outputs": [
    {
     "data": {
      "text/html": [
       "<table class=\"dataframe\">\n",
       "<caption>A grouped_df: 2 × 3</caption>\n",
       "<thead>\n",
       "\t<tr><th scope=col>type</th><th scope=col>variable_name</th><th scope=col>Factor2</th></tr>\n",
       "\t<tr><th scope=col>&lt;chr&gt;</th><th scope=col>&lt;chr&gt;</th><th scope=col>&lt;dbl&gt;</th></tr>\n",
       "</thead>\n",
       "<tbody>\n",
       "\t<tr><td>Bcell  </td><td>HIST1H4C</td><td>-0.4435047</td></tr>\n",
       "\t<tr><td>CD4_TCM</td><td>ARF6    </td><td> 0.4020309</td></tr>\n",
       "</tbody>\n",
       "</table>\n"
      ],
      "text/latex": [
       "A grouped\\_df: 2 × 3\n",
       "\\begin{tabular}{lll}\n",
       " type & variable\\_name & Factor2\\\\\n",
       " <chr> & <chr> & <dbl>\\\\\n",
       "\\hline\n",
       "\t Bcell   & HIST1H4C & -0.4435047\\\\\n",
       "\t CD4\\_TCM & ARF6     &  0.4020309\\\\\n",
       "\\end{tabular}\n"
      ],
      "text/markdown": [
       "\n",
       "A grouped_df: 2 × 3\n",
       "\n",
       "| type &lt;chr&gt; | variable_name &lt;chr&gt; | Factor2 &lt;dbl&gt; |\n",
       "|---|---|---|\n",
       "| Bcell   | HIST1H4C | -0.4435047 |\n",
       "| CD4_TCM | ARF6     |  0.4020309 |\n",
       "\n"
      ],
      "text/plain": [
       "  type    variable_name Factor2   \n",
       "1 Bcell   HIST1H4C      -0.4435047\n",
       "2 CD4_TCM ARF6           0.4020309"
      ]
     },
     "metadata": {},
     "output_type": "display_data"
    }
   ],
   "source": [
    "head(top_orig,2)"
   ]
  },
  {
   "cell_type": "code",
   "execution_count": 82,
   "id": "12e1a72b-e6b6-4d66-9fd4-a0a3ec3600bd",
   "metadata": {},
   "outputs": [
    {
     "data": {
      "text/html": [
       "<table class=\"dataframe\">\n",
       "<caption>A grouped_df: 2 × 3</caption>\n",
       "<thead>\n",
       "\t<tr><th scope=col>typeazimuth</th><th scope=col>variable_nameazimuth</th><th scope=col>Factor2azimuth</th></tr>\n",
       "\t<tr><th scope=col>&lt;chr&gt;</th><th scope=col>&lt;chr&gt;</th><th scope=col>&lt;dbl&gt;</th></tr>\n",
       "</thead>\n",
       "<tbody>\n",
       "\t<tr><td>Bcell</td><td>CD74  </td><td>-0.4000489</td></tr>\n",
       "\t<tr><td>Bcell</td><td>GOLGB1</td><td>-0.3863588</td></tr>\n",
       "</tbody>\n",
       "</table>\n"
      ],
      "text/latex": [
       "A grouped\\_df: 2 × 3\n",
       "\\begin{tabular}{lll}\n",
       " typeazimuth & variable\\_nameazimuth & Factor2azimuth\\\\\n",
       " <chr> & <chr> & <dbl>\\\\\n",
       "\\hline\n",
       "\t Bcell & CD74   & -0.4000489\\\\\n",
       "\t Bcell & GOLGB1 & -0.3863588\\\\\n",
       "\\end{tabular}\n"
      ],
      "text/markdown": [
       "\n",
       "A grouped_df: 2 × 3\n",
       "\n",
       "| typeazimuth &lt;chr&gt; | variable_nameazimuth &lt;chr&gt; | Factor2azimuth &lt;dbl&gt; |\n",
       "|---|---|---|\n",
       "| Bcell | CD74   | -0.4000489 |\n",
       "| Bcell | GOLGB1 | -0.3863588 |\n",
       "\n"
      ],
      "text/plain": [
       "  typeazimuth variable_nameazimuth Factor2azimuth\n",
       "1 Bcell       CD74                 -0.4000489    \n",
       "2 Bcell       GOLGB1               -0.3863588    "
      ]
     },
     "metadata": {},
     "output_type": "display_data"
    }
   ],
   "source": [
    "head(top_azimuth,2)"
   ]
  },
  {
   "cell_type": "code",
   "execution_count": null,
   "id": "cd28f65e-4fda-4920-8851-60f3caf445ef",
   "metadata": {},
   "outputs": [],
   "source": []
  },
  {
   "cell_type": "code",
   "execution_count": 83,
   "id": "0c70f2cf-fa5e-4496-9ab7-75ea6b86a963",
   "metadata": {},
   "outputs": [],
   "source": [
    "test = merge( top_orig, top_azimuth, by.x = c('type', 'variable_name'),\n",
    "             by.y = c('typeazimuth', 'variable_nameazimuth'), all.x = TRUE)"
   ]
  },
  {
   "cell_type": "code",
   "execution_count": 84,
   "id": "263554c8-56a1-4349-8e4a-f686c8c8dfab",
   "metadata": {},
   "outputs": [
    {
     "data": {
      "text/html": [
       "232"
      ],
      "text/latex": [
       "232"
      ],
      "text/markdown": [
       "232"
      ],
      "text/plain": [
       "[1] 232"
      ]
     },
     "metadata": {},
     "output_type": "display_data"
    }
   ],
   "source": [
    "nrow(test)"
   ]
  },
  {
   "cell_type": "code",
   "execution_count": 85,
   "id": "b7503f6d-a0f3-4001-8084-fddc0013c9d0",
   "metadata": {},
   "outputs": [
    {
     "data": {
      "text/html": [
       "<table class=\"dataframe\">\n",
       "<caption>A data.frame: 2 × 4</caption>\n",
       "<thead>\n",
       "\t<tr><th></th><th scope=col>type</th><th scope=col>variable_name</th><th scope=col>Factor2</th><th scope=col>Factor2azimuth</th></tr>\n",
       "\t<tr><th></th><th scope=col>&lt;chr&gt;</th><th scope=col>&lt;chr&gt;</th><th scope=col>&lt;dbl&gt;</th><th scope=col>&lt;dbl&gt;</th></tr>\n",
       "</thead>\n",
       "<tbody>\n",
       "\t<tr><th scope=row>1</th><td>Bcell  </td><td>HIST1H4C</td><td>-0.4435047</td><td>-0.550777</td></tr>\n",
       "\t<tr><th scope=row>2</th><td>CD4_TCM</td><td>ARF6    </td><td> 0.4020309</td><td>       NA</td></tr>\n",
       "</tbody>\n",
       "</table>\n"
      ],
      "text/latex": [
       "A data.frame: 2 × 4\n",
       "\\begin{tabular}{r|llll}\n",
       "  & type & variable\\_name & Factor2 & Factor2azimuth\\\\\n",
       "  & <chr> & <chr> & <dbl> & <dbl>\\\\\n",
       "\\hline\n",
       "\t1 & Bcell   & HIST1H4C & -0.4435047 & -0.550777\\\\\n",
       "\t2 & CD4\\_TCM & ARF6     &  0.4020309 &        NA\\\\\n",
       "\\end{tabular}\n"
      ],
      "text/markdown": [
       "\n",
       "A data.frame: 2 × 4\n",
       "\n",
       "| <!--/--> | type &lt;chr&gt; | variable_name &lt;chr&gt; | Factor2 &lt;dbl&gt; | Factor2azimuth &lt;dbl&gt; |\n",
       "|---|---|---|---|---|\n",
       "| 1 | Bcell   | HIST1H4C | -0.4435047 | -0.550777 |\n",
       "| 2 | CD4_TCM | ARF6     |  0.4020309 |        NA |\n",
       "\n"
      ],
      "text/plain": [
       "  type    variable_name Factor2    Factor2azimuth\n",
       "1 Bcell   HIST1H4C      -0.4435047 -0.550777     \n",
       "2 CD4_TCM ARF6           0.4020309        NA     "
      ]
     },
     "metadata": {},
     "output_type": "display_data"
    }
   ],
   "source": [
    "head(test,2)"
   ]
  },
  {
   "cell_type": "code",
   "execution_count": 86,
   "id": "78d73707-d89b-45e6-88c9-dffb86e22ca3",
   "metadata": {},
   "outputs": [
    {
     "data": {
      "text/html": [
       "96"
      ],
      "text/latex": [
       "96"
      ],
      "text/markdown": [
       "96"
      ],
      "text/plain": [
       "[1] 96"
      ]
     },
     "metadata": {},
     "output_type": "display_data"
    }
   ],
   "source": [
    "nrow(test[!is.na(test$Factor2azimuth),])"
   ]
  },
  {
   "cell_type": "code",
   "execution_count": 87,
   "id": "c6ca3a89-3081-4cd0-845f-d3db921b6741",
   "metadata": {},
   "outputs": [
    {
     "data": {
      "text/html": [
       "<table class=\"dataframe\">\n",
       "<caption>A data.frame: 6 × 4</caption>\n",
       "<thead>\n",
       "\t<tr><th></th><th scope=col>type</th><th scope=col>variable_name</th><th scope=col>Factor2</th><th scope=col>Factor2azimuth</th></tr>\n",
       "\t<tr><th></th><th scope=col>&lt;chr&gt;</th><th scope=col>&lt;chr&gt;</th><th scope=col>&lt;dbl&gt;</th><th scope=col>&lt;dbl&gt;</th></tr>\n",
       "</thead>\n",
       "<tbody>\n",
       "\t<tr><th scope=row>2</th><td>CD4_TCM</td><td>ARF6   </td><td> 0.4020309</td><td>NA</td></tr>\n",
       "\t<tr><th scope=row>3</th><td>CD4_TCM</td><td>ARID5B </td><td> 0.4107285</td><td>NA</td></tr>\n",
       "\t<tr><th scope=row>4</th><td>CD4_TCM</td><td>ATP5MC3</td><td> 0.4237563</td><td>NA</td></tr>\n",
       "\t<tr><th scope=row>5</th><td>CD4_TCM</td><td>ATP5MG </td><td> 0.4121350</td><td>NA</td></tr>\n",
       "\t<tr><th scope=row>6</th><td>CD4_TCM</td><td>CALR   </td><td>-0.4131153</td><td>NA</td></tr>\n",
       "\t<tr><th scope=row>7</th><td>CD4_TCM</td><td>CD74   </td><td>-0.5147339</td><td>NA</td></tr>\n",
       "</tbody>\n",
       "</table>\n"
      ],
      "text/latex": [
       "A data.frame: 6 × 4\n",
       "\\begin{tabular}{r|llll}\n",
       "  & type & variable\\_name & Factor2 & Factor2azimuth\\\\\n",
       "  & <chr> & <chr> & <dbl> & <dbl>\\\\\n",
       "\\hline\n",
       "\t2 & CD4\\_TCM & ARF6    &  0.4020309 & NA\\\\\n",
       "\t3 & CD4\\_TCM & ARID5B  &  0.4107285 & NA\\\\\n",
       "\t4 & CD4\\_TCM & ATP5MC3 &  0.4237563 & NA\\\\\n",
       "\t5 & CD4\\_TCM & ATP5MG  &  0.4121350 & NA\\\\\n",
       "\t6 & CD4\\_TCM & CALR    & -0.4131153 & NA\\\\\n",
       "\t7 & CD4\\_TCM & CD74    & -0.5147339 & NA\\\\\n",
       "\\end{tabular}\n"
      ],
      "text/markdown": [
       "\n",
       "A data.frame: 6 × 4\n",
       "\n",
       "| <!--/--> | type &lt;chr&gt; | variable_name &lt;chr&gt; | Factor2 &lt;dbl&gt; | Factor2azimuth &lt;dbl&gt; |\n",
       "|---|---|---|---|---|\n",
       "| 2 | CD4_TCM | ARF6    |  0.4020309 | NA |\n",
       "| 3 | CD4_TCM | ARID5B  |  0.4107285 | NA |\n",
       "| 4 | CD4_TCM | ATP5MC3 |  0.4237563 | NA |\n",
       "| 5 | CD4_TCM | ATP5MG  |  0.4121350 | NA |\n",
       "| 6 | CD4_TCM | CALR    | -0.4131153 | NA |\n",
       "| 7 | CD4_TCM | CD74    | -0.5147339 | NA |\n",
       "\n"
      ],
      "text/plain": [
       "  type    variable_name Factor2    Factor2azimuth\n",
       "2 CD4_TCM ARF6           0.4020309 NA            \n",
       "3 CD4_TCM ARID5B         0.4107285 NA            \n",
       "4 CD4_TCM ATP5MC3        0.4237563 NA            \n",
       "5 CD4_TCM ATP5MG         0.4121350 NA            \n",
       "6 CD4_TCM CALR          -0.4131153 NA            \n",
       "7 CD4_TCM CD74          -0.5147339 NA            "
      ]
     },
     "metadata": {},
     "output_type": "display_data"
    }
   ],
   "source": [
    "head(test[is.na(test$Factor2azimuth),])"
   ]
  },
  {
   "cell_type": "code",
   "execution_count": 88,
   "id": "5667dcf5-357d-48de-bdd8-e047b492b3ae",
   "metadata": {},
   "outputs": [],
   "source": [
    "### Save joint top TP features"
   ]
  },
  {
   "cell_type": "code",
   "execution_count": 89,
   "id": "a5cb6e5e-1bbf-4edd-8161-79fcccfe773a",
   "metadata": {},
   "outputs": [],
   "source": [
    "joint_features = test[!is.na(test$Factor2azimuth),]"
   ]
  },
  {
   "cell_type": "code",
   "execution_count": 90,
   "id": "a1da6e6c-6d45-4492-ac25-6c62740d3c9f",
   "metadata": {
    "tags": []
   },
   "outputs": [],
   "source": [
    "#joint_features"
   ]
  },
  {
   "cell_type": "code",
   "execution_count": 91,
   "id": "78e62480-b31a-46bb-ba32-a5ef61c31e47",
   "metadata": {},
   "outputs": [],
   "source": [
    "write.csv(joint_features, paste0(result_path, '/Reproduction/G10_Joint_Features_TP', '.csv'), row.names = FALSE)"
   ]
  },
  {
   "cell_type": "code",
   "execution_count": 92,
   "id": "7e873169-d8c3-4280-ab00-b5b7a566080c",
   "metadata": {},
   "outputs": [
    {
     "data": {
      "text/html": [
       "96"
      ],
      "text/latex": [
       "96"
      ],
      "text/markdown": [
       "96"
      ],
      "text/plain": [
       "[1] 96"
      ]
     },
     "metadata": {},
     "output_type": "display_data"
    }
   ],
   "source": [
    "nrow(joint_features)"
   ]
  },
  {
   "cell_type": "code",
   "execution_count": 93,
   "id": "723197da-c360-4b36-b3bb-ea63d78e2f29",
   "metadata": {},
   "outputs": [],
   "source": [
    "### Save top features as input for MOFA reproductions"
   ]
  },
  {
   "cell_type": "code",
   "execution_count": 94,
   "id": "9caa08d1-18fd-42ce-b656-a0ec3fb5ddd6",
   "metadata": {},
   "outputs": [],
   "source": [
    "top_orig$Factor2 = NULL"
   ]
  },
  {
   "cell_type": "code",
   "execution_count": 95,
   "id": "f6d88408-cf39-49eb-9167-c2ee793af623",
   "metadata": {},
   "outputs": [],
   "source": [
    "colnames(top_orig) = c('type', 'variable_name')"
   ]
  },
  {
   "cell_type": "code",
   "execution_count": 96,
   "id": "556d3d46-701c-4e4a-9bdb-acc225707b5d",
   "metadata": {},
   "outputs": [
    {
     "data": {
      "text/html": [
       "<table class=\"dataframe\">\n",
       "<caption>A grouped_df: 2 × 2</caption>\n",
       "<thead>\n",
       "\t<tr><th scope=col>type</th><th scope=col>variable_name</th></tr>\n",
       "\t<tr><th scope=col>&lt;chr&gt;</th><th scope=col>&lt;chr&gt;</th></tr>\n",
       "</thead>\n",
       "<tbody>\n",
       "\t<tr><td>Bcell  </td><td>HIST1H4C</td></tr>\n",
       "\t<tr><td>CD4_TCM</td><td>ARF6    </td></tr>\n",
       "</tbody>\n",
       "</table>\n"
      ],
      "text/latex": [
       "A grouped\\_df: 2 × 2\n",
       "\\begin{tabular}{ll}\n",
       " type & variable\\_name\\\\\n",
       " <chr> & <chr>\\\\\n",
       "\\hline\n",
       "\t Bcell   & HIST1H4C\\\\\n",
       "\t CD4\\_TCM & ARF6    \\\\\n",
       "\\end{tabular}\n"
      ],
      "text/markdown": [
       "\n",
       "A grouped_df: 2 × 2\n",
       "\n",
       "| type &lt;chr&gt; | variable_name &lt;chr&gt; |\n",
       "|---|---|\n",
       "| Bcell   | HIST1H4C |\n",
       "| CD4_TCM | ARF6     |\n",
       "\n"
      ],
      "text/plain": [
       "  type    variable_name\n",
       "1 Bcell   HIST1H4C     \n",
       "2 CD4_TCM ARF6         "
      ]
     },
     "metadata": {},
     "output_type": "display_data"
    }
   ],
   "source": [
    "head(top_orig,2)"
   ]
  },
  {
   "cell_type": "code",
   "execution_count": 97,
   "id": "6aeb20c9-19ad-4c0a-9462-5db0a4e87afa",
   "metadata": {},
   "outputs": [],
   "source": [
    "write.csv(top_orig, paste0(result_path, '/Reproduction/G10_Top_Features_V_Orig_TP', '.csv'), row.names = FALSE)"
   ]
  },
  {
   "cell_type": "code",
   "execution_count": 98,
   "id": "3d58d6bd-f32f-45fb-9c4d-bcc5afff9f1b",
   "metadata": {},
   "outputs": [],
   "source": [
    "top_azimuth$Factor2azimuth = NULL\n",
    "colnames(top_azimuth) = c('type', 'variable_name')"
   ]
  },
  {
   "cell_type": "code",
   "execution_count": 99,
   "id": "c78c2825-2262-45de-84dd-a5e9878f9211",
   "metadata": {},
   "outputs": [
    {
     "data": {
      "text/html": [
       "<table class=\"dataframe\">\n",
       "<caption>A grouped_df: 2 × 2</caption>\n",
       "<thead>\n",
       "\t<tr><th scope=col>type</th><th scope=col>variable_name</th></tr>\n",
       "\t<tr><th scope=col>&lt;chr&gt;</th><th scope=col>&lt;chr&gt;</th></tr>\n",
       "</thead>\n",
       "<tbody>\n",
       "\t<tr><td>Bcell</td><td>CD74  </td></tr>\n",
       "\t<tr><td>Bcell</td><td>GOLGB1</td></tr>\n",
       "</tbody>\n",
       "</table>\n"
      ],
      "text/latex": [
       "A grouped\\_df: 2 × 2\n",
       "\\begin{tabular}{ll}\n",
       " type & variable\\_name\\\\\n",
       " <chr> & <chr>\\\\\n",
       "\\hline\n",
       "\t Bcell & CD74  \\\\\n",
       "\t Bcell & GOLGB1\\\\\n",
       "\\end{tabular}\n"
      ],
      "text/markdown": [
       "\n",
       "A grouped_df: 2 × 2\n",
       "\n",
       "| type &lt;chr&gt; | variable_name &lt;chr&gt; |\n",
       "|---|---|\n",
       "| Bcell | CD74   |\n",
       "| Bcell | GOLGB1 |\n",
       "\n"
      ],
      "text/plain": [
       "  type  variable_name\n",
       "1 Bcell CD74         \n",
       "2 Bcell GOLGB1       "
      ]
     },
     "metadata": {},
     "output_type": "display_data"
    }
   ],
   "source": [
    "head(top_azimuth,2)"
   ]
  },
  {
   "cell_type": "code",
   "execution_count": 100,
   "id": "c744d854-8c0a-4152-a4ae-63a868641628",
   "metadata": {},
   "outputs": [],
   "source": [
    "write.csv(top_azimuth, paste0(result_path, '/Reproduction/G10_Top_Features_V_Azimuth_TP', '.csv'), row.names = FALSE)"
   ]
  },
  {
   "cell_type": "code",
   "execution_count": null,
   "id": "b0e26b21-b281-4310-91ee-4edb1dbe4897",
   "metadata": {},
   "outputs": [],
   "source": []
  },
  {
   "cell_type": "markdown",
   "id": "a99f3cee-9ee7-4dad-877a-2c9018b78921",
   "metadata": {
    "tags": []
   },
   "source": [
    "# Extract top features good/bad"
   ]
  },
  {
   "cell_type": "code",
   "execution_count": 101,
   "id": "016e2ca3-c3c4-43cf-8843-da89e08ac0aa",
   "metadata": {},
   "outputs": [
    {
     "data": {
      "text/html": [
       "9145"
      ],
      "text/latex": [
       "9145"
      ],
      "text/markdown": [
       "9145"
      ],
      "text/plain": [
       "[1] 9145"
      ]
     },
     "metadata": {},
     "output_type": "display_data"
    }
   ],
   "source": [
    "nrow(weight_data_azimuth)"
   ]
  },
  {
   "cell_type": "code",
   "execution_count": 102,
   "id": "c23c8f87-39fd-452b-985b-4da844e08e71",
   "metadata": {},
   "outputs": [
    {
     "data": {
      "text/html": [
       "13282"
      ],
      "text/latex": [
       "13282"
      ],
      "text/markdown": [
       "13282"
      ],
      "text/plain": [
       "[1] 13282"
      ]
     },
     "metadata": {},
     "output_type": "display_data"
    }
   ],
   "source": [
    "nrow(weight_data_trans)"
   ]
  },
  {
   "cell_type": "code",
   "execution_count": 103,
   "id": "714efaaf-8d41-413a-875a-5c8def888aaa",
   "metadata": {},
   "outputs": [],
   "source": [
    "compare_azimuth = weight_data_azimuth[,c('typeazimuth', 'variable_nameazimuth', 'Factor3azimuth')]"
   ]
  },
  {
   "cell_type": "code",
   "execution_count": 104,
   "id": "1ae070ce-f6b4-41d7-905e-70bebd2e6276",
   "metadata": {},
   "outputs": [
    {
     "data": {
      "text/html": [
       "<table class=\"dataframe\">\n",
       "<caption>A data.frame: 2 × 3</caption>\n",
       "<thead>\n",
       "\t<tr><th></th><th scope=col>typeazimuth</th><th scope=col>variable_nameazimuth</th><th scope=col>Factor3azimuth</th></tr>\n",
       "\t<tr><th></th><th scope=col>&lt;chr&gt;</th><th scope=col>&lt;chr&gt;</th><th scope=col>&lt;dbl&gt;</th></tr>\n",
       "</thead>\n",
       "<tbody>\n",
       "\t<tr><th scope=row>1</th><td>clinical_data</td><td>CK   </td><td>0.02775631</td></tr>\n",
       "\t<tr><th scope=row>2</th><td>clinical_data</td><td>CK_MB</td><td>0.06749868</td></tr>\n",
       "</tbody>\n",
       "</table>\n"
      ],
      "text/latex": [
       "A data.frame: 2 × 3\n",
       "\\begin{tabular}{r|lll}\n",
       "  & typeazimuth & variable\\_nameazimuth & Factor3azimuth\\\\\n",
       "  & <chr> & <chr> & <dbl>\\\\\n",
       "\\hline\n",
       "\t1 & clinical\\_data & CK    & 0.02775631\\\\\n",
       "\t2 & clinical\\_data & CK\\_MB & 0.06749868\\\\\n",
       "\\end{tabular}\n"
      ],
      "text/markdown": [
       "\n",
       "A data.frame: 2 × 3\n",
       "\n",
       "| <!--/--> | typeazimuth &lt;chr&gt; | variable_nameazimuth &lt;chr&gt; | Factor3azimuth &lt;dbl&gt; |\n",
       "|---|---|---|---|\n",
       "| 1 | clinical_data | CK    | 0.02775631 |\n",
       "| 2 | clinical_data | CK_MB | 0.06749868 |\n",
       "\n"
      ],
      "text/plain": [
       "  typeazimuth   variable_nameazimuth Factor3azimuth\n",
       "1 clinical_data CK                   0.02775631    \n",
       "2 clinical_data CK_MB                0.06749868    "
      ]
     },
     "metadata": {},
     "output_type": "display_data"
    }
   ],
   "source": [
    "head(compare_azimuth,2)"
   ]
  },
  {
   "cell_type": "code",
   "execution_count": 105,
   "id": "20714bdd-d549-46d7-8a37-46ccc2e54a6a",
   "metadata": {},
   "outputs": [],
   "source": [
    "compare_orig = weight_data_trans[,c('type', 'variable_name', 'Factor4')]"
   ]
  },
  {
   "cell_type": "code",
   "execution_count": 106,
   "id": "b250b0a8-3293-4fe3-bda7-2a8a7c1db468",
   "metadata": {},
   "outputs": [
    {
     "data": {
      "text/html": [
       "<table class=\"dataframe\">\n",
       "<caption>A data.frame: 2 × 3</caption>\n",
       "<thead>\n",
       "\t<tr><th></th><th scope=col>type</th><th scope=col>variable_name</th><th scope=col>Factor4</th></tr>\n",
       "\t<tr><th></th><th scope=col>&lt;chr&gt;</th><th scope=col>&lt;chr&gt;</th><th scope=col>&lt;dbl&gt;</th></tr>\n",
       "</thead>\n",
       "<tbody>\n",
       "\t<tr><th scope=row>1</th><td>clinical_data</td><td>CK   </td><td>-0.002177566</td></tr>\n",
       "\t<tr><th scope=row>2</th><td>clinical_data</td><td>CK_MB</td><td>-0.076098327</td></tr>\n",
       "</tbody>\n",
       "</table>\n"
      ],
      "text/latex": [
       "A data.frame: 2 × 3\n",
       "\\begin{tabular}{r|lll}\n",
       "  & type & variable\\_name & Factor4\\\\\n",
       "  & <chr> & <chr> & <dbl>\\\\\n",
       "\\hline\n",
       "\t1 & clinical\\_data & CK    & -0.002177566\\\\\n",
       "\t2 & clinical\\_data & CK\\_MB & -0.076098327\\\\\n",
       "\\end{tabular}\n"
      ],
      "text/markdown": [
       "\n",
       "A data.frame: 2 × 3\n",
       "\n",
       "| <!--/--> | type &lt;chr&gt; | variable_name &lt;chr&gt; | Factor4 &lt;dbl&gt; |\n",
       "|---|---|---|---|\n",
       "| 1 | clinical_data | CK    | -0.002177566 |\n",
       "| 2 | clinical_data | CK_MB | -0.076098327 |\n",
       "\n"
      ],
      "text/plain": [
       "  type          variable_name Factor4     \n",
       "1 clinical_data CK            -0.002177566\n",
       "2 clinical_data CK_MB         -0.076098327"
      ]
     },
     "metadata": {},
     "output_type": "display_data"
    }
   ],
   "source": [
    "head(compare_orig,2)"
   ]
  },
  {
   "cell_type": "code",
   "execution_count": 107,
   "id": "ef4c713d-c6dd-48a6-a4ef-5a2caeb54559",
   "metadata": {},
   "outputs": [],
   "source": [
    "amount = 280"
   ]
  },
  {
   "cell_type": "code",
   "execution_count": 108,
   "id": "cb234bfa-4f8f-4051-b673-22f03fa9ea97",
   "metadata": {},
   "outputs": [],
   "source": [
    "# top azimuth\n",
    "pos_geneset = compare_azimuth %>% arrange( desc(Factor3azimuth))  %>% slice_max(n=amount/2, Factor3azimuth)\n",
    "neg_geneset = compare_azimuth %>% arrange( desc(Factor3azimuth))  %>% slice_min(n=amount/2,  Factor3azimuth)\n",
    "\n",
    "top_azimuth  = rbind(pos_geneset, neg_geneset)"
   ]
  },
  {
   "cell_type": "code",
   "execution_count": 109,
   "id": "69fafa8b-10a2-4398-ada5-01b73d4f0c21",
   "metadata": {
    "tags": []
   },
   "outputs": [],
   "source": [
    "# top orig\n",
    "pos_geneset = compare_orig %>% arrange( desc(Factor4))  %>% slice_max(n=amount/2,Factor4)\n",
    "neg_geneset = compare_orig %>% arrange( desc(Factor4))  %>% slice_min(n=amount/2, Factor4)\n",
    "\n",
    "top_orig  = rbind(pos_geneset, neg_geneset)"
   ]
  },
  {
   "cell_type": "code",
   "execution_count": 110,
   "id": "e34e5ad4-0002-4805-ae6e-b05881b9305f",
   "metadata": {},
   "outputs": [
    {
     "name": "stderr",
     "output_type": "stream",
     "text": [
      "\u001b[1m\u001b[22m`summarise()` has grouped output by 'type'. You can override using the `.groups` argument.\n",
      "\u001b[1m\u001b[22m`summarise()` has grouped output by 'typeazimuth'. You can override using the `.groups` argument.\n"
     ]
    }
   ],
   "source": [
    "top_orig = top_orig %>% group_by(type, variable_name) %>% summarise(Factor4 = mean(Factor4))\n",
    "top_azimuth = top_azimuth %>% group_by(typeazimuth, variable_nameazimuth) %>% summarise(Factor3azimuth = mean(Factor3azimuth))"
   ]
  },
  {
   "cell_type": "code",
   "execution_count": 111,
   "id": "cc23922a-5393-4c24-9091-c8d7083221e6",
   "metadata": {},
   "outputs": [
    {
     "data": {
      "text/html": [
       "224"
      ],
      "text/latex": [
       "224"
      ],
      "text/markdown": [
       "224"
      ],
      "text/plain": [
       "[1] 224"
      ]
     },
     "metadata": {},
     "output_type": "display_data"
    }
   ],
   "source": [
    "nrow(top_orig)"
   ]
  },
  {
   "cell_type": "code",
   "execution_count": 112,
   "id": "98a89efc-2607-4ce1-8c28-99f5ff8f341f",
   "metadata": {},
   "outputs": [
    {
     "data": {
      "text/html": [
       "280"
      ],
      "text/latex": [
       "280"
      ],
      "text/markdown": [
       "280"
      ],
      "text/plain": [
       "[1] 280"
      ]
     },
     "metadata": {},
     "output_type": "display_data"
    }
   ],
   "source": [
    "nrow(top_azimuth)"
   ]
  },
  {
   "cell_type": "code",
   "execution_count": 113,
   "id": "3c71a87f-ca3c-4c34-bb18-f6891b92d1c5",
   "metadata": {},
   "outputs": [],
   "source": [
    "#top_orig %>% group_by(type_orig) %>% count()"
   ]
  },
  {
   "cell_type": "code",
   "execution_count": 114,
   "id": "c8e551fd-bc20-407c-96a6-18567915ea4d",
   "metadata": {},
   "outputs": [],
   "source": [
    "#top_orig[top_orig$type_orig == 'Nkdim',]"
   ]
  },
  {
   "cell_type": "code",
   "execution_count": 115,
   "id": "8d532871-abd7-4cf4-9322-4aa553b62211",
   "metadata": {},
   "outputs": [],
   "source": [
    "#top_azimuth %>% group_by(type) %>% count()"
   ]
  },
  {
   "cell_type": "code",
   "execution_count": 116,
   "id": "950fa35b-45af-42aa-97d1-a956eefcaae0",
   "metadata": {},
   "outputs": [],
   "source": [
    "#top_azimuth[top_azimuth$variable_name %in% c('EIF1', 'HLA.DPB1'),]"
   ]
  },
  {
   "cell_type": "code",
   "execution_count": 117,
   "id": "306912a1-c2d4-4006-bba4-1d137e0b53b3",
   "metadata": {},
   "outputs": [
    {
     "data": {
      "text/html": [
       "-0.891960580995693"
      ],
      "text/latex": [
       "-0.891960580995693"
      ],
      "text/markdown": [
       "-0.891960580995693"
      ],
      "text/plain": [
       "[1] -0.8919606"
      ]
     },
     "metadata": {},
     "output_type": "display_data"
    }
   ],
   "source": [
    "min(top_azimuth$Factor3azimuth)"
   ]
  },
  {
   "cell_type": "code",
   "execution_count": 118,
   "id": "9ee3c32b-0003-43e9-9b23-5719dda417db",
   "metadata": {},
   "outputs": [
    {
     "data": {
      "text/html": [
       "0.70869700511241"
      ],
      "text/latex": [
       "0.70869700511241"
      ],
      "text/markdown": [
       "0.70869700511241"
      ],
      "text/plain": [
       "[1] 0.708697"
      ]
     },
     "metadata": {},
     "output_type": "display_data"
    }
   ],
   "source": [
    "max(top_azimuth$Factor3azimuth)"
   ]
  },
  {
   "cell_type": "code",
   "execution_count": null,
   "id": "b0f45ff1-e7c0-45b6-b4bf-6b39100b59b9",
   "metadata": {},
   "outputs": [],
   "source": []
  },
  {
   "cell_type": "code",
   "execution_count": 119,
   "id": "c79800a4-0fc3-4c90-9640-64b9e41bcc8d",
   "metadata": {},
   "outputs": [],
   "source": [
    "test = merge( top_orig, top_azimuth, by.x = c('type', 'variable_name'),\n",
    "             by.y = c('typeazimuth', 'variable_nameazimuth'), all.x = TRUE)"
   ]
  },
  {
   "cell_type": "code",
   "execution_count": 120,
   "id": "b4ba9c78-ae14-4a06-aa07-191082f584d5",
   "metadata": {},
   "outputs": [
    {
     "data": {
      "text/html": [
       "224"
      ],
      "text/latex": [
       "224"
      ],
      "text/markdown": [
       "224"
      ],
      "text/plain": [
       "[1] 224"
      ]
     },
     "metadata": {},
     "output_type": "display_data"
    }
   ],
   "source": [
    "nrow(test)"
   ]
  },
  {
   "cell_type": "code",
   "execution_count": 121,
   "id": "63e4e3f5-89ab-4751-890c-cdb33819d860",
   "metadata": {},
   "outputs": [
    {
     "data": {
      "text/html": [
       "135"
      ],
      "text/latex": [
       "135"
      ],
      "text/markdown": [
       "135"
      ],
      "text/plain": [
       "[1] 135"
      ]
     },
     "metadata": {},
     "output_type": "display_data"
    }
   ],
   "source": [
    "nrow(test[!is.na(test$Factor3azimuth),])"
   ]
  },
  {
   "cell_type": "code",
   "execution_count": 122,
   "id": "927b1221-a881-4c0f-8ed4-4e95ae079994",
   "metadata": {},
   "outputs": [
    {
     "data": {
      "text/html": [
       "<table class=\"dataframe\">\n",
       "<caption>A data.frame: 6 × 4</caption>\n",
       "<thead>\n",
       "\t<tr><th></th><th scope=col>type</th><th scope=col>variable_name</th><th scope=col>Factor4</th><th scope=col>Factor3azimuth</th></tr>\n",
       "\t<tr><th></th><th scope=col>&lt;chr&gt;</th><th scope=col>&lt;chr&gt;</th><th scope=col>&lt;dbl&gt;</th><th scope=col>&lt;dbl&gt;</th></tr>\n",
       "</thead>\n",
       "<tbody>\n",
       "\t<tr><th scope=row>5</th><td>CD4_TCM</td><td>CALM1 </td><td> 0.6345780</td><td>NA</td></tr>\n",
       "\t<tr><th scope=row>6</th><td>CD4_TCM</td><td>CD47  </td><td>-0.4986869</td><td>NA</td></tr>\n",
       "\t<tr><th scope=row>7</th><td>CD4_TCM</td><td>CD53  </td><td>-0.5050798</td><td>NA</td></tr>\n",
       "\t<tr><th scope=row>8</th><td>CD4_TCM</td><td>CMPK1 </td><td>-0.5458875</td><td>NA</td></tr>\n",
       "\t<tr><th scope=row>11</th><td>CD4_TCM</td><td>DNAJC8</td><td> 0.6504826</td><td>NA</td></tr>\n",
       "\t<tr><th scope=row>12</th><td>CD4_TCM</td><td>DUSP2 </td><td>-0.4669755</td><td>NA</td></tr>\n",
       "</tbody>\n",
       "</table>\n"
      ],
      "text/latex": [
       "A data.frame: 6 × 4\n",
       "\\begin{tabular}{r|llll}\n",
       "  & type & variable\\_name & Factor4 & Factor3azimuth\\\\\n",
       "  & <chr> & <chr> & <dbl> & <dbl>\\\\\n",
       "\\hline\n",
       "\t5 & CD4\\_TCM & CALM1  &  0.6345780 & NA\\\\\n",
       "\t6 & CD4\\_TCM & CD47   & -0.4986869 & NA\\\\\n",
       "\t7 & CD4\\_TCM & CD53   & -0.5050798 & NA\\\\\n",
       "\t8 & CD4\\_TCM & CMPK1  & -0.5458875 & NA\\\\\n",
       "\t11 & CD4\\_TCM & DNAJC8 &  0.6504826 & NA\\\\\n",
       "\t12 & CD4\\_TCM & DUSP2  & -0.4669755 & NA\\\\\n",
       "\\end{tabular}\n"
      ],
      "text/markdown": [
       "\n",
       "A data.frame: 6 × 4\n",
       "\n",
       "| <!--/--> | type &lt;chr&gt; | variable_name &lt;chr&gt; | Factor4 &lt;dbl&gt; | Factor3azimuth &lt;dbl&gt; |\n",
       "|---|---|---|---|---|\n",
       "| 5 | CD4_TCM | CALM1  |  0.6345780 | NA |\n",
       "| 6 | CD4_TCM | CD47   | -0.4986869 | NA |\n",
       "| 7 | CD4_TCM | CD53   | -0.5050798 | NA |\n",
       "| 8 | CD4_TCM | CMPK1  | -0.5458875 | NA |\n",
       "| 11 | CD4_TCM | DNAJC8 |  0.6504826 | NA |\n",
       "| 12 | CD4_TCM | DUSP2  | -0.4669755 | NA |\n",
       "\n"
      ],
      "text/plain": [
       "   type    variable_name Factor4    Factor3azimuth\n",
       "5  CD4_TCM CALM1          0.6345780 NA            \n",
       "6  CD4_TCM CD47          -0.4986869 NA            \n",
       "7  CD4_TCM CD53          -0.5050798 NA            \n",
       "8  CD4_TCM CMPK1         -0.5458875 NA            \n",
       "11 CD4_TCM DNAJC8         0.6504826 NA            \n",
       "12 CD4_TCM DUSP2         -0.4669755 NA            "
      ]
     },
     "metadata": {},
     "output_type": "display_data"
    }
   ],
   "source": [
    "head(test[is.na(test$Factor3azimuth),])"
   ]
  },
  {
   "cell_type": "code",
   "execution_count": 123,
   "id": "1d480565-6d7b-4c79-a644-17d0c66d593a",
   "metadata": {},
   "outputs": [],
   "source": [
    "### Save joint top TP features"
   ]
  },
  {
   "cell_type": "code",
   "execution_count": 124,
   "id": "08bcb746-764a-4ef7-9e00-132c89940011",
   "metadata": {},
   "outputs": [],
   "source": [
    "joint_features = test[!is.na(test$Factor3azimuth),]"
   ]
  },
  {
   "cell_type": "code",
   "execution_count": 125,
   "id": "406d4a1f-1513-4bb0-9593-8f7eaabdc108",
   "metadata": {},
   "outputs": [],
   "source": [
    "#joint_features"
   ]
  },
  {
   "cell_type": "code",
   "execution_count": 126,
   "id": "7a506016-f997-4a7a-b864-df461f4e6145",
   "metadata": {
    "tags": []
   },
   "outputs": [],
   "source": [
    "#joint_features"
   ]
  },
  {
   "cell_type": "code",
   "execution_count": 127,
   "id": "91612641-2a6c-457d-8e0f-fe942abb01cb",
   "metadata": {},
   "outputs": [],
   "source": [
    "write.csv(joint_features, paste0(result_path, '/Reproduction/G10_Joint_Features_GB', '.csv'), row.names = FALSE)"
   ]
  },
  {
   "cell_type": "code",
   "execution_count": 128,
   "id": "fcaeec8d-8d63-43cc-8883-6b2caf330b14",
   "metadata": {},
   "outputs": [
    {
     "data": {
      "text/html": [
       "135"
      ],
      "text/latex": [
       "135"
      ],
      "text/markdown": [
       "135"
      ],
      "text/plain": [
       "[1] 135"
      ]
     },
     "metadata": {},
     "output_type": "display_data"
    }
   ],
   "source": [
    "nrow(joint_features)"
   ]
  },
  {
   "cell_type": "code",
   "execution_count": 129,
   "id": "55cf87b9-69f0-4511-b827-5c8c384f0c3e",
   "metadata": {},
   "outputs": [],
   "source": [
    "### Save top features as input for MOFA reproductions"
   ]
  },
  {
   "cell_type": "code",
   "execution_count": 130,
   "id": "9a6786c6-8a43-4474-ada7-07d1560a1295",
   "metadata": {},
   "outputs": [],
   "source": [
    "top_orig$Factor4 = NULL"
   ]
  },
  {
   "cell_type": "code",
   "execution_count": 131,
   "id": "f88c6a74-38de-499a-b5d9-0173d0433062",
   "metadata": {},
   "outputs": [],
   "source": [
    "colnames(top_orig) = c('type', 'variable_name')"
   ]
  },
  {
   "cell_type": "code",
   "execution_count": 132,
   "id": "a9daf876-32fe-4d1d-929f-426b8518c184",
   "metadata": {},
   "outputs": [
    {
     "data": {
      "text/html": [
       "<table class=\"dataframe\">\n",
       "<caption>A grouped_df: 2 × 2</caption>\n",
       "<thead>\n",
       "\t<tr><th scope=col>type</th><th scope=col>variable_name</th></tr>\n",
       "\t<tr><th scope=col>&lt;chr&gt;</th><th scope=col>&lt;chr&gt;</th></tr>\n",
       "</thead>\n",
       "<tbody>\n",
       "\t<tr><td>CD4_TCM</td><td>ATP5F1E</td></tr>\n",
       "\t<tr><td>CD4_TCM</td><td>ATP5ME </td></tr>\n",
       "</tbody>\n",
       "</table>\n"
      ],
      "text/latex": [
       "A grouped\\_df: 2 × 2\n",
       "\\begin{tabular}{ll}\n",
       " type & variable\\_name\\\\\n",
       " <chr> & <chr>\\\\\n",
       "\\hline\n",
       "\t CD4\\_TCM & ATP5F1E\\\\\n",
       "\t CD4\\_TCM & ATP5ME \\\\\n",
       "\\end{tabular}\n"
      ],
      "text/markdown": [
       "\n",
       "A grouped_df: 2 × 2\n",
       "\n",
       "| type &lt;chr&gt; | variable_name &lt;chr&gt; |\n",
       "|---|---|\n",
       "| CD4_TCM | ATP5F1E |\n",
       "| CD4_TCM | ATP5ME  |\n",
       "\n"
      ],
      "text/plain": [
       "  type    variable_name\n",
       "1 CD4_TCM ATP5F1E      \n",
       "2 CD4_TCM ATP5ME       "
      ]
     },
     "metadata": {},
     "output_type": "display_data"
    }
   ],
   "source": [
    "head(top_orig,2)"
   ]
  },
  {
   "cell_type": "code",
   "execution_count": 133,
   "id": "1dca7a3b-6af5-4ce7-a7e9-d0faf68f9b41",
   "metadata": {},
   "outputs": [],
   "source": [
    "write.csv(top_orig, paste0(result_path, '/Reproduction/G10_Top_Features_V_Orig_GB', '.csv'), row.names = FALSE)"
   ]
  },
  {
   "cell_type": "code",
   "execution_count": 134,
   "id": "a7ca42f1-8172-4fde-ad8e-909ed97482d9",
   "metadata": {},
   "outputs": [],
   "source": [
    "top_azimuth$Factor3azimuth = NULL\n",
    "colnames(top_azimuth) = c('type', 'variable_name')"
   ]
  },
  {
   "cell_type": "code",
   "execution_count": 135,
   "id": "50fe6928-bdce-4b76-bbcc-dc28bc601551",
   "metadata": {},
   "outputs": [
    {
     "data": {
      "text/html": [
       "<table class=\"dataframe\">\n",
       "<caption>A grouped_df: 2 × 2</caption>\n",
       "<thead>\n",
       "\t<tr><th scope=col>type</th><th scope=col>variable_name</th></tr>\n",
       "\t<tr><th scope=col>&lt;chr&gt;</th><th scope=col>&lt;chr&gt;</th></tr>\n",
       "</thead>\n",
       "<tbody>\n",
       "\t<tr><td>Bcell</td><td>HLA.DRA</td></tr>\n",
       "\t<tr><td>Bcell</td><td>TMSB4X </td></tr>\n",
       "</tbody>\n",
       "</table>\n"
      ],
      "text/latex": [
       "A grouped\\_df: 2 × 2\n",
       "\\begin{tabular}{ll}\n",
       " type & variable\\_name\\\\\n",
       " <chr> & <chr>\\\\\n",
       "\\hline\n",
       "\t Bcell & HLA.DRA\\\\\n",
       "\t Bcell & TMSB4X \\\\\n",
       "\\end{tabular}\n"
      ],
      "text/markdown": [
       "\n",
       "A grouped_df: 2 × 2\n",
       "\n",
       "| type &lt;chr&gt; | variable_name &lt;chr&gt; |\n",
       "|---|---|\n",
       "| Bcell | HLA.DRA |\n",
       "| Bcell | TMSB4X  |\n",
       "\n"
      ],
      "text/plain": [
       "  type  variable_name\n",
       "1 Bcell HLA.DRA      \n",
       "2 Bcell TMSB4X       "
      ]
     },
     "metadata": {},
     "output_type": "display_data"
    }
   ],
   "source": [
    "head(top_azimuth,2)"
   ]
  },
  {
   "cell_type": "code",
   "execution_count": 136,
   "id": "6ba903e3-ef2b-4597-b999-99277c65e050",
   "metadata": {},
   "outputs": [],
   "source": [
    "write.csv(top_azimuth, paste0(result_path, '/Reproduction/G10_Top_Features_V_Azimuth_GB', '.csv'), row.names = FALSE)"
   ]
  },
  {
   "cell_type": "code",
   "execution_count": null,
   "id": "087f3035-f2a4-4ba9-9313-f520c8fe5828",
   "metadata": {},
   "outputs": [],
   "source": []
  },
  {
   "cell_type": "code",
   "execution_count": null,
   "id": "e13da532-e61b-4e42-a6a6-5bb0b4079428",
   "metadata": {},
   "outputs": [],
   "source": []
  }
 ],
 "metadata": {
  "kernelspec": {
   "display_name": "R",
   "language": "R",
   "name": "ir"
  },
  "language_info": {
   "codemirror_mode": "r",
   "file_extension": ".r",
   "mimetype": "text/x-r-source",
   "name": "R",
   "pygments_lexer": "r",
   "version": "4.1.1"
  }
 },
 "nbformat": 4,
 "nbformat_minor": 5
}

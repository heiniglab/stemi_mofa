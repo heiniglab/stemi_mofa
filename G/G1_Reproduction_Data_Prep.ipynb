{
 "cells": [
  {
   "cell_type": "code",
   "execution_count": 1,
   "id": "6a473983-5917-476f-984f-e5bd90bdb9cf",
   "metadata": {},
   "outputs": [],
   "source": [
    "#############################\n",
    "## Prepare data for AZIMUTH annotation\n",
    "## Annotates cells for each library seperately with automated azimuth pipeline"
   ]
  },
  {
   "cell_type": "markdown",
   "id": "c3e59c87-f333-4873-a8d4-6c2982a3c785",
   "metadata": {
    "tags": []
   },
   "source": [
    "# Load Libraries"
   ]
  },
  {
   "cell_type": "code",
   "execution_count": 2,
   "id": "41e68b9f-a879-40f1-9424-40a2b9b331f2",
   "metadata": {},
   "outputs": [],
   "source": [
    "import scanpy as sc\n",
    "import anndata as an\n",
    "import pandas as pd\n",
    "import numpy as np\n",
    "import matplotlib as mpl\n",
    "import matplotlib.pyplot as plt\n",
    "import seaborn as sns\n",
    "import scanorama\n",
    "import os\n",
    "import multiprocessing\n",
    "import random\n",
    "import time\n",
    "import git\n",
    "import sys\n",
    "from datetime import date"
   ]
  },
  {
   "cell_type": "markdown",
   "id": "ee897805-33d1-4074-a291-d354d95b4024",
   "metadata": {},
   "source": [
    "# Load Data"
   ]
  },
  {
   "cell_type": "markdown",
   "id": "3362b983-41c6-4ebd-a41a-8bd194bb7098",
   "metadata": {
    "tags": []
   },
   "source": [
    "## Configurations"
   ]
  },
  {
   "cell_type": "markdown",
   "id": "e5c57bca-40e0-4556-b5c3-62df35938443",
   "metadata": {},
   "source": [
    "### Technical configurations"
   ]
  },
  {
   "cell_type": "code",
   "execution_count": 3,
   "id": "930351c1-8b29-42b8-9625-f204b3a6f0b5",
   "metadata": {},
   "outputs": [
    {
     "data": {
      "text/plain": [
       "96"
      ]
     },
     "execution_count": 3,
     "metadata": {},
     "output_type": "execute_result"
    }
   ],
   "source": [
    "multiprocessing.cpu_count()  ### total amount of cpu on the used core"
   ]
  },
  {
   "cell_type": "code",
   "execution_count": 4,
   "id": "a7b02c2d-c30a-4aac-b847-9685df5bebc6",
   "metadata": {},
   "outputs": [
    {
     "data": {
      "text/plain": [
       "24"
      ]
     },
     "execution_count": 4,
     "metadata": {},
     "output_type": "execute_result"
    }
   ],
   "source": [
    "len(os.sched_getaffinity(0)) ### amount of available cpus"
   ]
  },
  {
   "cell_type": "code",
   "execution_count": 5,
   "id": "39c888d1-75f8-4eea-94f1-8d6d29c61552",
   "metadata": {},
   "outputs": [
    {
     "data": {
      "text/plain": [
       "1"
      ]
     },
     "execution_count": 5,
     "metadata": {},
     "output_type": "execute_result"
    }
   ],
   "source": [
    "sc.settings.n_jobs   # default number of CPUs to use for parallel computing"
   ]
  },
  {
   "cell_type": "code",
   "execution_count": 6,
   "id": "7c5d8e11-45dd-4750-9037-21b80b6311eb",
   "metadata": {},
   "outputs": [
    {
     "data": {
      "text/plain": [
       "15"
      ]
     },
     "execution_count": 6,
     "metadata": {},
     "output_type": "execute_result"
    }
   ],
   "source": [
    "sc.settings.max_memory  # maximum memory to use in GB"
   ]
  },
  {
   "cell_type": "code",
   "execution_count": 7,
   "id": "824a242e-cd37-4edb-9a50-7116e76707c1",
   "metadata": {},
   "outputs": [],
   "source": [
    "random.seed(7)"
   ]
  },
  {
   "cell_type": "code",
   "execution_count": 8,
   "id": "27a8fed0-514c-4595-aa04-e7540ded7ac7",
   "metadata": {},
   "outputs": [],
   "source": [
    "ncore = '16'"
   ]
  },
  {
   "cell_type": "code",
   "execution_count": 9,
   "id": "b2f90e9c-7aa4-408f-ac93-84e4a56f657a",
   "metadata": {},
   "outputs": [],
   "source": [
    "random_state_var = 0"
   ]
  },
  {
   "cell_type": "code",
   "execution_count": 10,
   "id": "f399c1bf-9b73-4aea-abbf-7784644a662b",
   "metadata": {},
   "outputs": [],
   "source": [
    "os.environ[\"OMP_NUM_THREADS\"] = ncore\n",
    "os.environ[\"OPENBLAS_NUM_THREADS\"] = ncore\n",
    "os.environ[\"MKL_NUM_THREADS\"] = ncore\n",
    "os.environ[\"VECLIB_MAXIMUM_THREADS\"] = ncore\n",
    "os.environ[\"NUMEXPR_NUM_THREADS\"] = ncore"
   ]
  },
  {
   "cell_type": "code",
   "execution_count": 11,
   "id": "2391fc65-6fa0-4450-b5c2-e875cab616fc",
   "metadata": {
    "collapsed": true,
    "jupyter": {
     "outputs_hidden": true
    },
    "tags": []
   },
   "outputs": [
    {
     "name": "stdout",
     "output_type": "stream",
     "text": [
      "WARNING: If you miss a compact list, please try `print_header`!\n",
      "The `sinfo` package has changed name and is now called `session_info` to become more discoverable and self-explanatory. The `sinfo` PyPI package will be kept around to avoid breaking old installs and you can downgrade to 0.3.2 if you want to use it without seeing this message. For the latest features and bug fixes, please install `session_info` instead. The usage and defaults also changed slightly, so please review the latest README at https://gitlab.com/joelostblom/session_info.\n",
      "-----\n",
      "anndata     0.7.6\n",
      "scanpy      1.8.1\n",
      "sinfo       0.3.4\n",
      "-----\n",
      "PIL                 8.3.1\n",
      "annoy               NA\n",
      "anyio               NA\n",
      "attr                21.2.0\n",
      "babel               2.9.1\n",
      "backcall            0.2.0\n",
      "beta_ufunc          NA\n",
      "binom_ufunc         NA\n",
      "brotli              NA\n",
      "certifi             2021.05.30\n",
      "cffi                1.14.6\n",
      "chardet             4.0.0\n",
      "charset_normalizer  2.0.0\n",
      "cycler              0.10.0\n",
      "cython_runtime      NA\n",
      "dateutil            2.8.2\n",
      "decorator           5.0.9\n",
      "defusedxml          0.7.1\n",
      "entrypoints         0.3\n",
      "fbpca               NA\n",
      "git                 3.1.23\n",
      "gitdb               4.0.7\n",
      "google              NA\n",
      "h5py                3.3.0\n",
      "idna                3.1\n",
      "igraph              0.9.6\n",
      "intervaltree        NA\n",
      "ipykernel           6.2.0\n",
      "ipython_genutils    0.2.0\n",
      "jedi                0.18.0\n",
      "jinja2              3.0.1\n",
      "joblib              1.0.1\n",
      "json5               NA\n",
      "jsonschema          3.2.0\n",
      "jupyter_server      1.10.2\n",
      "jupyterlab_server   2.7.1\n",
      "kiwisolver          1.3.1\n",
      "leidenalg           0.8.7\n",
      "llvmlite            0.36.0\n",
      "markupsafe          2.0.1\n",
      "matplotlib          3.4.3\n",
      "matplotlib_inline   NA\n",
      "mpl_toolkits        NA\n",
      "natsort             7.1.1\n",
      "nbclassic           NA\n",
      "nbformat            5.1.3\n",
      "nbinom_ufunc        NA\n",
      "numba               0.53.1\n",
      "numexpr             2.7.3\n",
      "numpy               1.21.2\n",
      "packaging           21.0\n",
      "pandas              1.3.2\n",
      "parso               0.8.2\n",
      "pexpect             4.8.0\n",
      "pickleshare         0.7.5\n",
      "pkg_resources       NA\n",
      "prometheus_client   NA\n",
      "prompt_toolkit      3.0.19\n",
      "ptyprocess          0.7.0\n",
      "pvectorc            NA\n",
      "pyexpat             NA\n",
      "pygments            2.10.0\n",
      "pyparsing           2.4.7\n",
      "pyrsistent          NA\n",
      "pytz                2021.1\n",
      "requests            2.26.0\n",
      "scanorama           1.7.1\n",
      "scipy               1.7.1\n",
      "seaborn             0.11.2\n",
      "send2trash          NA\n",
      "six                 1.16.0\n",
      "sklearn             0.24.2\n",
      "smmap               3.0.5\n",
      "sniffio             1.2.0\n",
      "socks               1.7.1\n",
      "sortedcontainers    2.4.0\n",
      "statsmodels         0.12.2\n",
      "storemagic          NA\n",
      "tables              3.6.1\n",
      "terminado           0.10.1\n",
      "texttable           1.6.4\n",
      "tornado             6.1\n",
      "traitlets           5.0.5\n",
      "typing_extensions   NA\n",
      "urllib3             1.26.6\n",
      "wcwidth             0.2.5\n",
      "websocket           0.57.0\n",
      "zmq                 22.2.1\n",
      "-----\n",
      "IPython             7.26.0\n",
      "jupyter_client      6.1.12\n",
      "jupyter_core        4.7.1\n",
      "jupyterlab          3.1.7\n",
      "notebook            6.4.3\n",
      "-----\n",
      "Python 3.9.6 | packaged by conda-forge | (default, Jul 11 2021, 03:39:48) [GCC 9.3.0]\n",
      "Linux-3.10.0-1160.71.1.el7.x86_64-x86_64-with-glibc2.17\n",
      "96 logical CPU cores, x86_64\n",
      "-----\n",
      "Session information updated at 2023-01-31 09:25\n",
      "\n"
     ]
    }
   ],
   "source": [
    "sc.logging.print_versions()\n",
    "sc.set_figure_params(facecolor=\"white\", figsize=(8, 8))\n",
    "sc.settings.verbosity = 0"
   ]
  },
  {
   "cell_type": "markdown",
   "id": "f9779bd1-cfec-4671-a4ec-cfcd6ce85fe2",
   "metadata": {},
   "source": [
    "### Parameters"
   ]
  },
  {
   "cell_type": "code",
   "execution_count": 18,
   "id": "5955ef35-33c2-45a6-95f5-253ae73d198d",
   "metadata": {
    "tags": []
   },
   "outputs": [],
   "source": [
    "data_path = '../data/current'"
   ]
  },
  {
   "cell_type": "code",
   "execution_count": 19,
   "id": "eac76e89-f20f-4dee-8a80-a7204d42076f",
   "metadata": {},
   "outputs": [
    {
     "data": {
      "text/plain": [
       "'../data/current'"
      ]
     },
     "execution_count": 19,
     "metadata": {},
     "output_type": "execute_result"
    }
   ],
   "source": [
    "data_path"
   ]
  },
  {
   "cell_type": "code",
   "execution_count": 20,
   "id": "4c0295fc-2859-4567-8551-ce0fef205f65",
   "metadata": {},
   "outputs": [],
   "source": [
    "result_path = '../results/current'"
   ]
  },
  {
   "cell_type": "code",
   "execution_count": 21,
   "id": "84899e57-5b7b-4d7e-8486-b49dc784fe2a",
   "metadata": {},
   "outputs": [],
   "source": [
    "libraries =['0001', '0002', '0003', '0004', '0005', '0006', '0007', '0008', '0009', '0010', '0011', '0012', '0013', '0014'] # reduced to only 4 libraries for testing"
   ]
  },
  {
   "cell_type": "code",
   "execution_count": 22,
   "id": "24071c8f-dcae-45b9-a4e5-059305a034a8",
   "metadata": {},
   "outputs": [],
   "source": [
    "libraries_text = ['L1', 'L2', 'L3', 'L4', 'L5', 'L6', 'L7', 'L8', 'L9', 'L10', 'L11', 'L12', 'L13', 'L14']"
   ]
  },
  {
   "cell_type": "code",
   "execution_count": 23,
   "id": "029a9d1a-2d79-4ca2-bed3-6798bfeb3f61",
   "metadata": {},
   "outputs": [],
   "source": [
    "libraries_dict = {'0001': 'L1', '0002': 'L2', '0003': 'L3', '0004': 'L4', '0005': 'L5',  '0006': 'L6', '0007': 'L7', '0008': 'L8', '0009': 'L9', '0010': 'L10', '0011': 'L11', '0012': 'L12', '0013': 'L13', '0014': 'L14'}"
   ]
  },
  {
   "cell_type": "markdown",
   "id": "076b897e-e396-43ac-ab06-ac690cd8d691",
   "metadata": {},
   "source": [
    "## Meta-Data File"
   ]
  },
  {
   "cell_type": "code",
   "execution_count": 24,
   "id": "f99420a7-ac2a-40f0-b74d-2b1cc25f97a8",
   "metadata": {},
   "outputs": [
    {
     "name": "stdout",
     "output_type": "stream",
     "text": [
      "Last modifiedThu Sep  2 13:17:03 2021\n"
     ]
    }
   ],
   "source": [
    "path = data_path + \"/preprocessed-data/meta-data/Mapping_Hashtag_Sample.csv\"\n",
    "library_hashtag_mapping = pd.read_csv(path) \n",
    "print('Last modified' + time.ctime(os.path.getmtime(path)))"
   ]
  },
  {
   "cell_type": "code",
   "execution_count": 25,
   "id": "702e402f-9234-43d1-93d2-9bcbaf377ab3",
   "metadata": {
    "tags": []
   },
   "outputs": [],
   "source": [
    "# library_hashtag_mapping"
   ]
  },
  {
   "cell_type": "markdown",
   "id": "839c150f-f1c2-46eb-aefa-c030a0c1fdce",
   "metadata": {
    "tags": []
   },
   "source": [
    "## RNA data from A6"
   ]
  },
  {
   "cell_type": "code",
   "execution_count": 29,
   "id": "211c7ea4-f218-4f8e-8b64-1bdf9c99bc11",
   "metadata": {},
   "outputs": [],
   "source": [
    "### use data from A6"
   ]
  },
  {
   "cell_type": "code",
   "execution_count": 30,
   "id": "4c043b52-17d5-4d05-b8ef-d66e031cd81d",
   "metadata": {},
   "outputs": [],
   "source": [
    "anndata_dict = dict.fromkeys(libraries_text)"
   ]
  },
  {
   "cell_type": "code",
   "execution_count": 31,
   "id": "f3e1b5be-dde1-4cac-bef7-4df865047416",
   "metadata": {},
   "outputs": [],
   "source": [
    "#anndata_dict"
   ]
  },
  {
   "cell_type": "code",
   "execution_count": 170,
   "id": "8d03df37-9649-439c-a3b0-7e39a167a618",
   "metadata": {
    "tags": []
   },
   "outputs": [
    {
     "name": "stdout",
     "output_type": "stream",
     "text": [
      "../data/current/analysis/A/A6_Processed_L1_rna_Final.h5ad\n",
      "Last modifiedFri Jan 20 11:51:11 2023\n",
      "../data/current/analysis/A/A6_Processed_L2_rna_Final.h5ad\n",
      "Last modifiedFri Jan 20 11:51:14 2023\n",
      "../data/current/analysis/A/A6_Processed_L3_rna_Final.h5ad\n",
      "Last modifiedFri Jan 20 11:51:18 2023\n",
      "../data/current/analysis/A/A6_Processed_L4_rna_Final.h5ad\n",
      "Last modifiedFri Jan 20 11:51:22 2023\n",
      "../data/current/analysis/A/A6_Processed_L5_rna_Final.h5ad\n",
      "Last modifiedFri Jan 20 11:51:27 2023\n",
      "../data/current/analysis/A/A6_Processed_L6_rna_Final.h5ad\n",
      "Last modifiedFri Jan 20 11:51:31 2023\n",
      "../data/current/analysis/A/A6_Processed_L7_rna_Final.h5ad\n",
      "Last modifiedFri Jan 20 11:51:35 2023\n",
      "../data/current/analysis/A/A6_Processed_L8_rna_Final.h5ad\n",
      "Last modifiedFri Jan 20 11:51:39 2023\n",
      "../data/current/analysis/A/A6_Processed_L9_rna_Final.h5ad\n",
      "Last modifiedFri Jan 20 11:51:43 2023\n",
      "../data/current/analysis/A/A6_Processed_L10_rna_Final.h5ad\n",
      "Last modifiedFri Jan 20 11:51:47 2023\n",
      "../data/current/analysis/A/A6_Processed_L11_rna_Final.h5ad\n",
      "Last modifiedFri Jan 20 11:51:52 2023\n",
      "../data/current/analysis/A/A6_Processed_L12_rna_Final.h5ad\n",
      "Last modifiedFri Jan 20 11:51:58 2023\n",
      "../data/current/analysis/A/A6_Processed_L13_rna_Final.h5ad\n",
      "Last modifiedFri Jan 20 11:52:02 2023\n",
      "../data/current/analysis/A/A6_Processed_L14_rna_Final.h5ad\n",
      "Last modifiedFri Jan 20 11:52:07 2023\n"
     ]
    }
   ],
   "source": [
    "for key in anndata_dict:\n",
    "    dataset_path = data_path + \"/analysis/A/A6_Processed_\" + key + '_rna_Final.h5ad'\n",
    "    \n",
    "    print(dataset_path)\n",
    "    print('Last modified' + time.ctime(os.path.getmtime(dataset_path)))\n",
    "    \n",
    "    adata_orig = sc.read_h5ad(dataset_path)\n",
    "    adata_orig.var_names_make_unique()  # make variable names unique\n",
    "    sc.pp.filter_genes(adata_orig, min_cells=1)  # filter genes\n",
    "    \n",
    "    anndata_dict[key]= adata_orig # save anndata in dictionary\n",
    "    anndata_dict[key].uns['data_load_time'] = time.ctime(os.path.getmtime(dataset_path))  # save the last modified timestamp of the data loaded\n",
    "    anndata_dict[key].uns['data_load_name'] = dataset_path # save the data path of the data loaded \n",
    "    "
   ]
  },
  {
   "cell_type": "code",
   "execution_count": 171,
   "id": "4269c6be-8553-4402-94fa-4279d21c12a1",
   "metadata": {},
   "outputs": [],
   "source": [
    "### Short data check"
   ]
  },
  {
   "cell_type": "code",
   "execution_count": 172,
   "id": "d97f347f-8a10-4c9f-b481-e75626998be5",
   "metadata": {},
   "outputs": [
    {
     "data": {
      "text/plain": [
       "AnnData object with n_obs × n_vars = 18549 × 21407\n",
       "    obs: 'nCount_HTO', 'nFeature_HTO', 'nCount_RNA', 'nFeature_RNA', 'percent_mt', 'HTO_maxID', 'HTO_secondID', 'HTO_margin', 'HTO_classification', 'HTO_classification.global', 'hash.ID', 'HTO_classification_final', 'name', 'library', 'id', 'read', 'pattern', 'sequence', 'feature_type', 'Unnamed: 7', 'in_sample', 'display_name', 'group', 'HTO_Doublet_Classification', 'doublet_score', 'predicted_doublet', 'A5_scrublet_predicted_doublet_lib0.1', 'A5_scrublet_doublet_score_lib_0.1', 'A5_scrublet_predicted_doublet_lib0.2', 'A5_scrublet_doublet_score_lib_0.2', 'A5_scrublet_predicted_doublet_lib', 'A5_scrublet_doublet_score_lib', 'n_genes', 'n_genes_by_counts', 'total_counts', 'total_counts_mt', 'pct_counts_mt', 'valid_cell_filter_dying', 'valid_cell_filter_doublet'\n",
       "    var: 'gene_ids', 'feature_types', 'genome', 'n_cells', 'mt', 'rb', 'n_cells_by_counts', 'mean_counts', 'pct_dropout_by_counts', 'total_counts', 'highly_variable', 'means', 'dispersions', 'dispersions_norm'\n",
       "    uns: 'data_load_name', 'data_load_time', 'data_save_name', 'data_save_time', 'hvg', 'scrublet'\n",
       "    obsm: 'A6_only_highly_variable'\n",
       "    layers: 'A6_normalized', 'A6_normalized_log'"
      ]
     },
     "execution_count": 172,
     "metadata": {},
     "output_type": "execute_result"
    }
   ],
   "source": [
    "anndata_dict['L1']"
   ]
  },
  {
   "cell_type": "code",
   "execution_count": 173,
   "id": "ef462379-bbdc-4665-880a-d61ed4e52387",
   "metadata": {},
   "outputs": [
    {
     "data": {
      "text/plain": [
       "matrix([[2192.7395],\n",
       "        [1646.0859],\n",
       "        [2101.9817],\n",
       "        ...,\n",
       "        [2003.8291],\n",
       "        [1930.2568],\n",
       "        [2271.1406]], dtype=float32)"
      ]
     },
     "execution_count": 173,
     "metadata": {},
     "output_type": "execute_result"
    }
   ],
   "source": [
    "anndata_dict['L1'].X.sum(axis=1)"
   ]
  },
  {
   "cell_type": "code",
   "execution_count": 174,
   "id": "105c5b3c-9f86-45b7-8442-59a8cce63033",
   "metadata": {},
   "outputs": [
    {
     "data": {
      "text/plain": [
       "matrix([[6685.],\n",
       "        [3167.],\n",
       "        [7907.],\n",
       "        ...,\n",
       "        [4105.],\n",
       "        [4064.],\n",
       "        [7343.]], dtype=float32)"
      ]
     },
     "execution_count": 174,
     "metadata": {},
     "output_type": "execute_result"
    }
   ],
   "source": [
    "anndata_dict['L1'].raw.X.sum(axis=1)"
   ]
  },
  {
   "cell_type": "markdown",
   "id": "6befa42d-6281-4b74-bac3-6197e9538f19",
   "metadata": {},
   "source": [
    "# Investigation and Tests"
   ]
  },
  {
   "cell_type": "code",
   "execution_count": 175,
   "id": "35e9a267-601d-4b52-bf2e-055f8bb190b1",
   "metadata": {},
   "outputs": [
    {
     "data": {
      "text/plain": [
       "['Doublet', 'Negative', 'Singlet']\n",
       "Categories (3, object): ['Doublet', 'Negative', 'Singlet']"
      ]
     },
     "execution_count": 175,
     "metadata": {},
     "output_type": "execute_result"
    }
   ],
   "source": [
    "pd.unique(anndata_dict['L1'].obs['HTO_classification.global'])"
   ]
  },
  {
   "cell_type": "markdown",
   "id": "cb9f5a77-69c8-4851-84fb-c13afa24dcaf",
   "metadata": {},
   "source": [
    "# Generate AZIMUTH Input Data"
   ]
  },
  {
   "cell_type": "code",
   "execution_count": 176,
   "id": "7feab2e0-42c6-4bcc-ad9d-237d58c8fab4",
   "metadata": {},
   "outputs": [],
   "source": [
    "### Filter on Singlets"
   ]
  },
  {
   "cell_type": "code",
   "execution_count": 177,
   "id": "a3faffac-d4e6-4456-a72d-cd97dffd6992",
   "metadata": {},
   "outputs": [],
   "source": [
    "for key in anndata_dict:\n",
    "    anndata_dict[key] = anndata_dict[key][anndata_dict[key].obs['HTO_classification.global']=='Singlet']\n",
    "    del anndata_dict[key].uns\n",
    "    \n",
    "    "
   ]
  },
  {
   "cell_type": "code",
   "execution_count": 178,
   "id": "9a202e5b-54f8-4f1e-a501-581ad167f8c6",
   "metadata": {},
   "outputs": [
    {
     "data": {
      "text/plain": [
       "['Singlet']\n",
       "Categories (1, object): ['Singlet']"
      ]
     },
     "execution_count": 178,
     "metadata": {},
     "output_type": "execute_result"
    }
   ],
   "source": [
    "pd.unique(anndata_dict['L1'].obs['HTO_classification.global'])"
   ]
  },
  {
   "cell_type": "code",
   "execution_count": 179,
   "id": "e5da421f-186d-46e5-8569-e156708fb654",
   "metadata": {},
   "outputs": [
    {
     "data": {
      "text/plain": [
       "AnnData object with n_obs × n_vars = 12113 × 21407\n",
       "    obs: 'nCount_HTO', 'nFeature_HTO', 'nCount_RNA', 'nFeature_RNA', 'percent_mt', 'HTO_maxID', 'HTO_secondID', 'HTO_margin', 'HTO_classification', 'HTO_classification.global', 'hash.ID', 'HTO_classification_final', 'name', 'library', 'id', 'read', 'pattern', 'sequence', 'feature_type', 'Unnamed: 7', 'in_sample', 'display_name', 'group', 'HTO_Doublet_Classification', 'doublet_score', 'predicted_doublet', 'A5_scrublet_predicted_doublet_lib0.1', 'A5_scrublet_doublet_score_lib_0.1', 'A5_scrublet_predicted_doublet_lib0.2', 'A5_scrublet_doublet_score_lib_0.2', 'A5_scrublet_predicted_doublet_lib', 'A5_scrublet_doublet_score_lib', 'n_genes', 'n_genes_by_counts', 'total_counts', 'total_counts_mt', 'pct_counts_mt', 'valid_cell_filter_dying', 'valid_cell_filter_doublet'\n",
       "    var: 'gene_ids', 'feature_types', 'genome', 'n_cells', 'mt', 'rb', 'n_cells_by_counts', 'mean_counts', 'pct_dropout_by_counts', 'total_counts', 'highly_variable', 'means', 'dispersions', 'dispersions_norm'\n",
       "    obsm: 'A6_only_highly_variable'\n",
       "    layers: 'A6_normalized', 'A6_normalized_log'"
      ]
     },
     "execution_count": 179,
     "metadata": {},
     "output_type": "execute_result"
    }
   ],
   "source": [
    "anndata_dict['L1']"
   ]
  },
  {
   "cell_type": "code",
   "execution_count": 180,
   "id": "a7cb53c4-c2a8-4f91-9126-7b7cf7dda4f9",
   "metadata": {},
   "outputs": [],
   "source": [
    "### Remove rb and mitochondrial genes (only do this when using already filtered data for rb %)"
   ]
  },
  {
   "cell_type": "code",
   "execution_count": 181,
   "id": "9f261f3e-e142-4c83-b246-2f4e752cbe6c",
   "metadata": {},
   "outputs": [],
   "source": [
    "for key in anndata_dict:\n",
    "        anndata_dict[key] = anndata_dict[key][:,np.logical_and(anndata_dict[key].var['rb'] == False , anndata_dict[key].var['mt'] == False)]"
   ]
  },
  {
   "cell_type": "code",
   "execution_count": 182,
   "id": "171c31f2-047c-41cf-acac-955129432d09",
   "metadata": {},
   "outputs": [
    {
     "data": {
      "text/plain": [
       "View of AnnData object with n_obs × n_vars = 12113 × 21294\n",
       "    obs: 'nCount_HTO', 'nFeature_HTO', 'nCount_RNA', 'nFeature_RNA', 'percent_mt', 'HTO_maxID', 'HTO_secondID', 'HTO_margin', 'HTO_classification', 'HTO_classification.global', 'hash.ID', 'HTO_classification_final', 'name', 'library', 'id', 'read', 'pattern', 'sequence', 'feature_type', 'Unnamed: 7', 'in_sample', 'display_name', 'group', 'HTO_Doublet_Classification', 'doublet_score', 'predicted_doublet', 'A5_scrublet_predicted_doublet_lib0.1', 'A5_scrublet_doublet_score_lib_0.1', 'A5_scrublet_predicted_doublet_lib0.2', 'A5_scrublet_doublet_score_lib_0.2', 'A5_scrublet_predicted_doublet_lib', 'A5_scrublet_doublet_score_lib', 'n_genes', 'n_genes_by_counts', 'total_counts', 'total_counts_mt', 'pct_counts_mt', 'valid_cell_filter_dying', 'valid_cell_filter_doublet'\n",
       "    var: 'gene_ids', 'feature_types', 'genome', 'n_cells', 'mt', 'rb', 'n_cells_by_counts', 'mean_counts', 'pct_dropout_by_counts', 'total_counts', 'highly_variable', 'means', 'dispersions', 'dispersions_norm'\n",
       "    obsm: 'A6_only_highly_variable'\n",
       "    layers: 'A6_normalized', 'A6_normalized_log'"
      ]
     },
     "execution_count": 182,
     "metadata": {},
     "output_type": "execute_result"
    }
   ],
   "source": [
    "anndata_dict['L1']"
   ]
  },
  {
   "cell_type": "code",
   "execution_count": 183,
   "id": "869a10de-7868-4e3b-95b3-76030cfbe08b",
   "metadata": {},
   "outputs": [],
   "source": [
    "### Further data adaptions"
   ]
  },
  {
   "cell_type": "code",
   "execution_count": 184,
   "id": "f6662679-5b7d-46cf-8bd8-f881d498d0b6",
   "metadata": {},
   "outputs": [
    {
     "name": "stderr",
     "output_type": "stream",
     "text": [
      "Trying to set attribute `.obs` of view, copying.\n",
      "Trying to set attribute `.obs` of view, copying.\n",
      "Trying to set attribute `.obs` of view, copying.\n",
      "Trying to set attribute `.obs` of view, copying.\n",
      "Trying to set attribute `.obs` of view, copying.\n",
      "Trying to set attribute `.obs` of view, copying.\n",
      "Trying to set attribute `.obs` of view, copying.\n",
      "Trying to set attribute `.obs` of view, copying.\n",
      "Trying to set attribute `.obs` of view, copying.\n",
      "Trying to set attribute `.obs` of view, copying.\n",
      "Trying to set attribute `.obs` of view, copying.\n",
      "Trying to set attribute `.obs` of view, copying.\n",
      "Trying to set attribute `.obs` of view, copying.\n",
      "Trying to set attribute `.obs` of view, copying.\n"
     ]
    }
   ],
   "source": [
    "for key in anndata_dict:\n",
    "    for col in anndata_dict[key].obs.columns:\n",
    "        if pd.api.types.is_categorical_dtype(anndata_dict[key].obs[col]):\n",
    "            anndata_dict[key].obs[col]=anndata_dict[key].obs[col].cat.add_categories(\"missing\").fillna('missing')"
   ]
  },
  {
   "cell_type": "code",
   "execution_count": 188,
   "id": "f3a334fb-72dd-4036-a001-2d241398676e",
   "metadata": {
    "tags": []
   },
   "outputs": [],
   "source": [
    "#for key in anndata_dict:\n",
    "    #del anndata_dict[key].obs['Unnamed: 7']\n",
    "    #del anndata_dict[key].obs['A5_scrublet_predicted_doublet_lib0.1']\n",
    "    #del anndata_dict[key].obs['A5_scrublet_predicted_doublet_lib0.2']\n",
    "    #del anndata_dict[key].obs['A5_scrublet_doublet_score_lib_0.1']"
   ]
  },
  {
   "cell_type": "code",
   "execution_count": 189,
   "id": "0a5f1d0d-addf-4e03-a75e-7525014f9ce0",
   "metadata": {
    "tags": []
   },
   "outputs": [],
   "source": [
    "for key in anndata_dict:\n",
    "    del anndata_dict[key].obs['HTO_classification.global']"
   ]
  },
  {
   "cell_type": "code",
   "execution_count": 190,
   "id": "d6d20763-b83c-4f1a-aa66-d0f2bd1f9a41",
   "metadata": {},
   "outputs": [],
   "source": [
    "for key in anndata_dict:\n",
    "    del anndata_dict[key].obs['hash.ID']"
   ]
  },
  {
   "cell_type": "code",
   "execution_count": 191,
   "id": "2738cb5c-f37c-47bd-8396-64127d3d8579",
   "metadata": {},
   "outputs": [],
   "source": [
    "for key in anndata_dict:\n",
    "    del anndata_dict[key].layers"
   ]
  },
  {
   "cell_type": "code",
   "execution_count": 192,
   "id": "fb8767fa-2ace-4e48-a884-eaeeb5f08e10",
   "metadata": {},
   "outputs": [],
   "source": [
    "for key in anndata_dict:\n",
    "    del anndata_dict[key].obsm"
   ]
  },
  {
   "cell_type": "code",
   "execution_count": 206,
   "id": "059d2108-84f3-4bf7-9560-2e6dbef1c26f",
   "metadata": {},
   "outputs": [
    {
     "data": {
      "text/html": [
       "<div>\n",
       "<style scoped>\n",
       "    .dataframe tbody tr th:only-of-type {\n",
       "        vertical-align: middle;\n",
       "    }\n",
       "\n",
       "    .dataframe tbody tr th {\n",
       "        vertical-align: top;\n",
       "    }\n",
       "\n",
       "    .dataframe thead th {\n",
       "        text-align: right;\n",
       "    }\n",
       "</style>\n",
       "<table border=\"1\" class=\"dataframe\">\n",
       "  <thead>\n",
       "    <tr style=\"text-align: right;\">\n",
       "      <th></th>\n",
       "      <th>nCount_HTO</th>\n",
       "      <th>nFeature_HTO</th>\n",
       "      <th>nCount_RNA</th>\n",
       "      <th>nFeature_RNA</th>\n",
       "      <th>percent_mt</th>\n",
       "      <th>HTO_maxID</th>\n",
       "      <th>HTO_secondID</th>\n",
       "      <th>HTO_margin</th>\n",
       "      <th>HTO_classification</th>\n",
       "      <th>HTO_classification_final</th>\n",
       "      <th>...</th>\n",
       "      <th>A5_scrublet_doublet_score_lib_0.2</th>\n",
       "      <th>A5_scrublet_predicted_doublet_lib</th>\n",
       "      <th>A5_scrublet_doublet_score_lib</th>\n",
       "      <th>n_genes</th>\n",
       "      <th>n_genes_by_counts</th>\n",
       "      <th>total_counts</th>\n",
       "      <th>total_counts_mt</th>\n",
       "      <th>pct_counts_mt</th>\n",
       "      <th>valid_cell_filter_dying</th>\n",
       "      <th>valid_cell_filter_doublet</th>\n",
       "    </tr>\n",
       "  </thead>\n",
       "  <tbody>\n",
       "    <tr>\n",
       "      <th>AAACCCACATACAGGG-1</th>\n",
       "      <td>1574.0</td>\n",
       "      <td>7</td>\n",
       "      <td>3947.0</td>\n",
       "      <td>1232</td>\n",
       "      <td>7.980745</td>\n",
       "      <td>9.1</td>\n",
       "      <td>1.1</td>\n",
       "      <td>2.253048</td>\n",
       "      <td>9.1</td>\n",
       "      <td>9.1</td>\n",
       "      <td>...</td>\n",
       "      <td>0.100684</td>\n",
       "      <td>False</td>\n",
       "      <td>0.100684</td>\n",
       "      <td>1232</td>\n",
       "      <td>1232</td>\n",
       "      <td>3947.0</td>\n",
       "      <td>315.0</td>\n",
       "      <td>7.980745</td>\n",
       "      <td>True</td>\n",
       "      <td>True</td>\n",
       "    </tr>\n",
       "    <tr>\n",
       "      <th>AAACCCACATGACTTG-1</th>\n",
       "      <td>379.0</td>\n",
       "      <td>7</td>\n",
       "      <td>5871.0</td>\n",
       "      <td>1890</td>\n",
       "      <td>7.256004</td>\n",
       "      <td>9.1</td>\n",
       "      <td>7.1</td>\n",
       "      <td>0.943193</td>\n",
       "      <td>9.1</td>\n",
       "      <td>9.1</td>\n",
       "      <td>...</td>\n",
       "      <td>0.015934</td>\n",
       "      <td>False</td>\n",
       "      <td>0.015934</td>\n",
       "      <td>1890</td>\n",
       "      <td>1890</td>\n",
       "      <td>5871.0</td>\n",
       "      <td>426.0</td>\n",
       "      <td>7.256004</td>\n",
       "      <td>True</td>\n",
       "      <td>True</td>\n",
       "    </tr>\n",
       "    <tr>\n",
       "      <th>AAACCCAGTCATCAGT-1</th>\n",
       "      <td>421.0</td>\n",
       "      <td>7</td>\n",
       "      <td>3889.0</td>\n",
       "      <td>1297</td>\n",
       "      <td>4.551299</td>\n",
       "      <td>7.1</td>\n",
       "      <td>1.1</td>\n",
       "      <td>2.265289</td>\n",
       "      <td>7.1</td>\n",
       "      <td>7.1</td>\n",
       "      <td>...</td>\n",
       "      <td>0.104063</td>\n",
       "      <td>False</td>\n",
       "      <td>0.104063</td>\n",
       "      <td>1297</td>\n",
       "      <td>1297</td>\n",
       "      <td>3889.0</td>\n",
       "      <td>177.0</td>\n",
       "      <td>4.551299</td>\n",
       "      <td>True</td>\n",
       "      <td>True</td>\n",
       "    </tr>\n",
       "    <tr>\n",
       "      <th>AAACCCAGTGGTAATA-1</th>\n",
       "      <td>478.0</td>\n",
       "      <td>7</td>\n",
       "      <td>5094.0</td>\n",
       "      <td>1327</td>\n",
       "      <td>6.340793</td>\n",
       "      <td>9.1</td>\n",
       "      <td>8.1</td>\n",
       "      <td>1.319735</td>\n",
       "      <td>9.1</td>\n",
       "      <td>9.1</td>\n",
       "      <td>...</td>\n",
       "      <td>0.403509</td>\n",
       "      <td>False</td>\n",
       "      <td>0.403509</td>\n",
       "      <td>1327</td>\n",
       "      <td>1327</td>\n",
       "      <td>5094.0</td>\n",
       "      <td>323.0</td>\n",
       "      <td>6.340793</td>\n",
       "      <td>True</td>\n",
       "      <td>True</td>\n",
       "    </tr>\n",
       "    <tr>\n",
       "      <th>AAACCCATCATCACAG-1</th>\n",
       "      <td>851.0</td>\n",
       "      <td>7</td>\n",
       "      <td>17480.0</td>\n",
       "      <td>2363</td>\n",
       "      <td>2.665904</td>\n",
       "      <td>9.1</td>\n",
       "      <td>5.1</td>\n",
       "      <td>1.629594</td>\n",
       "      <td>9.1</td>\n",
       "      <td>9.1</td>\n",
       "      <td>...</td>\n",
       "      <td>0.124464</td>\n",
       "      <td>False</td>\n",
       "      <td>0.124464</td>\n",
       "      <td>2363</td>\n",
       "      <td>2359</td>\n",
       "      <td>17326.0</td>\n",
       "      <td>466.0</td>\n",
       "      <td>2.689599</td>\n",
       "      <td>True</td>\n",
       "      <td>True</td>\n",
       "    </tr>\n",
       "    <tr>\n",
       "      <th>...</th>\n",
       "      <td>...</td>\n",
       "      <td>...</td>\n",
       "      <td>...</td>\n",
       "      <td>...</td>\n",
       "      <td>...</td>\n",
       "      <td>...</td>\n",
       "      <td>...</td>\n",
       "      <td>...</td>\n",
       "      <td>...</td>\n",
       "      <td>...</td>\n",
       "      <td>...</td>\n",
       "      <td>...</td>\n",
       "      <td>...</td>\n",
       "      <td>...</td>\n",
       "      <td>...</td>\n",
       "      <td>...</td>\n",
       "      <td>...</td>\n",
       "      <td>...</td>\n",
       "      <td>...</td>\n",
       "      <td>...</td>\n",
       "      <td>...</td>\n",
       "    </tr>\n",
       "    <tr>\n",
       "      <th>TTTGTTGGTACCACGC-1</th>\n",
       "      <td>582.0</td>\n",
       "      <td>7</td>\n",
       "      <td>6647.0</td>\n",
       "      <td>2297</td>\n",
       "      <td>9.658493</td>\n",
       "      <td>1.1</td>\n",
       "      <td>9.1</td>\n",
       "      <td>1.017658</td>\n",
       "      <td>1.1</td>\n",
       "      <td>1.1</td>\n",
       "      <td>...</td>\n",
       "      <td>0.051482</td>\n",
       "      <td>False</td>\n",
       "      <td>0.051482</td>\n",
       "      <td>2297</td>\n",
       "      <td>2297</td>\n",
       "      <td>6647.0</td>\n",
       "      <td>642.0</td>\n",
       "      <td>9.658493</td>\n",
       "      <td>True</td>\n",
       "      <td>True</td>\n",
       "    </tr>\n",
       "    <tr>\n",
       "      <th>TTTGTTGGTGTCCAAT-1</th>\n",
       "      <td>379.0</td>\n",
       "      <td>7</td>\n",
       "      <td>2965.0</td>\n",
       "      <td>823</td>\n",
       "      <td>6.610455</td>\n",
       "      <td>8.1</td>\n",
       "      <td>5.1</td>\n",
       "      <td>1.425397</td>\n",
       "      <td>8.1</td>\n",
       "      <td>8.1</td>\n",
       "      <td>...</td>\n",
       "      <td>0.037681</td>\n",
       "      <td>False</td>\n",
       "      <td>0.037681</td>\n",
       "      <td>823</td>\n",
       "      <td>823</td>\n",
       "      <td>2965.0</td>\n",
       "      <td>196.0</td>\n",
       "      <td>6.610455</td>\n",
       "      <td>True</td>\n",
       "      <td>True</td>\n",
       "    </tr>\n",
       "    <tr>\n",
       "      <th>TTTGTTGTCAGACTGT-1</th>\n",
       "      <td>353.0</td>\n",
       "      <td>7</td>\n",
       "      <td>4259.0</td>\n",
       "      <td>1261</td>\n",
       "      <td>5.541207</td>\n",
       "      <td>5.1</td>\n",
       "      <td>8.1</td>\n",
       "      <td>1.482897</td>\n",
       "      <td>5.1</td>\n",
       "      <td>5.1</td>\n",
       "      <td>...</td>\n",
       "      <td>0.155875</td>\n",
       "      <td>False</td>\n",
       "      <td>0.155875</td>\n",
       "      <td>1261</td>\n",
       "      <td>1261</td>\n",
       "      <td>4259.0</td>\n",
       "      <td>236.0</td>\n",
       "      <td>5.541207</td>\n",
       "      <td>True</td>\n",
       "      <td>True</td>\n",
       "    </tr>\n",
       "    <tr>\n",
       "      <th>TTTGTTGTCCGTAGGC-1</th>\n",
       "      <td>250.0</td>\n",
       "      <td>7</td>\n",
       "      <td>4105.0</td>\n",
       "      <td>1250</td>\n",
       "      <td>2.752741</td>\n",
       "      <td>7.1</td>\n",
       "      <td>5.1</td>\n",
       "      <td>1.618696</td>\n",
       "      <td>7.1</td>\n",
       "      <td>7.1</td>\n",
       "      <td>...</td>\n",
       "      <td>0.168961</td>\n",
       "      <td>False</td>\n",
       "      <td>0.168961</td>\n",
       "      <td>1250</td>\n",
       "      <td>1250</td>\n",
       "      <td>4105.0</td>\n",
       "      <td>113.0</td>\n",
       "      <td>2.752741</td>\n",
       "      <td>True</td>\n",
       "      <td>True</td>\n",
       "    </tr>\n",
       "    <tr>\n",
       "      <th>TTTGTTGTCGGAGATG-1</th>\n",
       "      <td>488.0</td>\n",
       "      <td>7</td>\n",
       "      <td>4064.0</td>\n",
       "      <td>1185</td>\n",
       "      <td>5.585630</td>\n",
       "      <td>9.1</td>\n",
       "      <td>8.1</td>\n",
       "      <td>0.644727</td>\n",
       "      <td>9.1</td>\n",
       "      <td>9.1</td>\n",
       "      <td>...</td>\n",
       "      <td>0.150943</td>\n",
       "      <td>False</td>\n",
       "      <td>0.150943</td>\n",
       "      <td>1185</td>\n",
       "      <td>1185</td>\n",
       "      <td>4064.0</td>\n",
       "      <td>227.0</td>\n",
       "      <td>5.585630</td>\n",
       "      <td>True</td>\n",
       "      <td>True</td>\n",
       "    </tr>\n",
       "  </tbody>\n",
       "</table>\n",
       "<p>12113 rows × 34 columns</p>\n",
       "</div>"
      ],
      "text/plain": [
       "                    nCount_HTO  nFeature_HTO  nCount_RNA  nFeature_RNA  \\\n",
       "AAACCCACATACAGGG-1      1574.0             7      3947.0          1232   \n",
       "AAACCCACATGACTTG-1       379.0             7      5871.0          1890   \n",
       "AAACCCAGTCATCAGT-1       421.0             7      3889.0          1297   \n",
       "AAACCCAGTGGTAATA-1       478.0             7      5094.0          1327   \n",
       "AAACCCATCATCACAG-1       851.0             7     17480.0          2363   \n",
       "...                        ...           ...         ...           ...   \n",
       "TTTGTTGGTACCACGC-1       582.0             7      6647.0          2297   \n",
       "TTTGTTGGTGTCCAAT-1       379.0             7      2965.0           823   \n",
       "TTTGTTGTCAGACTGT-1       353.0             7      4259.0          1261   \n",
       "TTTGTTGTCCGTAGGC-1       250.0             7      4105.0          1250   \n",
       "TTTGTTGTCGGAGATG-1       488.0             7      4064.0          1185   \n",
       "\n",
       "                    percent_mt HTO_maxID HTO_secondID  HTO_margin  \\\n",
       "AAACCCACATACAGGG-1    7.980745       9.1          1.1    2.253048   \n",
       "AAACCCACATGACTTG-1    7.256004       9.1          7.1    0.943193   \n",
       "AAACCCAGTCATCAGT-1    4.551299       7.1          1.1    2.265289   \n",
       "AAACCCAGTGGTAATA-1    6.340793       9.1          8.1    1.319735   \n",
       "AAACCCATCATCACAG-1    2.665904       9.1          5.1    1.629594   \n",
       "...                        ...       ...          ...         ...   \n",
       "TTTGTTGGTACCACGC-1    9.658493       1.1          9.1    1.017658   \n",
       "TTTGTTGGTGTCCAAT-1    6.610455       8.1          5.1    1.425397   \n",
       "TTTGTTGTCAGACTGT-1    5.541207       5.1          8.1    1.482897   \n",
       "TTTGTTGTCCGTAGGC-1    2.752741       7.1          5.1    1.618696   \n",
       "TTTGTTGTCGGAGATG-1    5.585630       9.1          8.1    0.644727   \n",
       "\n",
       "                   HTO_classification HTO_classification_final  ...  \\\n",
       "AAACCCACATACAGGG-1                9.1                      9.1  ...   \n",
       "AAACCCACATGACTTG-1                9.1                      9.1  ...   \n",
       "AAACCCAGTCATCAGT-1                7.1                      7.1  ...   \n",
       "AAACCCAGTGGTAATA-1                9.1                      9.1  ...   \n",
       "AAACCCATCATCACAG-1                9.1                      9.1  ...   \n",
       "...                               ...                      ...  ...   \n",
       "TTTGTTGGTACCACGC-1                1.1                      1.1  ...   \n",
       "TTTGTTGGTGTCCAAT-1                8.1                      8.1  ...   \n",
       "TTTGTTGTCAGACTGT-1                5.1                      5.1  ...   \n",
       "TTTGTTGTCCGTAGGC-1                7.1                      7.1  ...   \n",
       "TTTGTTGTCGGAGATG-1                9.1                      9.1  ...   \n",
       "\n",
       "                   A5_scrublet_doublet_score_lib_0.2  \\\n",
       "AAACCCACATACAGGG-1                          0.100684   \n",
       "AAACCCACATGACTTG-1                          0.015934   \n",
       "AAACCCAGTCATCAGT-1                          0.104063   \n",
       "AAACCCAGTGGTAATA-1                          0.403509   \n",
       "AAACCCATCATCACAG-1                          0.124464   \n",
       "...                                              ...   \n",
       "TTTGTTGGTACCACGC-1                          0.051482   \n",
       "TTTGTTGGTGTCCAAT-1                          0.037681   \n",
       "TTTGTTGTCAGACTGT-1                          0.155875   \n",
       "TTTGTTGTCCGTAGGC-1                          0.168961   \n",
       "TTTGTTGTCGGAGATG-1                          0.150943   \n",
       "\n",
       "                   A5_scrublet_predicted_doublet_lib  \\\n",
       "AAACCCACATACAGGG-1                             False   \n",
       "AAACCCACATGACTTG-1                             False   \n",
       "AAACCCAGTCATCAGT-1                             False   \n",
       "AAACCCAGTGGTAATA-1                             False   \n",
       "AAACCCATCATCACAG-1                             False   \n",
       "...                                              ...   \n",
       "TTTGTTGGTACCACGC-1                             False   \n",
       "TTTGTTGGTGTCCAAT-1                             False   \n",
       "TTTGTTGTCAGACTGT-1                             False   \n",
       "TTTGTTGTCCGTAGGC-1                             False   \n",
       "TTTGTTGTCGGAGATG-1                             False   \n",
       "\n",
       "                   A5_scrublet_doublet_score_lib n_genes n_genes_by_counts  \\\n",
       "AAACCCACATACAGGG-1                      0.100684    1232              1232   \n",
       "AAACCCACATGACTTG-1                      0.015934    1890              1890   \n",
       "AAACCCAGTCATCAGT-1                      0.104063    1297              1297   \n",
       "AAACCCAGTGGTAATA-1                      0.403509    1327              1327   \n",
       "AAACCCATCATCACAG-1                      0.124464    2363              2359   \n",
       "...                                          ...     ...               ...   \n",
       "TTTGTTGGTACCACGC-1                      0.051482    2297              2297   \n",
       "TTTGTTGGTGTCCAAT-1                      0.037681     823               823   \n",
       "TTTGTTGTCAGACTGT-1                      0.155875    1261              1261   \n",
       "TTTGTTGTCCGTAGGC-1                      0.168961    1250              1250   \n",
       "TTTGTTGTCGGAGATG-1                      0.150943    1185              1185   \n",
       "\n",
       "                   total_counts total_counts_mt  pct_counts_mt  \\\n",
       "AAACCCACATACAGGG-1       3947.0           315.0       7.980745   \n",
       "AAACCCACATGACTTG-1       5871.0           426.0       7.256004   \n",
       "AAACCCAGTCATCAGT-1       3889.0           177.0       4.551299   \n",
       "AAACCCAGTGGTAATA-1       5094.0           323.0       6.340793   \n",
       "AAACCCATCATCACAG-1      17326.0           466.0       2.689599   \n",
       "...                         ...             ...            ...   \n",
       "TTTGTTGGTACCACGC-1       6647.0           642.0       9.658493   \n",
       "TTTGTTGGTGTCCAAT-1       2965.0           196.0       6.610455   \n",
       "TTTGTTGTCAGACTGT-1       4259.0           236.0       5.541207   \n",
       "TTTGTTGTCCGTAGGC-1       4105.0           113.0       2.752741   \n",
       "TTTGTTGTCGGAGATG-1       4064.0           227.0       5.585630   \n",
       "\n",
       "                   valid_cell_filter_dying valid_cell_filter_doublet  \n",
       "AAACCCACATACAGGG-1                    True                      True  \n",
       "AAACCCACATGACTTG-1                    True                      True  \n",
       "AAACCCAGTCATCAGT-1                    True                      True  \n",
       "AAACCCAGTGGTAATA-1                    True                      True  \n",
       "AAACCCATCATCACAG-1                    True                      True  \n",
       "...                                    ...                       ...  \n",
       "TTTGTTGGTACCACGC-1                    True                      True  \n",
       "TTTGTTGGTGTCCAAT-1                    True                      True  \n",
       "TTTGTTGTCAGACTGT-1                    True                      True  \n",
       "TTTGTTGTCCGTAGGC-1                    True                      True  \n",
       "TTTGTTGTCGGAGATG-1                    True                      True  \n",
       "\n",
       "[12113 rows x 34 columns]"
      ]
     },
     "execution_count": 206,
     "metadata": {},
     "output_type": "execute_result"
    }
   ],
   "source": [
    "anndata_dict[key].obs"
   ]
  },
  {
   "cell_type": "code",
   "execution_count": 208,
   "id": "a7310fd2-9ef7-4d80-ac51-ae3d0cdff885",
   "metadata": {},
   "outputs": [
    {
     "data": {
      "text/html": [
       "<div>\n",
       "<style scoped>\n",
       "    .dataframe tbody tr th:only-of-type {\n",
       "        vertical-align: middle;\n",
       "    }\n",
       "\n",
       "    .dataframe tbody tr th {\n",
       "        vertical-align: top;\n",
       "    }\n",
       "\n",
       "    .dataframe thead th {\n",
       "        text-align: right;\n",
       "    }\n",
       "</style>\n",
       "<table border=\"1\" class=\"dataframe\">\n",
       "  <thead>\n",
       "    <tr style=\"text-align: right;\">\n",
       "      <th></th>\n",
       "      <th>nCount_RNA</th>\n",
       "      <th>nFeature_RNA</th>\n",
       "    </tr>\n",
       "  </thead>\n",
       "  <tbody>\n",
       "    <tr>\n",
       "      <th>AAACCCACATACAGGG-1</th>\n",
       "      <td>3947.0</td>\n",
       "      <td>1232</td>\n",
       "    </tr>\n",
       "    <tr>\n",
       "      <th>AAACCCACATGACTTG-1</th>\n",
       "      <td>5871.0</td>\n",
       "      <td>1890</td>\n",
       "    </tr>\n",
       "    <tr>\n",
       "      <th>AAACCCAGTCATCAGT-1</th>\n",
       "      <td>3889.0</td>\n",
       "      <td>1297</td>\n",
       "    </tr>\n",
       "    <tr>\n",
       "      <th>AAACCCAGTGGTAATA-1</th>\n",
       "      <td>5094.0</td>\n",
       "      <td>1327</td>\n",
       "    </tr>\n",
       "    <tr>\n",
       "      <th>AAACCCATCATCACAG-1</th>\n",
       "      <td>17480.0</td>\n",
       "      <td>2363</td>\n",
       "    </tr>\n",
       "    <tr>\n",
       "      <th>...</th>\n",
       "      <td>...</td>\n",
       "      <td>...</td>\n",
       "    </tr>\n",
       "    <tr>\n",
       "      <th>TTTGTTGGTACCACGC-1</th>\n",
       "      <td>6647.0</td>\n",
       "      <td>2297</td>\n",
       "    </tr>\n",
       "    <tr>\n",
       "      <th>TTTGTTGGTGTCCAAT-1</th>\n",
       "      <td>2965.0</td>\n",
       "      <td>823</td>\n",
       "    </tr>\n",
       "    <tr>\n",
       "      <th>TTTGTTGTCAGACTGT-1</th>\n",
       "      <td>4259.0</td>\n",
       "      <td>1261</td>\n",
       "    </tr>\n",
       "    <tr>\n",
       "      <th>TTTGTTGTCCGTAGGC-1</th>\n",
       "      <td>4105.0</td>\n",
       "      <td>1250</td>\n",
       "    </tr>\n",
       "    <tr>\n",
       "      <th>TTTGTTGTCGGAGATG-1</th>\n",
       "      <td>4064.0</td>\n",
       "      <td>1185</td>\n",
       "    </tr>\n",
       "  </tbody>\n",
       "</table>\n",
       "<p>12113 rows × 2 columns</p>\n",
       "</div>"
      ],
      "text/plain": [
       "                    nCount_RNA  nFeature_RNA\n",
       "AAACCCACATACAGGG-1      3947.0          1232\n",
       "AAACCCACATGACTTG-1      5871.0          1890\n",
       "AAACCCAGTCATCAGT-1      3889.0          1297\n",
       "AAACCCAGTGGTAATA-1      5094.0          1327\n",
       "AAACCCATCATCACAG-1     17480.0          2363\n",
       "...                        ...           ...\n",
       "TTTGTTGGTACCACGC-1      6647.0          2297\n",
       "TTTGTTGGTGTCCAAT-1      2965.0           823\n",
       "TTTGTTGTCAGACTGT-1      4259.0          1261\n",
       "TTTGTTGTCCGTAGGC-1      4105.0          1250\n",
       "TTTGTTGTCGGAGATG-1      4064.0          1185\n",
       "\n",
       "[12113 rows x 2 columns]"
      ]
     },
     "execution_count": 208,
     "metadata": {},
     "output_type": "execute_result"
    }
   ],
   "source": [
    "anndata_dict[key].obs[['nCount_RNA' , 'nFeature_RNA']]"
   ]
  },
  {
   "cell_type": "code",
   "execution_count": 209,
   "id": "05d232a5-9994-4434-bc58-973ed4219849",
   "metadata": {},
   "outputs": [],
   "source": [
    "for key in anndata_dict:\n",
    "    anndata_dict[key].obs = anndata_dict[key].obs[['nCount_RNA' , 'nFeature_RNA']]"
   ]
  },
  {
   "cell_type": "code",
   "execution_count": 210,
   "id": "f35087ff-e6b0-431c-8f92-ddf0c1e04971",
   "metadata": {},
   "outputs": [
    {
     "ename": "AttributeError",
     "evalue": "'NoneType' object has no attribute 'to_adata'",
     "output_type": "error",
     "traceback": [
      "\u001b[0;31m---------------------------------------------------------------------------\u001b[0m",
      "\u001b[0;31mAttributeError\u001b[0m                            Traceback (most recent call last)",
      "\u001b[0;32m/tmp/ipykernel_324059/1265789976.py\u001b[0m in \u001b[0;36m<module>\u001b[0;34m\u001b[0m\n\u001b[1;32m      1\u001b[0m \u001b[0;31m### Get raw data\u001b[0m\u001b[0;34m\u001b[0m\u001b[0;34m\u001b[0m\u001b[0;34m\u001b[0m\u001b[0m\n\u001b[1;32m      2\u001b[0m \u001b[0;32mfor\u001b[0m \u001b[0mkey\u001b[0m \u001b[0;32min\u001b[0m \u001b[0manndata_dict\u001b[0m\u001b[0;34m:\u001b[0m\u001b[0;34m\u001b[0m\u001b[0;34m\u001b[0m\u001b[0m\n\u001b[0;32m----> 3\u001b[0;31m     \u001b[0manndata_dict\u001b[0m\u001b[0;34m[\u001b[0m\u001b[0mkey\u001b[0m\u001b[0;34m]\u001b[0m \u001b[0;34m=\u001b[0m \u001b[0manndata_dict\u001b[0m\u001b[0;34m[\u001b[0m\u001b[0mkey\u001b[0m\u001b[0;34m]\u001b[0m\u001b[0;34m.\u001b[0m\u001b[0mraw\u001b[0m\u001b[0;34m.\u001b[0m\u001b[0mto_adata\u001b[0m\u001b[0;34m(\u001b[0m\u001b[0;34m)\u001b[0m\u001b[0;34m\u001b[0m\u001b[0;34m\u001b[0m\u001b[0m\n\u001b[0m\u001b[1;32m      4\u001b[0m     \u001b[0manndata_dict\u001b[0m\u001b[0;34m[\u001b[0m\u001b[0mkey\u001b[0m\u001b[0;34m]\u001b[0m \u001b[0;34m=\u001b[0m \u001b[0manndata_dict\u001b[0m\u001b[0;34m[\u001b[0m\u001b[0mkey\u001b[0m\u001b[0;34m]\u001b[0m\u001b[0;34m.\u001b[0m\u001b[0mcopy\u001b[0m\u001b[0;34m(\u001b[0m\u001b[0;34m)\u001b[0m\u001b[0;34m\u001b[0m\u001b[0;34m\u001b[0m\u001b[0m\n",
      "\u001b[0;31mAttributeError\u001b[0m: 'NoneType' object has no attribute 'to_adata'"
     ]
    }
   ],
   "source": [
    "### Get raw data\n",
    "for key in anndata_dict:\n",
    "    anndata_dict[key] = anndata_dict[key].raw.to_adata()\n",
    "    anndata_dict[key] = anndata_dict[key].copy()"
   ]
  },
  {
   "cell_type": "code",
   "execution_count": 211,
   "id": "07e45eb7-60ab-4821-8244-ae7b7741f2c6",
   "metadata": {},
   "outputs": [
    {
     "data": {
      "text/plain": [
       "matrix([[3947.],\n",
       "        [5871.],\n",
       "        [3889.],\n",
       "        ...,\n",
       "        [4259.],\n",
       "        [4105.],\n",
       "        [4064.]], dtype=float32)"
      ]
     },
     "execution_count": 211,
     "metadata": {},
     "output_type": "execute_result"
    }
   ],
   "source": [
    "anndata_dict['L1'].X.sum(axis=1)"
   ]
  },
  {
   "cell_type": "code",
   "execution_count": 212,
   "id": "2a0f679a-9dd8-4dc7-b2ea-12106e7f893b",
   "metadata": {},
   "outputs": [
    {
     "data": {
      "text/html": [
       "<div>\n",
       "<style scoped>\n",
       "    .dataframe tbody tr th:only-of-type {\n",
       "        vertical-align: middle;\n",
       "    }\n",
       "\n",
       "    .dataframe tbody tr th {\n",
       "        vertical-align: top;\n",
       "    }\n",
       "\n",
       "    .dataframe thead th {\n",
       "        text-align: right;\n",
       "    }\n",
       "</style>\n",
       "<table border=\"1\" class=\"dataframe\">\n",
       "  <thead>\n",
       "    <tr style=\"text-align: right;\">\n",
       "      <th></th>\n",
       "      <th>nCount_RNA</th>\n",
       "      <th>nFeature_RNA</th>\n",
       "    </tr>\n",
       "  </thead>\n",
       "  <tbody>\n",
       "    <tr>\n",
       "      <th>AAACCCACATACAGGG-1</th>\n",
       "      <td>3947.0</td>\n",
       "      <td>1232</td>\n",
       "    </tr>\n",
       "    <tr>\n",
       "      <th>AAACCCACATGACTTG-1</th>\n",
       "      <td>5871.0</td>\n",
       "      <td>1890</td>\n",
       "    </tr>\n",
       "    <tr>\n",
       "      <th>AAACCCAGTCATCAGT-1</th>\n",
       "      <td>3889.0</td>\n",
       "      <td>1297</td>\n",
       "    </tr>\n",
       "    <tr>\n",
       "      <th>AAACCCAGTGGTAATA-1</th>\n",
       "      <td>5094.0</td>\n",
       "      <td>1327</td>\n",
       "    </tr>\n",
       "    <tr>\n",
       "      <th>AAACCCATCATCACAG-1</th>\n",
       "      <td>17480.0</td>\n",
       "      <td>2363</td>\n",
       "    </tr>\n",
       "    <tr>\n",
       "      <th>...</th>\n",
       "      <td>...</td>\n",
       "      <td>...</td>\n",
       "    </tr>\n",
       "    <tr>\n",
       "      <th>TTTGTTGGTACCACGC-1</th>\n",
       "      <td>6647.0</td>\n",
       "      <td>2297</td>\n",
       "    </tr>\n",
       "    <tr>\n",
       "      <th>TTTGTTGGTGTCCAAT-1</th>\n",
       "      <td>2965.0</td>\n",
       "      <td>823</td>\n",
       "    </tr>\n",
       "    <tr>\n",
       "      <th>TTTGTTGTCAGACTGT-1</th>\n",
       "      <td>4259.0</td>\n",
       "      <td>1261</td>\n",
       "    </tr>\n",
       "    <tr>\n",
       "      <th>TTTGTTGTCCGTAGGC-1</th>\n",
       "      <td>4105.0</td>\n",
       "      <td>1250</td>\n",
       "    </tr>\n",
       "    <tr>\n",
       "      <th>TTTGTTGTCGGAGATG-1</th>\n",
       "      <td>4064.0</td>\n",
       "      <td>1185</td>\n",
       "    </tr>\n",
       "  </tbody>\n",
       "</table>\n",
       "<p>12113 rows × 2 columns</p>\n",
       "</div>"
      ],
      "text/plain": [
       "                    nCount_RNA  nFeature_RNA\n",
       "AAACCCACATACAGGG-1      3947.0          1232\n",
       "AAACCCACATGACTTG-1      5871.0          1890\n",
       "AAACCCAGTCATCAGT-1      3889.0          1297\n",
       "AAACCCAGTGGTAATA-1      5094.0          1327\n",
       "AAACCCATCATCACAG-1     17480.0          2363\n",
       "...                        ...           ...\n",
       "TTTGTTGGTACCACGC-1      6647.0          2297\n",
       "TTTGTTGGTGTCCAAT-1      2965.0           823\n",
       "TTTGTTGTCAGACTGT-1      4259.0          1261\n",
       "TTTGTTGTCCGTAGGC-1      4105.0          1250\n",
       "TTTGTTGTCGGAGATG-1      4064.0          1185\n",
       "\n",
       "[12113 rows x 2 columns]"
      ]
     },
     "execution_count": 212,
     "metadata": {},
     "output_type": "execute_result"
    }
   ],
   "source": [
    "anndata_dict['L1'].obs"
   ]
  },
  {
   "cell_type": "code",
   "execution_count": 214,
   "id": "b3e1b8ff-8f71-414a-885e-bed3b79dfacc",
   "metadata": {},
   "outputs": [
    {
     "data": {
      "text/plain": [
       "AnnData object with n_obs × n_vars = 12113 × 21415\n",
       "    obs: 'nCount_RNA', 'nFeature_RNA'\n",
       "    var: 'gene_ids', 'feature_types', 'genome', 'n_cells', 'mt', 'rb', 'n_cells_by_counts', 'mean_counts', 'pct_dropout_by_counts', 'total_counts', 'highly_variable', 'means', 'dispersions', 'dispersions_norm'"
      ]
     },
     "execution_count": 214,
     "metadata": {},
     "output_type": "execute_result"
    }
   ],
   "source": [
    "anndata_dict['L1']"
   ]
  },
  {
   "cell_type": "code",
   "execution_count": 217,
   "id": "d9737675-0bf4-4584-8d4a-88927b70c987",
   "metadata": {},
   "outputs": [
    {
     "data": {
      "text/html": [
       "<div>\n",
       "<style scoped>\n",
       "    .dataframe tbody tr th:only-of-type {\n",
       "        vertical-align: middle;\n",
       "    }\n",
       "\n",
       "    .dataframe tbody tr th {\n",
       "        vertical-align: top;\n",
       "    }\n",
       "\n",
       "    .dataframe thead th {\n",
       "        text-align: right;\n",
       "    }\n",
       "</style>\n",
       "<table border=\"1\" class=\"dataframe\">\n",
       "  <thead>\n",
       "    <tr style=\"text-align: right;\">\n",
       "      <th></th>\n",
       "      <th>gene_ids</th>\n",
       "      <th>n_cells</th>\n",
       "    </tr>\n",
       "  </thead>\n",
       "  <tbody>\n",
       "    <tr>\n",
       "      <th>AL627309.1</th>\n",
       "      <td>ENSG00000238009</td>\n",
       "      <td>70</td>\n",
       "    </tr>\n",
       "    <tr>\n",
       "      <th>AL627309.3</th>\n",
       "      <td>ENSG00000239945</td>\n",
       "      <td>6</td>\n",
       "    </tr>\n",
       "    <tr>\n",
       "      <th>AL627309.4</th>\n",
       "      <td>ENSG00000241599</td>\n",
       "      <td>19</td>\n",
       "    </tr>\n",
       "    <tr>\n",
       "      <th>AL669831.2</th>\n",
       "      <td>ENSG00000229905</td>\n",
       "      <td>8</td>\n",
       "    </tr>\n",
       "    <tr>\n",
       "      <th>AL669831.5</th>\n",
       "      <td>ENSG00000237491</td>\n",
       "      <td>2237</td>\n",
       "    </tr>\n",
       "    <tr>\n",
       "      <th>...</th>\n",
       "      <td>...</td>\n",
       "      <td>...</td>\n",
       "    </tr>\n",
       "    <tr>\n",
       "      <th>AL354822.1</th>\n",
       "      <td>ENSG00000278384</td>\n",
       "      <td>330</td>\n",
       "    </tr>\n",
       "    <tr>\n",
       "      <th>AC004556.1</th>\n",
       "      <td>ENSG00000276345</td>\n",
       "      <td>1871</td>\n",
       "    </tr>\n",
       "    <tr>\n",
       "      <th>AC233755.2</th>\n",
       "      <td>ENSG00000277856</td>\n",
       "      <td>31</td>\n",
       "    </tr>\n",
       "    <tr>\n",
       "      <th>AC233755.1</th>\n",
       "      <td>ENSG00000275063</td>\n",
       "      <td>27</td>\n",
       "    </tr>\n",
       "    <tr>\n",
       "      <th>AC240274.1</th>\n",
       "      <td>ENSG00000271254</td>\n",
       "      <td>697</td>\n",
       "    </tr>\n",
       "  </tbody>\n",
       "</table>\n",
       "<p>22686 rows × 2 columns</p>\n",
       "</div>"
      ],
      "text/plain": [
       "                   gene_ids  n_cells\n",
       "AL627309.1  ENSG00000238009       70\n",
       "AL627309.3  ENSG00000239945        6\n",
       "AL627309.4  ENSG00000241599       19\n",
       "AL669831.2  ENSG00000229905        8\n",
       "AL669831.5  ENSG00000237491     2237\n",
       "...                     ...      ...\n",
       "AL354822.1  ENSG00000278384      330\n",
       "AC004556.1  ENSG00000276345     1871\n",
       "AC233755.2  ENSG00000277856       31\n",
       "AC233755.1  ENSG00000275063       27\n",
       "AC240274.1  ENSG00000271254      697\n",
       "\n",
       "[22686 rows x 2 columns]"
      ]
     },
     "execution_count": 217,
     "metadata": {},
     "output_type": "execute_result"
    }
   ],
   "source": [
    "anndata_dict[key].var[['gene_ids', 'n_cells']]"
   ]
  },
  {
   "cell_type": "code",
   "execution_count": 218,
   "id": "53d5c5f0-f4e6-47e3-88ec-078a0e9659f8",
   "metadata": {},
   "outputs": [],
   "source": [
    "for key in anndata_dict:\n",
    "    anndata_dict[key].var  = anndata_dict[key].var[['gene_ids', 'n_cells']]"
   ]
  },
  {
   "cell_type": "code",
   "execution_count": 219,
   "id": "bef8b7b8-dab5-4c8c-a0f8-ef970cbb6ed0",
   "metadata": {},
   "outputs": [
    {
     "data": {
      "text/html": [
       "<div>\n",
       "<style scoped>\n",
       "    .dataframe tbody tr th:only-of-type {\n",
       "        vertical-align: middle;\n",
       "    }\n",
       "\n",
       "    .dataframe tbody tr th {\n",
       "        vertical-align: top;\n",
       "    }\n",
       "\n",
       "    .dataframe thead th {\n",
       "        text-align: right;\n",
       "    }\n",
       "</style>\n",
       "<table border=\"1\" class=\"dataframe\">\n",
       "  <thead>\n",
       "    <tr style=\"text-align: right;\">\n",
       "      <th></th>\n",
       "      <th>gene_ids</th>\n",
       "      <th>n_cells</th>\n",
       "    </tr>\n",
       "  </thead>\n",
       "  <tbody>\n",
       "    <tr>\n",
       "      <th>AL627309.1</th>\n",
       "      <td>ENSG00000238009</td>\n",
       "      <td>56</td>\n",
       "    </tr>\n",
       "    <tr>\n",
       "      <th>AL627309.3</th>\n",
       "      <td>ENSG00000239945</td>\n",
       "      <td>3</td>\n",
       "    </tr>\n",
       "    <tr>\n",
       "      <th>AL627309.4</th>\n",
       "      <td>ENSG00000241599</td>\n",
       "      <td>15</td>\n",
       "    </tr>\n",
       "    <tr>\n",
       "      <th>AL669831.2</th>\n",
       "      <td>ENSG00000229905</td>\n",
       "      <td>6</td>\n",
       "    </tr>\n",
       "    <tr>\n",
       "      <th>AL669831.5</th>\n",
       "      <td>ENSG00000237491</td>\n",
       "      <td>1310</td>\n",
       "    </tr>\n",
       "    <tr>\n",
       "      <th>...</th>\n",
       "      <td>...</td>\n",
       "      <td>...</td>\n",
       "    </tr>\n",
       "    <tr>\n",
       "      <th>AC007325.4</th>\n",
       "      <td>ENSG00000278817</td>\n",
       "      <td>94</td>\n",
       "    </tr>\n",
       "    <tr>\n",
       "      <th>AL354822.1</th>\n",
       "      <td>ENSG00000278384</td>\n",
       "      <td>130</td>\n",
       "    </tr>\n",
       "    <tr>\n",
       "      <th>AC004556.1</th>\n",
       "      <td>ENSG00000276345</td>\n",
       "      <td>470</td>\n",
       "    </tr>\n",
       "    <tr>\n",
       "      <th>AC233755.2</th>\n",
       "      <td>ENSG00000277856</td>\n",
       "      <td>3</td>\n",
       "    </tr>\n",
       "    <tr>\n",
       "      <th>AC240274.1</th>\n",
       "      <td>ENSG00000271254</td>\n",
       "      <td>267</td>\n",
       "    </tr>\n",
       "  </tbody>\n",
       "</table>\n",
       "<p>21415 rows × 2 columns</p>\n",
       "</div>"
      ],
      "text/plain": [
       "                   gene_ids  n_cells\n",
       "AL627309.1  ENSG00000238009       56\n",
       "AL627309.3  ENSG00000239945        3\n",
       "AL627309.4  ENSG00000241599       15\n",
       "AL669831.2  ENSG00000229905        6\n",
       "AL669831.5  ENSG00000237491     1310\n",
       "...                     ...      ...\n",
       "AC007325.4  ENSG00000278817       94\n",
       "AL354822.1  ENSG00000278384      130\n",
       "AC004556.1  ENSG00000276345      470\n",
       "AC233755.2  ENSG00000277856        3\n",
       "AC240274.1  ENSG00000271254      267\n",
       "\n",
       "[21415 rows x 2 columns]"
      ]
     },
     "execution_count": 219,
     "metadata": {},
     "output_type": "execute_result"
    }
   ],
   "source": [
    "anndata_dict['L1'].var"
   ]
  },
  {
   "cell_type": "code",
   "execution_count": 220,
   "id": "a4577fd3-7386-40c1-9202-91d5b172389e",
   "metadata": {},
   "outputs": [
    {
     "data": {
      "text/plain": [
       "AnnData object with n_obs × n_vars = 12113 × 21415\n",
       "    obs: 'nCount_RNA', 'nFeature_RNA'\n",
       "    var: 'gene_ids', 'n_cells'"
      ]
     },
     "execution_count": 220,
     "metadata": {},
     "output_type": "execute_result"
    }
   ],
   "source": [
    "anndata_dict['L1']"
   ]
  },
  {
   "cell_type": "markdown",
   "id": "cbd8611c-4511-4494-9bbd-5aa628b73c91",
   "metadata": {},
   "source": [
    "# Save Azimuth Input Data"
   ]
  },
  {
   "cell_type": "code",
   "execution_count": null,
   "id": "335efb58-8eab-4c22-85f2-d3cf36c1462c",
   "metadata": {},
   "outputs": [
    {
     "name": "stdout",
     "output_type": "stream",
     "text": [
      "L1\n",
      "../data/current/analysis/G/G2_Processed_SingletL1_rna.h5ad\n",
      "Last modified01/27/2023, 00:00:00\n",
      "L2\n",
      "../data/current/analysis/G/G2_Processed_SingletL2_rna.h5ad\n",
      "Last modified01/27/2023, 00:00:00\n",
      "L3\n",
      "../data/current/analysis/G/G2_Processed_SingletL3_rna.h5ad\n",
      "Last modified01/27/2023, 00:00:00\n",
      "L4\n",
      "../data/current/analysis/G/G2_Processed_SingletL4_rna.h5ad\n",
      "Last modified01/27/2023, 00:00:00\n",
      "L5\n",
      "../data/current/analysis/G/G2_Processed_SingletL5_rna.h5ad\n",
      "Last modified01/27/2023, 00:00:00\n",
      "L6\n",
      "../data/current/analysis/G/G2_Processed_SingletL6_rna.h5ad\n",
      "Last modified01/27/2023, 00:00:00\n",
      "L7\n",
      "../data/current/analysis/G/G2_Processed_SingletL7_rna.h5ad\n",
      "Last modified01/27/2023, 00:00:00\n",
      "L8\n",
      "../data/current/analysis/G/G2_Processed_SingletL8_rna.h5ad\n",
      "Last modified01/27/2023, 00:00:00\n"
     ]
    }
   ],
   "source": [
    "for key in anndata_dict:\n",
    "    print(key)\n",
    "    data_name = data_path + '/analysis/G/' +  'G2_Processed_Singlet' + key + '_rna.h5ad'\n",
    "    \n",
    "    print(data_name)\n",
    "    print('Last modified' + date.today().strftime(\"%m/%d/%Y, %H:%M:%S\"))\n",
    "\n",
    "    anndata_dict[key].write(data_name)"
   ]
  },
  {
   "cell_type": "code",
   "execution_count": null,
   "id": "30cb8be2-3df7-4a3a-b4fe-8d3d4207e9cc",
   "metadata": {},
   "outputs": [],
   "source": []
  }
 ],
 "metadata": {
  "kernelspec": {
   "display_name": "Python 3 (ipykernel)",
   "language": "python",
   "name": "python3"
  },
  "language_info": {
   "codemirror_mode": {
    "name": "ipython",
    "version": 3
   },
   "file_extension": ".py",
   "mimetype": "text/x-python",
   "name": "python",
   "nbconvert_exporter": "python",
   "pygments_lexer": "ipython3",
   "version": "3.9.7"
  }
 },
 "nbformat": 4,
 "nbformat_minor": 5
}

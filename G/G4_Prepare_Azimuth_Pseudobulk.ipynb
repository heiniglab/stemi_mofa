{
 "cells": [
  {
   "cell_type": "code",
   "execution_count": 122,
   "id": "1632f901-cdb4-4ffc-8498-bb899c6bca6a",
   "metadata": {},
   "outputs": [],
   "source": [
    "# Load Seurat object and create pseudobulk for MOFA analysis based on azimuth annotations"
   ]
  },
  {
   "cell_type": "markdown",
   "id": "6fb4f2cb-8b92-45cf-b4b3-9ce3e0c656d0",
   "metadata": {
    "tags": []
   },
   "source": [
    "#############################################\n",
    "# Prerequisites - Load Libraries"
   ]
  },
  {
   "cell_type": "code",
   "execution_count": 123,
   "id": "24273cba-319a-431c-9a92-edc161c02103",
   "metadata": {
    "tags": []
   },
   "outputs": [],
   "source": [
    "source('MS0_Libraries.r')"
   ]
  },
  {
   "cell_type": "code",
   "execution_count": 124,
   "id": "f007df8e-c0b0-49d6-8f6b-8d05e98290a4",
   "metadata": {
    "tags": []
   },
   "outputs": [],
   "source": [
    "source('MS0_Libraries.r')"
   ]
  },
  {
   "cell_type": "markdown",
   "id": "372814ca-7f2b-4f60-810e-664ce4208695",
   "metadata": {
    "tags": []
   },
   "source": [
    "###############################################\n",
    "# Preqrequisites Configurations & Parameters"
   ]
  },
  {
   "cell_type": "code",
   "execution_count": 134,
   "id": "2d4149a6-4ce5-4d39-bf24-2961d1723d4a",
   "metadata": {},
   "outputs": [],
   "source": [
    "data_path = '../data/current'"
   ]
  },
  {
   "cell_type": "code",
   "execution_count": 135,
   "id": "ec4afaf2-c5a3-47a6-8103-4b4c0ff38496",
   "metadata": {},
   "outputs": [],
   "source": [
    "result_path =  '../results/current'"
   ]
  },
  {
   "cell_type": "code",
   "execution_count": 137,
   "id": "2651b465-ce87-4d85-bd0a-e26cfe2a6173",
   "metadata": {},
   "outputs": [],
   "source": [
    "libraries = c('L1', 'L2', 'L3', 'L4', 'L5', 'L6', 'L7', 'L8', 'L9', 'L10','L11', 'L12', 'L13', 'L14')"
   ]
  },
  {
   "cell_type": "markdown",
   "id": "5dea8679-c933-48ea-af8b-cf9d2cfc5b15",
   "metadata": {},
   "source": [
    "# Load Data "
   ]
  },
  {
   "cell_type": "markdown",
   "id": "b42a9566-612f-4e1f-b658-676b22e5e69e",
   "metadata": {
    "tags": []
   },
   "source": [
    "## Load Seurat object"
   ]
  },
  {
   "cell_type": "code",
   "execution_count": 138,
   "id": "bd4c90d4-0743-44f0-9b52-6ba8b4bec086",
   "metadata": {},
   "outputs": [],
   "source": [
    "### Raw data counts\n",
    "# contains raw count matrix filtered on only Singlets for all genes (~19.000)"
   ]
  },
  {
   "cell_type": "code",
   "execution_count": 139,
   "id": "342956a0-0375-4eb0-9286-143e403ff3b8",
   "metadata": {
    "tags": []
   },
   "outputs": [
    {
     "name": "stdout",
     "output_type": "stream",
     "text": [
      "[1] \"/groups/umcg-franke-scrna/tmp01/users/umcg-closert/stemi/data/results//analysis/B/B6_DE_Integrated_Singlet_processed_rna.h5seurat\"\n",
      "[1] \"2023-04-27 14:38:03 UTC\"\n"
     ]
    },
    {
     "name": "stderr",
     "output_type": "stream",
     "text": [
      "Validating h5Seurat file\n",
      "\n",
      "Initializing RNA with data\n",
      "\n",
      "Adding counts for RNA\n",
      "\n",
      "Adding scale.data for RNA\n",
      "\n",
      "Adding feature-level metadata for RNA\n",
      "\n",
      "Adding command information\n",
      "\n",
      "Adding cell-level metadata\n",
      "\n"
     ]
    }
   ],
   "source": [
    "###### Load the generated seurat objects\n",
    "\n",
    "source_text = paste( data_path, '/analysis/B/B6_DE_Integrated_Singlet_processed_rna.h5seurat', sep = '')\n",
    "print(source_text)\n",
    "print(file.info(source_text)$mtime)\n",
    "rna_seurat_data = LoadH5Seurat(source_text, assays = \"RNA\", quietly = TRUE )\n"
   ]
  },
  {
   "cell_type": "code",
   "execution_count": 140,
   "id": "dd1870f3-078b-4d58-8457-7d9c09f5478b",
   "metadata": {},
   "outputs": [],
   "source": [
    "rna_seurat_data_raw = rna_seurat_data"
   ]
  },
  {
   "cell_type": "code",
   "execution_count": 141,
   "id": "7fae2287-f74c-4d54-b37f-b60d67b37d6e",
   "metadata": {},
   "outputs": [],
   "source": [
    "### Decide what to use as input"
   ]
  },
  {
   "cell_type": "code",
   "execution_count": 142,
   "id": "d47d85bf-25ac-412e-b2c2-2074397d3f5c",
   "metadata": {},
   "outputs": [],
   "source": [
    "rna_seurat_data = rna_seurat_data"
   ]
  },
  {
   "cell_type": "code",
   "execution_count": 143,
   "id": "44950318-d364-4f0b-a6c1-6e68cdb533f1",
   "metadata": {},
   "outputs": [],
   "source": [
    "### Further data checks"
   ]
  },
  {
   "cell_type": "code",
   "execution_count": 144,
   "id": "7a311fd6-d4e7-47e2-aefe-cf06f38f6692",
   "metadata": {},
   "outputs": [
    {
     "data": {
      "text/html": [
       "<style>\n",
       ".dl-inline {width: auto; margin:0; padding: 0}\n",
       ".dl-inline>dt, .dl-inline>dd {float: none; width: auto; display: inline-block}\n",
       ".dl-inline>dt::after {content: \":\\0020\"; padding-right: .5ex}\n",
       ".dl-inline>dt:not(:first-of-type) {padding-left: .5ex}\n",
       "</style><dl class=dl-inline><dt>AAACCCACATACAGGG-1-L1</dt><dd>3947</dd><dt>AAACCCACATGACTTG-1-L1</dt><dd>5870</dd><dt>AAACCCAGTCATCAGT-1-L1</dt><dd>3888</dd><dt>AAACCCAGTGGTAATA-1-L1</dt><dd>5094</dd><dt>AAACCCATCATCACAG-1-L1</dt><dd>17310</dd><dt>AAACCCATCGATGGAG-1-L1</dt><dd>4839</dd></dl>\n"
      ],
      "text/latex": [
       "\\begin{description*}\n",
       "\\item[AAACCCACATACAGGG-1-L1] 3947\n",
       "\\item[AAACCCACATGACTTG-1-L1] 5870\n",
       "\\item[AAACCCAGTCATCAGT-1-L1] 3888\n",
       "\\item[AAACCCAGTGGTAATA-1-L1] 5094\n",
       "\\item[AAACCCATCATCACAG-1-L1] 17310\n",
       "\\item[AAACCCATCGATGGAG-1-L1] 4839\n",
       "\\end{description*}\n"
      ],
      "text/markdown": [
       "AAACCCACATACAGGG-1-L1\n",
       ":   3947AAACCCACATGACTTG-1-L1\n",
       ":   5870AAACCCAGTCATCAGT-1-L1\n",
       ":   3888AAACCCAGTGGTAATA-1-L1\n",
       ":   5094AAACCCATCATCACAG-1-L1\n",
       ":   17310AAACCCATCGATGGAG-1-L1\n",
       ":   4839\n",
       "\n"
      ],
      "text/plain": [
       "AAACCCACATACAGGG-1-L1 AAACCCACATGACTTG-1-L1 AAACCCAGTCATCAGT-1-L1 \n",
       "                 3947                  5870                  3888 \n",
       "AAACCCAGTGGTAATA-1-L1 AAACCCATCATCACAG-1-L1 AAACCCATCGATGGAG-1-L1 \n",
       "                 5094                 17310                  4839 "
      ]
     },
     "metadata": {},
     "output_type": "display_data"
    }
   ],
   "source": [
    "head(colSums(x = rna_seurat_data, slot = \"counts\") )  # raw count values from original matrix"
   ]
  },
  {
   "cell_type": "code",
   "execution_count": 145,
   "id": "2f35ba7c-825a-41fc-a638-d0f986681bbc",
   "metadata": {
    "tags": []
   },
   "outputs": [],
   "source": [
    "# str(rna_seurat_data)"
   ]
  },
  {
   "cell_type": "code",
   "execution_count": 146,
   "id": "211d5ab2-560f-452e-b350-96c188f7c7c5",
   "metadata": {},
   "outputs": [
    {
     "data": {
      "text/html": [
       "<style>\n",
       ".dl-inline {width: auto; margin:0; padding: 0}\n",
       ".dl-inline>dt, .dl-inline>dd {float: none; width: auto; display: inline-block}\n",
       ".dl-inline>dt::after {content: \":\\0020\"; padding-right: .5ex}\n",
       ".dl-inline>dt:not(:first-of-type) {padding-left: .5ex}\n",
       "</style><dl class=dl-inline><dt>AAACCCACATACAGGG-1-L1</dt><dd>1574</dd><dt>AAACCCACATGACTTG-1-L1</dt><dd>379</dd><dt>AAACCCAGTCATCAGT-1-L1</dt><dd>421</dd><dt>AAACCCAGTGGTAATA-1-L1</dt><dd>478</dd><dt>AAACCCATCATCACAG-1-L1</dt><dd>851</dd><dt>AAACCCATCGATGGAG-1-L1</dt><dd>473</dd></dl>\n"
      ],
      "text/latex": [
       "\\begin{description*}\n",
       "\\item[AAACCCACATACAGGG-1-L1] 1574\n",
       "\\item[AAACCCACATGACTTG-1-L1] 379\n",
       "\\item[AAACCCAGTCATCAGT-1-L1] 421\n",
       "\\item[AAACCCAGTGGTAATA-1-L1] 478\n",
       "\\item[AAACCCATCATCACAG-1-L1] 851\n",
       "\\item[AAACCCATCGATGGAG-1-L1] 473\n",
       "\\end{description*}\n"
      ],
      "text/markdown": [
       "AAACCCACATACAGGG-1-L1\n",
       ":   1574AAACCCACATGACTTG-1-L1\n",
       ":   379AAACCCAGTCATCAGT-1-L1\n",
       ":   421AAACCCAGTGGTAATA-1-L1\n",
       ":   478AAACCCATCATCACAG-1-L1\n",
       ":   851AAACCCATCGATGGAG-1-L1\n",
       ":   473\n",
       "\n"
      ],
      "text/plain": [
       "AAACCCACATACAGGG-1-L1 AAACCCACATGACTTG-1-L1 AAACCCAGTCATCAGT-1-L1 \n",
       "                 1574                   379                   421 \n",
       "AAACCCAGTGGTAATA-1-L1 AAACCCATCATCACAG-1-L1 AAACCCATCGATGGAG-1-L1 \n",
       "                  478                   851                   473 "
      ]
     },
     "metadata": {},
     "output_type": "display_data"
    }
   ],
   "source": [
    "head(rna_seurat_data$nCount_HTO) # get a column of the observation matrix"
   ]
  },
  {
   "cell_type": "code",
   "execution_count": 147,
   "id": "b9565581-2df7-452a-bc37-b3eaf21453a1",
   "metadata": {},
   "outputs": [],
   "source": [
    "#head(rna_seurat_data$classification) # get a column of the observation matrix"
   ]
  },
  {
   "cell_type": "code",
   "execution_count": 148,
   "id": "1c6fcae9-cd3a-4e8d-8d5b-8a35d2a10029",
   "metadata": {},
   "outputs": [
    {
     "data": {
      "text/html": [
       "<style>\n",
       ".list-inline {list-style: none; margin:0; padding: 0}\n",
       ".list-inline>li {display: inline-block}\n",
       ".list-inline>li:not(:last-child)::after {content: \"\\00b7\"; padding: 0 .5ex}\n",
       "</style>\n",
       "<ol class=list-inline><li>'nCount_HTO'</li><li>'B2_Scanorama_Singlet_cluster'</li><li>'B2_Scanorama_Singlet_rb_mt_cluster'</li><li>'cell_type_Scanorama'</li><li>'cluster_cell_type_Scanorama'</li><li>'classification_measurement'</li><li>'delta_ef_value_group_measurement'</li><li>'m_y'</li><li>'measurement_y'</li><li>'delta_ef_value_group'</li><li>'delta_ef_value'</li><li>'sample_y'</li><li>'age'</li><li>'sex'</li><li>'m_x'</li><li>'classification'</li><li>'group_y'</li><li>'measurement_x'</li><li>'sample_x'</li><li>'library'</li><li>'id'</li><li>'read'</li><li>'pattern'</li><li>'sequence'</li><li>'feature_type'</li><li>'in_sample'</li><li>'display_name'</li><li>'group_x'</li></ol>\n"
      ],
      "text/latex": [
       "\\begin{enumerate*}\n",
       "\\item 'nCount\\_HTO'\n",
       "\\item 'B2\\_Scanorama\\_Singlet\\_cluster'\n",
       "\\item 'B2\\_Scanorama\\_Singlet\\_rb\\_mt\\_cluster'\n",
       "\\item 'cell\\_type\\_Scanorama'\n",
       "\\item 'cluster\\_cell\\_type\\_Scanorama'\n",
       "\\item 'classification\\_measurement'\n",
       "\\item 'delta\\_ef\\_value\\_group\\_measurement'\n",
       "\\item 'm\\_y'\n",
       "\\item 'measurement\\_y'\n",
       "\\item 'delta\\_ef\\_value\\_group'\n",
       "\\item 'delta\\_ef\\_value'\n",
       "\\item 'sample\\_y'\n",
       "\\item 'age'\n",
       "\\item 'sex'\n",
       "\\item 'm\\_x'\n",
       "\\item 'classification'\n",
       "\\item 'group\\_y'\n",
       "\\item 'measurement\\_x'\n",
       "\\item 'sample\\_x'\n",
       "\\item 'library'\n",
       "\\item 'id'\n",
       "\\item 'read'\n",
       "\\item 'pattern'\n",
       "\\item 'sequence'\n",
       "\\item 'feature\\_type'\n",
       "\\item 'in\\_sample'\n",
       "\\item 'display\\_name'\n",
       "\\item 'group\\_x'\n",
       "\\end{enumerate*}\n"
      ],
      "text/markdown": [
       "1. 'nCount_HTO'\n",
       "2. 'B2_Scanorama_Singlet_cluster'\n",
       "3. 'B2_Scanorama_Singlet_rb_mt_cluster'\n",
       "4. 'cell_type_Scanorama'\n",
       "5. 'cluster_cell_type_Scanorama'\n",
       "6. 'classification_measurement'\n",
       "7. 'delta_ef_value_group_measurement'\n",
       "8. 'm_y'\n",
       "9. 'measurement_y'\n",
       "10. 'delta_ef_value_group'\n",
       "11. 'delta_ef_value'\n",
       "12. 'sample_y'\n",
       "13. 'age'\n",
       "14. 'sex'\n",
       "15. 'm_x'\n",
       "16. 'classification'\n",
       "17. 'group_y'\n",
       "18. 'measurement_x'\n",
       "19. 'sample_x'\n",
       "20. 'library'\n",
       "21. 'id'\n",
       "22. 'read'\n",
       "23. 'pattern'\n",
       "24. 'sequence'\n",
       "25. 'feature_type'\n",
       "26. 'in_sample'\n",
       "27. 'display_name'\n",
       "28. 'group_x'\n",
       "\n",
       "\n"
      ],
      "text/plain": [
       " [1] \"nCount_HTO\"                         \"B2_Scanorama_Singlet_cluster\"      \n",
       " [3] \"B2_Scanorama_Singlet_rb_mt_cluster\" \"cell_type_Scanorama\"               \n",
       " [5] \"cluster_cell_type_Scanorama\"        \"classification_measurement\"        \n",
       " [7] \"delta_ef_value_group_measurement\"   \"m_y\"                               \n",
       " [9] \"measurement_y\"                      \"delta_ef_value_group\"              \n",
       "[11] \"delta_ef_value\"                     \"sample_y\"                          \n",
       "[13] \"age\"                                \"sex\"                               \n",
       "[15] \"m_x\"                                \"classification\"                    \n",
       "[17] \"group_y\"                            \"measurement_x\"                     \n",
       "[19] \"sample_x\"                           \"library\"                           \n",
       "[21] \"id\"                                 \"read\"                              \n",
       "[23] \"pattern\"                            \"sequence\"                          \n",
       "[25] \"feature_type\"                       \"in_sample\"                         \n",
       "[27] \"display_name\"                       \"group_x\"                           "
      ]
     },
     "metadata": {},
     "output_type": "display_data"
    }
   ],
   "source": [
    "colnames(rna_seurat_data[[]])"
   ]
  },
  {
   "cell_type": "code",
   "execution_count": 149,
   "id": "0f9a5c2b-b052-4b98-979a-eec6e10badaf",
   "metadata": {},
   "outputs": [
    {
     "data": {
      "text/html": [
       "<table class=\"dataframe\">\n",
       "<caption>A data.frame: 6 × 28</caption>\n",
       "<thead>\n",
       "\t<tr><th></th><th scope=col>nCount_HTO</th><th scope=col>B2_Scanorama_Singlet_cluster</th><th scope=col>B2_Scanorama_Singlet_rb_mt_cluster</th><th scope=col>cell_type_Scanorama</th><th scope=col>cluster_cell_type_Scanorama</th><th scope=col>classification_measurement</th><th scope=col>delta_ef_value_group_measurement</th><th scope=col>m_y</th><th scope=col>measurement_y</th><th scope=col>delta_ef_value_group</th><th scope=col>⋯</th><th scope=col>sample_x</th><th scope=col>library</th><th scope=col>id</th><th scope=col>read</th><th scope=col>pattern</th><th scope=col>sequence</th><th scope=col>feature_type</th><th scope=col>in_sample</th><th scope=col>display_name</th><th scope=col>group_x</th></tr>\n",
       "\t<tr><th></th><th scope=col>&lt;dbl&gt;</th><th scope=col>&lt;fct&gt;</th><th scope=col>&lt;fct&gt;</th><th scope=col>&lt;fct&gt;</th><th scope=col>&lt;fct&gt;</th><th scope=col>&lt;fct&gt;</th><th scope=col>&lt;fct&gt;</th><th scope=col>&lt;fct&gt;</th><th scope=col>&lt;fct&gt;</th><th scope=col>&lt;fct&gt;</th><th scope=col>⋯</th><th scope=col>&lt;fct&gt;</th><th scope=col>&lt;fct&gt;</th><th scope=col>&lt;fct&gt;</th><th scope=col>&lt;fct&gt;</th><th scope=col>&lt;fct&gt;</th><th scope=col>&lt;fct&gt;</th><th scope=col>&lt;fct&gt;</th><th scope=col>&lt;dbl&gt;</th><th scope=col>&lt;fct&gt;</th><th scope=col>&lt;fct&gt;</th></tr>\n",
       "</thead>\n",
       "<tbody>\n",
       "\t<tr><th scope=row>AAACCCACATACAGGG-1-L1</th><td>1574</td><td>8 </td><td>8 </td><td>B-cell                 </td><td>8_B-cell                 </td><td>acs_w_o_infection_TP1</td><td>x_greater_1_TP1</td><td>M9 (14,3) </td><td>TP1    </td><td>x_greater_1</td><td>⋯</td><td>9.1</td><td>L1</td><td>HTO_B0259</td><td>R2</td><td>5PNNNNNNNNNN(BC)</td><td>CAGTAGTCACGGTCA</td><td>Antibody Capture</td><td>1</td><td>9.1</td><td>TP1</td></tr>\n",
       "\t<tr><th scope=row>AAACCCACATGACTTG-1-L1</th><td> 379</td><td>9 </td><td>9 </td><td>Monocytes - CD16_FCGR3A</td><td>9_Monocytes - CD16_FCGR3A</td><td>acs_w_o_infection_TP1</td><td>x_greater_1_TP1</td><td>M9 (14,3) </td><td>TP1    </td><td>x_greater_1</td><td>⋯</td><td>9.1</td><td>L1</td><td>HTO_B0259</td><td>R2</td><td>5PNNNNNNNNNN(BC)</td><td>CAGTAGTCACGGTCA</td><td>Antibody Capture</td><td>1</td><td>9.1</td><td>TP1</td></tr>\n",
       "\t<tr><th scope=row>AAACCCAGTCATCAGT-1-L1</th><td> 421</td><td>5 </td><td>5 </td><td>T-cell-CD4             </td><td>5_T-cell-CD4             </td><td>acs_w_o_infection_TP1</td><td>x_smaller_1_TP1</td><td>M7 (0,75) </td><td>TP1    </td><td>x_smaller_1</td><td>⋯</td><td>7.1</td><td>L1</td><td>HTO_B0257</td><td>R2</td><td>5PNNNNNNNNNN(BC)</td><td>TGTCTTTCCTGCCAG</td><td>Antibody Capture</td><td>1</td><td>7.1</td><td>TP1</td></tr>\n",
       "\t<tr><th scope=row>AAACCCAGTGGTAATA-1-L1</th><td> 478</td><td>0 </td><td>0 </td><td>T-cell-CD4             </td><td>0_T-cell-CD4             </td><td>acs_w_o_infection_TP1</td><td>x_greater_1_TP1</td><td>M9 (14,3) </td><td>TP1    </td><td>x_greater_1</td><td>⋯</td><td>9.1</td><td>L1</td><td>HTO_B0259</td><td>R2</td><td>5PNNNNNNNNNN(BC)</td><td>CAGTAGTCACGGTCA</td><td>Antibody Capture</td><td>1</td><td>9.1</td><td>TP1</td></tr>\n",
       "\t<tr><th scope=row>AAACCCATCATCACAG-1-L1</th><td> 851</td><td>16</td><td>16</td><td>Plasma Blast           </td><td>16_Plasma Blast          </td><td>acs_w_o_infection_TP1</td><td>x_greater_1_TP1</td><td>M9 (14,3) </td><td>TP1    </td><td>x_greater_1</td><td>⋯</td><td>9.1</td><td>L1</td><td>HTO_B0259</td><td>R2</td><td>5PNNNNNNNNNN(BC)</td><td>CAGTAGTCACGGTCA</td><td>Antibody Capture</td><td>1</td><td>9.1</td><td>TP1</td></tr>\n",
       "\t<tr><th scope=row>AAACCCATCGATGGAG-1-L1</th><td> 473</td><td>0 </td><td>0 </td><td>T-cell-CD4             </td><td>0_T-cell-CD4             </td><td>acs_subacute_TP1     </td><td>missing        </td><td>missing   </td><td>missing</td><td>missing    </td><td>⋯</td><td>8.1</td><td>L1</td><td>HTO_B0258</td><td>R2</td><td>5PNNNNNNNNNN(BC)</td><td>CTCCTCTGCAATTAC</td><td>Antibody Capture</td><td>1</td><td>8.1</td><td>TP1</td></tr>\n",
       "</tbody>\n",
       "</table>\n"
      ],
      "text/latex": [
       "A data.frame: 6 × 28\n",
       "\\begin{tabular}{r|lllllllllllllllllllll}\n",
       "  & nCount\\_HTO & B2\\_Scanorama\\_Singlet\\_cluster & B2\\_Scanorama\\_Singlet\\_rb\\_mt\\_cluster & cell\\_type\\_Scanorama & cluster\\_cell\\_type\\_Scanorama & classification\\_measurement & delta\\_ef\\_value\\_group\\_measurement & m\\_y & measurement\\_y & delta\\_ef\\_value\\_group & ⋯ & sample\\_x & library & id & read & pattern & sequence & feature\\_type & in\\_sample & display\\_name & group\\_x\\\\\n",
       "  & <dbl> & <fct> & <fct> & <fct> & <fct> & <fct> & <fct> & <fct> & <fct> & <fct> & ⋯ & <fct> & <fct> & <fct> & <fct> & <fct> & <fct> & <fct> & <dbl> & <fct> & <fct>\\\\\n",
       "\\hline\n",
       "\tAAACCCACATACAGGG-1-L1 & 1574 & 8  & 8  & B-cell                  & 8\\_B-cell                  & acs\\_w\\_o\\_infection\\_TP1 & x\\_greater\\_1\\_TP1 & M9 (14,3)  & TP1     & x\\_greater\\_1 & ⋯ & 9.1 & L1 & HTO\\_B0259 & R2 & 5PNNNNNNNNNN(BC) & CAGTAGTCACGGTCA & Antibody Capture & 1 & 9.1 & TP1\\\\\n",
       "\tAAACCCACATGACTTG-1-L1 &  379 & 9  & 9  & Monocytes - CD16\\_FCGR3A & 9\\_Monocytes - CD16\\_FCGR3A & acs\\_w\\_o\\_infection\\_TP1 & x\\_greater\\_1\\_TP1 & M9 (14,3)  & TP1     & x\\_greater\\_1 & ⋯ & 9.1 & L1 & HTO\\_B0259 & R2 & 5PNNNNNNNNNN(BC) & CAGTAGTCACGGTCA & Antibody Capture & 1 & 9.1 & TP1\\\\\n",
       "\tAAACCCAGTCATCAGT-1-L1 &  421 & 5  & 5  & T-cell-CD4              & 5\\_T-cell-CD4              & acs\\_w\\_o\\_infection\\_TP1 & x\\_smaller\\_1\\_TP1 & M7 (0,75)  & TP1     & x\\_smaller\\_1 & ⋯ & 7.1 & L1 & HTO\\_B0257 & R2 & 5PNNNNNNNNNN(BC) & TGTCTTTCCTGCCAG & Antibody Capture & 1 & 7.1 & TP1\\\\\n",
       "\tAAACCCAGTGGTAATA-1-L1 &  478 & 0  & 0  & T-cell-CD4              & 0\\_T-cell-CD4              & acs\\_w\\_o\\_infection\\_TP1 & x\\_greater\\_1\\_TP1 & M9 (14,3)  & TP1     & x\\_greater\\_1 & ⋯ & 9.1 & L1 & HTO\\_B0259 & R2 & 5PNNNNNNNNNN(BC) & CAGTAGTCACGGTCA & Antibody Capture & 1 & 9.1 & TP1\\\\\n",
       "\tAAACCCATCATCACAG-1-L1 &  851 & 16 & 16 & Plasma Blast            & 16\\_Plasma Blast           & acs\\_w\\_o\\_infection\\_TP1 & x\\_greater\\_1\\_TP1 & M9 (14,3)  & TP1     & x\\_greater\\_1 & ⋯ & 9.1 & L1 & HTO\\_B0259 & R2 & 5PNNNNNNNNNN(BC) & CAGTAGTCACGGTCA & Antibody Capture & 1 & 9.1 & TP1\\\\\n",
       "\tAAACCCATCGATGGAG-1-L1 &  473 & 0  & 0  & T-cell-CD4              & 0\\_T-cell-CD4              & acs\\_subacute\\_TP1      & missing         & missing    & missing & missing     & ⋯ & 8.1 & L1 & HTO\\_B0258 & R2 & 5PNNNNNNNNNN(BC) & CTCCTCTGCAATTAC & Antibody Capture & 1 & 8.1 & TP1\\\\\n",
       "\\end{tabular}\n"
      ],
      "text/markdown": [
       "\n",
       "A data.frame: 6 × 28\n",
       "\n",
       "| <!--/--> | nCount_HTO &lt;dbl&gt; | B2_Scanorama_Singlet_cluster &lt;fct&gt; | B2_Scanorama_Singlet_rb_mt_cluster &lt;fct&gt; | cell_type_Scanorama &lt;fct&gt; | cluster_cell_type_Scanorama &lt;fct&gt; | classification_measurement &lt;fct&gt; | delta_ef_value_group_measurement &lt;fct&gt; | m_y &lt;fct&gt; | measurement_y &lt;fct&gt; | delta_ef_value_group &lt;fct&gt; | ⋯ ⋯ | sample_x &lt;fct&gt; | library &lt;fct&gt; | id &lt;fct&gt; | read &lt;fct&gt; | pattern &lt;fct&gt; | sequence &lt;fct&gt; | feature_type &lt;fct&gt; | in_sample &lt;dbl&gt; | display_name &lt;fct&gt; | group_x &lt;fct&gt; |\n",
       "|---|---|---|---|---|---|---|---|---|---|---|---|---|---|---|---|---|---|---|---|---|---|\n",
       "| AAACCCACATACAGGG-1-L1 | 1574 | 8  | 8  | B-cell                  | 8_B-cell                  | acs_w_o_infection_TP1 | x_greater_1_TP1 | M9 (14,3)  | TP1     | x_greater_1 | ⋯ | 9.1 | L1 | HTO_B0259 | R2 | 5PNNNNNNNNNN(BC) | CAGTAGTCACGGTCA | Antibody Capture | 1 | 9.1 | TP1 |\n",
       "| AAACCCACATGACTTG-1-L1 |  379 | 9  | 9  | Monocytes - CD16_FCGR3A | 9_Monocytes - CD16_FCGR3A | acs_w_o_infection_TP1 | x_greater_1_TP1 | M9 (14,3)  | TP1     | x_greater_1 | ⋯ | 9.1 | L1 | HTO_B0259 | R2 | 5PNNNNNNNNNN(BC) | CAGTAGTCACGGTCA | Antibody Capture | 1 | 9.1 | TP1 |\n",
       "| AAACCCAGTCATCAGT-1-L1 |  421 | 5  | 5  | T-cell-CD4              | 5_T-cell-CD4              | acs_w_o_infection_TP1 | x_smaller_1_TP1 | M7 (0,75)  | TP1     | x_smaller_1 | ⋯ | 7.1 | L1 | HTO_B0257 | R2 | 5PNNNNNNNNNN(BC) | TGTCTTTCCTGCCAG | Antibody Capture | 1 | 7.1 | TP1 |\n",
       "| AAACCCAGTGGTAATA-1-L1 |  478 | 0  | 0  | T-cell-CD4              | 0_T-cell-CD4              | acs_w_o_infection_TP1 | x_greater_1_TP1 | M9 (14,3)  | TP1     | x_greater_1 | ⋯ | 9.1 | L1 | HTO_B0259 | R2 | 5PNNNNNNNNNN(BC) | CAGTAGTCACGGTCA | Antibody Capture | 1 | 9.1 | TP1 |\n",
       "| AAACCCATCATCACAG-1-L1 |  851 | 16 | 16 | Plasma Blast            | 16_Plasma Blast           | acs_w_o_infection_TP1 | x_greater_1_TP1 | M9 (14,3)  | TP1     | x_greater_1 | ⋯ | 9.1 | L1 | HTO_B0259 | R2 | 5PNNNNNNNNNN(BC) | CAGTAGTCACGGTCA | Antibody Capture | 1 | 9.1 | TP1 |\n",
       "| AAACCCATCGATGGAG-1-L1 |  473 | 0  | 0  | T-cell-CD4              | 0_T-cell-CD4              | acs_subacute_TP1      | missing         | missing    | missing | missing     | ⋯ | 8.1 | L1 | HTO_B0258 | R2 | 5PNNNNNNNNNN(BC) | CTCCTCTGCAATTAC | Antibody Capture | 1 | 8.1 | TP1 |\n",
       "\n"
      ],
      "text/plain": [
       "                      nCount_HTO B2_Scanorama_Singlet_cluster\n",
       "AAACCCACATACAGGG-1-L1 1574       8                           \n",
       "AAACCCACATGACTTG-1-L1  379       9                           \n",
       "AAACCCAGTCATCAGT-1-L1  421       5                           \n",
       "AAACCCAGTGGTAATA-1-L1  478       0                           \n",
       "AAACCCATCATCACAG-1-L1  851       16                          \n",
       "AAACCCATCGATGGAG-1-L1  473       0                           \n",
       "                      B2_Scanorama_Singlet_rb_mt_cluster\n",
       "AAACCCACATACAGGG-1-L1 8                                 \n",
       "AAACCCACATGACTTG-1-L1 9                                 \n",
       "AAACCCAGTCATCAGT-1-L1 5                                 \n",
       "AAACCCAGTGGTAATA-1-L1 0                                 \n",
       "AAACCCATCATCACAG-1-L1 16                                \n",
       "AAACCCATCGATGGAG-1-L1 0                                 \n",
       "                      cell_type_Scanorama     cluster_cell_type_Scanorama\n",
       "AAACCCACATACAGGG-1-L1 B-cell                  8_B-cell                   \n",
       "AAACCCACATGACTTG-1-L1 Monocytes - CD16_FCGR3A 9_Monocytes - CD16_FCGR3A  \n",
       "AAACCCAGTCATCAGT-1-L1 T-cell-CD4              5_T-cell-CD4               \n",
       "AAACCCAGTGGTAATA-1-L1 T-cell-CD4              0_T-cell-CD4               \n",
       "AAACCCATCATCACAG-1-L1 Plasma Blast            16_Plasma Blast            \n",
       "AAACCCATCGATGGAG-1-L1 T-cell-CD4              0_T-cell-CD4               \n",
       "                      classification_measurement\n",
       "AAACCCACATACAGGG-1-L1 acs_w_o_infection_TP1     \n",
       "AAACCCACATGACTTG-1-L1 acs_w_o_infection_TP1     \n",
       "AAACCCAGTCATCAGT-1-L1 acs_w_o_infection_TP1     \n",
       "AAACCCAGTGGTAATA-1-L1 acs_w_o_infection_TP1     \n",
       "AAACCCATCATCACAG-1-L1 acs_w_o_infection_TP1     \n",
       "AAACCCATCGATGGAG-1-L1 acs_subacute_TP1          \n",
       "                      delta_ef_value_group_measurement m_y        measurement_y\n",
       "AAACCCACATACAGGG-1-L1 x_greater_1_TP1                  M9 (14,3)  TP1          \n",
       "AAACCCACATGACTTG-1-L1 x_greater_1_TP1                  M9 (14,3)  TP1          \n",
       "AAACCCAGTCATCAGT-1-L1 x_smaller_1_TP1                  M7 (0,75)  TP1          \n",
       "AAACCCAGTGGTAATA-1-L1 x_greater_1_TP1                  M9 (14,3)  TP1          \n",
       "AAACCCATCATCACAG-1-L1 x_greater_1_TP1                  M9 (14,3)  TP1          \n",
       "AAACCCATCGATGGAG-1-L1 missing                          missing    missing      \n",
       "                      delta_ef_value_group ⋯ sample_x library id        read\n",
       "AAACCCACATACAGGG-1-L1 x_greater_1          ⋯ 9.1      L1      HTO_B0259 R2  \n",
       "AAACCCACATGACTTG-1-L1 x_greater_1          ⋯ 9.1      L1      HTO_B0259 R2  \n",
       "AAACCCAGTCATCAGT-1-L1 x_smaller_1          ⋯ 7.1      L1      HTO_B0257 R2  \n",
       "AAACCCAGTGGTAATA-1-L1 x_greater_1          ⋯ 9.1      L1      HTO_B0259 R2  \n",
       "AAACCCATCATCACAG-1-L1 x_greater_1          ⋯ 9.1      L1      HTO_B0259 R2  \n",
       "AAACCCATCGATGGAG-1-L1 missing              ⋯ 8.1      L1      HTO_B0258 R2  \n",
       "                      pattern          sequence        feature_type    \n",
       "AAACCCACATACAGGG-1-L1 5PNNNNNNNNNN(BC) CAGTAGTCACGGTCA Antibody Capture\n",
       "AAACCCACATGACTTG-1-L1 5PNNNNNNNNNN(BC) CAGTAGTCACGGTCA Antibody Capture\n",
       "AAACCCAGTCATCAGT-1-L1 5PNNNNNNNNNN(BC) TGTCTTTCCTGCCAG Antibody Capture\n",
       "AAACCCAGTGGTAATA-1-L1 5PNNNNNNNNNN(BC) CAGTAGTCACGGTCA Antibody Capture\n",
       "AAACCCATCATCACAG-1-L1 5PNNNNNNNNNN(BC) CAGTAGTCACGGTCA Antibody Capture\n",
       "AAACCCATCGATGGAG-1-L1 5PNNNNNNNNNN(BC) CTCCTCTGCAATTAC Antibody Capture\n",
       "                      in_sample display_name group_x\n",
       "AAACCCACATACAGGG-1-L1 1         9.1          TP1    \n",
       "AAACCCACATGACTTG-1-L1 1         9.1          TP1    \n",
       "AAACCCAGTCATCAGT-1-L1 1         7.1          TP1    \n",
       "AAACCCAGTGGTAATA-1-L1 1         9.1          TP1    \n",
       "AAACCCATCATCACAG-1-L1 1         9.1          TP1    \n",
       "AAACCCATCGATGGAG-1-L1 1         8.1          TP1    "
      ]
     },
     "metadata": {},
     "output_type": "display_data"
    }
   ],
   "source": [
    "head(rna_seurat_data[[]])   # get complete observation matrix "
   ]
  },
  {
   "cell_type": "code",
   "execution_count": 150,
   "id": "3d0f4599-7992-467d-bc96-6343e10a1af1",
   "metadata": {},
   "outputs": [
    {
     "data": {
      "text/html": [
       "<style>\n",
       ".list-inline {list-style: none; margin:0; padding: 0}\n",
       ".list-inline>li {display: inline-block}\n",
       ".list-inline>li:not(:last-child)::after {content: \"\\00b7\"; padding: 0 .5ex}\n",
       "</style>\n",
       "<ol class=list-inline><li>1392</li><li>148275</li></ol>\n"
      ],
      "text/latex": [
       "\\begin{enumerate*}\n",
       "\\item 1392\n",
       "\\item 148275\n",
       "\\end{enumerate*}\n"
      ],
      "text/markdown": [
       "1. 1392\n",
       "2. 148275\n",
       "\n",
       "\n"
      ],
      "text/plain": [
       "[1]   1392 148275"
      ]
     },
     "metadata": {},
     "output_type": "display_data"
    }
   ],
   "source": [
    "dim(rna_seurat_data@assays$RNA@scale.data)"
   ]
  },
  {
   "cell_type": "code",
   "execution_count": 151,
   "id": "27e12554-8dad-426a-97b7-25b29315d7db",
   "metadata": {},
   "outputs": [
    {
     "data": {
      "text/html": [
       "<table class=\"dataframe\">\n",
       "<caption>A matrix: 6 × 148275 of type dbl</caption>\n",
       "<thead>\n",
       "\t<tr><th></th><th scope=col>AAACCCACATACAGGG-1-L1</th><th scope=col>AAACCCACATGACTTG-1-L1</th><th scope=col>AAACCCAGTCATCAGT-1-L1</th><th scope=col>AAACCCAGTGGTAATA-1-L1</th><th scope=col>AAACCCATCATCACAG-1-L1</th><th scope=col>AAACCCATCGATGGAG-1-L1</th><th scope=col>AAACCCATCTTGCAGA-1-L1</th><th scope=col>AAACGAAAGAACTTCC-1-L1</th><th scope=col>AAACGAAAGGGTACGT-1-L1</th><th scope=col>AAACGAAAGGGTCTTT-1-L1</th><th scope=col>⋯</th><th scope=col>TTTGGTTTCTGTACAG-1-L14</th><th scope=col>TTTGTTGAGCTCCACG-1-L14</th><th scope=col>TTTGTTGAGTCAGCCC-1-L14</th><th scope=col>TTTGTTGCACAAATAG-1-L14</th><th scope=col>TTTGTTGCAGAGCCCT-1-L14</th><th scope=col>TTTGTTGCAGGTTCGC-1-L14</th><th scope=col>TTTGTTGGTACCTAGT-1-L14</th><th scope=col>TTTGTTGGTACGTTCA-1-L14</th><th scope=col>TTTGTTGGTGGACCAA-1-L14</th><th scope=col>TTTGTTGTCGAAGAAT-1-L14</th></tr>\n",
       "</thead>\n",
       "<tbody>\n",
       "\t<tr><th scope=row>HES4</th><td>-0.2458351</td><td> 5.2755065</td><td>-0.1659243</td><td>-0.2529775</td><td>-0.64255089</td><td>-0.2226176</td><td>-0.1294657</td><td>-0.3032477</td><td> 5.0691404</td><td>-0.2307047</td><td>⋯</td><td>-0.2238024</td><td>-0.2566660</td><td>-0.1094798</td><td>-0.2565409</td><td>-0.3618868</td><td>-0.3595781</td><td>-0.2898208</td><td>-0.2445270</td><td>-0.66771084</td><td>-0.2764359</td></tr>\n",
       "\t<tr><th scope=row>ISG15</th><td>-0.5671435</td><td>-0.6356693</td><td>-0.6192396</td><td>-0.6269512</td><td>-0.38615820</td><td>-0.6335911</td><td> 1.2474985</td><td>-0.5369599</td><td> 0.4149888</td><td>-0.6072676</td><td>⋯</td><td> 1.5472746</td><td> 1.1737832</td><td> 1.0967059</td><td>-0.7113699</td><td>-0.8093281</td><td> 0.3909281</td><td>-0.7160870</td><td>-0.5755023</td><td> 1.70855975</td><td> 1.5406628</td></tr>\n",
       "\t<tr><th scope=row>TNFRSF18</th><td>-0.2080559</td><td>-0.1850859</td><td>-0.2253351</td><td> 3.7579303</td><td>-0.04953691</td><td>-0.2080265</td><td>-0.2338105</td><td>-0.1949285</td><td>-0.1594944</td><td>-0.2083495</td><td>⋯</td><td>-0.2039024</td><td>-0.1873443</td><td>-0.2356623</td><td>-0.1908602</td><td>-0.1516817</td><td>-0.1588946</td><td>-0.1810645</td><td>-0.2076000</td><td>-0.04253671</td><td>-0.2055351</td></tr>\n",
       "\t<tr><th scope=row>TNFRSF4</th><td>-0.1991221</td><td>-0.2098920</td><td>-0.2507233</td><td>-0.2237158</td><td>-0.27779725</td><td>-0.2373614</td><td>-0.2715408</td><td>-0.1653312</td><td>-0.2340275</td><td>-0.2226019</td><td>⋯</td><td>-0.2544025</td><td>-0.2766939</td><td>-0.2958161</td><td>-0.2607138</td><td>-0.2681839</td><td>-0.2387677</td><td>-0.2511905</td><td>-0.2033674</td><td>-0.26873145</td><td>-0.1605054</td></tr>\n",
       "\t<tr><th scope=row>AL645728.1</th><td>-0.2744859</td><td>-0.2990338</td><td>-0.2319598</td><td>-0.2744958</td><td>-0.44214112</td><td>-0.2591127</td><td>-0.2129115</td><td>-0.3046129</td><td>-0.3214925</td><td>-0.2646544</td><td>⋯</td><td>-0.2574319</td><td>-0.2692729</td><td>-0.2007998</td><td>-0.2712910</td><td>-0.3175532</td><td> 2.2594626</td><td>-0.2874482</td><td> 3.8196340</td><td> 1.03018486</td><td>-0.2932183</td></tr>\n",
       "\t<tr><th scope=row>MIB2</th><td>-0.3938878</td><td>-0.3809605</td><td>-0.4023549</td><td> 2.0574462</td><td>-0.30458272</td><td>-0.3930661</td><td> 2.5170703</td><td>-0.3873412</td><td> 1.4148629</td><td> 2.2514246</td><td>⋯</td><td>-0.3904268</td><td>-0.3808021</td><td>-0.4071151</td><td> 1.6874684</td><td> 1.2390401</td><td>-0.3658706</td><td> 1.5971848</td><td>-0.3935464</td><td> 0.71125776</td><td>-0.3933075</td></tr>\n",
       "</tbody>\n",
       "</table>\n"
      ],
      "text/latex": [
       "A matrix: 6 × 148275 of type dbl\n",
       "\\begin{tabular}{r|lllllllllllllllllllll}\n",
       "  & AAACCCACATACAGGG-1-L1 & AAACCCACATGACTTG-1-L1 & AAACCCAGTCATCAGT-1-L1 & AAACCCAGTGGTAATA-1-L1 & AAACCCATCATCACAG-1-L1 & AAACCCATCGATGGAG-1-L1 & AAACCCATCTTGCAGA-1-L1 & AAACGAAAGAACTTCC-1-L1 & AAACGAAAGGGTACGT-1-L1 & AAACGAAAGGGTCTTT-1-L1 & ⋯ & TTTGGTTTCTGTACAG-1-L14 & TTTGTTGAGCTCCACG-1-L14 & TTTGTTGAGTCAGCCC-1-L14 & TTTGTTGCACAAATAG-1-L14 & TTTGTTGCAGAGCCCT-1-L14 & TTTGTTGCAGGTTCGC-1-L14 & TTTGTTGGTACCTAGT-1-L14 & TTTGTTGGTACGTTCA-1-L14 & TTTGTTGGTGGACCAA-1-L14 & TTTGTTGTCGAAGAAT-1-L14\\\\\n",
       "\\hline\n",
       "\tHES4 & -0.2458351 &  5.2755065 & -0.1659243 & -0.2529775 & -0.64255089 & -0.2226176 & -0.1294657 & -0.3032477 &  5.0691404 & -0.2307047 & ⋯ & -0.2238024 & -0.2566660 & -0.1094798 & -0.2565409 & -0.3618868 & -0.3595781 & -0.2898208 & -0.2445270 & -0.66771084 & -0.2764359\\\\\n",
       "\tISG15 & -0.5671435 & -0.6356693 & -0.6192396 & -0.6269512 & -0.38615820 & -0.6335911 &  1.2474985 & -0.5369599 &  0.4149888 & -0.6072676 & ⋯ &  1.5472746 &  1.1737832 &  1.0967059 & -0.7113699 & -0.8093281 &  0.3909281 & -0.7160870 & -0.5755023 &  1.70855975 &  1.5406628\\\\\n",
       "\tTNFRSF18 & -0.2080559 & -0.1850859 & -0.2253351 &  3.7579303 & -0.04953691 & -0.2080265 & -0.2338105 & -0.1949285 & -0.1594944 & -0.2083495 & ⋯ & -0.2039024 & -0.1873443 & -0.2356623 & -0.1908602 & -0.1516817 & -0.1588946 & -0.1810645 & -0.2076000 & -0.04253671 & -0.2055351\\\\\n",
       "\tTNFRSF4 & -0.1991221 & -0.2098920 & -0.2507233 & -0.2237158 & -0.27779725 & -0.2373614 & -0.2715408 & -0.1653312 & -0.2340275 & -0.2226019 & ⋯ & -0.2544025 & -0.2766939 & -0.2958161 & -0.2607138 & -0.2681839 & -0.2387677 & -0.2511905 & -0.2033674 & -0.26873145 & -0.1605054\\\\\n",
       "\tAL645728.1 & -0.2744859 & -0.2990338 & -0.2319598 & -0.2744958 & -0.44214112 & -0.2591127 & -0.2129115 & -0.3046129 & -0.3214925 & -0.2646544 & ⋯ & -0.2574319 & -0.2692729 & -0.2007998 & -0.2712910 & -0.3175532 &  2.2594626 & -0.2874482 &  3.8196340 &  1.03018486 & -0.2932183\\\\\n",
       "\tMIB2 & -0.3938878 & -0.3809605 & -0.4023549 &  2.0574462 & -0.30458272 & -0.3930661 &  2.5170703 & -0.3873412 &  1.4148629 &  2.2514246 & ⋯ & -0.3904268 & -0.3808021 & -0.4071151 &  1.6874684 &  1.2390401 & -0.3658706 &  1.5971848 & -0.3935464 &  0.71125776 & -0.3933075\\\\\n",
       "\\end{tabular}\n"
      ],
      "text/markdown": [
       "\n",
       "A matrix: 6 × 148275 of type dbl\n",
       "\n",
       "| <!--/--> | AAACCCACATACAGGG-1-L1 | AAACCCACATGACTTG-1-L1 | AAACCCAGTCATCAGT-1-L1 | AAACCCAGTGGTAATA-1-L1 | AAACCCATCATCACAG-1-L1 | AAACCCATCGATGGAG-1-L1 | AAACCCATCTTGCAGA-1-L1 | AAACGAAAGAACTTCC-1-L1 | AAACGAAAGGGTACGT-1-L1 | AAACGAAAGGGTCTTT-1-L1 | ⋯ | TTTGGTTTCTGTACAG-1-L14 | TTTGTTGAGCTCCACG-1-L14 | TTTGTTGAGTCAGCCC-1-L14 | TTTGTTGCACAAATAG-1-L14 | TTTGTTGCAGAGCCCT-1-L14 | TTTGTTGCAGGTTCGC-1-L14 | TTTGTTGGTACCTAGT-1-L14 | TTTGTTGGTACGTTCA-1-L14 | TTTGTTGGTGGACCAA-1-L14 | TTTGTTGTCGAAGAAT-1-L14 |\n",
       "|---|---|---|---|---|---|---|---|---|---|---|---|---|---|---|---|---|---|---|---|---|---|\n",
       "| HES4 | -0.2458351 |  5.2755065 | -0.1659243 | -0.2529775 | -0.64255089 | -0.2226176 | -0.1294657 | -0.3032477 |  5.0691404 | -0.2307047 | ⋯ | -0.2238024 | -0.2566660 | -0.1094798 | -0.2565409 | -0.3618868 | -0.3595781 | -0.2898208 | -0.2445270 | -0.66771084 | -0.2764359 |\n",
       "| ISG15 | -0.5671435 | -0.6356693 | -0.6192396 | -0.6269512 | -0.38615820 | -0.6335911 |  1.2474985 | -0.5369599 |  0.4149888 | -0.6072676 | ⋯ |  1.5472746 |  1.1737832 |  1.0967059 | -0.7113699 | -0.8093281 |  0.3909281 | -0.7160870 | -0.5755023 |  1.70855975 |  1.5406628 |\n",
       "| TNFRSF18 | -0.2080559 | -0.1850859 | -0.2253351 |  3.7579303 | -0.04953691 | -0.2080265 | -0.2338105 | -0.1949285 | -0.1594944 | -0.2083495 | ⋯ | -0.2039024 | -0.1873443 | -0.2356623 | -0.1908602 | -0.1516817 | -0.1588946 | -0.1810645 | -0.2076000 | -0.04253671 | -0.2055351 |\n",
       "| TNFRSF4 | -0.1991221 | -0.2098920 | -0.2507233 | -0.2237158 | -0.27779725 | -0.2373614 | -0.2715408 | -0.1653312 | -0.2340275 | -0.2226019 | ⋯ | -0.2544025 | -0.2766939 | -0.2958161 | -0.2607138 | -0.2681839 | -0.2387677 | -0.2511905 | -0.2033674 | -0.26873145 | -0.1605054 |\n",
       "| AL645728.1 | -0.2744859 | -0.2990338 | -0.2319598 | -0.2744958 | -0.44214112 | -0.2591127 | -0.2129115 | -0.3046129 | -0.3214925 | -0.2646544 | ⋯ | -0.2574319 | -0.2692729 | -0.2007998 | -0.2712910 | -0.3175532 |  2.2594626 | -0.2874482 |  3.8196340 |  1.03018486 | -0.2932183 |\n",
       "| MIB2 | -0.3938878 | -0.3809605 | -0.4023549 |  2.0574462 | -0.30458272 | -0.3930661 |  2.5170703 | -0.3873412 |  1.4148629 |  2.2514246 | ⋯ | -0.3904268 | -0.3808021 | -0.4071151 |  1.6874684 |  1.2390401 | -0.3658706 |  1.5971848 | -0.3935464 |  0.71125776 | -0.3933075 |\n",
       "\n"
      ],
      "text/plain": [
       "           AAACCCACATACAGGG-1-L1 AAACCCACATGACTTG-1-L1 AAACCCAGTCATCAGT-1-L1\n",
       "HES4       -0.2458351             5.2755065            -0.1659243           \n",
       "ISG15      -0.5671435            -0.6356693            -0.6192396           \n",
       "TNFRSF18   -0.2080559            -0.1850859            -0.2253351           \n",
       "TNFRSF4    -0.1991221            -0.2098920            -0.2507233           \n",
       "AL645728.1 -0.2744859            -0.2990338            -0.2319598           \n",
       "MIB2       -0.3938878            -0.3809605            -0.4023549           \n",
       "           AAACCCAGTGGTAATA-1-L1 AAACCCATCATCACAG-1-L1 AAACCCATCGATGGAG-1-L1\n",
       "HES4       -0.2529775            -0.64255089           -0.2226176           \n",
       "ISG15      -0.6269512            -0.38615820           -0.6335911           \n",
       "TNFRSF18    3.7579303            -0.04953691           -0.2080265           \n",
       "TNFRSF4    -0.2237158            -0.27779725           -0.2373614           \n",
       "AL645728.1 -0.2744958            -0.44214112           -0.2591127           \n",
       "MIB2        2.0574462            -0.30458272           -0.3930661           \n",
       "           AAACCCATCTTGCAGA-1-L1 AAACGAAAGAACTTCC-1-L1 AAACGAAAGGGTACGT-1-L1\n",
       "HES4       -0.1294657            -0.3032477             5.0691404           \n",
       "ISG15       1.2474985            -0.5369599             0.4149888           \n",
       "TNFRSF18   -0.2338105            -0.1949285            -0.1594944           \n",
       "TNFRSF4    -0.2715408            -0.1653312            -0.2340275           \n",
       "AL645728.1 -0.2129115            -0.3046129            -0.3214925           \n",
       "MIB2        2.5170703            -0.3873412             1.4148629           \n",
       "           AAACGAAAGGGTCTTT-1-L1 ⋯ TTTGGTTTCTGTACAG-1-L14\n",
       "HES4       -0.2307047            ⋯ -0.2238024            \n",
       "ISG15      -0.6072676            ⋯  1.5472746            \n",
       "TNFRSF18   -0.2083495            ⋯ -0.2039024            \n",
       "TNFRSF4    -0.2226019            ⋯ -0.2544025            \n",
       "AL645728.1 -0.2646544            ⋯ -0.2574319            \n",
       "MIB2        2.2514246            ⋯ -0.3904268            \n",
       "           TTTGTTGAGCTCCACG-1-L14 TTTGTTGAGTCAGCCC-1-L14 TTTGTTGCACAAATAG-1-L14\n",
       "HES4       -0.2566660             -0.1094798             -0.2565409            \n",
       "ISG15       1.1737832              1.0967059             -0.7113699            \n",
       "TNFRSF18   -0.1873443             -0.2356623             -0.1908602            \n",
       "TNFRSF4    -0.2766939             -0.2958161             -0.2607138            \n",
       "AL645728.1 -0.2692729             -0.2007998             -0.2712910            \n",
       "MIB2       -0.3808021             -0.4071151              1.6874684            \n",
       "           TTTGTTGCAGAGCCCT-1-L14 TTTGTTGCAGGTTCGC-1-L14 TTTGTTGGTACCTAGT-1-L14\n",
       "HES4       -0.3618868             -0.3595781             -0.2898208            \n",
       "ISG15      -0.8093281              0.3909281             -0.7160870            \n",
       "TNFRSF18   -0.1516817             -0.1588946             -0.1810645            \n",
       "TNFRSF4    -0.2681839             -0.2387677             -0.2511905            \n",
       "AL645728.1 -0.3175532              2.2594626             -0.2874482            \n",
       "MIB2        1.2390401             -0.3658706              1.5971848            \n",
       "           TTTGTTGGTACGTTCA-1-L14 TTTGTTGGTGGACCAA-1-L14 TTTGTTGTCGAAGAAT-1-L14\n",
       "HES4       -0.2445270             -0.66771084            -0.2764359            \n",
       "ISG15      -0.5755023              1.70855975             1.5406628            \n",
       "TNFRSF18   -0.2076000             -0.04253671            -0.2055351            \n",
       "TNFRSF4    -0.2033674             -0.26873145            -0.1605054            \n",
       "AL645728.1  3.8196340              1.03018486            -0.2932183            \n",
       "MIB2       -0.3935464              0.71125776            -0.3933075            "
      ]
     },
     "metadata": {},
     "output_type": "display_data"
    }
   ],
   "source": [
    "head(GetAssayData(rna_seurat_data, slot = \"scale.data\"))"
   ]
  },
  {
   "cell_type": "code",
   "execution_count": 152,
   "id": "3457aa22-ef49-4876-b429-c6ae07750ac0",
   "metadata": {},
   "outputs": [
    {
     "data": {
      "text/html": [
       "'RNA'"
      ],
      "text/latex": [
       "'RNA'"
      ],
      "text/markdown": [
       "'RNA'"
      ],
      "text/plain": [
       "[1] \"RNA\""
      ]
     },
     "metadata": {},
     "output_type": "display_data"
    }
   ],
   "source": [
    "DefaultAssay(rna_seurat_data)"
   ]
  },
  {
   "cell_type": "code",
   "execution_count": 158,
   "id": "485e49fc-ac5e-477d-8091-bcfbf2e62e1b",
   "metadata": {},
   "outputs": [
    {
     "data": {
      "text/plain": [
       "An object of class Seurat \n",
       "19221 features across 148275 samples within 1 assay \n",
       "Active assay: RNA (19221 features, 0 variable features)"
      ]
     },
     "metadata": {},
     "output_type": "display_data"
    }
   ],
   "source": [
    "rna_seurat_data"
   ]
  },
  {
   "cell_type": "markdown",
   "id": "9dc1350b-03a7-4af2-bff6-08bbbc8a419b",
   "metadata": {},
   "source": [
    "## Azimuth Annotation File"
   ]
  },
  {
   "cell_type": "code",
   "execution_count": 159,
   "id": "393df4f1-979c-4fc3-9a33-a8023c971c97",
   "metadata": {},
   "outputs": [],
   "source": [
    "azimuth_annotation = read.csv(paste0(data_path, '/analysis/G/G2_Cell_Annotations_Azimuth.csv'))"
   ]
  },
  {
   "cell_type": "code",
   "execution_count": 160,
   "id": "8c37f82e-5bcd-47d7-b7ef-7b42c0c33b35",
   "metadata": {},
   "outputs": [],
   "source": [
    "azimuth_annotation$cell_library = paste0(azimuth_annotation$cell, '-', azimuth_annotation$library)"
   ]
  },
  {
   "cell_type": "code",
   "execution_count": 161,
   "id": "d6b817a1-5584-415b-a639-2de838759102",
   "metadata": {},
   "outputs": [],
   "source": [
    "### Combine B-cell annotations:\n",
    "azimuth_annotation$predicted.celltype.l2 = str_replace(azimuth_annotation$predicted.celltype.l2 ,\n",
    "                                                       'B naive|B memory|B intermediate', 'B cell')"
   ]
  },
  {
   "cell_type": "code",
   "execution_count": 162,
   "id": "f623f06c-4937-4e2b-a775-318819f2e59e",
   "metadata": {},
   "outputs": [],
   "source": [
    "### Define cell-type to use in the end"
   ]
  },
  {
   "cell_type": "code",
   "execution_count": 163,
   "id": "3beb75f2-da12-43bb-a90b-c97d6534a863",
   "metadata": {},
   "outputs": [],
   "source": [
    "total_azimuth_filter = azimuth_annotation %>% group_by(predicted.celltype.l2) %>% dplyr::count()"
   ]
  },
  {
   "cell_type": "code",
   "execution_count": 164,
   "id": "34f302e5-10a9-48ee-a241-68e428f39cd1",
   "metadata": {},
   "outputs": [],
   "source": [
    "total_azimuth_filter = total_azimuth_filter[total_azimuth_filter$n > 1000,c('predicted.celltype.l2')]"
   ]
  },
  {
   "cell_type": "code",
   "execution_count": 165,
   "id": "ef1d07a0-9cf7-469b-aacb-14befd083f37",
   "metadata": {},
   "outputs": [],
   "source": [
    "#total_azimuth_filter"
   ]
  },
  {
   "cell_type": "code",
   "execution_count": 166,
   "id": "811a04da-4771-4f80-bef9-1644c4ab6e02",
   "metadata": {},
   "outputs": [
    {
     "data": {
      "text/html": [
       "<table class=\"dataframe\">\n",
       "<caption>A data.frame: 2 × 8</caption>\n",
       "<thead>\n",
       "\t<tr><th></th><th scope=col>X</th><th scope=col>nCount_RNA</th><th scope=col>nFeature_RNA</th><th scope=col>predicted.celltype.l2</th><th scope=col>predicted.celltype.l2.score</th><th scope=col>library</th><th scope=col>cell</th><th scope=col>cell_library</th></tr>\n",
       "\t<tr><th></th><th scope=col>&lt;chr&gt;</th><th scope=col>&lt;int&gt;</th><th scope=col>&lt;int&gt;</th><th scope=col>&lt;chr&gt;</th><th scope=col>&lt;dbl&gt;</th><th scope=col>&lt;chr&gt;</th><th scope=col>&lt;chr&gt;</th><th scope=col>&lt;chr&gt;</th></tr>\n",
       "</thead>\n",
       "<tbody>\n",
       "\t<tr><th scope=row>1</th><td>AAACCCACATACAGGG-1</td><td>3947</td><td>1232</td><td>B cell   </td><td>0.9668187</td><td>L1</td><td>AAACCCACATACAGGG-1</td><td>AAACCCACATACAGGG-1-L1</td></tr>\n",
       "\t<tr><th scope=row>2</th><td>AAACCCACATGACTTG-1</td><td>5871</td><td>1890</td><td>CD16 Mono</td><td>1.0000000</td><td>L1</td><td>AAACCCACATGACTTG-1</td><td>AAACCCACATGACTTG-1-L1</td></tr>\n",
       "</tbody>\n",
       "</table>\n"
      ],
      "text/latex": [
       "A data.frame: 2 × 8\n",
       "\\begin{tabular}{r|llllllll}\n",
       "  & X & nCount\\_RNA & nFeature\\_RNA & predicted.celltype.l2 & predicted.celltype.l2.score & library & cell & cell\\_library\\\\\n",
       "  & <chr> & <int> & <int> & <chr> & <dbl> & <chr> & <chr> & <chr>\\\\\n",
       "\\hline\n",
       "\t1 & AAACCCACATACAGGG-1 & 3947 & 1232 & B cell    & 0.9668187 & L1 & AAACCCACATACAGGG-1 & AAACCCACATACAGGG-1-L1\\\\\n",
       "\t2 & AAACCCACATGACTTG-1 & 5871 & 1890 & CD16 Mono & 1.0000000 & L1 & AAACCCACATGACTTG-1 & AAACCCACATGACTTG-1-L1\\\\\n",
       "\\end{tabular}\n"
      ],
      "text/markdown": [
       "\n",
       "A data.frame: 2 × 8\n",
       "\n",
       "| <!--/--> | X &lt;chr&gt; | nCount_RNA &lt;int&gt; | nFeature_RNA &lt;int&gt; | predicted.celltype.l2 &lt;chr&gt; | predicted.celltype.l2.score &lt;dbl&gt; | library &lt;chr&gt; | cell &lt;chr&gt; | cell_library &lt;chr&gt; |\n",
       "|---|---|---|---|---|---|---|---|---|\n",
       "| 1 | AAACCCACATACAGGG-1 | 3947 | 1232 | B cell    | 0.9668187 | L1 | AAACCCACATACAGGG-1 | AAACCCACATACAGGG-1-L1 |\n",
       "| 2 | AAACCCACATGACTTG-1 | 5871 | 1890 | CD16 Mono | 1.0000000 | L1 | AAACCCACATGACTTG-1 | AAACCCACATGACTTG-1-L1 |\n",
       "\n"
      ],
      "text/plain": [
       "  X                  nCount_RNA nFeature_RNA predicted.celltype.l2\n",
       "1 AAACCCACATACAGGG-1 3947       1232         B cell               \n",
       "2 AAACCCACATGACTTG-1 5871       1890         CD16 Mono            \n",
       "  predicted.celltype.l2.score library cell               cell_library         \n",
       "1 0.9668187                   L1      AAACCCACATACAGGG-1 AAACCCACATACAGGG-1-L1\n",
       "2 1.0000000                   L1      AAACCCACATGACTTG-1 AAACCCACATGACTTG-1-L1"
      ]
     },
     "metadata": {},
     "output_type": "display_data"
    }
   ],
   "source": [
    "head(azimuth_annotation,2)"
   ]
  },
  {
   "cell_type": "code",
   "execution_count": 167,
   "id": "ce37c90a-2192-4b33-a6b5-b9cbf1064214",
   "metadata": {},
   "outputs": [],
   "source": [
    "azimuth_mapping = read.csv(paste0(result_path, '/Reproduction/azimuth_roy_mapping.csv'))"
   ]
  },
  {
   "cell_type": "code",
   "execution_count": 168,
   "id": "dac0b5f0-ec89-467d-aeb9-483976ef587b",
   "metadata": {},
   "outputs": [],
   "source": [
    "azimuth_mapping = azimuth_mapping[azimuth_mapping$annot != '',]"
   ]
  },
  {
   "cell_type": "code",
   "execution_count": 169,
   "id": "157e7df4-fbd3-4850-bdaf-f1498b5a1af1",
   "metadata": {},
   "outputs": [
    {
     "data": {
      "text/html": [
       "<table class=\"dataframe\">\n",
       "<caption>A data.frame: 2 × 2</caption>\n",
       "<thead>\n",
       "\t<tr><th></th><th scope=col>annot_roy</th><th scope=col>annot</th></tr>\n",
       "\t<tr><th></th><th scope=col>&lt;chr&gt;</th><th scope=col>&lt;chr&gt;</th></tr>\n",
       "</thead>\n",
       "<tbody>\n",
       "\t<tr><th scope=row>2</th><td>B_intermediate</td><td>B intermediate</td></tr>\n",
       "\t<tr><th scope=row>3</th><td>B_memory      </td><td>B memory      </td></tr>\n",
       "</tbody>\n",
       "</table>\n"
      ],
      "text/latex": [
       "A data.frame: 2 × 2\n",
       "\\begin{tabular}{r|ll}\n",
       "  & annot\\_roy & annot\\\\\n",
       "  & <chr> & <chr>\\\\\n",
       "\\hline\n",
       "\t2 & B\\_intermediate & B intermediate\\\\\n",
       "\t3 & B\\_memory       & B memory      \\\\\n",
       "\\end{tabular}\n"
      ],
      "text/markdown": [
       "\n",
       "A data.frame: 2 × 2\n",
       "\n",
       "| <!--/--> | annot_roy &lt;chr&gt; | annot &lt;chr&gt; |\n",
       "|---|---|---|\n",
       "| 2 | B_intermediate | B intermediate |\n",
       "| 3 | B_memory       | B memory       |\n",
       "\n"
      ],
      "text/plain": [
       "  annot_roy      annot         \n",
       "2 B_intermediate B intermediate\n",
       "3 B_memory       B memory      "
      ]
     },
     "metadata": {},
     "output_type": "display_data"
    }
   ],
   "source": [
    "head(azimuth_mapping,2)"
   ]
  },
  {
   "cell_type": "markdown",
   "id": "bb5686ee-7302-4b8f-927e-0b74de33a6a8",
   "metadata": {
    "tags": []
   },
   "source": [
    "# Data Processing"
   ]
  },
  {
   "cell_type": "markdown",
   "id": "0da0c4fa-1d3a-4302-a598-86807be89669",
   "metadata": {
    "tags": []
   },
   "source": [
    "## Subset data"
   ]
  },
  {
   "cell_type": "code",
   "execution_count": 170,
   "id": "4b84dee6-bbb7-4ef2-ab3d-b0a632489ba2",
   "metadata": {},
   "outputs": [
    {
     "data": {
      "text/html": [
       "<style>\n",
       ".list-inline {list-style: none; margin:0; padding: 0}\n",
       ".list-inline>li {display: inline-block}\n",
       ".list-inline>li:not(:last-child)::after {content: \"\\00b7\"; padding: 0 .5ex}\n",
       "</style>\n",
       "<ol class=list-inline><li>19221</li><li>148275</li></ol>\n"
      ],
      "text/latex": [
       "\\begin{enumerate*}\n",
       "\\item 19221\n",
       "\\item 148275\n",
       "\\end{enumerate*}\n"
      ],
      "text/markdown": [
       "1. 19221\n",
       "2. 148275\n",
       "\n",
       "\n"
      ],
      "text/plain": [
       "[1]  19221 148275"
      ]
     },
     "metadata": {},
     "output_type": "display_data"
    }
   ],
   "source": [
    "dim(rna_seurat_data)"
   ]
  },
  {
   "cell_type": "code",
   "execution_count": 171,
   "id": "909aca79-78a3-4fb2-ab36-63cc088440ae",
   "metadata": {},
   "outputs": [],
   "source": [
    "rna_seurat_data_subset = rna_seurat_data"
   ]
  },
  {
   "cell_type": "code",
   "execution_count": 174,
   "id": "82ff29d8-65fd-44b7-914f-0d9b022bc172",
   "metadata": {},
   "outputs": [
    {
     "data": {
      "text/html": [
       "<style>\n",
       ".list-inline {list-style: none; margin:0; padding: 0}\n",
       ".list-inline>li {display: inline-block}\n",
       ".list-inline>li:not(:last-child)::after {content: \"\\00b7\"; padding: 0 .5ex}\n",
       "</style>\n",
       "<ol class=list-inline><li>19221</li><li>148275</li></ol>\n"
      ],
      "text/latex": [
       "\\begin{enumerate*}\n",
       "\\item 19221\n",
       "\\item 148275\n",
       "\\end{enumerate*}\n"
      ],
      "text/markdown": [
       "1. 19221\n",
       "2. 148275\n",
       "\n",
       "\n"
      ],
      "text/plain": [
       "[1]  19221 148275"
      ]
     },
     "metadata": {},
     "output_type": "display_data"
    }
   ],
   "source": [
    "dim(rna_seurat_data_subset)"
   ]
  },
  {
   "cell_type": "markdown",
   "id": "f1c9a1c5-936b-443f-aee1-8d8715788d4a",
   "metadata": {
    "tags": []
   },
   "source": [
    "## Define columns for aggregation to pseudobulk + data type conversions"
   ]
  },
  {
   "cell_type": "code",
   "execution_count": 176,
   "id": "b7f60ef4-db4c-4c4e-a770-10e2256bad13",
   "metadata": {},
   "outputs": [],
   "source": [
    "sample_column = 'display_name' # to be sample-id"
   ]
  },
  {
   "cell_type": "code",
   "execution_count": 177,
   "id": "1a102852-3c89-4b18-b1aa-232119f31f14",
   "metadata": {},
   "outputs": [],
   "source": [
    "cluster_column =  'predicted.celltype.l2' # to be cluster_id"
   ]
  },
  {
   "cell_type": "code",
   "execution_count": 178,
   "id": "70e459f3-a645-4da3-88d4-e8a5d656cb23",
   "metadata": {},
   "outputs": [],
   "source": [
    "obs = rna_seurat_data_subset@meta.data"
   ]
  },
  {
   "cell_type": "code",
   "execution_count": 179,
   "id": "45377d3f-8062-4652-b060-e312bf983338",
   "metadata": {},
   "outputs": [],
   "source": [
    "obs$cell = rownames(obs)"
   ]
  },
  {
   "cell_type": "code",
   "execution_count": 180,
   "id": "4eae1383-40fb-42df-a162-797a1146635f",
   "metadata": {},
   "outputs": [
    {
     "data": {
      "text/html": [
       "<table class=\"dataframe\">\n",
       "<caption>A data.frame: 6 × 29</caption>\n",
       "<thead>\n",
       "\t<tr><th></th><th scope=col>nCount_HTO</th><th scope=col>B2_Scanorama_Singlet_cluster</th><th scope=col>B2_Scanorama_Singlet_rb_mt_cluster</th><th scope=col>cell_type_Scanorama</th><th scope=col>cluster_cell_type_Scanorama</th><th scope=col>classification_measurement</th><th scope=col>delta_ef_value_group_measurement</th><th scope=col>m_y</th><th scope=col>measurement_y</th><th scope=col>delta_ef_value_group</th><th scope=col>⋯</th><th scope=col>library</th><th scope=col>id</th><th scope=col>read</th><th scope=col>pattern</th><th scope=col>sequence</th><th scope=col>feature_type</th><th scope=col>in_sample</th><th scope=col>display_name</th><th scope=col>group_x</th><th scope=col>cell</th></tr>\n",
       "\t<tr><th></th><th scope=col>&lt;dbl&gt;</th><th scope=col>&lt;fct&gt;</th><th scope=col>&lt;fct&gt;</th><th scope=col>&lt;fct&gt;</th><th scope=col>&lt;fct&gt;</th><th scope=col>&lt;fct&gt;</th><th scope=col>&lt;fct&gt;</th><th scope=col>&lt;fct&gt;</th><th scope=col>&lt;fct&gt;</th><th scope=col>&lt;fct&gt;</th><th scope=col>⋯</th><th scope=col>&lt;fct&gt;</th><th scope=col>&lt;fct&gt;</th><th scope=col>&lt;fct&gt;</th><th scope=col>&lt;fct&gt;</th><th scope=col>&lt;fct&gt;</th><th scope=col>&lt;fct&gt;</th><th scope=col>&lt;dbl&gt;</th><th scope=col>&lt;fct&gt;</th><th scope=col>&lt;fct&gt;</th><th scope=col>&lt;chr&gt;</th></tr>\n",
       "</thead>\n",
       "<tbody>\n",
       "\t<tr><th scope=row>AAACCCACATACAGGG-1-L1</th><td>1574</td><td>8 </td><td>8 </td><td>B-cell                 </td><td>8_B-cell                 </td><td>acs_w_o_infection_TP1</td><td>x_greater_1_TP1</td><td>M9 (14,3) </td><td>TP1    </td><td>x_greater_1</td><td>⋯</td><td>L1</td><td>HTO_B0259</td><td>R2</td><td>5PNNNNNNNNNN(BC)</td><td>CAGTAGTCACGGTCA</td><td>Antibody Capture</td><td>1</td><td>9.1</td><td>TP1</td><td>AAACCCACATACAGGG-1-L1</td></tr>\n",
       "\t<tr><th scope=row>AAACCCACATGACTTG-1-L1</th><td> 379</td><td>9 </td><td>9 </td><td>Monocytes - CD16_FCGR3A</td><td>9_Monocytes - CD16_FCGR3A</td><td>acs_w_o_infection_TP1</td><td>x_greater_1_TP1</td><td>M9 (14,3) </td><td>TP1    </td><td>x_greater_1</td><td>⋯</td><td>L1</td><td>HTO_B0259</td><td>R2</td><td>5PNNNNNNNNNN(BC)</td><td>CAGTAGTCACGGTCA</td><td>Antibody Capture</td><td>1</td><td>9.1</td><td>TP1</td><td>AAACCCACATGACTTG-1-L1</td></tr>\n",
       "\t<tr><th scope=row>AAACCCAGTCATCAGT-1-L1</th><td> 421</td><td>5 </td><td>5 </td><td>T-cell-CD4             </td><td>5_T-cell-CD4             </td><td>acs_w_o_infection_TP1</td><td>x_smaller_1_TP1</td><td>M7 (0,75) </td><td>TP1    </td><td>x_smaller_1</td><td>⋯</td><td>L1</td><td>HTO_B0257</td><td>R2</td><td>5PNNNNNNNNNN(BC)</td><td>TGTCTTTCCTGCCAG</td><td>Antibody Capture</td><td>1</td><td>7.1</td><td>TP1</td><td>AAACCCAGTCATCAGT-1-L1</td></tr>\n",
       "\t<tr><th scope=row>AAACCCAGTGGTAATA-1-L1</th><td> 478</td><td>0 </td><td>0 </td><td>T-cell-CD4             </td><td>0_T-cell-CD4             </td><td>acs_w_o_infection_TP1</td><td>x_greater_1_TP1</td><td>M9 (14,3) </td><td>TP1    </td><td>x_greater_1</td><td>⋯</td><td>L1</td><td>HTO_B0259</td><td>R2</td><td>5PNNNNNNNNNN(BC)</td><td>CAGTAGTCACGGTCA</td><td>Antibody Capture</td><td>1</td><td>9.1</td><td>TP1</td><td>AAACCCAGTGGTAATA-1-L1</td></tr>\n",
       "\t<tr><th scope=row>AAACCCATCATCACAG-1-L1</th><td> 851</td><td>16</td><td>16</td><td>Plasma Blast           </td><td>16_Plasma Blast          </td><td>acs_w_o_infection_TP1</td><td>x_greater_1_TP1</td><td>M9 (14,3) </td><td>TP1    </td><td>x_greater_1</td><td>⋯</td><td>L1</td><td>HTO_B0259</td><td>R2</td><td>5PNNNNNNNNNN(BC)</td><td>CAGTAGTCACGGTCA</td><td>Antibody Capture</td><td>1</td><td>9.1</td><td>TP1</td><td>AAACCCATCATCACAG-1-L1</td></tr>\n",
       "\t<tr><th scope=row>AAACCCATCGATGGAG-1-L1</th><td> 473</td><td>0 </td><td>0 </td><td>T-cell-CD4             </td><td>0_T-cell-CD4             </td><td>acs_subacute_TP1     </td><td>missing        </td><td>missing   </td><td>missing</td><td>missing    </td><td>⋯</td><td>L1</td><td>HTO_B0258</td><td>R2</td><td>5PNNNNNNNNNN(BC)</td><td>CTCCTCTGCAATTAC</td><td>Antibody Capture</td><td>1</td><td>8.1</td><td>TP1</td><td>AAACCCATCGATGGAG-1-L1</td></tr>\n",
       "</tbody>\n",
       "</table>\n"
      ],
      "text/latex": [
       "A data.frame: 6 × 29\n",
       "\\begin{tabular}{r|lllllllllllllllllllll}\n",
       "  & nCount\\_HTO & B2\\_Scanorama\\_Singlet\\_cluster & B2\\_Scanorama\\_Singlet\\_rb\\_mt\\_cluster & cell\\_type\\_Scanorama & cluster\\_cell\\_type\\_Scanorama & classification\\_measurement & delta\\_ef\\_value\\_group\\_measurement & m\\_y & measurement\\_y & delta\\_ef\\_value\\_group & ⋯ & library & id & read & pattern & sequence & feature\\_type & in\\_sample & display\\_name & group\\_x & cell\\\\\n",
       "  & <dbl> & <fct> & <fct> & <fct> & <fct> & <fct> & <fct> & <fct> & <fct> & <fct> & ⋯ & <fct> & <fct> & <fct> & <fct> & <fct> & <fct> & <dbl> & <fct> & <fct> & <chr>\\\\\n",
       "\\hline\n",
       "\tAAACCCACATACAGGG-1-L1 & 1574 & 8  & 8  & B-cell                  & 8\\_B-cell                  & acs\\_w\\_o\\_infection\\_TP1 & x\\_greater\\_1\\_TP1 & M9 (14,3)  & TP1     & x\\_greater\\_1 & ⋯ & L1 & HTO\\_B0259 & R2 & 5PNNNNNNNNNN(BC) & CAGTAGTCACGGTCA & Antibody Capture & 1 & 9.1 & TP1 & AAACCCACATACAGGG-1-L1\\\\\n",
       "\tAAACCCACATGACTTG-1-L1 &  379 & 9  & 9  & Monocytes - CD16\\_FCGR3A & 9\\_Monocytes - CD16\\_FCGR3A & acs\\_w\\_o\\_infection\\_TP1 & x\\_greater\\_1\\_TP1 & M9 (14,3)  & TP1     & x\\_greater\\_1 & ⋯ & L1 & HTO\\_B0259 & R2 & 5PNNNNNNNNNN(BC) & CAGTAGTCACGGTCA & Antibody Capture & 1 & 9.1 & TP1 & AAACCCACATGACTTG-1-L1\\\\\n",
       "\tAAACCCAGTCATCAGT-1-L1 &  421 & 5  & 5  & T-cell-CD4              & 5\\_T-cell-CD4              & acs\\_w\\_o\\_infection\\_TP1 & x\\_smaller\\_1\\_TP1 & M7 (0,75)  & TP1     & x\\_smaller\\_1 & ⋯ & L1 & HTO\\_B0257 & R2 & 5PNNNNNNNNNN(BC) & TGTCTTTCCTGCCAG & Antibody Capture & 1 & 7.1 & TP1 & AAACCCAGTCATCAGT-1-L1\\\\\n",
       "\tAAACCCAGTGGTAATA-1-L1 &  478 & 0  & 0  & T-cell-CD4              & 0\\_T-cell-CD4              & acs\\_w\\_o\\_infection\\_TP1 & x\\_greater\\_1\\_TP1 & M9 (14,3)  & TP1     & x\\_greater\\_1 & ⋯ & L1 & HTO\\_B0259 & R2 & 5PNNNNNNNNNN(BC) & CAGTAGTCACGGTCA & Antibody Capture & 1 & 9.1 & TP1 & AAACCCAGTGGTAATA-1-L1\\\\\n",
       "\tAAACCCATCATCACAG-1-L1 &  851 & 16 & 16 & Plasma Blast            & 16\\_Plasma Blast           & acs\\_w\\_o\\_infection\\_TP1 & x\\_greater\\_1\\_TP1 & M9 (14,3)  & TP1     & x\\_greater\\_1 & ⋯ & L1 & HTO\\_B0259 & R2 & 5PNNNNNNNNNN(BC) & CAGTAGTCACGGTCA & Antibody Capture & 1 & 9.1 & TP1 & AAACCCATCATCACAG-1-L1\\\\\n",
       "\tAAACCCATCGATGGAG-1-L1 &  473 & 0  & 0  & T-cell-CD4              & 0\\_T-cell-CD4              & acs\\_subacute\\_TP1      & missing         & missing    & missing & missing     & ⋯ & L1 & HTO\\_B0258 & R2 & 5PNNNNNNNNNN(BC) & CTCCTCTGCAATTAC & Antibody Capture & 1 & 8.1 & TP1 & AAACCCATCGATGGAG-1-L1\\\\\n",
       "\\end{tabular}\n"
      ],
      "text/markdown": [
       "\n",
       "A data.frame: 6 × 29\n",
       "\n",
       "| <!--/--> | nCount_HTO &lt;dbl&gt; | B2_Scanorama_Singlet_cluster &lt;fct&gt; | B2_Scanorama_Singlet_rb_mt_cluster &lt;fct&gt; | cell_type_Scanorama &lt;fct&gt; | cluster_cell_type_Scanorama &lt;fct&gt; | classification_measurement &lt;fct&gt; | delta_ef_value_group_measurement &lt;fct&gt; | m_y &lt;fct&gt; | measurement_y &lt;fct&gt; | delta_ef_value_group &lt;fct&gt; | ⋯ ⋯ | library &lt;fct&gt; | id &lt;fct&gt; | read &lt;fct&gt; | pattern &lt;fct&gt; | sequence &lt;fct&gt; | feature_type &lt;fct&gt; | in_sample &lt;dbl&gt; | display_name &lt;fct&gt; | group_x &lt;fct&gt; | cell &lt;chr&gt; |\n",
       "|---|---|---|---|---|---|---|---|---|---|---|---|---|---|---|---|---|---|---|---|---|---|\n",
       "| AAACCCACATACAGGG-1-L1 | 1574 | 8  | 8  | B-cell                  | 8_B-cell                  | acs_w_o_infection_TP1 | x_greater_1_TP1 | M9 (14,3)  | TP1     | x_greater_1 | ⋯ | L1 | HTO_B0259 | R2 | 5PNNNNNNNNNN(BC) | CAGTAGTCACGGTCA | Antibody Capture | 1 | 9.1 | TP1 | AAACCCACATACAGGG-1-L1 |\n",
       "| AAACCCACATGACTTG-1-L1 |  379 | 9  | 9  | Monocytes - CD16_FCGR3A | 9_Monocytes - CD16_FCGR3A | acs_w_o_infection_TP1 | x_greater_1_TP1 | M9 (14,3)  | TP1     | x_greater_1 | ⋯ | L1 | HTO_B0259 | R2 | 5PNNNNNNNNNN(BC) | CAGTAGTCACGGTCA | Antibody Capture | 1 | 9.1 | TP1 | AAACCCACATGACTTG-1-L1 |\n",
       "| AAACCCAGTCATCAGT-1-L1 |  421 | 5  | 5  | T-cell-CD4              | 5_T-cell-CD4              | acs_w_o_infection_TP1 | x_smaller_1_TP1 | M7 (0,75)  | TP1     | x_smaller_1 | ⋯ | L1 | HTO_B0257 | R2 | 5PNNNNNNNNNN(BC) | TGTCTTTCCTGCCAG | Antibody Capture | 1 | 7.1 | TP1 | AAACCCAGTCATCAGT-1-L1 |\n",
       "| AAACCCAGTGGTAATA-1-L1 |  478 | 0  | 0  | T-cell-CD4              | 0_T-cell-CD4              | acs_w_o_infection_TP1 | x_greater_1_TP1 | M9 (14,3)  | TP1     | x_greater_1 | ⋯ | L1 | HTO_B0259 | R2 | 5PNNNNNNNNNN(BC) | CAGTAGTCACGGTCA | Antibody Capture | 1 | 9.1 | TP1 | AAACCCAGTGGTAATA-1-L1 |\n",
       "| AAACCCATCATCACAG-1-L1 |  851 | 16 | 16 | Plasma Blast            | 16_Plasma Blast           | acs_w_o_infection_TP1 | x_greater_1_TP1 | M9 (14,3)  | TP1     | x_greater_1 | ⋯ | L1 | HTO_B0259 | R2 | 5PNNNNNNNNNN(BC) | CAGTAGTCACGGTCA | Antibody Capture | 1 | 9.1 | TP1 | AAACCCATCATCACAG-1-L1 |\n",
       "| AAACCCATCGATGGAG-1-L1 |  473 | 0  | 0  | T-cell-CD4              | 0_T-cell-CD4              | acs_subacute_TP1      | missing         | missing    | missing | missing     | ⋯ | L1 | HTO_B0258 | R2 | 5PNNNNNNNNNN(BC) | CTCCTCTGCAATTAC | Antibody Capture | 1 | 8.1 | TP1 | AAACCCATCGATGGAG-1-L1 |\n",
       "\n"
      ],
      "text/plain": [
       "                      nCount_HTO B2_Scanorama_Singlet_cluster\n",
       "AAACCCACATACAGGG-1-L1 1574       8                           \n",
       "AAACCCACATGACTTG-1-L1  379       9                           \n",
       "AAACCCAGTCATCAGT-1-L1  421       5                           \n",
       "AAACCCAGTGGTAATA-1-L1  478       0                           \n",
       "AAACCCATCATCACAG-1-L1  851       16                          \n",
       "AAACCCATCGATGGAG-1-L1  473       0                           \n",
       "                      B2_Scanorama_Singlet_rb_mt_cluster\n",
       "AAACCCACATACAGGG-1-L1 8                                 \n",
       "AAACCCACATGACTTG-1-L1 9                                 \n",
       "AAACCCAGTCATCAGT-1-L1 5                                 \n",
       "AAACCCAGTGGTAATA-1-L1 0                                 \n",
       "AAACCCATCATCACAG-1-L1 16                                \n",
       "AAACCCATCGATGGAG-1-L1 0                                 \n",
       "                      cell_type_Scanorama     cluster_cell_type_Scanorama\n",
       "AAACCCACATACAGGG-1-L1 B-cell                  8_B-cell                   \n",
       "AAACCCACATGACTTG-1-L1 Monocytes - CD16_FCGR3A 9_Monocytes - CD16_FCGR3A  \n",
       "AAACCCAGTCATCAGT-1-L1 T-cell-CD4              5_T-cell-CD4               \n",
       "AAACCCAGTGGTAATA-1-L1 T-cell-CD4              0_T-cell-CD4               \n",
       "AAACCCATCATCACAG-1-L1 Plasma Blast            16_Plasma Blast            \n",
       "AAACCCATCGATGGAG-1-L1 T-cell-CD4              0_T-cell-CD4               \n",
       "                      classification_measurement\n",
       "AAACCCACATACAGGG-1-L1 acs_w_o_infection_TP1     \n",
       "AAACCCACATGACTTG-1-L1 acs_w_o_infection_TP1     \n",
       "AAACCCAGTCATCAGT-1-L1 acs_w_o_infection_TP1     \n",
       "AAACCCAGTGGTAATA-1-L1 acs_w_o_infection_TP1     \n",
       "AAACCCATCATCACAG-1-L1 acs_w_o_infection_TP1     \n",
       "AAACCCATCGATGGAG-1-L1 acs_subacute_TP1          \n",
       "                      delta_ef_value_group_measurement m_y        measurement_y\n",
       "AAACCCACATACAGGG-1-L1 x_greater_1_TP1                  M9 (14,3)  TP1          \n",
       "AAACCCACATGACTTG-1-L1 x_greater_1_TP1                  M9 (14,3)  TP1          \n",
       "AAACCCAGTCATCAGT-1-L1 x_smaller_1_TP1                  M7 (0,75)  TP1          \n",
       "AAACCCAGTGGTAATA-1-L1 x_greater_1_TP1                  M9 (14,3)  TP1          \n",
       "AAACCCATCATCACAG-1-L1 x_greater_1_TP1                  M9 (14,3)  TP1          \n",
       "AAACCCATCGATGGAG-1-L1 missing                          missing    missing      \n",
       "                      delta_ef_value_group ⋯ library id        read\n",
       "AAACCCACATACAGGG-1-L1 x_greater_1          ⋯ L1      HTO_B0259 R2  \n",
       "AAACCCACATGACTTG-1-L1 x_greater_1          ⋯ L1      HTO_B0259 R2  \n",
       "AAACCCAGTCATCAGT-1-L1 x_smaller_1          ⋯ L1      HTO_B0257 R2  \n",
       "AAACCCAGTGGTAATA-1-L1 x_greater_1          ⋯ L1      HTO_B0259 R2  \n",
       "AAACCCATCATCACAG-1-L1 x_greater_1          ⋯ L1      HTO_B0259 R2  \n",
       "AAACCCATCGATGGAG-1-L1 missing              ⋯ L1      HTO_B0258 R2  \n",
       "                      pattern          sequence        feature_type    \n",
       "AAACCCACATACAGGG-1-L1 5PNNNNNNNNNN(BC) CAGTAGTCACGGTCA Antibody Capture\n",
       "AAACCCACATGACTTG-1-L1 5PNNNNNNNNNN(BC) CAGTAGTCACGGTCA Antibody Capture\n",
       "AAACCCAGTCATCAGT-1-L1 5PNNNNNNNNNN(BC) TGTCTTTCCTGCCAG Antibody Capture\n",
       "AAACCCAGTGGTAATA-1-L1 5PNNNNNNNNNN(BC) CAGTAGTCACGGTCA Antibody Capture\n",
       "AAACCCATCATCACAG-1-L1 5PNNNNNNNNNN(BC) CAGTAGTCACGGTCA Antibody Capture\n",
       "AAACCCATCGATGGAG-1-L1 5PNNNNNNNNNN(BC) CTCCTCTGCAATTAC Antibody Capture\n",
       "                      in_sample display_name group_x cell                 \n",
       "AAACCCACATACAGGG-1-L1 1         9.1          TP1     AAACCCACATACAGGG-1-L1\n",
       "AAACCCACATGACTTG-1-L1 1         9.1          TP1     AAACCCACATGACTTG-1-L1\n",
       "AAACCCAGTCATCAGT-1-L1 1         7.1          TP1     AAACCCAGTCATCAGT-1-L1\n",
       "AAACCCAGTGGTAATA-1-L1 1         9.1          TP1     AAACCCAGTGGTAATA-1-L1\n",
       "AAACCCATCATCACAG-1-L1 1         9.1          TP1     AAACCCATCATCACAG-1-L1\n",
       "AAACCCATCGATGGAG-1-L1 1         8.1          TP1     AAACCCATCGATGGAG-1-L1"
      ]
     },
     "metadata": {},
     "output_type": "display_data"
    }
   ],
   "source": [
    "head(obs)"
   ]
  },
  {
   "cell_type": "code",
   "execution_count": 181,
   "id": "00dee4f9-b483-4d08-9844-4ac82f46b48b",
   "metadata": {},
   "outputs": [
    {
     "data": {
      "text/html": [
       "<style>\n",
       ".list-inline {list-style: none; margin:0; padding: 0}\n",
       ".list-inline>li {display: inline-block}\n",
       ".list-inline>li:not(:last-child)::after {content: \"\\00b7\"; padding: 0 .5ex}\n",
       "</style>\n",
       "<ol class=list-inline><li>'nCount_HTO'</li><li>'B2_Scanorama_Singlet_cluster'</li><li>'B2_Scanorama_Singlet_rb_mt_cluster'</li><li>'cell_type_Scanorama'</li><li>'cluster_cell_type_Scanorama'</li><li>'classification_measurement'</li><li>'delta_ef_value_group_measurement'</li><li>'m_y'</li><li>'measurement_y'</li><li>'delta_ef_value_group'</li><li>'delta_ef_value'</li><li>'sample_y'</li><li>'age'</li><li>'sex'</li><li>'m_x'</li><li>'classification'</li><li>'group_y'</li><li>'measurement_x'</li><li>'sample_x'</li><li>'library'</li><li>'id'</li><li>'read'</li><li>'pattern'</li><li>'sequence'</li><li>'feature_type'</li><li>'in_sample'</li><li>'display_name'</li><li>'group_x'</li><li>'cell'</li></ol>\n"
      ],
      "text/latex": [
       "\\begin{enumerate*}\n",
       "\\item 'nCount\\_HTO'\n",
       "\\item 'B2\\_Scanorama\\_Singlet\\_cluster'\n",
       "\\item 'B2\\_Scanorama\\_Singlet\\_rb\\_mt\\_cluster'\n",
       "\\item 'cell\\_type\\_Scanorama'\n",
       "\\item 'cluster\\_cell\\_type\\_Scanorama'\n",
       "\\item 'classification\\_measurement'\n",
       "\\item 'delta\\_ef\\_value\\_group\\_measurement'\n",
       "\\item 'm\\_y'\n",
       "\\item 'measurement\\_y'\n",
       "\\item 'delta\\_ef\\_value\\_group'\n",
       "\\item 'delta\\_ef\\_value'\n",
       "\\item 'sample\\_y'\n",
       "\\item 'age'\n",
       "\\item 'sex'\n",
       "\\item 'm\\_x'\n",
       "\\item 'classification'\n",
       "\\item 'group\\_y'\n",
       "\\item 'measurement\\_x'\n",
       "\\item 'sample\\_x'\n",
       "\\item 'library'\n",
       "\\item 'id'\n",
       "\\item 'read'\n",
       "\\item 'pattern'\n",
       "\\item 'sequence'\n",
       "\\item 'feature\\_type'\n",
       "\\item 'in\\_sample'\n",
       "\\item 'display\\_name'\n",
       "\\item 'group\\_x'\n",
       "\\item 'cell'\n",
       "\\end{enumerate*}\n"
      ],
      "text/markdown": [
       "1. 'nCount_HTO'\n",
       "2. 'B2_Scanorama_Singlet_cluster'\n",
       "3. 'B2_Scanorama_Singlet_rb_mt_cluster'\n",
       "4. 'cell_type_Scanorama'\n",
       "5. 'cluster_cell_type_Scanorama'\n",
       "6. 'classification_measurement'\n",
       "7. 'delta_ef_value_group_measurement'\n",
       "8. 'm_y'\n",
       "9. 'measurement_y'\n",
       "10. 'delta_ef_value_group'\n",
       "11. 'delta_ef_value'\n",
       "12. 'sample_y'\n",
       "13. 'age'\n",
       "14. 'sex'\n",
       "15. 'm_x'\n",
       "16. 'classification'\n",
       "17. 'group_y'\n",
       "18. 'measurement_x'\n",
       "19. 'sample_x'\n",
       "20. 'library'\n",
       "21. 'id'\n",
       "22. 'read'\n",
       "23. 'pattern'\n",
       "24. 'sequence'\n",
       "25. 'feature_type'\n",
       "26. 'in_sample'\n",
       "27. 'display_name'\n",
       "28. 'group_x'\n",
       "29. 'cell'\n",
       "\n",
       "\n"
      ],
      "text/plain": [
       " [1] \"nCount_HTO\"                         \"B2_Scanorama_Singlet_cluster\"      \n",
       " [3] \"B2_Scanorama_Singlet_rb_mt_cluster\" \"cell_type_Scanorama\"               \n",
       " [5] \"cluster_cell_type_Scanorama\"        \"classification_measurement\"        \n",
       " [7] \"delta_ef_value_group_measurement\"   \"m_y\"                               \n",
       " [9] \"measurement_y\"                      \"delta_ef_value_group\"              \n",
       "[11] \"delta_ef_value\"                     \"sample_y\"                          \n",
       "[13] \"age\"                                \"sex\"                               \n",
       "[15] \"m_x\"                                \"classification\"                    \n",
       "[17] \"group_y\"                            \"measurement_x\"                     \n",
       "[19] \"sample_x\"                           \"library\"                           \n",
       "[21] \"id\"                                 \"read\"                              \n",
       "[23] \"pattern\"                            \"sequence\"                          \n",
       "[25] \"feature_type\"                       \"in_sample\"                         \n",
       "[27] \"display_name\"                       \"group_x\"                           \n",
       "[29] \"cell\"                              "
      ]
     },
     "metadata": {},
     "output_type": "display_data"
    }
   ],
   "source": [
    "colnames(obs)"
   ]
  },
  {
   "cell_type": "code",
   "execution_count": 182,
   "id": "ff74e4a4-5816-4041-925e-926cf27360a5",
   "metadata": {},
   "outputs": [],
   "source": [
    "obs$library = as.character(obs$library)"
   ]
  },
  {
   "cell_type": "code",
   "execution_count": 183,
   "id": "dd4e815c-dad0-4f86-bfec-08300320ee1d",
   "metadata": {},
   "outputs": [],
   "source": [
    "obs$group_id = as.character(obs[['in_sample']]) ## group-id neede in DE analysis, here not --> DUMMY Variable"
   ]
  },
  {
   "cell_type": "code",
   "execution_count": 184,
   "id": "6939c9b3-2f49-417b-9e58-7b3457f732fb",
   "metadata": {},
   "outputs": [],
   "source": [
    "obs$sample_id   = paste0(as.character(obs[[sample_column]] ), '-', obs$library)"
   ]
  },
  {
   "cell_type": "code",
   "execution_count": 185,
   "id": "173f096b-1f48-47b4-acb6-440a640e1f32",
   "metadata": {},
   "outputs": [],
   "source": [
    "## add azimuth annotation\n"
   ]
  },
  {
   "cell_type": "code",
   "execution_count": 186,
   "id": "a07d2c97-0ead-458d-9a97-0cb3d45c747d",
   "metadata": {},
   "outputs": [
    {
     "data": {
      "text/html": [
       "<table class=\"dataframe\">\n",
       "<caption>A data.frame: 2 × 8</caption>\n",
       "<thead>\n",
       "\t<tr><th></th><th scope=col>X</th><th scope=col>nCount_RNA</th><th scope=col>nFeature_RNA</th><th scope=col>predicted.celltype.l2</th><th scope=col>predicted.celltype.l2.score</th><th scope=col>library</th><th scope=col>cell</th><th scope=col>cell_library</th></tr>\n",
       "\t<tr><th></th><th scope=col>&lt;chr&gt;</th><th scope=col>&lt;int&gt;</th><th scope=col>&lt;int&gt;</th><th scope=col>&lt;chr&gt;</th><th scope=col>&lt;dbl&gt;</th><th scope=col>&lt;chr&gt;</th><th scope=col>&lt;chr&gt;</th><th scope=col>&lt;chr&gt;</th></tr>\n",
       "</thead>\n",
       "<tbody>\n",
       "\t<tr><th scope=row>1</th><td>AAACCCACATACAGGG-1</td><td>3947</td><td>1232</td><td>B cell   </td><td>0.9668187</td><td>L1</td><td>AAACCCACATACAGGG-1</td><td>AAACCCACATACAGGG-1-L1</td></tr>\n",
       "\t<tr><th scope=row>2</th><td>AAACCCACATGACTTG-1</td><td>5871</td><td>1890</td><td>CD16 Mono</td><td>1.0000000</td><td>L1</td><td>AAACCCACATGACTTG-1</td><td>AAACCCACATGACTTG-1-L1</td></tr>\n",
       "</tbody>\n",
       "</table>\n"
      ],
      "text/latex": [
       "A data.frame: 2 × 8\n",
       "\\begin{tabular}{r|llllllll}\n",
       "  & X & nCount\\_RNA & nFeature\\_RNA & predicted.celltype.l2 & predicted.celltype.l2.score & library & cell & cell\\_library\\\\\n",
       "  & <chr> & <int> & <int> & <chr> & <dbl> & <chr> & <chr> & <chr>\\\\\n",
       "\\hline\n",
       "\t1 & AAACCCACATACAGGG-1 & 3947 & 1232 & B cell    & 0.9668187 & L1 & AAACCCACATACAGGG-1 & AAACCCACATACAGGG-1-L1\\\\\n",
       "\t2 & AAACCCACATGACTTG-1 & 5871 & 1890 & CD16 Mono & 1.0000000 & L1 & AAACCCACATGACTTG-1 & AAACCCACATGACTTG-1-L1\\\\\n",
       "\\end{tabular}\n"
      ],
      "text/markdown": [
       "\n",
       "A data.frame: 2 × 8\n",
       "\n",
       "| <!--/--> | X &lt;chr&gt; | nCount_RNA &lt;int&gt; | nFeature_RNA &lt;int&gt; | predicted.celltype.l2 &lt;chr&gt; | predicted.celltype.l2.score &lt;dbl&gt; | library &lt;chr&gt; | cell &lt;chr&gt; | cell_library &lt;chr&gt; |\n",
       "|---|---|---|---|---|---|---|---|---|\n",
       "| 1 | AAACCCACATACAGGG-1 | 3947 | 1232 | B cell    | 0.9668187 | L1 | AAACCCACATACAGGG-1 | AAACCCACATACAGGG-1-L1 |\n",
       "| 2 | AAACCCACATGACTTG-1 | 5871 | 1890 | CD16 Mono | 1.0000000 | L1 | AAACCCACATGACTTG-1 | AAACCCACATGACTTG-1-L1 |\n",
       "\n"
      ],
      "text/plain": [
       "  X                  nCount_RNA nFeature_RNA predicted.celltype.l2\n",
       "1 AAACCCACATACAGGG-1 3947       1232         B cell               \n",
       "2 AAACCCACATGACTTG-1 5871       1890         CD16 Mono            \n",
       "  predicted.celltype.l2.score library cell               cell_library         \n",
       "1 0.9668187                   L1      AAACCCACATACAGGG-1 AAACCCACATACAGGG-1-L1\n",
       "2 1.0000000                   L1      AAACCCACATGACTTG-1 AAACCCACATGACTTG-1-L1"
      ]
     },
     "metadata": {},
     "output_type": "display_data"
    }
   ],
   "source": [
    "head(azimuth_annotation,2)"
   ]
  },
  {
   "cell_type": "code",
   "execution_count": 187,
   "id": "f2d66640-c52f-4872-97ea-bb3d79171869",
   "metadata": {},
   "outputs": [],
   "source": [
    "obs = merge(obs, azimuth_annotation[,c( 'predicted.celltype.l2','cell_library' )], by.x = 'cell', by.y = 'cell_library' )"
   ]
  },
  {
   "cell_type": "code",
   "execution_count": 188,
   "id": "bb559b83-a9e1-4813-9a3a-33331ca77ae7",
   "metadata": {},
   "outputs": [
    {
     "data": {
      "text/html": [
       "148275"
      ],
      "text/latex": [
       "148275"
      ],
      "text/markdown": [
       "148275"
      ],
      "text/plain": [
       "[1] 148275"
      ]
     },
     "metadata": {},
     "output_type": "display_data"
    }
   ],
   "source": [
    "nrow(obs)"
   ]
  },
  {
   "cell_type": "code",
   "execution_count": 189,
   "id": "e09b1a97-2435-4d32-9a38-54314ffa41be",
   "metadata": {},
   "outputs": [
    {
     "data": {
      "text/html": [
       "<table class=\"dataframe\">\n",
       "<caption>A data.frame: 2 × 32</caption>\n",
       "<thead>\n",
       "\t<tr><th></th><th scope=col>cell</th><th scope=col>nCount_HTO</th><th scope=col>B2_Scanorama_Singlet_cluster</th><th scope=col>B2_Scanorama_Singlet_rb_mt_cluster</th><th scope=col>cell_type_Scanorama</th><th scope=col>cluster_cell_type_Scanorama</th><th scope=col>classification_measurement</th><th scope=col>delta_ef_value_group_measurement</th><th scope=col>m_y</th><th scope=col>measurement_y</th><th scope=col>⋯</th><th scope=col>read</th><th scope=col>pattern</th><th scope=col>sequence</th><th scope=col>feature_type</th><th scope=col>in_sample</th><th scope=col>display_name</th><th scope=col>group_x</th><th scope=col>group_id</th><th scope=col>sample_id</th><th scope=col>predicted.celltype.l2</th></tr>\n",
       "\t<tr><th></th><th scope=col>&lt;chr&gt;</th><th scope=col>&lt;dbl&gt;</th><th scope=col>&lt;fct&gt;</th><th scope=col>&lt;fct&gt;</th><th scope=col>&lt;fct&gt;</th><th scope=col>&lt;fct&gt;</th><th scope=col>&lt;fct&gt;</th><th scope=col>&lt;fct&gt;</th><th scope=col>&lt;fct&gt;</th><th scope=col>&lt;fct&gt;</th><th scope=col>⋯</th><th scope=col>&lt;fct&gt;</th><th scope=col>&lt;fct&gt;</th><th scope=col>&lt;fct&gt;</th><th scope=col>&lt;fct&gt;</th><th scope=col>&lt;dbl&gt;</th><th scope=col>&lt;fct&gt;</th><th scope=col>&lt;fct&gt;</th><th scope=col>&lt;chr&gt;</th><th scope=col>&lt;chr&gt;</th><th scope=col>&lt;chr&gt;</th></tr>\n",
       "</thead>\n",
       "<tbody>\n",
       "\t<tr><th scope=row>1</th><td>AAACCCAAGAAGGGAT-1-L10</td><td> 261</td><td>2</td><td>2</td><td>T-cell-CD4</td><td>2_T-cell-CD4</td><td>acs_w_o_infection_TP4</td><td>x_smaller_0_TP4</td><td>M3 (-0,06)</td><td>TP4</td><td>⋯</td><td>R2</td><td>5PNNNNNNNNNN(BC)</td><td>TGATGGCCTATTGGG</td><td>Antibody Capture</td><td>1</td><td>3.4</td><td>TP4</td><td>1</td><td>3.4-L10</td><td>CD4 TCM</td></tr>\n",
       "\t<tr><th scope=row>2</th><td>AAACCCAAGACAGCGT-1-L4 </td><td>1410</td><td>3</td><td>3</td><td>NK        </td><td>3_NK        </td><td>acs_w_o_infection_TP2</td><td>x_greater_1_TP2</td><td>M2 (1,15) </td><td>TP2</td><td>⋯</td><td>R2</td><td>5PNNNNNNNNNN(BC)</td><td>TGATGGCCTATTGGG</td><td>Antibody Capture</td><td>1</td><td>2.2</td><td>TP2</td><td>1</td><td>2.2-L4 </td><td>NK     </td></tr>\n",
       "</tbody>\n",
       "</table>\n"
      ],
      "text/latex": [
       "A data.frame: 2 × 32\n",
       "\\begin{tabular}{r|lllllllllllllllllllll}\n",
       "  & cell & nCount\\_HTO & B2\\_Scanorama\\_Singlet\\_cluster & B2\\_Scanorama\\_Singlet\\_rb\\_mt\\_cluster & cell\\_type\\_Scanorama & cluster\\_cell\\_type\\_Scanorama & classification\\_measurement & delta\\_ef\\_value\\_group\\_measurement & m\\_y & measurement\\_y & ⋯ & read & pattern & sequence & feature\\_type & in\\_sample & display\\_name & group\\_x & group\\_id & sample\\_id & predicted.celltype.l2\\\\\n",
       "  & <chr> & <dbl> & <fct> & <fct> & <fct> & <fct> & <fct> & <fct> & <fct> & <fct> & ⋯ & <fct> & <fct> & <fct> & <fct> & <dbl> & <fct> & <fct> & <chr> & <chr> & <chr>\\\\\n",
       "\\hline\n",
       "\t1 & AAACCCAAGAAGGGAT-1-L10 &  261 & 2 & 2 & T-cell-CD4 & 2\\_T-cell-CD4 & acs\\_w\\_o\\_infection\\_TP4 & x\\_smaller\\_0\\_TP4 & M3 (-0,06) & TP4 & ⋯ & R2 & 5PNNNNNNNNNN(BC) & TGATGGCCTATTGGG & Antibody Capture & 1 & 3.4 & TP4 & 1 & 3.4-L10 & CD4 TCM\\\\\n",
       "\t2 & AAACCCAAGACAGCGT-1-L4  & 1410 & 3 & 3 & NK         & 3\\_NK         & acs\\_w\\_o\\_infection\\_TP2 & x\\_greater\\_1\\_TP2 & M2 (1,15)  & TP2 & ⋯ & R2 & 5PNNNNNNNNNN(BC) & TGATGGCCTATTGGG & Antibody Capture & 1 & 2.2 & TP2 & 1 & 2.2-L4  & NK     \\\\\n",
       "\\end{tabular}\n"
      ],
      "text/markdown": [
       "\n",
       "A data.frame: 2 × 32\n",
       "\n",
       "| <!--/--> | cell &lt;chr&gt; | nCount_HTO &lt;dbl&gt; | B2_Scanorama_Singlet_cluster &lt;fct&gt; | B2_Scanorama_Singlet_rb_mt_cluster &lt;fct&gt; | cell_type_Scanorama &lt;fct&gt; | cluster_cell_type_Scanorama &lt;fct&gt; | classification_measurement &lt;fct&gt; | delta_ef_value_group_measurement &lt;fct&gt; | m_y &lt;fct&gt; | measurement_y &lt;fct&gt; | ⋯ ⋯ | read &lt;fct&gt; | pattern &lt;fct&gt; | sequence &lt;fct&gt; | feature_type &lt;fct&gt; | in_sample &lt;dbl&gt; | display_name &lt;fct&gt; | group_x &lt;fct&gt; | group_id &lt;chr&gt; | sample_id &lt;chr&gt; | predicted.celltype.l2 &lt;chr&gt; |\n",
       "|---|---|---|---|---|---|---|---|---|---|---|---|---|---|---|---|---|---|---|---|---|---|\n",
       "| 1 | AAACCCAAGAAGGGAT-1-L10 |  261 | 2 | 2 | T-cell-CD4 | 2_T-cell-CD4 | acs_w_o_infection_TP4 | x_smaller_0_TP4 | M3 (-0,06) | TP4 | ⋯ | R2 | 5PNNNNNNNNNN(BC) | TGATGGCCTATTGGG | Antibody Capture | 1 | 3.4 | TP4 | 1 | 3.4-L10 | CD4 TCM |\n",
       "| 2 | AAACCCAAGACAGCGT-1-L4  | 1410 | 3 | 3 | NK         | 3_NK         | acs_w_o_infection_TP2 | x_greater_1_TP2 | M2 (1,15)  | TP2 | ⋯ | R2 | 5PNNNNNNNNNN(BC) | TGATGGCCTATTGGG | Antibody Capture | 1 | 2.2 | TP2 | 1 | 2.2-L4  | NK      |\n",
       "\n"
      ],
      "text/plain": [
       "  cell                   nCount_HTO B2_Scanorama_Singlet_cluster\n",
       "1 AAACCCAAGAAGGGAT-1-L10  261       2                           \n",
       "2 AAACCCAAGACAGCGT-1-L4  1410       3                           \n",
       "  B2_Scanorama_Singlet_rb_mt_cluster cell_type_Scanorama\n",
       "1 2                                  T-cell-CD4         \n",
       "2 3                                  NK                 \n",
       "  cluster_cell_type_Scanorama classification_measurement\n",
       "1 2_T-cell-CD4                acs_w_o_infection_TP4     \n",
       "2 3_NK                        acs_w_o_infection_TP2     \n",
       "  delta_ef_value_group_measurement m_y        measurement_y ⋯ read\n",
       "1 x_smaller_0_TP4                  M3 (-0,06) TP4           ⋯ R2  \n",
       "2 x_greater_1_TP2                  M2 (1,15)  TP2           ⋯ R2  \n",
       "  pattern          sequence        feature_type     in_sample display_name\n",
       "1 5PNNNNNNNNNN(BC) TGATGGCCTATTGGG Antibody Capture 1         3.4         \n",
       "2 5PNNNNNNNNNN(BC) TGATGGCCTATTGGG Antibody Capture 1         2.2         \n",
       "  group_x group_id sample_id predicted.celltype.l2\n",
       "1 TP4     1        3.4-L10   CD4 TCM              \n",
       "2 TP2     1        2.2-L4    NK                   "
      ]
     },
     "metadata": {},
     "output_type": "display_data"
    }
   ],
   "source": [
    "head(obs,2)"
   ]
  },
  {
   "cell_type": "code",
   "execution_count": null,
   "id": "26dd59d0-6244-4985-a6dc-5f8d26822e7c",
   "metadata": {},
   "outputs": [],
   "source": []
  },
  {
   "cell_type": "code",
   "execution_count": 190,
   "id": "32a766df-f734-418a-8026-2a6d513b0469",
   "metadata": {},
   "outputs": [],
   "source": [
    "obs$cluster_id = as.character(obs[[cluster_column]])"
   ]
  },
  {
   "cell_type": "code",
   "execution_count": 191,
   "id": "1a1ce0fd-4354-4414-a1e2-b0133925d30e",
   "metadata": {},
   "outputs": [],
   "source": [
    "rownames(obs) = obs$cell"
   ]
  },
  {
   "cell_type": "code",
   "execution_count": 193,
   "id": "4f709d97-249f-430b-b909-53bbe2effa10",
   "metadata": {},
   "outputs": [
    {
     "data": {
      "text/html": [
       "<style>\n",
       ".list-inline {list-style: none; margin:0; padding: 0}\n",
       ".list-inline>li {display: inline-block}\n",
       ".list-inline>li:not(:last-child)::after {content: \"\\00b7\"; padding: 0 .5ex}\n",
       "</style>\n",
       "<ol class=list-inline><li>'CD4 TCM'</li><li>'NK'</li><li>'CD14 Mono'</li><li>'B cell'</li><li>'MAIT'</li><li>'CD8 TEM'</li><li>'NK_CD56bright'</li><li>'ILC'</li><li>'CD4 Naive'</li><li>'CD4 CTL'</li><li>'CD16 Mono'</li><li>'cDC2'</li><li>'cDC1'</li><li>'CD4 TEM'</li><li>'Treg'</li><li>'CD8 Naive'</li><li>'gdT'</li><li>'Plasmablast'</li><li>'Platelet'</li><li>'CD8 TCM'</li><li>'HSPC'</li><li>'pDC'</li><li>'dnT'</li><li>'NK Proliferating'</li><li>'Doublet'</li><li>'CD4 Proliferating'</li><li>'Eryth'</li><li>'ASDC'</li><li>'CD8 Proliferating'</li></ol>\n"
      ],
      "text/latex": [
       "\\begin{enumerate*}\n",
       "\\item 'CD4 TCM'\n",
       "\\item 'NK'\n",
       "\\item 'CD14 Mono'\n",
       "\\item 'B cell'\n",
       "\\item 'MAIT'\n",
       "\\item 'CD8 TEM'\n",
       "\\item 'NK\\_CD56bright'\n",
       "\\item 'ILC'\n",
       "\\item 'CD4 Naive'\n",
       "\\item 'CD4 CTL'\n",
       "\\item 'CD16 Mono'\n",
       "\\item 'cDC2'\n",
       "\\item 'cDC1'\n",
       "\\item 'CD4 TEM'\n",
       "\\item 'Treg'\n",
       "\\item 'CD8 Naive'\n",
       "\\item 'gdT'\n",
       "\\item 'Plasmablast'\n",
       "\\item 'Platelet'\n",
       "\\item 'CD8 TCM'\n",
       "\\item 'HSPC'\n",
       "\\item 'pDC'\n",
       "\\item 'dnT'\n",
       "\\item 'NK Proliferating'\n",
       "\\item 'Doublet'\n",
       "\\item 'CD4 Proliferating'\n",
       "\\item 'Eryth'\n",
       "\\item 'ASDC'\n",
       "\\item 'CD8 Proliferating'\n",
       "\\end{enumerate*}\n"
      ],
      "text/markdown": [
       "1. 'CD4 TCM'\n",
       "2. 'NK'\n",
       "3. 'CD14 Mono'\n",
       "4. 'B cell'\n",
       "5. 'MAIT'\n",
       "6. 'CD8 TEM'\n",
       "7. 'NK_CD56bright'\n",
       "8. 'ILC'\n",
       "9. 'CD4 Naive'\n",
       "10. 'CD4 CTL'\n",
       "11. 'CD16 Mono'\n",
       "12. 'cDC2'\n",
       "13. 'cDC1'\n",
       "14. 'CD4 TEM'\n",
       "15. 'Treg'\n",
       "16. 'CD8 Naive'\n",
       "17. 'gdT'\n",
       "18. 'Plasmablast'\n",
       "19. 'Platelet'\n",
       "20. 'CD8 TCM'\n",
       "21. 'HSPC'\n",
       "22. 'pDC'\n",
       "23. 'dnT'\n",
       "24. 'NK Proliferating'\n",
       "25. 'Doublet'\n",
       "26. 'CD4 Proliferating'\n",
       "27. 'Eryth'\n",
       "28. 'ASDC'\n",
       "29. 'CD8 Proliferating'\n",
       "\n",
       "\n"
      ],
      "text/plain": [
       " [1] \"CD4 TCM\"           \"NK\"                \"CD14 Mono\"        \n",
       " [4] \"B cell\"            \"MAIT\"              \"CD8 TEM\"          \n",
       " [7] \"NK_CD56bright\"     \"ILC\"               \"CD4 Naive\"        \n",
       "[10] \"CD4 CTL\"           \"CD16 Mono\"         \"cDC2\"             \n",
       "[13] \"cDC1\"              \"CD4 TEM\"           \"Treg\"             \n",
       "[16] \"CD8 Naive\"         \"gdT\"               \"Plasmablast\"      \n",
       "[19] \"Platelet\"          \"CD8 TCM\"           \"HSPC\"             \n",
       "[22] \"pDC\"               \"dnT\"               \"NK Proliferating\" \n",
       "[25] \"Doublet\"           \"CD4 Proliferating\" \"Eryth\"            \n",
       "[28] \"ASDC\"              \"CD8 Proliferating\""
      ]
     },
     "metadata": {},
     "output_type": "display_data"
    }
   ],
   "source": [
    "unique(obs$predicted.celltype.l2)"
   ]
  },
  {
   "cell_type": "code",
   "execution_count": 194,
   "id": "8705f4f1-311d-4e53-a786-7f6c9aa083ec",
   "metadata": {},
   "outputs": [
    {
     "data": {
      "text/html": [
       "<table class=\"dataframe\">\n",
       "<caption>A data.frame: 2 × 33</caption>\n",
       "<thead>\n",
       "\t<tr><th></th><th scope=col>cell</th><th scope=col>nCount_HTO</th><th scope=col>B2_Scanorama_Singlet_cluster</th><th scope=col>B2_Scanorama_Singlet_rb_mt_cluster</th><th scope=col>cell_type_Scanorama</th><th scope=col>cluster_cell_type_Scanorama</th><th scope=col>classification_measurement</th><th scope=col>delta_ef_value_group_measurement</th><th scope=col>m_y</th><th scope=col>measurement_y</th><th scope=col>⋯</th><th scope=col>pattern</th><th scope=col>sequence</th><th scope=col>feature_type</th><th scope=col>in_sample</th><th scope=col>display_name</th><th scope=col>group_x</th><th scope=col>group_id</th><th scope=col>sample_id</th><th scope=col>predicted.celltype.l2</th><th scope=col>cluster_id</th></tr>\n",
       "\t<tr><th></th><th scope=col>&lt;chr&gt;</th><th scope=col>&lt;dbl&gt;</th><th scope=col>&lt;fct&gt;</th><th scope=col>&lt;fct&gt;</th><th scope=col>&lt;fct&gt;</th><th scope=col>&lt;fct&gt;</th><th scope=col>&lt;fct&gt;</th><th scope=col>&lt;fct&gt;</th><th scope=col>&lt;fct&gt;</th><th scope=col>&lt;fct&gt;</th><th scope=col>⋯</th><th scope=col>&lt;fct&gt;</th><th scope=col>&lt;fct&gt;</th><th scope=col>&lt;fct&gt;</th><th scope=col>&lt;dbl&gt;</th><th scope=col>&lt;fct&gt;</th><th scope=col>&lt;fct&gt;</th><th scope=col>&lt;chr&gt;</th><th scope=col>&lt;chr&gt;</th><th scope=col>&lt;chr&gt;</th><th scope=col>&lt;chr&gt;</th></tr>\n",
       "</thead>\n",
       "<tbody>\n",
       "\t<tr><th scope=row>AAACCCAAGAAGGGAT-1-L10</th><td>AAACCCAAGAAGGGAT-1-L10</td><td> 261</td><td>2</td><td>2</td><td>T-cell-CD4</td><td>2_T-cell-CD4</td><td>acs_w_o_infection_TP4</td><td>x_smaller_0_TP4</td><td>M3 (-0,06)</td><td>TP4</td><td>⋯</td><td>5PNNNNNNNNNN(BC)</td><td>TGATGGCCTATTGGG</td><td>Antibody Capture</td><td>1</td><td>3.4</td><td>TP4</td><td>1</td><td>3.4-L10</td><td>CD4 TCM</td><td>CD4 TCM</td></tr>\n",
       "\t<tr><th scope=row>AAACCCAAGACAGCGT-1-L4</th><td>AAACCCAAGACAGCGT-1-L4 </td><td>1410</td><td>3</td><td>3</td><td>NK        </td><td>3_NK        </td><td>acs_w_o_infection_TP2</td><td>x_greater_1_TP2</td><td>M2 (1,15) </td><td>TP2</td><td>⋯</td><td>5PNNNNNNNNNN(BC)</td><td>TGATGGCCTATTGGG</td><td>Antibody Capture</td><td>1</td><td>2.2</td><td>TP2</td><td>1</td><td>2.2-L4 </td><td>NK     </td><td>NK     </td></tr>\n",
       "</tbody>\n",
       "</table>\n"
      ],
      "text/latex": [
       "A data.frame: 2 × 33\n",
       "\\begin{tabular}{r|lllllllllllllllllllll}\n",
       "  & cell & nCount\\_HTO & B2\\_Scanorama\\_Singlet\\_cluster & B2\\_Scanorama\\_Singlet\\_rb\\_mt\\_cluster & cell\\_type\\_Scanorama & cluster\\_cell\\_type\\_Scanorama & classification\\_measurement & delta\\_ef\\_value\\_group\\_measurement & m\\_y & measurement\\_y & ⋯ & pattern & sequence & feature\\_type & in\\_sample & display\\_name & group\\_x & group\\_id & sample\\_id & predicted.celltype.l2 & cluster\\_id\\\\\n",
       "  & <chr> & <dbl> & <fct> & <fct> & <fct> & <fct> & <fct> & <fct> & <fct> & <fct> & ⋯ & <fct> & <fct> & <fct> & <dbl> & <fct> & <fct> & <chr> & <chr> & <chr> & <chr>\\\\\n",
       "\\hline\n",
       "\tAAACCCAAGAAGGGAT-1-L10 & AAACCCAAGAAGGGAT-1-L10 &  261 & 2 & 2 & T-cell-CD4 & 2\\_T-cell-CD4 & acs\\_w\\_o\\_infection\\_TP4 & x\\_smaller\\_0\\_TP4 & M3 (-0,06) & TP4 & ⋯ & 5PNNNNNNNNNN(BC) & TGATGGCCTATTGGG & Antibody Capture & 1 & 3.4 & TP4 & 1 & 3.4-L10 & CD4 TCM & CD4 TCM\\\\\n",
       "\tAAACCCAAGACAGCGT-1-L4 & AAACCCAAGACAGCGT-1-L4  & 1410 & 3 & 3 & NK         & 3\\_NK         & acs\\_w\\_o\\_infection\\_TP2 & x\\_greater\\_1\\_TP2 & M2 (1,15)  & TP2 & ⋯ & 5PNNNNNNNNNN(BC) & TGATGGCCTATTGGG & Antibody Capture & 1 & 2.2 & TP2 & 1 & 2.2-L4  & NK      & NK     \\\\\n",
       "\\end{tabular}\n"
      ],
      "text/markdown": [
       "\n",
       "A data.frame: 2 × 33\n",
       "\n",
       "| <!--/--> | cell &lt;chr&gt; | nCount_HTO &lt;dbl&gt; | B2_Scanorama_Singlet_cluster &lt;fct&gt; | B2_Scanorama_Singlet_rb_mt_cluster &lt;fct&gt; | cell_type_Scanorama &lt;fct&gt; | cluster_cell_type_Scanorama &lt;fct&gt; | classification_measurement &lt;fct&gt; | delta_ef_value_group_measurement &lt;fct&gt; | m_y &lt;fct&gt; | measurement_y &lt;fct&gt; | ⋯ ⋯ | pattern &lt;fct&gt; | sequence &lt;fct&gt; | feature_type &lt;fct&gt; | in_sample &lt;dbl&gt; | display_name &lt;fct&gt; | group_x &lt;fct&gt; | group_id &lt;chr&gt; | sample_id &lt;chr&gt; | predicted.celltype.l2 &lt;chr&gt; | cluster_id &lt;chr&gt; |\n",
       "|---|---|---|---|---|---|---|---|---|---|---|---|---|---|---|---|---|---|---|---|---|---|\n",
       "| AAACCCAAGAAGGGAT-1-L10 | AAACCCAAGAAGGGAT-1-L10 |  261 | 2 | 2 | T-cell-CD4 | 2_T-cell-CD4 | acs_w_o_infection_TP4 | x_smaller_0_TP4 | M3 (-0,06) | TP4 | ⋯ | 5PNNNNNNNNNN(BC) | TGATGGCCTATTGGG | Antibody Capture | 1 | 3.4 | TP4 | 1 | 3.4-L10 | CD4 TCM | CD4 TCM |\n",
       "| AAACCCAAGACAGCGT-1-L4 | AAACCCAAGACAGCGT-1-L4  | 1410 | 3 | 3 | NK         | 3_NK         | acs_w_o_infection_TP2 | x_greater_1_TP2 | M2 (1,15)  | TP2 | ⋯ | 5PNNNNNNNNNN(BC) | TGATGGCCTATTGGG | Antibody Capture | 1 | 2.2 | TP2 | 1 | 2.2-L4  | NK      | NK      |\n",
       "\n"
      ],
      "text/plain": [
       "                       cell                   nCount_HTO\n",
       "AAACCCAAGAAGGGAT-1-L10 AAACCCAAGAAGGGAT-1-L10  261      \n",
       "AAACCCAAGACAGCGT-1-L4  AAACCCAAGACAGCGT-1-L4  1410      \n",
       "                       B2_Scanorama_Singlet_cluster\n",
       "AAACCCAAGAAGGGAT-1-L10 2                           \n",
       "AAACCCAAGACAGCGT-1-L4  3                           \n",
       "                       B2_Scanorama_Singlet_rb_mt_cluster cell_type_Scanorama\n",
       "AAACCCAAGAAGGGAT-1-L10 2                                  T-cell-CD4         \n",
       "AAACCCAAGACAGCGT-1-L4  3                                  NK                 \n",
       "                       cluster_cell_type_Scanorama classification_measurement\n",
       "AAACCCAAGAAGGGAT-1-L10 2_T-cell-CD4                acs_w_o_infection_TP4     \n",
       "AAACCCAAGACAGCGT-1-L4  3_NK                        acs_w_o_infection_TP2     \n",
       "                       delta_ef_value_group_measurement m_y       \n",
       "AAACCCAAGAAGGGAT-1-L10 x_smaller_0_TP4                  M3 (-0,06)\n",
       "AAACCCAAGACAGCGT-1-L4  x_greater_1_TP2                  M2 (1,15) \n",
       "                       measurement_y ⋯ pattern          sequence       \n",
       "AAACCCAAGAAGGGAT-1-L10 TP4           ⋯ 5PNNNNNNNNNN(BC) TGATGGCCTATTGGG\n",
       "AAACCCAAGACAGCGT-1-L4  TP2           ⋯ 5PNNNNNNNNNN(BC) TGATGGCCTATTGGG\n",
       "                       feature_type     in_sample display_name group_x group_id\n",
       "AAACCCAAGAAGGGAT-1-L10 Antibody Capture 1         3.4          TP4     1       \n",
       "AAACCCAAGACAGCGT-1-L4  Antibody Capture 1         2.2          TP2     1       \n",
       "                       sample_id predicted.celltype.l2 cluster_id\n",
       "AAACCCAAGAAGGGAT-1-L10 3.4-L10   CD4 TCM               CD4 TCM   \n",
       "AAACCCAAGACAGCGT-1-L4  2.2-L4    NK                    NK        "
      ]
     },
     "metadata": {},
     "output_type": "display_data"
    }
   ],
   "source": [
    "head(obs,2)"
   ]
  },
  {
   "cell_type": "code",
   "execution_count": 195,
   "id": "400c2a2a-b75a-4810-b9be-f9a33c4f345f",
   "metadata": {},
   "outputs": [
    {
     "data": {
      "text/html": [
       "<style>\n",
       ".list-inline {list-style: none; margin:0; padding: 0}\n",
       ".list-inline>li {display: inline-block}\n",
       ".list-inline>li:not(:last-child)::after {content: \"\\00b7\"; padding: 0 .5ex}\n",
       "</style>\n",
       "<ol class=list-inline><li>'cell'</li><li>'nCount_HTO'</li><li>'B2_Scanorama_Singlet_cluster'</li><li>'B2_Scanorama_Singlet_rb_mt_cluster'</li><li>'cell_type_Scanorama'</li><li>'cluster_cell_type_Scanorama'</li><li>'classification_measurement'</li><li>'delta_ef_value_group_measurement'</li><li>'m_y'</li><li>'measurement_y'</li><li>'delta_ef_value_group'</li><li>'delta_ef_value'</li><li>'sample_y'</li><li>'age'</li><li>'sex'</li><li>'m_x'</li><li>'classification'</li><li>'group_y'</li><li>'measurement_x'</li><li>'sample_x'</li><li>'library'</li><li>'id'</li><li>'read'</li><li>'pattern'</li><li>'sequence'</li><li>'feature_type'</li><li>'in_sample'</li><li>'display_name'</li><li>'group_x'</li><li>'group_id'</li><li>'sample_id'</li><li>'predicted.celltype.l2'</li><li>'cluster_id'</li></ol>\n"
      ],
      "text/latex": [
       "\\begin{enumerate*}\n",
       "\\item 'cell'\n",
       "\\item 'nCount\\_HTO'\n",
       "\\item 'B2\\_Scanorama\\_Singlet\\_cluster'\n",
       "\\item 'B2\\_Scanorama\\_Singlet\\_rb\\_mt\\_cluster'\n",
       "\\item 'cell\\_type\\_Scanorama'\n",
       "\\item 'cluster\\_cell\\_type\\_Scanorama'\n",
       "\\item 'classification\\_measurement'\n",
       "\\item 'delta\\_ef\\_value\\_group\\_measurement'\n",
       "\\item 'm\\_y'\n",
       "\\item 'measurement\\_y'\n",
       "\\item 'delta\\_ef\\_value\\_group'\n",
       "\\item 'delta\\_ef\\_value'\n",
       "\\item 'sample\\_y'\n",
       "\\item 'age'\n",
       "\\item 'sex'\n",
       "\\item 'm\\_x'\n",
       "\\item 'classification'\n",
       "\\item 'group\\_y'\n",
       "\\item 'measurement\\_x'\n",
       "\\item 'sample\\_x'\n",
       "\\item 'library'\n",
       "\\item 'id'\n",
       "\\item 'read'\n",
       "\\item 'pattern'\n",
       "\\item 'sequence'\n",
       "\\item 'feature\\_type'\n",
       "\\item 'in\\_sample'\n",
       "\\item 'display\\_name'\n",
       "\\item 'group\\_x'\n",
       "\\item 'group\\_id'\n",
       "\\item 'sample\\_id'\n",
       "\\item 'predicted.celltype.l2'\n",
       "\\item 'cluster\\_id'\n",
       "\\end{enumerate*}\n"
      ],
      "text/markdown": [
       "1. 'cell'\n",
       "2. 'nCount_HTO'\n",
       "3. 'B2_Scanorama_Singlet_cluster'\n",
       "4. 'B2_Scanorama_Singlet_rb_mt_cluster'\n",
       "5. 'cell_type_Scanorama'\n",
       "6. 'cluster_cell_type_Scanorama'\n",
       "7. 'classification_measurement'\n",
       "8. 'delta_ef_value_group_measurement'\n",
       "9. 'm_y'\n",
       "10. 'measurement_y'\n",
       "11. 'delta_ef_value_group'\n",
       "12. 'delta_ef_value'\n",
       "13. 'sample_y'\n",
       "14. 'age'\n",
       "15. 'sex'\n",
       "16. 'm_x'\n",
       "17. 'classification'\n",
       "18. 'group_y'\n",
       "19. 'measurement_x'\n",
       "20. 'sample_x'\n",
       "21. 'library'\n",
       "22. 'id'\n",
       "23. 'read'\n",
       "24. 'pattern'\n",
       "25. 'sequence'\n",
       "26. 'feature_type'\n",
       "27. 'in_sample'\n",
       "28. 'display_name'\n",
       "29. 'group_x'\n",
       "30. 'group_id'\n",
       "31. 'sample_id'\n",
       "32. 'predicted.celltype.l2'\n",
       "33. 'cluster_id'\n",
       "\n",
       "\n"
      ],
      "text/plain": [
       " [1] \"cell\"                               \"nCount_HTO\"                        \n",
       " [3] \"B2_Scanorama_Singlet_cluster\"       \"B2_Scanorama_Singlet_rb_mt_cluster\"\n",
       " [5] \"cell_type_Scanorama\"                \"cluster_cell_type_Scanorama\"       \n",
       " [7] \"classification_measurement\"         \"delta_ef_value_group_measurement\"  \n",
       " [9] \"m_y\"                                \"measurement_y\"                     \n",
       "[11] \"delta_ef_value_group\"               \"delta_ef_value\"                    \n",
       "[13] \"sample_y\"                           \"age\"                               \n",
       "[15] \"sex\"                                \"m_x\"                               \n",
       "[17] \"classification\"                     \"group_y\"                           \n",
       "[19] \"measurement_x\"                      \"sample_x\"                          \n",
       "[21] \"library\"                            \"id\"                                \n",
       "[23] \"read\"                               \"pattern\"                           \n",
       "[25] \"sequence\"                           \"feature_type\"                      \n",
       "[27] \"in_sample\"                          \"display_name\"                      \n",
       "[29] \"group_x\"                            \"group_id\"                          \n",
       "[31] \"sample_id\"                          \"predicted.celltype.l2\"             \n",
       "[33] \"cluster_id\"                        "
      ]
     },
     "metadata": {},
     "output_type": "display_data"
    }
   ],
   "source": [
    "colnames(obs)"
   ]
  },
  {
   "cell_type": "code",
   "execution_count": 196,
   "id": "e36950ab-6692-460d-8a46-6e77ac22e43a",
   "metadata": {},
   "outputs": [],
   "source": [
    "## Adding"
   ]
  },
  {
   "cell_type": "code",
   "execution_count": 197,
   "id": "9e94fe68-254b-4f67-84c6-28ee90578ee9",
   "metadata": {},
   "outputs": [],
   "source": [
    "# obs[,'library', drop = FALSE]"
   ]
  },
  {
   "cell_type": "code",
   "execution_count": 198,
   "id": "62fee9ee-b3ad-4290-99fd-fb18627c4f6f",
   "metadata": {},
   "outputs": [],
   "source": [
    "rna_seurat_data_subset = AddMetaData(object = rna_seurat_data_subset, metadata = obs[,'library', drop = FALSE], col.name = 'library_char')"
   ]
  },
  {
   "cell_type": "code",
   "execution_count": 199,
   "id": "095a87fa-fea8-4919-8e9b-b655117b431e",
   "metadata": {},
   "outputs": [],
   "source": [
    "## group-id  ### OLD"
   ]
  },
  {
   "cell_type": "code",
   "execution_count": 200,
   "id": "9130da8d-abc7-41a6-8a4d-d2ae4af2120b",
   "metadata": {},
   "outputs": [],
   "source": [
    "rna_seurat_data_subset = AddMetaData(object = rna_seurat_data_subset, metadata = obs[,'group_id', drop = FALSE], col.name = 'group_id')"
   ]
  },
  {
   "cell_type": "code",
   "execution_count": 201,
   "id": "a3bfcc41-2d8e-463a-8073-3bca3519fb1b",
   "metadata": {},
   "outputs": [],
   "source": [
    "## cluster-id"
   ]
  },
  {
   "cell_type": "code",
   "execution_count": 202,
   "id": "6f5751ef-f741-4174-8928-fe3f260de089",
   "metadata": {},
   "outputs": [],
   "source": [
    "rna_seurat_data_subset = AddMetaData(object = rna_seurat_data_subset, metadata = obs[,'cluster_id', drop = FALSE], col.name = 'cluster_id')"
   ]
  },
  {
   "cell_type": "code",
   "execution_count": 203,
   "id": "47f34428-b3e5-404e-9db7-43423076f9a8",
   "metadata": {},
   "outputs": [],
   "source": [
    "## sample-id"
   ]
  },
  {
   "cell_type": "code",
   "execution_count": 204,
   "id": "9490fa4b-e786-4939-979a-03d3ecdca905",
   "metadata": {},
   "outputs": [],
   "source": [
    "rna_seurat_data_subset = AddMetaData(object = rna_seurat_data_subset, metadata = obs[,'sample_id', drop = FALSE], col.name = 'sample_id')"
   ]
  },
  {
   "cell_type": "code",
   "execution_count": 205,
   "id": "f7601b2b-6833-4919-a110-9b95249c8f73",
   "metadata": {},
   "outputs": [
    {
     "data": {
      "text/html": [
       "<table class=\"dataframe\">\n",
       "<caption>A data.frame: 6 × 32</caption>\n",
       "<thead>\n",
       "\t<tr><th></th><th scope=col>nCount_HTO</th><th scope=col>B2_Scanorama_Singlet_cluster</th><th scope=col>B2_Scanorama_Singlet_rb_mt_cluster</th><th scope=col>cell_type_Scanorama</th><th scope=col>cluster_cell_type_Scanorama</th><th scope=col>classification_measurement</th><th scope=col>delta_ef_value_group_measurement</th><th scope=col>m_y</th><th scope=col>measurement_y</th><th scope=col>delta_ef_value_group</th><th scope=col>⋯</th><th scope=col>pattern</th><th scope=col>sequence</th><th scope=col>feature_type</th><th scope=col>in_sample</th><th scope=col>display_name</th><th scope=col>group_x</th><th scope=col>library_char</th><th scope=col>group_id</th><th scope=col>cluster_id</th><th scope=col>sample_id</th></tr>\n",
       "\t<tr><th></th><th scope=col>&lt;dbl&gt;</th><th scope=col>&lt;fct&gt;</th><th scope=col>&lt;fct&gt;</th><th scope=col>&lt;fct&gt;</th><th scope=col>&lt;fct&gt;</th><th scope=col>&lt;fct&gt;</th><th scope=col>&lt;fct&gt;</th><th scope=col>&lt;fct&gt;</th><th scope=col>&lt;fct&gt;</th><th scope=col>&lt;fct&gt;</th><th scope=col>⋯</th><th scope=col>&lt;fct&gt;</th><th scope=col>&lt;fct&gt;</th><th scope=col>&lt;fct&gt;</th><th scope=col>&lt;dbl&gt;</th><th scope=col>&lt;fct&gt;</th><th scope=col>&lt;fct&gt;</th><th scope=col>&lt;chr&gt;</th><th scope=col>&lt;chr&gt;</th><th scope=col>&lt;chr&gt;</th><th scope=col>&lt;chr&gt;</th></tr>\n",
       "</thead>\n",
       "<tbody>\n",
       "\t<tr><th scope=row>AAACCCACATACAGGG-1-L1</th><td>1574</td><td>8 </td><td>8 </td><td>B-cell                 </td><td>8_B-cell                 </td><td>acs_w_o_infection_TP1</td><td>x_greater_1_TP1</td><td>M9 (14,3) </td><td>TP1    </td><td>x_greater_1</td><td>⋯</td><td>5PNNNNNNNNNN(BC)</td><td>CAGTAGTCACGGTCA</td><td>Antibody Capture</td><td>1</td><td>9.1</td><td>TP1</td><td>L1</td><td>1</td><td>B cell     </td><td>9.1-L1</td></tr>\n",
       "\t<tr><th scope=row>AAACCCACATGACTTG-1-L1</th><td> 379</td><td>9 </td><td>9 </td><td>Monocytes - CD16_FCGR3A</td><td>9_Monocytes - CD16_FCGR3A</td><td>acs_w_o_infection_TP1</td><td>x_greater_1_TP1</td><td>M9 (14,3) </td><td>TP1    </td><td>x_greater_1</td><td>⋯</td><td>5PNNNNNNNNNN(BC)</td><td>CAGTAGTCACGGTCA</td><td>Antibody Capture</td><td>1</td><td>9.1</td><td>TP1</td><td>L1</td><td>1</td><td>CD16 Mono  </td><td>9.1-L1</td></tr>\n",
       "\t<tr><th scope=row>AAACCCAGTCATCAGT-1-L1</th><td> 421</td><td>5 </td><td>5 </td><td>T-cell-CD4             </td><td>5_T-cell-CD4             </td><td>acs_w_o_infection_TP1</td><td>x_smaller_1_TP1</td><td>M7 (0,75) </td><td>TP1    </td><td>x_smaller_1</td><td>⋯</td><td>5PNNNNNNNNNN(BC)</td><td>TGTCTTTCCTGCCAG</td><td>Antibody Capture</td><td>1</td><td>7.1</td><td>TP1</td><td>L1</td><td>1</td><td>CD4 TCM    </td><td>7.1-L1</td></tr>\n",
       "\t<tr><th scope=row>AAACCCAGTGGTAATA-1-L1</th><td> 478</td><td>0 </td><td>0 </td><td>T-cell-CD4             </td><td>0_T-cell-CD4             </td><td>acs_w_o_infection_TP1</td><td>x_greater_1_TP1</td><td>M9 (14,3) </td><td>TP1    </td><td>x_greater_1</td><td>⋯</td><td>5PNNNNNNNNNN(BC)</td><td>CAGTAGTCACGGTCA</td><td>Antibody Capture</td><td>1</td><td>9.1</td><td>TP1</td><td>L1</td><td>1</td><td>CD4 TCM    </td><td>9.1-L1</td></tr>\n",
       "\t<tr><th scope=row>AAACCCATCATCACAG-1-L1</th><td> 851</td><td>16</td><td>16</td><td>Plasma Blast           </td><td>16_Plasma Blast          </td><td>acs_w_o_infection_TP1</td><td>x_greater_1_TP1</td><td>M9 (14,3) </td><td>TP1    </td><td>x_greater_1</td><td>⋯</td><td>5PNNNNNNNNNN(BC)</td><td>CAGTAGTCACGGTCA</td><td>Antibody Capture</td><td>1</td><td>9.1</td><td>TP1</td><td>L1</td><td>1</td><td>Plasmablast</td><td>9.1-L1</td></tr>\n",
       "\t<tr><th scope=row>AAACCCATCGATGGAG-1-L1</th><td> 473</td><td>0 </td><td>0 </td><td>T-cell-CD4             </td><td>0_T-cell-CD4             </td><td>acs_subacute_TP1     </td><td>missing        </td><td>missing   </td><td>missing</td><td>missing    </td><td>⋯</td><td>5PNNNNNNNNNN(BC)</td><td>CTCCTCTGCAATTAC</td><td>Antibody Capture</td><td>1</td><td>8.1</td><td>TP1</td><td>L1</td><td>1</td><td>CD4 TCM    </td><td>8.1-L1</td></tr>\n",
       "</tbody>\n",
       "</table>\n"
      ],
      "text/latex": [
       "A data.frame: 6 × 32\n",
       "\\begin{tabular}{r|lllllllllllllllllllll}\n",
       "  & nCount\\_HTO & B2\\_Scanorama\\_Singlet\\_cluster & B2\\_Scanorama\\_Singlet\\_rb\\_mt\\_cluster & cell\\_type\\_Scanorama & cluster\\_cell\\_type\\_Scanorama & classification\\_measurement & delta\\_ef\\_value\\_group\\_measurement & m\\_y & measurement\\_y & delta\\_ef\\_value\\_group & ⋯ & pattern & sequence & feature\\_type & in\\_sample & display\\_name & group\\_x & library\\_char & group\\_id & cluster\\_id & sample\\_id\\\\\n",
       "  & <dbl> & <fct> & <fct> & <fct> & <fct> & <fct> & <fct> & <fct> & <fct> & <fct> & ⋯ & <fct> & <fct> & <fct> & <dbl> & <fct> & <fct> & <chr> & <chr> & <chr> & <chr>\\\\\n",
       "\\hline\n",
       "\tAAACCCACATACAGGG-1-L1 & 1574 & 8  & 8  & B-cell                  & 8\\_B-cell                  & acs\\_w\\_o\\_infection\\_TP1 & x\\_greater\\_1\\_TP1 & M9 (14,3)  & TP1     & x\\_greater\\_1 & ⋯ & 5PNNNNNNNNNN(BC) & CAGTAGTCACGGTCA & Antibody Capture & 1 & 9.1 & TP1 & L1 & 1 & B cell      & 9.1-L1\\\\\n",
       "\tAAACCCACATGACTTG-1-L1 &  379 & 9  & 9  & Monocytes - CD16\\_FCGR3A & 9\\_Monocytes - CD16\\_FCGR3A & acs\\_w\\_o\\_infection\\_TP1 & x\\_greater\\_1\\_TP1 & M9 (14,3)  & TP1     & x\\_greater\\_1 & ⋯ & 5PNNNNNNNNNN(BC) & CAGTAGTCACGGTCA & Antibody Capture & 1 & 9.1 & TP1 & L1 & 1 & CD16 Mono   & 9.1-L1\\\\\n",
       "\tAAACCCAGTCATCAGT-1-L1 &  421 & 5  & 5  & T-cell-CD4              & 5\\_T-cell-CD4              & acs\\_w\\_o\\_infection\\_TP1 & x\\_smaller\\_1\\_TP1 & M7 (0,75)  & TP1     & x\\_smaller\\_1 & ⋯ & 5PNNNNNNNNNN(BC) & TGTCTTTCCTGCCAG & Antibody Capture & 1 & 7.1 & TP1 & L1 & 1 & CD4 TCM     & 7.1-L1\\\\\n",
       "\tAAACCCAGTGGTAATA-1-L1 &  478 & 0  & 0  & T-cell-CD4              & 0\\_T-cell-CD4              & acs\\_w\\_o\\_infection\\_TP1 & x\\_greater\\_1\\_TP1 & M9 (14,3)  & TP1     & x\\_greater\\_1 & ⋯ & 5PNNNNNNNNNN(BC) & CAGTAGTCACGGTCA & Antibody Capture & 1 & 9.1 & TP1 & L1 & 1 & CD4 TCM     & 9.1-L1\\\\\n",
       "\tAAACCCATCATCACAG-1-L1 &  851 & 16 & 16 & Plasma Blast            & 16\\_Plasma Blast           & acs\\_w\\_o\\_infection\\_TP1 & x\\_greater\\_1\\_TP1 & M9 (14,3)  & TP1     & x\\_greater\\_1 & ⋯ & 5PNNNNNNNNNN(BC) & CAGTAGTCACGGTCA & Antibody Capture & 1 & 9.1 & TP1 & L1 & 1 & Plasmablast & 9.1-L1\\\\\n",
       "\tAAACCCATCGATGGAG-1-L1 &  473 & 0  & 0  & T-cell-CD4              & 0\\_T-cell-CD4              & acs\\_subacute\\_TP1      & missing         & missing    & missing & missing     & ⋯ & 5PNNNNNNNNNN(BC) & CTCCTCTGCAATTAC & Antibody Capture & 1 & 8.1 & TP1 & L1 & 1 & CD4 TCM     & 8.1-L1\\\\\n",
       "\\end{tabular}\n"
      ],
      "text/markdown": [
       "\n",
       "A data.frame: 6 × 32\n",
       "\n",
       "| <!--/--> | nCount_HTO &lt;dbl&gt; | B2_Scanorama_Singlet_cluster &lt;fct&gt; | B2_Scanorama_Singlet_rb_mt_cluster &lt;fct&gt; | cell_type_Scanorama &lt;fct&gt; | cluster_cell_type_Scanorama &lt;fct&gt; | classification_measurement &lt;fct&gt; | delta_ef_value_group_measurement &lt;fct&gt; | m_y &lt;fct&gt; | measurement_y &lt;fct&gt; | delta_ef_value_group &lt;fct&gt; | ⋯ ⋯ | pattern &lt;fct&gt; | sequence &lt;fct&gt; | feature_type &lt;fct&gt; | in_sample &lt;dbl&gt; | display_name &lt;fct&gt; | group_x &lt;fct&gt; | library_char &lt;chr&gt; | group_id &lt;chr&gt; | cluster_id &lt;chr&gt; | sample_id &lt;chr&gt; |\n",
       "|---|---|---|---|---|---|---|---|---|---|---|---|---|---|---|---|---|---|---|---|---|---|\n",
       "| AAACCCACATACAGGG-1-L1 | 1574 | 8  | 8  | B-cell                  | 8_B-cell                  | acs_w_o_infection_TP1 | x_greater_1_TP1 | M9 (14,3)  | TP1     | x_greater_1 | ⋯ | 5PNNNNNNNNNN(BC) | CAGTAGTCACGGTCA | Antibody Capture | 1 | 9.1 | TP1 | L1 | 1 | B cell      | 9.1-L1 |\n",
       "| AAACCCACATGACTTG-1-L1 |  379 | 9  | 9  | Monocytes - CD16_FCGR3A | 9_Monocytes - CD16_FCGR3A | acs_w_o_infection_TP1 | x_greater_1_TP1 | M9 (14,3)  | TP1     | x_greater_1 | ⋯ | 5PNNNNNNNNNN(BC) | CAGTAGTCACGGTCA | Antibody Capture | 1 | 9.1 | TP1 | L1 | 1 | CD16 Mono   | 9.1-L1 |\n",
       "| AAACCCAGTCATCAGT-1-L1 |  421 | 5  | 5  | T-cell-CD4              | 5_T-cell-CD4              | acs_w_o_infection_TP1 | x_smaller_1_TP1 | M7 (0,75)  | TP1     | x_smaller_1 | ⋯ | 5PNNNNNNNNNN(BC) | TGTCTTTCCTGCCAG | Antibody Capture | 1 | 7.1 | TP1 | L1 | 1 | CD4 TCM     | 7.1-L1 |\n",
       "| AAACCCAGTGGTAATA-1-L1 |  478 | 0  | 0  | T-cell-CD4              | 0_T-cell-CD4              | acs_w_o_infection_TP1 | x_greater_1_TP1 | M9 (14,3)  | TP1     | x_greater_1 | ⋯ | 5PNNNNNNNNNN(BC) | CAGTAGTCACGGTCA | Antibody Capture | 1 | 9.1 | TP1 | L1 | 1 | CD4 TCM     | 9.1-L1 |\n",
       "| AAACCCATCATCACAG-1-L1 |  851 | 16 | 16 | Plasma Blast            | 16_Plasma Blast           | acs_w_o_infection_TP1 | x_greater_1_TP1 | M9 (14,3)  | TP1     | x_greater_1 | ⋯ | 5PNNNNNNNNNN(BC) | CAGTAGTCACGGTCA | Antibody Capture | 1 | 9.1 | TP1 | L1 | 1 | Plasmablast | 9.1-L1 |\n",
       "| AAACCCATCGATGGAG-1-L1 |  473 | 0  | 0  | T-cell-CD4              | 0_T-cell-CD4              | acs_subacute_TP1      | missing         | missing    | missing | missing     | ⋯ | 5PNNNNNNNNNN(BC) | CTCCTCTGCAATTAC | Antibody Capture | 1 | 8.1 | TP1 | L1 | 1 | CD4 TCM     | 8.1-L1 |\n",
       "\n"
      ],
      "text/plain": [
       "                      nCount_HTO B2_Scanorama_Singlet_cluster\n",
       "AAACCCACATACAGGG-1-L1 1574       8                           \n",
       "AAACCCACATGACTTG-1-L1  379       9                           \n",
       "AAACCCAGTCATCAGT-1-L1  421       5                           \n",
       "AAACCCAGTGGTAATA-1-L1  478       0                           \n",
       "AAACCCATCATCACAG-1-L1  851       16                          \n",
       "AAACCCATCGATGGAG-1-L1  473       0                           \n",
       "                      B2_Scanorama_Singlet_rb_mt_cluster\n",
       "AAACCCACATACAGGG-1-L1 8                                 \n",
       "AAACCCACATGACTTG-1-L1 9                                 \n",
       "AAACCCAGTCATCAGT-1-L1 5                                 \n",
       "AAACCCAGTGGTAATA-1-L1 0                                 \n",
       "AAACCCATCATCACAG-1-L1 16                                \n",
       "AAACCCATCGATGGAG-1-L1 0                                 \n",
       "                      cell_type_Scanorama     cluster_cell_type_Scanorama\n",
       "AAACCCACATACAGGG-1-L1 B-cell                  8_B-cell                   \n",
       "AAACCCACATGACTTG-1-L1 Monocytes - CD16_FCGR3A 9_Monocytes - CD16_FCGR3A  \n",
       "AAACCCAGTCATCAGT-1-L1 T-cell-CD4              5_T-cell-CD4               \n",
       "AAACCCAGTGGTAATA-1-L1 T-cell-CD4              0_T-cell-CD4               \n",
       "AAACCCATCATCACAG-1-L1 Plasma Blast            16_Plasma Blast            \n",
       "AAACCCATCGATGGAG-1-L1 T-cell-CD4              0_T-cell-CD4               \n",
       "                      classification_measurement\n",
       "AAACCCACATACAGGG-1-L1 acs_w_o_infection_TP1     \n",
       "AAACCCACATGACTTG-1-L1 acs_w_o_infection_TP1     \n",
       "AAACCCAGTCATCAGT-1-L1 acs_w_o_infection_TP1     \n",
       "AAACCCAGTGGTAATA-1-L1 acs_w_o_infection_TP1     \n",
       "AAACCCATCATCACAG-1-L1 acs_w_o_infection_TP1     \n",
       "AAACCCATCGATGGAG-1-L1 acs_subacute_TP1          \n",
       "                      delta_ef_value_group_measurement m_y        measurement_y\n",
       "AAACCCACATACAGGG-1-L1 x_greater_1_TP1                  M9 (14,3)  TP1          \n",
       "AAACCCACATGACTTG-1-L1 x_greater_1_TP1                  M9 (14,3)  TP1          \n",
       "AAACCCAGTCATCAGT-1-L1 x_smaller_1_TP1                  M7 (0,75)  TP1          \n",
       "AAACCCAGTGGTAATA-1-L1 x_greater_1_TP1                  M9 (14,3)  TP1          \n",
       "AAACCCATCATCACAG-1-L1 x_greater_1_TP1                  M9 (14,3)  TP1          \n",
       "AAACCCATCGATGGAG-1-L1 missing                          missing    missing      \n",
       "                      delta_ef_value_group ⋯ pattern          sequence       \n",
       "AAACCCACATACAGGG-1-L1 x_greater_1          ⋯ 5PNNNNNNNNNN(BC) CAGTAGTCACGGTCA\n",
       "AAACCCACATGACTTG-1-L1 x_greater_1          ⋯ 5PNNNNNNNNNN(BC) CAGTAGTCACGGTCA\n",
       "AAACCCAGTCATCAGT-1-L1 x_smaller_1          ⋯ 5PNNNNNNNNNN(BC) TGTCTTTCCTGCCAG\n",
       "AAACCCAGTGGTAATA-1-L1 x_greater_1          ⋯ 5PNNNNNNNNNN(BC) CAGTAGTCACGGTCA\n",
       "AAACCCATCATCACAG-1-L1 x_greater_1          ⋯ 5PNNNNNNNNNN(BC) CAGTAGTCACGGTCA\n",
       "AAACCCATCGATGGAG-1-L1 missing              ⋯ 5PNNNNNNNNNN(BC) CTCCTCTGCAATTAC\n",
       "                      feature_type     in_sample display_name group_x\n",
       "AAACCCACATACAGGG-1-L1 Antibody Capture 1         9.1          TP1    \n",
       "AAACCCACATGACTTG-1-L1 Antibody Capture 1         9.1          TP1    \n",
       "AAACCCAGTCATCAGT-1-L1 Antibody Capture 1         7.1          TP1    \n",
       "AAACCCAGTGGTAATA-1-L1 Antibody Capture 1         9.1          TP1    \n",
       "AAACCCATCATCACAG-1-L1 Antibody Capture 1         9.1          TP1    \n",
       "AAACCCATCGATGGAG-1-L1 Antibody Capture 1         8.1          TP1    \n",
       "                      library_char group_id cluster_id  sample_id\n",
       "AAACCCACATACAGGG-1-L1 L1           1        B cell      9.1-L1   \n",
       "AAACCCACATGACTTG-1-L1 L1           1        CD16 Mono   9.1-L1   \n",
       "AAACCCAGTCATCAGT-1-L1 L1           1        CD4 TCM     7.1-L1   \n",
       "AAACCCAGTGGTAATA-1-L1 L1           1        CD4 TCM     9.1-L1   \n",
       "AAACCCATCATCACAG-1-L1 L1           1        Plasmablast 9.1-L1   \n",
       "AAACCCATCGATGGAG-1-L1 L1           1        CD4 TCM     8.1-L1   "
      ]
     },
     "metadata": {},
     "output_type": "display_data"
    }
   ],
   "source": [
    "head(rna_seurat_data_subset@meta.data)"
   ]
  },
  {
   "cell_type": "code",
   "execution_count": 206,
   "id": "ef849d37-0290-4bc2-88d8-5cb06ba28e21",
   "metadata": {},
   "outputs": [],
   "source": [
    "## Short check whether merging worked fine"
   ]
  },
  {
   "cell_type": "code",
   "execution_count": 207,
   "id": "91a6e9a5-b98b-477a-8dbe-c7c5e82d09dd",
   "metadata": {},
   "outputs": [],
   "source": [
    "### Save merged Seurat data with azimuth annotation for reproduction file to share"
   ]
  },
  {
   "cell_type": "code",
   "execution_count": 208,
   "id": "92dbffd2-3a42-46d6-8627-1d69d5e8e618",
   "metadata": {},
   "outputs": [],
   "source": [
    "#save( rna_seurat_data_subset , file = paste0(result_path, '/G-Analysis/G4_Seurat_Input_Replication.RDS'))"
   ]
  },
  {
   "cell_type": "code",
   "execution_count": 209,
   "id": "ad2b3476-b1a0-488c-8838-7d853ead886b",
   "metadata": {},
   "outputs": [],
   "source": [
    "rna_seurat_data_save = rna_seurat_data_subset"
   ]
  },
  {
   "cell_type": "code",
   "execution_count": 210,
   "id": "893d2602-74a4-49c1-a6ab-25fc86f8a85a",
   "metadata": {},
   "outputs": [
    {
     "data": {
      "text/html": [
       "<style>\n",
       ".list-inline {list-style: none; margin:0; padding: 0}\n",
       ".list-inline>li {display: inline-block}\n",
       ".list-inline>li:not(:last-child)::after {content: \"\\00b7\"; padding: 0 .5ex}\n",
       "</style>\n",
       "<ol class=list-inline><li>'nCount_HTO'</li><li>'B2_Scanorama_Singlet_cluster'</li><li>'B2_Scanorama_Singlet_rb_mt_cluster'</li><li>'cell_type_Scanorama'</li><li>'cluster_cell_type_Scanorama'</li><li>'classification_measurement'</li><li>'delta_ef_value_group_measurement'</li><li>'m_y'</li><li>'measurement_y'</li><li>'delta_ef_value_group'</li><li>'delta_ef_value'</li><li>'sample_y'</li><li>'age'</li><li>'sex'</li><li>'m_x'</li><li>'classification'</li><li>'group_y'</li><li>'measurement_x'</li><li>'sample_x'</li><li>'library'</li><li>'id'</li><li>'read'</li><li>'pattern'</li><li>'sequence'</li><li>'feature_type'</li><li>'in_sample'</li><li>'display_name'</li><li>'group_x'</li><li>'library_char'</li><li>'group_id'</li><li>'cluster_id'</li><li>'sample_id'</li></ol>\n"
      ],
      "text/latex": [
       "\\begin{enumerate*}\n",
       "\\item 'nCount\\_HTO'\n",
       "\\item 'B2\\_Scanorama\\_Singlet\\_cluster'\n",
       "\\item 'B2\\_Scanorama\\_Singlet\\_rb\\_mt\\_cluster'\n",
       "\\item 'cell\\_type\\_Scanorama'\n",
       "\\item 'cluster\\_cell\\_type\\_Scanorama'\n",
       "\\item 'classification\\_measurement'\n",
       "\\item 'delta\\_ef\\_value\\_group\\_measurement'\n",
       "\\item 'm\\_y'\n",
       "\\item 'measurement\\_y'\n",
       "\\item 'delta\\_ef\\_value\\_group'\n",
       "\\item 'delta\\_ef\\_value'\n",
       "\\item 'sample\\_y'\n",
       "\\item 'age'\n",
       "\\item 'sex'\n",
       "\\item 'm\\_x'\n",
       "\\item 'classification'\n",
       "\\item 'group\\_y'\n",
       "\\item 'measurement\\_x'\n",
       "\\item 'sample\\_x'\n",
       "\\item 'library'\n",
       "\\item 'id'\n",
       "\\item 'read'\n",
       "\\item 'pattern'\n",
       "\\item 'sequence'\n",
       "\\item 'feature\\_type'\n",
       "\\item 'in\\_sample'\n",
       "\\item 'display\\_name'\n",
       "\\item 'group\\_x'\n",
       "\\item 'library\\_char'\n",
       "\\item 'group\\_id'\n",
       "\\item 'cluster\\_id'\n",
       "\\item 'sample\\_id'\n",
       "\\end{enumerate*}\n"
      ],
      "text/markdown": [
       "1. 'nCount_HTO'\n",
       "2. 'B2_Scanorama_Singlet_cluster'\n",
       "3. 'B2_Scanorama_Singlet_rb_mt_cluster'\n",
       "4. 'cell_type_Scanorama'\n",
       "5. 'cluster_cell_type_Scanorama'\n",
       "6. 'classification_measurement'\n",
       "7. 'delta_ef_value_group_measurement'\n",
       "8. 'm_y'\n",
       "9. 'measurement_y'\n",
       "10. 'delta_ef_value_group'\n",
       "11. 'delta_ef_value'\n",
       "12. 'sample_y'\n",
       "13. 'age'\n",
       "14. 'sex'\n",
       "15. 'm_x'\n",
       "16. 'classification'\n",
       "17. 'group_y'\n",
       "18. 'measurement_x'\n",
       "19. 'sample_x'\n",
       "20. 'library'\n",
       "21. 'id'\n",
       "22. 'read'\n",
       "23. 'pattern'\n",
       "24. 'sequence'\n",
       "25. 'feature_type'\n",
       "26. 'in_sample'\n",
       "27. 'display_name'\n",
       "28. 'group_x'\n",
       "29. 'library_char'\n",
       "30. 'group_id'\n",
       "31. 'cluster_id'\n",
       "32. 'sample_id'\n",
       "\n",
       "\n"
      ],
      "text/plain": [
       " [1] \"nCount_HTO\"                         \"B2_Scanorama_Singlet_cluster\"      \n",
       " [3] \"B2_Scanorama_Singlet_rb_mt_cluster\" \"cell_type_Scanorama\"               \n",
       " [5] \"cluster_cell_type_Scanorama\"        \"classification_measurement\"        \n",
       " [7] \"delta_ef_value_group_measurement\"   \"m_y\"                               \n",
       " [9] \"measurement_y\"                      \"delta_ef_value_group\"              \n",
       "[11] \"delta_ef_value\"                     \"sample_y\"                          \n",
       "[13] \"age\"                                \"sex\"                               \n",
       "[15] \"m_x\"                                \"classification\"                    \n",
       "[17] \"group_y\"                            \"measurement_x\"                     \n",
       "[19] \"sample_x\"                           \"library\"                           \n",
       "[21] \"id\"                                 \"read\"                              \n",
       "[23] \"pattern\"                            \"sequence\"                          \n",
       "[25] \"feature_type\"                       \"in_sample\"                         \n",
       "[27] \"display_name\"                       \"group_x\"                           \n",
       "[29] \"library_char\"                       \"group_id\"                          \n",
       "[31] \"cluster_id\"                         \"sample_id\"                         "
      ]
     },
     "metadata": {},
     "output_type": "display_data"
    }
   ],
   "source": [
    "colnames(rna_seurat_data_save[[]])"
   ]
  },
  {
   "cell_type": "code",
   "execution_count": 211,
   "id": "6ec8fa9b-24f8-47e7-80e6-1042d692ead2",
   "metadata": {},
   "outputs": [],
   "source": [
    "#unique(rna_seurat_data_save$sample_id)"
   ]
  },
  {
   "cell_type": "code",
   "execution_count": 212,
   "id": "4e530941-60f9-49af-9fa9-5996cb6013e6",
   "metadata": {},
   "outputs": [],
   "source": [
    "rna_seurat_data_save$B2_Scanorama_Singlet_cluster = NULL\n",
    "rna_seurat_data_save$B2_Scanorama_Singlet_rb_mt_cluster = NULL\n",
    "rna_seurat_data_save$cell_type_Scanorama = NULL\n",
    "rna_seurat_data_save$cluster_cell_type_Scanorama = NULL"
   ]
  },
  {
   "cell_type": "code",
   "execution_count": 213,
   "id": "c69b9716-c0f0-494b-88f6-178eb306e75b",
   "metadata": {},
   "outputs": [],
   "source": [
    "rna_seurat_data_save$delta_ef_value_group_measurement = NULL\n",
    "rna_seurat_data_save$m_y = NULL\n",
    "rna_seurat_data_save$measurement_y = NULL\n",
    "rna_seurat_data_save$delta_ef_value_group = NULL"
   ]
  },
  {
   "cell_type": "code",
   "execution_count": 214,
   "id": "2c1e6db9-cf78-486a-ac09-4a3e2df0a4da",
   "metadata": {},
   "outputs": [],
   "source": [
    "rna_seurat_data_save$classification_measurement = NULL\n",
    "rna_seurat_data_save$delta_ef_value = NULL\n",
    "rna_seurat_data_save$sample_y = NULL\n",
    "rna_seurat_data_save$age = NULL"
   ]
  },
  {
   "cell_type": "code",
   "execution_count": 215,
   "id": "80bb19c3-a765-4078-98a3-424ebfbf8b2c",
   "metadata": {},
   "outputs": [],
   "source": [
    "rna_seurat_data_save$sex = NULL\n",
    "rna_seurat_data_save$m_x = NULL\n",
    "rna_seurat_data_save$classification = NULL\n",
    "rna_seurat_data_save$group_y = NULL"
   ]
  },
  {
   "cell_type": "code",
   "execution_count": 216,
   "id": "1c5da20e-c540-401d-ae4e-e4e6aaadfb5f",
   "metadata": {},
   "outputs": [],
   "source": [
    "rna_seurat_data_save$measurement_x = NULL\n",
    "rna_seurat_data_save$sample_x = NULL\n",
    "rna_seurat_data_save$library = NULL\n",
    "rna_seurat_data_save$id = NULL"
   ]
  },
  {
   "cell_type": "code",
   "execution_count": 217,
   "id": "760187f4-60c2-45fa-b961-d4ac56a00d40",
   "metadata": {},
   "outputs": [],
   "source": [
    "rna_seurat_data_save$read = NULL\n",
    "rna_seurat_data_save$pattern = NULL\n",
    "rna_seurat_data_save$sequence = NULL\n",
    "rna_seurat_data_save$feature_type = NULL"
   ]
  },
  {
   "cell_type": "code",
   "execution_count": 218,
   "id": "af3a078e-2104-47bf-b1eb-e306af25c537",
   "metadata": {},
   "outputs": [],
   "source": [
    "rna_seurat_data_save$in_sample = NULL\n",
    "rna_seurat_data_save$display_name = NULL\n",
    "rna_seurat_data_save$group_x = NULL\n",
    "rna_seurat_data_save$library_char = NULL"
   ]
  },
  {
   "cell_type": "code",
   "execution_count": 219,
   "id": "0ed805b1-d831-4e2b-b109-895123859686",
   "metadata": {},
   "outputs": [
    {
     "data": {
      "text/html": [
       "<style>\n",
       ".list-inline {list-style: none; margin:0; padding: 0}\n",
       ".list-inline>li {display: inline-block}\n",
       ".list-inline>li:not(:last-child)::after {content: \"\\00b7\"; padding: 0 .5ex}\n",
       "</style>\n",
       "<ol class=list-inline><li>'nCount_HTO'</li><li>'group_id'</li><li>'cluster_id'</li><li>'sample_id'</li></ol>\n"
      ],
      "text/latex": [
       "\\begin{enumerate*}\n",
       "\\item 'nCount\\_HTO'\n",
       "\\item 'group\\_id'\n",
       "\\item 'cluster\\_id'\n",
       "\\item 'sample\\_id'\n",
       "\\end{enumerate*}\n"
      ],
      "text/markdown": [
       "1. 'nCount_HTO'\n",
       "2. 'group_id'\n",
       "3. 'cluster_id'\n",
       "4. 'sample_id'\n",
       "\n",
       "\n"
      ],
      "text/plain": [
       "[1] \"nCount_HTO\" \"group_id\"   \"cluster_id\" \"sample_id\" "
      ]
     },
     "metadata": {},
     "output_type": "display_data"
    }
   ],
   "source": [
    "colnames(rna_seurat_data_save[[]])"
   ]
  },
  {
   "cell_type": "code",
   "execution_count": 220,
   "id": "c359527d-331e-4e4a-bc66-20bdfe3670c3",
   "metadata": {},
   "outputs": [
    {
     "data": {
      "text/html": [
       "<style>\n",
       ".list-inline {list-style: none; margin:0; padding: 0}\n",
       ".list-inline>li {display: inline-block}\n",
       ".list-inline>li:not(:last-child)::after {content: \"\\00b7\"; padding: 0 .5ex}\n",
       "</style>\n",
       "<ol class=list-inline><li>'B cell'</li><li>'CD16 Mono'</li><li>'CD4 TCM'</li><li>'Plasmablast'</li><li>'CD8 TEM'</li><li>'CD4 Naive'</li><li>'CD14 Mono'</li><li>'Treg'</li><li>'CD4 TEM'</li><li>'NK'</li><li>'CD8 Naive'</li><li>'cDC2'</li><li>'dnT'</li><li>'MAIT'</li><li>'HSPC'</li><li>'gdT'</li><li>'Platelet'</li><li>'CD8 TCM'</li><li>'NK_CD56bright'</li><li>'CD4 CTL'</li><li>'cDC1'</li><li>'pDC'</li><li>'CD4 Proliferating'</li><li>'NK Proliferating'</li><li>'ILC'</li><li>'Doublet'</li><li>'CD8 Proliferating'</li><li>'ASDC'</li><li>'Eryth'</li></ol>\n"
      ],
      "text/latex": [
       "\\begin{enumerate*}\n",
       "\\item 'B cell'\n",
       "\\item 'CD16 Mono'\n",
       "\\item 'CD4 TCM'\n",
       "\\item 'Plasmablast'\n",
       "\\item 'CD8 TEM'\n",
       "\\item 'CD4 Naive'\n",
       "\\item 'CD14 Mono'\n",
       "\\item 'Treg'\n",
       "\\item 'CD4 TEM'\n",
       "\\item 'NK'\n",
       "\\item 'CD8 Naive'\n",
       "\\item 'cDC2'\n",
       "\\item 'dnT'\n",
       "\\item 'MAIT'\n",
       "\\item 'HSPC'\n",
       "\\item 'gdT'\n",
       "\\item 'Platelet'\n",
       "\\item 'CD8 TCM'\n",
       "\\item 'NK\\_CD56bright'\n",
       "\\item 'CD4 CTL'\n",
       "\\item 'cDC1'\n",
       "\\item 'pDC'\n",
       "\\item 'CD4 Proliferating'\n",
       "\\item 'NK Proliferating'\n",
       "\\item 'ILC'\n",
       "\\item 'Doublet'\n",
       "\\item 'CD8 Proliferating'\n",
       "\\item 'ASDC'\n",
       "\\item 'Eryth'\n",
       "\\end{enumerate*}\n"
      ],
      "text/markdown": [
       "1. 'B cell'\n",
       "2. 'CD16 Mono'\n",
       "3. 'CD4 TCM'\n",
       "4. 'Plasmablast'\n",
       "5. 'CD8 TEM'\n",
       "6. 'CD4 Naive'\n",
       "7. 'CD14 Mono'\n",
       "8. 'Treg'\n",
       "9. 'CD4 TEM'\n",
       "10. 'NK'\n",
       "11. 'CD8 Naive'\n",
       "12. 'cDC2'\n",
       "13. 'dnT'\n",
       "14. 'MAIT'\n",
       "15. 'HSPC'\n",
       "16. 'gdT'\n",
       "17. 'Platelet'\n",
       "18. 'CD8 TCM'\n",
       "19. 'NK_CD56bright'\n",
       "20. 'CD4 CTL'\n",
       "21. 'cDC1'\n",
       "22. 'pDC'\n",
       "23. 'CD4 Proliferating'\n",
       "24. 'NK Proliferating'\n",
       "25. 'ILC'\n",
       "26. 'Doublet'\n",
       "27. 'CD8 Proliferating'\n",
       "28. 'ASDC'\n",
       "29. 'Eryth'\n",
       "\n",
       "\n"
      ],
      "text/plain": [
       " [1] \"B cell\"            \"CD16 Mono\"         \"CD4 TCM\"          \n",
       " [4] \"Plasmablast\"       \"CD8 TEM\"           \"CD4 Naive\"        \n",
       " [7] \"CD14 Mono\"         \"Treg\"              \"CD4 TEM\"          \n",
       "[10] \"NK\"                \"CD8 Naive\"         \"cDC2\"             \n",
       "[13] \"dnT\"               \"MAIT\"              \"HSPC\"             \n",
       "[16] \"gdT\"               \"Platelet\"          \"CD8 TCM\"          \n",
       "[19] \"NK_CD56bright\"     \"CD4 CTL\"           \"cDC1\"             \n",
       "[22] \"pDC\"               \"CD4 Proliferating\" \"NK Proliferating\" \n",
       "[25] \"ILC\"               \"Doublet\"           \"CD8 Proliferating\"\n",
       "[28] \"ASDC\"              \"Eryth\"            "
      ]
     },
     "metadata": {},
     "output_type": "display_data"
    }
   ],
   "source": [
    "unique(rna_seurat_data_save$cluster_id)"
   ]
  },
  {
   "cell_type": "code",
   "execution_count": 221,
   "id": "e6cb0f51-c958-4d52-8430-5cfe8ec9bc11",
   "metadata": {},
   "outputs": [],
   "source": [
    "#SaveH5Seurat(rna_seurat_data_save, file = paste0(result_path, '/Reproduction/G4_Seurat_Input_Replication.h5seurat'), overwrite = TRUE)"
   ]
  },
  {
   "cell_type": "markdown",
   "id": "234c8c17-2b81-4809-ab9c-f5dbfea77dc5",
   "metadata": {
    "tags": []
   },
   "source": [
    "## Convert to SCE "
   ]
  },
  {
   "cell_type": "code",
   "execution_count": null,
   "id": "dc2deb1e-7cfb-495a-a7ea-4cecec9224f7",
   "metadata": {},
   "outputs": [],
   "source": []
  },
  {
   "cell_type": "code",
   "execution_count": 222,
   "id": "cc16e1b8-06e5-4d6b-a650-0ec83f3b1382",
   "metadata": {},
   "outputs": [],
   "source": [
    "rna_sce = as.SingleCellExperiment(rna_seurat_data_subset)"
   ]
  },
  {
   "cell_type": "code",
   "execution_count": null,
   "id": "b69c0a7a-23bb-4bc1-9c43-8571d7020116",
   "metadata": {},
   "outputs": [],
   "source": []
  },
  {
   "cell_type": "code",
   "execution_count": 223,
   "id": "234b488b-7aa5-4f4b-bd74-44d3eb6a3b33",
   "metadata": {},
   "outputs": [
    {
     "data": {
      "text/plain": [
       "class: SingleCellExperiment \n",
       "dim: 19221 148275 \n",
       "metadata(0):\n",
       "assays(2): counts logcounts\n",
       "rownames(19221): AL627309.1 AL627309.4 ... AC004556.1 AC240274.1\n",
       "rowData names(0):\n",
       "colnames(148275): AAACCCACATACAGGG-1-L1 AAACCCACATGACTTG-1-L1 ...\n",
       "  TTTGTTGGTGGACCAA-1-L14 TTTGTTGTCGAAGAAT-1-L14\n",
       "colData names(33): nCount_HTO B2_Scanorama_Singlet_cluster ...\n",
       "  sample_id ident\n",
       "reducedDimNames(0):\n",
       "mainExpName: RNA\n",
       "altExpNames(0):"
      ]
     },
     "metadata": {},
     "output_type": "display_data"
    }
   ],
   "source": [
    "rna_sce  # rows = genes; columns = cells"
   ]
  },
  {
   "cell_type": "code",
   "execution_count": 224,
   "id": "4f3c7449-6e1d-47c8-999f-82bd7f4cde2c",
   "metadata": {},
   "outputs": [],
   "source": [
    "### Check amount of cells per sample and cluster"
   ]
  },
  {
   "cell_type": "code",
   "execution_count": 225,
   "id": "d652a37f-3f8c-44a5-992e-cfedbb4705fe",
   "metadata": {},
   "outputs": [
    {
     "data": {
      "text/html": [
       "<style>\n",
       ".dl-inline {width: auto; margin:0; padding: 0}\n",
       ".dl-inline>dt, .dl-inline>dd {float: none; width: auto; display: inline-block}\n",
       ".dl-inline>dt::after {content: \":\\0020\"; padding-right: .5ex}\n",
       ".dl-inline>dt:not(:first-of-type) {padding-left: .5ex}\n",
       "</style><dl class=dl-inline><dt>ASDC</dt><dd>8</dd><dt>B cell</dt><dd>9829</dd><dt>CD14 Mono</dt><dd>32727</dd><dt>CD16 Mono</dt><dd>4680</dd><dt>CD4 CTL</dt><dd>2346</dd><dt>CD4 Naive</dt><dd>6495</dd><dt>CD4 Proliferating</dt><dd>108</dd><dt>CD4 TCM</dt><dd>45102</dd><dt>CD4 TEM</dt><dd>6296</dd><dt>CD8 Naive</dt><dd>2612</dd><dt>CD8 Proliferating</dt><dd>13</dd><dt>CD8 TCM</dt><dd>525</dd><dt>CD8 TEM</dt><dd>10611</dd><dt>cDC1</dt><dd>83</dd><dt>cDC2</dt><dd>1314</dd><dt>dnT</dt><dd>130</dd><dt>Doublet</dt><dd>48</dd><dt>Eryth</dt><dd>6</dd><dt>gdT</dt><dd>1901</dd><dt>HSPC</dt><dd>332</dd><dt>ILC</dt><dd>931</dd><dt>MAIT</dt><dd>1177</dd><dt>NK</dt><dd>15699</dd><dt>NK Proliferating</dt><dd>168</dd><dt>NK_CD56bright</dt><dd>874</dd><dt>pDC</dt><dd>745</dd><dt>Plasmablast</dt><dd>703</dd><dt>Platelet</dt><dd>450</dd><dt>Treg</dt><dd>2362</dd></dl>\n"
      ],
      "text/latex": [
       "\\begin{description*}\n",
       "\\item[ASDC] 8\n",
       "\\item[B cell] 9829\n",
       "\\item[CD14 Mono] 32727\n",
       "\\item[CD16 Mono] 4680\n",
       "\\item[CD4 CTL] 2346\n",
       "\\item[CD4 Naive] 6495\n",
       "\\item[CD4 Proliferating] 108\n",
       "\\item[CD4 TCM] 45102\n",
       "\\item[CD4 TEM] 6296\n",
       "\\item[CD8 Naive] 2612\n",
       "\\item[CD8 Proliferating] 13\n",
       "\\item[CD8 TCM] 525\n",
       "\\item[CD8 TEM] 10611\n",
       "\\item[cDC1] 83\n",
       "\\item[cDC2] 1314\n",
       "\\item[dnT] 130\n",
       "\\item[Doublet] 48\n",
       "\\item[Eryth] 6\n",
       "\\item[gdT] 1901\n",
       "\\item[HSPC] 332\n",
       "\\item[ILC] 931\n",
       "\\item[MAIT] 1177\n",
       "\\item[NK] 15699\n",
       "\\item[NK Proliferating] 168\n",
       "\\item[NK\\textbackslash{}\\_CD56bright] 874\n",
       "\\item[pDC] 745\n",
       "\\item[Plasmablast] 703\n",
       "\\item[Platelet] 450\n",
       "\\item[Treg] 2362\n",
       "\\end{description*}\n"
      ],
      "text/markdown": [
       "ASDC\n",
       ":   8B cell\n",
       ":   9829CD14 Mono\n",
       ":   32727CD16 Mono\n",
       ":   4680CD4 CTL\n",
       ":   2346CD4 Naive\n",
       ":   6495CD4 Proliferating\n",
       ":   108CD4 TCM\n",
       ":   45102CD4 TEM\n",
       ":   6296CD8 Naive\n",
       ":   2612CD8 Proliferating\n",
       ":   13CD8 TCM\n",
       ":   525CD8 TEM\n",
       ":   10611cDC1\n",
       ":   83cDC2\n",
       ":   1314dnT\n",
       ":   130Doublet\n",
       ":   48Eryth\n",
       ":   6gdT\n",
       ":   1901HSPC\n",
       ":   332ILC\n",
       ":   931MAIT\n",
       ":   1177NK\n",
       ":   15699NK Proliferating\n",
       ":   168NK_CD56bright\n",
       ":   874pDC\n",
       ":   745Plasmablast\n",
       ":   703Platelet\n",
       ":   450Treg\n",
       ":   2362\n",
       "\n"
      ],
      "text/plain": [
       "             ASDC            B cell         CD14 Mono         CD16 Mono \n",
       "                8              9829             32727              4680 \n",
       "          CD4 CTL         CD4 Naive CD4 Proliferating           CD4 TCM \n",
       "             2346              6495               108             45102 \n",
       "          CD4 TEM         CD8 Naive CD8 Proliferating           CD8 TCM \n",
       "             6296              2612                13               525 \n",
       "          CD8 TEM              cDC1              cDC2               dnT \n",
       "            10611                83              1314               130 \n",
       "          Doublet             Eryth               gdT              HSPC \n",
       "               48                 6              1901               332 \n",
       "              ILC              MAIT                NK  NK Proliferating \n",
       "              931              1177             15699               168 \n",
       "    NK_CD56bright               pDC       Plasmablast          Platelet \n",
       "              874               745               703               450 \n",
       "             Treg \n",
       "             2362 "
      ]
     },
     "metadata": {},
     "output_type": "display_data"
    }
   ],
   "source": [
    "colSums(table(rna_sce$cluster_id,rna_sce$cluster_id ))"
   ]
  },
  {
   "cell_type": "code",
   "execution_count": 226,
   "id": "b912887a-be08-45cd-b057-b3ad49136835",
   "metadata": {},
   "outputs": [],
   "source": [
    "cells_per_sample_cluster = t(table(rna_sce$cluster_id, rna_sce$sample_id))"
   ]
  },
  {
   "cell_type": "code",
   "execution_count": 227,
   "id": "373d89dd-cf98-4f11-97f1-03a75597f7b2",
   "metadata": {},
   "outputs": [
    {
     "data": {
      "text/html": [
       "<table class=\"dataframe\">\n",
       "<caption>A data.frame: 2 × 3</caption>\n",
       "<thead>\n",
       "\t<tr><th></th><th scope=col>Var1</th><th scope=col>Var2</th><th scope=col>Freq</th></tr>\n",
       "\t<tr><th></th><th scope=col>&lt;fct&gt;</th><th scope=col>&lt;fct&gt;</th><th scope=col>&lt;int&gt;</th></tr>\n",
       "</thead>\n",
       "<tbody>\n",
       "\t<tr><th scope=row>1</th><td>1.1-L1</td><td>ASDC</td><td>0</td></tr>\n",
       "\t<tr><th scope=row>2</th><td>10-L11</td><td>ASDC</td><td>0</td></tr>\n",
       "</tbody>\n",
       "</table>\n"
      ],
      "text/latex": [
       "A data.frame: 2 × 3\n",
       "\\begin{tabular}{r|lll}\n",
       "  & Var1 & Var2 & Freq\\\\\n",
       "  & <fct> & <fct> & <int>\\\\\n",
       "\\hline\n",
       "\t1 & 1.1-L1 & ASDC & 0\\\\\n",
       "\t2 & 10-L11 & ASDC & 0\\\\\n",
       "\\end{tabular}\n"
      ],
      "text/markdown": [
       "\n",
       "A data.frame: 2 × 3\n",
       "\n",
       "| <!--/--> | Var1 &lt;fct&gt; | Var2 &lt;fct&gt; | Freq &lt;int&gt; |\n",
       "|---|---|---|---|\n",
       "| 1 | 1.1-L1 | ASDC | 0 |\n",
       "| 2 | 10-L11 | ASDC | 0 |\n",
       "\n"
      ],
      "text/plain": [
       "  Var1   Var2 Freq\n",
       "1 1.1-L1 ASDC 0   \n",
       "2 10-L11 ASDC 0   "
      ]
     },
     "metadata": {},
     "output_type": "display_data"
    }
   ],
   "source": [
    "head(as.data.frame(cells_per_sample_cluster),2)"
   ]
  },
  {
   "cell_type": "code",
   "execution_count": 228,
   "id": "832cb8ec-1f06-4b63-8e06-d5e4dca7bfcd",
   "metadata": {},
   "outputs": [],
   "source": [
    "write.csv(cells_per_sample_cluster, paste0(result_path, '/G-Analysis/G1_Cell_Sample_Cluster_Distribution.csv'))"
   ]
  },
  {
   "cell_type": "code",
   "execution_count": 229,
   "id": "8cf108cb-1117-437c-913a-a325ec6796bd",
   "metadata": {},
   "outputs": [],
   "source": [
    "cells_per_sample_cluster = data.frame(cells_per_sample_cluster)"
   ]
  },
  {
   "cell_type": "code",
   "execution_count": 230,
   "id": "7362e183-80c3-4d34-ae25-1688a8619a77",
   "metadata": {},
   "outputs": [
    {
     "data": {
      "text/html": [
       "<table class=\"dataframe\">\n",
       "<caption>A data.frame: 2 × 3</caption>\n",
       "<thead>\n",
       "\t<tr><th></th><th scope=col>Var1</th><th scope=col>Var2</th><th scope=col>Freq</th></tr>\n",
       "\t<tr><th></th><th scope=col>&lt;fct&gt;</th><th scope=col>&lt;fct&gt;</th><th scope=col>&lt;int&gt;</th></tr>\n",
       "</thead>\n",
       "<tbody>\n",
       "\t<tr><th scope=row>1</th><td>1.1-L1</td><td>ASDC</td><td>0</td></tr>\n",
       "\t<tr><th scope=row>2</th><td>10-L11</td><td>ASDC</td><td>0</td></tr>\n",
       "</tbody>\n",
       "</table>\n"
      ],
      "text/latex": [
       "A data.frame: 2 × 3\n",
       "\\begin{tabular}{r|lll}\n",
       "  & Var1 & Var2 & Freq\\\\\n",
       "  & <fct> & <fct> & <int>\\\\\n",
       "\\hline\n",
       "\t1 & 1.1-L1 & ASDC & 0\\\\\n",
       "\t2 & 10-L11 & ASDC & 0\\\\\n",
       "\\end{tabular}\n"
      ],
      "text/markdown": [
       "\n",
       "A data.frame: 2 × 3\n",
       "\n",
       "| <!--/--> | Var1 &lt;fct&gt; | Var2 &lt;fct&gt; | Freq &lt;int&gt; |\n",
       "|---|---|---|---|\n",
       "| 1 | 1.1-L1 | ASDC | 0 |\n",
       "| 2 | 10-L11 | ASDC | 0 |\n",
       "\n"
      ],
      "text/plain": [
       "  Var1   Var2 Freq\n",
       "1 1.1-L1 ASDC 0   \n",
       "2 10-L11 ASDC 0   "
      ]
     },
     "metadata": {},
     "output_type": "display_data"
    }
   ],
   "source": [
    "head(cells_per_sample_cluster,2)"
   ]
  },
  {
   "cell_type": "code",
   "execution_count": 231,
   "id": "672f4dc5-4841-4172-a8cf-0984b35ca7cd",
   "metadata": {},
   "outputs": [
    {
     "data": {
      "text/html": [
       "<table class=\"dataframe\">\n",
       "<caption>A tibble: 5 × 2</caption>\n",
       "<thead>\n",
       "\t<tr><th scope=col>Var2</th><th scope=col>amount_cells</th></tr>\n",
       "\t<tr><th scope=col>&lt;fct&gt;</th><th scope=col>&lt;int&gt;</th></tr>\n",
       "</thead>\n",
       "<tbody>\n",
       "\t<tr><td>ASDC     </td><td>    8</td></tr>\n",
       "\t<tr><td>B cell   </td><td> 9829</td></tr>\n",
       "\t<tr><td>CD14 Mono</td><td>32727</td></tr>\n",
       "\t<tr><td>CD16 Mono</td><td> 4680</td></tr>\n",
       "\t<tr><td>CD4 CTL  </td><td> 2346</td></tr>\n",
       "</tbody>\n",
       "</table>\n"
      ],
      "text/latex": [
       "A tibble: 5 × 2\n",
       "\\begin{tabular}{ll}\n",
       " Var2 & amount\\_cells\\\\\n",
       " <fct> & <int>\\\\\n",
       "\\hline\n",
       "\t ASDC      &     8\\\\\n",
       "\t B cell    &  9829\\\\\n",
       "\t CD14 Mono & 32727\\\\\n",
       "\t CD16 Mono &  4680\\\\\n",
       "\t CD4 CTL   &  2346\\\\\n",
       "\\end{tabular}\n"
      ],
      "text/markdown": [
       "\n",
       "A tibble: 5 × 2\n",
       "\n",
       "| Var2 &lt;fct&gt; | amount_cells &lt;int&gt; |\n",
       "|---|---|\n",
       "| ASDC      |     8 |\n",
       "| B cell    |  9829 |\n",
       "| CD14 Mono | 32727 |\n",
       "| CD16 Mono |  4680 |\n",
       "| CD4 CTL   |  2346 |\n",
       "\n"
      ],
      "text/plain": [
       "  Var2      amount_cells\n",
       "1 ASDC          8       \n",
       "2 B cell     9829       \n",
       "3 CD14 Mono 32727       \n",
       "4 CD16 Mono  4680       \n",
       "5 CD4 CTL    2346       "
      ]
     },
     "metadata": {},
     "output_type": "display_data"
    }
   ],
   "source": [
    "head(cells_per_sample_cluster %>% group_by(Var2) %>% summarise(amount_cells = sum(Freq)),5)"
   ]
  },
  {
   "cell_type": "code",
   "execution_count": 232,
   "id": "e804c293-70f0-4f22-9b93-111a6ceca896",
   "metadata": {},
   "outputs": [],
   "source": [
    "colnames(cells_per_sample_cluster) = c('Sample', 'Cluster_Cell_Type', 'amount_cells')"
   ]
  },
  {
   "cell_type": "code",
   "execution_count": 233,
   "id": "956f9c5d-26c2-47d7-a8ac-0db8a5bef401",
   "metadata": {},
   "outputs": [],
   "source": [
    "cells_per_sample_cluster$amount_cells_cat[(cells_per_sample_cluster$amount_cells <= 3)  ] = '0-3'"
   ]
  },
  {
   "cell_type": "code",
   "execution_count": 234,
   "id": "d6b68438-98e0-4787-a00b-7a696a16b18f",
   "metadata": {},
   "outputs": [],
   "source": [
    "cells_per_sample_cluster$amount_cells_cat[(cells_per_sample_cluster$amount_cells <= 10)  & (cells_per_sample_cluster$amount_cells >3 )] = '3-10'"
   ]
  },
  {
   "cell_type": "code",
   "execution_count": 235,
   "id": "2ed391da-db78-4fe7-b26a-4e2be384a490",
   "metadata": {},
   "outputs": [],
   "source": [
    "cells_per_sample_cluster$amount_cells_cat[(cells_per_sample_cluster$amount_cells <= 20)  & (cells_per_sample_cluster$amount_cells >10 )] = '10-20'"
   ]
  },
  {
   "cell_type": "code",
   "execution_count": 236,
   "id": "b637e7cf-3570-40c1-845e-d0f56f0d2655",
   "metadata": {},
   "outputs": [],
   "source": [
    "cells_per_sample_cluster$amount_cells_cat[(cells_per_sample_cluster$amount_cells <= 50)  & (cells_per_sample_cluster$amount_cells >20 )] = '20-50'"
   ]
  },
  {
   "cell_type": "code",
   "execution_count": 237,
   "id": "dfc2e465-ff63-42f6-89a1-f343552b30a4",
   "metadata": {},
   "outputs": [],
   "source": [
    "cells_per_sample_cluster$amount_cells_cat[(cells_per_sample_cluster$amount_cells > 50)  ] = '> 50'"
   ]
  },
  {
   "cell_type": "code",
   "execution_count": 238,
   "id": "8452efbf-357c-4b89-bfda-e635c8b9056f",
   "metadata": {},
   "outputs": [],
   "source": [
    "sample_class = unique(obs[,c('classification', 'sample_id')])"
   ]
  },
  {
   "cell_type": "code",
   "execution_count": 239,
   "id": "9e5bd898-81af-4016-be0b-6daa03b50ada",
   "metadata": {},
   "outputs": [],
   "source": [
    "cells_per_sample_cluster = merge(cells_per_sample_cluster, sample_class, by.x = 'Sample', by.y = 'sample_id')"
   ]
  },
  {
   "cell_type": "code",
   "execution_count": 240,
   "id": "72fca006-6680-475f-bcf6-b5f15b4d64a0",
   "metadata": {},
   "outputs": [
    {
     "data": {
      "text/html": [
       "<table class=\"dataframe\">\n",
       "<caption>A data.frame: 2 × 5</caption>\n",
       "<thead>\n",
       "\t<tr><th></th><th scope=col>Sample</th><th scope=col>Cluster_Cell_Type</th><th scope=col>amount_cells</th><th scope=col>amount_cells_cat</th><th scope=col>classification</th></tr>\n",
       "\t<tr><th></th><th scope=col>&lt;fct&gt;</th><th scope=col>&lt;fct&gt;</th><th scope=col>&lt;int&gt;</th><th scope=col>&lt;chr&gt;</th><th scope=col>&lt;fct&gt;</th></tr>\n",
       "</thead>\n",
       "<tbody>\n",
       "\t<tr><th scope=row>1</th><td>1.1-L1</td><td>ASDC  </td><td> 0</td><td>0-3  </td><td>acs_subacute</td></tr>\n",
       "\t<tr><th scope=row>2</th><td>1.1-L1</td><td>B cell</td><td>50</td><td>20-50</td><td>acs_subacute</td></tr>\n",
       "</tbody>\n",
       "</table>\n"
      ],
      "text/latex": [
       "A data.frame: 2 × 5\n",
       "\\begin{tabular}{r|lllll}\n",
       "  & Sample & Cluster\\_Cell\\_Type & amount\\_cells & amount\\_cells\\_cat & classification\\\\\n",
       "  & <fct> & <fct> & <int> & <chr> & <fct>\\\\\n",
       "\\hline\n",
       "\t1 & 1.1-L1 & ASDC   &  0 & 0-3   & acs\\_subacute\\\\\n",
       "\t2 & 1.1-L1 & B cell & 50 & 20-50 & acs\\_subacute\\\\\n",
       "\\end{tabular}\n"
      ],
      "text/markdown": [
       "\n",
       "A data.frame: 2 × 5\n",
       "\n",
       "| <!--/--> | Sample &lt;fct&gt; | Cluster_Cell_Type &lt;fct&gt; | amount_cells &lt;int&gt; | amount_cells_cat &lt;chr&gt; | classification &lt;fct&gt; |\n",
       "|---|---|---|---|---|---|\n",
       "| 1 | 1.1-L1 | ASDC   |  0 | 0-3   | acs_subacute |\n",
       "| 2 | 1.1-L1 | B cell | 50 | 20-50 | acs_subacute |\n",
       "\n"
      ],
      "text/plain": [
       "  Sample Cluster_Cell_Type amount_cells amount_cells_cat classification\n",
       "1 1.1-L1 ASDC               0           0-3              acs_subacute  \n",
       "2 1.1-L1 B cell            50           20-50            acs_subacute  "
      ]
     },
     "metadata": {},
     "output_type": "display_data"
    }
   ],
   "source": [
    "head(cells_per_sample_cluster,2)"
   ]
  },
  {
   "cell_type": "code",
   "execution_count": 241,
   "id": "03909a64-aa9f-44a9-be71-8c4bb73cc65d",
   "metadata": {},
   "outputs": [],
   "source": [
    "cells_per_sample_cluster$cell_type = str_replace(cells_per_sample_cluster$Cluster_Cell_Type, '\\\\d.*_', '')"
   ]
  },
  {
   "cell_type": "code",
   "execution_count": 242,
   "id": "01284c78-0c09-40e3-8d57-23debaf91ac8",
   "metadata": {},
   "outputs": [
    {
     "data": {
      "image/png": "[encoded data removed]",
      "text/plain": [
       "plot without title"
      ]
     },
     "metadata": {
      "image/png": {
       "height": 900,
       "width": 1800
      }
     },
     "output_type": "display_data"
    }
   ],
   "source": [
    "options(repr.plot.width=30, repr.plot.height=15)\n",
    "g = ggplot(cells_per_sample_cluster, aes(Sample, Cluster_Cell_Type, fill= amount_cells_cat)) + facet_grid(cell_type ~ classification , scales = \"free\", space = \"free\") + geom_tile()   + ggtitle(label = \"Amount cells per cluster and sample\")+ theme(axis.text.x=element_text(size=14, angle = 90), axis.text.y=element_text(size=14, angle = 0),axis.title=element_text(size=14,face=\"bold\")) + scale_fill_manual(name = \"Amount cells\", breaks=c( '0-3','3-10', \n",
    "                                 '10-20', '20-50', '> 50'), values =c(\"red4\",\"rosybrown1\",  \"seashell\", \"palegreen\", \"palegreen4\")) \n",
    "g"
   ]
  },
  {
   "cell_type": "code",
   "execution_count": 243,
   "id": "09c4175c-cbc4-4dbf-bafb-c99fb4bd7cf7",
   "metadata": {},
   "outputs": [
    {
     "data": {
      "text/html": [
       "<table class=\"dataframe\">\n",
       "<caption>A data.frame: 2 × 6</caption>\n",
       "<thead>\n",
       "\t<tr><th></th><th scope=col>Sample</th><th scope=col>Cluster_Cell_Type</th><th scope=col>amount_cells</th><th scope=col>amount_cells_cat</th><th scope=col>classification</th><th scope=col>cell_type</th></tr>\n",
       "\t<tr><th></th><th scope=col>&lt;fct&gt;</th><th scope=col>&lt;fct&gt;</th><th scope=col>&lt;int&gt;</th><th scope=col>&lt;chr&gt;</th><th scope=col>&lt;fct&gt;</th><th scope=col>&lt;chr&gt;</th></tr>\n",
       "</thead>\n",
       "<tbody>\n",
       "\t<tr><th scope=row>1</th><td>1.1-L1</td><td>ASDC  </td><td> 0</td><td>0-3  </td><td>acs_subacute</td><td>ASDC  </td></tr>\n",
       "\t<tr><th scope=row>2</th><td>1.1-L1</td><td>B cell</td><td>50</td><td>20-50</td><td>acs_subacute</td><td>B cell</td></tr>\n",
       "</tbody>\n",
       "</table>\n"
      ],
      "text/latex": [
       "A data.frame: 2 × 6\n",
       "\\begin{tabular}{r|llllll}\n",
       "  & Sample & Cluster\\_Cell\\_Type & amount\\_cells & amount\\_cells\\_cat & classification & cell\\_type\\\\\n",
       "  & <fct> & <fct> & <int> & <chr> & <fct> & <chr>\\\\\n",
       "\\hline\n",
       "\t1 & 1.1-L1 & ASDC   &  0 & 0-3   & acs\\_subacute & ASDC  \\\\\n",
       "\t2 & 1.1-L1 & B cell & 50 & 20-50 & acs\\_subacute & B cell\\\\\n",
       "\\end{tabular}\n"
      ],
      "text/markdown": [
       "\n",
       "A data.frame: 2 × 6\n",
       "\n",
       "| <!--/--> | Sample &lt;fct&gt; | Cluster_Cell_Type &lt;fct&gt; | amount_cells &lt;int&gt; | amount_cells_cat &lt;chr&gt; | classification &lt;fct&gt; | cell_type &lt;chr&gt; |\n",
       "|---|---|---|---|---|---|---|\n",
       "| 1 | 1.1-L1 | ASDC   |  0 | 0-3   | acs_subacute | ASDC   |\n",
       "| 2 | 1.1-L1 | B cell | 50 | 20-50 | acs_subacute | B cell |\n",
       "\n"
      ],
      "text/plain": [
       "  Sample Cluster_Cell_Type amount_cells amount_cells_cat classification\n",
       "1 1.1-L1 ASDC               0           0-3              acs_subacute  \n",
       "2 1.1-L1 B cell            50           20-50            acs_subacute  \n",
       "  cell_type\n",
       "1 ASDC     \n",
       "2 B cell   "
      ]
     },
     "metadata": {},
     "output_type": "display_data"
    }
   ],
   "source": [
    "head(cells_per_sample_cluster,2)"
   ]
  },
  {
   "cell_type": "markdown",
   "id": "80a40ea6-7a0e-4de0-8bee-231b6fd7b627",
   "metadata": {
    "tags": []
   },
   "source": [
    "## Analyze gene expression percentages per cluster"
   ]
  },
  {
   "cell_type": "code",
   "execution_count": 244,
   "id": "6515d89e-856e-45ec-b460-84e136727dfe",
   "metadata": {},
   "outputs": [],
   "source": [
    "gene_list = list()"
   ]
  },
  {
   "cell_type": "code",
   "execution_count": 245,
   "id": "b4576d9f-f2f7-46d2-9a11-06a07cdab4e8",
   "metadata": {},
   "outputs": [],
   "source": [
    "gene_cell_expr = list()"
   ]
  },
  {
   "cell_type": "code",
   "execution_count": 246,
   "id": "862f2232-4fa9-49cb-a60d-56c359073042",
   "metadata": {},
   "outputs": [],
   "source": [
    "clusters = unique(rna_sce$cluster_id)\n",
    "#clusters = unique(rna_sce$cell_type_Scanorama)"
   ]
  },
  {
   "cell_type": "code",
   "execution_count": 247,
   "id": "aba02558-f4c7-4f62-8f1f-c5baea05dbcf",
   "metadata": {},
   "outputs": [
    {
     "data": {
      "text/html": [
       "<style>\n",
       ".list-inline {list-style: none; margin:0; padding: 0}\n",
       ".list-inline>li {display: inline-block}\n",
       ".list-inline>li:not(:last-child)::after {content: \"\\00b7\"; padding: 0 .5ex}\n",
       "</style>\n",
       "<ol class=list-inline><li>'B cell'</li><li>'CD16 Mono'</li><li>'CD4 TCM'</li><li>'Plasmablast'</li><li>'CD8 TEM'</li><li>'CD4 Naive'</li><li>'CD14 Mono'</li><li>'Treg'</li><li>'CD4 TEM'</li><li>'NK'</li><li>'CD8 Naive'</li><li>'cDC2'</li><li>'dnT'</li><li>'MAIT'</li><li>'HSPC'</li><li>'gdT'</li><li>'Platelet'</li><li>'CD8 TCM'</li><li>'NK_CD56bright'</li><li>'CD4 CTL'</li><li>'cDC1'</li><li>'pDC'</li><li>'CD4 Proliferating'</li><li>'NK Proliferating'</li><li>'ILC'</li><li>'Doublet'</li><li>'CD8 Proliferating'</li><li>'ASDC'</li><li>'Eryth'</li></ol>\n"
      ],
      "text/latex": [
       "\\begin{enumerate*}\n",
       "\\item 'B cell'\n",
       "\\item 'CD16 Mono'\n",
       "\\item 'CD4 TCM'\n",
       "\\item 'Plasmablast'\n",
       "\\item 'CD8 TEM'\n",
       "\\item 'CD4 Naive'\n",
       "\\item 'CD14 Mono'\n",
       "\\item 'Treg'\n",
       "\\item 'CD4 TEM'\n",
       "\\item 'NK'\n",
       "\\item 'CD8 Naive'\n",
       "\\item 'cDC2'\n",
       "\\item 'dnT'\n",
       "\\item 'MAIT'\n",
       "\\item 'HSPC'\n",
       "\\item 'gdT'\n",
       "\\item 'Platelet'\n",
       "\\item 'CD8 TCM'\n",
       "\\item 'NK\\_CD56bright'\n",
       "\\item 'CD4 CTL'\n",
       "\\item 'cDC1'\n",
       "\\item 'pDC'\n",
       "\\item 'CD4 Proliferating'\n",
       "\\item 'NK Proliferating'\n",
       "\\item 'ILC'\n",
       "\\item 'Doublet'\n",
       "\\item 'CD8 Proliferating'\n",
       "\\item 'ASDC'\n",
       "\\item 'Eryth'\n",
       "\\end{enumerate*}\n"
      ],
      "text/markdown": [
       "1. 'B cell'\n",
       "2. 'CD16 Mono'\n",
       "3. 'CD4 TCM'\n",
       "4. 'Plasmablast'\n",
       "5. 'CD8 TEM'\n",
       "6. 'CD4 Naive'\n",
       "7. 'CD14 Mono'\n",
       "8. 'Treg'\n",
       "9. 'CD4 TEM'\n",
       "10. 'NK'\n",
       "11. 'CD8 Naive'\n",
       "12. 'cDC2'\n",
       "13. 'dnT'\n",
       "14. 'MAIT'\n",
       "15. 'HSPC'\n",
       "16. 'gdT'\n",
       "17. 'Platelet'\n",
       "18. 'CD8 TCM'\n",
       "19. 'NK_CD56bright'\n",
       "20. 'CD4 CTL'\n",
       "21. 'cDC1'\n",
       "22. 'pDC'\n",
       "23. 'CD4 Proliferating'\n",
       "24. 'NK Proliferating'\n",
       "25. 'ILC'\n",
       "26. 'Doublet'\n",
       "27. 'CD8 Proliferating'\n",
       "28. 'ASDC'\n",
       "29. 'Eryth'\n",
       "\n",
       "\n"
      ],
      "text/plain": [
       " [1] \"B cell\"            \"CD16 Mono\"         \"CD4 TCM\"          \n",
       " [4] \"Plasmablast\"       \"CD8 TEM\"           \"CD4 Naive\"        \n",
       " [7] \"CD14 Mono\"         \"Treg\"              \"CD4 TEM\"          \n",
       "[10] \"NK\"                \"CD8 Naive\"         \"cDC2\"             \n",
       "[13] \"dnT\"               \"MAIT\"              \"HSPC\"             \n",
       "[16] \"gdT\"               \"Platelet\"          \"CD8 TCM\"          \n",
       "[19] \"NK_CD56bright\"     \"CD4 CTL\"           \"cDC1\"             \n",
       "[22] \"pDC\"               \"CD4 Proliferating\" \"NK Proliferating\" \n",
       "[25] \"ILC\"               \"Doublet\"           \"CD8 Proliferating\"\n",
       "[28] \"ASDC\"              \"Eryth\"            "
      ]
     },
     "metadata": {},
     "output_type": "display_data"
    }
   ],
   "source": [
    "clusters"
   ]
  },
  {
   "cell_type": "code",
   "execution_count": 248,
   "id": "059276d0-9a4f-4dda-8fef-a0e2a9945d54",
   "metadata": {},
   "outputs": [],
   "source": [
    " for(i in clusters){\n",
    "#    print(i)\n",
    "    \n",
    "    # subset data on cluster\n",
    "    rna_sce_subset = rna_sce[,rna_sce$cluster_id== i] # cluster\n",
    "    # rna_sce_subset = rna_sce[,rna_sce$cell_type_Scanorama == i]  # cell-type\n",
    "    \n",
    "    amount_cells = dim(rna_sce_subset)[2]\n",
    "    \n",
    "    # Calculate percentage of cells expressing gene\n",
    "    amount_cells_expressing_gene = rowSums(assay(rna_sce_subset) > 0 )\n",
    "    perc_cells_expressing_gene = (amount_cells_expressing_gene/ amount_cells) * 100\n",
    "    \n",
    "#    hist(perc_cells_expressing_gene)\n",
    "    \n",
    "    gene_cell_expr[[i]] = data.frame(perc_cells_expressing_gene = perc_cells_expressing_gene, total_amount_cells_expressing_gene = amount_cells_expressing_gene)\n",
    "    \n",
    "    #gene_list[[i]] = names(perc_cells_expressing_gene[perc_cells_expressing_gene > subset_threshold])\n",
    "    }"
   ]
  },
  {
   "cell_type": "code",
   "execution_count": 249,
   "id": "031e936a-e446-4852-9f58-e3e553060ef0",
   "metadata": {},
   "outputs": [],
   "source": [
    " ### Resulting amount of genes per cluster"
   ]
  },
  {
   "cell_type": "code",
   "execution_count": 250,
   "id": "1a52bd6b-fbc3-40cc-91cd-8ab36f539908",
   "metadata": {},
   "outputs": [],
   "source": [
    "#sort(unlist(lapply(gene_list, function(x){length(x)})))"
   ]
  },
  {
   "cell_type": "code",
   "execution_count": 251,
   "id": "649b9952-8886-4933-8cca-2e606c3784a0",
   "metadata": {},
   "outputs": [],
   "source": [
    "gene_cell_expr_data = data.frame()"
   ]
  },
  {
   "cell_type": "code",
   "execution_count": 252,
   "id": "611f58ca-937e-4484-9288-2f9c5aeea1e9",
   "metadata": {},
   "outputs": [
    {
     "data": {
      "text/html": [
       "<table class=\"dataframe\">\n",
       "<caption>A data.frame: 6 × 2</caption>\n",
       "<thead>\n",
       "\t<tr><th></th><th scope=col>perc_cells_expressing_gene</th><th scope=col>total_amount_cells_expressing_gene</th></tr>\n",
       "\t<tr><th></th><th scope=col>&lt;dbl&gt;</th><th scope=col>&lt;int&gt;</th></tr>\n",
       "</thead>\n",
       "<tbody>\n",
       "\t<tr><th scope=row>AL627309.1</th><td>0</td><td>0</td></tr>\n",
       "\t<tr><th scope=row>AL627309.4</th><td>0</td><td>0</td></tr>\n",
       "\t<tr><th scope=row>AL669831.5</th><td>0</td><td>0</td></tr>\n",
       "\t<tr><th scope=row>FAM87B</th><td>0</td><td>0</td></tr>\n",
       "\t<tr><th scope=row>LINC00115</th><td>0</td><td>0</td></tr>\n",
       "\t<tr><th scope=row>FAM41C</th><td>0</td><td>0</td></tr>\n",
       "</tbody>\n",
       "</table>\n"
      ],
      "text/latex": [
       "A data.frame: 6 × 2\n",
       "\\begin{tabular}{r|ll}\n",
       "  & perc\\_cells\\_expressing\\_gene & total\\_amount\\_cells\\_expressing\\_gene\\\\\n",
       "  & <dbl> & <int>\\\\\n",
       "\\hline\n",
       "\tAL627309.1 & 0 & 0\\\\\n",
       "\tAL627309.4 & 0 & 0\\\\\n",
       "\tAL669831.5 & 0 & 0\\\\\n",
       "\tFAM87B & 0 & 0\\\\\n",
       "\tLINC00115 & 0 & 0\\\\\n",
       "\tFAM41C & 0 & 0\\\\\n",
       "\\end{tabular}\n"
      ],
      "text/markdown": [
       "\n",
       "A data.frame: 6 × 2\n",
       "\n",
       "| <!--/--> | perc_cells_expressing_gene &lt;dbl&gt; | total_amount_cells_expressing_gene &lt;int&gt; |\n",
       "|---|---|---|\n",
       "| AL627309.1 | 0 | 0 |\n",
       "| AL627309.4 | 0 | 0 |\n",
       "| AL669831.5 | 0 | 0 |\n",
       "| FAM87B | 0 | 0 |\n",
       "| LINC00115 | 0 | 0 |\n",
       "| FAM41C | 0 | 0 |\n",
       "\n"
      ],
      "text/plain": [
       "           perc_cells_expressing_gene total_amount_cells_expressing_gene\n",
       "AL627309.1 0                          0                                 \n",
       "AL627309.4 0                          0                                 \n",
       "AL669831.5 0                          0                                 \n",
       "FAM87B     0                          0                                 \n",
       "LINC00115  0                          0                                 \n",
       "FAM41C     0                          0                                 "
      ]
     },
     "metadata": {},
     "output_type": "display_data"
    }
   ],
   "source": [
    " head(gene_cell_expr[[i]])"
   ]
  },
  {
   "cell_type": "code",
   "execution_count": 253,
   "id": "127d49ef-7d83-434d-a2e8-da883fae2ebd",
   "metadata": {},
   "outputs": [
    {
     "data": {
      "text/html": [
       "<style>\n",
       ".list-inline {list-style: none; margin:0; padding: 0}\n",
       ".list-inline>li {display: inline-block}\n",
       ".list-inline>li:not(:last-child)::after {content: \"\\00b7\"; padding: 0 .5ex}\n",
       "</style>\n",
       "<ol class=list-inline><li>'perc_cells_expressing_gene'</li><li>'total_amount_cells_expressing_gene'</li></ol>\n"
      ],
      "text/latex": [
       "\\begin{enumerate*}\n",
       "\\item 'perc\\_cells\\_expressing\\_gene'\n",
       "\\item 'total\\_amount\\_cells\\_expressing\\_gene'\n",
       "\\end{enumerate*}\n"
      ],
      "text/markdown": [
       "1. 'perc_cells_expressing_gene'\n",
       "2. 'total_amount_cells_expressing_gene'\n",
       "\n",
       "\n"
      ],
      "text/plain": [
       "[1] \"perc_cells_expressing_gene\"         \"total_amount_cells_expressing_gene\""
      ]
     },
     "metadata": {},
     "output_type": "display_data"
    }
   ],
   "source": [
    " names(gene_cell_expr[[i]])"
   ]
  },
  {
   "cell_type": "code",
   "execution_count": 254,
   "id": "9ce0c23f-04f5-43fa-92f9-8af7ecd45eff",
   "metadata": {},
   "outputs": [],
   "source": [
    " for(i in names(gene_cell_expr)){\n",
    "    data = gene_cell_expr[[i]]\n",
    "    data$gene = rownames(gene_cell_expr[[i]])\n",
    "    data$cluster = i\n",
    "    gene_cell_expr_data = rbind( gene_cell_expr_data, data)\n",
    "    }"
   ]
  },
  {
   "cell_type": "code",
   "execution_count": 255,
   "id": "2ec33683-894c-4918-ac75-ed1bb50b0e9d",
   "metadata": {},
   "outputs": [
    {
     "data": {
      "text/html": [
       "<table class=\"dataframe\">\n",
       "<caption>A data.frame: 2 × 4</caption>\n",
       "<thead>\n",
       "\t<tr><th></th><th scope=col>perc_cells_expressing_gene</th><th scope=col>total_amount_cells_expressing_gene</th><th scope=col>gene</th><th scope=col>cluster</th></tr>\n",
       "\t<tr><th></th><th scope=col>&lt;dbl&gt;</th><th scope=col>&lt;int&gt;</th><th scope=col>&lt;chr&gt;</th><th scope=col>&lt;chr&gt;</th></tr>\n",
       "</thead>\n",
       "<tbody>\n",
       "\t<tr><th scope=row>AL627309.1</th><td>0.23400142</td><td>23</td><td>AL627309.1</td><td>B cell</td></tr>\n",
       "\t<tr><th scope=row>AL627309.4</th><td>0.06104385</td><td> 6</td><td>AL627309.4</td><td>B cell</td></tr>\n",
       "</tbody>\n",
       "</table>\n"
      ],
      "text/latex": [
       "A data.frame: 2 × 4\n",
       "\\begin{tabular}{r|llll}\n",
       "  & perc\\_cells\\_expressing\\_gene & total\\_amount\\_cells\\_expressing\\_gene & gene & cluster\\\\\n",
       "  & <dbl> & <int> & <chr> & <chr>\\\\\n",
       "\\hline\n",
       "\tAL627309.1 & 0.23400142 & 23 & AL627309.1 & B cell\\\\\n",
       "\tAL627309.4 & 0.06104385 &  6 & AL627309.4 & B cell\\\\\n",
       "\\end{tabular}\n"
      ],
      "text/markdown": [
       "\n",
       "A data.frame: 2 × 4\n",
       "\n",
       "| <!--/--> | perc_cells_expressing_gene &lt;dbl&gt; | total_amount_cells_expressing_gene &lt;int&gt; | gene &lt;chr&gt; | cluster &lt;chr&gt; |\n",
       "|---|---|---|---|---|\n",
       "| AL627309.1 | 0.23400142 | 23 | AL627309.1 | B cell |\n",
       "| AL627309.4 | 0.06104385 |  6 | AL627309.4 | B cell |\n",
       "\n"
      ],
      "text/plain": [
       "           perc_cells_expressing_gene total_amount_cells_expressing_gene\n",
       "AL627309.1 0.23400142                 23                                \n",
       "AL627309.4 0.06104385                  6                                \n",
       "           gene       cluster\n",
       "AL627309.1 AL627309.1 B cell \n",
       "AL627309.4 AL627309.4 B cell "
      ]
     },
     "metadata": {},
     "output_type": "display_data"
    }
   ],
   "source": [
    "head(gene_cell_expr_data,2)"
   ]
  },
  {
   "cell_type": "code",
   "execution_count": 256,
   "id": "b0fc92ea-ec58-4e28-a14e-893a55aaf4af",
   "metadata": {},
   "outputs": [],
   "source": [
    "write.csv(gene_cell_expr_data, paste0(result_path, '/G-Analysis/G0_Filter_Genes_Input_Correlations_Perc_Values', '.csv'))"
   ]
  },
  {
   "cell_type": "markdown",
   "id": "7cd53380-6f67-4b2a-803b-3d84c6dd5551",
   "metadata": {
    "tags": []
   },
   "source": [
    "## Add cluster, group and sample columns for aggregation"
   ]
  },
  {
   "cell_type": "code",
   "execution_count": 258,
   "id": "49237c20-76e1-4849-88e6-77bc323ad1be",
   "metadata": {},
   "outputs": [
    {
     "data": {
      "text/plain": [
       "class: SingleCellExperiment \n",
       "dim: 19221 148275 \n",
       "metadata(1): experiment_info\n",
       "assays(2): counts logcounts\n",
       "rownames(19221): AL627309.1 AL627309.4 ... AC004556.1 AC240274.1\n",
       "rowData names(0):\n",
       "colnames(148275): AAACCCACATACAGGG-1-L1 AAACCCACATGACTTG-1-L1 ...\n",
       "  TTTGTTGGTGGACCAA-1-L14 TTTGTTGTCGAAGAAT-1-L14\n",
       "colData names(33): cluster_id sample_id ... library_char ident\n",
       "reducedDimNames(0):\n",
       "mainExpName: RNA\n",
       "altExpNames(0):"
      ]
     },
     "metadata": {},
     "output_type": "display_data"
    }
   ],
   "source": [
    "#### Add cluster_id, sample_id and group_id columns\n",
    "(rna_sce <- prepSCE(rna_sce, \n",
    "    kid = 'cluster_id', # subpopulation assignments\n",
    "    gid = 'group_id',  # group IDs (ctrl/stim)   # sample_id; using dummy sample id which corresponds to cluster columns\n",
    "    sid = 'sample_id',   # sample IDs (ctrl/stim.1234)\n",
    "    drop = FALSE))  # drop all other colData columns"
   ]
  },
  {
   "cell_type": "code",
   "execution_count": 259,
   "id": "c021c773-197f-4aff-a21b-3756e60c9737",
   "metadata": {},
   "outputs": [],
   "source": [
    "nk <- length(kids <- levels(rna_sce$cluster_id))\n",
    "ns <- length(sids <- levels(rna_sce$sample_id))\n",
    "names(kids) <- kids; names(sids) <- sids"
   ]
  },
  {
   "cell_type": "code",
   "execution_count": 260,
   "id": "bed55744-ed88-4f95-8408-05acf67f263d",
   "metadata": {},
   "outputs": [
    {
     "data": {
      "text/html": [
       "29"
      ],
      "text/latex": [
       "29"
      ],
      "text/markdown": [
       "29"
      ],
      "text/plain": [
       "[1] 29"
      ]
     },
     "metadata": {},
     "output_type": "display_data"
    }
   ],
   "source": [
    "nk # amount of cluster"
   ]
  },
  {
   "cell_type": "code",
   "execution_count": 261,
   "id": "82de27b2-7d06-4b60-8922-c50296886d4b",
   "metadata": {},
   "outputs": [
    {
     "data": {
      "text/html": [
       "121"
      ],
      "text/latex": [
       "121"
      ],
      "text/markdown": [
       "121"
      ],
      "text/plain": [
       "[1] 121"
      ]
     },
     "metadata": {},
     "output_type": "display_data"
    }
   ],
   "source": [
    "ns # amount of samples"
   ]
  },
  {
   "cell_type": "code",
   "execution_count": 262,
   "id": "99deb36e-7fe1-482b-926a-c29c350d68bf",
   "metadata": {},
   "outputs": [
    {
     "data": {
      "text/html": [
       "<style>\n",
       ".dl-inline {width: auto; margin:0; padding: 0}\n",
       ".dl-inline>dt, .dl-inline>dd {float: none; width: auto; display: inline-block}\n",
       ".dl-inline>dt::after {content: \":\\0020\"; padding-right: .5ex}\n",
       ".dl-inline>dt:not(:first-of-type) {padding-left: .5ex}\n",
       "</style><dl class=dl-inline><dt>ASDC</dt><dd>'ASDC'</dd><dt>B cell</dt><dd>'B cell'</dd><dt>CD14 Mono</dt><dd>'CD14 Mono'</dd><dt>CD16 Mono</dt><dd>'CD16 Mono'</dd><dt>CD4 CTL</dt><dd>'CD4 CTL'</dd><dt>CD4 Naive</dt><dd>'CD4 Naive'</dd><dt>CD4 Proliferating</dt><dd>'CD4 Proliferating'</dd><dt>CD4 TCM</dt><dd>'CD4 TCM'</dd><dt>CD4 TEM</dt><dd>'CD4 TEM'</dd><dt>CD8 Naive</dt><dd>'CD8 Naive'</dd><dt>CD8 Proliferating</dt><dd>'CD8 Proliferating'</dd><dt>CD8 TCM</dt><dd>'CD8 TCM'</dd><dt>CD8 TEM</dt><dd>'CD8 TEM'</dd><dt>cDC1</dt><dd>'cDC1'</dd><dt>cDC2</dt><dd>'cDC2'</dd><dt>dnT</dt><dd>'dnT'</dd><dt>Doublet</dt><dd>'Doublet'</dd><dt>Eryth</dt><dd>'Eryth'</dd><dt>gdT</dt><dd>'gdT'</dd><dt>HSPC</dt><dd>'HSPC'</dd><dt>ILC</dt><dd>'ILC'</dd><dt>MAIT</dt><dd>'MAIT'</dd><dt>NK</dt><dd>'NK'</dd><dt>NK Proliferating</dt><dd>'NK Proliferating'</dd><dt>NK_CD56bright</dt><dd>'NK_CD56bright'</dd><dt>pDC</dt><dd>'pDC'</dd><dt>Plasmablast</dt><dd>'Plasmablast'</dd><dt>Platelet</dt><dd>'Platelet'</dd><dt>Treg</dt><dd>'Treg'</dd></dl>\n"
      ],
      "text/latex": [
       "\\begin{description*}\n",
       "\\item[ASDC] 'ASDC'\n",
       "\\item[B cell] 'B cell'\n",
       "\\item[CD14 Mono] 'CD14 Mono'\n",
       "\\item[CD16 Mono] 'CD16 Mono'\n",
       "\\item[CD4 CTL] 'CD4 CTL'\n",
       "\\item[CD4 Naive] 'CD4 Naive'\n",
       "\\item[CD4 Proliferating] 'CD4 Proliferating'\n",
       "\\item[CD4 TCM] 'CD4 TCM'\n",
       "\\item[CD4 TEM] 'CD4 TEM'\n",
       "\\item[CD8 Naive] 'CD8 Naive'\n",
       "\\item[CD8 Proliferating] 'CD8 Proliferating'\n",
       "\\item[CD8 TCM] 'CD8 TCM'\n",
       "\\item[CD8 TEM] 'CD8 TEM'\n",
       "\\item[cDC1] 'cDC1'\n",
       "\\item[cDC2] 'cDC2'\n",
       "\\item[dnT] 'dnT'\n",
       "\\item[Doublet] 'Doublet'\n",
       "\\item[Eryth] 'Eryth'\n",
       "\\item[gdT] 'gdT'\n",
       "\\item[HSPC] 'HSPC'\n",
       "\\item[ILC] 'ILC'\n",
       "\\item[MAIT] 'MAIT'\n",
       "\\item[NK] 'NK'\n",
       "\\item[NK Proliferating] 'NK Proliferating'\n",
       "\\item[NK\\textbackslash{}\\_CD56bright] 'NK\\_CD56bright'\n",
       "\\item[pDC] 'pDC'\n",
       "\\item[Plasmablast] 'Plasmablast'\n",
       "\\item[Platelet] 'Platelet'\n",
       "\\item[Treg] 'Treg'\n",
       "\\end{description*}\n"
      ],
      "text/markdown": [
       "ASDC\n",
       ":   'ASDC'B cell\n",
       ":   'B cell'CD14 Mono\n",
       ":   'CD14 Mono'CD16 Mono\n",
       ":   'CD16 Mono'CD4 CTL\n",
       ":   'CD4 CTL'CD4 Naive\n",
       ":   'CD4 Naive'CD4 Proliferating\n",
       ":   'CD4 Proliferating'CD4 TCM\n",
       ":   'CD4 TCM'CD4 TEM\n",
       ":   'CD4 TEM'CD8 Naive\n",
       ":   'CD8 Naive'CD8 Proliferating\n",
       ":   'CD8 Proliferating'CD8 TCM\n",
       ":   'CD8 TCM'CD8 TEM\n",
       ":   'CD8 TEM'cDC1\n",
       ":   'cDC1'cDC2\n",
       ":   'cDC2'dnT\n",
       ":   'dnT'Doublet\n",
       ":   'Doublet'Eryth\n",
       ":   'Eryth'gdT\n",
       ":   'gdT'HSPC\n",
       ":   'HSPC'ILC\n",
       ":   'ILC'MAIT\n",
       ":   'MAIT'NK\n",
       ":   'NK'NK Proliferating\n",
       ":   'NK Proliferating'NK_CD56bright\n",
       ":   'NK_CD56bright'pDC\n",
       ":   'pDC'Plasmablast\n",
       ":   'Plasmablast'Platelet\n",
       ":   'Platelet'Treg\n",
       ":   'Treg'\n",
       "\n"
      ],
      "text/plain": [
       "               ASDC              B cell           CD14 Mono           CD16 Mono \n",
       "             \"ASDC\"            \"B cell\"         \"CD14 Mono\"         \"CD16 Mono\" \n",
       "            CD4 CTL           CD4 Naive   CD4 Proliferating             CD4 TCM \n",
       "          \"CD4 CTL\"         \"CD4 Naive\" \"CD4 Proliferating\"           \"CD4 TCM\" \n",
       "            CD4 TEM           CD8 Naive   CD8 Proliferating             CD8 TCM \n",
       "          \"CD4 TEM\"         \"CD8 Naive\" \"CD8 Proliferating\"           \"CD8 TCM\" \n",
       "            CD8 TEM                cDC1                cDC2                 dnT \n",
       "          \"CD8 TEM\"              \"cDC1\"              \"cDC2\"               \"dnT\" \n",
       "            Doublet               Eryth                 gdT                HSPC \n",
       "          \"Doublet\"             \"Eryth\"               \"gdT\"              \"HSPC\" \n",
       "                ILC                MAIT                  NK    NK Proliferating \n",
       "              \"ILC\"              \"MAIT\"                \"NK\"  \"NK Proliferating\" \n",
       "      NK_CD56bright                 pDC         Plasmablast            Platelet \n",
       "    \"NK_CD56bright\"               \"pDC\"       \"Plasmablast\"          \"Platelet\" \n",
       "               Treg \n",
       "             \"Treg\" "
      ]
     },
     "metadata": {},
     "output_type": "display_data"
    }
   ],
   "source": [
    "kids  # cluster ids"
   ]
  },
  {
   "cell_type": "code",
   "execution_count": 263,
   "id": "c5e55ba4-9f1e-40f9-aec0-49dcb4ceb641",
   "metadata": {},
   "outputs": [
    {
     "data": {
      "text/html": [
       "29"
      ],
      "text/latex": [
       "29"
      ],
      "text/markdown": [
       "29"
      ],
      "text/plain": [
       "[1] 29"
      ]
     },
     "metadata": {},
     "output_type": "display_data"
    }
   ],
   "source": [
    "length(kids) # amount cluster-id"
   ]
  },
  {
   "cell_type": "code",
   "execution_count": 265,
   "id": "4387b36e-999b-433b-bd07-7cb2111ff2eb",
   "metadata": {},
   "outputs": [
    {
     "data": {
      "text/html": [
       "<style>\n",
       ".list-inline {list-style: none; margin:0; padding: 0}\n",
       ".list-inline>li {display: inline-block}\n",
       ".list-inline>li:not(:last-child)::after {content: \"\\00b7\"; padding: 0 .5ex}\n",
       "</style>\n",
       "<ol class=list-inline><li>'cluster_id'</li><li>'sample_id'</li><li>'group_id'</li><li>'nCount_HTO'</li><li>'B2_Scanorama_Singlet_cluster'</li><li>'B2_Scanorama_Singlet_rb_mt_cluster'</li><li>'cell_type_Scanorama'</li><li>'cluster_cell_type_Scanorama'</li><li>'classification_measurement'</li><li>'delta_ef_value_group_measurement'</li><li>'m_y'</li><li>'measurement_y'</li><li>'delta_ef_value_group'</li><li>'delta_ef_value'</li><li>'sample_y'</li><li>'age'</li><li>'sex'</li><li>'m_x'</li><li>'classification'</li><li>'group_y'</li><li>'measurement_x'</li><li>'sample_x'</li><li>'library'</li><li>'id'</li><li>'read'</li><li>'pattern'</li><li>'sequence'</li><li>'feature_type'</li><li>'in_sample'</li><li>'display_name'</li><li>'group_x'</li><li>'library_char'</li><li>'ident'</li></ol>\n"
      ],
      "text/latex": [
       "\\begin{enumerate*}\n",
       "\\item 'cluster\\_id'\n",
       "\\item 'sample\\_id'\n",
       "\\item 'group\\_id'\n",
       "\\item 'nCount\\_HTO'\n",
       "\\item 'B2\\_Scanorama\\_Singlet\\_cluster'\n",
       "\\item 'B2\\_Scanorama\\_Singlet\\_rb\\_mt\\_cluster'\n",
       "\\item 'cell\\_type\\_Scanorama'\n",
       "\\item 'cluster\\_cell\\_type\\_Scanorama'\n",
       "\\item 'classification\\_measurement'\n",
       "\\item 'delta\\_ef\\_value\\_group\\_measurement'\n",
       "\\item 'm\\_y'\n",
       "\\item 'measurement\\_y'\n",
       "\\item 'delta\\_ef\\_value\\_group'\n",
       "\\item 'delta\\_ef\\_value'\n",
       "\\item 'sample\\_y'\n",
       "\\item 'age'\n",
       "\\item 'sex'\n",
       "\\item 'm\\_x'\n",
       "\\item 'classification'\n",
       "\\item 'group\\_y'\n",
       "\\item 'measurement\\_x'\n",
       "\\item 'sample\\_x'\n",
       "\\item 'library'\n",
       "\\item 'id'\n",
       "\\item 'read'\n",
       "\\item 'pattern'\n",
       "\\item 'sequence'\n",
       "\\item 'feature\\_type'\n",
       "\\item 'in\\_sample'\n",
       "\\item 'display\\_name'\n",
       "\\item 'group\\_x'\n",
       "\\item 'library\\_char'\n",
       "\\item 'ident'\n",
       "\\end{enumerate*}\n"
      ],
      "text/markdown": [
       "1. 'cluster_id'\n",
       "2. 'sample_id'\n",
       "3. 'group_id'\n",
       "4. 'nCount_HTO'\n",
       "5. 'B2_Scanorama_Singlet_cluster'\n",
       "6. 'B2_Scanorama_Singlet_rb_mt_cluster'\n",
       "7. 'cell_type_Scanorama'\n",
       "8. 'cluster_cell_type_Scanorama'\n",
       "9. 'classification_measurement'\n",
       "10. 'delta_ef_value_group_measurement'\n",
       "11. 'm_y'\n",
       "12. 'measurement_y'\n",
       "13. 'delta_ef_value_group'\n",
       "14. 'delta_ef_value'\n",
       "15. 'sample_y'\n",
       "16. 'age'\n",
       "17. 'sex'\n",
       "18. 'm_x'\n",
       "19. 'classification'\n",
       "20. 'group_y'\n",
       "21. 'measurement_x'\n",
       "22. 'sample_x'\n",
       "23. 'library'\n",
       "24. 'id'\n",
       "25. 'read'\n",
       "26. 'pattern'\n",
       "27. 'sequence'\n",
       "28. 'feature_type'\n",
       "29. 'in_sample'\n",
       "30. 'display_name'\n",
       "31. 'group_x'\n",
       "32. 'library_char'\n",
       "33. 'ident'\n",
       "\n",
       "\n"
      ],
      "text/plain": [
       " [1] \"cluster_id\"                         \"sample_id\"                         \n",
       " [3] \"group_id\"                           \"nCount_HTO\"                        \n",
       " [5] \"B2_Scanorama_Singlet_cluster\"       \"B2_Scanorama_Singlet_rb_mt_cluster\"\n",
       " [7] \"cell_type_Scanorama\"                \"cluster_cell_type_Scanorama\"       \n",
       " [9] \"classification_measurement\"         \"delta_ef_value_group_measurement\"  \n",
       "[11] \"m_y\"                                \"measurement_y\"                     \n",
       "[13] \"delta_ef_value_group\"               \"delta_ef_value\"                    \n",
       "[15] \"sample_y\"                           \"age\"                               \n",
       "[17] \"sex\"                                \"m_x\"                               \n",
       "[19] \"classification\"                     \"group_y\"                           \n",
       "[21] \"measurement_x\"                      \"sample_x\"                          \n",
       "[23] \"library\"                            \"id\"                                \n",
       "[25] \"read\"                               \"pattern\"                           \n",
       "[27] \"sequence\"                           \"feature_type\"                      \n",
       "[29] \"in_sample\"                          \"display_name\"                      \n",
       "[31] \"group_x\"                            \"library_char\"                      \n",
       "[33] \"ident\"                             "
      ]
     },
     "metadata": {},
     "output_type": "display_data"
    }
   ],
   "source": [
    "names(colData(rna_sce))"
   ]
  },
  {
   "cell_type": "markdown",
   "id": "8f18af27-7161-4ba3-8d5d-d110b129d4ed",
   "metadata": {
    "tags": []
   },
   "source": [
    "## Aggregate single cell to pseudo-bulk data"
   ]
  },
  {
   "cell_type": "code",
   "execution_count": 266,
   "id": "10d3af42-6af3-41e9-8118-728975daad04",
   "metadata": {},
   "outputs": [],
   "source": [
    "### Needs to be executed when filtering conditions are changed!!"
   ]
  },
  {
   "cell_type": "code",
   "execution_count": 267,
   "id": "3fa37159-2094-46fc-ac6f-accb27946589",
   "metadata": {},
   "outputs": [
    {
     "data": {
      "text/plain": [
       "class: SingleCellExperiment \n",
       "dim: 19221 148275 \n",
       "metadata(1): experiment_info\n",
       "assays(2): counts logcounts\n",
       "rownames(19221): AL627309.1 AL627309.4 ... AC004556.1 AC240274.1\n",
       "rowData names(0):\n",
       "colnames(148275): AAACCCACATACAGGG-1-L1 AAACCCACATGACTTG-1-L1 ...\n",
       "  TTTGTTGGTGGACCAA-1-L14 TTTGTTGTCGAAGAAT-1-L14\n",
       "colData names(33): cluster_id sample_id ... library_char ident\n",
       "reducedDimNames(0):\n",
       "mainExpName: RNA\n",
       "altExpNames(0):"
      ]
     },
     "metadata": {},
     "output_type": "display_data"
    }
   ],
   "source": [
    "rna_sce"
   ]
  },
  {
   "cell_type": "code",
   "execution_count": 268,
   "id": "064ce8c9-3ece-40eb-a699-d531215e6f1a",
   "metadata": {},
   "outputs": [],
   "source": [
    "pb <- aggregateData(rna_sce,\n",
    "    assay = \"counts\", fun = \"mean\",\n",
    "    by = c(\"cluster_id\", \"sample_id\"))\n",
    "# one sheet per subpopulation"
   ]
  },
  {
   "cell_type": "code",
   "execution_count": 269,
   "id": "c2d83ac0-dc09-4a77-ba5e-a12470daa79c",
   "metadata": {},
   "outputs": [
    {
     "data": {
      "text/plain": [
       "class: SingleCellExperiment \n",
       "dim: 19221 121 \n",
       "metadata(2): experiment_info agg_pars\n",
       "assays(29): ASDC B cell ... Platelet Treg\n",
       "rownames(19221): AL627309.1 AL627309.4 ... AC004556.1 AC240274.1\n",
       "rowData names(0):\n",
       "colnames(121): 1.1-L1 10-L11 ... 9.2-L4 9.3-L7\n",
       "colData names(26): group_id classification_measurement ... library_char\n",
       "  ident\n",
       "reducedDimNames(0):\n",
       "mainExpName: NULL\n",
       "altExpNames(0):"
      ]
     },
     "metadata": {},
     "output_type": "display_data"
    }
   ],
   "source": [
    "pb"
   ]
  },
  {
   "cell_type": "code",
   "execution_count": 270,
   "id": "d38c711b-9cda-4b99-a3d3-1fbf72732817",
   "metadata": {},
   "outputs": [],
   "source": [
    "#names(colData(pb))"
   ]
  },
  {
   "cell_type": "code",
   "execution_count": 271,
   "id": "0487cfa3-9205-4dc1-8e0f-c267db6d677f",
   "metadata": {},
   "outputs": [],
   "source": [
    "### Save aggregated data"
   ]
  },
  {
   "cell_type": "code",
   "execution_count": 273,
   "id": "030e3218-8000-4cc0-85ff-75e05428cf52",
   "metadata": {},
   "outputs": [],
   "source": [
    "save(  pb , file = paste0(result_path, '/G-Analysis/G0_aggregated_RNA_input_correlations_all.RDS'))"
   ]
  },
  {
   "cell_type": "code",
   "execution_count": null,
   "id": "bc6493c1-b204-4252-9ccc-8358b1f701d6",
   "metadata": {},
   "outputs": [],
   "source": []
  },
  {
   "cell_type": "code",
   "execution_count": null,
   "id": "59766da0-9ccc-42d9-b162-bfe05ba5ac98",
   "metadata": {},
   "outputs": [],
   "source": []
  }
 ],
 "metadata": {
  "kernelspec": {
   "display_name": "R",
   "language": "R",
   "name": "ir"
  },
  "language_info": {
   "codemirror_mode": "r",
   "file_extension": ".r",
   "mimetype": "text/x-r-source",
   "name": "R",
   "pygments_lexer": "r",
   "version": "4.1.1"
  },
  "toc-autonumbering": true,
  "toc-showcode": false,
  "toc-showmarkdowntxt": false,
  "toc-showtags": false
 },
 "nbformat": 4,
 "nbformat_minor": 5
}

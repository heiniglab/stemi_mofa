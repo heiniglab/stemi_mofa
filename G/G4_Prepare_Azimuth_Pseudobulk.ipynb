{
 "cells": [
  {
   "cell_type": "code",
   "execution_count": 15,
   "id": "1632f901-cdb4-4ffc-8498-bb899c6bca6a",
   "metadata": {},
   "outputs": [],
   "source": [
    "# Load Seurat object and create pseudobulk for MOFA analysis based on azimuth annotations"
   ]
  },
  {
   "cell_type": "markdown",
   "id": "6fb4f2cb-8b92-45cf-b4b3-9ce3e0c656d0",
   "metadata": {
    "tags": []
   },
   "source": [
    "#############################################\n",
    "# Prerequisites - Load Libraries"
   ]
  },
  {
   "cell_type": "code",
   "execution_count": 16,
   "id": "24273cba-319a-431c-9a92-edc161c02103",
   "metadata": {
    "tags": []
   },
   "outputs": [
    {
     "name": "stderr",
     "output_type": "stream",
     "text": [
      "Warning message in read.table(file = file, header = header, sep = sep, quote = quote, :\n",
      "“incomplete final line found by readTableHeader on '../conda_environment/Environment_Configs.csv'”\n"
     ]
    },
    {
     "name": "stdout",
     "output_type": "stream",
     "text": [
      "[1] \"/home/icb/corinna.losert/miniconda3/envs/stark_stemi_R_Env_4_1//lib/R/library\"\n"
     ]
    }
   ],
   "source": [
    "source('MS0_Libraries.r')"
   ]
  },
  {
   "cell_type": "markdown",
   "id": "372814ca-7f2b-4f60-810e-664ce4208695",
   "metadata": {
    "tags": []
   },
   "source": [
    "###############################################\n",
    "# Preqrequisites Configurations & Parameters"
   ]
  },
  {
   "cell_type": "code",
   "execution_count": 17,
   "id": "2d4149a6-4ce5-4d39-bf24-2961d1723d4a",
   "metadata": {},
   "outputs": [],
   "source": [
    "data_path =  '../data/current'"
   ]
  },
  {
   "cell_type": "code",
   "execution_count": 18,
   "id": "ec4afaf2-c5a3-47a6-8103-4b4c0ff38496",
   "metadata": {},
   "outputs": [],
   "source": [
    "result_path =  '../results/current'"
   ]
  },
  {
   "cell_type": "code",
   "execution_count": 19,
   "id": "4cf8589f-4c50-4746-8fbe-778067b891c3",
   "metadata": {},
   "outputs": [
    {
     "data": {
      "text/html": [
       "'../data/current'"
      ],
      "text/latex": [
       "'../data/current'"
      ],
      "text/markdown": [
       "'../data/current'"
      ],
      "text/plain": [
       "[1] \"../data/current\""
      ]
     },
     "metadata": {},
     "output_type": "display_data"
    }
   ],
   "source": [
    "data_path"
   ]
  },
  {
   "cell_type": "code",
   "execution_count": 20,
   "id": "2651b465-ce87-4d85-bd0a-e26cfe2a6173",
   "metadata": {},
   "outputs": [],
   "source": [
    "libraries = c('L1', 'L2', 'L3', 'L4', 'L5', 'L6', 'L7', 'L8', 'L9', 'L10','L11', 'L12', 'L13', 'L14')"
   ]
  },
  {
   "cell_type": "markdown",
   "id": "5dea8679-c933-48ea-af8b-cf9d2cfc5b15",
   "metadata": {},
   "source": [
    "# Load Data "
   ]
  },
  {
   "cell_type": "markdown",
   "id": "b42a9566-612f-4e1f-b658-676b22e5e69e",
   "metadata": {
    "tags": []
   },
   "source": [
    "## Load Seurat object"
   ]
  },
  {
   "cell_type": "code",
   "execution_count": 21,
   "id": "bd4c90d4-0743-44f0-9b52-6ba8b4bec086",
   "metadata": {},
   "outputs": [],
   "source": [
    "### Raw data counts\n",
    "# contains raw count matrix filtered on only Singlets for all genes (~19.000)"
   ]
  },
  {
   "cell_type": "code",
   "execution_count": 22,
   "id": "342956a0-0375-4eb0-9286-143e403ff3b8",
   "metadata": {
    "collapsed": true,
    "jupyter": {
     "outputs_hidden": true
    },
    "tags": []
   },
   "outputs": [
    {
     "name": "stdout",
     "output_type": "stream",
     "text": [
      "[1] \"../data/current/analysis/B/B6_DE_Integrated_Singlet_processed_rna.h5seurat\"\n",
      "[1] \"2023-01-21 12:14:40 CET\"\n"
     ]
    },
    {
     "name": "stderr",
     "output_type": "stream",
     "text": [
      "Validating h5Seurat file\n",
      "\n",
      "Initializing RNA with data\n",
      "\n",
      "Adding counts for RNA\n",
      "\n",
      "Adding scale.data for RNA\n",
      "\n",
      "Adding feature-level metadata for RNA\n",
      "\n",
      "Adding command information\n",
      "\n",
      "Adding cell-level metadata\n",
      "\n"
     ]
    }
   ],
   "source": [
    "###### Load the generated seurat objects\n",
    "\n",
    "source_text = paste( data_path, '/analysis/B/B6_DE_Integrated_Singlet_processed_rna.h5seurat', sep = '')\n",
    "print(source_text)\n",
    "print(file.info(source_text)$mtime)\n",
    "rna_seurat_data = LoadH5Seurat(source_text, assays = \"RNA\", quietly = TRUE )\n"
   ]
  },
  {
   "cell_type": "code",
   "execution_count": 23,
   "id": "dd1870f3-078b-4d58-8457-7d9c09f5478b",
   "metadata": {},
   "outputs": [],
   "source": [
    "rna_seurat_data_raw = rna_seurat_data"
   ]
  },
  {
   "cell_type": "code",
   "execution_count": 24,
   "id": "7fae2287-f74c-4d54-b37f-b60d67b37d6e",
   "metadata": {},
   "outputs": [],
   "source": [
    "### Decide what to use as input"
   ]
  },
  {
   "cell_type": "code",
   "execution_count": 25,
   "id": "d47d85bf-25ac-412e-b2c2-2074397d3f5c",
   "metadata": {},
   "outputs": [],
   "source": [
    "rna_seurat_data = rna_seurat_data"
   ]
  },
  {
   "cell_type": "code",
   "execution_count": 26,
   "id": "44950318-d364-4f0b-a6c1-6e68cdb533f1",
   "metadata": {},
   "outputs": [],
   "source": [
    "### Further data checks"
   ]
  },
  {
   "cell_type": "code",
   "execution_count": 27,
   "id": "7a311fd6-d4e7-47e2-aefe-cf06f38f6692",
   "metadata": {},
   "outputs": [
    {
     "data": {
      "text/html": [
       "<style>\n",
       ".dl-inline {width: auto; margin:0; padding: 0}\n",
       ".dl-inline>dt, .dl-inline>dd {float: none; width: auto; display: inline-block}\n",
       ".dl-inline>dt::after {content: \":\\0020\"; padding-right: .5ex}\n",
       ".dl-inline>dt:not(:first-of-type) {padding-left: .5ex}\n",
       "</style><dl class=dl-inline><dt>AAACCCACATACAGGG-1-L1</dt><dd>3947</dd><dt>AAACCCACATGACTTG-1-L1</dt><dd>5870</dd><dt>AAACCCAGTCATCAGT-1-L1</dt><dd>3888</dd><dt>AAACCCAGTGGTAATA-1-L1</dt><dd>5094</dd><dt>AAACCCATCATCACAG-1-L1</dt><dd>17310</dd><dt>AAACCCATCGATGGAG-1-L1</dt><dd>4839</dd></dl>\n"
      ],
      "text/latex": [
       "\\begin{description*}\n",
       "\\item[AAACCCACATACAGGG-1-L1] 3947\n",
       "\\item[AAACCCACATGACTTG-1-L1] 5870\n",
       "\\item[AAACCCAGTCATCAGT-1-L1] 3888\n",
       "\\item[AAACCCAGTGGTAATA-1-L1] 5094\n",
       "\\item[AAACCCATCATCACAG-1-L1] 17310\n",
       "\\item[AAACCCATCGATGGAG-1-L1] 4839\n",
       "\\end{description*}\n"
      ],
      "text/markdown": [
       "AAACCCACATACAGGG-1-L1\n",
       ":   3947AAACCCACATGACTTG-1-L1\n",
       ":   5870AAACCCAGTCATCAGT-1-L1\n",
       ":   3888AAACCCAGTGGTAATA-1-L1\n",
       ":   5094AAACCCATCATCACAG-1-L1\n",
       ":   17310AAACCCATCGATGGAG-1-L1\n",
       ":   4839\n",
       "\n"
      ],
      "text/plain": [
       "AAACCCACATACAGGG-1-L1 AAACCCACATGACTTG-1-L1 AAACCCAGTCATCAGT-1-L1 \n",
       "                 3947                  5870                  3888 \n",
       "AAACCCAGTGGTAATA-1-L1 AAACCCATCATCACAG-1-L1 AAACCCATCGATGGAG-1-L1 \n",
       "                 5094                 17310                  4839 "
      ]
     },
     "metadata": {},
     "output_type": "display_data"
    }
   ],
   "source": [
    "head(colSums(x = rna_seurat_data, slot = \"counts\") )  # raw count values from original matrix"
   ]
  },
  {
   "cell_type": "code",
   "execution_count": 28,
   "id": "2f35ba7c-825a-41fc-a638-d0f986681bbc",
   "metadata": {
    "tags": []
   },
   "outputs": [],
   "source": [
    "# str(rna_seurat_data)"
   ]
  },
  {
   "cell_type": "code",
   "execution_count": 29,
   "id": "3457aa22-ef49-4876-b429-c6ae07750ac0",
   "metadata": {},
   "outputs": [
    {
     "data": {
      "text/html": [
       "'RNA'"
      ],
      "text/latex": [
       "'RNA'"
      ],
      "text/markdown": [
       "'RNA'"
      ],
      "text/plain": [
       "[1] \"RNA\""
      ]
     },
     "metadata": {},
     "output_type": "display_data"
    }
   ],
   "source": [
    "DefaultAssay(rna_seurat_data)"
   ]
  },
  {
   "cell_type": "code",
   "execution_count": 30,
   "id": "485e49fc-ac5e-477d-8091-bcfbf2e62e1b",
   "metadata": {},
   "outputs": [
    {
     "data": {
      "text/plain": [
       "An object of class Seurat \n",
       "19221 features across 148275 samples within 1 assay \n",
       "Active assay: RNA (19221 features, 0 variable features)\n",
       " 3 layers present: counts, data, scale.data"
      ]
     },
     "metadata": {},
     "output_type": "display_data"
    }
   ],
   "source": [
    "rna_seurat_data"
   ]
  },
  {
   "cell_type": "markdown",
   "id": "9dc1350b-03a7-4af2-bff6-08bbbc8a419b",
   "metadata": {},
   "source": [
    "## Azimuth Annotation File"
   ]
  },
  {
   "cell_type": "code",
   "execution_count": 31,
   "id": "fb97db92-24a3-46a1-bc16-fcab679b8f63",
   "metadata": {},
   "outputs": [],
   "source": [
    "### Load the saved azimuth annotations to add to seurat object"
   ]
  },
  {
   "cell_type": "code",
   "execution_count": 32,
   "id": "393df4f1-979c-4fc3-9a33-a8023c971c97",
   "metadata": {},
   "outputs": [
    {
     "name": "stdout",
     "output_type": "stream",
     "text": [
      "[1] \"2023-01-21 12:14:40 CET\"\n"
     ]
    }
   ],
   "source": [
    "path = paste0(data_path, '/analysis/G/G2_Cell_Annotations_Azimuth.csv')\n",
    "azimuth_annotation = read.csv(path)\n",
    "print(file.info(source_text)$mtime)"
   ]
  },
  {
   "cell_type": "code",
   "execution_count": 33,
   "id": "48cde59d-8ee8-4010-8527-d7f835e83aed",
   "metadata": {},
   "outputs": [],
   "source": [
    "### concatenate cell and library identifier"
   ]
  },
  {
   "cell_type": "code",
   "execution_count": 34,
   "id": "8c37f82e-5bcd-47d7-b7ef-7b42c0c33b35",
   "metadata": {},
   "outputs": [],
   "source": [
    "azimuth_annotation$cell_library = paste0(azimuth_annotation$cell, '-', azimuth_annotation$library)"
   ]
  },
  {
   "cell_type": "code",
   "execution_count": 35,
   "id": "d6b817a1-5584-415b-a639-2de838759102",
   "metadata": {},
   "outputs": [],
   "source": [
    "### Combine B-cell annotations (as they should be merged in one annotation):\n",
    "azimuth_annotation$predicted.celltype.l2 = str_replace(azimuth_annotation$predicted.celltype.l2 ,\n",
    "                                                       'B naive|B memory|B intermediate', 'B cell')"
   ]
  },
  {
   "cell_type": "code",
   "execution_count": 36,
   "id": "f623f06c-4937-4e2b-a775-318819f2e59e",
   "metadata": {},
   "outputs": [],
   "source": [
    "### Define cell-type to use in the end"
   ]
  },
  {
   "cell_type": "code",
   "execution_count": 37,
   "id": "3beb75f2-da12-43bb-a90b-c97d6534a863",
   "metadata": {},
   "outputs": [],
   "source": [
    "total_azimuth_filter = azimuth_annotation %>% group_by(predicted.celltype.l2) %>% dplyr::count()"
   ]
  },
  {
   "cell_type": "code",
   "execution_count": 38,
   "id": "34f302e5-10a9-48ee-a241-68e428f39cd1",
   "metadata": {},
   "outputs": [],
   "source": [
    "total_azimuth_filter = total_azimuth_filter[total_azimuth_filter$n > 1000,c('predicted.celltype.l2')]"
   ]
  },
  {
   "cell_type": "code",
   "execution_count": 39,
   "id": "ef1d07a0-9cf7-469b-aacb-14befd083f37",
   "metadata": {},
   "outputs": [],
   "source": [
    "#total_azimuth_filter"
   ]
  },
  {
   "cell_type": "code",
   "execution_count": 41,
   "id": "ee0aa908-e1e5-46ca-bd57-03a2ae0cce9b",
   "metadata": {},
   "outputs": [],
   "source": [
    "### Load the mapping of azimuth annotations from Roy \n",
    "# (in the Groningen data cell-types are named differently than the azimuth output\n",
    "# this maps the two different names onto each other)"
   ]
  },
  {
   "cell_type": "code",
   "execution_count": 43,
   "id": "ce37c90a-2192-4b33-a6b5-b9cbf1064214",
   "metadata": {},
   "outputs": [],
   "source": [
    "azimuth_mapping = read.csv(paste0(result_path, '/Reproduction/azimuth_roy_mapping.csv'))"
   ]
  },
  {
   "cell_type": "code",
   "execution_count": 44,
   "id": "dac0b5f0-ec89-467d-aeb9-483976ef587b",
   "metadata": {},
   "outputs": [],
   "source": [
    "azimuth_mapping = azimuth_mapping[azimuth_mapping$annot != '',]"
   ]
  },
  {
   "cell_type": "code",
   "execution_count": 45,
   "id": "157e7df4-fbd3-4850-bdaf-f1498b5a1af1",
   "metadata": {},
   "outputs": [
    {
     "data": {
      "text/html": [
       "<table class=\"dataframe\">\n",
       "<caption>A data.frame: 2 × 2</caption>\n",
       "<thead>\n",
       "\t<tr><th></th><th scope=col>annot_roy</th><th scope=col>annot</th></tr>\n",
       "\t<tr><th></th><th scope=col>&lt;chr&gt;</th><th scope=col>&lt;chr&gt;</th></tr>\n",
       "</thead>\n",
       "<tbody>\n",
       "\t<tr><th scope=row>2</th><td>B_intermediate</td><td>B intermediate</td></tr>\n",
       "\t<tr><th scope=row>3</th><td>B_memory      </td><td>B memory      </td></tr>\n",
       "</tbody>\n",
       "</table>\n"
      ],
      "text/latex": [
       "A data.frame: 2 × 2\n",
       "\\begin{tabular}{r|ll}\n",
       "  & annot\\_roy & annot\\\\\n",
       "  & <chr> & <chr>\\\\\n",
       "\\hline\n",
       "\t2 & B\\_intermediate & B intermediate\\\\\n",
       "\t3 & B\\_memory       & B memory      \\\\\n",
       "\\end{tabular}\n"
      ],
      "text/markdown": [
       "\n",
       "A data.frame: 2 × 2\n",
       "\n",
       "| <!--/--> | annot_roy &lt;chr&gt; | annot &lt;chr&gt; |\n",
       "|---|---|---|\n",
       "| 2 | B_intermediate | B intermediate |\n",
       "| 3 | B_memory       | B memory       |\n",
       "\n"
      ],
      "text/plain": [
       "  annot_roy      annot         \n",
       "2 B_intermediate B intermediate\n",
       "3 B_memory       B memory      "
      ]
     },
     "metadata": {},
     "output_type": "display_data"
    }
   ],
   "source": [
    "head(azimuth_mapping,2)"
   ]
  },
  {
   "cell_type": "markdown",
   "id": "bb5686ee-7302-4b8f-927e-0b74de33a6a8",
   "metadata": {
    "tags": []
   },
   "source": [
    "# Data Processing"
   ]
  },
  {
   "cell_type": "markdown",
   "id": "0da0c4fa-1d3a-4302-a598-86807be89669",
   "metadata": {
    "tags": []
   },
   "source": [
    "## Subset data"
   ]
  },
  {
   "cell_type": "code",
   "execution_count": 46,
   "id": "4b84dee6-bbb7-4ef2-ab3d-b0a632489ba2",
   "metadata": {},
   "outputs": [
    {
     "data": {
      "text/html": [
       "<style>\n",
       ".list-inline {list-style: none; margin:0; padding: 0}\n",
       ".list-inline>li {display: inline-block}\n",
       ".list-inline>li:not(:last-child)::after {content: \"\\00b7\"; padding: 0 .5ex}\n",
       "</style>\n",
       "<ol class=list-inline><li>19221</li><li>148275</li></ol>\n"
      ],
      "text/latex": [
       "\\begin{enumerate*}\n",
       "\\item 19221\n",
       "\\item 148275\n",
       "\\end{enumerate*}\n"
      ],
      "text/markdown": [
       "1. 19221\n",
       "2. 148275\n",
       "\n",
       "\n"
      ],
      "text/plain": [
       "[1]  19221 148275"
      ]
     },
     "metadata": {},
     "output_type": "display_data"
    }
   ],
   "source": [
    "dim(rna_seurat_data)"
   ]
  },
  {
   "cell_type": "code",
   "execution_count": 47,
   "id": "909aca79-78a3-4fb2-ab36-63cc088440ae",
   "metadata": {},
   "outputs": [],
   "source": [
    "rna_seurat_data_subset = rna_seurat_data"
   ]
  },
  {
   "cell_type": "code",
   "execution_count": 48,
   "id": "82ff29d8-65fd-44b7-914f-0d9b022bc172",
   "metadata": {},
   "outputs": [
    {
     "data": {
      "text/html": [
       "<style>\n",
       ".list-inline {list-style: none; margin:0; padding: 0}\n",
       ".list-inline>li {display: inline-block}\n",
       ".list-inline>li:not(:last-child)::after {content: \"\\00b7\"; padding: 0 .5ex}\n",
       "</style>\n",
       "<ol class=list-inline><li>19221</li><li>148275</li></ol>\n"
      ],
      "text/latex": [
       "\\begin{enumerate*}\n",
       "\\item 19221\n",
       "\\item 148275\n",
       "\\end{enumerate*}\n"
      ],
      "text/markdown": [
       "1. 19221\n",
       "2. 148275\n",
       "\n",
       "\n"
      ],
      "text/plain": [
       "[1]  19221 148275"
      ]
     },
     "metadata": {},
     "output_type": "display_data"
    }
   ],
   "source": [
    "dim(rna_seurat_data_subset)"
   ]
  },
  {
   "cell_type": "markdown",
   "id": "f1c9a1c5-936b-443f-aee1-8d8715788d4a",
   "metadata": {
    "tags": []
   },
   "source": [
    "## Define columns for aggregation to pseudobulk + data type conversions"
   ]
  },
  {
   "cell_type": "code",
   "execution_count": 49,
   "id": "b7f60ef4-db4c-4c4e-a770-10e2256bad13",
   "metadata": {},
   "outputs": [],
   "source": [
    "# Define column containing sample- identifier\n",
    "sample_column = 'display_name' "
   ]
  },
  {
   "cell_type": "code",
   "execution_count": 50,
   "id": "1a102852-3c89-4b18-b1aa-232119f31f14",
   "metadata": {},
   "outputs": [],
   "source": [
    "# Define column containing cell-type annotations\n",
    "cluster_column =  'predicted.celltype.l2' "
   ]
  },
  {
   "cell_type": "code",
   "execution_count": 51,
   "id": "f4e482e6-1ea6-42e6-a699-1b942d941140",
   "metadata": {},
   "outputs": [],
   "source": [
    "# Adjust meta-data based on definitiona"
   ]
  },
  {
   "cell_type": "code",
   "execution_count": 52,
   "id": "70e459f3-a645-4da3-88d4-e8a5d656cb23",
   "metadata": {},
   "outputs": [],
   "source": [
    "obs = rna_seurat_data_subset@meta.data"
   ]
  },
  {
   "cell_type": "code",
   "execution_count": 53,
   "id": "45377d3f-8062-4652-b060-e312bf983338",
   "metadata": {},
   "outputs": [],
   "source": [
    "obs$cell = rownames(obs)"
   ]
  },
  {
   "cell_type": "code",
   "execution_count": 55,
   "id": "4eae1383-40fb-42df-a162-797a1146635f",
   "metadata": {},
   "outputs": [
    {
     "data": {
      "text/html": [
       "<table class=\"dataframe\">\n",
       "<caption>A data.frame: 2 × 29</caption>\n",
       "<thead>\n",
       "\t<tr><th></th><th scope=col>nCount_HTO</th><th scope=col>B2_Scanorama_Singlet_cluster</th><th scope=col>B2_Scanorama_Singlet_rb_mt_cluster</th><th scope=col>cell_type_Scanorama</th><th scope=col>cluster_cell_type_Scanorama</th><th scope=col>classification_measurement</th><th scope=col>delta_ef_value_group_measurement</th><th scope=col>m_y</th><th scope=col>measurement_y</th><th scope=col>delta_ef_value_group</th><th scope=col>⋯</th><th scope=col>library</th><th scope=col>id</th><th scope=col>read</th><th scope=col>pattern</th><th scope=col>sequence</th><th scope=col>feature_type</th><th scope=col>in_sample</th><th scope=col>display_name</th><th scope=col>group_x</th><th scope=col>cell</th></tr>\n",
       "\t<tr><th></th><th scope=col>&lt;dbl&gt;</th><th scope=col>&lt;fct&gt;</th><th scope=col>&lt;fct&gt;</th><th scope=col>&lt;fct&gt;</th><th scope=col>&lt;fct&gt;</th><th scope=col>&lt;fct&gt;</th><th scope=col>&lt;fct&gt;</th><th scope=col>&lt;fct&gt;</th><th scope=col>&lt;fct&gt;</th><th scope=col>&lt;fct&gt;</th><th scope=col>⋯</th><th scope=col>&lt;fct&gt;</th><th scope=col>&lt;fct&gt;</th><th scope=col>&lt;fct&gt;</th><th scope=col>&lt;fct&gt;</th><th scope=col>&lt;fct&gt;</th><th scope=col>&lt;fct&gt;</th><th scope=col>&lt;dbl&gt;</th><th scope=col>&lt;fct&gt;</th><th scope=col>&lt;fct&gt;</th><th scope=col>&lt;chr&gt;</th></tr>\n",
       "</thead>\n",
       "<tbody>\n",
       "\t<tr><th scope=row>AAACCCACATACAGGG-1-L1</th><td>1574</td><td>8</td><td>8</td><td>B-cell                 </td><td>8_B-cell                 </td><td>acs_w_o_infection_TP1</td><td>x_greater_1_TP1</td><td>M9 (14,3) </td><td>TP1</td><td>x_greater_1</td><td>⋯</td><td>L1</td><td>HTO_B0259</td><td>R2</td><td>5PNNNNNNNNNN(BC)</td><td>CAGTAGTCACGGTCA</td><td>Antibody Capture</td><td>1</td><td>9.1</td><td>TP1</td><td>AAACCCACATACAGGG-1-L1</td></tr>\n",
       "\t<tr><th scope=row>AAACCCACATGACTTG-1-L1</th><td> 379</td><td>9</td><td>9</td><td>Monocytes - CD16_FCGR3A</td><td>9_Monocytes - CD16_FCGR3A</td><td>acs_w_o_infection_TP1</td><td>x_greater_1_TP1</td><td>M9 (14,3) </td><td>TP1</td><td>x_greater_1</td><td>⋯</td><td>L1</td><td>HTO_B0259</td><td>R2</td><td>5PNNNNNNNNNN(BC)</td><td>CAGTAGTCACGGTCA</td><td>Antibody Capture</td><td>1</td><td>9.1</td><td>TP1</td><td>AAACCCACATGACTTG-1-L1</td></tr>\n",
       "</tbody>\n",
       "</table>\n"
      ],
      "text/latex": [
       "A data.frame: 2 × 29\n",
       "\\begin{tabular}{r|lllllllllllllllllllll}\n",
       "  & nCount\\_HTO & B2\\_Scanorama\\_Singlet\\_cluster & B2\\_Scanorama\\_Singlet\\_rb\\_mt\\_cluster & cell\\_type\\_Scanorama & cluster\\_cell\\_type\\_Scanorama & classification\\_measurement & delta\\_ef\\_value\\_group\\_measurement & m\\_y & measurement\\_y & delta\\_ef\\_value\\_group & ⋯ & library & id & read & pattern & sequence & feature\\_type & in\\_sample & display\\_name & group\\_x & cell\\\\\n",
       "  & <dbl> & <fct> & <fct> & <fct> & <fct> & <fct> & <fct> & <fct> & <fct> & <fct> & ⋯ & <fct> & <fct> & <fct> & <fct> & <fct> & <fct> & <dbl> & <fct> & <fct> & <chr>\\\\\n",
       "\\hline\n",
       "\tAAACCCACATACAGGG-1-L1 & 1574 & 8 & 8 & B-cell                  & 8\\_B-cell                  & acs\\_w\\_o\\_infection\\_TP1 & x\\_greater\\_1\\_TP1 & M9 (14,3)  & TP1 & x\\_greater\\_1 & ⋯ & L1 & HTO\\_B0259 & R2 & 5PNNNNNNNNNN(BC) & CAGTAGTCACGGTCA & Antibody Capture & 1 & 9.1 & TP1 & AAACCCACATACAGGG-1-L1\\\\\n",
       "\tAAACCCACATGACTTG-1-L1 &  379 & 9 & 9 & Monocytes - CD16\\_FCGR3A & 9\\_Monocytes - CD16\\_FCGR3A & acs\\_w\\_o\\_infection\\_TP1 & x\\_greater\\_1\\_TP1 & M9 (14,3)  & TP1 & x\\_greater\\_1 & ⋯ & L1 & HTO\\_B0259 & R2 & 5PNNNNNNNNNN(BC) & CAGTAGTCACGGTCA & Antibody Capture & 1 & 9.1 & TP1 & AAACCCACATGACTTG-1-L1\\\\\n",
       "\\end{tabular}\n"
      ],
      "text/markdown": [
       "\n",
       "A data.frame: 2 × 29\n",
       "\n",
       "| <!--/--> | nCount_HTO &lt;dbl&gt; | B2_Scanorama_Singlet_cluster &lt;fct&gt; | B2_Scanorama_Singlet_rb_mt_cluster &lt;fct&gt; | cell_type_Scanorama &lt;fct&gt; | cluster_cell_type_Scanorama &lt;fct&gt; | classification_measurement &lt;fct&gt; | delta_ef_value_group_measurement &lt;fct&gt; | m_y &lt;fct&gt; | measurement_y &lt;fct&gt; | delta_ef_value_group &lt;fct&gt; | ⋯ ⋯ | library &lt;fct&gt; | id &lt;fct&gt; | read &lt;fct&gt; | pattern &lt;fct&gt; | sequence &lt;fct&gt; | feature_type &lt;fct&gt; | in_sample &lt;dbl&gt; | display_name &lt;fct&gt; | group_x &lt;fct&gt; | cell &lt;chr&gt; |\n",
       "|---|---|---|---|---|---|---|---|---|---|---|---|---|---|---|---|---|---|---|---|---|---|\n",
       "| AAACCCACATACAGGG-1-L1 | 1574 | 8 | 8 | B-cell                  | 8_B-cell                  | acs_w_o_infection_TP1 | x_greater_1_TP1 | M9 (14,3)  | TP1 | x_greater_1 | ⋯ | L1 | HTO_B0259 | R2 | 5PNNNNNNNNNN(BC) | CAGTAGTCACGGTCA | Antibody Capture | 1 | 9.1 | TP1 | AAACCCACATACAGGG-1-L1 |\n",
       "| AAACCCACATGACTTG-1-L1 |  379 | 9 | 9 | Monocytes - CD16_FCGR3A | 9_Monocytes - CD16_FCGR3A | acs_w_o_infection_TP1 | x_greater_1_TP1 | M9 (14,3)  | TP1 | x_greater_1 | ⋯ | L1 | HTO_B0259 | R2 | 5PNNNNNNNNNN(BC) | CAGTAGTCACGGTCA | Antibody Capture | 1 | 9.1 | TP1 | AAACCCACATGACTTG-1-L1 |\n",
       "\n"
      ],
      "text/plain": [
       "                      nCount_HTO B2_Scanorama_Singlet_cluster\n",
       "AAACCCACATACAGGG-1-L1 1574       8                           \n",
       "AAACCCACATGACTTG-1-L1  379       9                           \n",
       "                      B2_Scanorama_Singlet_rb_mt_cluster\n",
       "AAACCCACATACAGGG-1-L1 8                                 \n",
       "AAACCCACATGACTTG-1-L1 9                                 \n",
       "                      cell_type_Scanorama     cluster_cell_type_Scanorama\n",
       "AAACCCACATACAGGG-1-L1 B-cell                  8_B-cell                   \n",
       "AAACCCACATGACTTG-1-L1 Monocytes - CD16_FCGR3A 9_Monocytes - CD16_FCGR3A  \n",
       "                      classification_measurement\n",
       "AAACCCACATACAGGG-1-L1 acs_w_o_infection_TP1     \n",
       "AAACCCACATGACTTG-1-L1 acs_w_o_infection_TP1     \n",
       "                      delta_ef_value_group_measurement m_y        measurement_y\n",
       "AAACCCACATACAGGG-1-L1 x_greater_1_TP1                  M9 (14,3)  TP1          \n",
       "AAACCCACATGACTTG-1-L1 x_greater_1_TP1                  M9 (14,3)  TP1          \n",
       "                      delta_ef_value_group ⋯ library id        read\n",
       "AAACCCACATACAGGG-1-L1 x_greater_1          ⋯ L1      HTO_B0259 R2  \n",
       "AAACCCACATGACTTG-1-L1 x_greater_1          ⋯ L1      HTO_B0259 R2  \n",
       "                      pattern          sequence        feature_type    \n",
       "AAACCCACATACAGGG-1-L1 5PNNNNNNNNNN(BC) CAGTAGTCACGGTCA Antibody Capture\n",
       "AAACCCACATGACTTG-1-L1 5PNNNNNNNNNN(BC) CAGTAGTCACGGTCA Antibody Capture\n",
       "                      in_sample display_name group_x cell                 \n",
       "AAACCCACATACAGGG-1-L1 1         9.1          TP1     AAACCCACATACAGGG-1-L1\n",
       "AAACCCACATGACTTG-1-L1 1         9.1          TP1     AAACCCACATGACTTG-1-L1"
      ]
     },
     "metadata": {},
     "output_type": "display_data"
    }
   ],
   "source": [
    "head(obs,2)"
   ]
  },
  {
   "cell_type": "code",
   "execution_count": 57,
   "id": "00dee4f9-b483-4d08-9844-4ac82f46b48b",
   "metadata": {},
   "outputs": [
    {
     "data": {
      "text/html": [
       "<style>\n",
       ".list-inline {list-style: none; margin:0; padding: 0}\n",
       ".list-inline>li {display: inline-block}\n",
       ".list-inline>li:not(:last-child)::after {content: \"\\00b7\"; padding: 0 .5ex}\n",
       "</style>\n",
       "<ol class=list-inline><li>'nCount_HTO'</li><li>'B2_Scanorama_Singlet_cluster'</li><li>'B2_Scanorama_Singlet_rb_mt_cluster'</li><li>'cell_type_Scanorama'</li><li>'cluster_cell_type_Scanorama'</li><li>'classification_measurement'</li><li>'delta_ef_value_group_measurement'</li><li>'m_y'</li><li>'measurement_y'</li><li>'delta_ef_value_group'</li><li>'delta_ef_value'</li><li>'sample_y'</li><li>'age'</li><li>'sex'</li><li>'m_x'</li><li>'classification'</li><li>'group_y'</li><li>'measurement_x'</li><li>'sample_x'</li><li>'library'</li><li>'id'</li><li>'read'</li><li>'pattern'</li><li>'sequence'</li><li>'feature_type'</li><li>'in_sample'</li><li>'display_name'</li><li>'group_x'</li><li>'cell'</li></ol>\n"
      ],
      "text/latex": [
       "\\begin{enumerate*}\n",
       "\\item 'nCount\\_HTO'\n",
       "\\item 'B2\\_Scanorama\\_Singlet\\_cluster'\n",
       "\\item 'B2\\_Scanorama\\_Singlet\\_rb\\_mt\\_cluster'\n",
       "\\item 'cell\\_type\\_Scanorama'\n",
       "\\item 'cluster\\_cell\\_type\\_Scanorama'\n",
       "\\item 'classification\\_measurement'\n",
       "\\item 'delta\\_ef\\_value\\_group\\_measurement'\n",
       "\\item 'm\\_y'\n",
       "\\item 'measurement\\_y'\n",
       "\\item 'delta\\_ef\\_value\\_group'\n",
       "\\item 'delta\\_ef\\_value'\n",
       "\\item 'sample\\_y'\n",
       "\\item 'age'\n",
       "\\item 'sex'\n",
       "\\item 'm\\_x'\n",
       "\\item 'classification'\n",
       "\\item 'group\\_y'\n",
       "\\item 'measurement\\_x'\n",
       "\\item 'sample\\_x'\n",
       "\\item 'library'\n",
       "\\item 'id'\n",
       "\\item 'read'\n",
       "\\item 'pattern'\n",
       "\\item 'sequence'\n",
       "\\item 'feature\\_type'\n",
       "\\item 'in\\_sample'\n",
       "\\item 'display\\_name'\n",
       "\\item 'group\\_x'\n",
       "\\item 'cell'\n",
       "\\end{enumerate*}\n"
      ],
      "text/markdown": [
       "1. 'nCount_HTO'\n",
       "2. 'B2_Scanorama_Singlet_cluster'\n",
       "3. 'B2_Scanorama_Singlet_rb_mt_cluster'\n",
       "4. 'cell_type_Scanorama'\n",
       "5. 'cluster_cell_type_Scanorama'\n",
       "6. 'classification_measurement'\n",
       "7. 'delta_ef_value_group_measurement'\n",
       "8. 'm_y'\n",
       "9. 'measurement_y'\n",
       "10. 'delta_ef_value_group'\n",
       "11. 'delta_ef_value'\n",
       "12. 'sample_y'\n",
       "13. 'age'\n",
       "14. 'sex'\n",
       "15. 'm_x'\n",
       "16. 'classification'\n",
       "17. 'group_y'\n",
       "18. 'measurement_x'\n",
       "19. 'sample_x'\n",
       "20. 'library'\n",
       "21. 'id'\n",
       "22. 'read'\n",
       "23. 'pattern'\n",
       "24. 'sequence'\n",
       "25. 'feature_type'\n",
       "26. 'in_sample'\n",
       "27. 'display_name'\n",
       "28. 'group_x'\n",
       "29. 'cell'\n",
       "\n",
       "\n"
      ],
      "text/plain": [
       " [1] \"nCount_HTO\"                         \"B2_Scanorama_Singlet_cluster\"      \n",
       " [3] \"B2_Scanorama_Singlet_rb_mt_cluster\" \"cell_type_Scanorama\"               \n",
       " [5] \"cluster_cell_type_Scanorama\"        \"classification_measurement\"        \n",
       " [7] \"delta_ef_value_group_measurement\"   \"m_y\"                               \n",
       " [9] \"measurement_y\"                      \"delta_ef_value_group\"              \n",
       "[11] \"delta_ef_value\"                     \"sample_y\"                          \n",
       "[13] \"age\"                                \"sex\"                               \n",
       "[15] \"m_x\"                                \"classification\"                    \n",
       "[17] \"group_y\"                            \"measurement_x\"                     \n",
       "[19] \"sample_x\"                           \"library\"                           \n",
       "[21] \"id\"                                 \"read\"                              \n",
       "[23] \"pattern\"                            \"sequence\"                          \n",
       "[25] \"feature_type\"                       \"in_sample\"                         \n",
       "[27] \"display_name\"                       \"group_x\"                           \n",
       "[29] \"cell\"                              "
      ]
     },
     "metadata": {},
     "output_type": "display_data"
    }
   ],
   "source": [
    "colnames(obs)"
   ]
  },
  {
   "cell_type": "code",
   "execution_count": 58,
   "id": "ff74e4a4-5816-4041-925e-926cf27360a5",
   "metadata": {},
   "outputs": [],
   "source": [
    "obs$library = as.character(obs$library)"
   ]
  },
  {
   "cell_type": "code",
   "execution_count": 59,
   "id": "dd4e815c-dad0-4f86-bfec-08300320ee1d",
   "metadata": {},
   "outputs": [],
   "source": [
    "obs$group_id = as.character(obs[['in_sample']]) ## DUMMY variable as group-id is needed for aggregation to pseudobulk (with the used function)"
   ]
  },
  {
   "cell_type": "code",
   "execution_count": 60,
   "id": "6939c9b3-2f49-417b-9e58-7b3457f732fb",
   "metadata": {},
   "outputs": [],
   "source": [
    "obs$sample_id   = paste0(as.character(obs[[sample_column]] ), '-', obs$library)"
   ]
  },
  {
   "cell_type": "code",
   "execution_count": 61,
   "id": "173f096b-1f48-47b4-acb6-440a640e1f32",
   "metadata": {},
   "outputs": [],
   "source": [
    "## add azimuth annotations to the obs meta-data"
   ]
  },
  {
   "cell_type": "code",
   "execution_count": 62,
   "id": "a07d2c97-0ead-458d-9a97-0cb3d45c747d",
   "metadata": {},
   "outputs": [
    {
     "data": {
      "text/html": [
       "<table class=\"dataframe\">\n",
       "<caption>A data.frame: 2 × 8</caption>\n",
       "<thead>\n",
       "\t<tr><th></th><th scope=col>X</th><th scope=col>nCount_RNA</th><th scope=col>nFeature_RNA</th><th scope=col>predicted.celltype.l2</th><th scope=col>predicted.celltype.l2.score</th><th scope=col>library</th><th scope=col>cell</th><th scope=col>cell_library</th></tr>\n",
       "\t<tr><th></th><th scope=col>&lt;chr&gt;</th><th scope=col>&lt;int&gt;</th><th scope=col>&lt;int&gt;</th><th scope=col>&lt;chr&gt;</th><th scope=col>&lt;dbl&gt;</th><th scope=col>&lt;chr&gt;</th><th scope=col>&lt;chr&gt;</th><th scope=col>&lt;chr&gt;</th></tr>\n",
       "</thead>\n",
       "<tbody>\n",
       "\t<tr><th scope=row>1</th><td>AAACCCACATACAGGG-1</td><td>3947</td><td>1232</td><td>B cell   </td><td>0.9668187</td><td>L1</td><td>AAACCCACATACAGGG-1</td><td>AAACCCACATACAGGG-1-L1</td></tr>\n",
       "\t<tr><th scope=row>2</th><td>AAACCCACATGACTTG-1</td><td>5871</td><td>1890</td><td>CD16 Mono</td><td>1.0000000</td><td>L1</td><td>AAACCCACATGACTTG-1</td><td>AAACCCACATGACTTG-1-L1</td></tr>\n",
       "</tbody>\n",
       "</table>\n"
      ],
      "text/latex": [
       "A data.frame: 2 × 8\n",
       "\\begin{tabular}{r|llllllll}\n",
       "  & X & nCount\\_RNA & nFeature\\_RNA & predicted.celltype.l2 & predicted.celltype.l2.score & library & cell & cell\\_library\\\\\n",
       "  & <chr> & <int> & <int> & <chr> & <dbl> & <chr> & <chr> & <chr>\\\\\n",
       "\\hline\n",
       "\t1 & AAACCCACATACAGGG-1 & 3947 & 1232 & B cell    & 0.9668187 & L1 & AAACCCACATACAGGG-1 & AAACCCACATACAGGG-1-L1\\\\\n",
       "\t2 & AAACCCACATGACTTG-1 & 5871 & 1890 & CD16 Mono & 1.0000000 & L1 & AAACCCACATGACTTG-1 & AAACCCACATGACTTG-1-L1\\\\\n",
       "\\end{tabular}\n"
      ],
      "text/markdown": [
       "\n",
       "A data.frame: 2 × 8\n",
       "\n",
       "| <!--/--> | X &lt;chr&gt; | nCount_RNA &lt;int&gt; | nFeature_RNA &lt;int&gt; | predicted.celltype.l2 &lt;chr&gt; | predicted.celltype.l2.score &lt;dbl&gt; | library &lt;chr&gt; | cell &lt;chr&gt; | cell_library &lt;chr&gt; |\n",
       "|---|---|---|---|---|---|---|---|---|\n",
       "| 1 | AAACCCACATACAGGG-1 | 3947 | 1232 | B cell    | 0.9668187 | L1 | AAACCCACATACAGGG-1 | AAACCCACATACAGGG-1-L1 |\n",
       "| 2 | AAACCCACATGACTTG-1 | 5871 | 1890 | CD16 Mono | 1.0000000 | L1 | AAACCCACATGACTTG-1 | AAACCCACATGACTTG-1-L1 |\n",
       "\n"
      ],
      "text/plain": [
       "  X                  nCount_RNA nFeature_RNA predicted.celltype.l2\n",
       "1 AAACCCACATACAGGG-1 3947       1232         B cell               \n",
       "2 AAACCCACATGACTTG-1 5871       1890         CD16 Mono            \n",
       "  predicted.celltype.l2.score library cell               cell_library         \n",
       "1 0.9668187                   L1      AAACCCACATACAGGG-1 AAACCCACATACAGGG-1-L1\n",
       "2 1.0000000                   L1      AAACCCACATGACTTG-1 AAACCCACATGACTTG-1-L1"
      ]
     },
     "metadata": {},
     "output_type": "display_data"
    }
   ],
   "source": [
    "head(azimuth_annotation,2)"
   ]
  },
  {
   "cell_type": "code",
   "execution_count": 63,
   "id": "f2d66640-c52f-4872-97ea-bb3d79171869",
   "metadata": {},
   "outputs": [],
   "source": [
    "obs = merge(obs, azimuth_annotation[,c( 'predicted.celltype.l2','cell_library' )], by.x = 'cell', by.y = 'cell_library' )"
   ]
  },
  {
   "cell_type": "code",
   "execution_count": 64,
   "id": "bb559b83-a9e1-4813-9a3a-33331ca77ae7",
   "metadata": {},
   "outputs": [
    {
     "data": {
      "text/html": [
       "148275"
      ],
      "text/latex": [
       "148275"
      ],
      "text/markdown": [
       "148275"
      ],
      "text/plain": [
       "[1] 148275"
      ]
     },
     "metadata": {},
     "output_type": "display_data"
    }
   ],
   "source": [
    "nrow(obs)"
   ]
  },
  {
   "cell_type": "code",
   "execution_count": 65,
   "id": "26dd59d0-6244-4985-a6dc-5f8d26822e7c",
   "metadata": {},
   "outputs": [],
   "source": [
    "### Define the different columns"
   ]
  },
  {
   "cell_type": "code",
   "execution_count": 66,
   "id": "32a766df-f734-418a-8026-2a6d513b0469",
   "metadata": {},
   "outputs": [],
   "source": [
    "obs$cluster_id = as.character(obs[[cluster_column]])"
   ]
  },
  {
   "cell_type": "code",
   "execution_count": 67,
   "id": "1a1ce0fd-4354-4414-a1e2-b0133925d30e",
   "metadata": {},
   "outputs": [],
   "source": [
    "rownames(obs) = obs$cell"
   ]
  },
  {
   "cell_type": "code",
   "execution_count": 68,
   "id": "c27be89e-c2f0-4bec-b5bf-c17d38e357b5",
   "metadata": {},
   "outputs": [],
   "source": [
    "### Add to the seurat dataset"
   ]
  },
  {
   "cell_type": "code",
   "execution_count": 69,
   "id": "62fee9ee-b3ad-4290-99fd-fb18627c4f6f",
   "metadata": {},
   "outputs": [],
   "source": [
    "rna_seurat_data_subset = AddMetaData(object = rna_seurat_data_subset, metadata = obs[,'library', drop = FALSE], col.name = 'library_char')"
   ]
  },
  {
   "cell_type": "code",
   "execution_count": 70,
   "id": "9130da8d-abc7-41a6-8a4d-d2ae4af2120b",
   "metadata": {},
   "outputs": [],
   "source": [
    "rna_seurat_data_subset = AddMetaData(object = rna_seurat_data_subset, metadata = obs[,'group_id', drop = FALSE], col.name = 'group_id')"
   ]
  },
  {
   "cell_type": "code",
   "execution_count": 71,
   "id": "6f5751ef-f741-4174-8928-fe3f260de089",
   "metadata": {},
   "outputs": [],
   "source": [
    "rna_seurat_data_subset = AddMetaData(object = rna_seurat_data_subset, metadata = obs[,'cluster_id', drop = FALSE], col.name = 'cluster_id')"
   ]
  },
  {
   "cell_type": "code",
   "execution_count": 72,
   "id": "9490fa4b-e786-4939-979a-03d3ecdca905",
   "metadata": {},
   "outputs": [],
   "source": [
    "rna_seurat_data_subset = AddMetaData(object = rna_seurat_data_subset, metadata = obs[,'sample_id', drop = FALSE], col.name = 'sample_id')"
   ]
  },
  {
   "cell_type": "code",
   "execution_count": 73,
   "id": "f7601b2b-6833-4919-a110-9b95249c8f73",
   "metadata": {},
   "outputs": [
    {
     "data": {
      "text/html": [
       "<table class=\"dataframe\">\n",
       "<caption>A data.frame: 6 × 32</caption>\n",
       "<thead>\n",
       "\t<tr><th></th><th scope=col>nCount_HTO</th><th scope=col>B2_Scanorama_Singlet_cluster</th><th scope=col>B2_Scanorama_Singlet_rb_mt_cluster</th><th scope=col>cell_type_Scanorama</th><th scope=col>cluster_cell_type_Scanorama</th><th scope=col>classification_measurement</th><th scope=col>delta_ef_value_group_measurement</th><th scope=col>m_y</th><th scope=col>measurement_y</th><th scope=col>delta_ef_value_group</th><th scope=col>⋯</th><th scope=col>pattern</th><th scope=col>sequence</th><th scope=col>feature_type</th><th scope=col>in_sample</th><th scope=col>display_name</th><th scope=col>group_x</th><th scope=col>library_char</th><th scope=col>group_id</th><th scope=col>cluster_id</th><th scope=col>sample_id</th></tr>\n",
       "\t<tr><th></th><th scope=col>&lt;dbl&gt;</th><th scope=col>&lt;fct&gt;</th><th scope=col>&lt;fct&gt;</th><th scope=col>&lt;fct&gt;</th><th scope=col>&lt;fct&gt;</th><th scope=col>&lt;fct&gt;</th><th scope=col>&lt;fct&gt;</th><th scope=col>&lt;fct&gt;</th><th scope=col>&lt;fct&gt;</th><th scope=col>&lt;fct&gt;</th><th scope=col>⋯</th><th scope=col>&lt;fct&gt;</th><th scope=col>&lt;fct&gt;</th><th scope=col>&lt;fct&gt;</th><th scope=col>&lt;dbl&gt;</th><th scope=col>&lt;fct&gt;</th><th scope=col>&lt;fct&gt;</th><th scope=col>&lt;chr&gt;</th><th scope=col>&lt;chr&gt;</th><th scope=col>&lt;chr&gt;</th><th scope=col>&lt;chr&gt;</th></tr>\n",
       "</thead>\n",
       "<tbody>\n",
       "\t<tr><th scope=row>AAACCCACATACAGGG-1-L1</th><td>1574</td><td>8 </td><td>8 </td><td>B-cell                 </td><td>8_B-cell                 </td><td>acs_w_o_infection_TP1</td><td>x_greater_1_TP1</td><td>M9 (14,3) </td><td>TP1    </td><td>x_greater_1</td><td>⋯</td><td>5PNNNNNNNNNN(BC)</td><td>CAGTAGTCACGGTCA</td><td>Antibody Capture</td><td>1</td><td>9.1</td><td>TP1</td><td>L1</td><td>1</td><td>B cell     </td><td>9.1-L1</td></tr>\n",
       "\t<tr><th scope=row>AAACCCACATGACTTG-1-L1</th><td> 379</td><td>9 </td><td>9 </td><td>Monocytes - CD16_FCGR3A</td><td>9_Monocytes - CD16_FCGR3A</td><td>acs_w_o_infection_TP1</td><td>x_greater_1_TP1</td><td>M9 (14,3) </td><td>TP1    </td><td>x_greater_1</td><td>⋯</td><td>5PNNNNNNNNNN(BC)</td><td>CAGTAGTCACGGTCA</td><td>Antibody Capture</td><td>1</td><td>9.1</td><td>TP1</td><td>L1</td><td>1</td><td>CD16 Mono  </td><td>9.1-L1</td></tr>\n",
       "\t<tr><th scope=row>AAACCCAGTCATCAGT-1-L1</th><td> 421</td><td>5 </td><td>5 </td><td>T-cell-CD4             </td><td>5_T-cell-CD4             </td><td>acs_w_o_infection_TP1</td><td>x_smaller_1_TP1</td><td>M7 (0,75) </td><td>TP1    </td><td>x_smaller_1</td><td>⋯</td><td>5PNNNNNNNNNN(BC)</td><td>TGTCTTTCCTGCCAG</td><td>Antibody Capture</td><td>1</td><td>7.1</td><td>TP1</td><td>L1</td><td>1</td><td>CD4 TCM    </td><td>7.1-L1</td></tr>\n",
       "\t<tr><th scope=row>AAACCCAGTGGTAATA-1-L1</th><td> 478</td><td>0 </td><td>0 </td><td>T-cell-CD4             </td><td>0_T-cell-CD4             </td><td>acs_w_o_infection_TP1</td><td>x_greater_1_TP1</td><td>M9 (14,3) </td><td>TP1    </td><td>x_greater_1</td><td>⋯</td><td>5PNNNNNNNNNN(BC)</td><td>CAGTAGTCACGGTCA</td><td>Antibody Capture</td><td>1</td><td>9.1</td><td>TP1</td><td>L1</td><td>1</td><td>CD4 TCM    </td><td>9.1-L1</td></tr>\n",
       "\t<tr><th scope=row>AAACCCATCATCACAG-1-L1</th><td> 851</td><td>16</td><td>16</td><td>Plasma Blast           </td><td>16_Plasma Blast          </td><td>acs_w_o_infection_TP1</td><td>x_greater_1_TP1</td><td>M9 (14,3) </td><td>TP1    </td><td>x_greater_1</td><td>⋯</td><td>5PNNNNNNNNNN(BC)</td><td>CAGTAGTCACGGTCA</td><td>Antibody Capture</td><td>1</td><td>9.1</td><td>TP1</td><td>L1</td><td>1</td><td>Plasmablast</td><td>9.1-L1</td></tr>\n",
       "\t<tr><th scope=row>AAACCCATCGATGGAG-1-L1</th><td> 473</td><td>0 </td><td>0 </td><td>T-cell-CD4             </td><td>0_T-cell-CD4             </td><td>acs_subacute_TP1     </td><td>missing        </td><td>missing   </td><td>missing</td><td>missing    </td><td>⋯</td><td>5PNNNNNNNNNN(BC)</td><td>CTCCTCTGCAATTAC</td><td>Antibody Capture</td><td>1</td><td>8.1</td><td>TP1</td><td>L1</td><td>1</td><td>CD4 TCM    </td><td>8.1-L1</td></tr>\n",
       "</tbody>\n",
       "</table>\n"
      ],
      "text/latex": [
       "A data.frame: 6 × 32\n",
       "\\begin{tabular}{r|lllllllllllllllllllll}\n",
       "  & nCount\\_HTO & B2\\_Scanorama\\_Singlet\\_cluster & B2\\_Scanorama\\_Singlet\\_rb\\_mt\\_cluster & cell\\_type\\_Scanorama & cluster\\_cell\\_type\\_Scanorama & classification\\_measurement & delta\\_ef\\_value\\_group\\_measurement & m\\_y & measurement\\_y & delta\\_ef\\_value\\_group & ⋯ & pattern & sequence & feature\\_type & in\\_sample & display\\_name & group\\_x & library\\_char & group\\_id & cluster\\_id & sample\\_id\\\\\n",
       "  & <dbl> & <fct> & <fct> & <fct> & <fct> & <fct> & <fct> & <fct> & <fct> & <fct> & ⋯ & <fct> & <fct> & <fct> & <dbl> & <fct> & <fct> & <chr> & <chr> & <chr> & <chr>\\\\\n",
       "\\hline\n",
       "\tAAACCCACATACAGGG-1-L1 & 1574 & 8  & 8  & B-cell                  & 8\\_B-cell                  & acs\\_w\\_o\\_infection\\_TP1 & x\\_greater\\_1\\_TP1 & M9 (14,3)  & TP1     & x\\_greater\\_1 & ⋯ & 5PNNNNNNNNNN(BC) & CAGTAGTCACGGTCA & Antibody Capture & 1 & 9.1 & TP1 & L1 & 1 & B cell      & 9.1-L1\\\\\n",
       "\tAAACCCACATGACTTG-1-L1 &  379 & 9  & 9  & Monocytes - CD16\\_FCGR3A & 9\\_Monocytes - CD16\\_FCGR3A & acs\\_w\\_o\\_infection\\_TP1 & x\\_greater\\_1\\_TP1 & M9 (14,3)  & TP1     & x\\_greater\\_1 & ⋯ & 5PNNNNNNNNNN(BC) & CAGTAGTCACGGTCA & Antibody Capture & 1 & 9.1 & TP1 & L1 & 1 & CD16 Mono   & 9.1-L1\\\\\n",
       "\tAAACCCAGTCATCAGT-1-L1 &  421 & 5  & 5  & T-cell-CD4              & 5\\_T-cell-CD4              & acs\\_w\\_o\\_infection\\_TP1 & x\\_smaller\\_1\\_TP1 & M7 (0,75)  & TP1     & x\\_smaller\\_1 & ⋯ & 5PNNNNNNNNNN(BC) & TGTCTTTCCTGCCAG & Antibody Capture & 1 & 7.1 & TP1 & L1 & 1 & CD4 TCM     & 7.1-L1\\\\\n",
       "\tAAACCCAGTGGTAATA-1-L1 &  478 & 0  & 0  & T-cell-CD4              & 0\\_T-cell-CD4              & acs\\_w\\_o\\_infection\\_TP1 & x\\_greater\\_1\\_TP1 & M9 (14,3)  & TP1     & x\\_greater\\_1 & ⋯ & 5PNNNNNNNNNN(BC) & CAGTAGTCACGGTCA & Antibody Capture & 1 & 9.1 & TP1 & L1 & 1 & CD4 TCM     & 9.1-L1\\\\\n",
       "\tAAACCCATCATCACAG-1-L1 &  851 & 16 & 16 & Plasma Blast            & 16\\_Plasma Blast           & acs\\_w\\_o\\_infection\\_TP1 & x\\_greater\\_1\\_TP1 & M9 (14,3)  & TP1     & x\\_greater\\_1 & ⋯ & 5PNNNNNNNNNN(BC) & CAGTAGTCACGGTCA & Antibody Capture & 1 & 9.1 & TP1 & L1 & 1 & Plasmablast & 9.1-L1\\\\\n",
       "\tAAACCCATCGATGGAG-1-L1 &  473 & 0  & 0  & T-cell-CD4              & 0\\_T-cell-CD4              & acs\\_subacute\\_TP1      & missing         & missing    & missing & missing     & ⋯ & 5PNNNNNNNNNN(BC) & CTCCTCTGCAATTAC & Antibody Capture & 1 & 8.1 & TP1 & L1 & 1 & CD4 TCM     & 8.1-L1\\\\\n",
       "\\end{tabular}\n"
      ],
      "text/markdown": [
       "\n",
       "A data.frame: 6 × 32\n",
       "\n",
       "| <!--/--> | nCount_HTO &lt;dbl&gt; | B2_Scanorama_Singlet_cluster &lt;fct&gt; | B2_Scanorama_Singlet_rb_mt_cluster &lt;fct&gt; | cell_type_Scanorama &lt;fct&gt; | cluster_cell_type_Scanorama &lt;fct&gt; | classification_measurement &lt;fct&gt; | delta_ef_value_group_measurement &lt;fct&gt; | m_y &lt;fct&gt; | measurement_y &lt;fct&gt; | delta_ef_value_group &lt;fct&gt; | ⋯ ⋯ | pattern &lt;fct&gt; | sequence &lt;fct&gt; | feature_type &lt;fct&gt; | in_sample &lt;dbl&gt; | display_name &lt;fct&gt; | group_x &lt;fct&gt; | library_char &lt;chr&gt; | group_id &lt;chr&gt; | cluster_id &lt;chr&gt; | sample_id &lt;chr&gt; |\n",
       "|---|---|---|---|---|---|---|---|---|---|---|---|---|---|---|---|---|---|---|---|---|---|\n",
       "| AAACCCACATACAGGG-1-L1 | 1574 | 8  | 8  | B-cell                  | 8_B-cell                  | acs_w_o_infection_TP1 | x_greater_1_TP1 | M9 (14,3)  | TP1     | x_greater_1 | ⋯ | 5PNNNNNNNNNN(BC) | CAGTAGTCACGGTCA | Antibody Capture | 1 | 9.1 | TP1 | L1 | 1 | B cell      | 9.1-L1 |\n",
       "| AAACCCACATGACTTG-1-L1 |  379 | 9  | 9  | Monocytes - CD16_FCGR3A | 9_Monocytes - CD16_FCGR3A | acs_w_o_infection_TP1 | x_greater_1_TP1 | M9 (14,3)  | TP1     | x_greater_1 | ⋯ | 5PNNNNNNNNNN(BC) | CAGTAGTCACGGTCA | Antibody Capture | 1 | 9.1 | TP1 | L1 | 1 | CD16 Mono   | 9.1-L1 |\n",
       "| AAACCCAGTCATCAGT-1-L1 |  421 | 5  | 5  | T-cell-CD4              | 5_T-cell-CD4              | acs_w_o_infection_TP1 | x_smaller_1_TP1 | M7 (0,75)  | TP1     | x_smaller_1 | ⋯ | 5PNNNNNNNNNN(BC) | TGTCTTTCCTGCCAG | Antibody Capture | 1 | 7.1 | TP1 | L1 | 1 | CD4 TCM     | 7.1-L1 |\n",
       "| AAACCCAGTGGTAATA-1-L1 |  478 | 0  | 0  | T-cell-CD4              | 0_T-cell-CD4              | acs_w_o_infection_TP1 | x_greater_1_TP1 | M9 (14,3)  | TP1     | x_greater_1 | ⋯ | 5PNNNNNNNNNN(BC) | CAGTAGTCACGGTCA | Antibody Capture | 1 | 9.1 | TP1 | L1 | 1 | CD4 TCM     | 9.1-L1 |\n",
       "| AAACCCATCATCACAG-1-L1 |  851 | 16 | 16 | Plasma Blast            | 16_Plasma Blast           | acs_w_o_infection_TP1 | x_greater_1_TP1 | M9 (14,3)  | TP1     | x_greater_1 | ⋯ | 5PNNNNNNNNNN(BC) | CAGTAGTCACGGTCA | Antibody Capture | 1 | 9.1 | TP1 | L1 | 1 | Plasmablast | 9.1-L1 |\n",
       "| AAACCCATCGATGGAG-1-L1 |  473 | 0  | 0  | T-cell-CD4              | 0_T-cell-CD4              | acs_subacute_TP1      | missing         | missing    | missing | missing     | ⋯ | 5PNNNNNNNNNN(BC) | CTCCTCTGCAATTAC | Antibody Capture | 1 | 8.1 | TP1 | L1 | 1 | CD4 TCM     | 8.1-L1 |\n",
       "\n"
      ],
      "text/plain": [
       "                      nCount_HTO B2_Scanorama_Singlet_cluster\n",
       "AAACCCACATACAGGG-1-L1 1574       8                           \n",
       "AAACCCACATGACTTG-1-L1  379       9                           \n",
       "AAACCCAGTCATCAGT-1-L1  421       5                           \n",
       "AAACCCAGTGGTAATA-1-L1  478       0                           \n",
       "AAACCCATCATCACAG-1-L1  851       16                          \n",
       "AAACCCATCGATGGAG-1-L1  473       0                           \n",
       "                      B2_Scanorama_Singlet_rb_mt_cluster\n",
       "AAACCCACATACAGGG-1-L1 8                                 \n",
       "AAACCCACATGACTTG-1-L1 9                                 \n",
       "AAACCCAGTCATCAGT-1-L1 5                                 \n",
       "AAACCCAGTGGTAATA-1-L1 0                                 \n",
       "AAACCCATCATCACAG-1-L1 16                                \n",
       "AAACCCATCGATGGAG-1-L1 0                                 \n",
       "                      cell_type_Scanorama     cluster_cell_type_Scanorama\n",
       "AAACCCACATACAGGG-1-L1 B-cell                  8_B-cell                   \n",
       "AAACCCACATGACTTG-1-L1 Monocytes - CD16_FCGR3A 9_Monocytes - CD16_FCGR3A  \n",
       "AAACCCAGTCATCAGT-1-L1 T-cell-CD4              5_T-cell-CD4               \n",
       "AAACCCAGTGGTAATA-1-L1 T-cell-CD4              0_T-cell-CD4               \n",
       "AAACCCATCATCACAG-1-L1 Plasma Blast            16_Plasma Blast            \n",
       "AAACCCATCGATGGAG-1-L1 T-cell-CD4              0_T-cell-CD4               \n",
       "                      classification_measurement\n",
       "AAACCCACATACAGGG-1-L1 acs_w_o_infection_TP1     \n",
       "AAACCCACATGACTTG-1-L1 acs_w_o_infection_TP1     \n",
       "AAACCCAGTCATCAGT-1-L1 acs_w_o_infection_TP1     \n",
       "AAACCCAGTGGTAATA-1-L1 acs_w_o_infection_TP1     \n",
       "AAACCCATCATCACAG-1-L1 acs_w_o_infection_TP1     \n",
       "AAACCCATCGATGGAG-1-L1 acs_subacute_TP1          \n",
       "                      delta_ef_value_group_measurement m_y        measurement_y\n",
       "AAACCCACATACAGGG-1-L1 x_greater_1_TP1                  M9 (14,3)  TP1          \n",
       "AAACCCACATGACTTG-1-L1 x_greater_1_TP1                  M9 (14,3)  TP1          \n",
       "AAACCCAGTCATCAGT-1-L1 x_smaller_1_TP1                  M7 (0,75)  TP1          \n",
       "AAACCCAGTGGTAATA-1-L1 x_greater_1_TP1                  M9 (14,3)  TP1          \n",
       "AAACCCATCATCACAG-1-L1 x_greater_1_TP1                  M9 (14,3)  TP1          \n",
       "AAACCCATCGATGGAG-1-L1 missing                          missing    missing      \n",
       "                      delta_ef_value_group ⋯ pattern          sequence       \n",
       "AAACCCACATACAGGG-1-L1 x_greater_1          ⋯ 5PNNNNNNNNNN(BC) CAGTAGTCACGGTCA\n",
       "AAACCCACATGACTTG-1-L1 x_greater_1          ⋯ 5PNNNNNNNNNN(BC) CAGTAGTCACGGTCA\n",
       "AAACCCAGTCATCAGT-1-L1 x_smaller_1          ⋯ 5PNNNNNNNNNN(BC) TGTCTTTCCTGCCAG\n",
       "AAACCCAGTGGTAATA-1-L1 x_greater_1          ⋯ 5PNNNNNNNNNN(BC) CAGTAGTCACGGTCA\n",
       "AAACCCATCATCACAG-1-L1 x_greater_1          ⋯ 5PNNNNNNNNNN(BC) CAGTAGTCACGGTCA\n",
       "AAACCCATCGATGGAG-1-L1 missing              ⋯ 5PNNNNNNNNNN(BC) CTCCTCTGCAATTAC\n",
       "                      feature_type     in_sample display_name group_x\n",
       "AAACCCACATACAGGG-1-L1 Antibody Capture 1         9.1          TP1    \n",
       "AAACCCACATGACTTG-1-L1 Antibody Capture 1         9.1          TP1    \n",
       "AAACCCAGTCATCAGT-1-L1 Antibody Capture 1         7.1          TP1    \n",
       "AAACCCAGTGGTAATA-1-L1 Antibody Capture 1         9.1          TP1    \n",
       "AAACCCATCATCACAG-1-L1 Antibody Capture 1         9.1          TP1    \n",
       "AAACCCATCGATGGAG-1-L1 Antibody Capture 1         8.1          TP1    \n",
       "                      library_char group_id cluster_id  sample_id\n",
       "AAACCCACATACAGGG-1-L1 L1           1        B cell      9.1-L1   \n",
       "AAACCCACATGACTTG-1-L1 L1           1        CD16 Mono   9.1-L1   \n",
       "AAACCCAGTCATCAGT-1-L1 L1           1        CD4 TCM     7.1-L1   \n",
       "AAACCCAGTGGTAATA-1-L1 L1           1        CD4 TCM     9.1-L1   \n",
       "AAACCCATCATCACAG-1-L1 L1           1        Plasmablast 9.1-L1   \n",
       "AAACCCATCGATGGAG-1-L1 L1           1        CD4 TCM     8.1-L1   "
      ]
     },
     "metadata": {},
     "output_type": "display_data"
    }
   ],
   "source": [
    "head(rna_seurat_data_subset@meta.data)"
   ]
  },
  {
   "cell_type": "code",
   "execution_count": 74,
   "id": "91a6e9a5-b98b-477a-8dbe-c7c5e82d09dd",
   "metadata": {},
   "outputs": [],
   "source": [
    "### Save merged Seurat data with azimuth annotation for reproduction file to share"
   ]
  },
  {
   "cell_type": "code",
   "execution_count": 75,
   "id": "92dbffd2-3a42-46d6-8627-1d69d5e8e618",
   "metadata": {},
   "outputs": [],
   "source": [
    "#save( rna_seurat_data_subset , file = paste0(result_path, '/G-Analysis/G4_Seurat_Input_Replication.RDS'))"
   ]
  },
  {
   "cell_type": "code",
   "execution_count": 76,
   "id": "ad2b3476-b1a0-488c-8838-7d853ead886b",
   "metadata": {},
   "outputs": [],
   "source": [
    "rna_seurat_data_save = rna_seurat_data_subset"
   ]
  },
  {
   "cell_type": "code",
   "execution_count": 77,
   "id": "44c658f4-84c6-4364-ac40-cc8adf1c7130",
   "metadata": {},
   "outputs": [],
   "source": [
    "### Remove some unnecessary columsn"
   ]
  },
  {
   "cell_type": "code",
   "execution_count": 78,
   "id": "4e530941-60f9-49af-9fa9-5996cb6013e6",
   "metadata": {},
   "outputs": [],
   "source": [
    "rna_seurat_data_save$B2_Scanorama_Singlet_cluster = NULL\n",
    "rna_seurat_data_save$B2_Scanorama_Singlet_rb_mt_cluster = NULL\n",
    "rna_seurat_data_save$cell_type_Scanorama = NULL\n",
    "rna_seurat_data_save$cluster_cell_type_Scanorama = NULL"
   ]
  },
  {
   "cell_type": "code",
   "execution_count": 79,
   "id": "c69b9716-c0f0-494b-88f6-178eb306e75b",
   "metadata": {},
   "outputs": [],
   "source": [
    "rna_seurat_data_save$delta_ef_value_group_measurement = NULL\n",
    "rna_seurat_data_save$m_y = NULL\n",
    "rna_seurat_data_save$measurement_y = NULL\n",
    "rna_seurat_data_save$delta_ef_value_group = NULL"
   ]
  },
  {
   "cell_type": "code",
   "execution_count": 80,
   "id": "2c1e6db9-cf78-486a-ac09-4a3e2df0a4da",
   "metadata": {},
   "outputs": [],
   "source": [
    "rna_seurat_data_save$classification_measurement = NULL\n",
    "rna_seurat_data_save$delta_ef_value = NULL\n",
    "rna_seurat_data_save$sample_y = NULL\n",
    "rna_seurat_data_save$age = NULL"
   ]
  },
  {
   "cell_type": "code",
   "execution_count": 81,
   "id": "80bb19c3-a765-4078-98a3-424ebfbf8b2c",
   "metadata": {},
   "outputs": [],
   "source": [
    "rna_seurat_data_save$sex = NULL\n",
    "rna_seurat_data_save$m_x = NULL\n",
    "rna_seurat_data_save$classification = NULL\n",
    "rna_seurat_data_save$group_y = NULL"
   ]
  },
  {
   "cell_type": "code",
   "execution_count": 82,
   "id": "1c5da20e-c540-401d-ae4e-e4e6aaadfb5f",
   "metadata": {},
   "outputs": [],
   "source": [
    "rna_seurat_data_save$measurement_x = NULL\n",
    "rna_seurat_data_save$sample_x = NULL\n",
    "rna_seurat_data_save$library = NULL\n",
    "rna_seurat_data_save$id = NULL"
   ]
  },
  {
   "cell_type": "code",
   "execution_count": 83,
   "id": "760187f4-60c2-45fa-b961-d4ac56a00d40",
   "metadata": {},
   "outputs": [],
   "source": [
    "rna_seurat_data_save$read = NULL\n",
    "rna_seurat_data_save$pattern = NULL\n",
    "rna_seurat_data_save$sequence = NULL\n",
    "rna_seurat_data_save$feature_type = NULL"
   ]
  },
  {
   "cell_type": "code",
   "execution_count": 84,
   "id": "af3a078e-2104-47bf-b1eb-e306af25c537",
   "metadata": {},
   "outputs": [],
   "source": [
    "rna_seurat_data_save$in_sample = NULL\n",
    "rna_seurat_data_save$display_name = NULL\n",
    "rna_seurat_data_save$group_x = NULL\n",
    "rna_seurat_data_save$library_char = NULL"
   ]
  },
  {
   "cell_type": "code",
   "execution_count": 85,
   "id": "0ed805b1-d831-4e2b-b109-895123859686",
   "metadata": {},
   "outputs": [
    {
     "data": {
      "text/html": [
       "<style>\n",
       ".list-inline {list-style: none; margin:0; padding: 0}\n",
       ".list-inline>li {display: inline-block}\n",
       ".list-inline>li:not(:last-child)::after {content: \"\\00b7\"; padding: 0 .5ex}\n",
       "</style>\n",
       "<ol class=list-inline><li>'nCount_HTO'</li><li>'group_id'</li><li>'cluster_id'</li><li>'sample_id'</li></ol>\n"
      ],
      "text/latex": [
       "\\begin{enumerate*}\n",
       "\\item 'nCount\\_HTO'\n",
       "\\item 'group\\_id'\n",
       "\\item 'cluster\\_id'\n",
       "\\item 'sample\\_id'\n",
       "\\end{enumerate*}\n"
      ],
      "text/markdown": [
       "1. 'nCount_HTO'\n",
       "2. 'group_id'\n",
       "3. 'cluster_id'\n",
       "4. 'sample_id'\n",
       "\n",
       "\n"
      ],
      "text/plain": [
       "[1] \"nCount_HTO\" \"group_id\"   \"cluster_id\" \"sample_id\" "
      ]
     },
     "metadata": {},
     "output_type": "display_data"
    }
   ],
   "source": [
    "colnames(rna_seurat_data_save[[]])"
   ]
  },
  {
   "cell_type": "code",
   "execution_count": 221,
   "id": "e6cb0f51-c958-4d52-8430-5cfe8ec9bc11",
   "metadata": {},
   "outputs": [],
   "source": [
    "#SaveH5Seurat(rna_seurat_data_save, file = paste0(result_path, '/Reproduction/G4_Seurat_Input_Replication.h5seurat'), overwrite = TRUE)"
   ]
  },
  {
   "cell_type": "markdown",
   "id": "234c8c17-2b81-4809-ab9c-f5dbfea77dc5",
   "metadata": {
    "tags": []
   },
   "source": [
    "## Convert to SCE "
   ]
  },
  {
   "cell_type": "code",
   "execution_count": 86,
   "id": "dc2deb1e-7cfb-495a-a7ea-4cecec9224f7",
   "metadata": {},
   "outputs": [],
   "source": [
    "### convert format to sce"
   ]
  },
  {
   "cell_type": "code",
   "execution_count": 87,
   "id": "cc16e1b8-06e5-4d6b-a650-0ec83f3b1382",
   "metadata": {},
   "outputs": [],
   "source": [
    "rna_sce = as.SingleCellExperiment(rna_seurat_data_subset)"
   ]
  },
  {
   "cell_type": "code",
   "execution_count": 88,
   "id": "234b488b-7aa5-4f4b-bd74-44d3eb6a3b33",
   "metadata": {},
   "outputs": [
    {
     "data": {
      "text/plain": [
       "class: SingleCellExperiment \n",
       "dim: 19221 148275 \n",
       "metadata(0):\n",
       "assays(2): counts logcounts\n",
       "rownames(19221): AL627309.1 AL627309.4 ... AC004556.1 AC240274.1\n",
       "rowData names(0):\n",
       "colnames(148275): AAACCCACATACAGGG-1-L1 AAACCCACATGACTTG-1-L1 ...\n",
       "  TTTGTTGGTGGACCAA-1-L14 TTTGTTGTCGAAGAAT-1-L14\n",
       "colData names(33): nCount_HTO B2_Scanorama_Singlet_cluster ...\n",
       "  sample_id ident\n",
       "reducedDimNames(0):\n",
       "mainExpName: RNA\n",
       "altExpNames(0):"
      ]
     },
     "metadata": {},
     "output_type": "display_data"
    }
   ],
   "source": [
    "rna_sce  # rows = genes; columns = cells"
   ]
  },
  {
   "cell_type": "markdown",
   "id": "834a07c0-a3f8-4897-8b1e-2aedbbb33a4a",
   "metadata": {},
   "source": [
    "## Calculate amount of cells per sample and cluster"
   ]
  },
  {
   "cell_type": "code",
   "execution_count": 90,
   "id": "06314057-d980-46e4-b8a6-81318b8fc4e7",
   "metadata": {},
   "outputs": [],
   "source": [
    "## Amount of cells per azimuth cell-type annotation"
   ]
  },
  {
   "cell_type": "code",
   "execution_count": 91,
   "id": "d652a37f-3f8c-44a5-992e-cfedbb4705fe",
   "metadata": {},
   "outputs": [
    {
     "data": {
      "text/html": [
       "<style>\n",
       ".dl-inline {width: auto; margin:0; padding: 0}\n",
       ".dl-inline>dt, .dl-inline>dd {float: none; width: auto; display: inline-block}\n",
       ".dl-inline>dt::after {content: \":\\0020\"; padding-right: .5ex}\n",
       ".dl-inline>dt:not(:first-of-type) {padding-left: .5ex}\n",
       "</style><dl class=dl-inline><dt>ASDC</dt><dd>8</dd><dt>B cell</dt><dd>9829</dd><dt>CD14 Mono</dt><dd>32727</dd><dt>CD16 Mono</dt><dd>4680</dd><dt>CD4 CTL</dt><dd>2346</dd><dt>CD4 Naive</dt><dd>6495</dd><dt>CD4 Proliferating</dt><dd>108</dd><dt>CD4 TCM</dt><dd>45102</dd><dt>CD4 TEM</dt><dd>6296</dd><dt>CD8 Naive</dt><dd>2612</dd><dt>CD8 Proliferating</dt><dd>13</dd><dt>CD8 TCM</dt><dd>525</dd><dt>CD8 TEM</dt><dd>10611</dd><dt>cDC1</dt><dd>83</dd><dt>cDC2</dt><dd>1314</dd><dt>dnT</dt><dd>130</dd><dt>Doublet</dt><dd>48</dd><dt>Eryth</dt><dd>6</dd><dt>gdT</dt><dd>1901</dd><dt>HSPC</dt><dd>332</dd><dt>ILC</dt><dd>931</dd><dt>MAIT</dt><dd>1177</dd><dt>NK</dt><dd>15699</dd><dt>NK Proliferating</dt><dd>168</dd><dt>NK_CD56bright</dt><dd>874</dd><dt>pDC</dt><dd>745</dd><dt>Plasmablast</dt><dd>703</dd><dt>Platelet</dt><dd>450</dd><dt>Treg</dt><dd>2362</dd></dl>\n"
      ],
      "text/latex": [
       "\\begin{description*}\n",
       "\\item[ASDC] 8\n",
       "\\item[B cell] 9829\n",
       "\\item[CD14 Mono] 32727\n",
       "\\item[CD16 Mono] 4680\n",
       "\\item[CD4 CTL] 2346\n",
       "\\item[CD4 Naive] 6495\n",
       "\\item[CD4 Proliferating] 108\n",
       "\\item[CD4 TCM] 45102\n",
       "\\item[CD4 TEM] 6296\n",
       "\\item[CD8 Naive] 2612\n",
       "\\item[CD8 Proliferating] 13\n",
       "\\item[CD8 TCM] 525\n",
       "\\item[CD8 TEM] 10611\n",
       "\\item[cDC1] 83\n",
       "\\item[cDC2] 1314\n",
       "\\item[dnT] 130\n",
       "\\item[Doublet] 48\n",
       "\\item[Eryth] 6\n",
       "\\item[gdT] 1901\n",
       "\\item[HSPC] 332\n",
       "\\item[ILC] 931\n",
       "\\item[MAIT] 1177\n",
       "\\item[NK] 15699\n",
       "\\item[NK Proliferating] 168\n",
       "\\item[NK\\textbackslash{}\\_CD56bright] 874\n",
       "\\item[pDC] 745\n",
       "\\item[Plasmablast] 703\n",
       "\\item[Platelet] 450\n",
       "\\item[Treg] 2362\n",
       "\\end{description*}\n"
      ],
      "text/markdown": [
       "ASDC\n",
       ":   8B cell\n",
       ":   9829CD14 Mono\n",
       ":   32727CD16 Mono\n",
       ":   4680CD4 CTL\n",
       ":   2346CD4 Naive\n",
       ":   6495CD4 Proliferating\n",
       ":   108CD4 TCM\n",
       ":   45102CD4 TEM\n",
       ":   6296CD8 Naive\n",
       ":   2612CD8 Proliferating\n",
       ":   13CD8 TCM\n",
       ":   525CD8 TEM\n",
       ":   10611cDC1\n",
       ":   83cDC2\n",
       ":   1314dnT\n",
       ":   130Doublet\n",
       ":   48Eryth\n",
       ":   6gdT\n",
       ":   1901HSPC\n",
       ":   332ILC\n",
       ":   931MAIT\n",
       ":   1177NK\n",
       ":   15699NK Proliferating\n",
       ":   168NK_CD56bright\n",
       ":   874pDC\n",
       ":   745Plasmablast\n",
       ":   703Platelet\n",
       ":   450Treg\n",
       ":   2362\n",
       "\n"
      ],
      "text/plain": [
       "             ASDC            B cell         CD14 Mono         CD16 Mono \n",
       "                8              9829             32727              4680 \n",
       "          CD4 CTL         CD4 Naive CD4 Proliferating           CD4 TCM \n",
       "             2346              6495               108             45102 \n",
       "          CD4 TEM         CD8 Naive CD8 Proliferating           CD8 TCM \n",
       "             6296              2612                13               525 \n",
       "          CD8 TEM              cDC1              cDC2               dnT \n",
       "            10611                83              1314               130 \n",
       "          Doublet             Eryth               gdT              HSPC \n",
       "               48                 6              1901               332 \n",
       "              ILC              MAIT                NK  NK Proliferating \n",
       "              931              1177             15699               168 \n",
       "    NK_CD56bright               pDC       Plasmablast          Platelet \n",
       "              874               745               703               450 \n",
       "             Treg \n",
       "             2362 "
      ]
     },
     "metadata": {},
     "output_type": "display_data"
    }
   ],
   "source": [
    "colSums(table(rna_sce$cluster_id,rna_sce$cluster_id ))"
   ]
  },
  {
   "cell_type": "code",
   "execution_count": 92,
   "id": "b912887a-be08-45cd-b057-b3ad49136835",
   "metadata": {},
   "outputs": [],
   "source": [
    "cells_per_sample_cluster = t(table(rna_sce$cluster_id, rna_sce$sample_id))"
   ]
  },
  {
   "cell_type": "code",
   "execution_count": 93,
   "id": "373d89dd-cf98-4f11-97f1-03a75597f7b2",
   "metadata": {},
   "outputs": [
    {
     "data": {
      "text/html": [
       "<table class=\"dataframe\">\n",
       "<caption>A data.frame: 2 × 3</caption>\n",
       "<thead>\n",
       "\t<tr><th></th><th scope=col>Var1</th><th scope=col>Var2</th><th scope=col>Freq</th></tr>\n",
       "\t<tr><th></th><th scope=col>&lt;fct&gt;</th><th scope=col>&lt;fct&gt;</th><th scope=col>&lt;int&gt;</th></tr>\n",
       "</thead>\n",
       "<tbody>\n",
       "\t<tr><th scope=row>1</th><td>1.1-L1</td><td>ASDC</td><td>0</td></tr>\n",
       "\t<tr><th scope=row>2</th><td>10-L11</td><td>ASDC</td><td>0</td></tr>\n",
       "</tbody>\n",
       "</table>\n"
      ],
      "text/latex": [
       "A data.frame: 2 × 3\n",
       "\\begin{tabular}{r|lll}\n",
       "  & Var1 & Var2 & Freq\\\\\n",
       "  & <fct> & <fct> & <int>\\\\\n",
       "\\hline\n",
       "\t1 & 1.1-L1 & ASDC & 0\\\\\n",
       "\t2 & 10-L11 & ASDC & 0\\\\\n",
       "\\end{tabular}\n"
      ],
      "text/markdown": [
       "\n",
       "A data.frame: 2 × 3\n",
       "\n",
       "| <!--/--> | Var1 &lt;fct&gt; | Var2 &lt;fct&gt; | Freq &lt;int&gt; |\n",
       "|---|---|---|---|\n",
       "| 1 | 1.1-L1 | ASDC | 0 |\n",
       "| 2 | 10-L11 | ASDC | 0 |\n",
       "\n"
      ],
      "text/plain": [
       "  Var1   Var2 Freq\n",
       "1 1.1-L1 ASDC 0   \n",
       "2 10-L11 ASDC 0   "
      ]
     },
     "metadata": {},
     "output_type": "display_data"
    }
   ],
   "source": [
    "head(as.data.frame(cells_per_sample_cluster),2)"
   ]
  },
  {
   "cell_type": "code",
   "execution_count": null,
   "id": "48c93983-1282-43ad-8d45-6b7ba9401cec",
   "metadata": {},
   "outputs": [],
   "source": [
    "## Save the amount of cells per sample and cluster"
   ]
  },
  {
   "cell_type": "code",
   "execution_count": 94,
   "id": "832cb8ec-1f06-4b63-8e06-d5e4dca7bfcd",
   "metadata": {},
   "outputs": [],
   "source": [
    "write.csv(cells_per_sample_cluster, paste0(result_path, '/G-Analysis/G1_Cell_Sample_Cluster_Distribution.csv'))"
   ]
  },
  {
   "cell_type": "code",
   "execution_count": 96,
   "id": "86f7f869-9287-45be-84ad-6674475ee4de",
   "metadata": {},
   "outputs": [],
   "source": [
    "## Visualize"
   ]
  },
  {
   "cell_type": "code",
   "execution_count": 97,
   "id": "8cf108cb-1117-437c-913a-a325ec6796bd",
   "metadata": {},
   "outputs": [],
   "source": [
    "cells_per_sample_cluster = data.frame(cells_per_sample_cluster)"
   ]
  },
  {
   "cell_type": "code",
   "execution_count": 98,
   "id": "e804c293-70f0-4f22-9b93-111a6ceca896",
   "metadata": {},
   "outputs": [],
   "source": [
    "colnames(cells_per_sample_cluster) = c('Sample', 'Cluster_Cell_Type', 'amount_cells')"
   ]
  },
  {
   "cell_type": "code",
   "execution_count": 99,
   "id": "956f9c5d-26c2-47d7-a8ac-0db8a5bef401",
   "metadata": {},
   "outputs": [],
   "source": [
    "cells_per_sample_cluster$amount_cells_cat[(cells_per_sample_cluster$amount_cells <= 3)  ] = '0-3'"
   ]
  },
  {
   "cell_type": "code",
   "execution_count": 100,
   "id": "d6b68438-98e0-4787-a00b-7a696a16b18f",
   "metadata": {},
   "outputs": [],
   "source": [
    "cells_per_sample_cluster$amount_cells_cat[(cells_per_sample_cluster$amount_cells <= 10)  & (cells_per_sample_cluster$amount_cells >3 )] = '3-10'"
   ]
  },
  {
   "cell_type": "code",
   "execution_count": 101,
   "id": "2ed391da-db78-4fe7-b26a-4e2be384a490",
   "metadata": {},
   "outputs": [],
   "source": [
    "cells_per_sample_cluster$amount_cells_cat[(cells_per_sample_cluster$amount_cells <= 20)  & (cells_per_sample_cluster$amount_cells >10 )] = '10-20'"
   ]
  },
  {
   "cell_type": "code",
   "execution_count": 102,
   "id": "b637e7cf-3570-40c1-845e-d0f56f0d2655",
   "metadata": {},
   "outputs": [],
   "source": [
    "cells_per_sample_cluster$amount_cells_cat[(cells_per_sample_cluster$amount_cells <= 50)  & (cells_per_sample_cluster$amount_cells >20 )] = '20-50'"
   ]
  },
  {
   "cell_type": "code",
   "execution_count": 103,
   "id": "dfc2e465-ff63-42f6-89a1-f343552b30a4",
   "metadata": {},
   "outputs": [],
   "source": [
    "cells_per_sample_cluster$amount_cells_cat[(cells_per_sample_cluster$amount_cells > 50)  ] = '> 50'"
   ]
  },
  {
   "cell_type": "code",
   "execution_count": 104,
   "id": "8452efbf-357c-4b89-bfda-e635c8b9056f",
   "metadata": {},
   "outputs": [],
   "source": [
    "sample_class = unique(obs[,c('classification', 'sample_id')])"
   ]
  },
  {
   "cell_type": "code",
   "execution_count": 105,
   "id": "9e5bd898-81af-4016-be0b-6daa03b50ada",
   "metadata": {},
   "outputs": [],
   "source": [
    "cells_per_sample_cluster = merge(cells_per_sample_cluster, sample_class, by.x = 'Sample', by.y = 'sample_id')"
   ]
  },
  {
   "cell_type": "code",
   "execution_count": 106,
   "id": "03909a64-aa9f-44a9-be71-8c4bb73cc65d",
   "metadata": {},
   "outputs": [],
   "source": [
    "cells_per_sample_cluster$cell_type = str_replace(cells_per_sample_cluster$Cluster_Cell_Type, '\\\\d.*_', '')"
   ]
  },
  {
   "cell_type": "code",
   "execution_count": 107,
   "id": "01284c78-0c09-40e3-8d57-23debaf91ac8",
   "metadata": {},
   "outputs": [
    {
     "data": {
      "image/png": "[encoded data removed]",
      "text/plain": [
       "plot without title"
      ]
     },
     "metadata": {
      "image/png": {
       "height": 900,
       "width": 1800
      }
     },
     "output_type": "display_data"
    }
   ],
   "source": [
    "options(repr.plot.width=30, repr.plot.height=15)\n",
    "g = ggplot(cells_per_sample_cluster, aes(Sample, Cluster_Cell_Type, fill= amount_cells_cat)) + facet_grid(cell_type ~ classification , scales = \"free\", space = \"free\") + geom_tile()   + ggtitle(label = \"Amount cells per cluster and sample\")+ theme(axis.text.x=element_text(size=14, angle = 90), axis.text.y=element_text(size=14, angle = 0),axis.title=element_text(size=14,face=\"bold\")) + scale_fill_manual(name = \"Amount cells\", breaks=c( '0-3','3-10', \n",
    "                                 '10-20', '20-50', '> 50'), values =c(\"red4\",\"rosybrown1\",  \"seashell\", \"palegreen\", \"palegreen4\")) \n",
    "g"
   ]
  },
  {
   "cell_type": "markdown",
   "id": "80a40ea6-7a0e-4de0-8bee-231b6fd7b627",
   "metadata": {
    "tags": []
   },
   "source": [
    "## Analyze gene expression percentages per cluster"
   ]
  },
  {
   "cell_type": "code",
   "execution_count": 112,
   "id": "1f635763-54b4-4b6c-a6c7-3985bf94ccab",
   "metadata": {},
   "outputs": [],
   "source": [
    "## Determine the percentage of cells within a cluster expressing a gene"
   ]
  },
  {
   "cell_type": "code",
   "execution_count": 113,
   "id": "6515d89e-856e-45ec-b460-84e136727dfe",
   "metadata": {},
   "outputs": [],
   "source": [
    "gene_list = list()"
   ]
  },
  {
   "cell_type": "code",
   "execution_count": 114,
   "id": "b4576d9f-f2f7-46d2-9a11-06a07cdab4e8",
   "metadata": {},
   "outputs": [],
   "source": [
    "gene_cell_expr = list()"
   ]
  },
  {
   "cell_type": "code",
   "execution_count": 115,
   "id": "862f2232-4fa9-49cb-a60d-56c359073042",
   "metadata": {},
   "outputs": [],
   "source": [
    "clusters = unique(rna_sce$cluster_id)"
   ]
  },
  {
   "cell_type": "code",
   "execution_count": 116,
   "id": "059276d0-9a4f-4dda-8fef-a0e2a9945d54",
   "metadata": {},
   "outputs": [],
   "source": [
    " for(i in clusters){\n",
    "    \n",
    "    # subset data on cluster\n",
    "    rna_sce_subset = rna_sce[,rna_sce$cluster_id== i] # cluster\n",
    "    \n",
    "    amount_cells = dim(rna_sce_subset)[2]\n",
    "    \n",
    "    # Calculate percentage of cells expressing gene\n",
    "    amount_cells_expressing_gene = rowSums(assay(rna_sce_subset) > 0 )\n",
    "    perc_cells_expressing_gene = (amount_cells_expressing_gene/ amount_cells) * 100\n",
    "    \n",
    "    gene_cell_expr[[i]] = data.frame(perc_cells_expressing_gene = perc_cells_expressing_gene, total_amount_cells_expressing_gene = amount_cells_expressing_gene)\n",
    "    \n",
    "    }"
   ]
  },
  {
   "cell_type": "code",
   "execution_count": 117,
   "id": "031e936a-e446-4852-9f58-e3e553060ef0",
   "metadata": {},
   "outputs": [],
   "source": [
    "### Format result in a data.frame"
   ]
  },
  {
   "cell_type": "code",
   "execution_count": 118,
   "id": "649b9952-8886-4933-8cca-2e606c3784a0",
   "metadata": {},
   "outputs": [],
   "source": [
    "gene_cell_expr_data = data.frame()"
   ]
  },
  {
   "cell_type": "code",
   "execution_count": 119,
   "id": "9ce0c23f-04f5-43fa-92f9-8af7ecd45eff",
   "metadata": {},
   "outputs": [],
   "source": [
    " for(i in names(gene_cell_expr)){\n",
    "    data = gene_cell_expr[[i]]\n",
    "    data$gene = rownames(gene_cell_expr[[i]])\n",
    "    data$cluster = i\n",
    "    gene_cell_expr_data = rbind( gene_cell_expr_data, data)\n",
    "    }"
   ]
  },
  {
   "cell_type": "code",
   "execution_count": 120,
   "id": "2ec33683-894c-4918-ac75-ed1bb50b0e9d",
   "metadata": {},
   "outputs": [
    {
     "data": {
      "text/html": [
       "<table class=\"dataframe\">\n",
       "<caption>A data.frame: 2 × 4</caption>\n",
       "<thead>\n",
       "\t<tr><th></th><th scope=col>perc_cells_expressing_gene</th><th scope=col>total_amount_cells_expressing_gene</th><th scope=col>gene</th><th scope=col>cluster</th></tr>\n",
       "\t<tr><th></th><th scope=col>&lt;dbl&gt;</th><th scope=col>&lt;int&gt;</th><th scope=col>&lt;chr&gt;</th><th scope=col>&lt;chr&gt;</th></tr>\n",
       "</thead>\n",
       "<tbody>\n",
       "\t<tr><th scope=row>AL627309.1</th><td>0.23400142</td><td>23</td><td>AL627309.1</td><td>B cell</td></tr>\n",
       "\t<tr><th scope=row>AL627309.4</th><td>0.06104385</td><td> 6</td><td>AL627309.4</td><td>B cell</td></tr>\n",
       "</tbody>\n",
       "</table>\n"
      ],
      "text/latex": [
       "A data.frame: 2 × 4\n",
       "\\begin{tabular}{r|llll}\n",
       "  & perc\\_cells\\_expressing\\_gene & total\\_amount\\_cells\\_expressing\\_gene & gene & cluster\\\\\n",
       "  & <dbl> & <int> & <chr> & <chr>\\\\\n",
       "\\hline\n",
       "\tAL627309.1 & 0.23400142 & 23 & AL627309.1 & B cell\\\\\n",
       "\tAL627309.4 & 0.06104385 &  6 & AL627309.4 & B cell\\\\\n",
       "\\end{tabular}\n"
      ],
      "text/markdown": [
       "\n",
       "A data.frame: 2 × 4\n",
       "\n",
       "| <!--/--> | perc_cells_expressing_gene &lt;dbl&gt; | total_amount_cells_expressing_gene &lt;int&gt; | gene &lt;chr&gt; | cluster &lt;chr&gt; |\n",
       "|---|---|---|---|---|\n",
       "| AL627309.1 | 0.23400142 | 23 | AL627309.1 | B cell |\n",
       "| AL627309.4 | 0.06104385 |  6 | AL627309.4 | B cell |\n",
       "\n"
      ],
      "text/plain": [
       "           perc_cells_expressing_gene total_amount_cells_expressing_gene\n",
       "AL627309.1 0.23400142                 23                                \n",
       "AL627309.4 0.06104385                  6                                \n",
       "           gene       cluster\n",
       "AL627309.1 AL627309.1 B cell \n",
       "AL627309.4 AL627309.4 B cell "
      ]
     },
     "metadata": {},
     "output_type": "display_data"
    }
   ],
   "source": [
    "head(gene_cell_expr_data,2)"
   ]
  },
  {
   "cell_type": "code",
   "execution_count": 121,
   "id": "2629c190-a88d-4ac9-b51f-a35fa4284e41",
   "metadata": {},
   "outputs": [],
   "source": [
    "## Save the data for filtering in next step"
   ]
  },
  {
   "cell_type": "code",
   "execution_count": 122,
   "id": "b0fc92ea-ec58-4e28-a14e-893a55aaf4af",
   "metadata": {},
   "outputs": [],
   "source": [
    "write.csv(gene_cell_expr_data, paste0(result_path, '/G-Analysis/G0_Filter_Genes_Input_Correlations_Perc_Values', '.csv'))"
   ]
  },
  {
   "cell_type": "markdown",
   "id": "7cd53380-6f67-4b2a-803b-3d84c6dd5551",
   "metadata": {
    "tags": []
   },
   "source": [
    "## Add cluster, group and sample columns for aggregation"
   ]
  },
  {
   "cell_type": "code",
   "execution_count": 123,
   "id": "49237c20-76e1-4849-88e6-77bc323ad1be",
   "metadata": {},
   "outputs": [
    {
     "data": {
      "text/plain": [
       "class: SingleCellExperiment \n",
       "dim: 19221 148275 \n",
       "metadata(1): experiment_info\n",
       "assays(2): counts logcounts\n",
       "rownames(19221): AL627309.1 AL627309.4 ... AC004556.1 AC240274.1\n",
       "rowData names(0):\n",
       "colnames(148275): AAACCCACATACAGGG-1-L1 AAACCCACATGACTTG-1-L1 ...\n",
       "  TTTGTTGGTGGACCAA-1-L14 TTTGTTGTCGAAGAAT-1-L14\n",
       "colData names(33): cluster_id sample_id ... library_char ident\n",
       "reducedDimNames(0):\n",
       "mainExpName: RNA\n",
       "altExpNames(0):"
      ]
     },
     "metadata": {},
     "output_type": "display_data"
    }
   ],
   "source": [
    "#### Add cluster_id, sample_id and group_id columns\n",
    "(rna_sce <- prepSCE(rna_sce, \n",
    "    kid = 'cluster_id', # cell-type annotations annotations\n",
    "    gid = 'group_id',  # dummy variable\n",
    "    sid = 'sample_id',   # sample IDs \n",
    "    drop = FALSE))  # drop all other colData columns"
   ]
  },
  {
   "cell_type": "code",
   "execution_count": 124,
   "id": "c021c773-197f-4aff-a21b-3756e60c9737",
   "metadata": {},
   "outputs": [],
   "source": [
    "nk <- length(kids <- levels(rna_sce$cluster_id))\n",
    "ns <- length(sids <- levels(rna_sce$sample_id))\n",
    "names(kids) <- kids; names(sids) <- sids"
   ]
  },
  {
   "cell_type": "code",
   "execution_count": 125,
   "id": "bed55744-ed88-4f95-8408-05acf67f263d",
   "metadata": {},
   "outputs": [
    {
     "data": {
      "text/html": [
       "29"
      ],
      "text/latex": [
       "29"
      ],
      "text/markdown": [
       "29"
      ],
      "text/plain": [
       "[1] 29"
      ]
     },
     "metadata": {},
     "output_type": "display_data"
    }
   ],
   "source": [
    "nk # amount of cluster"
   ]
  },
  {
   "cell_type": "code",
   "execution_count": 126,
   "id": "82de27b2-7d06-4b60-8922-c50296886d4b",
   "metadata": {},
   "outputs": [
    {
     "data": {
      "text/html": [
       "121"
      ],
      "text/latex": [
       "121"
      ],
      "text/markdown": [
       "121"
      ],
      "text/plain": [
       "[1] 121"
      ]
     },
     "metadata": {},
     "output_type": "display_data"
    }
   ],
   "source": [
    "ns # amount of samples"
   ]
  },
  {
   "cell_type": "markdown",
   "id": "8f18af27-7161-4ba3-8d5d-d110b129d4ed",
   "metadata": {
    "tags": []
   },
   "source": [
    "## Aggregate single cell to pseudo-bulk data"
   ]
  },
  {
   "cell_type": "code",
   "execution_count": 128,
   "id": "8f4f245e-453c-4734-98f2-0ec1788f8d46",
   "metadata": {},
   "outputs": [],
   "source": [
    "## Aggregate to pseudobulk"
   ]
  },
  {
   "cell_type": "code",
   "execution_count": 129,
   "id": "3fa37159-2094-46fc-ac6f-accb27946589",
   "metadata": {},
   "outputs": [
    {
     "data": {
      "text/plain": [
       "class: SingleCellExperiment \n",
       "dim: 19221 148275 \n",
       "metadata(1): experiment_info\n",
       "assays(2): counts logcounts\n",
       "rownames(19221): AL627309.1 AL627309.4 ... AC004556.1 AC240274.1\n",
       "rowData names(0):\n",
       "colnames(148275): AAACCCACATACAGGG-1-L1 AAACCCACATGACTTG-1-L1 ...\n",
       "  TTTGTTGGTGGACCAA-1-L14 TTTGTTGTCGAAGAAT-1-L14\n",
       "colData names(33): cluster_id sample_id ... library_char ident\n",
       "reducedDimNames(0):\n",
       "mainExpName: RNA\n",
       "altExpNames(0):"
      ]
     },
     "metadata": {},
     "output_type": "display_data"
    }
   ],
   "source": [
    "rna_sce"
   ]
  },
  {
   "cell_type": "code",
   "execution_count": null,
   "id": "064ce8c9-3ece-40eb-a699-d531215e6f1a",
   "metadata": {},
   "outputs": [],
   "source": [
    "pb <- aggregateData(rna_sce,\n",
    "    assay = \"counts\", fun = \"mean\",\n",
    "    by = c(\"cluster_id\", \"sample_id\"))\n",
    "# one sheet per subpopulation"
   ]
  },
  {
   "cell_type": "code",
   "execution_count": null,
   "id": "c2d83ac0-dc09-4a77-ba5e-a12470daa79c",
   "metadata": {},
   "outputs": [],
   "source": [
    "pb"
   ]
  },
  {
   "cell_type": "code",
   "execution_count": null,
   "id": "0487cfa3-9205-4dc1-8e0f-c267db6d677f",
   "metadata": {},
   "outputs": [],
   "source": [
    "### Save aggregated data"
   ]
  },
  {
   "cell_type": "code",
   "execution_count": null,
   "id": "030e3218-8000-4cc0-85ff-75e05428cf52",
   "metadata": {},
   "outputs": [],
   "source": [
    "save(  pb , file = paste0(result_path, '/G-Analysis/G0_aggregated_RNA_input_correlations_all.RDS'))"
   ]
  },
  {
   "cell_type": "code",
   "execution_count": null,
   "id": "bc6493c1-b204-4252-9ccc-8358b1f701d6",
   "metadata": {},
   "outputs": [],
   "source": []
  },
  {
   "cell_type": "code",
   "execution_count": null,
   "id": "59766da0-9ccc-42d9-b162-bfe05ba5ac98",
   "metadata": {},
   "outputs": [],
   "source": []
  }
 ],
 "metadata": {
  "kernelspec": {
   "display_name": "R",
   "language": "R",
   "name": "ir"
  },
  "language_info": {
   "codemirror_mode": "r",
   "file_extension": ".r",
   "mimetype": "text/x-r-source",
   "name": "R",
   "pygments_lexer": "r",
   "version": "4.1.1"
  },
  "toc-autonumbering": true,
  "toc-showcode": false,
  "toc-showmarkdowntxt": false,
  "toc-showtags": false
 },
 "nbformat": 4,
 "nbformat_minor": 5
}

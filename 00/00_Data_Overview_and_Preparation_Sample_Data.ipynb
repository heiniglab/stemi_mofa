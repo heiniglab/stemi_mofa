{
 "cells": [
  {
   "cell_type": "code",
   "execution_count": 15,
   "id": "f98ecf79-d241-489c-bc96-665831e7f11d",
   "metadata": {},
   "outputs": [],
   "source": [
    "##### General Descriptive Analysis of available meta-data on samples + received data for samples (overview over all data except single-cell RNA)\n",
    "## Cytokines\n",
    "## Neutrophils\n",
    "## Proteomics"
   ]
  },
  {
   "cell_type": "markdown",
   "id": "052870ec-b4fc-4932-8871-39cbf8ec45e5",
   "metadata": {
    "tags": []
   },
   "source": [
    "#############################################\n",
    "# Prerequisites - Load Libraries"
   ]
  },
  {
   "cell_type": "code",
   "execution_count": 16,
   "id": "e4e54882-bfd9-4c47-bc3f-526761c7b29e",
   "metadata": {
    "tags": []
   },
   "outputs": [],
   "source": [
    "source('MS0_Libraries.r')"
   ]
  },
  {
   "cell_type": "markdown",
   "id": "abc69464-9a92-42b3-8694-a854bb92a85e",
   "metadata": {
    "tags": []
   },
   "source": [
    "###############################################\n",
    "# Preqrequisites Configurations & Parameters"
   ]
  },
  {
   "cell_type": "code",
   "execution_count": 17,
   "id": "b15affd1-7e03-4e82-afe9-e212aa91144e",
   "metadata": {},
   "outputs": [],
   "source": [
    "data_path = '../data/current'"
   ]
  },
  {
   "cell_type": "code",
   "execution_count": 18,
   "id": "4997b5bb-2b94-4d72-89c5-2298428d29cd",
   "metadata": {},
   "outputs": [],
   "source": [
    "result_path = '../results/current'"
   ]
  },
  {
   "cell_type": "code",
   "execution_count": 19,
   "id": "65d23292-62d0-4ba7-a3cc-9a49119d414d",
   "metadata": {},
   "outputs": [
    {
     "data": {
      "text/html": [
       "'../data/current'"
      ],
      "text/latex": [
       "'../data/current'"
      ],
      "text/markdown": [
       "'../data/current'"
      ],
      "text/plain": [
       "[1] \"../data/current\""
      ]
     },
     "metadata": {},
     "output_type": "display_data"
    }
   ],
   "source": [
    "data_path"
   ]
  },
  {
   "cell_type": "code",
   "execution_count": 20,
   "id": "a75c120f-9d88-4676-a527-9fe52989f40b",
   "metadata": {},
   "outputs": [],
   "source": [
    "libraries = c('L1', 'L2', 'L3', 'L4', 'L5', 'L6', 'L7', 'L8', 'L9', 'L10','L11', 'L12', 'L13', 'L14')"
   ]
  },
  {
   "cell_type": "markdown",
   "id": "b1fec96b-dec9-424b-a24a-099d4f7c9d73",
   "metadata": {},
   "source": [
    "# Load Data "
   ]
  },
  {
   "cell_type": "markdown",
   "id": "17e457ab-ad20-4ba8-8f98-d08f076eaccd",
   "metadata": {},
   "source": [
    "## Sample Meta Data"
   ]
  },
  {
   "cell_type": "markdown",
   "id": "41b44d48-4a05-45b7-a182-c38f58121eb1",
   "metadata": {},
   "source": [
    "### Overview all samples"
   ]
  },
  {
   "cell_type": "code",
   "execution_count": 21,
   "id": "ca4165c8-7f32-4bda-beae-6cd97e8c05cd",
   "metadata": {},
   "outputs": [],
   "source": [
    "### Read in data"
   ]
  },
  {
   "cell_type": "code",
   "execution_count": 22,
   "id": "6b9649b3-ef99-4a67-bfad-5ab41b5bfeeb",
   "metadata": {},
   "outputs": [
    {
     "name": "stdout",
     "output_type": "stream",
     "text": [
      "[1] \"2022-01-14 09:24:58 CET\"\n"
     ]
    }
   ],
   "source": [
    "path = paste0(data_path, \"/preprocessed-data/meta-data/all_samples.csv\")\n",
    "all_samples =  read.csv(path)\n",
    "print(file.info(path)$mtime)"
   ]
  },
  {
   "cell_type": "code",
   "execution_count": 23,
   "id": "f1da6243-2b3f-4845-ac2b-9cc4be3f324f",
   "metadata": {},
   "outputs": [
    {
     "data": {
      "text/html": [
       "146"
      ],
      "text/latex": [
       "146"
      ],
      "text/markdown": [
       "146"
      ],
      "text/plain": [
       "[1] 146"
      ]
     },
     "metadata": {},
     "output_type": "display_data"
    }
   ],
   "source": [
    "nrow(all_samples)"
   ]
  },
  {
   "cell_type": "code",
   "execution_count": 24,
   "id": "be4047c8-3de5-4cde-8316-1de3dbab82b3",
   "metadata": {},
   "outputs": [
    {
     "data": {
      "text/html": [
       "146"
      ],
      "text/latex": [
       "146"
      ],
      "text/markdown": [
       "146"
      ],
      "text/plain": [
       "[1] 146"
      ]
     },
     "metadata": {},
     "output_type": "display_data"
    }
   ],
   "source": [
    "length(unique(all_samples$id))"
   ]
  },
  {
   "cell_type": "code",
   "execution_count": 25,
   "id": "bb9e8d6d-d8d6-4510-9d56-0fcf1826791e",
   "metadata": {},
   "outputs": [],
   "source": [
    "all_samples$id = as.character(all_samples$id)"
   ]
  },
  {
   "cell_type": "code",
   "execution_count": 26,
   "id": "12d38a3c-48cc-4e59-8131-6e463b838bcf",
   "metadata": {},
   "outputs": [
    {
     "data": {
      "text/html": [
       "<style>\n",
       ".list-inline {list-style: none; margin:0; padding: 0}\n",
       ".list-inline>li {display: inline-block}\n",
       ".list-inline>li:not(:last-child)::after {content: \"\\00b7\"; padding: 0 .5ex}\n",
       "</style>\n",
       "<ol class=list-inline><li>'1'</li><li>'10'</li><li>'11'</li><li>'12'</li><li>'13'</li><li>'14'</li><li>'15'</li><li>'16'</li><li>'17'</li><li>'18'</li><li>'19'</li><li>'2'</li><li>'20'</li><li>'21'</li><li>'22'</li><li>'23'</li><li>'24'</li><li>'25'</li><li>'26'</li><li>'27'</li><li>'28'</li><li>'29'</li><li>'3'</li><li>'30'</li><li>'31'</li><li>'32'</li><li>'33'</li><li>'34'</li><li>'4'</li><li>'5'</li><li>'6'</li><li>'7'</li><li>'8'</li><li>'9'</li><li>'1.1'</li><li>'1.2'</li><li>'1.3'</li><li>'1.4'</li><li>'10.1'</li><li>'10.2'</li><li>'10.3'</li><li>'10.4'</li><li>'11.1'</li><li>'11.2'</li><li>'11.3'</li><li>'11.4'</li><li>'12.1'</li><li>'12.2'</li><li>'12.3'</li><li>'12.4'</li><li>'13.1'</li><li>'13.2'</li><li>'13.3'</li><li>'13.4'</li><li>'14.1'</li><li>'14.2'</li><li>'14.3'</li><li>'14.4'</li><li>'15.1'</li><li>'15.2'</li><li>'15.3'</li><li>'15.4'</li><li>'16.1'</li><li>'16.2'</li><li>'16.3'</li><li>'16.4'</li><li>'17.1'</li><li>'17.2'</li><li>'17.3'</li><li>'17.4'</li><li>'18.1'</li><li>'18.2'</li><li>'18.3'</li><li>'18.4'</li><li>'19.1'</li><li>'19.2'</li><li>'19.3'</li><li>'19.4'</li><li>'2.1'</li><li>'2.2'</li><li>'2.3'</li><li>'2.4'</li><li>'20.1'</li><li>'20.2'</li><li>'20.3'</li><li>'20.4'</li><li>'21.1'</li><li>'21.2'</li><li>'21.3'</li><li>'21.4'</li><li>'22.1'</li><li>'22.2'</li><li>'22.3'</li><li>'22.4'</li><li>'23.1'</li><li>'23.2'</li><li>'23.3'</li><li>'23.4'</li><li>'24.1'</li><li>'24.2'</li><li>'24.3'</li><li>'24.4'</li><li>'25.1'</li><li>'25.2'</li><li>'25.3'</li><li>'25.4'</li><li>'26.1'</li><li>'26.2'</li><li>'26.3'</li><li>'26.4'</li><li>'27.1'</li><li>'27.2'</li><li>'27.3'</li><li>'27.4'</li><li>'28.1'</li><li>'28.2'</li><li>'28.3'</li><li>'28.4'</li><li>'3.1'</li><li>'3.2'</li><li>'3.3'</li><li>'3.4'</li><li>'4.1'</li><li>'4.2'</li><li>'4.3'</li><li>'4.4'</li><li>'5.1'</li><li>'5.2'</li><li>'5.3'</li><li>'5.4'</li><li>'6.1'</li><li>'6.2'</li><li>'6.3'</li><li>'6.4'</li><li>'7.1'</li><li>'7.2'</li><li>'7.3'</li><li>'7.4'</li><li>'8.1'</li><li>'8.2'</li><li>'8.3'</li><li>'8.4'</li><li>'9.1'</li><li>'9.2'</li><li>'9.3'</li><li>'9.4'</li></ol>\n"
      ],
      "text/latex": [
       "\\begin{enumerate*}\n",
       "\\item '1'\n",
       "\\item '10'\n",
       "\\item '11'\n",
       "\\item '12'\n",
       "\\item '13'\n",
       "\\item '14'\n",
       "\\item '15'\n",
       "\\item '16'\n",
       "\\item '17'\n",
       "\\item '18'\n",
       "\\item '19'\n",
       "\\item '2'\n",
       "\\item '20'\n",
       "\\item '21'\n",
       "\\item '22'\n",
       "\\item '23'\n",
       "\\item '24'\n",
       "\\item '25'\n",
       "\\item '26'\n",
       "\\item '27'\n",
       "\\item '28'\n",
       "\\item '29'\n",
       "\\item '3'\n",
       "\\item '30'\n",
       "\\item '31'\n",
       "\\item '32'\n",
       "\\item '33'\n",
       "\\item '34'\n",
       "\\item '4'\n",
       "\\item '5'\n",
       "\\item '6'\n",
       "\\item '7'\n",
       "\\item '8'\n",
       "\\item '9'\n",
       "\\item '1.1'\n",
       "\\item '1.2'\n",
       "\\item '1.3'\n",
       "\\item '1.4'\n",
       "\\item '10.1'\n",
       "\\item '10.2'\n",
       "\\item '10.3'\n",
       "\\item '10.4'\n",
       "\\item '11.1'\n",
       "\\item '11.2'\n",
       "\\item '11.3'\n",
       "\\item '11.4'\n",
       "\\item '12.1'\n",
       "\\item '12.2'\n",
       "\\item '12.3'\n",
       "\\item '12.4'\n",
       "\\item '13.1'\n",
       "\\item '13.2'\n",
       "\\item '13.3'\n",
       "\\item '13.4'\n",
       "\\item '14.1'\n",
       "\\item '14.2'\n",
       "\\item '14.3'\n",
       "\\item '14.4'\n",
       "\\item '15.1'\n",
       "\\item '15.2'\n",
       "\\item '15.3'\n",
       "\\item '15.4'\n",
       "\\item '16.1'\n",
       "\\item '16.2'\n",
       "\\item '16.3'\n",
       "\\item '16.4'\n",
       "\\item '17.1'\n",
       "\\item '17.2'\n",
       "\\item '17.3'\n",
       "\\item '17.4'\n",
       "\\item '18.1'\n",
       "\\item '18.2'\n",
       "\\item '18.3'\n",
       "\\item '18.4'\n",
       "\\item '19.1'\n",
       "\\item '19.2'\n",
       "\\item '19.3'\n",
       "\\item '19.4'\n",
       "\\item '2.1'\n",
       "\\item '2.2'\n",
       "\\item '2.3'\n",
       "\\item '2.4'\n",
       "\\item '20.1'\n",
       "\\item '20.2'\n",
       "\\item '20.3'\n",
       "\\item '20.4'\n",
       "\\item '21.1'\n",
       "\\item '21.2'\n",
       "\\item '21.3'\n",
       "\\item '21.4'\n",
       "\\item '22.1'\n",
       "\\item '22.2'\n",
       "\\item '22.3'\n",
       "\\item '22.4'\n",
       "\\item '23.1'\n",
       "\\item '23.2'\n",
       "\\item '23.3'\n",
       "\\item '23.4'\n",
       "\\item '24.1'\n",
       "\\item '24.2'\n",
       "\\item '24.3'\n",
       "\\item '24.4'\n",
       "\\item '25.1'\n",
       "\\item '25.2'\n",
       "\\item '25.3'\n",
       "\\item '25.4'\n",
       "\\item '26.1'\n",
       "\\item '26.2'\n",
       "\\item '26.3'\n",
       "\\item '26.4'\n",
       "\\item '27.1'\n",
       "\\item '27.2'\n",
       "\\item '27.3'\n",
       "\\item '27.4'\n",
       "\\item '28.1'\n",
       "\\item '28.2'\n",
       "\\item '28.3'\n",
       "\\item '28.4'\n",
       "\\item '3.1'\n",
       "\\item '3.2'\n",
       "\\item '3.3'\n",
       "\\item '3.4'\n",
       "\\item '4.1'\n",
       "\\item '4.2'\n",
       "\\item '4.3'\n",
       "\\item '4.4'\n",
       "\\item '5.1'\n",
       "\\item '5.2'\n",
       "\\item '5.3'\n",
       "\\item '5.4'\n",
       "\\item '6.1'\n",
       "\\item '6.2'\n",
       "\\item '6.3'\n",
       "\\item '6.4'\n",
       "\\item '7.1'\n",
       "\\item '7.2'\n",
       "\\item '7.3'\n",
       "\\item '7.4'\n",
       "\\item '8.1'\n",
       "\\item '8.2'\n",
       "\\item '8.3'\n",
       "\\item '8.4'\n",
       "\\item '9.1'\n",
       "\\item '9.2'\n",
       "\\item '9.3'\n",
       "\\item '9.4'\n",
       "\\end{enumerate*}\n"
      ],
      "text/markdown": [
       "1. '1'\n",
       "2. '10'\n",
       "3. '11'\n",
       "4. '12'\n",
       "5. '13'\n",
       "6. '14'\n",
       "7. '15'\n",
       "8. '16'\n",
       "9. '17'\n",
       "10. '18'\n",
       "11. '19'\n",
       "12. '2'\n",
       "13. '20'\n",
       "14. '21'\n",
       "15. '22'\n",
       "16. '23'\n",
       "17. '24'\n",
       "18. '25'\n",
       "19. '26'\n",
       "20. '27'\n",
       "21. '28'\n",
       "22. '29'\n",
       "23. '3'\n",
       "24. '30'\n",
       "25. '31'\n",
       "26. '32'\n",
       "27. '33'\n",
       "28. '34'\n",
       "29. '4'\n",
       "30. '5'\n",
       "31. '6'\n",
       "32. '7'\n",
       "33. '8'\n",
       "34. '9'\n",
       "35. '1.1'\n",
       "36. '1.2'\n",
       "37. '1.3'\n",
       "38. '1.4'\n",
       "39. '10.1'\n",
       "40. '10.2'\n",
       "41. '10.3'\n",
       "42. '10.4'\n",
       "43. '11.1'\n",
       "44. '11.2'\n",
       "45. '11.3'\n",
       "46. '11.4'\n",
       "47. '12.1'\n",
       "48. '12.2'\n",
       "49. '12.3'\n",
       "50. '12.4'\n",
       "51. '13.1'\n",
       "52. '13.2'\n",
       "53. '13.3'\n",
       "54. '13.4'\n",
       "55. '14.1'\n",
       "56. '14.2'\n",
       "57. '14.3'\n",
       "58. '14.4'\n",
       "59. '15.1'\n",
       "60. '15.2'\n",
       "61. '15.3'\n",
       "62. '15.4'\n",
       "63. '16.1'\n",
       "64. '16.2'\n",
       "65. '16.3'\n",
       "66. '16.4'\n",
       "67. '17.1'\n",
       "68. '17.2'\n",
       "69. '17.3'\n",
       "70. '17.4'\n",
       "71. '18.1'\n",
       "72. '18.2'\n",
       "73. '18.3'\n",
       "74. '18.4'\n",
       "75. '19.1'\n",
       "76. '19.2'\n",
       "77. '19.3'\n",
       "78. '19.4'\n",
       "79. '2.1'\n",
       "80. '2.2'\n",
       "81. '2.3'\n",
       "82. '2.4'\n",
       "83. '20.1'\n",
       "84. '20.2'\n",
       "85. '20.3'\n",
       "86. '20.4'\n",
       "87. '21.1'\n",
       "88. '21.2'\n",
       "89. '21.3'\n",
       "90. '21.4'\n",
       "91. '22.1'\n",
       "92. '22.2'\n",
       "93. '22.3'\n",
       "94. '22.4'\n",
       "95. '23.1'\n",
       "96. '23.2'\n",
       "97. '23.3'\n",
       "98. '23.4'\n",
       "99. '24.1'\n",
       "100. '24.2'\n",
       "101. '24.3'\n",
       "102. '24.4'\n",
       "103. '25.1'\n",
       "104. '25.2'\n",
       "105. '25.3'\n",
       "106. '25.4'\n",
       "107. '26.1'\n",
       "108. '26.2'\n",
       "109. '26.3'\n",
       "110. '26.4'\n",
       "111. '27.1'\n",
       "112. '27.2'\n",
       "113. '27.3'\n",
       "114. '27.4'\n",
       "115. '28.1'\n",
       "116. '28.2'\n",
       "117. '28.3'\n",
       "118. '28.4'\n",
       "119. '3.1'\n",
       "120. '3.2'\n",
       "121. '3.3'\n",
       "122. '3.4'\n",
       "123. '4.1'\n",
       "124. '4.2'\n",
       "125. '4.3'\n",
       "126. '4.4'\n",
       "127. '5.1'\n",
       "128. '5.2'\n",
       "129. '5.3'\n",
       "130. '5.4'\n",
       "131. '6.1'\n",
       "132. '6.2'\n",
       "133. '6.3'\n",
       "134. '6.4'\n",
       "135. '7.1'\n",
       "136. '7.2'\n",
       "137. '7.3'\n",
       "138. '7.4'\n",
       "139. '8.1'\n",
       "140. '8.2'\n",
       "141. '8.3'\n",
       "142. '8.4'\n",
       "143. '9.1'\n",
       "144. '9.2'\n",
       "145. '9.3'\n",
       "146. '9.4'\n",
       "\n",
       "\n"
      ],
      "text/plain": [
       "  [1] \"1\"    \"10\"   \"11\"   \"12\"   \"13\"   \"14\"   \"15\"   \"16\"   \"17\"   \"18\"  \n",
       " [11] \"19\"   \"2\"    \"20\"   \"21\"   \"22\"   \"23\"   \"24\"   \"25\"   \"26\"   \"27\"  \n",
       " [21] \"28\"   \"29\"   \"3\"    \"30\"   \"31\"   \"32\"   \"33\"   \"34\"   \"4\"    \"5\"   \n",
       " [31] \"6\"    \"7\"    \"8\"    \"9\"    \"1.1\"  \"1.2\"  \"1.3\"  \"1.4\"  \"10.1\" \"10.2\"\n",
       " [41] \"10.3\" \"10.4\" \"11.1\" \"11.2\" \"11.3\" \"11.4\" \"12.1\" \"12.2\" \"12.3\" \"12.4\"\n",
       " [51] \"13.1\" \"13.2\" \"13.3\" \"13.4\" \"14.1\" \"14.2\" \"14.3\" \"14.4\" \"15.1\" \"15.2\"\n",
       " [61] \"15.3\" \"15.4\" \"16.1\" \"16.2\" \"16.3\" \"16.4\" \"17.1\" \"17.2\" \"17.3\" \"17.4\"\n",
       " [71] \"18.1\" \"18.2\" \"18.3\" \"18.4\" \"19.1\" \"19.2\" \"19.3\" \"19.4\" \"2.1\"  \"2.2\" \n",
       " [81] \"2.3\"  \"2.4\"  \"20.1\" \"20.2\" \"20.3\" \"20.4\" \"21.1\" \"21.2\" \"21.3\" \"21.4\"\n",
       " [91] \"22.1\" \"22.2\" \"22.3\" \"22.4\" \"23.1\" \"23.2\" \"23.3\" \"23.4\" \"24.1\" \"24.2\"\n",
       "[101] \"24.3\" \"24.4\" \"25.1\" \"25.2\" \"25.3\" \"25.4\" \"26.1\" \"26.2\" \"26.3\" \"26.4\"\n",
       "[111] \"27.1\" \"27.2\" \"27.3\" \"27.4\" \"28.1\" \"28.2\" \"28.3\" \"28.4\" \"3.1\"  \"3.2\" \n",
       "[121] \"3.3\"  \"3.4\"  \"4.1\"  \"4.2\"  \"4.3\"  \"4.4\"  \"5.1\"  \"5.2\"  \"5.3\"  \"5.4\" \n",
       "[131] \"6.1\"  \"6.2\"  \"6.3\"  \"6.4\"  \"7.1\"  \"7.2\"  \"7.3\"  \"7.4\"  \"8.1\"  \"8.2\" \n",
       "[141] \"8.3\"  \"8.4\"  \"9.1\"  \"9.2\"  \"9.3\"  \"9.4\" "
      ]
     },
     "metadata": {},
     "output_type": "display_data"
    }
   ],
   "source": [
    "unique(all_samples$id)"
   ]
  },
  {
   "cell_type": "code",
   "execution_count": 27,
   "id": "4ca73b37-a3b0-44f1-b7f5-9e8d734a1c8a",
   "metadata": {},
   "outputs": [],
   "source": [
    "all_samples$sample_id = paste0(tolower(str_extract(all_samples$sample, 'M|K')), all_samples$id)"
   ]
  },
  {
   "cell_type": "code",
   "execution_count": 28,
   "id": "5b0a9ef7-7955-4cda-a710-3dedf089c612",
   "metadata": {},
   "outputs": [
    {
     "data": {
      "text/html": [
       "<table class=\"dataframe\">\n",
       "<caption>A data.frame: 6 × 4</caption>\n",
       "<thead>\n",
       "\t<tr><th></th><th scope=col>sample</th><th scope=col>measurement</th><th scope=col>id</th><th scope=col>sample_id</th></tr>\n",
       "\t<tr><th></th><th scope=col>&lt;chr&gt;</th><th scope=col>&lt;chr&gt;</th><th scope=col>&lt;chr&gt;</th><th scope=col>&lt;chr&gt;</th></tr>\n",
       "</thead>\n",
       "<tbody>\n",
       "\t<tr><th scope=row>1</th><td>K1 </td><td>TP0</td><td>1 </td><td>k1 </td></tr>\n",
       "\t<tr><th scope=row>2</th><td>K10</td><td>TP0</td><td>10</td><td>k10</td></tr>\n",
       "\t<tr><th scope=row>3</th><td>K11</td><td>TP0</td><td>11</td><td>k11</td></tr>\n",
       "\t<tr><th scope=row>4</th><td>K12</td><td>TP0</td><td>12</td><td>k12</td></tr>\n",
       "\t<tr><th scope=row>5</th><td>K13</td><td>TP0</td><td>13</td><td>k13</td></tr>\n",
       "\t<tr><th scope=row>6</th><td>K14</td><td>TP0</td><td>14</td><td>k14</td></tr>\n",
       "</tbody>\n",
       "</table>\n"
      ],
      "text/latex": [
       "A data.frame: 6 × 4\n",
       "\\begin{tabular}{r|llll}\n",
       "  & sample & measurement & id & sample\\_id\\\\\n",
       "  & <chr> & <chr> & <chr> & <chr>\\\\\n",
       "\\hline\n",
       "\t1 & K1  & TP0 & 1  & k1 \\\\\n",
       "\t2 & K10 & TP0 & 10 & k10\\\\\n",
       "\t3 & K11 & TP0 & 11 & k11\\\\\n",
       "\t4 & K12 & TP0 & 12 & k12\\\\\n",
       "\t5 & K13 & TP0 & 13 & k13\\\\\n",
       "\t6 & K14 & TP0 & 14 & k14\\\\\n",
       "\\end{tabular}\n"
      ],
      "text/markdown": [
       "\n",
       "A data.frame: 6 × 4\n",
       "\n",
       "| <!--/--> | sample &lt;chr&gt; | measurement &lt;chr&gt; | id &lt;chr&gt; | sample_id &lt;chr&gt; |\n",
       "|---|---|---|---|---|\n",
       "| 1 | K1  | TP0 | 1  | k1  |\n",
       "| 2 | K10 | TP0 | 10 | k10 |\n",
       "| 3 | K11 | TP0 | 11 | k11 |\n",
       "| 4 | K12 | TP0 | 12 | k12 |\n",
       "| 5 | K13 | TP0 | 13 | k13 |\n",
       "| 6 | K14 | TP0 | 14 | k14 |\n",
       "\n"
      ],
      "text/plain": [
       "  sample measurement id sample_id\n",
       "1 K1     TP0         1  k1       \n",
       "2 K10    TP0         10 k10      \n",
       "3 K11    TP0         11 k11      \n",
       "4 K12    TP0         12 k12      \n",
       "5 K13    TP0         13 k13      \n",
       "6 K14    TP0         14 k14      "
      ]
     },
     "metadata": {},
     "output_type": "display_data"
    }
   ],
   "source": [
    "head(all_samples)"
   ]
  },
  {
   "cell_type": "code",
   "execution_count": 29,
   "id": "cd33b5ba-9b4e-4d0f-b71a-a6c585887b55",
   "metadata": {},
   "outputs": [],
   "source": [
    "all_samples$sample = str_replace(all_samples$sample, ' ', '') # remove empty spaces in names"
   ]
  },
  {
   "cell_type": "markdown",
   "id": "b4f92561-9477-4698-947f-69edd42c9f12",
   "metadata": {},
   "source": [
    "### Hashtag Mapping (sc-RNA -Seq Data)"
   ]
  },
  {
   "cell_type": "code",
   "execution_count": 30,
   "id": "ed8078c7-5c36-41d5-a58f-f0678213d809",
   "metadata": {},
   "outputs": [],
   "source": [
    "### Read in data"
   ]
  },
  {
   "cell_type": "code",
   "execution_count": 31,
   "id": "625c55c0-c857-436d-88d7-1fb736059ee7",
   "metadata": {},
   "outputs": [
    {
     "name": "stdout",
     "output_type": "stream",
     "text": [
      "[1] \"2021-09-02 13:17:03 CEST\"\n"
     ]
    }
   ],
   "source": [
    "path = paste0(data_path, \"/preprocessed-data/meta-data/Mapping_Hashtag_Sample.csv\")\n",
    "hashtags = read.csv(path)\n",
    "print(file.info(path)$mtime)"
   ]
  },
  {
   "cell_type": "code",
   "execution_count": 32,
   "id": "7ef70813-81d7-4e64-a5f1-6366820fdfc7",
   "metadata": {},
   "outputs": [],
   "source": [
    "hashtags = hashtags %>% rename(measurement_tp = group)"
   ]
  },
  {
   "cell_type": "code",
   "execution_count": 33,
   "id": "32fb8ca5-a6ca-4811-94b7-495c6e8d323f",
   "metadata": {},
   "outputs": [
    {
     "data": {
      "text/html": [
       "135"
      ],
      "text/latex": [
       "135"
      ],
      "text/markdown": [
       "135"
      ],
      "text/plain": [
       "[1] 135"
      ]
     },
     "metadata": {},
     "output_type": "display_data"
    }
   ],
   "source": [
    "nrow(hashtags)"
   ]
  },
  {
   "cell_type": "code",
   "execution_count": 34,
   "id": "408d19b6-0024-4a63-9ade-94fa024ad133",
   "metadata": {},
   "outputs": [
    {
     "data": {
      "text/html": [
       "121"
      ],
      "text/latex": [
       "121"
      ],
      "text/markdown": [
       "121"
      ],
      "text/plain": [
       "[1] 121"
      ]
     },
     "metadata": {},
     "output_type": "display_data"
    }
   ],
   "source": [
    "nrow(hashtags[hashtags$in_sample == 1, ])  # Overall 121 measured samples for which single-cell RNA seq data was measured"
   ]
  },
  {
   "cell_type": "code",
   "execution_count": 35,
   "id": "2976f71f-5e51-4fb4-88d8-ddd84fa4216c",
   "metadata": {},
   "outputs": [
    {
     "data": {
      "text/html": [
       "<table class=\"dataframe\">\n",
       "<caption>A data.frame: 2 × 11</caption>\n",
       "<thead>\n",
       "\t<tr><th></th><th scope=col>library</th><th scope=col>id</th><th scope=col>name</th><th scope=col>read</th><th scope=col>pattern</th><th scope=col>sequence</th><th scope=col>feature_type</th><th scope=col>X</th><th scope=col>in_sample</th><th scope=col>display_name</th><th scope=col>measurement_tp</th></tr>\n",
       "\t<tr><th></th><th scope=col>&lt;chr&gt;</th><th scope=col>&lt;chr&gt;</th><th scope=col>&lt;chr&gt;</th><th scope=col>&lt;chr&gt;</th><th scope=col>&lt;chr&gt;</th><th scope=col>&lt;chr&gt;</th><th scope=col>&lt;chr&gt;</th><th scope=col>&lt;lgl&gt;</th><th scope=col>&lt;int&gt;</th><th scope=col>&lt;chr&gt;</th><th scope=col>&lt;chr&gt;</th></tr>\n",
       "</thead>\n",
       "<tbody>\n",
       "\t<tr><th scope=row>1</th><td>L1</td><td>HTO_B0251</td><td>1.1</td><td>R2</td><td>5PNNNNNNNNNN(BC)</td><td>GTCAACTCTTTAGCG</td><td>Antibody Capture</td><td>NA</td><td>1</td><td>1.1</td><td>TP1</td></tr>\n",
       "\t<tr><th scope=row>2</th><td>L1</td><td>HTO_B0252</td><td>2.1</td><td>R2</td><td>5PNNNNNNNNNN(BC)</td><td>TGATGGCCTATTGGG</td><td>Antibody Capture</td><td>NA</td><td>1</td><td>2.1</td><td>TP1</td></tr>\n",
       "</tbody>\n",
       "</table>\n"
      ],
      "text/latex": [
       "A data.frame: 2 × 11\n",
       "\\begin{tabular}{r|lllllllllll}\n",
       "  & library & id & name & read & pattern & sequence & feature\\_type & X & in\\_sample & display\\_name & measurement\\_tp\\\\\n",
       "  & <chr> & <chr> & <chr> & <chr> & <chr> & <chr> & <chr> & <lgl> & <int> & <chr> & <chr>\\\\\n",
       "\\hline\n",
       "\t1 & L1 & HTO\\_B0251 & 1.1 & R2 & 5PNNNNNNNNNN(BC) & GTCAACTCTTTAGCG & Antibody Capture & NA & 1 & 1.1 & TP1\\\\\n",
       "\t2 & L1 & HTO\\_B0252 & 2.1 & R2 & 5PNNNNNNNNNN(BC) & TGATGGCCTATTGGG & Antibody Capture & NA & 1 & 2.1 & TP1\\\\\n",
       "\\end{tabular}\n"
      ],
      "text/markdown": [
       "\n",
       "A data.frame: 2 × 11\n",
       "\n",
       "| <!--/--> | library &lt;chr&gt; | id &lt;chr&gt; | name &lt;chr&gt; | read &lt;chr&gt; | pattern &lt;chr&gt; | sequence &lt;chr&gt; | feature_type &lt;chr&gt; | X &lt;lgl&gt; | in_sample &lt;int&gt; | display_name &lt;chr&gt; | measurement_tp &lt;chr&gt; |\n",
       "|---|---|---|---|---|---|---|---|---|---|---|---|\n",
       "| 1 | L1 | HTO_B0251 | 1.1 | R2 | 5PNNNNNNNNNN(BC) | GTCAACTCTTTAGCG | Antibody Capture | NA | 1 | 1.1 | TP1 |\n",
       "| 2 | L1 | HTO_B0252 | 2.1 | R2 | 5PNNNNNNNNNN(BC) | TGATGGCCTATTGGG | Antibody Capture | NA | 1 | 2.1 | TP1 |\n",
       "\n"
      ],
      "text/plain": [
       "  library id        name read pattern          sequence        feature_type    \n",
       "1 L1      HTO_B0251 1.1  R2   5PNNNNNNNNNN(BC) GTCAACTCTTTAGCG Antibody Capture\n",
       "2 L1      HTO_B0252 2.1  R2   5PNNNNNNNNNN(BC) TGATGGCCTATTGGG Antibody Capture\n",
       "  X  in_sample display_name measurement_tp\n",
       "1 NA 1         1.1          TP1           \n",
       "2 NA 1         2.1          TP1           "
      ]
     },
     "metadata": {},
     "output_type": "display_data"
    }
   ],
   "source": [
    "head(hashtags,2) # actually this data is not needed as measurement information is also given in other classification tables is the same "
   ]
  },
  {
   "cell_type": "code",
   "execution_count": 36,
   "id": "1e836972-9456-4b8a-a422-b9ffc8e081e3",
   "metadata": {},
   "outputs": [
    {
     "data": {
      "text/plain": [
       "\n",
       "Chronic-CCS      No-CCS         TP1         TP2         TP3         TP4 \n",
       "         16          18          25          30          26          20 "
      ]
     },
     "metadata": {},
     "output_type": "display_data"
    }
   ],
   "source": [
    "table(hashtags$measurement_tp)"
   ]
  },
  {
   "cell_type": "code",
   "execution_count": 37,
   "id": "9c869051-de0f-466b-9541-155446cd9d82",
   "metadata": {},
   "outputs": [],
   "source": [
    "### Add information to all_samples"
   ]
  },
  {
   "cell_type": "code",
   "execution_count": 38,
   "id": "4a5eca39-7ab9-4508-a43a-101c1a52439e",
   "metadata": {},
   "outputs": [],
   "source": [
    "hashtags$sc_rna_seq_data = 1"
   ]
  },
  {
   "cell_type": "code",
   "execution_count": 39,
   "id": "1af4dff2-1e0b-473d-92da-d82af5f660a8",
   "metadata": {},
   "outputs": [],
   "source": [
    "all_samples_info = merge(all_samples, unique(hashtags[hashtags$in_sample == 1,c('display_name', 'sc_rna_seq_data')]), by.x = 'id', by.y = 'display_name', all.x = TRUE)"
   ]
  },
  {
   "cell_type": "code",
   "execution_count": 40,
   "id": "f9d8425d-0587-4ab7-a552-9fd6ae0576d7",
   "metadata": {},
   "outputs": [
    {
     "data": {
      "text/html": [
       "<table class=\"dataframe\">\n",
       "<caption>A data.frame: 6 × 5</caption>\n",
       "<thead>\n",
       "\t<tr><th></th><th scope=col>id</th><th scope=col>sample</th><th scope=col>measurement</th><th scope=col>sample_id</th><th scope=col>sc_rna_seq_data</th></tr>\n",
       "\t<tr><th></th><th scope=col>&lt;chr&gt;</th><th scope=col>&lt;chr&gt;</th><th scope=col>&lt;chr&gt;</th><th scope=col>&lt;chr&gt;</th><th scope=col>&lt;dbl&gt;</th></tr>\n",
       "</thead>\n",
       "<tbody>\n",
       "\t<tr><th scope=row>1</th><td>1  </td><td>K1 </td><td>TP0</td><td>k1  </td><td>NA</td></tr>\n",
       "\t<tr><th scope=row>2</th><td>1.1</td><td>M1 </td><td>TP1</td><td>m1.1</td><td> 1</td></tr>\n",
       "\t<tr><th scope=row>3</th><td>1.2</td><td>M1 </td><td>TP2</td><td>m1.2</td><td>NA</td></tr>\n",
       "\t<tr><th scope=row>4</th><td>1.3</td><td>M1 </td><td>TP3</td><td>m1.3</td><td>NA</td></tr>\n",
       "\t<tr><th scope=row>5</th><td>1.4</td><td>M1 </td><td>TP4</td><td>m1.4</td><td>NA</td></tr>\n",
       "\t<tr><th scope=row>6</th><td>10 </td><td>K10</td><td>TP0</td><td>k10 </td><td> 1</td></tr>\n",
       "</tbody>\n",
       "</table>\n"
      ],
      "text/latex": [
       "A data.frame: 6 × 5\n",
       "\\begin{tabular}{r|lllll}\n",
       "  & id & sample & measurement & sample\\_id & sc\\_rna\\_seq\\_data\\\\\n",
       "  & <chr> & <chr> & <chr> & <chr> & <dbl>\\\\\n",
       "\\hline\n",
       "\t1 & 1   & K1  & TP0 & k1   & NA\\\\\n",
       "\t2 & 1.1 & M1  & TP1 & m1.1 &  1\\\\\n",
       "\t3 & 1.2 & M1  & TP2 & m1.2 & NA\\\\\n",
       "\t4 & 1.3 & M1  & TP3 & m1.3 & NA\\\\\n",
       "\t5 & 1.4 & M1  & TP4 & m1.4 & NA\\\\\n",
       "\t6 & 10  & K10 & TP0 & k10  &  1\\\\\n",
       "\\end{tabular}\n"
      ],
      "text/markdown": [
       "\n",
       "A data.frame: 6 × 5\n",
       "\n",
       "| <!--/--> | id &lt;chr&gt; | sample &lt;chr&gt; | measurement &lt;chr&gt; | sample_id &lt;chr&gt; | sc_rna_seq_data &lt;dbl&gt; |\n",
       "|---|---|---|---|---|---|\n",
       "| 1 | 1   | K1  | TP0 | k1   | NA |\n",
       "| 2 | 1.1 | M1  | TP1 | m1.1 |  1 |\n",
       "| 3 | 1.2 | M1  | TP2 | m1.2 | NA |\n",
       "| 4 | 1.3 | M1  | TP3 | m1.3 | NA |\n",
       "| 5 | 1.4 | M1  | TP4 | m1.4 | NA |\n",
       "| 6 | 10  | K10 | TP0 | k10  |  1 |\n",
       "\n"
      ],
      "text/plain": [
       "  id  sample measurement sample_id sc_rna_seq_data\n",
       "1 1   K1     TP0         k1        NA             \n",
       "2 1.1 M1     TP1         m1.1       1             \n",
       "3 1.2 M1     TP2         m1.2      NA             \n",
       "4 1.3 M1     TP3         m1.3      NA             \n",
       "5 1.4 M1     TP4         m1.4      NA             \n",
       "6 10  K10    TP0         k10        1             "
      ]
     },
     "metadata": {},
     "output_type": "display_data"
    }
   ],
   "source": [
    "head(all_samples_info)"
   ]
  },
  {
   "cell_type": "code",
   "execution_count": 41,
   "id": "d8595099-7d4d-46bb-861b-b31321205794",
   "metadata": {},
   "outputs": [
    {
     "data": {
      "text/html": [
       "146"
      ],
      "text/latex": [
       "146"
      ],
      "text/markdown": [
       "146"
      ],
      "text/plain": [
       "[1] 146"
      ]
     },
     "metadata": {},
     "output_type": "display_data"
    }
   ],
   "source": [
    "nrow(all_samples_info)"
   ]
  },
  {
   "cell_type": "code",
   "execution_count": 42,
   "id": "521f38f4-4591-46ab-8fa5-8482c1e1a6d8",
   "metadata": {},
   "outputs": [],
   "source": [
    "all_samples_info$sc_rna_seq_data[is.na(all_samples_info$sc_rna_seq_data)] = 0"
   ]
  },
  {
   "cell_type": "code",
   "execution_count": 43,
   "id": "2098a6f0-1db4-491c-bf15-5adc054129b6",
   "metadata": {},
   "outputs": [
    {
     "data": {
      "text/html": [
       "119"
      ],
      "text/latex": [
       "119"
      ],
      "text/markdown": [
       "119"
      ],
      "text/plain": [
       "[1] 119"
      ]
     },
     "metadata": {},
     "output_type": "display_data"
    }
   ],
   "source": [
    "sum(all_samples_info$sc_rna_seq_data)   # 119 samples + tp combinations for which information available"
   ]
  },
  {
   "cell_type": "code",
   "execution_count": 44,
   "id": "2b6c4d6d-2598-4c78-bd8f-404624089bc8",
   "metadata": {},
   "outputs": [],
   "source": [
    "### Prepare one big sample data file"
   ]
  },
  {
   "cell_type": "code",
   "execution_count": 45,
   "id": "4ab76a95-cd7c-4804-9534-956d2df051cd",
   "metadata": {},
   "outputs": [],
   "source": [
    "sample_data = merge(all_samples, hashtags, by.x = 'id', by.y = 'display_name', all.x = TRUE)"
   ]
  },
  {
   "cell_type": "code",
   "execution_count": 46,
   "id": "ad5324e3-636d-4506-8eb3-593c753f08e4",
   "metadata": {},
   "outputs": [
    {
     "data": {
      "text/html": [
       "149"
      ],
      "text/latex": [
       "149"
      ],
      "text/markdown": [
       "149"
      ],
      "text/plain": [
       "[1] 149"
      ]
     },
     "metadata": {},
     "output_type": "display_data"
    }
   ],
   "source": [
    "nrow(sample_data)   # more because some samples measured twice"
   ]
  },
  {
   "cell_type": "code",
   "execution_count": 48,
   "id": "d4aaa26d-2a3e-482f-8a09-f5616f881224",
   "metadata": {},
   "outputs": [],
   "source": [
    "sample_data$sc_rna_seq_data[is.na(sample_data$sc_rna_seq_data)] = 0"
   ]
  },
  {
   "cell_type": "code",
   "execution_count": 49,
   "id": "3ed820f4-e8c9-4fd5-9d8b-7050ef30a8b5",
   "metadata": {},
   "outputs": [
    {
     "data": {
      "text/html": [
       "125"
      ],
      "text/latex": [
       "125"
      ],
      "text/markdown": [
       "125"
      ],
      "text/plain": [
       "[1] 125"
      ]
     },
     "metadata": {},
     "output_type": "display_data"
    }
   ],
   "source": [
    "sum(sample_data$sc_rna_seq_data)"
   ]
  },
  {
   "cell_type": "code",
   "execution_count": 50,
   "id": "e0111bb0-8134-4d12-a437-932c1eac8dee",
   "metadata": {},
   "outputs": [],
   "source": [
    "investigate = sample_data %>% group_by(sample_id) %>% count() "
   ]
  },
  {
   "cell_type": "code",
   "execution_count": 51,
   "id": "73dce5d2-5943-4f2f-9a1f-cb5969043274",
   "metadata": {},
   "outputs": [
    {
     "data": {
      "text/html": [
       "<table class=\"dataframe\">\n",
       "<caption>A grouped_df: 3 × 2</caption>\n",
       "<thead>\n",
       "\t<tr><th scope=col>sample_id</th><th scope=col>n</th></tr>\n",
       "\t<tr><th scope=col>&lt;chr&gt;</th><th scope=col>&lt;int&gt;</th></tr>\n",
       "</thead>\n",
       "<tbody>\n",
       "\t<tr><td>m13.2</td><td>2</td></tr>\n",
       "\t<tr><td>m6.1 </td><td>2</td></tr>\n",
       "\t<tr><td>m6.4 </td><td>2</td></tr>\n",
       "</tbody>\n",
       "</table>\n"
      ],
      "text/latex": [
       "A grouped\\_df: 3 × 2\n",
       "\\begin{tabular}{ll}\n",
       " sample\\_id & n\\\\\n",
       " <chr> & <int>\\\\\n",
       "\\hline\n",
       "\t m13.2 & 2\\\\\n",
       "\t m6.1  & 2\\\\\n",
       "\t m6.4  & 2\\\\\n",
       "\\end{tabular}\n"
      ],
      "text/markdown": [
       "\n",
       "A grouped_df: 3 × 2\n",
       "\n",
       "| sample_id &lt;chr&gt; | n &lt;int&gt; |\n",
       "|---|---|\n",
       "| m13.2 | 2 |\n",
       "| m6.1  | 2 |\n",
       "| m6.4  | 2 |\n",
       "\n"
      ],
      "text/plain": [
       "  sample_id n\n",
       "1 m13.2     2\n",
       "2 m6.1      2\n",
       "3 m6.4      2"
      ]
     },
     "metadata": {},
     "output_type": "display_data"
    }
   ],
   "source": [
    "investigate[investigate$n > 1, ] # 3 samples that have been measured twice!"
   ]
  },
  {
   "cell_type": "code",
   "execution_count": 52,
   "id": "215c9512-6f2c-4545-9b58-87f08d44b443",
   "metadata": {},
   "outputs": [
    {
     "data": {
      "text/html": [
       "<table class=\"dataframe\">\n",
       "<caption>A data.frame: 2 × 15</caption>\n",
       "<thead>\n",
       "\t<tr><th></th><th scope=col>id</th><th scope=col>sample</th><th scope=col>measurement</th><th scope=col>sample_id</th><th scope=col>library</th><th scope=col>id.y</th><th scope=col>name</th><th scope=col>read</th><th scope=col>pattern</th><th scope=col>sequence</th><th scope=col>feature_type</th><th scope=col>X</th><th scope=col>in_sample</th><th scope=col>measurement_tp</th><th scope=col>sc_rna_seq_data</th></tr>\n",
       "\t<tr><th></th><th scope=col>&lt;chr&gt;</th><th scope=col>&lt;chr&gt;</th><th scope=col>&lt;chr&gt;</th><th scope=col>&lt;chr&gt;</th><th scope=col>&lt;chr&gt;</th><th scope=col>&lt;chr&gt;</th><th scope=col>&lt;chr&gt;</th><th scope=col>&lt;chr&gt;</th><th scope=col>&lt;chr&gt;</th><th scope=col>&lt;chr&gt;</th><th scope=col>&lt;chr&gt;</th><th scope=col>&lt;lgl&gt;</th><th scope=col>&lt;int&gt;</th><th scope=col>&lt;chr&gt;</th><th scope=col>&lt;dbl&gt;</th></tr>\n",
       "</thead>\n",
       "<tbody>\n",
       "\t<tr><th scope=row>129</th><td>6.1</td><td>M6</td><td>TP1</td><td>m6.1</td><td>L3</td><td>HTO_B0259</td><td>6.1</td><td>R2</td><td>5PNNNNNNNNNN(BC)</td><td>CAGTAGTCACGGTCA</td><td>Antibody Capture</td><td>NA</td><td>1</td><td>TP1</td><td>1</td></tr>\n",
       "\t<tr><th scope=row>130</th><td>6.1</td><td>M6</td><td>TP1</td><td>m6.1</td><td>L1</td><td>HTO_B0256</td><td>6.1</td><td>R2</td><td>5PNNNNNNNNNN(BC)</td><td>GGTTGCCAGATGTCA</td><td>Antibody Capture</td><td>NA</td><td>0</td><td>TP1</td><td>1</td></tr>\n",
       "</tbody>\n",
       "</table>\n"
      ],
      "text/latex": [
       "A data.frame: 2 × 15\n",
       "\\begin{tabular}{r|lllllllllllllll}\n",
       "  & id & sample & measurement & sample\\_id & library & id.y & name & read & pattern & sequence & feature\\_type & X & in\\_sample & measurement\\_tp & sc\\_rna\\_seq\\_data\\\\\n",
       "  & <chr> & <chr> & <chr> & <chr> & <chr> & <chr> & <chr> & <chr> & <chr> & <chr> & <chr> & <lgl> & <int> & <chr> & <dbl>\\\\\n",
       "\\hline\n",
       "\t129 & 6.1 & M6 & TP1 & m6.1 & L3 & HTO\\_B0259 & 6.1 & R2 & 5PNNNNNNNNNN(BC) & CAGTAGTCACGGTCA & Antibody Capture & NA & 1 & TP1 & 1\\\\\n",
       "\t130 & 6.1 & M6 & TP1 & m6.1 & L1 & HTO\\_B0256 & 6.1 & R2 & 5PNNNNNNNNNN(BC) & GGTTGCCAGATGTCA & Antibody Capture & NA & 0 & TP1 & 1\\\\\n",
       "\\end{tabular}\n"
      ],
      "text/markdown": [
       "\n",
       "A data.frame: 2 × 15\n",
       "\n",
       "| <!--/--> | id &lt;chr&gt; | sample &lt;chr&gt; | measurement &lt;chr&gt; | sample_id &lt;chr&gt; | library &lt;chr&gt; | id.y &lt;chr&gt; | name &lt;chr&gt; | read &lt;chr&gt; | pattern &lt;chr&gt; | sequence &lt;chr&gt; | feature_type &lt;chr&gt; | X &lt;lgl&gt; | in_sample &lt;int&gt; | measurement_tp &lt;chr&gt; | sc_rna_seq_data &lt;dbl&gt; |\n",
       "|---|---|---|---|---|---|---|---|---|---|---|---|---|---|---|---|\n",
       "| 129 | 6.1 | M6 | TP1 | m6.1 | L3 | HTO_B0259 | 6.1 | R2 | 5PNNNNNNNNNN(BC) | CAGTAGTCACGGTCA | Antibody Capture | NA | 1 | TP1 | 1 |\n",
       "| 130 | 6.1 | M6 | TP1 | m6.1 | L1 | HTO_B0256 | 6.1 | R2 | 5PNNNNNNNNNN(BC) | GGTTGCCAGATGTCA | Antibody Capture | NA | 0 | TP1 | 1 |\n",
       "\n"
      ],
      "text/plain": [
       "    id  sample measurement sample_id library id.y      name read\n",
       "129 6.1 M6     TP1         m6.1      L3      HTO_B0259 6.1  R2  \n",
       "130 6.1 M6     TP1         m6.1      L1      HTO_B0256 6.1  R2  \n",
       "    pattern          sequence        feature_type     X  in_sample\n",
       "129 5PNNNNNNNNNN(BC) CAGTAGTCACGGTCA Antibody Capture NA 1        \n",
       "130 5PNNNNNNNNNN(BC) GGTTGCCAGATGTCA Antibody Capture NA 0        \n",
       "    measurement_tp sc_rna_seq_data\n",
       "129 TP1            1              \n",
       "130 TP1            1              "
      ]
     },
     "metadata": {},
     "output_type": "display_data"
    }
   ],
   "source": [
    "sample_data[sample_data$sample_id == 'm6.1',]"
   ]
  },
  {
   "cell_type": "raw",
   "id": "12add5cb-c3ae-4940-8ccc-70cd360f99a0",
   "metadata": {},
   "source": [
    "**Summary: 119 samples + tp combinations for which information available**"
   ]
  },
  {
   "cell_type": "markdown",
   "id": "ebe4f14c-c249-4dc0-b341-81822ad7beb5",
   "metadata": {},
   "source": [
    "### Group Classification Mapping"
   ]
  },
  {
   "cell_type": "code",
   "execution_count": 53,
   "id": "0fb4f1aa-956a-489e-a4c0-7f54db0a34d2",
   "metadata": {},
   "outputs": [],
   "source": [
    "### Read in data"
   ]
  },
  {
   "cell_type": "code",
   "execution_count": 54,
   "id": "3bc5465c-00ac-4e31-a476-018229ec37ea",
   "metadata": {},
   "outputs": [
    {
     "name": "stdout",
     "output_type": "stream",
     "text": [
      "[1] \"2022-01-14 09:35:27 CET\"\n"
     ]
    }
   ],
   "source": [
    "path = paste0(data_path, \"/preprocessed-data/meta-data/Mapping_Sample_Groups.csv\")\n",
    "group_classification = read.csv(path, colClasses=c(\"sample\"=\"character\"))\n",
    "print(file.info(path)$mtime)"
   ]
  },
  {
   "cell_type": "code",
   "execution_count": 55,
   "id": "4e0eb2ce-28d4-4f9a-a654-03ea3ec7974c",
   "metadata": {},
   "outputs": [
    {
     "data": {
      "text/html": [
       "122"
      ],
      "text/latex": [
       "122"
      ],
      "text/markdown": [
       "122"
      ],
      "text/plain": [
       "[1] 122"
      ]
     },
     "metadata": {},
     "output_type": "display_data"
    }
   ],
   "source": [
    "nrow(group_classification)"
   ]
  },
  {
   "cell_type": "code",
   "execution_count": 56,
   "id": "d6bd131c-e7db-4776-a856-728c7e708dd8",
   "metadata": {},
   "outputs": [],
   "source": [
    "group_classification$library = paste0('L', str_replace(group_classification$library.hashtag, '\\\\..*', ''))"
   ]
  },
  {
   "cell_type": "code",
   "execution_count": 58,
   "id": "ec6d598e-3cd4-443f-9257-ae91e81f843a",
   "metadata": {},
   "outputs": [
    {
     "data": {
      "text/html": [
       "62"
      ],
      "text/latex": [
       "62"
      ],
      "text/markdown": [
       "62"
      ],
      "text/plain": [
       "[1] 62"
      ]
     },
     "metadata": {},
     "output_type": "display_data"
    }
   ],
   "source": [
    "nrow(unique(group_classification[,c('age', 'sex', 'm', 'classification', 'group')]))   # this information is on sample basis - not dependent of timepoint!"
   ]
  },
  {
   "cell_type": "code",
   "execution_count": 59,
   "id": "6fd6cb36-eadd-498c-8c8f-2302d567549e",
   "metadata": {},
   "outputs": [],
   "source": [
    "classification_data = unique(group_classification[,c('age', 'sex', 'm', 'classification', 'group')])"
   ]
  },
  {
   "cell_type": "code",
   "execution_count": 61,
   "id": "7dbaec91-e93e-41a2-bc9b-4627aff9b7ba",
   "metadata": {},
   "outputs": [],
   "source": [
    "### Check out available information"
   ]
  },
  {
   "cell_type": "code",
   "execution_count": 62,
   "id": "9d16c6e0-73a5-46ce-bdc8-010e8ce71ae1",
   "metadata": {},
   "outputs": [
    {
     "data": {
      "text/plain": [
       "\n",
       "  f   m \n",
       " 21 101 "
      ]
     },
     "metadata": {},
     "output_type": "display_data"
    }
   ],
   "source": [
    "table(group_classification$sex)"
   ]
  },
  {
   "cell_type": "code",
   "execution_count": 63,
   "id": "741bc9e2-7fcd-4c3a-95a5-c724064149cc",
   "metadata": {},
   "outputs": [
    {
     "data": {
      "text/plain": [
       "\n",
       "             acs_subacute           acs_w_infection         acs_w_o_infection \n",
       "                        9                        15                        64 \n",
       "                      ccs           koronarsklerose vollstaendiger_ausschluss \n",
       "                       16                         7                        11 "
      ]
     },
     "metadata": {},
     "output_type": "display_data"
    }
   ],
   "source": [
    "table(group_classification$classification)"
   ]
  },
  {
   "cell_type": "code",
   "execution_count": 64,
   "id": "8362a199-897c-44f1-b0c0-adac2c7b8148",
   "metadata": {},
   "outputs": [
    {
     "data": {
      "text/plain": [
       "\n",
       "   acs    ccs no_ccs \n",
       "    88     16     18 "
      ]
     },
     "metadata": {},
     "output_type": "display_data"
    }
   ],
   "source": [
    "table(group_classification$group)"
   ]
  },
  {
   "cell_type": "code",
   "execution_count": 65,
   "id": "476ae56e-2179-4035-9cf1-334e03c93bb1",
   "metadata": {},
   "outputs": [
    {
     "data": {
      "text/plain": [
       "\n",
       "TP0 TP1 TP2 TP3 TP4 \n",
       " 34  22  25  23  18 "
      ]
     },
     "metadata": {},
     "output_type": "display_data"
    }
   ],
   "source": [
    "table(group_classification$measurement)"
   ]
  },
  {
   "cell_type": "code",
   "execution_count": 66,
   "id": "9480d908-ce19-4e14-a123-fa8babb98510",
   "metadata": {},
   "outputs": [],
   "source": [
    "### Add information to all_samples_info_file"
   ]
  },
  {
   "cell_type": "code",
   "execution_count": 67,
   "id": "c2f1d88c-b6cf-4a59-ab91-80e7afe6a379",
   "metadata": {},
   "outputs": [],
   "source": [
    "classification_data$meta_data = 1"
   ]
  },
  {
   "cell_type": "code",
   "execution_count": 68,
   "id": "07137d54-db92-478c-af30-faf93847de46",
   "metadata": {},
   "outputs": [
    {
     "data": {
      "text/html": [
       "146"
      ],
      "text/latex": [
       "146"
      ],
      "text/markdown": [
       "146"
      ],
      "text/plain": [
       "[1] 146"
      ]
     },
     "metadata": {},
     "output_type": "display_data"
    }
   ],
   "source": [
    "nrow(all_samples_info)"
   ]
  },
  {
   "cell_type": "code",
   "execution_count": 69,
   "id": "2b9b0090-fcbb-4a15-b433-03f8068b01f3",
   "metadata": {},
   "outputs": [],
   "source": [
    "all_samples_info = merge(all_samples_info, classification_data, by.x = 'sample', by.y = 'm', all.x = TRUE)"
   ]
  },
  {
   "cell_type": "code",
   "execution_count": 71,
   "id": "99a113e7-5375-4d1e-8d9f-e5fb4ebf7162",
   "metadata": {},
   "outputs": [],
   "source": [
    "all_samples_info$meta_data[is.na(all_samples_info$meta_data)] = 0"
   ]
  },
  {
   "cell_type": "code",
   "execution_count": 72,
   "id": "9ebe4899-9afa-43a7-b72f-0424629e833e",
   "metadata": {},
   "outputs": [
    {
     "data": {
      "text/html": [
       "146"
      ],
      "text/latex": [
       "146"
      ],
      "text/markdown": [
       "146"
      ],
      "text/plain": [
       "[1] 146"
      ]
     },
     "metadata": {},
     "output_type": "display_data"
    }
   ],
   "source": [
    "sum(all_samples_info$meta_data)  # Meta-data about assignment available for all samples"
   ]
  },
  {
   "cell_type": "code",
   "execution_count": 73,
   "id": "fe926faa-ef2e-4cc4-93d7-a306d09e3062",
   "metadata": {},
   "outputs": [
    {
     "data": {
      "text/html": [
       "146"
      ],
      "text/latex": [
       "146"
      ],
      "text/markdown": [
       "146"
      ],
      "text/plain": [
       "[1] 146"
      ]
     },
     "metadata": {},
     "output_type": "display_data"
    }
   ],
   "source": [
    "nrow(all_samples_info) # classification_data can be merged for all samples"
   ]
  },
  {
   "cell_type": "code",
   "execution_count": 74,
   "id": "f92ab687-f222-493b-bd32-d281b2ddae41",
   "metadata": {},
   "outputs": [],
   "source": [
    "### Combine in one big sample data file"
   ]
  },
  {
   "cell_type": "code",
   "execution_count": 75,
   "id": "a7b0aa7a-ffca-4a82-934d-fe15da621e79",
   "metadata": {},
   "outputs": [
    {
     "data": {
      "text/html": [
       "149"
      ],
      "text/latex": [
       "149"
      ],
      "text/markdown": [
       "149"
      ],
      "text/plain": [
       "[1] 149"
      ]
     },
     "metadata": {},
     "output_type": "display_data"
    }
   ],
   "source": [
    "nrow(sample_data)"
   ]
  },
  {
   "cell_type": "code",
   "execution_count": 77,
   "id": "ccb88737-b329-4878-98fc-f849c32f67d3",
   "metadata": {},
   "outputs": [],
   "source": [
    "sample_data = merge(sample_data, classification_data, by.x = c('sample'), by.y = c('m'),  all.x = TRUE)"
   ]
  },
  {
   "cell_type": "code",
   "execution_count": 78,
   "id": "273d9034-7f82-4dd6-9ccd-511641a73348",
   "metadata": {},
   "outputs": [
    {
     "data": {
      "text/html": [
       "149"
      ],
      "text/latex": [
       "149"
      ],
      "text/markdown": [
       "149"
      ],
      "text/plain": [
       "[1] 149"
      ]
     },
     "metadata": {},
     "output_type": "display_data"
    }
   ],
   "source": [
    "nrow(sample_data)"
   ]
  },
  {
   "cell_type": "raw",
   "id": "6dad6bc9-91f0-4bae-82ba-58e1668490ff",
   "metadata": {},
   "source": [
    "** Summary: added classification to all samples, no information missing **"
   ]
  },
  {
   "cell_type": "markdown",
   "id": "37a2d37e-d2e2-4932-ac48-a52f15649599",
   "metadata": {},
   "source": [
    "### Classification based on EF"
   ]
  },
  {
   "cell_type": "code",
   "execution_count": 80,
   "id": "79aefd4a-53de-4e60-90f4-b86afe42692f",
   "metadata": {},
   "outputs": [],
   "source": [
    "### Read in data"
   ]
  },
  {
   "cell_type": "code",
   "execution_count": 81,
   "id": "a091361c-f898-48a4-bfaa-f48eed375511",
   "metadata": {},
   "outputs": [
    {
     "name": "stdout",
     "output_type": "stream",
     "text": [
      "[1] \"2021-10-01 11:15:19 CEST\"\n"
     ]
    }
   ],
   "source": [
    "path = paste0(data_path, \"/preprocessed-data/meta-data/Mapping_Sample_EF.csv\")\n",
    "ef_classification = read.csv(path, colClasses=c(\"sample\"=\"character\"))\n",
    "print(file.info(path)$mtime)"
   ]
  },
  {
   "cell_type": "code",
   "execution_count": 83,
   "id": "1180f3c3-6a12-44ec-b32a-1a9af5e69748",
   "metadata": {},
   "outputs": [
    {
     "data": {
      "text/html": [
       "<style>\n",
       ".list-inline {list-style: none; margin:0; padding: 0}\n",
       ".list-inline>li {display: inline-block}\n",
       ".list-inline>li:not(:last-child)::after {content: \"\\00b7\"; padding: 0 .5ex}\n",
       "</style>\n",
       "<ol class=list-inline><li>'x_greater_1'</li><li>'x_smaller_1'</li><li>'x_smaller_0'</li><li>NA</li></ol>\n"
      ],
      "text/latex": [
       "\\begin{enumerate*}\n",
       "\\item 'x\\_greater\\_1'\n",
       "\\item 'x\\_smaller\\_1'\n",
       "\\item 'x\\_smaller\\_0'\n",
       "\\item NA\n",
       "\\end{enumerate*}\n"
      ],
      "text/markdown": [
       "1. 'x_greater_1'\n",
       "2. 'x_smaller_1'\n",
       "3. 'x_smaller_0'\n",
       "4. NA\n",
       "\n",
       "\n"
      ],
      "text/plain": [
       "[1] \"x_greater_1\" \"x_smaller_1\" \"x_smaller_0\" NA           "
      ]
     },
     "metadata": {},
     "output_type": "display_data"
    }
   ],
   "source": [
    "unique(ef_classification$delta_ef_value_group)"
   ]
  },
  {
   "cell_type": "code",
   "execution_count": 84,
   "id": "6f67bbf0-aeb5-4ec5-afdd-4622d16357f2",
   "metadata": {},
   "outputs": [],
   "source": [
    "### Adjust format"
   ]
  },
  {
   "cell_type": "code",
   "execution_count": 85,
   "id": "33d51498-e75a-4b4f-9829-cca05eceec71",
   "metadata": {},
   "outputs": [],
   "source": [
    "ef_classification$delta_ef_value_class[ef_classification$delta_ef_value_group == 'x_greater_1'] = 'good'\n",
    "ef_classification$delta_ef_value_class[ef_classification$delta_ef_value_group == 'x_smaller_1'] = 'intermediate'\n",
    "ef_classification$delta_ef_value_class[ef_classification$delta_ef_value_group == 'x_smaller_0'] = 'bad'"
   ]
  },
  {
   "cell_type": "code",
   "execution_count": 86,
   "id": "6a718731-d1ac-4751-8386-5178d8d45acb",
   "metadata": {},
   "outputs": [
    {
     "data": {
      "text/plain": [
       "\n",
       "TP1 TP2 TP3 TP4 \n",
       " 24  25  24  25 "
      ]
     },
     "metadata": {},
     "output_type": "display_data"
    }
   ],
   "source": [
    "table(ef_classification$measurement)"
   ]
  },
  {
   "cell_type": "code",
   "execution_count": 87,
   "id": "0f93ca11-0a48-4419-b0dc-c7293e8413e9",
   "metadata": {},
   "outputs": [
    {
     "data": {
      "text/html": [
       "98"
      ],
      "text/latex": [
       "98"
      ],
      "text/markdown": [
       "98"
      ],
      "text/plain": [
       "[1] 98"
      ]
     },
     "metadata": {},
     "output_type": "display_data"
    }
   ],
   "source": [
    "nrow(ef_classification)"
   ]
  },
  {
   "cell_type": "code",
   "execution_count": 88,
   "id": "834b9968-0fbc-4d51-abf2-484633a2f03c",
   "metadata": {},
   "outputs": [
    {
     "data": {
      "text/plain": [
       "\n",
       "         bad         good intermediate \n",
       "          29           28           29 "
      ]
     },
     "metadata": {},
     "output_type": "display_data"
    }
   ],
   "source": [
    "table(ef_classification$delta_ef_value_class)"
   ]
  },
  {
   "cell_type": "code",
   "execution_count": 89,
   "id": "4b2f6c57-fcea-4f3a-9c57-44457d1cd07a",
   "metadata": {},
   "outputs": [],
   "source": [
    "ef_classification$sample = str_replace(ef_classification$m, ' \\\\(.*', '')"
   ]
  },
  {
   "cell_type": "code",
   "execution_count": 90,
   "id": "bfa61c18-b079-4d06-bf72-c2e5f36ece04",
   "metadata": {},
   "outputs": [],
   "source": [
    "ef_classification_data = unique(ef_classification[,c('sample', 'delta_ef_value_group', 'delta_ef_value', 'delta_ef_value_class')])"
   ]
  },
  {
   "cell_type": "code",
   "execution_count": 91,
   "id": "954e8797-1d7b-4c00-bcd5-1a87c7990c37",
   "metadata": {},
   "outputs": [],
   "source": [
    "ef_classification_data = ef_classification_data[!is.na(ef_classification_data$delta_ef_value), ] # remove NA values"
   ]
  },
  {
   "cell_type": "code",
   "execution_count": 92,
   "id": "7054c5f8-b472-4898-a03d-a7d68b63e364",
   "metadata": {},
   "outputs": [
    {
     "data": {
      "text/html": [
       "21"
      ],
      "text/latex": [
       "21"
      ],
      "text/markdown": [
       "21"
      ],
      "text/plain": [
       "[1] 21"
      ]
     },
     "metadata": {},
     "output_type": "display_data"
    }
   ],
   "source": [
    "nrow(ef_classification_data)"
   ]
  },
  {
   "cell_type": "code",
   "execution_count": 93,
   "id": "05d91c8e-ac15-4420-9811-52e931f94b42",
   "metadata": {},
   "outputs": [
    {
     "data": {
      "text/html": [
       "21"
      ],
      "text/latex": [
       "21"
      ],
      "text/markdown": [
       "21"
      ],
      "text/plain": [
       "[1] 21"
      ]
     },
     "metadata": {},
     "output_type": "display_data"
    }
   ],
   "source": [
    "length(unique(ef_classification_data$sample))  # data is not dependent on measurement tp; for 21 samples ef value available"
   ]
  },
  {
   "cell_type": "code",
   "execution_count": 94,
   "id": "509792ba-1914-4068-8e9f-a037a006d358",
   "metadata": {},
   "outputs": [],
   "source": [
    "ef_classification_data$ef_classification_data = 1"
   ]
  },
  {
   "cell_type": "code",
   "execution_count": 95,
   "id": "2504f242-a0e3-416e-9b55-453a76018903",
   "metadata": {},
   "outputs": [],
   "source": [
    "ef_classification_data$sample = str_replace(ef_classification_data$sample, ' ', '')"
   ]
  },
  {
   "cell_type": "code",
   "execution_count": 96,
   "id": "3164ef08-a9f3-4903-96b0-8c812371150c",
   "metadata": {},
   "outputs": [
    {
     "data": {
      "text/html": [],
      "text/latex": [],
      "text/markdown": [],
      "text/plain": [
       "character(0)"
      ]
     },
     "metadata": {},
     "output_type": "display_data"
    }
   ],
   "source": [
    "ef_classification_data$sample[!ef_classification_data$sample %in% unique(all_samples_info$sample)] #check whether it can be matched on all samples"
   ]
  },
  {
   "cell_type": "code",
   "execution_count": 97,
   "id": "1fd25e19-b900-4626-bb76-7584ab1a2b16",
   "metadata": {},
   "outputs": [],
   "source": [
    "### Add information to all_samples_info_file"
   ]
  },
  {
   "cell_type": "code",
   "execution_count": 98,
   "id": "24279dc8-8685-44ab-8c41-9de9487be0f7",
   "metadata": {},
   "outputs": [
    {
     "data": {
      "text/html": [
       "146"
      ],
      "text/latex": [
       "146"
      ],
      "text/markdown": [
       "146"
      ],
      "text/plain": [
       "[1] 146"
      ]
     },
     "metadata": {},
     "output_type": "display_data"
    }
   ],
   "source": [
    "nrow(all_samples_info)"
   ]
  },
  {
   "cell_type": "code",
   "execution_count": 99,
   "id": "9af80edb-61cd-40f5-8e61-0e369332b94c",
   "metadata": {},
   "outputs": [],
   "source": [
    "all_samples_info = merge(all_samples_info, ef_classification_data[,c('sample', 'ef_classification_data')], by.x = 'sample', by.y = 'sample', all.x = TRUE)"
   ]
  },
  {
   "cell_type": "code",
   "execution_count": 100,
   "id": "a54b9ac6-c57b-46bc-8832-918be70d9a90",
   "metadata": {},
   "outputs": [],
   "source": [
    "all_samples_info = merge(all_samples_info, ef_classification_data[,c('sample', 'delta_ef_value_class')], by.x = 'sample', by.y = 'sample', all.x = TRUE)"
   ]
  },
  {
   "cell_type": "code",
   "execution_count": 102,
   "id": "ee304803-d309-4da6-9471-fa556afaa3a7",
   "metadata": {},
   "outputs": [],
   "source": [
    "all_samples_info$ef_classification_data[is.na(all_samples_info$ef_classification_data)] = 0"
   ]
  },
  {
   "cell_type": "code",
   "execution_count": 103,
   "id": "68d1e50b-448e-48a2-89d6-744bf83017a1",
   "metadata": {},
   "outputs": [
    {
     "data": {
      "text/html": [
       "84"
      ],
      "text/latex": [
       "84"
      ],
      "text/markdown": [
       "84"
      ],
      "text/plain": [
       "[1] 84"
      ]
     },
     "metadata": {},
     "output_type": "display_data"
    }
   ],
   "source": [
    "sum(all_samples_info$ef_classification_data)  # Meta-data about ef value available for 84 tp + sample combinations"
   ]
  },
  {
   "cell_type": "code",
   "execution_count": 104,
   "id": "8fe208b1-8e1f-4338-a16a-c9b8f2a459d1",
   "metadata": {},
   "outputs": [
    {
     "data": {
      "text/html": [
       "146"
      ],
      "text/latex": [
       "146"
      ],
      "text/markdown": [
       "146"
      ],
      "text/plain": [
       "[1] 146"
      ]
     },
     "metadata": {},
     "output_type": "display_data"
    }
   ],
   "source": [
    "nrow(all_samples_info) # classification_data can be merged for all samples"
   ]
  },
  {
   "cell_type": "code",
   "execution_count": 105,
   "id": "b5e471ce-9c88-4963-9ff6-1a319679adcc",
   "metadata": {},
   "outputs": [],
   "source": [
    "### Combine in one big sample data file"
   ]
  },
  {
   "cell_type": "code",
   "execution_count": 106,
   "id": "58105dc8-a2ad-4211-a09d-2d8f0f043574",
   "metadata": {},
   "outputs": [
    {
     "data": {
      "text/html": [
       "149"
      ],
      "text/latex": [
       "149"
      ],
      "text/markdown": [
       "149"
      ],
      "text/plain": [
       "[1] 149"
      ]
     },
     "metadata": {},
     "output_type": "display_data"
    }
   ],
   "source": [
    "nrow(sample_data)"
   ]
  },
  {
   "cell_type": "code",
   "execution_count": 108,
   "id": "7beabafa-4291-4037-8e47-525277124f21",
   "metadata": {},
   "outputs": [],
   "source": [
    "sample_data = merge(sample_data, ef_classification_data, by.x = 'sample', by.y = 'sample', all.x = TRUE)"
   ]
  },
  {
   "cell_type": "code",
   "execution_count": 109,
   "id": "0cca9c04-f6d1-4c1f-93ec-c08d88402722",
   "metadata": {},
   "outputs": [
    {
     "data": {
      "text/html": [
       "149"
      ],
      "text/latex": [
       "149"
      ],
      "text/markdown": [
       "149"
      ],
      "text/plain": [
       "[1] 149"
      ]
     },
     "metadata": {},
     "output_type": "display_data"
    }
   ],
   "source": [
    "nrow(sample_data)"
   ]
  },
  {
   "cell_type": "code",
   "execution_count": 111,
   "id": "bb5145aa-2cd4-457f-8eff-cd54d6d8f0e6",
   "metadata": {},
   "outputs": [],
   "source": [
    "sample_data$ef_classification_data[is.na(sample_data$ef_classification_data)] = 0"
   ]
  },
  {
   "cell_type": "code",
   "execution_count": 112,
   "id": "1de5dc09-ba1b-4ea1-b8f9-bf4c757f76ea",
   "metadata": {},
   "outputs": [
    {
     "data": {
      "text/html": [
       "87"
      ],
      "text/latex": [
       "87"
      ],
      "text/markdown": [
       "87"
      ],
      "text/plain": [
       "[1] 87"
      ]
     },
     "metadata": {},
     "output_type": "display_data"
    }
   ],
   "source": [
    "sum(sample_data$ef_classification_data) # 87 instead of 84 because of double measurements"
   ]
  },
  {
   "cell_type": "raw",
   "id": "9708e14f-e8ad-4656-a955-3e8654896689",
   "metadata": {},
   "source": [
    "** Summary: ef classification available for 21 samples * 4 timepoints --> 84 entries + two samples measured twice**"
   ]
  },
  {
   "cell_type": "markdown",
   "id": "c641a0e6-8f86-4a02-b1e0-5aa582c59f37",
   "metadata": {},
   "source": [
    "### Clinical Data"
   ]
  },
  {
   "cell_type": "code",
   "execution_count": 113,
   "id": "2979d2e8-d235-4b24-a8f0-b18eebcc2de7",
   "metadata": {},
   "outputs": [],
   "source": [
    "### Read in data"
   ]
  },
  {
   "cell_type": "code",
   "execution_count": 114,
   "id": "a2d8e0a0-1149-42b8-97d1-c33e72a64cf3",
   "metadata": {},
   "outputs": [
    {
     "name": "stdout",
     "output_type": "stream",
     "text": [
      "[1] \"2022-01-27 15:54:45 CET\"\n"
     ]
    }
   ],
   "source": [
    "path = paste0(data_path, \"/preprocessed-data/clinical_data/Clinical_Data_Prepared.csv\")\n",
    "clinical = read.csv(path)\n",
    "print(file.info(path)$mtime)"
   ]
  },
  {
   "cell_type": "code",
   "execution_count": 115,
   "id": "61bbf732-1070-45b3-a874-91b9d6c7d962",
   "metadata": {},
   "outputs": [
    {
     "name": "stdout",
     "output_type": "stream",
     "text": [
      "[1] \"2022-03-25 09:53:53 CET\"\n"
     ]
    }
   ],
   "source": [
    "path = paste0(data_path, \"/preprocessed-data/clinical_data/Clinical_Data_Prepared_CRP.csv\")\n",
    "clinical_crp = read.csv(path)\n",
    "print(file.info(path)$mtime)"
   ]
  },
  {
   "cell_type": "code",
   "execution_count": 120,
   "id": "dad8b01e-407e-46e6-8a02-63a0a7762eb2",
   "metadata": {},
   "outputs": [
    {
     "data": {
      "text/html": [
       "146"
      ],
      "text/latex": [
       "146"
      ],
      "text/markdown": [
       "146"
      ],
      "text/plain": [
       "[1] 146"
      ]
     },
     "metadata": {},
     "output_type": "display_data"
    }
   ],
   "source": [
    "length(unique(clinical$sample_id))  # 146 samples"
   ]
  },
  {
   "cell_type": "code",
   "execution_count": 121,
   "id": "3f9a6413-0964-4bb9-944b-acbad2253fd0",
   "metadata": {},
   "outputs": [],
   "source": [
    "## Investigate newly added CRP data"
   ]
  },
  {
   "cell_type": "code",
   "execution_count": 122,
   "id": "54839b26-bec9-4c7c-8dd3-7f64b3c71062",
   "metadata": {},
   "outputs": [],
   "source": [
    "clinical_crp = unique(clinical_crp)"
   ]
  },
  {
   "cell_type": "code",
   "execution_count": 123,
   "id": "6b0b5d55-173c-40e6-8186-251047346ad3",
   "metadata": {},
   "outputs": [
    {
     "data": {
      "text/html": [
       "146"
      ],
      "text/latex": [
       "146"
      ],
      "text/markdown": [
       "146"
      ],
      "text/plain": [
       "[1] 146"
      ]
     },
     "metadata": {},
     "output_type": "display_data"
    }
   ],
   "source": [
    "nrow(clinical_crp)"
   ]
  },
  {
   "cell_type": "code",
   "execution_count": 124,
   "id": "2fffd4b5-7a91-4f11-a0ad-8985c6cb845e",
   "metadata": {},
   "outputs": [
    {
     "data": {
      "text/html": [
       "146"
      ],
      "text/latex": [
       "146"
      ],
      "text/markdown": [
       "146"
      ],
      "text/plain": [
       "[1] 146"
      ]
     },
     "metadata": {},
     "output_type": "display_data"
    }
   ],
   "source": [
    "length(unique(clinical_crp$sample_id))  # matches one entry per sample_id !"
   ]
  },
  {
   "cell_type": "code",
   "execution_count": 125,
   "id": "77f595cf-9cfb-4c69-8480-5c947f608acf",
   "metadata": {},
   "outputs": [],
   "source": [
    "clinical = merge(clinical, clinical_crp)"
   ]
  },
  {
   "cell_type": "code",
   "execution_count": 126,
   "id": "64456c64-668d-4bea-b976-13bd6fa5a96f",
   "metadata": {},
   "outputs": [
    {
     "data": {
      "text/html": [
       "146"
      ],
      "text/latex": [
       "146"
      ],
      "text/markdown": [
       "146"
      ],
      "text/plain": [
       "[1] 146"
      ]
     },
     "metadata": {},
     "output_type": "display_data"
    }
   ],
   "source": [
    "nrow(clinical)   # all samples kept after merging"
   ]
  },
  {
   "cell_type": "code",
   "execution_count": 128,
   "id": "3cedb19b-fcc4-4d2b-b95f-c6ac7ba146a0",
   "metadata": {},
   "outputs": [],
   "source": [
    "clinical$clinical_data = 1"
   ]
  },
  {
   "cell_type": "code",
   "execution_count": 129,
   "id": "ee59eea4-430b-4139-a95b-606ed7e2f631",
   "metadata": {},
   "outputs": [
    {
     "name": "stderr",
     "output_type": "stream",
     "text": [
      "Warning message in clinical$complete_clinical_data[(is.na(as.numeric(clinical$CRP))) | :\n",
      "“NAs introduced by coercion”\n",
      "Warning message in clinical$complete_clinical_data[(is.na(as.numeric(clinical$CRP))) | :\n",
      "“NAs introduced by coercion”\n"
     ]
    }
   ],
   "source": [
    "clinical$complete_clinical_data = 1\n",
    "clinical$complete_clinical_data[(is.na(as.numeric(clinical$CRP))) | (is.na(as.numeric(clinical$CK))) |(is.na(as.numeric(clinical$CK_MB))) |(is.na(as.numeric(clinical$Troponin))) ] = 0"
   ]
  },
  {
   "cell_type": "code",
   "execution_count": 130,
   "id": "8400eb5f-9c87-4a4a-82b3-255cff7558b9",
   "metadata": {},
   "outputs": [
    {
     "name": "stderr",
     "output_type": "stream",
     "text": [
      "Warning message in clinical$min_1_clinical_value[(is.na(as.numeric(clinical$CRP))) & :\n",
      "“NAs introduced by coercion”\n",
      "Warning message in clinical$min_1_clinical_value[(is.na(as.numeric(clinical$CRP))) & :\n",
      "“NAs introduced by coercion”\n"
     ]
    }
   ],
   "source": [
    "clinical$min_1_clinical_value = 1\n",
    "clinical$min_1_clinical_value[(is.na(as.numeric(clinical$CRP))) & (is.na(as.numeric(clinical$CK))) &(is.na(as.numeric(clinical$CK_MB))) &(is.na(as.numeric(clinical$Troponin)))] =0 "
   ]
  },
  {
   "cell_type": "code",
   "execution_count": 131,
   "id": "516479c7-b12e-459a-a638-f5d3d7ae85ef",
   "metadata": {},
   "outputs": [],
   "source": [
    "#clinical[clinical$min_1_clinical_value == 1,]"
   ]
  },
  {
   "cell_type": "code",
   "execution_count": 132,
   "id": "ebbe07ab-2409-430b-8165-f6a43f6db3bb",
   "metadata": {},
   "outputs": [],
   "source": [
    "#clinical[(is.na(as.numeric(clinical$CRP))) & (is.na(as.numeric(clinical$CK))) &(is.na(as.numeric(clinical$CK_MB))) &(is.na(as.numeric(clinical$Troponin))), ] "
   ]
  },
  {
   "cell_type": "code",
   "execution_count": 133,
   "id": "699d2d90-6b6a-42f2-9813-5e07c1b9179f",
   "metadata": {},
   "outputs": [],
   "source": [
    "#head(clinical[clinical$complete_clinical_data == 1,])"
   ]
  },
  {
   "cell_type": "code",
   "execution_count": 134,
   "id": "27e40980-238b-489d-9d27-c8a02a98d552",
   "metadata": {},
   "outputs": [],
   "source": [
    "### Add information to all_samples_info_file"
   ]
  },
  {
   "cell_type": "code",
   "execution_count": 135,
   "id": "a3feefed-89e3-4169-b3ea-dd6b40ea6d2f",
   "metadata": {},
   "outputs": [
    {
     "data": {
      "text/html": [
       "146"
      ],
      "text/latex": [
       "146"
      ],
      "text/markdown": [
       "146"
      ],
      "text/plain": [
       "[1] 146"
      ]
     },
     "metadata": {},
     "output_type": "display_data"
    }
   ],
   "source": [
    "nrow(all_samples_info)"
   ]
  },
  {
   "cell_type": "code",
   "execution_count": 136,
   "id": "542b84d0-a474-420e-94c9-e356d0633cec",
   "metadata": {},
   "outputs": [],
   "source": [
    "all_samples_info = merge(all_samples_info, clinical[,c('sample_id', 'clinical_data', 'complete_clinical_data', 'min_1_clinical_value')], by.x = 'sample_id', by.y = 'sample_id')"
   ]
  },
  {
   "cell_type": "code",
   "execution_count": 138,
   "id": "b619f2cf-2aa2-42cf-a4b8-028973aadeb5",
   "metadata": {},
   "outputs": [
    {
     "data": {
      "text/html": [
       "146"
      ],
      "text/latex": [
       "146"
      ],
      "text/markdown": [
       "146"
      ],
      "text/plain": [
       "[1] 146"
      ]
     },
     "metadata": {},
     "output_type": "display_data"
    }
   ],
   "source": [
    "sum(all_samples_info$clinical_data)  # Meta-data about ef value available for 84 tp + sample combinations"
   ]
  },
  {
   "cell_type": "code",
   "execution_count": 139,
   "id": "eec34ef4-1750-470b-9059-62cde66edbdc",
   "metadata": {},
   "outputs": [
    {
     "data": {
      "text/html": [
       "146"
      ],
      "text/latex": [
       "146"
      ],
      "text/markdown": [
       "146"
      ],
      "text/plain": [
       "[1] 146"
      ]
     },
     "metadata": {},
     "output_type": "display_data"
    }
   ],
   "source": [
    "nrow(all_samples_info) # classification_data can be merged for all samples"
   ]
  },
  {
   "cell_type": "code",
   "execution_count": 140,
   "id": "f333ce79-6e05-4cad-a467-e6eb1ef9103d",
   "metadata": {},
   "outputs": [],
   "source": [
    "### Combine in one big sample data file"
   ]
  },
  {
   "cell_type": "code",
   "execution_count": 141,
   "id": "7e78d9cb-366a-4b99-99c9-5f1c7037243d",
   "metadata": {},
   "outputs": [
    {
     "data": {
      "text/html": [
       "149"
      ],
      "text/latex": [
       "149"
      ],
      "text/markdown": [
       "149"
      ],
      "text/plain": [
       "[1] 149"
      ]
     },
     "metadata": {},
     "output_type": "display_data"
    }
   ],
   "source": [
    "nrow(sample_data)"
   ]
  },
  {
   "cell_type": "code",
   "execution_count": 143,
   "id": "beb46676-5e7e-4517-bfc9-474843b590c0",
   "metadata": {},
   "outputs": [],
   "source": [
    "sample_data = merge(sample_data,clinical, by.x = 'sample_id', by.y = 'sample_id', all.x = TRUE)"
   ]
  },
  {
   "cell_type": "code",
   "execution_count": 144,
   "id": "4bf12f6b-7bf4-4fc0-adcd-25dc6033219b",
   "metadata": {},
   "outputs": [
    {
     "data": {
      "text/html": [
       "149"
      ],
      "text/latex": [
       "149"
      ],
      "text/markdown": [
       "149"
      ],
      "text/plain": [
       "[1] 149"
      ]
     },
     "metadata": {},
     "output_type": "display_data"
    }
   ],
   "source": [
    "nrow(sample_data)"
   ]
  },
  {
   "cell_type": "code",
   "execution_count": 146,
   "id": "84bf980b-123d-4c4a-8a8a-7b5d178a245b",
   "metadata": {},
   "outputs": [
    {
     "data": {
      "text/html": [
       "149"
      ],
      "text/latex": [
       "149"
      ],
      "text/markdown": [
       "149"
      ],
      "text/plain": [
       "[1] 149"
      ]
     },
     "metadata": {},
     "output_type": "display_data"
    }
   ],
   "source": [
    "sum(sample_data$clinical_data) # 87 instead of 84 because of double measurements"
   ]
  },
  {
   "cell_type": "markdown",
   "id": "37c752ec-bd35-4c8c-b92e-9d40294ad07b",
   "metadata": {},
   "source": [
    "## Cytokine Data"
   ]
  },
  {
   "cell_type": "code",
   "execution_count": 147,
   "id": "05891bd2-3beb-4eef-9111-f2fffba2f0c8",
   "metadata": {},
   "outputs": [
    {
     "name": "stdout",
     "output_type": "stream",
     "text": [
      "[1] \"2022-02-16 21:29:37 CET\"\n"
     ]
    }
   ],
   "source": [
    "path = paste0(data_path, \"/preprocessed-data/meta-data/Mapping_Sample_Cytokine.csv\")\n",
    "cytokines = read.csv(path, colClasses=c(\"sample_id\"=\"character\"))\n",
    "print(file.info(path)$mtime)"
   ]
  },
  {
   "cell_type": "code",
   "execution_count": 148,
   "id": "9d12d2cd-4996-42a3-8c26-82fc712d163d",
   "metadata": {
    "tags": []
   },
   "outputs": [
    {
     "data": {
      "text/html": [
       "<table class=\"dataframe\">\n",
       "<caption>A data.frame: 2 × 72</caption>\n",
       "<thead>\n",
       "\t<tr><th></th><th scope=col>sample_id</th><th scope=col>sCD40L</th><th scope=col>EGF</th><th scope=col>Eotaxin</th><th scope=col>FGF2</th><th scope=col>FLT3L</th><th scope=col>Fractalkine</th><th scope=col>GCSF</th><th scope=col>GMCSF</th><th scope=col>GROalpha</th><th scope=col>⋯</th><th scope=col>LIF</th><th scope=col>MCP2</th><th scope=col>MCP4</th><th scope=col>MIP1.</th><th scope=col>SCF</th><th scope=col>SDF1alpha.beta</th><th scope=col>TARC</th><th scope=col>TPO</th><th scope=col>TRAIL</th><th scope=col>TSLP</th></tr>\n",
       "\t<tr><th></th><th scope=col>&lt;chr&gt;</th><th scope=col>&lt;dbl&gt;</th><th scope=col>&lt;chr&gt;</th><th scope=col>&lt;dbl&gt;</th><th scope=col>&lt;chr&gt;</th><th scope=col>&lt;dbl&gt;</th><th scope=col>&lt;chr&gt;</th><th scope=col>&lt;chr&gt;</th><th scope=col>&lt;chr&gt;</th><th scope=col>&lt;chr&gt;</th><th scope=col>⋯</th><th scope=col>&lt;chr&gt;</th><th scope=col>&lt;chr&gt;</th><th scope=col>&lt;dbl&gt;</th><th scope=col>&lt;dbl&gt;</th><th scope=col>&lt;chr&gt;</th><th scope=col>&lt;dbl&gt;</th><th scope=col>&lt;dbl&gt;</th><th scope=col>&lt;chr&gt;</th><th scope=col>&lt;dbl&gt;</th><th scope=col>&lt;chr&gt;</th></tr>\n",
       "</thead>\n",
       "<tbody>\n",
       "\t<tr><th scope=row>1</th><td>M1.1 </td><td>1033.94</td><td>4.49 </td><td>48.09</td><td>52.77</td><td>14.40</td><td>57.66 </td><td>8.70 </td><td>OOR &lt;</td><td>3.43</td><td>⋯</td><td>1.97</td><td>34.73</td><td>91.13</td><td>2665.03</td><td>5.24 </td><td> 4033.41</td><td>59.34</td><td>354.84</td><td>44.25</td><td>4.65 </td></tr>\n",
       "\t<tr><th scope=row>2</th><td>M11.1</td><td> 232.19</td><td>16.74</td><td>32.19</td><td>54.38</td><td>52.98</td><td>107.78</td><td>OOR &lt;</td><td>OOR &lt;</td><td>8.20</td><td>⋯</td><td>OOR </td><td>24.26</td><td>73.06</td><td>5105.80</td><td>74.24</td><td>10498.23</td><td>10.47</td><td>OOR &lt; </td><td>84.87</td><td>OOR &lt;</td></tr>\n",
       "</tbody>\n",
       "</table>\n"
      ],
      "text/latex": [
       "A data.frame: 2 × 72\n",
       "\\begin{tabular}{r|lllllllllllllllllllll}\n",
       "  & sample\\_id & sCD40L & EGF & Eotaxin & FGF2 & FLT3L & Fractalkine & GCSF & GMCSF & GROalpha & ⋯ & LIF & MCP2 & MCP4 & MIP1. & SCF & SDF1alpha.beta & TARC & TPO & TRAIL & TSLP\\\\\n",
       "  & <chr> & <dbl> & <chr> & <dbl> & <chr> & <dbl> & <chr> & <chr> & <chr> & <chr> & ⋯ & <chr> & <chr> & <dbl> & <dbl> & <chr> & <dbl> & <dbl> & <chr> & <dbl> & <chr>\\\\\n",
       "\\hline\n",
       "\t1 & M1.1  & 1033.94 & 4.49  & 48.09 & 52.77 & 14.40 & 57.66  & 8.70  & OOR < & 3.43 & ⋯ & 1.97 & 34.73 & 91.13 & 2665.03 & 5.24  &  4033.41 & 59.34 & 354.84 & 44.25 & 4.65 \\\\\n",
       "\t2 & M11.1 &  232.19 & 16.74 & 32.19 & 54.38 & 52.98 & 107.78 & OOR < & OOR < & 8.20 & ⋯ & OOR  & 24.26 & 73.06 & 5105.80 & 74.24 & 10498.23 & 10.47 & OOR <  & 84.87 & OOR <\\\\\n",
       "\\end{tabular}\n"
      ],
      "text/markdown": [
       "\n",
       "A data.frame: 2 × 72\n",
       "\n",
       "| <!--/--> | sample_id &lt;chr&gt; | sCD40L &lt;dbl&gt; | EGF &lt;chr&gt; | Eotaxin &lt;dbl&gt; | FGF2 &lt;chr&gt; | FLT3L &lt;dbl&gt; | Fractalkine &lt;chr&gt; | GCSF &lt;chr&gt; | GMCSF &lt;chr&gt; | GROalpha &lt;chr&gt; | ⋯ ⋯ | LIF &lt;chr&gt; | MCP2 &lt;chr&gt; | MCP4 &lt;dbl&gt; | MIP1. &lt;dbl&gt; | SCF &lt;chr&gt; | SDF1alpha.beta &lt;dbl&gt; | TARC &lt;dbl&gt; | TPO &lt;chr&gt; | TRAIL &lt;dbl&gt; | TSLP &lt;chr&gt; |\n",
       "|---|---|---|---|---|---|---|---|---|---|---|---|---|---|---|---|---|---|---|---|---|---|\n",
       "| 1 | M1.1  | 1033.94 | 4.49  | 48.09 | 52.77 | 14.40 | 57.66  | 8.70  | OOR &lt; | 3.43 | ⋯ | 1.97 | 34.73 | 91.13 | 2665.03 | 5.24  |  4033.41 | 59.34 | 354.84 | 44.25 | 4.65  |\n",
       "| 2 | M11.1 |  232.19 | 16.74 | 32.19 | 54.38 | 52.98 | 107.78 | OOR &lt; | OOR &lt; | 8.20 | ⋯ | OOR  | 24.26 | 73.06 | 5105.80 | 74.24 | 10498.23 | 10.47 | OOR &lt;  | 84.87 | OOR &lt; |\n",
       "\n"
      ],
      "text/plain": [
       "  sample_id sCD40L  EGF   Eotaxin FGF2  FLT3L Fractalkine GCSF  GMCSF GROalpha\n",
       "1 M1.1      1033.94 4.49  48.09   52.77 14.40 57.66       8.70  OOR < 3.43    \n",
       "2 M11.1      232.19 16.74 32.19   54.38 52.98 107.78      OOR < OOR < 8.20    \n",
       "  ⋯ LIF  MCP2  MCP4  MIP1.   SCF   SDF1alpha.beta TARC  TPO    TRAIL TSLP \n",
       "1 ⋯ 1.97 34.73 91.13 2665.03 5.24   4033.41       59.34 354.84 44.25 4.65 \n",
       "2 ⋯ OOR  24.26 73.06 5105.80 74.24 10498.23       10.47 OOR <  84.87 OOR <"
      ]
     },
     "metadata": {},
     "output_type": "display_data"
    }
   ],
   "source": [
    "head(cytokines,2)"
   ]
  },
  {
   "cell_type": "code",
   "execution_count": 149,
   "id": "dfc5ad4e-f75b-4884-88a2-3ffb50e25310",
   "metadata": {},
   "outputs": [
    {
     "name": "stdout",
     "output_type": "stream",
     "text": [
      "[1] \"2022-01-19 10:36:51 CET\"\n"
     ]
    }
   ],
   "source": [
    "path = paste0(data_path, \"/preprocessed-data/meta-data/Mapping_Sample_Cytokine_FI.csv\")\n",
    "cytokines_FI = read.csv(path, colClasses=c(\"sample_id\"=\"character\"))\n",
    "print(file.info(path)$mtime)"
   ]
  },
  {
   "cell_type": "code",
   "execution_count": 150,
   "id": "d72d303b-dd1c-44e3-a5a0-bc3d3f664648",
   "metadata": {
    "tags": []
   },
   "outputs": [
    {
     "data": {
      "text/html": [
       "<table class=\"dataframe\">\n",
       "<caption>A data.frame: 2 × 72</caption>\n",
       "<thead>\n",
       "\t<tr><th></th><th scope=col>sample_id</th><th scope=col>sCD40L</th><th scope=col>EGF</th><th scope=col>Eotaxin</th><th scope=col>FGF.2</th><th scope=col>FLT.3L</th><th scope=col>Fractalkine</th><th scope=col>G.CSF</th><th scope=col>GM.CSF</th><th scope=col>GRO.</th><th scope=col>⋯</th><th scope=col>LIF</th><th scope=col>MCP.2</th><th scope=col>MCP.4</th><th scope=col>MIP.1..2</th><th scope=col>SCF</th><th scope=col>SDF.1...</th><th scope=col>TARC</th><th scope=col>TPO</th><th scope=col>TRAIL</th><th scope=col>TSLP</th></tr>\n",
       "\t<tr><th></th><th scope=col>&lt;chr&gt;</th><th scope=col>&lt;int&gt;</th><th scope=col>&lt;int&gt;</th><th scope=col>&lt;int&gt;</th><th scope=col>&lt;int&gt;</th><th scope=col>&lt;int&gt;</th><th scope=col>&lt;int&gt;</th><th scope=col>&lt;int&gt;</th><th scope=col>&lt;int&gt;</th><th scope=col>&lt;int&gt;</th><th scope=col>⋯</th><th scope=col>&lt;int&gt;</th><th scope=col>&lt;int&gt;</th><th scope=col>&lt;int&gt;</th><th scope=col>&lt;int&gt;</th><th scope=col>&lt;int&gt;</th><th scope=col>&lt;int&gt;</th><th scope=col>&lt;int&gt;</th><th scope=col>&lt;int&gt;</th><th scope=col>&lt;int&gt;</th><th scope=col>&lt;int&gt;</th></tr>\n",
       "</thead>\n",
       "<tbody>\n",
       "\t<tr><th scope=row>1</th><td>M1.1 </td><td>841</td><td>34</td><td>1102</td><td>38</td><td>209</td><td>25</td><td>81</td><td>103</td><td> 99</td><td>⋯</td><td>26</td><td>29</td><td>77</td><td>2729</td><td>53</td><td> 314</td><td>4263</td><td>146</td><td>301</td><td>104</td></tr>\n",
       "\t<tr><th scope=row>2</th><td>M11.1</td><td>167</td><td>83</td><td> 627</td><td>39</td><td>674</td><td>47</td><td>57</td><td> 56</td><td>180</td><td>⋯</td><td>22</td><td>20</td><td>59</td><td>4836</td><td>98</td><td>1341</td><td> 565</td><td> 66</td><td>561</td><td> 34</td></tr>\n",
       "</tbody>\n",
       "</table>\n"
      ],
      "text/latex": [
       "A data.frame: 2 × 72\n",
       "\\begin{tabular}{r|lllllllllllllllllllll}\n",
       "  & sample\\_id & sCD40L & EGF & Eotaxin & FGF.2 & FLT.3L & Fractalkine & G.CSF & GM.CSF & GRO. & ⋯ & LIF & MCP.2 & MCP.4 & MIP.1..2 & SCF & SDF.1... & TARC & TPO & TRAIL & TSLP\\\\\n",
       "  & <chr> & <int> & <int> & <int> & <int> & <int> & <int> & <int> & <int> & <int> & ⋯ & <int> & <int> & <int> & <int> & <int> & <int> & <int> & <int> & <int> & <int>\\\\\n",
       "\\hline\n",
       "\t1 & M1.1  & 841 & 34 & 1102 & 38 & 209 & 25 & 81 & 103 &  99 & ⋯ & 26 & 29 & 77 & 2729 & 53 &  314 & 4263 & 146 & 301 & 104\\\\\n",
       "\t2 & M11.1 & 167 & 83 &  627 & 39 & 674 & 47 & 57 &  56 & 180 & ⋯ & 22 & 20 & 59 & 4836 & 98 & 1341 &  565 &  66 & 561 &  34\\\\\n",
       "\\end{tabular}\n"
      ],
      "text/markdown": [
       "\n",
       "A data.frame: 2 × 72\n",
       "\n",
       "| <!--/--> | sample_id &lt;chr&gt; | sCD40L &lt;int&gt; | EGF &lt;int&gt; | Eotaxin &lt;int&gt; | FGF.2 &lt;int&gt; | FLT.3L &lt;int&gt; | Fractalkine &lt;int&gt; | G.CSF &lt;int&gt; | GM.CSF &lt;int&gt; | GRO. &lt;int&gt; | ⋯ ⋯ | LIF &lt;int&gt; | MCP.2 &lt;int&gt; | MCP.4 &lt;int&gt; | MIP.1..2 &lt;int&gt; | SCF &lt;int&gt; | SDF.1... &lt;int&gt; | TARC &lt;int&gt; | TPO &lt;int&gt; | TRAIL &lt;int&gt; | TSLP &lt;int&gt; |\n",
       "|---|---|---|---|---|---|---|---|---|---|---|---|---|---|---|---|---|---|---|---|---|---|\n",
       "| 1 | M1.1  | 841 | 34 | 1102 | 38 | 209 | 25 | 81 | 103 |  99 | ⋯ | 26 | 29 | 77 | 2729 | 53 |  314 | 4263 | 146 | 301 | 104 |\n",
       "| 2 | M11.1 | 167 | 83 |  627 | 39 | 674 | 47 | 57 |  56 | 180 | ⋯ | 22 | 20 | 59 | 4836 | 98 | 1341 |  565 |  66 | 561 |  34 |\n",
       "\n"
      ],
      "text/plain": [
       "  sample_id sCD40L EGF Eotaxin FGF.2 FLT.3L Fractalkine G.CSF GM.CSF GRO. ⋯ LIF\n",
       "1 M1.1      841    34  1102    38    209    25          81    103     99  ⋯ 26 \n",
       "2 M11.1     167    83   627    39    674    47          57     56    180  ⋯ 22 \n",
       "  MCP.2 MCP.4 MIP.1..2 SCF SDF.1... TARC TPO TRAIL TSLP\n",
       "1 29    77    2729     53   314     4263 146 301   104 \n",
       "2 20    59    4836     98  1341      565  66 561    34 "
      ]
     },
     "metadata": {},
     "output_type": "display_data"
    }
   ],
   "source": [
    "head(cytokines_FI,2)"
   ]
  },
  {
   "cell_type": "code",
   "execution_count": 151,
   "id": "94ed8e06-80a6-403f-b866-dd7bfb4075ad",
   "metadata": {},
   "outputs": [],
   "source": [
    "### Investigate available sample-ids in cytokine data"
   ]
  },
  {
   "cell_type": "code",
   "execution_count": 152,
   "id": "1af154e9-1e8f-4b0f-9d69-dc832e087c1b",
   "metadata": {},
   "outputs": [],
   "source": [
    "cytokines = cytokines[cytokines$sample_id != '',]"
   ]
  },
  {
   "cell_type": "code",
   "execution_count": 153,
   "id": "b20b113d-585f-4244-a3f0-bf0e332a93ba",
   "metadata": {},
   "outputs": [],
   "source": [
    "cytokines$id = tolower(cytokines$sample_id)"
   ]
  },
  {
   "cell_type": "code",
   "execution_count": 154,
   "id": "17f3f6c2-2aa2-4513-af83-8f64c4ee84ae",
   "metadata": {},
   "outputs": [],
   "source": [
    "cytokines$id[cytokines$id == 'm.20.1'] = 'm20.1'"
   ]
  },
  {
   "cell_type": "code",
   "execution_count": 155,
   "id": "093ce960-639b-43ee-8c3e-1c6c38d52e52",
   "metadata": {},
   "outputs": [
    {
     "data": {
      "text/html": [
       "126"
      ],
      "text/latex": [
       "126"
      ],
      "text/markdown": [
       "126"
      ],
      "text/plain": [
       "[1] 126"
      ]
     },
     "metadata": {},
     "output_type": "display_data"
    }
   ],
   "source": [
    "length(unique(cytokines$id))  # 126 tp + sample combinations for which cytokine dat available; 2 cannot be used see below"
   ]
  },
  {
   "cell_type": "code",
   "execution_count": 156,
   "id": "1c6c9a71-a778-4c0f-8b4a-2c0cb3a6a822",
   "metadata": {},
   "outputs": [
    {
     "data": {
      "text/html": [
       "126"
      ],
      "text/latex": [
       "126"
      ],
      "text/markdown": [
       "126"
      ],
      "text/plain": [
       "[1] 126"
      ]
     },
     "metadata": {},
     "output_type": "display_data"
    }
   ],
   "source": [
    "nrow(cytokines) "
   ]
  },
  {
   "cell_type": "code",
   "execution_count": 157,
   "id": "0331b716-2683-4235-821d-dbf8192ce5c5",
   "metadata": {},
   "outputs": [
    {
     "data": {
      "text/html": [
       "0"
      ],
      "text/latex": [
       "0"
      ],
      "text/markdown": [
       "0"
      ],
      "text/plain": [
       "[1] 0"
      ]
     },
     "metadata": {},
     "output_type": "display_data"
    }
   ],
   "source": [
    "sum(cytokines$id == 'm.20.1')"
   ]
  },
  {
   "cell_type": "code",
   "execution_count": 158,
   "id": "7cb1fbc7-f785-4482-a498-18fa42e88183",
   "metadata": {},
   "outputs": [],
   "source": [
    "### Add information about available cytokine data"
   ]
  },
  {
   "cell_type": "code",
   "execution_count": 160,
   "id": "5b29ab91-0003-495e-8c58-e75bd3646c8f",
   "metadata": {},
   "outputs": [
    {
     "data": {
      "text/html": [],
      "text/latex": [],
      "text/markdown": [],
      "text/plain": [
       "character(0)"
      ]
     },
     "metadata": {},
     "output_type": "display_data"
    }
   ],
   "source": [
    "cytokines$id[!cytokines$id %in% all_samples_info$sample_id]  ## Question to wich samples do these entries belong; cannot be mapped!"
   ]
  },
  {
   "cell_type": "code",
   "execution_count": 161,
   "id": "9405d129-6034-40ae-a778-3783170dc76a",
   "metadata": {},
   "outputs": [],
   "source": [
    "cytokines$cytokine_data = 1"
   ]
  },
  {
   "cell_type": "code",
   "execution_count": 162,
   "id": "063b7ab2-86e0-4856-9949-415a9a1dcd59",
   "metadata": {},
   "outputs": [],
   "source": [
    "all_samples_info = merge(all_samples_info, cytokines[,c('id', 'cytokine_data')], by.x = 'sample_id', by.y = 'id', all.x = TRUE)"
   ]
  },
  {
   "cell_type": "code",
   "execution_count": 163,
   "id": "5e8c9d17-07cc-4797-9a9d-18e6191cea05",
   "metadata": {},
   "outputs": [
    {
     "data": {
      "text/html": [
       "146"
      ],
      "text/latex": [
       "146"
      ],
      "text/markdown": [
       "146"
      ],
      "text/plain": [
       "[1] 146"
      ]
     },
     "metadata": {},
     "output_type": "display_data"
    }
   ],
   "source": [
    "nrow(all_samples_info)"
   ]
  },
  {
   "cell_type": "code",
   "execution_count": 165,
   "id": "398149cc-ed1b-4c30-b900-4a4377e7ea16",
   "metadata": {},
   "outputs": [],
   "source": [
    "all_samples_info$cytokine_data[is.na(all_samples_info$cytokine_data)] = 0"
   ]
  },
  {
   "cell_type": "code",
   "execution_count": 166,
   "id": "40c3da75-d308-463a-bfa1-739390315e5f",
   "metadata": {},
   "outputs": [
    {
     "data": {
      "text/html": [
       "126"
      ],
      "text/latex": [
       "126"
      ],
      "text/markdown": [
       "126"
      ],
      "text/plain": [
       "[1] 126"
      ]
     },
     "metadata": {},
     "output_type": "display_data"
    }
   ],
   "source": [
    "sum(all_samples_info$cytokine_data)  "
   ]
  },
  {
   "cell_type": "raw",
   "id": "2cb8ebe5-bb23-4d8d-9ff5-810374e752e0",
   "metadata": {},
   "source": [
    "** Summary: for 126 sample - tp combinations cytokine data is available in the file; everything can be mapped"
   ]
  },
  {
   "cell_type": "code",
   "execution_count": 167,
   "id": "be8f2373-25b7-402c-8c9e-75e283cbee58",
   "metadata": {},
   "outputs": [
    {
     "data": {
      "text/html": [
       "<table class=\"dataframe\">\n",
       "<caption>A data.frame: 2 × 74</caption>\n",
       "<thead>\n",
       "\t<tr><th></th><th scope=col>sample_id</th><th scope=col>sCD40L</th><th scope=col>EGF</th><th scope=col>Eotaxin</th><th scope=col>FGF2</th><th scope=col>FLT3L</th><th scope=col>Fractalkine</th><th scope=col>GCSF</th><th scope=col>GMCSF</th><th scope=col>GROalpha</th><th scope=col>⋯</th><th scope=col>MCP4</th><th scope=col>MIP1.</th><th scope=col>SCF</th><th scope=col>SDF1alpha.beta</th><th scope=col>TARC</th><th scope=col>TPO</th><th scope=col>TRAIL</th><th scope=col>TSLP</th><th scope=col>id</th><th scope=col>cytokine_data</th></tr>\n",
       "\t<tr><th></th><th scope=col>&lt;chr&gt;</th><th scope=col>&lt;dbl&gt;</th><th scope=col>&lt;chr&gt;</th><th scope=col>&lt;dbl&gt;</th><th scope=col>&lt;chr&gt;</th><th scope=col>&lt;dbl&gt;</th><th scope=col>&lt;chr&gt;</th><th scope=col>&lt;chr&gt;</th><th scope=col>&lt;chr&gt;</th><th scope=col>&lt;chr&gt;</th><th scope=col>⋯</th><th scope=col>&lt;dbl&gt;</th><th scope=col>&lt;dbl&gt;</th><th scope=col>&lt;chr&gt;</th><th scope=col>&lt;dbl&gt;</th><th scope=col>&lt;dbl&gt;</th><th scope=col>&lt;chr&gt;</th><th scope=col>&lt;dbl&gt;</th><th scope=col>&lt;chr&gt;</th><th scope=col>&lt;chr&gt;</th><th scope=col>&lt;dbl&gt;</th></tr>\n",
       "</thead>\n",
       "<tbody>\n",
       "\t<tr><th scope=row>1</th><td>M1.1 </td><td>1033.94</td><td>4.49 </td><td>48.09</td><td>52.77</td><td>14.40</td><td>57.66 </td><td>8.70 </td><td>OOR &lt;</td><td>3.43</td><td>⋯</td><td>91.13</td><td>2665.03</td><td>5.24 </td><td> 4033.41</td><td>59.34</td><td>354.84</td><td>44.25</td><td>4.65 </td><td>m1.1 </td><td>1</td></tr>\n",
       "\t<tr><th scope=row>2</th><td>M11.1</td><td> 232.19</td><td>16.74</td><td>32.19</td><td>54.38</td><td>52.98</td><td>107.78</td><td>OOR &lt;</td><td>OOR &lt;</td><td>8.20</td><td>⋯</td><td>73.06</td><td>5105.80</td><td>74.24</td><td>10498.23</td><td>10.47</td><td>OOR &lt; </td><td>84.87</td><td>OOR &lt;</td><td>m11.1</td><td>1</td></tr>\n",
       "</tbody>\n",
       "</table>\n"
      ],
      "text/latex": [
       "A data.frame: 2 × 74\n",
       "\\begin{tabular}{r|lllllllllllllllllllll}\n",
       "  & sample\\_id & sCD40L & EGF & Eotaxin & FGF2 & FLT3L & Fractalkine & GCSF & GMCSF & GROalpha & ⋯ & MCP4 & MIP1. & SCF & SDF1alpha.beta & TARC & TPO & TRAIL & TSLP & id & cytokine\\_data\\\\\n",
       "  & <chr> & <dbl> & <chr> & <dbl> & <chr> & <dbl> & <chr> & <chr> & <chr> & <chr> & ⋯ & <dbl> & <dbl> & <chr> & <dbl> & <dbl> & <chr> & <dbl> & <chr> & <chr> & <dbl>\\\\\n",
       "\\hline\n",
       "\t1 & M1.1  & 1033.94 & 4.49  & 48.09 & 52.77 & 14.40 & 57.66  & 8.70  & OOR < & 3.43 & ⋯ & 91.13 & 2665.03 & 5.24  &  4033.41 & 59.34 & 354.84 & 44.25 & 4.65  & m1.1  & 1\\\\\n",
       "\t2 & M11.1 &  232.19 & 16.74 & 32.19 & 54.38 & 52.98 & 107.78 & OOR < & OOR < & 8.20 & ⋯ & 73.06 & 5105.80 & 74.24 & 10498.23 & 10.47 & OOR <  & 84.87 & OOR < & m11.1 & 1\\\\\n",
       "\\end{tabular}\n"
      ],
      "text/markdown": [
       "\n",
       "A data.frame: 2 × 74\n",
       "\n",
       "| <!--/--> | sample_id &lt;chr&gt; | sCD40L &lt;dbl&gt; | EGF &lt;chr&gt; | Eotaxin &lt;dbl&gt; | FGF2 &lt;chr&gt; | FLT3L &lt;dbl&gt; | Fractalkine &lt;chr&gt; | GCSF &lt;chr&gt; | GMCSF &lt;chr&gt; | GROalpha &lt;chr&gt; | ⋯ ⋯ | MCP4 &lt;dbl&gt; | MIP1. &lt;dbl&gt; | SCF &lt;chr&gt; | SDF1alpha.beta &lt;dbl&gt; | TARC &lt;dbl&gt; | TPO &lt;chr&gt; | TRAIL &lt;dbl&gt; | TSLP &lt;chr&gt; | id &lt;chr&gt; | cytokine_data &lt;dbl&gt; |\n",
       "|---|---|---|---|---|---|---|---|---|---|---|---|---|---|---|---|---|---|---|---|---|---|\n",
       "| 1 | M1.1  | 1033.94 | 4.49  | 48.09 | 52.77 | 14.40 | 57.66  | 8.70  | OOR &lt; | 3.43 | ⋯ | 91.13 | 2665.03 | 5.24  |  4033.41 | 59.34 | 354.84 | 44.25 | 4.65  | m1.1  | 1 |\n",
       "| 2 | M11.1 |  232.19 | 16.74 | 32.19 | 54.38 | 52.98 | 107.78 | OOR &lt; | OOR &lt; | 8.20 | ⋯ | 73.06 | 5105.80 | 74.24 | 10498.23 | 10.47 | OOR &lt;  | 84.87 | OOR &lt; | m11.1 | 1 |\n",
       "\n"
      ],
      "text/plain": [
       "  sample_id sCD40L  EGF   Eotaxin FGF2  FLT3L Fractalkine GCSF  GMCSF GROalpha\n",
       "1 M1.1      1033.94 4.49  48.09   52.77 14.40 57.66       8.70  OOR < 3.43    \n",
       "2 M11.1      232.19 16.74 32.19   54.38 52.98 107.78      OOR < OOR < 8.20    \n",
       "  ⋯ MCP4  MIP1.   SCF   SDF1alpha.beta TARC  TPO    TRAIL TSLP  id   \n",
       "1 ⋯ 91.13 2665.03 5.24   4033.41       59.34 354.84 44.25 4.65  m1.1 \n",
       "2 ⋯ 73.06 5105.80 74.24 10498.23       10.47 OOR <  84.87 OOR < m11.1\n",
       "  cytokine_data\n",
       "1 1            \n",
       "2 1            "
      ]
     },
     "metadata": {},
     "output_type": "display_data"
    }
   ],
   "source": [
    "head(cytokines,2)"
   ]
  },
  {
   "cell_type": "code",
   "execution_count": 168,
   "id": "b1994412-4f25-426e-bfcc-5b57d033ece5",
   "metadata": {},
   "outputs": [],
   "source": [
    "available_data = data.frame(type = 'cytokine_assay', feature_name = colnames(cytokines))"
   ]
  },
  {
   "cell_type": "code",
   "execution_count": 169,
   "id": "634e01f3-dd07-49fd-9770-96905cdde364",
   "metadata": {},
   "outputs": [
    {
     "data": {
      "text/html": [
       "<table class=\"dataframe\">\n",
       "<caption>A data.frame: 6 × 2</caption>\n",
       "<thead>\n",
       "\t<tr><th></th><th scope=col>type</th><th scope=col>feature_name</th></tr>\n",
       "\t<tr><th></th><th scope=col>&lt;chr&gt;</th><th scope=col>&lt;chr&gt;</th></tr>\n",
       "</thead>\n",
       "<tbody>\n",
       "\t<tr><th scope=row>1</th><td>cytokine_assay</td><td>sample_id</td></tr>\n",
       "\t<tr><th scope=row>2</th><td>cytokine_assay</td><td>sCD40L   </td></tr>\n",
       "\t<tr><th scope=row>3</th><td>cytokine_assay</td><td>EGF      </td></tr>\n",
       "\t<tr><th scope=row>4</th><td>cytokine_assay</td><td>Eotaxin  </td></tr>\n",
       "\t<tr><th scope=row>5</th><td>cytokine_assay</td><td>FGF2     </td></tr>\n",
       "\t<tr><th scope=row>6</th><td>cytokine_assay</td><td>FLT3L    </td></tr>\n",
       "</tbody>\n",
       "</table>\n"
      ],
      "text/latex": [
       "A data.frame: 6 × 2\n",
       "\\begin{tabular}{r|ll}\n",
       "  & type & feature\\_name\\\\\n",
       "  & <chr> & <chr>\\\\\n",
       "\\hline\n",
       "\t1 & cytokine\\_assay & sample\\_id\\\\\n",
       "\t2 & cytokine\\_assay & sCD40L   \\\\\n",
       "\t3 & cytokine\\_assay & EGF      \\\\\n",
       "\t4 & cytokine\\_assay & Eotaxin  \\\\\n",
       "\t5 & cytokine\\_assay & FGF2     \\\\\n",
       "\t6 & cytokine\\_assay & FLT3L    \\\\\n",
       "\\end{tabular}\n"
      ],
      "text/markdown": [
       "\n",
       "A data.frame: 6 × 2\n",
       "\n",
       "| <!--/--> | type &lt;chr&gt; | feature_name &lt;chr&gt; |\n",
       "|---|---|---|\n",
       "| 1 | cytokine_assay | sample_id |\n",
       "| 2 | cytokine_assay | sCD40L    |\n",
       "| 3 | cytokine_assay | EGF       |\n",
       "| 4 | cytokine_assay | Eotaxin   |\n",
       "| 5 | cytokine_assay | FGF2      |\n",
       "| 6 | cytokine_assay | FLT3L     |\n",
       "\n"
      ],
      "text/plain": [
       "  type           feature_name\n",
       "1 cytokine_assay sample_id   \n",
       "2 cytokine_assay sCD40L      \n",
       "3 cytokine_assay EGF         \n",
       "4 cytokine_assay Eotaxin     \n",
       "5 cytokine_assay FGF2        \n",
       "6 cytokine_assay FLT3L       "
      ]
     },
     "metadata": {},
     "output_type": "display_data"
    }
   ],
   "source": [
    "head(available_data)"
   ]
  },
  {
   "cell_type": "code",
   "execution_count": 170,
   "id": "0e3e21d8-b90e-42b8-91c4-5d6d8f7cafc3",
   "metadata": {},
   "outputs": [],
   "source": [
    "available_data = available_data[available_data$feature_name != 'sample_id',]\n",
    "available_data = available_data[available_data$feature_name != 'id',]\n",
    "available_data = available_data[available_data$feature_name != 'cytokine_data',]"
   ]
  },
  {
   "cell_type": "code",
   "execution_count": 171,
   "id": "33c25d2e-60d0-4fe3-8061-9c3c1538caec",
   "metadata": {},
   "outputs": [],
   "source": [
    "write.csv(available_data, paste0(result_path, '/Data_Share/Cytokine_Assay_Features.csv'))"
   ]
  },
  {
   "cell_type": "markdown",
   "id": "1e197c53-f112-4b15-b7f6-0d1b7a4ddc75",
   "metadata": {},
   "source": [
    "## Neutrophil Data"
   ]
  },
  {
   "cell_type": "markdown",
   "id": "6b41ddb4-8852-48fd-b12e-4e73d59de989",
   "metadata": {
    "tags": []
   },
   "source": [
    "### counts_normed (updated_data)"
   ]
  },
  {
   "cell_type": "code",
   "execution_count": 172,
   "id": "e69be5be-b326-41f6-9439-3629a66fc8ca",
   "metadata": {},
   "outputs": [],
   "source": [
    "# Read in data"
   ]
  },
  {
   "cell_type": "code",
   "execution_count": 173,
   "id": "acc8c70c-c4dd-4dd9-afb1-f3f3742cdf7c",
   "metadata": {},
   "outputs": [],
   "source": [
    "filenames = list.files(paste0(data_path, \"/preprocessed-data/neutrophil/counts_normed/\"), pattern=\"*.tsv\", full.names=TRUE)"
   ]
  },
  {
   "cell_type": "code",
   "execution_count": 174,
   "id": "767dd8e1-b4c6-4535-8db7-63eb57ae92b2",
   "metadata": {},
   "outputs": [
    {
     "data": {
      "text/html": [
       "<style>\n",
       ".list-inline {list-style: none; margin:0; padding: 0}\n",
       ".list-inline>li {display: inline-block}\n",
       ".list-inline>li:not(:last-child)::after {content: \"\\00b7\"; padding: 0 .5ex}\n",
       "</style>\n",
       "<ol class=list-inline><li>'../data/current/preprocessed-data/neutrophil/counts_normed//counts.reads.exon.all.counts.tsv'</li><li>'../data/current/preprocessed-data/neutrophil/counts_normed//counts.reads.inex.all.counts.tsv'</li><li>'../data/current/preprocessed-data/neutrophil/counts_normed//counts.umi.exon.all.counts.tsv'</li><li>'../data/current/preprocessed-data/neutrophil/counts_normed//counts.umi.inex.all.counts.tsv'</li><li>'../data/current/preprocessed-data/neutrophil/counts_normed//normalized.reads.exon.all.counts.tsv'</li><li>'../data/current/preprocessed-data/neutrophil/counts_normed//normalized.reads.inex.all.counts.tsv'</li><li>'../data/current/preprocessed-data/neutrophil/counts_normed//normalized.umi.exon.all.counts.tsv'</li><li>'../data/current/preprocessed-data/neutrophil/counts_normed//normalized.umi.inex.all.counts.tsv'</li></ol>\n"
      ],
      "text/latex": [
       "\\begin{enumerate*}\n",
       "\\item '../data/current/preprocessed-data/neutrophil/counts\\_normed//counts.reads.exon.all.counts.tsv'\n",
       "\\item '../data/current/preprocessed-data/neutrophil/counts\\_normed//counts.reads.inex.all.counts.tsv'\n",
       "\\item '../data/current/preprocessed-data/neutrophil/counts\\_normed//counts.umi.exon.all.counts.tsv'\n",
       "\\item '../data/current/preprocessed-data/neutrophil/counts\\_normed//counts.umi.inex.all.counts.tsv'\n",
       "\\item '../data/current/preprocessed-data/neutrophil/counts\\_normed//normalized.reads.exon.all.counts.tsv'\n",
       "\\item '../data/current/preprocessed-data/neutrophil/counts\\_normed//normalized.reads.inex.all.counts.tsv'\n",
       "\\item '../data/current/preprocessed-data/neutrophil/counts\\_normed//normalized.umi.exon.all.counts.tsv'\n",
       "\\item '../data/current/preprocessed-data/neutrophil/counts\\_normed//normalized.umi.inex.all.counts.tsv'\n",
       "\\end{enumerate*}\n"
      ],
      "text/markdown": [
       "1. '../data/current/preprocessed-data/neutrophil/counts_normed//counts.reads.exon.all.counts.tsv'\n",
       "2. '../data/current/preprocessed-data/neutrophil/counts_normed//counts.reads.inex.all.counts.tsv'\n",
       "3. '../data/current/preprocessed-data/neutrophil/counts_normed//counts.umi.exon.all.counts.tsv'\n",
       "4. '../data/current/preprocessed-data/neutrophil/counts_normed//counts.umi.inex.all.counts.tsv'\n",
       "5. '../data/current/preprocessed-data/neutrophil/counts_normed//normalized.reads.exon.all.counts.tsv'\n",
       "6. '../data/current/preprocessed-data/neutrophil/counts_normed//normalized.reads.inex.all.counts.tsv'\n",
       "7. '../data/current/preprocessed-data/neutrophil/counts_normed//normalized.umi.exon.all.counts.tsv'\n",
       "8. '../data/current/preprocessed-data/neutrophil/counts_normed//normalized.umi.inex.all.counts.tsv'\n",
       "\n",
       "\n"
      ],
      "text/plain": [
       "[1] \"../data/current/preprocessed-data/neutrophil/counts_normed//counts.reads.exon.all.counts.tsv\"    \n",
       "[2] \"../data/current/preprocessed-data/neutrophil/counts_normed//counts.reads.inex.all.counts.tsv\"    \n",
       "[3] \"../data/current/preprocessed-data/neutrophil/counts_normed//counts.umi.exon.all.counts.tsv\"      \n",
       "[4] \"../data/current/preprocessed-data/neutrophil/counts_normed//counts.umi.inex.all.counts.tsv\"      \n",
       "[5] \"../data/current/preprocessed-data/neutrophil/counts_normed//normalized.reads.exon.all.counts.tsv\"\n",
       "[6] \"../data/current/preprocessed-data/neutrophil/counts_normed//normalized.reads.inex.all.counts.tsv\"\n",
       "[7] \"../data/current/preprocessed-data/neutrophil/counts_normed//normalized.umi.exon.all.counts.tsv\"  \n",
       "[8] \"../data/current/preprocessed-data/neutrophil/counts_normed//normalized.umi.inex.all.counts.tsv\"  "
      ]
     },
     "metadata": {},
     "output_type": "display_data"
    }
   ],
   "source": [
    "filenames"
   ]
  },
  {
   "cell_type": "code",
   "execution_count": 175,
   "id": "c7fa5aca-332f-4461-8f0e-f78faa30b9dc",
   "metadata": {},
   "outputs": [],
   "source": [
    "neutrophil_data_new = list()"
   ]
  },
  {
   "cell_type": "code",
   "execution_count": 176,
   "id": "43fac7b9-646b-433d-a26e-9ac7cdddd3cc",
   "metadata": {},
   "outputs": [
    {
     "name": "stdout",
     "output_type": "stream",
     "text": [
      "[1] 38146   124\n",
      "[1] \"2022-01-24 14:56:53 CET\"\n",
      "[1] 42189   124\n",
      "[1] \"2022-01-24 14:57:08 CET\"\n",
      "[1] 38146   124\n",
      "[1] \"2022-01-24 14:57:21 CET\"\n",
      "[1] 42189   124\n",
      "[1] \"2022-01-24 14:57:34 CET\"\n",
      "[1] 38146   124\n",
      "[1] \"2022-01-24 14:58:07 CET\"\n",
      "[1] 42189   124\n",
      "[1] \"2022-01-24 14:58:51 CET\"\n",
      "[1] 38146   124\n",
      "[1] \"2022-01-24 14:59:26 CET\"\n",
      "[1] 42189   124\n",
      "[1] \"2022-01-24 15:00:12 CET\"\n"
     ]
    }
   ],
   "source": [
    "for( i in filenames){\n",
    "    neutrophil_data_new[[i]] = read.csv(i, sep = \"\\t\")\n",
    "    print(dim( neutrophil_data_new[[i]]))\n",
    "    print(file.info(i)$mtime)\n",
    "    }"
   ]
  },
  {
   "cell_type": "code",
   "execution_count": 177,
   "id": "682d6c82-d597-4c0d-aaec-8cfdd128a0fd",
   "metadata": {},
   "outputs": [],
   "source": [
    "# Different dimensionalities! // difference between inex and exon"
   ]
  },
  {
   "cell_type": "code",
   "execution_count": null,
   "id": "1bc12419-2bca-441b-853b-c58880b1b916",
   "metadata": {},
   "outputs": [],
   "source": []
  },
  {
   "cell_type": "code",
   "execution_count": 178,
   "id": "854a6930-2387-4e1b-8e2b-b5cae441bd57",
   "metadata": {},
   "outputs": [],
   "source": [
    "#dim(unique_neutrophil_data_comp)  # comparison old files"
   ]
  },
  {
   "cell_type": "code",
   "execution_count": 179,
   "id": "d73319b0-3e40-4804-a0c8-37cebef8f224",
   "metadata": {},
   "outputs": [
    {
     "data": {
      "text/html": [
       "<table class=\"dataframe\">\n",
       "<caption>A data.frame: 2 × 124</caption>\n",
       "<thead>\n",
       "\t<tr><th></th><th scope=col>Geneid</th><th scope=col>k4_0_ccs_ccs</th><th scope=col>m14_3_acs_acs_noinf</th><th scope=col>m26_2_acs_acs_noinf</th><th scope=col>m14_4_acs_acs_noinf</th><th scope=col>m3_3_acs_acs_noinf</th><th scope=col>k1_0_noccs_noccs_compl</th><th scope=col>k2_0_ccs_ccs</th><th scope=col>m24_4_acs_acs_sub</th><th scope=col>m25_2_acs_acs_noinf</th><th scope=col>⋯</th><th scope=col>m20_3_acs_acs_inf</th><th scope=col>m10_2_acs_acs_inf</th><th scope=col>m14_1_acs_acs_noinf</th><th scope=col>m24_1_acs_acs_sub</th><th scope=col>m13_2_acs_acs_noinf</th><th scope=col>k7_0_ccs_ccs</th><th scope=col>m18_3_acs_acs_noinf</th><th scope=col>k26_0_noccs_noccs_ksk</th><th scope=col>m4_3_acs_acs_noinf</th><th scope=col>k9_0_noccs_noccs_compl</th></tr>\n",
       "\t<tr><th></th><th scope=col>&lt;chr&gt;</th><th scope=col>&lt;int&gt;</th><th scope=col>&lt;int&gt;</th><th scope=col>&lt;int&gt;</th><th scope=col>&lt;int&gt;</th><th scope=col>&lt;int&gt;</th><th scope=col>&lt;int&gt;</th><th scope=col>&lt;int&gt;</th><th scope=col>&lt;int&gt;</th><th scope=col>&lt;int&gt;</th><th scope=col>⋯</th><th scope=col>&lt;int&gt;</th><th scope=col>&lt;int&gt;</th><th scope=col>&lt;int&gt;</th><th scope=col>&lt;int&gt;</th><th scope=col>&lt;int&gt;</th><th scope=col>&lt;int&gt;</th><th scope=col>&lt;int&gt;</th><th scope=col>&lt;int&gt;</th><th scope=col>&lt;int&gt;</th><th scope=col>&lt;int&gt;</th></tr>\n",
       "</thead>\n",
       "<tbody>\n",
       "\t<tr><th scope=row>1</th><td>ENSG00000000003.15</td><td> 0</td><td>0</td><td> 0</td><td>0</td><td>16</td><td>0</td><td>0</td><td>0</td><td>0</td><td>⋯</td><td>0</td><td> 0</td><td>0</td><td> 0</td><td>0</td><td> 0</td><td>0</td><td>0</td><td>0</td><td>0</td></tr>\n",
       "\t<tr><th scope=row>2</th><td>ENSG00000000419.13</td><td>13</td><td>0</td><td>21</td><td>0</td><td>28</td><td>0</td><td>1</td><td>1</td><td>0</td><td>⋯</td><td>0</td><td>31</td><td>0</td><td>39</td><td>0</td><td>82</td><td>0</td><td>7</td><td>0</td><td>0</td></tr>\n",
       "</tbody>\n",
       "</table>\n"
      ],
      "text/latex": [
       "A data.frame: 2 × 124\n",
       "\\begin{tabular}{r|lllllllllllllllllllll}\n",
       "  & Geneid & k4\\_0\\_ccs\\_ccs & m14\\_3\\_acs\\_acs\\_noinf & m26\\_2\\_acs\\_acs\\_noinf & m14\\_4\\_acs\\_acs\\_noinf & m3\\_3\\_acs\\_acs\\_noinf & k1\\_0\\_noccs\\_noccs\\_compl & k2\\_0\\_ccs\\_ccs & m24\\_4\\_acs\\_acs\\_sub & m25\\_2\\_acs\\_acs\\_noinf & ⋯ & m20\\_3\\_acs\\_acs\\_inf & m10\\_2\\_acs\\_acs\\_inf & m14\\_1\\_acs\\_acs\\_noinf & m24\\_1\\_acs\\_acs\\_sub & m13\\_2\\_acs\\_acs\\_noinf & k7\\_0\\_ccs\\_ccs & m18\\_3\\_acs\\_acs\\_noinf & k26\\_0\\_noccs\\_noccs\\_ksk & m4\\_3\\_acs\\_acs\\_noinf & k9\\_0\\_noccs\\_noccs\\_compl\\\\\n",
       "  & <chr> & <int> & <int> & <int> & <int> & <int> & <int> & <int> & <int> & <int> & ⋯ & <int> & <int> & <int> & <int> & <int> & <int> & <int> & <int> & <int> & <int>\\\\\n",
       "\\hline\n",
       "\t1 & ENSG00000000003.15 &  0 & 0 &  0 & 0 & 16 & 0 & 0 & 0 & 0 & ⋯ & 0 &  0 & 0 &  0 & 0 &  0 & 0 & 0 & 0 & 0\\\\\n",
       "\t2 & ENSG00000000419.13 & 13 & 0 & 21 & 0 & 28 & 0 & 1 & 1 & 0 & ⋯ & 0 & 31 & 0 & 39 & 0 & 82 & 0 & 7 & 0 & 0\\\\\n",
       "\\end{tabular}\n"
      ],
      "text/markdown": [
       "\n",
       "A data.frame: 2 × 124\n",
       "\n",
       "| <!--/--> | Geneid &lt;chr&gt; | k4_0_ccs_ccs &lt;int&gt; | m14_3_acs_acs_noinf &lt;int&gt; | m26_2_acs_acs_noinf &lt;int&gt; | m14_4_acs_acs_noinf &lt;int&gt; | m3_3_acs_acs_noinf &lt;int&gt; | k1_0_noccs_noccs_compl &lt;int&gt; | k2_0_ccs_ccs &lt;int&gt; | m24_4_acs_acs_sub &lt;int&gt; | m25_2_acs_acs_noinf &lt;int&gt; | ⋯ ⋯ | m20_3_acs_acs_inf &lt;int&gt; | m10_2_acs_acs_inf &lt;int&gt; | m14_1_acs_acs_noinf &lt;int&gt; | m24_1_acs_acs_sub &lt;int&gt; | m13_2_acs_acs_noinf &lt;int&gt; | k7_0_ccs_ccs &lt;int&gt; | m18_3_acs_acs_noinf &lt;int&gt; | k26_0_noccs_noccs_ksk &lt;int&gt; | m4_3_acs_acs_noinf &lt;int&gt; | k9_0_noccs_noccs_compl &lt;int&gt; |\n",
       "|---|---|---|---|---|---|---|---|---|---|---|---|---|---|---|---|---|---|---|---|---|---|\n",
       "| 1 | ENSG00000000003.15 |  0 | 0 |  0 | 0 | 16 | 0 | 0 | 0 | 0 | ⋯ | 0 |  0 | 0 |  0 | 0 |  0 | 0 | 0 | 0 | 0 |\n",
       "| 2 | ENSG00000000419.13 | 13 | 0 | 21 | 0 | 28 | 0 | 1 | 1 | 0 | ⋯ | 0 | 31 | 0 | 39 | 0 | 82 | 0 | 7 | 0 | 0 |\n",
       "\n"
      ],
      "text/plain": [
       "  Geneid             k4_0_ccs_ccs m14_3_acs_acs_noinf m26_2_acs_acs_noinf\n",
       "1 ENSG00000000003.15  0           0                    0                 \n",
       "2 ENSG00000000419.13 13           0                   21                 \n",
       "  m14_4_acs_acs_noinf m3_3_acs_acs_noinf k1_0_noccs_noccs_compl k2_0_ccs_ccs\n",
       "1 0                   16                 0                      0           \n",
       "2 0                   28                 0                      1           \n",
       "  m24_4_acs_acs_sub m25_2_acs_acs_noinf ⋯ m20_3_acs_acs_inf m10_2_acs_acs_inf\n",
       "1 0                 0                   ⋯ 0                  0               \n",
       "2 1                 0                   ⋯ 0                 31               \n",
       "  m14_1_acs_acs_noinf m24_1_acs_acs_sub m13_2_acs_acs_noinf k7_0_ccs_ccs\n",
       "1 0                    0                0                    0          \n",
       "2 0                   39                0                   82          \n",
       "  m18_3_acs_acs_noinf k26_0_noccs_noccs_ksk m4_3_acs_acs_noinf\n",
       "1 0                   0                     0                 \n",
       "2 0                   7                     0                 \n",
       "  k9_0_noccs_noccs_compl\n",
       "1 0                     \n",
       "2 0                     "
      ]
     },
     "metadata": {},
     "output_type": "display_data"
    }
   ],
   "source": [
    "head(neutrophil_data_new[[1]],2)"
   ]
  },
  {
   "cell_type": "code",
   "execution_count": 180,
   "id": "169afde4-643f-4bf2-9144-0301fc5736e4",
   "metadata": {},
   "outputs": [],
   "source": [
    "for(i in 1:length(neutrophil_data_new)){  # adjust sample id in generated data\n",
    "    data = neutrophil_data_new[[i]]\n",
    "    \n",
    "    data = data[,!colnames(data) %in% c('m7_out2_acs_acs_noinf', 'm7_out1_acs_acs_noinf')] # filter out samples that cannot be assigned according to Viktoria\n",
    "    \n",
    "    rownames(data) = data$Geneid\n",
    "    \n",
    "    data$Geneid = NULL\n",
    "    data = data.frame(t(data))\n",
    "    \n",
    "    data$sample_id = rownames(data)\n",
    "    data$sample_id = str_extract(data$sample_id, 'm.*_\\\\d|k.*_\\\\d')\n",
    "    data$sample_id = str_replace(data$sample_id, '_0', '')\n",
    "    data$sample_id = str_replace(data$sample_id, '_', '\\\\.')\n",
    "    \n",
    "    data = unique(data)\n",
    "    \n",
    "    neutrophil_data_new[[i]] = data\n",
    "    }\n",
    "    "
   ]
  },
  {
   "cell_type": "code",
   "execution_count": 181,
   "id": "334e4caf-76da-44f5-ad32-0a445b3996bb",
   "metadata": {},
   "outputs": [
    {
     "data": {
      "text/html": [
       "121"
      ],
      "text/latex": [
       "121"
      ],
      "text/markdown": [
       "121"
      ],
      "text/plain": [
       "[1] 121"
      ]
     },
     "metadata": {},
     "output_type": "display_data"
    }
   ],
   "source": [
    "nrow(neutrophil_data_new[[1]])"
   ]
  },
  {
   "cell_type": "code",
   "execution_count": 182,
   "id": "38d4a7fb-9249-4b76-a955-e5155b17cec9",
   "metadata": {},
   "outputs": [
    {
     "data": {
      "text/html": [
       "121"
      ],
      "text/latex": [
       "121"
      ],
      "text/markdown": [
       "121"
      ],
      "text/plain": [
       "[1] 121"
      ]
     },
     "metadata": {},
     "output_type": "display_data"
    }
   ],
   "source": [
    "length(unique(neutrophil_data_new[[1]]$sample_id))"
   ]
  },
  {
   "cell_type": "code",
   "execution_count": 183,
   "id": "2c59ff75-f10e-4155-a891-7002a5ca0cdc",
   "metadata": {},
   "outputs": [
    {
     "name": "stdout",
     "output_type": "stream",
     "text": [
      "[1]   121 38147\n",
      "[1]   121 42190\n",
      "[1]   121 38147\n",
      "[1]   121 42190\n",
      "[1]   121 38147\n",
      "[1]   121 42190\n",
      "[1]   121 38147\n",
      "[1]   121 42190\n"
     ]
    }
   ],
   "source": [
    "for(i in 1:length(neutrophil_data_new)){\n",
    "    print(dim(neutrophil_data_new[[i]]))\n",
    "    }"
   ]
  },
  {
   "cell_type": "code",
   "execution_count": 184,
   "id": "eaac80ed-c3eb-4a5f-bc07-386297890b33",
   "metadata": {},
   "outputs": [
    {
     "data": {
      "text/html": [
       "38147"
      ],
      "text/latex": [
       "38147"
      ],
      "text/markdown": [
       "38147"
      ],
      "text/plain": [
       "[1] 38147"
      ]
     },
     "metadata": {},
     "output_type": "display_data"
    }
   ],
   "source": [
    "sum(colnames(neutrophil_data_new[[1]]) %in% colnames(neutrophil_data_new[[2]]))  # all genes from exon file also in inex file"
   ]
  },
  {
   "cell_type": "code",
   "execution_count": 185,
   "id": "4d490942-b6c7-45a9-87d0-d09b367d2e04",
   "metadata": {},
   "outputs": [
    {
     "data": {
      "text/html": [
       "<table class=\"dataframe\">\n",
       "<caption>A data.frame: 2 × 38147</caption>\n",
       "<thead>\n",
       "\t<tr><th></th><th scope=col>ENSG00000000003.15</th><th scope=col>ENSG00000000419.13</th><th scope=col>ENSG00000000457.14</th><th scope=col>ENSG00000000460.17</th><th scope=col>ENSG00000000938.13</th><th scope=col>ENSG00000000971.16</th><th scope=col>ENSG00000001036.14</th><th scope=col>ENSG00000001084.13</th><th scope=col>ENSG00000001167.14</th><th scope=col>ENSG00000001460.18</th><th scope=col>⋯</th><th scope=col>ENSG00000288611.1</th><th scope=col>ENSG00000288612.1</th><th scope=col>ENSG00000288615.1</th><th scope=col>ENSG00000288617.1</th><th scope=col>ENSG00000288621.1</th><th scope=col>ENSG00000288631.1</th><th scope=col>ENSG00000288637.1</th><th scope=col>ENSG00000288638.1</th><th scope=col>ENSG00000288642.1</th><th scope=col>sample_id</th></tr>\n",
       "\t<tr><th></th><th scope=col>&lt;int&gt;</th><th scope=col>&lt;int&gt;</th><th scope=col>&lt;int&gt;</th><th scope=col>&lt;int&gt;</th><th scope=col>&lt;int&gt;</th><th scope=col>&lt;int&gt;</th><th scope=col>&lt;int&gt;</th><th scope=col>&lt;int&gt;</th><th scope=col>&lt;int&gt;</th><th scope=col>&lt;int&gt;</th><th scope=col>⋯</th><th scope=col>&lt;int&gt;</th><th scope=col>&lt;int&gt;</th><th scope=col>&lt;int&gt;</th><th scope=col>&lt;int&gt;</th><th scope=col>&lt;int&gt;</th><th scope=col>&lt;int&gt;</th><th scope=col>&lt;int&gt;</th><th scope=col>&lt;int&gt;</th><th scope=col>&lt;int&gt;</th><th scope=col>&lt;chr&gt;</th></tr>\n",
       "</thead>\n",
       "<tbody>\n",
       "\t<tr><th scope=row>k4_0_ccs_ccs</th><td>0</td><td>13</td><td> 0</td><td>0</td><td>312</td><td>0</td><td>0</td><td>0</td><td>23</td><td>0</td><td>⋯</td><td>0</td><td>0</td><td>0</td><td>0</td><td>0</td><td>0</td><td>0</td><td>0</td><td>0</td><td>k4   </td></tr>\n",
       "\t<tr><th scope=row>m14_3_acs_acs_noinf</th><td>0</td><td> 0</td><td>32</td><td>0</td><td>181</td><td>0</td><td>0</td><td>0</td><td> 0</td><td>0</td><td>⋯</td><td>0</td><td>0</td><td>0</td><td>0</td><td>0</td><td>0</td><td>0</td><td>0</td><td>0</td><td>m14.3</td></tr>\n",
       "</tbody>\n",
       "</table>\n"
      ],
      "text/latex": [
       "A data.frame: 2 × 38147\n",
       "\\begin{tabular}{r|lllllllllllllllllllll}\n",
       "  & ENSG00000000003.15 & ENSG00000000419.13 & ENSG00000000457.14 & ENSG00000000460.17 & ENSG00000000938.13 & ENSG00000000971.16 & ENSG00000001036.14 & ENSG00000001084.13 & ENSG00000001167.14 & ENSG00000001460.18 & ⋯ & ENSG00000288611.1 & ENSG00000288612.1 & ENSG00000288615.1 & ENSG00000288617.1 & ENSG00000288621.1 & ENSG00000288631.1 & ENSG00000288637.1 & ENSG00000288638.1 & ENSG00000288642.1 & sample\\_id\\\\\n",
       "  & <int> & <int> & <int> & <int> & <int> & <int> & <int> & <int> & <int> & <int> & ⋯ & <int> & <int> & <int> & <int> & <int> & <int> & <int> & <int> & <int> & <chr>\\\\\n",
       "\\hline\n",
       "\tk4\\_0\\_ccs\\_ccs & 0 & 13 &  0 & 0 & 312 & 0 & 0 & 0 & 23 & 0 & ⋯ & 0 & 0 & 0 & 0 & 0 & 0 & 0 & 0 & 0 & k4   \\\\\n",
       "\tm14\\_3\\_acs\\_acs\\_noinf & 0 &  0 & 32 & 0 & 181 & 0 & 0 & 0 &  0 & 0 & ⋯ & 0 & 0 & 0 & 0 & 0 & 0 & 0 & 0 & 0 & m14.3\\\\\n",
       "\\end{tabular}\n"
      ],
      "text/markdown": [
       "\n",
       "A data.frame: 2 × 38147\n",
       "\n",
       "| <!--/--> | ENSG00000000003.15 &lt;int&gt; | ENSG00000000419.13 &lt;int&gt; | ENSG00000000457.14 &lt;int&gt; | ENSG00000000460.17 &lt;int&gt; | ENSG00000000938.13 &lt;int&gt; | ENSG00000000971.16 &lt;int&gt; | ENSG00000001036.14 &lt;int&gt; | ENSG00000001084.13 &lt;int&gt; | ENSG00000001167.14 &lt;int&gt; | ENSG00000001460.18 &lt;int&gt; | ⋯ ⋯ | ENSG00000288611.1 &lt;int&gt; | ENSG00000288612.1 &lt;int&gt; | ENSG00000288615.1 &lt;int&gt; | ENSG00000288617.1 &lt;int&gt; | ENSG00000288621.1 &lt;int&gt; | ENSG00000288631.1 &lt;int&gt; | ENSG00000288637.1 &lt;int&gt; | ENSG00000288638.1 &lt;int&gt; | ENSG00000288642.1 &lt;int&gt; | sample_id &lt;chr&gt; |\n",
       "|---|---|---|---|---|---|---|---|---|---|---|---|---|---|---|---|---|---|---|---|---|---|\n",
       "| k4_0_ccs_ccs | 0 | 13 |  0 | 0 | 312 | 0 | 0 | 0 | 23 | 0 | ⋯ | 0 | 0 | 0 | 0 | 0 | 0 | 0 | 0 | 0 | k4    |\n",
       "| m14_3_acs_acs_noinf | 0 |  0 | 32 | 0 | 181 | 0 | 0 | 0 |  0 | 0 | ⋯ | 0 | 0 | 0 | 0 | 0 | 0 | 0 | 0 | 0 | m14.3 |\n",
       "\n"
      ],
      "text/plain": [
       "                    ENSG00000000003.15 ENSG00000000419.13 ENSG00000000457.14\n",
       "k4_0_ccs_ccs        0                  13                  0                \n",
       "m14_3_acs_acs_noinf 0                   0                 32                \n",
       "                    ENSG00000000460.17 ENSG00000000938.13 ENSG00000000971.16\n",
       "k4_0_ccs_ccs        0                  312                0                 \n",
       "m14_3_acs_acs_noinf 0                  181                0                 \n",
       "                    ENSG00000001036.14 ENSG00000001084.13 ENSG00000001167.14\n",
       "k4_0_ccs_ccs        0                  0                  23                \n",
       "m14_3_acs_acs_noinf 0                  0                   0                \n",
       "                    ENSG00000001460.18 ⋯ ENSG00000288611.1 ENSG00000288612.1\n",
       "k4_0_ccs_ccs        0                  ⋯ 0                 0                \n",
       "m14_3_acs_acs_noinf 0                  ⋯ 0                 0                \n",
       "                    ENSG00000288615.1 ENSG00000288617.1 ENSG00000288621.1\n",
       "k4_0_ccs_ccs        0                 0                 0                \n",
       "m14_3_acs_acs_noinf 0                 0                 0                \n",
       "                    ENSG00000288631.1 ENSG00000288637.1 ENSG00000288638.1\n",
       "k4_0_ccs_ccs        0                 0                 0                \n",
       "m14_3_acs_acs_noinf 0                 0                 0                \n",
       "                    ENSG00000288642.1 sample_id\n",
       "k4_0_ccs_ccs        0                 k4       \n",
       "m14_3_acs_acs_noinf 0                 m14.3    "
      ]
     },
     "metadata": {},
     "output_type": "display_data"
    }
   ],
   "source": [
    "head(neutrophil_data_new[[1]],2)"
   ]
  },
  {
   "cell_type": "code",
   "execution_count": 186,
   "id": "a97d1ced-bbb3-4e90-b57a-7ee94e856279",
   "metadata": {},
   "outputs": [
    {
     "data": {
      "text/html": [
       "<table class=\"dataframe\">\n",
       "<caption>A data.frame: 2 × 42190</caption>\n",
       "<thead>\n",
       "\t<tr><th></th><th scope=col>ENSG00000000003.15</th><th scope=col>ENSG00000000005.6</th><th scope=col>ENSG00000000419.13</th><th scope=col>ENSG00000000457.14</th><th scope=col>ENSG00000000460.17</th><th scope=col>ENSG00000000938.13</th><th scope=col>ENSG00000000971.16</th><th scope=col>ENSG00000001036.14</th><th scope=col>ENSG00000001084.13</th><th scope=col>ENSG00000001167.14</th><th scope=col>⋯</th><th scope=col>ENSG00000288618.1</th><th scope=col>ENSG00000288621.1</th><th scope=col>ENSG00000288622.1</th><th scope=col>ENSG00000288630.1</th><th scope=col>ENSG00000288631.1</th><th scope=col>ENSG00000288632.1</th><th scope=col>ENSG00000288637.1</th><th scope=col>ENSG00000288638.1</th><th scope=col>ENSG00000288642.1</th><th scope=col>sample_id</th></tr>\n",
       "\t<tr><th></th><th scope=col>&lt;int&gt;</th><th scope=col>&lt;int&gt;</th><th scope=col>&lt;int&gt;</th><th scope=col>&lt;int&gt;</th><th scope=col>&lt;int&gt;</th><th scope=col>&lt;int&gt;</th><th scope=col>&lt;int&gt;</th><th scope=col>&lt;int&gt;</th><th scope=col>&lt;int&gt;</th><th scope=col>&lt;int&gt;</th><th scope=col>⋯</th><th scope=col>&lt;int&gt;</th><th scope=col>&lt;int&gt;</th><th scope=col>&lt;int&gt;</th><th scope=col>&lt;int&gt;</th><th scope=col>&lt;int&gt;</th><th scope=col>&lt;int&gt;</th><th scope=col>&lt;int&gt;</th><th scope=col>&lt;int&gt;</th><th scope=col>&lt;int&gt;</th><th scope=col>&lt;chr&gt;</th></tr>\n",
       "</thead>\n",
       "<tbody>\n",
       "\t<tr><th scope=row>k4_0_ccs_ccs</th><td>0</td><td>0</td><td>13</td><td> 0</td><td> 71</td><td>323</td><td> 26</td><td>0</td><td>  0</td><td>23</td><td>⋯</td><td>109</td><td>32</td><td>0</td><td>145</td><td>0</td><td>69</td><td>0</td><td>0</td><td>0</td><td>k4   </td></tr>\n",
       "\t<tr><th scope=row>m14_3_acs_acs_noinf</th><td>0</td><td>0</td><td> 1</td><td>32</td><td>123</td><td>231</td><td>161</td><td>0</td><td>120</td><td> 0</td><td>⋯</td><td>  0</td><td> 5</td><td>0</td><td>187</td><td>0</td><td>18</td><td>0</td><td>0</td><td>0</td><td>m14.3</td></tr>\n",
       "</tbody>\n",
       "</table>\n"
      ],
      "text/latex": [
       "A data.frame: 2 × 42190\n",
       "\\begin{tabular}{r|lllllllllllllllllllll}\n",
       "  & ENSG00000000003.15 & ENSG00000000005.6 & ENSG00000000419.13 & ENSG00000000457.14 & ENSG00000000460.17 & ENSG00000000938.13 & ENSG00000000971.16 & ENSG00000001036.14 & ENSG00000001084.13 & ENSG00000001167.14 & ⋯ & ENSG00000288618.1 & ENSG00000288621.1 & ENSG00000288622.1 & ENSG00000288630.1 & ENSG00000288631.1 & ENSG00000288632.1 & ENSG00000288637.1 & ENSG00000288638.1 & ENSG00000288642.1 & sample\\_id\\\\\n",
       "  & <int> & <int> & <int> & <int> & <int> & <int> & <int> & <int> & <int> & <int> & ⋯ & <int> & <int> & <int> & <int> & <int> & <int> & <int> & <int> & <int> & <chr>\\\\\n",
       "\\hline\n",
       "\tk4\\_0\\_ccs\\_ccs & 0 & 0 & 13 &  0 &  71 & 323 &  26 & 0 &   0 & 23 & ⋯ & 109 & 32 & 0 & 145 & 0 & 69 & 0 & 0 & 0 & k4   \\\\\n",
       "\tm14\\_3\\_acs\\_acs\\_noinf & 0 & 0 &  1 & 32 & 123 & 231 & 161 & 0 & 120 &  0 & ⋯ &   0 &  5 & 0 & 187 & 0 & 18 & 0 & 0 & 0 & m14.3\\\\\n",
       "\\end{tabular}\n"
      ],
      "text/markdown": [
       "\n",
       "A data.frame: 2 × 42190\n",
       "\n",
       "| <!--/--> | ENSG00000000003.15 &lt;int&gt; | ENSG00000000005.6 &lt;int&gt; | ENSG00000000419.13 &lt;int&gt; | ENSG00000000457.14 &lt;int&gt; | ENSG00000000460.17 &lt;int&gt; | ENSG00000000938.13 &lt;int&gt; | ENSG00000000971.16 &lt;int&gt; | ENSG00000001036.14 &lt;int&gt; | ENSG00000001084.13 &lt;int&gt; | ENSG00000001167.14 &lt;int&gt; | ⋯ ⋯ | ENSG00000288618.1 &lt;int&gt; | ENSG00000288621.1 &lt;int&gt; | ENSG00000288622.1 &lt;int&gt; | ENSG00000288630.1 &lt;int&gt; | ENSG00000288631.1 &lt;int&gt; | ENSG00000288632.1 &lt;int&gt; | ENSG00000288637.1 &lt;int&gt; | ENSG00000288638.1 &lt;int&gt; | ENSG00000288642.1 &lt;int&gt; | sample_id &lt;chr&gt; |\n",
       "|---|---|---|---|---|---|---|---|---|---|---|---|---|---|---|---|---|---|---|---|---|---|\n",
       "| k4_0_ccs_ccs | 0 | 0 | 13 |  0 |  71 | 323 |  26 | 0 |   0 | 23 | ⋯ | 109 | 32 | 0 | 145 | 0 | 69 | 0 | 0 | 0 | k4    |\n",
       "| m14_3_acs_acs_noinf | 0 | 0 |  1 | 32 | 123 | 231 | 161 | 0 | 120 |  0 | ⋯ |   0 |  5 | 0 | 187 | 0 | 18 | 0 | 0 | 0 | m14.3 |\n",
       "\n"
      ],
      "text/plain": [
       "                    ENSG00000000003.15 ENSG00000000005.6 ENSG00000000419.13\n",
       "k4_0_ccs_ccs        0                  0                 13                \n",
       "m14_3_acs_acs_noinf 0                  0                  1                \n",
       "                    ENSG00000000457.14 ENSG00000000460.17 ENSG00000000938.13\n",
       "k4_0_ccs_ccs         0                  71                323               \n",
       "m14_3_acs_acs_noinf 32                 123                231               \n",
       "                    ENSG00000000971.16 ENSG00000001036.14 ENSG00000001084.13\n",
       "k4_0_ccs_ccs         26                0                    0               \n",
       "m14_3_acs_acs_noinf 161                0                  120               \n",
       "                    ENSG00000001167.14 ⋯ ENSG00000288618.1 ENSG00000288621.1\n",
       "k4_0_ccs_ccs        23                 ⋯ 109               32               \n",
       "m14_3_acs_acs_noinf  0                 ⋯   0                5               \n",
       "                    ENSG00000288622.1 ENSG00000288630.1 ENSG00000288631.1\n",
       "k4_0_ccs_ccs        0                 145               0                \n",
       "m14_3_acs_acs_noinf 0                 187               0                \n",
       "                    ENSG00000288632.1 ENSG00000288637.1 ENSG00000288638.1\n",
       "k4_0_ccs_ccs        69                0                 0                \n",
       "m14_3_acs_acs_noinf 18                0                 0                \n",
       "                    ENSG00000288642.1 sample_id\n",
       "k4_0_ccs_ccs        0                 k4       \n",
       "m14_3_acs_acs_noinf 0                 m14.3    "
      ]
     },
     "metadata": {},
     "output_type": "display_data"
    }
   ],
   "source": [
    "head(neutrophil_data_new[[2]],2)"
   ]
  },
  {
   "cell_type": "code",
   "execution_count": 187,
   "id": "e9e53d73-c889-497a-8efe-15eeaad19dd9",
   "metadata": {},
   "outputs": [],
   "source": [
    "### Check for differences of available data"
   ]
  },
  {
   "cell_type": "code",
   "execution_count": 188,
   "id": "edb40d03-e722-46b9-8571-7c95de3e886d",
   "metadata": {},
   "outputs": [
    {
     "data": {
      "text/html": [
       "242"
      ],
      "text/latex": [
       "242"
      ],
      "text/markdown": [
       "242"
      ],
      "text/plain": [
       "[1] 242"
      ]
     },
     "metadata": {},
     "output_type": "display_data"
    }
   ],
   "source": [
    "nrow(unique(rbind(neutrophil_data_new[[1]], neutrophil_data_new[[2]][,colnames(neutrophil_data_new[[1]])])))  # not the same!"
   ]
  },
  {
   "cell_type": "code",
   "execution_count": 189,
   "id": "ced8b684-5887-459e-b99c-e5bca11e253d",
   "metadata": {},
   "outputs": [],
   "source": [
    "check_similarity = rbind(neutrophil_data_new[[1]], neutrophil_data_new[[2]][,colnames(neutrophil_data_new[[1]])])"
   ]
  },
  {
   "cell_type": "code",
   "execution_count": 190,
   "id": "c0f44e9c-abb7-4097-b6b6-1677941ad943",
   "metadata": {},
   "outputs": [],
   "source": [
    "check_similarity2 = rbind(neutrophil_data_new[[3]], neutrophil_data_new[[4]][,colnames(neutrophil_data_new[[1]])])"
   ]
  },
  {
   "cell_type": "code",
   "execution_count": 191,
   "id": "a3471673-2acb-40a5-9f91-2f10867a0499",
   "metadata": {},
   "outputs": [],
   "source": [
    "check_similarity3 = rbind(neutrophil_data_new[[5]], neutrophil_data_new[[6]][,colnames(neutrophil_data_new[[1]])])"
   ]
  },
  {
   "cell_type": "code",
   "execution_count": 192,
   "id": "39385b0e-2c19-4735-8114-23a7b6cc0586",
   "metadata": {},
   "outputs": [],
   "source": [
    "check_similarity4 = rbind(neutrophil_data_new[[7]], neutrophil_data_new[[8]][,colnames(neutrophil_data_new[[1]])])"
   ]
  },
  {
   "cell_type": "code",
   "execution_count": 193,
   "id": "613b4f01-6654-435e-a7af-2db21cdf013d",
   "metadata": {},
   "outputs": [
    {
     "data": {
      "text/html": [
       "<table class=\"dataframe\">\n",
       "<caption>A data.frame: 2 × 38147</caption>\n",
       "<thead>\n",
       "\t<tr><th></th><th scope=col>ENSG00000000003.15</th><th scope=col>ENSG00000000419.13</th><th scope=col>ENSG00000000457.14</th><th scope=col>ENSG00000000460.17</th><th scope=col>ENSG00000000938.13</th><th scope=col>ENSG00000000971.16</th><th scope=col>ENSG00000001036.14</th><th scope=col>ENSG00000001084.13</th><th scope=col>ENSG00000001167.14</th><th scope=col>ENSG00000001460.18</th><th scope=col>⋯</th><th scope=col>ENSG00000288611.1</th><th scope=col>ENSG00000288612.1</th><th scope=col>ENSG00000288615.1</th><th scope=col>ENSG00000288617.1</th><th scope=col>ENSG00000288621.1</th><th scope=col>ENSG00000288631.1</th><th scope=col>ENSG00000288637.1</th><th scope=col>ENSG00000288638.1</th><th scope=col>ENSG00000288642.1</th><th scope=col>sample_id</th></tr>\n",
       "\t<tr><th></th><th scope=col>&lt;int&gt;</th><th scope=col>&lt;int&gt;</th><th scope=col>&lt;int&gt;</th><th scope=col>&lt;int&gt;</th><th scope=col>&lt;int&gt;</th><th scope=col>&lt;int&gt;</th><th scope=col>&lt;int&gt;</th><th scope=col>&lt;int&gt;</th><th scope=col>&lt;int&gt;</th><th scope=col>&lt;int&gt;</th><th scope=col>⋯</th><th scope=col>&lt;int&gt;</th><th scope=col>&lt;int&gt;</th><th scope=col>&lt;int&gt;</th><th scope=col>&lt;int&gt;</th><th scope=col>&lt;int&gt;</th><th scope=col>&lt;int&gt;</th><th scope=col>&lt;int&gt;</th><th scope=col>&lt;int&gt;</th><th scope=col>&lt;int&gt;</th><th scope=col>&lt;chr&gt;</th></tr>\n",
       "</thead>\n",
       "<tbody>\n",
       "\t<tr><th scope=row>k4_0_ccs_ccs</th><td>0</td><td>13</td><td>0</td><td> 0</td><td>312</td><td> 0</td><td>0</td><td>0</td><td>23</td><td>0</td><td>⋯</td><td>0</td><td>0</td><td>0</td><td>0</td><td> 0</td><td>0</td><td>0</td><td>0</td><td>0</td><td>k4</td></tr>\n",
       "\t<tr><th scope=row>k4_0_ccs_ccs1</th><td>0</td><td>13</td><td>0</td><td>71</td><td>323</td><td>26</td><td>0</td><td>0</td><td>23</td><td>0</td><td>⋯</td><td>0</td><td>0</td><td>0</td><td>0</td><td>32</td><td>0</td><td>0</td><td>0</td><td>0</td><td>k4</td></tr>\n",
       "</tbody>\n",
       "</table>\n"
      ],
      "text/latex": [
       "A data.frame: 2 × 38147\n",
       "\\begin{tabular}{r|lllllllllllllllllllll}\n",
       "  & ENSG00000000003.15 & ENSG00000000419.13 & ENSG00000000457.14 & ENSG00000000460.17 & ENSG00000000938.13 & ENSG00000000971.16 & ENSG00000001036.14 & ENSG00000001084.13 & ENSG00000001167.14 & ENSG00000001460.18 & ⋯ & ENSG00000288611.1 & ENSG00000288612.1 & ENSG00000288615.1 & ENSG00000288617.1 & ENSG00000288621.1 & ENSG00000288631.1 & ENSG00000288637.1 & ENSG00000288638.1 & ENSG00000288642.1 & sample\\_id\\\\\n",
       "  & <int> & <int> & <int> & <int> & <int> & <int> & <int> & <int> & <int> & <int> & ⋯ & <int> & <int> & <int> & <int> & <int> & <int> & <int> & <int> & <int> & <chr>\\\\\n",
       "\\hline\n",
       "\tk4\\_0\\_ccs\\_ccs & 0 & 13 & 0 &  0 & 312 &  0 & 0 & 0 & 23 & 0 & ⋯ & 0 & 0 & 0 & 0 &  0 & 0 & 0 & 0 & 0 & k4\\\\\n",
       "\tk4\\_0\\_ccs\\_ccs1 & 0 & 13 & 0 & 71 & 323 & 26 & 0 & 0 & 23 & 0 & ⋯ & 0 & 0 & 0 & 0 & 32 & 0 & 0 & 0 & 0 & k4\\\\\n",
       "\\end{tabular}\n"
      ],
      "text/markdown": [
       "\n",
       "A data.frame: 2 × 38147\n",
       "\n",
       "| <!--/--> | ENSG00000000003.15 &lt;int&gt; | ENSG00000000419.13 &lt;int&gt; | ENSG00000000457.14 &lt;int&gt; | ENSG00000000460.17 &lt;int&gt; | ENSG00000000938.13 &lt;int&gt; | ENSG00000000971.16 &lt;int&gt; | ENSG00000001036.14 &lt;int&gt; | ENSG00000001084.13 &lt;int&gt; | ENSG00000001167.14 &lt;int&gt; | ENSG00000001460.18 &lt;int&gt; | ⋯ ⋯ | ENSG00000288611.1 &lt;int&gt; | ENSG00000288612.1 &lt;int&gt; | ENSG00000288615.1 &lt;int&gt; | ENSG00000288617.1 &lt;int&gt; | ENSG00000288621.1 &lt;int&gt; | ENSG00000288631.1 &lt;int&gt; | ENSG00000288637.1 &lt;int&gt; | ENSG00000288638.1 &lt;int&gt; | ENSG00000288642.1 &lt;int&gt; | sample_id &lt;chr&gt; |\n",
       "|---|---|---|---|---|---|---|---|---|---|---|---|---|---|---|---|---|---|---|---|---|---|\n",
       "| k4_0_ccs_ccs | 0 | 13 | 0 |  0 | 312 |  0 | 0 | 0 | 23 | 0 | ⋯ | 0 | 0 | 0 | 0 |  0 | 0 | 0 | 0 | 0 | k4 |\n",
       "| k4_0_ccs_ccs1 | 0 | 13 | 0 | 71 | 323 | 26 | 0 | 0 | 23 | 0 | ⋯ | 0 | 0 | 0 | 0 | 32 | 0 | 0 | 0 | 0 | k4 |\n",
       "\n"
      ],
      "text/plain": [
       "              ENSG00000000003.15 ENSG00000000419.13 ENSG00000000457.14\n",
       "k4_0_ccs_ccs  0                  13                 0                 \n",
       "k4_0_ccs_ccs1 0                  13                 0                 \n",
       "              ENSG00000000460.17 ENSG00000000938.13 ENSG00000000971.16\n",
       "k4_0_ccs_ccs   0                 312                 0                \n",
       "k4_0_ccs_ccs1 71                 323                26                \n",
       "              ENSG00000001036.14 ENSG00000001084.13 ENSG00000001167.14\n",
       "k4_0_ccs_ccs  0                  0                  23                \n",
       "k4_0_ccs_ccs1 0                  0                  23                \n",
       "              ENSG00000001460.18 ⋯ ENSG00000288611.1 ENSG00000288612.1\n",
       "k4_0_ccs_ccs  0                  ⋯ 0                 0                \n",
       "k4_0_ccs_ccs1 0                  ⋯ 0                 0                \n",
       "              ENSG00000288615.1 ENSG00000288617.1 ENSG00000288621.1\n",
       "k4_0_ccs_ccs  0                 0                  0               \n",
       "k4_0_ccs_ccs1 0                 0                 32               \n",
       "              ENSG00000288631.1 ENSG00000288637.1 ENSG00000288638.1\n",
       "k4_0_ccs_ccs  0                 0                 0                \n",
       "k4_0_ccs_ccs1 0                 0                 0                \n",
       "              ENSG00000288642.1 sample_id\n",
       "k4_0_ccs_ccs  0                 k4       \n",
       "k4_0_ccs_ccs1 0                 k4       "
      ]
     },
     "metadata": {},
     "output_type": "display_data"
    }
   ],
   "source": [
    "check_similarity[check_similarity$sample_id == 'k4',]"
   ]
  },
  {
   "cell_type": "code",
   "execution_count": 194,
   "id": "baae8e81-8d3c-4b5b-ad57-0577736ec33f",
   "metadata": {},
   "outputs": [],
   "source": [
    "#head(unique_neutrophil_data_comp[unique_neutrophil_data_comp$id == 'k4',])  # counts seem to be the same as in exon file for example"
   ]
  },
  {
   "cell_type": "code",
   "execution_count": 195,
   "id": "a0e95213-2d83-4253-a303-4930fb7f1a15",
   "metadata": {},
   "outputs": [
    {
     "data": {
      "text/html": [
       "<table class=\"dataframe\">\n",
       "<caption>A data.frame: 2 × 38147</caption>\n",
       "<thead>\n",
       "\t<tr><th></th><th scope=col>ENSG00000000003.15</th><th scope=col>ENSG00000000419.13</th><th scope=col>ENSG00000000457.14</th><th scope=col>ENSG00000000460.17</th><th scope=col>ENSG00000000938.13</th><th scope=col>ENSG00000000971.16</th><th scope=col>ENSG00000001036.14</th><th scope=col>ENSG00000001084.13</th><th scope=col>ENSG00000001167.14</th><th scope=col>ENSG00000001460.18</th><th scope=col>⋯</th><th scope=col>ENSG00000288611.1</th><th scope=col>ENSG00000288612.1</th><th scope=col>ENSG00000288615.1</th><th scope=col>ENSG00000288617.1</th><th scope=col>ENSG00000288621.1</th><th scope=col>ENSG00000288631.1</th><th scope=col>ENSG00000288637.1</th><th scope=col>ENSG00000288638.1</th><th scope=col>ENSG00000288642.1</th><th scope=col>sample_id</th></tr>\n",
       "\t<tr><th></th><th scope=col>&lt;int&gt;</th><th scope=col>&lt;int&gt;</th><th scope=col>&lt;int&gt;</th><th scope=col>&lt;int&gt;</th><th scope=col>&lt;int&gt;</th><th scope=col>&lt;int&gt;</th><th scope=col>&lt;int&gt;</th><th scope=col>&lt;int&gt;</th><th scope=col>&lt;int&gt;</th><th scope=col>&lt;int&gt;</th><th scope=col>⋯</th><th scope=col>&lt;int&gt;</th><th scope=col>&lt;int&gt;</th><th scope=col>&lt;int&gt;</th><th scope=col>&lt;int&gt;</th><th scope=col>&lt;int&gt;</th><th scope=col>&lt;int&gt;</th><th scope=col>&lt;int&gt;</th><th scope=col>&lt;int&gt;</th><th scope=col>&lt;int&gt;</th><th scope=col>&lt;chr&gt;</th></tr>\n",
       "</thead>\n",
       "<tbody>\n",
       "\t<tr><th scope=row>k4_0_ccs_ccs</th><td>0</td><td>1</td><td>0</td><td>0</td><td>14</td><td>0</td><td>0</td><td>0</td><td>1</td><td>0</td><td>⋯</td><td>0</td><td>0</td><td>0</td><td>0</td><td>0</td><td>0</td><td>0</td><td>0</td><td>0</td><td>k4</td></tr>\n",
       "\t<tr><th scope=row>k4_0_ccs_ccs1</th><td>0</td><td>1</td><td>0</td><td>2</td><td>15</td><td>1</td><td>0</td><td>0</td><td>1</td><td>0</td><td>⋯</td><td>0</td><td>0</td><td>0</td><td>0</td><td>3</td><td>0</td><td>0</td><td>0</td><td>0</td><td>k4</td></tr>\n",
       "</tbody>\n",
       "</table>\n"
      ],
      "text/latex": [
       "A data.frame: 2 × 38147\n",
       "\\begin{tabular}{r|lllllllllllllllllllll}\n",
       "  & ENSG00000000003.15 & ENSG00000000419.13 & ENSG00000000457.14 & ENSG00000000460.17 & ENSG00000000938.13 & ENSG00000000971.16 & ENSG00000001036.14 & ENSG00000001084.13 & ENSG00000001167.14 & ENSG00000001460.18 & ⋯ & ENSG00000288611.1 & ENSG00000288612.1 & ENSG00000288615.1 & ENSG00000288617.1 & ENSG00000288621.1 & ENSG00000288631.1 & ENSG00000288637.1 & ENSG00000288638.1 & ENSG00000288642.1 & sample\\_id\\\\\n",
       "  & <int> & <int> & <int> & <int> & <int> & <int> & <int> & <int> & <int> & <int> & ⋯ & <int> & <int> & <int> & <int> & <int> & <int> & <int> & <int> & <int> & <chr>\\\\\n",
       "\\hline\n",
       "\tk4\\_0\\_ccs\\_ccs & 0 & 1 & 0 & 0 & 14 & 0 & 0 & 0 & 1 & 0 & ⋯ & 0 & 0 & 0 & 0 & 0 & 0 & 0 & 0 & 0 & k4\\\\\n",
       "\tk4\\_0\\_ccs\\_ccs1 & 0 & 1 & 0 & 2 & 15 & 1 & 0 & 0 & 1 & 0 & ⋯ & 0 & 0 & 0 & 0 & 3 & 0 & 0 & 0 & 0 & k4\\\\\n",
       "\\end{tabular}\n"
      ],
      "text/markdown": [
       "\n",
       "A data.frame: 2 × 38147\n",
       "\n",
       "| <!--/--> | ENSG00000000003.15 &lt;int&gt; | ENSG00000000419.13 &lt;int&gt; | ENSG00000000457.14 &lt;int&gt; | ENSG00000000460.17 &lt;int&gt; | ENSG00000000938.13 &lt;int&gt; | ENSG00000000971.16 &lt;int&gt; | ENSG00000001036.14 &lt;int&gt; | ENSG00000001084.13 &lt;int&gt; | ENSG00000001167.14 &lt;int&gt; | ENSG00000001460.18 &lt;int&gt; | ⋯ ⋯ | ENSG00000288611.1 &lt;int&gt; | ENSG00000288612.1 &lt;int&gt; | ENSG00000288615.1 &lt;int&gt; | ENSG00000288617.1 &lt;int&gt; | ENSG00000288621.1 &lt;int&gt; | ENSG00000288631.1 &lt;int&gt; | ENSG00000288637.1 &lt;int&gt; | ENSG00000288638.1 &lt;int&gt; | ENSG00000288642.1 &lt;int&gt; | sample_id &lt;chr&gt; |\n",
       "|---|---|---|---|---|---|---|---|---|---|---|---|---|---|---|---|---|---|---|---|---|---|\n",
       "| k4_0_ccs_ccs | 0 | 1 | 0 | 0 | 14 | 0 | 0 | 0 | 1 | 0 | ⋯ | 0 | 0 | 0 | 0 | 0 | 0 | 0 | 0 | 0 | k4 |\n",
       "| k4_0_ccs_ccs1 | 0 | 1 | 0 | 2 | 15 | 1 | 0 | 0 | 1 | 0 | ⋯ | 0 | 0 | 0 | 0 | 3 | 0 | 0 | 0 | 0 | k4 |\n",
       "\n"
      ],
      "text/plain": [
       "              ENSG00000000003.15 ENSG00000000419.13 ENSG00000000457.14\n",
       "k4_0_ccs_ccs  0                  1                  0                 \n",
       "k4_0_ccs_ccs1 0                  1                  0                 \n",
       "              ENSG00000000460.17 ENSG00000000938.13 ENSG00000000971.16\n",
       "k4_0_ccs_ccs  0                  14                 0                 \n",
       "k4_0_ccs_ccs1 2                  15                 1                 \n",
       "              ENSG00000001036.14 ENSG00000001084.13 ENSG00000001167.14\n",
       "k4_0_ccs_ccs  0                  0                  1                 \n",
       "k4_0_ccs_ccs1 0                  0                  1                 \n",
       "              ENSG00000001460.18 ⋯ ENSG00000288611.1 ENSG00000288612.1\n",
       "k4_0_ccs_ccs  0                  ⋯ 0                 0                \n",
       "k4_0_ccs_ccs1 0                  ⋯ 0                 0                \n",
       "              ENSG00000288615.1 ENSG00000288617.1 ENSG00000288621.1\n",
       "k4_0_ccs_ccs  0                 0                 0                \n",
       "k4_0_ccs_ccs1 0                 0                 3                \n",
       "              ENSG00000288631.1 ENSG00000288637.1 ENSG00000288638.1\n",
       "k4_0_ccs_ccs  0                 0                 0                \n",
       "k4_0_ccs_ccs1 0                 0                 0                \n",
       "              ENSG00000288642.1 sample_id\n",
       "k4_0_ccs_ccs  0                 k4       \n",
       "k4_0_ccs_ccs1 0                 k4       "
      ]
     },
     "metadata": {},
     "output_type": "display_data"
    }
   ],
   "source": [
    "check_similarity2[check_similarity2$sample_id == 'k4',]"
   ]
  },
  {
   "cell_type": "code",
   "execution_count": 196,
   "id": "bd774488-3365-43d1-b63c-a35478d308db",
   "metadata": {},
   "outputs": [
    {
     "data": {
      "text/html": [
       "<table class=\"dataframe\">\n",
       "<caption>A data.frame: 2 × 38147</caption>\n",
       "<thead>\n",
       "\t<tr><th></th><th scope=col>ENSG00000000003.15</th><th scope=col>ENSG00000000419.13</th><th scope=col>ENSG00000000457.14</th><th scope=col>ENSG00000000460.17</th><th scope=col>ENSG00000000938.13</th><th scope=col>ENSG00000000971.16</th><th scope=col>ENSG00000001036.14</th><th scope=col>ENSG00000001084.13</th><th scope=col>ENSG00000001167.14</th><th scope=col>ENSG00000001460.18</th><th scope=col>⋯</th><th scope=col>ENSG00000288611.1</th><th scope=col>ENSG00000288612.1</th><th scope=col>ENSG00000288615.1</th><th scope=col>ENSG00000288617.1</th><th scope=col>ENSG00000288621.1</th><th scope=col>ENSG00000288631.1</th><th scope=col>ENSG00000288637.1</th><th scope=col>ENSG00000288638.1</th><th scope=col>ENSG00000288642.1</th><th scope=col>sample_id</th></tr>\n",
       "\t<tr><th></th><th scope=col>&lt;dbl&gt;</th><th scope=col>&lt;dbl&gt;</th><th scope=col>&lt;dbl&gt;</th><th scope=col>&lt;dbl&gt;</th><th scope=col>&lt;dbl&gt;</th><th scope=col>&lt;dbl&gt;</th><th scope=col>&lt;dbl&gt;</th><th scope=col>&lt;dbl&gt;</th><th scope=col>&lt;dbl&gt;</th><th scope=col>&lt;dbl&gt;</th><th scope=col>⋯</th><th scope=col>&lt;dbl&gt;</th><th scope=col>&lt;dbl&gt;</th><th scope=col>&lt;dbl&gt;</th><th scope=col>&lt;dbl&gt;</th><th scope=col>&lt;dbl&gt;</th><th scope=col>&lt;dbl&gt;</th><th scope=col>&lt;dbl&gt;</th><th scope=col>&lt;dbl&gt;</th><th scope=col>&lt;dbl&gt;</th><th scope=col>&lt;chr&gt;</th></tr>\n",
       "</thead>\n",
       "<tbody>\n",
       "\t<tr><th scope=row>k4_0_ccs_ccs</th><td>0</td><td>0.8252187</td><td>0</td><td>0.0000000</td><td>11.553062</td><td>0.000000</td><td>0</td><td>0</td><td>0.8252187</td><td>0</td><td>⋯</td><td>0</td><td>0</td><td>0</td><td>0</td><td>0.0000000</td><td>0</td><td>0</td><td>0</td><td>0</td><td>k4</td></tr>\n",
       "\t<tr><th scope=row>k4_0_ccs_ccs1</th><td>0</td><td>0.3301420</td><td>0</td><td>0.6602839</td><td> 4.952129</td><td>0.330142</td><td>0</td><td>0</td><td>0.3301420</td><td>0</td><td>⋯</td><td>0</td><td>0</td><td>0</td><td>0</td><td>0.9904259</td><td>0</td><td>0</td><td>0</td><td>0</td><td>k4</td></tr>\n",
       "</tbody>\n",
       "</table>\n"
      ],
      "text/latex": [
       "A data.frame: 2 × 38147\n",
       "\\begin{tabular}{r|lllllllllllllllllllll}\n",
       "  & ENSG00000000003.15 & ENSG00000000419.13 & ENSG00000000457.14 & ENSG00000000460.17 & ENSG00000000938.13 & ENSG00000000971.16 & ENSG00000001036.14 & ENSG00000001084.13 & ENSG00000001167.14 & ENSG00000001460.18 & ⋯ & ENSG00000288611.1 & ENSG00000288612.1 & ENSG00000288615.1 & ENSG00000288617.1 & ENSG00000288621.1 & ENSG00000288631.1 & ENSG00000288637.1 & ENSG00000288638.1 & ENSG00000288642.1 & sample\\_id\\\\\n",
       "  & <dbl> & <dbl> & <dbl> & <dbl> & <dbl> & <dbl> & <dbl> & <dbl> & <dbl> & <dbl> & ⋯ & <dbl> & <dbl> & <dbl> & <dbl> & <dbl> & <dbl> & <dbl> & <dbl> & <dbl> & <chr>\\\\\n",
       "\\hline\n",
       "\tk4\\_0\\_ccs\\_ccs & 0 & 0.8252187 & 0 & 0.0000000 & 11.553062 & 0.000000 & 0 & 0 & 0.8252187 & 0 & ⋯ & 0 & 0 & 0 & 0 & 0.0000000 & 0 & 0 & 0 & 0 & k4\\\\\n",
       "\tk4\\_0\\_ccs\\_ccs1 & 0 & 0.3301420 & 0 & 0.6602839 &  4.952129 & 0.330142 & 0 & 0 & 0.3301420 & 0 & ⋯ & 0 & 0 & 0 & 0 & 0.9904259 & 0 & 0 & 0 & 0 & k4\\\\\n",
       "\\end{tabular}\n"
      ],
      "text/markdown": [
       "\n",
       "A data.frame: 2 × 38147\n",
       "\n",
       "| <!--/--> | ENSG00000000003.15 &lt;dbl&gt; | ENSG00000000419.13 &lt;dbl&gt; | ENSG00000000457.14 &lt;dbl&gt; | ENSG00000000460.17 &lt;dbl&gt; | ENSG00000000938.13 &lt;dbl&gt; | ENSG00000000971.16 &lt;dbl&gt; | ENSG00000001036.14 &lt;dbl&gt; | ENSG00000001084.13 &lt;dbl&gt; | ENSG00000001167.14 &lt;dbl&gt; | ENSG00000001460.18 &lt;dbl&gt; | ⋯ ⋯ | ENSG00000288611.1 &lt;dbl&gt; | ENSG00000288612.1 &lt;dbl&gt; | ENSG00000288615.1 &lt;dbl&gt; | ENSG00000288617.1 &lt;dbl&gt; | ENSG00000288621.1 &lt;dbl&gt; | ENSG00000288631.1 &lt;dbl&gt; | ENSG00000288637.1 &lt;dbl&gt; | ENSG00000288638.1 &lt;dbl&gt; | ENSG00000288642.1 &lt;dbl&gt; | sample_id &lt;chr&gt; |\n",
       "|---|---|---|---|---|---|---|---|---|---|---|---|---|---|---|---|---|---|---|---|---|---|\n",
       "| k4_0_ccs_ccs | 0 | 0.8252187 | 0 | 0.0000000 | 11.553062 | 0.000000 | 0 | 0 | 0.8252187 | 0 | ⋯ | 0 | 0 | 0 | 0 | 0.0000000 | 0 | 0 | 0 | 0 | k4 |\n",
       "| k4_0_ccs_ccs1 | 0 | 0.3301420 | 0 | 0.6602839 |  4.952129 | 0.330142 | 0 | 0 | 0.3301420 | 0 | ⋯ | 0 | 0 | 0 | 0 | 0.9904259 | 0 | 0 | 0 | 0 | k4 |\n",
       "\n"
      ],
      "text/plain": [
       "              ENSG00000000003.15 ENSG00000000419.13 ENSG00000000457.14\n",
       "k4_0_ccs_ccs  0                  0.8252187          0                 \n",
       "k4_0_ccs_ccs1 0                  0.3301420          0                 \n",
       "              ENSG00000000460.17 ENSG00000000938.13 ENSG00000000971.16\n",
       "k4_0_ccs_ccs  0.0000000          11.553062          0.000000          \n",
       "k4_0_ccs_ccs1 0.6602839           4.952129          0.330142          \n",
       "              ENSG00000001036.14 ENSG00000001084.13 ENSG00000001167.14\n",
       "k4_0_ccs_ccs  0                  0                  0.8252187         \n",
       "k4_0_ccs_ccs1 0                  0                  0.3301420         \n",
       "              ENSG00000001460.18 ⋯ ENSG00000288611.1 ENSG00000288612.1\n",
       "k4_0_ccs_ccs  0                  ⋯ 0                 0                \n",
       "k4_0_ccs_ccs1 0                  ⋯ 0                 0                \n",
       "              ENSG00000288615.1 ENSG00000288617.1 ENSG00000288621.1\n",
       "k4_0_ccs_ccs  0                 0                 0.0000000        \n",
       "k4_0_ccs_ccs1 0                 0                 0.9904259        \n",
       "              ENSG00000288631.1 ENSG00000288637.1 ENSG00000288638.1\n",
       "k4_0_ccs_ccs  0                 0                 0                \n",
       "k4_0_ccs_ccs1 0                 0                 0                \n",
       "              ENSG00000288642.1 sample_id\n",
       "k4_0_ccs_ccs  0                 k4       \n",
       "k4_0_ccs_ccs1 0                 k4       "
      ]
     },
     "metadata": {},
     "output_type": "display_data"
    }
   ],
   "source": [
    "check_similarity4[check_similarity4$sample_id == 'k4',]"
   ]
  },
  {
   "cell_type": "code",
   "execution_count": 197,
   "id": "efa1791d-52ae-4c57-af8c-b1deaf6e5ae8",
   "metadata": {},
   "outputs": [
    {
     "data": {
      "text/html": [
       "<table class=\"dataframe\">\n",
       "<caption>A data.frame: 2 × 38147</caption>\n",
       "<thead>\n",
       "\t<tr><th></th><th scope=col>ENSG00000000003.15</th><th scope=col>ENSG00000000419.13</th><th scope=col>ENSG00000000457.14</th><th scope=col>ENSG00000000460.17</th><th scope=col>ENSG00000000938.13</th><th scope=col>ENSG00000000971.16</th><th scope=col>ENSG00000001036.14</th><th scope=col>ENSG00000001084.13</th><th scope=col>ENSG00000001167.14</th><th scope=col>ENSG00000001460.18</th><th scope=col>⋯</th><th scope=col>ENSG00000288611.1</th><th scope=col>ENSG00000288612.1</th><th scope=col>ENSG00000288615.1</th><th scope=col>ENSG00000288617.1</th><th scope=col>ENSG00000288621.1</th><th scope=col>ENSG00000288631.1</th><th scope=col>ENSG00000288637.1</th><th scope=col>ENSG00000288638.1</th><th scope=col>ENSG00000288642.1</th><th scope=col>sample_id</th></tr>\n",
       "\t<tr><th></th><th scope=col>&lt;dbl&gt;</th><th scope=col>&lt;dbl&gt;</th><th scope=col>&lt;dbl&gt;</th><th scope=col>&lt;dbl&gt;</th><th scope=col>&lt;dbl&gt;</th><th scope=col>&lt;dbl&gt;</th><th scope=col>&lt;dbl&gt;</th><th scope=col>&lt;dbl&gt;</th><th scope=col>&lt;dbl&gt;</th><th scope=col>&lt;dbl&gt;</th><th scope=col>⋯</th><th scope=col>&lt;dbl&gt;</th><th scope=col>&lt;dbl&gt;</th><th scope=col>&lt;dbl&gt;</th><th scope=col>&lt;dbl&gt;</th><th scope=col>&lt;dbl&gt;</th><th scope=col>&lt;dbl&gt;</th><th scope=col>&lt;dbl&gt;</th><th scope=col>&lt;dbl&gt;</th><th scope=col>&lt;dbl&gt;</th><th scope=col>&lt;chr&gt;</th></tr>\n",
       "</thead>\n",
       "<tbody>\n",
       "\t<tr><th scope=row>k4_0_ccs_ccs</th><td>0</td><td>0.3166075</td><td>0</td><td>0.0000000</td><td>7.598581</td><td>0.0000000</td><td>0</td><td>0</td><td>0.5601518</td><td>0</td><td>⋯</td><td>0</td><td>0</td><td>0</td><td>0</td><td>0.0000000</td><td>0</td><td>0</td><td>0</td><td>0</td><td>k4</td></tr>\n",
       "\t<tr><th scope=row>k4_0_ccs_ccs1</th><td>0</td><td>0.1333368</td><td>0</td><td>0.7282238</td><td>3.312905</td><td>0.2666735</td><td>0</td><td>0</td><td>0.2359035</td><td>0</td><td>⋯</td><td>0</td><td>0</td><td>0</td><td>0</td><td>0.3282135</td><td>0</td><td>0</td><td>0</td><td>0</td><td>k4</td></tr>\n",
       "</tbody>\n",
       "</table>\n"
      ],
      "text/latex": [
       "A data.frame: 2 × 38147\n",
       "\\begin{tabular}{r|lllllllllllllllllllll}\n",
       "  & ENSG00000000003.15 & ENSG00000000419.13 & ENSG00000000457.14 & ENSG00000000460.17 & ENSG00000000938.13 & ENSG00000000971.16 & ENSG00000001036.14 & ENSG00000001084.13 & ENSG00000001167.14 & ENSG00000001460.18 & ⋯ & ENSG00000288611.1 & ENSG00000288612.1 & ENSG00000288615.1 & ENSG00000288617.1 & ENSG00000288621.1 & ENSG00000288631.1 & ENSG00000288637.1 & ENSG00000288638.1 & ENSG00000288642.1 & sample\\_id\\\\\n",
       "  & <dbl> & <dbl> & <dbl> & <dbl> & <dbl> & <dbl> & <dbl> & <dbl> & <dbl> & <dbl> & ⋯ & <dbl> & <dbl> & <dbl> & <dbl> & <dbl> & <dbl> & <dbl> & <dbl> & <dbl> & <chr>\\\\\n",
       "\\hline\n",
       "\tk4\\_0\\_ccs\\_ccs & 0 & 0.3166075 & 0 & 0.0000000 & 7.598581 & 0.0000000 & 0 & 0 & 0.5601518 & 0 & ⋯ & 0 & 0 & 0 & 0 & 0.0000000 & 0 & 0 & 0 & 0 & k4\\\\\n",
       "\tk4\\_0\\_ccs\\_ccs1 & 0 & 0.1333368 & 0 & 0.7282238 & 3.312905 & 0.2666735 & 0 & 0 & 0.2359035 & 0 & ⋯ & 0 & 0 & 0 & 0 & 0.3282135 & 0 & 0 & 0 & 0 & k4\\\\\n",
       "\\end{tabular}\n"
      ],
      "text/markdown": [
       "\n",
       "A data.frame: 2 × 38147\n",
       "\n",
       "| <!--/--> | ENSG00000000003.15 &lt;dbl&gt; | ENSG00000000419.13 &lt;dbl&gt; | ENSG00000000457.14 &lt;dbl&gt; | ENSG00000000460.17 &lt;dbl&gt; | ENSG00000000938.13 &lt;dbl&gt; | ENSG00000000971.16 &lt;dbl&gt; | ENSG00000001036.14 &lt;dbl&gt; | ENSG00000001084.13 &lt;dbl&gt; | ENSG00000001167.14 &lt;dbl&gt; | ENSG00000001460.18 &lt;dbl&gt; | ⋯ ⋯ | ENSG00000288611.1 &lt;dbl&gt; | ENSG00000288612.1 &lt;dbl&gt; | ENSG00000288615.1 &lt;dbl&gt; | ENSG00000288617.1 &lt;dbl&gt; | ENSG00000288621.1 &lt;dbl&gt; | ENSG00000288631.1 &lt;dbl&gt; | ENSG00000288637.1 &lt;dbl&gt; | ENSG00000288638.1 &lt;dbl&gt; | ENSG00000288642.1 &lt;dbl&gt; | sample_id &lt;chr&gt; |\n",
       "|---|---|---|---|---|---|---|---|---|---|---|---|---|---|---|---|---|---|---|---|---|---|\n",
       "| k4_0_ccs_ccs | 0 | 0.3166075 | 0 | 0.0000000 | 7.598581 | 0.0000000 | 0 | 0 | 0.5601518 | 0 | ⋯ | 0 | 0 | 0 | 0 | 0.0000000 | 0 | 0 | 0 | 0 | k4 |\n",
       "| k4_0_ccs_ccs1 | 0 | 0.1333368 | 0 | 0.7282238 | 3.312905 | 0.2666735 | 0 | 0 | 0.2359035 | 0 | ⋯ | 0 | 0 | 0 | 0 | 0.3282135 | 0 | 0 | 0 | 0 | k4 |\n",
       "\n"
      ],
      "text/plain": [
       "              ENSG00000000003.15 ENSG00000000419.13 ENSG00000000457.14\n",
       "k4_0_ccs_ccs  0                  0.3166075          0                 \n",
       "k4_0_ccs_ccs1 0                  0.1333368          0                 \n",
       "              ENSG00000000460.17 ENSG00000000938.13 ENSG00000000971.16\n",
       "k4_0_ccs_ccs  0.0000000          7.598581           0.0000000         \n",
       "k4_0_ccs_ccs1 0.7282238          3.312905           0.2666735         \n",
       "              ENSG00000001036.14 ENSG00000001084.13 ENSG00000001167.14\n",
       "k4_0_ccs_ccs  0                  0                  0.5601518         \n",
       "k4_0_ccs_ccs1 0                  0                  0.2359035         \n",
       "              ENSG00000001460.18 ⋯ ENSG00000288611.1 ENSG00000288612.1\n",
       "k4_0_ccs_ccs  0                  ⋯ 0                 0                \n",
       "k4_0_ccs_ccs1 0                  ⋯ 0                 0                \n",
       "              ENSG00000288615.1 ENSG00000288617.1 ENSG00000288621.1\n",
       "k4_0_ccs_ccs  0                 0                 0.0000000        \n",
       "k4_0_ccs_ccs1 0                 0                 0.3282135        \n",
       "              ENSG00000288631.1 ENSG00000288637.1 ENSG00000288638.1\n",
       "k4_0_ccs_ccs  0                 0                 0                \n",
       "k4_0_ccs_ccs1 0                 0                 0                \n",
       "              ENSG00000288642.1 sample_id\n",
       "k4_0_ccs_ccs  0                 k4       \n",
       "k4_0_ccs_ccs1 0                 k4       "
      ]
     },
     "metadata": {},
     "output_type": "display_data"
    }
   ],
   "source": [
    "check_similarity3[check_similarity3$sample_id == 'k4',]"
   ]
  },
  {
   "cell_type": "code",
   "execution_count": 199,
   "id": "fa4c649c-eb80-4483-b976-eb1453084e1d",
   "metadata": {},
   "outputs": [],
   "source": [
    "#names(neutrophil_data_new)"
   ]
  },
  {
   "cell_type": "code",
   "execution_count": 200,
   "id": "6e4fe7e9-6cc5-4584-b613-28e5f1607531",
   "metadata": {},
   "outputs": [],
   "source": [
    "neutrophil_data = neutrophil_data_new[['../data/current/preprocessed-data/neutrophil/counts_normed//counts.umi.exon.all.counts.tsv']] # for now take umi exon normalized"
   ]
  },
  {
   "cell_type": "code",
   "execution_count": 201,
   "id": "725a728d-c637-4661-b19d-b93c6c2be9b4",
   "metadata": {},
   "outputs": [],
   "source": [
    "neutrophil_data$neutrophil_data = 1"
   ]
  },
  {
   "cell_type": "code",
   "execution_count": 202,
   "id": "d7ae88e8-32d9-47b1-a921-5e93835578d9",
   "metadata": {},
   "outputs": [
    {
     "data": {
      "text/html": [
       "121"
      ],
      "text/latex": [
       "121"
      ],
      "text/markdown": [
       "121"
      ],
      "text/plain": [
       "[1] 121"
      ]
     },
     "metadata": {},
     "output_type": "display_data"
    }
   ],
   "source": [
    "nrow(neutrophil_data)"
   ]
  },
  {
   "cell_type": "code",
   "execution_count": 203,
   "id": "594c1f6a-85b5-4520-a77d-90d967a4fe74",
   "metadata": {},
   "outputs": [],
   "source": [
    "### Investigate sample IDs + compare with remaining data"
   ]
  },
  {
   "cell_type": "code",
   "execution_count": 205,
   "id": "0fa085bb-fad5-4a9d-8ea3-23786cf4c2e2",
   "metadata": {},
   "outputs": [],
   "source": [
    "all_samples_info = merge(all_samples_info, neutrophil_data[,c('sample_id', 'neutrophil_data')], by.x = 'sample_id', by.y = 'sample_id', all.x = TRUE)"
   ]
  },
  {
   "cell_type": "code",
   "execution_count": 206,
   "id": "a9d134f2-e492-42ec-8458-deb0d6719b6a",
   "metadata": {},
   "outputs": [
    {
     "data": {
      "text/html": [
       "146"
      ],
      "text/latex": [
       "146"
      ],
      "text/markdown": [
       "146"
      ],
      "text/plain": [
       "[1] 146"
      ]
     },
     "metadata": {},
     "output_type": "display_data"
    }
   ],
   "source": [
    "nrow(all_samples_info)"
   ]
  },
  {
   "cell_type": "code",
   "execution_count": 208,
   "id": "294099fc-7d24-405b-8742-81c7b5e6954c",
   "metadata": {},
   "outputs": [],
   "source": [
    "all_samples_info$neutrophil_data[is.na(all_samples_info$neutrophil_data)] = 0"
   ]
  },
  {
   "cell_type": "code",
   "execution_count": 209,
   "id": "ad0338df-85bf-46ac-9db2-ab558c23ac8f",
   "metadata": {},
   "outputs": [
    {
     "data": {
      "text/html": [
       "121"
      ],
      "text/latex": [
       "121"
      ],
      "text/markdown": [
       "121"
      ],
      "text/plain": [
       "[1] 121"
      ]
     },
     "metadata": {},
     "output_type": "display_data"
    }
   ],
   "source": [
    "sum(all_samples_info$neutrophil_data)  "
   ]
  },
  {
   "cell_type": "raw",
   "id": "80d6a641-2bc8-4c35-91f8-81a98db6e8aa",
   "metadata": {},
   "source": [
    "**Summary: all 121 combinations can be matched"
   ]
  },
  {
   "cell_type": "code",
   "execution_count": 210,
   "id": "1fd3c43b-b824-48dc-bd88-5655fb56c597",
   "metadata": {},
   "outputs": [],
   "source": [
    "available_data = data.frame(type = 'neutrophil_assay', feature_name = colnames(neutrophil_data))"
   ]
  },
  {
   "cell_type": "code",
   "execution_count": 211,
   "id": "6551c25c-2ce5-48f0-ba48-5c2117f6fa66",
   "metadata": {},
   "outputs": [
    {
     "data": {
      "text/html": [
       "<table class=\"dataframe\">\n",
       "<caption>A data.frame: 6 × 2</caption>\n",
       "<thead>\n",
       "\t<tr><th></th><th scope=col>type</th><th scope=col>feature_name</th></tr>\n",
       "\t<tr><th></th><th scope=col>&lt;chr&gt;</th><th scope=col>&lt;chr&gt;</th></tr>\n",
       "</thead>\n",
       "<tbody>\n",
       "\t<tr><th scope=row>1</th><td>neutrophil_assay</td><td>ENSG00000000003.15</td></tr>\n",
       "\t<tr><th scope=row>2</th><td>neutrophil_assay</td><td>ENSG00000000419.13</td></tr>\n",
       "\t<tr><th scope=row>3</th><td>neutrophil_assay</td><td>ENSG00000000457.14</td></tr>\n",
       "\t<tr><th scope=row>4</th><td>neutrophil_assay</td><td>ENSG00000000460.17</td></tr>\n",
       "\t<tr><th scope=row>5</th><td>neutrophil_assay</td><td>ENSG00000000938.13</td></tr>\n",
       "\t<tr><th scope=row>6</th><td>neutrophil_assay</td><td>ENSG00000000971.16</td></tr>\n",
       "</tbody>\n",
       "</table>\n"
      ],
      "text/latex": [
       "A data.frame: 6 × 2\n",
       "\\begin{tabular}{r|ll}\n",
       "  & type & feature\\_name\\\\\n",
       "  & <chr> & <chr>\\\\\n",
       "\\hline\n",
       "\t1 & neutrophil\\_assay & ENSG00000000003.15\\\\\n",
       "\t2 & neutrophil\\_assay & ENSG00000000419.13\\\\\n",
       "\t3 & neutrophil\\_assay & ENSG00000000457.14\\\\\n",
       "\t4 & neutrophil\\_assay & ENSG00000000460.17\\\\\n",
       "\t5 & neutrophil\\_assay & ENSG00000000938.13\\\\\n",
       "\t6 & neutrophil\\_assay & ENSG00000000971.16\\\\\n",
       "\\end{tabular}\n"
      ],
      "text/markdown": [
       "\n",
       "A data.frame: 6 × 2\n",
       "\n",
       "| <!--/--> | type &lt;chr&gt; | feature_name &lt;chr&gt; |\n",
       "|---|---|---|\n",
       "| 1 | neutrophil_assay | ENSG00000000003.15 |\n",
       "| 2 | neutrophil_assay | ENSG00000000419.13 |\n",
       "| 3 | neutrophil_assay | ENSG00000000457.14 |\n",
       "| 4 | neutrophil_assay | ENSG00000000460.17 |\n",
       "| 5 | neutrophil_assay | ENSG00000000938.13 |\n",
       "| 6 | neutrophil_assay | ENSG00000000971.16 |\n",
       "\n"
      ],
      "text/plain": [
       "  type             feature_name      \n",
       "1 neutrophil_assay ENSG00000000003.15\n",
       "2 neutrophil_assay ENSG00000000419.13\n",
       "3 neutrophil_assay ENSG00000000457.14\n",
       "4 neutrophil_assay ENSG00000000460.17\n",
       "5 neutrophil_assay ENSG00000000938.13\n",
       "6 neutrophil_assay ENSG00000000971.16"
      ]
     },
     "metadata": {},
     "output_type": "display_data"
    }
   ],
   "source": [
    "head(available_data)"
   ]
  },
  {
   "cell_type": "code",
   "execution_count": 212,
   "id": "59e88ab2-a139-4e54-a7e9-2272ccece4c7",
   "metadata": {},
   "outputs": [],
   "source": [
    "available_data = available_data[available_data$feature_name != 'sample_id',]\n",
    "available_data = available_data[available_data$feature_name != 'id',]\n",
    "available_data = available_data[available_data$feature_name != 'neutrophil_data',]"
   ]
  },
  {
   "cell_type": "code",
   "execution_count": 213,
   "id": "3a96ec23-a0b8-4616-85d3-586bb6544315",
   "metadata": {},
   "outputs": [],
   "source": [
    "write.csv(available_data, paste0(result_path, '/Data_Share/Neutrophil_Assay_Features.csv'))"
   ]
  },
  {
   "cell_type": "code",
   "execution_count": null,
   "id": "90e70f0f-63d0-40c6-a08e-eac928316771",
   "metadata": {},
   "outputs": [],
   "source": []
  },
  {
   "cell_type": "code",
   "execution_count": null,
   "id": "66f01ada-6c22-4fed-993a-e9a8a883d23c",
   "metadata": {},
   "outputs": [],
   "source": []
  },
  {
   "cell_type": "code",
   "execution_count": null,
   "id": "2548cff6-e4f6-457c-b2e0-33507d2f9de7",
   "metadata": {},
   "outputs": [],
   "source": []
  },
  {
   "cell_type": "code",
   "execution_count": null,
   "id": "4dc57b5f-664d-4d41-89a5-749f367352ce",
   "metadata": {},
   "outputs": [],
   "source": []
  },
  {
   "cell_type": "markdown",
   "id": "c6048941-ee91-4777-b95f-6378b8329dba",
   "metadata": {},
   "source": [
    "## Proteomics"
   ]
  },
  {
   "cell_type": "code",
   "execution_count": 214,
   "id": "2ba5f16a-c2ff-4c33-b3ee-b40779efc2c0",
   "metadata": {},
   "outputs": [],
   "source": [
    "### Read in data"
   ]
  },
  {
   "cell_type": "code",
   "execution_count": 215,
   "id": "fde8deeb-1055-44ae-8059-245a0d671735",
   "metadata": {},
   "outputs": [
    {
     "name": "stdout",
     "output_type": "stream",
     "text": [
      "[1] \"2022-01-12 10:44:30 CET\"\n"
     ]
    }
   ],
   "source": [
    "path = paste0(data_path, \"/preprocessed-data/proteomics/2021_12_19_Proteomics_data.csv\")\n",
    "proteomics = read.csv(path)\n",
    "print(file.info(path)$mtime)"
   ]
  },
  {
   "cell_type": "code",
   "execution_count": 216,
   "id": "17ca392a-11ed-4d54-8dab-35afa4411de0",
   "metadata": {},
   "outputs": [
    {
     "data": {
      "text/html": [
       "<table class=\"dataframe\">\n",
       "<caption>A data.frame: 2 × 121</caption>\n",
       "<thead>\n",
       "\t<tr><th></th><th scope=col>id</th><th scope=col>M2.3_P10.2</th><th scope=col>M2.3_P10.3</th><th scope=col>M5.1_P1</th><th scope=col>M22.4_P2</th><th scope=col>K26_P3</th><th scope=col>M20.4_P4</th><th scope=col>M24.3_P5</th><th scope=col>K11_P6</th><th scope=col>M7.4_P7</th><th scope=col>⋯</th><th scope=col>M22.3_P95</th><th scope=col>M5.2_P96</th><th scope=col>K21_P97</th><th scope=col>M18.3_P98</th><th scope=col>M24.2_P99</th><th scope=col>K33_P119</th><th scope=col>M28.4_P30</th><th scope=col>M27.3_P64</th><th scope=col>K13_P66</th><th scope=col>K8_P93</th></tr>\n",
       "\t<tr><th></th><th scope=col>&lt;chr&gt;</th><th scope=col>&lt;dbl&gt;</th><th scope=col>&lt;dbl&gt;</th><th scope=col>&lt;dbl&gt;</th><th scope=col>&lt;dbl&gt;</th><th scope=col>&lt;dbl&gt;</th><th scope=col>&lt;dbl&gt;</th><th scope=col>&lt;dbl&gt;</th><th scope=col>&lt;dbl&gt;</th><th scope=col>&lt;dbl&gt;</th><th scope=col>⋯</th><th scope=col>&lt;dbl&gt;</th><th scope=col>&lt;dbl&gt;</th><th scope=col>&lt;dbl&gt;</th><th scope=col>&lt;dbl&gt;</th><th scope=col>&lt;dbl&gt;</th><th scope=col>&lt;dbl&gt;</th><th scope=col>&lt;dbl&gt;</th><th scope=col>&lt;dbl&gt;</th><th scope=col>&lt;dbl&gt;</th><th scope=col>&lt;dbl&gt;</th></tr>\n",
       "</thead>\n",
       "<tbody>\n",
       "\t<tr><th scope=row>1</th><td>SERPINA1_A0A024R6I7</td><td>-1.663380</td><td>-1.663380</td><td> 3.744514</td><td>-1.586136</td><td> 4.221648</td><td>-1.950103</td><td>-3.320649</td><td>-1.717969</td><td>-1.282662</td><td>⋯</td><td>-1.402290</td><td> 4.697260</td><td>3.905756</td><td>4.935030</td><td>-0.7766121</td><td>4.875899</td><td>-2.435552</td><td> 5.174327</td><td>4.457851</td><td> 5.405647</td></tr>\n",
       "\t<tr><th scope=row>2</th><td>IGLV4-69_A0A075B6H9</td><td>-2.414588</td><td>-2.414588</td><td>-2.672991</td><td>-2.938401</td><td>-2.751255</td><td>-2.881717</td><td>-3.030577</td><td>-2.804783</td><td>-2.795783</td><td>⋯</td><td>-2.725067</td><td>-2.996521</td><td>3.304209</td><td>2.273003</td><td>-1.9571348</td><td>4.143519</td><td> 2.894246</td><td>-2.516570</td><td>3.645902</td><td>-1.277559</td></tr>\n",
       "</tbody>\n",
       "</table>\n"
      ],
      "text/latex": [
       "A data.frame: 2 × 121\n",
       "\\begin{tabular}{r|lllllllllllllllllllll}\n",
       "  & id & M2.3\\_P10.2 & M2.3\\_P10.3 & M5.1\\_P1 & M22.4\\_P2 & K26\\_P3 & M20.4\\_P4 & M24.3\\_P5 & K11\\_P6 & M7.4\\_P7 & ⋯ & M22.3\\_P95 & M5.2\\_P96 & K21\\_P97 & M18.3\\_P98 & M24.2\\_P99 & K33\\_P119 & M28.4\\_P30 & M27.3\\_P64 & K13\\_P66 & K8\\_P93\\\\\n",
       "  & <chr> & <dbl> & <dbl> & <dbl> & <dbl> & <dbl> & <dbl> & <dbl> & <dbl> & <dbl> & ⋯ & <dbl> & <dbl> & <dbl> & <dbl> & <dbl> & <dbl> & <dbl> & <dbl> & <dbl> & <dbl>\\\\\n",
       "\\hline\n",
       "\t1 & SERPINA1\\_A0A024R6I7 & -1.663380 & -1.663380 &  3.744514 & -1.586136 &  4.221648 & -1.950103 & -3.320649 & -1.717969 & -1.282662 & ⋯ & -1.402290 &  4.697260 & 3.905756 & 4.935030 & -0.7766121 & 4.875899 & -2.435552 &  5.174327 & 4.457851 &  5.405647\\\\\n",
       "\t2 & IGLV4-69\\_A0A075B6H9 & -2.414588 & -2.414588 & -2.672991 & -2.938401 & -2.751255 & -2.881717 & -3.030577 & -2.804783 & -2.795783 & ⋯ & -2.725067 & -2.996521 & 3.304209 & 2.273003 & -1.9571348 & 4.143519 &  2.894246 & -2.516570 & 3.645902 & -1.277559\\\\\n",
       "\\end{tabular}\n"
      ],
      "text/markdown": [
       "\n",
       "A data.frame: 2 × 121\n",
       "\n",
       "| <!--/--> | id &lt;chr&gt; | M2.3_P10.2 &lt;dbl&gt; | M2.3_P10.3 &lt;dbl&gt; | M5.1_P1 &lt;dbl&gt; | M22.4_P2 &lt;dbl&gt; | K26_P3 &lt;dbl&gt; | M20.4_P4 &lt;dbl&gt; | M24.3_P5 &lt;dbl&gt; | K11_P6 &lt;dbl&gt; | M7.4_P7 &lt;dbl&gt; | ⋯ ⋯ | M22.3_P95 &lt;dbl&gt; | M5.2_P96 &lt;dbl&gt; | K21_P97 &lt;dbl&gt; | M18.3_P98 &lt;dbl&gt; | M24.2_P99 &lt;dbl&gt; | K33_P119 &lt;dbl&gt; | M28.4_P30 &lt;dbl&gt; | M27.3_P64 &lt;dbl&gt; | K13_P66 &lt;dbl&gt; | K8_P93 &lt;dbl&gt; |\n",
       "|---|---|---|---|---|---|---|---|---|---|---|---|---|---|---|---|---|---|---|---|---|---|\n",
       "| 1 | SERPINA1_A0A024R6I7 | -1.663380 | -1.663380 |  3.744514 | -1.586136 |  4.221648 | -1.950103 | -3.320649 | -1.717969 | -1.282662 | ⋯ | -1.402290 |  4.697260 | 3.905756 | 4.935030 | -0.7766121 | 4.875899 | -2.435552 |  5.174327 | 4.457851 |  5.405647 |\n",
       "| 2 | IGLV4-69_A0A075B6H9 | -2.414588 | -2.414588 | -2.672991 | -2.938401 | -2.751255 | -2.881717 | -3.030577 | -2.804783 | -2.795783 | ⋯ | -2.725067 | -2.996521 | 3.304209 | 2.273003 | -1.9571348 | 4.143519 |  2.894246 | -2.516570 | 3.645902 | -1.277559 |\n",
       "\n"
      ],
      "text/plain": [
       "  id                  M2.3_P10.2 M2.3_P10.3 M5.1_P1   M22.4_P2  K26_P3   \n",
       "1 SERPINA1_A0A024R6I7 -1.663380  -1.663380   3.744514 -1.586136  4.221648\n",
       "2 IGLV4-69_A0A075B6H9 -2.414588  -2.414588  -2.672991 -2.938401 -2.751255\n",
       "  M20.4_P4  M24.3_P5  K11_P6    M7.4_P7   ⋯ M22.3_P95 M5.2_P96  K21_P97 \n",
       "1 -1.950103 -3.320649 -1.717969 -1.282662 ⋯ -1.402290  4.697260 3.905756\n",
       "2 -2.881717 -3.030577 -2.804783 -2.795783 ⋯ -2.725067 -2.996521 3.304209\n",
       "  M18.3_P98 M24.2_P99  K33_P119 M28.4_P30 M27.3_P64 K13_P66  K8_P93   \n",
       "1 4.935030  -0.7766121 4.875899 -2.435552  5.174327 4.457851  5.405647\n",
       "2 2.273003  -1.9571348 4.143519  2.894246 -2.516570 3.645902 -1.277559"
      ]
     },
     "metadata": {},
     "output_type": "display_data"
    }
   ],
   "source": [
    "head(proteomics,2)"
   ]
  },
  {
   "cell_type": "code",
   "execution_count": 217,
   "id": "c1e3994a-7755-47eb-8e2e-5de5de6bfe0f",
   "metadata": {},
   "outputs": [],
   "source": [
    "### Adjust data format"
   ]
  },
  {
   "cell_type": "code",
   "execution_count": 218,
   "id": "ef893955-57a1-4d1c-a087-a9ba47e8bd24",
   "metadata": {},
   "outputs": [],
   "source": [
    "rownames(proteomics) = proteomics$id"
   ]
  },
  {
   "cell_type": "code",
   "execution_count": 219,
   "id": "d6dd1bf6-763e-491d-a320-98fc8232a500",
   "metadata": {},
   "outputs": [],
   "source": [
    "proteomics = proteomics[, -1]"
   ]
  },
  {
   "cell_type": "code",
   "execution_count": 220,
   "id": "5751147e-83ea-4498-af15-b766637c933f",
   "metadata": {},
   "outputs": [],
   "source": [
    "proteomics = t(proteomics)"
   ]
  },
  {
   "cell_type": "code",
   "execution_count": 221,
   "id": "fee1b46b-004d-4114-b0a0-a0fbac68686e",
   "metadata": {},
   "outputs": [
    {
     "data": {
      "text/html": [
       "<table class=\"dataframe\">\n",
       "<caption>A matrix: 2 × 490 of type dbl</caption>\n",
       "<thead>\n",
       "\t<tr><th></th><th scope=col>SERPINA1_A0A024R6I7</th><th scope=col>IGLV4-69_A0A075B6H9</th><th scope=col>IGLV8-61_A0A075B6I0</th><th scope=col>IGLV4-60_A0A075B6I1</th><th scope=col>IGLV10-54_A0A075B6I4</th><th scope=col>IGLV7-46_A0A075B6I9</th><th scope=col>IGLV2-18_A0A075B6J9</th><th scope=col>IGLV3-16_A0A075B6K0</th><th scope=col>IGLV3-12_A0A075B6K2</th><th scope=col>IGLV3-10_A0A075B6K4</th><th scope=col>⋯</th><th scope=col>GNPTG_Q9UJJ9</th><th scope=col>WWC3_Q9ULE0</th><th scope=col>MINPP1_Q9UNW1</th><th scope=col>TLN1_Q9Y490</th><th scope=col>ANGPTL3_Q9Y5C1</th><th scope=col>LYVE1_Q9Y5Y7</th><th scope=col>FCGBP_Q9Y6R7</th><th scope=col>COLEC10_Q9Y6Z7</th><th scope=col>IGHV3OR16-9_S4R460</th><th scope=col>APOA2_V9GYM3</th></tr>\n",
       "</thead>\n",
       "<tbody>\n",
       "\t<tr><th scope=row>M2.3_P10.2</th><td>-1.66338</td><td>-2.414588</td><td>1.467756</td><td>-6.164178</td><td>-1.858412</td><td>-2.588001</td><td>2.128858</td><td>-0.110549</td><td>1.968863</td><td>2.523862</td><td>⋯</td><td>-2.162776</td><td>1.002701</td><td>4.385272</td><td>-2.882139</td><td>-6.14436</td><td>-4.26206</td><td>0.1977374</td><td>-1.653755</td><td>6.184887</td><td>4.235612</td></tr>\n",
       "\t<tr><th scope=row>M2.3_P10.3</th><td>-1.66338</td><td>-2.414588</td><td>1.467756</td><td>-6.164178</td><td>-1.858412</td><td>-2.588001</td><td>2.128858</td><td>-0.110549</td><td>1.968863</td><td>2.523862</td><td>⋯</td><td>-2.162776</td><td>1.002701</td><td>4.385272</td><td>-2.882139</td><td>-6.14436</td><td>-4.26206</td><td>0.1977374</td><td>-1.653755</td><td>6.184887</td><td>4.235612</td></tr>\n",
       "</tbody>\n",
       "</table>\n"
      ],
      "text/latex": [
       "A matrix: 2 × 490 of type dbl\n",
       "\\begin{tabular}{r|lllllllllllllllllllll}\n",
       "  & SERPINA1\\_A0A024R6I7 & IGLV4-69\\_A0A075B6H9 & IGLV8-61\\_A0A075B6I0 & IGLV4-60\\_A0A075B6I1 & IGLV10-54\\_A0A075B6I4 & IGLV7-46\\_A0A075B6I9 & IGLV2-18\\_A0A075B6J9 & IGLV3-16\\_A0A075B6K0 & IGLV3-12\\_A0A075B6K2 & IGLV3-10\\_A0A075B6K4 & ⋯ & GNPTG\\_Q9UJJ9 & WWC3\\_Q9ULE0 & MINPP1\\_Q9UNW1 & TLN1\\_Q9Y490 & ANGPTL3\\_Q9Y5C1 & LYVE1\\_Q9Y5Y7 & FCGBP\\_Q9Y6R7 & COLEC10\\_Q9Y6Z7 & IGHV3OR16-9\\_S4R460 & APOA2\\_V9GYM3\\\\\n",
       "\\hline\n",
       "\tM2.3\\_P10.2 & -1.66338 & -2.414588 & 1.467756 & -6.164178 & -1.858412 & -2.588001 & 2.128858 & -0.110549 & 1.968863 & 2.523862 & ⋯ & -2.162776 & 1.002701 & 4.385272 & -2.882139 & -6.14436 & -4.26206 & 0.1977374 & -1.653755 & 6.184887 & 4.235612\\\\\n",
       "\tM2.3\\_P10.3 & -1.66338 & -2.414588 & 1.467756 & -6.164178 & -1.858412 & -2.588001 & 2.128858 & -0.110549 & 1.968863 & 2.523862 & ⋯ & -2.162776 & 1.002701 & 4.385272 & -2.882139 & -6.14436 & -4.26206 & 0.1977374 & -1.653755 & 6.184887 & 4.235612\\\\\n",
       "\\end{tabular}\n"
      ],
      "text/markdown": [
       "\n",
       "A matrix: 2 × 490 of type dbl\n",
       "\n",
       "| <!--/--> | SERPINA1_A0A024R6I7 | IGLV4-69_A0A075B6H9 | IGLV8-61_A0A075B6I0 | IGLV4-60_A0A075B6I1 | IGLV10-54_A0A075B6I4 | IGLV7-46_A0A075B6I9 | IGLV2-18_A0A075B6J9 | IGLV3-16_A0A075B6K0 | IGLV3-12_A0A075B6K2 | IGLV3-10_A0A075B6K4 | ⋯ | GNPTG_Q9UJJ9 | WWC3_Q9ULE0 | MINPP1_Q9UNW1 | TLN1_Q9Y490 | ANGPTL3_Q9Y5C1 | LYVE1_Q9Y5Y7 | FCGBP_Q9Y6R7 | COLEC10_Q9Y6Z7 | IGHV3OR16-9_S4R460 | APOA2_V9GYM3 |\n",
       "|---|---|---|---|---|---|---|---|---|---|---|---|---|---|---|---|---|---|---|---|---|---|\n",
       "| M2.3_P10.2 | -1.66338 | -2.414588 | 1.467756 | -6.164178 | -1.858412 | -2.588001 | 2.128858 | -0.110549 | 1.968863 | 2.523862 | ⋯ | -2.162776 | 1.002701 | 4.385272 | -2.882139 | -6.14436 | -4.26206 | 0.1977374 | -1.653755 | 6.184887 | 4.235612 |\n",
       "| M2.3_P10.3 | -1.66338 | -2.414588 | 1.467756 | -6.164178 | -1.858412 | -2.588001 | 2.128858 | -0.110549 | 1.968863 | 2.523862 | ⋯ | -2.162776 | 1.002701 | 4.385272 | -2.882139 | -6.14436 | -4.26206 | 0.1977374 | -1.653755 | 6.184887 | 4.235612 |\n",
       "\n"
      ],
      "text/plain": [
       "           SERPINA1_A0A024R6I7 IGLV4-69_A0A075B6H9 IGLV8-61_A0A075B6I0\n",
       "M2.3_P10.2 -1.66338            -2.414588           1.467756           \n",
       "M2.3_P10.3 -1.66338            -2.414588           1.467756           \n",
       "           IGLV4-60_A0A075B6I1 IGLV10-54_A0A075B6I4 IGLV7-46_A0A075B6I9\n",
       "M2.3_P10.2 -6.164178           -1.858412            -2.588001          \n",
       "M2.3_P10.3 -6.164178           -1.858412            -2.588001          \n",
       "           IGLV2-18_A0A075B6J9 IGLV3-16_A0A075B6K0 IGLV3-12_A0A075B6K2\n",
       "M2.3_P10.2 2.128858            -0.110549           1.968863           \n",
       "M2.3_P10.3 2.128858            -0.110549           1.968863           \n",
       "           IGLV3-10_A0A075B6K4 ⋯ GNPTG_Q9UJJ9 WWC3_Q9ULE0 MINPP1_Q9UNW1\n",
       "M2.3_P10.2 2.523862            ⋯ -2.162776    1.002701    4.385272     \n",
       "M2.3_P10.3 2.523862            ⋯ -2.162776    1.002701    4.385272     \n",
       "           TLN1_Q9Y490 ANGPTL3_Q9Y5C1 LYVE1_Q9Y5Y7 FCGBP_Q9Y6R7 COLEC10_Q9Y6Z7\n",
       "M2.3_P10.2 -2.882139   -6.14436       -4.26206     0.1977374    -1.653755     \n",
       "M2.3_P10.3 -2.882139   -6.14436       -4.26206     0.1977374    -1.653755     \n",
       "           IGHV3OR16-9_S4R460 APOA2_V9GYM3\n",
       "M2.3_P10.2 6.184887           4.235612    \n",
       "M2.3_P10.3 6.184887           4.235612    "
      ]
     },
     "metadata": {},
     "output_type": "display_data"
    }
   ],
   "source": [
    "head(proteomics,2)"
   ]
  },
  {
   "cell_type": "code",
   "execution_count": 222,
   "id": "7fc30204-928c-4141-a000-ddc3a29280ff",
   "metadata": {},
   "outputs": [],
   "source": [
    "proteomics = data.frame(proteomics)"
   ]
  },
  {
   "cell_type": "code",
   "execution_count": 223,
   "id": "fc91b59c-ba4b-4d89-83a9-2c89824ff1b7",
   "metadata": {},
   "outputs": [],
   "source": [
    "proteomics$sample_id = rownames(proteomics)"
   ]
  },
  {
   "cell_type": "code",
   "execution_count": 224,
   "id": "99c350cf-eb39-48bf-8118-ae24f18557db",
   "metadata": {},
   "outputs": [],
   "source": [
    "proteomics$sample_id = tolower(str_replace(proteomics$sample_id, '_.*', ''))"
   ]
  },
  {
   "cell_type": "code",
   "execution_count": 225,
   "id": "ef98ca9b-d16e-42f2-a274-52512996eb55",
   "metadata": {},
   "outputs": [],
   "source": [
    "proteomics$proteomics_data = 1"
   ]
  },
  {
   "cell_type": "code",
   "execution_count": 226,
   "id": "092d16ce-9afe-4ead-9d5e-d297cea12a86",
   "metadata": {},
   "outputs": [],
   "source": [
    "## Check uniqueness of sample id "
   ]
  },
  {
   "cell_type": "code",
   "execution_count": 227,
   "id": "a7359bbb-13ef-4eb9-a82e-8b379f039cd5",
   "metadata": {},
   "outputs": [
    {
     "data": {
      "text/html": [
       "119"
      ],
      "text/latex": [
       "119"
      ],
      "text/markdown": [
       "119"
      ],
      "text/plain": [
       "[1] 119"
      ]
     },
     "metadata": {},
     "output_type": "display_data"
    }
   ],
   "source": [
    "length(unique(proteomics$sample_id))  # Proteomics data for 119 sample / tp combinations"
   ]
  },
  {
   "cell_type": "code",
   "execution_count": 228,
   "id": "5156a2ca-e936-440f-9fe0-5294f364cc83",
   "metadata": {},
   "outputs": [
    {
     "data": {
      "text/html": [
       "120"
      ],
      "text/latex": [
       "120"
      ],
      "text/markdown": [
       "120"
      ],
      "text/plain": [
       "[1] 120"
      ]
     },
     "metadata": {},
     "output_type": "display_data"
    }
   ],
   "source": [
    "nrow(proteomics)"
   ]
  },
  {
   "cell_type": "code",
   "execution_count": 229,
   "id": "5aecd52d-5c84-4bcf-8639-ddb1fd3a974b",
   "metadata": {},
   "outputs": [],
   "source": [
    "investigate = proteomics %>% group_by(sample_id) %>% count()"
   ]
  },
  {
   "cell_type": "code",
   "execution_count": 230,
   "id": "3d3bcc55-d0f6-4bcf-83a0-80956b95122a",
   "metadata": {},
   "outputs": [
    {
     "data": {
      "text/html": [
       "<table class=\"dataframe\">\n",
       "<caption>A grouped_df: 1 × 2</caption>\n",
       "<thead>\n",
       "\t<tr><th scope=col>sample_id</th><th scope=col>n</th></tr>\n",
       "\t<tr><th scope=col>&lt;chr&gt;</th><th scope=col>&lt;int&gt;</th></tr>\n",
       "</thead>\n",
       "<tbody>\n",
       "\t<tr><td>m2.3</td><td>2</td></tr>\n",
       "</tbody>\n",
       "</table>\n"
      ],
      "text/latex": [
       "A grouped\\_df: 1 × 2\n",
       "\\begin{tabular}{ll}\n",
       " sample\\_id & n\\\\\n",
       " <chr> & <int>\\\\\n",
       "\\hline\n",
       "\t m2.3 & 2\\\\\n",
       "\\end{tabular}\n"
      ],
      "text/markdown": [
       "\n",
       "A grouped_df: 1 × 2\n",
       "\n",
       "| sample_id &lt;chr&gt; | n &lt;int&gt; |\n",
       "|---|---|\n",
       "| m2.3 | 2 |\n",
       "\n"
      ],
      "text/plain": [
       "  sample_id n\n",
       "1 m2.3      2"
      ]
     },
     "metadata": {},
     "output_type": "display_data"
    }
   ],
   "source": [
    "investigate[investigate$n > 1,]"
   ]
  },
  {
   "cell_type": "code",
   "execution_count": 231,
   "id": "880f9476-874d-42f1-826c-de836c8c4098",
   "metadata": {},
   "outputs": [
    {
     "data": {
      "text/html": [
       "<table class=\"dataframe\">\n",
       "<caption>A data.frame: 2 × 492</caption>\n",
       "<thead>\n",
       "\t<tr><th></th><th scope=col>SERPINA1_A0A024R6I7</th><th scope=col>IGLV4.69_A0A075B6H9</th><th scope=col>IGLV8.61_A0A075B6I0</th><th scope=col>IGLV4.60_A0A075B6I1</th><th scope=col>IGLV10.54_A0A075B6I4</th><th scope=col>IGLV7.46_A0A075B6I9</th><th scope=col>IGLV2.18_A0A075B6J9</th><th scope=col>IGLV3.16_A0A075B6K0</th><th scope=col>IGLV3.12_A0A075B6K2</th><th scope=col>IGLV3.10_A0A075B6K4</th><th scope=col>⋯</th><th scope=col>MINPP1_Q9UNW1</th><th scope=col>TLN1_Q9Y490</th><th scope=col>ANGPTL3_Q9Y5C1</th><th scope=col>LYVE1_Q9Y5Y7</th><th scope=col>FCGBP_Q9Y6R7</th><th scope=col>COLEC10_Q9Y6Z7</th><th scope=col>IGHV3OR16.9_S4R460</th><th scope=col>APOA2_V9GYM3</th><th scope=col>sample_id</th><th scope=col>proteomics_data</th></tr>\n",
       "\t<tr><th></th><th scope=col>&lt;dbl&gt;</th><th scope=col>&lt;dbl&gt;</th><th scope=col>&lt;dbl&gt;</th><th scope=col>&lt;dbl&gt;</th><th scope=col>&lt;dbl&gt;</th><th scope=col>&lt;dbl&gt;</th><th scope=col>&lt;dbl&gt;</th><th scope=col>&lt;dbl&gt;</th><th scope=col>&lt;dbl&gt;</th><th scope=col>&lt;dbl&gt;</th><th scope=col>⋯</th><th scope=col>&lt;dbl&gt;</th><th scope=col>&lt;dbl&gt;</th><th scope=col>&lt;dbl&gt;</th><th scope=col>&lt;dbl&gt;</th><th scope=col>&lt;dbl&gt;</th><th scope=col>&lt;dbl&gt;</th><th scope=col>&lt;dbl&gt;</th><th scope=col>&lt;dbl&gt;</th><th scope=col>&lt;chr&gt;</th><th scope=col>&lt;dbl&gt;</th></tr>\n",
       "</thead>\n",
       "<tbody>\n",
       "\t<tr><th scope=row>M2.3_P10.2</th><td>-1.66338</td><td>-2.414588</td><td>1.467756</td><td>-6.164178</td><td>-1.858412</td><td>-2.588001</td><td>2.128858</td><td>-0.110549</td><td>1.968863</td><td>2.523862</td><td>⋯</td><td>4.385272</td><td>-2.882139</td><td>-6.14436</td><td>-4.26206</td><td>0.1977374</td><td>-1.653755</td><td>6.184887</td><td>4.235612</td><td>m2.3</td><td>1</td></tr>\n",
       "\t<tr><th scope=row>M2.3_P10.3</th><td>-1.66338</td><td>-2.414588</td><td>1.467756</td><td>-6.164178</td><td>-1.858412</td><td>-2.588001</td><td>2.128858</td><td>-0.110549</td><td>1.968863</td><td>2.523862</td><td>⋯</td><td>4.385272</td><td>-2.882139</td><td>-6.14436</td><td>-4.26206</td><td>0.1977374</td><td>-1.653755</td><td>6.184887</td><td>4.235612</td><td>m2.3</td><td>1</td></tr>\n",
       "</tbody>\n",
       "</table>\n"
      ],
      "text/latex": [
       "A data.frame: 2 × 492\n",
       "\\begin{tabular}{r|lllllllllllllllllllll}\n",
       "  & SERPINA1\\_A0A024R6I7 & IGLV4.69\\_A0A075B6H9 & IGLV8.61\\_A0A075B6I0 & IGLV4.60\\_A0A075B6I1 & IGLV10.54\\_A0A075B6I4 & IGLV7.46\\_A0A075B6I9 & IGLV2.18\\_A0A075B6J9 & IGLV3.16\\_A0A075B6K0 & IGLV3.12\\_A0A075B6K2 & IGLV3.10\\_A0A075B6K4 & ⋯ & MINPP1\\_Q9UNW1 & TLN1\\_Q9Y490 & ANGPTL3\\_Q9Y5C1 & LYVE1\\_Q9Y5Y7 & FCGBP\\_Q9Y6R7 & COLEC10\\_Q9Y6Z7 & IGHV3OR16.9\\_S4R460 & APOA2\\_V9GYM3 & sample\\_id & proteomics\\_data\\\\\n",
       "  & <dbl> & <dbl> & <dbl> & <dbl> & <dbl> & <dbl> & <dbl> & <dbl> & <dbl> & <dbl> & ⋯ & <dbl> & <dbl> & <dbl> & <dbl> & <dbl> & <dbl> & <dbl> & <dbl> & <chr> & <dbl>\\\\\n",
       "\\hline\n",
       "\tM2.3\\_P10.2 & -1.66338 & -2.414588 & 1.467756 & -6.164178 & -1.858412 & -2.588001 & 2.128858 & -0.110549 & 1.968863 & 2.523862 & ⋯ & 4.385272 & -2.882139 & -6.14436 & -4.26206 & 0.1977374 & -1.653755 & 6.184887 & 4.235612 & m2.3 & 1\\\\\n",
       "\tM2.3\\_P10.3 & -1.66338 & -2.414588 & 1.467756 & -6.164178 & -1.858412 & -2.588001 & 2.128858 & -0.110549 & 1.968863 & 2.523862 & ⋯ & 4.385272 & -2.882139 & -6.14436 & -4.26206 & 0.1977374 & -1.653755 & 6.184887 & 4.235612 & m2.3 & 1\\\\\n",
       "\\end{tabular}\n"
      ],
      "text/markdown": [
       "\n",
       "A data.frame: 2 × 492\n",
       "\n",
       "| <!--/--> | SERPINA1_A0A024R6I7 &lt;dbl&gt; | IGLV4.69_A0A075B6H9 &lt;dbl&gt; | IGLV8.61_A0A075B6I0 &lt;dbl&gt; | IGLV4.60_A0A075B6I1 &lt;dbl&gt; | IGLV10.54_A0A075B6I4 &lt;dbl&gt; | IGLV7.46_A0A075B6I9 &lt;dbl&gt; | IGLV2.18_A0A075B6J9 &lt;dbl&gt; | IGLV3.16_A0A075B6K0 &lt;dbl&gt; | IGLV3.12_A0A075B6K2 &lt;dbl&gt; | IGLV3.10_A0A075B6K4 &lt;dbl&gt; | ⋯ ⋯ | MINPP1_Q9UNW1 &lt;dbl&gt; | TLN1_Q9Y490 &lt;dbl&gt; | ANGPTL3_Q9Y5C1 &lt;dbl&gt; | LYVE1_Q9Y5Y7 &lt;dbl&gt; | FCGBP_Q9Y6R7 &lt;dbl&gt; | COLEC10_Q9Y6Z7 &lt;dbl&gt; | IGHV3OR16.9_S4R460 &lt;dbl&gt; | APOA2_V9GYM3 &lt;dbl&gt; | sample_id &lt;chr&gt; | proteomics_data &lt;dbl&gt; |\n",
       "|---|---|---|---|---|---|---|---|---|---|---|---|---|---|---|---|---|---|---|---|---|---|\n",
       "| M2.3_P10.2 | -1.66338 | -2.414588 | 1.467756 | -6.164178 | -1.858412 | -2.588001 | 2.128858 | -0.110549 | 1.968863 | 2.523862 | ⋯ | 4.385272 | -2.882139 | -6.14436 | -4.26206 | 0.1977374 | -1.653755 | 6.184887 | 4.235612 | m2.3 | 1 |\n",
       "| M2.3_P10.3 | -1.66338 | -2.414588 | 1.467756 | -6.164178 | -1.858412 | -2.588001 | 2.128858 | -0.110549 | 1.968863 | 2.523862 | ⋯ | 4.385272 | -2.882139 | -6.14436 | -4.26206 | 0.1977374 | -1.653755 | 6.184887 | 4.235612 | m2.3 | 1 |\n",
       "\n"
      ],
      "text/plain": [
       "           SERPINA1_A0A024R6I7 IGLV4.69_A0A075B6H9 IGLV8.61_A0A075B6I0\n",
       "M2.3_P10.2 -1.66338            -2.414588           1.467756           \n",
       "M2.3_P10.3 -1.66338            -2.414588           1.467756           \n",
       "           IGLV4.60_A0A075B6I1 IGLV10.54_A0A075B6I4 IGLV7.46_A0A075B6I9\n",
       "M2.3_P10.2 -6.164178           -1.858412            -2.588001          \n",
       "M2.3_P10.3 -6.164178           -1.858412            -2.588001          \n",
       "           IGLV2.18_A0A075B6J9 IGLV3.16_A0A075B6K0 IGLV3.12_A0A075B6K2\n",
       "M2.3_P10.2 2.128858            -0.110549           1.968863           \n",
       "M2.3_P10.3 2.128858            -0.110549           1.968863           \n",
       "           IGLV3.10_A0A075B6K4 ⋯ MINPP1_Q9UNW1 TLN1_Q9Y490 ANGPTL3_Q9Y5C1\n",
       "M2.3_P10.2 2.523862            ⋯ 4.385272      -2.882139   -6.14436      \n",
       "M2.3_P10.3 2.523862            ⋯ 4.385272      -2.882139   -6.14436      \n",
       "           LYVE1_Q9Y5Y7 FCGBP_Q9Y6R7 COLEC10_Q9Y6Z7 IGHV3OR16.9_S4R460\n",
       "M2.3_P10.2 -4.26206     0.1977374    -1.653755      6.184887          \n",
       "M2.3_P10.3 -4.26206     0.1977374    -1.653755      6.184887          \n",
       "           APOA2_V9GYM3 sample_id proteomics_data\n",
       "M2.3_P10.2 4.235612     m2.3      1              \n",
       "M2.3_P10.3 4.235612     m2.3      1              "
      ]
     },
     "metadata": {},
     "output_type": "display_data"
    }
   ],
   "source": [
    "proteomics[proteomics$sample_id == 'm2.3',]  # seems to be a duplicate; what means _P10.2/ _P10.3"
   ]
  },
  {
   "cell_type": "code",
   "execution_count": 232,
   "id": "0ab2c8a8-7043-420b-8cd0-a985a40a7f8f",
   "metadata": {},
   "outputs": [
    {
     "data": {
      "text/html": [
       "119"
      ],
      "text/latex": [
       "119"
      ],
      "text/markdown": [
       "119"
      ],
      "text/plain": [
       "[1] 119"
      ]
     },
     "metadata": {},
     "output_type": "display_data"
    }
   ],
   "source": [
    "nrow(unique(proteomics))"
   ]
  },
  {
   "cell_type": "code",
   "execution_count": 233,
   "id": "8bf28e80-f1a2-4ee6-8332-51a3b28daaf8",
   "metadata": {},
   "outputs": [],
   "source": [
    "proteomics = unique(proteomics) # remove duplicate"
   ]
  },
  {
   "cell_type": "code",
   "execution_count": 234,
   "id": "d87aeeb4-923e-4be2-9e71-e575e436f9eb",
   "metadata": {},
   "outputs": [],
   "source": [
    "### Merge to all samples_info"
   ]
  },
  {
   "cell_type": "code",
   "execution_count": 235,
   "id": "f52cf8db-b553-44df-aceb-96ba787ac8ef",
   "metadata": {},
   "outputs": [
    {
     "data": {
      "text/html": [],
      "text/latex": [],
      "text/markdown": [],
      "text/plain": [
       "character(0)"
      ]
     },
     "metadata": {},
     "output_type": "display_data"
    }
   ],
   "source": [
    "proteomics$sample_id[!proteomics$sample_id %in% all_samples_info$sample_id]  # all sample-ids can be matched!"
   ]
  },
  {
   "cell_type": "code",
   "execution_count": 236,
   "id": "b4529a64-1808-420b-af11-f4f7f0b96dd1",
   "metadata": {},
   "outputs": [],
   "source": [
    "all_samples_info = merge(all_samples_info, proteomics[,c('sample_id', 'proteomics_data')], by.x = 'sample_id', by.y = 'sample_id', all.x = TRUE)"
   ]
  },
  {
   "cell_type": "code",
   "execution_count": 237,
   "id": "fdd593c7-edf3-4b8f-b9c6-22528097fc8d",
   "metadata": {},
   "outputs": [
    {
     "data": {
      "text/html": [
       "146"
      ],
      "text/latex": [
       "146"
      ],
      "text/markdown": [
       "146"
      ],
      "text/plain": [
       "[1] 146"
      ]
     },
     "metadata": {},
     "output_type": "display_data"
    }
   ],
   "source": [
    "nrow(all_samples_info)"
   ]
  },
  {
   "cell_type": "code",
   "execution_count": 239,
   "id": "82ce6a16-9816-482d-bb89-a6e8c226474c",
   "metadata": {},
   "outputs": [],
   "source": [
    "all_samples_info$proteomics_data[is.na(all_samples_info$proteomics_data)] = 0"
   ]
  },
  {
   "cell_type": "code",
   "execution_count": 240,
   "id": "020f3cfd-a3f1-491b-8b4c-f3ee2a428ecf",
   "metadata": {},
   "outputs": [
    {
     "data": {
      "text/html": [
       "119"
      ],
      "text/latex": [
       "119"
      ],
      "text/markdown": [
       "119"
      ],
      "text/plain": [
       "[1] 119"
      ]
     },
     "metadata": {},
     "output_type": "display_data"
    }
   ],
   "source": [
    "sum(all_samples_info$proteomics)  # 119 sample- tp combinations for which proteomics info can be matched"
   ]
  },
  {
   "cell_type": "code",
   "execution_count": 241,
   "id": "69cadb92-5293-43e3-9104-9254e45c40b8",
   "metadata": {},
   "outputs": [],
   "source": [
    "#head(proteomics)"
   ]
  },
  {
   "cell_type": "code",
   "execution_count": 242,
   "id": "cc24f748-ee80-4888-838f-600a0c241fcb",
   "metadata": {},
   "outputs": [],
   "source": [
    "available_data = data.frame(type = 'proteomic_assay', feature_name = colnames(proteomics))"
   ]
  },
  {
   "cell_type": "code",
   "execution_count": 243,
   "id": "abf91a7e-7503-4693-81f8-97d454eff8c7",
   "metadata": {},
   "outputs": [
    {
     "data": {
      "text/html": [
       "<table class=\"dataframe\">\n",
       "<caption>A data.frame: 6 × 2</caption>\n",
       "<thead>\n",
       "\t<tr><th></th><th scope=col>type</th><th scope=col>feature_name</th></tr>\n",
       "\t<tr><th></th><th scope=col>&lt;chr&gt;</th><th scope=col>&lt;chr&gt;</th></tr>\n",
       "</thead>\n",
       "<tbody>\n",
       "\t<tr><th scope=row>1</th><td>proteomic_assay</td><td>SERPINA1_A0A024R6I7 </td></tr>\n",
       "\t<tr><th scope=row>2</th><td>proteomic_assay</td><td>IGLV4.69_A0A075B6H9 </td></tr>\n",
       "\t<tr><th scope=row>3</th><td>proteomic_assay</td><td>IGLV8.61_A0A075B6I0 </td></tr>\n",
       "\t<tr><th scope=row>4</th><td>proteomic_assay</td><td>IGLV4.60_A0A075B6I1 </td></tr>\n",
       "\t<tr><th scope=row>5</th><td>proteomic_assay</td><td>IGLV10.54_A0A075B6I4</td></tr>\n",
       "\t<tr><th scope=row>6</th><td>proteomic_assay</td><td>IGLV7.46_A0A075B6I9 </td></tr>\n",
       "</tbody>\n",
       "</table>\n"
      ],
      "text/latex": [
       "A data.frame: 6 × 2\n",
       "\\begin{tabular}{r|ll}\n",
       "  & type & feature\\_name\\\\\n",
       "  & <chr> & <chr>\\\\\n",
       "\\hline\n",
       "\t1 & proteomic\\_assay & SERPINA1\\_A0A024R6I7 \\\\\n",
       "\t2 & proteomic\\_assay & IGLV4.69\\_A0A075B6H9 \\\\\n",
       "\t3 & proteomic\\_assay & IGLV8.61\\_A0A075B6I0 \\\\\n",
       "\t4 & proteomic\\_assay & IGLV4.60\\_A0A075B6I1 \\\\\n",
       "\t5 & proteomic\\_assay & IGLV10.54\\_A0A075B6I4\\\\\n",
       "\t6 & proteomic\\_assay & IGLV7.46\\_A0A075B6I9 \\\\\n",
       "\\end{tabular}\n"
      ],
      "text/markdown": [
       "\n",
       "A data.frame: 6 × 2\n",
       "\n",
       "| <!--/--> | type &lt;chr&gt; | feature_name &lt;chr&gt; |\n",
       "|---|---|---|\n",
       "| 1 | proteomic_assay | SERPINA1_A0A024R6I7  |\n",
       "| 2 | proteomic_assay | IGLV4.69_A0A075B6H9  |\n",
       "| 3 | proteomic_assay | IGLV8.61_A0A075B6I0  |\n",
       "| 4 | proteomic_assay | IGLV4.60_A0A075B6I1  |\n",
       "| 5 | proteomic_assay | IGLV10.54_A0A075B6I4 |\n",
       "| 6 | proteomic_assay | IGLV7.46_A0A075B6I9  |\n",
       "\n"
      ],
      "text/plain": [
       "  type            feature_name        \n",
       "1 proteomic_assay SERPINA1_A0A024R6I7 \n",
       "2 proteomic_assay IGLV4.69_A0A075B6H9 \n",
       "3 proteomic_assay IGLV8.61_A0A075B6I0 \n",
       "4 proteomic_assay IGLV4.60_A0A075B6I1 \n",
       "5 proteomic_assay IGLV10.54_A0A075B6I4\n",
       "6 proteomic_assay IGLV7.46_A0A075B6I9 "
      ]
     },
     "metadata": {},
     "output_type": "display_data"
    }
   ],
   "source": [
    "head(available_data)"
   ]
  },
  {
   "cell_type": "code",
   "execution_count": 244,
   "id": "772e4b4f-fbc1-4ef6-acf0-79fcea95425b",
   "metadata": {},
   "outputs": [],
   "source": [
    "available_data = available_data[available_data$feature_name != 'sample_id',]\n",
    "available_data = available_data[available_data$feature_name != 'id',]\n",
    "available_data = available_data[available_data$feature_name != 'proteomic_data',]"
   ]
  },
  {
   "cell_type": "code",
   "execution_count": 245,
   "id": "76b9504e-ed34-4996-9ca5-b4446320b6ee",
   "metadata": {},
   "outputs": [],
   "source": [
    "write.csv(available_data, paste0(result_path, '/Data_Share/Proteomic_Assay_Features.csv'))"
   ]
  },
  {
   "cell_type": "markdown",
   "id": "5865967e-2bea-4b05-8cb5-914287d94a5e",
   "metadata": {},
   "source": [
    "## Visualize all loaded and available data (heatmap)"
   ]
  },
  {
   "cell_type": "code",
   "execution_count": 247,
   "id": "3ae6f92e-f6da-4e5c-88ed-760e5a092ddc",
   "metadata": {},
   "outputs": [],
   "source": [
    "all_samples_info$delta_ef_value_class[is.na(all_samples_info$delta_ef_value_class)] = ''"
   ]
  },
  {
   "cell_type": "code",
   "execution_count": 248,
   "id": "9a26e04d-bab3-42cf-919d-2e6f209bc83a",
   "metadata": {},
   "outputs": [],
   "source": [
    "all_samples_info$delta_ef_value_class[all_samples_info$delta_ef_value_class == ''] = '-'"
   ]
  },
  {
   "cell_type": "code",
   "execution_count": null,
   "id": "ffda8278-e264-4a57-8ad9-09c45386d5aa",
   "metadata": {},
   "outputs": [],
   "source": []
  },
  {
   "cell_type": "code",
   "execution_count": 249,
   "id": "45d5bb20-2a25-4ad1-9c35-41a2bfdeba67",
   "metadata": {},
   "outputs": [],
   "source": [
    "heatmap_overview = melt(all_samples_info, id.vars = c('sample_id', 'sample', 'id', 'measurement', 'age', 'sex', 'classification', 'group', 'delta_ef_value_class'), variable.name = 'data_source')"
   ]
  },
  {
   "cell_type": "code",
   "execution_count": 251,
   "id": "0b3acea8-e97a-49b2-8f44-f40bc7039e84",
   "metadata": {},
   "outputs": [],
   "source": [
    "#heatmap_overview[order(heatmap_overview$sample_id, decreasing = FALSE),]"
   ]
  },
  {
   "cell_type": "code",
   "execution_count": 252,
   "id": "9cbd9a3c-cf51-475b-8f24-a28b26e7eb9e",
   "metadata": {},
   "outputs": [],
   "source": [
    "heatmap_overview = heatmap_overview[order(heatmap_overview$sample_id, decreasing = FALSE),]"
   ]
  },
  {
   "cell_type": "code",
   "execution_count": 253,
   "id": "82d0e9bf-6665-4bc1-92cd-3e4e94dcbd03",
   "metadata": {},
   "outputs": [],
   "source": [
    "heatmap_overview$sample_id = factor(heatmap_overview$sample_id, levels =  sort(levels(factor(heatmap_overview$sample_id)), decreasing = TRUE))"
   ]
  },
  {
   "cell_type": "code",
   "execution_count": 254,
   "id": "3ae3b326-e822-466f-9edd-6ef0568f686c",
   "metadata": {},
   "outputs": [
    {
     "data": {
      "text/html": [
       "<style>\n",
       ".list-inline {list-style: none; margin:0; padding: 0}\n",
       ".list-inline>li {display: inline-block}\n",
       ".list-inline>li:not(:last-child)::after {content: \"\\00b7\"; padding: 0 .5ex}\n",
       "</style>\n",
       "<ol class=list-inline><li>'m9.4'</li><li>'m9.3'</li><li>'m9.2'</li><li>'m9.1'</li><li>'m8.4'</li><li>'m8.3'</li><li>'m8.2'</li><li>'m8.1'</li><li>'m7.4'</li><li>'m7.3'</li><li>'m7.2'</li><li>'m7.1'</li><li>'m6.4'</li><li>'m6.3'</li><li>'m6.2'</li><li>'m6.1'</li><li>'m5.4'</li><li>'m5.3'</li><li>'m5.2'</li><li>'m5.1'</li><li>'m4.4'</li><li>'m4.3'</li><li>'m4.2'</li><li>'m4.1'</li><li>'m3.4'</li><li>'m3.3'</li><li>'m3.2'</li><li>'m3.1'</li><li>'m28.4'</li><li>'m28.3'</li><li>'m28.2'</li><li>'m28.1'</li><li>'m27.4'</li><li>'m27.3'</li><li>'m27.2'</li><li>'m27.1'</li><li>'m26.4'</li><li>'m26.3'</li><li>'m26.2'</li><li>'m26.1'</li><li>'m25.4'</li><li>'m25.3'</li><li>'m25.2'</li><li>'m25.1'</li><li>'m24.4'</li><li>'m24.3'</li><li>'m24.2'</li><li>'m24.1'</li><li>'m23.4'</li><li>'m23.3'</li><li>'m23.2'</li><li>'m23.1'</li><li>'m22.4'</li><li>'m22.3'</li><li>'m22.2'</li><li>'m22.1'</li><li>'m21.4'</li><li>'m21.3'</li><li>'m21.2'</li><li>'m21.1'</li><li>'m20.4'</li><li>'m20.3'</li><li>'m20.2'</li><li>'m20.1'</li><li>'m2.4'</li><li>'m2.3'</li><li>'m2.2'</li><li>'m2.1'</li><li>'m19.4'</li><li>'m19.3'</li><li>'m19.2'</li><li>'m19.1'</li><li>'m18.4'</li><li>'m18.3'</li><li>'m18.2'</li><li>'m18.1'</li><li>'m17.4'</li><li>'m17.3'</li><li>'m17.2'</li><li>'m17.1'</li><li>'m16.4'</li><li>'m16.3'</li><li>'m16.2'</li><li>'m16.1'</li><li>'m15.4'</li><li>'m15.3'</li><li>'m15.2'</li><li>'m15.1'</li><li>'m14.4'</li><li>'m14.3'</li><li>'m14.2'</li><li>'m14.1'</li><li>'m13.4'</li><li>'m13.3'</li><li>'m13.2'</li><li>'m13.1'</li><li>'m12.4'</li><li>'m12.3'</li><li>'m12.2'</li><li>'m12.1'</li><li>'m11.4'</li><li>'m11.3'</li><li>'m11.2'</li><li>'m11.1'</li><li>'m10.4'</li><li>'m10.3'</li><li>'m10.2'</li><li>'m10.1'</li><li>'m1.4'</li><li>'m1.3'</li><li>'m1.2'</li><li>'m1.1'</li><li>'k9'</li><li>'k8'</li><li>'k7'</li><li>'k6'</li><li>'k5'</li><li>'k4'</li><li>'k34'</li><li>'k33'</li><li>'k32'</li><li>'k31'</li><li>'k30'</li><li>'k3'</li><li>'k29'</li><li>'k28'</li><li>'k27'</li><li>'k26'</li><li>'k25'</li><li>'k24'</li><li>'k23'</li><li>'k22'</li><li>'k21'</li><li>'k20'</li><li>'k2'</li><li>'k19'</li><li>'k18'</li><li>'k17'</li><li>'k16'</li><li>'k15'</li><li>'k14'</li><li>'k13'</li><li>'k12'</li><li>'k11'</li><li>'k10'</li><li>'k1'</li></ol>\n"
      ],
      "text/latex": [
       "\\begin{enumerate*}\n",
       "\\item 'm9.4'\n",
       "\\item 'm9.3'\n",
       "\\item 'm9.2'\n",
       "\\item 'm9.1'\n",
       "\\item 'm8.4'\n",
       "\\item 'm8.3'\n",
       "\\item 'm8.2'\n",
       "\\item 'm8.1'\n",
       "\\item 'm7.4'\n",
       "\\item 'm7.3'\n",
       "\\item 'm7.2'\n",
       "\\item 'm7.1'\n",
       "\\item 'm6.4'\n",
       "\\item 'm6.3'\n",
       "\\item 'm6.2'\n",
       "\\item 'm6.1'\n",
       "\\item 'm5.4'\n",
       "\\item 'm5.3'\n",
       "\\item 'm5.2'\n",
       "\\item 'm5.1'\n",
       "\\item 'm4.4'\n",
       "\\item 'm4.3'\n",
       "\\item 'm4.2'\n",
       "\\item 'm4.1'\n",
       "\\item 'm3.4'\n",
       "\\item 'm3.3'\n",
       "\\item 'm3.2'\n",
       "\\item 'm3.1'\n",
       "\\item 'm28.4'\n",
       "\\item 'm28.3'\n",
       "\\item 'm28.2'\n",
       "\\item 'm28.1'\n",
       "\\item 'm27.4'\n",
       "\\item 'm27.3'\n",
       "\\item 'm27.2'\n",
       "\\item 'm27.1'\n",
       "\\item 'm26.4'\n",
       "\\item 'm26.3'\n",
       "\\item 'm26.2'\n",
       "\\item 'm26.1'\n",
       "\\item 'm25.4'\n",
       "\\item 'm25.3'\n",
       "\\item 'm25.2'\n",
       "\\item 'm25.1'\n",
       "\\item 'm24.4'\n",
       "\\item 'm24.3'\n",
       "\\item 'm24.2'\n",
       "\\item 'm24.1'\n",
       "\\item 'm23.4'\n",
       "\\item 'm23.3'\n",
       "\\item 'm23.2'\n",
       "\\item 'm23.1'\n",
       "\\item 'm22.4'\n",
       "\\item 'm22.3'\n",
       "\\item 'm22.2'\n",
       "\\item 'm22.1'\n",
       "\\item 'm21.4'\n",
       "\\item 'm21.3'\n",
       "\\item 'm21.2'\n",
       "\\item 'm21.1'\n",
       "\\item 'm20.4'\n",
       "\\item 'm20.3'\n",
       "\\item 'm20.2'\n",
       "\\item 'm20.1'\n",
       "\\item 'm2.4'\n",
       "\\item 'm2.3'\n",
       "\\item 'm2.2'\n",
       "\\item 'm2.1'\n",
       "\\item 'm19.4'\n",
       "\\item 'm19.3'\n",
       "\\item 'm19.2'\n",
       "\\item 'm19.1'\n",
       "\\item 'm18.4'\n",
       "\\item 'm18.3'\n",
       "\\item 'm18.2'\n",
       "\\item 'm18.1'\n",
       "\\item 'm17.4'\n",
       "\\item 'm17.3'\n",
       "\\item 'm17.2'\n",
       "\\item 'm17.1'\n",
       "\\item 'm16.4'\n",
       "\\item 'm16.3'\n",
       "\\item 'm16.2'\n",
       "\\item 'm16.1'\n",
       "\\item 'm15.4'\n",
       "\\item 'm15.3'\n",
       "\\item 'm15.2'\n",
       "\\item 'm15.1'\n",
       "\\item 'm14.4'\n",
       "\\item 'm14.3'\n",
       "\\item 'm14.2'\n",
       "\\item 'm14.1'\n",
       "\\item 'm13.4'\n",
       "\\item 'm13.3'\n",
       "\\item 'm13.2'\n",
       "\\item 'm13.1'\n",
       "\\item 'm12.4'\n",
       "\\item 'm12.3'\n",
       "\\item 'm12.2'\n",
       "\\item 'm12.1'\n",
       "\\item 'm11.4'\n",
       "\\item 'm11.3'\n",
       "\\item 'm11.2'\n",
       "\\item 'm11.1'\n",
       "\\item 'm10.4'\n",
       "\\item 'm10.3'\n",
       "\\item 'm10.2'\n",
       "\\item 'm10.1'\n",
       "\\item 'm1.4'\n",
       "\\item 'm1.3'\n",
       "\\item 'm1.2'\n",
       "\\item 'm1.1'\n",
       "\\item 'k9'\n",
       "\\item 'k8'\n",
       "\\item 'k7'\n",
       "\\item 'k6'\n",
       "\\item 'k5'\n",
       "\\item 'k4'\n",
       "\\item 'k34'\n",
       "\\item 'k33'\n",
       "\\item 'k32'\n",
       "\\item 'k31'\n",
       "\\item 'k30'\n",
       "\\item 'k3'\n",
       "\\item 'k29'\n",
       "\\item 'k28'\n",
       "\\item 'k27'\n",
       "\\item 'k26'\n",
       "\\item 'k25'\n",
       "\\item 'k24'\n",
       "\\item 'k23'\n",
       "\\item 'k22'\n",
       "\\item 'k21'\n",
       "\\item 'k20'\n",
       "\\item 'k2'\n",
       "\\item 'k19'\n",
       "\\item 'k18'\n",
       "\\item 'k17'\n",
       "\\item 'k16'\n",
       "\\item 'k15'\n",
       "\\item 'k14'\n",
       "\\item 'k13'\n",
       "\\item 'k12'\n",
       "\\item 'k11'\n",
       "\\item 'k10'\n",
       "\\item 'k1'\n",
       "\\end{enumerate*}\n"
      ],
      "text/markdown": [
       "1. 'm9.4'\n",
       "2. 'm9.3'\n",
       "3. 'm9.2'\n",
       "4. 'm9.1'\n",
       "5. 'm8.4'\n",
       "6. 'm8.3'\n",
       "7. 'm8.2'\n",
       "8. 'm8.1'\n",
       "9. 'm7.4'\n",
       "10. 'm7.3'\n",
       "11. 'm7.2'\n",
       "12. 'm7.1'\n",
       "13. 'm6.4'\n",
       "14. 'm6.3'\n",
       "15. 'm6.2'\n",
       "16. 'm6.1'\n",
       "17. 'm5.4'\n",
       "18. 'm5.3'\n",
       "19. 'm5.2'\n",
       "20. 'm5.1'\n",
       "21. 'm4.4'\n",
       "22. 'm4.3'\n",
       "23. 'm4.2'\n",
       "24. 'm4.1'\n",
       "25. 'm3.4'\n",
       "26. 'm3.3'\n",
       "27. 'm3.2'\n",
       "28. 'm3.1'\n",
       "29. 'm28.4'\n",
       "30. 'm28.3'\n",
       "31. 'm28.2'\n",
       "32. 'm28.1'\n",
       "33. 'm27.4'\n",
       "34. 'm27.3'\n",
       "35. 'm27.2'\n",
       "36. 'm27.1'\n",
       "37. 'm26.4'\n",
       "38. 'm26.3'\n",
       "39. 'm26.2'\n",
       "40. 'm26.1'\n",
       "41. 'm25.4'\n",
       "42. 'm25.3'\n",
       "43. 'm25.2'\n",
       "44. 'm25.1'\n",
       "45. 'm24.4'\n",
       "46. 'm24.3'\n",
       "47. 'm24.2'\n",
       "48. 'm24.1'\n",
       "49. 'm23.4'\n",
       "50. 'm23.3'\n",
       "51. 'm23.2'\n",
       "52. 'm23.1'\n",
       "53. 'm22.4'\n",
       "54. 'm22.3'\n",
       "55. 'm22.2'\n",
       "56. 'm22.1'\n",
       "57. 'm21.4'\n",
       "58. 'm21.3'\n",
       "59. 'm21.2'\n",
       "60. 'm21.1'\n",
       "61. 'm20.4'\n",
       "62. 'm20.3'\n",
       "63. 'm20.2'\n",
       "64. 'm20.1'\n",
       "65. 'm2.4'\n",
       "66. 'm2.3'\n",
       "67. 'm2.2'\n",
       "68. 'm2.1'\n",
       "69. 'm19.4'\n",
       "70. 'm19.3'\n",
       "71. 'm19.2'\n",
       "72. 'm19.1'\n",
       "73. 'm18.4'\n",
       "74. 'm18.3'\n",
       "75. 'm18.2'\n",
       "76. 'm18.1'\n",
       "77. 'm17.4'\n",
       "78. 'm17.3'\n",
       "79. 'm17.2'\n",
       "80. 'm17.1'\n",
       "81. 'm16.4'\n",
       "82. 'm16.3'\n",
       "83. 'm16.2'\n",
       "84. 'm16.1'\n",
       "85. 'm15.4'\n",
       "86. 'm15.3'\n",
       "87. 'm15.2'\n",
       "88. 'm15.1'\n",
       "89. 'm14.4'\n",
       "90. 'm14.3'\n",
       "91. 'm14.2'\n",
       "92. 'm14.1'\n",
       "93. 'm13.4'\n",
       "94. 'm13.3'\n",
       "95. 'm13.2'\n",
       "96. 'm13.1'\n",
       "97. 'm12.4'\n",
       "98. 'm12.3'\n",
       "99. 'm12.2'\n",
       "100. 'm12.1'\n",
       "101. 'm11.4'\n",
       "102. 'm11.3'\n",
       "103. 'm11.2'\n",
       "104. 'm11.1'\n",
       "105. 'm10.4'\n",
       "106. 'm10.3'\n",
       "107. 'm10.2'\n",
       "108. 'm10.1'\n",
       "109. 'm1.4'\n",
       "110. 'm1.3'\n",
       "111. 'm1.2'\n",
       "112. 'm1.1'\n",
       "113. 'k9'\n",
       "114. 'k8'\n",
       "115. 'k7'\n",
       "116. 'k6'\n",
       "117. 'k5'\n",
       "118. 'k4'\n",
       "119. 'k34'\n",
       "120. 'k33'\n",
       "121. 'k32'\n",
       "122. 'k31'\n",
       "123. 'k30'\n",
       "124. 'k3'\n",
       "125. 'k29'\n",
       "126. 'k28'\n",
       "127. 'k27'\n",
       "128. 'k26'\n",
       "129. 'k25'\n",
       "130. 'k24'\n",
       "131. 'k23'\n",
       "132. 'k22'\n",
       "133. 'k21'\n",
       "134. 'k20'\n",
       "135. 'k2'\n",
       "136. 'k19'\n",
       "137. 'k18'\n",
       "138. 'k17'\n",
       "139. 'k16'\n",
       "140. 'k15'\n",
       "141. 'k14'\n",
       "142. 'k13'\n",
       "143. 'k12'\n",
       "144. 'k11'\n",
       "145. 'k10'\n",
       "146. 'k1'\n",
       "\n",
       "\n"
      ],
      "text/plain": [
       "  [1] \"m9.4\"  \"m9.3\"  \"m9.2\"  \"m9.1\"  \"m8.4\"  \"m8.3\"  \"m8.2\"  \"m8.1\"  \"m7.4\" \n",
       " [10] \"m7.3\"  \"m7.2\"  \"m7.1\"  \"m6.4\"  \"m6.3\"  \"m6.2\"  \"m6.1\"  \"m5.4\"  \"m5.3\" \n",
       " [19] \"m5.2\"  \"m5.1\"  \"m4.4\"  \"m4.3\"  \"m4.2\"  \"m4.1\"  \"m3.4\"  \"m3.3\"  \"m3.2\" \n",
       " [28] \"m3.1\"  \"m28.4\" \"m28.3\" \"m28.2\" \"m28.1\" \"m27.4\" \"m27.3\" \"m27.2\" \"m27.1\"\n",
       " [37] \"m26.4\" \"m26.3\" \"m26.2\" \"m26.1\" \"m25.4\" \"m25.3\" \"m25.2\" \"m25.1\" \"m24.4\"\n",
       " [46] \"m24.3\" \"m24.2\" \"m24.1\" \"m23.4\" \"m23.3\" \"m23.2\" \"m23.1\" \"m22.4\" \"m22.3\"\n",
       " [55] \"m22.2\" \"m22.1\" \"m21.4\" \"m21.3\" \"m21.2\" \"m21.1\" \"m20.4\" \"m20.3\" \"m20.2\"\n",
       " [64] \"m20.1\" \"m2.4\"  \"m2.3\"  \"m2.2\"  \"m2.1\"  \"m19.4\" \"m19.3\" \"m19.2\" \"m19.1\"\n",
       " [73] \"m18.4\" \"m18.3\" \"m18.2\" \"m18.1\" \"m17.4\" \"m17.3\" \"m17.2\" \"m17.1\" \"m16.4\"\n",
       " [82] \"m16.3\" \"m16.2\" \"m16.1\" \"m15.4\" \"m15.3\" \"m15.2\" \"m15.1\" \"m14.4\" \"m14.3\"\n",
       " [91] \"m14.2\" \"m14.1\" \"m13.4\" \"m13.3\" \"m13.2\" \"m13.1\" \"m12.4\" \"m12.3\" \"m12.2\"\n",
       "[100] \"m12.1\" \"m11.4\" \"m11.3\" \"m11.2\" \"m11.1\" \"m10.4\" \"m10.3\" \"m10.2\" \"m10.1\"\n",
       "[109] \"m1.4\"  \"m1.3\"  \"m1.2\"  \"m1.1\"  \"k9\"    \"k8\"    \"k7\"    \"k6\"    \"k5\"   \n",
       "[118] \"k4\"    \"k34\"   \"k33\"   \"k32\"   \"k31\"   \"k30\"   \"k3\"    \"k29\"   \"k28\"  \n",
       "[127] \"k27\"   \"k26\"   \"k25\"   \"k24\"   \"k23\"   \"k22\"   \"k21\"   \"k20\"   \"k2\"   \n",
       "[136] \"k19\"   \"k18\"   \"k17\"   \"k16\"   \"k15\"   \"k14\"   \"k13\"   \"k12\"   \"k11\"  \n",
       "[145] \"k10\"   \"k1\"   "
      ]
     },
     "metadata": {},
     "output_type": "display_data"
    }
   ],
   "source": [
    "levels(heatmap_overview$sample_id)"
   ]
  },
  {
   "cell_type": "code",
   "execution_count": 255,
   "id": "d780b002-27c0-4413-af00-944f0208a9cb",
   "metadata": {},
   "outputs": [],
   "source": [
    "heatmap_overview$value = as.character(heatmap_overview$value)"
   ]
  },
  {
   "cell_type": "code",
   "execution_count": 256,
   "id": "24728eeb-b5ee-435e-8b61-4605cc494cab",
   "metadata": {},
   "outputs": [],
   "source": [
    "heatmap_overview = heatmap_overview[heatmap_overview$data_source != 'meta_data', ]"
   ]
  },
  {
   "cell_type": "code",
   "execution_count": 257,
   "id": "24384cc8-a085-48b4-8db3-ee787eb60db4",
   "metadata": {},
   "outputs": [],
   "source": [
    "heatmap_overview = heatmap_overview[heatmap_overview$data_source != 'ef_classification_data', ]"
   ]
  },
  {
   "cell_type": "code",
   "execution_count": 258,
   "id": "23fc406b-197f-4adf-9b8f-76aacf38d695",
   "metadata": {},
   "outputs": [],
   "source": [
    "heatmap_overview = heatmap_overview[heatmap_overview$data_source != 'clinical_data', ]"
   ]
  },
  {
   "cell_type": "code",
   "execution_count": 259,
   "id": "edfd3e69-62af-401f-a1bd-fc6d393080df",
   "metadata": {},
   "outputs": [
    {
     "data": {
      "text/html": [
       "'TP0'"
      ],
      "text/latex": [
       "'TP0'"
      ],
      "text/markdown": [
       "'TP0'"
      ],
      "text/plain": [
       "[1] \"TP0\""
      ]
     },
     "metadata": {},
     "output_type": "display_data"
    }
   ],
   "source": [
    "unique(heatmap_overview[heatmap_overview$group %in% c('ccs', 'no_ccs'),'measurement'])"
   ]
  },
  {
   "cell_type": "code",
   "execution_count": 260,
   "id": "3a2e8690-cdef-4689-8e6b-ebd644535c35",
   "metadata": {},
   "outputs": [],
   "source": [
    "heatmap_overview$plot_text = paste0(heatmap_overview$classification, ': ', heatmap_overview$delta_ef_value_class)"
   ]
  },
  {
   "cell_type": "code",
   "execution_count": null,
   "id": "d0a86ee0-e21f-4f1b-8e59-4fa6d4e5f4fa",
   "metadata": {},
   "outputs": [],
   "source": []
  },
  {
   "cell_type": "code",
   "execution_count": 261,
   "id": "f5888431-ceb3-413d-ba5c-84cfe2950cab",
   "metadata": {},
   "outputs": [
    {
     "data": {
      "image/png": "[encoded data removed]",
      "text/plain": [
       "plot without title"
      ]
     },
     "metadata": {
      "image/png": {
       "height": 360,
       "width": 900
      }
     },
     "output_type": "display_data"
    }
   ],
   "source": [
    "options(repr.plot.width=15, repr.plot.height=6)\n",
    "g = ggplot(heatmap_overview[heatmap_overview$group %in% c('ccs', 'no_ccs'),], aes(measurement, sample_id, fill= value)) + geom_tile() + ggtitle(label = \"Overview available data non-acs patients\")+ theme(axis.text.x=element_text(size=10, angle =0), axis.text.y=element_text(size=10, angle = 0),axis.title=element_text(size=10,face=\"bold\")) + facet_grid(plot_text ~ data_source  , scales = \"free_y\", space = \"free_y\",  switch = \"y\") +scale_x_discrete(position = \"top\") +  theme(strip.placement = \"outside\", strip.text.y.left = element_text(angle=0, hjust = 0)) \n",
    "g"
   ]
  },
  {
   "cell_type": "code",
   "execution_count": 262,
   "id": "a160a969-8d24-40b4-bd2e-1e34410e26ac",
   "metadata": {},
   "outputs": [
    {
     "data": {
      "image/png": "[encoded data removed]",
      "text/plain": [
       "plot without title"
      ]
     },
     "metadata": {
      "image/png": {
       "height": 420,
       "width": 900
      }
     },
     "output_type": "display_data"
    }
   ],
   "source": [
    "options(repr.plot.width=15, repr.plot.height=7)\n",
    "g = ggplot(heatmap_overview[!heatmap_overview$group %in% c('ccs', 'no_ccs'),], aes(measurement, sample, fill= value)) + geom_tile() + ggtitle(label = \"Overview available data acs patients\")+ theme(axis.text.x=element_text(size=10, angle =0), axis.text.y=element_text(size=10, angle = 0),axis.title=element_text(size=10,face=\"bold\")) + facet_grid(plot_text  ~ data_source  , scales = \"free_y\", space = \"free_y\",  switch = \"y\") +scale_x_discrete(position = \"top\")  + theme(strip.placement = \"outside\", strip.text.y.left = element_text(angle=0, hjust = 0))  \n",
    "g"
   ]
  },
  {
   "cell_type": "markdown",
   "id": "ce730cc2-59c2-41c2-9806-c142231035d5",
   "metadata": {},
   "source": [
    "# Overview: Data to use for analysis"
   ]
  },
  {
   "cell_type": "code",
   "execution_count": 263,
   "id": "d6f58e3d-e1e6-4fb7-a58b-26da431e2092",
   "metadata": {},
   "outputs": [],
   "source": [
    "### Overview of available data and missing data per sample"
   ]
  },
  {
   "cell_type": "code",
   "execution_count": 265,
   "id": "142988b7-3982-48c7-924d-9bca164a7f49",
   "metadata": {},
   "outputs": [
    {
     "data": {
      "text/html": [
       "146"
      ],
      "text/latex": [
       "146"
      ],
      "text/markdown": [
       "146"
      ],
      "text/plain": [
       "[1] 146"
      ]
     },
     "metadata": {},
     "output_type": "display_data"
    }
   ],
   "source": [
    "nrow(all_samples_info)  # Overall: 145 sample - tp combinations"
   ]
  },
  {
   "cell_type": "code",
   "execution_count": 266,
   "id": "e458b8b0-ce18-47a7-83b7-95485ffa9b62",
   "metadata": {},
   "outputs": [],
   "source": [
    "all_samples_info$complete_clinical_data = NULL\n",
    "all_samples_info$min_1_clinical_value = NULL"
   ]
  },
  {
   "cell_type": "code",
   "execution_count": 267,
   "id": "dbb986bc-96e5-4992-b6e3-e7a4106db692",
   "metadata": {},
   "outputs": [],
   "source": [
    "write.csv(all_samples_info, paste0(result_path, '/00_Data_Overview/Available_Data_per_Sample_Overview.csv'))"
   ]
  },
  {
   "cell_type": "code",
   "execution_count": 268,
   "id": "ba1bcf28-0208-4f58-8cab-921ab3af07fd",
   "metadata": {},
   "outputs": [],
   "source": [
    "### Merged Sample Data Meta-Data file"
   ]
  },
  {
   "cell_type": "code",
   "execution_count": 270,
   "id": "3b3b0953-8b6f-483a-b0c5-edd06c3cbdd3",
   "metadata": {},
   "outputs": [
    {
     "data": {
      "text/html": [
       "149"
      ],
      "text/latex": [
       "149"
      ],
      "text/markdown": [
       "149"
      ],
      "text/plain": [
       "[1] 149"
      ]
     },
     "metadata": {},
     "output_type": "display_data"
    }
   ],
   "source": [
    "nrow(sample_data) # two samples measured twice --> 148 tp, library, sample combinations"
   ]
  },
  {
   "cell_type": "code",
   "execution_count": 271,
   "id": "8a6b599e-4e41-42b5-8c88-dbc566f112b4",
   "metadata": {},
   "outputs": [],
   "source": [
    "sample_data$complete_clinical_data = NULL\n",
    "sample_data$min_1_clinical_value = NULL"
   ]
  },
  {
   "cell_type": "code",
   "execution_count": 272,
   "id": "0305d608-a6ca-49d1-9e60-4fe13cf19cc6",
   "metadata": {},
   "outputs": [],
   "source": [
    "write.csv(sample_data, paste0(result_path, '/00_Data_Overview/Merged_Sample_Meta_Data.csv'))"
   ]
  },
  {
   "cell_type": "code",
   "execution_count": 273,
   "id": "5de8e94f-ccd9-4ea6-a9c7-3510223273e1",
   "metadata": {},
   "outputs": [],
   "source": [
    "### Prepared Cytokine Data"
   ]
  },
  {
   "cell_type": "code",
   "execution_count": 274,
   "id": "0bd5a64e-2f4b-4bff-b5ab-2e2f122e8a77",
   "metadata": {},
   "outputs": [
    {
     "data": {
      "text/html": [
       "<table class=\"dataframe\">\n",
       "<caption>A data.frame: 2 × 74</caption>\n",
       "<thead>\n",
       "\t<tr><th></th><th scope=col>sample_id</th><th scope=col>sCD40L</th><th scope=col>EGF</th><th scope=col>Eotaxin</th><th scope=col>FGF2</th><th scope=col>FLT3L</th><th scope=col>Fractalkine</th><th scope=col>GCSF</th><th scope=col>GMCSF</th><th scope=col>GROalpha</th><th scope=col>⋯</th><th scope=col>MCP4</th><th scope=col>MIP1.</th><th scope=col>SCF</th><th scope=col>SDF1alpha.beta</th><th scope=col>TARC</th><th scope=col>TPO</th><th scope=col>TRAIL</th><th scope=col>TSLP</th><th scope=col>id</th><th scope=col>cytokine_data</th></tr>\n",
       "\t<tr><th></th><th scope=col>&lt;chr&gt;</th><th scope=col>&lt;dbl&gt;</th><th scope=col>&lt;chr&gt;</th><th scope=col>&lt;dbl&gt;</th><th scope=col>&lt;chr&gt;</th><th scope=col>&lt;dbl&gt;</th><th scope=col>&lt;chr&gt;</th><th scope=col>&lt;chr&gt;</th><th scope=col>&lt;chr&gt;</th><th scope=col>&lt;chr&gt;</th><th scope=col>⋯</th><th scope=col>&lt;dbl&gt;</th><th scope=col>&lt;dbl&gt;</th><th scope=col>&lt;chr&gt;</th><th scope=col>&lt;dbl&gt;</th><th scope=col>&lt;dbl&gt;</th><th scope=col>&lt;chr&gt;</th><th scope=col>&lt;dbl&gt;</th><th scope=col>&lt;chr&gt;</th><th scope=col>&lt;chr&gt;</th><th scope=col>&lt;dbl&gt;</th></tr>\n",
       "</thead>\n",
       "<tbody>\n",
       "\t<tr><th scope=row>1</th><td>M1.1 </td><td>1033.94</td><td>4.49 </td><td>48.09</td><td>52.77</td><td>14.40</td><td>57.66 </td><td>8.70 </td><td>OOR &lt;</td><td>3.43</td><td>⋯</td><td>91.13</td><td>2665.03</td><td>5.24 </td><td> 4033.41</td><td>59.34</td><td>354.84</td><td>44.25</td><td>4.65 </td><td>m1.1 </td><td>1</td></tr>\n",
       "\t<tr><th scope=row>2</th><td>M11.1</td><td> 232.19</td><td>16.74</td><td>32.19</td><td>54.38</td><td>52.98</td><td>107.78</td><td>OOR &lt;</td><td>OOR &lt;</td><td>8.20</td><td>⋯</td><td>73.06</td><td>5105.80</td><td>74.24</td><td>10498.23</td><td>10.47</td><td>OOR &lt; </td><td>84.87</td><td>OOR &lt;</td><td>m11.1</td><td>1</td></tr>\n",
       "</tbody>\n",
       "</table>\n"
      ],
      "text/latex": [
       "A data.frame: 2 × 74\n",
       "\\begin{tabular}{r|lllllllllllllllllllll}\n",
       "  & sample\\_id & sCD40L & EGF & Eotaxin & FGF2 & FLT3L & Fractalkine & GCSF & GMCSF & GROalpha & ⋯ & MCP4 & MIP1. & SCF & SDF1alpha.beta & TARC & TPO & TRAIL & TSLP & id & cytokine\\_data\\\\\n",
       "  & <chr> & <dbl> & <chr> & <dbl> & <chr> & <dbl> & <chr> & <chr> & <chr> & <chr> & ⋯ & <dbl> & <dbl> & <chr> & <dbl> & <dbl> & <chr> & <dbl> & <chr> & <chr> & <dbl>\\\\\n",
       "\\hline\n",
       "\t1 & M1.1  & 1033.94 & 4.49  & 48.09 & 52.77 & 14.40 & 57.66  & 8.70  & OOR < & 3.43 & ⋯ & 91.13 & 2665.03 & 5.24  &  4033.41 & 59.34 & 354.84 & 44.25 & 4.65  & m1.1  & 1\\\\\n",
       "\t2 & M11.1 &  232.19 & 16.74 & 32.19 & 54.38 & 52.98 & 107.78 & OOR < & OOR < & 8.20 & ⋯ & 73.06 & 5105.80 & 74.24 & 10498.23 & 10.47 & OOR <  & 84.87 & OOR < & m11.1 & 1\\\\\n",
       "\\end{tabular}\n"
      ],
      "text/markdown": [
       "\n",
       "A data.frame: 2 × 74\n",
       "\n",
       "| <!--/--> | sample_id &lt;chr&gt; | sCD40L &lt;dbl&gt; | EGF &lt;chr&gt; | Eotaxin &lt;dbl&gt; | FGF2 &lt;chr&gt; | FLT3L &lt;dbl&gt; | Fractalkine &lt;chr&gt; | GCSF &lt;chr&gt; | GMCSF &lt;chr&gt; | GROalpha &lt;chr&gt; | ⋯ ⋯ | MCP4 &lt;dbl&gt; | MIP1. &lt;dbl&gt; | SCF &lt;chr&gt; | SDF1alpha.beta &lt;dbl&gt; | TARC &lt;dbl&gt; | TPO &lt;chr&gt; | TRAIL &lt;dbl&gt; | TSLP &lt;chr&gt; | id &lt;chr&gt; | cytokine_data &lt;dbl&gt; |\n",
       "|---|---|---|---|---|---|---|---|---|---|---|---|---|---|---|---|---|---|---|---|---|---|\n",
       "| 1 | M1.1  | 1033.94 | 4.49  | 48.09 | 52.77 | 14.40 | 57.66  | 8.70  | OOR &lt; | 3.43 | ⋯ | 91.13 | 2665.03 | 5.24  |  4033.41 | 59.34 | 354.84 | 44.25 | 4.65  | m1.1  | 1 |\n",
       "| 2 | M11.1 |  232.19 | 16.74 | 32.19 | 54.38 | 52.98 | 107.78 | OOR &lt; | OOR &lt; | 8.20 | ⋯ | 73.06 | 5105.80 | 74.24 | 10498.23 | 10.47 | OOR &lt;  | 84.87 | OOR &lt; | m11.1 | 1 |\n",
       "\n"
      ],
      "text/plain": [
       "  sample_id sCD40L  EGF   Eotaxin FGF2  FLT3L Fractalkine GCSF  GMCSF GROalpha\n",
       "1 M1.1      1033.94 4.49  48.09   52.77 14.40 57.66       8.70  OOR < 3.43    \n",
       "2 M11.1      232.19 16.74 32.19   54.38 52.98 107.78      OOR < OOR < 8.20    \n",
       "  ⋯ MCP4  MIP1.   SCF   SDF1alpha.beta TARC  TPO    TRAIL TSLP  id   \n",
       "1 ⋯ 91.13 2665.03 5.24   4033.41       59.34 354.84 44.25 4.65  m1.1 \n",
       "2 ⋯ 73.06 5105.80 74.24 10498.23       10.47 OOR <  84.87 OOR < m11.1\n",
       "  cytokine_data\n",
       "1 1            \n",
       "2 1            "
      ]
     },
     "metadata": {},
     "output_type": "display_data"
    }
   ],
   "source": [
    "head(cytokines,2)"
   ]
  },
  {
   "cell_type": "code",
   "execution_count": 275,
   "id": "fc13d9d0-d533-4e23-aac0-3d13e1dc9746",
   "metadata": {},
   "outputs": [
    {
     "data": {
      "text/html": [
       "126"
      ],
      "text/latex": [
       "126"
      ],
      "text/markdown": [
       "126"
      ],
      "text/plain": [
       "[1] 126"
      ]
     },
     "metadata": {},
     "output_type": "display_data"
    }
   ],
   "source": [
    "nrow(cytokines)  # 123 matchable ids"
   ]
  },
  {
   "cell_type": "code",
   "execution_count": 276,
   "id": "4ed322e1-973f-4b53-92db-48cea3a22db3",
   "metadata": {},
   "outputs": [],
   "source": [
    "write.csv(cytokines, paste0(result_path, '/00_Data_Overview/Prepared_Cytokine_Data.csv'))"
   ]
  },
  {
   "cell_type": "code",
   "execution_count": 277,
   "id": "eebf8e4c-2baf-448b-bfde-f1f66b6a6516",
   "metadata": {},
   "outputs": [],
   "source": [
    "### Prepared neutrophil data"
   ]
  },
  {
   "cell_type": "code",
   "execution_count": 278,
   "id": "557db5cb-e254-42c0-b337-c674a45899e8",
   "metadata": {},
   "outputs": [
    {
     "data": {
      "text/html": [
       "<table class=\"dataframe\">\n",
       "<caption>A data.frame: 2 × 38148</caption>\n",
       "<thead>\n",
       "\t<tr><th></th><th scope=col>ENSG00000000003.15</th><th scope=col>ENSG00000000419.13</th><th scope=col>ENSG00000000457.14</th><th scope=col>ENSG00000000460.17</th><th scope=col>ENSG00000000938.13</th><th scope=col>ENSG00000000971.16</th><th scope=col>ENSG00000001036.14</th><th scope=col>ENSG00000001084.13</th><th scope=col>ENSG00000001167.14</th><th scope=col>ENSG00000001460.18</th><th scope=col>⋯</th><th scope=col>ENSG00000288612.1</th><th scope=col>ENSG00000288615.1</th><th scope=col>ENSG00000288617.1</th><th scope=col>ENSG00000288621.1</th><th scope=col>ENSG00000288631.1</th><th scope=col>ENSG00000288637.1</th><th scope=col>ENSG00000288638.1</th><th scope=col>ENSG00000288642.1</th><th scope=col>sample_id</th><th scope=col>neutrophil_data</th></tr>\n",
       "\t<tr><th></th><th scope=col>&lt;int&gt;</th><th scope=col>&lt;int&gt;</th><th scope=col>&lt;int&gt;</th><th scope=col>&lt;int&gt;</th><th scope=col>&lt;int&gt;</th><th scope=col>&lt;int&gt;</th><th scope=col>&lt;int&gt;</th><th scope=col>&lt;int&gt;</th><th scope=col>&lt;int&gt;</th><th scope=col>&lt;int&gt;</th><th scope=col>⋯</th><th scope=col>&lt;int&gt;</th><th scope=col>&lt;int&gt;</th><th scope=col>&lt;int&gt;</th><th scope=col>&lt;int&gt;</th><th scope=col>&lt;int&gt;</th><th scope=col>&lt;int&gt;</th><th scope=col>&lt;int&gt;</th><th scope=col>&lt;int&gt;</th><th scope=col>&lt;chr&gt;</th><th scope=col>&lt;dbl&gt;</th></tr>\n",
       "</thead>\n",
       "<tbody>\n",
       "\t<tr><th scope=row>k4_0_ccs_ccs</th><td>0</td><td>1</td><td>0</td><td>0</td><td>14</td><td>0</td><td>0</td><td>0</td><td>1</td><td>0</td><td>⋯</td><td>0</td><td>0</td><td>0</td><td>0</td><td>0</td><td>0</td><td>0</td><td>0</td><td>k4   </td><td>1</td></tr>\n",
       "\t<tr><th scope=row>m14_3_acs_acs_noinf</th><td>0</td><td>0</td><td>1</td><td>0</td><td> 6</td><td>0</td><td>0</td><td>0</td><td>0</td><td>0</td><td>⋯</td><td>0</td><td>0</td><td>0</td><td>0</td><td>0</td><td>0</td><td>0</td><td>0</td><td>m14.3</td><td>1</td></tr>\n",
       "</tbody>\n",
       "</table>\n"
      ],
      "text/latex": [
       "A data.frame: 2 × 38148\n",
       "\\begin{tabular}{r|lllllllllllllllllllll}\n",
       "  & ENSG00000000003.15 & ENSG00000000419.13 & ENSG00000000457.14 & ENSG00000000460.17 & ENSG00000000938.13 & ENSG00000000971.16 & ENSG00000001036.14 & ENSG00000001084.13 & ENSG00000001167.14 & ENSG00000001460.18 & ⋯ & ENSG00000288612.1 & ENSG00000288615.1 & ENSG00000288617.1 & ENSG00000288621.1 & ENSG00000288631.1 & ENSG00000288637.1 & ENSG00000288638.1 & ENSG00000288642.1 & sample\\_id & neutrophil\\_data\\\\\n",
       "  & <int> & <int> & <int> & <int> & <int> & <int> & <int> & <int> & <int> & <int> & ⋯ & <int> & <int> & <int> & <int> & <int> & <int> & <int> & <int> & <chr> & <dbl>\\\\\n",
       "\\hline\n",
       "\tk4\\_0\\_ccs\\_ccs & 0 & 1 & 0 & 0 & 14 & 0 & 0 & 0 & 1 & 0 & ⋯ & 0 & 0 & 0 & 0 & 0 & 0 & 0 & 0 & k4    & 1\\\\\n",
       "\tm14\\_3\\_acs\\_acs\\_noinf & 0 & 0 & 1 & 0 &  6 & 0 & 0 & 0 & 0 & 0 & ⋯ & 0 & 0 & 0 & 0 & 0 & 0 & 0 & 0 & m14.3 & 1\\\\\n",
       "\\end{tabular}\n"
      ],
      "text/markdown": [
       "\n",
       "A data.frame: 2 × 38148\n",
       "\n",
       "| <!--/--> | ENSG00000000003.15 &lt;int&gt; | ENSG00000000419.13 &lt;int&gt; | ENSG00000000457.14 &lt;int&gt; | ENSG00000000460.17 &lt;int&gt; | ENSG00000000938.13 &lt;int&gt; | ENSG00000000971.16 &lt;int&gt; | ENSG00000001036.14 &lt;int&gt; | ENSG00000001084.13 &lt;int&gt; | ENSG00000001167.14 &lt;int&gt; | ENSG00000001460.18 &lt;int&gt; | ⋯ ⋯ | ENSG00000288612.1 &lt;int&gt; | ENSG00000288615.1 &lt;int&gt; | ENSG00000288617.1 &lt;int&gt; | ENSG00000288621.1 &lt;int&gt; | ENSG00000288631.1 &lt;int&gt; | ENSG00000288637.1 &lt;int&gt; | ENSG00000288638.1 &lt;int&gt; | ENSG00000288642.1 &lt;int&gt; | sample_id &lt;chr&gt; | neutrophil_data &lt;dbl&gt; |\n",
       "|---|---|---|---|---|---|---|---|---|---|---|---|---|---|---|---|---|---|---|---|---|---|\n",
       "| k4_0_ccs_ccs | 0 | 1 | 0 | 0 | 14 | 0 | 0 | 0 | 1 | 0 | ⋯ | 0 | 0 | 0 | 0 | 0 | 0 | 0 | 0 | k4    | 1 |\n",
       "| m14_3_acs_acs_noinf | 0 | 0 | 1 | 0 |  6 | 0 | 0 | 0 | 0 | 0 | ⋯ | 0 | 0 | 0 | 0 | 0 | 0 | 0 | 0 | m14.3 | 1 |\n",
       "\n"
      ],
      "text/plain": [
       "                    ENSG00000000003.15 ENSG00000000419.13 ENSG00000000457.14\n",
       "k4_0_ccs_ccs        0                  1                  0                 \n",
       "m14_3_acs_acs_noinf 0                  0                  1                 \n",
       "                    ENSG00000000460.17 ENSG00000000938.13 ENSG00000000971.16\n",
       "k4_0_ccs_ccs        0                  14                 0                 \n",
       "m14_3_acs_acs_noinf 0                   6                 0                 \n",
       "                    ENSG00000001036.14 ENSG00000001084.13 ENSG00000001167.14\n",
       "k4_0_ccs_ccs        0                  0                  1                 \n",
       "m14_3_acs_acs_noinf 0                  0                  0                 \n",
       "                    ENSG00000001460.18 ⋯ ENSG00000288612.1 ENSG00000288615.1\n",
       "k4_0_ccs_ccs        0                  ⋯ 0                 0                \n",
       "m14_3_acs_acs_noinf 0                  ⋯ 0                 0                \n",
       "                    ENSG00000288617.1 ENSG00000288621.1 ENSG00000288631.1\n",
       "k4_0_ccs_ccs        0                 0                 0                \n",
       "m14_3_acs_acs_noinf 0                 0                 0                \n",
       "                    ENSG00000288637.1 ENSG00000288638.1 ENSG00000288642.1\n",
       "k4_0_ccs_ccs        0                 0                 0                \n",
       "m14_3_acs_acs_noinf 0                 0                 0                \n",
       "                    sample_id neutrophil_data\n",
       "k4_0_ccs_ccs        k4        1              \n",
       "m14_3_acs_acs_noinf m14.3     1              "
      ]
     },
     "metadata": {},
     "output_type": "display_data"
    }
   ],
   "source": [
    "head(neutrophil_data,2)"
   ]
  },
  {
   "cell_type": "code",
   "execution_count": 279,
   "id": "e01c5288-b250-4b17-b0cc-ecaeb7a0767f",
   "metadata": {},
   "outputs": [],
   "source": [
    "# unique(unique_neutrophil_data_comp$value_type) # one row per data transformation type - OLD"
   ]
  },
  {
   "cell_type": "code",
   "execution_count": 280,
   "id": "9477e100-ed74-4f4b-affe-742d66b11052",
   "metadata": {},
   "outputs": [],
   "source": [
    "## Info LS: Library Size normalized Read Counts"
   ]
  },
  {
   "cell_type": "code",
   "execution_count": 281,
   "id": "e9c007e6-8843-45a1-a780-34fd8f5a1ed6",
   "metadata": {},
   "outputs": [
    {
     "data": {
      "text/html": [
       "121"
      ],
      "text/latex": [
       "121"
      ],
      "text/markdown": [
       "121"
      ],
      "text/plain": [
       "[1] 121"
      ]
     },
     "metadata": {},
     "output_type": "display_data"
    }
   ],
   "source": [
    "nrow(neutrophil_data)  # 121 matchable sample-ids"
   ]
  },
  {
   "cell_type": "code",
   "execution_count": 282,
   "id": "58df268d-05f0-4ca1-a804-f5e6104f7af4",
   "metadata": {},
   "outputs": [],
   "source": [
    "write.csv(neutrophil_data, paste0(result_path, '/00_Data_Overview/Prepared_Neutrophil_Data.csv'))"
   ]
  },
  {
   "cell_type": "code",
   "execution_count": 283,
   "id": "2ba30191-7ab9-45d6-b91b-6552d1a1079a",
   "metadata": {},
   "outputs": [],
   "source": [
    "### Prepared proteomic data"
   ]
  },
  {
   "cell_type": "code",
   "execution_count": 284,
   "id": "2bf277b3-9b4b-4b6c-bf9a-4b71aa041638",
   "metadata": {},
   "outputs": [
    {
     "data": {
      "text/html": [
       "<table class=\"dataframe\">\n",
       "<caption>A data.frame: 2 × 492</caption>\n",
       "<thead>\n",
       "\t<tr><th></th><th scope=col>SERPINA1_A0A024R6I7</th><th scope=col>IGLV4.69_A0A075B6H9</th><th scope=col>IGLV8.61_A0A075B6I0</th><th scope=col>IGLV4.60_A0A075B6I1</th><th scope=col>IGLV10.54_A0A075B6I4</th><th scope=col>IGLV7.46_A0A075B6I9</th><th scope=col>IGLV2.18_A0A075B6J9</th><th scope=col>IGLV3.16_A0A075B6K0</th><th scope=col>IGLV3.12_A0A075B6K2</th><th scope=col>IGLV3.10_A0A075B6K4</th><th scope=col>⋯</th><th scope=col>MINPP1_Q9UNW1</th><th scope=col>TLN1_Q9Y490</th><th scope=col>ANGPTL3_Q9Y5C1</th><th scope=col>LYVE1_Q9Y5Y7</th><th scope=col>FCGBP_Q9Y6R7</th><th scope=col>COLEC10_Q9Y6Z7</th><th scope=col>IGHV3OR16.9_S4R460</th><th scope=col>APOA2_V9GYM3</th><th scope=col>sample_id</th><th scope=col>proteomics_data</th></tr>\n",
       "\t<tr><th></th><th scope=col>&lt;dbl&gt;</th><th scope=col>&lt;dbl&gt;</th><th scope=col>&lt;dbl&gt;</th><th scope=col>&lt;dbl&gt;</th><th scope=col>&lt;dbl&gt;</th><th scope=col>&lt;dbl&gt;</th><th scope=col>&lt;dbl&gt;</th><th scope=col>&lt;dbl&gt;</th><th scope=col>&lt;dbl&gt;</th><th scope=col>&lt;dbl&gt;</th><th scope=col>⋯</th><th scope=col>&lt;dbl&gt;</th><th scope=col>&lt;dbl&gt;</th><th scope=col>&lt;dbl&gt;</th><th scope=col>&lt;dbl&gt;</th><th scope=col>&lt;dbl&gt;</th><th scope=col>&lt;dbl&gt;</th><th scope=col>&lt;dbl&gt;</th><th scope=col>&lt;dbl&gt;</th><th scope=col>&lt;chr&gt;</th><th scope=col>&lt;dbl&gt;</th></tr>\n",
       "</thead>\n",
       "<tbody>\n",
       "\t<tr><th scope=row>M2.3_P10.2</th><td>-1.663380</td><td>-2.414588</td><td>1.467756</td><td>-6.164178</td><td>-1.858412</td><td>-2.588001</td><td>2.128858</td><td>-0.110549</td><td>1.968863</td><td>2.523862</td><td>⋯</td><td> 4.3852723</td><td>-2.882139</td><td>-6.1443596</td><td>-4.26206</td><td> 0.1977374</td><td>-1.653755</td><td>6.184887</td><td>4.235612</td><td>m2.3</td><td>1</td></tr>\n",
       "\t<tr><th scope=row>M5.1_P1</th><td> 3.744514</td><td>-2.672991</td><td>2.308556</td><td>-5.999634</td><td>-3.812528</td><td>-2.425649</td><td>1.186534</td><td>-2.204914</td><td>1.172303</td><td>1.799312</td><td>⋯</td><td>-0.5717449</td><td>-3.766868</td><td> 0.4187132</td><td>-5.92088</td><td>-0.1863114</td><td>-1.655054</td><td>6.121172</td><td>4.837075</td><td>m5.1</td><td>1</td></tr>\n",
       "</tbody>\n",
       "</table>\n"
      ],
      "text/latex": [
       "A data.frame: 2 × 492\n",
       "\\begin{tabular}{r|lllllllllllllllllllll}\n",
       "  & SERPINA1\\_A0A024R6I7 & IGLV4.69\\_A0A075B6H9 & IGLV8.61\\_A0A075B6I0 & IGLV4.60\\_A0A075B6I1 & IGLV10.54\\_A0A075B6I4 & IGLV7.46\\_A0A075B6I9 & IGLV2.18\\_A0A075B6J9 & IGLV3.16\\_A0A075B6K0 & IGLV3.12\\_A0A075B6K2 & IGLV3.10\\_A0A075B6K4 & ⋯ & MINPP1\\_Q9UNW1 & TLN1\\_Q9Y490 & ANGPTL3\\_Q9Y5C1 & LYVE1\\_Q9Y5Y7 & FCGBP\\_Q9Y6R7 & COLEC10\\_Q9Y6Z7 & IGHV3OR16.9\\_S4R460 & APOA2\\_V9GYM3 & sample\\_id & proteomics\\_data\\\\\n",
       "  & <dbl> & <dbl> & <dbl> & <dbl> & <dbl> & <dbl> & <dbl> & <dbl> & <dbl> & <dbl> & ⋯ & <dbl> & <dbl> & <dbl> & <dbl> & <dbl> & <dbl> & <dbl> & <dbl> & <chr> & <dbl>\\\\\n",
       "\\hline\n",
       "\tM2.3\\_P10.2 & -1.663380 & -2.414588 & 1.467756 & -6.164178 & -1.858412 & -2.588001 & 2.128858 & -0.110549 & 1.968863 & 2.523862 & ⋯ &  4.3852723 & -2.882139 & -6.1443596 & -4.26206 &  0.1977374 & -1.653755 & 6.184887 & 4.235612 & m2.3 & 1\\\\\n",
       "\tM5.1\\_P1 &  3.744514 & -2.672991 & 2.308556 & -5.999634 & -3.812528 & -2.425649 & 1.186534 & -2.204914 & 1.172303 & 1.799312 & ⋯ & -0.5717449 & -3.766868 &  0.4187132 & -5.92088 & -0.1863114 & -1.655054 & 6.121172 & 4.837075 & m5.1 & 1\\\\\n",
       "\\end{tabular}\n"
      ],
      "text/markdown": [
       "\n",
       "A data.frame: 2 × 492\n",
       "\n",
       "| <!--/--> | SERPINA1_A0A024R6I7 &lt;dbl&gt; | IGLV4.69_A0A075B6H9 &lt;dbl&gt; | IGLV8.61_A0A075B6I0 &lt;dbl&gt; | IGLV4.60_A0A075B6I1 &lt;dbl&gt; | IGLV10.54_A0A075B6I4 &lt;dbl&gt; | IGLV7.46_A0A075B6I9 &lt;dbl&gt; | IGLV2.18_A0A075B6J9 &lt;dbl&gt; | IGLV3.16_A0A075B6K0 &lt;dbl&gt; | IGLV3.12_A0A075B6K2 &lt;dbl&gt; | IGLV3.10_A0A075B6K4 &lt;dbl&gt; | ⋯ ⋯ | MINPP1_Q9UNW1 &lt;dbl&gt; | TLN1_Q9Y490 &lt;dbl&gt; | ANGPTL3_Q9Y5C1 &lt;dbl&gt; | LYVE1_Q9Y5Y7 &lt;dbl&gt; | FCGBP_Q9Y6R7 &lt;dbl&gt; | COLEC10_Q9Y6Z7 &lt;dbl&gt; | IGHV3OR16.9_S4R460 &lt;dbl&gt; | APOA2_V9GYM3 &lt;dbl&gt; | sample_id &lt;chr&gt; | proteomics_data &lt;dbl&gt; |\n",
       "|---|---|---|---|---|---|---|---|---|---|---|---|---|---|---|---|---|---|---|---|---|---|\n",
       "| M2.3_P10.2 | -1.663380 | -2.414588 | 1.467756 | -6.164178 | -1.858412 | -2.588001 | 2.128858 | -0.110549 | 1.968863 | 2.523862 | ⋯ |  4.3852723 | -2.882139 | -6.1443596 | -4.26206 |  0.1977374 | -1.653755 | 6.184887 | 4.235612 | m2.3 | 1 |\n",
       "| M5.1_P1 |  3.744514 | -2.672991 | 2.308556 | -5.999634 | -3.812528 | -2.425649 | 1.186534 | -2.204914 | 1.172303 | 1.799312 | ⋯ | -0.5717449 | -3.766868 |  0.4187132 | -5.92088 | -0.1863114 | -1.655054 | 6.121172 | 4.837075 | m5.1 | 1 |\n",
       "\n"
      ],
      "text/plain": [
       "           SERPINA1_A0A024R6I7 IGLV4.69_A0A075B6H9 IGLV8.61_A0A075B6I0\n",
       "M2.3_P10.2 -1.663380           -2.414588           1.467756           \n",
       "M5.1_P1     3.744514           -2.672991           2.308556           \n",
       "           IGLV4.60_A0A075B6I1 IGLV10.54_A0A075B6I4 IGLV7.46_A0A075B6I9\n",
       "M2.3_P10.2 -6.164178           -1.858412            -2.588001          \n",
       "M5.1_P1    -5.999634           -3.812528            -2.425649          \n",
       "           IGLV2.18_A0A075B6J9 IGLV3.16_A0A075B6K0 IGLV3.12_A0A075B6K2\n",
       "M2.3_P10.2 2.128858            -0.110549           1.968863           \n",
       "M5.1_P1    1.186534            -2.204914           1.172303           \n",
       "           IGLV3.10_A0A075B6K4 ⋯ MINPP1_Q9UNW1 TLN1_Q9Y490 ANGPTL3_Q9Y5C1\n",
       "M2.3_P10.2 2.523862            ⋯  4.3852723    -2.882139   -6.1443596    \n",
       "M5.1_P1    1.799312            ⋯ -0.5717449    -3.766868    0.4187132    \n",
       "           LYVE1_Q9Y5Y7 FCGBP_Q9Y6R7 COLEC10_Q9Y6Z7 IGHV3OR16.9_S4R460\n",
       "M2.3_P10.2 -4.26206      0.1977374   -1.653755      6.184887          \n",
       "M5.1_P1    -5.92088     -0.1863114   -1.655054      6.121172          \n",
       "           APOA2_V9GYM3 sample_id proteomics_data\n",
       "M2.3_P10.2 4.235612     m2.3      1              \n",
       "M5.1_P1    4.837075     m5.1      1              "
      ]
     },
     "metadata": {},
     "output_type": "display_data"
    }
   ],
   "source": [
    "head(proteomics,2)"
   ]
  },
  {
   "cell_type": "code",
   "execution_count": 285,
   "id": "9acb97ef-421e-46b9-b441-4eddaeeb52c8",
   "metadata": {},
   "outputs": [
    {
     "data": {
      "text/html": [
       "119"
      ],
      "text/latex": [
       "119"
      ],
      "text/markdown": [
       "119"
      ],
      "text/plain": [
       "[1] 119"
      ]
     },
     "metadata": {},
     "output_type": "display_data"
    }
   ],
   "source": [
    "nrow(proteomics) # 119 matchable sample-ids"
   ]
  },
  {
   "cell_type": "code",
   "execution_count": 286,
   "id": "14333b7f-3372-4525-ad8c-81c679798db7",
   "metadata": {},
   "outputs": [],
   "source": [
    "write.csv(proteomics, paste0(result_path, '/00_Data_Overview/Prepared_Proteomic_Data.csv'))"
   ]
  },
  {
   "cell_type": "markdown",
   "id": "6997a181-04ff-415c-8eca-c97713f66af9",
   "metadata": {},
   "source": [
    "# Save sample data for paper supplementary table"
   ]
  },
  {
   "cell_type": "code",
   "execution_count": 289,
   "id": "0e45099e-fe00-419b-b496-f12401a7f628",
   "metadata": {},
   "outputs": [
    {
     "data": {
      "text/html": [
       "<style>\n",
       ".list-inline {list-style: none; margin:0; padding: 0}\n",
       ".list-inline>li {display: inline-block}\n",
       ".list-inline>li:not(:last-child)::after {content: \"\\00b7\"; padding: 0 .5ex}\n",
       "</style>\n",
       "<ol class=list-inline><li>'sample_id'</li><li>'sample'</li><li>'id'</li><li>'measurement'</li><li>'sc_rna_seq_data'</li><li>'age'</li><li>'sex'</li><li>'classification'</li><li>'group'</li><li>'meta_data'</li><li>'ef_classification_data'</li><li>'delta_ef_value_class'</li><li>'clinical_data'</li><li>'cytokine_data'</li><li>'neutrophil_data'</li><li>'proteomics_data'</li></ol>\n"
      ],
      "text/latex": [
       "\\begin{enumerate*}\n",
       "\\item 'sample\\_id'\n",
       "\\item 'sample'\n",
       "\\item 'id'\n",
       "\\item 'measurement'\n",
       "\\item 'sc\\_rna\\_seq\\_data'\n",
       "\\item 'age'\n",
       "\\item 'sex'\n",
       "\\item 'classification'\n",
       "\\item 'group'\n",
       "\\item 'meta\\_data'\n",
       "\\item 'ef\\_classification\\_data'\n",
       "\\item 'delta\\_ef\\_value\\_class'\n",
       "\\item 'clinical\\_data'\n",
       "\\item 'cytokine\\_data'\n",
       "\\item 'neutrophil\\_data'\n",
       "\\item 'proteomics\\_data'\n",
       "\\end{enumerate*}\n"
      ],
      "text/markdown": [
       "1. 'sample_id'\n",
       "2. 'sample'\n",
       "3. 'id'\n",
       "4. 'measurement'\n",
       "5. 'sc_rna_seq_data'\n",
       "6. 'age'\n",
       "7. 'sex'\n",
       "8. 'classification'\n",
       "9. 'group'\n",
       "10. 'meta_data'\n",
       "11. 'ef_classification_data'\n",
       "12. 'delta_ef_value_class'\n",
       "13. 'clinical_data'\n",
       "14. 'cytokine_data'\n",
       "15. 'neutrophil_data'\n",
       "16. 'proteomics_data'\n",
       "\n",
       "\n"
      ],
      "text/plain": [
       " [1] \"sample_id\"              \"sample\"                 \"id\"                    \n",
       " [4] \"measurement\"            \"sc_rna_seq_data\"        \"age\"                   \n",
       " [7] \"sex\"                    \"classification\"         \"group\"                 \n",
       "[10] \"meta_data\"              \"ef_classification_data\" \"delta_ef_value_class\"  \n",
       "[13] \"clinical_data\"          \"cytokine_data\"          \"neutrophil_data\"       \n",
       "[16] \"proteomics_data\"       "
      ]
     },
     "metadata": {},
     "output_type": "display_data"
    }
   ],
   "source": [
    "colnames(all_samples_info)"
   ]
  },
  {
   "cell_type": "code",
   "execution_count": 290,
   "id": "2f01e2d3-72fb-40f0-b02b-84ecba79a71c",
   "metadata": {},
   "outputs": [
    {
     "data": {
      "text/html": [
       "<style>\n",
       ".list-inline {list-style: none; margin:0; padding: 0}\n",
       ".list-inline>li {display: inline-block}\n",
       ".list-inline>li:not(:last-child)::after {content: \"\\00b7\"; padding: 0 .5ex}\n",
       "</style>\n",
       "<ol class=list-inline><li>'sample_id'</li><li>'sample'</li><li>'id'</li><li>'measurement'</li><li>'library'</li><li>'id.y'</li><li>'name'</li><li>'read'</li><li>'pattern'</li><li>'sequence'</li><li>'feature_type'</li><li>'X'</li><li>'in_sample'</li><li>'measurement_tp'</li><li>'sc_rna_seq_data'</li><li>'age'</li><li>'sex'</li><li>'classification'</li><li>'group'</li><li>'meta_data'</li><li>'delta_ef_value_group'</li><li>'delta_ef_value'</li><li>'delta_ef_value_class'</li><li>'ef_classification_data'</li><li>'CK'</li><li>'CK_MB'</li><li>'Troponin'</li><li>'CRP'</li><li>'clinical_data'</li></ol>\n"
      ],
      "text/latex": [
       "\\begin{enumerate*}\n",
       "\\item 'sample\\_id'\n",
       "\\item 'sample'\n",
       "\\item 'id'\n",
       "\\item 'measurement'\n",
       "\\item 'library'\n",
       "\\item 'id.y'\n",
       "\\item 'name'\n",
       "\\item 'read'\n",
       "\\item 'pattern'\n",
       "\\item 'sequence'\n",
       "\\item 'feature\\_type'\n",
       "\\item 'X'\n",
       "\\item 'in\\_sample'\n",
       "\\item 'measurement\\_tp'\n",
       "\\item 'sc\\_rna\\_seq\\_data'\n",
       "\\item 'age'\n",
       "\\item 'sex'\n",
       "\\item 'classification'\n",
       "\\item 'group'\n",
       "\\item 'meta\\_data'\n",
       "\\item 'delta\\_ef\\_value\\_group'\n",
       "\\item 'delta\\_ef\\_value'\n",
       "\\item 'delta\\_ef\\_value\\_class'\n",
       "\\item 'ef\\_classification\\_data'\n",
       "\\item 'CK'\n",
       "\\item 'CK\\_MB'\n",
       "\\item 'Troponin'\n",
       "\\item 'CRP'\n",
       "\\item 'clinical\\_data'\n",
       "\\end{enumerate*}\n"
      ],
      "text/markdown": [
       "1. 'sample_id'\n",
       "2. 'sample'\n",
       "3. 'id'\n",
       "4. 'measurement'\n",
       "5. 'library'\n",
       "6. 'id.y'\n",
       "7. 'name'\n",
       "8. 'read'\n",
       "9. 'pattern'\n",
       "10. 'sequence'\n",
       "11. 'feature_type'\n",
       "12. 'X'\n",
       "13. 'in_sample'\n",
       "14. 'measurement_tp'\n",
       "15. 'sc_rna_seq_data'\n",
       "16. 'age'\n",
       "17. 'sex'\n",
       "18. 'classification'\n",
       "19. 'group'\n",
       "20. 'meta_data'\n",
       "21. 'delta_ef_value_group'\n",
       "22. 'delta_ef_value'\n",
       "23. 'delta_ef_value_class'\n",
       "24. 'ef_classification_data'\n",
       "25. 'CK'\n",
       "26. 'CK_MB'\n",
       "27. 'Troponin'\n",
       "28. 'CRP'\n",
       "29. 'clinical_data'\n",
       "\n",
       "\n"
      ],
      "text/plain": [
       " [1] \"sample_id\"              \"sample\"                 \"id\"                    \n",
       " [4] \"measurement\"            \"library\"                \"id.y\"                  \n",
       " [7] \"name\"                   \"read\"                   \"pattern\"               \n",
       "[10] \"sequence\"               \"feature_type\"           \"X\"                     \n",
       "[13] \"in_sample\"              \"measurement_tp\"         \"sc_rna_seq_data\"       \n",
       "[16] \"age\"                    \"sex\"                    \"classification\"        \n",
       "[19] \"group\"                  \"meta_data\"              \"delta_ef_value_group\"  \n",
       "[22] \"delta_ef_value\"         \"delta_ef_value_class\"   \"ef_classification_data\"\n",
       "[25] \"CK\"                     \"CK_MB\"                  \"Troponin\"              \n",
       "[28] \"CRP\"                    \"clinical_data\"         "
      ]
     },
     "metadata": {},
     "output_type": "display_data"
    }
   ],
   "source": [
    "colnames(sample_data)"
   ]
  },
  {
   "cell_type": "code",
   "execution_count": 291,
   "id": "c8bf686c-a31b-44d7-8502-2fea1c627054",
   "metadata": {},
   "outputs": [
    {
     "data": {
      "text/html": [
       "<style>\n",
       ".list-inline {list-style: none; margin:0; padding: 0}\n",
       ".list-inline>li {display: inline-block}\n",
       ".list-inline>li:not(:last-child)::after {content: \"\\00b7\"; padding: 0 .5ex}\n",
       "</style>\n",
       "<ol class=list-inline><li>'vollstaendiger_ausschluss'</li><li>'ccs'</li><li>'koronarsklerose'</li><li>'acs_subacute'</li><li>'acs_w_infection'</li><li>'acs_w_o_infection'</li></ol>\n"
      ],
      "text/latex": [
       "\\begin{enumerate*}\n",
       "\\item 'vollstaendiger\\_ausschluss'\n",
       "\\item 'ccs'\n",
       "\\item 'koronarsklerose'\n",
       "\\item 'acs\\_subacute'\n",
       "\\item 'acs\\_w\\_infection'\n",
       "\\item 'acs\\_w\\_o\\_infection'\n",
       "\\end{enumerate*}\n"
      ],
      "text/markdown": [
       "1. 'vollstaendiger_ausschluss'\n",
       "2. 'ccs'\n",
       "3. 'koronarsklerose'\n",
       "4. 'acs_subacute'\n",
       "5. 'acs_w_infection'\n",
       "6. 'acs_w_o_infection'\n",
       "\n",
       "\n"
      ],
      "text/plain": [
       "[1] \"vollstaendiger_ausschluss\" \"ccs\"                      \n",
       "[3] \"koronarsklerose\"           \"acs_subacute\"             \n",
       "[5] \"acs_w_infection\"           \"acs_w_o_infection\"        "
      ]
     },
     "metadata": {},
     "output_type": "display_data"
    }
   ],
   "source": [
    "unique(sample_data$classification)"
   ]
  },
  {
   "cell_type": "code",
   "execution_count": 292,
   "id": "619b0d71-4b42-4554-b9b4-26586367159d",
   "metadata": {},
   "outputs": [
    {
     "data": {
      "text/html": [
       "<style>\n",
       ".list-inline {list-style: none; margin:0; padding: 0}\n",
       ".list-inline>li {display: inline-block}\n",
       ".list-inline>li:not(:last-child)::after {content: \"\\00b7\"; padding: 0 .5ex}\n",
       "</style>\n",
       "<ol class=list-inline><li>NA</li><li>'bad'</li><li>'good'</li><li>'intermediate'</li></ol>\n"
      ],
      "text/latex": [
       "\\begin{enumerate*}\n",
       "\\item NA\n",
       "\\item 'bad'\n",
       "\\item 'good'\n",
       "\\item 'intermediate'\n",
       "\\end{enumerate*}\n"
      ],
      "text/markdown": [
       "1. NA\n",
       "2. 'bad'\n",
       "3. 'good'\n",
       "4. 'intermediate'\n",
       "\n",
       "\n"
      ],
      "text/plain": [
       "[1] NA             \"bad\"          \"good\"         \"intermediate\""
      ]
     },
     "metadata": {},
     "output_type": "display_data"
    }
   ],
   "source": [
    "unique(sample_data$delta_ef_value_class)"
   ]
  },
  {
   "cell_type": "code",
   "execution_count": 293,
   "id": "a711bc04-9c6b-4dba-a533-c4c5d18e4343",
   "metadata": {},
   "outputs": [],
   "source": [
    "share_sample_data = sample_data[,c('sample_id', 'sample', 'id', 'measurement', 'library', 'id.y','read', 'pattern', 'sequence','age', 'sex','classification', 'group', 'delta_ef_value_group', 'delta_ef_value', 'delta_ef_value_class', 'CK', 'CK_MB', 'Troponin', 'CRP')] "
   ]
  },
  {
   "cell_type": "code",
   "execution_count": 294,
   "id": "f9fcbcdb-cdb1-4917-82c4-7a7b1ccfb1ce",
   "metadata": {},
   "outputs": [],
   "source": [
    "supp_sample_data = sample_data[,c('sample_id', 'sample', 'id', 'measurement', 'library', 'id.y','read', 'pattern', 'sequence','age', 'sex','classification', 'group', 'delta_ef_value_group', 'delta_ef_value', 'delta_ef_value_class')] "
   ]
  },
  {
   "cell_type": "code",
   "execution_count": 295,
   "id": "f664ee68-2231-402e-bec3-2449725e8d29",
   "metadata": {},
   "outputs": [],
   "source": [
    "colnames(supp_sample_data) = c('sample_id', 'sample', 'id', 'measurement', 'library', 'hashtag', 'read', 'pattern', 'sequence', 'age', 'sex', 'classification', 'group', 'delta_ef_value_group', 'delta_ef_value', 'delta_ef_value_class') "
   ]
  },
  {
   "cell_type": "code",
   "execution_count": 296,
   "id": "d41c7660-f295-4c44-b467-a593fa1caf7f",
   "metadata": {},
   "outputs": [],
   "source": [
    "colnames(share_sample_data) = c('sample_id', 'sample', 'id', 'measurement', 'library', 'hashtag', 'read', 'pattern', 'sequence', 'age', 'sex', 'classification', 'group', 'delta_ef_value_group', 'delta_ef_value', 'delta_ef_value_class',  'CK', 'CK_MB', 'Troponin', 'CRP') "
   ]
  },
  {
   "cell_type": "code",
   "execution_count": 300,
   "id": "a20fd2b0-9f60-4264-8f24-24adbf709eef",
   "metadata": {},
   "outputs": [
    {
     "data": {
      "text/html": [
       "149"
      ],
      "text/latex": [
       "149"
      ],
      "text/markdown": [
       "149"
      ],
      "text/plain": [
       "[1] 149"
      ]
     },
     "metadata": {},
     "output_type": "display_data"
    }
   ],
   "source": [
    "nrow(supp_sample_data)"
   ]
  },
  {
   "cell_type": "code",
   "execution_count": 301,
   "id": "ed72a2b1-5b34-42d7-b6d2-1050da98701f",
   "metadata": {},
   "outputs": [
    {
     "data": {
      "text/html": [
       "146"
      ],
      "text/latex": [
       "146"
      ],
      "text/markdown": [
       "146"
      ],
      "text/plain": [
       "[1] 146"
      ]
     },
     "metadata": {},
     "output_type": "display_data"
    }
   ],
   "source": [
    "nrow(all_samples_info)"
   ]
  },
  {
   "cell_type": "code",
   "execution_count": 302,
   "id": "69c161d0-8f5d-42d3-9924-19640d32bd4b",
   "metadata": {},
   "outputs": [],
   "source": [
    "supp_sample_data_combined = merge(supp_sample_data, all_samples_info[, c('sample_id', 'sc_rna_seq_data', 'cytokine_data', 'neutrophil_data', 'proteomics_data')], all.x = TRUE, by = 'sample_id')\n",
    "share_sample_data_combined = merge(share_sample_data, all_samples_info[, c('sample_id', 'sc_rna_seq_data', 'cytokine_data', 'neutrophil_data', 'proteomics_data')], all.x = TRUE, by = 'sample_id')"
   ]
  },
  {
   "cell_type": "code",
   "execution_count": 303,
   "id": "43d473dc-58c6-40bf-973b-0c76873dd3d3",
   "metadata": {},
   "outputs": [
    {
     "data": {
      "text/html": [
       "149"
      ],
      "text/latex": [
       "149"
      ],
      "text/markdown": [
       "149"
      ],
      "text/plain": [
       "[1] 149"
      ]
     },
     "metadata": {},
     "output_type": "display_data"
    }
   ],
   "source": [
    "nrow(supp_sample_data_combined)"
   ]
  },
  {
   "cell_type": "code",
   "execution_count": 304,
   "id": "d0a4bfea-23d5-41a0-bf8f-a00db3b3fbf9",
   "metadata": {},
   "outputs": [
    {
     "data": {
      "text/html": [
       "149"
      ],
      "text/latex": [
       "149"
      ],
      "text/markdown": [
       "149"
      ],
      "text/plain": [
       "[1] 149"
      ]
     },
     "metadata": {},
     "output_type": "display_data"
    }
   ],
   "source": [
    "nrow(share_sample_data_combined)"
   ]
  },
  {
   "cell_type": "code",
   "execution_count": 307,
   "id": "81895b54-71f5-4df0-bbec-83d28b068fc1",
   "metadata": {},
   "outputs": [
    {
     "data": {
      "text/html": [
       "<style>\n",
       ".list-inline {list-style: none; margin:0; padding: 0}\n",
       ".list-inline>li {display: inline-block}\n",
       ".list-inline>li:not(:last-child)::after {content: \"\\00b7\"; padding: 0 .5ex}\n",
       "</style>\n",
       "<ol class=list-inline><li>'sample_id'</li><li>'sample'</li><li>'id'</li><li>'measurement'</li><li>'library'</li><li>'hashtag'</li><li>'read'</li><li>'pattern'</li><li>'sequence'</li><li>'age'</li><li>'sex'</li><li>'classification'</li><li>'group'</li><li>'delta_ef_value_group'</li><li>'delta_ef_value'</li><li>'delta_ef_value_class'</li><li>'CK'</li><li>'CK_MB'</li><li>'Troponin'</li><li>'CRP'</li><li>'sc_rna_seq_data'</li><li>'cytokine_data'</li><li>'neutrophil_data'</li><li>'proteomics_data'</li></ol>\n"
      ],
      "text/latex": [
       "\\begin{enumerate*}\n",
       "\\item 'sample\\_id'\n",
       "\\item 'sample'\n",
       "\\item 'id'\n",
       "\\item 'measurement'\n",
       "\\item 'library'\n",
       "\\item 'hashtag'\n",
       "\\item 'read'\n",
       "\\item 'pattern'\n",
       "\\item 'sequence'\n",
       "\\item 'age'\n",
       "\\item 'sex'\n",
       "\\item 'classification'\n",
       "\\item 'group'\n",
       "\\item 'delta\\_ef\\_value\\_group'\n",
       "\\item 'delta\\_ef\\_value'\n",
       "\\item 'delta\\_ef\\_value\\_class'\n",
       "\\item 'CK'\n",
       "\\item 'CK\\_MB'\n",
       "\\item 'Troponin'\n",
       "\\item 'CRP'\n",
       "\\item 'sc\\_rna\\_seq\\_data'\n",
       "\\item 'cytokine\\_data'\n",
       "\\item 'neutrophil\\_data'\n",
       "\\item 'proteomics\\_data'\n",
       "\\end{enumerate*}\n"
      ],
      "text/markdown": [
       "1. 'sample_id'\n",
       "2. 'sample'\n",
       "3. 'id'\n",
       "4. 'measurement'\n",
       "5. 'library'\n",
       "6. 'hashtag'\n",
       "7. 'read'\n",
       "8. 'pattern'\n",
       "9. 'sequence'\n",
       "10. 'age'\n",
       "11. 'sex'\n",
       "12. 'classification'\n",
       "13. 'group'\n",
       "14. 'delta_ef_value_group'\n",
       "15. 'delta_ef_value'\n",
       "16. 'delta_ef_value_class'\n",
       "17. 'CK'\n",
       "18. 'CK_MB'\n",
       "19. 'Troponin'\n",
       "20. 'CRP'\n",
       "21. 'sc_rna_seq_data'\n",
       "22. 'cytokine_data'\n",
       "23. 'neutrophil_data'\n",
       "24. 'proteomics_data'\n",
       "\n",
       "\n"
      ],
      "text/plain": [
       " [1] \"sample_id\"            \"sample\"               \"id\"                  \n",
       " [4] \"measurement\"          \"library\"              \"hashtag\"             \n",
       " [7] \"read\"                 \"pattern\"              \"sequence\"            \n",
       "[10] \"age\"                  \"sex\"                  \"classification\"      \n",
       "[13] \"group\"                \"delta_ef_value_group\" \"delta_ef_value\"      \n",
       "[16] \"delta_ef_value_class\" \"CK\"                   \"CK_MB\"               \n",
       "[19] \"Troponin\"             \"CRP\"                  \"sc_rna_seq_data\"     \n",
       "[22] \"cytokine_data\"        \"neutrophil_data\"      \"proteomics_data\"     "
      ]
     },
     "metadata": {},
     "output_type": "display_data"
    }
   ],
   "source": [
    "colnames(share_sample_data_combined)"
   ]
  },
  {
   "cell_type": "code",
   "execution_count": 329,
   "id": "b8e3bfac-ce57-47bd-a08e-e47c9aab30a2",
   "metadata": {},
   "outputs": [
    {
     "data": {
      "text/html": [
       "<table class=\"dataframe\">\n",
       "<caption>A tibble: 4 × 5</caption>\n",
       "<thead>\n",
       "\t<tr><th scope=col>delta_ef_value_group</th><th scope=col>amount</th><th scope=col>min_delta_ef</th><th scope=col>max_delta_ef</th><th scope=col>mean_delta_ef</th></tr>\n",
       "\t<tr><th scope=col>&lt;chr&gt;</th><th scope=col>&lt;int&gt;</th><th scope=col>&lt;dbl&gt;</th><th scope=col>&lt;dbl&gt;</th><th scope=col>&lt;dbl&gt;</th></tr>\n",
       "</thead>\n",
       "<tbody>\n",
       "\t<tr><td>x_greater_1</td><td> 7</td><td> 1.15</td><td>14.300</td><td> 4.385714</td></tr>\n",
       "\t<tr><td>x_smaller_0</td><td> 7</td><td>-2.50</td><td>-0.060</td><td>-1.146714</td></tr>\n",
       "\t<tr><td>x_smaller_1</td><td> 7</td><td> 0.00</td><td> 0.875</td><td> 0.395000</td></tr>\n",
       "\t<tr><td>NA         </td><td>41</td><td>   NA</td><td>    NA</td><td>       NA</td></tr>\n",
       "</tbody>\n",
       "</table>\n"
      ],
      "text/latex": [
       "A tibble: 4 × 5\n",
       "\\begin{tabular}{lllll}\n",
       " delta\\_ef\\_value\\_group & amount & min\\_delta\\_ef & max\\_delta\\_ef & mean\\_delta\\_ef\\\\\n",
       " <chr> & <int> & <dbl> & <dbl> & <dbl>\\\\\n",
       "\\hline\n",
       "\t x\\_greater\\_1 &  7 &  1.15 & 14.300 &  4.385714\\\\\n",
       "\t x\\_smaller\\_0 &  7 & -2.50 & -0.060 & -1.146714\\\\\n",
       "\t x\\_smaller\\_1 &  7 &  0.00 &  0.875 &  0.395000\\\\\n",
       "\t NA          & 41 &    NA &     NA &        NA\\\\\n",
       "\\end{tabular}\n"
      ],
      "text/markdown": [
       "\n",
       "A tibble: 4 × 5\n",
       "\n",
       "| delta_ef_value_group &lt;chr&gt; | amount &lt;int&gt; | min_delta_ef &lt;dbl&gt; | max_delta_ef &lt;dbl&gt; | mean_delta_ef &lt;dbl&gt; |\n",
       "|---|---|---|---|---|\n",
       "| x_greater_1 |  7 |  1.15 | 14.300 |  4.385714 |\n",
       "| x_smaller_0 |  7 | -2.50 | -0.060 | -1.146714 |\n",
       "| x_smaller_1 |  7 |  0.00 |  0.875 |  0.395000 |\n",
       "| NA          | 41 |    NA |     NA |        NA |\n",
       "\n"
      ],
      "text/plain": [
       "  delta_ef_value_group amount min_delta_ef max_delta_ef mean_delta_ef\n",
       "1 x_greater_1           7      1.15        14.300        4.385714    \n",
       "2 x_smaller_0           7     -2.50        -0.060       -1.146714    \n",
       "3 x_smaller_1           7      0.00         0.875        0.395000    \n",
       "4 NA                   41        NA            NA              NA    "
      ]
     },
     "metadata": {},
     "output_type": "display_data"
    }
   ],
   "source": [
    "unique(share_sample_data_combined[,c('sample', 'delta_ef_value_group', 'delta_ef_value')]) %>% group_by(  delta_ef_value_group) %>% summarise(\n",
    "    amount = n(),\n",
    "    min_delta_ef = min(delta_ef_value),\n",
    "    max_delta_ef = max(delta_ef_value),\n",
    "    mean_delta_ef = mean(delta_ef_value)\n",
    ")"
   ]
  },
  {
   "cell_type": "code",
   "execution_count": 335,
   "id": "e08cc8bc-001a-42dc-acb0-90092f9be07a",
   "metadata": {
    "collapsed": true,
    "jupyter": {
     "outputs_hidden": true
    },
    "tags": []
   },
   "outputs": [
    {
     "name": "stderr",
     "output_type": "stream",
     "text": [
      "Warning message in mean(as.numeric(CK_MB), na.rm = TRUE):\n",
      "“NAs introduced by coercion”\n",
      "Warning message in sd(as.numeric(CK_MB), na.rm = TRUE):\n",
      "“NAs introduced by coercion”\n",
      "Warning message in mean(as.numeric(CRP), na.rm = TRUE):\n",
      "“NAs introduced by coercion”\n",
      "Warning message in mean(as.numeric(CRP), na.rm = TRUE):\n",
      "“NAs introduced by coercion”\n",
      "Warning message in mean(as.numeric(CRP), na.rm = TRUE):\n",
      "“NAs introduced by coercion”\n",
      "Warning message in mean(as.numeric(CRP), na.rm = TRUE):\n",
      "“NAs introduced by coercion”\n",
      "Warning message in mean(as.numeric(CRP), na.rm = TRUE):\n",
      "“NAs introduced by coercion”\n",
      "Warning message in mean(as.numeric(CRP), na.rm = TRUE):\n",
      "“NAs introduced by coercion”\n",
      "Warning message in mean(as.numeric(CRP), na.rm = TRUE):\n",
      "“NAs introduced by coercion”\n",
      "Warning message in mean(as.numeric(CRP), na.rm = TRUE):\n",
      "“NAs introduced by coercion”\n",
      "Warning message in mean(as.numeric(CRP), na.rm = TRUE):\n",
      "“NAs introduced by coercion”\n",
      "Warning message in mean(as.numeric(CRP), na.rm = TRUE):\n",
      "“NAs introduced by coercion”\n",
      "Warning message in mean(as.numeric(CRP), na.rm = TRUE):\n",
      "“NAs introduced by coercion”\n",
      "Warning message in mean(as.numeric(CRP), na.rm = TRUE):\n",
      "“NAs introduced by coercion”\n",
      "Warning message in sd(as.numeric(CRP), na.rm = TRUE):\n",
      "“NAs introduced by coercion”\n",
      "Warning message in sd(as.numeric(CRP), na.rm = TRUE):\n",
      "“NAs introduced by coercion”\n",
      "Warning message in sd(as.numeric(CRP), na.rm = TRUE):\n",
      "“NAs introduced by coercion”\n",
      "Warning message in sd(as.numeric(CRP), na.rm = TRUE):\n",
      "“NAs introduced by coercion”\n",
      "Warning message in sd(as.numeric(CRP), na.rm = TRUE):\n",
      "“NAs introduced by coercion”\n",
      "Warning message in sd(as.numeric(CRP), na.rm = TRUE):\n",
      "“NAs introduced by coercion”\n",
      "Warning message in sd(as.numeric(CRP), na.rm = TRUE):\n",
      "“NAs introduced by coercion”\n",
      "Warning message in sd(as.numeric(CRP), na.rm = TRUE):\n",
      "“NAs introduced by coercion”\n",
      "Warning message in sd(as.numeric(CRP), na.rm = TRUE):\n",
      "“NAs introduced by coercion”\n",
      "Warning message in sd(as.numeric(CRP), na.rm = TRUE):\n",
      "“NAs introduced by coercion”\n",
      "Warning message in sd(as.numeric(CRP), na.rm = TRUE):\n",
      "“NAs introduced by coercion”\n",
      "Warning message in sd(as.numeric(CRP), na.rm = TRUE):\n",
      "“NAs introduced by coercion”\n",
      "\u001b[1m\u001b[22m`summarise()` has grouped output by 'measurement'. You can override using the\n",
      "`.groups` argument.\n"
     ]
    }
   ],
   "source": [
    "summary_data_group = unique(share_sample_data_combined[,c('sample', 'measurement', 'classification', 'CK', 'CK_MB', 'Troponin', 'CRP')]) %>% group_by(measurement,classification) %>% summarise(\n",
    "    mean_CK = mean(as.numeric(CK), na.rm = TRUE),\n",
    "    sd_CK = sd(as.numeric(CK), na.rm = TRUE),\n",
    "    mean_CK_MB = mean(as.numeric(CK_MB), na.rm = TRUE),\n",
    "    sd_CK_MB = sd(as.numeric(CK_MB), na.rm = TRUE),\n",
    "    mean_Troponin = mean(as.numeric(Troponin), na.rm = TRUE),\n",
    "    sd_Troponin = sd(as.numeric(Troponin), na.rm = TRUE),\n",
    "    mean_CRP = mean(as.numeric(CRP), na.rm = TRUE),\n",
    "    sd_CRP = sd(as.numeric(CRP), na.rm = TRUE),\n",
    "    amount = n()\n",
    ")\n",
    "    "
   ]
  },
  {
   "cell_type": "code",
   "execution_count": 578,
   "id": "49ecf7a1-2542-47fb-a836-f423db0d3bb5",
   "metadata": {},
   "outputs": [],
   "source": [
    "#supp_sample_data_combined[is.na(supp_sample_data_combined$proteomics_data),]"
   ]
  },
  {
   "cell_type": "code",
   "execution_count": 580,
   "id": "ab2b0af1-f471-439e-9bf9-7b3e687bc1d2",
   "metadata": {},
   "outputs": [],
   "source": [
    "write.csv(supp_sample_data_combined, paste0(result_path, '/Supplementary/SUPP_00_Sample_Meta_Data_Overview.csv'))"
   ]
  },
  {
   "cell_type": "code",
   "execution_count": 294,
   "id": "e318ad7e-8e8d-4a2a-8293-b87e80dd0b32",
   "metadata": {},
   "outputs": [],
   "source": [
    "write.csv(share_sample_data_combined, paste0(result_path, '/Data_Share/Sample_Data_Overview_and_Clinical_Data.csv'))"
   ]
  },
  {
   "cell_type": "code",
   "execution_count": null,
   "id": "6376d986-d912-4953-aec4-3aad7101416c",
   "metadata": {},
   "outputs": [],
   "source": []
  }
 ],
 "metadata": {
  "kernelspec": {
   "display_name": "R",
   "language": "R",
   "name": "ir"
  },
  "language_info": {
   "codemirror_mode": "r",
   "file_extension": ".r",
   "mimetype": "text/x-r-source",
   "name": "R",
   "pygments_lexer": "r",
   "version": "4.1.1"
  }
 },
 "nbformat": 4,
 "nbformat_minor": 5
}

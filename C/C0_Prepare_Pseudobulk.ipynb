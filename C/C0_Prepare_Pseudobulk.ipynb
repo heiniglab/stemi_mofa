{
 "cells": [
  {
   "cell_type": "code",
   "execution_count": 120,
   "id": "1632f901-cdb4-4ffc-8498-bb899c6bca6a",
   "metadata": {},
   "outputs": [],
   "source": [
    "# Load Seurat object and create pseudobulk for MOFA analysis"
   ]
  },
  {
   "cell_type": "markdown",
   "id": "786deb58-19af-4a6f-8565-9a368611f105",
   "metadata": {
    "tags": []
   },
   "source": [
    "#############################################\n",
    "# Prerequisites - Load Libraries"
   ]
  },
  {
   "cell_type": "code",
   "execution_count": 121,
   "id": "87cc68cf-bfa7-4377-bca1-7fd3ada13e34",
   "metadata": {
    "tags": []
   },
   "outputs": [],
   "source": [
    "source('MS0_Libraries.r')"
   ]
  },
  {
   "cell_type": "markdown",
   "id": "372814ca-7f2b-4f60-810e-664ce4208695",
   "metadata": {
    "tags": []
   },
   "source": [
    "###############################################\n",
    "# Preqrequisites Configurations & Parameters"
   ]
  },
  {
   "cell_type": "code",
   "execution_count": 122,
   "id": "2d4149a6-4ce5-4d39-bf24-2961d1723d4a",
   "metadata": {},
   "outputs": [],
   "source": [
    "data_path = '../data/current'"
   ]
  },
  {
   "cell_type": "code",
   "execution_count": 123,
   "id": "ec4afaf2-c5a3-47a6-8103-4b4c0ff38496",
   "metadata": {},
   "outputs": [],
   "source": [
    "result_path = '../results/current'"
   ]
  },
  {
   "cell_type": "code",
   "execution_count": 124,
   "id": "4cf8589f-4c50-4746-8fbe-778067b891c3",
   "metadata": {},
   "outputs": [
    {
     "data": {
      "text/html": [
       "'../data/current'"
      ],
      "text/latex": [
       "'../data/current'"
      ],
      "text/markdown": [
       "'../data/current'"
      ],
      "text/plain": [
       "[1] \"../data/current\""
      ]
     },
     "metadata": {},
     "output_type": "display_data"
    }
   ],
   "source": [
    "data_path"
   ]
  },
  {
   "cell_type": "code",
   "execution_count": 125,
   "id": "2651b465-ce87-4d85-bd0a-e26cfe2a6173",
   "metadata": {},
   "outputs": [],
   "source": [
    "libraries = c('L1', 'L2', 'L3', 'L4', 'L5', 'L6', 'L7', 'L8', 'L9', 'L10','L11', 'L12', 'L13', 'L14')"
   ]
  },
  {
   "cell_type": "markdown",
   "id": "5dea8679-c933-48ea-af8b-cf9d2cfc5b15",
   "metadata": {},
   "source": [
    "# Load Data "
   ]
  },
  {
   "cell_type": "markdown",
   "id": "b42a9566-612f-4e1f-b658-676b22e5e69e",
   "metadata": {
    "tags": []
   },
   "source": [
    "## Load Seurat object"
   ]
  },
  {
   "cell_type": "code",
   "execution_count": 126,
   "id": "bd4c90d4-0743-44f0-9b52-6ba8b4bec086",
   "metadata": {},
   "outputs": [],
   "source": [
    "### Raw data counts\n",
    "# Data was last modified in february, comes directly from B6 script where data from B3 script is loaded that was last modified in October\n",
    "# contains raw count matrix filtered on only Singlets for all genes (~19.000)\n",
    "# The aggregated dataset here is the input for the MOFA Version V29"
   ]
  },
  {
   "cell_type": "code",
   "execution_count": 127,
   "id": "342956a0-0375-4eb0-9286-143e403ff3b8",
   "metadata": {
    "tags": []
   },
   "outputs": [
    {
     "name": "stdout",
     "output_type": "stream",
     "text": [
      "[1] \"../data/current/analysis/B/B6_DE_Integrated_Singlet_processed_rna.h5seurat\"\n",
      "[1] \"2023-01-21 12:14:40 CET\"\n"
     ]
    },
    {
     "name": "stderr",
     "output_type": "stream",
     "text": [
      "Validating h5Seurat file\n",
      "\n",
      "Initializing RNA with data\n",
      "\n",
      "Adding counts for RNA\n",
      "\n",
      "Adding scale.data for RNA\n",
      "\n",
      "Adding feature-level metadata for RNA\n",
      "\n",
      "Adding command information\n",
      "\n",
      "Adding cell-level metadata\n",
      "\n"
     ]
    }
   ],
   "source": [
    "###### Load the generated seurat objects\n",
    "\n",
    "source_text = paste( data_path, '/analysis/B/B6_DE_Integrated_Singlet_processed_rna.h5seurat', sep = '')\n",
    "print(source_text)\n",
    "print(file.info(source_text)$mtime)\n",
    "rna_seurat_data = LoadH5Seurat(source_text, assays = \"RNA\", quietly = TRUE )\n"
   ]
  },
  {
   "cell_type": "code",
   "execution_count": 128,
   "id": "dd1870f3-078b-4d58-8457-7d9c09f5478b",
   "metadata": {},
   "outputs": [],
   "source": [
    "rna_seurat_data_raw = rna_seurat_data"
   ]
  },
  {
   "cell_type": "code",
   "execution_count": 129,
   "id": "7fae2287-f74c-4d54-b37f-b60d67b37d6e",
   "metadata": {},
   "outputs": [],
   "source": [
    "### Decide what to use as input"
   ]
  },
  {
   "cell_type": "code",
   "execution_count": 130,
   "id": "d47d85bf-25ac-412e-b2c2-2074397d3f5c",
   "metadata": {},
   "outputs": [],
   "source": [
    "rna_seurat_data = rna_seurat_data\n",
    "# Alternatives:\n",
    "# rna_seurat_data_raw\n",
    "# rna_seurat_data_mofa"
   ]
  },
  {
   "cell_type": "code",
   "execution_count": 131,
   "id": "44950318-d364-4f0b-a6c1-6e68cdb533f1",
   "metadata": {},
   "outputs": [],
   "source": [
    "### Further data checks"
   ]
  },
  {
   "cell_type": "code",
   "execution_count": 132,
   "id": "7a311fd6-d4e7-47e2-aefe-cf06f38f6692",
   "metadata": {},
   "outputs": [
    {
     "data": {
      "text/html": [
       "<style>\n",
       ".dl-inline {width: auto; margin:0; padding: 0}\n",
       ".dl-inline>dt, .dl-inline>dd {float: none; width: auto; display: inline-block}\n",
       ".dl-inline>dt::after {content: \":\\0020\"; padding-right: .5ex}\n",
       ".dl-inline>dt:not(:first-of-type) {padding-left: .5ex}\n",
       "</style><dl class=dl-inline><dt>AAACCCACATACAGGG-1-L1</dt><dd>3947</dd><dt>AAACCCACATGACTTG-1-L1</dt><dd>5870</dd><dt>AAACCCAGTCATCAGT-1-L1</dt><dd>3888</dd><dt>AAACCCAGTGGTAATA-1-L1</dt><dd>5094</dd><dt>AAACCCATCATCACAG-1-L1</dt><dd>17310</dd><dt>AAACCCATCGATGGAG-1-L1</dt><dd>4839</dd></dl>\n"
      ],
      "text/latex": [
       "\\begin{description*}\n",
       "\\item[AAACCCACATACAGGG-1-L1] 3947\n",
       "\\item[AAACCCACATGACTTG-1-L1] 5870\n",
       "\\item[AAACCCAGTCATCAGT-1-L1] 3888\n",
       "\\item[AAACCCAGTGGTAATA-1-L1] 5094\n",
       "\\item[AAACCCATCATCACAG-1-L1] 17310\n",
       "\\item[AAACCCATCGATGGAG-1-L1] 4839\n",
       "\\end{description*}\n"
      ],
      "text/markdown": [
       "AAACCCACATACAGGG-1-L1\n",
       ":   3947AAACCCACATGACTTG-1-L1\n",
       ":   5870AAACCCAGTCATCAGT-1-L1\n",
       ":   3888AAACCCAGTGGTAATA-1-L1\n",
       ":   5094AAACCCATCATCACAG-1-L1\n",
       ":   17310AAACCCATCGATGGAG-1-L1\n",
       ":   4839\n",
       "\n"
      ],
      "text/plain": [
       "AAACCCACATACAGGG-1-L1 AAACCCACATGACTTG-1-L1 AAACCCAGTCATCAGT-1-L1 \n",
       "                 3947                  5870                  3888 \n",
       "AAACCCAGTGGTAATA-1-L1 AAACCCATCATCACAG-1-L1 AAACCCATCGATGGAG-1-L1 \n",
       "                 5094                 17310                  4839 "
      ]
     },
     "metadata": {},
     "output_type": "display_data"
    }
   ],
   "source": [
    "head(colSums(x = rna_seurat_data, slot = \"counts\") )  # raw count values from original matrix"
   ]
  },
  {
   "cell_type": "code",
   "execution_count": 133,
   "id": "2f35ba7c-825a-41fc-a638-d0f986681bbc",
   "metadata": {
    "tags": []
   },
   "outputs": [],
   "source": [
    "# str(rna_seurat_data)"
   ]
  },
  {
   "cell_type": "code",
   "execution_count": 134,
   "id": "211d5ab2-560f-452e-b350-96c188f7c7c5",
   "metadata": {},
   "outputs": [
    {
     "data": {
      "text/html": [
       "<style>\n",
       ".dl-inline {width: auto; margin:0; padding: 0}\n",
       ".dl-inline>dt, .dl-inline>dd {float: none; width: auto; display: inline-block}\n",
       ".dl-inline>dt::after {content: \":\\0020\"; padding-right: .5ex}\n",
       ".dl-inline>dt:not(:first-of-type) {padding-left: .5ex}\n",
       "</style><dl class=dl-inline><dt>AAACCCACATACAGGG-1-L1</dt><dd>1574</dd><dt>AAACCCACATGACTTG-1-L1</dt><dd>379</dd><dt>AAACCCAGTCATCAGT-1-L1</dt><dd>421</dd><dt>AAACCCAGTGGTAATA-1-L1</dt><dd>478</dd><dt>AAACCCATCATCACAG-1-L1</dt><dd>851</dd><dt>AAACCCATCGATGGAG-1-L1</dt><dd>473</dd></dl>\n"
      ],
      "text/latex": [
       "\\begin{description*}\n",
       "\\item[AAACCCACATACAGGG-1-L1] 1574\n",
       "\\item[AAACCCACATGACTTG-1-L1] 379\n",
       "\\item[AAACCCAGTCATCAGT-1-L1] 421\n",
       "\\item[AAACCCAGTGGTAATA-1-L1] 478\n",
       "\\item[AAACCCATCATCACAG-1-L1] 851\n",
       "\\item[AAACCCATCGATGGAG-1-L1] 473\n",
       "\\end{description*}\n"
      ],
      "text/markdown": [
       "AAACCCACATACAGGG-1-L1\n",
       ":   1574AAACCCACATGACTTG-1-L1\n",
       ":   379AAACCCAGTCATCAGT-1-L1\n",
       ":   421AAACCCAGTGGTAATA-1-L1\n",
       ":   478AAACCCATCATCACAG-1-L1\n",
       ":   851AAACCCATCGATGGAG-1-L1\n",
       ":   473\n",
       "\n"
      ],
      "text/plain": [
       "AAACCCACATACAGGG-1-L1 AAACCCACATGACTTG-1-L1 AAACCCAGTCATCAGT-1-L1 \n",
       "                 1574                   379                   421 \n",
       "AAACCCAGTGGTAATA-1-L1 AAACCCATCATCACAG-1-L1 AAACCCATCGATGGAG-1-L1 \n",
       "                  478                   851                   473 "
      ]
     },
     "metadata": {},
     "output_type": "display_data"
    }
   ],
   "source": [
    "head(rna_seurat_data$nCount_HTO) # get a column of the observation matrix"
   ]
  },
  {
   "cell_type": "code",
   "execution_count": 135,
   "id": "b9565581-2df7-452a-bc37-b3eaf21453a1",
   "metadata": {},
   "outputs": [],
   "source": [
    "#head(rna_seurat_data$classification) # get a column of the observation matrix"
   ]
  },
  {
   "cell_type": "code",
   "execution_count": 136,
   "id": "1c6fcae9-cd3a-4e8d-8d5b-8a35d2a10029",
   "metadata": {},
   "outputs": [
    {
     "data": {
      "text/html": [
       "<style>\n",
       ".list-inline {list-style: none; margin:0; padding: 0}\n",
       ".list-inline>li {display: inline-block}\n",
       ".list-inline>li:not(:last-child)::after {content: \"\\00b7\"; padding: 0 .5ex}\n",
       "</style>\n",
       "<ol class=list-inline><li>'nCount_HTO'</li><li>'B2_Scanorama_Singlet_cluster'</li><li>'B2_Scanorama_Singlet_rb_mt_cluster'</li><li>'cell_type_Scanorama'</li><li>'cluster_cell_type_Scanorama'</li><li>'classification_measurement'</li><li>'delta_ef_value_group_measurement'</li><li>'m_y'</li><li>'measurement_y'</li><li>'delta_ef_value_group'</li><li>'delta_ef_value'</li><li>'sample_y'</li><li>'age'</li><li>'sex'</li><li>'m_x'</li><li>'classification'</li><li>'group_y'</li><li>'measurement_x'</li><li>'sample_x'</li><li>'library'</li><li>'id'</li><li>'read'</li><li>'pattern'</li><li>'sequence'</li><li>'feature_type'</li><li>'in_sample'</li><li>'display_name'</li><li>'group_x'</li></ol>\n"
      ],
      "text/latex": [
       "\\begin{enumerate*}\n",
       "\\item 'nCount\\_HTO'\n",
       "\\item 'B2\\_Scanorama\\_Singlet\\_cluster'\n",
       "\\item 'B2\\_Scanorama\\_Singlet\\_rb\\_mt\\_cluster'\n",
       "\\item 'cell\\_type\\_Scanorama'\n",
       "\\item 'cluster\\_cell\\_type\\_Scanorama'\n",
       "\\item 'classification\\_measurement'\n",
       "\\item 'delta\\_ef\\_value\\_group\\_measurement'\n",
       "\\item 'm\\_y'\n",
       "\\item 'measurement\\_y'\n",
       "\\item 'delta\\_ef\\_value\\_group'\n",
       "\\item 'delta\\_ef\\_value'\n",
       "\\item 'sample\\_y'\n",
       "\\item 'age'\n",
       "\\item 'sex'\n",
       "\\item 'm\\_x'\n",
       "\\item 'classification'\n",
       "\\item 'group\\_y'\n",
       "\\item 'measurement\\_x'\n",
       "\\item 'sample\\_x'\n",
       "\\item 'library'\n",
       "\\item 'id'\n",
       "\\item 'read'\n",
       "\\item 'pattern'\n",
       "\\item 'sequence'\n",
       "\\item 'feature\\_type'\n",
       "\\item 'in\\_sample'\n",
       "\\item 'display\\_name'\n",
       "\\item 'group\\_x'\n",
       "\\end{enumerate*}\n"
      ],
      "text/markdown": [
       "1. 'nCount_HTO'\n",
       "2. 'B2_Scanorama_Singlet_cluster'\n",
       "3. 'B2_Scanorama_Singlet_rb_mt_cluster'\n",
       "4. 'cell_type_Scanorama'\n",
       "5. 'cluster_cell_type_Scanorama'\n",
       "6. 'classification_measurement'\n",
       "7. 'delta_ef_value_group_measurement'\n",
       "8. 'm_y'\n",
       "9. 'measurement_y'\n",
       "10. 'delta_ef_value_group'\n",
       "11. 'delta_ef_value'\n",
       "12. 'sample_y'\n",
       "13. 'age'\n",
       "14. 'sex'\n",
       "15. 'm_x'\n",
       "16. 'classification'\n",
       "17. 'group_y'\n",
       "18. 'measurement_x'\n",
       "19. 'sample_x'\n",
       "20. 'library'\n",
       "21. 'id'\n",
       "22. 'read'\n",
       "23. 'pattern'\n",
       "24. 'sequence'\n",
       "25. 'feature_type'\n",
       "26. 'in_sample'\n",
       "27. 'display_name'\n",
       "28. 'group_x'\n",
       "\n",
       "\n"
      ],
      "text/plain": [
       " [1] \"nCount_HTO\"                         \"B2_Scanorama_Singlet_cluster\"      \n",
       " [3] \"B2_Scanorama_Singlet_rb_mt_cluster\" \"cell_type_Scanorama\"               \n",
       " [5] \"cluster_cell_type_Scanorama\"        \"classification_measurement\"        \n",
       " [7] \"delta_ef_value_group_measurement\"   \"m_y\"                               \n",
       " [9] \"measurement_y\"                      \"delta_ef_value_group\"              \n",
       "[11] \"delta_ef_value\"                     \"sample_y\"                          \n",
       "[13] \"age\"                                \"sex\"                               \n",
       "[15] \"m_x\"                                \"classification\"                    \n",
       "[17] \"group_y\"                            \"measurement_x\"                     \n",
       "[19] \"sample_x\"                           \"library\"                           \n",
       "[21] \"id\"                                 \"read\"                              \n",
       "[23] \"pattern\"                            \"sequence\"                          \n",
       "[25] \"feature_type\"                       \"in_sample\"                         \n",
       "[27] \"display_name\"                       \"group_x\"                           "
      ]
     },
     "metadata": {},
     "output_type": "display_data"
    }
   ],
   "source": [
    "colnames(rna_seurat_data[[]])"
   ]
  },
  {
   "cell_type": "code",
   "execution_count": 137,
   "id": "0f9a5c2b-b052-4b98-979a-eec6e10badaf",
   "metadata": {},
   "outputs": [
    {
     "data": {
      "text/html": [
       "<table class=\"dataframe\">\n",
       "<caption>A data.frame: 6 × 28</caption>\n",
       "<thead>\n",
       "\t<tr><th></th><th scope=col>nCount_HTO</th><th scope=col>B2_Scanorama_Singlet_cluster</th><th scope=col>B2_Scanorama_Singlet_rb_mt_cluster</th><th scope=col>cell_type_Scanorama</th><th scope=col>cluster_cell_type_Scanorama</th><th scope=col>classification_measurement</th><th scope=col>delta_ef_value_group_measurement</th><th scope=col>m_y</th><th scope=col>measurement_y</th><th scope=col>delta_ef_value_group</th><th scope=col>⋯</th><th scope=col>sample_x</th><th scope=col>library</th><th scope=col>id</th><th scope=col>read</th><th scope=col>pattern</th><th scope=col>sequence</th><th scope=col>feature_type</th><th scope=col>in_sample</th><th scope=col>display_name</th><th scope=col>group_x</th></tr>\n",
       "\t<tr><th></th><th scope=col>&lt;dbl&gt;</th><th scope=col>&lt;fct&gt;</th><th scope=col>&lt;fct&gt;</th><th scope=col>&lt;fct&gt;</th><th scope=col>&lt;fct&gt;</th><th scope=col>&lt;fct&gt;</th><th scope=col>&lt;fct&gt;</th><th scope=col>&lt;fct&gt;</th><th scope=col>&lt;fct&gt;</th><th scope=col>&lt;fct&gt;</th><th scope=col>⋯</th><th scope=col>&lt;fct&gt;</th><th scope=col>&lt;fct&gt;</th><th scope=col>&lt;fct&gt;</th><th scope=col>&lt;fct&gt;</th><th scope=col>&lt;fct&gt;</th><th scope=col>&lt;fct&gt;</th><th scope=col>&lt;fct&gt;</th><th scope=col>&lt;dbl&gt;</th><th scope=col>&lt;fct&gt;</th><th scope=col>&lt;fct&gt;</th></tr>\n",
       "</thead>\n",
       "<tbody>\n",
       "\t<tr><th scope=row>AAACCCACATACAGGG-1-L1</th><td>1574</td><td>8 </td><td>8 </td><td>B-cell                 </td><td>8_B-cell                 </td><td>acs_w_o_infection_TP1</td><td>x_greater_1_TP1</td><td>M9 (14,3) </td><td>TP1    </td><td>x_greater_1</td><td>⋯</td><td>9.1</td><td>L1</td><td>HTO_B0259</td><td>R2</td><td>5PNNNNNNNNNN(BC)</td><td>CAGTAGTCACGGTCA</td><td>Antibody Capture</td><td>1</td><td>9.1</td><td>TP1</td></tr>\n",
       "\t<tr><th scope=row>AAACCCACATGACTTG-1-L1</th><td> 379</td><td>9 </td><td>9 </td><td>Monocytes - CD16_FCGR3A</td><td>9_Monocytes - CD16_FCGR3A</td><td>acs_w_o_infection_TP1</td><td>x_greater_1_TP1</td><td>M9 (14,3) </td><td>TP1    </td><td>x_greater_1</td><td>⋯</td><td>9.1</td><td>L1</td><td>HTO_B0259</td><td>R2</td><td>5PNNNNNNNNNN(BC)</td><td>CAGTAGTCACGGTCA</td><td>Antibody Capture</td><td>1</td><td>9.1</td><td>TP1</td></tr>\n",
       "\t<tr><th scope=row>AAACCCAGTCATCAGT-1-L1</th><td> 421</td><td>5 </td><td>5 </td><td>T-cell-CD4             </td><td>5_T-cell-CD4             </td><td>acs_w_o_infection_TP1</td><td>x_smaller_1_TP1</td><td>M7 (0,75) </td><td>TP1    </td><td>x_smaller_1</td><td>⋯</td><td>7.1</td><td>L1</td><td>HTO_B0257</td><td>R2</td><td>5PNNNNNNNNNN(BC)</td><td>TGTCTTTCCTGCCAG</td><td>Antibody Capture</td><td>1</td><td>7.1</td><td>TP1</td></tr>\n",
       "\t<tr><th scope=row>AAACCCAGTGGTAATA-1-L1</th><td> 478</td><td>0 </td><td>0 </td><td>T-cell-CD4             </td><td>0_T-cell-CD4             </td><td>acs_w_o_infection_TP1</td><td>x_greater_1_TP1</td><td>M9 (14,3) </td><td>TP1    </td><td>x_greater_1</td><td>⋯</td><td>9.1</td><td>L1</td><td>HTO_B0259</td><td>R2</td><td>5PNNNNNNNNNN(BC)</td><td>CAGTAGTCACGGTCA</td><td>Antibody Capture</td><td>1</td><td>9.1</td><td>TP1</td></tr>\n",
       "\t<tr><th scope=row>AAACCCATCATCACAG-1-L1</th><td> 851</td><td>16</td><td>16</td><td>Plasma Blast           </td><td>16_Plasma Blast          </td><td>acs_w_o_infection_TP1</td><td>x_greater_1_TP1</td><td>M9 (14,3) </td><td>TP1    </td><td>x_greater_1</td><td>⋯</td><td>9.1</td><td>L1</td><td>HTO_B0259</td><td>R2</td><td>5PNNNNNNNNNN(BC)</td><td>CAGTAGTCACGGTCA</td><td>Antibody Capture</td><td>1</td><td>9.1</td><td>TP1</td></tr>\n",
       "\t<tr><th scope=row>AAACCCATCGATGGAG-1-L1</th><td> 473</td><td>0 </td><td>0 </td><td>T-cell-CD4             </td><td>0_T-cell-CD4             </td><td>acs_subacute_TP1     </td><td>missing        </td><td>missing   </td><td>missing</td><td>missing    </td><td>⋯</td><td>8.1</td><td>L1</td><td>HTO_B0258</td><td>R2</td><td>5PNNNNNNNNNN(BC)</td><td>CTCCTCTGCAATTAC</td><td>Antibody Capture</td><td>1</td><td>8.1</td><td>TP1</td></tr>\n",
       "</tbody>\n",
       "</table>\n"
      ],
      "text/latex": [
       "A data.frame: 6 × 28\n",
       "\\begin{tabular}{r|lllllllllllllllllllll}\n",
       "  & nCount\\_HTO & B2\\_Scanorama\\_Singlet\\_cluster & B2\\_Scanorama\\_Singlet\\_rb\\_mt\\_cluster & cell\\_type\\_Scanorama & cluster\\_cell\\_type\\_Scanorama & classification\\_measurement & delta\\_ef\\_value\\_group\\_measurement & m\\_y & measurement\\_y & delta\\_ef\\_value\\_group & ⋯ & sample\\_x & library & id & read & pattern & sequence & feature\\_type & in\\_sample & display\\_name & group\\_x\\\\\n",
       "  & <dbl> & <fct> & <fct> & <fct> & <fct> & <fct> & <fct> & <fct> & <fct> & <fct> & ⋯ & <fct> & <fct> & <fct> & <fct> & <fct> & <fct> & <fct> & <dbl> & <fct> & <fct>\\\\\n",
       "\\hline\n",
       "\tAAACCCACATACAGGG-1-L1 & 1574 & 8  & 8  & B-cell                  & 8\\_B-cell                  & acs\\_w\\_o\\_infection\\_TP1 & x\\_greater\\_1\\_TP1 & M9 (14,3)  & TP1     & x\\_greater\\_1 & ⋯ & 9.1 & L1 & HTO\\_B0259 & R2 & 5PNNNNNNNNNN(BC) & CAGTAGTCACGGTCA & Antibody Capture & 1 & 9.1 & TP1\\\\\n",
       "\tAAACCCACATGACTTG-1-L1 &  379 & 9  & 9  & Monocytes - CD16\\_FCGR3A & 9\\_Monocytes - CD16\\_FCGR3A & acs\\_w\\_o\\_infection\\_TP1 & x\\_greater\\_1\\_TP1 & M9 (14,3)  & TP1     & x\\_greater\\_1 & ⋯ & 9.1 & L1 & HTO\\_B0259 & R2 & 5PNNNNNNNNNN(BC) & CAGTAGTCACGGTCA & Antibody Capture & 1 & 9.1 & TP1\\\\\n",
       "\tAAACCCAGTCATCAGT-1-L1 &  421 & 5  & 5  & T-cell-CD4              & 5\\_T-cell-CD4              & acs\\_w\\_o\\_infection\\_TP1 & x\\_smaller\\_1\\_TP1 & M7 (0,75)  & TP1     & x\\_smaller\\_1 & ⋯ & 7.1 & L1 & HTO\\_B0257 & R2 & 5PNNNNNNNNNN(BC) & TGTCTTTCCTGCCAG & Antibody Capture & 1 & 7.1 & TP1\\\\\n",
       "\tAAACCCAGTGGTAATA-1-L1 &  478 & 0  & 0  & T-cell-CD4              & 0\\_T-cell-CD4              & acs\\_w\\_o\\_infection\\_TP1 & x\\_greater\\_1\\_TP1 & M9 (14,3)  & TP1     & x\\_greater\\_1 & ⋯ & 9.1 & L1 & HTO\\_B0259 & R2 & 5PNNNNNNNNNN(BC) & CAGTAGTCACGGTCA & Antibody Capture & 1 & 9.1 & TP1\\\\\n",
       "\tAAACCCATCATCACAG-1-L1 &  851 & 16 & 16 & Plasma Blast            & 16\\_Plasma Blast           & acs\\_w\\_o\\_infection\\_TP1 & x\\_greater\\_1\\_TP1 & M9 (14,3)  & TP1     & x\\_greater\\_1 & ⋯ & 9.1 & L1 & HTO\\_B0259 & R2 & 5PNNNNNNNNNN(BC) & CAGTAGTCACGGTCA & Antibody Capture & 1 & 9.1 & TP1\\\\\n",
       "\tAAACCCATCGATGGAG-1-L1 &  473 & 0  & 0  & T-cell-CD4              & 0\\_T-cell-CD4              & acs\\_subacute\\_TP1      & missing         & missing    & missing & missing     & ⋯ & 8.1 & L1 & HTO\\_B0258 & R2 & 5PNNNNNNNNNN(BC) & CTCCTCTGCAATTAC & Antibody Capture & 1 & 8.1 & TP1\\\\\n",
       "\\end{tabular}\n"
      ],
      "text/markdown": [
       "\n",
       "A data.frame: 6 × 28\n",
       "\n",
       "| <!--/--> | nCount_HTO &lt;dbl&gt; | B2_Scanorama_Singlet_cluster &lt;fct&gt; | B2_Scanorama_Singlet_rb_mt_cluster &lt;fct&gt; | cell_type_Scanorama &lt;fct&gt; | cluster_cell_type_Scanorama &lt;fct&gt; | classification_measurement &lt;fct&gt; | delta_ef_value_group_measurement &lt;fct&gt; | m_y &lt;fct&gt; | measurement_y &lt;fct&gt; | delta_ef_value_group &lt;fct&gt; | ⋯ ⋯ | sample_x &lt;fct&gt; | library &lt;fct&gt; | id &lt;fct&gt; | read &lt;fct&gt; | pattern &lt;fct&gt; | sequence &lt;fct&gt; | feature_type &lt;fct&gt; | in_sample &lt;dbl&gt; | display_name &lt;fct&gt; | group_x &lt;fct&gt; |\n",
       "|---|---|---|---|---|---|---|---|---|---|---|---|---|---|---|---|---|---|---|---|---|---|\n",
       "| AAACCCACATACAGGG-1-L1 | 1574 | 8  | 8  | B-cell                  | 8_B-cell                  | acs_w_o_infection_TP1 | x_greater_1_TP1 | M9 (14,3)  | TP1     | x_greater_1 | ⋯ | 9.1 | L1 | HTO_B0259 | R2 | 5PNNNNNNNNNN(BC) | CAGTAGTCACGGTCA | Antibody Capture | 1 | 9.1 | TP1 |\n",
       "| AAACCCACATGACTTG-1-L1 |  379 | 9  | 9  | Monocytes - CD16_FCGR3A | 9_Monocytes - CD16_FCGR3A | acs_w_o_infection_TP1 | x_greater_1_TP1 | M9 (14,3)  | TP1     | x_greater_1 | ⋯ | 9.1 | L1 | HTO_B0259 | R2 | 5PNNNNNNNNNN(BC) | CAGTAGTCACGGTCA | Antibody Capture | 1 | 9.1 | TP1 |\n",
       "| AAACCCAGTCATCAGT-1-L1 |  421 | 5  | 5  | T-cell-CD4              | 5_T-cell-CD4              | acs_w_o_infection_TP1 | x_smaller_1_TP1 | M7 (0,75)  | TP1     | x_smaller_1 | ⋯ | 7.1 | L1 | HTO_B0257 | R2 | 5PNNNNNNNNNN(BC) | TGTCTTTCCTGCCAG | Antibody Capture | 1 | 7.1 | TP1 |\n",
       "| AAACCCAGTGGTAATA-1-L1 |  478 | 0  | 0  | T-cell-CD4              | 0_T-cell-CD4              | acs_w_o_infection_TP1 | x_greater_1_TP1 | M9 (14,3)  | TP1     | x_greater_1 | ⋯ | 9.1 | L1 | HTO_B0259 | R2 | 5PNNNNNNNNNN(BC) | CAGTAGTCACGGTCA | Antibody Capture | 1 | 9.1 | TP1 |\n",
       "| AAACCCATCATCACAG-1-L1 |  851 | 16 | 16 | Plasma Blast            | 16_Plasma Blast           | acs_w_o_infection_TP1 | x_greater_1_TP1 | M9 (14,3)  | TP1     | x_greater_1 | ⋯ | 9.1 | L1 | HTO_B0259 | R2 | 5PNNNNNNNNNN(BC) | CAGTAGTCACGGTCA | Antibody Capture | 1 | 9.1 | TP1 |\n",
       "| AAACCCATCGATGGAG-1-L1 |  473 | 0  | 0  | T-cell-CD4              | 0_T-cell-CD4              | acs_subacute_TP1      | missing         | missing    | missing | missing     | ⋯ | 8.1 | L1 | HTO_B0258 | R2 | 5PNNNNNNNNNN(BC) | CTCCTCTGCAATTAC | Antibody Capture | 1 | 8.1 | TP1 |\n",
       "\n"
      ],
      "text/plain": [
       "                      nCount_HTO B2_Scanorama_Singlet_cluster\n",
       "AAACCCACATACAGGG-1-L1 1574       8                           \n",
       "AAACCCACATGACTTG-1-L1  379       9                           \n",
       "AAACCCAGTCATCAGT-1-L1  421       5                           \n",
       "AAACCCAGTGGTAATA-1-L1  478       0                           \n",
       "AAACCCATCATCACAG-1-L1  851       16                          \n",
       "AAACCCATCGATGGAG-1-L1  473       0                           \n",
       "                      B2_Scanorama_Singlet_rb_mt_cluster\n",
       "AAACCCACATACAGGG-1-L1 8                                 \n",
       "AAACCCACATGACTTG-1-L1 9                                 \n",
       "AAACCCAGTCATCAGT-1-L1 5                                 \n",
       "AAACCCAGTGGTAATA-1-L1 0                                 \n",
       "AAACCCATCATCACAG-1-L1 16                                \n",
       "AAACCCATCGATGGAG-1-L1 0                                 \n",
       "                      cell_type_Scanorama     cluster_cell_type_Scanorama\n",
       "AAACCCACATACAGGG-1-L1 B-cell                  8_B-cell                   \n",
       "AAACCCACATGACTTG-1-L1 Monocytes - CD16_FCGR3A 9_Monocytes - CD16_FCGR3A  \n",
       "AAACCCAGTCATCAGT-1-L1 T-cell-CD4              5_T-cell-CD4               \n",
       "AAACCCAGTGGTAATA-1-L1 T-cell-CD4              0_T-cell-CD4               \n",
       "AAACCCATCATCACAG-1-L1 Plasma Blast            16_Plasma Blast            \n",
       "AAACCCATCGATGGAG-1-L1 T-cell-CD4              0_T-cell-CD4               \n",
       "                      classification_measurement\n",
       "AAACCCACATACAGGG-1-L1 acs_w_o_infection_TP1     \n",
       "AAACCCACATGACTTG-1-L1 acs_w_o_infection_TP1     \n",
       "AAACCCAGTCATCAGT-1-L1 acs_w_o_infection_TP1     \n",
       "AAACCCAGTGGTAATA-1-L1 acs_w_o_infection_TP1     \n",
       "AAACCCATCATCACAG-1-L1 acs_w_o_infection_TP1     \n",
       "AAACCCATCGATGGAG-1-L1 acs_subacute_TP1          \n",
       "                      delta_ef_value_group_measurement m_y        measurement_y\n",
       "AAACCCACATACAGGG-1-L1 x_greater_1_TP1                  M9 (14,3)  TP1          \n",
       "AAACCCACATGACTTG-1-L1 x_greater_1_TP1                  M9 (14,3)  TP1          \n",
       "AAACCCAGTCATCAGT-1-L1 x_smaller_1_TP1                  M7 (0,75)  TP1          \n",
       "AAACCCAGTGGTAATA-1-L1 x_greater_1_TP1                  M9 (14,3)  TP1          \n",
       "AAACCCATCATCACAG-1-L1 x_greater_1_TP1                  M9 (14,3)  TP1          \n",
       "AAACCCATCGATGGAG-1-L1 missing                          missing    missing      \n",
       "                      delta_ef_value_group ⋯ sample_x library id        read\n",
       "AAACCCACATACAGGG-1-L1 x_greater_1          ⋯ 9.1      L1      HTO_B0259 R2  \n",
       "AAACCCACATGACTTG-1-L1 x_greater_1          ⋯ 9.1      L1      HTO_B0259 R2  \n",
       "AAACCCAGTCATCAGT-1-L1 x_smaller_1          ⋯ 7.1      L1      HTO_B0257 R2  \n",
       "AAACCCAGTGGTAATA-1-L1 x_greater_1          ⋯ 9.1      L1      HTO_B0259 R2  \n",
       "AAACCCATCATCACAG-1-L1 x_greater_1          ⋯ 9.1      L1      HTO_B0259 R2  \n",
       "AAACCCATCGATGGAG-1-L1 missing              ⋯ 8.1      L1      HTO_B0258 R2  \n",
       "                      pattern          sequence        feature_type    \n",
       "AAACCCACATACAGGG-1-L1 5PNNNNNNNNNN(BC) CAGTAGTCACGGTCA Antibody Capture\n",
       "AAACCCACATGACTTG-1-L1 5PNNNNNNNNNN(BC) CAGTAGTCACGGTCA Antibody Capture\n",
       "AAACCCAGTCATCAGT-1-L1 5PNNNNNNNNNN(BC) TGTCTTTCCTGCCAG Antibody Capture\n",
       "AAACCCAGTGGTAATA-1-L1 5PNNNNNNNNNN(BC) CAGTAGTCACGGTCA Antibody Capture\n",
       "AAACCCATCATCACAG-1-L1 5PNNNNNNNNNN(BC) CAGTAGTCACGGTCA Antibody Capture\n",
       "AAACCCATCGATGGAG-1-L1 5PNNNNNNNNNN(BC) CTCCTCTGCAATTAC Antibody Capture\n",
       "                      in_sample display_name group_x\n",
       "AAACCCACATACAGGG-1-L1 1         9.1          TP1    \n",
       "AAACCCACATGACTTG-1-L1 1         9.1          TP1    \n",
       "AAACCCAGTCATCAGT-1-L1 1         7.1          TP1    \n",
       "AAACCCAGTGGTAATA-1-L1 1         9.1          TP1    \n",
       "AAACCCATCATCACAG-1-L1 1         9.1          TP1    \n",
       "AAACCCATCGATGGAG-1-L1 1         8.1          TP1    "
      ]
     },
     "metadata": {},
     "output_type": "display_data"
    }
   ],
   "source": [
    "head(rna_seurat_data[[]])   # get complete observation matrix "
   ]
  },
  {
   "cell_type": "code",
   "execution_count": 138,
   "id": "3d0f4599-7992-467d-bc96-6343e10a1af1",
   "metadata": {},
   "outputs": [
    {
     "data": {
      "text/html": [
       "<style>\n",
       ".list-inline {list-style: none; margin:0; padding: 0}\n",
       ".list-inline>li {display: inline-block}\n",
       ".list-inline>li:not(:last-child)::after {content: \"\\00b7\"; padding: 0 .5ex}\n",
       "</style>\n",
       "<ol class=list-inline><li>1392</li><li>148275</li></ol>\n"
      ],
      "text/latex": [
       "\\begin{enumerate*}\n",
       "\\item 1392\n",
       "\\item 148275\n",
       "\\end{enumerate*}\n"
      ],
      "text/markdown": [
       "1. 1392\n",
       "2. 148275\n",
       "\n",
       "\n"
      ],
      "text/plain": [
       "[1]   1392 148275"
      ]
     },
     "metadata": {},
     "output_type": "display_data"
    }
   ],
   "source": [
    "dim(rna_seurat_data@assays$RNA@scale.data)"
   ]
  },
  {
   "cell_type": "code",
   "execution_count": 139,
   "id": "27e12554-8dad-426a-97b7-25b29315d7db",
   "metadata": {},
   "outputs": [
    {
     "data": {
      "text/html": [
       "<table class=\"dataframe\">\n",
       "<caption>A matrix: 6 × 148275 of type dbl</caption>\n",
       "<thead>\n",
       "\t<tr><th></th><th scope=col>AAACCCACATACAGGG-1-L1</th><th scope=col>AAACCCACATGACTTG-1-L1</th><th scope=col>AAACCCAGTCATCAGT-1-L1</th><th scope=col>AAACCCAGTGGTAATA-1-L1</th><th scope=col>AAACCCATCATCACAG-1-L1</th><th scope=col>AAACCCATCGATGGAG-1-L1</th><th scope=col>AAACCCATCTTGCAGA-1-L1</th><th scope=col>AAACGAAAGAACTTCC-1-L1</th><th scope=col>AAACGAAAGGGTACGT-1-L1</th><th scope=col>AAACGAAAGGGTCTTT-1-L1</th><th scope=col>⋯</th><th scope=col>TTTGGTTTCTGTACAG-1-L14</th><th scope=col>TTTGTTGAGCTCCACG-1-L14</th><th scope=col>TTTGTTGAGTCAGCCC-1-L14</th><th scope=col>TTTGTTGCACAAATAG-1-L14</th><th scope=col>TTTGTTGCAGAGCCCT-1-L14</th><th scope=col>TTTGTTGCAGGTTCGC-1-L14</th><th scope=col>TTTGTTGGTACCTAGT-1-L14</th><th scope=col>TTTGTTGGTACGTTCA-1-L14</th><th scope=col>TTTGTTGGTGGACCAA-1-L14</th><th scope=col>TTTGTTGTCGAAGAAT-1-L14</th></tr>\n",
       "</thead>\n",
       "<tbody>\n",
       "\t<tr><th scope=row>HES4</th><td>-0.2458351</td><td> 5.2755065</td><td>-0.1659243</td><td>-0.2529775</td><td>-0.64255089</td><td>-0.2226176</td><td>-0.1294657</td><td>-0.3032477</td><td> 5.0691404</td><td>-0.2307047</td><td>⋯</td><td>-0.2238024</td><td>-0.2566660</td><td>-0.1094798</td><td>-0.2565409</td><td>-0.3618868</td><td>-0.3595781</td><td>-0.2898208</td><td>-0.2445270</td><td>-0.66771084</td><td>-0.2764359</td></tr>\n",
       "\t<tr><th scope=row>ISG15</th><td>-0.5671435</td><td>-0.6356693</td><td>-0.6192396</td><td>-0.6269512</td><td>-0.38615820</td><td>-0.6335911</td><td> 1.2474985</td><td>-0.5369599</td><td> 0.4149888</td><td>-0.6072676</td><td>⋯</td><td> 1.5472746</td><td> 1.1737832</td><td> 1.0967059</td><td>-0.7113699</td><td>-0.8093281</td><td> 0.3909281</td><td>-0.7160870</td><td>-0.5755023</td><td> 1.70855975</td><td> 1.5406628</td></tr>\n",
       "\t<tr><th scope=row>TNFRSF18</th><td>-0.2080559</td><td>-0.1850859</td><td>-0.2253351</td><td> 3.7579303</td><td>-0.04953691</td><td>-0.2080265</td><td>-0.2338105</td><td>-0.1949285</td><td>-0.1594944</td><td>-0.2083495</td><td>⋯</td><td>-0.2039024</td><td>-0.1873443</td><td>-0.2356623</td><td>-0.1908602</td><td>-0.1516817</td><td>-0.1588946</td><td>-0.1810645</td><td>-0.2076000</td><td>-0.04253671</td><td>-0.2055351</td></tr>\n",
       "\t<tr><th scope=row>TNFRSF4</th><td>-0.1991221</td><td>-0.2098920</td><td>-0.2507233</td><td>-0.2237158</td><td>-0.27779725</td><td>-0.2373614</td><td>-0.2715408</td><td>-0.1653312</td><td>-0.2340275</td><td>-0.2226019</td><td>⋯</td><td>-0.2544025</td><td>-0.2766939</td><td>-0.2958161</td><td>-0.2607138</td><td>-0.2681839</td><td>-0.2387677</td><td>-0.2511905</td><td>-0.2033674</td><td>-0.26873145</td><td>-0.1605054</td></tr>\n",
       "\t<tr><th scope=row>AL645728.1</th><td>-0.2744859</td><td>-0.2990338</td><td>-0.2319598</td><td>-0.2744958</td><td>-0.44214112</td><td>-0.2591127</td><td>-0.2129115</td><td>-0.3046129</td><td>-0.3214925</td><td>-0.2646544</td><td>⋯</td><td>-0.2574319</td><td>-0.2692729</td><td>-0.2007998</td><td>-0.2712910</td><td>-0.3175532</td><td> 2.2594626</td><td>-0.2874482</td><td> 3.8196340</td><td> 1.03018486</td><td>-0.2932183</td></tr>\n",
       "\t<tr><th scope=row>MIB2</th><td>-0.3938878</td><td>-0.3809605</td><td>-0.4023549</td><td> 2.0574462</td><td>-0.30458272</td><td>-0.3930661</td><td> 2.5170703</td><td>-0.3873412</td><td> 1.4148629</td><td> 2.2514246</td><td>⋯</td><td>-0.3904268</td><td>-0.3808021</td><td>-0.4071151</td><td> 1.6874684</td><td> 1.2390401</td><td>-0.3658706</td><td> 1.5971848</td><td>-0.3935464</td><td> 0.71125776</td><td>-0.3933075</td></tr>\n",
       "</tbody>\n",
       "</table>\n"
      ],
      "text/latex": [
       "A matrix: 6 × 148275 of type dbl\n",
       "\\begin{tabular}{r|lllllllllllllllllllll}\n",
       "  & AAACCCACATACAGGG-1-L1 & AAACCCACATGACTTG-1-L1 & AAACCCAGTCATCAGT-1-L1 & AAACCCAGTGGTAATA-1-L1 & AAACCCATCATCACAG-1-L1 & AAACCCATCGATGGAG-1-L1 & AAACCCATCTTGCAGA-1-L1 & AAACGAAAGAACTTCC-1-L1 & AAACGAAAGGGTACGT-1-L1 & AAACGAAAGGGTCTTT-1-L1 & ⋯ & TTTGGTTTCTGTACAG-1-L14 & TTTGTTGAGCTCCACG-1-L14 & TTTGTTGAGTCAGCCC-1-L14 & TTTGTTGCACAAATAG-1-L14 & TTTGTTGCAGAGCCCT-1-L14 & TTTGTTGCAGGTTCGC-1-L14 & TTTGTTGGTACCTAGT-1-L14 & TTTGTTGGTACGTTCA-1-L14 & TTTGTTGGTGGACCAA-1-L14 & TTTGTTGTCGAAGAAT-1-L14\\\\\n",
       "\\hline\n",
       "\tHES4 & -0.2458351 &  5.2755065 & -0.1659243 & -0.2529775 & -0.64255089 & -0.2226176 & -0.1294657 & -0.3032477 &  5.0691404 & -0.2307047 & ⋯ & -0.2238024 & -0.2566660 & -0.1094798 & -0.2565409 & -0.3618868 & -0.3595781 & -0.2898208 & -0.2445270 & -0.66771084 & -0.2764359\\\\\n",
       "\tISG15 & -0.5671435 & -0.6356693 & -0.6192396 & -0.6269512 & -0.38615820 & -0.6335911 &  1.2474985 & -0.5369599 &  0.4149888 & -0.6072676 & ⋯ &  1.5472746 &  1.1737832 &  1.0967059 & -0.7113699 & -0.8093281 &  0.3909281 & -0.7160870 & -0.5755023 &  1.70855975 &  1.5406628\\\\\n",
       "\tTNFRSF18 & -0.2080559 & -0.1850859 & -0.2253351 &  3.7579303 & -0.04953691 & -0.2080265 & -0.2338105 & -0.1949285 & -0.1594944 & -0.2083495 & ⋯ & -0.2039024 & -0.1873443 & -0.2356623 & -0.1908602 & -0.1516817 & -0.1588946 & -0.1810645 & -0.2076000 & -0.04253671 & -0.2055351\\\\\n",
       "\tTNFRSF4 & -0.1991221 & -0.2098920 & -0.2507233 & -0.2237158 & -0.27779725 & -0.2373614 & -0.2715408 & -0.1653312 & -0.2340275 & -0.2226019 & ⋯ & -0.2544025 & -0.2766939 & -0.2958161 & -0.2607138 & -0.2681839 & -0.2387677 & -0.2511905 & -0.2033674 & -0.26873145 & -0.1605054\\\\\n",
       "\tAL645728.1 & -0.2744859 & -0.2990338 & -0.2319598 & -0.2744958 & -0.44214112 & -0.2591127 & -0.2129115 & -0.3046129 & -0.3214925 & -0.2646544 & ⋯ & -0.2574319 & -0.2692729 & -0.2007998 & -0.2712910 & -0.3175532 &  2.2594626 & -0.2874482 &  3.8196340 &  1.03018486 & -0.2932183\\\\\n",
       "\tMIB2 & -0.3938878 & -0.3809605 & -0.4023549 &  2.0574462 & -0.30458272 & -0.3930661 &  2.5170703 & -0.3873412 &  1.4148629 &  2.2514246 & ⋯ & -0.3904268 & -0.3808021 & -0.4071151 &  1.6874684 &  1.2390401 & -0.3658706 &  1.5971848 & -0.3935464 &  0.71125776 & -0.3933075\\\\\n",
       "\\end{tabular}\n"
      ],
      "text/markdown": [
       "\n",
       "A matrix: 6 × 148275 of type dbl\n",
       "\n",
       "| <!--/--> | AAACCCACATACAGGG-1-L1 | AAACCCACATGACTTG-1-L1 | AAACCCAGTCATCAGT-1-L1 | AAACCCAGTGGTAATA-1-L1 | AAACCCATCATCACAG-1-L1 | AAACCCATCGATGGAG-1-L1 | AAACCCATCTTGCAGA-1-L1 | AAACGAAAGAACTTCC-1-L1 | AAACGAAAGGGTACGT-1-L1 | AAACGAAAGGGTCTTT-1-L1 | ⋯ | TTTGGTTTCTGTACAG-1-L14 | TTTGTTGAGCTCCACG-1-L14 | TTTGTTGAGTCAGCCC-1-L14 | TTTGTTGCACAAATAG-1-L14 | TTTGTTGCAGAGCCCT-1-L14 | TTTGTTGCAGGTTCGC-1-L14 | TTTGTTGGTACCTAGT-1-L14 | TTTGTTGGTACGTTCA-1-L14 | TTTGTTGGTGGACCAA-1-L14 | TTTGTTGTCGAAGAAT-1-L14 |\n",
       "|---|---|---|---|---|---|---|---|---|---|---|---|---|---|---|---|---|---|---|---|---|---|\n",
       "| HES4 | -0.2458351 |  5.2755065 | -0.1659243 | -0.2529775 | -0.64255089 | -0.2226176 | -0.1294657 | -0.3032477 |  5.0691404 | -0.2307047 | ⋯ | -0.2238024 | -0.2566660 | -0.1094798 | -0.2565409 | -0.3618868 | -0.3595781 | -0.2898208 | -0.2445270 | -0.66771084 | -0.2764359 |\n",
       "| ISG15 | -0.5671435 | -0.6356693 | -0.6192396 | -0.6269512 | -0.38615820 | -0.6335911 |  1.2474985 | -0.5369599 |  0.4149888 | -0.6072676 | ⋯ |  1.5472746 |  1.1737832 |  1.0967059 | -0.7113699 | -0.8093281 |  0.3909281 | -0.7160870 | -0.5755023 |  1.70855975 |  1.5406628 |\n",
       "| TNFRSF18 | -0.2080559 | -0.1850859 | -0.2253351 |  3.7579303 | -0.04953691 | -0.2080265 | -0.2338105 | -0.1949285 | -0.1594944 | -0.2083495 | ⋯ | -0.2039024 | -0.1873443 | -0.2356623 | -0.1908602 | -0.1516817 | -0.1588946 | -0.1810645 | -0.2076000 | -0.04253671 | -0.2055351 |\n",
       "| TNFRSF4 | -0.1991221 | -0.2098920 | -0.2507233 | -0.2237158 | -0.27779725 | -0.2373614 | -0.2715408 | -0.1653312 | -0.2340275 | -0.2226019 | ⋯ | -0.2544025 | -0.2766939 | -0.2958161 | -0.2607138 | -0.2681839 | -0.2387677 | -0.2511905 | -0.2033674 | -0.26873145 | -0.1605054 |\n",
       "| AL645728.1 | -0.2744859 | -0.2990338 | -0.2319598 | -0.2744958 | -0.44214112 | -0.2591127 | -0.2129115 | -0.3046129 | -0.3214925 | -0.2646544 | ⋯ | -0.2574319 | -0.2692729 | -0.2007998 | -0.2712910 | -0.3175532 |  2.2594626 | -0.2874482 |  3.8196340 |  1.03018486 | -0.2932183 |\n",
       "| MIB2 | -0.3938878 | -0.3809605 | -0.4023549 |  2.0574462 | -0.30458272 | -0.3930661 |  2.5170703 | -0.3873412 |  1.4148629 |  2.2514246 | ⋯ | -0.3904268 | -0.3808021 | -0.4071151 |  1.6874684 |  1.2390401 | -0.3658706 |  1.5971848 | -0.3935464 |  0.71125776 | -0.3933075 |\n",
       "\n"
      ],
      "text/plain": [
       "           AAACCCACATACAGGG-1-L1 AAACCCACATGACTTG-1-L1 AAACCCAGTCATCAGT-1-L1\n",
       "HES4       -0.2458351             5.2755065            -0.1659243           \n",
       "ISG15      -0.5671435            -0.6356693            -0.6192396           \n",
       "TNFRSF18   -0.2080559            -0.1850859            -0.2253351           \n",
       "TNFRSF4    -0.1991221            -0.2098920            -0.2507233           \n",
       "AL645728.1 -0.2744859            -0.2990338            -0.2319598           \n",
       "MIB2       -0.3938878            -0.3809605            -0.4023549           \n",
       "           AAACCCAGTGGTAATA-1-L1 AAACCCATCATCACAG-1-L1 AAACCCATCGATGGAG-1-L1\n",
       "HES4       -0.2529775            -0.64255089           -0.2226176           \n",
       "ISG15      -0.6269512            -0.38615820           -0.6335911           \n",
       "TNFRSF18    3.7579303            -0.04953691           -0.2080265           \n",
       "TNFRSF4    -0.2237158            -0.27779725           -0.2373614           \n",
       "AL645728.1 -0.2744958            -0.44214112           -0.2591127           \n",
       "MIB2        2.0574462            -0.30458272           -0.3930661           \n",
       "           AAACCCATCTTGCAGA-1-L1 AAACGAAAGAACTTCC-1-L1 AAACGAAAGGGTACGT-1-L1\n",
       "HES4       -0.1294657            -0.3032477             5.0691404           \n",
       "ISG15       1.2474985            -0.5369599             0.4149888           \n",
       "TNFRSF18   -0.2338105            -0.1949285            -0.1594944           \n",
       "TNFRSF4    -0.2715408            -0.1653312            -0.2340275           \n",
       "AL645728.1 -0.2129115            -0.3046129            -0.3214925           \n",
       "MIB2        2.5170703            -0.3873412             1.4148629           \n",
       "           AAACGAAAGGGTCTTT-1-L1 ⋯ TTTGGTTTCTGTACAG-1-L14\n",
       "HES4       -0.2307047            ⋯ -0.2238024            \n",
       "ISG15      -0.6072676            ⋯  1.5472746            \n",
       "TNFRSF18   -0.2083495            ⋯ -0.2039024            \n",
       "TNFRSF4    -0.2226019            ⋯ -0.2544025            \n",
       "AL645728.1 -0.2646544            ⋯ -0.2574319            \n",
       "MIB2        2.2514246            ⋯ -0.3904268            \n",
       "           TTTGTTGAGCTCCACG-1-L14 TTTGTTGAGTCAGCCC-1-L14 TTTGTTGCACAAATAG-1-L14\n",
       "HES4       -0.2566660             -0.1094798             -0.2565409            \n",
       "ISG15       1.1737832              1.0967059             -0.7113699            \n",
       "TNFRSF18   -0.1873443             -0.2356623             -0.1908602            \n",
       "TNFRSF4    -0.2766939             -0.2958161             -0.2607138            \n",
       "AL645728.1 -0.2692729             -0.2007998             -0.2712910            \n",
       "MIB2       -0.3808021             -0.4071151              1.6874684            \n",
       "           TTTGTTGCAGAGCCCT-1-L14 TTTGTTGCAGGTTCGC-1-L14 TTTGTTGGTACCTAGT-1-L14\n",
       "HES4       -0.3618868             -0.3595781             -0.2898208            \n",
       "ISG15      -0.8093281              0.3909281             -0.7160870            \n",
       "TNFRSF18   -0.1516817             -0.1588946             -0.1810645            \n",
       "TNFRSF4    -0.2681839             -0.2387677             -0.2511905            \n",
       "AL645728.1 -0.3175532              2.2594626             -0.2874482            \n",
       "MIB2        1.2390401             -0.3658706              1.5971848            \n",
       "           TTTGTTGGTACGTTCA-1-L14 TTTGTTGGTGGACCAA-1-L14 TTTGTTGTCGAAGAAT-1-L14\n",
       "HES4       -0.2445270             -0.66771084            -0.2764359            \n",
       "ISG15      -0.5755023              1.70855975             1.5406628            \n",
       "TNFRSF18   -0.2076000             -0.04253671            -0.2055351            \n",
       "TNFRSF4    -0.2033674             -0.26873145            -0.1605054            \n",
       "AL645728.1  3.8196340              1.03018486            -0.2932183            \n",
       "MIB2       -0.3935464              0.71125776            -0.3933075            "
      ]
     },
     "metadata": {},
     "output_type": "display_data"
    }
   ],
   "source": [
    "head(GetAssayData(rna_seurat_data, slot = \"scale.data\"))"
   ]
  },
  {
   "cell_type": "code",
   "execution_count": 140,
   "id": "3457aa22-ef49-4876-b429-c6ae07750ac0",
   "metadata": {},
   "outputs": [
    {
     "data": {
      "text/html": [
       "'RNA'"
      ],
      "text/latex": [
       "'RNA'"
      ],
      "text/markdown": [
       "'RNA'"
      ],
      "text/plain": [
       "[1] \"RNA\""
      ]
     },
     "metadata": {},
     "output_type": "display_data"
    }
   ],
   "source": [
    "DefaultAssay(rna_seurat_data)"
   ]
  },
  {
   "cell_type": "code",
   "execution_count": 141,
   "id": "bd21c0e1-b4a5-4afd-a9b6-9126fbc69a67",
   "metadata": {},
   "outputs": [],
   "source": [
    "#rna_seurat_data[['scaled_data']] = CreateAssayObject(data = GetAssayData(rna_seurat_data, slot = \"scale.data\"))"
   ]
  },
  {
   "cell_type": "code",
   "execution_count": 142,
   "id": "dc34e07e-550e-4739-acc3-23be95b37ee5",
   "metadata": {},
   "outputs": [],
   "source": [
    "#rna_seurat_data <- SetAssayData(rna_seurat_data, slot = \"scale.data\", new.data = GetAssayData(rna_seurat_data, slot = \"scale.data\"))"
   ]
  },
  {
   "cell_type": "code",
   "execution_count": 143,
   "id": "2bf9f74c-5f69-43f6-8e8b-bb98d10f3415",
   "metadata": {
    "tags": []
   },
   "outputs": [],
   "source": [
    "#str(rna_seurat_data)"
   ]
  },
  {
   "cell_type": "code",
   "execution_count": 144,
   "id": "e45bda29-dbbe-4e0e-ae7d-28fe8cffde67",
   "metadata": {},
   "outputs": [],
   "source": [
    "### Optional select which transformation to use"
   ]
  },
  {
   "cell_type": "code",
   "execution_count": 145,
   "id": "6e7fc01c-6ad4-4545-bd45-6dbb7d1c5603",
   "metadata": {},
   "outputs": [],
   "source": [
    "#DefaultAssay(rna_seurat_data) <- \"RNA\""
   ]
  },
  {
   "cell_type": "code",
   "execution_count": 146,
   "id": "485e49fc-ac5e-477d-8091-bcfbf2e62e1b",
   "metadata": {},
   "outputs": [
    {
     "data": {
      "text/plain": [
       "An object of class Seurat \n",
       "19221 features across 148275 samples within 1 assay \n",
       "Active assay: RNA (19221 features, 0 variable features)"
      ]
     },
     "metadata": {},
     "output_type": "display_data"
    }
   ],
   "source": [
    "rna_seurat_data"
   ]
  },
  {
   "cell_type": "markdown",
   "id": "bb5686ee-7302-4b8f-927e-0b74de33a6a8",
   "metadata": {
    "tags": []
   },
   "source": [
    "# Data Processing"
   ]
  },
  {
   "cell_type": "markdown",
   "id": "0da0c4fa-1d3a-4302-a598-86807be89669",
   "metadata": {
    "tags": []
   },
   "source": [
    "## Subset data"
   ]
  },
  {
   "cell_type": "code",
   "execution_count": 147,
   "id": "4b84dee6-bbb7-4ef2-ab3d-b0a632489ba2",
   "metadata": {},
   "outputs": [
    {
     "data": {
      "text/html": [
       "<style>\n",
       ".list-inline {list-style: none; margin:0; padding: 0}\n",
       ".list-inline>li {display: inline-block}\n",
       ".list-inline>li:not(:last-child)::after {content: \"\\00b7\"; padding: 0 .5ex}\n",
       "</style>\n",
       "<ol class=list-inline><li>19221</li><li>148275</li></ol>\n"
      ],
      "text/latex": [
       "\\begin{enumerate*}\n",
       "\\item 19221\n",
       "\\item 148275\n",
       "\\end{enumerate*}\n"
      ],
      "text/markdown": [
       "1. 19221\n",
       "2. 148275\n",
       "\n",
       "\n"
      ],
      "text/plain": [
       "[1]  19221 148275"
      ]
     },
     "metadata": {},
     "output_type": "display_data"
    }
   ],
   "source": [
    "dim(rna_seurat_data)"
   ]
  },
  {
   "cell_type": "code",
   "execution_count": 148,
   "id": "909aca79-78a3-4fb2-ab36-63cc088440ae",
   "metadata": {},
   "outputs": [],
   "source": [
    "rna_seurat_data_subset = rna_seurat_data"
   ]
  },
  {
   "cell_type": "code",
   "execution_count": 149,
   "id": "6e619463-d851-4774-b94b-1109e7256277",
   "metadata": {},
   "outputs": [],
   "source": [
    "### Speed up tests\n",
    "#rna_seurat_data_subset = rna_seurat_data_subset[1:100]"
   ]
  },
  {
   "cell_type": "code",
   "execution_count": 150,
   "id": "6c0ae625-b867-4ac4-8c02-a5032c12206d",
   "metadata": {},
   "outputs": [],
   "source": [
    "#rna_seurat_data_subset = rna_seurat_data_subset[,rna_seurat_data$cluster_cell_type_Scanorama %in% '0_T-cell-CD4']"
   ]
  },
  {
   "cell_type": "code",
   "execution_count": 151,
   "id": "82ff29d8-65fd-44b7-914f-0d9b022bc172",
   "metadata": {},
   "outputs": [
    {
     "data": {
      "text/html": [
       "<style>\n",
       ".list-inline {list-style: none; margin:0; padding: 0}\n",
       ".list-inline>li {display: inline-block}\n",
       ".list-inline>li:not(:last-child)::after {content: \"\\00b7\"; padding: 0 .5ex}\n",
       "</style>\n",
       "<ol class=list-inline><li>19221</li><li>148275</li></ol>\n"
      ],
      "text/latex": [
       "\\begin{enumerate*}\n",
       "\\item 19221\n",
       "\\item 148275\n",
       "\\end{enumerate*}\n"
      ],
      "text/markdown": [
       "1. 19221\n",
       "2. 148275\n",
       "\n",
       "\n"
      ],
      "text/plain": [
       "[1]  19221 148275"
      ]
     },
     "metadata": {},
     "output_type": "display_data"
    }
   ],
   "source": [
    "dim(rna_seurat_data_subset)"
   ]
  },
  {
   "cell_type": "markdown",
   "id": "f1c9a1c5-936b-443f-aee1-8d8715788d4a",
   "metadata": {
    "tags": []
   },
   "source": [
    "## Define columns for aggregation to pseudobulk + data type conversions"
   ]
  },
  {
   "cell_type": "code",
   "execution_count": 152,
   "id": "b7f60ef4-db4c-4c4e-a770-10e2256bad13",
   "metadata": {},
   "outputs": [],
   "source": [
    "sample_column = 'display_name' # to be sample-id"
   ]
  },
  {
   "cell_type": "code",
   "execution_count": 153,
   "id": "1a102852-3c89-4b18-b1aa-232119f31f14",
   "metadata": {},
   "outputs": [],
   "source": [
    "cluster_column =  'cluster_cell_type_Scanorama' # to be cluster_id\n",
    "#cluster_column = 'cell_type_Scanorama' # alternative use cell-types instead of clusters"
   ]
  },
  {
   "cell_type": "code",
   "execution_count": 154,
   "id": "70e459f3-a645-4da3-88d4-e8a5d656cb23",
   "metadata": {},
   "outputs": [],
   "source": [
    "obs = rna_seurat_data_subset@meta.data"
   ]
  },
  {
   "cell_type": "code",
   "execution_count": 155,
   "id": "45377d3f-8062-4652-b060-e312bf983338",
   "metadata": {},
   "outputs": [],
   "source": [
    "obs$cell = rownames(obs)"
   ]
  },
  {
   "cell_type": "code",
   "execution_count": 156,
   "id": "4eae1383-40fb-42df-a162-797a1146635f",
   "metadata": {},
   "outputs": [
    {
     "data": {
      "text/html": [
       "<table class=\"dataframe\">\n",
       "<caption>A data.frame: 6 × 29</caption>\n",
       "<thead>\n",
       "\t<tr><th></th><th scope=col>nCount_HTO</th><th scope=col>B2_Scanorama_Singlet_cluster</th><th scope=col>B2_Scanorama_Singlet_rb_mt_cluster</th><th scope=col>cell_type_Scanorama</th><th scope=col>cluster_cell_type_Scanorama</th><th scope=col>classification_measurement</th><th scope=col>delta_ef_value_group_measurement</th><th scope=col>m_y</th><th scope=col>measurement_y</th><th scope=col>delta_ef_value_group</th><th scope=col>⋯</th><th scope=col>library</th><th scope=col>id</th><th scope=col>read</th><th scope=col>pattern</th><th scope=col>sequence</th><th scope=col>feature_type</th><th scope=col>in_sample</th><th scope=col>display_name</th><th scope=col>group_x</th><th scope=col>cell</th></tr>\n",
       "\t<tr><th></th><th scope=col>&lt;dbl&gt;</th><th scope=col>&lt;fct&gt;</th><th scope=col>&lt;fct&gt;</th><th scope=col>&lt;fct&gt;</th><th scope=col>&lt;fct&gt;</th><th scope=col>&lt;fct&gt;</th><th scope=col>&lt;fct&gt;</th><th scope=col>&lt;fct&gt;</th><th scope=col>&lt;fct&gt;</th><th scope=col>&lt;fct&gt;</th><th scope=col>⋯</th><th scope=col>&lt;fct&gt;</th><th scope=col>&lt;fct&gt;</th><th scope=col>&lt;fct&gt;</th><th scope=col>&lt;fct&gt;</th><th scope=col>&lt;fct&gt;</th><th scope=col>&lt;fct&gt;</th><th scope=col>&lt;dbl&gt;</th><th scope=col>&lt;fct&gt;</th><th scope=col>&lt;fct&gt;</th><th scope=col>&lt;chr&gt;</th></tr>\n",
       "</thead>\n",
       "<tbody>\n",
       "\t<tr><th scope=row>AAACCCACATACAGGG-1-L1</th><td>1574</td><td>8 </td><td>8 </td><td>B-cell                 </td><td>8_B-cell                 </td><td>acs_w_o_infection_TP1</td><td>x_greater_1_TP1</td><td>M9 (14,3) </td><td>TP1    </td><td>x_greater_1</td><td>⋯</td><td>L1</td><td>HTO_B0259</td><td>R2</td><td>5PNNNNNNNNNN(BC)</td><td>CAGTAGTCACGGTCA</td><td>Antibody Capture</td><td>1</td><td>9.1</td><td>TP1</td><td>AAACCCACATACAGGG-1-L1</td></tr>\n",
       "\t<tr><th scope=row>AAACCCACATGACTTG-1-L1</th><td> 379</td><td>9 </td><td>9 </td><td>Monocytes - CD16_FCGR3A</td><td>9_Monocytes - CD16_FCGR3A</td><td>acs_w_o_infection_TP1</td><td>x_greater_1_TP1</td><td>M9 (14,3) </td><td>TP1    </td><td>x_greater_1</td><td>⋯</td><td>L1</td><td>HTO_B0259</td><td>R2</td><td>5PNNNNNNNNNN(BC)</td><td>CAGTAGTCACGGTCA</td><td>Antibody Capture</td><td>1</td><td>9.1</td><td>TP1</td><td>AAACCCACATGACTTG-1-L1</td></tr>\n",
       "\t<tr><th scope=row>AAACCCAGTCATCAGT-1-L1</th><td> 421</td><td>5 </td><td>5 </td><td>T-cell-CD4             </td><td>5_T-cell-CD4             </td><td>acs_w_o_infection_TP1</td><td>x_smaller_1_TP1</td><td>M7 (0,75) </td><td>TP1    </td><td>x_smaller_1</td><td>⋯</td><td>L1</td><td>HTO_B0257</td><td>R2</td><td>5PNNNNNNNNNN(BC)</td><td>TGTCTTTCCTGCCAG</td><td>Antibody Capture</td><td>1</td><td>7.1</td><td>TP1</td><td>AAACCCAGTCATCAGT-1-L1</td></tr>\n",
       "\t<tr><th scope=row>AAACCCAGTGGTAATA-1-L1</th><td> 478</td><td>0 </td><td>0 </td><td>T-cell-CD4             </td><td>0_T-cell-CD4             </td><td>acs_w_o_infection_TP1</td><td>x_greater_1_TP1</td><td>M9 (14,3) </td><td>TP1    </td><td>x_greater_1</td><td>⋯</td><td>L1</td><td>HTO_B0259</td><td>R2</td><td>5PNNNNNNNNNN(BC)</td><td>CAGTAGTCACGGTCA</td><td>Antibody Capture</td><td>1</td><td>9.1</td><td>TP1</td><td>AAACCCAGTGGTAATA-1-L1</td></tr>\n",
       "\t<tr><th scope=row>AAACCCATCATCACAG-1-L1</th><td> 851</td><td>16</td><td>16</td><td>Plasma Blast           </td><td>16_Plasma Blast          </td><td>acs_w_o_infection_TP1</td><td>x_greater_1_TP1</td><td>M9 (14,3) </td><td>TP1    </td><td>x_greater_1</td><td>⋯</td><td>L1</td><td>HTO_B0259</td><td>R2</td><td>5PNNNNNNNNNN(BC)</td><td>CAGTAGTCACGGTCA</td><td>Antibody Capture</td><td>1</td><td>9.1</td><td>TP1</td><td>AAACCCATCATCACAG-1-L1</td></tr>\n",
       "\t<tr><th scope=row>AAACCCATCGATGGAG-1-L1</th><td> 473</td><td>0 </td><td>0 </td><td>T-cell-CD4             </td><td>0_T-cell-CD4             </td><td>acs_subacute_TP1     </td><td>missing        </td><td>missing   </td><td>missing</td><td>missing    </td><td>⋯</td><td>L1</td><td>HTO_B0258</td><td>R2</td><td>5PNNNNNNNNNN(BC)</td><td>CTCCTCTGCAATTAC</td><td>Antibody Capture</td><td>1</td><td>8.1</td><td>TP1</td><td>AAACCCATCGATGGAG-1-L1</td></tr>\n",
       "</tbody>\n",
       "</table>\n"
      ],
      "text/latex": [
       "A data.frame: 6 × 29\n",
       "\\begin{tabular}{r|lllllllllllllllllllll}\n",
       "  & nCount\\_HTO & B2\\_Scanorama\\_Singlet\\_cluster & B2\\_Scanorama\\_Singlet\\_rb\\_mt\\_cluster & cell\\_type\\_Scanorama & cluster\\_cell\\_type\\_Scanorama & classification\\_measurement & delta\\_ef\\_value\\_group\\_measurement & m\\_y & measurement\\_y & delta\\_ef\\_value\\_group & ⋯ & library & id & read & pattern & sequence & feature\\_type & in\\_sample & display\\_name & group\\_x & cell\\\\\n",
       "  & <dbl> & <fct> & <fct> & <fct> & <fct> & <fct> & <fct> & <fct> & <fct> & <fct> & ⋯ & <fct> & <fct> & <fct> & <fct> & <fct> & <fct> & <dbl> & <fct> & <fct> & <chr>\\\\\n",
       "\\hline\n",
       "\tAAACCCACATACAGGG-1-L1 & 1574 & 8  & 8  & B-cell                  & 8\\_B-cell                  & acs\\_w\\_o\\_infection\\_TP1 & x\\_greater\\_1\\_TP1 & M9 (14,3)  & TP1     & x\\_greater\\_1 & ⋯ & L1 & HTO\\_B0259 & R2 & 5PNNNNNNNNNN(BC) & CAGTAGTCACGGTCA & Antibody Capture & 1 & 9.1 & TP1 & AAACCCACATACAGGG-1-L1\\\\\n",
       "\tAAACCCACATGACTTG-1-L1 &  379 & 9  & 9  & Monocytes - CD16\\_FCGR3A & 9\\_Monocytes - CD16\\_FCGR3A & acs\\_w\\_o\\_infection\\_TP1 & x\\_greater\\_1\\_TP1 & M9 (14,3)  & TP1     & x\\_greater\\_1 & ⋯ & L1 & HTO\\_B0259 & R2 & 5PNNNNNNNNNN(BC) & CAGTAGTCACGGTCA & Antibody Capture & 1 & 9.1 & TP1 & AAACCCACATGACTTG-1-L1\\\\\n",
       "\tAAACCCAGTCATCAGT-1-L1 &  421 & 5  & 5  & T-cell-CD4              & 5\\_T-cell-CD4              & acs\\_w\\_o\\_infection\\_TP1 & x\\_smaller\\_1\\_TP1 & M7 (0,75)  & TP1     & x\\_smaller\\_1 & ⋯ & L1 & HTO\\_B0257 & R2 & 5PNNNNNNNNNN(BC) & TGTCTTTCCTGCCAG & Antibody Capture & 1 & 7.1 & TP1 & AAACCCAGTCATCAGT-1-L1\\\\\n",
       "\tAAACCCAGTGGTAATA-1-L1 &  478 & 0  & 0  & T-cell-CD4              & 0\\_T-cell-CD4              & acs\\_w\\_o\\_infection\\_TP1 & x\\_greater\\_1\\_TP1 & M9 (14,3)  & TP1     & x\\_greater\\_1 & ⋯ & L1 & HTO\\_B0259 & R2 & 5PNNNNNNNNNN(BC) & CAGTAGTCACGGTCA & Antibody Capture & 1 & 9.1 & TP1 & AAACCCAGTGGTAATA-1-L1\\\\\n",
       "\tAAACCCATCATCACAG-1-L1 &  851 & 16 & 16 & Plasma Blast            & 16\\_Plasma Blast           & acs\\_w\\_o\\_infection\\_TP1 & x\\_greater\\_1\\_TP1 & M9 (14,3)  & TP1     & x\\_greater\\_1 & ⋯ & L1 & HTO\\_B0259 & R2 & 5PNNNNNNNNNN(BC) & CAGTAGTCACGGTCA & Antibody Capture & 1 & 9.1 & TP1 & AAACCCATCATCACAG-1-L1\\\\\n",
       "\tAAACCCATCGATGGAG-1-L1 &  473 & 0  & 0  & T-cell-CD4              & 0\\_T-cell-CD4              & acs\\_subacute\\_TP1      & missing         & missing    & missing & missing     & ⋯ & L1 & HTO\\_B0258 & R2 & 5PNNNNNNNNNN(BC) & CTCCTCTGCAATTAC & Antibody Capture & 1 & 8.1 & TP1 & AAACCCATCGATGGAG-1-L1\\\\\n",
       "\\end{tabular}\n"
      ],
      "text/markdown": [
       "\n",
       "A data.frame: 6 × 29\n",
       "\n",
       "| <!--/--> | nCount_HTO &lt;dbl&gt; | B2_Scanorama_Singlet_cluster &lt;fct&gt; | B2_Scanorama_Singlet_rb_mt_cluster &lt;fct&gt; | cell_type_Scanorama &lt;fct&gt; | cluster_cell_type_Scanorama &lt;fct&gt; | classification_measurement &lt;fct&gt; | delta_ef_value_group_measurement &lt;fct&gt; | m_y &lt;fct&gt; | measurement_y &lt;fct&gt; | delta_ef_value_group &lt;fct&gt; | ⋯ ⋯ | library &lt;fct&gt; | id &lt;fct&gt; | read &lt;fct&gt; | pattern &lt;fct&gt; | sequence &lt;fct&gt; | feature_type &lt;fct&gt; | in_sample &lt;dbl&gt; | display_name &lt;fct&gt; | group_x &lt;fct&gt; | cell &lt;chr&gt; |\n",
       "|---|---|---|---|---|---|---|---|---|---|---|---|---|---|---|---|---|---|---|---|---|---|\n",
       "| AAACCCACATACAGGG-1-L1 | 1574 | 8  | 8  | B-cell                  | 8_B-cell                  | acs_w_o_infection_TP1 | x_greater_1_TP1 | M9 (14,3)  | TP1     | x_greater_1 | ⋯ | L1 | HTO_B0259 | R2 | 5PNNNNNNNNNN(BC) | CAGTAGTCACGGTCA | Antibody Capture | 1 | 9.1 | TP1 | AAACCCACATACAGGG-1-L1 |\n",
       "| AAACCCACATGACTTG-1-L1 |  379 | 9  | 9  | Monocytes - CD16_FCGR3A | 9_Monocytes - CD16_FCGR3A | acs_w_o_infection_TP1 | x_greater_1_TP1 | M9 (14,3)  | TP1     | x_greater_1 | ⋯ | L1 | HTO_B0259 | R2 | 5PNNNNNNNNNN(BC) | CAGTAGTCACGGTCA | Antibody Capture | 1 | 9.1 | TP1 | AAACCCACATGACTTG-1-L1 |\n",
       "| AAACCCAGTCATCAGT-1-L1 |  421 | 5  | 5  | T-cell-CD4              | 5_T-cell-CD4              | acs_w_o_infection_TP1 | x_smaller_1_TP1 | M7 (0,75)  | TP1     | x_smaller_1 | ⋯ | L1 | HTO_B0257 | R2 | 5PNNNNNNNNNN(BC) | TGTCTTTCCTGCCAG | Antibody Capture | 1 | 7.1 | TP1 | AAACCCAGTCATCAGT-1-L1 |\n",
       "| AAACCCAGTGGTAATA-1-L1 |  478 | 0  | 0  | T-cell-CD4              | 0_T-cell-CD4              | acs_w_o_infection_TP1 | x_greater_1_TP1 | M9 (14,3)  | TP1     | x_greater_1 | ⋯ | L1 | HTO_B0259 | R2 | 5PNNNNNNNNNN(BC) | CAGTAGTCACGGTCA | Antibody Capture | 1 | 9.1 | TP1 | AAACCCAGTGGTAATA-1-L1 |\n",
       "| AAACCCATCATCACAG-1-L1 |  851 | 16 | 16 | Plasma Blast            | 16_Plasma Blast           | acs_w_o_infection_TP1 | x_greater_1_TP1 | M9 (14,3)  | TP1     | x_greater_1 | ⋯ | L1 | HTO_B0259 | R2 | 5PNNNNNNNNNN(BC) | CAGTAGTCACGGTCA | Antibody Capture | 1 | 9.1 | TP1 | AAACCCATCATCACAG-1-L1 |\n",
       "| AAACCCATCGATGGAG-1-L1 |  473 | 0  | 0  | T-cell-CD4              | 0_T-cell-CD4              | acs_subacute_TP1      | missing         | missing    | missing | missing     | ⋯ | L1 | HTO_B0258 | R2 | 5PNNNNNNNNNN(BC) | CTCCTCTGCAATTAC | Antibody Capture | 1 | 8.1 | TP1 | AAACCCATCGATGGAG-1-L1 |\n",
       "\n"
      ],
      "text/plain": [
       "                      nCount_HTO B2_Scanorama_Singlet_cluster\n",
       "AAACCCACATACAGGG-1-L1 1574       8                           \n",
       "AAACCCACATGACTTG-1-L1  379       9                           \n",
       "AAACCCAGTCATCAGT-1-L1  421       5                           \n",
       "AAACCCAGTGGTAATA-1-L1  478       0                           \n",
       "AAACCCATCATCACAG-1-L1  851       16                          \n",
       "AAACCCATCGATGGAG-1-L1  473       0                           \n",
       "                      B2_Scanorama_Singlet_rb_mt_cluster\n",
       "AAACCCACATACAGGG-1-L1 8                                 \n",
       "AAACCCACATGACTTG-1-L1 9                                 \n",
       "AAACCCAGTCATCAGT-1-L1 5                                 \n",
       "AAACCCAGTGGTAATA-1-L1 0                                 \n",
       "AAACCCATCATCACAG-1-L1 16                                \n",
       "AAACCCATCGATGGAG-1-L1 0                                 \n",
       "                      cell_type_Scanorama     cluster_cell_type_Scanorama\n",
       "AAACCCACATACAGGG-1-L1 B-cell                  8_B-cell                   \n",
       "AAACCCACATGACTTG-1-L1 Monocytes - CD16_FCGR3A 9_Monocytes - CD16_FCGR3A  \n",
       "AAACCCAGTCATCAGT-1-L1 T-cell-CD4              5_T-cell-CD4               \n",
       "AAACCCAGTGGTAATA-1-L1 T-cell-CD4              0_T-cell-CD4               \n",
       "AAACCCATCATCACAG-1-L1 Plasma Blast            16_Plasma Blast            \n",
       "AAACCCATCGATGGAG-1-L1 T-cell-CD4              0_T-cell-CD4               \n",
       "                      classification_measurement\n",
       "AAACCCACATACAGGG-1-L1 acs_w_o_infection_TP1     \n",
       "AAACCCACATGACTTG-1-L1 acs_w_o_infection_TP1     \n",
       "AAACCCAGTCATCAGT-1-L1 acs_w_o_infection_TP1     \n",
       "AAACCCAGTGGTAATA-1-L1 acs_w_o_infection_TP1     \n",
       "AAACCCATCATCACAG-1-L1 acs_w_o_infection_TP1     \n",
       "AAACCCATCGATGGAG-1-L1 acs_subacute_TP1          \n",
       "                      delta_ef_value_group_measurement m_y        measurement_y\n",
       "AAACCCACATACAGGG-1-L1 x_greater_1_TP1                  M9 (14,3)  TP1          \n",
       "AAACCCACATGACTTG-1-L1 x_greater_1_TP1                  M9 (14,3)  TP1          \n",
       "AAACCCAGTCATCAGT-1-L1 x_smaller_1_TP1                  M7 (0,75)  TP1          \n",
       "AAACCCAGTGGTAATA-1-L1 x_greater_1_TP1                  M9 (14,3)  TP1          \n",
       "AAACCCATCATCACAG-1-L1 x_greater_1_TP1                  M9 (14,3)  TP1          \n",
       "AAACCCATCGATGGAG-1-L1 missing                          missing    missing      \n",
       "                      delta_ef_value_group ⋯ library id        read\n",
       "AAACCCACATACAGGG-1-L1 x_greater_1          ⋯ L1      HTO_B0259 R2  \n",
       "AAACCCACATGACTTG-1-L1 x_greater_1          ⋯ L1      HTO_B0259 R2  \n",
       "AAACCCAGTCATCAGT-1-L1 x_smaller_1          ⋯ L1      HTO_B0257 R2  \n",
       "AAACCCAGTGGTAATA-1-L1 x_greater_1          ⋯ L1      HTO_B0259 R2  \n",
       "AAACCCATCATCACAG-1-L1 x_greater_1          ⋯ L1      HTO_B0259 R2  \n",
       "AAACCCATCGATGGAG-1-L1 missing              ⋯ L1      HTO_B0258 R2  \n",
       "                      pattern          sequence        feature_type    \n",
       "AAACCCACATACAGGG-1-L1 5PNNNNNNNNNN(BC) CAGTAGTCACGGTCA Antibody Capture\n",
       "AAACCCACATGACTTG-1-L1 5PNNNNNNNNNN(BC) CAGTAGTCACGGTCA Antibody Capture\n",
       "AAACCCAGTCATCAGT-1-L1 5PNNNNNNNNNN(BC) TGTCTTTCCTGCCAG Antibody Capture\n",
       "AAACCCAGTGGTAATA-1-L1 5PNNNNNNNNNN(BC) CAGTAGTCACGGTCA Antibody Capture\n",
       "AAACCCATCATCACAG-1-L1 5PNNNNNNNNNN(BC) CAGTAGTCACGGTCA Antibody Capture\n",
       "AAACCCATCGATGGAG-1-L1 5PNNNNNNNNNN(BC) CTCCTCTGCAATTAC Antibody Capture\n",
       "                      in_sample display_name group_x cell                 \n",
       "AAACCCACATACAGGG-1-L1 1         9.1          TP1     AAACCCACATACAGGG-1-L1\n",
       "AAACCCACATGACTTG-1-L1 1         9.1          TP1     AAACCCACATGACTTG-1-L1\n",
       "AAACCCAGTCATCAGT-1-L1 1         7.1          TP1     AAACCCAGTCATCAGT-1-L1\n",
       "AAACCCAGTGGTAATA-1-L1 1         9.1          TP1     AAACCCAGTGGTAATA-1-L1\n",
       "AAACCCATCATCACAG-1-L1 1         9.1          TP1     AAACCCATCATCACAG-1-L1\n",
       "AAACCCATCGATGGAG-1-L1 1         8.1          TP1     AAACCCATCGATGGAG-1-L1"
      ]
     },
     "metadata": {},
     "output_type": "display_data"
    }
   ],
   "source": [
    "head(obs)"
   ]
  },
  {
   "cell_type": "code",
   "execution_count": 157,
   "id": "52ae713c-431c-4bde-8853-e583a22ac968",
   "metadata": {},
   "outputs": [
    {
     "data": {
      "text/html": [
       "<table class=\"dataframe\">\n",
       "<caption>A data.frame: 6 × 29</caption>\n",
       "<thead>\n",
       "\t<tr><th></th><th scope=col>nCount_HTO</th><th scope=col>B2_Scanorama_Singlet_cluster</th><th scope=col>B2_Scanorama_Singlet_rb_mt_cluster</th><th scope=col>cell_type_Scanorama</th><th scope=col>cluster_cell_type_Scanorama</th><th scope=col>classification_measurement</th><th scope=col>delta_ef_value_group_measurement</th><th scope=col>m_y</th><th scope=col>measurement_y</th><th scope=col>delta_ef_value_group</th><th scope=col>⋯</th><th scope=col>library</th><th scope=col>id</th><th scope=col>read</th><th scope=col>pattern</th><th scope=col>sequence</th><th scope=col>feature_type</th><th scope=col>in_sample</th><th scope=col>display_name</th><th scope=col>group_x</th><th scope=col>cell</th></tr>\n",
       "\t<tr><th></th><th scope=col>&lt;dbl&gt;</th><th scope=col>&lt;fct&gt;</th><th scope=col>&lt;fct&gt;</th><th scope=col>&lt;fct&gt;</th><th scope=col>&lt;fct&gt;</th><th scope=col>&lt;fct&gt;</th><th scope=col>&lt;fct&gt;</th><th scope=col>&lt;fct&gt;</th><th scope=col>&lt;fct&gt;</th><th scope=col>&lt;fct&gt;</th><th scope=col>⋯</th><th scope=col>&lt;fct&gt;</th><th scope=col>&lt;fct&gt;</th><th scope=col>&lt;fct&gt;</th><th scope=col>&lt;fct&gt;</th><th scope=col>&lt;fct&gt;</th><th scope=col>&lt;fct&gt;</th><th scope=col>&lt;dbl&gt;</th><th scope=col>&lt;fct&gt;</th><th scope=col>&lt;fct&gt;</th><th scope=col>&lt;chr&gt;</th></tr>\n",
       "</thead>\n",
       "<tbody>\n",
       "\t<tr><th scope=row>AAACCCAAGAAGGGAT-1-L10</th><td> 261</td><td>2</td><td>2</td><td>T-cell-CD4</td><td>2_T-cell-CD4</td><td>acs_w_o_infection_TP4</td><td>x_smaller_0_TP4</td><td>M3 (-0,06)</td><td>TP4    </td><td>x_smaller_0</td><td>⋯</td><td>L10</td><td>HTO_B0252</td><td>R2</td><td>5PNNNNNNNNNN(BC)</td><td>TGATGGCCTATTGGG</td><td>Antibody Capture</td><td>1</td><td>3.4 </td><td>TP4   </td><td>AAACCCAAGAAGGGAT-1-L10</td></tr>\n",
       "\t<tr><th scope=row>AAACCCAAGACAGCGT-1-L4</th><td>1410</td><td>3</td><td>3</td><td>NK        </td><td>3_NK        </td><td>acs_w_o_infection_TP2</td><td>x_greater_1_TP2</td><td>M2 (1,15) </td><td>TP2    </td><td>x_greater_1</td><td>⋯</td><td>L4 </td><td>HTO_B0252</td><td>R2</td><td>5PNNNNNNNNNN(BC)</td><td>TGATGGCCTATTGGG</td><td>Antibody Capture</td><td>1</td><td>2.2 </td><td>TP2   </td><td>AAACCCAAGACAGCGT-1-L4 </td></tr>\n",
       "\t<tr><th scope=row>AAACCCAAGACATAAC-1-L3</th><td> 469</td><td>5</td><td>5</td><td>T-cell-CD4</td><td>5_T-cell-CD4</td><td>acs_w_o_infection_TP1</td><td>x_smaller_1_TP1</td><td>M25 (0,69)</td><td>TP1    </td><td>x_smaller_1</td><td>⋯</td><td>L3 </td><td>HTO_B0255</td><td>R2</td><td>5PNNNNNNNNNN(BC)</td><td>AAGTATCGTTTCGCA</td><td>Antibody Capture</td><td>1</td><td>25.1</td><td>TP1   </td><td>AAACCCAAGACATAAC-1-L3 </td></tr>\n",
       "\t<tr><th scope=row>AAACCCAAGACCATTC-1-L9</th><td>1104</td><td>5</td><td>5</td><td>T-cell-CD4</td><td>5_T-cell-CD4</td><td>koronarsklerose_TP0  </td><td>missing        </td><td>missing   </td><td>missing</td><td>missing    </td><td>⋯</td><td>L9 </td><td>HTO_B0256</td><td>R2</td><td>5PNNNNNNNNNN(BC)</td><td>GGTTGCCAGATGTCA</td><td>Antibody Capture</td><td>1</td><td>33  </td><td>No-CCS</td><td>AAACCCAAGACCATTC-1-L9 </td></tr>\n",
       "\t<tr><th scope=row>AAACCCAAGACTGGGT-1-L2</th><td> 355</td><td>0</td><td>0</td><td>T-cell-CD4</td><td>0_T-cell-CD4</td><td>acs_w_o_infection_TP1</td><td>x_smaller_0_TP1</td><td>M13 (-2,2)</td><td>TP1    </td><td>x_smaller_0</td><td>⋯</td><td>L2 </td><td>HTO_B0253</td><td>R2</td><td>5PNNNNNNNNNN(BC)</td><td>TTCCGCCTCTCTTTG</td><td>Antibody Capture</td><td>1</td><td>13.1</td><td>TP1   </td><td>AAACCCAAGACTGGGT-1-L2 </td></tr>\n",
       "\t<tr><th scope=row>AAACCCAAGACTTAAG-1-L7</th><td> 302</td><td>1</td><td>1</td><td>T-cell-CD8</td><td>1_T-cell-CD8</td><td>acs_w_o_infection_TP3</td><td>x_smaller_0_TP3</td><td>M3 (-0,06)</td><td>TP3    </td><td>x_smaller_0</td><td>⋯</td><td>L7 </td><td>HTO_B0253</td><td>R2</td><td>5PNNNNNNNNNN(BC)</td><td>TTCCGCCTCTCTTTG</td><td>Antibody Capture</td><td>1</td><td>3.3 </td><td>TP3   </td><td>AAACCCAAGACTTAAG-1-L7 </td></tr>\n",
       "</tbody>\n",
       "</table>\n"
      ],
      "text/latex": [
       "A data.frame: 6 × 29\n",
       "\\begin{tabular}{r|lllllllllllllllllllll}\n",
       "  & nCount\\_HTO & B2\\_Scanorama\\_Singlet\\_cluster & B2\\_Scanorama\\_Singlet\\_rb\\_mt\\_cluster & cell\\_type\\_Scanorama & cluster\\_cell\\_type\\_Scanorama & classification\\_measurement & delta\\_ef\\_value\\_group\\_measurement & m\\_y & measurement\\_y & delta\\_ef\\_value\\_group & ⋯ & library & id & read & pattern & sequence & feature\\_type & in\\_sample & display\\_name & group\\_x & cell\\\\\n",
       "  & <dbl> & <fct> & <fct> & <fct> & <fct> & <fct> & <fct> & <fct> & <fct> & <fct> & ⋯ & <fct> & <fct> & <fct> & <fct> & <fct> & <fct> & <dbl> & <fct> & <fct> & <chr>\\\\\n",
       "\\hline\n",
       "\tAAACCCAAGAAGGGAT-1-L10 &  261 & 2 & 2 & T-cell-CD4 & 2\\_T-cell-CD4 & acs\\_w\\_o\\_infection\\_TP4 & x\\_smaller\\_0\\_TP4 & M3 (-0,06) & TP4     & x\\_smaller\\_0 & ⋯ & L10 & HTO\\_B0252 & R2 & 5PNNNNNNNNNN(BC) & TGATGGCCTATTGGG & Antibody Capture & 1 & 3.4  & TP4    & AAACCCAAGAAGGGAT-1-L10\\\\\n",
       "\tAAACCCAAGACAGCGT-1-L4 & 1410 & 3 & 3 & NK         & 3\\_NK         & acs\\_w\\_o\\_infection\\_TP2 & x\\_greater\\_1\\_TP2 & M2 (1,15)  & TP2     & x\\_greater\\_1 & ⋯ & L4  & HTO\\_B0252 & R2 & 5PNNNNNNNNNN(BC) & TGATGGCCTATTGGG & Antibody Capture & 1 & 2.2  & TP2    & AAACCCAAGACAGCGT-1-L4 \\\\\n",
       "\tAAACCCAAGACATAAC-1-L3 &  469 & 5 & 5 & T-cell-CD4 & 5\\_T-cell-CD4 & acs\\_w\\_o\\_infection\\_TP1 & x\\_smaller\\_1\\_TP1 & M25 (0,69) & TP1     & x\\_smaller\\_1 & ⋯ & L3  & HTO\\_B0255 & R2 & 5PNNNNNNNNNN(BC) & AAGTATCGTTTCGCA & Antibody Capture & 1 & 25.1 & TP1    & AAACCCAAGACATAAC-1-L3 \\\\\n",
       "\tAAACCCAAGACCATTC-1-L9 & 1104 & 5 & 5 & T-cell-CD4 & 5\\_T-cell-CD4 & koronarsklerose\\_TP0   & missing         & missing    & missing & missing     & ⋯ & L9  & HTO\\_B0256 & R2 & 5PNNNNNNNNNN(BC) & GGTTGCCAGATGTCA & Antibody Capture & 1 & 33   & No-CCS & AAACCCAAGACCATTC-1-L9 \\\\\n",
       "\tAAACCCAAGACTGGGT-1-L2 &  355 & 0 & 0 & T-cell-CD4 & 0\\_T-cell-CD4 & acs\\_w\\_o\\_infection\\_TP1 & x\\_smaller\\_0\\_TP1 & M13 (-2,2) & TP1     & x\\_smaller\\_0 & ⋯ & L2  & HTO\\_B0253 & R2 & 5PNNNNNNNNNN(BC) & TTCCGCCTCTCTTTG & Antibody Capture & 1 & 13.1 & TP1    & AAACCCAAGACTGGGT-1-L2 \\\\\n",
       "\tAAACCCAAGACTTAAG-1-L7 &  302 & 1 & 1 & T-cell-CD8 & 1\\_T-cell-CD8 & acs\\_w\\_o\\_infection\\_TP3 & x\\_smaller\\_0\\_TP3 & M3 (-0,06) & TP3     & x\\_smaller\\_0 & ⋯ & L7  & HTO\\_B0253 & R2 & 5PNNNNNNNNNN(BC) & TTCCGCCTCTCTTTG & Antibody Capture & 1 & 3.3  & TP3    & AAACCCAAGACTTAAG-1-L7 \\\\\n",
       "\\end{tabular}\n"
      ],
      "text/markdown": [
       "\n",
       "A data.frame: 6 × 29\n",
       "\n",
       "| <!--/--> | nCount_HTO &lt;dbl&gt; | B2_Scanorama_Singlet_cluster &lt;fct&gt; | B2_Scanorama_Singlet_rb_mt_cluster &lt;fct&gt; | cell_type_Scanorama &lt;fct&gt; | cluster_cell_type_Scanorama &lt;fct&gt; | classification_measurement &lt;fct&gt; | delta_ef_value_group_measurement &lt;fct&gt; | m_y &lt;fct&gt; | measurement_y &lt;fct&gt; | delta_ef_value_group &lt;fct&gt; | ⋯ ⋯ | library &lt;fct&gt; | id &lt;fct&gt; | read &lt;fct&gt; | pattern &lt;fct&gt; | sequence &lt;fct&gt; | feature_type &lt;fct&gt; | in_sample &lt;dbl&gt; | display_name &lt;fct&gt; | group_x &lt;fct&gt; | cell &lt;chr&gt; |\n",
       "|---|---|---|---|---|---|---|---|---|---|---|---|---|---|---|---|---|---|---|---|---|---|\n",
       "| AAACCCAAGAAGGGAT-1-L10 |  261 | 2 | 2 | T-cell-CD4 | 2_T-cell-CD4 | acs_w_o_infection_TP4 | x_smaller_0_TP4 | M3 (-0,06) | TP4     | x_smaller_0 | ⋯ | L10 | HTO_B0252 | R2 | 5PNNNNNNNNNN(BC) | TGATGGCCTATTGGG | Antibody Capture | 1 | 3.4  | TP4    | AAACCCAAGAAGGGAT-1-L10 |\n",
       "| AAACCCAAGACAGCGT-1-L4 | 1410 | 3 | 3 | NK         | 3_NK         | acs_w_o_infection_TP2 | x_greater_1_TP2 | M2 (1,15)  | TP2     | x_greater_1 | ⋯ | L4  | HTO_B0252 | R2 | 5PNNNNNNNNNN(BC) | TGATGGCCTATTGGG | Antibody Capture | 1 | 2.2  | TP2    | AAACCCAAGACAGCGT-1-L4  |\n",
       "| AAACCCAAGACATAAC-1-L3 |  469 | 5 | 5 | T-cell-CD4 | 5_T-cell-CD4 | acs_w_o_infection_TP1 | x_smaller_1_TP1 | M25 (0,69) | TP1     | x_smaller_1 | ⋯ | L3  | HTO_B0255 | R2 | 5PNNNNNNNNNN(BC) | AAGTATCGTTTCGCA | Antibody Capture | 1 | 25.1 | TP1    | AAACCCAAGACATAAC-1-L3  |\n",
       "| AAACCCAAGACCATTC-1-L9 | 1104 | 5 | 5 | T-cell-CD4 | 5_T-cell-CD4 | koronarsklerose_TP0   | missing         | missing    | missing | missing     | ⋯ | L9  | HTO_B0256 | R2 | 5PNNNNNNNNNN(BC) | GGTTGCCAGATGTCA | Antibody Capture | 1 | 33   | No-CCS | AAACCCAAGACCATTC-1-L9  |\n",
       "| AAACCCAAGACTGGGT-1-L2 |  355 | 0 | 0 | T-cell-CD4 | 0_T-cell-CD4 | acs_w_o_infection_TP1 | x_smaller_0_TP1 | M13 (-2,2) | TP1     | x_smaller_0 | ⋯ | L2  | HTO_B0253 | R2 | 5PNNNNNNNNNN(BC) | TTCCGCCTCTCTTTG | Antibody Capture | 1 | 13.1 | TP1    | AAACCCAAGACTGGGT-1-L2  |\n",
       "| AAACCCAAGACTTAAG-1-L7 |  302 | 1 | 1 | T-cell-CD8 | 1_T-cell-CD8 | acs_w_o_infection_TP3 | x_smaller_0_TP3 | M3 (-0,06) | TP3     | x_smaller_0 | ⋯ | L7  | HTO_B0253 | R2 | 5PNNNNNNNNNN(BC) | TTCCGCCTCTCTTTG | Antibody Capture | 1 | 3.3  | TP3    | AAACCCAAGACTTAAG-1-L7  |\n",
       "\n"
      ],
      "text/plain": [
       "                       nCount_HTO B2_Scanorama_Singlet_cluster\n",
       "AAACCCAAGAAGGGAT-1-L10  261       2                           \n",
       "AAACCCAAGACAGCGT-1-L4  1410       3                           \n",
       "AAACCCAAGACATAAC-1-L3   469       5                           \n",
       "AAACCCAAGACCATTC-1-L9  1104       5                           \n",
       "AAACCCAAGACTGGGT-1-L2   355       0                           \n",
       "AAACCCAAGACTTAAG-1-L7   302       1                           \n",
       "                       B2_Scanorama_Singlet_rb_mt_cluster cell_type_Scanorama\n",
       "AAACCCAAGAAGGGAT-1-L10 2                                  T-cell-CD4         \n",
       "AAACCCAAGACAGCGT-1-L4  3                                  NK                 \n",
       "AAACCCAAGACATAAC-1-L3  5                                  T-cell-CD4         \n",
       "AAACCCAAGACCATTC-1-L9  5                                  T-cell-CD4         \n",
       "AAACCCAAGACTGGGT-1-L2  0                                  T-cell-CD4         \n",
       "AAACCCAAGACTTAAG-1-L7  1                                  T-cell-CD8         \n",
       "                       cluster_cell_type_Scanorama classification_measurement\n",
       "AAACCCAAGAAGGGAT-1-L10 2_T-cell-CD4                acs_w_o_infection_TP4     \n",
       "AAACCCAAGACAGCGT-1-L4  3_NK                        acs_w_o_infection_TP2     \n",
       "AAACCCAAGACATAAC-1-L3  5_T-cell-CD4                acs_w_o_infection_TP1     \n",
       "AAACCCAAGACCATTC-1-L9  5_T-cell-CD4                koronarsklerose_TP0       \n",
       "AAACCCAAGACTGGGT-1-L2  0_T-cell-CD4                acs_w_o_infection_TP1     \n",
       "AAACCCAAGACTTAAG-1-L7  1_T-cell-CD8                acs_w_o_infection_TP3     \n",
       "                       delta_ef_value_group_measurement m_y       \n",
       "AAACCCAAGAAGGGAT-1-L10 x_smaller_0_TP4                  M3 (-0,06)\n",
       "AAACCCAAGACAGCGT-1-L4  x_greater_1_TP2                  M2 (1,15) \n",
       "AAACCCAAGACATAAC-1-L3  x_smaller_1_TP1                  M25 (0,69)\n",
       "AAACCCAAGACCATTC-1-L9  missing                          missing   \n",
       "AAACCCAAGACTGGGT-1-L2  x_smaller_0_TP1                  M13 (-2,2)\n",
       "AAACCCAAGACTTAAG-1-L7  x_smaller_0_TP3                  M3 (-0,06)\n",
       "                       measurement_y delta_ef_value_group ⋯ library id       \n",
       "AAACCCAAGAAGGGAT-1-L10 TP4           x_smaller_0          ⋯ L10     HTO_B0252\n",
       "AAACCCAAGACAGCGT-1-L4  TP2           x_greater_1          ⋯ L4      HTO_B0252\n",
       "AAACCCAAGACATAAC-1-L3  TP1           x_smaller_1          ⋯ L3      HTO_B0255\n",
       "AAACCCAAGACCATTC-1-L9  missing       missing              ⋯ L9      HTO_B0256\n",
       "AAACCCAAGACTGGGT-1-L2  TP1           x_smaller_0          ⋯ L2      HTO_B0253\n",
       "AAACCCAAGACTTAAG-1-L7  TP3           x_smaller_0          ⋯ L7      HTO_B0253\n",
       "                       read pattern          sequence        feature_type    \n",
       "AAACCCAAGAAGGGAT-1-L10 R2   5PNNNNNNNNNN(BC) TGATGGCCTATTGGG Antibody Capture\n",
       "AAACCCAAGACAGCGT-1-L4  R2   5PNNNNNNNNNN(BC) TGATGGCCTATTGGG Antibody Capture\n",
       "AAACCCAAGACATAAC-1-L3  R2   5PNNNNNNNNNN(BC) AAGTATCGTTTCGCA Antibody Capture\n",
       "AAACCCAAGACCATTC-1-L9  R2   5PNNNNNNNNNN(BC) GGTTGCCAGATGTCA Antibody Capture\n",
       "AAACCCAAGACTGGGT-1-L2  R2   5PNNNNNNNNNN(BC) TTCCGCCTCTCTTTG Antibody Capture\n",
       "AAACCCAAGACTTAAG-1-L7  R2   5PNNNNNNNNNN(BC) TTCCGCCTCTCTTTG Antibody Capture\n",
       "                       in_sample display_name group_x cell                  \n",
       "AAACCCAAGAAGGGAT-1-L10 1         3.4          TP4     AAACCCAAGAAGGGAT-1-L10\n",
       "AAACCCAAGACAGCGT-1-L4  1         2.2          TP2     AAACCCAAGACAGCGT-1-L4 \n",
       "AAACCCAAGACATAAC-1-L3  1         25.1         TP1     AAACCCAAGACATAAC-1-L3 \n",
       "AAACCCAAGACCATTC-1-L9  1         33           No-CCS  AAACCCAAGACCATTC-1-L9 \n",
       "AAACCCAAGACTGGGT-1-L2  1         13.1         TP1     AAACCCAAGACTGGGT-1-L2 \n",
       "AAACCCAAGACTTAAG-1-L7  1         3.3          TP3     AAACCCAAGACTTAAG-1-L7 "
      ]
     },
     "metadata": {},
     "output_type": "display_data"
    }
   ],
   "source": [
    "head(obs[order(obs$cell),])"
   ]
  },
  {
   "cell_type": "code",
   "execution_count": null,
   "id": "f4283417-b3e9-4ded-abdf-03e9beadd2a1",
   "metadata": {},
   "outputs": [],
   "source": []
  },
  {
   "cell_type": "code",
   "execution_count": null,
   "id": "3d5595cc-2527-4cfd-95ac-80425f73e282",
   "metadata": {},
   "outputs": [],
   "source": []
  },
  {
   "cell_type": "code",
   "execution_count": 158,
   "id": "00dee4f9-b483-4d08-9844-4ac82f46b48b",
   "metadata": {},
   "outputs": [
    {
     "data": {
      "text/html": [
       "<style>\n",
       ".list-inline {list-style: none; margin:0; padding: 0}\n",
       ".list-inline>li {display: inline-block}\n",
       ".list-inline>li:not(:last-child)::after {content: \"\\00b7\"; padding: 0 .5ex}\n",
       "</style>\n",
       "<ol class=list-inline><li>'nCount_HTO'</li><li>'B2_Scanorama_Singlet_cluster'</li><li>'B2_Scanorama_Singlet_rb_mt_cluster'</li><li>'cell_type_Scanorama'</li><li>'cluster_cell_type_Scanorama'</li><li>'classification_measurement'</li><li>'delta_ef_value_group_measurement'</li><li>'m_y'</li><li>'measurement_y'</li><li>'delta_ef_value_group'</li><li>'delta_ef_value'</li><li>'sample_y'</li><li>'age'</li><li>'sex'</li><li>'m_x'</li><li>'classification'</li><li>'group_y'</li><li>'measurement_x'</li><li>'sample_x'</li><li>'library'</li><li>'id'</li><li>'read'</li><li>'pattern'</li><li>'sequence'</li><li>'feature_type'</li><li>'in_sample'</li><li>'display_name'</li><li>'group_x'</li><li>'cell'</li></ol>\n"
      ],
      "text/latex": [
       "\\begin{enumerate*}\n",
       "\\item 'nCount\\_HTO'\n",
       "\\item 'B2\\_Scanorama\\_Singlet\\_cluster'\n",
       "\\item 'B2\\_Scanorama\\_Singlet\\_rb\\_mt\\_cluster'\n",
       "\\item 'cell\\_type\\_Scanorama'\n",
       "\\item 'cluster\\_cell\\_type\\_Scanorama'\n",
       "\\item 'classification\\_measurement'\n",
       "\\item 'delta\\_ef\\_value\\_group\\_measurement'\n",
       "\\item 'm\\_y'\n",
       "\\item 'measurement\\_y'\n",
       "\\item 'delta\\_ef\\_value\\_group'\n",
       "\\item 'delta\\_ef\\_value'\n",
       "\\item 'sample\\_y'\n",
       "\\item 'age'\n",
       "\\item 'sex'\n",
       "\\item 'm\\_x'\n",
       "\\item 'classification'\n",
       "\\item 'group\\_y'\n",
       "\\item 'measurement\\_x'\n",
       "\\item 'sample\\_x'\n",
       "\\item 'library'\n",
       "\\item 'id'\n",
       "\\item 'read'\n",
       "\\item 'pattern'\n",
       "\\item 'sequence'\n",
       "\\item 'feature\\_type'\n",
       "\\item 'in\\_sample'\n",
       "\\item 'display\\_name'\n",
       "\\item 'group\\_x'\n",
       "\\item 'cell'\n",
       "\\end{enumerate*}\n"
      ],
      "text/markdown": [
       "1. 'nCount_HTO'\n",
       "2. 'B2_Scanorama_Singlet_cluster'\n",
       "3. 'B2_Scanorama_Singlet_rb_mt_cluster'\n",
       "4. 'cell_type_Scanorama'\n",
       "5. 'cluster_cell_type_Scanorama'\n",
       "6. 'classification_measurement'\n",
       "7. 'delta_ef_value_group_measurement'\n",
       "8. 'm_y'\n",
       "9. 'measurement_y'\n",
       "10. 'delta_ef_value_group'\n",
       "11. 'delta_ef_value'\n",
       "12. 'sample_y'\n",
       "13. 'age'\n",
       "14. 'sex'\n",
       "15. 'm_x'\n",
       "16. 'classification'\n",
       "17. 'group_y'\n",
       "18. 'measurement_x'\n",
       "19. 'sample_x'\n",
       "20. 'library'\n",
       "21. 'id'\n",
       "22. 'read'\n",
       "23. 'pattern'\n",
       "24. 'sequence'\n",
       "25. 'feature_type'\n",
       "26. 'in_sample'\n",
       "27. 'display_name'\n",
       "28. 'group_x'\n",
       "29. 'cell'\n",
       "\n",
       "\n"
      ],
      "text/plain": [
       " [1] \"nCount_HTO\"                         \"B2_Scanorama_Singlet_cluster\"      \n",
       " [3] \"B2_Scanorama_Singlet_rb_mt_cluster\" \"cell_type_Scanorama\"               \n",
       " [5] \"cluster_cell_type_Scanorama\"        \"classification_measurement\"        \n",
       " [7] \"delta_ef_value_group_measurement\"   \"m_y\"                               \n",
       " [9] \"measurement_y\"                      \"delta_ef_value_group\"              \n",
       "[11] \"delta_ef_value\"                     \"sample_y\"                          \n",
       "[13] \"age\"                                \"sex\"                               \n",
       "[15] \"m_x\"                                \"classification\"                    \n",
       "[17] \"group_y\"                            \"measurement_x\"                     \n",
       "[19] \"sample_x\"                           \"library\"                           \n",
       "[21] \"id\"                                 \"read\"                              \n",
       "[23] \"pattern\"                            \"sequence\"                          \n",
       "[25] \"feature_type\"                       \"in_sample\"                         \n",
       "[27] \"display_name\"                       \"group_x\"                           \n",
       "[29] \"cell\"                              "
      ]
     },
     "metadata": {},
     "output_type": "display_data"
    }
   ],
   "source": [
    "colnames(obs)"
   ]
  },
  {
   "cell_type": "code",
   "execution_count": 159,
   "id": "ff74e4a4-5816-4041-925e-926cf27360a5",
   "metadata": {},
   "outputs": [],
   "source": [
    "obs$library = as.character(obs$library)"
   ]
  },
  {
   "cell_type": "code",
   "execution_count": 160,
   "id": "dd4e815c-dad0-4f86-bfec-08300320ee1d",
   "metadata": {},
   "outputs": [],
   "source": [
    "obs$group_id = as.character(obs[['in_sample']]) ## group-id neede in DE analysis, here not --> DUMMY Variable"
   ]
  },
  {
   "cell_type": "code",
   "execution_count": 161,
   "id": "6939c9b3-2f49-417b-9e58-7b3457f732fb",
   "metadata": {},
   "outputs": [],
   "source": [
    "obs$sample_id   = paste0(as.character(obs[[sample_column]] ), '-', obs$library)"
   ]
  },
  {
   "cell_type": "code",
   "execution_count": 162,
   "id": "32a766df-f734-418a-8026-2a6d513b0469",
   "metadata": {},
   "outputs": [],
   "source": [
    "obs$cluster_id = as.character(obs[[cluster_column]])"
   ]
  },
  {
   "cell_type": "code",
   "execution_count": 163,
   "id": "1a1ce0fd-4354-4414-a1e2-b0133925d30e",
   "metadata": {},
   "outputs": [],
   "source": [
    "rownames(obs) = obs$cell"
   ]
  },
  {
   "cell_type": "code",
   "execution_count": 164,
   "id": "8705f4f1-311d-4e53-a786-7f6c9aa083ec",
   "metadata": {},
   "outputs": [
    {
     "data": {
      "text/html": [
       "<table class=\"dataframe\">\n",
       "<caption>A data.frame: 6 × 32</caption>\n",
       "<thead>\n",
       "\t<tr><th></th><th scope=col>nCount_HTO</th><th scope=col>B2_Scanorama_Singlet_cluster</th><th scope=col>B2_Scanorama_Singlet_rb_mt_cluster</th><th scope=col>cell_type_Scanorama</th><th scope=col>cluster_cell_type_Scanorama</th><th scope=col>classification_measurement</th><th scope=col>delta_ef_value_group_measurement</th><th scope=col>m_y</th><th scope=col>measurement_y</th><th scope=col>delta_ef_value_group</th><th scope=col>⋯</th><th scope=col>pattern</th><th scope=col>sequence</th><th scope=col>feature_type</th><th scope=col>in_sample</th><th scope=col>display_name</th><th scope=col>group_x</th><th scope=col>cell</th><th scope=col>group_id</th><th scope=col>sample_id</th><th scope=col>cluster_id</th></tr>\n",
       "\t<tr><th></th><th scope=col>&lt;dbl&gt;</th><th scope=col>&lt;fct&gt;</th><th scope=col>&lt;fct&gt;</th><th scope=col>&lt;fct&gt;</th><th scope=col>&lt;fct&gt;</th><th scope=col>&lt;fct&gt;</th><th scope=col>&lt;fct&gt;</th><th scope=col>&lt;fct&gt;</th><th scope=col>&lt;fct&gt;</th><th scope=col>&lt;fct&gt;</th><th scope=col>⋯</th><th scope=col>&lt;fct&gt;</th><th scope=col>&lt;fct&gt;</th><th scope=col>&lt;fct&gt;</th><th scope=col>&lt;dbl&gt;</th><th scope=col>&lt;fct&gt;</th><th scope=col>&lt;fct&gt;</th><th scope=col>&lt;chr&gt;</th><th scope=col>&lt;chr&gt;</th><th scope=col>&lt;chr&gt;</th><th scope=col>&lt;chr&gt;</th></tr>\n",
       "</thead>\n",
       "<tbody>\n",
       "\t<tr><th scope=row>AAACCCACATACAGGG-1-L1</th><td>1574</td><td>8 </td><td>8 </td><td>B-cell                 </td><td>8_B-cell                 </td><td>acs_w_o_infection_TP1</td><td>x_greater_1_TP1</td><td>M9 (14,3) </td><td>TP1    </td><td>x_greater_1</td><td>⋯</td><td>5PNNNNNNNNNN(BC)</td><td>CAGTAGTCACGGTCA</td><td>Antibody Capture</td><td>1</td><td>9.1</td><td>TP1</td><td>AAACCCACATACAGGG-1-L1</td><td>1</td><td>9.1-L1</td><td>8_B-cell                 </td></tr>\n",
       "\t<tr><th scope=row>AAACCCACATGACTTG-1-L1</th><td> 379</td><td>9 </td><td>9 </td><td>Monocytes - CD16_FCGR3A</td><td>9_Monocytes - CD16_FCGR3A</td><td>acs_w_o_infection_TP1</td><td>x_greater_1_TP1</td><td>M9 (14,3) </td><td>TP1    </td><td>x_greater_1</td><td>⋯</td><td>5PNNNNNNNNNN(BC)</td><td>CAGTAGTCACGGTCA</td><td>Antibody Capture</td><td>1</td><td>9.1</td><td>TP1</td><td>AAACCCACATGACTTG-1-L1</td><td>1</td><td>9.1-L1</td><td>9_Monocytes - CD16_FCGR3A</td></tr>\n",
       "\t<tr><th scope=row>AAACCCAGTCATCAGT-1-L1</th><td> 421</td><td>5 </td><td>5 </td><td>T-cell-CD4             </td><td>5_T-cell-CD4             </td><td>acs_w_o_infection_TP1</td><td>x_smaller_1_TP1</td><td>M7 (0,75) </td><td>TP1    </td><td>x_smaller_1</td><td>⋯</td><td>5PNNNNNNNNNN(BC)</td><td>TGTCTTTCCTGCCAG</td><td>Antibody Capture</td><td>1</td><td>7.1</td><td>TP1</td><td>AAACCCAGTCATCAGT-1-L1</td><td>1</td><td>7.1-L1</td><td>5_T-cell-CD4             </td></tr>\n",
       "\t<tr><th scope=row>AAACCCAGTGGTAATA-1-L1</th><td> 478</td><td>0 </td><td>0 </td><td>T-cell-CD4             </td><td>0_T-cell-CD4             </td><td>acs_w_o_infection_TP1</td><td>x_greater_1_TP1</td><td>M9 (14,3) </td><td>TP1    </td><td>x_greater_1</td><td>⋯</td><td>5PNNNNNNNNNN(BC)</td><td>CAGTAGTCACGGTCA</td><td>Antibody Capture</td><td>1</td><td>9.1</td><td>TP1</td><td>AAACCCAGTGGTAATA-1-L1</td><td>1</td><td>9.1-L1</td><td>0_T-cell-CD4             </td></tr>\n",
       "\t<tr><th scope=row>AAACCCATCATCACAG-1-L1</th><td> 851</td><td>16</td><td>16</td><td>Plasma Blast           </td><td>16_Plasma Blast          </td><td>acs_w_o_infection_TP1</td><td>x_greater_1_TP1</td><td>M9 (14,3) </td><td>TP1    </td><td>x_greater_1</td><td>⋯</td><td>5PNNNNNNNNNN(BC)</td><td>CAGTAGTCACGGTCA</td><td>Antibody Capture</td><td>1</td><td>9.1</td><td>TP1</td><td>AAACCCATCATCACAG-1-L1</td><td>1</td><td>9.1-L1</td><td>16_Plasma Blast          </td></tr>\n",
       "\t<tr><th scope=row>AAACCCATCGATGGAG-1-L1</th><td> 473</td><td>0 </td><td>0 </td><td>T-cell-CD4             </td><td>0_T-cell-CD4             </td><td>acs_subacute_TP1     </td><td>missing        </td><td>missing   </td><td>missing</td><td>missing    </td><td>⋯</td><td>5PNNNNNNNNNN(BC)</td><td>CTCCTCTGCAATTAC</td><td>Antibody Capture</td><td>1</td><td>8.1</td><td>TP1</td><td>AAACCCATCGATGGAG-1-L1</td><td>1</td><td>8.1-L1</td><td>0_T-cell-CD4             </td></tr>\n",
       "</tbody>\n",
       "</table>\n"
      ],
      "text/latex": [
       "A data.frame: 6 × 32\n",
       "\\begin{tabular}{r|lllllllllllllllllllll}\n",
       "  & nCount\\_HTO & B2\\_Scanorama\\_Singlet\\_cluster & B2\\_Scanorama\\_Singlet\\_rb\\_mt\\_cluster & cell\\_type\\_Scanorama & cluster\\_cell\\_type\\_Scanorama & classification\\_measurement & delta\\_ef\\_value\\_group\\_measurement & m\\_y & measurement\\_y & delta\\_ef\\_value\\_group & ⋯ & pattern & sequence & feature\\_type & in\\_sample & display\\_name & group\\_x & cell & group\\_id & sample\\_id & cluster\\_id\\\\\n",
       "  & <dbl> & <fct> & <fct> & <fct> & <fct> & <fct> & <fct> & <fct> & <fct> & <fct> & ⋯ & <fct> & <fct> & <fct> & <dbl> & <fct> & <fct> & <chr> & <chr> & <chr> & <chr>\\\\\n",
       "\\hline\n",
       "\tAAACCCACATACAGGG-1-L1 & 1574 & 8  & 8  & B-cell                  & 8\\_B-cell                  & acs\\_w\\_o\\_infection\\_TP1 & x\\_greater\\_1\\_TP1 & M9 (14,3)  & TP1     & x\\_greater\\_1 & ⋯ & 5PNNNNNNNNNN(BC) & CAGTAGTCACGGTCA & Antibody Capture & 1 & 9.1 & TP1 & AAACCCACATACAGGG-1-L1 & 1 & 9.1-L1 & 8\\_B-cell                 \\\\\n",
       "\tAAACCCACATGACTTG-1-L1 &  379 & 9  & 9  & Monocytes - CD16\\_FCGR3A & 9\\_Monocytes - CD16\\_FCGR3A & acs\\_w\\_o\\_infection\\_TP1 & x\\_greater\\_1\\_TP1 & M9 (14,3)  & TP1     & x\\_greater\\_1 & ⋯ & 5PNNNNNNNNNN(BC) & CAGTAGTCACGGTCA & Antibody Capture & 1 & 9.1 & TP1 & AAACCCACATGACTTG-1-L1 & 1 & 9.1-L1 & 9\\_Monocytes - CD16\\_FCGR3A\\\\\n",
       "\tAAACCCAGTCATCAGT-1-L1 &  421 & 5  & 5  & T-cell-CD4              & 5\\_T-cell-CD4              & acs\\_w\\_o\\_infection\\_TP1 & x\\_smaller\\_1\\_TP1 & M7 (0,75)  & TP1     & x\\_smaller\\_1 & ⋯ & 5PNNNNNNNNNN(BC) & TGTCTTTCCTGCCAG & Antibody Capture & 1 & 7.1 & TP1 & AAACCCAGTCATCAGT-1-L1 & 1 & 7.1-L1 & 5\\_T-cell-CD4             \\\\\n",
       "\tAAACCCAGTGGTAATA-1-L1 &  478 & 0  & 0  & T-cell-CD4              & 0\\_T-cell-CD4              & acs\\_w\\_o\\_infection\\_TP1 & x\\_greater\\_1\\_TP1 & M9 (14,3)  & TP1     & x\\_greater\\_1 & ⋯ & 5PNNNNNNNNNN(BC) & CAGTAGTCACGGTCA & Antibody Capture & 1 & 9.1 & TP1 & AAACCCAGTGGTAATA-1-L1 & 1 & 9.1-L1 & 0\\_T-cell-CD4             \\\\\n",
       "\tAAACCCATCATCACAG-1-L1 &  851 & 16 & 16 & Plasma Blast            & 16\\_Plasma Blast           & acs\\_w\\_o\\_infection\\_TP1 & x\\_greater\\_1\\_TP1 & M9 (14,3)  & TP1     & x\\_greater\\_1 & ⋯ & 5PNNNNNNNNNN(BC) & CAGTAGTCACGGTCA & Antibody Capture & 1 & 9.1 & TP1 & AAACCCATCATCACAG-1-L1 & 1 & 9.1-L1 & 16\\_Plasma Blast          \\\\\n",
       "\tAAACCCATCGATGGAG-1-L1 &  473 & 0  & 0  & T-cell-CD4              & 0\\_T-cell-CD4              & acs\\_subacute\\_TP1      & missing         & missing    & missing & missing     & ⋯ & 5PNNNNNNNNNN(BC) & CTCCTCTGCAATTAC & Antibody Capture & 1 & 8.1 & TP1 & AAACCCATCGATGGAG-1-L1 & 1 & 8.1-L1 & 0\\_T-cell-CD4             \\\\\n",
       "\\end{tabular}\n"
      ],
      "text/markdown": [
       "\n",
       "A data.frame: 6 × 32\n",
       "\n",
       "| <!--/--> | nCount_HTO &lt;dbl&gt; | B2_Scanorama_Singlet_cluster &lt;fct&gt; | B2_Scanorama_Singlet_rb_mt_cluster &lt;fct&gt; | cell_type_Scanorama &lt;fct&gt; | cluster_cell_type_Scanorama &lt;fct&gt; | classification_measurement &lt;fct&gt; | delta_ef_value_group_measurement &lt;fct&gt; | m_y &lt;fct&gt; | measurement_y &lt;fct&gt; | delta_ef_value_group &lt;fct&gt; | ⋯ ⋯ | pattern &lt;fct&gt; | sequence &lt;fct&gt; | feature_type &lt;fct&gt; | in_sample &lt;dbl&gt; | display_name &lt;fct&gt; | group_x &lt;fct&gt; | cell &lt;chr&gt; | group_id &lt;chr&gt; | sample_id &lt;chr&gt; | cluster_id &lt;chr&gt; |\n",
       "|---|---|---|---|---|---|---|---|---|---|---|---|---|---|---|---|---|---|---|---|---|---|\n",
       "| AAACCCACATACAGGG-1-L1 | 1574 | 8  | 8  | B-cell                  | 8_B-cell                  | acs_w_o_infection_TP1 | x_greater_1_TP1 | M9 (14,3)  | TP1     | x_greater_1 | ⋯ | 5PNNNNNNNNNN(BC) | CAGTAGTCACGGTCA | Antibody Capture | 1 | 9.1 | TP1 | AAACCCACATACAGGG-1-L1 | 1 | 9.1-L1 | 8_B-cell                  |\n",
       "| AAACCCACATGACTTG-1-L1 |  379 | 9  | 9  | Monocytes - CD16_FCGR3A | 9_Monocytes - CD16_FCGR3A | acs_w_o_infection_TP1 | x_greater_1_TP1 | M9 (14,3)  | TP1     | x_greater_1 | ⋯ | 5PNNNNNNNNNN(BC) | CAGTAGTCACGGTCA | Antibody Capture | 1 | 9.1 | TP1 | AAACCCACATGACTTG-1-L1 | 1 | 9.1-L1 | 9_Monocytes - CD16_FCGR3A |\n",
       "| AAACCCAGTCATCAGT-1-L1 |  421 | 5  | 5  | T-cell-CD4              | 5_T-cell-CD4              | acs_w_o_infection_TP1 | x_smaller_1_TP1 | M7 (0,75)  | TP1     | x_smaller_1 | ⋯ | 5PNNNNNNNNNN(BC) | TGTCTTTCCTGCCAG | Antibody Capture | 1 | 7.1 | TP1 | AAACCCAGTCATCAGT-1-L1 | 1 | 7.1-L1 | 5_T-cell-CD4              |\n",
       "| AAACCCAGTGGTAATA-1-L1 |  478 | 0  | 0  | T-cell-CD4              | 0_T-cell-CD4              | acs_w_o_infection_TP1 | x_greater_1_TP1 | M9 (14,3)  | TP1     | x_greater_1 | ⋯ | 5PNNNNNNNNNN(BC) | CAGTAGTCACGGTCA | Antibody Capture | 1 | 9.1 | TP1 | AAACCCAGTGGTAATA-1-L1 | 1 | 9.1-L1 | 0_T-cell-CD4              |\n",
       "| AAACCCATCATCACAG-1-L1 |  851 | 16 | 16 | Plasma Blast            | 16_Plasma Blast           | acs_w_o_infection_TP1 | x_greater_1_TP1 | M9 (14,3)  | TP1     | x_greater_1 | ⋯ | 5PNNNNNNNNNN(BC) | CAGTAGTCACGGTCA | Antibody Capture | 1 | 9.1 | TP1 | AAACCCATCATCACAG-1-L1 | 1 | 9.1-L1 | 16_Plasma Blast           |\n",
       "| AAACCCATCGATGGAG-1-L1 |  473 | 0  | 0  | T-cell-CD4              | 0_T-cell-CD4              | acs_subacute_TP1      | missing         | missing    | missing | missing     | ⋯ | 5PNNNNNNNNNN(BC) | CTCCTCTGCAATTAC | Antibody Capture | 1 | 8.1 | TP1 | AAACCCATCGATGGAG-1-L1 | 1 | 8.1-L1 | 0_T-cell-CD4              |\n",
       "\n"
      ],
      "text/plain": [
       "                      nCount_HTO B2_Scanorama_Singlet_cluster\n",
       "AAACCCACATACAGGG-1-L1 1574       8                           \n",
       "AAACCCACATGACTTG-1-L1  379       9                           \n",
       "AAACCCAGTCATCAGT-1-L1  421       5                           \n",
       "AAACCCAGTGGTAATA-1-L1  478       0                           \n",
       "AAACCCATCATCACAG-1-L1  851       16                          \n",
       "AAACCCATCGATGGAG-1-L1  473       0                           \n",
       "                      B2_Scanorama_Singlet_rb_mt_cluster\n",
       "AAACCCACATACAGGG-1-L1 8                                 \n",
       "AAACCCACATGACTTG-1-L1 9                                 \n",
       "AAACCCAGTCATCAGT-1-L1 5                                 \n",
       "AAACCCAGTGGTAATA-1-L1 0                                 \n",
       "AAACCCATCATCACAG-1-L1 16                                \n",
       "AAACCCATCGATGGAG-1-L1 0                                 \n",
       "                      cell_type_Scanorama     cluster_cell_type_Scanorama\n",
       "AAACCCACATACAGGG-1-L1 B-cell                  8_B-cell                   \n",
       "AAACCCACATGACTTG-1-L1 Monocytes - CD16_FCGR3A 9_Monocytes - CD16_FCGR3A  \n",
       "AAACCCAGTCATCAGT-1-L1 T-cell-CD4              5_T-cell-CD4               \n",
       "AAACCCAGTGGTAATA-1-L1 T-cell-CD4              0_T-cell-CD4               \n",
       "AAACCCATCATCACAG-1-L1 Plasma Blast            16_Plasma Blast            \n",
       "AAACCCATCGATGGAG-1-L1 T-cell-CD4              0_T-cell-CD4               \n",
       "                      classification_measurement\n",
       "AAACCCACATACAGGG-1-L1 acs_w_o_infection_TP1     \n",
       "AAACCCACATGACTTG-1-L1 acs_w_o_infection_TP1     \n",
       "AAACCCAGTCATCAGT-1-L1 acs_w_o_infection_TP1     \n",
       "AAACCCAGTGGTAATA-1-L1 acs_w_o_infection_TP1     \n",
       "AAACCCATCATCACAG-1-L1 acs_w_o_infection_TP1     \n",
       "AAACCCATCGATGGAG-1-L1 acs_subacute_TP1          \n",
       "                      delta_ef_value_group_measurement m_y        measurement_y\n",
       "AAACCCACATACAGGG-1-L1 x_greater_1_TP1                  M9 (14,3)  TP1          \n",
       "AAACCCACATGACTTG-1-L1 x_greater_1_TP1                  M9 (14,3)  TP1          \n",
       "AAACCCAGTCATCAGT-1-L1 x_smaller_1_TP1                  M7 (0,75)  TP1          \n",
       "AAACCCAGTGGTAATA-1-L1 x_greater_1_TP1                  M9 (14,3)  TP1          \n",
       "AAACCCATCATCACAG-1-L1 x_greater_1_TP1                  M9 (14,3)  TP1          \n",
       "AAACCCATCGATGGAG-1-L1 missing                          missing    missing      \n",
       "                      delta_ef_value_group ⋯ pattern          sequence       \n",
       "AAACCCACATACAGGG-1-L1 x_greater_1          ⋯ 5PNNNNNNNNNN(BC) CAGTAGTCACGGTCA\n",
       "AAACCCACATGACTTG-1-L1 x_greater_1          ⋯ 5PNNNNNNNNNN(BC) CAGTAGTCACGGTCA\n",
       "AAACCCAGTCATCAGT-1-L1 x_smaller_1          ⋯ 5PNNNNNNNNNN(BC) TGTCTTTCCTGCCAG\n",
       "AAACCCAGTGGTAATA-1-L1 x_greater_1          ⋯ 5PNNNNNNNNNN(BC) CAGTAGTCACGGTCA\n",
       "AAACCCATCATCACAG-1-L1 x_greater_1          ⋯ 5PNNNNNNNNNN(BC) CAGTAGTCACGGTCA\n",
       "AAACCCATCGATGGAG-1-L1 missing              ⋯ 5PNNNNNNNNNN(BC) CTCCTCTGCAATTAC\n",
       "                      feature_type     in_sample display_name group_x\n",
       "AAACCCACATACAGGG-1-L1 Antibody Capture 1         9.1          TP1    \n",
       "AAACCCACATGACTTG-1-L1 Antibody Capture 1         9.1          TP1    \n",
       "AAACCCAGTCATCAGT-1-L1 Antibody Capture 1         7.1          TP1    \n",
       "AAACCCAGTGGTAATA-1-L1 Antibody Capture 1         9.1          TP1    \n",
       "AAACCCATCATCACAG-1-L1 Antibody Capture 1         9.1          TP1    \n",
       "AAACCCATCGATGGAG-1-L1 Antibody Capture 1         8.1          TP1    \n",
       "                      cell                  group_id sample_id\n",
       "AAACCCACATACAGGG-1-L1 AAACCCACATACAGGG-1-L1 1        9.1-L1   \n",
       "AAACCCACATGACTTG-1-L1 AAACCCACATGACTTG-1-L1 1        9.1-L1   \n",
       "AAACCCAGTCATCAGT-1-L1 AAACCCAGTCATCAGT-1-L1 1        7.1-L1   \n",
       "AAACCCAGTGGTAATA-1-L1 AAACCCAGTGGTAATA-1-L1 1        9.1-L1   \n",
       "AAACCCATCATCACAG-1-L1 AAACCCATCATCACAG-1-L1 1        9.1-L1   \n",
       "AAACCCATCGATGGAG-1-L1 AAACCCATCGATGGAG-1-L1 1        8.1-L1   \n",
       "                      cluster_id               \n",
       "AAACCCACATACAGGG-1-L1 8_B-cell                 \n",
       "AAACCCACATGACTTG-1-L1 9_Monocytes - CD16_FCGR3A\n",
       "AAACCCAGTCATCAGT-1-L1 5_T-cell-CD4             \n",
       "AAACCCAGTGGTAATA-1-L1 0_T-cell-CD4             \n",
       "AAACCCATCATCACAG-1-L1 16_Plasma Blast          \n",
       "AAACCCATCGATGGAG-1-L1 0_T-cell-CD4             "
      ]
     },
     "metadata": {},
     "output_type": "display_data"
    }
   ],
   "source": [
    "head(obs)"
   ]
  },
  {
   "cell_type": "code",
   "execution_count": 165,
   "id": "400c2a2a-b75a-4810-b9be-f9a33c4f345f",
   "metadata": {},
   "outputs": [
    {
     "data": {
      "text/html": [
       "<style>\n",
       ".list-inline {list-style: none; margin:0; padding: 0}\n",
       ".list-inline>li {display: inline-block}\n",
       ".list-inline>li:not(:last-child)::after {content: \"\\00b7\"; padding: 0 .5ex}\n",
       "</style>\n",
       "<ol class=list-inline><li>'nCount_HTO'</li><li>'B2_Scanorama_Singlet_cluster'</li><li>'B2_Scanorama_Singlet_rb_mt_cluster'</li><li>'cell_type_Scanorama'</li><li>'cluster_cell_type_Scanorama'</li><li>'classification_measurement'</li><li>'delta_ef_value_group_measurement'</li><li>'m_y'</li><li>'measurement_y'</li><li>'delta_ef_value_group'</li><li>'delta_ef_value'</li><li>'sample_y'</li><li>'age'</li><li>'sex'</li><li>'m_x'</li><li>'classification'</li><li>'group_y'</li><li>'measurement_x'</li><li>'sample_x'</li><li>'library'</li><li>'id'</li><li>'read'</li><li>'pattern'</li><li>'sequence'</li><li>'feature_type'</li><li>'in_sample'</li><li>'display_name'</li><li>'group_x'</li><li>'cell'</li><li>'group_id'</li><li>'sample_id'</li><li>'cluster_id'</li></ol>\n"
      ],
      "text/latex": [
       "\\begin{enumerate*}\n",
       "\\item 'nCount\\_HTO'\n",
       "\\item 'B2\\_Scanorama\\_Singlet\\_cluster'\n",
       "\\item 'B2\\_Scanorama\\_Singlet\\_rb\\_mt\\_cluster'\n",
       "\\item 'cell\\_type\\_Scanorama'\n",
       "\\item 'cluster\\_cell\\_type\\_Scanorama'\n",
       "\\item 'classification\\_measurement'\n",
       "\\item 'delta\\_ef\\_value\\_group\\_measurement'\n",
       "\\item 'm\\_y'\n",
       "\\item 'measurement\\_y'\n",
       "\\item 'delta\\_ef\\_value\\_group'\n",
       "\\item 'delta\\_ef\\_value'\n",
       "\\item 'sample\\_y'\n",
       "\\item 'age'\n",
       "\\item 'sex'\n",
       "\\item 'm\\_x'\n",
       "\\item 'classification'\n",
       "\\item 'group\\_y'\n",
       "\\item 'measurement\\_x'\n",
       "\\item 'sample\\_x'\n",
       "\\item 'library'\n",
       "\\item 'id'\n",
       "\\item 'read'\n",
       "\\item 'pattern'\n",
       "\\item 'sequence'\n",
       "\\item 'feature\\_type'\n",
       "\\item 'in\\_sample'\n",
       "\\item 'display\\_name'\n",
       "\\item 'group\\_x'\n",
       "\\item 'cell'\n",
       "\\item 'group\\_id'\n",
       "\\item 'sample\\_id'\n",
       "\\item 'cluster\\_id'\n",
       "\\end{enumerate*}\n"
      ],
      "text/markdown": [
       "1. 'nCount_HTO'\n",
       "2. 'B2_Scanorama_Singlet_cluster'\n",
       "3. 'B2_Scanorama_Singlet_rb_mt_cluster'\n",
       "4. 'cell_type_Scanorama'\n",
       "5. 'cluster_cell_type_Scanorama'\n",
       "6. 'classification_measurement'\n",
       "7. 'delta_ef_value_group_measurement'\n",
       "8. 'm_y'\n",
       "9. 'measurement_y'\n",
       "10. 'delta_ef_value_group'\n",
       "11. 'delta_ef_value'\n",
       "12. 'sample_y'\n",
       "13. 'age'\n",
       "14. 'sex'\n",
       "15. 'm_x'\n",
       "16. 'classification'\n",
       "17. 'group_y'\n",
       "18. 'measurement_x'\n",
       "19. 'sample_x'\n",
       "20. 'library'\n",
       "21. 'id'\n",
       "22. 'read'\n",
       "23. 'pattern'\n",
       "24. 'sequence'\n",
       "25. 'feature_type'\n",
       "26. 'in_sample'\n",
       "27. 'display_name'\n",
       "28. 'group_x'\n",
       "29. 'cell'\n",
       "30. 'group_id'\n",
       "31. 'sample_id'\n",
       "32. 'cluster_id'\n",
       "\n",
       "\n"
      ],
      "text/plain": [
       " [1] \"nCount_HTO\"                         \"B2_Scanorama_Singlet_cluster\"      \n",
       " [3] \"B2_Scanorama_Singlet_rb_mt_cluster\" \"cell_type_Scanorama\"               \n",
       " [5] \"cluster_cell_type_Scanorama\"        \"classification_measurement\"        \n",
       " [7] \"delta_ef_value_group_measurement\"   \"m_y\"                               \n",
       " [9] \"measurement_y\"                      \"delta_ef_value_group\"              \n",
       "[11] \"delta_ef_value\"                     \"sample_y\"                          \n",
       "[13] \"age\"                                \"sex\"                               \n",
       "[15] \"m_x\"                                \"classification\"                    \n",
       "[17] \"group_y\"                            \"measurement_x\"                     \n",
       "[19] \"sample_x\"                           \"library\"                           \n",
       "[21] \"id\"                                 \"read\"                              \n",
       "[23] \"pattern\"                            \"sequence\"                          \n",
       "[25] \"feature_type\"                       \"in_sample\"                         \n",
       "[27] \"display_name\"                       \"group_x\"                           \n",
       "[29] \"cell\"                               \"group_id\"                          \n",
       "[31] \"sample_id\"                          \"cluster_id\"                        "
      ]
     },
     "metadata": {},
     "output_type": "display_data"
    }
   ],
   "source": [
    "colnames(obs)"
   ]
  },
  {
   "cell_type": "code",
   "execution_count": 166,
   "id": "e36950ab-6692-460d-8a46-6e77ac22e43a",
   "metadata": {},
   "outputs": [],
   "source": [
    "## Adding"
   ]
  },
  {
   "cell_type": "code",
   "execution_count": 167,
   "id": "9e94fe68-254b-4f67-84c6-28ee90578ee9",
   "metadata": {},
   "outputs": [],
   "source": [
    "# obs[,'library', drop = FALSE]"
   ]
  },
  {
   "cell_type": "code",
   "execution_count": 168,
   "id": "62fee9ee-b3ad-4290-99fd-fb18627c4f6f",
   "metadata": {},
   "outputs": [],
   "source": [
    "rna_seurat_data_subset = AddMetaData(object = rna_seurat_data_subset, metadata = obs[,'library', drop = FALSE], col.name = 'library_char')"
   ]
  },
  {
   "cell_type": "code",
   "execution_count": 169,
   "id": "095a87fa-fea8-4919-8e9b-b655117b431e",
   "metadata": {},
   "outputs": [],
   "source": [
    "## group-id  ### OLD"
   ]
  },
  {
   "cell_type": "code",
   "execution_count": 170,
   "id": "9130da8d-abc7-41a6-8a4d-d2ae4af2120b",
   "metadata": {},
   "outputs": [],
   "source": [
    "rna_seurat_data_subset = AddMetaData(object = rna_seurat_data_subset, metadata = obs[,'group_id', drop = FALSE], col.name = 'group_id')"
   ]
  },
  {
   "cell_type": "code",
   "execution_count": 171,
   "id": "a3bfcc41-2d8e-463a-8073-3bca3519fb1b",
   "metadata": {},
   "outputs": [],
   "source": [
    "## cluster-id"
   ]
  },
  {
   "cell_type": "code",
   "execution_count": 172,
   "id": "6f5751ef-f741-4174-8928-fe3f260de089",
   "metadata": {},
   "outputs": [],
   "source": [
    "rna_seurat_data_subset = AddMetaData(object = rna_seurat_data_subset, metadata = obs[,'cluster_id', drop = FALSE], col.name = 'cluster_id')"
   ]
  },
  {
   "cell_type": "code",
   "execution_count": 173,
   "id": "47f34428-b3e5-404e-9db7-43423076f9a8",
   "metadata": {},
   "outputs": [],
   "source": [
    "## sample-id"
   ]
  },
  {
   "cell_type": "code",
   "execution_count": 174,
   "id": "9490fa4b-e786-4939-979a-03d3ecdca905",
   "metadata": {},
   "outputs": [],
   "source": [
    "rna_seurat_data_subset = AddMetaData(object = rna_seurat_data_subset, metadata = obs[,'sample_id', drop = FALSE], col.name = 'sample_id')"
   ]
  },
  {
   "cell_type": "code",
   "execution_count": 175,
   "id": "f7601b2b-6833-4919-a110-9b95249c8f73",
   "metadata": {},
   "outputs": [
    {
     "data": {
      "text/html": [
       "<table class=\"dataframe\">\n",
       "<caption>A data.frame: 6 × 32</caption>\n",
       "<thead>\n",
       "\t<tr><th></th><th scope=col>nCount_HTO</th><th scope=col>B2_Scanorama_Singlet_cluster</th><th scope=col>B2_Scanorama_Singlet_rb_mt_cluster</th><th scope=col>cell_type_Scanorama</th><th scope=col>cluster_cell_type_Scanorama</th><th scope=col>classification_measurement</th><th scope=col>delta_ef_value_group_measurement</th><th scope=col>m_y</th><th scope=col>measurement_y</th><th scope=col>delta_ef_value_group</th><th scope=col>⋯</th><th scope=col>pattern</th><th scope=col>sequence</th><th scope=col>feature_type</th><th scope=col>in_sample</th><th scope=col>display_name</th><th scope=col>group_x</th><th scope=col>library_char</th><th scope=col>group_id</th><th scope=col>cluster_id</th><th scope=col>sample_id</th></tr>\n",
       "\t<tr><th></th><th scope=col>&lt;dbl&gt;</th><th scope=col>&lt;fct&gt;</th><th scope=col>&lt;fct&gt;</th><th scope=col>&lt;fct&gt;</th><th scope=col>&lt;fct&gt;</th><th scope=col>&lt;fct&gt;</th><th scope=col>&lt;fct&gt;</th><th scope=col>&lt;fct&gt;</th><th scope=col>&lt;fct&gt;</th><th scope=col>&lt;fct&gt;</th><th scope=col>⋯</th><th scope=col>&lt;fct&gt;</th><th scope=col>&lt;fct&gt;</th><th scope=col>&lt;fct&gt;</th><th scope=col>&lt;dbl&gt;</th><th scope=col>&lt;fct&gt;</th><th scope=col>&lt;fct&gt;</th><th scope=col>&lt;chr&gt;</th><th scope=col>&lt;chr&gt;</th><th scope=col>&lt;chr&gt;</th><th scope=col>&lt;chr&gt;</th></tr>\n",
       "</thead>\n",
       "<tbody>\n",
       "\t<tr><th scope=row>AAACCCACATACAGGG-1-L1</th><td>1574</td><td>8 </td><td>8 </td><td>B-cell                 </td><td>8_B-cell                 </td><td>acs_w_o_infection_TP1</td><td>x_greater_1_TP1</td><td>M9 (14,3) </td><td>TP1    </td><td>x_greater_1</td><td>⋯</td><td>5PNNNNNNNNNN(BC)</td><td>CAGTAGTCACGGTCA</td><td>Antibody Capture</td><td>1</td><td>9.1</td><td>TP1</td><td>L1</td><td>1</td><td>8_B-cell                 </td><td>9.1-L1</td></tr>\n",
       "\t<tr><th scope=row>AAACCCACATGACTTG-1-L1</th><td> 379</td><td>9 </td><td>9 </td><td>Monocytes - CD16_FCGR3A</td><td>9_Monocytes - CD16_FCGR3A</td><td>acs_w_o_infection_TP1</td><td>x_greater_1_TP1</td><td>M9 (14,3) </td><td>TP1    </td><td>x_greater_1</td><td>⋯</td><td>5PNNNNNNNNNN(BC)</td><td>CAGTAGTCACGGTCA</td><td>Antibody Capture</td><td>1</td><td>9.1</td><td>TP1</td><td>L1</td><td>1</td><td>9_Monocytes - CD16_FCGR3A</td><td>9.1-L1</td></tr>\n",
       "\t<tr><th scope=row>AAACCCAGTCATCAGT-1-L1</th><td> 421</td><td>5 </td><td>5 </td><td>T-cell-CD4             </td><td>5_T-cell-CD4             </td><td>acs_w_o_infection_TP1</td><td>x_smaller_1_TP1</td><td>M7 (0,75) </td><td>TP1    </td><td>x_smaller_1</td><td>⋯</td><td>5PNNNNNNNNNN(BC)</td><td>TGTCTTTCCTGCCAG</td><td>Antibody Capture</td><td>1</td><td>7.1</td><td>TP1</td><td>L1</td><td>1</td><td>5_T-cell-CD4             </td><td>7.1-L1</td></tr>\n",
       "\t<tr><th scope=row>AAACCCAGTGGTAATA-1-L1</th><td> 478</td><td>0 </td><td>0 </td><td>T-cell-CD4             </td><td>0_T-cell-CD4             </td><td>acs_w_o_infection_TP1</td><td>x_greater_1_TP1</td><td>M9 (14,3) </td><td>TP1    </td><td>x_greater_1</td><td>⋯</td><td>5PNNNNNNNNNN(BC)</td><td>CAGTAGTCACGGTCA</td><td>Antibody Capture</td><td>1</td><td>9.1</td><td>TP1</td><td>L1</td><td>1</td><td>0_T-cell-CD4             </td><td>9.1-L1</td></tr>\n",
       "\t<tr><th scope=row>AAACCCATCATCACAG-1-L1</th><td> 851</td><td>16</td><td>16</td><td>Plasma Blast           </td><td>16_Plasma Blast          </td><td>acs_w_o_infection_TP1</td><td>x_greater_1_TP1</td><td>M9 (14,3) </td><td>TP1    </td><td>x_greater_1</td><td>⋯</td><td>5PNNNNNNNNNN(BC)</td><td>CAGTAGTCACGGTCA</td><td>Antibody Capture</td><td>1</td><td>9.1</td><td>TP1</td><td>L1</td><td>1</td><td>16_Plasma Blast          </td><td>9.1-L1</td></tr>\n",
       "\t<tr><th scope=row>AAACCCATCGATGGAG-1-L1</th><td> 473</td><td>0 </td><td>0 </td><td>T-cell-CD4             </td><td>0_T-cell-CD4             </td><td>acs_subacute_TP1     </td><td>missing        </td><td>missing   </td><td>missing</td><td>missing    </td><td>⋯</td><td>5PNNNNNNNNNN(BC)</td><td>CTCCTCTGCAATTAC</td><td>Antibody Capture</td><td>1</td><td>8.1</td><td>TP1</td><td>L1</td><td>1</td><td>0_T-cell-CD4             </td><td>8.1-L1</td></tr>\n",
       "</tbody>\n",
       "</table>\n"
      ],
      "text/latex": [
       "A data.frame: 6 × 32\n",
       "\\begin{tabular}{r|lllllllllllllllllllll}\n",
       "  & nCount\\_HTO & B2\\_Scanorama\\_Singlet\\_cluster & B2\\_Scanorama\\_Singlet\\_rb\\_mt\\_cluster & cell\\_type\\_Scanorama & cluster\\_cell\\_type\\_Scanorama & classification\\_measurement & delta\\_ef\\_value\\_group\\_measurement & m\\_y & measurement\\_y & delta\\_ef\\_value\\_group & ⋯ & pattern & sequence & feature\\_type & in\\_sample & display\\_name & group\\_x & library\\_char & group\\_id & cluster\\_id & sample\\_id\\\\\n",
       "  & <dbl> & <fct> & <fct> & <fct> & <fct> & <fct> & <fct> & <fct> & <fct> & <fct> & ⋯ & <fct> & <fct> & <fct> & <dbl> & <fct> & <fct> & <chr> & <chr> & <chr> & <chr>\\\\\n",
       "\\hline\n",
       "\tAAACCCACATACAGGG-1-L1 & 1574 & 8  & 8  & B-cell                  & 8\\_B-cell                  & acs\\_w\\_o\\_infection\\_TP1 & x\\_greater\\_1\\_TP1 & M9 (14,3)  & TP1     & x\\_greater\\_1 & ⋯ & 5PNNNNNNNNNN(BC) & CAGTAGTCACGGTCA & Antibody Capture & 1 & 9.1 & TP1 & L1 & 1 & 8\\_B-cell                  & 9.1-L1\\\\\n",
       "\tAAACCCACATGACTTG-1-L1 &  379 & 9  & 9  & Monocytes - CD16\\_FCGR3A & 9\\_Monocytes - CD16\\_FCGR3A & acs\\_w\\_o\\_infection\\_TP1 & x\\_greater\\_1\\_TP1 & M9 (14,3)  & TP1     & x\\_greater\\_1 & ⋯ & 5PNNNNNNNNNN(BC) & CAGTAGTCACGGTCA & Antibody Capture & 1 & 9.1 & TP1 & L1 & 1 & 9\\_Monocytes - CD16\\_FCGR3A & 9.1-L1\\\\\n",
       "\tAAACCCAGTCATCAGT-1-L1 &  421 & 5  & 5  & T-cell-CD4              & 5\\_T-cell-CD4              & acs\\_w\\_o\\_infection\\_TP1 & x\\_smaller\\_1\\_TP1 & M7 (0,75)  & TP1     & x\\_smaller\\_1 & ⋯ & 5PNNNNNNNNNN(BC) & TGTCTTTCCTGCCAG & Antibody Capture & 1 & 7.1 & TP1 & L1 & 1 & 5\\_T-cell-CD4              & 7.1-L1\\\\\n",
       "\tAAACCCAGTGGTAATA-1-L1 &  478 & 0  & 0  & T-cell-CD4              & 0\\_T-cell-CD4              & acs\\_w\\_o\\_infection\\_TP1 & x\\_greater\\_1\\_TP1 & M9 (14,3)  & TP1     & x\\_greater\\_1 & ⋯ & 5PNNNNNNNNNN(BC) & CAGTAGTCACGGTCA & Antibody Capture & 1 & 9.1 & TP1 & L1 & 1 & 0\\_T-cell-CD4              & 9.1-L1\\\\\n",
       "\tAAACCCATCATCACAG-1-L1 &  851 & 16 & 16 & Plasma Blast            & 16\\_Plasma Blast           & acs\\_w\\_o\\_infection\\_TP1 & x\\_greater\\_1\\_TP1 & M9 (14,3)  & TP1     & x\\_greater\\_1 & ⋯ & 5PNNNNNNNNNN(BC) & CAGTAGTCACGGTCA & Antibody Capture & 1 & 9.1 & TP1 & L1 & 1 & 16\\_Plasma Blast           & 9.1-L1\\\\\n",
       "\tAAACCCATCGATGGAG-1-L1 &  473 & 0  & 0  & T-cell-CD4              & 0\\_T-cell-CD4              & acs\\_subacute\\_TP1      & missing         & missing    & missing & missing     & ⋯ & 5PNNNNNNNNNN(BC) & CTCCTCTGCAATTAC & Antibody Capture & 1 & 8.1 & TP1 & L1 & 1 & 0\\_T-cell-CD4              & 8.1-L1\\\\\n",
       "\\end{tabular}\n"
      ],
      "text/markdown": [
       "\n",
       "A data.frame: 6 × 32\n",
       "\n",
       "| <!--/--> | nCount_HTO &lt;dbl&gt; | B2_Scanorama_Singlet_cluster &lt;fct&gt; | B2_Scanorama_Singlet_rb_mt_cluster &lt;fct&gt; | cell_type_Scanorama &lt;fct&gt; | cluster_cell_type_Scanorama &lt;fct&gt; | classification_measurement &lt;fct&gt; | delta_ef_value_group_measurement &lt;fct&gt; | m_y &lt;fct&gt; | measurement_y &lt;fct&gt; | delta_ef_value_group &lt;fct&gt; | ⋯ ⋯ | pattern &lt;fct&gt; | sequence &lt;fct&gt; | feature_type &lt;fct&gt; | in_sample &lt;dbl&gt; | display_name &lt;fct&gt; | group_x &lt;fct&gt; | library_char &lt;chr&gt; | group_id &lt;chr&gt; | cluster_id &lt;chr&gt; | sample_id &lt;chr&gt; |\n",
       "|---|---|---|---|---|---|---|---|---|---|---|---|---|---|---|---|---|---|---|---|---|---|\n",
       "| AAACCCACATACAGGG-1-L1 | 1574 | 8  | 8  | B-cell                  | 8_B-cell                  | acs_w_o_infection_TP1 | x_greater_1_TP1 | M9 (14,3)  | TP1     | x_greater_1 | ⋯ | 5PNNNNNNNNNN(BC) | CAGTAGTCACGGTCA | Antibody Capture | 1 | 9.1 | TP1 | L1 | 1 | 8_B-cell                  | 9.1-L1 |\n",
       "| AAACCCACATGACTTG-1-L1 |  379 | 9  | 9  | Monocytes - CD16_FCGR3A | 9_Monocytes - CD16_FCGR3A | acs_w_o_infection_TP1 | x_greater_1_TP1 | M9 (14,3)  | TP1     | x_greater_1 | ⋯ | 5PNNNNNNNNNN(BC) | CAGTAGTCACGGTCA | Antibody Capture | 1 | 9.1 | TP1 | L1 | 1 | 9_Monocytes - CD16_FCGR3A | 9.1-L1 |\n",
       "| AAACCCAGTCATCAGT-1-L1 |  421 | 5  | 5  | T-cell-CD4              | 5_T-cell-CD4              | acs_w_o_infection_TP1 | x_smaller_1_TP1 | M7 (0,75)  | TP1     | x_smaller_1 | ⋯ | 5PNNNNNNNNNN(BC) | TGTCTTTCCTGCCAG | Antibody Capture | 1 | 7.1 | TP1 | L1 | 1 | 5_T-cell-CD4              | 7.1-L1 |\n",
       "| AAACCCAGTGGTAATA-1-L1 |  478 | 0  | 0  | T-cell-CD4              | 0_T-cell-CD4              | acs_w_o_infection_TP1 | x_greater_1_TP1 | M9 (14,3)  | TP1     | x_greater_1 | ⋯ | 5PNNNNNNNNNN(BC) | CAGTAGTCACGGTCA | Antibody Capture | 1 | 9.1 | TP1 | L1 | 1 | 0_T-cell-CD4              | 9.1-L1 |\n",
       "| AAACCCATCATCACAG-1-L1 |  851 | 16 | 16 | Plasma Blast            | 16_Plasma Blast           | acs_w_o_infection_TP1 | x_greater_1_TP1 | M9 (14,3)  | TP1     | x_greater_1 | ⋯ | 5PNNNNNNNNNN(BC) | CAGTAGTCACGGTCA | Antibody Capture | 1 | 9.1 | TP1 | L1 | 1 | 16_Plasma Blast           | 9.1-L1 |\n",
       "| AAACCCATCGATGGAG-1-L1 |  473 | 0  | 0  | T-cell-CD4              | 0_T-cell-CD4              | acs_subacute_TP1      | missing         | missing    | missing | missing     | ⋯ | 5PNNNNNNNNNN(BC) | CTCCTCTGCAATTAC | Antibody Capture | 1 | 8.1 | TP1 | L1 | 1 | 0_T-cell-CD4              | 8.1-L1 |\n",
       "\n"
      ],
      "text/plain": [
       "                      nCount_HTO B2_Scanorama_Singlet_cluster\n",
       "AAACCCACATACAGGG-1-L1 1574       8                           \n",
       "AAACCCACATGACTTG-1-L1  379       9                           \n",
       "AAACCCAGTCATCAGT-1-L1  421       5                           \n",
       "AAACCCAGTGGTAATA-1-L1  478       0                           \n",
       "AAACCCATCATCACAG-1-L1  851       16                          \n",
       "AAACCCATCGATGGAG-1-L1  473       0                           \n",
       "                      B2_Scanorama_Singlet_rb_mt_cluster\n",
       "AAACCCACATACAGGG-1-L1 8                                 \n",
       "AAACCCACATGACTTG-1-L1 9                                 \n",
       "AAACCCAGTCATCAGT-1-L1 5                                 \n",
       "AAACCCAGTGGTAATA-1-L1 0                                 \n",
       "AAACCCATCATCACAG-1-L1 16                                \n",
       "AAACCCATCGATGGAG-1-L1 0                                 \n",
       "                      cell_type_Scanorama     cluster_cell_type_Scanorama\n",
       "AAACCCACATACAGGG-1-L1 B-cell                  8_B-cell                   \n",
       "AAACCCACATGACTTG-1-L1 Monocytes - CD16_FCGR3A 9_Monocytes - CD16_FCGR3A  \n",
       "AAACCCAGTCATCAGT-1-L1 T-cell-CD4              5_T-cell-CD4               \n",
       "AAACCCAGTGGTAATA-1-L1 T-cell-CD4              0_T-cell-CD4               \n",
       "AAACCCATCATCACAG-1-L1 Plasma Blast            16_Plasma Blast            \n",
       "AAACCCATCGATGGAG-1-L1 T-cell-CD4              0_T-cell-CD4               \n",
       "                      classification_measurement\n",
       "AAACCCACATACAGGG-1-L1 acs_w_o_infection_TP1     \n",
       "AAACCCACATGACTTG-1-L1 acs_w_o_infection_TP1     \n",
       "AAACCCAGTCATCAGT-1-L1 acs_w_o_infection_TP1     \n",
       "AAACCCAGTGGTAATA-1-L1 acs_w_o_infection_TP1     \n",
       "AAACCCATCATCACAG-1-L1 acs_w_o_infection_TP1     \n",
       "AAACCCATCGATGGAG-1-L1 acs_subacute_TP1          \n",
       "                      delta_ef_value_group_measurement m_y        measurement_y\n",
       "AAACCCACATACAGGG-1-L1 x_greater_1_TP1                  M9 (14,3)  TP1          \n",
       "AAACCCACATGACTTG-1-L1 x_greater_1_TP1                  M9 (14,3)  TP1          \n",
       "AAACCCAGTCATCAGT-1-L1 x_smaller_1_TP1                  M7 (0,75)  TP1          \n",
       "AAACCCAGTGGTAATA-1-L1 x_greater_1_TP1                  M9 (14,3)  TP1          \n",
       "AAACCCATCATCACAG-1-L1 x_greater_1_TP1                  M9 (14,3)  TP1          \n",
       "AAACCCATCGATGGAG-1-L1 missing                          missing    missing      \n",
       "                      delta_ef_value_group ⋯ pattern          sequence       \n",
       "AAACCCACATACAGGG-1-L1 x_greater_1          ⋯ 5PNNNNNNNNNN(BC) CAGTAGTCACGGTCA\n",
       "AAACCCACATGACTTG-1-L1 x_greater_1          ⋯ 5PNNNNNNNNNN(BC) CAGTAGTCACGGTCA\n",
       "AAACCCAGTCATCAGT-1-L1 x_smaller_1          ⋯ 5PNNNNNNNNNN(BC) TGTCTTTCCTGCCAG\n",
       "AAACCCAGTGGTAATA-1-L1 x_greater_1          ⋯ 5PNNNNNNNNNN(BC) CAGTAGTCACGGTCA\n",
       "AAACCCATCATCACAG-1-L1 x_greater_1          ⋯ 5PNNNNNNNNNN(BC) CAGTAGTCACGGTCA\n",
       "AAACCCATCGATGGAG-1-L1 missing              ⋯ 5PNNNNNNNNNN(BC) CTCCTCTGCAATTAC\n",
       "                      feature_type     in_sample display_name group_x\n",
       "AAACCCACATACAGGG-1-L1 Antibody Capture 1         9.1          TP1    \n",
       "AAACCCACATGACTTG-1-L1 Antibody Capture 1         9.1          TP1    \n",
       "AAACCCAGTCATCAGT-1-L1 Antibody Capture 1         7.1          TP1    \n",
       "AAACCCAGTGGTAATA-1-L1 Antibody Capture 1         9.1          TP1    \n",
       "AAACCCATCATCACAG-1-L1 Antibody Capture 1         9.1          TP1    \n",
       "AAACCCATCGATGGAG-1-L1 Antibody Capture 1         8.1          TP1    \n",
       "                      library_char group_id cluster_id                sample_id\n",
       "AAACCCACATACAGGG-1-L1 L1           1        8_B-cell                  9.1-L1   \n",
       "AAACCCACATGACTTG-1-L1 L1           1        9_Monocytes - CD16_FCGR3A 9.1-L1   \n",
       "AAACCCAGTCATCAGT-1-L1 L1           1        5_T-cell-CD4              7.1-L1   \n",
       "AAACCCAGTGGTAATA-1-L1 L1           1        0_T-cell-CD4              9.1-L1   \n",
       "AAACCCATCATCACAG-1-L1 L1           1        16_Plasma Blast           9.1-L1   \n",
       "AAACCCATCGATGGAG-1-L1 L1           1        0_T-cell-CD4              8.1-L1   "
      ]
     },
     "metadata": {},
     "output_type": "display_data"
    }
   ],
   "source": [
    "head(rna_seurat_data_subset@meta.data)"
   ]
  },
  {
   "cell_type": "code",
   "execution_count": 176,
   "id": "ef849d37-0290-4bc2-88d8-5cb06ba28e21",
   "metadata": {},
   "outputs": [],
   "source": [
    "## Short check whether merging worked fine"
   ]
  },
  {
   "cell_type": "markdown",
   "id": "234c8c17-2b81-4809-ab9c-f5dbfea77dc5",
   "metadata": {
    "tags": []
   },
   "source": [
    "## Convert to SCE "
   ]
  },
  {
   "cell_type": "code",
   "execution_count": 177,
   "id": "cc16e1b8-06e5-4d6b-a650-0ec83f3b1382",
   "metadata": {},
   "outputs": [],
   "source": [
    "rna_sce = as.SingleCellExperiment(rna_seurat_data_subset)"
   ]
  },
  {
   "cell_type": "code",
   "execution_count": null,
   "id": "b69c0a7a-23bb-4bc1-9c43-8571d7020116",
   "metadata": {},
   "outputs": [],
   "source": []
  },
  {
   "cell_type": "code",
   "execution_count": 178,
   "id": "234b488b-7aa5-4f4b-bd74-44d3eb6a3b33",
   "metadata": {},
   "outputs": [
    {
     "data": {
      "text/plain": [
       "class: SingleCellExperiment \n",
       "dim: 19221 148275 \n",
       "metadata(0):\n",
       "assays(2): counts logcounts\n",
       "rownames(19221): AL627309.1 AL627309.4 ... AC004556.1 AC240274.1\n",
       "rowData names(0):\n",
       "colnames(148275): AAACCCACATACAGGG-1-L1 AAACCCACATGACTTG-1-L1 ...\n",
       "  TTTGTTGGTGGACCAA-1-L14 TTTGTTGTCGAAGAAT-1-L14\n",
       "colData names(33): nCount_HTO B2_Scanorama_Singlet_cluster ...\n",
       "  sample_id ident\n",
       "reducedDimNames(0):\n",
       "mainExpName: RNA\n",
       "altExpNames(0):"
      ]
     },
     "metadata": {},
     "output_type": "display_data"
    }
   ],
   "source": [
    "rna_sce  # rows = genes; columns = cells"
   ]
  },
  {
   "cell_type": "code",
   "execution_count": 179,
   "id": "4f3c7449-6e1d-47c8-999f-82bd7f4cde2c",
   "metadata": {},
   "outputs": [],
   "source": [
    "### Check amount of cells per sample and cluster"
   ]
  },
  {
   "cell_type": "code",
   "execution_count": 180,
   "id": "d652a37f-3f8c-44a5-992e-cfedbb4705fe",
   "metadata": {},
   "outputs": [
    {
     "data": {
      "text/html": [
       "<style>\n",
       ".dl-inline {width: auto; margin:0; padding: 0}\n",
       ".dl-inline>dt, .dl-inline>dd {float: none; width: auto; display: inline-block}\n",
       ".dl-inline>dt::after {content: \":\\0020\"; padding-right: .5ex}\n",
       ".dl-inline>dt:not(:first-of-type) {padding-left: .5ex}\n",
       "</style><dl class=dl-inline><dt>0_T-cell-CD4</dt><dd>24806</dd><dt>1_T-cell-CD8</dt><dd>19754</dd><dt>10_B-cell</dt><dd>2897</dd><dt>11_T-cell-CD4</dt><dd>2769</dd><dt>12_Monocytes - CD16_FCGR3A</dt><dd>1934</dd><dt>13_Dendritic</dt><dd>1365</dd><dt>14_Other</dt><dd>1345</dd><dt>15_Plasma Blast</dt><dd>782</dd><dt>16_Plasma Blast</dt><dd>763</dd><dt>17_Progenitor</dt><dd>330</dd><dt>18_Megakaryocytes</dt><dd>99</dd><dt>2_T-cell-CD4</dt><dd>19071</dd><dt>3_NK</dt><dd>15670</dd><dt>4_Monocytes - CD14</dt><dd>14625</dd><dt>5_T-cell-CD4</dt><dd>12514</dd><dt>6_Monocytes - CD14</dt><dd>11202</dd><dt>7_Monocytes - CD14</dt><dd>7836</dd><dt>8_B-cell</dt><dd>7399</dd><dt>9_Monocytes - CD16_FCGR3A</dt><dd>3114</dd></dl>\n"
      ],
      "text/latex": [
       "\\begin{description*}\n",
       "\\item[0\\textbackslash{}\\_T-cell-CD4] 24806\n",
       "\\item[1\\textbackslash{}\\_T-cell-CD8] 19754\n",
       "\\item[10\\textbackslash{}\\_B-cell] 2897\n",
       "\\item[11\\textbackslash{}\\_T-cell-CD4] 2769\n",
       "\\item[12\\textbackslash{}\\_Monocytes - CD16\\textbackslash{}\\_FCGR3A] 1934\n",
       "\\item[13\\textbackslash{}\\_Dendritic] 1365\n",
       "\\item[14\\textbackslash{}\\_Other] 1345\n",
       "\\item[15\\textbackslash{}\\_Plasma Blast] 782\n",
       "\\item[16\\textbackslash{}\\_Plasma Blast] 763\n",
       "\\item[17\\textbackslash{}\\_Progenitor] 330\n",
       "\\item[18\\textbackslash{}\\_Megakaryocytes] 99\n",
       "\\item[2\\textbackslash{}\\_T-cell-CD4] 19071\n",
       "\\item[3\\textbackslash{}\\_NK] 15670\n",
       "\\item[4\\textbackslash{}\\_Monocytes - CD14] 14625\n",
       "\\item[5\\textbackslash{}\\_T-cell-CD4] 12514\n",
       "\\item[6\\textbackslash{}\\_Monocytes - CD14] 11202\n",
       "\\item[7\\textbackslash{}\\_Monocytes - CD14] 7836\n",
       "\\item[8\\textbackslash{}\\_B-cell] 7399\n",
       "\\item[9\\textbackslash{}\\_Monocytes - CD16\\textbackslash{}\\_FCGR3A] 3114\n",
       "\\end{description*}\n"
      ],
      "text/markdown": [
       "0_T-cell-CD4\n",
       ":   248061_T-cell-CD8\n",
       ":   1975410_B-cell\n",
       ":   289711_T-cell-CD4\n",
       ":   276912_Monocytes - CD16_FCGR3A\n",
       ":   193413_Dendritic\n",
       ":   136514_Other\n",
       ":   134515_Plasma Blast\n",
       ":   78216_Plasma Blast\n",
       ":   76317_Progenitor\n",
       ":   33018_Megakaryocytes\n",
       ":   992_T-cell-CD4\n",
       ":   190713_NK\n",
       ":   156704_Monocytes - CD14\n",
       ":   146255_T-cell-CD4\n",
       ":   125146_Monocytes - CD14\n",
       ":   112027_Monocytes - CD14\n",
       ":   78368_B-cell\n",
       ":   73999_Monocytes - CD16_FCGR3A\n",
       ":   3114\n",
       "\n"
      ],
      "text/plain": [
       "              0_T-cell-CD4               1_T-cell-CD8 \n",
       "                     24806                      19754 \n",
       "                 10_B-cell              11_T-cell-CD4 \n",
       "                      2897                       2769 \n",
       "12_Monocytes - CD16_FCGR3A               13_Dendritic \n",
       "                      1934                       1365 \n",
       "                  14_Other            15_Plasma Blast \n",
       "                      1345                        782 \n",
       "           16_Plasma Blast              17_Progenitor \n",
       "                       763                        330 \n",
       "         18_Megakaryocytes               2_T-cell-CD4 \n",
       "                        99                      19071 \n",
       "                      3_NK         4_Monocytes - CD14 \n",
       "                     15670                      14625 \n",
       "              5_T-cell-CD4         6_Monocytes - CD14 \n",
       "                     12514                      11202 \n",
       "        7_Monocytes - CD14                   8_B-cell \n",
       "                      7836                       7399 \n",
       " 9_Monocytes - CD16_FCGR3A \n",
       "                      3114 "
      ]
     },
     "metadata": {},
     "output_type": "display_data"
    }
   ],
   "source": [
    "colSums(table(rna_sce$cluster_id,rna_sce$cluster_id ))"
   ]
  },
  {
   "cell_type": "code",
   "execution_count": 181,
   "id": "b912887a-be08-45cd-b057-b3ad49136835",
   "metadata": {},
   "outputs": [],
   "source": [
    "cells_per_sample_cluster = t(table(rna_sce$cluster_id, rna_sce$sample_id))"
   ]
  },
  {
   "cell_type": "code",
   "execution_count": 182,
   "id": "373d89dd-cf98-4f11-97f1-03a75597f7b2",
   "metadata": {},
   "outputs": [
    {
     "data": {
      "text/html": [
       "<table class=\"dataframe\">\n",
       "<caption>A data.frame: 6 × 3</caption>\n",
       "<thead>\n",
       "\t<tr><th></th><th scope=col>Var1</th><th scope=col>Var2</th><th scope=col>Freq</th></tr>\n",
       "\t<tr><th></th><th scope=col>&lt;fct&gt;</th><th scope=col>&lt;fct&gt;</th><th scope=col>&lt;int&gt;</th></tr>\n",
       "</thead>\n",
       "<tbody>\n",
       "\t<tr><th scope=row>1</th><td>1.1-L1 </td><td>0_T-cell-CD4</td><td>398</td></tr>\n",
       "\t<tr><th scope=row>2</th><td>10-L11 </td><td>0_T-cell-CD4</td><td>219</td></tr>\n",
       "\t<tr><th scope=row>3</th><td>10.2-L4</td><td>0_T-cell-CD4</td><td>156</td></tr>\n",
       "\t<tr><th scope=row>4</th><td>10.3-L9</td><td>0_T-cell-CD4</td><td>193</td></tr>\n",
       "\t<tr><th scope=row>5</th><td>11-L13 </td><td>0_T-cell-CD4</td><td> 83</td></tr>\n",
       "\t<tr><th scope=row>6</th><td>11.2-L5</td><td>0_T-cell-CD4</td><td>212</td></tr>\n",
       "</tbody>\n",
       "</table>\n"
      ],
      "text/latex": [
       "A data.frame: 6 × 3\n",
       "\\begin{tabular}{r|lll}\n",
       "  & Var1 & Var2 & Freq\\\\\n",
       "  & <fct> & <fct> & <int>\\\\\n",
       "\\hline\n",
       "\t1 & 1.1-L1  & 0\\_T-cell-CD4 & 398\\\\\n",
       "\t2 & 10-L11  & 0\\_T-cell-CD4 & 219\\\\\n",
       "\t3 & 10.2-L4 & 0\\_T-cell-CD4 & 156\\\\\n",
       "\t4 & 10.3-L9 & 0\\_T-cell-CD4 & 193\\\\\n",
       "\t5 & 11-L13  & 0\\_T-cell-CD4 &  83\\\\\n",
       "\t6 & 11.2-L5 & 0\\_T-cell-CD4 & 212\\\\\n",
       "\\end{tabular}\n"
      ],
      "text/markdown": [
       "\n",
       "A data.frame: 6 × 3\n",
       "\n",
       "| <!--/--> | Var1 &lt;fct&gt; | Var2 &lt;fct&gt; | Freq &lt;int&gt; |\n",
       "|---|---|---|---|\n",
       "| 1 | 1.1-L1  | 0_T-cell-CD4 | 398 |\n",
       "| 2 | 10-L11  | 0_T-cell-CD4 | 219 |\n",
       "| 3 | 10.2-L4 | 0_T-cell-CD4 | 156 |\n",
       "| 4 | 10.3-L9 | 0_T-cell-CD4 | 193 |\n",
       "| 5 | 11-L13  | 0_T-cell-CD4 |  83 |\n",
       "| 6 | 11.2-L5 | 0_T-cell-CD4 | 212 |\n",
       "\n"
      ],
      "text/plain": [
       "  Var1    Var2         Freq\n",
       "1 1.1-L1  0_T-cell-CD4 398 \n",
       "2 10-L11  0_T-cell-CD4 219 \n",
       "3 10.2-L4 0_T-cell-CD4 156 \n",
       "4 10.3-L9 0_T-cell-CD4 193 \n",
       "5 11-L13  0_T-cell-CD4  83 \n",
       "6 11.2-L5 0_T-cell-CD4 212 "
      ]
     },
     "metadata": {},
     "output_type": "display_data"
    }
   ],
   "source": [
    "head(as.data.frame(cells_per_sample_cluster))"
   ]
  },
  {
   "cell_type": "code",
   "execution_count": 183,
   "id": "832cb8ec-1f06-4b63-8e06-d5e4dca7bfcd",
   "metadata": {},
   "outputs": [],
   "source": [
    "write.csv(cells_per_sample_cluster, paste0(result_path, '/C-Analysis/C1_Cell_Sample_Cluster_Distribution.csv'))"
   ]
  },
  {
   "cell_type": "code",
   "execution_count": 184,
   "id": "8cf108cb-1117-437c-913a-a325ec6796bd",
   "metadata": {},
   "outputs": [],
   "source": [
    "cells_per_sample_cluster = data.frame(cells_per_sample_cluster)"
   ]
  },
  {
   "cell_type": "code",
   "execution_count": 185,
   "id": "7362e183-80c3-4d34-ae25-1688a8619a77",
   "metadata": {},
   "outputs": [
    {
     "data": {
      "text/html": [
       "<table class=\"dataframe\">\n",
       "<caption>A data.frame: 6 × 3</caption>\n",
       "<thead>\n",
       "\t<tr><th></th><th scope=col>Var1</th><th scope=col>Var2</th><th scope=col>Freq</th></tr>\n",
       "\t<tr><th></th><th scope=col>&lt;fct&gt;</th><th scope=col>&lt;fct&gt;</th><th scope=col>&lt;int&gt;</th></tr>\n",
       "</thead>\n",
       "<tbody>\n",
       "\t<tr><th scope=row>1</th><td>1.1-L1 </td><td>0_T-cell-CD4</td><td>398</td></tr>\n",
       "\t<tr><th scope=row>2</th><td>10-L11 </td><td>0_T-cell-CD4</td><td>219</td></tr>\n",
       "\t<tr><th scope=row>3</th><td>10.2-L4</td><td>0_T-cell-CD4</td><td>156</td></tr>\n",
       "\t<tr><th scope=row>4</th><td>10.3-L9</td><td>0_T-cell-CD4</td><td>193</td></tr>\n",
       "\t<tr><th scope=row>5</th><td>11-L13 </td><td>0_T-cell-CD4</td><td> 83</td></tr>\n",
       "\t<tr><th scope=row>6</th><td>11.2-L5</td><td>0_T-cell-CD4</td><td>212</td></tr>\n",
       "</tbody>\n",
       "</table>\n"
      ],
      "text/latex": [
       "A data.frame: 6 × 3\n",
       "\\begin{tabular}{r|lll}\n",
       "  & Var1 & Var2 & Freq\\\\\n",
       "  & <fct> & <fct> & <int>\\\\\n",
       "\\hline\n",
       "\t1 & 1.1-L1  & 0\\_T-cell-CD4 & 398\\\\\n",
       "\t2 & 10-L11  & 0\\_T-cell-CD4 & 219\\\\\n",
       "\t3 & 10.2-L4 & 0\\_T-cell-CD4 & 156\\\\\n",
       "\t4 & 10.3-L9 & 0\\_T-cell-CD4 & 193\\\\\n",
       "\t5 & 11-L13  & 0\\_T-cell-CD4 &  83\\\\\n",
       "\t6 & 11.2-L5 & 0\\_T-cell-CD4 & 212\\\\\n",
       "\\end{tabular}\n"
      ],
      "text/markdown": [
       "\n",
       "A data.frame: 6 × 3\n",
       "\n",
       "| <!--/--> | Var1 &lt;fct&gt; | Var2 &lt;fct&gt; | Freq &lt;int&gt; |\n",
       "|---|---|---|---|\n",
       "| 1 | 1.1-L1  | 0_T-cell-CD4 | 398 |\n",
       "| 2 | 10-L11  | 0_T-cell-CD4 | 219 |\n",
       "| 3 | 10.2-L4 | 0_T-cell-CD4 | 156 |\n",
       "| 4 | 10.3-L9 | 0_T-cell-CD4 | 193 |\n",
       "| 5 | 11-L13  | 0_T-cell-CD4 |  83 |\n",
       "| 6 | 11.2-L5 | 0_T-cell-CD4 | 212 |\n",
       "\n"
      ],
      "text/plain": [
       "  Var1    Var2         Freq\n",
       "1 1.1-L1  0_T-cell-CD4 398 \n",
       "2 10-L11  0_T-cell-CD4 219 \n",
       "3 10.2-L4 0_T-cell-CD4 156 \n",
       "4 10.3-L9 0_T-cell-CD4 193 \n",
       "5 11-L13  0_T-cell-CD4  83 \n",
       "6 11.2-L5 0_T-cell-CD4 212 "
      ]
     },
     "metadata": {},
     "output_type": "display_data"
    }
   ],
   "source": [
    "head(cells_per_sample_cluster)"
   ]
  },
  {
   "cell_type": "code",
   "execution_count": 186,
   "id": "672f4dc5-4841-4172-a8cf-0984b35ca7cd",
   "metadata": {},
   "outputs": [
    {
     "data": {
      "text/html": [
       "<table class=\"dataframe\">\n",
       "<caption>A tibble: 19 × 2</caption>\n",
       "<thead>\n",
       "\t<tr><th scope=col>Var2</th><th scope=col>amount_cells</th></tr>\n",
       "\t<tr><th scope=col>&lt;fct&gt;</th><th scope=col>&lt;int&gt;</th></tr>\n",
       "</thead>\n",
       "<tbody>\n",
       "\t<tr><td>0_T-cell-CD4              </td><td>24806</td></tr>\n",
       "\t<tr><td>1_T-cell-CD8              </td><td>19754</td></tr>\n",
       "\t<tr><td>10_B-cell                 </td><td> 2897</td></tr>\n",
       "\t<tr><td>11_T-cell-CD4             </td><td> 2769</td></tr>\n",
       "\t<tr><td>12_Monocytes - CD16_FCGR3A</td><td> 1934</td></tr>\n",
       "\t<tr><td>13_Dendritic              </td><td> 1365</td></tr>\n",
       "\t<tr><td>14_Other                  </td><td> 1345</td></tr>\n",
       "\t<tr><td>15_Plasma Blast           </td><td>  782</td></tr>\n",
       "\t<tr><td>16_Plasma Blast           </td><td>  763</td></tr>\n",
       "\t<tr><td>17_Progenitor             </td><td>  330</td></tr>\n",
       "\t<tr><td>18_Megakaryocytes         </td><td>   99</td></tr>\n",
       "\t<tr><td>2_T-cell-CD4              </td><td>19071</td></tr>\n",
       "\t<tr><td>3_NK                      </td><td>15670</td></tr>\n",
       "\t<tr><td>4_Monocytes - CD14        </td><td>14625</td></tr>\n",
       "\t<tr><td>5_T-cell-CD4              </td><td>12514</td></tr>\n",
       "\t<tr><td>6_Monocytes - CD14        </td><td>11202</td></tr>\n",
       "\t<tr><td>7_Monocytes - CD14        </td><td> 7836</td></tr>\n",
       "\t<tr><td>8_B-cell                  </td><td> 7399</td></tr>\n",
       "\t<tr><td>9_Monocytes - CD16_FCGR3A </td><td> 3114</td></tr>\n",
       "</tbody>\n",
       "</table>\n"
      ],
      "text/latex": [
       "A tibble: 19 × 2\n",
       "\\begin{tabular}{ll}\n",
       " Var2 & amount\\_cells\\\\\n",
       " <fct> & <int>\\\\\n",
       "\\hline\n",
       "\t 0\\_T-cell-CD4               & 24806\\\\\n",
       "\t 1\\_T-cell-CD8               & 19754\\\\\n",
       "\t 10\\_B-cell                  &  2897\\\\\n",
       "\t 11\\_T-cell-CD4              &  2769\\\\\n",
       "\t 12\\_Monocytes - CD16\\_FCGR3A &  1934\\\\\n",
       "\t 13\\_Dendritic               &  1365\\\\\n",
       "\t 14\\_Other                   &  1345\\\\\n",
       "\t 15\\_Plasma Blast            &   782\\\\\n",
       "\t 16\\_Plasma Blast            &   763\\\\\n",
       "\t 17\\_Progenitor              &   330\\\\\n",
       "\t 18\\_Megakaryocytes          &    99\\\\\n",
       "\t 2\\_T-cell-CD4               & 19071\\\\\n",
       "\t 3\\_NK                       & 15670\\\\\n",
       "\t 4\\_Monocytes - CD14         & 14625\\\\\n",
       "\t 5\\_T-cell-CD4               & 12514\\\\\n",
       "\t 6\\_Monocytes - CD14         & 11202\\\\\n",
       "\t 7\\_Monocytes - CD14         &  7836\\\\\n",
       "\t 8\\_B-cell                   &  7399\\\\\n",
       "\t 9\\_Monocytes - CD16\\_FCGR3A  &  3114\\\\\n",
       "\\end{tabular}\n"
      ],
      "text/markdown": [
       "\n",
       "A tibble: 19 × 2\n",
       "\n",
       "| Var2 &lt;fct&gt; | amount_cells &lt;int&gt; |\n",
       "|---|---|\n",
       "| 0_T-cell-CD4               | 24806 |\n",
       "| 1_T-cell-CD8               | 19754 |\n",
       "| 10_B-cell                  |  2897 |\n",
       "| 11_T-cell-CD4              |  2769 |\n",
       "| 12_Monocytes - CD16_FCGR3A |  1934 |\n",
       "| 13_Dendritic               |  1365 |\n",
       "| 14_Other                   |  1345 |\n",
       "| 15_Plasma Blast            |   782 |\n",
       "| 16_Plasma Blast            |   763 |\n",
       "| 17_Progenitor              |   330 |\n",
       "| 18_Megakaryocytes          |    99 |\n",
       "| 2_T-cell-CD4               | 19071 |\n",
       "| 3_NK                       | 15670 |\n",
       "| 4_Monocytes - CD14         | 14625 |\n",
       "| 5_T-cell-CD4               | 12514 |\n",
       "| 6_Monocytes - CD14         | 11202 |\n",
       "| 7_Monocytes - CD14         |  7836 |\n",
       "| 8_B-cell                   |  7399 |\n",
       "| 9_Monocytes - CD16_FCGR3A  |  3114 |\n",
       "\n"
      ],
      "text/plain": [
       "   Var2                       amount_cells\n",
       "1  0_T-cell-CD4               24806       \n",
       "2  1_T-cell-CD8               19754       \n",
       "3  10_B-cell                   2897       \n",
       "4  11_T-cell-CD4               2769       \n",
       "5  12_Monocytes - CD16_FCGR3A  1934       \n",
       "6  13_Dendritic                1365       \n",
       "7  14_Other                    1345       \n",
       "8  15_Plasma Blast              782       \n",
       "9  16_Plasma Blast              763       \n",
       "10 17_Progenitor                330       \n",
       "11 18_Megakaryocytes             99       \n",
       "12 2_T-cell-CD4               19071       \n",
       "13 3_NK                       15670       \n",
       "14 4_Monocytes - CD14         14625       \n",
       "15 5_T-cell-CD4               12514       \n",
       "16 6_Monocytes - CD14         11202       \n",
       "17 7_Monocytes - CD14          7836       \n",
       "18 8_B-cell                    7399       \n",
       "19 9_Monocytes - CD16_FCGR3A   3114       "
      ]
     },
     "metadata": {},
     "output_type": "display_data"
    }
   ],
   "source": [
    "cells_per_sample_cluster %>% group_by(Var2) %>% summarise(amount_cells = sum(Freq))"
   ]
  },
  {
   "cell_type": "code",
   "execution_count": 187,
   "id": "e804c293-70f0-4f22-9b93-111a6ceca896",
   "metadata": {},
   "outputs": [],
   "source": [
    "colnames(cells_per_sample_cluster) = c('Sample', 'Cluster_Cell_Type', 'amount_cells')"
   ]
  },
  {
   "cell_type": "code",
   "execution_count": 188,
   "id": "956f9c5d-26c2-47d7-a8ac-0db8a5bef401",
   "metadata": {},
   "outputs": [],
   "source": [
    "cells_per_sample_cluster$amount_cells_cat[(cells_per_sample_cluster$amount_cells <= 3)  ] = '0-3'"
   ]
  },
  {
   "cell_type": "code",
   "execution_count": 189,
   "id": "d6b68438-98e0-4787-a00b-7a696a16b18f",
   "metadata": {},
   "outputs": [],
   "source": [
    "cells_per_sample_cluster$amount_cells_cat[(cells_per_sample_cluster$amount_cells <= 10)  & (cells_per_sample_cluster$amount_cells >3 )] = '3-10'"
   ]
  },
  {
   "cell_type": "code",
   "execution_count": 190,
   "id": "2ed391da-db78-4fe7-b26a-4e2be384a490",
   "metadata": {},
   "outputs": [],
   "source": [
    "cells_per_sample_cluster$amount_cells_cat[(cells_per_sample_cluster$amount_cells <= 20)  & (cells_per_sample_cluster$amount_cells >10 )] = '10-20'"
   ]
  },
  {
   "cell_type": "code",
   "execution_count": 191,
   "id": "b637e7cf-3570-40c1-845e-d0f56f0d2655",
   "metadata": {},
   "outputs": [],
   "source": [
    "cells_per_sample_cluster$amount_cells_cat[(cells_per_sample_cluster$amount_cells <= 50)  & (cells_per_sample_cluster$amount_cells >20 )] = '20-50'"
   ]
  },
  {
   "cell_type": "code",
   "execution_count": 192,
   "id": "dfc2e465-ff63-42f6-89a1-f343552b30a4",
   "metadata": {},
   "outputs": [],
   "source": [
    "cells_per_sample_cluster$amount_cells_cat[(cells_per_sample_cluster$amount_cells > 50)  ] = '> 50'"
   ]
  },
  {
   "cell_type": "code",
   "execution_count": 193,
   "id": "8452efbf-357c-4b89-bfda-e635c8b9056f",
   "metadata": {},
   "outputs": [],
   "source": [
    "sample_class = unique(obs[,c('classification', 'sample_id')])"
   ]
  },
  {
   "cell_type": "code",
   "execution_count": 194,
   "id": "9e5bd898-81af-4016-be0b-6daa03b50ada",
   "metadata": {},
   "outputs": [],
   "source": [
    "cells_per_sample_cluster = merge(cells_per_sample_cluster, sample_class, by.x = 'Sample', by.y = 'sample_id')"
   ]
  },
  {
   "cell_type": "code",
   "execution_count": 195,
   "id": "72fca006-6680-475f-bcf6-b5f15b4d64a0",
   "metadata": {},
   "outputs": [
    {
     "data": {
      "text/html": [
       "<table class=\"dataframe\">\n",
       "<caption>A data.frame: 6 × 5</caption>\n",
       "<thead>\n",
       "\t<tr><th></th><th scope=col>Sample</th><th scope=col>Cluster_Cell_Type</th><th scope=col>amount_cells</th><th scope=col>amount_cells_cat</th><th scope=col>classification</th></tr>\n",
       "\t<tr><th></th><th scope=col>&lt;fct&gt;</th><th scope=col>&lt;fct&gt;</th><th scope=col>&lt;int&gt;</th><th scope=col>&lt;chr&gt;</th><th scope=col>&lt;fct&gt;</th></tr>\n",
       "</thead>\n",
       "<tbody>\n",
       "\t<tr><th scope=row>1</th><td>1.1-L1</td><td><span style=white-space:pre-wrap>0_T-cell-CD4     </span></td><td>398</td><td>&gt; 50 </td><td>acs_subacute</td></tr>\n",
       "\t<tr><th scope=row>2</th><td>1.1-L1</td><td><span style=white-space:pre-wrap>1_T-cell-CD8     </span></td><td>156</td><td>&gt; 50 </td><td>acs_subacute</td></tr>\n",
       "\t<tr><th scope=row>3</th><td>1.1-L1</td><td>10_B-cell        </td><td> 12</td><td>10-20</td><td>acs_subacute</td></tr>\n",
       "\t<tr><th scope=row>4</th><td>1.1-L1</td><td>11_T-cell-CD4    </td><td> 39</td><td>20-50</td><td>acs_subacute</td></tr>\n",
       "\t<tr><th scope=row>5</th><td>1.1-L1</td><td>18_Megakaryocytes</td><td>  0</td><td>0-3  </td><td>acs_subacute</td></tr>\n",
       "\t<tr><th scope=row>6</th><td>1.1-L1</td><td>15_Plasma Blast  </td><td>  1</td><td>0-3  </td><td>acs_subacute</td></tr>\n",
       "</tbody>\n",
       "</table>\n"
      ],
      "text/latex": [
       "A data.frame: 6 × 5\n",
       "\\begin{tabular}{r|lllll}\n",
       "  & Sample & Cluster\\_Cell\\_Type & amount\\_cells & amount\\_cells\\_cat & classification\\\\\n",
       "  & <fct> & <fct> & <int> & <chr> & <fct>\\\\\n",
       "\\hline\n",
       "\t1 & 1.1-L1 & 0\\_T-cell-CD4      & 398 & > 50  & acs\\_subacute\\\\\n",
       "\t2 & 1.1-L1 & 1\\_T-cell-CD8      & 156 & > 50  & acs\\_subacute\\\\\n",
       "\t3 & 1.1-L1 & 10\\_B-cell         &  12 & 10-20 & acs\\_subacute\\\\\n",
       "\t4 & 1.1-L1 & 11\\_T-cell-CD4     &  39 & 20-50 & acs\\_subacute\\\\\n",
       "\t5 & 1.1-L1 & 18\\_Megakaryocytes &   0 & 0-3   & acs\\_subacute\\\\\n",
       "\t6 & 1.1-L1 & 15\\_Plasma Blast   &   1 & 0-3   & acs\\_subacute\\\\\n",
       "\\end{tabular}\n"
      ],
      "text/markdown": [
       "\n",
       "A data.frame: 6 × 5\n",
       "\n",
       "| <!--/--> | Sample &lt;fct&gt; | Cluster_Cell_Type &lt;fct&gt; | amount_cells &lt;int&gt; | amount_cells_cat &lt;chr&gt; | classification &lt;fct&gt; |\n",
       "|---|---|---|---|---|---|\n",
       "| 1 | 1.1-L1 | 0_T-cell-CD4      | 398 | &gt; 50  | acs_subacute |\n",
       "| 2 | 1.1-L1 | 1_T-cell-CD8      | 156 | &gt; 50  | acs_subacute |\n",
       "| 3 | 1.1-L1 | 10_B-cell         |  12 | 10-20 | acs_subacute |\n",
       "| 4 | 1.1-L1 | 11_T-cell-CD4     |  39 | 20-50 | acs_subacute |\n",
       "| 5 | 1.1-L1 | 18_Megakaryocytes |   0 | 0-3   | acs_subacute |\n",
       "| 6 | 1.1-L1 | 15_Plasma Blast   |   1 | 0-3   | acs_subacute |\n",
       "\n"
      ],
      "text/plain": [
       "  Sample Cluster_Cell_Type amount_cells amount_cells_cat classification\n",
       "1 1.1-L1 0_T-cell-CD4      398          > 50             acs_subacute  \n",
       "2 1.1-L1 1_T-cell-CD8      156          > 50             acs_subacute  \n",
       "3 1.1-L1 10_B-cell          12          10-20            acs_subacute  \n",
       "4 1.1-L1 11_T-cell-CD4      39          20-50            acs_subacute  \n",
       "5 1.1-L1 18_Megakaryocytes   0          0-3              acs_subacute  \n",
       "6 1.1-L1 15_Plasma Blast     1          0-3              acs_subacute  "
      ]
     },
     "metadata": {},
     "output_type": "display_data"
    }
   ],
   "source": [
    "head(cells_per_sample_cluster)"
   ]
  },
  {
   "cell_type": "code",
   "execution_count": 196,
   "id": "03909a64-aa9f-44a9-be71-8c4bb73cc65d",
   "metadata": {},
   "outputs": [],
   "source": [
    "cells_per_sample_cluster$cell_type = str_replace(cells_per_sample_cluster$Cluster_Cell_Type, '\\\\d.*_', '')"
   ]
  },
  {
   "cell_type": "code",
   "execution_count": 197,
   "id": "01284c78-0c09-40e3-8d57-23debaf91ac8",
   "metadata": {},
   "outputs": [
    {
     "data": {
      "image/png": "[encoded data removed]",
      "text/plain": [
       "plot without title"
      ]
     },
     "metadata": {
      "image/png": {
       "height": 900,
       "width": 1800
      }
     },
     "output_type": "display_data"
    }
   ],
   "source": [
    "options(repr.plot.width=30, repr.plot.height=15)\n",
    "g = ggplot(cells_per_sample_cluster, aes(Sample, Cluster_Cell_Type, fill= amount_cells_cat)) + facet_grid(cell_type ~ classification , scales = \"free\", space = \"free\") + geom_tile()   + ggtitle(label = \"Amount cells per cluster and sample\")+ theme(axis.text.x=element_text(size=14, angle = 90), axis.text.y=element_text(size=14, angle = 0),axis.title=element_text(size=14,face=\"bold\")) + scale_fill_manual(name = \"Amount cells\", breaks=c( '0-3','3-10', \n",
    "                                 '10-20', '20-50', '> 50'), values =c(\"red4\",\"rosybrown1\",  \"seashell\", \"palegreen\", \"palegreen4\")) \n",
    "g"
   ]
  },
  {
   "cell_type": "code",
   "execution_count": 198,
   "id": "09c4175c-cbc4-4dbf-bafb-c99fb4bd7cf7",
   "metadata": {},
   "outputs": [
    {
     "data": {
      "text/html": [
       "<table class=\"dataframe\">\n",
       "<caption>A data.frame: 2 × 6</caption>\n",
       "<thead>\n",
       "\t<tr><th></th><th scope=col>Sample</th><th scope=col>Cluster_Cell_Type</th><th scope=col>amount_cells</th><th scope=col>amount_cells_cat</th><th scope=col>classification</th><th scope=col>cell_type</th></tr>\n",
       "\t<tr><th></th><th scope=col>&lt;fct&gt;</th><th scope=col>&lt;fct&gt;</th><th scope=col>&lt;int&gt;</th><th scope=col>&lt;chr&gt;</th><th scope=col>&lt;fct&gt;</th><th scope=col>&lt;chr&gt;</th></tr>\n",
       "</thead>\n",
       "<tbody>\n",
       "\t<tr><th scope=row>1</th><td>1.1-L1</td><td>0_T-cell-CD4</td><td>398</td><td>&gt; 50</td><td>acs_subacute</td><td>T-cell-CD4</td></tr>\n",
       "\t<tr><th scope=row>2</th><td>1.1-L1</td><td>1_T-cell-CD8</td><td>156</td><td>&gt; 50</td><td>acs_subacute</td><td>T-cell-CD8</td></tr>\n",
       "</tbody>\n",
       "</table>\n"
      ],
      "text/latex": [
       "A data.frame: 2 × 6\n",
       "\\begin{tabular}{r|llllll}\n",
       "  & Sample & Cluster\\_Cell\\_Type & amount\\_cells & amount\\_cells\\_cat & classification & cell\\_type\\\\\n",
       "  & <fct> & <fct> & <int> & <chr> & <fct> & <chr>\\\\\n",
       "\\hline\n",
       "\t1 & 1.1-L1 & 0\\_T-cell-CD4 & 398 & > 50 & acs\\_subacute & T-cell-CD4\\\\\n",
       "\t2 & 1.1-L1 & 1\\_T-cell-CD8 & 156 & > 50 & acs\\_subacute & T-cell-CD8\\\\\n",
       "\\end{tabular}\n"
      ],
      "text/markdown": [
       "\n",
       "A data.frame: 2 × 6\n",
       "\n",
       "| <!--/--> | Sample &lt;fct&gt; | Cluster_Cell_Type &lt;fct&gt; | amount_cells &lt;int&gt; | amount_cells_cat &lt;chr&gt; | classification &lt;fct&gt; | cell_type &lt;chr&gt; |\n",
       "|---|---|---|---|---|---|---|\n",
       "| 1 | 1.1-L1 | 0_T-cell-CD4 | 398 | &gt; 50 | acs_subacute | T-cell-CD4 |\n",
       "| 2 | 1.1-L1 | 1_T-cell-CD8 | 156 | &gt; 50 | acs_subacute | T-cell-CD8 |\n",
       "\n"
      ],
      "text/plain": [
       "  Sample Cluster_Cell_Type amount_cells amount_cells_cat classification\n",
       "1 1.1-L1 0_T-cell-CD4      398          > 50             acs_subacute  \n",
       "2 1.1-L1 1_T-cell-CD8      156          > 50             acs_subacute  \n",
       "  cell_type \n",
       "1 T-cell-CD4\n",
       "2 T-cell-CD8"
      ]
     },
     "metadata": {},
     "output_type": "display_data"
    }
   ],
   "source": [
    "head(cells_per_sample_cluster,2)"
   ]
  },
  {
   "cell_type": "markdown",
   "id": "80a40ea6-7a0e-4de0-8bee-231b6fd7b627",
   "metadata": {
    "tags": []
   },
   "source": [
    "## Analyze gene expression percentages per cluster"
   ]
  },
  {
   "cell_type": "code",
   "execution_count": 199,
   "id": "6515d89e-856e-45ec-b460-84e136727dfe",
   "metadata": {},
   "outputs": [],
   "source": [
    "gene_list = list()"
   ]
  },
  {
   "cell_type": "code",
   "execution_count": 200,
   "id": "b4576d9f-f2f7-46d2-9a11-06a07cdab4e8",
   "metadata": {},
   "outputs": [],
   "source": [
    "gene_cell_expr = list()"
   ]
  },
  {
   "cell_type": "code",
   "execution_count": 201,
   "id": "862f2232-4fa9-49cb-a60d-56c359073042",
   "metadata": {},
   "outputs": [],
   "source": [
    "clusters = unique(rna_sce$cluster_cell_type_Scanorama)\n",
    "#clusters = unique(rna_sce$cell_type_Scanorama)"
   ]
  },
  {
   "cell_type": "code",
   "execution_count": 202,
   "id": "aba02558-f4c7-4f62-8f1f-c5baea05dbcf",
   "metadata": {},
   "outputs": [
    {
     "data": {
      "text/html": [
       "<style>\n",
       ".list-inline {list-style: none; margin:0; padding: 0}\n",
       ".list-inline>li {display: inline-block}\n",
       ".list-inline>li:not(:last-child)::after {content: \"\\00b7\"; padding: 0 .5ex}\n",
       "</style>\n",
       "<ol class=list-inline><li>8_B-cell</li><li>9_Monocytes - CD16_FCGR3A</li><li>5_T-cell-CD4</li><li>0_T-cell-CD4</li><li>16_Plasma Blast</li><li>1_T-cell-CD8</li><li>6_Monocytes - CD14</li><li>2_T-cell-CD4</li><li>4_Monocytes - CD14</li><li>14_Other</li><li>11_T-cell-CD4</li><li>3_NK</li><li>7_Monocytes - CD14</li><li>13_Dendritic</li><li>10_B-cell</li><li>17_Progenitor</li><li>12_Monocytes - CD16_FCGR3A</li><li>15_Plasma Blast</li><li>18_Megakaryocytes</li></ol>\n",
       "\n",
       "<details>\n",
       "\t<summary style=display:list-item;cursor:pointer>\n",
       "\t\t<strong>Levels</strong>:\n",
       "\t</summary>\n",
       "\t<style>\n",
       "\t.list-inline {list-style: none; margin:0; padding: 0}\n",
       "\t.list-inline>li {display: inline-block}\n",
       "\t.list-inline>li:not(:last-child)::after {content: \"\\00b7\"; padding: 0 .5ex}\n",
       "\t</style>\n",
       "\t<ol class=list-inline><li>'0_T-cell-CD4'</li><li>'1_T-cell-CD8'</li><li>'2_T-cell-CD4'</li><li>'3_NK'</li><li>'4_Monocytes - CD14'</li><li>'5_T-cell-CD4'</li><li>'6_Monocytes - CD14'</li><li>'7_Monocytes - CD14'</li><li>'8_B-cell'</li><li>'9_Monocytes - CD16_FCGR3A'</li><li>'10_B-cell'</li><li>'11_T-cell-CD4'</li><li>'12_Monocytes - CD16_FCGR3A'</li><li>'13_Dendritic'</li><li>'14_Other'</li><li>'15_Plasma Blast'</li><li>'16_Plasma Blast'</li><li>'17_Progenitor'</li><li>'18_Megakaryocytes'</li><li>'missing'</li></ol>\n",
       "</details>"
      ],
      "text/latex": [
       "\\begin{enumerate*}\n",
       "\\item 8\\_B-cell\n",
       "\\item 9\\_Monocytes - CD16\\_FCGR3A\n",
       "\\item 5\\_T-cell-CD4\n",
       "\\item 0\\_T-cell-CD4\n",
       "\\item 16\\_Plasma Blast\n",
       "\\item 1\\_T-cell-CD8\n",
       "\\item 6\\_Monocytes - CD14\n",
       "\\item 2\\_T-cell-CD4\n",
       "\\item 4\\_Monocytes - CD14\n",
       "\\item 14\\_Other\n",
       "\\item 11\\_T-cell-CD4\n",
       "\\item 3\\_NK\n",
       "\\item 7\\_Monocytes - CD14\n",
       "\\item 13\\_Dendritic\n",
       "\\item 10\\_B-cell\n",
       "\\item 17\\_Progenitor\n",
       "\\item 12\\_Monocytes - CD16\\_FCGR3A\n",
       "\\item 15\\_Plasma Blast\n",
       "\\item 18\\_Megakaryocytes\n",
       "\\end{enumerate*}\n",
       "\n",
       "\\emph{Levels}: \\begin{enumerate*}\n",
       "\\item '0\\_T-cell-CD4'\n",
       "\\item '1\\_T-cell-CD8'\n",
       "\\item '2\\_T-cell-CD4'\n",
       "\\item '3\\_NK'\n",
       "\\item '4\\_Monocytes - CD14'\n",
       "\\item '5\\_T-cell-CD4'\n",
       "\\item '6\\_Monocytes - CD14'\n",
       "\\item '7\\_Monocytes - CD14'\n",
       "\\item '8\\_B-cell'\n",
       "\\item '9\\_Monocytes - CD16\\_FCGR3A'\n",
       "\\item '10\\_B-cell'\n",
       "\\item '11\\_T-cell-CD4'\n",
       "\\item '12\\_Monocytes - CD16\\_FCGR3A'\n",
       "\\item '13\\_Dendritic'\n",
       "\\item '14\\_Other'\n",
       "\\item '15\\_Plasma Blast'\n",
       "\\item '16\\_Plasma Blast'\n",
       "\\item '17\\_Progenitor'\n",
       "\\item '18\\_Megakaryocytes'\n",
       "\\item 'missing'\n",
       "\\end{enumerate*}\n"
      ],
      "text/markdown": [
       "1. 8_B-cell\n",
       "2. 9_Monocytes - CD16_FCGR3A\n",
       "3. 5_T-cell-CD4\n",
       "4. 0_T-cell-CD4\n",
       "5. 16_Plasma Blast\n",
       "6. 1_T-cell-CD8\n",
       "7. 6_Monocytes - CD14\n",
       "8. 2_T-cell-CD4\n",
       "9. 4_Monocytes - CD14\n",
       "10. 14_Other\n",
       "11. 11_T-cell-CD4\n",
       "12. 3_NK\n",
       "13. 7_Monocytes - CD14\n",
       "14. 13_Dendritic\n",
       "15. 10_B-cell\n",
       "16. 17_Progenitor\n",
       "17. 12_Monocytes - CD16_FCGR3A\n",
       "18. 15_Plasma Blast\n",
       "19. 18_Megakaryocytes\n",
       "\n",
       "\n",
       "\n",
       "**Levels**: 1. '0_T-cell-CD4'\n",
       "2. '1_T-cell-CD8'\n",
       "3. '2_T-cell-CD4'\n",
       "4. '3_NK'\n",
       "5. '4_Monocytes - CD14'\n",
       "6. '5_T-cell-CD4'\n",
       "7. '6_Monocytes - CD14'\n",
       "8. '7_Monocytes - CD14'\n",
       "9. '8_B-cell'\n",
       "10. '9_Monocytes - CD16_FCGR3A'\n",
       "11. '10_B-cell'\n",
       "12. '11_T-cell-CD4'\n",
       "13. '12_Monocytes - CD16_FCGR3A'\n",
       "14. '13_Dendritic'\n",
       "15. '14_Other'\n",
       "16. '15_Plasma Blast'\n",
       "17. '16_Plasma Blast'\n",
       "18. '17_Progenitor'\n",
       "19. '18_Megakaryocytes'\n",
       "20. 'missing'\n",
       "\n",
       "\n"
      ],
      "text/plain": [
       " [1] 8_B-cell                   9_Monocytes - CD16_FCGR3A \n",
       " [3] 5_T-cell-CD4               0_T-cell-CD4              \n",
       " [5] 16_Plasma Blast            1_T-cell-CD8              \n",
       " [7] 6_Monocytes - CD14         2_T-cell-CD4              \n",
       " [9] 4_Monocytes - CD14         14_Other                  \n",
       "[11] 11_T-cell-CD4              3_NK                      \n",
       "[13] 7_Monocytes - CD14         13_Dendritic              \n",
       "[15] 10_B-cell                  17_Progenitor             \n",
       "[17] 12_Monocytes - CD16_FCGR3A 15_Plasma Blast           \n",
       "[19] 18_Megakaryocytes         \n",
       "20 Levels: 0_T-cell-CD4 1_T-cell-CD8 2_T-cell-CD4 3_NK ... missing"
      ]
     },
     "metadata": {},
     "output_type": "display_data"
    }
   ],
   "source": [
    "clusters"
   ]
  },
  {
   "cell_type": "code",
   "execution_count": 203,
   "id": "059276d0-9a4f-4dda-8fef-a0e2a9945d54",
   "metadata": {},
   "outputs": [],
   "source": [
    " for(i in clusters){\n",
    "#    print(i)\n",
    "    \n",
    "    # subset data on cluster\n",
    "    rna_sce_subset = rna_sce[,rna_sce$cluster_cell_type_Scanorama == i] # cluster\n",
    "    # rna_sce_subset = rna_sce[,rna_sce$cell_type_Scanorama == i]  # cell-type\n",
    "    \n",
    "    amount_cells = dim(rna_sce_subset)[2]\n",
    "    \n",
    "    # Calculate percentage of cells expressing gene\n",
    "    amount_cells_expressing_gene = rowSums(assay(rna_sce_subset) > 0 )\n",
    "    perc_cells_expressing_gene = (amount_cells_expressing_gene/ amount_cells) * 100\n",
    "    \n",
    "#    hist(perc_cells_expressing_gene)\n",
    "    \n",
    "    gene_cell_expr[[i]] = data.frame(perc_cells_expressing_gene = perc_cells_expressing_gene, total_amount_cells_expressing_gene = amount_cells_expressing_gene)\n",
    "    \n",
    "    #gene_list[[i]] = names(perc_cells_expressing_gene[perc_cells_expressing_gene > subset_threshold])\n",
    "    }"
   ]
  },
  {
   "cell_type": "code",
   "execution_count": 204,
   "id": "031e936a-e446-4852-9f58-e3e553060ef0",
   "metadata": {},
   "outputs": [],
   "source": [
    " ### Resulting amount of genes per cluster"
   ]
  },
  {
   "cell_type": "code",
   "execution_count": 205,
   "id": "1a52bd6b-fbc3-40cc-91cd-8ab36f539908",
   "metadata": {},
   "outputs": [],
   "source": [
    "#sort(unlist(lapply(gene_list, function(x){length(x)})))"
   ]
  },
  {
   "cell_type": "code",
   "execution_count": 206,
   "id": "649b9952-8886-4933-8cca-2e606c3784a0",
   "metadata": {},
   "outputs": [],
   "source": [
    "gene_cell_expr_data = data.frame()"
   ]
  },
  {
   "cell_type": "code",
   "execution_count": 207,
   "id": "611f58ca-937e-4484-9288-2f9c5aeea1e9",
   "metadata": {},
   "outputs": [
    {
     "data": {
      "text/html": [
       "<table class=\"dataframe\">\n",
       "<caption>A data.frame: 6 × 2</caption>\n",
       "<thead>\n",
       "\t<tr><th></th><th scope=col>perc_cells_expressing_gene</th><th scope=col>total_amount_cells_expressing_gene</th></tr>\n",
       "\t<tr><th></th><th scope=col>&lt;dbl&gt;</th><th scope=col>&lt;int&gt;</th></tr>\n",
       "</thead>\n",
       "<tbody>\n",
       "\t<tr><th scope=row>AL627309.1</th><td>0.000000</td><td>0</td></tr>\n",
       "\t<tr><th scope=row>AL627309.4</th><td>0.000000</td><td>0</td></tr>\n",
       "\t<tr><th scope=row>AL669831.5</th><td>0.000000</td><td>0</td></tr>\n",
       "\t<tr><th scope=row>FAM87B</th><td>0.000000</td><td>0</td></tr>\n",
       "\t<tr><th scope=row>LINC00115</th><td>0.000000</td><td>0</td></tr>\n",
       "\t<tr><th scope=row>FAM41C</th><td>3.030303</td><td>3</td></tr>\n",
       "</tbody>\n",
       "</table>\n"
      ],
      "text/latex": [
       "A data.frame: 6 × 2\n",
       "\\begin{tabular}{r|ll}\n",
       "  & perc\\_cells\\_expressing\\_gene & total\\_amount\\_cells\\_expressing\\_gene\\\\\n",
       "  & <dbl> & <int>\\\\\n",
       "\\hline\n",
       "\tAL627309.1 & 0.000000 & 0\\\\\n",
       "\tAL627309.4 & 0.000000 & 0\\\\\n",
       "\tAL669831.5 & 0.000000 & 0\\\\\n",
       "\tFAM87B & 0.000000 & 0\\\\\n",
       "\tLINC00115 & 0.000000 & 0\\\\\n",
       "\tFAM41C & 3.030303 & 3\\\\\n",
       "\\end{tabular}\n"
      ],
      "text/markdown": [
       "\n",
       "A data.frame: 6 × 2\n",
       "\n",
       "| <!--/--> | perc_cells_expressing_gene &lt;dbl&gt; | total_amount_cells_expressing_gene &lt;int&gt; |\n",
       "|---|---|---|\n",
       "| AL627309.1 | 0.000000 | 0 |\n",
       "| AL627309.4 | 0.000000 | 0 |\n",
       "| AL669831.5 | 0.000000 | 0 |\n",
       "| FAM87B | 0.000000 | 0 |\n",
       "| LINC00115 | 0.000000 | 0 |\n",
       "| FAM41C | 3.030303 | 3 |\n",
       "\n"
      ],
      "text/plain": [
       "           perc_cells_expressing_gene total_amount_cells_expressing_gene\n",
       "AL627309.1 0.000000                   0                                 \n",
       "AL627309.4 0.000000                   0                                 \n",
       "AL669831.5 0.000000                   0                                 \n",
       "FAM87B     0.000000                   0                                 \n",
       "LINC00115  0.000000                   0                                 \n",
       "FAM41C     3.030303                   3                                 "
      ]
     },
     "metadata": {},
     "output_type": "display_data"
    }
   ],
   "source": [
    " head(gene_cell_expr[[i]])"
   ]
  },
  {
   "cell_type": "code",
   "execution_count": 208,
   "id": "127d49ef-7d83-434d-a2e8-da883fae2ebd",
   "metadata": {},
   "outputs": [
    {
     "data": {
      "text/html": [
       "<style>\n",
       ".list-inline {list-style: none; margin:0; padding: 0}\n",
       ".list-inline>li {display: inline-block}\n",
       ".list-inline>li:not(:last-child)::after {content: \"\\00b7\"; padding: 0 .5ex}\n",
       "</style>\n",
       "<ol class=list-inline><li>'perc_cells_expressing_gene'</li><li>'total_amount_cells_expressing_gene'</li></ol>\n"
      ],
      "text/latex": [
       "\\begin{enumerate*}\n",
       "\\item 'perc\\_cells\\_expressing\\_gene'\n",
       "\\item 'total\\_amount\\_cells\\_expressing\\_gene'\n",
       "\\end{enumerate*}\n"
      ],
      "text/markdown": [
       "1. 'perc_cells_expressing_gene'\n",
       "2. 'total_amount_cells_expressing_gene'\n",
       "\n",
       "\n"
      ],
      "text/plain": [
       "[1] \"perc_cells_expressing_gene\"         \"total_amount_cells_expressing_gene\""
      ]
     },
     "metadata": {},
     "output_type": "display_data"
    }
   ],
   "source": [
    " names(gene_cell_expr[[i]])"
   ]
  },
  {
   "cell_type": "code",
   "execution_count": 209,
   "id": "9ce0c23f-04f5-43fa-92f9-8af7ecd45eff",
   "metadata": {},
   "outputs": [],
   "source": [
    " for(i in names(gene_cell_expr)){\n",
    "    data = gene_cell_expr[[i]]\n",
    "    data$gene = rownames(gene_cell_expr[[i]])\n",
    "    data$cluster = i\n",
    "    gene_cell_expr_data = rbind( gene_cell_expr_data, data)\n",
    "    }"
   ]
  },
  {
   "cell_type": "code",
   "execution_count": 210,
   "id": "2ec33683-894c-4918-ac75-ed1bb50b0e9d",
   "metadata": {},
   "outputs": [
    {
     "data": {
      "text/html": [
       "<table class=\"dataframe\">\n",
       "<caption>A data.frame: 2 × 4</caption>\n",
       "<thead>\n",
       "\t<tr><th></th><th scope=col>perc_cells_expressing_gene</th><th scope=col>total_amount_cells_expressing_gene</th><th scope=col>gene</th><th scope=col>cluster</th></tr>\n",
       "\t<tr><th></th><th scope=col>&lt;dbl&gt;</th><th scope=col>&lt;int&gt;</th><th scope=col>&lt;chr&gt;</th><th scope=col>&lt;chr&gt;</th></tr>\n",
       "</thead>\n",
       "<tbody>\n",
       "\t<tr><th scope=row>AL627309.1</th><td>0.24327612</td><td>18</td><td>AL627309.1</td><td>8_B-cell</td></tr>\n",
       "\t<tr><th scope=row>AL627309.4</th><td>0.05406136</td><td> 4</td><td>AL627309.4</td><td>8_B-cell</td></tr>\n",
       "</tbody>\n",
       "</table>\n"
      ],
      "text/latex": [
       "A data.frame: 2 × 4\n",
       "\\begin{tabular}{r|llll}\n",
       "  & perc\\_cells\\_expressing\\_gene & total\\_amount\\_cells\\_expressing\\_gene & gene & cluster\\\\\n",
       "  & <dbl> & <int> & <chr> & <chr>\\\\\n",
       "\\hline\n",
       "\tAL627309.1 & 0.24327612 & 18 & AL627309.1 & 8\\_B-cell\\\\\n",
       "\tAL627309.4 & 0.05406136 &  4 & AL627309.4 & 8\\_B-cell\\\\\n",
       "\\end{tabular}\n"
      ],
      "text/markdown": [
       "\n",
       "A data.frame: 2 × 4\n",
       "\n",
       "| <!--/--> | perc_cells_expressing_gene &lt;dbl&gt; | total_amount_cells_expressing_gene &lt;int&gt; | gene &lt;chr&gt; | cluster &lt;chr&gt; |\n",
       "|---|---|---|---|---|\n",
       "| AL627309.1 | 0.24327612 | 18 | AL627309.1 | 8_B-cell |\n",
       "| AL627309.4 | 0.05406136 |  4 | AL627309.4 | 8_B-cell |\n",
       "\n"
      ],
      "text/plain": [
       "           perc_cells_expressing_gene total_amount_cells_expressing_gene\n",
       "AL627309.1 0.24327612                 18                                \n",
       "AL627309.4 0.05406136                  4                                \n",
       "           gene       cluster \n",
       "AL627309.1 AL627309.1 8_B-cell\n",
       "AL627309.4 AL627309.4 8_B-cell"
      ]
     },
     "metadata": {},
     "output_type": "display_data"
    }
   ],
   "source": [
    "head(gene_cell_expr_data,2)"
   ]
  },
  {
   "cell_type": "code",
   "execution_count": 211,
   "id": "b0fc92ea-ec58-4e28-a14e-893a55aaf4af",
   "metadata": {},
   "outputs": [],
   "source": [
    "write.csv(gene_cell_expr_data, paste0(result_path, '/C-Analysis/C0_Filter_Genes_Input_Correlations_Perc_Values', '.csv'))"
   ]
  },
  {
   "cell_type": "code",
   "execution_count": 212,
   "id": "38b0f609-ef2d-424e-968c-b2b977e1d31d",
   "metadata": {},
   "outputs": [
    {
     "data": {
      "text/html": [
       "'../results/current/C-Analysis/C0_Filter_Genes_Input_Correlations_Perc_Values.csv'"
      ],
      "text/latex": [
       "'../results/current/C-Analysis/C0\\_Filter\\_Genes\\_Input\\_Correlations\\_Perc\\_Values.csv'"
      ],
      "text/markdown": [
       "'../results/current/C-Analysis/C0_Filter_Genes_Input_Correlations_Perc_Values.csv'"
      ],
      "text/plain": [
       "[1] \"../results/current/C-Analysis/C0_Filter_Genes_Input_Correlations_Perc_Values.csv\""
      ]
     },
     "metadata": {},
     "output_type": "display_data"
    }
   ],
   "source": [
    "paste0(result_path, '/C-Analysis/C0_Filter_Genes_Input_Correlations_Perc_Values', '.csv')"
   ]
  },
  {
   "cell_type": "markdown",
   "id": "7cd53380-6f67-4b2a-803b-3d84c6dd5551",
   "metadata": {
    "tags": []
   },
   "source": [
    "## Add cluster, group and sample columns for aggregation"
   ]
  },
  {
   "cell_type": "code",
   "execution_count": 213,
   "id": "49237c20-76e1-4849-88e6-77bc323ad1be",
   "metadata": {},
   "outputs": [
    {
     "data": {
      "text/plain": [
       "class: SingleCellExperiment \n",
       "dim: 19221 148275 \n",
       "metadata(1): experiment_info\n",
       "assays(2): counts logcounts\n",
       "rownames(19221): AL627309.1 AL627309.4 ... AC004556.1 AC240274.1\n",
       "rowData names(0):\n",
       "colnames(148275): AAACCCACATACAGGG-1-L1 AAACCCACATGACTTG-1-L1 ...\n",
       "  TTTGTTGGTGGACCAA-1-L14 TTTGTTGTCGAAGAAT-1-L14\n",
       "colData names(33): cluster_id sample_id ... library_char ident\n",
       "reducedDimNames(0):\n",
       "mainExpName: RNA\n",
       "altExpNames(0):"
      ]
     },
     "metadata": {},
     "output_type": "display_data"
    }
   ],
   "source": [
    "#### Add cluster_id, sample_id and group_id columns\n",
    "(rna_sce <- prepSCE(rna_sce, \n",
    "    kid = 'cluster_id', # subpopulation assignments\n",
    "    gid = 'group_id',  # group IDs (ctrl/stim)   # sample_id; using dummy sample id which corresponds to cluster columns\n",
    "    sid = 'sample_id',   # sample IDs (ctrl/stim.1234)\n",
    "    drop = FALSE))  # drop all other colData columns"
   ]
  },
  {
   "cell_type": "code",
   "execution_count": 214,
   "id": "c021c773-197f-4aff-a21b-3756e60c9737",
   "metadata": {},
   "outputs": [],
   "source": [
    "nk <- length(kids <- levels(rna_sce$cluster_id))\n",
    "ns <- length(sids <- levels(rna_sce$sample_id))\n",
    "names(kids) <- kids; names(sids) <- sids"
   ]
  },
  {
   "cell_type": "code",
   "execution_count": 215,
   "id": "bed55744-ed88-4f95-8408-05acf67f263d",
   "metadata": {},
   "outputs": [
    {
     "data": {
      "text/html": [
       "19"
      ],
      "text/latex": [
       "19"
      ],
      "text/markdown": [
       "19"
      ],
      "text/plain": [
       "[1] 19"
      ]
     },
     "metadata": {},
     "output_type": "display_data"
    }
   ],
   "source": [
    "nk # amount of cluster"
   ]
  },
  {
   "cell_type": "code",
   "execution_count": 216,
   "id": "82de27b2-7d06-4b60-8922-c50296886d4b",
   "metadata": {},
   "outputs": [
    {
     "data": {
      "text/html": [
       "121"
      ],
      "text/latex": [
       "121"
      ],
      "text/markdown": [
       "121"
      ],
      "text/plain": [
       "[1] 121"
      ]
     },
     "metadata": {},
     "output_type": "display_data"
    }
   ],
   "source": [
    "ns # amount of samples"
   ]
  },
  {
   "cell_type": "code",
   "execution_count": 217,
   "id": "99deb36e-7fe1-482b-926a-c29c350d68bf",
   "metadata": {},
   "outputs": [
    {
     "data": {
      "text/html": [
       "<style>\n",
       ".dl-inline {width: auto; margin:0; padding: 0}\n",
       ".dl-inline>dt, .dl-inline>dd {float: none; width: auto; display: inline-block}\n",
       ".dl-inline>dt::after {content: \":\\0020\"; padding-right: .5ex}\n",
       ".dl-inline>dt:not(:first-of-type) {padding-left: .5ex}\n",
       "</style><dl class=dl-inline><dt>0_T-cell-CD4</dt><dd>'0_T-cell-CD4'</dd><dt>1_T-cell-CD8</dt><dd>'1_T-cell-CD8'</dd><dt>10_B-cell</dt><dd>'10_B-cell'</dd><dt>11_T-cell-CD4</dt><dd>'11_T-cell-CD4'</dd><dt>12_Monocytes - CD16_FCGR3A</dt><dd>'12_Monocytes - CD16_FCGR3A'</dd><dt>13_Dendritic</dt><dd>'13_Dendritic'</dd><dt>14_Other</dt><dd>'14_Other'</dd><dt>15_Plasma Blast</dt><dd>'15_Plasma Blast'</dd><dt>16_Plasma Blast</dt><dd>'16_Plasma Blast'</dd><dt>17_Progenitor</dt><dd>'17_Progenitor'</dd><dt>18_Megakaryocytes</dt><dd>'18_Megakaryocytes'</dd><dt>2_T-cell-CD4</dt><dd>'2_T-cell-CD4'</dd><dt>3_NK</dt><dd>'3_NK'</dd><dt>4_Monocytes - CD14</dt><dd>'4_Monocytes - CD14'</dd><dt>5_T-cell-CD4</dt><dd>'5_T-cell-CD4'</dd><dt>6_Monocytes - CD14</dt><dd>'6_Monocytes - CD14'</dd><dt>7_Monocytes - CD14</dt><dd>'7_Monocytes - CD14'</dd><dt>8_B-cell</dt><dd>'8_B-cell'</dd><dt>9_Monocytes - CD16_FCGR3A</dt><dd>'9_Monocytes - CD16_FCGR3A'</dd></dl>\n"
      ],
      "text/latex": [
       "\\begin{description*}\n",
       "\\item[0\\textbackslash{}\\_T-cell-CD4] '0\\_T-cell-CD4'\n",
       "\\item[1\\textbackslash{}\\_T-cell-CD8] '1\\_T-cell-CD8'\n",
       "\\item[10\\textbackslash{}\\_B-cell] '10\\_B-cell'\n",
       "\\item[11\\textbackslash{}\\_T-cell-CD4] '11\\_T-cell-CD4'\n",
       "\\item[12\\textbackslash{}\\_Monocytes - CD16\\textbackslash{}\\_FCGR3A] '12\\_Monocytes - CD16\\_FCGR3A'\n",
       "\\item[13\\textbackslash{}\\_Dendritic] '13\\_Dendritic'\n",
       "\\item[14\\textbackslash{}\\_Other] '14\\_Other'\n",
       "\\item[15\\textbackslash{}\\_Plasma Blast] '15\\_Plasma Blast'\n",
       "\\item[16\\textbackslash{}\\_Plasma Blast] '16\\_Plasma Blast'\n",
       "\\item[17\\textbackslash{}\\_Progenitor] '17\\_Progenitor'\n",
       "\\item[18\\textbackslash{}\\_Megakaryocytes] '18\\_Megakaryocytes'\n",
       "\\item[2\\textbackslash{}\\_T-cell-CD4] '2\\_T-cell-CD4'\n",
       "\\item[3\\textbackslash{}\\_NK] '3\\_NK'\n",
       "\\item[4\\textbackslash{}\\_Monocytes - CD14] '4\\_Monocytes - CD14'\n",
       "\\item[5\\textbackslash{}\\_T-cell-CD4] '5\\_T-cell-CD4'\n",
       "\\item[6\\textbackslash{}\\_Monocytes - CD14] '6\\_Monocytes - CD14'\n",
       "\\item[7\\textbackslash{}\\_Monocytes - CD14] '7\\_Monocytes - CD14'\n",
       "\\item[8\\textbackslash{}\\_B-cell] '8\\_B-cell'\n",
       "\\item[9\\textbackslash{}\\_Monocytes - CD16\\textbackslash{}\\_FCGR3A] '9\\_Monocytes - CD16\\_FCGR3A'\n",
       "\\end{description*}\n"
      ],
      "text/markdown": [
       "0_T-cell-CD4\n",
       ":   '0_T-cell-CD4'1_T-cell-CD8\n",
       ":   '1_T-cell-CD8'10_B-cell\n",
       ":   '10_B-cell'11_T-cell-CD4\n",
       ":   '11_T-cell-CD4'12_Monocytes - CD16_FCGR3A\n",
       ":   '12_Monocytes - CD16_FCGR3A'13_Dendritic\n",
       ":   '13_Dendritic'14_Other\n",
       ":   '14_Other'15_Plasma Blast\n",
       ":   '15_Plasma Blast'16_Plasma Blast\n",
       ":   '16_Plasma Blast'17_Progenitor\n",
       ":   '17_Progenitor'18_Megakaryocytes\n",
       ":   '18_Megakaryocytes'2_T-cell-CD4\n",
       ":   '2_T-cell-CD4'3_NK\n",
       ":   '3_NK'4_Monocytes - CD14\n",
       ":   '4_Monocytes - CD14'5_T-cell-CD4\n",
       ":   '5_T-cell-CD4'6_Monocytes - CD14\n",
       ":   '6_Monocytes - CD14'7_Monocytes - CD14\n",
       ":   '7_Monocytes - CD14'8_B-cell\n",
       ":   '8_B-cell'9_Monocytes - CD16_FCGR3A\n",
       ":   '9_Monocytes - CD16_FCGR3A'\n",
       "\n"
      ],
      "text/plain": [
       "                0_T-cell-CD4                 1_T-cell-CD8 \n",
       "              \"0_T-cell-CD4\"               \"1_T-cell-CD8\" \n",
       "                   10_B-cell                11_T-cell-CD4 \n",
       "                 \"10_B-cell\"              \"11_T-cell-CD4\" \n",
       "  12_Monocytes - CD16_FCGR3A                 13_Dendritic \n",
       "\"12_Monocytes - CD16_FCGR3A\"               \"13_Dendritic\" \n",
       "                    14_Other              15_Plasma Blast \n",
       "                  \"14_Other\"            \"15_Plasma Blast\" \n",
       "             16_Plasma Blast                17_Progenitor \n",
       "           \"16_Plasma Blast\"              \"17_Progenitor\" \n",
       "           18_Megakaryocytes                 2_T-cell-CD4 \n",
       "         \"18_Megakaryocytes\"               \"2_T-cell-CD4\" \n",
       "                        3_NK           4_Monocytes - CD14 \n",
       "                      \"3_NK\"         \"4_Monocytes - CD14\" \n",
       "                5_T-cell-CD4           6_Monocytes - CD14 \n",
       "              \"5_T-cell-CD4\"         \"6_Monocytes - CD14\" \n",
       "          7_Monocytes - CD14                     8_B-cell \n",
       "        \"7_Monocytes - CD14\"                   \"8_B-cell\" \n",
       "   9_Monocytes - CD16_FCGR3A \n",
       " \"9_Monocytes - CD16_FCGR3A\" "
      ]
     },
     "metadata": {},
     "output_type": "display_data"
    }
   ],
   "source": [
    "kids  # cluster ids"
   ]
  },
  {
   "cell_type": "code",
   "execution_count": 218,
   "id": "c5e55ba4-9f1e-40f9-aec0-49dcb4ceb641",
   "metadata": {},
   "outputs": [
    {
     "data": {
      "text/html": [
       "19"
      ],
      "text/latex": [
       "19"
      ],
      "text/markdown": [
       "19"
      ],
      "text/plain": [
       "[1] 19"
      ]
     },
     "metadata": {},
     "output_type": "display_data"
    }
   ],
   "source": [
    "length(kids) # amount cluster-id"
   ]
  },
  {
   "cell_type": "code",
   "execution_count": 219,
   "id": "748b8361-af7e-44a6-940b-2493a19f151a",
   "metadata": {},
   "outputs": [
    {
     "data": {
      "text/html": [
       "<style>\n",
       ".dl-inline {width: auto; margin:0; padding: 0}\n",
       ".dl-inline>dt, .dl-inline>dd {float: none; width: auto; display: inline-block}\n",
       ".dl-inline>dt::after {content: \":\\0020\"; padding-right: .5ex}\n",
       ".dl-inline>dt:not(:first-of-type) {padding-left: .5ex}\n",
       "</style><dl class=dl-inline><dt>1.1-L1</dt><dd>'1.1-L1'</dd><dt>10-L11</dt><dd>'10-L11'</dd><dt>10.2-L4</dt><dd>'10.2-L4'</dd><dt>10.3-L9</dt><dd>'10.3-L9'</dd><dt>11-L13</dt><dd>'11-L13'</dd><dt>11.2-L5</dt><dd>'11.2-L5'</dd><dt>11.3-L7</dt><dd>'11.3-L7'</dd><dt>11.4-L10</dt><dd>'11.4-L10'</dd><dt>12-L13</dt><dd>'12-L13'</dd><dt>12.1-L2</dt><dd>'12.1-L2'</dd><dt>12.2-L5</dt><dd>'12.2-L5'</dd><dt>13-L13</dt><dd>'13-L13'</dd><dt>13.1-L2</dt><dd>'13.1-L2'</dd><dt>13.2-L5</dt><dd>'13.2-L5'</dd><dt>13.2-L6</dt><dd>'13.2-L6'</dd><dt>13.3-L8</dt><dd>'13.3-L8'</dd><dt>13.4-L10</dt><dd>'13.4-L10'</dd><dt>14-L11</dt><dd>'14-L11'</dd><dt>14.1-L2</dt><dd>'14.1-L2'</dd><dt>14.2-L5</dt><dd>'14.2-L5'</dd><dt>15-L11</dt><dd>'15-L11'</dd><dt>15.1-L2</dt><dd>'15.1-L2'</dd><dt>15.2-L5</dt><dd>'15.2-L5'</dd><dt>15.3-L8</dt><dd>'15.3-L8'</dd><dt>15.4-L10</dt><dd>'15.4-L10'</dd><dt>16-L11</dt><dd>'16-L11'</dd><dt>16.1-L2</dt><dd>'16.1-L2'</dd><dt>16.2-L5</dt><dd>'16.2-L5'</dd><dt>17-L12</dt><dd>'17-L12'</dd><dt>17.1-L2</dt><dd>'17.1-L2'</dd><dt>18-L13</dt><dd>'18-L13'</dd><dt>18.1-L2</dt><dd>'18.1-L2'</dd><dt>18.2-L5</dt><dd>'18.2-L5'</dd><dt>18.3-L8</dt><dd>'18.3-L8'</dd><dt>19-L12</dt><dd>'19-L12'</dd><dt>19.1-L2</dt><dd>'19.1-L2'</dd><dt>19.2-L5</dt><dd>'19.2-L5'</dd><dt>19.3-L8</dt><dd>'19.3-L8'</dd><dt>2-L11</dt><dd>'2-L11'</dd><dt>2.1-L1</dt><dd>'2.1-L1'</dd><dt>2.2-L4</dt><dd>'2.2-L4'</dd><dt>2.3-L7</dt><dd>'2.3-L7'</dd><dt>2.4-L10</dt><dd>'2.4-L10'</dd><dt>20-L13</dt><dd>'20-L13'</dd><dt>20.3-L8</dt><dd>'20.3-L8'</dd><dt>20.4-L14</dt><dd>'20.4-L14'</dd><dt>21-L11</dt><dd>'21-L11'</dd><dt>21.1-L3</dt><dd>'21.1-L3'</dd><dt>21.2-L6</dt><dd>'21.2-L6'</dd><dt>21.3-L8</dt><dd>'21.3-L8'</dd><dt>21.4-L14</dt><dd>'21.4-L14'</dd><dt>22-L12</dt><dd>'22-L12'</dd><dt>22.1-L3</dt><dd>'22.1-L3'</dd><dt>22.2-L6</dt><dd>'22.2-L6'</dd><dt>22.3-L8</dt><dd>'22.3-L8'</dd><dt>22.4-L14</dt><dd>'22.4-L14'</dd><dt>23-L12</dt><dd>'23-L12'</dd><dt>23.1-L3</dt><dd>'23.1-L3'</dd><dt>23.2-L6</dt><dd>'23.2-L6'</dd><dt>23.3-L8</dt><dd>'23.3-L8'</dd><dt>23.4-L14</dt><dd>'23.4-L14'</dd><dt>24-L12</dt><dd>'24-L12'</dd><dt>24.2-L6</dt><dd>'24.2-L6'</dd><dt>24.3-L8</dt><dd>'24.3-L8'</dd><dt>24.4-L14</dt><dd>'24.4-L14'</dd><dt>25-L12</dt><dd>'25-L12'</dd><dt>25.1-L3</dt><dd>'25.1-L3'</dd><dt>25.2-L6</dt><dd>'25.2-L6'</dd><dt>25.3-L8</dt><dd>'25.3-L8'</dd><dt>26-L9</dt><dd>'26-L9'</dd><dt>26.1-L3</dt><dd>'26.1-L3'</dd><dt>26.2-L6</dt><dd>'26.2-L6'</dd><dt>26.3-L9</dt><dd>'26.3-L9'</dd><dt>26.4-L14</dt><dd>'26.4-L14'</dd><dt>27-L12</dt><dd>'27-L12'</dd><dt>27.1-L3</dt><dd>'27.1-L3'</dd><dt>27.2-L6</dt><dd>'27.2-L6'</dd><dt>27.3-L9</dt><dd>'27.3-L9'</dd><dt>28-L9</dt><dd>'28-L9'</dd><dt>28.2-L6</dt><dd>'28.2-L6'</dd><dt>28.3-L9</dt><dd>'28.3-L9'</dd><dt>28.4-L14</dt><dd>'28.4-L14'</dd><dt>29-L12</dt><dd>'29-L12'</dd><dt>3-L13</dt><dd>'3-L13'</dd><dt>3.2-L4</dt><dd>'3.2-L4'</dd><dt>3.3-L7</dt><dd>'3.3-L7'</dd><dt>3.4-L10</dt><dd>'3.4-L10'</dd><dt>30-L12</dt><dd>'30-L12'</dd><dt>31-L13</dt><dd>'31-L13'</dd><dt>32-L12</dt><dd>'32-L12'</dd><dt>33-L9</dt><dd>'33-L9'</dd><dt>34-L9</dt><dd>'34-L9'</dd><dt>4-L11</dt><dd>'4-L11'</dd><dt>4.1-L1</dt><dd>'4.1-L1'</dd><dt>4.2-L4</dt><dd>'4.2-L4'</dd><dt>4.3-L7</dt><dd>'4.3-L7'</dd><dt>4.4-L14</dt><dd>'4.4-L14'</dd><dt>5-L11</dt><dd>'5-L11'</dd><dt>5.1-L1</dt><dd>'5.1-L1'</dd><dt>5.3-L7</dt><dd>'5.3-L7'</dd><dt>5.4-L10</dt><dd>'5.4-L10'</dd><dt>6-L13</dt><dd>'6-L13'</dd><dt>6.1-L3</dt><dd>'6.1-L3'</dd><dt>6.2-L4</dt><dd>'6.2-L4'</dd><dt>6.3-L7</dt><dd>'6.3-L7'</dd><dt>6.4-L10</dt><dd>'6.4-L10'</dd><dt>6.4-L14</dt><dd>'6.4-L14'</dd><dt>7-L11</dt><dd>'7-L11'</dd><dt>7.1-L1</dt><dd>'7.1-L1'</dd><dt>7.2-L5</dt><dd>'7.2-L5'</dd><dt>7.3-L7</dt><dd>'7.3-L7'</dd><dt>7.4-L10</dt><dd>'7.4-L10'</dd><dt>8-L11</dt><dd>'8-L11'</dd><dt>8.1-L1</dt><dd>'8.1-L1'</dd><dt>8.2-L4</dt><dd>'8.2-L4'</dd><dt>8.3-L7</dt><dd>'8.3-L7'</dd><dt>8.4-L10</dt><dd>'8.4-L10'</dd><dt>9-L13</dt><dd>'9-L13'</dd><dt>9.1-L1</dt><dd>'9.1-L1'</dd><dt>9.2-L4</dt><dd>'9.2-L4'</dd><dt>9.3-L7</dt><dd>'9.3-L7'</dd></dl>\n"
      ],
      "text/latex": [
       "\\begin{description*}\n",
       "\\item[1.1-L1] '1.1-L1'\n",
       "\\item[10-L11] '10-L11'\n",
       "\\item[10.2-L4] '10.2-L4'\n",
       "\\item[10.3-L9] '10.3-L9'\n",
       "\\item[11-L13] '11-L13'\n",
       "\\item[11.2-L5] '11.2-L5'\n",
       "\\item[11.3-L7] '11.3-L7'\n",
       "\\item[11.4-L10] '11.4-L10'\n",
       "\\item[12-L13] '12-L13'\n",
       "\\item[12.1-L2] '12.1-L2'\n",
       "\\item[12.2-L5] '12.2-L5'\n",
       "\\item[13-L13] '13-L13'\n",
       "\\item[13.1-L2] '13.1-L2'\n",
       "\\item[13.2-L5] '13.2-L5'\n",
       "\\item[13.2-L6] '13.2-L6'\n",
       "\\item[13.3-L8] '13.3-L8'\n",
       "\\item[13.4-L10] '13.4-L10'\n",
       "\\item[14-L11] '14-L11'\n",
       "\\item[14.1-L2] '14.1-L2'\n",
       "\\item[14.2-L5] '14.2-L5'\n",
       "\\item[15-L11] '15-L11'\n",
       "\\item[15.1-L2] '15.1-L2'\n",
       "\\item[15.2-L5] '15.2-L5'\n",
       "\\item[15.3-L8] '15.3-L8'\n",
       "\\item[15.4-L10] '15.4-L10'\n",
       "\\item[16-L11] '16-L11'\n",
       "\\item[16.1-L2] '16.1-L2'\n",
       "\\item[16.2-L5] '16.2-L5'\n",
       "\\item[17-L12] '17-L12'\n",
       "\\item[17.1-L2] '17.1-L2'\n",
       "\\item[18-L13] '18-L13'\n",
       "\\item[18.1-L2] '18.1-L2'\n",
       "\\item[18.2-L5] '18.2-L5'\n",
       "\\item[18.3-L8] '18.3-L8'\n",
       "\\item[19-L12] '19-L12'\n",
       "\\item[19.1-L2] '19.1-L2'\n",
       "\\item[19.2-L5] '19.2-L5'\n",
       "\\item[19.3-L8] '19.3-L8'\n",
       "\\item[2-L11] '2-L11'\n",
       "\\item[2.1-L1] '2.1-L1'\n",
       "\\item[2.2-L4] '2.2-L4'\n",
       "\\item[2.3-L7] '2.3-L7'\n",
       "\\item[2.4-L10] '2.4-L10'\n",
       "\\item[20-L13] '20-L13'\n",
       "\\item[20.3-L8] '20.3-L8'\n",
       "\\item[20.4-L14] '20.4-L14'\n",
       "\\item[21-L11] '21-L11'\n",
       "\\item[21.1-L3] '21.1-L3'\n",
       "\\item[21.2-L6] '21.2-L6'\n",
       "\\item[21.3-L8] '21.3-L8'\n",
       "\\item[21.4-L14] '21.4-L14'\n",
       "\\item[22-L12] '22-L12'\n",
       "\\item[22.1-L3] '22.1-L3'\n",
       "\\item[22.2-L6] '22.2-L6'\n",
       "\\item[22.3-L8] '22.3-L8'\n",
       "\\item[22.4-L14] '22.4-L14'\n",
       "\\item[23-L12] '23-L12'\n",
       "\\item[23.1-L3] '23.1-L3'\n",
       "\\item[23.2-L6] '23.2-L6'\n",
       "\\item[23.3-L8] '23.3-L8'\n",
       "\\item[23.4-L14] '23.4-L14'\n",
       "\\item[24-L12] '24-L12'\n",
       "\\item[24.2-L6] '24.2-L6'\n",
       "\\item[24.3-L8] '24.3-L8'\n",
       "\\item[24.4-L14] '24.4-L14'\n",
       "\\item[25-L12] '25-L12'\n",
       "\\item[25.1-L3] '25.1-L3'\n",
       "\\item[25.2-L6] '25.2-L6'\n",
       "\\item[25.3-L8] '25.3-L8'\n",
       "\\item[26-L9] '26-L9'\n",
       "\\item[26.1-L3] '26.1-L3'\n",
       "\\item[26.2-L6] '26.2-L6'\n",
       "\\item[26.3-L9] '26.3-L9'\n",
       "\\item[26.4-L14] '26.4-L14'\n",
       "\\item[27-L12] '27-L12'\n",
       "\\item[27.1-L3] '27.1-L3'\n",
       "\\item[27.2-L6] '27.2-L6'\n",
       "\\item[27.3-L9] '27.3-L9'\n",
       "\\item[28-L9] '28-L9'\n",
       "\\item[28.2-L6] '28.2-L6'\n",
       "\\item[28.3-L9] '28.3-L9'\n",
       "\\item[28.4-L14] '28.4-L14'\n",
       "\\item[29-L12] '29-L12'\n",
       "\\item[3-L13] '3-L13'\n",
       "\\item[3.2-L4] '3.2-L4'\n",
       "\\item[3.3-L7] '3.3-L7'\n",
       "\\item[3.4-L10] '3.4-L10'\n",
       "\\item[30-L12] '30-L12'\n",
       "\\item[31-L13] '31-L13'\n",
       "\\item[32-L12] '32-L12'\n",
       "\\item[33-L9] '33-L9'\n",
       "\\item[34-L9] '34-L9'\n",
       "\\item[4-L11] '4-L11'\n",
       "\\item[4.1-L1] '4.1-L1'\n",
       "\\item[4.2-L4] '4.2-L4'\n",
       "\\item[4.3-L7] '4.3-L7'\n",
       "\\item[4.4-L14] '4.4-L14'\n",
       "\\item[5-L11] '5-L11'\n",
       "\\item[5.1-L1] '5.1-L1'\n",
       "\\item[5.3-L7] '5.3-L7'\n",
       "\\item[5.4-L10] '5.4-L10'\n",
       "\\item[6-L13] '6-L13'\n",
       "\\item[6.1-L3] '6.1-L3'\n",
       "\\item[6.2-L4] '6.2-L4'\n",
       "\\item[6.3-L7] '6.3-L7'\n",
       "\\item[6.4-L10] '6.4-L10'\n",
       "\\item[6.4-L14] '6.4-L14'\n",
       "\\item[7-L11] '7-L11'\n",
       "\\item[7.1-L1] '7.1-L1'\n",
       "\\item[7.2-L5] '7.2-L5'\n",
       "\\item[7.3-L7] '7.3-L7'\n",
       "\\item[7.4-L10] '7.4-L10'\n",
       "\\item[8-L11] '8-L11'\n",
       "\\item[8.1-L1] '8.1-L1'\n",
       "\\item[8.2-L4] '8.2-L4'\n",
       "\\item[8.3-L7] '8.3-L7'\n",
       "\\item[8.4-L10] '8.4-L10'\n",
       "\\item[9-L13] '9-L13'\n",
       "\\item[9.1-L1] '9.1-L1'\n",
       "\\item[9.2-L4] '9.2-L4'\n",
       "\\item[9.3-L7] '9.3-L7'\n",
       "\\end{description*}\n"
      ],
      "text/markdown": [
       "1.1-L1\n",
       ":   '1.1-L1'10-L11\n",
       ":   '10-L11'10.2-L4\n",
       ":   '10.2-L4'10.3-L9\n",
       ":   '10.3-L9'11-L13\n",
       ":   '11-L13'11.2-L5\n",
       ":   '11.2-L5'11.3-L7\n",
       ":   '11.3-L7'11.4-L10\n",
       ":   '11.4-L10'12-L13\n",
       ":   '12-L13'12.1-L2\n",
       ":   '12.1-L2'12.2-L5\n",
       ":   '12.2-L5'13-L13\n",
       ":   '13-L13'13.1-L2\n",
       ":   '13.1-L2'13.2-L5\n",
       ":   '13.2-L5'13.2-L6\n",
       ":   '13.2-L6'13.3-L8\n",
       ":   '13.3-L8'13.4-L10\n",
       ":   '13.4-L10'14-L11\n",
       ":   '14-L11'14.1-L2\n",
       ":   '14.1-L2'14.2-L5\n",
       ":   '14.2-L5'15-L11\n",
       ":   '15-L11'15.1-L2\n",
       ":   '15.1-L2'15.2-L5\n",
       ":   '15.2-L5'15.3-L8\n",
       ":   '15.3-L8'15.4-L10\n",
       ":   '15.4-L10'16-L11\n",
       ":   '16-L11'16.1-L2\n",
       ":   '16.1-L2'16.2-L5\n",
       ":   '16.2-L5'17-L12\n",
       ":   '17-L12'17.1-L2\n",
       ":   '17.1-L2'18-L13\n",
       ":   '18-L13'18.1-L2\n",
       ":   '18.1-L2'18.2-L5\n",
       ":   '18.2-L5'18.3-L8\n",
       ":   '18.3-L8'19-L12\n",
       ":   '19-L12'19.1-L2\n",
       ":   '19.1-L2'19.2-L5\n",
       ":   '19.2-L5'19.3-L8\n",
       ":   '19.3-L8'2-L11\n",
       ":   '2-L11'2.1-L1\n",
       ":   '2.1-L1'2.2-L4\n",
       ":   '2.2-L4'2.3-L7\n",
       ":   '2.3-L7'2.4-L10\n",
       ":   '2.4-L10'20-L13\n",
       ":   '20-L13'20.3-L8\n",
       ":   '20.3-L8'20.4-L14\n",
       ":   '20.4-L14'21-L11\n",
       ":   '21-L11'21.1-L3\n",
       ":   '21.1-L3'21.2-L6\n",
       ":   '21.2-L6'21.3-L8\n",
       ":   '21.3-L8'21.4-L14\n",
       ":   '21.4-L14'22-L12\n",
       ":   '22-L12'22.1-L3\n",
       ":   '22.1-L3'22.2-L6\n",
       ":   '22.2-L6'22.3-L8\n",
       ":   '22.3-L8'22.4-L14\n",
       ":   '22.4-L14'23-L12\n",
       ":   '23-L12'23.1-L3\n",
       ":   '23.1-L3'23.2-L6\n",
       ":   '23.2-L6'23.3-L8\n",
       ":   '23.3-L8'23.4-L14\n",
       ":   '23.4-L14'24-L12\n",
       ":   '24-L12'24.2-L6\n",
       ":   '24.2-L6'24.3-L8\n",
       ":   '24.3-L8'24.4-L14\n",
       ":   '24.4-L14'25-L12\n",
       ":   '25-L12'25.1-L3\n",
       ":   '25.1-L3'25.2-L6\n",
       ":   '25.2-L6'25.3-L8\n",
       ":   '25.3-L8'26-L9\n",
       ":   '26-L9'26.1-L3\n",
       ":   '26.1-L3'26.2-L6\n",
       ":   '26.2-L6'26.3-L9\n",
       ":   '26.3-L9'26.4-L14\n",
       ":   '26.4-L14'27-L12\n",
       ":   '27-L12'27.1-L3\n",
       ":   '27.1-L3'27.2-L6\n",
       ":   '27.2-L6'27.3-L9\n",
       ":   '27.3-L9'28-L9\n",
       ":   '28-L9'28.2-L6\n",
       ":   '28.2-L6'28.3-L9\n",
       ":   '28.3-L9'28.4-L14\n",
       ":   '28.4-L14'29-L12\n",
       ":   '29-L12'3-L13\n",
       ":   '3-L13'3.2-L4\n",
       ":   '3.2-L4'3.3-L7\n",
       ":   '3.3-L7'3.4-L10\n",
       ":   '3.4-L10'30-L12\n",
       ":   '30-L12'31-L13\n",
       ":   '31-L13'32-L12\n",
       ":   '32-L12'33-L9\n",
       ":   '33-L9'34-L9\n",
       ":   '34-L9'4-L11\n",
       ":   '4-L11'4.1-L1\n",
       ":   '4.1-L1'4.2-L4\n",
       ":   '4.2-L4'4.3-L7\n",
       ":   '4.3-L7'4.4-L14\n",
       ":   '4.4-L14'5-L11\n",
       ":   '5-L11'5.1-L1\n",
       ":   '5.1-L1'5.3-L7\n",
       ":   '5.3-L7'5.4-L10\n",
       ":   '5.4-L10'6-L13\n",
       ":   '6-L13'6.1-L3\n",
       ":   '6.1-L3'6.2-L4\n",
       ":   '6.2-L4'6.3-L7\n",
       ":   '6.3-L7'6.4-L10\n",
       ":   '6.4-L10'6.4-L14\n",
       ":   '6.4-L14'7-L11\n",
       ":   '7-L11'7.1-L1\n",
       ":   '7.1-L1'7.2-L5\n",
       ":   '7.2-L5'7.3-L7\n",
       ":   '7.3-L7'7.4-L10\n",
       ":   '7.4-L10'8-L11\n",
       ":   '8-L11'8.1-L1\n",
       ":   '8.1-L1'8.2-L4\n",
       ":   '8.2-L4'8.3-L7\n",
       ":   '8.3-L7'8.4-L10\n",
       ":   '8.4-L10'9-L13\n",
       ":   '9-L13'9.1-L1\n",
       ":   '9.1-L1'9.2-L4\n",
       ":   '9.2-L4'9.3-L7\n",
       ":   '9.3-L7'\n",
       "\n"
      ],
      "text/plain": [
       "    1.1-L1     10-L11    10.2-L4    10.3-L9     11-L13    11.2-L5    11.3-L7 \n",
       "  \"1.1-L1\"   \"10-L11\"  \"10.2-L4\"  \"10.3-L9\"   \"11-L13\"  \"11.2-L5\"  \"11.3-L7\" \n",
       "  11.4-L10     12-L13    12.1-L2    12.2-L5     13-L13    13.1-L2    13.2-L5 \n",
       "\"11.4-L10\"   \"12-L13\"  \"12.1-L2\"  \"12.2-L5\"   \"13-L13\"  \"13.1-L2\"  \"13.2-L5\" \n",
       "   13.2-L6    13.3-L8   13.4-L10     14-L11    14.1-L2    14.2-L5     15-L11 \n",
       " \"13.2-L6\"  \"13.3-L8\" \"13.4-L10\"   \"14-L11\"  \"14.1-L2\"  \"14.2-L5\"   \"15-L11\" \n",
       "   15.1-L2    15.2-L5    15.3-L8   15.4-L10     16-L11    16.1-L2    16.2-L5 \n",
       " \"15.1-L2\"  \"15.2-L5\"  \"15.3-L8\" \"15.4-L10\"   \"16-L11\"  \"16.1-L2\"  \"16.2-L5\" \n",
       "    17-L12    17.1-L2     18-L13    18.1-L2    18.2-L5    18.3-L8     19-L12 \n",
       "  \"17-L12\"  \"17.1-L2\"   \"18-L13\"  \"18.1-L2\"  \"18.2-L5\"  \"18.3-L8\"   \"19-L12\" \n",
       "   19.1-L2    19.2-L5    19.3-L8      2-L11     2.1-L1     2.2-L4     2.3-L7 \n",
       " \"19.1-L2\"  \"19.2-L5\"  \"19.3-L8\"    \"2-L11\"   \"2.1-L1\"   \"2.2-L4\"   \"2.3-L7\" \n",
       "   2.4-L10     20-L13    20.3-L8   20.4-L14     21-L11    21.1-L3    21.2-L6 \n",
       " \"2.4-L10\"   \"20-L13\"  \"20.3-L8\" \"20.4-L14\"   \"21-L11\"  \"21.1-L3\"  \"21.2-L6\" \n",
       "   21.3-L8   21.4-L14     22-L12    22.1-L3    22.2-L6    22.3-L8   22.4-L14 \n",
       " \"21.3-L8\" \"21.4-L14\"   \"22-L12\"  \"22.1-L3\"  \"22.2-L6\"  \"22.3-L8\" \"22.4-L14\" \n",
       "    23-L12    23.1-L3    23.2-L6    23.3-L8   23.4-L14     24-L12    24.2-L6 \n",
       "  \"23-L12\"  \"23.1-L3\"  \"23.2-L6\"  \"23.3-L8\" \"23.4-L14\"   \"24-L12\"  \"24.2-L6\" \n",
       "   24.3-L8   24.4-L14     25-L12    25.1-L3    25.2-L6    25.3-L8      26-L9 \n",
       " \"24.3-L8\" \"24.4-L14\"   \"25-L12\"  \"25.1-L3\"  \"25.2-L6\"  \"25.3-L8\"    \"26-L9\" \n",
       "   26.1-L3    26.2-L6    26.3-L9   26.4-L14     27-L12    27.1-L3    27.2-L6 \n",
       " \"26.1-L3\"  \"26.2-L6\"  \"26.3-L9\" \"26.4-L14\"   \"27-L12\"  \"27.1-L3\"  \"27.2-L6\" \n",
       "   27.3-L9      28-L9    28.2-L6    28.3-L9   28.4-L14     29-L12      3-L13 \n",
       " \"27.3-L9\"    \"28-L9\"  \"28.2-L6\"  \"28.3-L9\" \"28.4-L14\"   \"29-L12\"    \"3-L13\" \n",
       "    3.2-L4     3.3-L7    3.4-L10     30-L12     31-L13     32-L12      33-L9 \n",
       "  \"3.2-L4\"   \"3.3-L7\"  \"3.4-L10\"   \"30-L12\"   \"31-L13\"   \"32-L12\"    \"33-L9\" \n",
       "     34-L9      4-L11     4.1-L1     4.2-L4     4.3-L7    4.4-L14      5-L11 \n",
       "   \"34-L9\"    \"4-L11\"   \"4.1-L1\"   \"4.2-L4\"   \"4.3-L7\"  \"4.4-L14\"    \"5-L11\" \n",
       "    5.1-L1     5.3-L7    5.4-L10      6-L13     6.1-L3     6.2-L4     6.3-L7 \n",
       "  \"5.1-L1\"   \"5.3-L7\"  \"5.4-L10\"    \"6-L13\"   \"6.1-L3\"   \"6.2-L4\"   \"6.3-L7\" \n",
       "   6.4-L10    6.4-L14      7-L11     7.1-L1     7.2-L5     7.3-L7    7.4-L10 \n",
       " \"6.4-L10\"  \"6.4-L14\"    \"7-L11\"   \"7.1-L1\"   \"7.2-L5\"   \"7.3-L7\"  \"7.4-L10\" \n",
       "     8-L11     8.1-L1     8.2-L4     8.3-L7    8.4-L10      9-L13     9.1-L1 \n",
       "   \"8-L11\"   \"8.1-L1\"   \"8.2-L4\"   \"8.3-L7\"  \"8.4-L10\"    \"9-L13\"   \"9.1-L1\" \n",
       "    9.2-L4     9.3-L7 \n",
       "  \"9.2-L4\"   \"9.3-L7\" "
      ]
     },
     "metadata": {},
     "output_type": "display_data"
    }
   ],
   "source": [
    "sids   # sample ids"
   ]
  },
  {
   "cell_type": "code",
   "execution_count": 220,
   "id": "4387b36e-999b-433b-bd07-7cb2111ff2eb",
   "metadata": {},
   "outputs": [
    {
     "data": {
      "text/html": [
       "<style>\n",
       ".list-inline {list-style: none; margin:0; padding: 0}\n",
       ".list-inline>li {display: inline-block}\n",
       ".list-inline>li:not(:last-child)::after {content: \"\\00b7\"; padding: 0 .5ex}\n",
       "</style>\n",
       "<ol class=list-inline><li>'cluster_id'</li><li>'sample_id'</li><li>'group_id'</li><li>'nCount_HTO'</li><li>'B2_Scanorama_Singlet_cluster'</li><li>'B2_Scanorama_Singlet_rb_mt_cluster'</li><li>'cell_type_Scanorama'</li><li>'cluster_cell_type_Scanorama'</li><li>'classification_measurement'</li><li>'delta_ef_value_group_measurement'</li><li>'m_y'</li><li>'measurement_y'</li><li>'delta_ef_value_group'</li><li>'delta_ef_value'</li><li>'sample_y'</li><li>'age'</li><li>'sex'</li><li>'m_x'</li><li>'classification'</li><li>'group_y'</li><li>'measurement_x'</li><li>'sample_x'</li><li>'library'</li><li>'id'</li><li>'read'</li><li>'pattern'</li><li>'sequence'</li><li>'feature_type'</li><li>'in_sample'</li><li>'display_name'</li><li>'group_x'</li><li>'library_char'</li><li>'ident'</li></ol>\n"
      ],
      "text/latex": [
       "\\begin{enumerate*}\n",
       "\\item 'cluster\\_id'\n",
       "\\item 'sample\\_id'\n",
       "\\item 'group\\_id'\n",
       "\\item 'nCount\\_HTO'\n",
       "\\item 'B2\\_Scanorama\\_Singlet\\_cluster'\n",
       "\\item 'B2\\_Scanorama\\_Singlet\\_rb\\_mt\\_cluster'\n",
       "\\item 'cell\\_type\\_Scanorama'\n",
       "\\item 'cluster\\_cell\\_type\\_Scanorama'\n",
       "\\item 'classification\\_measurement'\n",
       "\\item 'delta\\_ef\\_value\\_group\\_measurement'\n",
       "\\item 'm\\_y'\n",
       "\\item 'measurement\\_y'\n",
       "\\item 'delta\\_ef\\_value\\_group'\n",
       "\\item 'delta\\_ef\\_value'\n",
       "\\item 'sample\\_y'\n",
       "\\item 'age'\n",
       "\\item 'sex'\n",
       "\\item 'm\\_x'\n",
       "\\item 'classification'\n",
       "\\item 'group\\_y'\n",
       "\\item 'measurement\\_x'\n",
       "\\item 'sample\\_x'\n",
       "\\item 'library'\n",
       "\\item 'id'\n",
       "\\item 'read'\n",
       "\\item 'pattern'\n",
       "\\item 'sequence'\n",
       "\\item 'feature\\_type'\n",
       "\\item 'in\\_sample'\n",
       "\\item 'display\\_name'\n",
       "\\item 'group\\_x'\n",
       "\\item 'library\\_char'\n",
       "\\item 'ident'\n",
       "\\end{enumerate*}\n"
      ],
      "text/markdown": [
       "1. 'cluster_id'\n",
       "2. 'sample_id'\n",
       "3. 'group_id'\n",
       "4. 'nCount_HTO'\n",
       "5. 'B2_Scanorama_Singlet_cluster'\n",
       "6. 'B2_Scanorama_Singlet_rb_mt_cluster'\n",
       "7. 'cell_type_Scanorama'\n",
       "8. 'cluster_cell_type_Scanorama'\n",
       "9. 'classification_measurement'\n",
       "10. 'delta_ef_value_group_measurement'\n",
       "11. 'm_y'\n",
       "12. 'measurement_y'\n",
       "13. 'delta_ef_value_group'\n",
       "14. 'delta_ef_value'\n",
       "15. 'sample_y'\n",
       "16. 'age'\n",
       "17. 'sex'\n",
       "18. 'm_x'\n",
       "19. 'classification'\n",
       "20. 'group_y'\n",
       "21. 'measurement_x'\n",
       "22. 'sample_x'\n",
       "23. 'library'\n",
       "24. 'id'\n",
       "25. 'read'\n",
       "26. 'pattern'\n",
       "27. 'sequence'\n",
       "28. 'feature_type'\n",
       "29. 'in_sample'\n",
       "30. 'display_name'\n",
       "31. 'group_x'\n",
       "32. 'library_char'\n",
       "33. 'ident'\n",
       "\n",
       "\n"
      ],
      "text/plain": [
       " [1] \"cluster_id\"                         \"sample_id\"                         \n",
       " [3] \"group_id\"                           \"nCount_HTO\"                        \n",
       " [5] \"B2_Scanorama_Singlet_cluster\"       \"B2_Scanorama_Singlet_rb_mt_cluster\"\n",
       " [7] \"cell_type_Scanorama\"                \"cluster_cell_type_Scanorama\"       \n",
       " [9] \"classification_measurement\"         \"delta_ef_value_group_measurement\"  \n",
       "[11] \"m_y\"                                \"measurement_y\"                     \n",
       "[13] \"delta_ef_value_group\"               \"delta_ef_value\"                    \n",
       "[15] \"sample_y\"                           \"age\"                               \n",
       "[17] \"sex\"                                \"m_x\"                               \n",
       "[19] \"classification\"                     \"group_y\"                           \n",
       "[21] \"measurement_x\"                      \"sample_x\"                          \n",
       "[23] \"library\"                            \"id\"                                \n",
       "[25] \"read\"                               \"pattern\"                           \n",
       "[27] \"sequence\"                           \"feature_type\"                      \n",
       "[29] \"in_sample\"                          \"display_name\"                      \n",
       "[31] \"group_x\"                            \"library_char\"                      \n",
       "[33] \"ident\"                             "
      ]
     },
     "metadata": {},
     "output_type": "display_data"
    }
   ],
   "source": [
    "names(colData(rna_sce))"
   ]
  },
  {
   "cell_type": "markdown",
   "id": "8f18af27-7161-4ba3-8d5d-d110b129d4ed",
   "metadata": {
    "tags": []
   },
   "source": [
    "## Aggregate single cell to pseudo-bulk data"
   ]
  },
  {
   "cell_type": "code",
   "execution_count": 221,
   "id": "10d3af42-6af3-41e9-8118-728975daad04",
   "metadata": {},
   "outputs": [],
   "source": [
    "### Needs to be executed when filtering conditions are changed!!"
   ]
  },
  {
   "cell_type": "code",
   "execution_count": 222,
   "id": "3fa37159-2094-46fc-ac6f-accb27946589",
   "metadata": {},
   "outputs": [
    {
     "data": {
      "text/plain": [
       "class: SingleCellExperiment \n",
       "dim: 19221 148275 \n",
       "metadata(1): experiment_info\n",
       "assays(2): counts logcounts\n",
       "rownames(19221): AL627309.1 AL627309.4 ... AC004556.1 AC240274.1\n",
       "rowData names(0):\n",
       "colnames(148275): AAACCCACATACAGGG-1-L1 AAACCCACATGACTTG-1-L1 ...\n",
       "  TTTGTTGGTGGACCAA-1-L14 TTTGTTGTCGAAGAAT-1-L14\n",
       "colData names(33): cluster_id sample_id ... library_char ident\n",
       "reducedDimNames(0):\n",
       "mainExpName: RNA\n",
       "altExpNames(0):"
      ]
     },
     "metadata": {},
     "output_type": "display_data"
    }
   ],
   "source": [
    "rna_sce"
   ]
  },
  {
   "cell_type": "code",
   "execution_count": 223,
   "id": "064ce8c9-3ece-40eb-a699-d531215e6f1a",
   "metadata": {},
   "outputs": [],
   "source": [
    "pb <- aggregateData(rna_sce,\n",
    "    assay = \"counts\", fun = \"mean\",\n",
    "    by = c(\"cluster_id\", \"sample_id\"))\n",
    "# one sheet per subpopulation"
   ]
  },
  {
   "cell_type": "code",
   "execution_count": 224,
   "id": "c2d83ac0-dc09-4a77-ba5e-a12470daa79c",
   "metadata": {},
   "outputs": [
    {
     "data": {
      "text/plain": [
       "class: SingleCellExperiment \n",
       "dim: 19221 121 \n",
       "metadata(2): experiment_info agg_pars\n",
       "assays(19): 0_T-cell-CD4 1_T-cell-CD8 ... 8_B-cell 9_Monocytes -\n",
       "  CD16_FCGR3A\n",
       "rownames(19221): AL627309.1 AL627309.4 ... AC004556.1 AC240274.1\n",
       "rowData names(0):\n",
       "colnames(121): 1.1-L1 10-L11 ... 9.2-L4 9.3-L7\n",
       "colData names(26): group_id classification_measurement ... library_char\n",
       "  ident\n",
       "reducedDimNames(0):\n",
       "mainExpName: NULL\n",
       "altExpNames(0):"
      ]
     },
     "metadata": {},
     "output_type": "display_data"
    }
   ],
   "source": [
    "pb"
   ]
  },
  {
   "cell_type": "code",
   "execution_count": 225,
   "id": "d38c711b-9cda-4b99-a3d3-1fbf72732817",
   "metadata": {},
   "outputs": [],
   "source": [
    "#names(colData(pb))"
   ]
  },
  {
   "cell_type": "code",
   "execution_count": 226,
   "id": "0487cfa3-9205-4dc1-8e0f-c267db6d677f",
   "metadata": {},
   "outputs": [],
   "source": [
    "### Save aggregated data"
   ]
  },
  {
   "cell_type": "code",
   "execution_count": 227,
   "id": "da604c00-9b42-46b9-8730-34b739e59c10",
   "metadata": {},
   "outputs": [
    {
     "data": {
      "text/html": [
       "'../data/current/analysis/B/B6_DE_Integrated_Singlet_processed_rna.h5seurat'"
      ],
      "text/latex": [
       "'../data/current/analysis/B/B6\\_DE\\_Integrated\\_Singlet\\_processed\\_rna.h5seurat'"
      ],
      "text/markdown": [
       "'../data/current/analysis/B/B6_DE_Integrated_Singlet_processed_rna.h5seurat'"
      ],
      "text/plain": [
       "[1] \"../data/current/analysis/B/B6_DE_Integrated_Singlet_processed_rna.h5seurat\""
      ]
     },
     "metadata": {},
     "output_type": "display_data"
    }
   ],
   "source": [
    "source_text"
   ]
  },
  {
   "cell_type": "code",
   "execution_count": 228,
   "id": "030e3218-8000-4cc0-85ff-75e05428cf52",
   "metadata": {},
   "outputs": [],
   "source": [
    "save(  pb , file = paste0(result_path, '/C-Analysis/C0_aggregated_RNA_input_correlations_all.RDS'))"
   ]
  },
  {
   "cell_type": "code",
   "execution_count": 229,
   "id": "d55b028d-4e84-44d2-98bd-4599be065efa",
   "metadata": {},
   "outputs": [],
   "source": [
    "# save(  pb , file = paste0(result_path, '/C-Analysis/C0_aggregated_RNA_input_correlations_all_Scanorama_MOFA.RDS'))\n",
    "# save(  pb , file = paste0(result_path, '/C-Analysis/C0_aggregated_RNA_input_correlations_all_Scanorama.RDS')) \n",
    "# save(  pb , file = paste0(result_path, '/C-Analysis/C0_aggregated_RNA_input_correlations_all_Scanorama_feb.RDS')) \n",
    "#save(  pb , file = paste0(result_path, '/C-Analysis/C0_aggregated_RNA_input_correlations_sum.RDS')) \n",
    "# save(  pb , file = paste0(result_path, '/C-Analysis/C0_aggregated_RNA_input_correlations_all_Scanorama_MOFA_knn_30.RDS')) \n",
    "# save(  pb , file = paste0(result_path, '/C-Analysis/C0_aggregated_RNA_input_correlations_all_Scanorama_MOFA_knn_10.RDS')) \n",
    "#save(  pb , file = paste0(result_path, '/C-Analysis/C0_aggregated_RNA_input_correlations_', cluster_column, '.RDS'))"
   ]
  },
  {
   "cell_type": "code",
   "execution_count": 230,
   "id": "cff64e56-343e-45b4-b0ef-e94d3d8c8b40",
   "metadata": {},
   "outputs": [
    {
     "data": {
      "text/html": [
       "<style>\n",
       ".dl-inline {width: auto; margin:0; padding: 0}\n",
       ".dl-inline>dt, .dl-inline>dd {float: none; width: auto; display: inline-block}\n",
       ".dl-inline>dt::after {content: \":\\0020\"; padding-right: .5ex}\n",
       ".dl-inline>dt:not(:first-of-type) {padding-left: .5ex}\n",
       "</style><dl class=dl-inline><dt>AL627309.1</dt><dd>0.135042928691625</dd><dt>AL627309.4</dt><dd>0.120418343613258</dd><dt>AL669831.5</dt><dd>5.15396341211745</dd><dt>FAM87B</dt><dd>0.0812306633133107</dd><dt>LINC00115</dt><dd>1.20562972816987</dd><dt>FAM41C</dt><dd>1.57305053391891</dd></dl>\n"
      ],
      "text/latex": [
       "\\begin{description*}\n",
       "\\item[AL627309.1] 0.135042928691625\n",
       "\\item[AL627309.4] 0.120418343613258\n",
       "\\item[AL669831.5] 5.15396341211745\n",
       "\\item[FAM87B] 0.0812306633133107\n",
       "\\item[LINC00115] 1.20562972816987\n",
       "\\item[FAM41C] 1.57305053391891\n",
       "\\end{description*}\n"
      ],
      "text/markdown": [
       "AL627309.1\n",
       ":   0.135042928691625AL627309.4\n",
       ":   0.120418343613258AL669831.5\n",
       ":   5.15396341211745FAM87B\n",
       ":   0.0812306633133107LINC00115\n",
       ":   1.20562972816987FAM41C\n",
       ":   1.57305053391891\n",
       "\n"
      ],
      "text/plain": [
       "AL627309.1 AL627309.4 AL669831.5     FAM87B  LINC00115     FAM41C \n",
       "0.13504293 0.12041834 5.15396341 0.08123066 1.20562973 1.57305053 "
      ]
     },
     "metadata": {},
     "output_type": "display_data"
    }
   ],
   "source": [
    "head(rowSums(assay(pb, '0_T-cell-CD4')))"
   ]
  },
  {
   "cell_type": "code",
   "execution_count": 231,
   "id": "7274c6d9-4e54-481d-a10b-f68d2cf87016",
   "metadata": {},
   "outputs": [
    {
     "data": {
      "text/html": [
       "<table class=\"dataframe\">\n",
       "<caption>A matrix: 6 × 121 of type dbl</caption>\n",
       "<thead>\n",
       "\t<tr><th></th><th scope=col>1.1-L1</th><th scope=col>10-L11</th><th scope=col>10.2-L4</th><th scope=col>10.3-L9</th><th scope=col>11-L13</th><th scope=col>11.2-L5</th><th scope=col>11.3-L7</th><th scope=col>11.4-L10</th><th scope=col>12-L13</th><th scope=col>12.1-L2</th><th scope=col>⋯</th><th scope=col>7.4-L10</th><th scope=col>8-L11</th><th scope=col>8.1-L1</th><th scope=col>8.2-L4</th><th scope=col>8.3-L7</th><th scope=col>8.4-L10</th><th scope=col>9-L13</th><th scope=col>9.1-L1</th><th scope=col>9.2-L4</th><th scope=col>9.3-L7</th></tr>\n",
       "</thead>\n",
       "<tbody>\n",
       "\t<tr><th scope=row>AL627309.1</th><td>0.002512563</td><td>0.00000000</td><td>0.000000000</td><td>0.00000000</td><td>0.00000000</td><td>0.000000000</td><td>0.00000000</td><td>0.000000000</td><td>0.00</td><td>0.01075269</td><td>⋯</td><td>0.00000000</td><td>0.00000000</td><td>0.000000000</td><td>0.000000000</td><td>0.000000000</td><td>0.00000000</td><td>0.000000000</td><td>0.003676471</td><td>0.001152074</td><td>0.000000000</td></tr>\n",
       "\t<tr><th scope=row>AL627309.4</th><td>0.000000000</td><td>0.00000000</td><td>0.006410256</td><td>0.00000000</td><td>0.00000000</td><td>0.004716981</td><td>0.00000000</td><td>0.000000000</td><td>0.00</td><td>0.00000000</td><td>⋯</td><td>0.00000000</td><td>0.00000000</td><td>0.003367003</td><td>0.000000000</td><td>0.000000000</td><td>0.00000000</td><td>0.002298851</td><td>0.000000000</td><td>0.003456221</td><td>0.000000000</td></tr>\n",
       "\t<tr><th scope=row>AL669831.5</th><td>0.047738693</td><td>0.03652968</td><td>0.032051282</td><td>0.07772021</td><td>0.03614458</td><td>0.042452830</td><td>0.01652893</td><td>0.058823529</td><td>0.08</td><td>0.02150538</td><td>⋯</td><td>0.04629630</td><td>0.02020202</td><td>0.050505051</td><td>0.058091286</td><td>0.043650794</td><td>0.04081633</td><td>0.041379310</td><td>0.025735294</td><td>0.024193548</td><td>0.032258065</td></tr>\n",
       "\t<tr><th scope=row>FAM87B</th><td>0.000000000</td><td>0.00000000</td><td>0.000000000</td><td>0.00000000</td><td>0.01204819</td><td>0.000000000</td><td>0.00000000</td><td>0.000000000</td><td>0.00</td><td>0.00000000</td><td>⋯</td><td>0.00000000</td><td>0.00000000</td><td>0.006734007</td><td>0.000000000</td><td>0.000000000</td><td>0.00000000</td><td>0.000000000</td><td>0.000000000</td><td>0.000000000</td><td>0.002481390</td></tr>\n",
       "\t<tr><th scope=row>LINC00115</th><td>0.015075377</td><td>0.00456621</td><td>0.000000000</td><td>0.01554404</td><td>0.03614458</td><td>0.009433962</td><td>0.00000000</td><td>0.008403361</td><td>0.00</td><td>0.02150538</td><td>⋯</td><td>0.03703704</td><td>0.00000000</td><td>0.003367003</td><td>0.008298755</td><td>0.003968254</td><td>0.00000000</td><td>0.004597701</td><td>0.009191176</td><td>0.008064516</td><td>0.000000000</td></tr>\n",
       "\t<tr><th scope=row>FAM41C</th><td>0.017587940</td><td>0.01369863</td><td>0.019230769</td><td>0.03108808</td><td>0.02409639</td><td>0.000000000</td><td>0.00000000</td><td>0.000000000</td><td>0.00</td><td>0.00000000</td><td>⋯</td><td>0.00000000</td><td>0.02020202</td><td>0.026936027</td><td>0.020746888</td><td>0.007936508</td><td>0.01020408</td><td>0.009195402</td><td>0.012867647</td><td>0.005760369</td><td>0.009925558</td></tr>\n",
       "</tbody>\n",
       "</table>\n"
      ],
      "text/latex": [
       "A matrix: 6 × 121 of type dbl\n",
       "\\begin{tabular}{r|lllllllllllllllllllll}\n",
       "  & 1.1-L1 & 10-L11 & 10.2-L4 & 10.3-L9 & 11-L13 & 11.2-L5 & 11.3-L7 & 11.4-L10 & 12-L13 & 12.1-L2 & ⋯ & 7.4-L10 & 8-L11 & 8.1-L1 & 8.2-L4 & 8.3-L7 & 8.4-L10 & 9-L13 & 9.1-L1 & 9.2-L4 & 9.3-L7\\\\\n",
       "\\hline\n",
       "\tAL627309.1 & 0.002512563 & 0.00000000 & 0.000000000 & 0.00000000 & 0.00000000 & 0.000000000 & 0.00000000 & 0.000000000 & 0.00 & 0.01075269 & ⋯ & 0.00000000 & 0.00000000 & 0.000000000 & 0.000000000 & 0.000000000 & 0.00000000 & 0.000000000 & 0.003676471 & 0.001152074 & 0.000000000\\\\\n",
       "\tAL627309.4 & 0.000000000 & 0.00000000 & 0.006410256 & 0.00000000 & 0.00000000 & 0.004716981 & 0.00000000 & 0.000000000 & 0.00 & 0.00000000 & ⋯ & 0.00000000 & 0.00000000 & 0.003367003 & 0.000000000 & 0.000000000 & 0.00000000 & 0.002298851 & 0.000000000 & 0.003456221 & 0.000000000\\\\\n",
       "\tAL669831.5 & 0.047738693 & 0.03652968 & 0.032051282 & 0.07772021 & 0.03614458 & 0.042452830 & 0.01652893 & 0.058823529 & 0.08 & 0.02150538 & ⋯ & 0.04629630 & 0.02020202 & 0.050505051 & 0.058091286 & 0.043650794 & 0.04081633 & 0.041379310 & 0.025735294 & 0.024193548 & 0.032258065\\\\\n",
       "\tFAM87B & 0.000000000 & 0.00000000 & 0.000000000 & 0.00000000 & 0.01204819 & 0.000000000 & 0.00000000 & 0.000000000 & 0.00 & 0.00000000 & ⋯ & 0.00000000 & 0.00000000 & 0.006734007 & 0.000000000 & 0.000000000 & 0.00000000 & 0.000000000 & 0.000000000 & 0.000000000 & 0.002481390\\\\\n",
       "\tLINC00115 & 0.015075377 & 0.00456621 & 0.000000000 & 0.01554404 & 0.03614458 & 0.009433962 & 0.00000000 & 0.008403361 & 0.00 & 0.02150538 & ⋯ & 0.03703704 & 0.00000000 & 0.003367003 & 0.008298755 & 0.003968254 & 0.00000000 & 0.004597701 & 0.009191176 & 0.008064516 & 0.000000000\\\\\n",
       "\tFAM41C & 0.017587940 & 0.01369863 & 0.019230769 & 0.03108808 & 0.02409639 & 0.000000000 & 0.00000000 & 0.000000000 & 0.00 & 0.00000000 & ⋯ & 0.00000000 & 0.02020202 & 0.026936027 & 0.020746888 & 0.007936508 & 0.01020408 & 0.009195402 & 0.012867647 & 0.005760369 & 0.009925558\\\\\n",
       "\\end{tabular}\n"
      ],
      "text/markdown": [
       "\n",
       "A matrix: 6 × 121 of type dbl\n",
       "\n",
       "| <!--/--> | 1.1-L1 | 10-L11 | 10.2-L4 | 10.3-L9 | 11-L13 | 11.2-L5 | 11.3-L7 | 11.4-L10 | 12-L13 | 12.1-L2 | ⋯ | 7.4-L10 | 8-L11 | 8.1-L1 | 8.2-L4 | 8.3-L7 | 8.4-L10 | 9-L13 | 9.1-L1 | 9.2-L4 | 9.3-L7 |\n",
       "|---|---|---|---|---|---|---|---|---|---|---|---|---|---|---|---|---|---|---|---|---|---|\n",
       "| AL627309.1 | 0.002512563 | 0.00000000 | 0.000000000 | 0.00000000 | 0.00000000 | 0.000000000 | 0.00000000 | 0.000000000 | 0.00 | 0.01075269 | ⋯ | 0.00000000 | 0.00000000 | 0.000000000 | 0.000000000 | 0.000000000 | 0.00000000 | 0.000000000 | 0.003676471 | 0.001152074 | 0.000000000 |\n",
       "| AL627309.4 | 0.000000000 | 0.00000000 | 0.006410256 | 0.00000000 | 0.00000000 | 0.004716981 | 0.00000000 | 0.000000000 | 0.00 | 0.00000000 | ⋯ | 0.00000000 | 0.00000000 | 0.003367003 | 0.000000000 | 0.000000000 | 0.00000000 | 0.002298851 | 0.000000000 | 0.003456221 | 0.000000000 |\n",
       "| AL669831.5 | 0.047738693 | 0.03652968 | 0.032051282 | 0.07772021 | 0.03614458 | 0.042452830 | 0.01652893 | 0.058823529 | 0.08 | 0.02150538 | ⋯ | 0.04629630 | 0.02020202 | 0.050505051 | 0.058091286 | 0.043650794 | 0.04081633 | 0.041379310 | 0.025735294 | 0.024193548 | 0.032258065 |\n",
       "| FAM87B | 0.000000000 | 0.00000000 | 0.000000000 | 0.00000000 | 0.01204819 | 0.000000000 | 0.00000000 | 0.000000000 | 0.00 | 0.00000000 | ⋯ | 0.00000000 | 0.00000000 | 0.006734007 | 0.000000000 | 0.000000000 | 0.00000000 | 0.000000000 | 0.000000000 | 0.000000000 | 0.002481390 |\n",
       "| LINC00115 | 0.015075377 | 0.00456621 | 0.000000000 | 0.01554404 | 0.03614458 | 0.009433962 | 0.00000000 | 0.008403361 | 0.00 | 0.02150538 | ⋯ | 0.03703704 | 0.00000000 | 0.003367003 | 0.008298755 | 0.003968254 | 0.00000000 | 0.004597701 | 0.009191176 | 0.008064516 | 0.000000000 |\n",
       "| FAM41C | 0.017587940 | 0.01369863 | 0.019230769 | 0.03108808 | 0.02409639 | 0.000000000 | 0.00000000 | 0.000000000 | 0.00 | 0.00000000 | ⋯ | 0.00000000 | 0.02020202 | 0.026936027 | 0.020746888 | 0.007936508 | 0.01020408 | 0.009195402 | 0.012867647 | 0.005760369 | 0.009925558 |\n",
       "\n"
      ],
      "text/plain": [
       "           1.1-L1      10-L11     10.2-L4     10.3-L9    11-L13     11.2-L5    \n",
       "AL627309.1 0.002512563 0.00000000 0.000000000 0.00000000 0.00000000 0.000000000\n",
       "AL627309.4 0.000000000 0.00000000 0.006410256 0.00000000 0.00000000 0.004716981\n",
       "AL669831.5 0.047738693 0.03652968 0.032051282 0.07772021 0.03614458 0.042452830\n",
       "FAM87B     0.000000000 0.00000000 0.000000000 0.00000000 0.01204819 0.000000000\n",
       "LINC00115  0.015075377 0.00456621 0.000000000 0.01554404 0.03614458 0.009433962\n",
       "FAM41C     0.017587940 0.01369863 0.019230769 0.03108808 0.02409639 0.000000000\n",
       "           11.3-L7    11.4-L10    12-L13 12.1-L2    ⋯ 7.4-L10    8-L11     \n",
       "AL627309.1 0.00000000 0.000000000 0.00   0.01075269 ⋯ 0.00000000 0.00000000\n",
       "AL627309.4 0.00000000 0.000000000 0.00   0.00000000 ⋯ 0.00000000 0.00000000\n",
       "AL669831.5 0.01652893 0.058823529 0.08   0.02150538 ⋯ 0.04629630 0.02020202\n",
       "FAM87B     0.00000000 0.000000000 0.00   0.00000000 ⋯ 0.00000000 0.00000000\n",
       "LINC00115  0.00000000 0.008403361 0.00   0.02150538 ⋯ 0.03703704 0.00000000\n",
       "FAM41C     0.00000000 0.000000000 0.00   0.00000000 ⋯ 0.00000000 0.02020202\n",
       "           8.1-L1      8.2-L4      8.3-L7      8.4-L10    9-L13      \n",
       "AL627309.1 0.000000000 0.000000000 0.000000000 0.00000000 0.000000000\n",
       "AL627309.4 0.003367003 0.000000000 0.000000000 0.00000000 0.002298851\n",
       "AL669831.5 0.050505051 0.058091286 0.043650794 0.04081633 0.041379310\n",
       "FAM87B     0.006734007 0.000000000 0.000000000 0.00000000 0.000000000\n",
       "LINC00115  0.003367003 0.008298755 0.003968254 0.00000000 0.004597701\n",
       "FAM41C     0.026936027 0.020746888 0.007936508 0.01020408 0.009195402\n",
       "           9.1-L1      9.2-L4      9.3-L7     \n",
       "AL627309.1 0.003676471 0.001152074 0.000000000\n",
       "AL627309.4 0.000000000 0.003456221 0.000000000\n",
       "AL669831.5 0.025735294 0.024193548 0.032258065\n",
       "FAM87B     0.000000000 0.000000000 0.002481390\n",
       "LINC00115  0.009191176 0.008064516 0.000000000\n",
       "FAM41C     0.012867647 0.005760369 0.009925558"
      ]
     },
     "metadata": {},
     "output_type": "display_data"
    }
   ],
   "source": [
    "head(assay(pb, '0_T-cell-CD4'))"
   ]
  },
  {
   "cell_type": "code",
   "execution_count": null,
   "id": "bc6493c1-b204-4252-9ccc-8358b1f701d6",
   "metadata": {},
   "outputs": [],
   "source": []
  },
  {
   "cell_type": "code",
   "execution_count": null,
   "id": "59766da0-9ccc-42d9-b162-bfe05ba5ac98",
   "metadata": {},
   "outputs": [],
   "source": []
  }
 ],
 "metadata": {
  "kernelspec": {
   "display_name": "R",
   "language": "R",
   "name": "ir"
  },
  "language_info": {
   "codemirror_mode": "r",
   "file_extension": ".r",
   "mimetype": "text/x-r-source",
   "name": "R",
   "pygments_lexer": "r",
   "version": "4.1.1"
  },
  "toc-autonumbering": true,
  "toc-showcode": false,
  "toc-showmarkdowntxt": false,
  "toc-showtags": false
 },
 "nbformat": 4,
 "nbformat_minor": 5
}
